{
 "cells": [
  {
   "cell_type": "markdown",
   "metadata": {},
   "source": [
    "# Demo for the DoWhy causal API\n",
    "We show a simple example of adding a causal extension to any dataframe. "
   ]
  },
  {
   "cell_type": "code",
   "execution_count": 1,
   "metadata": {
    "execution": {
     "iopub.execute_input": "2023-12-06T08:43:30.894365Z",
     "iopub.status.busy": "2023-12-06T08:43:30.894186Z",
     "iopub.status.idle": "2023-12-06T08:43:32.300963Z",
     "shell.execute_reply": "2023-12-06T08:43:32.300260Z"
    }
   },
   "outputs": [],
   "source": [
    "import dowhy.datasets\n",
    "import dowhy.api\n",
    "from dowhy.graph import build_graph_from_str\n",
    "\n",
    "import numpy as np\n",
    "import pandas as pd\n",
    "\n",
    "from statsmodels.api import OLS"
   ]
  },
  {
   "cell_type": "code",
   "execution_count": 2,
   "metadata": {
    "execution": {
     "iopub.execute_input": "2023-12-06T08:43:32.303847Z",
     "iopub.status.busy": "2023-12-06T08:43:32.303519Z",
     "iopub.status.idle": "2023-12-06T08:43:32.341175Z",
     "shell.execute_reply": "2023-12-06T08:43:32.340608Z"
    }
   },
   "outputs": [
    {
     "data": {
      "text/html": [
       "<div>\n",
       "<style scoped>\n",
       "    .dataframe tbody tr th:only-of-type {\n",
       "        vertical-align: middle;\n",
       "    }\n",
       "\n",
       "    .dataframe tbody tr th {\n",
       "        vertical-align: top;\n",
       "    }\n",
       "\n",
       "    .dataframe thead th {\n",
       "        text-align: right;\n",
       "    }\n",
       "</style>\n",
       "<table border=\"1\" class=\"dataframe\">\n",
       "  <thead>\n",
       "    <tr style=\"text-align: right;\">\n",
       "      <th></th>\n",
       "      <th>W0</th>\n",
       "      <th>v0</th>\n",
       "      <th>y</th>\n",
       "    </tr>\n",
       "  </thead>\n",
       "  <tbody>\n",
       "    <tr>\n",
       "      <th>0</th>\n",
       "      <td>-0.330622</td>\n",
       "      <td>False</td>\n",
       "      <td>0.887729</td>\n",
       "    </tr>\n",
       "    <tr>\n",
       "      <th>1</th>\n",
       "      <td>-0.691849</td>\n",
       "      <td>False</td>\n",
       "      <td>-1.118670</td>\n",
       "    </tr>\n",
       "    <tr>\n",
       "      <th>2</th>\n",
       "      <td>0.193915</td>\n",
       "      <td>False</td>\n",
       "      <td>-0.966624</td>\n",
       "    </tr>\n",
       "    <tr>\n",
       "      <th>3</th>\n",
       "      <td>-0.535931</td>\n",
       "      <td>True</td>\n",
       "      <td>2.642023</td>\n",
       "    </tr>\n",
       "    <tr>\n",
       "      <th>4</th>\n",
       "      <td>2.334936</td>\n",
       "      <td>True</td>\n",
       "      <td>7.962068</td>\n",
       "    </tr>\n",
       "    <tr>\n",
       "      <th>...</th>\n",
       "      <td>...</td>\n",
       "      <td>...</td>\n",
       "      <td>...</td>\n",
       "    </tr>\n",
       "    <tr>\n",
       "      <th>995</th>\n",
       "      <td>0.339981</td>\n",
       "      <td>False</td>\n",
       "      <td>-0.948675</td>\n",
       "    </tr>\n",
       "    <tr>\n",
       "      <th>996</th>\n",
       "      <td>-0.919134</td>\n",
       "      <td>False</td>\n",
       "      <td>0.069790</td>\n",
       "    </tr>\n",
       "    <tr>\n",
       "      <th>997</th>\n",
       "      <td>-1.140944</td>\n",
       "      <td>False</td>\n",
       "      <td>-0.716580</td>\n",
       "    </tr>\n",
       "    <tr>\n",
       "      <th>998</th>\n",
       "      <td>0.352853</td>\n",
       "      <td>True</td>\n",
       "      <td>4.586724</td>\n",
       "    </tr>\n",
       "    <tr>\n",
       "      <th>999</th>\n",
       "      <td>-0.983083</td>\n",
       "      <td>True</td>\n",
       "      <td>6.705248</td>\n",
       "    </tr>\n",
       "  </tbody>\n",
       "</table>\n",
       "<p>1000 rows × 3 columns</p>\n",
       "</div>"
      ],
      "text/plain": [
       "           W0     v0         y\n",
       "0   -0.330622  False  0.887729\n",
       "1   -0.691849  False -1.118670\n",
       "2    0.193915  False -0.966624\n",
       "3   -0.535931   True  2.642023\n",
       "4    2.334936   True  7.962068\n",
       "..        ...    ...       ...\n",
       "995  0.339981  False -0.948675\n",
       "996 -0.919134  False  0.069790\n",
       "997 -1.140944  False -0.716580\n",
       "998  0.352853   True  4.586724\n",
       "999 -0.983083   True  6.705248\n",
       "\n",
       "[1000 rows x 3 columns]"
      ]
     },
     "execution_count": 2,
     "metadata": {},
     "output_type": "execute_result"
    }
   ],
   "source": [
    "data = dowhy.datasets.linear_dataset(beta=5,\n",
    "        num_common_causes=1,\n",
    "        num_instruments = 0,\n",
    "        num_samples=1000,\n",
    "        treatment_is_binary=True)\n",
    "df = data['df']\n",
    "df['y'] = df['y'] + np.random.normal(size=len(df)) # Adding noise to data. Without noise, the variance in Y|X, Z is zero, and mcmc fails.\n",
    "nx_graph = build_graph_from_str(data[\"dot_graph\"])\n",
    "\n",
    "treatment= data[\"treatment_name\"][0]\n",
    "outcome = data[\"outcome_name\"][0]\n",
    "common_cause = data[\"common_causes_names\"][0]\n",
    "df"
   ]
  },
  {
   "cell_type": "code",
   "execution_count": 3,
   "metadata": {
    "execution": {
     "iopub.execute_input": "2023-12-06T08:43:32.343552Z",
     "iopub.status.busy": "2023-12-06T08:43:32.343193Z",
     "iopub.status.idle": "2023-12-06T08:43:32.521019Z",
     "shell.execute_reply": "2023-12-06T08:43:32.520388Z"
    },
    "scrolled": true
   },
   "outputs": [
    {
     "data": {
      "text/plain": [
       "<Axes: xlabel='v0'>"
      ]
     },
     "execution_count": 3,
     "metadata": {},
     "output_type": "execute_result"
    },
    {
     "data": {
      "image/png": "[encoded data removed]",
      "text/plain": [
       "<Figure size 640x480 with 1 Axes>"
      ]
     },
     "metadata": {},
     "output_type": "display_data"
    }
   ],
   "source": [
    "# data['df'] is just a regular pandas.DataFrame\n",
    "df.causal.do(x=treatment,\n",
    "             variable_types={treatment: 'b', outcome: 'c', common_cause: 'c'},\n",
    "             outcome=outcome,\n",
    "             common_causes=[common_cause],\n",
    "            ).groupby(treatment).mean().plot(y=outcome, kind='bar')"
   ]
  },
  {
   "cell_type": "code",
   "execution_count": 4,
   "metadata": {
    "execution": {
     "iopub.execute_input": "2023-12-06T08:43:32.523502Z",
     "iopub.status.busy": "2023-12-06T08:43:32.523142Z",
     "iopub.status.idle": "2023-12-06T08:43:32.656449Z",
     "shell.execute_reply": "2023-12-06T08:43:32.655813Z"
    }
   },
   "outputs": [
    {
     "data": {
      "text/plain": [
       "<Axes: xlabel='v0'>"
      ]
     },
     "execution_count": 4,
     "metadata": {},
     "output_type": "execute_result"
    },
    {
     "data": {
      "image/png": "[encoded data removed]",
      "text/plain": [
       "<Figure size 640x480 with 1 Axes>"
      ]
     },
     "metadata": {},
     "output_type": "display_data"
    }
   ],
   "source": [
    "df.causal.do(x={treatment: 1}, \n",
    "              variable_types={treatment:'b', outcome: 'c', common_cause: 'c'}, \n",
    "              outcome=outcome,\n",
    "              method='weighting', \n",
    "              common_causes=[common_cause]\n",
    "              ).groupby(treatment).mean().plot(y=outcome, kind='bar')"
   ]
  },
  {
   "cell_type": "code",
   "execution_count": 5,
   "metadata": {
    "execution": {
     "iopub.execute_input": "2023-12-06T08:43:32.659226Z",
     "iopub.status.busy": "2023-12-06T08:43:32.658890Z",
     "iopub.status.idle": "2023-12-06T08:43:32.681007Z",
     "shell.execute_reply": "2023-12-06T08:43:32.680405Z"
    }
   },
   "outputs": [],
   "source": [
    "cdf_1 = df.causal.do(x={treatment: 1}, \n",
    "              variable_types={treatment: 'b', outcome: 'c', common_cause: 'c'}, \n",
    "              outcome=outcome, \n",
    "              graph=nx_graph\n",
    "              )\n",
    "\n",
    "cdf_0 = df.causal.do(x={treatment: 0}, \n",
    "              variable_types={treatment: 'b', outcome: 'c', common_cause: 'c'}, \n",
    "              outcome=outcome, \n",
    "              graph=nx_graph\n",
    "              )\n"
   ]
  },
  {
   "cell_type": "code",
   "execution_count": 6,
   "metadata": {
    "execution": {
     "iopub.execute_input": "2023-12-06T08:43:32.683784Z",
     "iopub.status.busy": "2023-12-06T08:43:32.683362Z",
     "iopub.status.idle": "2023-12-06T08:43:32.694304Z",
     "shell.execute_reply": "2023-12-06T08:43:32.693762Z"
    },
    "scrolled": true
   },
   "outputs": [
    {
     "data": {
      "text/html": [
       "<div>\n",
       "<style scoped>\n",
       "    .dataframe tbody tr th:only-of-type {\n",
       "        vertical-align: middle;\n",
       "    }\n",
       "\n",
       "    .dataframe tbody tr th {\n",
       "        vertical-align: top;\n",
       "    }\n",
       "\n",
       "    .dataframe thead th {\n",
       "        text-align: right;\n",
       "    }\n",
       "</style>\n",
       "<table border=\"1\" class=\"dataframe\">\n",
       "  <thead>\n",
       "    <tr style=\"text-align: right;\">\n",
       "      <th></th>\n",
       "      <th>W0</th>\n",
       "      <th>v0</th>\n",
       "      <th>y</th>\n",
       "      <th>propensity_score</th>\n",
       "      <th>weight</th>\n",
       "    </tr>\n",
       "  </thead>\n",
       "  <tbody>\n",
       "    <tr>\n",
       "      <th>0</th>\n",
       "      <td>-0.416171</td>\n",
       "      <td>False</td>\n",
       "      <td>-1.103170</td>\n",
       "      <td>0.587029</td>\n",
       "      <td>1.703494</td>\n",
       "    </tr>\n",
       "    <tr>\n",
       "      <th>1</th>\n",
       "      <td>1.020597</td>\n",
       "      <td>False</td>\n",
       "      <td>1.610446</td>\n",
       "      <td>0.256853</td>\n",
       "      <td>3.893284</td>\n",
       "    </tr>\n",
       "    <tr>\n",
       "      <th>2</th>\n",
       "      <td>0.289512</td>\n",
       "      <td>False</td>\n",
       "      <td>1.261112</td>\n",
       "      <td>0.415118</td>\n",
       "      <td>2.408955</td>\n",
       "    </tr>\n",
       "    <tr>\n",
       "      <th>3</th>\n",
       "      <td>-0.807504</td>\n",
       "      <td>False</td>\n",
       "      <td>-1.508775</td>\n",
       "      <td>0.676307</td>\n",
       "      <td>1.478619</td>\n",
       "    </tr>\n",
       "    <tr>\n",
       "      <th>4</th>\n",
       "      <td>-0.127578</td>\n",
       "      <td>False</td>\n",
       "      <td>0.523608</td>\n",
       "      <td>0.516908</td>\n",
       "      <td>1.934579</td>\n",
       "    </tr>\n",
       "    <tr>\n",
       "      <th>...</th>\n",
       "      <td>...</td>\n",
       "      <td>...</td>\n",
       "      <td>...</td>\n",
       "      <td>...</td>\n",
       "      <td>...</td>\n",
       "    </tr>\n",
       "    <tr>\n",
       "      <th>995</th>\n",
       "      <td>0.193915</td>\n",
       "      <td>False</td>\n",
       "      <td>-0.966624</td>\n",
       "      <td>0.438129</td>\n",
       "      <td>2.282434</td>\n",
       "    </tr>\n",
       "    <tr>\n",
       "      <th>996</th>\n",
       "      <td>-0.663361</td>\n",
       "      <td>False</td>\n",
       "      <td>-1.209901</td>\n",
       "      <td>0.644508</td>\n",
       "      <td>1.551571</td>\n",
       "    </tr>\n",
       "    <tr>\n",
       "      <th>997</th>\n",
       "      <td>0.507649</td>\n",
       "      <td>False</td>\n",
       "      <td>-0.926918</td>\n",
       "      <td>0.364117</td>\n",
       "      <td>2.746373</td>\n",
       "    </tr>\n",
       "    <tr>\n",
       "      <th>998</th>\n",
       "      <td>1.261393</td>\n",
       "      <td>False</td>\n",
       "      <td>0.781840</td>\n",
       "      <td>0.214268</td>\n",
       "      <td>4.667049</td>\n",
       "    </tr>\n",
       "    <tr>\n",
       "      <th>999</th>\n",
       "      <td>-1.187408</td>\n",
       "      <td>False</td>\n",
       "      <td>-1.447086</td>\n",
       "      <td>0.752270</td>\n",
       "      <td>1.329309</td>\n",
       "    </tr>\n",
       "  </tbody>\n",
       "</table>\n",
       "<p>1000 rows × 5 columns</p>\n",
       "</div>"
      ],
      "text/plain": [
       "           W0     v0         y  propensity_score    weight\n",
       "0   -0.416171  False -1.103170          0.587029  1.703494\n",
       "1    1.020597  False  1.610446          0.256853  3.893284\n",
       "2    0.289512  False  1.261112          0.415118  2.408955\n",
       "3   -0.807504  False -1.508775          0.676307  1.478619\n",
       "4   -0.127578  False  0.523608          0.516908  1.934579\n",
       "..        ...    ...       ...               ...       ...\n",
       "995  0.193915  False -0.966624          0.438129  2.282434\n",
       "996 -0.663361  False -1.209901          0.644508  1.551571\n",
       "997  0.507649  False -0.926918          0.364117  2.746373\n",
       "998  1.261393  False  0.781840          0.214268  4.667049\n",
       "999 -1.187408  False -1.447086          0.752270  1.329309\n",
       "\n",
       "[1000 rows x 5 columns]"
      ]
     },
     "execution_count": 6,
     "metadata": {},
     "output_type": "execute_result"
    }
   ],
   "source": [
    "cdf_0"
   ]
  },
  {
   "cell_type": "code",
   "execution_count": 7,
   "metadata": {
    "execution": {
     "iopub.execute_input": "2023-12-06T08:43:32.696646Z",
     "iopub.status.busy": "2023-12-06T08:43:32.696166Z",
     "iopub.status.idle": "2023-12-06T08:43:32.704688Z",
     "shell.execute_reply": "2023-12-06T08:43:32.704158Z"
    }
   },
   "outputs": [
    {
     "data": {
      "text/html": [
       "<div>\n",
       "<style scoped>\n",
       "    .dataframe tbody tr th:only-of-type {\n",
       "        vertical-align: middle;\n",
       "    }\n",
       "\n",
       "    .dataframe tbody tr th {\n",
       "        vertical-align: top;\n",
       "    }\n",
       "\n",
       "    .dataframe thead th {\n",
       "        text-align: right;\n",
       "    }\n",
       "</style>\n",
       "<table border=\"1\" class=\"dataframe\">\n",
       "  <thead>\n",
       "    <tr style=\"text-align: right;\">\n",
       "      <th></th>\n",
       "      <th>W0</th>\n",
       "      <th>v0</th>\n",
       "      <th>y</th>\n",
       "      <th>propensity_score</th>\n",
       "      <th>weight</th>\n",
       "    </tr>\n",
       "  </thead>\n",
       "  <tbody>\n",
       "    <tr>\n",
       "      <th>0</th>\n",
       "      <td>-1.096630</td>\n",
       "      <td>True</td>\n",
       "      <td>1.579037</td>\n",
       "      <td>0.264752</td>\n",
       "      <td>3.777119</td>\n",
       "    </tr>\n",
       "    <tr>\n",
       "      <th>1</th>\n",
       "      <td>0.883869</td>\n",
       "      <td>True</td>\n",
       "      <td>6.774463</td>\n",
       "      <td>0.716633</td>\n",
       "      <td>1.395414</td>\n",
       "    </tr>\n",
       "    <tr>\n",
       "      <th>2</th>\n",
       "      <td>-1.335124</td>\n",
       "      <td>True</td>\n",
       "      <td>2.590650</td>\n",
       "      <td>0.221639</td>\n",
       "      <td>4.511850</td>\n",
       "    </tr>\n",
       "    <tr>\n",
       "      <th>3</th>\n",
       "      <td>-1.064736</td>\n",
       "      <td>True</td>\n",
       "      <td>4.180466</td>\n",
       "      <td>0.270908</td>\n",
       "      <td>3.691296</td>\n",
       "    </tr>\n",
       "    <tr>\n",
       "      <th>4</th>\n",
       "      <td>-0.712749</td>\n",
       "      <td>True</td>\n",
       "      <td>2.574438</td>\n",
       "      <td>0.344435</td>\n",
       "      <td>2.903306</td>\n",
       "    </tr>\n",
       "    <tr>\n",
       "      <th>...</th>\n",
       "      <td>...</td>\n",
       "      <td>...</td>\n",
       "      <td>...</td>\n",
       "      <td>...</td>\n",
       "      <td>...</td>\n",
       "    </tr>\n",
       "    <tr>\n",
       "      <th>995</th>\n",
       "      <td>-0.394069</td>\n",
       "      <td>True</td>\n",
       "      <td>4.852584</td>\n",
       "      <td>0.418255</td>\n",
       "      <td>2.390889</td>\n",
       "    </tr>\n",
       "    <tr>\n",
       "      <th>996</th>\n",
       "      <td>-2.109866</td>\n",
       "      <td>True</td>\n",
       "      <td>-0.132723</td>\n",
       "      <td>0.117258</td>\n",
       "      <td>8.528192</td>\n",
       "    </tr>\n",
       "    <tr>\n",
       "      <th>997</th>\n",
       "      <td>1.342959</td>\n",
       "      <td>True</td>\n",
       "      <td>7.022089</td>\n",
       "      <td>0.798937</td>\n",
       "      <td>1.251663</td>\n",
       "    </tr>\n",
       "    <tr>\n",
       "      <th>998</th>\n",
       "      <td>0.263952</td>\n",
       "      <td>True</td>\n",
       "      <td>3.750980</td>\n",
       "      <td>0.578761</td>\n",
       "      <td>1.727828</td>\n",
       "    </tr>\n",
       "    <tr>\n",
       "      <th>999</th>\n",
       "      <td>-1.284152</td>\n",
       "      <td>True</td>\n",
       "      <td>2.070227</td>\n",
       "      <td>0.230414</td>\n",
       "      <td>4.340014</td>\n",
       "    </tr>\n",
       "  </tbody>\n",
       "</table>\n",
       "<p>1000 rows × 5 columns</p>\n",
       "</div>"
      ],
      "text/plain": [
       "           W0    v0         y  propensity_score    weight\n",
       "0   -1.096630  True  1.579037          0.264752  3.777119\n",
       "1    0.883869  True  6.774463          0.716633  1.395414\n",
       "2   -1.335124  True  2.590650          0.221639  4.511850\n",
       "3   -1.064736  True  4.180466          0.270908  3.691296\n",
       "4   -0.712749  True  2.574438          0.344435  2.903306\n",
       "..        ...   ...       ...               ...       ...\n",
       "995 -0.394069  True  4.852584          0.418255  2.390889\n",
       "996 -2.109866  True -0.132723          0.117258  8.528192\n",
       "997  1.342959  True  7.022089          0.798937  1.251663\n",
       "998  0.263952  True  3.750980          0.578761  1.727828\n",
       "999 -1.284152  True  2.070227          0.230414  4.340014\n",
       "\n",
       "[1000 rows x 5 columns]"
      ]
     },
     "execution_count": 7,
     "metadata": {},
     "output_type": "execute_result"
    }
   ],
   "source": [
    "cdf_1"
   ]
  },
  {
   "cell_type": "markdown",
   "metadata": {},
   "source": [
    "## Comparing the estimate to Linear Regression\n",
    "First, estimating the effect using the causal data frame, and the 95% confidence interval."
   ]
  },
  {
   "cell_type": "code",
   "execution_count": 8,
   "metadata": {
    "execution": {
     "iopub.execute_input": "2023-12-06T08:43:32.706780Z",
     "iopub.status.busy": "2023-12-06T08:43:32.706438Z",
     "iopub.status.idle": "2023-12-06T08:43:32.842061Z",
     "shell.execute_reply": "2023-12-06T08:43:32.841386Z"
    }
   },
   "outputs": [
    {
     "data": {
      "image/png": "[encoded data removed]",
      "text/latex": [
       "$\\displaystyle 4.86323421622536$"
      ],
      "text/plain": [
       "4.863234216225364"
      ]
     },
     "execution_count": 8,
     "metadata": {},
     "output_type": "execute_result"
    }
   ],
   "source": [
    "(cdf_1['y'] - cdf_0['y']).mean()"
   ]
  },
  {
   "cell_type": "code",
   "execution_count": 9,
   "metadata": {
    "execution": {
     "iopub.execute_input": "2023-12-06T08:43:32.844629Z",
     "iopub.status.busy": "2023-12-06T08:43:32.844177Z",
     "iopub.status.idle": "2023-12-06T08:43:32.861792Z",
     "shell.execute_reply": "2023-12-06T08:43:32.861181Z"
    }
   },
   "outputs": [
    {
     "data": {
      "image/png": "[encoded data removed]",
      "text/latex": [
       "$\\displaystyle 0.141690908498881$"
      ],
      "text/plain": [
       "0.14169090849888114"
      ]
     },
     "execution_count": 9,
     "metadata": {},
     "output_type": "execute_result"
    }
   ],
   "source": [
    "1.96*(cdf_1['y'] - cdf_0['y']).std() / np.sqrt(len(df))"
   ]
  },
  {
   "cell_type": "markdown",
   "metadata": {},
   "source": [
    "Comparing to the estimate from OLS."
   ]
  },
  {
   "cell_type": "code",
   "execution_count": 10,
   "metadata": {
    "execution": {
     "iopub.execute_input": "2023-12-06T08:43:32.864185Z",
     "iopub.status.busy": "2023-12-06T08:43:32.863842Z",
     "iopub.status.idle": "2023-12-06T08:43:32.880333Z",
     "shell.execute_reply": "2023-12-06T08:43:32.879823Z"
    }
   },
   "outputs": [
    {
     "data": {
      "text/html": [
       "<table class=\"simpletable\">\n",
       "<caption>OLS Regression Results</caption>\n",
       "<tr>\n",
       "  <th>Dep. Variable:</th>            <td>y</td>        <th>  R-squared (uncentered):</th>      <td>   0.921</td>\n",
       "</tr>\n",
       "<tr>\n",
       "  <th>Model:</th>                   <td>OLS</td>       <th>  Adj. R-squared (uncentered):</th> <td>   0.921</td>\n",
       "</tr>\n",
       "<tr>\n",
       "  <th>Method:</th>             <td>Least Squares</td>  <th>  F-statistic:       </th>          <td>   5840.</td>\n",
       "</tr>\n",
       "<tr>\n",
       "  <th>Date:</th>             <td>Wed, 06 Dec 2023</td> <th>  Prob (F-statistic):</th>           <td>  0.00</td> \n",
       "</tr>\n",
       "<tr>\n",
       "  <th>Time:</th>                 <td>08:43:32</td>     <th>  Log-Likelihood:    </th>          <td> -1436.2</td>\n",
       "</tr>\n",
       "<tr>\n",
       "  <th>No. Observations:</th>      <td>  1000</td>      <th>  AIC:               </th>          <td>   2876.</td>\n",
       "</tr>\n",
       "<tr>\n",
       "  <th>Df Residuals:</th>          <td>   998</td>      <th>  BIC:               </th>          <td>   2886.</td>\n",
       "</tr>\n",
       "<tr>\n",
       "  <th>Df Model:</th>              <td>     2</td>      <th>                     </th>              <td> </td>   \n",
       "</tr>\n",
       "<tr>\n",
       "  <th>Covariance Type:</th>      <td>nonrobust</td>    <th>                     </th>              <td> </td>   \n",
       "</tr>\n",
       "</table>\n",
       "<table class=\"simpletable\">\n",
       "<tr>\n",
       "   <td></td>     <th>coef</th>     <th>std err</th>      <th>t</th>      <th>P>|t|</th>  <th>[0.025</th>    <th>0.975]</th>  \n",
       "</tr>\n",
       "<tr>\n",
       "  <th>x1</th> <td>    1.1002</td> <td>    0.028</td> <td>   39.374</td> <td> 0.000</td> <td>    1.045</td> <td>    1.155</td>\n",
       "</tr>\n",
       "<tr>\n",
       "  <th>x2</th> <td>    4.9739</td> <td>    0.050</td> <td>   99.704</td> <td> 0.000</td> <td>    4.876</td> <td>    5.072</td>\n",
       "</tr>\n",
       "</table>\n",
       "<table class=\"simpletable\">\n",
       "<tr>\n",
       "  <th>Omnibus:</th>       <td> 0.374</td> <th>  Durbin-Watson:     </th> <td>   1.968</td>\n",
       "</tr>\n",
       "<tr>\n",
       "  <th>Prob(Omnibus):</th> <td> 0.829</td> <th>  Jarque-Bera (JB):  </th> <td>   0.380</td>\n",
       "</tr>\n",
       "<tr>\n",
       "  <th>Skew:</th>          <td> 0.047</td> <th>  Prob(JB):          </th> <td>   0.827</td>\n",
       "</tr>\n",
       "<tr>\n",
       "  <th>Kurtosis:</th>      <td> 2.984</td> <th>  Cond. No.          </th> <td>    1.79</td>\n",
       "</tr>\n",
       "</table><br/><br/>Notes:<br/>[1] R² is computed without centering (uncentered) since the model does not contain a constant.<br/>[2] Standard Errors assume that the covariance matrix of the errors is correctly specified."
      ],
      "text/latex": [
       "\\begin{center}\n",
       "\\begin{tabular}{lclc}\n",
       "\\toprule\n",
       "\\textbf{Dep. Variable:}    &        y         & \\textbf{  R-squared (uncentered):}      &     0.921   \\\\\n",
       "\\textbf{Model:}            &       OLS        & \\textbf{  Adj. R-squared (uncentered):} &     0.921   \\\\\n",
       "\\textbf{Method:}           &  Least Squares   & \\textbf{  F-statistic:       }          &     5840.   \\\\\n",
       "\\textbf{Date:}             & Wed, 06 Dec 2023 & \\textbf{  Prob (F-statistic):}          &     0.00    \\\\\n",
       "\\textbf{Time:}             &     08:43:32     & \\textbf{  Log-Likelihood:    }          &   -1436.2   \\\\\n",
       "\\textbf{No. Observations:} &        1000      & \\textbf{  AIC:               }          &     2876.   \\\\\n",
       "\\textbf{Df Residuals:}     &         998      & \\textbf{  BIC:               }          &     2886.   \\\\\n",
       "\\textbf{Df Model:}         &           2      & \\textbf{                     }          &             \\\\\n",
       "\\textbf{Covariance Type:}  &    nonrobust     & \\textbf{                     }          &             \\\\\n",
       "\\bottomrule\n",
       "\\end{tabular}\n",
       "\\begin{tabular}{lcccccc}\n",
       "            & \\textbf{coef} & \\textbf{std err} & \\textbf{t} & \\textbf{P$> |$t$|$} & \\textbf{[0.025} & \\textbf{0.975]}  \\\\\n",
       "\\midrule\n",
       "\\textbf{x1} &       1.1002  &        0.028     &    39.374  &         0.000        &        1.045    &        1.155     \\\\\n",
       "\\textbf{x2} &       4.9739  &        0.050     &    99.704  &         0.000        &        4.876    &        5.072     \\\\\n",
       "\\bottomrule\n",
       "\\end{tabular}\n",
       "\\begin{tabular}{lclc}\n",
       "\\textbf{Omnibus:}       &  0.374 & \\textbf{  Durbin-Watson:     } &    1.968  \\\\\n",
       "\\textbf{Prob(Omnibus):} &  0.829 & \\textbf{  Jarque-Bera (JB):  } &    0.380  \\\\\n",
       "\\textbf{Skew:}          &  0.047 & \\textbf{  Prob(JB):          } &    0.827  \\\\\n",
       "\\textbf{Kurtosis:}      &  2.984 & \\textbf{  Cond. No.          } &     1.79  \\\\\n",
       "\\bottomrule\n",
       "\\end{tabular}\n",
       "%\\caption{OLS Regression Results}\n",
       "\\end{center}\n",
       "\n",
       "Notes: \\newline\n",
       " [1] R² is computed without centering (uncentered) since the model does not contain a constant. \\newline\n",
       " [2] Standard Errors assume that the covariance matrix of the errors is correctly specified."
      ],
      "text/plain": [
       "<class 'statsmodels.iolib.summary.Summary'>\n",
       "\"\"\"\n",
       "                                 OLS Regression Results                                \n",
       "=======================================================================================\n",
       "Dep. Variable:                      y   R-squared (uncentered):                   0.921\n",
       "Model:                            OLS   Adj. R-squared (uncentered):              0.921\n",
       "Method:                 Least Squares   F-statistic:                              5840.\n",
       "Date:                Wed, 06 Dec 2023   Prob (F-statistic):                        0.00\n",
       "Time:                        08:43:32   Log-Likelihood:                         -1436.2\n",
       "No. Observations:                1000   AIC:                                      2876.\n",
       "Df Residuals:                     998   BIC:                                      2886.\n",
       "Df Model:                           2                                                  \n",
       "Covariance Type:            nonrobust                                                  \n",
       "==============================================================================\n",
       "                 coef    std err          t      P>|t|      [0.025      0.975]\n",
       "------------------------------------------------------------------------------\n",
       "x1             1.1002      0.028     39.374      0.000       1.045       1.155\n",
       "x2             4.9739      0.050     99.704      0.000       4.876       5.072\n",
       "==============================================================================\n",
       "Omnibus:                        0.374   Durbin-Watson:                   1.968\n",
       "Prob(Omnibus):                  0.829   Jarque-Bera (JB):                0.380\n",
       "Skew:                           0.047   Prob(JB):                        0.827\n",
       "Kurtosis:                       2.984   Cond. No.                         1.79\n",
       "==============================================================================\n",
       "\n",
       "Notes:\n",
       "[1] R² is computed without centering (uncentered) since the model does not contain a constant.\n",
       "[2] Standard Errors assume that the covariance matrix of the errors is correctly specified.\n",
       "\"\"\""
      ]
     },
     "execution_count": 10,
     "metadata": {},
     "output_type": "execute_result"
    }
   ],
   "source": [
    "model = OLS(np.asarray(df[outcome]), np.asarray(df[[common_cause, treatment]], dtype=np.float64))\n",
    "result = model.fit()\n",
    "result.summary()"
   ]
  }
 ],
 "metadata": {
  "kernelspec": {
   "display_name": "Python 3 (ipykernel)",
   "language": "python",
   "name": "python3"
  },
  "language_info": {
   "codemirror_mode": {
    "name": "ipython",
    "version": 3
   },
   "file_extension": ".py",
   "mimetype": "text/x-python",
   "name": "python",
   "nbconvert_exporter": "python",
   "pygments_lexer": "ipython3",
   "version": "3.8.10"
  },
  "toc": {
   "base_numbering": 1,
   "nav_menu": {},
   "number_sections": false,
   "sideBar": true,
   "skip_h1_title": true,
   "title_cell": "Table of Contents",
   "title_sidebar": "Contents",
   "toc_cell": false,
   "toc_position": {},
   "toc_section_display": true,
   "toc_window_display": false
  }
 },
 "nbformat": 4,
 "nbformat_minor": 4
}
