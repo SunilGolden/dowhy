{
 "cells": [
  {
   "cell_type": "markdown",
   "metadata": {},
   "source": [
    "# Demo for the DoWhy causal API\n",
    "We show a simple example of adding a causal extension to any dataframe. "
   ]
  },
  {
   "cell_type": "code",
   "execution_count": 1,
   "metadata": {
    "execution": {
     "iopub.execute_input": "2023-12-04T17:23:34.233691Z",
     "iopub.status.busy": "2023-12-04T17:23:34.233522Z",
     "iopub.status.idle": "2023-12-04T17:23:35.617664Z",
     "shell.execute_reply": "2023-12-04T17:23:35.617085Z"
    }
   },
   "outputs": [],
   "source": [
    "import dowhy.datasets\n",
    "import dowhy.api\n",
    "from dowhy.graph import build_graph_from_str\n",
    "\n",
    "import numpy as np\n",
    "import pandas as pd\n",
    "\n",
    "from statsmodels.api import OLS"
   ]
  },
  {
   "cell_type": "code",
   "execution_count": 2,
   "metadata": {
    "execution": {
     "iopub.execute_input": "2023-12-04T17:23:35.620670Z",
     "iopub.status.busy": "2023-12-04T17:23:35.620140Z",
     "iopub.status.idle": "2023-12-04T17:23:35.656872Z",
     "shell.execute_reply": "2023-12-04T17:23:35.656222Z"
    }
   },
   "outputs": [
    {
     "data": {
      "text/html": [
       "<div>\n",
       "<style scoped>\n",
       "    .dataframe tbody tr th:only-of-type {\n",
       "        vertical-align: middle;\n",
       "    }\n",
       "\n",
       "    .dataframe tbody tr th {\n",
       "        vertical-align: top;\n",
       "    }\n",
       "\n",
       "    .dataframe thead th {\n",
       "        text-align: right;\n",
       "    }\n",
       "</style>\n",
       "<table border=\"1\" class=\"dataframe\">\n",
       "  <thead>\n",
       "    <tr style=\"text-align: right;\">\n",
       "      <th></th>\n",
       "      <th>W0</th>\n",
       "      <th>v0</th>\n",
       "      <th>y</th>\n",
       "    </tr>\n",
       "  </thead>\n",
       "  <tbody>\n",
       "    <tr>\n",
       "      <th>0</th>\n",
       "      <td>0.077907</td>\n",
       "      <td>True</td>\n",
       "      <td>4.458137</td>\n",
       "    </tr>\n",
       "    <tr>\n",
       "      <th>1</th>\n",
       "      <td>-0.088643</td>\n",
       "      <td>True</td>\n",
       "      <td>5.929905</td>\n",
       "    </tr>\n",
       "    <tr>\n",
       "      <th>2</th>\n",
       "      <td>-0.598983</td>\n",
       "      <td>False</td>\n",
       "      <td>-1.462741</td>\n",
       "    </tr>\n",
       "    <tr>\n",
       "      <th>3</th>\n",
       "      <td>-0.159802</td>\n",
       "      <td>True</td>\n",
       "      <td>5.718908</td>\n",
       "    </tr>\n",
       "    <tr>\n",
       "      <th>4</th>\n",
       "      <td>-0.124376</td>\n",
       "      <td>True</td>\n",
       "      <td>4.312559</td>\n",
       "    </tr>\n",
       "    <tr>\n",
       "      <th>...</th>\n",
       "      <td>...</td>\n",
       "      <td>...</td>\n",
       "      <td>...</td>\n",
       "    </tr>\n",
       "    <tr>\n",
       "      <th>995</th>\n",
       "      <td>1.288851</td>\n",
       "      <td>True</td>\n",
       "      <td>7.894877</td>\n",
       "    </tr>\n",
       "    <tr>\n",
       "      <th>996</th>\n",
       "      <td>0.641946</td>\n",
       "      <td>False</td>\n",
       "      <td>0.220986</td>\n",
       "    </tr>\n",
       "    <tr>\n",
       "      <th>997</th>\n",
       "      <td>0.401030</td>\n",
       "      <td>True</td>\n",
       "      <td>6.096789</td>\n",
       "    </tr>\n",
       "    <tr>\n",
       "      <th>998</th>\n",
       "      <td>0.788053</td>\n",
       "      <td>True</td>\n",
       "      <td>7.715129</td>\n",
       "    </tr>\n",
       "    <tr>\n",
       "      <th>999</th>\n",
       "      <td>1.260680</td>\n",
       "      <td>True</td>\n",
       "      <td>6.633080</td>\n",
       "    </tr>\n",
       "  </tbody>\n",
       "</table>\n",
       "<p>1000 rows × 3 columns</p>\n",
       "</div>"
      ],
      "text/plain": [
       "           W0     v0         y\n",
       "0    0.077907   True  4.458137\n",
       "1   -0.088643   True  5.929905\n",
       "2   -0.598983  False -1.462741\n",
       "3   -0.159802   True  5.718908\n",
       "4   -0.124376   True  4.312559\n",
       "..        ...    ...       ...\n",
       "995  1.288851   True  7.894877\n",
       "996  0.641946  False  0.220986\n",
       "997  0.401030   True  6.096789\n",
       "998  0.788053   True  7.715129\n",
       "999  1.260680   True  6.633080\n",
       "\n",
       "[1000 rows x 3 columns]"
      ]
     },
     "execution_count": 2,
     "metadata": {},
     "output_type": "execute_result"
    }
   ],
   "source": [
    "data = dowhy.datasets.linear_dataset(beta=5,\n",
    "        num_common_causes=1,\n",
    "        num_instruments = 0,\n",
    "        num_samples=1000,\n",
    "        treatment_is_binary=True)\n",
    "df = data['df']\n",
    "df['y'] = df['y'] + np.random.normal(size=len(df)) # Adding noise to data. Without noise, the variance in Y|X, Z is zero, and mcmc fails.\n",
    "nx_graph = build_graph_from_str(data[\"dot_graph\"])\n",
    "\n",
    "treatment= data[\"treatment_name\"][0]\n",
    "outcome = data[\"outcome_name\"][0]\n",
    "common_cause = data[\"common_causes_names\"][0]\n",
    "df"
   ]
  },
  {
   "cell_type": "code",
   "execution_count": 3,
   "metadata": {
    "execution": {
     "iopub.execute_input": "2023-12-04T17:23:35.659094Z",
     "iopub.status.busy": "2023-12-04T17:23:35.658896Z",
     "iopub.status.idle": "2023-12-04T17:23:35.839970Z",
     "shell.execute_reply": "2023-12-04T17:23:35.839362Z"
    },
    "scrolled": true
   },
   "outputs": [
    {
     "data": {
      "text/plain": [
       "<Axes: xlabel='v0'>"
      ]
     },
     "execution_count": 3,
     "metadata": {},
     "output_type": "execute_result"
    },
    {
     "data": {
      "image/png": "[encoded data removed]",
      "text/plain": [
       "<Figure size 640x480 with 1 Axes>"
      ]
     },
     "metadata": {},
     "output_type": "display_data"
    }
   ],
   "source": [
    "# data['df'] is just a regular pandas.DataFrame\n",
    "df.causal.do(x=treatment,\n",
    "             variable_types={treatment: 'b', outcome: 'c', common_cause: 'c'},\n",
    "             outcome=outcome,\n",
    "             common_causes=[common_cause],\n",
    "            ).groupby(treatment).mean().plot(y=outcome, kind='bar')"
   ]
  },
  {
   "cell_type": "code",
   "execution_count": 4,
   "metadata": {
    "execution": {
     "iopub.execute_input": "2023-12-04T17:23:35.842300Z",
     "iopub.status.busy": "2023-12-04T17:23:35.842115Z",
     "iopub.status.idle": "2023-12-04T17:23:35.975381Z",
     "shell.execute_reply": "2023-12-04T17:23:35.974723Z"
    }
   },
   "outputs": [
    {
     "data": {
      "text/plain": [
       "<Axes: xlabel='v0'>"
      ]
     },
     "execution_count": 4,
     "metadata": {},
     "output_type": "execute_result"
    },
    {
     "data": {
      "image/png": "[encoded data removed]",
      "text/plain": [
       "<Figure size 640x480 with 1 Axes>"
      ]
     },
     "metadata": {},
     "output_type": "display_data"
    }
   ],
   "source": [
    "df.causal.do(x={treatment: 1}, \n",
    "              variable_types={treatment:'b', outcome: 'c', common_cause: 'c'}, \n",
    "              outcome=outcome,\n",
    "              method='weighting', \n",
    "              common_causes=[common_cause]\n",
    "              ).groupby(treatment).mean().plot(y=outcome, kind='bar')"
   ]
  },
  {
   "cell_type": "code",
   "execution_count": 5,
   "metadata": {
    "execution": {
     "iopub.execute_input": "2023-12-04T17:23:35.978337Z",
     "iopub.status.busy": "2023-12-04T17:23:35.977769Z",
     "iopub.status.idle": "2023-12-04T17:23:35.998297Z",
     "shell.execute_reply": "2023-12-04T17:23:35.997680Z"
    }
   },
   "outputs": [],
   "source": [
    "cdf_1 = df.causal.do(x={treatment: 1}, \n",
    "              variable_types={treatment: 'b', outcome: 'c', common_cause: 'c'}, \n",
    "              outcome=outcome, \n",
    "              graph=nx_graph\n",
    "              )\n",
    "\n",
    "cdf_0 = df.causal.do(x={treatment: 0}, \n",
    "              variable_types={treatment: 'b', outcome: 'c', common_cause: 'c'}, \n",
    "              outcome=outcome, \n",
    "              graph=nx_graph\n",
    "              )\n"
   ]
  },
  {
   "cell_type": "code",
   "execution_count": 6,
   "metadata": {
    "execution": {
     "iopub.execute_input": "2023-12-04T17:23:36.000714Z",
     "iopub.status.busy": "2023-12-04T17:23:36.000371Z",
     "iopub.status.idle": "2023-12-04T17:23:36.009214Z",
     "shell.execute_reply": "2023-12-04T17:23:36.008622Z"
    },
    "scrolled": true
   },
   "outputs": [
    {
     "data": {
      "text/html": [
       "<div>\n",
       "<style scoped>\n",
       "    .dataframe tbody tr th:only-of-type {\n",
       "        vertical-align: middle;\n",
       "    }\n",
       "\n",
       "    .dataframe tbody tr th {\n",
       "        vertical-align: top;\n",
       "    }\n",
       "\n",
       "    .dataframe thead th {\n",
       "        text-align: right;\n",
       "    }\n",
       "</style>\n",
       "<table border=\"1\" class=\"dataframe\">\n",
       "  <thead>\n",
       "    <tr style=\"text-align: right;\">\n",
       "      <th></th>\n",
       "      <th>W0</th>\n",
       "      <th>v0</th>\n",
       "      <th>y</th>\n",
       "      <th>propensity_score</th>\n",
       "      <th>weight</th>\n",
       "    </tr>\n",
       "  </thead>\n",
       "  <tbody>\n",
       "    <tr>\n",
       "      <th>0</th>\n",
       "      <td>0.649746</td>\n",
       "      <td>False</td>\n",
       "      <td>0.532476</td>\n",
       "      <td>0.279856</td>\n",
       "      <td>3.573260</td>\n",
       "    </tr>\n",
       "    <tr>\n",
       "      <th>1</th>\n",
       "      <td>-1.011805</td>\n",
       "      <td>False</td>\n",
       "      <td>-4.423195</td>\n",
       "      <td>0.825689</td>\n",
       "      <td>1.211110</td>\n",
       "    </tr>\n",
       "    <tr>\n",
       "      <th>2</th>\n",
       "      <td>-0.611250</td>\n",
       "      <td>False</td>\n",
       "      <td>-1.906043</td>\n",
       "      <td>0.721630</td>\n",
       "      <td>1.385752</td>\n",
       "    </tr>\n",
       "    <tr>\n",
       "      <th>3</th>\n",
       "      <td>1.033225</td>\n",
       "      <td>False</td>\n",
       "      <td>1.365269</td>\n",
       "      <td>0.179125</td>\n",
       "      <td>5.582702</td>\n",
       "    </tr>\n",
       "    <tr>\n",
       "      <th>4</th>\n",
       "      <td>0.906203</td>\n",
       "      <td>False</td>\n",
       "      <td>1.633598</td>\n",
       "      <td>0.208973</td>\n",
       "      <td>4.785311</td>\n",
       "    </tr>\n",
       "    <tr>\n",
       "      <th>...</th>\n",
       "      <td>...</td>\n",
       "      <td>...</td>\n",
       "      <td>...</td>\n",
       "      <td>...</td>\n",
       "      <td>...</td>\n",
       "    </tr>\n",
       "    <tr>\n",
       "      <th>995</th>\n",
       "      <td>0.803020</td>\n",
       "      <td>False</td>\n",
       "      <td>1.665982</td>\n",
       "      <td>0.235801</td>\n",
       "      <td>4.240870</td>\n",
       "    </tr>\n",
       "    <tr>\n",
       "      <th>996</th>\n",
       "      <td>-0.597605</td>\n",
       "      <td>False</td>\n",
       "      <td>-1.894659</td>\n",
       "      <td>0.717486</td>\n",
       "      <td>1.393755</td>\n",
       "    </tr>\n",
       "    <tr>\n",
       "      <th>997</th>\n",
       "      <td>0.781526</td>\n",
       "      <td>False</td>\n",
       "      <td>1.151884</td>\n",
       "      <td>0.241679</td>\n",
       "      <td>4.137716</td>\n",
       "    </tr>\n",
       "    <tr>\n",
       "      <th>998</th>\n",
       "      <td>0.051985</td>\n",
       "      <td>False</td>\n",
       "      <td>0.111031</td>\n",
       "      <td>0.488608</td>\n",
       "      <td>2.046629</td>\n",
       "    </tr>\n",
       "    <tr>\n",
       "      <th>999</th>\n",
       "      <td>-1.142695</td>\n",
       "      <td>False</td>\n",
       "      <td>-3.056061</td>\n",
       "      <td>0.852250</td>\n",
       "      <td>1.173365</td>\n",
       "    </tr>\n",
       "  </tbody>\n",
       "</table>\n",
       "<p>1000 rows × 5 columns</p>\n",
       "</div>"
      ],
      "text/plain": [
       "           W0     v0         y  propensity_score    weight\n",
       "0    0.649746  False  0.532476          0.279856  3.573260\n",
       "1   -1.011805  False -4.423195          0.825689  1.211110\n",
       "2   -0.611250  False -1.906043          0.721630  1.385752\n",
       "3    1.033225  False  1.365269          0.179125  5.582702\n",
       "4    0.906203  False  1.633598          0.208973  4.785311\n",
       "..        ...    ...       ...               ...       ...\n",
       "995  0.803020  False  1.665982          0.235801  4.240870\n",
       "996 -0.597605  False -1.894659          0.717486  1.393755\n",
       "997  0.781526  False  1.151884          0.241679  4.137716\n",
       "998  0.051985  False  0.111031          0.488608  2.046629\n",
       "999 -1.142695  False -3.056061          0.852250  1.173365\n",
       "\n",
       "[1000 rows x 5 columns]"
      ]
     },
     "execution_count": 6,
     "metadata": {},
     "output_type": "execute_result"
    }
   ],
   "source": [
    "cdf_0"
   ]
  },
  {
   "cell_type": "code",
   "execution_count": 7,
   "metadata": {
    "execution": {
     "iopub.execute_input": "2023-12-04T17:23:36.011603Z",
     "iopub.status.busy": "2023-12-04T17:23:36.011173Z",
     "iopub.status.idle": "2023-12-04T17:23:36.019751Z",
     "shell.execute_reply": "2023-12-04T17:23:36.019225Z"
    }
   },
   "outputs": [
    {
     "data": {
      "text/html": [
       "<div>\n",
       "<style scoped>\n",
       "    .dataframe tbody tr th:only-of-type {\n",
       "        vertical-align: middle;\n",
       "    }\n",
       "\n",
       "    .dataframe tbody tr th {\n",
       "        vertical-align: top;\n",
       "    }\n",
       "\n",
       "    .dataframe thead th {\n",
       "        text-align: right;\n",
       "    }\n",
       "</style>\n",
       "<table border=\"1\" class=\"dataframe\">\n",
       "  <thead>\n",
       "    <tr style=\"text-align: right;\">\n",
       "      <th></th>\n",
       "      <th>W0</th>\n",
       "      <th>v0</th>\n",
       "      <th>y</th>\n",
       "      <th>propensity_score</th>\n",
       "      <th>weight</th>\n",
       "    </tr>\n",
       "  </thead>\n",
       "  <tbody>\n",
       "    <tr>\n",
       "      <th>0</th>\n",
       "      <td>-0.184825</td>\n",
       "      <td>True</td>\n",
       "      <td>4.784289</td>\n",
       "      <td>0.422916</td>\n",
       "      <td>2.364533</td>\n",
       "    </tr>\n",
       "    <tr>\n",
       "      <th>1</th>\n",
       "      <td>-0.387231</td>\n",
       "      <td>True</td>\n",
       "      <td>5.038756</td>\n",
       "      <td>0.350823</td>\n",
       "      <td>2.850440</td>\n",
       "    </tr>\n",
       "    <tr>\n",
       "      <th>2</th>\n",
       "      <td>-0.159802</td>\n",
       "      <td>True</td>\n",
       "      <td>5.718908</td>\n",
       "      <td>0.432133</td>\n",
       "      <td>2.314103</td>\n",
       "    </tr>\n",
       "    <tr>\n",
       "      <th>3</th>\n",
       "      <td>1.765536</td>\n",
       "      <td>True</td>\n",
       "      <td>8.383866</td>\n",
       "      <td>0.932414</td>\n",
       "      <td>1.072485</td>\n",
       "    </tr>\n",
       "    <tr>\n",
       "      <th>4</th>\n",
       "      <td>1.441909</td>\n",
       "      <td>True</td>\n",
       "      <td>8.800967</td>\n",
       "      <td>0.894479</td>\n",
       "      <td>1.117969</td>\n",
       "    </tr>\n",
       "    <tr>\n",
       "      <th>...</th>\n",
       "      <td>...</td>\n",
       "      <td>...</td>\n",
       "      <td>...</td>\n",
       "      <td>...</td>\n",
       "      <td>...</td>\n",
       "    </tr>\n",
       "    <tr>\n",
       "      <th>995</th>\n",
       "      <td>-0.101519</td>\n",
       "      <td>True</td>\n",
       "      <td>4.850378</td>\n",
       "      <td>0.453772</td>\n",
       "      <td>2.203751</td>\n",
       "    </tr>\n",
       "    <tr>\n",
       "      <th>996</th>\n",
       "      <td>-0.446044</td>\n",
       "      <td>True</td>\n",
       "      <td>4.258611</td>\n",
       "      <td>0.330941</td>\n",
       "      <td>3.021691</td>\n",
       "    </tr>\n",
       "    <tr>\n",
       "      <th>997</th>\n",
       "      <td>1.382681</td>\n",
       "      <td>True</td>\n",
       "      <td>7.048141</td>\n",
       "      <td>0.885766</td>\n",
       "      <td>1.128967</td>\n",
       "    </tr>\n",
       "    <tr>\n",
       "      <th>998</th>\n",
       "      <td>0.786555</td>\n",
       "      <td>True</td>\n",
       "      <td>5.485594</td>\n",
       "      <td>0.759705</td>\n",
       "      <td>1.316300</td>\n",
       "    </tr>\n",
       "    <tr>\n",
       "      <th>999</th>\n",
       "      <td>0.737101</td>\n",
       "      <td>True</td>\n",
       "      <td>6.127303</td>\n",
       "      <td>0.745857</td>\n",
       "      <td>1.340739</td>\n",
       "    </tr>\n",
       "  </tbody>\n",
       "</table>\n",
       "<p>1000 rows × 5 columns</p>\n",
       "</div>"
      ],
      "text/plain": [
       "           W0    v0         y  propensity_score    weight\n",
       "0   -0.184825  True  4.784289          0.422916  2.364533\n",
       "1   -0.387231  True  5.038756          0.350823  2.850440\n",
       "2   -0.159802  True  5.718908          0.432133  2.314103\n",
       "3    1.765536  True  8.383866          0.932414  1.072485\n",
       "4    1.441909  True  8.800967          0.894479  1.117969\n",
       "..        ...   ...       ...               ...       ...\n",
       "995 -0.101519  True  4.850378          0.453772  2.203751\n",
       "996 -0.446044  True  4.258611          0.330941  3.021691\n",
       "997  1.382681  True  7.048141          0.885766  1.128967\n",
       "998  0.786555  True  5.485594          0.759705  1.316300\n",
       "999  0.737101  True  6.127303          0.745857  1.340739\n",
       "\n",
       "[1000 rows x 5 columns]"
      ]
     },
     "execution_count": 7,
     "metadata": {},
     "output_type": "execute_result"
    }
   ],
   "source": [
    "cdf_1"
   ]
  },
  {
   "cell_type": "markdown",
   "metadata": {},
   "source": [
    "## Comparing the estimate to Linear Regression\n",
    "First, estimating the effect using the causal data frame, and the 95% confidence interval."
   ]
  },
  {
   "cell_type": "code",
   "execution_count": 8,
   "metadata": {
    "execution": {
     "iopub.execute_input": "2023-12-04T17:23:36.021720Z",
     "iopub.status.busy": "2023-12-04T17:23:36.021543Z",
     "iopub.status.idle": "2023-12-04T17:23:36.150869Z",
     "shell.execute_reply": "2023-12-04T17:23:36.150209Z"
    }
   },
   "outputs": [
    {
     "data": {
      "image/png": "[encoded data removed]",
      "text/latex": [
       "$\\displaystyle 5.48193087554152$"
      ],
      "text/plain": [
       "5.481930875541515"
      ]
     },
     "execution_count": 8,
     "metadata": {},
     "output_type": "execute_result"
    }
   ],
   "source": [
    "(cdf_1['y'] - cdf_0['y']).mean()"
   ]
  },
  {
   "cell_type": "code",
   "execution_count": 9,
   "metadata": {
    "execution": {
     "iopub.execute_input": "2023-12-04T17:23:36.153420Z",
     "iopub.status.busy": "2023-12-04T17:23:36.153018Z",
     "iopub.status.idle": "2023-12-04T17:23:36.173815Z",
     "shell.execute_reply": "2023-12-04T17:23:36.173313Z"
    }
   },
   "outputs": [
    {
     "data": {
      "image/png": "[encoded data removed]",
      "text/latex": [
       "$\\displaystyle 0.198947774663285$"
      ],
      "text/plain": [
       "0.19894777466328473"
      ]
     },
     "execution_count": 9,
     "metadata": {},
     "output_type": "execute_result"
    }
   ],
   "source": [
    "1.96*(cdf_1['y'] - cdf_0['y']).std() / np.sqrt(len(df))"
   ]
  },
  {
   "cell_type": "markdown",
   "metadata": {},
   "source": [
    "Comparing to the estimate from OLS."
   ]
  },
  {
   "cell_type": "code",
   "execution_count": 10,
   "metadata": {
    "execution": {
     "iopub.execute_input": "2023-12-04T17:23:36.176078Z",
     "iopub.status.busy": "2023-12-04T17:23:36.175734Z",
     "iopub.status.idle": "2023-12-04T17:23:36.191531Z",
     "shell.execute_reply": "2023-12-04T17:23:36.190919Z"
    }
   },
   "outputs": [
    {
     "data": {
      "text/html": [
       "<table class=\"simpletable\">\n",
       "<caption>OLS Regression Results</caption>\n",
       "<tr>\n",
       "  <th>Dep. Variable:</th>            <td>y</td>        <th>  R-squared (uncentered):</th>      <td>   0.968</td> \n",
       "</tr>\n",
       "<tr>\n",
       "  <th>Model:</th>                   <td>OLS</td>       <th>  Adj. R-squared (uncentered):</th> <td>   0.968</td> \n",
       "</tr>\n",
       "<tr>\n",
       "  <th>Method:</th>             <td>Least Squares</td>  <th>  F-statistic:       </th>          <td>1.530e+04</td>\n",
       "</tr>\n",
       "<tr>\n",
       "  <th>Date:</th>             <td>Mon, 04 Dec 2023</td> <th>  Prob (F-statistic):</th>           <td>  0.00</td>  \n",
       "</tr>\n",
       "<tr>\n",
       "  <th>Time:</th>                 <td>17:23:36</td>     <th>  Log-Likelihood:    </th>          <td> -1417.6</td> \n",
       "</tr>\n",
       "<tr>\n",
       "  <th>No. Observations:</th>      <td>  1000</td>      <th>  AIC:               </th>          <td>   2839.</td> \n",
       "</tr>\n",
       "<tr>\n",
       "  <th>Df Residuals:</th>          <td>   998</td>      <th>  BIC:               </th>          <td>   2849.</td> \n",
       "</tr>\n",
       "<tr>\n",
       "  <th>Df Model:</th>              <td>     2</td>      <th>                     </th>              <td> </td>    \n",
       "</tr>\n",
       "<tr>\n",
       "  <th>Covariance Type:</th>      <td>nonrobust</td>    <th>                     </th>              <td> </td>    \n",
       "</tr>\n",
       "</table>\n",
       "<table class=\"simpletable\">\n",
       "<tr>\n",
       "   <td></td>     <th>coef</th>     <th>std err</th>      <th>t</th>      <th>P>|t|</th>  <th>[0.025</th>    <th>0.975]</th>  \n",
       "</tr>\n",
       "<tr>\n",
       "  <th>x1</th> <td>    2.1460</td> <td>    0.035</td> <td>   60.885</td> <td> 0.000</td> <td>    2.077</td> <td>    2.215</td>\n",
       "</tr>\n",
       "<tr>\n",
       "  <th>x2</th> <td>    5.0331</td> <td>    0.050</td> <td>  100.235</td> <td> 0.000</td> <td>    4.935</td> <td>    5.132</td>\n",
       "</tr>\n",
       "</table>\n",
       "<table class=\"simpletable\">\n",
       "<tr>\n",
       "  <th>Omnibus:</th>       <td> 0.195</td> <th>  Durbin-Watson:     </th> <td>   1.923</td>\n",
       "</tr>\n",
       "<tr>\n",
       "  <th>Prob(Omnibus):</th> <td> 0.907</td> <th>  Jarque-Bera (JB):  </th> <td>   0.112</td>\n",
       "</tr>\n",
       "<tr>\n",
       "  <th>Skew:</th>          <td>-0.008</td> <th>  Prob(JB):          </th> <td>   0.945</td>\n",
       "</tr>\n",
       "<tr>\n",
       "  <th>Kurtosis:</th>      <td> 3.050</td> <th>  Cond. No.          </th> <td>    2.11</td>\n",
       "</tr>\n",
       "</table><br/><br/>Notes:<br/>[1] R² is computed without centering (uncentered) since the model does not contain a constant.<br/>[2] Standard Errors assume that the covariance matrix of the errors is correctly specified."
      ],
      "text/latex": [
       "\\begin{center}\n",
       "\\begin{tabular}{lclc}\n",
       "\\toprule\n",
       "\\textbf{Dep. Variable:}    &        y         & \\textbf{  R-squared (uncentered):}      &     0.968   \\\\\n",
       "\\textbf{Model:}            &       OLS        & \\textbf{  Adj. R-squared (uncentered):} &     0.968   \\\\\n",
       "\\textbf{Method:}           &  Least Squares   & \\textbf{  F-statistic:       }          & 1.530e+04   \\\\\n",
       "\\textbf{Date:}             & Mon, 04 Dec 2023 & \\textbf{  Prob (F-statistic):}          &     0.00    \\\\\n",
       "\\textbf{Time:}             &     17:23:36     & \\textbf{  Log-Likelihood:    }          &   -1417.6   \\\\\n",
       "\\textbf{No. Observations:} &        1000      & \\textbf{  AIC:               }          &     2839.   \\\\\n",
       "\\textbf{Df Residuals:}     &         998      & \\textbf{  BIC:               }          &     2849.   \\\\\n",
       "\\textbf{Df Model:}         &           2      & \\textbf{                     }          &             \\\\\n",
       "\\textbf{Covariance Type:}  &    nonrobust     & \\textbf{                     }          &             \\\\\n",
       "\\bottomrule\n",
       "\\end{tabular}\n",
       "\\begin{tabular}{lcccccc}\n",
       "            & \\textbf{coef} & \\textbf{std err} & \\textbf{t} & \\textbf{P$> |$t$|$} & \\textbf{[0.025} & \\textbf{0.975]}  \\\\\n",
       "\\midrule\n",
       "\\textbf{x1} &       2.1460  &        0.035     &    60.885  &         0.000        &        2.077    &        2.215     \\\\\n",
       "\\textbf{x2} &       5.0331  &        0.050     &   100.235  &         0.000        &        4.935    &        5.132     \\\\\n",
       "\\bottomrule\n",
       "\\end{tabular}\n",
       "\\begin{tabular}{lclc}\n",
       "\\textbf{Omnibus:}       &  0.195 & \\textbf{  Durbin-Watson:     } &    1.923  \\\\\n",
       "\\textbf{Prob(Omnibus):} &  0.907 & \\textbf{  Jarque-Bera (JB):  } &    0.112  \\\\\n",
       "\\textbf{Skew:}          & -0.008 & \\textbf{  Prob(JB):          } &    0.945  \\\\\n",
       "\\textbf{Kurtosis:}      &  3.050 & \\textbf{  Cond. No.          } &     2.11  \\\\\n",
       "\\bottomrule\n",
       "\\end{tabular}\n",
       "%\\caption{OLS Regression Results}\n",
       "\\end{center}\n",
       "\n",
       "Notes: \\newline\n",
       " [1] R² is computed without centering (uncentered) since the model does not contain a constant. \\newline\n",
       " [2] Standard Errors assume that the covariance matrix of the errors is correctly specified."
      ],
      "text/plain": [
       "<class 'statsmodels.iolib.summary.Summary'>\n",
       "\"\"\"\n",
       "                                 OLS Regression Results                                \n",
       "=======================================================================================\n",
       "Dep. Variable:                      y   R-squared (uncentered):                   0.968\n",
       "Model:                            OLS   Adj. R-squared (uncentered):              0.968\n",
       "Method:                 Least Squares   F-statistic:                          1.530e+04\n",
       "Date:                Mon, 04 Dec 2023   Prob (F-statistic):                        0.00\n",
       "Time:                        17:23:36   Log-Likelihood:                         -1417.6\n",
       "No. Observations:                1000   AIC:                                      2839.\n",
       "Df Residuals:                     998   BIC:                                      2849.\n",
       "Df Model:                           2                                                  \n",
       "Covariance Type:            nonrobust                                                  \n",
       "==============================================================================\n",
       "                 coef    std err          t      P>|t|      [0.025      0.975]\n",
       "------------------------------------------------------------------------------\n",
       "x1             2.1460      0.035     60.885      0.000       2.077       2.215\n",
       "x2             5.0331      0.050    100.235      0.000       4.935       5.132\n",
       "==============================================================================\n",
       "Omnibus:                        0.195   Durbin-Watson:                   1.923\n",
       "Prob(Omnibus):                  0.907   Jarque-Bera (JB):                0.112\n",
       "Skew:                          -0.008   Prob(JB):                        0.945\n",
       "Kurtosis:                       3.050   Cond. No.                         2.11\n",
       "==============================================================================\n",
       "\n",
       "Notes:\n",
       "[1] R² is computed without centering (uncentered) since the model does not contain a constant.\n",
       "[2] Standard Errors assume that the covariance matrix of the errors is correctly specified.\n",
       "\"\"\""
      ]
     },
     "execution_count": 10,
     "metadata": {},
     "output_type": "execute_result"
    }
   ],
   "source": [
    "model = OLS(np.asarray(df[outcome]), np.asarray(df[[common_cause, treatment]], dtype=np.float64))\n",
    "result = model.fit()\n",
    "result.summary()"
   ]
  }
 ],
 "metadata": {
  "kernelspec": {
   "display_name": "Python 3 (ipykernel)",
   "language": "python",
   "name": "python3"
  },
  "language_info": {
   "codemirror_mode": {
    "name": "ipython",
    "version": 3
   },
   "file_extension": ".py",
   "mimetype": "text/x-python",
   "name": "python",
   "nbconvert_exporter": "python",
   "pygments_lexer": "ipython3",
   "version": "3.8.10"
  },
  "toc": {
   "base_numbering": 1,
   "nav_menu": {},
   "number_sections": false,
   "sideBar": true,
   "skip_h1_title": true,
   "title_cell": "Table of Contents",
   "title_sidebar": "Contents",
   "toc_cell": false,
   "toc_position": {},
   "toc_section_display": true,
   "toc_window_display": false
  }
 },
 "nbformat": 4,
 "nbformat_minor": 4
}
