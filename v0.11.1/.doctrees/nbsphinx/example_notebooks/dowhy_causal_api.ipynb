{
 "cells": [
  {
   "cell_type": "markdown",
   "metadata": {},
   "source": [
    "# Demo for the DoWhy causal API\n",
    "We show a simple example of adding a causal extension to any dataframe. "
   ]
  },
  {
   "cell_type": "code",
   "execution_count": 1,
   "metadata": {
    "execution": {
     "iopub.execute_input": "2023-12-05T17:54:03.234135Z",
     "iopub.status.busy": "2023-12-05T17:54:03.233920Z",
     "iopub.status.idle": "2023-12-05T17:54:04.672934Z",
     "shell.execute_reply": "2023-12-05T17:54:04.672199Z"
    }
   },
   "outputs": [],
   "source": [
    "import dowhy.datasets\n",
    "import dowhy.api\n",
    "from dowhy.graph import build_graph_from_str\n",
    "\n",
    "import numpy as np\n",
    "import pandas as pd\n",
    "\n",
    "from statsmodels.api import OLS"
   ]
  },
  {
   "cell_type": "code",
   "execution_count": 2,
   "metadata": {
    "execution": {
     "iopub.execute_input": "2023-12-05T17:54:04.676244Z",
     "iopub.status.busy": "2023-12-05T17:54:04.675671Z",
     "iopub.status.idle": "2023-12-05T17:54:04.716791Z",
     "shell.execute_reply": "2023-12-05T17:54:04.716160Z"
    }
   },
   "outputs": [
    {
     "data": {
      "text/html": [
       "<div>\n",
       "<style scoped>\n",
       "    .dataframe tbody tr th:only-of-type {\n",
       "        vertical-align: middle;\n",
       "    }\n",
       "\n",
       "    .dataframe tbody tr th {\n",
       "        vertical-align: top;\n",
       "    }\n",
       "\n",
       "    .dataframe thead th {\n",
       "        text-align: right;\n",
       "    }\n",
       "</style>\n",
       "<table border=\"1\" class=\"dataframe\">\n",
       "  <thead>\n",
       "    <tr style=\"text-align: right;\">\n",
       "      <th></th>\n",
       "      <th>W0</th>\n",
       "      <th>v0</th>\n",
       "      <th>y</th>\n",
       "    </tr>\n",
       "  </thead>\n",
       "  <tbody>\n",
       "    <tr>\n",
       "      <th>0</th>\n",
       "      <td>-0.014415</td>\n",
       "      <td>False</td>\n",
       "      <td>0.342888</td>\n",
       "    </tr>\n",
       "    <tr>\n",
       "      <th>1</th>\n",
       "      <td>-1.482450</td>\n",
       "      <td>False</td>\n",
       "      <td>-1.007482</td>\n",
       "    </tr>\n",
       "    <tr>\n",
       "      <th>2</th>\n",
       "      <td>-0.124404</td>\n",
       "      <td>False</td>\n",
       "      <td>-0.276289</td>\n",
       "    </tr>\n",
       "    <tr>\n",
       "      <th>3</th>\n",
       "      <td>0.603105</td>\n",
       "      <td>False</td>\n",
       "      <td>-0.957997</td>\n",
       "    </tr>\n",
       "    <tr>\n",
       "      <th>4</th>\n",
       "      <td>-0.727656</td>\n",
       "      <td>False</td>\n",
       "      <td>-0.948062</td>\n",
       "    </tr>\n",
       "    <tr>\n",
       "      <th>...</th>\n",
       "      <td>...</td>\n",
       "      <td>...</td>\n",
       "      <td>...</td>\n",
       "    </tr>\n",
       "    <tr>\n",
       "      <th>995</th>\n",
       "      <td>0.268278</td>\n",
       "      <td>True</td>\n",
       "      <td>5.343520</td>\n",
       "    </tr>\n",
       "    <tr>\n",
       "      <th>996</th>\n",
       "      <td>0.627485</td>\n",
       "      <td>True</td>\n",
       "      <td>5.952561</td>\n",
       "    </tr>\n",
       "    <tr>\n",
       "      <th>997</th>\n",
       "      <td>0.386836</td>\n",
       "      <td>True</td>\n",
       "      <td>5.278551</td>\n",
       "    </tr>\n",
       "    <tr>\n",
       "      <th>998</th>\n",
       "      <td>-0.126685</td>\n",
       "      <td>True</td>\n",
       "      <td>4.891181</td>\n",
       "    </tr>\n",
       "    <tr>\n",
       "      <th>999</th>\n",
       "      <td>-0.109414</td>\n",
       "      <td>False</td>\n",
       "      <td>0.030147</td>\n",
       "    </tr>\n",
       "  </tbody>\n",
       "</table>\n",
       "<p>1000 rows × 3 columns</p>\n",
       "</div>"
      ],
      "text/plain": [
       "           W0     v0         y\n",
       "0   -0.014415  False  0.342888\n",
       "1   -1.482450  False -1.007482\n",
       "2   -0.124404  False -0.276289\n",
       "3    0.603105  False -0.957997\n",
       "4   -0.727656  False -0.948062\n",
       "..        ...    ...       ...\n",
       "995  0.268278   True  5.343520\n",
       "996  0.627485   True  5.952561\n",
       "997  0.386836   True  5.278551\n",
       "998 -0.126685   True  4.891181\n",
       "999 -0.109414  False  0.030147\n",
       "\n",
       "[1000 rows x 3 columns]"
      ]
     },
     "execution_count": 2,
     "metadata": {},
     "output_type": "execute_result"
    }
   ],
   "source": [
    "data = dowhy.datasets.linear_dataset(beta=5,\n",
    "        num_common_causes=1,\n",
    "        num_instruments = 0,\n",
    "        num_samples=1000,\n",
    "        treatment_is_binary=True)\n",
    "df = data['df']\n",
    "df['y'] = df['y'] + np.random.normal(size=len(df)) # Adding noise to data. Without noise, the variance in Y|X, Z is zero, and mcmc fails.\n",
    "nx_graph = build_graph_from_str(data[\"dot_graph\"])\n",
    "\n",
    "treatment= data[\"treatment_name\"][0]\n",
    "outcome = data[\"outcome_name\"][0]\n",
    "common_cause = data[\"common_causes_names\"][0]\n",
    "df"
   ]
  },
  {
   "cell_type": "code",
   "execution_count": 3,
   "metadata": {
    "execution": {
     "iopub.execute_input": "2023-12-05T17:54:04.719070Z",
     "iopub.status.busy": "2023-12-05T17:54:04.718741Z",
     "iopub.status.idle": "2023-12-05T17:54:04.900572Z",
     "shell.execute_reply": "2023-12-05T17:54:04.899928Z"
    },
    "scrolled": true
   },
   "outputs": [
    {
     "data": {
      "text/plain": [
       "<Axes: xlabel='v0'>"
      ]
     },
     "execution_count": 3,
     "metadata": {},
     "output_type": "execute_result"
    },
    {
     "data": {
      "image/png": "[encoded data removed]",
      "text/plain": [
       "<Figure size 640x480 with 1 Axes>"
      ]
     },
     "metadata": {},
     "output_type": "display_data"
    }
   ],
   "source": [
    "# data['df'] is just a regular pandas.DataFrame\n",
    "df.causal.do(x=treatment,\n",
    "             variable_types={treatment: 'b', outcome: 'c', common_cause: 'c'},\n",
    "             outcome=outcome,\n",
    "             common_causes=[common_cause],\n",
    "            ).groupby(treatment).mean().plot(y=outcome, kind='bar')"
   ]
  },
  {
   "cell_type": "code",
   "execution_count": 4,
   "metadata": {
    "execution": {
     "iopub.execute_input": "2023-12-05T17:54:04.903078Z",
     "iopub.status.busy": "2023-12-05T17:54:04.902645Z",
     "iopub.status.idle": "2023-12-05T17:54:05.038494Z",
     "shell.execute_reply": "2023-12-05T17:54:05.037967Z"
    }
   },
   "outputs": [
    {
     "data": {
      "text/plain": [
       "<Axes: xlabel='v0'>"
      ]
     },
     "execution_count": 4,
     "metadata": {},
     "output_type": "execute_result"
    },
    {
     "data": {
      "image/png": "[encoded data removed]",
      "text/plain": [
       "<Figure size 640x480 with 1 Axes>"
      ]
     },
     "metadata": {},
     "output_type": "display_data"
    }
   ],
   "source": [
    "df.causal.do(x={treatment: 1}, \n",
    "              variable_types={treatment:'b', outcome: 'c', common_cause: 'c'}, \n",
    "              outcome=outcome,\n",
    "              method='weighting', \n",
    "              common_causes=[common_cause]\n",
    "              ).groupby(treatment).mean().plot(y=outcome, kind='bar')"
   ]
  },
  {
   "cell_type": "code",
   "execution_count": 5,
   "metadata": {
    "execution": {
     "iopub.execute_input": "2023-12-05T17:54:05.040847Z",
     "iopub.status.busy": "2023-12-05T17:54:05.040475Z",
     "iopub.status.idle": "2023-12-05T17:54:05.060481Z",
     "shell.execute_reply": "2023-12-05T17:54:05.059989Z"
    }
   },
   "outputs": [],
   "source": [
    "cdf_1 = df.causal.do(x={treatment: 1}, \n",
    "              variable_types={treatment: 'b', outcome: 'c', common_cause: 'c'}, \n",
    "              outcome=outcome, \n",
    "              graph=nx_graph\n",
    "              )\n",
    "\n",
    "cdf_0 = df.causal.do(x={treatment: 0}, \n",
    "              variable_types={treatment: 'b', outcome: 'c', common_cause: 'c'}, \n",
    "              outcome=outcome, \n",
    "              graph=nx_graph\n",
    "              )\n"
   ]
  },
  {
   "cell_type": "code",
   "execution_count": 6,
   "metadata": {
    "execution": {
     "iopub.execute_input": "2023-12-05T17:54:05.062786Z",
     "iopub.status.busy": "2023-12-05T17:54:05.062413Z",
     "iopub.status.idle": "2023-12-05T17:54:05.071608Z",
     "shell.execute_reply": "2023-12-05T17:54:05.071080Z"
    },
    "scrolled": true
   },
   "outputs": [
    {
     "data": {
      "text/html": [
       "<div>\n",
       "<style scoped>\n",
       "    .dataframe tbody tr th:only-of-type {\n",
       "        vertical-align: middle;\n",
       "    }\n",
       "\n",
       "    .dataframe tbody tr th {\n",
       "        vertical-align: top;\n",
       "    }\n",
       "\n",
       "    .dataframe thead th {\n",
       "        text-align: right;\n",
       "    }\n",
       "</style>\n",
       "<table border=\"1\" class=\"dataframe\">\n",
       "  <thead>\n",
       "    <tr style=\"text-align: right;\">\n",
       "      <th></th>\n",
       "      <th>W0</th>\n",
       "      <th>v0</th>\n",
       "      <th>y</th>\n",
       "      <th>propensity_score</th>\n",
       "      <th>weight</th>\n",
       "    </tr>\n",
       "  </thead>\n",
       "  <tbody>\n",
       "    <tr>\n",
       "      <th>0</th>\n",
       "      <td>1.237019</td>\n",
       "      <td>False</td>\n",
       "      <td>0.429328</td>\n",
       "      <td>0.433060</td>\n",
       "      <td>2.309147</td>\n",
       "    </tr>\n",
       "    <tr>\n",
       "      <th>1</th>\n",
       "      <td>0.212161</td>\n",
       "      <td>False</td>\n",
       "      <td>-1.088310</td>\n",
       "      <td>0.505250</td>\n",
       "      <td>1.979220</td>\n",
       "    </tr>\n",
       "    <tr>\n",
       "      <th>2</th>\n",
       "      <td>0.545859</td>\n",
       "      <td>False</td>\n",
       "      <td>0.782776</td>\n",
       "      <td>0.481621</td>\n",
       "      <td>2.076321</td>\n",
       "    </tr>\n",
       "    <tr>\n",
       "      <th>3</th>\n",
       "      <td>2.969029</td>\n",
       "      <td>False</td>\n",
       "      <td>4.010701</td>\n",
       "      <td>0.318623</td>\n",
       "      <td>3.138509</td>\n",
       "    </tr>\n",
       "    <tr>\n",
       "      <th>4</th>\n",
       "      <td>0.707998</td>\n",
       "      <td>False</td>\n",
       "      <td>-0.715354</td>\n",
       "      <td>0.470164</td>\n",
       "      <td>2.126919</td>\n",
       "    </tr>\n",
       "    <tr>\n",
       "      <th>...</th>\n",
       "      <td>...</td>\n",
       "      <td>...</td>\n",
       "      <td>...</td>\n",
       "      <td>...</td>\n",
       "      <td>...</td>\n",
       "    </tr>\n",
       "    <tr>\n",
       "      <th>995</th>\n",
       "      <td>0.333450</td>\n",
       "      <td>False</td>\n",
       "      <td>1.252157</td>\n",
       "      <td>0.496659</td>\n",
       "      <td>2.013456</td>\n",
       "    </tr>\n",
       "    <tr>\n",
       "      <th>996</th>\n",
       "      <td>0.735678</td>\n",
       "      <td>False</td>\n",
       "      <td>0.668006</td>\n",
       "      <td>0.468211</td>\n",
       "      <td>2.135791</td>\n",
       "    </tr>\n",
       "    <tr>\n",
       "      <th>997</th>\n",
       "      <td>-1.003539</td>\n",
       "      <td>False</td>\n",
       "      <td>-2.876310</td>\n",
       "      <td>0.590358</td>\n",
       "      <td>1.693888</td>\n",
       "    </tr>\n",
       "    <tr>\n",
       "      <th>998</th>\n",
       "      <td>-1.094670</td>\n",
       "      <td>False</td>\n",
       "      <td>-0.126953</td>\n",
       "      <td>0.596587</td>\n",
       "      <td>1.676201</td>\n",
       "    </tr>\n",
       "    <tr>\n",
       "      <th>999</th>\n",
       "      <td>-0.088143</td>\n",
       "      <td>False</td>\n",
       "      <td>0.069530</td>\n",
       "      <td>0.526496</td>\n",
       "      <td>1.899349</td>\n",
       "    </tr>\n",
       "  </tbody>\n",
       "</table>\n",
       "<p>1000 rows × 5 columns</p>\n",
       "</div>"
      ],
      "text/plain": [
       "           W0     v0         y  propensity_score    weight\n",
       "0    1.237019  False  0.429328          0.433060  2.309147\n",
       "1    0.212161  False -1.088310          0.505250  1.979220\n",
       "2    0.545859  False  0.782776          0.481621  2.076321\n",
       "3    2.969029  False  4.010701          0.318623  3.138509\n",
       "4    0.707998  False -0.715354          0.470164  2.126919\n",
       "..        ...    ...       ...               ...       ...\n",
       "995  0.333450  False  1.252157          0.496659  2.013456\n",
       "996  0.735678  False  0.668006          0.468211  2.135791\n",
       "997 -1.003539  False -2.876310          0.590358  1.693888\n",
       "998 -1.094670  False -0.126953          0.596587  1.676201\n",
       "999 -0.088143  False  0.069530          0.526496  1.899349\n",
       "\n",
       "[1000 rows x 5 columns]"
      ]
     },
     "execution_count": 6,
     "metadata": {},
     "output_type": "execute_result"
    }
   ],
   "source": [
    "cdf_0"
   ]
  },
  {
   "cell_type": "code",
   "execution_count": 7,
   "metadata": {
    "execution": {
     "iopub.execute_input": "2023-12-05T17:54:05.073927Z",
     "iopub.status.busy": "2023-12-05T17:54:05.073621Z",
     "iopub.status.idle": "2023-12-05T17:54:05.082601Z",
     "shell.execute_reply": "2023-12-05T17:54:05.082059Z"
    }
   },
   "outputs": [
    {
     "data": {
      "text/html": [
       "<div>\n",
       "<style scoped>\n",
       "    .dataframe tbody tr th:only-of-type {\n",
       "        vertical-align: middle;\n",
       "    }\n",
       "\n",
       "    .dataframe tbody tr th {\n",
       "        vertical-align: top;\n",
       "    }\n",
       "\n",
       "    .dataframe thead th {\n",
       "        text-align: right;\n",
       "    }\n",
       "</style>\n",
       "<table border=\"1\" class=\"dataframe\">\n",
       "  <thead>\n",
       "    <tr style=\"text-align: right;\">\n",
       "      <th></th>\n",
       "      <th>W0</th>\n",
       "      <th>v0</th>\n",
       "      <th>y</th>\n",
       "      <th>propensity_score</th>\n",
       "      <th>weight</th>\n",
       "    </tr>\n",
       "  </thead>\n",
       "  <tbody>\n",
       "    <tr>\n",
       "      <th>0</th>\n",
       "      <td>-0.385604</td>\n",
       "      <td>True</td>\n",
       "      <td>4.198492</td>\n",
       "      <td>0.452552</td>\n",
       "      <td>2.209691</td>\n",
       "    </tr>\n",
       "    <tr>\n",
       "      <th>1</th>\n",
       "      <td>0.726027</td>\n",
       "      <td>True</td>\n",
       "      <td>6.929670</td>\n",
       "      <td>0.531109</td>\n",
       "      <td>1.882854</td>\n",
       "    </tr>\n",
       "    <tr>\n",
       "      <th>2</th>\n",
       "      <td>1.022289</td>\n",
       "      <td>True</td>\n",
       "      <td>7.091965</td>\n",
       "      <td>0.551946</td>\n",
       "      <td>1.811772</td>\n",
       "    </tr>\n",
       "    <tr>\n",
       "      <th>3</th>\n",
       "      <td>-0.156933</td>\n",
       "      <td>True</td>\n",
       "      <td>6.465132</td>\n",
       "      <td>0.468647</td>\n",
       "      <td>2.133800</td>\n",
       "    </tr>\n",
       "    <tr>\n",
       "      <th>4</th>\n",
       "      <td>0.137361</td>\n",
       "      <td>True</td>\n",
       "      <td>4.197263</td>\n",
       "      <td>0.489454</td>\n",
       "      <td>2.043095</td>\n",
       "    </tr>\n",
       "    <tr>\n",
       "      <th>...</th>\n",
       "      <td>...</td>\n",
       "      <td>...</td>\n",
       "      <td>...</td>\n",
       "      <td>...</td>\n",
       "      <td>...</td>\n",
       "    </tr>\n",
       "    <tr>\n",
       "      <th>995</th>\n",
       "      <td>-0.649991</td>\n",
       "      <td>True</td>\n",
       "      <td>4.706538</td>\n",
       "      <td>0.434068</td>\n",
       "      <td>2.303788</td>\n",
       "    </tr>\n",
       "    <tr>\n",
       "      <th>996</th>\n",
       "      <td>-0.181945</td>\n",
       "      <td>True</td>\n",
       "      <td>3.511025</td>\n",
       "      <td>0.466883</td>\n",
       "      <td>2.141864</td>\n",
       "    </tr>\n",
       "    <tr>\n",
       "      <th>997</th>\n",
       "      <td>0.142760</td>\n",
       "      <td>True</td>\n",
       "      <td>5.529220</td>\n",
       "      <td>0.489836</td>\n",
       "      <td>2.041501</td>\n",
       "    </tr>\n",
       "    <tr>\n",
       "      <th>998</th>\n",
       "      <td>0.747522</td>\n",
       "      <td>True</td>\n",
       "      <td>7.590880</td>\n",
       "      <td>0.532625</td>\n",
       "      <td>1.877494</td>\n",
       "    </tr>\n",
       "    <tr>\n",
       "      <th>999</th>\n",
       "      <td>1.219450</td>\n",
       "      <td>True</td>\n",
       "      <td>5.593418</td>\n",
       "      <td>0.565717</td>\n",
       "      <td>1.767668</td>\n",
       "    </tr>\n",
       "  </tbody>\n",
       "</table>\n",
       "<p>1000 rows × 5 columns</p>\n",
       "</div>"
      ],
      "text/plain": [
       "           W0    v0         y  propensity_score    weight\n",
       "0   -0.385604  True  4.198492          0.452552  2.209691\n",
       "1    0.726027  True  6.929670          0.531109  1.882854\n",
       "2    1.022289  True  7.091965          0.551946  1.811772\n",
       "3   -0.156933  True  6.465132          0.468647  2.133800\n",
       "4    0.137361  True  4.197263          0.489454  2.043095\n",
       "..        ...   ...       ...               ...       ...\n",
       "995 -0.649991  True  4.706538          0.434068  2.303788\n",
       "996 -0.181945  True  3.511025          0.466883  2.141864\n",
       "997  0.142760  True  5.529220          0.489836  2.041501\n",
       "998  0.747522  True  7.590880          0.532625  1.877494\n",
       "999  1.219450  True  5.593418          0.565717  1.767668\n",
       "\n",
       "[1000 rows x 5 columns]"
      ]
     },
     "execution_count": 7,
     "metadata": {},
     "output_type": "execute_result"
    }
   ],
   "source": [
    "cdf_1"
   ]
  },
  {
   "cell_type": "markdown",
   "metadata": {},
   "source": [
    "## Comparing the estimate to Linear Regression\n",
    "First, estimating the effect using the causal data frame, and the 95% confidence interval."
   ]
  },
  {
   "cell_type": "code",
   "execution_count": 8,
   "metadata": {
    "execution": {
     "iopub.execute_input": "2023-12-05T17:54:05.084945Z",
     "iopub.status.busy": "2023-12-05T17:54:05.084551Z",
     "iopub.status.idle": "2023-12-05T17:54:05.217554Z",
     "shell.execute_reply": "2023-12-05T17:54:05.216868Z"
    }
   },
   "outputs": [
    {
     "data": {
      "image/png": "[encoded data removed]",
      "text/latex": [
       "$\\displaystyle 4.94755822785338$"
      ],
      "text/plain": [
       "4.947558227853375"
      ]
     },
     "execution_count": 8,
     "metadata": {},
     "output_type": "execute_result"
    }
   ],
   "source": [
    "(cdf_1['y'] - cdf_0['y']).mean()"
   ]
  },
  {
   "cell_type": "code",
   "execution_count": 9,
   "metadata": {
    "execution": {
     "iopub.execute_input": "2023-12-05T17:54:05.220056Z",
     "iopub.status.busy": "2023-12-05T17:54:05.219697Z",
     "iopub.status.idle": "2023-12-05T17:54:05.237663Z",
     "shell.execute_reply": "2023-12-05T17:54:05.237161Z"
    }
   },
   "outputs": [
    {
     "data": {
      "image/png": "[encoded data removed]",
      "text/latex": [
       "$\\displaystyle 0.141538081572032$"
      ],
      "text/plain": [
       "0.14153808157203177"
      ]
     },
     "execution_count": 9,
     "metadata": {},
     "output_type": "execute_result"
    }
   ],
   "source": [
    "1.96*(cdf_1['y'] - cdf_0['y']).std() / np.sqrt(len(df))"
   ]
  },
  {
   "cell_type": "markdown",
   "metadata": {},
   "source": [
    "Comparing to the estimate from OLS."
   ]
  },
  {
   "cell_type": "code",
   "execution_count": 10,
   "metadata": {
    "execution": {
     "iopub.execute_input": "2023-12-05T17:54:05.239985Z",
     "iopub.status.busy": "2023-12-05T17:54:05.239646Z",
     "iopub.status.idle": "2023-12-05T17:54:05.256106Z",
     "shell.execute_reply": "2023-12-05T17:54:05.255618Z"
    }
   },
   "outputs": [
    {
     "data": {
      "text/html": [
       "<table class=\"simpletable\">\n",
       "<caption>OLS Regression Results</caption>\n",
       "<tr>\n",
       "  <th>Dep. Variable:</th>            <td>y</td>        <th>  R-squared (uncentered):</th>      <td>   0.948</td>\n",
       "</tr>\n",
       "<tr>\n",
       "  <th>Model:</th>                   <td>OLS</td>       <th>  Adj. R-squared (uncentered):</th> <td>   0.948</td>\n",
       "</tr>\n",
       "<tr>\n",
       "  <th>Method:</th>             <td>Least Squares</td>  <th>  F-statistic:       </th>          <td>   9142.</td>\n",
       "</tr>\n",
       "<tr>\n",
       "  <th>Date:</th>             <td>Tue, 05 Dec 2023</td> <th>  Prob (F-statistic):</th>           <td>  0.00</td> \n",
       "</tr>\n",
       "<tr>\n",
       "  <th>Time:</th>                 <td>17:54:05</td>     <th>  Log-Likelihood:    </th>          <td> -1374.3</td>\n",
       "</tr>\n",
       "<tr>\n",
       "  <th>No. Observations:</th>      <td>  1000</td>      <th>  AIC:               </th>          <td>   2753.</td>\n",
       "</tr>\n",
       "<tr>\n",
       "  <th>Df Residuals:</th>          <td>   998</td>      <th>  BIC:               </th>          <td>   2762.</td>\n",
       "</tr>\n",
       "<tr>\n",
       "  <th>Df Model:</th>              <td>     2</td>      <th>                     </th>              <td> </td>   \n",
       "</tr>\n",
       "<tr>\n",
       "  <th>Covariance Type:</th>      <td>nonrobust</td>    <th>                     </th>              <td> </td>   \n",
       "</tr>\n",
       "</table>\n",
       "<table class=\"simpletable\">\n",
       "<tr>\n",
       "   <td></td>     <th>coef</th>     <th>std err</th>      <th>t</th>      <th>P>|t|</th>  <th>[0.025</th>    <th>0.975]</th>  \n",
       "</tr>\n",
       "<tr>\n",
       "  <th>x1</th> <td>    1.3130</td> <td>    0.031</td> <td>   42.767</td> <td> 0.000</td> <td>    1.253</td> <td>    1.373</td>\n",
       "</tr>\n",
       "<tr>\n",
       "  <th>x2</th> <td>    4.9601</td> <td>    0.045</td> <td>  111.066</td> <td> 0.000</td> <td>    4.872</td> <td>    5.048</td>\n",
       "</tr>\n",
       "</table>\n",
       "<table class=\"simpletable\">\n",
       "<tr>\n",
       "  <th>Omnibus:</th>       <td> 3.780</td> <th>  Durbin-Watson:     </th> <td>   1.947</td>\n",
       "</tr>\n",
       "<tr>\n",
       "  <th>Prob(Omnibus):</th> <td> 0.151</td> <th>  Jarque-Bera (JB):  </th> <td>   3.633</td>\n",
       "</tr>\n",
       "<tr>\n",
       "  <th>Skew:</th>          <td> 0.135</td> <th>  Prob(JB):          </th> <td>   0.163</td>\n",
       "</tr>\n",
       "<tr>\n",
       "  <th>Kurtosis:</th>      <td> 3.120</td> <th>  Cond. No.          </th> <td>    1.61</td>\n",
       "</tr>\n",
       "</table><br/><br/>Notes:<br/>[1] R² is computed without centering (uncentered) since the model does not contain a constant.<br/>[2] Standard Errors assume that the covariance matrix of the errors is correctly specified."
      ],
      "text/latex": [
       "\\begin{center}\n",
       "\\begin{tabular}{lclc}\n",
       "\\toprule\n",
       "\\textbf{Dep. Variable:}    &        y         & \\textbf{  R-squared (uncentered):}      &     0.948   \\\\\n",
       "\\textbf{Model:}            &       OLS        & \\textbf{  Adj. R-squared (uncentered):} &     0.948   \\\\\n",
       "\\textbf{Method:}           &  Least Squares   & \\textbf{  F-statistic:       }          &     9142.   \\\\\n",
       "\\textbf{Date:}             & Tue, 05 Dec 2023 & \\textbf{  Prob (F-statistic):}          &     0.00    \\\\\n",
       "\\textbf{Time:}             &     17:54:05     & \\textbf{  Log-Likelihood:    }          &   -1374.3   \\\\\n",
       "\\textbf{No. Observations:} &        1000      & \\textbf{  AIC:               }          &     2753.   \\\\\n",
       "\\textbf{Df Residuals:}     &         998      & \\textbf{  BIC:               }          &     2762.   \\\\\n",
       "\\textbf{Df Model:}         &           2      & \\textbf{                     }          &             \\\\\n",
       "\\textbf{Covariance Type:}  &    nonrobust     & \\textbf{                     }          &             \\\\\n",
       "\\bottomrule\n",
       "\\end{tabular}\n",
       "\\begin{tabular}{lcccccc}\n",
       "            & \\textbf{coef} & \\textbf{std err} & \\textbf{t} & \\textbf{P$> |$t$|$} & \\textbf{[0.025} & \\textbf{0.975]}  \\\\\n",
       "\\midrule\n",
       "\\textbf{x1} &       1.3130  &        0.031     &    42.767  &         0.000        &        1.253    &        1.373     \\\\\n",
       "\\textbf{x2} &       4.9601  &        0.045     &   111.066  &         0.000        &        4.872    &        5.048     \\\\\n",
       "\\bottomrule\n",
       "\\end{tabular}\n",
       "\\begin{tabular}{lclc}\n",
       "\\textbf{Omnibus:}       &  3.780 & \\textbf{  Durbin-Watson:     } &    1.947  \\\\\n",
       "\\textbf{Prob(Omnibus):} &  0.151 & \\textbf{  Jarque-Bera (JB):  } &    3.633  \\\\\n",
       "\\textbf{Skew:}          &  0.135 & \\textbf{  Prob(JB):          } &    0.163  \\\\\n",
       "\\textbf{Kurtosis:}      &  3.120 & \\textbf{  Cond. No.          } &     1.61  \\\\\n",
       "\\bottomrule\n",
       "\\end{tabular}\n",
       "%\\caption{OLS Regression Results}\n",
       "\\end{center}\n",
       "\n",
       "Notes: \\newline\n",
       " [1] R² is computed without centering (uncentered) since the model does not contain a constant. \\newline\n",
       " [2] Standard Errors assume that the covariance matrix of the errors is correctly specified."
      ],
      "text/plain": [
       "<class 'statsmodels.iolib.summary.Summary'>\n",
       "\"\"\"\n",
       "                                 OLS Regression Results                                \n",
       "=======================================================================================\n",
       "Dep. Variable:                      y   R-squared (uncentered):                   0.948\n",
       "Model:                            OLS   Adj. R-squared (uncentered):              0.948\n",
       "Method:                 Least Squares   F-statistic:                              9142.\n",
       "Date:                Tue, 05 Dec 2023   Prob (F-statistic):                        0.00\n",
       "Time:                        17:54:05   Log-Likelihood:                         -1374.3\n",
       "No. Observations:                1000   AIC:                                      2753.\n",
       "Df Residuals:                     998   BIC:                                      2762.\n",
       "Df Model:                           2                                                  \n",
       "Covariance Type:            nonrobust                                                  \n",
       "==============================================================================\n",
       "                 coef    std err          t      P>|t|      [0.025      0.975]\n",
       "------------------------------------------------------------------------------\n",
       "x1             1.3130      0.031     42.767      0.000       1.253       1.373\n",
       "x2             4.9601      0.045    111.066      0.000       4.872       5.048\n",
       "==============================================================================\n",
       "Omnibus:                        3.780   Durbin-Watson:                   1.947\n",
       "Prob(Omnibus):                  0.151   Jarque-Bera (JB):                3.633\n",
       "Skew:                           0.135   Prob(JB):                        0.163\n",
       "Kurtosis:                       3.120   Cond. No.                         1.61\n",
       "==============================================================================\n",
       "\n",
       "Notes:\n",
       "[1] R² is computed without centering (uncentered) since the model does not contain a constant.\n",
       "[2] Standard Errors assume that the covariance matrix of the errors is correctly specified.\n",
       "\"\"\""
      ]
     },
     "execution_count": 10,
     "metadata": {},
     "output_type": "execute_result"
    }
   ],
   "source": [
    "model = OLS(np.asarray(df[outcome]), np.asarray(df[[common_cause, treatment]], dtype=np.float64))\n",
    "result = model.fit()\n",
    "result.summary()"
   ]
  }
 ],
 "metadata": {
  "kernelspec": {
   "display_name": "Python 3 (ipykernel)",
   "language": "python",
   "name": "python3"
  },
  "language_info": {
   "codemirror_mode": {
    "name": "ipython",
    "version": 3
   },
   "file_extension": ".py",
   "mimetype": "text/x-python",
   "name": "python",
   "nbconvert_exporter": "python",
   "pygments_lexer": "ipython3",
   "version": "3.8.10"
  },
  "toc": {
   "base_numbering": 1,
   "nav_menu": {},
   "number_sections": false,
   "sideBar": true,
   "skip_h1_title": true,
   "title_cell": "Table of Contents",
   "title_sidebar": "Contents",
   "toc_cell": false,
   "toc_position": {},
   "toc_section_display": true,
   "toc_window_display": false
  }
 },
 "nbformat": 4,
 "nbformat_minor": 4
}
