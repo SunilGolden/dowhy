{
 "cells": [
  {
   "cell_type": "markdown",
   "metadata": {},
   "source": [
    "# Demo for the DoWhy causal API\n",
    "We show a simple example of adding a causal extension to any dataframe. "
   ]
  },
  {
   "cell_type": "code",
   "execution_count": 1,
   "metadata": {
    "execution": {
     "iopub.execute_input": "2023-12-25T07:24:14.931933Z",
     "iopub.status.busy": "2023-12-25T07:24:14.931757Z",
     "iopub.status.idle": "2023-12-25T07:24:16.310409Z",
     "shell.execute_reply": "2023-12-25T07:24:16.309813Z"
    }
   },
   "outputs": [],
   "source": [
    "import dowhy.datasets\n",
    "import dowhy.api\n",
    "from dowhy.graph import build_graph_from_str\n",
    "\n",
    "import numpy as np\n",
    "import pandas as pd\n",
    "\n",
    "from statsmodels.api import OLS"
   ]
  },
  {
   "cell_type": "code",
   "execution_count": 2,
   "metadata": {
    "execution": {
     "iopub.execute_input": "2023-12-25T07:24:16.313166Z",
     "iopub.status.busy": "2023-12-25T07:24:16.312863Z",
     "iopub.status.idle": "2023-12-25T07:24:16.355970Z",
     "shell.execute_reply": "2023-12-25T07:24:16.355387Z"
    }
   },
   "outputs": [
    {
     "data": {
      "text/html": [
       "<div>\n",
       "<style scoped>\n",
       "    .dataframe tbody tr th:only-of-type {\n",
       "        vertical-align: middle;\n",
       "    }\n",
       "\n",
       "    .dataframe tbody tr th {\n",
       "        vertical-align: top;\n",
       "    }\n",
       "\n",
       "    .dataframe thead th {\n",
       "        text-align: right;\n",
       "    }\n",
       "</style>\n",
       "<table border=\"1\" class=\"dataframe\">\n",
       "  <thead>\n",
       "    <tr style=\"text-align: right;\">\n",
       "      <th></th>\n",
       "      <th>W0</th>\n",
       "      <th>v0</th>\n",
       "      <th>y</th>\n",
       "    </tr>\n",
       "  </thead>\n",
       "  <tbody>\n",
       "    <tr>\n",
       "      <th>0</th>\n",
       "      <td>-1.352371</td>\n",
       "      <td>False</td>\n",
       "      <td>-2.800845</td>\n",
       "    </tr>\n",
       "    <tr>\n",
       "      <th>1</th>\n",
       "      <td>1.840101</td>\n",
       "      <td>True</td>\n",
       "      <td>5.312718</td>\n",
       "    </tr>\n",
       "    <tr>\n",
       "      <th>2</th>\n",
       "      <td>1.462809</td>\n",
       "      <td>True</td>\n",
       "      <td>5.135988</td>\n",
       "    </tr>\n",
       "    <tr>\n",
       "      <th>3</th>\n",
       "      <td>-1.268049</td>\n",
       "      <td>False</td>\n",
       "      <td>-0.090203</td>\n",
       "    </tr>\n",
       "    <tr>\n",
       "      <th>4</th>\n",
       "      <td>-1.062236</td>\n",
       "      <td>False</td>\n",
       "      <td>1.062694</td>\n",
       "    </tr>\n",
       "    <tr>\n",
       "      <th>...</th>\n",
       "      <td>...</td>\n",
       "      <td>...</td>\n",
       "      <td>...</td>\n",
       "    </tr>\n",
       "    <tr>\n",
       "      <th>995</th>\n",
       "      <td>0.278762</td>\n",
       "      <td>False</td>\n",
       "      <td>0.058603</td>\n",
       "    </tr>\n",
       "    <tr>\n",
       "      <th>996</th>\n",
       "      <td>1.429788</td>\n",
       "      <td>True</td>\n",
       "      <td>9.476343</td>\n",
       "    </tr>\n",
       "    <tr>\n",
       "      <th>997</th>\n",
       "      <td>-2.136987</td>\n",
       "      <td>False</td>\n",
       "      <td>-2.413670</td>\n",
       "    </tr>\n",
       "    <tr>\n",
       "      <th>998</th>\n",
       "      <td>-2.070323</td>\n",
       "      <td>False</td>\n",
       "      <td>-1.066857</td>\n",
       "    </tr>\n",
       "    <tr>\n",
       "      <th>999</th>\n",
       "      <td>-0.415496</td>\n",
       "      <td>True</td>\n",
       "      <td>3.013789</td>\n",
       "    </tr>\n",
       "  </tbody>\n",
       "</table>\n",
       "<p>1000 rows × 3 columns</p>\n",
       "</div>"
      ],
      "text/plain": [
       "           W0     v0         y\n",
       "0   -1.352371  False -2.800845\n",
       "1    1.840101   True  5.312718\n",
       "2    1.462809   True  5.135988\n",
       "3   -1.268049  False -0.090203\n",
       "4   -1.062236  False  1.062694\n",
       "..        ...    ...       ...\n",
       "995  0.278762  False  0.058603\n",
       "996  1.429788   True  9.476343\n",
       "997 -2.136987  False -2.413670\n",
       "998 -2.070323  False -1.066857\n",
       "999 -0.415496   True  3.013789\n",
       "\n",
       "[1000 rows x 3 columns]"
      ]
     },
     "execution_count": 2,
     "metadata": {},
     "output_type": "execute_result"
    }
   ],
   "source": [
    "data = dowhy.datasets.linear_dataset(beta=5,\n",
    "        num_common_causes=1,\n",
    "        num_instruments = 0,\n",
    "        num_samples=1000,\n",
    "        treatment_is_binary=True)\n",
    "df = data['df']\n",
    "df['y'] = df['y'] + np.random.normal(size=len(df)) # Adding noise to data. Without noise, the variance in Y|X, Z is zero, and mcmc fails.\n",
    "nx_graph = build_graph_from_str(data[\"dot_graph\"])\n",
    "\n",
    "treatment= data[\"treatment_name\"][0]\n",
    "outcome = data[\"outcome_name\"][0]\n",
    "common_cause = data[\"common_causes_names\"][0]\n",
    "df"
   ]
  },
  {
   "cell_type": "code",
   "execution_count": 3,
   "metadata": {
    "execution": {
     "iopub.execute_input": "2023-12-25T07:24:16.358414Z",
     "iopub.status.busy": "2023-12-25T07:24:16.358033Z",
     "iopub.status.idle": "2023-12-25T07:24:16.534693Z",
     "shell.execute_reply": "2023-12-25T07:24:16.534155Z"
    },
    "scrolled": true
   },
   "outputs": [
    {
     "data": {
      "text/plain": [
       "<Axes: xlabel='v0'>"
      ]
     },
     "execution_count": 3,
     "metadata": {},
     "output_type": "execute_result"
    },
    {
     "data": {
      "image/png": "[encoded data removed]",
      "text/plain": [
       "<Figure size 640x480 with 1 Axes>"
      ]
     },
     "metadata": {},
     "output_type": "display_data"
    }
   ],
   "source": [
    "# data['df'] is just a regular pandas.DataFrame\n",
    "df.causal.do(x=treatment,\n",
    "             variable_types={treatment: 'b', outcome: 'c', common_cause: 'c'},\n",
    "             outcome=outcome,\n",
    "             common_causes=[common_cause],\n",
    "            ).groupby(treatment).mean().plot(y=outcome, kind='bar')"
   ]
  },
  {
   "cell_type": "code",
   "execution_count": 4,
   "metadata": {
    "execution": {
     "iopub.execute_input": "2023-12-25T07:24:16.537212Z",
     "iopub.status.busy": "2023-12-25T07:24:16.536824Z",
     "iopub.status.idle": "2023-12-25T07:24:16.663356Z",
     "shell.execute_reply": "2023-12-25T07:24:16.662788Z"
    }
   },
   "outputs": [
    {
     "data": {
      "text/plain": [
       "<Axes: xlabel='v0'>"
      ]
     },
     "execution_count": 4,
     "metadata": {},
     "output_type": "execute_result"
    },
    {
     "data": {
      "image/png": "[encoded data removed]",
      "text/plain": [
       "<Figure size 640x480 with 1 Axes>"
      ]
     },
     "metadata": {},
     "output_type": "display_data"
    }
   ],
   "source": [
    "df.causal.do(x={treatment: 1}, \n",
    "              variable_types={treatment:'b', outcome: 'c', common_cause: 'c'}, \n",
    "              outcome=outcome,\n",
    "              method='weighting', \n",
    "              common_causes=[common_cause]\n",
    "              ).groupby(treatment).mean().plot(y=outcome, kind='bar')"
   ]
  },
  {
   "cell_type": "code",
   "execution_count": 5,
   "metadata": {
    "execution": {
     "iopub.execute_input": "2023-12-25T07:24:16.666396Z",
     "iopub.status.busy": "2023-12-25T07:24:16.665987Z",
     "iopub.status.idle": "2023-12-25T07:24:16.686941Z",
     "shell.execute_reply": "2023-12-25T07:24:16.686354Z"
    }
   },
   "outputs": [],
   "source": [
    "cdf_1 = df.causal.do(x={treatment: 1}, \n",
    "              variable_types={treatment: 'b', outcome: 'c', common_cause: 'c'}, \n",
    "              outcome=outcome, \n",
    "              graph=nx_graph\n",
    "              )\n",
    "\n",
    "cdf_0 = df.causal.do(x={treatment: 0}, \n",
    "              variable_types={treatment: 'b', outcome: 'c', common_cause: 'c'}, \n",
    "              outcome=outcome, \n",
    "              graph=nx_graph\n",
    "              )\n"
   ]
  },
  {
   "cell_type": "code",
   "execution_count": 6,
   "metadata": {
    "execution": {
     "iopub.execute_input": "2023-12-25T07:24:16.689570Z",
     "iopub.status.busy": "2023-12-25T07:24:16.689229Z",
     "iopub.status.idle": "2023-12-25T07:24:16.698054Z",
     "shell.execute_reply": "2023-12-25T07:24:16.697552Z"
    },
    "scrolled": true
   },
   "outputs": [
    {
     "data": {
      "text/html": [
       "<div>\n",
       "<style scoped>\n",
       "    .dataframe tbody tr th:only-of-type {\n",
       "        vertical-align: middle;\n",
       "    }\n",
       "\n",
       "    .dataframe tbody tr th {\n",
       "        vertical-align: top;\n",
       "    }\n",
       "\n",
       "    .dataframe thead th {\n",
       "        text-align: right;\n",
       "    }\n",
       "</style>\n",
       "<table border=\"1\" class=\"dataframe\">\n",
       "  <thead>\n",
       "    <tr style=\"text-align: right;\">\n",
       "      <th></th>\n",
       "      <th>W0</th>\n",
       "      <th>v0</th>\n",
       "      <th>y</th>\n",
       "      <th>propensity_score</th>\n",
       "      <th>weight</th>\n",
       "    </tr>\n",
       "  </thead>\n",
       "  <tbody>\n",
       "    <tr>\n",
       "      <th>0</th>\n",
       "      <td>2.404146</td>\n",
       "      <td>False</td>\n",
       "      <td>3.487173</td>\n",
       "      <td>0.221540</td>\n",
       "      <td>4.513856</td>\n",
       "    </tr>\n",
       "    <tr>\n",
       "      <th>1</th>\n",
       "      <td>-0.119822</td>\n",
       "      <td>False</td>\n",
       "      <td>0.453772</td>\n",
       "      <td>0.542849</td>\n",
       "      <td>1.842132</td>\n",
       "    </tr>\n",
       "    <tr>\n",
       "      <th>2</th>\n",
       "      <td>-0.614196</td>\n",
       "      <td>False</td>\n",
       "      <td>0.697349</td>\n",
       "      <td>0.611026</td>\n",
       "      <td>1.636591</td>\n",
       "    </tr>\n",
       "    <tr>\n",
       "      <th>3</th>\n",
       "      <td>-0.064320</td>\n",
       "      <td>False</td>\n",
       "      <td>1.124111</td>\n",
       "      <td>0.535044</td>\n",
       "      <td>1.869006</td>\n",
       "    </tr>\n",
       "    <tr>\n",
       "      <th>4</th>\n",
       "      <td>-0.137764</td>\n",
       "      <td>False</td>\n",
       "      <td>-1.384972</td>\n",
       "      <td>0.545368</td>\n",
       "      <td>1.833623</td>\n",
       "    </tr>\n",
       "    <tr>\n",
       "      <th>...</th>\n",
       "      <td>...</td>\n",
       "      <td>...</td>\n",
       "      <td>...</td>\n",
       "      <td>...</td>\n",
       "      <td>...</td>\n",
       "    </tr>\n",
       "    <tr>\n",
       "      <th>995</th>\n",
       "      <td>-0.776681</td>\n",
       "      <td>False</td>\n",
       "      <td>-1.094488</td>\n",
       "      <td>0.632648</td>\n",
       "      <td>1.580659</td>\n",
       "    </tr>\n",
       "    <tr>\n",
       "      <th>996</th>\n",
       "      <td>0.397365</td>\n",
       "      <td>False</td>\n",
       "      <td>0.620665</td>\n",
       "      <td>0.469811</td>\n",
       "      <td>2.128515</td>\n",
       "    </tr>\n",
       "    <tr>\n",
       "      <th>997</th>\n",
       "      <td>0.713727</td>\n",
       "      <td>False</td>\n",
       "      <td>2.663563</td>\n",
       "      <td>0.425568</td>\n",
       "      <td>2.349803</td>\n",
       "    </tr>\n",
       "    <tr>\n",
       "      <th>998</th>\n",
       "      <td>1.595413</td>\n",
       "      <td>False</td>\n",
       "      <td>2.558598</td>\n",
       "      <td>0.310243</td>\n",
       "      <td>3.223276</td>\n",
       "    </tr>\n",
       "    <tr>\n",
       "      <th>999</th>\n",
       "      <td>1.712484</td>\n",
       "      <td>False</td>\n",
       "      <td>2.700458</td>\n",
       "      <td>0.296245</td>\n",
       "      <td>3.375582</td>\n",
       "    </tr>\n",
       "  </tbody>\n",
       "</table>\n",
       "<p>1000 rows × 5 columns</p>\n",
       "</div>"
      ],
      "text/plain": [
       "           W0     v0         y  propensity_score    weight\n",
       "0    2.404146  False  3.487173          0.221540  4.513856\n",
       "1   -0.119822  False  0.453772          0.542849  1.842132\n",
       "2   -0.614196  False  0.697349          0.611026  1.636591\n",
       "3   -0.064320  False  1.124111          0.535044  1.869006\n",
       "4   -0.137764  False -1.384972          0.545368  1.833623\n",
       "..        ...    ...       ...               ...       ...\n",
       "995 -0.776681  False -1.094488          0.632648  1.580659\n",
       "996  0.397365  False  0.620665          0.469811  2.128515\n",
       "997  0.713727  False  2.663563          0.425568  2.349803\n",
       "998  1.595413  False  2.558598          0.310243  3.223276\n",
       "999  1.712484  False  2.700458          0.296245  3.375582\n",
       "\n",
       "[1000 rows x 5 columns]"
      ]
     },
     "execution_count": 6,
     "metadata": {},
     "output_type": "execute_result"
    }
   ],
   "source": [
    "cdf_0"
   ]
  },
  {
   "cell_type": "code",
   "execution_count": 7,
   "metadata": {
    "execution": {
     "iopub.execute_input": "2023-12-25T07:24:16.700040Z",
     "iopub.status.busy": "2023-12-25T07:24:16.699851Z",
     "iopub.status.idle": "2023-12-25T07:24:16.708740Z",
     "shell.execute_reply": "2023-12-25T07:24:16.708077Z"
    }
   },
   "outputs": [
    {
     "data": {
      "text/html": [
       "<div>\n",
       "<style scoped>\n",
       "    .dataframe tbody tr th:only-of-type {\n",
       "        vertical-align: middle;\n",
       "    }\n",
       "\n",
       "    .dataframe tbody tr th {\n",
       "        vertical-align: top;\n",
       "    }\n",
       "\n",
       "    .dataframe thead th {\n",
       "        text-align: right;\n",
       "    }\n",
       "</style>\n",
       "<table border=\"1\" class=\"dataframe\">\n",
       "  <thead>\n",
       "    <tr style=\"text-align: right;\">\n",
       "      <th></th>\n",
       "      <th>W0</th>\n",
       "      <th>v0</th>\n",
       "      <th>y</th>\n",
       "      <th>propensity_score</th>\n",
       "      <th>weight</th>\n",
       "    </tr>\n",
       "  </thead>\n",
       "  <tbody>\n",
       "    <tr>\n",
       "      <th>0</th>\n",
       "      <td>-0.607244</td>\n",
       "      <td>True</td>\n",
       "      <td>3.065915</td>\n",
       "      <td>0.389909</td>\n",
       "      <td>2.564699</td>\n",
       "    </tr>\n",
       "    <tr>\n",
       "      <th>1</th>\n",
       "      <td>-0.777414</td>\n",
       "      <td>True</td>\n",
       "      <td>4.223191</td>\n",
       "      <td>0.367256</td>\n",
       "      <td>2.722898</td>\n",
       "    </tr>\n",
       "    <tr>\n",
       "      <th>2</th>\n",
       "      <td>-2.025207</td>\n",
       "      <td>True</td>\n",
       "      <td>2.215251</td>\n",
       "      <td>0.222658</td>\n",
       "      <td>4.491188</td>\n",
       "    </tr>\n",
       "    <tr>\n",
       "      <th>3</th>\n",
       "      <td>-1.701738</td>\n",
       "      <td>True</td>\n",
       "      <td>1.773618</td>\n",
       "      <td>0.255943</td>\n",
       "      <td>3.907120</td>\n",
       "    </tr>\n",
       "    <tr>\n",
       "      <th>4</th>\n",
       "      <td>-0.578541</td>\n",
       "      <td>True</td>\n",
       "      <td>5.247765</td>\n",
       "      <td>0.393781</td>\n",
       "      <td>2.539485</td>\n",
       "    </tr>\n",
       "    <tr>\n",
       "      <th>...</th>\n",
       "      <td>...</td>\n",
       "      <td>...</td>\n",
       "      <td>...</td>\n",
       "      <td>...</td>\n",
       "      <td>...</td>\n",
       "    </tr>\n",
       "    <tr>\n",
       "      <th>995</th>\n",
       "      <td>0.044282</td>\n",
       "      <td>True</td>\n",
       "      <td>5.576950</td>\n",
       "      <td>0.480276</td>\n",
       "      <td>2.082137</td>\n",
       "    </tr>\n",
       "    <tr>\n",
       "      <th>996</th>\n",
       "      <td>-2.149224</td>\n",
       "      <td>True</td>\n",
       "      <td>1.854231</td>\n",
       "      <td>0.210746</td>\n",
       "      <td>4.745046</td>\n",
       "    </tr>\n",
       "    <tr>\n",
       "      <th>997</th>\n",
       "      <td>-0.777414</td>\n",
       "      <td>True</td>\n",
       "      <td>4.223191</td>\n",
       "      <td>0.367256</td>\n",
       "      <td>2.722898</td>\n",
       "    </tr>\n",
       "    <tr>\n",
       "      <th>998</th>\n",
       "      <td>1.066502</td>\n",
       "      <td>True</td>\n",
       "      <td>5.893722</td>\n",
       "      <td>0.622371</td>\n",
       "      <td>1.606758</td>\n",
       "    </tr>\n",
       "    <tr>\n",
       "      <th>999</th>\n",
       "      <td>-0.543172</td>\n",
       "      <td>True</td>\n",
       "      <td>3.854451</td>\n",
       "      <td>0.398569</td>\n",
       "      <td>2.508973</td>\n",
       "    </tr>\n",
       "  </tbody>\n",
       "</table>\n",
       "<p>1000 rows × 5 columns</p>\n",
       "</div>"
      ],
      "text/plain": [
       "           W0    v0         y  propensity_score    weight\n",
       "0   -0.607244  True  3.065915          0.389909  2.564699\n",
       "1   -0.777414  True  4.223191          0.367256  2.722898\n",
       "2   -2.025207  True  2.215251          0.222658  4.491188\n",
       "3   -1.701738  True  1.773618          0.255943  3.907120\n",
       "4   -0.578541  True  5.247765          0.393781  2.539485\n",
       "..        ...   ...       ...               ...       ...\n",
       "995  0.044282  True  5.576950          0.480276  2.082137\n",
       "996 -2.149224  True  1.854231          0.210746  4.745046\n",
       "997 -0.777414  True  4.223191          0.367256  2.722898\n",
       "998  1.066502  True  5.893722          0.622371  1.606758\n",
       "999 -0.543172  True  3.854451          0.398569  2.508973\n",
       "\n",
       "[1000 rows x 5 columns]"
      ]
     },
     "execution_count": 7,
     "metadata": {},
     "output_type": "execute_result"
    }
   ],
   "source": [
    "cdf_1"
   ]
  },
  {
   "cell_type": "markdown",
   "metadata": {},
   "source": [
    "## Comparing the estimate to Linear Regression\n",
    "First, estimating the effect using the causal data frame, and the 95% confidence interval."
   ]
  },
  {
   "cell_type": "code",
   "execution_count": 8,
   "metadata": {
    "execution": {
     "iopub.execute_input": "2023-12-25T07:24:16.711035Z",
     "iopub.status.busy": "2023-12-25T07:24:16.710701Z",
     "iopub.status.idle": "2023-12-25T07:24:16.756612Z",
     "shell.execute_reply": "2023-12-25T07:24:16.755999Z"
    }
   },
   "outputs": [
    {
     "data": {
      "image/png": "[encoded data removed]",
      "text/latex": [
       "$\\displaystyle 5.03222846738008$"
      ],
      "text/plain": [
       "5.032228467380078"
      ]
     },
     "execution_count": 8,
     "metadata": {},
     "output_type": "execute_result"
    }
   ],
   "source": [
    "(cdf_1['y'] - cdf_0['y']).mean()"
   ]
  },
  {
   "cell_type": "code",
   "execution_count": 9,
   "metadata": {
    "execution": {
     "iopub.execute_input": "2023-12-25T07:24:16.758874Z",
     "iopub.status.busy": "2023-12-25T07:24:16.758538Z",
     "iopub.status.idle": "2023-12-25T07:24:16.774177Z",
     "shell.execute_reply": "2023-12-25T07:24:16.773626Z"
    }
   },
   "outputs": [
    {
     "data": {
      "image/png": "[encoded data removed]",
      "text/latex": [
       "$\\displaystyle 0.125764811665961$"
      ],
      "text/plain": [
       "0.12576481166596112"
      ]
     },
     "execution_count": 9,
     "metadata": {},
     "output_type": "execute_result"
    }
   ],
   "source": [
    "1.96*(cdf_1['y'] - cdf_0['y']).std() / np.sqrt(len(df))"
   ]
  },
  {
   "cell_type": "markdown",
   "metadata": {},
   "source": [
    "Comparing to the estimate from OLS."
   ]
  },
  {
   "cell_type": "code",
   "execution_count": 10,
   "metadata": {
    "execution": {
     "iopub.execute_input": "2023-12-25T07:24:16.776504Z",
     "iopub.status.busy": "2023-12-25T07:24:16.776054Z",
     "iopub.status.idle": "2023-12-25T07:24:16.793721Z",
     "shell.execute_reply": "2023-12-25T07:24:16.793130Z"
    }
   },
   "outputs": [
    {
     "data": {
      "text/html": [
       "<table class=\"simpletable\">\n",
       "<caption>OLS Regression Results</caption>\n",
       "<tr>\n",
       "  <th>Dep. Variable:</th>            <td>y</td>        <th>  R-squared (uncentered):</th>      <td>   0.929</td>\n",
       "</tr>\n",
       "<tr>\n",
       "  <th>Model:</th>                   <td>OLS</td>       <th>  Adj. R-squared (uncentered):</th> <td>   0.928</td>\n",
       "</tr>\n",
       "<tr>\n",
       "  <th>Method:</th>             <td>Least Squares</td>  <th>  F-statistic:       </th>          <td>   6487.</td>\n",
       "</tr>\n",
       "<tr>\n",
       "  <th>Date:</th>             <td>Mon, 25 Dec 2023</td> <th>  Prob (F-statistic):</th>           <td>  0.00</td> \n",
       "</tr>\n",
       "<tr>\n",
       "  <th>Time:</th>                 <td>07:24:16</td>     <th>  Log-Likelihood:    </th>          <td> -1372.1</td>\n",
       "</tr>\n",
       "<tr>\n",
       "  <th>No. Observations:</th>      <td>  1000</td>      <th>  AIC:               </th>          <td>   2748.</td>\n",
       "</tr>\n",
       "<tr>\n",
       "  <th>Df Residuals:</th>          <td>   998</td>      <th>  BIC:               </th>          <td>   2758.</td>\n",
       "</tr>\n",
       "<tr>\n",
       "  <th>Df Model:</th>              <td>     2</td>      <th>                     </th>              <td> </td>   \n",
       "</tr>\n",
       "<tr>\n",
       "  <th>Covariance Type:</th>      <td>nonrobust</td>    <th>                     </th>              <td> </td>   \n",
       "</tr>\n",
       "</table>\n",
       "<table class=\"simpletable\">\n",
       "<tr>\n",
       "   <td></td>     <th>coef</th>     <th>std err</th>      <th>t</th>      <th>P>|t|</th>  <th>[0.025</th>    <th>0.975]</th>  \n",
       "</tr>\n",
       "<tr>\n",
       "  <th>x1</th> <td>    1.0182</td> <td>    0.028</td> <td>   36.171</td> <td> 0.000</td> <td>    0.963</td> <td>    1.073</td>\n",
       "</tr>\n",
       "<tr>\n",
       "  <th>x2</th> <td>    5.0284</td> <td>    0.046</td> <td>  108.991</td> <td> 0.000</td> <td>    4.938</td> <td>    5.119</td>\n",
       "</tr>\n",
       "</table>\n",
       "<table class=\"simpletable\">\n",
       "<tr>\n",
       "  <th>Omnibus:</th>       <td> 2.186</td> <th>  Durbin-Watson:     </th> <td>   1.932</td>\n",
       "</tr>\n",
       "<tr>\n",
       "  <th>Prob(Omnibus):</th> <td> 0.335</td> <th>  Jarque-Bera (JB):  </th> <td>   2.056</td>\n",
       "</tr>\n",
       "<tr>\n",
       "  <th>Skew:</th>          <td> 0.045</td> <th>  Prob(JB):          </th> <td>   0.358</td>\n",
       "</tr>\n",
       "<tr>\n",
       "  <th>Kurtosis:</th>      <td> 2.797</td> <th>  Cond. No.          </th> <td>    1.64</td>\n",
       "</tr>\n",
       "</table><br/><br/>Notes:<br/>[1] R² is computed without centering (uncentered) since the model does not contain a constant.<br/>[2] Standard Errors assume that the covariance matrix of the errors is correctly specified."
      ],
      "text/latex": [
       "\\begin{center}\n",
       "\\begin{tabular}{lclc}\n",
       "\\toprule\n",
       "\\textbf{Dep. Variable:}    &        y         & \\textbf{  R-squared (uncentered):}      &     0.929   \\\\\n",
       "\\textbf{Model:}            &       OLS        & \\textbf{  Adj. R-squared (uncentered):} &     0.928   \\\\\n",
       "\\textbf{Method:}           &  Least Squares   & \\textbf{  F-statistic:       }          &     6487.   \\\\\n",
       "\\textbf{Date:}             & Mon, 25 Dec 2023 & \\textbf{  Prob (F-statistic):}          &     0.00    \\\\\n",
       "\\textbf{Time:}             &     07:24:16     & \\textbf{  Log-Likelihood:    }          &   -1372.1   \\\\\n",
       "\\textbf{No. Observations:} &        1000      & \\textbf{  AIC:               }          &     2748.   \\\\\n",
       "\\textbf{Df Residuals:}     &         998      & \\textbf{  BIC:               }          &     2758.   \\\\\n",
       "\\textbf{Df Model:}         &           2      & \\textbf{                     }          &             \\\\\n",
       "\\textbf{Covariance Type:}  &    nonrobust     & \\textbf{                     }          &             \\\\\n",
       "\\bottomrule\n",
       "\\end{tabular}\n",
       "\\begin{tabular}{lcccccc}\n",
       "            & \\textbf{coef} & \\textbf{std err} & \\textbf{t} & \\textbf{P$> |$t$|$} & \\textbf{[0.025} & \\textbf{0.975]}  \\\\\n",
       "\\midrule\n",
       "\\textbf{x1} &       1.0182  &        0.028     &    36.171  &         0.000        &        0.963    &        1.073     \\\\\n",
       "\\textbf{x2} &       5.0284  &        0.046     &   108.991  &         0.000        &        4.938    &        5.119     \\\\\n",
       "\\bottomrule\n",
       "\\end{tabular}\n",
       "\\begin{tabular}{lclc}\n",
       "\\textbf{Omnibus:}       &  2.186 & \\textbf{  Durbin-Watson:     } &    1.932  \\\\\n",
       "\\textbf{Prob(Omnibus):} &  0.335 & \\textbf{  Jarque-Bera (JB):  } &    2.056  \\\\\n",
       "\\textbf{Skew:}          &  0.045 & \\textbf{  Prob(JB):          } &    0.358  \\\\\n",
       "\\textbf{Kurtosis:}      &  2.797 & \\textbf{  Cond. No.          } &     1.64  \\\\\n",
       "\\bottomrule\n",
       "\\end{tabular}\n",
       "%\\caption{OLS Regression Results}\n",
       "\\end{center}\n",
       "\n",
       "Notes: \\newline\n",
       " [1] R² is computed without centering (uncentered) since the model does not contain a constant. \\newline\n",
       " [2] Standard Errors assume that the covariance matrix of the errors is correctly specified."
      ],
      "text/plain": [
       "<class 'statsmodels.iolib.summary.Summary'>\n",
       "\"\"\"\n",
       "                                 OLS Regression Results                                \n",
       "=======================================================================================\n",
       "Dep. Variable:                      y   R-squared (uncentered):                   0.929\n",
       "Model:                            OLS   Adj. R-squared (uncentered):              0.928\n",
       "Method:                 Least Squares   F-statistic:                              6487.\n",
       "Date:                Mon, 25 Dec 2023   Prob (F-statistic):                        0.00\n",
       "Time:                        07:24:16   Log-Likelihood:                         -1372.1\n",
       "No. Observations:                1000   AIC:                                      2748.\n",
       "Df Residuals:                     998   BIC:                                      2758.\n",
       "Df Model:                           2                                                  \n",
       "Covariance Type:            nonrobust                                                  \n",
       "==============================================================================\n",
       "                 coef    std err          t      P>|t|      [0.025      0.975]\n",
       "------------------------------------------------------------------------------\n",
       "x1             1.0182      0.028     36.171      0.000       0.963       1.073\n",
       "x2             5.0284      0.046    108.991      0.000       4.938       5.119\n",
       "==============================================================================\n",
       "Omnibus:                        2.186   Durbin-Watson:                   1.932\n",
       "Prob(Omnibus):                  0.335   Jarque-Bera (JB):                2.056\n",
       "Skew:                           0.045   Prob(JB):                        0.358\n",
       "Kurtosis:                       2.797   Cond. No.                         1.64\n",
       "==============================================================================\n",
       "\n",
       "Notes:\n",
       "[1] R² is computed without centering (uncentered) since the model does not contain a constant.\n",
       "[2] Standard Errors assume that the covariance matrix of the errors is correctly specified.\n",
       "\"\"\""
      ]
     },
     "execution_count": 10,
     "metadata": {},
     "output_type": "execute_result"
    }
   ],
   "source": [
    "model = OLS(np.asarray(df[outcome]), np.asarray(df[[common_cause, treatment]], dtype=np.float64))\n",
    "result = model.fit()\n",
    "result.summary()"
   ]
  }
 ],
 "metadata": {
  "kernelspec": {
   "display_name": "Python 3 (ipykernel)",
   "language": "python",
   "name": "python3"
  },
  "language_info": {
   "codemirror_mode": {
    "name": "ipython",
    "version": 3
   },
   "file_extension": ".py",
   "mimetype": "text/x-python",
   "name": "python",
   "nbconvert_exporter": "python",
   "pygments_lexer": "ipython3",
   "version": "3.8.10"
  },
  "toc": {
   "base_numbering": 1,
   "nav_menu": {},
   "number_sections": false,
   "sideBar": true,
   "skip_h1_title": true,
   "title_cell": "Table of Contents",
   "title_sidebar": "Contents",
   "toc_cell": false,
   "toc_position": {},
   "toc_section_display": true,
   "toc_window_display": false
  }
 },
 "nbformat": 4,
 "nbformat_minor": 4
}
