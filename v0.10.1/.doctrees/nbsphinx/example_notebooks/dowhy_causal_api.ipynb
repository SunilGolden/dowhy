{
 "cells": [
  {
   "cell_type": "markdown",
   "metadata": {},
   "source": [
    "# Demo for the DoWhy causal API\n",
    "We show a simple example of adding a causal extension to any dataframe. "
   ]
  },
  {
   "cell_type": "code",
   "execution_count": 1,
   "metadata": {
    "execution": {
     "iopub.execute_input": "2023-09-05T05:11:11.628590Z",
     "iopub.status.busy": "2023-09-05T05:11:11.627912Z",
     "iopub.status.idle": "2023-09-05T05:11:13.362164Z",
     "shell.execute_reply": "2023-09-05T05:11:13.361436Z"
    }
   },
   "outputs": [],
   "source": [
    "import dowhy.datasets\n",
    "import dowhy.api\n",
    "\n",
    "import numpy as np\n",
    "import pandas as pd\n",
    "\n",
    "from statsmodels.api import OLS"
   ]
  },
  {
   "cell_type": "code",
   "execution_count": 2,
   "metadata": {
    "execution": {
     "iopub.execute_input": "2023-09-05T05:11:13.366696Z",
     "iopub.status.busy": "2023-09-05T05:11:13.365965Z",
     "iopub.status.idle": "2023-09-05T05:11:13.413509Z",
     "shell.execute_reply": "2023-09-05T05:11:13.412815Z"
    }
   },
   "outputs": [
    {
     "data": {
      "text/html": [
       "<div>\n",
       "<style scoped>\n",
       "    .dataframe tbody tr th:only-of-type {\n",
       "        vertical-align: middle;\n",
       "    }\n",
       "\n",
       "    .dataframe tbody tr th {\n",
       "        vertical-align: top;\n",
       "    }\n",
       "\n",
       "    .dataframe thead th {\n",
       "        text-align: right;\n",
       "    }\n",
       "</style>\n",
       "<table border=\"1\" class=\"dataframe\">\n",
       "  <thead>\n",
       "    <tr style=\"text-align: right;\">\n",
       "      <th></th>\n",
       "      <th>W0</th>\n",
       "      <th>v0</th>\n",
       "      <th>y</th>\n",
       "    </tr>\n",
       "  </thead>\n",
       "  <tbody>\n",
       "    <tr>\n",
       "      <th>0</th>\n",
       "      <td>-1.012777</td>\n",
       "      <td>False</td>\n",
       "      <td>-3.042986</td>\n",
       "    </tr>\n",
       "    <tr>\n",
       "      <th>1</th>\n",
       "      <td>0.289858</td>\n",
       "      <td>False</td>\n",
       "      <td>1.112130</td>\n",
       "    </tr>\n",
       "    <tr>\n",
       "      <th>2</th>\n",
       "      <td>1.347723</td>\n",
       "      <td>True</td>\n",
       "      <td>8.063621</td>\n",
       "    </tr>\n",
       "    <tr>\n",
       "      <th>3</th>\n",
       "      <td>-0.464752</td>\n",
       "      <td>False</td>\n",
       "      <td>-0.189419</td>\n",
       "    </tr>\n",
       "    <tr>\n",
       "      <th>4</th>\n",
       "      <td>0.121820</td>\n",
       "      <td>False</td>\n",
       "      <td>-0.439537</td>\n",
       "    </tr>\n",
       "    <tr>\n",
       "      <th>...</th>\n",
       "      <td>...</td>\n",
       "      <td>...</td>\n",
       "      <td>...</td>\n",
       "    </tr>\n",
       "    <tr>\n",
       "      <th>995</th>\n",
       "      <td>-1.797895</td>\n",
       "      <td>False</td>\n",
       "      <td>-4.532083</td>\n",
       "    </tr>\n",
       "    <tr>\n",
       "      <th>996</th>\n",
       "      <td>-1.601010</td>\n",
       "      <td>False</td>\n",
       "      <td>-4.809766</td>\n",
       "    </tr>\n",
       "    <tr>\n",
       "      <th>997</th>\n",
       "      <td>-0.639639</td>\n",
       "      <td>False</td>\n",
       "      <td>-1.936961</td>\n",
       "    </tr>\n",
       "    <tr>\n",
       "      <th>998</th>\n",
       "      <td>-2.256174</td>\n",
       "      <td>False</td>\n",
       "      <td>-5.319564</td>\n",
       "    </tr>\n",
       "    <tr>\n",
       "      <th>999</th>\n",
       "      <td>-0.270505</td>\n",
       "      <td>False</td>\n",
       "      <td>-0.054673</td>\n",
       "    </tr>\n",
       "  </tbody>\n",
       "</table>\n",
       "<p>1000 rows × 3 columns</p>\n",
       "</div>"
      ],
      "text/plain": [
       "           W0     v0         y\n",
       "0   -1.012777  False -3.042986\n",
       "1    0.289858  False  1.112130\n",
       "2    1.347723   True  8.063621\n",
       "3   -0.464752  False -0.189419\n",
       "4    0.121820  False -0.439537\n",
       "..        ...    ...       ...\n",
       "995 -1.797895  False -4.532083\n",
       "996 -1.601010  False -4.809766\n",
       "997 -0.639639  False -1.936961\n",
       "998 -2.256174  False -5.319564\n",
       "999 -0.270505  False -0.054673\n",
       "\n",
       "[1000 rows x 3 columns]"
      ]
     },
     "execution_count": 2,
     "metadata": {},
     "output_type": "execute_result"
    }
   ],
   "source": [
    "data = dowhy.datasets.linear_dataset(beta=5,\n",
    "        num_common_causes=1,\n",
    "        num_instruments = 0,\n",
    "        num_samples=1000,\n",
    "        treatment_is_binary=True)\n",
    "df = data['df']\n",
    "df['y'] = df['y'] + np.random.normal(size=len(df)) # Adding noise to data. Without noise, the variance in Y|X, Z is zero, and mcmc fails.\n",
    "#data['dot_graph'] = 'digraph { v ->y;X0-> v;X0-> y;}'\n",
    "\n",
    "treatment= data[\"treatment_name\"][0]\n",
    "outcome = data[\"outcome_name\"][0]\n",
    "common_cause = data[\"common_causes_names\"][0]\n",
    "df"
   ]
  },
  {
   "cell_type": "code",
   "execution_count": 3,
   "metadata": {
    "execution": {
     "iopub.execute_input": "2023-09-05T05:11:13.416979Z",
     "iopub.status.busy": "2023-09-05T05:11:13.416494Z",
     "iopub.status.idle": "2023-09-05T05:11:13.623002Z",
     "shell.execute_reply": "2023-09-05T05:11:13.622331Z"
    }
   },
   "outputs": [
    {
     "data": {
      "text/plain": [
       "<Axes: xlabel='v0'>"
      ]
     },
     "execution_count": 3,
     "metadata": {},
     "output_type": "execute_result"
    },
    {
     "data": {
      "image/png": "[encoded data removed]",
      "text/plain": [
       "<Figure size 640x480 with 1 Axes>"
      ]
     },
     "metadata": {},
     "output_type": "display_data"
    }
   ],
   "source": [
    "# data['df'] is just a regular pandas.DataFrame\n",
    "df.causal.do(x=treatment,\n",
    "                     variable_types={treatment: 'b', outcome: 'c', common_cause: 'c'},\n",
    "                     outcome=outcome,\n",
    "                     common_causes=[common_cause],\n",
    "                     proceed_when_unidentifiable=True).groupby(treatment).mean().plot(y=outcome, kind='bar')"
   ]
  },
  {
   "cell_type": "code",
   "execution_count": 4,
   "metadata": {
    "execution": {
     "iopub.execute_input": "2023-09-05T05:11:13.626171Z",
     "iopub.status.busy": "2023-09-05T05:11:13.625699Z",
     "iopub.status.idle": "2023-09-05T05:11:13.781894Z",
     "shell.execute_reply": "2023-09-05T05:11:13.781277Z"
    }
   },
   "outputs": [
    {
     "data": {
      "text/plain": [
       "<Axes: xlabel='v0'>"
      ]
     },
     "execution_count": 4,
     "metadata": {},
     "output_type": "execute_result"
    },
    {
     "data": {
      "image/png": "[encoded data removed]",
      "text/plain": [
       "<Figure size 640x480 with 1 Axes>"
      ]
     },
     "metadata": {},
     "output_type": "display_data"
    }
   ],
   "source": [
    "df.causal.do(x={treatment: 1}, \n",
    "              variable_types={treatment:'b', outcome: 'c', common_cause: 'c'}, \n",
    "              outcome=outcome,\n",
    "              method='weighting', \n",
    "              common_causes=[common_cause],\n",
    "              proceed_when_unidentifiable=True).groupby(treatment).mean().plot(y=outcome, kind='bar')"
   ]
  },
  {
   "cell_type": "code",
   "execution_count": 5,
   "metadata": {
    "execution": {
     "iopub.execute_input": "2023-09-05T05:11:13.785439Z",
     "iopub.status.busy": "2023-09-05T05:11:13.784937Z",
     "iopub.status.idle": "2023-09-05T05:11:13.818858Z",
     "shell.execute_reply": "2023-09-05T05:11:13.818208Z"
    }
   },
   "outputs": [],
   "source": [
    "cdf_1 = df.causal.do(x={treatment: 1}, \n",
    "              variable_types={treatment: 'b', outcome: 'c', common_cause: 'c'}, \n",
    "              outcome=outcome, \n",
    "              dot_graph=data['dot_graph'],\n",
    "              proceed_when_unidentifiable=True)\n",
    "\n",
    "cdf_0 = df.causal.do(x={treatment: 0}, \n",
    "              variable_types={treatment: 'b', outcome: 'c', common_cause: 'c'}, \n",
    "              outcome=outcome, \n",
    "              dot_graph=data['dot_graph'],\n",
    "              proceed_when_unidentifiable=True)\n"
   ]
  },
  {
   "cell_type": "code",
   "execution_count": 6,
   "metadata": {
    "execution": {
     "iopub.execute_input": "2023-09-05T05:11:13.822169Z",
     "iopub.status.busy": "2023-09-05T05:11:13.821754Z",
     "iopub.status.idle": "2023-09-05T05:11:13.833327Z",
     "shell.execute_reply": "2023-09-05T05:11:13.832629Z"
    },
    "scrolled": true
   },
   "outputs": [
    {
     "data": {
      "text/html": [
       "<div>\n",
       "<style scoped>\n",
       "    .dataframe tbody tr th:only-of-type {\n",
       "        vertical-align: middle;\n",
       "    }\n",
       "\n",
       "    .dataframe tbody tr th {\n",
       "        vertical-align: top;\n",
       "    }\n",
       "\n",
       "    .dataframe thead th {\n",
       "        text-align: right;\n",
       "    }\n",
       "</style>\n",
       "<table border=\"1\" class=\"dataframe\">\n",
       "  <thead>\n",
       "    <tr style=\"text-align: right;\">\n",
       "      <th></th>\n",
       "      <th>W0</th>\n",
       "      <th>v0</th>\n",
       "      <th>y</th>\n",
       "      <th>propensity_score</th>\n",
       "      <th>weight</th>\n",
       "    </tr>\n",
       "  </thead>\n",
       "  <tbody>\n",
       "    <tr>\n",
       "      <th>0</th>\n",
       "      <td>-0.304858</td>\n",
       "      <td>False</td>\n",
       "      <td>-1.448515</td>\n",
       "      <td>0.532390</td>\n",
       "      <td>1.878323</td>\n",
       "    </tr>\n",
       "    <tr>\n",
       "      <th>1</th>\n",
       "      <td>-0.625992</td>\n",
       "      <td>False</td>\n",
       "      <td>-2.489382</td>\n",
       "      <td>0.594945</td>\n",
       "      <td>1.680829</td>\n",
       "    </tr>\n",
       "    <tr>\n",
       "      <th>2</th>\n",
       "      <td>0.918621</td>\n",
       "      <td>False</td>\n",
       "      <td>2.341392</td>\n",
       "      <td>0.301398</td>\n",
       "      <td>3.317870</td>\n",
       "    </tr>\n",
       "    <tr>\n",
       "      <th>3</th>\n",
       "      <td>-0.650677</td>\n",
       "      <td>False</td>\n",
       "      <td>-1.249433</td>\n",
       "      <td>0.599654</td>\n",
       "      <td>1.667629</td>\n",
       "    </tr>\n",
       "    <tr>\n",
       "      <th>4</th>\n",
       "      <td>0.232127</td>\n",
       "      <td>False</td>\n",
       "      <td>0.969079</td>\n",
       "      <td>0.426496</td>\n",
       "      <td>2.344690</td>\n",
       "    </tr>\n",
       "    <tr>\n",
       "      <th>...</th>\n",
       "      <td>...</td>\n",
       "      <td>...</td>\n",
       "      <td>...</td>\n",
       "      <td>...</td>\n",
       "      <td>...</td>\n",
       "    </tr>\n",
       "    <tr>\n",
       "      <th>995</th>\n",
       "      <td>-0.486277</td>\n",
       "      <td>False</td>\n",
       "      <td>-1.746970</td>\n",
       "      <td>0.567984</td>\n",
       "      <td>1.760612</td>\n",
       "    </tr>\n",
       "    <tr>\n",
       "      <th>996</th>\n",
       "      <td>-0.994063</td>\n",
       "      <td>False</td>\n",
       "      <td>-0.910734</td>\n",
       "      <td>0.662929</td>\n",
       "      <td>1.508456</td>\n",
       "    </tr>\n",
       "    <tr>\n",
       "      <th>997</th>\n",
       "      <td>-0.600021</td>\n",
       "      <td>False</td>\n",
       "      <td>-0.240069</td>\n",
       "      <td>0.589971</td>\n",
       "      <td>1.694998</td>\n",
       "    </tr>\n",
       "    <tr>\n",
       "      <th>998</th>\n",
       "      <td>-1.467687</td>\n",
       "      <td>False</td>\n",
       "      <td>-3.689877</td>\n",
       "      <td>0.741164</td>\n",
       "      <td>1.349230</td>\n",
       "    </tr>\n",
       "    <tr>\n",
       "      <th>999</th>\n",
       "      <td>0.139491</td>\n",
       "      <td>False</td>\n",
       "      <td>-0.503729</td>\n",
       "      <td>0.444556</td>\n",
       "      <td>2.249433</td>\n",
       "    </tr>\n",
       "  </tbody>\n",
       "</table>\n",
       "<p>1000 rows × 5 columns</p>\n",
       "</div>"
      ],
      "text/plain": [
       "           W0     v0         y  propensity_score    weight\n",
       "0   -0.304858  False -1.448515          0.532390  1.878323\n",
       "1   -0.625992  False -2.489382          0.594945  1.680829\n",
       "2    0.918621  False  2.341392          0.301398  3.317870\n",
       "3   -0.650677  False -1.249433          0.599654  1.667629\n",
       "4    0.232127  False  0.969079          0.426496  2.344690\n",
       "..        ...    ...       ...               ...       ...\n",
       "995 -0.486277  False -1.746970          0.567984  1.760612\n",
       "996 -0.994063  False -0.910734          0.662929  1.508456\n",
       "997 -0.600021  False -0.240069          0.589971  1.694998\n",
       "998 -1.467687  False -3.689877          0.741164  1.349230\n",
       "999  0.139491  False -0.503729          0.444556  2.249433\n",
       "\n",
       "[1000 rows x 5 columns]"
      ]
     },
     "execution_count": 6,
     "metadata": {},
     "output_type": "execute_result"
    }
   ],
   "source": [
    "cdf_0"
   ]
  },
  {
   "cell_type": "code",
   "execution_count": 7,
   "metadata": {
    "execution": {
     "iopub.execute_input": "2023-09-05T05:11:13.836542Z",
     "iopub.status.busy": "2023-09-05T05:11:13.836290Z",
     "iopub.status.idle": "2023-09-05T05:11:13.847536Z",
     "shell.execute_reply": "2023-09-05T05:11:13.846853Z"
    }
   },
   "outputs": [
    {
     "data": {
      "text/html": [
       "<div>\n",
       "<style scoped>\n",
       "    .dataframe tbody tr th:only-of-type {\n",
       "        vertical-align: middle;\n",
       "    }\n",
       "\n",
       "    .dataframe tbody tr th {\n",
       "        vertical-align: top;\n",
       "    }\n",
       "\n",
       "    .dataframe thead th {\n",
       "        text-align: right;\n",
       "    }\n",
       "</style>\n",
       "<table border=\"1\" class=\"dataframe\">\n",
       "  <thead>\n",
       "    <tr style=\"text-align: right;\">\n",
       "      <th></th>\n",
       "      <th>W0</th>\n",
       "      <th>v0</th>\n",
       "      <th>y</th>\n",
       "      <th>propensity_score</th>\n",
       "      <th>weight</th>\n",
       "    </tr>\n",
       "  </thead>\n",
       "  <tbody>\n",
       "    <tr>\n",
       "      <th>0</th>\n",
       "      <td>-0.540636</td>\n",
       "      <td>True</td>\n",
       "      <td>3.159776</td>\n",
       "      <td>0.421469</td>\n",
       "      <td>2.372652</td>\n",
       "    </tr>\n",
       "    <tr>\n",
       "      <th>1</th>\n",
       "      <td>-0.517413</td>\n",
       "      <td>True</td>\n",
       "      <td>4.373290</td>\n",
       "      <td>0.425967</td>\n",
       "      <td>2.347601</td>\n",
       "    </tr>\n",
       "    <tr>\n",
       "      <th>2</th>\n",
       "      <td>-1.011418</td>\n",
       "      <td>True</td>\n",
       "      <td>3.547779</td>\n",
       "      <td>0.334002</td>\n",
       "      <td>2.993996</td>\n",
       "    </tr>\n",
       "    <tr>\n",
       "      <th>3</th>\n",
       "      <td>-1.705678</td>\n",
       "      <td>True</td>\n",
       "      <td>-0.387705</td>\n",
       "      <td>0.224299</td>\n",
       "      <td>4.458329</td>\n",
       "    </tr>\n",
       "    <tr>\n",
       "      <th>4</th>\n",
       "      <td>-1.809141</td>\n",
       "      <td>True</td>\n",
       "      <td>-0.779102</td>\n",
       "      <td>0.210345</td>\n",
       "      <td>4.754091</td>\n",
       "    </tr>\n",
       "    <tr>\n",
       "      <th>...</th>\n",
       "      <td>...</td>\n",
       "      <td>...</td>\n",
       "      <td>...</td>\n",
       "      <td>...</td>\n",
       "      <td>...</td>\n",
       "    </tr>\n",
       "    <tr>\n",
       "      <th>995</th>\n",
       "      <td>-0.207755</td>\n",
       "      <td>True</td>\n",
       "      <td>5.120488</td>\n",
       "      <td>0.486822</td>\n",
       "      <td>2.054139</td>\n",
       "    </tr>\n",
       "    <tr>\n",
       "      <th>996</th>\n",
       "      <td>-0.597498</td>\n",
       "      <td>True</td>\n",
       "      <td>3.878264</td>\n",
       "      <td>0.410513</td>\n",
       "      <td>2.435976</td>\n",
       "    </tr>\n",
       "    <tr>\n",
       "      <th>997</th>\n",
       "      <td>0.806819</td>\n",
       "      <td>True</td>\n",
       "      <td>7.124728</td>\n",
       "      <td>0.679609</td>\n",
       "      <td>1.471435</td>\n",
       "    </tr>\n",
       "    <tr>\n",
       "      <th>998</th>\n",
       "      <td>-1.339661</td>\n",
       "      <td>True</td>\n",
       "      <td>3.927840</td>\n",
       "      <td>0.278788</td>\n",
       "      <td>3.586958</td>\n",
       "    </tr>\n",
       "    <tr>\n",
       "      <th>999</th>\n",
       "      <td>-2.158812</td>\n",
       "      <td>True</td>\n",
       "      <td>-0.987639</td>\n",
       "      <td>0.167956</td>\n",
       "      <td>5.953941</td>\n",
       "    </tr>\n",
       "  </tbody>\n",
       "</table>\n",
       "<p>1000 rows × 5 columns</p>\n",
       "</div>"
      ],
      "text/plain": [
       "           W0    v0         y  propensity_score    weight\n",
       "0   -0.540636  True  3.159776          0.421469  2.372652\n",
       "1   -0.517413  True  4.373290          0.425967  2.347601\n",
       "2   -1.011418  True  3.547779          0.334002  2.993996\n",
       "3   -1.705678  True -0.387705          0.224299  4.458329\n",
       "4   -1.809141  True -0.779102          0.210345  4.754091\n",
       "..        ...   ...       ...               ...       ...\n",
       "995 -0.207755  True  5.120488          0.486822  2.054139\n",
       "996 -0.597498  True  3.878264          0.410513  2.435976\n",
       "997  0.806819  True  7.124728          0.679609  1.471435\n",
       "998 -1.339661  True  3.927840          0.278788  3.586958\n",
       "999 -2.158812  True -0.987639          0.167956  5.953941\n",
       "\n",
       "[1000 rows x 5 columns]"
      ]
     },
     "execution_count": 7,
     "metadata": {},
     "output_type": "execute_result"
    }
   ],
   "source": [
    "cdf_1"
   ]
  },
  {
   "cell_type": "markdown",
   "metadata": {},
   "source": [
    "## Comparing the estimate to Linear Regression\n",
    "First, estimating the effect using the causal data frame, and the 95% confidence interval."
   ]
  },
  {
   "cell_type": "code",
   "execution_count": 8,
   "metadata": {
    "execution": {
     "iopub.execute_input": "2023-09-05T05:11:13.851715Z",
     "iopub.status.busy": "2023-09-05T05:11:13.851338Z",
     "iopub.status.idle": "2023-09-05T05:11:13.912420Z",
     "shell.execute_reply": "2023-09-05T05:11:13.911580Z"
    }
   },
   "outputs": [
    {
     "data": {
      "image/png": "[encoded data removed]",
      "text/latex": [
       "$\\displaystyle 5.00995911537052$"
      ],
      "text/plain": [
       "5.009959115370522"
      ]
     },
     "execution_count": 8,
     "metadata": {},
     "output_type": "execute_result"
    }
   ],
   "source": [
    "(cdf_1['y'] - cdf_0['y']).mean()"
   ]
  },
  {
   "cell_type": "code",
   "execution_count": 9,
   "metadata": {
    "execution": {
     "iopub.execute_input": "2023-09-05T05:11:13.915779Z",
     "iopub.status.busy": "2023-09-05T05:11:13.915374Z",
     "iopub.status.idle": "2023-09-05T05:11:13.937017Z",
     "shell.execute_reply": "2023-09-05T05:11:13.936285Z"
    }
   },
   "outputs": [
    {
     "data": {
      "image/png": "[encoded data removed]",
      "text/latex": [
       "$\\displaystyle 0.214614822056212$"
      ],
      "text/plain": [
       "0.21461482205621188"
      ]
     },
     "execution_count": 9,
     "metadata": {},
     "output_type": "execute_result"
    }
   ],
   "source": [
    "1.96*(cdf_1['y'] - cdf_0['y']).std() / np.sqrt(len(df))"
   ]
  },
  {
   "cell_type": "markdown",
   "metadata": {},
   "source": [
    "Comparing to the estimate from OLS."
   ]
  },
  {
   "cell_type": "code",
   "execution_count": 10,
   "metadata": {
    "execution": {
     "iopub.execute_input": "2023-09-05T05:11:13.940289Z",
     "iopub.status.busy": "2023-09-05T05:11:13.940021Z",
     "iopub.status.idle": "2023-09-05T05:11:13.961306Z",
     "shell.execute_reply": "2023-09-05T05:11:13.960736Z"
    }
   },
   "outputs": [
    {
     "data": {
      "text/html": [
       "<table class=\"simpletable\">\n",
       "<caption>OLS Regression Results</caption>\n",
       "<tr>\n",
       "  <th>Dep. Variable:</th>            <td>y</td>        <th>  R-squared (uncentered):</th>      <td>   0.938</td>\n",
       "</tr>\n",
       "<tr>\n",
       "  <th>Model:</th>                   <td>OLS</td>       <th>  Adj. R-squared (uncentered):</th> <td>   0.938</td>\n",
       "</tr>\n",
       "<tr>\n",
       "  <th>Method:</th>             <td>Least Squares</td>  <th>  F-statistic:       </th>          <td>   7593.</td>\n",
       "</tr>\n",
       "<tr>\n",
       "  <th>Date:</th>             <td>Tue, 05 Sep 2023</td> <th>  Prob (F-statistic):</th>           <td>  0.00</td> \n",
       "</tr>\n",
       "<tr>\n",
       "  <th>Time:</th>                 <td>05:11:13</td>     <th>  Log-Likelihood:    </th>          <td> -1418.2</td>\n",
       "</tr>\n",
       "<tr>\n",
       "  <th>No. Observations:</th>      <td>  1000</td>      <th>  AIC:               </th>          <td>   2840.</td>\n",
       "</tr>\n",
       "<tr>\n",
       "  <th>Df Residuals:</th>          <td>   998</td>      <th>  BIC:               </th>          <td>   2850.</td>\n",
       "</tr>\n",
       "<tr>\n",
       "  <th>Df Model:</th>              <td>     2</td>      <th>                     </th>              <td> </td>   \n",
       "</tr>\n",
       "<tr>\n",
       "  <th>Covariance Type:</th>      <td>nonrobust</td>    <th>                     </th>              <td> </td>   \n",
       "</tr>\n",
       "</table>\n",
       "<table class=\"simpletable\">\n",
       "<tr>\n",
       "   <td></td>     <th>coef</th>     <th>std err</th>      <th>t</th>      <th>P>|t|</th>  <th>[0.025</th>    <th>0.975]</th>  \n",
       "</tr>\n",
       "<tr>\n",
       "  <th>x1</th> <td>    2.3582</td> <td>    0.028</td> <td>   85.636</td> <td> 0.000</td> <td>    2.304</td> <td>    2.412</td>\n",
       "</tr>\n",
       "<tr>\n",
       "  <th>x2</th> <td>    5.0888</td> <td>    0.050</td> <td>  101.283</td> <td> 0.000</td> <td>    4.990</td> <td>    5.187</td>\n",
       "</tr>\n",
       "</table>\n",
       "<table class=\"simpletable\">\n",
       "<tr>\n",
       "  <th>Omnibus:</th>       <td> 5.587</td> <th>  Durbin-Watson:     </th> <td>   2.044</td>\n",
       "</tr>\n",
       "<tr>\n",
       "  <th>Prob(Omnibus):</th> <td> 0.061</td> <th>  Jarque-Bera (JB):  </th> <td>   5.476</td>\n",
       "</tr>\n",
       "<tr>\n",
       "  <th>Skew:</th>          <td>-0.177</td> <th>  Prob(JB):          </th> <td>  0.0647</td>\n",
       "</tr>\n",
       "<tr>\n",
       "  <th>Kurtosis:</th>      <td> 3.080</td> <th>  Cond. No.          </th> <td>    1.87</td>\n",
       "</tr>\n",
       "</table><br/><br/>Notes:<br/>[1] R² is computed without centering (uncentered) since the model does not contain a constant.<br/>[2] Standard Errors assume that the covariance matrix of the errors is correctly specified."
      ],
      "text/latex": [
       "\\begin{center}\n",
       "\\begin{tabular}{lclc}\n",
       "\\toprule\n",
       "\\textbf{Dep. Variable:}    &        y         & \\textbf{  R-squared (uncentered):}      &     0.938   \\\\\n",
       "\\textbf{Model:}            &       OLS        & \\textbf{  Adj. R-squared (uncentered):} &     0.938   \\\\\n",
       "\\textbf{Method:}           &  Least Squares   & \\textbf{  F-statistic:       }          &     7593.   \\\\\n",
       "\\textbf{Date:}             & Tue, 05 Sep 2023 & \\textbf{  Prob (F-statistic):}          &     0.00    \\\\\n",
       "\\textbf{Time:}             &     05:11:13     & \\textbf{  Log-Likelihood:    }          &   -1418.2   \\\\\n",
       "\\textbf{No. Observations:} &        1000      & \\textbf{  AIC:               }          &     2840.   \\\\\n",
       "\\textbf{Df Residuals:}     &         998      & \\textbf{  BIC:               }          &     2850.   \\\\\n",
       "\\textbf{Df Model:}         &           2      & \\textbf{                     }          &             \\\\\n",
       "\\textbf{Covariance Type:}  &    nonrobust     & \\textbf{                     }          &             \\\\\n",
       "\\bottomrule\n",
       "\\end{tabular}\n",
       "\\begin{tabular}{lcccccc}\n",
       "            & \\textbf{coef} & \\textbf{std err} & \\textbf{t} & \\textbf{P$> |$t$|$} & \\textbf{[0.025} & \\textbf{0.975]}  \\\\\n",
       "\\midrule\n",
       "\\textbf{x1} &       2.3582  &        0.028     &    85.636  &         0.000        &        2.304    &        2.412     \\\\\n",
       "\\textbf{x2} &       5.0888  &        0.050     &   101.283  &         0.000        &        4.990    &        5.187     \\\\\n",
       "\\bottomrule\n",
       "\\end{tabular}\n",
       "\\begin{tabular}{lclc}\n",
       "\\textbf{Omnibus:}       &  5.587 & \\textbf{  Durbin-Watson:     } &    2.044  \\\\\n",
       "\\textbf{Prob(Omnibus):} &  0.061 & \\textbf{  Jarque-Bera (JB):  } &    5.476  \\\\\n",
       "\\textbf{Skew:}          & -0.177 & \\textbf{  Prob(JB):          } &   0.0647  \\\\\n",
       "\\textbf{Kurtosis:}      &  3.080 & \\textbf{  Cond. No.          } &     1.87  \\\\\n",
       "\\bottomrule\n",
       "\\end{tabular}\n",
       "%\\caption{OLS Regression Results}\n",
       "\\end{center}\n",
       "\n",
       "Notes: \\newline\n",
       " [1] R² is computed without centering (uncentered) since the model does not contain a constant. \\newline\n",
       " [2] Standard Errors assume that the covariance matrix of the errors is correctly specified."
      ],
      "text/plain": [
       "<class 'statsmodels.iolib.summary.Summary'>\n",
       "\"\"\"\n",
       "                                 OLS Regression Results                                \n",
       "=======================================================================================\n",
       "Dep. Variable:                      y   R-squared (uncentered):                   0.938\n",
       "Model:                            OLS   Adj. R-squared (uncentered):              0.938\n",
       "Method:                 Least Squares   F-statistic:                              7593.\n",
       "Date:                Tue, 05 Sep 2023   Prob (F-statistic):                        0.00\n",
       "Time:                        05:11:13   Log-Likelihood:                         -1418.2\n",
       "No. Observations:                1000   AIC:                                      2840.\n",
       "Df Residuals:                     998   BIC:                                      2850.\n",
       "Df Model:                           2                                                  \n",
       "Covariance Type:            nonrobust                                                  \n",
       "==============================================================================\n",
       "                 coef    std err          t      P>|t|      [0.025      0.975]\n",
       "------------------------------------------------------------------------------\n",
       "x1             2.3582      0.028     85.636      0.000       2.304       2.412\n",
       "x2             5.0888      0.050    101.283      0.000       4.990       5.187\n",
       "==============================================================================\n",
       "Omnibus:                        5.587   Durbin-Watson:                   2.044\n",
       "Prob(Omnibus):                  0.061   Jarque-Bera (JB):                5.476\n",
       "Skew:                          -0.177   Prob(JB):                       0.0647\n",
       "Kurtosis:                       3.080   Cond. No.                         1.87\n",
       "==============================================================================\n",
       "\n",
       "Notes:\n",
       "[1] R² is computed without centering (uncentered) since the model does not contain a constant.\n",
       "[2] Standard Errors assume that the covariance matrix of the errors is correctly specified.\n",
       "\"\"\""
      ]
     },
     "execution_count": 10,
     "metadata": {},
     "output_type": "execute_result"
    }
   ],
   "source": [
    "model = OLS(np.asarray(df[outcome]), np.asarray(df[[common_cause, treatment]], dtype=np.float64))\n",
    "result = model.fit()\n",
    "result.summary()"
   ]
  }
 ],
 "metadata": {
  "kernelspec": {
   "display_name": "Python 3",
   "language": "python",
   "name": "python3"
  },
  "language_info": {
   "codemirror_mode": {
    "name": "ipython",
    "version": 3
   },
   "file_extension": ".py",
   "mimetype": "text/x-python",
   "name": "python",
   "nbconvert_exporter": "python",
   "pygments_lexer": "ipython3",
   "version": "3.8.10"
  },
  "toc": {
   "base_numbering": 1,
   "nav_menu": {},
   "number_sections": false,
   "sideBar": true,
   "skip_h1_title": true,
   "title_cell": "Table of Contents",
   "title_sidebar": "Contents",
   "toc_cell": false,
   "toc_position": {},
   "toc_section_display": true,
   "toc_window_display": false
  }
 },
 "nbformat": 4,
 "nbformat_minor": 4
}
