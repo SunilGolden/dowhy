{
 "cells": [
  {
   "cell_type": "markdown",
   "metadata": {},
   "source": [
    "# Demo for the DoWhy causal API\n",
    "We show a simple example of adding a causal extension to any dataframe. "
   ]
  },
  {
   "cell_type": "code",
   "execution_count": 1,
   "metadata": {
    "execution": {
     "iopub.execute_input": "2023-08-03T18:29:19.343901Z",
     "iopub.status.busy": "2023-08-03T18:29:19.343324Z",
     "iopub.status.idle": "2023-08-03T18:29:21.107987Z",
     "shell.execute_reply": "2023-08-03T18:29:21.107241Z"
    }
   },
   "outputs": [],
   "source": [
    "import dowhy.datasets\n",
    "import dowhy.api\n",
    "\n",
    "import numpy as np\n",
    "import pandas as pd\n",
    "\n",
    "from statsmodels.api import OLS"
   ]
  },
  {
   "cell_type": "code",
   "execution_count": 2,
   "metadata": {
    "execution": {
     "iopub.execute_input": "2023-08-03T18:29:21.112190Z",
     "iopub.status.busy": "2023-08-03T18:29:21.111463Z",
     "iopub.status.idle": "2023-08-03T18:29:21.160360Z",
     "shell.execute_reply": "2023-08-03T18:29:21.159631Z"
    }
   },
   "outputs": [
    {
     "data": {
      "text/html": [
       "<div>\n",
       "<style scoped>\n",
       "    .dataframe tbody tr th:only-of-type {\n",
       "        vertical-align: middle;\n",
       "    }\n",
       "\n",
       "    .dataframe tbody tr th {\n",
       "        vertical-align: top;\n",
       "    }\n",
       "\n",
       "    .dataframe thead th {\n",
       "        text-align: right;\n",
       "    }\n",
       "</style>\n",
       "<table border=\"1\" class=\"dataframe\">\n",
       "  <thead>\n",
       "    <tr style=\"text-align: right;\">\n",
       "      <th></th>\n",
       "      <th>W0</th>\n",
       "      <th>v0</th>\n",
       "      <th>y</th>\n",
       "    </tr>\n",
       "  </thead>\n",
       "  <tbody>\n",
       "    <tr>\n",
       "      <th>0</th>\n",
       "      <td>-1.085634</td>\n",
       "      <td>False</td>\n",
       "      <td>-4.084557</td>\n",
       "    </tr>\n",
       "    <tr>\n",
       "      <th>1</th>\n",
       "      <td>-1.418167</td>\n",
       "      <td>False</td>\n",
       "      <td>-4.159834</td>\n",
       "    </tr>\n",
       "    <tr>\n",
       "      <th>2</th>\n",
       "      <td>-1.060908</td>\n",
       "      <td>False</td>\n",
       "      <td>-1.876372</td>\n",
       "    </tr>\n",
       "    <tr>\n",
       "      <th>3</th>\n",
       "      <td>-0.040109</td>\n",
       "      <td>True</td>\n",
       "      <td>4.739495</td>\n",
       "    </tr>\n",
       "    <tr>\n",
       "      <th>4</th>\n",
       "      <td>-1.135199</td>\n",
       "      <td>False</td>\n",
       "      <td>-2.126015</td>\n",
       "    </tr>\n",
       "    <tr>\n",
       "      <th>...</th>\n",
       "      <td>...</td>\n",
       "      <td>...</td>\n",
       "      <td>...</td>\n",
       "    </tr>\n",
       "    <tr>\n",
       "      <th>995</th>\n",
       "      <td>0.167694</td>\n",
       "      <td>True</td>\n",
       "      <td>6.002419</td>\n",
       "    </tr>\n",
       "    <tr>\n",
       "      <th>996</th>\n",
       "      <td>-1.342202</td>\n",
       "      <td>False</td>\n",
       "      <td>-5.061231</td>\n",
       "    </tr>\n",
       "    <tr>\n",
       "      <th>997</th>\n",
       "      <td>-1.115815</td>\n",
       "      <td>False</td>\n",
       "      <td>-4.549248</td>\n",
       "    </tr>\n",
       "    <tr>\n",
       "      <th>998</th>\n",
       "      <td>0.224101</td>\n",
       "      <td>False</td>\n",
       "      <td>2.319660</td>\n",
       "    </tr>\n",
       "    <tr>\n",
       "      <th>999</th>\n",
       "      <td>-0.559218</td>\n",
       "      <td>False</td>\n",
       "      <td>-1.882604</td>\n",
       "    </tr>\n",
       "  </tbody>\n",
       "</table>\n",
       "<p>1000 rows × 3 columns</p>\n",
       "</div>"
      ],
      "text/plain": [
       "           W0     v0         y\n",
       "0   -1.085634  False -4.084557\n",
       "1   -1.418167  False -4.159834\n",
       "2   -1.060908  False -1.876372\n",
       "3   -0.040109   True  4.739495\n",
       "4   -1.135199  False -2.126015\n",
       "..        ...    ...       ...\n",
       "995  0.167694   True  6.002419\n",
       "996 -1.342202  False -5.061231\n",
       "997 -1.115815  False -4.549248\n",
       "998  0.224101  False  2.319660\n",
       "999 -0.559218  False -1.882604\n",
       "\n",
       "[1000 rows x 3 columns]"
      ]
     },
     "execution_count": 2,
     "metadata": {},
     "output_type": "execute_result"
    }
   ],
   "source": [
    "data = dowhy.datasets.linear_dataset(beta=5,\n",
    "        num_common_causes=1,\n",
    "        num_instruments = 0,\n",
    "        num_samples=1000,\n",
    "        treatment_is_binary=True)\n",
    "df = data['df']\n",
    "df['y'] = df['y'] + np.random.normal(size=len(df)) # Adding noise to data. Without noise, the variance in Y|X, Z is zero, and mcmc fails.\n",
    "#data['dot_graph'] = 'digraph { v ->y;X0-> v;X0-> y;}'\n",
    "\n",
    "treatment= data[\"treatment_name\"][0]\n",
    "outcome = data[\"outcome_name\"][0]\n",
    "common_cause = data[\"common_causes_names\"][0]\n",
    "df"
   ]
  },
  {
   "cell_type": "code",
   "execution_count": 3,
   "metadata": {
    "execution": {
     "iopub.execute_input": "2023-08-03T18:29:21.163799Z",
     "iopub.status.busy": "2023-08-03T18:29:21.163373Z",
     "iopub.status.idle": "2023-08-03T18:29:21.375754Z",
     "shell.execute_reply": "2023-08-03T18:29:21.375061Z"
    }
   },
   "outputs": [
    {
     "data": {
      "text/plain": [
       "<Axes: xlabel='v0'>"
      ]
     },
     "execution_count": 3,
     "metadata": {},
     "output_type": "execute_result"
    },
    {
     "data": {
      "image/png": "[encoded data removed]",
      "text/plain": [
       "<Figure size 640x480 with 1 Axes>"
      ]
     },
     "metadata": {},
     "output_type": "display_data"
    }
   ],
   "source": [
    "# data['df'] is just a regular pandas.DataFrame\n",
    "df.causal.do(x=treatment,\n",
    "                     variable_types={treatment: 'b', outcome: 'c', common_cause: 'c'},\n",
    "                     outcome=outcome,\n",
    "                     common_causes=[common_cause],\n",
    "                     proceed_when_unidentifiable=True).groupby(treatment).mean().plot(y=outcome, kind='bar')"
   ]
  },
  {
   "cell_type": "code",
   "execution_count": 4,
   "metadata": {
    "execution": {
     "iopub.execute_input": "2023-08-03T18:29:21.379504Z",
     "iopub.status.busy": "2023-08-03T18:29:21.379101Z",
     "iopub.status.idle": "2023-08-03T18:29:21.535813Z",
     "shell.execute_reply": "2023-08-03T18:29:21.535150Z"
    }
   },
   "outputs": [
    {
     "data": {
      "text/plain": [
       "<Axes: xlabel='v0'>"
      ]
     },
     "execution_count": 4,
     "metadata": {},
     "output_type": "execute_result"
    },
    {
     "data": {
      "image/png": "[encoded data removed]",
      "text/plain": [
       "<Figure size 640x480 with 1 Axes>"
      ]
     },
     "metadata": {},
     "output_type": "display_data"
    }
   ],
   "source": [
    "df.causal.do(x={treatment: 1}, \n",
    "              variable_types={treatment:'b', outcome: 'c', common_cause: 'c'}, \n",
    "              outcome=outcome,\n",
    "              method='weighting', \n",
    "              common_causes=[common_cause],\n",
    "              proceed_when_unidentifiable=True).groupby(treatment).mean().plot(y=outcome, kind='bar')"
   ]
  },
  {
   "cell_type": "code",
   "execution_count": 5,
   "metadata": {
    "execution": {
     "iopub.execute_input": "2023-08-03T18:29:21.539197Z",
     "iopub.status.busy": "2023-08-03T18:29:21.538633Z",
     "iopub.status.idle": "2023-08-03T18:29:21.573105Z",
     "shell.execute_reply": "2023-08-03T18:29:21.572373Z"
    }
   },
   "outputs": [],
   "source": [
    "cdf_1 = df.causal.do(x={treatment: 1}, \n",
    "              variable_types={treatment: 'b', outcome: 'c', common_cause: 'c'}, \n",
    "              outcome=outcome, \n",
    "              dot_graph=data['dot_graph'],\n",
    "              proceed_when_unidentifiable=True)\n",
    "\n",
    "cdf_0 = df.causal.do(x={treatment: 0}, \n",
    "              variable_types={treatment: 'b', outcome: 'c', common_cause: 'c'}, \n",
    "              outcome=outcome, \n",
    "              dot_graph=data['dot_graph'],\n",
    "              proceed_when_unidentifiable=True)\n"
   ]
  },
  {
   "cell_type": "code",
   "execution_count": 6,
   "metadata": {
    "execution": {
     "iopub.execute_input": "2023-08-03T18:29:21.576760Z",
     "iopub.status.busy": "2023-08-03T18:29:21.576373Z",
     "iopub.status.idle": "2023-08-03T18:29:21.587906Z",
     "shell.execute_reply": "2023-08-03T18:29:21.587205Z"
    },
    "scrolled": true
   },
   "outputs": [
    {
     "data": {
      "text/html": [
       "<div>\n",
       "<style scoped>\n",
       "    .dataframe tbody tr th:only-of-type {\n",
       "        vertical-align: middle;\n",
       "    }\n",
       "\n",
       "    .dataframe tbody tr th {\n",
       "        vertical-align: top;\n",
       "    }\n",
       "\n",
       "    .dataframe thead th {\n",
       "        text-align: right;\n",
       "    }\n",
       "</style>\n",
       "<table border=\"1\" class=\"dataframe\">\n",
       "  <thead>\n",
       "    <tr style=\"text-align: right;\">\n",
       "      <th></th>\n",
       "      <th>W0</th>\n",
       "      <th>v0</th>\n",
       "      <th>y</th>\n",
       "      <th>propensity_score</th>\n",
       "      <th>weight</th>\n",
       "    </tr>\n",
       "  </thead>\n",
       "  <tbody>\n",
       "    <tr>\n",
       "      <th>0</th>\n",
       "      <td>-0.550093</td>\n",
       "      <td>False</td>\n",
       "      <td>-1.532310</td>\n",
       "      <td>0.756892</td>\n",
       "      <td>1.321192</td>\n",
       "    </tr>\n",
       "    <tr>\n",
       "      <th>1</th>\n",
       "      <td>-0.722684</td>\n",
       "      <td>False</td>\n",
       "      <td>-1.846021</td>\n",
       "      <td>0.810431</td>\n",
       "      <td>1.233912</td>\n",
       "    </tr>\n",
       "    <tr>\n",
       "      <th>2</th>\n",
       "      <td>-1.996264</td>\n",
       "      <td>False</td>\n",
       "      <td>-6.116133</td>\n",
       "      <td>0.977962</td>\n",
       "      <td>1.022534</td>\n",
       "    </tr>\n",
       "    <tr>\n",
       "      <th>3</th>\n",
       "      <td>-0.525880</td>\n",
       "      <td>False</td>\n",
       "      <td>-0.314164</td>\n",
       "      <td>0.748614</td>\n",
       "      <td>1.335802</td>\n",
       "    </tr>\n",
       "    <tr>\n",
       "      <th>4</th>\n",
       "      <td>-0.668037</td>\n",
       "      <td>False</td>\n",
       "      <td>-3.078179</td>\n",
       "      <td>0.794523</td>\n",
       "      <td>1.258616</td>\n",
       "    </tr>\n",
       "    <tr>\n",
       "      <th>...</th>\n",
       "      <td>...</td>\n",
       "      <td>...</td>\n",
       "      <td>...</td>\n",
       "      <td>...</td>\n",
       "      <td>...</td>\n",
       "    </tr>\n",
       "    <tr>\n",
       "      <th>995</th>\n",
       "      <td>-2.188685</td>\n",
       "      <td>False</td>\n",
       "      <td>-5.719837</td>\n",
       "      <td>0.984423</td>\n",
       "      <td>1.015824</td>\n",
       "    </tr>\n",
       "    <tr>\n",
       "      <th>996</th>\n",
       "      <td>0.607096</td>\n",
       "      <td>False</td>\n",
       "      <td>0.420697</td>\n",
       "      <td>0.270844</td>\n",
       "      <td>3.692155</td>\n",
       "    </tr>\n",
       "    <tr>\n",
       "      <th>997</th>\n",
       "      <td>-0.310138</td>\n",
       "      <td>False</td>\n",
       "      <td>-0.762520</td>\n",
       "      <td>0.667047</td>\n",
       "      <td>1.499146</td>\n",
       "    </tr>\n",
       "    <tr>\n",
       "      <th>998</th>\n",
       "      <td>-1.141617</td>\n",
       "      <td>False</td>\n",
       "      <td>-4.197842</td>\n",
       "      <td>0.902252</td>\n",
       "      <td>1.108338</td>\n",
       "    </tr>\n",
       "    <tr>\n",
       "      <th>999</th>\n",
       "      <td>0.757894</td>\n",
       "      <td>False</td>\n",
       "      <td>1.761406</td>\n",
       "      <td>0.219703</td>\n",
       "      <td>4.551601</td>\n",
       "    </tr>\n",
       "  </tbody>\n",
       "</table>\n",
       "<p>1000 rows × 5 columns</p>\n",
       "</div>"
      ],
      "text/plain": [
       "           W0     v0         y  propensity_score    weight\n",
       "0   -0.550093  False -1.532310          0.756892  1.321192\n",
       "1   -0.722684  False -1.846021          0.810431  1.233912\n",
       "2   -1.996264  False -6.116133          0.977962  1.022534\n",
       "3   -0.525880  False -0.314164          0.748614  1.335802\n",
       "4   -0.668037  False -3.078179          0.794523  1.258616\n",
       "..        ...    ...       ...               ...       ...\n",
       "995 -2.188685  False -5.719837          0.984423  1.015824\n",
       "996  0.607096  False  0.420697          0.270844  3.692155\n",
       "997 -0.310138  False -0.762520          0.667047  1.499146\n",
       "998 -1.141617  False -4.197842          0.902252  1.108338\n",
       "999  0.757894  False  1.761406          0.219703  4.551601\n",
       "\n",
       "[1000 rows x 5 columns]"
      ]
     },
     "execution_count": 6,
     "metadata": {},
     "output_type": "execute_result"
    }
   ],
   "source": [
    "cdf_0"
   ]
  },
  {
   "cell_type": "code",
   "execution_count": 7,
   "metadata": {
    "execution": {
     "iopub.execute_input": "2023-08-03T18:29:21.592271Z",
     "iopub.status.busy": "2023-08-03T18:29:21.591690Z",
     "iopub.status.idle": "2023-08-03T18:29:21.602861Z",
     "shell.execute_reply": "2023-08-03T18:29:21.602178Z"
    }
   },
   "outputs": [
    {
     "data": {
      "text/html": [
       "<div>\n",
       "<style scoped>\n",
       "    .dataframe tbody tr th:only-of-type {\n",
       "        vertical-align: middle;\n",
       "    }\n",
       "\n",
       "    .dataframe tbody tr th {\n",
       "        vertical-align: top;\n",
       "    }\n",
       "\n",
       "    .dataframe thead th {\n",
       "        text-align: right;\n",
       "    }\n",
       "</style>\n",
       "<table border=\"1\" class=\"dataframe\">\n",
       "  <thead>\n",
       "    <tr style=\"text-align: right;\">\n",
       "      <th></th>\n",
       "      <th>W0</th>\n",
       "      <th>v0</th>\n",
       "      <th>y</th>\n",
       "      <th>propensity_score</th>\n",
       "      <th>weight</th>\n",
       "    </tr>\n",
       "  </thead>\n",
       "  <tbody>\n",
       "    <tr>\n",
       "      <th>0</th>\n",
       "      <td>-0.568209</td>\n",
       "      <td>True</td>\n",
       "      <td>3.579572</td>\n",
       "      <td>0.237036</td>\n",
       "      <td>4.218773</td>\n",
       "    </tr>\n",
       "    <tr>\n",
       "      <th>1</th>\n",
       "      <td>-0.506941</td>\n",
       "      <td>True</td>\n",
       "      <td>3.209480</td>\n",
       "      <td>0.257991</td>\n",
       "      <td>3.876099</td>\n",
       "    </tr>\n",
       "    <tr>\n",
       "      <th>2</th>\n",
       "      <td>0.701984</td>\n",
       "      <td>True</td>\n",
       "      <td>7.612798</td>\n",
       "      <td>0.762181</td>\n",
       "      <td>1.312024</td>\n",
       "    </tr>\n",
       "    <tr>\n",
       "      <th>3</th>\n",
       "      <td>-0.486111</td>\n",
       "      <td>True</td>\n",
       "      <td>4.661744</td>\n",
       "      <td>0.265385</td>\n",
       "      <td>3.768110</td>\n",
       "    </tr>\n",
       "    <tr>\n",
       "      <th>4</th>\n",
       "      <td>0.228094</td>\n",
       "      <td>True</td>\n",
       "      <td>5.046634</td>\n",
       "      <td>0.572979</td>\n",
       "      <td>1.745264</td>\n",
       "    </tr>\n",
       "    <tr>\n",
       "      <th>...</th>\n",
       "      <td>...</td>\n",
       "      <td>...</td>\n",
       "      <td>...</td>\n",
       "      <td>...</td>\n",
       "      <td>...</td>\n",
       "    </tr>\n",
       "    <tr>\n",
       "      <th>995</th>\n",
       "      <td>-0.472540</td>\n",
       "      <td>True</td>\n",
       "      <td>2.449277</td>\n",
       "      <td>0.270274</td>\n",
       "      <td>3.699946</td>\n",
       "    </tr>\n",
       "    <tr>\n",
       "      <th>996</th>\n",
       "      <td>-1.012103</td>\n",
       "      <td>True</td>\n",
       "      <td>1.651103</td>\n",
       "      <td>0.120835</td>\n",
       "      <td>8.275773</td>\n",
       "    </tr>\n",
       "    <tr>\n",
       "      <th>997</th>\n",
       "      <td>-1.472749</td>\n",
       "      <td>True</td>\n",
       "      <td>0.877186</td>\n",
       "      <td>0.055678</td>\n",
       "      <td>17.960356</td>\n",
       "    </tr>\n",
       "    <tr>\n",
       "      <th>998</th>\n",
       "      <td>-0.103875</td>\n",
       "      <td>True</td>\n",
       "      <td>3.710211</td>\n",
       "      <td>0.421676</td>\n",
       "      <td>2.371490</td>\n",
       "    </tr>\n",
       "    <tr>\n",
       "      <th>999</th>\n",
       "      <td>-0.375534</td>\n",
       "      <td>True</td>\n",
       "      <td>5.820682</td>\n",
       "      <td>0.306825</td>\n",
       "      <td>3.259191</td>\n",
       "    </tr>\n",
       "  </tbody>\n",
       "</table>\n",
       "<p>1000 rows × 5 columns</p>\n",
       "</div>"
      ],
      "text/plain": [
       "           W0    v0         y  propensity_score     weight\n",
       "0   -0.568209  True  3.579572          0.237036   4.218773\n",
       "1   -0.506941  True  3.209480          0.257991   3.876099\n",
       "2    0.701984  True  7.612798          0.762181   1.312024\n",
       "3   -0.486111  True  4.661744          0.265385   3.768110\n",
       "4    0.228094  True  5.046634          0.572979   1.745264\n",
       "..        ...   ...       ...               ...        ...\n",
       "995 -0.472540  True  2.449277          0.270274   3.699946\n",
       "996 -1.012103  True  1.651103          0.120835   8.275773\n",
       "997 -1.472749  True  0.877186          0.055678  17.960356\n",
       "998 -0.103875  True  3.710211          0.421676   2.371490\n",
       "999 -0.375534  True  5.820682          0.306825   3.259191\n",
       "\n",
       "[1000 rows x 5 columns]"
      ]
     },
     "execution_count": 7,
     "metadata": {},
     "output_type": "execute_result"
    }
   ],
   "source": [
    "cdf_1"
   ]
  },
  {
   "cell_type": "markdown",
   "metadata": {},
   "source": [
    "## Comparing the estimate to Linear Regression\n",
    "First, estimating the effect using the causal data frame, and the 95% confidence interval."
   ]
  },
  {
   "cell_type": "code",
   "execution_count": 8,
   "metadata": {
    "execution": {
     "iopub.execute_input": "2023-08-03T18:29:21.606740Z",
     "iopub.status.busy": "2023-08-03T18:29:21.606189Z",
     "iopub.status.idle": "2023-08-03T18:29:21.668764Z",
     "shell.execute_reply": "2023-08-03T18:29:21.667895Z"
    }
   },
   "outputs": [
    {
     "data": {
      "image/png": "[encoded data removed]",
      "text/latex": [
       "$\\displaystyle 5.45773159896272$"
      ],
      "text/plain": [
       "5.457731598962724"
      ]
     },
     "execution_count": 8,
     "metadata": {},
     "output_type": "execute_result"
    }
   ],
   "source": [
    "(cdf_1['y'] - cdf_0['y']).mean()"
   ]
  },
  {
   "cell_type": "code",
   "execution_count": 9,
   "metadata": {
    "execution": {
     "iopub.execute_input": "2023-08-03T18:29:21.672279Z",
     "iopub.status.busy": "2023-08-03T18:29:21.671704Z",
     "iopub.status.idle": "2023-08-03T18:29:21.694246Z",
     "shell.execute_reply": "2023-08-03T18:29:21.693482Z"
    }
   },
   "outputs": [
    {
     "data": {
      "image/png": "[encoded data removed]",
      "text/latex": [
       "$\\displaystyle 0.247766786137291$"
      ],
      "text/plain": [
       "0.2477667861372911"
      ]
     },
     "execution_count": 9,
     "metadata": {},
     "output_type": "execute_result"
    }
   ],
   "source": [
    "1.96*(cdf_1['y'] - cdf_0['y']).std() / np.sqrt(len(df))"
   ]
  },
  {
   "cell_type": "markdown",
   "metadata": {},
   "source": [
    "Comparing to the estimate from OLS."
   ]
  },
  {
   "cell_type": "code",
   "execution_count": 10,
   "metadata": {
    "execution": {
     "iopub.execute_input": "2023-08-03T18:29:21.698083Z",
     "iopub.status.busy": "2023-08-03T18:29:21.697678Z",
     "iopub.status.idle": "2023-08-03T18:29:21.719553Z",
     "shell.execute_reply": "2023-08-03T18:29:21.718822Z"
    }
   },
   "outputs": [
    {
     "data": {
      "text/html": [
       "<table class=\"simpletable\">\n",
       "<caption>OLS Regression Results</caption>\n",
       "<tr>\n",
       "  <th>Dep. Variable:</th>            <td>y</td>        <th>  R-squared (uncentered):</th>      <td>   0.955</td> \n",
       "</tr>\n",
       "<tr>\n",
       "  <th>Model:</th>                   <td>OLS</td>       <th>  Adj. R-squared (uncentered):</th> <td>   0.955</td> \n",
       "</tr>\n",
       "<tr>\n",
       "  <th>Method:</th>             <td>Least Squares</td>  <th>  F-statistic:       </th>          <td>1.062e+04</td>\n",
       "</tr>\n",
       "<tr>\n",
       "  <th>Date:</th>             <td>Thu, 03 Aug 2023</td> <th>  Prob (F-statistic):</th>           <td>  0.00</td>  \n",
       "</tr>\n",
       "<tr>\n",
       "  <th>Time:</th>                 <td>18:29:21</td>     <th>  Log-Likelihood:    </th>          <td> -1426.4</td> \n",
       "</tr>\n",
       "<tr>\n",
       "  <th>No. Observations:</th>      <td>  1000</td>      <th>  AIC:               </th>          <td>   2857.</td> \n",
       "</tr>\n",
       "<tr>\n",
       "  <th>Df Residuals:</th>          <td>   998</td>      <th>  BIC:               </th>          <td>   2867.</td> \n",
       "</tr>\n",
       "<tr>\n",
       "  <th>Df Model:</th>              <td>     2</td>      <th>                     </th>              <td> </td>    \n",
       "</tr>\n",
       "<tr>\n",
       "  <th>Covariance Type:</th>      <td>nonrobust</td>    <th>                     </th>              <td> </td>    \n",
       "</tr>\n",
       "</table>\n",
       "<table class=\"simpletable\">\n",
       "<tr>\n",
       "   <td></td>     <th>coef</th>     <th>std err</th>      <th>t</th>      <th>P>|t|</th>  <th>[0.025</th>    <th>0.975]</th>  \n",
       "</tr>\n",
       "<tr>\n",
       "  <th>x1</th> <td>    2.7773</td> <td>    0.030</td> <td>   93.411</td> <td> 0.000</td> <td>    2.719</td> <td>    2.836</td>\n",
       "</tr>\n",
       "<tr>\n",
       "  <th>x2</th> <td>    5.0002</td> <td>    0.054</td> <td>   91.951</td> <td> 0.000</td> <td>    4.894</td> <td>    5.107</td>\n",
       "</tr>\n",
       "</table>\n",
       "<table class=\"simpletable\">\n",
       "<tr>\n",
       "  <th>Omnibus:</th>       <td> 2.397</td> <th>  Durbin-Watson:     </th> <td>   1.975</td>\n",
       "</tr>\n",
       "<tr>\n",
       "  <th>Prob(Omnibus):</th> <td> 0.302</td> <th>  Jarque-Bera (JB):  </th> <td>   2.464</td>\n",
       "</tr>\n",
       "<tr>\n",
       "  <th>Skew:</th>          <td>-0.105</td> <th>  Prob(JB):          </th> <td>   0.292</td>\n",
       "</tr>\n",
       "<tr>\n",
       "  <th>Kurtosis:</th>      <td> 2.878</td> <th>  Cond. No.          </th> <td>    1.89</td>\n",
       "</tr>\n",
       "</table><br/><br/>Notes:<br/>[1] R² is computed without centering (uncentered) since the model does not contain a constant.<br/>[2] Standard Errors assume that the covariance matrix of the errors is correctly specified."
      ],
      "text/latex": [
       "\\begin{center}\n",
       "\\begin{tabular}{lclc}\n",
       "\\toprule\n",
       "\\textbf{Dep. Variable:}    &        y         & \\textbf{  R-squared (uncentered):}      &     0.955   \\\\\n",
       "\\textbf{Model:}            &       OLS        & \\textbf{  Adj. R-squared (uncentered):} &     0.955   \\\\\n",
       "\\textbf{Method:}           &  Least Squares   & \\textbf{  F-statistic:       }          & 1.062e+04   \\\\\n",
       "\\textbf{Date:}             & Thu, 03 Aug 2023 & \\textbf{  Prob (F-statistic):}          &     0.00    \\\\\n",
       "\\textbf{Time:}             &     18:29:21     & \\textbf{  Log-Likelihood:    }          &   -1426.4   \\\\\n",
       "\\textbf{No. Observations:} &        1000      & \\textbf{  AIC:               }          &     2857.   \\\\\n",
       "\\textbf{Df Residuals:}     &         998      & \\textbf{  BIC:               }          &     2867.   \\\\\n",
       "\\textbf{Df Model:}         &           2      & \\textbf{                     }          &             \\\\\n",
       "\\textbf{Covariance Type:}  &    nonrobust     & \\textbf{                     }          &             \\\\\n",
       "\\bottomrule\n",
       "\\end{tabular}\n",
       "\\begin{tabular}{lcccccc}\n",
       "            & \\textbf{coef} & \\textbf{std err} & \\textbf{t} & \\textbf{P$> |$t$|$} & \\textbf{[0.025} & \\textbf{0.975]}  \\\\\n",
       "\\midrule\n",
       "\\textbf{x1} &       2.7773  &        0.030     &    93.411  &         0.000        &        2.719    &        2.836     \\\\\n",
       "\\textbf{x2} &       5.0002  &        0.054     &    91.951  &         0.000        &        4.894    &        5.107     \\\\\n",
       "\\bottomrule\n",
       "\\end{tabular}\n",
       "\\begin{tabular}{lclc}\n",
       "\\textbf{Omnibus:}       &  2.397 & \\textbf{  Durbin-Watson:     } &    1.975  \\\\\n",
       "\\textbf{Prob(Omnibus):} &  0.302 & \\textbf{  Jarque-Bera (JB):  } &    2.464  \\\\\n",
       "\\textbf{Skew:}          & -0.105 & \\textbf{  Prob(JB):          } &    0.292  \\\\\n",
       "\\textbf{Kurtosis:}      &  2.878 & \\textbf{  Cond. No.          } &     1.89  \\\\\n",
       "\\bottomrule\n",
       "\\end{tabular}\n",
       "%\\caption{OLS Regression Results}\n",
       "\\end{center}\n",
       "\n",
       "Notes: \\newline\n",
       " [1] R² is computed without centering (uncentered) since the model does not contain a constant. \\newline\n",
       " [2] Standard Errors assume that the covariance matrix of the errors is correctly specified."
      ],
      "text/plain": [
       "<class 'statsmodels.iolib.summary.Summary'>\n",
       "\"\"\"\n",
       "                                 OLS Regression Results                                \n",
       "=======================================================================================\n",
       "Dep. Variable:                      y   R-squared (uncentered):                   0.955\n",
       "Model:                            OLS   Adj. R-squared (uncentered):              0.955\n",
       "Method:                 Least Squares   F-statistic:                          1.062e+04\n",
       "Date:                Thu, 03 Aug 2023   Prob (F-statistic):                        0.00\n",
       "Time:                        18:29:21   Log-Likelihood:                         -1426.4\n",
       "No. Observations:                1000   AIC:                                      2857.\n",
       "Df Residuals:                     998   BIC:                                      2867.\n",
       "Df Model:                           2                                                  \n",
       "Covariance Type:            nonrobust                                                  \n",
       "==============================================================================\n",
       "                 coef    std err          t      P>|t|      [0.025      0.975]\n",
       "------------------------------------------------------------------------------\n",
       "x1             2.7773      0.030     93.411      0.000       2.719       2.836\n",
       "x2             5.0002      0.054     91.951      0.000       4.894       5.107\n",
       "==============================================================================\n",
       "Omnibus:                        2.397   Durbin-Watson:                   1.975\n",
       "Prob(Omnibus):                  0.302   Jarque-Bera (JB):                2.464\n",
       "Skew:                          -0.105   Prob(JB):                        0.292\n",
       "Kurtosis:                       2.878   Cond. No.                         1.89\n",
       "==============================================================================\n",
       "\n",
       "Notes:\n",
       "[1] R² is computed without centering (uncentered) since the model does not contain a constant.\n",
       "[2] Standard Errors assume that the covariance matrix of the errors is correctly specified.\n",
       "\"\"\""
      ]
     },
     "execution_count": 10,
     "metadata": {},
     "output_type": "execute_result"
    }
   ],
   "source": [
    "model = OLS(np.asarray(df[outcome]), np.asarray(df[[common_cause, treatment]], dtype=np.float64))\n",
    "result = model.fit()\n",
    "result.summary()"
   ]
  }
 ],
 "metadata": {
  "kernelspec": {
   "display_name": "Python 3",
   "language": "python",
   "name": "python3"
  },
  "language_info": {
   "codemirror_mode": {
    "name": "ipython",
    "version": 3
   },
   "file_extension": ".py",
   "mimetype": "text/x-python",
   "name": "python",
   "nbconvert_exporter": "python",
   "pygments_lexer": "ipython3",
   "version": "3.8.10"
  },
  "toc": {
   "base_numbering": 1,
   "nav_menu": {},
   "number_sections": false,
   "sideBar": true,
   "skip_h1_title": true,
   "title_cell": "Table of Contents",
   "title_sidebar": "Contents",
   "toc_cell": false,
   "toc_position": {},
   "toc_section_display": true,
   "toc_window_display": false
  }
 },
 "nbformat": 4,
 "nbformat_minor": 4
}
