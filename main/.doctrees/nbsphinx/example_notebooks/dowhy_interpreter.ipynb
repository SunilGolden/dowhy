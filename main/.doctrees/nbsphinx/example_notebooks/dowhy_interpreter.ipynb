{
 "cells": [
  {
   "cell_type": "markdown",
   "id": "5ca2734c",
   "metadata": {},
   "source": [
    "# DoWhy: Interpreters for Causal Estimators\n",
    "\n",
    "This is a quick introduction to the use of interpreters in the DoWhy causal inference library.\n",
    "We will load in a sample dataset, use different methods for estimating the causal effect of a (pre-specified)treatment variable on a (pre-specified) outcome variable and demonstrate how to interpret the obtained results.\n",
    "\n",
    "First, let us add the required path for Python to find the DoWhy code and load all required packages"
   ]
  },
  {
   "cell_type": "code",
   "execution_count": 1,
   "id": "00049d89",
   "metadata": {
    "execution": {
     "iopub.execute_input": "2023-01-26T16:44:16.062012Z",
     "iopub.status.busy": "2023-01-26T16:44:16.061567Z",
     "iopub.status.idle": "2023-01-26T16:44:16.078217Z",
     "shell.execute_reply": "2023-01-26T16:44:16.077550Z"
    }
   },
   "outputs": [],
   "source": [
    "%load_ext autoreload\n",
    "%autoreload 2"
   ]
  },
  {
   "cell_type": "code",
   "execution_count": 2,
   "id": "ab40bbbe",
   "metadata": {
    "execution": {
     "iopub.execute_input": "2023-01-26T16:44:16.081844Z",
     "iopub.status.busy": "2023-01-26T16:44:16.081411Z",
     "iopub.status.idle": "2023-01-26T16:44:18.144805Z",
     "shell.execute_reply": "2023-01-26T16:44:18.144040Z"
    }
   },
   "outputs": [],
   "source": [
    "import numpy as np\n",
    "import pandas as pd\n",
    "import logging\n",
    "\n",
    "import dowhy\n",
    "from dowhy import CausalModel\n",
    "import dowhy.datasets "
   ]
  },
  {
   "cell_type": "markdown",
   "id": "dc3fcf32",
   "metadata": {},
   "source": [
    "Now, let us load a dataset. For simplicity, we simulate a dataset with linear relationships between common causes and treatment, and common causes and outcome.\n",
    "\n",
    "Beta is the true causal effect."
   ]
  },
  {
   "cell_type": "code",
   "execution_count": 3,
   "id": "753ed391",
   "metadata": {
    "execution": {
     "iopub.execute_input": "2023-01-26T16:44:18.148804Z",
     "iopub.status.busy": "2023-01-26T16:44:18.148003Z",
     "iopub.status.idle": "2023-01-26T16:44:18.447563Z",
     "shell.execute_reply": "2023-01-26T16:44:18.446585Z"
    }
   },
   "outputs": [
    {
     "name": "stdout",
     "output_type": "stream",
     "text": [
      "8951\n"
     ]
    },
    {
     "data": {
      "text/html": [
       "<div>\n",
       "<style scoped>\n",
       "    .dataframe tbody tr th:only-of-type {\n",
       "        vertical-align: middle;\n",
       "    }\n",
       "\n",
       "    .dataframe tbody tr th {\n",
       "        vertical-align: top;\n",
       "    }\n",
       "\n",
       "    .dataframe thead th {\n",
       "        text-align: right;\n",
       "    }\n",
       "</style>\n",
       "<table border=\"1\" class=\"dataframe\">\n",
       "  <thead>\n",
       "    <tr style=\"text-align: right;\">\n",
       "      <th></th>\n",
       "      <th>Z0</th>\n",
       "      <th>Z1</th>\n",
       "      <th>W0</th>\n",
       "      <th>W1</th>\n",
       "      <th>W2</th>\n",
       "      <th>W3</th>\n",
       "      <th>W4</th>\n",
       "      <th>v0</th>\n",
       "      <th>y</th>\n",
       "    </tr>\n",
       "  </thead>\n",
       "  <tbody>\n",
       "    <tr>\n",
       "      <th>0</th>\n",
       "      <td>1.0</td>\n",
       "      <td>0.957364</td>\n",
       "      <td>2.839127</td>\n",
       "      <td>-1.329691</td>\n",
       "      <td>0.376265</td>\n",
       "      <td>-1.372513</td>\n",
       "      <td>2</td>\n",
       "      <td>True</td>\n",
       "      <td>3.102635</td>\n",
       "    </tr>\n",
       "    <tr>\n",
       "      <th>1</th>\n",
       "      <td>0.0</td>\n",
       "      <td>0.356728</td>\n",
       "      <td>1.867359</td>\n",
       "      <td>-0.734141</td>\n",
       "      <td>-0.835824</td>\n",
       "      <td>-0.807369</td>\n",
       "      <td>3</td>\n",
       "      <td>True</td>\n",
       "      <td>3.364366</td>\n",
       "    </tr>\n",
       "    <tr>\n",
       "      <th>2</th>\n",
       "      <td>1.0</td>\n",
       "      <td>0.703185</td>\n",
       "      <td>0.366693</td>\n",
       "      <td>-1.328684</td>\n",
       "      <td>-1.925848</td>\n",
       "      <td>-0.417384</td>\n",
       "      <td>1</td>\n",
       "      <td>True</td>\n",
       "      <td>-0.086167</td>\n",
       "    </tr>\n",
       "    <tr>\n",
       "      <th>3</th>\n",
       "      <td>1.0</td>\n",
       "      <td>0.582762</td>\n",
       "      <td>1.267249</td>\n",
       "      <td>-0.887758</td>\n",
       "      <td>-0.535340</td>\n",
       "      <td>-0.413669</td>\n",
       "      <td>2</td>\n",
       "      <td>False</td>\n",
       "      <td>1.370657</td>\n",
       "    </tr>\n",
       "    <tr>\n",
       "      <th>4</th>\n",
       "      <td>0.0</td>\n",
       "      <td>0.501589</td>\n",
       "      <td>-0.141054</td>\n",
       "      <td>-1.585726</td>\n",
       "      <td>0.849789</td>\n",
       "      <td>-0.359211</td>\n",
       "      <td>0</td>\n",
       "      <td>False</td>\n",
       "      <td>-1.258287</td>\n",
       "    </tr>\n",
       "    <tr>\n",
       "      <th>...</th>\n",
       "      <td>...</td>\n",
       "      <td>...</td>\n",
       "      <td>...</td>\n",
       "      <td>...</td>\n",
       "      <td>...</td>\n",
       "      <td>...</td>\n",
       "      <td>...</td>\n",
       "      <td>...</td>\n",
       "      <td>...</td>\n",
       "    </tr>\n",
       "    <tr>\n",
       "      <th>9995</th>\n",
       "      <td>1.0</td>\n",
       "      <td>0.869217</td>\n",
       "      <td>1.473830</td>\n",
       "      <td>-0.580960</td>\n",
       "      <td>-0.367279</td>\n",
       "      <td>-1.001533</td>\n",
       "      <td>3</td>\n",
       "      <td>True</td>\n",
       "      <td>3.233639</td>\n",
       "    </tr>\n",
       "    <tr>\n",
       "      <th>9996</th>\n",
       "      <td>0.0</td>\n",
       "      <td>0.530432</td>\n",
       "      <td>-0.071333</td>\n",
       "      <td>-1.820337</td>\n",
       "      <td>-0.061599</td>\n",
       "      <td>0.007839</td>\n",
       "      <td>0</td>\n",
       "      <td>True</td>\n",
       "      <td>-0.542800</td>\n",
       "    </tr>\n",
       "    <tr>\n",
       "      <th>9997</th>\n",
       "      <td>1.0</td>\n",
       "      <td>0.954280</td>\n",
       "      <td>-1.130827</td>\n",
       "      <td>-0.267519</td>\n",
       "      <td>-0.611080</td>\n",
       "      <td>-0.832095</td>\n",
       "      <td>2</td>\n",
       "      <td>True</td>\n",
       "      <td>0.581163</td>\n",
       "    </tr>\n",
       "    <tr>\n",
       "      <th>9998</th>\n",
       "      <td>1.0</td>\n",
       "      <td>0.584920</td>\n",
       "      <td>-0.538853</td>\n",
       "      <td>-1.811165</td>\n",
       "      <td>-0.836926</td>\n",
       "      <td>-0.023340</td>\n",
       "      <td>0</td>\n",
       "      <td>True</td>\n",
       "      <td>-1.261851</td>\n",
       "    </tr>\n",
       "    <tr>\n",
       "      <th>9999</th>\n",
       "      <td>0.0</td>\n",
       "      <td>0.987489</td>\n",
       "      <td>0.849435</td>\n",
       "      <td>-1.363716</td>\n",
       "      <td>-0.202357</td>\n",
       "      <td>-1.616955</td>\n",
       "      <td>0</td>\n",
       "      <td>True</td>\n",
       "      <td>-0.468300</td>\n",
       "    </tr>\n",
       "  </tbody>\n",
       "</table>\n",
       "<p>10000 rows × 9 columns</p>\n",
       "</div>"
      ],
      "text/plain": [
       "       Z0        Z1        W0        W1        W2        W3 W4     v0  \\\n",
       "0     1.0  0.957364  2.839127 -1.329691  0.376265 -1.372513  2   True   \n",
       "1     0.0  0.356728  1.867359 -0.734141 -0.835824 -0.807369  3   True   \n",
       "2     1.0  0.703185  0.366693 -1.328684 -1.925848 -0.417384  1   True   \n",
       "3     1.0  0.582762  1.267249 -0.887758 -0.535340 -0.413669  2  False   \n",
       "4     0.0  0.501589 -0.141054 -1.585726  0.849789 -0.359211  0  False   \n",
       "...   ...       ...       ...       ...       ...       ... ..    ...   \n",
       "9995  1.0  0.869217  1.473830 -0.580960 -0.367279 -1.001533  3   True   \n",
       "9996  0.0  0.530432 -0.071333 -1.820337 -0.061599  0.007839  0   True   \n",
       "9997  1.0  0.954280 -1.130827 -0.267519 -0.611080 -0.832095  2   True   \n",
       "9998  1.0  0.584920 -0.538853 -1.811165 -0.836926 -0.023340  0   True   \n",
       "9999  0.0  0.987489  0.849435 -1.363716 -0.202357 -1.616955  0   True   \n",
       "\n",
       "             y  \n",
       "0     3.102635  \n",
       "1     3.364366  \n",
       "2    -0.086167  \n",
       "3     1.370657  \n",
       "4    -1.258287  \n",
       "...        ...  \n",
       "9995  3.233639  \n",
       "9996 -0.542800  \n",
       "9997  0.581163  \n",
       "9998 -1.261851  \n",
       "9999 -0.468300  \n",
       "\n",
       "[10000 rows x 9 columns]"
      ]
     },
     "execution_count": 3,
     "metadata": {},
     "output_type": "execute_result"
    }
   ],
   "source": [
    "data = dowhy.datasets.linear_dataset(beta=1,\n",
    "        num_common_causes=5, \n",
    "        num_instruments = 2,\n",
    "        num_treatments=1,\n",
    "        num_discrete_common_causes=1,\n",
    "        num_samples=10000,\n",
    "        treatment_is_binary=True,\n",
    "        outcome_is_binary=False)\n",
    "df = data[\"df\"]\n",
    "print(df[df.v0==True].shape[0])\n",
    "df"
   ]
  },
  {
   "cell_type": "markdown",
   "id": "cc659ecc",
   "metadata": {},
   "source": [
    "Note that we are using a pandas dataframe to load the data."
   ]
  },
  {
   "cell_type": "markdown",
   "id": "4d970cd8",
   "metadata": {},
   "source": [
    "## Identifying the causal estimand"
   ]
  },
  {
   "cell_type": "markdown",
   "id": "11d5907c",
   "metadata": {},
   "source": [
    "We now input a causal graph in the GML graph format."
   ]
  },
  {
   "cell_type": "code",
   "execution_count": 4,
   "id": "0621b329",
   "metadata": {
    "execution": {
     "iopub.execute_input": "2023-01-26T16:44:18.450574Z",
     "iopub.status.busy": "2023-01-26T16:44:18.450333Z",
     "iopub.status.idle": "2023-01-26T16:44:18.482614Z",
     "shell.execute_reply": "2023-01-26T16:44:18.481971Z"
    }
   },
   "outputs": [],
   "source": [
    "# With graph\n",
    "model=CausalModel(\n",
    "        data = df,\n",
    "        treatment=data[\"treatment_name\"],\n",
    "        outcome=data[\"outcome_name\"],\n",
    "        graph=data[\"gml_graph\"],\n",
    "        instruments=data[\"instrument_names\"]\n",
    "        )"
   ]
  },
  {
   "cell_type": "code",
   "execution_count": 5,
   "id": "878c0fb6",
   "metadata": {
    "execution": {
     "iopub.execute_input": "2023-01-26T16:44:18.485639Z",
     "iopub.status.busy": "2023-01-26T16:44:18.485408Z",
     "iopub.status.idle": "2023-01-26T16:44:18.549492Z",
     "shell.execute_reply": "2023-01-26T16:44:18.548624Z"
    }
   },
   "outputs": [],
   "source": [
    "model.view_model()"
   ]
  },
  {
   "cell_type": "code",
   "execution_count": 6,
   "id": "8a11a571",
   "metadata": {
    "execution": {
     "iopub.execute_input": "2023-01-26T16:44:18.552880Z",
     "iopub.status.busy": "2023-01-26T16:44:18.552486Z",
     "iopub.status.idle": "2023-01-26T16:44:18.587207Z",
     "shell.execute_reply": "2023-01-26T16:44:18.586446Z"
    }
   },
   "outputs": [
    {
     "data": {
      "image/png": "[encoded data removed]",
      "text/plain": [
       "<IPython.core.display.Image object>"
      ]
     },
     "metadata": {},
     "output_type": "display_data"
    }
   ],
   "source": [
    "from IPython.display import Image, display\n",
    "display(Image(filename=\"causal_model.png\"))"
   ]
  },
  {
   "cell_type": "markdown",
   "id": "ef6e40f6",
   "metadata": {},
   "source": [
    "We get a causal graph. Now identification and estimation is done."
   ]
  },
  {
   "cell_type": "code",
   "execution_count": 7,
   "id": "d83a5549",
   "metadata": {
    "execution": {
     "iopub.execute_input": "2023-01-26T16:44:18.590445Z",
     "iopub.status.busy": "2023-01-26T16:44:18.590075Z",
     "iopub.status.idle": "2023-01-26T16:44:18.830942Z",
     "shell.execute_reply": "2023-01-26T16:44:18.830160Z"
    }
   },
   "outputs": [
    {
     "name": "stdout",
     "output_type": "stream",
     "text": [
      "Estimand type: EstimandType.NONPARAMETRIC_ATE\n",
      "\n",
      "### Estimand : 1\n",
      "Estimand name: backdoor\n",
      "Estimand expression:\n",
      "  d                       \n",
      "─────(E[y|W2,W3,W0,W1,W4])\n",
      "d[v₀]                     \n",
      "Estimand assumption 1, Unconfoundedness: If U→{v0} and U→y then P(y|v0,W2,W3,W0,W1,W4,U) = P(y|v0,W2,W3,W0,W1,W4)\n",
      "\n",
      "### Estimand : 2\n",
      "Estimand name: iv\n",
      "Estimand expression:\n",
      " ⎡                              -1⎤\n",
      " ⎢    d        ⎛    d          ⎞  ⎥\n",
      "E⎢─────────(y)⋅⎜─────────([v₀])⎟  ⎥\n",
      " ⎣d[Z₀  Z₁]    ⎝d[Z₀  Z₁]      ⎠  ⎦\n",
      "Estimand assumption 1, As-if-random: If U→→y then ¬(U →→{Z0,Z1})\n",
      "Estimand assumption 2, Exclusion: If we remove {Z0,Z1}→{v0}, then ¬({Z0,Z1}→y)\n",
      "\n",
      "### Estimand : 3\n",
      "Estimand name: frontdoor\n",
      "No such variable(s) found!\n",
      "\n"
     ]
    }
   ],
   "source": [
    "identified_estimand = model.identify_effect(proceed_when_unidentifiable=True)\n",
    "print(identified_estimand)"
   ]
  },
  {
   "cell_type": "markdown",
   "id": "7920e49c",
   "metadata": {},
   "source": [
    "## Method 1: Propensity Score Stratification\n",
    "\n",
    "We will be using propensity scores to stratify units in the data."
   ]
  },
  {
   "cell_type": "code",
   "execution_count": 8,
   "id": "8f53a1c5",
   "metadata": {
    "execution": {
     "iopub.execute_input": "2023-01-26T16:44:18.834391Z",
     "iopub.status.busy": "2023-01-26T16:44:18.834003Z",
     "iopub.status.idle": "2023-01-26T16:44:19.625943Z",
     "shell.execute_reply": "2023-01-26T16:44:19.625244Z"
    }
   },
   "outputs": [
    {
     "name": "stdout",
     "output_type": "stream",
     "text": [
      "*** Causal Estimate ***\n",
      "\n",
      "## Identified estimand\n",
      "Estimand type: EstimandType.NONPARAMETRIC_ATE\n",
      "\n",
      "### Estimand : 1\n",
      "Estimand name: backdoor\n",
      "Estimand expression:\n",
      "  d                       \n",
      "─────(E[y|W2,W3,W0,W1,W4])\n",
      "d[v₀]                     \n",
      "Estimand assumption 1, Unconfoundedness: If U→{v0} and U→y then P(y|v0,W2,W3,W0,W1,W4,U) = P(y|v0,W2,W3,W0,W1,W4)\n",
      "\n",
      "## Realized estimand\n",
      "b: y~v0+W2+W3+W0+W1+W4\n",
      "Target units: att\n",
      "\n",
      "## Estimate\n",
      "Mean value: 1.0030531828491394\n",
      "\n",
      "Causal Estimate is 1.0030531828491394\n"
     ]
    }
   ],
   "source": [
    "causal_estimate_strat = model.estimate_effect(identified_estimand,\n",
    "                                              method_name=\"backdoor.propensity_score_stratification\",\n",
    "                                              target_units=\"att\")\n",
    "print(causal_estimate_strat)\n",
    "print(\"Causal Estimate is \" + str(causal_estimate_strat.value))"
   ]
  },
  {
   "cell_type": "markdown",
   "id": "9b7f1475",
   "metadata": {},
   "source": [
    "### Textual Interpreter\n",
    "\n",
    "The textual Interpreter describes (in words) the effect of unit change in the treatment variable on the outcome variable."
   ]
  },
  {
   "cell_type": "code",
   "execution_count": 9,
   "id": "4bbe425d",
   "metadata": {
    "execution": {
     "iopub.execute_input": "2023-01-26T16:44:19.629049Z",
     "iopub.status.busy": "2023-01-26T16:44:19.628809Z",
     "iopub.status.idle": "2023-01-26T16:44:19.663779Z",
     "shell.execute_reply": "2023-01-26T16:44:19.663034Z"
    }
   },
   "outputs": [
    {
     "name": "stdout",
     "output_type": "stream",
     "text": [
      "Increasing the treatment variable(s) [v0] from 0 to 1 causes an increase of 1.0030531828491394 in the expected value of the outcome [['y']], over the data distribution/population represented by the dataset.\n"
     ]
    }
   ],
   "source": [
    "# Textual Interpreter\n",
    "interpretation = causal_estimate_strat.interpret(method_name=\"textual_effect_interpreter\")"
   ]
  },
  {
   "cell_type": "markdown",
   "id": "b77f8330",
   "metadata": {},
   "source": [
    "### Visual Interpreter\n",
    "\n",
    "The visual interpreter plots the change in the standardized mean difference (SMD) before and after Propensity Score based adjustment of the dataset. The formula for SMD is given below.\n",
    "\n",
    "\n",
    "$SMD = \\frac{\\bar X_{1} - \\bar X_{2}}{\\sqrt{(S_{1}^{2} + S_{2}^{2})/2}}$\n",
    "\n",
    "Here, $\\bar X_{1}$ and $\\bar X_{2}$ are the sample mean for the treated and control groups.\n"
   ]
  },
  {
   "cell_type": "code",
   "execution_count": 10,
   "id": "e0a0f049",
   "metadata": {
    "execution": {
     "iopub.execute_input": "2023-01-26T16:44:19.667017Z",
     "iopub.status.busy": "2023-01-26T16:44:19.666668Z",
     "iopub.status.idle": "2023-01-26T16:44:20.289894Z",
     "shell.execute_reply": "2023-01-26T16:44:20.289194Z"
    }
   },
   "outputs": [
    {
     "data": {
      "image/png": "[encoded data removed]",
      "text/plain": [
       "<Figure size 640x480 with 1 Axes>"
      ]
     },
     "metadata": {},
     "output_type": "display_data"
    }
   ],
   "source": [
    "# Visual Interpreter\n",
    "interpretation = causal_estimate_strat.interpret(method_name=\"propensity_balance_interpreter\")"
   ]
  },
  {
   "cell_type": "markdown",
   "id": "4bab1e5e",
   "metadata": {},
   "source": [
    "This plot shows how the SMD decreases from the unadjusted to the stratified units. "
   ]
  },
  {
   "cell_type": "markdown",
   "id": "f5acfa2f",
   "metadata": {},
   "source": [
    "## Method 2: Propensity Score Matching\n",
    "\n",
    "We will be using propensity scores to match units in the data."
   ]
  },
  {
   "cell_type": "code",
   "execution_count": 11,
   "id": "4b6a660d",
   "metadata": {
    "execution": {
     "iopub.execute_input": "2023-01-26T16:44:20.293038Z",
     "iopub.status.busy": "2023-01-26T16:44:20.292788Z",
     "iopub.status.idle": "2023-01-26T16:44:24.583710Z",
     "shell.execute_reply": "2023-01-26T16:44:24.583030Z"
    }
   },
   "outputs": [
    {
     "name": "stdout",
     "output_type": "stream",
     "text": [
      "*** Causal Estimate ***\n",
      "\n",
      "## Identified estimand\n",
      "Estimand type: EstimandType.NONPARAMETRIC_ATE\n",
      "\n",
      "### Estimand : 1\n",
      "Estimand name: backdoor\n",
      "Estimand expression:\n",
      "  d                       \n",
      "─────(E[y|W2,W3,W0,W1,W4])\n",
      "d[v₀]                     \n",
      "Estimand assumption 1, Unconfoundedness: If U→{v0} and U→y then P(y|v0,W2,W3,W0,W1,W4,U) = P(y|v0,W2,W3,W0,W1,W4)\n",
      "\n",
      "## Realized estimand\n",
      "b: y~v0+W2+W3+W0+W1+W4\n",
      "Target units: atc\n",
      "\n",
      "## Estimate\n",
      "Mean value: 1.0331745903948277\n",
      "\n",
      "Causal Estimate is 1.0331745903948277\n"
     ]
    }
   ],
   "source": [
    "causal_estimate_match = model.estimate_effect(identified_estimand,\n",
    "                                              method_name=\"backdoor.propensity_score_matching\",\n",
    "                                              target_units=\"atc\")\n",
    "print(causal_estimate_match)\n",
    "print(\"Causal Estimate is \" + str(causal_estimate_match.value))"
   ]
  },
  {
   "cell_type": "code",
   "execution_count": 12,
   "id": "28d5f7bb",
   "metadata": {
    "execution": {
     "iopub.execute_input": "2023-01-26T16:44:24.587204Z",
     "iopub.status.busy": "2023-01-26T16:44:24.586523Z",
     "iopub.status.idle": "2023-01-26T16:44:24.620622Z",
     "shell.execute_reply": "2023-01-26T16:44:24.619794Z"
    }
   },
   "outputs": [
    {
     "name": "stdout",
     "output_type": "stream",
     "text": [
      "Increasing the treatment variable(s) [v0] from 0 to 1 causes an increase of 1.0331745903948277 in the expected value of the outcome [['y']], over the data distribution/population represented by the dataset.\n"
     ]
    }
   ],
   "source": [
    "# Textual Interpreter\n",
    "interpretation = causal_estimate_match.interpret(method_name=\"textual_effect_interpreter\")"
   ]
  },
  {
   "cell_type": "markdown",
   "id": "b47e40eb",
   "metadata": {},
   "source": [
    "Cannot use propensity balance interpretor here since the interpreter method only supports propensity score stratification estimator."
   ]
  },
  {
   "cell_type": "markdown",
   "id": "23c7da08",
   "metadata": {},
   "source": [
    "## Method 3: Weighting\n",
    "\n",
    "We will be using (inverse) propensity scores to assign weights to units in the data. DoWhy supports a few different weighting schemes:\n",
    "1. Vanilla Inverse Propensity Score weighting (IPS) (weighting_scheme=\"ips_weight\")\n",
    "2. Self-normalized IPS weighting (also known as the Hajek estimator) (weighting_scheme=\"ips_normalized_weight\")\n",
    "3. Stabilized IPS weighting (weighting_scheme = \"ips_stabilized_weight\")"
   ]
  },
  {
   "cell_type": "code",
   "execution_count": 13,
   "id": "c1a72ccd",
   "metadata": {
    "execution": {
     "iopub.execute_input": "2023-01-26T16:44:24.623918Z",
     "iopub.status.busy": "2023-01-26T16:44:24.623537Z",
     "iopub.status.idle": "2023-01-26T16:44:24.680118Z",
     "shell.execute_reply": "2023-01-26T16:44:24.679261Z"
    }
   },
   "outputs": [
    {
     "name": "stdout",
     "output_type": "stream",
     "text": [
      "*** Causal Estimate ***\n",
      "\n",
      "## Identified estimand\n",
      "Estimand type: EstimandType.NONPARAMETRIC_ATE\n",
      "\n",
      "### Estimand : 1\n",
      "Estimand name: backdoor\n",
      "Estimand expression:\n",
      "  d                       \n",
      "─────(E[y|W2,W3,W0,W1,W4])\n",
      "d[v₀]                     \n",
      "Estimand assumption 1, Unconfoundedness: If U→{v0} and U→y then P(y|v0,W2,W3,W0,W1,W4,U) = P(y|v0,W2,W3,W0,W1,W4)\n",
      "\n",
      "## Realized estimand\n",
      "b: y~v0+W2+W3+W0+W1+W4\n",
      "Target units: ate\n",
      "\n",
      "## Estimate\n",
      "Mean value: 1.3286724921604494\n",
      "\n",
      "Causal Estimate is 1.3286724921604494\n"
     ]
    }
   ],
   "source": [
    "causal_estimate_ipw = model.estimate_effect(identified_estimand,\n",
    "                                            method_name=\"backdoor.propensity_score_weighting\",\n",
    "                                            target_units = \"ate\",\n",
    "                                            method_params={\"weighting_scheme\":\"ips_weight\"})\n",
    "print(causal_estimate_ipw)\n",
    "print(\"Causal Estimate is \" + str(causal_estimate_ipw.value))"
   ]
  },
  {
   "cell_type": "code",
   "execution_count": 14,
   "id": "ef3420fa",
   "metadata": {
    "execution": {
     "iopub.execute_input": "2023-01-26T16:44:24.683513Z",
     "iopub.status.busy": "2023-01-26T16:44:24.682960Z",
     "iopub.status.idle": "2023-01-26T16:44:24.717648Z",
     "shell.execute_reply": "2023-01-26T16:44:24.716886Z"
    }
   },
   "outputs": [
    {
     "name": "stdout",
     "output_type": "stream",
     "text": [
      "Increasing the treatment variable(s) [v0] from 0 to 1 causes an increase of 1.3286724921604494 in the expected value of the outcome [['y']], over the data distribution/population represented by the dataset.\n"
     ]
    }
   ],
   "source": [
    "# Textual Interpreter\n",
    "interpretation = causal_estimate_ipw.interpret(method_name=\"textual_effect_interpreter\")"
   ]
  },
  {
   "cell_type": "code",
   "execution_count": 15,
   "id": "11b6b435",
   "metadata": {
    "execution": {
     "iopub.execute_input": "2023-01-26T16:44:24.720909Z",
     "iopub.status.busy": "2023-01-26T16:44:24.720516Z",
     "iopub.status.idle": "2023-01-26T16:44:25.033488Z",
     "shell.execute_reply": "2023-01-26T16:44:25.032779Z"
    }
   },
   "outputs": [
    {
     "data": {
      "image/png": "[encoded data removed]",
      "text/plain": [
       "<Figure size 800x800 with 2 Axes>"
      ]
     },
     "metadata": {},
     "output_type": "display_data"
    }
   ],
   "source": [
    "interpretation = causal_estimate_ipw.interpret(method_name=\"confounder_distribution_interpreter\", fig_size=(8,8), font_size=12, var_name='W4', var_type='discrete')"
   ]
  },
  {
   "cell_type": "code",
   "execution_count": null,
   "id": "6004359e",
   "metadata": {},
   "outputs": [],
   "source": []
  }
 ],
 "metadata": {
  "kernelspec": {
   "display_name": "Python 3",
   "language": "python",
   "name": "python3"
  },
  "language_info": {
   "codemirror_mode": {
    "name": "ipython",
    "version": 3
   },
   "file_extension": ".py",
   "mimetype": "text/x-python",
   "name": "python",
   "nbconvert_exporter": "python",
   "pygments_lexer": "ipython3",
   "version": "3.8.10"
  },
  "toc": {
   "base_numbering": 1,
   "nav_menu": {},
   "number_sections": false,
   "sideBar": true,
   "skip_h1_title": true,
   "title_cell": "Table of Contents",
   "title_sidebar": "Contents",
   "toc_cell": false,
   "toc_position": {},
   "toc_section_display": true,
   "toc_window_display": false
  }
 },
 "nbformat": 4,
 "nbformat_minor": 5
}
