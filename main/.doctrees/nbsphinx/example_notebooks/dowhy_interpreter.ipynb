{
 "cells": [
  {
   "cell_type": "markdown",
   "id": "71a47792",
   "metadata": {},
   "source": [
    "# DoWhy: Interpreters for Causal Estimators\n",
    "\n",
    "This is a quick introduction to the use of interpreters in the DoWhy causal inference library.\n",
    "We will load in a sample dataset, use different methods for estimating the causal effect of a (pre-specified)treatment variable on a (pre-specified) outcome variable and demonstrate how to interpret the obtained results.\n",
    "\n",
    "First, let us add the required path for Python to find the DoWhy code and load all required packages"
   ]
  },
  {
   "cell_type": "code",
   "execution_count": 1,
   "id": "02e932e8",
   "metadata": {
    "execution": {
     "iopub.execute_input": "2023-02-06T13:53:50.180853Z",
     "iopub.status.busy": "2023-02-06T13:53:50.180649Z",
     "iopub.status.idle": "2023-02-06T13:53:50.196142Z",
     "shell.execute_reply": "2023-02-06T13:53:50.195593Z"
    }
   },
   "outputs": [],
   "source": [
    "%load_ext autoreload\n",
    "%autoreload 2"
   ]
  },
  {
   "cell_type": "code",
   "execution_count": 2,
   "id": "2a2abea4",
   "metadata": {
    "execution": {
     "iopub.execute_input": "2023-02-06T13:53:50.198722Z",
     "iopub.status.busy": "2023-02-06T13:53:50.198520Z",
     "iopub.status.idle": "2023-02-06T13:53:51.789087Z",
     "shell.execute_reply": "2023-02-06T13:53:51.788444Z"
    }
   },
   "outputs": [],
   "source": [
    "import numpy as np\n",
    "import pandas as pd\n",
    "import logging\n",
    "\n",
    "import dowhy\n",
    "from dowhy import CausalModel\n",
    "import dowhy.datasets "
   ]
  },
  {
   "cell_type": "markdown",
   "id": "1c5824a7",
   "metadata": {},
   "source": [
    "Now, let us load a dataset. For simplicity, we simulate a dataset with linear relationships between common causes and treatment, and common causes and outcome.\n",
    "\n",
    "Beta is the true causal effect."
   ]
  },
  {
   "cell_type": "code",
   "execution_count": 3,
   "id": "4111b79d",
   "metadata": {
    "execution": {
     "iopub.execute_input": "2023-02-06T13:53:51.792600Z",
     "iopub.status.busy": "2023-02-06T13:53:51.791920Z",
     "iopub.status.idle": "2023-02-06T13:53:52.063685Z",
     "shell.execute_reply": "2023-02-06T13:53:52.062948Z"
    }
   },
   "outputs": [
    {
     "name": "stdout",
     "output_type": "stream",
     "text": [
      "7163\n"
     ]
    },
    {
     "data": {
      "text/html": [
       "<div>\n",
       "<style scoped>\n",
       "    .dataframe tbody tr th:only-of-type {\n",
       "        vertical-align: middle;\n",
       "    }\n",
       "\n",
       "    .dataframe tbody tr th {\n",
       "        vertical-align: top;\n",
       "    }\n",
       "\n",
       "    .dataframe thead th {\n",
       "        text-align: right;\n",
       "    }\n",
       "</style>\n",
       "<table border=\"1\" class=\"dataframe\">\n",
       "  <thead>\n",
       "    <tr style=\"text-align: right;\">\n",
       "      <th></th>\n",
       "      <th>Z0</th>\n",
       "      <th>Z1</th>\n",
       "      <th>W0</th>\n",
       "      <th>W1</th>\n",
       "      <th>W2</th>\n",
       "      <th>W3</th>\n",
       "      <th>W4</th>\n",
       "      <th>v0</th>\n",
       "      <th>y</th>\n",
       "    </tr>\n",
       "  </thead>\n",
       "  <tbody>\n",
       "    <tr>\n",
       "      <th>0</th>\n",
       "      <td>1.0</td>\n",
       "      <td>0.201650</td>\n",
       "      <td>0.856836</td>\n",
       "      <td>0.971118</td>\n",
       "      <td>-0.792512</td>\n",
       "      <td>-3.234409</td>\n",
       "      <td>1</td>\n",
       "      <td>True</td>\n",
       "      <td>-0.059212</td>\n",
       "    </tr>\n",
       "    <tr>\n",
       "      <th>1</th>\n",
       "      <td>0.0</td>\n",
       "      <td>0.372955</td>\n",
       "      <td>1.695435</td>\n",
       "      <td>1.030603</td>\n",
       "      <td>0.016621</td>\n",
       "      <td>-2.041062</td>\n",
       "      <td>1</td>\n",
       "      <td>True</td>\n",
       "      <td>2.191577</td>\n",
       "    </tr>\n",
       "    <tr>\n",
       "      <th>2</th>\n",
       "      <td>0.0</td>\n",
       "      <td>0.047954</td>\n",
       "      <td>1.962183</td>\n",
       "      <td>0.389719</td>\n",
       "      <td>-1.747661</td>\n",
       "      <td>-0.156590</td>\n",
       "      <td>3</td>\n",
       "      <td>True</td>\n",
       "      <td>4.462198</td>\n",
       "    </tr>\n",
       "    <tr>\n",
       "      <th>3</th>\n",
       "      <td>0.0</td>\n",
       "      <td>0.217953</td>\n",
       "      <td>0.699837</td>\n",
       "      <td>-0.422423</td>\n",
       "      <td>-0.260369</td>\n",
       "      <td>-0.448588</td>\n",
       "      <td>0</td>\n",
       "      <td>False</td>\n",
       "      <td>-0.223336</td>\n",
       "    </tr>\n",
       "    <tr>\n",
       "      <th>4</th>\n",
       "      <td>0.0</td>\n",
       "      <td>0.849794</td>\n",
       "      <td>2.178614</td>\n",
       "      <td>1.067041</td>\n",
       "      <td>-0.741027</td>\n",
       "      <td>0.760682</td>\n",
       "      <td>3</td>\n",
       "      <td>True</td>\n",
       "      <td>6.453976</td>\n",
       "    </tr>\n",
       "    <tr>\n",
       "      <th>...</th>\n",
       "      <td>...</td>\n",
       "      <td>...</td>\n",
       "      <td>...</td>\n",
       "      <td>...</td>\n",
       "      <td>...</td>\n",
       "      <td>...</td>\n",
       "      <td>...</td>\n",
       "      <td>...</td>\n",
       "      <td>...</td>\n",
       "    </tr>\n",
       "    <tr>\n",
       "      <th>9995</th>\n",
       "      <td>1.0</td>\n",
       "      <td>0.649580</td>\n",
       "      <td>0.974103</td>\n",
       "      <td>0.583881</td>\n",
       "      <td>-0.540260</td>\n",
       "      <td>-1.271904</td>\n",
       "      <td>2</td>\n",
       "      <td>True</td>\n",
       "      <td>2.461534</td>\n",
       "    </tr>\n",
       "    <tr>\n",
       "      <th>9996</th>\n",
       "      <td>0.0</td>\n",
       "      <td>0.300302</td>\n",
       "      <td>2.258182</td>\n",
       "      <td>0.122986</td>\n",
       "      <td>-1.675169</td>\n",
       "      <td>-0.859227</td>\n",
       "      <td>2</td>\n",
       "      <td>True</td>\n",
       "      <td>3.126961</td>\n",
       "    </tr>\n",
       "    <tr>\n",
       "      <th>9997</th>\n",
       "      <td>0.0</td>\n",
       "      <td>0.056471</td>\n",
       "      <td>0.713456</td>\n",
       "      <td>2.275418</td>\n",
       "      <td>-0.220973</td>\n",
       "      <td>-1.352359</td>\n",
       "      <td>0</td>\n",
       "      <td>True</td>\n",
       "      <td>2.035701</td>\n",
       "    </tr>\n",
       "    <tr>\n",
       "      <th>9998</th>\n",
       "      <td>0.0</td>\n",
       "      <td>0.430048</td>\n",
       "      <td>-0.989526</td>\n",
       "      <td>-0.782505</td>\n",
       "      <td>-1.353548</td>\n",
       "      <td>-0.043089</td>\n",
       "      <td>2</td>\n",
       "      <td>True</td>\n",
       "      <td>0.413432</td>\n",
       "    </tr>\n",
       "    <tr>\n",
       "      <th>9999</th>\n",
       "      <td>0.0</td>\n",
       "      <td>0.937964</td>\n",
       "      <td>1.425898</td>\n",
       "      <td>-0.160304</td>\n",
       "      <td>0.204609</td>\n",
       "      <td>-0.493255</td>\n",
       "      <td>2</td>\n",
       "      <td>True</td>\n",
       "      <td>3.333982</td>\n",
       "    </tr>\n",
       "  </tbody>\n",
       "</table>\n",
       "<p>10000 rows × 9 columns</p>\n",
       "</div>"
      ],
      "text/plain": [
       "       Z0        Z1        W0        W1        W2        W3 W4     v0  \\\n",
       "0     1.0  0.201650  0.856836  0.971118 -0.792512 -3.234409  1   True   \n",
       "1     0.0  0.372955  1.695435  1.030603  0.016621 -2.041062  1   True   \n",
       "2     0.0  0.047954  1.962183  0.389719 -1.747661 -0.156590  3   True   \n",
       "3     0.0  0.217953  0.699837 -0.422423 -0.260369 -0.448588  0  False   \n",
       "4     0.0  0.849794  2.178614  1.067041 -0.741027  0.760682  3   True   \n",
       "...   ...       ...       ...       ...       ...       ... ..    ...   \n",
       "9995  1.0  0.649580  0.974103  0.583881 -0.540260 -1.271904  2   True   \n",
       "9996  0.0  0.300302  2.258182  0.122986 -1.675169 -0.859227  2   True   \n",
       "9997  0.0  0.056471  0.713456  2.275418 -0.220973 -1.352359  0   True   \n",
       "9998  0.0  0.430048 -0.989526 -0.782505 -1.353548 -0.043089  2   True   \n",
       "9999  0.0  0.937964  1.425898 -0.160304  0.204609 -0.493255  2   True   \n",
       "\n",
       "             y  \n",
       "0    -0.059212  \n",
       "1     2.191577  \n",
       "2     4.462198  \n",
       "3    -0.223336  \n",
       "4     6.453976  \n",
       "...        ...  \n",
       "9995  2.461534  \n",
       "9996  3.126961  \n",
       "9997  2.035701  \n",
       "9998  0.413432  \n",
       "9999  3.333982  \n",
       "\n",
       "[10000 rows x 9 columns]"
      ]
     },
     "execution_count": 3,
     "metadata": {},
     "output_type": "execute_result"
    }
   ],
   "source": [
    "data = dowhy.datasets.linear_dataset(beta=1,\n",
    "        num_common_causes=5, \n",
    "        num_instruments = 2,\n",
    "        num_treatments=1,\n",
    "        num_discrete_common_causes=1,\n",
    "        num_samples=10000,\n",
    "        treatment_is_binary=True,\n",
    "        outcome_is_binary=False)\n",
    "df = data[\"df\"]\n",
    "print(df[df.v0==True].shape[0])\n",
    "df"
   ]
  },
  {
   "cell_type": "markdown",
   "id": "9e02f28d",
   "metadata": {},
   "source": [
    "Note that we are using a pandas dataframe to load the data."
   ]
  },
  {
   "cell_type": "markdown",
   "id": "42fd1296",
   "metadata": {},
   "source": [
    "## Identifying the causal estimand"
   ]
  },
  {
   "cell_type": "markdown",
   "id": "12ce3302",
   "metadata": {},
   "source": [
    "We now input a causal graph in the GML graph format."
   ]
  },
  {
   "cell_type": "code",
   "execution_count": 4,
   "id": "2eac304d",
   "metadata": {
    "execution": {
     "iopub.execute_input": "2023-02-06T13:53:52.066532Z",
     "iopub.status.busy": "2023-02-06T13:53:52.066125Z",
     "iopub.status.idle": "2023-02-06T13:53:52.094813Z",
     "shell.execute_reply": "2023-02-06T13:53:52.094219Z"
    }
   },
   "outputs": [],
   "source": [
    "# With graph\n",
    "model=CausalModel(\n",
    "        data = df,\n",
    "        treatment=data[\"treatment_name\"],\n",
    "        outcome=data[\"outcome_name\"],\n",
    "        graph=data[\"gml_graph\"],\n",
    "        instruments=data[\"instrument_names\"]\n",
    "        )"
   ]
  },
  {
   "cell_type": "code",
   "execution_count": 5,
   "id": "7e20d7c2",
   "metadata": {
    "execution": {
     "iopub.execute_input": "2023-02-06T13:53:52.097703Z",
     "iopub.status.busy": "2023-02-06T13:53:52.097322Z",
     "iopub.status.idle": "2023-02-06T13:53:52.155347Z",
     "shell.execute_reply": "2023-02-06T13:53:52.154653Z"
    }
   },
   "outputs": [],
   "source": [
    "model.view_model()"
   ]
  },
  {
   "cell_type": "code",
   "execution_count": 6,
   "id": "dc28dad1",
   "metadata": {
    "execution": {
     "iopub.execute_input": "2023-02-06T13:53:52.158356Z",
     "iopub.status.busy": "2023-02-06T13:53:52.157828Z",
     "iopub.status.idle": "2023-02-06T13:53:52.186294Z",
     "shell.execute_reply": "2023-02-06T13:53:52.185679Z"
    }
   },
   "outputs": [
    {
     "data": {
      "image/png": "[encoded data removed]",
      "text/plain": [
       "<IPython.core.display.Image object>"
      ]
     },
     "metadata": {},
     "output_type": "display_data"
    }
   ],
   "source": [
    "from IPython.display import Image, display\n",
    "display(Image(filename=\"causal_model.png\"))"
   ]
  },
  {
   "cell_type": "markdown",
   "id": "f4e97a13",
   "metadata": {},
   "source": [
    "We get a causal graph. Now identification and estimation is done."
   ]
  },
  {
   "cell_type": "code",
   "execution_count": 7,
   "id": "e84d6677",
   "metadata": {
    "execution": {
     "iopub.execute_input": "2023-02-06T13:53:52.189384Z",
     "iopub.status.busy": "2023-02-06T13:53:52.189178Z",
     "iopub.status.idle": "2023-02-06T13:53:52.492038Z",
     "shell.execute_reply": "2023-02-06T13:53:52.491506Z"
    }
   },
   "outputs": [
    {
     "name": "stdout",
     "output_type": "stream",
     "text": [
      "Estimand type: EstimandType.NONPARAMETRIC_ATE\n",
      "\n",
      "### Estimand : 1\n",
      "Estimand name: backdoor\n",
      "Estimand expression:\n",
      "  d                       \n",
      "─────(E[y|W4,W3,W1,W0,W2])\n",
      "d[v₀]                     \n",
      "Estimand assumption 1, Unconfoundedness: If U→{v0} and U→y then P(y|v0,W4,W3,W1,W0,W2,U) = P(y|v0,W4,W3,W1,W0,W2)\n",
      "\n",
      "### Estimand : 2\n",
      "Estimand name: iv\n",
      "Estimand expression:\n",
      " ⎡                              -1⎤\n",
      " ⎢    d        ⎛    d          ⎞  ⎥\n",
      "E⎢─────────(y)⋅⎜─────────([v₀])⎟  ⎥\n",
      " ⎣d[Z₀  Z₁]    ⎝d[Z₀  Z₁]      ⎠  ⎦\n",
      "Estimand assumption 1, As-if-random: If U→→y then ¬(U →→{Z0,Z1})\n",
      "Estimand assumption 2, Exclusion: If we remove {Z0,Z1}→{v0}, then ¬({Z0,Z1}→y)\n",
      "\n",
      "### Estimand : 3\n",
      "Estimand name: frontdoor\n",
      "No such variable(s) found!\n",
      "\n"
     ]
    }
   ],
   "source": [
    "identified_estimand = model.identify_effect(proceed_when_unidentifiable=True)\n",
    "print(identified_estimand)"
   ]
  },
  {
   "cell_type": "markdown",
   "id": "de7c94b8",
   "metadata": {},
   "source": [
    "## Method 1: Propensity Score Stratification\n",
    "\n",
    "We will be using propensity scores to stratify units in the data."
   ]
  },
  {
   "cell_type": "code",
   "execution_count": 8,
   "id": "51534e77",
   "metadata": {
    "execution": {
     "iopub.execute_input": "2023-02-06T13:53:52.495126Z",
     "iopub.status.busy": "2023-02-06T13:53:52.494560Z",
     "iopub.status.idle": "2023-02-06T13:53:53.069889Z",
     "shell.execute_reply": "2023-02-06T13:53:53.069257Z"
    }
   },
   "outputs": [
    {
     "name": "stdout",
     "output_type": "stream",
     "text": [
      "*** Causal Estimate ***\n",
      "\n",
      "## Identified estimand\n",
      "Estimand type: EstimandType.NONPARAMETRIC_ATE\n",
      "\n",
      "### Estimand : 1\n",
      "Estimand name: backdoor\n",
      "Estimand expression:\n",
      "  d                       \n",
      "─────(E[y|W4,W3,W1,W0,W2])\n",
      "d[v₀]                     \n",
      "Estimand assumption 1, Unconfoundedness: If U→{v0} and U→y then P(y|v0,W4,W3,W1,W0,W2,U) = P(y|v0,W4,W3,W1,W0,W2)\n",
      "\n",
      "## Realized estimand\n",
      "b: y~v0+W4+W3+W1+W0+W2\n",
      "Target units: att\n",
      "\n",
      "## Estimate\n",
      "Mean value: 0.9961250805226575\n",
      "\n",
      "Causal Estimate is 0.9961250805226575\n"
     ]
    }
   ],
   "source": [
    "causal_estimate_strat = model.estimate_effect(identified_estimand,\n",
    "                                              method_name=\"backdoor.propensity_score_stratification\",\n",
    "                                              target_units=\"att\")\n",
    "print(causal_estimate_strat)\n",
    "print(\"Causal Estimate is \" + str(causal_estimate_strat.value))"
   ]
  },
  {
   "cell_type": "markdown",
   "id": "598db5d0",
   "metadata": {},
   "source": [
    "### Textual Interpreter\n",
    "\n",
    "The textual Interpreter describes (in words) the effect of unit change in the treatment variable on the outcome variable."
   ]
  },
  {
   "cell_type": "code",
   "execution_count": 9,
   "id": "2bd0d82b",
   "metadata": {
    "execution": {
     "iopub.execute_input": "2023-02-06T13:53:53.072623Z",
     "iopub.status.busy": "2023-02-06T13:53:53.072404Z",
     "iopub.status.idle": "2023-02-06T13:53:53.103504Z",
     "shell.execute_reply": "2023-02-06T13:53:53.102901Z"
    }
   },
   "outputs": [
    {
     "name": "stdout",
     "output_type": "stream",
     "text": [
      "Increasing the treatment variable(s) [v0] from 0 to 1 causes an increase of 0.9961250805226575 in the expected value of the outcome [['y']], over the data distribution/population represented by the dataset.\n"
     ]
    }
   ],
   "source": [
    "# Textual Interpreter\n",
    "interpretation = causal_estimate_strat.interpret(method_name=\"textual_effect_interpreter\")"
   ]
  },
  {
   "cell_type": "markdown",
   "id": "2bb8b7fb",
   "metadata": {},
   "source": [
    "### Visual Interpreter\n",
    "\n",
    "The visual interpreter plots the change in the standardized mean difference (SMD) before and after Propensity Score based adjustment of the dataset. The formula for SMD is given below.\n",
    "\n",
    "\n",
    "$SMD = \\frac{\\bar X_{1} - \\bar X_{2}}{\\sqrt{(S_{1}^{2} + S_{2}^{2})/2}}$\n",
    "\n",
    "Here, $\\bar X_{1}$ and $\\bar X_{2}$ are the sample mean for the treated and control groups.\n"
   ]
  },
  {
   "cell_type": "code",
   "execution_count": 10,
   "id": "276d28cf",
   "metadata": {
    "execution": {
     "iopub.execute_input": "2023-02-06T13:53:53.106333Z",
     "iopub.status.busy": "2023-02-06T13:53:53.106097Z",
     "iopub.status.idle": "2023-02-06T13:53:53.888946Z",
     "shell.execute_reply": "2023-02-06T13:53:53.888339Z"
    }
   },
   "outputs": [
    {
     "data": {
      "image/png": "[encoded data removed]",
      "text/plain": [
       "<Figure size 640x480 with 1 Axes>"
      ]
     },
     "metadata": {},
     "output_type": "display_data"
    }
   ],
   "source": [
    "# Visual Interpreter\n",
    "interpretation = causal_estimate_strat.interpret(method_name=\"propensity_balance_interpreter\")"
   ]
  },
  {
   "cell_type": "markdown",
   "id": "1efb280a",
   "metadata": {},
   "source": [
    "This plot shows how the SMD decreases from the unadjusted to the stratified units. "
   ]
  },
  {
   "cell_type": "markdown",
   "id": "4a8a4e55",
   "metadata": {},
   "source": [
    "## Method 2: Propensity Score Matching\n",
    "\n",
    "We will be using propensity scores to match units in the data."
   ]
  },
  {
   "cell_type": "code",
   "execution_count": 11,
   "id": "5fc4b837",
   "metadata": {
    "execution": {
     "iopub.execute_input": "2023-02-06T13:53:53.892199Z",
     "iopub.status.busy": "2023-02-06T13:53:53.891864Z",
     "iopub.status.idle": "2023-02-06T13:53:57.187635Z",
     "shell.execute_reply": "2023-02-06T13:53:57.187097Z"
    }
   },
   "outputs": [
    {
     "name": "stdout",
     "output_type": "stream",
     "text": [
      "*** Causal Estimate ***\n",
      "\n",
      "## Identified estimand\n",
      "Estimand type: EstimandType.NONPARAMETRIC_ATE\n",
      "\n",
      "### Estimand : 1\n",
      "Estimand name: backdoor\n",
      "Estimand expression:\n",
      "  d                       \n",
      "─────(E[y|W4,W3,W1,W0,W2])\n",
      "d[v₀]                     \n",
      "Estimand assumption 1, Unconfoundedness: If U→{v0} and U→y then P(y|v0,W4,W3,W1,W0,W2,U) = P(y|v0,W4,W3,W1,W0,W2)\n",
      "\n",
      "## Realized estimand\n",
      "b: y~v0+W4+W3+W1+W0+W2\n",
      "Target units: atc\n",
      "\n",
      "## Estimate\n",
      "Mean value: 0.9334056220770208\n",
      "\n",
      "Causal Estimate is 0.9334056220770208\n"
     ]
    }
   ],
   "source": [
    "causal_estimate_match = model.estimate_effect(identified_estimand,\n",
    "                                              method_name=\"backdoor.propensity_score_matching\",\n",
    "                                              target_units=\"atc\")\n",
    "print(causal_estimate_match)\n",
    "print(\"Causal Estimate is \" + str(causal_estimate_match.value))"
   ]
  },
  {
   "cell_type": "code",
   "execution_count": 12,
   "id": "ee1ff28e",
   "metadata": {
    "execution": {
     "iopub.execute_input": "2023-02-06T13:53:57.190678Z",
     "iopub.status.busy": "2023-02-06T13:53:57.190098Z",
     "iopub.status.idle": "2023-02-06T13:53:57.220218Z",
     "shell.execute_reply": "2023-02-06T13:53:57.219603Z"
    }
   },
   "outputs": [
    {
     "name": "stdout",
     "output_type": "stream",
     "text": [
      "Increasing the treatment variable(s) [v0] from 0 to 1 causes an increase of 0.9334056220770208 in the expected value of the outcome [['y']], over the data distribution/population represented by the dataset.\n"
     ]
    }
   ],
   "source": [
    "# Textual Interpreter\n",
    "interpretation = causal_estimate_match.interpret(method_name=\"textual_effect_interpreter\")"
   ]
  },
  {
   "cell_type": "markdown",
   "id": "d6dc2a67",
   "metadata": {},
   "source": [
    "Cannot use propensity balance interpretor here since the interpreter method only supports propensity score stratification estimator."
   ]
  },
  {
   "cell_type": "markdown",
   "id": "b692307b",
   "metadata": {},
   "source": [
    "## Method 3: Weighting\n",
    "\n",
    "We will be using (inverse) propensity scores to assign weights to units in the data. DoWhy supports a few different weighting schemes:\n",
    "1. Vanilla Inverse Propensity Score weighting (IPS) (weighting_scheme=\"ips_weight\")\n",
    "2. Self-normalized IPS weighting (also known as the Hajek estimator) (weighting_scheme=\"ips_normalized_weight\")\n",
    "3. Stabilized IPS weighting (weighting_scheme = \"ips_stabilized_weight\")"
   ]
  },
  {
   "cell_type": "code",
   "execution_count": 13,
   "id": "d362c6da",
   "metadata": {
    "execution": {
     "iopub.execute_input": "2023-02-06T13:53:57.222898Z",
     "iopub.status.busy": "2023-02-06T13:53:57.222678Z",
     "iopub.status.idle": "2023-02-06T13:53:57.272736Z",
     "shell.execute_reply": "2023-02-06T13:53:57.272071Z"
    }
   },
   "outputs": [
    {
     "name": "stdout",
     "output_type": "stream",
     "text": [
      "*** Causal Estimate ***\n",
      "\n",
      "## Identified estimand\n",
      "Estimand type: EstimandType.NONPARAMETRIC_ATE\n",
      "\n",
      "### Estimand : 1\n",
      "Estimand name: backdoor\n",
      "Estimand expression:\n",
      "  d                       \n",
      "─────(E[y|W4,W3,W1,W0,W2])\n",
      "d[v₀]                     \n",
      "Estimand assumption 1, Unconfoundedness: If U→{v0} and U→y then P(y|v0,W4,W3,W1,W0,W2,U) = P(y|v0,W4,W3,W1,W0,W2)\n",
      "\n",
      "## Realized estimand\n",
      "b: y~v0+W4+W3+W1+W0+W2\n",
      "Target units: ate\n",
      "\n",
      "## Estimate\n",
      "Mean value: 1.0308980050296905\n",
      "\n",
      "Causal Estimate is 1.0308980050296905\n"
     ]
    }
   ],
   "source": [
    "causal_estimate_ipw = model.estimate_effect(identified_estimand,\n",
    "                                            method_name=\"backdoor.propensity_score_weighting\",\n",
    "                                            target_units = \"ate\",\n",
    "                                            method_params={\"weighting_scheme\":\"ips_weight\"})\n",
    "print(causal_estimate_ipw)\n",
    "print(\"Causal Estimate is \" + str(causal_estimate_ipw.value))"
   ]
  },
  {
   "cell_type": "code",
   "execution_count": 14,
   "id": "749444cb",
   "metadata": {
    "execution": {
     "iopub.execute_input": "2023-02-06T13:53:57.275830Z",
     "iopub.status.busy": "2023-02-06T13:53:57.275399Z",
     "iopub.status.idle": "2023-02-06T13:53:57.305306Z",
     "shell.execute_reply": "2023-02-06T13:53:57.304650Z"
    }
   },
   "outputs": [
    {
     "name": "stdout",
     "output_type": "stream",
     "text": [
      "Increasing the treatment variable(s) [v0] from 0 to 1 causes an increase of 1.0308980050296905 in the expected value of the outcome [['y']], over the data distribution/population represented by the dataset.\n"
     ]
    }
   ],
   "source": [
    "# Textual Interpreter\n",
    "interpretation = causal_estimate_ipw.interpret(method_name=\"textual_effect_interpreter\")"
   ]
  },
  {
   "cell_type": "code",
   "execution_count": 15,
   "id": "a2777957",
   "metadata": {
    "execution": {
     "iopub.execute_input": "2023-02-06T13:53:57.308198Z",
     "iopub.status.busy": "2023-02-06T13:53:57.307675Z",
     "iopub.status.idle": "2023-02-06T13:53:57.623847Z",
     "shell.execute_reply": "2023-02-06T13:53:57.623244Z"
    }
   },
   "outputs": [
    {
     "data": {
      "image/png": "[encoded data removed]",
      "text/plain": [
       "<Figure size 800x800 with 2 Axes>"
      ]
     },
     "metadata": {},
     "output_type": "display_data"
    }
   ],
   "source": [
    "interpretation = causal_estimate_ipw.interpret(method_name=\"confounder_distribution_interpreter\", fig_size=(8,8), font_size=12, var_name='W4', var_type='discrete')"
   ]
  },
  {
   "cell_type": "code",
   "execution_count": null,
   "id": "6d8f0902",
   "metadata": {},
   "outputs": [],
   "source": []
  }
 ],
 "metadata": {
  "kernelspec": {
   "display_name": "Python 3",
   "language": "python",
   "name": "python3"
  },
  "language_info": {
   "codemirror_mode": {
    "name": "ipython",
    "version": 3
   },
   "file_extension": ".py",
   "mimetype": "text/x-python",
   "name": "python",
   "nbconvert_exporter": "python",
   "pygments_lexer": "ipython3",
   "version": "3.8.10"
  },
  "toc": {
   "base_numbering": 1,
   "nav_menu": {},
   "number_sections": false,
   "sideBar": true,
   "skip_h1_title": true,
   "title_cell": "Table of Contents",
   "title_sidebar": "Contents",
   "toc_cell": false,
   "toc_position": {},
   "toc_section_display": true,
   "toc_window_display": false
  }
 },
 "nbformat": 4,
 "nbformat_minor": 5
}
