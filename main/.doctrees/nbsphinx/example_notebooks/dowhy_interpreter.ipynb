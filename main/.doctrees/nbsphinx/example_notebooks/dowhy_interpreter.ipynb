{
 "cells": [
  {
   "cell_type": "markdown",
   "id": "d0e5e569",
   "metadata": {},
   "source": [
    "# DoWhy: Interpreters for Causal Estimators\n",
    "\n",
    "This is a quick introduction to the use of interpreters in the DoWhy causal inference library.\n",
    "We will load in a sample dataset, use different methods for estimating the causal effect of a (pre-specified)treatment variable on a (pre-specified) outcome variable and demonstrate how to interpret the obtained results.\n",
    "\n",
    "First, let us add the required path for Python to find the DoWhy code and load all required packages"
   ]
  },
  {
   "cell_type": "code",
   "execution_count": 1,
   "id": "c6ddd501",
   "metadata": {
    "execution": {
     "iopub.execute_input": "2023-03-07T16:58:19.457354Z",
     "iopub.status.busy": "2023-03-07T16:58:19.456847Z",
     "iopub.status.idle": "2023-03-07T16:58:19.474840Z",
     "shell.execute_reply": "2023-03-07T16:58:19.474145Z"
    }
   },
   "outputs": [],
   "source": [
    "%load_ext autoreload\n",
    "%autoreload 2"
   ]
  },
  {
   "cell_type": "code",
   "execution_count": 2,
   "id": "15466347",
   "metadata": {
    "execution": {
     "iopub.execute_input": "2023-03-07T16:58:19.478297Z",
     "iopub.status.busy": "2023-03-07T16:58:19.477909Z",
     "iopub.status.idle": "2023-03-07T16:58:21.312385Z",
     "shell.execute_reply": "2023-03-07T16:58:21.311558Z"
    }
   },
   "outputs": [],
   "source": [
    "import numpy as np\n",
    "import pandas as pd\n",
    "import logging\n",
    "\n",
    "import dowhy\n",
    "from dowhy import CausalModel\n",
    "import dowhy.datasets "
   ]
  },
  {
   "cell_type": "markdown",
   "id": "1a1517d4",
   "metadata": {},
   "source": [
    "Now, let us load a dataset. For simplicity, we simulate a dataset with linear relationships between common causes and treatment, and common causes and outcome.\n",
    "\n",
    "Beta is the true causal effect."
   ]
  },
  {
   "cell_type": "code",
   "execution_count": 3,
   "id": "d1a2fe7d",
   "metadata": {
    "execution": {
     "iopub.execute_input": "2023-03-07T16:58:21.316380Z",
     "iopub.status.busy": "2023-03-07T16:58:21.315775Z",
     "iopub.status.idle": "2023-03-07T16:58:21.621023Z",
     "shell.execute_reply": "2023-03-07T16:58:21.619961Z"
    }
   },
   "outputs": [
    {
     "name": "stdout",
     "output_type": "stream",
     "text": [
      "7487\n"
     ]
    },
    {
     "data": {
      "text/html": [
       "<div>\n",
       "<style scoped>\n",
       "    .dataframe tbody tr th:only-of-type {\n",
       "        vertical-align: middle;\n",
       "    }\n",
       "\n",
       "    .dataframe tbody tr th {\n",
       "        vertical-align: top;\n",
       "    }\n",
       "\n",
       "    .dataframe thead th {\n",
       "        text-align: right;\n",
       "    }\n",
       "</style>\n",
       "<table border=\"1\" class=\"dataframe\">\n",
       "  <thead>\n",
       "    <tr style=\"text-align: right;\">\n",
       "      <th></th>\n",
       "      <th>Z0</th>\n",
       "      <th>Z1</th>\n",
       "      <th>W0</th>\n",
       "      <th>W1</th>\n",
       "      <th>W2</th>\n",
       "      <th>W3</th>\n",
       "      <th>W4</th>\n",
       "      <th>v0</th>\n",
       "      <th>y</th>\n",
       "    </tr>\n",
       "  </thead>\n",
       "  <tbody>\n",
       "    <tr>\n",
       "      <th>0</th>\n",
       "      <td>1.0</td>\n",
       "      <td>0.918321</td>\n",
       "      <td>-0.869442</td>\n",
       "      <td>-2.477369</td>\n",
       "      <td>-1.490598</td>\n",
       "      <td>-0.422763</td>\n",
       "      <td>3</td>\n",
       "      <td>False</td>\n",
       "      <td>0.357974</td>\n",
       "    </tr>\n",
       "    <tr>\n",
       "      <th>1</th>\n",
       "      <td>0.0</td>\n",
       "      <td>0.358166</td>\n",
       "      <td>-0.893008</td>\n",
       "      <td>-1.435848</td>\n",
       "      <td>0.419964</td>\n",
       "      <td>-0.651565</td>\n",
       "      <td>0</td>\n",
       "      <td>True</td>\n",
       "      <td>0.013384</td>\n",
       "    </tr>\n",
       "    <tr>\n",
       "      <th>2</th>\n",
       "      <td>1.0</td>\n",
       "      <td>0.111308</td>\n",
       "      <td>-1.208805</td>\n",
       "      <td>1.148166</td>\n",
       "      <td>-2.402352</td>\n",
       "      <td>-1.764658</td>\n",
       "      <td>2</td>\n",
       "      <td>True</td>\n",
       "      <td>-1.597645</td>\n",
       "    </tr>\n",
       "    <tr>\n",
       "      <th>3</th>\n",
       "      <td>1.0</td>\n",
       "      <td>0.814712</td>\n",
       "      <td>-1.848721</td>\n",
       "      <td>0.385044</td>\n",
       "      <td>-0.633213</td>\n",
       "      <td>0.306192</td>\n",
       "      <td>0</td>\n",
       "      <td>True</td>\n",
       "      <td>-0.614955</td>\n",
       "    </tr>\n",
       "    <tr>\n",
       "      <th>4</th>\n",
       "      <td>1.0</td>\n",
       "      <td>0.397461</td>\n",
       "      <td>-1.176600</td>\n",
       "      <td>-0.404207</td>\n",
       "      <td>-0.040583</td>\n",
       "      <td>-0.810793</td>\n",
       "      <td>0</td>\n",
       "      <td>True</td>\n",
       "      <td>-0.671233</td>\n",
       "    </tr>\n",
       "    <tr>\n",
       "      <th>...</th>\n",
       "      <td>...</td>\n",
       "      <td>...</td>\n",
       "      <td>...</td>\n",
       "      <td>...</td>\n",
       "      <td>...</td>\n",
       "      <td>...</td>\n",
       "      <td>...</td>\n",
       "      <td>...</td>\n",
       "      <td>...</td>\n",
       "    </tr>\n",
       "    <tr>\n",
       "      <th>9995</th>\n",
       "      <td>1.0</td>\n",
       "      <td>0.101185</td>\n",
       "      <td>0.018802</td>\n",
       "      <td>-0.782037</td>\n",
       "      <td>-0.281794</td>\n",
       "      <td>0.854240</td>\n",
       "      <td>3</td>\n",
       "      <td>True</td>\n",
       "      <td>4.416189</td>\n",
       "    </tr>\n",
       "    <tr>\n",
       "      <th>9996</th>\n",
       "      <td>1.0</td>\n",
       "      <td>0.429775</td>\n",
       "      <td>-1.165386</td>\n",
       "      <td>-0.548928</td>\n",
       "      <td>-0.459389</td>\n",
       "      <td>-0.038247</td>\n",
       "      <td>2</td>\n",
       "      <td>True</td>\n",
       "      <td>1.606526</td>\n",
       "    </tr>\n",
       "    <tr>\n",
       "      <th>9997</th>\n",
       "      <td>1.0</td>\n",
       "      <td>0.229333</td>\n",
       "      <td>-1.459325</td>\n",
       "      <td>-1.030410</td>\n",
       "      <td>0.641448</td>\n",
       "      <td>0.584878</td>\n",
       "      <td>3</td>\n",
       "      <td>True</td>\n",
       "      <td>3.881692</td>\n",
       "    </tr>\n",
       "    <tr>\n",
       "      <th>9998</th>\n",
       "      <td>1.0</td>\n",
       "      <td>0.197933</td>\n",
       "      <td>-0.418008</td>\n",
       "      <td>-0.148815</td>\n",
       "      <td>0.300492</td>\n",
       "      <td>0.124756</td>\n",
       "      <td>0</td>\n",
       "      <td>True</td>\n",
       "      <td>1.056686</td>\n",
       "    </tr>\n",
       "    <tr>\n",
       "      <th>9999</th>\n",
       "      <td>1.0</td>\n",
       "      <td>0.119803</td>\n",
       "      <td>0.395404</td>\n",
       "      <td>-0.547956</td>\n",
       "      <td>-0.421340</td>\n",
       "      <td>-1.735536</td>\n",
       "      <td>1</td>\n",
       "      <td>True</td>\n",
       "      <td>0.272556</td>\n",
       "    </tr>\n",
       "  </tbody>\n",
       "</table>\n",
       "<p>10000 rows × 9 columns</p>\n",
       "</div>"
      ],
      "text/plain": [
       "       Z0        Z1        W0        W1        W2        W3 W4     v0  \\\n",
       "0     1.0  0.918321 -0.869442 -2.477369 -1.490598 -0.422763  3  False   \n",
       "1     0.0  0.358166 -0.893008 -1.435848  0.419964 -0.651565  0   True   \n",
       "2     1.0  0.111308 -1.208805  1.148166 -2.402352 -1.764658  2   True   \n",
       "3     1.0  0.814712 -1.848721  0.385044 -0.633213  0.306192  0   True   \n",
       "4     1.0  0.397461 -1.176600 -0.404207 -0.040583 -0.810793  0   True   \n",
       "...   ...       ...       ...       ...       ...       ... ..    ...   \n",
       "9995  1.0  0.101185  0.018802 -0.782037 -0.281794  0.854240  3   True   \n",
       "9996  1.0  0.429775 -1.165386 -0.548928 -0.459389 -0.038247  2   True   \n",
       "9997  1.0  0.229333 -1.459325 -1.030410  0.641448  0.584878  3   True   \n",
       "9998  1.0  0.197933 -0.418008 -0.148815  0.300492  0.124756  0   True   \n",
       "9999  1.0  0.119803  0.395404 -0.547956 -0.421340 -1.735536  1   True   \n",
       "\n",
       "             y  \n",
       "0     0.357974  \n",
       "1     0.013384  \n",
       "2    -1.597645  \n",
       "3    -0.614955  \n",
       "4    -0.671233  \n",
       "...        ...  \n",
       "9995  4.416189  \n",
       "9996  1.606526  \n",
       "9997  3.881692  \n",
       "9998  1.056686  \n",
       "9999  0.272556  \n",
       "\n",
       "[10000 rows x 9 columns]"
      ]
     },
     "execution_count": 3,
     "metadata": {},
     "output_type": "execute_result"
    }
   ],
   "source": [
    "data = dowhy.datasets.linear_dataset(beta=1,\n",
    "        num_common_causes=5, \n",
    "        num_instruments = 2,\n",
    "        num_treatments=1,\n",
    "        num_discrete_common_causes=1,\n",
    "        num_samples=10000,\n",
    "        treatment_is_binary=True,\n",
    "        outcome_is_binary=False)\n",
    "df = data[\"df\"]\n",
    "print(df[df.v0==True].shape[0])\n",
    "df"
   ]
  },
  {
   "cell_type": "markdown",
   "id": "7f3dc915",
   "metadata": {},
   "source": [
    "Note that we are using a pandas dataframe to load the data."
   ]
  },
  {
   "cell_type": "markdown",
   "id": "af1f8dde",
   "metadata": {},
   "source": [
    "## Identifying the causal estimand"
   ]
  },
  {
   "cell_type": "markdown",
   "id": "d103714a",
   "metadata": {},
   "source": [
    "We now input a causal graph in the GML graph format."
   ]
  },
  {
   "cell_type": "code",
   "execution_count": 4,
   "id": "e927eef3",
   "metadata": {
    "execution": {
     "iopub.execute_input": "2023-03-07T16:58:21.624107Z",
     "iopub.status.busy": "2023-03-07T16:58:21.623780Z",
     "iopub.status.idle": "2023-03-07T16:58:21.655301Z",
     "shell.execute_reply": "2023-03-07T16:58:21.654561Z"
    }
   },
   "outputs": [],
   "source": [
    "# With graph\n",
    "model=CausalModel(\n",
    "        data = df,\n",
    "        treatment=data[\"treatment_name\"],\n",
    "        outcome=data[\"outcome_name\"],\n",
    "        graph=data[\"gml_graph\"],\n",
    "        instruments=data[\"instrument_names\"]\n",
    "        )"
   ]
  },
  {
   "cell_type": "code",
   "execution_count": 5,
   "id": "596f289c",
   "metadata": {
    "execution": {
     "iopub.execute_input": "2023-03-07T16:58:21.659296Z",
     "iopub.status.busy": "2023-03-07T16:58:21.658761Z",
     "iopub.status.idle": "2023-03-07T16:58:21.719156Z",
     "shell.execute_reply": "2023-03-07T16:58:21.718357Z"
    }
   },
   "outputs": [],
   "source": [
    "model.view_model()"
   ]
  },
  {
   "cell_type": "code",
   "execution_count": 6,
   "id": "cd275f53",
   "metadata": {
    "execution": {
     "iopub.execute_input": "2023-03-07T16:58:21.723028Z",
     "iopub.status.busy": "2023-03-07T16:58:21.722601Z",
     "iopub.status.idle": "2023-03-07T16:58:21.755581Z",
     "shell.execute_reply": "2023-03-07T16:58:21.754933Z"
    }
   },
   "outputs": [
    {
     "data": {
      "image/png": "[encoded data removed]",
      "text/plain": [
       "<IPython.core.display.Image object>"
      ]
     },
     "metadata": {},
     "output_type": "display_data"
    }
   ],
   "source": [
    "from IPython.display import Image, display\n",
    "display(Image(filename=\"causal_model.png\"))"
   ]
  },
  {
   "cell_type": "markdown",
   "id": "95e92f99",
   "metadata": {},
   "source": [
    "We get a causal graph. Now identification and estimation is done."
   ]
  },
  {
   "cell_type": "code",
   "execution_count": 7,
   "id": "7f67c150",
   "metadata": {
    "execution": {
     "iopub.execute_input": "2023-03-07T16:58:21.758956Z",
     "iopub.status.busy": "2023-03-07T16:58:21.758509Z",
     "iopub.status.idle": "2023-03-07T16:58:22.120234Z",
     "shell.execute_reply": "2023-03-07T16:58:22.119461Z"
    }
   },
   "outputs": [
    {
     "name": "stdout",
     "output_type": "stream",
     "text": [
      "Estimand type: EstimandType.NONPARAMETRIC_ATE\n",
      "\n",
      "### Estimand : 1\n",
      "Estimand name: backdoor\n",
      "Estimand expression:\n",
      "  d                       \n",
      "─────(E[y|W2,W4,W1,W0,W3])\n",
      "d[v₀]                     \n",
      "Estimand assumption 1, Unconfoundedness: If U→{v0} and U→y then P(y|v0,W2,W4,W1,W0,W3,U) = P(y|v0,W2,W4,W1,W0,W3)\n",
      "\n",
      "### Estimand : 2\n",
      "Estimand name: iv\n",
      "Estimand expression:\n",
      " ⎡                              -1⎤\n",
      " ⎢    d        ⎛    d          ⎞  ⎥\n",
      "E⎢─────────(y)⋅⎜─────────([v₀])⎟  ⎥\n",
      " ⎣d[Z₀  Z₁]    ⎝d[Z₀  Z₁]      ⎠  ⎦\n",
      "Estimand assumption 1, As-if-random: If U→→y then ¬(U →→{Z0,Z1})\n",
      "Estimand assumption 2, Exclusion: If we remove {Z0,Z1}→{v0}, then ¬({Z0,Z1}→y)\n",
      "\n",
      "### Estimand : 3\n",
      "Estimand name: frontdoor\n",
      "No such variable(s) found!\n",
      "\n"
     ]
    }
   ],
   "source": [
    "identified_estimand = model.identify_effect(proceed_when_unidentifiable=True)\n",
    "print(identified_estimand)"
   ]
  },
  {
   "cell_type": "markdown",
   "id": "cf647f13",
   "metadata": {},
   "source": [
    "## Method 1: Propensity Score Stratification\n",
    "\n",
    "We will be using propensity scores to stratify units in the data."
   ]
  },
  {
   "cell_type": "code",
   "execution_count": 8,
   "id": "f334de9b",
   "metadata": {
    "execution": {
     "iopub.execute_input": "2023-03-07T16:58:22.123795Z",
     "iopub.status.busy": "2023-03-07T16:58:22.123367Z",
     "iopub.status.idle": "2023-03-07T16:58:22.860246Z",
     "shell.execute_reply": "2023-03-07T16:58:22.859458Z"
    }
   },
   "outputs": [
    {
     "name": "stdout",
     "output_type": "stream",
     "text": [
      "*** Causal Estimate ***\n",
      "\n",
      "## Identified estimand\n",
      "Estimand type: EstimandType.NONPARAMETRIC_ATE\n",
      "\n",
      "### Estimand : 1\n",
      "Estimand name: backdoor\n",
      "Estimand expression:\n",
      "  d                       \n",
      "─────(E[y|W2,W4,W1,W0,W3])\n",
      "d[v₀]                     \n",
      "Estimand assumption 1, Unconfoundedness: If U→{v0} and U→y then P(y|v0,W2,W4,W1,W0,W3,U) = P(y|v0,W2,W4,W1,W0,W3)\n",
      "\n",
      "## Realized estimand\n",
      "b: y~v0+W2+W4+W1+W0+W3\n",
      "Target units: att\n",
      "\n",
      "## Estimate\n",
      "Mean value: 1.0093744425726432\n",
      "\n",
      "Causal Estimate is 1.0093744425726432\n"
     ]
    }
   ],
   "source": [
    "causal_estimate_strat = model.estimate_effect(identified_estimand,\n",
    "                                              method_name=\"backdoor.propensity_score_stratification\",\n",
    "                                              target_units=\"att\")\n",
    "print(causal_estimate_strat)\n",
    "print(\"Causal Estimate is \" + str(causal_estimate_strat.value))"
   ]
  },
  {
   "cell_type": "markdown",
   "id": "87731e08",
   "metadata": {},
   "source": [
    "### Textual Interpreter\n",
    "\n",
    "The textual Interpreter describes (in words) the effect of unit change in the treatment variable on the outcome variable."
   ]
  },
  {
   "cell_type": "code",
   "execution_count": 9,
   "id": "03a4ee7c",
   "metadata": {
    "execution": {
     "iopub.execute_input": "2023-03-07T16:58:22.864490Z",
     "iopub.status.busy": "2023-03-07T16:58:22.863855Z",
     "iopub.status.idle": "2023-03-07T16:58:22.897923Z",
     "shell.execute_reply": "2023-03-07T16:58:22.897126Z"
    }
   },
   "outputs": [
    {
     "name": "stdout",
     "output_type": "stream",
     "text": [
      "Increasing the treatment variable(s) [v0] from 0 to 1 causes an increase of 1.0093744425726432 in the expected value of the outcome [['y']], over the data distribution/population represented by the dataset.\n"
     ]
    }
   ],
   "source": [
    "# Textual Interpreter\n",
    "interpretation = causal_estimate_strat.interpret(method_name=\"textual_effect_interpreter\")"
   ]
  },
  {
   "cell_type": "markdown",
   "id": "e35c6ed7",
   "metadata": {},
   "source": [
    "### Visual Interpreter\n",
    "\n",
    "The visual interpreter plots the change in the standardized mean difference (SMD) before and after Propensity Score based adjustment of the dataset. The formula for SMD is given below.\n",
    "\n",
    "\n",
    "$SMD = \\frac{\\bar X_{1} - \\bar X_{2}}{\\sqrt{(S_{1}^{2} + S_{2}^{2})/2}}$\n",
    "\n",
    "Here, $\\bar X_{1}$ and $\\bar X_{2}$ are the sample mean for the treated and control groups.\n"
   ]
  },
  {
   "cell_type": "code",
   "execution_count": 10,
   "id": "132266c4",
   "metadata": {
    "execution": {
     "iopub.execute_input": "2023-03-07T16:58:22.901378Z",
     "iopub.status.busy": "2023-03-07T16:58:22.900746Z",
     "iopub.status.idle": "2023-03-07T16:58:23.838662Z",
     "shell.execute_reply": "2023-03-07T16:58:23.837926Z"
    }
   },
   "outputs": [
    {
     "data": {
      "image/png": "[encoded data removed]",
      "text/plain": [
       "<Figure size 640x480 with 1 Axes>"
      ]
     },
     "metadata": {},
     "output_type": "display_data"
    }
   ],
   "source": [
    "# Visual Interpreter\n",
    "interpretation = causal_estimate_strat.interpret(method_name=\"propensity_balance_interpreter\")"
   ]
  },
  {
   "cell_type": "markdown",
   "id": "116f08a7",
   "metadata": {},
   "source": [
    "This plot shows how the SMD decreases from the unadjusted to the stratified units. "
   ]
  },
  {
   "cell_type": "markdown",
   "id": "0a236a04",
   "metadata": {},
   "source": [
    "## Method 2: Propensity Score Matching\n",
    "\n",
    "We will be using propensity scores to match units in the data."
   ]
  },
  {
   "cell_type": "code",
   "execution_count": 11,
   "id": "f8fb80ff",
   "metadata": {
    "execution": {
     "iopub.execute_input": "2023-03-07T16:58:23.842182Z",
     "iopub.status.busy": "2023-03-07T16:58:23.841926Z",
     "iopub.status.idle": "2023-03-07T16:58:28.027473Z",
     "shell.execute_reply": "2023-03-07T16:58:28.026839Z"
    }
   },
   "outputs": [
    {
     "name": "stdout",
     "output_type": "stream",
     "text": [
      "*** Causal Estimate ***\n",
      "\n",
      "## Identified estimand\n",
      "Estimand type: EstimandType.NONPARAMETRIC_ATE\n",
      "\n",
      "### Estimand : 1\n",
      "Estimand name: backdoor\n",
      "Estimand expression:\n",
      "  d                       \n",
      "─────(E[y|W2,W4,W1,W0,W3])\n",
      "d[v₀]                     \n",
      "Estimand assumption 1, Unconfoundedness: If U→{v0} and U→y then P(y|v0,W2,W4,W1,W0,W3,U) = P(y|v0,W2,W4,W1,W0,W3)\n",
      "\n",
      "## Realized estimand\n",
      "b: y~v0+W2+W4+W1+W0+W3\n",
      "Target units: atc\n",
      "\n",
      "## Estimate\n",
      "Mean value: 1.057188543701169\n",
      "\n",
      "Causal Estimate is 1.057188543701169\n"
     ]
    }
   ],
   "source": [
    "causal_estimate_match = model.estimate_effect(identified_estimand,\n",
    "                                              method_name=\"backdoor.propensity_score_matching\",\n",
    "                                              target_units=\"atc\")\n",
    "print(causal_estimate_match)\n",
    "print(\"Causal Estimate is \" + str(causal_estimate_match.value))"
   ]
  },
  {
   "cell_type": "code",
   "execution_count": 12,
   "id": "4952b958",
   "metadata": {
    "execution": {
     "iopub.execute_input": "2023-03-07T16:58:28.030642Z",
     "iopub.status.busy": "2023-03-07T16:58:28.030167Z",
     "iopub.status.idle": "2023-03-07T16:58:28.062352Z",
     "shell.execute_reply": "2023-03-07T16:58:28.061452Z"
    }
   },
   "outputs": [
    {
     "name": "stdout",
     "output_type": "stream",
     "text": [
      "Increasing the treatment variable(s) [v0] from 0 to 1 causes an increase of 1.057188543701169 in the expected value of the outcome [['y']], over the data distribution/population represented by the dataset.\n"
     ]
    }
   ],
   "source": [
    "# Textual Interpreter\n",
    "interpretation = causal_estimate_match.interpret(method_name=\"textual_effect_interpreter\")"
   ]
  },
  {
   "cell_type": "markdown",
   "id": "93a33cd7",
   "metadata": {},
   "source": [
    "Cannot use propensity balance interpretor here since the interpreter method only supports propensity score stratification estimator."
   ]
  },
  {
   "cell_type": "markdown",
   "id": "db083d9e",
   "metadata": {},
   "source": [
    "## Method 3: Weighting\n",
    "\n",
    "We will be using (inverse) propensity scores to assign weights to units in the data. DoWhy supports a few different weighting schemes:\n",
    "1. Vanilla Inverse Propensity Score weighting (IPS) (weighting_scheme=\"ips_weight\")\n",
    "2. Self-normalized IPS weighting (also known as the Hajek estimator) (weighting_scheme=\"ips_normalized_weight\")\n",
    "3. Stabilized IPS weighting (weighting_scheme = \"ips_stabilized_weight\")"
   ]
  },
  {
   "cell_type": "code",
   "execution_count": 13,
   "id": "fc947e82",
   "metadata": {
    "execution": {
     "iopub.execute_input": "2023-03-07T16:58:28.065921Z",
     "iopub.status.busy": "2023-03-07T16:58:28.065409Z",
     "iopub.status.idle": "2023-03-07T16:58:28.119923Z",
     "shell.execute_reply": "2023-03-07T16:58:28.119063Z"
    }
   },
   "outputs": [
    {
     "name": "stdout",
     "output_type": "stream",
     "text": [
      "*** Causal Estimate ***\n",
      "\n",
      "## Identified estimand\n",
      "Estimand type: EstimandType.NONPARAMETRIC_ATE\n",
      "\n",
      "### Estimand : 1\n",
      "Estimand name: backdoor\n",
      "Estimand expression:\n",
      "  d                       \n",
      "─────(E[y|W2,W4,W1,W0,W3])\n",
      "d[v₀]                     \n",
      "Estimand assumption 1, Unconfoundedness: If U→{v0} and U→y then P(y|v0,W2,W4,W1,W0,W3,U) = P(y|v0,W2,W4,W1,W0,W3)\n",
      "\n",
      "## Realized estimand\n",
      "b: y~v0+W2+W4+W1+W0+W3\n",
      "Target units: ate\n",
      "\n",
      "## Estimate\n",
      "Mean value: 1.045317363933678\n",
      "\n",
      "Causal Estimate is 1.045317363933678\n"
     ]
    }
   ],
   "source": [
    "causal_estimate_ipw = model.estimate_effect(identified_estimand,\n",
    "                                            method_name=\"backdoor.propensity_score_weighting\",\n",
    "                                            target_units = \"ate\",\n",
    "                                            method_params={\"weighting_scheme\":\"ips_weight\"})\n",
    "print(causal_estimate_ipw)\n",
    "print(\"Causal Estimate is \" + str(causal_estimate_ipw.value))"
   ]
  },
  {
   "cell_type": "code",
   "execution_count": 14,
   "id": "eb51cae6",
   "metadata": {
    "execution": {
     "iopub.execute_input": "2023-03-07T16:58:28.123305Z",
     "iopub.status.busy": "2023-03-07T16:58:28.122902Z",
     "iopub.status.idle": "2023-03-07T16:58:28.156959Z",
     "shell.execute_reply": "2023-03-07T16:58:28.155721Z"
    }
   },
   "outputs": [
    {
     "name": "stdout",
     "output_type": "stream",
     "text": [
      "Increasing the treatment variable(s) [v0] from 0 to 1 causes an increase of 1.045317363933678 in the expected value of the outcome [['y']], over the data distribution/population represented by the dataset.\n"
     ]
    }
   ],
   "source": [
    "# Textual Interpreter\n",
    "interpretation = causal_estimate_ipw.interpret(method_name=\"textual_effect_interpreter\")"
   ]
  },
  {
   "cell_type": "code",
   "execution_count": 15,
   "id": "6cad2d24",
   "metadata": {
    "execution": {
     "iopub.execute_input": "2023-03-07T16:58:28.160586Z",
     "iopub.status.busy": "2023-03-07T16:58:28.159994Z",
     "iopub.status.idle": "2023-03-07T16:58:28.506874Z",
     "shell.execute_reply": "2023-03-07T16:58:28.505914Z"
    }
   },
   "outputs": [
    {
     "data": {
      "image/png": "[encoded data removed]",
      "text/plain": [
       "<Figure size 800x800 with 2 Axes>"
      ]
     },
     "metadata": {},
     "output_type": "display_data"
    }
   ],
   "source": [
    "interpretation = causal_estimate_ipw.interpret(method_name=\"confounder_distribution_interpreter\", fig_size=(8,8), font_size=12, var_name='W4', var_type='discrete')"
   ]
  },
  {
   "cell_type": "code",
   "execution_count": null,
   "id": "aa66d3b2",
   "metadata": {},
   "outputs": [],
   "source": []
  }
 ],
 "metadata": {
  "kernelspec": {
   "display_name": "Python 3",
   "language": "python",
   "name": "python3"
  },
  "language_info": {
   "codemirror_mode": {
    "name": "ipython",
    "version": 3
   },
   "file_extension": ".py",
   "mimetype": "text/x-python",
   "name": "python",
   "nbconvert_exporter": "python",
   "pygments_lexer": "ipython3",
   "version": "3.8.10"
  },
  "toc": {
   "base_numbering": 1,
   "nav_menu": {},
   "number_sections": false,
   "sideBar": true,
   "skip_h1_title": true,
   "title_cell": "Table of Contents",
   "title_sidebar": "Contents",
   "toc_cell": false,
   "toc_position": {},
   "toc_section_display": true,
   "toc_window_display": false
  }
 },
 "nbformat": 4,
 "nbformat_minor": 5
}
