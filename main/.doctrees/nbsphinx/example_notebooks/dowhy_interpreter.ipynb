{
 "cells": [
  {
   "cell_type": "markdown",
   "id": "da9a4e16",
   "metadata": {},
   "source": [
    "# DoWhy: Interpreters for Causal Estimators\n",
    "\n",
    "This is a quick introduction to the use of interpreters in the DoWhy causal inference library.\n",
    "We will load in a sample dataset, use different methods for estimating the causal effect of a (pre-specified)treatment variable on a (pre-specified) outcome variable and demonstrate how to interpret the obtained results.\n",
    "\n",
    "First, let us add the required path for Python to find the DoWhy code and load all required packages"
   ]
  },
  {
   "cell_type": "code",
   "execution_count": 1,
   "id": "573f5375",
   "metadata": {
    "execution": {
     "iopub.execute_input": "2023-03-28T15:08:51.817414Z",
     "iopub.status.busy": "2023-03-28T15:08:51.817165Z",
     "iopub.status.idle": "2023-03-28T15:08:51.834055Z",
     "shell.execute_reply": "2023-03-28T15:08:51.833414Z"
    }
   },
   "outputs": [],
   "source": [
    "%load_ext autoreload\n",
    "%autoreload 2"
   ]
  },
  {
   "cell_type": "code",
   "execution_count": 2,
   "id": "a1568278",
   "metadata": {
    "execution": {
     "iopub.execute_input": "2023-03-28T15:08:51.837839Z",
     "iopub.status.busy": "2023-03-28T15:08:51.837281Z",
     "iopub.status.idle": "2023-03-28T15:08:53.691253Z",
     "shell.execute_reply": "2023-03-28T15:08:53.690453Z"
    }
   },
   "outputs": [],
   "source": [
    "import numpy as np\n",
    "import pandas as pd\n",
    "import logging\n",
    "\n",
    "import dowhy\n",
    "from dowhy import CausalModel\n",
    "import dowhy.datasets "
   ]
  },
  {
   "cell_type": "markdown",
   "id": "d01f912b",
   "metadata": {},
   "source": [
    "Now, let us load a dataset. For simplicity, we simulate a dataset with linear relationships between common causes and treatment, and common causes and outcome.\n",
    "\n",
    "Beta is the true causal effect."
   ]
  },
  {
   "cell_type": "code",
   "execution_count": 3,
   "id": "e54b8b0c",
   "metadata": {
    "execution": {
     "iopub.execute_input": "2023-03-28T15:08:53.695471Z",
     "iopub.status.busy": "2023-03-28T15:08:53.694871Z",
     "iopub.status.idle": "2023-03-28T15:08:54.011293Z",
     "shell.execute_reply": "2023-03-28T15:08:54.010628Z"
    }
   },
   "outputs": [
    {
     "name": "stdout",
     "output_type": "stream",
     "text": [
      "7628\n"
     ]
    },
    {
     "data": {
      "text/html": [
       "<div>\n",
       "<style scoped>\n",
       "    .dataframe tbody tr th:only-of-type {\n",
       "        vertical-align: middle;\n",
       "    }\n",
       "\n",
       "    .dataframe tbody tr th {\n",
       "        vertical-align: top;\n",
       "    }\n",
       "\n",
       "    .dataframe thead th {\n",
       "        text-align: right;\n",
       "    }\n",
       "</style>\n",
       "<table border=\"1\" class=\"dataframe\">\n",
       "  <thead>\n",
       "    <tr style=\"text-align: right;\">\n",
       "      <th></th>\n",
       "      <th>Z0</th>\n",
       "      <th>Z1</th>\n",
       "      <th>W0</th>\n",
       "      <th>W1</th>\n",
       "      <th>W2</th>\n",
       "      <th>W3</th>\n",
       "      <th>W4</th>\n",
       "      <th>v0</th>\n",
       "      <th>y</th>\n",
       "    </tr>\n",
       "  </thead>\n",
       "  <tbody>\n",
       "    <tr>\n",
       "      <th>0</th>\n",
       "      <td>0.0</td>\n",
       "      <td>0.608027</td>\n",
       "      <td>-1.931868</td>\n",
       "      <td>-2.575262</td>\n",
       "      <td>0.433565</td>\n",
       "      <td>-0.639847</td>\n",
       "      <td>1</td>\n",
       "      <td>False</td>\n",
       "      <td>-2.944506</td>\n",
       "    </tr>\n",
       "    <tr>\n",
       "      <th>1</th>\n",
       "      <td>0.0</td>\n",
       "      <td>0.131924</td>\n",
       "      <td>0.095118</td>\n",
       "      <td>-2.587857</td>\n",
       "      <td>0.811846</td>\n",
       "      <td>0.383845</td>\n",
       "      <td>0</td>\n",
       "      <td>False</td>\n",
       "      <td>-2.013203</td>\n",
       "    </tr>\n",
       "    <tr>\n",
       "      <th>2</th>\n",
       "      <td>0.0</td>\n",
       "      <td>0.486311</td>\n",
       "      <td>1.573398</td>\n",
       "      <td>-0.587874</td>\n",
       "      <td>0.812366</td>\n",
       "      <td>1.068841</td>\n",
       "      <td>0</td>\n",
       "      <td>True</td>\n",
       "      <td>1.906682</td>\n",
       "    </tr>\n",
       "    <tr>\n",
       "      <th>3</th>\n",
       "      <td>0.0</td>\n",
       "      <td>0.649562</td>\n",
       "      <td>0.669516</td>\n",
       "      <td>1.316885</td>\n",
       "      <td>-0.680083</td>\n",
       "      <td>-0.607539</td>\n",
       "      <td>3</td>\n",
       "      <td>True</td>\n",
       "      <td>3.435714</td>\n",
       "    </tr>\n",
       "    <tr>\n",
       "      <th>4</th>\n",
       "      <td>0.0</td>\n",
       "      <td>0.503730</td>\n",
       "      <td>0.146408</td>\n",
       "      <td>-1.388018</td>\n",
       "      <td>2.972714</td>\n",
       "      <td>-0.734153</td>\n",
       "      <td>3</td>\n",
       "      <td>True</td>\n",
       "      <td>0.795918</td>\n",
       "    </tr>\n",
       "    <tr>\n",
       "      <th>...</th>\n",
       "      <td>...</td>\n",
       "      <td>...</td>\n",
       "      <td>...</td>\n",
       "      <td>...</td>\n",
       "      <td>...</td>\n",
       "      <td>...</td>\n",
       "      <td>...</td>\n",
       "      <td>...</td>\n",
       "      <td>...</td>\n",
       "    </tr>\n",
       "    <tr>\n",
       "      <th>9995</th>\n",
       "      <td>0.0</td>\n",
       "      <td>0.779910</td>\n",
       "      <td>0.538779</td>\n",
       "      <td>-0.570429</td>\n",
       "      <td>0.048229</td>\n",
       "      <td>1.192605</td>\n",
       "      <td>0</td>\n",
       "      <td>True</td>\n",
       "      <td>1.731110</td>\n",
       "    </tr>\n",
       "    <tr>\n",
       "      <th>9996</th>\n",
       "      <td>0.0</td>\n",
       "      <td>0.764975</td>\n",
       "      <td>-0.110564</td>\n",
       "      <td>-0.869657</td>\n",
       "      <td>-0.190456</td>\n",
       "      <td>-1.136446</td>\n",
       "      <td>1</td>\n",
       "      <td>True</td>\n",
       "      <td>-0.371548</td>\n",
       "    </tr>\n",
       "    <tr>\n",
       "      <th>9997</th>\n",
       "      <td>0.0</td>\n",
       "      <td>0.982709</td>\n",
       "      <td>0.343701</td>\n",
       "      <td>-0.012938</td>\n",
       "      <td>1.415767</td>\n",
       "      <td>-1.667083</td>\n",
       "      <td>3</td>\n",
       "      <td>True</td>\n",
       "      <td>1.207756</td>\n",
       "    </tr>\n",
       "    <tr>\n",
       "      <th>9998</th>\n",
       "      <td>0.0</td>\n",
       "      <td>0.293105</td>\n",
       "      <td>-0.975704</td>\n",
       "      <td>0.251598</td>\n",
       "      <td>-0.335093</td>\n",
       "      <td>-0.796243</td>\n",
       "      <td>1</td>\n",
       "      <td>True</td>\n",
       "      <td>0.756728</td>\n",
       "    </tr>\n",
       "    <tr>\n",
       "      <th>9999</th>\n",
       "      <td>0.0</td>\n",
       "      <td>0.178753</td>\n",
       "      <td>-1.457352</td>\n",
       "      <td>0.663108</td>\n",
       "      <td>-0.492605</td>\n",
       "      <td>1.701483</td>\n",
       "      <td>1</td>\n",
       "      <td>False</td>\n",
       "      <td>2.374812</td>\n",
       "    </tr>\n",
       "  </tbody>\n",
       "</table>\n",
       "<p>10000 rows × 9 columns</p>\n",
       "</div>"
      ],
      "text/plain": [
       "       Z0        Z1        W0        W1        W2        W3 W4     v0  \\\n",
       "0     0.0  0.608027 -1.931868 -2.575262  0.433565 -0.639847  1  False   \n",
       "1     0.0  0.131924  0.095118 -2.587857  0.811846  0.383845  0  False   \n",
       "2     0.0  0.486311  1.573398 -0.587874  0.812366  1.068841  0   True   \n",
       "3     0.0  0.649562  0.669516  1.316885 -0.680083 -0.607539  3   True   \n",
       "4     0.0  0.503730  0.146408 -1.388018  2.972714 -0.734153  3   True   \n",
       "...   ...       ...       ...       ...       ...       ... ..    ...   \n",
       "9995  0.0  0.779910  0.538779 -0.570429  0.048229  1.192605  0   True   \n",
       "9996  0.0  0.764975 -0.110564 -0.869657 -0.190456 -1.136446  1   True   \n",
       "9997  0.0  0.982709  0.343701 -0.012938  1.415767 -1.667083  3   True   \n",
       "9998  0.0  0.293105 -0.975704  0.251598 -0.335093 -0.796243  1   True   \n",
       "9999  0.0  0.178753 -1.457352  0.663108 -0.492605  1.701483  1  False   \n",
       "\n",
       "             y  \n",
       "0    -2.944506  \n",
       "1    -2.013203  \n",
       "2     1.906682  \n",
       "3     3.435714  \n",
       "4     0.795918  \n",
       "...        ...  \n",
       "9995  1.731110  \n",
       "9996 -0.371548  \n",
       "9997  1.207756  \n",
       "9998  0.756728  \n",
       "9999  2.374812  \n",
       "\n",
       "[10000 rows x 9 columns]"
      ]
     },
     "execution_count": 3,
     "metadata": {},
     "output_type": "execute_result"
    }
   ],
   "source": [
    "data = dowhy.datasets.linear_dataset(beta=1,\n",
    "        num_common_causes=5, \n",
    "        num_instruments = 2,\n",
    "        num_treatments=1,\n",
    "        num_discrete_common_causes=1,\n",
    "        num_samples=10000,\n",
    "        treatment_is_binary=True,\n",
    "        outcome_is_binary=False)\n",
    "df = data[\"df\"]\n",
    "print(df[df.v0==True].shape[0])\n",
    "df"
   ]
  },
  {
   "cell_type": "markdown",
   "id": "ba137b4c",
   "metadata": {},
   "source": [
    "Note that we are using a pandas dataframe to load the data."
   ]
  },
  {
   "cell_type": "markdown",
   "id": "85f9ee5f",
   "metadata": {},
   "source": [
    "## Identifying the causal estimand"
   ]
  },
  {
   "cell_type": "markdown",
   "id": "0564b657",
   "metadata": {},
   "source": [
    "We now input a causal graph in the GML graph format."
   ]
  },
  {
   "cell_type": "code",
   "execution_count": 4,
   "id": "a2951055",
   "metadata": {
    "execution": {
     "iopub.execute_input": "2023-03-28T15:08:54.014589Z",
     "iopub.status.busy": "2023-03-28T15:08:54.014340Z",
     "iopub.status.idle": "2023-03-28T15:08:54.046662Z",
     "shell.execute_reply": "2023-03-28T15:08:54.045969Z"
    }
   },
   "outputs": [],
   "source": [
    "# With graph\n",
    "model=CausalModel(\n",
    "        data = df,\n",
    "        treatment=data[\"treatment_name\"],\n",
    "        outcome=data[\"outcome_name\"],\n",
    "        graph=data[\"gml_graph\"],\n",
    "        instruments=data[\"instrument_names\"]\n",
    "        )"
   ]
  },
  {
   "cell_type": "code",
   "execution_count": 5,
   "id": "1d80dc04",
   "metadata": {
    "execution": {
     "iopub.execute_input": "2023-03-28T15:08:54.050179Z",
     "iopub.status.busy": "2023-03-28T15:08:54.049938Z",
     "iopub.status.idle": "2023-03-28T15:08:54.114620Z",
     "shell.execute_reply": "2023-03-28T15:08:54.113929Z"
    }
   },
   "outputs": [],
   "source": [
    "model.view_model()"
   ]
  },
  {
   "cell_type": "code",
   "execution_count": 6,
   "id": "9ed2b172",
   "metadata": {
    "execution": {
     "iopub.execute_input": "2023-03-28T15:08:54.118390Z",
     "iopub.status.busy": "2023-03-28T15:08:54.117707Z",
     "iopub.status.idle": "2023-03-28T15:08:54.150058Z",
     "shell.execute_reply": "2023-03-28T15:08:54.149265Z"
    }
   },
   "outputs": [
    {
     "data": {
      "image/png": "[encoded data removed]",
      "text/plain": [
       "<IPython.core.display.Image object>"
      ]
     },
     "metadata": {},
     "output_type": "display_data"
    }
   ],
   "source": [
    "from IPython.display import Image, display\n",
    "display(Image(filename=\"causal_model.png\"))"
   ]
  },
  {
   "cell_type": "markdown",
   "id": "9101237d",
   "metadata": {},
   "source": [
    "We get a causal graph. Now identification and estimation is done."
   ]
  },
  {
   "cell_type": "code",
   "execution_count": 7,
   "id": "73c005a4",
   "metadata": {
    "execution": {
     "iopub.execute_input": "2023-03-28T15:08:54.154219Z",
     "iopub.status.busy": "2023-03-28T15:08:54.153832Z",
     "iopub.status.idle": "2023-03-28T15:08:54.525233Z",
     "shell.execute_reply": "2023-03-28T15:08:54.524372Z"
    }
   },
   "outputs": [
    {
     "name": "stdout",
     "output_type": "stream",
     "text": [
      "Estimand type: EstimandType.NONPARAMETRIC_ATE\n",
      "\n",
      "### Estimand : 1\n",
      "Estimand name: backdoor\n",
      "Estimand expression:\n",
      "  d                       \n",
      "─────(E[y|W4,W2,W1,W3,W0])\n",
      "d[v₀]                     \n",
      "Estimand assumption 1, Unconfoundedness: If U→{v0} and U→y then P(y|v0,W4,W2,W1,W3,W0,U) = P(y|v0,W4,W2,W1,W3,W0)\n",
      "\n",
      "### Estimand : 2\n",
      "Estimand name: iv\n",
      "Estimand expression:\n",
      " ⎡                              -1⎤\n",
      " ⎢    d        ⎛    d          ⎞  ⎥\n",
      "E⎢─────────(y)⋅⎜─────────([v₀])⎟  ⎥\n",
      " ⎣d[Z₀  Z₁]    ⎝d[Z₀  Z₁]      ⎠  ⎦\n",
      "Estimand assumption 1, As-if-random: If U→→y then ¬(U →→{Z0,Z1})\n",
      "Estimand assumption 2, Exclusion: If we remove {Z0,Z1}→{v0}, then ¬({Z0,Z1}→y)\n",
      "\n",
      "### Estimand : 3\n",
      "Estimand name: frontdoor\n",
      "No such variable(s) found!\n",
      "\n"
     ]
    }
   ],
   "source": [
    "identified_estimand = model.identify_effect(proceed_when_unidentifiable=True)\n",
    "print(identified_estimand)"
   ]
  },
  {
   "cell_type": "markdown",
   "id": "f89db603",
   "metadata": {},
   "source": [
    "## Method 1: Propensity Score Stratification\n",
    "\n",
    "We will be using propensity scores to stratify units in the data."
   ]
  },
  {
   "cell_type": "code",
   "execution_count": 8,
   "id": "d9a122cf",
   "metadata": {
    "execution": {
     "iopub.execute_input": "2023-03-28T15:08:54.528971Z",
     "iopub.status.busy": "2023-03-28T15:08:54.528534Z",
     "iopub.status.idle": "2023-03-28T15:08:55.229940Z",
     "shell.execute_reply": "2023-03-28T15:08:55.229204Z"
    }
   },
   "outputs": [
    {
     "name": "stdout",
     "output_type": "stream",
     "text": [
      "*** Causal Estimate ***\n",
      "\n",
      "## Identified estimand\n",
      "Estimand type: EstimandType.NONPARAMETRIC_ATE\n",
      "\n",
      "### Estimand : 1\n",
      "Estimand name: backdoor\n",
      "Estimand expression:\n",
      "  d                       \n",
      "─────(E[y|W4,W2,W1,W3,W0])\n",
      "d[v₀]                     \n",
      "Estimand assumption 1, Unconfoundedness: If U→{v0} and U→y then P(y|v0,W4,W2,W1,W3,W0,U) = P(y|v0,W4,W2,W1,W3,W0)\n",
      "\n",
      "## Realized estimand\n",
      "b: y~v0+W4+W2+W1+W3+W0\n",
      "Target units: att\n",
      "\n",
      "## Estimate\n",
      "Mean value: 0.9914732740403516\n",
      "\n",
      "Causal Estimate is 0.9914732740403516\n"
     ]
    }
   ],
   "source": [
    "causal_estimate_strat = model.estimate_effect(identified_estimand,\n",
    "                                              method_name=\"backdoor.propensity_score_stratification\",\n",
    "                                              target_units=\"att\")\n",
    "print(causal_estimate_strat)\n",
    "print(\"Causal Estimate is \" + str(causal_estimate_strat.value))"
   ]
  },
  {
   "cell_type": "markdown",
   "id": "63f4e58f",
   "metadata": {},
   "source": [
    "### Textual Interpreter\n",
    "\n",
    "The textual Interpreter describes (in words) the effect of unit change in the treatment variable on the outcome variable."
   ]
  },
  {
   "cell_type": "code",
   "execution_count": 9,
   "id": "7c00809b",
   "metadata": {
    "execution": {
     "iopub.execute_input": "2023-03-28T15:08:55.233592Z",
     "iopub.status.busy": "2023-03-28T15:08:55.232934Z",
     "iopub.status.idle": "2023-03-28T15:08:55.268340Z",
     "shell.execute_reply": "2023-03-28T15:08:55.267675Z"
    }
   },
   "outputs": [
    {
     "name": "stdout",
     "output_type": "stream",
     "text": [
      "Increasing the treatment variable(s) [v0] from 0 to 1 causes an increase of 0.9914732740403516 in the expected value of the outcome [['y']], over the data distribution/population represented by the dataset.\n"
     ]
    }
   ],
   "source": [
    "# Textual Interpreter\n",
    "interpretation = causal_estimate_strat.interpret(method_name=\"textual_effect_interpreter\")"
   ]
  },
  {
   "cell_type": "markdown",
   "id": "fa98c0af",
   "metadata": {},
   "source": [
    "### Visual Interpreter\n",
    "\n",
    "The visual interpreter plots the change in the standardized mean difference (SMD) before and after Propensity Score based adjustment of the dataset. The formula for SMD is given below.\n",
    "\n",
    "\n",
    "$SMD = \\frac{\\bar X_{1} - \\bar X_{2}}{\\sqrt{(S_{1}^{2} + S_{2}^{2})/2}}$\n",
    "\n",
    "Here, $\\bar X_{1}$ and $\\bar X_{2}$ are the sample mean for the treated and control groups.\n"
   ]
  },
  {
   "cell_type": "code",
   "execution_count": 10,
   "id": "613c557a",
   "metadata": {
    "execution": {
     "iopub.execute_input": "2023-03-28T15:08:55.271838Z",
     "iopub.status.busy": "2023-03-28T15:08:55.271378Z",
     "iopub.status.idle": "2023-03-28T15:08:56.208367Z",
     "shell.execute_reply": "2023-03-28T15:08:56.207650Z"
    }
   },
   "outputs": [
    {
     "data": {
      "image/png": "[encoded data removed]",
      "text/plain": [
       "<Figure size 640x480 with 1 Axes>"
      ]
     },
     "metadata": {},
     "output_type": "display_data"
    }
   ],
   "source": [
    "# Visual Interpreter\n",
    "interpretation = causal_estimate_strat.interpret(method_name=\"propensity_balance_interpreter\")"
   ]
  },
  {
   "cell_type": "markdown",
   "id": "1431186d",
   "metadata": {},
   "source": [
    "This plot shows how the SMD decreases from the unadjusted to the stratified units. "
   ]
  },
  {
   "cell_type": "markdown",
   "id": "00ca63f4",
   "metadata": {},
   "source": [
    "## Method 2: Propensity Score Matching\n",
    "\n",
    "We will be using propensity scores to match units in the data."
   ]
  },
  {
   "cell_type": "code",
   "execution_count": 11,
   "id": "73ef5077",
   "metadata": {
    "execution": {
     "iopub.execute_input": "2023-03-28T15:08:56.211864Z",
     "iopub.status.busy": "2023-03-28T15:08:56.211473Z",
     "iopub.status.idle": "2023-03-28T15:09:00.469409Z",
     "shell.execute_reply": "2023-03-28T15:09:00.468712Z"
    }
   },
   "outputs": [
    {
     "name": "stdout",
     "output_type": "stream",
     "text": [
      "*** Causal Estimate ***\n",
      "\n",
      "## Identified estimand\n",
      "Estimand type: EstimandType.NONPARAMETRIC_ATE\n",
      "\n",
      "### Estimand : 1\n",
      "Estimand name: backdoor\n",
      "Estimand expression:\n",
      "  d                       \n",
      "─────(E[y|W4,W2,W1,W3,W0])\n",
      "d[v₀]                     \n",
      "Estimand assumption 1, Unconfoundedness: If U→{v0} and U→y then P(y|v0,W4,W2,W1,W3,W0,U) = P(y|v0,W4,W2,W1,W3,W0)\n",
      "\n",
      "## Realized estimand\n",
      "b: y~v0+W4+W2+W1+W3+W0\n",
      "Target units: atc\n",
      "\n",
      "## Estimate\n",
      "Mean value: 1.0056262244892042\n",
      "\n",
      "Causal Estimate is 1.0056262244892042\n"
     ]
    }
   ],
   "source": [
    "causal_estimate_match = model.estimate_effect(identified_estimand,\n",
    "                                              method_name=\"backdoor.propensity_score_matching\",\n",
    "                                              target_units=\"atc\")\n",
    "print(causal_estimate_match)\n",
    "print(\"Causal Estimate is \" + str(causal_estimate_match.value))"
   ]
  },
  {
   "cell_type": "code",
   "execution_count": 12,
   "id": "fe30ecb6",
   "metadata": {
    "execution": {
     "iopub.execute_input": "2023-03-28T15:09:00.472881Z",
     "iopub.status.busy": "2023-03-28T15:09:00.472322Z",
     "iopub.status.idle": "2023-03-28T15:09:00.506826Z",
     "shell.execute_reply": "2023-03-28T15:09:00.505972Z"
    }
   },
   "outputs": [
    {
     "name": "stdout",
     "output_type": "stream",
     "text": [
      "Increasing the treatment variable(s) [v0] from 0 to 1 causes an increase of 1.0056262244892042 in the expected value of the outcome [['y']], over the data distribution/population represented by the dataset.\n"
     ]
    }
   ],
   "source": [
    "# Textual Interpreter\n",
    "interpretation = causal_estimate_match.interpret(method_name=\"textual_effect_interpreter\")"
   ]
  },
  {
   "cell_type": "markdown",
   "id": "d35c8d77",
   "metadata": {},
   "source": [
    "Cannot use propensity balance interpretor here since the interpreter method only supports propensity score stratification estimator."
   ]
  },
  {
   "cell_type": "markdown",
   "id": "eb94e527",
   "metadata": {},
   "source": [
    "## Method 3: Weighting\n",
    "\n",
    "We will be using (inverse) propensity scores to assign weights to units in the data. DoWhy supports a few different weighting schemes:\n",
    "1. Vanilla Inverse Propensity Score weighting (IPS) (weighting_scheme=\"ips_weight\")\n",
    "2. Self-normalized IPS weighting (also known as the Hajek estimator) (weighting_scheme=\"ips_normalized_weight\")\n",
    "3. Stabilized IPS weighting (weighting_scheme = \"ips_stabilized_weight\")"
   ]
  },
  {
   "cell_type": "code",
   "execution_count": 13,
   "id": "15a4e2d5",
   "metadata": {
    "execution": {
     "iopub.execute_input": "2023-03-28T15:09:00.510457Z",
     "iopub.status.busy": "2023-03-28T15:09:00.509830Z",
     "iopub.status.idle": "2023-03-28T15:09:00.567861Z",
     "shell.execute_reply": "2023-03-28T15:09:00.566979Z"
    }
   },
   "outputs": [
    {
     "name": "stdout",
     "output_type": "stream",
     "text": [
      "*** Causal Estimate ***\n",
      "\n",
      "## Identified estimand\n",
      "Estimand type: EstimandType.NONPARAMETRIC_ATE\n",
      "\n",
      "### Estimand : 1\n",
      "Estimand name: backdoor\n",
      "Estimand expression:\n",
      "  d                       \n",
      "─────(E[y|W4,W2,W1,W3,W0])\n",
      "d[v₀]                     \n",
      "Estimand assumption 1, Unconfoundedness: If U→{v0} and U→y then P(y|v0,W4,W2,W1,W3,W0,U) = P(y|v0,W4,W2,W1,W3,W0)\n",
      "\n",
      "## Realized estimand\n",
      "b: y~v0+W4+W2+W1+W3+W0\n",
      "Target units: ate\n",
      "\n",
      "## Estimate\n",
      "Mean value: 1.0617782591214782\n",
      "\n",
      "Causal Estimate is 1.0617782591214782\n"
     ]
    }
   ],
   "source": [
    "causal_estimate_ipw = model.estimate_effect(identified_estimand,\n",
    "                                            method_name=\"backdoor.propensity_score_weighting\",\n",
    "                                            target_units = \"ate\",\n",
    "                                            method_params={\"weighting_scheme\":\"ips_weight\"})\n",
    "print(causal_estimate_ipw)\n",
    "print(\"Causal Estimate is \" + str(causal_estimate_ipw.value))"
   ]
  },
  {
   "cell_type": "code",
   "execution_count": 14,
   "id": "93e793b1",
   "metadata": {
    "execution": {
     "iopub.execute_input": "2023-03-28T15:09:00.571402Z",
     "iopub.status.busy": "2023-03-28T15:09:00.570914Z",
     "iopub.status.idle": "2023-03-28T15:09:00.606862Z",
     "shell.execute_reply": "2023-03-28T15:09:00.606036Z"
    }
   },
   "outputs": [
    {
     "name": "stdout",
     "output_type": "stream",
     "text": [
      "Increasing the treatment variable(s) [v0] from 0 to 1 causes an increase of 1.0617782591214782 in the expected value of the outcome [['y']], over the data distribution/population represented by the dataset.\n"
     ]
    }
   ],
   "source": [
    "# Textual Interpreter\n",
    "interpretation = causal_estimate_ipw.interpret(method_name=\"textual_effect_interpreter\")"
   ]
  },
  {
   "cell_type": "code",
   "execution_count": 15,
   "id": "ab84b468",
   "metadata": {
    "execution": {
     "iopub.execute_input": "2023-03-28T15:09:00.610822Z",
     "iopub.status.busy": "2023-03-28T15:09:00.610135Z",
     "iopub.status.idle": "2023-03-28T15:09:00.940532Z",
     "shell.execute_reply": "2023-03-28T15:09:00.939816Z"
    }
   },
   "outputs": [
    {
     "data": {
      "image/png": "[encoded data removed]",
      "text/plain": [
       "<Figure size 800x800 with 2 Axes>"
      ]
     },
     "metadata": {},
     "output_type": "display_data"
    }
   ],
   "source": [
    "interpretation = causal_estimate_ipw.interpret(method_name=\"confounder_distribution_interpreter\", fig_size=(8,8), font_size=12, var_name='W4', var_type='discrete')"
   ]
  },
  {
   "cell_type": "code",
   "execution_count": null,
   "id": "2c57320b",
   "metadata": {},
   "outputs": [],
   "source": []
  }
 ],
 "metadata": {
  "kernelspec": {
   "display_name": "Python 3",
   "language": "python",
   "name": "python3"
  },
  "language_info": {
   "codemirror_mode": {
    "name": "ipython",
    "version": 3
   },
   "file_extension": ".py",
   "mimetype": "text/x-python",
   "name": "python",
   "nbconvert_exporter": "python",
   "pygments_lexer": "ipython3",
   "version": "3.8.10"
  },
  "toc": {
   "base_numbering": 1,
   "nav_menu": {},
   "number_sections": false,
   "sideBar": true,
   "skip_h1_title": true,
   "title_cell": "Table of Contents",
   "title_sidebar": "Contents",
   "toc_cell": false,
   "toc_position": {},
   "toc_section_display": true,
   "toc_window_display": false
  }
 },
 "nbformat": 4,
 "nbformat_minor": 5
}
