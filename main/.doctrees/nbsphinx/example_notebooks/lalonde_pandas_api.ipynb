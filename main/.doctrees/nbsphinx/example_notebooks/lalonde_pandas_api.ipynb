{
 "cells": [
  {
   "cell_type": "markdown",
   "metadata": {},
   "source": [
    "# Lalonde Pandas API Example\n",
    "by Adam Kelleher"
   ]
  },
  {
   "cell_type": "markdown",
   "metadata": {},
   "source": [
    "We'll run through a quick example using the high-level Python API for the DoSampler. The DoSampler is different from most classic causal effect estimators. Instead of estimating statistics under interventions, it aims to provide the generality of Pearlian causal inference. In that context, the joint distribution of the variables under an intervention is the quantity of interest. It's hard to represent a joint distribution nonparametrically, so instead we provide a sample from that distribution, which we call a \"do\" sample.\n",
    "\n",
    "Here, when you specify an outcome, that is the variable you're sampling under an intervention. We still have to do the usual process of making sure the quantity (the conditional interventional distribution of the outcome) is identifiable. We leverage the familiar components of the rest of the package to do that \"under the hood\". You'll notice some similarity in the kwargs for the DoSampler."
   ]
  },
  {
   "cell_type": "code",
   "execution_count": 1,
   "metadata": {
    "execution": {
     "iopub.execute_input": "2024-05-21T18:36:06.672051Z",
     "iopub.status.busy": "2024-05-21T18:36:06.671870Z",
     "iopub.status.idle": "2024-05-21T18:36:06.678867Z",
     "shell.execute_reply": "2024-05-21T18:36:06.678303Z"
    }
   },
   "outputs": [],
   "source": [
    "import os, sys\n",
    "sys.path.append(os.path.abspath(\"../../../\"))"
   ]
  },
  {
   "cell_type": "markdown",
   "metadata": {},
   "source": [
    "## Getting the Data\n",
    "\n",
    "First, download the data from the LaLonde example."
   ]
  },
  {
   "cell_type": "code",
   "execution_count": 2,
   "metadata": {
    "execution": {
     "iopub.execute_input": "2024-05-21T18:36:06.681099Z",
     "iopub.status.busy": "2024-05-21T18:36:06.680760Z",
     "iopub.status.idle": "2024-05-21T18:36:09.395983Z",
     "shell.execute_reply": "2024-05-21T18:36:09.395384Z"
    }
   },
   "outputs": [],
   "source": [
    "import dowhy.datasets\n",
    "\n",
    "lalonde = dowhy.datasets.lalonde_dataset()"
   ]
  },
  {
   "cell_type": "markdown",
   "metadata": {},
   "source": [
    "## The `causal` Namespace"
   ]
  },
  {
   "cell_type": "markdown",
   "metadata": {},
   "source": [
    "We've created a \"namespace\" for `pandas.DataFrame`s containing causal inference methods. You can access it here with `lalonde.causal`, where `lalonde` is our `pandas.DataFrame`, and `causal` contains all our new methods! These methods are magically loaded into your existing (and future) dataframes when you `import dowhy.api`."
   ]
  },
  {
   "cell_type": "code",
   "execution_count": 3,
   "metadata": {
    "execution": {
     "iopub.execute_input": "2024-05-21T18:36:09.398704Z",
     "iopub.status.busy": "2024-05-21T18:36:09.398341Z",
     "iopub.status.idle": "2024-05-21T18:36:09.402177Z",
     "shell.execute_reply": "2024-05-21T18:36:09.401615Z"
    }
   },
   "outputs": [],
   "source": [
    "import dowhy.api"
   ]
  },
  {
   "cell_type": "markdown",
   "metadata": {},
   "source": [
    "Now that we have the `causal` namespace, lets give it a try! \n",
    "\n",
    "## The `do` Operation\n",
    "\n",
    "The key feature here is the `do` method, which produces a new dataframe replacing the treatment variable with values specified, and the outcome with a sample from the interventional distribution of the outcome. If you don't specify a value for the treatment, it leaves the treatment untouched:"
   ]
  },
  {
   "cell_type": "code",
   "execution_count": 4,
   "metadata": {
    "execution": {
     "iopub.execute_input": "2024-05-21T18:36:09.404408Z",
     "iopub.status.busy": "2024-05-21T18:36:09.404064Z",
     "iopub.status.idle": "2024-05-21T18:36:09.444129Z",
     "shell.execute_reply": "2024-05-21T18:36:09.443535Z"
    },
    "scrolled": true
   },
   "outputs": [
    {
     "name": "stderr",
     "output_type": "stream",
     "text": [
      "/github/home/.cache/pypoetry/virtualenvs/dowhy-oN2hW5jr-py3.8/lib/python3.8/site-packages/sklearn/preprocessing/_encoders.py:868: FutureWarning: `sparse` was renamed to `sparse_output` in version 1.2 and will be removed in 1.4. `sparse_output` is ignored unless you leave `sparse` to its default value.\n",
      "  warnings.warn(\n",
      "/github/home/.cache/pypoetry/virtualenvs/dowhy-oN2hW5jr-py3.8/lib/python3.8/site-packages/sklearn/preprocessing/_encoders.py:868: FutureWarning: `sparse` was renamed to `sparse_output` in version 1.2 and will be removed in 1.4. `sparse_output` is ignored unless you leave `sparse` to its default value.\n",
      "  warnings.warn(\n",
      "/github/home/.cache/pypoetry/virtualenvs/dowhy-oN2hW5jr-py3.8/lib/python3.8/site-packages/sklearn/preprocessing/_encoders.py:868: FutureWarning: `sparse` was renamed to `sparse_output` in version 1.2 and will be removed in 1.4. `sparse_output` is ignored unless you leave `sparse` to its default value.\n",
      "  warnings.warn(\n",
      "/github/home/.cache/pypoetry/virtualenvs/dowhy-oN2hW5jr-py3.8/lib/python3.8/site-packages/sklearn/preprocessing/_encoders.py:868: FutureWarning: `sparse` was renamed to `sparse_output` in version 1.2 and will be removed in 1.4. `sparse_output` is ignored unless you leave `sparse` to its default value.\n",
      "  warnings.warn(\n"
     ]
    }
   ],
   "source": [
    "do_df = lalonde.causal.do(x='treat',\n",
    "                          outcome='re78',\n",
    "                          common_causes=['nodegr', 'black', 'hisp', 'age', 'educ', 'married'],\n",
    "                          variable_types={'age': 'c', 'educ':'c', 'black': 'd', 'hisp': 'd', \n",
    "                                          'married': 'd', 'nodegr': 'd','re78': 'c', 'treat': 'b'}\n",
    "                         )"
   ]
  },
  {
   "cell_type": "markdown",
   "metadata": {},
   "source": [
    "Notice you get the usual output and prompts about identifiability. This is all `dowhy` under the hood!\n",
    "\n",
    "We now have an interventional sample in `do_df`. It looks very similar to the original dataframe. Compare them:"
   ]
  },
  {
   "cell_type": "code",
   "execution_count": 5,
   "metadata": {
    "execution": {
     "iopub.execute_input": "2024-05-21T18:36:09.446656Z",
     "iopub.status.busy": "2024-05-21T18:36:09.446299Z",
     "iopub.status.idle": "2024-05-21T18:36:09.459679Z",
     "shell.execute_reply": "2024-05-21T18:36:09.459174Z"
    }
   },
   "outputs": [
    {
     "data": {
      "text/html": [
       "<div>\n",
       "<style scoped>\n",
       "    .dataframe tbody tr th:only-of-type {\n",
       "        vertical-align: middle;\n",
       "    }\n",
       "\n",
       "    .dataframe tbody tr th {\n",
       "        vertical-align: top;\n",
       "    }\n",
       "\n",
       "    .dataframe thead th {\n",
       "        text-align: right;\n",
       "    }\n",
       "</style>\n",
       "<table border=\"1\" class=\"dataframe\">\n",
       "  <thead>\n",
       "    <tr style=\"text-align: right;\">\n",
       "      <th></th>\n",
       "      <th>treat</th>\n",
       "      <th>age</th>\n",
       "      <th>educ</th>\n",
       "      <th>black</th>\n",
       "      <th>hisp</th>\n",
       "      <th>married</th>\n",
       "      <th>nodegr</th>\n",
       "      <th>re74</th>\n",
       "      <th>re75</th>\n",
       "      <th>re78</th>\n",
       "      <th>u74</th>\n",
       "      <th>u75</th>\n",
       "    </tr>\n",
       "  </thead>\n",
       "  <tbody>\n",
       "    <tr>\n",
       "      <th>0</th>\n",
       "      <td>False</td>\n",
       "      <td>23.0</td>\n",
       "      <td>10.0</td>\n",
       "      <td>1.0</td>\n",
       "      <td>0.0</td>\n",
       "      <td>0.0</td>\n",
       "      <td>1.0</td>\n",
       "      <td>0.0</td>\n",
       "      <td>0.0</td>\n",
       "      <td>0.00</td>\n",
       "      <td>1.0</td>\n",
       "      <td>1.0</td>\n",
       "    </tr>\n",
       "    <tr>\n",
       "      <th>1</th>\n",
       "      <td>False</td>\n",
       "      <td>26.0</td>\n",
       "      <td>12.0</td>\n",
       "      <td>0.0</td>\n",
       "      <td>0.0</td>\n",
       "      <td>0.0</td>\n",
       "      <td>0.0</td>\n",
       "      <td>0.0</td>\n",
       "      <td>0.0</td>\n",
       "      <td>12383.68</td>\n",
       "      <td>1.0</td>\n",
       "      <td>1.0</td>\n",
       "    </tr>\n",
       "    <tr>\n",
       "      <th>2</th>\n",
       "      <td>False</td>\n",
       "      <td>22.0</td>\n",
       "      <td>9.0</td>\n",
       "      <td>1.0</td>\n",
       "      <td>0.0</td>\n",
       "      <td>0.0</td>\n",
       "      <td>1.0</td>\n",
       "      <td>0.0</td>\n",
       "      <td>0.0</td>\n",
       "      <td>0.00</td>\n",
       "      <td>1.0</td>\n",
       "      <td>1.0</td>\n",
       "    </tr>\n",
       "    <tr>\n",
       "      <th>3</th>\n",
       "      <td>False</td>\n",
       "      <td>18.0</td>\n",
       "      <td>9.0</td>\n",
       "      <td>1.0</td>\n",
       "      <td>0.0</td>\n",
       "      <td>0.0</td>\n",
       "      <td>1.0</td>\n",
       "      <td>0.0</td>\n",
       "      <td>0.0</td>\n",
       "      <td>10740.08</td>\n",
       "      <td>1.0</td>\n",
       "      <td>1.0</td>\n",
       "    </tr>\n",
       "    <tr>\n",
       "      <th>4</th>\n",
       "      <td>False</td>\n",
       "      <td>45.0</td>\n",
       "      <td>11.0</td>\n",
       "      <td>1.0</td>\n",
       "      <td>0.0</td>\n",
       "      <td>0.0</td>\n",
       "      <td>1.0</td>\n",
       "      <td>0.0</td>\n",
       "      <td>0.0</td>\n",
       "      <td>11796.47</td>\n",
       "      <td>1.0</td>\n",
       "      <td>1.0</td>\n",
       "    </tr>\n",
       "  </tbody>\n",
       "</table>\n",
       "</div>"
      ],
      "text/plain": [
       "   treat   age  educ  black  hisp  married  nodegr  re74  re75      re78  u74  \\\n",
       "0  False  23.0  10.0    1.0   0.0      0.0     1.0   0.0   0.0      0.00  1.0   \n",
       "1  False  26.0  12.0    0.0   0.0      0.0     0.0   0.0   0.0  12383.68  1.0   \n",
       "2  False  22.0   9.0    1.0   0.0      0.0     1.0   0.0   0.0      0.00  1.0   \n",
       "3  False  18.0   9.0    1.0   0.0      0.0     1.0   0.0   0.0  10740.08  1.0   \n",
       "4  False  45.0  11.0    1.0   0.0      0.0     1.0   0.0   0.0  11796.47  1.0   \n",
       "\n",
       "   u75  \n",
       "0  1.0  \n",
       "1  1.0  \n",
       "2  1.0  \n",
       "3  1.0  \n",
       "4  1.0  "
      ]
     },
     "execution_count": 5,
     "metadata": {},
     "output_type": "execute_result"
    }
   ],
   "source": [
    "lalonde.head()"
   ]
  },
  {
   "cell_type": "code",
   "execution_count": 6,
   "metadata": {
    "execution": {
     "iopub.execute_input": "2024-05-21T18:36:09.461785Z",
     "iopub.status.busy": "2024-05-21T18:36:09.461604Z",
     "iopub.status.idle": "2024-05-21T18:36:09.474337Z",
     "shell.execute_reply": "2024-05-21T18:36:09.473769Z"
    },
    "scrolled": true
   },
   "outputs": [
    {
     "data": {
      "text/html": [
       "<div>\n",
       "<style scoped>\n",
       "    .dataframe tbody tr th:only-of-type {\n",
       "        vertical-align: middle;\n",
       "    }\n",
       "\n",
       "    .dataframe tbody tr th {\n",
       "        vertical-align: top;\n",
       "    }\n",
       "\n",
       "    .dataframe thead th {\n",
       "        text-align: right;\n",
       "    }\n",
       "</style>\n",
       "<table border=\"1\" class=\"dataframe\">\n",
       "  <thead>\n",
       "    <tr style=\"text-align: right;\">\n",
       "      <th></th>\n",
       "      <th>treat</th>\n",
       "      <th>age</th>\n",
       "      <th>educ</th>\n",
       "      <th>black</th>\n",
       "      <th>hisp</th>\n",
       "      <th>married</th>\n",
       "      <th>nodegr</th>\n",
       "      <th>re74</th>\n",
       "      <th>re75</th>\n",
       "      <th>re78</th>\n",
       "      <th>u74</th>\n",
       "      <th>u75</th>\n",
       "      <th>propensity_score</th>\n",
       "      <th>weight</th>\n",
       "    </tr>\n",
       "  </thead>\n",
       "  <tbody>\n",
       "    <tr>\n",
       "      <th>0</th>\n",
       "      <td>False</td>\n",
       "      <td>26.0</td>\n",
       "      <td>12.0</td>\n",
       "      <td>1.0</td>\n",
       "      <td>0.0</td>\n",
       "      <td>0.0</td>\n",
       "      <td>0.0</td>\n",
       "      <td>0.00</td>\n",
       "      <td>0.000</td>\n",
       "      <td>0.0000</td>\n",
       "      <td>1.0</td>\n",
       "      <td>1.0</td>\n",
       "      <td>0.459581</td>\n",
       "      <td>2.175895</td>\n",
       "    </tr>\n",
       "    <tr>\n",
       "      <th>1</th>\n",
       "      <td>False</td>\n",
       "      <td>20.0</td>\n",
       "      <td>10.0</td>\n",
       "      <td>1.0</td>\n",
       "      <td>0.0</td>\n",
       "      <td>0.0</td>\n",
       "      <td>1.0</td>\n",
       "      <td>0.00</td>\n",
       "      <td>0.000</td>\n",
       "      <td>8598.5220</td>\n",
       "      <td>1.0</td>\n",
       "      <td>1.0</td>\n",
       "      <td>0.633658</td>\n",
       "      <td>1.578137</td>\n",
       "    </tr>\n",
       "    <tr>\n",
       "      <th>2</th>\n",
       "      <td>False</td>\n",
       "      <td>29.0</td>\n",
       "      <td>11.0</td>\n",
       "      <td>1.0</td>\n",
       "      <td>0.0</td>\n",
       "      <td>0.0</td>\n",
       "      <td>1.0</td>\n",
       "      <td>0.00</td>\n",
       "      <td>0.000</td>\n",
       "      <td>0.0000</td>\n",
       "      <td>1.0</td>\n",
       "      <td>1.0</td>\n",
       "      <td>0.631397</td>\n",
       "      <td>1.583789</td>\n",
       "    </tr>\n",
       "    <tr>\n",
       "      <th>3</th>\n",
       "      <td>False</td>\n",
       "      <td>39.0</td>\n",
       "      <td>12.0</td>\n",
       "      <td>1.0</td>\n",
       "      <td>0.0</td>\n",
       "      <td>1.0</td>\n",
       "      <td>0.0</td>\n",
       "      <td>0.00</td>\n",
       "      <td>0.000</td>\n",
       "      <td>3795.7990</td>\n",
       "      <td>1.0</td>\n",
       "      <td>1.0</td>\n",
       "      <td>0.387147</td>\n",
       "      <td>2.583001</td>\n",
       "    </tr>\n",
       "    <tr>\n",
       "      <th>4</th>\n",
       "      <td>True</td>\n",
       "      <td>23.0</td>\n",
       "      <td>12.0</td>\n",
       "      <td>0.0</td>\n",
       "      <td>1.0</td>\n",
       "      <td>0.0</td>\n",
       "      <td>0.0</td>\n",
       "      <td>9385.74</td>\n",
       "      <td>1117.439</td>\n",
       "      <td>559.4432</td>\n",
       "      <td>0.0</td>\n",
       "      <td>0.0</td>\n",
       "      <td>0.414552</td>\n",
       "      <td>2.412245</td>\n",
       "    </tr>\n",
       "  </tbody>\n",
       "</table>\n",
       "</div>"
      ],
      "text/plain": [
       "   treat   age  educ  black  hisp  married  nodegr     re74      re75  \\\n",
       "0  False  26.0  12.0    1.0   0.0      0.0     0.0     0.00     0.000   \n",
       "1  False  20.0  10.0    1.0   0.0      0.0     1.0     0.00     0.000   \n",
       "2  False  29.0  11.0    1.0   0.0      0.0     1.0     0.00     0.000   \n",
       "3  False  39.0  12.0    1.0   0.0      1.0     0.0     0.00     0.000   \n",
       "4   True  23.0  12.0    0.0   1.0      0.0     0.0  9385.74  1117.439   \n",
       "\n",
       "        re78  u74  u75  propensity_score    weight  \n",
       "0     0.0000  1.0  1.0          0.459581  2.175895  \n",
       "1  8598.5220  1.0  1.0          0.633658  1.578137  \n",
       "2     0.0000  1.0  1.0          0.631397  1.583789  \n",
       "3  3795.7990  1.0  1.0          0.387147  2.583001  \n",
       "4   559.4432  0.0  0.0          0.414552  2.412245  "
      ]
     },
     "execution_count": 6,
     "metadata": {},
     "output_type": "execute_result"
    }
   ],
   "source": [
    "do_df.head()"
   ]
  },
  {
   "cell_type": "markdown",
   "metadata": {},
   "source": [
    "## Treatment Effect Estimation\n",
    "\n",
    "We could get a naive estimate before for a treatment effect by doing"
   ]
  },
  {
   "cell_type": "code",
   "execution_count": 7,
   "metadata": {
    "execution": {
     "iopub.execute_input": "2024-05-21T18:36:09.476832Z",
     "iopub.status.busy": "2024-05-21T18:36:09.476456Z",
     "iopub.status.idle": "2024-05-21T18:36:09.529633Z",
     "shell.execute_reply": "2024-05-21T18:36:09.529043Z"
    }
   },
   "outputs": [
    {
     "data": {
      "image/png": "[encoded data removed]",
      "text/latex": [
       "$\\displaystyle 1794.34240427027$"
      ],
      "text/plain": [
       "1794.342404270271"
      ]
     },
     "execution_count": 7,
     "metadata": {},
     "output_type": "execute_result"
    }
   ],
   "source": [
    "(lalonde[lalonde['treat'] == 1].mean() - lalonde[lalonde['treat'] == 0].mean())['re78']"
   ]
  },
  {
   "cell_type": "markdown",
   "metadata": {},
   "source": [
    "We can do the same with our new sample from the interventional distribution to get a causal effect estimate"
   ]
  },
  {
   "cell_type": "code",
   "execution_count": 8,
   "metadata": {
    "execution": {
     "iopub.execute_input": "2024-05-21T18:36:09.531925Z",
     "iopub.status.busy": "2024-05-21T18:36:09.531637Z",
     "iopub.status.idle": "2024-05-21T18:36:09.548831Z",
     "shell.execute_reply": "2024-05-21T18:36:09.548331Z"
    }
   },
   "outputs": [
    {
     "data": {
      "image/png": "[encoded data removed]",
      "text/latex": [
       "$\\displaystyle 830.290344127227$"
      ],
      "text/plain": [
       "830.2903441272274"
      ]
     },
     "execution_count": 8,
     "metadata": {},
     "output_type": "execute_result"
    }
   ],
   "source": [
    "(do_df[do_df['treat'] == 1].mean() - do_df[do_df['treat'] == 0].mean())['re78']"
   ]
  },
  {
   "cell_type": "markdown",
   "metadata": {},
   "source": [
    "We could get some rough error bars on the outcome using the normal approximation for a 95% confidence interval, like\n"
   ]
  },
  {
   "cell_type": "code",
   "execution_count": 9,
   "metadata": {
    "execution": {
     "iopub.execute_input": "2024-05-21T18:36:09.551029Z",
     "iopub.status.busy": "2024-05-21T18:36:09.550747Z",
     "iopub.status.idle": "2024-05-21T18:36:09.568787Z",
     "shell.execute_reply": "2024-05-21T18:36:09.568291Z"
    }
   },
   "outputs": [
    {
     "data": {
      "image/png": "[encoded data removed]",
      "text/latex": [
       "$\\displaystyle 1291.0184980776$"
      ],
      "text/plain": [
       "1291.0184980776014"
      ]
     },
     "execution_count": 9,
     "metadata": {},
     "output_type": "execute_result"
    }
   ],
   "source": [
    "import numpy as np\n",
    "1.96*np.sqrt((do_df[do_df['treat'] == 1].var()/len(do_df[do_df['treat'] == 1])) + \n",
    "             (do_df[do_df['treat'] == 0].var()/len(do_df[do_df['treat'] == 0])))['re78']"
   ]
  },
  {
   "cell_type": "markdown",
   "metadata": {},
   "source": [
    "but note that these DO NOT contain propensity score estimation error. For that, a bootstrapping procedure might be more appropriate."
   ]
  },
  {
   "cell_type": "markdown",
   "metadata": {},
   "source": [
    "This is just one statistic we can compute from the interventional distribution of `'re78'`. We can get all of the interventional moments as well, including functions of `'re78'`. We can leverage the full power of pandas, like"
   ]
  },
  {
   "cell_type": "code",
   "execution_count": 10,
   "metadata": {
    "execution": {
     "iopub.execute_input": "2024-05-21T18:36:09.571152Z",
     "iopub.status.busy": "2024-05-21T18:36:09.570798Z",
     "iopub.status.idle": "2024-05-21T18:36:09.576840Z",
     "shell.execute_reply": "2024-05-21T18:36:09.576345Z"
    }
   },
   "outputs": [
    {
     "data": {
      "text/plain": [
       "count      445.000000\n",
       "mean      5281.745869\n",
       "std       6993.456574\n",
       "min          0.000000\n",
       "25%          0.000000\n",
       "50%       3523.578000\n",
       "75%       8087.487000\n",
       "max      60307.930000\n",
       "Name: re78, dtype: float64"
      ]
     },
     "execution_count": 10,
     "metadata": {},
     "output_type": "execute_result"
    }
   ],
   "source": [
    "do_df['re78'].describe()"
   ]
  },
  {
   "cell_type": "code",
   "execution_count": 11,
   "metadata": {
    "execution": {
     "iopub.execute_input": "2024-05-21T18:36:09.578912Z",
     "iopub.status.busy": "2024-05-21T18:36:09.578625Z",
     "iopub.status.idle": "2024-05-21T18:36:09.584248Z",
     "shell.execute_reply": "2024-05-21T18:36:09.583744Z"
    }
   },
   "outputs": [
    {
     "data": {
      "text/plain": [
       "count      445.000000\n",
       "mean      5300.763699\n",
       "std       6631.491695\n",
       "min          0.000000\n",
       "25%          0.000000\n",
       "50%       3701.812000\n",
       "75%       8124.715000\n",
       "max      60307.930000\n",
       "Name: re78, dtype: float64"
      ]
     },
     "execution_count": 11,
     "metadata": {},
     "output_type": "execute_result"
    }
   ],
   "source": [
    "lalonde['re78'].describe()"
   ]
  },
  {
   "cell_type": "markdown",
   "metadata": {},
   "source": [
    "and even plot aggregations, like"
   ]
  },
  {
   "cell_type": "code",
   "execution_count": 12,
   "metadata": {
    "execution": {
     "iopub.execute_input": "2024-05-21T18:36:09.586571Z",
     "iopub.status.busy": "2024-05-21T18:36:09.586159Z",
     "iopub.status.idle": "2024-05-21T18:36:09.591176Z",
     "shell.execute_reply": "2024-05-21T18:36:09.590584Z"
    }
   },
   "outputs": [],
   "source": [
    "%matplotlib inline"
   ]
  },
  {
   "cell_type": "code",
   "execution_count": 13,
   "metadata": {
    "execution": {
     "iopub.execute_input": "2024-05-21T18:36:09.593561Z",
     "iopub.status.busy": "2024-05-21T18:36:09.593216Z",
     "iopub.status.idle": "2024-05-21T18:36:09.852071Z",
     "shell.execute_reply": "2024-05-21T18:36:09.851439Z"
    }
   },
   "outputs": [
    {
     "data": {
      "text/plain": [
       "<Axes: xlabel='treat', ylabel='re78'>"
      ]
     },
     "execution_count": 13,
     "metadata": {},
     "output_type": "execute_result"
    },
    {
     "data": {
      "image/png": "[encoded data removed]",
      "text/plain": [
       "<Figure size 640x480 with 1 Axes>"
      ]
     },
     "metadata": {},
     "output_type": "display_data"
    }
   ],
   "source": [
    "import seaborn as sns\n",
    "\n",
    "sns.barplot(data=lalonde, x='treat', y='re78')"
   ]
  },
  {
   "cell_type": "code",
   "execution_count": 14,
   "metadata": {
    "execution": {
     "iopub.execute_input": "2024-05-21T18:36:09.855342Z",
     "iopub.status.busy": "2024-05-21T18:36:09.854987Z",
     "iopub.status.idle": "2024-05-21T18:36:10.088259Z",
     "shell.execute_reply": "2024-05-21T18:36:10.087686Z"
    }
   },
   "outputs": [
    {
     "data": {
      "text/plain": [
       "<Axes: xlabel='treat', ylabel='re78'>"
      ]
     },
     "execution_count": 14,
     "metadata": {},
     "output_type": "execute_result"
    },
    {
     "data": {
      "image/png": "[encoded data removed]",
      "text/plain": [
       "<Figure size 640x480 with 1 Axes>"
      ]
     },
     "metadata": {},
     "output_type": "display_data"
    }
   ],
   "source": [
    "sns.barplot(data=do_df, x='treat', y='re78')"
   ]
  },
  {
   "cell_type": "markdown",
   "metadata": {},
   "source": [
    "## Specifying Interventions\n",
    "\n",
    "You can find the distribution of the outcome under an intervention to set the value of the treatment. "
   ]
  },
  {
   "cell_type": "code",
   "execution_count": 15,
   "metadata": {
    "execution": {
     "iopub.execute_input": "2024-05-21T18:36:10.090798Z",
     "iopub.status.busy": "2024-05-21T18:36:10.090382Z",
     "iopub.status.idle": "2024-05-21T18:36:10.128066Z",
     "shell.execute_reply": "2024-05-21T18:36:10.127481Z"
    }
   },
   "outputs": [
    {
     "name": "stderr",
     "output_type": "stream",
     "text": [
      "/github/home/.cache/pypoetry/virtualenvs/dowhy-oN2hW5jr-py3.8/lib/python3.8/site-packages/sklearn/preprocessing/_encoders.py:868: FutureWarning: `sparse` was renamed to `sparse_output` in version 1.2 and will be removed in 1.4. `sparse_output` is ignored unless you leave `sparse` to its default value.\n",
      "  warnings.warn(\n",
      "/github/home/.cache/pypoetry/virtualenvs/dowhy-oN2hW5jr-py3.8/lib/python3.8/site-packages/sklearn/preprocessing/_encoders.py:868: FutureWarning: `sparse` was renamed to `sparse_output` in version 1.2 and will be removed in 1.4. `sparse_output` is ignored unless you leave `sparse` to its default value.\n",
      "  warnings.warn(\n",
      "/github/home/.cache/pypoetry/virtualenvs/dowhy-oN2hW5jr-py3.8/lib/python3.8/site-packages/sklearn/preprocessing/_encoders.py:868: FutureWarning: `sparse` was renamed to `sparse_output` in version 1.2 and will be removed in 1.4. `sparse_output` is ignored unless you leave `sparse` to its default value.\n",
      "  warnings.warn(\n",
      "/github/home/.cache/pypoetry/virtualenvs/dowhy-oN2hW5jr-py3.8/lib/python3.8/site-packages/sklearn/preprocessing/_encoders.py:868: FutureWarning: `sparse` was renamed to `sparse_output` in version 1.2 and will be removed in 1.4. `sparse_output` is ignored unless you leave `sparse` to its default value.\n",
      "  warnings.warn(\n"
     ]
    }
   ],
   "source": [
    "do_df = lalonde.causal.do(x={'treat': 1},\n",
    "                          outcome='re78',\n",
    "                          common_causes=['nodegr', 'black', 'hisp', 'age', 'educ', 'married'],\n",
    "                          variable_types={'age': 'c', 'educ':'c', 'black': 'd', 'hisp': 'd', \n",
    "                                          'married': 'd', 'nodegr': 'd','re78': 'c', 'treat': 'b'}\n",
    "                         )"
   ]
  },
  {
   "cell_type": "code",
   "execution_count": 16,
   "metadata": {
    "execution": {
     "iopub.execute_input": "2024-05-21T18:36:10.130396Z",
     "iopub.status.busy": "2024-05-21T18:36:10.130028Z",
     "iopub.status.idle": "2024-05-21T18:36:10.142117Z",
     "shell.execute_reply": "2024-05-21T18:36:10.141612Z"
    }
   },
   "outputs": [
    {
     "data": {
      "text/html": [
       "<div>\n",
       "<style scoped>\n",
       "    .dataframe tbody tr th:only-of-type {\n",
       "        vertical-align: middle;\n",
       "    }\n",
       "\n",
       "    .dataframe tbody tr th {\n",
       "        vertical-align: top;\n",
       "    }\n",
       "\n",
       "    .dataframe thead th {\n",
       "        text-align: right;\n",
       "    }\n",
       "</style>\n",
       "<table border=\"1\" class=\"dataframe\">\n",
       "  <thead>\n",
       "    <tr style=\"text-align: right;\">\n",
       "      <th></th>\n",
       "      <th>treat</th>\n",
       "      <th>age</th>\n",
       "      <th>educ</th>\n",
       "      <th>black</th>\n",
       "      <th>hisp</th>\n",
       "      <th>married</th>\n",
       "      <th>nodegr</th>\n",
       "      <th>re74</th>\n",
       "      <th>re75</th>\n",
       "      <th>re78</th>\n",
       "      <th>u74</th>\n",
       "      <th>u75</th>\n",
       "      <th>propensity_score</th>\n",
       "      <th>weight</th>\n",
       "    </tr>\n",
       "  </thead>\n",
       "  <tbody>\n",
       "    <tr>\n",
       "      <th>0</th>\n",
       "      <td>True</td>\n",
       "      <td>27.0</td>\n",
       "      <td>13.0</td>\n",
       "      <td>1.0</td>\n",
       "      <td>0.0</td>\n",
       "      <td>0.0</td>\n",
       "      <td>0.0</td>\n",
       "      <td>0.000</td>\n",
       "      <td>0.000</td>\n",
       "      <td>14581.860</td>\n",
       "      <td>1.0</td>\n",
       "      <td>1.0</td>\n",
       "      <td>0.529496</td>\n",
       "      <td>1.888587</td>\n",
       "    </tr>\n",
       "    <tr>\n",
       "      <th>1</th>\n",
       "      <td>True</td>\n",
       "      <td>25.0</td>\n",
       "      <td>11.0</td>\n",
       "      <td>1.0</td>\n",
       "      <td>0.0</td>\n",
       "      <td>0.0</td>\n",
       "      <td>1.0</td>\n",
       "      <td>0.000</td>\n",
       "      <td>0.000</td>\n",
       "      <td>9897.049</td>\n",
       "      <td>1.0</td>\n",
       "      <td>1.0</td>\n",
       "      <td>0.362384</td>\n",
       "      <td>2.759507</td>\n",
       "    </tr>\n",
       "    <tr>\n",
       "      <th>2</th>\n",
       "      <td>True</td>\n",
       "      <td>19.0</td>\n",
       "      <td>11.0</td>\n",
       "      <td>1.0</td>\n",
       "      <td>0.0</td>\n",
       "      <td>0.0</td>\n",
       "      <td>1.0</td>\n",
       "      <td>2305.026</td>\n",
       "      <td>2615.276</td>\n",
       "      <td>4146.603</td>\n",
       "      <td>0.0</td>\n",
       "      <td>0.0</td>\n",
       "      <td>0.353141</td>\n",
       "      <td>2.831729</td>\n",
       "    </tr>\n",
       "    <tr>\n",
       "      <th>3</th>\n",
       "      <td>True</td>\n",
       "      <td>24.0</td>\n",
       "      <td>12.0</td>\n",
       "      <td>1.0</td>\n",
       "      <td>0.0</td>\n",
       "      <td>0.0</td>\n",
       "      <td>0.0</td>\n",
       "      <td>13765.750</td>\n",
       "      <td>2842.764</td>\n",
       "      <td>6167.681</td>\n",
       "      <td>0.0</td>\n",
       "      <td>0.0</td>\n",
       "      <td>0.537087</td>\n",
       "      <td>1.861896</td>\n",
       "    </tr>\n",
       "    <tr>\n",
       "      <th>4</th>\n",
       "      <td>True</td>\n",
       "      <td>25.0</td>\n",
       "      <td>11.0</td>\n",
       "      <td>1.0</td>\n",
       "      <td>0.0</td>\n",
       "      <td>0.0</td>\n",
       "      <td>1.0</td>\n",
       "      <td>0.000</td>\n",
       "      <td>0.000</td>\n",
       "      <td>0.000</td>\n",
       "      <td>1.0</td>\n",
       "      <td>1.0</td>\n",
       "      <td>0.362384</td>\n",
       "      <td>2.759507</td>\n",
       "    </tr>\n",
       "  </tbody>\n",
       "</table>\n",
       "</div>"
      ],
      "text/plain": [
       "   treat   age  educ  black  hisp  married  nodegr       re74      re75  \\\n",
       "0   True  27.0  13.0    1.0   0.0      0.0     0.0      0.000     0.000   \n",
       "1   True  25.0  11.0    1.0   0.0      0.0     1.0      0.000     0.000   \n",
       "2   True  19.0  11.0    1.0   0.0      0.0     1.0   2305.026  2615.276   \n",
       "3   True  24.0  12.0    1.0   0.0      0.0     0.0  13765.750  2842.764   \n",
       "4   True  25.0  11.0    1.0   0.0      0.0     1.0      0.000     0.000   \n",
       "\n",
       "        re78  u74  u75  propensity_score    weight  \n",
       "0  14581.860  1.0  1.0          0.529496  1.888587  \n",
       "1   9897.049  1.0  1.0          0.362384  2.759507  \n",
       "2   4146.603  0.0  0.0          0.353141  2.831729  \n",
       "3   6167.681  0.0  0.0          0.537087  1.861896  \n",
       "4      0.000  1.0  1.0          0.362384  2.759507  "
      ]
     },
     "execution_count": 16,
     "metadata": {},
     "output_type": "execute_result"
    }
   ],
   "source": [
    "do_df.head()"
   ]
  },
  {
   "cell_type": "markdown",
   "metadata": {},
   "source": [
    "This new dataframe gives the distribution of `'re78'` when `'treat'` is set to `1`."
   ]
  },
  {
   "cell_type": "markdown",
   "metadata": {},
   "source": [
    "For much more detail on how the `do` method works, check the docstring:"
   ]
  },
  {
   "cell_type": "code",
   "execution_count": 17,
   "metadata": {
    "execution": {
     "iopub.execute_input": "2024-05-21T18:36:10.144426Z",
     "iopub.status.busy": "2024-05-21T18:36:10.144001Z",
     "iopub.status.idle": "2024-05-21T18:36:10.147870Z",
     "shell.execute_reply": "2024-05-21T18:36:10.147233Z"
    }
   },
   "outputs": [
    {
     "name": "stdout",
     "output_type": "stream",
     "text": [
      "Help on method do in module dowhy.api.causal_data_frame:\n",
      "\n",
      "do(x, method='weighting', num_cores=1, variable_types={}, outcome=None, params=None, graph: networkx.classes.digraph.DiGraph = None, common_causes=None, estimand_type=<EstimandType.NONPARAMETRIC_ATE: 'nonparametric-ate'>, stateful=False) method of dowhy.api.causal_data_frame.CausalAccessor instance\n",
      "    The do-operation implemented with sampling. This will return a pandas.DataFrame with the outcome\n",
      "    variable(s) replaced with samples from P(Y|do(X=x)).\n",
      "    \n",
      "    If the value of `x` is left unspecified (e.g. as a string or list), then the original values of `x` are left in\n",
      "    the DataFrame, and Y is sampled from its respective P(Y|do(x)). If the value of `x` is specified (passed with a\n",
      "    `dict`, where variable names are keys, and values are specified) then the new `DataFrame` will contain the\n",
      "    specified values of `x`.\n",
      "    \n",
      "    For some methods, the `variable_types` field must be specified. It should be a `dict`, where the keys are\n",
      "    variable names, and values are 'o' for ordered discrete, 'u' for un-ordered discrete, 'd' for discrete, or 'c'\n",
      "    for continuous.\n",
      "    \n",
      "    Inference requires a set of control variables. These can be provided explicitly using `common_causes`, which\n",
      "    contains a list of variable names to control for. These can be provided implicitly by specifying a causal graph\n",
      "    with `dot_graph`, from which they will be chosen using the default identification method.\n",
      "    \n",
      "    When the set of control variables can't be identified with the provided assumptions, a prompt will raise to the\n",
      "    user asking whether to proceed. To automatically over-ride the prompt, you can set the flag\n",
      "    `proceed_when_unidentifiable` to `True`.\n",
      "    \n",
      "    Some methods build components during inference which are expensive. To retain those components for later\n",
      "    inference (e.g. successive calls to `do` with different values of `x`), you can set the `stateful` flag to `True`.\n",
      "    Be cautious about using the `do` operation statefully. State is set on the namespace, rather than the method, so\n",
      "    can behave unpredictably. To reset the namespace and run statelessly again, you can call the `reset` method.\n",
      "    \n",
      "    :param x: str, list, dict: The causal state on which to intervene, and (optional) its interventional value(s).\n",
      "    :param method: The inference method to use with the sampler. Currently, `'mcmc'`, `'weighting'`, and\n",
      "        `'kernel_density'` are supported. The `mcmc` sampler requires `pymc3>=3.7`.\n",
      "    :param num_cores: int: if the inference method only supports sampling a point at a time, this will parallelize\n",
      "        sampling.\n",
      "    :param variable_types: dict: The dictionary containing the variable types. Must contain the union of the causal\n",
      "        state, control variables, and the outcome.\n",
      "    :param outcome: str: The outcome variable.\n",
      "    :param params: dict: extra parameters to set as attributes on the sampler object\n",
      "    :param dot_graph: str: A string specifying the causal graph.\n",
      "    :param common_causes: list: A list of strings containing the variable names to control for.\n",
      "    :param estimand_type: str: 'nonparametric-ate' is the only one currently supported. Others may be added later, to allow for specific, parametric estimands.\n",
      "    :param proceed_when_unidentifiable: bool: A flag to over-ride user prompts to proceed when effects aren't\n",
      "        identifiable with the assumptions provided.\n",
      "    :param stateful: bool: Whether to retain state. By default, the do operation is stateless.\n",
      "    \n",
      "    :return: pandas.DataFrame: A DataFrame containing the sampled outcome\n",
      "\n"
     ]
    }
   ],
   "source": [
    "help(lalonde.causal.do)"
   ]
  }
 ],
 "metadata": {
  "kernelspec": {
   "display_name": "Python 3 (ipykernel)",
   "language": "python",
   "name": "python3"
  },
  "language_info": {
   "codemirror_mode": {
    "name": "ipython",
    "version": 3
   },
   "file_extension": ".py",
   "mimetype": "text/x-python",
   "name": "python",
   "nbconvert_exporter": "python",
   "pygments_lexer": "ipython3",
   "version": "3.8.10"
  },
  "toc": {
   "base_numbering": 1,
   "nav_menu": {},
   "number_sections": false,
   "sideBar": true,
   "skip_h1_title": true,
   "title_cell": "Table of Contents",
   "title_sidebar": "Contents",
   "toc_cell": false,
   "toc_position": {},
   "toc_section_display": true,
   "toc_window_display": false
  }
 },
 "nbformat": 4,
 "nbformat_minor": 2
}
