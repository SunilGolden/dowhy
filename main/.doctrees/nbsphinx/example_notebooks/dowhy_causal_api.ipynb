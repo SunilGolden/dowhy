{
 "cells": [
  {
   "cell_type": "markdown",
   "metadata": {},
   "source": [
    "# Demo for the DoWhy causal API\n",
    "We show a simple example of adding a causal extension to any dataframe. "
   ]
  },
  {
   "cell_type": "code",
   "execution_count": 1,
   "metadata": {
    "execution": {
     "iopub.execute_input": "2023-01-26T16:42:05.630110Z",
     "iopub.status.busy": "2023-01-26T16:42:05.629837Z",
     "iopub.status.idle": "2023-01-26T16:42:07.739882Z",
     "shell.execute_reply": "2023-01-26T16:42:07.739170Z"
    }
   },
   "outputs": [],
   "source": [
    "import dowhy.datasets\n",
    "import dowhy.api\n",
    "\n",
    "import numpy as np\n",
    "import pandas as pd\n",
    "\n",
    "from statsmodels.api import OLS"
   ]
  },
  {
   "cell_type": "code",
   "execution_count": 2,
   "metadata": {
    "execution": {
     "iopub.execute_input": "2023-01-26T16:42:07.743777Z",
     "iopub.status.busy": "2023-01-26T16:42:07.743201Z",
     "iopub.status.idle": "2023-01-26T16:42:07.791119Z",
     "shell.execute_reply": "2023-01-26T16:42:07.790468Z"
    }
   },
   "outputs": [
    {
     "data": {
      "text/html": [
       "<div>\n",
       "<style scoped>\n",
       "    .dataframe tbody tr th:only-of-type {\n",
       "        vertical-align: middle;\n",
       "    }\n",
       "\n",
       "    .dataframe tbody tr th {\n",
       "        vertical-align: top;\n",
       "    }\n",
       "\n",
       "    .dataframe thead th {\n",
       "        text-align: right;\n",
       "    }\n",
       "</style>\n",
       "<table border=\"1\" class=\"dataframe\">\n",
       "  <thead>\n",
       "    <tr style=\"text-align: right;\">\n",
       "      <th></th>\n",
       "      <th>W0</th>\n",
       "      <th>v0</th>\n",
       "      <th>y</th>\n",
       "    </tr>\n",
       "  </thead>\n",
       "  <tbody>\n",
       "    <tr>\n",
       "      <th>0</th>\n",
       "      <td>0.183736</td>\n",
       "      <td>True</td>\n",
       "      <td>4.763822</td>\n",
       "    </tr>\n",
       "    <tr>\n",
       "      <th>1</th>\n",
       "      <td>0.420759</td>\n",
       "      <td>True</td>\n",
       "      <td>4.616919</td>\n",
       "    </tr>\n",
       "    <tr>\n",
       "      <th>2</th>\n",
       "      <td>0.919566</td>\n",
       "      <td>True</td>\n",
       "      <td>4.528552</td>\n",
       "    </tr>\n",
       "    <tr>\n",
       "      <th>3</th>\n",
       "      <td>-0.906746</td>\n",
       "      <td>False</td>\n",
       "      <td>-1.394118</td>\n",
       "    </tr>\n",
       "    <tr>\n",
       "      <th>4</th>\n",
       "      <td>-0.963120</td>\n",
       "      <td>False</td>\n",
       "      <td>-0.620770</td>\n",
       "    </tr>\n",
       "    <tr>\n",
       "      <th>...</th>\n",
       "      <td>...</td>\n",
       "      <td>...</td>\n",
       "      <td>...</td>\n",
       "    </tr>\n",
       "    <tr>\n",
       "      <th>995</th>\n",
       "      <td>0.584039</td>\n",
       "      <td>False</td>\n",
       "      <td>1.094510</td>\n",
       "    </tr>\n",
       "    <tr>\n",
       "      <th>996</th>\n",
       "      <td>-0.016755</td>\n",
       "      <td>False</td>\n",
       "      <td>0.362409</td>\n",
       "    </tr>\n",
       "    <tr>\n",
       "      <th>997</th>\n",
       "      <td>0.869909</td>\n",
       "      <td>True</td>\n",
       "      <td>6.288171</td>\n",
       "    </tr>\n",
       "    <tr>\n",
       "      <th>998</th>\n",
       "      <td>-1.436299</td>\n",
       "      <td>False</td>\n",
       "      <td>-1.565221</td>\n",
       "    </tr>\n",
       "    <tr>\n",
       "      <th>999</th>\n",
       "      <td>-1.440624</td>\n",
       "      <td>False</td>\n",
       "      <td>-3.068465</td>\n",
       "    </tr>\n",
       "  </tbody>\n",
       "</table>\n",
       "<p>1000 rows × 3 columns</p>\n",
       "</div>"
      ],
      "text/plain": [
       "           W0     v0         y\n",
       "0    0.183736   True  4.763822\n",
       "1    0.420759   True  4.616919\n",
       "2    0.919566   True  4.528552\n",
       "3   -0.906746  False -1.394118\n",
       "4   -0.963120  False -0.620770\n",
       "..        ...    ...       ...\n",
       "995  0.584039  False  1.094510\n",
       "996 -0.016755  False  0.362409\n",
       "997  0.869909   True  6.288171\n",
       "998 -1.436299  False -1.565221\n",
       "999 -1.440624  False -3.068465\n",
       "\n",
       "[1000 rows x 3 columns]"
      ]
     },
     "execution_count": 2,
     "metadata": {},
     "output_type": "execute_result"
    }
   ],
   "source": [
    "data = dowhy.datasets.linear_dataset(beta=5,\n",
    "        num_common_causes=1,\n",
    "        num_instruments = 0,\n",
    "        num_samples=1000,\n",
    "        treatment_is_binary=True)\n",
    "df = data['df']\n",
    "df['y'] = df['y'] + np.random.normal(size=len(df)) # Adding noise to data. Without noise, the variance in Y|X, Z is zero, and mcmc fails.\n",
    "#data['dot_graph'] = 'digraph { v ->y;X0-> v;X0-> y;}'\n",
    "\n",
    "treatment= data[\"treatment_name\"][0]\n",
    "outcome = data[\"outcome_name\"][0]\n",
    "common_cause = data[\"common_causes_names\"][0]\n",
    "df"
   ]
  },
  {
   "cell_type": "code",
   "execution_count": 3,
   "metadata": {
    "execution": {
     "iopub.execute_input": "2023-01-26T16:42:07.794635Z",
     "iopub.status.busy": "2023-01-26T16:42:07.794231Z",
     "iopub.status.idle": "2023-01-26T16:42:07.950768Z",
     "shell.execute_reply": "2023-01-26T16:42:07.950190Z"
    }
   },
   "outputs": [
    {
     "data": {
      "text/plain": [
       "<AxesSubplot: xlabel='v0'>"
      ]
     },
     "execution_count": 3,
     "metadata": {},
     "output_type": "execute_result"
    },
    {
     "data": {
      "image/png": "[encoded data removed]",
      "text/plain": [
       "<Figure size 640x480 with 1 Axes>"
      ]
     },
     "metadata": {},
     "output_type": "display_data"
    }
   ],
   "source": [
    "# data['df'] is just a regular pandas.DataFrame\n",
    "df.causal.do(x=treatment,\n",
    "                     variable_types={treatment: 'b', outcome: 'c', common_cause: 'c'},\n",
    "                     outcome=outcome,\n",
    "                     common_causes=[common_cause],\n",
    "                     proceed_when_unidentifiable=True).groupby(treatment).mean().plot(y=outcome, kind='bar')"
   ]
  },
  {
   "cell_type": "code",
   "execution_count": 4,
   "metadata": {
    "execution": {
     "iopub.execute_input": "2023-01-26T16:42:07.953681Z",
     "iopub.status.busy": "2023-01-26T16:42:07.953298Z",
     "iopub.status.idle": "2023-01-26T16:42:08.070929Z",
     "shell.execute_reply": "2023-01-26T16:42:08.070227Z"
    }
   },
   "outputs": [
    {
     "data": {
      "text/plain": [
       "<AxesSubplot: xlabel='v0'>"
      ]
     },
     "execution_count": 4,
     "metadata": {},
     "output_type": "execute_result"
    },
    {
     "data": {
      "image/png": "[encoded data removed]",
      "text/plain": [
       "<Figure size 640x480 with 1 Axes>"
      ]
     },
     "metadata": {},
     "output_type": "display_data"
    }
   ],
   "source": [
    "df.causal.do(x={treatment: 1}, \n",
    "              variable_types={treatment:'b', outcome: 'c', common_cause: 'c'}, \n",
    "              outcome=outcome,\n",
    "              method='weighting', \n",
    "              common_causes=[common_cause],\n",
    "              proceed_when_unidentifiable=True).groupby(treatment).mean().plot(y=outcome, kind='bar')"
   ]
  },
  {
   "cell_type": "code",
   "execution_count": 5,
   "metadata": {
    "execution": {
     "iopub.execute_input": "2023-01-26T16:42:08.074490Z",
     "iopub.status.busy": "2023-01-26T16:42:08.074109Z",
     "iopub.status.idle": "2023-01-26T16:42:08.109881Z",
     "shell.execute_reply": "2023-01-26T16:42:08.109118Z"
    }
   },
   "outputs": [],
   "source": [
    "cdf_1 = df.causal.do(x={treatment: 1}, \n",
    "              variable_types={treatment: 'b', outcome: 'c', common_cause: 'c'}, \n",
    "              outcome=outcome, \n",
    "              dot_graph=data['dot_graph'],\n",
    "              proceed_when_unidentifiable=True)\n",
    "\n",
    "cdf_0 = df.causal.do(x={treatment: 0}, \n",
    "              variable_types={treatment: 'b', outcome: 'c', common_cause: 'c'}, \n",
    "              outcome=outcome, \n",
    "              dot_graph=data['dot_graph'],\n",
    "              proceed_when_unidentifiable=True)\n"
   ]
  },
  {
   "cell_type": "code",
   "execution_count": 6,
   "metadata": {
    "execution": {
     "iopub.execute_input": "2023-01-26T16:42:08.113699Z",
     "iopub.status.busy": "2023-01-26T16:42:08.113265Z",
     "iopub.status.idle": "2023-01-26T16:42:08.125760Z",
     "shell.execute_reply": "2023-01-26T16:42:08.125060Z"
    },
    "scrolled": true
   },
   "outputs": [
    {
     "data": {
      "text/html": [
       "<div>\n",
       "<style scoped>\n",
       "    .dataframe tbody tr th:only-of-type {\n",
       "        vertical-align: middle;\n",
       "    }\n",
       "\n",
       "    .dataframe tbody tr th {\n",
       "        vertical-align: top;\n",
       "    }\n",
       "\n",
       "    .dataframe thead th {\n",
       "        text-align: right;\n",
       "    }\n",
       "</style>\n",
       "<table border=\"1\" class=\"dataframe\">\n",
       "  <thead>\n",
       "    <tr style=\"text-align: right;\">\n",
       "      <th></th>\n",
       "      <th>W0</th>\n",
       "      <th>v0</th>\n",
       "      <th>y</th>\n",
       "      <th>propensity_score</th>\n",
       "      <th>weight</th>\n",
       "    </tr>\n",
       "  </thead>\n",
       "  <tbody>\n",
       "    <tr>\n",
       "      <th>0</th>\n",
       "      <td>-0.704340</td>\n",
       "      <td>False</td>\n",
       "      <td>0.231171</td>\n",
       "      <td>0.724873</td>\n",
       "      <td>1.379551</td>\n",
       "    </tr>\n",
       "    <tr>\n",
       "      <th>1</th>\n",
       "      <td>0.188593</td>\n",
       "      <td>False</td>\n",
       "      <td>-0.691065</td>\n",
       "      <td>0.435882</td>\n",
       "      <td>2.294198</td>\n",
       "    </tr>\n",
       "    <tr>\n",
       "      <th>2</th>\n",
       "      <td>1.564008</td>\n",
       "      <td>False</td>\n",
       "      <td>1.907280</td>\n",
       "      <td>0.104579</td>\n",
       "      <td>9.562151</td>\n",
       "    </tr>\n",
       "    <tr>\n",
       "      <th>3</th>\n",
       "      <td>-0.286544</td>\n",
       "      <td>False</td>\n",
       "      <td>-0.778709</td>\n",
       "      <td>0.597443</td>\n",
       "      <td>1.673800</td>\n",
       "    </tr>\n",
       "    <tr>\n",
       "      <th>4</th>\n",
       "      <td>-0.009200</td>\n",
       "      <td>False</td>\n",
       "      <td>1.502131</td>\n",
       "      <td>0.503456</td>\n",
       "      <td>1.986271</td>\n",
       "    </tr>\n",
       "    <tr>\n",
       "      <th>...</th>\n",
       "      <td>...</td>\n",
       "      <td>...</td>\n",
       "      <td>...</td>\n",
       "      <td>...</td>\n",
       "      <td>...</td>\n",
       "    </tr>\n",
       "    <tr>\n",
       "      <th>995</th>\n",
       "      <td>-0.198716</td>\n",
       "      <td>False</td>\n",
       "      <td>0.669776</td>\n",
       "      <td>0.568116</td>\n",
       "      <td>1.760203</td>\n",
       "    </tr>\n",
       "    <tr>\n",
       "      <th>996</th>\n",
       "      <td>-0.633207</td>\n",
       "      <td>False</td>\n",
       "      <td>0.266390</td>\n",
       "      <td>0.704963</td>\n",
       "      <td>1.418513</td>\n",
       "    </tr>\n",
       "    <tr>\n",
       "      <th>997</th>\n",
       "      <td>-0.590103</td>\n",
       "      <td>False</td>\n",
       "      <td>-2.566600</td>\n",
       "      <td>0.692500</td>\n",
       "      <td>1.444043</td>\n",
       "    </tr>\n",
       "    <tr>\n",
       "      <th>998</th>\n",
       "      <td>-2.145521</td>\n",
       "      <td>False</td>\n",
       "      <td>-1.666335</td>\n",
       "      <td>0.950196</td>\n",
       "      <td>1.052415</td>\n",
       "    </tr>\n",
       "    <tr>\n",
       "      <th>999</th>\n",
       "      <td>-0.503556</td>\n",
       "      <td>False</td>\n",
       "      <td>-0.450576</td>\n",
       "      <td>0.666621</td>\n",
       "      <td>1.500103</td>\n",
       "    </tr>\n",
       "  </tbody>\n",
       "</table>\n",
       "<p>1000 rows × 5 columns</p>\n",
       "</div>"
      ],
      "text/plain": [
       "           W0     v0         y  propensity_score    weight\n",
       "0   -0.704340  False  0.231171          0.724873  1.379551\n",
       "1    0.188593  False -0.691065          0.435882  2.294198\n",
       "2    1.564008  False  1.907280          0.104579  9.562151\n",
       "3   -0.286544  False -0.778709          0.597443  1.673800\n",
       "4   -0.009200  False  1.502131          0.503456  1.986271\n",
       "..        ...    ...       ...               ...       ...\n",
       "995 -0.198716  False  0.669776          0.568116  1.760203\n",
       "996 -0.633207  False  0.266390          0.704963  1.418513\n",
       "997 -0.590103  False -2.566600          0.692500  1.444043\n",
       "998 -2.145521  False -1.666335          0.950196  1.052415\n",
       "999 -0.503556  False -0.450576          0.666621  1.500103\n",
       "\n",
       "[1000 rows x 5 columns]"
      ]
     },
     "execution_count": 6,
     "metadata": {},
     "output_type": "execute_result"
    }
   ],
   "source": [
    "cdf_0"
   ]
  },
  {
   "cell_type": "code",
   "execution_count": 7,
   "metadata": {
    "execution": {
     "iopub.execute_input": "2023-01-26T16:42:08.128613Z",
     "iopub.status.busy": "2023-01-26T16:42:08.128320Z",
     "iopub.status.idle": "2023-01-26T16:42:08.139617Z",
     "shell.execute_reply": "2023-01-26T16:42:08.138924Z"
    }
   },
   "outputs": [
    {
     "data": {
      "text/html": [
       "<div>\n",
       "<style scoped>\n",
       "    .dataframe tbody tr th:only-of-type {\n",
       "        vertical-align: middle;\n",
       "    }\n",
       "\n",
       "    .dataframe tbody tr th {\n",
       "        vertical-align: top;\n",
       "    }\n",
       "\n",
       "    .dataframe thead th {\n",
       "        text-align: right;\n",
       "    }\n",
       "</style>\n",
       "<table border=\"1\" class=\"dataframe\">\n",
       "  <thead>\n",
       "    <tr style=\"text-align: right;\">\n",
       "      <th></th>\n",
       "      <th>W0</th>\n",
       "      <th>v0</th>\n",
       "      <th>y</th>\n",
       "      <th>propensity_score</th>\n",
       "      <th>weight</th>\n",
       "    </tr>\n",
       "  </thead>\n",
       "  <tbody>\n",
       "    <tr>\n",
       "      <th>0</th>\n",
       "      <td>0.198830</td>\n",
       "      <td>True</td>\n",
       "      <td>4.480957</td>\n",
       "      <td>0.567573</td>\n",
       "      <td>1.761889</td>\n",
       "    </tr>\n",
       "    <tr>\n",
       "      <th>1</th>\n",
       "      <td>-1.315712</td>\n",
       "      <td>True</td>\n",
       "      <td>4.574624</td>\n",
       "      <td>0.140804</td>\n",
       "      <td>7.102077</td>\n",
       "    </tr>\n",
       "    <tr>\n",
       "      <th>2</th>\n",
       "      <td>-2.014128</td>\n",
       "      <td>True</td>\n",
       "      <td>4.163447</td>\n",
       "      <td>0.059074</td>\n",
       "      <td>16.927879</td>\n",
       "    </tr>\n",
       "    <tr>\n",
       "      <th>3</th>\n",
       "      <td>-1.464024</td>\n",
       "      <td>True</td>\n",
       "      <td>4.095279</td>\n",
       "      <td>0.117910</td>\n",
       "      <td>8.481034</td>\n",
       "    </tr>\n",
       "    <tr>\n",
       "      <th>4</th>\n",
       "      <td>-1.115808</td>\n",
       "      <td>True</td>\n",
       "      <td>4.210826</td>\n",
       "      <td>0.177407</td>\n",
       "      <td>5.636750</td>\n",
       "    </tr>\n",
       "    <tr>\n",
       "      <th>...</th>\n",
       "      <td>...</td>\n",
       "      <td>...</td>\n",
       "      <td>...</td>\n",
       "      <td>...</td>\n",
       "      <td>...</td>\n",
       "    </tr>\n",
       "    <tr>\n",
       "      <th>995</th>\n",
       "      <td>-1.110755</td>\n",
       "      <td>True</td>\n",
       "      <td>2.584477</td>\n",
       "      <td>0.178422</td>\n",
       "      <td>5.604678</td>\n",
       "    </tr>\n",
       "    <tr>\n",
       "      <th>996</th>\n",
       "      <td>-1.515487</td>\n",
       "      <td>True</td>\n",
       "      <td>3.381962</td>\n",
       "      <td>0.110753</td>\n",
       "      <td>9.029071</td>\n",
       "    </tr>\n",
       "    <tr>\n",
       "      <th>997</th>\n",
       "      <td>-1.335706</td>\n",
       "      <td>True</td>\n",
       "      <td>5.998179</td>\n",
       "      <td>0.137514</td>\n",
       "      <td>7.272008</td>\n",
       "    </tr>\n",
       "    <tr>\n",
       "      <th>998</th>\n",
       "      <td>-1.110755</td>\n",
       "      <td>True</td>\n",
       "      <td>2.584477</td>\n",
       "      <td>0.178422</td>\n",
       "      <td>5.604678</td>\n",
       "    </tr>\n",
       "    <tr>\n",
       "      <th>999</th>\n",
       "      <td>-0.475040</td>\n",
       "      <td>True</td>\n",
       "      <td>5.563752</td>\n",
       "      <td>0.342141</td>\n",
       "      <td>2.922769</td>\n",
       "    </tr>\n",
       "  </tbody>\n",
       "</table>\n",
       "<p>1000 rows × 5 columns</p>\n",
       "</div>"
      ],
      "text/plain": [
       "           W0    v0         y  propensity_score     weight\n",
       "0    0.198830  True  4.480957          0.567573   1.761889\n",
       "1   -1.315712  True  4.574624          0.140804   7.102077\n",
       "2   -2.014128  True  4.163447          0.059074  16.927879\n",
       "3   -1.464024  True  4.095279          0.117910   8.481034\n",
       "4   -1.115808  True  4.210826          0.177407   5.636750\n",
       "..        ...   ...       ...               ...        ...\n",
       "995 -1.110755  True  2.584477          0.178422   5.604678\n",
       "996 -1.515487  True  3.381962          0.110753   9.029071\n",
       "997 -1.335706  True  5.998179          0.137514   7.272008\n",
       "998 -1.110755  True  2.584477          0.178422   5.604678\n",
       "999 -0.475040  True  5.563752          0.342141   2.922769\n",
       "\n",
       "[1000 rows x 5 columns]"
      ]
     },
     "execution_count": 7,
     "metadata": {},
     "output_type": "execute_result"
    }
   ],
   "source": [
    "cdf_1"
   ]
  },
  {
   "cell_type": "markdown",
   "metadata": {},
   "source": [
    "## Comparing the estimate to Linear Regression\n",
    "First, estimating the effect using the causal data frame, and the 95% confidence interval."
   ]
  },
  {
   "cell_type": "code",
   "execution_count": 8,
   "metadata": {
    "execution": {
     "iopub.execute_input": "2023-01-26T16:42:08.143756Z",
     "iopub.status.busy": "2023-01-26T16:42:08.143164Z",
     "iopub.status.idle": "2023-01-26T16:42:08.202698Z",
     "shell.execute_reply": "2023-01-26T16:42:08.201916Z"
    }
   },
   "outputs": [
    {
     "data": {
      "image/png": "[encoded data removed]",
      "text/latex": [
       "$\\displaystyle 5.00096312544203$"
      ],
      "text/plain": [
       "5.00096312544203"
      ]
     },
     "execution_count": 8,
     "metadata": {},
     "output_type": "execute_result"
    }
   ],
   "source": [
    "(cdf_1['y'] - cdf_0['y']).mean()"
   ]
  },
  {
   "cell_type": "code",
   "execution_count": 9,
   "metadata": {
    "execution": {
     "iopub.execute_input": "2023-01-26T16:42:08.206422Z",
     "iopub.status.busy": "2023-01-26T16:42:08.205992Z",
     "iopub.status.idle": "2023-01-26T16:42:08.227353Z",
     "shell.execute_reply": "2023-01-26T16:42:08.226614Z"
    }
   },
   "outputs": [
    {
     "data": {
      "image/png": "[encoded data removed]",
      "text/latex": [
       "$\\displaystyle 0.120902668691208$"
      ],
      "text/plain": [
       "0.12090266869120765"
      ]
     },
     "execution_count": 9,
     "metadata": {},
     "output_type": "execute_result"
    }
   ],
   "source": [
    "1.96*(cdf_1['y'] - cdf_0['y']).std() / np.sqrt(len(df))"
   ]
  },
  {
   "cell_type": "markdown",
   "metadata": {},
   "source": [
    "Comparing to the estimate from OLS."
   ]
  },
  {
   "cell_type": "code",
   "execution_count": 10,
   "metadata": {
    "execution": {
     "iopub.execute_input": "2023-01-26T16:42:08.230515Z",
     "iopub.status.busy": "2023-01-26T16:42:08.230130Z",
     "iopub.status.idle": "2023-01-26T16:42:08.245310Z",
     "shell.execute_reply": "2023-01-26T16:42:08.244622Z"
    }
   },
   "outputs": [
    {
     "data": {
      "text/html": [
       "<table class=\"simpletable\">\n",
       "<caption>OLS Regression Results</caption>\n",
       "<tr>\n",
       "  <th>Dep. Variable:</th>            <td>y</td>        <th>  R-squared (uncentered):</th>      <td>   0.922</td>\n",
       "</tr>\n",
       "<tr>\n",
       "  <th>Model:</th>                   <td>OLS</td>       <th>  Adj. R-squared (uncentered):</th> <td>   0.921</td>\n",
       "</tr>\n",
       "<tr>\n",
       "  <th>Method:</th>             <td>Least Squares</td>  <th>  F-statistic:       </th>          <td>   5863.</td>\n",
       "</tr>\n",
       "<tr>\n",
       "  <th>Date:</th>             <td>Thu, 26 Jan 2023</td> <th>  Prob (F-statistic):</th>           <td>  0.00</td> \n",
       "</tr>\n",
       "<tr>\n",
       "  <th>Time:</th>                 <td>16:42:08</td>     <th>  Log-Likelihood:    </th>          <td> -1464.8</td>\n",
       "</tr>\n",
       "<tr>\n",
       "  <th>No. Observations:</th>      <td>  1000</td>      <th>  AIC:               </th>          <td>   2934.</td>\n",
       "</tr>\n",
       "<tr>\n",
       "  <th>Df Residuals:</th>          <td>   998</td>      <th>  BIC:               </th>          <td>   2943.</td>\n",
       "</tr>\n",
       "<tr>\n",
       "  <th>Df Model:</th>              <td>     2</td>      <th>                     </th>              <td> </td>   \n",
       "</tr>\n",
       "<tr>\n",
       "  <th>Covariance Type:</th>      <td>nonrobust</td>    <th>                     </th>              <td> </td>   \n",
       "</tr>\n",
       "</table>\n",
       "<table class=\"simpletable\">\n",
       "<tr>\n",
       "   <td></td>     <th>coef</th>     <th>std err</th>      <th>t</th>      <th>P>|t|</th>  <th>[0.025</th>    <th>0.975]</th>  \n",
       "</tr>\n",
       "<tr>\n",
       "  <th>x1</th> <td>    0.9260</td> <td>    0.033</td> <td>   28.207</td> <td> 0.000</td> <td>    0.862</td> <td>    0.990</td>\n",
       "</tr>\n",
       "<tr>\n",
       "  <th>x2</th> <td>    4.9738</td> <td>    0.051</td> <td>   96.738</td> <td> 0.000</td> <td>    4.873</td> <td>    5.075</td>\n",
       "</tr>\n",
       "</table>\n",
       "<table class=\"simpletable\">\n",
       "<tr>\n",
       "  <th>Omnibus:</th>       <td> 0.097</td> <th>  Durbin-Watson:     </th> <td>   2.005</td>\n",
       "</tr>\n",
       "<tr>\n",
       "  <th>Prob(Omnibus):</th> <td> 0.953</td> <th>  Jarque-Bera (JB):  </th> <td>   0.148</td>\n",
       "</tr>\n",
       "<tr>\n",
       "  <th>Skew:</th>          <td> 0.019</td> <th>  Prob(JB):          </th> <td>   0.929</td>\n",
       "</tr>\n",
       "<tr>\n",
       "  <th>Kurtosis:</th>      <td> 2.954</td> <th>  Cond. No.          </th> <td>    1.64</td>\n",
       "</tr>\n",
       "</table><br/><br/>Notes:<br/>[1] R² is computed without centering (uncentered) since the model does not contain a constant.<br/>[2] Standard Errors assume that the covariance matrix of the errors is correctly specified."
      ],
      "text/plain": [
       "<class 'statsmodels.iolib.summary.Summary'>\n",
       "\"\"\"\n",
       "                                 OLS Regression Results                                \n",
       "=======================================================================================\n",
       "Dep. Variable:                      y   R-squared (uncentered):                   0.922\n",
       "Model:                            OLS   Adj. R-squared (uncentered):              0.921\n",
       "Method:                 Least Squares   F-statistic:                              5863.\n",
       "Date:                Thu, 26 Jan 2023   Prob (F-statistic):                        0.00\n",
       "Time:                        16:42:08   Log-Likelihood:                         -1464.8\n",
       "No. Observations:                1000   AIC:                                      2934.\n",
       "Df Residuals:                     998   BIC:                                      2943.\n",
       "Df Model:                           2                                                  \n",
       "Covariance Type:            nonrobust                                                  \n",
       "==============================================================================\n",
       "                 coef    std err          t      P>|t|      [0.025      0.975]\n",
       "------------------------------------------------------------------------------\n",
       "x1             0.9260      0.033     28.207      0.000       0.862       0.990\n",
       "x2             4.9738      0.051     96.738      0.000       4.873       5.075\n",
       "==============================================================================\n",
       "Omnibus:                        0.097   Durbin-Watson:                   2.005\n",
       "Prob(Omnibus):                  0.953   Jarque-Bera (JB):                0.148\n",
       "Skew:                           0.019   Prob(JB):                        0.929\n",
       "Kurtosis:                       2.954   Cond. No.                         1.64\n",
       "==============================================================================\n",
       "\n",
       "Notes:\n",
       "[1] R² is computed without centering (uncentered) since the model does not contain a constant.\n",
       "[2] Standard Errors assume that the covariance matrix of the errors is correctly specified.\n",
       "\"\"\""
      ]
     },
     "execution_count": 10,
     "metadata": {},
     "output_type": "execute_result"
    }
   ],
   "source": [
    "model = OLS(np.asarray(df[outcome]), np.asarray(df[[common_cause, treatment]], dtype=np.float64))\n",
    "result = model.fit()\n",
    "result.summary()"
   ]
  }
 ],
 "metadata": {
  "kernelspec": {
   "display_name": "Python 3",
   "language": "python",
   "name": "python3"
  },
  "language_info": {
   "codemirror_mode": {
    "name": "ipython",
    "version": 3
   },
   "file_extension": ".py",
   "mimetype": "text/x-python",
   "name": "python",
   "nbconvert_exporter": "python",
   "pygments_lexer": "ipython3",
   "version": "3.8.10"
  },
  "toc": {
   "base_numbering": 1,
   "nav_menu": {},
   "number_sections": false,
   "sideBar": true,
   "skip_h1_title": true,
   "title_cell": "Table of Contents",
   "title_sidebar": "Contents",
   "toc_cell": false,
   "toc_position": {},
   "toc_section_display": true,
   "toc_window_display": false
  }
 },
 "nbformat": 4,
 "nbformat_minor": 4
}
