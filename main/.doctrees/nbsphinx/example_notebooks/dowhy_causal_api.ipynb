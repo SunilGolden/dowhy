{
 "cells": [
  {
   "cell_type": "markdown",
   "metadata": {},
   "source": [
    "# Demo for the DoWhy causal API\n",
    "We show a simple example of adding a causal extension to any dataframe. "
   ]
  },
  {
   "cell_type": "code",
   "execution_count": 1,
   "metadata": {
    "execution": {
     "iopub.execute_input": "2023-03-31T14:07:56.816594Z",
     "iopub.status.busy": "2023-03-31T14:07:56.816296Z",
     "iopub.status.idle": "2023-03-31T14:07:59.262921Z",
     "shell.execute_reply": "2023-03-31T14:07:59.261583Z"
    }
   },
   "outputs": [],
   "source": [
    "import dowhy.datasets\n",
    "import dowhy.api\n",
    "\n",
    "import numpy as np\n",
    "import pandas as pd\n",
    "\n",
    "from statsmodels.api import OLS"
   ]
  },
  {
   "cell_type": "code",
   "execution_count": 2,
   "metadata": {
    "execution": {
     "iopub.execute_input": "2023-03-31T14:07:59.269558Z",
     "iopub.status.busy": "2023-03-31T14:07:59.268922Z",
     "iopub.status.idle": "2023-03-31T14:07:59.349297Z",
     "shell.execute_reply": "2023-03-31T14:07:59.348278Z"
    }
   },
   "outputs": [
    {
     "data": {
      "text/html": [
       "<div>\n",
       "<style scoped>\n",
       "    .dataframe tbody tr th:only-of-type {\n",
       "        vertical-align: middle;\n",
       "    }\n",
       "\n",
       "    .dataframe tbody tr th {\n",
       "        vertical-align: top;\n",
       "    }\n",
       "\n",
       "    .dataframe thead th {\n",
       "        text-align: right;\n",
       "    }\n",
       "</style>\n",
       "<table border=\"1\" class=\"dataframe\">\n",
       "  <thead>\n",
       "    <tr style=\"text-align: right;\">\n",
       "      <th></th>\n",
       "      <th>W0</th>\n",
       "      <th>v0</th>\n",
       "      <th>y</th>\n",
       "    </tr>\n",
       "  </thead>\n",
       "  <tbody>\n",
       "    <tr>\n",
       "      <th>0</th>\n",
       "      <td>0.461221</td>\n",
       "      <td>True</td>\n",
       "      <td>4.793862</td>\n",
       "    </tr>\n",
       "    <tr>\n",
       "      <th>1</th>\n",
       "      <td>0.099233</td>\n",
       "      <td>True</td>\n",
       "      <td>5.419175</td>\n",
       "    </tr>\n",
       "    <tr>\n",
       "      <th>2</th>\n",
       "      <td>0.782852</td>\n",
       "      <td>True</td>\n",
       "      <td>4.636391</td>\n",
       "    </tr>\n",
       "    <tr>\n",
       "      <th>3</th>\n",
       "      <td>-0.379173</td>\n",
       "      <td>False</td>\n",
       "      <td>-0.384632</td>\n",
       "    </tr>\n",
       "    <tr>\n",
       "      <th>4</th>\n",
       "      <td>1.890432</td>\n",
       "      <td>True</td>\n",
       "      <td>5.360473</td>\n",
       "    </tr>\n",
       "    <tr>\n",
       "      <th>...</th>\n",
       "      <td>...</td>\n",
       "      <td>...</td>\n",
       "      <td>...</td>\n",
       "    </tr>\n",
       "    <tr>\n",
       "      <th>995</th>\n",
       "      <td>1.941046</td>\n",
       "      <td>True</td>\n",
       "      <td>7.094734</td>\n",
       "    </tr>\n",
       "    <tr>\n",
       "      <th>996</th>\n",
       "      <td>-0.161197</td>\n",
       "      <td>True</td>\n",
       "      <td>6.045956</td>\n",
       "    </tr>\n",
       "    <tr>\n",
       "      <th>997</th>\n",
       "      <td>0.169117</td>\n",
       "      <td>True</td>\n",
       "      <td>3.326246</td>\n",
       "    </tr>\n",
       "    <tr>\n",
       "      <th>998</th>\n",
       "      <td>-0.556220</td>\n",
       "      <td>False</td>\n",
       "      <td>-0.697461</td>\n",
       "    </tr>\n",
       "    <tr>\n",
       "      <th>999</th>\n",
       "      <td>-2.246257</td>\n",
       "      <td>False</td>\n",
       "      <td>-2.302379</td>\n",
       "    </tr>\n",
       "  </tbody>\n",
       "</table>\n",
       "<p>1000 rows × 3 columns</p>\n",
       "</div>"
      ],
      "text/plain": [
       "           W0     v0         y\n",
       "0    0.461221   True  4.793862\n",
       "1    0.099233   True  5.419175\n",
       "2    0.782852   True  4.636391\n",
       "3   -0.379173  False -0.384632\n",
       "4    1.890432   True  5.360473\n",
       "..        ...    ...       ...\n",
       "995  1.941046   True  7.094734\n",
       "996 -0.161197   True  6.045956\n",
       "997  0.169117   True  3.326246\n",
       "998 -0.556220  False -0.697461\n",
       "999 -2.246257  False -2.302379\n",
       "\n",
       "[1000 rows x 3 columns]"
      ]
     },
     "execution_count": 2,
     "metadata": {},
     "output_type": "execute_result"
    }
   ],
   "source": [
    "data = dowhy.datasets.linear_dataset(beta=5,\n",
    "        num_common_causes=1,\n",
    "        num_instruments = 0,\n",
    "        num_samples=1000,\n",
    "        treatment_is_binary=True)\n",
    "df = data['df']\n",
    "df['y'] = df['y'] + np.random.normal(size=len(df)) # Adding noise to data. Without noise, the variance in Y|X, Z is zero, and mcmc fails.\n",
    "#data['dot_graph'] = 'digraph { v ->y;X0-> v;X0-> y;}'\n",
    "\n",
    "treatment= data[\"treatment_name\"][0]\n",
    "outcome = data[\"outcome_name\"][0]\n",
    "common_cause = data[\"common_causes_names\"][0]\n",
    "df"
   ]
  },
  {
   "cell_type": "code",
   "execution_count": 3,
   "metadata": {
    "execution": {
     "iopub.execute_input": "2023-03-31T14:07:59.353980Z",
     "iopub.status.busy": "2023-03-31T14:07:59.353610Z",
     "iopub.status.idle": "2023-03-31T14:07:59.592125Z",
     "shell.execute_reply": "2023-03-31T14:07:59.590406Z"
    }
   },
   "outputs": [
    {
     "data": {
      "text/plain": [
       "<AxesSubplot: xlabel='v0'>"
      ]
     },
     "execution_count": 3,
     "metadata": {},
     "output_type": "execute_result"
    },
    {
     "data": {
      "image/png": "[encoded data removed]",
      "text/plain": [
       "<Figure size 640x480 with 1 Axes>"
      ]
     },
     "metadata": {},
     "output_type": "display_data"
    }
   ],
   "source": [
    "# data['df'] is just a regular pandas.DataFrame\n",
    "df.causal.do(x=treatment,\n",
    "                     variable_types={treatment: 'b', outcome: 'c', common_cause: 'c'},\n",
    "                     outcome=outcome,\n",
    "                     common_causes=[common_cause],\n",
    "                     proceed_when_unidentifiable=True).groupby(treatment).mean().plot(y=outcome, kind='bar')"
   ]
  },
  {
   "cell_type": "code",
   "execution_count": 4,
   "metadata": {
    "execution": {
     "iopub.execute_input": "2023-03-31T14:07:59.596399Z",
     "iopub.status.busy": "2023-03-31T14:07:59.595822Z",
     "iopub.status.idle": "2023-03-31T14:07:59.784006Z",
     "shell.execute_reply": "2023-03-31T14:07:59.782276Z"
    }
   },
   "outputs": [
    {
     "data": {
      "text/plain": [
       "<AxesSubplot: xlabel='v0'>"
      ]
     },
     "execution_count": 4,
     "metadata": {},
     "output_type": "execute_result"
    },
    {
     "data": {
      "image/png": "[encoded data removed]",
      "text/plain": [
       "<Figure size 640x480 with 1 Axes>"
      ]
     },
     "metadata": {},
     "output_type": "display_data"
    }
   ],
   "source": [
    "df.causal.do(x={treatment: 1}, \n",
    "              variable_types={treatment:'b', outcome: 'c', common_cause: 'c'}, \n",
    "              outcome=outcome,\n",
    "              method='weighting', \n",
    "              common_causes=[common_cause],\n",
    "              proceed_when_unidentifiable=True).groupby(treatment).mean().plot(y=outcome, kind='bar')"
   ]
  },
  {
   "cell_type": "code",
   "execution_count": 5,
   "metadata": {
    "execution": {
     "iopub.execute_input": "2023-03-31T14:07:59.788475Z",
     "iopub.status.busy": "2023-03-31T14:07:59.787726Z",
     "iopub.status.idle": "2023-03-31T14:07:59.960620Z",
     "shell.execute_reply": "2023-03-31T14:07:59.959517Z"
    }
   },
   "outputs": [],
   "source": [
    "cdf_1 = df.causal.do(x={treatment: 1}, \n",
    "              variable_types={treatment: 'b', outcome: 'c', common_cause: 'c'}, \n",
    "              outcome=outcome, \n",
    "              dot_graph=data['dot_graph'],\n",
    "              proceed_when_unidentifiable=True)\n",
    "\n",
    "cdf_0 = df.causal.do(x={treatment: 0}, \n",
    "              variable_types={treatment: 'b', outcome: 'c', common_cause: 'c'}, \n",
    "              outcome=outcome, \n",
    "              dot_graph=data['dot_graph'],\n",
    "              proceed_when_unidentifiable=True)\n"
   ]
  },
  {
   "cell_type": "code",
   "execution_count": 6,
   "metadata": {
    "execution": {
     "iopub.execute_input": "2023-03-31T14:07:59.966543Z",
     "iopub.status.busy": "2023-03-31T14:07:59.965689Z",
     "iopub.status.idle": "2023-03-31T14:07:59.982174Z",
     "shell.execute_reply": "2023-03-31T14:07:59.981216Z"
    },
    "scrolled": true
   },
   "outputs": [
    {
     "data": {
      "text/html": [
       "<div>\n",
       "<style scoped>\n",
       "    .dataframe tbody tr th:only-of-type {\n",
       "        vertical-align: middle;\n",
       "    }\n",
       "\n",
       "    .dataframe tbody tr th {\n",
       "        vertical-align: top;\n",
       "    }\n",
       "\n",
       "    .dataframe thead th {\n",
       "        text-align: right;\n",
       "    }\n",
       "</style>\n",
       "<table border=\"1\" class=\"dataframe\">\n",
       "  <thead>\n",
       "    <tr style=\"text-align: right;\">\n",
       "      <th></th>\n",
       "      <th>W0</th>\n",
       "      <th>v0</th>\n",
       "      <th>y</th>\n",
       "      <th>propensity_score</th>\n",
       "      <th>weight</th>\n",
       "    </tr>\n",
       "  </thead>\n",
       "  <tbody>\n",
       "    <tr>\n",
       "      <th>0</th>\n",
       "      <td>0.351699</td>\n",
       "      <td>False</td>\n",
       "      <td>1.197181</td>\n",
       "      <td>0.352726</td>\n",
       "      <td>2.835062</td>\n",
       "    </tr>\n",
       "    <tr>\n",
       "      <th>1</th>\n",
       "      <td>0.623526</td>\n",
       "      <td>False</td>\n",
       "      <td>0.404509</td>\n",
       "      <td>0.268875</td>\n",
       "      <td>3.719200</td>\n",
       "    </tr>\n",
       "    <tr>\n",
       "      <th>2</th>\n",
       "      <td>1.635053</td>\n",
       "      <td>False</td>\n",
       "      <td>-0.306407</td>\n",
       "      <td>0.078439</td>\n",
       "      <td>12.748680</td>\n",
       "    </tr>\n",
       "    <tr>\n",
       "      <th>3</th>\n",
       "      <td>2.315721</td>\n",
       "      <td>False</td>\n",
       "      <td>2.234705</td>\n",
       "      <td>0.030814</td>\n",
       "      <td>32.452630</td>\n",
       "    </tr>\n",
       "    <tr>\n",
       "      <th>4</th>\n",
       "      <td>0.962810</td>\n",
       "      <td>False</td>\n",
       "      <td>-0.023548</td>\n",
       "      <td>0.183743</td>\n",
       "      <td>5.442376</td>\n",
       "    </tr>\n",
       "    <tr>\n",
       "      <th>...</th>\n",
       "      <td>...</td>\n",
       "      <td>...</td>\n",
       "      <td>...</td>\n",
       "      <td>...</td>\n",
       "      <td>...</td>\n",
       "    </tr>\n",
       "    <tr>\n",
       "      <th>995</th>\n",
       "      <td>0.797790</td>\n",
       "      <td>False</td>\n",
       "      <td>1.353546</td>\n",
       "      <td>0.222276</td>\n",
       "      <td>4.498905</td>\n",
       "    </tr>\n",
       "    <tr>\n",
       "      <th>996</th>\n",
       "      <td>1.373753</td>\n",
       "      <td>False</td>\n",
       "      <td>0.868774</td>\n",
       "      <td>0.110493</td>\n",
       "      <td>9.050312</td>\n",
       "    </tr>\n",
       "    <tr>\n",
       "      <th>997</th>\n",
       "      <td>-0.556603</td>\n",
       "      <td>False</td>\n",
       "      <td>-0.851148</td>\n",
       "      <td>0.669735</td>\n",
       "      <td>1.493127</td>\n",
       "    </tr>\n",
       "    <tr>\n",
       "      <th>998</th>\n",
       "      <td>1.022495</td>\n",
       "      <td>False</td>\n",
       "      <td>2.886125</td>\n",
       "      <td>0.171145</td>\n",
       "      <td>5.843014</td>\n",
       "    </tr>\n",
       "    <tr>\n",
       "      <th>999</th>\n",
       "      <td>-0.964097</td>\n",
       "      <td>False</td>\n",
       "      <td>-1.019810</td>\n",
       "      <td>0.785249</td>\n",
       "      <td>1.273481</td>\n",
       "    </tr>\n",
       "  </tbody>\n",
       "</table>\n",
       "<p>1000 rows × 5 columns</p>\n",
       "</div>"
      ],
      "text/plain": [
       "           W0     v0         y  propensity_score     weight\n",
       "0    0.351699  False  1.197181          0.352726   2.835062\n",
       "1    0.623526  False  0.404509          0.268875   3.719200\n",
       "2    1.635053  False -0.306407          0.078439  12.748680\n",
       "3    2.315721  False  2.234705          0.030814  32.452630\n",
       "4    0.962810  False -0.023548          0.183743   5.442376\n",
       "..        ...    ...       ...               ...        ...\n",
       "995  0.797790  False  1.353546          0.222276   4.498905\n",
       "996  1.373753  False  0.868774          0.110493   9.050312\n",
       "997 -0.556603  False -0.851148          0.669735   1.493127\n",
       "998  1.022495  False  2.886125          0.171145   5.843014\n",
       "999 -0.964097  False -1.019810          0.785249   1.273481\n",
       "\n",
       "[1000 rows x 5 columns]"
      ]
     },
     "execution_count": 6,
     "metadata": {},
     "output_type": "execute_result"
    }
   ],
   "source": [
    "cdf_0"
   ]
  },
  {
   "cell_type": "code",
   "execution_count": 7,
   "metadata": {
    "execution": {
     "iopub.execute_input": "2023-03-31T14:07:59.986913Z",
     "iopub.status.busy": "2023-03-31T14:07:59.986554Z",
     "iopub.status.idle": "2023-03-31T14:08:00.001644Z",
     "shell.execute_reply": "2023-03-31T14:08:00.000578Z"
    }
   },
   "outputs": [
    {
     "data": {
      "text/html": [
       "<div>\n",
       "<style scoped>\n",
       "    .dataframe tbody tr th:only-of-type {\n",
       "        vertical-align: middle;\n",
       "    }\n",
       "\n",
       "    .dataframe tbody tr th {\n",
       "        vertical-align: top;\n",
       "    }\n",
       "\n",
       "    .dataframe thead th {\n",
       "        text-align: right;\n",
       "    }\n",
       "</style>\n",
       "<table border=\"1\" class=\"dataframe\">\n",
       "  <thead>\n",
       "    <tr style=\"text-align: right;\">\n",
       "      <th></th>\n",
       "      <th>W0</th>\n",
       "      <th>v0</th>\n",
       "      <th>y</th>\n",
       "      <th>propensity_score</th>\n",
       "      <th>weight</th>\n",
       "    </tr>\n",
       "  </thead>\n",
       "  <tbody>\n",
       "    <tr>\n",
       "      <th>0</th>\n",
       "      <td>0.086913</td>\n",
       "      <td>True</td>\n",
       "      <td>4.370810</td>\n",
       "      <td>0.555768</td>\n",
       "      <td>1.799311</td>\n",
       "    </tr>\n",
       "    <tr>\n",
       "      <th>1</th>\n",
       "      <td>0.049345</td>\n",
       "      <td>True</td>\n",
       "      <td>3.617202</td>\n",
       "      <td>0.542312</td>\n",
       "      <td>1.843957</td>\n",
       "    </tr>\n",
       "    <tr>\n",
       "      <th>2</th>\n",
       "      <td>0.852590</td>\n",
       "      <td>True</td>\n",
       "      <td>5.225197</td>\n",
       "      <td>0.791127</td>\n",
       "      <td>1.264020</td>\n",
       "    </tr>\n",
       "    <tr>\n",
       "      <th>3</th>\n",
       "      <td>0.072122</td>\n",
       "      <td>True</td>\n",
       "      <td>5.627473</td>\n",
       "      <td>0.550479</td>\n",
       "      <td>1.816601</td>\n",
       "    </tr>\n",
       "    <tr>\n",
       "      <th>4</th>\n",
       "      <td>-0.180657</td>\n",
       "      <td>True</td>\n",
       "      <td>5.015345</td>\n",
       "      <td>0.459316</td>\n",
       "      <td>2.177150</td>\n",
       "    </tr>\n",
       "    <tr>\n",
       "      <th>...</th>\n",
       "      <td>...</td>\n",
       "      <td>...</td>\n",
       "      <td>...</td>\n",
       "      <td>...</td>\n",
       "      <td>...</td>\n",
       "    </tr>\n",
       "    <tr>\n",
       "      <th>995</th>\n",
       "      <td>0.511183</td>\n",
       "      <td>True</td>\n",
       "      <td>6.243790</td>\n",
       "      <td>0.698003</td>\n",
       "      <td>1.432658</td>\n",
       "    </tr>\n",
       "    <tr>\n",
       "      <th>996</th>\n",
       "      <td>1.769538</td>\n",
       "      <td>True</td>\n",
       "      <td>5.356616</td>\n",
       "      <td>0.934521</td>\n",
       "      <td>1.070067</td>\n",
       "    </tr>\n",
       "    <tr>\n",
       "      <th>997</th>\n",
       "      <td>0.462936</td>\n",
       "      <td>True</td>\n",
       "      <td>5.230462</td>\n",
       "      <td>0.683090</td>\n",
       "      <td>1.463937</td>\n",
       "    </tr>\n",
       "    <tr>\n",
       "      <th>998</th>\n",
       "      <td>0.257512</td>\n",
       "      <td>True</td>\n",
       "      <td>2.857095</td>\n",
       "      <td>0.615577</td>\n",
       "      <td>1.624493</td>\n",
       "    </tr>\n",
       "    <tr>\n",
       "      <th>999</th>\n",
       "      <td>-0.363763</td>\n",
       "      <td>True</td>\n",
       "      <td>5.576124</td>\n",
       "      <td>0.394604</td>\n",
       "      <td>2.534188</td>\n",
       "    </tr>\n",
       "  </tbody>\n",
       "</table>\n",
       "<p>1000 rows × 5 columns</p>\n",
       "</div>"
      ],
      "text/plain": [
       "           W0    v0         y  propensity_score    weight\n",
       "0    0.086913  True  4.370810          0.555768  1.799311\n",
       "1    0.049345  True  3.617202          0.542312  1.843957\n",
       "2    0.852590  True  5.225197          0.791127  1.264020\n",
       "3    0.072122  True  5.627473          0.550479  1.816601\n",
       "4   -0.180657  True  5.015345          0.459316  2.177150\n",
       "..        ...   ...       ...               ...       ...\n",
       "995  0.511183  True  6.243790          0.698003  1.432658\n",
       "996  1.769538  True  5.356616          0.934521  1.070067\n",
       "997  0.462936  True  5.230462          0.683090  1.463937\n",
       "998  0.257512  True  2.857095          0.615577  1.624493\n",
       "999 -0.363763  True  5.576124          0.394604  2.534188\n",
       "\n",
       "[1000 rows x 5 columns]"
      ]
     },
     "execution_count": 7,
     "metadata": {},
     "output_type": "execute_result"
    }
   ],
   "source": [
    "cdf_1"
   ]
  },
  {
   "cell_type": "markdown",
   "metadata": {},
   "source": [
    "## Comparing the estimate to Linear Regression\n",
    "First, estimating the effect using the causal data frame, and the 95% confidence interval."
   ]
  },
  {
   "cell_type": "code",
   "execution_count": 8,
   "metadata": {
    "execution": {
     "iopub.execute_input": "2023-03-31T14:08:00.007195Z",
     "iopub.status.busy": "2023-03-31T14:08:00.006878Z",
     "iopub.status.idle": "2023-03-31T14:08:00.102997Z",
     "shell.execute_reply": "2023-03-31T14:08:00.101879Z"
    }
   },
   "outputs": [
    {
     "data": {
      "image/png": "[encoded data removed]",
      "text/latex": [
       "$\\displaystyle 4.66558853181749$"
      ],
      "text/plain": [
       "4.665588531817494"
      ]
     },
     "execution_count": 8,
     "metadata": {},
     "output_type": "execute_result"
    }
   ],
   "source": [
    "(cdf_1['y'] - cdf_0['y']).mean()"
   ]
  },
  {
   "cell_type": "code",
   "execution_count": 9,
   "metadata": {
    "execution": {
     "iopub.execute_input": "2023-03-31T14:08:00.108355Z",
     "iopub.status.busy": "2023-03-31T14:08:00.106404Z",
     "iopub.status.idle": "2023-03-31T14:08:00.139388Z",
     "shell.execute_reply": "2023-03-31T14:08:00.138473Z"
    }
   },
   "outputs": [
    {
     "data": {
      "image/png": "[encoded data removed]",
      "text/latex": [
       "$\\displaystyle 0.120734505343515$"
      ],
      "text/plain": [
       "0.12073450534351511"
      ]
     },
     "execution_count": 9,
     "metadata": {},
     "output_type": "execute_result"
    }
   ],
   "source": [
    "1.96*(cdf_1['y'] - cdf_0['y']).std() / np.sqrt(len(df))"
   ]
  },
  {
   "cell_type": "markdown",
   "metadata": {},
   "source": [
    "Comparing to the estimate from OLS."
   ]
  },
  {
   "cell_type": "code",
   "execution_count": 10,
   "metadata": {
    "execution": {
     "iopub.execute_input": "2023-03-31T14:08:00.144370Z",
     "iopub.status.busy": "2023-03-31T14:08:00.144044Z",
     "iopub.status.idle": "2023-03-31T14:08:00.166238Z",
     "shell.execute_reply": "2023-03-31T14:08:00.165194Z"
    }
   },
   "outputs": [
    {
     "data": {
      "text/html": [
       "<table class=\"simpletable\">\n",
       "<caption>OLS Regression Results</caption>\n",
       "<tr>\n",
       "  <th>Dep. Variable:</th>            <td>y</td>        <th>  R-squared (uncentered):</th>      <td>   0.947</td>\n",
       "</tr>\n",
       "<tr>\n",
       "  <th>Model:</th>                   <td>OLS</td>       <th>  Adj. R-squared (uncentered):</th> <td>   0.947</td>\n",
       "</tr>\n",
       "<tr>\n",
       "  <th>Method:</th>             <td>Least Squares</td>  <th>  F-statistic:       </th>          <td>   8945.</td>\n",
       "</tr>\n",
       "<tr>\n",
       "  <th>Date:</th>             <td>Fri, 31 Mar 2023</td> <th>  Prob (F-statistic):</th>           <td>  0.00</td> \n",
       "</tr>\n",
       "<tr>\n",
       "  <th>Time:</th>                 <td>14:08:00</td>     <th>  Log-Likelihood:    </th>          <td> -1426.9</td>\n",
       "</tr>\n",
       "<tr>\n",
       "  <th>No. Observations:</th>      <td>  1000</td>      <th>  AIC:               </th>          <td>   2858.</td>\n",
       "</tr>\n",
       "<tr>\n",
       "  <th>Df Residuals:</th>          <td>   998</td>      <th>  BIC:               </th>          <td>   2868.</td>\n",
       "</tr>\n",
       "<tr>\n",
       "  <th>Df Model:</th>              <td>     2</td>      <th>                     </th>              <td> </td>   \n",
       "</tr>\n",
       "<tr>\n",
       "  <th>Covariance Type:</th>      <td>nonrobust</td>    <th>                     </th>              <td> </td>   \n",
       "</tr>\n",
       "</table>\n",
       "<table class=\"simpletable\">\n",
       "<tr>\n",
       "   <td></td>     <th>coef</th>     <th>std err</th>      <th>t</th>      <th>P>|t|</th>  <th>[0.025</th>    <th>0.975]</th>  \n",
       "</tr>\n",
       "<tr>\n",
       "  <th>x1</th> <td>    0.8130</td> <td>    0.037</td> <td>   22.058</td> <td> 0.000</td> <td>    0.741</td> <td>    0.885</td>\n",
       "</tr>\n",
       "<tr>\n",
       "  <th>x2</th> <td>    4.7954</td> <td>    0.049</td> <td>   97.177</td> <td> 0.000</td> <td>    4.699</td> <td>    4.892</td>\n",
       "</tr>\n",
       "</table>\n",
       "<table class=\"simpletable\">\n",
       "<tr>\n",
       "  <th>Omnibus:</th>       <td> 0.751</td> <th>  Durbin-Watson:     </th> <td>   1.993</td>\n",
       "</tr>\n",
       "<tr>\n",
       "  <th>Prob(Omnibus):</th> <td> 0.687</td> <th>  Jarque-Bera (JB):  </th> <td>   0.658</td>\n",
       "</tr>\n",
       "<tr>\n",
       "  <th>Skew:</th>          <td> 0.057</td> <th>  Prob(JB):          </th> <td>   0.719</td>\n",
       "</tr>\n",
       "<tr>\n",
       "  <th>Kurtosis:</th>      <td> 3.052</td> <th>  Cond. No.          </th> <td>    2.02</td>\n",
       "</tr>\n",
       "</table><br/><br/>Notes:<br/>[1] R² is computed without centering (uncentered) since the model does not contain a constant.<br/>[2] Standard Errors assume that the covariance matrix of the errors is correctly specified."
      ],
      "text/plain": [
       "<class 'statsmodels.iolib.summary.Summary'>\n",
       "\"\"\"\n",
       "                                 OLS Regression Results                                \n",
       "=======================================================================================\n",
       "Dep. Variable:                      y   R-squared (uncentered):                   0.947\n",
       "Model:                            OLS   Adj. R-squared (uncentered):              0.947\n",
       "Method:                 Least Squares   F-statistic:                              8945.\n",
       "Date:                Fri, 31 Mar 2023   Prob (F-statistic):                        0.00\n",
       "Time:                        14:08:00   Log-Likelihood:                         -1426.9\n",
       "No. Observations:                1000   AIC:                                      2858.\n",
       "Df Residuals:                     998   BIC:                                      2868.\n",
       "Df Model:                           2                                                  \n",
       "Covariance Type:            nonrobust                                                  \n",
       "==============================================================================\n",
       "                 coef    std err          t      P>|t|      [0.025      0.975]\n",
       "------------------------------------------------------------------------------\n",
       "x1             0.8130      0.037     22.058      0.000       0.741       0.885\n",
       "x2             4.7954      0.049     97.177      0.000       4.699       4.892\n",
       "==============================================================================\n",
       "Omnibus:                        0.751   Durbin-Watson:                   1.993\n",
       "Prob(Omnibus):                  0.687   Jarque-Bera (JB):                0.658\n",
       "Skew:                           0.057   Prob(JB):                        0.719\n",
       "Kurtosis:                       3.052   Cond. No.                         2.02\n",
       "==============================================================================\n",
       "\n",
       "Notes:\n",
       "[1] R² is computed without centering (uncentered) since the model does not contain a constant.\n",
       "[2] Standard Errors assume that the covariance matrix of the errors is correctly specified.\n",
       "\"\"\""
      ]
     },
     "execution_count": 10,
     "metadata": {},
     "output_type": "execute_result"
    }
   ],
   "source": [
    "model = OLS(np.asarray(df[outcome]), np.asarray(df[[common_cause, treatment]], dtype=np.float64))\n",
    "result = model.fit()\n",
    "result.summary()"
   ]
  }
 ],
 "metadata": {
  "kernelspec": {
   "display_name": "Python 3",
   "language": "python",
   "name": "python3"
  },
  "language_info": {
   "codemirror_mode": {
    "name": "ipython",
    "version": 3
   },
   "file_extension": ".py",
   "mimetype": "text/x-python",
   "name": "python",
   "nbconvert_exporter": "python",
   "pygments_lexer": "ipython3",
   "version": "3.8.10"
  },
  "toc": {
   "base_numbering": 1,
   "nav_menu": {},
   "number_sections": false,
   "sideBar": true,
   "skip_h1_title": true,
   "title_cell": "Table of Contents",
   "title_sidebar": "Contents",
   "toc_cell": false,
   "toc_position": {},
   "toc_section_display": true,
   "toc_window_display": false
  }
 },
 "nbformat": 4,
 "nbformat_minor": 4
}
