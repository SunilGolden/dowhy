{
 "cells": [
  {
   "cell_type": "markdown",
   "metadata": {},
   "source": [
    "# Demo for the DoWhy causal API\n",
    "We show a simple example of adding a causal extension to any dataframe. "
   ]
  },
  {
   "cell_type": "code",
   "execution_count": 1,
   "metadata": {
    "execution": {
     "iopub.execute_input": "2023-12-08T19:34:36.665852Z",
     "iopub.status.busy": "2023-12-08T19:34:36.665680Z",
     "iopub.status.idle": "2023-12-08T19:34:38.018687Z",
     "shell.execute_reply": "2023-12-08T19:34:38.018145Z"
    }
   },
   "outputs": [],
   "source": [
    "import dowhy.datasets\n",
    "import dowhy.api\n",
    "from dowhy.graph import build_graph_from_str\n",
    "\n",
    "import numpy as np\n",
    "import pandas as pd\n",
    "\n",
    "from statsmodels.api import OLS"
   ]
  },
  {
   "cell_type": "code",
   "execution_count": 2,
   "metadata": {
    "execution": {
     "iopub.execute_input": "2023-12-08T19:34:38.021438Z",
     "iopub.status.busy": "2023-12-08T19:34:38.021016Z",
     "iopub.status.idle": "2023-12-08T19:34:38.058171Z",
     "shell.execute_reply": "2023-12-08T19:34:38.056862Z"
    }
   },
   "outputs": [
    {
     "data": {
      "text/html": [
       "<div>\n",
       "<style scoped>\n",
       "    .dataframe tbody tr th:only-of-type {\n",
       "        vertical-align: middle;\n",
       "    }\n",
       "\n",
       "    .dataframe tbody tr th {\n",
       "        vertical-align: top;\n",
       "    }\n",
       "\n",
       "    .dataframe thead th {\n",
       "        text-align: right;\n",
       "    }\n",
       "</style>\n",
       "<table border=\"1\" class=\"dataframe\">\n",
       "  <thead>\n",
       "    <tr style=\"text-align: right;\">\n",
       "      <th></th>\n",
       "      <th>W0</th>\n",
       "      <th>v0</th>\n",
       "      <th>y</th>\n",
       "    </tr>\n",
       "  </thead>\n",
       "  <tbody>\n",
       "    <tr>\n",
       "      <th>0</th>\n",
       "      <td>-0.042361</td>\n",
       "      <td>True</td>\n",
       "      <td>4.579060</td>\n",
       "    </tr>\n",
       "    <tr>\n",
       "      <th>1</th>\n",
       "      <td>-0.847122</td>\n",
       "      <td>True</td>\n",
       "      <td>1.415021</td>\n",
       "    </tr>\n",
       "    <tr>\n",
       "      <th>2</th>\n",
       "      <td>0.906402</td>\n",
       "      <td>False</td>\n",
       "      <td>2.066497</td>\n",
       "    </tr>\n",
       "    <tr>\n",
       "      <th>3</th>\n",
       "      <td>0.022312</td>\n",
       "      <td>True</td>\n",
       "      <td>4.834683</td>\n",
       "    </tr>\n",
       "    <tr>\n",
       "      <th>4</th>\n",
       "      <td>-0.554359</td>\n",
       "      <td>True</td>\n",
       "      <td>2.421440</td>\n",
       "    </tr>\n",
       "    <tr>\n",
       "      <th>...</th>\n",
       "      <td>...</td>\n",
       "      <td>...</td>\n",
       "      <td>...</td>\n",
       "    </tr>\n",
       "    <tr>\n",
       "      <th>995</th>\n",
       "      <td>0.615774</td>\n",
       "      <td>True</td>\n",
       "      <td>6.914126</td>\n",
       "    </tr>\n",
       "    <tr>\n",
       "      <th>996</th>\n",
       "      <td>-1.683696</td>\n",
       "      <td>False</td>\n",
       "      <td>-5.719522</td>\n",
       "    </tr>\n",
       "    <tr>\n",
       "      <th>997</th>\n",
       "      <td>1.039762</td>\n",
       "      <td>True</td>\n",
       "      <td>8.583192</td>\n",
       "    </tr>\n",
       "    <tr>\n",
       "      <th>998</th>\n",
       "      <td>-0.887531</td>\n",
       "      <td>True</td>\n",
       "      <td>1.832510</td>\n",
       "    </tr>\n",
       "    <tr>\n",
       "      <th>999</th>\n",
       "      <td>-1.786210</td>\n",
       "      <td>False</td>\n",
       "      <td>-5.511037</td>\n",
       "    </tr>\n",
       "  </tbody>\n",
       "</table>\n",
       "<p>1000 rows × 3 columns</p>\n",
       "</div>"
      ],
      "text/plain": [
       "           W0     v0         y\n",
       "0   -0.042361   True  4.579060\n",
       "1   -0.847122   True  1.415021\n",
       "2    0.906402  False  2.066497\n",
       "3    0.022312   True  4.834683\n",
       "4   -0.554359   True  2.421440\n",
       "..        ...    ...       ...\n",
       "995  0.615774   True  6.914126\n",
       "996 -1.683696  False -5.719522\n",
       "997  1.039762   True  8.583192\n",
       "998 -0.887531   True  1.832510\n",
       "999 -1.786210  False -5.511037\n",
       "\n",
       "[1000 rows x 3 columns]"
      ]
     },
     "execution_count": 2,
     "metadata": {},
     "output_type": "execute_result"
    }
   ],
   "source": [
    "data = dowhy.datasets.linear_dataset(beta=5,\n",
    "        num_common_causes=1,\n",
    "        num_instruments = 0,\n",
    "        num_samples=1000,\n",
    "        treatment_is_binary=True)\n",
    "df = data['df']\n",
    "df['y'] = df['y'] + np.random.normal(size=len(df)) # Adding noise to data. Without noise, the variance in Y|X, Z is zero, and mcmc fails.\n",
    "nx_graph = build_graph_from_str(data[\"dot_graph\"])\n",
    "\n",
    "treatment= data[\"treatment_name\"][0]\n",
    "outcome = data[\"outcome_name\"][0]\n",
    "common_cause = data[\"common_causes_names\"][0]\n",
    "df"
   ]
  },
  {
   "cell_type": "code",
   "execution_count": 3,
   "metadata": {
    "execution": {
     "iopub.execute_input": "2023-12-08T19:34:38.060420Z",
     "iopub.status.busy": "2023-12-08T19:34:38.060218Z",
     "iopub.status.idle": "2023-12-08T19:34:38.239761Z",
     "shell.execute_reply": "2023-12-08T19:34:38.239159Z"
    },
    "scrolled": true
   },
   "outputs": [
    {
     "data": {
      "text/plain": [
       "<Axes: xlabel='v0'>"
      ]
     },
     "execution_count": 3,
     "metadata": {},
     "output_type": "execute_result"
    },
    {
     "data": {
      "image/png": "[encoded data removed]",
      "text/plain": [
       "<Figure size 640x480 with 1 Axes>"
      ]
     },
     "metadata": {},
     "output_type": "display_data"
    }
   ],
   "source": [
    "# data['df'] is just a regular pandas.DataFrame\n",
    "df.causal.do(x=treatment,\n",
    "             variable_types={treatment: 'b', outcome: 'c', common_cause: 'c'},\n",
    "             outcome=outcome,\n",
    "             common_causes=[common_cause],\n",
    "            ).groupby(treatment).mean().plot(y=outcome, kind='bar')"
   ]
  },
  {
   "cell_type": "code",
   "execution_count": 4,
   "metadata": {
    "execution": {
     "iopub.execute_input": "2023-12-08T19:34:38.242359Z",
     "iopub.status.busy": "2023-12-08T19:34:38.241825Z",
     "iopub.status.idle": "2023-12-08T19:34:38.386180Z",
     "shell.execute_reply": "2023-12-08T19:34:38.385507Z"
    }
   },
   "outputs": [
    {
     "data": {
      "text/plain": [
       "<Axes: xlabel='v0'>"
      ]
     },
     "execution_count": 4,
     "metadata": {},
     "output_type": "execute_result"
    },
    {
     "data": {
      "image/png": "[encoded data removed]",
      "text/plain": [
       "<Figure size 640x480 with 1 Axes>"
      ]
     },
     "metadata": {},
     "output_type": "display_data"
    }
   ],
   "source": [
    "df.causal.do(x={treatment: 1}, \n",
    "              variable_types={treatment:'b', outcome: 'c', common_cause: 'c'}, \n",
    "              outcome=outcome,\n",
    "              method='weighting', \n",
    "              common_causes=[common_cause]\n",
    "              ).groupby(treatment).mean().plot(y=outcome, kind='bar')"
   ]
  },
  {
   "cell_type": "code",
   "execution_count": 5,
   "metadata": {
    "execution": {
     "iopub.execute_input": "2023-12-08T19:34:38.388801Z",
     "iopub.status.busy": "2023-12-08T19:34:38.388346Z",
     "iopub.status.idle": "2023-12-08T19:34:38.408859Z",
     "shell.execute_reply": "2023-12-08T19:34:38.408281Z"
    }
   },
   "outputs": [],
   "source": [
    "cdf_1 = df.causal.do(x={treatment: 1}, \n",
    "              variable_types={treatment: 'b', outcome: 'c', common_cause: 'c'}, \n",
    "              outcome=outcome, \n",
    "              graph=nx_graph\n",
    "              )\n",
    "\n",
    "cdf_0 = df.causal.do(x={treatment: 0}, \n",
    "              variable_types={treatment: 'b', outcome: 'c', common_cause: 'c'}, \n",
    "              outcome=outcome, \n",
    "              graph=nx_graph\n",
    "              )\n"
   ]
  },
  {
   "cell_type": "code",
   "execution_count": 6,
   "metadata": {
    "execution": {
     "iopub.execute_input": "2023-12-08T19:34:38.411350Z",
     "iopub.status.busy": "2023-12-08T19:34:38.410887Z",
     "iopub.status.idle": "2023-12-08T19:34:38.419963Z",
     "shell.execute_reply": "2023-12-08T19:34:38.419354Z"
    },
    "scrolled": true
   },
   "outputs": [
    {
     "data": {
      "text/html": [
       "<div>\n",
       "<style scoped>\n",
       "    .dataframe tbody tr th:only-of-type {\n",
       "        vertical-align: middle;\n",
       "    }\n",
       "\n",
       "    .dataframe tbody tr th {\n",
       "        vertical-align: top;\n",
       "    }\n",
       "\n",
       "    .dataframe thead th {\n",
       "        text-align: right;\n",
       "    }\n",
       "</style>\n",
       "<table border=\"1\" class=\"dataframe\">\n",
       "  <thead>\n",
       "    <tr style=\"text-align: right;\">\n",
       "      <th></th>\n",
       "      <th>W0</th>\n",
       "      <th>v0</th>\n",
       "      <th>y</th>\n",
       "      <th>propensity_score</th>\n",
       "      <th>weight</th>\n",
       "    </tr>\n",
       "  </thead>\n",
       "  <tbody>\n",
       "    <tr>\n",
       "      <th>0</th>\n",
       "      <td>-0.015853</td>\n",
       "      <td>False</td>\n",
       "      <td>-0.188116</td>\n",
       "      <td>0.504615</td>\n",
       "      <td>1.981710</td>\n",
       "    </tr>\n",
       "    <tr>\n",
       "      <th>1</th>\n",
       "      <td>-1.729101</td>\n",
       "      <td>False</td>\n",
       "      <td>-3.794273</td>\n",
       "      <td>0.702771</td>\n",
       "      <td>1.422938</td>\n",
       "    </tr>\n",
       "    <tr>\n",
       "      <th>2</th>\n",
       "      <td>-0.946089</td>\n",
       "      <td>False</td>\n",
       "      <td>-3.552992</td>\n",
       "      <td>0.616726</td>\n",
       "      <td>1.621465</td>\n",
       "    </tr>\n",
       "    <tr>\n",
       "      <th>3</th>\n",
       "      <td>1.401779</td>\n",
       "      <td>False</td>\n",
       "      <td>3.224941</td>\n",
       "      <td>0.336638</td>\n",
       "      <td>2.970553</td>\n",
       "    </tr>\n",
       "    <tr>\n",
       "      <th>4</th>\n",
       "      <td>-1.096269</td>\n",
       "      <td>False</td>\n",
       "      <td>-2.116055</td>\n",
       "      <td>0.634017</td>\n",
       "      <td>1.577244</td>\n",
       "    </tr>\n",
       "    <tr>\n",
       "      <th>...</th>\n",
       "      <td>...</td>\n",
       "      <td>...</td>\n",
       "      <td>...</td>\n",
       "      <td>...</td>\n",
       "      <td>...</td>\n",
       "    </tr>\n",
       "    <tr>\n",
       "      <th>995</th>\n",
       "      <td>-1.536143</td>\n",
       "      <td>False</td>\n",
       "      <td>-3.109520</td>\n",
       "      <td>0.682588</td>\n",
       "      <td>1.465013</td>\n",
       "    </tr>\n",
       "    <tr>\n",
       "      <th>996</th>\n",
       "      <td>0.495679</td>\n",
       "      <td>False</td>\n",
       "      <td>1.098077</td>\n",
       "      <td>0.442022</td>\n",
       "      <td>2.262332</td>\n",
       "    </tr>\n",
       "    <tr>\n",
       "      <th>997</th>\n",
       "      <td>-1.332220</td>\n",
       "      <td>False</td>\n",
       "      <td>-5.698594</td>\n",
       "      <td>0.660486</td>\n",
       "      <td>1.514036</td>\n",
       "    </tr>\n",
       "    <tr>\n",
       "      <th>998</th>\n",
       "      <td>0.471732</td>\n",
       "      <td>False</td>\n",
       "      <td>1.435870</td>\n",
       "      <td>0.444927</td>\n",
       "      <td>2.247562</td>\n",
       "    </tr>\n",
       "    <tr>\n",
       "      <th>999</th>\n",
       "      <td>-1.595627</td>\n",
       "      <td>False</td>\n",
       "      <td>-3.777390</td>\n",
       "      <td>0.688888</td>\n",
       "      <td>1.451614</td>\n",
       "    </tr>\n",
       "  </tbody>\n",
       "</table>\n",
       "<p>1000 rows × 5 columns</p>\n",
       "</div>"
      ],
      "text/plain": [
       "           W0     v0         y  propensity_score    weight\n",
       "0   -0.015853  False -0.188116          0.504615  1.981710\n",
       "1   -1.729101  False -3.794273          0.702771  1.422938\n",
       "2   -0.946089  False -3.552992          0.616726  1.621465\n",
       "3    1.401779  False  3.224941          0.336638  2.970553\n",
       "4   -1.096269  False -2.116055          0.634017  1.577244\n",
       "..        ...    ...       ...               ...       ...\n",
       "995 -1.536143  False -3.109520          0.682588  1.465013\n",
       "996  0.495679  False  1.098077          0.442022  2.262332\n",
       "997 -1.332220  False -5.698594          0.660486  1.514036\n",
       "998  0.471732  False  1.435870          0.444927  2.247562\n",
       "999 -1.595627  False -3.777390          0.688888  1.451614\n",
       "\n",
       "[1000 rows x 5 columns]"
      ]
     },
     "execution_count": 6,
     "metadata": {},
     "output_type": "execute_result"
    }
   ],
   "source": [
    "cdf_0"
   ]
  },
  {
   "cell_type": "code",
   "execution_count": 7,
   "metadata": {
    "execution": {
     "iopub.execute_input": "2023-12-08T19:34:38.422362Z",
     "iopub.status.busy": "2023-12-08T19:34:38.421907Z",
     "iopub.status.idle": "2023-12-08T19:34:38.430529Z",
     "shell.execute_reply": "2023-12-08T19:34:38.430021Z"
    }
   },
   "outputs": [
    {
     "data": {
      "text/html": [
       "<div>\n",
       "<style scoped>\n",
       "    .dataframe tbody tr th:only-of-type {\n",
       "        vertical-align: middle;\n",
       "    }\n",
       "\n",
       "    .dataframe tbody tr th {\n",
       "        vertical-align: top;\n",
       "    }\n",
       "\n",
       "    .dataframe thead th {\n",
       "        text-align: right;\n",
       "    }\n",
       "</style>\n",
       "<table border=\"1\" class=\"dataframe\">\n",
       "  <thead>\n",
       "    <tr style=\"text-align: right;\">\n",
       "      <th></th>\n",
       "      <th>W0</th>\n",
       "      <th>v0</th>\n",
       "      <th>y</th>\n",
       "      <th>propensity_score</th>\n",
       "      <th>weight</th>\n",
       "    </tr>\n",
       "  </thead>\n",
       "  <tbody>\n",
       "    <tr>\n",
       "      <th>0</th>\n",
       "      <td>-1.746065</td>\n",
       "      <td>True</td>\n",
       "      <td>-0.372210</td>\n",
       "      <td>0.295490</td>\n",
       "      <td>3.384212</td>\n",
       "    </tr>\n",
       "    <tr>\n",
       "      <th>1</th>\n",
       "      <td>-0.756293</td>\n",
       "      <td>True</td>\n",
       "      <td>2.239578</td>\n",
       "      <td>0.405551</td>\n",
       "      <td>2.465784</td>\n",
       "    </tr>\n",
       "    <tr>\n",
       "      <th>2</th>\n",
       "      <td>0.834249</td>\n",
       "      <td>True</td>\n",
       "      <td>7.204241</td>\n",
       "      <td>0.598536</td>\n",
       "      <td>1.670742</td>\n",
       "    </tr>\n",
       "    <tr>\n",
       "      <th>3</th>\n",
       "      <td>-0.347932</td>\n",
       "      <td>True</td>\n",
       "      <td>1.634831</td>\n",
       "      <td>0.454705</td>\n",
       "      <td>2.199229</td>\n",
       "    </tr>\n",
       "    <tr>\n",
       "      <th>4</th>\n",
       "      <td>0.967702</td>\n",
       "      <td>True</td>\n",
       "      <td>8.417079</td>\n",
       "      <td>0.614191</td>\n",
       "      <td>1.628158</td>\n",
       "    </tr>\n",
       "    <tr>\n",
       "      <th>...</th>\n",
       "      <td>...</td>\n",
       "      <td>...</td>\n",
       "      <td>...</td>\n",
       "      <td>...</td>\n",
       "      <td>...</td>\n",
       "    </tr>\n",
       "    <tr>\n",
       "      <th>995</th>\n",
       "      <td>0.209915</td>\n",
       "      <td>True</td>\n",
       "      <td>5.496323</td>\n",
       "      <td>0.523110</td>\n",
       "      <td>1.911643</td>\n",
       "    </tr>\n",
       "    <tr>\n",
       "      <th>996</th>\n",
       "      <td>0.209915</td>\n",
       "      <td>True</td>\n",
       "      <td>5.496323</td>\n",
       "      <td>0.523110</td>\n",
       "      <td>1.911643</td>\n",
       "    </tr>\n",
       "    <tr>\n",
       "      <th>997</th>\n",
       "      <td>0.177552</td>\n",
       "      <td>True</td>\n",
       "      <td>6.457450</td>\n",
       "      <td>0.519141</td>\n",
       "      <td>1.926261</td>\n",
       "    </tr>\n",
       "    <tr>\n",
       "      <th>998</th>\n",
       "      <td>-1.710444</td>\n",
       "      <td>True</td>\n",
       "      <td>-0.037843</td>\n",
       "      <td>0.299147</td>\n",
       "      <td>3.342833</td>\n",
       "    </tr>\n",
       "    <tr>\n",
       "      <th>999</th>\n",
       "      <td>0.032186</td>\n",
       "      <td>True</td>\n",
       "      <td>6.050832</td>\n",
       "      <td>0.501288</td>\n",
       "      <td>1.994861</td>\n",
       "    </tr>\n",
       "  </tbody>\n",
       "</table>\n",
       "<p>1000 rows × 5 columns</p>\n",
       "</div>"
      ],
      "text/plain": [
       "           W0    v0         y  propensity_score    weight\n",
       "0   -1.746065  True -0.372210          0.295490  3.384212\n",
       "1   -0.756293  True  2.239578          0.405551  2.465784\n",
       "2    0.834249  True  7.204241          0.598536  1.670742\n",
       "3   -0.347932  True  1.634831          0.454705  2.199229\n",
       "4    0.967702  True  8.417079          0.614191  1.628158\n",
       "..        ...   ...       ...               ...       ...\n",
       "995  0.209915  True  5.496323          0.523110  1.911643\n",
       "996  0.209915  True  5.496323          0.523110  1.911643\n",
       "997  0.177552  True  6.457450          0.519141  1.926261\n",
       "998 -1.710444  True -0.037843          0.299147  3.342833\n",
       "999  0.032186  True  6.050832          0.501288  1.994861\n",
       "\n",
       "[1000 rows x 5 columns]"
      ]
     },
     "execution_count": 7,
     "metadata": {},
     "output_type": "execute_result"
    }
   ],
   "source": [
    "cdf_1"
   ]
  },
  {
   "cell_type": "markdown",
   "metadata": {},
   "source": [
    "## Comparing the estimate to Linear Regression\n",
    "First, estimating the effect using the causal data frame, and the 95% confidence interval."
   ]
  },
  {
   "cell_type": "code",
   "execution_count": 8,
   "metadata": {
    "execution": {
     "iopub.execute_input": "2023-12-08T19:34:38.432850Z",
     "iopub.status.busy": "2023-12-08T19:34:38.432504Z",
     "iopub.status.idle": "2023-12-08T19:34:38.558163Z",
     "shell.execute_reply": "2023-12-08T19:34:38.557550Z"
    }
   },
   "outputs": [
    {
     "data": {
      "image/png": "[encoded data removed]",
      "text/latex": [
       "$\\displaystyle 5.11796053880915$"
      ],
      "text/plain": [
       "5.117960538809153"
      ]
     },
     "execution_count": 8,
     "metadata": {},
     "output_type": "execute_result"
    }
   ],
   "source": [
    "(cdf_1['y'] - cdf_0['y']).mean()"
   ]
  },
  {
   "cell_type": "code",
   "execution_count": 9,
   "metadata": {
    "execution": {
     "iopub.execute_input": "2023-12-08T19:34:38.560482Z",
     "iopub.status.busy": "2023-12-08T19:34:38.560195Z",
     "iopub.status.idle": "2023-12-08T19:34:38.576955Z",
     "shell.execute_reply": "2023-12-08T19:34:38.576419Z"
    }
   },
   "outputs": [
    {
     "data": {
      "image/png": "[encoded data removed]",
      "text/latex": [
       "$\\displaystyle 0.252646888804366$"
      ],
      "text/plain": [
       "0.2526468888043658"
      ]
     },
     "execution_count": 9,
     "metadata": {},
     "output_type": "execute_result"
    }
   ],
   "source": [
    "1.96*(cdf_1['y'] - cdf_0['y']).std() / np.sqrt(len(df))"
   ]
  },
  {
   "cell_type": "markdown",
   "metadata": {},
   "source": [
    "Comparing to the estimate from OLS."
   ]
  },
  {
   "cell_type": "code",
   "execution_count": 10,
   "metadata": {
    "execution": {
     "iopub.execute_input": "2023-12-08T19:34:38.579168Z",
     "iopub.status.busy": "2023-12-08T19:34:38.578846Z",
     "iopub.status.idle": "2023-12-08T19:34:38.595371Z",
     "shell.execute_reply": "2023-12-08T19:34:38.594810Z"
    }
   },
   "outputs": [
    {
     "data": {
      "text/html": [
       "<table class=\"simpletable\">\n",
       "<caption>OLS Regression Results</caption>\n",
       "<tr>\n",
       "  <th>Dep. Variable:</th>            <td>y</td>        <th>  R-squared (uncentered):</th>      <td>   0.950</td>\n",
       "</tr>\n",
       "<tr>\n",
       "  <th>Model:</th>                   <td>OLS</td>       <th>  Adj. R-squared (uncentered):</th> <td>   0.950</td>\n",
       "</tr>\n",
       "<tr>\n",
       "  <th>Method:</th>             <td>Least Squares</td>  <th>  F-statistic:       </th>          <td>   9426.</td>\n",
       "</tr>\n",
       "<tr>\n",
       "  <th>Date:</th>             <td>Fri, 08 Dec 2023</td> <th>  Prob (F-statistic):</th>           <td>  0.00</td> \n",
       "</tr>\n",
       "<tr>\n",
       "  <th>Time:</th>                 <td>19:34:38</td>     <th>  Log-Likelihood:    </th>          <td> -1413.6</td>\n",
       "</tr>\n",
       "<tr>\n",
       "  <th>No. Observations:</th>      <td>  1000</td>      <th>  AIC:               </th>          <td>   2831.</td>\n",
       "</tr>\n",
       "<tr>\n",
       "  <th>Df Residuals:</th>          <td>   998</td>      <th>  BIC:               </th>          <td>   2841.</td>\n",
       "</tr>\n",
       "<tr>\n",
       "  <th>Df Model:</th>              <td>     2</td>      <th>                     </th>              <td> </td>   \n",
       "</tr>\n",
       "<tr>\n",
       "  <th>Covariance Type:</th>      <td>nonrobust</td>    <th>                     </th>              <td> </td>   \n",
       "</tr>\n",
       "</table>\n",
       "<table class=\"simpletable\">\n",
       "<tr>\n",
       "   <td></td>     <th>coef</th>     <th>std err</th>      <th>t</th>      <th>P>|t|</th>  <th>[0.025</th>    <th>0.975]</th>  \n",
       "</tr>\n",
       "<tr>\n",
       "  <th>x1</th> <td>    2.7566</td> <td>    0.031</td> <td>   87.909</td> <td> 0.000</td> <td>    2.695</td> <td>    2.818</td>\n",
       "</tr>\n",
       "<tr>\n",
       "  <th>x2</th> <td>    4.9654</td> <td>    0.046</td> <td>  107.623</td> <td> 0.000</td> <td>    4.875</td> <td>    5.056</td>\n",
       "</tr>\n",
       "</table>\n",
       "<table class=\"simpletable\">\n",
       "<tr>\n",
       "  <th>Omnibus:</th>       <td> 1.451</td> <th>  Durbin-Watson:     </th> <td>   1.928</td>\n",
       "</tr>\n",
       "<tr>\n",
       "  <th>Prob(Omnibus):</th> <td> 0.484</td> <th>  Jarque-Bera (JB):  </th> <td>   1.313</td>\n",
       "</tr>\n",
       "<tr>\n",
       "  <th>Skew:</th>          <td>-0.065</td> <th>  Prob(JB):          </th> <td>   0.519</td>\n",
       "</tr>\n",
       "<tr>\n",
       "  <th>Kurtosis:</th>      <td> 3.120</td> <th>  Cond. No.          </th> <td>    1.47</td>\n",
       "</tr>\n",
       "</table><br/><br/>Notes:<br/>[1] R² is computed without centering (uncentered) since the model does not contain a constant.<br/>[2] Standard Errors assume that the covariance matrix of the errors is correctly specified."
      ],
      "text/latex": [
       "\\begin{center}\n",
       "\\begin{tabular}{lclc}\n",
       "\\toprule\n",
       "\\textbf{Dep. Variable:}    &        y         & \\textbf{  R-squared (uncentered):}      &     0.950   \\\\\n",
       "\\textbf{Model:}            &       OLS        & \\textbf{  Adj. R-squared (uncentered):} &     0.950   \\\\\n",
       "\\textbf{Method:}           &  Least Squares   & \\textbf{  F-statistic:       }          &     9426.   \\\\\n",
       "\\textbf{Date:}             & Fri, 08 Dec 2023 & \\textbf{  Prob (F-statistic):}          &     0.00    \\\\\n",
       "\\textbf{Time:}             &     19:34:38     & \\textbf{  Log-Likelihood:    }          &   -1413.6   \\\\\n",
       "\\textbf{No. Observations:} &        1000      & \\textbf{  AIC:               }          &     2831.   \\\\\n",
       "\\textbf{Df Residuals:}     &         998      & \\textbf{  BIC:               }          &     2841.   \\\\\n",
       "\\textbf{Df Model:}         &           2      & \\textbf{                     }          &             \\\\\n",
       "\\textbf{Covariance Type:}  &    nonrobust     & \\textbf{                     }          &             \\\\\n",
       "\\bottomrule\n",
       "\\end{tabular}\n",
       "\\begin{tabular}{lcccccc}\n",
       "            & \\textbf{coef} & \\textbf{std err} & \\textbf{t} & \\textbf{P$> |$t$|$} & \\textbf{[0.025} & \\textbf{0.975]}  \\\\\n",
       "\\midrule\n",
       "\\textbf{x1} &       2.7566  &        0.031     &    87.909  &         0.000        &        2.695    &        2.818     \\\\\n",
       "\\textbf{x2} &       4.9654  &        0.046     &   107.623  &         0.000        &        4.875    &        5.056     \\\\\n",
       "\\bottomrule\n",
       "\\end{tabular}\n",
       "\\begin{tabular}{lclc}\n",
       "\\textbf{Omnibus:}       &  1.451 & \\textbf{  Durbin-Watson:     } &    1.928  \\\\\n",
       "\\textbf{Prob(Omnibus):} &  0.484 & \\textbf{  Jarque-Bera (JB):  } &    1.313  \\\\\n",
       "\\textbf{Skew:}          & -0.065 & \\textbf{  Prob(JB):          } &    0.519  \\\\\n",
       "\\textbf{Kurtosis:}      &  3.120 & \\textbf{  Cond. No.          } &     1.47  \\\\\n",
       "\\bottomrule\n",
       "\\end{tabular}\n",
       "%\\caption{OLS Regression Results}\n",
       "\\end{center}\n",
       "\n",
       "Notes: \\newline\n",
       " [1] R² is computed without centering (uncentered) since the model does not contain a constant. \\newline\n",
       " [2] Standard Errors assume that the covariance matrix of the errors is correctly specified."
      ],
      "text/plain": [
       "<class 'statsmodels.iolib.summary.Summary'>\n",
       "\"\"\"\n",
       "                                 OLS Regression Results                                \n",
       "=======================================================================================\n",
       "Dep. Variable:                      y   R-squared (uncentered):                   0.950\n",
       "Model:                            OLS   Adj. R-squared (uncentered):              0.950\n",
       "Method:                 Least Squares   F-statistic:                              9426.\n",
       "Date:                Fri, 08 Dec 2023   Prob (F-statistic):                        0.00\n",
       "Time:                        19:34:38   Log-Likelihood:                         -1413.6\n",
       "No. Observations:                1000   AIC:                                      2831.\n",
       "Df Residuals:                     998   BIC:                                      2841.\n",
       "Df Model:                           2                                                  \n",
       "Covariance Type:            nonrobust                                                  \n",
       "==============================================================================\n",
       "                 coef    std err          t      P>|t|      [0.025      0.975]\n",
       "------------------------------------------------------------------------------\n",
       "x1             2.7566      0.031     87.909      0.000       2.695       2.818\n",
       "x2             4.9654      0.046    107.623      0.000       4.875       5.056\n",
       "==============================================================================\n",
       "Omnibus:                        1.451   Durbin-Watson:                   1.928\n",
       "Prob(Omnibus):                  0.484   Jarque-Bera (JB):                1.313\n",
       "Skew:                          -0.065   Prob(JB):                        0.519\n",
       "Kurtosis:                       3.120   Cond. No.                         1.47\n",
       "==============================================================================\n",
       "\n",
       "Notes:\n",
       "[1] R² is computed without centering (uncentered) since the model does not contain a constant.\n",
       "[2] Standard Errors assume that the covariance matrix of the errors is correctly specified.\n",
       "\"\"\""
      ]
     },
     "execution_count": 10,
     "metadata": {},
     "output_type": "execute_result"
    }
   ],
   "source": [
    "model = OLS(np.asarray(df[outcome]), np.asarray(df[[common_cause, treatment]], dtype=np.float64))\n",
    "result = model.fit()\n",
    "result.summary()"
   ]
  }
 ],
 "metadata": {
  "kernelspec": {
   "display_name": "Python 3 (ipykernel)",
   "language": "python",
   "name": "python3"
  },
  "language_info": {
   "codemirror_mode": {
    "name": "ipython",
    "version": 3
   },
   "file_extension": ".py",
   "mimetype": "text/x-python",
   "name": "python",
   "nbconvert_exporter": "python",
   "pygments_lexer": "ipython3",
   "version": "3.8.10"
  },
  "toc": {
   "base_numbering": 1,
   "nav_menu": {},
   "number_sections": false,
   "sideBar": true,
   "skip_h1_title": true,
   "title_cell": "Table of Contents",
   "title_sidebar": "Contents",
   "toc_cell": false,
   "toc_position": {},
   "toc_section_display": true,
   "toc_window_display": false
  }
 },
 "nbformat": 4,
 "nbformat_minor": 4
}
