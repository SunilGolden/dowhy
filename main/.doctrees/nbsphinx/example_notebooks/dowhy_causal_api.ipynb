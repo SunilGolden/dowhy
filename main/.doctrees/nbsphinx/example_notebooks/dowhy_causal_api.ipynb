{
 "cells": [
  {
   "cell_type": "markdown",
   "metadata": {},
   "source": [
    "# Demo for the DoWhy causal API\n",
    "We show a simple example of adding a causal extension to any dataframe. "
   ]
  },
  {
   "cell_type": "code",
   "execution_count": 1,
   "metadata": {
    "execution": {
     "iopub.execute_input": "2023-03-15T20:02:10.577421Z",
     "iopub.status.busy": "2023-03-15T20:02:10.577042Z",
     "iopub.status.idle": "2023-03-15T20:02:12.295859Z",
     "shell.execute_reply": "2023-03-15T20:02:12.295119Z"
    }
   },
   "outputs": [],
   "source": [
    "import dowhy.datasets\n",
    "import dowhy.api\n",
    "\n",
    "import numpy as np\n",
    "import pandas as pd\n",
    "\n",
    "from statsmodels.api import OLS"
   ]
  },
  {
   "cell_type": "code",
   "execution_count": 2,
   "metadata": {
    "execution": {
     "iopub.execute_input": "2023-03-15T20:02:12.299724Z",
     "iopub.status.busy": "2023-03-15T20:02:12.299296Z",
     "iopub.status.idle": "2023-03-15T20:02:12.344647Z",
     "shell.execute_reply": "2023-03-15T20:02:12.344023Z"
    }
   },
   "outputs": [
    {
     "data": {
      "text/html": [
       "<div>\n",
       "<style scoped>\n",
       "    .dataframe tbody tr th:only-of-type {\n",
       "        vertical-align: middle;\n",
       "    }\n",
       "\n",
       "    .dataframe tbody tr th {\n",
       "        vertical-align: top;\n",
       "    }\n",
       "\n",
       "    .dataframe thead th {\n",
       "        text-align: right;\n",
       "    }\n",
       "</style>\n",
       "<table border=\"1\" class=\"dataframe\">\n",
       "  <thead>\n",
       "    <tr style=\"text-align: right;\">\n",
       "      <th></th>\n",
       "      <th>W0</th>\n",
       "      <th>v0</th>\n",
       "      <th>y</th>\n",
       "    </tr>\n",
       "  </thead>\n",
       "  <tbody>\n",
       "    <tr>\n",
       "      <th>0</th>\n",
       "      <td>1.340347</td>\n",
       "      <td>True</td>\n",
       "      <td>7.340040</td>\n",
       "    </tr>\n",
       "    <tr>\n",
       "      <th>1</th>\n",
       "      <td>0.470065</td>\n",
       "      <td>True</td>\n",
       "      <td>4.349850</td>\n",
       "    </tr>\n",
       "    <tr>\n",
       "      <th>2</th>\n",
       "      <td>-2.659587</td>\n",
       "      <td>False</td>\n",
       "      <td>-1.341256</td>\n",
       "    </tr>\n",
       "    <tr>\n",
       "      <th>3</th>\n",
       "      <td>0.846692</td>\n",
       "      <td>True</td>\n",
       "      <td>5.157265</td>\n",
       "    </tr>\n",
       "    <tr>\n",
       "      <th>4</th>\n",
       "      <td>1.683904</td>\n",
       "      <td>True</td>\n",
       "      <td>6.505777</td>\n",
       "    </tr>\n",
       "    <tr>\n",
       "      <th>...</th>\n",
       "      <td>...</td>\n",
       "      <td>...</td>\n",
       "      <td>...</td>\n",
       "    </tr>\n",
       "    <tr>\n",
       "      <th>995</th>\n",
       "      <td>-1.333868</td>\n",
       "      <td>False</td>\n",
       "      <td>-3.289519</td>\n",
       "    </tr>\n",
       "    <tr>\n",
       "      <th>996</th>\n",
       "      <td>0.339126</td>\n",
       "      <td>True</td>\n",
       "      <td>4.310804</td>\n",
       "    </tr>\n",
       "    <tr>\n",
       "      <th>997</th>\n",
       "      <td>0.050584</td>\n",
       "      <td>False</td>\n",
       "      <td>-0.497140</td>\n",
       "    </tr>\n",
       "    <tr>\n",
       "      <th>998</th>\n",
       "      <td>-1.041022</td>\n",
       "      <td>True</td>\n",
       "      <td>5.122790</td>\n",
       "    </tr>\n",
       "    <tr>\n",
       "      <th>999</th>\n",
       "      <td>0.027594</td>\n",
       "      <td>True</td>\n",
       "      <td>5.423758</td>\n",
       "    </tr>\n",
       "  </tbody>\n",
       "</table>\n",
       "<p>1000 rows × 3 columns</p>\n",
       "</div>"
      ],
      "text/plain": [
       "           W0     v0         y\n",
       "0    1.340347   True  7.340040\n",
       "1    0.470065   True  4.349850\n",
       "2   -2.659587  False -1.341256\n",
       "3    0.846692   True  5.157265\n",
       "4    1.683904   True  6.505777\n",
       "..        ...    ...       ...\n",
       "995 -1.333868  False -3.289519\n",
       "996  0.339126   True  4.310804\n",
       "997  0.050584  False -0.497140\n",
       "998 -1.041022   True  5.122790\n",
       "999  0.027594   True  5.423758\n",
       "\n",
       "[1000 rows x 3 columns]"
      ]
     },
     "execution_count": 2,
     "metadata": {},
     "output_type": "execute_result"
    }
   ],
   "source": [
    "data = dowhy.datasets.linear_dataset(beta=5,\n",
    "        num_common_causes=1,\n",
    "        num_instruments = 0,\n",
    "        num_samples=1000,\n",
    "        treatment_is_binary=True)\n",
    "df = data['df']\n",
    "df['y'] = df['y'] + np.random.normal(size=len(df)) # Adding noise to data. Without noise, the variance in Y|X, Z is zero, and mcmc fails.\n",
    "#data['dot_graph'] = 'digraph { v ->y;X0-> v;X0-> y;}'\n",
    "\n",
    "treatment= data[\"treatment_name\"][0]\n",
    "outcome = data[\"outcome_name\"][0]\n",
    "common_cause = data[\"common_causes_names\"][0]\n",
    "df"
   ]
  },
  {
   "cell_type": "code",
   "execution_count": 3,
   "metadata": {
    "execution": {
     "iopub.execute_input": "2023-03-15T20:02:12.347920Z",
     "iopub.status.busy": "2023-03-15T20:02:12.347486Z",
     "iopub.status.idle": "2023-03-15T20:02:12.501965Z",
     "shell.execute_reply": "2023-03-15T20:02:12.501400Z"
    }
   },
   "outputs": [
    {
     "data": {
      "text/plain": [
       "<AxesSubplot: xlabel='v0'>"
      ]
     },
     "execution_count": 3,
     "metadata": {},
     "output_type": "execute_result"
    },
    {
     "data": {
      "image/png": "[encoded data removed]",
      "text/plain": [
       "<Figure size 640x480 with 1 Axes>"
      ]
     },
     "metadata": {},
     "output_type": "display_data"
    }
   ],
   "source": [
    "# data['df'] is just a regular pandas.DataFrame\n",
    "df.causal.do(x=treatment,\n",
    "                     variable_types={treatment: 'b', outcome: 'c', common_cause: 'c'},\n",
    "                     outcome=outcome,\n",
    "                     common_causes=[common_cause],\n",
    "                     proceed_when_unidentifiable=True).groupby(treatment).mean().plot(y=outcome, kind='bar')"
   ]
  },
  {
   "cell_type": "code",
   "execution_count": 4,
   "metadata": {
    "execution": {
     "iopub.execute_input": "2023-03-15T20:02:12.505033Z",
     "iopub.status.busy": "2023-03-15T20:02:12.504583Z",
     "iopub.status.idle": "2023-03-15T20:02:12.622088Z",
     "shell.execute_reply": "2023-03-15T20:02:12.621521Z"
    }
   },
   "outputs": [
    {
     "data": {
      "text/plain": [
       "<AxesSubplot: xlabel='v0'>"
      ]
     },
     "execution_count": 4,
     "metadata": {},
     "output_type": "execute_result"
    },
    {
     "data": {
      "image/png": "[encoded data removed]",
      "text/plain": [
       "<Figure size 640x480 with 1 Axes>"
      ]
     },
     "metadata": {},
     "output_type": "display_data"
    }
   ],
   "source": [
    "df.causal.do(x={treatment: 1}, \n",
    "              variable_types={treatment:'b', outcome: 'c', common_cause: 'c'}, \n",
    "              outcome=outcome,\n",
    "              method='weighting', \n",
    "              common_causes=[common_cause],\n",
    "              proceed_when_unidentifiable=True).groupby(treatment).mean().plot(y=outcome, kind='bar')"
   ]
  },
  {
   "cell_type": "code",
   "execution_count": 5,
   "metadata": {
    "execution": {
     "iopub.execute_input": "2023-03-15T20:02:12.625083Z",
     "iopub.status.busy": "2023-03-15T20:02:12.624653Z",
     "iopub.status.idle": "2023-03-15T20:02:12.765410Z",
     "shell.execute_reply": "2023-03-15T20:02:12.764749Z"
    }
   },
   "outputs": [],
   "source": [
    "cdf_1 = df.causal.do(x={treatment: 1}, \n",
    "              variable_types={treatment: 'b', outcome: 'c', common_cause: 'c'}, \n",
    "              outcome=outcome, \n",
    "              dot_graph=data['dot_graph'],\n",
    "              proceed_when_unidentifiable=True)\n",
    "\n",
    "cdf_0 = df.causal.do(x={treatment: 0}, \n",
    "              variable_types={treatment: 'b', outcome: 'c', common_cause: 'c'}, \n",
    "              outcome=outcome, \n",
    "              dot_graph=data['dot_graph'],\n",
    "              proceed_when_unidentifiable=True)\n"
   ]
  },
  {
   "cell_type": "code",
   "execution_count": 6,
   "metadata": {
    "execution": {
     "iopub.execute_input": "2023-03-15T20:02:12.768876Z",
     "iopub.status.busy": "2023-03-15T20:02:12.768491Z",
     "iopub.status.idle": "2023-03-15T20:02:12.781353Z",
     "shell.execute_reply": "2023-03-15T20:02:12.780811Z"
    },
    "scrolled": true
   },
   "outputs": [
    {
     "data": {
      "text/html": [
       "<div>\n",
       "<style scoped>\n",
       "    .dataframe tbody tr th:only-of-type {\n",
       "        vertical-align: middle;\n",
       "    }\n",
       "\n",
       "    .dataframe tbody tr th {\n",
       "        vertical-align: top;\n",
       "    }\n",
       "\n",
       "    .dataframe thead th {\n",
       "        text-align: right;\n",
       "    }\n",
       "</style>\n",
       "<table border=\"1\" class=\"dataframe\">\n",
       "  <thead>\n",
       "    <tr style=\"text-align: right;\">\n",
       "      <th></th>\n",
       "      <th>W0</th>\n",
       "      <th>v0</th>\n",
       "      <th>y</th>\n",
       "      <th>propensity_score</th>\n",
       "      <th>weight</th>\n",
       "    </tr>\n",
       "  </thead>\n",
       "  <tbody>\n",
       "    <tr>\n",
       "      <th>0</th>\n",
       "      <td>-0.821278</td>\n",
       "      <td>False</td>\n",
       "      <td>0.596769</td>\n",
       "      <td>0.797211</td>\n",
       "      <td>1.254373</td>\n",
       "    </tr>\n",
       "    <tr>\n",
       "      <th>1</th>\n",
       "      <td>-1.354589</td>\n",
       "      <td>False</td>\n",
       "      <td>-1.594754</td>\n",
       "      <td>0.907381</td>\n",
       "      <td>1.102073</td>\n",
       "    </tr>\n",
       "    <tr>\n",
       "      <th>2</th>\n",
       "      <td>1.319625</td>\n",
       "      <td>False</td>\n",
       "      <td>1.547649</td>\n",
       "      <td>0.091405</td>\n",
       "      <td>10.940379</td>\n",
       "    </tr>\n",
       "    <tr>\n",
       "      <th>3</th>\n",
       "      <td>-0.537935</td>\n",
       "      <td>False</td>\n",
       "      <td>0.405684</td>\n",
       "      <td>0.707615</td>\n",
       "      <td>1.413199</td>\n",
       "    </tr>\n",
       "    <tr>\n",
       "      <th>4</th>\n",
       "      <td>1.206744</td>\n",
       "      <td>False</td>\n",
       "      <td>1.113985</td>\n",
       "      <td>0.108773</td>\n",
       "      <td>9.193447</td>\n",
       "    </tr>\n",
       "    <tr>\n",
       "      <th>...</th>\n",
       "      <td>...</td>\n",
       "      <td>...</td>\n",
       "      <td>...</td>\n",
       "      <td>...</td>\n",
       "      <td>...</td>\n",
       "    </tr>\n",
       "    <tr>\n",
       "      <th>995</th>\n",
       "      <td>1.145705</td>\n",
       "      <td>False</td>\n",
       "      <td>1.585617</td>\n",
       "      <td>0.119326</td>\n",
       "      <td>8.380385</td>\n",
       "    </tr>\n",
       "    <tr>\n",
       "      <th>996</th>\n",
       "      <td>-0.668000</td>\n",
       "      <td>False</td>\n",
       "      <td>0.489214</td>\n",
       "      <td>0.751479</td>\n",
       "      <td>1.330709</td>\n",
       "    </tr>\n",
       "    <tr>\n",
       "      <th>997</th>\n",
       "      <td>1.067029</td>\n",
       "      <td>False</td>\n",
       "      <td>-0.245642</td>\n",
       "      <td>0.134224</td>\n",
       "      <td>7.450260</td>\n",
       "    </tr>\n",
       "    <tr>\n",
       "      <th>998</th>\n",
       "      <td>-0.765090</td>\n",
       "      <td>False</td>\n",
       "      <td>-0.220631</td>\n",
       "      <td>0.781213</td>\n",
       "      <td>1.280060</td>\n",
       "    </tr>\n",
       "    <tr>\n",
       "      <th>999</th>\n",
       "      <td>-0.583189</td>\n",
       "      <td>False</td>\n",
       "      <td>0.180912</td>\n",
       "      <td>0.723384</td>\n",
       "      <td>1.382392</td>\n",
       "    </tr>\n",
       "  </tbody>\n",
       "</table>\n",
       "<p>1000 rows × 5 columns</p>\n",
       "</div>"
      ],
      "text/plain": [
       "           W0     v0         y  propensity_score     weight\n",
       "0   -0.821278  False  0.596769          0.797211   1.254373\n",
       "1   -1.354589  False -1.594754          0.907381   1.102073\n",
       "2    1.319625  False  1.547649          0.091405  10.940379\n",
       "3   -0.537935  False  0.405684          0.707615   1.413199\n",
       "4    1.206744  False  1.113985          0.108773   9.193447\n",
       "..        ...    ...       ...               ...        ...\n",
       "995  1.145705  False  1.585617          0.119326   8.380385\n",
       "996 -0.668000  False  0.489214          0.751479   1.330709\n",
       "997  1.067029  False -0.245642          0.134224   7.450260\n",
       "998 -0.765090  False -0.220631          0.781213   1.280060\n",
       "999 -0.583189  False  0.180912          0.723384   1.382392\n",
       "\n",
       "[1000 rows x 5 columns]"
      ]
     },
     "execution_count": 6,
     "metadata": {},
     "output_type": "execute_result"
    }
   ],
   "source": [
    "cdf_0"
   ]
  },
  {
   "cell_type": "code",
   "execution_count": 7,
   "metadata": {
    "execution": {
     "iopub.execute_input": "2023-03-15T20:02:12.784122Z",
     "iopub.status.busy": "2023-03-15T20:02:12.783730Z",
     "iopub.status.idle": "2023-03-15T20:02:12.793773Z",
     "shell.execute_reply": "2023-03-15T20:02:12.793149Z"
    }
   },
   "outputs": [
    {
     "data": {
      "text/html": [
       "<div>\n",
       "<style scoped>\n",
       "    .dataframe tbody tr th:only-of-type {\n",
       "        vertical-align: middle;\n",
       "    }\n",
       "\n",
       "    .dataframe tbody tr th {\n",
       "        vertical-align: top;\n",
       "    }\n",
       "\n",
       "    .dataframe thead th {\n",
       "        text-align: right;\n",
       "    }\n",
       "</style>\n",
       "<table border=\"1\" class=\"dataframe\">\n",
       "  <thead>\n",
       "    <tr style=\"text-align: right;\">\n",
       "      <th></th>\n",
       "      <th>W0</th>\n",
       "      <th>v0</th>\n",
       "      <th>y</th>\n",
       "      <th>propensity_score</th>\n",
       "      <th>weight</th>\n",
       "    </tr>\n",
       "  </thead>\n",
       "  <tbody>\n",
       "    <tr>\n",
       "      <th>0</th>\n",
       "      <td>-0.257210</td>\n",
       "      <td>True</td>\n",
       "      <td>2.978846</td>\n",
       "      <td>0.400548</td>\n",
       "      <td>2.496578</td>\n",
       "    </tr>\n",
       "    <tr>\n",
       "      <th>1</th>\n",
       "      <td>-1.912557</td>\n",
       "      <td>True</td>\n",
       "      <td>3.713601</td>\n",
       "      <td>0.037783</td>\n",
       "      <td>26.467203</td>\n",
       "    </tr>\n",
       "    <tr>\n",
       "      <th>2</th>\n",
       "      <td>-0.255877</td>\n",
       "      <td>True</td>\n",
       "      <td>4.387382</td>\n",
       "      <td>0.401096</td>\n",
       "      <td>2.493166</td>\n",
       "    </tr>\n",
       "    <tr>\n",
       "      <th>3</th>\n",
       "      <td>-0.634019</td>\n",
       "      <td>True</td>\n",
       "      <td>4.885143</td>\n",
       "      <td>0.259545</td>\n",
       "      <td>3.852900</td>\n",
       "    </tr>\n",
       "    <tr>\n",
       "      <th>4</th>\n",
       "      <td>1.471088</td>\n",
       "      <td>True</td>\n",
       "      <td>4.915131</td>\n",
       "      <td>0.927971</td>\n",
       "      <td>1.077620</td>\n",
       "    </tr>\n",
       "    <tr>\n",
       "      <th>...</th>\n",
       "      <td>...</td>\n",
       "      <td>...</td>\n",
       "      <td>...</td>\n",
       "      <td>...</td>\n",
       "      <td>...</td>\n",
       "    </tr>\n",
       "    <tr>\n",
       "      <th>995</th>\n",
       "      <td>1.092960</td>\n",
       "      <td>True</td>\n",
       "      <td>6.565234</td>\n",
       "      <td>0.870853</td>\n",
       "      <td>1.148300</td>\n",
       "    </tr>\n",
       "    <tr>\n",
       "      <th>996</th>\n",
       "      <td>0.254600</td>\n",
       "      <td>True</td>\n",
       "      <td>4.614615</td>\n",
       "      <td>0.616121</td>\n",
       "      <td>1.623057</td>\n",
       "    </tr>\n",
       "    <tr>\n",
       "      <th>997</th>\n",
       "      <td>0.148020</td>\n",
       "      <td>True</td>\n",
       "      <td>6.168556</td>\n",
       "      <td>0.572152</td>\n",
       "      <td>1.747789</td>\n",
       "    </tr>\n",
       "    <tr>\n",
       "      <th>998</th>\n",
       "      <td>-0.248342</td>\n",
       "      <td>True</td>\n",
       "      <td>5.765298</td>\n",
       "      <td>0.404200</td>\n",
       "      <td>2.474026</td>\n",
       "    </tr>\n",
       "    <tr>\n",
       "      <th>999</th>\n",
       "      <td>-0.963650</td>\n",
       "      <td>True</td>\n",
       "      <td>6.026111</td>\n",
       "      <td>0.166212</td>\n",
       "      <td>6.016417</td>\n",
       "    </tr>\n",
       "  </tbody>\n",
       "</table>\n",
       "<p>1000 rows × 5 columns</p>\n",
       "</div>"
      ],
      "text/plain": [
       "           W0    v0         y  propensity_score     weight\n",
       "0   -0.257210  True  2.978846          0.400548   2.496578\n",
       "1   -1.912557  True  3.713601          0.037783  26.467203\n",
       "2   -0.255877  True  4.387382          0.401096   2.493166\n",
       "3   -0.634019  True  4.885143          0.259545   3.852900\n",
       "4    1.471088  True  4.915131          0.927971   1.077620\n",
       "..        ...   ...       ...               ...        ...\n",
       "995  1.092960  True  6.565234          0.870853   1.148300\n",
       "996  0.254600  True  4.614615          0.616121   1.623057\n",
       "997  0.148020  True  6.168556          0.572152   1.747789\n",
       "998 -0.248342  True  5.765298          0.404200   2.474026\n",
       "999 -0.963650  True  6.026111          0.166212   6.016417\n",
       "\n",
       "[1000 rows x 5 columns]"
      ]
     },
     "execution_count": 7,
     "metadata": {},
     "output_type": "execute_result"
    }
   ],
   "source": [
    "cdf_1"
   ]
  },
  {
   "cell_type": "markdown",
   "metadata": {},
   "source": [
    "## Comparing the estimate to Linear Regression\n",
    "First, estimating the effect using the causal data frame, and the 95% confidence interval."
   ]
  },
  {
   "cell_type": "code",
   "execution_count": 8,
   "metadata": {
    "execution": {
     "iopub.execute_input": "2023-03-15T20:02:12.797323Z",
     "iopub.status.busy": "2023-03-15T20:02:12.796980Z",
     "iopub.status.idle": "2023-03-15T20:02:12.853126Z",
     "shell.execute_reply": "2023-03-15T20:02:12.852415Z"
    }
   },
   "outputs": [
    {
     "data": {
      "image/png": "[encoded data removed]",
      "text/latex": [
       "$\\displaystyle 5.03980157123684$"
      ],
      "text/plain": [
       "5.039801571236842"
      ]
     },
     "execution_count": 8,
     "metadata": {},
     "output_type": "execute_result"
    }
   ],
   "source": [
    "(cdf_1['y'] - cdf_0['y']).mean()"
   ]
  },
  {
   "cell_type": "code",
   "execution_count": 9,
   "metadata": {
    "execution": {
     "iopub.execute_input": "2023-03-15T20:02:12.856655Z",
     "iopub.status.busy": "2023-03-15T20:02:12.856133Z",
     "iopub.status.idle": "2023-03-15T20:02:12.876171Z",
     "shell.execute_reply": "2023-03-15T20:02:12.875496Z"
    }
   },
   "outputs": [
    {
     "data": {
      "image/png": "[encoded data removed]",
      "text/latex": [
       "$\\displaystyle 0.095372249838843$"
      ],
      "text/plain": [
       "0.09537224983884296"
      ]
     },
     "execution_count": 9,
     "metadata": {},
     "output_type": "execute_result"
    }
   ],
   "source": [
    "1.96*(cdf_1['y'] - cdf_0['y']).std() / np.sqrt(len(df))"
   ]
  },
  {
   "cell_type": "markdown",
   "metadata": {},
   "source": [
    "Comparing to the estimate from OLS."
   ]
  },
  {
   "cell_type": "code",
   "execution_count": 10,
   "metadata": {
    "execution": {
     "iopub.execute_input": "2023-03-15T20:02:12.879405Z",
     "iopub.status.busy": "2023-03-15T20:02:12.878972Z",
     "iopub.status.idle": "2023-03-15T20:02:12.893579Z",
     "shell.execute_reply": "2023-03-15T20:02:12.892919Z"
    }
   },
   "outputs": [
    {
     "data": {
      "text/html": [
       "<table class=\"simpletable\">\n",
       "<caption>OLS Regression Results</caption>\n",
       "<tr>\n",
       "  <th>Dep. Variable:</th>            <td>y</td>        <th>  R-squared (uncentered):</th>      <td>   0.930</td>\n",
       "</tr>\n",
       "<tr>\n",
       "  <th>Model:</th>                   <td>OLS</td>       <th>  Adj. R-squared (uncentered):</th> <td>   0.930</td>\n",
       "</tr>\n",
       "<tr>\n",
       "  <th>Method:</th>             <td>Least Squares</td>  <th>  F-statistic:       </th>          <td>   6672.</td>\n",
       "</tr>\n",
       "<tr>\n",
       "  <th>Date:</th>             <td>Wed, 15 Mar 2023</td> <th>  Prob (F-statistic):</th>           <td>  0.00</td> \n",
       "</tr>\n",
       "<tr>\n",
       "  <th>Time:</th>                 <td>20:02:12</td>     <th>  Log-Likelihood:    </th>          <td> -1390.7</td>\n",
       "</tr>\n",
       "<tr>\n",
       "  <th>No. Observations:</th>      <td>  1000</td>      <th>  AIC:               </th>          <td>   2785.</td>\n",
       "</tr>\n",
       "<tr>\n",
       "  <th>Df Residuals:</th>          <td>   998</td>      <th>  BIC:               </th>          <td>   2795.</td>\n",
       "</tr>\n",
       "<tr>\n",
       "  <th>Df Model:</th>              <td>     2</td>      <th>                     </th>              <td> </td>   \n",
       "</tr>\n",
       "<tr>\n",
       "  <th>Covariance Type:</th>      <td>nonrobust</td>    <th>                     </th>              <td> </td>   \n",
       "</tr>\n",
       "</table>\n",
       "<table class=\"simpletable\">\n",
       "<tr>\n",
       "   <td></td>     <th>coef</th>     <th>std err</th>      <th>t</th>      <th>P>|t|</th>  <th>[0.025</th>    <th>0.975]</th>  \n",
       "</tr>\n",
       "<tr>\n",
       "  <th>x1</th> <td>    0.5089</td> <td>    0.032</td> <td>   15.977</td> <td> 0.000</td> <td>    0.446</td> <td>    0.571</td>\n",
       "</tr>\n",
       "<tr>\n",
       "  <th>x2</th> <td>    5.0412</td> <td>    0.048</td> <td>  105.402</td> <td> 0.000</td> <td>    4.947</td> <td>    5.135</td>\n",
       "</tr>\n",
       "</table>\n",
       "<table class=\"simpletable\">\n",
       "<tr>\n",
       "  <th>Omnibus:</th>       <td> 0.752</td> <th>  Durbin-Watson:     </th> <td>   1.972</td>\n",
       "</tr>\n",
       "<tr>\n",
       "  <th>Prob(Omnibus):</th> <td> 0.687</td> <th>  Jarque-Bera (JB):  </th> <td>   0.623</td>\n",
       "</tr>\n",
       "<tr>\n",
       "  <th>Skew:</th>          <td> 0.002</td> <th>  Prob(JB):          </th> <td>   0.732</td>\n",
       "</tr>\n",
       "<tr>\n",
       "  <th>Kurtosis:</th>      <td> 3.122</td> <th>  Cond. No.          </th> <td>    1.65</td>\n",
       "</tr>\n",
       "</table><br/><br/>Notes:<br/>[1] R² is computed without centering (uncentered) since the model does not contain a constant.<br/>[2] Standard Errors assume that the covariance matrix of the errors is correctly specified."
      ],
      "text/plain": [
       "<class 'statsmodels.iolib.summary.Summary'>\n",
       "\"\"\"\n",
       "                                 OLS Regression Results                                \n",
       "=======================================================================================\n",
       "Dep. Variable:                      y   R-squared (uncentered):                   0.930\n",
       "Model:                            OLS   Adj. R-squared (uncentered):              0.930\n",
       "Method:                 Least Squares   F-statistic:                              6672.\n",
       "Date:                Wed, 15 Mar 2023   Prob (F-statistic):                        0.00\n",
       "Time:                        20:02:12   Log-Likelihood:                         -1390.7\n",
       "No. Observations:                1000   AIC:                                      2785.\n",
       "Df Residuals:                     998   BIC:                                      2795.\n",
       "Df Model:                           2                                                  \n",
       "Covariance Type:            nonrobust                                                  \n",
       "==============================================================================\n",
       "                 coef    std err          t      P>|t|      [0.025      0.975]\n",
       "------------------------------------------------------------------------------\n",
       "x1             0.5089      0.032     15.977      0.000       0.446       0.571\n",
       "x2             5.0412      0.048    105.402      0.000       4.947       5.135\n",
       "==============================================================================\n",
       "Omnibus:                        0.752   Durbin-Watson:                   1.972\n",
       "Prob(Omnibus):                  0.687   Jarque-Bera (JB):                0.623\n",
       "Skew:                           0.002   Prob(JB):                        0.732\n",
       "Kurtosis:                       3.122   Cond. No.                         1.65\n",
       "==============================================================================\n",
       "\n",
       "Notes:\n",
       "[1] R² is computed without centering (uncentered) since the model does not contain a constant.\n",
       "[2] Standard Errors assume that the covariance matrix of the errors is correctly specified.\n",
       "\"\"\""
      ]
     },
     "execution_count": 10,
     "metadata": {},
     "output_type": "execute_result"
    }
   ],
   "source": [
    "model = OLS(np.asarray(df[outcome]), np.asarray(df[[common_cause, treatment]], dtype=np.float64))\n",
    "result = model.fit()\n",
    "result.summary()"
   ]
  }
 ],
 "metadata": {
  "kernelspec": {
   "display_name": "Python 3",
   "language": "python",
   "name": "python3"
  },
  "language_info": {
   "codemirror_mode": {
    "name": "ipython",
    "version": 3
   },
   "file_extension": ".py",
   "mimetype": "text/x-python",
   "name": "python",
   "nbconvert_exporter": "python",
   "pygments_lexer": "ipython3",
   "version": "3.8.10"
  },
  "toc": {
   "base_numbering": 1,
   "nav_menu": {},
   "number_sections": false,
   "sideBar": true,
   "skip_h1_title": true,
   "title_cell": "Table of Contents",
   "title_sidebar": "Contents",
   "toc_cell": false,
   "toc_position": {},
   "toc_section_display": true,
   "toc_window_display": false
  }
 },
 "nbformat": 4,
 "nbformat_minor": 4
}
