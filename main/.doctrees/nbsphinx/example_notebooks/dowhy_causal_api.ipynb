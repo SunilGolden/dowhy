{
 "cells": [
  {
   "cell_type": "markdown",
   "metadata": {},
   "source": [
    "# Demo for the DoWhy causal API\n",
    "We show a simple example of adding a causal extension to any dataframe. "
   ]
  },
  {
   "cell_type": "code",
   "execution_count": 1,
   "metadata": {
    "execution": {
     "iopub.execute_input": "2023-07-30T09:46:25.780078Z",
     "iopub.status.busy": "2023-07-30T09:46:25.779699Z",
     "iopub.status.idle": "2023-07-30T09:46:27.504061Z",
     "shell.execute_reply": "2023-07-30T09:46:27.503357Z"
    }
   },
   "outputs": [],
   "source": [
    "import dowhy.datasets\n",
    "import dowhy.api\n",
    "\n",
    "import numpy as np\n",
    "import pandas as pd\n",
    "\n",
    "from statsmodels.api import OLS"
   ]
  },
  {
   "cell_type": "code",
   "execution_count": 2,
   "metadata": {
    "execution": {
     "iopub.execute_input": "2023-07-30T09:46:27.508171Z",
     "iopub.status.busy": "2023-07-30T09:46:27.507374Z",
     "iopub.status.idle": "2023-07-30T09:46:27.548658Z",
     "shell.execute_reply": "2023-07-30T09:46:27.547906Z"
    }
   },
   "outputs": [
    {
     "data": {
      "text/html": [
       "<div>\n",
       "<style scoped>\n",
       "    .dataframe tbody tr th:only-of-type {\n",
       "        vertical-align: middle;\n",
       "    }\n",
       "\n",
       "    .dataframe tbody tr th {\n",
       "        vertical-align: top;\n",
       "    }\n",
       "\n",
       "    .dataframe thead th {\n",
       "        text-align: right;\n",
       "    }\n",
       "</style>\n",
       "<table border=\"1\" class=\"dataframe\">\n",
       "  <thead>\n",
       "    <tr style=\"text-align: right;\">\n",
       "      <th></th>\n",
       "      <th>W0</th>\n",
       "      <th>v0</th>\n",
       "      <th>y</th>\n",
       "    </tr>\n",
       "  </thead>\n",
       "  <tbody>\n",
       "    <tr>\n",
       "      <th>0</th>\n",
       "      <td>0.417219</td>\n",
       "      <td>False</td>\n",
       "      <td>2.156258</td>\n",
       "    </tr>\n",
       "    <tr>\n",
       "      <th>1</th>\n",
       "      <td>-0.847485</td>\n",
       "      <td>False</td>\n",
       "      <td>-1.501154</td>\n",
       "    </tr>\n",
       "    <tr>\n",
       "      <th>2</th>\n",
       "      <td>-1.096290</td>\n",
       "      <td>False</td>\n",
       "      <td>-3.909460</td>\n",
       "    </tr>\n",
       "    <tr>\n",
       "      <th>3</th>\n",
       "      <td>-2.918033</td>\n",
       "      <td>False</td>\n",
       "      <td>-4.763375</td>\n",
       "    </tr>\n",
       "    <tr>\n",
       "      <th>4</th>\n",
       "      <td>-0.909599</td>\n",
       "      <td>False</td>\n",
       "      <td>-1.312080</td>\n",
       "    </tr>\n",
       "    <tr>\n",
       "      <th>...</th>\n",
       "      <td>...</td>\n",
       "      <td>...</td>\n",
       "      <td>...</td>\n",
       "    </tr>\n",
       "    <tr>\n",
       "      <th>995</th>\n",
       "      <td>-1.268889</td>\n",
       "      <td>False</td>\n",
       "      <td>0.573991</td>\n",
       "    </tr>\n",
       "    <tr>\n",
       "      <th>996</th>\n",
       "      <td>0.211755</td>\n",
       "      <td>False</td>\n",
       "      <td>0.590996</td>\n",
       "    </tr>\n",
       "    <tr>\n",
       "      <th>997</th>\n",
       "      <td>-1.282191</td>\n",
       "      <td>True</td>\n",
       "      <td>1.327026</td>\n",
       "    </tr>\n",
       "    <tr>\n",
       "      <th>998</th>\n",
       "      <td>0.172696</td>\n",
       "      <td>True</td>\n",
       "      <td>3.401587</td>\n",
       "    </tr>\n",
       "    <tr>\n",
       "      <th>999</th>\n",
       "      <td>-0.486176</td>\n",
       "      <td>False</td>\n",
       "      <td>0.179492</td>\n",
       "    </tr>\n",
       "  </tbody>\n",
       "</table>\n",
       "<p>1000 rows × 3 columns</p>\n",
       "</div>"
      ],
      "text/plain": [
       "           W0     v0         y\n",
       "0    0.417219  False  2.156258\n",
       "1   -0.847485  False -1.501154\n",
       "2   -1.096290  False -3.909460\n",
       "3   -2.918033  False -4.763375\n",
       "4   -0.909599  False -1.312080\n",
       "..        ...    ...       ...\n",
       "995 -1.268889  False  0.573991\n",
       "996  0.211755  False  0.590996\n",
       "997 -1.282191   True  1.327026\n",
       "998  0.172696   True  3.401587\n",
       "999 -0.486176  False  0.179492\n",
       "\n",
       "[1000 rows x 3 columns]"
      ]
     },
     "execution_count": 2,
     "metadata": {},
     "output_type": "execute_result"
    }
   ],
   "source": [
    "data = dowhy.datasets.linear_dataset(beta=5,\n",
    "        num_common_causes=1,\n",
    "        num_instruments = 0,\n",
    "        num_samples=1000,\n",
    "        treatment_is_binary=True)\n",
    "df = data['df']\n",
    "df['y'] = df['y'] + np.random.normal(size=len(df)) # Adding noise to data. Without noise, the variance in Y|X, Z is zero, and mcmc fails.\n",
    "#data['dot_graph'] = 'digraph { v ->y;X0-> v;X0-> y;}'\n",
    "\n",
    "treatment= data[\"treatment_name\"][0]\n",
    "outcome = data[\"outcome_name\"][0]\n",
    "common_cause = data[\"common_causes_names\"][0]\n",
    "df"
   ]
  },
  {
   "cell_type": "code",
   "execution_count": 3,
   "metadata": {
    "execution": {
     "iopub.execute_input": "2023-07-30T09:46:27.552614Z",
     "iopub.status.busy": "2023-07-30T09:46:27.552242Z",
     "iopub.status.idle": "2023-07-30T09:46:27.750772Z",
     "shell.execute_reply": "2023-07-30T09:46:27.750079Z"
    }
   },
   "outputs": [
    {
     "data": {
      "text/plain": [
       "<Axes: xlabel='v0'>"
      ]
     },
     "execution_count": 3,
     "metadata": {},
     "output_type": "execute_result"
    },
    {
     "data": {
      "image/png": "[encoded data removed]",
      "text/plain": [
       "<Figure size 640x480 with 1 Axes>"
      ]
     },
     "metadata": {},
     "output_type": "display_data"
    }
   ],
   "source": [
    "# data['df'] is just a regular pandas.DataFrame\n",
    "df.causal.do(x=treatment,\n",
    "                     variable_types={treatment: 'b', outcome: 'c', common_cause: 'c'},\n",
    "                     outcome=outcome,\n",
    "                     common_causes=[common_cause],\n",
    "                     proceed_when_unidentifiable=True).groupby(treatment).mean().plot(y=outcome, kind='bar')"
   ]
  },
  {
   "cell_type": "code",
   "execution_count": 4,
   "metadata": {
    "execution": {
     "iopub.execute_input": "2023-07-30T09:46:27.753771Z",
     "iopub.status.busy": "2023-07-30T09:46:27.753526Z",
     "iopub.status.idle": "2023-07-30T09:46:27.896567Z",
     "shell.execute_reply": "2023-07-30T09:46:27.895910Z"
    }
   },
   "outputs": [
    {
     "data": {
      "text/plain": [
       "<Axes: xlabel='v0'>"
      ]
     },
     "execution_count": 4,
     "metadata": {},
     "output_type": "execute_result"
    },
    {
     "data": {
      "image/png": "[encoded data removed]",
      "text/plain": [
       "<Figure size 640x480 with 1 Axes>"
      ]
     },
     "metadata": {},
     "output_type": "display_data"
    }
   ],
   "source": [
    "df.causal.do(x={treatment: 1}, \n",
    "              variable_types={treatment:'b', outcome: 'c', common_cause: 'c'}, \n",
    "              outcome=outcome,\n",
    "              method='weighting', \n",
    "              common_causes=[common_cause],\n",
    "              proceed_when_unidentifiable=True).groupby(treatment).mean().plot(y=outcome, kind='bar')"
   ]
  },
  {
   "cell_type": "code",
   "execution_count": 5,
   "metadata": {
    "execution": {
     "iopub.execute_input": "2023-07-30T09:46:27.899733Z",
     "iopub.status.busy": "2023-07-30T09:46:27.899481Z",
     "iopub.status.idle": "2023-07-30T09:46:27.931427Z",
     "shell.execute_reply": "2023-07-30T09:46:27.930772Z"
    }
   },
   "outputs": [],
   "source": [
    "cdf_1 = df.causal.do(x={treatment: 1}, \n",
    "              variable_types={treatment: 'b', outcome: 'c', common_cause: 'c'}, \n",
    "              outcome=outcome, \n",
    "              dot_graph=data['dot_graph'],\n",
    "              proceed_when_unidentifiable=True)\n",
    "\n",
    "cdf_0 = df.causal.do(x={treatment: 0}, \n",
    "              variable_types={treatment: 'b', outcome: 'c', common_cause: 'c'}, \n",
    "              outcome=outcome, \n",
    "              dot_graph=data['dot_graph'],\n",
    "              proceed_when_unidentifiable=True)\n"
   ]
  },
  {
   "cell_type": "code",
   "execution_count": 6,
   "metadata": {
    "execution": {
     "iopub.execute_input": "2023-07-30T09:46:27.934531Z",
     "iopub.status.busy": "2023-07-30T09:46:27.934290Z",
     "iopub.status.idle": "2023-07-30T09:46:27.944856Z",
     "shell.execute_reply": "2023-07-30T09:46:27.944199Z"
    },
    "scrolled": true
   },
   "outputs": [
    {
     "data": {
      "text/html": [
       "<div>\n",
       "<style scoped>\n",
       "    .dataframe tbody tr th:only-of-type {\n",
       "        vertical-align: middle;\n",
       "    }\n",
       "\n",
       "    .dataframe tbody tr th {\n",
       "        vertical-align: top;\n",
       "    }\n",
       "\n",
       "    .dataframe thead th {\n",
       "        text-align: right;\n",
       "    }\n",
       "</style>\n",
       "<table border=\"1\" class=\"dataframe\">\n",
       "  <thead>\n",
       "    <tr style=\"text-align: right;\">\n",
       "      <th></th>\n",
       "      <th>W0</th>\n",
       "      <th>v0</th>\n",
       "      <th>y</th>\n",
       "      <th>propensity_score</th>\n",
       "      <th>weight</th>\n",
       "    </tr>\n",
       "  </thead>\n",
       "  <tbody>\n",
       "    <tr>\n",
       "      <th>0</th>\n",
       "      <td>-1.619612</td>\n",
       "      <td>False</td>\n",
       "      <td>-2.350378</td>\n",
       "      <td>0.874263</td>\n",
       "      <td>1.143821</td>\n",
       "    </tr>\n",
       "    <tr>\n",
       "      <th>1</th>\n",
       "      <td>-1.146063</td>\n",
       "      <td>False</td>\n",
       "      <td>-2.011275</td>\n",
       "      <td>0.794904</td>\n",
       "      <td>1.258014</td>\n",
       "    </tr>\n",
       "    <tr>\n",
       "      <th>2</th>\n",
       "      <td>-0.308756</td>\n",
       "      <td>False</td>\n",
       "      <td>-1.259694</td>\n",
       "      <td>0.579653</td>\n",
       "      <td>1.725169</td>\n",
       "    </tr>\n",
       "    <tr>\n",
       "      <th>3</th>\n",
       "      <td>-0.875800</td>\n",
       "      <td>False</td>\n",
       "      <td>-2.462851</td>\n",
       "      <td>0.735204</td>\n",
       "      <td>1.360167</td>\n",
       "    </tr>\n",
       "    <tr>\n",
       "      <th>4</th>\n",
       "      <td>-3.427753</td>\n",
       "      <td>False</td>\n",
       "      <td>-6.021539</td>\n",
       "      <td>0.984794</td>\n",
       "      <td>1.015440</td>\n",
       "    </tr>\n",
       "    <tr>\n",
       "      <th>...</th>\n",
       "      <td>...</td>\n",
       "      <td>...</td>\n",
       "      <td>...</td>\n",
       "      <td>...</td>\n",
       "      <td>...</td>\n",
       "    </tr>\n",
       "    <tr>\n",
       "      <th>995</th>\n",
       "      <td>-2.268617</td>\n",
       "      <td>False</td>\n",
       "      <td>-3.222198</td>\n",
       "      <td>0.939356</td>\n",
       "      <td>1.064559</td>\n",
       "    </tr>\n",
       "    <tr>\n",
       "      <th>996</th>\n",
       "      <td>-0.739078</td>\n",
       "      <td>False</td>\n",
       "      <td>-0.673569</td>\n",
       "      <td>0.701080</td>\n",
       "      <td>1.426370</td>\n",
       "    </tr>\n",
       "    <tr>\n",
       "      <th>997</th>\n",
       "      <td>0.987625</td>\n",
       "      <td>False</td>\n",
       "      <td>2.797127</td>\n",
       "      <td>0.217785</td>\n",
       "      <td>4.591682</td>\n",
       "    </tr>\n",
       "    <tr>\n",
       "      <th>998</th>\n",
       "      <td>-1.624353</td>\n",
       "      <td>False</td>\n",
       "      <td>-2.953172</td>\n",
       "      <td>0.874905</td>\n",
       "      <td>1.142982</td>\n",
       "    </tr>\n",
       "    <tr>\n",
       "      <th>999</th>\n",
       "      <td>-0.730978</td>\n",
       "      <td>False</td>\n",
       "      <td>-0.379279</td>\n",
       "      <td>0.698981</td>\n",
       "      <td>1.430654</td>\n",
       "    </tr>\n",
       "  </tbody>\n",
       "</table>\n",
       "<p>1000 rows × 5 columns</p>\n",
       "</div>"
      ],
      "text/plain": [
       "           W0     v0         y  propensity_score    weight\n",
       "0   -1.619612  False -2.350378          0.874263  1.143821\n",
       "1   -1.146063  False -2.011275          0.794904  1.258014\n",
       "2   -0.308756  False -1.259694          0.579653  1.725169\n",
       "3   -0.875800  False -2.462851          0.735204  1.360167\n",
       "4   -3.427753  False -6.021539          0.984794  1.015440\n",
       "..        ...    ...       ...               ...       ...\n",
       "995 -2.268617  False -3.222198          0.939356  1.064559\n",
       "996 -0.739078  False -0.673569          0.701080  1.426370\n",
       "997  0.987625  False  2.797127          0.217785  4.591682\n",
       "998 -1.624353  False -2.953172          0.874905  1.142982\n",
       "999 -0.730978  False -0.379279          0.698981  1.430654\n",
       "\n",
       "[1000 rows x 5 columns]"
      ]
     },
     "execution_count": 6,
     "metadata": {},
     "output_type": "execute_result"
    }
   ],
   "source": [
    "cdf_0"
   ]
  },
  {
   "cell_type": "code",
   "execution_count": 7,
   "metadata": {
    "execution": {
     "iopub.execute_input": "2023-07-30T09:46:27.948565Z",
     "iopub.status.busy": "2023-07-30T09:46:27.948337Z",
     "iopub.status.idle": "2023-07-30T09:46:27.958539Z",
     "shell.execute_reply": "2023-07-30T09:46:27.957870Z"
    }
   },
   "outputs": [
    {
     "data": {
      "text/html": [
       "<div>\n",
       "<style scoped>\n",
       "    .dataframe tbody tr th:only-of-type {\n",
       "        vertical-align: middle;\n",
       "    }\n",
       "\n",
       "    .dataframe tbody tr th {\n",
       "        vertical-align: top;\n",
       "    }\n",
       "\n",
       "    .dataframe thead th {\n",
       "        text-align: right;\n",
       "    }\n",
       "</style>\n",
       "<table border=\"1\" class=\"dataframe\">\n",
       "  <thead>\n",
       "    <tr style=\"text-align: right;\">\n",
       "      <th></th>\n",
       "      <th>W0</th>\n",
       "      <th>v0</th>\n",
       "      <th>y</th>\n",
       "      <th>propensity_score</th>\n",
       "      <th>weight</th>\n",
       "    </tr>\n",
       "  </thead>\n",
       "  <tbody>\n",
       "    <tr>\n",
       "      <th>0</th>\n",
       "      <td>-2.368058</td>\n",
       "      <td>True</td>\n",
       "      <td>0.363669</td>\n",
       "      <td>0.054018</td>\n",
       "      <td>18.512387</td>\n",
       "    </tr>\n",
       "    <tr>\n",
       "      <th>1</th>\n",
       "      <td>-1.634183</td>\n",
       "      <td>True</td>\n",
       "      <td>1.653215</td>\n",
       "      <td>0.123773</td>\n",
       "      <td>8.079275</td>\n",
       "    </tr>\n",
       "    <tr>\n",
       "      <th>2</th>\n",
       "      <td>1.597115</td>\n",
       "      <td>True</td>\n",
       "      <td>8.499905</td>\n",
       "      <td>0.883998</td>\n",
       "      <td>1.131225</td>\n",
       "    </tr>\n",
       "    <tr>\n",
       "      <th>3</th>\n",
       "      <td>-0.137792</td>\n",
       "      <td>True</td>\n",
       "      <td>4.642764</td>\n",
       "      <td>0.472441</td>\n",
       "      <td>2.116668</td>\n",
       "    </tr>\n",
       "    <tr>\n",
       "      <th>4</th>\n",
       "      <td>-0.541894</td>\n",
       "      <td>True</td>\n",
       "      <td>4.757045</td>\n",
       "      <td>0.352268</td>\n",
       "      <td>2.838751</td>\n",
       "    </tr>\n",
       "    <tr>\n",
       "      <th>...</th>\n",
       "      <td>...</td>\n",
       "      <td>...</td>\n",
       "      <td>...</td>\n",
       "      <td>...</td>\n",
       "      <td>...</td>\n",
       "    </tr>\n",
       "    <tr>\n",
       "      <th>995</th>\n",
       "      <td>-1.180499</td>\n",
       "      <td>True</td>\n",
       "      <td>2.716059</td>\n",
       "      <td>0.198254</td>\n",
       "      <td>5.044030</td>\n",
       "    </tr>\n",
       "    <tr>\n",
       "      <th>996</th>\n",
       "      <td>0.238505</td>\n",
       "      <td>True</td>\n",
       "      <td>3.695748</td>\n",
       "      <td>0.587604</td>\n",
       "      <td>1.701826</td>\n",
       "    </tr>\n",
       "    <tr>\n",
       "      <th>997</th>\n",
       "      <td>0.379150</td>\n",
       "      <td>True</td>\n",
       "      <td>5.991471</td>\n",
       "      <td>0.628935</td>\n",
       "      <td>1.589989</td>\n",
       "    </tr>\n",
       "    <tr>\n",
       "      <th>998</th>\n",
       "      <td>-0.806167</td>\n",
       "      <td>True</td>\n",
       "      <td>3.005560</td>\n",
       "      <td>0.281861</td>\n",
       "      <td>3.547845</td>\n",
       "    </tr>\n",
       "    <tr>\n",
       "      <th>999</th>\n",
       "      <td>-0.910195</td>\n",
       "      <td>True</td>\n",
       "      <td>5.196260</td>\n",
       "      <td>0.256615</td>\n",
       "      <td>3.896890</td>\n",
       "    </tr>\n",
       "  </tbody>\n",
       "</table>\n",
       "<p>1000 rows × 5 columns</p>\n",
       "</div>"
      ],
      "text/plain": [
       "           W0    v0         y  propensity_score     weight\n",
       "0   -2.368058  True  0.363669          0.054018  18.512387\n",
       "1   -1.634183  True  1.653215          0.123773   8.079275\n",
       "2    1.597115  True  8.499905          0.883998   1.131225\n",
       "3   -0.137792  True  4.642764          0.472441   2.116668\n",
       "4   -0.541894  True  4.757045          0.352268   2.838751\n",
       "..        ...   ...       ...               ...        ...\n",
       "995 -1.180499  True  2.716059          0.198254   5.044030\n",
       "996  0.238505  True  3.695748          0.587604   1.701826\n",
       "997  0.379150  True  5.991471          0.628935   1.589989\n",
       "998 -0.806167  True  3.005560          0.281861   3.547845\n",
       "999 -0.910195  True  5.196260          0.256615   3.896890\n",
       "\n",
       "[1000 rows x 5 columns]"
      ]
     },
     "execution_count": 7,
     "metadata": {},
     "output_type": "execute_result"
    }
   ],
   "source": [
    "cdf_1"
   ]
  },
  {
   "cell_type": "markdown",
   "metadata": {},
   "source": [
    "## Comparing the estimate to Linear Regression\n",
    "First, estimating the effect using the causal data frame, and the 95% confidence interval."
   ]
  },
  {
   "cell_type": "code",
   "execution_count": 8,
   "metadata": {
    "execution": {
     "iopub.execute_input": "2023-07-30T09:46:27.962398Z",
     "iopub.status.busy": "2023-07-30T09:46:27.962171Z",
     "iopub.status.idle": "2023-07-30T09:46:28.024551Z",
     "shell.execute_reply": "2023-07-30T09:46:28.023705Z"
    }
   },
   "outputs": [
    {
     "data": {
      "image/png": "[encoded data removed]",
      "text/latex": [
       "$\\displaystyle 5.03354432566237$"
      ],
      "text/plain": [
       "5.033544325662373"
      ]
     },
     "execution_count": 8,
     "metadata": {},
     "output_type": "execute_result"
    }
   ],
   "source": [
    "(cdf_1['y'] - cdf_0['y']).mean()"
   ]
  },
  {
   "cell_type": "code",
   "execution_count": 9,
   "metadata": {
    "execution": {
     "iopub.execute_input": "2023-07-30T09:46:28.027701Z",
     "iopub.status.busy": "2023-07-30T09:46:28.027323Z",
     "iopub.status.idle": "2023-07-30T09:46:28.048520Z",
     "shell.execute_reply": "2023-07-30T09:46:28.047790Z"
    }
   },
   "outputs": [
    {
     "data": {
      "image/png": "[encoded data removed]",
      "text/latex": [
       "$\\displaystyle 0.166940302806633$"
      ],
      "text/plain": [
       "0.1669403028066334"
      ]
     },
     "execution_count": 9,
     "metadata": {},
     "output_type": "execute_result"
    }
   ],
   "source": [
    "1.96*(cdf_1['y'] - cdf_0['y']).std() / np.sqrt(len(df))"
   ]
  },
  {
   "cell_type": "markdown",
   "metadata": {},
   "source": [
    "Comparing to the estimate from OLS."
   ]
  },
  {
   "cell_type": "code",
   "execution_count": 10,
   "metadata": {
    "execution": {
     "iopub.execute_input": "2023-07-30T09:46:28.052024Z",
     "iopub.status.busy": "2023-07-30T09:46:28.051583Z",
     "iopub.status.idle": "2023-07-30T09:46:28.074141Z",
     "shell.execute_reply": "2023-07-30T09:46:28.073335Z"
    }
   },
   "outputs": [
    {
     "data": {
      "text/html": [
       "<table class=\"simpletable\">\n",
       "<caption>OLS Regression Results</caption>\n",
       "<tr>\n",
       "  <th>Dep. Variable:</th>            <td>y</td>        <th>  R-squared (uncentered):</th>      <td>   0.917</td>\n",
       "</tr>\n",
       "<tr>\n",
       "  <th>Model:</th>                   <td>OLS</td>       <th>  Adj. R-squared (uncentered):</th> <td>   0.917</td>\n",
       "</tr>\n",
       "<tr>\n",
       "  <th>Method:</th>             <td>Least Squares</td>  <th>  F-statistic:       </th>          <td>   5530.</td>\n",
       "</tr>\n",
       "<tr>\n",
       "  <th>Date:</th>             <td>Sun, 30 Jul 2023</td> <th>  Prob (F-statistic):</th>           <td>  0.00</td> \n",
       "</tr>\n",
       "<tr>\n",
       "  <th>Time:</th>                 <td>09:46:28</td>     <th>  Log-Likelihood:    </th>          <td> -1424.7</td>\n",
       "</tr>\n",
       "<tr>\n",
       "  <th>No. Observations:</th>      <td>  1000</td>      <th>  AIC:               </th>          <td>   2853.</td>\n",
       "</tr>\n",
       "<tr>\n",
       "  <th>Df Residuals:</th>          <td>   998</td>      <th>  BIC:               </th>          <td>   2863.</td>\n",
       "</tr>\n",
       "<tr>\n",
       "  <th>Df Model:</th>              <td>     2</td>      <th>                     </th>              <td> </td>   \n",
       "</tr>\n",
       "<tr>\n",
       "  <th>Covariance Type:</th>      <td>nonrobust</td>    <th>                     </th>              <td> </td>   \n",
       "</tr>\n",
       "</table>\n",
       "<table class=\"simpletable\">\n",
       "<tr>\n",
       "   <td></td>     <th>coef</th>     <th>std err</th>      <th>t</th>      <th>P>|t|</th>  <th>[0.025</th>    <th>0.975]</th>  \n",
       "</tr>\n",
       "<tr>\n",
       "  <th>x1</th> <td>    1.6024</td> <td>    0.023</td> <td>   70.107</td> <td> 0.000</td> <td>    1.558</td> <td>    1.647</td>\n",
       "</tr>\n",
       "<tr>\n",
       "  <th>x2</th> <td>    4.9874</td> <td>    0.059</td> <td>   84.570</td> <td> 0.000</td> <td>    4.872</td> <td>    5.103</td>\n",
       "</tr>\n",
       "</table>\n",
       "<table class=\"simpletable\">\n",
       "<tr>\n",
       "  <th>Omnibus:</th>       <td> 6.502</td> <th>  Durbin-Watson:     </th> <td>   1.927</td>\n",
       "</tr>\n",
       "<tr>\n",
       "  <th>Prob(Omnibus):</th> <td> 0.039</td> <th>  Jarque-Bera (JB):  </th> <td>   6.631</td>\n",
       "</tr>\n",
       "<tr>\n",
       "  <th>Skew:</th>          <td>-0.155</td> <th>  Prob(JB):          </th> <td>  0.0363</td>\n",
       "</tr>\n",
       "<tr>\n",
       "  <th>Kurtosis:</th>      <td> 3.250</td> <th>  Cond. No.          </th> <td>    2.60</td>\n",
       "</tr>\n",
       "</table><br/><br/>Notes:<br/>[1] R² is computed without centering (uncentered) since the model does not contain a constant.<br/>[2] Standard Errors assume that the covariance matrix of the errors is correctly specified."
      ],
      "text/latex": [
       "\\begin{center}\n",
       "\\begin{tabular}{lclc}\n",
       "\\toprule\n",
       "\\textbf{Dep. Variable:}    &        y         & \\textbf{  R-squared (uncentered):}      &     0.917   \\\\\n",
       "\\textbf{Model:}            &       OLS        & \\textbf{  Adj. R-squared (uncentered):} &     0.917   \\\\\n",
       "\\textbf{Method:}           &  Least Squares   & \\textbf{  F-statistic:       }          &     5530.   \\\\\n",
       "\\textbf{Date:}             & Sun, 30 Jul 2023 & \\textbf{  Prob (F-statistic):}          &     0.00    \\\\\n",
       "\\textbf{Time:}             &     09:46:28     & \\textbf{  Log-Likelihood:    }          &   -1424.7   \\\\\n",
       "\\textbf{No. Observations:} &        1000      & \\textbf{  AIC:               }          &     2853.   \\\\\n",
       "\\textbf{Df Residuals:}     &         998      & \\textbf{  BIC:               }          &     2863.   \\\\\n",
       "\\textbf{Df Model:}         &           2      & \\textbf{                     }          &             \\\\\n",
       "\\textbf{Covariance Type:}  &    nonrobust     & \\textbf{                     }          &             \\\\\n",
       "\\bottomrule\n",
       "\\end{tabular}\n",
       "\\begin{tabular}{lcccccc}\n",
       "            & \\textbf{coef} & \\textbf{std err} & \\textbf{t} & \\textbf{P$> |$t$|$} & \\textbf{[0.025} & \\textbf{0.975]}  \\\\\n",
       "\\midrule\n",
       "\\textbf{x1} &       1.6024  &        0.023     &    70.107  &         0.000        &        1.558    &        1.647     \\\\\n",
       "\\textbf{x2} &       4.9874  &        0.059     &    84.570  &         0.000        &        4.872    &        5.103     \\\\\n",
       "\\bottomrule\n",
       "\\end{tabular}\n",
       "\\begin{tabular}{lclc}\n",
       "\\textbf{Omnibus:}       &  6.502 & \\textbf{  Durbin-Watson:     } &    1.927  \\\\\n",
       "\\textbf{Prob(Omnibus):} &  0.039 & \\textbf{  Jarque-Bera (JB):  } &    6.631  \\\\\n",
       "\\textbf{Skew:}          & -0.155 & \\textbf{  Prob(JB):          } &   0.0363  \\\\\n",
       "\\textbf{Kurtosis:}      &  3.250 & \\textbf{  Cond. No.          } &     2.60  \\\\\n",
       "\\bottomrule\n",
       "\\end{tabular}\n",
       "%\\caption{OLS Regression Results}\n",
       "\\end{center}\n",
       "\n",
       "Notes: \\newline\n",
       " [1] R² is computed without centering (uncentered) since the model does not contain a constant. \\newline\n",
       " [2] Standard Errors assume that the covariance matrix of the errors is correctly specified."
      ],
      "text/plain": [
       "<class 'statsmodels.iolib.summary.Summary'>\n",
       "\"\"\"\n",
       "                                 OLS Regression Results                                \n",
       "=======================================================================================\n",
       "Dep. Variable:                      y   R-squared (uncentered):                   0.917\n",
       "Model:                            OLS   Adj. R-squared (uncentered):              0.917\n",
       "Method:                 Least Squares   F-statistic:                              5530.\n",
       "Date:                Sun, 30 Jul 2023   Prob (F-statistic):                        0.00\n",
       "Time:                        09:46:28   Log-Likelihood:                         -1424.7\n",
       "No. Observations:                1000   AIC:                                      2853.\n",
       "Df Residuals:                     998   BIC:                                      2863.\n",
       "Df Model:                           2                                                  \n",
       "Covariance Type:            nonrobust                                                  \n",
       "==============================================================================\n",
       "                 coef    std err          t      P>|t|      [0.025      0.975]\n",
       "------------------------------------------------------------------------------\n",
       "x1             1.6024      0.023     70.107      0.000       1.558       1.647\n",
       "x2             4.9874      0.059     84.570      0.000       4.872       5.103\n",
       "==============================================================================\n",
       "Omnibus:                        6.502   Durbin-Watson:                   1.927\n",
       "Prob(Omnibus):                  0.039   Jarque-Bera (JB):                6.631\n",
       "Skew:                          -0.155   Prob(JB):                       0.0363\n",
       "Kurtosis:                       3.250   Cond. No.                         2.60\n",
       "==============================================================================\n",
       "\n",
       "Notes:\n",
       "[1] R² is computed without centering (uncentered) since the model does not contain a constant.\n",
       "[2] Standard Errors assume that the covariance matrix of the errors is correctly specified.\n",
       "\"\"\""
      ]
     },
     "execution_count": 10,
     "metadata": {},
     "output_type": "execute_result"
    }
   ],
   "source": [
    "model = OLS(np.asarray(df[outcome]), np.asarray(df[[common_cause, treatment]], dtype=np.float64))\n",
    "result = model.fit()\n",
    "result.summary()"
   ]
  }
 ],
 "metadata": {
  "kernelspec": {
   "display_name": "Python 3",
   "language": "python",
   "name": "python3"
  },
  "language_info": {
   "codemirror_mode": {
    "name": "ipython",
    "version": 3
   },
   "file_extension": ".py",
   "mimetype": "text/x-python",
   "name": "python",
   "nbconvert_exporter": "python",
   "pygments_lexer": "ipython3",
   "version": "3.8.10"
  },
  "toc": {
   "base_numbering": 1,
   "nav_menu": {},
   "number_sections": false,
   "sideBar": true,
   "skip_h1_title": true,
   "title_cell": "Table of Contents",
   "title_sidebar": "Contents",
   "toc_cell": false,
   "toc_position": {},
   "toc_section_display": true,
   "toc_window_display": false
  }
 },
 "nbformat": 4,
 "nbformat_minor": 4
}
