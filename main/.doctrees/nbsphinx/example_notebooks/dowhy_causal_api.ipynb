{
 "cells": [
  {
   "cell_type": "markdown",
   "metadata": {},
   "source": [
    "# Demo for the DoWhy causal API\n",
    "We show a simple example of adding a causal extension to any dataframe. "
   ]
  },
  {
   "cell_type": "code",
   "execution_count": 1,
   "metadata": {
    "execution": {
     "iopub.execute_input": "2024-01-30T17:49:20.617013Z",
     "iopub.status.busy": "2024-01-30T17:49:20.616436Z",
     "iopub.status.idle": "2024-01-30T17:49:21.992682Z",
     "shell.execute_reply": "2024-01-30T17:49:21.992109Z"
    }
   },
   "outputs": [],
   "source": [
    "import dowhy.datasets\n",
    "import dowhy.api\n",
    "from dowhy.graph import build_graph_from_str\n",
    "\n",
    "import numpy as np\n",
    "import pandas as pd\n",
    "\n",
    "from statsmodels.api import OLS"
   ]
  },
  {
   "cell_type": "code",
   "execution_count": 2,
   "metadata": {
    "execution": {
     "iopub.execute_input": "2024-01-30T17:49:21.995557Z",
     "iopub.status.busy": "2024-01-30T17:49:21.995064Z",
     "iopub.status.idle": "2024-01-30T17:49:22.030761Z",
     "shell.execute_reply": "2024-01-30T17:49:22.030287Z"
    }
   },
   "outputs": [
    {
     "data": {
      "text/html": [
       "<div>\n",
       "<style scoped>\n",
       "    .dataframe tbody tr th:only-of-type {\n",
       "        vertical-align: middle;\n",
       "    }\n",
       "\n",
       "    .dataframe tbody tr th {\n",
       "        vertical-align: top;\n",
       "    }\n",
       "\n",
       "    .dataframe thead th {\n",
       "        text-align: right;\n",
       "    }\n",
       "</style>\n",
       "<table border=\"1\" class=\"dataframe\">\n",
       "  <thead>\n",
       "    <tr style=\"text-align: right;\">\n",
       "      <th></th>\n",
       "      <th>W0</th>\n",
       "      <th>v0</th>\n",
       "      <th>y</th>\n",
       "    </tr>\n",
       "  </thead>\n",
       "  <tbody>\n",
       "    <tr>\n",
       "      <th>0</th>\n",
       "      <td>0.218115</td>\n",
       "      <td>True</td>\n",
       "      <td>5.192952</td>\n",
       "    </tr>\n",
       "    <tr>\n",
       "      <th>1</th>\n",
       "      <td>-2.214109</td>\n",
       "      <td>False</td>\n",
       "      <td>-5.511422</td>\n",
       "    </tr>\n",
       "    <tr>\n",
       "      <th>2</th>\n",
       "      <td>-1.604225</td>\n",
       "      <td>False</td>\n",
       "      <td>-2.343443</td>\n",
       "    </tr>\n",
       "    <tr>\n",
       "      <th>3</th>\n",
       "      <td>-1.730743</td>\n",
       "      <td>False</td>\n",
       "      <td>-2.996998</td>\n",
       "    </tr>\n",
       "    <tr>\n",
       "      <th>4</th>\n",
       "      <td>-2.448299</td>\n",
       "      <td>False</td>\n",
       "      <td>-4.277865</td>\n",
       "    </tr>\n",
       "    <tr>\n",
       "      <th>...</th>\n",
       "      <td>...</td>\n",
       "      <td>...</td>\n",
       "      <td>...</td>\n",
       "    </tr>\n",
       "    <tr>\n",
       "      <th>995</th>\n",
       "      <td>-2.522898</td>\n",
       "      <td>False</td>\n",
       "      <td>-5.839558</td>\n",
       "    </tr>\n",
       "    <tr>\n",
       "      <th>996</th>\n",
       "      <td>0.204025</td>\n",
       "      <td>False</td>\n",
       "      <td>-0.192892</td>\n",
       "    </tr>\n",
       "    <tr>\n",
       "      <th>997</th>\n",
       "      <td>-1.183591</td>\n",
       "      <td>False</td>\n",
       "      <td>-3.312228</td>\n",
       "    </tr>\n",
       "    <tr>\n",
       "      <th>998</th>\n",
       "      <td>-3.190273</td>\n",
       "      <td>False</td>\n",
       "      <td>-6.103659</td>\n",
       "    </tr>\n",
       "    <tr>\n",
       "      <th>999</th>\n",
       "      <td>-1.579944</td>\n",
       "      <td>False</td>\n",
       "      <td>-2.680262</td>\n",
       "    </tr>\n",
       "  </tbody>\n",
       "</table>\n",
       "<p>1000 rows × 3 columns</p>\n",
       "</div>"
      ],
      "text/plain": [
       "           W0     v0         y\n",
       "0    0.218115   True  5.192952\n",
       "1   -2.214109  False -5.511422\n",
       "2   -1.604225  False -2.343443\n",
       "3   -1.730743  False -2.996998\n",
       "4   -2.448299  False -4.277865\n",
       "..        ...    ...       ...\n",
       "995 -2.522898  False -5.839558\n",
       "996  0.204025  False -0.192892\n",
       "997 -1.183591  False -3.312228\n",
       "998 -3.190273  False -6.103659\n",
       "999 -1.579944  False -2.680262\n",
       "\n",
       "[1000 rows x 3 columns]"
      ]
     },
     "execution_count": 2,
     "metadata": {},
     "output_type": "execute_result"
    }
   ],
   "source": [
    "data = dowhy.datasets.linear_dataset(beta=5,\n",
    "        num_common_causes=1,\n",
    "        num_instruments = 0,\n",
    "        num_samples=1000,\n",
    "        treatment_is_binary=True)\n",
    "df = data['df']\n",
    "df['y'] = df['y'] + np.random.normal(size=len(df)) # Adding noise to data. Without noise, the variance in Y|X, Z is zero, and mcmc fails.\n",
    "nx_graph = build_graph_from_str(data[\"dot_graph\"])\n",
    "\n",
    "treatment= data[\"treatment_name\"][0]\n",
    "outcome = data[\"outcome_name\"][0]\n",
    "common_cause = data[\"common_causes_names\"][0]\n",
    "df"
   ]
  },
  {
   "cell_type": "code",
   "execution_count": 3,
   "metadata": {
    "execution": {
     "iopub.execute_input": "2024-01-30T17:49:22.033031Z",
     "iopub.status.busy": "2024-01-30T17:49:22.032695Z",
     "iopub.status.idle": "2024-01-30T17:49:22.210829Z",
     "shell.execute_reply": "2024-01-30T17:49:22.210206Z"
    },
    "scrolled": true
   },
   "outputs": [
    {
     "data": {
      "text/plain": [
       "<Axes: xlabel='v0'>"
      ]
     },
     "execution_count": 3,
     "metadata": {},
     "output_type": "execute_result"
    },
    {
     "data": {
      "image/png": "[encoded data removed]",
      "text/plain": [
       "<Figure size 640x480 with 1 Axes>"
      ]
     },
     "metadata": {},
     "output_type": "display_data"
    }
   ],
   "source": [
    "# data['df'] is just a regular pandas.DataFrame\n",
    "df.causal.do(x=treatment,\n",
    "             variable_types={treatment: 'b', outcome: 'c', common_cause: 'c'},\n",
    "             outcome=outcome,\n",
    "             common_causes=[common_cause],\n",
    "            ).groupby(treatment).mean().plot(y=outcome, kind='bar')"
   ]
  },
  {
   "cell_type": "code",
   "execution_count": 4,
   "metadata": {
    "execution": {
     "iopub.execute_input": "2024-01-30T17:49:22.213407Z",
     "iopub.status.busy": "2024-01-30T17:49:22.213048Z",
     "iopub.status.idle": "2024-01-30T17:49:22.355510Z",
     "shell.execute_reply": "2024-01-30T17:49:22.354951Z"
    }
   },
   "outputs": [
    {
     "data": {
      "text/plain": [
       "<Axes: xlabel='v0'>"
      ]
     },
     "execution_count": 4,
     "metadata": {},
     "output_type": "execute_result"
    },
    {
     "data": {
      "image/png": "[encoded data removed]",
      "text/plain": [
       "<Figure size 640x480 with 1 Axes>"
      ]
     },
     "metadata": {},
     "output_type": "display_data"
    }
   ],
   "source": [
    "df.causal.do(x={treatment: 1}, \n",
    "              variable_types={treatment:'b', outcome: 'c', common_cause: 'c'}, \n",
    "              outcome=outcome,\n",
    "              method='weighting', \n",
    "              common_causes=[common_cause]\n",
    "              ).groupby(treatment).mean().plot(y=outcome, kind='bar')"
   ]
  },
  {
   "cell_type": "code",
   "execution_count": 5,
   "metadata": {
    "execution": {
     "iopub.execute_input": "2024-01-30T17:49:22.357913Z",
     "iopub.status.busy": "2024-01-30T17:49:22.357525Z",
     "iopub.status.idle": "2024-01-30T17:49:22.377712Z",
     "shell.execute_reply": "2024-01-30T17:49:22.377111Z"
    }
   },
   "outputs": [],
   "source": [
    "cdf_1 = df.causal.do(x={treatment: 1}, \n",
    "              variable_types={treatment: 'b', outcome: 'c', common_cause: 'c'}, \n",
    "              outcome=outcome, \n",
    "              graph=nx_graph\n",
    "              )\n",
    "\n",
    "cdf_0 = df.causal.do(x={treatment: 0}, \n",
    "              variable_types={treatment: 'b', outcome: 'c', common_cause: 'c'}, \n",
    "              outcome=outcome, \n",
    "              graph=nx_graph\n",
    "              )\n"
   ]
  },
  {
   "cell_type": "code",
   "execution_count": 6,
   "metadata": {
    "execution": {
     "iopub.execute_input": "2024-01-30T17:49:22.380137Z",
     "iopub.status.busy": "2024-01-30T17:49:22.379827Z",
     "iopub.status.idle": "2024-01-30T17:49:22.388554Z",
     "shell.execute_reply": "2024-01-30T17:49:22.387963Z"
    },
    "scrolled": true
   },
   "outputs": [
    {
     "data": {
      "text/html": [
       "<div>\n",
       "<style scoped>\n",
       "    .dataframe tbody tr th:only-of-type {\n",
       "        vertical-align: middle;\n",
       "    }\n",
       "\n",
       "    .dataframe tbody tr th {\n",
       "        vertical-align: top;\n",
       "    }\n",
       "\n",
       "    .dataframe thead th {\n",
       "        text-align: right;\n",
       "    }\n",
       "</style>\n",
       "<table border=\"1\" class=\"dataframe\">\n",
       "  <thead>\n",
       "    <tr style=\"text-align: right;\">\n",
       "      <th></th>\n",
       "      <th>W0</th>\n",
       "      <th>v0</th>\n",
       "      <th>y</th>\n",
       "      <th>propensity_score</th>\n",
       "      <th>weight</th>\n",
       "    </tr>\n",
       "  </thead>\n",
       "  <tbody>\n",
       "    <tr>\n",
       "      <th>0</th>\n",
       "      <td>-2.155910</td>\n",
       "      <td>False</td>\n",
       "      <td>-3.533915</td>\n",
       "      <td>0.976749</td>\n",
       "      <td>1.023804</td>\n",
       "    </tr>\n",
       "    <tr>\n",
       "      <th>1</th>\n",
       "      <td>-0.441365</td>\n",
       "      <td>False</td>\n",
       "      <td>-1.525737</td>\n",
       "      <td>0.704672</td>\n",
       "      <td>1.419100</td>\n",
       "    </tr>\n",
       "    <tr>\n",
       "      <th>2</th>\n",
       "      <td>-0.067522</td>\n",
       "      <td>False</td>\n",
       "      <td>-1.295933</td>\n",
       "      <td>0.560761</td>\n",
       "      <td>1.783292</td>\n",
       "    </tr>\n",
       "    <tr>\n",
       "      <th>3</th>\n",
       "      <td>-1.382885</td>\n",
       "      <td>False</td>\n",
       "      <td>-2.705320</td>\n",
       "      <td>0.920173</td>\n",
       "      <td>1.086752</td>\n",
       "    </tr>\n",
       "    <tr>\n",
       "      <th>4</th>\n",
       "      <td>-0.901488</td>\n",
       "      <td>False</td>\n",
       "      <td>-1.921900</td>\n",
       "      <td>0.837450</td>\n",
       "      <td>1.194100</td>\n",
       "    </tr>\n",
       "    <tr>\n",
       "      <th>...</th>\n",
       "      <td>...</td>\n",
       "      <td>...</td>\n",
       "      <td>...</td>\n",
       "      <td>...</td>\n",
       "      <td>...</td>\n",
       "    </tr>\n",
       "    <tr>\n",
       "      <th>995</th>\n",
       "      <td>-1.336045</td>\n",
       "      <td>False</td>\n",
       "      <td>-3.185294</td>\n",
       "      <td>0.914225</td>\n",
       "      <td>1.093823</td>\n",
       "    </tr>\n",
       "    <tr>\n",
       "      <th>996</th>\n",
       "      <td>-2.543715</td>\n",
       "      <td>False</td>\n",
       "      <td>-4.624259</td>\n",
       "      <td>0.987710</td>\n",
       "      <td>1.012443</td>\n",
       "    </tr>\n",
       "    <tr>\n",
       "      <th>997</th>\n",
       "      <td>-2.254571</td>\n",
       "      <td>False</td>\n",
       "      <td>-3.938416</td>\n",
       "      <td>0.980217</td>\n",
       "      <td>1.020183</td>\n",
       "    </tr>\n",
       "    <tr>\n",
       "      <th>998</th>\n",
       "      <td>-1.977254</td>\n",
       "      <td>False</td>\n",
       "      <td>-3.226152</td>\n",
       "      <td>0.968902</td>\n",
       "      <td>1.032096</td>\n",
       "    </tr>\n",
       "    <tr>\n",
       "      <th>999</th>\n",
       "      <td>-2.201811</td>\n",
       "      <td>False</td>\n",
       "      <td>-3.335031</td>\n",
       "      <td>0.978431</td>\n",
       "      <td>1.022045</td>\n",
       "    </tr>\n",
       "  </tbody>\n",
       "</table>\n",
       "<p>1000 rows × 5 columns</p>\n",
       "</div>"
      ],
      "text/plain": [
       "           W0     v0         y  propensity_score    weight\n",
       "0   -2.155910  False -3.533915          0.976749  1.023804\n",
       "1   -0.441365  False -1.525737          0.704672  1.419100\n",
       "2   -0.067522  False -1.295933          0.560761  1.783292\n",
       "3   -1.382885  False -2.705320          0.920173  1.086752\n",
       "4   -0.901488  False -1.921900          0.837450  1.194100\n",
       "..        ...    ...       ...               ...       ...\n",
       "995 -1.336045  False -3.185294          0.914225  1.093823\n",
       "996 -2.543715  False -4.624259          0.987710  1.012443\n",
       "997 -2.254571  False -3.938416          0.980217  1.020183\n",
       "998 -1.977254  False -3.226152          0.968902  1.032096\n",
       "999 -2.201811  False -3.335031          0.978431  1.022045\n",
       "\n",
       "[1000 rows x 5 columns]"
      ]
     },
     "execution_count": 6,
     "metadata": {},
     "output_type": "execute_result"
    }
   ],
   "source": [
    "cdf_0"
   ]
  },
  {
   "cell_type": "code",
   "execution_count": 7,
   "metadata": {
    "execution": {
     "iopub.execute_input": "2024-01-30T17:49:22.390660Z",
     "iopub.status.busy": "2024-01-30T17:49:22.390472Z",
     "iopub.status.idle": "2024-01-30T17:49:22.399241Z",
     "shell.execute_reply": "2024-01-30T17:49:22.398651Z"
    }
   },
   "outputs": [
    {
     "data": {
      "text/html": [
       "<div>\n",
       "<style scoped>\n",
       "    .dataframe tbody tr th:only-of-type {\n",
       "        vertical-align: middle;\n",
       "    }\n",
       "\n",
       "    .dataframe tbody tr th {\n",
       "        vertical-align: top;\n",
       "    }\n",
       "\n",
       "    .dataframe thead th {\n",
       "        text-align: right;\n",
       "    }\n",
       "</style>\n",
       "<table border=\"1\" class=\"dataframe\">\n",
       "  <thead>\n",
       "    <tr style=\"text-align: right;\">\n",
       "      <th></th>\n",
       "      <th>W0</th>\n",
       "      <th>v0</th>\n",
       "      <th>y</th>\n",
       "      <th>propensity_score</th>\n",
       "      <th>weight</th>\n",
       "    </tr>\n",
       "  </thead>\n",
       "  <tbody>\n",
       "    <tr>\n",
       "      <th>0</th>\n",
       "      <td>-1.372984</td>\n",
       "      <td>True</td>\n",
       "      <td>1.117957</td>\n",
       "      <td>0.081052</td>\n",
       "      <td>12.337750</td>\n",
       "    </tr>\n",
       "    <tr>\n",
       "      <th>1</th>\n",
       "      <td>0.617011</td>\n",
       "      <td>True</td>\n",
       "      <td>4.452866</td>\n",
       "      <td>0.711133</td>\n",
       "      <td>1.406206</td>\n",
       "    </tr>\n",
       "    <tr>\n",
       "      <th>2</th>\n",
       "      <td>0.493633</td>\n",
       "      <td>True</td>\n",
       "      <td>6.485472</td>\n",
       "      <td>0.666967</td>\n",
       "      <td>1.499325</td>\n",
       "    </tr>\n",
       "    <tr>\n",
       "      <th>3</th>\n",
       "      <td>-1.276278</td>\n",
       "      <td>True</td>\n",
       "      <td>0.402929</td>\n",
       "      <td>0.093948</td>\n",
       "      <td>10.644226</td>\n",
       "    </tr>\n",
       "    <tr>\n",
       "      <th>4</th>\n",
       "      <td>0.166752</td>\n",
       "      <td>True</td>\n",
       "      <td>3.515391</td>\n",
       "      <td>0.536849</td>\n",
       "      <td>1.862721</td>\n",
       "    </tr>\n",
       "    <tr>\n",
       "      <th>...</th>\n",
       "      <td>...</td>\n",
       "      <td>...</td>\n",
       "      <td>...</td>\n",
       "      <td>...</td>\n",
       "      <td>...</td>\n",
       "    </tr>\n",
       "    <tr>\n",
       "      <th>995</th>\n",
       "      <td>-1.599239</td>\n",
       "      <td>True</td>\n",
       "      <td>1.807711</td>\n",
       "      <td>0.056967</td>\n",
       "      <td>17.554155</td>\n",
       "    </tr>\n",
       "    <tr>\n",
       "      <th>996</th>\n",
       "      <td>-1.276278</td>\n",
       "      <td>True</td>\n",
       "      <td>0.402929</td>\n",
       "      <td>0.093948</td>\n",
       "      <td>10.644226</td>\n",
       "    </tr>\n",
       "    <tr>\n",
       "      <th>997</th>\n",
       "      <td>-1.276278</td>\n",
       "      <td>True</td>\n",
       "      <td>0.402929</td>\n",
       "      <td>0.093948</td>\n",
       "      <td>10.644226</td>\n",
       "    </tr>\n",
       "    <tr>\n",
       "      <th>998</th>\n",
       "      <td>-0.225997</td>\n",
       "      <td>True</td>\n",
       "      <td>5.033551</td>\n",
       "      <td>0.375343</td>\n",
       "      <td>2.664227</td>\n",
       "    </tr>\n",
       "    <tr>\n",
       "      <th>999</th>\n",
       "      <td>-1.827456</td>\n",
       "      <td>True</td>\n",
       "      <td>0.308708</td>\n",
       "      <td>0.039604</td>\n",
       "      <td>25.250029</td>\n",
       "    </tr>\n",
       "  </tbody>\n",
       "</table>\n",
       "<p>1000 rows × 5 columns</p>\n",
       "</div>"
      ],
      "text/plain": [
       "           W0    v0         y  propensity_score     weight\n",
       "0   -1.372984  True  1.117957          0.081052  12.337750\n",
       "1    0.617011  True  4.452866          0.711133   1.406206\n",
       "2    0.493633  True  6.485472          0.666967   1.499325\n",
       "3   -1.276278  True  0.402929          0.093948  10.644226\n",
       "4    0.166752  True  3.515391          0.536849   1.862721\n",
       "..        ...   ...       ...               ...        ...\n",
       "995 -1.599239  True  1.807711          0.056967  17.554155\n",
       "996 -1.276278  True  0.402929          0.093948  10.644226\n",
       "997 -1.276278  True  0.402929          0.093948  10.644226\n",
       "998 -0.225997  True  5.033551          0.375343   2.664227\n",
       "999 -1.827456  True  0.308708          0.039604  25.250029\n",
       "\n",
       "[1000 rows x 5 columns]"
      ]
     },
     "execution_count": 7,
     "metadata": {},
     "output_type": "execute_result"
    }
   ],
   "source": [
    "cdf_1"
   ]
  },
  {
   "cell_type": "markdown",
   "metadata": {},
   "source": [
    "## Comparing the estimate to Linear Regression\n",
    "First, estimating the effect using the causal data frame, and the 95% confidence interval."
   ]
  },
  {
   "cell_type": "code",
   "execution_count": 8,
   "metadata": {
    "execution": {
     "iopub.execute_input": "2024-01-30T17:49:22.401381Z",
     "iopub.status.busy": "2024-01-30T17:49:22.401075Z",
     "iopub.status.idle": "2024-01-30T17:49:22.446310Z",
     "shell.execute_reply": "2024-01-30T17:49:22.445703Z"
    }
   },
   "outputs": [
    {
     "data": {
      "image/png": "[encoded data removed]",
      "text/latex": [
       "$\\displaystyle 5.56566625592569$"
      ],
      "text/plain": [
       "5.565666255925686"
      ]
     },
     "execution_count": 8,
     "metadata": {},
     "output_type": "execute_result"
    }
   ],
   "source": [
    "(cdf_1['y'] - cdf_0['y']).mean()"
   ]
  },
  {
   "cell_type": "code",
   "execution_count": 9,
   "metadata": {
    "execution": {
     "iopub.execute_input": "2024-01-30T17:49:22.448651Z",
     "iopub.status.busy": "2024-01-30T17:49:22.448231Z",
     "iopub.status.idle": "2024-01-30T17:49:22.463324Z",
     "shell.execute_reply": "2024-01-30T17:49:22.462740Z"
    }
   },
   "outputs": [
    {
     "data": {
      "image/png": "[encoded data removed]",
      "text/latex": [
       "$\\displaystyle 0.173729530342326$"
      ],
      "text/plain": [
       "0.1737295303423264"
      ]
     },
     "execution_count": 9,
     "metadata": {},
     "output_type": "execute_result"
    }
   ],
   "source": [
    "1.96*(cdf_1['y'] - cdf_0['y']).std() / np.sqrt(len(df))"
   ]
  },
  {
   "cell_type": "markdown",
   "metadata": {},
   "source": [
    "Comparing to the estimate from OLS."
   ]
  },
  {
   "cell_type": "code",
   "execution_count": 10,
   "metadata": {
    "execution": {
     "iopub.execute_input": "2024-01-30T17:49:22.465562Z",
     "iopub.status.busy": "2024-01-30T17:49:22.465210Z",
     "iopub.status.idle": "2024-01-30T17:49:22.481146Z",
     "shell.execute_reply": "2024-01-30T17:49:22.480566Z"
    }
   },
   "outputs": [
    {
     "data": {
      "text/html": [
       "<table class=\"simpletable\">\n",
       "<caption>OLS Regression Results</caption>\n",
       "<tr>\n",
       "  <th>Dep. Variable:</th>            <td>y</td>        <th>  R-squared (uncentered):</th>      <td>   0.931</td>\n",
       "</tr>\n",
       "<tr>\n",
       "  <th>Model:</th>                   <td>OLS</td>       <th>  Adj. R-squared (uncentered):</th> <td>   0.931</td>\n",
       "</tr>\n",
       "<tr>\n",
       "  <th>Method:</th>             <td>Least Squares</td>  <th>  F-statistic:       </th>          <td>   6698.</td>\n",
       "</tr>\n",
       "<tr>\n",
       "  <th>Date:</th>             <td>Tue, 30 Jan 2024</td> <th>  Prob (F-statistic):</th>           <td>  0.00</td> \n",
       "</tr>\n",
       "<tr>\n",
       "  <th>Time:</th>                 <td>17:49:22</td>     <th>  Log-Likelihood:    </th>          <td> -1385.5</td>\n",
       "</tr>\n",
       "<tr>\n",
       "  <th>No. Observations:</th>      <td>  1000</td>      <th>  AIC:               </th>          <td>   2775.</td>\n",
       "</tr>\n",
       "<tr>\n",
       "  <th>Df Residuals:</th>          <td>   998</td>      <th>  BIC:               </th>          <td>   2785.</td>\n",
       "</tr>\n",
       "<tr>\n",
       "  <th>Df Model:</th>              <td>     2</td>      <th>                     </th>              <td> </td>   \n",
       "</tr>\n",
       "<tr>\n",
       "  <th>Covariance Type:</th>      <td>nonrobust</td>    <th>                     </th>              <td> </td>   \n",
       "</tr>\n",
       "</table>\n",
       "<table class=\"simpletable\">\n",
       "<tr>\n",
       "   <td></td>     <th>coef</th>     <th>std err</th>      <th>t</th>      <th>P>|t|</th>  <th>[0.025</th>    <th>0.975]</th>  \n",
       "</tr>\n",
       "<tr>\n",
       "  <th>x1</th> <td>    1.7779</td> <td>    0.024</td> <td>   75.608</td> <td> 0.000</td> <td>    1.732</td> <td>    1.824</td>\n",
       "</tr>\n",
       "<tr>\n",
       "  <th>x2</th> <td>    5.0044</td> <td>    0.059</td> <td>   85.216</td> <td> 0.000</td> <td>    4.889</td> <td>    5.120</td>\n",
       "</tr>\n",
       "</table>\n",
       "<table class=\"simpletable\">\n",
       "<tr>\n",
       "  <th>Omnibus:</th>       <td> 4.605</td> <th>  Durbin-Watson:     </th> <td>   1.973</td>\n",
       "</tr>\n",
       "<tr>\n",
       "  <th>Prob(Omnibus):</th> <td> 0.100</td> <th>  Jarque-Bera (JB):  </th> <td>   5.538</td>\n",
       "</tr>\n",
       "<tr>\n",
       "  <th>Skew:</th>          <td> 0.021</td> <th>  Prob(JB):          </th> <td>  0.0627</td>\n",
       "</tr>\n",
       "<tr>\n",
       "  <th>Kurtosis:</th>      <td> 3.362</td> <th>  Cond. No.          </th> <td>    2.50</td>\n",
       "</tr>\n",
       "</table><br/><br/>Notes:<br/>[1] R² is computed without centering (uncentered) since the model does not contain a constant.<br/>[2] Standard Errors assume that the covariance matrix of the errors is correctly specified."
      ],
      "text/latex": [
       "\\begin{center}\n",
       "\\begin{tabular}{lclc}\n",
       "\\toprule\n",
       "\\textbf{Dep. Variable:}    &        y         & \\textbf{  R-squared (uncentered):}      &     0.931   \\\\\n",
       "\\textbf{Model:}            &       OLS        & \\textbf{  Adj. R-squared (uncentered):} &     0.931   \\\\\n",
       "\\textbf{Method:}           &  Least Squares   & \\textbf{  F-statistic:       }          &     6698.   \\\\\n",
       "\\textbf{Date:}             & Tue, 30 Jan 2024 & \\textbf{  Prob (F-statistic):}          &     0.00    \\\\\n",
       "\\textbf{Time:}             &     17:49:22     & \\textbf{  Log-Likelihood:    }          &   -1385.5   \\\\\n",
       "\\textbf{No. Observations:} &        1000      & \\textbf{  AIC:               }          &     2775.   \\\\\n",
       "\\textbf{Df Residuals:}     &         998      & \\textbf{  BIC:               }          &     2785.   \\\\\n",
       "\\textbf{Df Model:}         &           2      & \\textbf{                     }          &             \\\\\n",
       "\\textbf{Covariance Type:}  &    nonrobust     & \\textbf{                     }          &             \\\\\n",
       "\\bottomrule\n",
       "\\end{tabular}\n",
       "\\begin{tabular}{lcccccc}\n",
       "            & \\textbf{coef} & \\textbf{std err} & \\textbf{t} & \\textbf{P$> |$t$|$} & \\textbf{[0.025} & \\textbf{0.975]}  \\\\\n",
       "\\midrule\n",
       "\\textbf{x1} &       1.7779  &        0.024     &    75.608  &         0.000        &        1.732    &        1.824     \\\\\n",
       "\\textbf{x2} &       5.0044  &        0.059     &    85.216  &         0.000        &        4.889    &        5.120     \\\\\n",
       "\\bottomrule\n",
       "\\end{tabular}\n",
       "\\begin{tabular}{lclc}\n",
       "\\textbf{Omnibus:}       &  4.605 & \\textbf{  Durbin-Watson:     } &    1.973  \\\\\n",
       "\\textbf{Prob(Omnibus):} &  0.100 & \\textbf{  Jarque-Bera (JB):  } &    5.538  \\\\\n",
       "\\textbf{Skew:}          &  0.021 & \\textbf{  Prob(JB):          } &   0.0627  \\\\\n",
       "\\textbf{Kurtosis:}      &  3.362 & \\textbf{  Cond. No.          } &     2.50  \\\\\n",
       "\\bottomrule\n",
       "\\end{tabular}\n",
       "%\\caption{OLS Regression Results}\n",
       "\\end{center}\n",
       "\n",
       "Notes: \\newline\n",
       " [1] R² is computed without centering (uncentered) since the model does not contain a constant. \\newline\n",
       " [2] Standard Errors assume that the covariance matrix of the errors is correctly specified."
      ],
      "text/plain": [
       "<class 'statsmodels.iolib.summary.Summary'>\n",
       "\"\"\"\n",
       "                                 OLS Regression Results                                \n",
       "=======================================================================================\n",
       "Dep. Variable:                      y   R-squared (uncentered):                   0.931\n",
       "Model:                            OLS   Adj. R-squared (uncentered):              0.931\n",
       "Method:                 Least Squares   F-statistic:                              6698.\n",
       "Date:                Tue, 30 Jan 2024   Prob (F-statistic):                        0.00\n",
       "Time:                        17:49:22   Log-Likelihood:                         -1385.5\n",
       "No. Observations:                1000   AIC:                                      2775.\n",
       "Df Residuals:                     998   BIC:                                      2785.\n",
       "Df Model:                           2                                                  \n",
       "Covariance Type:            nonrobust                                                  \n",
       "==============================================================================\n",
       "                 coef    std err          t      P>|t|      [0.025      0.975]\n",
       "------------------------------------------------------------------------------\n",
       "x1             1.7779      0.024     75.608      0.000       1.732       1.824\n",
       "x2             5.0044      0.059     85.216      0.000       4.889       5.120\n",
       "==============================================================================\n",
       "Omnibus:                        4.605   Durbin-Watson:                   1.973\n",
       "Prob(Omnibus):                  0.100   Jarque-Bera (JB):                5.538\n",
       "Skew:                           0.021   Prob(JB):                       0.0627\n",
       "Kurtosis:                       3.362   Cond. No.                         2.50\n",
       "==============================================================================\n",
       "\n",
       "Notes:\n",
       "[1] R² is computed without centering (uncentered) since the model does not contain a constant.\n",
       "[2] Standard Errors assume that the covariance matrix of the errors is correctly specified.\n",
       "\"\"\""
      ]
     },
     "execution_count": 10,
     "metadata": {},
     "output_type": "execute_result"
    }
   ],
   "source": [
    "model = OLS(np.asarray(df[outcome]), np.asarray(df[[common_cause, treatment]], dtype=np.float64))\n",
    "result = model.fit()\n",
    "result.summary()"
   ]
  }
 ],
 "metadata": {
  "kernelspec": {
   "display_name": "Python 3 (ipykernel)",
   "language": "python",
   "name": "python3"
  },
  "language_info": {
   "codemirror_mode": {
    "name": "ipython",
    "version": 3
   },
   "file_extension": ".py",
   "mimetype": "text/x-python",
   "name": "python",
   "nbconvert_exporter": "python",
   "pygments_lexer": "ipython3",
   "version": "3.8.10"
  },
  "toc": {
   "base_numbering": 1,
   "nav_menu": {},
   "number_sections": false,
   "sideBar": true,
   "skip_h1_title": true,
   "title_cell": "Table of Contents",
   "title_sidebar": "Contents",
   "toc_cell": false,
   "toc_position": {},
   "toc_section_display": true,
   "toc_window_display": false
  }
 },
 "nbformat": 4,
 "nbformat_minor": 4
}
