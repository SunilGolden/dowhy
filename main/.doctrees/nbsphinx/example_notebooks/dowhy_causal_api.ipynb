{
 "cells": [
  {
   "cell_type": "markdown",
   "metadata": {},
   "source": [
    "# Demo for the DoWhy causal API\n",
    "We show a simple example of adding a causal extension to any dataframe. "
   ]
  },
  {
   "cell_type": "code",
   "execution_count": 1,
   "metadata": {
    "execution": {
     "iopub.execute_input": "2023-12-04T16:13:28.669567Z",
     "iopub.status.busy": "2023-12-04T16:13:28.669184Z",
     "iopub.status.idle": "2023-12-04T16:13:30.005388Z",
     "shell.execute_reply": "2023-12-04T16:13:30.004753Z"
    }
   },
   "outputs": [],
   "source": [
    "import dowhy.datasets\n",
    "import dowhy.api\n",
    "from dowhy.graph import build_graph_from_str\n",
    "\n",
    "import numpy as np\n",
    "import pandas as pd\n",
    "\n",
    "from statsmodels.api import OLS"
   ]
  },
  {
   "cell_type": "code",
   "execution_count": 2,
   "metadata": {
    "execution": {
     "iopub.execute_input": "2023-12-04T16:13:30.008420Z",
     "iopub.status.busy": "2023-12-04T16:13:30.007934Z",
     "iopub.status.idle": "2023-12-04T16:13:30.043854Z",
     "shell.execute_reply": "2023-12-04T16:13:30.043296Z"
    }
   },
   "outputs": [
    {
     "data": {
      "text/html": [
       "<div>\n",
       "<style scoped>\n",
       "    .dataframe tbody tr th:only-of-type {\n",
       "        vertical-align: middle;\n",
       "    }\n",
       "\n",
       "    .dataframe tbody tr th {\n",
       "        vertical-align: top;\n",
       "    }\n",
       "\n",
       "    .dataframe thead th {\n",
       "        text-align: right;\n",
       "    }\n",
       "</style>\n",
       "<table border=\"1\" class=\"dataframe\">\n",
       "  <thead>\n",
       "    <tr style=\"text-align: right;\">\n",
       "      <th></th>\n",
       "      <th>W0</th>\n",
       "      <th>v0</th>\n",
       "      <th>y</th>\n",
       "    </tr>\n",
       "  </thead>\n",
       "  <tbody>\n",
       "    <tr>\n",
       "      <th>0</th>\n",
       "      <td>-0.514976</td>\n",
       "      <td>True</td>\n",
       "      <td>4.359550</td>\n",
       "    </tr>\n",
       "    <tr>\n",
       "      <th>1</th>\n",
       "      <td>-0.394631</td>\n",
       "      <td>False</td>\n",
       "      <td>0.032995</td>\n",
       "    </tr>\n",
       "    <tr>\n",
       "      <th>2</th>\n",
       "      <td>0.561182</td>\n",
       "      <td>False</td>\n",
       "      <td>1.599352</td>\n",
       "    </tr>\n",
       "    <tr>\n",
       "      <th>3</th>\n",
       "      <td>-0.494669</td>\n",
       "      <td>False</td>\n",
       "      <td>0.425168</td>\n",
       "    </tr>\n",
       "    <tr>\n",
       "      <th>4</th>\n",
       "      <td>-0.271945</td>\n",
       "      <td>False</td>\n",
       "      <td>-1.305567</td>\n",
       "    </tr>\n",
       "    <tr>\n",
       "      <th>...</th>\n",
       "      <td>...</td>\n",
       "      <td>...</td>\n",
       "      <td>...</td>\n",
       "    </tr>\n",
       "    <tr>\n",
       "      <th>995</th>\n",
       "      <td>-1.257283</td>\n",
       "      <td>False</td>\n",
       "      <td>-3.344791</td>\n",
       "    </tr>\n",
       "    <tr>\n",
       "      <th>996</th>\n",
       "      <td>-1.112895</td>\n",
       "      <td>False</td>\n",
       "      <td>-2.094263</td>\n",
       "    </tr>\n",
       "    <tr>\n",
       "      <th>997</th>\n",
       "      <td>0.874417</td>\n",
       "      <td>True</td>\n",
       "      <td>5.275823</td>\n",
       "    </tr>\n",
       "    <tr>\n",
       "      <th>998</th>\n",
       "      <td>-2.079924</td>\n",
       "      <td>False</td>\n",
       "      <td>-4.302216</td>\n",
       "    </tr>\n",
       "    <tr>\n",
       "      <th>999</th>\n",
       "      <td>-0.757774</td>\n",
       "      <td>False</td>\n",
       "      <td>-1.854010</td>\n",
       "    </tr>\n",
       "  </tbody>\n",
       "</table>\n",
       "<p>1000 rows × 3 columns</p>\n",
       "</div>"
      ],
      "text/plain": [
       "           W0     v0         y\n",
       "0   -0.514976   True  4.359550\n",
       "1   -0.394631  False  0.032995\n",
       "2    0.561182  False  1.599352\n",
       "3   -0.494669  False  0.425168\n",
       "4   -0.271945  False -1.305567\n",
       "..        ...    ...       ...\n",
       "995 -1.257283  False -3.344791\n",
       "996 -1.112895  False -2.094263\n",
       "997  0.874417   True  5.275823\n",
       "998 -2.079924  False -4.302216\n",
       "999 -0.757774  False -1.854010\n",
       "\n",
       "[1000 rows x 3 columns]"
      ]
     },
     "execution_count": 2,
     "metadata": {},
     "output_type": "execute_result"
    }
   ],
   "source": [
    "data = dowhy.datasets.linear_dataset(beta=5,\n",
    "        num_common_causes=1,\n",
    "        num_instruments = 0,\n",
    "        num_samples=1000,\n",
    "        treatment_is_binary=True)\n",
    "df = data['df']\n",
    "df['y'] = df['y'] + np.random.normal(size=len(df)) # Adding noise to data. Without noise, the variance in Y|X, Z is zero, and mcmc fails.\n",
    "nx_graph = build_graph_from_str(data[\"dot_graph\"])\n",
    "\n",
    "treatment= data[\"treatment_name\"][0]\n",
    "outcome = data[\"outcome_name\"][0]\n",
    "common_cause = data[\"common_causes_names\"][0]\n",
    "df"
   ]
  },
  {
   "cell_type": "code",
   "execution_count": 3,
   "metadata": {
    "execution": {
     "iopub.execute_input": "2023-12-04T16:13:30.046003Z",
     "iopub.status.busy": "2023-12-04T16:13:30.045821Z",
     "iopub.status.idle": "2023-12-04T16:13:30.223833Z",
     "shell.execute_reply": "2023-12-04T16:13:30.223325Z"
    },
    "scrolled": true
   },
   "outputs": [
    {
     "data": {
      "text/plain": [
       "<Axes: xlabel='v0'>"
      ]
     },
     "execution_count": 3,
     "metadata": {},
     "output_type": "execute_result"
    },
    {
     "data": {
      "image/png": "[encoded data removed]",
      "text/plain": [
       "<Figure size 640x480 with 1 Axes>"
      ]
     },
     "metadata": {},
     "output_type": "display_data"
    }
   ],
   "source": [
    "# data['df'] is just a regular pandas.DataFrame\n",
    "df.causal.do(x=treatment,\n",
    "             variable_types={treatment: 'b', outcome: 'c', common_cause: 'c'},\n",
    "             outcome=outcome,\n",
    "             common_causes=[common_cause],\n",
    "            ).groupby(treatment).mean().plot(y=outcome, kind='bar')"
   ]
  },
  {
   "cell_type": "code",
   "execution_count": 4,
   "metadata": {
    "execution": {
     "iopub.execute_input": "2023-12-04T16:13:30.226339Z",
     "iopub.status.busy": "2023-12-04T16:13:30.225875Z",
     "iopub.status.idle": "2023-12-04T16:13:30.361759Z",
     "shell.execute_reply": "2023-12-04T16:13:30.361273Z"
    }
   },
   "outputs": [
    {
     "data": {
      "text/plain": [
       "<Axes: xlabel='v0'>"
      ]
     },
     "execution_count": 4,
     "metadata": {},
     "output_type": "execute_result"
    },
    {
     "data": {
      "image/png": "[encoded data removed]",
      "text/plain": [
       "<Figure size 640x480 with 1 Axes>"
      ]
     },
     "metadata": {},
     "output_type": "display_data"
    }
   ],
   "source": [
    "df.causal.do(x={treatment: 1}, \n",
    "              variable_types={treatment:'b', outcome: 'c', common_cause: 'c'}, \n",
    "              outcome=outcome,\n",
    "              method='weighting', \n",
    "              common_causes=[common_cause]\n",
    "              ).groupby(treatment).mean().plot(y=outcome, kind='bar')"
   ]
  },
  {
   "cell_type": "code",
   "execution_count": 5,
   "metadata": {
    "execution": {
     "iopub.execute_input": "2023-12-04T16:13:30.363878Z",
     "iopub.status.busy": "2023-12-04T16:13:30.363566Z",
     "iopub.status.idle": "2023-12-04T16:13:30.383105Z",
     "shell.execute_reply": "2023-12-04T16:13:30.382497Z"
    }
   },
   "outputs": [],
   "source": [
    "cdf_1 = df.causal.do(x={treatment: 1}, \n",
    "              variable_types={treatment: 'b', outcome: 'c', common_cause: 'c'}, \n",
    "              outcome=outcome, \n",
    "              graph=nx_graph\n",
    "              )\n",
    "\n",
    "cdf_0 = df.causal.do(x={treatment: 0}, \n",
    "              variable_types={treatment: 'b', outcome: 'c', common_cause: 'c'}, \n",
    "              outcome=outcome, \n",
    "              graph=nx_graph\n",
    "              )\n"
   ]
  },
  {
   "cell_type": "code",
   "execution_count": 6,
   "metadata": {
    "execution": {
     "iopub.execute_input": "2023-12-04T16:13:30.385179Z",
     "iopub.status.busy": "2023-12-04T16:13:30.384907Z",
     "iopub.status.idle": "2023-12-04T16:13:30.393349Z",
     "shell.execute_reply": "2023-12-04T16:13:30.392829Z"
    },
    "scrolled": true
   },
   "outputs": [
    {
     "data": {
      "text/html": [
       "<div>\n",
       "<style scoped>\n",
       "    .dataframe tbody tr th:only-of-type {\n",
       "        vertical-align: middle;\n",
       "    }\n",
       "\n",
       "    .dataframe tbody tr th {\n",
       "        vertical-align: top;\n",
       "    }\n",
       "\n",
       "    .dataframe thead th {\n",
       "        text-align: right;\n",
       "    }\n",
       "</style>\n",
       "<table border=\"1\" class=\"dataframe\">\n",
       "  <thead>\n",
       "    <tr style=\"text-align: right;\">\n",
       "      <th></th>\n",
       "      <th>W0</th>\n",
       "      <th>v0</th>\n",
       "      <th>y</th>\n",
       "      <th>propensity_score</th>\n",
       "      <th>weight</th>\n",
       "    </tr>\n",
       "  </thead>\n",
       "  <tbody>\n",
       "    <tr>\n",
       "      <th>0</th>\n",
       "      <td>-1.310720</td>\n",
       "      <td>False</td>\n",
       "      <td>-0.750905</td>\n",
       "      <td>0.909984</td>\n",
       "      <td>1.098920</td>\n",
       "    </tr>\n",
       "    <tr>\n",
       "      <th>1</th>\n",
       "      <td>-1.038948</td>\n",
       "      <td>False</td>\n",
       "      <td>-3.626635</td>\n",
       "      <td>0.859885</td>\n",
       "      <td>1.162946</td>\n",
       "    </tr>\n",
       "    <tr>\n",
       "      <th>2</th>\n",
       "      <td>-1.327176</td>\n",
       "      <td>False</td>\n",
       "      <td>-2.421717</td>\n",
       "      <td>0.912429</td>\n",
       "      <td>1.095976</td>\n",
       "    </tr>\n",
       "    <tr>\n",
       "      <th>3</th>\n",
       "      <td>-0.477815</td>\n",
       "      <td>False</td>\n",
       "      <td>-1.076627</td>\n",
       "      <td>0.686504</td>\n",
       "      <td>1.456656</td>\n",
       "    </tr>\n",
       "    <tr>\n",
       "      <th>4</th>\n",
       "      <td>-1.565529</td>\n",
       "      <td>False</td>\n",
       "      <td>-4.138983</td>\n",
       "      <td>0.941662</td>\n",
       "      <td>1.061952</td>\n",
       "    </tr>\n",
       "    <tr>\n",
       "      <th>...</th>\n",
       "      <td>...</td>\n",
       "      <td>...</td>\n",
       "      <td>...</td>\n",
       "      <td>...</td>\n",
       "      <td>...</td>\n",
       "    </tr>\n",
       "    <tr>\n",
       "      <th>995</th>\n",
       "      <td>0.789350</td>\n",
       "      <td>False</td>\n",
       "      <td>1.814227</td>\n",
       "      <td>0.176056</td>\n",
       "      <td>5.680006</td>\n",
       "    </tr>\n",
       "    <tr>\n",
       "      <th>996</th>\n",
       "      <td>-1.004336</td>\n",
       "      <td>False</td>\n",
       "      <td>-1.228564</td>\n",
       "      <td>0.852050</td>\n",
       "      <td>1.173640</td>\n",
       "    </tr>\n",
       "    <tr>\n",
       "      <th>997</th>\n",
       "      <td>-1.008770</td>\n",
       "      <td>False</td>\n",
       "      <td>-2.473640</td>\n",
       "      <td>0.853073</td>\n",
       "      <td>1.172232</td>\n",
       "    </tr>\n",
       "    <tr>\n",
       "      <th>998</th>\n",
       "      <td>-1.451615</td>\n",
       "      <td>False</td>\n",
       "      <td>-3.745707</td>\n",
       "      <td>0.929050</td>\n",
       "      <td>1.076368</td>\n",
       "    </tr>\n",
       "    <tr>\n",
       "      <th>999</th>\n",
       "      <td>-1.320044</td>\n",
       "      <td>False</td>\n",
       "      <td>-4.228732</td>\n",
       "      <td>0.911377</td>\n",
       "      <td>1.097241</td>\n",
       "    </tr>\n",
       "  </tbody>\n",
       "</table>\n",
       "<p>1000 rows × 5 columns</p>\n",
       "</div>"
      ],
      "text/plain": [
       "           W0     v0         y  propensity_score    weight\n",
       "0   -1.310720  False -0.750905          0.909984  1.098920\n",
       "1   -1.038948  False -3.626635          0.859885  1.162946\n",
       "2   -1.327176  False -2.421717          0.912429  1.095976\n",
       "3   -0.477815  False -1.076627          0.686504  1.456656\n",
       "4   -1.565529  False -4.138983          0.941662  1.061952\n",
       "..        ...    ...       ...               ...       ...\n",
       "995  0.789350  False  1.814227          0.176056  5.680006\n",
       "996 -1.004336  False -1.228564          0.852050  1.173640\n",
       "997 -1.008770  False -2.473640          0.853073  1.172232\n",
       "998 -1.451615  False -3.745707          0.929050  1.076368\n",
       "999 -1.320044  False -4.228732          0.911377  1.097241\n",
       "\n",
       "[1000 rows x 5 columns]"
      ]
     },
     "execution_count": 6,
     "metadata": {},
     "output_type": "execute_result"
    }
   ],
   "source": [
    "cdf_0"
   ]
  },
  {
   "cell_type": "code",
   "execution_count": 7,
   "metadata": {
    "execution": {
     "iopub.execute_input": "2023-12-04T16:13:30.395461Z",
     "iopub.status.busy": "2023-12-04T16:13:30.395150Z",
     "iopub.status.idle": "2023-12-04T16:13:30.403292Z",
     "shell.execute_reply": "2023-12-04T16:13:30.402768Z"
    }
   },
   "outputs": [
    {
     "data": {
      "text/html": [
       "<div>\n",
       "<style scoped>\n",
       "    .dataframe tbody tr th:only-of-type {\n",
       "        vertical-align: middle;\n",
       "    }\n",
       "\n",
       "    .dataframe tbody tr th {\n",
       "        vertical-align: top;\n",
       "    }\n",
       "\n",
       "    .dataframe thead th {\n",
       "        text-align: right;\n",
       "    }\n",
       "</style>\n",
       "<table border=\"1\" class=\"dataframe\">\n",
       "  <thead>\n",
       "    <tr style=\"text-align: right;\">\n",
       "      <th></th>\n",
       "      <th>W0</th>\n",
       "      <th>v0</th>\n",
       "      <th>y</th>\n",
       "      <th>propensity_score</th>\n",
       "      <th>weight</th>\n",
       "    </tr>\n",
       "  </thead>\n",
       "  <tbody>\n",
       "    <tr>\n",
       "      <th>0</th>\n",
       "      <td>-0.551920</td>\n",
       "      <td>True</td>\n",
       "      <td>4.154996</td>\n",
       "      <td>0.284975</td>\n",
       "      <td>3.509082</td>\n",
       "    </tr>\n",
       "    <tr>\n",
       "      <th>1</th>\n",
       "      <td>-0.997847</td>\n",
       "      <td>True</td>\n",
       "      <td>3.700572</td>\n",
       "      <td>0.149459</td>\n",
       "      <td>6.690819</td>\n",
       "    </tr>\n",
       "    <tr>\n",
       "      <th>2</th>\n",
       "      <td>-0.243847</td>\n",
       "      <td>True</td>\n",
       "      <td>5.277276</td>\n",
       "      <td>0.412377</td>\n",
       "      <td>2.424966</td>\n",
       "    </tr>\n",
       "    <tr>\n",
       "      <th>3</th>\n",
       "      <td>-0.527627</td>\n",
       "      <td>True</td>\n",
       "      <td>3.819995</td>\n",
       "      <td>0.294152</td>\n",
       "      <td>3.399605</td>\n",
       "    </tr>\n",
       "    <tr>\n",
       "      <th>4</th>\n",
       "      <td>-1.742947</td>\n",
       "      <td>True</td>\n",
       "      <td>3.288388</td>\n",
       "      <td>0.042811</td>\n",
       "      <td>23.358692</td>\n",
       "    </tr>\n",
       "    <tr>\n",
       "      <th>...</th>\n",
       "      <td>...</td>\n",
       "      <td>...</td>\n",
       "      <td>...</td>\n",
       "      <td>...</td>\n",
       "      <td>...</td>\n",
       "    </tr>\n",
       "    <tr>\n",
       "      <th>995</th>\n",
       "      <td>-0.567015</td>\n",
       "      <td>True</td>\n",
       "      <td>5.412767</td>\n",
       "      <td>0.279360</td>\n",
       "      <td>3.579613</td>\n",
       "    </tr>\n",
       "    <tr>\n",
       "      <th>996</th>\n",
       "      <td>-1.090371</td>\n",
       "      <td>True</td>\n",
       "      <td>2.748266</td>\n",
       "      <td>0.129119</td>\n",
       "      <td>7.744806</td>\n",
       "    </tr>\n",
       "    <tr>\n",
       "      <th>997</th>\n",
       "      <td>-0.597698</td>\n",
       "      <td>True</td>\n",
       "      <td>2.339863</td>\n",
       "      <td>0.268158</td>\n",
       "      <td>3.729141</td>\n",
       "    </tr>\n",
       "    <tr>\n",
       "      <th>998</th>\n",
       "      <td>0.066577</td>\n",
       "      <td>True</td>\n",
       "      <td>6.133428</td>\n",
       "      <td>0.553776</td>\n",
       "      <td>1.805784</td>\n",
       "    </tr>\n",
       "    <tr>\n",
       "      <th>999</th>\n",
       "      <td>-0.570352</td>\n",
       "      <td>True</td>\n",
       "      <td>3.626876</td>\n",
       "      <td>0.278128</td>\n",
       "      <td>3.595470</td>\n",
       "    </tr>\n",
       "  </tbody>\n",
       "</table>\n",
       "<p>1000 rows × 5 columns</p>\n",
       "</div>"
      ],
      "text/plain": [
       "           W0    v0         y  propensity_score     weight\n",
       "0   -0.551920  True  4.154996          0.284975   3.509082\n",
       "1   -0.997847  True  3.700572          0.149459   6.690819\n",
       "2   -0.243847  True  5.277276          0.412377   2.424966\n",
       "3   -0.527627  True  3.819995          0.294152   3.399605\n",
       "4   -1.742947  True  3.288388          0.042811  23.358692\n",
       "..        ...   ...       ...               ...        ...\n",
       "995 -0.567015  True  5.412767          0.279360   3.579613\n",
       "996 -1.090371  True  2.748266          0.129119   7.744806\n",
       "997 -0.597698  True  2.339863          0.268158   3.729141\n",
       "998  0.066577  True  6.133428          0.553776   1.805784\n",
       "999 -0.570352  True  3.626876          0.278128   3.595470\n",
       "\n",
       "[1000 rows x 5 columns]"
      ]
     },
     "execution_count": 7,
     "metadata": {},
     "output_type": "execute_result"
    }
   ],
   "source": [
    "cdf_1"
   ]
  },
  {
   "cell_type": "markdown",
   "metadata": {},
   "source": [
    "## Comparing the estimate to Linear Regression\n",
    "First, estimating the effect using the causal data frame, and the 95% confidence interval."
   ]
  },
  {
   "cell_type": "code",
   "execution_count": 8,
   "metadata": {
    "execution": {
     "iopub.execute_input": "2023-12-04T16:13:30.405451Z",
     "iopub.status.busy": "2023-12-04T16:13:30.405083Z",
     "iopub.status.idle": "2023-12-04T16:13:30.523019Z",
     "shell.execute_reply": "2023-12-04T16:13:30.522449Z"
    }
   },
   "outputs": [
    {
     "data": {
      "image/png": "[encoded data removed]",
      "text/latex": [
       "$\\displaystyle 5.57660460898025$"
      ],
      "text/plain": [
       "5.5766046089802455"
      ]
     },
     "execution_count": 8,
     "metadata": {},
     "output_type": "execute_result"
    }
   ],
   "source": [
    "(cdf_1['y'] - cdf_0['y']).mean()"
   ]
  },
  {
   "cell_type": "code",
   "execution_count": 9,
   "metadata": {
    "execution": {
     "iopub.execute_input": "2023-12-04T16:13:30.525244Z",
     "iopub.status.busy": "2023-12-04T16:13:30.524927Z",
     "iopub.status.idle": "2023-12-04T16:13:30.540915Z",
     "shell.execute_reply": "2023-12-04T16:13:30.540483Z"
    }
   },
   "outputs": [
    {
     "data": {
      "image/png": "[encoded data removed]",
      "text/latex": [
       "$\\displaystyle 0.201797123459792$"
      ],
      "text/plain": [
       "0.20179712345979176"
      ]
     },
     "execution_count": 9,
     "metadata": {},
     "output_type": "execute_result"
    }
   ],
   "source": [
    "1.96*(cdf_1['y'] - cdf_0['y']).std() / np.sqrt(len(df))"
   ]
  },
  {
   "cell_type": "markdown",
   "metadata": {},
   "source": [
    "Comparing to the estimate from OLS."
   ]
  },
  {
   "cell_type": "code",
   "execution_count": 10,
   "metadata": {
    "execution": {
     "iopub.execute_input": "2023-12-04T16:13:30.542937Z",
     "iopub.status.busy": "2023-12-04T16:13:30.542616Z",
     "iopub.status.idle": "2023-12-04T16:13:30.557474Z",
     "shell.execute_reply": "2023-12-04T16:13:30.556895Z"
    }
   },
   "outputs": [
    {
     "data": {
      "text/html": [
       "<table class=\"simpletable\">\n",
       "<caption>OLS Regression Results</caption>\n",
       "<tr>\n",
       "  <th>Dep. Variable:</th>            <td>y</td>        <th>  R-squared (uncentered):</th>      <td>   0.937</td>\n",
       "</tr>\n",
       "<tr>\n",
       "  <th>Model:</th>                   <td>OLS</td>       <th>  Adj. R-squared (uncentered):</th> <td>   0.937</td>\n",
       "</tr>\n",
       "<tr>\n",
       "  <th>Method:</th>             <td>Least Squares</td>  <th>  F-statistic:       </th>          <td>   7440.</td>\n",
       "</tr>\n",
       "<tr>\n",
       "  <th>Date:</th>             <td>Mon, 04 Dec 2023</td> <th>  Prob (F-statistic):</th>           <td>  0.00</td> \n",
       "</tr>\n",
       "<tr>\n",
       "  <th>Time:</th>                 <td>16:13:30</td>     <th>  Log-Likelihood:    </th>          <td> -1433.4</td>\n",
       "</tr>\n",
       "<tr>\n",
       "  <th>No. Observations:</th>      <td>  1000</td>      <th>  AIC:               </th>          <td>   2871.</td>\n",
       "</tr>\n",
       "<tr>\n",
       "  <th>Df Residuals:</th>          <td>   998</td>      <th>  BIC:               </th>          <td>   2881.</td>\n",
       "</tr>\n",
       "<tr>\n",
       "  <th>Df Model:</th>              <td>     2</td>      <th>                     </th>              <td> </td>   \n",
       "</tr>\n",
       "<tr>\n",
       "  <th>Covariance Type:</th>      <td>nonrobust</td>    <th>                     </th>              <td> </td>   \n",
       "</tr>\n",
       "</table>\n",
       "<table class=\"simpletable\">\n",
       "<tr>\n",
       "   <td></td>     <th>coef</th>     <th>std err</th>      <th>t</th>      <th>P>|t|</th>  <th>[0.025</th>    <th>0.975]</th>  \n",
       "</tr>\n",
       "<tr>\n",
       "  <th>x1</th> <td>    2.2096</td> <td>    0.023</td> <td>   97.727</td> <td> 0.000</td> <td>    2.165</td> <td>    2.254</td>\n",
       "</tr>\n",
       "<tr>\n",
       "  <th>x2</th> <td>    4.9977</td> <td>    0.066</td> <td>   76.044</td> <td> 0.000</td> <td>    4.869</td> <td>    5.127</td>\n",
       "</tr>\n",
       "</table>\n",
       "<table class=\"simpletable\">\n",
       "<tr>\n",
       "  <th>Omnibus:</th>       <td> 0.372</td> <th>  Durbin-Watson:     </th> <td>   1.999</td>\n",
       "</tr>\n",
       "<tr>\n",
       "  <th>Prob(Omnibus):</th> <td> 0.830</td> <th>  Jarque-Bera (JB):  </th> <td>   0.287</td>\n",
       "</tr>\n",
       "<tr>\n",
       "  <th>Skew:</th>          <td> 0.033</td> <th>  Prob(JB):          </th> <td>   0.866</td>\n",
       "</tr>\n",
       "<tr>\n",
       "  <th>Kurtosis:</th>      <td> 3.050</td> <th>  Cond. No.          </th> <td>    2.91</td>\n",
       "</tr>\n",
       "</table><br/><br/>Notes:<br/>[1] R² is computed without centering (uncentered) since the model does not contain a constant.<br/>[2] Standard Errors assume that the covariance matrix of the errors is correctly specified."
      ],
      "text/latex": [
       "\\begin{center}\n",
       "\\begin{tabular}{lclc}\n",
       "\\toprule\n",
       "\\textbf{Dep. Variable:}    &        y         & \\textbf{  R-squared (uncentered):}      &     0.937   \\\\\n",
       "\\textbf{Model:}            &       OLS        & \\textbf{  Adj. R-squared (uncentered):} &     0.937   \\\\\n",
       "\\textbf{Method:}           &  Least Squares   & \\textbf{  F-statistic:       }          &     7440.   \\\\\n",
       "\\textbf{Date:}             & Mon, 04 Dec 2023 & \\textbf{  Prob (F-statistic):}          &     0.00    \\\\\n",
       "\\textbf{Time:}             &     16:13:30     & \\textbf{  Log-Likelihood:    }          &   -1433.4   \\\\\n",
       "\\textbf{No. Observations:} &        1000      & \\textbf{  AIC:               }          &     2871.   \\\\\n",
       "\\textbf{Df Residuals:}     &         998      & \\textbf{  BIC:               }          &     2881.   \\\\\n",
       "\\textbf{Df Model:}         &           2      & \\textbf{                     }          &             \\\\\n",
       "\\textbf{Covariance Type:}  &    nonrobust     & \\textbf{                     }          &             \\\\\n",
       "\\bottomrule\n",
       "\\end{tabular}\n",
       "\\begin{tabular}{lcccccc}\n",
       "            & \\textbf{coef} & \\textbf{std err} & \\textbf{t} & \\textbf{P$> |$t$|$} & \\textbf{[0.025} & \\textbf{0.975]}  \\\\\n",
       "\\midrule\n",
       "\\textbf{x1} &       2.2096  &        0.023     &    97.727  &         0.000        &        2.165    &        2.254     \\\\\n",
       "\\textbf{x2} &       4.9977  &        0.066     &    76.044  &         0.000        &        4.869    &        5.127     \\\\\n",
       "\\bottomrule\n",
       "\\end{tabular}\n",
       "\\begin{tabular}{lclc}\n",
       "\\textbf{Omnibus:}       &  0.372 & \\textbf{  Durbin-Watson:     } &    1.999  \\\\\n",
       "\\textbf{Prob(Omnibus):} &  0.830 & \\textbf{  Jarque-Bera (JB):  } &    0.287  \\\\\n",
       "\\textbf{Skew:}          &  0.033 & \\textbf{  Prob(JB):          } &    0.866  \\\\\n",
       "\\textbf{Kurtosis:}      &  3.050 & \\textbf{  Cond. No.          } &     2.91  \\\\\n",
       "\\bottomrule\n",
       "\\end{tabular}\n",
       "%\\caption{OLS Regression Results}\n",
       "\\end{center}\n",
       "\n",
       "Notes: \\newline\n",
       " [1] R² is computed without centering (uncentered) since the model does not contain a constant. \\newline\n",
       " [2] Standard Errors assume that the covariance matrix of the errors is correctly specified."
      ],
      "text/plain": [
       "<class 'statsmodels.iolib.summary.Summary'>\n",
       "\"\"\"\n",
       "                                 OLS Regression Results                                \n",
       "=======================================================================================\n",
       "Dep. Variable:                      y   R-squared (uncentered):                   0.937\n",
       "Model:                            OLS   Adj. R-squared (uncentered):              0.937\n",
       "Method:                 Least Squares   F-statistic:                              7440.\n",
       "Date:                Mon, 04 Dec 2023   Prob (F-statistic):                        0.00\n",
       "Time:                        16:13:30   Log-Likelihood:                         -1433.4\n",
       "No. Observations:                1000   AIC:                                      2871.\n",
       "Df Residuals:                     998   BIC:                                      2881.\n",
       "Df Model:                           2                                                  \n",
       "Covariance Type:            nonrobust                                                  \n",
       "==============================================================================\n",
       "                 coef    std err          t      P>|t|      [0.025      0.975]\n",
       "------------------------------------------------------------------------------\n",
       "x1             2.2096      0.023     97.727      0.000       2.165       2.254\n",
       "x2             4.9977      0.066     76.044      0.000       4.869       5.127\n",
       "==============================================================================\n",
       "Omnibus:                        0.372   Durbin-Watson:                   1.999\n",
       "Prob(Omnibus):                  0.830   Jarque-Bera (JB):                0.287\n",
       "Skew:                           0.033   Prob(JB):                        0.866\n",
       "Kurtosis:                       3.050   Cond. No.                         2.91\n",
       "==============================================================================\n",
       "\n",
       "Notes:\n",
       "[1] R² is computed without centering (uncentered) since the model does not contain a constant.\n",
       "[2] Standard Errors assume that the covariance matrix of the errors is correctly specified.\n",
       "\"\"\""
      ]
     },
     "execution_count": 10,
     "metadata": {},
     "output_type": "execute_result"
    }
   ],
   "source": [
    "model = OLS(np.asarray(df[outcome]), np.asarray(df[[common_cause, treatment]], dtype=np.float64))\n",
    "result = model.fit()\n",
    "result.summary()"
   ]
  }
 ],
 "metadata": {
  "kernelspec": {
   "display_name": "Python 3 (ipykernel)",
   "language": "python",
   "name": "python3"
  },
  "language_info": {
   "codemirror_mode": {
    "name": "ipython",
    "version": 3
   },
   "file_extension": ".py",
   "mimetype": "text/x-python",
   "name": "python",
   "nbconvert_exporter": "python",
   "pygments_lexer": "ipython3",
   "version": "3.8.10"
  },
  "toc": {
   "base_numbering": 1,
   "nav_menu": {},
   "number_sections": false,
   "sideBar": true,
   "skip_h1_title": true,
   "title_cell": "Table of Contents",
   "title_sidebar": "Contents",
   "toc_cell": false,
   "toc_position": {},
   "toc_section_display": true,
   "toc_window_display": false
  }
 },
 "nbformat": 4,
 "nbformat_minor": 4
}
