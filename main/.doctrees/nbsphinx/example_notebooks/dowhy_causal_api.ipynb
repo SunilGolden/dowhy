{
 "cells": [
  {
   "cell_type": "markdown",
   "metadata": {},
   "source": [
    "# Demo for the DoWhy causal API\n",
    "We show a simple example of adding a causal extension to any dataframe. "
   ]
  },
  {
   "cell_type": "code",
   "execution_count": 1,
   "metadata": {
    "execution": {
     "iopub.execute_input": "2023-03-07T16:37:27.809486Z",
     "iopub.status.busy": "2023-03-07T16:37:27.809062Z",
     "iopub.status.idle": "2023-03-07T16:37:29.365191Z",
     "shell.execute_reply": "2023-03-07T16:37:29.364571Z"
    }
   },
   "outputs": [],
   "source": [
    "import dowhy.datasets\n",
    "import dowhy.api\n",
    "\n",
    "import numpy as np\n",
    "import pandas as pd\n",
    "\n",
    "from statsmodels.api import OLS"
   ]
  },
  {
   "cell_type": "code",
   "execution_count": 2,
   "metadata": {
    "execution": {
     "iopub.execute_input": "2023-03-07T16:37:29.368595Z",
     "iopub.status.busy": "2023-03-07T16:37:29.368135Z",
     "iopub.status.idle": "2023-03-07T16:37:29.412491Z",
     "shell.execute_reply": "2023-03-07T16:37:29.411962Z"
    }
   },
   "outputs": [
    {
     "data": {
      "text/html": [
       "<div>\n",
       "<style scoped>\n",
       "    .dataframe tbody tr th:only-of-type {\n",
       "        vertical-align: middle;\n",
       "    }\n",
       "\n",
       "    .dataframe tbody tr th {\n",
       "        vertical-align: top;\n",
       "    }\n",
       "\n",
       "    .dataframe thead th {\n",
       "        text-align: right;\n",
       "    }\n",
       "</style>\n",
       "<table border=\"1\" class=\"dataframe\">\n",
       "  <thead>\n",
       "    <tr style=\"text-align: right;\">\n",
       "      <th></th>\n",
       "      <th>W0</th>\n",
       "      <th>v0</th>\n",
       "      <th>y</th>\n",
       "    </tr>\n",
       "  </thead>\n",
       "  <tbody>\n",
       "    <tr>\n",
       "      <th>0</th>\n",
       "      <td>-1.003649</td>\n",
       "      <td>False</td>\n",
       "      <td>-1.729166</td>\n",
       "    </tr>\n",
       "    <tr>\n",
       "      <th>1</th>\n",
       "      <td>-0.587289</td>\n",
       "      <td>False</td>\n",
       "      <td>-2.191623</td>\n",
       "    </tr>\n",
       "    <tr>\n",
       "      <th>2</th>\n",
       "      <td>-1.563513</td>\n",
       "      <td>False</td>\n",
       "      <td>-2.674962</td>\n",
       "    </tr>\n",
       "    <tr>\n",
       "      <th>3</th>\n",
       "      <td>-1.456001</td>\n",
       "      <td>True</td>\n",
       "      <td>1.082802</td>\n",
       "    </tr>\n",
       "    <tr>\n",
       "      <th>4</th>\n",
       "      <td>-2.350026</td>\n",
       "      <td>False</td>\n",
       "      <td>-4.728859</td>\n",
       "    </tr>\n",
       "    <tr>\n",
       "      <th>...</th>\n",
       "      <td>...</td>\n",
       "      <td>...</td>\n",
       "      <td>...</td>\n",
       "    </tr>\n",
       "    <tr>\n",
       "      <th>995</th>\n",
       "      <td>-0.992264</td>\n",
       "      <td>True</td>\n",
       "      <td>3.985705</td>\n",
       "    </tr>\n",
       "    <tr>\n",
       "      <th>996</th>\n",
       "      <td>-1.509189</td>\n",
       "      <td>True</td>\n",
       "      <td>3.438183</td>\n",
       "    </tr>\n",
       "    <tr>\n",
       "      <th>997</th>\n",
       "      <td>0.107515</td>\n",
       "      <td>False</td>\n",
       "      <td>0.390138</td>\n",
       "    </tr>\n",
       "    <tr>\n",
       "      <th>998</th>\n",
       "      <td>-1.765372</td>\n",
       "      <td>False</td>\n",
       "      <td>-5.740329</td>\n",
       "    </tr>\n",
       "    <tr>\n",
       "      <th>999</th>\n",
       "      <td>-1.429119</td>\n",
       "      <td>True</td>\n",
       "      <td>2.855940</td>\n",
       "    </tr>\n",
       "  </tbody>\n",
       "</table>\n",
       "<p>1000 rows × 3 columns</p>\n",
       "</div>"
      ],
      "text/plain": [
       "           W0     v0         y\n",
       "0   -1.003649  False -1.729166\n",
       "1   -0.587289  False -2.191623\n",
       "2   -1.563513  False -2.674962\n",
       "3   -1.456001   True  1.082802\n",
       "4   -2.350026  False -4.728859\n",
       "..        ...    ...       ...\n",
       "995 -0.992264   True  3.985705\n",
       "996 -1.509189   True  3.438183\n",
       "997  0.107515  False  0.390138\n",
       "998 -1.765372  False -5.740329\n",
       "999 -1.429119   True  2.855940\n",
       "\n",
       "[1000 rows x 3 columns]"
      ]
     },
     "execution_count": 2,
     "metadata": {},
     "output_type": "execute_result"
    }
   ],
   "source": [
    "data = dowhy.datasets.linear_dataset(beta=5,\n",
    "        num_common_causes=1,\n",
    "        num_instruments = 0,\n",
    "        num_samples=1000,\n",
    "        treatment_is_binary=True)\n",
    "df = data['df']\n",
    "df['y'] = df['y'] + np.random.normal(size=len(df)) # Adding noise to data. Without noise, the variance in Y|X, Z is zero, and mcmc fails.\n",
    "#data['dot_graph'] = 'digraph { v ->y;X0-> v;X0-> y;}'\n",
    "\n",
    "treatment= data[\"treatment_name\"][0]\n",
    "outcome = data[\"outcome_name\"][0]\n",
    "common_cause = data[\"common_causes_names\"][0]\n",
    "df"
   ]
  },
  {
   "cell_type": "code",
   "execution_count": 3,
   "metadata": {
    "execution": {
     "iopub.execute_input": "2023-03-07T16:37:29.414858Z",
     "iopub.status.busy": "2023-03-07T16:37:29.414651Z",
     "iopub.status.idle": "2023-03-07T16:37:29.558523Z",
     "shell.execute_reply": "2023-03-07T16:37:29.558012Z"
    }
   },
   "outputs": [
    {
     "data": {
      "text/plain": [
       "<AxesSubplot: xlabel='v0'>"
      ]
     },
     "execution_count": 3,
     "metadata": {},
     "output_type": "execute_result"
    },
    {
     "data": {
      "image/png": "[encoded data removed]",
      "text/plain": [
       "<Figure size 640x480 with 1 Axes>"
      ]
     },
     "metadata": {},
     "output_type": "display_data"
    }
   ],
   "source": [
    "# data['df'] is just a regular pandas.DataFrame\n",
    "df.causal.do(x=treatment,\n",
    "                     variable_types={treatment: 'b', outcome: 'c', common_cause: 'c'},\n",
    "                     outcome=outcome,\n",
    "                     common_causes=[common_cause],\n",
    "                     proceed_when_unidentifiable=True).groupby(treatment).mean().plot(y=outcome, kind='bar')"
   ]
  },
  {
   "cell_type": "code",
   "execution_count": 4,
   "metadata": {
    "execution": {
     "iopub.execute_input": "2023-03-07T16:37:29.561076Z",
     "iopub.status.busy": "2023-03-07T16:37:29.560670Z",
     "iopub.status.idle": "2023-03-07T16:37:29.754417Z",
     "shell.execute_reply": "2023-03-07T16:37:29.753780Z"
    }
   },
   "outputs": [
    {
     "data": {
      "text/plain": [
       "<AxesSubplot: xlabel='v0'>"
      ]
     },
     "execution_count": 4,
     "metadata": {},
     "output_type": "execute_result"
    },
    {
     "data": {
      "image/png": "[encoded data removed]",
      "text/plain": [
       "<Figure size 640x480 with 1 Axes>"
      ]
     },
     "metadata": {},
     "output_type": "display_data"
    }
   ],
   "source": [
    "df.causal.do(x={treatment: 1}, \n",
    "              variable_types={treatment:'b', outcome: 'c', common_cause: 'c'}, \n",
    "              outcome=outcome,\n",
    "              method='weighting', \n",
    "              common_causes=[common_cause],\n",
    "              proceed_when_unidentifiable=True).groupby(treatment).mean().plot(y=outcome, kind='bar')"
   ]
  },
  {
   "cell_type": "code",
   "execution_count": 5,
   "metadata": {
    "execution": {
     "iopub.execute_input": "2023-03-07T16:37:29.757071Z",
     "iopub.status.busy": "2023-03-07T16:37:29.756639Z",
     "iopub.status.idle": "2023-03-07T16:37:29.785835Z",
     "shell.execute_reply": "2023-03-07T16:37:29.785274Z"
    }
   },
   "outputs": [],
   "source": [
    "cdf_1 = df.causal.do(x={treatment: 1}, \n",
    "              variable_types={treatment: 'b', outcome: 'c', common_cause: 'c'}, \n",
    "              outcome=outcome, \n",
    "              dot_graph=data['dot_graph'],\n",
    "              proceed_when_unidentifiable=True)\n",
    "\n",
    "cdf_0 = df.causal.do(x={treatment: 0}, \n",
    "              variable_types={treatment: 'b', outcome: 'c', common_cause: 'c'}, \n",
    "              outcome=outcome, \n",
    "              dot_graph=data['dot_graph'],\n",
    "              proceed_when_unidentifiable=True)\n"
   ]
  },
  {
   "cell_type": "code",
   "execution_count": 6,
   "metadata": {
    "execution": {
     "iopub.execute_input": "2023-03-07T16:37:29.788407Z",
     "iopub.status.busy": "2023-03-07T16:37:29.788190Z",
     "iopub.status.idle": "2023-03-07T16:37:29.797989Z",
     "shell.execute_reply": "2023-03-07T16:37:29.797414Z"
    },
    "scrolled": true
   },
   "outputs": [
    {
     "data": {
      "text/html": [
       "<div>\n",
       "<style scoped>\n",
       "    .dataframe tbody tr th:only-of-type {\n",
       "        vertical-align: middle;\n",
       "    }\n",
       "\n",
       "    .dataframe tbody tr th {\n",
       "        vertical-align: top;\n",
       "    }\n",
       "\n",
       "    .dataframe thead th {\n",
       "        text-align: right;\n",
       "    }\n",
       "</style>\n",
       "<table border=\"1\" class=\"dataframe\">\n",
       "  <thead>\n",
       "    <tr style=\"text-align: right;\">\n",
       "      <th></th>\n",
       "      <th>W0</th>\n",
       "      <th>v0</th>\n",
       "      <th>y</th>\n",
       "      <th>propensity_score</th>\n",
       "      <th>weight</th>\n",
       "    </tr>\n",
       "  </thead>\n",
       "  <tbody>\n",
       "    <tr>\n",
       "      <th>0</th>\n",
       "      <td>0.099177</td>\n",
       "      <td>False</td>\n",
       "      <td>1.165636</td>\n",
       "      <td>0.540077</td>\n",
       "      <td>1.851587</td>\n",
       "    </tr>\n",
       "    <tr>\n",
       "      <th>1</th>\n",
       "      <td>-2.658781</td>\n",
       "      <td>False</td>\n",
       "      <td>-4.367702</td>\n",
       "      <td>0.838147</td>\n",
       "      <td>1.193108</td>\n",
       "    </tr>\n",
       "    <tr>\n",
       "      <th>2</th>\n",
       "      <td>0.340326</td>\n",
       "      <td>False</td>\n",
       "      <td>0.342011</td>\n",
       "      <td>0.507727</td>\n",
       "      <td>1.969564</td>\n",
       "    </tr>\n",
       "    <tr>\n",
       "      <th>3</th>\n",
       "      <td>-1.642167</td>\n",
       "      <td>False</td>\n",
       "      <td>-1.593175</td>\n",
       "      <td>0.749799</td>\n",
       "      <td>1.333691</td>\n",
       "    </tr>\n",
       "    <tr>\n",
       "      <th>4</th>\n",
       "      <td>-1.263552</td>\n",
       "      <td>False</td>\n",
       "      <td>-2.600313</td>\n",
       "      <td>0.709681</td>\n",
       "      <td>1.409083</td>\n",
       "    </tr>\n",
       "    <tr>\n",
       "      <th>...</th>\n",
       "      <td>...</td>\n",
       "      <td>...</td>\n",
       "      <td>...</td>\n",
       "      <td>...</td>\n",
       "      <td>...</td>\n",
       "    </tr>\n",
       "    <tr>\n",
       "      <th>995</th>\n",
       "      <td>-1.038422</td>\n",
       "      <td>False</td>\n",
       "      <td>-2.281823</td>\n",
       "      <td>0.684107</td>\n",
       "      <td>1.461760</td>\n",
       "    </tr>\n",
       "    <tr>\n",
       "      <th>996</th>\n",
       "      <td>-0.927276</td>\n",
       "      <td>False</td>\n",
       "      <td>-3.332519</td>\n",
       "      <td>0.671044</td>\n",
       "      <td>1.490215</td>\n",
       "    </tr>\n",
       "    <tr>\n",
       "      <th>997</th>\n",
       "      <td>-1.881835</td>\n",
       "      <td>False</td>\n",
       "      <td>-2.517083</td>\n",
       "      <td>0.773203</td>\n",
       "      <td>1.293321</td>\n",
       "    </tr>\n",
       "    <tr>\n",
       "      <th>998</th>\n",
       "      <td>-1.182812</td>\n",
       "      <td>False</td>\n",
       "      <td>-2.044485</td>\n",
       "      <td>0.700650</td>\n",
       "      <td>1.427246</td>\n",
       "    </tr>\n",
       "    <tr>\n",
       "      <th>999</th>\n",
       "      <td>-0.163701</td>\n",
       "      <td>False</td>\n",
       "      <td>-0.792316</td>\n",
       "      <td>0.574953</td>\n",
       "      <td>1.739273</td>\n",
       "    </tr>\n",
       "  </tbody>\n",
       "</table>\n",
       "<p>1000 rows × 5 columns</p>\n",
       "</div>"
      ],
      "text/plain": [
       "           W0     v0         y  propensity_score    weight\n",
       "0    0.099177  False  1.165636          0.540077  1.851587\n",
       "1   -2.658781  False -4.367702          0.838147  1.193108\n",
       "2    0.340326  False  0.342011          0.507727  1.969564\n",
       "3   -1.642167  False -1.593175          0.749799  1.333691\n",
       "4   -1.263552  False -2.600313          0.709681  1.409083\n",
       "..        ...    ...       ...               ...       ...\n",
       "995 -1.038422  False -2.281823          0.684107  1.461760\n",
       "996 -0.927276  False -3.332519          0.671044  1.490215\n",
       "997 -1.881835  False -2.517083          0.773203  1.293321\n",
       "998 -1.182812  False -2.044485          0.700650  1.427246\n",
       "999 -0.163701  False -0.792316          0.574953  1.739273\n",
       "\n",
       "[1000 rows x 5 columns]"
      ]
     },
     "execution_count": 6,
     "metadata": {},
     "output_type": "execute_result"
    }
   ],
   "source": [
    "cdf_0"
   ]
  },
  {
   "cell_type": "code",
   "execution_count": 7,
   "metadata": {
    "execution": {
     "iopub.execute_input": "2023-03-07T16:37:29.801082Z",
     "iopub.status.busy": "2023-03-07T16:37:29.800880Z",
     "iopub.status.idle": "2023-03-07T16:37:29.810431Z",
     "shell.execute_reply": "2023-03-07T16:37:29.809808Z"
    }
   },
   "outputs": [
    {
     "data": {
      "text/html": [
       "<div>\n",
       "<style scoped>\n",
       "    .dataframe tbody tr th:only-of-type {\n",
       "        vertical-align: middle;\n",
       "    }\n",
       "\n",
       "    .dataframe tbody tr th {\n",
       "        vertical-align: top;\n",
       "    }\n",
       "\n",
       "    .dataframe thead th {\n",
       "        text-align: right;\n",
       "    }\n",
       "</style>\n",
       "<table border=\"1\" class=\"dataframe\">\n",
       "  <thead>\n",
       "    <tr style=\"text-align: right;\">\n",
       "      <th></th>\n",
       "      <th>W0</th>\n",
       "      <th>v0</th>\n",
       "      <th>y</th>\n",
       "      <th>propensity_score</th>\n",
       "      <th>weight</th>\n",
       "    </tr>\n",
       "  </thead>\n",
       "  <tbody>\n",
       "    <tr>\n",
       "      <th>0</th>\n",
       "      <td>-1.046847</td>\n",
       "      <td>True</td>\n",
       "      <td>3.347866</td>\n",
       "      <td>0.314914</td>\n",
       "      <td>3.175467</td>\n",
       "    </tr>\n",
       "    <tr>\n",
       "      <th>1</th>\n",
       "      <td>-1.540006</td>\n",
       "      <td>True</td>\n",
       "      <td>1.911344</td>\n",
       "      <td>0.260653</td>\n",
       "      <td>3.836512</td>\n",
       "    </tr>\n",
       "    <tr>\n",
       "      <th>2</th>\n",
       "      <td>0.934206</td>\n",
       "      <td>True</td>\n",
       "      <td>7.098800</td>\n",
       "      <td>0.571657</td>\n",
       "      <td>1.749302</td>\n",
       "    </tr>\n",
       "    <tr>\n",
       "      <th>3</th>\n",
       "      <td>-1.162980</td>\n",
       "      <td>True</td>\n",
       "      <td>3.568395</td>\n",
       "      <td>0.301593</td>\n",
       "      <td>3.315732</td>\n",
       "    </tr>\n",
       "    <tr>\n",
       "      <th>4</th>\n",
       "      <td>-0.792436</td>\n",
       "      <td>True</td>\n",
       "      <td>2.800294</td>\n",
       "      <td>0.345164</td>\n",
       "      <td>2.897170</td>\n",
       "    </tr>\n",
       "    <tr>\n",
       "      <th>...</th>\n",
       "      <td>...</td>\n",
       "      <td>...</td>\n",
       "      <td>...</td>\n",
       "      <td>...</td>\n",
       "      <td>...</td>\n",
       "    </tr>\n",
       "    <tr>\n",
       "      <th>995</th>\n",
       "      <td>-3.179026</td>\n",
       "      <td>True</td>\n",
       "      <td>-1.544712</td>\n",
       "      <td>0.127371</td>\n",
       "      <td>7.851100</td>\n",
       "    </tr>\n",
       "    <tr>\n",
       "      <th>996</th>\n",
       "      <td>-1.078994</td>\n",
       "      <td>True</td>\n",
       "      <td>2.367792</td>\n",
       "      <td>0.311195</td>\n",
       "      <td>3.213421</td>\n",
       "    </tr>\n",
       "    <tr>\n",
       "      <th>997</th>\n",
       "      <td>-0.872640</td>\n",
       "      <td>True</td>\n",
       "      <td>3.743529</td>\n",
       "      <td>0.335477</td>\n",
       "      <td>2.980829</td>\n",
       "    </tr>\n",
       "    <tr>\n",
       "      <th>998</th>\n",
       "      <td>1.550457</td>\n",
       "      <td>True</td>\n",
       "      <td>8.862792</td>\n",
       "      <td>0.650258</td>\n",
       "      <td>1.537852</td>\n",
       "    </tr>\n",
       "    <tr>\n",
       "      <th>999</th>\n",
       "      <td>-1.140546</td>\n",
       "      <td>True</td>\n",
       "      <td>3.455183</td>\n",
       "      <td>0.304141</td>\n",
       "      <td>3.287949</td>\n",
       "    </tr>\n",
       "  </tbody>\n",
       "</table>\n",
       "<p>1000 rows × 5 columns</p>\n",
       "</div>"
      ],
      "text/plain": [
       "           W0    v0         y  propensity_score    weight\n",
       "0   -1.046847  True  3.347866          0.314914  3.175467\n",
       "1   -1.540006  True  1.911344          0.260653  3.836512\n",
       "2    0.934206  True  7.098800          0.571657  1.749302\n",
       "3   -1.162980  True  3.568395          0.301593  3.315732\n",
       "4   -0.792436  True  2.800294          0.345164  2.897170\n",
       "..        ...   ...       ...               ...       ...\n",
       "995 -3.179026  True -1.544712          0.127371  7.851100\n",
       "996 -1.078994  True  2.367792          0.311195  3.213421\n",
       "997 -0.872640  True  3.743529          0.335477  2.980829\n",
       "998  1.550457  True  8.862792          0.650258  1.537852\n",
       "999 -1.140546  True  3.455183          0.304141  3.287949\n",
       "\n",
       "[1000 rows x 5 columns]"
      ]
     },
     "execution_count": 7,
     "metadata": {},
     "output_type": "execute_result"
    }
   ],
   "source": [
    "cdf_1"
   ]
  },
  {
   "cell_type": "markdown",
   "metadata": {},
   "source": [
    "## Comparing the estimate to Linear Regression\n",
    "First, estimating the effect using the causal data frame, and the 95% confidence interval."
   ]
  },
  {
   "cell_type": "code",
   "execution_count": 8,
   "metadata": {
    "execution": {
     "iopub.execute_input": "2023-03-07T16:37:29.812847Z",
     "iopub.status.busy": "2023-03-07T16:37:29.812543Z",
     "iopub.status.idle": "2023-03-07T16:37:29.868058Z",
     "shell.execute_reply": "2023-03-07T16:37:29.867445Z"
    }
   },
   "outputs": [
    {
     "data": {
      "image/png": "[encoded data removed]",
      "text/latex": [
       "$\\displaystyle 5.18591025516005$"
      ],
      "text/plain": [
       "5.185910255160052"
      ]
     },
     "execution_count": 8,
     "metadata": {},
     "output_type": "execute_result"
    }
   ],
   "source": [
    "(cdf_1['y'] - cdf_0['y']).mean()"
   ]
  },
  {
   "cell_type": "code",
   "execution_count": 9,
   "metadata": {
    "execution": {
     "iopub.execute_input": "2023-03-07T16:37:29.870641Z",
     "iopub.status.busy": "2023-03-07T16:37:29.870328Z",
     "iopub.status.idle": "2023-03-07T16:37:29.889966Z",
     "shell.execute_reply": "2023-03-07T16:37:29.889346Z"
    }
   },
   "outputs": [
    {
     "data": {
      "image/png": "[encoded data removed]",
      "text/latex": [
       "$\\displaystyle 0.171812892648217$"
      ],
      "text/plain": [
       "0.17181289264821709"
      ]
     },
     "execution_count": 9,
     "metadata": {},
     "output_type": "execute_result"
    }
   ],
   "source": [
    "1.96*(cdf_1['y'] - cdf_0['y']).std() / np.sqrt(len(df))"
   ]
  },
  {
   "cell_type": "markdown",
   "metadata": {},
   "source": [
    "Comparing to the estimate from OLS."
   ]
  },
  {
   "cell_type": "code",
   "execution_count": 10,
   "metadata": {
    "execution": {
     "iopub.execute_input": "2023-03-07T16:37:29.892460Z",
     "iopub.status.busy": "2023-03-07T16:37:29.892148Z",
     "iopub.status.idle": "2023-03-07T16:37:29.905665Z",
     "shell.execute_reply": "2023-03-07T16:37:29.905082Z"
    }
   },
   "outputs": [
    {
     "data": {
      "text/html": [
       "<table class=\"simpletable\">\n",
       "<caption>OLS Regression Results</caption>\n",
       "<tr>\n",
       "  <th>Dep. Variable:</th>            <td>y</td>        <th>  R-squared (uncentered):</th>      <td>   0.917</td>\n",
       "</tr>\n",
       "<tr>\n",
       "  <th>Model:</th>                   <td>OLS</td>       <th>  Adj. R-squared (uncentered):</th> <td>   0.917</td>\n",
       "</tr>\n",
       "<tr>\n",
       "  <th>Method:</th>             <td>Least Squares</td>  <th>  F-statistic:       </th>          <td>   5549.</td>\n",
       "</tr>\n",
       "<tr>\n",
       "  <th>Date:</th>             <td>Tue, 07 Mar 2023</td> <th>  Prob (F-statistic):</th>           <td>  0.00</td> \n",
       "</tr>\n",
       "<tr>\n",
       "  <th>Time:</th>                 <td>16:37:29</td>     <th>  Log-Likelihood:    </th>          <td> -1422.3</td>\n",
       "</tr>\n",
       "<tr>\n",
       "  <th>No. Observations:</th>      <td>  1000</td>      <th>  AIC:               </th>          <td>   2849.</td>\n",
       "</tr>\n",
       "<tr>\n",
       "  <th>Df Residuals:</th>          <td>   998</td>      <th>  BIC:               </th>          <td>   2858.</td>\n",
       "</tr>\n",
       "<tr>\n",
       "  <th>Df Model:</th>              <td>     2</td>      <th>                     </th>              <td> </td>   \n",
       "</tr>\n",
       "<tr>\n",
       "  <th>Covariance Type:</th>      <td>nonrobust</td>    <th>                     </th>              <td> </td>   \n",
       "</tr>\n",
       "</table>\n",
       "<table class=\"simpletable\">\n",
       "<tr>\n",
       "   <td></td>     <th>coef</th>     <th>std err</th>      <th>t</th>      <th>P>|t|</th>  <th>[0.025</th>    <th>0.975]</th>  \n",
       "</tr>\n",
       "<tr>\n",
       "  <th>x1</th> <td>    1.7355</td> <td>    0.026</td> <td>   67.474</td> <td> 0.000</td> <td>    1.685</td> <td>    1.786</td>\n",
       "</tr>\n",
       "<tr>\n",
       "  <th>x2</th> <td>    5.0208</td> <td>    0.054</td> <td>   92.790</td> <td> 0.000</td> <td>    4.915</td> <td>    5.127</td>\n",
       "</tr>\n",
       "</table>\n",
       "<table class=\"simpletable\">\n",
       "<tr>\n",
       "  <th>Omnibus:</th>       <td> 2.549</td> <th>  Durbin-Watson:     </th> <td>   1.933</td>\n",
       "</tr>\n",
       "<tr>\n",
       "  <th>Prob(Omnibus):</th> <td> 0.280</td> <th>  Jarque-Bera (JB):  </th> <td>   2.421</td>\n",
       "</tr>\n",
       "<tr>\n",
       "  <th>Skew:</th>          <td>-0.115</td> <th>  Prob(JB):          </th> <td>   0.298</td>\n",
       "</tr>\n",
       "<tr>\n",
       "  <th>Kurtosis:</th>      <td> 3.075</td> <th>  Cond. No.          </th> <td>    2.17</td>\n",
       "</tr>\n",
       "</table><br/><br/>Notes:<br/>[1] R² is computed without centering (uncentered) since the model does not contain a constant.<br/>[2] Standard Errors assume that the covariance matrix of the errors is correctly specified."
      ],
      "text/plain": [
       "<class 'statsmodels.iolib.summary.Summary'>\n",
       "\"\"\"\n",
       "                                 OLS Regression Results                                \n",
       "=======================================================================================\n",
       "Dep. Variable:                      y   R-squared (uncentered):                   0.917\n",
       "Model:                            OLS   Adj. R-squared (uncentered):              0.917\n",
       "Method:                 Least Squares   F-statistic:                              5549.\n",
       "Date:                Tue, 07 Mar 2023   Prob (F-statistic):                        0.00\n",
       "Time:                        16:37:29   Log-Likelihood:                         -1422.3\n",
       "No. Observations:                1000   AIC:                                      2849.\n",
       "Df Residuals:                     998   BIC:                                      2858.\n",
       "Df Model:                           2                                                  \n",
       "Covariance Type:            nonrobust                                                  \n",
       "==============================================================================\n",
       "                 coef    std err          t      P>|t|      [0.025      0.975]\n",
       "------------------------------------------------------------------------------\n",
       "x1             1.7355      0.026     67.474      0.000       1.685       1.786\n",
       "x2             5.0208      0.054     92.790      0.000       4.915       5.127\n",
       "==============================================================================\n",
       "Omnibus:                        2.549   Durbin-Watson:                   1.933\n",
       "Prob(Omnibus):                  0.280   Jarque-Bera (JB):                2.421\n",
       "Skew:                          -0.115   Prob(JB):                        0.298\n",
       "Kurtosis:                       3.075   Cond. No.                         2.17\n",
       "==============================================================================\n",
       "\n",
       "Notes:\n",
       "[1] R² is computed without centering (uncentered) since the model does not contain a constant.\n",
       "[2] Standard Errors assume that the covariance matrix of the errors is correctly specified.\n",
       "\"\"\""
      ]
     },
     "execution_count": 10,
     "metadata": {},
     "output_type": "execute_result"
    }
   ],
   "source": [
    "model = OLS(np.asarray(df[outcome]), np.asarray(df[[common_cause, treatment]], dtype=np.float64))\n",
    "result = model.fit()\n",
    "result.summary()"
   ]
  }
 ],
 "metadata": {
  "kernelspec": {
   "display_name": "Python 3",
   "language": "python",
   "name": "python3"
  },
  "language_info": {
   "codemirror_mode": {
    "name": "ipython",
    "version": 3
   },
   "file_extension": ".py",
   "mimetype": "text/x-python",
   "name": "python",
   "nbconvert_exporter": "python",
   "pygments_lexer": "ipython3",
   "version": "3.8.10"
  },
  "toc": {
   "base_numbering": 1,
   "nav_menu": {},
   "number_sections": false,
   "sideBar": true,
   "skip_h1_title": true,
   "title_cell": "Table of Contents",
   "title_sidebar": "Contents",
   "toc_cell": false,
   "toc_position": {},
   "toc_section_display": true,
   "toc_window_display": false
  }
 },
 "nbformat": 4,
 "nbformat_minor": 4
}
