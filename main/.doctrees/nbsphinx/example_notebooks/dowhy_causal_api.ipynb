{
 "cells": [
  {
   "cell_type": "markdown",
   "metadata": {},
   "source": [
    "# Demo for the DoWhy causal API\n",
    "We show a simple example of adding a causal extension to any dataframe. "
   ]
  },
  {
   "cell_type": "code",
   "execution_count": 1,
   "metadata": {
    "execution": {
     "iopub.execute_input": "2023-03-07T16:55:08.629099Z",
     "iopub.status.busy": "2023-03-07T16:55:08.628804Z",
     "iopub.status.idle": "2023-03-07T16:55:10.429739Z",
     "shell.execute_reply": "2023-03-07T16:55:10.428970Z"
    }
   },
   "outputs": [],
   "source": [
    "import dowhy.datasets\n",
    "import dowhy.api\n",
    "\n",
    "import numpy as np\n",
    "import pandas as pd\n",
    "\n",
    "from statsmodels.api import OLS"
   ]
  },
  {
   "cell_type": "code",
   "execution_count": 2,
   "metadata": {
    "execution": {
     "iopub.execute_input": "2023-03-07T16:55:10.433762Z",
     "iopub.status.busy": "2023-03-07T16:55:10.433148Z",
     "iopub.status.idle": "2023-03-07T16:55:10.479704Z",
     "shell.execute_reply": "2023-03-07T16:55:10.478878Z"
    }
   },
   "outputs": [
    {
     "data": {
      "text/html": [
       "<div>\n",
       "<style scoped>\n",
       "    .dataframe tbody tr th:only-of-type {\n",
       "        vertical-align: middle;\n",
       "    }\n",
       "\n",
       "    .dataframe tbody tr th {\n",
       "        vertical-align: top;\n",
       "    }\n",
       "\n",
       "    .dataframe thead th {\n",
       "        text-align: right;\n",
       "    }\n",
       "</style>\n",
       "<table border=\"1\" class=\"dataframe\">\n",
       "  <thead>\n",
       "    <tr style=\"text-align: right;\">\n",
       "      <th></th>\n",
       "      <th>W0</th>\n",
       "      <th>v0</th>\n",
       "      <th>y</th>\n",
       "    </tr>\n",
       "  </thead>\n",
       "  <tbody>\n",
       "    <tr>\n",
       "      <th>0</th>\n",
       "      <td>-2.186196</td>\n",
       "      <td>False</td>\n",
       "      <td>-3.169900</td>\n",
       "    </tr>\n",
       "    <tr>\n",
       "      <th>1</th>\n",
       "      <td>-0.879451</td>\n",
       "      <td>False</td>\n",
       "      <td>-0.600469</td>\n",
       "    </tr>\n",
       "    <tr>\n",
       "      <th>2</th>\n",
       "      <td>-0.170136</td>\n",
       "      <td>False</td>\n",
       "      <td>-0.428464</td>\n",
       "    </tr>\n",
       "    <tr>\n",
       "      <th>3</th>\n",
       "      <td>-3.128620</td>\n",
       "      <td>False</td>\n",
       "      <td>-1.000610</td>\n",
       "    </tr>\n",
       "    <tr>\n",
       "      <th>4</th>\n",
       "      <td>-0.040785</td>\n",
       "      <td>False</td>\n",
       "      <td>-0.081651</td>\n",
       "    </tr>\n",
       "    <tr>\n",
       "      <th>...</th>\n",
       "      <td>...</td>\n",
       "      <td>...</td>\n",
       "      <td>...</td>\n",
       "    </tr>\n",
       "    <tr>\n",
       "      <th>995</th>\n",
       "      <td>-0.800516</td>\n",
       "      <td>True</td>\n",
       "      <td>5.019058</td>\n",
       "    </tr>\n",
       "    <tr>\n",
       "      <th>996</th>\n",
       "      <td>-0.617456</td>\n",
       "      <td>False</td>\n",
       "      <td>-0.518607</td>\n",
       "    </tr>\n",
       "    <tr>\n",
       "      <th>997</th>\n",
       "      <td>-0.974641</td>\n",
       "      <td>False</td>\n",
       "      <td>-0.489228</td>\n",
       "    </tr>\n",
       "    <tr>\n",
       "      <th>998</th>\n",
       "      <td>-1.920336</td>\n",
       "      <td>False</td>\n",
       "      <td>-1.561214</td>\n",
       "    </tr>\n",
       "    <tr>\n",
       "      <th>999</th>\n",
       "      <td>0.910641</td>\n",
       "      <td>True</td>\n",
       "      <td>4.223077</td>\n",
       "    </tr>\n",
       "  </tbody>\n",
       "</table>\n",
       "<p>1000 rows × 3 columns</p>\n",
       "</div>"
      ],
      "text/plain": [
       "           W0     v0         y\n",
       "0   -2.186196  False -3.169900\n",
       "1   -0.879451  False -0.600469\n",
       "2   -0.170136  False -0.428464\n",
       "3   -3.128620  False -1.000610\n",
       "4   -0.040785  False -0.081651\n",
       "..        ...    ...       ...\n",
       "995 -0.800516   True  5.019058\n",
       "996 -0.617456  False -0.518607\n",
       "997 -0.974641  False -0.489228\n",
       "998 -1.920336  False -1.561214\n",
       "999  0.910641   True  4.223077\n",
       "\n",
       "[1000 rows x 3 columns]"
      ]
     },
     "execution_count": 2,
     "metadata": {},
     "output_type": "execute_result"
    }
   ],
   "source": [
    "data = dowhy.datasets.linear_dataset(beta=5,\n",
    "        num_common_causes=1,\n",
    "        num_instruments = 0,\n",
    "        num_samples=1000,\n",
    "        treatment_is_binary=True)\n",
    "df = data['df']\n",
    "df['y'] = df['y'] + np.random.normal(size=len(df)) # Adding noise to data. Without noise, the variance in Y|X, Z is zero, and mcmc fails.\n",
    "#data['dot_graph'] = 'digraph { v ->y;X0-> v;X0-> y;}'\n",
    "\n",
    "treatment= data[\"treatment_name\"][0]\n",
    "outcome = data[\"outcome_name\"][0]\n",
    "common_cause = data[\"common_causes_names\"][0]\n",
    "df"
   ]
  },
  {
   "cell_type": "code",
   "execution_count": 3,
   "metadata": {
    "execution": {
     "iopub.execute_input": "2023-03-07T16:55:10.483364Z",
     "iopub.status.busy": "2023-03-07T16:55:10.482911Z",
     "iopub.status.idle": "2023-03-07T16:55:10.648355Z",
     "shell.execute_reply": "2023-03-07T16:55:10.647622Z"
    }
   },
   "outputs": [
    {
     "data": {
      "text/plain": [
       "<AxesSubplot: xlabel='v0'>"
      ]
     },
     "execution_count": 3,
     "metadata": {},
     "output_type": "execute_result"
    },
    {
     "data": {
      "image/png": "[encoded data removed]",
      "text/plain": [
       "<Figure size 640x480 with 1 Axes>"
      ]
     },
     "metadata": {},
     "output_type": "display_data"
    }
   ],
   "source": [
    "# data['df'] is just a regular pandas.DataFrame\n",
    "df.causal.do(x=treatment,\n",
    "                     variable_types={treatment: 'b', outcome: 'c', common_cause: 'c'},\n",
    "                     outcome=outcome,\n",
    "                     common_causes=[common_cause],\n",
    "                     proceed_when_unidentifiable=True).groupby(treatment).mean().plot(y=outcome, kind='bar')"
   ]
  },
  {
   "cell_type": "code",
   "execution_count": 4,
   "metadata": {
    "execution": {
     "iopub.execute_input": "2023-03-07T16:55:10.651683Z",
     "iopub.status.busy": "2023-03-07T16:55:10.651104Z",
     "iopub.status.idle": "2023-03-07T16:55:10.891492Z",
     "shell.execute_reply": "2023-03-07T16:55:10.890711Z"
    }
   },
   "outputs": [
    {
     "data": {
      "text/plain": [
       "<AxesSubplot: xlabel='v0'>"
      ]
     },
     "execution_count": 4,
     "metadata": {},
     "output_type": "execute_result"
    },
    {
     "data": {
      "image/png": "[encoded data removed]",
      "text/plain": [
       "<Figure size 640x480 with 1 Axes>"
      ]
     },
     "metadata": {},
     "output_type": "display_data"
    }
   ],
   "source": [
    "df.causal.do(x={treatment: 1}, \n",
    "              variable_types={treatment:'b', outcome: 'c', common_cause: 'c'}, \n",
    "              outcome=outcome,\n",
    "              method='weighting', \n",
    "              common_causes=[common_cause],\n",
    "              proceed_when_unidentifiable=True).groupby(treatment).mean().plot(y=outcome, kind='bar')"
   ]
  },
  {
   "cell_type": "code",
   "execution_count": 5,
   "metadata": {
    "execution": {
     "iopub.execute_input": "2023-03-07T16:55:10.895597Z",
     "iopub.status.busy": "2023-03-07T16:55:10.895039Z",
     "iopub.status.idle": "2023-03-07T16:55:10.931121Z",
     "shell.execute_reply": "2023-03-07T16:55:10.930310Z"
    }
   },
   "outputs": [],
   "source": [
    "cdf_1 = df.causal.do(x={treatment: 1}, \n",
    "              variable_types={treatment: 'b', outcome: 'c', common_cause: 'c'}, \n",
    "              outcome=outcome, \n",
    "              dot_graph=data['dot_graph'],\n",
    "              proceed_when_unidentifiable=True)\n",
    "\n",
    "cdf_0 = df.causal.do(x={treatment: 0}, \n",
    "              variable_types={treatment: 'b', outcome: 'c', common_cause: 'c'}, \n",
    "              outcome=outcome, \n",
    "              dot_graph=data['dot_graph'],\n",
    "              proceed_when_unidentifiable=True)\n"
   ]
  },
  {
   "cell_type": "code",
   "execution_count": 6,
   "metadata": {
    "execution": {
     "iopub.execute_input": "2023-03-07T16:55:10.935097Z",
     "iopub.status.busy": "2023-03-07T16:55:10.934592Z",
     "iopub.status.idle": "2023-03-07T16:55:10.947037Z",
     "shell.execute_reply": "2023-03-07T16:55:10.946268Z"
    },
    "scrolled": true
   },
   "outputs": [
    {
     "data": {
      "text/html": [
       "<div>\n",
       "<style scoped>\n",
       "    .dataframe tbody tr th:only-of-type {\n",
       "        vertical-align: middle;\n",
       "    }\n",
       "\n",
       "    .dataframe tbody tr th {\n",
       "        vertical-align: top;\n",
       "    }\n",
       "\n",
       "    .dataframe thead th {\n",
       "        text-align: right;\n",
       "    }\n",
       "</style>\n",
       "<table border=\"1\" class=\"dataframe\">\n",
       "  <thead>\n",
       "    <tr style=\"text-align: right;\">\n",
       "      <th></th>\n",
       "      <th>W0</th>\n",
       "      <th>v0</th>\n",
       "      <th>y</th>\n",
       "      <th>propensity_score</th>\n",
       "      <th>weight</th>\n",
       "    </tr>\n",
       "  </thead>\n",
       "  <tbody>\n",
       "    <tr>\n",
       "      <th>0</th>\n",
       "      <td>-0.008004</td>\n",
       "      <td>False</td>\n",
       "      <td>-1.425509</td>\n",
       "      <td>0.489139</td>\n",
       "      <td>2.044410</td>\n",
       "    </tr>\n",
       "    <tr>\n",
       "      <th>1</th>\n",
       "      <td>0.373292</td>\n",
       "      <td>False</td>\n",
       "      <td>-1.679975</td>\n",
       "      <td>0.302732</td>\n",
       "      <td>3.303250</td>\n",
       "    </tr>\n",
       "    <tr>\n",
       "      <th>2</th>\n",
       "      <td>-1.971838</td>\n",
       "      <td>False</td>\n",
       "      <td>-3.283868</td>\n",
       "      <td>0.982534</td>\n",
       "      <td>1.017777</td>\n",
       "    </tr>\n",
       "    <tr>\n",
       "      <th>3</th>\n",
       "      <td>-0.970502</td>\n",
       "      <td>False</td>\n",
       "      <td>-0.970409</td>\n",
       "      <td>0.875765</td>\n",
       "      <td>1.141858</td>\n",
       "    </tr>\n",
       "    <tr>\n",
       "      <th>4</th>\n",
       "      <td>-0.899085</td>\n",
       "      <td>False</td>\n",
       "      <td>0.565383</td>\n",
       "      <td>0.858732</td>\n",
       "      <td>1.164508</td>\n",
       "    </tr>\n",
       "    <tr>\n",
       "      <th>...</th>\n",
       "      <td>...</td>\n",
       "      <td>...</td>\n",
       "      <td>...</td>\n",
       "      <td>...</td>\n",
       "      <td>...</td>\n",
       "    </tr>\n",
       "    <tr>\n",
       "      <th>995</th>\n",
       "      <td>-1.214374</td>\n",
       "      <td>False</td>\n",
       "      <td>-2.254417</td>\n",
       "      <td>0.921199</td>\n",
       "      <td>1.085541</td>\n",
       "    </tr>\n",
       "    <tr>\n",
       "      <th>996</th>\n",
       "      <td>1.890352</td>\n",
       "      <td>False</td>\n",
       "      <td>1.392968</td>\n",
       "      <td>0.018326</td>\n",
       "      <td>54.567895</td>\n",
       "    </tr>\n",
       "    <tr>\n",
       "      <th>997</th>\n",
       "      <td>0.358897</td>\n",
       "      <td>False</td>\n",
       "      <td>0.351109</td>\n",
       "      <td>0.309072</td>\n",
       "      <td>3.235495</td>\n",
       "    </tr>\n",
       "    <tr>\n",
       "      <th>998</th>\n",
       "      <td>-1.879920</td>\n",
       "      <td>False</td>\n",
       "      <td>-0.089048</td>\n",
       "      <td>0.978942</td>\n",
       "      <td>1.021511</td>\n",
       "    </tr>\n",
       "    <tr>\n",
       "      <th>999</th>\n",
       "      <td>-1.281665</td>\n",
       "      <td>False</td>\n",
       "      <td>-1.446909</td>\n",
       "      <td>0.930754</td>\n",
       "      <td>1.074398</td>\n",
       "    </tr>\n",
       "  </tbody>\n",
       "</table>\n",
       "<p>1000 rows × 5 columns</p>\n",
       "</div>"
      ],
      "text/plain": [
       "           W0     v0         y  propensity_score     weight\n",
       "0   -0.008004  False -1.425509          0.489139   2.044410\n",
       "1    0.373292  False -1.679975          0.302732   3.303250\n",
       "2   -1.971838  False -3.283868          0.982534   1.017777\n",
       "3   -0.970502  False -0.970409          0.875765   1.141858\n",
       "4   -0.899085  False  0.565383          0.858732   1.164508\n",
       "..        ...    ...       ...               ...        ...\n",
       "995 -1.214374  False -2.254417          0.921199   1.085541\n",
       "996  1.890352  False  1.392968          0.018326  54.567895\n",
       "997  0.358897  False  0.351109          0.309072   3.235495\n",
       "998 -1.879920  False -0.089048          0.978942   1.021511\n",
       "999 -1.281665  False -1.446909          0.930754   1.074398\n",
       "\n",
       "[1000 rows x 5 columns]"
      ]
     },
     "execution_count": 6,
     "metadata": {},
     "output_type": "execute_result"
    }
   ],
   "source": [
    "cdf_0"
   ]
  },
  {
   "cell_type": "code",
   "execution_count": 7,
   "metadata": {
    "execution": {
     "iopub.execute_input": "2023-03-07T16:55:10.951308Z",
     "iopub.status.busy": "2023-03-07T16:55:10.950649Z",
     "iopub.status.idle": "2023-03-07T16:55:10.964496Z",
     "shell.execute_reply": "2023-03-07T16:55:10.963790Z"
    }
   },
   "outputs": [
    {
     "data": {
      "text/html": [
       "<div>\n",
       "<style scoped>\n",
       "    .dataframe tbody tr th:only-of-type {\n",
       "        vertical-align: middle;\n",
       "    }\n",
       "\n",
       "    .dataframe tbody tr th {\n",
       "        vertical-align: top;\n",
       "    }\n",
       "\n",
       "    .dataframe thead th {\n",
       "        text-align: right;\n",
       "    }\n",
       "</style>\n",
       "<table border=\"1\" class=\"dataframe\">\n",
       "  <thead>\n",
       "    <tr style=\"text-align: right;\">\n",
       "      <th></th>\n",
       "      <th>W0</th>\n",
       "      <th>v0</th>\n",
       "      <th>y</th>\n",
       "      <th>propensity_score</th>\n",
       "      <th>weight</th>\n",
       "    </tr>\n",
       "  </thead>\n",
       "  <tbody>\n",
       "    <tr>\n",
       "      <th>0</th>\n",
       "      <td>-1.243669</td>\n",
       "      <td>True</td>\n",
       "      <td>3.185726</td>\n",
       "      <td>0.074501</td>\n",
       "      <td>13.422622</td>\n",
       "    </tr>\n",
       "    <tr>\n",
       "      <th>1</th>\n",
       "      <td>0.391810</td>\n",
       "      <td>True</td>\n",
       "      <td>3.711468</td>\n",
       "      <td>0.705313</td>\n",
       "      <td>1.417809</td>\n",
       "    </tr>\n",
       "    <tr>\n",
       "      <th>2</th>\n",
       "      <td>2.372207</td>\n",
       "      <td>True</td>\n",
       "      <td>8.228056</td>\n",
       "      <td>0.993176</td>\n",
       "      <td>1.006871</td>\n",
       "    </tr>\n",
       "    <tr>\n",
       "      <th>3</th>\n",
       "      <td>-2.160767</td>\n",
       "      <td>True</td>\n",
       "      <td>3.374433</td>\n",
       "      <td>0.011871</td>\n",
       "      <td>84.240094</td>\n",
       "    </tr>\n",
       "    <tr>\n",
       "      <th>4</th>\n",
       "      <td>-1.144618</td>\n",
       "      <td>True</td>\n",
       "      <td>4.707580</td>\n",
       "      <td>0.089964</td>\n",
       "      <td>11.115523</td>\n",
       "    </tr>\n",
       "    <tr>\n",
       "      <th>...</th>\n",
       "      <td>...</td>\n",
       "      <td>...</td>\n",
       "      <td>...</td>\n",
       "      <td>...</td>\n",
       "      <td>...</td>\n",
       "    </tr>\n",
       "    <tr>\n",
       "      <th>995</th>\n",
       "      <td>-0.772471</td>\n",
       "      <td>True</td>\n",
       "      <td>4.768812</td>\n",
       "      <td>0.176219</td>\n",
       "      <td>5.674762</td>\n",
       "    </tr>\n",
       "    <tr>\n",
       "      <th>996</th>\n",
       "      <td>-0.246116</td>\n",
       "      <td>True</td>\n",
       "      <td>4.346200</td>\n",
       "      <td>0.389258</td>\n",
       "      <td>2.568990</td>\n",
       "    </tr>\n",
       "    <tr>\n",
       "      <th>997</th>\n",
       "      <td>-1.119818</td>\n",
       "      <td>True</td>\n",
       "      <td>3.413801</td>\n",
       "      <td>0.094265</td>\n",
       "      <td>10.608344</td>\n",
       "    </tr>\n",
       "    <tr>\n",
       "      <th>998</th>\n",
       "      <td>0.120525</td>\n",
       "      <td>True</td>\n",
       "      <td>5.696036</td>\n",
       "      <td>0.576896</td>\n",
       "      <td>1.733416</td>\n",
       "    </tr>\n",
       "    <tr>\n",
       "      <th>999</th>\n",
       "      <td>0.004570</td>\n",
       "      <td>True</td>\n",
       "      <td>5.693907</td>\n",
       "      <td>0.517376</td>\n",
       "      <td>1.932831</td>\n",
       "    </tr>\n",
       "  </tbody>\n",
       "</table>\n",
       "<p>1000 rows × 5 columns</p>\n",
       "</div>"
      ],
      "text/plain": [
       "           W0    v0         y  propensity_score     weight\n",
       "0   -1.243669  True  3.185726          0.074501  13.422622\n",
       "1    0.391810  True  3.711468          0.705313   1.417809\n",
       "2    2.372207  True  8.228056          0.993176   1.006871\n",
       "3   -2.160767  True  3.374433          0.011871  84.240094\n",
       "4   -1.144618  True  4.707580          0.089964  11.115523\n",
       "..        ...   ...       ...               ...        ...\n",
       "995 -0.772471  True  4.768812          0.176219   5.674762\n",
       "996 -0.246116  True  4.346200          0.389258   2.568990\n",
       "997 -1.119818  True  3.413801          0.094265  10.608344\n",
       "998  0.120525  True  5.696036          0.576896   1.733416\n",
       "999  0.004570  True  5.693907          0.517376   1.932831\n",
       "\n",
       "[1000 rows x 5 columns]"
      ]
     },
     "execution_count": 7,
     "metadata": {},
     "output_type": "execute_result"
    }
   ],
   "source": [
    "cdf_1"
   ]
  },
  {
   "cell_type": "markdown",
   "metadata": {},
   "source": [
    "## Comparing the estimate to Linear Regression\n",
    "First, estimating the effect using the causal data frame, and the 95% confidence interval."
   ]
  },
  {
   "cell_type": "code",
   "execution_count": 8,
   "metadata": {
    "execution": {
     "iopub.execute_input": "2023-03-07T16:55:10.967900Z",
     "iopub.status.busy": "2023-03-07T16:55:10.967395Z",
     "iopub.status.idle": "2023-03-07T16:55:11.028470Z",
     "shell.execute_reply": "2023-03-07T16:55:11.027648Z"
    }
   },
   "outputs": [
    {
     "data": {
      "image/png": "[encoded data removed]",
      "text/latex": [
       "$\\displaystyle 4.88501408632696$"
      ],
      "text/plain": [
       "4.885014086326956"
      ]
     },
     "execution_count": 8,
     "metadata": {},
     "output_type": "execute_result"
    }
   ],
   "source": [
    "(cdf_1['y'] - cdf_0['y']).mean()"
   ]
  },
  {
   "cell_type": "code",
   "execution_count": 9,
   "metadata": {
    "execution": {
     "iopub.execute_input": "2023-03-07T16:55:11.032045Z",
     "iopub.status.busy": "2023-03-07T16:55:11.031617Z",
     "iopub.status.idle": "2023-03-07T16:55:11.055754Z",
     "shell.execute_reply": "2023-03-07T16:55:11.055008Z"
    }
   },
   "outputs": [
    {
     "data": {
      "image/png": "[encoded data removed]",
      "text/latex": [
       "$\\displaystyle 0.105000412658433$"
      ],
      "text/plain": [
       "0.10500041265843295"
      ]
     },
     "execution_count": 9,
     "metadata": {},
     "output_type": "execute_result"
    }
   ],
   "source": [
    "1.96*(cdf_1['y'] - cdf_0['y']).std() / np.sqrt(len(df))"
   ]
  },
  {
   "cell_type": "markdown",
   "metadata": {},
   "source": [
    "Comparing to the estimate from OLS."
   ]
  },
  {
   "cell_type": "code",
   "execution_count": 10,
   "metadata": {
    "execution": {
     "iopub.execute_input": "2023-03-07T16:55:11.059330Z",
     "iopub.status.busy": "2023-03-07T16:55:11.058777Z",
     "iopub.status.idle": "2023-03-07T16:55:11.074986Z",
     "shell.execute_reply": "2023-03-07T16:55:11.074177Z"
    }
   },
   "outputs": [
    {
     "data": {
      "text/html": [
       "<table class=\"simpletable\">\n",
       "<caption>OLS Regression Results</caption>\n",
       "<tr>\n",
       "  <th>Dep. Variable:</th>            <td>y</td>        <th>  R-squared (uncentered):</th>      <td>   0.924</td>\n",
       "</tr>\n",
       "<tr>\n",
       "  <th>Model:</th>                   <td>OLS</td>       <th>  Adj. R-squared (uncentered):</th> <td>   0.924</td>\n",
       "</tr>\n",
       "<tr>\n",
       "  <th>Method:</th>             <td>Least Squares</td>  <th>  F-statistic:       </th>          <td>   6043.</td>\n",
       "</tr>\n",
       "<tr>\n",
       "  <th>Date:</th>             <td>Tue, 07 Mar 2023</td> <th>  Prob (F-statistic):</th>           <td>  0.00</td> \n",
       "</tr>\n",
       "<tr>\n",
       "  <th>Time:</th>                 <td>16:55:11</td>     <th>  Log-Likelihood:    </th>          <td> -1401.3</td>\n",
       "</tr>\n",
       "<tr>\n",
       "  <th>No. Observations:</th>      <td>  1000</td>      <th>  AIC:               </th>          <td>   2807.</td>\n",
       "</tr>\n",
       "<tr>\n",
       "  <th>Df Residuals:</th>          <td>   998</td>      <th>  BIC:               </th>          <td>   2816.</td>\n",
       "</tr>\n",
       "<tr>\n",
       "  <th>Df Model:</th>              <td>     2</td>      <th>                     </th>              <td> </td>   \n",
       "</tr>\n",
       "<tr>\n",
       "  <th>Covariance Type:</th>      <td>nonrobust</td>    <th>                     </th>              <td> </td>   \n",
       "</tr>\n",
       "</table>\n",
       "<table class=\"simpletable\">\n",
       "<tr>\n",
       "   <td></td>     <th>coef</th>     <th>std err</th>      <th>t</th>      <th>P>|t|</th>  <th>[0.025</th>    <th>0.975]</th>  \n",
       "</tr>\n",
       "<tr>\n",
       "  <th>x1</th> <td>    0.6291</td> <td>    0.030</td> <td>   20.785</td> <td> 0.000</td> <td>    0.570</td> <td>    0.688</td>\n",
       "</tr>\n",
       "<tr>\n",
       "  <th>x2</th> <td>    5.0000</td> <td>    0.050</td> <td>   99.290</td> <td> 0.000</td> <td>    4.901</td> <td>    5.099</td>\n",
       "</tr>\n",
       "</table>\n",
       "<table class=\"simpletable\">\n",
       "<tr>\n",
       "  <th>Omnibus:</th>       <td> 9.481</td> <th>  Durbin-Watson:     </th> <td>   2.110</td>\n",
       "</tr>\n",
       "<tr>\n",
       "  <th>Prob(Omnibus):</th> <td> 0.009</td> <th>  Jarque-Bera (JB):  </th> <td>  10.336</td>\n",
       "</tr>\n",
       "<tr>\n",
       "  <th>Skew:</th>          <td>-0.175</td> <th>  Prob(JB):          </th> <td> 0.00570</td>\n",
       "</tr>\n",
       "<tr>\n",
       "  <th>Kurtosis:</th>      <td> 3.354</td> <th>  Cond. No.          </th> <td>    1.78</td>\n",
       "</tr>\n",
       "</table><br/><br/>Notes:<br/>[1] R² is computed without centering (uncentered) since the model does not contain a constant.<br/>[2] Standard Errors assume that the covariance matrix of the errors is correctly specified."
      ],
      "text/plain": [
       "<class 'statsmodels.iolib.summary.Summary'>\n",
       "\"\"\"\n",
       "                                 OLS Regression Results                                \n",
       "=======================================================================================\n",
       "Dep. Variable:                      y   R-squared (uncentered):                   0.924\n",
       "Model:                            OLS   Adj. R-squared (uncentered):              0.924\n",
       "Method:                 Least Squares   F-statistic:                              6043.\n",
       "Date:                Tue, 07 Mar 2023   Prob (F-statistic):                        0.00\n",
       "Time:                        16:55:11   Log-Likelihood:                         -1401.3\n",
       "No. Observations:                1000   AIC:                                      2807.\n",
       "Df Residuals:                     998   BIC:                                      2816.\n",
       "Df Model:                           2                                                  \n",
       "Covariance Type:            nonrobust                                                  \n",
       "==============================================================================\n",
       "                 coef    std err          t      P>|t|      [0.025      0.975]\n",
       "------------------------------------------------------------------------------\n",
       "x1             0.6291      0.030     20.785      0.000       0.570       0.688\n",
       "x2             5.0000      0.050     99.290      0.000       4.901       5.099\n",
       "==============================================================================\n",
       "Omnibus:                        9.481   Durbin-Watson:                   2.110\n",
       "Prob(Omnibus):                  0.009   Jarque-Bera (JB):               10.336\n",
       "Skew:                          -0.175   Prob(JB):                      0.00570\n",
       "Kurtosis:                       3.354   Cond. No.                         1.78\n",
       "==============================================================================\n",
       "\n",
       "Notes:\n",
       "[1] R² is computed without centering (uncentered) since the model does not contain a constant.\n",
       "[2] Standard Errors assume that the covariance matrix of the errors is correctly specified.\n",
       "\"\"\""
      ]
     },
     "execution_count": 10,
     "metadata": {},
     "output_type": "execute_result"
    }
   ],
   "source": [
    "model = OLS(np.asarray(df[outcome]), np.asarray(df[[common_cause, treatment]], dtype=np.float64))\n",
    "result = model.fit()\n",
    "result.summary()"
   ]
  }
 ],
 "metadata": {
  "kernelspec": {
   "display_name": "Python 3",
   "language": "python",
   "name": "python3"
  },
  "language_info": {
   "codemirror_mode": {
    "name": "ipython",
    "version": 3
   },
   "file_extension": ".py",
   "mimetype": "text/x-python",
   "name": "python",
   "nbconvert_exporter": "python",
   "pygments_lexer": "ipython3",
   "version": "3.8.10"
  },
  "toc": {
   "base_numbering": 1,
   "nav_menu": {},
   "number_sections": false,
   "sideBar": true,
   "skip_h1_title": true,
   "title_cell": "Table of Contents",
   "title_sidebar": "Contents",
   "toc_cell": false,
   "toc_position": {},
   "toc_section_display": true,
   "toc_window_display": false
  }
 },
 "nbformat": 4,
 "nbformat_minor": 4
}
