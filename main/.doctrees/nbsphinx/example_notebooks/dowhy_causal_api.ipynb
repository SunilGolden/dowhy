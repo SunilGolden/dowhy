{
 "cells": [
  {
   "cell_type": "markdown",
   "metadata": {},
   "source": [
    "# Demo for the DoWhy causal API\n",
    "We show a simple example of adding a causal extension to any dataframe. "
   ]
  },
  {
   "cell_type": "code",
   "execution_count": 1,
   "metadata": {
    "execution": {
     "iopub.execute_input": "2023-07-16T17:30:27.239918Z",
     "iopub.status.busy": "2023-07-16T17:30:27.239637Z",
     "iopub.status.idle": "2023-07-16T17:30:29.013361Z",
     "shell.execute_reply": "2023-07-16T17:30:29.012638Z"
    }
   },
   "outputs": [],
   "source": [
    "import dowhy.datasets\n",
    "import dowhy.api\n",
    "\n",
    "import numpy as np\n",
    "import pandas as pd\n",
    "\n",
    "from statsmodels.api import OLS"
   ]
  },
  {
   "cell_type": "code",
   "execution_count": 2,
   "metadata": {
    "execution": {
     "iopub.execute_input": "2023-07-16T17:30:29.017714Z",
     "iopub.status.busy": "2023-07-16T17:30:29.017038Z",
     "iopub.status.idle": "2023-07-16T17:30:29.064145Z",
     "shell.execute_reply": "2023-07-16T17:30:29.063340Z"
    }
   },
   "outputs": [
    {
     "data": {
      "text/html": [
       "<div>\n",
       "<style scoped>\n",
       "    .dataframe tbody tr th:only-of-type {\n",
       "        vertical-align: middle;\n",
       "    }\n",
       "\n",
       "    .dataframe tbody tr th {\n",
       "        vertical-align: top;\n",
       "    }\n",
       "\n",
       "    .dataframe thead th {\n",
       "        text-align: right;\n",
       "    }\n",
       "</style>\n",
       "<table border=\"1\" class=\"dataframe\">\n",
       "  <thead>\n",
       "    <tr style=\"text-align: right;\">\n",
       "      <th></th>\n",
       "      <th>W0</th>\n",
       "      <th>v0</th>\n",
       "      <th>y</th>\n",
       "    </tr>\n",
       "  </thead>\n",
       "  <tbody>\n",
       "    <tr>\n",
       "      <th>0</th>\n",
       "      <td>-0.877826</td>\n",
       "      <td>False</td>\n",
       "      <td>-0.818645</td>\n",
       "    </tr>\n",
       "    <tr>\n",
       "      <th>1</th>\n",
       "      <td>1.596462</td>\n",
       "      <td>True</td>\n",
       "      <td>5.323853</td>\n",
       "    </tr>\n",
       "    <tr>\n",
       "      <th>2</th>\n",
       "      <td>1.102643</td>\n",
       "      <td>True</td>\n",
       "      <td>5.879211</td>\n",
       "    </tr>\n",
       "    <tr>\n",
       "      <th>3</th>\n",
       "      <td>-0.809935</td>\n",
       "      <td>False</td>\n",
       "      <td>-2.353490</td>\n",
       "    </tr>\n",
       "    <tr>\n",
       "      <th>4</th>\n",
       "      <td>0.165712</td>\n",
       "      <td>True</td>\n",
       "      <td>6.053368</td>\n",
       "    </tr>\n",
       "    <tr>\n",
       "      <th>...</th>\n",
       "      <td>...</td>\n",
       "      <td>...</td>\n",
       "      <td>...</td>\n",
       "    </tr>\n",
       "    <tr>\n",
       "      <th>995</th>\n",
       "      <td>-0.016451</td>\n",
       "      <td>False</td>\n",
       "      <td>0.495271</td>\n",
       "    </tr>\n",
       "    <tr>\n",
       "      <th>996</th>\n",
       "      <td>-0.532815</td>\n",
       "      <td>True</td>\n",
       "      <td>4.265954</td>\n",
       "    </tr>\n",
       "    <tr>\n",
       "      <th>997</th>\n",
       "      <td>0.098311</td>\n",
       "      <td>False</td>\n",
       "      <td>-0.177560</td>\n",
       "    </tr>\n",
       "    <tr>\n",
       "      <th>998</th>\n",
       "      <td>0.747853</td>\n",
       "      <td>True</td>\n",
       "      <td>7.140920</td>\n",
       "    </tr>\n",
       "    <tr>\n",
       "      <th>999</th>\n",
       "      <td>-0.391196</td>\n",
       "      <td>True</td>\n",
       "      <td>3.984664</td>\n",
       "    </tr>\n",
       "  </tbody>\n",
       "</table>\n",
       "<p>1000 rows × 3 columns</p>\n",
       "</div>"
      ],
      "text/plain": [
       "           W0     v0         y\n",
       "0   -0.877826  False -0.818645\n",
       "1    1.596462   True  5.323853\n",
       "2    1.102643   True  5.879211\n",
       "3   -0.809935  False -2.353490\n",
       "4    0.165712   True  6.053368\n",
       "..        ...    ...       ...\n",
       "995 -0.016451  False  0.495271\n",
       "996 -0.532815   True  4.265954\n",
       "997  0.098311  False -0.177560\n",
       "998  0.747853   True  7.140920\n",
       "999 -0.391196   True  3.984664\n",
       "\n",
       "[1000 rows x 3 columns]"
      ]
     },
     "execution_count": 2,
     "metadata": {},
     "output_type": "execute_result"
    }
   ],
   "source": [
    "data = dowhy.datasets.linear_dataset(beta=5,\n",
    "        num_common_causes=1,\n",
    "        num_instruments = 0,\n",
    "        num_samples=1000,\n",
    "        treatment_is_binary=True)\n",
    "df = data['df']\n",
    "df['y'] = df['y'] + np.random.normal(size=len(df)) # Adding noise to data. Without noise, the variance in Y|X, Z is zero, and mcmc fails.\n",
    "#data['dot_graph'] = 'digraph { v ->y;X0-> v;X0-> y;}'\n",
    "\n",
    "treatment= data[\"treatment_name\"][0]\n",
    "outcome = data[\"outcome_name\"][0]\n",
    "common_cause = data[\"common_causes_names\"][0]\n",
    "df"
   ]
  },
  {
   "cell_type": "code",
   "execution_count": 3,
   "metadata": {
    "execution": {
     "iopub.execute_input": "2023-07-16T17:30:29.067771Z",
     "iopub.status.busy": "2023-07-16T17:30:29.067310Z",
     "iopub.status.idle": "2023-07-16T17:30:29.271620Z",
     "shell.execute_reply": "2023-07-16T17:30:29.270936Z"
    }
   },
   "outputs": [
    {
     "data": {
      "text/plain": [
       "<Axes: xlabel='v0'>"
      ]
     },
     "execution_count": 3,
     "metadata": {},
     "output_type": "execute_result"
    },
    {
     "data": {
      "image/png": "[encoded data removed]",
      "text/plain": [
       "<Figure size 640x480 with 1 Axes>"
      ]
     },
     "metadata": {},
     "output_type": "display_data"
    }
   ],
   "source": [
    "# data['df'] is just a regular pandas.DataFrame\n",
    "df.causal.do(x=treatment,\n",
    "                     variable_types={treatment: 'b', outcome: 'c', common_cause: 'c'},\n",
    "                     outcome=outcome,\n",
    "                     common_causes=[common_cause],\n",
    "                     proceed_when_unidentifiable=True).groupby(treatment).mean().plot(y=outcome, kind='bar')"
   ]
  },
  {
   "cell_type": "code",
   "execution_count": 4,
   "metadata": {
    "execution": {
     "iopub.execute_input": "2023-07-16T17:30:29.274931Z",
     "iopub.status.busy": "2023-07-16T17:30:29.274334Z",
     "iopub.status.idle": "2023-07-16T17:30:29.409278Z",
     "shell.execute_reply": "2023-07-16T17:30:29.408589Z"
    }
   },
   "outputs": [
    {
     "data": {
      "text/plain": [
       "<Axes: xlabel='v0'>"
      ]
     },
     "execution_count": 4,
     "metadata": {},
     "output_type": "execute_result"
    },
    {
     "data": {
      "image/png": "[encoded data removed]",
      "text/plain": [
       "<Figure size 640x480 with 1 Axes>"
      ]
     },
     "metadata": {},
     "output_type": "display_data"
    }
   ],
   "source": [
    "df.causal.do(x={treatment: 1}, \n",
    "              variable_types={treatment:'b', outcome: 'c', common_cause: 'c'}, \n",
    "              outcome=outcome,\n",
    "              method='weighting', \n",
    "              common_causes=[common_cause],\n",
    "              proceed_when_unidentifiable=True).groupby(treatment).mean().plot(y=outcome, kind='bar')"
   ]
  },
  {
   "cell_type": "code",
   "execution_count": 5,
   "metadata": {
    "execution": {
     "iopub.execute_input": "2023-07-16T17:30:29.412611Z",
     "iopub.status.busy": "2023-07-16T17:30:29.412294Z",
     "iopub.status.idle": "2023-07-16T17:30:29.444185Z",
     "shell.execute_reply": "2023-07-16T17:30:29.443406Z"
    }
   },
   "outputs": [],
   "source": [
    "cdf_1 = df.causal.do(x={treatment: 1}, \n",
    "              variable_types={treatment: 'b', outcome: 'c', common_cause: 'c'}, \n",
    "              outcome=outcome, \n",
    "              dot_graph=data['dot_graph'],\n",
    "              proceed_when_unidentifiable=True)\n",
    "\n",
    "cdf_0 = df.causal.do(x={treatment: 0}, \n",
    "              variable_types={treatment: 'b', outcome: 'c', common_cause: 'c'}, \n",
    "              outcome=outcome, \n",
    "              dot_graph=data['dot_graph'],\n",
    "              proceed_when_unidentifiable=True)\n"
   ]
  },
  {
   "cell_type": "code",
   "execution_count": 6,
   "metadata": {
    "execution": {
     "iopub.execute_input": "2023-07-16T17:30:29.447751Z",
     "iopub.status.busy": "2023-07-16T17:30:29.447356Z",
     "iopub.status.idle": "2023-07-16T17:30:29.458688Z",
     "shell.execute_reply": "2023-07-16T17:30:29.457973Z"
    },
    "scrolled": true
   },
   "outputs": [
    {
     "data": {
      "text/html": [
       "<div>\n",
       "<style scoped>\n",
       "    .dataframe tbody tr th:only-of-type {\n",
       "        vertical-align: middle;\n",
       "    }\n",
       "\n",
       "    .dataframe tbody tr th {\n",
       "        vertical-align: top;\n",
       "    }\n",
       "\n",
       "    .dataframe thead th {\n",
       "        text-align: right;\n",
       "    }\n",
       "</style>\n",
       "<table border=\"1\" class=\"dataframe\">\n",
       "  <thead>\n",
       "    <tr style=\"text-align: right;\">\n",
       "      <th></th>\n",
       "      <th>W0</th>\n",
       "      <th>v0</th>\n",
       "      <th>y</th>\n",
       "      <th>propensity_score</th>\n",
       "      <th>weight</th>\n",
       "    </tr>\n",
       "  </thead>\n",
       "  <tbody>\n",
       "    <tr>\n",
       "      <th>0</th>\n",
       "      <td>0.689034</td>\n",
       "      <td>False</td>\n",
       "      <td>1.436399</td>\n",
       "      <td>0.297689</td>\n",
       "      <td>3.359211</td>\n",
       "    </tr>\n",
       "    <tr>\n",
       "      <th>1</th>\n",
       "      <td>0.163822</td>\n",
       "      <td>False</td>\n",
       "      <td>-1.494918</td>\n",
       "      <td>0.450901</td>\n",
       "      <td>2.217784</td>\n",
       "    </tr>\n",
       "    <tr>\n",
       "      <th>2</th>\n",
       "      <td>-0.868287</td>\n",
       "      <td>False</td>\n",
       "      <td>-0.784906</td>\n",
       "      <td>0.750728</td>\n",
       "      <td>1.332041</td>\n",
       "    </tr>\n",
       "    <tr>\n",
       "      <th>3</th>\n",
       "      <td>-0.729991</td>\n",
       "      <td>False</td>\n",
       "      <td>0.599302</td>\n",
       "      <td>0.716744</td>\n",
       "      <td>1.395198</td>\n",
       "    </tr>\n",
       "    <tr>\n",
       "      <th>4</th>\n",
       "      <td>0.208477</td>\n",
       "      <td>False</td>\n",
       "      <td>-0.808020</td>\n",
       "      <td>0.437022</td>\n",
       "      <td>2.288215</td>\n",
       "    </tr>\n",
       "    <tr>\n",
       "      <th>...</th>\n",
       "      <td>...</td>\n",
       "      <td>...</td>\n",
       "      <td>...</td>\n",
       "      <td>...</td>\n",
       "      <td>...</td>\n",
       "    </tr>\n",
       "    <tr>\n",
       "      <th>995</th>\n",
       "      <td>-1.422697</td>\n",
       "      <td>False</td>\n",
       "      <td>-4.043144</td>\n",
       "      <td>0.858217</td>\n",
       "      <td>1.165207</td>\n",
       "    </tr>\n",
       "    <tr>\n",
       "      <th>996</th>\n",
       "      <td>1.483285</td>\n",
       "      <td>False</td>\n",
       "      <td>1.650789</td>\n",
       "      <td>0.134893</td>\n",
       "      <td>7.413270</td>\n",
       "    </tr>\n",
       "    <tr>\n",
       "      <th>997</th>\n",
       "      <td>-0.303306</td>\n",
       "      <td>False</td>\n",
       "      <td>0.556701</td>\n",
       "      <td>0.596554</td>\n",
       "      <td>1.676293</td>\n",
       "    </tr>\n",
       "    <tr>\n",
       "      <th>998</th>\n",
       "      <td>1.483285</td>\n",
       "      <td>False</td>\n",
       "      <td>1.650789</td>\n",
       "      <td>0.134893</td>\n",
       "      <td>7.413270</td>\n",
       "    </tr>\n",
       "    <tr>\n",
       "      <th>999</th>\n",
       "      <td>-0.890385</td>\n",
       "      <td>False</td>\n",
       "      <td>-1.109143</td>\n",
       "      <td>0.755898</td>\n",
       "      <td>1.322930</td>\n",
       "    </tr>\n",
       "  </tbody>\n",
       "</table>\n",
       "<p>1000 rows × 5 columns</p>\n",
       "</div>"
      ],
      "text/plain": [
       "           W0     v0         y  propensity_score    weight\n",
       "0    0.689034  False  1.436399          0.297689  3.359211\n",
       "1    0.163822  False -1.494918          0.450901  2.217784\n",
       "2   -0.868287  False -0.784906          0.750728  1.332041\n",
       "3   -0.729991  False  0.599302          0.716744  1.395198\n",
       "4    0.208477  False -0.808020          0.437022  2.288215\n",
       "..        ...    ...       ...               ...       ...\n",
       "995 -1.422697  False -4.043144          0.858217  1.165207\n",
       "996  1.483285  False  1.650789          0.134893  7.413270\n",
       "997 -0.303306  False  0.556701          0.596554  1.676293\n",
       "998  1.483285  False  1.650789          0.134893  7.413270\n",
       "999 -0.890385  False -1.109143          0.755898  1.322930\n",
       "\n",
       "[1000 rows x 5 columns]"
      ]
     },
     "execution_count": 6,
     "metadata": {},
     "output_type": "execute_result"
    }
   ],
   "source": [
    "cdf_0"
   ]
  },
  {
   "cell_type": "code",
   "execution_count": 7,
   "metadata": {
    "execution": {
     "iopub.execute_input": "2023-07-16T17:30:29.462440Z",
     "iopub.status.busy": "2023-07-16T17:30:29.462076Z",
     "iopub.status.idle": "2023-07-16T17:30:29.472903Z",
     "shell.execute_reply": "2023-07-16T17:30:29.472350Z"
    }
   },
   "outputs": [
    {
     "data": {
      "text/html": [
       "<div>\n",
       "<style scoped>\n",
       "    .dataframe tbody tr th:only-of-type {\n",
       "        vertical-align: middle;\n",
       "    }\n",
       "\n",
       "    .dataframe tbody tr th {\n",
       "        vertical-align: top;\n",
       "    }\n",
       "\n",
       "    .dataframe thead th {\n",
       "        text-align: right;\n",
       "    }\n",
       "</style>\n",
       "<table border=\"1\" class=\"dataframe\">\n",
       "  <thead>\n",
       "    <tr style=\"text-align: right;\">\n",
       "      <th></th>\n",
       "      <th>W0</th>\n",
       "      <th>v0</th>\n",
       "      <th>y</th>\n",
       "      <th>propensity_score</th>\n",
       "      <th>weight</th>\n",
       "    </tr>\n",
       "  </thead>\n",
       "  <tbody>\n",
       "    <tr>\n",
       "      <th>0</th>\n",
       "      <td>-0.259218</td>\n",
       "      <td>True</td>\n",
       "      <td>4.604586</td>\n",
       "      <td>0.416874</td>\n",
       "      <td>2.398804</td>\n",
       "    </tr>\n",
       "    <tr>\n",
       "      <th>1</th>\n",
       "      <td>0.481431</td>\n",
       "      <td>True</td>\n",
       "      <td>6.478459</td>\n",
       "      <td>0.644954</td>\n",
       "      <td>1.550497</td>\n",
       "    </tr>\n",
       "    <tr>\n",
       "      <th>2</th>\n",
       "      <td>1.465073</td>\n",
       "      <td>True</td>\n",
       "      <td>6.146171</td>\n",
       "      <td>0.862408</td>\n",
       "      <td>1.159544</td>\n",
       "    </tr>\n",
       "    <tr>\n",
       "      <th>3</th>\n",
       "      <td>-0.537228</td>\n",
       "      <td>True</td>\n",
       "      <td>3.127503</td>\n",
       "      <td>0.334999</td>\n",
       "      <td>2.985081</td>\n",
       "    </tr>\n",
       "    <tr>\n",
       "      <th>4</th>\n",
       "      <td>-1.865022</td>\n",
       "      <td>True</td>\n",
       "      <td>0.527512</td>\n",
       "      <td>0.086473</td>\n",
       "      <td>11.564369</td>\n",
       "    </tr>\n",
       "    <tr>\n",
       "      <th>...</th>\n",
       "      <td>...</td>\n",
       "      <td>...</td>\n",
       "      <td>...</td>\n",
       "      <td>...</td>\n",
       "      <td>...</td>\n",
       "    </tr>\n",
       "    <tr>\n",
       "      <th>995</th>\n",
       "      <td>-0.118408</td>\n",
       "      <td>True</td>\n",
       "      <td>5.209289</td>\n",
       "      <td>0.460502</td>\n",
       "      <td>2.171545</td>\n",
       "    </tr>\n",
       "    <tr>\n",
       "      <th>996</th>\n",
       "      <td>-0.859146</td>\n",
       "      <td>True</td>\n",
       "      <td>3.940588</td>\n",
       "      <td>0.251432</td>\n",
       "      <td>3.977213</td>\n",
       "    </tr>\n",
       "    <tr>\n",
       "      <th>997</th>\n",
       "      <td>0.012812</td>\n",
       "      <td>True</td>\n",
       "      <td>5.278292</td>\n",
       "      <td>0.501724</td>\n",
       "      <td>1.993128</td>\n",
       "    </tr>\n",
       "    <tr>\n",
       "      <th>998</th>\n",
       "      <td>1.563029</td>\n",
       "      <td>True</td>\n",
       "      <td>7.079667</td>\n",
       "      <td>0.876400</td>\n",
       "      <td>1.141031</td>\n",
       "    </tr>\n",
       "    <tr>\n",
       "      <th>999</th>\n",
       "      <td>1.880044</td>\n",
       "      <td>True</td>\n",
       "      <td>8.467271</td>\n",
       "      <td>0.913562</td>\n",
       "      <td>1.094616</td>\n",
       "    </tr>\n",
       "  </tbody>\n",
       "</table>\n",
       "<p>1000 rows × 5 columns</p>\n",
       "</div>"
      ],
      "text/plain": [
       "           W0    v0         y  propensity_score     weight\n",
       "0   -0.259218  True  4.604586          0.416874   2.398804\n",
       "1    0.481431  True  6.478459          0.644954   1.550497\n",
       "2    1.465073  True  6.146171          0.862408   1.159544\n",
       "3   -0.537228  True  3.127503          0.334999   2.985081\n",
       "4   -1.865022  True  0.527512          0.086473  11.564369\n",
       "..        ...   ...       ...               ...        ...\n",
       "995 -0.118408  True  5.209289          0.460502   2.171545\n",
       "996 -0.859146  True  3.940588          0.251432   3.977213\n",
       "997  0.012812  True  5.278292          0.501724   1.993128\n",
       "998  1.563029  True  7.079667          0.876400   1.141031\n",
       "999  1.880044  True  8.467271          0.913562   1.094616\n",
       "\n",
       "[1000 rows x 5 columns]"
      ]
     },
     "execution_count": 7,
     "metadata": {},
     "output_type": "execute_result"
    }
   ],
   "source": [
    "cdf_1"
   ]
  },
  {
   "cell_type": "markdown",
   "metadata": {},
   "source": [
    "## Comparing the estimate to Linear Regression\n",
    "First, estimating the effect using the causal data frame, and the 95% confidence interval."
   ]
  },
  {
   "cell_type": "code",
   "execution_count": 8,
   "metadata": {
    "execution": {
     "iopub.execute_input": "2023-07-16T17:30:29.476147Z",
     "iopub.status.busy": "2023-07-16T17:30:29.475527Z",
     "iopub.status.idle": "2023-07-16T17:30:29.537301Z",
     "shell.execute_reply": "2023-07-16T17:30:29.536471Z"
    }
   },
   "outputs": [
    {
     "data": {
      "image/png": "[encoded data removed]",
      "text/latex": [
       "$\\displaystyle 5.03911292265861$"
      ],
      "text/plain": [
       "5.03911292265861"
      ]
     },
     "execution_count": 8,
     "metadata": {},
     "output_type": "execute_result"
    }
   ],
   "source": [
    "(cdf_1['y'] - cdf_0['y']).mean()"
   ]
  },
  {
   "cell_type": "code",
   "execution_count": 9,
   "metadata": {
    "execution": {
     "iopub.execute_input": "2023-07-16T17:30:29.541130Z",
     "iopub.status.busy": "2023-07-16T17:30:29.540669Z",
     "iopub.status.idle": "2023-07-16T17:30:29.562099Z",
     "shell.execute_reply": "2023-07-16T17:30:29.561394Z"
    }
   },
   "outputs": [
    {
     "data": {
      "image/png": "[encoded data removed]",
      "text/latex": [
       "$\\displaystyle 0.158443889531887$"
      ],
      "text/plain": [
       "0.15844388953188726"
      ]
     },
     "execution_count": 9,
     "metadata": {},
     "output_type": "execute_result"
    }
   ],
   "source": [
    "1.96*(cdf_1['y'] - cdf_0['y']).std() / np.sqrt(len(df))"
   ]
  },
  {
   "cell_type": "markdown",
   "metadata": {},
   "source": [
    "Comparing to the estimate from OLS."
   ]
  },
  {
   "cell_type": "code",
   "execution_count": 10,
   "metadata": {
    "execution": {
     "iopub.execute_input": "2023-07-16T17:30:29.565278Z",
     "iopub.status.busy": "2023-07-16T17:30:29.564902Z",
     "iopub.status.idle": "2023-07-16T17:30:29.582075Z",
     "shell.execute_reply": "2023-07-16T17:30:29.581383Z"
    }
   },
   "outputs": [
    {
     "data": {
      "text/html": [
       "<table class=\"simpletable\">\n",
       "<caption>OLS Regression Results</caption>\n",
       "<tr>\n",
       "  <th>Dep. Variable:</th>            <td>y</td>        <th>  R-squared (uncentered):</th>      <td>   0.935</td>\n",
       "</tr>\n",
       "<tr>\n",
       "  <th>Model:</th>                   <td>OLS</td>       <th>  Adj. R-squared (uncentered):</th> <td>   0.935</td>\n",
       "</tr>\n",
       "<tr>\n",
       "  <th>Method:</th>             <td>Least Squares</td>  <th>  F-statistic:       </th>          <td>   7231.</td>\n",
       "</tr>\n",
       "<tr>\n",
       "  <th>Date:</th>             <td>Sun, 16 Jul 2023</td> <th>  Prob (F-statistic):</th>           <td>  0.00</td> \n",
       "</tr>\n",
       "<tr>\n",
       "  <th>Time:</th>                 <td>17:30:29</td>     <th>  Log-Likelihood:    </th>          <td> -1445.8</td>\n",
       "</tr>\n",
       "<tr>\n",
       "  <th>No. Observations:</th>      <td>  1000</td>      <th>  AIC:               </th>          <td>   2896.</td>\n",
       "</tr>\n",
       "<tr>\n",
       "  <th>Df Residuals:</th>          <td>   998</td>      <th>  BIC:               </th>          <td>   2905.</td>\n",
       "</tr>\n",
       "<tr>\n",
       "  <th>Df Model:</th>              <td>     2</td>      <th>                     </th>              <td> </td>   \n",
       "</tr>\n",
       "<tr>\n",
       "  <th>Covariance Type:</th>      <td>nonrobust</td>    <th>                     </th>              <td> </td>   \n",
       "</tr>\n",
       "</table>\n",
       "<table class=\"simpletable\">\n",
       "<tr>\n",
       "   <td></td>     <th>coef</th>     <th>std err</th>      <th>t</th>      <th>P>|t|</th>  <th>[0.025</th>    <th>0.975]</th>  \n",
       "</tr>\n",
       "<tr>\n",
       "  <th>x1</th> <td>    1.3864</td> <td>    0.031</td> <td>   45.394</td> <td> 0.000</td> <td>    1.326</td> <td>    1.446</td>\n",
       "</tr>\n",
       "<tr>\n",
       "  <th>x2</th> <td>    4.9752</td> <td>    0.050</td> <td>   99.171</td> <td> 0.000</td> <td>    4.877</td> <td>    5.074</td>\n",
       "</tr>\n",
       "</table>\n",
       "<table class=\"simpletable\">\n",
       "<tr>\n",
       "  <th>Omnibus:</th>       <td> 0.689</td> <th>  Durbin-Watson:     </th> <td>   1.921</td>\n",
       "</tr>\n",
       "<tr>\n",
       "  <th>Prob(Omnibus):</th> <td> 0.709</td> <th>  Jarque-Bera (JB):  </th> <td>   0.774</td>\n",
       "</tr>\n",
       "<tr>\n",
       "  <th>Skew:</th>          <td>-0.039</td> <th>  Prob(JB):          </th> <td>   0.679</td>\n",
       "</tr>\n",
       "<tr>\n",
       "  <th>Kurtosis:</th>      <td> 2.889</td> <th>  Cond. No.          </th> <td>    1.72</td>\n",
       "</tr>\n",
       "</table><br/><br/>Notes:<br/>[1] R² is computed without centering (uncentered) since the model does not contain a constant.<br/>[2] Standard Errors assume that the covariance matrix of the errors is correctly specified."
      ],
      "text/plain": [
       "<class 'statsmodels.iolib.summary.Summary'>\n",
       "\"\"\"\n",
       "                                 OLS Regression Results                                \n",
       "=======================================================================================\n",
       "Dep. Variable:                      y   R-squared (uncentered):                   0.935\n",
       "Model:                            OLS   Adj. R-squared (uncentered):              0.935\n",
       "Method:                 Least Squares   F-statistic:                              7231.\n",
       "Date:                Sun, 16 Jul 2023   Prob (F-statistic):                        0.00\n",
       "Time:                        17:30:29   Log-Likelihood:                         -1445.8\n",
       "No. Observations:                1000   AIC:                                      2896.\n",
       "Df Residuals:                     998   BIC:                                      2905.\n",
       "Df Model:                           2                                                  \n",
       "Covariance Type:            nonrobust                                                  \n",
       "==============================================================================\n",
       "                 coef    std err          t      P>|t|      [0.025      0.975]\n",
       "------------------------------------------------------------------------------\n",
       "x1             1.3864      0.031     45.394      0.000       1.326       1.446\n",
       "x2             4.9752      0.050     99.171      0.000       4.877       5.074\n",
       "==============================================================================\n",
       "Omnibus:                        0.689   Durbin-Watson:                   1.921\n",
       "Prob(Omnibus):                  0.709   Jarque-Bera (JB):                0.774\n",
       "Skew:                          -0.039   Prob(JB):                        0.679\n",
       "Kurtosis:                       2.889   Cond. No.                         1.72\n",
       "==============================================================================\n",
       "\n",
       "Notes:\n",
       "[1] R² is computed without centering (uncentered) since the model does not contain a constant.\n",
       "[2] Standard Errors assume that the covariance matrix of the errors is correctly specified.\n",
       "\"\"\""
      ]
     },
     "execution_count": 10,
     "metadata": {},
     "output_type": "execute_result"
    }
   ],
   "source": [
    "model = OLS(np.asarray(df[outcome]), np.asarray(df[[common_cause, treatment]], dtype=np.float64))\n",
    "result = model.fit()\n",
    "result.summary()"
   ]
  }
 ],
 "metadata": {
  "kernelspec": {
   "display_name": "Python 3",
   "language": "python",
   "name": "python3"
  },
  "language_info": {
   "codemirror_mode": {
    "name": "ipython",
    "version": 3
   },
   "file_extension": ".py",
   "mimetype": "text/x-python",
   "name": "python",
   "nbconvert_exporter": "python",
   "pygments_lexer": "ipython3",
   "version": "3.8.10"
  },
  "toc": {
   "base_numbering": 1,
   "nav_menu": {},
   "number_sections": false,
   "sideBar": true,
   "skip_h1_title": true,
   "title_cell": "Table of Contents",
   "title_sidebar": "Contents",
   "toc_cell": false,
   "toc_position": {},
   "toc_section_display": true,
   "toc_window_display": false
  }
 },
 "nbformat": 4,
 "nbformat_minor": 4
}
