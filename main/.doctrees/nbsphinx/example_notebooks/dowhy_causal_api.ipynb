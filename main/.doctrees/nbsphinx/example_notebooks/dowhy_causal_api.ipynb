{
 "cells": [
  {
   "cell_type": "markdown",
   "metadata": {},
   "source": [
    "# Demo for the DoWhy causal API\n",
    "We show a simple example of adding a causal extension to any dataframe. "
   ]
  },
  {
   "cell_type": "code",
   "execution_count": 1,
   "metadata": {
    "execution": {
     "iopub.execute_input": "2024-05-21T14:49:51.766664Z",
     "iopub.status.busy": "2024-05-21T14:49:51.766476Z",
     "iopub.status.idle": "2024-05-21T14:49:53.216230Z",
     "shell.execute_reply": "2024-05-21T14:49:53.215634Z"
    }
   },
   "outputs": [],
   "source": [
    "import dowhy.datasets\n",
    "import dowhy.api\n",
    "from dowhy.graph import build_graph_from_str\n",
    "\n",
    "import numpy as np\n",
    "import pandas as pd\n",
    "\n",
    "from statsmodels.api import OLS"
   ]
  },
  {
   "cell_type": "code",
   "execution_count": 2,
   "metadata": {
    "execution": {
     "iopub.execute_input": "2024-05-21T14:49:53.219138Z",
     "iopub.status.busy": "2024-05-21T14:49:53.218731Z",
     "iopub.status.idle": "2024-05-21T14:49:53.259149Z",
     "shell.execute_reply": "2024-05-21T14:49:53.258477Z"
    }
   },
   "outputs": [
    {
     "data": {
      "text/html": [
       "<div>\n",
       "<style scoped>\n",
       "    .dataframe tbody tr th:only-of-type {\n",
       "        vertical-align: middle;\n",
       "    }\n",
       "\n",
       "    .dataframe tbody tr th {\n",
       "        vertical-align: top;\n",
       "    }\n",
       "\n",
       "    .dataframe thead th {\n",
       "        text-align: right;\n",
       "    }\n",
       "</style>\n",
       "<table border=\"1\" class=\"dataframe\">\n",
       "  <thead>\n",
       "    <tr style=\"text-align: right;\">\n",
       "      <th></th>\n",
       "      <th>W0</th>\n",
       "      <th>v0</th>\n",
       "      <th>y</th>\n",
       "    </tr>\n",
       "  </thead>\n",
       "  <tbody>\n",
       "    <tr>\n",
       "      <th>0</th>\n",
       "      <td>0.202415</td>\n",
       "      <td>True</td>\n",
       "      <td>4.166583</td>\n",
       "    </tr>\n",
       "    <tr>\n",
       "      <th>1</th>\n",
       "      <td>-1.707695</td>\n",
       "      <td>False</td>\n",
       "      <td>-3.310423</td>\n",
       "    </tr>\n",
       "    <tr>\n",
       "      <th>2</th>\n",
       "      <td>-0.870345</td>\n",
       "      <td>False</td>\n",
       "      <td>-1.512865</td>\n",
       "    </tr>\n",
       "    <tr>\n",
       "      <th>3</th>\n",
       "      <td>0.420172</td>\n",
       "      <td>True</td>\n",
       "      <td>7.067471</td>\n",
       "    </tr>\n",
       "    <tr>\n",
       "      <th>4</th>\n",
       "      <td>-0.632547</td>\n",
       "      <td>False</td>\n",
       "      <td>-2.643416</td>\n",
       "    </tr>\n",
       "    <tr>\n",
       "      <th>...</th>\n",
       "      <td>...</td>\n",
       "      <td>...</td>\n",
       "      <td>...</td>\n",
       "    </tr>\n",
       "    <tr>\n",
       "      <th>995</th>\n",
       "      <td>-0.003463</td>\n",
       "      <td>False</td>\n",
       "      <td>0.634444</td>\n",
       "    </tr>\n",
       "    <tr>\n",
       "      <th>996</th>\n",
       "      <td>1.363791</td>\n",
       "      <td>True</td>\n",
       "      <td>8.253146</td>\n",
       "    </tr>\n",
       "    <tr>\n",
       "      <th>997</th>\n",
       "      <td>0.238853</td>\n",
       "      <td>True</td>\n",
       "      <td>5.230296</td>\n",
       "    </tr>\n",
       "    <tr>\n",
       "      <th>998</th>\n",
       "      <td>0.048037</td>\n",
       "      <td>False</td>\n",
       "      <td>-1.429661</td>\n",
       "    </tr>\n",
       "    <tr>\n",
       "      <th>999</th>\n",
       "      <td>-1.709092</td>\n",
       "      <td>False</td>\n",
       "      <td>-5.074215</td>\n",
       "    </tr>\n",
       "  </tbody>\n",
       "</table>\n",
       "<p>1000 rows × 3 columns</p>\n",
       "</div>"
      ],
      "text/plain": [
       "           W0     v0         y\n",
       "0    0.202415   True  4.166583\n",
       "1   -1.707695  False -3.310423\n",
       "2   -0.870345  False -1.512865\n",
       "3    0.420172   True  7.067471\n",
       "4   -0.632547  False -2.643416\n",
       "..        ...    ...       ...\n",
       "995 -0.003463  False  0.634444\n",
       "996  1.363791   True  8.253146\n",
       "997  0.238853   True  5.230296\n",
       "998  0.048037  False -1.429661\n",
       "999 -1.709092  False -5.074215\n",
       "\n",
       "[1000 rows x 3 columns]"
      ]
     },
     "execution_count": 2,
     "metadata": {},
     "output_type": "execute_result"
    }
   ],
   "source": [
    "data = dowhy.datasets.linear_dataset(beta=5,\n",
    "        num_common_causes=1,\n",
    "        num_instruments = 0,\n",
    "        num_samples=1000,\n",
    "        treatment_is_binary=True)\n",
    "df = data['df']\n",
    "df['y'] = df['y'] + np.random.normal(size=len(df)) # Adding noise to data. Without noise, the variance in Y|X, Z is zero, and mcmc fails.\n",
    "nx_graph = build_graph_from_str(data[\"dot_graph\"])\n",
    "\n",
    "treatment= data[\"treatment_name\"][0]\n",
    "outcome = data[\"outcome_name\"][0]\n",
    "common_cause = data[\"common_causes_names\"][0]\n",
    "df"
   ]
  },
  {
   "cell_type": "code",
   "execution_count": 3,
   "metadata": {
    "execution": {
     "iopub.execute_input": "2024-05-21T14:49:53.261427Z",
     "iopub.status.busy": "2024-05-21T14:49:53.261239Z",
     "iopub.status.idle": "2024-05-21T14:49:53.441949Z",
     "shell.execute_reply": "2024-05-21T14:49:53.441287Z"
    },
    "scrolled": true
   },
   "outputs": [
    {
     "data": {
      "text/plain": [
       "<Axes: xlabel='v0'>"
      ]
     },
     "execution_count": 3,
     "metadata": {},
     "output_type": "execute_result"
    },
    {
     "data": {
      "image/png": "[encoded data removed]",
      "text/plain": [
       "<Figure size 640x480 with 1 Axes>"
      ]
     },
     "metadata": {},
     "output_type": "display_data"
    }
   ],
   "source": [
    "# data['df'] is just a regular pandas.DataFrame\n",
    "df.causal.do(x=treatment,\n",
    "             variable_types={treatment: 'b', outcome: 'c', common_cause: 'c'},\n",
    "             outcome=outcome,\n",
    "             common_causes=[common_cause],\n",
    "            ).groupby(treatment).mean().plot(y=outcome, kind='bar')"
   ]
  },
  {
   "cell_type": "code",
   "execution_count": 4,
   "metadata": {
    "execution": {
     "iopub.execute_input": "2024-05-21T14:49:53.444262Z",
     "iopub.status.busy": "2024-05-21T14:49:53.444048Z",
     "iopub.status.idle": "2024-05-21T14:49:53.558907Z",
     "shell.execute_reply": "2024-05-21T14:49:53.557768Z"
    }
   },
   "outputs": [
    {
     "data": {
      "text/plain": [
       "<Axes: xlabel='v0'>"
      ]
     },
     "execution_count": 4,
     "metadata": {},
     "output_type": "execute_result"
    },
    {
     "data": {
      "image/png": "[encoded data removed]",
      "text/plain": [
       "<Figure size 640x480 with 1 Axes>"
      ]
     },
     "metadata": {},
     "output_type": "display_data"
    }
   ],
   "source": [
    "df.causal.do(x={treatment: 1}, \n",
    "              variable_types={treatment:'b', outcome: 'c', common_cause: 'c'}, \n",
    "              outcome=outcome,\n",
    "              method='weighting', \n",
    "              common_causes=[common_cause]\n",
    "              ).groupby(treatment).mean().plot(y=outcome, kind='bar')"
   ]
  },
  {
   "cell_type": "code",
   "execution_count": 5,
   "metadata": {
    "execution": {
     "iopub.execute_input": "2024-05-21T14:49:53.562157Z",
     "iopub.status.busy": "2024-05-21T14:49:53.561546Z",
     "iopub.status.idle": "2024-05-21T14:49:53.584285Z",
     "shell.execute_reply": "2024-05-21T14:49:53.583655Z"
    }
   },
   "outputs": [],
   "source": [
    "cdf_1 = df.causal.do(x={treatment: 1}, \n",
    "              variable_types={treatment: 'b', outcome: 'c', common_cause: 'c'}, \n",
    "              outcome=outcome, \n",
    "              graph=nx_graph\n",
    "              )\n",
    "\n",
    "cdf_0 = df.causal.do(x={treatment: 0}, \n",
    "              variable_types={treatment: 'b', outcome: 'c', common_cause: 'c'}, \n",
    "              outcome=outcome, \n",
    "              graph=nx_graph\n",
    "              )\n"
   ]
  },
  {
   "cell_type": "code",
   "execution_count": 6,
   "metadata": {
    "execution": {
     "iopub.execute_input": "2024-05-21T14:49:53.587276Z",
     "iopub.status.busy": "2024-05-21T14:49:53.586895Z",
     "iopub.status.idle": "2024-05-21T14:49:53.596198Z",
     "shell.execute_reply": "2024-05-21T14:49:53.595606Z"
    },
    "scrolled": true
   },
   "outputs": [
    {
     "data": {
      "text/html": [
       "<div>\n",
       "<style scoped>\n",
       "    .dataframe tbody tr th:only-of-type {\n",
       "        vertical-align: middle;\n",
       "    }\n",
       "\n",
       "    .dataframe tbody tr th {\n",
       "        vertical-align: top;\n",
       "    }\n",
       "\n",
       "    .dataframe thead th {\n",
       "        text-align: right;\n",
       "    }\n",
       "</style>\n",
       "<table border=\"1\" class=\"dataframe\">\n",
       "  <thead>\n",
       "    <tr style=\"text-align: right;\">\n",
       "      <th></th>\n",
       "      <th>W0</th>\n",
       "      <th>v0</th>\n",
       "      <th>y</th>\n",
       "      <th>propensity_score</th>\n",
       "      <th>weight</th>\n",
       "    </tr>\n",
       "  </thead>\n",
       "  <tbody>\n",
       "    <tr>\n",
       "      <th>0</th>\n",
       "      <td>-0.404232</td>\n",
       "      <td>False</td>\n",
       "      <td>0.373243</td>\n",
       "      <td>0.736158</td>\n",
       "      <td>1.358404</td>\n",
       "    </tr>\n",
       "    <tr>\n",
       "      <th>1</th>\n",
       "      <td>-0.938690</td>\n",
       "      <td>False</td>\n",
       "      <td>-1.235418</td>\n",
       "      <td>0.909454</td>\n",
       "      <td>1.099561</td>\n",
       "    </tr>\n",
       "    <tr>\n",
       "      <th>2</th>\n",
       "      <td>-0.263990</td>\n",
       "      <td>False</td>\n",
       "      <td>-1.758825</td>\n",
       "      <td>0.665964</td>\n",
       "      <td>1.501584</td>\n",
       "    </tr>\n",
       "    <tr>\n",
       "      <th>3</th>\n",
       "      <td>-0.115231</td>\n",
       "      <td>False</td>\n",
       "      <td>-0.647101</td>\n",
       "      <td>0.582602</td>\n",
       "      <td>1.716437</td>\n",
       "    </tr>\n",
       "    <tr>\n",
       "      <th>4</th>\n",
       "      <td>-0.561546</td>\n",
       "      <td>False</td>\n",
       "      <td>-2.164006</td>\n",
       "      <td>0.802678</td>\n",
       "      <td>1.245830</td>\n",
       "    </tr>\n",
       "    <tr>\n",
       "      <th>...</th>\n",
       "      <td>...</td>\n",
       "      <td>...</td>\n",
       "      <td>...</td>\n",
       "      <td>...</td>\n",
       "      <td>...</td>\n",
       "    </tr>\n",
       "    <tr>\n",
       "      <th>995</th>\n",
       "      <td>1.055050</td>\n",
       "      <td>False</td>\n",
       "      <td>0.652790</td>\n",
       "      <td>0.077898</td>\n",
       "      <td>12.837374</td>\n",
       "    </tr>\n",
       "    <tr>\n",
       "      <th>996</th>\n",
       "      <td>0.284657</td>\n",
       "      <td>False</td>\n",
       "      <td>0.700860</td>\n",
       "      <td>0.348664</td>\n",
       "      <td>2.868094</td>\n",
       "    </tr>\n",
       "    <tr>\n",
       "      <th>997</th>\n",
       "      <td>-0.565313</td>\n",
       "      <td>False</td>\n",
       "      <td>-2.151018</td>\n",
       "      <td>0.804104</td>\n",
       "      <td>1.243621</td>\n",
       "    </tr>\n",
       "    <tr>\n",
       "      <th>998</th>\n",
       "      <td>-0.454122</td>\n",
       "      <td>False</td>\n",
       "      <td>-1.916060</td>\n",
       "      <td>0.758717</td>\n",
       "      <td>1.318014</td>\n",
       "    </tr>\n",
       "    <tr>\n",
       "      <th>999</th>\n",
       "      <td>-1.676127</td>\n",
       "      <td>False</td>\n",
       "      <td>-3.053935</td>\n",
       "      <td>0.983281</td>\n",
       "      <td>1.017003</td>\n",
       "    </tr>\n",
       "  </tbody>\n",
       "</table>\n",
       "<p>1000 rows × 5 columns</p>\n",
       "</div>"
      ],
      "text/plain": [
       "           W0     v0         y  propensity_score     weight\n",
       "0   -0.404232  False  0.373243          0.736158   1.358404\n",
       "1   -0.938690  False -1.235418          0.909454   1.099561\n",
       "2   -0.263990  False -1.758825          0.665964   1.501584\n",
       "3   -0.115231  False -0.647101          0.582602   1.716437\n",
       "4   -0.561546  False -2.164006          0.802678   1.245830\n",
       "..        ...    ...       ...               ...        ...\n",
       "995  1.055050  False  0.652790          0.077898  12.837374\n",
       "996  0.284657  False  0.700860          0.348664   2.868094\n",
       "997 -0.565313  False -2.151018          0.804104   1.243621\n",
       "998 -0.454122  False -1.916060          0.758717   1.318014\n",
       "999 -1.676127  False -3.053935          0.983281   1.017003\n",
       "\n",
       "[1000 rows x 5 columns]"
      ]
     },
     "execution_count": 6,
     "metadata": {},
     "output_type": "execute_result"
    }
   ],
   "source": [
    "cdf_0"
   ]
  },
  {
   "cell_type": "code",
   "execution_count": 7,
   "metadata": {
    "execution": {
     "iopub.execute_input": "2024-05-21T14:49:53.598530Z",
     "iopub.status.busy": "2024-05-21T14:49:53.598181Z",
     "iopub.status.idle": "2024-05-21T14:49:53.606851Z",
     "shell.execute_reply": "2024-05-21T14:49:53.606214Z"
    }
   },
   "outputs": [
    {
     "data": {
      "text/html": [
       "<div>\n",
       "<style scoped>\n",
       "    .dataframe tbody tr th:only-of-type {\n",
       "        vertical-align: middle;\n",
       "    }\n",
       "\n",
       "    .dataframe tbody tr th {\n",
       "        vertical-align: top;\n",
       "    }\n",
       "\n",
       "    .dataframe thead th {\n",
       "        text-align: right;\n",
       "    }\n",
       "</style>\n",
       "<table border=\"1\" class=\"dataframe\">\n",
       "  <thead>\n",
       "    <tr style=\"text-align: right;\">\n",
       "      <th></th>\n",
       "      <th>W0</th>\n",
       "      <th>v0</th>\n",
       "      <th>y</th>\n",
       "      <th>propensity_score</th>\n",
       "      <th>weight</th>\n",
       "    </tr>\n",
       "  </thead>\n",
       "  <tbody>\n",
       "    <tr>\n",
       "      <th>0</th>\n",
       "      <td>-0.595881</td>\n",
       "      <td>True</td>\n",
       "      <td>1.418882</td>\n",
       "      <td>0.184613</td>\n",
       "      <td>5.416747</td>\n",
       "    </tr>\n",
       "    <tr>\n",
       "      <th>1</th>\n",
       "      <td>0.199053</td>\n",
       "      <td>True</td>\n",
       "      <td>6.210000</td>\n",
       "      <td>0.603425</td>\n",
       "      <td>1.657206</td>\n",
       "    </tr>\n",
       "    <tr>\n",
       "      <th>2</th>\n",
       "      <td>0.683593</td>\n",
       "      <td>True</td>\n",
       "      <td>5.197494</td>\n",
       "      <td>0.829349</td>\n",
       "      <td>1.205766</td>\n",
       "    </tr>\n",
       "    <tr>\n",
       "      <th>3</th>\n",
       "      <td>1.090916</td>\n",
       "      <td>True</td>\n",
       "      <td>9.820027</td>\n",
       "      <td>0.928057</td>\n",
       "      <td>1.077520</td>\n",
       "    </tr>\n",
       "    <tr>\n",
       "      <th>4</th>\n",
       "      <td>-0.451915</td>\n",
       "      <td>True</td>\n",
       "      <td>6.011622</td>\n",
       "      <td>0.242252</td>\n",
       "      <td>4.127928</td>\n",
       "    </tr>\n",
       "    <tr>\n",
       "      <th>...</th>\n",
       "      <td>...</td>\n",
       "      <td>...</td>\n",
       "      <td>...</td>\n",
       "      <td>...</td>\n",
       "      <td>...</td>\n",
       "    </tr>\n",
       "    <tr>\n",
       "      <th>995</th>\n",
       "      <td>1.146688</td>\n",
       "      <td>True</td>\n",
       "      <td>6.148798</td>\n",
       "      <td>0.936487</td>\n",
       "      <td>1.067821</td>\n",
       "    </tr>\n",
       "    <tr>\n",
       "      <th>996</th>\n",
       "      <td>0.660479</td>\n",
       "      <td>True</td>\n",
       "      <td>7.776161</td>\n",
       "      <td>0.821365</td>\n",
       "      <td>1.217485</td>\n",
       "    </tr>\n",
       "    <tr>\n",
       "      <th>997</th>\n",
       "      <td>-1.219931</td>\n",
       "      <td>True</td>\n",
       "      <td>2.787059</td>\n",
       "      <td>0.048291</td>\n",
       "      <td>20.707865</td>\n",
       "    </tr>\n",
       "    <tr>\n",
       "      <th>998</th>\n",
       "      <td>-0.893081</td>\n",
       "      <td>True</td>\n",
       "      <td>3.899021</td>\n",
       "      <td>0.099959</td>\n",
       "      <td>10.004118</td>\n",
       "    </tr>\n",
       "    <tr>\n",
       "      <th>999</th>\n",
       "      <td>0.376327</td>\n",
       "      <td>True</td>\n",
       "      <td>6.554756</td>\n",
       "      <td>0.699436</td>\n",
       "      <td>1.429722</td>\n",
       "    </tr>\n",
       "  </tbody>\n",
       "</table>\n",
       "<p>1000 rows × 5 columns</p>\n",
       "</div>"
      ],
      "text/plain": [
       "           W0    v0         y  propensity_score     weight\n",
       "0   -0.595881  True  1.418882          0.184613   5.416747\n",
       "1    0.199053  True  6.210000          0.603425   1.657206\n",
       "2    0.683593  True  5.197494          0.829349   1.205766\n",
       "3    1.090916  True  9.820027          0.928057   1.077520\n",
       "4   -0.451915  True  6.011622          0.242252   4.127928\n",
       "..        ...   ...       ...               ...        ...\n",
       "995  1.146688  True  6.148798          0.936487   1.067821\n",
       "996  0.660479  True  7.776161          0.821365   1.217485\n",
       "997 -1.219931  True  2.787059          0.048291  20.707865\n",
       "998 -0.893081  True  3.899021          0.099959  10.004118\n",
       "999  0.376327  True  6.554756          0.699436   1.429722\n",
       "\n",
       "[1000 rows x 5 columns]"
      ]
     },
     "execution_count": 7,
     "metadata": {},
     "output_type": "execute_result"
    }
   ],
   "source": [
    "cdf_1"
   ]
  },
  {
   "cell_type": "markdown",
   "metadata": {},
   "source": [
    "## Comparing the estimate to Linear Regression\n",
    "First, estimating the effect using the causal data frame, and the 95% confidence interval."
   ]
  },
  {
   "cell_type": "code",
   "execution_count": 8,
   "metadata": {
    "execution": {
     "iopub.execute_input": "2024-05-21T14:49:53.609317Z",
     "iopub.status.busy": "2024-05-21T14:49:53.608887Z",
     "iopub.status.idle": "2024-05-21T14:49:53.655062Z",
     "shell.execute_reply": "2024-05-21T14:49:53.654396Z"
    }
   },
   "outputs": [
    {
     "data": {
      "image/png": "[encoded data removed]",
      "text/latex": [
       "$\\displaystyle 5.58371789616986$"
      ],
      "text/plain": [
       "5.583717896169857"
      ]
     },
     "execution_count": 8,
     "metadata": {},
     "output_type": "execute_result"
    }
   ],
   "source": [
    "(cdf_1['y'] - cdf_0['y']).mean()"
   ]
  },
  {
   "cell_type": "code",
   "execution_count": 9,
   "metadata": {
    "execution": {
     "iopub.execute_input": "2024-05-21T14:49:53.657394Z",
     "iopub.status.busy": "2024-05-21T14:49:53.657046Z",
     "iopub.status.idle": "2024-05-21T14:49:53.673157Z",
     "shell.execute_reply": "2024-05-21T14:49:53.672569Z"
    }
   },
   "outputs": [
    {
     "data": {
      "image/png": "[encoded data removed]",
      "text/latex": [
       "$\\displaystyle 0.172642769495343$"
      ],
      "text/plain": [
       "0.17264276949534324"
      ]
     },
     "execution_count": 9,
     "metadata": {},
     "output_type": "execute_result"
    }
   ],
   "source": [
    "1.96*(cdf_1['y'] - cdf_0['y']).std() / np.sqrt(len(df))"
   ]
  },
  {
   "cell_type": "markdown",
   "metadata": {},
   "source": [
    "Comparing to the estimate from OLS."
   ]
  },
  {
   "cell_type": "code",
   "execution_count": 10,
   "metadata": {
    "execution": {
     "iopub.execute_input": "2024-05-21T14:49:53.675725Z",
     "iopub.status.busy": "2024-05-21T14:49:53.675230Z",
     "iopub.status.idle": "2024-05-21T14:49:53.691842Z",
     "shell.execute_reply": "2024-05-21T14:49:53.691256Z"
    }
   },
   "outputs": [
    {
     "data": {
      "text/html": [
       "<table class=\"simpletable\">\n",
       "<caption>OLS Regression Results</caption>\n",
       "<tr>\n",
       "  <th>Dep. Variable:</th>            <td>y</td>        <th>  R-squared (uncentered):</th>      <td>   0.954</td> \n",
       "</tr>\n",
       "<tr>\n",
       "  <th>Model:</th>                   <td>OLS</td>       <th>  Adj. R-squared (uncentered):</th> <td>   0.953</td> \n",
       "</tr>\n",
       "<tr>\n",
       "  <th>Method:</th>             <td>Least Squares</td>  <th>  F-statistic:       </th>          <td>1.025e+04</td>\n",
       "</tr>\n",
       "<tr>\n",
       "  <th>Date:</th>             <td>Tue, 21 May 2024</td> <th>  Prob (F-statistic):</th>           <td>  0.00</td>  \n",
       "</tr>\n",
       "<tr>\n",
       "  <th>Time:</th>                 <td>14:49:53</td>     <th>  Log-Likelihood:    </th>          <td> -1415.1</td> \n",
       "</tr>\n",
       "<tr>\n",
       "  <th>No. Observations:</th>      <td>  1000</td>      <th>  AIC:               </th>          <td>   2834.</td> \n",
       "</tr>\n",
       "<tr>\n",
       "  <th>Df Residuals:</th>          <td>   998</td>      <th>  BIC:               </th>          <td>   2844.</td> \n",
       "</tr>\n",
       "<tr>\n",
       "  <th>Df Model:</th>              <td>     2</td>      <th>                     </th>              <td> </td>    \n",
       "</tr>\n",
       "<tr>\n",
       "  <th>Covariance Type:</th>      <td>nonrobust</td>    <th>                     </th>              <td> </td>    \n",
       "</tr>\n",
       "</table>\n",
       "<table class=\"simpletable\">\n",
       "<tr>\n",
       "   <td></td>     <th>coef</th>     <th>std err</th>      <th>t</th>      <th>P>|t|</th>  <th>[0.025</th>    <th>0.975]</th>  \n",
       "</tr>\n",
       "<tr>\n",
       "  <th>x1</th> <td>    1.9859</td> <td>    0.035</td> <td>   56.409</td> <td> 0.000</td> <td>    1.917</td> <td>    2.055</td>\n",
       "</tr>\n",
       "<tr>\n",
       "  <th>x2</th> <td>    5.0375</td> <td>    0.051</td> <td>   98.720</td> <td> 0.000</td> <td>    4.937</td> <td>    5.138</td>\n",
       "</tr>\n",
       "</table>\n",
       "<table class=\"simpletable\">\n",
       "<tr>\n",
       "  <th>Omnibus:</th>       <td> 2.696</td> <th>  Durbin-Watson:     </th> <td>   1.925</td>\n",
       "</tr>\n",
       "<tr>\n",
       "  <th>Prob(Omnibus):</th> <td> 0.260</td> <th>  Jarque-Bera (JB):  </th> <td>   2.767</td>\n",
       "</tr>\n",
       "<tr>\n",
       "  <th>Skew:</th>          <td> 0.118</td> <th>  Prob(JB):          </th> <td>   0.251</td>\n",
       "</tr>\n",
       "<tr>\n",
       "  <th>Kurtosis:</th>      <td> 2.899</td> <th>  Cond. No.          </th> <td>    1.76</td>\n",
       "</tr>\n",
       "</table><br/><br/>Notes:<br/>[1] R² is computed without centering (uncentered) since the model does not contain a constant.<br/>[2] Standard Errors assume that the covariance matrix of the errors is correctly specified."
      ],
      "text/latex": [
       "\\begin{center}\n",
       "\\begin{tabular}{lclc}\n",
       "\\toprule\n",
       "\\textbf{Dep. Variable:}    &        y         & \\textbf{  R-squared (uncentered):}      &     0.954   \\\\\n",
       "\\textbf{Model:}            &       OLS        & \\textbf{  Adj. R-squared (uncentered):} &     0.953   \\\\\n",
       "\\textbf{Method:}           &  Least Squares   & \\textbf{  F-statistic:       }          & 1.025e+04   \\\\\n",
       "\\textbf{Date:}             & Tue, 21 May 2024 & \\textbf{  Prob (F-statistic):}          &     0.00    \\\\\n",
       "\\textbf{Time:}             &     14:49:53     & \\textbf{  Log-Likelihood:    }          &   -1415.1   \\\\\n",
       "\\textbf{No. Observations:} &        1000      & \\textbf{  AIC:               }          &     2834.   \\\\\n",
       "\\textbf{Df Residuals:}     &         998      & \\textbf{  BIC:               }          &     2844.   \\\\\n",
       "\\textbf{Df Model:}         &           2      & \\textbf{                     }          &             \\\\\n",
       "\\textbf{Covariance Type:}  &    nonrobust     & \\textbf{                     }          &             \\\\\n",
       "\\bottomrule\n",
       "\\end{tabular}\n",
       "\\begin{tabular}{lcccccc}\n",
       "            & \\textbf{coef} & \\textbf{std err} & \\textbf{t} & \\textbf{P$> |$t$|$} & \\textbf{[0.025} & \\textbf{0.975]}  \\\\\n",
       "\\midrule\n",
       "\\textbf{x1} &       1.9859  &        0.035     &    56.409  &         0.000        &        1.917    &        2.055     \\\\\n",
       "\\textbf{x2} &       5.0375  &        0.051     &    98.720  &         0.000        &        4.937    &        5.138     \\\\\n",
       "\\bottomrule\n",
       "\\end{tabular}\n",
       "\\begin{tabular}{lclc}\n",
       "\\textbf{Omnibus:}       &  2.696 & \\textbf{  Durbin-Watson:     } &    1.925  \\\\\n",
       "\\textbf{Prob(Omnibus):} &  0.260 & \\textbf{  Jarque-Bera (JB):  } &    2.767  \\\\\n",
       "\\textbf{Skew:}          &  0.118 & \\textbf{  Prob(JB):          } &    0.251  \\\\\n",
       "\\textbf{Kurtosis:}      &  2.899 & \\textbf{  Cond. No.          } &     1.76  \\\\\n",
       "\\bottomrule\n",
       "\\end{tabular}\n",
       "%\\caption{OLS Regression Results}\n",
       "\\end{center}\n",
       "\n",
       "Notes: \\newline\n",
       " [1] R² is computed without centering (uncentered) since the model does not contain a constant. \\newline\n",
       " [2] Standard Errors assume that the covariance matrix of the errors is correctly specified."
      ],
      "text/plain": [
       "<class 'statsmodels.iolib.summary.Summary'>\n",
       "\"\"\"\n",
       "                                 OLS Regression Results                                \n",
       "=======================================================================================\n",
       "Dep. Variable:                      y   R-squared (uncentered):                   0.954\n",
       "Model:                            OLS   Adj. R-squared (uncentered):              0.953\n",
       "Method:                 Least Squares   F-statistic:                          1.025e+04\n",
       "Date:                Tue, 21 May 2024   Prob (F-statistic):                        0.00\n",
       "Time:                        14:49:53   Log-Likelihood:                         -1415.1\n",
       "No. Observations:                1000   AIC:                                      2834.\n",
       "Df Residuals:                     998   BIC:                                      2844.\n",
       "Df Model:                           2                                                  \n",
       "Covariance Type:            nonrobust                                                  \n",
       "==============================================================================\n",
       "                 coef    std err          t      P>|t|      [0.025      0.975]\n",
       "------------------------------------------------------------------------------\n",
       "x1             1.9859      0.035     56.409      0.000       1.917       2.055\n",
       "x2             5.0375      0.051     98.720      0.000       4.937       5.138\n",
       "==============================================================================\n",
       "Omnibus:                        2.696   Durbin-Watson:                   1.925\n",
       "Prob(Omnibus):                  0.260   Jarque-Bera (JB):                2.767\n",
       "Skew:                           0.118   Prob(JB):                        0.251\n",
       "Kurtosis:                       2.899   Cond. No.                         1.76\n",
       "==============================================================================\n",
       "\n",
       "Notes:\n",
       "[1] R² is computed without centering (uncentered) since the model does not contain a constant.\n",
       "[2] Standard Errors assume that the covariance matrix of the errors is correctly specified.\n",
       "\"\"\""
      ]
     },
     "execution_count": 10,
     "metadata": {},
     "output_type": "execute_result"
    }
   ],
   "source": [
    "model = OLS(np.asarray(df[outcome]), np.asarray(df[[common_cause, treatment]], dtype=np.float64))\n",
    "result = model.fit()\n",
    "result.summary()"
   ]
  }
 ],
 "metadata": {
  "kernelspec": {
   "display_name": "Python 3 (ipykernel)",
   "language": "python",
   "name": "python3"
  },
  "language_info": {
   "codemirror_mode": {
    "name": "ipython",
    "version": 3
   },
   "file_extension": ".py",
   "mimetype": "text/x-python",
   "name": "python",
   "nbconvert_exporter": "python",
   "pygments_lexer": "ipython3",
   "version": "3.8.10"
  },
  "toc": {
   "base_numbering": 1,
   "nav_menu": {},
   "number_sections": false,
   "sideBar": true,
   "skip_h1_title": true,
   "title_cell": "Table of Contents",
   "title_sidebar": "Contents",
   "toc_cell": false,
   "toc_position": {},
   "toc_section_display": true,
   "toc_window_display": false
  }
 },
 "nbformat": 4,
 "nbformat_minor": 4
}
