{
 "cells": [
  {
   "cell_type": "markdown",
   "metadata": {},
   "source": [
    "# Demo for the DoWhy causal API\n",
    "We show a simple example of adding a causal extension to any dataframe. "
   ]
  },
  {
   "cell_type": "code",
   "execution_count": 1,
   "metadata": {
    "execution": {
     "iopub.execute_input": "2023-12-21T15:06:16.983593Z",
     "iopub.status.busy": "2023-12-21T15:06:16.983420Z",
     "iopub.status.idle": "2023-12-21T15:06:18.347716Z",
     "shell.execute_reply": "2023-12-21T15:06:18.347144Z"
    }
   },
   "outputs": [],
   "source": [
    "import dowhy.datasets\n",
    "import dowhy.api\n",
    "from dowhy.graph import build_graph_from_str\n",
    "\n",
    "import numpy as np\n",
    "import pandas as pd\n",
    "\n",
    "from statsmodels.api import OLS"
   ]
  },
  {
   "cell_type": "code",
   "execution_count": 2,
   "metadata": {
    "execution": {
     "iopub.execute_input": "2023-12-21T15:06:18.350373Z",
     "iopub.status.busy": "2023-12-21T15:06:18.350076Z",
     "iopub.status.idle": "2023-12-21T15:06:18.388081Z",
     "shell.execute_reply": "2023-12-21T15:06:18.387526Z"
    }
   },
   "outputs": [
    {
     "data": {
      "text/html": [
       "<div>\n",
       "<style scoped>\n",
       "    .dataframe tbody tr th:only-of-type {\n",
       "        vertical-align: middle;\n",
       "    }\n",
       "\n",
       "    .dataframe tbody tr th {\n",
       "        vertical-align: top;\n",
       "    }\n",
       "\n",
       "    .dataframe thead th {\n",
       "        text-align: right;\n",
       "    }\n",
       "</style>\n",
       "<table border=\"1\" class=\"dataframe\">\n",
       "  <thead>\n",
       "    <tr style=\"text-align: right;\">\n",
       "      <th></th>\n",
       "      <th>W0</th>\n",
       "      <th>v0</th>\n",
       "      <th>y</th>\n",
       "    </tr>\n",
       "  </thead>\n",
       "  <tbody>\n",
       "    <tr>\n",
       "      <th>0</th>\n",
       "      <td>-0.107838</td>\n",
       "      <td>True</td>\n",
       "      <td>6.173048</td>\n",
       "    </tr>\n",
       "    <tr>\n",
       "      <th>1</th>\n",
       "      <td>-1.242532</td>\n",
       "      <td>False</td>\n",
       "      <td>0.473366</td>\n",
       "    </tr>\n",
       "    <tr>\n",
       "      <th>2</th>\n",
       "      <td>-1.901565</td>\n",
       "      <td>False</td>\n",
       "      <td>-0.528143</td>\n",
       "    </tr>\n",
       "    <tr>\n",
       "      <th>3</th>\n",
       "      <td>0.136764</td>\n",
       "      <td>False</td>\n",
       "      <td>0.022212</td>\n",
       "    </tr>\n",
       "    <tr>\n",
       "      <th>4</th>\n",
       "      <td>-1.563430</td>\n",
       "      <td>False</td>\n",
       "      <td>1.719192</td>\n",
       "    </tr>\n",
       "    <tr>\n",
       "      <th>...</th>\n",
       "      <td>...</td>\n",
       "      <td>...</td>\n",
       "      <td>...</td>\n",
       "    </tr>\n",
       "    <tr>\n",
       "      <th>995</th>\n",
       "      <td>0.267111</td>\n",
       "      <td>True</td>\n",
       "      <td>5.469526</td>\n",
       "    </tr>\n",
       "    <tr>\n",
       "      <th>996</th>\n",
       "      <td>1.690103</td>\n",
       "      <td>True</td>\n",
       "      <td>4.306646</td>\n",
       "    </tr>\n",
       "    <tr>\n",
       "      <th>997</th>\n",
       "      <td>-0.053792</td>\n",
       "      <td>False</td>\n",
       "      <td>-0.471962</td>\n",
       "    </tr>\n",
       "    <tr>\n",
       "      <th>998</th>\n",
       "      <td>-0.645632</td>\n",
       "      <td>False</td>\n",
       "      <td>-0.325614</td>\n",
       "    </tr>\n",
       "    <tr>\n",
       "      <th>999</th>\n",
       "      <td>-2.526235</td>\n",
       "      <td>False</td>\n",
       "      <td>-0.300864</td>\n",
       "    </tr>\n",
       "  </tbody>\n",
       "</table>\n",
       "<p>1000 rows × 3 columns</p>\n",
       "</div>"
      ],
      "text/plain": [
       "           W0     v0         y\n",
       "0   -0.107838   True  6.173048\n",
       "1   -1.242532  False  0.473366\n",
       "2   -1.901565  False -0.528143\n",
       "3    0.136764  False  0.022212\n",
       "4   -1.563430  False  1.719192\n",
       "..        ...    ...       ...\n",
       "995  0.267111   True  5.469526\n",
       "996  1.690103   True  4.306646\n",
       "997 -0.053792  False -0.471962\n",
       "998 -0.645632  False -0.325614\n",
       "999 -2.526235  False -0.300864\n",
       "\n",
       "[1000 rows x 3 columns]"
      ]
     },
     "execution_count": 2,
     "metadata": {},
     "output_type": "execute_result"
    }
   ],
   "source": [
    "data = dowhy.datasets.linear_dataset(beta=5,\n",
    "        num_common_causes=1,\n",
    "        num_instruments = 0,\n",
    "        num_samples=1000,\n",
    "        treatment_is_binary=True)\n",
    "df = data['df']\n",
    "df['y'] = df['y'] + np.random.normal(size=len(df)) # Adding noise to data. Without noise, the variance in Y|X, Z is zero, and mcmc fails.\n",
    "nx_graph = build_graph_from_str(data[\"dot_graph\"])\n",
    "\n",
    "treatment= data[\"treatment_name\"][0]\n",
    "outcome = data[\"outcome_name\"][0]\n",
    "common_cause = data[\"common_causes_names\"][0]\n",
    "df"
   ]
  },
  {
   "cell_type": "code",
   "execution_count": 3,
   "metadata": {
    "execution": {
     "iopub.execute_input": "2023-12-21T15:06:18.390090Z",
     "iopub.status.busy": "2023-12-21T15:06:18.389912Z",
     "iopub.status.idle": "2023-12-21T15:06:18.569165Z",
     "shell.execute_reply": "2023-12-21T15:06:18.568631Z"
    },
    "scrolled": true
   },
   "outputs": [
    {
     "data": {
      "text/plain": [
       "<Axes: xlabel='v0'>"
      ]
     },
     "execution_count": 3,
     "metadata": {},
     "output_type": "execute_result"
    },
    {
     "data": {
      "image/png": "[encoded data removed]",
      "text/plain": [
       "<Figure size 640x480 with 1 Axes>"
      ]
     },
     "metadata": {},
     "output_type": "display_data"
    }
   ],
   "source": [
    "# data['df'] is just a regular pandas.DataFrame\n",
    "df.causal.do(x=treatment,\n",
    "             variable_types={treatment: 'b', outcome: 'c', common_cause: 'c'},\n",
    "             outcome=outcome,\n",
    "             common_causes=[common_cause],\n",
    "            ).groupby(treatment).mean().plot(y=outcome, kind='bar')"
   ]
  },
  {
   "cell_type": "code",
   "execution_count": 4,
   "metadata": {
    "execution": {
     "iopub.execute_input": "2023-12-21T15:06:18.571646Z",
     "iopub.status.busy": "2023-12-21T15:06:18.571203Z",
     "iopub.status.idle": "2023-12-21T15:06:18.702935Z",
     "shell.execute_reply": "2023-12-21T15:06:18.702315Z"
    }
   },
   "outputs": [
    {
     "data": {
      "text/plain": [
       "<Axes: xlabel='v0'>"
      ]
     },
     "execution_count": 4,
     "metadata": {},
     "output_type": "execute_result"
    },
    {
     "data": {
      "image/png": "[encoded data removed]",
      "text/plain": [
       "<Figure size 640x480 with 1 Axes>"
      ]
     },
     "metadata": {},
     "output_type": "display_data"
    }
   ],
   "source": [
    "df.causal.do(x={treatment: 1}, \n",
    "              variable_types={treatment:'b', outcome: 'c', common_cause: 'c'}, \n",
    "              outcome=outcome,\n",
    "              method='weighting', \n",
    "              common_causes=[common_cause]\n",
    "              ).groupby(treatment).mean().plot(y=outcome, kind='bar')"
   ]
  },
  {
   "cell_type": "code",
   "execution_count": 5,
   "metadata": {
    "execution": {
     "iopub.execute_input": "2023-12-21T15:06:18.705633Z",
     "iopub.status.busy": "2023-12-21T15:06:18.705268Z",
     "iopub.status.idle": "2023-12-21T15:06:18.724938Z",
     "shell.execute_reply": "2023-12-21T15:06:18.724467Z"
    }
   },
   "outputs": [],
   "source": [
    "cdf_1 = df.causal.do(x={treatment: 1}, \n",
    "              variable_types={treatment: 'b', outcome: 'c', common_cause: 'c'}, \n",
    "              outcome=outcome, \n",
    "              graph=nx_graph\n",
    "              )\n",
    "\n",
    "cdf_0 = df.causal.do(x={treatment: 0}, \n",
    "              variable_types={treatment: 'b', outcome: 'c', common_cause: 'c'}, \n",
    "              outcome=outcome, \n",
    "              graph=nx_graph\n",
    "              )\n"
   ]
  },
  {
   "cell_type": "code",
   "execution_count": 6,
   "metadata": {
    "execution": {
     "iopub.execute_input": "2023-12-21T15:06:18.727239Z",
     "iopub.status.busy": "2023-12-21T15:06:18.726819Z",
     "iopub.status.idle": "2023-12-21T15:06:18.735597Z",
     "shell.execute_reply": "2023-12-21T15:06:18.735104Z"
    },
    "scrolled": true
   },
   "outputs": [
    {
     "data": {
      "text/html": [
       "<div>\n",
       "<style scoped>\n",
       "    .dataframe tbody tr th:only-of-type {\n",
       "        vertical-align: middle;\n",
       "    }\n",
       "\n",
       "    .dataframe tbody tr th {\n",
       "        vertical-align: top;\n",
       "    }\n",
       "\n",
       "    .dataframe thead th {\n",
       "        text-align: right;\n",
       "    }\n",
       "</style>\n",
       "<table border=\"1\" class=\"dataframe\">\n",
       "  <thead>\n",
       "    <tr style=\"text-align: right;\">\n",
       "      <th></th>\n",
       "      <th>W0</th>\n",
       "      <th>v0</th>\n",
       "      <th>y</th>\n",
       "      <th>propensity_score</th>\n",
       "      <th>weight</th>\n",
       "    </tr>\n",
       "  </thead>\n",
       "  <tbody>\n",
       "    <tr>\n",
       "      <th>0</th>\n",
       "      <td>-1.210209</td>\n",
       "      <td>False</td>\n",
       "      <td>-0.688049</td>\n",
       "      <td>0.943599</td>\n",
       "      <td>1.059773</td>\n",
       "    </tr>\n",
       "    <tr>\n",
       "      <th>1</th>\n",
       "      <td>-0.660733</td>\n",
       "      <td>False</td>\n",
       "      <td>0.242797</td>\n",
       "      <td>0.824338</td>\n",
       "      <td>1.213095</td>\n",
       "    </tr>\n",
       "    <tr>\n",
       "      <th>2</th>\n",
       "      <td>-0.305779</td>\n",
       "      <td>False</td>\n",
       "      <td>1.141992</td>\n",
       "      <td>0.673673</td>\n",
       "      <td>1.484400</td>\n",
       "    </tr>\n",
       "    <tr>\n",
       "      <th>3</th>\n",
       "      <td>0.196347</td>\n",
       "      <td>False</td>\n",
       "      <td>-0.106913</td>\n",
       "      <td>0.392503</td>\n",
       "      <td>2.547753</td>\n",
       "    </tr>\n",
       "    <tr>\n",
       "      <th>4</th>\n",
       "      <td>-0.573210</td>\n",
       "      <td>False</td>\n",
       "      <td>-0.844551</td>\n",
       "      <td>0.793071</td>\n",
       "      <td>1.260922</td>\n",
       "    </tr>\n",
       "    <tr>\n",
       "      <th>...</th>\n",
       "      <td>...</td>\n",
       "      <td>...</td>\n",
       "      <td>...</td>\n",
       "      <td>...</td>\n",
       "      <td>...</td>\n",
       "    </tr>\n",
       "    <tr>\n",
       "      <th>995</th>\n",
       "      <td>-0.672303</td>\n",
       "      <td>False</td>\n",
       "      <td>0.324600</td>\n",
       "      <td>0.828180</td>\n",
       "      <td>1.207467</td>\n",
       "    </tr>\n",
       "    <tr>\n",
       "      <th>996</th>\n",
       "      <td>-0.305779</td>\n",
       "      <td>False</td>\n",
       "      <td>1.141992</td>\n",
       "      <td>0.673673</td>\n",
       "      <td>1.484400</td>\n",
       "    </tr>\n",
       "    <tr>\n",
       "      <th>997</th>\n",
       "      <td>0.651787</td>\n",
       "      <td>False</td>\n",
       "      <td>-0.123782</td>\n",
       "      <td>0.183855</td>\n",
       "      <td>5.439073</td>\n",
       "    </tr>\n",
       "    <tr>\n",
       "      <th>998</th>\n",
       "      <td>-2.146604</td>\n",
       "      <td>False</td>\n",
       "      <td>-0.049438</td>\n",
       "      <td>0.993197</td>\n",
       "      <td>1.006850</td>\n",
       "    </tr>\n",
       "    <tr>\n",
       "      <th>999</th>\n",
       "      <td>0.330834</td>\n",
       "      <td>False</td>\n",
       "      <td>-0.832110</td>\n",
       "      <td>0.321272</td>\n",
       "      <td>3.112629</td>\n",
       "    </tr>\n",
       "  </tbody>\n",
       "</table>\n",
       "<p>1000 rows × 5 columns</p>\n",
       "</div>"
      ],
      "text/plain": [
       "           W0     v0         y  propensity_score    weight\n",
       "0   -1.210209  False -0.688049          0.943599  1.059773\n",
       "1   -0.660733  False  0.242797          0.824338  1.213095\n",
       "2   -0.305779  False  1.141992          0.673673  1.484400\n",
       "3    0.196347  False -0.106913          0.392503  2.547753\n",
       "4   -0.573210  False -0.844551          0.793071  1.260922\n",
       "..        ...    ...       ...               ...       ...\n",
       "995 -0.672303  False  0.324600          0.828180  1.207467\n",
       "996 -0.305779  False  1.141992          0.673673  1.484400\n",
       "997  0.651787  False -0.123782          0.183855  5.439073\n",
       "998 -2.146604  False -0.049438          0.993197  1.006850\n",
       "999  0.330834  False -0.832110          0.321272  3.112629\n",
       "\n",
       "[1000 rows x 5 columns]"
      ]
     },
     "execution_count": 6,
     "metadata": {},
     "output_type": "execute_result"
    }
   ],
   "source": [
    "cdf_0"
   ]
  },
  {
   "cell_type": "code",
   "execution_count": 7,
   "metadata": {
    "execution": {
     "iopub.execute_input": "2023-12-21T15:06:18.737696Z",
     "iopub.status.busy": "2023-12-21T15:06:18.737335Z",
     "iopub.status.idle": "2023-12-21T15:06:18.745590Z",
     "shell.execute_reply": "2023-12-21T15:06:18.744992Z"
    }
   },
   "outputs": [
    {
     "data": {
      "text/html": [
       "<div>\n",
       "<style scoped>\n",
       "    .dataframe tbody tr th:only-of-type {\n",
       "        vertical-align: middle;\n",
       "    }\n",
       "\n",
       "    .dataframe tbody tr th {\n",
       "        vertical-align: top;\n",
       "    }\n",
       "\n",
       "    .dataframe thead th {\n",
       "        text-align: right;\n",
       "    }\n",
       "</style>\n",
       "<table border=\"1\" class=\"dataframe\">\n",
       "  <thead>\n",
       "    <tr style=\"text-align: right;\">\n",
       "      <th></th>\n",
       "      <th>W0</th>\n",
       "      <th>v0</th>\n",
       "      <th>y</th>\n",
       "      <th>propensity_score</th>\n",
       "      <th>weight</th>\n",
       "    </tr>\n",
       "  </thead>\n",
       "  <tbody>\n",
       "    <tr>\n",
       "      <th>0</th>\n",
       "      <td>-2.511349</td>\n",
       "      <td>True</td>\n",
       "      <td>5.163834</td>\n",
       "      <td>0.002937</td>\n",
       "      <td>340.455051</td>\n",
       "    </tr>\n",
       "    <tr>\n",
       "      <th>1</th>\n",
       "      <td>0.085507</td>\n",
       "      <td>True</td>\n",
       "      <td>6.098206</td>\n",
       "      <td>0.544973</td>\n",
       "      <td>1.834953</td>\n",
       "    </tr>\n",
       "    <tr>\n",
       "      <th>2</th>\n",
       "      <td>-2.511349</td>\n",
       "      <td>True</td>\n",
       "      <td>5.163834</td>\n",
       "      <td>0.002937</td>\n",
       "      <td>340.455051</td>\n",
       "    </tr>\n",
       "    <tr>\n",
       "      <th>3</th>\n",
       "      <td>0.436162</td>\n",
       "      <td>True</td>\n",
       "      <td>4.648986</td>\n",
       "      <td>0.729405</td>\n",
       "      <td>1.370980</td>\n",
       "    </tr>\n",
       "    <tr>\n",
       "      <th>4</th>\n",
       "      <td>0.699987</td>\n",
       "      <td>True</td>\n",
       "      <td>6.136382</td>\n",
       "      <td>0.832291</td>\n",
       "      <td>1.201502</td>\n",
       "    </tr>\n",
       "    <tr>\n",
       "      <th>...</th>\n",
       "      <td>...</td>\n",
       "      <td>...</td>\n",
       "      <td>...</td>\n",
       "      <td>...</td>\n",
       "      <td>...</td>\n",
       "    </tr>\n",
       "    <tr>\n",
       "      <th>995</th>\n",
       "      <td>-2.206249</td>\n",
       "      <td>True</td>\n",
       "      <td>4.769525</td>\n",
       "      <td>0.005932</td>\n",
       "      <td>168.587307</td>\n",
       "    </tr>\n",
       "    <tr>\n",
       "      <th>996</th>\n",
       "      <td>-2.511349</td>\n",
       "      <td>True</td>\n",
       "      <td>5.163834</td>\n",
       "      <td>0.002937</td>\n",
       "      <td>340.455051</td>\n",
       "    </tr>\n",
       "    <tr>\n",
       "      <th>997</th>\n",
       "      <td>-2.206249</td>\n",
       "      <td>True</td>\n",
       "      <td>4.769525</td>\n",
       "      <td>0.005932</td>\n",
       "      <td>168.587307</td>\n",
       "    </tr>\n",
       "    <tr>\n",
       "      <th>998</th>\n",
       "      <td>-2.511349</td>\n",
       "      <td>True</td>\n",
       "      <td>5.163834</td>\n",
       "      <td>0.002937</td>\n",
       "      <td>340.455051</td>\n",
       "    </tr>\n",
       "    <tr>\n",
       "      <th>999</th>\n",
       "      <td>-2.511349</td>\n",
       "      <td>True</td>\n",
       "      <td>5.163834</td>\n",
       "      <td>0.002937</td>\n",
       "      <td>340.455051</td>\n",
       "    </tr>\n",
       "  </tbody>\n",
       "</table>\n",
       "<p>1000 rows × 5 columns</p>\n",
       "</div>"
      ],
      "text/plain": [
       "           W0    v0         y  propensity_score      weight\n",
       "0   -2.511349  True  5.163834          0.002937  340.455051\n",
       "1    0.085507  True  6.098206          0.544973    1.834953\n",
       "2   -2.511349  True  5.163834          0.002937  340.455051\n",
       "3    0.436162  True  4.648986          0.729405    1.370980\n",
       "4    0.699987  True  6.136382          0.832291    1.201502\n",
       "..        ...   ...       ...               ...         ...\n",
       "995 -2.206249  True  4.769525          0.005932  168.587307\n",
       "996 -2.511349  True  5.163834          0.002937  340.455051\n",
       "997 -2.206249  True  4.769525          0.005932  168.587307\n",
       "998 -2.511349  True  5.163834          0.002937  340.455051\n",
       "999 -2.511349  True  5.163834          0.002937  340.455051\n",
       "\n",
       "[1000 rows x 5 columns]"
      ]
     },
     "execution_count": 7,
     "metadata": {},
     "output_type": "execute_result"
    }
   ],
   "source": [
    "cdf_1"
   ]
  },
  {
   "cell_type": "markdown",
   "metadata": {},
   "source": [
    "## Comparing the estimate to Linear Regression\n",
    "First, estimating the effect using the causal data frame, and the 95% confidence interval."
   ]
  },
  {
   "cell_type": "code",
   "execution_count": 8,
   "metadata": {
    "execution": {
     "iopub.execute_input": "2023-12-21T15:06:18.747695Z",
     "iopub.status.busy": "2023-12-21T15:06:18.747359Z",
     "iopub.status.idle": "2023-12-21T15:06:18.880020Z",
     "shell.execute_reply": "2023-12-21T15:06:18.879364Z"
    }
   },
   "outputs": [
    {
     "data": {
      "image/png": "[encoded data removed]",
      "text/latex": [
       "$\\displaystyle 5.17578489910628$"
      ],
      "text/plain": [
       "5.17578489910628"
      ]
     },
     "execution_count": 8,
     "metadata": {},
     "output_type": "execute_result"
    }
   ],
   "source": [
    "(cdf_1['y'] - cdf_0['y']).mean()"
   ]
  },
  {
   "cell_type": "code",
   "execution_count": 9,
   "metadata": {
    "execution": {
     "iopub.execute_input": "2023-12-21T15:06:18.882327Z",
     "iopub.status.busy": "2023-12-21T15:06:18.882013Z",
     "iopub.status.idle": "2023-12-21T15:06:18.899185Z",
     "shell.execute_reply": "2023-12-21T15:06:18.898621Z"
    }
   },
   "outputs": [
    {
     "data": {
      "image/png": "[encoded data removed]",
      "text/latex": [
       "$\\displaystyle 0.0770267192805078$"
      ],
      "text/plain": [
       "0.0770267192805078"
      ]
     },
     "execution_count": 9,
     "metadata": {},
     "output_type": "execute_result"
    }
   ],
   "source": [
    "1.96*(cdf_1['y'] - cdf_0['y']).std() / np.sqrt(len(df))"
   ]
  },
  {
   "cell_type": "markdown",
   "metadata": {},
   "source": [
    "Comparing to the estimate from OLS."
   ]
  },
  {
   "cell_type": "code",
   "execution_count": 10,
   "metadata": {
    "execution": {
     "iopub.execute_input": "2023-12-21T15:06:18.901564Z",
     "iopub.status.busy": "2023-12-21T15:06:18.901106Z",
     "iopub.status.idle": "2023-12-21T15:06:18.917165Z",
     "shell.execute_reply": "2023-12-21T15:06:18.916604Z"
    }
   },
   "outputs": [
    {
     "data": {
      "text/html": [
       "<table class=\"simpletable\">\n",
       "<caption>OLS Regression Results</caption>\n",
       "<tr>\n",
       "  <th>Dep. Variable:</th>            <td>y</td>        <th>  R-squared (uncentered):</th>      <td>   0.888</td>\n",
       "</tr>\n",
       "<tr>\n",
       "  <th>Model:</th>                   <td>OLS</td>       <th>  Adj. R-squared (uncentered):</th> <td>   0.888</td>\n",
       "</tr>\n",
       "<tr>\n",
       "  <th>Method:</th>             <td>Least Squares</td>  <th>  F-statistic:       </th>          <td>   3975.</td>\n",
       "</tr>\n",
       "<tr>\n",
       "  <th>Date:</th>             <td>Thu, 21 Dec 2023</td> <th>  Prob (F-statistic):</th>           <td>  0.00</td> \n",
       "</tr>\n",
       "<tr>\n",
       "  <th>Time:</th>                 <td>15:06:18</td>     <th>  Log-Likelihood:    </th>          <td> -1398.7</td>\n",
       "</tr>\n",
       "<tr>\n",
       "  <th>No. Observations:</th>      <td>  1000</td>      <th>  AIC:               </th>          <td>   2801.</td>\n",
       "</tr>\n",
       "<tr>\n",
       "  <th>Df Residuals:</th>          <td>   998</td>      <th>  BIC:               </th>          <td>   2811.</td>\n",
       "</tr>\n",
       "<tr>\n",
       "  <th>Df Model:</th>              <td>     2</td>      <th>                     </th>              <td> </td>   \n",
       "</tr>\n",
       "<tr>\n",
       "  <th>Covariance Type:</th>      <td>nonrobust</td>    <th>                     </th>              <td> </td>   \n",
       "</tr>\n",
       "</table>\n",
       "<table class=\"simpletable\">\n",
       "<tr>\n",
       "   <td></td>     <th>coef</th>     <th>std err</th>      <th>t</th>      <th>P>|t|</th>  <th>[0.025</th>    <th>0.975]</th>  \n",
       "</tr>\n",
       "<tr>\n",
       "  <th>x1</th> <td>    0.1228</td> <td>    0.026</td> <td>    4.651</td> <td> 0.000</td> <td>    0.071</td> <td>    0.175</td>\n",
       "</tr>\n",
       "<tr>\n",
       "  <th>x2</th> <td>    5.0332</td> <td>    0.057</td> <td>   87.670</td> <td> 0.000</td> <td>    4.921</td> <td>    5.146</td>\n",
       "</tr>\n",
       "</table>\n",
       "<table class=\"simpletable\">\n",
       "<tr>\n",
       "  <th>Omnibus:</th>       <td> 0.212</td> <th>  Durbin-Watson:     </th> <td>   2.011</td>\n",
       "</tr>\n",
       "<tr>\n",
       "  <th>Prob(Omnibus):</th> <td> 0.900</td> <th>  Jarque-Bera (JB):  </th> <td>   0.270</td>\n",
       "</tr>\n",
       "<tr>\n",
       "  <th>Skew:</th>          <td> 0.030</td> <th>  Prob(JB):          </th> <td>   0.874</td>\n",
       "</tr>\n",
       "<tr>\n",
       "  <th>Kurtosis:</th>      <td> 2.946</td> <th>  Cond. No.          </th> <td>    2.20</td>\n",
       "</tr>\n",
       "</table><br/><br/>Notes:<br/>[1] R² is computed without centering (uncentered) since the model does not contain a constant.<br/>[2] Standard Errors assume that the covariance matrix of the errors is correctly specified."
      ],
      "text/latex": [
       "\\begin{center}\n",
       "\\begin{tabular}{lclc}\n",
       "\\toprule\n",
       "\\textbf{Dep. Variable:}    &        y         & \\textbf{  R-squared (uncentered):}      &     0.888   \\\\\n",
       "\\textbf{Model:}            &       OLS        & \\textbf{  Adj. R-squared (uncentered):} &     0.888   \\\\\n",
       "\\textbf{Method:}           &  Least Squares   & \\textbf{  F-statistic:       }          &     3975.   \\\\\n",
       "\\textbf{Date:}             & Thu, 21 Dec 2023 & \\textbf{  Prob (F-statistic):}          &     0.00    \\\\\n",
       "\\textbf{Time:}             &     15:06:18     & \\textbf{  Log-Likelihood:    }          &   -1398.7   \\\\\n",
       "\\textbf{No. Observations:} &        1000      & \\textbf{  AIC:               }          &     2801.   \\\\\n",
       "\\textbf{Df Residuals:}     &         998      & \\textbf{  BIC:               }          &     2811.   \\\\\n",
       "\\textbf{Df Model:}         &           2      & \\textbf{                     }          &             \\\\\n",
       "\\textbf{Covariance Type:}  &    nonrobust     & \\textbf{                     }          &             \\\\\n",
       "\\bottomrule\n",
       "\\end{tabular}\n",
       "\\begin{tabular}{lcccccc}\n",
       "            & \\textbf{coef} & \\textbf{std err} & \\textbf{t} & \\textbf{P$> |$t$|$} & \\textbf{[0.025} & \\textbf{0.975]}  \\\\\n",
       "\\midrule\n",
       "\\textbf{x1} &       0.1228  &        0.026     &     4.651  &         0.000        &        0.071    &        0.175     \\\\\n",
       "\\textbf{x2} &       5.0332  &        0.057     &    87.670  &         0.000        &        4.921    &        5.146     \\\\\n",
       "\\bottomrule\n",
       "\\end{tabular}\n",
       "\\begin{tabular}{lclc}\n",
       "\\textbf{Omnibus:}       &  0.212 & \\textbf{  Durbin-Watson:     } &    2.011  \\\\\n",
       "\\textbf{Prob(Omnibus):} &  0.900 & \\textbf{  Jarque-Bera (JB):  } &    0.270  \\\\\n",
       "\\textbf{Skew:}          &  0.030 & \\textbf{  Prob(JB):          } &    0.874  \\\\\n",
       "\\textbf{Kurtosis:}      &  2.946 & \\textbf{  Cond. No.          } &     2.20  \\\\\n",
       "\\bottomrule\n",
       "\\end{tabular}\n",
       "%\\caption{OLS Regression Results}\n",
       "\\end{center}\n",
       "\n",
       "Notes: \\newline\n",
       " [1] R² is computed without centering (uncentered) since the model does not contain a constant. \\newline\n",
       " [2] Standard Errors assume that the covariance matrix of the errors is correctly specified."
      ],
      "text/plain": [
       "<class 'statsmodels.iolib.summary.Summary'>\n",
       "\"\"\"\n",
       "                                 OLS Regression Results                                \n",
       "=======================================================================================\n",
       "Dep. Variable:                      y   R-squared (uncentered):                   0.888\n",
       "Model:                            OLS   Adj. R-squared (uncentered):              0.888\n",
       "Method:                 Least Squares   F-statistic:                              3975.\n",
       "Date:                Thu, 21 Dec 2023   Prob (F-statistic):                        0.00\n",
       "Time:                        15:06:18   Log-Likelihood:                         -1398.7\n",
       "No. Observations:                1000   AIC:                                      2801.\n",
       "Df Residuals:                     998   BIC:                                      2811.\n",
       "Df Model:                           2                                                  \n",
       "Covariance Type:            nonrobust                                                  \n",
       "==============================================================================\n",
       "                 coef    std err          t      P>|t|      [0.025      0.975]\n",
       "------------------------------------------------------------------------------\n",
       "x1             0.1228      0.026      4.651      0.000       0.071       0.175\n",
       "x2             5.0332      0.057     87.670      0.000       4.921       5.146\n",
       "==============================================================================\n",
       "Omnibus:                        0.212   Durbin-Watson:                   2.011\n",
       "Prob(Omnibus):                  0.900   Jarque-Bera (JB):                0.270\n",
       "Skew:                           0.030   Prob(JB):                        0.874\n",
       "Kurtosis:                       2.946   Cond. No.                         2.20\n",
       "==============================================================================\n",
       "\n",
       "Notes:\n",
       "[1] R² is computed without centering (uncentered) since the model does not contain a constant.\n",
       "[2] Standard Errors assume that the covariance matrix of the errors is correctly specified.\n",
       "\"\"\""
      ]
     },
     "execution_count": 10,
     "metadata": {},
     "output_type": "execute_result"
    }
   ],
   "source": [
    "model = OLS(np.asarray(df[outcome]), np.asarray(df[[common_cause, treatment]], dtype=np.float64))\n",
    "result = model.fit()\n",
    "result.summary()"
   ]
  }
 ],
 "metadata": {
  "kernelspec": {
   "display_name": "Python 3 (ipykernel)",
   "language": "python",
   "name": "python3"
  },
  "language_info": {
   "codemirror_mode": {
    "name": "ipython",
    "version": 3
   },
   "file_extension": ".py",
   "mimetype": "text/x-python",
   "name": "python",
   "nbconvert_exporter": "python",
   "pygments_lexer": "ipython3",
   "version": "3.8.10"
  },
  "toc": {
   "base_numbering": 1,
   "nav_menu": {},
   "number_sections": false,
   "sideBar": true,
   "skip_h1_title": true,
   "title_cell": "Table of Contents",
   "title_sidebar": "Contents",
   "toc_cell": false,
   "toc_position": {},
   "toc_section_display": true,
   "toc_window_display": false
  }
 },
 "nbformat": 4,
 "nbformat_minor": 4
}
