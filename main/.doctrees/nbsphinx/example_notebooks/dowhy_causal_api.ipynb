{
 "cells": [
  {
   "cell_type": "markdown",
   "metadata": {},
   "source": [
    "# Demo for the DoWhy causal API\n",
    "We show a simple example of adding a causal extension to any dataframe. "
   ]
  },
  {
   "cell_type": "code",
   "execution_count": 1,
   "metadata": {
    "execution": {
     "iopub.execute_input": "2023-12-03T07:24:23.543518Z",
     "iopub.status.busy": "2023-12-03T07:24:23.543008Z",
     "iopub.status.idle": "2023-12-03T07:24:24.927011Z",
     "shell.execute_reply": "2023-12-03T07:24:24.926393Z"
    }
   },
   "outputs": [],
   "source": [
    "import dowhy.datasets\n",
    "import dowhy.api\n",
    "from dowhy.graph import build_graph_from_str\n",
    "\n",
    "import numpy as np\n",
    "import pandas as pd\n",
    "\n",
    "from statsmodels.api import OLS"
   ]
  },
  {
   "cell_type": "code",
   "execution_count": 2,
   "metadata": {
    "execution": {
     "iopub.execute_input": "2023-12-03T07:24:24.929941Z",
     "iopub.status.busy": "2023-12-03T07:24:24.929418Z",
     "iopub.status.idle": "2023-12-03T07:24:24.965727Z",
     "shell.execute_reply": "2023-12-03T07:24:24.965217Z"
    }
   },
   "outputs": [
    {
     "data": {
      "text/html": [
       "<div>\n",
       "<style scoped>\n",
       "    .dataframe tbody tr th:only-of-type {\n",
       "        vertical-align: middle;\n",
       "    }\n",
       "\n",
       "    .dataframe tbody tr th {\n",
       "        vertical-align: top;\n",
       "    }\n",
       "\n",
       "    .dataframe thead th {\n",
       "        text-align: right;\n",
       "    }\n",
       "</style>\n",
       "<table border=\"1\" class=\"dataframe\">\n",
       "  <thead>\n",
       "    <tr style=\"text-align: right;\">\n",
       "      <th></th>\n",
       "      <th>W0</th>\n",
       "      <th>v0</th>\n",
       "      <th>y</th>\n",
       "    </tr>\n",
       "  </thead>\n",
       "  <tbody>\n",
       "    <tr>\n",
       "      <th>0</th>\n",
       "      <td>-0.106319</td>\n",
       "      <td>True</td>\n",
       "      <td>5.675343</td>\n",
       "    </tr>\n",
       "    <tr>\n",
       "      <th>1</th>\n",
       "      <td>0.359100</td>\n",
       "      <td>False</td>\n",
       "      <td>0.987123</td>\n",
       "    </tr>\n",
       "    <tr>\n",
       "      <th>2</th>\n",
       "      <td>-0.124612</td>\n",
       "      <td>False</td>\n",
       "      <td>-1.519267</td>\n",
       "    </tr>\n",
       "    <tr>\n",
       "      <th>3</th>\n",
       "      <td>1.447542</td>\n",
       "      <td>True</td>\n",
       "      <td>8.749332</td>\n",
       "    </tr>\n",
       "    <tr>\n",
       "      <th>4</th>\n",
       "      <td>1.385710</td>\n",
       "      <td>False</td>\n",
       "      <td>2.580976</td>\n",
       "    </tr>\n",
       "    <tr>\n",
       "      <th>...</th>\n",
       "      <td>...</td>\n",
       "      <td>...</td>\n",
       "      <td>...</td>\n",
       "    </tr>\n",
       "    <tr>\n",
       "      <th>995</th>\n",
       "      <td>0.354799</td>\n",
       "      <td>False</td>\n",
       "      <td>1.182566</td>\n",
       "    </tr>\n",
       "    <tr>\n",
       "      <th>996</th>\n",
       "      <td>0.146796</td>\n",
       "      <td>False</td>\n",
       "      <td>-0.469998</td>\n",
       "    </tr>\n",
       "    <tr>\n",
       "      <th>997</th>\n",
       "      <td>2.438290</td>\n",
       "      <td>True</td>\n",
       "      <td>10.491947</td>\n",
       "    </tr>\n",
       "    <tr>\n",
       "      <th>998</th>\n",
       "      <td>-0.603578</td>\n",
       "      <td>True</td>\n",
       "      <td>3.547517</td>\n",
       "    </tr>\n",
       "    <tr>\n",
       "      <th>999</th>\n",
       "      <td>-0.087041</td>\n",
       "      <td>False</td>\n",
       "      <td>-0.299152</td>\n",
       "    </tr>\n",
       "  </tbody>\n",
       "</table>\n",
       "<p>1000 rows × 3 columns</p>\n",
       "</div>"
      ],
      "text/plain": [
       "           W0     v0          y\n",
       "0   -0.106319   True   5.675343\n",
       "1    0.359100  False   0.987123\n",
       "2   -0.124612  False  -1.519267\n",
       "3    1.447542   True   8.749332\n",
       "4    1.385710  False   2.580976\n",
       "..        ...    ...        ...\n",
       "995  0.354799  False   1.182566\n",
       "996  0.146796  False  -0.469998\n",
       "997  2.438290   True  10.491947\n",
       "998 -0.603578   True   3.547517\n",
       "999 -0.087041  False  -0.299152\n",
       "\n",
       "[1000 rows x 3 columns]"
      ]
     },
     "execution_count": 2,
     "metadata": {},
     "output_type": "execute_result"
    }
   ],
   "source": [
    "data = dowhy.datasets.linear_dataset(beta=5,\n",
    "        num_common_causes=1,\n",
    "        num_instruments = 0,\n",
    "        num_samples=1000,\n",
    "        treatment_is_binary=True)\n",
    "df = data['df']\n",
    "df['y'] = df['y'] + np.random.normal(size=len(df)) # Adding noise to data. Without noise, the variance in Y|X, Z is zero, and mcmc fails.\n",
    "nx_graph = build_graph_from_str(data[\"dot_graph\"])\n",
    "\n",
    "treatment= data[\"treatment_name\"][0]\n",
    "outcome = data[\"outcome_name\"][0]\n",
    "common_cause = data[\"common_causes_names\"][0]\n",
    "df"
   ]
  },
  {
   "cell_type": "code",
   "execution_count": 3,
   "metadata": {
    "execution": {
     "iopub.execute_input": "2023-12-03T07:24:24.968123Z",
     "iopub.status.busy": "2023-12-03T07:24:24.967789Z",
     "iopub.status.idle": "2023-12-03T07:24:25.145246Z",
     "shell.execute_reply": "2023-12-03T07:24:25.144629Z"
    },
    "scrolled": true
   },
   "outputs": [
    {
     "data": {
      "text/plain": [
       "<Axes: xlabel='v0'>"
      ]
     },
     "execution_count": 3,
     "metadata": {},
     "output_type": "execute_result"
    },
    {
     "data": {
      "image/png": "[encoded data removed]",
      "text/plain": [
       "<Figure size 640x480 with 1 Axes>"
      ]
     },
     "metadata": {},
     "output_type": "display_data"
    }
   ],
   "source": [
    "# data['df'] is just a regular pandas.DataFrame\n",
    "df.causal.do(x=treatment,\n",
    "             variable_types={treatment: 'b', outcome: 'c', common_cause: 'c'},\n",
    "             outcome=outcome,\n",
    "             common_causes=[common_cause],\n",
    "            ).groupby(treatment).mean().plot(y=outcome, kind='bar')"
   ]
  },
  {
   "cell_type": "code",
   "execution_count": 4,
   "metadata": {
    "execution": {
     "iopub.execute_input": "2023-12-03T07:24:25.147710Z",
     "iopub.status.busy": "2023-12-03T07:24:25.147343Z",
     "iopub.status.idle": "2023-12-03T07:24:25.278446Z",
     "shell.execute_reply": "2023-12-03T07:24:25.277770Z"
    }
   },
   "outputs": [
    {
     "data": {
      "text/plain": [
       "<Axes: xlabel='v0'>"
      ]
     },
     "execution_count": 4,
     "metadata": {},
     "output_type": "execute_result"
    },
    {
     "data": {
      "image/png": "[encoded data removed]",
      "text/plain": [
       "<Figure size 640x480 with 1 Axes>"
      ]
     },
     "metadata": {},
     "output_type": "display_data"
    }
   ],
   "source": [
    "df.causal.do(x={treatment: 1}, \n",
    "              variable_types={treatment:'b', outcome: 'c', common_cause: 'c'}, \n",
    "              outcome=outcome,\n",
    "              method='weighting', \n",
    "              common_causes=[common_cause]\n",
    "              ).groupby(treatment).mean().plot(y=outcome, kind='bar')"
   ]
  },
  {
   "cell_type": "code",
   "execution_count": 5,
   "metadata": {
    "execution": {
     "iopub.execute_input": "2023-12-03T07:24:25.281566Z",
     "iopub.status.busy": "2023-12-03T07:24:25.281343Z",
     "iopub.status.idle": "2023-12-03T07:24:25.304546Z",
     "shell.execute_reply": "2023-12-03T07:24:25.304013Z"
    }
   },
   "outputs": [],
   "source": [
    "cdf_1 = df.causal.do(x={treatment: 1}, \n",
    "              variable_types={treatment: 'b', outcome: 'c', common_cause: 'c'}, \n",
    "              outcome=outcome, \n",
    "              graph=nx_graph\n",
    "              )\n",
    "\n",
    "cdf_0 = df.causal.do(x={treatment: 0}, \n",
    "              variable_types={treatment: 'b', outcome: 'c', common_cause: 'c'}, \n",
    "              outcome=outcome, \n",
    "              graph=nx_graph\n",
    "              )\n"
   ]
  },
  {
   "cell_type": "code",
   "execution_count": 6,
   "metadata": {
    "execution": {
     "iopub.execute_input": "2023-12-03T07:24:25.307125Z",
     "iopub.status.busy": "2023-12-03T07:24:25.306771Z",
     "iopub.status.idle": "2023-12-03T07:24:25.315593Z",
     "shell.execute_reply": "2023-12-03T07:24:25.315014Z"
    },
    "scrolled": true
   },
   "outputs": [
    {
     "data": {
      "text/html": [
       "<div>\n",
       "<style scoped>\n",
       "    .dataframe tbody tr th:only-of-type {\n",
       "        vertical-align: middle;\n",
       "    }\n",
       "\n",
       "    .dataframe tbody tr th {\n",
       "        vertical-align: top;\n",
       "    }\n",
       "\n",
       "    .dataframe thead th {\n",
       "        text-align: right;\n",
       "    }\n",
       "</style>\n",
       "<table border=\"1\" class=\"dataframe\">\n",
       "  <thead>\n",
       "    <tr style=\"text-align: right;\">\n",
       "      <th></th>\n",
       "      <th>W0</th>\n",
       "      <th>v0</th>\n",
       "      <th>y</th>\n",
       "      <th>propensity_score</th>\n",
       "      <th>weight</th>\n",
       "    </tr>\n",
       "  </thead>\n",
       "  <tbody>\n",
       "    <tr>\n",
       "      <th>0</th>\n",
       "      <td>-1.534422</td>\n",
       "      <td>False</td>\n",
       "      <td>-3.108471</td>\n",
       "      <td>0.610739</td>\n",
       "      <td>1.637361</td>\n",
       "    </tr>\n",
       "    <tr>\n",
       "      <th>1</th>\n",
       "      <td>-1.117955</td>\n",
       "      <td>False</td>\n",
       "      <td>-2.914213</td>\n",
       "      <td>0.579816</td>\n",
       "      <td>1.724686</td>\n",
       "    </tr>\n",
       "    <tr>\n",
       "      <th>2</th>\n",
       "      <td>-0.356266</td>\n",
       "      <td>False</td>\n",
       "      <td>1.329371</td>\n",
       "      <td>0.521781</td>\n",
       "      <td>1.916513</td>\n",
       "    </tr>\n",
       "    <tr>\n",
       "      <th>3</th>\n",
       "      <td>2.147615</td>\n",
       "      <td>False</td>\n",
       "      <td>5.660720</td>\n",
       "      <td>0.335191</td>\n",
       "      <td>2.983373</td>\n",
       "    </tr>\n",
       "    <tr>\n",
       "      <th>4</th>\n",
       "      <td>-0.353381</td>\n",
       "      <td>False</td>\n",
       "      <td>-1.767459</td>\n",
       "      <td>0.521559</td>\n",
       "      <td>1.917329</td>\n",
       "    </tr>\n",
       "    <tr>\n",
       "      <th>...</th>\n",
       "      <td>...</td>\n",
       "      <td>...</td>\n",
       "      <td>...</td>\n",
       "      <td>...</td>\n",
       "      <td>...</td>\n",
       "    </tr>\n",
       "    <tr>\n",
       "      <th>995</th>\n",
       "      <td>-0.041405</td>\n",
       "      <td>False</td>\n",
       "      <td>-0.177609</td>\n",
       "      <td>0.497526</td>\n",
       "      <td>2.009946</td>\n",
       "    </tr>\n",
       "    <tr>\n",
       "      <th>996</th>\n",
       "      <td>0.614818</td>\n",
       "      <td>False</td>\n",
       "      <td>1.785888</td>\n",
       "      <td>0.447144</td>\n",
       "      <td>2.236418</td>\n",
       "    </tr>\n",
       "    <tr>\n",
       "      <th>997</th>\n",
       "      <td>-0.602715</td>\n",
       "      <td>False</td>\n",
       "      <td>-0.948071</td>\n",
       "      <td>0.540700</td>\n",
       "      <td>1.849453</td>\n",
       "    </tr>\n",
       "    <tr>\n",
       "      <th>998</th>\n",
       "      <td>0.094280</td>\n",
       "      <td>False</td>\n",
       "      <td>-0.696038</td>\n",
       "      <td>0.487070</td>\n",
       "      <td>2.053091</td>\n",
       "    </tr>\n",
       "    <tr>\n",
       "      <th>999</th>\n",
       "      <td>-0.606241</td>\n",
       "      <td>False</td>\n",
       "      <td>-1.121560</td>\n",
       "      <td>0.540970</td>\n",
       "      <td>1.848530</td>\n",
       "    </tr>\n",
       "  </tbody>\n",
       "</table>\n",
       "<p>1000 rows × 5 columns</p>\n",
       "</div>"
      ],
      "text/plain": [
       "           W0     v0         y  propensity_score    weight\n",
       "0   -1.534422  False -3.108471          0.610739  1.637361\n",
       "1   -1.117955  False -2.914213          0.579816  1.724686\n",
       "2   -0.356266  False  1.329371          0.521781  1.916513\n",
       "3    2.147615  False  5.660720          0.335191  2.983373\n",
       "4   -0.353381  False -1.767459          0.521559  1.917329\n",
       "..        ...    ...       ...               ...       ...\n",
       "995 -0.041405  False -0.177609          0.497526  2.009946\n",
       "996  0.614818  False  1.785888          0.447144  2.236418\n",
       "997 -0.602715  False -0.948071          0.540700  1.849453\n",
       "998  0.094280  False -0.696038          0.487070  2.053091\n",
       "999 -0.606241  False -1.121560          0.540970  1.848530\n",
       "\n",
       "[1000 rows x 5 columns]"
      ]
     },
     "execution_count": 6,
     "metadata": {},
     "output_type": "execute_result"
    }
   ],
   "source": [
    "cdf_0"
   ]
  },
  {
   "cell_type": "code",
   "execution_count": 7,
   "metadata": {
    "execution": {
     "iopub.execute_input": "2023-12-03T07:24:25.317843Z",
     "iopub.status.busy": "2023-12-03T07:24:25.317501Z",
     "iopub.status.idle": "2023-12-03T07:24:25.325755Z",
     "shell.execute_reply": "2023-12-03T07:24:25.325209Z"
    }
   },
   "outputs": [
    {
     "data": {
      "text/html": [
       "<div>\n",
       "<style scoped>\n",
       "    .dataframe tbody tr th:only-of-type {\n",
       "        vertical-align: middle;\n",
       "    }\n",
       "\n",
       "    .dataframe tbody tr th {\n",
       "        vertical-align: top;\n",
       "    }\n",
       "\n",
       "    .dataframe thead th {\n",
       "        text-align: right;\n",
       "    }\n",
       "</style>\n",
       "<table border=\"1\" class=\"dataframe\">\n",
       "  <thead>\n",
       "    <tr style=\"text-align: right;\">\n",
       "      <th></th>\n",
       "      <th>W0</th>\n",
       "      <th>v0</th>\n",
       "      <th>y</th>\n",
       "      <th>propensity_score</th>\n",
       "      <th>weight</th>\n",
       "    </tr>\n",
       "  </thead>\n",
       "  <tbody>\n",
       "    <tr>\n",
       "      <th>0</th>\n",
       "      <td>1.717895</td>\n",
       "      <td>True</td>\n",
       "      <td>9.074209</td>\n",
       "      <td>0.634672</td>\n",
       "      <td>1.575618</td>\n",
       "    </tr>\n",
       "    <tr>\n",
       "      <th>1</th>\n",
       "      <td>-0.711732</td>\n",
       "      <td>True</td>\n",
       "      <td>2.818028</td>\n",
       "      <td>0.450965</td>\n",
       "      <td>2.217468</td>\n",
       "    </tr>\n",
       "    <tr>\n",
       "      <th>2</th>\n",
       "      <td>1.355248</td>\n",
       "      <td>True</td>\n",
       "      <td>6.668879</td>\n",
       "      <td>0.608379</td>\n",
       "      <td>1.643713</td>\n",
       "    </tr>\n",
       "    <tr>\n",
       "      <th>3</th>\n",
       "      <td>1.023566</td>\n",
       "      <td>True</td>\n",
       "      <td>8.584745</td>\n",
       "      <td>0.583763</td>\n",
       "      <td>1.713024</td>\n",
       "    </tr>\n",
       "    <tr>\n",
       "      <th>4</th>\n",
       "      <td>-2.001660</td>\n",
       "      <td>True</td>\n",
       "      <td>0.550912</td>\n",
       "      <td>0.355609</td>\n",
       "      <td>2.812079</td>\n",
       "    </tr>\n",
       "    <tr>\n",
       "      <th>...</th>\n",
       "      <td>...</td>\n",
       "      <td>...</td>\n",
       "      <td>...</td>\n",
       "      <td>...</td>\n",
       "      <td>...</td>\n",
       "    </tr>\n",
       "    <tr>\n",
       "      <th>995</th>\n",
       "      <td>-1.207070</td>\n",
       "      <td>True</td>\n",
       "      <td>3.052582</td>\n",
       "      <td>0.413505</td>\n",
       "      <td>2.418348</td>\n",
       "    </tr>\n",
       "    <tr>\n",
       "      <th>996</th>\n",
       "      <td>0.396034</td>\n",
       "      <td>True</td>\n",
       "      <td>6.520597</td>\n",
       "      <td>0.536128</td>\n",
       "      <td>1.865226</td>\n",
       "    </tr>\n",
       "    <tr>\n",
       "      <th>997</th>\n",
       "      <td>1.058598</td>\n",
       "      <td>True</td>\n",
       "      <td>7.818169</td>\n",
       "      <td>0.586385</td>\n",
       "      <td>1.705364</td>\n",
       "    </tr>\n",
       "    <tr>\n",
       "      <th>998</th>\n",
       "      <td>1.101061</td>\n",
       "      <td>True</td>\n",
       "      <td>7.144221</td>\n",
       "      <td>0.589557</td>\n",
       "      <td>1.696190</td>\n",
       "    </tr>\n",
       "    <tr>\n",
       "      <th>999</th>\n",
       "      <td>0.174463</td>\n",
       "      <td>True</td>\n",
       "      <td>5.321541</td>\n",
       "      <td>0.519104</td>\n",
       "      <td>1.926398</td>\n",
       "    </tr>\n",
       "  </tbody>\n",
       "</table>\n",
       "<p>1000 rows × 5 columns</p>\n",
       "</div>"
      ],
      "text/plain": [
       "           W0    v0         y  propensity_score    weight\n",
       "0    1.717895  True  9.074209          0.634672  1.575618\n",
       "1   -0.711732  True  2.818028          0.450965  2.217468\n",
       "2    1.355248  True  6.668879          0.608379  1.643713\n",
       "3    1.023566  True  8.584745          0.583763  1.713024\n",
       "4   -2.001660  True  0.550912          0.355609  2.812079\n",
       "..        ...   ...       ...               ...       ...\n",
       "995 -1.207070  True  3.052582          0.413505  2.418348\n",
       "996  0.396034  True  6.520597          0.536128  1.865226\n",
       "997  1.058598  True  7.818169          0.586385  1.705364\n",
       "998  1.101061  True  7.144221          0.589557  1.696190\n",
       "999  0.174463  True  5.321541          0.519104  1.926398\n",
       "\n",
       "[1000 rows x 5 columns]"
      ]
     },
     "execution_count": 7,
     "metadata": {},
     "output_type": "execute_result"
    }
   ],
   "source": [
    "cdf_1"
   ]
  },
  {
   "cell_type": "markdown",
   "metadata": {},
   "source": [
    "## Comparing the estimate to Linear Regression\n",
    "First, estimating the effect using the causal data frame, and the 95% confidence interval."
   ]
  },
  {
   "cell_type": "code",
   "execution_count": 8,
   "metadata": {
    "execution": {
     "iopub.execute_input": "2023-12-03T07:24:25.328079Z",
     "iopub.status.busy": "2023-12-03T07:24:25.327738Z",
     "iopub.status.idle": "2023-12-03T07:24:25.374525Z",
     "shell.execute_reply": "2023-12-03T07:24:25.374000Z"
    }
   },
   "outputs": [
    {
     "data": {
      "image/png": "[encoded data removed]",
      "text/latex": [
       "$\\displaystyle 4.94044706441718$"
      ],
      "text/plain": [
       "4.940447064417182"
      ]
     },
     "execution_count": 8,
     "metadata": {},
     "output_type": "execute_result"
    }
   ],
   "source": [
    "(cdf_1['y'] - cdf_0['y']).mean()"
   ]
  },
  {
   "cell_type": "code",
   "execution_count": 9,
   "metadata": {
    "execution": {
     "iopub.execute_input": "2023-12-03T07:24:25.376837Z",
     "iopub.status.busy": "2023-12-03T07:24:25.376480Z",
     "iopub.status.idle": "2023-12-03T07:24:25.393057Z",
     "shell.execute_reply": "2023-12-03T07:24:25.392581Z"
    }
   },
   "outputs": [
    {
     "data": {
      "image/png": "[encoded data removed]",
      "text/latex": [
       "$\\displaystyle 0.205674927644636$"
      ],
      "text/plain": [
       "0.20567492764463643"
      ]
     },
     "execution_count": 9,
     "metadata": {},
     "output_type": "execute_result"
    }
   ],
   "source": [
    "1.96*(cdf_1['y'] - cdf_0['y']).std() / np.sqrt(len(df))"
   ]
  },
  {
   "cell_type": "markdown",
   "metadata": {},
   "source": [
    "Comparing to the estimate from OLS."
   ]
  },
  {
   "cell_type": "code",
   "execution_count": 10,
   "metadata": {
    "execution": {
     "iopub.execute_input": "2023-12-03T07:24:25.395296Z",
     "iopub.status.busy": "2023-12-03T07:24:25.394949Z",
     "iopub.status.idle": "2023-12-03T07:24:25.410933Z",
     "shell.execute_reply": "2023-12-03T07:24:25.410427Z"
    }
   },
   "outputs": [
    {
     "data": {
      "text/html": [
       "<table class=\"simpletable\">\n",
       "<caption>OLS Regression Results</caption>\n",
       "<tr>\n",
       "  <th>Dep. Variable:</th>            <td>y</td>        <th>  R-squared (uncentered):</th>      <td>   0.956</td> \n",
       "</tr>\n",
       "<tr>\n",
       "  <th>Model:</th>                   <td>OLS</td>       <th>  Adj. R-squared (uncentered):</th> <td>   0.956</td> \n",
       "</tr>\n",
       "<tr>\n",
       "  <th>Method:</th>             <td>Least Squares</td>  <th>  F-statistic:       </th>          <td>1.074e+04</td>\n",
       "</tr>\n",
       "<tr>\n",
       "  <th>Date:</th>             <td>Sun, 03 Dec 2023</td> <th>  Prob (F-statistic):</th>           <td>  0.00</td>  \n",
       "</tr>\n",
       "<tr>\n",
       "  <th>Time:</th>                 <td>07:24:25</td>     <th>  Log-Likelihood:    </th>          <td> -1439.2</td> \n",
       "</tr>\n",
       "<tr>\n",
       "  <th>No. Observations:</th>      <td>  1000</td>      <th>  AIC:               </th>          <td>   2882.</td> \n",
       "</tr>\n",
       "<tr>\n",
       "  <th>Df Residuals:</th>          <td>   998</td>      <th>  BIC:               </th>          <td>   2892.</td> \n",
       "</tr>\n",
       "<tr>\n",
       "  <th>Df Model:</th>              <td>     2</td>      <th>                     </th>              <td> </td>    \n",
       "</tr>\n",
       "<tr>\n",
       "  <th>Covariance Type:</th>      <td>nonrobust</td>    <th>                     </th>              <td> </td>    \n",
       "</tr>\n",
       "</table>\n",
       "<table class=\"simpletable\">\n",
       "<tr>\n",
       "   <td></td>     <th>coef</th>     <th>std err</th>      <th>t</th>      <th>P>|t|</th>  <th>[0.025</th>    <th>0.975]</th>  \n",
       "</tr>\n",
       "<tr>\n",
       "  <th>x1</th> <td>    2.1406</td> <td>    0.033</td> <td>   65.283</td> <td> 0.000</td> <td>    2.076</td> <td>    2.205</td>\n",
       "</tr>\n",
       "<tr>\n",
       "  <th>x2</th> <td>    5.0254</td> <td>    0.046</td> <td>  108.293</td> <td> 0.000</td> <td>    4.934</td> <td>    5.116</td>\n",
       "</tr>\n",
       "</table>\n",
       "<table class=\"simpletable\">\n",
       "<tr>\n",
       "  <th>Omnibus:</th>       <td> 1.724</td> <th>  Durbin-Watson:     </th> <td>   2.050</td>\n",
       "</tr>\n",
       "<tr>\n",
       "  <th>Prob(Omnibus):</th> <td> 0.422</td> <th>  Jarque-Bera (JB):  </th> <td>   1.800</td>\n",
       "</tr>\n",
       "<tr>\n",
       "  <th>Skew:</th>          <td>-0.090</td> <th>  Prob(JB):          </th> <td>   0.407</td>\n",
       "</tr>\n",
       "<tr>\n",
       "  <th>Kurtosis:</th>      <td> 2.895</td> <th>  Cond. No.          </th> <td>    1.57</td>\n",
       "</tr>\n",
       "</table><br/><br/>Notes:<br/>[1] R² is computed without centering (uncentered) since the model does not contain a constant.<br/>[2] Standard Errors assume that the covariance matrix of the errors is correctly specified."
      ],
      "text/latex": [
       "\\begin{center}\n",
       "\\begin{tabular}{lclc}\n",
       "\\toprule\n",
       "\\textbf{Dep. Variable:}    &        y         & \\textbf{  R-squared (uncentered):}      &     0.956   \\\\\n",
       "\\textbf{Model:}            &       OLS        & \\textbf{  Adj. R-squared (uncentered):} &     0.956   \\\\\n",
       "\\textbf{Method:}           &  Least Squares   & \\textbf{  F-statistic:       }          & 1.074e+04   \\\\\n",
       "\\textbf{Date:}             & Sun, 03 Dec 2023 & \\textbf{  Prob (F-statistic):}          &     0.00    \\\\\n",
       "\\textbf{Time:}             &     07:24:25     & \\textbf{  Log-Likelihood:    }          &   -1439.2   \\\\\n",
       "\\textbf{No. Observations:} &        1000      & \\textbf{  AIC:               }          &     2882.   \\\\\n",
       "\\textbf{Df Residuals:}     &         998      & \\textbf{  BIC:               }          &     2892.   \\\\\n",
       "\\textbf{Df Model:}         &           2      & \\textbf{                     }          &             \\\\\n",
       "\\textbf{Covariance Type:}  &    nonrobust     & \\textbf{                     }          &             \\\\\n",
       "\\bottomrule\n",
       "\\end{tabular}\n",
       "\\begin{tabular}{lcccccc}\n",
       "            & \\textbf{coef} & \\textbf{std err} & \\textbf{t} & \\textbf{P$> |$t$|$} & \\textbf{[0.025} & \\textbf{0.975]}  \\\\\n",
       "\\midrule\n",
       "\\textbf{x1} &       2.1406  &        0.033     &    65.283  &         0.000        &        2.076    &        2.205     \\\\\n",
       "\\textbf{x2} &       5.0254  &        0.046     &   108.293  &         0.000        &        4.934    &        5.116     \\\\\n",
       "\\bottomrule\n",
       "\\end{tabular}\n",
       "\\begin{tabular}{lclc}\n",
       "\\textbf{Omnibus:}       &  1.724 & \\textbf{  Durbin-Watson:     } &    2.050  \\\\\n",
       "\\textbf{Prob(Omnibus):} &  0.422 & \\textbf{  Jarque-Bera (JB):  } &    1.800  \\\\\n",
       "\\textbf{Skew:}          & -0.090 & \\textbf{  Prob(JB):          } &    0.407  \\\\\n",
       "\\textbf{Kurtosis:}      &  2.895 & \\textbf{  Cond. No.          } &     1.57  \\\\\n",
       "\\bottomrule\n",
       "\\end{tabular}\n",
       "%\\caption{OLS Regression Results}\n",
       "\\end{center}\n",
       "\n",
       "Notes: \\newline\n",
       " [1] R² is computed without centering (uncentered) since the model does not contain a constant. \\newline\n",
       " [2] Standard Errors assume that the covariance matrix of the errors is correctly specified."
      ],
      "text/plain": [
       "<class 'statsmodels.iolib.summary.Summary'>\n",
       "\"\"\"\n",
       "                                 OLS Regression Results                                \n",
       "=======================================================================================\n",
       "Dep. Variable:                      y   R-squared (uncentered):                   0.956\n",
       "Model:                            OLS   Adj. R-squared (uncentered):              0.956\n",
       "Method:                 Least Squares   F-statistic:                          1.074e+04\n",
       "Date:                Sun, 03 Dec 2023   Prob (F-statistic):                        0.00\n",
       "Time:                        07:24:25   Log-Likelihood:                         -1439.2\n",
       "No. Observations:                1000   AIC:                                      2882.\n",
       "Df Residuals:                     998   BIC:                                      2892.\n",
       "Df Model:                           2                                                  \n",
       "Covariance Type:            nonrobust                                                  \n",
       "==============================================================================\n",
       "                 coef    std err          t      P>|t|      [0.025      0.975]\n",
       "------------------------------------------------------------------------------\n",
       "x1             2.1406      0.033     65.283      0.000       2.076       2.205\n",
       "x2             5.0254      0.046    108.293      0.000       4.934       5.116\n",
       "==============================================================================\n",
       "Omnibus:                        1.724   Durbin-Watson:                   2.050\n",
       "Prob(Omnibus):                  0.422   Jarque-Bera (JB):                1.800\n",
       "Skew:                          -0.090   Prob(JB):                        0.407\n",
       "Kurtosis:                       2.895   Cond. No.                         1.57\n",
       "==============================================================================\n",
       "\n",
       "Notes:\n",
       "[1] R² is computed without centering (uncentered) since the model does not contain a constant.\n",
       "[2] Standard Errors assume that the covariance matrix of the errors is correctly specified.\n",
       "\"\"\""
      ]
     },
     "execution_count": 10,
     "metadata": {},
     "output_type": "execute_result"
    }
   ],
   "source": [
    "model = OLS(np.asarray(df[outcome]), np.asarray(df[[common_cause, treatment]], dtype=np.float64))\n",
    "result = model.fit()\n",
    "result.summary()"
   ]
  }
 ],
 "metadata": {
  "kernelspec": {
   "display_name": "Python 3 (ipykernel)",
   "language": "python",
   "name": "python3"
  },
  "language_info": {
   "codemirror_mode": {
    "name": "ipython",
    "version": 3
   },
   "file_extension": ".py",
   "mimetype": "text/x-python",
   "name": "python",
   "nbconvert_exporter": "python",
   "pygments_lexer": "ipython3",
   "version": "3.8.10"
  },
  "toc": {
   "base_numbering": 1,
   "nav_menu": {},
   "number_sections": false,
   "sideBar": true,
   "skip_h1_title": true,
   "title_cell": "Table of Contents",
   "title_sidebar": "Contents",
   "toc_cell": false,
   "toc_position": {},
   "toc_section_display": true,
   "toc_window_display": false
  }
 },
 "nbformat": 4,
 "nbformat_minor": 4
}
