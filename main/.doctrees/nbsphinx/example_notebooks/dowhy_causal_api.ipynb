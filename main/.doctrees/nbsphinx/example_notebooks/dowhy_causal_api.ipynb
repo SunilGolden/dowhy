{
 "cells": [
  {
   "cell_type": "markdown",
   "metadata": {},
   "source": [
    "# Demo for the DoWhy causal API\n",
    "We show a simple example of adding a causal extension to any dataframe. "
   ]
  },
  {
   "cell_type": "code",
   "execution_count": 1,
   "metadata": {
    "execution": {
     "iopub.execute_input": "2023-07-18T15:58:03.522766Z",
     "iopub.status.busy": "2023-07-18T15:58:03.522466Z",
     "iopub.status.idle": "2023-07-18T15:58:05.678261Z",
     "shell.execute_reply": "2023-07-18T15:58:05.677341Z"
    }
   },
   "outputs": [],
   "source": [
    "import dowhy.datasets\n",
    "import dowhy.api\n",
    "\n",
    "import numpy as np\n",
    "import pandas as pd\n",
    "\n",
    "from statsmodels.api import OLS"
   ]
  },
  {
   "cell_type": "code",
   "execution_count": 2,
   "metadata": {
    "execution": {
     "iopub.execute_input": "2023-07-18T15:58:05.683120Z",
     "iopub.status.busy": "2023-07-18T15:58:05.682243Z",
     "iopub.status.idle": "2023-07-18T15:58:05.737146Z",
     "shell.execute_reply": "2023-07-18T15:58:05.736238Z"
    }
   },
   "outputs": [
    {
     "data": {
      "text/html": [
       "<div>\n",
       "<style scoped>\n",
       "    .dataframe tbody tr th:only-of-type {\n",
       "        vertical-align: middle;\n",
       "    }\n",
       "\n",
       "    .dataframe tbody tr th {\n",
       "        vertical-align: top;\n",
       "    }\n",
       "\n",
       "    .dataframe thead th {\n",
       "        text-align: right;\n",
       "    }\n",
       "</style>\n",
       "<table border=\"1\" class=\"dataframe\">\n",
       "  <thead>\n",
       "    <tr style=\"text-align: right;\">\n",
       "      <th></th>\n",
       "      <th>W0</th>\n",
       "      <th>v0</th>\n",
       "      <th>y</th>\n",
       "    </tr>\n",
       "  </thead>\n",
       "  <tbody>\n",
       "    <tr>\n",
       "      <th>0</th>\n",
       "      <td>-1.157038</td>\n",
       "      <td>True</td>\n",
       "      <td>2.681995</td>\n",
       "    </tr>\n",
       "    <tr>\n",
       "      <th>1</th>\n",
       "      <td>-0.726820</td>\n",
       "      <td>True</td>\n",
       "      <td>4.937451</td>\n",
       "    </tr>\n",
       "    <tr>\n",
       "      <th>2</th>\n",
       "      <td>-0.851983</td>\n",
       "      <td>True</td>\n",
       "      <td>3.853603</td>\n",
       "    </tr>\n",
       "    <tr>\n",
       "      <th>3</th>\n",
       "      <td>-1.142982</td>\n",
       "      <td>False</td>\n",
       "      <td>0.293526</td>\n",
       "    </tr>\n",
       "    <tr>\n",
       "      <th>4</th>\n",
       "      <td>-1.328496</td>\n",
       "      <td>False</td>\n",
       "      <td>-1.103293</td>\n",
       "    </tr>\n",
       "    <tr>\n",
       "      <th>...</th>\n",
       "      <td>...</td>\n",
       "      <td>...</td>\n",
       "      <td>...</td>\n",
       "    </tr>\n",
       "    <tr>\n",
       "      <th>995</th>\n",
       "      <td>0.154200</td>\n",
       "      <td>False</td>\n",
       "      <td>1.227281</td>\n",
       "    </tr>\n",
       "    <tr>\n",
       "      <th>996</th>\n",
       "      <td>-1.373739</td>\n",
       "      <td>False</td>\n",
       "      <td>-1.253006</td>\n",
       "    </tr>\n",
       "    <tr>\n",
       "      <th>997</th>\n",
       "      <td>-0.565724</td>\n",
       "      <td>False</td>\n",
       "      <td>-0.558219</td>\n",
       "    </tr>\n",
       "    <tr>\n",
       "      <th>998</th>\n",
       "      <td>-3.728580</td>\n",
       "      <td>False</td>\n",
       "      <td>-4.900346</td>\n",
       "    </tr>\n",
       "    <tr>\n",
       "      <th>999</th>\n",
       "      <td>0.507750</td>\n",
       "      <td>False</td>\n",
       "      <td>0.839708</td>\n",
       "    </tr>\n",
       "  </tbody>\n",
       "</table>\n",
       "<p>1000 rows × 3 columns</p>\n",
       "</div>"
      ],
      "text/plain": [
       "           W0     v0         y\n",
       "0   -1.157038   True  2.681995\n",
       "1   -0.726820   True  4.937451\n",
       "2   -0.851983   True  3.853603\n",
       "3   -1.142982  False  0.293526\n",
       "4   -1.328496  False -1.103293\n",
       "..        ...    ...       ...\n",
       "995  0.154200  False  1.227281\n",
       "996 -1.373739  False -1.253006\n",
       "997 -0.565724  False -0.558219\n",
       "998 -3.728580  False -4.900346\n",
       "999  0.507750  False  0.839708\n",
       "\n",
       "[1000 rows x 3 columns]"
      ]
     },
     "execution_count": 2,
     "metadata": {},
     "output_type": "execute_result"
    }
   ],
   "source": [
    "data = dowhy.datasets.linear_dataset(beta=5,\n",
    "        num_common_causes=1,\n",
    "        num_instruments = 0,\n",
    "        num_samples=1000,\n",
    "        treatment_is_binary=True)\n",
    "df = data['df']\n",
    "df['y'] = df['y'] + np.random.normal(size=len(df)) # Adding noise to data. Without noise, the variance in Y|X, Z is zero, and mcmc fails.\n",
    "#data['dot_graph'] = 'digraph { v ->y;X0-> v;X0-> y;}'\n",
    "\n",
    "treatment= data[\"treatment_name\"][0]\n",
    "outcome = data[\"outcome_name\"][0]\n",
    "common_cause = data[\"common_causes_names\"][0]\n",
    "df"
   ]
  },
  {
   "cell_type": "code",
   "execution_count": 3,
   "metadata": {
    "execution": {
     "iopub.execute_input": "2023-07-18T15:58:05.741944Z",
     "iopub.status.busy": "2023-07-18T15:58:05.741355Z",
     "iopub.status.idle": "2023-07-18T15:58:05.999250Z",
     "shell.execute_reply": "2023-07-18T15:58:05.998362Z"
    }
   },
   "outputs": [
    {
     "data": {
      "text/plain": [
       "<Axes: xlabel='v0'>"
      ]
     },
     "execution_count": 3,
     "metadata": {},
     "output_type": "execute_result"
    },
    {
     "data": {
      "image/png": "[encoded data removed]",
      "text/plain": [
       "<Figure size 640x480 with 1 Axes>"
      ]
     },
     "metadata": {},
     "output_type": "display_data"
    }
   ],
   "source": [
    "# data['df'] is just a regular pandas.DataFrame\n",
    "df.causal.do(x=treatment,\n",
    "                     variable_types={treatment: 'b', outcome: 'c', common_cause: 'c'},\n",
    "                     outcome=outcome,\n",
    "                     common_causes=[common_cause],\n",
    "                     proceed_when_unidentifiable=True).groupby(treatment).mean().plot(y=outcome, kind='bar')"
   ]
  },
  {
   "cell_type": "code",
   "execution_count": 4,
   "metadata": {
    "execution": {
     "iopub.execute_input": "2023-07-18T15:58:06.003205Z",
     "iopub.status.busy": "2023-07-18T15:58:06.002878Z",
     "iopub.status.idle": "2023-07-18T15:58:06.190285Z",
     "shell.execute_reply": "2023-07-18T15:58:06.189409Z"
    }
   },
   "outputs": [
    {
     "data": {
      "text/plain": [
       "<Axes: xlabel='v0'>"
      ]
     },
     "execution_count": 4,
     "metadata": {},
     "output_type": "execute_result"
    },
    {
     "data": {
      "image/png": "[encoded data removed]",
      "text/plain": [
       "<Figure size 640x480 with 1 Axes>"
      ]
     },
     "metadata": {},
     "output_type": "display_data"
    }
   ],
   "source": [
    "df.causal.do(x={treatment: 1}, \n",
    "              variable_types={treatment:'b', outcome: 'c', common_cause: 'c'}, \n",
    "              outcome=outcome,\n",
    "              method='weighting', \n",
    "              common_causes=[common_cause],\n",
    "              proceed_when_unidentifiable=True).groupby(treatment).mean().plot(y=outcome, kind='bar')"
   ]
  },
  {
   "cell_type": "code",
   "execution_count": 5,
   "metadata": {
    "execution": {
     "iopub.execute_input": "2023-07-18T15:58:06.195452Z",
     "iopub.status.busy": "2023-07-18T15:58:06.194930Z",
     "iopub.status.idle": "2023-07-18T15:58:06.234316Z",
     "shell.execute_reply": "2023-07-18T15:58:06.233405Z"
    }
   },
   "outputs": [],
   "source": [
    "cdf_1 = df.causal.do(x={treatment: 1}, \n",
    "              variable_types={treatment: 'b', outcome: 'c', common_cause: 'c'}, \n",
    "              outcome=outcome, \n",
    "              dot_graph=data['dot_graph'],\n",
    "              proceed_when_unidentifiable=True)\n",
    "\n",
    "cdf_0 = df.causal.do(x={treatment: 0}, \n",
    "              variable_types={treatment: 'b', outcome: 'c', common_cause: 'c'}, \n",
    "              outcome=outcome, \n",
    "              dot_graph=data['dot_graph'],\n",
    "              proceed_when_unidentifiable=True)\n"
   ]
  },
  {
   "cell_type": "code",
   "execution_count": 6,
   "metadata": {
    "execution": {
     "iopub.execute_input": "2023-07-18T15:58:06.239557Z",
     "iopub.status.busy": "2023-07-18T15:58:06.239240Z",
     "iopub.status.idle": "2023-07-18T15:58:06.252808Z",
     "shell.execute_reply": "2023-07-18T15:58:06.251966Z"
    },
    "scrolled": true
   },
   "outputs": [
    {
     "data": {
      "text/html": [
       "<div>\n",
       "<style scoped>\n",
       "    .dataframe tbody tr th:only-of-type {\n",
       "        vertical-align: middle;\n",
       "    }\n",
       "\n",
       "    .dataframe tbody tr th {\n",
       "        vertical-align: top;\n",
       "    }\n",
       "\n",
       "    .dataframe thead th {\n",
       "        text-align: right;\n",
       "    }\n",
       "</style>\n",
       "<table border=\"1\" class=\"dataframe\">\n",
       "  <thead>\n",
       "    <tr style=\"text-align: right;\">\n",
       "      <th></th>\n",
       "      <th>W0</th>\n",
       "      <th>v0</th>\n",
       "      <th>y</th>\n",
       "      <th>propensity_score</th>\n",
       "      <th>weight</th>\n",
       "    </tr>\n",
       "  </thead>\n",
       "  <tbody>\n",
       "    <tr>\n",
       "      <th>0</th>\n",
       "      <td>-1.040635</td>\n",
       "      <td>False</td>\n",
       "      <td>-2.647663</td>\n",
       "      <td>0.672263</td>\n",
       "      <td>1.487514</td>\n",
       "    </tr>\n",
       "    <tr>\n",
       "      <th>1</th>\n",
       "      <td>2.333944</td>\n",
       "      <td>False</td>\n",
       "      <td>2.592661</td>\n",
       "      <td>0.152654</td>\n",
       "      <td>6.550755</td>\n",
       "    </tr>\n",
       "    <tr>\n",
       "      <th>2</th>\n",
       "      <td>-2.896817</td>\n",
       "      <td>False</td>\n",
       "      <td>-3.536812</td>\n",
       "      <td>0.886589</td>\n",
       "      <td>1.127919</td>\n",
       "    </tr>\n",
       "    <tr>\n",
       "      <th>3</th>\n",
       "      <td>0.612149</td>\n",
       "      <td>False</td>\n",
       "      <td>1.474335</td>\n",
       "      <td>0.383936</td>\n",
       "      <td>2.604604</td>\n",
       "    </tr>\n",
       "    <tr>\n",
       "      <th>4</th>\n",
       "      <td>-0.609887</td>\n",
       "      <td>False</td>\n",
       "      <td>-0.846952</td>\n",
       "      <td>0.600598</td>\n",
       "      <td>1.665007</td>\n",
       "    </tr>\n",
       "    <tr>\n",
       "      <th>...</th>\n",
       "      <td>...</td>\n",
       "      <td>...</td>\n",
       "      <td>...</td>\n",
       "      <td>...</td>\n",
       "      <td>...</td>\n",
       "    </tr>\n",
       "    <tr>\n",
       "      <th>995</th>\n",
       "      <td>-0.596945</td>\n",
       "      <td>False</td>\n",
       "      <td>-1.362010</td>\n",
       "      <td>0.598358</td>\n",
       "      <td>1.671240</td>\n",
       "    </tr>\n",
       "    <tr>\n",
       "      <th>996</th>\n",
       "      <td>0.616798</td>\n",
       "      <td>False</td>\n",
       "      <td>-0.344981</td>\n",
       "      <td>0.383143</td>\n",
       "      <td>2.609990</td>\n",
       "    </tr>\n",
       "    <tr>\n",
       "      <th>997</th>\n",
       "      <td>-0.312835</td>\n",
       "      <td>False</td>\n",
       "      <td>0.136137</td>\n",
       "      <td>0.548310</td>\n",
       "      <td>1.823786</td>\n",
       "    </tr>\n",
       "    <tr>\n",
       "      <th>998</th>\n",
       "      <td>-0.514042</td>\n",
       "      <td>False</td>\n",
       "      <td>-0.491333</td>\n",
       "      <td>0.583917</td>\n",
       "      <td>1.712573</td>\n",
       "    </tr>\n",
       "    <tr>\n",
       "      <th>999</th>\n",
       "      <td>-1.815715</td>\n",
       "      <td>False</td>\n",
       "      <td>-2.050507</td>\n",
       "      <td>0.781957</td>\n",
       "      <td>1.278842</td>\n",
       "    </tr>\n",
       "  </tbody>\n",
       "</table>\n",
       "<p>1000 rows × 5 columns</p>\n",
       "</div>"
      ],
      "text/plain": [
       "           W0     v0         y  propensity_score    weight\n",
       "0   -1.040635  False -2.647663          0.672263  1.487514\n",
       "1    2.333944  False  2.592661          0.152654  6.550755\n",
       "2   -2.896817  False -3.536812          0.886589  1.127919\n",
       "3    0.612149  False  1.474335          0.383936  2.604604\n",
       "4   -0.609887  False -0.846952          0.600598  1.665007\n",
       "..        ...    ...       ...               ...       ...\n",
       "995 -0.596945  False -1.362010          0.598358  1.671240\n",
       "996  0.616798  False -0.344981          0.383143  2.609990\n",
       "997 -0.312835  False  0.136137          0.548310  1.823786\n",
       "998 -0.514042  False -0.491333          0.583917  1.712573\n",
       "999 -1.815715  False -2.050507          0.781957  1.278842\n",
       "\n",
       "[1000 rows x 5 columns]"
      ]
     },
     "execution_count": 6,
     "metadata": {},
     "output_type": "execute_result"
    }
   ],
   "source": [
    "cdf_0"
   ]
  },
  {
   "cell_type": "code",
   "execution_count": 7,
   "metadata": {
    "execution": {
     "iopub.execute_input": "2023-07-18T15:58:06.257925Z",
     "iopub.status.busy": "2023-07-18T15:58:06.257607Z",
     "iopub.status.idle": "2023-07-18T15:58:06.270802Z",
     "shell.execute_reply": "2023-07-18T15:58:06.269903Z"
    }
   },
   "outputs": [
    {
     "data": {
      "text/html": [
       "<div>\n",
       "<style scoped>\n",
       "    .dataframe tbody tr th:only-of-type {\n",
       "        vertical-align: middle;\n",
       "    }\n",
       "\n",
       "    .dataframe tbody tr th {\n",
       "        vertical-align: top;\n",
       "    }\n",
       "\n",
       "    .dataframe thead th {\n",
       "        text-align: right;\n",
       "    }\n",
       "</style>\n",
       "<table border=\"1\" class=\"dataframe\">\n",
       "  <thead>\n",
       "    <tr style=\"text-align: right;\">\n",
       "      <th></th>\n",
       "      <th>W0</th>\n",
       "      <th>v0</th>\n",
       "      <th>y</th>\n",
       "      <th>propensity_score</th>\n",
       "      <th>weight</th>\n",
       "    </tr>\n",
       "  </thead>\n",
       "  <tbody>\n",
       "    <tr>\n",
       "      <th>0</th>\n",
       "      <td>0.832301</td>\n",
       "      <td>True</td>\n",
       "      <td>7.523489</td>\n",
       "      <td>0.652843</td>\n",
       "      <td>1.531761</td>\n",
       "    </tr>\n",
       "    <tr>\n",
       "      <th>1</th>\n",
       "      <td>-2.066590</td>\n",
       "      <td>True</td>\n",
       "      <td>2.257414</td>\n",
       "      <td>0.188783</td>\n",
       "      <td>5.297085</td>\n",
       "    </tr>\n",
       "    <tr>\n",
       "      <th>2</th>\n",
       "      <td>0.330099</td>\n",
       "      <td>True</td>\n",
       "      <td>5.686646</td>\n",
       "      <td>0.566989</td>\n",
       "      <td>1.763702</td>\n",
       "    </tr>\n",
       "    <tr>\n",
       "      <th>3</th>\n",
       "      <td>-0.242270</td>\n",
       "      <td>True</td>\n",
       "      <td>3.996321</td>\n",
       "      <td>0.464315</td>\n",
       "      <td>2.153709</td>\n",
       "    </tr>\n",
       "    <tr>\n",
       "      <th>4</th>\n",
       "      <td>-0.152484</td>\n",
       "      <td>True</td>\n",
       "      <td>3.025793</td>\n",
       "      <td>0.480444</td>\n",
       "      <td>2.081409</td>\n",
       "    </tr>\n",
       "    <tr>\n",
       "      <th>...</th>\n",
       "      <td>...</td>\n",
       "      <td>...</td>\n",
       "      <td>...</td>\n",
       "      <td>...</td>\n",
       "      <td>...</td>\n",
       "    </tr>\n",
       "    <tr>\n",
       "      <th>995</th>\n",
       "      <td>-1.183923</td>\n",
       "      <td>True</td>\n",
       "      <td>1.479729</td>\n",
       "      <td>0.305399</td>\n",
       "      <td>3.274403</td>\n",
       "    </tr>\n",
       "    <tr>\n",
       "      <th>996</th>\n",
       "      <td>0.198802</td>\n",
       "      <td>True</td>\n",
       "      <td>5.795142</td>\n",
       "      <td>0.543624</td>\n",
       "      <td>1.839508</td>\n",
       "    </tr>\n",
       "    <tr>\n",
       "      <th>997</th>\n",
       "      <td>-1.035670</td>\n",
       "      <td>True</td>\n",
       "      <td>3.661479</td>\n",
       "      <td>0.328526</td>\n",
       "      <td>3.043896</td>\n",
       "    </tr>\n",
       "    <tr>\n",
       "      <th>998</th>\n",
       "      <td>0.607826</td>\n",
       "      <td>True</td>\n",
       "      <td>6.858221</td>\n",
       "      <td>0.615327</td>\n",
       "      <td>1.625151</td>\n",
       "    </tr>\n",
       "    <tr>\n",
       "      <th>999</th>\n",
       "      <td>-1.881582</td>\n",
       "      <td>True</td>\n",
       "      <td>2.464253</td>\n",
       "      <td>0.210057</td>\n",
       "      <td>4.760623</td>\n",
       "    </tr>\n",
       "  </tbody>\n",
       "</table>\n",
       "<p>1000 rows × 5 columns</p>\n",
       "</div>"
      ],
      "text/plain": [
       "           W0    v0         y  propensity_score    weight\n",
       "0    0.832301  True  7.523489          0.652843  1.531761\n",
       "1   -2.066590  True  2.257414          0.188783  5.297085\n",
       "2    0.330099  True  5.686646          0.566989  1.763702\n",
       "3   -0.242270  True  3.996321          0.464315  2.153709\n",
       "4   -0.152484  True  3.025793          0.480444  2.081409\n",
       "..        ...   ...       ...               ...       ...\n",
       "995 -1.183923  True  1.479729          0.305399  3.274403\n",
       "996  0.198802  True  5.795142          0.543624  1.839508\n",
       "997 -1.035670  True  3.661479          0.328526  3.043896\n",
       "998  0.607826  True  6.858221          0.615327  1.625151\n",
       "999 -1.881582  True  2.464253          0.210057  4.760623\n",
       "\n",
       "[1000 rows x 5 columns]"
      ]
     },
     "execution_count": 7,
     "metadata": {},
     "output_type": "execute_result"
    }
   ],
   "source": [
    "cdf_1"
   ]
  },
  {
   "cell_type": "markdown",
   "metadata": {},
   "source": [
    "## Comparing the estimate to Linear Regression\n",
    "First, estimating the effect using the causal data frame, and the 95% confidence interval."
   ]
  },
  {
   "cell_type": "code",
   "execution_count": 8,
   "metadata": {
    "execution": {
     "iopub.execute_input": "2023-07-18T15:58:06.275839Z",
     "iopub.status.busy": "2023-07-18T15:58:06.275361Z",
     "iopub.status.idle": "2023-07-18T15:58:06.351428Z",
     "shell.execute_reply": "2023-07-18T15:58:06.350463Z"
    }
   },
   "outputs": [
    {
     "data": {
      "image/png": "[encoded data removed]",
      "text/latex": [
       "$\\displaystyle 5.09582600916776$"
      ],
      "text/plain": [
       "5.095826009167761"
      ]
     },
     "execution_count": 8,
     "metadata": {},
     "output_type": "execute_result"
    }
   ],
   "source": [
    "(cdf_1['y'] - cdf_0['y']).mean()"
   ]
  },
  {
   "cell_type": "code",
   "execution_count": 9,
   "metadata": {
    "execution": {
     "iopub.execute_input": "2023-07-18T15:58:06.355877Z",
     "iopub.status.busy": "2023-07-18T15:58:06.355106Z",
     "iopub.status.idle": "2023-07-18T15:58:06.383332Z",
     "shell.execute_reply": "2023-07-18T15:58:06.382137Z"
    }
   },
   "outputs": [
    {
     "data": {
      "image/png": "[encoded data removed]",
      "text/latex": [
       "$\\displaystyle 0.142653311700045$"
      ],
      "text/plain": [
       "0.14265331170004505"
      ]
     },
     "execution_count": 9,
     "metadata": {},
     "output_type": "execute_result"
    }
   ],
   "source": [
    "1.96*(cdf_1['y'] - cdf_0['y']).std() / np.sqrt(len(df))"
   ]
  },
  {
   "cell_type": "markdown",
   "metadata": {},
   "source": [
    "Comparing to the estimate from OLS."
   ]
  },
  {
   "cell_type": "code",
   "execution_count": 10,
   "metadata": {
    "execution": {
     "iopub.execute_input": "2023-07-18T15:58:06.387510Z",
     "iopub.status.busy": "2023-07-18T15:58:06.386831Z",
     "iopub.status.idle": "2023-07-18T15:58:06.407159Z",
     "shell.execute_reply": "2023-07-18T15:58:06.406267Z"
    }
   },
   "outputs": [
    {
     "data": {
      "text/html": [
       "<table class=\"simpletable\">\n",
       "<caption>OLS Regression Results</caption>\n",
       "<tr>\n",
       "  <th>Dep. Variable:</th>            <td>y</td>        <th>  R-squared (uncentered):</th>      <td>   0.908</td>\n",
       "</tr>\n",
       "<tr>\n",
       "  <th>Model:</th>                   <td>OLS</td>       <th>  Adj. R-squared (uncentered):</th> <td>   0.908</td>\n",
       "</tr>\n",
       "<tr>\n",
       "  <th>Method:</th>             <td>Least Squares</td>  <th>  F-statistic:       </th>          <td>   4907.</td>\n",
       "</tr>\n",
       "<tr>\n",
       "  <th>Date:</th>             <td>Tue, 18 Jul 2023</td> <th>  Prob (F-statistic):</th>           <td>  0.00</td> \n",
       "</tr>\n",
       "<tr>\n",
       "  <th>Time:</th>                 <td>15:58:06</td>     <th>  Log-Likelihood:    </th>          <td> -1427.1</td>\n",
       "</tr>\n",
       "<tr>\n",
       "  <th>No. Observations:</th>      <td>  1000</td>      <th>  AIC:               </th>          <td>   2858.</td>\n",
       "</tr>\n",
       "<tr>\n",
       "  <th>Df Residuals:</th>          <td>   998</td>      <th>  BIC:               </th>          <td>   2868.</td>\n",
       "</tr>\n",
       "<tr>\n",
       "  <th>Df Model:</th>              <td>     2</td>      <th>                     </th>              <td> </td>   \n",
       "</tr>\n",
       "<tr>\n",
       "  <th>Covariance Type:</th>      <td>nonrobust</td>    <th>                     </th>              <td> </td>   \n",
       "</tr>\n",
       "</table>\n",
       "<table class=\"simpletable\">\n",
       "<tr>\n",
       "   <td></td>     <th>coef</th>     <th>std err</th>      <th>t</th>      <th>P>|t|</th>  <th>[0.025</th>    <th>0.975]</th>  \n",
       "</tr>\n",
       "<tr>\n",
       "  <th>x1</th> <td>    1.2285</td> <td>    0.024</td> <td>   52.147</td> <td> 0.000</td> <td>    1.182</td> <td>    1.275</td>\n",
       "</tr>\n",
       "<tr>\n",
       "  <th>x2</th> <td>    5.0177</td> <td>    0.054</td> <td>   93.031</td> <td> 0.000</td> <td>    4.912</td> <td>    5.124</td>\n",
       "</tr>\n",
       "</table>\n",
       "<table class=\"simpletable\">\n",
       "<tr>\n",
       "  <th>Omnibus:</th>       <td> 3.454</td> <th>  Durbin-Watson:     </th> <td>   2.009</td>\n",
       "</tr>\n",
       "<tr>\n",
       "  <th>Prob(Omnibus):</th> <td> 0.178</td> <th>  Jarque-Bera (JB):  </th> <td>   3.398</td>\n",
       "</tr>\n",
       "<tr>\n",
       "  <th>Skew:</th>          <td>-0.103</td> <th>  Prob(JB):          </th> <td>   0.183</td>\n",
       "</tr>\n",
       "<tr>\n",
       "  <th>Kurtosis:</th>      <td> 3.198</td> <th>  Cond. No.          </th> <td>    2.36</td>\n",
       "</tr>\n",
       "</table><br/><br/>Notes:<br/>[1] R² is computed without centering (uncentered) since the model does not contain a constant.<br/>[2] Standard Errors assume that the covariance matrix of the errors is correctly specified."
      ],
      "text/plain": [
       "<class 'statsmodels.iolib.summary.Summary'>\n",
       "\"\"\"\n",
       "                                 OLS Regression Results                                \n",
       "=======================================================================================\n",
       "Dep. Variable:                      y   R-squared (uncentered):                   0.908\n",
       "Model:                            OLS   Adj. R-squared (uncentered):              0.908\n",
       "Method:                 Least Squares   F-statistic:                              4907.\n",
       "Date:                Tue, 18 Jul 2023   Prob (F-statistic):                        0.00\n",
       "Time:                        15:58:06   Log-Likelihood:                         -1427.1\n",
       "No. Observations:                1000   AIC:                                      2858.\n",
       "Df Residuals:                     998   BIC:                                      2868.\n",
       "Df Model:                           2                                                  \n",
       "Covariance Type:            nonrobust                                                  \n",
       "==============================================================================\n",
       "                 coef    std err          t      P>|t|      [0.025      0.975]\n",
       "------------------------------------------------------------------------------\n",
       "x1             1.2285      0.024     52.147      0.000       1.182       1.275\n",
       "x2             5.0177      0.054     93.031      0.000       4.912       5.124\n",
       "==============================================================================\n",
       "Omnibus:                        3.454   Durbin-Watson:                   2.009\n",
       "Prob(Omnibus):                  0.178   Jarque-Bera (JB):                3.398\n",
       "Skew:                          -0.103   Prob(JB):                        0.183\n",
       "Kurtosis:                       3.198   Cond. No.                         2.36\n",
       "==============================================================================\n",
       "\n",
       "Notes:\n",
       "[1] R² is computed without centering (uncentered) since the model does not contain a constant.\n",
       "[2] Standard Errors assume that the covariance matrix of the errors is correctly specified.\n",
       "\"\"\""
      ]
     },
     "execution_count": 10,
     "metadata": {},
     "output_type": "execute_result"
    }
   ],
   "source": [
    "model = OLS(np.asarray(df[outcome]), np.asarray(df[[common_cause, treatment]], dtype=np.float64))\n",
    "result = model.fit()\n",
    "result.summary()"
   ]
  }
 ],
 "metadata": {
  "kernelspec": {
   "display_name": "Python 3",
   "language": "python",
   "name": "python3"
  },
  "language_info": {
   "codemirror_mode": {
    "name": "ipython",
    "version": 3
   },
   "file_extension": ".py",
   "mimetype": "text/x-python",
   "name": "python",
   "nbconvert_exporter": "python",
   "pygments_lexer": "ipython3",
   "version": "3.8.10"
  },
  "toc": {
   "base_numbering": 1,
   "nav_menu": {},
   "number_sections": false,
   "sideBar": true,
   "skip_h1_title": true,
   "title_cell": "Table of Contents",
   "title_sidebar": "Contents",
   "toc_cell": false,
   "toc_position": {},
   "toc_section_display": true,
   "toc_window_display": false
  }
 },
 "nbformat": 4,
 "nbformat_minor": 4
}
