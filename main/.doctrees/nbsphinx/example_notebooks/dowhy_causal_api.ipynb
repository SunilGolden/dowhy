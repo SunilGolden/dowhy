{
 "cells": [
  {
   "cell_type": "markdown",
   "metadata": {},
   "source": [
    "# Demo for the DoWhy causal API\n",
    "We show a simple example of adding a causal extension to any dataframe. "
   ]
  },
  {
   "cell_type": "code",
   "execution_count": 1,
   "metadata": {
    "execution": {
     "iopub.execute_input": "2023-12-11T19:14:42.471687Z",
     "iopub.status.busy": "2023-12-11T19:14:42.471512Z",
     "iopub.status.idle": "2023-12-11T19:14:43.845313Z",
     "shell.execute_reply": "2023-12-11T19:14:43.844673Z"
    }
   },
   "outputs": [],
   "source": [
    "import dowhy.datasets\n",
    "import dowhy.api\n",
    "from dowhy.graph import build_graph_from_str\n",
    "\n",
    "import numpy as np\n",
    "import pandas as pd\n",
    "\n",
    "from statsmodels.api import OLS"
   ]
  },
  {
   "cell_type": "code",
   "execution_count": 2,
   "metadata": {
    "execution": {
     "iopub.execute_input": "2023-12-11T19:14:43.848781Z",
     "iopub.status.busy": "2023-12-11T19:14:43.848174Z",
     "iopub.status.idle": "2023-12-11T19:14:43.885391Z",
     "shell.execute_reply": "2023-12-11T19:14:43.884802Z"
    }
   },
   "outputs": [
    {
     "data": {
      "text/html": [
       "<div>\n",
       "<style scoped>\n",
       "    .dataframe tbody tr th:only-of-type {\n",
       "        vertical-align: middle;\n",
       "    }\n",
       "\n",
       "    .dataframe tbody tr th {\n",
       "        vertical-align: top;\n",
       "    }\n",
       "\n",
       "    .dataframe thead th {\n",
       "        text-align: right;\n",
       "    }\n",
       "</style>\n",
       "<table border=\"1\" class=\"dataframe\">\n",
       "  <thead>\n",
       "    <tr style=\"text-align: right;\">\n",
       "      <th></th>\n",
       "      <th>W0</th>\n",
       "      <th>v0</th>\n",
       "      <th>y</th>\n",
       "    </tr>\n",
       "  </thead>\n",
       "  <tbody>\n",
       "    <tr>\n",
       "      <th>0</th>\n",
       "      <td>-0.172039</td>\n",
       "      <td>False</td>\n",
       "      <td>-0.324842</td>\n",
       "    </tr>\n",
       "    <tr>\n",
       "      <th>1</th>\n",
       "      <td>-0.788148</td>\n",
       "      <td>False</td>\n",
       "      <td>-1.455807</td>\n",
       "    </tr>\n",
       "    <tr>\n",
       "      <th>2</th>\n",
       "      <td>1.337097</td>\n",
       "      <td>True</td>\n",
       "      <td>8.413473</td>\n",
       "    </tr>\n",
       "    <tr>\n",
       "      <th>3</th>\n",
       "      <td>-1.080333</td>\n",
       "      <td>False</td>\n",
       "      <td>-2.151275</td>\n",
       "    </tr>\n",
       "    <tr>\n",
       "      <th>4</th>\n",
       "      <td>0.154272</td>\n",
       "      <td>True</td>\n",
       "      <td>7.157026</td>\n",
       "    </tr>\n",
       "    <tr>\n",
       "      <th>...</th>\n",
       "      <td>...</td>\n",
       "      <td>...</td>\n",
       "      <td>...</td>\n",
       "    </tr>\n",
       "    <tr>\n",
       "      <th>995</th>\n",
       "      <td>-1.556872</td>\n",
       "      <td>False</td>\n",
       "      <td>-2.870455</td>\n",
       "    </tr>\n",
       "    <tr>\n",
       "      <th>996</th>\n",
       "      <td>-2.466739</td>\n",
       "      <td>False</td>\n",
       "      <td>-6.340582</td>\n",
       "    </tr>\n",
       "    <tr>\n",
       "      <th>997</th>\n",
       "      <td>-1.168171</td>\n",
       "      <td>False</td>\n",
       "      <td>-2.185424</td>\n",
       "    </tr>\n",
       "    <tr>\n",
       "      <th>998</th>\n",
       "      <td>1.531933</td>\n",
       "      <td>True</td>\n",
       "      <td>9.351525</td>\n",
       "    </tr>\n",
       "    <tr>\n",
       "      <th>999</th>\n",
       "      <td>-0.801391</td>\n",
       "      <td>False</td>\n",
       "      <td>-2.232437</td>\n",
       "    </tr>\n",
       "  </tbody>\n",
       "</table>\n",
       "<p>1000 rows × 3 columns</p>\n",
       "</div>"
      ],
      "text/plain": [
       "           W0     v0         y\n",
       "0   -0.172039  False -0.324842\n",
       "1   -0.788148  False -1.455807\n",
       "2    1.337097   True  8.413473\n",
       "3   -1.080333  False -2.151275\n",
       "4    0.154272   True  7.157026\n",
       "..        ...    ...       ...\n",
       "995 -1.556872  False -2.870455\n",
       "996 -2.466739  False -6.340582\n",
       "997 -1.168171  False -2.185424\n",
       "998  1.531933   True  9.351525\n",
       "999 -0.801391  False -2.232437\n",
       "\n",
       "[1000 rows x 3 columns]"
      ]
     },
     "execution_count": 2,
     "metadata": {},
     "output_type": "execute_result"
    }
   ],
   "source": [
    "data = dowhy.datasets.linear_dataset(beta=5,\n",
    "        num_common_causes=1,\n",
    "        num_instruments = 0,\n",
    "        num_samples=1000,\n",
    "        treatment_is_binary=True)\n",
    "df = data['df']\n",
    "df['y'] = df['y'] + np.random.normal(size=len(df)) # Adding noise to data. Without noise, the variance in Y|X, Z is zero, and mcmc fails.\n",
    "nx_graph = build_graph_from_str(data[\"dot_graph\"])\n",
    "\n",
    "treatment= data[\"treatment_name\"][0]\n",
    "outcome = data[\"outcome_name\"][0]\n",
    "common_cause = data[\"common_causes_names\"][0]\n",
    "df"
   ]
  },
  {
   "cell_type": "code",
   "execution_count": 3,
   "metadata": {
    "execution": {
     "iopub.execute_input": "2023-12-11T19:14:43.887553Z",
     "iopub.status.busy": "2023-12-11T19:14:43.887368Z",
     "iopub.status.idle": "2023-12-11T19:14:44.062039Z",
     "shell.execute_reply": "2023-12-11T19:14:44.061433Z"
    },
    "scrolled": true
   },
   "outputs": [
    {
     "data": {
      "text/plain": [
       "<Axes: xlabel='v0'>"
      ]
     },
     "execution_count": 3,
     "metadata": {},
     "output_type": "execute_result"
    },
    {
     "data": {
      "image/png": "[encoded data removed]",
      "text/plain": [
       "<Figure size 640x480 with 1 Axes>"
      ]
     },
     "metadata": {},
     "output_type": "display_data"
    }
   ],
   "source": [
    "# data['df'] is just a regular pandas.DataFrame\n",
    "df.causal.do(x=treatment,\n",
    "             variable_types={treatment: 'b', outcome: 'c', common_cause: 'c'},\n",
    "             outcome=outcome,\n",
    "             common_causes=[common_cause],\n",
    "            ).groupby(treatment).mean().plot(y=outcome, kind='bar')"
   ]
  },
  {
   "cell_type": "code",
   "execution_count": 4,
   "metadata": {
    "execution": {
     "iopub.execute_input": "2023-12-11T19:14:44.064454Z",
     "iopub.status.busy": "2023-12-11T19:14:44.064056Z",
     "iopub.status.idle": "2023-12-11T19:14:44.176901Z",
     "shell.execute_reply": "2023-12-11T19:14:44.176272Z"
    }
   },
   "outputs": [
    {
     "data": {
      "text/plain": [
       "<Axes: xlabel='v0'>"
      ]
     },
     "execution_count": 4,
     "metadata": {},
     "output_type": "execute_result"
    },
    {
     "data": {
      "image/png": "[encoded data removed]",
      "text/plain": [
       "<Figure size 640x480 with 1 Axes>"
      ]
     },
     "metadata": {},
     "output_type": "display_data"
    }
   ],
   "source": [
    "df.causal.do(x={treatment: 1}, \n",
    "              variable_types={treatment:'b', outcome: 'c', common_cause: 'c'}, \n",
    "              outcome=outcome,\n",
    "              method='weighting', \n",
    "              common_causes=[common_cause]\n",
    "              ).groupby(treatment).mean().plot(y=outcome, kind='bar')"
   ]
  },
  {
   "cell_type": "code",
   "execution_count": 5,
   "metadata": {
    "execution": {
     "iopub.execute_input": "2023-12-11T19:14:44.179102Z",
     "iopub.status.busy": "2023-12-11T19:14:44.178922Z",
     "iopub.status.idle": "2023-12-11T19:14:44.199430Z",
     "shell.execute_reply": "2023-12-11T19:14:44.198843Z"
    }
   },
   "outputs": [],
   "source": [
    "cdf_1 = df.causal.do(x={treatment: 1}, \n",
    "              variable_types={treatment: 'b', outcome: 'c', common_cause: 'c'}, \n",
    "              outcome=outcome, \n",
    "              graph=nx_graph\n",
    "              )\n",
    "\n",
    "cdf_0 = df.causal.do(x={treatment: 0}, \n",
    "              variable_types={treatment: 'b', outcome: 'c', common_cause: 'c'}, \n",
    "              outcome=outcome, \n",
    "              graph=nx_graph\n",
    "              )\n"
   ]
  },
  {
   "cell_type": "code",
   "execution_count": 6,
   "metadata": {
    "execution": {
     "iopub.execute_input": "2023-12-11T19:14:44.201665Z",
     "iopub.status.busy": "2023-12-11T19:14:44.201490Z",
     "iopub.status.idle": "2023-12-11T19:14:44.210226Z",
     "shell.execute_reply": "2023-12-11T19:14:44.209751Z"
    },
    "scrolled": true
   },
   "outputs": [
    {
     "data": {
      "text/html": [
       "<div>\n",
       "<style scoped>\n",
       "    .dataframe tbody tr th:only-of-type {\n",
       "        vertical-align: middle;\n",
       "    }\n",
       "\n",
       "    .dataframe tbody tr th {\n",
       "        vertical-align: top;\n",
       "    }\n",
       "\n",
       "    .dataframe thead th {\n",
       "        text-align: right;\n",
       "    }\n",
       "</style>\n",
       "<table border=\"1\" class=\"dataframe\">\n",
       "  <thead>\n",
       "    <tr style=\"text-align: right;\">\n",
       "      <th></th>\n",
       "      <th>W0</th>\n",
       "      <th>v0</th>\n",
       "      <th>y</th>\n",
       "      <th>propensity_score</th>\n",
       "      <th>weight</th>\n",
       "    </tr>\n",
       "  </thead>\n",
       "  <tbody>\n",
       "    <tr>\n",
       "      <th>0</th>\n",
       "      <td>-0.223670</td>\n",
       "      <td>False</td>\n",
       "      <td>-1.601517</td>\n",
       "      <td>0.575923</td>\n",
       "      <td>1.736342</td>\n",
       "    </tr>\n",
       "    <tr>\n",
       "      <th>1</th>\n",
       "      <td>0.964271</td>\n",
       "      <td>False</td>\n",
       "      <td>3.069759</td>\n",
       "      <td>0.232332</td>\n",
       "      <td>4.304178</td>\n",
       "    </tr>\n",
       "    <tr>\n",
       "      <th>2</th>\n",
       "      <td>-0.455364</td>\n",
       "      <td>False</td>\n",
       "      <td>-0.832242</td>\n",
       "      <td>0.645396</td>\n",
       "      <td>1.549437</td>\n",
       "    </tr>\n",
       "    <tr>\n",
       "      <th>3</th>\n",
       "      <td>0.779032</td>\n",
       "      <td>False</td>\n",
       "      <td>-0.273321</td>\n",
       "      <td>0.276659</td>\n",
       "      <td>3.614554</td>\n",
       "    </tr>\n",
       "    <tr>\n",
       "      <th>4</th>\n",
       "      <td>-0.837801</td>\n",
       "      <td>False</td>\n",
       "      <td>-0.271020</td>\n",
       "      <td>0.746903</td>\n",
       "      <td>1.338862</td>\n",
       "    </tr>\n",
       "    <tr>\n",
       "      <th>...</th>\n",
       "      <td>...</td>\n",
       "      <td>...</td>\n",
       "      <td>...</td>\n",
       "      <td>...</td>\n",
       "      <td>...</td>\n",
       "    </tr>\n",
       "    <tr>\n",
       "      <th>995</th>\n",
       "      <td>-2.079971</td>\n",
       "      <td>False</td>\n",
       "      <td>-5.226434</td>\n",
       "      <td>0.934131</td>\n",
       "      <td>1.070514</td>\n",
       "    </tr>\n",
       "    <tr>\n",
       "      <th>996</th>\n",
       "      <td>-0.541406</td>\n",
       "      <td>False</td>\n",
       "      <td>-0.369385</td>\n",
       "      <td>0.669870</td>\n",
       "      <td>1.492827</td>\n",
       "    </tr>\n",
       "    <tr>\n",
       "      <th>997</th>\n",
       "      <td>1.001796</td>\n",
       "      <td>False</td>\n",
       "      <td>3.765739</td>\n",
       "      <td>0.223982</td>\n",
       "      <td>4.464643</td>\n",
       "    </tr>\n",
       "    <tr>\n",
       "      <th>998</th>\n",
       "      <td>0.431975</td>\n",
       "      <td>False</td>\n",
       "      <td>0.227247</td>\n",
       "      <td>0.372267</td>\n",
       "      <td>2.686245</td>\n",
       "    </tr>\n",
       "    <tr>\n",
       "      <th>999</th>\n",
       "      <td>-0.330726</td>\n",
       "      <td>False</td>\n",
       "      <td>0.457332</td>\n",
       "      <td>0.608581</td>\n",
       "      <td>1.643167</td>\n",
       "    </tr>\n",
       "  </tbody>\n",
       "</table>\n",
       "<p>1000 rows × 5 columns</p>\n",
       "</div>"
      ],
      "text/plain": [
       "           W0     v0         y  propensity_score    weight\n",
       "0   -0.223670  False -1.601517          0.575923  1.736342\n",
       "1    0.964271  False  3.069759          0.232332  4.304178\n",
       "2   -0.455364  False -0.832242          0.645396  1.549437\n",
       "3    0.779032  False -0.273321          0.276659  3.614554\n",
       "4   -0.837801  False -0.271020          0.746903  1.338862\n",
       "..        ...    ...       ...               ...       ...\n",
       "995 -2.079971  False -5.226434          0.934131  1.070514\n",
       "996 -0.541406  False -0.369385          0.669870  1.492827\n",
       "997  1.001796  False  3.765739          0.223982  4.464643\n",
       "998  0.431975  False  0.227247          0.372267  2.686245\n",
       "999 -0.330726  False  0.457332          0.608581  1.643167\n",
       "\n",
       "[1000 rows x 5 columns]"
      ]
     },
     "execution_count": 6,
     "metadata": {},
     "output_type": "execute_result"
    }
   ],
   "source": [
    "cdf_0"
   ]
  },
  {
   "cell_type": "code",
   "execution_count": 7,
   "metadata": {
    "execution": {
     "iopub.execute_input": "2023-12-11T19:14:44.212252Z",
     "iopub.status.busy": "2023-12-11T19:14:44.212077Z",
     "iopub.status.idle": "2023-12-11T19:14:44.220397Z",
     "shell.execute_reply": "2023-12-11T19:14:44.219851Z"
    }
   },
   "outputs": [
    {
     "data": {
      "text/html": [
       "<div>\n",
       "<style scoped>\n",
       "    .dataframe tbody tr th:only-of-type {\n",
       "        vertical-align: middle;\n",
       "    }\n",
       "\n",
       "    .dataframe tbody tr th {\n",
       "        vertical-align: top;\n",
       "    }\n",
       "\n",
       "    .dataframe thead th {\n",
       "        text-align: right;\n",
       "    }\n",
       "</style>\n",
       "<table border=\"1\" class=\"dataframe\">\n",
       "  <thead>\n",
       "    <tr style=\"text-align: right;\">\n",
       "      <th></th>\n",
       "      <th>W0</th>\n",
       "      <th>v0</th>\n",
       "      <th>y</th>\n",
       "      <th>propensity_score</th>\n",
       "      <th>weight</th>\n",
       "    </tr>\n",
       "  </thead>\n",
       "  <tbody>\n",
       "    <tr>\n",
       "      <th>0</th>\n",
       "      <td>-1.110835</td>\n",
       "      <td>True</td>\n",
       "      <td>-0.072114</td>\n",
       "      <td>0.193534</td>\n",
       "      <td>5.167042</td>\n",
       "    </tr>\n",
       "    <tr>\n",
       "      <th>1</th>\n",
       "      <td>-1.991549</td>\n",
       "      <td>True</td>\n",
       "      <td>0.089370</td>\n",
       "      <td>0.073088</td>\n",
       "      <td>13.682195</td>\n",
       "    </tr>\n",
       "    <tr>\n",
       "      <th>2</th>\n",
       "      <td>-0.660857</td>\n",
       "      <td>True</td>\n",
       "      <td>4.490841</td>\n",
       "      <td>0.297642</td>\n",
       "      <td>3.359740</td>\n",
       "    </tr>\n",
       "    <tr>\n",
       "      <th>3</th>\n",
       "      <td>-1.803182</td>\n",
       "      <td>True</td>\n",
       "      <td>1.030242</td>\n",
       "      <td>0.090945</td>\n",
       "      <td>10.995674</td>\n",
       "    </tr>\n",
       "    <tr>\n",
       "      <th>4</th>\n",
       "      <td>-1.775956</td>\n",
       "      <td>True</td>\n",
       "      <td>0.356981</td>\n",
       "      <td>0.093830</td>\n",
       "      <td>10.657606</td>\n",
       "    </tr>\n",
       "    <tr>\n",
       "      <th>...</th>\n",
       "      <td>...</td>\n",
       "      <td>...</td>\n",
       "      <td>...</td>\n",
       "      <td>...</td>\n",
       "      <td>...</td>\n",
       "    </tr>\n",
       "    <tr>\n",
       "      <th>995</th>\n",
       "      <td>0.426622</td>\n",
       "      <td>True</td>\n",
       "      <td>7.576351</td>\n",
       "      <td>0.626151</td>\n",
       "      <td>1.597059</td>\n",
       "    </tr>\n",
       "    <tr>\n",
       "      <th>996</th>\n",
       "      <td>0.135862</td>\n",
       "      <td>True</td>\n",
       "      <td>4.701648</td>\n",
       "      <td>0.537006</td>\n",
       "      <td>1.862177</td>\n",
       "    </tr>\n",
       "    <tr>\n",
       "      <th>997</th>\n",
       "      <td>1.049072</td>\n",
       "      <td>True</td>\n",
       "      <td>7.725489</td>\n",
       "      <td>0.786231</td>\n",
       "      <td>1.271891</td>\n",
       "    </tr>\n",
       "    <tr>\n",
       "      <th>998</th>\n",
       "      <td>-0.076694</td>\n",
       "      <td>True</td>\n",
       "      <td>5.171246</td>\n",
       "      <td>0.469956</td>\n",
       "      <td>2.127858</td>\n",
       "    </tr>\n",
       "    <tr>\n",
       "      <th>999</th>\n",
       "      <td>-0.877814</td>\n",
       "      <td>True</td>\n",
       "      <td>3.572738</td>\n",
       "      <td>0.243658</td>\n",
       "      <td>4.104113</td>\n",
       "    </tr>\n",
       "  </tbody>\n",
       "</table>\n",
       "<p>1000 rows × 5 columns</p>\n",
       "</div>"
      ],
      "text/plain": [
       "           W0    v0         y  propensity_score     weight\n",
       "0   -1.110835  True -0.072114          0.193534   5.167042\n",
       "1   -1.991549  True  0.089370          0.073088  13.682195\n",
       "2   -0.660857  True  4.490841          0.297642   3.359740\n",
       "3   -1.803182  True  1.030242          0.090945  10.995674\n",
       "4   -1.775956  True  0.356981          0.093830  10.657606\n",
       "..        ...   ...       ...               ...        ...\n",
       "995  0.426622  True  7.576351          0.626151   1.597059\n",
       "996  0.135862  True  4.701648          0.537006   1.862177\n",
       "997  1.049072  True  7.725489          0.786231   1.271891\n",
       "998 -0.076694  True  5.171246          0.469956   2.127858\n",
       "999 -0.877814  True  3.572738          0.243658   4.104113\n",
       "\n",
       "[1000 rows x 5 columns]"
      ]
     },
     "execution_count": 7,
     "metadata": {},
     "output_type": "execute_result"
    }
   ],
   "source": [
    "cdf_1"
   ]
  },
  {
   "cell_type": "markdown",
   "metadata": {},
   "source": [
    "## Comparing the estimate to Linear Regression\n",
    "First, estimating the effect using the causal data frame, and the 95% confidence interval."
   ]
  },
  {
   "cell_type": "code",
   "execution_count": 8,
   "metadata": {
    "execution": {
     "iopub.execute_input": "2023-12-11T19:14:44.222460Z",
     "iopub.status.busy": "2023-12-11T19:14:44.222287Z",
     "iopub.status.idle": "2023-12-11T19:14:44.352507Z",
     "shell.execute_reply": "2023-12-11T19:14:44.351859Z"
    }
   },
   "outputs": [
    {
     "data": {
      "image/png": "[encoded data removed]",
      "text/latex": [
       "$\\displaystyle 4.98780278812775$"
      ],
      "text/plain": [
       "4.9878027881277465"
      ]
     },
     "execution_count": 8,
     "metadata": {},
     "output_type": "execute_result"
    }
   ],
   "source": [
    "(cdf_1['y'] - cdf_0['y']).mean()"
   ]
  },
  {
   "cell_type": "code",
   "execution_count": 9,
   "metadata": {
    "execution": {
     "iopub.execute_input": "2023-12-11T19:14:44.354758Z",
     "iopub.status.busy": "2023-12-11T19:14:44.354568Z",
     "iopub.status.idle": "2023-12-11T19:14:44.371661Z",
     "shell.execute_reply": "2023-12-11T19:14:44.371151Z"
    }
   },
   "outputs": [
    {
     "data": {
      "image/png": "[encoded data removed]",
      "text/latex": [
       "$\\displaystyle 0.231035897763051$"
      ],
      "text/plain": [
       "0.2310358977630506"
      ]
     },
     "execution_count": 9,
     "metadata": {},
     "output_type": "execute_result"
    }
   ],
   "source": [
    "1.96*(cdf_1['y'] - cdf_0['y']).std() / np.sqrt(len(df))"
   ]
  },
  {
   "cell_type": "markdown",
   "metadata": {},
   "source": [
    "Comparing to the estimate from OLS."
   ]
  },
  {
   "cell_type": "code",
   "execution_count": 10,
   "metadata": {
    "execution": {
     "iopub.execute_input": "2023-12-11T19:14:44.373714Z",
     "iopub.status.busy": "2023-12-11T19:14:44.373538Z",
     "iopub.status.idle": "2023-12-11T19:14:44.390044Z",
     "shell.execute_reply": "2023-12-11T19:14:44.389529Z"
    }
   },
   "outputs": [
    {
     "data": {
      "text/html": [
       "<table class=\"simpletable\">\n",
       "<caption>OLS Regression Results</caption>\n",
       "<tr>\n",
       "  <th>Dep. Variable:</th>            <td>y</td>        <th>  R-squared (uncentered):</th>      <td>   0.949</td>\n",
       "</tr>\n",
       "<tr>\n",
       "  <th>Model:</th>                   <td>OLS</td>       <th>  Adj. R-squared (uncentered):</th> <td>   0.949</td>\n",
       "</tr>\n",
       "<tr>\n",
       "  <th>Method:</th>             <td>Least Squares</td>  <th>  F-statistic:       </th>          <td>   9234.</td>\n",
       "</tr>\n",
       "<tr>\n",
       "  <th>Date:</th>             <td>Mon, 11 Dec 2023</td> <th>  Prob (F-statistic):</th>           <td>  0.00</td> \n",
       "</tr>\n",
       "<tr>\n",
       "  <th>Time:</th>                 <td>19:14:44</td>     <th>  Log-Likelihood:    </th>          <td> -1378.0</td>\n",
       "</tr>\n",
       "<tr>\n",
       "  <th>No. Observations:</th>      <td>  1000</td>      <th>  AIC:               </th>          <td>   2760.</td>\n",
       "</tr>\n",
       "<tr>\n",
       "  <th>Df Residuals:</th>          <td>   998</td>      <th>  BIC:               </th>          <td>   2770.</td>\n",
       "</tr>\n",
       "<tr>\n",
       "  <th>Df Model:</th>              <td>     2</td>      <th>                     </th>              <td> </td>   \n",
       "</tr>\n",
       "<tr>\n",
       "  <th>Covariance Type:</th>      <td>nonrobust</td>    <th>                     </th>              <td> </td>   \n",
       "</tr>\n",
       "</table>\n",
       "<table class=\"simpletable\">\n",
       "<tr>\n",
       "   <td></td>     <th>coef</th>     <th>std err</th>      <th>t</th>      <th>P>|t|</th>  <th>[0.025</th>    <th>0.975]</th>  \n",
       "</tr>\n",
       "<tr>\n",
       "  <th>x1</th> <td>    2.3419</td> <td>    0.026</td> <td>   90.918</td> <td> 0.000</td> <td>    2.291</td> <td>    2.392</td>\n",
       "</tr>\n",
       "<tr>\n",
       "  <th>x2</th> <td>    5.0164</td> <td>    0.051</td> <td>   98.326</td> <td> 0.000</td> <td>    4.916</td> <td>    5.116</td>\n",
       "</tr>\n",
       "</table>\n",
       "<table class=\"simpletable\">\n",
       "<tr>\n",
       "  <th>Omnibus:</th>       <td> 4.083</td> <th>  Durbin-Watson:     </th> <td>   1.980</td>\n",
       "</tr>\n",
       "<tr>\n",
       "  <th>Prob(Omnibus):</th> <td> 0.130</td> <th>  Jarque-Bera (JB):  </th> <td>   3.989</td>\n",
       "</tr>\n",
       "<tr>\n",
       "  <th>Skew:</th>          <td>-0.121</td> <th>  Prob(JB):          </th> <td>   0.136</td>\n",
       "</tr>\n",
       "<tr>\n",
       "  <th>Kurtosis:</th>      <td> 2.808</td> <th>  Cond. No.          </th> <td>    1.98</td>\n",
       "</tr>\n",
       "</table><br/><br/>Notes:<br/>[1] R² is computed without centering (uncentered) since the model does not contain a constant.<br/>[2] Standard Errors assume that the covariance matrix of the errors is correctly specified."
      ],
      "text/latex": [
       "\\begin{center}\n",
       "\\begin{tabular}{lclc}\n",
       "\\toprule\n",
       "\\textbf{Dep. Variable:}    &        y         & \\textbf{  R-squared (uncentered):}      &     0.949   \\\\\n",
       "\\textbf{Model:}            &       OLS        & \\textbf{  Adj. R-squared (uncentered):} &     0.949   \\\\\n",
       "\\textbf{Method:}           &  Least Squares   & \\textbf{  F-statistic:       }          &     9234.   \\\\\n",
       "\\textbf{Date:}             & Mon, 11 Dec 2023 & \\textbf{  Prob (F-statistic):}          &     0.00    \\\\\n",
       "\\textbf{Time:}             &     19:14:44     & \\textbf{  Log-Likelihood:    }          &   -1378.0   \\\\\n",
       "\\textbf{No. Observations:} &        1000      & \\textbf{  AIC:               }          &     2760.   \\\\\n",
       "\\textbf{Df Residuals:}     &         998      & \\textbf{  BIC:               }          &     2770.   \\\\\n",
       "\\textbf{Df Model:}         &           2      & \\textbf{                     }          &             \\\\\n",
       "\\textbf{Covariance Type:}  &    nonrobust     & \\textbf{                     }          &             \\\\\n",
       "\\bottomrule\n",
       "\\end{tabular}\n",
       "\\begin{tabular}{lcccccc}\n",
       "            & \\textbf{coef} & \\textbf{std err} & \\textbf{t} & \\textbf{P$> |$t$|$} & \\textbf{[0.025} & \\textbf{0.975]}  \\\\\n",
       "\\midrule\n",
       "\\textbf{x1} &       2.3419  &        0.026     &    90.918  &         0.000        &        2.291    &        2.392     \\\\\n",
       "\\textbf{x2} &       5.0164  &        0.051     &    98.326  &         0.000        &        4.916    &        5.116     \\\\\n",
       "\\bottomrule\n",
       "\\end{tabular}\n",
       "\\begin{tabular}{lclc}\n",
       "\\textbf{Omnibus:}       &  4.083 & \\textbf{  Durbin-Watson:     } &    1.980  \\\\\n",
       "\\textbf{Prob(Omnibus):} &  0.130 & \\textbf{  Jarque-Bera (JB):  } &    3.989  \\\\\n",
       "\\textbf{Skew:}          & -0.121 & \\textbf{  Prob(JB):          } &    0.136  \\\\\n",
       "\\textbf{Kurtosis:}      &  2.808 & \\textbf{  Cond. No.          } &     1.98  \\\\\n",
       "\\bottomrule\n",
       "\\end{tabular}\n",
       "%\\caption{OLS Regression Results}\n",
       "\\end{center}\n",
       "\n",
       "Notes: \\newline\n",
       " [1] R² is computed without centering (uncentered) since the model does not contain a constant. \\newline\n",
       " [2] Standard Errors assume that the covariance matrix of the errors is correctly specified."
      ],
      "text/plain": [
       "<class 'statsmodels.iolib.summary.Summary'>\n",
       "\"\"\"\n",
       "                                 OLS Regression Results                                \n",
       "=======================================================================================\n",
       "Dep. Variable:                      y   R-squared (uncentered):                   0.949\n",
       "Model:                            OLS   Adj. R-squared (uncentered):              0.949\n",
       "Method:                 Least Squares   F-statistic:                              9234.\n",
       "Date:                Mon, 11 Dec 2023   Prob (F-statistic):                        0.00\n",
       "Time:                        19:14:44   Log-Likelihood:                         -1378.0\n",
       "No. Observations:                1000   AIC:                                      2760.\n",
       "Df Residuals:                     998   BIC:                                      2770.\n",
       "Df Model:                           2                                                  \n",
       "Covariance Type:            nonrobust                                                  \n",
       "==============================================================================\n",
       "                 coef    std err          t      P>|t|      [0.025      0.975]\n",
       "------------------------------------------------------------------------------\n",
       "x1             2.3419      0.026     90.918      0.000       2.291       2.392\n",
       "x2             5.0164      0.051     98.326      0.000       4.916       5.116\n",
       "==============================================================================\n",
       "Omnibus:                        4.083   Durbin-Watson:                   1.980\n",
       "Prob(Omnibus):                  0.130   Jarque-Bera (JB):                3.989\n",
       "Skew:                          -0.121   Prob(JB):                        0.136\n",
       "Kurtosis:                       2.808   Cond. No.                         1.98\n",
       "==============================================================================\n",
       "\n",
       "Notes:\n",
       "[1] R² is computed without centering (uncentered) since the model does not contain a constant.\n",
       "[2] Standard Errors assume that the covariance matrix of the errors is correctly specified.\n",
       "\"\"\""
      ]
     },
     "execution_count": 10,
     "metadata": {},
     "output_type": "execute_result"
    }
   ],
   "source": [
    "model = OLS(np.asarray(df[outcome]), np.asarray(df[[common_cause, treatment]], dtype=np.float64))\n",
    "result = model.fit()\n",
    "result.summary()"
   ]
  }
 ],
 "metadata": {
  "kernelspec": {
   "display_name": "Python 3 (ipykernel)",
   "language": "python",
   "name": "python3"
  },
  "language_info": {
   "codemirror_mode": {
    "name": "ipython",
    "version": 3
   },
   "file_extension": ".py",
   "mimetype": "text/x-python",
   "name": "python",
   "nbconvert_exporter": "python",
   "pygments_lexer": "ipython3",
   "version": "3.8.10"
  },
  "toc": {
   "base_numbering": 1,
   "nav_menu": {},
   "number_sections": false,
   "sideBar": true,
   "skip_h1_title": true,
   "title_cell": "Table of Contents",
   "title_sidebar": "Contents",
   "toc_cell": false,
   "toc_position": {},
   "toc_section_display": true,
   "toc_window_display": false
  }
 },
 "nbformat": 4,
 "nbformat_minor": 4
}
