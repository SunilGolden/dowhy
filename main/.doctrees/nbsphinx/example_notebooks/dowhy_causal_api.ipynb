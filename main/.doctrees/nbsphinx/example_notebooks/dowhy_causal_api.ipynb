{
 "cells": [
  {
   "cell_type": "markdown",
   "metadata": {},
   "source": [
    "# Demo for the DoWhy causal API\n",
    "We show a simple example of adding a causal extension to any dataframe. "
   ]
  },
  {
   "cell_type": "code",
   "execution_count": 1,
   "metadata": {
    "execution": {
     "iopub.execute_input": "2023-02-07T02:51:23.497925Z",
     "iopub.status.busy": "2023-02-07T02:51:23.497539Z",
     "iopub.status.idle": "2023-02-07T02:51:25.181235Z",
     "shell.execute_reply": "2023-02-07T02:51:25.180486Z"
    }
   },
   "outputs": [],
   "source": [
    "import dowhy.datasets\n",
    "import dowhy.api\n",
    "\n",
    "import numpy as np\n",
    "import pandas as pd\n",
    "\n",
    "from statsmodels.api import OLS"
   ]
  },
  {
   "cell_type": "code",
   "execution_count": 2,
   "metadata": {
    "execution": {
     "iopub.execute_input": "2023-02-07T02:51:25.185766Z",
     "iopub.status.busy": "2023-02-07T02:51:25.185044Z",
     "iopub.status.idle": "2023-02-07T02:51:25.235924Z",
     "shell.execute_reply": "2023-02-07T02:51:25.234635Z"
    }
   },
   "outputs": [
    {
     "data": {
      "text/html": [
       "<div>\n",
       "<style scoped>\n",
       "    .dataframe tbody tr th:only-of-type {\n",
       "        vertical-align: middle;\n",
       "    }\n",
       "\n",
       "    .dataframe tbody tr th {\n",
       "        vertical-align: top;\n",
       "    }\n",
       "\n",
       "    .dataframe thead th {\n",
       "        text-align: right;\n",
       "    }\n",
       "</style>\n",
       "<table border=\"1\" class=\"dataframe\">\n",
       "  <thead>\n",
       "    <tr style=\"text-align: right;\">\n",
       "      <th></th>\n",
       "      <th>W0</th>\n",
       "      <th>v0</th>\n",
       "      <th>y</th>\n",
       "    </tr>\n",
       "  </thead>\n",
       "  <tbody>\n",
       "    <tr>\n",
       "      <th>0</th>\n",
       "      <td>0.202000</td>\n",
       "      <td>False</td>\n",
       "      <td>-0.913144</td>\n",
       "    </tr>\n",
       "    <tr>\n",
       "      <th>1</th>\n",
       "      <td>1.164239</td>\n",
       "      <td>True</td>\n",
       "      <td>5.180507</td>\n",
       "    </tr>\n",
       "    <tr>\n",
       "      <th>2</th>\n",
       "      <td>-0.386032</td>\n",
       "      <td>False</td>\n",
       "      <td>0.104766</td>\n",
       "    </tr>\n",
       "    <tr>\n",
       "      <th>3</th>\n",
       "      <td>0.449098</td>\n",
       "      <td>False</td>\n",
       "      <td>-0.547419</td>\n",
       "    </tr>\n",
       "    <tr>\n",
       "      <th>4</th>\n",
       "      <td>0.112772</td>\n",
       "      <td>True</td>\n",
       "      <td>5.069512</td>\n",
       "    </tr>\n",
       "    <tr>\n",
       "      <th>...</th>\n",
       "      <td>...</td>\n",
       "      <td>...</td>\n",
       "      <td>...</td>\n",
       "    </tr>\n",
       "    <tr>\n",
       "      <th>995</th>\n",
       "      <td>-1.033002</td>\n",
       "      <td>False</td>\n",
       "      <td>-1.424782</td>\n",
       "    </tr>\n",
       "    <tr>\n",
       "      <th>996</th>\n",
       "      <td>-0.455437</td>\n",
       "      <td>False</td>\n",
       "      <td>-0.765626</td>\n",
       "    </tr>\n",
       "    <tr>\n",
       "      <th>997</th>\n",
       "      <td>-0.653236</td>\n",
       "      <td>True</td>\n",
       "      <td>3.550977</td>\n",
       "    </tr>\n",
       "    <tr>\n",
       "      <th>998</th>\n",
       "      <td>0.077006</td>\n",
       "      <td>False</td>\n",
       "      <td>3.405825</td>\n",
       "    </tr>\n",
       "    <tr>\n",
       "      <th>999</th>\n",
       "      <td>-1.940336</td>\n",
       "      <td>False</td>\n",
       "      <td>-1.600425</td>\n",
       "    </tr>\n",
       "  </tbody>\n",
       "</table>\n",
       "<p>1000 rows × 3 columns</p>\n",
       "</div>"
      ],
      "text/plain": [
       "           W0     v0         y\n",
       "0    0.202000  False -0.913144\n",
       "1    1.164239   True  5.180507\n",
       "2   -0.386032  False  0.104766\n",
       "3    0.449098  False -0.547419\n",
       "4    0.112772   True  5.069512\n",
       "..        ...    ...       ...\n",
       "995 -1.033002  False -1.424782\n",
       "996 -0.455437  False -0.765626\n",
       "997 -0.653236   True  3.550977\n",
       "998  0.077006  False  3.405825\n",
       "999 -1.940336  False -1.600425\n",
       "\n",
       "[1000 rows x 3 columns]"
      ]
     },
     "execution_count": 2,
     "metadata": {},
     "output_type": "execute_result"
    }
   ],
   "source": [
    "data = dowhy.datasets.linear_dataset(beta=5,\n",
    "        num_common_causes=1,\n",
    "        num_instruments = 0,\n",
    "        num_samples=1000,\n",
    "        treatment_is_binary=True)\n",
    "df = data['df']\n",
    "df['y'] = df['y'] + np.random.normal(size=len(df)) # Adding noise to data. Without noise, the variance in Y|X, Z is zero, and mcmc fails.\n",
    "#data['dot_graph'] = 'digraph { v ->y;X0-> v;X0-> y;}'\n",
    "\n",
    "treatment= data[\"treatment_name\"][0]\n",
    "outcome = data[\"outcome_name\"][0]\n",
    "common_cause = data[\"common_causes_names\"][0]\n",
    "df"
   ]
  },
  {
   "cell_type": "code",
   "execution_count": 3,
   "metadata": {
    "execution": {
     "iopub.execute_input": "2023-02-07T02:51:25.239048Z",
     "iopub.status.busy": "2023-02-07T02:51:25.238649Z",
     "iopub.status.idle": "2023-02-07T02:51:25.505337Z",
     "shell.execute_reply": "2023-02-07T02:51:25.504009Z"
    }
   },
   "outputs": [
    {
     "data": {
      "text/plain": [
       "<AxesSubplot: xlabel='v0'>"
      ]
     },
     "execution_count": 3,
     "metadata": {},
     "output_type": "execute_result"
    },
    {
     "data": {
      "image/png": "[encoded data removed]",
      "text/plain": [
       "<Figure size 640x480 with 1 Axes>"
      ]
     },
     "metadata": {},
     "output_type": "display_data"
    }
   ],
   "source": [
    "# data['df'] is just a regular pandas.DataFrame\n",
    "df.causal.do(x=treatment,\n",
    "                     variable_types={treatment: 'b', outcome: 'c', common_cause: 'c'},\n",
    "                     outcome=outcome,\n",
    "                     common_causes=[common_cause],\n",
    "                     proceed_when_unidentifiable=True).groupby(treatment).mean().plot(y=outcome, kind='bar')"
   ]
  },
  {
   "cell_type": "code",
   "execution_count": 4,
   "metadata": {
    "execution": {
     "iopub.execute_input": "2023-02-07T02:51:25.508392Z",
     "iopub.status.busy": "2023-02-07T02:51:25.508156Z",
     "iopub.status.idle": "2023-02-07T02:51:25.624735Z",
     "shell.execute_reply": "2023-02-07T02:51:25.624196Z"
    }
   },
   "outputs": [
    {
     "data": {
      "text/plain": [
       "<AxesSubplot: xlabel='v0'>"
      ]
     },
     "execution_count": 4,
     "metadata": {},
     "output_type": "execute_result"
    },
    {
     "data": {
      "image/png": "[encoded data removed]",
      "text/plain": [
       "<Figure size 640x480 with 1 Axes>"
      ]
     },
     "metadata": {},
     "output_type": "display_data"
    }
   ],
   "source": [
    "df.causal.do(x={treatment: 1}, \n",
    "              variable_types={treatment:'b', outcome: 'c', common_cause: 'c'}, \n",
    "              outcome=outcome,\n",
    "              method='weighting', \n",
    "              common_causes=[common_cause],\n",
    "              proceed_when_unidentifiable=True).groupby(treatment).mean().plot(y=outcome, kind='bar')"
   ]
  },
  {
   "cell_type": "code",
   "execution_count": 5,
   "metadata": {
    "execution": {
     "iopub.execute_input": "2023-02-07T02:51:25.627812Z",
     "iopub.status.busy": "2023-02-07T02:51:25.627394Z",
     "iopub.status.idle": "2023-02-07T02:51:25.657950Z",
     "shell.execute_reply": "2023-02-07T02:51:25.657210Z"
    }
   },
   "outputs": [],
   "source": [
    "cdf_1 = df.causal.do(x={treatment: 1}, \n",
    "              variable_types={treatment: 'b', outcome: 'c', common_cause: 'c'}, \n",
    "              outcome=outcome, \n",
    "              dot_graph=data['dot_graph'],\n",
    "              proceed_when_unidentifiable=True)\n",
    "\n",
    "cdf_0 = df.causal.do(x={treatment: 0}, \n",
    "              variable_types={treatment: 'b', outcome: 'c', common_cause: 'c'}, \n",
    "              outcome=outcome, \n",
    "              dot_graph=data['dot_graph'],\n",
    "              proceed_when_unidentifiable=True)\n"
   ]
  },
  {
   "cell_type": "code",
   "execution_count": 6,
   "metadata": {
    "execution": {
     "iopub.execute_input": "2023-02-07T02:51:25.660937Z",
     "iopub.status.busy": "2023-02-07T02:51:25.660538Z",
     "iopub.status.idle": "2023-02-07T02:51:25.670620Z",
     "shell.execute_reply": "2023-02-07T02:51:25.670127Z"
    },
    "scrolled": true
   },
   "outputs": [
    {
     "data": {
      "text/html": [
       "<div>\n",
       "<style scoped>\n",
       "    .dataframe tbody tr th:only-of-type {\n",
       "        vertical-align: middle;\n",
       "    }\n",
       "\n",
       "    .dataframe tbody tr th {\n",
       "        vertical-align: top;\n",
       "    }\n",
       "\n",
       "    .dataframe thead th {\n",
       "        text-align: right;\n",
       "    }\n",
       "</style>\n",
       "<table border=\"1\" class=\"dataframe\">\n",
       "  <thead>\n",
       "    <tr style=\"text-align: right;\">\n",
       "      <th></th>\n",
       "      <th>W0</th>\n",
       "      <th>v0</th>\n",
       "      <th>y</th>\n",
       "      <th>propensity_score</th>\n",
       "      <th>weight</th>\n",
       "    </tr>\n",
       "  </thead>\n",
       "  <tbody>\n",
       "    <tr>\n",
       "      <th>0</th>\n",
       "      <td>-0.059777</td>\n",
       "      <td>False</td>\n",
       "      <td>0.297706</td>\n",
       "      <td>0.586919</td>\n",
       "      <td>1.703814</td>\n",
       "    </tr>\n",
       "    <tr>\n",
       "      <th>1</th>\n",
       "      <td>-0.477453</td>\n",
       "      <td>False</td>\n",
       "      <td>-1.265578</td>\n",
       "      <td>0.792234</td>\n",
       "      <td>1.262253</td>\n",
       "    </tr>\n",
       "    <tr>\n",
       "      <th>2</th>\n",
       "      <td>-1.448809</td>\n",
       "      <td>False</td>\n",
       "      <td>-2.684420</td>\n",
       "      <td>0.974277</td>\n",
       "      <td>1.026402</td>\n",
       "    </tr>\n",
       "    <tr>\n",
       "      <th>3</th>\n",
       "      <td>-0.229418</td>\n",
       "      <td>False</td>\n",
       "      <td>-1.977764</td>\n",
       "      <td>0.679657</td>\n",
       "      <td>1.471329</td>\n",
       "    </tr>\n",
       "    <tr>\n",
       "      <th>4</th>\n",
       "      <td>1.604191</td>\n",
       "      <td>False</td>\n",
       "      <td>3.757857</td>\n",
       "      <td>0.027076</td>\n",
       "      <td>36.932873</td>\n",
       "    </tr>\n",
       "    <tr>\n",
       "      <th>...</th>\n",
       "      <td>...</td>\n",
       "      <td>...</td>\n",
       "      <td>...</td>\n",
       "      <td>...</td>\n",
       "      <td>...</td>\n",
       "    </tr>\n",
       "    <tr>\n",
       "      <th>995</th>\n",
       "      <td>-0.007943</td>\n",
       "      <td>False</td>\n",
       "      <td>-0.642476</td>\n",
       "      <td>0.556934</td>\n",
       "      <td>1.795546</td>\n",
       "    </tr>\n",
       "    <tr>\n",
       "      <th>996</th>\n",
       "      <td>-0.013983</td>\n",
       "      <td>False</td>\n",
       "      <td>-0.356504</td>\n",
       "      <td>0.560454</td>\n",
       "      <td>1.784269</td>\n",
       "    </tr>\n",
       "    <tr>\n",
       "      <th>997</th>\n",
       "      <td>-1.221803</td>\n",
       "      <td>False</td>\n",
       "      <td>-0.475460</td>\n",
       "      <td>0.956800</td>\n",
       "      <td>1.045150</td>\n",
       "    </tr>\n",
       "    <tr>\n",
       "      <th>998</th>\n",
       "      <td>-0.997656</td>\n",
       "      <td>False</td>\n",
       "      <td>0.140287</td>\n",
       "      <td>0.928772</td>\n",
       "      <td>1.076690</td>\n",
       "    </tr>\n",
       "    <tr>\n",
       "      <th>999</th>\n",
       "      <td>1.343444</td>\n",
       "      <td>False</td>\n",
       "      <td>0.470966</td>\n",
       "      <td>0.049015</td>\n",
       "      <td>20.401736</td>\n",
       "    </tr>\n",
       "  </tbody>\n",
       "</table>\n",
       "<p>1000 rows × 5 columns</p>\n",
       "</div>"
      ],
      "text/plain": [
       "           W0     v0         y  propensity_score     weight\n",
       "0   -0.059777  False  0.297706          0.586919   1.703814\n",
       "1   -0.477453  False -1.265578          0.792234   1.262253\n",
       "2   -1.448809  False -2.684420          0.974277   1.026402\n",
       "3   -0.229418  False -1.977764          0.679657   1.471329\n",
       "4    1.604191  False  3.757857          0.027076  36.932873\n",
       "..        ...    ...       ...               ...        ...\n",
       "995 -0.007943  False -0.642476          0.556934   1.795546\n",
       "996 -0.013983  False -0.356504          0.560454   1.784269\n",
       "997 -1.221803  False -0.475460          0.956800   1.045150\n",
       "998 -0.997656  False  0.140287          0.928772   1.076690\n",
       "999  1.343444  False  0.470966          0.049015  20.401736\n",
       "\n",
       "[1000 rows x 5 columns]"
      ]
     },
     "execution_count": 6,
     "metadata": {},
     "output_type": "execute_result"
    }
   ],
   "source": [
    "cdf_0"
   ]
  },
  {
   "cell_type": "code",
   "execution_count": 7,
   "metadata": {
    "execution": {
     "iopub.execute_input": "2023-02-07T02:51:25.673204Z",
     "iopub.status.busy": "2023-02-07T02:51:25.672810Z",
     "iopub.status.idle": "2023-02-07T02:51:25.682240Z",
     "shell.execute_reply": "2023-02-07T02:51:25.681744Z"
    }
   },
   "outputs": [
    {
     "data": {
      "text/html": [
       "<div>\n",
       "<style scoped>\n",
       "    .dataframe tbody tr th:only-of-type {\n",
       "        vertical-align: middle;\n",
       "    }\n",
       "\n",
       "    .dataframe tbody tr th {\n",
       "        vertical-align: top;\n",
       "    }\n",
       "\n",
       "    .dataframe thead th {\n",
       "        text-align: right;\n",
       "    }\n",
       "</style>\n",
       "<table border=\"1\" class=\"dataframe\">\n",
       "  <thead>\n",
       "    <tr style=\"text-align: right;\">\n",
       "      <th></th>\n",
       "      <th>W0</th>\n",
       "      <th>v0</th>\n",
       "      <th>y</th>\n",
       "      <th>propensity_score</th>\n",
       "      <th>weight</th>\n",
       "    </tr>\n",
       "  </thead>\n",
       "  <tbody>\n",
       "    <tr>\n",
       "      <th>0</th>\n",
       "      <td>-0.298860</td>\n",
       "      <td>True</td>\n",
       "      <td>4.588363</td>\n",
       "      <td>0.285707</td>\n",
       "      <td>3.500092</td>\n",
       "    </tr>\n",
       "    <tr>\n",
       "      <th>1</th>\n",
       "      <td>1.352179</td>\n",
       "      <td>True</td>\n",
       "      <td>5.765816</td>\n",
       "      <td>0.951938</td>\n",
       "      <td>1.050489</td>\n",
       "    </tr>\n",
       "    <tr>\n",
       "      <th>2</th>\n",
       "      <td>-0.580260</td>\n",
       "      <td>True</td>\n",
       "      <td>5.709339</td>\n",
       "      <td>0.170592</td>\n",
       "      <td>5.861927</td>\n",
       "    </tr>\n",
       "    <tr>\n",
       "      <th>3</th>\n",
       "      <td>0.328725</td>\n",
       "      <td>True</td>\n",
       "      <td>6.397435</td>\n",
       "      <td>0.638073</td>\n",
       "      <td>1.567220</td>\n",
       "    </tr>\n",
       "    <tr>\n",
       "      <th>4</th>\n",
       "      <td>0.603849</td>\n",
       "      <td>True</td>\n",
       "      <td>6.399559</td>\n",
       "      <td>0.771585</td>\n",
       "      <td>1.296034</td>\n",
       "    </tr>\n",
       "    <tr>\n",
       "      <th>...</th>\n",
       "      <td>...</td>\n",
       "      <td>...</td>\n",
       "      <td>...</td>\n",
       "      <td>...</td>\n",
       "      <td>...</td>\n",
       "    </tr>\n",
       "    <tr>\n",
       "      <th>995</th>\n",
       "      <td>0.553379</td>\n",
       "      <td>True</td>\n",
       "      <td>5.659539</td>\n",
       "      <td>0.749884</td>\n",
       "      <td>1.333540</td>\n",
       "    </tr>\n",
       "    <tr>\n",
       "      <th>996</th>\n",
       "      <td>-0.675421</td>\n",
       "      <td>True</td>\n",
       "      <td>3.785424</td>\n",
       "      <td>0.141079</td>\n",
       "      <td>7.088214</td>\n",
       "    </tr>\n",
       "    <tr>\n",
       "      <th>997</th>\n",
       "      <td>0.576260</td>\n",
       "      <td>True</td>\n",
       "      <td>4.630885</td>\n",
       "      <td>0.759889</td>\n",
       "      <td>1.315981</td>\n",
       "    </tr>\n",
       "    <tr>\n",
       "      <th>998</th>\n",
       "      <td>-0.667866</td>\n",
       "      <td>True</td>\n",
       "      <td>4.592192</td>\n",
       "      <td>0.143257</td>\n",
       "      <td>6.980459</td>\n",
       "    </tr>\n",
       "    <tr>\n",
       "      <th>999</th>\n",
       "      <td>1.013025</td>\n",
       "      <td>True</td>\n",
       "      <td>5.607329</td>\n",
       "      <td>0.898839</td>\n",
       "      <td>1.112546</td>\n",
       "    </tr>\n",
       "  </tbody>\n",
       "</table>\n",
       "<p>1000 rows × 5 columns</p>\n",
       "</div>"
      ],
      "text/plain": [
       "           W0    v0         y  propensity_score    weight\n",
       "0   -0.298860  True  4.588363          0.285707  3.500092\n",
       "1    1.352179  True  5.765816          0.951938  1.050489\n",
       "2   -0.580260  True  5.709339          0.170592  5.861927\n",
       "3    0.328725  True  6.397435          0.638073  1.567220\n",
       "4    0.603849  True  6.399559          0.771585  1.296034\n",
       "..        ...   ...       ...               ...       ...\n",
       "995  0.553379  True  5.659539          0.749884  1.333540\n",
       "996 -0.675421  True  3.785424          0.141079  7.088214\n",
       "997  0.576260  True  4.630885          0.759889  1.315981\n",
       "998 -0.667866  True  4.592192          0.143257  6.980459\n",
       "999  1.013025  True  5.607329          0.898839  1.112546\n",
       "\n",
       "[1000 rows x 5 columns]"
      ]
     },
     "execution_count": 7,
     "metadata": {},
     "output_type": "execute_result"
    }
   ],
   "source": [
    "cdf_1"
   ]
  },
  {
   "cell_type": "markdown",
   "metadata": {},
   "source": [
    "## Comparing the estimate to Linear Regression\n",
    "First, estimating the effect using the causal data frame, and the 95% confidence interval."
   ]
  },
  {
   "cell_type": "code",
   "execution_count": 8,
   "metadata": {
    "execution": {
     "iopub.execute_input": "2023-02-07T02:51:25.684847Z",
     "iopub.status.busy": "2023-02-07T02:51:25.684455Z",
     "iopub.status.idle": "2023-02-07T02:51:25.740436Z",
     "shell.execute_reply": "2023-02-07T02:51:25.739729Z"
    }
   },
   "outputs": [
    {
     "data": {
      "image/png": "[encoded data removed]",
      "text/latex": [
       "$\\displaystyle 5.11407640559879$"
      ],
      "text/plain": [
       "5.114076405598786"
      ]
     },
     "execution_count": 8,
     "metadata": {},
     "output_type": "execute_result"
    }
   ],
   "source": [
    "(cdf_1['y'] - cdf_0['y']).mean()"
   ]
  },
  {
   "cell_type": "code",
   "execution_count": 9,
   "metadata": {
    "execution": {
     "iopub.execute_input": "2023-02-07T02:51:25.743497Z",
     "iopub.status.busy": "2023-02-07T02:51:25.743280Z",
     "iopub.status.idle": "2023-02-07T02:51:25.761906Z",
     "shell.execute_reply": "2023-02-07T02:51:25.761246Z"
    }
   },
   "outputs": [
    {
     "data": {
      "image/png": "[encoded data removed]",
      "text/latex": [
       "$\\displaystyle 0.11522606790837$"
      ],
      "text/plain": [
       "0.11522606790837034"
      ]
     },
     "execution_count": 9,
     "metadata": {},
     "output_type": "execute_result"
    }
   ],
   "source": [
    "1.96*(cdf_1['y'] - cdf_0['y']).std() / np.sqrt(len(df))"
   ]
  },
  {
   "cell_type": "markdown",
   "metadata": {},
   "source": [
    "Comparing to the estimate from OLS."
   ]
  },
  {
   "cell_type": "code",
   "execution_count": 10,
   "metadata": {
    "execution": {
     "iopub.execute_input": "2023-02-07T02:51:25.764672Z",
     "iopub.status.busy": "2023-02-07T02:51:25.764455Z",
     "iopub.status.idle": "2023-02-07T02:51:25.779685Z",
     "shell.execute_reply": "2023-02-07T02:51:25.779054Z"
    }
   },
   "outputs": [
    {
     "data": {
      "text/html": [
       "<table class=\"simpletable\">\n",
       "<caption>OLS Regression Results</caption>\n",
       "<tr>\n",
       "  <th>Dep. Variable:</th>            <td>y</td>        <th>  R-squared (uncentered):</th>      <td>   0.905</td>\n",
       "</tr>\n",
       "<tr>\n",
       "  <th>Model:</th>                   <td>OLS</td>       <th>  Adj. R-squared (uncentered):</th> <td>   0.905</td>\n",
       "</tr>\n",
       "<tr>\n",
       "  <th>Method:</th>             <td>Least Squares</td>  <th>  F-statistic:       </th>          <td>   4768.</td>\n",
       "</tr>\n",
       "<tr>\n",
       "  <th>Date:</th>             <td>Tue, 07 Feb 2023</td> <th>  Prob (F-statistic):</th>           <td>  0.00</td> \n",
       "</tr>\n",
       "<tr>\n",
       "  <th>Time:</th>                 <td>02:51:25</td>     <th>  Log-Likelihood:    </th>          <td> -1429.1</td>\n",
       "</tr>\n",
       "<tr>\n",
       "  <th>No. Observations:</th>      <td>  1000</td>      <th>  AIC:               </th>          <td>   2862.</td>\n",
       "</tr>\n",
       "<tr>\n",
       "  <th>Df Residuals:</th>          <td>   998</td>      <th>  BIC:               </th>          <td>   2872.</td>\n",
       "</tr>\n",
       "<tr>\n",
       "  <th>Df Model:</th>              <td>     2</td>      <th>                     </th>              <td> </td>   \n",
       "</tr>\n",
       "<tr>\n",
       "  <th>Covariance Type:</th>      <td>nonrobust</td>    <th>                     </th>              <td> </td>   \n",
       "</tr>\n",
       "</table>\n",
       "<table class=\"simpletable\">\n",
       "<tr>\n",
       "   <td></td>     <th>coef</th>     <th>std err</th>      <th>t</th>      <th>P>|t|</th>  <th>[0.025</th>    <th>0.975]</th>  \n",
       "</tr>\n",
       "<tr>\n",
       "  <th>x1</th> <td>    0.7548</td> <td>    0.030</td> <td>   25.298</td> <td> 0.000</td> <td>    0.696</td> <td>    0.813</td>\n",
       "</tr>\n",
       "<tr>\n",
       "  <th>x2</th> <td>    4.9116</td> <td>    0.057</td> <td>   86.021</td> <td> 0.000</td> <td>    4.800</td> <td>    5.024</td>\n",
       "</tr>\n",
       "</table>\n",
       "<table class=\"simpletable\">\n",
       "<tr>\n",
       "  <th>Omnibus:</th>       <td> 0.943</td> <th>  Durbin-Watson:     </th> <td>   1.944</td>\n",
       "</tr>\n",
       "<tr>\n",
       "  <th>Prob(Omnibus):</th> <td> 0.624</td> <th>  Jarque-Bera (JB):  </th> <td>   0.817</td>\n",
       "</tr>\n",
       "<tr>\n",
       "  <th>Skew:</th>          <td>-0.018</td> <th>  Prob(JB):          </th> <td>   0.665</td>\n",
       "</tr>\n",
       "<tr>\n",
       "  <th>Kurtosis:</th>      <td> 3.135</td> <th>  Cond. No.          </th> <td>    2.00</td>\n",
       "</tr>\n",
       "</table><br/><br/>Notes:<br/>[1] R² is computed without centering (uncentered) since the model does not contain a constant.<br/>[2] Standard Errors assume that the covariance matrix of the errors is correctly specified."
      ],
      "text/plain": [
       "<class 'statsmodels.iolib.summary.Summary'>\n",
       "\"\"\"\n",
       "                                 OLS Regression Results                                \n",
       "=======================================================================================\n",
       "Dep. Variable:                      y   R-squared (uncentered):                   0.905\n",
       "Model:                            OLS   Adj. R-squared (uncentered):              0.905\n",
       "Method:                 Least Squares   F-statistic:                              4768.\n",
       "Date:                Tue, 07 Feb 2023   Prob (F-statistic):                        0.00\n",
       "Time:                        02:51:25   Log-Likelihood:                         -1429.1\n",
       "No. Observations:                1000   AIC:                                      2862.\n",
       "Df Residuals:                     998   BIC:                                      2872.\n",
       "Df Model:                           2                                                  \n",
       "Covariance Type:            nonrobust                                                  \n",
       "==============================================================================\n",
       "                 coef    std err          t      P>|t|      [0.025      0.975]\n",
       "------------------------------------------------------------------------------\n",
       "x1             0.7548      0.030     25.298      0.000       0.696       0.813\n",
       "x2             4.9116      0.057     86.021      0.000       4.800       5.024\n",
       "==============================================================================\n",
       "Omnibus:                        0.943   Durbin-Watson:                   1.944\n",
       "Prob(Omnibus):                  0.624   Jarque-Bera (JB):                0.817\n",
       "Skew:                          -0.018   Prob(JB):                        0.665\n",
       "Kurtosis:                       3.135   Cond. No.                         2.00\n",
       "==============================================================================\n",
       "\n",
       "Notes:\n",
       "[1] R² is computed without centering (uncentered) since the model does not contain a constant.\n",
       "[2] Standard Errors assume that the covariance matrix of the errors is correctly specified.\n",
       "\"\"\""
      ]
     },
     "execution_count": 10,
     "metadata": {},
     "output_type": "execute_result"
    }
   ],
   "source": [
    "model = OLS(np.asarray(df[outcome]), np.asarray(df[[common_cause, treatment]], dtype=np.float64))\n",
    "result = model.fit()\n",
    "result.summary()"
   ]
  }
 ],
 "metadata": {
  "kernelspec": {
   "display_name": "Python 3",
   "language": "python",
   "name": "python3"
  },
  "language_info": {
   "codemirror_mode": {
    "name": "ipython",
    "version": 3
   },
   "file_extension": ".py",
   "mimetype": "text/x-python",
   "name": "python",
   "nbconvert_exporter": "python",
   "pygments_lexer": "ipython3",
   "version": "3.8.10"
  },
  "toc": {
   "base_numbering": 1,
   "nav_menu": {},
   "number_sections": false,
   "sideBar": true,
   "skip_h1_title": true,
   "title_cell": "Table of Contents",
   "title_sidebar": "Contents",
   "toc_cell": false,
   "toc_position": {},
   "toc_section_display": true,
   "toc_window_display": false
  }
 },
 "nbformat": 4,
 "nbformat_minor": 4
}
