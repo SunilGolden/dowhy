{
 "cells": [
  {
   "cell_type": "markdown",
   "metadata": {},
   "source": [
    "# Demo for the DoWhy causal API\n",
    "We show a simple example of adding a causal extension to any dataframe. "
   ]
  },
  {
   "cell_type": "code",
   "execution_count": 1,
   "metadata": {
    "execution": {
     "iopub.execute_input": "2023-03-30T21:55:52.469529Z",
     "iopub.status.busy": "2023-03-30T21:55:52.468962Z",
     "iopub.status.idle": "2023-03-30T21:55:54.941227Z",
     "shell.execute_reply": "2023-03-30T21:55:54.936437Z"
    }
   },
   "outputs": [],
   "source": [
    "import dowhy.datasets\n",
    "import dowhy.api\n",
    "\n",
    "import numpy as np\n",
    "import pandas as pd\n",
    "\n",
    "from statsmodels.api import OLS"
   ]
  },
  {
   "cell_type": "code",
   "execution_count": 2,
   "metadata": {
    "execution": {
     "iopub.execute_input": "2023-03-30T21:55:54.946360Z",
     "iopub.status.busy": "2023-03-30T21:55:54.945803Z",
     "iopub.status.idle": "2023-03-30T21:55:55.020073Z",
     "shell.execute_reply": "2023-03-30T21:55:55.019071Z"
    }
   },
   "outputs": [
    {
     "data": {
      "text/html": [
       "<div>\n",
       "<style scoped>\n",
       "    .dataframe tbody tr th:only-of-type {\n",
       "        vertical-align: middle;\n",
       "    }\n",
       "\n",
       "    .dataframe tbody tr th {\n",
       "        vertical-align: top;\n",
       "    }\n",
       "\n",
       "    .dataframe thead th {\n",
       "        text-align: right;\n",
       "    }\n",
       "</style>\n",
       "<table border=\"1\" class=\"dataframe\">\n",
       "  <thead>\n",
       "    <tr style=\"text-align: right;\">\n",
       "      <th></th>\n",
       "      <th>W0</th>\n",
       "      <th>v0</th>\n",
       "      <th>y</th>\n",
       "    </tr>\n",
       "  </thead>\n",
       "  <tbody>\n",
       "    <tr>\n",
       "      <th>0</th>\n",
       "      <td>0.382891</td>\n",
       "      <td>True</td>\n",
       "      <td>2.784557</td>\n",
       "    </tr>\n",
       "    <tr>\n",
       "      <th>1</th>\n",
       "      <td>0.821793</td>\n",
       "      <td>True</td>\n",
       "      <td>4.136816</td>\n",
       "    </tr>\n",
       "    <tr>\n",
       "      <th>2</th>\n",
       "      <td>-0.350774</td>\n",
       "      <td>False</td>\n",
       "      <td>0.071014</td>\n",
       "    </tr>\n",
       "    <tr>\n",
       "      <th>3</th>\n",
       "      <td>0.971263</td>\n",
       "      <td>True</td>\n",
       "      <td>6.345343</td>\n",
       "    </tr>\n",
       "    <tr>\n",
       "      <th>4</th>\n",
       "      <td>-0.245283</td>\n",
       "      <td>False</td>\n",
       "      <td>0.789573</td>\n",
       "    </tr>\n",
       "    <tr>\n",
       "      <th>...</th>\n",
       "      <td>...</td>\n",
       "      <td>...</td>\n",
       "      <td>...</td>\n",
       "    </tr>\n",
       "    <tr>\n",
       "      <th>995</th>\n",
       "      <td>1.561229</td>\n",
       "      <td>True</td>\n",
       "      <td>4.816919</td>\n",
       "    </tr>\n",
       "    <tr>\n",
       "      <th>996</th>\n",
       "      <td>0.385625</td>\n",
       "      <td>True</td>\n",
       "      <td>4.878601</td>\n",
       "    </tr>\n",
       "    <tr>\n",
       "      <th>997</th>\n",
       "      <td>-1.530969</td>\n",
       "      <td>False</td>\n",
       "      <td>-0.507780</td>\n",
       "    </tr>\n",
       "    <tr>\n",
       "      <th>998</th>\n",
       "      <td>0.900969</td>\n",
       "      <td>True</td>\n",
       "      <td>4.118908</td>\n",
       "    </tr>\n",
       "    <tr>\n",
       "      <th>999</th>\n",
       "      <td>1.119726</td>\n",
       "      <td>True</td>\n",
       "      <td>4.318879</td>\n",
       "    </tr>\n",
       "  </tbody>\n",
       "</table>\n",
       "<p>1000 rows × 3 columns</p>\n",
       "</div>"
      ],
      "text/plain": [
       "           W0     v0         y\n",
       "0    0.382891   True  2.784557\n",
       "1    0.821793   True  4.136816\n",
       "2   -0.350774  False  0.071014\n",
       "3    0.971263   True  6.345343\n",
       "4   -0.245283  False  0.789573\n",
       "..        ...    ...       ...\n",
       "995  1.561229   True  4.816919\n",
       "996  0.385625   True  4.878601\n",
       "997 -1.530969  False -0.507780\n",
       "998  0.900969   True  4.118908\n",
       "999  1.119726   True  4.318879\n",
       "\n",
       "[1000 rows x 3 columns]"
      ]
     },
     "execution_count": 2,
     "metadata": {},
     "output_type": "execute_result"
    }
   ],
   "source": [
    "data = dowhy.datasets.linear_dataset(beta=5,\n",
    "        num_common_causes=1,\n",
    "        num_instruments = 0,\n",
    "        num_samples=1000,\n",
    "        treatment_is_binary=True)\n",
    "df = data['df']\n",
    "df['y'] = df['y'] + np.random.normal(size=len(df)) # Adding noise to data. Without noise, the variance in Y|X, Z is zero, and mcmc fails.\n",
    "#data['dot_graph'] = 'digraph { v ->y;X0-> v;X0-> y;}'\n",
    "\n",
    "treatment= data[\"treatment_name\"][0]\n",
    "outcome = data[\"outcome_name\"][0]\n",
    "common_cause = data[\"common_causes_names\"][0]\n",
    "df"
   ]
  },
  {
   "cell_type": "code",
   "execution_count": 3,
   "metadata": {
    "execution": {
     "iopub.execute_input": "2023-03-30T21:55:55.024403Z",
     "iopub.status.busy": "2023-03-30T21:55:55.024062Z",
     "iopub.status.idle": "2023-03-30T21:55:55.277361Z",
     "shell.execute_reply": "2023-03-30T21:55:55.276443Z"
    }
   },
   "outputs": [
    {
     "data": {
      "text/plain": [
       "<AxesSubplot: xlabel='v0'>"
      ]
     },
     "execution_count": 3,
     "metadata": {},
     "output_type": "execute_result"
    },
    {
     "data": {
      "image/png": "[encoded data removed]",
      "text/plain": [
       "<Figure size 640x480 with 1 Axes>"
      ]
     },
     "metadata": {},
     "output_type": "display_data"
    }
   ],
   "source": [
    "# data['df'] is just a regular pandas.DataFrame\n",
    "df.causal.do(x=treatment,\n",
    "                     variable_types={treatment: 'b', outcome: 'c', common_cause: 'c'},\n",
    "                     outcome=outcome,\n",
    "                     common_causes=[common_cause],\n",
    "                     proceed_when_unidentifiable=True).groupby(treatment).mean().plot(y=outcome, kind='bar')"
   ]
  },
  {
   "cell_type": "code",
   "execution_count": 4,
   "metadata": {
    "execution": {
     "iopub.execute_input": "2023-03-30T21:55:55.283034Z",
     "iopub.status.busy": "2023-03-30T21:55:55.281162Z",
     "iopub.status.idle": "2023-03-30T21:55:55.483931Z",
     "shell.execute_reply": "2023-03-30T21:55:55.482951Z"
    }
   },
   "outputs": [
    {
     "data": {
      "text/plain": [
       "<AxesSubplot: xlabel='v0'>"
      ]
     },
     "execution_count": 4,
     "metadata": {},
     "output_type": "execute_result"
    },
    {
     "data": {
      "image/png": "[encoded data removed]",
      "text/plain": [
       "<Figure size 640x480 with 1 Axes>"
      ]
     },
     "metadata": {},
     "output_type": "display_data"
    }
   ],
   "source": [
    "df.causal.do(x={treatment: 1}, \n",
    "              variable_types={treatment:'b', outcome: 'c', common_cause: 'c'}, \n",
    "              outcome=outcome,\n",
    "              method='weighting', \n",
    "              common_causes=[common_cause],\n",
    "              proceed_when_unidentifiable=True).groupby(treatment).mean().plot(y=outcome, kind='bar')"
   ]
  },
  {
   "cell_type": "code",
   "execution_count": 5,
   "metadata": {
    "execution": {
     "iopub.execute_input": "2023-03-30T21:55:55.489772Z",
     "iopub.status.busy": "2023-03-30T21:55:55.487907Z",
     "iopub.status.idle": "2023-03-30T21:55:55.696890Z",
     "shell.execute_reply": "2023-03-30T21:55:55.695734Z"
    }
   },
   "outputs": [],
   "source": [
    "cdf_1 = df.causal.do(x={treatment: 1}, \n",
    "              variable_types={treatment: 'b', outcome: 'c', common_cause: 'c'}, \n",
    "              outcome=outcome, \n",
    "              dot_graph=data['dot_graph'],\n",
    "              proceed_when_unidentifiable=True)\n",
    "\n",
    "cdf_0 = df.causal.do(x={treatment: 0}, \n",
    "              variable_types={treatment: 'b', outcome: 'c', common_cause: 'c'}, \n",
    "              outcome=outcome, \n",
    "              dot_graph=data['dot_graph'],\n",
    "              proceed_when_unidentifiable=True)\n"
   ]
  },
  {
   "cell_type": "code",
   "execution_count": 6,
   "metadata": {
    "execution": {
     "iopub.execute_input": "2023-03-30T21:55:55.701337Z",
     "iopub.status.busy": "2023-03-30T21:55:55.701000Z",
     "iopub.status.idle": "2023-03-30T21:55:55.718189Z",
     "shell.execute_reply": "2023-03-30T21:55:55.717137Z"
    },
    "scrolled": true
   },
   "outputs": [
    {
     "data": {
      "text/html": [
       "<div>\n",
       "<style scoped>\n",
       "    .dataframe tbody tr th:only-of-type {\n",
       "        vertical-align: middle;\n",
       "    }\n",
       "\n",
       "    .dataframe tbody tr th {\n",
       "        vertical-align: top;\n",
       "    }\n",
       "\n",
       "    .dataframe thead th {\n",
       "        text-align: right;\n",
       "    }\n",
       "</style>\n",
       "<table border=\"1\" class=\"dataframe\">\n",
       "  <thead>\n",
       "    <tr style=\"text-align: right;\">\n",
       "      <th></th>\n",
       "      <th>W0</th>\n",
       "      <th>v0</th>\n",
       "      <th>y</th>\n",
       "      <th>propensity_score</th>\n",
       "      <th>weight</th>\n",
       "    </tr>\n",
       "  </thead>\n",
       "  <tbody>\n",
       "    <tr>\n",
       "      <th>0</th>\n",
       "      <td>0.590264</td>\n",
       "      <td>False</td>\n",
       "      <td>-0.321082</td>\n",
       "      <td>0.276248</td>\n",
       "      <td>3.619931</td>\n",
       "    </tr>\n",
       "    <tr>\n",
       "      <th>1</th>\n",
       "      <td>-1.586264</td>\n",
       "      <td>False</td>\n",
       "      <td>0.855019</td>\n",
       "      <td>0.922038</td>\n",
       "      <td>1.084554</td>\n",
       "    </tr>\n",
       "    <tr>\n",
       "      <th>2</th>\n",
       "      <td>0.184716</td>\n",
       "      <td>False</td>\n",
       "      <td>-0.153775</td>\n",
       "      <td>0.419850</td>\n",
       "      <td>2.381802</td>\n",
       "    </tr>\n",
       "    <tr>\n",
       "      <th>3</th>\n",
       "      <td>1.203749</td>\n",
       "      <td>False</td>\n",
       "      <td>2.085674</td>\n",
       "      <td>0.126647</td>\n",
       "      <td>7.895947</td>\n",
       "    </tr>\n",
       "    <tr>\n",
       "      <th>4</th>\n",
       "      <td>0.098100</td>\n",
       "      <td>False</td>\n",
       "      <td>-1.546204</td>\n",
       "      <td>0.453448</td>\n",
       "      <td>2.205325</td>\n",
       "    </tr>\n",
       "    <tr>\n",
       "      <th>...</th>\n",
       "      <td>...</td>\n",
       "      <td>...</td>\n",
       "      <td>...</td>\n",
       "      <td>...</td>\n",
       "      <td>...</td>\n",
       "    </tr>\n",
       "    <tr>\n",
       "      <th>995</th>\n",
       "      <td>-1.586264</td>\n",
       "      <td>False</td>\n",
       "      <td>0.855019</td>\n",
       "      <td>0.922038</td>\n",
       "      <td>1.084554</td>\n",
       "    </tr>\n",
       "    <tr>\n",
       "      <th>996</th>\n",
       "      <td>2.517395</td>\n",
       "      <td>False</td>\n",
       "      <td>0.333563</td>\n",
       "      <td>0.017929</td>\n",
       "      <td>55.775141</td>\n",
       "    </tr>\n",
       "    <tr>\n",
       "      <th>997</th>\n",
       "      <td>1.785942</td>\n",
       "      <td>False</td>\n",
       "      <td>0.318578</td>\n",
       "      <td>0.054715</td>\n",
       "      <td>18.276632</td>\n",
       "    </tr>\n",
       "    <tr>\n",
       "      <th>998</th>\n",
       "      <td>0.292756</td>\n",
       "      <td>False</td>\n",
       "      <td>1.313644</td>\n",
       "      <td>0.378993</td>\n",
       "      <td>2.638568</td>\n",
       "    </tr>\n",
       "    <tr>\n",
       "      <th>999</th>\n",
       "      <td>1.374291</td>\n",
       "      <td>False</td>\n",
       "      <td>1.336758</td>\n",
       "      <td>0.099753</td>\n",
       "      <td>10.024723</td>\n",
       "    </tr>\n",
       "  </tbody>\n",
       "</table>\n",
       "<p>1000 rows × 5 columns</p>\n",
       "</div>"
      ],
      "text/plain": [
       "           W0     v0         y  propensity_score     weight\n",
       "0    0.590264  False -0.321082          0.276248   3.619931\n",
       "1   -1.586264  False  0.855019          0.922038   1.084554\n",
       "2    0.184716  False -0.153775          0.419850   2.381802\n",
       "3    1.203749  False  2.085674          0.126647   7.895947\n",
       "4    0.098100  False -1.546204          0.453448   2.205325\n",
       "..        ...    ...       ...               ...        ...\n",
       "995 -1.586264  False  0.855019          0.922038   1.084554\n",
       "996  2.517395  False  0.333563          0.017929  55.775141\n",
       "997  1.785942  False  0.318578          0.054715  18.276632\n",
       "998  0.292756  False  1.313644          0.378993   2.638568\n",
       "999  1.374291  False  1.336758          0.099753  10.024723\n",
       "\n",
       "[1000 rows x 5 columns]"
      ]
     },
     "execution_count": 6,
     "metadata": {},
     "output_type": "execute_result"
    }
   ],
   "source": [
    "cdf_0"
   ]
  },
  {
   "cell_type": "code",
   "execution_count": 7,
   "metadata": {
    "execution": {
     "iopub.execute_input": "2023-03-30T21:55:55.723095Z",
     "iopub.status.busy": "2023-03-30T21:55:55.722733Z",
     "iopub.status.idle": "2023-03-30T21:55:55.739841Z",
     "shell.execute_reply": "2023-03-30T21:55:55.738628Z"
    }
   },
   "outputs": [
    {
     "data": {
      "text/html": [
       "<div>\n",
       "<style scoped>\n",
       "    .dataframe tbody tr th:only-of-type {\n",
       "        vertical-align: middle;\n",
       "    }\n",
       "\n",
       "    .dataframe tbody tr th {\n",
       "        vertical-align: top;\n",
       "    }\n",
       "\n",
       "    .dataframe thead th {\n",
       "        text-align: right;\n",
       "    }\n",
       "</style>\n",
       "<table border=\"1\" class=\"dataframe\">\n",
       "  <thead>\n",
       "    <tr style=\"text-align: right;\">\n",
       "      <th></th>\n",
       "      <th>W0</th>\n",
       "      <th>v0</th>\n",
       "      <th>y</th>\n",
       "      <th>propensity_score</th>\n",
       "      <th>weight</th>\n",
       "    </tr>\n",
       "  </thead>\n",
       "  <tbody>\n",
       "    <tr>\n",
       "      <th>0</th>\n",
       "      <td>0.852354</td>\n",
       "      <td>True</td>\n",
       "      <td>5.673571</td>\n",
       "      <td>0.798445</td>\n",
       "      <td>1.252435</td>\n",
       "    </tr>\n",
       "    <tr>\n",
       "      <th>1</th>\n",
       "      <td>-0.166745</td>\n",
       "      <td>True</td>\n",
       "      <td>4.352468</td>\n",
       "      <td>0.442493</td>\n",
       "      <td>2.259922</td>\n",
       "    </tr>\n",
       "    <tr>\n",
       "      <th>2</th>\n",
       "      <td>-0.249010</td>\n",
       "      <td>True</td>\n",
       "      <td>4.651411</td>\n",
       "      <td>0.410760</td>\n",
       "      <td>2.434511</td>\n",
       "    </tr>\n",
       "    <tr>\n",
       "      <th>3</th>\n",
       "      <td>1.456863</td>\n",
       "      <td>True</td>\n",
       "      <td>5.839136</td>\n",
       "      <td>0.911350</td>\n",
       "      <td>1.097274</td>\n",
       "    </tr>\n",
       "    <tr>\n",
       "      <th>4</th>\n",
       "      <td>-1.238192</td>\n",
       "      <td>True</td>\n",
       "      <td>3.687854</td>\n",
       "      <td>0.127719</td>\n",
       "      <td>7.829689</td>\n",
       "    </tr>\n",
       "    <tr>\n",
       "      <th>...</th>\n",
       "      <td>...</td>\n",
       "      <td>...</td>\n",
       "      <td>...</td>\n",
       "      <td>...</td>\n",
       "      <td>...</td>\n",
       "    </tr>\n",
       "    <tr>\n",
       "      <th>995</th>\n",
       "      <td>0.549022</td>\n",
       "      <td>True</td>\n",
       "      <td>4.103814</td>\n",
       "      <td>0.710556</td>\n",
       "      <td>1.407348</td>\n",
       "    </tr>\n",
       "    <tr>\n",
       "      <th>996</th>\n",
       "      <td>1.536799</td>\n",
       "      <td>True</td>\n",
       "      <td>5.925183</td>\n",
       "      <td>0.921023</td>\n",
       "      <td>1.085749</td>\n",
       "    </tr>\n",
       "    <tr>\n",
       "      <th>997</th>\n",
       "      <td>0.730952</td>\n",
       "      <td>True</td>\n",
       "      <td>6.979647</td>\n",
       "      <td>0.765861</td>\n",
       "      <td>1.305720</td>\n",
       "    </tr>\n",
       "    <tr>\n",
       "      <th>998</th>\n",
       "      <td>-0.819740</td>\n",
       "      <td>True</td>\n",
       "      <td>5.113712</td>\n",
       "      <td>0.220774</td>\n",
       "      <td>4.529519</td>\n",
       "    </tr>\n",
       "    <tr>\n",
       "      <th>999</th>\n",
       "      <td>-0.249010</td>\n",
       "      <td>True</td>\n",
       "      <td>4.651411</td>\n",
       "      <td>0.410760</td>\n",
       "      <td>2.434511</td>\n",
       "    </tr>\n",
       "  </tbody>\n",
       "</table>\n",
       "<p>1000 rows × 5 columns</p>\n",
       "</div>"
      ],
      "text/plain": [
       "           W0    v0         y  propensity_score    weight\n",
       "0    0.852354  True  5.673571          0.798445  1.252435\n",
       "1   -0.166745  True  4.352468          0.442493  2.259922\n",
       "2   -0.249010  True  4.651411          0.410760  2.434511\n",
       "3    1.456863  True  5.839136          0.911350  1.097274\n",
       "4   -1.238192  True  3.687854          0.127719  7.829689\n",
       "..        ...   ...       ...               ...       ...\n",
       "995  0.549022  True  4.103814          0.710556  1.407348\n",
       "996  1.536799  True  5.925183          0.921023  1.085749\n",
       "997  0.730952  True  6.979647          0.765861  1.305720\n",
       "998 -0.819740  True  5.113712          0.220774  4.529519\n",
       "999 -0.249010  True  4.651411          0.410760  2.434511\n",
       "\n",
       "[1000 rows x 5 columns]"
      ]
     },
     "execution_count": 7,
     "metadata": {},
     "output_type": "execute_result"
    }
   ],
   "source": [
    "cdf_1"
   ]
  },
  {
   "cell_type": "markdown",
   "metadata": {},
   "source": [
    "## Comparing the estimate to Linear Regression\n",
    "First, estimating the effect using the causal data frame, and the 95% confidence interval."
   ]
  },
  {
   "cell_type": "code",
   "execution_count": 8,
   "metadata": {
    "execution": {
     "iopub.execute_input": "2023-03-30T21:55:55.744805Z",
     "iopub.status.busy": "2023-03-30T21:55:55.744452Z",
     "iopub.status.idle": "2023-03-30T21:55:55.829824Z",
     "shell.execute_reply": "2023-03-30T21:55:55.828700Z"
    }
   },
   "outputs": [
    {
     "data": {
      "image/png": "[encoded data removed]",
      "text/latex": [
       "$\\displaystyle 4.98020199787133$"
      ],
      "text/plain": [
       "4.980201997871329"
      ]
     },
     "execution_count": 8,
     "metadata": {},
     "output_type": "execute_result"
    }
   ],
   "source": [
    "(cdf_1['y'] - cdf_0['y']).mean()"
   ]
  },
  {
   "cell_type": "code",
   "execution_count": 9,
   "metadata": {
    "execution": {
     "iopub.execute_input": "2023-03-30T21:55:55.834272Z",
     "iopub.status.busy": "2023-03-30T21:55:55.833946Z",
     "iopub.status.idle": "2023-03-30T21:55:55.866066Z",
     "shell.execute_reply": "2023-03-30T21:55:55.865089Z"
    }
   },
   "outputs": [
    {
     "data": {
      "image/png": "[encoded data removed]",
      "text/latex": [
       "$\\displaystyle 0.0975443949146883$"
      ],
      "text/plain": [
       "0.09754439491468829"
      ]
     },
     "execution_count": 9,
     "metadata": {},
     "output_type": "execute_result"
    }
   ],
   "source": [
    "1.96*(cdf_1['y'] - cdf_0['y']).std() / np.sqrt(len(df))"
   ]
  },
  {
   "cell_type": "markdown",
   "metadata": {},
   "source": [
    "Comparing to the estimate from OLS."
   ]
  },
  {
   "cell_type": "code",
   "execution_count": 10,
   "metadata": {
    "execution": {
     "iopub.execute_input": "2023-03-30T21:55:55.870485Z",
     "iopub.status.busy": "2023-03-30T21:55:55.870160Z",
     "iopub.status.idle": "2023-03-30T21:55:55.890673Z",
     "shell.execute_reply": "2023-03-30T21:55:55.889701Z"
    }
   },
   "outputs": [
    {
     "data": {
      "text/html": [
       "<table class=\"simpletable\">\n",
       "<caption>OLS Regression Results</caption>\n",
       "<tr>\n",
       "  <th>Dep. Variable:</th>            <td>y</td>        <th>  R-squared (uncentered):</th>      <td>   0.952</td>\n",
       "</tr>\n",
       "<tr>\n",
       "  <th>Model:</th>                   <td>OLS</td>       <th>  Adj. R-squared (uncentered):</th> <td>   0.952</td>\n",
       "</tr>\n",
       "<tr>\n",
       "  <th>Method:</th>             <td>Least Squares</td>  <th>  F-statistic:       </th>          <td>   9939.</td>\n",
       "</tr>\n",
       "<tr>\n",
       "  <th>Date:</th>             <td>Thu, 30 Mar 2023</td> <th>  Prob (F-statistic):</th>           <td>  0.00</td> \n",
       "</tr>\n",
       "<tr>\n",
       "  <th>Time:</th>                 <td>21:55:55</td>     <th>  Log-Likelihood:    </th>          <td> -1406.0</td>\n",
       "</tr>\n",
       "<tr>\n",
       "  <th>No. Observations:</th>      <td>  1000</td>      <th>  AIC:               </th>          <td>   2816.</td>\n",
       "</tr>\n",
       "<tr>\n",
       "  <th>Df Residuals:</th>          <td>   998</td>      <th>  BIC:               </th>          <td>   2826.</td>\n",
       "</tr>\n",
       "<tr>\n",
       "  <th>Df Model:</th>              <td>     2</td>      <th>                     </th>              <td> </td>   \n",
       "</tr>\n",
       "<tr>\n",
       "  <th>Covariance Type:</th>      <td>nonrobust</td>    <th>                     </th>              <td> </td>   \n",
       "</tr>\n",
       "</table>\n",
       "<table class=\"simpletable\">\n",
       "<tr>\n",
       "   <td></td>     <th>coef</th>     <th>std err</th>      <th>t</th>      <th>P>|t|</th>  <th>[0.025</th>    <th>0.975]</th>  \n",
       "</tr>\n",
       "<tr>\n",
       "  <th>x1</th> <td>    0.6091</td> <td>    0.037</td> <td>   16.403</td> <td> 0.000</td> <td>    0.536</td> <td>    0.682</td>\n",
       "</tr>\n",
       "<tr>\n",
       "  <th>x2</th> <td>    4.9118</td> <td>    0.051</td> <td>   95.538</td> <td> 0.000</td> <td>    4.811</td> <td>    5.013</td>\n",
       "</tr>\n",
       "</table>\n",
       "<table class=\"simpletable\">\n",
       "<tr>\n",
       "  <th>Omnibus:</th>       <td> 3.667</td> <th>  Durbin-Watson:     </th> <td>   1.920</td>\n",
       "</tr>\n",
       "<tr>\n",
       "  <th>Prob(Omnibus):</th> <td> 0.160</td> <th>  Jarque-Bera (JB):  </th> <td>   3.574</td>\n",
       "</tr>\n",
       "<tr>\n",
       "  <th>Skew:</th>          <td>-0.145</td> <th>  Prob(JB):          </th> <td>   0.168</td>\n",
       "</tr>\n",
       "<tr>\n",
       "  <th>Kurtosis:</th>      <td> 3.046</td> <th>  Cond. No.          </th> <td>    2.35</td>\n",
       "</tr>\n",
       "</table><br/><br/>Notes:<br/>[1] R² is computed without centering (uncentered) since the model does not contain a constant.<br/>[2] Standard Errors assume that the covariance matrix of the errors is correctly specified."
      ],
      "text/plain": [
       "<class 'statsmodels.iolib.summary.Summary'>\n",
       "\"\"\"\n",
       "                                 OLS Regression Results                                \n",
       "=======================================================================================\n",
       "Dep. Variable:                      y   R-squared (uncentered):                   0.952\n",
       "Model:                            OLS   Adj. R-squared (uncentered):              0.952\n",
       "Method:                 Least Squares   F-statistic:                              9939.\n",
       "Date:                Thu, 30 Mar 2023   Prob (F-statistic):                        0.00\n",
       "Time:                        21:55:55   Log-Likelihood:                         -1406.0\n",
       "No. Observations:                1000   AIC:                                      2816.\n",
       "Df Residuals:                     998   BIC:                                      2826.\n",
       "Df Model:                           2                                                  \n",
       "Covariance Type:            nonrobust                                                  \n",
       "==============================================================================\n",
       "                 coef    std err          t      P>|t|      [0.025      0.975]\n",
       "------------------------------------------------------------------------------\n",
       "x1             0.6091      0.037     16.403      0.000       0.536       0.682\n",
       "x2             4.9118      0.051     95.538      0.000       4.811       5.013\n",
       "==============================================================================\n",
       "Omnibus:                        3.667   Durbin-Watson:                   1.920\n",
       "Prob(Omnibus):                  0.160   Jarque-Bera (JB):                3.574\n",
       "Skew:                          -0.145   Prob(JB):                        0.168\n",
       "Kurtosis:                       3.046   Cond. No.                         2.35\n",
       "==============================================================================\n",
       "\n",
       "Notes:\n",
       "[1] R² is computed without centering (uncentered) since the model does not contain a constant.\n",
       "[2] Standard Errors assume that the covariance matrix of the errors is correctly specified.\n",
       "\"\"\""
      ]
     },
     "execution_count": 10,
     "metadata": {},
     "output_type": "execute_result"
    }
   ],
   "source": [
    "model = OLS(np.asarray(df[outcome]), np.asarray(df[[common_cause, treatment]], dtype=np.float64))\n",
    "result = model.fit()\n",
    "result.summary()"
   ]
  }
 ],
 "metadata": {
  "kernelspec": {
   "display_name": "Python 3",
   "language": "python",
   "name": "python3"
  },
  "language_info": {
   "codemirror_mode": {
    "name": "ipython",
    "version": 3
   },
   "file_extension": ".py",
   "mimetype": "text/x-python",
   "name": "python",
   "nbconvert_exporter": "python",
   "pygments_lexer": "ipython3",
   "version": "3.8.10"
  },
  "toc": {
   "base_numbering": 1,
   "nav_menu": {},
   "number_sections": false,
   "sideBar": true,
   "skip_h1_title": true,
   "title_cell": "Table of Contents",
   "title_sidebar": "Contents",
   "toc_cell": false,
   "toc_position": {},
   "toc_section_display": true,
   "toc_window_display": false
  }
 },
 "nbformat": 4,
 "nbformat_minor": 4
}
