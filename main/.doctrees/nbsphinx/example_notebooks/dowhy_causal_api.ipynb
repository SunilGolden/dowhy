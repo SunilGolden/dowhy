{
 "cells": [
  {
   "cell_type": "markdown",
   "metadata": {},
   "source": [
    "# Demo for the DoWhy causal API\n",
    "We show a simple example of adding a causal extension to any dataframe. "
   ]
  },
  {
   "cell_type": "code",
   "execution_count": 1,
   "metadata": {
    "execution": {
     "iopub.execute_input": "2024-01-15T08:29:33.453864Z",
     "iopub.status.busy": "2024-01-15T08:29:33.453687Z",
     "iopub.status.idle": "2024-01-15T08:29:34.858383Z",
     "shell.execute_reply": "2024-01-15T08:29:34.857780Z"
    }
   },
   "outputs": [],
   "source": [
    "import dowhy.datasets\n",
    "import dowhy.api\n",
    "from dowhy.graph import build_graph_from_str\n",
    "\n",
    "import numpy as np\n",
    "import pandas as pd\n",
    "\n",
    "from statsmodels.api import OLS"
   ]
  },
  {
   "cell_type": "code",
   "execution_count": 2,
   "metadata": {
    "execution": {
     "iopub.execute_input": "2024-01-15T08:29:34.861767Z",
     "iopub.status.busy": "2024-01-15T08:29:34.860951Z",
     "iopub.status.idle": "2024-01-15T08:29:34.897481Z",
     "shell.execute_reply": "2024-01-15T08:29:34.896864Z"
    }
   },
   "outputs": [
    {
     "data": {
      "text/html": [
       "<div>\n",
       "<style scoped>\n",
       "    .dataframe tbody tr th:only-of-type {\n",
       "        vertical-align: middle;\n",
       "    }\n",
       "\n",
       "    .dataframe tbody tr th {\n",
       "        vertical-align: top;\n",
       "    }\n",
       "\n",
       "    .dataframe thead th {\n",
       "        text-align: right;\n",
       "    }\n",
       "</style>\n",
       "<table border=\"1\" class=\"dataframe\">\n",
       "  <thead>\n",
       "    <tr style=\"text-align: right;\">\n",
       "      <th></th>\n",
       "      <th>W0</th>\n",
       "      <th>v0</th>\n",
       "      <th>y</th>\n",
       "    </tr>\n",
       "  </thead>\n",
       "  <tbody>\n",
       "    <tr>\n",
       "      <th>0</th>\n",
       "      <td>0.077482</td>\n",
       "      <td>True</td>\n",
       "      <td>6.172711</td>\n",
       "    </tr>\n",
       "    <tr>\n",
       "      <th>1</th>\n",
       "      <td>0.416977</td>\n",
       "      <td>True</td>\n",
       "      <td>7.293069</td>\n",
       "    </tr>\n",
       "    <tr>\n",
       "      <th>2</th>\n",
       "      <td>-0.558168</td>\n",
       "      <td>True</td>\n",
       "      <td>4.378605</td>\n",
       "    </tr>\n",
       "    <tr>\n",
       "      <th>3</th>\n",
       "      <td>-0.179209</td>\n",
       "      <td>True</td>\n",
       "      <td>4.621983</td>\n",
       "    </tr>\n",
       "    <tr>\n",
       "      <th>4</th>\n",
       "      <td>-1.049729</td>\n",
       "      <td>True</td>\n",
       "      <td>1.828574</td>\n",
       "    </tr>\n",
       "    <tr>\n",
       "      <th>...</th>\n",
       "      <td>...</td>\n",
       "      <td>...</td>\n",
       "      <td>...</td>\n",
       "    </tr>\n",
       "    <tr>\n",
       "      <th>995</th>\n",
       "      <td>0.832911</td>\n",
       "      <td>False</td>\n",
       "      <td>1.897019</td>\n",
       "    </tr>\n",
       "    <tr>\n",
       "      <th>996</th>\n",
       "      <td>-0.132316</td>\n",
       "      <td>True</td>\n",
       "      <td>5.203305</td>\n",
       "    </tr>\n",
       "    <tr>\n",
       "      <th>997</th>\n",
       "      <td>1.735067</td>\n",
       "      <td>True</td>\n",
       "      <td>10.668257</td>\n",
       "    </tr>\n",
       "    <tr>\n",
       "      <th>998</th>\n",
       "      <td>0.671260</td>\n",
       "      <td>True</td>\n",
       "      <td>7.328378</td>\n",
       "    </tr>\n",
       "    <tr>\n",
       "      <th>999</th>\n",
       "      <td>-0.354396</td>\n",
       "      <td>False</td>\n",
       "      <td>-0.911666</td>\n",
       "    </tr>\n",
       "  </tbody>\n",
       "</table>\n",
       "<p>1000 rows × 3 columns</p>\n",
       "</div>"
      ],
      "text/plain": [
       "           W0     v0          y\n",
       "0    0.077482   True   6.172711\n",
       "1    0.416977   True   7.293069\n",
       "2   -0.558168   True   4.378605\n",
       "3   -0.179209   True   4.621983\n",
       "4   -1.049729   True   1.828574\n",
       "..        ...    ...        ...\n",
       "995  0.832911  False   1.897019\n",
       "996 -0.132316   True   5.203305\n",
       "997  1.735067   True  10.668257\n",
       "998  0.671260   True   7.328378\n",
       "999 -0.354396  False  -0.911666\n",
       "\n",
       "[1000 rows x 3 columns]"
      ]
     },
     "execution_count": 2,
     "metadata": {},
     "output_type": "execute_result"
    }
   ],
   "source": [
    "data = dowhy.datasets.linear_dataset(beta=5,\n",
    "        num_common_causes=1,\n",
    "        num_instruments = 0,\n",
    "        num_samples=1000,\n",
    "        treatment_is_binary=True)\n",
    "df = data['df']\n",
    "df['y'] = df['y'] + np.random.normal(size=len(df)) # Adding noise to data. Without noise, the variance in Y|X, Z is zero, and mcmc fails.\n",
    "nx_graph = build_graph_from_str(data[\"dot_graph\"])\n",
    "\n",
    "treatment= data[\"treatment_name\"][0]\n",
    "outcome = data[\"outcome_name\"][0]\n",
    "common_cause = data[\"common_causes_names\"][0]\n",
    "df"
   ]
  },
  {
   "cell_type": "code",
   "execution_count": 3,
   "metadata": {
    "execution": {
     "iopub.execute_input": "2024-01-15T08:29:34.899789Z",
     "iopub.status.busy": "2024-01-15T08:29:34.899426Z",
     "iopub.status.idle": "2024-01-15T08:29:35.059915Z",
     "shell.execute_reply": "2024-01-15T08:29:35.059199Z"
    },
    "scrolled": true
   },
   "outputs": [
    {
     "data": {
      "text/plain": [
       "<Axes: xlabel='v0'>"
      ]
     },
     "execution_count": 3,
     "metadata": {},
     "output_type": "execute_result"
    },
    {
     "data": {
      "image/png": "[encoded data removed]",
      "text/plain": [
       "<Figure size 640x480 with 1 Axes>"
      ]
     },
     "metadata": {},
     "output_type": "display_data"
    }
   ],
   "source": [
    "# data['df'] is just a regular pandas.DataFrame\n",
    "df.causal.do(x=treatment,\n",
    "             variable_types={treatment: 'b', outcome: 'c', common_cause: 'c'},\n",
    "             outcome=outcome,\n",
    "             common_causes=[common_cause],\n",
    "            ).groupby(treatment).mean().plot(y=outcome, kind='bar')"
   ]
  },
  {
   "cell_type": "code",
   "execution_count": 4,
   "metadata": {
    "execution": {
     "iopub.execute_input": "2024-01-15T08:29:35.062537Z",
     "iopub.status.busy": "2024-01-15T08:29:35.062157Z",
     "iopub.status.idle": "2024-01-15T08:29:35.172184Z",
     "shell.execute_reply": "2024-01-15T08:29:35.171506Z"
    }
   },
   "outputs": [
    {
     "data": {
      "text/plain": [
       "<Axes: xlabel='v0'>"
      ]
     },
     "execution_count": 4,
     "metadata": {},
     "output_type": "execute_result"
    },
    {
     "data": {
      "image/png": "[encoded data removed]",
      "text/plain": [
       "<Figure size 640x480 with 1 Axes>"
      ]
     },
     "metadata": {},
     "output_type": "display_data"
    }
   ],
   "source": [
    "df.causal.do(x={treatment: 1}, \n",
    "              variable_types={treatment:'b', outcome: 'c', common_cause: 'c'}, \n",
    "              outcome=outcome,\n",
    "              method='weighting', \n",
    "              common_causes=[common_cause]\n",
    "              ).groupby(treatment).mean().plot(y=outcome, kind='bar')"
   ]
  },
  {
   "cell_type": "code",
   "execution_count": 5,
   "metadata": {
    "execution": {
     "iopub.execute_input": "2024-01-15T08:29:35.174852Z",
     "iopub.status.busy": "2024-01-15T08:29:35.174367Z",
     "iopub.status.idle": "2024-01-15T08:29:35.195285Z",
     "shell.execute_reply": "2024-01-15T08:29:35.194661Z"
    }
   },
   "outputs": [],
   "source": [
    "cdf_1 = df.causal.do(x={treatment: 1}, \n",
    "              variable_types={treatment: 'b', outcome: 'c', common_cause: 'c'}, \n",
    "              outcome=outcome, \n",
    "              graph=nx_graph\n",
    "              )\n",
    "\n",
    "cdf_0 = df.causal.do(x={treatment: 0}, \n",
    "              variable_types={treatment: 'b', outcome: 'c', common_cause: 'c'}, \n",
    "              outcome=outcome, \n",
    "              graph=nx_graph\n",
    "              )\n"
   ]
  },
  {
   "cell_type": "code",
   "execution_count": 6,
   "metadata": {
    "execution": {
     "iopub.execute_input": "2024-01-15T08:29:35.197808Z",
     "iopub.status.busy": "2024-01-15T08:29:35.197419Z",
     "iopub.status.idle": "2024-01-15T08:29:35.206384Z",
     "shell.execute_reply": "2024-01-15T08:29:35.205922Z"
    },
    "scrolled": true
   },
   "outputs": [
    {
     "data": {
      "text/html": [
       "<div>\n",
       "<style scoped>\n",
       "    .dataframe tbody tr th:only-of-type {\n",
       "        vertical-align: middle;\n",
       "    }\n",
       "\n",
       "    .dataframe tbody tr th {\n",
       "        vertical-align: top;\n",
       "    }\n",
       "\n",
       "    .dataframe thead th {\n",
       "        text-align: right;\n",
       "    }\n",
       "</style>\n",
       "<table border=\"1\" class=\"dataframe\">\n",
       "  <thead>\n",
       "    <tr style=\"text-align: right;\">\n",
       "      <th></th>\n",
       "      <th>W0</th>\n",
       "      <th>v0</th>\n",
       "      <th>y</th>\n",
       "      <th>propensity_score</th>\n",
       "      <th>weight</th>\n",
       "    </tr>\n",
       "  </thead>\n",
       "  <tbody>\n",
       "    <tr>\n",
       "      <th>0</th>\n",
       "      <td>-0.398889</td>\n",
       "      <td>False</td>\n",
       "      <td>0.042939</td>\n",
       "      <td>0.535400</td>\n",
       "      <td>1.867762</td>\n",
       "    </tr>\n",
       "    <tr>\n",
       "      <th>1</th>\n",
       "      <td>2.392600</td>\n",
       "      <td>False</td>\n",
       "      <td>5.868369</td>\n",
       "      <td>0.301696</td>\n",
       "      <td>3.314593</td>\n",
       "    </tr>\n",
       "    <tr>\n",
       "      <th>2</th>\n",
       "      <td>-0.813075</td>\n",
       "      <td>False</td>\n",
       "      <td>-0.817182</td>\n",
       "      <td>0.571360</td>\n",
       "      <td>1.750209</td>\n",
       "    </tr>\n",
       "    <tr>\n",
       "      <th>3</th>\n",
       "      <td>1.708041</td>\n",
       "      <td>False</td>\n",
       "      <td>3.548379</td>\n",
       "      <td>0.354654</td>\n",
       "      <td>2.819651</td>\n",
       "    </tr>\n",
       "    <tr>\n",
       "      <th>4</th>\n",
       "      <td>0.330070</td>\n",
       "      <td>False</td>\n",
       "      <td>0.862409</td>\n",
       "      <td>0.471442</td>\n",
       "      <td>2.121150</td>\n",
       "    </tr>\n",
       "    <tr>\n",
       "      <th>...</th>\n",
       "      <td>...</td>\n",
       "      <td>...</td>\n",
       "      <td>...</td>\n",
       "      <td>...</td>\n",
       "      <td>...</td>\n",
       "    </tr>\n",
       "    <tr>\n",
       "      <th>995</th>\n",
       "      <td>1.016531</td>\n",
       "      <td>False</td>\n",
       "      <td>2.207306</td>\n",
       "      <td>0.412022</td>\n",
       "      <td>2.427055</td>\n",
       "    </tr>\n",
       "    <tr>\n",
       "      <th>996</th>\n",
       "      <td>-0.194532</td>\n",
       "      <td>False</td>\n",
       "      <td>0.427513</td>\n",
       "      <td>0.517497</td>\n",
       "      <td>1.932378</td>\n",
       "    </tr>\n",
       "    <tr>\n",
       "      <th>997</th>\n",
       "      <td>1.064726</td>\n",
       "      <td>False</td>\n",
       "      <td>0.865518</td>\n",
       "      <td>0.407925</td>\n",
       "      <td>2.451432</td>\n",
       "    </tr>\n",
       "    <tr>\n",
       "      <th>998</th>\n",
       "      <td>1.004429</td>\n",
       "      <td>False</td>\n",
       "      <td>1.465809</td>\n",
       "      <td>0.413053</td>\n",
       "      <td>2.420998</td>\n",
       "    </tr>\n",
       "    <tr>\n",
       "      <th>999</th>\n",
       "      <td>1.016531</td>\n",
       "      <td>False</td>\n",
       "      <td>2.207306</td>\n",
       "      <td>0.412022</td>\n",
       "      <td>2.427055</td>\n",
       "    </tr>\n",
       "  </tbody>\n",
       "</table>\n",
       "<p>1000 rows × 5 columns</p>\n",
       "</div>"
      ],
      "text/plain": [
       "           W0     v0         y  propensity_score    weight\n",
       "0   -0.398889  False  0.042939          0.535400  1.867762\n",
       "1    2.392600  False  5.868369          0.301696  3.314593\n",
       "2   -0.813075  False -0.817182          0.571360  1.750209\n",
       "3    1.708041  False  3.548379          0.354654  2.819651\n",
       "4    0.330070  False  0.862409          0.471442  2.121150\n",
       "..        ...    ...       ...               ...       ...\n",
       "995  1.016531  False  2.207306          0.412022  2.427055\n",
       "996 -0.194532  False  0.427513          0.517497  1.932378\n",
       "997  1.064726  False  0.865518          0.407925  2.451432\n",
       "998  1.004429  False  1.465809          0.413053  2.420998\n",
       "999  1.016531  False  2.207306          0.412022  2.427055\n",
       "\n",
       "[1000 rows x 5 columns]"
      ]
     },
     "execution_count": 6,
     "metadata": {},
     "output_type": "execute_result"
    }
   ],
   "source": [
    "cdf_0"
   ]
  },
  {
   "cell_type": "code",
   "execution_count": 7,
   "metadata": {
    "execution": {
     "iopub.execute_input": "2024-01-15T08:29:35.208764Z",
     "iopub.status.busy": "2024-01-15T08:29:35.208413Z",
     "iopub.status.idle": "2024-01-15T08:29:35.216961Z",
     "shell.execute_reply": "2024-01-15T08:29:35.216403Z"
    }
   },
   "outputs": [
    {
     "data": {
      "text/html": [
       "<div>\n",
       "<style scoped>\n",
       "    .dataframe tbody tr th:only-of-type {\n",
       "        vertical-align: middle;\n",
       "    }\n",
       "\n",
       "    .dataframe tbody tr th {\n",
       "        vertical-align: top;\n",
       "    }\n",
       "\n",
       "    .dataframe thead th {\n",
       "        text-align: right;\n",
       "    }\n",
       "</style>\n",
       "<table border=\"1\" class=\"dataframe\">\n",
       "  <thead>\n",
       "    <tr style=\"text-align: right;\">\n",
       "      <th></th>\n",
       "      <th>W0</th>\n",
       "      <th>v0</th>\n",
       "      <th>y</th>\n",
       "      <th>propensity_score</th>\n",
       "      <th>weight</th>\n",
       "    </tr>\n",
       "  </thead>\n",
       "  <tbody>\n",
       "    <tr>\n",
       "      <th>0</th>\n",
       "      <td>2.001258</td>\n",
       "      <td>True</td>\n",
       "      <td>9.498883</td>\n",
       "      <td>0.668564</td>\n",
       "      <td>1.495744</td>\n",
       "    </tr>\n",
       "    <tr>\n",
       "      <th>1</th>\n",
       "      <td>-0.062604</td>\n",
       "      <td>True</td>\n",
       "      <td>5.517702</td>\n",
       "      <td>0.494088</td>\n",
       "      <td>2.023932</td>\n",
       "    </tr>\n",
       "    <tr>\n",
       "      <th>2</th>\n",
       "      <td>-0.718531</td>\n",
       "      <td>True</td>\n",
       "      <td>4.672812</td>\n",
       "      <td>0.436796</td>\n",
       "      <td>2.289399</td>\n",
       "    </tr>\n",
       "    <tr>\n",
       "      <th>3</th>\n",
       "      <td>0.174166</td>\n",
       "      <td>True</td>\n",
       "      <td>5.175002</td>\n",
       "      <td>0.514886</td>\n",
       "      <td>1.942176</td>\n",
       "    </tr>\n",
       "    <tr>\n",
       "      <th>4</th>\n",
       "      <td>0.998929</td>\n",
       "      <td>True</td>\n",
       "      <td>5.887404</td>\n",
       "      <td>0.586479</td>\n",
       "      <td>1.705092</td>\n",
       "    </tr>\n",
       "    <tr>\n",
       "      <th>...</th>\n",
       "      <td>...</td>\n",
       "      <td>...</td>\n",
       "      <td>...</td>\n",
       "      <td>...</td>\n",
       "      <td>...</td>\n",
       "    </tr>\n",
       "    <tr>\n",
       "      <th>995</th>\n",
       "      <td>0.737610</td>\n",
       "      <td>True</td>\n",
       "      <td>6.489730</td>\n",
       "      <td>0.564043</td>\n",
       "      <td>1.772915</td>\n",
       "    </tr>\n",
       "    <tr>\n",
       "      <th>996</th>\n",
       "      <td>-0.901059</td>\n",
       "      <td>True</td>\n",
       "      <td>3.321635</td>\n",
       "      <td>0.421084</td>\n",
       "      <td>2.374825</td>\n",
       "    </tr>\n",
       "    <tr>\n",
       "      <th>997</th>\n",
       "      <td>2.150581</td>\n",
       "      <td>True</td>\n",
       "      <td>7.866130</td>\n",
       "      <td>0.680088</td>\n",
       "      <td>1.470398</td>\n",
       "    </tr>\n",
       "    <tr>\n",
       "      <th>998</th>\n",
       "      <td>2.035276</td>\n",
       "      <td>True</td>\n",
       "      <td>9.295951</td>\n",
       "      <td>0.671208</td>\n",
       "      <td>1.489852</td>\n",
       "    </tr>\n",
       "    <tr>\n",
       "      <th>999</th>\n",
       "      <td>2.426374</td>\n",
       "      <td>True</td>\n",
       "      <td>7.625553</td>\n",
       "      <td>0.700799</td>\n",
       "      <td>1.426944</td>\n",
       "    </tr>\n",
       "  </tbody>\n",
       "</table>\n",
       "<p>1000 rows × 5 columns</p>\n",
       "</div>"
      ],
      "text/plain": [
       "           W0    v0         y  propensity_score    weight\n",
       "0    2.001258  True  9.498883          0.668564  1.495744\n",
       "1   -0.062604  True  5.517702          0.494088  2.023932\n",
       "2   -0.718531  True  4.672812          0.436796  2.289399\n",
       "3    0.174166  True  5.175002          0.514886  1.942176\n",
       "4    0.998929  True  5.887404          0.586479  1.705092\n",
       "..        ...   ...       ...               ...       ...\n",
       "995  0.737610  True  6.489730          0.564043  1.772915\n",
       "996 -0.901059  True  3.321635          0.421084  2.374825\n",
       "997  2.150581  True  7.866130          0.680088  1.470398\n",
       "998  2.035276  True  9.295951          0.671208  1.489852\n",
       "999  2.426374  True  7.625553          0.700799  1.426944\n",
       "\n",
       "[1000 rows x 5 columns]"
      ]
     },
     "execution_count": 7,
     "metadata": {},
     "output_type": "execute_result"
    }
   ],
   "source": [
    "cdf_1"
   ]
  },
  {
   "cell_type": "markdown",
   "metadata": {},
   "source": [
    "## Comparing the estimate to Linear Regression\n",
    "First, estimating the effect using the causal data frame, and the 95% confidence interval."
   ]
  },
  {
   "cell_type": "code",
   "execution_count": 8,
   "metadata": {
    "execution": {
     "iopub.execute_input": "2024-01-15T08:29:35.219351Z",
     "iopub.status.busy": "2024-01-15T08:29:35.219001Z",
     "iopub.status.idle": "2024-01-15T08:29:35.264448Z",
     "shell.execute_reply": "2024-01-15T08:29:35.263959Z"
    }
   },
   "outputs": [
    {
     "data": {
      "image/png": "[encoded data removed]",
      "text/latex": [
       "$\\displaystyle 5.08710510686308$"
      ],
      "text/plain": [
       "5.087105106863081"
      ]
     },
     "execution_count": 8,
     "metadata": {},
     "output_type": "execute_result"
    }
   ],
   "source": [
    "(cdf_1['y'] - cdf_0['y']).mean()"
   ]
  },
  {
   "cell_type": "code",
   "execution_count": 9,
   "metadata": {
    "execution": {
     "iopub.execute_input": "2024-01-15T08:29:35.266682Z",
     "iopub.status.busy": "2024-01-15T08:29:35.266367Z",
     "iopub.status.idle": "2024-01-15T08:29:35.281402Z",
     "shell.execute_reply": "2024-01-15T08:29:35.280829Z"
    }
   },
   "outputs": [
    {
     "data": {
      "image/png": "[encoded data removed]",
      "text/latex": [
       "$\\displaystyle 0.18836869321013$"
      ],
      "text/plain": [
       "0.18836869321012967"
      ]
     },
     "execution_count": 9,
     "metadata": {},
     "output_type": "execute_result"
    }
   ],
   "source": [
    "1.96*(cdf_1['y'] - cdf_0['y']).std() / np.sqrt(len(df))"
   ]
  },
  {
   "cell_type": "markdown",
   "metadata": {},
   "source": [
    "Comparing to the estimate from OLS."
   ]
  },
  {
   "cell_type": "code",
   "execution_count": 10,
   "metadata": {
    "execution": {
     "iopub.execute_input": "2024-01-15T08:29:35.283596Z",
     "iopub.status.busy": "2024-01-15T08:29:35.283414Z",
     "iopub.status.idle": "2024-01-15T08:29:35.299500Z",
     "shell.execute_reply": "2024-01-15T08:29:35.298963Z"
    }
   },
   "outputs": [
    {
     "data": {
      "text/html": [
       "<table class=\"simpletable\">\n",
       "<caption>OLS Regression Results</caption>\n",
       "<tr>\n",
       "  <th>Dep. Variable:</th>            <td>y</td>        <th>  R-squared (uncentered):</th>      <td>   0.964</td> \n",
       "</tr>\n",
       "<tr>\n",
       "  <th>Model:</th>                   <td>OLS</td>       <th>  Adj. R-squared (uncentered):</th> <td>   0.964</td> \n",
       "</tr>\n",
       "<tr>\n",
       "  <th>Method:</th>             <td>Least Squares</td>  <th>  F-statistic:       </th>          <td>1.349e+04</td>\n",
       "</tr>\n",
       "<tr>\n",
       "  <th>Date:</th>             <td>Mon, 15 Jan 2024</td> <th>  Prob (F-statistic):</th>           <td>  0.00</td>  \n",
       "</tr>\n",
       "<tr>\n",
       "  <th>Time:</th>                 <td>08:29:35</td>     <th>  Log-Likelihood:    </th>          <td> -1412.0</td> \n",
       "</tr>\n",
       "<tr>\n",
       "  <th>No. Observations:</th>      <td>  1000</td>      <th>  AIC:               </th>          <td>   2828.</td> \n",
       "</tr>\n",
       "<tr>\n",
       "  <th>Df Residuals:</th>          <td>   998</td>      <th>  BIC:               </th>          <td>   2838.</td> \n",
       "</tr>\n",
       "<tr>\n",
       "  <th>Df Model:</th>              <td>     2</td>      <th>                     </th>              <td> </td>    \n",
       "</tr>\n",
       "<tr>\n",
       "  <th>Covariance Type:</th>      <td>nonrobust</td>    <th>                     </th>              <td> </td>    \n",
       "</tr>\n",
       "</table>\n",
       "<table class=\"simpletable\">\n",
       "<tr>\n",
       "   <td></td>     <th>coef</th>     <th>std err</th>      <th>t</th>      <th>P>|t|</th>  <th>[0.025</th>    <th>0.975]</th>  \n",
       "</tr>\n",
       "<tr>\n",
       "  <th>x1</th> <td>    1.8526</td> <td>    0.030</td> <td>   61.035</td> <td> 0.000</td> <td>    1.793</td> <td>    1.912</td>\n",
       "</tr>\n",
       "<tr>\n",
       "  <th>x2</th> <td>    5.0446</td> <td>    0.048</td> <td>  104.530</td> <td> 0.000</td> <td>    4.950</td> <td>    5.139</td>\n",
       "</tr>\n",
       "</table>\n",
       "<table class=\"simpletable\">\n",
       "<tr>\n",
       "  <th>Omnibus:</th>       <td> 1.009</td> <th>  Durbin-Watson:     </th> <td>   1.998</td>\n",
       "</tr>\n",
       "<tr>\n",
       "  <th>Prob(Omnibus):</th> <td> 0.604</td> <th>  Jarque-Bera (JB):  </th> <td>   1.050</td>\n",
       "</tr>\n",
       "<tr>\n",
       "  <th>Skew:</th>          <td>-0.076</td> <th>  Prob(JB):          </th> <td>   0.592</td>\n",
       "</tr>\n",
       "<tr>\n",
       "  <th>Kurtosis:</th>      <td> 2.953</td> <th>  Cond. No.          </th> <td>    2.04</td>\n",
       "</tr>\n",
       "</table><br/><br/>Notes:<br/>[1] R² is computed without centering (uncentered) since the model does not contain a constant.<br/>[2] Standard Errors assume that the covariance matrix of the errors is correctly specified."
      ],
      "text/latex": [
       "\\begin{center}\n",
       "\\begin{tabular}{lclc}\n",
       "\\toprule\n",
       "\\textbf{Dep. Variable:}    &        y         & \\textbf{  R-squared (uncentered):}      &     0.964   \\\\\n",
       "\\textbf{Model:}            &       OLS        & \\textbf{  Adj. R-squared (uncentered):} &     0.964   \\\\\n",
       "\\textbf{Method:}           &  Least Squares   & \\textbf{  F-statistic:       }          & 1.349e+04   \\\\\n",
       "\\textbf{Date:}             & Mon, 15 Jan 2024 & \\textbf{  Prob (F-statistic):}          &     0.00    \\\\\n",
       "\\textbf{Time:}             &     08:29:35     & \\textbf{  Log-Likelihood:    }          &   -1412.0   \\\\\n",
       "\\textbf{No. Observations:} &        1000      & \\textbf{  AIC:               }          &     2828.   \\\\\n",
       "\\textbf{Df Residuals:}     &         998      & \\textbf{  BIC:               }          &     2838.   \\\\\n",
       "\\textbf{Df Model:}         &           2      & \\textbf{                     }          &             \\\\\n",
       "\\textbf{Covariance Type:}  &    nonrobust     & \\textbf{                     }          &             \\\\\n",
       "\\bottomrule\n",
       "\\end{tabular}\n",
       "\\begin{tabular}{lcccccc}\n",
       "            & \\textbf{coef} & \\textbf{std err} & \\textbf{t} & \\textbf{P$> |$t$|$} & \\textbf{[0.025} & \\textbf{0.975]}  \\\\\n",
       "\\midrule\n",
       "\\textbf{x1} &       1.8526  &        0.030     &    61.035  &         0.000        &        1.793    &        1.912     \\\\\n",
       "\\textbf{x2} &       5.0446  &        0.048     &   104.530  &         0.000        &        4.950    &        5.139     \\\\\n",
       "\\bottomrule\n",
       "\\end{tabular}\n",
       "\\begin{tabular}{lclc}\n",
       "\\textbf{Omnibus:}       &  1.009 & \\textbf{  Durbin-Watson:     } &    1.998  \\\\\n",
       "\\textbf{Prob(Omnibus):} &  0.604 & \\textbf{  Jarque-Bera (JB):  } &    1.050  \\\\\n",
       "\\textbf{Skew:}          & -0.076 & \\textbf{  Prob(JB):          } &    0.592  \\\\\n",
       "\\textbf{Kurtosis:}      &  2.953 & \\textbf{  Cond. No.          } &     2.04  \\\\\n",
       "\\bottomrule\n",
       "\\end{tabular}\n",
       "%\\caption{OLS Regression Results}\n",
       "\\end{center}\n",
       "\n",
       "Notes: \\newline\n",
       " [1] R² is computed without centering (uncentered) since the model does not contain a constant. \\newline\n",
       " [2] Standard Errors assume that the covariance matrix of the errors is correctly specified."
      ],
      "text/plain": [
       "<class 'statsmodels.iolib.summary.Summary'>\n",
       "\"\"\"\n",
       "                                 OLS Regression Results                                \n",
       "=======================================================================================\n",
       "Dep. Variable:                      y   R-squared (uncentered):                   0.964\n",
       "Model:                            OLS   Adj. R-squared (uncentered):              0.964\n",
       "Method:                 Least Squares   F-statistic:                          1.349e+04\n",
       "Date:                Mon, 15 Jan 2024   Prob (F-statistic):                        0.00\n",
       "Time:                        08:29:35   Log-Likelihood:                         -1412.0\n",
       "No. Observations:                1000   AIC:                                      2828.\n",
       "Df Residuals:                     998   BIC:                                      2838.\n",
       "Df Model:                           2                                                  \n",
       "Covariance Type:            nonrobust                                                  \n",
       "==============================================================================\n",
       "                 coef    std err          t      P>|t|      [0.025      0.975]\n",
       "------------------------------------------------------------------------------\n",
       "x1             1.8526      0.030     61.035      0.000       1.793       1.912\n",
       "x2             5.0446      0.048    104.530      0.000       4.950       5.139\n",
       "==============================================================================\n",
       "Omnibus:                        1.009   Durbin-Watson:                   1.998\n",
       "Prob(Omnibus):                  0.604   Jarque-Bera (JB):                1.050\n",
       "Skew:                          -0.076   Prob(JB):                        0.592\n",
       "Kurtosis:                       2.953   Cond. No.                         2.04\n",
       "==============================================================================\n",
       "\n",
       "Notes:\n",
       "[1] R² is computed without centering (uncentered) since the model does not contain a constant.\n",
       "[2] Standard Errors assume that the covariance matrix of the errors is correctly specified.\n",
       "\"\"\""
      ]
     },
     "execution_count": 10,
     "metadata": {},
     "output_type": "execute_result"
    }
   ],
   "source": [
    "model = OLS(np.asarray(df[outcome]), np.asarray(df[[common_cause, treatment]], dtype=np.float64))\n",
    "result = model.fit()\n",
    "result.summary()"
   ]
  }
 ],
 "metadata": {
  "kernelspec": {
   "display_name": "Python 3 (ipykernel)",
   "language": "python",
   "name": "python3"
  },
  "language_info": {
   "codemirror_mode": {
    "name": "ipython",
    "version": 3
   },
   "file_extension": ".py",
   "mimetype": "text/x-python",
   "name": "python",
   "nbconvert_exporter": "python",
   "pygments_lexer": "ipython3",
   "version": "3.8.10"
  },
  "toc": {
   "base_numbering": 1,
   "nav_menu": {},
   "number_sections": false,
   "sideBar": true,
   "skip_h1_title": true,
   "title_cell": "Table of Contents",
   "title_sidebar": "Contents",
   "toc_cell": false,
   "toc_position": {},
   "toc_section_display": true,
   "toc_window_display": false
  }
 },
 "nbformat": 4,
 "nbformat_minor": 4
}
