{
 "cells": [
  {
   "cell_type": "markdown",
   "metadata": {},
   "source": [
    "# Demo for the DoWhy causal API\n",
    "We show a simple example of adding a causal extension to any dataframe. "
   ]
  },
  {
   "cell_type": "code",
   "execution_count": 1,
   "metadata": {
    "execution": {
     "iopub.execute_input": "2023-07-14T14:49:46.598737Z",
     "iopub.status.busy": "2023-07-14T14:49:46.598472Z",
     "iopub.status.idle": "2023-07-14T14:49:48.398119Z",
     "shell.execute_reply": "2023-07-14T14:49:48.396894Z"
    }
   },
   "outputs": [],
   "source": [
    "import dowhy.datasets\n",
    "import dowhy.api\n",
    "\n",
    "import numpy as np\n",
    "import pandas as pd\n",
    "\n",
    "from statsmodels.api import OLS"
   ]
  },
  {
   "cell_type": "code",
   "execution_count": 2,
   "metadata": {
    "execution": {
     "iopub.execute_input": "2023-07-14T14:49:48.402686Z",
     "iopub.status.busy": "2023-07-14T14:49:48.401967Z",
     "iopub.status.idle": "2023-07-14T14:49:48.445143Z",
     "shell.execute_reply": "2023-07-14T14:49:48.444347Z"
    }
   },
   "outputs": [
    {
     "data": {
      "text/html": [
       "<div>\n",
       "<style scoped>\n",
       "    .dataframe tbody tr th:only-of-type {\n",
       "        vertical-align: middle;\n",
       "    }\n",
       "\n",
       "    .dataframe tbody tr th {\n",
       "        vertical-align: top;\n",
       "    }\n",
       "\n",
       "    .dataframe thead th {\n",
       "        text-align: right;\n",
       "    }\n",
       "</style>\n",
       "<table border=\"1\" class=\"dataframe\">\n",
       "  <thead>\n",
       "    <tr style=\"text-align: right;\">\n",
       "      <th></th>\n",
       "      <th>W0</th>\n",
       "      <th>v0</th>\n",
       "      <th>y</th>\n",
       "    </tr>\n",
       "  </thead>\n",
       "  <tbody>\n",
       "    <tr>\n",
       "      <th>0</th>\n",
       "      <td>0.646543</td>\n",
       "      <td>False</td>\n",
       "      <td>0.033826</td>\n",
       "    </tr>\n",
       "    <tr>\n",
       "      <th>1</th>\n",
       "      <td>1.527600</td>\n",
       "      <td>False</td>\n",
       "      <td>-0.239594</td>\n",
       "    </tr>\n",
       "    <tr>\n",
       "      <th>2</th>\n",
       "      <td>1.097988</td>\n",
       "      <td>True</td>\n",
       "      <td>5.971463</td>\n",
       "    </tr>\n",
       "    <tr>\n",
       "      <th>3</th>\n",
       "      <td>-0.797248</td>\n",
       "      <td>True</td>\n",
       "      <td>4.928882</td>\n",
       "    </tr>\n",
       "    <tr>\n",
       "      <th>4</th>\n",
       "      <td>-0.115689</td>\n",
       "      <td>False</td>\n",
       "      <td>-0.093215</td>\n",
       "    </tr>\n",
       "    <tr>\n",
       "      <th>...</th>\n",
       "      <td>...</td>\n",
       "      <td>...</td>\n",
       "      <td>...</td>\n",
       "    </tr>\n",
       "    <tr>\n",
       "      <th>995</th>\n",
       "      <td>1.436270</td>\n",
       "      <td>False</td>\n",
       "      <td>1.102132</td>\n",
       "    </tr>\n",
       "    <tr>\n",
       "      <th>996</th>\n",
       "      <td>1.550079</td>\n",
       "      <td>True</td>\n",
       "      <td>7.405873</td>\n",
       "    </tr>\n",
       "    <tr>\n",
       "      <th>997</th>\n",
       "      <td>3.277287</td>\n",
       "      <td>False</td>\n",
       "      <td>2.544209</td>\n",
       "    </tr>\n",
       "    <tr>\n",
       "      <th>998</th>\n",
       "      <td>1.352804</td>\n",
       "      <td>False</td>\n",
       "      <td>0.556050</td>\n",
       "    </tr>\n",
       "    <tr>\n",
       "      <th>999</th>\n",
       "      <td>1.165514</td>\n",
       "      <td>True</td>\n",
       "      <td>6.899125</td>\n",
       "    </tr>\n",
       "  </tbody>\n",
       "</table>\n",
       "<p>1000 rows × 3 columns</p>\n",
       "</div>"
      ],
      "text/plain": [
       "           W0     v0         y\n",
       "0    0.646543  False  0.033826\n",
       "1    1.527600  False -0.239594\n",
       "2    1.097988   True  5.971463\n",
       "3   -0.797248   True  4.928882\n",
       "4   -0.115689  False -0.093215\n",
       "..        ...    ...       ...\n",
       "995  1.436270  False  1.102132\n",
       "996  1.550079   True  7.405873\n",
       "997  3.277287  False  2.544209\n",
       "998  1.352804  False  0.556050\n",
       "999  1.165514   True  6.899125\n",
       "\n",
       "[1000 rows x 3 columns]"
      ]
     },
     "execution_count": 2,
     "metadata": {},
     "output_type": "execute_result"
    }
   ],
   "source": [
    "data = dowhy.datasets.linear_dataset(beta=5,\n",
    "        num_common_causes=1,\n",
    "        num_instruments = 0,\n",
    "        num_samples=1000,\n",
    "        treatment_is_binary=True)\n",
    "df = data['df']\n",
    "df['y'] = df['y'] + np.random.normal(size=len(df)) # Adding noise to data. Without noise, the variance in Y|X, Z is zero, and mcmc fails.\n",
    "#data['dot_graph'] = 'digraph { v ->y;X0-> v;X0-> y;}'\n",
    "\n",
    "treatment= data[\"treatment_name\"][0]\n",
    "outcome = data[\"outcome_name\"][0]\n",
    "common_cause = data[\"common_causes_names\"][0]\n",
    "df"
   ]
  },
  {
   "cell_type": "code",
   "execution_count": 3,
   "metadata": {
    "execution": {
     "iopub.execute_input": "2023-07-14T14:49:48.448510Z",
     "iopub.status.busy": "2023-07-14T14:49:48.448064Z",
     "iopub.status.idle": "2023-07-14T14:49:48.668917Z",
     "shell.execute_reply": "2023-07-14T14:49:48.668197Z"
    }
   },
   "outputs": [
    {
     "data": {
      "text/plain": [
       "<Axes: xlabel='v0'>"
      ]
     },
     "execution_count": 3,
     "metadata": {},
     "output_type": "execute_result"
    },
    {
     "data": {
      "image/png": "[encoded data removed]",
      "text/plain": [
       "<Figure size 640x480 with 1 Axes>"
      ]
     },
     "metadata": {},
     "output_type": "display_data"
    }
   ],
   "source": [
    "# data['df'] is just a regular pandas.DataFrame\n",
    "df.causal.do(x=treatment,\n",
    "                     variable_types={treatment: 'b', outcome: 'c', common_cause: 'c'},\n",
    "                     outcome=outcome,\n",
    "                     common_causes=[common_cause],\n",
    "                     proceed_when_unidentifiable=True).groupby(treatment).mean().plot(y=outcome, kind='bar')"
   ]
  },
  {
   "cell_type": "code",
   "execution_count": 4,
   "metadata": {
    "execution": {
     "iopub.execute_input": "2023-07-14T14:49:48.672734Z",
     "iopub.status.busy": "2023-07-14T14:49:48.672084Z",
     "iopub.status.idle": "2023-07-14T14:49:48.821525Z",
     "shell.execute_reply": "2023-07-14T14:49:48.820977Z"
    }
   },
   "outputs": [
    {
     "data": {
      "text/plain": [
       "<Axes: xlabel='v0'>"
      ]
     },
     "execution_count": 4,
     "metadata": {},
     "output_type": "execute_result"
    },
    {
     "data": {
      "image/png": "[encoded data removed]",
      "text/plain": [
       "<Figure size 640x480 with 1 Axes>"
      ]
     },
     "metadata": {},
     "output_type": "display_data"
    }
   ],
   "source": [
    "df.causal.do(x={treatment: 1}, \n",
    "              variable_types={treatment:'b', outcome: 'c', common_cause: 'c'}, \n",
    "              outcome=outcome,\n",
    "              method='weighting', \n",
    "              common_causes=[common_cause],\n",
    "              proceed_when_unidentifiable=True).groupby(treatment).mean().plot(y=outcome, kind='bar')"
   ]
  },
  {
   "cell_type": "code",
   "execution_count": 5,
   "metadata": {
    "execution": {
     "iopub.execute_input": "2023-07-14T14:49:48.824562Z",
     "iopub.status.busy": "2023-07-14T14:49:48.824025Z",
     "iopub.status.idle": "2023-07-14T14:49:48.855598Z",
     "shell.execute_reply": "2023-07-14T14:49:48.854954Z"
    }
   },
   "outputs": [],
   "source": [
    "cdf_1 = df.causal.do(x={treatment: 1}, \n",
    "              variable_types={treatment: 'b', outcome: 'c', common_cause: 'c'}, \n",
    "              outcome=outcome, \n",
    "              dot_graph=data['dot_graph'],\n",
    "              proceed_when_unidentifiable=True)\n",
    "\n",
    "cdf_0 = df.causal.do(x={treatment: 0}, \n",
    "              variable_types={treatment: 'b', outcome: 'c', common_cause: 'c'}, \n",
    "              outcome=outcome, \n",
    "              dot_graph=data['dot_graph'],\n",
    "              proceed_when_unidentifiable=True)\n"
   ]
  },
  {
   "cell_type": "code",
   "execution_count": 6,
   "metadata": {
    "execution": {
     "iopub.execute_input": "2023-07-14T14:49:48.859128Z",
     "iopub.status.busy": "2023-07-14T14:49:48.858356Z",
     "iopub.status.idle": "2023-07-14T14:49:48.870060Z",
     "shell.execute_reply": "2023-07-14T14:49:48.869489Z"
    },
    "scrolled": true
   },
   "outputs": [
    {
     "data": {
      "text/html": [
       "<div>\n",
       "<style scoped>\n",
       "    .dataframe tbody tr th:only-of-type {\n",
       "        vertical-align: middle;\n",
       "    }\n",
       "\n",
       "    .dataframe tbody tr th {\n",
       "        vertical-align: top;\n",
       "    }\n",
       "\n",
       "    .dataframe thead th {\n",
       "        text-align: right;\n",
       "    }\n",
       "</style>\n",
       "<table border=\"1\" class=\"dataframe\">\n",
       "  <thead>\n",
       "    <tr style=\"text-align: right;\">\n",
       "      <th></th>\n",
       "      <th>W0</th>\n",
       "      <th>v0</th>\n",
       "      <th>y</th>\n",
       "      <th>propensity_score</th>\n",
       "      <th>weight</th>\n",
       "    </tr>\n",
       "  </thead>\n",
       "  <tbody>\n",
       "    <tr>\n",
       "      <th>0</th>\n",
       "      <td>1.056421</td>\n",
       "      <td>False</td>\n",
       "      <td>1.805122</td>\n",
       "      <td>0.299215</td>\n",
       "      <td>3.342084</td>\n",
       "    </tr>\n",
       "    <tr>\n",
       "      <th>1</th>\n",
       "      <td>0.309448</td>\n",
       "      <td>False</td>\n",
       "      <td>-0.135718</td>\n",
       "      <td>0.443201</td>\n",
       "      <td>2.256313</td>\n",
       "    </tr>\n",
       "    <tr>\n",
       "      <th>2</th>\n",
       "      <td>1.078169</td>\n",
       "      <td>False</td>\n",
       "      <td>-0.385077</td>\n",
       "      <td>0.295426</td>\n",
       "      <td>3.384944</td>\n",
       "    </tr>\n",
       "    <tr>\n",
       "      <th>3</th>\n",
       "      <td>-2.010174</td>\n",
       "      <td>False</td>\n",
       "      <td>0.574037</td>\n",
       "      <td>0.846320</td>\n",
       "      <td>1.181586</td>\n",
       "    </tr>\n",
       "    <tr>\n",
       "      <th>4</th>\n",
       "      <td>2.316295</td>\n",
       "      <td>False</td>\n",
       "      <td>1.488426</td>\n",
       "      <td>0.129930</td>\n",
       "      <td>7.696476</td>\n",
       "    </tr>\n",
       "    <tr>\n",
       "      <th>...</th>\n",
       "      <td>...</td>\n",
       "      <td>...</td>\n",
       "      <td>...</td>\n",
       "      <td>...</td>\n",
       "      <td>...</td>\n",
       "    </tr>\n",
       "    <tr>\n",
       "      <th>995</th>\n",
       "      <td>-0.135581</td>\n",
       "      <td>False</td>\n",
       "      <td>0.061334</td>\n",
       "      <td>0.535665</td>\n",
       "      <td>1.866837</td>\n",
       "    </tr>\n",
       "    <tr>\n",
       "      <th>996</th>\n",
       "      <td>2.016184</td>\n",
       "      <td>False</td>\n",
       "      <td>0.361125</td>\n",
       "      <td>0.160929</td>\n",
       "      <td>6.213936</td>\n",
       "    </tr>\n",
       "    <tr>\n",
       "      <th>997</th>\n",
       "      <td>1.784319</td>\n",
       "      <td>False</td>\n",
       "      <td>1.249384</td>\n",
       "      <td>0.188774</td>\n",
       "      <td>5.297337</td>\n",
       "    </tr>\n",
       "    <tr>\n",
       "      <th>998</th>\n",
       "      <td>0.290405</td>\n",
       "      <td>False</td>\n",
       "      <td>-1.613832</td>\n",
       "      <td>0.447123</td>\n",
       "      <td>2.236521</td>\n",
       "    </tr>\n",
       "    <tr>\n",
       "      <th>999</th>\n",
       "      <td>0.528679</td>\n",
       "      <td>False</td>\n",
       "      <td>-0.178218</td>\n",
       "      <td>0.398676</td>\n",
       "      <td>2.508304</td>\n",
       "    </tr>\n",
       "  </tbody>\n",
       "</table>\n",
       "<p>1000 rows × 5 columns</p>\n",
       "</div>"
      ],
      "text/plain": [
       "           W0     v0         y  propensity_score    weight\n",
       "0    1.056421  False  1.805122          0.299215  3.342084\n",
       "1    0.309448  False -0.135718          0.443201  2.256313\n",
       "2    1.078169  False -0.385077          0.295426  3.384944\n",
       "3   -2.010174  False  0.574037          0.846320  1.181586\n",
       "4    2.316295  False  1.488426          0.129930  7.696476\n",
       "..        ...    ...       ...               ...       ...\n",
       "995 -0.135581  False  0.061334          0.535665  1.866837\n",
       "996  2.016184  False  0.361125          0.160929  6.213936\n",
       "997  1.784319  False  1.249384          0.188774  5.297337\n",
       "998  0.290405  False -1.613832          0.447123  2.236521\n",
       "999  0.528679  False -0.178218          0.398676  2.508304\n",
       "\n",
       "[1000 rows x 5 columns]"
      ]
     },
     "execution_count": 6,
     "metadata": {},
     "output_type": "execute_result"
    }
   ],
   "source": [
    "cdf_0"
   ]
  },
  {
   "cell_type": "code",
   "execution_count": 7,
   "metadata": {
    "execution": {
     "iopub.execute_input": "2023-07-14T14:49:48.872922Z",
     "iopub.status.busy": "2023-07-14T14:49:48.872469Z",
     "iopub.status.idle": "2023-07-14T14:49:48.883692Z",
     "shell.execute_reply": "2023-07-14T14:49:48.883117Z"
    }
   },
   "outputs": [
    {
     "data": {
      "text/html": [
       "<div>\n",
       "<style scoped>\n",
       "    .dataframe tbody tr th:only-of-type {\n",
       "        vertical-align: middle;\n",
       "    }\n",
       "\n",
       "    .dataframe tbody tr th {\n",
       "        vertical-align: top;\n",
       "    }\n",
       "\n",
       "    .dataframe thead th {\n",
       "        text-align: right;\n",
       "    }\n",
       "</style>\n",
       "<table border=\"1\" class=\"dataframe\">\n",
       "  <thead>\n",
       "    <tr style=\"text-align: right;\">\n",
       "      <th></th>\n",
       "      <th>W0</th>\n",
       "      <th>v0</th>\n",
       "      <th>y</th>\n",
       "      <th>propensity_score</th>\n",
       "      <th>weight</th>\n",
       "    </tr>\n",
       "  </thead>\n",
       "  <tbody>\n",
       "    <tr>\n",
       "      <th>0</th>\n",
       "      <td>0.840504</td>\n",
       "      <td>True</td>\n",
       "      <td>7.476787</td>\n",
       "      <td>0.661727</td>\n",
       "      <td>1.511197</td>\n",
       "    </tr>\n",
       "    <tr>\n",
       "      <th>1</th>\n",
       "      <td>-0.004606</td>\n",
       "      <td>True</td>\n",
       "      <td>6.097482</td>\n",
       "      <td>0.491578</td>\n",
       "      <td>2.034265</td>\n",
       "    </tr>\n",
       "    <tr>\n",
       "      <th>2</th>\n",
       "      <td>-0.526528</td>\n",
       "      <td>True</td>\n",
       "      <td>4.514917</td>\n",
       "      <td>0.384878</td>\n",
       "      <td>2.598224</td>\n",
       "    </tr>\n",
       "    <tr>\n",
       "      <th>3</th>\n",
       "      <td>0.913513</td>\n",
       "      <td>True</td>\n",
       "      <td>5.425661</td>\n",
       "      <td>0.675217</td>\n",
       "      <td>1.481005</td>\n",
       "    </tr>\n",
       "    <tr>\n",
       "      <th>4</th>\n",
       "      <td>-0.157850</td>\n",
       "      <td>True</td>\n",
       "      <td>5.136871</td>\n",
       "      <td>0.459719</td>\n",
       "      <td>2.175241</td>\n",
       "    </tr>\n",
       "    <tr>\n",
       "      <th>...</th>\n",
       "      <td>...</td>\n",
       "      <td>...</td>\n",
       "      <td>...</td>\n",
       "      <td>...</td>\n",
       "      <td>...</td>\n",
       "    </tr>\n",
       "    <tr>\n",
       "      <th>995</th>\n",
       "      <td>0.931825</td>\n",
       "      <td>True</td>\n",
       "      <td>5.382999</td>\n",
       "      <td>0.678557</td>\n",
       "      <td>1.473716</td>\n",
       "    </tr>\n",
       "    <tr>\n",
       "      <th>996</th>\n",
       "      <td>0.768037</td>\n",
       "      <td>True</td>\n",
       "      <td>5.055411</td>\n",
       "      <td>0.648072</td>\n",
       "      <td>1.543039</td>\n",
       "    </tr>\n",
       "    <tr>\n",
       "      <th>997</th>\n",
       "      <td>2.620760</td>\n",
       "      <td>True</td>\n",
       "      <td>6.858828</td>\n",
       "      <td>0.896178</td>\n",
       "      <td>1.115850</td>\n",
       "    </tr>\n",
       "    <tr>\n",
       "      <th>998</th>\n",
       "      <td>1.765639</td>\n",
       "      <td>True</td>\n",
       "      <td>5.569043</td>\n",
       "      <td>0.808829</td>\n",
       "      <td>1.236355</td>\n",
       "    </tr>\n",
       "    <tr>\n",
       "      <th>999</th>\n",
       "      <td>0.880325</td>\n",
       "      <td>True</td>\n",
       "      <td>7.106015</td>\n",
       "      <td>0.669119</td>\n",
       "      <td>1.494502</td>\n",
       "    </tr>\n",
       "  </tbody>\n",
       "</table>\n",
       "<p>1000 rows × 5 columns</p>\n",
       "</div>"
      ],
      "text/plain": [
       "           W0    v0         y  propensity_score    weight\n",
       "0    0.840504  True  7.476787          0.661727  1.511197\n",
       "1   -0.004606  True  6.097482          0.491578  2.034265\n",
       "2   -0.526528  True  4.514917          0.384878  2.598224\n",
       "3    0.913513  True  5.425661          0.675217  1.481005\n",
       "4   -0.157850  True  5.136871          0.459719  2.175241\n",
       "..        ...   ...       ...               ...       ...\n",
       "995  0.931825  True  5.382999          0.678557  1.473716\n",
       "996  0.768037  True  5.055411          0.648072  1.543039\n",
       "997  2.620760  True  6.858828          0.896178  1.115850\n",
       "998  1.765639  True  5.569043          0.808829  1.236355\n",
       "999  0.880325  True  7.106015          0.669119  1.494502\n",
       "\n",
       "[1000 rows x 5 columns]"
      ]
     },
     "execution_count": 7,
     "metadata": {},
     "output_type": "execute_result"
    }
   ],
   "source": [
    "cdf_1"
   ]
  },
  {
   "cell_type": "markdown",
   "metadata": {},
   "source": [
    "## Comparing the estimate to Linear Regression\n",
    "First, estimating the effect using the causal data frame, and the 95% confidence interval."
   ]
  },
  {
   "cell_type": "code",
   "execution_count": 8,
   "metadata": {
    "execution": {
     "iopub.execute_input": "2023-07-14T14:49:48.886839Z",
     "iopub.status.busy": "2023-07-14T14:49:48.886246Z",
     "iopub.status.idle": "2023-07-14T14:49:48.952612Z",
     "shell.execute_reply": "2023-07-14T14:49:48.951812Z"
    }
   },
   "outputs": [
    {
     "data": {
      "image/png": "[encoded data removed]",
      "text/latex": [
       "$\\displaystyle 5.06945292091404$"
      ],
      "text/plain": [
       "5.069452920914044"
      ]
     },
     "execution_count": 8,
     "metadata": {},
     "output_type": "execute_result"
    }
   ],
   "source": [
    "(cdf_1['y'] - cdf_0['y']).mean()"
   ]
  },
  {
   "cell_type": "code",
   "execution_count": 9,
   "metadata": {
    "execution": {
     "iopub.execute_input": "2023-07-14T14:49:48.956349Z",
     "iopub.status.busy": "2023-07-14T14:49:48.956086Z",
     "iopub.status.idle": "2023-07-14T14:49:48.977116Z",
     "shell.execute_reply": "2023-07-14T14:49:48.976376Z"
    }
   },
   "outputs": [
    {
     "data": {
      "image/png": "[encoded data removed]",
      "text/latex": [
       "$\\displaystyle 0.10285213645456$"
      ],
      "text/plain": [
       "0.10285213645456005"
      ]
     },
     "execution_count": 9,
     "metadata": {},
     "output_type": "execute_result"
    }
   ],
   "source": [
    "1.96*(cdf_1['y'] - cdf_0['y']).std() / np.sqrt(len(df))"
   ]
  },
  {
   "cell_type": "markdown",
   "metadata": {},
   "source": [
    "Comparing to the estimate from OLS."
   ]
  },
  {
   "cell_type": "code",
   "execution_count": 10,
   "metadata": {
    "execution": {
     "iopub.execute_input": "2023-07-14T14:49:48.980351Z",
     "iopub.status.busy": "2023-07-14T14:49:48.979901Z",
     "iopub.status.idle": "2023-07-14T14:49:48.996840Z",
     "shell.execute_reply": "2023-07-14T14:49:48.996122Z"
    }
   },
   "outputs": [
    {
     "data": {
      "text/html": [
       "<table class=\"simpletable\">\n",
       "<caption>OLS Regression Results</caption>\n",
       "<tr>\n",
       "  <th>Dep. Variable:</th>            <td>y</td>        <th>  R-squared (uncentered):</th>      <td>   0.952</td>\n",
       "</tr>\n",
       "<tr>\n",
       "  <th>Model:</th>                   <td>OLS</td>       <th>  Adj. R-squared (uncentered):</th> <td>   0.952</td>\n",
       "</tr>\n",
       "<tr>\n",
       "  <th>Method:</th>             <td>Least Squares</td>  <th>  F-statistic:       </th>          <td>   9887.</td>\n",
       "</tr>\n",
       "<tr>\n",
       "  <th>Date:</th>             <td>Fri, 14 Jul 2023</td> <th>  Prob (F-statistic):</th>           <td>  0.00</td> \n",
       "</tr>\n",
       "<tr>\n",
       "  <th>Time:</th>                 <td>14:49:48</td>     <th>  Log-Likelihood:    </th>          <td> -1415.0</td>\n",
       "</tr>\n",
       "<tr>\n",
       "  <th>No. Observations:</th>      <td>  1000</td>      <th>  AIC:               </th>          <td>   2834.</td>\n",
       "</tr>\n",
       "<tr>\n",
       "  <th>Df Residuals:</th>          <td>   998</td>      <th>  BIC:               </th>          <td>   2844.</td>\n",
       "</tr>\n",
       "<tr>\n",
       "  <th>Df Model:</th>              <td>     2</td>      <th>                     </th>              <td> </td>   \n",
       "</tr>\n",
       "<tr>\n",
       "  <th>Covariance Type:</th>      <td>nonrobust</td>    <th>                     </th>              <td> </td>   \n",
       "</tr>\n",
       "</table>\n",
       "<table class=\"simpletable\">\n",
       "<tr>\n",
       "   <td></td>     <th>coef</th>     <th>std err</th>      <th>t</th>      <th>P>|t|</th>  <th>[0.025</th>    <th>0.975]</th>  \n",
       "</tr>\n",
       "<tr>\n",
       "  <th>x1</th> <td>    0.6855</td> <td>    0.033</td> <td>   20.957</td> <td> 0.000</td> <td>    0.621</td> <td>    0.750</td>\n",
       "</tr>\n",
       "<tr>\n",
       "  <th>x2</th> <td>    5.0243</td> <td>    0.050</td> <td>   99.602</td> <td> 0.000</td> <td>    4.925</td> <td>    5.123</td>\n",
       "</tr>\n",
       "</table>\n",
       "<table class=\"simpletable\">\n",
       "<tr>\n",
       "  <th>Omnibus:</th>       <td> 2.434</td> <th>  Durbin-Watson:     </th> <td>   2.034</td>\n",
       "</tr>\n",
       "<tr>\n",
       "  <th>Prob(Omnibus):</th> <td> 0.296</td> <th>  Jarque-Bera (JB):  </th> <td>   2.208</td>\n",
       "</tr>\n",
       "<tr>\n",
       "  <th>Skew:</th>          <td> 0.034</td> <th>  Prob(JB):          </th> <td>   0.332</td>\n",
       "</tr>\n",
       "<tr>\n",
       "  <th>Kurtosis:</th>      <td> 2.780</td> <th>  Cond. No.          </th> <td>    2.28</td>\n",
       "</tr>\n",
       "</table><br/><br/>Notes:<br/>[1] R² is computed without centering (uncentered) since the model does not contain a constant.<br/>[2] Standard Errors assume that the covariance matrix of the errors is correctly specified."
      ],
      "text/plain": [
       "<class 'statsmodels.iolib.summary.Summary'>\n",
       "\"\"\"\n",
       "                                 OLS Regression Results                                \n",
       "=======================================================================================\n",
       "Dep. Variable:                      y   R-squared (uncentered):                   0.952\n",
       "Model:                            OLS   Adj. R-squared (uncentered):              0.952\n",
       "Method:                 Least Squares   F-statistic:                              9887.\n",
       "Date:                Fri, 14 Jul 2023   Prob (F-statistic):                        0.00\n",
       "Time:                        14:49:48   Log-Likelihood:                         -1415.0\n",
       "No. Observations:                1000   AIC:                                      2834.\n",
       "Df Residuals:                     998   BIC:                                      2844.\n",
       "Df Model:                           2                                                  \n",
       "Covariance Type:            nonrobust                                                  \n",
       "==============================================================================\n",
       "                 coef    std err          t      P>|t|      [0.025      0.975]\n",
       "------------------------------------------------------------------------------\n",
       "x1             0.6855      0.033     20.957      0.000       0.621       0.750\n",
       "x2             5.0243      0.050     99.602      0.000       4.925       5.123\n",
       "==============================================================================\n",
       "Omnibus:                        2.434   Durbin-Watson:                   2.034\n",
       "Prob(Omnibus):                  0.296   Jarque-Bera (JB):                2.208\n",
       "Skew:                           0.034   Prob(JB):                        0.332\n",
       "Kurtosis:                       2.780   Cond. No.                         2.28\n",
       "==============================================================================\n",
       "\n",
       "Notes:\n",
       "[1] R² is computed without centering (uncentered) since the model does not contain a constant.\n",
       "[2] Standard Errors assume that the covariance matrix of the errors is correctly specified.\n",
       "\"\"\""
      ]
     },
     "execution_count": 10,
     "metadata": {},
     "output_type": "execute_result"
    }
   ],
   "source": [
    "model = OLS(np.asarray(df[outcome]), np.asarray(df[[common_cause, treatment]], dtype=np.float64))\n",
    "result = model.fit()\n",
    "result.summary()"
   ]
  }
 ],
 "metadata": {
  "kernelspec": {
   "display_name": "Python 3",
   "language": "python",
   "name": "python3"
  },
  "language_info": {
   "codemirror_mode": {
    "name": "ipython",
    "version": 3
   },
   "file_extension": ".py",
   "mimetype": "text/x-python",
   "name": "python",
   "nbconvert_exporter": "python",
   "pygments_lexer": "ipython3",
   "version": "3.8.10"
  },
  "toc": {
   "base_numbering": 1,
   "nav_menu": {},
   "number_sections": false,
   "sideBar": true,
   "skip_h1_title": true,
   "title_cell": "Table of Contents",
   "title_sidebar": "Contents",
   "toc_cell": false,
   "toc_position": {},
   "toc_section_display": true,
   "toc_window_display": false
  }
 },
 "nbformat": 4,
 "nbformat_minor": 4
}
