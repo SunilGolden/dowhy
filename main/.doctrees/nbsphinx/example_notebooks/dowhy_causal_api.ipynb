{
 "cells": [
  {
   "cell_type": "markdown",
   "metadata": {},
   "source": [
    "# Demo for the DoWhy causal API\n",
    "We show a simple example of adding a causal extension to any dataframe. "
   ]
  },
  {
   "cell_type": "code",
   "execution_count": 1,
   "metadata": {
    "execution": {
     "iopub.execute_input": "2024-06-04T15:40:44.785075Z",
     "iopub.status.busy": "2024-06-04T15:40:44.784896Z",
     "iopub.status.idle": "2024-06-04T15:40:46.209743Z",
     "shell.execute_reply": "2024-06-04T15:40:46.209128Z"
    }
   },
   "outputs": [],
   "source": [
    "import dowhy.datasets\n",
    "import dowhy.api\n",
    "from dowhy.graph import build_graph_from_str\n",
    "\n",
    "import numpy as np\n",
    "import pandas as pd\n",
    "\n",
    "from statsmodels.api import OLS"
   ]
  },
  {
   "cell_type": "code",
   "execution_count": 2,
   "metadata": {
    "execution": {
     "iopub.execute_input": "2024-06-04T15:40:46.212664Z",
     "iopub.status.busy": "2024-06-04T15:40:46.212173Z",
     "iopub.status.idle": "2024-06-04T15:40:46.248748Z",
     "shell.execute_reply": "2024-06-04T15:40:46.248137Z"
    }
   },
   "outputs": [
    {
     "data": {
      "text/html": [
       "<div>\n",
       "<style scoped>\n",
       "    .dataframe tbody tr th:only-of-type {\n",
       "        vertical-align: middle;\n",
       "    }\n",
       "\n",
       "    .dataframe tbody tr th {\n",
       "        vertical-align: top;\n",
       "    }\n",
       "\n",
       "    .dataframe thead th {\n",
       "        text-align: right;\n",
       "    }\n",
       "</style>\n",
       "<table border=\"1\" class=\"dataframe\">\n",
       "  <thead>\n",
       "    <tr style=\"text-align: right;\">\n",
       "      <th></th>\n",
       "      <th>W0</th>\n",
       "      <th>v0</th>\n",
       "      <th>y</th>\n",
       "    </tr>\n",
       "  </thead>\n",
       "  <tbody>\n",
       "    <tr>\n",
       "      <th>0</th>\n",
       "      <td>0.078621</td>\n",
       "      <td>True</td>\n",
       "      <td>5.757184</td>\n",
       "    </tr>\n",
       "    <tr>\n",
       "      <th>1</th>\n",
       "      <td>-0.400388</td>\n",
       "      <td>False</td>\n",
       "      <td>0.342392</td>\n",
       "    </tr>\n",
       "    <tr>\n",
       "      <th>2</th>\n",
       "      <td>0.709590</td>\n",
       "      <td>False</td>\n",
       "      <td>-0.711664</td>\n",
       "    </tr>\n",
       "    <tr>\n",
       "      <th>3</th>\n",
       "      <td>1.271127</td>\n",
       "      <td>True</td>\n",
       "      <td>7.712637</td>\n",
       "    </tr>\n",
       "    <tr>\n",
       "      <th>4</th>\n",
       "      <td>0.663324</td>\n",
       "      <td>True</td>\n",
       "      <td>6.137904</td>\n",
       "    </tr>\n",
       "    <tr>\n",
       "      <th>...</th>\n",
       "      <td>...</td>\n",
       "      <td>...</td>\n",
       "      <td>...</td>\n",
       "    </tr>\n",
       "    <tr>\n",
       "      <th>995</th>\n",
       "      <td>0.492527</td>\n",
       "      <td>True</td>\n",
       "      <td>4.721456</td>\n",
       "    </tr>\n",
       "    <tr>\n",
       "      <th>996</th>\n",
       "      <td>-0.756521</td>\n",
       "      <td>True</td>\n",
       "      <td>5.777454</td>\n",
       "    </tr>\n",
       "    <tr>\n",
       "      <th>997</th>\n",
       "      <td>0.860135</td>\n",
       "      <td>True</td>\n",
       "      <td>5.754291</td>\n",
       "    </tr>\n",
       "    <tr>\n",
       "      <th>998</th>\n",
       "      <td>2.396059</td>\n",
       "      <td>True</td>\n",
       "      <td>7.328236</td>\n",
       "    </tr>\n",
       "    <tr>\n",
       "      <th>999</th>\n",
       "      <td>0.524454</td>\n",
       "      <td>True</td>\n",
       "      <td>4.184099</td>\n",
       "    </tr>\n",
       "  </tbody>\n",
       "</table>\n",
       "<p>1000 rows × 3 columns</p>\n",
       "</div>"
      ],
      "text/plain": [
       "           W0     v0         y\n",
       "0    0.078621   True  5.757184\n",
       "1   -0.400388  False  0.342392\n",
       "2    0.709590  False -0.711664\n",
       "3    1.271127   True  7.712637\n",
       "4    0.663324   True  6.137904\n",
       "..        ...    ...       ...\n",
       "995  0.492527   True  4.721456\n",
       "996 -0.756521   True  5.777454\n",
       "997  0.860135   True  5.754291\n",
       "998  2.396059   True  7.328236\n",
       "999  0.524454   True  4.184099\n",
       "\n",
       "[1000 rows x 3 columns]"
      ]
     },
     "execution_count": 2,
     "metadata": {},
     "output_type": "execute_result"
    }
   ],
   "source": [
    "data = dowhy.datasets.linear_dataset(beta=5,\n",
    "        num_common_causes=1,\n",
    "        num_instruments = 0,\n",
    "        num_samples=1000,\n",
    "        treatment_is_binary=True)\n",
    "df = data['df']\n",
    "df['y'] = df['y'] + np.random.normal(size=len(df)) # Adding noise to data. Without noise, the variance in Y|X, Z is zero, and mcmc fails.\n",
    "nx_graph = build_graph_from_str(data[\"dot_graph\"])\n",
    "\n",
    "treatment= data[\"treatment_name\"][0]\n",
    "outcome = data[\"outcome_name\"][0]\n",
    "common_cause = data[\"common_causes_names\"][0]\n",
    "df"
   ]
  },
  {
   "cell_type": "code",
   "execution_count": 3,
   "metadata": {
    "execution": {
     "iopub.execute_input": "2024-06-04T15:40:46.251109Z",
     "iopub.status.busy": "2024-06-04T15:40:46.250703Z",
     "iopub.status.idle": "2024-06-04T15:40:46.427043Z",
     "shell.execute_reply": "2024-06-04T15:40:46.426412Z"
    },
    "scrolled": true
   },
   "outputs": [
    {
     "data": {
      "text/plain": [
       "<Axes: xlabel='v0'>"
      ]
     },
     "execution_count": 3,
     "metadata": {},
     "output_type": "execute_result"
    },
    {
     "data": {
      "image/png": "[encoded data removed]",
      "text/plain": [
       "<Figure size 640x480 with 1 Axes>"
      ]
     },
     "metadata": {},
     "output_type": "display_data"
    }
   ],
   "source": [
    "# data['df'] is just a regular pandas.DataFrame\n",
    "df.causal.do(x=treatment,\n",
    "             variable_types={treatment: 'b', outcome: 'c', common_cause: 'c'},\n",
    "             outcome=outcome,\n",
    "             common_causes=[common_cause],\n",
    "            ).groupby(treatment).mean().plot(y=outcome, kind='bar')"
   ]
  },
  {
   "cell_type": "code",
   "execution_count": 4,
   "metadata": {
    "execution": {
     "iopub.execute_input": "2024-06-04T15:40:46.429647Z",
     "iopub.status.busy": "2024-06-04T15:40:46.429218Z",
     "iopub.status.idle": "2024-06-04T15:40:46.562050Z",
     "shell.execute_reply": "2024-06-04T15:40:46.561420Z"
    }
   },
   "outputs": [
    {
     "data": {
      "text/plain": [
       "<Axes: xlabel='v0'>"
      ]
     },
     "execution_count": 4,
     "metadata": {},
     "output_type": "execute_result"
    },
    {
     "data": {
      "image/png": "[encoded data removed]",
      "text/plain": [
       "<Figure size 640x480 with 1 Axes>"
      ]
     },
     "metadata": {},
     "output_type": "display_data"
    }
   ],
   "source": [
    "df.causal.do(x={treatment: 1}, \n",
    "              variable_types={treatment:'b', outcome: 'c', common_cause: 'c'}, \n",
    "              outcome=outcome,\n",
    "              method='weighting', \n",
    "              common_causes=[common_cause]\n",
    "              ).groupby(treatment).mean().plot(y=outcome, kind='bar')"
   ]
  },
  {
   "cell_type": "code",
   "execution_count": 5,
   "metadata": {
    "execution": {
     "iopub.execute_input": "2024-06-04T15:40:46.564833Z",
     "iopub.status.busy": "2024-06-04T15:40:46.564610Z",
     "iopub.status.idle": "2024-06-04T15:40:46.585583Z",
     "shell.execute_reply": "2024-06-04T15:40:46.584937Z"
    }
   },
   "outputs": [],
   "source": [
    "cdf_1 = df.causal.do(x={treatment: 1}, \n",
    "              variable_types={treatment: 'b', outcome: 'c', common_cause: 'c'}, \n",
    "              outcome=outcome, \n",
    "              graph=nx_graph\n",
    "              )\n",
    "\n",
    "cdf_0 = df.causal.do(x={treatment: 0}, \n",
    "              variable_types={treatment: 'b', outcome: 'c', common_cause: 'c'}, \n",
    "              outcome=outcome, \n",
    "              graph=nx_graph\n",
    "              )\n"
   ]
  },
  {
   "cell_type": "code",
   "execution_count": 6,
   "metadata": {
    "execution": {
     "iopub.execute_input": "2024-06-04T15:40:46.588144Z",
     "iopub.status.busy": "2024-06-04T15:40:46.587782Z",
     "iopub.status.idle": "2024-06-04T15:40:46.596679Z",
     "shell.execute_reply": "2024-06-04T15:40:46.596160Z"
    },
    "scrolled": true
   },
   "outputs": [
    {
     "data": {
      "text/html": [
       "<div>\n",
       "<style scoped>\n",
       "    .dataframe tbody tr th:only-of-type {\n",
       "        vertical-align: middle;\n",
       "    }\n",
       "\n",
       "    .dataframe tbody tr th {\n",
       "        vertical-align: top;\n",
       "    }\n",
       "\n",
       "    .dataframe thead th {\n",
       "        text-align: right;\n",
       "    }\n",
       "</style>\n",
       "<table border=\"1\" class=\"dataframe\">\n",
       "  <thead>\n",
       "    <tr style=\"text-align: right;\">\n",
       "      <th></th>\n",
       "      <th>W0</th>\n",
       "      <th>v0</th>\n",
       "      <th>y</th>\n",
       "      <th>propensity_score</th>\n",
       "      <th>weight</th>\n",
       "    </tr>\n",
       "  </thead>\n",
       "  <tbody>\n",
       "    <tr>\n",
       "      <th>0</th>\n",
       "      <td>-0.561784</td>\n",
       "      <td>False</td>\n",
       "      <td>1.699687</td>\n",
       "      <td>0.640206</td>\n",
       "      <td>1.561998</td>\n",
       "    </tr>\n",
       "    <tr>\n",
       "      <th>1</th>\n",
       "      <td>1.405092</td>\n",
       "      <td>False</td>\n",
       "      <td>1.487388</td>\n",
       "      <td>0.236992</td>\n",
       "      <td>4.219545</td>\n",
       "    </tr>\n",
       "    <tr>\n",
       "      <th>2</th>\n",
       "      <td>1.248757</td>\n",
       "      <td>False</td>\n",
       "      <td>0.406419</td>\n",
       "      <td>0.262987</td>\n",
       "      <td>3.802469</td>\n",
       "    </tr>\n",
       "    <tr>\n",
       "      <th>3</th>\n",
       "      <td>0.749027</td>\n",
       "      <td>False</td>\n",
       "      <td>0.388386</td>\n",
       "      <td>0.357320</td>\n",
       "      <td>2.798616</td>\n",
       "    </tr>\n",
       "    <tr>\n",
       "      <th>4</th>\n",
       "      <td>2.955526</td>\n",
       "      <td>False</td>\n",
       "      <td>3.551139</td>\n",
       "      <td>0.072752</td>\n",
       "      <td>13.745346</td>\n",
       "    </tr>\n",
       "    <tr>\n",
       "      <th>...</th>\n",
       "      <td>...</td>\n",
       "      <td>...</td>\n",
       "      <td>...</td>\n",
       "      <td>...</td>\n",
       "      <td>...</td>\n",
       "    </tr>\n",
       "    <tr>\n",
       "      <th>995</th>\n",
       "      <td>0.637684</td>\n",
       "      <td>False</td>\n",
       "      <td>-1.221019</td>\n",
       "      <td>0.380316</td>\n",
       "      <td>2.629391</td>\n",
       "    </tr>\n",
       "    <tr>\n",
       "      <th>996</th>\n",
       "      <td>1.436533</td>\n",
       "      <td>False</td>\n",
       "      <td>0.936511</td>\n",
       "      <td>0.231984</td>\n",
       "      <td>4.310640</td>\n",
       "    </tr>\n",
       "    <tr>\n",
       "      <th>997</th>\n",
       "      <td>0.322269</td>\n",
       "      <td>False</td>\n",
       "      <td>0.470925</td>\n",
       "      <td>0.448114</td>\n",
       "      <td>2.231573</td>\n",
       "    </tr>\n",
       "    <tr>\n",
       "      <th>998</th>\n",
       "      <td>2.305079</td>\n",
       "      <td>False</td>\n",
       "      <td>2.052642</td>\n",
       "      <td>0.122611</td>\n",
       "      <td>8.155844</td>\n",
       "    </tr>\n",
       "    <tr>\n",
       "      <th>999</th>\n",
       "      <td>1.222147</td>\n",
       "      <td>False</td>\n",
       "      <td>1.023543</td>\n",
       "      <td>0.267590</td>\n",
       "      <td>3.737064</td>\n",
       "    </tr>\n",
       "  </tbody>\n",
       "</table>\n",
       "<p>1000 rows × 5 columns</p>\n",
       "</div>"
      ],
      "text/plain": [
       "           W0     v0         y  propensity_score     weight\n",
       "0   -0.561784  False  1.699687          0.640206   1.561998\n",
       "1    1.405092  False  1.487388          0.236992   4.219545\n",
       "2    1.248757  False  0.406419          0.262987   3.802469\n",
       "3    0.749027  False  0.388386          0.357320   2.798616\n",
       "4    2.955526  False  3.551139          0.072752  13.745346\n",
       "..        ...    ...       ...               ...        ...\n",
       "995  0.637684  False -1.221019          0.380316   2.629391\n",
       "996  1.436533  False  0.936511          0.231984   4.310640\n",
       "997  0.322269  False  0.470925          0.448114   2.231573\n",
       "998  2.305079  False  2.052642          0.122611   8.155844\n",
       "999  1.222147  False  1.023543          0.267590   3.737064\n",
       "\n",
       "[1000 rows x 5 columns]"
      ]
     },
     "execution_count": 6,
     "metadata": {},
     "output_type": "execute_result"
    }
   ],
   "source": [
    "cdf_0"
   ]
  },
  {
   "cell_type": "code",
   "execution_count": 7,
   "metadata": {
    "execution": {
     "iopub.execute_input": "2024-06-04T15:40:46.598847Z",
     "iopub.status.busy": "2024-06-04T15:40:46.598498Z",
     "iopub.status.idle": "2024-06-04T15:40:46.606911Z",
     "shell.execute_reply": "2024-06-04T15:40:46.606424Z"
    }
   },
   "outputs": [
    {
     "data": {
      "text/html": [
       "<div>\n",
       "<style scoped>\n",
       "    .dataframe tbody tr th:only-of-type {\n",
       "        vertical-align: middle;\n",
       "    }\n",
       "\n",
       "    .dataframe tbody tr th {\n",
       "        vertical-align: top;\n",
       "    }\n",
       "\n",
       "    .dataframe thead th {\n",
       "        text-align: right;\n",
       "    }\n",
       "</style>\n",
       "<table border=\"1\" class=\"dataframe\">\n",
       "  <thead>\n",
       "    <tr style=\"text-align: right;\">\n",
       "      <th></th>\n",
       "      <th>W0</th>\n",
       "      <th>v0</th>\n",
       "      <th>y</th>\n",
       "      <th>propensity_score</th>\n",
       "      <th>weight</th>\n",
       "    </tr>\n",
       "  </thead>\n",
       "  <tbody>\n",
       "    <tr>\n",
       "      <th>0</th>\n",
       "      <td>-0.816677</td>\n",
       "      <td>True</td>\n",
       "      <td>3.852852</td>\n",
       "      <td>0.309499</td>\n",
       "      <td>3.231023</td>\n",
       "    </tr>\n",
       "    <tr>\n",
       "      <th>1</th>\n",
       "      <td>1.968859</td>\n",
       "      <td>True</td>\n",
       "      <td>6.538102</td>\n",
       "      <td>0.841516</td>\n",
       "      <td>1.188331</td>\n",
       "    </tr>\n",
       "    <tr>\n",
       "      <th>2</th>\n",
       "      <td>-0.184577</td>\n",
       "      <td>True</td>\n",
       "      <td>5.077278</td>\n",
       "      <td>0.439915</td>\n",
       "      <td>2.273164</td>\n",
       "    </tr>\n",
       "    <tr>\n",
       "      <th>3</th>\n",
       "      <td>2.360386</td>\n",
       "      <td>True</td>\n",
       "      <td>5.509986</td>\n",
       "      <td>0.882572</td>\n",
       "      <td>1.133053</td>\n",
       "    </tr>\n",
       "    <tr>\n",
       "      <th>4</th>\n",
       "      <td>1.160772</td>\n",
       "      <td>True</td>\n",
       "      <td>6.447363</td>\n",
       "      <td>0.721601</td>\n",
       "      <td>1.385807</td>\n",
       "    </tr>\n",
       "    <tr>\n",
       "      <th>...</th>\n",
       "      <td>...</td>\n",
       "      <td>...</td>\n",
       "      <td>...</td>\n",
       "      <td>...</td>\n",
       "      <td>...</td>\n",
       "    </tr>\n",
       "    <tr>\n",
       "      <th>995</th>\n",
       "      <td>0.319286</td>\n",
       "      <td>True</td>\n",
       "      <td>3.996884</td>\n",
       "      <td>0.551231</td>\n",
       "      <td>1.814122</td>\n",
       "    </tr>\n",
       "    <tr>\n",
       "      <th>996</th>\n",
       "      <td>0.132959</td>\n",
       "      <td>True</td>\n",
       "      <td>5.847473</td>\n",
       "      <td>0.510071</td>\n",
       "      <td>1.960510</td>\n",
       "    </tr>\n",
       "    <tr>\n",
       "      <th>997</th>\n",
       "      <td>-0.382184</td>\n",
       "      <td>True</td>\n",
       "      <td>5.544882</td>\n",
       "      <td>0.397266</td>\n",
       "      <td>2.517206</td>\n",
       "    </tr>\n",
       "    <tr>\n",
       "      <th>998</th>\n",
       "      <td>1.660791</td>\n",
       "      <td>True</td>\n",
       "      <td>4.400576</td>\n",
       "      <td>0.801574</td>\n",
       "      <td>1.247546</td>\n",
       "    </tr>\n",
       "    <tr>\n",
       "      <th>999</th>\n",
       "      <td>-0.505126</td>\n",
       "      <td>True</td>\n",
       "      <td>5.945214</td>\n",
       "      <td>0.371456</td>\n",
       "      <td>2.692108</td>\n",
       "    </tr>\n",
       "  </tbody>\n",
       "</table>\n",
       "<p>1000 rows × 5 columns</p>\n",
       "</div>"
      ],
      "text/plain": [
       "           W0    v0         y  propensity_score    weight\n",
       "0   -0.816677  True  3.852852          0.309499  3.231023\n",
       "1    1.968859  True  6.538102          0.841516  1.188331\n",
       "2   -0.184577  True  5.077278          0.439915  2.273164\n",
       "3    2.360386  True  5.509986          0.882572  1.133053\n",
       "4    1.160772  True  6.447363          0.721601  1.385807\n",
       "..        ...   ...       ...               ...       ...\n",
       "995  0.319286  True  3.996884          0.551231  1.814122\n",
       "996  0.132959  True  5.847473          0.510071  1.960510\n",
       "997 -0.382184  True  5.544882          0.397266  2.517206\n",
       "998  1.660791  True  4.400576          0.801574  1.247546\n",
       "999 -0.505126  True  5.945214          0.371456  2.692108\n",
       "\n",
       "[1000 rows x 5 columns]"
      ]
     },
     "execution_count": 7,
     "metadata": {},
     "output_type": "execute_result"
    }
   ],
   "source": [
    "cdf_1"
   ]
  },
  {
   "cell_type": "markdown",
   "metadata": {},
   "source": [
    "## Comparing the estimate to Linear Regression\n",
    "First, estimating the effect using the causal data frame, and the 95% confidence interval."
   ]
  },
  {
   "cell_type": "code",
   "execution_count": 8,
   "metadata": {
    "execution": {
     "iopub.execute_input": "2024-06-04T15:40:46.609089Z",
     "iopub.status.busy": "2024-06-04T15:40:46.608700Z",
     "iopub.status.idle": "2024-06-04T15:40:46.654248Z",
     "shell.execute_reply": "2024-06-04T15:40:46.653728Z"
    }
   },
   "outputs": [
    {
     "data": {
      "image/png": "[encoded data removed]",
      "text/latex": [
       "$\\displaystyle 4.95721845279811$"
      ],
      "text/plain": [
       "4.957218452798112"
      ]
     },
     "execution_count": 8,
     "metadata": {},
     "output_type": "execute_result"
    }
   ],
   "source": [
    "(cdf_1['y'] - cdf_0['y']).mean()"
   ]
  },
  {
   "cell_type": "code",
   "execution_count": 9,
   "metadata": {
    "execution": {
     "iopub.execute_input": "2024-06-04T15:40:46.656444Z",
     "iopub.status.busy": "2024-06-04T15:40:46.656096Z",
     "iopub.status.idle": "2024-06-04T15:40:46.671437Z",
     "shell.execute_reply": "2024-06-04T15:40:46.670935Z"
    }
   },
   "outputs": [
    {
     "data": {
      "image/png": "[encoded data removed]",
      "text/latex": [
       "$\\displaystyle 0.106569292248264$"
      ],
      "text/plain": [
       "0.1065692922482638"
      ]
     },
     "execution_count": 9,
     "metadata": {},
     "output_type": "execute_result"
    }
   ],
   "source": [
    "1.96*(cdf_1['y'] - cdf_0['y']).std() / np.sqrt(len(df))"
   ]
  },
  {
   "cell_type": "markdown",
   "metadata": {},
   "source": [
    "Comparing to the estimate from OLS."
   ]
  },
  {
   "cell_type": "code",
   "execution_count": 10,
   "metadata": {
    "execution": {
     "iopub.execute_input": "2024-06-04T15:40:46.673661Z",
     "iopub.status.busy": "2024-06-04T15:40:46.673322Z",
     "iopub.status.idle": "2024-06-04T15:40:46.689382Z",
     "shell.execute_reply": "2024-06-04T15:40:46.688825Z"
    }
   },
   "outputs": [
    {
     "data": {
      "text/html": [
       "<table class=\"simpletable\">\n",
       "<caption>OLS Regression Results</caption>\n",
       "<tr>\n",
       "  <th>Dep. Variable:</th>            <td>y</td>        <th>  R-squared (uncentered):</th>      <td>   0.949</td>\n",
       "</tr>\n",
       "<tr>\n",
       "  <th>Model:</th>                   <td>OLS</td>       <th>  Adj. R-squared (uncentered):</th> <td>   0.949</td>\n",
       "</tr>\n",
       "<tr>\n",
       "  <th>Method:</th>             <td>Least Squares</td>  <th>  F-statistic:       </th>          <td>   9289.</td>\n",
       "</tr>\n",
       "<tr>\n",
       "  <th>Date:</th>             <td>Tue, 04 Jun 2024</td> <th>  Prob (F-statistic):</th>           <td>  0.00</td> \n",
       "</tr>\n",
       "<tr>\n",
       "  <th>Time:</th>                 <td>15:40:46</td>     <th>  Log-Likelihood:    </th>          <td> -1453.5</td>\n",
       "</tr>\n",
       "<tr>\n",
       "  <th>No. Observations:</th>      <td>  1000</td>      <th>  AIC:               </th>          <td>   2911.</td>\n",
       "</tr>\n",
       "<tr>\n",
       "  <th>Df Residuals:</th>          <td>   998</td>      <th>  BIC:               </th>          <td>   2921.</td>\n",
       "</tr>\n",
       "<tr>\n",
       "  <th>Df Model:</th>              <td>     2</td>      <th>                     </th>              <td> </td>   \n",
       "</tr>\n",
       "<tr>\n",
       "  <th>Covariance Type:</th>      <td>nonrobust</td>    <th>                     </th>              <td> </td>   \n",
       "</tr>\n",
       "</table>\n",
       "<table class=\"simpletable\">\n",
       "<tr>\n",
       "   <td></td>     <th>coef</th>     <th>std err</th>      <th>t</th>      <th>P>|t|</th>  <th>[0.025</th>    <th>0.975]</th>  \n",
       "</tr>\n",
       "<tr>\n",
       "  <th>x1</th> <td>    0.7329</td> <td>    0.036</td> <td>   20.363</td> <td> 0.000</td> <td>    0.662</td> <td>    0.804</td>\n",
       "</tr>\n",
       "<tr>\n",
       "  <th>x2</th> <td>    5.0427</td> <td>    0.053</td> <td>   94.423</td> <td> 0.000</td> <td>    4.938</td> <td>    5.148</td>\n",
       "</tr>\n",
       "</table>\n",
       "<table class=\"simpletable\">\n",
       "<tr>\n",
       "  <th>Omnibus:</th>       <td> 1.234</td> <th>  Durbin-Watson:     </th> <td>   2.156</td>\n",
       "</tr>\n",
       "<tr>\n",
       "  <th>Prob(Omnibus):</th> <td> 0.540</td> <th>  Jarque-Bera (JB):  </th> <td>   1.264</td>\n",
       "</tr>\n",
       "<tr>\n",
       "  <th>Skew:</th>          <td>-0.036</td> <th>  Prob(JB):          </th> <td>   0.532</td>\n",
       "</tr>\n",
       "<tr>\n",
       "  <th>Kurtosis:</th>      <td> 2.842</td> <th>  Cond. No.          </th> <td>    2.28</td>\n",
       "</tr>\n",
       "</table><br/><br/>Notes:<br/>[1] R² is computed without centering (uncentered) since the model does not contain a constant.<br/>[2] Standard Errors assume that the covariance matrix of the errors is correctly specified."
      ],
      "text/latex": [
       "\\begin{center}\n",
       "\\begin{tabular}{lclc}\n",
       "\\toprule\n",
       "\\textbf{Dep. Variable:}    &        y         & \\textbf{  R-squared (uncentered):}      &     0.949   \\\\\n",
       "\\textbf{Model:}            &       OLS        & \\textbf{  Adj. R-squared (uncentered):} &     0.949   \\\\\n",
       "\\textbf{Method:}           &  Least Squares   & \\textbf{  F-statistic:       }          &     9289.   \\\\\n",
       "\\textbf{Date:}             & Tue, 04 Jun 2024 & \\textbf{  Prob (F-statistic):}          &     0.00    \\\\\n",
       "\\textbf{Time:}             &     15:40:46     & \\textbf{  Log-Likelihood:    }          &   -1453.5   \\\\\n",
       "\\textbf{No. Observations:} &        1000      & \\textbf{  AIC:               }          &     2911.   \\\\\n",
       "\\textbf{Df Residuals:}     &         998      & \\textbf{  BIC:               }          &     2921.   \\\\\n",
       "\\textbf{Df Model:}         &           2      & \\textbf{                     }          &             \\\\\n",
       "\\textbf{Covariance Type:}  &    nonrobust     & \\textbf{                     }          &             \\\\\n",
       "\\bottomrule\n",
       "\\end{tabular}\n",
       "\\begin{tabular}{lcccccc}\n",
       "            & \\textbf{coef} & \\textbf{std err} & \\textbf{t} & \\textbf{P$> |$t$|$} & \\textbf{[0.025} & \\textbf{0.975]}  \\\\\n",
       "\\midrule\n",
       "\\textbf{x1} &       0.7329  &        0.036     &    20.363  &         0.000        &        0.662    &        0.804     \\\\\n",
       "\\textbf{x2} &       5.0427  &        0.053     &    94.423  &         0.000        &        4.938    &        5.148     \\\\\n",
       "\\bottomrule\n",
       "\\end{tabular}\n",
       "\\begin{tabular}{lclc}\n",
       "\\textbf{Omnibus:}       &  1.234 & \\textbf{  Durbin-Watson:     } &    2.156  \\\\\n",
       "\\textbf{Prob(Omnibus):} &  0.540 & \\textbf{  Jarque-Bera (JB):  } &    1.264  \\\\\n",
       "\\textbf{Skew:}          & -0.036 & \\textbf{  Prob(JB):          } &    0.532  \\\\\n",
       "\\textbf{Kurtosis:}      &  2.842 & \\textbf{  Cond. No.          } &     2.28  \\\\\n",
       "\\bottomrule\n",
       "\\end{tabular}\n",
       "%\\caption{OLS Regression Results}\n",
       "\\end{center}\n",
       "\n",
       "Notes: \\newline\n",
       " [1] R² is computed without centering (uncentered) since the model does not contain a constant. \\newline\n",
       " [2] Standard Errors assume that the covariance matrix of the errors is correctly specified."
      ],
      "text/plain": [
       "<class 'statsmodels.iolib.summary.Summary'>\n",
       "\"\"\"\n",
       "                                 OLS Regression Results                                \n",
       "=======================================================================================\n",
       "Dep. Variable:                      y   R-squared (uncentered):                   0.949\n",
       "Model:                            OLS   Adj. R-squared (uncentered):              0.949\n",
       "Method:                 Least Squares   F-statistic:                              9289.\n",
       "Date:                Tue, 04 Jun 2024   Prob (F-statistic):                        0.00\n",
       "Time:                        15:40:46   Log-Likelihood:                         -1453.5\n",
       "No. Observations:                1000   AIC:                                      2911.\n",
       "Df Residuals:                     998   BIC:                                      2921.\n",
       "Df Model:                           2                                                  \n",
       "Covariance Type:            nonrobust                                                  \n",
       "==============================================================================\n",
       "                 coef    std err          t      P>|t|      [0.025      0.975]\n",
       "------------------------------------------------------------------------------\n",
       "x1             0.7329      0.036     20.363      0.000       0.662       0.804\n",
       "x2             5.0427      0.053     94.423      0.000       4.938       5.148\n",
       "==============================================================================\n",
       "Omnibus:                        1.234   Durbin-Watson:                   2.156\n",
       "Prob(Omnibus):                  0.540   Jarque-Bera (JB):                1.264\n",
       "Skew:                          -0.036   Prob(JB):                        0.532\n",
       "Kurtosis:                       2.842   Cond. No.                         2.28\n",
       "==============================================================================\n",
       "\n",
       "Notes:\n",
       "[1] R² is computed without centering (uncentered) since the model does not contain a constant.\n",
       "[2] Standard Errors assume that the covariance matrix of the errors is correctly specified.\n",
       "\"\"\""
      ]
     },
     "execution_count": 10,
     "metadata": {},
     "output_type": "execute_result"
    }
   ],
   "source": [
    "model = OLS(np.asarray(df[outcome]), np.asarray(df[[common_cause, treatment]], dtype=np.float64))\n",
    "result = model.fit()\n",
    "result.summary()"
   ]
  }
 ],
 "metadata": {
  "kernelspec": {
   "display_name": "Python 3 (ipykernel)",
   "language": "python",
   "name": "python3"
  },
  "language_info": {
   "codemirror_mode": {
    "name": "ipython",
    "version": 3
   },
   "file_extension": ".py",
   "mimetype": "text/x-python",
   "name": "python",
   "nbconvert_exporter": "python",
   "pygments_lexer": "ipython3",
   "version": "3.8.10"
  },
  "toc": {
   "base_numbering": 1,
   "nav_menu": {},
   "number_sections": false,
   "sideBar": true,
   "skip_h1_title": true,
   "title_cell": "Table of Contents",
   "title_sidebar": "Contents",
   "toc_cell": false,
   "toc_position": {},
   "toc_section_display": true,
   "toc_window_display": false
  }
 },
 "nbformat": 4,
 "nbformat_minor": 4
}
