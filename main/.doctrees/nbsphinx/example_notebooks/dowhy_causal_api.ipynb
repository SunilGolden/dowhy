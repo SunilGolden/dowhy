{
 "cells": [
  {
   "cell_type": "markdown",
   "metadata": {},
   "source": [
    "# Demo for the DoWhy causal API\n",
    "We show a simple example of adding a causal extension to any dataframe. "
   ]
  },
  {
   "cell_type": "code",
   "execution_count": 1,
   "metadata": {
    "execution": {
     "iopub.execute_input": "2023-11-17T15:11:22.961722Z",
     "iopub.status.busy": "2023-11-17T15:11:22.961548Z",
     "iopub.status.idle": "2023-11-17T15:11:24.365025Z",
     "shell.execute_reply": "2023-11-17T15:11:24.364425Z"
    }
   },
   "outputs": [],
   "source": [
    "import dowhy.datasets\n",
    "import dowhy.api\n",
    "\n",
    "import numpy as np\n",
    "import pandas as pd\n",
    "\n",
    "from statsmodels.api import OLS"
   ]
  },
  {
   "cell_type": "code",
   "execution_count": 2,
   "metadata": {
    "execution": {
     "iopub.execute_input": "2023-11-17T15:11:24.368022Z",
     "iopub.status.busy": "2023-11-17T15:11:24.367401Z",
     "iopub.status.idle": "2023-11-17T15:11:24.401892Z",
     "shell.execute_reply": "2023-11-17T15:11:24.401275Z"
    }
   },
   "outputs": [
    {
     "data": {
      "text/html": [
       "<div>\n",
       "<style scoped>\n",
       "    .dataframe tbody tr th:only-of-type {\n",
       "        vertical-align: middle;\n",
       "    }\n",
       "\n",
       "    .dataframe tbody tr th {\n",
       "        vertical-align: top;\n",
       "    }\n",
       "\n",
       "    .dataframe thead th {\n",
       "        text-align: right;\n",
       "    }\n",
       "</style>\n",
       "<table border=\"1\" class=\"dataframe\">\n",
       "  <thead>\n",
       "    <tr style=\"text-align: right;\">\n",
       "      <th></th>\n",
       "      <th>W0</th>\n",
       "      <th>v0</th>\n",
       "      <th>y</th>\n",
       "    </tr>\n",
       "  </thead>\n",
       "  <tbody>\n",
       "    <tr>\n",
       "      <th>0</th>\n",
       "      <td>1.735058</td>\n",
       "      <td>True</td>\n",
       "      <td>5.492055</td>\n",
       "    </tr>\n",
       "    <tr>\n",
       "      <th>1</th>\n",
       "      <td>2.373844</td>\n",
       "      <td>True</td>\n",
       "      <td>7.434484</td>\n",
       "    </tr>\n",
       "    <tr>\n",
       "      <th>2</th>\n",
       "      <td>0.109087</td>\n",
       "      <td>True</td>\n",
       "      <td>4.395485</td>\n",
       "    </tr>\n",
       "    <tr>\n",
       "      <th>3</th>\n",
       "      <td>0.385280</td>\n",
       "      <td>True</td>\n",
       "      <td>5.918364</td>\n",
       "    </tr>\n",
       "    <tr>\n",
       "      <th>4</th>\n",
       "      <td>0.342354</td>\n",
       "      <td>False</td>\n",
       "      <td>1.671708</td>\n",
       "    </tr>\n",
       "    <tr>\n",
       "      <th>...</th>\n",
       "      <td>...</td>\n",
       "      <td>...</td>\n",
       "      <td>...</td>\n",
       "    </tr>\n",
       "    <tr>\n",
       "      <th>995</th>\n",
       "      <td>0.721946</td>\n",
       "      <td>True</td>\n",
       "      <td>7.802852</td>\n",
       "    </tr>\n",
       "    <tr>\n",
       "      <th>996</th>\n",
       "      <td>-1.278261</td>\n",
       "      <td>True</td>\n",
       "      <td>2.438687</td>\n",
       "    </tr>\n",
       "    <tr>\n",
       "      <th>997</th>\n",
       "      <td>0.739223</td>\n",
       "      <td>False</td>\n",
       "      <td>1.177654</td>\n",
       "    </tr>\n",
       "    <tr>\n",
       "      <th>998</th>\n",
       "      <td>1.605937</td>\n",
       "      <td>True</td>\n",
       "      <td>6.771141</td>\n",
       "    </tr>\n",
       "    <tr>\n",
       "      <th>999</th>\n",
       "      <td>0.334838</td>\n",
       "      <td>False</td>\n",
       "      <td>0.114997</td>\n",
       "    </tr>\n",
       "  </tbody>\n",
       "</table>\n",
       "<p>1000 rows × 3 columns</p>\n",
       "</div>"
      ],
      "text/plain": [
       "           W0     v0         y\n",
       "0    1.735058   True  5.492055\n",
       "1    2.373844   True  7.434484\n",
       "2    0.109087   True  4.395485\n",
       "3    0.385280   True  5.918364\n",
       "4    0.342354  False  1.671708\n",
       "..        ...    ...       ...\n",
       "995  0.721946   True  7.802852\n",
       "996 -1.278261   True  2.438687\n",
       "997  0.739223  False  1.177654\n",
       "998  1.605937   True  6.771141\n",
       "999  0.334838  False  0.114997\n",
       "\n",
       "[1000 rows x 3 columns]"
      ]
     },
     "execution_count": 2,
     "metadata": {},
     "output_type": "execute_result"
    }
   ],
   "source": [
    "data = dowhy.datasets.linear_dataset(beta=5,\n",
    "        num_common_causes=1,\n",
    "        num_instruments = 0,\n",
    "        num_samples=1000,\n",
    "        treatment_is_binary=True)\n",
    "df = data['df']\n",
    "df['y'] = df['y'] + np.random.normal(size=len(df)) # Adding noise to data. Without noise, the variance in Y|X, Z is zero, and mcmc fails.\n",
    "#data['dot_graph'] = 'digraph { v ->y;X0-> v;X0-> y;}'\n",
    "\n",
    "treatment= data[\"treatment_name\"][0]\n",
    "outcome = data[\"outcome_name\"][0]\n",
    "common_cause = data[\"common_causes_names\"][0]\n",
    "df"
   ]
  },
  {
   "cell_type": "code",
   "execution_count": 3,
   "metadata": {
    "execution": {
     "iopub.execute_input": "2023-11-17T15:11:24.404338Z",
     "iopub.status.busy": "2023-11-17T15:11:24.403998Z",
     "iopub.status.idle": "2023-11-17T15:11:24.559818Z",
     "shell.execute_reply": "2023-11-17T15:11:24.559065Z"
    }
   },
   "outputs": [
    {
     "data": {
      "text/plain": [
       "<Axes: xlabel='v0'>"
      ]
     },
     "execution_count": 3,
     "metadata": {},
     "output_type": "execute_result"
    },
    {
     "data": {
      "image/png": "[encoded data removed]",
      "text/plain": [
       "<Figure size 640x480 with 1 Axes>"
      ]
     },
     "metadata": {},
     "output_type": "display_data"
    }
   ],
   "source": [
    "# data['df'] is just a regular pandas.DataFrame\n",
    "df.causal.do(x=treatment,\n",
    "                     variable_types={treatment: 'b', outcome: 'c', common_cause: 'c'},\n",
    "                     outcome=outcome,\n",
    "                     common_causes=[common_cause],\n",
    "                     proceed_when_unidentifiable=True).groupby(treatment).mean().plot(y=outcome, kind='bar')"
   ]
  },
  {
   "cell_type": "code",
   "execution_count": 4,
   "metadata": {
    "execution": {
     "iopub.execute_input": "2023-11-17T15:11:24.562624Z",
     "iopub.status.busy": "2023-11-17T15:11:24.562138Z",
     "iopub.status.idle": "2023-11-17T15:11:24.670540Z",
     "shell.execute_reply": "2023-11-17T15:11:24.669796Z"
    }
   },
   "outputs": [
    {
     "data": {
      "text/plain": [
       "<Axes: xlabel='v0'>"
      ]
     },
     "execution_count": 4,
     "metadata": {},
     "output_type": "execute_result"
    },
    {
     "data": {
      "image/png": "[encoded data removed]",
      "text/plain": [
       "<Figure size 640x480 with 1 Axes>"
      ]
     },
     "metadata": {},
     "output_type": "display_data"
    }
   ],
   "source": [
    "df.causal.do(x={treatment: 1}, \n",
    "              variable_types={treatment:'b', outcome: 'c', common_cause: 'c'}, \n",
    "              outcome=outcome,\n",
    "              method='weighting', \n",
    "              common_causes=[common_cause],\n",
    "              proceed_when_unidentifiable=True).groupby(treatment).mean().plot(y=outcome, kind='bar')"
   ]
  },
  {
   "cell_type": "code",
   "execution_count": 5,
   "metadata": {
    "execution": {
     "iopub.execute_input": "2023-11-17T15:11:24.673084Z",
     "iopub.status.busy": "2023-11-17T15:11:24.672691Z",
     "iopub.status.idle": "2023-11-17T15:11:24.699210Z",
     "shell.execute_reply": "2023-11-17T15:11:24.698577Z"
    }
   },
   "outputs": [],
   "source": [
    "cdf_1 = df.causal.do(x={treatment: 1}, \n",
    "              variable_types={treatment: 'b', outcome: 'c', common_cause: 'c'}, \n",
    "              outcome=outcome, \n",
    "              dot_graph=data['dot_graph'],\n",
    "              proceed_when_unidentifiable=True)\n",
    "\n",
    "cdf_0 = df.causal.do(x={treatment: 0}, \n",
    "              variable_types={treatment: 'b', outcome: 'c', common_cause: 'c'}, \n",
    "              outcome=outcome, \n",
    "              dot_graph=data['dot_graph'],\n",
    "              proceed_when_unidentifiable=True)\n"
   ]
  },
  {
   "cell_type": "code",
   "execution_count": 6,
   "metadata": {
    "execution": {
     "iopub.execute_input": "2023-11-17T15:11:24.701947Z",
     "iopub.status.busy": "2023-11-17T15:11:24.701490Z",
     "iopub.status.idle": "2023-11-17T15:11:24.710663Z",
     "shell.execute_reply": "2023-11-17T15:11:24.710120Z"
    },
    "scrolled": true
   },
   "outputs": [
    {
     "data": {
      "text/html": [
       "<div>\n",
       "<style scoped>\n",
       "    .dataframe tbody tr th:only-of-type {\n",
       "        vertical-align: middle;\n",
       "    }\n",
       "\n",
       "    .dataframe tbody tr th {\n",
       "        vertical-align: top;\n",
       "    }\n",
       "\n",
       "    .dataframe thead th {\n",
       "        text-align: right;\n",
       "    }\n",
       "</style>\n",
       "<table border=\"1\" class=\"dataframe\">\n",
       "  <thead>\n",
       "    <tr style=\"text-align: right;\">\n",
       "      <th></th>\n",
       "      <th>W0</th>\n",
       "      <th>v0</th>\n",
       "      <th>y</th>\n",
       "      <th>propensity_score</th>\n",
       "      <th>weight</th>\n",
       "    </tr>\n",
       "  </thead>\n",
       "  <tbody>\n",
       "    <tr>\n",
       "      <th>0</th>\n",
       "      <td>2.648197</td>\n",
       "      <td>False</td>\n",
       "      <td>3.311792</td>\n",
       "      <td>0.236542</td>\n",
       "      <td>4.227575</td>\n",
       "    </tr>\n",
       "    <tr>\n",
       "      <th>1</th>\n",
       "      <td>1.244481</td>\n",
       "      <td>False</td>\n",
       "      <td>2.131991</td>\n",
       "      <td>0.369171</td>\n",
       "      <td>2.708769</td>\n",
       "    </tr>\n",
       "    <tr>\n",
       "      <th>2</th>\n",
       "      <td>1.249983</td>\n",
       "      <td>False</td>\n",
       "      <td>3.904493</td>\n",
       "      <td>0.368591</td>\n",
       "      <td>2.713034</td>\n",
       "    </tr>\n",
       "    <tr>\n",
       "      <th>3</th>\n",
       "      <td>0.761553</td>\n",
       "      <td>False</td>\n",
       "      <td>0.933221</td>\n",
       "      <td>0.421412</td>\n",
       "      <td>2.372977</td>\n",
       "    </tr>\n",
       "    <tr>\n",
       "      <th>4</th>\n",
       "      <td>0.848728</td>\n",
       "      <td>False</td>\n",
       "      <td>2.251458</td>\n",
       "      <td>0.411813</td>\n",
       "      <td>2.428288</td>\n",
       "    </tr>\n",
       "    <tr>\n",
       "      <th>...</th>\n",
       "      <td>...</td>\n",
       "      <td>...</td>\n",
       "      <td>...</td>\n",
       "      <td>...</td>\n",
       "      <td>...</td>\n",
       "    </tr>\n",
       "    <tr>\n",
       "      <th>995</th>\n",
       "      <td>-0.004935</td>\n",
       "      <td>False</td>\n",
       "      <td>-0.386961</td>\n",
       "      <td>0.507569</td>\n",
       "      <td>1.970176</td>\n",
       "    </tr>\n",
       "    <tr>\n",
       "      <th>996</th>\n",
       "      <td>1.001667</td>\n",
       "      <td>False</td>\n",
       "      <td>-0.262225</td>\n",
       "      <td>0.395138</td>\n",
       "      <td>2.530762</td>\n",
       "    </tr>\n",
       "    <tr>\n",
       "      <th>997</th>\n",
       "      <td>1.035101</td>\n",
       "      <td>False</td>\n",
       "      <td>0.824463</td>\n",
       "      <td>0.391523</td>\n",
       "      <td>2.554126</td>\n",
       "    </tr>\n",
       "    <tr>\n",
       "      <th>998</th>\n",
       "      <td>-0.101056</td>\n",
       "      <td>False</td>\n",
       "      <td>-1.706805</td>\n",
       "      <td>0.518448</td>\n",
       "      <td>1.928833</td>\n",
       "    </tr>\n",
       "    <tr>\n",
       "      <th>999</th>\n",
       "      <td>-0.212418</td>\n",
       "      <td>False</td>\n",
       "      <td>-1.819552</td>\n",
       "      <td>0.531030</td>\n",
       "      <td>1.883134</td>\n",
       "    </tr>\n",
       "  </tbody>\n",
       "</table>\n",
       "<p>1000 rows × 5 columns</p>\n",
       "</div>"
      ],
      "text/plain": [
       "           W0     v0         y  propensity_score    weight\n",
       "0    2.648197  False  3.311792          0.236542  4.227575\n",
       "1    1.244481  False  2.131991          0.369171  2.708769\n",
       "2    1.249983  False  3.904493          0.368591  2.713034\n",
       "3    0.761553  False  0.933221          0.421412  2.372977\n",
       "4    0.848728  False  2.251458          0.411813  2.428288\n",
       "..        ...    ...       ...               ...       ...\n",
       "995 -0.004935  False -0.386961          0.507569  1.970176\n",
       "996  1.001667  False -0.262225          0.395138  2.530762\n",
       "997  1.035101  False  0.824463          0.391523  2.554126\n",
       "998 -0.101056  False -1.706805          0.518448  1.928833\n",
       "999 -0.212418  False -1.819552          0.531030  1.883134\n",
       "\n",
       "[1000 rows x 5 columns]"
      ]
     },
     "execution_count": 6,
     "metadata": {},
     "output_type": "execute_result"
    }
   ],
   "source": [
    "cdf_0"
   ]
  },
  {
   "cell_type": "code",
   "execution_count": 7,
   "metadata": {
    "execution": {
     "iopub.execute_input": "2023-11-17T15:11:24.712974Z",
     "iopub.status.busy": "2023-11-17T15:11:24.712624Z",
     "iopub.status.idle": "2023-11-17T15:11:24.721480Z",
     "shell.execute_reply": "2023-11-17T15:11:24.720851Z"
    }
   },
   "outputs": [
    {
     "data": {
      "text/html": [
       "<div>\n",
       "<style scoped>\n",
       "    .dataframe tbody tr th:only-of-type {\n",
       "        vertical-align: middle;\n",
       "    }\n",
       "\n",
       "    .dataframe tbody tr th {\n",
       "        vertical-align: top;\n",
       "    }\n",
       "\n",
       "    .dataframe thead th {\n",
       "        text-align: right;\n",
       "    }\n",
       "</style>\n",
       "<table border=\"1\" class=\"dataframe\">\n",
       "  <thead>\n",
       "    <tr style=\"text-align: right;\">\n",
       "      <th></th>\n",
       "      <th>W0</th>\n",
       "      <th>v0</th>\n",
       "      <th>y</th>\n",
       "      <th>propensity_score</th>\n",
       "      <th>weight</th>\n",
       "    </tr>\n",
       "  </thead>\n",
       "  <tbody>\n",
       "    <tr>\n",
       "      <th>0</th>\n",
       "      <td>1.510788</td>\n",
       "      <td>True</td>\n",
       "      <td>9.088516</td>\n",
       "      <td>0.658457</td>\n",
       "      <td>1.518703</td>\n",
       "    </tr>\n",
       "    <tr>\n",
       "      <th>1</th>\n",
       "      <td>1.688209</td>\n",
       "      <td>True</td>\n",
       "      <td>7.435233</td>\n",
       "      <td>0.676297</td>\n",
       "      <td>1.478640</td>\n",
       "    </tr>\n",
       "    <tr>\n",
       "      <th>2</th>\n",
       "      <td>-0.115654</td>\n",
       "      <td>True</td>\n",
       "      <td>4.651242</td>\n",
       "      <td>0.479901</td>\n",
       "      <td>2.083763</td>\n",
       "    </tr>\n",
       "    <tr>\n",
       "      <th>3</th>\n",
       "      <td>-0.381311</td>\n",
       "      <td>True</td>\n",
       "      <td>4.476510</td>\n",
       "      <td>0.449969</td>\n",
       "      <td>2.222376</td>\n",
       "    </tr>\n",
       "    <tr>\n",
       "      <th>4</th>\n",
       "      <td>-0.866224</td>\n",
       "      <td>True</td>\n",
       "      <td>4.082236</td>\n",
       "      <td>0.396400</td>\n",
       "      <td>2.522704</td>\n",
       "    </tr>\n",
       "    <tr>\n",
       "      <th>...</th>\n",
       "      <td>...</td>\n",
       "      <td>...</td>\n",
       "      <td>...</td>\n",
       "      <td>...</td>\n",
       "      <td>...</td>\n",
       "    </tr>\n",
       "    <tr>\n",
       "      <th>995</th>\n",
       "      <td>-2.308917</td>\n",
       "      <td>True</td>\n",
       "      <td>0.496417</td>\n",
       "      <td>0.254623</td>\n",
       "      <td>3.927368</td>\n",
       "    </tr>\n",
       "    <tr>\n",
       "      <th>996</th>\n",
       "      <td>-0.717743</td>\n",
       "      <td>True</td>\n",
       "      <td>3.385428</td>\n",
       "      <td>0.412602</td>\n",
       "      <td>2.423641</td>\n",
       "    </tr>\n",
       "    <tr>\n",
       "      <th>997</th>\n",
       "      <td>0.144009</td>\n",
       "      <td>True</td>\n",
       "      <td>5.435488</td>\n",
       "      <td>0.509299</td>\n",
       "      <td>1.963482</td>\n",
       "    </tr>\n",
       "    <tr>\n",
       "      <th>998</th>\n",
       "      <td>1.064319</td>\n",
       "      <td>True</td>\n",
       "      <td>6.265042</td>\n",
       "      <td>0.611626</td>\n",
       "      <td>1.634987</td>\n",
       "    </tr>\n",
       "    <tr>\n",
       "      <th>999</th>\n",
       "      <td>0.125260</td>\n",
       "      <td>True</td>\n",
       "      <td>6.292562</td>\n",
       "      <td>0.507176</td>\n",
       "      <td>1.971701</td>\n",
       "    </tr>\n",
       "  </tbody>\n",
       "</table>\n",
       "<p>1000 rows × 5 columns</p>\n",
       "</div>"
      ],
      "text/plain": [
       "           W0    v0         y  propensity_score    weight\n",
       "0    1.510788  True  9.088516          0.658457  1.518703\n",
       "1    1.688209  True  7.435233          0.676297  1.478640\n",
       "2   -0.115654  True  4.651242          0.479901  2.083763\n",
       "3   -0.381311  True  4.476510          0.449969  2.222376\n",
       "4   -0.866224  True  4.082236          0.396400  2.522704\n",
       "..        ...   ...       ...               ...       ...\n",
       "995 -2.308917  True  0.496417          0.254623  3.927368\n",
       "996 -0.717743  True  3.385428          0.412602  2.423641\n",
       "997  0.144009  True  5.435488          0.509299  1.963482\n",
       "998  1.064319  True  6.265042          0.611626  1.634987\n",
       "999  0.125260  True  6.292562          0.507176  1.971701\n",
       "\n",
       "[1000 rows x 5 columns]"
      ]
     },
     "execution_count": 7,
     "metadata": {},
     "output_type": "execute_result"
    }
   ],
   "source": [
    "cdf_1"
   ]
  },
  {
   "cell_type": "markdown",
   "metadata": {},
   "source": [
    "## Comparing the estimate to Linear Regression\n",
    "First, estimating the effect using the causal data frame, and the 95% confidence interval."
   ]
  },
  {
   "cell_type": "code",
   "execution_count": 8,
   "metadata": {
    "execution": {
     "iopub.execute_input": "2023-11-17T15:11:24.723745Z",
     "iopub.status.busy": "2023-11-17T15:11:24.723414Z",
     "iopub.status.idle": "2023-11-17T15:11:24.771717Z",
     "shell.execute_reply": "2023-11-17T15:11:24.771124Z"
    }
   },
   "outputs": [
    {
     "data": {
      "image/png": "[encoded data removed]",
      "text/latex": [
       "$\\displaystyle 5.17500707919185$"
      ],
      "text/plain": [
       "5.175007079191846"
      ]
     },
     "execution_count": 8,
     "metadata": {},
     "output_type": "execute_result"
    }
   ],
   "source": [
    "(cdf_1['y'] - cdf_0['y']).mean()"
   ]
  },
  {
   "cell_type": "code",
   "execution_count": 9,
   "metadata": {
    "execution": {
     "iopub.execute_input": "2023-11-17T15:11:24.774083Z",
     "iopub.status.busy": "2023-11-17T15:11:24.773721Z",
     "iopub.status.idle": "2023-11-17T15:11:24.790337Z",
     "shell.execute_reply": "2023-11-17T15:11:24.789742Z"
    }
   },
   "outputs": [
    {
     "data": {
      "image/png": "[encoded data removed]",
      "text/latex": [
       "$\\displaystyle 0.17179424828835$"
      ],
      "text/plain": [
       "0.1717942482883497"
      ]
     },
     "execution_count": 9,
     "metadata": {},
     "output_type": "execute_result"
    }
   ],
   "source": [
    "1.96*(cdf_1['y'] - cdf_0['y']).std() / np.sqrt(len(df))"
   ]
  },
  {
   "cell_type": "markdown",
   "metadata": {},
   "source": [
    "Comparing to the estimate from OLS."
   ]
  },
  {
   "cell_type": "code",
   "execution_count": 10,
   "metadata": {
    "execution": {
     "iopub.execute_input": "2023-11-17T15:11:24.792830Z",
     "iopub.status.busy": "2023-11-17T15:11:24.792386Z",
     "iopub.status.idle": "2023-11-17T15:11:24.809716Z",
     "shell.execute_reply": "2023-11-17T15:11:24.809145Z"
    }
   },
   "outputs": [
    {
     "data": {
      "text/html": [
       "<table class=\"simpletable\">\n",
       "<caption>OLS Regression Results</caption>\n",
       "<tr>\n",
       "  <th>Dep. Variable:</th>            <td>y</td>        <th>  R-squared (uncentered):</th>      <td>   0.952</td>\n",
       "</tr>\n",
       "<tr>\n",
       "  <th>Model:</th>                   <td>OLS</td>       <th>  Adj. R-squared (uncentered):</th> <td>   0.952</td>\n",
       "</tr>\n",
       "<tr>\n",
       "  <th>Method:</th>             <td>Least Squares</td>  <th>  F-statistic:       </th>          <td>   9993.</td>\n",
       "</tr>\n",
       "<tr>\n",
       "  <th>Date:</th>             <td>Fri, 17 Nov 2023</td> <th>  Prob (F-statistic):</th>           <td>  0.00</td> \n",
       "</tr>\n",
       "<tr>\n",
       "  <th>Time:</th>                 <td>15:11:24</td>     <th>  Log-Likelihood:    </th>          <td> -1405.0</td>\n",
       "</tr>\n",
       "<tr>\n",
       "  <th>No. Observations:</th>      <td>  1000</td>      <th>  AIC:               </th>          <td>   2814.</td>\n",
       "</tr>\n",
       "<tr>\n",
       "  <th>Df Residuals:</th>          <td>   998</td>      <th>  BIC:               </th>          <td>   2824.</td>\n",
       "</tr>\n",
       "<tr>\n",
       "  <th>Df Model:</th>              <td>     2</td>      <th>                     </th>              <td> </td>   \n",
       "</tr>\n",
       "<tr>\n",
       "  <th>Covariance Type:</th>      <td>nonrobust</td>    <th>                     </th>              <td> </td>   \n",
       "</tr>\n",
       "</table>\n",
       "<table class=\"simpletable\">\n",
       "<tr>\n",
       "   <td></td>     <th>coef</th>     <th>std err</th>      <th>t</th>      <th>P>|t|</th>  <th>[0.025</th>    <th>0.975]</th>  \n",
       "</tr>\n",
       "<tr>\n",
       "  <th>x1</th> <td>    1.7460</td> <td>    0.032</td> <td>   54.469</td> <td> 0.000</td> <td>    1.683</td> <td>    1.809</td>\n",
       "</tr>\n",
       "<tr>\n",
       "  <th>x2</th> <td>    4.9821</td> <td>    0.045</td> <td>  109.763</td> <td> 0.000</td> <td>    4.893</td> <td>    5.071</td>\n",
       "</tr>\n",
       "</table>\n",
       "<table class=\"simpletable\">\n",
       "<tr>\n",
       "  <th>Omnibus:</th>       <td> 1.486</td> <th>  Durbin-Watson:     </th> <td>   1.975</td>\n",
       "</tr>\n",
       "<tr>\n",
       "  <th>Prob(Omnibus):</th> <td> 0.476</td> <th>  Jarque-Bera (JB):  </th> <td>   1.544</td>\n",
       "</tr>\n",
       "<tr>\n",
       "  <th>Skew:</th>          <td>-0.090</td> <th>  Prob(JB):          </th> <td>   0.462</td>\n",
       "</tr>\n",
       "<tr>\n",
       "  <th>Kurtosis:</th>      <td> 2.934</td> <th>  Cond. No.          </th> <td>    1.58</td>\n",
       "</tr>\n",
       "</table><br/><br/>Notes:<br/>[1] R² is computed without centering (uncentered) since the model does not contain a constant.<br/>[2] Standard Errors assume that the covariance matrix of the errors is correctly specified."
      ],
      "text/latex": [
       "\\begin{center}\n",
       "\\begin{tabular}{lclc}\n",
       "\\toprule\n",
       "\\textbf{Dep. Variable:}    &        y         & \\textbf{  R-squared (uncentered):}      &     0.952   \\\\\n",
       "\\textbf{Model:}            &       OLS        & \\textbf{  Adj. R-squared (uncentered):} &     0.952   \\\\\n",
       "\\textbf{Method:}           &  Least Squares   & \\textbf{  F-statistic:       }          &     9993.   \\\\\n",
       "\\textbf{Date:}             & Fri, 17 Nov 2023 & \\textbf{  Prob (F-statistic):}          &     0.00    \\\\\n",
       "\\textbf{Time:}             &     15:11:24     & \\textbf{  Log-Likelihood:    }          &   -1405.0   \\\\\n",
       "\\textbf{No. Observations:} &        1000      & \\textbf{  AIC:               }          &     2814.   \\\\\n",
       "\\textbf{Df Residuals:}     &         998      & \\textbf{  BIC:               }          &     2824.   \\\\\n",
       "\\textbf{Df Model:}         &           2      & \\textbf{                     }          &             \\\\\n",
       "\\textbf{Covariance Type:}  &    nonrobust     & \\textbf{                     }          &             \\\\\n",
       "\\bottomrule\n",
       "\\end{tabular}\n",
       "\\begin{tabular}{lcccccc}\n",
       "            & \\textbf{coef} & \\textbf{std err} & \\textbf{t} & \\textbf{P$> |$t$|$} & \\textbf{[0.025} & \\textbf{0.975]}  \\\\\n",
       "\\midrule\n",
       "\\textbf{x1} &       1.7460  &        0.032     &    54.469  &         0.000        &        1.683    &        1.809     \\\\\n",
       "\\textbf{x2} &       4.9821  &        0.045     &   109.763  &         0.000        &        4.893    &        5.071     \\\\\n",
       "\\bottomrule\n",
       "\\end{tabular}\n",
       "\\begin{tabular}{lclc}\n",
       "\\textbf{Omnibus:}       &  1.486 & \\textbf{  Durbin-Watson:     } &    1.975  \\\\\n",
       "\\textbf{Prob(Omnibus):} &  0.476 & \\textbf{  Jarque-Bera (JB):  } &    1.544  \\\\\n",
       "\\textbf{Skew:}          & -0.090 & \\textbf{  Prob(JB):          } &    0.462  \\\\\n",
       "\\textbf{Kurtosis:}      &  2.934 & \\textbf{  Cond. No.          } &     1.58  \\\\\n",
       "\\bottomrule\n",
       "\\end{tabular}\n",
       "%\\caption{OLS Regression Results}\n",
       "\\end{center}\n",
       "\n",
       "Notes: \\newline\n",
       " [1] R² is computed without centering (uncentered) since the model does not contain a constant. \\newline\n",
       " [2] Standard Errors assume that the covariance matrix of the errors is correctly specified."
      ],
      "text/plain": [
       "<class 'statsmodels.iolib.summary.Summary'>\n",
       "\"\"\"\n",
       "                                 OLS Regression Results                                \n",
       "=======================================================================================\n",
       "Dep. Variable:                      y   R-squared (uncentered):                   0.952\n",
       "Model:                            OLS   Adj. R-squared (uncentered):              0.952\n",
       "Method:                 Least Squares   F-statistic:                              9993.\n",
       "Date:                Fri, 17 Nov 2023   Prob (F-statistic):                        0.00\n",
       "Time:                        15:11:24   Log-Likelihood:                         -1405.0\n",
       "No. Observations:                1000   AIC:                                      2814.\n",
       "Df Residuals:                     998   BIC:                                      2824.\n",
       "Df Model:                           2                                                  \n",
       "Covariance Type:            nonrobust                                                  \n",
       "==============================================================================\n",
       "                 coef    std err          t      P>|t|      [0.025      0.975]\n",
       "------------------------------------------------------------------------------\n",
       "x1             1.7460      0.032     54.469      0.000       1.683       1.809\n",
       "x2             4.9821      0.045    109.763      0.000       4.893       5.071\n",
       "==============================================================================\n",
       "Omnibus:                        1.486   Durbin-Watson:                   1.975\n",
       "Prob(Omnibus):                  0.476   Jarque-Bera (JB):                1.544\n",
       "Skew:                          -0.090   Prob(JB):                        0.462\n",
       "Kurtosis:                       2.934   Cond. No.                         1.58\n",
       "==============================================================================\n",
       "\n",
       "Notes:\n",
       "[1] R² is computed without centering (uncentered) since the model does not contain a constant.\n",
       "[2] Standard Errors assume that the covariance matrix of the errors is correctly specified.\n",
       "\"\"\""
      ]
     },
     "execution_count": 10,
     "metadata": {},
     "output_type": "execute_result"
    }
   ],
   "source": [
    "model = OLS(np.asarray(df[outcome]), np.asarray(df[[common_cause, treatment]], dtype=np.float64))\n",
    "result = model.fit()\n",
    "result.summary()"
   ]
  }
 ],
 "metadata": {
  "kernelspec": {
   "display_name": "Python 3",
   "language": "python",
   "name": "python3"
  },
  "language_info": {
   "codemirror_mode": {
    "name": "ipython",
    "version": 3
   },
   "file_extension": ".py",
   "mimetype": "text/x-python",
   "name": "python",
   "nbconvert_exporter": "python",
   "pygments_lexer": "ipython3",
   "version": "3.8.10"
  },
  "toc": {
   "base_numbering": 1,
   "nav_menu": {},
   "number_sections": false,
   "sideBar": true,
   "skip_h1_title": true,
   "title_cell": "Table of Contents",
   "title_sidebar": "Contents",
   "toc_cell": false,
   "toc_position": {},
   "toc_section_display": true,
   "toc_window_display": false
  }
 },
 "nbformat": 4,
 "nbformat_minor": 4
}
