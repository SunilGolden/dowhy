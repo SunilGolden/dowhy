{
 "cells": [
  {
   "cell_type": "markdown",
   "metadata": {},
   "source": [
    "# Demo for the DoWhy causal API\n",
    "We show a simple example of adding a causal extension to any dataframe. "
   ]
  },
  {
   "cell_type": "code",
   "execution_count": 1,
   "metadata": {
    "execution": {
     "iopub.execute_input": "2023-11-21T15:28:23.187554Z",
     "iopub.status.busy": "2023-11-21T15:28:23.187386Z",
     "iopub.status.idle": "2023-11-21T15:28:24.557350Z",
     "shell.execute_reply": "2023-11-21T15:28:24.556733Z"
    }
   },
   "outputs": [],
   "source": [
    "import dowhy.datasets\n",
    "import dowhy.api\n",
    "\n",
    "import numpy as np\n",
    "import pandas as pd\n",
    "\n",
    "from statsmodels.api import OLS"
   ]
  },
  {
   "cell_type": "code",
   "execution_count": 2,
   "metadata": {
    "execution": {
     "iopub.execute_input": "2023-11-21T15:28:24.560780Z",
     "iopub.status.busy": "2023-11-21T15:28:24.559812Z",
     "iopub.status.idle": "2023-11-21T15:28:24.594542Z",
     "shell.execute_reply": "2023-11-21T15:28:24.593958Z"
    }
   },
   "outputs": [
    {
     "data": {
      "text/html": [
       "<div>\n",
       "<style scoped>\n",
       "    .dataframe tbody tr th:only-of-type {\n",
       "        vertical-align: middle;\n",
       "    }\n",
       "\n",
       "    .dataframe tbody tr th {\n",
       "        vertical-align: top;\n",
       "    }\n",
       "\n",
       "    .dataframe thead th {\n",
       "        text-align: right;\n",
       "    }\n",
       "</style>\n",
       "<table border=\"1\" class=\"dataframe\">\n",
       "  <thead>\n",
       "    <tr style=\"text-align: right;\">\n",
       "      <th></th>\n",
       "      <th>W0</th>\n",
       "      <th>v0</th>\n",
       "      <th>y</th>\n",
       "    </tr>\n",
       "  </thead>\n",
       "  <tbody>\n",
       "    <tr>\n",
       "      <th>0</th>\n",
       "      <td>0.765176</td>\n",
       "      <td>False</td>\n",
       "      <td>-0.233708</td>\n",
       "    </tr>\n",
       "    <tr>\n",
       "      <th>1</th>\n",
       "      <td>0.313713</td>\n",
       "      <td>False</td>\n",
       "      <td>-0.472579</td>\n",
       "    </tr>\n",
       "    <tr>\n",
       "      <th>2</th>\n",
       "      <td>-1.571352</td>\n",
       "      <td>False</td>\n",
       "      <td>-1.398337</td>\n",
       "    </tr>\n",
       "    <tr>\n",
       "      <th>3</th>\n",
       "      <td>1.707349</td>\n",
       "      <td>True</td>\n",
       "      <td>7.620153</td>\n",
       "    </tr>\n",
       "    <tr>\n",
       "      <th>4</th>\n",
       "      <td>-1.723321</td>\n",
       "      <td>False</td>\n",
       "      <td>-1.796085</td>\n",
       "    </tr>\n",
       "    <tr>\n",
       "      <th>...</th>\n",
       "      <td>...</td>\n",
       "      <td>...</td>\n",
       "      <td>...</td>\n",
       "    </tr>\n",
       "    <tr>\n",
       "      <th>995</th>\n",
       "      <td>-0.198451</td>\n",
       "      <td>False</td>\n",
       "      <td>-0.913314</td>\n",
       "    </tr>\n",
       "    <tr>\n",
       "      <th>996</th>\n",
       "      <td>0.051515</td>\n",
       "      <td>False</td>\n",
       "      <td>-0.671764</td>\n",
       "    </tr>\n",
       "    <tr>\n",
       "      <th>997</th>\n",
       "      <td>-0.361595</td>\n",
       "      <td>False</td>\n",
       "      <td>0.577652</td>\n",
       "    </tr>\n",
       "    <tr>\n",
       "      <th>998</th>\n",
       "      <td>-1.176302</td>\n",
       "      <td>True</td>\n",
       "      <td>4.435608</td>\n",
       "    </tr>\n",
       "    <tr>\n",
       "      <th>999</th>\n",
       "      <td>-0.186895</td>\n",
       "      <td>False</td>\n",
       "      <td>0.550882</td>\n",
       "    </tr>\n",
       "  </tbody>\n",
       "</table>\n",
       "<p>1000 rows × 3 columns</p>\n",
       "</div>"
      ],
      "text/plain": [
       "           W0     v0         y\n",
       "0    0.765176  False -0.233708\n",
       "1    0.313713  False -0.472579\n",
       "2   -1.571352  False -1.398337\n",
       "3    1.707349   True  7.620153\n",
       "4   -1.723321  False -1.796085\n",
       "..        ...    ...       ...\n",
       "995 -0.198451  False -0.913314\n",
       "996  0.051515  False -0.671764\n",
       "997 -0.361595  False  0.577652\n",
       "998 -1.176302   True  4.435608\n",
       "999 -0.186895  False  0.550882\n",
       "\n",
       "[1000 rows x 3 columns]"
      ]
     },
     "execution_count": 2,
     "metadata": {},
     "output_type": "execute_result"
    }
   ],
   "source": [
    "data = dowhy.datasets.linear_dataset(beta=5,\n",
    "        num_common_causes=1,\n",
    "        num_instruments = 0,\n",
    "        num_samples=1000,\n",
    "        treatment_is_binary=True)\n",
    "df = data['df']\n",
    "df['y'] = df['y'] + np.random.normal(size=len(df)) # Adding noise to data. Without noise, the variance in Y|X, Z is zero, and mcmc fails.\n",
    "#data['dot_graph'] = 'digraph { v ->y;X0-> v;X0-> y;}'\n",
    "\n",
    "treatment= data[\"treatment_name\"][0]\n",
    "outcome = data[\"outcome_name\"][0]\n",
    "common_cause = data[\"common_causes_names\"][0]\n",
    "df"
   ]
  },
  {
   "cell_type": "code",
   "execution_count": 3,
   "metadata": {
    "execution": {
     "iopub.execute_input": "2023-11-21T15:28:24.596677Z",
     "iopub.status.busy": "2023-11-21T15:28:24.596490Z",
     "iopub.status.idle": "2023-11-21T15:28:24.779080Z",
     "shell.execute_reply": "2023-11-21T15:28:24.778480Z"
    }
   },
   "outputs": [
    {
     "data": {
      "text/plain": [
       "<Axes: xlabel='v0'>"
      ]
     },
     "execution_count": 3,
     "metadata": {},
     "output_type": "execute_result"
    },
    {
     "data": {
      "image/png": "[encoded data removed]",
      "text/plain": [
       "<Figure size 640x480 with 1 Axes>"
      ]
     },
     "metadata": {},
     "output_type": "display_data"
    }
   ],
   "source": [
    "# data['df'] is just a regular pandas.DataFrame\n",
    "df.causal.do(x=treatment,\n",
    "                     variable_types={treatment: 'b', outcome: 'c', common_cause: 'c'},\n",
    "                     outcome=outcome,\n",
    "                     common_causes=[common_cause],\n",
    "                     proceed_when_unidentifiable=True).groupby(treatment).mean().plot(y=outcome, kind='bar')"
   ]
  },
  {
   "cell_type": "code",
   "execution_count": 4,
   "metadata": {
    "execution": {
     "iopub.execute_input": "2023-11-21T15:28:24.781486Z",
     "iopub.status.busy": "2023-11-21T15:28:24.781154Z",
     "iopub.status.idle": "2023-11-21T15:28:24.916519Z",
     "shell.execute_reply": "2023-11-21T15:28:24.915816Z"
    }
   },
   "outputs": [
    {
     "data": {
      "text/plain": [
       "<Axes: xlabel='v0'>"
      ]
     },
     "execution_count": 4,
     "metadata": {},
     "output_type": "execute_result"
    },
    {
     "data": {
      "image/png": "[encoded data removed]",
      "text/plain": [
       "<Figure size 640x480 with 1 Axes>"
      ]
     },
     "metadata": {},
     "output_type": "display_data"
    }
   ],
   "source": [
    "df.causal.do(x={treatment: 1}, \n",
    "              variable_types={treatment:'b', outcome: 'c', common_cause: 'c'}, \n",
    "              outcome=outcome,\n",
    "              method='weighting', \n",
    "              common_causes=[common_cause],\n",
    "              proceed_when_unidentifiable=True).groupby(treatment).mean().plot(y=outcome, kind='bar')"
   ]
  },
  {
   "cell_type": "code",
   "execution_count": 5,
   "metadata": {
    "execution": {
     "iopub.execute_input": "2023-11-21T15:28:24.918909Z",
     "iopub.status.busy": "2023-11-21T15:28:24.918572Z",
     "iopub.status.idle": "2023-11-21T15:28:24.944004Z",
     "shell.execute_reply": "2023-11-21T15:28:24.943508Z"
    }
   },
   "outputs": [],
   "source": [
    "cdf_1 = df.causal.do(x={treatment: 1}, \n",
    "              variable_types={treatment: 'b', outcome: 'c', common_cause: 'c'}, \n",
    "              outcome=outcome, \n",
    "              dot_graph=data['dot_graph'],\n",
    "              proceed_when_unidentifiable=True)\n",
    "\n",
    "cdf_0 = df.causal.do(x={treatment: 0}, \n",
    "              variable_types={treatment: 'b', outcome: 'c', common_cause: 'c'}, \n",
    "              outcome=outcome, \n",
    "              dot_graph=data['dot_graph'],\n",
    "              proceed_when_unidentifiable=True)\n"
   ]
  },
  {
   "cell_type": "code",
   "execution_count": 6,
   "metadata": {
    "execution": {
     "iopub.execute_input": "2023-11-21T15:28:24.946346Z",
     "iopub.status.busy": "2023-11-21T15:28:24.946003Z",
     "iopub.status.idle": "2023-11-21T15:28:24.954589Z",
     "shell.execute_reply": "2023-11-21T15:28:24.954013Z"
    },
    "scrolled": true
   },
   "outputs": [
    {
     "data": {
      "text/html": [
       "<div>\n",
       "<style scoped>\n",
       "    .dataframe tbody tr th:only-of-type {\n",
       "        vertical-align: middle;\n",
       "    }\n",
       "\n",
       "    .dataframe tbody tr th {\n",
       "        vertical-align: top;\n",
       "    }\n",
       "\n",
       "    .dataframe thead th {\n",
       "        text-align: right;\n",
       "    }\n",
       "</style>\n",
       "<table border=\"1\" class=\"dataframe\">\n",
       "  <thead>\n",
       "    <tr style=\"text-align: right;\">\n",
       "      <th></th>\n",
       "      <th>W0</th>\n",
       "      <th>v0</th>\n",
       "      <th>y</th>\n",
       "      <th>propensity_score</th>\n",
       "      <th>weight</th>\n",
       "    </tr>\n",
       "  </thead>\n",
       "  <tbody>\n",
       "    <tr>\n",
       "      <th>0</th>\n",
       "      <td>-0.539247</td>\n",
       "      <td>False</td>\n",
       "      <td>-0.491868</td>\n",
       "      <td>0.656658</td>\n",
       "      <td>1.522863</td>\n",
       "    </tr>\n",
       "    <tr>\n",
       "      <th>1</th>\n",
       "      <td>-1.300574</td>\n",
       "      <td>False</td>\n",
       "      <td>-1.828029</td>\n",
       "      <td>0.827068</td>\n",
       "      <td>1.209091</td>\n",
       "    </tr>\n",
       "    <tr>\n",
       "      <th>2</th>\n",
       "      <td>0.473592</td>\n",
       "      <td>False</td>\n",
       "      <td>0.924899</td>\n",
       "      <td>0.361027</td>\n",
       "      <td>2.769874</td>\n",
       "    </tr>\n",
       "    <tr>\n",
       "      <th>3</th>\n",
       "      <td>0.473592</td>\n",
       "      <td>False</td>\n",
       "      <td>0.924899</td>\n",
       "      <td>0.361027</td>\n",
       "      <td>2.769874</td>\n",
       "    </tr>\n",
       "    <tr>\n",
       "      <th>4</th>\n",
       "      <td>0.517456</td>\n",
       "      <td>False</td>\n",
       "      <td>2.421179</td>\n",
       "      <td>0.348937</td>\n",
       "      <td>2.865847</td>\n",
       "    </tr>\n",
       "    <tr>\n",
       "      <th>...</th>\n",
       "      <td>...</td>\n",
       "      <td>...</td>\n",
       "      <td>...</td>\n",
       "      <td>...</td>\n",
       "      <td>...</td>\n",
       "    </tr>\n",
       "    <tr>\n",
       "      <th>995</th>\n",
       "      <td>0.251486</td>\n",
       "      <td>False</td>\n",
       "      <td>1.355108</td>\n",
       "      <td>0.424698</td>\n",
       "      <td>2.354616</td>\n",
       "    </tr>\n",
       "    <tr>\n",
       "      <th>996</th>\n",
       "      <td>1.106386</td>\n",
       "      <td>False</td>\n",
       "      <td>1.499031</td>\n",
       "      <td>0.208710</td>\n",
       "      <td>4.791344</td>\n",
       "    </tr>\n",
       "    <tr>\n",
       "      <th>997</th>\n",
       "      <td>1.126024</td>\n",
       "      <td>False</td>\n",
       "      <td>1.425125</td>\n",
       "      <td>0.204832</td>\n",
       "      <td>4.882049</td>\n",
       "    </tr>\n",
       "    <tr>\n",
       "      <th>998</th>\n",
       "      <td>-0.506896</td>\n",
       "      <td>False</td>\n",
       "      <td>0.722044</td>\n",
       "      <td>0.647824</td>\n",
       "      <td>1.543629</td>\n",
       "    </tr>\n",
       "    <tr>\n",
       "      <th>999</th>\n",
       "      <td>0.592494</td>\n",
       "      <td>False</td>\n",
       "      <td>0.014658</td>\n",
       "      <td>0.328704</td>\n",
       "      <td>3.042252</td>\n",
       "    </tr>\n",
       "  </tbody>\n",
       "</table>\n",
       "<p>1000 rows × 5 columns</p>\n",
       "</div>"
      ],
      "text/plain": [
       "           W0     v0         y  propensity_score    weight\n",
       "0   -0.539247  False -0.491868          0.656658  1.522863\n",
       "1   -1.300574  False -1.828029          0.827068  1.209091\n",
       "2    0.473592  False  0.924899          0.361027  2.769874\n",
       "3    0.473592  False  0.924899          0.361027  2.769874\n",
       "4    0.517456  False  2.421179          0.348937  2.865847\n",
       "..        ...    ...       ...               ...       ...\n",
       "995  0.251486  False  1.355108          0.424698  2.354616\n",
       "996  1.106386  False  1.499031          0.208710  4.791344\n",
       "997  1.126024  False  1.425125          0.204832  4.882049\n",
       "998 -0.506896  False  0.722044          0.647824  1.543629\n",
       "999  0.592494  False  0.014658          0.328704  3.042252\n",
       "\n",
       "[1000 rows x 5 columns]"
      ]
     },
     "execution_count": 6,
     "metadata": {},
     "output_type": "execute_result"
    }
   ],
   "source": [
    "cdf_0"
   ]
  },
  {
   "cell_type": "code",
   "execution_count": 7,
   "metadata": {
    "execution": {
     "iopub.execute_input": "2023-11-21T15:28:24.956593Z",
     "iopub.status.busy": "2023-11-21T15:28:24.956420Z",
     "iopub.status.idle": "2023-11-21T15:28:24.965042Z",
     "shell.execute_reply": "2023-11-21T15:28:24.964528Z"
    }
   },
   "outputs": [
    {
     "data": {
      "text/html": [
       "<div>\n",
       "<style scoped>\n",
       "    .dataframe tbody tr th:only-of-type {\n",
       "        vertical-align: middle;\n",
       "    }\n",
       "\n",
       "    .dataframe tbody tr th {\n",
       "        vertical-align: top;\n",
       "    }\n",
       "\n",
       "    .dataframe thead th {\n",
       "        text-align: right;\n",
       "    }\n",
       "</style>\n",
       "<table border=\"1\" class=\"dataframe\">\n",
       "  <thead>\n",
       "    <tr style=\"text-align: right;\">\n",
       "      <th></th>\n",
       "      <th>W0</th>\n",
       "      <th>v0</th>\n",
       "      <th>y</th>\n",
       "      <th>propensity_score</th>\n",
       "      <th>weight</th>\n",
       "    </tr>\n",
       "  </thead>\n",
       "  <tbody>\n",
       "    <tr>\n",
       "      <th>0</th>\n",
       "      <td>-0.097471</td>\n",
       "      <td>True</td>\n",
       "      <td>5.969557</td>\n",
       "      <td>0.470886</td>\n",
       "      <td>2.123655</td>\n",
       "    </tr>\n",
       "    <tr>\n",
       "      <th>1</th>\n",
       "      <td>0.469866</td>\n",
       "      <td>True</td>\n",
       "      <td>7.574946</td>\n",
       "      <td>0.637937</td>\n",
       "      <td>1.567552</td>\n",
       "    </tr>\n",
       "    <tr>\n",
       "      <th>2</th>\n",
       "      <td>1.114532</td>\n",
       "      <td>True</td>\n",
       "      <td>7.722377</td>\n",
       "      <td>0.792905</td>\n",
       "      <td>1.261185</td>\n",
       "    </tr>\n",
       "    <tr>\n",
       "      <th>3</th>\n",
       "      <td>1.623682</td>\n",
       "      <td>True</td>\n",
       "      <td>7.960419</td>\n",
       "      <td>0.876044</td>\n",
       "      <td>1.141496</td>\n",
       "    </tr>\n",
       "    <tr>\n",
       "      <th>4</th>\n",
       "      <td>0.615164</td>\n",
       "      <td>True</td>\n",
       "      <td>5.784659</td>\n",
       "      <td>0.677290</td>\n",
       "      <td>1.476472</td>\n",
       "    </tr>\n",
       "    <tr>\n",
       "      <th>...</th>\n",
       "      <td>...</td>\n",
       "      <td>...</td>\n",
       "      <td>...</td>\n",
       "      <td>...</td>\n",
       "      <td>...</td>\n",
       "    </tr>\n",
       "    <tr>\n",
       "      <th>995</th>\n",
       "      <td>0.501882</td>\n",
       "      <td>True</td>\n",
       "      <td>7.575543</td>\n",
       "      <td>0.646792</td>\n",
       "      <td>1.546093</td>\n",
       "    </tr>\n",
       "    <tr>\n",
       "      <th>996</th>\n",
       "      <td>-1.121325</td>\n",
       "      <td>True</td>\n",
       "      <td>2.640863</td>\n",
       "      <td>0.206003</td>\n",
       "      <td>4.854305</td>\n",
       "    </tr>\n",
       "    <tr>\n",
       "      <th>997</th>\n",
       "      <td>0.181531</td>\n",
       "      <td>True</td>\n",
       "      <td>5.620650</td>\n",
       "      <td>0.554606</td>\n",
       "      <td>1.803081</td>\n",
       "    </tr>\n",
       "    <tr>\n",
       "      <th>998</th>\n",
       "      <td>1.239569</td>\n",
       "      <td>True</td>\n",
       "      <td>6.712863</td>\n",
       "      <td>0.816537</td>\n",
       "      <td>1.224685</td>\n",
       "    </tr>\n",
       "    <tr>\n",
       "      <th>999</th>\n",
       "      <td>1.038825</td>\n",
       "      <td>True</td>\n",
       "      <td>6.693464</td>\n",
       "      <td>0.777540</td>\n",
       "      <td>1.286108</td>\n",
       "    </tr>\n",
       "  </tbody>\n",
       "</table>\n",
       "<p>1000 rows × 5 columns</p>\n",
       "</div>"
      ],
      "text/plain": [
       "           W0    v0         y  propensity_score    weight\n",
       "0   -0.097471  True  5.969557          0.470886  2.123655\n",
       "1    0.469866  True  7.574946          0.637937  1.567552\n",
       "2    1.114532  True  7.722377          0.792905  1.261185\n",
       "3    1.623682  True  7.960419          0.876044  1.141496\n",
       "4    0.615164  True  5.784659          0.677290  1.476472\n",
       "..        ...   ...       ...               ...       ...\n",
       "995  0.501882  True  7.575543          0.646792  1.546093\n",
       "996 -1.121325  True  2.640863          0.206003  4.854305\n",
       "997  0.181531  True  5.620650          0.554606  1.803081\n",
       "998  1.239569  True  6.712863          0.816537  1.224685\n",
       "999  1.038825  True  6.693464          0.777540  1.286108\n",
       "\n",
       "[1000 rows x 5 columns]"
      ]
     },
     "execution_count": 7,
     "metadata": {},
     "output_type": "execute_result"
    }
   ],
   "source": [
    "cdf_1"
   ]
  },
  {
   "cell_type": "markdown",
   "metadata": {},
   "source": [
    "## Comparing the estimate to Linear Regression\n",
    "First, estimating the effect using the causal data frame, and the 95% confidence interval."
   ]
  },
  {
   "cell_type": "code",
   "execution_count": 8,
   "metadata": {
    "execution": {
     "iopub.execute_input": "2023-11-21T15:28:24.967052Z",
     "iopub.status.busy": "2023-11-21T15:28:24.966880Z",
     "iopub.status.idle": "2023-11-21T15:28:25.013750Z",
     "shell.execute_reply": "2023-11-21T15:28:25.013165Z"
    }
   },
   "outputs": [
    {
     "data": {
      "image/png": "[encoded data removed]",
      "text/latex": [
       "$\\displaystyle 5.03418033085552$"
      ],
      "text/plain": [
       "5.034180330855518"
      ]
     },
     "execution_count": 8,
     "metadata": {},
     "output_type": "execute_result"
    }
   ],
   "source": [
    "(cdf_1['y'] - cdf_0['y']).mean()"
   ]
  },
  {
   "cell_type": "code",
   "execution_count": 9,
   "metadata": {
    "execution": {
     "iopub.execute_input": "2023-11-21T15:28:25.015841Z",
     "iopub.status.busy": "2023-11-21T15:28:25.015666Z",
     "iopub.status.idle": "2023-11-21T15:28:25.032779Z",
     "shell.execute_reply": "2023-11-21T15:28:25.032165Z"
    }
   },
   "outputs": [
    {
     "data": {
      "image/png": "[encoded data removed]",
      "text/latex": [
       "$\\displaystyle 0.159243128975033$"
      ],
      "text/plain": [
       "0.15924312897503273"
      ]
     },
     "execution_count": 9,
     "metadata": {},
     "output_type": "execute_result"
    }
   ],
   "source": [
    "1.96*(cdf_1['y'] - cdf_0['y']).std() / np.sqrt(len(df))"
   ]
  },
  {
   "cell_type": "markdown",
   "metadata": {},
   "source": [
    "Comparing to the estimate from OLS."
   ]
  },
  {
   "cell_type": "code",
   "execution_count": 10,
   "metadata": {
    "execution": {
     "iopub.execute_input": "2023-11-21T15:28:25.034877Z",
     "iopub.status.busy": "2023-11-21T15:28:25.034702Z",
     "iopub.status.idle": "2023-11-21T15:28:25.050619Z",
     "shell.execute_reply": "2023-11-21T15:28:25.050025Z"
    }
   },
   "outputs": [
    {
     "data": {
      "text/html": [
       "<table class=\"simpletable\">\n",
       "<caption>OLS Regression Results</caption>\n",
       "<tr>\n",
       "  <th>Dep. Variable:</th>            <td>y</td>        <th>  R-squared (uncentered):</th>      <td>   0.946</td>\n",
       "</tr>\n",
       "<tr>\n",
       "  <th>Model:</th>                   <td>OLS</td>       <th>  Adj. R-squared (uncentered):</th> <td>   0.946</td>\n",
       "</tr>\n",
       "<tr>\n",
       "  <th>Method:</th>             <td>Least Squares</td>  <th>  F-statistic:       </th>          <td>   8687.</td>\n",
       "</tr>\n",
       "<tr>\n",
       "  <th>Date:</th>             <td>Tue, 21 Nov 2023</td> <th>  Prob (F-statistic):</th>           <td>  0.00</td> \n",
       "</tr>\n",
       "<tr>\n",
       "  <th>Time:</th>                 <td>15:28:25</td>     <th>  Log-Likelihood:    </th>          <td> -1416.7</td>\n",
       "</tr>\n",
       "<tr>\n",
       "  <th>No. Observations:</th>      <td>  1000</td>      <th>  AIC:               </th>          <td>   2837.</td>\n",
       "</tr>\n",
       "<tr>\n",
       "  <th>Df Residuals:</th>          <td>   998</td>      <th>  BIC:               </th>          <td>   2847.</td>\n",
       "</tr>\n",
       "<tr>\n",
       "  <th>Df Model:</th>              <td>     2</td>      <th>                     </th>              <td> </td>   \n",
       "</tr>\n",
       "<tr>\n",
       "  <th>Covariance Type:</th>      <td>nonrobust</td>    <th>                     </th>              <td> </td>   \n",
       "</tr>\n",
       "</table>\n",
       "<table class=\"simpletable\">\n",
       "<tr>\n",
       "   <td></td>     <th>coef</th>     <th>std err</th>      <th>t</th>      <th>P>|t|</th>  <th>[0.025</th>    <th>0.975]</th>  \n",
       "</tr>\n",
       "<tr>\n",
       "  <th>x1</th> <td>    1.5373</td> <td>    0.032</td> <td>   47.707</td> <td> 0.000</td> <td>    1.474</td> <td>    1.601</td>\n",
       "</tr>\n",
       "<tr>\n",
       "  <th>x2</th> <td>    5.0501</td> <td>    0.048</td> <td>  106.149</td> <td> 0.000</td> <td>    4.957</td> <td>    5.143</td>\n",
       "</tr>\n",
       "</table>\n",
       "<table class=\"simpletable\">\n",
       "<tr>\n",
       "  <th>Omnibus:</th>       <td> 1.465</td> <th>  Durbin-Watson:     </th> <td>   2.004</td>\n",
       "</tr>\n",
       "<tr>\n",
       "  <th>Prob(Omnibus):</th> <td> 0.481</td> <th>  Jarque-Bera (JB):  </th> <td>   1.540</td>\n",
       "</tr>\n",
       "<tr>\n",
       "  <th>Skew:</th>          <td>-0.085</td> <th>  Prob(JB):          </th> <td>   0.463</td>\n",
       "</tr>\n",
       "<tr>\n",
       "  <th>Kurtosis:</th>      <td> 2.909</td> <th>  Cond. No.          </th> <td>    1.61</td>\n",
       "</tr>\n",
       "</table><br/><br/>Notes:<br/>[1] R² is computed without centering (uncentered) since the model does not contain a constant.<br/>[2] Standard Errors assume that the covariance matrix of the errors is correctly specified."
      ],
      "text/latex": [
       "\\begin{center}\n",
       "\\begin{tabular}{lclc}\n",
       "\\toprule\n",
       "\\textbf{Dep. Variable:}    &        y         & \\textbf{  R-squared (uncentered):}      &     0.946   \\\\\n",
       "\\textbf{Model:}            &       OLS        & \\textbf{  Adj. R-squared (uncentered):} &     0.946   \\\\\n",
       "\\textbf{Method:}           &  Least Squares   & \\textbf{  F-statistic:       }          &     8687.   \\\\\n",
       "\\textbf{Date:}             & Tue, 21 Nov 2023 & \\textbf{  Prob (F-statistic):}          &     0.00    \\\\\n",
       "\\textbf{Time:}             &     15:28:25     & \\textbf{  Log-Likelihood:    }          &   -1416.7   \\\\\n",
       "\\textbf{No. Observations:} &        1000      & \\textbf{  AIC:               }          &     2837.   \\\\\n",
       "\\textbf{Df Residuals:}     &         998      & \\textbf{  BIC:               }          &     2847.   \\\\\n",
       "\\textbf{Df Model:}         &           2      & \\textbf{                     }          &             \\\\\n",
       "\\textbf{Covariance Type:}  &    nonrobust     & \\textbf{                     }          &             \\\\\n",
       "\\bottomrule\n",
       "\\end{tabular}\n",
       "\\begin{tabular}{lcccccc}\n",
       "            & \\textbf{coef} & \\textbf{std err} & \\textbf{t} & \\textbf{P$> |$t$|$} & \\textbf{[0.025} & \\textbf{0.975]}  \\\\\n",
       "\\midrule\n",
       "\\textbf{x1} &       1.5373  &        0.032     &    47.707  &         0.000        &        1.474    &        1.601     \\\\\n",
       "\\textbf{x2} &       5.0501  &        0.048     &   106.149  &         0.000        &        4.957    &        5.143     \\\\\n",
       "\\bottomrule\n",
       "\\end{tabular}\n",
       "\\begin{tabular}{lclc}\n",
       "\\textbf{Omnibus:}       &  1.465 & \\textbf{  Durbin-Watson:     } &    2.004  \\\\\n",
       "\\textbf{Prob(Omnibus):} &  0.481 & \\textbf{  Jarque-Bera (JB):  } &    1.540  \\\\\n",
       "\\textbf{Skew:}          & -0.085 & \\textbf{  Prob(JB):          } &    0.463  \\\\\n",
       "\\textbf{Kurtosis:}      &  2.909 & \\textbf{  Cond. No.          } &     1.61  \\\\\n",
       "\\bottomrule\n",
       "\\end{tabular}\n",
       "%\\caption{OLS Regression Results}\n",
       "\\end{center}\n",
       "\n",
       "Notes: \\newline\n",
       " [1] R² is computed without centering (uncentered) since the model does not contain a constant. \\newline\n",
       " [2] Standard Errors assume that the covariance matrix of the errors is correctly specified."
      ],
      "text/plain": [
       "<class 'statsmodels.iolib.summary.Summary'>\n",
       "\"\"\"\n",
       "                                 OLS Regression Results                                \n",
       "=======================================================================================\n",
       "Dep. Variable:                      y   R-squared (uncentered):                   0.946\n",
       "Model:                            OLS   Adj. R-squared (uncentered):              0.946\n",
       "Method:                 Least Squares   F-statistic:                              8687.\n",
       "Date:                Tue, 21 Nov 2023   Prob (F-statistic):                        0.00\n",
       "Time:                        15:28:25   Log-Likelihood:                         -1416.7\n",
       "No. Observations:                1000   AIC:                                      2837.\n",
       "Df Residuals:                     998   BIC:                                      2847.\n",
       "Df Model:                           2                                                  \n",
       "Covariance Type:            nonrobust                                                  \n",
       "==============================================================================\n",
       "                 coef    std err          t      P>|t|      [0.025      0.975]\n",
       "------------------------------------------------------------------------------\n",
       "x1             1.5373      0.032     47.707      0.000       1.474       1.601\n",
       "x2             5.0501      0.048    106.149      0.000       4.957       5.143\n",
       "==============================================================================\n",
       "Omnibus:                        1.465   Durbin-Watson:                   2.004\n",
       "Prob(Omnibus):                  0.481   Jarque-Bera (JB):                1.540\n",
       "Skew:                          -0.085   Prob(JB):                        0.463\n",
       "Kurtosis:                       2.909   Cond. No.                         1.61\n",
       "==============================================================================\n",
       "\n",
       "Notes:\n",
       "[1] R² is computed without centering (uncentered) since the model does not contain a constant.\n",
       "[2] Standard Errors assume that the covariance matrix of the errors is correctly specified.\n",
       "\"\"\""
      ]
     },
     "execution_count": 10,
     "metadata": {},
     "output_type": "execute_result"
    }
   ],
   "source": [
    "model = OLS(np.asarray(df[outcome]), np.asarray(df[[common_cause, treatment]], dtype=np.float64))\n",
    "result = model.fit()\n",
    "result.summary()"
   ]
  }
 ],
 "metadata": {
  "kernelspec": {
   "display_name": "Python 3",
   "language": "python",
   "name": "python3"
  },
  "language_info": {
   "codemirror_mode": {
    "name": "ipython",
    "version": 3
   },
   "file_extension": ".py",
   "mimetype": "text/x-python",
   "name": "python",
   "nbconvert_exporter": "python",
   "pygments_lexer": "ipython3",
   "version": "3.8.10"
  },
  "toc": {
   "base_numbering": 1,
   "nav_menu": {},
   "number_sections": false,
   "sideBar": true,
   "skip_h1_title": true,
   "title_cell": "Table of Contents",
   "title_sidebar": "Contents",
   "toc_cell": false,
   "toc_position": {},
   "toc_section_display": true,
   "toc_window_display": false
  }
 },
 "nbformat": 4,
 "nbformat_minor": 4
}
