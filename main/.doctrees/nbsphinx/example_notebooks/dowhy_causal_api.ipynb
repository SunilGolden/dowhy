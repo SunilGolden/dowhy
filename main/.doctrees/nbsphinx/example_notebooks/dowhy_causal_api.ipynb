{
 "cells": [
  {
   "cell_type": "markdown",
   "metadata": {},
   "source": [
    "# Demo for the DoWhy causal API\n",
    "We show a simple example of adding a causal extension to any dataframe. "
   ]
  },
  {
   "cell_type": "code",
   "execution_count": 1,
   "metadata": {
    "execution": {
     "iopub.execute_input": "2023-03-28T15:05:38.989704Z",
     "iopub.status.busy": "2023-03-28T15:05:38.989463Z",
     "iopub.status.idle": "2023-03-28T15:05:40.792133Z",
     "shell.execute_reply": "2023-03-28T15:05:40.791397Z"
    }
   },
   "outputs": [],
   "source": [
    "import dowhy.datasets\n",
    "import dowhy.api\n",
    "\n",
    "import numpy as np\n",
    "import pandas as pd\n",
    "\n",
    "from statsmodels.api import OLS"
   ]
  },
  {
   "cell_type": "code",
   "execution_count": 2,
   "metadata": {
    "execution": {
     "iopub.execute_input": "2023-03-28T15:05:40.796214Z",
     "iopub.status.busy": "2023-03-28T15:05:40.795654Z",
     "iopub.status.idle": "2023-03-28T15:05:40.842304Z",
     "shell.execute_reply": "2023-03-28T15:05:40.841576Z"
    }
   },
   "outputs": [
    {
     "data": {
      "text/html": [
       "<div>\n",
       "<style scoped>\n",
       "    .dataframe tbody tr th:only-of-type {\n",
       "        vertical-align: middle;\n",
       "    }\n",
       "\n",
       "    .dataframe tbody tr th {\n",
       "        vertical-align: top;\n",
       "    }\n",
       "\n",
       "    .dataframe thead th {\n",
       "        text-align: right;\n",
       "    }\n",
       "</style>\n",
       "<table border=\"1\" class=\"dataframe\">\n",
       "  <thead>\n",
       "    <tr style=\"text-align: right;\">\n",
       "      <th></th>\n",
       "      <th>W0</th>\n",
       "      <th>v0</th>\n",
       "      <th>y</th>\n",
       "    </tr>\n",
       "  </thead>\n",
       "  <tbody>\n",
       "    <tr>\n",
       "      <th>0</th>\n",
       "      <td>0.885650</td>\n",
       "      <td>False</td>\n",
       "      <td>-0.862677</td>\n",
       "    </tr>\n",
       "    <tr>\n",
       "      <th>1</th>\n",
       "      <td>-2.053192</td>\n",
       "      <td>False</td>\n",
       "      <td>-2.558602</td>\n",
       "    </tr>\n",
       "    <tr>\n",
       "      <th>2</th>\n",
       "      <td>1.780422</td>\n",
       "      <td>False</td>\n",
       "      <td>1.522954</td>\n",
       "    </tr>\n",
       "    <tr>\n",
       "      <th>3</th>\n",
       "      <td>0.236040</td>\n",
       "      <td>False</td>\n",
       "      <td>-0.086903</td>\n",
       "    </tr>\n",
       "    <tr>\n",
       "      <th>4</th>\n",
       "      <td>0.188621</td>\n",
       "      <td>False</td>\n",
       "      <td>-1.202499</td>\n",
       "    </tr>\n",
       "    <tr>\n",
       "      <th>...</th>\n",
       "      <td>...</td>\n",
       "      <td>...</td>\n",
       "      <td>...</td>\n",
       "    </tr>\n",
       "    <tr>\n",
       "      <th>995</th>\n",
       "      <td>1.336440</td>\n",
       "      <td>True</td>\n",
       "      <td>5.765693</td>\n",
       "    </tr>\n",
       "    <tr>\n",
       "      <th>996</th>\n",
       "      <td>1.723431</td>\n",
       "      <td>False</td>\n",
       "      <td>0.950712</td>\n",
       "    </tr>\n",
       "    <tr>\n",
       "      <th>997</th>\n",
       "      <td>1.946107</td>\n",
       "      <td>True</td>\n",
       "      <td>6.736787</td>\n",
       "    </tr>\n",
       "    <tr>\n",
       "      <th>998</th>\n",
       "      <td>1.409834</td>\n",
       "      <td>True</td>\n",
       "      <td>6.949373</td>\n",
       "    </tr>\n",
       "    <tr>\n",
       "      <th>999</th>\n",
       "      <td>-0.982512</td>\n",
       "      <td>True</td>\n",
       "      <td>4.456159</td>\n",
       "    </tr>\n",
       "  </tbody>\n",
       "</table>\n",
       "<p>1000 rows × 3 columns</p>\n",
       "</div>"
      ],
      "text/plain": [
       "           W0     v0         y\n",
       "0    0.885650  False -0.862677\n",
       "1   -2.053192  False -2.558602\n",
       "2    1.780422  False  1.522954\n",
       "3    0.236040  False -0.086903\n",
       "4    0.188621  False -1.202499\n",
       "..        ...    ...       ...\n",
       "995  1.336440   True  5.765693\n",
       "996  1.723431  False  0.950712\n",
       "997  1.946107   True  6.736787\n",
       "998  1.409834   True  6.949373\n",
       "999 -0.982512   True  4.456159\n",
       "\n",
       "[1000 rows x 3 columns]"
      ]
     },
     "execution_count": 2,
     "metadata": {},
     "output_type": "execute_result"
    }
   ],
   "source": [
    "data = dowhy.datasets.linear_dataset(beta=5,\n",
    "        num_common_causes=1,\n",
    "        num_instruments = 0,\n",
    "        num_samples=1000,\n",
    "        treatment_is_binary=True)\n",
    "df = data['df']\n",
    "df['y'] = df['y'] + np.random.normal(size=len(df)) # Adding noise to data. Without noise, the variance in Y|X, Z is zero, and mcmc fails.\n",
    "#data['dot_graph'] = 'digraph { v ->y;X0-> v;X0-> y;}'\n",
    "\n",
    "treatment= data[\"treatment_name\"][0]\n",
    "outcome = data[\"outcome_name\"][0]\n",
    "common_cause = data[\"common_causes_names\"][0]\n",
    "df"
   ]
  },
  {
   "cell_type": "code",
   "execution_count": 3,
   "metadata": {
    "execution": {
     "iopub.execute_input": "2023-03-28T15:05:40.845637Z",
     "iopub.status.busy": "2023-03-28T15:05:40.845204Z",
     "iopub.status.idle": "2023-03-28T15:05:41.008411Z",
     "shell.execute_reply": "2023-03-28T15:05:41.007755Z"
    }
   },
   "outputs": [
    {
     "data": {
      "text/plain": [
       "<AxesSubplot: xlabel='v0'>"
      ]
     },
     "execution_count": 3,
     "metadata": {},
     "output_type": "execute_result"
    },
    {
     "data": {
      "image/png": "[encoded data removed]",
      "text/plain": [
       "<Figure size 640x480 with 1 Axes>"
      ]
     },
     "metadata": {},
     "output_type": "display_data"
    }
   ],
   "source": [
    "# data['df'] is just a regular pandas.DataFrame\n",
    "df.causal.do(x=treatment,\n",
    "                     variable_types={treatment: 'b', outcome: 'c', common_cause: 'c'},\n",
    "                     outcome=outcome,\n",
    "                     common_causes=[common_cause],\n",
    "                     proceed_when_unidentifiable=True).groupby(treatment).mean().plot(y=outcome, kind='bar')"
   ]
  },
  {
   "cell_type": "code",
   "execution_count": 4,
   "metadata": {
    "execution": {
     "iopub.execute_input": "2023-03-28T15:05:41.011683Z",
     "iopub.status.busy": "2023-03-28T15:05:41.011434Z",
     "iopub.status.idle": "2023-03-28T15:05:41.273768Z",
     "shell.execute_reply": "2023-03-28T15:05:41.272908Z"
    }
   },
   "outputs": [
    {
     "data": {
      "text/plain": [
       "<AxesSubplot: xlabel='v0'>"
      ]
     },
     "execution_count": 4,
     "metadata": {},
     "output_type": "execute_result"
    },
    {
     "data": {
      "image/png": "[encoded data removed]",
      "text/plain": [
       "<Figure size 640x480 with 1 Axes>"
      ]
     },
     "metadata": {},
     "output_type": "display_data"
    }
   ],
   "source": [
    "df.causal.do(x={treatment: 1}, \n",
    "              variable_types={treatment:'b', outcome: 'c', common_cause: 'c'}, \n",
    "              outcome=outcome,\n",
    "              method='weighting', \n",
    "              common_causes=[common_cause],\n",
    "              proceed_when_unidentifiable=True).groupby(treatment).mean().plot(y=outcome, kind='bar')"
   ]
  },
  {
   "cell_type": "code",
   "execution_count": 5,
   "metadata": {
    "execution": {
     "iopub.execute_input": "2023-03-28T15:05:41.277265Z",
     "iopub.status.busy": "2023-03-28T15:05:41.276780Z",
     "iopub.status.idle": "2023-03-28T15:05:41.311582Z",
     "shell.execute_reply": "2023-03-28T15:05:41.310865Z"
    }
   },
   "outputs": [],
   "source": [
    "cdf_1 = df.causal.do(x={treatment: 1}, \n",
    "              variable_types={treatment: 'b', outcome: 'c', common_cause: 'c'}, \n",
    "              outcome=outcome, \n",
    "              dot_graph=data['dot_graph'],\n",
    "              proceed_when_unidentifiable=True)\n",
    "\n",
    "cdf_0 = df.causal.do(x={treatment: 0}, \n",
    "              variable_types={treatment: 'b', outcome: 'c', common_cause: 'c'}, \n",
    "              outcome=outcome, \n",
    "              dot_graph=data['dot_graph'],\n",
    "              proceed_when_unidentifiable=True)\n"
   ]
  },
  {
   "cell_type": "code",
   "execution_count": 6,
   "metadata": {
    "execution": {
     "iopub.execute_input": "2023-03-28T15:05:41.315647Z",
     "iopub.status.busy": "2023-03-28T15:05:41.314963Z",
     "iopub.status.idle": "2023-03-28T15:05:41.328870Z",
     "shell.execute_reply": "2023-03-28T15:05:41.328217Z"
    },
    "scrolled": true
   },
   "outputs": [
    {
     "data": {
      "text/html": [
       "<div>\n",
       "<style scoped>\n",
       "    .dataframe tbody tr th:only-of-type {\n",
       "        vertical-align: middle;\n",
       "    }\n",
       "\n",
       "    .dataframe tbody tr th {\n",
       "        vertical-align: top;\n",
       "    }\n",
       "\n",
       "    .dataframe thead th {\n",
       "        text-align: right;\n",
       "    }\n",
       "</style>\n",
       "<table border=\"1\" class=\"dataframe\">\n",
       "  <thead>\n",
       "    <tr style=\"text-align: right;\">\n",
       "      <th></th>\n",
       "      <th>W0</th>\n",
       "      <th>v0</th>\n",
       "      <th>y</th>\n",
       "      <th>propensity_score</th>\n",
       "      <th>weight</th>\n",
       "    </tr>\n",
       "  </thead>\n",
       "  <tbody>\n",
       "    <tr>\n",
       "      <th>0</th>\n",
       "      <td>0.291465</td>\n",
       "      <td>False</td>\n",
       "      <td>0.246313</td>\n",
       "      <td>0.466247</td>\n",
       "      <td>2.144786</td>\n",
       "    </tr>\n",
       "    <tr>\n",
       "      <th>1</th>\n",
       "      <td>1.068485</td>\n",
       "      <td>False</td>\n",
       "      <td>0.382991</td>\n",
       "      <td>0.443501</td>\n",
       "      <td>2.254785</td>\n",
       "    </tr>\n",
       "    <tr>\n",
       "      <th>2</th>\n",
       "      <td>0.961019</td>\n",
       "      <td>False</td>\n",
       "      <td>0.358941</td>\n",
       "      <td>0.446635</td>\n",
       "      <td>2.238964</td>\n",
       "    </tr>\n",
       "    <tr>\n",
       "      <th>3</th>\n",
       "      <td>0.968751</td>\n",
       "      <td>False</td>\n",
       "      <td>0.576105</td>\n",
       "      <td>0.446410</td>\n",
       "      <td>2.240095</td>\n",
       "    </tr>\n",
       "    <tr>\n",
       "      <th>4</th>\n",
       "      <td>1.208301</td>\n",
       "      <td>False</td>\n",
       "      <td>3.586881</td>\n",
       "      <td>0.439431</td>\n",
       "      <td>2.275672</td>\n",
       "    </tr>\n",
       "    <tr>\n",
       "      <th>...</th>\n",
       "      <td>...</td>\n",
       "      <td>...</td>\n",
       "      <td>...</td>\n",
       "      <td>...</td>\n",
       "      <td>...</td>\n",
       "    </tr>\n",
       "    <tr>\n",
       "      <th>995</th>\n",
       "      <td>1.404710</td>\n",
       "      <td>False</td>\n",
       "      <td>-0.960797</td>\n",
       "      <td>0.433726</td>\n",
       "      <td>2.305601</td>\n",
       "    </tr>\n",
       "    <tr>\n",
       "      <th>996</th>\n",
       "      <td>0.961472</td>\n",
       "      <td>False</td>\n",
       "      <td>1.435399</td>\n",
       "      <td>0.446622</td>\n",
       "      <td>2.239030</td>\n",
       "    </tr>\n",
       "    <tr>\n",
       "      <th>997</th>\n",
       "      <td>2.516355</td>\n",
       "      <td>False</td>\n",
       "      <td>0.883720</td>\n",
       "      <td>0.401812</td>\n",
       "      <td>2.488726</td>\n",
       "    </tr>\n",
       "    <tr>\n",
       "      <th>998</th>\n",
       "      <td>0.325969</td>\n",
       "      <td>False</td>\n",
       "      <td>-0.474454</td>\n",
       "      <td>0.465233</td>\n",
       "      <td>2.149460</td>\n",
       "    </tr>\n",
       "    <tr>\n",
       "      <th>999</th>\n",
       "      <td>1.276840</td>\n",
       "      <td>False</td>\n",
       "      <td>2.206678</td>\n",
       "      <td>0.437438</td>\n",
       "      <td>2.286037</td>\n",
       "    </tr>\n",
       "  </tbody>\n",
       "</table>\n",
       "<p>1000 rows × 5 columns</p>\n",
       "</div>"
      ],
      "text/plain": [
       "           W0     v0         y  propensity_score    weight\n",
       "0    0.291465  False  0.246313          0.466247  2.144786\n",
       "1    1.068485  False  0.382991          0.443501  2.254785\n",
       "2    0.961019  False  0.358941          0.446635  2.238964\n",
       "3    0.968751  False  0.576105          0.446410  2.240095\n",
       "4    1.208301  False  3.586881          0.439431  2.275672\n",
       "..        ...    ...       ...               ...       ...\n",
       "995  1.404710  False -0.960797          0.433726  2.305601\n",
       "996  0.961472  False  1.435399          0.446622  2.239030\n",
       "997  2.516355  False  0.883720          0.401812  2.488726\n",
       "998  0.325969  False -0.474454          0.465233  2.149460\n",
       "999  1.276840  False  2.206678          0.437438  2.286037\n",
       "\n",
       "[1000 rows x 5 columns]"
      ]
     },
     "execution_count": 6,
     "metadata": {},
     "output_type": "execute_result"
    }
   ],
   "source": [
    "cdf_0"
   ]
  },
  {
   "cell_type": "code",
   "execution_count": 7,
   "metadata": {
    "execution": {
     "iopub.execute_input": "2023-03-28T15:05:41.332162Z",
     "iopub.status.busy": "2023-03-28T15:05:41.331622Z",
     "iopub.status.idle": "2023-03-28T15:05:41.344365Z",
     "shell.execute_reply": "2023-03-28T15:05:41.343717Z"
    }
   },
   "outputs": [
    {
     "data": {
      "text/html": [
       "<div>\n",
       "<style scoped>\n",
       "    .dataframe tbody tr th:only-of-type {\n",
       "        vertical-align: middle;\n",
       "    }\n",
       "\n",
       "    .dataframe tbody tr th {\n",
       "        vertical-align: top;\n",
       "    }\n",
       "\n",
       "    .dataframe thead th {\n",
       "        text-align: right;\n",
       "    }\n",
       "</style>\n",
       "<table border=\"1\" class=\"dataframe\">\n",
       "  <thead>\n",
       "    <tr style=\"text-align: right;\">\n",
       "      <th></th>\n",
       "      <th>W0</th>\n",
       "      <th>v0</th>\n",
       "      <th>y</th>\n",
       "      <th>propensity_score</th>\n",
       "      <th>weight</th>\n",
       "    </tr>\n",
       "  </thead>\n",
       "  <tbody>\n",
       "    <tr>\n",
       "      <th>0</th>\n",
       "      <td>0.971338</td>\n",
       "      <td>True</td>\n",
       "      <td>3.875662</td>\n",
       "      <td>0.553666</td>\n",
       "      <td>1.806143</td>\n",
       "    </tr>\n",
       "    <tr>\n",
       "      <th>1</th>\n",
       "      <td>0.952406</td>\n",
       "      <td>True</td>\n",
       "      <td>5.415383</td>\n",
       "      <td>0.553113</td>\n",
       "      <td>1.807947</td>\n",
       "    </tr>\n",
       "    <tr>\n",
       "      <th>2</th>\n",
       "      <td>-0.215466</td>\n",
       "      <td>True</td>\n",
       "      <td>7.394763</td>\n",
       "      <td>0.518832</td>\n",
       "      <td>1.927407</td>\n",
       "    </tr>\n",
       "    <tr>\n",
       "      <th>3</th>\n",
       "      <td>2.460761</td>\n",
       "      <td>True</td>\n",
       "      <td>8.213264</td>\n",
       "      <td>0.596609</td>\n",
       "      <td>1.676139</td>\n",
       "    </tr>\n",
       "    <tr>\n",
       "      <th>4</th>\n",
       "      <td>1.619655</td>\n",
       "      <td>True</td>\n",
       "      <td>4.886169</td>\n",
       "      <td>0.572496</td>\n",
       "      <td>1.746736</td>\n",
       "    </tr>\n",
       "    <tr>\n",
       "      <th>...</th>\n",
       "      <td>...</td>\n",
       "      <td>...</td>\n",
       "      <td>...</td>\n",
       "      <td>...</td>\n",
       "      <td>...</td>\n",
       "    </tr>\n",
       "    <tr>\n",
       "      <th>995</th>\n",
       "      <td>2.467556</td>\n",
       "      <td>True</td>\n",
       "      <td>7.286871</td>\n",
       "      <td>0.596802</td>\n",
       "      <td>1.675597</td>\n",
       "    </tr>\n",
       "    <tr>\n",
       "      <th>996</th>\n",
       "      <td>0.319343</td>\n",
       "      <td>True</td>\n",
       "      <td>5.559038</td>\n",
       "      <td>0.534572</td>\n",
       "      <td>1.870655</td>\n",
       "    </tr>\n",
       "    <tr>\n",
       "      <th>997</th>\n",
       "      <td>1.432014</td>\n",
       "      <td>True</td>\n",
       "      <td>8.667309</td>\n",
       "      <td>0.567065</td>\n",
       "      <td>1.763465</td>\n",
       "    </tr>\n",
       "    <tr>\n",
       "      <th>998</th>\n",
       "      <td>-1.286155</td>\n",
       "      <td>True</td>\n",
       "      <td>4.842014</td>\n",
       "      <td>0.487238</td>\n",
       "      <td>2.052385</td>\n",
       "    </tr>\n",
       "    <tr>\n",
       "      <th>999</th>\n",
       "      <td>0.101210</td>\n",
       "      <td>True</td>\n",
       "      <td>4.544927</td>\n",
       "      <td>0.528159</td>\n",
       "      <td>1.893371</td>\n",
       "    </tr>\n",
       "  </tbody>\n",
       "</table>\n",
       "<p>1000 rows × 5 columns</p>\n",
       "</div>"
      ],
      "text/plain": [
       "           W0    v0         y  propensity_score    weight\n",
       "0    0.971338  True  3.875662          0.553666  1.806143\n",
       "1    0.952406  True  5.415383          0.553113  1.807947\n",
       "2   -0.215466  True  7.394763          0.518832  1.927407\n",
       "3    2.460761  True  8.213264          0.596609  1.676139\n",
       "4    1.619655  True  4.886169          0.572496  1.746736\n",
       "..        ...   ...       ...               ...       ...\n",
       "995  2.467556  True  7.286871          0.596802  1.675597\n",
       "996  0.319343  True  5.559038          0.534572  1.870655\n",
       "997  1.432014  True  8.667309          0.567065  1.763465\n",
       "998 -1.286155  True  4.842014          0.487238  2.052385\n",
       "999  0.101210  True  4.544927          0.528159  1.893371\n",
       "\n",
       "[1000 rows x 5 columns]"
      ]
     },
     "execution_count": 7,
     "metadata": {},
     "output_type": "execute_result"
    }
   ],
   "source": [
    "cdf_1"
   ]
  },
  {
   "cell_type": "markdown",
   "metadata": {},
   "source": [
    "## Comparing the estimate to Linear Regression\n",
    "First, estimating the effect using the causal data frame, and the 95% confidence interval."
   ]
  },
  {
   "cell_type": "code",
   "execution_count": 8,
   "metadata": {
    "execution": {
     "iopub.execute_input": "2023-03-28T15:05:41.347378Z",
     "iopub.status.busy": "2023-03-28T15:05:41.346998Z",
     "iopub.status.idle": "2023-03-28T15:05:41.406341Z",
     "shell.execute_reply": "2023-03-28T15:05:41.405574Z"
    }
   },
   "outputs": [
    {
     "data": {
      "image/png": "[encoded data removed]",
      "text/latex": [
       "$\\displaystyle 5.02826205159598$"
      ],
      "text/plain": [
       "5.028262051595982"
      ]
     },
     "execution_count": 8,
     "metadata": {},
     "output_type": "execute_result"
    }
   ],
   "source": [
    "(cdf_1['y'] - cdf_0['y']).mean()"
   ]
  },
  {
   "cell_type": "code",
   "execution_count": 9,
   "metadata": {
    "execution": {
     "iopub.execute_input": "2023-03-28T15:05:41.410001Z",
     "iopub.status.busy": "2023-03-28T15:05:41.409434Z",
     "iopub.status.idle": "2023-03-28T15:05:41.431682Z",
     "shell.execute_reply": "2023-03-28T15:05:41.430865Z"
    }
   },
   "outputs": [
    {
     "data": {
      "image/png": "[encoded data removed]",
      "text/latex": [
       "$\\displaystyle 0.135472596650786$"
      ],
      "text/plain": [
       "0.1354725966507857"
      ]
     },
     "execution_count": 9,
     "metadata": {},
     "output_type": "execute_result"
    }
   ],
   "source": [
    "1.96*(cdf_1['y'] - cdf_0['y']).std() / np.sqrt(len(df))"
   ]
  },
  {
   "cell_type": "markdown",
   "metadata": {},
   "source": [
    "Comparing to the estimate from OLS."
   ]
  },
  {
   "cell_type": "code",
   "execution_count": 10,
   "metadata": {
    "execution": {
     "iopub.execute_input": "2023-03-28T15:05:41.435329Z",
     "iopub.status.busy": "2023-03-28T15:05:41.434921Z",
     "iopub.status.idle": "2023-03-28T15:05:41.451171Z",
     "shell.execute_reply": "2023-03-28T15:05:41.450469Z"
    }
   },
   "outputs": [
    {
     "data": {
      "text/html": [
       "<table class=\"simpletable\">\n",
       "<caption>OLS Regression Results</caption>\n",
       "<tr>\n",
       "  <th>Dep. Variable:</th>            <td>y</td>        <th>  R-squared (uncentered):</th>      <td>   0.954</td> \n",
       "</tr>\n",
       "<tr>\n",
       "  <th>Model:</th>                   <td>OLS</td>       <th>  Adj. R-squared (uncentered):</th> <td>   0.954</td> \n",
       "</tr>\n",
       "<tr>\n",
       "  <th>Method:</th>             <td>Least Squares</td>  <th>  F-statistic:       </th>          <td>1.047e+04</td>\n",
       "</tr>\n",
       "<tr>\n",
       "  <th>Date:</th>             <td>Tue, 28 Mar 2023</td> <th>  Prob (F-statistic):</th>           <td>  0.00</td>  \n",
       "</tr>\n",
       "<tr>\n",
       "  <th>Time:</th>                 <td>15:05:41</td>     <th>  Log-Likelihood:    </th>          <td> -1415.4</td> \n",
       "</tr>\n",
       "<tr>\n",
       "  <th>No. Observations:</th>      <td>  1000</td>      <th>  AIC:               </th>          <td>   2835.</td> \n",
       "</tr>\n",
       "<tr>\n",
       "  <th>Df Residuals:</th>          <td>   998</td>      <th>  BIC:               </th>          <td>   2845.</td> \n",
       "</tr>\n",
       "<tr>\n",
       "  <th>Df Model:</th>              <td>     2</td>      <th>                     </th>              <td> </td>    \n",
       "</tr>\n",
       "<tr>\n",
       "  <th>Covariance Type:</th>      <td>nonrobust</td>    <th>                     </th>              <td> </td>    \n",
       "</tr>\n",
       "</table>\n",
       "<table class=\"simpletable\">\n",
       "<tr>\n",
       "   <td></td>     <th>coef</th>     <th>std err</th>      <th>t</th>      <th>P>|t|</th>  <th>[0.025</th>    <th>0.975]</th>  \n",
       "</tr>\n",
       "<tr>\n",
       "  <th>x1</th> <td>    1.0393</td> <td>    0.028</td> <td>   37.302</td> <td> 0.000</td> <td>    0.985</td> <td>    1.094</td>\n",
       "</tr>\n",
       "<tr>\n",
       "  <th>x2</th> <td>    5.0443</td> <td>    0.049</td> <td>  102.900</td> <td> 0.000</td> <td>    4.948</td> <td>    5.141</td>\n",
       "</tr>\n",
       "</table>\n",
       "<table class=\"simpletable\">\n",
       "<tr>\n",
       "  <th>Omnibus:</th>       <td> 1.198</td> <th>  Durbin-Watson:     </th> <td>   2.019</td>\n",
       "</tr>\n",
       "<tr>\n",
       "  <th>Prob(Omnibus):</th> <td> 0.549</td> <th>  Jarque-Bera (JB):  </th> <td>   1.266</td>\n",
       "</tr>\n",
       "<tr>\n",
       "  <th>Skew:</th>          <td> 0.057</td> <th>  Prob(JB):          </th> <td>   0.531</td>\n",
       "</tr>\n",
       "<tr>\n",
       "  <th>Kurtosis:</th>      <td> 2.868</td> <th>  Cond. No.          </th> <td>    2.23</td>\n",
       "</tr>\n",
       "</table><br/><br/>Notes:<br/>[1] R² is computed without centering (uncentered) since the model does not contain a constant.<br/>[2] Standard Errors assume that the covariance matrix of the errors is correctly specified."
      ],
      "text/plain": [
       "<class 'statsmodels.iolib.summary.Summary'>\n",
       "\"\"\"\n",
       "                                 OLS Regression Results                                \n",
       "=======================================================================================\n",
       "Dep. Variable:                      y   R-squared (uncentered):                   0.954\n",
       "Model:                            OLS   Adj. R-squared (uncentered):              0.954\n",
       "Method:                 Least Squares   F-statistic:                          1.047e+04\n",
       "Date:                Tue, 28 Mar 2023   Prob (F-statistic):                        0.00\n",
       "Time:                        15:05:41   Log-Likelihood:                         -1415.4\n",
       "No. Observations:                1000   AIC:                                      2835.\n",
       "Df Residuals:                     998   BIC:                                      2845.\n",
       "Df Model:                           2                                                  \n",
       "Covariance Type:            nonrobust                                                  \n",
       "==============================================================================\n",
       "                 coef    std err          t      P>|t|      [0.025      0.975]\n",
       "------------------------------------------------------------------------------\n",
       "x1             1.0393      0.028     37.302      0.000       0.985       1.094\n",
       "x2             5.0443      0.049    102.900      0.000       4.948       5.141\n",
       "==============================================================================\n",
       "Omnibus:                        1.198   Durbin-Watson:                   2.019\n",
       "Prob(Omnibus):                  0.549   Jarque-Bera (JB):                1.266\n",
       "Skew:                           0.057   Prob(JB):                        0.531\n",
       "Kurtosis:                       2.868   Cond. No.                         2.23\n",
       "==============================================================================\n",
       "\n",
       "Notes:\n",
       "[1] R² is computed without centering (uncentered) since the model does not contain a constant.\n",
       "[2] Standard Errors assume that the covariance matrix of the errors is correctly specified.\n",
       "\"\"\""
      ]
     },
     "execution_count": 10,
     "metadata": {},
     "output_type": "execute_result"
    }
   ],
   "source": [
    "model = OLS(np.asarray(df[outcome]), np.asarray(df[[common_cause, treatment]], dtype=np.float64))\n",
    "result = model.fit()\n",
    "result.summary()"
   ]
  }
 ],
 "metadata": {
  "kernelspec": {
   "display_name": "Python 3",
   "language": "python",
   "name": "python3"
  },
  "language_info": {
   "codemirror_mode": {
    "name": "ipython",
    "version": 3
   },
   "file_extension": ".py",
   "mimetype": "text/x-python",
   "name": "python",
   "nbconvert_exporter": "python",
   "pygments_lexer": "ipython3",
   "version": "3.8.10"
  },
  "toc": {
   "base_numbering": 1,
   "nav_menu": {},
   "number_sections": false,
   "sideBar": true,
   "skip_h1_title": true,
   "title_cell": "Table of Contents",
   "title_sidebar": "Contents",
   "toc_cell": false,
   "toc_position": {},
   "toc_section_display": true,
   "toc_window_display": false
  }
 },
 "nbformat": 4,
 "nbformat_minor": 4
}
