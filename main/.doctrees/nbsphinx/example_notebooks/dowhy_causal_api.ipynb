{
 "cells": [
  {
   "cell_type": "markdown",
   "metadata": {},
   "source": [
    "# Demo for the DoWhy causal API\n",
    "We show a simple example of adding a causal extension to any dataframe. "
   ]
  },
  {
   "cell_type": "code",
   "execution_count": 1,
   "metadata": {
    "execution": {
     "iopub.execute_input": "2023-03-30T21:45:18.214959Z",
     "iopub.status.busy": "2023-03-30T21:45:18.214317Z",
     "iopub.status.idle": "2023-03-30T21:45:19.908199Z",
     "shell.execute_reply": "2023-03-30T21:45:19.907473Z"
    }
   },
   "outputs": [],
   "source": [
    "import dowhy.datasets\n",
    "import dowhy.api\n",
    "\n",
    "import numpy as np\n",
    "import pandas as pd\n",
    "\n",
    "from statsmodels.api import OLS"
   ]
  },
  {
   "cell_type": "code",
   "execution_count": 2,
   "metadata": {
    "execution": {
     "iopub.execute_input": "2023-03-30T21:45:19.911962Z",
     "iopub.status.busy": "2023-03-30T21:45:19.911417Z",
     "iopub.status.idle": "2023-03-30T21:45:19.958624Z",
     "shell.execute_reply": "2023-03-30T21:45:19.957669Z"
    }
   },
   "outputs": [
    {
     "data": {
      "text/html": [
       "<div>\n",
       "<style scoped>\n",
       "    .dataframe tbody tr th:only-of-type {\n",
       "        vertical-align: middle;\n",
       "    }\n",
       "\n",
       "    .dataframe tbody tr th {\n",
       "        vertical-align: top;\n",
       "    }\n",
       "\n",
       "    .dataframe thead th {\n",
       "        text-align: right;\n",
       "    }\n",
       "</style>\n",
       "<table border=\"1\" class=\"dataframe\">\n",
       "  <thead>\n",
       "    <tr style=\"text-align: right;\">\n",
       "      <th></th>\n",
       "      <th>W0</th>\n",
       "      <th>v0</th>\n",
       "      <th>y</th>\n",
       "    </tr>\n",
       "  </thead>\n",
       "  <tbody>\n",
       "    <tr>\n",
       "      <th>0</th>\n",
       "      <td>0.835384</td>\n",
       "      <td>True</td>\n",
       "      <td>5.291288</td>\n",
       "    </tr>\n",
       "    <tr>\n",
       "      <th>1</th>\n",
       "      <td>-0.373036</td>\n",
       "      <td>False</td>\n",
       "      <td>-2.385761</td>\n",
       "    </tr>\n",
       "    <tr>\n",
       "      <th>2</th>\n",
       "      <td>-0.000841</td>\n",
       "      <td>False</td>\n",
       "      <td>-0.505251</td>\n",
       "    </tr>\n",
       "    <tr>\n",
       "      <th>3</th>\n",
       "      <td>-0.506175</td>\n",
       "      <td>True</td>\n",
       "      <td>2.805259</td>\n",
       "    </tr>\n",
       "    <tr>\n",
       "      <th>4</th>\n",
       "      <td>0.076095</td>\n",
       "      <td>True</td>\n",
       "      <td>6.181098</td>\n",
       "    </tr>\n",
       "    <tr>\n",
       "      <th>...</th>\n",
       "      <td>...</td>\n",
       "      <td>...</td>\n",
       "      <td>...</td>\n",
       "    </tr>\n",
       "    <tr>\n",
       "      <th>995</th>\n",
       "      <td>-0.527992</td>\n",
       "      <td>False</td>\n",
       "      <td>-1.103840</td>\n",
       "    </tr>\n",
       "    <tr>\n",
       "      <th>996</th>\n",
       "      <td>-0.909055</td>\n",
       "      <td>False</td>\n",
       "      <td>0.048373</td>\n",
       "    </tr>\n",
       "    <tr>\n",
       "      <th>997</th>\n",
       "      <td>1.049843</td>\n",
       "      <td>True</td>\n",
       "      <td>8.138861</td>\n",
       "    </tr>\n",
       "    <tr>\n",
       "      <th>998</th>\n",
       "      <td>0.109887</td>\n",
       "      <td>True</td>\n",
       "      <td>5.004557</td>\n",
       "    </tr>\n",
       "    <tr>\n",
       "      <th>999</th>\n",
       "      <td>2.380207</td>\n",
       "      <td>True</td>\n",
       "      <td>8.621429</td>\n",
       "    </tr>\n",
       "  </tbody>\n",
       "</table>\n",
       "<p>1000 rows × 3 columns</p>\n",
       "</div>"
      ],
      "text/plain": [
       "           W0     v0         y\n",
       "0    0.835384   True  5.291288\n",
       "1   -0.373036  False -2.385761\n",
       "2   -0.000841  False -0.505251\n",
       "3   -0.506175   True  2.805259\n",
       "4    0.076095   True  6.181098\n",
       "..        ...    ...       ...\n",
       "995 -0.527992  False -1.103840\n",
       "996 -0.909055  False  0.048373\n",
       "997  1.049843   True  8.138861\n",
       "998  0.109887   True  5.004557\n",
       "999  2.380207   True  8.621429\n",
       "\n",
       "[1000 rows x 3 columns]"
      ]
     },
     "execution_count": 2,
     "metadata": {},
     "output_type": "execute_result"
    }
   ],
   "source": [
    "data = dowhy.datasets.linear_dataset(beta=5,\n",
    "        num_common_causes=1,\n",
    "        num_instruments = 0,\n",
    "        num_samples=1000,\n",
    "        treatment_is_binary=True)\n",
    "df = data['df']\n",
    "df['y'] = df['y'] + np.random.normal(size=len(df)) # Adding noise to data. Without noise, the variance in Y|X, Z is zero, and mcmc fails.\n",
    "#data['dot_graph'] = 'digraph { v ->y;X0-> v;X0-> y;}'\n",
    "\n",
    "treatment= data[\"treatment_name\"][0]\n",
    "outcome = data[\"outcome_name\"][0]\n",
    "common_cause = data[\"common_causes_names\"][0]\n",
    "df"
   ]
  },
  {
   "cell_type": "code",
   "execution_count": 3,
   "metadata": {
    "execution": {
     "iopub.execute_input": "2023-03-30T21:45:19.962086Z",
     "iopub.status.busy": "2023-03-30T21:45:19.961485Z",
     "iopub.status.idle": "2023-03-30T21:45:20.114033Z",
     "shell.execute_reply": "2023-03-30T21:45:20.113457Z"
    }
   },
   "outputs": [
    {
     "data": {
      "text/plain": [
       "<AxesSubplot: xlabel='v0'>"
      ]
     },
     "execution_count": 3,
     "metadata": {},
     "output_type": "execute_result"
    },
    {
     "data": {
      "image/png": "[encoded data removed]",
      "text/plain": [
       "<Figure size 640x480 with 1 Axes>"
      ]
     },
     "metadata": {},
     "output_type": "display_data"
    }
   ],
   "source": [
    "# data['df'] is just a regular pandas.DataFrame\n",
    "df.causal.do(x=treatment,\n",
    "                     variable_types={treatment: 'b', outcome: 'c', common_cause: 'c'},\n",
    "                     outcome=outcome,\n",
    "                     common_causes=[common_cause],\n",
    "                     proceed_when_unidentifiable=True).groupby(treatment).mean().plot(y=outcome, kind='bar')"
   ]
  },
  {
   "cell_type": "code",
   "execution_count": 4,
   "metadata": {
    "execution": {
     "iopub.execute_input": "2023-03-30T21:45:20.117001Z",
     "iopub.status.busy": "2023-03-30T21:45:20.116604Z",
     "iopub.status.idle": "2023-03-30T21:45:20.237690Z",
     "shell.execute_reply": "2023-03-30T21:45:20.237055Z"
    }
   },
   "outputs": [
    {
     "data": {
      "text/plain": [
       "<AxesSubplot: xlabel='v0'>"
      ]
     },
     "execution_count": 4,
     "metadata": {},
     "output_type": "execute_result"
    },
    {
     "data": {
      "image/png": "[encoded data removed]",
      "text/plain": [
       "<Figure size 640x480 with 1 Axes>"
      ]
     },
     "metadata": {},
     "output_type": "display_data"
    }
   ],
   "source": [
    "df.causal.do(x={treatment: 1}, \n",
    "              variable_types={treatment:'b', outcome: 'c', common_cause: 'c'}, \n",
    "              outcome=outcome,\n",
    "              method='weighting', \n",
    "              common_causes=[common_cause],\n",
    "              proceed_when_unidentifiable=True).groupby(treatment).mean().plot(y=outcome, kind='bar')"
   ]
  },
  {
   "cell_type": "code",
   "execution_count": 5,
   "metadata": {
    "execution": {
     "iopub.execute_input": "2023-03-30T21:45:20.240579Z",
     "iopub.status.busy": "2023-03-30T21:45:20.240325Z",
     "iopub.status.idle": "2023-03-30T21:45:20.376747Z",
     "shell.execute_reply": "2023-03-30T21:45:20.376037Z"
    }
   },
   "outputs": [],
   "source": [
    "cdf_1 = df.causal.do(x={treatment: 1}, \n",
    "              variable_types={treatment: 'b', outcome: 'c', common_cause: 'c'}, \n",
    "              outcome=outcome, \n",
    "              dot_graph=data['dot_graph'],\n",
    "              proceed_when_unidentifiable=True)\n",
    "\n",
    "cdf_0 = df.causal.do(x={treatment: 0}, \n",
    "              variable_types={treatment: 'b', outcome: 'c', common_cause: 'c'}, \n",
    "              outcome=outcome, \n",
    "              dot_graph=data['dot_graph'],\n",
    "              proceed_when_unidentifiable=True)\n"
   ]
  },
  {
   "cell_type": "code",
   "execution_count": 6,
   "metadata": {
    "execution": {
     "iopub.execute_input": "2023-03-30T21:45:20.380329Z",
     "iopub.status.busy": "2023-03-30T21:45:20.379905Z",
     "iopub.status.idle": "2023-03-30T21:45:20.390488Z",
     "shell.execute_reply": "2023-03-30T21:45:20.389964Z"
    },
    "scrolled": true
   },
   "outputs": [
    {
     "data": {
      "text/html": [
       "<div>\n",
       "<style scoped>\n",
       "    .dataframe tbody tr th:only-of-type {\n",
       "        vertical-align: middle;\n",
       "    }\n",
       "\n",
       "    .dataframe tbody tr th {\n",
       "        vertical-align: top;\n",
       "    }\n",
       "\n",
       "    .dataframe thead th {\n",
       "        text-align: right;\n",
       "    }\n",
       "</style>\n",
       "<table border=\"1\" class=\"dataframe\">\n",
       "  <thead>\n",
       "    <tr style=\"text-align: right;\">\n",
       "      <th></th>\n",
       "      <th>W0</th>\n",
       "      <th>v0</th>\n",
       "      <th>y</th>\n",
       "      <th>propensity_score</th>\n",
       "      <th>weight</th>\n",
       "    </tr>\n",
       "  </thead>\n",
       "  <tbody>\n",
       "    <tr>\n",
       "      <th>0</th>\n",
       "      <td>-0.531890</td>\n",
       "      <td>False</td>\n",
       "      <td>1.216860</td>\n",
       "      <td>0.729741</td>\n",
       "      <td>1.370348</td>\n",
       "    </tr>\n",
       "    <tr>\n",
       "      <th>1</th>\n",
       "      <td>-1.621161</td>\n",
       "      <td>False</td>\n",
       "      <td>-2.366467</td>\n",
       "      <td>0.947761</td>\n",
       "      <td>1.055118</td>\n",
       "    </tr>\n",
       "    <tr>\n",
       "      <th>2</th>\n",
       "      <td>0.412678</td>\n",
       "      <td>False</td>\n",
       "      <td>1.247566</td>\n",
       "      <td>0.341056</td>\n",
       "      <td>2.932070</td>\n",
       "    </tr>\n",
       "    <tr>\n",
       "      <th>3</th>\n",
       "      <td>-1.130786</td>\n",
       "      <td>False</td>\n",
       "      <td>-1.473641</td>\n",
       "      <td>0.885003</td>\n",
       "      <td>1.129939</td>\n",
       "    </tr>\n",
       "    <tr>\n",
       "      <th>4</th>\n",
       "      <td>1.646352</td>\n",
       "      <td>False</td>\n",
       "      <td>1.832042</td>\n",
       "      <td>0.056460</td>\n",
       "      <td>17.711504</td>\n",
       "    </tr>\n",
       "    <tr>\n",
       "      <th>...</th>\n",
       "      <td>...</td>\n",
       "      <td>...</td>\n",
       "      <td>...</td>\n",
       "      <td>...</td>\n",
       "      <td>...</td>\n",
       "    </tr>\n",
       "    <tr>\n",
       "      <th>995</th>\n",
       "      <td>-0.417306</td>\n",
       "      <td>False</td>\n",
       "      <td>-1.379264</td>\n",
       "      <td>0.688458</td>\n",
       "      <td>1.452521</td>\n",
       "    </tr>\n",
       "    <tr>\n",
       "      <th>996</th>\n",
       "      <td>-0.167489</td>\n",
       "      <td>False</td>\n",
       "      <td>-0.833731</td>\n",
       "      <td>0.588079</td>\n",
       "      <td>1.700452</td>\n",
       "    </tr>\n",
       "    <tr>\n",
       "      <th>997</th>\n",
       "      <td>-0.982083</td>\n",
       "      <td>False</td>\n",
       "      <td>-0.935502</td>\n",
       "      <td>0.855774</td>\n",
       "      <td>1.168532</td>\n",
       "    </tr>\n",
       "    <tr>\n",
       "      <th>998</th>\n",
       "      <td>0.576705</td>\n",
       "      <td>False</td>\n",
       "      <td>0.792017</td>\n",
       "      <td>0.279801</td>\n",
       "      <td>3.573974</td>\n",
       "    </tr>\n",
       "    <tr>\n",
       "      <th>999</th>\n",
       "      <td>0.703070</td>\n",
       "      <td>False</td>\n",
       "      <td>1.247007</td>\n",
       "      <td>0.237499</td>\n",
       "      <td>4.210552</td>\n",
       "    </tr>\n",
       "  </tbody>\n",
       "</table>\n",
       "<p>1000 rows × 5 columns</p>\n",
       "</div>"
      ],
      "text/plain": [
       "           W0     v0         y  propensity_score     weight\n",
       "0   -0.531890  False  1.216860          0.729741   1.370348\n",
       "1   -1.621161  False -2.366467          0.947761   1.055118\n",
       "2    0.412678  False  1.247566          0.341056   2.932070\n",
       "3   -1.130786  False -1.473641          0.885003   1.129939\n",
       "4    1.646352  False  1.832042          0.056460  17.711504\n",
       "..        ...    ...       ...               ...        ...\n",
       "995 -0.417306  False -1.379264          0.688458   1.452521\n",
       "996 -0.167489  False -0.833731          0.588079   1.700452\n",
       "997 -0.982083  False -0.935502          0.855774   1.168532\n",
       "998  0.576705  False  0.792017          0.279801   3.573974\n",
       "999  0.703070  False  1.247007          0.237499   4.210552\n",
       "\n",
       "[1000 rows x 5 columns]"
      ]
     },
     "execution_count": 6,
     "metadata": {},
     "output_type": "execute_result"
    }
   ],
   "source": [
    "cdf_0"
   ]
  },
  {
   "cell_type": "code",
   "execution_count": 7,
   "metadata": {
    "execution": {
     "iopub.execute_input": "2023-03-30T21:45:20.393256Z",
     "iopub.status.busy": "2023-03-30T21:45:20.392822Z",
     "iopub.status.idle": "2023-03-30T21:45:20.402930Z",
     "shell.execute_reply": "2023-03-30T21:45:20.402285Z"
    }
   },
   "outputs": [
    {
     "data": {
      "text/html": [
       "<div>\n",
       "<style scoped>\n",
       "    .dataframe tbody tr th:only-of-type {\n",
       "        vertical-align: middle;\n",
       "    }\n",
       "\n",
       "    .dataframe tbody tr th {\n",
       "        vertical-align: top;\n",
       "    }\n",
       "\n",
       "    .dataframe thead th {\n",
       "        text-align: right;\n",
       "    }\n",
       "</style>\n",
       "<table border=\"1\" class=\"dataframe\">\n",
       "  <thead>\n",
       "    <tr style=\"text-align: right;\">\n",
       "      <th></th>\n",
       "      <th>W0</th>\n",
       "      <th>v0</th>\n",
       "      <th>y</th>\n",
       "      <th>propensity_score</th>\n",
       "      <th>weight</th>\n",
       "    </tr>\n",
       "  </thead>\n",
       "  <tbody>\n",
       "    <tr>\n",
       "      <th>0</th>\n",
       "      <td>-0.767580</td>\n",
       "      <td>True</td>\n",
       "      <td>4.779087</td>\n",
       "      <td>0.196946</td>\n",
       "      <td>5.077545</td>\n",
       "    </tr>\n",
       "    <tr>\n",
       "      <th>1</th>\n",
       "      <td>1.014064</td>\n",
       "      <td>True</td>\n",
       "      <td>4.118765</td>\n",
       "      <td>0.846878</td>\n",
       "      <td>1.180807</td>\n",
       "    </tr>\n",
       "    <tr>\n",
       "      <th>2</th>\n",
       "      <td>0.612249</td>\n",
       "      <td>True</td>\n",
       "      <td>5.319755</td>\n",
       "      <td>0.732552</td>\n",
       "      <td>1.365090</td>\n",
       "    </tr>\n",
       "    <tr>\n",
       "      <th>3</th>\n",
       "      <td>-1.845153</td>\n",
       "      <td>True</td>\n",
       "      <td>2.537365</td>\n",
       "      <td>0.035916</td>\n",
       "      <td>27.842940</td>\n",
       "    </tr>\n",
       "    <tr>\n",
       "      <th>4</th>\n",
       "      <td>-1.055865</td>\n",
       "      <td>True</td>\n",
       "      <td>2.458599</td>\n",
       "      <td>0.129019</td>\n",
       "      <td>7.750800</td>\n",
       "    </tr>\n",
       "    <tr>\n",
       "      <th>...</th>\n",
       "      <td>...</td>\n",
       "      <td>...</td>\n",
       "      <td>...</td>\n",
       "      <td>...</td>\n",
       "      <td>...</td>\n",
       "    </tr>\n",
       "    <tr>\n",
       "      <th>995</th>\n",
       "      <td>1.429134</td>\n",
       "      <td>True</td>\n",
       "      <td>5.744244</td>\n",
       "      <td>0.919548</td>\n",
       "      <td>1.087491</td>\n",
       "    </tr>\n",
       "    <tr>\n",
       "      <th>996</th>\n",
       "      <td>-1.608487</td>\n",
       "      <td>True</td>\n",
       "      <td>2.798619</td>\n",
       "      <td>0.053347</td>\n",
       "      <td>18.745140</td>\n",
       "    </tr>\n",
       "    <tr>\n",
       "      <th>997</th>\n",
       "      <td>-0.638699</td>\n",
       "      <td>True</td>\n",
       "      <td>3.969651</td>\n",
       "      <td>0.235034</td>\n",
       "      <td>4.254706</td>\n",
       "    </tr>\n",
       "    <tr>\n",
       "      <th>998</th>\n",
       "      <td>-0.647379</td>\n",
       "      <td>True</td>\n",
       "      <td>4.667120</td>\n",
       "      <td>0.232315</td>\n",
       "      <td>4.304494</td>\n",
       "    </tr>\n",
       "    <tr>\n",
       "      <th>999</th>\n",
       "      <td>-0.148960</td>\n",
       "      <td>True</td>\n",
       "      <td>5.789701</td>\n",
       "      <td>0.419793</td>\n",
       "      <td>2.382128</td>\n",
       "    </tr>\n",
       "  </tbody>\n",
       "</table>\n",
       "<p>1000 rows × 5 columns</p>\n",
       "</div>"
      ],
      "text/plain": [
       "           W0    v0         y  propensity_score     weight\n",
       "0   -0.767580  True  4.779087          0.196946   5.077545\n",
       "1    1.014064  True  4.118765          0.846878   1.180807\n",
       "2    0.612249  True  5.319755          0.732552   1.365090\n",
       "3   -1.845153  True  2.537365          0.035916  27.842940\n",
       "4   -1.055865  True  2.458599          0.129019   7.750800\n",
       "..        ...   ...       ...               ...        ...\n",
       "995  1.429134  True  5.744244          0.919548   1.087491\n",
       "996 -1.608487  True  2.798619          0.053347  18.745140\n",
       "997 -0.638699  True  3.969651          0.235034   4.254706\n",
       "998 -0.647379  True  4.667120          0.232315   4.304494\n",
       "999 -0.148960  True  5.789701          0.419793   2.382128\n",
       "\n",
       "[1000 rows x 5 columns]"
      ]
     },
     "execution_count": 7,
     "metadata": {},
     "output_type": "execute_result"
    }
   ],
   "source": [
    "cdf_1"
   ]
  },
  {
   "cell_type": "markdown",
   "metadata": {},
   "source": [
    "## Comparing the estimate to Linear Regression\n",
    "First, estimating the effect using the causal data frame, and the 95% confidence interval."
   ]
  },
  {
   "cell_type": "code",
   "execution_count": 8,
   "metadata": {
    "execution": {
     "iopub.execute_input": "2023-03-30T21:45:20.406579Z",
     "iopub.status.busy": "2023-03-30T21:45:20.406006Z",
     "iopub.status.idle": "2023-03-30T21:45:20.464947Z",
     "shell.execute_reply": "2023-03-30T21:45:20.464210Z"
    }
   },
   "outputs": [
    {
     "data": {
      "image/png": "[encoded data removed]",
      "text/latex": [
       "$\\displaystyle 5.12842635009037$"
      ],
      "text/plain": [
       "5.128426350090369"
      ]
     },
     "execution_count": 8,
     "metadata": {},
     "output_type": "execute_result"
    }
   ],
   "source": [
    "(cdf_1['y'] - cdf_0['y']).mean()"
   ]
  },
  {
   "cell_type": "code",
   "execution_count": 9,
   "metadata": {
    "execution": {
     "iopub.execute_input": "2023-03-30T21:45:20.468269Z",
     "iopub.status.busy": "2023-03-30T21:45:20.467737Z",
     "iopub.status.idle": "2023-03-30T21:45:20.489000Z",
     "shell.execute_reply": "2023-03-30T21:45:20.488240Z"
    }
   },
   "outputs": [
    {
     "data": {
      "image/png": "[encoded data removed]",
      "text/latex": [
       "$\\displaystyle 0.11337860246052$"
      ],
      "text/plain": [
       "0.11337860246051991"
      ]
     },
     "execution_count": 9,
     "metadata": {},
     "output_type": "execute_result"
    }
   ],
   "source": [
    "1.96*(cdf_1['y'] - cdf_0['y']).std() / np.sqrt(len(df))"
   ]
  },
  {
   "cell_type": "markdown",
   "metadata": {},
   "source": [
    "Comparing to the estimate from OLS."
   ]
  },
  {
   "cell_type": "code",
   "execution_count": 10,
   "metadata": {
    "execution": {
     "iopub.execute_input": "2023-03-30T21:45:20.492188Z",
     "iopub.status.busy": "2023-03-30T21:45:20.491743Z",
     "iopub.status.idle": "2023-03-30T21:45:20.506680Z",
     "shell.execute_reply": "2023-03-30T21:45:20.506018Z"
    }
   },
   "outputs": [
    {
     "data": {
      "text/html": [
       "<table class=\"simpletable\">\n",
       "<caption>OLS Regression Results</caption>\n",
       "<tr>\n",
       "  <th>Dep. Variable:</th>            <td>y</td>        <th>  R-squared (uncentered):</th>      <td>   0.933</td>\n",
       "</tr>\n",
       "<tr>\n",
       "  <th>Model:</th>                   <td>OLS</td>       <th>  Adj. R-squared (uncentered):</th> <td>   0.933</td>\n",
       "</tr>\n",
       "<tr>\n",
       "  <th>Method:</th>             <td>Least Squares</td>  <th>  F-statistic:       </th>          <td>   7002.</td>\n",
       "</tr>\n",
       "<tr>\n",
       "  <th>Date:</th>             <td>Thu, 30 Mar 2023</td> <th>  Prob (F-statistic):</th>           <td>  0.00</td> \n",
       "</tr>\n",
       "<tr>\n",
       "  <th>Time:</th>                 <td>21:45:20</td>     <th>  Log-Likelihood:    </th>          <td> -1439.7</td>\n",
       "</tr>\n",
       "<tr>\n",
       "  <th>No. Observations:</th>      <td>  1000</td>      <th>  AIC:               </th>          <td>   2883.</td>\n",
       "</tr>\n",
       "<tr>\n",
       "  <th>Df Residuals:</th>          <td>   998</td>      <th>  BIC:               </th>          <td>   2893.</td>\n",
       "</tr>\n",
       "<tr>\n",
       "  <th>Df Model:</th>              <td>     2</td>      <th>                     </th>              <td> </td>   \n",
       "</tr>\n",
       "<tr>\n",
       "  <th>Covariance Type:</th>      <td>nonrobust</td>    <th>                     </th>              <td> </td>   \n",
       "</tr>\n",
       "</table>\n",
       "<table class=\"simpletable\">\n",
       "<tr>\n",
       "   <td></td>     <th>coef</th>     <th>std err</th>      <th>t</th>      <th>P>|t|</th>  <th>[0.025</th>    <th>0.975]</th>  \n",
       "</tr>\n",
       "<tr>\n",
       "  <th>x1</th> <td>    0.9264</td> <td>    0.033</td> <td>   28.451</td> <td> 0.000</td> <td>    0.863</td> <td>    0.990</td>\n",
       "</tr>\n",
       "<tr>\n",
       "  <th>x2</th> <td>    4.9771</td> <td>    0.051</td> <td>   97.377</td> <td> 0.000</td> <td>    4.877</td> <td>    5.077</td>\n",
       "</tr>\n",
       "</table>\n",
       "<table class=\"simpletable\">\n",
       "<tr>\n",
       "  <th>Omnibus:</th>       <td> 2.643</td> <th>  Durbin-Watson:     </th> <td>   2.061</td>\n",
       "</tr>\n",
       "<tr>\n",
       "  <th>Prob(Omnibus):</th> <td> 0.267</td> <th>  Jarque-Bera (JB):  </th> <td>   2.394</td>\n",
       "</tr>\n",
       "<tr>\n",
       "  <th>Skew:</th>          <td>-0.043</td> <th>  Prob(JB):          </th> <td>   0.302</td>\n",
       "</tr>\n",
       "<tr>\n",
       "  <th>Kurtosis:</th>      <td> 2.777</td> <th>  Cond. No.          </th> <td>    1.81</td>\n",
       "</tr>\n",
       "</table><br/><br/>Notes:<br/>[1] R² is computed without centering (uncentered) since the model does not contain a constant.<br/>[2] Standard Errors assume that the covariance matrix of the errors is correctly specified."
      ],
      "text/plain": [
       "<class 'statsmodels.iolib.summary.Summary'>\n",
       "\"\"\"\n",
       "                                 OLS Regression Results                                \n",
       "=======================================================================================\n",
       "Dep. Variable:                      y   R-squared (uncentered):                   0.933\n",
       "Model:                            OLS   Adj. R-squared (uncentered):              0.933\n",
       "Method:                 Least Squares   F-statistic:                              7002.\n",
       "Date:                Thu, 30 Mar 2023   Prob (F-statistic):                        0.00\n",
       "Time:                        21:45:20   Log-Likelihood:                         -1439.7\n",
       "No. Observations:                1000   AIC:                                      2883.\n",
       "Df Residuals:                     998   BIC:                                      2893.\n",
       "Df Model:                           2                                                  \n",
       "Covariance Type:            nonrobust                                                  \n",
       "==============================================================================\n",
       "                 coef    std err          t      P>|t|      [0.025      0.975]\n",
       "------------------------------------------------------------------------------\n",
       "x1             0.9264      0.033     28.451      0.000       0.863       0.990\n",
       "x2             4.9771      0.051     97.377      0.000       4.877       5.077\n",
       "==============================================================================\n",
       "Omnibus:                        2.643   Durbin-Watson:                   2.061\n",
       "Prob(Omnibus):                  0.267   Jarque-Bera (JB):                2.394\n",
       "Skew:                          -0.043   Prob(JB):                        0.302\n",
       "Kurtosis:                       2.777   Cond. No.                         1.81\n",
       "==============================================================================\n",
       "\n",
       "Notes:\n",
       "[1] R² is computed without centering (uncentered) since the model does not contain a constant.\n",
       "[2] Standard Errors assume that the covariance matrix of the errors is correctly specified.\n",
       "\"\"\""
      ]
     },
     "execution_count": 10,
     "metadata": {},
     "output_type": "execute_result"
    }
   ],
   "source": [
    "model = OLS(np.asarray(df[outcome]), np.asarray(df[[common_cause, treatment]], dtype=np.float64))\n",
    "result = model.fit()\n",
    "result.summary()"
   ]
  }
 ],
 "metadata": {
  "kernelspec": {
   "display_name": "Python 3",
   "language": "python",
   "name": "python3"
  },
  "language_info": {
   "codemirror_mode": {
    "name": "ipython",
    "version": 3
   },
   "file_extension": ".py",
   "mimetype": "text/x-python",
   "name": "python",
   "nbconvert_exporter": "python",
   "pygments_lexer": "ipython3",
   "version": "3.8.10"
  },
  "toc": {
   "base_numbering": 1,
   "nav_menu": {},
   "number_sections": false,
   "sideBar": true,
   "skip_h1_title": true,
   "title_cell": "Table of Contents",
   "title_sidebar": "Contents",
   "toc_cell": false,
   "toc_position": {},
   "toc_section_display": true,
   "toc_window_display": false
  }
 },
 "nbformat": 4,
 "nbformat_minor": 4
}
