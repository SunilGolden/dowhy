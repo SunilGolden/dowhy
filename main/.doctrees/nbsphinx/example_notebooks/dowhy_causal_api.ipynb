{
 "cells": [
  {
   "cell_type": "markdown",
   "metadata": {},
   "source": [
    "# Demo for the DoWhy causal API\n",
    "We show a simple example of adding a causal extension to any dataframe. "
   ]
  },
  {
   "cell_type": "code",
   "execution_count": 1,
   "metadata": {
    "execution": {
     "iopub.execute_input": "2023-08-28T17:37:24.751562Z",
     "iopub.status.busy": "2023-08-28T17:37:24.751276Z",
     "iopub.status.idle": "2023-08-28T17:37:26.868045Z",
     "shell.execute_reply": "2023-08-28T17:37:26.866934Z"
    }
   },
   "outputs": [],
   "source": [
    "import dowhy.datasets\n",
    "import dowhy.api\n",
    "\n",
    "import numpy as np\n",
    "import pandas as pd\n",
    "\n",
    "from statsmodels.api import OLS"
   ]
  },
  {
   "cell_type": "code",
   "execution_count": 2,
   "metadata": {
    "execution": {
     "iopub.execute_input": "2023-08-28T17:37:26.873149Z",
     "iopub.status.busy": "2023-08-28T17:37:26.872184Z",
     "iopub.status.idle": "2023-08-28T17:37:26.944596Z",
     "shell.execute_reply": "2023-08-28T17:37:26.943529Z"
    }
   },
   "outputs": [
    {
     "data": {
      "text/html": [
       "<div>\n",
       "<style scoped>\n",
       "    .dataframe tbody tr th:only-of-type {\n",
       "        vertical-align: middle;\n",
       "    }\n",
       "\n",
       "    .dataframe tbody tr th {\n",
       "        vertical-align: top;\n",
       "    }\n",
       "\n",
       "    .dataframe thead th {\n",
       "        text-align: right;\n",
       "    }\n",
       "</style>\n",
       "<table border=\"1\" class=\"dataframe\">\n",
       "  <thead>\n",
       "    <tr style=\"text-align: right;\">\n",
       "      <th></th>\n",
       "      <th>W0</th>\n",
       "      <th>v0</th>\n",
       "      <th>y</th>\n",
       "    </tr>\n",
       "  </thead>\n",
       "  <tbody>\n",
       "    <tr>\n",
       "      <th>0</th>\n",
       "      <td>0.022567</td>\n",
       "      <td>True</td>\n",
       "      <td>7.958663</td>\n",
       "    </tr>\n",
       "    <tr>\n",
       "      <th>1</th>\n",
       "      <td>-0.978900</td>\n",
       "      <td>False</td>\n",
       "      <td>-0.227778</td>\n",
       "    </tr>\n",
       "    <tr>\n",
       "      <th>2</th>\n",
       "      <td>0.518881</td>\n",
       "      <td>False</td>\n",
       "      <td>-0.757679</td>\n",
       "    </tr>\n",
       "    <tr>\n",
       "      <th>3</th>\n",
       "      <td>1.247208</td>\n",
       "      <td>False</td>\n",
       "      <td>1.240231</td>\n",
       "    </tr>\n",
       "    <tr>\n",
       "      <th>4</th>\n",
       "      <td>1.369491</td>\n",
       "      <td>True</td>\n",
       "      <td>3.954798</td>\n",
       "    </tr>\n",
       "    <tr>\n",
       "      <th>...</th>\n",
       "      <td>...</td>\n",
       "      <td>...</td>\n",
       "      <td>...</td>\n",
       "    </tr>\n",
       "    <tr>\n",
       "      <th>995</th>\n",
       "      <td>0.952138</td>\n",
       "      <td>True</td>\n",
       "      <td>5.668058</td>\n",
       "    </tr>\n",
       "    <tr>\n",
       "      <th>996</th>\n",
       "      <td>-1.059459</td>\n",
       "      <td>True</td>\n",
       "      <td>3.725037</td>\n",
       "    </tr>\n",
       "    <tr>\n",
       "      <th>997</th>\n",
       "      <td>0.222156</td>\n",
       "      <td>True</td>\n",
       "      <td>6.188210</td>\n",
       "    </tr>\n",
       "    <tr>\n",
       "      <th>998</th>\n",
       "      <td>0.661158</td>\n",
       "      <td>True</td>\n",
       "      <td>4.208314</td>\n",
       "    </tr>\n",
       "    <tr>\n",
       "      <th>999</th>\n",
       "      <td>1.026062</td>\n",
       "      <td>True</td>\n",
       "      <td>5.817288</td>\n",
       "    </tr>\n",
       "  </tbody>\n",
       "</table>\n",
       "<p>1000 rows × 3 columns</p>\n",
       "</div>"
      ],
      "text/plain": [
       "           W0     v0         y\n",
       "0    0.022567   True  7.958663\n",
       "1   -0.978900  False -0.227778\n",
       "2    0.518881  False -0.757679\n",
       "3    1.247208  False  1.240231\n",
       "4    1.369491   True  3.954798\n",
       "..        ...    ...       ...\n",
       "995  0.952138   True  5.668058\n",
       "996 -1.059459   True  3.725037\n",
       "997  0.222156   True  6.188210\n",
       "998  0.661158   True  4.208314\n",
       "999  1.026062   True  5.817288\n",
       "\n",
       "[1000 rows x 3 columns]"
      ]
     },
     "execution_count": 2,
     "metadata": {},
     "output_type": "execute_result"
    }
   ],
   "source": [
    "data = dowhy.datasets.linear_dataset(beta=5,\n",
    "        num_common_causes=1,\n",
    "        num_instruments = 0,\n",
    "        num_samples=1000,\n",
    "        treatment_is_binary=True)\n",
    "df = data['df']\n",
    "df['y'] = df['y'] + np.random.normal(size=len(df)) # Adding noise to data. Without noise, the variance in Y|X, Z is zero, and mcmc fails.\n",
    "#data['dot_graph'] = 'digraph { v ->y;X0-> v;X0-> y;}'\n",
    "\n",
    "treatment= data[\"treatment_name\"][0]\n",
    "outcome = data[\"outcome_name\"][0]\n",
    "common_cause = data[\"common_causes_names\"][0]\n",
    "df"
   ]
  },
  {
   "cell_type": "code",
   "execution_count": 3,
   "metadata": {
    "execution": {
     "iopub.execute_input": "2023-08-28T17:37:26.954448Z",
     "iopub.status.busy": "2023-08-28T17:37:26.954158Z",
     "iopub.status.idle": "2023-08-28T17:37:27.259540Z",
     "shell.execute_reply": "2023-08-28T17:37:27.258587Z"
    }
   },
   "outputs": [
    {
     "data": {
      "text/plain": [
       "<Axes: xlabel='v0'>"
      ]
     },
     "execution_count": 3,
     "metadata": {},
     "output_type": "execute_result"
    },
    {
     "data": {
      "image/png": "[encoded data removed]",
      "text/plain": [
       "<Figure size 640x480 with 1 Axes>"
      ]
     },
     "metadata": {},
     "output_type": "display_data"
    }
   ],
   "source": [
    "# data['df'] is just a regular pandas.DataFrame\n",
    "df.causal.do(x=treatment,\n",
    "                     variable_types={treatment: 'b', outcome: 'c', common_cause: 'c'},\n",
    "                     outcome=outcome,\n",
    "                     common_causes=[common_cause],\n",
    "                     proceed_when_unidentifiable=True).groupby(treatment).mean().plot(y=outcome, kind='bar')"
   ]
  },
  {
   "cell_type": "code",
   "execution_count": 4,
   "metadata": {
    "execution": {
     "iopub.execute_input": "2023-08-28T17:37:27.263369Z",
     "iopub.status.busy": "2023-08-28T17:37:27.262865Z",
     "iopub.status.idle": "2023-08-28T17:37:27.468564Z",
     "shell.execute_reply": "2023-08-28T17:37:27.467730Z"
    }
   },
   "outputs": [
    {
     "data": {
      "text/plain": [
       "<Axes: xlabel='v0'>"
      ]
     },
     "execution_count": 4,
     "metadata": {},
     "output_type": "execute_result"
    },
    {
     "data": {
      "image/png": "[encoded data removed]",
      "text/plain": [
       "<Figure size 640x480 with 1 Axes>"
      ]
     },
     "metadata": {},
     "output_type": "display_data"
    }
   ],
   "source": [
    "df.causal.do(x={treatment: 1}, \n",
    "              variable_types={treatment:'b', outcome: 'c', common_cause: 'c'}, \n",
    "              outcome=outcome,\n",
    "              method='weighting', \n",
    "              common_causes=[common_cause],\n",
    "              proceed_when_unidentifiable=True).groupby(treatment).mean().plot(y=outcome, kind='bar')"
   ]
  },
  {
   "cell_type": "code",
   "execution_count": 5,
   "metadata": {
    "execution": {
     "iopub.execute_input": "2023-08-28T17:37:27.472567Z",
     "iopub.status.busy": "2023-08-28T17:37:27.471632Z",
     "iopub.status.idle": "2023-08-28T17:37:27.514464Z",
     "shell.execute_reply": "2023-08-28T17:37:27.513536Z"
    }
   },
   "outputs": [],
   "source": [
    "cdf_1 = df.causal.do(x={treatment: 1}, \n",
    "              variable_types={treatment: 'b', outcome: 'c', common_cause: 'c'}, \n",
    "              outcome=outcome, \n",
    "              dot_graph=data['dot_graph'],\n",
    "              proceed_when_unidentifiable=True)\n",
    "\n",
    "cdf_0 = df.causal.do(x={treatment: 0}, \n",
    "              variable_types={treatment: 'b', outcome: 'c', common_cause: 'c'}, \n",
    "              outcome=outcome, \n",
    "              dot_graph=data['dot_graph'],\n",
    "              proceed_when_unidentifiable=True)\n"
   ]
  },
  {
   "cell_type": "code",
   "execution_count": 6,
   "metadata": {
    "execution": {
     "iopub.execute_input": "2023-08-28T17:37:27.518395Z",
     "iopub.status.busy": "2023-08-28T17:37:27.518111Z",
     "iopub.status.idle": "2023-08-28T17:37:27.532574Z",
     "shell.execute_reply": "2023-08-28T17:37:27.531326Z"
    },
    "scrolled": true
   },
   "outputs": [
    {
     "data": {
      "text/html": [
       "<div>\n",
       "<style scoped>\n",
       "    .dataframe tbody tr th:only-of-type {\n",
       "        vertical-align: middle;\n",
       "    }\n",
       "\n",
       "    .dataframe tbody tr th {\n",
       "        vertical-align: top;\n",
       "    }\n",
       "\n",
       "    .dataframe thead th {\n",
       "        text-align: right;\n",
       "    }\n",
       "</style>\n",
       "<table border=\"1\" class=\"dataframe\">\n",
       "  <thead>\n",
       "    <tr style=\"text-align: right;\">\n",
       "      <th></th>\n",
       "      <th>W0</th>\n",
       "      <th>v0</th>\n",
       "      <th>y</th>\n",
       "      <th>propensity_score</th>\n",
       "      <th>weight</th>\n",
       "    </tr>\n",
       "  </thead>\n",
       "  <tbody>\n",
       "    <tr>\n",
       "      <th>0</th>\n",
       "      <td>-0.094358</td>\n",
       "      <td>False</td>\n",
       "      <td>0.276146</td>\n",
       "      <td>0.536275</td>\n",
       "      <td>1.864714</td>\n",
       "    </tr>\n",
       "    <tr>\n",
       "      <th>1</th>\n",
       "      <td>0.425225</td>\n",
       "      <td>False</td>\n",
       "      <td>-1.414499</td>\n",
       "      <td>0.483440</td>\n",
       "      <td>2.068508</td>\n",
       "    </tr>\n",
       "    <tr>\n",
       "      <th>2</th>\n",
       "      <td>1.944943</td>\n",
       "      <td>False</td>\n",
       "      <td>0.493480</td>\n",
       "      <td>0.335096</td>\n",
       "      <td>2.984217</td>\n",
       "    </tr>\n",
       "    <tr>\n",
       "      <th>3</th>\n",
       "      <td>0.521325</td>\n",
       "      <td>False</td>\n",
       "      <td>0.386106</td>\n",
       "      <td>0.473673</td>\n",
       "      <td>2.111159</td>\n",
       "    </tr>\n",
       "    <tr>\n",
       "      <th>4</th>\n",
       "      <td>0.493617</td>\n",
       "      <td>False</td>\n",
       "      <td>0.780960</td>\n",
       "      <td>0.476488</td>\n",
       "      <td>2.098690</td>\n",
       "    </tr>\n",
       "    <tr>\n",
       "      <th>...</th>\n",
       "      <td>...</td>\n",
       "      <td>...</td>\n",
       "      <td>...</td>\n",
       "      <td>...</td>\n",
       "      <td>...</td>\n",
       "    </tr>\n",
       "    <tr>\n",
       "      <th>995</th>\n",
       "      <td>0.008437</td>\n",
       "      <td>False</td>\n",
       "      <td>-0.216860</td>\n",
       "      <td>0.525849</td>\n",
       "      <td>1.901686</td>\n",
       "    </tr>\n",
       "    <tr>\n",
       "      <th>996</th>\n",
       "      <td>1.970722</td>\n",
       "      <td>False</td>\n",
       "      <td>1.112719</td>\n",
       "      <td>0.332761</td>\n",
       "      <td>3.005160</td>\n",
       "    </tr>\n",
       "    <tr>\n",
       "      <th>997</th>\n",
       "      <td>-0.281990</td>\n",
       "      <td>False</td>\n",
       "      <td>0.990103</td>\n",
       "      <td>0.555218</td>\n",
       "      <td>1.801095</td>\n",
       "    </tr>\n",
       "    <tr>\n",
       "      <th>998</th>\n",
       "      <td>1.551439</td>\n",
       "      <td>False</td>\n",
       "      <td>-0.407108</td>\n",
       "      <td>0.371694</td>\n",
       "      <td>2.690383</td>\n",
       "    </tr>\n",
       "    <tr>\n",
       "      <th>999</th>\n",
       "      <td>1.301599</td>\n",
       "      <td>False</td>\n",
       "      <td>-1.278725</td>\n",
       "      <td>0.395752</td>\n",
       "      <td>2.526838</td>\n",
       "    </tr>\n",
       "  </tbody>\n",
       "</table>\n",
       "<p>1000 rows × 5 columns</p>\n",
       "</div>"
      ],
      "text/plain": [
       "           W0     v0         y  propensity_score    weight\n",
       "0   -0.094358  False  0.276146          0.536275  1.864714\n",
       "1    0.425225  False -1.414499          0.483440  2.068508\n",
       "2    1.944943  False  0.493480          0.335096  2.984217\n",
       "3    0.521325  False  0.386106          0.473673  2.111159\n",
       "4    0.493617  False  0.780960          0.476488  2.098690\n",
       "..        ...    ...       ...               ...       ...\n",
       "995  0.008437  False -0.216860          0.525849  1.901686\n",
       "996  1.970722  False  1.112719          0.332761  3.005160\n",
       "997 -0.281990  False  0.990103          0.555218  1.801095\n",
       "998  1.551439  False -0.407108          0.371694  2.690383\n",
       "999  1.301599  False -1.278725          0.395752  2.526838\n",
       "\n",
       "[1000 rows x 5 columns]"
      ]
     },
     "execution_count": 6,
     "metadata": {},
     "output_type": "execute_result"
    }
   ],
   "source": [
    "cdf_0"
   ]
  },
  {
   "cell_type": "code",
   "execution_count": 7,
   "metadata": {
    "execution": {
     "iopub.execute_input": "2023-08-28T17:37:27.536911Z",
     "iopub.status.busy": "2023-08-28T17:37:27.536588Z",
     "iopub.status.idle": "2023-08-28T17:37:27.551174Z",
     "shell.execute_reply": "2023-08-28T17:37:27.550290Z"
    }
   },
   "outputs": [
    {
     "data": {
      "text/html": [
       "<div>\n",
       "<style scoped>\n",
       "    .dataframe tbody tr th:only-of-type {\n",
       "        vertical-align: middle;\n",
       "    }\n",
       "\n",
       "    .dataframe tbody tr th {\n",
       "        vertical-align: top;\n",
       "    }\n",
       "\n",
       "    .dataframe thead th {\n",
       "        text-align: right;\n",
       "    }\n",
       "</style>\n",
       "<table border=\"1\" class=\"dataframe\">\n",
       "  <thead>\n",
       "    <tr style=\"text-align: right;\">\n",
       "      <th></th>\n",
       "      <th>W0</th>\n",
       "      <th>v0</th>\n",
       "      <th>y</th>\n",
       "      <th>propensity_score</th>\n",
       "      <th>weight</th>\n",
       "    </tr>\n",
       "  </thead>\n",
       "  <tbody>\n",
       "    <tr>\n",
       "      <th>0</th>\n",
       "      <td>0.215929</td>\n",
       "      <td>True</td>\n",
       "      <td>5.339953</td>\n",
       "      <td>0.495255</td>\n",
       "      <td>2.019162</td>\n",
       "    </tr>\n",
       "    <tr>\n",
       "      <th>1</th>\n",
       "      <td>-1.177584</td>\n",
       "      <td>True</td>\n",
       "      <td>4.262125</td>\n",
       "      <td>0.357429</td>\n",
       "      <td>2.797757</td>\n",
       "    </tr>\n",
       "    <tr>\n",
       "      <th>2</th>\n",
       "      <td>0.107308</td>\n",
       "      <td>True</td>\n",
       "      <td>6.773166</td>\n",
       "      <td>0.484200</td>\n",
       "      <td>2.065261</td>\n",
       "    </tr>\n",
       "    <tr>\n",
       "      <th>3</th>\n",
       "      <td>-0.449053</td>\n",
       "      <td>True</td>\n",
       "      <td>6.585092</td>\n",
       "      <td>0.428048</td>\n",
       "      <td>2.336185</td>\n",
       "    </tr>\n",
       "    <tr>\n",
       "      <th>4</th>\n",
       "      <td>1.286003</td>\n",
       "      <td>True</td>\n",
       "      <td>4.774673</td>\n",
       "      <td>0.602728</td>\n",
       "      <td>1.659122</td>\n",
       "    </tr>\n",
       "    <tr>\n",
       "      <th>...</th>\n",
       "      <td>...</td>\n",
       "      <td>...</td>\n",
       "      <td>...</td>\n",
       "      <td>...</td>\n",
       "      <td>...</td>\n",
       "    </tr>\n",
       "    <tr>\n",
       "      <th>995</th>\n",
       "      <td>-1.244567</td>\n",
       "      <td>True</td>\n",
       "      <td>4.452741</td>\n",
       "      <td>0.351188</td>\n",
       "      <td>2.847477</td>\n",
       "    </tr>\n",
       "    <tr>\n",
       "      <th>996</th>\n",
       "      <td>-0.240227</td>\n",
       "      <td>True</td>\n",
       "      <td>5.856103</td>\n",
       "      <td>0.448987</td>\n",
       "      <td>2.227238</td>\n",
       "    </tr>\n",
       "    <tr>\n",
       "      <th>997</th>\n",
       "      <td>0.904767</td>\n",
       "      <td>True</td>\n",
       "      <td>5.602376</td>\n",
       "      <td>0.565023</td>\n",
       "      <td>1.769838</td>\n",
       "    </tr>\n",
       "    <tr>\n",
       "      <th>998</th>\n",
       "      <td>1.921682</td>\n",
       "      <td>True</td>\n",
       "      <td>5.446263</td>\n",
       "      <td>0.662790</td>\n",
       "      <td>1.508775</td>\n",
       "    </tr>\n",
       "    <tr>\n",
       "      <th>999</th>\n",
       "      <td>2.009813</td>\n",
       "      <td>True</td>\n",
       "      <td>5.615836</td>\n",
       "      <td>0.670765</td>\n",
       "      <td>1.490836</td>\n",
       "    </tr>\n",
       "  </tbody>\n",
       "</table>\n",
       "<p>1000 rows × 5 columns</p>\n",
       "</div>"
      ],
      "text/plain": [
       "           W0    v0         y  propensity_score    weight\n",
       "0    0.215929  True  5.339953          0.495255  2.019162\n",
       "1   -1.177584  True  4.262125          0.357429  2.797757\n",
       "2    0.107308  True  6.773166          0.484200  2.065261\n",
       "3   -0.449053  True  6.585092          0.428048  2.336185\n",
       "4    1.286003  True  4.774673          0.602728  1.659122\n",
       "..        ...   ...       ...               ...       ...\n",
       "995 -1.244567  True  4.452741          0.351188  2.847477\n",
       "996 -0.240227  True  5.856103          0.448987  2.227238\n",
       "997  0.904767  True  5.602376          0.565023  1.769838\n",
       "998  1.921682  True  5.446263          0.662790  1.508775\n",
       "999  2.009813  True  5.615836          0.670765  1.490836\n",
       "\n",
       "[1000 rows x 5 columns]"
      ]
     },
     "execution_count": 7,
     "metadata": {},
     "output_type": "execute_result"
    }
   ],
   "source": [
    "cdf_1"
   ]
  },
  {
   "cell_type": "markdown",
   "metadata": {},
   "source": [
    "## Comparing the estimate to Linear Regression\n",
    "First, estimating the effect using the causal data frame, and the 95% confidence interval."
   ]
  },
  {
   "cell_type": "code",
   "execution_count": 8,
   "metadata": {
    "execution": {
     "iopub.execute_input": "2023-08-28T17:37:27.555311Z",
     "iopub.status.busy": "2023-08-28T17:37:27.554427Z",
     "iopub.status.idle": "2023-08-28T17:37:27.632169Z",
     "shell.execute_reply": "2023-08-28T17:37:27.631107Z"
    }
   },
   "outputs": [
    {
     "data": {
      "image/png": "[encoded data removed]",
      "text/latex": [
       "$\\displaystyle 5.15232200398665$"
      ],
      "text/plain": [
       "5.152322003986652"
      ]
     },
     "execution_count": 8,
     "metadata": {},
     "output_type": "execute_result"
    }
   ],
   "source": [
    "(cdf_1['y'] - cdf_0['y']).mean()"
   ]
  },
  {
   "cell_type": "code",
   "execution_count": 9,
   "metadata": {
    "execution": {
     "iopub.execute_input": "2023-08-28T17:37:27.637467Z",
     "iopub.status.busy": "2023-08-28T17:37:27.637163Z",
     "iopub.status.idle": "2023-08-28T17:37:27.666698Z",
     "shell.execute_reply": "2023-08-28T17:37:27.665679Z"
    }
   },
   "outputs": [
    {
     "data": {
      "image/png": "[encoded data removed]",
      "text/latex": [
       "$\\displaystyle 0.0899158478164788$"
      ],
      "text/plain": [
       "0.08991584781647885"
      ]
     },
     "execution_count": 9,
     "metadata": {},
     "output_type": "execute_result"
    }
   ],
   "source": [
    "1.96*(cdf_1['y'] - cdf_0['y']).std() / np.sqrt(len(df))"
   ]
  },
  {
   "cell_type": "markdown",
   "metadata": {},
   "source": [
    "Comparing to the estimate from OLS."
   ]
  },
  {
   "cell_type": "code",
   "execution_count": 10,
   "metadata": {
    "execution": {
     "iopub.execute_input": "2023-08-28T17:37:27.670938Z",
     "iopub.status.busy": "2023-08-28T17:37:27.670572Z",
     "iopub.status.idle": "2023-08-28T17:37:27.698476Z",
     "shell.execute_reply": "2023-08-28T17:37:27.697565Z"
    }
   },
   "outputs": [
    {
     "data": {
      "text/html": [
       "<table class=\"simpletable\">\n",
       "<caption>OLS Regression Results</caption>\n",
       "<tr>\n",
       "  <th>Dep. Variable:</th>            <td>y</td>        <th>  R-squared (uncentered):</th>      <td>   0.937</td>\n",
       "</tr>\n",
       "<tr>\n",
       "  <th>Model:</th>                   <td>OLS</td>       <th>  Adj. R-squared (uncentered):</th> <td>   0.937</td>\n",
       "</tr>\n",
       "<tr>\n",
       "  <th>Method:</th>             <td>Least Squares</td>  <th>  F-statistic:       </th>          <td>   7453.</td>\n",
       "</tr>\n",
       "<tr>\n",
       "  <th>Date:</th>             <td>Mon, 28 Aug 2023</td> <th>  Prob (F-statistic):</th>           <td>  0.00</td> \n",
       "</tr>\n",
       "<tr>\n",
       "  <th>Time:</th>                 <td>17:37:27</td>     <th>  Log-Likelihood:    </th>          <td> -1425.6</td>\n",
       "</tr>\n",
       "<tr>\n",
       "  <th>No. Observations:</th>      <td>  1000</td>      <th>  AIC:               </th>          <td>   2855.</td>\n",
       "</tr>\n",
       "<tr>\n",
       "  <th>Df Residuals:</th>          <td>   998</td>      <th>  BIC:               </th>          <td>   2865.</td>\n",
       "</tr>\n",
       "<tr>\n",
       "  <th>Df Model:</th>              <td>     2</td>      <th>                     </th>              <td> </td>   \n",
       "</tr>\n",
       "<tr>\n",
       "  <th>Covariance Type:</th>      <td>nonrobust</td>    <th>                     </th>              <td> </td>   \n",
       "</tr>\n",
       "</table>\n",
       "<table class=\"simpletable\">\n",
       "<tr>\n",
       "   <td></td>     <th>coef</th>     <th>std err</th>      <th>t</th>      <th>P>|t|</th>  <th>[0.025</th>    <th>0.975]</th>  \n",
       "</tr>\n",
       "<tr>\n",
       "  <th>x1</th> <td>    0.2325</td> <td>    0.031</td> <td>    7.592</td> <td> 0.000</td> <td>    0.172</td> <td>    0.293</td>\n",
       "</tr>\n",
       "<tr>\n",
       "  <th>x2</th> <td>    5.0770</td> <td>    0.051</td> <td>   99.884</td> <td> 0.000</td> <td>    4.977</td> <td>    5.177</td>\n",
       "</tr>\n",
       "</table>\n",
       "<table class=\"simpletable\">\n",
       "<tr>\n",
       "  <th>Omnibus:</th>       <td> 0.080</td> <th>  Durbin-Watson:     </th> <td>   1.987</td>\n",
       "</tr>\n",
       "<tr>\n",
       "  <th>Prob(Omnibus):</th> <td> 0.961</td> <th>  Jarque-Bera (JB):  </th> <td>   0.113</td>\n",
       "</tr>\n",
       "<tr>\n",
       "  <th>Skew:</th>          <td>-0.020</td> <th>  Prob(JB):          </th> <td>   0.945</td>\n",
       "</tr>\n",
       "<tr>\n",
       "  <th>Kurtosis:</th>      <td> 2.967</td> <th>  Cond. No.          </th> <td>    2.20</td>\n",
       "</tr>\n",
       "</table><br/><br/>Notes:<br/>[1] R² is computed without centering (uncentered) since the model does not contain a constant.<br/>[2] Standard Errors assume that the covariance matrix of the errors is correctly specified."
      ],
      "text/latex": [
       "\\begin{center}\n",
       "\\begin{tabular}{lclc}\n",
       "\\toprule\n",
       "\\textbf{Dep. Variable:}    &        y         & \\textbf{  R-squared (uncentered):}      &     0.937   \\\\\n",
       "\\textbf{Model:}            &       OLS        & \\textbf{  Adj. R-squared (uncentered):} &     0.937   \\\\\n",
       "\\textbf{Method:}           &  Least Squares   & \\textbf{  F-statistic:       }          &     7453.   \\\\\n",
       "\\textbf{Date:}             & Mon, 28 Aug 2023 & \\textbf{  Prob (F-statistic):}          &     0.00    \\\\\n",
       "\\textbf{Time:}             &     17:37:27     & \\textbf{  Log-Likelihood:    }          &   -1425.6   \\\\\n",
       "\\textbf{No. Observations:} &        1000      & \\textbf{  AIC:               }          &     2855.   \\\\\n",
       "\\textbf{Df Residuals:}     &         998      & \\textbf{  BIC:               }          &     2865.   \\\\\n",
       "\\textbf{Df Model:}         &           2      & \\textbf{                     }          &             \\\\\n",
       "\\textbf{Covariance Type:}  &    nonrobust     & \\textbf{                     }          &             \\\\\n",
       "\\bottomrule\n",
       "\\end{tabular}\n",
       "\\begin{tabular}{lcccccc}\n",
       "            & \\textbf{coef} & \\textbf{std err} & \\textbf{t} & \\textbf{P$> |$t$|$} & \\textbf{[0.025} & \\textbf{0.975]}  \\\\\n",
       "\\midrule\n",
       "\\textbf{x1} &       0.2325  &        0.031     &     7.592  &         0.000        &        0.172    &        0.293     \\\\\n",
       "\\textbf{x2} &       5.0770  &        0.051     &    99.884  &         0.000        &        4.977    &        5.177     \\\\\n",
       "\\bottomrule\n",
       "\\end{tabular}\n",
       "\\begin{tabular}{lclc}\n",
       "\\textbf{Omnibus:}       &  0.080 & \\textbf{  Durbin-Watson:     } &    1.987  \\\\\n",
       "\\textbf{Prob(Omnibus):} &  0.961 & \\textbf{  Jarque-Bera (JB):  } &    0.113  \\\\\n",
       "\\textbf{Skew:}          & -0.020 & \\textbf{  Prob(JB):          } &    0.945  \\\\\n",
       "\\textbf{Kurtosis:}      &  2.967 & \\textbf{  Cond. No.          } &     2.20  \\\\\n",
       "\\bottomrule\n",
       "\\end{tabular}\n",
       "%\\caption{OLS Regression Results}\n",
       "\\end{center}\n",
       "\n",
       "Notes: \\newline\n",
       " [1] R² is computed without centering (uncentered) since the model does not contain a constant. \\newline\n",
       " [2] Standard Errors assume that the covariance matrix of the errors is correctly specified."
      ],
      "text/plain": [
       "<class 'statsmodels.iolib.summary.Summary'>\n",
       "\"\"\"\n",
       "                                 OLS Regression Results                                \n",
       "=======================================================================================\n",
       "Dep. Variable:                      y   R-squared (uncentered):                   0.937\n",
       "Model:                            OLS   Adj. R-squared (uncentered):              0.937\n",
       "Method:                 Least Squares   F-statistic:                              7453.\n",
       "Date:                Mon, 28 Aug 2023   Prob (F-statistic):                        0.00\n",
       "Time:                        17:37:27   Log-Likelihood:                         -1425.6\n",
       "No. Observations:                1000   AIC:                                      2855.\n",
       "Df Residuals:                     998   BIC:                                      2865.\n",
       "Df Model:                           2                                                  \n",
       "Covariance Type:            nonrobust                                                  \n",
       "==============================================================================\n",
       "                 coef    std err          t      P>|t|      [0.025      0.975]\n",
       "------------------------------------------------------------------------------\n",
       "x1             0.2325      0.031      7.592      0.000       0.172       0.293\n",
       "x2             5.0770      0.051     99.884      0.000       4.977       5.177\n",
       "==============================================================================\n",
       "Omnibus:                        0.080   Durbin-Watson:                   1.987\n",
       "Prob(Omnibus):                  0.961   Jarque-Bera (JB):                0.113\n",
       "Skew:                          -0.020   Prob(JB):                        0.945\n",
       "Kurtosis:                       2.967   Cond. No.                         2.20\n",
       "==============================================================================\n",
       "\n",
       "Notes:\n",
       "[1] R² is computed without centering (uncentered) since the model does not contain a constant.\n",
       "[2] Standard Errors assume that the covariance matrix of the errors is correctly specified.\n",
       "\"\"\""
      ]
     },
     "execution_count": 10,
     "metadata": {},
     "output_type": "execute_result"
    }
   ],
   "source": [
    "model = OLS(np.asarray(df[outcome]), np.asarray(df[[common_cause, treatment]], dtype=np.float64))\n",
    "result = model.fit()\n",
    "result.summary()"
   ]
  }
 ],
 "metadata": {
  "kernelspec": {
   "display_name": "Python 3",
   "language": "python",
   "name": "python3"
  },
  "language_info": {
   "codemirror_mode": {
    "name": "ipython",
    "version": 3
   },
   "file_extension": ".py",
   "mimetype": "text/x-python",
   "name": "python",
   "nbconvert_exporter": "python",
   "pygments_lexer": "ipython3",
   "version": "3.8.10"
  },
  "toc": {
   "base_numbering": 1,
   "nav_menu": {},
   "number_sections": false,
   "sideBar": true,
   "skip_h1_title": true,
   "title_cell": "Table of Contents",
   "title_sidebar": "Contents",
   "toc_cell": false,
   "toc_position": {},
   "toc_section_display": true,
   "toc_window_display": false
  }
 },
 "nbformat": 4,
 "nbformat_minor": 4
}
