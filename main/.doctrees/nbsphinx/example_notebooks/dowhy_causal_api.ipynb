{
 "cells": [
  {
   "cell_type": "markdown",
   "metadata": {},
   "source": [
    "# Demo for the DoWhy causal API\n",
    "We show a simple example of adding a causal extension to any dataframe. "
   ]
  },
  {
   "cell_type": "code",
   "execution_count": 1,
   "metadata": {
    "execution": {
     "iopub.execute_input": "2024-06-04T10:35:41.922540Z",
     "iopub.status.busy": "2024-06-04T10:35:41.922356Z",
     "iopub.status.idle": "2024-06-04T10:35:43.335282Z",
     "shell.execute_reply": "2024-06-04T10:35:43.334607Z"
    }
   },
   "outputs": [],
   "source": [
    "import dowhy.datasets\n",
    "import dowhy.api\n",
    "from dowhy.graph import build_graph_from_str\n",
    "\n",
    "import numpy as np\n",
    "import pandas as pd\n",
    "\n",
    "from statsmodels.api import OLS"
   ]
  },
  {
   "cell_type": "code",
   "execution_count": 2,
   "metadata": {
    "execution": {
     "iopub.execute_input": "2024-06-04T10:35:43.338239Z",
     "iopub.status.busy": "2024-06-04T10:35:43.337829Z",
     "iopub.status.idle": "2024-06-04T10:35:43.377632Z",
     "shell.execute_reply": "2024-06-04T10:35:43.377026Z"
    }
   },
   "outputs": [
    {
     "data": {
      "text/html": [
       "<div>\n",
       "<style scoped>\n",
       "    .dataframe tbody tr th:only-of-type {\n",
       "        vertical-align: middle;\n",
       "    }\n",
       "\n",
       "    .dataframe tbody tr th {\n",
       "        vertical-align: top;\n",
       "    }\n",
       "\n",
       "    .dataframe thead th {\n",
       "        text-align: right;\n",
       "    }\n",
       "</style>\n",
       "<table border=\"1\" class=\"dataframe\">\n",
       "  <thead>\n",
       "    <tr style=\"text-align: right;\">\n",
       "      <th></th>\n",
       "      <th>W0</th>\n",
       "      <th>v0</th>\n",
       "      <th>y</th>\n",
       "    </tr>\n",
       "  </thead>\n",
       "  <tbody>\n",
       "    <tr>\n",
       "      <th>0</th>\n",
       "      <td>0.955959</td>\n",
       "      <td>False</td>\n",
       "      <td>1.230667</td>\n",
       "    </tr>\n",
       "    <tr>\n",
       "      <th>1</th>\n",
       "      <td>-1.707940</td>\n",
       "      <td>False</td>\n",
       "      <td>-2.627161</td>\n",
       "    </tr>\n",
       "    <tr>\n",
       "      <th>2</th>\n",
       "      <td>-1.533944</td>\n",
       "      <td>True</td>\n",
       "      <td>3.067586</td>\n",
       "    </tr>\n",
       "    <tr>\n",
       "      <th>3</th>\n",
       "      <td>-1.322582</td>\n",
       "      <td>False</td>\n",
       "      <td>-1.706979</td>\n",
       "    </tr>\n",
       "    <tr>\n",
       "      <th>4</th>\n",
       "      <td>-0.115925</td>\n",
       "      <td>False</td>\n",
       "      <td>0.557762</td>\n",
       "    </tr>\n",
       "    <tr>\n",
       "      <th>...</th>\n",
       "      <td>...</td>\n",
       "      <td>...</td>\n",
       "      <td>...</td>\n",
       "    </tr>\n",
       "    <tr>\n",
       "      <th>995</th>\n",
       "      <td>-1.738763</td>\n",
       "      <td>False</td>\n",
       "      <td>-2.171811</td>\n",
       "    </tr>\n",
       "    <tr>\n",
       "      <th>996</th>\n",
       "      <td>-0.821941</td>\n",
       "      <td>False</td>\n",
       "      <td>-2.156518</td>\n",
       "    </tr>\n",
       "    <tr>\n",
       "      <th>997</th>\n",
       "      <td>-0.370806</td>\n",
       "      <td>True</td>\n",
       "      <td>6.422136</td>\n",
       "    </tr>\n",
       "    <tr>\n",
       "      <th>998</th>\n",
       "      <td>-2.349745</td>\n",
       "      <td>False</td>\n",
       "      <td>-4.158016</td>\n",
       "    </tr>\n",
       "    <tr>\n",
       "      <th>999</th>\n",
       "      <td>-0.579384</td>\n",
       "      <td>True</td>\n",
       "      <td>4.362286</td>\n",
       "    </tr>\n",
       "  </tbody>\n",
       "</table>\n",
       "<p>1000 rows × 3 columns</p>\n",
       "</div>"
      ],
      "text/plain": [
       "           W0     v0         y\n",
       "0    0.955959  False  1.230667\n",
       "1   -1.707940  False -2.627161\n",
       "2   -1.533944   True  3.067586\n",
       "3   -1.322582  False -1.706979\n",
       "4   -0.115925  False  0.557762\n",
       "..        ...    ...       ...\n",
       "995 -1.738763  False -2.171811\n",
       "996 -0.821941  False -2.156518\n",
       "997 -0.370806   True  6.422136\n",
       "998 -2.349745  False -4.158016\n",
       "999 -0.579384   True  4.362286\n",
       "\n",
       "[1000 rows x 3 columns]"
      ]
     },
     "execution_count": 2,
     "metadata": {},
     "output_type": "execute_result"
    }
   ],
   "source": [
    "data = dowhy.datasets.linear_dataset(beta=5,\n",
    "        num_common_causes=1,\n",
    "        num_instruments = 0,\n",
    "        num_samples=1000,\n",
    "        treatment_is_binary=True)\n",
    "df = data['df']\n",
    "df['y'] = df['y'] + np.random.normal(size=len(df)) # Adding noise to data. Without noise, the variance in Y|X, Z is zero, and mcmc fails.\n",
    "nx_graph = build_graph_from_str(data[\"dot_graph\"])\n",
    "\n",
    "treatment= data[\"treatment_name\"][0]\n",
    "outcome = data[\"outcome_name\"][0]\n",
    "common_cause = data[\"common_causes_names\"][0]\n",
    "df"
   ]
  },
  {
   "cell_type": "code",
   "execution_count": 3,
   "metadata": {
    "execution": {
     "iopub.execute_input": "2024-06-04T10:35:43.380110Z",
     "iopub.status.busy": "2024-06-04T10:35:43.379771Z",
     "iopub.status.idle": "2024-06-04T10:35:43.557387Z",
     "shell.execute_reply": "2024-06-04T10:35:43.556764Z"
    },
    "scrolled": true
   },
   "outputs": [
    {
     "data": {
      "text/plain": [
       "<Axes: xlabel='v0'>"
      ]
     },
     "execution_count": 3,
     "metadata": {},
     "output_type": "execute_result"
    },
    {
     "data": {
      "image/png": "[encoded data removed]",
      "text/plain": [
       "<Figure size 640x480 with 1 Axes>"
      ]
     },
     "metadata": {},
     "output_type": "display_data"
    }
   ],
   "source": [
    "# data['df'] is just a regular pandas.DataFrame\n",
    "df.causal.do(x=treatment,\n",
    "             variable_types={treatment: 'b', outcome: 'c', common_cause: 'c'},\n",
    "             outcome=outcome,\n",
    "             common_causes=[common_cause],\n",
    "            ).groupby(treatment).mean().plot(y=outcome, kind='bar')"
   ]
  },
  {
   "cell_type": "code",
   "execution_count": 4,
   "metadata": {
    "execution": {
     "iopub.execute_input": "2024-06-04T10:35:43.559977Z",
     "iopub.status.busy": "2024-06-04T10:35:43.559450Z",
     "iopub.status.idle": "2024-06-04T10:35:43.701407Z",
     "shell.execute_reply": "2024-06-04T10:35:43.700812Z"
    }
   },
   "outputs": [
    {
     "data": {
      "text/plain": [
       "<Axes: xlabel='v0'>"
      ]
     },
     "execution_count": 4,
     "metadata": {},
     "output_type": "execute_result"
    },
    {
     "data": {
      "image/png": "[encoded data removed]",
      "text/plain": [
       "<Figure size 640x480 with 1 Axes>"
      ]
     },
     "metadata": {},
     "output_type": "display_data"
    }
   ],
   "source": [
    "df.causal.do(x={treatment: 1}, \n",
    "              variable_types={treatment:'b', outcome: 'c', common_cause: 'c'}, \n",
    "              outcome=outcome,\n",
    "              method='weighting', \n",
    "              common_causes=[common_cause]\n",
    "              ).groupby(treatment).mean().plot(y=outcome, kind='bar')"
   ]
  },
  {
   "cell_type": "code",
   "execution_count": 5,
   "metadata": {
    "execution": {
     "iopub.execute_input": "2024-06-04T10:35:43.703717Z",
     "iopub.status.busy": "2024-06-04T10:35:43.703523Z",
     "iopub.status.idle": "2024-06-04T10:35:43.723750Z",
     "shell.execute_reply": "2024-06-04T10:35:43.723280Z"
    }
   },
   "outputs": [],
   "source": [
    "cdf_1 = df.causal.do(x={treatment: 1}, \n",
    "              variable_types={treatment: 'b', outcome: 'c', common_cause: 'c'}, \n",
    "              outcome=outcome, \n",
    "              graph=nx_graph\n",
    "              )\n",
    "\n",
    "cdf_0 = df.causal.do(x={treatment: 0}, \n",
    "              variable_types={treatment: 'b', outcome: 'c', common_cause: 'c'}, \n",
    "              outcome=outcome, \n",
    "              graph=nx_graph\n",
    "              )\n"
   ]
  },
  {
   "cell_type": "code",
   "execution_count": 6,
   "metadata": {
    "execution": {
     "iopub.execute_input": "2024-06-04T10:35:43.726037Z",
     "iopub.status.busy": "2024-06-04T10:35:43.725689Z",
     "iopub.status.idle": "2024-06-04T10:35:43.734493Z",
     "shell.execute_reply": "2024-06-04T10:35:43.733877Z"
    },
    "scrolled": true
   },
   "outputs": [
    {
     "data": {
      "text/html": [
       "<div>\n",
       "<style scoped>\n",
       "    .dataframe tbody tr th:only-of-type {\n",
       "        vertical-align: middle;\n",
       "    }\n",
       "\n",
       "    .dataframe tbody tr th {\n",
       "        vertical-align: top;\n",
       "    }\n",
       "\n",
       "    .dataframe thead th {\n",
       "        text-align: right;\n",
       "    }\n",
       "</style>\n",
       "<table border=\"1\" class=\"dataframe\">\n",
       "  <thead>\n",
       "    <tr style=\"text-align: right;\">\n",
       "      <th></th>\n",
       "      <th>W0</th>\n",
       "      <th>v0</th>\n",
       "      <th>y</th>\n",
       "      <th>propensity_score</th>\n",
       "      <th>weight</th>\n",
       "    </tr>\n",
       "  </thead>\n",
       "  <tbody>\n",
       "    <tr>\n",
       "      <th>0</th>\n",
       "      <td>-0.960354</td>\n",
       "      <td>False</td>\n",
       "      <td>-0.976524</td>\n",
       "      <td>0.569032</td>\n",
       "      <td>1.757370</td>\n",
       "    </tr>\n",
       "    <tr>\n",
       "      <th>1</th>\n",
       "      <td>-1.454702</td>\n",
       "      <td>False</td>\n",
       "      <td>-0.935130</td>\n",
       "      <td>0.594459</td>\n",
       "      <td>1.682201</td>\n",
       "    </tr>\n",
       "    <tr>\n",
       "      <th>2</th>\n",
       "      <td>-1.018716</td>\n",
       "      <td>False</td>\n",
       "      <td>-2.338603</td>\n",
       "      <td>0.572056</td>\n",
       "      <td>1.748082</td>\n",
       "    </tr>\n",
       "    <tr>\n",
       "      <th>3</th>\n",
       "      <td>-0.933890</td>\n",
       "      <td>False</td>\n",
       "      <td>-1.296933</td>\n",
       "      <td>0.567659</td>\n",
       "      <td>1.761620</td>\n",
       "    </tr>\n",
       "    <tr>\n",
       "      <th>4</th>\n",
       "      <td>-0.514971</td>\n",
       "      <td>False</td>\n",
       "      <td>-0.546583</td>\n",
       "      <td>0.545803</td>\n",
       "      <td>1.832162</td>\n",
       "    </tr>\n",
       "    <tr>\n",
       "      <th>...</th>\n",
       "      <td>...</td>\n",
       "      <td>...</td>\n",
       "      <td>...</td>\n",
       "      <td>...</td>\n",
       "      <td>...</td>\n",
       "    </tr>\n",
       "    <tr>\n",
       "      <th>995</th>\n",
       "      <td>-1.120094</td>\n",
       "      <td>False</td>\n",
       "      <td>-2.016560</td>\n",
       "      <td>0.577295</td>\n",
       "      <td>1.732216</td>\n",
       "    </tr>\n",
       "    <tr>\n",
       "      <th>996</th>\n",
       "      <td>-0.055038</td>\n",
       "      <td>False</td>\n",
       "      <td>1.727056</td>\n",
       "      <td>0.521606</td>\n",
       "      <td>1.917156</td>\n",
       "    </tr>\n",
       "    <tr>\n",
       "      <th>997</th>\n",
       "      <td>0.044139</td>\n",
       "      <td>False</td>\n",
       "      <td>-2.339918</td>\n",
       "      <td>0.516371</td>\n",
       "      <td>1.936592</td>\n",
       "    </tr>\n",
       "    <tr>\n",
       "      <th>998</th>\n",
       "      <td>-2.888502</td>\n",
       "      <td>False</td>\n",
       "      <td>-3.035424</td>\n",
       "      <td>0.664988</td>\n",
       "      <td>1.503788</td>\n",
       "    </tr>\n",
       "    <tr>\n",
       "      <th>999</th>\n",
       "      <td>-2.526019</td>\n",
       "      <td>False</td>\n",
       "      <td>-5.199056</td>\n",
       "      <td>0.647702</td>\n",
       "      <td>1.543919</td>\n",
       "    </tr>\n",
       "  </tbody>\n",
       "</table>\n",
       "<p>1000 rows × 5 columns</p>\n",
       "</div>"
      ],
      "text/plain": [
       "           W0     v0         y  propensity_score    weight\n",
       "0   -0.960354  False -0.976524          0.569032  1.757370\n",
       "1   -1.454702  False -0.935130          0.594459  1.682201\n",
       "2   -1.018716  False -2.338603          0.572056  1.748082\n",
       "3   -0.933890  False -1.296933          0.567659  1.761620\n",
       "4   -0.514971  False -0.546583          0.545803  1.832162\n",
       "..        ...    ...       ...               ...       ...\n",
       "995 -1.120094  False -2.016560          0.577295  1.732216\n",
       "996 -0.055038  False  1.727056          0.521606  1.917156\n",
       "997  0.044139  False -2.339918          0.516371  1.936592\n",
       "998 -2.888502  False -3.035424          0.664988  1.503788\n",
       "999 -2.526019  False -5.199056          0.647702  1.543919\n",
       "\n",
       "[1000 rows x 5 columns]"
      ]
     },
     "execution_count": 6,
     "metadata": {},
     "output_type": "execute_result"
    }
   ],
   "source": [
    "cdf_0"
   ]
  },
  {
   "cell_type": "code",
   "execution_count": 7,
   "metadata": {
    "execution": {
     "iopub.execute_input": "2024-06-04T10:35:43.736775Z",
     "iopub.status.busy": "2024-06-04T10:35:43.736425Z",
     "iopub.status.idle": "2024-06-04T10:35:43.744848Z",
     "shell.execute_reply": "2024-06-04T10:35:43.744319Z"
    }
   },
   "outputs": [
    {
     "data": {
      "text/html": [
       "<div>\n",
       "<style scoped>\n",
       "    .dataframe tbody tr th:only-of-type {\n",
       "        vertical-align: middle;\n",
       "    }\n",
       "\n",
       "    .dataframe tbody tr th {\n",
       "        vertical-align: top;\n",
       "    }\n",
       "\n",
       "    .dataframe thead th {\n",
       "        text-align: right;\n",
       "    }\n",
       "</style>\n",
       "<table border=\"1\" class=\"dataframe\">\n",
       "  <thead>\n",
       "    <tr style=\"text-align: right;\">\n",
       "      <th></th>\n",
       "      <th>W0</th>\n",
       "      <th>v0</th>\n",
       "      <th>y</th>\n",
       "      <th>propensity_score</th>\n",
       "      <th>weight</th>\n",
       "    </tr>\n",
       "  </thead>\n",
       "  <tbody>\n",
       "    <tr>\n",
       "      <th>0</th>\n",
       "      <td>0.411047</td>\n",
       "      <td>True</td>\n",
       "      <td>5.764423</td>\n",
       "      <td>0.503018</td>\n",
       "      <td>1.987999</td>\n",
       "    </tr>\n",
       "    <tr>\n",
       "      <th>1</th>\n",
       "      <td>0.778944</td>\n",
       "      <td>True</td>\n",
       "      <td>4.565741</td>\n",
       "      <td>0.522451</td>\n",
       "      <td>1.914056</td>\n",
       "    </tr>\n",
       "    <tr>\n",
       "      <th>2</th>\n",
       "      <td>0.305987</td>\n",
       "      <td>True</td>\n",
       "      <td>5.508695</td>\n",
       "      <td>0.497465</td>\n",
       "      <td>2.010193</td>\n",
       "    </tr>\n",
       "    <tr>\n",
       "      <th>3</th>\n",
       "      <td>0.312185</td>\n",
       "      <td>True</td>\n",
       "      <td>4.112236</td>\n",
       "      <td>0.497792</td>\n",
       "      <td>2.008870</td>\n",
       "    </tr>\n",
       "    <tr>\n",
       "      <th>4</th>\n",
       "      <td>0.757428</td>\n",
       "      <td>True</td>\n",
       "      <td>7.357266</td>\n",
       "      <td>0.521316</td>\n",
       "      <td>1.918224</td>\n",
       "    </tr>\n",
       "    <tr>\n",
       "      <th>...</th>\n",
       "      <td>...</td>\n",
       "      <td>...</td>\n",
       "      <td>...</td>\n",
       "      <td>...</td>\n",
       "      <td>...</td>\n",
       "    </tr>\n",
       "    <tr>\n",
       "      <th>995</th>\n",
       "      <td>-0.516124</td>\n",
       "      <td>True</td>\n",
       "      <td>5.785508</td>\n",
       "      <td>0.454136</td>\n",
       "      <td>2.201983</td>\n",
       "    </tr>\n",
       "    <tr>\n",
       "      <th>996</th>\n",
       "      <td>-0.378027</td>\n",
       "      <td>True</td>\n",
       "      <td>5.924993</td>\n",
       "      <td>0.461384</td>\n",
       "      <td>2.167392</td>\n",
       "    </tr>\n",
       "    <tr>\n",
       "      <th>997</th>\n",
       "      <td>-1.699982</td>\n",
       "      <td>True</td>\n",
       "      <td>2.792857</td>\n",
       "      <td>0.393102</td>\n",
       "      <td>2.543872</td>\n",
       "    </tr>\n",
       "    <tr>\n",
       "      <th>998</th>\n",
       "      <td>-2.092536</td>\n",
       "      <td>True</td>\n",
       "      <td>2.441121</td>\n",
       "      <td>0.373484</td>\n",
       "      <td>2.677488</td>\n",
       "    </tr>\n",
       "    <tr>\n",
       "      <th>999</th>\n",
       "      <td>-0.951301</td>\n",
       "      <td>True</td>\n",
       "      <td>3.448224</td>\n",
       "      <td>0.431437</td>\n",
       "      <td>2.317833</td>\n",
       "    </tr>\n",
       "  </tbody>\n",
       "</table>\n",
       "<p>1000 rows × 5 columns</p>\n",
       "</div>"
      ],
      "text/plain": [
       "           W0    v0         y  propensity_score    weight\n",
       "0    0.411047  True  5.764423          0.503018  1.987999\n",
       "1    0.778944  True  4.565741          0.522451  1.914056\n",
       "2    0.305987  True  5.508695          0.497465  2.010193\n",
       "3    0.312185  True  4.112236          0.497792  2.008870\n",
       "4    0.757428  True  7.357266          0.521316  1.918224\n",
       "..        ...   ...       ...               ...       ...\n",
       "995 -0.516124  True  5.785508          0.454136  2.201983\n",
       "996 -0.378027  True  5.924993          0.461384  2.167392\n",
       "997 -1.699982  True  2.792857          0.393102  2.543872\n",
       "998 -2.092536  True  2.441121          0.373484  2.677488\n",
       "999 -0.951301  True  3.448224          0.431437  2.317833\n",
       "\n",
       "[1000 rows x 5 columns]"
      ]
     },
     "execution_count": 7,
     "metadata": {},
     "output_type": "execute_result"
    }
   ],
   "source": [
    "cdf_1"
   ]
  },
  {
   "cell_type": "markdown",
   "metadata": {},
   "source": [
    "## Comparing the estimate to Linear Regression\n",
    "First, estimating the effect using the causal data frame, and the 95% confidence interval."
   ]
  },
  {
   "cell_type": "code",
   "execution_count": 8,
   "metadata": {
    "execution": {
     "iopub.execute_input": "2024-06-04T10:35:43.747132Z",
     "iopub.status.busy": "2024-06-04T10:35:43.746783Z",
     "iopub.status.idle": "2024-06-04T10:35:43.792896Z",
     "shell.execute_reply": "2024-06-04T10:35:43.792325Z"
    }
   },
   "outputs": [
    {
     "data": {
      "image/png": "[encoded data removed]",
      "text/latex": [
       "$\\displaystyle 5.02435063594786$"
      ],
      "text/plain": [
       "5.024350635947863"
      ]
     },
     "execution_count": 8,
     "metadata": {},
     "output_type": "execute_result"
    }
   ],
   "source": [
    "(cdf_1['y'] - cdf_0['y']).mean()"
   ]
  },
  {
   "cell_type": "code",
   "execution_count": 9,
   "metadata": {
    "execution": {
     "iopub.execute_input": "2024-06-04T10:35:43.795064Z",
     "iopub.status.busy": "2024-06-04T10:35:43.794876Z",
     "iopub.status.idle": "2024-06-04T10:35:43.810519Z",
     "shell.execute_reply": "2024-06-04T10:35:43.809924Z"
    }
   },
   "outputs": [
    {
     "data": {
      "image/png": "[encoded data removed]",
      "text/latex": [
       "$\\displaystyle 0.132170013557926$"
      ],
      "text/plain": [
       "0.1321700135579258"
      ]
     },
     "execution_count": 9,
     "metadata": {},
     "output_type": "execute_result"
    }
   ],
   "source": [
    "1.96*(cdf_1['y'] - cdf_0['y']).std() / np.sqrt(len(df))"
   ]
  },
  {
   "cell_type": "markdown",
   "metadata": {},
   "source": [
    "Comparing to the estimate from OLS."
   ]
  },
  {
   "cell_type": "code",
   "execution_count": 10,
   "metadata": {
    "execution": {
     "iopub.execute_input": "2024-06-04T10:35:43.812784Z",
     "iopub.status.busy": "2024-06-04T10:35:43.812452Z",
     "iopub.status.idle": "2024-06-04T10:35:43.828832Z",
     "shell.execute_reply": "2024-06-04T10:35:43.828235Z"
    }
   },
   "outputs": [
    {
     "data": {
      "text/html": [
       "<table class=\"simpletable\">\n",
       "<caption>OLS Regression Results</caption>\n",
       "<tr>\n",
       "  <th>Dep. Variable:</th>            <td>y</td>        <th>  R-squared (uncentered):</th>      <td>   0.912</td>\n",
       "</tr>\n",
       "<tr>\n",
       "  <th>Model:</th>                   <td>OLS</td>       <th>  Adj. R-squared (uncentered):</th> <td>   0.912</td>\n",
       "</tr>\n",
       "<tr>\n",
       "  <th>Method:</th>             <td>Least Squares</td>  <th>  F-statistic:       </th>          <td>   5152.</td>\n",
       "</tr>\n",
       "<tr>\n",
       "  <th>Date:</th>             <td>Tue, 04 Jun 2024</td> <th>  Prob (F-statistic):</th>           <td>  0.00</td> \n",
       "</tr>\n",
       "<tr>\n",
       "  <th>Time:</th>                 <td>10:35:43</td>     <th>  Log-Likelihood:    </th>          <td> -1406.1</td>\n",
       "</tr>\n",
       "<tr>\n",
       "  <th>No. Observations:</th>      <td>  1000</td>      <th>  AIC:               </th>          <td>   2816.</td>\n",
       "</tr>\n",
       "<tr>\n",
       "  <th>Df Residuals:</th>          <td>   998</td>      <th>  BIC:               </th>          <td>   2826.</td>\n",
       "</tr>\n",
       "<tr>\n",
       "  <th>Df Model:</th>              <td>     2</td>      <th>                     </th>              <td> </td>   \n",
       "</tr>\n",
       "<tr>\n",
       "  <th>Covariance Type:</th>      <td>nonrobust</td>    <th>                     </th>              <td> </td>   \n",
       "</tr>\n",
       "</table>\n",
       "<table class=\"simpletable\">\n",
       "<tr>\n",
       "   <td></td>     <th>coef</th>     <th>std err</th>      <th>t</th>      <th>P>|t|</th>  <th>[0.025</th>    <th>0.975]</th>  \n",
       "</tr>\n",
       "<tr>\n",
       "  <th>x1</th> <td>    1.1166</td> <td>    0.026</td> <td>   42.452</td> <td> 0.000</td> <td>    1.065</td> <td>    1.168</td>\n",
       "</tr>\n",
       "<tr>\n",
       "  <th>x2</th> <td>    5.0232</td> <td>    0.050</td> <td>  101.034</td> <td> 0.000</td> <td>    4.926</td> <td>    5.121</td>\n",
       "</tr>\n",
       "</table>\n",
       "<table class=\"simpletable\">\n",
       "<tr>\n",
       "  <th>Omnibus:</th>       <td> 0.666</td> <th>  Durbin-Watson:     </th> <td>   1.934</td>\n",
       "</tr>\n",
       "<tr>\n",
       "  <th>Prob(Omnibus):</th> <td> 0.717</td> <th>  Jarque-Bera (JB):  </th> <td>   0.610</td>\n",
       "</tr>\n",
       "<tr>\n",
       "  <th>Skew:</th>          <td> 0.059</td> <th>  Prob(JB):          </th> <td>   0.737</td>\n",
       "</tr>\n",
       "<tr>\n",
       "  <th>Kurtosis:</th>      <td> 3.024</td> <th>  Cond. No.          </th> <td>    2.08</td>\n",
       "</tr>\n",
       "</table><br/><br/>Notes:<br/>[1] R² is computed without centering (uncentered) since the model does not contain a constant.<br/>[2] Standard Errors assume that the covariance matrix of the errors is correctly specified."
      ],
      "text/latex": [
       "\\begin{center}\n",
       "\\begin{tabular}{lclc}\n",
       "\\toprule\n",
       "\\textbf{Dep. Variable:}    &        y         & \\textbf{  R-squared (uncentered):}      &     0.912   \\\\\n",
       "\\textbf{Model:}            &       OLS        & \\textbf{  Adj. R-squared (uncentered):} &     0.912   \\\\\n",
       "\\textbf{Method:}           &  Least Squares   & \\textbf{  F-statistic:       }          &     5152.   \\\\\n",
       "\\textbf{Date:}             & Tue, 04 Jun 2024 & \\textbf{  Prob (F-statistic):}          &     0.00    \\\\\n",
       "\\textbf{Time:}             &     10:35:43     & \\textbf{  Log-Likelihood:    }          &   -1406.1   \\\\\n",
       "\\textbf{No. Observations:} &        1000      & \\textbf{  AIC:               }          &     2816.   \\\\\n",
       "\\textbf{Df Residuals:}     &         998      & \\textbf{  BIC:               }          &     2826.   \\\\\n",
       "\\textbf{Df Model:}         &           2      & \\textbf{                     }          &             \\\\\n",
       "\\textbf{Covariance Type:}  &    nonrobust     & \\textbf{                     }          &             \\\\\n",
       "\\bottomrule\n",
       "\\end{tabular}\n",
       "\\begin{tabular}{lcccccc}\n",
       "            & \\textbf{coef} & \\textbf{std err} & \\textbf{t} & \\textbf{P$> |$t$|$} & \\textbf{[0.025} & \\textbf{0.975]}  \\\\\n",
       "\\midrule\n",
       "\\textbf{x1} &       1.1166  &        0.026     &    42.452  &         0.000        &        1.065    &        1.168     \\\\\n",
       "\\textbf{x2} &       5.0232  &        0.050     &   101.034  &         0.000        &        4.926    &        5.121     \\\\\n",
       "\\bottomrule\n",
       "\\end{tabular}\n",
       "\\begin{tabular}{lclc}\n",
       "\\textbf{Omnibus:}       &  0.666 & \\textbf{  Durbin-Watson:     } &    1.934  \\\\\n",
       "\\textbf{Prob(Omnibus):} &  0.717 & \\textbf{  Jarque-Bera (JB):  } &    0.610  \\\\\n",
       "\\textbf{Skew:}          &  0.059 & \\textbf{  Prob(JB):          } &    0.737  \\\\\n",
       "\\textbf{Kurtosis:}      &  3.024 & \\textbf{  Cond. No.          } &     2.08  \\\\\n",
       "\\bottomrule\n",
       "\\end{tabular}\n",
       "%\\caption{OLS Regression Results}\n",
       "\\end{center}\n",
       "\n",
       "Notes: \\newline\n",
       " [1] R² is computed without centering (uncentered) since the model does not contain a constant. \\newline\n",
       " [2] Standard Errors assume that the covariance matrix of the errors is correctly specified."
      ],
      "text/plain": [
       "<class 'statsmodels.iolib.summary.Summary'>\n",
       "\"\"\"\n",
       "                                 OLS Regression Results                                \n",
       "=======================================================================================\n",
       "Dep. Variable:                      y   R-squared (uncentered):                   0.912\n",
       "Model:                            OLS   Adj. R-squared (uncentered):              0.912\n",
       "Method:                 Least Squares   F-statistic:                              5152.\n",
       "Date:                Tue, 04 Jun 2024   Prob (F-statistic):                        0.00\n",
       "Time:                        10:35:43   Log-Likelihood:                         -1406.1\n",
       "No. Observations:                1000   AIC:                                      2816.\n",
       "Df Residuals:                     998   BIC:                                      2826.\n",
       "Df Model:                           2                                                  \n",
       "Covariance Type:            nonrobust                                                  \n",
       "==============================================================================\n",
       "                 coef    std err          t      P>|t|      [0.025      0.975]\n",
       "------------------------------------------------------------------------------\n",
       "x1             1.1166      0.026     42.452      0.000       1.065       1.168\n",
       "x2             5.0232      0.050    101.034      0.000       4.926       5.121\n",
       "==============================================================================\n",
       "Omnibus:                        0.666   Durbin-Watson:                   1.934\n",
       "Prob(Omnibus):                  0.717   Jarque-Bera (JB):                0.610\n",
       "Skew:                           0.059   Prob(JB):                        0.737\n",
       "Kurtosis:                       3.024   Cond. No.                         2.08\n",
       "==============================================================================\n",
       "\n",
       "Notes:\n",
       "[1] R² is computed without centering (uncentered) since the model does not contain a constant.\n",
       "[2] Standard Errors assume that the covariance matrix of the errors is correctly specified.\n",
       "\"\"\""
      ]
     },
     "execution_count": 10,
     "metadata": {},
     "output_type": "execute_result"
    }
   ],
   "source": [
    "model = OLS(np.asarray(df[outcome]), np.asarray(df[[common_cause, treatment]], dtype=np.float64))\n",
    "result = model.fit()\n",
    "result.summary()"
   ]
  }
 ],
 "metadata": {
  "kernelspec": {
   "display_name": "Python 3 (ipykernel)",
   "language": "python",
   "name": "python3"
  },
  "language_info": {
   "codemirror_mode": {
    "name": "ipython",
    "version": 3
   },
   "file_extension": ".py",
   "mimetype": "text/x-python",
   "name": "python",
   "nbconvert_exporter": "python",
   "pygments_lexer": "ipython3",
   "version": "3.8.10"
  },
  "toc": {
   "base_numbering": 1,
   "nav_menu": {},
   "number_sections": false,
   "sideBar": true,
   "skip_h1_title": true,
   "title_cell": "Table of Contents",
   "title_sidebar": "Contents",
   "toc_cell": false,
   "toc_position": {},
   "toc_section_display": true,
   "toc_window_display": false
  }
 },
 "nbformat": 4,
 "nbformat_minor": 4
}
