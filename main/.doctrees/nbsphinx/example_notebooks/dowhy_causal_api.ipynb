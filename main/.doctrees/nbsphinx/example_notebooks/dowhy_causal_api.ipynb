{
 "cells": [
  {
   "cell_type": "markdown",
   "metadata": {},
   "source": [
    "# Demo for the DoWhy causal API\n",
    "We show a simple example of adding a causal extension to any dataframe. "
   ]
  },
  {
   "cell_type": "code",
   "execution_count": 1,
   "metadata": {
    "execution": {
     "iopub.execute_input": "2023-11-15T15:41:45.448867Z",
     "iopub.status.busy": "2023-11-15T15:41:45.447991Z",
     "iopub.status.idle": "2023-11-15T15:41:47.761156Z",
     "shell.execute_reply": "2023-11-15T15:41:47.760071Z"
    }
   },
   "outputs": [],
   "source": [
    "import dowhy.datasets\n",
    "import dowhy.api\n",
    "\n",
    "import numpy as np\n",
    "import pandas as pd\n",
    "\n",
    "from statsmodels.api import OLS"
   ]
  },
  {
   "cell_type": "code",
   "execution_count": 2,
   "metadata": {
    "execution": {
     "iopub.execute_input": "2023-11-15T15:41:47.767615Z",
     "iopub.status.busy": "2023-11-15T15:41:47.765364Z",
     "iopub.status.idle": "2023-11-15T15:41:47.841620Z",
     "shell.execute_reply": "2023-11-15T15:41:47.840622Z"
    }
   },
   "outputs": [
    {
     "data": {
      "text/html": [
       "<div>\n",
       "<style scoped>\n",
       "    .dataframe tbody tr th:only-of-type {\n",
       "        vertical-align: middle;\n",
       "    }\n",
       "\n",
       "    .dataframe tbody tr th {\n",
       "        vertical-align: top;\n",
       "    }\n",
       "\n",
       "    .dataframe thead th {\n",
       "        text-align: right;\n",
       "    }\n",
       "</style>\n",
       "<table border=\"1\" class=\"dataframe\">\n",
       "  <thead>\n",
       "    <tr style=\"text-align: right;\">\n",
       "      <th></th>\n",
       "      <th>W0</th>\n",
       "      <th>v0</th>\n",
       "      <th>y</th>\n",
       "    </tr>\n",
       "  </thead>\n",
       "  <tbody>\n",
       "    <tr>\n",
       "      <th>0</th>\n",
       "      <td>-0.867364</td>\n",
       "      <td>False</td>\n",
       "      <td>0.119670</td>\n",
       "    </tr>\n",
       "    <tr>\n",
       "      <th>1</th>\n",
       "      <td>1.155602</td>\n",
       "      <td>True</td>\n",
       "      <td>6.253767</td>\n",
       "    </tr>\n",
       "    <tr>\n",
       "      <th>2</th>\n",
       "      <td>-0.280300</td>\n",
       "      <td>True</td>\n",
       "      <td>4.200077</td>\n",
       "    </tr>\n",
       "    <tr>\n",
       "      <th>3</th>\n",
       "      <td>-1.048648</td>\n",
       "      <td>False</td>\n",
       "      <td>-0.598016</td>\n",
       "    </tr>\n",
       "    <tr>\n",
       "      <th>4</th>\n",
       "      <td>-0.738004</td>\n",
       "      <td>True</td>\n",
       "      <td>4.272890</td>\n",
       "    </tr>\n",
       "    <tr>\n",
       "      <th>...</th>\n",
       "      <td>...</td>\n",
       "      <td>...</td>\n",
       "      <td>...</td>\n",
       "    </tr>\n",
       "    <tr>\n",
       "      <th>995</th>\n",
       "      <td>-1.904239</td>\n",
       "      <td>False</td>\n",
       "      <td>-0.219956</td>\n",
       "    </tr>\n",
       "    <tr>\n",
       "      <th>996</th>\n",
       "      <td>-1.014407</td>\n",
       "      <td>False</td>\n",
       "      <td>0.237404</td>\n",
       "    </tr>\n",
       "    <tr>\n",
       "      <th>997</th>\n",
       "      <td>-0.623400</td>\n",
       "      <td>False</td>\n",
       "      <td>0.589520</td>\n",
       "    </tr>\n",
       "    <tr>\n",
       "      <th>998</th>\n",
       "      <td>-1.758007</td>\n",
       "      <td>True</td>\n",
       "      <td>4.772884</td>\n",
       "    </tr>\n",
       "    <tr>\n",
       "      <th>999</th>\n",
       "      <td>-0.219289</td>\n",
       "      <td>False</td>\n",
       "      <td>0.581997</td>\n",
       "    </tr>\n",
       "  </tbody>\n",
       "</table>\n",
       "<p>1000 rows × 3 columns</p>\n",
       "</div>"
      ],
      "text/plain": [
       "           W0     v0         y\n",
       "0   -0.867364  False  0.119670\n",
       "1    1.155602   True  6.253767\n",
       "2   -0.280300   True  4.200077\n",
       "3   -1.048648  False -0.598016\n",
       "4   -0.738004   True  4.272890\n",
       "..        ...    ...       ...\n",
       "995 -1.904239  False -0.219956\n",
       "996 -1.014407  False  0.237404\n",
       "997 -0.623400  False  0.589520\n",
       "998 -1.758007   True  4.772884\n",
       "999 -0.219289  False  0.581997\n",
       "\n",
       "[1000 rows x 3 columns]"
      ]
     },
     "execution_count": 2,
     "metadata": {},
     "output_type": "execute_result"
    }
   ],
   "source": [
    "data = dowhy.datasets.linear_dataset(beta=5,\n",
    "        num_common_causes=1,\n",
    "        num_instruments = 0,\n",
    "        num_samples=1000,\n",
    "        treatment_is_binary=True)\n",
    "df = data['df']\n",
    "df['y'] = df['y'] + np.random.normal(size=len(df)) # Adding noise to data. Without noise, the variance in Y|X, Z is zero, and mcmc fails.\n",
    "#data['dot_graph'] = 'digraph { v ->y;X0-> v;X0-> y;}'\n",
    "\n",
    "treatment= data[\"treatment_name\"][0]\n",
    "outcome = data[\"outcome_name\"][0]\n",
    "common_cause = data[\"common_causes_names\"][0]\n",
    "df"
   ]
  },
  {
   "cell_type": "code",
   "execution_count": 3,
   "metadata": {
    "execution": {
     "iopub.execute_input": "2023-11-15T15:41:47.845583Z",
     "iopub.status.busy": "2023-11-15T15:41:47.845277Z",
     "iopub.status.idle": "2023-11-15T15:41:48.121824Z",
     "shell.execute_reply": "2023-11-15T15:41:48.120971Z"
    }
   },
   "outputs": [
    {
     "data": {
      "text/plain": [
       "<Axes: xlabel='v0'>"
      ]
     },
     "execution_count": 3,
     "metadata": {},
     "output_type": "execute_result"
    },
    {
     "data": {
      "image/png": "[encoded data removed]",
      "text/plain": [
       "<Figure size 640x480 with 1 Axes>"
      ]
     },
     "metadata": {},
     "output_type": "display_data"
    }
   ],
   "source": [
    "# data['df'] is just a regular pandas.DataFrame\n",
    "df.causal.do(x=treatment,\n",
    "                     variable_types={treatment: 'b', outcome: 'c', common_cause: 'c'},\n",
    "                     outcome=outcome,\n",
    "                     common_causes=[common_cause],\n",
    "                     proceed_when_unidentifiable=True).groupby(treatment).mean().plot(y=outcome, kind='bar')"
   ]
  },
  {
   "cell_type": "code",
   "execution_count": 4,
   "metadata": {
    "execution": {
     "iopub.execute_input": "2023-11-15T15:41:48.126310Z",
     "iopub.status.busy": "2023-11-15T15:41:48.125731Z",
     "iopub.status.idle": "2023-11-15T15:41:48.331291Z",
     "shell.execute_reply": "2023-11-15T15:41:48.330466Z"
    }
   },
   "outputs": [
    {
     "data": {
      "text/plain": [
       "<Axes: xlabel='v0'>"
      ]
     },
     "execution_count": 4,
     "metadata": {},
     "output_type": "execute_result"
    },
    {
     "data": {
      "image/png": "[encoded data removed]",
      "text/plain": [
       "<Figure size 640x480 with 1 Axes>"
      ]
     },
     "metadata": {},
     "output_type": "display_data"
    }
   ],
   "source": [
    "df.causal.do(x={treatment: 1}, \n",
    "              variable_types={treatment:'b', outcome: 'c', common_cause: 'c'}, \n",
    "              outcome=outcome,\n",
    "              method='weighting', \n",
    "              common_causes=[common_cause],\n",
    "              proceed_when_unidentifiable=True).groupby(treatment).mean().plot(y=outcome, kind='bar')"
   ]
  },
  {
   "cell_type": "code",
   "execution_count": 5,
   "metadata": {
    "execution": {
     "iopub.execute_input": "2023-11-15T15:41:48.335311Z",
     "iopub.status.busy": "2023-11-15T15:41:48.334806Z",
     "iopub.status.idle": "2023-11-15T15:41:48.386171Z",
     "shell.execute_reply": "2023-11-15T15:41:48.385129Z"
    }
   },
   "outputs": [],
   "source": [
    "cdf_1 = df.causal.do(x={treatment: 1}, \n",
    "              variable_types={treatment: 'b', outcome: 'c', common_cause: 'c'}, \n",
    "              outcome=outcome, \n",
    "              dot_graph=data['dot_graph'],\n",
    "              proceed_when_unidentifiable=True)\n",
    "\n",
    "cdf_0 = df.causal.do(x={treatment: 0}, \n",
    "              variable_types={treatment: 'b', outcome: 'c', common_cause: 'c'}, \n",
    "              outcome=outcome, \n",
    "              dot_graph=data['dot_graph'],\n",
    "              proceed_when_unidentifiable=True)\n"
   ]
  },
  {
   "cell_type": "code",
   "execution_count": 6,
   "metadata": {
    "execution": {
     "iopub.execute_input": "2023-11-15T15:41:48.390340Z",
     "iopub.status.busy": "2023-11-15T15:41:48.390032Z",
     "iopub.status.idle": "2023-11-15T15:41:48.409757Z",
     "shell.execute_reply": "2023-11-15T15:41:48.408731Z"
    },
    "scrolled": true
   },
   "outputs": [
    {
     "data": {
      "text/html": [
       "<div>\n",
       "<style scoped>\n",
       "    .dataframe tbody tr th:only-of-type {\n",
       "        vertical-align: middle;\n",
       "    }\n",
       "\n",
       "    .dataframe tbody tr th {\n",
       "        vertical-align: top;\n",
       "    }\n",
       "\n",
       "    .dataframe thead th {\n",
       "        text-align: right;\n",
       "    }\n",
       "</style>\n",
       "<table border=\"1\" class=\"dataframe\">\n",
       "  <thead>\n",
       "    <tr style=\"text-align: right;\">\n",
       "      <th></th>\n",
       "      <th>W0</th>\n",
       "      <th>v0</th>\n",
       "      <th>y</th>\n",
       "      <th>propensity_score</th>\n",
       "      <th>weight</th>\n",
       "    </tr>\n",
       "  </thead>\n",
       "  <tbody>\n",
       "    <tr>\n",
       "      <th>0</th>\n",
       "      <td>-2.087894</td>\n",
       "      <td>False</td>\n",
       "      <td>-1.868729</td>\n",
       "      <td>0.851013</td>\n",
       "      <td>1.175070</td>\n",
       "    </tr>\n",
       "    <tr>\n",
       "      <th>1</th>\n",
       "      <td>0.021262</td>\n",
       "      <td>False</td>\n",
       "      <td>1.157249</td>\n",
       "      <td>0.473802</td>\n",
       "      <td>2.110587</td>\n",
       "    </tr>\n",
       "    <tr>\n",
       "      <th>2</th>\n",
       "      <td>-0.368156</td>\n",
       "      <td>False</td>\n",
       "      <td>0.239259</td>\n",
       "      <td>0.558780</td>\n",
       "      <td>1.789614</td>\n",
       "    </tr>\n",
       "    <tr>\n",
       "      <th>3</th>\n",
       "      <td>-1.104333</td>\n",
       "      <td>False</td>\n",
       "      <td>-0.385573</td>\n",
       "      <td>0.707039</td>\n",
       "      <td>1.414350</td>\n",
       "    </tr>\n",
       "    <tr>\n",
       "      <th>4</th>\n",
       "      <td>0.327702</td>\n",
       "      <td>False</td>\n",
       "      <td>1.449487</td>\n",
       "      <td>0.407742</td>\n",
       "      <td>2.452530</td>\n",
       "    </tr>\n",
       "    <tr>\n",
       "      <th>...</th>\n",
       "      <td>...</td>\n",
       "      <td>...</td>\n",
       "      <td>...</td>\n",
       "      <td>...</td>\n",
       "      <td>...</td>\n",
       "    </tr>\n",
       "    <tr>\n",
       "      <th>995</th>\n",
       "      <td>-1.026826</td>\n",
       "      <td>False</td>\n",
       "      <td>1.507699</td>\n",
       "      <td>0.692781</td>\n",
       "      <td>1.443457</td>\n",
       "    </tr>\n",
       "    <tr>\n",
       "      <th>996</th>\n",
       "      <td>-0.569513</td>\n",
       "      <td>False</td>\n",
       "      <td>0.386693</td>\n",
       "      <td>0.601707</td>\n",
       "      <td>1.661937</td>\n",
       "    </tr>\n",
       "    <tr>\n",
       "      <th>997</th>\n",
       "      <td>-1.310278</td>\n",
       "      <td>False</td>\n",
       "      <td>-1.269742</td>\n",
       "      <td>0.742965</td>\n",
       "      <td>1.345959</td>\n",
       "    </tr>\n",
       "    <tr>\n",
       "      <th>998</th>\n",
       "      <td>-0.238773</td>\n",
       "      <td>False</td>\n",
       "      <td>-0.626005</td>\n",
       "      <td>0.530682</td>\n",
       "      <td>1.884369</td>\n",
       "    </tr>\n",
       "    <tr>\n",
       "      <th>999</th>\n",
       "      <td>-1.730242</td>\n",
       "      <td>False</td>\n",
       "      <td>-0.780943</td>\n",
       "      <td>0.806791</td>\n",
       "      <td>1.239478</td>\n",
       "    </tr>\n",
       "  </tbody>\n",
       "</table>\n",
       "<p>1000 rows × 5 columns</p>\n",
       "</div>"
      ],
      "text/plain": [
       "           W0     v0         y  propensity_score    weight\n",
       "0   -2.087894  False -1.868729          0.851013  1.175070\n",
       "1    0.021262  False  1.157249          0.473802  2.110587\n",
       "2   -0.368156  False  0.239259          0.558780  1.789614\n",
       "3   -1.104333  False -0.385573          0.707039  1.414350\n",
       "4    0.327702  False  1.449487          0.407742  2.452530\n",
       "..        ...    ...       ...               ...       ...\n",
       "995 -1.026826  False  1.507699          0.692781  1.443457\n",
       "996 -0.569513  False  0.386693          0.601707  1.661937\n",
       "997 -1.310278  False -1.269742          0.742965  1.345959\n",
       "998 -0.238773  False -0.626005          0.530682  1.884369\n",
       "999 -1.730242  False -0.780943          0.806791  1.239478\n",
       "\n",
       "[1000 rows x 5 columns]"
      ]
     },
     "execution_count": 6,
     "metadata": {},
     "output_type": "execute_result"
    }
   ],
   "source": [
    "cdf_0"
   ]
  },
  {
   "cell_type": "code",
   "execution_count": 7,
   "metadata": {
    "execution": {
     "iopub.execute_input": "2023-11-15T15:41:48.414130Z",
     "iopub.status.busy": "2023-11-15T15:41:48.413415Z",
     "iopub.status.idle": "2023-11-15T15:41:48.429535Z",
     "shell.execute_reply": "2023-11-15T15:41:48.428566Z"
    }
   },
   "outputs": [
    {
     "data": {
      "text/html": [
       "<div>\n",
       "<style scoped>\n",
       "    .dataframe tbody tr th:only-of-type {\n",
       "        vertical-align: middle;\n",
       "    }\n",
       "\n",
       "    .dataframe tbody tr th {\n",
       "        vertical-align: top;\n",
       "    }\n",
       "\n",
       "    .dataframe thead th {\n",
       "        text-align: right;\n",
       "    }\n",
       "</style>\n",
       "<table border=\"1\" class=\"dataframe\">\n",
       "  <thead>\n",
       "    <tr style=\"text-align: right;\">\n",
       "      <th></th>\n",
       "      <th>W0</th>\n",
       "      <th>v0</th>\n",
       "      <th>y</th>\n",
       "      <th>propensity_score</th>\n",
       "      <th>weight</th>\n",
       "    </tr>\n",
       "  </thead>\n",
       "  <tbody>\n",
       "    <tr>\n",
       "      <th>0</th>\n",
       "      <td>-1.981416</td>\n",
       "      <td>True</td>\n",
       "      <td>4.365866</td>\n",
       "      <td>0.161203</td>\n",
       "      <td>6.203342</td>\n",
       "    </tr>\n",
       "    <tr>\n",
       "      <th>1</th>\n",
       "      <td>1.103236</td>\n",
       "      <td>True</td>\n",
       "      <td>4.219903</td>\n",
       "      <td>0.741277</td>\n",
       "      <td>1.349024</td>\n",
       "    </tr>\n",
       "    <tr>\n",
       "      <th>2</th>\n",
       "      <td>0.536958</td>\n",
       "      <td>True</td>\n",
       "      <td>3.535795</td>\n",
       "      <td>0.635665</td>\n",
       "      <td>1.573155</td>\n",
       "    </tr>\n",
       "    <tr>\n",
       "      <th>3</th>\n",
       "      <td>-2.275672</td>\n",
       "      <td>True</td>\n",
       "      <td>5.415775</td>\n",
       "      <td>0.129313</td>\n",
       "      <td>7.733176</td>\n",
       "    </tr>\n",
       "    <tr>\n",
       "      <th>4</th>\n",
       "      <td>-1.006280</td>\n",
       "      <td>True</td>\n",
       "      <td>3.625694</td>\n",
       "      <td>0.311062</td>\n",
       "      <td>3.214790</td>\n",
       "    </tr>\n",
       "    <tr>\n",
       "      <th>...</th>\n",
       "      <td>...</td>\n",
       "      <td>...</td>\n",
       "      <td>...</td>\n",
       "      <td>...</td>\n",
       "      <td>...</td>\n",
       "    </tr>\n",
       "    <tr>\n",
       "      <th>995</th>\n",
       "      <td>-2.285609</td>\n",
       "      <td>True</td>\n",
       "      <td>4.312222</td>\n",
       "      <td>0.128336</td>\n",
       "      <td>7.792036</td>\n",
       "    </tr>\n",
       "    <tr>\n",
       "      <th>996</th>\n",
       "      <td>-1.685022</td>\n",
       "      <td>True</td>\n",
       "      <td>5.451126</td>\n",
       "      <td>0.199458</td>\n",
       "      <td>5.013580</td>\n",
       "    </tr>\n",
       "    <tr>\n",
       "      <th>997</th>\n",
       "      <td>-0.894567</td>\n",
       "      <td>True</td>\n",
       "      <td>6.676045</td>\n",
       "      <td>0.332410</td>\n",
       "      <td>3.008335</td>\n",
       "    </tr>\n",
       "    <tr>\n",
       "      <th>998</th>\n",
       "      <td>-0.360538</td>\n",
       "      <td>True</td>\n",
       "      <td>3.790063</td>\n",
       "      <td>0.442866</td>\n",
       "      <td>2.258018</td>\n",
       "    </tr>\n",
       "    <tr>\n",
       "      <th>999</th>\n",
       "      <td>-0.714497</td>\n",
       "      <td>True</td>\n",
       "      <td>3.860398</td>\n",
       "      <td>0.368286</td>\n",
       "      <td>2.715283</td>\n",
       "    </tr>\n",
       "  </tbody>\n",
       "</table>\n",
       "<p>1000 rows × 5 columns</p>\n",
       "</div>"
      ],
      "text/plain": [
       "           W0    v0         y  propensity_score    weight\n",
       "0   -1.981416  True  4.365866          0.161203  6.203342\n",
       "1    1.103236  True  4.219903          0.741277  1.349024\n",
       "2    0.536958  True  3.535795          0.635665  1.573155\n",
       "3   -2.275672  True  5.415775          0.129313  7.733176\n",
       "4   -1.006280  True  3.625694          0.311062  3.214790\n",
       "..        ...   ...       ...               ...       ...\n",
       "995 -2.285609  True  4.312222          0.128336  7.792036\n",
       "996 -1.685022  True  5.451126          0.199458  5.013580\n",
       "997 -0.894567  True  6.676045          0.332410  3.008335\n",
       "998 -0.360538  True  3.790063          0.442866  2.258018\n",
       "999 -0.714497  True  3.860398          0.368286  2.715283\n",
       "\n",
       "[1000 rows x 5 columns]"
      ]
     },
     "execution_count": 7,
     "metadata": {},
     "output_type": "execute_result"
    }
   ],
   "source": [
    "cdf_1"
   ]
  },
  {
   "cell_type": "markdown",
   "metadata": {},
   "source": [
    "## Comparing the estimate to Linear Regression\n",
    "First, estimating the effect using the causal data frame, and the 95% confidence interval."
   ]
  },
  {
   "cell_type": "code",
   "execution_count": 8,
   "metadata": {
    "execution": {
     "iopub.execute_input": "2023-11-15T15:41:48.435004Z",
     "iopub.status.busy": "2023-11-15T15:41:48.433346Z",
     "iopub.status.idle": "2023-11-15T15:41:48.513633Z",
     "shell.execute_reply": "2023-11-15T15:41:48.512526Z"
    }
   },
   "outputs": [
    {
     "data": {
      "image/png": "[encoded data removed]",
      "text/latex": [
       "$\\displaystyle 4.93905262631676$"
      ],
      "text/plain": [
       "4.93905262631676"
      ]
     },
     "execution_count": 8,
     "metadata": {},
     "output_type": "execute_result"
    }
   ],
   "source": [
    "(cdf_1['y'] - cdf_0['y']).mean()"
   ]
  },
  {
   "cell_type": "code",
   "execution_count": 9,
   "metadata": {
    "execution": {
     "iopub.execute_input": "2023-11-15T15:41:48.517854Z",
     "iopub.status.busy": "2023-11-15T15:41:48.517242Z",
     "iopub.status.idle": "2023-11-15T15:41:48.550087Z",
     "shell.execute_reply": "2023-11-15T15:41:48.549224Z"
    }
   },
   "outputs": [
    {
     "data": {
      "image/png": "[encoded data removed]",
      "text/latex": [
       "$\\displaystyle 0.0899999657924797$"
      ],
      "text/plain": [
       "0.08999996579247974"
      ]
     },
     "execution_count": 9,
     "metadata": {},
     "output_type": "execute_result"
    }
   ],
   "source": [
    "1.96*(cdf_1['y'] - cdf_0['y']).std() / np.sqrt(len(df))"
   ]
  },
  {
   "cell_type": "markdown",
   "metadata": {},
   "source": [
    "Comparing to the estimate from OLS."
   ]
  },
  {
   "cell_type": "code",
   "execution_count": 10,
   "metadata": {
    "execution": {
     "iopub.execute_input": "2023-11-15T15:41:48.553946Z",
     "iopub.status.busy": "2023-11-15T15:41:48.553614Z",
     "iopub.status.idle": "2023-11-15T15:41:48.586000Z",
     "shell.execute_reply": "2023-11-15T15:41:48.585085Z"
    }
   },
   "outputs": [
    {
     "data": {
      "text/html": [
       "<table class=\"simpletable\">\n",
       "<caption>OLS Regression Results</caption>\n",
       "<tr>\n",
       "  <th>Dep. Variable:</th>            <td>y</td>        <th>  R-squared (uncentered):</th>      <td>   0.894</td>\n",
       "</tr>\n",
       "<tr>\n",
       "  <th>Model:</th>                   <td>OLS</td>       <th>  Adj. R-squared (uncentered):</th> <td>   0.893</td>\n",
       "</tr>\n",
       "<tr>\n",
       "  <th>Method:</th>             <td>Least Squares</td>  <th>  F-statistic:       </th>          <td>   4189.</td>\n",
       "</tr>\n",
       "<tr>\n",
       "  <th>Date:</th>             <td>Wed, 15 Nov 2023</td> <th>  Prob (F-statistic):</th>           <td>  0.00</td> \n",
       "</tr>\n",
       "<tr>\n",
       "  <th>Time:</th>                 <td>15:41:48</td>     <th>  Log-Likelihood:    </th>          <td> -1394.3</td>\n",
       "</tr>\n",
       "<tr>\n",
       "  <th>No. Observations:</th>      <td>  1000</td>      <th>  AIC:               </th>          <td>   2793.</td>\n",
       "</tr>\n",
       "<tr>\n",
       "  <th>Df Residuals:</th>          <td>   998</td>      <th>  BIC:               </th>          <td>   2802.</td>\n",
       "</tr>\n",
       "<tr>\n",
       "  <th>Df Model:</th>              <td>     2</td>      <th>                     </th>              <td> </td>   \n",
       "</tr>\n",
       "<tr>\n",
       "  <th>Covariance Type:</th>      <td>nonrobust</td>    <th>                     </th>              <td> </td>   \n",
       "</tr>\n",
       "</table>\n",
       "<table class=\"simpletable\">\n",
       "<tr>\n",
       "   <td></td>     <th>coef</th>     <th>std err</th>      <th>t</th>      <th>P>|t|</th>  <th>[0.025</th>    <th>0.975]</th>  \n",
       "</tr>\n",
       "<tr>\n",
       "  <th>x1</th> <td>    0.2743</td> <td>    0.022</td> <td>   12.523</td> <td> 0.000</td> <td>    0.231</td> <td>    0.317</td>\n",
       "</tr>\n",
       "<tr>\n",
       "  <th>x2</th> <td>    4.9160</td> <td>    0.054</td> <td>   91.453</td> <td> 0.000</td> <td>    4.810</td> <td>    5.021</td>\n",
       "</tr>\n",
       "</table>\n",
       "<table class=\"simpletable\">\n",
       "<tr>\n",
       "  <th>Omnibus:</th>       <td> 0.674</td> <th>  Durbin-Watson:     </th> <td>   1.986</td>\n",
       "</tr>\n",
       "<tr>\n",
       "  <th>Prob(Omnibus):</th> <td> 0.714</td> <th>  Jarque-Bera (JB):  </th> <td>   0.745</td>\n",
       "</tr>\n",
       "<tr>\n",
       "  <th>Skew:</th>          <td>-0.056</td> <th>  Prob(JB):          </th> <td>   0.689</td>\n",
       "</tr>\n",
       "<tr>\n",
       "  <th>Kurtosis:</th>      <td> 2.927</td> <th>  Cond. No.          </th> <td>    2.51</td>\n",
       "</tr>\n",
       "</table><br/><br/>Notes:<br/>[1] R² is computed without centering (uncentered) since the model does not contain a constant.<br/>[2] Standard Errors assume that the covariance matrix of the errors is correctly specified."
      ],
      "text/latex": [
       "\\begin{center}\n",
       "\\begin{tabular}{lclc}\n",
       "\\toprule\n",
       "\\textbf{Dep. Variable:}    &        y         & \\textbf{  R-squared (uncentered):}      &     0.894   \\\\\n",
       "\\textbf{Model:}            &       OLS        & \\textbf{  Adj. R-squared (uncentered):} &     0.893   \\\\\n",
       "\\textbf{Method:}           &  Least Squares   & \\textbf{  F-statistic:       }          &     4189.   \\\\\n",
       "\\textbf{Date:}             & Wed, 15 Nov 2023 & \\textbf{  Prob (F-statistic):}          &     0.00    \\\\\n",
       "\\textbf{Time:}             &     15:41:48     & \\textbf{  Log-Likelihood:    }          &   -1394.3   \\\\\n",
       "\\textbf{No. Observations:} &        1000      & \\textbf{  AIC:               }          &     2793.   \\\\\n",
       "\\textbf{Df Residuals:}     &         998      & \\textbf{  BIC:               }          &     2802.   \\\\\n",
       "\\textbf{Df Model:}         &           2      & \\textbf{                     }          &             \\\\\n",
       "\\textbf{Covariance Type:}  &    nonrobust     & \\textbf{                     }          &             \\\\\n",
       "\\bottomrule\n",
       "\\end{tabular}\n",
       "\\begin{tabular}{lcccccc}\n",
       "            & \\textbf{coef} & \\textbf{std err} & \\textbf{t} & \\textbf{P$> |$t$|$} & \\textbf{[0.025} & \\textbf{0.975]}  \\\\\n",
       "\\midrule\n",
       "\\textbf{x1} &       0.2743  &        0.022     &    12.523  &         0.000        &        0.231    &        0.317     \\\\\n",
       "\\textbf{x2} &       4.9160  &        0.054     &    91.453  &         0.000        &        4.810    &        5.021     \\\\\n",
       "\\bottomrule\n",
       "\\end{tabular}\n",
       "\\begin{tabular}{lclc}\n",
       "\\textbf{Omnibus:}       &  0.674 & \\textbf{  Durbin-Watson:     } &    1.986  \\\\\n",
       "\\textbf{Prob(Omnibus):} &  0.714 & \\textbf{  Jarque-Bera (JB):  } &    0.745  \\\\\n",
       "\\textbf{Skew:}          & -0.056 & \\textbf{  Prob(JB):          } &    0.689  \\\\\n",
       "\\textbf{Kurtosis:}      &  2.927 & \\textbf{  Cond. No.          } &     2.51  \\\\\n",
       "\\bottomrule\n",
       "\\end{tabular}\n",
       "%\\caption{OLS Regression Results}\n",
       "\\end{center}\n",
       "\n",
       "Notes: \\newline\n",
       " [1] R² is computed without centering (uncentered) since the model does not contain a constant. \\newline\n",
       " [2] Standard Errors assume that the covariance matrix of the errors is correctly specified."
      ],
      "text/plain": [
       "<class 'statsmodels.iolib.summary.Summary'>\n",
       "\"\"\"\n",
       "                                 OLS Regression Results                                \n",
       "=======================================================================================\n",
       "Dep. Variable:                      y   R-squared (uncentered):                   0.894\n",
       "Model:                            OLS   Adj. R-squared (uncentered):              0.893\n",
       "Method:                 Least Squares   F-statistic:                              4189.\n",
       "Date:                Wed, 15 Nov 2023   Prob (F-statistic):                        0.00\n",
       "Time:                        15:41:48   Log-Likelihood:                         -1394.3\n",
       "No. Observations:                1000   AIC:                                      2793.\n",
       "Df Residuals:                     998   BIC:                                      2802.\n",
       "Df Model:                           2                                                  \n",
       "Covariance Type:            nonrobust                                                  \n",
       "==============================================================================\n",
       "                 coef    std err          t      P>|t|      [0.025      0.975]\n",
       "------------------------------------------------------------------------------\n",
       "x1             0.2743      0.022     12.523      0.000       0.231       0.317\n",
       "x2             4.9160      0.054     91.453      0.000       4.810       5.021\n",
       "==============================================================================\n",
       "Omnibus:                        0.674   Durbin-Watson:                   1.986\n",
       "Prob(Omnibus):                  0.714   Jarque-Bera (JB):                0.745\n",
       "Skew:                          -0.056   Prob(JB):                        0.689\n",
       "Kurtosis:                       2.927   Cond. No.                         2.51\n",
       "==============================================================================\n",
       "\n",
       "Notes:\n",
       "[1] R² is computed without centering (uncentered) since the model does not contain a constant.\n",
       "[2] Standard Errors assume that the covariance matrix of the errors is correctly specified.\n",
       "\"\"\""
      ]
     },
     "execution_count": 10,
     "metadata": {},
     "output_type": "execute_result"
    }
   ],
   "source": [
    "model = OLS(np.asarray(df[outcome]), np.asarray(df[[common_cause, treatment]], dtype=np.float64))\n",
    "result = model.fit()\n",
    "result.summary()"
   ]
  }
 ],
 "metadata": {
  "kernelspec": {
   "display_name": "Python 3",
   "language": "python",
   "name": "python3"
  },
  "language_info": {
   "codemirror_mode": {
    "name": "ipython",
    "version": 3
   },
   "file_extension": ".py",
   "mimetype": "text/x-python",
   "name": "python",
   "nbconvert_exporter": "python",
   "pygments_lexer": "ipython3",
   "version": "3.8.10"
  },
  "toc": {
   "base_numbering": 1,
   "nav_menu": {},
   "number_sections": false,
   "sideBar": true,
   "skip_h1_title": true,
   "title_cell": "Table of Contents",
   "title_sidebar": "Contents",
   "toc_cell": false,
   "toc_position": {},
   "toc_section_display": true,
   "toc_window_display": false
  }
 },
 "nbformat": 4,
 "nbformat_minor": 4
}
