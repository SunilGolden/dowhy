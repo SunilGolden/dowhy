{
 "cells": [
  {
   "cell_type": "markdown",
   "metadata": {},
   "source": [
    "# Demo for the DoWhy causal API\n",
    "We show a simple example of adding a causal extension to any dataframe. "
   ]
  },
  {
   "cell_type": "code",
   "execution_count": 1,
   "metadata": {
    "execution": {
     "iopub.execute_input": "2024-06-18T02:02:23.173331Z",
     "iopub.status.busy": "2024-06-18T02:02:23.173156Z",
     "iopub.status.idle": "2024-06-18T02:02:24.580697Z",
     "shell.execute_reply": "2024-06-18T02:02:24.580023Z"
    }
   },
   "outputs": [],
   "source": [
    "import dowhy.datasets\n",
    "import dowhy.api\n",
    "from dowhy.graph import build_graph_from_str\n",
    "\n",
    "import numpy as np\n",
    "import pandas as pd\n",
    "\n",
    "from statsmodels.api import OLS"
   ]
  },
  {
   "cell_type": "code",
   "execution_count": 2,
   "metadata": {
    "execution": {
     "iopub.execute_input": "2024-06-18T02:02:24.583765Z",
     "iopub.status.busy": "2024-06-18T02:02:24.583387Z",
     "iopub.status.idle": "2024-06-18T02:02:24.620169Z",
     "shell.execute_reply": "2024-06-18T02:02:24.619502Z"
    }
   },
   "outputs": [
    {
     "data": {
      "text/html": [
       "<div>\n",
       "<style scoped>\n",
       "    .dataframe tbody tr th:only-of-type {\n",
       "        vertical-align: middle;\n",
       "    }\n",
       "\n",
       "    .dataframe tbody tr th {\n",
       "        vertical-align: top;\n",
       "    }\n",
       "\n",
       "    .dataframe thead th {\n",
       "        text-align: right;\n",
       "    }\n",
       "</style>\n",
       "<table border=\"1\" class=\"dataframe\">\n",
       "  <thead>\n",
       "    <tr style=\"text-align: right;\">\n",
       "      <th></th>\n",
       "      <th>W0</th>\n",
       "      <th>v0</th>\n",
       "      <th>y</th>\n",
       "    </tr>\n",
       "  </thead>\n",
       "  <tbody>\n",
       "    <tr>\n",
       "      <th>0</th>\n",
       "      <td>-1.378003</td>\n",
       "      <td>False</td>\n",
       "      <td>-2.881999</td>\n",
       "    </tr>\n",
       "    <tr>\n",
       "      <th>1</th>\n",
       "      <td>-1.478723</td>\n",
       "      <td>False</td>\n",
       "      <td>-2.338082</td>\n",
       "    </tr>\n",
       "    <tr>\n",
       "      <th>2</th>\n",
       "      <td>2.529891</td>\n",
       "      <td>True</td>\n",
       "      <td>10.380127</td>\n",
       "    </tr>\n",
       "    <tr>\n",
       "      <th>3</th>\n",
       "      <td>-1.913200</td>\n",
       "      <td>False</td>\n",
       "      <td>-3.499983</td>\n",
       "    </tr>\n",
       "    <tr>\n",
       "      <th>4</th>\n",
       "      <td>-0.002927</td>\n",
       "      <td>False</td>\n",
       "      <td>-0.138338</td>\n",
       "    </tr>\n",
       "    <tr>\n",
       "      <th>...</th>\n",
       "      <td>...</td>\n",
       "      <td>...</td>\n",
       "      <td>...</td>\n",
       "    </tr>\n",
       "    <tr>\n",
       "      <th>995</th>\n",
       "      <td>-1.027010</td>\n",
       "      <td>False</td>\n",
       "      <td>-2.912444</td>\n",
       "    </tr>\n",
       "    <tr>\n",
       "      <th>996</th>\n",
       "      <td>0.143228</td>\n",
       "      <td>False</td>\n",
       "      <td>0.009067</td>\n",
       "    </tr>\n",
       "    <tr>\n",
       "      <th>997</th>\n",
       "      <td>-0.850186</td>\n",
       "      <td>False</td>\n",
       "      <td>-0.996546</td>\n",
       "    </tr>\n",
       "    <tr>\n",
       "      <th>998</th>\n",
       "      <td>-1.586306</td>\n",
       "      <td>True</td>\n",
       "      <td>1.951516</td>\n",
       "    </tr>\n",
       "    <tr>\n",
       "      <th>999</th>\n",
       "      <td>-0.555690</td>\n",
       "      <td>True</td>\n",
       "      <td>5.913146</td>\n",
       "    </tr>\n",
       "  </tbody>\n",
       "</table>\n",
       "<p>1000 rows × 3 columns</p>\n",
       "</div>"
      ],
      "text/plain": [
       "           W0     v0          y\n",
       "0   -1.378003  False  -2.881999\n",
       "1   -1.478723  False  -2.338082\n",
       "2    2.529891   True  10.380127\n",
       "3   -1.913200  False  -3.499983\n",
       "4   -0.002927  False  -0.138338\n",
       "..        ...    ...        ...\n",
       "995 -1.027010  False  -2.912444\n",
       "996  0.143228  False   0.009067\n",
       "997 -0.850186  False  -0.996546\n",
       "998 -1.586306   True   1.951516\n",
       "999 -0.555690   True   5.913146\n",
       "\n",
       "[1000 rows x 3 columns]"
      ]
     },
     "execution_count": 2,
     "metadata": {},
     "output_type": "execute_result"
    }
   ],
   "source": [
    "data = dowhy.datasets.linear_dataset(beta=5,\n",
    "        num_common_causes=1,\n",
    "        num_instruments = 0,\n",
    "        num_samples=1000,\n",
    "        treatment_is_binary=True)\n",
    "df = data['df']\n",
    "df['y'] = df['y'] + np.random.normal(size=len(df)) # Adding noise to data. Without noise, the variance in Y|X, Z is zero, and mcmc fails.\n",
    "nx_graph = build_graph_from_str(data[\"dot_graph\"])\n",
    "\n",
    "treatment= data[\"treatment_name\"][0]\n",
    "outcome = data[\"outcome_name\"][0]\n",
    "common_cause = data[\"common_causes_names\"][0]\n",
    "df"
   ]
  },
  {
   "cell_type": "code",
   "execution_count": 3,
   "metadata": {
    "execution": {
     "iopub.execute_input": "2024-06-18T02:02:24.622429Z",
     "iopub.status.busy": "2024-06-18T02:02:24.622082Z",
     "iopub.status.idle": "2024-06-18T02:02:24.803139Z",
     "shell.execute_reply": "2024-06-18T02:02:24.802532Z"
    },
    "scrolled": true
   },
   "outputs": [
    {
     "data": {
      "text/plain": [
       "<Axes: xlabel='v0'>"
      ]
     },
     "execution_count": 3,
     "metadata": {},
     "output_type": "execute_result"
    },
    {
     "data": {
      "image/png": "[encoded data removed]",
      "text/plain": [
       "<Figure size 640x480 with 1 Axes>"
      ]
     },
     "metadata": {},
     "output_type": "display_data"
    }
   ],
   "source": [
    "# data['df'] is just a regular pandas.DataFrame\n",
    "df.causal.do(x=treatment,\n",
    "             variable_types={treatment: 'b', outcome: 'c', common_cause: 'c'},\n",
    "             outcome=outcome,\n",
    "             common_causes=[common_cause],\n",
    "            ).groupby(treatment).mean().plot(y=outcome, kind='bar')"
   ]
  },
  {
   "cell_type": "code",
   "execution_count": 4,
   "metadata": {
    "execution": {
     "iopub.execute_input": "2024-06-18T02:02:24.805680Z",
     "iopub.status.busy": "2024-06-18T02:02:24.805315Z",
     "iopub.status.idle": "2024-06-18T02:02:24.946563Z",
     "shell.execute_reply": "2024-06-18T02:02:24.945973Z"
    }
   },
   "outputs": [
    {
     "data": {
      "text/plain": [
       "<Axes: xlabel='v0'>"
      ]
     },
     "execution_count": 4,
     "metadata": {},
     "output_type": "execute_result"
    },
    {
     "data": {
      "image/png": "[encoded data removed]",
      "text/plain": [
       "<Figure size 640x480 with 1 Axes>"
      ]
     },
     "metadata": {},
     "output_type": "display_data"
    }
   ],
   "source": [
    "df.causal.do(x={treatment: 1}, \n",
    "              variable_types={treatment:'b', outcome: 'c', common_cause: 'c'}, \n",
    "              outcome=outcome,\n",
    "              method='weighting', \n",
    "              common_causes=[common_cause]\n",
    "              ).groupby(treatment).mean().plot(y=outcome, kind='bar')"
   ]
  },
  {
   "cell_type": "code",
   "execution_count": 5,
   "metadata": {
    "execution": {
     "iopub.execute_input": "2024-06-18T02:02:24.949043Z",
     "iopub.status.busy": "2024-06-18T02:02:24.948673Z",
     "iopub.status.idle": "2024-06-18T02:02:24.969376Z",
     "shell.execute_reply": "2024-06-18T02:02:24.968894Z"
    }
   },
   "outputs": [],
   "source": [
    "cdf_1 = df.causal.do(x={treatment: 1}, \n",
    "              variable_types={treatment: 'b', outcome: 'c', common_cause: 'c'}, \n",
    "              outcome=outcome, \n",
    "              graph=nx_graph\n",
    "              )\n",
    "\n",
    "cdf_0 = df.causal.do(x={treatment: 0}, \n",
    "              variable_types={treatment: 'b', outcome: 'c', common_cause: 'c'}, \n",
    "              outcome=outcome, \n",
    "              graph=nx_graph\n",
    "              )\n"
   ]
  },
  {
   "cell_type": "code",
   "execution_count": 6,
   "metadata": {
    "execution": {
     "iopub.execute_input": "2024-06-18T02:02:24.971707Z",
     "iopub.status.busy": "2024-06-18T02:02:24.971331Z",
     "iopub.status.idle": "2024-06-18T02:02:24.980271Z",
     "shell.execute_reply": "2024-06-18T02:02:24.979681Z"
    },
    "scrolled": true
   },
   "outputs": [
    {
     "data": {
      "text/html": [
       "<div>\n",
       "<style scoped>\n",
       "    .dataframe tbody tr th:only-of-type {\n",
       "        vertical-align: middle;\n",
       "    }\n",
       "\n",
       "    .dataframe tbody tr th {\n",
       "        vertical-align: top;\n",
       "    }\n",
       "\n",
       "    .dataframe thead th {\n",
       "        text-align: right;\n",
       "    }\n",
       "</style>\n",
       "<table border=\"1\" class=\"dataframe\">\n",
       "  <thead>\n",
       "    <tr style=\"text-align: right;\">\n",
       "      <th></th>\n",
       "      <th>W0</th>\n",
       "      <th>v0</th>\n",
       "      <th>y</th>\n",
       "      <th>propensity_score</th>\n",
       "      <th>weight</th>\n",
       "    </tr>\n",
       "  </thead>\n",
       "  <tbody>\n",
       "    <tr>\n",
       "      <th>0</th>\n",
       "      <td>0.705527</td>\n",
       "      <td>False</td>\n",
       "      <td>1.445659</td>\n",
       "      <td>0.326316</td>\n",
       "      <td>3.064513</td>\n",
       "    </tr>\n",
       "    <tr>\n",
       "      <th>1</th>\n",
       "      <td>-1.141055</td>\n",
       "      <td>False</td>\n",
       "      <td>-3.516353</td>\n",
       "      <td>0.808525</td>\n",
       "      <td>1.236820</td>\n",
       "    </tr>\n",
       "    <tr>\n",
       "      <th>2</th>\n",
       "      <td>-1.368134</td>\n",
       "      <td>False</td>\n",
       "      <td>-2.308635</td>\n",
       "      <td>0.846412</td>\n",
       "      <td>1.181458</td>\n",
       "    </tr>\n",
       "    <tr>\n",
       "      <th>3</th>\n",
       "      <td>-1.101770</td>\n",
       "      <td>False</td>\n",
       "      <td>-3.284488</td>\n",
       "      <td>0.801292</td>\n",
       "      <td>1.247985</td>\n",
       "    </tr>\n",
       "    <tr>\n",
       "      <th>4</th>\n",
       "      <td>-1.519173</td>\n",
       "      <td>False</td>\n",
       "      <td>-4.929007</td>\n",
       "      <td>0.868052</td>\n",
       "      <td>1.152005</td>\n",
       "    </tr>\n",
       "    <tr>\n",
       "      <th>...</th>\n",
       "      <td>...</td>\n",
       "      <td>...</td>\n",
       "      <td>...</td>\n",
       "      <td>...</td>\n",
       "      <td>...</td>\n",
       "    </tr>\n",
       "    <tr>\n",
       "      <th>995</th>\n",
       "      <td>1.095534</td>\n",
       "      <td>False</td>\n",
       "      <td>2.769568</td>\n",
       "      <td>0.234652</td>\n",
       "      <td>4.261626</td>\n",
       "    </tr>\n",
       "    <tr>\n",
       "      <th>996</th>\n",
       "      <td>-2.058364</td>\n",
       "      <td>False</td>\n",
       "      <td>-4.822193</td>\n",
       "      <td>0.925264</td>\n",
       "      <td>1.080773</td>\n",
       "    </tr>\n",
       "    <tr>\n",
       "      <th>997</th>\n",
       "      <td>-1.404758</td>\n",
       "      <td>False</td>\n",
       "      <td>-3.017929</td>\n",
       "      <td>0.851912</td>\n",
       "      <td>1.173830</td>\n",
       "    </tr>\n",
       "    <tr>\n",
       "      <th>998</th>\n",
       "      <td>-1.259141</td>\n",
       "      <td>False</td>\n",
       "      <td>-3.188708</td>\n",
       "      <td>0.829052</td>\n",
       "      <td>1.206197</td>\n",
       "    </tr>\n",
       "    <tr>\n",
       "      <th>999</th>\n",
       "      <td>0.333848</td>\n",
       "      <td>False</td>\n",
       "      <td>-0.349799</td>\n",
       "      <td>0.428235</td>\n",
       "      <td>2.335164</td>\n",
       "    </tr>\n",
       "  </tbody>\n",
       "</table>\n",
       "<p>1000 rows × 5 columns</p>\n",
       "</div>"
      ],
      "text/plain": [
       "           W0     v0         y  propensity_score    weight\n",
       "0    0.705527  False  1.445659          0.326316  3.064513\n",
       "1   -1.141055  False -3.516353          0.808525  1.236820\n",
       "2   -1.368134  False -2.308635          0.846412  1.181458\n",
       "3   -1.101770  False -3.284488          0.801292  1.247985\n",
       "4   -1.519173  False -4.929007          0.868052  1.152005\n",
       "..        ...    ...       ...               ...       ...\n",
       "995  1.095534  False  2.769568          0.234652  4.261626\n",
       "996 -2.058364  False -4.822193          0.925264  1.080773\n",
       "997 -1.404758  False -3.017929          0.851912  1.173830\n",
       "998 -1.259141  False -3.188708          0.829052  1.206197\n",
       "999  0.333848  False -0.349799          0.428235  2.335164\n",
       "\n",
       "[1000 rows x 5 columns]"
      ]
     },
     "execution_count": 6,
     "metadata": {},
     "output_type": "execute_result"
    }
   ],
   "source": [
    "cdf_0"
   ]
  },
  {
   "cell_type": "code",
   "execution_count": 7,
   "metadata": {
    "execution": {
     "iopub.execute_input": "2024-06-18T02:02:24.982487Z",
     "iopub.status.busy": "2024-06-18T02:02:24.982158Z",
     "iopub.status.idle": "2024-06-18T02:02:24.990629Z",
     "shell.execute_reply": "2024-06-18T02:02:24.990055Z"
    }
   },
   "outputs": [
    {
     "data": {
      "text/html": [
       "<div>\n",
       "<style scoped>\n",
       "    .dataframe tbody tr th:only-of-type {\n",
       "        vertical-align: middle;\n",
       "    }\n",
       "\n",
       "    .dataframe tbody tr th {\n",
       "        vertical-align: top;\n",
       "    }\n",
       "\n",
       "    .dataframe thead th {\n",
       "        text-align: right;\n",
       "    }\n",
       "</style>\n",
       "<table border=\"1\" class=\"dataframe\">\n",
       "  <thead>\n",
       "    <tr style=\"text-align: right;\">\n",
       "      <th></th>\n",
       "      <th>W0</th>\n",
       "      <th>v0</th>\n",
       "      <th>y</th>\n",
       "      <th>propensity_score</th>\n",
       "      <th>weight</th>\n",
       "    </tr>\n",
       "  </thead>\n",
       "  <tbody>\n",
       "    <tr>\n",
       "      <th>0</th>\n",
       "      <td>-0.640128</td>\n",
       "      <td>True</td>\n",
       "      <td>4.980345</td>\n",
       "      <td>0.298793</td>\n",
       "      <td>3.346802</td>\n",
       "    </tr>\n",
       "    <tr>\n",
       "      <th>1</th>\n",
       "      <td>0.334131</td>\n",
       "      <td>True</td>\n",
       "      <td>5.848508</td>\n",
       "      <td>0.571846</td>\n",
       "      <td>1.748723</td>\n",
       "    </tr>\n",
       "    <tr>\n",
       "      <th>2</th>\n",
       "      <td>-1.059523</td>\n",
       "      <td>True</td>\n",
       "      <td>2.885762</td>\n",
       "      <td>0.206714</td>\n",
       "      <td>4.837597</td>\n",
       "    </tr>\n",
       "    <tr>\n",
       "      <th>3</th>\n",
       "      <td>-0.114775</td>\n",
       "      <td>True</td>\n",
       "      <td>5.647743</td>\n",
       "      <td>0.441023</td>\n",
       "      <td>2.267456</td>\n",
       "    </tr>\n",
       "    <tr>\n",
       "      <th>4</th>\n",
       "      <td>-0.898810</td>\n",
       "      <td>True</td>\n",
       "      <td>3.879089</td>\n",
       "      <td>0.239324</td>\n",
       "      <td>4.178441</td>\n",
       "    </tr>\n",
       "    <tr>\n",
       "      <th>...</th>\n",
       "      <td>...</td>\n",
       "      <td>...</td>\n",
       "      <td>...</td>\n",
       "      <td>...</td>\n",
       "      <td>...</td>\n",
       "    </tr>\n",
       "    <tr>\n",
       "      <th>995</th>\n",
       "      <td>-0.970227</td>\n",
       "      <td>True</td>\n",
       "      <td>2.294634</td>\n",
       "      <td>0.224412</td>\n",
       "      <td>4.456082</td>\n",
       "    </tr>\n",
       "    <tr>\n",
       "      <th>996</th>\n",
       "      <td>-1.383270</td>\n",
       "      <td>True</td>\n",
       "      <td>2.342083</td>\n",
       "      <td>0.151295</td>\n",
       "      <td>6.609606</td>\n",
       "    </tr>\n",
       "    <tr>\n",
       "      <th>997</th>\n",
       "      <td>-0.072594</td>\n",
       "      <td>True</td>\n",
       "      <td>3.928139</td>\n",
       "      <td>0.453250</td>\n",
       "      <td>2.206290</td>\n",
       "    </tr>\n",
       "    <tr>\n",
       "      <th>998</th>\n",
       "      <td>-1.337319</td>\n",
       "      <td>True</td>\n",
       "      <td>-0.079544</td>\n",
       "      <td>0.158345</td>\n",
       "      <td>6.315343</td>\n",
       "    </tr>\n",
       "    <tr>\n",
       "      <th>999</th>\n",
       "      <td>-1.268285</td>\n",
       "      <td>True</td>\n",
       "      <td>0.922529</td>\n",
       "      <td>0.169434</td>\n",
       "      <td>5.902016</td>\n",
       "    </tr>\n",
       "  </tbody>\n",
       "</table>\n",
       "<p>1000 rows × 5 columns</p>\n",
       "</div>"
      ],
      "text/plain": [
       "           W0    v0         y  propensity_score    weight\n",
       "0   -0.640128  True  4.980345          0.298793  3.346802\n",
       "1    0.334131  True  5.848508          0.571846  1.748723\n",
       "2   -1.059523  True  2.885762          0.206714  4.837597\n",
       "3   -0.114775  True  5.647743          0.441023  2.267456\n",
       "4   -0.898810  True  3.879089          0.239324  4.178441\n",
       "..        ...   ...       ...               ...       ...\n",
       "995 -0.970227  True  2.294634          0.224412  4.456082\n",
       "996 -1.383270  True  2.342083          0.151295  6.609606\n",
       "997 -0.072594  True  3.928139          0.453250  2.206290\n",
       "998 -1.337319  True -0.079544          0.158345  6.315343\n",
       "999 -1.268285  True  0.922529          0.169434  5.902016\n",
       "\n",
       "[1000 rows x 5 columns]"
      ]
     },
     "execution_count": 7,
     "metadata": {},
     "output_type": "execute_result"
    }
   ],
   "source": [
    "cdf_1"
   ]
  },
  {
   "cell_type": "markdown",
   "metadata": {},
   "source": [
    "## Comparing the estimate to Linear Regression\n",
    "First, estimating the effect using the causal data frame, and the 95% confidence interval."
   ]
  },
  {
   "cell_type": "code",
   "execution_count": 8,
   "metadata": {
    "execution": {
     "iopub.execute_input": "2024-06-18T02:02:24.992907Z",
     "iopub.status.busy": "2024-06-18T02:02:24.992578Z",
     "iopub.status.idle": "2024-06-18T02:02:25.038311Z",
     "shell.execute_reply": "2024-06-18T02:02:25.037690Z"
    }
   },
   "outputs": [
    {
     "data": {
      "image/png": "[encoded data removed]",
      "text/latex": [
       "$\\displaystyle 5.17238633356552$"
      ],
      "text/plain": [
       "5.172386333565519"
      ]
     },
     "execution_count": 8,
     "metadata": {},
     "output_type": "execute_result"
    }
   ],
   "source": [
    "(cdf_1['y'] - cdf_0['y']).mean()"
   ]
  },
  {
   "cell_type": "code",
   "execution_count": 9,
   "metadata": {
    "execution": {
     "iopub.execute_input": "2024-06-18T02:02:25.040776Z",
     "iopub.status.busy": "2024-06-18T02:02:25.040484Z",
     "iopub.status.idle": "2024-06-18T02:02:25.055757Z",
     "shell.execute_reply": "2024-06-18T02:02:25.055044Z"
    }
   },
   "outputs": [
    {
     "data": {
      "image/png": "[encoded data removed]",
      "text/latex": [
       "$\\displaystyle 0.194388039013449$"
      ],
      "text/plain": [
       "0.1943880390134487"
      ]
     },
     "execution_count": 9,
     "metadata": {},
     "output_type": "execute_result"
    }
   ],
   "source": [
    "1.96*(cdf_1['y'] - cdf_0['y']).std() / np.sqrt(len(df))"
   ]
  },
  {
   "cell_type": "markdown",
   "metadata": {},
   "source": [
    "Comparing to the estimate from OLS."
   ]
  },
  {
   "cell_type": "code",
   "execution_count": 10,
   "metadata": {
    "execution": {
     "iopub.execute_input": "2024-06-18T02:02:25.058058Z",
     "iopub.status.busy": "2024-06-18T02:02:25.057722Z",
     "iopub.status.idle": "2024-06-18T02:02:25.075100Z",
     "shell.execute_reply": "2024-06-18T02:02:25.074605Z"
    }
   },
   "outputs": [
    {
     "data": {
      "text/html": [
       "<table class=\"simpletable\">\n",
       "<caption>OLS Regression Results</caption>\n",
       "<tr>\n",
       "  <th>Dep. Variable:</th>            <td>y</td>        <th>  R-squared (uncentered):</th>      <td>   0.931</td>\n",
       "</tr>\n",
       "<tr>\n",
       "  <th>Model:</th>                   <td>OLS</td>       <th>  Adj. R-squared (uncentered):</th> <td>   0.931</td>\n",
       "</tr>\n",
       "<tr>\n",
       "  <th>Method:</th>             <td>Least Squares</td>  <th>  F-statistic:       </th>          <td>   6758.</td>\n",
       "</tr>\n",
       "<tr>\n",
       "  <th>Date:</th>             <td>Tue, 18 Jun 2024</td> <th>  Prob (F-statistic):</th>           <td>  0.00</td> \n",
       "</tr>\n",
       "<tr>\n",
       "  <th>Time:</th>                 <td>02:02:25</td>     <th>  Log-Likelihood:    </th>          <td> -1418.8</td>\n",
       "</tr>\n",
       "<tr>\n",
       "  <th>No. Observations:</th>      <td>  1000</td>      <th>  AIC:               </th>          <td>   2842.</td>\n",
       "</tr>\n",
       "<tr>\n",
       "  <th>Df Residuals:</th>          <td>   998</td>      <th>  BIC:               </th>          <td>   2851.</td>\n",
       "</tr>\n",
       "<tr>\n",
       "  <th>Df Model:</th>              <td>     2</td>      <th>                     </th>              <td> </td>   \n",
       "</tr>\n",
       "<tr>\n",
       "  <th>Covariance Type:</th>      <td>nonrobust</td>    <th>                     </th>              <td> </td>   \n",
       "</tr>\n",
       "</table>\n",
       "<table class=\"simpletable\">\n",
       "<tr>\n",
       "   <td></td>     <th>coef</th>     <th>std err</th>      <th>t</th>      <th>P>|t|</th>  <th>[0.025</th>    <th>0.975]</th>  \n",
       "</tr>\n",
       "<tr>\n",
       "  <th>x1</th> <td>    2.0819</td> <td>    0.025</td> <td>   84.015</td> <td> 0.000</td> <td>    2.033</td> <td>    2.131</td>\n",
       "</tr>\n",
       "<tr>\n",
       "  <th>x2</th> <td>    4.9631</td> <td>    0.058</td> <td>   85.568</td> <td> 0.000</td> <td>    4.849</td> <td>    5.077</td>\n",
       "</tr>\n",
       "</table>\n",
       "<table class=\"simpletable\">\n",
       "<tr>\n",
       "  <th>Omnibus:</th>       <td> 0.509</td> <th>  Durbin-Watson:     </th> <td>   2.070</td>\n",
       "</tr>\n",
       "<tr>\n",
       "  <th>Prob(Omnibus):</th> <td> 0.775</td> <th>  Jarque-Bera (JB):  </th> <td>   0.447</td>\n",
       "</tr>\n",
       "<tr>\n",
       "  <th>Skew:</th>          <td> 0.050</td> <th>  Prob(JB):          </th> <td>   0.800</td>\n",
       "</tr>\n",
       "<tr>\n",
       "  <th>Kurtosis:</th>      <td> 3.030</td> <th>  Cond. No.          </th> <td>    2.35</td>\n",
       "</tr>\n",
       "</table><br/><br/>Notes:<br/>[1] R² is computed without centering (uncentered) since the model does not contain a constant.<br/>[2] Standard Errors assume that the covariance matrix of the errors is correctly specified."
      ],
      "text/latex": [
       "\\begin{center}\n",
       "\\begin{tabular}{lclc}\n",
       "\\toprule\n",
       "\\textbf{Dep. Variable:}    &        y         & \\textbf{  R-squared (uncentered):}      &     0.931   \\\\\n",
       "\\textbf{Model:}            &       OLS        & \\textbf{  Adj. R-squared (uncentered):} &     0.931   \\\\\n",
       "\\textbf{Method:}           &  Least Squares   & \\textbf{  F-statistic:       }          &     6758.   \\\\\n",
       "\\textbf{Date:}             & Tue, 18 Jun 2024 & \\textbf{  Prob (F-statistic):}          &     0.00    \\\\\n",
       "\\textbf{Time:}             &     02:02:25     & \\textbf{  Log-Likelihood:    }          &   -1418.8   \\\\\n",
       "\\textbf{No. Observations:} &        1000      & \\textbf{  AIC:               }          &     2842.   \\\\\n",
       "\\textbf{Df Residuals:}     &         998      & \\textbf{  BIC:               }          &     2851.   \\\\\n",
       "\\textbf{Df Model:}         &           2      & \\textbf{                     }          &             \\\\\n",
       "\\textbf{Covariance Type:}  &    nonrobust     & \\textbf{                     }          &             \\\\\n",
       "\\bottomrule\n",
       "\\end{tabular}\n",
       "\\begin{tabular}{lcccccc}\n",
       "            & \\textbf{coef} & \\textbf{std err} & \\textbf{t} & \\textbf{P$> |$t$|$} & \\textbf{[0.025} & \\textbf{0.975]}  \\\\\n",
       "\\midrule\n",
       "\\textbf{x1} &       2.0819  &        0.025     &    84.015  &         0.000        &        2.033    &        2.131     \\\\\n",
       "\\textbf{x2} &       4.9631  &        0.058     &    85.568  &         0.000        &        4.849    &        5.077     \\\\\n",
       "\\bottomrule\n",
       "\\end{tabular}\n",
       "\\begin{tabular}{lclc}\n",
       "\\textbf{Omnibus:}       &  0.509 & \\textbf{  Durbin-Watson:     } &    2.070  \\\\\n",
       "\\textbf{Prob(Omnibus):} &  0.775 & \\textbf{  Jarque-Bera (JB):  } &    0.447  \\\\\n",
       "\\textbf{Skew:}          &  0.050 & \\textbf{  Prob(JB):          } &    0.800  \\\\\n",
       "\\textbf{Kurtosis:}      &  3.030 & \\textbf{  Cond. No.          } &     2.35  \\\\\n",
       "\\bottomrule\n",
       "\\end{tabular}\n",
       "%\\caption{OLS Regression Results}\n",
       "\\end{center}\n",
       "\n",
       "Notes: \\newline\n",
       " [1] R² is computed without centering (uncentered) since the model does not contain a constant. \\newline\n",
       " [2] Standard Errors assume that the covariance matrix of the errors is correctly specified."
      ],
      "text/plain": [
       "<class 'statsmodels.iolib.summary.Summary'>\n",
       "\"\"\"\n",
       "                                 OLS Regression Results                                \n",
       "=======================================================================================\n",
       "Dep. Variable:                      y   R-squared (uncentered):                   0.931\n",
       "Model:                            OLS   Adj. R-squared (uncentered):              0.931\n",
       "Method:                 Least Squares   F-statistic:                              6758.\n",
       "Date:                Tue, 18 Jun 2024   Prob (F-statistic):                        0.00\n",
       "Time:                        02:02:25   Log-Likelihood:                         -1418.8\n",
       "No. Observations:                1000   AIC:                                      2842.\n",
       "Df Residuals:                     998   BIC:                                      2851.\n",
       "Df Model:                           2                                                  \n",
       "Covariance Type:            nonrobust                                                  \n",
       "==============================================================================\n",
       "                 coef    std err          t      P>|t|      [0.025      0.975]\n",
       "------------------------------------------------------------------------------\n",
       "x1             2.0819      0.025     84.015      0.000       2.033       2.131\n",
       "x2             4.9631      0.058     85.568      0.000       4.849       5.077\n",
       "==============================================================================\n",
       "Omnibus:                        0.509   Durbin-Watson:                   2.070\n",
       "Prob(Omnibus):                  0.775   Jarque-Bera (JB):                0.447\n",
       "Skew:                           0.050   Prob(JB):                        0.800\n",
       "Kurtosis:                       3.030   Cond. No.                         2.35\n",
       "==============================================================================\n",
       "\n",
       "Notes:\n",
       "[1] R² is computed without centering (uncentered) since the model does not contain a constant.\n",
       "[2] Standard Errors assume that the covariance matrix of the errors is correctly specified.\n",
       "\"\"\""
      ]
     },
     "execution_count": 10,
     "metadata": {},
     "output_type": "execute_result"
    }
   ],
   "source": [
    "model = OLS(np.asarray(df[outcome]), np.asarray(df[[common_cause, treatment]], dtype=np.float64))\n",
    "result = model.fit()\n",
    "result.summary()"
   ]
  }
 ],
 "metadata": {
  "kernelspec": {
   "display_name": "Python 3 (ipykernel)",
   "language": "python",
   "name": "python3"
  },
  "language_info": {
   "codemirror_mode": {
    "name": "ipython",
    "version": 3
   },
   "file_extension": ".py",
   "mimetype": "text/x-python",
   "name": "python",
   "nbconvert_exporter": "python",
   "pygments_lexer": "ipython3",
   "version": "3.8.10"
  },
  "toc": {
   "base_numbering": 1,
   "nav_menu": {},
   "number_sections": false,
   "sideBar": true,
   "skip_h1_title": true,
   "title_cell": "Table of Contents",
   "title_sidebar": "Contents",
   "toc_cell": false,
   "toc_position": {},
   "toc_section_display": true,
   "toc_window_display": false
  }
 },
 "nbformat": 4,
 "nbformat_minor": 4
}
