{
 "cells": [
  {
   "cell_type": "markdown",
   "metadata": {},
   "source": [
    "# Demo for the DoWhy causal API\n",
    "We show a simple example of adding a causal extension to any dataframe. "
   ]
  },
  {
   "cell_type": "code",
   "execution_count": 1,
   "metadata": {
    "execution": {
     "iopub.execute_input": "2023-02-08T15:13:40.616480Z",
     "iopub.status.busy": "2023-02-08T15:13:40.616119Z",
     "iopub.status.idle": "2023-02-08T15:13:42.436425Z",
     "shell.execute_reply": "2023-02-08T15:13:42.435668Z"
    }
   },
   "outputs": [],
   "source": [
    "import dowhy.datasets\n",
    "import dowhy.api\n",
    "\n",
    "import numpy as np\n",
    "import pandas as pd\n",
    "\n",
    "from statsmodels.api import OLS"
   ]
  },
  {
   "cell_type": "code",
   "execution_count": 2,
   "metadata": {
    "execution": {
     "iopub.execute_input": "2023-02-08T15:13:42.440654Z",
     "iopub.status.busy": "2023-02-08T15:13:42.439931Z",
     "iopub.status.idle": "2023-02-08T15:13:42.485485Z",
     "shell.execute_reply": "2023-02-08T15:13:42.484631Z"
    }
   },
   "outputs": [
    {
     "data": {
      "text/html": [
       "<div>\n",
       "<style scoped>\n",
       "    .dataframe tbody tr th:only-of-type {\n",
       "        vertical-align: middle;\n",
       "    }\n",
       "\n",
       "    .dataframe tbody tr th {\n",
       "        vertical-align: top;\n",
       "    }\n",
       "\n",
       "    .dataframe thead th {\n",
       "        text-align: right;\n",
       "    }\n",
       "</style>\n",
       "<table border=\"1\" class=\"dataframe\">\n",
       "  <thead>\n",
       "    <tr style=\"text-align: right;\">\n",
       "      <th></th>\n",
       "      <th>W0</th>\n",
       "      <th>v0</th>\n",
       "      <th>y</th>\n",
       "    </tr>\n",
       "  </thead>\n",
       "  <tbody>\n",
       "    <tr>\n",
       "      <th>0</th>\n",
       "      <td>-0.179870</td>\n",
       "      <td>False</td>\n",
       "      <td>2.352941</td>\n",
       "    </tr>\n",
       "    <tr>\n",
       "      <th>1</th>\n",
       "      <td>1.091804</td>\n",
       "      <td>True</td>\n",
       "      <td>5.020821</td>\n",
       "    </tr>\n",
       "    <tr>\n",
       "      <th>2</th>\n",
       "      <td>-1.425131</td>\n",
       "      <td>False</td>\n",
       "      <td>-1.004849</td>\n",
       "    </tr>\n",
       "    <tr>\n",
       "      <th>3</th>\n",
       "      <td>1.232988</td>\n",
       "      <td>True</td>\n",
       "      <td>7.471564</td>\n",
       "    </tr>\n",
       "    <tr>\n",
       "      <th>4</th>\n",
       "      <td>0.386888</td>\n",
       "      <td>True</td>\n",
       "      <td>6.457970</td>\n",
       "    </tr>\n",
       "    <tr>\n",
       "      <th>...</th>\n",
       "      <td>...</td>\n",
       "      <td>...</td>\n",
       "      <td>...</td>\n",
       "    </tr>\n",
       "    <tr>\n",
       "      <th>995</th>\n",
       "      <td>-0.552839</td>\n",
       "      <td>True</td>\n",
       "      <td>5.027234</td>\n",
       "    </tr>\n",
       "    <tr>\n",
       "      <th>996</th>\n",
       "      <td>-1.196430</td>\n",
       "      <td>False</td>\n",
       "      <td>0.195735</td>\n",
       "    </tr>\n",
       "    <tr>\n",
       "      <th>997</th>\n",
       "      <td>-0.325908</td>\n",
       "      <td>False</td>\n",
       "      <td>-1.952912</td>\n",
       "    </tr>\n",
       "    <tr>\n",
       "      <th>998</th>\n",
       "      <td>0.654461</td>\n",
       "      <td>True</td>\n",
       "      <td>5.025176</td>\n",
       "    </tr>\n",
       "    <tr>\n",
       "      <th>999</th>\n",
       "      <td>-0.981995</td>\n",
       "      <td>False</td>\n",
       "      <td>-0.060593</td>\n",
       "    </tr>\n",
       "  </tbody>\n",
       "</table>\n",
       "<p>1000 rows × 3 columns</p>\n",
       "</div>"
      ],
      "text/plain": [
       "           W0     v0         y\n",
       "0   -0.179870  False  2.352941\n",
       "1    1.091804   True  5.020821\n",
       "2   -1.425131  False -1.004849\n",
       "3    1.232988   True  7.471564\n",
       "4    0.386888   True  6.457970\n",
       "..        ...    ...       ...\n",
       "995 -0.552839   True  5.027234\n",
       "996 -1.196430  False  0.195735\n",
       "997 -0.325908  False -1.952912\n",
       "998  0.654461   True  5.025176\n",
       "999 -0.981995  False -0.060593\n",
       "\n",
       "[1000 rows x 3 columns]"
      ]
     },
     "execution_count": 2,
     "metadata": {},
     "output_type": "execute_result"
    }
   ],
   "source": [
    "data = dowhy.datasets.linear_dataset(beta=5,\n",
    "        num_common_causes=1,\n",
    "        num_instruments = 0,\n",
    "        num_samples=1000,\n",
    "        treatment_is_binary=True)\n",
    "df = data['df']\n",
    "df['y'] = df['y'] + np.random.normal(size=len(df)) # Adding noise to data. Without noise, the variance in Y|X, Z is zero, and mcmc fails.\n",
    "#data['dot_graph'] = 'digraph { v ->y;X0-> v;X0-> y;}'\n",
    "\n",
    "treatment= data[\"treatment_name\"][0]\n",
    "outcome = data[\"outcome_name\"][0]\n",
    "common_cause = data[\"common_causes_names\"][0]\n",
    "df"
   ]
  },
  {
   "cell_type": "code",
   "execution_count": 3,
   "metadata": {
    "execution": {
     "iopub.execute_input": "2023-02-08T15:13:42.488801Z",
     "iopub.status.busy": "2023-02-08T15:13:42.488393Z",
     "iopub.status.idle": "2023-02-08T15:13:42.784548Z",
     "shell.execute_reply": "2023-02-08T15:13:42.783894Z"
    }
   },
   "outputs": [
    {
     "data": {
      "text/plain": [
       "<AxesSubplot: xlabel='v0'>"
      ]
     },
     "execution_count": 3,
     "metadata": {},
     "output_type": "execute_result"
    },
    {
     "data": {
      "image/png": "[encoded data removed]",
      "text/plain": [
       "<Figure size 640x480 with 1 Axes>"
      ]
     },
     "metadata": {},
     "output_type": "display_data"
    }
   ],
   "source": [
    "# data['df'] is just a regular pandas.DataFrame\n",
    "df.causal.do(x=treatment,\n",
    "                     variable_types={treatment: 'b', outcome: 'c', common_cause: 'c'},\n",
    "                     outcome=outcome,\n",
    "                     common_causes=[common_cause],\n",
    "                     proceed_when_unidentifiable=True).groupby(treatment).mean().plot(y=outcome, kind='bar')"
   ]
  },
  {
   "cell_type": "code",
   "execution_count": 4,
   "metadata": {
    "execution": {
     "iopub.execute_input": "2023-02-08T15:13:42.787978Z",
     "iopub.status.busy": "2023-02-08T15:13:42.787358Z",
     "iopub.status.idle": "2023-02-08T15:13:42.912086Z",
     "shell.execute_reply": "2023-02-08T15:13:42.911414Z"
    }
   },
   "outputs": [
    {
     "data": {
      "text/plain": [
       "<AxesSubplot: xlabel='v0'>"
      ]
     },
     "execution_count": 4,
     "metadata": {},
     "output_type": "execute_result"
    },
    {
     "data": {
      "image/png": "[encoded data removed]",
      "text/plain": [
       "<Figure size 640x480 with 1 Axes>"
      ]
     },
     "metadata": {},
     "output_type": "display_data"
    }
   ],
   "source": [
    "df.causal.do(x={treatment: 1}, \n",
    "              variable_types={treatment:'b', outcome: 'c', common_cause: 'c'}, \n",
    "              outcome=outcome,\n",
    "              method='weighting', \n",
    "              common_causes=[common_cause],\n",
    "              proceed_when_unidentifiable=True).groupby(treatment).mean().plot(y=outcome, kind='bar')"
   ]
  },
  {
   "cell_type": "code",
   "execution_count": 5,
   "metadata": {
    "execution": {
     "iopub.execute_input": "2023-02-08T15:13:42.916676Z",
     "iopub.status.busy": "2023-02-08T15:13:42.915557Z",
     "iopub.status.idle": "2023-02-08T15:13:42.949300Z",
     "shell.execute_reply": "2023-02-08T15:13:42.948657Z"
    }
   },
   "outputs": [],
   "source": [
    "cdf_1 = df.causal.do(x={treatment: 1}, \n",
    "              variable_types={treatment: 'b', outcome: 'c', common_cause: 'c'}, \n",
    "              outcome=outcome, \n",
    "              dot_graph=data['dot_graph'],\n",
    "              proceed_when_unidentifiable=True)\n",
    "\n",
    "cdf_0 = df.causal.do(x={treatment: 0}, \n",
    "              variable_types={treatment: 'b', outcome: 'c', common_cause: 'c'}, \n",
    "              outcome=outcome, \n",
    "              dot_graph=data['dot_graph'],\n",
    "              proceed_when_unidentifiable=True)\n"
   ]
  },
  {
   "cell_type": "code",
   "execution_count": 6,
   "metadata": {
    "execution": {
     "iopub.execute_input": "2023-02-08T15:13:42.954171Z",
     "iopub.status.busy": "2023-02-08T15:13:42.953044Z",
     "iopub.status.idle": "2023-02-08T15:13:42.966112Z",
     "shell.execute_reply": "2023-02-08T15:13:42.965563Z"
    },
    "scrolled": true
   },
   "outputs": [
    {
     "data": {
      "text/html": [
       "<div>\n",
       "<style scoped>\n",
       "    .dataframe tbody tr th:only-of-type {\n",
       "        vertical-align: middle;\n",
       "    }\n",
       "\n",
       "    .dataframe tbody tr th {\n",
       "        vertical-align: top;\n",
       "    }\n",
       "\n",
       "    .dataframe thead th {\n",
       "        text-align: right;\n",
       "    }\n",
       "</style>\n",
       "<table border=\"1\" class=\"dataframe\">\n",
       "  <thead>\n",
       "    <tr style=\"text-align: right;\">\n",
       "      <th></th>\n",
       "      <th>W0</th>\n",
       "      <th>v0</th>\n",
       "      <th>y</th>\n",
       "      <th>propensity_score</th>\n",
       "      <th>weight</th>\n",
       "    </tr>\n",
       "  </thead>\n",
       "  <tbody>\n",
       "    <tr>\n",
       "      <th>0</th>\n",
       "      <td>-0.485169</td>\n",
       "      <td>False</td>\n",
       "      <td>-0.729670</td>\n",
       "      <td>0.671205</td>\n",
       "      <td>1.489857</td>\n",
       "    </tr>\n",
       "    <tr>\n",
       "      <th>1</th>\n",
       "      <td>-0.874488</td>\n",
       "      <td>False</td>\n",
       "      <td>-0.205620</td>\n",
       "      <td>0.771717</td>\n",
       "      <td>1.295811</td>\n",
       "    </tr>\n",
       "    <tr>\n",
       "      <th>2</th>\n",
       "      <td>-0.800464</td>\n",
       "      <td>False</td>\n",
       "      <td>-0.657890</td>\n",
       "      <td>0.754384</td>\n",
       "      <td>1.325586</td>\n",
       "    </tr>\n",
       "    <tr>\n",
       "      <th>3</th>\n",
       "      <td>1.855258</td>\n",
       "      <td>False</td>\n",
       "      <td>-1.045349</td>\n",
       "      <td>0.089598</td>\n",
       "      <td>11.161023</td>\n",
       "    </tr>\n",
       "    <tr>\n",
       "      <th>4</th>\n",
       "      <td>-1.118811</td>\n",
       "      <td>False</td>\n",
       "      <td>0.962792</td>\n",
       "      <td>0.822674</td>\n",
       "      <td>1.215548</td>\n",
       "    </tr>\n",
       "    <tr>\n",
       "      <th>...</th>\n",
       "      <td>...</td>\n",
       "      <td>...</td>\n",
       "      <td>...</td>\n",
       "      <td>...</td>\n",
       "      <td>...</td>\n",
       "    </tr>\n",
       "    <tr>\n",
       "      <th>995</th>\n",
       "      <td>0.096517</td>\n",
       "      <td>False</td>\n",
       "      <td>-0.230260</td>\n",
       "      <td>0.490007</td>\n",
       "      <td>2.040787</td>\n",
       "    </tr>\n",
       "    <tr>\n",
       "      <th>996</th>\n",
       "      <td>0.613892</td>\n",
       "      <td>False</td>\n",
       "      <td>-1.827916</td>\n",
       "      <td>0.329538</td>\n",
       "      <td>3.034550</td>\n",
       "    </tr>\n",
       "    <tr>\n",
       "      <th>997</th>\n",
       "      <td>0.369880</td>\n",
       "      <td>False</td>\n",
       "      <td>0.467257</td>\n",
       "      <td>0.402721</td>\n",
       "      <td>2.483108</td>\n",
       "    </tr>\n",
       "    <tr>\n",
       "      <th>998</th>\n",
       "      <td>0.360720</td>\n",
       "      <td>False</td>\n",
       "      <td>-1.648494</td>\n",
       "      <td>0.405579</td>\n",
       "      <td>2.465611</td>\n",
       "    </tr>\n",
       "    <tr>\n",
       "      <th>999</th>\n",
       "      <td>0.080103</td>\n",
       "      <td>False</td>\n",
       "      <td>1.559431</td>\n",
       "      <td>0.495322</td>\n",
       "      <td>2.018888</td>\n",
       "    </tr>\n",
       "  </tbody>\n",
       "</table>\n",
       "<p>1000 rows × 5 columns</p>\n",
       "</div>"
      ],
      "text/plain": [
       "           W0     v0         y  propensity_score     weight\n",
       "0   -0.485169  False -0.729670          0.671205   1.489857\n",
       "1   -0.874488  False -0.205620          0.771717   1.295811\n",
       "2   -0.800464  False -0.657890          0.754384   1.325586\n",
       "3    1.855258  False -1.045349          0.089598  11.161023\n",
       "4   -1.118811  False  0.962792          0.822674   1.215548\n",
       "..        ...    ...       ...               ...        ...\n",
       "995  0.096517  False -0.230260          0.490007   2.040787\n",
       "996  0.613892  False -1.827916          0.329538   3.034550\n",
       "997  0.369880  False  0.467257          0.402721   2.483108\n",
       "998  0.360720  False -1.648494          0.405579   2.465611\n",
       "999  0.080103  False  1.559431          0.495322   2.018888\n",
       "\n",
       "[1000 rows x 5 columns]"
      ]
     },
     "execution_count": 6,
     "metadata": {},
     "output_type": "execute_result"
    }
   ],
   "source": [
    "cdf_0"
   ]
  },
  {
   "cell_type": "code",
   "execution_count": 7,
   "metadata": {
    "execution": {
     "iopub.execute_input": "2023-02-08T15:13:42.970298Z",
     "iopub.status.busy": "2023-02-08T15:13:42.969226Z",
     "iopub.status.idle": "2023-02-08T15:13:42.981789Z",
     "shell.execute_reply": "2023-02-08T15:13:42.981242Z"
    }
   },
   "outputs": [
    {
     "data": {
      "text/html": [
       "<div>\n",
       "<style scoped>\n",
       "    .dataframe tbody tr th:only-of-type {\n",
       "        vertical-align: middle;\n",
       "    }\n",
       "\n",
       "    .dataframe tbody tr th {\n",
       "        vertical-align: top;\n",
       "    }\n",
       "\n",
       "    .dataframe thead th {\n",
       "        text-align: right;\n",
       "    }\n",
       "</style>\n",
       "<table border=\"1\" class=\"dataframe\">\n",
       "  <thead>\n",
       "    <tr style=\"text-align: right;\">\n",
       "      <th></th>\n",
       "      <th>W0</th>\n",
       "      <th>v0</th>\n",
       "      <th>y</th>\n",
       "      <th>propensity_score</th>\n",
       "      <th>weight</th>\n",
       "    </tr>\n",
       "  </thead>\n",
       "  <tbody>\n",
       "    <tr>\n",
       "      <th>0</th>\n",
       "      <td>-0.503011</td>\n",
       "      <td>True</td>\n",
       "      <td>4.897740</td>\n",
       "      <td>0.323714</td>\n",
       "      <td>3.089150</td>\n",
       "    </tr>\n",
       "    <tr>\n",
       "      <th>1</th>\n",
       "      <td>0.982050</td>\n",
       "      <td>True</td>\n",
       "      <td>5.434514</td>\n",
       "      <td>0.766249</td>\n",
       "      <td>1.305058</td>\n",
       "    </tr>\n",
       "    <tr>\n",
       "      <th>2</th>\n",
       "      <td>0.463243</td>\n",
       "      <td>True</td>\n",
       "      <td>6.210679</td>\n",
       "      <td>0.626001</td>\n",
       "      <td>1.597442</td>\n",
       "    </tr>\n",
       "    <tr>\n",
       "      <th>3</th>\n",
       "      <td>1.667946</td>\n",
       "      <td>True</td>\n",
       "      <td>4.871652</td>\n",
       "      <td>0.888537</td>\n",
       "      <td>1.125446</td>\n",
       "    </tr>\n",
       "    <tr>\n",
       "      <th>4</th>\n",
       "      <td>0.174277</td>\n",
       "      <td>True</td>\n",
       "      <td>4.800589</td>\n",
       "      <td>0.535122</td>\n",
       "      <td>1.868731</td>\n",
       "    </tr>\n",
       "    <tr>\n",
       "      <th>...</th>\n",
       "      <td>...</td>\n",
       "      <td>...</td>\n",
       "      <td>...</td>\n",
       "      <td>...</td>\n",
       "      <td>...</td>\n",
       "    </tr>\n",
       "    <tr>\n",
       "      <th>995</th>\n",
       "      <td>0.873019</td>\n",
       "      <td>True</td>\n",
       "      <td>4.697564</td>\n",
       "      <td>0.740005</td>\n",
       "      <td>1.351343</td>\n",
       "    </tr>\n",
       "    <tr>\n",
       "      <th>996</th>\n",
       "      <td>1.584807</td>\n",
       "      <td>True</td>\n",
       "      <td>6.157012</td>\n",
       "      <td>0.877414</td>\n",
       "      <td>1.139713</td>\n",
       "    </tr>\n",
       "    <tr>\n",
       "      <th>997</th>\n",
       "      <td>0.760098</td>\n",
       "      <td>True</td>\n",
       "      <td>6.038296</td>\n",
       "      <td>0.710887</td>\n",
       "      <td>1.406693</td>\n",
       "    </tr>\n",
       "    <tr>\n",
       "      <th>998</th>\n",
       "      <td>-0.077367</td>\n",
       "      <td>True</td>\n",
       "      <td>5.133788</td>\n",
       "      <td>0.453806</td>\n",
       "      <td>2.203583</td>\n",
       "    </tr>\n",
       "    <tr>\n",
       "      <th>999</th>\n",
       "      <td>-0.153838</td>\n",
       "      <td>True</td>\n",
       "      <td>3.636233</td>\n",
       "      <td>0.429381</td>\n",
       "      <td>2.328934</td>\n",
       "    </tr>\n",
       "  </tbody>\n",
       "</table>\n",
       "<p>1000 rows × 5 columns</p>\n",
       "</div>"
      ],
      "text/plain": [
       "           W0    v0         y  propensity_score    weight\n",
       "0   -0.503011  True  4.897740          0.323714  3.089150\n",
       "1    0.982050  True  5.434514          0.766249  1.305058\n",
       "2    0.463243  True  6.210679          0.626001  1.597442\n",
       "3    1.667946  True  4.871652          0.888537  1.125446\n",
       "4    0.174277  True  4.800589          0.535122  1.868731\n",
       "..        ...   ...       ...               ...       ...\n",
       "995  0.873019  True  4.697564          0.740005  1.351343\n",
       "996  1.584807  True  6.157012          0.877414  1.139713\n",
       "997  0.760098  True  6.038296          0.710887  1.406693\n",
       "998 -0.077367  True  5.133788          0.453806  2.203583\n",
       "999 -0.153838  True  3.636233          0.429381  2.328934\n",
       "\n",
       "[1000 rows x 5 columns]"
      ]
     },
     "execution_count": 7,
     "metadata": {},
     "output_type": "execute_result"
    }
   ],
   "source": [
    "cdf_1"
   ]
  },
  {
   "cell_type": "markdown",
   "metadata": {},
   "source": [
    "## Comparing the estimate to Linear Regression\n",
    "First, estimating the effect using the causal data frame, and the 95% confidence interval."
   ]
  },
  {
   "cell_type": "code",
   "execution_count": 8,
   "metadata": {
    "execution": {
     "iopub.execute_input": "2023-02-08T15:13:42.985949Z",
     "iopub.status.busy": "2023-02-08T15:13:42.984872Z",
     "iopub.status.idle": "2023-02-08T15:13:43.046124Z",
     "shell.execute_reply": "2023-02-08T15:13:43.045386Z"
    }
   },
   "outputs": [
    {
     "data": {
      "image/png": "[encoded data removed]",
      "text/latex": [
       "$\\displaystyle 5.04053227573757$"
      ],
      "text/plain": [
       "5.040532275737567"
      ]
     },
     "execution_count": 8,
     "metadata": {},
     "output_type": "execute_result"
    }
   ],
   "source": [
    "(cdf_1['y'] - cdf_0['y']).mean()"
   ]
  },
  {
   "cell_type": "code",
   "execution_count": 9,
   "metadata": {
    "execution": {
     "iopub.execute_input": "2023-02-08T15:13:43.049487Z",
     "iopub.status.busy": "2023-02-08T15:13:43.049026Z",
     "iopub.status.idle": "2023-02-08T15:13:43.072579Z",
     "shell.execute_reply": "2023-02-08T15:13:43.071921Z"
    }
   },
   "outputs": [
    {
     "data": {
      "image/png": "[encoded data removed]",
      "text/latex": [
       "$\\displaystyle 0.0904704361355615$"
      ],
      "text/plain": [
       "0.09047043613556152"
      ]
     },
     "execution_count": 9,
     "metadata": {},
     "output_type": "execute_result"
    }
   ],
   "source": [
    "1.96*(cdf_1['y'] - cdf_0['y']).std() / np.sqrt(len(df))"
   ]
  },
  {
   "cell_type": "markdown",
   "metadata": {},
   "source": [
    "Comparing to the estimate from OLS."
   ]
  },
  {
   "cell_type": "code",
   "execution_count": 10,
   "metadata": {
    "execution": {
     "iopub.execute_input": "2023-02-08T15:13:43.075724Z",
     "iopub.status.busy": "2023-02-08T15:13:43.075344Z",
     "iopub.status.idle": "2023-02-08T15:13:43.093694Z",
     "shell.execute_reply": "2023-02-08T15:13:43.093038Z"
    }
   },
   "outputs": [
    {
     "data": {
      "text/html": [
       "<table class=\"simpletable\">\n",
       "<caption>OLS Regression Results</caption>\n",
       "<tr>\n",
       "  <th>Dep. Variable:</th>            <td>y</td>        <th>  R-squared (uncentered):</th>      <td>   0.929</td>\n",
       "</tr>\n",
       "<tr>\n",
       "  <th>Model:</th>                   <td>OLS</td>       <th>  Adj. R-squared (uncentered):</th> <td>   0.929</td>\n",
       "</tr>\n",
       "<tr>\n",
       "  <th>Method:</th>             <td>Least Squares</td>  <th>  F-statistic:       </th>          <td>   6532.</td>\n",
       "</tr>\n",
       "<tr>\n",
       "  <th>Date:</th>             <td>Wed, 08 Feb 2023</td> <th>  Prob (F-statistic):</th>           <td>  0.00</td> \n",
       "</tr>\n",
       "<tr>\n",
       "  <th>Time:</th>                 <td>15:13:43</td>     <th>  Log-Likelihood:    </th>          <td> -1433.5</td>\n",
       "</tr>\n",
       "<tr>\n",
       "  <th>No. Observations:</th>      <td>  1000</td>      <th>  AIC:               </th>          <td>   2871.</td>\n",
       "</tr>\n",
       "<tr>\n",
       "  <th>Df Residuals:</th>          <td>   998</td>      <th>  BIC:               </th>          <td>   2881.</td>\n",
       "</tr>\n",
       "<tr>\n",
       "  <th>Df Model:</th>              <td>     2</td>      <th>                     </th>              <td> </td>   \n",
       "</tr>\n",
       "<tr>\n",
       "  <th>Covariance Type:</th>      <td>nonrobust</td>    <th>                     </th>              <td> </td>   \n",
       "</tr>\n",
       "</table>\n",
       "<table class=\"simpletable\">\n",
       "<tr>\n",
       "   <td></td>     <th>coef</th>     <th>std err</th>      <th>t</th>      <th>P>|t|</th>  <th>[0.025</th>    <th>0.975]</th>  \n",
       "</tr>\n",
       "<tr>\n",
       "  <th>x1</th> <td>    0.3761</td> <td>    0.036</td> <td>   10.402</td> <td> 0.000</td> <td>    0.305</td> <td>    0.447</td>\n",
       "</tr>\n",
       "<tr>\n",
       "  <th>x2</th> <td>    4.8851</td> <td>    0.050</td> <td>   98.590</td> <td> 0.000</td> <td>    4.788</td> <td>    4.982</td>\n",
       "</tr>\n",
       "</table>\n",
       "<table class=\"simpletable\">\n",
       "<tr>\n",
       "  <th>Omnibus:</th>       <td> 0.480</td> <th>  Durbin-Watson:     </th> <td>   1.924</td>\n",
       "</tr>\n",
       "<tr>\n",
       "  <th>Prob(Omnibus):</th> <td> 0.787</td> <th>  Jarque-Bera (JB):  </th> <td>   0.568</td>\n",
       "</tr>\n",
       "<tr>\n",
       "  <th>Skew:</th>          <td> 0.025</td> <th>  Prob(JB):          </th> <td>   0.753</td>\n",
       "</tr>\n",
       "<tr>\n",
       "  <th>Kurtosis:</th>      <td> 2.894</td> <th>  Cond. No.          </th> <td>    1.75</td>\n",
       "</tr>\n",
       "</table><br/><br/>Notes:<br/>[1] R² is computed without centering (uncentered) since the model does not contain a constant.<br/>[2] Standard Errors assume that the covariance matrix of the errors is correctly specified."
      ],
      "text/plain": [
       "<class 'statsmodels.iolib.summary.Summary'>\n",
       "\"\"\"\n",
       "                                 OLS Regression Results                                \n",
       "=======================================================================================\n",
       "Dep. Variable:                      y   R-squared (uncentered):                   0.929\n",
       "Model:                            OLS   Adj. R-squared (uncentered):              0.929\n",
       "Method:                 Least Squares   F-statistic:                              6532.\n",
       "Date:                Wed, 08 Feb 2023   Prob (F-statistic):                        0.00\n",
       "Time:                        15:13:43   Log-Likelihood:                         -1433.5\n",
       "No. Observations:                1000   AIC:                                      2871.\n",
       "Df Residuals:                     998   BIC:                                      2881.\n",
       "Df Model:                           2                                                  \n",
       "Covariance Type:            nonrobust                                                  \n",
       "==============================================================================\n",
       "                 coef    std err          t      P>|t|      [0.025      0.975]\n",
       "------------------------------------------------------------------------------\n",
       "x1             0.3761      0.036     10.402      0.000       0.305       0.447\n",
       "x2             4.8851      0.050     98.590      0.000       4.788       4.982\n",
       "==============================================================================\n",
       "Omnibus:                        0.480   Durbin-Watson:                   1.924\n",
       "Prob(Omnibus):                  0.787   Jarque-Bera (JB):                0.568\n",
       "Skew:                           0.025   Prob(JB):                        0.753\n",
       "Kurtosis:                       2.894   Cond. No.                         1.75\n",
       "==============================================================================\n",
       "\n",
       "Notes:\n",
       "[1] R² is computed without centering (uncentered) since the model does not contain a constant.\n",
       "[2] Standard Errors assume that the covariance matrix of the errors is correctly specified.\n",
       "\"\"\""
      ]
     },
     "execution_count": 10,
     "metadata": {},
     "output_type": "execute_result"
    }
   ],
   "source": [
    "model = OLS(np.asarray(df[outcome]), np.asarray(df[[common_cause, treatment]], dtype=np.float64))\n",
    "result = model.fit()\n",
    "result.summary()"
   ]
  }
 ],
 "metadata": {
  "kernelspec": {
   "display_name": "Python 3",
   "language": "python",
   "name": "python3"
  },
  "language_info": {
   "codemirror_mode": {
    "name": "ipython",
    "version": 3
   },
   "file_extension": ".py",
   "mimetype": "text/x-python",
   "name": "python",
   "nbconvert_exporter": "python",
   "pygments_lexer": "ipython3",
   "version": "3.8.10"
  },
  "toc": {
   "base_numbering": 1,
   "nav_menu": {},
   "number_sections": false,
   "sideBar": true,
   "skip_h1_title": true,
   "title_cell": "Table of Contents",
   "title_sidebar": "Contents",
   "toc_cell": false,
   "toc_position": {},
   "toc_section_display": true,
   "toc_window_display": false
  }
 },
 "nbformat": 4,
 "nbformat_minor": 4
}
