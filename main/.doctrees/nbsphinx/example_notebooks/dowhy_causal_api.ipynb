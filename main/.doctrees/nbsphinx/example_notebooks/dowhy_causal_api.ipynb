{
 "cells": [
  {
   "cell_type": "markdown",
   "metadata": {},
   "source": [
    "# Demo for the DoWhy causal API\n",
    "We show a simple example of adding a causal extension to any dataframe. "
   ]
  },
  {
   "cell_type": "code",
   "execution_count": 1,
   "metadata": {
    "execution": {
     "iopub.execute_input": "2023-11-17T15:19:55.114598Z",
     "iopub.status.busy": "2023-11-17T15:19:55.114427Z",
     "iopub.status.idle": "2023-11-17T15:19:56.563943Z",
     "shell.execute_reply": "2023-11-17T15:19:56.563283Z"
    }
   },
   "outputs": [],
   "source": [
    "import dowhy.datasets\n",
    "import dowhy.api\n",
    "\n",
    "import numpy as np\n",
    "import pandas as pd\n",
    "\n",
    "from statsmodels.api import OLS"
   ]
  },
  {
   "cell_type": "code",
   "execution_count": 2,
   "metadata": {
    "execution": {
     "iopub.execute_input": "2023-11-17T15:19:56.566966Z",
     "iopub.status.busy": "2023-11-17T15:19:56.566523Z",
     "iopub.status.idle": "2023-11-17T15:19:56.603561Z",
     "shell.execute_reply": "2023-11-17T15:19:56.602910Z"
    }
   },
   "outputs": [
    {
     "data": {
      "text/html": [
       "<div>\n",
       "<style scoped>\n",
       "    .dataframe tbody tr th:only-of-type {\n",
       "        vertical-align: middle;\n",
       "    }\n",
       "\n",
       "    .dataframe tbody tr th {\n",
       "        vertical-align: top;\n",
       "    }\n",
       "\n",
       "    .dataframe thead th {\n",
       "        text-align: right;\n",
       "    }\n",
       "</style>\n",
       "<table border=\"1\" class=\"dataframe\">\n",
       "  <thead>\n",
       "    <tr style=\"text-align: right;\">\n",
       "      <th></th>\n",
       "      <th>W0</th>\n",
       "      <th>v0</th>\n",
       "      <th>y</th>\n",
       "    </tr>\n",
       "  </thead>\n",
       "  <tbody>\n",
       "    <tr>\n",
       "      <th>0</th>\n",
       "      <td>1.076658</td>\n",
       "      <td>True</td>\n",
       "      <td>7.010103</td>\n",
       "    </tr>\n",
       "    <tr>\n",
       "      <th>1</th>\n",
       "      <td>-0.818287</td>\n",
       "      <td>True</td>\n",
       "      <td>4.144617</td>\n",
       "    </tr>\n",
       "    <tr>\n",
       "      <th>2</th>\n",
       "      <td>-1.357600</td>\n",
       "      <td>False</td>\n",
       "      <td>-1.411497</td>\n",
       "    </tr>\n",
       "    <tr>\n",
       "      <th>3</th>\n",
       "      <td>-0.551434</td>\n",
       "      <td>False</td>\n",
       "      <td>-2.106658</td>\n",
       "    </tr>\n",
       "    <tr>\n",
       "      <th>4</th>\n",
       "      <td>0.375440</td>\n",
       "      <td>True</td>\n",
       "      <td>5.472941</td>\n",
       "    </tr>\n",
       "    <tr>\n",
       "      <th>...</th>\n",
       "      <td>...</td>\n",
       "      <td>...</td>\n",
       "      <td>...</td>\n",
       "    </tr>\n",
       "    <tr>\n",
       "      <th>995</th>\n",
       "      <td>-0.248874</td>\n",
       "      <td>False</td>\n",
       "      <td>0.537685</td>\n",
       "    </tr>\n",
       "    <tr>\n",
       "      <th>996</th>\n",
       "      <td>-1.450443</td>\n",
       "      <td>True</td>\n",
       "      <td>3.566526</td>\n",
       "    </tr>\n",
       "    <tr>\n",
       "      <th>997</th>\n",
       "      <td>0.986650</td>\n",
       "      <td>True</td>\n",
       "      <td>4.553716</td>\n",
       "    </tr>\n",
       "    <tr>\n",
       "      <th>998</th>\n",
       "      <td>-1.470916</td>\n",
       "      <td>True</td>\n",
       "      <td>3.384282</td>\n",
       "    </tr>\n",
       "    <tr>\n",
       "      <th>999</th>\n",
       "      <td>-0.053273</td>\n",
       "      <td>True</td>\n",
       "      <td>6.718104</td>\n",
       "    </tr>\n",
       "  </tbody>\n",
       "</table>\n",
       "<p>1000 rows × 3 columns</p>\n",
       "</div>"
      ],
      "text/plain": [
       "           W0     v0         y\n",
       "0    1.076658   True  7.010103\n",
       "1   -0.818287   True  4.144617\n",
       "2   -1.357600  False -1.411497\n",
       "3   -0.551434  False -2.106658\n",
       "4    0.375440   True  5.472941\n",
       "..        ...    ...       ...\n",
       "995 -0.248874  False  0.537685\n",
       "996 -1.450443   True  3.566526\n",
       "997  0.986650   True  4.553716\n",
       "998 -1.470916   True  3.384282\n",
       "999 -0.053273   True  6.718104\n",
       "\n",
       "[1000 rows x 3 columns]"
      ]
     },
     "execution_count": 2,
     "metadata": {},
     "output_type": "execute_result"
    }
   ],
   "source": [
    "data = dowhy.datasets.linear_dataset(beta=5,\n",
    "        num_common_causes=1,\n",
    "        num_instruments = 0,\n",
    "        num_samples=1000,\n",
    "        treatment_is_binary=True)\n",
    "df = data['df']\n",
    "df['y'] = df['y'] + np.random.normal(size=len(df)) # Adding noise to data. Without noise, the variance in Y|X, Z is zero, and mcmc fails.\n",
    "#data['dot_graph'] = 'digraph { v ->y;X0-> v;X0-> y;}'\n",
    "\n",
    "treatment= data[\"treatment_name\"][0]\n",
    "outcome = data[\"outcome_name\"][0]\n",
    "common_cause = data[\"common_causes_names\"][0]\n",
    "df"
   ]
  },
  {
   "cell_type": "code",
   "execution_count": 3,
   "metadata": {
    "execution": {
     "iopub.execute_input": "2023-11-17T15:19:56.606087Z",
     "iopub.status.busy": "2023-11-17T15:19:56.605724Z",
     "iopub.status.idle": "2023-11-17T15:19:56.792259Z",
     "shell.execute_reply": "2023-11-17T15:19:56.791608Z"
    }
   },
   "outputs": [
    {
     "data": {
      "text/plain": [
       "<Axes: xlabel='v0'>"
      ]
     },
     "execution_count": 3,
     "metadata": {},
     "output_type": "execute_result"
    },
    {
     "data": {
      "image/png": "[encoded data removed]",
      "text/plain": [
       "<Figure size 640x480 with 1 Axes>"
      ]
     },
     "metadata": {},
     "output_type": "display_data"
    }
   ],
   "source": [
    "# data['df'] is just a regular pandas.DataFrame\n",
    "df.causal.do(x=treatment,\n",
    "                     variable_types={treatment: 'b', outcome: 'c', common_cause: 'c'},\n",
    "                     outcome=outcome,\n",
    "                     common_causes=[common_cause],\n",
    "                     proceed_when_unidentifiable=True).groupby(treatment).mean().plot(y=outcome, kind='bar')"
   ]
  },
  {
   "cell_type": "code",
   "execution_count": 4,
   "metadata": {
    "execution": {
     "iopub.execute_input": "2023-11-17T15:19:56.794968Z",
     "iopub.status.busy": "2023-11-17T15:19:56.794576Z",
     "iopub.status.idle": "2023-11-17T15:19:56.932914Z",
     "shell.execute_reply": "2023-11-17T15:19:56.932238Z"
    }
   },
   "outputs": [
    {
     "data": {
      "text/plain": [
       "<Axes: xlabel='v0'>"
      ]
     },
     "execution_count": 4,
     "metadata": {},
     "output_type": "execute_result"
    },
    {
     "data": {
      "image/png": "[encoded data removed]",
      "text/plain": [
       "<Figure size 640x480 with 1 Axes>"
      ]
     },
     "metadata": {},
     "output_type": "display_data"
    }
   ],
   "source": [
    "df.causal.do(x={treatment: 1}, \n",
    "              variable_types={treatment:'b', outcome: 'c', common_cause: 'c'}, \n",
    "              outcome=outcome,\n",
    "              method='weighting', \n",
    "              common_causes=[common_cause],\n",
    "              proceed_when_unidentifiable=True).groupby(treatment).mean().plot(y=outcome, kind='bar')"
   ]
  },
  {
   "cell_type": "code",
   "execution_count": 5,
   "metadata": {
    "execution": {
     "iopub.execute_input": "2023-11-17T15:19:56.935462Z",
     "iopub.status.busy": "2023-11-17T15:19:56.935035Z",
     "iopub.status.idle": "2023-11-17T15:19:56.962744Z",
     "shell.execute_reply": "2023-11-17T15:19:56.962198Z"
    }
   },
   "outputs": [],
   "source": [
    "cdf_1 = df.causal.do(x={treatment: 1}, \n",
    "              variable_types={treatment: 'b', outcome: 'c', common_cause: 'c'}, \n",
    "              outcome=outcome, \n",
    "              dot_graph=data['dot_graph'],\n",
    "              proceed_when_unidentifiable=True)\n",
    "\n",
    "cdf_0 = df.causal.do(x={treatment: 0}, \n",
    "              variable_types={treatment: 'b', outcome: 'c', common_cause: 'c'}, \n",
    "              outcome=outcome, \n",
    "              dot_graph=data['dot_graph'],\n",
    "              proceed_when_unidentifiable=True)\n"
   ]
  },
  {
   "cell_type": "code",
   "execution_count": 6,
   "metadata": {
    "execution": {
     "iopub.execute_input": "2023-11-17T15:19:56.965450Z",
     "iopub.status.busy": "2023-11-17T15:19:56.965069Z",
     "iopub.status.idle": "2023-11-17T15:19:56.974391Z",
     "shell.execute_reply": "2023-11-17T15:19:56.973768Z"
    },
    "scrolled": true
   },
   "outputs": [
    {
     "data": {
      "text/html": [
       "<div>\n",
       "<style scoped>\n",
       "    .dataframe tbody tr th:only-of-type {\n",
       "        vertical-align: middle;\n",
       "    }\n",
       "\n",
       "    .dataframe tbody tr th {\n",
       "        vertical-align: top;\n",
       "    }\n",
       "\n",
       "    .dataframe thead th {\n",
       "        text-align: right;\n",
       "    }\n",
       "</style>\n",
       "<table border=\"1\" class=\"dataframe\">\n",
       "  <thead>\n",
       "    <tr style=\"text-align: right;\">\n",
       "      <th></th>\n",
       "      <th>W0</th>\n",
       "      <th>v0</th>\n",
       "      <th>y</th>\n",
       "      <th>propensity_score</th>\n",
       "      <th>weight</th>\n",
       "    </tr>\n",
       "  </thead>\n",
       "  <tbody>\n",
       "    <tr>\n",
       "      <th>0</th>\n",
       "      <td>-1.023610</td>\n",
       "      <td>False</td>\n",
       "      <td>-1.910086</td>\n",
       "      <td>0.642354</td>\n",
       "      <td>1.556774</td>\n",
       "    </tr>\n",
       "    <tr>\n",
       "      <th>1</th>\n",
       "      <td>-1.403685</td>\n",
       "      <td>False</td>\n",
       "      <td>-1.900697</td>\n",
       "      <td>0.685734</td>\n",
       "      <td>1.458291</td>\n",
       "    </tr>\n",
       "    <tr>\n",
       "      <th>2</th>\n",
       "      <td>0.400229</td>\n",
       "      <td>False</td>\n",
       "      <td>0.036046</td>\n",
       "      <td>0.464156</td>\n",
       "      <td>2.154449</td>\n",
       "    </tr>\n",
       "    <tr>\n",
       "      <th>3</th>\n",
       "      <td>-0.480230</td>\n",
       "      <td>False</td>\n",
       "      <td>0.553328</td>\n",
       "      <td>0.576227</td>\n",
       "      <td>1.735427</td>\n",
       "    </tr>\n",
       "    <tr>\n",
       "      <th>4</th>\n",
       "      <td>-0.666446</td>\n",
       "      <td>False</td>\n",
       "      <td>-1.625224</td>\n",
       "      <td>0.599330</td>\n",
       "      <td>1.668530</td>\n",
       "    </tr>\n",
       "    <tr>\n",
       "      <th>...</th>\n",
       "      <td>...</td>\n",
       "      <td>...</td>\n",
       "      <td>...</td>\n",
       "      <td>...</td>\n",
       "      <td>...</td>\n",
       "    </tr>\n",
       "    <tr>\n",
       "      <th>995</th>\n",
       "      <td>-0.136659</td>\n",
       "      <td>False</td>\n",
       "      <td>0.117727</td>\n",
       "      <td>0.532789</td>\n",
       "      <td>1.876916</td>\n",
       "    </tr>\n",
       "    <tr>\n",
       "      <th>996</th>\n",
       "      <td>-0.069062</td>\n",
       "      <td>False</td>\n",
       "      <td>-1.138095</td>\n",
       "      <td>0.524162</td>\n",
       "      <td>1.907806</td>\n",
       "    </tr>\n",
       "    <tr>\n",
       "      <th>997</th>\n",
       "      <td>0.081842</td>\n",
       "      <td>False</td>\n",
       "      <td>2.040245</td>\n",
       "      <td>0.504860</td>\n",
       "      <td>1.980749</td>\n",
       "    </tr>\n",
       "    <tr>\n",
       "      <th>998</th>\n",
       "      <td>0.046378</td>\n",
       "      <td>False</td>\n",
       "      <td>0.123123</td>\n",
       "      <td>0.509399</td>\n",
       "      <td>1.963097</td>\n",
       "    </tr>\n",
       "    <tr>\n",
       "      <th>999</th>\n",
       "      <td>0.682291</td>\n",
       "      <td>False</td>\n",
       "      <td>-0.016474</td>\n",
       "      <td>0.428474</td>\n",
       "      <td>2.333866</td>\n",
       "    </tr>\n",
       "  </tbody>\n",
       "</table>\n",
       "<p>1000 rows × 5 columns</p>\n",
       "</div>"
      ],
      "text/plain": [
       "           W0     v0         y  propensity_score    weight\n",
       "0   -1.023610  False -1.910086          0.642354  1.556774\n",
       "1   -1.403685  False -1.900697          0.685734  1.458291\n",
       "2    0.400229  False  0.036046          0.464156  2.154449\n",
       "3   -0.480230  False  0.553328          0.576227  1.735427\n",
       "4   -0.666446  False -1.625224          0.599330  1.668530\n",
       "..        ...    ...       ...               ...       ...\n",
       "995 -0.136659  False  0.117727          0.532789  1.876916\n",
       "996 -0.069062  False -1.138095          0.524162  1.907806\n",
       "997  0.081842  False  2.040245          0.504860  1.980749\n",
       "998  0.046378  False  0.123123          0.509399  1.963097\n",
       "999  0.682291  False -0.016474          0.428474  2.333866\n",
       "\n",
       "[1000 rows x 5 columns]"
      ]
     },
     "execution_count": 6,
     "metadata": {},
     "output_type": "execute_result"
    }
   ],
   "source": [
    "cdf_0"
   ]
  },
  {
   "cell_type": "code",
   "execution_count": 7,
   "metadata": {
    "execution": {
     "iopub.execute_input": "2023-11-17T15:19:56.976652Z",
     "iopub.status.busy": "2023-11-17T15:19:56.976464Z",
     "iopub.status.idle": "2023-11-17T15:19:56.985454Z",
     "shell.execute_reply": "2023-11-17T15:19:56.984880Z"
    }
   },
   "outputs": [
    {
     "data": {
      "text/html": [
       "<div>\n",
       "<style scoped>\n",
       "    .dataframe tbody tr th:only-of-type {\n",
       "        vertical-align: middle;\n",
       "    }\n",
       "\n",
       "    .dataframe tbody tr th {\n",
       "        vertical-align: top;\n",
       "    }\n",
       "\n",
       "    .dataframe thead th {\n",
       "        text-align: right;\n",
       "    }\n",
       "</style>\n",
       "<table border=\"1\" class=\"dataframe\">\n",
       "  <thead>\n",
       "    <tr style=\"text-align: right;\">\n",
       "      <th></th>\n",
       "      <th>W0</th>\n",
       "      <th>v0</th>\n",
       "      <th>y</th>\n",
       "      <th>propensity_score</th>\n",
       "      <th>weight</th>\n",
       "    </tr>\n",
       "  </thead>\n",
       "  <tbody>\n",
       "    <tr>\n",
       "      <th>0</th>\n",
       "      <td>0.538058</td>\n",
       "      <td>True</td>\n",
       "      <td>6.404222</td>\n",
       "      <td>0.553349</td>\n",
       "      <td>1.807177</td>\n",
       "    </tr>\n",
       "    <tr>\n",
       "      <th>1</th>\n",
       "      <td>-0.636204</td>\n",
       "      <td>True</td>\n",
       "      <td>3.867249</td>\n",
       "      <td>0.404395</td>\n",
       "      <td>2.472830</td>\n",
       "    </tr>\n",
       "    <tr>\n",
       "      <th>2</th>\n",
       "      <td>-1.356975</td>\n",
       "      <td>True</td>\n",
       "      <td>3.226207</td>\n",
       "      <td>0.319444</td>\n",
       "      <td>3.130441</td>\n",
       "    </tr>\n",
       "    <tr>\n",
       "      <th>3</th>\n",
       "      <td>1.200055</td>\n",
       "      <td>True</td>\n",
       "      <td>5.435784</td>\n",
       "      <td>0.634890</td>\n",
       "      <td>1.575076</td>\n",
       "    </tr>\n",
       "    <tr>\n",
       "      <th>4</th>\n",
       "      <td>-1.148039</td>\n",
       "      <td>True</td>\n",
       "      <td>4.261587</td>\n",
       "      <td>0.343142</td>\n",
       "      <td>2.914243</td>\n",
       "    </tr>\n",
       "    <tr>\n",
       "      <th>...</th>\n",
       "      <td>...</td>\n",
       "      <td>...</td>\n",
       "      <td>...</td>\n",
       "      <td>...</td>\n",
       "      <td>...</td>\n",
       "    </tr>\n",
       "    <tr>\n",
       "      <th>995</th>\n",
       "      <td>-0.025496</td>\n",
       "      <td>True</td>\n",
       "      <td>3.985763</td>\n",
       "      <td>0.481406</td>\n",
       "      <td>2.077250</td>\n",
       "    </tr>\n",
       "    <tr>\n",
       "      <th>996</th>\n",
       "      <td>-1.137647</td>\n",
       "      <td>True</td>\n",
       "      <td>4.087798</td>\n",
       "      <td>0.344343</td>\n",
       "      <td>2.904082</td>\n",
       "    </tr>\n",
       "    <tr>\n",
       "      <th>997</th>\n",
       "      <td>-1.775961</td>\n",
       "      <td>True</td>\n",
       "      <td>2.899828</td>\n",
       "      <td>0.274699</td>\n",
       "      <td>3.640353</td>\n",
       "    </tr>\n",
       "    <tr>\n",
       "      <th>998</th>\n",
       "      <td>-0.575907</td>\n",
       "      <td>True</td>\n",
       "      <td>3.660153</td>\n",
       "      <td>0.411854</td>\n",
       "      <td>2.428043</td>\n",
       "    </tr>\n",
       "    <tr>\n",
       "      <th>999</th>\n",
       "      <td>-0.931728</td>\n",
       "      <td>True</td>\n",
       "      <td>5.086811</td>\n",
       "      <td>0.368528</td>\n",
       "      <td>2.713501</td>\n",
       "    </tr>\n",
       "  </tbody>\n",
       "</table>\n",
       "<p>1000 rows × 5 columns</p>\n",
       "</div>"
      ],
      "text/plain": [
       "           W0    v0         y  propensity_score    weight\n",
       "0    0.538058  True  6.404222          0.553349  1.807177\n",
       "1   -0.636204  True  3.867249          0.404395  2.472830\n",
       "2   -1.356975  True  3.226207          0.319444  3.130441\n",
       "3    1.200055  True  5.435784          0.634890  1.575076\n",
       "4   -1.148039  True  4.261587          0.343142  2.914243\n",
       "..        ...   ...       ...               ...       ...\n",
       "995 -0.025496  True  3.985763          0.481406  2.077250\n",
       "996 -1.137647  True  4.087798          0.344343  2.904082\n",
       "997 -1.775961  True  2.899828          0.274699  3.640353\n",
       "998 -0.575907  True  3.660153          0.411854  2.428043\n",
       "999 -0.931728  True  5.086811          0.368528  2.713501\n",
       "\n",
       "[1000 rows x 5 columns]"
      ]
     },
     "execution_count": 7,
     "metadata": {},
     "output_type": "execute_result"
    }
   ],
   "source": [
    "cdf_1"
   ]
  },
  {
   "cell_type": "markdown",
   "metadata": {},
   "source": [
    "## Comparing the estimate to Linear Regression\n",
    "First, estimating the effect using the causal data frame, and the 95% confidence interval."
   ]
  },
  {
   "cell_type": "code",
   "execution_count": 8,
   "metadata": {
    "execution": {
     "iopub.execute_input": "2023-11-17T15:19:56.987666Z",
     "iopub.status.busy": "2023-11-17T15:19:56.987477Z",
     "iopub.status.idle": "2023-11-17T15:19:57.035773Z",
     "shell.execute_reply": "2023-11-17T15:19:57.035113Z"
    }
   },
   "outputs": [
    {
     "data": {
      "image/png": "[encoded data removed]",
      "text/latex": [
       "$\\displaystyle 4.95026035580502$"
      ],
      "text/plain": [
       "4.950260355805025"
      ]
     },
     "execution_count": 8,
     "metadata": {},
     "output_type": "execute_result"
    }
   ],
   "source": [
    "(cdf_1['y'] - cdf_0['y']).mean()"
   ]
  },
  {
   "cell_type": "code",
   "execution_count": 9,
   "metadata": {
    "execution": {
     "iopub.execute_input": "2023-11-17T15:19:57.038330Z",
     "iopub.status.busy": "2023-11-17T15:19:57.037962Z",
     "iopub.status.idle": "2023-11-17T15:19:57.056339Z",
     "shell.execute_reply": "2023-11-17T15:19:57.055730Z"
    }
   },
   "outputs": [
    {
     "data": {
      "image/png": "[encoded data removed]",
      "text/latex": [
       "$\\displaystyle 0.125472148232469$"
      ],
      "text/plain": [
       "0.12547214823246935"
      ]
     },
     "execution_count": 9,
     "metadata": {},
     "output_type": "execute_result"
    }
   ],
   "source": [
    "1.96*(cdf_1['y'] - cdf_0['y']).std() / np.sqrt(len(df))"
   ]
  },
  {
   "cell_type": "markdown",
   "metadata": {},
   "source": [
    "Comparing to the estimate from OLS."
   ]
  },
  {
   "cell_type": "code",
   "execution_count": 10,
   "metadata": {
    "execution": {
     "iopub.execute_input": "2023-11-17T15:19:57.058862Z",
     "iopub.status.busy": "2023-11-17T15:19:57.058495Z",
     "iopub.status.idle": "2023-11-17T15:19:57.077828Z",
     "shell.execute_reply": "2023-11-17T15:19:57.077123Z"
    }
   },
   "outputs": [
    {
     "data": {
      "text/html": [
       "<table class=\"simpletable\">\n",
       "<caption>OLS Regression Results</caption>\n",
       "<tr>\n",
       "  <th>Dep. Variable:</th>            <td>y</td>        <th>  R-squared (uncentered):</th>      <td>   0.930</td>\n",
       "</tr>\n",
       "<tr>\n",
       "  <th>Model:</th>                   <td>OLS</td>       <th>  Adj. R-squared (uncentered):</th> <td>   0.930</td>\n",
       "</tr>\n",
       "<tr>\n",
       "  <th>Method:</th>             <td>Least Squares</td>  <th>  F-statistic:       </th>          <td>   6611.</td>\n",
       "</tr>\n",
       "<tr>\n",
       "  <th>Date:</th>             <td>Fri, 17 Nov 2023</td> <th>  Prob (F-statistic):</th>           <td>  0.00</td> \n",
       "</tr>\n",
       "<tr>\n",
       "  <th>Time:</th>                 <td>15:19:57</td>     <th>  Log-Likelihood:    </th>          <td> -1416.4</td>\n",
       "</tr>\n",
       "<tr>\n",
       "  <th>No. Observations:</th>      <td>  1000</td>      <th>  AIC:               </th>          <td>   2837.</td>\n",
       "</tr>\n",
       "<tr>\n",
       "  <th>Df Residuals:</th>          <td>   998</td>      <th>  BIC:               </th>          <td>   2847.</td>\n",
       "</tr>\n",
       "<tr>\n",
       "  <th>Df Model:</th>              <td>     2</td>      <th>                     </th>              <td> </td>   \n",
       "</tr>\n",
       "<tr>\n",
       "  <th>Covariance Type:</th>      <td>nonrobust</td>    <th>                     </th>              <td> </td>   \n",
       "</tr>\n",
       "</table>\n",
       "<table class=\"simpletable\">\n",
       "<tr>\n",
       "   <td></td>     <th>coef</th>     <th>std err</th>      <th>t</th>      <th>P>|t|</th>  <th>[0.025</th>    <th>0.975]</th>  \n",
       "</tr>\n",
       "<tr>\n",
       "  <th>x1</th> <td>    1.0087</td> <td>    0.031</td> <td>   32.214</td> <td> 0.000</td> <td>    0.947</td> <td>    1.070</td>\n",
       "</tr>\n",
       "<tr>\n",
       "  <th>x2</th> <td>    4.9383</td> <td>    0.046</td> <td>  106.859</td> <td> 0.000</td> <td>    4.848</td> <td>    5.029</td>\n",
       "</tr>\n",
       "</table>\n",
       "<table class=\"simpletable\">\n",
       "<tr>\n",
       "  <th>Omnibus:</th>       <td> 3.335</td> <th>  Durbin-Watson:     </th> <td>   1.978</td>\n",
       "</tr>\n",
       "<tr>\n",
       "  <th>Prob(Omnibus):</th> <td> 0.189</td> <th>  Jarque-Bera (JB):  </th> <td>   3.748</td>\n",
       "</tr>\n",
       "<tr>\n",
       "  <th>Skew:</th>          <td> 0.010</td> <th>  Prob(JB):          </th> <td>   0.153</td>\n",
       "</tr>\n",
       "<tr>\n",
       "  <th>Kurtosis:</th>      <td> 3.299</td> <th>  Cond. No.          </th> <td>    1.49</td>\n",
       "</tr>\n",
       "</table><br/><br/>Notes:<br/>[1] R² is computed without centering (uncentered) since the model does not contain a constant.<br/>[2] Standard Errors assume that the covariance matrix of the errors is correctly specified."
      ],
      "text/latex": [
       "\\begin{center}\n",
       "\\begin{tabular}{lclc}\n",
       "\\toprule\n",
       "\\textbf{Dep. Variable:}    &        y         & \\textbf{  R-squared (uncentered):}      &     0.930   \\\\\n",
       "\\textbf{Model:}            &       OLS        & \\textbf{  Adj. R-squared (uncentered):} &     0.930   \\\\\n",
       "\\textbf{Method:}           &  Least Squares   & \\textbf{  F-statistic:       }          &     6611.   \\\\\n",
       "\\textbf{Date:}             & Fri, 17 Nov 2023 & \\textbf{  Prob (F-statistic):}          &     0.00    \\\\\n",
       "\\textbf{Time:}             &     15:19:57     & \\textbf{  Log-Likelihood:    }          &   -1416.4   \\\\\n",
       "\\textbf{No. Observations:} &        1000      & \\textbf{  AIC:               }          &     2837.   \\\\\n",
       "\\textbf{Df Residuals:}     &         998      & \\textbf{  BIC:               }          &     2847.   \\\\\n",
       "\\textbf{Df Model:}         &           2      & \\textbf{                     }          &             \\\\\n",
       "\\textbf{Covariance Type:}  &    nonrobust     & \\textbf{                     }          &             \\\\\n",
       "\\bottomrule\n",
       "\\end{tabular}\n",
       "\\begin{tabular}{lcccccc}\n",
       "            & \\textbf{coef} & \\textbf{std err} & \\textbf{t} & \\textbf{P$> |$t$|$} & \\textbf{[0.025} & \\textbf{0.975]}  \\\\\n",
       "\\midrule\n",
       "\\textbf{x1} &       1.0087  &        0.031     &    32.214  &         0.000        &        0.947    &        1.070     \\\\\n",
       "\\textbf{x2} &       4.9383  &        0.046     &   106.859  &         0.000        &        4.848    &        5.029     \\\\\n",
       "\\bottomrule\n",
       "\\end{tabular}\n",
       "\\begin{tabular}{lclc}\n",
       "\\textbf{Omnibus:}       &  3.335 & \\textbf{  Durbin-Watson:     } &    1.978  \\\\\n",
       "\\textbf{Prob(Omnibus):} &  0.189 & \\textbf{  Jarque-Bera (JB):  } &    3.748  \\\\\n",
       "\\textbf{Skew:}          &  0.010 & \\textbf{  Prob(JB):          } &    0.153  \\\\\n",
       "\\textbf{Kurtosis:}      &  3.299 & \\textbf{  Cond. No.          } &     1.49  \\\\\n",
       "\\bottomrule\n",
       "\\end{tabular}\n",
       "%\\caption{OLS Regression Results}\n",
       "\\end{center}\n",
       "\n",
       "Notes: \\newline\n",
       " [1] R² is computed without centering (uncentered) since the model does not contain a constant. \\newline\n",
       " [2] Standard Errors assume that the covariance matrix of the errors is correctly specified."
      ],
      "text/plain": [
       "<class 'statsmodels.iolib.summary.Summary'>\n",
       "\"\"\"\n",
       "                                 OLS Regression Results                                \n",
       "=======================================================================================\n",
       "Dep. Variable:                      y   R-squared (uncentered):                   0.930\n",
       "Model:                            OLS   Adj. R-squared (uncentered):              0.930\n",
       "Method:                 Least Squares   F-statistic:                              6611.\n",
       "Date:                Fri, 17 Nov 2023   Prob (F-statistic):                        0.00\n",
       "Time:                        15:19:57   Log-Likelihood:                         -1416.4\n",
       "No. Observations:                1000   AIC:                                      2837.\n",
       "Df Residuals:                     998   BIC:                                      2847.\n",
       "Df Model:                           2                                                  \n",
       "Covariance Type:            nonrobust                                                  \n",
       "==============================================================================\n",
       "                 coef    std err          t      P>|t|      [0.025      0.975]\n",
       "------------------------------------------------------------------------------\n",
       "x1             1.0087      0.031     32.214      0.000       0.947       1.070\n",
       "x2             4.9383      0.046    106.859      0.000       4.848       5.029\n",
       "==============================================================================\n",
       "Omnibus:                        3.335   Durbin-Watson:                   1.978\n",
       "Prob(Omnibus):                  0.189   Jarque-Bera (JB):                3.748\n",
       "Skew:                           0.010   Prob(JB):                        0.153\n",
       "Kurtosis:                       3.299   Cond. No.                         1.49\n",
       "==============================================================================\n",
       "\n",
       "Notes:\n",
       "[1] R² is computed without centering (uncentered) since the model does not contain a constant.\n",
       "[2] Standard Errors assume that the covariance matrix of the errors is correctly specified.\n",
       "\"\"\""
      ]
     },
     "execution_count": 10,
     "metadata": {},
     "output_type": "execute_result"
    }
   ],
   "source": [
    "model = OLS(np.asarray(df[outcome]), np.asarray(df[[common_cause, treatment]], dtype=np.float64))\n",
    "result = model.fit()\n",
    "result.summary()"
   ]
  }
 ],
 "metadata": {
  "kernelspec": {
   "display_name": "Python 3",
   "language": "python",
   "name": "python3"
  },
  "language_info": {
   "codemirror_mode": {
    "name": "ipython",
    "version": 3
   },
   "file_extension": ".py",
   "mimetype": "text/x-python",
   "name": "python",
   "nbconvert_exporter": "python",
   "pygments_lexer": "ipython3",
   "version": "3.8.10"
  },
  "toc": {
   "base_numbering": 1,
   "nav_menu": {},
   "number_sections": false,
   "sideBar": true,
   "skip_h1_title": true,
   "title_cell": "Table of Contents",
   "title_sidebar": "Contents",
   "toc_cell": false,
   "toc_position": {},
   "toc_section_display": true,
   "toc_window_display": false
  }
 },
 "nbformat": 4,
 "nbformat_minor": 4
}
