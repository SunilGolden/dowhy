{
 "cells": [
  {
   "cell_type": "markdown",
   "metadata": {},
   "source": [
    "# Demo for the DoWhy causal API\n",
    "We show a simple example of adding a causal extension to any dataframe. "
   ]
  },
  {
   "cell_type": "code",
   "execution_count": 1,
   "metadata": {
    "execution": {
     "iopub.execute_input": "2023-11-06T17:35:44.018086Z",
     "iopub.status.busy": "2023-11-06T17:35:44.017563Z",
     "iopub.status.idle": "2023-11-06T17:35:45.394391Z",
     "shell.execute_reply": "2023-11-06T17:35:45.393803Z"
    }
   },
   "outputs": [],
   "source": [
    "import dowhy.datasets\n",
    "import dowhy.api\n",
    "\n",
    "import numpy as np\n",
    "import pandas as pd\n",
    "\n",
    "from statsmodels.api import OLS"
   ]
  },
  {
   "cell_type": "code",
   "execution_count": 2,
   "metadata": {
    "execution": {
     "iopub.execute_input": "2023-11-06T17:35:45.397413Z",
     "iopub.status.busy": "2023-11-06T17:35:45.396767Z",
     "iopub.status.idle": "2023-11-06T17:35:45.430503Z",
     "shell.execute_reply": "2023-11-06T17:35:45.429890Z"
    }
   },
   "outputs": [
    {
     "data": {
      "text/html": [
       "<div>\n",
       "<style scoped>\n",
       "    .dataframe tbody tr th:only-of-type {\n",
       "        vertical-align: middle;\n",
       "    }\n",
       "\n",
       "    .dataframe tbody tr th {\n",
       "        vertical-align: top;\n",
       "    }\n",
       "\n",
       "    .dataframe thead th {\n",
       "        text-align: right;\n",
       "    }\n",
       "</style>\n",
       "<table border=\"1\" class=\"dataframe\">\n",
       "  <thead>\n",
       "    <tr style=\"text-align: right;\">\n",
       "      <th></th>\n",
       "      <th>W0</th>\n",
       "      <th>v0</th>\n",
       "      <th>y</th>\n",
       "    </tr>\n",
       "  </thead>\n",
       "  <tbody>\n",
       "    <tr>\n",
       "      <th>0</th>\n",
       "      <td>1.331376</td>\n",
       "      <td>True</td>\n",
       "      <td>5.914611</td>\n",
       "    </tr>\n",
       "    <tr>\n",
       "      <th>1</th>\n",
       "      <td>1.199270</td>\n",
       "      <td>True</td>\n",
       "      <td>5.913096</td>\n",
       "    </tr>\n",
       "    <tr>\n",
       "      <th>2</th>\n",
       "      <td>1.206445</td>\n",
       "      <td>True</td>\n",
       "      <td>6.852123</td>\n",
       "    </tr>\n",
       "    <tr>\n",
       "      <th>3</th>\n",
       "      <td>-0.931437</td>\n",
       "      <td>False</td>\n",
       "      <td>-2.010041</td>\n",
       "    </tr>\n",
       "    <tr>\n",
       "      <th>4</th>\n",
       "      <td>-1.560628</td>\n",
       "      <td>False</td>\n",
       "      <td>-1.792360</td>\n",
       "    </tr>\n",
       "    <tr>\n",
       "      <th>...</th>\n",
       "      <td>...</td>\n",
       "      <td>...</td>\n",
       "      <td>...</td>\n",
       "    </tr>\n",
       "    <tr>\n",
       "      <th>995</th>\n",
       "      <td>1.259893</td>\n",
       "      <td>True</td>\n",
       "      <td>6.894041</td>\n",
       "    </tr>\n",
       "    <tr>\n",
       "      <th>996</th>\n",
       "      <td>0.486704</td>\n",
       "      <td>True</td>\n",
       "      <td>4.925201</td>\n",
       "    </tr>\n",
       "    <tr>\n",
       "      <th>997</th>\n",
       "      <td>1.554382</td>\n",
       "      <td>True</td>\n",
       "      <td>5.708392</td>\n",
       "    </tr>\n",
       "    <tr>\n",
       "      <th>998</th>\n",
       "      <td>-1.207521</td>\n",
       "      <td>False</td>\n",
       "      <td>-0.206661</td>\n",
       "    </tr>\n",
       "    <tr>\n",
       "      <th>999</th>\n",
       "      <td>1.173020</td>\n",
       "      <td>True</td>\n",
       "      <td>6.951838</td>\n",
       "    </tr>\n",
       "  </tbody>\n",
       "</table>\n",
       "<p>1000 rows × 3 columns</p>\n",
       "</div>"
      ],
      "text/plain": [
       "           W0     v0         y\n",
       "0    1.331376   True  5.914611\n",
       "1    1.199270   True  5.913096\n",
       "2    1.206445   True  6.852123\n",
       "3   -0.931437  False -2.010041\n",
       "4   -1.560628  False -1.792360\n",
       "..        ...    ...       ...\n",
       "995  1.259893   True  6.894041\n",
       "996  0.486704   True  4.925201\n",
       "997  1.554382   True  5.708392\n",
       "998 -1.207521  False -0.206661\n",
       "999  1.173020   True  6.951838\n",
       "\n",
       "[1000 rows x 3 columns]"
      ]
     },
     "execution_count": 2,
     "metadata": {},
     "output_type": "execute_result"
    }
   ],
   "source": [
    "data = dowhy.datasets.linear_dataset(beta=5,\n",
    "        num_common_causes=1,\n",
    "        num_instruments = 0,\n",
    "        num_samples=1000,\n",
    "        treatment_is_binary=True)\n",
    "df = data['df']\n",
    "df['y'] = df['y'] + np.random.normal(size=len(df)) # Adding noise to data. Without noise, the variance in Y|X, Z is zero, and mcmc fails.\n",
    "#data['dot_graph'] = 'digraph { v ->y;X0-> v;X0-> y;}'\n",
    "\n",
    "treatment= data[\"treatment_name\"][0]\n",
    "outcome = data[\"outcome_name\"][0]\n",
    "common_cause = data[\"common_causes_names\"][0]\n",
    "df"
   ]
  },
  {
   "cell_type": "code",
   "execution_count": 3,
   "metadata": {
    "execution": {
     "iopub.execute_input": "2023-11-06T17:35:45.432774Z",
     "iopub.status.busy": "2023-11-06T17:35:45.432419Z",
     "iopub.status.idle": "2023-11-06T17:35:45.587274Z",
     "shell.execute_reply": "2023-11-06T17:35:45.586547Z"
    }
   },
   "outputs": [
    {
     "data": {
      "text/plain": [
       "<Axes: xlabel='v0'>"
      ]
     },
     "execution_count": 3,
     "metadata": {},
     "output_type": "execute_result"
    },
    {
     "data": {
      "image/png": "[encoded data removed]",
      "text/plain": [
       "<Figure size 640x480 with 1 Axes>"
      ]
     },
     "metadata": {},
     "output_type": "display_data"
    }
   ],
   "source": [
    "# data['df'] is just a regular pandas.DataFrame\n",
    "df.causal.do(x=treatment,\n",
    "                     variable_types={treatment: 'b', outcome: 'c', common_cause: 'c'},\n",
    "                     outcome=outcome,\n",
    "                     common_causes=[common_cause],\n",
    "                     proceed_when_unidentifiable=True).groupby(treatment).mean().plot(y=outcome, kind='bar')"
   ]
  },
  {
   "cell_type": "code",
   "execution_count": 4,
   "metadata": {
    "execution": {
     "iopub.execute_input": "2023-11-06T17:35:45.589734Z",
     "iopub.status.busy": "2023-11-06T17:35:45.589541Z",
     "iopub.status.idle": "2023-11-06T17:35:45.700170Z",
     "shell.execute_reply": "2023-11-06T17:35:45.699455Z"
    }
   },
   "outputs": [
    {
     "data": {
      "text/plain": [
       "<Axes: xlabel='v0'>"
      ]
     },
     "execution_count": 4,
     "metadata": {},
     "output_type": "execute_result"
    },
    {
     "data": {
      "image/png": "[encoded data removed]",
      "text/plain": [
       "<Figure size 640x480 with 1 Axes>"
      ]
     },
     "metadata": {},
     "output_type": "display_data"
    }
   ],
   "source": [
    "df.causal.do(x={treatment: 1}, \n",
    "              variable_types={treatment:'b', outcome: 'c', common_cause: 'c'}, \n",
    "              outcome=outcome,\n",
    "              method='weighting', \n",
    "              common_causes=[common_cause],\n",
    "              proceed_when_unidentifiable=True).groupby(treatment).mean().plot(y=outcome, kind='bar')"
   ]
  },
  {
   "cell_type": "code",
   "execution_count": 5,
   "metadata": {
    "execution": {
     "iopub.execute_input": "2023-11-06T17:35:45.704086Z",
     "iopub.status.busy": "2023-11-06T17:35:45.703061Z",
     "iopub.status.idle": "2023-11-06T17:35:45.733751Z",
     "shell.execute_reply": "2023-11-06T17:35:45.733251Z"
    }
   },
   "outputs": [],
   "source": [
    "cdf_1 = df.causal.do(x={treatment: 1}, \n",
    "              variable_types={treatment: 'b', outcome: 'c', common_cause: 'c'}, \n",
    "              outcome=outcome, \n",
    "              dot_graph=data['dot_graph'],\n",
    "              proceed_when_unidentifiable=True)\n",
    "\n",
    "cdf_0 = df.causal.do(x={treatment: 0}, \n",
    "              variable_types={treatment: 'b', outcome: 'c', common_cause: 'c'}, \n",
    "              outcome=outcome, \n",
    "              dot_graph=data['dot_graph'],\n",
    "              proceed_when_unidentifiable=True)\n"
   ]
  },
  {
   "cell_type": "code",
   "execution_count": 6,
   "metadata": {
    "execution": {
     "iopub.execute_input": "2023-11-06T17:35:45.736053Z",
     "iopub.status.busy": "2023-11-06T17:35:45.735869Z",
     "iopub.status.idle": "2023-11-06T17:35:45.745104Z",
     "shell.execute_reply": "2023-11-06T17:35:45.744588Z"
    },
    "scrolled": true
   },
   "outputs": [
    {
     "data": {
      "text/html": [
       "<div>\n",
       "<style scoped>\n",
       "    .dataframe tbody tr th:only-of-type {\n",
       "        vertical-align: middle;\n",
       "    }\n",
       "\n",
       "    .dataframe tbody tr th {\n",
       "        vertical-align: top;\n",
       "    }\n",
       "\n",
       "    .dataframe thead th {\n",
       "        text-align: right;\n",
       "    }\n",
       "</style>\n",
       "<table border=\"1\" class=\"dataframe\">\n",
       "  <thead>\n",
       "    <tr style=\"text-align: right;\">\n",
       "      <th></th>\n",
       "      <th>W0</th>\n",
       "      <th>v0</th>\n",
       "      <th>y</th>\n",
       "      <th>propensity_score</th>\n",
       "      <th>weight</th>\n",
       "    </tr>\n",
       "  </thead>\n",
       "  <tbody>\n",
       "    <tr>\n",
       "      <th>0</th>\n",
       "      <td>-0.497595</td>\n",
       "      <td>False</td>\n",
       "      <td>-0.058262</td>\n",
       "      <td>0.737477</td>\n",
       "      <td>1.355974</td>\n",
       "    </tr>\n",
       "    <tr>\n",
       "      <th>1</th>\n",
       "      <td>1.173374</td>\n",
       "      <td>False</td>\n",
       "      <td>0.358622</td>\n",
       "      <td>0.128909</td>\n",
       "      <td>7.757432</td>\n",
       "    </tr>\n",
       "    <tr>\n",
       "      <th>2</th>\n",
       "      <td>-0.252260</td>\n",
       "      <td>False</td>\n",
       "      <td>0.520030</td>\n",
       "      <td>0.645821</td>\n",
       "      <td>1.548416</td>\n",
       "    </tr>\n",
       "    <tr>\n",
       "      <th>3</th>\n",
       "      <td>-1.669241</td>\n",
       "      <td>False</td>\n",
       "      <td>-2.358127</td>\n",
       "      <td>0.956762</td>\n",
       "      <td>1.045192</td>\n",
       "    </tr>\n",
       "    <tr>\n",
       "      <th>4</th>\n",
       "      <td>0.405340</td>\n",
       "      <td>False</td>\n",
       "      <td>0.206643</td>\n",
       "      <td>0.364082</td>\n",
       "      <td>2.746637</td>\n",
       "    </tr>\n",
       "    <tr>\n",
       "      <th>...</th>\n",
       "      <td>...</td>\n",
       "      <td>...</td>\n",
       "      <td>...</td>\n",
       "      <td>...</td>\n",
       "      <td>...</td>\n",
       "    </tr>\n",
       "    <tr>\n",
       "      <th>995</th>\n",
       "      <td>0.058729</td>\n",
       "      <td>False</td>\n",
       "      <td>-0.111993</td>\n",
       "      <td>0.513219</td>\n",
       "      <td>1.948484</td>\n",
       "    </tr>\n",
       "    <tr>\n",
       "      <th>996</th>\n",
       "      <td>0.658112</td>\n",
       "      <td>False</td>\n",
       "      <td>1.375983</td>\n",
       "      <td>0.268358</td>\n",
       "      <td>3.726366</td>\n",
       "    </tr>\n",
       "    <tr>\n",
       "      <th>997</th>\n",
       "      <td>1.648415</td>\n",
       "      <td>False</td>\n",
       "      <td>2.144599</td>\n",
       "      <td>0.060230</td>\n",
       "      <td>16.603014</td>\n",
       "    </tr>\n",
       "    <tr>\n",
       "      <th>998</th>\n",
       "      <td>-0.560071</td>\n",
       "      <td>False</td>\n",
       "      <td>-1.705115</td>\n",
       "      <td>0.758222</td>\n",
       "      <td>1.318876</td>\n",
       "    </tr>\n",
       "    <tr>\n",
       "      <th>999</th>\n",
       "      <td>0.810047</td>\n",
       "      <td>False</td>\n",
       "      <td>1.460672</td>\n",
       "      <td>0.219152</td>\n",
       "      <td>4.563039</td>\n",
       "    </tr>\n",
       "  </tbody>\n",
       "</table>\n",
       "<p>1000 rows × 5 columns</p>\n",
       "</div>"
      ],
      "text/plain": [
       "           W0     v0         y  propensity_score     weight\n",
       "0   -0.497595  False -0.058262          0.737477   1.355974\n",
       "1    1.173374  False  0.358622          0.128909   7.757432\n",
       "2   -0.252260  False  0.520030          0.645821   1.548416\n",
       "3   -1.669241  False -2.358127          0.956762   1.045192\n",
       "4    0.405340  False  0.206643          0.364082   2.746637\n",
       "..        ...    ...       ...               ...        ...\n",
       "995  0.058729  False -0.111993          0.513219   1.948484\n",
       "996  0.658112  False  1.375983          0.268358   3.726366\n",
       "997  1.648415  False  2.144599          0.060230  16.603014\n",
       "998 -0.560071  False -1.705115          0.758222   1.318876\n",
       "999  0.810047  False  1.460672          0.219152   4.563039\n",
       "\n",
       "[1000 rows x 5 columns]"
      ]
     },
     "execution_count": 6,
     "metadata": {},
     "output_type": "execute_result"
    }
   ],
   "source": [
    "cdf_0"
   ]
  },
  {
   "cell_type": "code",
   "execution_count": 7,
   "metadata": {
    "execution": {
     "iopub.execute_input": "2023-11-06T17:35:45.747073Z",
     "iopub.status.busy": "2023-11-06T17:35:45.746896Z",
     "iopub.status.idle": "2023-11-06T17:35:45.755405Z",
     "shell.execute_reply": "2023-11-06T17:35:45.754898Z"
    }
   },
   "outputs": [
    {
     "data": {
      "text/html": [
       "<div>\n",
       "<style scoped>\n",
       "    .dataframe tbody tr th:only-of-type {\n",
       "        vertical-align: middle;\n",
       "    }\n",
       "\n",
       "    .dataframe tbody tr th {\n",
       "        vertical-align: top;\n",
       "    }\n",
       "\n",
       "    .dataframe thead th {\n",
       "        text-align: right;\n",
       "    }\n",
       "</style>\n",
       "<table border=\"1\" class=\"dataframe\">\n",
       "  <thead>\n",
       "    <tr style=\"text-align: right;\">\n",
       "      <th></th>\n",
       "      <th>W0</th>\n",
       "      <th>v0</th>\n",
       "      <th>y</th>\n",
       "      <th>propensity_score</th>\n",
       "      <th>weight</th>\n",
       "    </tr>\n",
       "  </thead>\n",
       "  <tbody>\n",
       "    <tr>\n",
       "      <th>0</th>\n",
       "      <td>-1.012943</td>\n",
       "      <td>True</td>\n",
       "      <td>4.366690</td>\n",
       "      <td>0.125568</td>\n",
       "      <td>7.963786</td>\n",
       "    </tr>\n",
       "    <tr>\n",
       "      <th>1</th>\n",
       "      <td>-1.726998</td>\n",
       "      <td>True</td>\n",
       "      <td>4.406920</td>\n",
       "      <td>0.039219</td>\n",
       "      <td>25.497858</td>\n",
       "    </tr>\n",
       "    <tr>\n",
       "      <th>2</th>\n",
       "      <td>-0.414041</td>\n",
       "      <td>True</td>\n",
       "      <td>3.869247</td>\n",
       "      <td>0.291996</td>\n",
       "      <td>3.424706</td>\n",
       "    </tr>\n",
       "    <tr>\n",
       "      <th>3</th>\n",
       "      <td>0.812864</td>\n",
       "      <td>True</td>\n",
       "      <td>4.887818</td>\n",
       "      <td>0.781696</td>\n",
       "      <td>1.279270</td>\n",
       "    </tr>\n",
       "    <tr>\n",
       "      <th>4</th>\n",
       "      <td>-0.071962</td>\n",
       "      <td>True</td>\n",
       "      <td>2.932027</td>\n",
       "      <td>0.429691</td>\n",
       "      <td>2.327254</td>\n",
       "    </tr>\n",
       "    <tr>\n",
       "      <th>...</th>\n",
       "      <td>...</td>\n",
       "      <td>...</td>\n",
       "      <td>...</td>\n",
       "      <td>...</td>\n",
       "      <td>...</td>\n",
       "    </tr>\n",
       "    <tr>\n",
       "      <th>995</th>\n",
       "      <td>-0.197215</td>\n",
       "      <td>True</td>\n",
       "      <td>4.659854</td>\n",
       "      <td>0.376659</td>\n",
       "      <td>2.654924</td>\n",
       "    </tr>\n",
       "    <tr>\n",
       "      <th>996</th>\n",
       "      <td>-0.408244</td>\n",
       "      <td>True</td>\n",
       "      <td>2.604110</td>\n",
       "      <td>0.294111</td>\n",
       "      <td>3.400073</td>\n",
       "    </tr>\n",
       "    <tr>\n",
       "      <th>997</th>\n",
       "      <td>0.256428</td>\n",
       "      <td>True</td>\n",
       "      <td>4.085659</td>\n",
       "      <td>0.573311</td>\n",
       "      <td>1.744254</td>\n",
       "    </tr>\n",
       "    <tr>\n",
       "      <th>998</th>\n",
       "      <td>0.838036</td>\n",
       "      <td>True</td>\n",
       "      <td>5.191954</td>\n",
       "      <td>0.789168</td>\n",
       "      <td>1.267157</td>\n",
       "    </tr>\n",
       "    <tr>\n",
       "      <th>999</th>\n",
       "      <td>-1.331840</td>\n",
       "      <td>True</td>\n",
       "      <td>3.015631</td>\n",
       "      <td>0.075684</td>\n",
       "      <td>13.212793</td>\n",
       "    </tr>\n",
       "  </tbody>\n",
       "</table>\n",
       "<p>1000 rows × 5 columns</p>\n",
       "</div>"
      ],
      "text/plain": [
       "           W0    v0         y  propensity_score     weight\n",
       "0   -1.012943  True  4.366690          0.125568   7.963786\n",
       "1   -1.726998  True  4.406920          0.039219  25.497858\n",
       "2   -0.414041  True  3.869247          0.291996   3.424706\n",
       "3    0.812864  True  4.887818          0.781696   1.279270\n",
       "4   -0.071962  True  2.932027          0.429691   2.327254\n",
       "..        ...   ...       ...               ...        ...\n",
       "995 -0.197215  True  4.659854          0.376659   2.654924\n",
       "996 -0.408244  True  2.604110          0.294111   3.400073\n",
       "997  0.256428  True  4.085659          0.573311   1.744254\n",
       "998  0.838036  True  5.191954          0.789168   1.267157\n",
       "999 -1.331840  True  3.015631          0.075684  13.212793\n",
       "\n",
       "[1000 rows x 5 columns]"
      ]
     },
     "execution_count": 7,
     "metadata": {},
     "output_type": "execute_result"
    }
   ],
   "source": [
    "cdf_1"
   ]
  },
  {
   "cell_type": "markdown",
   "metadata": {},
   "source": [
    "## Comparing the estimate to Linear Regression\n",
    "First, estimating the effect using the causal data frame, and the 95% confidence interval."
   ]
  },
  {
   "cell_type": "code",
   "execution_count": 8,
   "metadata": {
    "execution": {
     "iopub.execute_input": "2023-11-06T17:35:45.757384Z",
     "iopub.status.busy": "2023-11-06T17:35:45.757209Z",
     "iopub.status.idle": "2023-11-06T17:35:45.805287Z",
     "shell.execute_reply": "2023-11-06T17:35:45.804675Z"
    }
   },
   "outputs": [
    {
     "data": {
      "image/png": "[encoded data removed]",
      "text/latex": [
       "$\\displaystyle 5.05678853356434$"
      ],
      "text/plain": [
       "5.05678853356434"
      ]
     },
     "execution_count": 8,
     "metadata": {},
     "output_type": "execute_result"
    }
   ],
   "source": [
    "(cdf_1['y'] - cdf_0['y']).mean()"
   ]
  },
  {
   "cell_type": "code",
   "execution_count": 9,
   "metadata": {
    "execution": {
     "iopub.execute_input": "2023-11-06T17:35:45.807401Z",
     "iopub.status.busy": "2023-11-06T17:35:45.807216Z",
     "iopub.status.idle": "2023-11-06T17:35:45.823698Z",
     "shell.execute_reply": "2023-11-06T17:35:45.823109Z"
    }
   },
   "outputs": [
    {
     "data": {
      "image/png": "[encoded data removed]",
      "text/latex": [
       "$\\displaystyle 0.108569711711194$"
      ],
      "text/plain": [
       "0.10856971171119383"
      ]
     },
     "execution_count": 9,
     "metadata": {},
     "output_type": "execute_result"
    }
   ],
   "source": [
    "1.96*(cdf_1['y'] - cdf_0['y']).std() / np.sqrt(len(df))"
   ]
  },
  {
   "cell_type": "markdown",
   "metadata": {},
   "source": [
    "Comparing to the estimate from OLS."
   ]
  },
  {
   "cell_type": "code",
   "execution_count": 10,
   "metadata": {
    "execution": {
     "iopub.execute_input": "2023-11-06T17:35:45.825911Z",
     "iopub.status.busy": "2023-11-06T17:35:45.825725Z",
     "iopub.status.idle": "2023-11-06T17:35:45.842509Z",
     "shell.execute_reply": "2023-11-06T17:35:45.842021Z"
    }
   },
   "outputs": [
    {
     "data": {
      "text/html": [
       "<table class=\"simpletable\">\n",
       "<caption>OLS Regression Results</caption>\n",
       "<tr>\n",
       "  <th>Dep. Variable:</th>            <td>y</td>        <th>  R-squared (uncentered):</th>      <td>   0.942</td>\n",
       "</tr>\n",
       "<tr>\n",
       "  <th>Model:</th>                   <td>OLS</td>       <th>  Adj. R-squared (uncentered):</th> <td>   0.942</td>\n",
       "</tr>\n",
       "<tr>\n",
       "  <th>Method:</th>             <td>Least Squares</td>  <th>  F-statistic:       </th>          <td>   8174.</td>\n",
       "</tr>\n",
       "<tr>\n",
       "  <th>Date:</th>             <td>Mon, 06 Nov 2023</td> <th>  Prob (F-statistic):</th>           <td>  0.00</td> \n",
       "</tr>\n",
       "<tr>\n",
       "  <th>Time:</th>                 <td>17:35:45</td>     <th>  Log-Likelihood:    </th>          <td> -1407.9</td>\n",
       "</tr>\n",
       "<tr>\n",
       "  <th>No. Observations:</th>      <td>  1000</td>      <th>  AIC:               </th>          <td>   2820.</td>\n",
       "</tr>\n",
       "<tr>\n",
       "  <th>Df Residuals:</th>          <td>   998</td>      <th>  BIC:               </th>          <td>   2830.</td>\n",
       "</tr>\n",
       "<tr>\n",
       "  <th>Df Model:</th>              <td>     2</td>      <th>                     </th>              <td> </td>   \n",
       "</tr>\n",
       "<tr>\n",
       "  <th>Covariance Type:</th>      <td>nonrobust</td>    <th>                     </th>              <td> </td>   \n",
       "</tr>\n",
       "</table>\n",
       "<table class=\"simpletable\">\n",
       "<tr>\n",
       "   <td></td>     <th>coef</th>     <th>std err</th>      <th>t</th>      <th>P>|t|</th>  <th>[0.025</th>    <th>0.975]</th>  \n",
       "</tr>\n",
       "<tr>\n",
       "  <th>x1</th> <td>    0.8843</td> <td>    0.036</td> <td>   24.418</td> <td> 0.000</td> <td>    0.813</td> <td>    0.955</td>\n",
       "</tr>\n",
       "<tr>\n",
       "  <th>x2</th> <td>    4.9582</td> <td>    0.050</td> <td>   99.124</td> <td> 0.000</td> <td>    4.860</td> <td>    5.056</td>\n",
       "</tr>\n",
       "</table>\n",
       "<table class=\"simpletable\">\n",
       "<tr>\n",
       "  <th>Omnibus:</th>       <td> 0.906</td> <th>  Durbin-Watson:     </th> <td>   1.995</td>\n",
       "</tr>\n",
       "<tr>\n",
       "  <th>Prob(Omnibus):</th> <td> 0.636</td> <th>  Jarque-Bera (JB):  </th> <td>   0.774</td>\n",
       "</tr>\n",
       "<tr>\n",
       "  <th>Skew:</th>          <td> 0.036</td> <th>  Prob(JB):          </th> <td>   0.679</td>\n",
       "</tr>\n",
       "<tr>\n",
       "  <th>Kurtosis:</th>      <td> 3.116</td> <th>  Cond. No.          </th> <td>    1.85</td>\n",
       "</tr>\n",
       "</table><br/><br/>Notes:<br/>[1] R² is computed without centering (uncentered) since the model does not contain a constant.<br/>[2] Standard Errors assume that the covariance matrix of the errors is correctly specified."
      ],
      "text/latex": [
       "\\begin{center}\n",
       "\\begin{tabular}{lclc}\n",
       "\\toprule\n",
       "\\textbf{Dep. Variable:}    &        y         & \\textbf{  R-squared (uncentered):}      &     0.942   \\\\\n",
       "\\textbf{Model:}            &       OLS        & \\textbf{  Adj. R-squared (uncentered):} &     0.942   \\\\\n",
       "\\textbf{Method:}           &  Least Squares   & \\textbf{  F-statistic:       }          &     8174.   \\\\\n",
       "\\textbf{Date:}             & Mon, 06 Nov 2023 & \\textbf{  Prob (F-statistic):}          &     0.00    \\\\\n",
       "\\textbf{Time:}             &     17:35:45     & \\textbf{  Log-Likelihood:    }          &   -1407.9   \\\\\n",
       "\\textbf{No. Observations:} &        1000      & \\textbf{  AIC:               }          &     2820.   \\\\\n",
       "\\textbf{Df Residuals:}     &         998      & \\textbf{  BIC:               }          &     2830.   \\\\\n",
       "\\textbf{Df Model:}         &           2      & \\textbf{                     }          &             \\\\\n",
       "\\textbf{Covariance Type:}  &    nonrobust     & \\textbf{                     }          &             \\\\\n",
       "\\bottomrule\n",
       "\\end{tabular}\n",
       "\\begin{tabular}{lcccccc}\n",
       "            & \\textbf{coef} & \\textbf{std err} & \\textbf{t} & \\textbf{P$> |$t$|$} & \\textbf{[0.025} & \\textbf{0.975]}  \\\\\n",
       "\\midrule\n",
       "\\textbf{x1} &       0.8843  &        0.036     &    24.418  &         0.000        &        0.813    &        0.955     \\\\\n",
       "\\textbf{x2} &       4.9582  &        0.050     &    99.124  &         0.000        &        4.860    &        5.056     \\\\\n",
       "\\bottomrule\n",
       "\\end{tabular}\n",
       "\\begin{tabular}{lclc}\n",
       "\\textbf{Omnibus:}       &  0.906 & \\textbf{  Durbin-Watson:     } &    1.995  \\\\\n",
       "\\textbf{Prob(Omnibus):} &  0.636 & \\textbf{  Jarque-Bera (JB):  } &    0.774  \\\\\n",
       "\\textbf{Skew:}          &  0.036 & \\textbf{  Prob(JB):          } &    0.679  \\\\\n",
       "\\textbf{Kurtosis:}      &  3.116 & \\textbf{  Cond. No.          } &     1.85  \\\\\n",
       "\\bottomrule\n",
       "\\end{tabular}\n",
       "%\\caption{OLS Regression Results}\n",
       "\\end{center}\n",
       "\n",
       "Notes: \\newline\n",
       " [1] R² is computed without centering (uncentered) since the model does not contain a constant. \\newline\n",
       " [2] Standard Errors assume that the covariance matrix of the errors is correctly specified."
      ],
      "text/plain": [
       "<class 'statsmodels.iolib.summary.Summary'>\n",
       "\"\"\"\n",
       "                                 OLS Regression Results                                \n",
       "=======================================================================================\n",
       "Dep. Variable:                      y   R-squared (uncentered):                   0.942\n",
       "Model:                            OLS   Adj. R-squared (uncentered):              0.942\n",
       "Method:                 Least Squares   F-statistic:                              8174.\n",
       "Date:                Mon, 06 Nov 2023   Prob (F-statistic):                        0.00\n",
       "Time:                        17:35:45   Log-Likelihood:                         -1407.9\n",
       "No. Observations:                1000   AIC:                                      2820.\n",
       "Df Residuals:                     998   BIC:                                      2830.\n",
       "Df Model:                           2                                                  \n",
       "Covariance Type:            nonrobust                                                  \n",
       "==============================================================================\n",
       "                 coef    std err          t      P>|t|      [0.025      0.975]\n",
       "------------------------------------------------------------------------------\n",
       "x1             0.8843      0.036     24.418      0.000       0.813       0.955\n",
       "x2             4.9582      0.050     99.124      0.000       4.860       5.056\n",
       "==============================================================================\n",
       "Omnibus:                        0.906   Durbin-Watson:                   1.995\n",
       "Prob(Omnibus):                  0.636   Jarque-Bera (JB):                0.774\n",
       "Skew:                           0.036   Prob(JB):                        0.679\n",
       "Kurtosis:                       3.116   Cond. No.                         1.85\n",
       "==============================================================================\n",
       "\n",
       "Notes:\n",
       "[1] R² is computed without centering (uncentered) since the model does not contain a constant.\n",
       "[2] Standard Errors assume that the covariance matrix of the errors is correctly specified.\n",
       "\"\"\""
      ]
     },
     "execution_count": 10,
     "metadata": {},
     "output_type": "execute_result"
    }
   ],
   "source": [
    "model = OLS(np.asarray(df[outcome]), np.asarray(df[[common_cause, treatment]], dtype=np.float64))\n",
    "result = model.fit()\n",
    "result.summary()"
   ]
  }
 ],
 "metadata": {
  "kernelspec": {
   "display_name": "Python 3",
   "language": "python",
   "name": "python3"
  },
  "language_info": {
   "codemirror_mode": {
    "name": "ipython",
    "version": 3
   },
   "file_extension": ".py",
   "mimetype": "text/x-python",
   "name": "python",
   "nbconvert_exporter": "python",
   "pygments_lexer": "ipython3",
   "version": "3.8.10"
  },
  "toc": {
   "base_numbering": 1,
   "nav_menu": {},
   "number_sections": false,
   "sideBar": true,
   "skip_h1_title": true,
   "title_cell": "Table of Contents",
   "title_sidebar": "Contents",
   "toc_cell": false,
   "toc_position": {},
   "toc_section_display": true,
   "toc_window_display": false
  }
 },
 "nbformat": 4,
 "nbformat_minor": 4
}
