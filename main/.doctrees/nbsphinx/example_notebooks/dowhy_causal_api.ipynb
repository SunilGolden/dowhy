{
 "cells": [
  {
   "cell_type": "markdown",
   "metadata": {},
   "source": [
    "# Demo for the DoWhy causal API\n",
    "We show a simple example of adding a causal extension to any dataframe. "
   ]
  },
  {
   "cell_type": "code",
   "execution_count": 1,
   "metadata": {
    "execution": {
     "iopub.execute_input": "2024-10-19T23:43:14.815124Z",
     "iopub.status.busy": "2024-10-19T23:43:14.814950Z",
     "iopub.status.idle": "2024-10-19T23:43:16.221720Z",
     "shell.execute_reply": "2024-10-19T23:43:16.221067Z"
    }
   },
   "outputs": [],
   "source": [
    "import dowhy.datasets\n",
    "import dowhy.api\n",
    "from dowhy.graph import build_graph_from_str\n",
    "\n",
    "import numpy as np\n",
    "import pandas as pd\n",
    "\n",
    "from statsmodels.api import OLS"
   ]
  },
  {
   "cell_type": "code",
   "execution_count": 2,
   "metadata": {
    "execution": {
     "iopub.execute_input": "2024-10-19T23:43:16.224066Z",
     "iopub.status.busy": "2024-10-19T23:43:16.223760Z",
     "iopub.status.idle": "2024-10-19T23:43:16.287489Z",
     "shell.execute_reply": "2024-10-19T23:43:16.286909Z"
    }
   },
   "outputs": [
    {
     "data": {
      "text/html": [
       "<div>\n",
       "<style scoped>\n",
       "    .dataframe tbody tr th:only-of-type {\n",
       "        vertical-align: middle;\n",
       "    }\n",
       "\n",
       "    .dataframe tbody tr th {\n",
       "        vertical-align: top;\n",
       "    }\n",
       "\n",
       "    .dataframe thead th {\n",
       "        text-align: right;\n",
       "    }\n",
       "</style>\n",
       "<table border=\"1\" class=\"dataframe\">\n",
       "  <thead>\n",
       "    <tr style=\"text-align: right;\">\n",
       "      <th></th>\n",
       "      <th>W0</th>\n",
       "      <th>v0</th>\n",
       "      <th>y</th>\n",
       "    </tr>\n",
       "  </thead>\n",
       "  <tbody>\n",
       "    <tr>\n",
       "      <th>0</th>\n",
       "      <td>2.189678</td>\n",
       "      <td>False</td>\n",
       "      <td>5.600430</td>\n",
       "    </tr>\n",
       "    <tr>\n",
       "      <th>1</th>\n",
       "      <td>1.388721</td>\n",
       "      <td>False</td>\n",
       "      <td>2.093958</td>\n",
       "    </tr>\n",
       "    <tr>\n",
       "      <th>2</th>\n",
       "      <td>0.310346</td>\n",
       "      <td>True</td>\n",
       "      <td>8.289784</td>\n",
       "    </tr>\n",
       "    <tr>\n",
       "      <th>3</th>\n",
       "      <td>1.913677</td>\n",
       "      <td>False</td>\n",
       "      <td>4.320300</td>\n",
       "    </tr>\n",
       "    <tr>\n",
       "      <th>4</th>\n",
       "      <td>1.694236</td>\n",
       "      <td>False</td>\n",
       "      <td>3.616701</td>\n",
       "    </tr>\n",
       "    <tr>\n",
       "      <th>...</th>\n",
       "      <td>...</td>\n",
       "      <td>...</td>\n",
       "      <td>...</td>\n",
       "    </tr>\n",
       "    <tr>\n",
       "      <th>995</th>\n",
       "      <td>-0.417768</td>\n",
       "      <td>False</td>\n",
       "      <td>-0.910359</td>\n",
       "    </tr>\n",
       "    <tr>\n",
       "      <th>996</th>\n",
       "      <td>0.822609</td>\n",
       "      <td>False</td>\n",
       "      <td>0.387237</td>\n",
       "    </tr>\n",
       "    <tr>\n",
       "      <th>997</th>\n",
       "      <td>-1.059541</td>\n",
       "      <td>True</td>\n",
       "      <td>2.176587</td>\n",
       "    </tr>\n",
       "    <tr>\n",
       "      <th>998</th>\n",
       "      <td>2.330745</td>\n",
       "      <td>False</td>\n",
       "      <td>4.708835</td>\n",
       "    </tr>\n",
       "    <tr>\n",
       "      <th>999</th>\n",
       "      <td>0.382361</td>\n",
       "      <td>True</td>\n",
       "      <td>6.688796</td>\n",
       "    </tr>\n",
       "  </tbody>\n",
       "</table>\n",
       "<p>1000 rows × 3 columns</p>\n",
       "</div>"
      ],
      "text/plain": [
       "           W0     v0         y\n",
       "0    2.189678  False  5.600430\n",
       "1    1.388721  False  2.093958\n",
       "2    0.310346   True  8.289784\n",
       "3    1.913677  False  4.320300\n",
       "4    1.694236  False  3.616701\n",
       "..        ...    ...       ...\n",
       "995 -0.417768  False -0.910359\n",
       "996  0.822609  False  0.387237\n",
       "997 -1.059541   True  2.176587\n",
       "998  2.330745  False  4.708835\n",
       "999  0.382361   True  6.688796\n",
       "\n",
       "[1000 rows x 3 columns]"
      ]
     },
     "execution_count": 2,
     "metadata": {},
     "output_type": "execute_result"
    }
   ],
   "source": [
    "data = dowhy.datasets.linear_dataset(beta=5,\n",
    "        num_common_causes=1,\n",
    "        num_instruments = 0,\n",
    "        num_samples=1000,\n",
    "        treatment_is_binary=True)\n",
    "df = data['df']\n",
    "df['y'] = df['y'] + np.random.normal(size=len(df)) # Adding noise to data. Without noise, the variance in Y|X, Z is zero, and mcmc fails.\n",
    "nx_graph = build_graph_from_str(data[\"dot_graph\"])\n",
    "\n",
    "treatment= data[\"treatment_name\"][0]\n",
    "outcome = data[\"outcome_name\"][0]\n",
    "common_cause = data[\"common_causes_names\"][0]\n",
    "df"
   ]
  },
  {
   "cell_type": "code",
   "execution_count": 3,
   "metadata": {
    "execution": {
     "iopub.execute_input": "2024-10-19T23:43:16.289451Z",
     "iopub.status.busy": "2024-10-19T23:43:16.289091Z",
     "iopub.status.idle": "2024-10-19T23:43:16.449650Z",
     "shell.execute_reply": "2024-10-19T23:43:16.448998Z"
    },
    "scrolled": true
   },
   "outputs": [
    {
     "data": {
      "text/plain": [
       "<Axes: xlabel='v0'>"
      ]
     },
     "execution_count": 3,
     "metadata": {},
     "output_type": "execute_result"
    },
    {
     "data": {
      "image/png": "[encoded data removed]",
      "text/plain": [
       "<Figure size 640x480 with 1 Axes>"
      ]
     },
     "metadata": {},
     "output_type": "display_data"
    }
   ],
   "source": [
    "# data['df'] is just a regular pandas.DataFrame\n",
    "df.causal.do(x=treatment,\n",
    "             variable_types={treatment: 'b', outcome: 'c', common_cause: 'c'},\n",
    "             outcome=outcome,\n",
    "             common_causes=[common_cause],\n",
    "            ).groupby(treatment).mean().plot(y=outcome, kind='bar')"
   ]
  },
  {
   "cell_type": "code",
   "execution_count": 4,
   "metadata": {
    "execution": {
     "iopub.execute_input": "2024-10-19T23:43:16.451574Z",
     "iopub.status.busy": "2024-10-19T23:43:16.451383Z",
     "iopub.status.idle": "2024-10-19T23:43:16.566580Z",
     "shell.execute_reply": "2024-10-19T23:43:16.565965Z"
    }
   },
   "outputs": [
    {
     "data": {
      "text/plain": [
       "<Axes: xlabel='v0'>"
      ]
     },
     "execution_count": 4,
     "metadata": {},
     "output_type": "execute_result"
    },
    {
     "data": {
      "image/png": "[encoded data removed]",
      "text/plain": [
       "<Figure size 640x480 with 1 Axes>"
      ]
     },
     "metadata": {},
     "output_type": "display_data"
    }
   ],
   "source": [
    "df.causal.do(x={treatment: 1}, \n",
    "              variable_types={treatment:'b', outcome: 'c', common_cause: 'c'}, \n",
    "              outcome=outcome,\n",
    "              method='weighting', \n",
    "              common_causes=[common_cause]\n",
    "              ).groupby(treatment).mean().plot(y=outcome, kind='bar')"
   ]
  },
  {
   "cell_type": "code",
   "execution_count": 5,
   "metadata": {
    "execution": {
     "iopub.execute_input": "2024-10-19T23:43:16.568494Z",
     "iopub.status.busy": "2024-10-19T23:43:16.568308Z",
     "iopub.status.idle": "2024-10-19T23:43:16.589229Z",
     "shell.execute_reply": "2024-10-19T23:43:16.588612Z"
    }
   },
   "outputs": [],
   "source": [
    "cdf_1 = df.causal.do(x={treatment: 1}, \n",
    "              variable_types={treatment: 'b', outcome: 'c', common_cause: 'c'}, \n",
    "              outcome=outcome, \n",
    "              graph=nx_graph\n",
    "              )\n",
    "\n",
    "cdf_0 = df.causal.do(x={treatment: 0}, \n",
    "              variable_types={treatment: 'b', outcome: 'c', common_cause: 'c'}, \n",
    "              outcome=outcome, \n",
    "              graph=nx_graph\n",
    "              )\n"
   ]
  },
  {
   "cell_type": "code",
   "execution_count": 6,
   "metadata": {
    "execution": {
     "iopub.execute_input": "2024-10-19T23:43:16.591018Z",
     "iopub.status.busy": "2024-10-19T23:43:16.590835Z",
     "iopub.status.idle": "2024-10-19T23:43:16.599571Z",
     "shell.execute_reply": "2024-10-19T23:43:16.599094Z"
    },
    "scrolled": true
   },
   "outputs": [
    {
     "data": {
      "text/html": [
       "<div>\n",
       "<style scoped>\n",
       "    .dataframe tbody tr th:only-of-type {\n",
       "        vertical-align: middle;\n",
       "    }\n",
       "\n",
       "    .dataframe tbody tr th {\n",
       "        vertical-align: top;\n",
       "    }\n",
       "\n",
       "    .dataframe thead th {\n",
       "        text-align: right;\n",
       "    }\n",
       "</style>\n",
       "<table border=\"1\" class=\"dataframe\">\n",
       "  <thead>\n",
       "    <tr style=\"text-align: right;\">\n",
       "      <th></th>\n",
       "      <th>W0</th>\n",
       "      <th>v0</th>\n",
       "      <th>y</th>\n",
       "      <th>propensity_score</th>\n",
       "      <th>weight</th>\n",
       "    </tr>\n",
       "  </thead>\n",
       "  <tbody>\n",
       "    <tr>\n",
       "      <th>0</th>\n",
       "      <td>-1.019356</td>\n",
       "      <td>False</td>\n",
       "      <td>-2.347354</td>\n",
       "      <td>0.500862</td>\n",
       "      <td>1.996559</td>\n",
       "    </tr>\n",
       "    <tr>\n",
       "      <th>1</th>\n",
       "      <td>0.721223</td>\n",
       "      <td>False</td>\n",
       "      <td>1.808889</td>\n",
       "      <td>0.483995</td>\n",
       "      <td>2.066135</td>\n",
       "    </tr>\n",
       "    <tr>\n",
       "      <th>2</th>\n",
       "      <td>2.625687</td>\n",
       "      <td>False</td>\n",
       "      <td>5.881100</td>\n",
       "      <td>0.465584</td>\n",
       "      <td>2.147840</td>\n",
       "    </tr>\n",
       "    <tr>\n",
       "      <th>3</th>\n",
       "      <td>1.135806</td>\n",
       "      <td>False</td>\n",
       "      <td>1.664204</td>\n",
       "      <td>0.479982</td>\n",
       "      <td>2.083411</td>\n",
       "    </tr>\n",
       "    <tr>\n",
       "      <th>4</th>\n",
       "      <td>0.240817</td>\n",
       "      <td>False</td>\n",
       "      <td>0.878289</td>\n",
       "      <td>0.488649</td>\n",
       "      <td>2.046460</td>\n",
       "    </tr>\n",
       "    <tr>\n",
       "      <th>...</th>\n",
       "      <td>...</td>\n",
       "      <td>...</td>\n",
       "      <td>...</td>\n",
       "      <td>...</td>\n",
       "      <td>...</td>\n",
       "    </tr>\n",
       "    <tr>\n",
       "      <th>995</th>\n",
       "      <td>1.062827</td>\n",
       "      <td>False</td>\n",
       "      <td>2.114951</td>\n",
       "      <td>0.480688</td>\n",
       "      <td>2.080350</td>\n",
       "    </tr>\n",
       "    <tr>\n",
       "      <th>996</th>\n",
       "      <td>1.936814</td>\n",
       "      <td>False</td>\n",
       "      <td>4.098610</td>\n",
       "      <td>0.472236</td>\n",
       "      <td>2.117587</td>\n",
       "    </tr>\n",
       "    <tr>\n",
       "      <th>997</th>\n",
       "      <td>0.820606</td>\n",
       "      <td>False</td>\n",
       "      <td>1.303303</td>\n",
       "      <td>0.483033</td>\n",
       "      <td>2.070251</td>\n",
       "    </tr>\n",
       "    <tr>\n",
       "      <th>998</th>\n",
       "      <td>-0.382583</td>\n",
       "      <td>False</td>\n",
       "      <td>-2.777227</td>\n",
       "      <td>0.494690</td>\n",
       "      <td>2.021470</td>\n",
       "    </tr>\n",
       "    <tr>\n",
       "      <th>999</th>\n",
       "      <td>0.093856</td>\n",
       "      <td>False</td>\n",
       "      <td>-0.035757</td>\n",
       "      <td>0.490072</td>\n",
       "      <td>2.040515</td>\n",
       "    </tr>\n",
       "  </tbody>\n",
       "</table>\n",
       "<p>1000 rows × 5 columns</p>\n",
       "</div>"
      ],
      "text/plain": [
       "           W0     v0         y  propensity_score    weight\n",
       "0   -1.019356  False -2.347354          0.500862  1.996559\n",
       "1    0.721223  False  1.808889          0.483995  2.066135\n",
       "2    2.625687  False  5.881100          0.465584  2.147840\n",
       "3    1.135806  False  1.664204          0.479982  2.083411\n",
       "4    0.240817  False  0.878289          0.488649  2.046460\n",
       "..        ...    ...       ...               ...       ...\n",
       "995  1.062827  False  2.114951          0.480688  2.080350\n",
       "996  1.936814  False  4.098610          0.472236  2.117587\n",
       "997  0.820606  False  1.303303          0.483033  2.070251\n",
       "998 -0.382583  False -2.777227          0.494690  2.021470\n",
       "999  0.093856  False -0.035757          0.490072  2.040515\n",
       "\n",
       "[1000 rows x 5 columns]"
      ]
     },
     "execution_count": 6,
     "metadata": {},
     "output_type": "execute_result"
    }
   ],
   "source": [
    "cdf_0"
   ]
  },
  {
   "cell_type": "code",
   "execution_count": 7,
   "metadata": {
    "execution": {
     "iopub.execute_input": "2024-10-19T23:43:16.601442Z",
     "iopub.status.busy": "2024-10-19T23:43:16.601057Z",
     "iopub.status.idle": "2024-10-19T23:43:16.609814Z",
     "shell.execute_reply": "2024-10-19T23:43:16.609209Z"
    }
   },
   "outputs": [
    {
     "data": {
      "text/html": [
       "<div>\n",
       "<style scoped>\n",
       "    .dataframe tbody tr th:only-of-type {\n",
       "        vertical-align: middle;\n",
       "    }\n",
       "\n",
       "    .dataframe tbody tr th {\n",
       "        vertical-align: top;\n",
       "    }\n",
       "\n",
       "    .dataframe thead th {\n",
       "        text-align: right;\n",
       "    }\n",
       "</style>\n",
       "<table border=\"1\" class=\"dataframe\">\n",
       "  <thead>\n",
       "    <tr style=\"text-align: right;\">\n",
       "      <th></th>\n",
       "      <th>W0</th>\n",
       "      <th>v0</th>\n",
       "      <th>y</th>\n",
       "      <th>propensity_score</th>\n",
       "      <th>weight</th>\n",
       "    </tr>\n",
       "  </thead>\n",
       "  <tbody>\n",
       "    <tr>\n",
       "      <th>0</th>\n",
       "      <td>0.179666</td>\n",
       "      <td>True</td>\n",
       "      <td>7.359646</td>\n",
       "      <td>0.510759</td>\n",
       "      <td>1.957871</td>\n",
       "    </tr>\n",
       "    <tr>\n",
       "      <th>1</th>\n",
       "      <td>-1.304697</td>\n",
       "      <td>True</td>\n",
       "      <td>2.206922</td>\n",
       "      <td>0.496372</td>\n",
       "      <td>2.014616</td>\n",
       "    </tr>\n",
       "    <tr>\n",
       "      <th>2</th>\n",
       "      <td>2.146927</td>\n",
       "      <td>True</td>\n",
       "      <td>11.696896</td>\n",
       "      <td>0.529794</td>\n",
       "      <td>1.887525</td>\n",
       "    </tr>\n",
       "    <tr>\n",
       "      <th>3</th>\n",
       "      <td>0.931729</td>\n",
       "      <td>True</td>\n",
       "      <td>7.280872</td>\n",
       "      <td>0.518043</td>\n",
       "      <td>1.930343</td>\n",
       "    </tr>\n",
       "    <tr>\n",
       "      <th>4</th>\n",
       "      <td>0.256639</td>\n",
       "      <td>True</td>\n",
       "      <td>5.648205</td>\n",
       "      <td>0.511505</td>\n",
       "      <td>1.955016</td>\n",
       "    </tr>\n",
       "    <tr>\n",
       "      <th>...</th>\n",
       "      <td>...</td>\n",
       "      <td>...</td>\n",
       "      <td>...</td>\n",
       "      <td>...</td>\n",
       "      <td>...</td>\n",
       "    </tr>\n",
       "    <tr>\n",
       "      <th>995</th>\n",
       "      <td>-1.304697</td>\n",
       "      <td>True</td>\n",
       "      <td>2.206922</td>\n",
       "      <td>0.496372</td>\n",
       "      <td>2.014616</td>\n",
       "    </tr>\n",
       "    <tr>\n",
       "      <th>996</th>\n",
       "      <td>-0.799042</td>\n",
       "      <td>True</td>\n",
       "      <td>4.638932</td>\n",
       "      <td>0.501274</td>\n",
       "      <td>1.994918</td>\n",
       "    </tr>\n",
       "    <tr>\n",
       "      <th>997</th>\n",
       "      <td>0.387640</td>\n",
       "      <td>True</td>\n",
       "      <td>7.164544</td>\n",
       "      <td>0.512774</td>\n",
       "      <td>1.950178</td>\n",
       "    </tr>\n",
       "    <tr>\n",
       "      <th>998</th>\n",
       "      <td>0.036980</td>\n",
       "      <td>True</td>\n",
       "      <td>5.724190</td>\n",
       "      <td>0.509376</td>\n",
       "      <td>1.963185</td>\n",
       "    </tr>\n",
       "    <tr>\n",
       "      <th>999</th>\n",
       "      <td>2.513577</td>\n",
       "      <td>True</td>\n",
       "      <td>10.959737</td>\n",
       "      <td>0.533334</td>\n",
       "      <td>1.874997</td>\n",
       "    </tr>\n",
       "  </tbody>\n",
       "</table>\n",
       "<p>1000 rows × 5 columns</p>\n",
       "</div>"
      ],
      "text/plain": [
       "           W0    v0          y  propensity_score    weight\n",
       "0    0.179666  True   7.359646          0.510759  1.957871\n",
       "1   -1.304697  True   2.206922          0.496372  2.014616\n",
       "2    2.146927  True  11.696896          0.529794  1.887525\n",
       "3    0.931729  True   7.280872          0.518043  1.930343\n",
       "4    0.256639  True   5.648205          0.511505  1.955016\n",
       "..        ...   ...        ...               ...       ...\n",
       "995 -1.304697  True   2.206922          0.496372  2.014616\n",
       "996 -0.799042  True   4.638932          0.501274  1.994918\n",
       "997  0.387640  True   7.164544          0.512774  1.950178\n",
       "998  0.036980  True   5.724190          0.509376  1.963185\n",
       "999  2.513577  True  10.959737          0.533334  1.874997\n",
       "\n",
       "[1000 rows x 5 columns]"
      ]
     },
     "execution_count": 7,
     "metadata": {},
     "output_type": "execute_result"
    }
   ],
   "source": [
    "cdf_1"
   ]
  },
  {
   "cell_type": "markdown",
   "metadata": {},
   "source": [
    "## Comparing the estimate to Linear Regression\n",
    "First, estimating the effect using the causal data frame, and the 95% confidence interval."
   ]
  },
  {
   "cell_type": "code",
   "execution_count": 8,
   "metadata": {
    "execution": {
     "iopub.execute_input": "2024-10-19T23:43:16.611767Z",
     "iopub.status.busy": "2024-10-19T23:43:16.611334Z",
     "iopub.status.idle": "2024-10-19T23:43:16.657554Z",
     "shell.execute_reply": "2024-10-19T23:43:16.656955Z"
    }
   },
   "outputs": [
    {
     "data": {
      "image/png": "[encoded data removed]",
      "text/latex": [
       "$\\displaystyle 4.97996296363016$"
      ],
      "text/plain": [
       "4.979962963630156"
      ]
     },
     "execution_count": 8,
     "metadata": {},
     "output_type": "execute_result"
    }
   ],
   "source": [
    "(cdf_1['y'] - cdf_0['y']).mean()"
   ]
  },
  {
   "cell_type": "code",
   "execution_count": 9,
   "metadata": {
    "execution": {
     "iopub.execute_input": "2024-10-19T23:43:16.659442Z",
     "iopub.status.busy": "2024-10-19T23:43:16.659091Z",
     "iopub.status.idle": "2024-10-19T23:43:16.674816Z",
     "shell.execute_reply": "2024-10-19T23:43:16.674338Z"
    }
   },
   "outputs": [
    {
     "data": {
      "image/png": "[encoded data removed]",
      "text/latex": [
       "$\\displaystyle 0.232608819702524$"
      ],
      "text/plain": [
       "0.23260881970252437"
      ]
     },
     "execution_count": 9,
     "metadata": {},
     "output_type": "execute_result"
    }
   ],
   "source": [
    "1.96*(cdf_1['y'] - cdf_0['y']).std() / np.sqrt(len(df))"
   ]
  },
  {
   "cell_type": "markdown",
   "metadata": {},
   "source": [
    "Comparing to the estimate from OLS."
   ]
  },
  {
   "cell_type": "code",
   "execution_count": 10,
   "metadata": {
    "execution": {
     "iopub.execute_input": "2024-10-19T23:43:16.676669Z",
     "iopub.status.busy": "2024-10-19T23:43:16.676326Z",
     "iopub.status.idle": "2024-10-19T23:43:16.769138Z",
     "shell.execute_reply": "2024-10-19T23:43:16.768581Z"
    }
   },
   "outputs": [
    {
     "data": {
      "text/html": [
       "<table class=\"simpletable\">\n",
       "<caption>OLS Regression Results</caption>\n",
       "<tr>\n",
       "  <th>Dep. Variable:</th>            <td>y</td>        <th>  R-squared (uncentered):</th>      <td>   0.970</td> \n",
       "</tr>\n",
       "<tr>\n",
       "  <th>Model:</th>                   <td>OLS</td>       <th>  Adj. R-squared (uncentered):</th> <td>   0.970</td> \n",
       "</tr>\n",
       "<tr>\n",
       "  <th>Method:</th>             <td>Least Squares</td>  <th>  F-statistic:       </th>          <td>1.608e+04</td>\n",
       "</tr>\n",
       "<tr>\n",
       "  <th>Date:</th>             <td>Sat, 19 Oct 2024</td> <th>  Prob (F-statistic):</th>           <td>  0.00</td>  \n",
       "</tr>\n",
       "<tr>\n",
       "  <th>Time:</th>                 <td>23:43:16</td>     <th>  Log-Likelihood:    </th>          <td> -1420.5</td> \n",
       "</tr>\n",
       "<tr>\n",
       "  <th>No. Observations:</th>      <td>  1000</td>      <th>  AIC:               </th>          <td>   2845.</td> \n",
       "</tr>\n",
       "<tr>\n",
       "  <th>Df Residuals:</th>          <td>   998</td>      <th>  BIC:               </th>          <td>   2855.</td> \n",
       "</tr>\n",
       "<tr>\n",
       "  <th>Df Model:</th>              <td>     2</td>      <th>                     </th>              <td> </td>    \n",
       "</tr>\n",
       "<tr>\n",
       "  <th>Covariance Type:</th>      <td>nonrobust</td>    <th>                     </th>              <td> </td>    \n",
       "</tr>\n",
       "</table>\n",
       "<table class=\"simpletable\">\n",
       "<tr>\n",
       "   <td></td>     <th>coef</th>     <th>std err</th>      <th>t</th>      <th>P>|t|</th>  <th>[0.025</th>    <th>0.975]</th>  \n",
       "</tr>\n",
       "<tr>\n",
       "  <th>x1</th> <td>    2.3400</td> <td>    0.028</td> <td>   84.977</td> <td> 0.000</td> <td>    2.286</td> <td>    2.394</td>\n",
       "</tr>\n",
       "<tr>\n",
       "  <th>x2</th> <td>    4.9894</td> <td>    0.050</td> <td>  100.109</td> <td> 0.000</td> <td>    4.892</td> <td>    5.087</td>\n",
       "</tr>\n",
       "</table>\n",
       "<table class=\"simpletable\">\n",
       "<tr>\n",
       "  <th>Omnibus:</th>       <td> 0.410</td> <th>  Durbin-Watson:     </th> <td>   2.037</td>\n",
       "</tr>\n",
       "<tr>\n",
       "  <th>Prob(Omnibus):</th> <td> 0.815</td> <th>  Jarque-Bera (JB):  </th> <td>   0.454</td>\n",
       "</tr>\n",
       "<tr>\n",
       "  <th>Skew:</th>          <td>-0.047</td> <th>  Prob(JB):          </th> <td>   0.797</td>\n",
       "</tr>\n",
       "<tr>\n",
       "  <th>Kurtosis:</th>      <td> 2.955</td> <th>  Cond. No.          </th> <td>    2.22</td>\n",
       "</tr>\n",
       "</table><br/><br/>Notes:<br/>[1] R² is computed without centering (uncentered) since the model does not contain a constant.<br/>[2] Standard Errors assume that the covariance matrix of the errors is correctly specified."
      ],
      "text/latex": [
       "\\begin{center}\n",
       "\\begin{tabular}{lclc}\n",
       "\\toprule\n",
       "\\textbf{Dep. Variable:}    &        y         & \\textbf{  R-squared (uncentered):}      &     0.970   \\\\\n",
       "\\textbf{Model:}            &       OLS        & \\textbf{  Adj. R-squared (uncentered):} &     0.970   \\\\\n",
       "\\textbf{Method:}           &  Least Squares   & \\textbf{  F-statistic:       }          & 1.608e+04   \\\\\n",
       "\\textbf{Date:}             & Sat, 19 Oct 2024 & \\textbf{  Prob (F-statistic):}          &     0.00    \\\\\n",
       "\\textbf{Time:}             &     23:43:16     & \\textbf{  Log-Likelihood:    }          &   -1420.5   \\\\\n",
       "\\textbf{No. Observations:} &        1000      & \\textbf{  AIC:               }          &     2845.   \\\\\n",
       "\\textbf{Df Residuals:}     &         998      & \\textbf{  BIC:               }          &     2855.   \\\\\n",
       "\\textbf{Df Model:}         &           2      & \\textbf{                     }          &             \\\\\n",
       "\\textbf{Covariance Type:}  &    nonrobust     & \\textbf{                     }          &             \\\\\n",
       "\\bottomrule\n",
       "\\end{tabular}\n",
       "\\begin{tabular}{lcccccc}\n",
       "            & \\textbf{coef} & \\textbf{std err} & \\textbf{t} & \\textbf{P$> |$t$|$} & \\textbf{[0.025} & \\textbf{0.975]}  \\\\\n",
       "\\midrule\n",
       "\\textbf{x1} &       2.3400  &        0.028     &    84.977  &         0.000        &        2.286    &        2.394     \\\\\n",
       "\\textbf{x2} &       4.9894  &        0.050     &   100.109  &         0.000        &        4.892    &        5.087     \\\\\n",
       "\\bottomrule\n",
       "\\end{tabular}\n",
       "\\begin{tabular}{lclc}\n",
       "\\textbf{Omnibus:}       &  0.410 & \\textbf{  Durbin-Watson:     } &    2.037  \\\\\n",
       "\\textbf{Prob(Omnibus):} &  0.815 & \\textbf{  Jarque-Bera (JB):  } &    0.454  \\\\\n",
       "\\textbf{Skew:}          & -0.047 & \\textbf{  Prob(JB):          } &    0.797  \\\\\n",
       "\\textbf{Kurtosis:}      &  2.955 & \\textbf{  Cond. No.          } &     2.22  \\\\\n",
       "\\bottomrule\n",
       "\\end{tabular}\n",
       "%\\caption{OLS Regression Results}\n",
       "\\end{center}\n",
       "\n",
       "Notes: \\newline\n",
       " [1] R² is computed without centering (uncentered) since the model does not contain a constant. \\newline\n",
       " [2] Standard Errors assume that the covariance matrix of the errors is correctly specified."
      ],
      "text/plain": [
       "<class 'statsmodels.iolib.summary.Summary'>\n",
       "\"\"\"\n",
       "                                 OLS Regression Results                                \n",
       "=======================================================================================\n",
       "Dep. Variable:                      y   R-squared (uncentered):                   0.970\n",
       "Model:                            OLS   Adj. R-squared (uncentered):              0.970\n",
       "Method:                 Least Squares   F-statistic:                          1.608e+04\n",
       "Date:                Sat, 19 Oct 2024   Prob (F-statistic):                        0.00\n",
       "Time:                        23:43:16   Log-Likelihood:                         -1420.5\n",
       "No. Observations:                1000   AIC:                                      2845.\n",
       "Df Residuals:                     998   BIC:                                      2855.\n",
       "Df Model:                           2                                                  \n",
       "Covariance Type:            nonrobust                                                  \n",
       "==============================================================================\n",
       "                 coef    std err          t      P>|t|      [0.025      0.975]\n",
       "------------------------------------------------------------------------------\n",
       "x1             2.3400      0.028     84.977      0.000       2.286       2.394\n",
       "x2             4.9894      0.050    100.109      0.000       4.892       5.087\n",
       "==============================================================================\n",
       "Omnibus:                        0.410   Durbin-Watson:                   2.037\n",
       "Prob(Omnibus):                  0.815   Jarque-Bera (JB):                0.454\n",
       "Skew:                          -0.047   Prob(JB):                        0.797\n",
       "Kurtosis:                       2.955   Cond. No.                         2.22\n",
       "==============================================================================\n",
       "\n",
       "Notes:\n",
       "[1] R² is computed without centering (uncentered) since the model does not contain a constant.\n",
       "[2] Standard Errors assume that the covariance matrix of the errors is correctly specified.\n",
       "\"\"\""
      ]
     },
     "execution_count": 10,
     "metadata": {},
     "output_type": "execute_result"
    }
   ],
   "source": [
    "model = OLS(np.asarray(df[outcome]), np.asarray(df[[common_cause, treatment]], dtype=np.float64))\n",
    "result = model.fit()\n",
    "result.summary()"
   ]
  }
 ],
 "metadata": {
  "kernelspec": {
   "display_name": "Python 3 (ipykernel)",
   "language": "python",
   "name": "python3"
  },
  "language_info": {
   "codemirror_mode": {
    "name": "ipython",
    "version": 3
   },
   "file_extension": ".py",
   "mimetype": "text/x-python",
   "name": "python",
   "nbconvert_exporter": "python",
   "pygments_lexer": "ipython3",
   "version": "3.8.10"
  },
  "toc": {
   "base_numbering": 1,
   "nav_menu": {},
   "number_sections": false,
   "sideBar": true,
   "skip_h1_title": true,
   "title_cell": "Table of Contents",
   "title_sidebar": "Contents",
   "toc_cell": false,
   "toc_position": {},
   "toc_section_display": true,
   "toc_window_display": false
  }
 },
 "nbformat": 4,
 "nbformat_minor": 4
}
