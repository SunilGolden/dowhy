{
 "cells": [
  {
   "cell_type": "markdown",
   "metadata": {},
   "source": [
    "# Demo for the DoWhy causal API\n",
    "We show a simple example of adding a causal extension to any dataframe. "
   ]
  },
  {
   "cell_type": "code",
   "execution_count": 1,
   "metadata": {
    "execution": {
     "iopub.execute_input": "2023-11-27T09:18:26.726750Z",
     "iopub.status.busy": "2023-11-27T09:18:26.726575Z",
     "iopub.status.idle": "2023-11-27T09:18:28.116802Z",
     "shell.execute_reply": "2023-11-27T09:18:28.116202Z"
    }
   },
   "outputs": [],
   "source": [
    "import dowhy.datasets\n",
    "import dowhy.api\n",
    "\n",
    "import numpy as np\n",
    "import pandas as pd\n",
    "\n",
    "from statsmodels.api import OLS"
   ]
  },
  {
   "cell_type": "code",
   "execution_count": 2,
   "metadata": {
    "execution": {
     "iopub.execute_input": "2023-11-27T09:18:28.119949Z",
     "iopub.status.busy": "2023-11-27T09:18:28.119339Z",
     "iopub.status.idle": "2023-11-27T09:18:28.178753Z",
     "shell.execute_reply": "2023-11-27T09:18:28.178120Z"
    }
   },
   "outputs": [
    {
     "data": {
      "text/html": [
       "<div>\n",
       "<style scoped>\n",
       "    .dataframe tbody tr th:only-of-type {\n",
       "        vertical-align: middle;\n",
       "    }\n",
       "\n",
       "    .dataframe tbody tr th {\n",
       "        vertical-align: top;\n",
       "    }\n",
       "\n",
       "    .dataframe thead th {\n",
       "        text-align: right;\n",
       "    }\n",
       "</style>\n",
       "<table border=\"1\" class=\"dataframe\">\n",
       "  <thead>\n",
       "    <tr style=\"text-align: right;\">\n",
       "      <th></th>\n",
       "      <th>W0</th>\n",
       "      <th>v0</th>\n",
       "      <th>y</th>\n",
       "    </tr>\n",
       "  </thead>\n",
       "  <tbody>\n",
       "    <tr>\n",
       "      <th>0</th>\n",
       "      <td>1.165846</td>\n",
       "      <td>True</td>\n",
       "      <td>4.898475</td>\n",
       "    </tr>\n",
       "    <tr>\n",
       "      <th>1</th>\n",
       "      <td>-2.973417</td>\n",
       "      <td>False</td>\n",
       "      <td>-2.880521</td>\n",
       "    </tr>\n",
       "    <tr>\n",
       "      <th>2</th>\n",
       "      <td>-2.733533</td>\n",
       "      <td>False</td>\n",
       "      <td>-1.800068</td>\n",
       "    </tr>\n",
       "    <tr>\n",
       "      <th>3</th>\n",
       "      <td>-0.700831</td>\n",
       "      <td>False</td>\n",
       "      <td>-0.837711</td>\n",
       "    </tr>\n",
       "    <tr>\n",
       "      <th>4</th>\n",
       "      <td>-1.528190</td>\n",
       "      <td>False</td>\n",
       "      <td>-1.198808</td>\n",
       "    </tr>\n",
       "    <tr>\n",
       "      <th>...</th>\n",
       "      <td>...</td>\n",
       "      <td>...</td>\n",
       "      <td>...</td>\n",
       "    </tr>\n",
       "    <tr>\n",
       "      <th>995</th>\n",
       "      <td>-1.447895</td>\n",
       "      <td>False</td>\n",
       "      <td>-1.754864</td>\n",
       "    </tr>\n",
       "    <tr>\n",
       "      <th>996</th>\n",
       "      <td>-3.261694</td>\n",
       "      <td>False</td>\n",
       "      <td>-3.581316</td>\n",
       "    </tr>\n",
       "    <tr>\n",
       "      <th>997</th>\n",
       "      <td>-1.081209</td>\n",
       "      <td>False</td>\n",
       "      <td>1.548817</td>\n",
       "    </tr>\n",
       "    <tr>\n",
       "      <th>998</th>\n",
       "      <td>-0.928905</td>\n",
       "      <td>False</td>\n",
       "      <td>-1.106769</td>\n",
       "    </tr>\n",
       "    <tr>\n",
       "      <th>999</th>\n",
       "      <td>-0.136961</td>\n",
       "      <td>False</td>\n",
       "      <td>-0.358277</td>\n",
       "    </tr>\n",
       "  </tbody>\n",
       "</table>\n",
       "<p>1000 rows × 3 columns</p>\n",
       "</div>"
      ],
      "text/plain": [
       "           W0     v0         y\n",
       "0    1.165846   True  4.898475\n",
       "1   -2.973417  False -2.880521\n",
       "2   -2.733533  False -1.800068\n",
       "3   -0.700831  False -0.837711\n",
       "4   -1.528190  False -1.198808\n",
       "..        ...    ...       ...\n",
       "995 -1.447895  False -1.754864\n",
       "996 -3.261694  False -3.581316\n",
       "997 -1.081209  False  1.548817\n",
       "998 -0.928905  False -1.106769\n",
       "999 -0.136961  False -0.358277\n",
       "\n",
       "[1000 rows x 3 columns]"
      ]
     },
     "execution_count": 2,
     "metadata": {},
     "output_type": "execute_result"
    }
   ],
   "source": [
    "data = dowhy.datasets.linear_dataset(beta=5,\n",
    "        num_common_causes=1,\n",
    "        num_instruments = 0,\n",
    "        num_samples=1000,\n",
    "        treatment_is_binary=True)\n",
    "df = data['df']\n",
    "df['y'] = df['y'] + np.random.normal(size=len(df)) # Adding noise to data. Without noise, the variance in Y|X, Z is zero, and mcmc fails.\n",
    "#data['dot_graph'] = 'digraph { v ->y;X0-> v;X0-> y;}'\n",
    "\n",
    "treatment= data[\"treatment_name\"][0]\n",
    "outcome = data[\"outcome_name\"][0]\n",
    "common_cause = data[\"common_causes_names\"][0]\n",
    "df"
   ]
  },
  {
   "cell_type": "code",
   "execution_count": 3,
   "metadata": {
    "execution": {
     "iopub.execute_input": "2023-11-27T09:18:28.181141Z",
     "iopub.status.busy": "2023-11-27T09:18:28.180947Z",
     "iopub.status.idle": "2023-11-27T09:18:28.362781Z",
     "shell.execute_reply": "2023-11-27T09:18:28.362151Z"
    }
   },
   "outputs": [
    {
     "data": {
      "text/plain": [
       "<Axes: xlabel='v0'>"
      ]
     },
     "execution_count": 3,
     "metadata": {},
     "output_type": "execute_result"
    },
    {
     "data": {
      "image/png": "[encoded data removed]",
      "text/plain": [
       "<Figure size 640x480 with 1 Axes>"
      ]
     },
     "metadata": {},
     "output_type": "display_data"
    }
   ],
   "source": [
    "# data['df'] is just a regular pandas.DataFrame\n",
    "df.causal.do(x=treatment,\n",
    "                     variable_types={treatment: 'b', outcome: 'c', common_cause: 'c'},\n",
    "                     outcome=outcome,\n",
    "                     common_causes=[common_cause],\n",
    "                     proceed_when_unidentifiable=True).groupby(treatment).mean().plot(y=outcome, kind='bar')"
   ]
  },
  {
   "cell_type": "code",
   "execution_count": 4,
   "metadata": {
    "execution": {
     "iopub.execute_input": "2023-11-27T09:18:28.365406Z",
     "iopub.status.busy": "2023-11-27T09:18:28.365017Z",
     "iopub.status.idle": "2023-11-27T09:18:28.494100Z",
     "shell.execute_reply": "2023-11-27T09:18:28.493383Z"
    }
   },
   "outputs": [
    {
     "data": {
      "text/plain": [
       "<Axes: xlabel='v0'>"
      ]
     },
     "execution_count": 4,
     "metadata": {},
     "output_type": "execute_result"
    },
    {
     "data": {
      "image/png": "[encoded data removed]",
      "text/plain": [
       "<Figure size 640x480 with 1 Axes>"
      ]
     },
     "metadata": {},
     "output_type": "display_data"
    }
   ],
   "source": [
    "df.causal.do(x={treatment: 1}, \n",
    "              variable_types={treatment:'b', outcome: 'c', common_cause: 'c'}, \n",
    "              outcome=outcome,\n",
    "              method='weighting', \n",
    "              common_causes=[common_cause],\n",
    "              proceed_when_unidentifiable=True).groupby(treatment).mean().plot(y=outcome, kind='bar')"
   ]
  },
  {
   "cell_type": "code",
   "execution_count": 5,
   "metadata": {
    "execution": {
     "iopub.execute_input": "2023-11-27T09:18:28.497016Z",
     "iopub.status.busy": "2023-11-27T09:18:28.496586Z",
     "iopub.status.idle": "2023-11-27T09:18:28.523893Z",
     "shell.execute_reply": "2023-11-27T09:18:28.523260Z"
    }
   },
   "outputs": [],
   "source": [
    "cdf_1 = df.causal.do(x={treatment: 1}, \n",
    "              variable_types={treatment: 'b', outcome: 'c', common_cause: 'c'}, \n",
    "              outcome=outcome, \n",
    "              dot_graph=data['dot_graph'],\n",
    "              proceed_when_unidentifiable=True)\n",
    "\n",
    "cdf_0 = df.causal.do(x={treatment: 0}, \n",
    "              variable_types={treatment: 'b', outcome: 'c', common_cause: 'c'}, \n",
    "              outcome=outcome, \n",
    "              dot_graph=data['dot_graph'],\n",
    "              proceed_when_unidentifiable=True)\n"
   ]
  },
  {
   "cell_type": "code",
   "execution_count": 6,
   "metadata": {
    "execution": {
     "iopub.execute_input": "2023-11-27T09:18:28.526563Z",
     "iopub.status.busy": "2023-11-27T09:18:28.526204Z",
     "iopub.status.idle": "2023-11-27T09:18:28.534796Z",
     "shell.execute_reply": "2023-11-27T09:18:28.534217Z"
    },
    "scrolled": true
   },
   "outputs": [
    {
     "data": {
      "text/html": [
       "<div>\n",
       "<style scoped>\n",
       "    .dataframe tbody tr th:only-of-type {\n",
       "        vertical-align: middle;\n",
       "    }\n",
       "\n",
       "    .dataframe tbody tr th {\n",
       "        vertical-align: top;\n",
       "    }\n",
       "\n",
       "    .dataframe thead th {\n",
       "        text-align: right;\n",
       "    }\n",
       "</style>\n",
       "<table border=\"1\" class=\"dataframe\">\n",
       "  <thead>\n",
       "    <tr style=\"text-align: right;\">\n",
       "      <th></th>\n",
       "      <th>W0</th>\n",
       "      <th>v0</th>\n",
       "      <th>y</th>\n",
       "      <th>propensity_score</th>\n",
       "      <th>weight</th>\n",
       "    </tr>\n",
       "  </thead>\n",
       "  <tbody>\n",
       "    <tr>\n",
       "      <th>0</th>\n",
       "      <td>-1.243252</td>\n",
       "      <td>False</td>\n",
       "      <td>-1.804566</td>\n",
       "      <td>0.864096</td>\n",
       "      <td>1.157279</td>\n",
       "    </tr>\n",
       "    <tr>\n",
       "      <th>1</th>\n",
       "      <td>-1.947563</td>\n",
       "      <td>False</td>\n",
       "      <td>-3.383860</td>\n",
       "      <td>0.945963</td>\n",
       "      <td>1.057124</td>\n",
       "    </tr>\n",
       "    <tr>\n",
       "      <th>2</th>\n",
       "      <td>0.264575</td>\n",
       "      <td>False</td>\n",
       "      <td>2.564084</td>\n",
       "      <td>0.421037</td>\n",
       "      <td>2.375088</td>\n",
       "    </tr>\n",
       "    <tr>\n",
       "      <th>3</th>\n",
       "      <td>-2.273290</td>\n",
       "      <td>False</td>\n",
       "      <td>-1.336138</td>\n",
       "      <td>0.965475</td>\n",
       "      <td>1.035760</td>\n",
       "    </tr>\n",
       "    <tr>\n",
       "      <th>4</th>\n",
       "      <td>-0.312780</td>\n",
       "      <td>False</td>\n",
       "      <td>0.573384</td>\n",
       "      <td>0.625209</td>\n",
       "      <td>1.599465</td>\n",
       "    </tr>\n",
       "    <tr>\n",
       "      <th>...</th>\n",
       "      <td>...</td>\n",
       "      <td>...</td>\n",
       "      <td>...</td>\n",
       "      <td>...</td>\n",
       "      <td>...</td>\n",
       "    </tr>\n",
       "    <tr>\n",
       "      <th>995</th>\n",
       "      <td>-0.556259</td>\n",
       "      <td>False</td>\n",
       "      <td>0.170536</td>\n",
       "      <td>0.703045</td>\n",
       "      <td>1.422384</td>\n",
       "    </tr>\n",
       "    <tr>\n",
       "      <th>996</th>\n",
       "      <td>-1.020518</td>\n",
       "      <td>False</td>\n",
       "      <td>-2.087888</td>\n",
       "      <td>0.821925</td>\n",
       "      <td>1.216656</td>\n",
       "    </tr>\n",
       "    <tr>\n",
       "      <th>997</th>\n",
       "      <td>-0.166632</td>\n",
       "      <td>False</td>\n",
       "      <td>1.032011</td>\n",
       "      <td>0.574823</td>\n",
       "      <td>1.739665</td>\n",
       "    </tr>\n",
       "    <tr>\n",
       "      <th>998</th>\n",
       "      <td>0.925807</td>\n",
       "      <td>False</td>\n",
       "      <td>1.583095</td>\n",
       "      <td>0.219365</td>\n",
       "      <td>4.558609</td>\n",
       "    </tr>\n",
       "    <tr>\n",
       "      <th>999</th>\n",
       "      <td>0.269818</td>\n",
       "      <td>False</td>\n",
       "      <td>-2.204826</td>\n",
       "      <td>0.419200</td>\n",
       "      <td>2.385496</td>\n",
       "    </tr>\n",
       "  </tbody>\n",
       "</table>\n",
       "<p>1000 rows × 5 columns</p>\n",
       "</div>"
      ],
      "text/plain": [
       "           W0     v0         y  propensity_score    weight\n",
       "0   -1.243252  False -1.804566          0.864096  1.157279\n",
       "1   -1.947563  False -3.383860          0.945963  1.057124\n",
       "2    0.264575  False  2.564084          0.421037  2.375088\n",
       "3   -2.273290  False -1.336138          0.965475  1.035760\n",
       "4   -0.312780  False  0.573384          0.625209  1.599465\n",
       "..        ...    ...       ...               ...       ...\n",
       "995 -0.556259  False  0.170536          0.703045  1.422384\n",
       "996 -1.020518  False -2.087888          0.821925  1.216656\n",
       "997 -0.166632  False  1.032011          0.574823  1.739665\n",
       "998  0.925807  False  1.583095          0.219365  4.558609\n",
       "999  0.269818  False -2.204826          0.419200  2.385496\n",
       "\n",
       "[1000 rows x 5 columns]"
      ]
     },
     "execution_count": 6,
     "metadata": {},
     "output_type": "execute_result"
    }
   ],
   "source": [
    "cdf_0"
   ]
  },
  {
   "cell_type": "code",
   "execution_count": 7,
   "metadata": {
    "execution": {
     "iopub.execute_input": "2023-11-27T09:18:28.536859Z",
     "iopub.status.busy": "2023-11-27T09:18:28.536682Z",
     "iopub.status.idle": "2023-11-27T09:18:28.545298Z",
     "shell.execute_reply": "2023-11-27T09:18:28.544802Z"
    }
   },
   "outputs": [
    {
     "data": {
      "text/html": [
       "<div>\n",
       "<style scoped>\n",
       "    .dataframe tbody tr th:only-of-type {\n",
       "        vertical-align: middle;\n",
       "    }\n",
       "\n",
       "    .dataframe tbody tr th {\n",
       "        vertical-align: top;\n",
       "    }\n",
       "\n",
       "    .dataframe thead th {\n",
       "        text-align: right;\n",
       "    }\n",
       "</style>\n",
       "<table border=\"1\" class=\"dataframe\">\n",
       "  <thead>\n",
       "    <tr style=\"text-align: right;\">\n",
       "      <th></th>\n",
       "      <th>W0</th>\n",
       "      <th>v0</th>\n",
       "      <th>y</th>\n",
       "      <th>propensity_score</th>\n",
       "      <th>weight</th>\n",
       "    </tr>\n",
       "  </thead>\n",
       "  <tbody>\n",
       "    <tr>\n",
       "      <th>0</th>\n",
       "      <td>-0.055647</td>\n",
       "      <td>True</td>\n",
       "      <td>5.052966</td>\n",
       "      <td>0.464569</td>\n",
       "      <td>2.152532</td>\n",
       "    </tr>\n",
       "    <tr>\n",
       "      <th>1</th>\n",
       "      <td>-1.247729</td>\n",
       "      <td>True</td>\n",
       "      <td>3.360896</td>\n",
       "      <td>0.135150</td>\n",
       "      <td>7.399208</td>\n",
       "    </tr>\n",
       "    <tr>\n",
       "      <th>2</th>\n",
       "      <td>-1.707798</td>\n",
       "      <td>True</td>\n",
       "      <td>2.187090</td>\n",
       "      <td>0.074623</td>\n",
       "      <td>13.400712</td>\n",
       "    </tr>\n",
       "    <tr>\n",
       "      <th>3</th>\n",
       "      <td>0.748888</td>\n",
       "      <td>True</td>\n",
       "      <td>6.964967</td>\n",
       "      <td>0.733990</td>\n",
       "      <td>1.362417</td>\n",
       "    </tr>\n",
       "    <tr>\n",
       "      <th>4</th>\n",
       "      <td>0.277232</td>\n",
       "      <td>True</td>\n",
       "      <td>4.834429</td>\n",
       "      <td>0.583393</td>\n",
       "      <td>1.714109</td>\n",
       "    </tr>\n",
       "    <tr>\n",
       "      <th>...</th>\n",
       "      <td>...</td>\n",
       "      <td>...</td>\n",
       "      <td>...</td>\n",
       "      <td>...</td>\n",
       "      <td>...</td>\n",
       "    </tr>\n",
       "    <tr>\n",
       "      <th>995</th>\n",
       "      <td>-1.657681</td>\n",
       "      <td>True</td>\n",
       "      <td>4.285212</td>\n",
       "      <td>0.079755</td>\n",
       "      <td>12.538462</td>\n",
       "    </tr>\n",
       "    <tr>\n",
       "      <th>996</th>\n",
       "      <td>-0.418750</td>\n",
       "      <td>True</td>\n",
       "      <td>4.802385</td>\n",
       "      <td>0.339818</td>\n",
       "      <td>2.942747</td>\n",
       "    </tr>\n",
       "    <tr>\n",
       "      <th>997</th>\n",
       "      <td>0.655487</td>\n",
       "      <td>True</td>\n",
       "      <td>5.031105</td>\n",
       "      <td>0.706957</td>\n",
       "      <td>1.414513</td>\n",
       "    </tr>\n",
       "    <tr>\n",
       "      <th>998</th>\n",
       "      <td>-1.301508</td>\n",
       "      <td>True</td>\n",
       "      <td>4.894662</td>\n",
       "      <td>0.126363</td>\n",
       "      <td>7.913725</td>\n",
       "    </tr>\n",
       "    <tr>\n",
       "      <th>999</th>\n",
       "      <td>-1.264343</td>\n",
       "      <td>True</td>\n",
       "      <td>4.028819</td>\n",
       "      <td>0.132381</td>\n",
       "      <td>7.553935</td>\n",
       "    </tr>\n",
       "  </tbody>\n",
       "</table>\n",
       "<p>1000 rows × 5 columns</p>\n",
       "</div>"
      ],
      "text/plain": [
       "           W0    v0         y  propensity_score     weight\n",
       "0   -0.055647  True  5.052966          0.464569   2.152532\n",
       "1   -1.247729  True  3.360896          0.135150   7.399208\n",
       "2   -1.707798  True  2.187090          0.074623  13.400712\n",
       "3    0.748888  True  6.964967          0.733990   1.362417\n",
       "4    0.277232  True  4.834429          0.583393   1.714109\n",
       "..        ...   ...       ...               ...        ...\n",
       "995 -1.657681  True  4.285212          0.079755  12.538462\n",
       "996 -0.418750  True  4.802385          0.339818   2.942747\n",
       "997  0.655487  True  5.031105          0.706957   1.414513\n",
       "998 -1.301508  True  4.894662          0.126363   7.913725\n",
       "999 -1.264343  True  4.028819          0.132381   7.553935\n",
       "\n",
       "[1000 rows x 5 columns]"
      ]
     },
     "execution_count": 7,
     "metadata": {},
     "output_type": "execute_result"
    }
   ],
   "source": [
    "cdf_1"
   ]
  },
  {
   "cell_type": "markdown",
   "metadata": {},
   "source": [
    "## Comparing the estimate to Linear Regression\n",
    "First, estimating the effect using the causal data frame, and the 95% confidence interval."
   ]
  },
  {
   "cell_type": "code",
   "execution_count": 8,
   "metadata": {
    "execution": {
     "iopub.execute_input": "2023-11-27T09:18:28.547276Z",
     "iopub.status.busy": "2023-11-27T09:18:28.547099Z",
     "iopub.status.idle": "2023-11-27T09:18:28.593496Z",
     "shell.execute_reply": "2023-11-27T09:18:28.592806Z"
    }
   },
   "outputs": [
    {
     "data": {
      "image/png": "[encoded data removed]",
      "text/latex": [
       "$\\displaystyle 5.2260340435441$"
      ],
      "text/plain": [
       "5.226034043544102"
      ]
     },
     "execution_count": 8,
     "metadata": {},
     "output_type": "execute_result"
    }
   ],
   "source": [
    "(cdf_1['y'] - cdf_0['y']).mean()"
   ]
  },
  {
   "cell_type": "code",
   "execution_count": 9,
   "metadata": {
    "execution": {
     "iopub.execute_input": "2023-11-27T09:18:28.596273Z",
     "iopub.status.busy": "2023-11-27T09:18:28.596057Z",
     "iopub.status.idle": "2023-11-27T09:18:28.614219Z",
     "shell.execute_reply": "2023-11-27T09:18:28.613622Z"
    }
   },
   "outputs": [
    {
     "data": {
      "image/png": "[encoded data removed]",
      "text/latex": [
       "$\\displaystyle 0.103712273835376$"
      ],
      "text/plain": [
       "0.10371227383537603"
      ]
     },
     "execution_count": 9,
     "metadata": {},
     "output_type": "execute_result"
    }
   ],
   "source": [
    "1.96*(cdf_1['y'] - cdf_0['y']).std() / np.sqrt(len(df))"
   ]
  },
  {
   "cell_type": "markdown",
   "metadata": {},
   "source": [
    "Comparing to the estimate from OLS."
   ]
  },
  {
   "cell_type": "code",
   "execution_count": 10,
   "metadata": {
    "execution": {
     "iopub.execute_input": "2023-11-27T09:18:28.616532Z",
     "iopub.status.busy": "2023-11-27T09:18:28.616193Z",
     "iopub.status.idle": "2023-11-27T09:18:28.634336Z",
     "shell.execute_reply": "2023-11-27T09:18:28.633724Z"
    }
   },
   "outputs": [
    {
     "data": {
      "text/html": [
       "<table class=\"simpletable\">\n",
       "<caption>OLS Regression Results</caption>\n",
       "<tr>\n",
       "  <th>Dep. Variable:</th>            <td>y</td>        <th>  R-squared (uncentered):</th>      <td>   0.884</td>\n",
       "</tr>\n",
       "<tr>\n",
       "  <th>Model:</th>                   <td>OLS</td>       <th>  Adj. R-squared (uncentered):</th> <td>   0.884</td>\n",
       "</tr>\n",
       "<tr>\n",
       "  <th>Method:</th>             <td>Least Squares</td>  <th>  F-statistic:       </th>          <td>   3820.</td>\n",
       "</tr>\n",
       "<tr>\n",
       "  <th>Date:</th>             <td>Mon, 27 Nov 2023</td> <th>  Prob (F-statistic):</th>           <td>  0.00</td> \n",
       "</tr>\n",
       "<tr>\n",
       "  <th>Time:</th>                 <td>09:18:28</td>     <th>  Log-Likelihood:    </th>          <td> -1404.2</td>\n",
       "</tr>\n",
       "<tr>\n",
       "  <th>No. Observations:</th>      <td>  1000</td>      <th>  AIC:               </th>          <td>   2812.</td>\n",
       "</tr>\n",
       "<tr>\n",
       "  <th>Df Residuals:</th>          <td>   998</td>      <th>  BIC:               </th>          <td>   2822.</td>\n",
       "</tr>\n",
       "<tr>\n",
       "  <th>Df Model:</th>              <td>     2</td>      <th>                     </th>              <td> </td>   \n",
       "</tr>\n",
       "<tr>\n",
       "  <th>Covariance Type:</th>      <td>nonrobust</td>    <th>                     </th>              <td> </td>   \n",
       "</tr>\n",
       "</table>\n",
       "<table class=\"simpletable\">\n",
       "<tr>\n",
       "   <td></td>     <th>coef</th>     <th>std err</th>      <th>t</th>      <th>P>|t|</th>  <th>[0.025</th>    <th>0.975]</th>  \n",
       "</tr>\n",
       "<tr>\n",
       "  <th>x1</th> <td>    0.8420</td> <td>    0.023</td> <td>   37.134</td> <td> 0.000</td> <td>    0.797</td> <td>    0.886</td>\n",
       "</tr>\n",
       "<tr>\n",
       "  <th>x2</th> <td>    5.0140</td> <td>    0.062</td> <td>   81.325</td> <td> 0.000</td> <td>    4.893</td> <td>    5.135</td>\n",
       "</tr>\n",
       "</table>\n",
       "<table class=\"simpletable\">\n",
       "<tr>\n",
       "  <th>Omnibus:</th>       <td> 2.726</td> <th>  Durbin-Watson:     </th> <td>   2.070</td>\n",
       "</tr>\n",
       "<tr>\n",
       "  <th>Prob(Omnibus):</th> <td> 0.256</td> <th>  Jarque-Bera (JB):  </th> <td>   2.630</td>\n",
       "</tr>\n",
       "<tr>\n",
       "  <th>Skew:</th>          <td> 0.089</td> <th>  Prob(JB):          </th> <td>   0.269</td>\n",
       "</tr>\n",
       "<tr>\n",
       "  <th>Kurtosis:</th>      <td> 3.177</td> <th>  Cond. No.          </th> <td>    2.73</td>\n",
       "</tr>\n",
       "</table><br/><br/>Notes:<br/>[1] R² is computed without centering (uncentered) since the model does not contain a constant.<br/>[2] Standard Errors assume that the covariance matrix of the errors is correctly specified."
      ],
      "text/latex": [
       "\\begin{center}\n",
       "\\begin{tabular}{lclc}\n",
       "\\toprule\n",
       "\\textbf{Dep. Variable:}    &        y         & \\textbf{  R-squared (uncentered):}      &     0.884   \\\\\n",
       "\\textbf{Model:}            &       OLS        & \\textbf{  Adj. R-squared (uncentered):} &     0.884   \\\\\n",
       "\\textbf{Method:}           &  Least Squares   & \\textbf{  F-statistic:       }          &     3820.   \\\\\n",
       "\\textbf{Date:}             & Mon, 27 Nov 2023 & \\textbf{  Prob (F-statistic):}          &     0.00    \\\\\n",
       "\\textbf{Time:}             &     09:18:28     & \\textbf{  Log-Likelihood:    }          &   -1404.2   \\\\\n",
       "\\textbf{No. Observations:} &        1000      & \\textbf{  AIC:               }          &     2812.   \\\\\n",
       "\\textbf{Df Residuals:}     &         998      & \\textbf{  BIC:               }          &     2822.   \\\\\n",
       "\\textbf{Df Model:}         &           2      & \\textbf{                     }          &             \\\\\n",
       "\\textbf{Covariance Type:}  &    nonrobust     & \\textbf{                     }          &             \\\\\n",
       "\\bottomrule\n",
       "\\end{tabular}\n",
       "\\begin{tabular}{lcccccc}\n",
       "            & \\textbf{coef} & \\textbf{std err} & \\textbf{t} & \\textbf{P$> |$t$|$} & \\textbf{[0.025} & \\textbf{0.975]}  \\\\\n",
       "\\midrule\n",
       "\\textbf{x1} &       0.8420  &        0.023     &    37.134  &         0.000        &        0.797    &        0.886     \\\\\n",
       "\\textbf{x2} &       5.0140  &        0.062     &    81.325  &         0.000        &        4.893    &        5.135     \\\\\n",
       "\\bottomrule\n",
       "\\end{tabular}\n",
       "\\begin{tabular}{lclc}\n",
       "\\textbf{Omnibus:}       &  2.726 & \\textbf{  Durbin-Watson:     } &    2.070  \\\\\n",
       "\\textbf{Prob(Omnibus):} &  0.256 & \\textbf{  Jarque-Bera (JB):  } &    2.630  \\\\\n",
       "\\textbf{Skew:}          &  0.089 & \\textbf{  Prob(JB):          } &    0.269  \\\\\n",
       "\\textbf{Kurtosis:}      &  3.177 & \\textbf{  Cond. No.          } &     2.73  \\\\\n",
       "\\bottomrule\n",
       "\\end{tabular}\n",
       "%\\caption{OLS Regression Results}\n",
       "\\end{center}\n",
       "\n",
       "Notes: \\newline\n",
       " [1] R² is computed without centering (uncentered) since the model does not contain a constant. \\newline\n",
       " [2] Standard Errors assume that the covariance matrix of the errors is correctly specified."
      ],
      "text/plain": [
       "<class 'statsmodels.iolib.summary.Summary'>\n",
       "\"\"\"\n",
       "                                 OLS Regression Results                                \n",
       "=======================================================================================\n",
       "Dep. Variable:                      y   R-squared (uncentered):                   0.884\n",
       "Model:                            OLS   Adj. R-squared (uncentered):              0.884\n",
       "Method:                 Least Squares   F-statistic:                              3820.\n",
       "Date:                Mon, 27 Nov 2023   Prob (F-statistic):                        0.00\n",
       "Time:                        09:18:28   Log-Likelihood:                         -1404.2\n",
       "No. Observations:                1000   AIC:                                      2812.\n",
       "Df Residuals:                     998   BIC:                                      2822.\n",
       "Df Model:                           2                                                  \n",
       "Covariance Type:            nonrobust                                                  \n",
       "==============================================================================\n",
       "                 coef    std err          t      P>|t|      [0.025      0.975]\n",
       "------------------------------------------------------------------------------\n",
       "x1             0.8420      0.023     37.134      0.000       0.797       0.886\n",
       "x2             5.0140      0.062     81.325      0.000       4.893       5.135\n",
       "==============================================================================\n",
       "Omnibus:                        2.726   Durbin-Watson:                   2.070\n",
       "Prob(Omnibus):                  0.256   Jarque-Bera (JB):                2.630\n",
       "Skew:                           0.089   Prob(JB):                        0.269\n",
       "Kurtosis:                       3.177   Cond. No.                         2.73\n",
       "==============================================================================\n",
       "\n",
       "Notes:\n",
       "[1] R² is computed without centering (uncentered) since the model does not contain a constant.\n",
       "[2] Standard Errors assume that the covariance matrix of the errors is correctly specified.\n",
       "\"\"\""
      ]
     },
     "execution_count": 10,
     "metadata": {},
     "output_type": "execute_result"
    }
   ],
   "source": [
    "model = OLS(np.asarray(df[outcome]), np.asarray(df[[common_cause, treatment]], dtype=np.float64))\n",
    "result = model.fit()\n",
    "result.summary()"
   ]
  }
 ],
 "metadata": {
  "kernelspec": {
   "display_name": "Python 3",
   "language": "python",
   "name": "python3"
  },
  "language_info": {
   "codemirror_mode": {
    "name": "ipython",
    "version": 3
   },
   "file_extension": ".py",
   "mimetype": "text/x-python",
   "name": "python",
   "nbconvert_exporter": "python",
   "pygments_lexer": "ipython3",
   "version": "3.8.10"
  },
  "toc": {
   "base_numbering": 1,
   "nav_menu": {},
   "number_sections": false,
   "sideBar": true,
   "skip_h1_title": true,
   "title_cell": "Table of Contents",
   "title_sidebar": "Contents",
   "toc_cell": false,
   "toc_position": {},
   "toc_section_display": true,
   "toc_window_display": false
  }
 },
 "nbformat": 4,
 "nbformat_minor": 4
}
