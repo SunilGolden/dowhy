{
 "cells": [
  {
   "cell_type": "markdown",
   "metadata": {},
   "source": [
    "# Demo for the DoWhy causal API\n",
    "We show a simple example of adding a causal extension to any dataframe. "
   ]
  },
  {
   "cell_type": "code",
   "execution_count": 1,
   "metadata": {
    "execution": {
     "iopub.execute_input": "2023-12-03T07:12:00.384138Z",
     "iopub.status.busy": "2023-12-03T07:12:00.383970Z",
     "iopub.status.idle": "2023-12-03T07:12:01.765240Z",
     "shell.execute_reply": "2023-12-03T07:12:01.764629Z"
    }
   },
   "outputs": [],
   "source": [
    "import dowhy.datasets\n",
    "import dowhy.api\n",
    "from dowhy.graph import build_graph_from_str\n",
    "\n",
    "import numpy as np\n",
    "import pandas as pd\n",
    "\n",
    "from statsmodels.api import OLS"
   ]
  },
  {
   "cell_type": "code",
   "execution_count": 2,
   "metadata": {
    "execution": {
     "iopub.execute_input": "2023-12-03T07:12:01.768085Z",
     "iopub.status.busy": "2023-12-03T07:12:01.767594Z",
     "iopub.status.idle": "2023-12-03T07:12:01.807447Z",
     "shell.execute_reply": "2023-12-03T07:12:01.806833Z"
    }
   },
   "outputs": [
    {
     "data": {
      "text/html": [
       "<div>\n",
       "<style scoped>\n",
       "    .dataframe tbody tr th:only-of-type {\n",
       "        vertical-align: middle;\n",
       "    }\n",
       "\n",
       "    .dataframe tbody tr th {\n",
       "        vertical-align: top;\n",
       "    }\n",
       "\n",
       "    .dataframe thead th {\n",
       "        text-align: right;\n",
       "    }\n",
       "</style>\n",
       "<table border=\"1\" class=\"dataframe\">\n",
       "  <thead>\n",
       "    <tr style=\"text-align: right;\">\n",
       "      <th></th>\n",
       "      <th>W0</th>\n",
       "      <th>v0</th>\n",
       "      <th>y</th>\n",
       "    </tr>\n",
       "  </thead>\n",
       "  <tbody>\n",
       "    <tr>\n",
       "      <th>0</th>\n",
       "      <td>0.138649</td>\n",
       "      <td>False</td>\n",
       "      <td>0.036420</td>\n",
       "    </tr>\n",
       "    <tr>\n",
       "      <th>1</th>\n",
       "      <td>1.856474</td>\n",
       "      <td>True</td>\n",
       "      <td>7.442506</td>\n",
       "    </tr>\n",
       "    <tr>\n",
       "      <th>2</th>\n",
       "      <td>-0.990596</td>\n",
       "      <td>True</td>\n",
       "      <td>3.599313</td>\n",
       "    </tr>\n",
       "    <tr>\n",
       "      <th>3</th>\n",
       "      <td>1.203419</td>\n",
       "      <td>True</td>\n",
       "      <td>6.996174</td>\n",
       "    </tr>\n",
       "    <tr>\n",
       "      <th>4</th>\n",
       "      <td>-0.062685</td>\n",
       "      <td>False</td>\n",
       "      <td>-1.244184</td>\n",
       "    </tr>\n",
       "    <tr>\n",
       "      <th>...</th>\n",
       "      <td>...</td>\n",
       "      <td>...</td>\n",
       "      <td>...</td>\n",
       "    </tr>\n",
       "    <tr>\n",
       "      <th>995</th>\n",
       "      <td>0.924591</td>\n",
       "      <td>True</td>\n",
       "      <td>8.395787</td>\n",
       "    </tr>\n",
       "    <tr>\n",
       "      <th>996</th>\n",
       "      <td>1.904014</td>\n",
       "      <td>True</td>\n",
       "      <td>7.061856</td>\n",
       "    </tr>\n",
       "    <tr>\n",
       "      <th>997</th>\n",
       "      <td>0.386262</td>\n",
       "      <td>False</td>\n",
       "      <td>0.712719</td>\n",
       "    </tr>\n",
       "    <tr>\n",
       "      <th>998</th>\n",
       "      <td>0.769776</td>\n",
       "      <td>True</td>\n",
       "      <td>7.633632</td>\n",
       "    </tr>\n",
       "    <tr>\n",
       "      <th>999</th>\n",
       "      <td>2.657369</td>\n",
       "      <td>True</td>\n",
       "      <td>9.832061</td>\n",
       "    </tr>\n",
       "  </tbody>\n",
       "</table>\n",
       "<p>1000 rows × 3 columns</p>\n",
       "</div>"
      ],
      "text/plain": [
       "           W0     v0         y\n",
       "0    0.138649  False  0.036420\n",
       "1    1.856474   True  7.442506\n",
       "2   -0.990596   True  3.599313\n",
       "3    1.203419   True  6.996174\n",
       "4   -0.062685  False -1.244184\n",
       "..        ...    ...       ...\n",
       "995  0.924591   True  8.395787\n",
       "996  1.904014   True  7.061856\n",
       "997  0.386262  False  0.712719\n",
       "998  0.769776   True  7.633632\n",
       "999  2.657369   True  9.832061\n",
       "\n",
       "[1000 rows x 3 columns]"
      ]
     },
     "execution_count": 2,
     "metadata": {},
     "output_type": "execute_result"
    }
   ],
   "source": [
    "data = dowhy.datasets.linear_dataset(beta=5,\n",
    "        num_common_causes=1,\n",
    "        num_instruments = 0,\n",
    "        num_samples=1000,\n",
    "        treatment_is_binary=True)\n",
    "df = data['df']\n",
    "df['y'] = df['y'] + np.random.normal(size=len(df)) # Adding noise to data. Without noise, the variance in Y|X, Z is zero, and mcmc fails.\n",
    "nx_graph = build_graph_from_str(data[\"dot_graph\"])\n",
    "\n",
    "treatment= data[\"treatment_name\"][0]\n",
    "outcome = data[\"outcome_name\"][0]\n",
    "common_cause = data[\"common_causes_names\"][0]\n",
    "df"
   ]
  },
  {
   "cell_type": "code",
   "execution_count": 3,
   "metadata": {
    "execution": {
     "iopub.execute_input": "2023-12-03T07:12:01.809638Z",
     "iopub.status.busy": "2023-12-03T07:12:01.809457Z",
     "iopub.status.idle": "2023-12-03T07:12:01.992634Z",
     "shell.execute_reply": "2023-12-03T07:12:01.992006Z"
    },
    "scrolled": true
   },
   "outputs": [
    {
     "data": {
      "text/plain": [
       "<Axes: xlabel='v0'>"
      ]
     },
     "execution_count": 3,
     "metadata": {},
     "output_type": "execute_result"
    },
    {
     "data": {
      "image/png": "[encoded data removed]",
      "text/plain": [
       "<Figure size 640x480 with 1 Axes>"
      ]
     },
     "metadata": {},
     "output_type": "display_data"
    }
   ],
   "source": [
    "# data['df'] is just a regular pandas.DataFrame\n",
    "df.causal.do(x=treatment,\n",
    "             variable_types={treatment: 'b', outcome: 'c', common_cause: 'c'},\n",
    "             outcome=outcome,\n",
    "             common_causes=[common_cause],\n",
    "            ).groupby(treatment).mean().plot(y=outcome, kind='bar')"
   ]
  },
  {
   "cell_type": "code",
   "execution_count": 4,
   "metadata": {
    "execution": {
     "iopub.execute_input": "2023-12-03T07:12:01.995107Z",
     "iopub.status.busy": "2023-12-03T07:12:01.994752Z",
     "iopub.status.idle": "2023-12-03T07:12:02.132875Z",
     "shell.execute_reply": "2023-12-03T07:12:02.132214Z"
    }
   },
   "outputs": [
    {
     "data": {
      "text/plain": [
       "<Axes: xlabel='v0'>"
      ]
     },
     "execution_count": 4,
     "metadata": {},
     "output_type": "execute_result"
    },
    {
     "data": {
      "image/png": "[encoded data removed]",
      "text/plain": [
       "<Figure size 640x480 with 1 Axes>"
      ]
     },
     "metadata": {},
     "output_type": "display_data"
    }
   ],
   "source": [
    "df.causal.do(x={treatment: 1}, \n",
    "              variable_types={treatment:'b', outcome: 'c', common_cause: 'c'}, \n",
    "              outcome=outcome,\n",
    "              method='weighting', \n",
    "              common_causes=[common_cause]\n",
    "              ).groupby(treatment).mean().plot(y=outcome, kind='bar')"
   ]
  },
  {
   "cell_type": "code",
   "execution_count": 5,
   "metadata": {
    "execution": {
     "iopub.execute_input": "2023-12-03T07:12:02.135297Z",
     "iopub.status.busy": "2023-12-03T07:12:02.134844Z",
     "iopub.status.idle": "2023-12-03T07:12:02.156062Z",
     "shell.execute_reply": "2023-12-03T07:12:02.155414Z"
    }
   },
   "outputs": [],
   "source": [
    "cdf_1 = df.causal.do(x={treatment: 1}, \n",
    "              variable_types={treatment: 'b', outcome: 'c', common_cause: 'c'}, \n",
    "              outcome=outcome, \n",
    "              graph=nx_graph\n",
    "              )\n",
    "\n",
    "cdf_0 = df.causal.do(x={treatment: 0}, \n",
    "              variable_types={treatment: 'b', outcome: 'c', common_cause: 'c'}, \n",
    "              outcome=outcome, \n",
    "              graph=nx_graph\n",
    "              )\n"
   ]
  },
  {
   "cell_type": "code",
   "execution_count": 6,
   "metadata": {
    "execution": {
     "iopub.execute_input": "2023-12-03T07:12:02.158553Z",
     "iopub.status.busy": "2023-12-03T07:12:02.158133Z",
     "iopub.status.idle": "2023-12-03T07:12:02.167121Z",
     "shell.execute_reply": "2023-12-03T07:12:02.166524Z"
    },
    "scrolled": true
   },
   "outputs": [
    {
     "data": {
      "text/html": [
       "<div>\n",
       "<style scoped>\n",
       "    .dataframe tbody tr th:only-of-type {\n",
       "        vertical-align: middle;\n",
       "    }\n",
       "\n",
       "    .dataframe tbody tr th {\n",
       "        vertical-align: top;\n",
       "    }\n",
       "\n",
       "    .dataframe thead th {\n",
       "        text-align: right;\n",
       "    }\n",
       "</style>\n",
       "<table border=\"1\" class=\"dataframe\">\n",
       "  <thead>\n",
       "    <tr style=\"text-align: right;\">\n",
       "      <th></th>\n",
       "      <th>W0</th>\n",
       "      <th>v0</th>\n",
       "      <th>y</th>\n",
       "      <th>propensity_score</th>\n",
       "      <th>weight</th>\n",
       "    </tr>\n",
       "  </thead>\n",
       "  <tbody>\n",
       "    <tr>\n",
       "      <th>0</th>\n",
       "      <td>0.441057</td>\n",
       "      <td>False</td>\n",
       "      <td>0.933512</td>\n",
       "      <td>0.274681</td>\n",
       "      <td>3.640581</td>\n",
       "    </tr>\n",
       "    <tr>\n",
       "      <th>1</th>\n",
       "      <td>1.160393</td>\n",
       "      <td>False</td>\n",
       "      <td>1.391324</td>\n",
       "      <td>0.083835</td>\n",
       "      <td>11.928165</td>\n",
       "    </tr>\n",
       "    <tr>\n",
       "      <th>2</th>\n",
       "      <td>-0.571954</td>\n",
       "      <td>False</td>\n",
       "      <td>-2.177065</td>\n",
       "      <td>0.736763</td>\n",
       "      <td>1.357288</td>\n",
       "    </tr>\n",
       "    <tr>\n",
       "      <th>3</th>\n",
       "      <td>-0.654082</td>\n",
       "      <td>False</td>\n",
       "      <td>-1.189069</td>\n",
       "      <td>0.766987</td>\n",
       "      <td>1.303803</td>\n",
       "    </tr>\n",
       "    <tr>\n",
       "      <th>4</th>\n",
       "      <td>0.531831</td>\n",
       "      <td>False</td>\n",
       "      <td>-1.192929</td>\n",
       "      <td>0.240446</td>\n",
       "      <td>4.158934</td>\n",
       "    </tr>\n",
       "    <tr>\n",
       "      <th>...</th>\n",
       "      <td>...</td>\n",
       "      <td>...</td>\n",
       "      <td>...</td>\n",
       "      <td>...</td>\n",
       "      <td>...</td>\n",
       "    </tr>\n",
       "    <tr>\n",
       "      <th>995</th>\n",
       "      <td>-0.242818</td>\n",
       "      <td>False</td>\n",
       "      <td>0.527535</td>\n",
       "      <td>0.593710</td>\n",
       "      <td>1.684323</td>\n",
       "    </tr>\n",
       "    <tr>\n",
       "      <th>996</th>\n",
       "      <td>0.886562</td>\n",
       "      <td>False</td>\n",
       "      <td>2.131700</td>\n",
       "      <td>0.135796</td>\n",
       "      <td>7.364007</td>\n",
       "    </tr>\n",
       "    <tr>\n",
       "      <th>997</th>\n",
       "      <td>0.441057</td>\n",
       "      <td>False</td>\n",
       "      <td>0.933512</td>\n",
       "      <td>0.274681</td>\n",
       "      <td>3.640581</td>\n",
       "    </tr>\n",
       "    <tr>\n",
       "      <th>998</th>\n",
       "      <td>1.714248</td>\n",
       "      <td>False</td>\n",
       "      <td>2.830494</td>\n",
       "      <td>0.029744</td>\n",
       "      <td>33.620529</td>\n",
       "    </tr>\n",
       "    <tr>\n",
       "      <th>999</th>\n",
       "      <td>1.714248</td>\n",
       "      <td>False</td>\n",
       "      <td>2.830494</td>\n",
       "      <td>0.029744</td>\n",
       "      <td>33.620529</td>\n",
       "    </tr>\n",
       "  </tbody>\n",
       "</table>\n",
       "<p>1000 rows × 5 columns</p>\n",
       "</div>"
      ],
      "text/plain": [
       "           W0     v0         y  propensity_score     weight\n",
       "0    0.441057  False  0.933512          0.274681   3.640581\n",
       "1    1.160393  False  1.391324          0.083835  11.928165\n",
       "2   -0.571954  False -2.177065          0.736763   1.357288\n",
       "3   -0.654082  False -1.189069          0.766987   1.303803\n",
       "4    0.531831  False -1.192929          0.240446   4.158934\n",
       "..        ...    ...       ...               ...        ...\n",
       "995 -0.242818  False  0.527535          0.593710   1.684323\n",
       "996  0.886562  False  2.131700          0.135796   7.364007\n",
       "997  0.441057  False  0.933512          0.274681   3.640581\n",
       "998  1.714248  False  2.830494          0.029744  33.620529\n",
       "999  1.714248  False  2.830494          0.029744  33.620529\n",
       "\n",
       "[1000 rows x 5 columns]"
      ]
     },
     "execution_count": 6,
     "metadata": {},
     "output_type": "execute_result"
    }
   ],
   "source": [
    "cdf_0"
   ]
  },
  {
   "cell_type": "code",
   "execution_count": 7,
   "metadata": {
    "execution": {
     "iopub.execute_input": "2023-12-03T07:12:02.169375Z",
     "iopub.status.busy": "2023-12-03T07:12:02.169028Z",
     "iopub.status.idle": "2023-12-03T07:12:02.177504Z",
     "shell.execute_reply": "2023-12-03T07:12:02.176974Z"
    }
   },
   "outputs": [
    {
     "data": {
      "text/html": [
       "<div>\n",
       "<style scoped>\n",
       "    .dataframe tbody tr th:only-of-type {\n",
       "        vertical-align: middle;\n",
       "    }\n",
       "\n",
       "    .dataframe tbody tr th {\n",
       "        vertical-align: top;\n",
       "    }\n",
       "\n",
       "    .dataframe thead th {\n",
       "        text-align: right;\n",
       "    }\n",
       "</style>\n",
       "<table border=\"1\" class=\"dataframe\">\n",
       "  <thead>\n",
       "    <tr style=\"text-align: right;\">\n",
       "      <th></th>\n",
       "      <th>W0</th>\n",
       "      <th>v0</th>\n",
       "      <th>y</th>\n",
       "      <th>propensity_score</th>\n",
       "      <th>weight</th>\n",
       "    </tr>\n",
       "  </thead>\n",
       "  <tbody>\n",
       "    <tr>\n",
       "      <th>0</th>\n",
       "      <td>0.745065</td>\n",
       "      <td>True</td>\n",
       "      <td>6.780098</td>\n",
       "      <td>0.827964</td>\n",
       "      <td>1.207781</td>\n",
       "    </tr>\n",
       "    <tr>\n",
       "      <th>1</th>\n",
       "      <td>-1.211779</td>\n",
       "      <td>True</td>\n",
       "      <td>4.477512</td>\n",
       "      <td>0.091741</td>\n",
       "      <td>10.900255</td>\n",
       "    </tr>\n",
       "    <tr>\n",
       "      <th>2</th>\n",
       "      <td>0.124096</td>\n",
       "      <td>True</td>\n",
       "      <td>4.746405</td>\n",
       "      <td>0.585442</td>\n",
       "      <td>1.708112</td>\n",
       "    </tr>\n",
       "    <tr>\n",
       "      <th>3</th>\n",
       "      <td>-1.211779</td>\n",
       "      <td>True</td>\n",
       "      <td>4.477512</td>\n",
       "      <td>0.091741</td>\n",
       "      <td>10.900255</td>\n",
       "    </tr>\n",
       "    <tr>\n",
       "      <th>4</th>\n",
       "      <td>0.711163</td>\n",
       "      <td>True</td>\n",
       "      <td>5.197645</td>\n",
       "      <td>0.818219</td>\n",
       "      <td>1.222166</td>\n",
       "    </tr>\n",
       "    <tr>\n",
       "      <th>...</th>\n",
       "      <td>...</td>\n",
       "      <td>...</td>\n",
       "      <td>...</td>\n",
       "      <td>...</td>\n",
       "      <td>...</td>\n",
       "    </tr>\n",
       "    <tr>\n",
       "      <th>995</th>\n",
       "      <td>0.038297</td>\n",
       "      <td>True</td>\n",
       "      <td>5.151240</td>\n",
       "      <td>0.543822</td>\n",
       "      <td>1.838836</td>\n",
       "    </tr>\n",
       "    <tr>\n",
       "      <th>996</th>\n",
       "      <td>1.567734</td>\n",
       "      <td>True</td>\n",
       "      <td>7.701413</td>\n",
       "      <td>0.960670</td>\n",
       "      <td>1.040940</td>\n",
       "    </tr>\n",
       "    <tr>\n",
       "      <th>997</th>\n",
       "      <td>1.467196</td>\n",
       "      <td>True</td>\n",
       "      <td>7.535896</td>\n",
       "      <td>0.952444</td>\n",
       "      <td>1.049930</td>\n",
       "    </tr>\n",
       "    <tr>\n",
       "      <th>998</th>\n",
       "      <td>1.202094</td>\n",
       "      <td>True</td>\n",
       "      <td>6.318576</td>\n",
       "      <td>0.922276</td>\n",
       "      <td>1.084274</td>\n",
       "    </tr>\n",
       "    <tr>\n",
       "      <th>999</th>\n",
       "      <td>-0.818216</td>\n",
       "      <td>True</td>\n",
       "      <td>3.991206</td>\n",
       "      <td>0.180131</td>\n",
       "      <td>5.551519</td>\n",
       "    </tr>\n",
       "  </tbody>\n",
       "</table>\n",
       "<p>1000 rows × 5 columns</p>\n",
       "</div>"
      ],
      "text/plain": [
       "           W0    v0         y  propensity_score     weight\n",
       "0    0.745065  True  6.780098          0.827964   1.207781\n",
       "1   -1.211779  True  4.477512          0.091741  10.900255\n",
       "2    0.124096  True  4.746405          0.585442   1.708112\n",
       "3   -1.211779  True  4.477512          0.091741  10.900255\n",
       "4    0.711163  True  5.197645          0.818219   1.222166\n",
       "..        ...   ...       ...               ...        ...\n",
       "995  0.038297  True  5.151240          0.543822   1.838836\n",
       "996  1.567734  True  7.701413          0.960670   1.040940\n",
       "997  1.467196  True  7.535896          0.952444   1.049930\n",
       "998  1.202094  True  6.318576          0.922276   1.084274\n",
       "999 -0.818216  True  3.991206          0.180131   5.551519\n",
       "\n",
       "[1000 rows x 5 columns]"
      ]
     },
     "execution_count": 7,
     "metadata": {},
     "output_type": "execute_result"
    }
   ],
   "source": [
    "cdf_1"
   ]
  },
  {
   "cell_type": "markdown",
   "metadata": {},
   "source": [
    "## Comparing the estimate to Linear Regression\n",
    "First, estimating the effect using the causal data frame, and the 95% confidence interval."
   ]
  },
  {
   "cell_type": "code",
   "execution_count": 8,
   "metadata": {
    "execution": {
     "iopub.execute_input": "2023-12-03T07:12:02.179670Z",
     "iopub.status.busy": "2023-12-03T07:12:02.179354Z",
     "iopub.status.idle": "2023-12-03T07:12:02.225935Z",
     "shell.execute_reply": "2023-12-03T07:12:02.225309Z"
    }
   },
   "outputs": [
    {
     "data": {
      "image/png": "[encoded data removed]",
      "text/latex": [
       "$\\displaystyle 5.31513330631811$"
      ],
      "text/plain": [
       "5.315133306318108"
      ]
     },
     "execution_count": 8,
     "metadata": {},
     "output_type": "execute_result"
    }
   ],
   "source": [
    "(cdf_1['y'] - cdf_0['y']).mean()"
   ]
  },
  {
   "cell_type": "code",
   "execution_count": 9,
   "metadata": {
    "execution": {
     "iopub.execute_input": "2023-12-03T07:12:02.228400Z",
     "iopub.status.busy": "2023-12-03T07:12:02.227984Z",
     "iopub.status.idle": "2023-12-03T07:12:02.245018Z",
     "shell.execute_reply": "2023-12-03T07:12:02.244416Z"
    }
   },
   "outputs": [
    {
     "data": {
      "image/png": "[encoded data removed]",
      "text/latex": [
       "$\\displaystyle 0.146668643607466$"
      ],
      "text/plain": [
       "0.14666864360746598"
      ]
     },
     "execution_count": 9,
     "metadata": {},
     "output_type": "execute_result"
    }
   ],
   "source": [
    "1.96*(cdf_1['y'] - cdf_0['y']).std() / np.sqrt(len(df))"
   ]
  },
  {
   "cell_type": "markdown",
   "metadata": {},
   "source": [
    "Comparing to the estimate from OLS."
   ]
  },
  {
   "cell_type": "code",
   "execution_count": 10,
   "metadata": {
    "execution": {
     "iopub.execute_input": "2023-12-03T07:12:02.247208Z",
     "iopub.status.busy": "2023-12-03T07:12:02.246999Z",
     "iopub.status.idle": "2023-12-03T07:12:02.264552Z",
     "shell.execute_reply": "2023-12-03T07:12:02.264062Z"
    }
   },
   "outputs": [
    {
     "data": {
      "text/html": [
       "<table class=\"simpletable\">\n",
       "<caption>OLS Regression Results</caption>\n",
       "<tr>\n",
       "  <th>Dep. Variable:</th>            <td>y</td>        <th>  R-squared (uncentered):</th>      <td>   0.966</td> \n",
       "</tr>\n",
       "<tr>\n",
       "  <th>Model:</th>                   <td>OLS</td>       <th>  Adj. R-squared (uncentered):</th> <td>   0.965</td> \n",
       "</tr>\n",
       "<tr>\n",
       "  <th>Method:</th>             <td>Least Squares</td>  <th>  F-statistic:       </th>          <td>1.397e+04</td>\n",
       "</tr>\n",
       "<tr>\n",
       "  <th>Date:</th>             <td>Sun, 03 Dec 2023</td> <th>  Prob (F-statistic):</th>           <td>  0.00</td>  \n",
       "</tr>\n",
       "<tr>\n",
       "  <th>Time:</th>                 <td>07:12:02</td>     <th>  Log-Likelihood:    </th>          <td> -1441.3</td> \n",
       "</tr>\n",
       "<tr>\n",
       "  <th>No. Observations:</th>      <td>  1000</td>      <th>  AIC:               </th>          <td>   2887.</td> \n",
       "</tr>\n",
       "<tr>\n",
       "  <th>Df Residuals:</th>          <td>   998</td>      <th>  BIC:               </th>          <td>   2897.</td> \n",
       "</tr>\n",
       "<tr>\n",
       "  <th>Df Model:</th>              <td>     2</td>      <th>                     </th>              <td> </td>    \n",
       "</tr>\n",
       "<tr>\n",
       "  <th>Covariance Type:</th>      <td>nonrobust</td>    <th>                     </th>              <td> </td>    \n",
       "</tr>\n",
       "</table>\n",
       "<table class=\"simpletable\">\n",
       "<tr>\n",
       "   <td></td>     <th>coef</th>     <th>std err</th>      <th>t</th>      <th>P>|t|</th>  <th>[0.025</th>    <th>0.975]</th>  \n",
       "</tr>\n",
       "<tr>\n",
       "  <th>x1</th> <td>    1.4869</td> <td>    0.039</td> <td>   37.955</td> <td> 0.000</td> <td>    1.410</td> <td>    1.564</td>\n",
       "</tr>\n",
       "<tr>\n",
       "  <th>x2</th> <td>    5.0359</td> <td>    0.054</td> <td>   93.425</td> <td> 0.000</td> <td>    4.930</td> <td>    5.142</td>\n",
       "</tr>\n",
       "</table>\n",
       "<table class=\"simpletable\">\n",
       "<tr>\n",
       "  <th>Omnibus:</th>       <td> 5.632</td> <th>  Durbin-Watson:     </th> <td>   2.004</td>\n",
       "</tr>\n",
       "<tr>\n",
       "  <th>Prob(Omnibus):</th> <td> 0.060</td> <th>  Jarque-Bera (JB):  </th> <td>   4.568</td>\n",
       "</tr>\n",
       "<tr>\n",
       "  <th>Skew:</th>          <td>-0.069</td> <th>  Prob(JB):          </th> <td>   0.102</td>\n",
       "</tr>\n",
       "<tr>\n",
       "  <th>Kurtosis:</th>      <td> 2.699</td> <th>  Cond. No.          </th> <td>    2.46</td>\n",
       "</tr>\n",
       "</table><br/><br/>Notes:<br/>[1] R² is computed without centering (uncentered) since the model does not contain a constant.<br/>[2] Standard Errors assume that the covariance matrix of the errors is correctly specified."
      ],
      "text/latex": [
       "\\begin{center}\n",
       "\\begin{tabular}{lclc}\n",
       "\\toprule\n",
       "\\textbf{Dep. Variable:}    &        y         & \\textbf{  R-squared (uncentered):}      &     0.966   \\\\\n",
       "\\textbf{Model:}            &       OLS        & \\textbf{  Adj. R-squared (uncentered):} &     0.965   \\\\\n",
       "\\textbf{Method:}           &  Least Squares   & \\textbf{  F-statistic:       }          & 1.397e+04   \\\\\n",
       "\\textbf{Date:}             & Sun, 03 Dec 2023 & \\textbf{  Prob (F-statistic):}          &     0.00    \\\\\n",
       "\\textbf{Time:}             &     07:12:02     & \\textbf{  Log-Likelihood:    }          &   -1441.3   \\\\\n",
       "\\textbf{No. Observations:} &        1000      & \\textbf{  AIC:               }          &     2887.   \\\\\n",
       "\\textbf{Df Residuals:}     &         998      & \\textbf{  BIC:               }          &     2897.   \\\\\n",
       "\\textbf{Df Model:}         &           2      & \\textbf{                     }          &             \\\\\n",
       "\\textbf{Covariance Type:}  &    nonrobust     & \\textbf{                     }          &             \\\\\n",
       "\\bottomrule\n",
       "\\end{tabular}\n",
       "\\begin{tabular}{lcccccc}\n",
       "            & \\textbf{coef} & \\textbf{std err} & \\textbf{t} & \\textbf{P$> |$t$|$} & \\textbf{[0.025} & \\textbf{0.975]}  \\\\\n",
       "\\midrule\n",
       "\\textbf{x1} &       1.4869  &        0.039     &    37.955  &         0.000        &        1.410    &        1.564     \\\\\n",
       "\\textbf{x2} &       5.0359  &        0.054     &    93.425  &         0.000        &        4.930    &        5.142     \\\\\n",
       "\\bottomrule\n",
       "\\end{tabular}\n",
       "\\begin{tabular}{lclc}\n",
       "\\textbf{Omnibus:}       &  5.632 & \\textbf{  Durbin-Watson:     } &    2.004  \\\\\n",
       "\\textbf{Prob(Omnibus):} &  0.060 & \\textbf{  Jarque-Bera (JB):  } &    4.568  \\\\\n",
       "\\textbf{Skew:}          & -0.069 & \\textbf{  Prob(JB):          } &    0.102  \\\\\n",
       "\\textbf{Kurtosis:}      &  2.699 & \\textbf{  Cond. No.          } &     2.46  \\\\\n",
       "\\bottomrule\n",
       "\\end{tabular}\n",
       "%\\caption{OLS Regression Results}\n",
       "\\end{center}\n",
       "\n",
       "Notes: \\newline\n",
       " [1] R² is computed without centering (uncentered) since the model does not contain a constant. \\newline\n",
       " [2] Standard Errors assume that the covariance matrix of the errors is correctly specified."
      ],
      "text/plain": [
       "<class 'statsmodels.iolib.summary.Summary'>\n",
       "\"\"\"\n",
       "                                 OLS Regression Results                                \n",
       "=======================================================================================\n",
       "Dep. Variable:                      y   R-squared (uncentered):                   0.966\n",
       "Model:                            OLS   Adj. R-squared (uncentered):              0.965\n",
       "Method:                 Least Squares   F-statistic:                          1.397e+04\n",
       "Date:                Sun, 03 Dec 2023   Prob (F-statistic):                        0.00\n",
       "Time:                        07:12:02   Log-Likelihood:                         -1441.3\n",
       "No. Observations:                1000   AIC:                                      2887.\n",
       "Df Residuals:                     998   BIC:                                      2897.\n",
       "Df Model:                           2                                                  \n",
       "Covariance Type:            nonrobust                                                  \n",
       "==============================================================================\n",
       "                 coef    std err          t      P>|t|      [0.025      0.975]\n",
       "------------------------------------------------------------------------------\n",
       "x1             1.4869      0.039     37.955      0.000       1.410       1.564\n",
       "x2             5.0359      0.054     93.425      0.000       4.930       5.142\n",
       "==============================================================================\n",
       "Omnibus:                        5.632   Durbin-Watson:                   2.004\n",
       "Prob(Omnibus):                  0.060   Jarque-Bera (JB):                4.568\n",
       "Skew:                          -0.069   Prob(JB):                        0.102\n",
       "Kurtosis:                       2.699   Cond. No.                         2.46\n",
       "==============================================================================\n",
       "\n",
       "Notes:\n",
       "[1] R² is computed without centering (uncentered) since the model does not contain a constant.\n",
       "[2] Standard Errors assume that the covariance matrix of the errors is correctly specified.\n",
       "\"\"\""
      ]
     },
     "execution_count": 10,
     "metadata": {},
     "output_type": "execute_result"
    }
   ],
   "source": [
    "model = OLS(np.asarray(df[outcome]), np.asarray(df[[common_cause, treatment]], dtype=np.float64))\n",
    "result = model.fit()\n",
    "result.summary()"
   ]
  }
 ],
 "metadata": {
  "kernelspec": {
   "display_name": "Python 3 (ipykernel)",
   "language": "python",
   "name": "python3"
  },
  "language_info": {
   "codemirror_mode": {
    "name": "ipython",
    "version": 3
   },
   "file_extension": ".py",
   "mimetype": "text/x-python",
   "name": "python",
   "nbconvert_exporter": "python",
   "pygments_lexer": "ipython3",
   "version": "3.8.10"
  },
  "toc": {
   "base_numbering": 1,
   "nav_menu": {},
   "number_sections": false,
   "sideBar": true,
   "skip_h1_title": true,
   "title_cell": "Table of Contents",
   "title_sidebar": "Contents",
   "toc_cell": false,
   "toc_position": {},
   "toc_section_display": true,
   "toc_window_display": false
  }
 },
 "nbformat": 4,
 "nbformat_minor": 4
}
