{
 "cells": [
  {
   "cell_type": "markdown",
   "metadata": {},
   "source": [
    "# Demo for the DoWhy causal API\n",
    "We show a simple example of adding a causal extension to any dataframe. "
   ]
  },
  {
   "cell_type": "code",
   "execution_count": 1,
   "metadata": {
    "execution": {
     "iopub.execute_input": "2023-03-14T17:06:02.191827Z",
     "iopub.status.busy": "2023-03-14T17:06:02.190742Z",
     "iopub.status.idle": "2023-03-14T17:06:04.142190Z",
     "shell.execute_reply": "2023-03-14T17:06:04.141213Z"
    }
   },
   "outputs": [],
   "source": [
    "import dowhy.datasets\n",
    "import dowhy.api\n",
    "\n",
    "import numpy as np\n",
    "import pandas as pd\n",
    "\n",
    "from statsmodels.api import OLS"
   ]
  },
  {
   "cell_type": "code",
   "execution_count": 2,
   "metadata": {
    "execution": {
     "iopub.execute_input": "2023-03-14T17:06:04.146612Z",
     "iopub.status.busy": "2023-03-14T17:06:04.145988Z",
     "iopub.status.idle": "2023-03-14T17:06:04.196339Z",
     "shell.execute_reply": "2023-03-14T17:06:04.195347Z"
    }
   },
   "outputs": [
    {
     "data": {
      "text/html": [
       "<div>\n",
       "<style scoped>\n",
       "    .dataframe tbody tr th:only-of-type {\n",
       "        vertical-align: middle;\n",
       "    }\n",
       "\n",
       "    .dataframe tbody tr th {\n",
       "        vertical-align: top;\n",
       "    }\n",
       "\n",
       "    .dataframe thead th {\n",
       "        text-align: right;\n",
       "    }\n",
       "</style>\n",
       "<table border=\"1\" class=\"dataframe\">\n",
       "  <thead>\n",
       "    <tr style=\"text-align: right;\">\n",
       "      <th></th>\n",
       "      <th>W0</th>\n",
       "      <th>v0</th>\n",
       "      <th>y</th>\n",
       "    </tr>\n",
       "  </thead>\n",
       "  <tbody>\n",
       "    <tr>\n",
       "      <th>0</th>\n",
       "      <td>1.757531</td>\n",
       "      <td>True</td>\n",
       "      <td>11.247696</td>\n",
       "    </tr>\n",
       "    <tr>\n",
       "      <th>1</th>\n",
       "      <td>-0.116686</td>\n",
       "      <td>False</td>\n",
       "      <td>-1.726319</td>\n",
       "    </tr>\n",
       "    <tr>\n",
       "      <th>2</th>\n",
       "      <td>0.606378</td>\n",
       "      <td>True</td>\n",
       "      <td>6.548897</td>\n",
       "    </tr>\n",
       "    <tr>\n",
       "      <th>3</th>\n",
       "      <td>1.924467</td>\n",
       "      <td>True</td>\n",
       "      <td>10.587512</td>\n",
       "    </tr>\n",
       "    <tr>\n",
       "      <th>4</th>\n",
       "      <td>1.903015</td>\n",
       "      <td>True</td>\n",
       "      <td>10.938026</td>\n",
       "    </tr>\n",
       "    <tr>\n",
       "      <th>...</th>\n",
       "      <td>...</td>\n",
       "      <td>...</td>\n",
       "      <td>...</td>\n",
       "    </tr>\n",
       "    <tr>\n",
       "      <th>995</th>\n",
       "      <td>-1.224378</td>\n",
       "      <td>False</td>\n",
       "      <td>-4.613622</td>\n",
       "    </tr>\n",
       "    <tr>\n",
       "      <th>996</th>\n",
       "      <td>0.103347</td>\n",
       "      <td>True</td>\n",
       "      <td>6.107808</td>\n",
       "    </tr>\n",
       "    <tr>\n",
       "      <th>997</th>\n",
       "      <td>1.236580</td>\n",
       "      <td>True</td>\n",
       "      <td>9.622578</td>\n",
       "    </tr>\n",
       "    <tr>\n",
       "      <th>998</th>\n",
       "      <td>1.344063</td>\n",
       "      <td>True</td>\n",
       "      <td>7.495473</td>\n",
       "    </tr>\n",
       "    <tr>\n",
       "      <th>999</th>\n",
       "      <td>0.621177</td>\n",
       "      <td>True</td>\n",
       "      <td>6.773667</td>\n",
       "    </tr>\n",
       "  </tbody>\n",
       "</table>\n",
       "<p>1000 rows × 3 columns</p>\n",
       "</div>"
      ],
      "text/plain": [
       "           W0     v0          y\n",
       "0    1.757531   True  11.247696\n",
       "1   -0.116686  False  -1.726319\n",
       "2    0.606378   True   6.548897\n",
       "3    1.924467   True  10.587512\n",
       "4    1.903015   True  10.938026\n",
       "..        ...    ...        ...\n",
       "995 -1.224378  False  -4.613622\n",
       "996  0.103347   True   6.107808\n",
       "997  1.236580   True   9.622578\n",
       "998  1.344063   True   7.495473\n",
       "999  0.621177   True   6.773667\n",
       "\n",
       "[1000 rows x 3 columns]"
      ]
     },
     "execution_count": 2,
     "metadata": {},
     "output_type": "execute_result"
    }
   ],
   "source": [
    "data = dowhy.datasets.linear_dataset(beta=5,\n",
    "        num_common_causes=1,\n",
    "        num_instruments = 0,\n",
    "        num_samples=1000,\n",
    "        treatment_is_binary=True)\n",
    "df = data['df']\n",
    "df['y'] = df['y'] + np.random.normal(size=len(df)) # Adding noise to data. Without noise, the variance in Y|X, Z is zero, and mcmc fails.\n",
    "#data['dot_graph'] = 'digraph { v ->y;X0-> v;X0-> y;}'\n",
    "\n",
    "treatment= data[\"treatment_name\"][0]\n",
    "outcome = data[\"outcome_name\"][0]\n",
    "common_cause = data[\"common_causes_names\"][0]\n",
    "df"
   ]
  },
  {
   "cell_type": "code",
   "execution_count": 3,
   "metadata": {
    "execution": {
     "iopub.execute_input": "2023-03-14T17:06:04.200585Z",
     "iopub.status.busy": "2023-03-14T17:06:04.199834Z",
     "iopub.status.idle": "2023-03-14T17:06:04.389688Z",
     "shell.execute_reply": "2023-03-14T17:06:04.388997Z"
    }
   },
   "outputs": [
    {
     "data": {
      "text/plain": [
       "<AxesSubplot: xlabel='v0'>"
      ]
     },
     "execution_count": 3,
     "metadata": {},
     "output_type": "execute_result"
    },
    {
     "data": {
      "image/png": "[encoded data removed]",
      "text/plain": [
       "<Figure size 640x480 with 1 Axes>"
      ]
     },
     "metadata": {},
     "output_type": "display_data"
    }
   ],
   "source": [
    "# data['df'] is just a regular pandas.DataFrame\n",
    "df.causal.do(x=treatment,\n",
    "                     variable_types={treatment: 'b', outcome: 'c', common_cause: 'c'},\n",
    "                     outcome=outcome,\n",
    "                     common_causes=[common_cause],\n",
    "                     proceed_when_unidentifiable=True).groupby(treatment).mean().plot(y=outcome, kind='bar')"
   ]
  },
  {
   "cell_type": "code",
   "execution_count": 4,
   "metadata": {
    "execution": {
     "iopub.execute_input": "2023-03-14T17:06:04.393111Z",
     "iopub.status.busy": "2023-03-14T17:06:04.392585Z",
     "iopub.status.idle": "2023-03-14T17:06:04.662801Z",
     "shell.execute_reply": "2023-03-14T17:06:04.661962Z"
    }
   },
   "outputs": [
    {
     "data": {
      "text/plain": [
       "<AxesSubplot: xlabel='v0'>"
      ]
     },
     "execution_count": 4,
     "metadata": {},
     "output_type": "execute_result"
    },
    {
     "data": {
      "image/png": "[encoded data removed]",
      "text/plain": [
       "<Figure size 640x480 with 1 Axes>"
      ]
     },
     "metadata": {},
     "output_type": "display_data"
    }
   ],
   "source": [
    "df.causal.do(x={treatment: 1}, \n",
    "              variable_types={treatment:'b', outcome: 'c', common_cause: 'c'}, \n",
    "              outcome=outcome,\n",
    "              method='weighting', \n",
    "              common_causes=[common_cause],\n",
    "              proceed_when_unidentifiable=True).groupby(treatment).mean().plot(y=outcome, kind='bar')"
   ]
  },
  {
   "cell_type": "code",
   "execution_count": 5,
   "metadata": {
    "execution": {
     "iopub.execute_input": "2023-03-14T17:06:04.666561Z",
     "iopub.status.busy": "2023-03-14T17:06:04.666110Z",
     "iopub.status.idle": "2023-03-14T17:06:04.701848Z",
     "shell.execute_reply": "2023-03-14T17:06:04.701126Z"
    }
   },
   "outputs": [],
   "source": [
    "cdf_1 = df.causal.do(x={treatment: 1}, \n",
    "              variable_types={treatment: 'b', outcome: 'c', common_cause: 'c'}, \n",
    "              outcome=outcome, \n",
    "              dot_graph=data['dot_graph'],\n",
    "              proceed_when_unidentifiable=True)\n",
    "\n",
    "cdf_0 = df.causal.do(x={treatment: 0}, \n",
    "              variable_types={treatment: 'b', outcome: 'c', common_cause: 'c'}, \n",
    "              outcome=outcome, \n",
    "              dot_graph=data['dot_graph'],\n",
    "              proceed_when_unidentifiable=True)\n"
   ]
  },
  {
   "cell_type": "code",
   "execution_count": 6,
   "metadata": {
    "execution": {
     "iopub.execute_input": "2023-03-14T17:06:04.705537Z",
     "iopub.status.busy": "2023-03-14T17:06:04.705248Z",
     "iopub.status.idle": "2023-03-14T17:06:04.718829Z",
     "shell.execute_reply": "2023-03-14T17:06:04.718110Z"
    },
    "scrolled": true
   },
   "outputs": [
    {
     "data": {
      "text/html": [
       "<div>\n",
       "<style scoped>\n",
       "    .dataframe tbody tr th:only-of-type {\n",
       "        vertical-align: middle;\n",
       "    }\n",
       "\n",
       "    .dataframe tbody tr th {\n",
       "        vertical-align: top;\n",
       "    }\n",
       "\n",
       "    .dataframe thead th {\n",
       "        text-align: right;\n",
       "    }\n",
       "</style>\n",
       "<table border=\"1\" class=\"dataframe\">\n",
       "  <thead>\n",
       "    <tr style=\"text-align: right;\">\n",
       "      <th></th>\n",
       "      <th>W0</th>\n",
       "      <th>v0</th>\n",
       "      <th>y</th>\n",
       "      <th>propensity_score</th>\n",
       "      <th>weight</th>\n",
       "    </tr>\n",
       "  </thead>\n",
       "  <tbody>\n",
       "    <tr>\n",
       "      <th>0</th>\n",
       "      <td>1.665643</td>\n",
       "      <td>False</td>\n",
       "      <td>4.753494</td>\n",
       "      <td>0.070752</td>\n",
       "      <td>14.133784</td>\n",
       "    </tr>\n",
       "    <tr>\n",
       "      <th>1</th>\n",
       "      <td>1.751020</td>\n",
       "      <td>False</td>\n",
       "      <td>4.152029</td>\n",
       "      <td>0.062602</td>\n",
       "      <td>15.973804</td>\n",
       "    </tr>\n",
       "    <tr>\n",
       "      <th>2</th>\n",
       "      <td>1.659096</td>\n",
       "      <td>False</td>\n",
       "      <td>5.050302</td>\n",
       "      <td>0.071416</td>\n",
       "      <td>14.002398</td>\n",
       "    </tr>\n",
       "    <tr>\n",
       "      <th>3</th>\n",
       "      <td>1.432994</td>\n",
       "      <td>False</td>\n",
       "      <td>4.597534</td>\n",
       "      <td>0.098154</td>\n",
       "      <td>10.188093</td>\n",
       "    </tr>\n",
       "    <tr>\n",
       "      <th>4</th>\n",
       "      <td>-0.254376</td>\n",
       "      <td>False</td>\n",
       "      <td>-1.201178</td>\n",
       "      <td>0.592277</td>\n",
       "      <td>1.688399</td>\n",
       "    </tr>\n",
       "    <tr>\n",
       "      <th>...</th>\n",
       "      <td>...</td>\n",
       "      <td>...</td>\n",
       "      <td>...</td>\n",
       "      <td>...</td>\n",
       "      <td>...</td>\n",
       "    </tr>\n",
       "    <tr>\n",
       "      <th>995</th>\n",
       "      <td>1.994555</td>\n",
       "      <td>False</td>\n",
       "      <td>6.075498</td>\n",
       "      <td>0.043927</td>\n",
       "      <td>22.764884</td>\n",
       "    </tr>\n",
       "    <tr>\n",
       "      <th>996</th>\n",
       "      <td>2.052103</td>\n",
       "      <td>False</td>\n",
       "      <td>6.801419</td>\n",
       "      <td>0.040362</td>\n",
       "      <td>24.775944</td>\n",
       "    </tr>\n",
       "    <tr>\n",
       "      <th>997</th>\n",
       "      <td>1.072981</td>\n",
       "      <td>False</td>\n",
       "      <td>1.967752</td>\n",
       "      <td>0.159087</td>\n",
       "      <td>6.285864</td>\n",
       "    </tr>\n",
       "    <tr>\n",
       "      <th>998</th>\n",
       "      <td>0.330512</td>\n",
       "      <td>False</td>\n",
       "      <td>-1.150401</td>\n",
       "      <td>0.371725</td>\n",
       "      <td>2.690164</td>\n",
       "    </tr>\n",
       "    <tr>\n",
       "      <th>999</th>\n",
       "      <td>0.043885</td>\n",
       "      <td>False</td>\n",
       "      <td>-0.290413</td>\n",
       "      <td>0.478850</td>\n",
       "      <td>2.088338</td>\n",
       "    </tr>\n",
       "  </tbody>\n",
       "</table>\n",
       "<p>1000 rows × 5 columns</p>\n",
       "</div>"
      ],
      "text/plain": [
       "           W0     v0         y  propensity_score     weight\n",
       "0    1.665643  False  4.753494          0.070752  14.133784\n",
       "1    1.751020  False  4.152029          0.062602  15.973804\n",
       "2    1.659096  False  5.050302          0.071416  14.002398\n",
       "3    1.432994  False  4.597534          0.098154  10.188093\n",
       "4   -0.254376  False -1.201178          0.592277   1.688399\n",
       "..        ...    ...       ...               ...        ...\n",
       "995  1.994555  False  6.075498          0.043927  22.764884\n",
       "996  2.052103  False  6.801419          0.040362  24.775944\n",
       "997  1.072981  False  1.967752          0.159087   6.285864\n",
       "998  0.330512  False -1.150401          0.371725   2.690164\n",
       "999  0.043885  False -0.290413          0.478850   2.088338\n",
       "\n",
       "[1000 rows x 5 columns]"
      ]
     },
     "execution_count": 6,
     "metadata": {},
     "output_type": "execute_result"
    }
   ],
   "source": [
    "cdf_0"
   ]
  },
  {
   "cell_type": "code",
   "execution_count": 7,
   "metadata": {
    "execution": {
     "iopub.execute_input": "2023-03-14T17:06:04.721835Z",
     "iopub.status.busy": "2023-03-14T17:06:04.721583Z",
     "iopub.status.idle": "2023-03-14T17:06:04.732776Z",
     "shell.execute_reply": "2023-03-14T17:06:04.732021Z"
    }
   },
   "outputs": [
    {
     "data": {
      "text/html": [
       "<div>\n",
       "<style scoped>\n",
       "    .dataframe tbody tr th:only-of-type {\n",
       "        vertical-align: middle;\n",
       "    }\n",
       "\n",
       "    .dataframe tbody tr th {\n",
       "        vertical-align: top;\n",
       "    }\n",
       "\n",
       "    .dataframe thead th {\n",
       "        text-align: right;\n",
       "    }\n",
       "</style>\n",
       "<table border=\"1\" class=\"dataframe\">\n",
       "  <thead>\n",
       "    <tr style=\"text-align: right;\">\n",
       "      <th></th>\n",
       "      <th>W0</th>\n",
       "      <th>v0</th>\n",
       "      <th>y</th>\n",
       "      <th>propensity_score</th>\n",
       "      <th>weight</th>\n",
       "    </tr>\n",
       "  </thead>\n",
       "  <tbody>\n",
       "    <tr>\n",
       "      <th>0</th>\n",
       "      <td>-1.038056</td>\n",
       "      <td>True</td>\n",
       "      <td>1.790435</td>\n",
       "      <td>0.171237</td>\n",
       "      <td>5.839857</td>\n",
       "    </tr>\n",
       "    <tr>\n",
       "      <th>1</th>\n",
       "      <td>-0.651062</td>\n",
       "      <td>True</td>\n",
       "      <td>2.892726</td>\n",
       "      <td>0.272381</td>\n",
       "      <td>3.671333</td>\n",
       "    </tr>\n",
       "    <tr>\n",
       "      <th>2</th>\n",
       "      <td>0.454081</td>\n",
       "      <td>True</td>\n",
       "      <td>7.826548</td>\n",
       "      <td>0.671415</td>\n",
       "      <td>1.489392</td>\n",
       "    </tr>\n",
       "    <tr>\n",
       "      <th>3</th>\n",
       "      <td>1.354377</td>\n",
       "      <td>True</td>\n",
       "      <td>9.037255</td>\n",
       "      <td>0.890628</td>\n",
       "      <td>1.122803</td>\n",
       "    </tr>\n",
       "    <tr>\n",
       "      <th>4</th>\n",
       "      <td>0.150989</td>\n",
       "      <td>True</td>\n",
       "      <td>5.892836</td>\n",
       "      <td>0.561963</td>\n",
       "      <td>1.779477</td>\n",
       "    </tr>\n",
       "    <tr>\n",
       "      <th>...</th>\n",
       "      <td>...</td>\n",
       "      <td>...</td>\n",
       "      <td>...</td>\n",
       "      <td>...</td>\n",
       "      <td>...</td>\n",
       "    </tr>\n",
       "    <tr>\n",
       "      <th>995</th>\n",
       "      <td>-0.265536</td>\n",
       "      <td>True</td>\n",
       "      <td>3.032898</td>\n",
       "      <td>0.403591</td>\n",
       "      <td>2.477757</td>\n",
       "    </tr>\n",
       "    <tr>\n",
       "      <th>996</th>\n",
       "      <td>1.030371</td>\n",
       "      <td>True</td>\n",
       "      <td>6.921974</td>\n",
       "      <td>0.831963</td>\n",
       "      <td>1.201977</td>\n",
       "    </tr>\n",
       "    <tr>\n",
       "      <th>997</th>\n",
       "      <td>-0.503571</td>\n",
       "      <td>True</td>\n",
       "      <td>2.865112</td>\n",
       "      <td>0.319499</td>\n",
       "      <td>3.129902</td>\n",
       "    </tr>\n",
       "    <tr>\n",
       "      <th>998</th>\n",
       "      <td>1.180012</td>\n",
       "      <td>True</td>\n",
       "      <td>8.214292</td>\n",
       "      <td>0.861691</td>\n",
       "      <td>1.160509</td>\n",
       "    </tr>\n",
       "    <tr>\n",
       "      <th>999</th>\n",
       "      <td>1.126846</td>\n",
       "      <td>True</td>\n",
       "      <td>6.962114</td>\n",
       "      <td>0.851670</td>\n",
       "      <td>1.174164</td>\n",
       "    </tr>\n",
       "  </tbody>\n",
       "</table>\n",
       "<p>1000 rows × 5 columns</p>\n",
       "</div>"
      ],
      "text/plain": [
       "           W0    v0         y  propensity_score    weight\n",
       "0   -1.038056  True  1.790435          0.171237  5.839857\n",
       "1   -0.651062  True  2.892726          0.272381  3.671333\n",
       "2    0.454081  True  7.826548          0.671415  1.489392\n",
       "3    1.354377  True  9.037255          0.890628  1.122803\n",
       "4    0.150989  True  5.892836          0.561963  1.779477\n",
       "..        ...   ...       ...               ...       ...\n",
       "995 -0.265536  True  3.032898          0.403591  2.477757\n",
       "996  1.030371  True  6.921974          0.831963  1.201977\n",
       "997 -0.503571  True  2.865112          0.319499  3.129902\n",
       "998  1.180012  True  8.214292          0.861691  1.160509\n",
       "999  1.126846  True  6.962114          0.851670  1.174164\n",
       "\n",
       "[1000 rows x 5 columns]"
      ]
     },
     "execution_count": 7,
     "metadata": {},
     "output_type": "execute_result"
    }
   ],
   "source": [
    "cdf_1"
   ]
  },
  {
   "cell_type": "markdown",
   "metadata": {},
   "source": [
    "## Comparing the estimate to Linear Regression\n",
    "First, estimating the effect using the causal data frame, and the 95% confidence interval."
   ]
  },
  {
   "cell_type": "code",
   "execution_count": 8,
   "metadata": {
    "execution": {
     "iopub.execute_input": "2023-03-14T17:06:04.736678Z",
     "iopub.status.busy": "2023-03-14T17:06:04.736446Z",
     "iopub.status.idle": "2023-03-14T17:06:04.802956Z",
     "shell.execute_reply": "2023-03-14T17:06:04.801992Z"
    }
   },
   "outputs": [
    {
     "data": {
      "image/png": "[encoded data removed]",
      "text/latex": [
       "$\\displaystyle 5.2415027414234$"
      ],
      "text/plain": [
       "5.241502741423401"
      ]
     },
     "execution_count": 8,
     "metadata": {},
     "output_type": "execute_result"
    }
   ],
   "source": [
    "(cdf_1['y'] - cdf_0['y']).mean()"
   ]
  },
  {
   "cell_type": "code",
   "execution_count": 9,
   "metadata": {
    "execution": {
     "iopub.execute_input": "2023-03-14T17:06:04.806608Z",
     "iopub.status.busy": "2023-03-14T17:06:04.806198Z",
     "iopub.status.idle": "2023-03-14T17:06:04.830533Z",
     "shell.execute_reply": "2023-03-14T17:06:04.829808Z"
    }
   },
   "outputs": [
    {
     "data": {
      "image/png": "[encoded data removed]",
      "text/latex": [
       "$\\displaystyle 0.262850575003484$"
      ],
      "text/plain": [
       "0.2628505750034835"
      ]
     },
     "execution_count": 9,
     "metadata": {},
     "output_type": "execute_result"
    }
   ],
   "source": [
    "1.96*(cdf_1['y'] - cdf_0['y']).std() / np.sqrt(len(df))"
   ]
  },
  {
   "cell_type": "markdown",
   "metadata": {},
   "source": [
    "Comparing to the estimate from OLS."
   ]
  },
  {
   "cell_type": "code",
   "execution_count": 10,
   "metadata": {
    "execution": {
     "iopub.execute_input": "2023-03-14T17:06:04.834169Z",
     "iopub.status.busy": "2023-03-14T17:06:04.833484Z",
     "iopub.status.idle": "2023-03-14T17:06:04.849573Z",
     "shell.execute_reply": "2023-03-14T17:06:04.848812Z"
    }
   },
   "outputs": [
    {
     "data": {
      "text/html": [
       "<table class=\"simpletable\">\n",
       "<caption>OLS Regression Results</caption>\n",
       "<tr>\n",
       "  <th>Dep. Variable:</th>            <td>y</td>        <th>  R-squared (uncentered):</th>      <td>   0.980</td> \n",
       "</tr>\n",
       "<tr>\n",
       "  <th>Model:</th>                   <td>OLS</td>       <th>  Adj. R-squared (uncentered):</th> <td>   0.980</td> \n",
       "</tr>\n",
       "<tr>\n",
       "  <th>Method:</th>             <td>Least Squares</td>  <th>  F-statistic:       </th>          <td>2.483e+04</td>\n",
       "</tr>\n",
       "<tr>\n",
       "  <th>Date:</th>             <td>Tue, 14 Mar 2023</td> <th>  Prob (F-statistic):</th>           <td>  0.00</td>  \n",
       "</tr>\n",
       "<tr>\n",
       "  <th>Time:</th>                 <td>17:06:04</td>     <th>  Log-Likelihood:    </th>          <td> -1450.2</td> \n",
       "</tr>\n",
       "<tr>\n",
       "  <th>No. Observations:</th>      <td>  1000</td>      <th>  AIC:               </th>          <td>   2904.</td> \n",
       "</tr>\n",
       "<tr>\n",
       "  <th>Df Residuals:</th>          <td>   998</td>      <th>  BIC:               </th>          <td>   2914.</td> \n",
       "</tr>\n",
       "<tr>\n",
       "  <th>Df Model:</th>              <td>     2</td>      <th>                     </th>              <td> </td>    \n",
       "</tr>\n",
       "<tr>\n",
       "  <th>Covariance Type:</th>      <td>nonrobust</td>    <th>                     </th>              <td> </td>    \n",
       "</tr>\n",
       "</table>\n",
       "<table class=\"simpletable\">\n",
       "<tr>\n",
       "   <td></td>     <th>coef</th>     <th>std err</th>      <th>t</th>      <th>P>|t|</th>  <th>[0.025</th>    <th>0.975]</th>  \n",
       "</tr>\n",
       "<tr>\n",
       "  <th>x1</th> <td>    2.9100</td> <td>    0.038</td> <td>   76.916</td> <td> 0.000</td> <td>    2.836</td> <td>    2.984</td>\n",
       "</tr>\n",
       "<tr>\n",
       "  <th>x2</th> <td>    4.9972</td> <td>    0.057</td> <td>   87.618</td> <td> 0.000</td> <td>    4.885</td> <td>    5.109</td>\n",
       "</tr>\n",
       "</table>\n",
       "<table class=\"simpletable\">\n",
       "<tr>\n",
       "  <th>Omnibus:</th>       <td> 0.262</td> <th>  Durbin-Watson:     </th> <td>   1.955</td>\n",
       "</tr>\n",
       "<tr>\n",
       "  <th>Prob(Omnibus):</th> <td> 0.877</td> <th>  Jarque-Bera (JB):  </th> <td>   0.299</td>\n",
       "</tr>\n",
       "<tr>\n",
       "  <th>Skew:</th>          <td> 0.038</td> <th>  Prob(JB):          </th> <td>   0.861</td>\n",
       "</tr>\n",
       "<tr>\n",
       "  <th>Kurtosis:</th>      <td> 2.963</td> <th>  Cond. No.          </th> <td>    2.81</td>\n",
       "</tr>\n",
       "</table><br/><br/>Notes:<br/>[1] R² is computed without centering (uncentered) since the model does not contain a constant.<br/>[2] Standard Errors assume that the covariance matrix of the errors is correctly specified."
      ],
      "text/plain": [
       "<class 'statsmodels.iolib.summary.Summary'>\n",
       "\"\"\"\n",
       "                                 OLS Regression Results                                \n",
       "=======================================================================================\n",
       "Dep. Variable:                      y   R-squared (uncentered):                   0.980\n",
       "Model:                            OLS   Adj. R-squared (uncentered):              0.980\n",
       "Method:                 Least Squares   F-statistic:                          2.483e+04\n",
       "Date:                Tue, 14 Mar 2023   Prob (F-statistic):                        0.00\n",
       "Time:                        17:06:04   Log-Likelihood:                         -1450.2\n",
       "No. Observations:                1000   AIC:                                      2904.\n",
       "Df Residuals:                     998   BIC:                                      2914.\n",
       "Df Model:                           2                                                  \n",
       "Covariance Type:            nonrobust                                                  \n",
       "==============================================================================\n",
       "                 coef    std err          t      P>|t|      [0.025      0.975]\n",
       "------------------------------------------------------------------------------\n",
       "x1             2.9100      0.038     76.916      0.000       2.836       2.984\n",
       "x2             4.9972      0.057     87.618      0.000       4.885       5.109\n",
       "==============================================================================\n",
       "Omnibus:                        0.262   Durbin-Watson:                   1.955\n",
       "Prob(Omnibus):                  0.877   Jarque-Bera (JB):                0.299\n",
       "Skew:                           0.038   Prob(JB):                        0.861\n",
       "Kurtosis:                       2.963   Cond. No.                         2.81\n",
       "==============================================================================\n",
       "\n",
       "Notes:\n",
       "[1] R² is computed without centering (uncentered) since the model does not contain a constant.\n",
       "[2] Standard Errors assume that the covariance matrix of the errors is correctly specified.\n",
       "\"\"\""
      ]
     },
     "execution_count": 10,
     "metadata": {},
     "output_type": "execute_result"
    }
   ],
   "source": [
    "model = OLS(np.asarray(df[outcome]), np.asarray(df[[common_cause, treatment]], dtype=np.float64))\n",
    "result = model.fit()\n",
    "result.summary()"
   ]
  }
 ],
 "metadata": {
  "kernelspec": {
   "display_name": "Python 3",
   "language": "python",
   "name": "python3"
  },
  "language_info": {
   "codemirror_mode": {
    "name": "ipython",
    "version": 3
   },
   "file_extension": ".py",
   "mimetype": "text/x-python",
   "name": "python",
   "nbconvert_exporter": "python",
   "pygments_lexer": "ipython3",
   "version": "3.8.10"
  },
  "toc": {
   "base_numbering": 1,
   "nav_menu": {},
   "number_sections": false,
   "sideBar": true,
   "skip_h1_title": true,
   "title_cell": "Table of Contents",
   "title_sidebar": "Contents",
   "toc_cell": false,
   "toc_position": {},
   "toc_section_display": true,
   "toc_window_display": false
  }
 },
 "nbformat": 4,
 "nbformat_minor": 4
}
