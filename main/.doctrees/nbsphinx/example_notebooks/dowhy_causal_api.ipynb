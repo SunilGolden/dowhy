{
 "cells": [
  {
   "cell_type": "markdown",
   "metadata": {},
   "source": [
    "# Demo for the DoWhy causal API\n",
    "We show a simple example of adding a causal extension to any dataframe. "
   ]
  },
  {
   "cell_type": "code",
   "execution_count": 1,
   "metadata": {
    "execution": {
     "iopub.execute_input": "2024-01-19T13:26:01.819921Z",
     "iopub.status.busy": "2024-01-19T13:26:01.819747Z",
     "iopub.status.idle": "2024-01-19T13:26:03.204668Z",
     "shell.execute_reply": "2024-01-19T13:26:03.204071Z"
    }
   },
   "outputs": [],
   "source": [
    "import dowhy.datasets\n",
    "import dowhy.api\n",
    "from dowhy.graph import build_graph_from_str\n",
    "\n",
    "import numpy as np\n",
    "import pandas as pd\n",
    "\n",
    "from statsmodels.api import OLS"
   ]
  },
  {
   "cell_type": "code",
   "execution_count": 2,
   "metadata": {
    "execution": {
     "iopub.execute_input": "2024-01-19T13:26:03.207561Z",
     "iopub.status.busy": "2024-01-19T13:26:03.207127Z",
     "iopub.status.idle": "2024-01-19T13:26:03.248415Z",
     "shell.execute_reply": "2024-01-19T13:26:03.247817Z"
    }
   },
   "outputs": [
    {
     "data": {
      "text/html": [
       "<div>\n",
       "<style scoped>\n",
       "    .dataframe tbody tr th:only-of-type {\n",
       "        vertical-align: middle;\n",
       "    }\n",
       "\n",
       "    .dataframe tbody tr th {\n",
       "        vertical-align: top;\n",
       "    }\n",
       "\n",
       "    .dataframe thead th {\n",
       "        text-align: right;\n",
       "    }\n",
       "</style>\n",
       "<table border=\"1\" class=\"dataframe\">\n",
       "  <thead>\n",
       "    <tr style=\"text-align: right;\">\n",
       "      <th></th>\n",
       "      <th>W0</th>\n",
       "      <th>v0</th>\n",
       "      <th>y</th>\n",
       "    </tr>\n",
       "  </thead>\n",
       "  <tbody>\n",
       "    <tr>\n",
       "      <th>0</th>\n",
       "      <td>-0.440376</td>\n",
       "      <td>True</td>\n",
       "      <td>3.951884</td>\n",
       "    </tr>\n",
       "    <tr>\n",
       "      <th>1</th>\n",
       "      <td>0.829566</td>\n",
       "      <td>True</td>\n",
       "      <td>3.104935</td>\n",
       "    </tr>\n",
       "    <tr>\n",
       "      <th>2</th>\n",
       "      <td>-1.568506</td>\n",
       "      <td>False</td>\n",
       "      <td>-0.397000</td>\n",
       "    </tr>\n",
       "    <tr>\n",
       "      <th>3</th>\n",
       "      <td>-2.619818</td>\n",
       "      <td>False</td>\n",
       "      <td>-2.346435</td>\n",
       "    </tr>\n",
       "    <tr>\n",
       "      <th>4</th>\n",
       "      <td>-1.047487</td>\n",
       "      <td>False</td>\n",
       "      <td>-1.182153</td>\n",
       "    </tr>\n",
       "    <tr>\n",
       "      <th>...</th>\n",
       "      <td>...</td>\n",
       "      <td>...</td>\n",
       "      <td>...</td>\n",
       "    </tr>\n",
       "    <tr>\n",
       "      <th>995</th>\n",
       "      <td>-1.998157</td>\n",
       "      <td>False</td>\n",
       "      <td>-1.661160</td>\n",
       "    </tr>\n",
       "    <tr>\n",
       "      <th>996</th>\n",
       "      <td>-2.030133</td>\n",
       "      <td>False</td>\n",
       "      <td>1.531485</td>\n",
       "    </tr>\n",
       "    <tr>\n",
       "      <th>997</th>\n",
       "      <td>-2.202204</td>\n",
       "      <td>False</td>\n",
       "      <td>-0.282965</td>\n",
       "    </tr>\n",
       "    <tr>\n",
       "      <th>998</th>\n",
       "      <td>-0.890898</td>\n",
       "      <td>True</td>\n",
       "      <td>4.048622</td>\n",
       "    </tr>\n",
       "    <tr>\n",
       "      <th>999</th>\n",
       "      <td>-2.396670</td>\n",
       "      <td>False</td>\n",
       "      <td>-0.199968</td>\n",
       "    </tr>\n",
       "  </tbody>\n",
       "</table>\n",
       "<p>1000 rows × 3 columns</p>\n",
       "</div>"
      ],
      "text/plain": [
       "           W0     v0         y\n",
       "0   -0.440376   True  3.951884\n",
       "1    0.829566   True  3.104935\n",
       "2   -1.568506  False -0.397000\n",
       "3   -2.619818  False -2.346435\n",
       "4   -1.047487  False -1.182153\n",
       "..        ...    ...       ...\n",
       "995 -1.998157  False -1.661160\n",
       "996 -2.030133  False  1.531485\n",
       "997 -2.202204  False -0.282965\n",
       "998 -0.890898   True  4.048622\n",
       "999 -2.396670  False -0.199968\n",
       "\n",
       "[1000 rows x 3 columns]"
      ]
     },
     "execution_count": 2,
     "metadata": {},
     "output_type": "execute_result"
    }
   ],
   "source": [
    "data = dowhy.datasets.linear_dataset(beta=5,\n",
    "        num_common_causes=1,\n",
    "        num_instruments = 0,\n",
    "        num_samples=1000,\n",
    "        treatment_is_binary=True)\n",
    "df = data['df']\n",
    "df['y'] = df['y'] + np.random.normal(size=len(df)) # Adding noise to data. Without noise, the variance in Y|X, Z is zero, and mcmc fails.\n",
    "nx_graph = build_graph_from_str(data[\"dot_graph\"])\n",
    "\n",
    "treatment= data[\"treatment_name\"][0]\n",
    "outcome = data[\"outcome_name\"][0]\n",
    "common_cause = data[\"common_causes_names\"][0]\n",
    "df"
   ]
  },
  {
   "cell_type": "code",
   "execution_count": 3,
   "metadata": {
    "execution": {
     "iopub.execute_input": "2024-01-19T13:26:03.250809Z",
     "iopub.status.busy": "2024-01-19T13:26:03.250346Z",
     "iopub.status.idle": "2024-01-19T13:26:03.426495Z",
     "shell.execute_reply": "2024-01-19T13:26:03.425852Z"
    },
    "scrolled": true
   },
   "outputs": [
    {
     "data": {
      "text/plain": [
       "<Axes: xlabel='v0'>"
      ]
     },
     "execution_count": 3,
     "metadata": {},
     "output_type": "execute_result"
    },
    {
     "data": {
      "image/png": "[encoded data removed]",
      "text/plain": [
       "<Figure size 640x480 with 1 Axes>"
      ]
     },
     "metadata": {},
     "output_type": "display_data"
    }
   ],
   "source": [
    "# data['df'] is just a regular pandas.DataFrame\n",
    "df.causal.do(x=treatment,\n",
    "             variable_types={treatment: 'b', outcome: 'c', common_cause: 'c'},\n",
    "             outcome=outcome,\n",
    "             common_causes=[common_cause],\n",
    "            ).groupby(treatment).mean().plot(y=outcome, kind='bar')"
   ]
  },
  {
   "cell_type": "code",
   "execution_count": 4,
   "metadata": {
    "execution": {
     "iopub.execute_input": "2024-01-19T13:26:03.428960Z",
     "iopub.status.busy": "2024-01-19T13:26:03.428537Z",
     "iopub.status.idle": "2024-01-19T13:26:03.558464Z",
     "shell.execute_reply": "2024-01-19T13:26:03.557911Z"
    }
   },
   "outputs": [
    {
     "data": {
      "text/plain": [
       "<Axes: xlabel='v0'>"
      ]
     },
     "execution_count": 4,
     "metadata": {},
     "output_type": "execute_result"
    },
    {
     "data": {
      "image/png": "[encoded data removed]",
      "text/plain": [
       "<Figure size 640x480 with 1 Axes>"
      ]
     },
     "metadata": {},
     "output_type": "display_data"
    }
   ],
   "source": [
    "df.causal.do(x={treatment: 1}, \n",
    "              variable_types={treatment:'b', outcome: 'c', common_cause: 'c'}, \n",
    "              outcome=outcome,\n",
    "              method='weighting', \n",
    "              common_causes=[common_cause]\n",
    "              ).groupby(treatment).mean().plot(y=outcome, kind='bar')"
   ]
  },
  {
   "cell_type": "code",
   "execution_count": 5,
   "metadata": {
    "execution": {
     "iopub.execute_input": "2024-01-19T13:26:03.561375Z",
     "iopub.status.busy": "2024-01-19T13:26:03.561165Z",
     "iopub.status.idle": "2024-01-19T13:26:03.580420Z",
     "shell.execute_reply": "2024-01-19T13:26:03.579960Z"
    }
   },
   "outputs": [],
   "source": [
    "cdf_1 = df.causal.do(x={treatment: 1}, \n",
    "              variable_types={treatment: 'b', outcome: 'c', common_cause: 'c'}, \n",
    "              outcome=outcome, \n",
    "              graph=nx_graph\n",
    "              )\n",
    "\n",
    "cdf_0 = df.causal.do(x={treatment: 0}, \n",
    "              variable_types={treatment: 'b', outcome: 'c', common_cause: 'c'}, \n",
    "              outcome=outcome, \n",
    "              graph=nx_graph\n",
    "              )\n"
   ]
  },
  {
   "cell_type": "code",
   "execution_count": 6,
   "metadata": {
    "execution": {
     "iopub.execute_input": "2024-01-19T13:26:03.582544Z",
     "iopub.status.busy": "2024-01-19T13:26:03.582230Z",
     "iopub.status.idle": "2024-01-19T13:26:03.590862Z",
     "shell.execute_reply": "2024-01-19T13:26:03.590277Z"
    },
    "scrolled": true
   },
   "outputs": [
    {
     "data": {
      "text/html": [
       "<div>\n",
       "<style scoped>\n",
       "    .dataframe tbody tr th:only-of-type {\n",
       "        vertical-align: middle;\n",
       "    }\n",
       "\n",
       "    .dataframe tbody tr th {\n",
       "        vertical-align: top;\n",
       "    }\n",
       "\n",
       "    .dataframe thead th {\n",
       "        text-align: right;\n",
       "    }\n",
       "</style>\n",
       "<table border=\"1\" class=\"dataframe\">\n",
       "  <thead>\n",
       "    <tr style=\"text-align: right;\">\n",
       "      <th></th>\n",
       "      <th>W0</th>\n",
       "      <th>v0</th>\n",
       "      <th>y</th>\n",
       "      <th>propensity_score</th>\n",
       "      <th>weight</th>\n",
       "    </tr>\n",
       "  </thead>\n",
       "  <tbody>\n",
       "    <tr>\n",
       "      <th>0</th>\n",
       "      <td>-0.862186</td>\n",
       "      <td>False</td>\n",
       "      <td>0.434291</td>\n",
       "      <td>0.798731</td>\n",
       "      <td>1.251987</td>\n",
       "    </tr>\n",
       "    <tr>\n",
       "      <th>1</th>\n",
       "      <td>-1.325959</td>\n",
       "      <td>False</td>\n",
       "      <td>0.646164</td>\n",
       "      <td>0.892379</td>\n",
       "      <td>1.120600</td>\n",
       "    </tr>\n",
       "    <tr>\n",
       "      <th>2</th>\n",
       "      <td>-0.180181</td>\n",
       "      <td>False</td>\n",
       "      <td>-2.025783</td>\n",
       "      <td>0.573153</td>\n",
       "      <td>1.744735</td>\n",
       "    </tr>\n",
       "    <tr>\n",
       "      <th>3</th>\n",
       "      <td>-1.440122</td>\n",
       "      <td>False</td>\n",
       "      <td>-2.667253</td>\n",
       "      <td>0.908601</td>\n",
       "      <td>1.100593</td>\n",
       "    </tr>\n",
       "    <tr>\n",
       "      <th>4</th>\n",
       "      <td>-0.866316</td>\n",
       "      <td>False</td>\n",
       "      <td>-1.232885</td>\n",
       "      <td>0.799783</td>\n",
       "      <td>1.250339</td>\n",
       "    </tr>\n",
       "    <tr>\n",
       "      <th>...</th>\n",
       "      <td>...</td>\n",
       "      <td>...</td>\n",
       "      <td>...</td>\n",
       "      <td>...</td>\n",
       "      <td>...</td>\n",
       "    </tr>\n",
       "    <tr>\n",
       "      <th>995</th>\n",
       "      <td>-1.121367</td>\n",
       "      <td>False</td>\n",
       "      <td>-0.030175</td>\n",
       "      <td>0.856951</td>\n",
       "      <td>1.166927</td>\n",
       "    </tr>\n",
       "    <tr>\n",
       "      <th>996</th>\n",
       "      <td>1.209559</td>\n",
       "      <td>False</td>\n",
       "      <td>0.899246</td>\n",
       "      <td>0.128593</td>\n",
       "      <td>7.776474</td>\n",
       "    </tr>\n",
       "    <tr>\n",
       "      <th>997</th>\n",
       "      <td>-0.449938</td>\n",
       "      <td>False</td>\n",
       "      <td>-0.188308</td>\n",
       "      <td>0.673344</td>\n",
       "      <td>1.485124</td>\n",
       "    </tr>\n",
       "    <tr>\n",
       "      <th>998</th>\n",
       "      <td>-0.510354</td>\n",
       "      <td>False</td>\n",
       "      <td>0.133479</td>\n",
       "      <td>0.694098</td>\n",
       "      <td>1.440719</td>\n",
       "    </tr>\n",
       "    <tr>\n",
       "      <th>999</th>\n",
       "      <td>-1.636676</td>\n",
       "      <td>False</td>\n",
       "      <td>0.206987</td>\n",
       "      <td>0.931437</td>\n",
       "      <td>1.073610</td>\n",
       "    </tr>\n",
       "  </tbody>\n",
       "</table>\n",
       "<p>1000 rows × 5 columns</p>\n",
       "</div>"
      ],
      "text/plain": [
       "           W0     v0         y  propensity_score    weight\n",
       "0   -0.862186  False  0.434291          0.798731  1.251987\n",
       "1   -1.325959  False  0.646164          0.892379  1.120600\n",
       "2   -0.180181  False -2.025783          0.573153  1.744735\n",
       "3   -1.440122  False -2.667253          0.908601  1.100593\n",
       "4   -0.866316  False -1.232885          0.799783  1.250339\n",
       "..        ...    ...       ...               ...       ...\n",
       "995 -1.121367  False -0.030175          0.856951  1.166927\n",
       "996  1.209559  False  0.899246          0.128593  7.776474\n",
       "997 -0.449938  False -0.188308          0.673344  1.485124\n",
       "998 -0.510354  False  0.133479          0.694098  1.440719\n",
       "999 -1.636676  False  0.206987          0.931437  1.073610\n",
       "\n",
       "[1000 rows x 5 columns]"
      ]
     },
     "execution_count": 6,
     "metadata": {},
     "output_type": "execute_result"
    }
   ],
   "source": [
    "cdf_0"
   ]
  },
  {
   "cell_type": "code",
   "execution_count": 7,
   "metadata": {
    "execution": {
     "iopub.execute_input": "2024-01-19T13:26:03.593032Z",
     "iopub.status.busy": "2024-01-19T13:26:03.592714Z",
     "iopub.status.idle": "2024-01-19T13:26:03.601104Z",
     "shell.execute_reply": "2024-01-19T13:26:03.600513Z"
    }
   },
   "outputs": [
    {
     "data": {
      "text/html": [
       "<div>\n",
       "<style scoped>\n",
       "    .dataframe tbody tr th:only-of-type {\n",
       "        vertical-align: middle;\n",
       "    }\n",
       "\n",
       "    .dataframe tbody tr th {\n",
       "        vertical-align: top;\n",
       "    }\n",
       "\n",
       "    .dataframe thead th {\n",
       "        text-align: right;\n",
       "    }\n",
       "</style>\n",
       "<table border=\"1\" class=\"dataframe\">\n",
       "  <thead>\n",
       "    <tr style=\"text-align: right;\">\n",
       "      <th></th>\n",
       "      <th>W0</th>\n",
       "      <th>v0</th>\n",
       "      <th>y</th>\n",
       "      <th>propensity_score</th>\n",
       "      <th>weight</th>\n",
       "    </tr>\n",
       "  </thead>\n",
       "  <tbody>\n",
       "    <tr>\n",
       "      <th>0</th>\n",
       "      <td>-0.096993</td>\n",
       "      <td>True</td>\n",
       "      <td>5.861459</td>\n",
       "      <td>0.459452</td>\n",
       "      <td>2.176507</td>\n",
       "    </tr>\n",
       "    <tr>\n",
       "      <th>1</th>\n",
       "      <td>-1.721505</td>\n",
       "      <td>True</td>\n",
       "      <td>5.361476</td>\n",
       "      <td>0.060440</td>\n",
       "      <td>16.545435</td>\n",
       "    </tr>\n",
       "    <tr>\n",
       "      <th>2</th>\n",
       "      <td>0.490274</td>\n",
       "      <td>True</td>\n",
       "      <td>5.158979</td>\n",
       "      <td>0.683644</td>\n",
       "      <td>1.462749</td>\n",
       "    </tr>\n",
       "    <tr>\n",
       "      <th>3</th>\n",
       "      <td>-0.890898</td>\n",
       "      <td>True</td>\n",
       "      <td>4.048622</td>\n",
       "      <td>0.194035</td>\n",
       "      <td>5.153704</td>\n",
       "    </tr>\n",
       "    <tr>\n",
       "      <th>4</th>\n",
       "      <td>0.757345</td>\n",
       "      <td>True</td>\n",
       "      <td>4.857702</td>\n",
       "      <td>0.767621</td>\n",
       "      <td>1.302726</td>\n",
       "    </tr>\n",
       "    <tr>\n",
       "      <th>...</th>\n",
       "      <td>...</td>\n",
       "      <td>...</td>\n",
       "      <td>...</td>\n",
       "      <td>...</td>\n",
       "      <td>...</td>\n",
       "    </tr>\n",
       "    <tr>\n",
       "      <th>995</th>\n",
       "      <td>-0.511832</td>\n",
       "      <td>True</td>\n",
       "      <td>4.275136</td>\n",
       "      <td>0.305404</td>\n",
       "      <td>3.274352</td>\n",
       "    </tr>\n",
       "    <tr>\n",
       "      <th>996</th>\n",
       "      <td>-1.546743</td>\n",
       "      <td>True</td>\n",
       "      <td>4.520745</td>\n",
       "      <td>0.078270</td>\n",
       "      <td>12.776254</td>\n",
       "    </tr>\n",
       "    <tr>\n",
       "      <th>997</th>\n",
       "      <td>-1.095718</td>\n",
       "      <td>True</td>\n",
       "      <td>3.017324</td>\n",
       "      <td>0.148117</td>\n",
       "      <td>6.751399</td>\n",
       "    </tr>\n",
       "    <tr>\n",
       "      <th>998</th>\n",
       "      <td>-0.777090</td>\n",
       "      <td>True</td>\n",
       "      <td>3.648378</td>\n",
       "      <td>0.223885</td>\n",
       "      <td>4.466577</td>\n",
       "    </tr>\n",
       "    <tr>\n",
       "      <th>999</th>\n",
       "      <td>1.107305</td>\n",
       "      <td>True</td>\n",
       "      <td>5.133311</td>\n",
       "      <td>0.852077</td>\n",
       "      <td>1.173603</td>\n",
       "    </tr>\n",
       "  </tbody>\n",
       "</table>\n",
       "<p>1000 rows × 5 columns</p>\n",
       "</div>"
      ],
      "text/plain": [
       "           W0    v0         y  propensity_score     weight\n",
       "0   -0.096993  True  5.861459          0.459452   2.176507\n",
       "1   -1.721505  True  5.361476          0.060440  16.545435\n",
       "2    0.490274  True  5.158979          0.683644   1.462749\n",
       "3   -0.890898  True  4.048622          0.194035   5.153704\n",
       "4    0.757345  True  4.857702          0.767621   1.302726\n",
       "..        ...   ...       ...               ...        ...\n",
       "995 -0.511832  True  4.275136          0.305404   3.274352\n",
       "996 -1.546743  True  4.520745          0.078270  12.776254\n",
       "997 -1.095718  True  3.017324          0.148117   6.751399\n",
       "998 -0.777090  True  3.648378          0.223885   4.466577\n",
       "999  1.107305  True  5.133311          0.852077   1.173603\n",
       "\n",
       "[1000 rows x 5 columns]"
      ]
     },
     "execution_count": 7,
     "metadata": {},
     "output_type": "execute_result"
    }
   ],
   "source": [
    "cdf_1"
   ]
  },
  {
   "cell_type": "markdown",
   "metadata": {},
   "source": [
    "## Comparing the estimate to Linear Regression\n",
    "First, estimating the effect using the causal data frame, and the 95% confidence interval."
   ]
  },
  {
   "cell_type": "code",
   "execution_count": 8,
   "metadata": {
    "execution": {
     "iopub.execute_input": "2024-01-19T13:26:03.603342Z",
     "iopub.status.busy": "2024-01-19T13:26:03.603060Z",
     "iopub.status.idle": "2024-01-19T13:26:03.647646Z",
     "shell.execute_reply": "2024-01-19T13:26:03.647074Z"
    }
   },
   "outputs": [
    {
     "data": {
      "image/png": "[encoded data removed]",
      "text/latex": [
       "$\\displaystyle 5.13430549925126$"
      ],
      "text/plain": [
       "5.1343054992512585"
      ]
     },
     "execution_count": 8,
     "metadata": {},
     "output_type": "execute_result"
    }
   ],
   "source": [
    "(cdf_1['y'] - cdf_0['y']).mean()"
   ]
  },
  {
   "cell_type": "code",
   "execution_count": 9,
   "metadata": {
    "execution": {
     "iopub.execute_input": "2024-01-19T13:26:03.649864Z",
     "iopub.status.busy": "2024-01-19T13:26:03.649442Z",
     "iopub.status.idle": "2024-01-19T13:26:03.665005Z",
     "shell.execute_reply": "2024-01-19T13:26:03.664445Z"
    }
   },
   "outputs": [
    {
     "data": {
      "image/png": "[encoded data removed]",
      "text/latex": [
       "$\\displaystyle 0.0920445866862692$"
      ],
      "text/plain": [
       "0.09204458668626918"
      ]
     },
     "execution_count": 9,
     "metadata": {},
     "output_type": "execute_result"
    }
   ],
   "source": [
    "1.96*(cdf_1['y'] - cdf_0['y']).std() / np.sqrt(len(df))"
   ]
  },
  {
   "cell_type": "markdown",
   "metadata": {},
   "source": [
    "Comparing to the estimate from OLS."
   ]
  },
  {
   "cell_type": "code",
   "execution_count": 10,
   "metadata": {
    "execution": {
     "iopub.execute_input": "2024-01-19T13:26:03.667230Z",
     "iopub.status.busy": "2024-01-19T13:26:03.666899Z",
     "iopub.status.idle": "2024-01-19T13:26:03.683650Z",
     "shell.execute_reply": "2024-01-19T13:26:03.683068Z"
    }
   },
   "outputs": [
    {
     "data": {
      "text/html": [
       "<table class=\"simpletable\">\n",
       "<caption>OLS Regression Results</caption>\n",
       "<tr>\n",
       "  <th>Dep. Variable:</th>            <td>y</td>        <th>  R-squared (uncentered):</th>      <td>   0.887</td>\n",
       "</tr>\n",
       "<tr>\n",
       "  <th>Model:</th>                   <td>OLS</td>       <th>  Adj. R-squared (uncentered):</th> <td>   0.887</td>\n",
       "</tr>\n",
       "<tr>\n",
       "  <th>Method:</th>             <td>Least Squares</td>  <th>  F-statistic:       </th>          <td>   3917.</td>\n",
       "</tr>\n",
       "<tr>\n",
       "  <th>Date:</th>             <td>Fri, 19 Jan 2024</td> <th>  Prob (F-statistic):</th>           <td>  0.00</td> \n",
       "</tr>\n",
       "<tr>\n",
       "  <th>Time:</th>                 <td>13:26:03</td>     <th>  Log-Likelihood:    </th>          <td> -1410.1</td>\n",
       "</tr>\n",
       "<tr>\n",
       "  <th>No. Observations:</th>      <td>  1000</td>      <th>  AIC:               </th>          <td>   2824.</td>\n",
       "</tr>\n",
       "<tr>\n",
       "  <th>Df Residuals:</th>          <td>   998</td>      <th>  BIC:               </th>          <td>   2834.</td>\n",
       "</tr>\n",
       "<tr>\n",
       "  <th>Df Model:</th>              <td>     2</td>      <th>                     </th>              <td> </td>   \n",
       "</tr>\n",
       "<tr>\n",
       "  <th>Covariance Type:</th>      <td>nonrobust</td>    <th>                     </th>              <td> </td>   \n",
       "</tr>\n",
       "</table>\n",
       "<table class=\"simpletable\">\n",
       "<tr>\n",
       "   <td></td>     <th>coef</th>     <th>std err</th>      <th>t</th>      <th>P>|t|</th>  <th>[0.025</th>    <th>0.975]</th>  \n",
       "</tr>\n",
       "<tr>\n",
       "  <th>x1</th> <td>    0.3838</td> <td>    0.024</td> <td>   15.710</td> <td> 0.000</td> <td>    0.336</td> <td>    0.432</td>\n",
       "</tr>\n",
       "<tr>\n",
       "  <th>x2</th> <td>    5.0430</td> <td>    0.058</td> <td>   86.996</td> <td> 0.000</td> <td>    4.929</td> <td>    5.157</td>\n",
       "</tr>\n",
       "</table>\n",
       "<table class=\"simpletable\">\n",
       "<tr>\n",
       "  <th>Omnibus:</th>       <td> 1.579</td> <th>  Durbin-Watson:     </th> <td>   1.951</td>\n",
       "</tr>\n",
       "<tr>\n",
       "  <th>Prob(Omnibus):</th> <td> 0.454</td> <th>  Jarque-Bera (JB):  </th> <td>   1.523</td>\n",
       "</tr>\n",
       "<tr>\n",
       "  <th>Skew:</th>          <td>-0.021</td> <th>  Prob(JB):          </th> <td>   0.467</td>\n",
       "</tr>\n",
       "<tr>\n",
       "  <th>Kurtosis:</th>      <td> 2.813</td> <th>  Cond. No.          </th> <td>    2.37</td>\n",
       "</tr>\n",
       "</table><br/><br/>Notes:<br/>[1] R² is computed without centering (uncentered) since the model does not contain a constant.<br/>[2] Standard Errors assume that the covariance matrix of the errors is correctly specified."
      ],
      "text/latex": [
       "\\begin{center}\n",
       "\\begin{tabular}{lclc}\n",
       "\\toprule\n",
       "\\textbf{Dep. Variable:}    &        y         & \\textbf{  R-squared (uncentered):}      &     0.887   \\\\\n",
       "\\textbf{Model:}            &       OLS        & \\textbf{  Adj. R-squared (uncentered):} &     0.887   \\\\\n",
       "\\textbf{Method:}           &  Least Squares   & \\textbf{  F-statistic:       }          &     3917.   \\\\\n",
       "\\textbf{Date:}             & Fri, 19 Jan 2024 & \\textbf{  Prob (F-statistic):}          &     0.00    \\\\\n",
       "\\textbf{Time:}             &     13:26:03     & \\textbf{  Log-Likelihood:    }          &   -1410.1   \\\\\n",
       "\\textbf{No. Observations:} &        1000      & \\textbf{  AIC:               }          &     2824.   \\\\\n",
       "\\textbf{Df Residuals:}     &         998      & \\textbf{  BIC:               }          &     2834.   \\\\\n",
       "\\textbf{Df Model:}         &           2      & \\textbf{                     }          &             \\\\\n",
       "\\textbf{Covariance Type:}  &    nonrobust     & \\textbf{                     }          &             \\\\\n",
       "\\bottomrule\n",
       "\\end{tabular}\n",
       "\\begin{tabular}{lcccccc}\n",
       "            & \\textbf{coef} & \\textbf{std err} & \\textbf{t} & \\textbf{P$> |$t$|$} & \\textbf{[0.025} & \\textbf{0.975]}  \\\\\n",
       "\\midrule\n",
       "\\textbf{x1} &       0.3838  &        0.024     &    15.710  &         0.000        &        0.336    &        0.432     \\\\\n",
       "\\textbf{x2} &       5.0430  &        0.058     &    86.996  &         0.000        &        4.929    &        5.157     \\\\\n",
       "\\bottomrule\n",
       "\\end{tabular}\n",
       "\\begin{tabular}{lclc}\n",
       "\\textbf{Omnibus:}       &  1.579 & \\textbf{  Durbin-Watson:     } &    1.951  \\\\\n",
       "\\textbf{Prob(Omnibus):} &  0.454 & \\textbf{  Jarque-Bera (JB):  } &    1.523  \\\\\n",
       "\\textbf{Skew:}          & -0.021 & \\textbf{  Prob(JB):          } &    0.467  \\\\\n",
       "\\textbf{Kurtosis:}      &  2.813 & \\textbf{  Cond. No.          } &     2.37  \\\\\n",
       "\\bottomrule\n",
       "\\end{tabular}\n",
       "%\\caption{OLS Regression Results}\n",
       "\\end{center}\n",
       "\n",
       "Notes: \\newline\n",
       " [1] R² is computed without centering (uncentered) since the model does not contain a constant. \\newline\n",
       " [2] Standard Errors assume that the covariance matrix of the errors is correctly specified."
      ],
      "text/plain": [
       "<class 'statsmodels.iolib.summary.Summary'>\n",
       "\"\"\"\n",
       "                                 OLS Regression Results                                \n",
       "=======================================================================================\n",
       "Dep. Variable:                      y   R-squared (uncentered):                   0.887\n",
       "Model:                            OLS   Adj. R-squared (uncentered):              0.887\n",
       "Method:                 Least Squares   F-statistic:                              3917.\n",
       "Date:                Fri, 19 Jan 2024   Prob (F-statistic):                        0.00\n",
       "Time:                        13:26:03   Log-Likelihood:                         -1410.1\n",
       "No. Observations:                1000   AIC:                                      2824.\n",
       "Df Residuals:                     998   BIC:                                      2834.\n",
       "Df Model:                           2                                                  \n",
       "Covariance Type:            nonrobust                                                  \n",
       "==============================================================================\n",
       "                 coef    std err          t      P>|t|      [0.025      0.975]\n",
       "------------------------------------------------------------------------------\n",
       "x1             0.3838      0.024     15.710      0.000       0.336       0.432\n",
       "x2             5.0430      0.058     86.996      0.000       4.929       5.157\n",
       "==============================================================================\n",
       "Omnibus:                        1.579   Durbin-Watson:                   1.951\n",
       "Prob(Omnibus):                  0.454   Jarque-Bera (JB):                1.523\n",
       "Skew:                          -0.021   Prob(JB):                        0.467\n",
       "Kurtosis:                       2.813   Cond. No.                         2.37\n",
       "==============================================================================\n",
       "\n",
       "Notes:\n",
       "[1] R² is computed without centering (uncentered) since the model does not contain a constant.\n",
       "[2] Standard Errors assume that the covariance matrix of the errors is correctly specified.\n",
       "\"\"\""
      ]
     },
     "execution_count": 10,
     "metadata": {},
     "output_type": "execute_result"
    }
   ],
   "source": [
    "model = OLS(np.asarray(df[outcome]), np.asarray(df[[common_cause, treatment]], dtype=np.float64))\n",
    "result = model.fit()\n",
    "result.summary()"
   ]
  }
 ],
 "metadata": {
  "kernelspec": {
   "display_name": "Python 3 (ipykernel)",
   "language": "python",
   "name": "python3"
  },
  "language_info": {
   "codemirror_mode": {
    "name": "ipython",
    "version": 3
   },
   "file_extension": ".py",
   "mimetype": "text/x-python",
   "name": "python",
   "nbconvert_exporter": "python",
   "pygments_lexer": "ipython3",
   "version": "3.8.10"
  },
  "toc": {
   "base_numbering": 1,
   "nav_menu": {},
   "number_sections": false,
   "sideBar": true,
   "skip_h1_title": true,
   "title_cell": "Table of Contents",
   "title_sidebar": "Contents",
   "toc_cell": false,
   "toc_position": {},
   "toc_section_display": true,
   "toc_window_display": false
  }
 },
 "nbformat": 4,
 "nbformat_minor": 4
}
