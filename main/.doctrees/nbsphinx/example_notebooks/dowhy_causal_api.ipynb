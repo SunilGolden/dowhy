{
 "cells": [
  {
   "cell_type": "markdown",
   "metadata": {},
   "source": [
    "# Demo for the DoWhy causal API\n",
    "We show a simple example of adding a causal extension to any dataframe. "
   ]
  },
  {
   "cell_type": "code",
   "execution_count": 1,
   "metadata": {
    "execution": {
     "iopub.execute_input": "2023-07-27T09:05:52.103834Z",
     "iopub.status.busy": "2023-07-27T09:05:52.103381Z",
     "iopub.status.idle": "2023-07-27T09:05:53.813352Z",
     "shell.execute_reply": "2023-07-27T09:05:53.812618Z"
    }
   },
   "outputs": [],
   "source": [
    "import dowhy.datasets\n",
    "import dowhy.api\n",
    "\n",
    "import numpy as np\n",
    "import pandas as pd\n",
    "\n",
    "from statsmodels.api import OLS"
   ]
  },
  {
   "cell_type": "code",
   "execution_count": 2,
   "metadata": {
    "execution": {
     "iopub.execute_input": "2023-07-27T09:05:53.817087Z",
     "iopub.status.busy": "2023-07-27T09:05:53.816551Z",
     "iopub.status.idle": "2023-07-27T09:05:53.861962Z",
     "shell.execute_reply": "2023-07-27T09:05:53.861285Z"
    }
   },
   "outputs": [
    {
     "data": {
      "text/html": [
       "<div>\n",
       "<style scoped>\n",
       "    .dataframe tbody tr th:only-of-type {\n",
       "        vertical-align: middle;\n",
       "    }\n",
       "\n",
       "    .dataframe tbody tr th {\n",
       "        vertical-align: top;\n",
       "    }\n",
       "\n",
       "    .dataframe thead th {\n",
       "        text-align: right;\n",
       "    }\n",
       "</style>\n",
       "<table border=\"1\" class=\"dataframe\">\n",
       "  <thead>\n",
       "    <tr style=\"text-align: right;\">\n",
       "      <th></th>\n",
       "      <th>W0</th>\n",
       "      <th>v0</th>\n",
       "      <th>y</th>\n",
       "    </tr>\n",
       "  </thead>\n",
       "  <tbody>\n",
       "    <tr>\n",
       "      <th>0</th>\n",
       "      <td>-0.500339</td>\n",
       "      <td>True</td>\n",
       "      <td>2.903505</td>\n",
       "    </tr>\n",
       "    <tr>\n",
       "      <th>1</th>\n",
       "      <td>-0.304842</td>\n",
       "      <td>True</td>\n",
       "      <td>6.162715</td>\n",
       "    </tr>\n",
       "    <tr>\n",
       "      <th>2</th>\n",
       "      <td>0.102473</td>\n",
       "      <td>True</td>\n",
       "      <td>5.459168</td>\n",
       "    </tr>\n",
       "    <tr>\n",
       "      <th>3</th>\n",
       "      <td>-1.129590</td>\n",
       "      <td>False</td>\n",
       "      <td>-0.132882</td>\n",
       "    </tr>\n",
       "    <tr>\n",
       "      <th>4</th>\n",
       "      <td>1.059201</td>\n",
       "      <td>True</td>\n",
       "      <td>4.721072</td>\n",
       "    </tr>\n",
       "    <tr>\n",
       "      <th>...</th>\n",
       "      <td>...</td>\n",
       "      <td>...</td>\n",
       "      <td>...</td>\n",
       "    </tr>\n",
       "    <tr>\n",
       "      <th>995</th>\n",
       "      <td>-1.864654</td>\n",
       "      <td>False</td>\n",
       "      <td>-0.248634</td>\n",
       "    </tr>\n",
       "    <tr>\n",
       "      <th>996</th>\n",
       "      <td>-1.023875</td>\n",
       "      <td>False</td>\n",
       "      <td>-1.308329</td>\n",
       "    </tr>\n",
       "    <tr>\n",
       "      <th>997</th>\n",
       "      <td>0.605013</td>\n",
       "      <td>True</td>\n",
       "      <td>4.823555</td>\n",
       "    </tr>\n",
       "    <tr>\n",
       "      <th>998</th>\n",
       "      <td>-0.723034</td>\n",
       "      <td>False</td>\n",
       "      <td>-2.239869</td>\n",
       "    </tr>\n",
       "    <tr>\n",
       "      <th>999</th>\n",
       "      <td>0.496303</td>\n",
       "      <td>True</td>\n",
       "      <td>5.266517</td>\n",
       "    </tr>\n",
       "  </tbody>\n",
       "</table>\n",
       "<p>1000 rows × 3 columns</p>\n",
       "</div>"
      ],
      "text/plain": [
       "           W0     v0         y\n",
       "0   -0.500339   True  2.903505\n",
       "1   -0.304842   True  6.162715\n",
       "2    0.102473   True  5.459168\n",
       "3   -1.129590  False -0.132882\n",
       "4    1.059201   True  4.721072\n",
       "..        ...    ...       ...\n",
       "995 -1.864654  False -0.248634\n",
       "996 -1.023875  False -1.308329\n",
       "997  0.605013   True  4.823555\n",
       "998 -0.723034  False -2.239869\n",
       "999  0.496303   True  5.266517\n",
       "\n",
       "[1000 rows x 3 columns]"
      ]
     },
     "execution_count": 2,
     "metadata": {},
     "output_type": "execute_result"
    }
   ],
   "source": [
    "data = dowhy.datasets.linear_dataset(beta=5,\n",
    "        num_common_causes=1,\n",
    "        num_instruments = 0,\n",
    "        num_samples=1000,\n",
    "        treatment_is_binary=True)\n",
    "df = data['df']\n",
    "df['y'] = df['y'] + np.random.normal(size=len(df)) # Adding noise to data. Without noise, the variance in Y|X, Z is zero, and mcmc fails.\n",
    "#data['dot_graph'] = 'digraph { v ->y;X0-> v;X0-> y;}'\n",
    "\n",
    "treatment= data[\"treatment_name\"][0]\n",
    "outcome = data[\"outcome_name\"][0]\n",
    "common_cause = data[\"common_causes_names\"][0]\n",
    "df"
   ]
  },
  {
   "cell_type": "code",
   "execution_count": 3,
   "metadata": {
    "execution": {
     "iopub.execute_input": "2023-07-27T09:05:53.865452Z",
     "iopub.status.busy": "2023-07-27T09:05:53.865013Z",
     "iopub.status.idle": "2023-07-27T09:05:54.066704Z",
     "shell.execute_reply": "2023-07-27T09:05:54.065963Z"
    }
   },
   "outputs": [
    {
     "data": {
      "text/plain": [
       "<Axes: xlabel='v0'>"
      ]
     },
     "execution_count": 3,
     "metadata": {},
     "output_type": "execute_result"
    },
    {
     "data": {
      "image/png": "[encoded data removed]",
      "text/plain": [
       "<Figure size 640x480 with 1 Axes>"
      ]
     },
     "metadata": {},
     "output_type": "display_data"
    }
   ],
   "source": [
    "# data['df'] is just a regular pandas.DataFrame\n",
    "df.causal.do(x=treatment,\n",
    "                     variable_types={treatment: 'b', outcome: 'c', common_cause: 'c'},\n",
    "                     outcome=outcome,\n",
    "                     common_causes=[common_cause],\n",
    "                     proceed_when_unidentifiable=True).groupby(treatment).mean().plot(y=outcome, kind='bar')"
   ]
  },
  {
   "cell_type": "code",
   "execution_count": 4,
   "metadata": {
    "execution": {
     "iopub.execute_input": "2023-07-27T09:05:54.069781Z",
     "iopub.status.busy": "2023-07-27T09:05:54.069389Z",
     "iopub.status.idle": "2023-07-27T09:05:54.204595Z",
     "shell.execute_reply": "2023-07-27T09:05:54.203988Z"
    }
   },
   "outputs": [
    {
     "data": {
      "text/plain": [
       "<Axes: xlabel='v0'>"
      ]
     },
     "execution_count": 4,
     "metadata": {},
     "output_type": "execute_result"
    },
    {
     "data": {
      "image/png": "[encoded data removed]",
      "text/plain": [
       "<Figure size 640x480 with 1 Axes>"
      ]
     },
     "metadata": {},
     "output_type": "display_data"
    }
   ],
   "source": [
    "df.causal.do(x={treatment: 1}, \n",
    "              variable_types={treatment:'b', outcome: 'c', common_cause: 'c'}, \n",
    "              outcome=outcome,\n",
    "              method='weighting', \n",
    "              common_causes=[common_cause],\n",
    "              proceed_when_unidentifiable=True).groupby(treatment).mean().plot(y=outcome, kind='bar')"
   ]
  },
  {
   "cell_type": "code",
   "execution_count": 5,
   "metadata": {
    "execution": {
     "iopub.execute_input": "2023-07-27T09:05:54.207707Z",
     "iopub.status.busy": "2023-07-27T09:05:54.207228Z",
     "iopub.status.idle": "2023-07-27T09:05:54.239264Z",
     "shell.execute_reply": "2023-07-27T09:05:54.238657Z"
    }
   },
   "outputs": [],
   "source": [
    "cdf_1 = df.causal.do(x={treatment: 1}, \n",
    "              variable_types={treatment: 'b', outcome: 'c', common_cause: 'c'}, \n",
    "              outcome=outcome, \n",
    "              dot_graph=data['dot_graph'],\n",
    "              proceed_when_unidentifiable=True)\n",
    "\n",
    "cdf_0 = df.causal.do(x={treatment: 0}, \n",
    "              variable_types={treatment: 'b', outcome: 'c', common_cause: 'c'}, \n",
    "              outcome=outcome, \n",
    "              dot_graph=data['dot_graph'],\n",
    "              proceed_when_unidentifiable=True)\n"
   ]
  },
  {
   "cell_type": "code",
   "execution_count": 6,
   "metadata": {
    "execution": {
     "iopub.execute_input": "2023-07-27T09:05:54.242402Z",
     "iopub.status.busy": "2023-07-27T09:05:54.241952Z",
     "iopub.status.idle": "2023-07-27T09:05:54.252389Z",
     "shell.execute_reply": "2023-07-27T09:05:54.251846Z"
    },
    "scrolled": true
   },
   "outputs": [
    {
     "data": {
      "text/html": [
       "<div>\n",
       "<style scoped>\n",
       "    .dataframe tbody tr th:only-of-type {\n",
       "        vertical-align: middle;\n",
       "    }\n",
       "\n",
       "    .dataframe tbody tr th {\n",
       "        vertical-align: top;\n",
       "    }\n",
       "\n",
       "    .dataframe thead th {\n",
       "        text-align: right;\n",
       "    }\n",
       "</style>\n",
       "<table border=\"1\" class=\"dataframe\">\n",
       "  <thead>\n",
       "    <tr style=\"text-align: right;\">\n",
       "      <th></th>\n",
       "      <th>W0</th>\n",
       "      <th>v0</th>\n",
       "      <th>y</th>\n",
       "      <th>propensity_score</th>\n",
       "      <th>weight</th>\n",
       "    </tr>\n",
       "  </thead>\n",
       "  <tbody>\n",
       "    <tr>\n",
       "      <th>0</th>\n",
       "      <td>-0.750992</td>\n",
       "      <td>False</td>\n",
       "      <td>-1.142673</td>\n",
       "      <td>0.868059</td>\n",
       "      <td>1.151995</td>\n",
       "    </tr>\n",
       "    <tr>\n",
       "      <th>1</th>\n",
       "      <td>-1.295465</td>\n",
       "      <td>False</td>\n",
       "      <td>-2.194910</td>\n",
       "      <td>0.962297</td>\n",
       "      <td>1.039180</td>\n",
       "    </tr>\n",
       "    <tr>\n",
       "      <th>2</th>\n",
       "      <td>0.953148</td>\n",
       "      <td>False</td>\n",
       "      <td>-0.746902</td>\n",
       "      <td>0.086334</td>\n",
       "      <td>11.582975</td>\n",
       "    </tr>\n",
       "    <tr>\n",
       "      <th>3</th>\n",
       "      <td>-0.299072</td>\n",
       "      <td>False</td>\n",
       "      <td>-0.768213</td>\n",
       "      <td>0.681064</td>\n",
       "      <td>1.468291</td>\n",
       "    </tr>\n",
       "    <tr>\n",
       "      <th>4</th>\n",
       "      <td>-1.484340</td>\n",
       "      <td>False</td>\n",
       "      <td>-3.162106</td>\n",
       "      <td>0.976104</td>\n",
       "      <td>1.024481</td>\n",
       "    </tr>\n",
       "    <tr>\n",
       "      <th>...</th>\n",
       "      <td>...</td>\n",
       "      <td>...</td>\n",
       "      <td>...</td>\n",
       "      <td>...</td>\n",
       "      <td>...</td>\n",
       "    </tr>\n",
       "    <tr>\n",
       "      <th>995</th>\n",
       "      <td>-0.086928</td>\n",
       "      <td>False</td>\n",
       "      <td>0.115637</td>\n",
       "      <td>0.557358</td>\n",
       "      <td>1.794178</td>\n",
       "    </tr>\n",
       "    <tr>\n",
       "      <th>996</th>\n",
       "      <td>-0.378302</td>\n",
       "      <td>False</td>\n",
       "      <td>-0.535993</td>\n",
       "      <td>0.722308</td>\n",
       "      <td>1.384450</td>\n",
       "    </tr>\n",
       "    <tr>\n",
       "      <th>997</th>\n",
       "      <td>0.029768</td>\n",
       "      <td>False</td>\n",
       "      <td>0.791588</td>\n",
       "      <td>0.484975</td>\n",
       "      <td>2.061960</td>\n",
       "    </tr>\n",
       "    <tr>\n",
       "      <th>998</th>\n",
       "      <td>1.013528</td>\n",
       "      <td>False</td>\n",
       "      <td>1.770703</td>\n",
       "      <td>0.075189</td>\n",
       "      <td>13.299849</td>\n",
       "    </tr>\n",
       "    <tr>\n",
       "      <th>999</th>\n",
       "      <td>-1.340090</td>\n",
       "      <td>False</td>\n",
       "      <td>-1.269393</td>\n",
       "      <td>0.966128</td>\n",
       "      <td>1.035060</td>\n",
       "    </tr>\n",
       "  </tbody>\n",
       "</table>\n",
       "<p>1000 rows × 5 columns</p>\n",
       "</div>"
      ],
      "text/plain": [
       "           W0     v0         y  propensity_score     weight\n",
       "0   -0.750992  False -1.142673          0.868059   1.151995\n",
       "1   -1.295465  False -2.194910          0.962297   1.039180\n",
       "2    0.953148  False -0.746902          0.086334  11.582975\n",
       "3   -0.299072  False -0.768213          0.681064   1.468291\n",
       "4   -1.484340  False -3.162106          0.976104   1.024481\n",
       "..        ...    ...       ...               ...        ...\n",
       "995 -0.086928  False  0.115637          0.557358   1.794178\n",
       "996 -0.378302  False -0.535993          0.722308   1.384450\n",
       "997  0.029768  False  0.791588          0.484975   2.061960\n",
       "998  1.013528  False  1.770703          0.075189  13.299849\n",
       "999 -1.340090  False -1.269393          0.966128   1.035060\n",
       "\n",
       "[1000 rows x 5 columns]"
      ]
     },
     "execution_count": 6,
     "metadata": {},
     "output_type": "execute_result"
    }
   ],
   "source": [
    "cdf_0"
   ]
  },
  {
   "cell_type": "code",
   "execution_count": 7,
   "metadata": {
    "execution": {
     "iopub.execute_input": "2023-07-27T09:05:54.255333Z",
     "iopub.status.busy": "2023-07-27T09:05:54.254791Z",
     "iopub.status.idle": "2023-07-27T09:05:54.265501Z",
     "shell.execute_reply": "2023-07-27T09:05:54.264947Z"
    }
   },
   "outputs": [
    {
     "data": {
      "text/html": [
       "<div>\n",
       "<style scoped>\n",
       "    .dataframe tbody tr th:only-of-type {\n",
       "        vertical-align: middle;\n",
       "    }\n",
       "\n",
       "    .dataframe tbody tr th {\n",
       "        vertical-align: top;\n",
       "    }\n",
       "\n",
       "    .dataframe thead th {\n",
       "        text-align: right;\n",
       "    }\n",
       "</style>\n",
       "<table border=\"1\" class=\"dataframe\">\n",
       "  <thead>\n",
       "    <tr style=\"text-align: right;\">\n",
       "      <th></th>\n",
       "      <th>W0</th>\n",
       "      <th>v0</th>\n",
       "      <th>y</th>\n",
       "      <th>propensity_score</th>\n",
       "      <th>weight</th>\n",
       "    </tr>\n",
       "  </thead>\n",
       "  <tbody>\n",
       "    <tr>\n",
       "      <th>0</th>\n",
       "      <td>-2.039523</td>\n",
       "      <td>True</td>\n",
       "      <td>2.838157</td>\n",
       "      <td>0.006107</td>\n",
       "      <td>163.752143</td>\n",
       "    </tr>\n",
       "    <tr>\n",
       "      <th>1</th>\n",
       "      <td>1.421717</td>\n",
       "      <td>True</td>\n",
       "      <td>7.390177</td>\n",
       "      <td>0.971417</td>\n",
       "      <td>1.029424</td>\n",
       "    </tr>\n",
       "    <tr>\n",
       "      <th>2</th>\n",
       "      <td>0.637632</td>\n",
       "      <td>True</td>\n",
       "      <td>6.182872</td>\n",
       "      <td>0.828302</td>\n",
       "      <td>1.207289</td>\n",
       "    </tr>\n",
       "    <tr>\n",
       "      <th>3</th>\n",
       "      <td>0.558829</td>\n",
       "      <td>True</td>\n",
       "      <td>6.019191</td>\n",
       "      <td>0.798578</td>\n",
       "      <td>1.252226</td>\n",
       "    </tr>\n",
       "    <tr>\n",
       "      <th>4</th>\n",
       "      <td>-1.698136</td>\n",
       "      <td>True</td>\n",
       "      <td>5.534872</td>\n",
       "      <td>0.014172</td>\n",
       "      <td>70.561023</td>\n",
       "    </tr>\n",
       "    <tr>\n",
       "      <th>...</th>\n",
       "      <td>...</td>\n",
       "      <td>...</td>\n",
       "      <td>...</td>\n",
       "      <td>...</td>\n",
       "      <td>...</td>\n",
       "    </tr>\n",
       "    <tr>\n",
       "      <th>995</th>\n",
       "      <td>-0.109129</td>\n",
       "      <td>True</td>\n",
       "      <td>4.920626</td>\n",
       "      <td>0.429050</td>\n",
       "      <td>2.330729</td>\n",
       "    </tr>\n",
       "    <tr>\n",
       "      <th>996</th>\n",
       "      <td>-0.660860</td>\n",
       "      <td>True</td>\n",
       "      <td>4.663798</td>\n",
       "      <td>0.159831</td>\n",
       "      <td>6.256599</td>\n",
       "    </tr>\n",
       "    <tr>\n",
       "      <th>997</th>\n",
       "      <td>0.080484</td>\n",
       "      <td>True</td>\n",
       "      <td>5.795826</td>\n",
       "      <td>0.546464</td>\n",
       "      <td>1.829948</td>\n",
       "    </tr>\n",
       "    <tr>\n",
       "      <th>998</th>\n",
       "      <td>1.323046</td>\n",
       "      <td>True</td>\n",
       "      <td>4.512367</td>\n",
       "      <td>0.963745</td>\n",
       "      <td>1.037619</td>\n",
       "    </tr>\n",
       "    <tr>\n",
       "      <th>999</th>\n",
       "      <td>-1.588694</td>\n",
       "      <td>True</td>\n",
       "      <td>5.527041</td>\n",
       "      <td>0.018529</td>\n",
       "      <td>53.968845</td>\n",
       "    </tr>\n",
       "  </tbody>\n",
       "</table>\n",
       "<p>1000 rows × 5 columns</p>\n",
       "</div>"
      ],
      "text/plain": [
       "           W0    v0         y  propensity_score      weight\n",
       "0   -2.039523  True  2.838157          0.006107  163.752143\n",
       "1    1.421717  True  7.390177          0.971417    1.029424\n",
       "2    0.637632  True  6.182872          0.828302    1.207289\n",
       "3    0.558829  True  6.019191          0.798578    1.252226\n",
       "4   -1.698136  True  5.534872          0.014172   70.561023\n",
       "..        ...   ...       ...               ...         ...\n",
       "995 -0.109129  True  4.920626          0.429050    2.330729\n",
       "996 -0.660860  True  4.663798          0.159831    6.256599\n",
       "997  0.080484  True  5.795826          0.546464    1.829948\n",
       "998  1.323046  True  4.512367          0.963745    1.037619\n",
       "999 -1.588694  True  5.527041          0.018529   53.968845\n",
       "\n",
       "[1000 rows x 5 columns]"
      ]
     },
     "execution_count": 7,
     "metadata": {},
     "output_type": "execute_result"
    }
   ],
   "source": [
    "cdf_1"
   ]
  },
  {
   "cell_type": "markdown",
   "metadata": {},
   "source": [
    "## Comparing the estimate to Linear Regression\n",
    "First, estimating the effect using the causal data frame, and the 95% confidence interval."
   ]
  },
  {
   "cell_type": "code",
   "execution_count": 8,
   "metadata": {
    "execution": {
     "iopub.execute_input": "2023-07-27T09:05:54.268247Z",
     "iopub.status.busy": "2023-07-27T09:05:54.267820Z",
     "iopub.status.idle": "2023-07-27T09:05:54.330006Z",
     "shell.execute_reply": "2023-07-27T09:05:54.329138Z"
    }
   },
   "outputs": [
    {
     "data": {
      "image/png": "[encoded data removed]",
      "text/latex": [
       "$\\displaystyle 4.86747206952261$"
      ],
      "text/plain": [
       "4.867472069522609"
      ]
     },
     "execution_count": 8,
     "metadata": {},
     "output_type": "execute_result"
    }
   ],
   "source": [
    "(cdf_1['y'] - cdf_0['y']).mean()"
   ]
  },
  {
   "cell_type": "code",
   "execution_count": 9,
   "metadata": {
    "execution": {
     "iopub.execute_input": "2023-07-27T09:05:54.333505Z",
     "iopub.status.busy": "2023-07-27T09:05:54.332812Z",
     "iopub.status.idle": "2023-07-27T09:05:54.355861Z",
     "shell.execute_reply": "2023-07-27T09:05:54.355115Z"
    }
   },
   "outputs": [
    {
     "data": {
      "image/png": "[encoded data removed]",
      "text/latex": [
       "$\\displaystyle 0.0969234224658148$"
      ],
      "text/plain": [
       "0.09692342246581477"
      ]
     },
     "execution_count": 9,
     "metadata": {},
     "output_type": "execute_result"
    }
   ],
   "source": [
    "1.96*(cdf_1['y'] - cdf_0['y']).std() / np.sqrt(len(df))"
   ]
  },
  {
   "cell_type": "markdown",
   "metadata": {},
   "source": [
    "Comparing to the estimate from OLS."
   ]
  },
  {
   "cell_type": "code",
   "execution_count": 10,
   "metadata": {
    "execution": {
     "iopub.execute_input": "2023-07-27T09:05:54.359223Z",
     "iopub.status.busy": "2023-07-27T09:05:54.358781Z",
     "iopub.status.idle": "2023-07-27T09:05:54.376578Z",
     "shell.execute_reply": "2023-07-27T09:05:54.375861Z"
    }
   },
   "outputs": [
    {
     "data": {
      "text/html": [
       "<table class=\"simpletable\">\n",
       "<caption>OLS Regression Results</caption>\n",
       "<tr>\n",
       "  <th>Dep. Variable:</th>            <td>y</td>        <th>  R-squared (uncentered):</th>      <td>   0.932</td>\n",
       "</tr>\n",
       "<tr>\n",
       "  <th>Model:</th>                   <td>OLS</td>       <th>  Adj. R-squared (uncentered):</th> <td>   0.932</td>\n",
       "</tr>\n",
       "<tr>\n",
       "  <th>Method:</th>             <td>Least Squares</td>  <th>  F-statistic:       </th>          <td>   6856.</td>\n",
       "</tr>\n",
       "<tr>\n",
       "  <th>Date:</th>             <td>Thu, 27 Jul 2023</td> <th>  Prob (F-statistic):</th>           <td>  0.00</td> \n",
       "</tr>\n",
       "<tr>\n",
       "  <th>Time:</th>                 <td>09:05:54</td>     <th>  Log-Likelihood:    </th>          <td> -1438.8</td>\n",
       "</tr>\n",
       "<tr>\n",
       "  <th>No. Observations:</th>      <td>  1000</td>      <th>  AIC:               </th>          <td>   2882.</td>\n",
       "</tr>\n",
       "<tr>\n",
       "  <th>Df Residuals:</th>          <td>   998</td>      <th>  BIC:               </th>          <td>   2891.</td>\n",
       "</tr>\n",
       "<tr>\n",
       "  <th>Df Model:</th>              <td>     2</td>      <th>                     </th>              <td> </td>   \n",
       "</tr>\n",
       "<tr>\n",
       "  <th>Covariance Type:</th>      <td>nonrobust</td>    <th>                     </th>              <td> </td>   \n",
       "</tr>\n",
       "</table>\n",
       "<table class=\"simpletable\">\n",
       "<tr>\n",
       "   <td></td>     <th>coef</th>     <th>std err</th>      <th>t</th>      <th>P>|t|</th>  <th>[0.025</th>    <th>0.975]</th>  \n",
       "</tr>\n",
       "<tr>\n",
       "  <th>x1</th> <td>    0.3133</td> <td>    0.037</td> <td>    8.533</td> <td> 0.000</td> <td>    0.241</td> <td>    0.385</td>\n",
       "</tr>\n",
       "<tr>\n",
       "  <th>x2</th> <td>    5.0655</td> <td>    0.052</td> <td>   97.847</td> <td> 0.000</td> <td>    4.964</td> <td>    5.167</td>\n",
       "</tr>\n",
       "</table>\n",
       "<table class=\"simpletable\">\n",
       "<tr>\n",
       "  <th>Omnibus:</th>       <td> 0.433</td> <th>  Durbin-Watson:     </th> <td>   2.074</td>\n",
       "</tr>\n",
       "<tr>\n",
       "  <th>Prob(Omnibus):</th> <td> 0.805</td> <th>  Jarque-Bera (JB):  </th> <td>   0.506</td>\n",
       "</tr>\n",
       "<tr>\n",
       "  <th>Skew:</th>          <td> 0.042</td> <th>  Prob(JB):          </th> <td>   0.777</td>\n",
       "</tr>\n",
       "<tr>\n",
       "  <th>Kurtosis:</th>      <td> 2.929</td> <th>  Cond. No.          </th> <td>    1.90</td>\n",
       "</tr>\n",
       "</table><br/><br/>Notes:<br/>[1] R² is computed without centering (uncentered) since the model does not contain a constant.<br/>[2] Standard Errors assume that the covariance matrix of the errors is correctly specified."
      ],
      "text/plain": [
       "<class 'statsmodels.iolib.summary.Summary'>\n",
       "\"\"\"\n",
       "                                 OLS Regression Results                                \n",
       "=======================================================================================\n",
       "Dep. Variable:                      y   R-squared (uncentered):                   0.932\n",
       "Model:                            OLS   Adj. R-squared (uncentered):              0.932\n",
       "Method:                 Least Squares   F-statistic:                              6856.\n",
       "Date:                Thu, 27 Jul 2023   Prob (F-statistic):                        0.00\n",
       "Time:                        09:05:54   Log-Likelihood:                         -1438.8\n",
       "No. Observations:                1000   AIC:                                      2882.\n",
       "Df Residuals:                     998   BIC:                                      2891.\n",
       "Df Model:                           2                                                  \n",
       "Covariance Type:            nonrobust                                                  \n",
       "==============================================================================\n",
       "                 coef    std err          t      P>|t|      [0.025      0.975]\n",
       "------------------------------------------------------------------------------\n",
       "x1             0.3133      0.037      8.533      0.000       0.241       0.385\n",
       "x2             5.0655      0.052     97.847      0.000       4.964       5.167\n",
       "==============================================================================\n",
       "Omnibus:                        0.433   Durbin-Watson:                   2.074\n",
       "Prob(Omnibus):                  0.805   Jarque-Bera (JB):                0.506\n",
       "Skew:                           0.042   Prob(JB):                        0.777\n",
       "Kurtosis:                       2.929   Cond. No.                         1.90\n",
       "==============================================================================\n",
       "\n",
       "Notes:\n",
       "[1] R² is computed without centering (uncentered) since the model does not contain a constant.\n",
       "[2] Standard Errors assume that the covariance matrix of the errors is correctly specified.\n",
       "\"\"\""
      ]
     },
     "execution_count": 10,
     "metadata": {},
     "output_type": "execute_result"
    }
   ],
   "source": [
    "model = OLS(np.asarray(df[outcome]), np.asarray(df[[common_cause, treatment]], dtype=np.float64))\n",
    "result = model.fit()\n",
    "result.summary()"
   ]
  }
 ],
 "metadata": {
  "kernelspec": {
   "display_name": "Python 3",
   "language": "python",
   "name": "python3"
  },
  "language_info": {
   "codemirror_mode": {
    "name": "ipython",
    "version": 3
   },
   "file_extension": ".py",
   "mimetype": "text/x-python",
   "name": "python",
   "nbconvert_exporter": "python",
   "pygments_lexer": "ipython3",
   "version": "3.8.10"
  },
  "toc": {
   "base_numbering": 1,
   "nav_menu": {},
   "number_sections": false,
   "sideBar": true,
   "skip_h1_title": true,
   "title_cell": "Table of Contents",
   "title_sidebar": "Contents",
   "toc_cell": false,
   "toc_position": {},
   "toc_section_display": true,
   "toc_window_display": false
  }
 },
 "nbformat": 4,
 "nbformat_minor": 4
}
