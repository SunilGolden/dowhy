{
 "cells": [
  {
   "cell_type": "markdown",
   "metadata": {},
   "source": [
    "# Demo for the DoWhy causal API\n",
    "We show a simple example of adding a causal extension to any dataframe. "
   ]
  },
  {
   "cell_type": "code",
   "execution_count": 1,
   "metadata": {
    "execution": {
     "iopub.execute_input": "2023-04-10T14:33:22.120510Z",
     "iopub.status.busy": "2023-04-10T14:33:22.120050Z",
     "iopub.status.idle": "2023-04-10T14:33:23.894106Z",
     "shell.execute_reply": "2023-04-10T14:33:23.893289Z"
    }
   },
   "outputs": [],
   "source": [
    "import dowhy.datasets\n",
    "import dowhy.api\n",
    "\n",
    "import numpy as np\n",
    "import pandas as pd\n",
    "\n",
    "from statsmodels.api import OLS"
   ]
  },
  {
   "cell_type": "code",
   "execution_count": 2,
   "metadata": {
    "execution": {
     "iopub.execute_input": "2023-04-10T14:33:23.898349Z",
     "iopub.status.busy": "2023-04-10T14:33:23.897910Z",
     "iopub.status.idle": "2023-04-10T14:33:23.952119Z",
     "shell.execute_reply": "2023-04-10T14:33:23.951427Z"
    }
   },
   "outputs": [
    {
     "data": {
      "text/html": [
       "<div>\n",
       "<style scoped>\n",
       "    .dataframe tbody tr th:only-of-type {\n",
       "        vertical-align: middle;\n",
       "    }\n",
       "\n",
       "    .dataframe tbody tr th {\n",
       "        vertical-align: top;\n",
       "    }\n",
       "\n",
       "    .dataframe thead th {\n",
       "        text-align: right;\n",
       "    }\n",
       "</style>\n",
       "<table border=\"1\" class=\"dataframe\">\n",
       "  <thead>\n",
       "    <tr style=\"text-align: right;\">\n",
       "      <th></th>\n",
       "      <th>W0</th>\n",
       "      <th>v0</th>\n",
       "      <th>y</th>\n",
       "    </tr>\n",
       "  </thead>\n",
       "  <tbody>\n",
       "    <tr>\n",
       "      <th>0</th>\n",
       "      <td>0.067357</td>\n",
       "      <td>False</td>\n",
       "      <td>0.014275</td>\n",
       "    </tr>\n",
       "    <tr>\n",
       "      <th>1</th>\n",
       "      <td>-0.036869</td>\n",
       "      <td>True</td>\n",
       "      <td>6.045405</td>\n",
       "    </tr>\n",
       "    <tr>\n",
       "      <th>2</th>\n",
       "      <td>-0.095574</td>\n",
       "      <td>False</td>\n",
       "      <td>0.542334</td>\n",
       "    </tr>\n",
       "    <tr>\n",
       "      <th>3</th>\n",
       "      <td>0.544641</td>\n",
       "      <td>True</td>\n",
       "      <td>5.552956</td>\n",
       "    </tr>\n",
       "    <tr>\n",
       "      <th>4</th>\n",
       "      <td>0.182090</td>\n",
       "      <td>True</td>\n",
       "      <td>5.263551</td>\n",
       "    </tr>\n",
       "    <tr>\n",
       "      <th>...</th>\n",
       "      <td>...</td>\n",
       "      <td>...</td>\n",
       "      <td>...</td>\n",
       "    </tr>\n",
       "    <tr>\n",
       "      <th>995</th>\n",
       "      <td>-0.173992</td>\n",
       "      <td>False</td>\n",
       "      <td>0.204965</td>\n",
       "    </tr>\n",
       "    <tr>\n",
       "      <th>996</th>\n",
       "      <td>0.773767</td>\n",
       "      <td>False</td>\n",
       "      <td>-0.349406</td>\n",
       "    </tr>\n",
       "    <tr>\n",
       "      <th>997</th>\n",
       "      <td>0.405403</td>\n",
       "      <td>False</td>\n",
       "      <td>-0.227146</td>\n",
       "    </tr>\n",
       "    <tr>\n",
       "      <th>998</th>\n",
       "      <td>0.889691</td>\n",
       "      <td>True</td>\n",
       "      <td>6.073794</td>\n",
       "    </tr>\n",
       "    <tr>\n",
       "      <th>999</th>\n",
       "      <td>-0.689776</td>\n",
       "      <td>False</td>\n",
       "      <td>-0.629699</td>\n",
       "    </tr>\n",
       "  </tbody>\n",
       "</table>\n",
       "<p>1000 rows × 3 columns</p>\n",
       "</div>"
      ],
      "text/plain": [
       "           W0     v0         y\n",
       "0    0.067357  False  0.014275\n",
       "1   -0.036869   True  6.045405\n",
       "2   -0.095574  False  0.542334\n",
       "3    0.544641   True  5.552956\n",
       "4    0.182090   True  5.263551\n",
       "..        ...    ...       ...\n",
       "995 -0.173992  False  0.204965\n",
       "996  0.773767  False -0.349406\n",
       "997  0.405403  False -0.227146\n",
       "998  0.889691   True  6.073794\n",
       "999 -0.689776  False -0.629699\n",
       "\n",
       "[1000 rows x 3 columns]"
      ]
     },
     "execution_count": 2,
     "metadata": {},
     "output_type": "execute_result"
    }
   ],
   "source": [
    "data = dowhy.datasets.linear_dataset(beta=5,\n",
    "        num_common_causes=1,\n",
    "        num_instruments = 0,\n",
    "        num_samples=1000,\n",
    "        treatment_is_binary=True)\n",
    "df = data['df']\n",
    "df['y'] = df['y'] + np.random.normal(size=len(df)) # Adding noise to data. Without noise, the variance in Y|X, Z is zero, and mcmc fails.\n",
    "#data['dot_graph'] = 'digraph { v ->y;X0-> v;X0-> y;}'\n",
    "\n",
    "treatment= data[\"treatment_name\"][0]\n",
    "outcome = data[\"outcome_name\"][0]\n",
    "common_cause = data[\"common_causes_names\"][0]\n",
    "df"
   ]
  },
  {
   "cell_type": "code",
   "execution_count": 3,
   "metadata": {
    "execution": {
     "iopub.execute_input": "2023-04-10T14:33:23.955387Z",
     "iopub.status.busy": "2023-04-10T14:33:23.954986Z",
     "iopub.status.idle": "2023-04-10T14:33:24.141558Z",
     "shell.execute_reply": "2023-04-10T14:33:24.140788Z"
    }
   },
   "outputs": [
    {
     "data": {
      "text/plain": [
       "<AxesSubplot: xlabel='v0'>"
      ]
     },
     "execution_count": 3,
     "metadata": {},
     "output_type": "execute_result"
    },
    {
     "data": {
      "image/png": "[encoded data removed]",
      "text/plain": [
       "<Figure size 640x480 with 1 Axes>"
      ]
     },
     "metadata": {},
     "output_type": "display_data"
    }
   ],
   "source": [
    "# data['df'] is just a regular pandas.DataFrame\n",
    "df.causal.do(x=treatment,\n",
    "                     variable_types={treatment: 'b', outcome: 'c', common_cause: 'c'},\n",
    "                     outcome=outcome,\n",
    "                     common_causes=[common_cause],\n",
    "                     proceed_when_unidentifiable=True).groupby(treatment).mean().plot(y=outcome, kind='bar')"
   ]
  },
  {
   "cell_type": "code",
   "execution_count": 4,
   "metadata": {
    "execution": {
     "iopub.execute_input": "2023-04-10T14:33:24.145110Z",
     "iopub.status.busy": "2023-04-10T14:33:24.144613Z",
     "iopub.status.idle": "2023-04-10T14:33:24.421391Z",
     "shell.execute_reply": "2023-04-10T14:33:24.420600Z"
    }
   },
   "outputs": [
    {
     "data": {
      "text/plain": [
       "<AxesSubplot: xlabel='v0'>"
      ]
     },
     "execution_count": 4,
     "metadata": {},
     "output_type": "execute_result"
    },
    {
     "data": {
      "image/png": "[encoded data removed]",
      "text/plain": [
       "<Figure size 640x480 with 1 Axes>"
      ]
     },
     "metadata": {},
     "output_type": "display_data"
    }
   ],
   "source": [
    "df.causal.do(x={treatment: 1}, \n",
    "              variable_types={treatment:'b', outcome: 'c', common_cause: 'c'}, \n",
    "              outcome=outcome,\n",
    "              method='weighting', \n",
    "              common_causes=[common_cause],\n",
    "              proceed_when_unidentifiable=True).groupby(treatment).mean().plot(y=outcome, kind='bar')"
   ]
  },
  {
   "cell_type": "code",
   "execution_count": 5,
   "metadata": {
    "execution": {
     "iopub.execute_input": "2023-04-10T14:33:24.424875Z",
     "iopub.status.busy": "2023-04-10T14:33:24.424453Z",
     "iopub.status.idle": "2023-04-10T14:33:24.457542Z",
     "shell.execute_reply": "2023-04-10T14:33:24.456849Z"
    }
   },
   "outputs": [],
   "source": [
    "cdf_1 = df.causal.do(x={treatment: 1}, \n",
    "              variable_types={treatment: 'b', outcome: 'c', common_cause: 'c'}, \n",
    "              outcome=outcome, \n",
    "              dot_graph=data['dot_graph'],\n",
    "              proceed_when_unidentifiable=True)\n",
    "\n",
    "cdf_0 = df.causal.do(x={treatment: 0}, \n",
    "              variable_types={treatment: 'b', outcome: 'c', common_cause: 'c'}, \n",
    "              outcome=outcome, \n",
    "              dot_graph=data['dot_graph'],\n",
    "              proceed_when_unidentifiable=True)\n"
   ]
  },
  {
   "cell_type": "code",
   "execution_count": 6,
   "metadata": {
    "execution": {
     "iopub.execute_input": "2023-04-10T14:33:24.461049Z",
     "iopub.status.busy": "2023-04-10T14:33:24.460672Z",
     "iopub.status.idle": "2023-04-10T14:33:24.471279Z",
     "shell.execute_reply": "2023-04-10T14:33:24.470768Z"
    },
    "scrolled": true
   },
   "outputs": [
    {
     "data": {
      "text/html": [
       "<div>\n",
       "<style scoped>\n",
       "    .dataframe tbody tr th:only-of-type {\n",
       "        vertical-align: middle;\n",
       "    }\n",
       "\n",
       "    .dataframe tbody tr th {\n",
       "        vertical-align: top;\n",
       "    }\n",
       "\n",
       "    .dataframe thead th {\n",
       "        text-align: right;\n",
       "    }\n",
       "</style>\n",
       "<table border=\"1\" class=\"dataframe\">\n",
       "  <thead>\n",
       "    <tr style=\"text-align: right;\">\n",
       "      <th></th>\n",
       "      <th>W0</th>\n",
       "      <th>v0</th>\n",
       "      <th>y</th>\n",
       "      <th>propensity_score</th>\n",
       "      <th>weight</th>\n",
       "    </tr>\n",
       "  </thead>\n",
       "  <tbody>\n",
       "    <tr>\n",
       "      <th>0</th>\n",
       "      <td>0.985194</td>\n",
       "      <td>False</td>\n",
       "      <td>-0.308022</td>\n",
       "      <td>0.348801</td>\n",
       "      <td>2.866960</td>\n",
       "    </tr>\n",
       "    <tr>\n",
       "      <th>1</th>\n",
       "      <td>1.830362</td>\n",
       "      <td>False</td>\n",
       "      <td>2.137125</td>\n",
       "      <td>0.204617</td>\n",
       "      <td>4.887182</td>\n",
       "    </tr>\n",
       "    <tr>\n",
       "      <th>2</th>\n",
       "      <td>1.676974</td>\n",
       "      <td>False</td>\n",
       "      <td>3.161788</td>\n",
       "      <td>0.227130</td>\n",
       "      <td>4.402758</td>\n",
       "    </tr>\n",
       "    <tr>\n",
       "      <th>3</th>\n",
       "      <td>0.852355</td>\n",
       "      <td>False</td>\n",
       "      <td>-0.061906</td>\n",
       "      <td>0.375418</td>\n",
       "      <td>2.663699</td>\n",
       "    </tr>\n",
       "    <tr>\n",
       "      <th>4</th>\n",
       "      <td>-0.324952</td>\n",
       "      <td>False</td>\n",
       "      <td>-2.414791</td>\n",
       "      <td>0.625401</td>\n",
       "      <td>1.598975</td>\n",
       "    </tr>\n",
       "    <tr>\n",
       "      <th>...</th>\n",
       "      <td>...</td>\n",
       "      <td>...</td>\n",
       "      <td>...</td>\n",
       "      <td>...</td>\n",
       "      <td>...</td>\n",
       "    </tr>\n",
       "    <tr>\n",
       "      <th>995</th>\n",
       "      <td>2.154110</td>\n",
       "      <td>False</td>\n",
       "      <td>4.898978</td>\n",
       "      <td>0.162654</td>\n",
       "      <td>6.148005</td>\n",
       "    </tr>\n",
       "    <tr>\n",
       "      <th>996</th>\n",
       "      <td>2.339651</td>\n",
       "      <td>False</td>\n",
       "      <td>3.631849</td>\n",
       "      <td>0.141899</td>\n",
       "      <td>7.047273</td>\n",
       "    </tr>\n",
       "    <tr>\n",
       "      <th>997</th>\n",
       "      <td>0.225454</td>\n",
       "      <td>False</td>\n",
       "      <td>0.837249</td>\n",
       "      <td>0.508733</td>\n",
       "      <td>1.965669</td>\n",
       "    </tr>\n",
       "    <tr>\n",
       "      <th>998</th>\n",
       "      <td>0.087394</td>\n",
       "      <td>False</td>\n",
       "      <td>0.862811</td>\n",
       "      <td>0.538606</td>\n",
       "      <td>1.856645</td>\n",
       "    </tr>\n",
       "    <tr>\n",
       "      <th>999</th>\n",
       "      <td>-0.087594</td>\n",
       "      <td>False</td>\n",
       "      <td>0.173081</td>\n",
       "      <td>0.576049</td>\n",
       "      <td>1.735964</td>\n",
       "    </tr>\n",
       "  </tbody>\n",
       "</table>\n",
       "<p>1000 rows × 5 columns</p>\n",
       "</div>"
      ],
      "text/plain": [
       "           W0     v0         y  propensity_score    weight\n",
       "0    0.985194  False -0.308022          0.348801  2.866960\n",
       "1    1.830362  False  2.137125          0.204617  4.887182\n",
       "2    1.676974  False  3.161788          0.227130  4.402758\n",
       "3    0.852355  False -0.061906          0.375418  2.663699\n",
       "4   -0.324952  False -2.414791          0.625401  1.598975\n",
       "..        ...    ...       ...               ...       ...\n",
       "995  2.154110  False  4.898978          0.162654  6.148005\n",
       "996  2.339651  False  3.631849          0.141899  7.047273\n",
       "997  0.225454  False  0.837249          0.508733  1.965669\n",
       "998  0.087394  False  0.862811          0.538606  1.856645\n",
       "999 -0.087594  False  0.173081          0.576049  1.735964\n",
       "\n",
       "[1000 rows x 5 columns]"
      ]
     },
     "execution_count": 6,
     "metadata": {},
     "output_type": "execute_result"
    }
   ],
   "source": [
    "cdf_0"
   ]
  },
  {
   "cell_type": "code",
   "execution_count": 7,
   "metadata": {
    "execution": {
     "iopub.execute_input": "2023-04-10T14:33:24.474054Z",
     "iopub.status.busy": "2023-04-10T14:33:24.473626Z",
     "iopub.status.idle": "2023-04-10T14:33:24.483924Z",
     "shell.execute_reply": "2023-04-10T14:33:24.483274Z"
    }
   },
   "outputs": [
    {
     "data": {
      "text/html": [
       "<div>\n",
       "<style scoped>\n",
       "    .dataframe tbody tr th:only-of-type {\n",
       "        vertical-align: middle;\n",
       "    }\n",
       "\n",
       "    .dataframe tbody tr th {\n",
       "        vertical-align: top;\n",
       "    }\n",
       "\n",
       "    .dataframe thead th {\n",
       "        text-align: right;\n",
       "    }\n",
       "</style>\n",
       "<table border=\"1\" class=\"dataframe\">\n",
       "  <thead>\n",
       "    <tr style=\"text-align: right;\">\n",
       "      <th></th>\n",
       "      <th>W0</th>\n",
       "      <th>v0</th>\n",
       "      <th>y</th>\n",
       "      <th>propensity_score</th>\n",
       "      <th>weight</th>\n",
       "    </tr>\n",
       "  </thead>\n",
       "  <tbody>\n",
       "    <tr>\n",
       "      <th>0</th>\n",
       "      <td>0.845319</td>\n",
       "      <td>True</td>\n",
       "      <td>5.065217</td>\n",
       "      <td>0.623150</td>\n",
       "      <td>1.604751</td>\n",
       "    </tr>\n",
       "    <tr>\n",
       "      <th>1</th>\n",
       "      <td>-0.273488</td>\n",
       "      <td>True</td>\n",
       "      <td>4.878179</td>\n",
       "      <td>0.385118</td>\n",
       "      <td>2.596604</td>\n",
       "    </tr>\n",
       "    <tr>\n",
       "      <th>2</th>\n",
       "      <td>-0.313955</td>\n",
       "      <td>True</td>\n",
       "      <td>5.056270</td>\n",
       "      <td>0.376838</td>\n",
       "      <td>2.653663</td>\n",
       "    </tr>\n",
       "    <tr>\n",
       "      <th>3</th>\n",
       "      <td>0.016784</td>\n",
       "      <td>True</td>\n",
       "      <td>4.404802</td>\n",
       "      <td>0.446208</td>\n",
       "      <td>2.241105</td>\n",
       "    </tr>\n",
       "    <tr>\n",
       "      <th>4</th>\n",
       "      <td>0.532792</td>\n",
       "      <td>True</td>\n",
       "      <td>4.664360</td>\n",
       "      <td>0.557680</td>\n",
       "      <td>1.793144</td>\n",
       "    </tr>\n",
       "    <tr>\n",
       "      <th>...</th>\n",
       "      <td>...</td>\n",
       "      <td>...</td>\n",
       "      <td>...</td>\n",
       "      <td>...</td>\n",
       "      <td>...</td>\n",
       "    </tr>\n",
       "    <tr>\n",
       "      <th>995</th>\n",
       "      <td>1.096505</td>\n",
       "      <td>True</td>\n",
       "      <td>5.802251</td>\n",
       "      <td>0.672805</td>\n",
       "      <td>1.486315</td>\n",
       "    </tr>\n",
       "    <tr>\n",
       "      <th>996</th>\n",
       "      <td>0.575558</td>\n",
       "      <td>True</td>\n",
       "      <td>6.353552</td>\n",
       "      <td>0.566813</td>\n",
       "      <td>1.764251</td>\n",
       "    </tr>\n",
       "    <tr>\n",
       "      <th>997</th>\n",
       "      <td>-0.686586</td>\n",
       "      <td>True</td>\n",
       "      <td>6.253208</td>\n",
       "      <td>0.304421</td>\n",
       "      <td>3.284928</td>\n",
       "    </tr>\n",
       "    <tr>\n",
       "      <th>998</th>\n",
       "      <td>2.546180</td>\n",
       "      <td>True</td>\n",
       "      <td>8.550852</td>\n",
       "      <td>0.878555</td>\n",
       "      <td>1.138233</td>\n",
       "    </tr>\n",
       "    <tr>\n",
       "      <th>999</th>\n",
       "      <td>3.212900</td>\n",
       "      <td>True</td>\n",
       "      <td>9.339231</td>\n",
       "      <td>0.928066</td>\n",
       "      <td>1.077510</td>\n",
       "    </tr>\n",
       "  </tbody>\n",
       "</table>\n",
       "<p>1000 rows × 5 columns</p>\n",
       "</div>"
      ],
      "text/plain": [
       "           W0    v0         y  propensity_score    weight\n",
       "0    0.845319  True  5.065217          0.623150  1.604751\n",
       "1   -0.273488  True  4.878179          0.385118  2.596604\n",
       "2   -0.313955  True  5.056270          0.376838  2.653663\n",
       "3    0.016784  True  4.404802          0.446208  2.241105\n",
       "4    0.532792  True  4.664360          0.557680  1.793144\n",
       "..        ...   ...       ...               ...       ...\n",
       "995  1.096505  True  5.802251          0.672805  1.486315\n",
       "996  0.575558  True  6.353552          0.566813  1.764251\n",
       "997 -0.686586  True  6.253208          0.304421  3.284928\n",
       "998  2.546180  True  8.550852          0.878555  1.138233\n",
       "999  3.212900  True  9.339231          0.928066  1.077510\n",
       "\n",
       "[1000 rows x 5 columns]"
      ]
     },
     "execution_count": 7,
     "metadata": {},
     "output_type": "execute_result"
    }
   ],
   "source": [
    "cdf_1"
   ]
  },
  {
   "cell_type": "markdown",
   "metadata": {},
   "source": [
    "## Comparing the estimate to Linear Regression\n",
    "First, estimating the effect using the causal data frame, and the 95% confidence interval."
   ]
  },
  {
   "cell_type": "code",
   "execution_count": 8,
   "metadata": {
    "execution": {
     "iopub.execute_input": "2023-04-10T14:33:24.487865Z",
     "iopub.status.busy": "2023-04-10T14:33:24.487344Z",
     "iopub.status.idle": "2023-04-10T14:33:24.544800Z",
     "shell.execute_reply": "2023-04-10T14:33:24.543989Z"
    }
   },
   "outputs": [
    {
     "data": {
      "image/png": "[encoded data removed]",
      "text/latex": [
       "$\\displaystyle 4.858219160182$"
      ],
      "text/plain": [
       "4.8582191601819975"
      ]
     },
     "execution_count": 8,
     "metadata": {},
     "output_type": "execute_result"
    }
   ],
   "source": [
    "(cdf_1['y'] - cdf_0['y']).mean()"
   ]
  },
  {
   "cell_type": "code",
   "execution_count": 9,
   "metadata": {
    "execution": {
     "iopub.execute_input": "2023-04-10T14:33:24.548204Z",
     "iopub.status.busy": "2023-04-10T14:33:24.547926Z",
     "iopub.status.idle": "2023-04-10T14:33:24.570704Z",
     "shell.execute_reply": "2023-04-10T14:33:24.569902Z"
    }
   },
   "outputs": [
    {
     "data": {
      "image/png": "[encoded data removed]",
      "text/latex": [
       "$\\displaystyle 0.153403069586675$"
      ],
      "text/plain": [
       "0.15340306958667543"
      ]
     },
     "execution_count": 9,
     "metadata": {},
     "output_type": "execute_result"
    }
   ],
   "source": [
    "1.96*(cdf_1['y'] - cdf_0['y']).std() / np.sqrt(len(df))"
   ]
  },
  {
   "cell_type": "markdown",
   "metadata": {},
   "source": [
    "Comparing to the estimate from OLS."
   ]
  },
  {
   "cell_type": "code",
   "execution_count": 10,
   "metadata": {
    "execution": {
     "iopub.execute_input": "2023-04-10T14:33:24.574398Z",
     "iopub.status.busy": "2023-04-10T14:33:24.574013Z",
     "iopub.status.idle": "2023-04-10T14:33:24.588894Z",
     "shell.execute_reply": "2023-04-10T14:33:24.588189Z"
    }
   },
   "outputs": [
    {
     "data": {
      "text/html": [
       "<table class=\"simpletable\">\n",
       "<caption>OLS Regression Results</caption>\n",
       "<tr>\n",
       "  <th>Dep. Variable:</th>            <td>y</td>        <th>  R-squared (uncentered):</th>      <td>   0.962</td> \n",
       "</tr>\n",
       "<tr>\n",
       "  <th>Model:</th>                   <td>OLS</td>       <th>  Adj. R-squared (uncentered):</th> <td>   0.962</td> \n",
       "</tr>\n",
       "<tr>\n",
       "  <th>Method:</th>             <td>Least Squares</td>  <th>  F-statistic:       </th>          <td>1.273e+04</td>\n",
       "</tr>\n",
       "<tr>\n",
       "  <th>Date:</th>             <td>Mon, 10 Apr 2023</td> <th>  Prob (F-statistic):</th>           <td>  0.00</td>  \n",
       "</tr>\n",
       "<tr>\n",
       "  <th>Time:</th>                 <td>14:33:24</td>     <th>  Log-Likelihood:    </th>          <td> -1408.5</td> \n",
       "</tr>\n",
       "<tr>\n",
       "  <th>No. Observations:</th>      <td>  1000</td>      <th>  AIC:               </th>          <td>   2821.</td> \n",
       "</tr>\n",
       "<tr>\n",
       "  <th>Df Residuals:</th>          <td>   998</td>      <th>  BIC:               </th>          <td>   2831.</td> \n",
       "</tr>\n",
       "<tr>\n",
       "  <th>Df Model:</th>              <td>     2</td>      <th>                     </th>              <td> </td>    \n",
       "</tr>\n",
       "<tr>\n",
       "  <th>Covariance Type:</th>      <td>nonrobust</td>    <th>                     </th>              <td> </td>    \n",
       "</tr>\n",
       "</table>\n",
       "<table class=\"simpletable\">\n",
       "<tr>\n",
       "   <td></td>     <th>coef</th>     <th>std err</th>      <th>t</th>      <th>P>|t|</th>  <th>[0.025</th>    <th>0.975]</th>  \n",
       "</tr>\n",
       "<tr>\n",
       "  <th>x1</th> <td>    1.4441</td> <td>    0.034</td> <td>   42.509</td> <td> 0.000</td> <td>    1.377</td> <td>    1.511</td>\n",
       "</tr>\n",
       "<tr>\n",
       "  <th>x2</th> <td>    4.9808</td> <td>    0.053</td> <td>   94.411</td> <td> 0.000</td> <td>    4.877</td> <td>    5.084</td>\n",
       "</tr>\n",
       "</table>\n",
       "<table class=\"simpletable\">\n",
       "<tr>\n",
       "  <th>Omnibus:</th>       <td> 1.318</td> <th>  Durbin-Watson:     </th> <td>   2.028</td>\n",
       "</tr>\n",
       "<tr>\n",
       "  <th>Prob(Omnibus):</th> <td> 0.517</td> <th>  Jarque-Bera (JB):  </th> <td>   1.186</td>\n",
       "</tr>\n",
       "<tr>\n",
       "  <th>Skew:</th>          <td>-0.070</td> <th>  Prob(JB):          </th> <td>   0.553</td>\n",
       "</tr>\n",
       "<tr>\n",
       "  <th>Kurtosis:</th>      <td> 3.094</td> <th>  Cond. No.          </th> <td>    2.38</td>\n",
       "</tr>\n",
       "</table><br/><br/>Notes:<br/>[1] R² is computed without centering (uncentered) since the model does not contain a constant.<br/>[2] Standard Errors assume that the covariance matrix of the errors is correctly specified."
      ],
      "text/plain": [
       "<class 'statsmodels.iolib.summary.Summary'>\n",
       "\"\"\"\n",
       "                                 OLS Regression Results                                \n",
       "=======================================================================================\n",
       "Dep. Variable:                      y   R-squared (uncentered):                   0.962\n",
       "Model:                            OLS   Adj. R-squared (uncentered):              0.962\n",
       "Method:                 Least Squares   F-statistic:                          1.273e+04\n",
       "Date:                Mon, 10 Apr 2023   Prob (F-statistic):                        0.00\n",
       "Time:                        14:33:24   Log-Likelihood:                         -1408.5\n",
       "No. Observations:                1000   AIC:                                      2821.\n",
       "Df Residuals:                     998   BIC:                                      2831.\n",
       "Df Model:                           2                                                  \n",
       "Covariance Type:            nonrobust                                                  \n",
       "==============================================================================\n",
       "                 coef    std err          t      P>|t|      [0.025      0.975]\n",
       "------------------------------------------------------------------------------\n",
       "x1             1.4441      0.034     42.509      0.000       1.377       1.511\n",
       "x2             4.9808      0.053     94.411      0.000       4.877       5.084\n",
       "==============================================================================\n",
       "Omnibus:                        1.318   Durbin-Watson:                   2.028\n",
       "Prob(Omnibus):                  0.517   Jarque-Bera (JB):                1.186\n",
       "Skew:                          -0.070   Prob(JB):                        0.553\n",
       "Kurtosis:                       3.094   Cond. No.                         2.38\n",
       "==============================================================================\n",
       "\n",
       "Notes:\n",
       "[1] R² is computed without centering (uncentered) since the model does not contain a constant.\n",
       "[2] Standard Errors assume that the covariance matrix of the errors is correctly specified.\n",
       "\"\"\""
      ]
     },
     "execution_count": 10,
     "metadata": {},
     "output_type": "execute_result"
    }
   ],
   "source": [
    "model = OLS(np.asarray(df[outcome]), np.asarray(df[[common_cause, treatment]], dtype=np.float64))\n",
    "result = model.fit()\n",
    "result.summary()"
   ]
  }
 ],
 "metadata": {
  "kernelspec": {
   "display_name": "Python 3",
   "language": "python",
   "name": "python3"
  },
  "language_info": {
   "codemirror_mode": {
    "name": "ipython",
    "version": 3
   },
   "file_extension": ".py",
   "mimetype": "text/x-python",
   "name": "python",
   "nbconvert_exporter": "python",
   "pygments_lexer": "ipython3",
   "version": "3.8.10"
  },
  "toc": {
   "base_numbering": 1,
   "nav_menu": {},
   "number_sections": false,
   "sideBar": true,
   "skip_h1_title": true,
   "title_cell": "Table of Contents",
   "title_sidebar": "Contents",
   "toc_cell": false,
   "toc_position": {},
   "toc_section_display": true,
   "toc_window_display": false
  }
 },
 "nbformat": 4,
 "nbformat_minor": 4
}
