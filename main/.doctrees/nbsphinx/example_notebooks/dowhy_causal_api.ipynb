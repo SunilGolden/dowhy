{
 "cells": [
  {
   "cell_type": "markdown",
   "metadata": {},
   "source": [
    "# Demo for the DoWhy causal API\n",
    "We show a simple example of adding a causal extension to any dataframe. "
   ]
  },
  {
   "cell_type": "code",
   "execution_count": 1,
   "metadata": {
    "execution": {
     "iopub.execute_input": "2023-03-06T16:32:42.286549Z",
     "iopub.status.busy": "2023-03-06T16:32:42.286307Z",
     "iopub.status.idle": "2023-03-06T16:32:43.980171Z",
     "shell.execute_reply": "2023-03-06T16:32:43.979427Z"
    }
   },
   "outputs": [],
   "source": [
    "import dowhy.datasets\n",
    "import dowhy.api\n",
    "\n",
    "import numpy as np\n",
    "import pandas as pd\n",
    "\n",
    "from statsmodels.api import OLS"
   ]
  },
  {
   "cell_type": "code",
   "execution_count": 2,
   "metadata": {
    "execution": {
     "iopub.execute_input": "2023-03-06T16:32:43.983882Z",
     "iopub.status.busy": "2023-03-06T16:32:43.983341Z",
     "iopub.status.idle": "2023-03-06T16:32:44.029513Z",
     "shell.execute_reply": "2023-03-06T16:32:44.028802Z"
    }
   },
   "outputs": [
    {
     "data": {
      "text/html": [
       "<div>\n",
       "<style scoped>\n",
       "    .dataframe tbody tr th:only-of-type {\n",
       "        vertical-align: middle;\n",
       "    }\n",
       "\n",
       "    .dataframe tbody tr th {\n",
       "        vertical-align: top;\n",
       "    }\n",
       "\n",
       "    .dataframe thead th {\n",
       "        text-align: right;\n",
       "    }\n",
       "</style>\n",
       "<table border=\"1\" class=\"dataframe\">\n",
       "  <thead>\n",
       "    <tr style=\"text-align: right;\">\n",
       "      <th></th>\n",
       "      <th>W0</th>\n",
       "      <th>v0</th>\n",
       "      <th>y</th>\n",
       "    </tr>\n",
       "  </thead>\n",
       "  <tbody>\n",
       "    <tr>\n",
       "      <th>0</th>\n",
       "      <td>1.342402</td>\n",
       "      <td>True</td>\n",
       "      <td>5.479341</td>\n",
       "    </tr>\n",
       "    <tr>\n",
       "      <th>1</th>\n",
       "      <td>0.244488</td>\n",
       "      <td>False</td>\n",
       "      <td>1.817311</td>\n",
       "    </tr>\n",
       "    <tr>\n",
       "      <th>2</th>\n",
       "      <td>-0.770680</td>\n",
       "      <td>False</td>\n",
       "      <td>0.168327</td>\n",
       "    </tr>\n",
       "    <tr>\n",
       "      <th>3</th>\n",
       "      <td>-0.480814</td>\n",
       "      <td>False</td>\n",
       "      <td>-0.313176</td>\n",
       "    </tr>\n",
       "    <tr>\n",
       "      <th>4</th>\n",
       "      <td>1.055901</td>\n",
       "      <td>False</td>\n",
       "      <td>0.460178</td>\n",
       "    </tr>\n",
       "    <tr>\n",
       "      <th>...</th>\n",
       "      <td>...</td>\n",
       "      <td>...</td>\n",
       "      <td>...</td>\n",
       "    </tr>\n",
       "    <tr>\n",
       "      <th>995</th>\n",
       "      <td>0.999518</td>\n",
       "      <td>True</td>\n",
       "      <td>4.377403</td>\n",
       "    </tr>\n",
       "    <tr>\n",
       "      <th>996</th>\n",
       "      <td>2.024107</td>\n",
       "      <td>True</td>\n",
       "      <td>7.888144</td>\n",
       "    </tr>\n",
       "    <tr>\n",
       "      <th>997</th>\n",
       "      <td>-0.470624</td>\n",
       "      <td>False</td>\n",
       "      <td>-1.263625</td>\n",
       "    </tr>\n",
       "    <tr>\n",
       "      <th>998</th>\n",
       "      <td>0.309420</td>\n",
       "      <td>False</td>\n",
       "      <td>-1.626010</td>\n",
       "    </tr>\n",
       "    <tr>\n",
       "      <th>999</th>\n",
       "      <td>-0.258710</td>\n",
       "      <td>False</td>\n",
       "      <td>0.000127</td>\n",
       "    </tr>\n",
       "  </tbody>\n",
       "</table>\n",
       "<p>1000 rows × 3 columns</p>\n",
       "</div>"
      ],
      "text/plain": [
       "           W0     v0         y\n",
       "0    1.342402   True  5.479341\n",
       "1    0.244488  False  1.817311\n",
       "2   -0.770680  False  0.168327\n",
       "3   -0.480814  False -0.313176\n",
       "4    1.055901  False  0.460178\n",
       "..        ...    ...       ...\n",
       "995  0.999518   True  4.377403\n",
       "996  2.024107   True  7.888144\n",
       "997 -0.470624  False -1.263625\n",
       "998  0.309420  False -1.626010\n",
       "999 -0.258710  False  0.000127\n",
       "\n",
       "[1000 rows x 3 columns]"
      ]
     },
     "execution_count": 2,
     "metadata": {},
     "output_type": "execute_result"
    }
   ],
   "source": [
    "data = dowhy.datasets.linear_dataset(beta=5,\n",
    "        num_common_causes=1,\n",
    "        num_instruments = 0,\n",
    "        num_samples=1000,\n",
    "        treatment_is_binary=True)\n",
    "df = data['df']\n",
    "df['y'] = df['y'] + np.random.normal(size=len(df)) # Adding noise to data. Without noise, the variance in Y|X, Z is zero, and mcmc fails.\n",
    "#data['dot_graph'] = 'digraph { v ->y;X0-> v;X0-> y;}'\n",
    "\n",
    "treatment= data[\"treatment_name\"][0]\n",
    "outcome = data[\"outcome_name\"][0]\n",
    "common_cause = data[\"common_causes_names\"][0]\n",
    "df"
   ]
  },
  {
   "cell_type": "code",
   "execution_count": 3,
   "metadata": {
    "execution": {
     "iopub.execute_input": "2023-03-06T16:32:44.032824Z",
     "iopub.status.busy": "2023-03-06T16:32:44.032361Z",
     "iopub.status.idle": "2023-03-06T16:32:44.185140Z",
     "shell.execute_reply": "2023-03-06T16:32:44.184510Z"
    }
   },
   "outputs": [
    {
     "data": {
      "text/plain": [
       "<AxesSubplot: xlabel='v0'>"
      ]
     },
     "execution_count": 3,
     "metadata": {},
     "output_type": "execute_result"
    },
    {
     "data": {
      "image/png": "[encoded data removed]",
      "text/plain": [
       "<Figure size 640x480 with 1 Axes>"
      ]
     },
     "metadata": {},
     "output_type": "display_data"
    }
   ],
   "source": [
    "# data['df'] is just a regular pandas.DataFrame\n",
    "df.causal.do(x=treatment,\n",
    "                     variable_types={treatment: 'b', outcome: 'c', common_cause: 'c'},\n",
    "                     outcome=outcome,\n",
    "                     common_causes=[common_cause],\n",
    "                     proceed_when_unidentifiable=True).groupby(treatment).mean().plot(y=outcome, kind='bar')"
   ]
  },
  {
   "cell_type": "code",
   "execution_count": 4,
   "metadata": {
    "execution": {
     "iopub.execute_input": "2023-03-06T16:32:44.188266Z",
     "iopub.status.busy": "2023-03-06T16:32:44.187619Z",
     "iopub.status.idle": "2023-03-06T16:32:44.303630Z",
     "shell.execute_reply": "2023-03-06T16:32:44.303052Z"
    }
   },
   "outputs": [
    {
     "data": {
      "text/plain": [
       "<AxesSubplot: xlabel='v0'>"
      ]
     },
     "execution_count": 4,
     "metadata": {},
     "output_type": "execute_result"
    },
    {
     "data": {
      "image/png": "[encoded data removed]",
      "text/plain": [
       "<Figure size 640x480 with 1 Axes>"
      ]
     },
     "metadata": {},
     "output_type": "display_data"
    }
   ],
   "source": [
    "df.causal.do(x={treatment: 1}, \n",
    "              variable_types={treatment:'b', outcome: 'c', common_cause: 'c'}, \n",
    "              outcome=outcome,\n",
    "              method='weighting', \n",
    "              common_causes=[common_cause],\n",
    "              proceed_when_unidentifiable=True).groupby(treatment).mean().plot(y=outcome, kind='bar')"
   ]
  },
  {
   "cell_type": "code",
   "execution_count": 5,
   "metadata": {
    "execution": {
     "iopub.execute_input": "2023-03-06T16:32:44.306647Z",
     "iopub.status.busy": "2023-03-06T16:32:44.306191Z",
     "iopub.status.idle": "2023-03-06T16:32:44.443523Z",
     "shell.execute_reply": "2023-03-06T16:32:44.442242Z"
    }
   },
   "outputs": [],
   "source": [
    "cdf_1 = df.causal.do(x={treatment: 1}, \n",
    "              variable_types={treatment: 'b', outcome: 'c', common_cause: 'c'}, \n",
    "              outcome=outcome, \n",
    "              dot_graph=data['dot_graph'],\n",
    "              proceed_when_unidentifiable=True)\n",
    "\n",
    "cdf_0 = df.causal.do(x={treatment: 0}, \n",
    "              variable_types={treatment: 'b', outcome: 'c', common_cause: 'c'}, \n",
    "              outcome=outcome, \n",
    "              dot_graph=data['dot_graph'],\n",
    "              proceed_when_unidentifiable=True)\n"
   ]
  },
  {
   "cell_type": "code",
   "execution_count": 6,
   "metadata": {
    "execution": {
     "iopub.execute_input": "2023-03-06T16:32:44.446912Z",
     "iopub.status.busy": "2023-03-06T16:32:44.446536Z",
     "iopub.status.idle": "2023-03-06T16:32:44.459492Z",
     "shell.execute_reply": "2023-03-06T16:32:44.458023Z"
    },
    "scrolled": true
   },
   "outputs": [
    {
     "data": {
      "text/html": [
       "<div>\n",
       "<style scoped>\n",
       "    .dataframe tbody tr th:only-of-type {\n",
       "        vertical-align: middle;\n",
       "    }\n",
       "\n",
       "    .dataframe tbody tr th {\n",
       "        vertical-align: top;\n",
       "    }\n",
       "\n",
       "    .dataframe thead th {\n",
       "        text-align: right;\n",
       "    }\n",
       "</style>\n",
       "<table border=\"1\" class=\"dataframe\">\n",
       "  <thead>\n",
       "    <tr style=\"text-align: right;\">\n",
       "      <th></th>\n",
       "      <th>W0</th>\n",
       "      <th>v0</th>\n",
       "      <th>y</th>\n",
       "      <th>propensity_score</th>\n",
       "      <th>weight</th>\n",
       "    </tr>\n",
       "  </thead>\n",
       "  <tbody>\n",
       "    <tr>\n",
       "      <th>0</th>\n",
       "      <td>-0.374190</td>\n",
       "      <td>False</td>\n",
       "      <td>-0.785740</td>\n",
       "      <td>0.501283</td>\n",
       "      <td>1.994881</td>\n",
       "    </tr>\n",
       "    <tr>\n",
       "      <th>1</th>\n",
       "      <td>0.541826</td>\n",
       "      <td>False</td>\n",
       "      <td>0.652970</td>\n",
       "      <td>0.456634</td>\n",
       "      <td>2.189936</td>\n",
       "    </tr>\n",
       "    <tr>\n",
       "      <th>2</th>\n",
       "      <td>-0.487385</td>\n",
       "      <td>False</td>\n",
       "      <td>-0.242180</td>\n",
       "      <td>0.506813</td>\n",
       "      <td>1.973113</td>\n",
       "    </tr>\n",
       "    <tr>\n",
       "      <th>3</th>\n",
       "      <td>1.917741</td>\n",
       "      <td>False</td>\n",
       "      <td>1.240632</td>\n",
       "      <td>0.391070</td>\n",
       "      <td>2.557084</td>\n",
       "    </tr>\n",
       "    <tr>\n",
       "      <th>4</th>\n",
       "      <td>0.415258</td>\n",
       "      <td>False</td>\n",
       "      <td>-1.624770</td>\n",
       "      <td>0.462778</td>\n",
       "      <td>2.160861</td>\n",
       "    </tr>\n",
       "    <tr>\n",
       "      <th>...</th>\n",
       "      <td>...</td>\n",
       "      <td>...</td>\n",
       "      <td>...</td>\n",
       "      <td>...</td>\n",
       "      <td>...</td>\n",
       "    </tr>\n",
       "    <tr>\n",
       "      <th>995</th>\n",
       "      <td>0.002750</td>\n",
       "      <td>False</td>\n",
       "      <td>0.860693</td>\n",
       "      <td>0.482872</td>\n",
       "      <td>2.070943</td>\n",
       "    </tr>\n",
       "    <tr>\n",
       "      <th>996</th>\n",
       "      <td>2.200041</td>\n",
       "      <td>False</td>\n",
       "      <td>2.039446</td>\n",
       "      <td>0.378013</td>\n",
       "      <td>2.645409</td>\n",
       "    </tr>\n",
       "    <tr>\n",
       "      <th>997</th>\n",
       "      <td>0.613383</td>\n",
       "      <td>False</td>\n",
       "      <td>-1.528699</td>\n",
       "      <td>0.453167</td>\n",
       "      <td>2.206694</td>\n",
       "    </tr>\n",
       "    <tr>\n",
       "      <th>998</th>\n",
       "      <td>0.226815</td>\n",
       "      <td>False</td>\n",
       "      <td>-0.330047</td>\n",
       "      <td>0.471947</td>\n",
       "      <td>2.118884</td>\n",
       "    </tr>\n",
       "    <tr>\n",
       "      <th>999</th>\n",
       "      <td>-0.933268</td>\n",
       "      <td>False</td>\n",
       "      <td>-1.757303</td>\n",
       "      <td>0.528569</td>\n",
       "      <td>1.891900</td>\n",
       "    </tr>\n",
       "  </tbody>\n",
       "</table>\n",
       "<p>1000 rows × 5 columns</p>\n",
       "</div>"
      ],
      "text/plain": [
       "           W0     v0         y  propensity_score    weight\n",
       "0   -0.374190  False -0.785740          0.501283  1.994881\n",
       "1    0.541826  False  0.652970          0.456634  2.189936\n",
       "2   -0.487385  False -0.242180          0.506813  1.973113\n",
       "3    1.917741  False  1.240632          0.391070  2.557084\n",
       "4    0.415258  False -1.624770          0.462778  2.160861\n",
       "..        ...    ...       ...               ...       ...\n",
       "995  0.002750  False  0.860693          0.482872  2.070943\n",
       "996  2.200041  False  2.039446          0.378013  2.645409\n",
       "997  0.613383  False -1.528699          0.453167  2.206694\n",
       "998  0.226815  False -0.330047          0.471947  2.118884\n",
       "999 -0.933268  False -1.757303          0.528569  1.891900\n",
       "\n",
       "[1000 rows x 5 columns]"
      ]
     },
     "execution_count": 6,
     "metadata": {},
     "output_type": "execute_result"
    }
   ],
   "source": [
    "cdf_0"
   ]
  },
  {
   "cell_type": "code",
   "execution_count": 7,
   "metadata": {
    "execution": {
     "iopub.execute_input": "2023-03-06T16:32:44.462178Z",
     "iopub.status.busy": "2023-03-06T16:32:44.461834Z",
     "iopub.status.idle": "2023-03-06T16:32:44.471879Z",
     "shell.execute_reply": "2023-03-06T16:32:44.471246Z"
    }
   },
   "outputs": [
    {
     "data": {
      "text/html": [
       "<div>\n",
       "<style scoped>\n",
       "    .dataframe tbody tr th:only-of-type {\n",
       "        vertical-align: middle;\n",
       "    }\n",
       "\n",
       "    .dataframe tbody tr th {\n",
       "        vertical-align: top;\n",
       "    }\n",
       "\n",
       "    .dataframe thead th {\n",
       "        text-align: right;\n",
       "    }\n",
       "</style>\n",
       "<table border=\"1\" class=\"dataframe\">\n",
       "  <thead>\n",
       "    <tr style=\"text-align: right;\">\n",
       "      <th></th>\n",
       "      <th>W0</th>\n",
       "      <th>v0</th>\n",
       "      <th>y</th>\n",
       "      <th>propensity_score</th>\n",
       "      <th>weight</th>\n",
       "    </tr>\n",
       "  </thead>\n",
       "  <tbody>\n",
       "    <tr>\n",
       "      <th>0</th>\n",
       "      <td>0.802699</td>\n",
       "      <td>True</td>\n",
       "      <td>5.918935</td>\n",
       "      <td>0.555986</td>\n",
       "      <td>1.798608</td>\n",
       "    </tr>\n",
       "    <tr>\n",
       "      <th>1</th>\n",
       "      <td>2.486522</td>\n",
       "      <td>True</td>\n",
       "      <td>7.592470</td>\n",
       "      <td>0.635059</td>\n",
       "      <td>1.574658</td>\n",
       "    </tr>\n",
       "    <tr>\n",
       "      <th>2</th>\n",
       "      <td>0.902110</td>\n",
       "      <td>True</td>\n",
       "      <td>6.817500</td>\n",
       "      <td>0.560777</td>\n",
       "      <td>1.783241</td>\n",
       "    </tr>\n",
       "    <tr>\n",
       "      <th>3</th>\n",
       "      <td>0.948895</td>\n",
       "      <td>True</td>\n",
       "      <td>5.425099</td>\n",
       "      <td>0.563028</td>\n",
       "      <td>1.776112</td>\n",
       "    </tr>\n",
       "    <tr>\n",
       "      <th>4</th>\n",
       "      <td>-0.183308</td>\n",
       "      <td>True</td>\n",
       "      <td>5.391861</td>\n",
       "      <td>0.508043</td>\n",
       "      <td>1.968337</td>\n",
       "    </tr>\n",
       "    <tr>\n",
       "      <th>...</th>\n",
       "      <td>...</td>\n",
       "      <td>...</td>\n",
       "      <td>...</td>\n",
       "      <td>...</td>\n",
       "      <td>...</td>\n",
       "    </tr>\n",
       "    <tr>\n",
       "      <th>995</th>\n",
       "      <td>0.574892</td>\n",
       "      <td>True</td>\n",
       "      <td>4.852948</td>\n",
       "      <td>0.544969</td>\n",
       "      <td>1.834968</td>\n",
       "    </tr>\n",
       "    <tr>\n",
       "      <th>996</th>\n",
       "      <td>1.425338</td>\n",
       "      <td>True</td>\n",
       "      <td>5.074947</td>\n",
       "      <td>0.585787</td>\n",
       "      <td>1.707104</td>\n",
       "    </tr>\n",
       "    <tr>\n",
       "      <th>997</th>\n",
       "      <td>2.003776</td>\n",
       "      <td>True</td>\n",
       "      <td>4.436617</td>\n",
       "      <td>0.612926</td>\n",
       "      <td>1.631517</td>\n",
       "    </tr>\n",
       "    <tr>\n",
       "      <th>998</th>\n",
       "      <td>-0.414010</td>\n",
       "      <td>True</td>\n",
       "      <td>5.670990</td>\n",
       "      <td>0.496771</td>\n",
       "      <td>2.012998</td>\n",
       "    </tr>\n",
       "    <tr>\n",
       "      <th>999</th>\n",
       "      <td>0.794616</td>\n",
       "      <td>True</td>\n",
       "      <td>5.189296</td>\n",
       "      <td>0.555596</td>\n",
       "      <td>1.799870</td>\n",
       "    </tr>\n",
       "  </tbody>\n",
       "</table>\n",
       "<p>1000 rows × 5 columns</p>\n",
       "</div>"
      ],
      "text/plain": [
       "           W0    v0         y  propensity_score    weight\n",
       "0    0.802699  True  5.918935          0.555986  1.798608\n",
       "1    2.486522  True  7.592470          0.635059  1.574658\n",
       "2    0.902110  True  6.817500          0.560777  1.783241\n",
       "3    0.948895  True  5.425099          0.563028  1.776112\n",
       "4   -0.183308  True  5.391861          0.508043  1.968337\n",
       "..        ...   ...       ...               ...       ...\n",
       "995  0.574892  True  4.852948          0.544969  1.834968\n",
       "996  1.425338  True  5.074947          0.585787  1.707104\n",
       "997  2.003776  True  4.436617          0.612926  1.631517\n",
       "998 -0.414010  True  5.670990          0.496771  2.012998\n",
       "999  0.794616  True  5.189296          0.555596  1.799870\n",
       "\n",
       "[1000 rows x 5 columns]"
      ]
     },
     "execution_count": 7,
     "metadata": {},
     "output_type": "execute_result"
    }
   ],
   "source": [
    "cdf_1"
   ]
  },
  {
   "cell_type": "markdown",
   "metadata": {},
   "source": [
    "## Comparing the estimate to Linear Regression\n",
    "First, estimating the effect using the causal data frame, and the 95% confidence interval."
   ]
  },
  {
   "cell_type": "code",
   "execution_count": 8,
   "metadata": {
    "execution": {
     "iopub.execute_input": "2023-03-06T16:32:44.475291Z",
     "iopub.status.busy": "2023-03-06T16:32:44.474954Z",
     "iopub.status.idle": "2023-03-06T16:32:44.531237Z",
     "shell.execute_reply": "2023-03-06T16:32:44.530508Z"
    }
   },
   "outputs": [
    {
     "data": {
      "image/png": "[encoded data removed]",
      "text/latex": [
       "$\\displaystyle 5.03490085119843$"
      ],
      "text/plain": [
       "5.034900851198425"
      ]
     },
     "execution_count": 8,
     "metadata": {},
     "output_type": "execute_result"
    }
   ],
   "source": [
    "(cdf_1['y'] - cdf_0['y']).mean()"
   ]
  },
  {
   "cell_type": "code",
   "execution_count": 9,
   "metadata": {
    "execution": {
     "iopub.execute_input": "2023-03-06T16:32:44.534915Z",
     "iopub.status.busy": "2023-03-06T16:32:44.534455Z",
     "iopub.status.idle": "2023-03-06T16:32:44.554745Z",
     "shell.execute_reply": "2023-03-06T16:32:44.554061Z"
    }
   },
   "outputs": [
    {
     "data": {
      "image/png": "[encoded data removed]",
      "text/latex": [
       "$\\displaystyle 0.111393322663419$"
      ],
      "text/plain": [
       "0.11139332266341924"
      ]
     },
     "execution_count": 9,
     "metadata": {},
     "output_type": "execute_result"
    }
   ],
   "source": [
    "1.96*(cdf_1['y'] - cdf_0['y']).std() / np.sqrt(len(df))"
   ]
  },
  {
   "cell_type": "markdown",
   "metadata": {},
   "source": [
    "Comparing to the estimate from OLS."
   ]
  },
  {
   "cell_type": "code",
   "execution_count": 10,
   "metadata": {
    "execution": {
     "iopub.execute_input": "2023-03-06T16:32:44.557892Z",
     "iopub.status.busy": "2023-03-06T16:32:44.557464Z",
     "iopub.status.idle": "2023-03-06T16:32:44.572015Z",
     "shell.execute_reply": "2023-03-06T16:32:44.571366Z"
    }
   },
   "outputs": [
    {
     "data": {
      "text/html": [
       "<table class=\"simpletable\">\n",
       "<caption>OLS Regression Results</caption>\n",
       "<tr>\n",
       "  <th>Dep. Variable:</th>            <td>y</td>        <th>  R-squared (uncentered):</th>      <td>   0.937</td>\n",
       "</tr>\n",
       "<tr>\n",
       "  <th>Model:</th>                   <td>OLS</td>       <th>  Adj. R-squared (uncentered):</th> <td>   0.937</td>\n",
       "</tr>\n",
       "<tr>\n",
       "  <th>Method:</th>             <td>Least Squares</td>  <th>  F-statistic:       </th>          <td>   7456.</td>\n",
       "</tr>\n",
       "<tr>\n",
       "  <th>Date:</th>             <td>Mon, 06 Mar 2023</td> <th>  Prob (F-statistic):</th>           <td>  0.00</td> \n",
       "</tr>\n",
       "<tr>\n",
       "  <th>Time:</th>                 <td>16:32:44</td>     <th>  Log-Likelihood:    </th>          <td> -1407.1</td>\n",
       "</tr>\n",
       "<tr>\n",
       "  <th>No. Observations:</th>      <td>  1000</td>      <th>  AIC:               </th>          <td>   2818.</td>\n",
       "</tr>\n",
       "<tr>\n",
       "  <th>Df Residuals:</th>          <td>   998</td>      <th>  BIC:               </th>          <td>   2828.</td>\n",
       "</tr>\n",
       "<tr>\n",
       "  <th>Df Model:</th>              <td>     2</td>      <th>                     </th>              <td> </td>   \n",
       "</tr>\n",
       "<tr>\n",
       "  <th>Covariance Type:</th>      <td>nonrobust</td>    <th>                     </th>              <td> </td>   \n",
       "</tr>\n",
       "</table>\n",
       "<table class=\"simpletable\">\n",
       "<tr>\n",
       "   <td></td>     <th>coef</th>     <th>std err</th>      <th>t</th>      <th>P>|t|</th>  <th>[0.025</th>    <th>0.975]</th>  \n",
       "</tr>\n",
       "<tr>\n",
       "  <th>x1</th> <td>    0.6938</td> <td>    0.031</td> <td>   22.464</td> <td> 0.000</td> <td>    0.633</td> <td>    0.754</td>\n",
       "</tr>\n",
       "<tr>\n",
       "  <th>x2</th> <td>    5.0179</td> <td>    0.044</td> <td>  114.383</td> <td> 0.000</td> <td>    4.932</td> <td>    5.104</td>\n",
       "</tr>\n",
       "</table>\n",
       "<table class=\"simpletable\">\n",
       "<tr>\n",
       "  <th>Omnibus:</th>       <td> 1.945</td> <th>  Durbin-Watson:     </th> <td>   2.120</td>\n",
       "</tr>\n",
       "<tr>\n",
       "  <th>Prob(Omnibus):</th> <td> 0.378</td> <th>  Jarque-Bera (JB):  </th> <td>   1.948</td>\n",
       "</tr>\n",
       "<tr>\n",
       "  <th>Skew:</th>          <td> 0.017</td> <th>  Prob(JB):          </th> <td>   0.377</td>\n",
       "</tr>\n",
       "<tr>\n",
       "  <th>Kurtosis:</th>      <td> 3.214</td> <th>  Cond. No.          </th> <td>    1.48</td>\n",
       "</tr>\n",
       "</table><br/><br/>Notes:<br/>[1] R² is computed without centering (uncentered) since the model does not contain a constant.<br/>[2] Standard Errors assume that the covariance matrix of the errors is correctly specified."
      ],
      "text/plain": [
       "<class 'statsmodels.iolib.summary.Summary'>\n",
       "\"\"\"\n",
       "                                 OLS Regression Results                                \n",
       "=======================================================================================\n",
       "Dep. Variable:                      y   R-squared (uncentered):                   0.937\n",
       "Model:                            OLS   Adj. R-squared (uncentered):              0.937\n",
       "Method:                 Least Squares   F-statistic:                              7456.\n",
       "Date:                Mon, 06 Mar 2023   Prob (F-statistic):                        0.00\n",
       "Time:                        16:32:44   Log-Likelihood:                         -1407.1\n",
       "No. Observations:                1000   AIC:                                      2818.\n",
       "Df Residuals:                     998   BIC:                                      2828.\n",
       "Df Model:                           2                                                  \n",
       "Covariance Type:            nonrobust                                                  \n",
       "==============================================================================\n",
       "                 coef    std err          t      P>|t|      [0.025      0.975]\n",
       "------------------------------------------------------------------------------\n",
       "x1             0.6938      0.031     22.464      0.000       0.633       0.754\n",
       "x2             5.0179      0.044    114.383      0.000       4.932       5.104\n",
       "==============================================================================\n",
       "Omnibus:                        1.945   Durbin-Watson:                   2.120\n",
       "Prob(Omnibus):                  0.378   Jarque-Bera (JB):                1.948\n",
       "Skew:                           0.017   Prob(JB):                        0.377\n",
       "Kurtosis:                       3.214   Cond. No.                         1.48\n",
       "==============================================================================\n",
       "\n",
       "Notes:\n",
       "[1] R² is computed without centering (uncentered) since the model does not contain a constant.\n",
       "[2] Standard Errors assume that the covariance matrix of the errors is correctly specified.\n",
       "\"\"\""
      ]
     },
     "execution_count": 10,
     "metadata": {},
     "output_type": "execute_result"
    }
   ],
   "source": [
    "model = OLS(np.asarray(df[outcome]), np.asarray(df[[common_cause, treatment]], dtype=np.float64))\n",
    "result = model.fit()\n",
    "result.summary()"
   ]
  }
 ],
 "metadata": {
  "kernelspec": {
   "display_name": "Python 3",
   "language": "python",
   "name": "python3"
  },
  "language_info": {
   "codemirror_mode": {
    "name": "ipython",
    "version": 3
   },
   "file_extension": ".py",
   "mimetype": "text/x-python",
   "name": "python",
   "nbconvert_exporter": "python",
   "pygments_lexer": "ipython3",
   "version": "3.8.10"
  },
  "toc": {
   "base_numbering": 1,
   "nav_menu": {},
   "number_sections": false,
   "sideBar": true,
   "skip_h1_title": true,
   "title_cell": "Table of Contents",
   "title_sidebar": "Contents",
   "toc_cell": false,
   "toc_position": {},
   "toc_section_display": true,
   "toc_window_display": false
  }
 },
 "nbformat": 4,
 "nbformat_minor": 4
}
