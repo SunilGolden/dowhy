{
 "cells": [
  {
   "cell_type": "markdown",
   "metadata": {},
   "source": [
    "# Demo for the DoWhy causal API\n",
    "We show a simple example of adding a causal extension to any dataframe. "
   ]
  },
  {
   "cell_type": "code",
   "execution_count": 1,
   "metadata": {
    "execution": {
     "iopub.execute_input": "2023-01-18T14:08:53.215756Z",
     "iopub.status.busy": "2023-01-18T14:08:53.215297Z",
     "iopub.status.idle": "2023-01-18T14:08:55.188234Z",
     "shell.execute_reply": "2023-01-18T14:08:55.187525Z"
    }
   },
   "outputs": [],
   "source": [
    "import dowhy.datasets\n",
    "import dowhy.api\n",
    "\n",
    "import numpy as np\n",
    "import pandas as pd\n",
    "\n",
    "from statsmodels.api import OLS"
   ]
  },
  {
   "cell_type": "code",
   "execution_count": 2,
   "metadata": {
    "execution": {
     "iopub.execute_input": "2023-01-18T14:08:55.192144Z",
     "iopub.status.busy": "2023-01-18T14:08:55.191445Z",
     "iopub.status.idle": "2023-01-18T14:08:55.239659Z",
     "shell.execute_reply": "2023-01-18T14:08:55.239043Z"
    }
   },
   "outputs": [
    {
     "data": {
      "text/html": [
       "<div>\n",
       "<style scoped>\n",
       "    .dataframe tbody tr th:only-of-type {\n",
       "        vertical-align: middle;\n",
       "    }\n",
       "\n",
       "    .dataframe tbody tr th {\n",
       "        vertical-align: top;\n",
       "    }\n",
       "\n",
       "    .dataframe thead th {\n",
       "        text-align: right;\n",
       "    }\n",
       "</style>\n",
       "<table border=\"1\" class=\"dataframe\">\n",
       "  <thead>\n",
       "    <tr style=\"text-align: right;\">\n",
       "      <th></th>\n",
       "      <th>W0</th>\n",
       "      <th>v0</th>\n",
       "      <th>y</th>\n",
       "    </tr>\n",
       "  </thead>\n",
       "  <tbody>\n",
       "    <tr>\n",
       "      <th>0</th>\n",
       "      <td>2.500120</td>\n",
       "      <td>True</td>\n",
       "      <td>10.041553</td>\n",
       "    </tr>\n",
       "    <tr>\n",
       "      <th>1</th>\n",
       "      <td>-0.118717</td>\n",
       "      <td>False</td>\n",
       "      <td>-0.653754</td>\n",
       "    </tr>\n",
       "    <tr>\n",
       "      <th>2</th>\n",
       "      <td>2.343310</td>\n",
       "      <td>True</td>\n",
       "      <td>11.389837</td>\n",
       "    </tr>\n",
       "    <tr>\n",
       "      <th>3</th>\n",
       "      <td>1.135515</td>\n",
       "      <td>True</td>\n",
       "      <td>7.366952</td>\n",
       "    </tr>\n",
       "    <tr>\n",
       "      <th>4</th>\n",
       "      <td>2.129092</td>\n",
       "      <td>True</td>\n",
       "      <td>10.446560</td>\n",
       "    </tr>\n",
       "    <tr>\n",
       "      <th>...</th>\n",
       "      <td>...</td>\n",
       "      <td>...</td>\n",
       "      <td>...</td>\n",
       "    </tr>\n",
       "    <tr>\n",
       "      <th>995</th>\n",
       "      <td>0.350446</td>\n",
       "      <td>True</td>\n",
       "      <td>5.850539</td>\n",
       "    </tr>\n",
       "    <tr>\n",
       "      <th>996</th>\n",
       "      <td>0.341666</td>\n",
       "      <td>True</td>\n",
       "      <td>5.968433</td>\n",
       "    </tr>\n",
       "    <tr>\n",
       "      <th>997</th>\n",
       "      <td>1.815889</td>\n",
       "      <td>True</td>\n",
       "      <td>9.846250</td>\n",
       "    </tr>\n",
       "    <tr>\n",
       "      <th>998</th>\n",
       "      <td>-0.068380</td>\n",
       "      <td>False</td>\n",
       "      <td>-0.571391</td>\n",
       "    </tr>\n",
       "    <tr>\n",
       "      <th>999</th>\n",
       "      <td>1.419313</td>\n",
       "      <td>True</td>\n",
       "      <td>6.457594</td>\n",
       "    </tr>\n",
       "  </tbody>\n",
       "</table>\n",
       "<p>1000 rows × 3 columns</p>\n",
       "</div>"
      ],
      "text/plain": [
       "           W0     v0          y\n",
       "0    2.500120   True  10.041553\n",
       "1   -0.118717  False  -0.653754\n",
       "2    2.343310   True  11.389837\n",
       "3    1.135515   True   7.366952\n",
       "4    2.129092   True  10.446560\n",
       "..        ...    ...        ...\n",
       "995  0.350446   True   5.850539\n",
       "996  0.341666   True   5.968433\n",
       "997  1.815889   True   9.846250\n",
       "998 -0.068380  False  -0.571391\n",
       "999  1.419313   True   6.457594\n",
       "\n",
       "[1000 rows x 3 columns]"
      ]
     },
     "execution_count": 2,
     "metadata": {},
     "output_type": "execute_result"
    }
   ],
   "source": [
    "data = dowhy.datasets.linear_dataset(beta=5,\n",
    "        num_common_causes=1,\n",
    "        num_instruments = 0,\n",
    "        num_samples=1000,\n",
    "        treatment_is_binary=True)\n",
    "df = data['df']\n",
    "df['y'] = df['y'] + np.random.normal(size=len(df)) # Adding noise to data. Without noise, the variance in Y|X, Z is zero, and mcmc fails.\n",
    "#data['dot_graph'] = 'digraph { v ->y;X0-> v;X0-> y;}'\n",
    "\n",
    "treatment= data[\"treatment_name\"][0]\n",
    "outcome = data[\"outcome_name\"][0]\n",
    "common_cause = data[\"common_causes_names\"][0]\n",
    "df"
   ]
  },
  {
   "cell_type": "code",
   "execution_count": 3,
   "metadata": {
    "execution": {
     "iopub.execute_input": "2023-01-18T14:08:55.242713Z",
     "iopub.status.busy": "2023-01-18T14:08:55.242183Z",
     "iopub.status.idle": "2023-01-18T14:08:55.403252Z",
     "shell.execute_reply": "2023-01-18T14:08:55.402653Z"
    }
   },
   "outputs": [
    {
     "data": {
      "text/plain": [
       "<AxesSubplot: xlabel='v0'>"
      ]
     },
     "execution_count": 3,
     "metadata": {},
     "output_type": "execute_result"
    },
    {
     "data": {
      "image/png": "[encoded data removed]",
      "text/plain": [
       "<Figure size 640x480 with 1 Axes>"
      ]
     },
     "metadata": {},
     "output_type": "display_data"
    }
   ],
   "source": [
    "# data['df'] is just a regular pandas.DataFrame\n",
    "df.causal.do(x=treatment,\n",
    "                     variable_types={treatment: 'b', outcome: 'c', common_cause: 'c'},\n",
    "                     outcome=outcome,\n",
    "                     common_causes=[common_cause],\n",
    "                     proceed_when_unidentifiable=True).groupby(treatment).mean().plot(y=outcome, kind='bar')"
   ]
  },
  {
   "cell_type": "code",
   "execution_count": 4,
   "metadata": {
    "execution": {
     "iopub.execute_input": "2023-01-18T14:08:55.406207Z",
     "iopub.status.busy": "2023-01-18T14:08:55.405833Z",
     "iopub.status.idle": "2023-01-18T14:08:55.530359Z",
     "shell.execute_reply": "2023-01-18T14:08:55.529739Z"
    }
   },
   "outputs": [
    {
     "data": {
      "text/plain": [
       "<AxesSubplot: xlabel='v0'>"
      ]
     },
     "execution_count": 4,
     "metadata": {},
     "output_type": "execute_result"
    },
    {
     "data": {
      "image/png": "[encoded data removed]",
      "text/plain": [
       "<Figure size 640x480 with 1 Axes>"
      ]
     },
     "metadata": {},
     "output_type": "display_data"
    }
   ],
   "source": [
    "df.causal.do(x={treatment: 1}, \n",
    "              variable_types={treatment:'b', outcome: 'c', common_cause: 'c'}, \n",
    "              outcome=outcome,\n",
    "              method='weighting', \n",
    "              common_causes=[common_cause],\n",
    "              proceed_when_unidentifiable=True).groupby(treatment).mean().plot(y=outcome, kind='bar')"
   ]
  },
  {
   "cell_type": "code",
   "execution_count": 5,
   "metadata": {
    "execution": {
     "iopub.execute_input": "2023-01-18T14:08:55.533510Z",
     "iopub.status.busy": "2023-01-18T14:08:55.533162Z",
     "iopub.status.idle": "2023-01-18T14:08:55.565121Z",
     "shell.execute_reply": "2023-01-18T14:08:55.564529Z"
    }
   },
   "outputs": [],
   "source": [
    "cdf_1 = df.causal.do(x={treatment: 1}, \n",
    "              variable_types={treatment: 'b', outcome: 'c', common_cause: 'c'}, \n",
    "              outcome=outcome, \n",
    "              dot_graph=data['dot_graph'],\n",
    "              proceed_when_unidentifiable=True)\n",
    "\n",
    "cdf_0 = df.causal.do(x={treatment: 0}, \n",
    "              variable_types={treatment: 'b', outcome: 'c', common_cause: 'c'}, \n",
    "              outcome=outcome, \n",
    "              dot_graph=data['dot_graph'],\n",
    "              proceed_when_unidentifiable=True)\n"
   ]
  },
  {
   "cell_type": "code",
   "execution_count": 6,
   "metadata": {
    "execution": {
     "iopub.execute_input": "2023-01-18T14:08:55.568264Z",
     "iopub.status.busy": "2023-01-18T14:08:55.567905Z",
     "iopub.status.idle": "2023-01-18T14:08:55.579464Z",
     "shell.execute_reply": "2023-01-18T14:08:55.578603Z"
    },
    "scrolled": true
   },
   "outputs": [
    {
     "data": {
      "text/html": [
       "<div>\n",
       "<style scoped>\n",
       "    .dataframe tbody tr th:only-of-type {\n",
       "        vertical-align: middle;\n",
       "    }\n",
       "\n",
       "    .dataframe tbody tr th {\n",
       "        vertical-align: top;\n",
       "    }\n",
       "\n",
       "    .dataframe thead th {\n",
       "        text-align: right;\n",
       "    }\n",
       "</style>\n",
       "<table border=\"1\" class=\"dataframe\">\n",
       "  <thead>\n",
       "    <tr style=\"text-align: right;\">\n",
       "      <th></th>\n",
       "      <th>W0</th>\n",
       "      <th>v0</th>\n",
       "      <th>y</th>\n",
       "      <th>propensity_score</th>\n",
       "      <th>weight</th>\n",
       "    </tr>\n",
       "  </thead>\n",
       "  <tbody>\n",
       "    <tr>\n",
       "      <th>0</th>\n",
       "      <td>0.993156</td>\n",
       "      <td>False</td>\n",
       "      <td>3.330883</td>\n",
       "      <td>0.085857</td>\n",
       "      <td>11.647240</td>\n",
       "    </tr>\n",
       "    <tr>\n",
       "      <th>1</th>\n",
       "      <td>0.499243</td>\n",
       "      <td>False</td>\n",
       "      <td>2.058364</td>\n",
       "      <td>0.216151</td>\n",
       "      <td>4.626404</td>\n",
       "    </tr>\n",
       "    <tr>\n",
       "      <th>2</th>\n",
       "      <td>-0.019544</td>\n",
       "      <td>False</td>\n",
       "      <td>-0.232769</td>\n",
       "      <td>0.460844</td>\n",
       "      <td>2.169930</td>\n",
       "    </tr>\n",
       "    <tr>\n",
       "      <th>3</th>\n",
       "      <td>2.185475</td>\n",
       "      <td>False</td>\n",
       "      <td>5.012801</td>\n",
       "      <td>0.006927</td>\n",
       "      <td>144.358079</td>\n",
       "    </tr>\n",
       "    <tr>\n",
       "      <th>4</th>\n",
       "      <td>-0.267621</td>\n",
       "      <td>False</td>\n",
       "      <td>-0.243164</td>\n",
       "      <td>0.594845</td>\n",
       "      <td>1.681111</td>\n",
       "    </tr>\n",
       "    <tr>\n",
       "      <th>...</th>\n",
       "      <td>...</td>\n",
       "      <td>...</td>\n",
       "      <td>...</td>\n",
       "      <td>...</td>\n",
       "      <td>...</td>\n",
       "    </tr>\n",
       "    <tr>\n",
       "      <th>995</th>\n",
       "      <td>2.185475</td>\n",
       "      <td>False</td>\n",
       "      <td>5.012801</td>\n",
       "      <td>0.006927</td>\n",
       "      <td>144.358079</td>\n",
       "    </tr>\n",
       "    <tr>\n",
       "      <th>996</th>\n",
       "      <td>1.134589</td>\n",
       "      <td>False</td>\n",
       "      <td>2.298029</td>\n",
       "      <td>0.064542</td>\n",
       "      <td>15.493755</td>\n",
       "    </tr>\n",
       "    <tr>\n",
       "      <th>997</th>\n",
       "      <td>1.118091</td>\n",
       "      <td>False</td>\n",
       "      <td>2.022158</td>\n",
       "      <td>0.066749</td>\n",
       "      <td>14.981580</td>\n",
       "    </tr>\n",
       "    <tr>\n",
       "      <th>998</th>\n",
       "      <td>1.396144</td>\n",
       "      <td>False</td>\n",
       "      <td>4.069666</td>\n",
       "      <td>0.037540</td>\n",
       "      <td>26.638149</td>\n",
       "    </tr>\n",
       "    <tr>\n",
       "      <th>999</th>\n",
       "      <td>1.953586</td>\n",
       "      <td>False</td>\n",
       "      <td>5.502985</td>\n",
       "      <td>0.011434</td>\n",
       "      <td>87.459387</td>\n",
       "    </tr>\n",
       "  </tbody>\n",
       "</table>\n",
       "<p>1000 rows × 5 columns</p>\n",
       "</div>"
      ],
      "text/plain": [
       "           W0     v0         y  propensity_score      weight\n",
       "0    0.993156  False  3.330883          0.085857   11.647240\n",
       "1    0.499243  False  2.058364          0.216151    4.626404\n",
       "2   -0.019544  False -0.232769          0.460844    2.169930\n",
       "3    2.185475  False  5.012801          0.006927  144.358079\n",
       "4   -0.267621  False -0.243164          0.594845    1.681111\n",
       "..        ...    ...       ...               ...         ...\n",
       "995  2.185475  False  5.012801          0.006927  144.358079\n",
       "996  1.134589  False  2.298029          0.064542   15.493755\n",
       "997  1.118091  False  2.022158          0.066749   14.981580\n",
       "998  1.396144  False  4.069666          0.037540   26.638149\n",
       "999  1.953586  False  5.502985          0.011434   87.459387\n",
       "\n",
       "[1000 rows x 5 columns]"
      ]
     },
     "execution_count": 6,
     "metadata": {},
     "output_type": "execute_result"
    }
   ],
   "source": [
    "cdf_0"
   ]
  },
  {
   "cell_type": "code",
   "execution_count": 7,
   "metadata": {
    "execution": {
     "iopub.execute_input": "2023-01-18T14:08:55.582165Z",
     "iopub.status.busy": "2023-01-18T14:08:55.581770Z",
     "iopub.status.idle": "2023-01-18T14:08:55.592547Z",
     "shell.execute_reply": "2023-01-18T14:08:55.591767Z"
    }
   },
   "outputs": [
    {
     "data": {
      "text/html": [
       "<div>\n",
       "<style scoped>\n",
       "    .dataframe tbody tr th:only-of-type {\n",
       "        vertical-align: middle;\n",
       "    }\n",
       "\n",
       "    .dataframe tbody tr th {\n",
       "        vertical-align: top;\n",
       "    }\n",
       "\n",
       "    .dataframe thead th {\n",
       "        text-align: right;\n",
       "    }\n",
       "</style>\n",
       "<table border=\"1\" class=\"dataframe\">\n",
       "  <thead>\n",
       "    <tr style=\"text-align: right;\">\n",
       "      <th></th>\n",
       "      <th>W0</th>\n",
       "      <th>v0</th>\n",
       "      <th>y</th>\n",
       "      <th>propensity_score</th>\n",
       "      <th>weight</th>\n",
       "    </tr>\n",
       "  </thead>\n",
       "  <tbody>\n",
       "    <tr>\n",
       "      <th>0</th>\n",
       "      <td>2.375325</td>\n",
       "      <td>True</td>\n",
       "      <td>10.427390</td>\n",
       "      <td>0.995410</td>\n",
       "      <td>1.004611</td>\n",
       "    </tr>\n",
       "    <tr>\n",
       "      <th>1</th>\n",
       "      <td>0.883296</td>\n",
       "      <td>True</td>\n",
       "      <td>6.318338</td>\n",
       "      <td>0.893379</td>\n",
       "      <td>1.119345</td>\n",
       "    </tr>\n",
       "    <tr>\n",
       "      <th>2</th>\n",
       "      <td>2.616817</td>\n",
       "      <td>True</td>\n",
       "      <td>9.532702</td>\n",
       "      <td>0.997284</td>\n",
       "      <td>1.002723</td>\n",
       "    </tr>\n",
       "    <tr>\n",
       "      <th>3</th>\n",
       "      <td>0.885098</td>\n",
       "      <td>True</td>\n",
       "      <td>6.815578</td>\n",
       "      <td>0.893753</td>\n",
       "      <td>1.118877</td>\n",
       "    </tr>\n",
       "    <tr>\n",
       "      <th>4</th>\n",
       "      <td>1.151974</td>\n",
       "      <td>True</td>\n",
       "      <td>7.205769</td>\n",
       "      <td>0.937709</td>\n",
       "      <td>1.066428</td>\n",
       "    </tr>\n",
       "    <tr>\n",
       "      <th>...</th>\n",
       "      <td>...</td>\n",
       "      <td>...</td>\n",
       "      <td>...</td>\n",
       "      <td>...</td>\n",
       "      <td>...</td>\n",
       "    </tr>\n",
       "    <tr>\n",
       "      <th>995</th>\n",
       "      <td>3.272957</td>\n",
       "      <td>True</td>\n",
       "      <td>11.762225</td>\n",
       "      <td>0.999349</td>\n",
       "      <td>1.000651</td>\n",
       "    </tr>\n",
       "    <tr>\n",
       "      <th>996</th>\n",
       "      <td>0.681270</td>\n",
       "      <td>True</td>\n",
       "      <td>8.159526</td>\n",
       "      <td>0.843590</td>\n",
       "      <td>1.185411</td>\n",
       "    </tr>\n",
       "    <tr>\n",
       "      <th>997</th>\n",
       "      <td>-0.162901</td>\n",
       "      <td>True</td>\n",
       "      <td>6.143601</td>\n",
       "      <td>0.461161</td>\n",
       "      <td>2.168440</td>\n",
       "    </tr>\n",
       "    <tr>\n",
       "      <th>998</th>\n",
       "      <td>-0.200227</td>\n",
       "      <td>True</td>\n",
       "      <td>4.235495</td>\n",
       "      <td>0.441010</td>\n",
       "      <td>2.267524</td>\n",
       "    </tr>\n",
       "    <tr>\n",
       "      <th>999</th>\n",
       "      <td>-0.271089</td>\n",
       "      <td>True</td>\n",
       "      <td>4.220732</td>\n",
       "      <td>0.403334</td>\n",
       "      <td>2.479334</td>\n",
       "    </tr>\n",
       "  </tbody>\n",
       "</table>\n",
       "<p>1000 rows × 5 columns</p>\n",
       "</div>"
      ],
      "text/plain": [
       "           W0    v0          y  propensity_score    weight\n",
       "0    2.375325  True  10.427390          0.995410  1.004611\n",
       "1    0.883296  True   6.318338          0.893379  1.119345\n",
       "2    2.616817  True   9.532702          0.997284  1.002723\n",
       "3    0.885098  True   6.815578          0.893753  1.118877\n",
       "4    1.151974  True   7.205769          0.937709  1.066428\n",
       "..        ...   ...        ...               ...       ...\n",
       "995  3.272957  True  11.762225          0.999349  1.000651\n",
       "996  0.681270  True   8.159526          0.843590  1.185411\n",
       "997 -0.162901  True   6.143601          0.461161  2.168440\n",
       "998 -0.200227  True   4.235495          0.441010  2.267524\n",
       "999 -0.271089  True   4.220732          0.403334  2.479334\n",
       "\n",
       "[1000 rows x 5 columns]"
      ]
     },
     "execution_count": 7,
     "metadata": {},
     "output_type": "execute_result"
    }
   ],
   "source": [
    "cdf_1"
   ]
  },
  {
   "cell_type": "markdown",
   "metadata": {},
   "source": [
    "## Comparing the estimate to Linear Regression\n",
    "First, estimating the effect using the causal data frame, and the 95% confidence interval."
   ]
  },
  {
   "cell_type": "code",
   "execution_count": 8,
   "metadata": {
    "execution": {
     "iopub.execute_input": "2023-01-18T14:08:55.595319Z",
     "iopub.status.busy": "2023-01-18T14:08:55.595101Z",
     "iopub.status.idle": "2023-01-18T14:08:55.651776Z",
     "shell.execute_reply": "2023-01-18T14:08:55.651062Z"
    }
   },
   "outputs": [
    {
     "data": {
      "image/png": "[encoded data removed]",
      "text/latex": [
       "$\\displaystyle 4.82847800212064$"
      ],
      "text/plain": [
       "4.828478002120636"
      ]
     },
     "execution_count": 8,
     "metadata": {},
     "output_type": "execute_result"
    }
   ],
   "source": [
    "(cdf_1['y'] - cdf_0['y']).mean()"
   ]
  },
  {
   "cell_type": "code",
   "execution_count": 9,
   "metadata": {
    "execution": {
     "iopub.execute_input": "2023-01-18T14:08:55.654876Z",
     "iopub.status.busy": "2023-01-18T14:08:55.654488Z",
     "iopub.status.idle": "2023-01-18T14:08:55.673940Z",
     "shell.execute_reply": "2023-01-18T14:08:55.673297Z"
    }
   },
   "outputs": [
    {
     "data": {
      "image/png": "[encoded data removed]",
      "text/latex": [
       "$\\displaystyle 0.21220414457383$"
      ],
      "text/plain": [
       "0.21220414457383024"
      ]
     },
     "execution_count": 9,
     "metadata": {},
     "output_type": "execute_result"
    }
   ],
   "source": [
    "1.96*(cdf_1['y'] - cdf_0['y']).std() / np.sqrt(len(df))"
   ]
  },
  {
   "cell_type": "markdown",
   "metadata": {},
   "source": [
    "Comparing to the estimate from OLS."
   ]
  },
  {
   "cell_type": "code",
   "execution_count": 10,
   "metadata": {
    "execution": {
     "iopub.execute_input": "2023-01-18T14:08:55.676783Z",
     "iopub.status.busy": "2023-01-18T14:08:55.676390Z",
     "iopub.status.idle": "2023-01-18T14:08:55.691922Z",
     "shell.execute_reply": "2023-01-18T14:08:55.691271Z"
    }
   },
   "outputs": [
    {
     "data": {
      "text/html": [
       "<table class=\"simpletable\">\n",
       "<caption>OLS Regression Results</caption>\n",
       "<tr>\n",
       "  <th>Dep. Variable:</th>            <td>y</td>        <th>  R-squared (uncentered):</th>      <td>   0.981</td> \n",
       "</tr>\n",
       "<tr>\n",
       "  <th>Model:</th>                   <td>OLS</td>       <th>  Adj. R-squared (uncentered):</th> <td>   0.981</td> \n",
       "</tr>\n",
       "<tr>\n",
       "  <th>Method:</th>             <td>Least Squares</td>  <th>  F-statistic:       </th>          <td>2.571e+04</td>\n",
       "</tr>\n",
       "<tr>\n",
       "  <th>Date:</th>             <td>Wed, 18 Jan 2023</td> <th>  Prob (F-statistic):</th>           <td>  0.00</td>  \n",
       "</tr>\n",
       "<tr>\n",
       "  <th>Time:</th>                 <td>14:08:55</td>     <th>  Log-Likelihood:    </th>          <td> -1415.3</td> \n",
       "</tr>\n",
       "<tr>\n",
       "  <th>No. Observations:</th>      <td>  1000</td>      <th>  AIC:               </th>          <td>   2835.</td> \n",
       "</tr>\n",
       "<tr>\n",
       "  <th>Df Residuals:</th>          <td>   998</td>      <th>  BIC:               </th>          <td>   2844.</td> \n",
       "</tr>\n",
       "<tr>\n",
       "  <th>Df Model:</th>              <td>     2</td>      <th>                     </th>              <td> </td>    \n",
       "</tr>\n",
       "<tr>\n",
       "  <th>Covariance Type:</th>      <td>nonrobust</td>    <th>                     </th>              <td> </td>    \n",
       "</tr>\n",
       "</table>\n",
       "<table class=\"simpletable\">\n",
       "<tr>\n",
       "   <td></td>     <th>coef</th>     <th>std err</th>      <th>t</th>      <th>P>|t|</th>  <th>[0.025</th>    <th>0.975]</th>  \n",
       "</tr>\n",
       "<tr>\n",
       "  <th>x1</th> <td>    2.2403</td> <td>    0.037</td> <td>   59.877</td> <td> 0.000</td> <td>    2.167</td> <td>    2.314</td>\n",
       "</tr>\n",
       "<tr>\n",
       "  <th>x2</th> <td>    5.0384</td> <td>    0.058</td> <td>   86.870</td> <td> 0.000</td> <td>    4.925</td> <td>    5.152</td>\n",
       "</tr>\n",
       "</table>\n",
       "<table class=\"simpletable\">\n",
       "<tr>\n",
       "  <th>Omnibus:</th>       <td> 1.714</td> <th>  Durbin-Watson:     </th> <td>   2.021</td>\n",
       "</tr>\n",
       "<tr>\n",
       "  <th>Prob(Omnibus):</th> <td> 0.424</td> <th>  Jarque-Bera (JB):  </th> <td>   1.650</td>\n",
       "</tr>\n",
       "<tr>\n",
       "  <th>Skew:</th>          <td>-0.099</td> <th>  Prob(JB):          </th> <td>   0.438</td>\n",
       "</tr>\n",
       "<tr>\n",
       "  <th>Kurtosis:</th>      <td> 3.024</td> <th>  Cond. No.          </th> <td>    3.27</td>\n",
       "</tr>\n",
       "</table><br/><br/>Notes:<br/>[1] R² is computed without centering (uncentered) since the model does not contain a constant.<br/>[2] Standard Errors assume that the covariance matrix of the errors is correctly specified."
      ],
      "text/plain": [
       "<class 'statsmodels.iolib.summary.Summary'>\n",
       "\"\"\"\n",
       "                                 OLS Regression Results                                \n",
       "=======================================================================================\n",
       "Dep. Variable:                      y   R-squared (uncentered):                   0.981\n",
       "Model:                            OLS   Adj. R-squared (uncentered):              0.981\n",
       "Method:                 Least Squares   F-statistic:                          2.571e+04\n",
       "Date:                Wed, 18 Jan 2023   Prob (F-statistic):                        0.00\n",
       "Time:                        14:08:55   Log-Likelihood:                         -1415.3\n",
       "No. Observations:                1000   AIC:                                      2835.\n",
       "Df Residuals:                     998   BIC:                                      2844.\n",
       "Df Model:                           2                                                  \n",
       "Covariance Type:            nonrobust                                                  \n",
       "==============================================================================\n",
       "                 coef    std err          t      P>|t|      [0.025      0.975]\n",
       "------------------------------------------------------------------------------\n",
       "x1             2.2403      0.037     59.877      0.000       2.167       2.314\n",
       "x2             5.0384      0.058     86.870      0.000       4.925       5.152\n",
       "==============================================================================\n",
       "Omnibus:                        1.714   Durbin-Watson:                   2.021\n",
       "Prob(Omnibus):                  0.424   Jarque-Bera (JB):                1.650\n",
       "Skew:                          -0.099   Prob(JB):                        0.438\n",
       "Kurtosis:                       3.024   Cond. No.                         3.27\n",
       "==============================================================================\n",
       "\n",
       "Notes:\n",
       "[1] R² is computed without centering (uncentered) since the model does not contain a constant.\n",
       "[2] Standard Errors assume that the covariance matrix of the errors is correctly specified.\n",
       "\"\"\""
      ]
     },
     "execution_count": 10,
     "metadata": {},
     "output_type": "execute_result"
    }
   ],
   "source": [
    "model = OLS(np.asarray(df[outcome]), np.asarray(df[[common_cause, treatment]], dtype=np.float64))\n",
    "result = model.fit()\n",
    "result.summary()"
   ]
  }
 ],
 "metadata": {
  "kernelspec": {
   "display_name": "Python 3",
   "language": "python",
   "name": "python3"
  },
  "language_info": {
   "codemirror_mode": {
    "name": "ipython",
    "version": 3
   },
   "file_extension": ".py",
   "mimetype": "text/x-python",
   "name": "python",
   "nbconvert_exporter": "python",
   "pygments_lexer": "ipython3",
   "version": "3.8.10"
  },
  "toc": {
   "base_numbering": 1,
   "nav_menu": {},
   "number_sections": false,
   "sideBar": true,
   "skip_h1_title": true,
   "title_cell": "Table of Contents",
   "title_sidebar": "Contents",
   "toc_cell": false,
   "toc_position": {},
   "toc_section_display": true,
   "toc_window_display": false
  }
 },
 "nbformat": 4,
 "nbformat_minor": 4
}
