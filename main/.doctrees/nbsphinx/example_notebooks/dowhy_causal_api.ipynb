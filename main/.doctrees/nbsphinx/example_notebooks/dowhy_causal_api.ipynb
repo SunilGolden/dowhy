{
 "cells": [
  {
   "cell_type": "markdown",
   "metadata": {},
   "source": [
    "# Demo for the DoWhy causal API\n",
    "We show a simple example of adding a causal extension to any dataframe. "
   ]
  },
  {
   "cell_type": "code",
   "execution_count": 1,
   "metadata": {
    "execution": {
     "iopub.execute_input": "2023-11-21T18:03:02.790739Z",
     "iopub.status.busy": "2023-11-21T18:03:02.790248Z",
     "iopub.status.idle": "2023-11-21T18:03:04.216131Z",
     "shell.execute_reply": "2023-11-21T18:03:04.215530Z"
    }
   },
   "outputs": [],
   "source": [
    "import dowhy.datasets\n",
    "import dowhy.api\n",
    "\n",
    "import numpy as np\n",
    "import pandas as pd\n",
    "\n",
    "from statsmodels.api import OLS"
   ]
  },
  {
   "cell_type": "code",
   "execution_count": 2,
   "metadata": {
    "execution": {
     "iopub.execute_input": "2023-11-21T18:03:04.219254Z",
     "iopub.status.busy": "2023-11-21T18:03:04.218548Z",
     "iopub.status.idle": "2023-11-21T18:03:04.253513Z",
     "shell.execute_reply": "2023-11-21T18:03:04.252880Z"
    }
   },
   "outputs": [
    {
     "data": {
      "text/html": [
       "<div>\n",
       "<style scoped>\n",
       "    .dataframe tbody tr th:only-of-type {\n",
       "        vertical-align: middle;\n",
       "    }\n",
       "\n",
       "    .dataframe tbody tr th {\n",
       "        vertical-align: top;\n",
       "    }\n",
       "\n",
       "    .dataframe thead th {\n",
       "        text-align: right;\n",
       "    }\n",
       "</style>\n",
       "<table border=\"1\" class=\"dataframe\">\n",
       "  <thead>\n",
       "    <tr style=\"text-align: right;\">\n",
       "      <th></th>\n",
       "      <th>W0</th>\n",
       "      <th>v0</th>\n",
       "      <th>y</th>\n",
       "    </tr>\n",
       "  </thead>\n",
       "  <tbody>\n",
       "    <tr>\n",
       "      <th>0</th>\n",
       "      <td>1.265501</td>\n",
       "      <td>True</td>\n",
       "      <td>5.393182</td>\n",
       "    </tr>\n",
       "    <tr>\n",
       "      <th>1</th>\n",
       "      <td>0.094058</td>\n",
       "      <td>True</td>\n",
       "      <td>5.558055</td>\n",
       "    </tr>\n",
       "    <tr>\n",
       "      <th>2</th>\n",
       "      <td>1.723442</td>\n",
       "      <td>True</td>\n",
       "      <td>7.818396</td>\n",
       "    </tr>\n",
       "    <tr>\n",
       "      <th>3</th>\n",
       "      <td>0.738826</td>\n",
       "      <td>True</td>\n",
       "      <td>4.918844</td>\n",
       "    </tr>\n",
       "    <tr>\n",
       "      <th>4</th>\n",
       "      <td>1.732605</td>\n",
       "      <td>True</td>\n",
       "      <td>6.192352</td>\n",
       "    </tr>\n",
       "    <tr>\n",
       "      <th>...</th>\n",
       "      <td>...</td>\n",
       "      <td>...</td>\n",
       "      <td>...</td>\n",
       "    </tr>\n",
       "    <tr>\n",
       "      <th>995</th>\n",
       "      <td>-1.734299</td>\n",
       "      <td>False</td>\n",
       "      <td>-2.646016</td>\n",
       "    </tr>\n",
       "    <tr>\n",
       "      <th>996</th>\n",
       "      <td>-0.049728</td>\n",
       "      <td>False</td>\n",
       "      <td>-0.055587</td>\n",
       "    </tr>\n",
       "    <tr>\n",
       "      <th>997</th>\n",
       "      <td>1.629305</td>\n",
       "      <td>True</td>\n",
       "      <td>7.846121</td>\n",
       "    </tr>\n",
       "    <tr>\n",
       "      <th>998</th>\n",
       "      <td>-0.137889</td>\n",
       "      <td>True</td>\n",
       "      <td>5.907617</td>\n",
       "    </tr>\n",
       "    <tr>\n",
       "      <th>999</th>\n",
       "      <td>0.849799</td>\n",
       "      <td>True</td>\n",
       "      <td>4.716306</td>\n",
       "    </tr>\n",
       "  </tbody>\n",
       "</table>\n",
       "<p>1000 rows × 3 columns</p>\n",
       "</div>"
      ],
      "text/plain": [
       "           W0     v0         y\n",
       "0    1.265501   True  5.393182\n",
       "1    0.094058   True  5.558055\n",
       "2    1.723442   True  7.818396\n",
       "3    0.738826   True  4.918844\n",
       "4    1.732605   True  6.192352\n",
       "..        ...    ...       ...\n",
       "995 -1.734299  False -2.646016\n",
       "996 -0.049728  False -0.055587\n",
       "997  1.629305   True  7.846121\n",
       "998 -0.137889   True  5.907617\n",
       "999  0.849799   True  4.716306\n",
       "\n",
       "[1000 rows x 3 columns]"
      ]
     },
     "execution_count": 2,
     "metadata": {},
     "output_type": "execute_result"
    }
   ],
   "source": [
    "data = dowhy.datasets.linear_dataset(beta=5,\n",
    "        num_common_causes=1,\n",
    "        num_instruments = 0,\n",
    "        num_samples=1000,\n",
    "        treatment_is_binary=True)\n",
    "df = data['df']\n",
    "df['y'] = df['y'] + np.random.normal(size=len(df)) # Adding noise to data. Without noise, the variance in Y|X, Z is zero, and mcmc fails.\n",
    "#data['dot_graph'] = 'digraph { v ->y;X0-> v;X0-> y;}'\n",
    "\n",
    "treatment= data[\"treatment_name\"][0]\n",
    "outcome = data[\"outcome_name\"][0]\n",
    "common_cause = data[\"common_causes_names\"][0]\n",
    "df"
   ]
  },
  {
   "cell_type": "code",
   "execution_count": 3,
   "metadata": {
    "execution": {
     "iopub.execute_input": "2023-11-21T18:03:04.255932Z",
     "iopub.status.busy": "2023-11-21T18:03:04.255577Z",
     "iopub.status.idle": "2023-11-21T18:03:04.437444Z",
     "shell.execute_reply": "2023-11-21T18:03:04.436696Z"
    }
   },
   "outputs": [
    {
     "data": {
      "text/plain": [
       "<Axes: xlabel='v0'>"
      ]
     },
     "execution_count": 3,
     "metadata": {},
     "output_type": "execute_result"
    },
    {
     "data": {
      "image/png": "[encoded data removed]",
      "text/plain": [
       "<Figure size 640x480 with 1 Axes>"
      ]
     },
     "metadata": {},
     "output_type": "display_data"
    }
   ],
   "source": [
    "# data['df'] is just a regular pandas.DataFrame\n",
    "df.causal.do(x=treatment,\n",
    "                     variable_types={treatment: 'b', outcome: 'c', common_cause: 'c'},\n",
    "                     outcome=outcome,\n",
    "                     common_causes=[common_cause],\n",
    "                     proceed_when_unidentifiable=True).groupby(treatment).mean().plot(y=outcome, kind='bar')"
   ]
  },
  {
   "cell_type": "code",
   "execution_count": 4,
   "metadata": {
    "execution": {
     "iopub.execute_input": "2023-11-21T18:03:04.439874Z",
     "iopub.status.busy": "2023-11-21T18:03:04.439517Z",
     "iopub.status.idle": "2023-11-21T18:03:04.548314Z",
     "shell.execute_reply": "2023-11-21T18:03:04.547682Z"
    }
   },
   "outputs": [
    {
     "data": {
      "text/plain": [
       "<Axes: xlabel='v0'>"
      ]
     },
     "execution_count": 4,
     "metadata": {},
     "output_type": "execute_result"
    },
    {
     "data": {
      "image/png": "[encoded data removed]",
      "text/plain": [
       "<Figure size 640x480 with 1 Axes>"
      ]
     },
     "metadata": {},
     "output_type": "display_data"
    }
   ],
   "source": [
    "df.causal.do(x={treatment: 1}, \n",
    "              variable_types={treatment:'b', outcome: 'c', common_cause: 'c'}, \n",
    "              outcome=outcome,\n",
    "              method='weighting', \n",
    "              common_causes=[common_cause],\n",
    "              proceed_when_unidentifiable=True).groupby(treatment).mean().plot(y=outcome, kind='bar')"
   ]
  },
  {
   "cell_type": "code",
   "execution_count": 5,
   "metadata": {
    "execution": {
     "iopub.execute_input": "2023-11-21T18:03:04.550931Z",
     "iopub.status.busy": "2023-11-21T18:03:04.550536Z",
     "iopub.status.idle": "2023-11-21T18:03:04.576643Z",
     "shell.execute_reply": "2023-11-21T18:03:04.575992Z"
    }
   },
   "outputs": [],
   "source": [
    "cdf_1 = df.causal.do(x={treatment: 1}, \n",
    "              variable_types={treatment: 'b', outcome: 'c', common_cause: 'c'}, \n",
    "              outcome=outcome, \n",
    "              dot_graph=data['dot_graph'],\n",
    "              proceed_when_unidentifiable=True)\n",
    "\n",
    "cdf_0 = df.causal.do(x={treatment: 0}, \n",
    "              variable_types={treatment: 'b', outcome: 'c', common_cause: 'c'}, \n",
    "              outcome=outcome, \n",
    "              dot_graph=data['dot_graph'],\n",
    "              proceed_when_unidentifiable=True)\n"
   ]
  },
  {
   "cell_type": "code",
   "execution_count": 6,
   "metadata": {
    "execution": {
     "iopub.execute_input": "2023-11-21T18:03:04.579521Z",
     "iopub.status.busy": "2023-11-21T18:03:04.579096Z",
     "iopub.status.idle": "2023-11-21T18:03:04.588213Z",
     "shell.execute_reply": "2023-11-21T18:03:04.587638Z"
    },
    "scrolled": true
   },
   "outputs": [
    {
     "data": {
      "text/html": [
       "<div>\n",
       "<style scoped>\n",
       "    .dataframe tbody tr th:only-of-type {\n",
       "        vertical-align: middle;\n",
       "    }\n",
       "\n",
       "    .dataframe tbody tr th {\n",
       "        vertical-align: top;\n",
       "    }\n",
       "\n",
       "    .dataframe thead th {\n",
       "        text-align: right;\n",
       "    }\n",
       "</style>\n",
       "<table border=\"1\" class=\"dataframe\">\n",
       "  <thead>\n",
       "    <tr style=\"text-align: right;\">\n",
       "      <th></th>\n",
       "      <th>W0</th>\n",
       "      <th>v0</th>\n",
       "      <th>y</th>\n",
       "      <th>propensity_score</th>\n",
       "      <th>weight</th>\n",
       "    </tr>\n",
       "  </thead>\n",
       "  <tbody>\n",
       "    <tr>\n",
       "      <th>0</th>\n",
       "      <td>0.998775</td>\n",
       "      <td>False</td>\n",
       "      <td>0.329228</td>\n",
       "      <td>0.173878</td>\n",
       "      <td>5.751156</td>\n",
       "    </tr>\n",
       "    <tr>\n",
       "      <th>1</th>\n",
       "      <td>1.042165</td>\n",
       "      <td>False</td>\n",
       "      <td>2.559233</td>\n",
       "      <td>0.164859</td>\n",
       "      <td>6.065808</td>\n",
       "    </tr>\n",
       "    <tr>\n",
       "      <th>2</th>\n",
       "      <td>0.623538</td>\n",
       "      <td>False</td>\n",
       "      <td>2.209779</td>\n",
       "      <td>0.268191</td>\n",
       "      <td>3.728680</td>\n",
       "    </tr>\n",
       "    <tr>\n",
       "      <th>3</th>\n",
       "      <td>0.884791</td>\n",
       "      <td>False</td>\n",
       "      <td>0.775999</td>\n",
       "      <td>0.199419</td>\n",
       "      <td>5.014563</td>\n",
       "    </tr>\n",
       "    <tr>\n",
       "      <th>4</th>\n",
       "      <td>1.375710</td>\n",
       "      <td>False</td>\n",
       "      <td>1.927038</td>\n",
       "      <td>0.107603</td>\n",
       "      <td>9.293448</td>\n",
       "    </tr>\n",
       "    <tr>\n",
       "      <th>...</th>\n",
       "      <td>...</td>\n",
       "      <td>...</td>\n",
       "      <td>...</td>\n",
       "      <td>...</td>\n",
       "      <td>...</td>\n",
       "    </tr>\n",
       "    <tr>\n",
       "      <th>995</th>\n",
       "      <td>-0.270583</td>\n",
       "      <td>False</td>\n",
       "      <td>-1.095981</td>\n",
       "      <td>0.578744</td>\n",
       "      <td>1.727880</td>\n",
       "    </tr>\n",
       "    <tr>\n",
       "      <th>996</th>\n",
       "      <td>0.843951</td>\n",
       "      <td>False</td>\n",
       "      <td>2.739609</td>\n",
       "      <td>0.209230</td>\n",
       "      <td>4.779419</td>\n",
       "    </tr>\n",
       "    <tr>\n",
       "      <th>997</th>\n",
       "      <td>-0.941611</td>\n",
       "      <td>False</td>\n",
       "      <td>-1.234182</td>\n",
       "      <td>0.787403</td>\n",
       "      <td>1.269997</td>\n",
       "    </tr>\n",
       "    <tr>\n",
       "      <th>998</th>\n",
       "      <td>1.198790</td>\n",
       "      <td>False</td>\n",
       "      <td>0.966740</td>\n",
       "      <td>0.135405</td>\n",
       "      <td>7.385261</td>\n",
       "    </tr>\n",
       "    <tr>\n",
       "      <th>999</th>\n",
       "      <td>-0.569447</td>\n",
       "      <td>False</td>\n",
       "      <td>-1.794060</td>\n",
       "      <td>0.681205</td>\n",
       "      <td>1.467987</td>\n",
       "    </tr>\n",
       "  </tbody>\n",
       "</table>\n",
       "<p>1000 rows × 5 columns</p>\n",
       "</div>"
      ],
      "text/plain": [
       "           W0     v0         y  propensity_score    weight\n",
       "0    0.998775  False  0.329228          0.173878  5.751156\n",
       "1    1.042165  False  2.559233          0.164859  6.065808\n",
       "2    0.623538  False  2.209779          0.268191  3.728680\n",
       "3    0.884791  False  0.775999          0.199419  5.014563\n",
       "4    1.375710  False  1.927038          0.107603  9.293448\n",
       "..        ...    ...       ...               ...       ...\n",
       "995 -0.270583  False -1.095981          0.578744  1.727880\n",
       "996  0.843951  False  2.739609          0.209230  4.779419\n",
       "997 -0.941611  False -1.234182          0.787403  1.269997\n",
       "998  1.198790  False  0.966740          0.135405  7.385261\n",
       "999 -0.569447  False -1.794060          0.681205  1.467987\n",
       "\n",
       "[1000 rows x 5 columns]"
      ]
     },
     "execution_count": 6,
     "metadata": {},
     "output_type": "execute_result"
    }
   ],
   "source": [
    "cdf_0"
   ]
  },
  {
   "cell_type": "code",
   "execution_count": 7,
   "metadata": {
    "execution": {
     "iopub.execute_input": "2023-11-21T18:03:04.590379Z",
     "iopub.status.busy": "2023-11-21T18:03:04.590199Z",
     "iopub.status.idle": "2023-11-21T18:03:04.599134Z",
     "shell.execute_reply": "2023-11-21T18:03:04.598652Z"
    }
   },
   "outputs": [
    {
     "data": {
      "text/html": [
       "<div>\n",
       "<style scoped>\n",
       "    .dataframe tbody tr th:only-of-type {\n",
       "        vertical-align: middle;\n",
       "    }\n",
       "\n",
       "    .dataframe tbody tr th {\n",
       "        vertical-align: top;\n",
       "    }\n",
       "\n",
       "    .dataframe thead th {\n",
       "        text-align: right;\n",
       "    }\n",
       "</style>\n",
       "<table border=\"1\" class=\"dataframe\">\n",
       "  <thead>\n",
       "    <tr style=\"text-align: right;\">\n",
       "      <th></th>\n",
       "      <th>W0</th>\n",
       "      <th>v0</th>\n",
       "      <th>y</th>\n",
       "      <th>propensity_score</th>\n",
       "      <th>weight</th>\n",
       "    </tr>\n",
       "  </thead>\n",
       "  <tbody>\n",
       "    <tr>\n",
       "      <th>0</th>\n",
       "      <td>-0.256182</td>\n",
       "      <td>True</td>\n",
       "      <td>5.477226</td>\n",
       "      <td>0.426454</td>\n",
       "      <td>2.344921</td>\n",
       "    </tr>\n",
       "    <tr>\n",
       "      <th>1</th>\n",
       "      <td>0.765586</td>\n",
       "      <td>True</td>\n",
       "      <td>6.780189</td>\n",
       "      <td>0.770962</td>\n",
       "      <td>1.297080</td>\n",
       "    </tr>\n",
       "    <tr>\n",
       "      <th>2</th>\n",
       "      <td>2.686171</td>\n",
       "      <td>True</td>\n",
       "      <td>7.511626</td>\n",
       "      <td>0.982913</td>\n",
       "      <td>1.017384</td>\n",
       "    </tr>\n",
       "    <tr>\n",
       "      <th>3</th>\n",
       "      <td>-1.080264</td>\n",
       "      <td>True</td>\n",
       "      <td>4.966821</td>\n",
       "      <td>0.180308</td>\n",
       "      <td>5.546059</td>\n",
       "    </tr>\n",
       "    <tr>\n",
       "      <th>4</th>\n",
       "      <td>-1.198305</td>\n",
       "      <td>True</td>\n",
       "      <td>3.037092</td>\n",
       "      <td>0.155945</td>\n",
       "      <td>6.412528</td>\n",
       "    </tr>\n",
       "    <tr>\n",
       "      <th>...</th>\n",
       "      <td>...</td>\n",
       "      <td>...</td>\n",
       "      <td>...</td>\n",
       "      <td>...</td>\n",
       "      <td>...</td>\n",
       "    </tr>\n",
       "    <tr>\n",
       "      <th>995</th>\n",
       "      <td>-0.266668</td>\n",
       "      <td>True</td>\n",
       "      <td>4.557730</td>\n",
       "      <td>0.422667</td>\n",
       "      <td>2.365927</td>\n",
       "    </tr>\n",
       "    <tr>\n",
       "      <th>996</th>\n",
       "      <td>1.786251</td>\n",
       "      <td>True</td>\n",
       "      <td>9.065879</td>\n",
       "      <td>0.938325</td>\n",
       "      <td>1.065729</td>\n",
       "    </tr>\n",
       "    <tr>\n",
       "      <th>997</th>\n",
       "      <td>1.250483</td>\n",
       "      <td>True</td>\n",
       "      <td>8.303457</td>\n",
       "      <td>0.873293</td>\n",
       "      <td>1.145091</td>\n",
       "    </tr>\n",
       "    <tr>\n",
       "      <th>998</th>\n",
       "      <td>-0.439681</td>\n",
       "      <td>True</td>\n",
       "      <td>6.042712</td>\n",
       "      <td>0.361806</td>\n",
       "      <td>2.763909</td>\n",
       "    </tr>\n",
       "    <tr>\n",
       "      <th>999</th>\n",
       "      <td>-1.060085</td>\n",
       "      <td>True</td>\n",
       "      <td>3.682707</td>\n",
       "      <td>0.184758</td>\n",
       "      <td>5.412486</td>\n",
       "    </tr>\n",
       "  </tbody>\n",
       "</table>\n",
       "<p>1000 rows × 5 columns</p>\n",
       "</div>"
      ],
      "text/plain": [
       "           W0    v0         y  propensity_score    weight\n",
       "0   -0.256182  True  5.477226          0.426454  2.344921\n",
       "1    0.765586  True  6.780189          0.770962  1.297080\n",
       "2    2.686171  True  7.511626          0.982913  1.017384\n",
       "3   -1.080264  True  4.966821          0.180308  5.546059\n",
       "4   -1.198305  True  3.037092          0.155945  6.412528\n",
       "..        ...   ...       ...               ...       ...\n",
       "995 -0.266668  True  4.557730          0.422667  2.365927\n",
       "996  1.786251  True  9.065879          0.938325  1.065729\n",
       "997  1.250483  True  8.303457          0.873293  1.145091\n",
       "998 -0.439681  True  6.042712          0.361806  2.763909\n",
       "999 -1.060085  True  3.682707          0.184758  5.412486\n",
       "\n",
       "[1000 rows x 5 columns]"
      ]
     },
     "execution_count": 7,
     "metadata": {},
     "output_type": "execute_result"
    }
   ],
   "source": [
    "cdf_1"
   ]
  },
  {
   "cell_type": "markdown",
   "metadata": {},
   "source": [
    "## Comparing the estimate to Linear Regression\n",
    "First, estimating the effect using the causal data frame, and the 95% confidence interval."
   ]
  },
  {
   "cell_type": "code",
   "execution_count": 8,
   "metadata": {
    "execution": {
     "iopub.execute_input": "2023-11-21T18:03:04.601259Z",
     "iopub.status.busy": "2023-11-21T18:03:04.601079Z",
     "iopub.status.idle": "2023-11-21T18:03:04.651315Z",
     "shell.execute_reply": "2023-11-21T18:03:04.650674Z"
    }
   },
   "outputs": [
    {
     "data": {
      "image/png": "[encoded data removed]",
      "text/latex": [
       "$\\displaystyle 5.0537540101688$"
      ],
      "text/plain": [
       "5.053754010168799"
      ]
     },
     "execution_count": 8,
     "metadata": {},
     "output_type": "execute_result"
    }
   ],
   "source": [
    "(cdf_1['y'] - cdf_0['y']).mean()"
   ]
  },
  {
   "cell_type": "code",
   "execution_count": 9,
   "metadata": {
    "execution": {
     "iopub.execute_input": "2023-11-21T18:03:04.653777Z",
     "iopub.status.busy": "2023-11-21T18:03:04.653411Z",
     "iopub.status.idle": "2023-11-21T18:03:04.671049Z",
     "shell.execute_reply": "2023-11-21T18:03:04.670441Z"
    }
   },
   "outputs": [
    {
     "data": {
      "image/png": "[encoded data removed]",
      "text/latex": [
       "$\\displaystyle 0.145386421712223$"
      ],
      "text/plain": [
       "0.14538642171222302"
      ]
     },
     "execution_count": 9,
     "metadata": {},
     "output_type": "execute_result"
    }
   ],
   "source": [
    "1.96*(cdf_1['y'] - cdf_0['y']).std() / np.sqrt(len(df))"
   ]
  },
  {
   "cell_type": "markdown",
   "metadata": {},
   "source": [
    "Comparing to the estimate from OLS."
   ]
  },
  {
   "cell_type": "code",
   "execution_count": 10,
   "metadata": {
    "execution": {
     "iopub.execute_input": "2023-11-21T18:03:04.673403Z",
     "iopub.status.busy": "2023-11-21T18:03:04.673040Z",
     "iopub.status.idle": "2023-11-21T18:03:04.692191Z",
     "shell.execute_reply": "2023-11-21T18:03:04.691525Z"
    }
   },
   "outputs": [
    {
     "data": {
      "text/html": [
       "<table class=\"simpletable\">\n",
       "<caption>OLS Regression Results</caption>\n",
       "<tr>\n",
       "  <th>Dep. Variable:</th>            <td>y</td>        <th>  R-squared (uncentered):</th>      <td>   0.955</td> \n",
       "</tr>\n",
       "<tr>\n",
       "  <th>Model:</th>                   <td>OLS</td>       <th>  Adj. R-squared (uncentered):</th> <td>   0.955</td> \n",
       "</tr>\n",
       "<tr>\n",
       "  <th>Method:</th>             <td>Least Squares</td>  <th>  F-statistic:       </th>          <td>1.063e+04</td>\n",
       "</tr>\n",
       "<tr>\n",
       "  <th>Date:</th>             <td>Tue, 21 Nov 2023</td> <th>  Prob (F-statistic):</th>           <td>  0.00</td>  \n",
       "</tr>\n",
       "<tr>\n",
       "  <th>Time:</th>                 <td>18:03:04</td>     <th>  Log-Likelihood:    </th>          <td> -1443.8</td> \n",
       "</tr>\n",
       "<tr>\n",
       "  <th>No. Observations:</th>      <td>  1000</td>      <th>  AIC:               </th>          <td>   2892.</td> \n",
       "</tr>\n",
       "<tr>\n",
       "  <th>Df Residuals:</th>          <td>   998</td>      <th>  BIC:               </th>          <td>   2901.</td> \n",
       "</tr>\n",
       "<tr>\n",
       "  <th>Df Model:</th>              <td>     2</td>      <th>                     </th>              <td> </td>    \n",
       "</tr>\n",
       "<tr>\n",
       "  <th>Covariance Type:</th>      <td>nonrobust</td>    <th>                     </th>              <td> </td>    \n",
       "</tr>\n",
       "</table>\n",
       "<table class=\"simpletable\">\n",
       "<tr>\n",
       "   <td></td>     <th>coef</th>     <th>std err</th>      <th>t</th>      <th>P>|t|</th>  <th>[0.025</th>    <th>0.975]</th>  \n",
       "</tr>\n",
       "<tr>\n",
       "  <th>x1</th> <td>    1.3506</td> <td>    0.037</td> <td>   36.072</td> <td> 0.000</td> <td>    1.277</td> <td>    1.424</td>\n",
       "</tr>\n",
       "<tr>\n",
       "  <th>x2</th> <td>    4.9243</td> <td>    0.050</td> <td>   97.975</td> <td> 0.000</td> <td>    4.826</td> <td>    5.023</td>\n",
       "</tr>\n",
       "</table>\n",
       "<table class=\"simpletable\">\n",
       "<tr>\n",
       "  <th>Omnibus:</th>       <td> 0.387</td> <th>  Durbin-Watson:     </th> <td>   1.879</td>\n",
       "</tr>\n",
       "<tr>\n",
       "  <th>Prob(Omnibus):</th> <td> 0.824</td> <th>  Jarque-Bera (JB):  </th> <td>   0.474</td>\n",
       "</tr>\n",
       "<tr>\n",
       "  <th>Skew:</th>          <td> 0.026</td> <th>  Prob(JB):          </th> <td>   0.789</td>\n",
       "</tr>\n",
       "<tr>\n",
       "  <th>Kurtosis:</th>      <td> 2.906</td> <th>  Cond. No.          </th> <td>    2.00</td>\n",
       "</tr>\n",
       "</table><br/><br/>Notes:<br/>[1] R² is computed without centering (uncentered) since the model does not contain a constant.<br/>[2] Standard Errors assume that the covariance matrix of the errors is correctly specified."
      ],
      "text/latex": [
       "\\begin{center}\n",
       "\\begin{tabular}{lclc}\n",
       "\\toprule\n",
       "\\textbf{Dep. Variable:}    &        y         & \\textbf{  R-squared (uncentered):}      &     0.955   \\\\\n",
       "\\textbf{Model:}            &       OLS        & \\textbf{  Adj. R-squared (uncentered):} &     0.955   \\\\\n",
       "\\textbf{Method:}           &  Least Squares   & \\textbf{  F-statistic:       }          & 1.063e+04   \\\\\n",
       "\\textbf{Date:}             & Tue, 21 Nov 2023 & \\textbf{  Prob (F-statistic):}          &     0.00    \\\\\n",
       "\\textbf{Time:}             &     18:03:04     & \\textbf{  Log-Likelihood:    }          &   -1443.8   \\\\\n",
       "\\textbf{No. Observations:} &        1000      & \\textbf{  AIC:               }          &     2892.   \\\\\n",
       "\\textbf{Df Residuals:}     &         998      & \\textbf{  BIC:               }          &     2901.   \\\\\n",
       "\\textbf{Df Model:}         &           2      & \\textbf{                     }          &             \\\\\n",
       "\\textbf{Covariance Type:}  &    nonrobust     & \\textbf{                     }          &             \\\\\n",
       "\\bottomrule\n",
       "\\end{tabular}\n",
       "\\begin{tabular}{lcccccc}\n",
       "            & \\textbf{coef} & \\textbf{std err} & \\textbf{t} & \\textbf{P$> |$t$|$} & \\textbf{[0.025} & \\textbf{0.975]}  \\\\\n",
       "\\midrule\n",
       "\\textbf{x1} &       1.3506  &        0.037     &    36.072  &         0.000        &        1.277    &        1.424     \\\\\n",
       "\\textbf{x2} &       4.9243  &        0.050     &    97.975  &         0.000        &        4.826    &        5.023     \\\\\n",
       "\\bottomrule\n",
       "\\end{tabular}\n",
       "\\begin{tabular}{lclc}\n",
       "\\textbf{Omnibus:}       &  0.387 & \\textbf{  Durbin-Watson:     } &    1.879  \\\\\n",
       "\\textbf{Prob(Omnibus):} &  0.824 & \\textbf{  Jarque-Bera (JB):  } &    0.474  \\\\\n",
       "\\textbf{Skew:}          &  0.026 & \\textbf{  Prob(JB):          } &    0.789  \\\\\n",
       "\\textbf{Kurtosis:}      &  2.906 & \\textbf{  Cond. No.          } &     2.00  \\\\\n",
       "\\bottomrule\n",
       "\\end{tabular}\n",
       "%\\caption{OLS Regression Results}\n",
       "\\end{center}\n",
       "\n",
       "Notes: \\newline\n",
       " [1] R² is computed without centering (uncentered) since the model does not contain a constant. \\newline\n",
       " [2] Standard Errors assume that the covariance matrix of the errors is correctly specified."
      ],
      "text/plain": [
       "<class 'statsmodels.iolib.summary.Summary'>\n",
       "\"\"\"\n",
       "                                 OLS Regression Results                                \n",
       "=======================================================================================\n",
       "Dep. Variable:                      y   R-squared (uncentered):                   0.955\n",
       "Model:                            OLS   Adj. R-squared (uncentered):              0.955\n",
       "Method:                 Least Squares   F-statistic:                          1.063e+04\n",
       "Date:                Tue, 21 Nov 2023   Prob (F-statistic):                        0.00\n",
       "Time:                        18:03:04   Log-Likelihood:                         -1443.8\n",
       "No. Observations:                1000   AIC:                                      2892.\n",
       "Df Residuals:                     998   BIC:                                      2901.\n",
       "Df Model:                           2                                                  \n",
       "Covariance Type:            nonrobust                                                  \n",
       "==============================================================================\n",
       "                 coef    std err          t      P>|t|      [0.025      0.975]\n",
       "------------------------------------------------------------------------------\n",
       "x1             1.3506      0.037     36.072      0.000       1.277       1.424\n",
       "x2             4.9243      0.050     97.975      0.000       4.826       5.023\n",
       "==============================================================================\n",
       "Omnibus:                        0.387   Durbin-Watson:                   1.879\n",
       "Prob(Omnibus):                  0.824   Jarque-Bera (JB):                0.474\n",
       "Skew:                           0.026   Prob(JB):                        0.789\n",
       "Kurtosis:                       2.906   Cond. No.                         2.00\n",
       "==============================================================================\n",
       "\n",
       "Notes:\n",
       "[1] R² is computed without centering (uncentered) since the model does not contain a constant.\n",
       "[2] Standard Errors assume that the covariance matrix of the errors is correctly specified.\n",
       "\"\"\""
      ]
     },
     "execution_count": 10,
     "metadata": {},
     "output_type": "execute_result"
    }
   ],
   "source": [
    "model = OLS(np.asarray(df[outcome]), np.asarray(df[[common_cause, treatment]], dtype=np.float64))\n",
    "result = model.fit()\n",
    "result.summary()"
   ]
  }
 ],
 "metadata": {
  "kernelspec": {
   "display_name": "Python 3",
   "language": "python",
   "name": "python3"
  },
  "language_info": {
   "codemirror_mode": {
    "name": "ipython",
    "version": 3
   },
   "file_extension": ".py",
   "mimetype": "text/x-python",
   "name": "python",
   "nbconvert_exporter": "python",
   "pygments_lexer": "ipython3",
   "version": "3.8.10"
  },
  "toc": {
   "base_numbering": 1,
   "nav_menu": {},
   "number_sections": false,
   "sideBar": true,
   "skip_h1_title": true,
   "title_cell": "Table of Contents",
   "title_sidebar": "Contents",
   "toc_cell": false,
   "toc_position": {},
   "toc_section_display": true,
   "toc_window_display": false
  }
 },
 "nbformat": 4,
 "nbformat_minor": 4
}
