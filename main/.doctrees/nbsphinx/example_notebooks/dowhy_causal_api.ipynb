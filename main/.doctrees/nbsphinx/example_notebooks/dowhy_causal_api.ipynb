{
 "cells": [
  {
   "cell_type": "markdown",
   "metadata": {},
   "source": [
    "# Demo for the DoWhy causal API\n",
    "We show a simple example of adding a causal extension to any dataframe. "
   ]
  },
  {
   "cell_type": "code",
   "execution_count": 1,
   "metadata": {
    "execution": {
     "iopub.execute_input": "2023-03-06T16:15:46.922091Z",
     "iopub.status.busy": "2023-03-06T16:15:46.921876Z",
     "iopub.status.idle": "2023-03-06T16:15:48.498397Z",
     "shell.execute_reply": "2023-03-06T16:15:48.497771Z"
    }
   },
   "outputs": [],
   "source": [
    "import dowhy.datasets\n",
    "import dowhy.api\n",
    "\n",
    "import numpy as np\n",
    "import pandas as pd\n",
    "\n",
    "from statsmodels.api import OLS"
   ]
  },
  {
   "cell_type": "code",
   "execution_count": 2,
   "metadata": {
    "execution": {
     "iopub.execute_input": "2023-03-06T16:15:48.501594Z",
     "iopub.status.busy": "2023-03-06T16:15:48.501102Z",
     "iopub.status.idle": "2023-03-06T16:15:48.546522Z",
     "shell.execute_reply": "2023-03-06T16:15:48.545884Z"
    }
   },
   "outputs": [
    {
     "data": {
      "text/html": [
       "<div>\n",
       "<style scoped>\n",
       "    .dataframe tbody tr th:only-of-type {\n",
       "        vertical-align: middle;\n",
       "    }\n",
       "\n",
       "    .dataframe tbody tr th {\n",
       "        vertical-align: top;\n",
       "    }\n",
       "\n",
       "    .dataframe thead th {\n",
       "        text-align: right;\n",
       "    }\n",
       "</style>\n",
       "<table border=\"1\" class=\"dataframe\">\n",
       "  <thead>\n",
       "    <tr style=\"text-align: right;\">\n",
       "      <th></th>\n",
       "      <th>W0</th>\n",
       "      <th>v0</th>\n",
       "      <th>y</th>\n",
       "    </tr>\n",
       "  </thead>\n",
       "  <tbody>\n",
       "    <tr>\n",
       "      <th>0</th>\n",
       "      <td>0.624872</td>\n",
       "      <td>True</td>\n",
       "      <td>6.597641</td>\n",
       "    </tr>\n",
       "    <tr>\n",
       "      <th>1</th>\n",
       "      <td>-0.053984</td>\n",
       "      <td>True</td>\n",
       "      <td>6.226814</td>\n",
       "    </tr>\n",
       "    <tr>\n",
       "      <th>2</th>\n",
       "      <td>-0.014034</td>\n",
       "      <td>True</td>\n",
       "      <td>3.678794</td>\n",
       "    </tr>\n",
       "    <tr>\n",
       "      <th>3</th>\n",
       "      <td>-2.005407</td>\n",
       "      <td>False</td>\n",
       "      <td>0.135829</td>\n",
       "    </tr>\n",
       "    <tr>\n",
       "      <th>4</th>\n",
       "      <td>-1.562907</td>\n",
       "      <td>True</td>\n",
       "      <td>3.737552</td>\n",
       "    </tr>\n",
       "    <tr>\n",
       "      <th>...</th>\n",
       "      <td>...</td>\n",
       "      <td>...</td>\n",
       "      <td>...</td>\n",
       "    </tr>\n",
       "    <tr>\n",
       "      <th>995</th>\n",
       "      <td>-0.723923</td>\n",
       "      <td>False</td>\n",
       "      <td>-0.584151</td>\n",
       "    </tr>\n",
       "    <tr>\n",
       "      <th>996</th>\n",
       "      <td>-0.174778</td>\n",
       "      <td>True</td>\n",
       "      <td>5.003410</td>\n",
       "    </tr>\n",
       "    <tr>\n",
       "      <th>997</th>\n",
       "      <td>0.462466</td>\n",
       "      <td>True</td>\n",
       "      <td>4.345259</td>\n",
       "    </tr>\n",
       "    <tr>\n",
       "      <th>998</th>\n",
       "      <td>0.793546</td>\n",
       "      <td>True</td>\n",
       "      <td>6.243609</td>\n",
       "    </tr>\n",
       "    <tr>\n",
       "      <th>999</th>\n",
       "      <td>-0.936640</td>\n",
       "      <td>False</td>\n",
       "      <td>-1.933933</td>\n",
       "    </tr>\n",
       "  </tbody>\n",
       "</table>\n",
       "<p>1000 rows × 3 columns</p>\n",
       "</div>"
      ],
      "text/plain": [
       "           W0     v0         y\n",
       "0    0.624872   True  6.597641\n",
       "1   -0.053984   True  6.226814\n",
       "2   -0.014034   True  3.678794\n",
       "3   -2.005407  False  0.135829\n",
       "4   -1.562907   True  3.737552\n",
       "..        ...    ...       ...\n",
       "995 -0.723923  False -0.584151\n",
       "996 -0.174778   True  5.003410\n",
       "997  0.462466   True  4.345259\n",
       "998  0.793546   True  6.243609\n",
       "999 -0.936640  False -1.933933\n",
       "\n",
       "[1000 rows x 3 columns]"
      ]
     },
     "execution_count": 2,
     "metadata": {},
     "output_type": "execute_result"
    }
   ],
   "source": [
    "data = dowhy.datasets.linear_dataset(beta=5,\n",
    "        num_common_causes=1,\n",
    "        num_instruments = 0,\n",
    "        num_samples=1000,\n",
    "        treatment_is_binary=True)\n",
    "df = data['df']\n",
    "df['y'] = df['y'] + np.random.normal(size=len(df)) # Adding noise to data. Without noise, the variance in Y|X, Z is zero, and mcmc fails.\n",
    "#data['dot_graph'] = 'digraph { v ->y;X0-> v;X0-> y;}'\n",
    "\n",
    "treatment= data[\"treatment_name\"][0]\n",
    "outcome = data[\"outcome_name\"][0]\n",
    "common_cause = data[\"common_causes_names\"][0]\n",
    "df"
   ]
  },
  {
   "cell_type": "code",
   "execution_count": 3,
   "metadata": {
    "execution": {
     "iopub.execute_input": "2023-03-06T16:15:48.549352Z",
     "iopub.status.busy": "2023-03-06T16:15:48.549030Z",
     "iopub.status.idle": "2023-03-06T16:15:48.697379Z",
     "shell.execute_reply": "2023-03-06T16:15:48.696707Z"
    }
   },
   "outputs": [
    {
     "data": {
      "text/plain": [
       "<AxesSubplot: xlabel='v0'>"
      ]
     },
     "execution_count": 3,
     "metadata": {},
     "output_type": "execute_result"
    },
    {
     "data": {
      "image/png": "[encoded data removed]",
      "text/plain": [
       "<Figure size 640x480 with 1 Axes>"
      ]
     },
     "metadata": {},
     "output_type": "display_data"
    }
   ],
   "source": [
    "# data['df'] is just a regular pandas.DataFrame\n",
    "df.causal.do(x=treatment,\n",
    "                     variable_types={treatment: 'b', outcome: 'c', common_cause: 'c'},\n",
    "                     outcome=outcome,\n",
    "                     common_causes=[common_cause],\n",
    "                     proceed_when_unidentifiable=True).groupby(treatment).mean().plot(y=outcome, kind='bar')"
   ]
  },
  {
   "cell_type": "code",
   "execution_count": 4,
   "metadata": {
    "execution": {
     "iopub.execute_input": "2023-03-06T16:15:48.700690Z",
     "iopub.status.busy": "2023-03-06T16:15:48.700351Z",
     "iopub.status.idle": "2023-03-06T16:15:48.896603Z",
     "shell.execute_reply": "2023-03-06T16:15:48.895983Z"
    }
   },
   "outputs": [
    {
     "data": {
      "text/plain": [
       "<AxesSubplot: xlabel='v0'>"
      ]
     },
     "execution_count": 4,
     "metadata": {},
     "output_type": "execute_result"
    },
    {
     "data": {
      "image/png": "[encoded data removed]",
      "text/plain": [
       "<Figure size 640x480 with 1 Axes>"
      ]
     },
     "metadata": {},
     "output_type": "display_data"
    }
   ],
   "source": [
    "df.causal.do(x={treatment: 1}, \n",
    "              variable_types={treatment:'b', outcome: 'c', common_cause: 'c'}, \n",
    "              outcome=outcome,\n",
    "              method='weighting', \n",
    "              common_causes=[common_cause],\n",
    "              proceed_when_unidentifiable=True).groupby(treatment).mean().plot(y=outcome, kind='bar')"
   ]
  },
  {
   "cell_type": "code",
   "execution_count": 5,
   "metadata": {
    "execution": {
     "iopub.execute_input": "2023-03-06T16:15:48.899795Z",
     "iopub.status.busy": "2023-03-06T16:15:48.899461Z",
     "iopub.status.idle": "2023-03-06T16:15:48.929976Z",
     "shell.execute_reply": "2023-03-06T16:15:48.929385Z"
    }
   },
   "outputs": [],
   "source": [
    "cdf_1 = df.causal.do(x={treatment: 1}, \n",
    "              variable_types={treatment: 'b', outcome: 'c', common_cause: 'c'}, \n",
    "              outcome=outcome, \n",
    "              dot_graph=data['dot_graph'],\n",
    "              proceed_when_unidentifiable=True)\n",
    "\n",
    "cdf_0 = df.causal.do(x={treatment: 0}, \n",
    "              variable_types={treatment: 'b', outcome: 'c', common_cause: 'c'}, \n",
    "              outcome=outcome, \n",
    "              dot_graph=data['dot_graph'],\n",
    "              proceed_when_unidentifiable=True)\n"
   ]
  },
  {
   "cell_type": "code",
   "execution_count": 6,
   "metadata": {
    "execution": {
     "iopub.execute_input": "2023-03-06T16:15:48.933156Z",
     "iopub.status.busy": "2023-03-06T16:15:48.932790Z",
     "iopub.status.idle": "2023-03-06T16:15:48.945191Z",
     "shell.execute_reply": "2023-03-06T16:15:48.944623Z"
    },
    "scrolled": true
   },
   "outputs": [
    {
     "data": {
      "text/html": [
       "<div>\n",
       "<style scoped>\n",
       "    .dataframe tbody tr th:only-of-type {\n",
       "        vertical-align: middle;\n",
       "    }\n",
       "\n",
       "    .dataframe tbody tr th {\n",
       "        vertical-align: top;\n",
       "    }\n",
       "\n",
       "    .dataframe thead th {\n",
       "        text-align: right;\n",
       "    }\n",
       "</style>\n",
       "<table border=\"1\" class=\"dataframe\">\n",
       "  <thead>\n",
       "    <tr style=\"text-align: right;\">\n",
       "      <th></th>\n",
       "      <th>W0</th>\n",
       "      <th>v0</th>\n",
       "      <th>y</th>\n",
       "      <th>propensity_score</th>\n",
       "      <th>weight</th>\n",
       "    </tr>\n",
       "  </thead>\n",
       "  <tbody>\n",
       "    <tr>\n",
       "      <th>0</th>\n",
       "      <td>1.672704</td>\n",
       "      <td>False</td>\n",
       "      <td>2.825272</td>\n",
       "      <td>0.141113</td>\n",
       "      <td>7.086523</td>\n",
       "    </tr>\n",
       "    <tr>\n",
       "      <th>1</th>\n",
       "      <td>-0.481830</td>\n",
       "      <td>False</td>\n",
       "      <td>0.779423</td>\n",
       "      <td>0.637168</td>\n",
       "      <td>1.569445</td>\n",
       "    </tr>\n",
       "    <tr>\n",
       "      <th>2</th>\n",
       "      <td>-0.032865</td>\n",
       "      <td>False</td>\n",
       "      <td>-0.012087</td>\n",
       "      <td>0.517344</td>\n",
       "      <td>1.932952</td>\n",
       "    </tr>\n",
       "    <tr>\n",
       "      <th>3</th>\n",
       "      <td>0.057448</td>\n",
       "      <td>False</td>\n",
       "      <td>0.780792</td>\n",
       "      <td>0.492524</td>\n",
       "      <td>2.030360</td>\n",
       "    </tr>\n",
       "    <tr>\n",
       "      <th>4</th>\n",
       "      <td>-0.471893</td>\n",
       "      <td>False</td>\n",
       "      <td>-0.323118</td>\n",
       "      <td>0.634638</td>\n",
       "      <td>1.575701</td>\n",
       "    </tr>\n",
       "    <tr>\n",
       "      <th>...</th>\n",
       "      <td>...</td>\n",
       "      <td>...</td>\n",
       "      <td>...</td>\n",
       "      <td>...</td>\n",
       "      <td>...</td>\n",
       "    </tr>\n",
       "    <tr>\n",
       "      <th>995</th>\n",
       "      <td>0.260015</td>\n",
       "      <td>False</td>\n",
       "      <td>1.114671</td>\n",
       "      <td>0.437170</td>\n",
       "      <td>2.287439</td>\n",
       "    </tr>\n",
       "    <tr>\n",
       "      <th>996</th>\n",
       "      <td>-1.240531</td>\n",
       "      <td>False</td>\n",
       "      <td>-2.232898</td>\n",
       "      <td>0.801767</td>\n",
       "      <td>1.247245</td>\n",
       "    </tr>\n",
       "    <tr>\n",
       "      <th>997</th>\n",
       "      <td>1.029813</td>\n",
       "      <td>False</td>\n",
       "      <td>1.059657</td>\n",
       "      <td>0.249901</td>\n",
       "      <td>4.001585</td>\n",
       "    </tr>\n",
       "    <tr>\n",
       "      <th>998</th>\n",
       "      <td>-0.785371</td>\n",
       "      <td>False</td>\n",
       "      <td>-0.967826</td>\n",
       "      <td>0.710307</td>\n",
       "      <td>1.407843</td>\n",
       "    </tr>\n",
       "    <tr>\n",
       "      <th>999</th>\n",
       "      <td>1.501226</td>\n",
       "      <td>False</td>\n",
       "      <td>3.528365</td>\n",
       "      <td>0.165548</td>\n",
       "      <td>6.040554</td>\n",
       "    </tr>\n",
       "  </tbody>\n",
       "</table>\n",
       "<p>1000 rows × 5 columns</p>\n",
       "</div>"
      ],
      "text/plain": [
       "           W0     v0         y  propensity_score    weight\n",
       "0    1.672704  False  2.825272          0.141113  7.086523\n",
       "1   -0.481830  False  0.779423          0.637168  1.569445\n",
       "2   -0.032865  False -0.012087          0.517344  1.932952\n",
       "3    0.057448  False  0.780792          0.492524  2.030360\n",
       "4   -0.471893  False -0.323118          0.634638  1.575701\n",
       "..        ...    ...       ...               ...       ...\n",
       "995  0.260015  False  1.114671          0.437170  2.287439\n",
       "996 -1.240531  False -2.232898          0.801767  1.247245\n",
       "997  1.029813  False  1.059657          0.249901  4.001585\n",
       "998 -0.785371  False -0.967826          0.710307  1.407843\n",
       "999  1.501226  False  3.528365          0.165548  6.040554\n",
       "\n",
       "[1000 rows x 5 columns]"
      ]
     },
     "execution_count": 6,
     "metadata": {},
     "output_type": "execute_result"
    }
   ],
   "source": [
    "cdf_0"
   ]
  },
  {
   "cell_type": "code",
   "execution_count": 7,
   "metadata": {
    "execution": {
     "iopub.execute_input": "2023-03-06T16:15:48.948108Z",
     "iopub.status.busy": "2023-03-06T16:15:48.947780Z",
     "iopub.status.idle": "2023-03-06T16:15:48.959545Z",
     "shell.execute_reply": "2023-03-06T16:15:48.959006Z"
    }
   },
   "outputs": [
    {
     "data": {
      "text/html": [
       "<div>\n",
       "<style scoped>\n",
       "    .dataframe tbody tr th:only-of-type {\n",
       "        vertical-align: middle;\n",
       "    }\n",
       "\n",
       "    .dataframe tbody tr th {\n",
       "        vertical-align: top;\n",
       "    }\n",
       "\n",
       "    .dataframe thead th {\n",
       "        text-align: right;\n",
       "    }\n",
       "</style>\n",
       "<table border=\"1\" class=\"dataframe\">\n",
       "  <thead>\n",
       "    <tr style=\"text-align: right;\">\n",
       "      <th></th>\n",
       "      <th>W0</th>\n",
       "      <th>v0</th>\n",
       "      <th>y</th>\n",
       "      <th>propensity_score</th>\n",
       "      <th>weight</th>\n",
       "    </tr>\n",
       "  </thead>\n",
       "  <tbody>\n",
       "    <tr>\n",
       "      <th>0</th>\n",
       "      <td>0.582254</td>\n",
       "      <td>True</td>\n",
       "      <td>4.907711</td>\n",
       "      <td>0.647255</td>\n",
       "      <td>1.544986</td>\n",
       "    </tr>\n",
       "    <tr>\n",
       "      <th>1</th>\n",
       "      <td>-0.332369</td>\n",
       "      <td>True</td>\n",
       "      <td>3.684002</td>\n",
       "      <td>0.401614</td>\n",
       "      <td>2.489951</td>\n",
       "    </tr>\n",
       "    <tr>\n",
       "      <th>2</th>\n",
       "      <td>-0.631366</td>\n",
       "      <td>True</td>\n",
       "      <td>4.129466</td>\n",
       "      <td>0.325738</td>\n",
       "      <td>3.069952</td>\n",
       "    </tr>\n",
       "    <tr>\n",
       "      <th>3</th>\n",
       "      <td>-1.058861</td>\n",
       "      <td>True</td>\n",
       "      <td>3.965716</td>\n",
       "      <td>0.231901</td>\n",
       "      <td>4.312186</td>\n",
       "    </tr>\n",
       "    <tr>\n",
       "      <th>4</th>\n",
       "      <td>-1.196271</td>\n",
       "      <td>True</td>\n",
       "      <td>3.783799</td>\n",
       "      <td>0.206082</td>\n",
       "      <td>4.852440</td>\n",
       "    </tr>\n",
       "    <tr>\n",
       "      <th>...</th>\n",
       "      <td>...</td>\n",
       "      <td>...</td>\n",
       "      <td>...</td>\n",
       "      <td>...</td>\n",
       "      <td>...</td>\n",
       "    </tr>\n",
       "    <tr>\n",
       "      <th>995</th>\n",
       "      <td>-0.668406</td>\n",
       "      <td>True</td>\n",
       "      <td>3.220468</td>\n",
       "      <td>0.316857</td>\n",
       "      <td>3.156002</td>\n",
       "    </tr>\n",
       "    <tr>\n",
       "      <th>996</th>\n",
       "      <td>0.551732</td>\n",
       "      <td>True</td>\n",
       "      <td>6.272883</td>\n",
       "      <td>0.639555</td>\n",
       "      <td>1.563588</td>\n",
       "    </tr>\n",
       "    <tr>\n",
       "      <th>997</th>\n",
       "      <td>-0.539608</td>\n",
       "      <td>True</td>\n",
       "      <td>4.717390</td>\n",
       "      <td>0.348276</td>\n",
       "      <td>2.871287</td>\n",
       "    </tr>\n",
       "    <tr>\n",
       "      <th>998</th>\n",
       "      <td>-0.621763</td>\n",
       "      <td>True</td>\n",
       "      <td>4.197982</td>\n",
       "      <td>0.328062</td>\n",
       "      <td>3.048209</td>\n",
       "    </tr>\n",
       "    <tr>\n",
       "      <th>999</th>\n",
       "      <td>-0.776307</td>\n",
       "      <td>True</td>\n",
       "      <td>2.874934</td>\n",
       "      <td>0.291749</td>\n",
       "      <td>3.427608</td>\n",
       "    </tr>\n",
       "  </tbody>\n",
       "</table>\n",
       "<p>1000 rows × 5 columns</p>\n",
       "</div>"
      ],
      "text/plain": [
       "           W0    v0         y  propensity_score    weight\n",
       "0    0.582254  True  4.907711          0.647255  1.544986\n",
       "1   -0.332369  True  3.684002          0.401614  2.489951\n",
       "2   -0.631366  True  4.129466          0.325738  3.069952\n",
       "3   -1.058861  True  3.965716          0.231901  4.312186\n",
       "4   -1.196271  True  3.783799          0.206082  4.852440\n",
       "..        ...   ...       ...               ...       ...\n",
       "995 -0.668406  True  3.220468          0.316857  3.156002\n",
       "996  0.551732  True  6.272883          0.639555  1.563588\n",
       "997 -0.539608  True  4.717390          0.348276  2.871287\n",
       "998 -0.621763  True  4.197982          0.328062  3.048209\n",
       "999 -0.776307  True  2.874934          0.291749  3.427608\n",
       "\n",
       "[1000 rows x 5 columns]"
      ]
     },
     "execution_count": 7,
     "metadata": {},
     "output_type": "execute_result"
    }
   ],
   "source": [
    "cdf_1"
   ]
  },
  {
   "cell_type": "markdown",
   "metadata": {},
   "source": [
    "## Comparing the estimate to Linear Regression\n",
    "First, estimating the effect using the causal data frame, and the 95% confidence interval."
   ]
  },
  {
   "cell_type": "code",
   "execution_count": 8,
   "metadata": {
    "execution": {
     "iopub.execute_input": "2023-03-06T16:15:48.962987Z",
     "iopub.status.busy": "2023-03-06T16:15:48.961816Z",
     "iopub.status.idle": "2023-03-06T16:15:49.020972Z",
     "shell.execute_reply": "2023-03-06T16:15:49.020379Z"
    }
   },
   "outputs": [
    {
     "data": {
      "image/png": "[encoded data removed]",
      "text/latex": [
       "$\\displaystyle 4.87858628581422$"
      ],
      "text/plain": [
       "4.87858628581422"
      ]
     },
     "execution_count": 8,
     "metadata": {},
     "output_type": "execute_result"
    }
   ],
   "source": [
    "(cdf_1['y'] - cdf_0['y']).mean()"
   ]
  },
  {
   "cell_type": "code",
   "execution_count": 9,
   "metadata": {
    "execution": {
     "iopub.execute_input": "2023-03-06T16:15:49.024223Z",
     "iopub.status.busy": "2023-03-06T16:15:49.023670Z",
     "iopub.status.idle": "2023-03-06T16:15:49.046060Z",
     "shell.execute_reply": "2023-03-06T16:15:49.045499Z"
    }
   },
   "outputs": [
    {
     "data": {
      "image/png": "[encoded data removed]",
      "text/latex": [
       "$\\displaystyle 0.141323719915401$"
      ],
      "text/plain": [
       "0.14132371991540146"
      ]
     },
     "execution_count": 9,
     "metadata": {},
     "output_type": "execute_result"
    }
   ],
   "source": [
    "1.96*(cdf_1['y'] - cdf_0['y']).std() / np.sqrt(len(df))"
   ]
  },
  {
   "cell_type": "markdown",
   "metadata": {},
   "source": [
    "Comparing to the estimate from OLS."
   ]
  },
  {
   "cell_type": "code",
   "execution_count": 10,
   "metadata": {
    "execution": {
     "iopub.execute_input": "2023-03-06T16:15:49.049047Z",
     "iopub.status.busy": "2023-03-06T16:15:49.048714Z",
     "iopub.status.idle": "2023-03-06T16:15:49.064121Z",
     "shell.execute_reply": "2023-03-06T16:15:49.063560Z"
    }
   },
   "outputs": [
    {
     "data": {
      "text/html": [
       "<table class=\"simpletable\">\n",
       "<caption>OLS Regression Results</caption>\n",
       "<tr>\n",
       "  <th>Dep. Variable:</th>            <td>y</td>        <th>  R-squared (uncentered):</th>      <td>   0.939</td>\n",
       "</tr>\n",
       "<tr>\n",
       "  <th>Model:</th>                   <td>OLS</td>       <th>  Adj. R-squared (uncentered):</th> <td>   0.939</td>\n",
       "</tr>\n",
       "<tr>\n",
       "  <th>Method:</th>             <td>Least Squares</td>  <th>  F-statistic:       </th>          <td>   7665.</td>\n",
       "</tr>\n",
       "<tr>\n",
       "  <th>Date:</th>             <td>Mon, 06 Mar 2023</td> <th>  Prob (F-statistic):</th>           <td>  0.00</td> \n",
       "</tr>\n",
       "<tr>\n",
       "  <th>Time:</th>                 <td>16:15:49</td>     <th>  Log-Likelihood:    </th>          <td> -1408.6</td>\n",
       "</tr>\n",
       "<tr>\n",
       "  <th>No. Observations:</th>      <td>  1000</td>      <th>  AIC:               </th>          <td>   2821.</td>\n",
       "</tr>\n",
       "<tr>\n",
       "  <th>Df Residuals:</th>          <td>   998</td>      <th>  BIC:               </th>          <td>   2831.</td>\n",
       "</tr>\n",
       "<tr>\n",
       "  <th>Df Model:</th>              <td>     2</td>      <th>                     </th>              <td> </td>   \n",
       "</tr>\n",
       "<tr>\n",
       "  <th>Covariance Type:</th>      <td>nonrobust</td>    <th>                     </th>              <td> </td>   \n",
       "</tr>\n",
       "</table>\n",
       "<table class=\"simpletable\">\n",
       "<tr>\n",
       "   <td></td>     <th>coef</th>     <th>std err</th>      <th>t</th>      <th>P>|t|</th>  <th>[0.025</th>    <th>0.975]</th>  \n",
       "</tr>\n",
       "<tr>\n",
       "  <th>x1</th> <td>    1.3326</td> <td>    0.032</td> <td>   41.457</td> <td> 0.000</td> <td>    1.270</td> <td>    1.396</td>\n",
       "</tr>\n",
       "<tr>\n",
       "  <th>x2</th> <td>    5.0118</td> <td>    0.047</td> <td>  105.759</td> <td> 0.000</td> <td>    4.919</td> <td>    5.105</td>\n",
       "</tr>\n",
       "</table>\n",
       "<table class=\"simpletable\">\n",
       "<tr>\n",
       "  <th>Omnibus:</th>       <td> 0.990</td> <th>  Durbin-Watson:     </th> <td>   2.015</td>\n",
       "</tr>\n",
       "<tr>\n",
       "  <th>Prob(Omnibus):</th> <td> 0.610</td> <th>  Jarque-Bera (JB):  </th> <td>   1.071</td>\n",
       "</tr>\n",
       "<tr>\n",
       "  <th>Skew:</th>          <td>-0.057</td> <th>  Prob(JB):          </th> <td>   0.585</td>\n",
       "</tr>\n",
       "<tr>\n",
       "  <th>Kurtosis:</th>      <td> 2.887</td> <th>  Cond. No.          </th> <td>    1.56</td>\n",
       "</tr>\n",
       "</table><br/><br/>Notes:<br/>[1] R² is computed without centering (uncentered) since the model does not contain a constant.<br/>[2] Standard Errors assume that the covariance matrix of the errors is correctly specified."
      ],
      "text/plain": [
       "<class 'statsmodels.iolib.summary.Summary'>\n",
       "\"\"\"\n",
       "                                 OLS Regression Results                                \n",
       "=======================================================================================\n",
       "Dep. Variable:                      y   R-squared (uncentered):                   0.939\n",
       "Model:                            OLS   Adj. R-squared (uncentered):              0.939\n",
       "Method:                 Least Squares   F-statistic:                              7665.\n",
       "Date:                Mon, 06 Mar 2023   Prob (F-statistic):                        0.00\n",
       "Time:                        16:15:49   Log-Likelihood:                         -1408.6\n",
       "No. Observations:                1000   AIC:                                      2821.\n",
       "Df Residuals:                     998   BIC:                                      2831.\n",
       "Df Model:                           2                                                  \n",
       "Covariance Type:            nonrobust                                                  \n",
       "==============================================================================\n",
       "                 coef    std err          t      P>|t|      [0.025      0.975]\n",
       "------------------------------------------------------------------------------\n",
       "x1             1.3326      0.032     41.457      0.000       1.270       1.396\n",
       "x2             5.0118      0.047    105.759      0.000       4.919       5.105\n",
       "==============================================================================\n",
       "Omnibus:                        0.990   Durbin-Watson:                   2.015\n",
       "Prob(Omnibus):                  0.610   Jarque-Bera (JB):                1.071\n",
       "Skew:                          -0.057   Prob(JB):                        0.585\n",
       "Kurtosis:                       2.887   Cond. No.                         1.56\n",
       "==============================================================================\n",
       "\n",
       "Notes:\n",
       "[1] R² is computed without centering (uncentered) since the model does not contain a constant.\n",
       "[2] Standard Errors assume that the covariance matrix of the errors is correctly specified.\n",
       "\"\"\""
      ]
     },
     "execution_count": 10,
     "metadata": {},
     "output_type": "execute_result"
    }
   ],
   "source": [
    "model = OLS(np.asarray(df[outcome]), np.asarray(df[[common_cause, treatment]], dtype=np.float64))\n",
    "result = model.fit()\n",
    "result.summary()"
   ]
  }
 ],
 "metadata": {
  "kernelspec": {
   "display_name": "Python 3",
   "language": "python",
   "name": "python3"
  },
  "language_info": {
   "codemirror_mode": {
    "name": "ipython",
    "version": 3
   },
   "file_extension": ".py",
   "mimetype": "text/x-python",
   "name": "python",
   "nbconvert_exporter": "python",
   "pygments_lexer": "ipython3",
   "version": "3.8.10"
  },
  "toc": {
   "base_numbering": 1,
   "nav_menu": {},
   "number_sections": false,
   "sideBar": true,
   "skip_h1_title": true,
   "title_cell": "Table of Contents",
   "title_sidebar": "Contents",
   "toc_cell": false,
   "toc_position": {},
   "toc_section_display": true,
   "toc_window_display": false
  }
 },
 "nbformat": 4,
 "nbformat_minor": 4
}
