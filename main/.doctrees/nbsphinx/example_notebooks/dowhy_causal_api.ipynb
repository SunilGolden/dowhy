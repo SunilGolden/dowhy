{
 "cells": [
  {
   "cell_type": "markdown",
   "metadata": {},
   "source": [
    "# Demo for the DoWhy causal API\n",
    "We show a simple example of adding a causal extension to any dataframe. "
   ]
  },
  {
   "cell_type": "code",
   "execution_count": 1,
   "metadata": {
    "execution": {
     "iopub.execute_input": "2023-09-27T18:44:59.425953Z",
     "iopub.status.busy": "2023-09-27T18:44:59.425649Z",
     "iopub.status.idle": "2023-09-27T18:45:01.731866Z",
     "shell.execute_reply": "2023-09-27T18:45:01.730788Z"
    }
   },
   "outputs": [],
   "source": [
    "import dowhy.datasets\n",
    "import dowhy.api\n",
    "\n",
    "import numpy as np\n",
    "import pandas as pd\n",
    "\n",
    "from statsmodels.api import OLS"
   ]
  },
  {
   "cell_type": "code",
   "execution_count": 2,
   "metadata": {
    "execution": {
     "iopub.execute_input": "2023-09-27T18:45:01.737065Z",
     "iopub.status.busy": "2023-09-27T18:45:01.736074Z",
     "iopub.status.idle": "2023-09-27T18:45:01.809738Z",
     "shell.execute_reply": "2023-09-27T18:45:01.808807Z"
    }
   },
   "outputs": [
    {
     "data": {
      "text/html": [
       "<div>\n",
       "<style scoped>\n",
       "    .dataframe tbody tr th:only-of-type {\n",
       "        vertical-align: middle;\n",
       "    }\n",
       "\n",
       "    .dataframe tbody tr th {\n",
       "        vertical-align: top;\n",
       "    }\n",
       "\n",
       "    .dataframe thead th {\n",
       "        text-align: right;\n",
       "    }\n",
       "</style>\n",
       "<table border=\"1\" class=\"dataframe\">\n",
       "  <thead>\n",
       "    <tr style=\"text-align: right;\">\n",
       "      <th></th>\n",
       "      <th>W0</th>\n",
       "      <th>v0</th>\n",
       "      <th>y</th>\n",
       "    </tr>\n",
       "  </thead>\n",
       "  <tbody>\n",
       "    <tr>\n",
       "      <th>0</th>\n",
       "      <td>0.263813</td>\n",
       "      <td>True</td>\n",
       "      <td>6.285923</td>\n",
       "    </tr>\n",
       "    <tr>\n",
       "      <th>1</th>\n",
       "      <td>-0.328853</td>\n",
       "      <td>False</td>\n",
       "      <td>-1.866068</td>\n",
       "    </tr>\n",
       "    <tr>\n",
       "      <th>2</th>\n",
       "      <td>-0.772875</td>\n",
       "      <td>False</td>\n",
       "      <td>-1.049072</td>\n",
       "    </tr>\n",
       "    <tr>\n",
       "      <th>3</th>\n",
       "      <td>0.359333</td>\n",
       "      <td>False</td>\n",
       "      <td>0.619850</td>\n",
       "    </tr>\n",
       "    <tr>\n",
       "      <th>4</th>\n",
       "      <td>-0.224268</td>\n",
       "      <td>False</td>\n",
       "      <td>0.726124</td>\n",
       "    </tr>\n",
       "    <tr>\n",
       "      <th>...</th>\n",
       "      <td>...</td>\n",
       "      <td>...</td>\n",
       "      <td>...</td>\n",
       "    </tr>\n",
       "    <tr>\n",
       "      <th>995</th>\n",
       "      <td>-0.906986</td>\n",
       "      <td>False</td>\n",
       "      <td>-0.952984</td>\n",
       "    </tr>\n",
       "    <tr>\n",
       "      <th>996</th>\n",
       "      <td>-0.809251</td>\n",
       "      <td>True</td>\n",
       "      <td>3.329172</td>\n",
       "    </tr>\n",
       "    <tr>\n",
       "      <th>997</th>\n",
       "      <td>-1.757487</td>\n",
       "      <td>False</td>\n",
       "      <td>-3.550598</td>\n",
       "    </tr>\n",
       "    <tr>\n",
       "      <th>998</th>\n",
       "      <td>-0.719413</td>\n",
       "      <td>False</td>\n",
       "      <td>-1.864781</td>\n",
       "    </tr>\n",
       "    <tr>\n",
       "      <th>999</th>\n",
       "      <td>0.545390</td>\n",
       "      <td>True</td>\n",
       "      <td>7.182669</td>\n",
       "    </tr>\n",
       "  </tbody>\n",
       "</table>\n",
       "<p>1000 rows × 3 columns</p>\n",
       "</div>"
      ],
      "text/plain": [
       "           W0     v0         y\n",
       "0    0.263813   True  6.285923\n",
       "1   -0.328853  False -1.866068\n",
       "2   -0.772875  False -1.049072\n",
       "3    0.359333  False  0.619850\n",
       "4   -0.224268  False  0.726124\n",
       "..        ...    ...       ...\n",
       "995 -0.906986  False -0.952984\n",
       "996 -0.809251   True  3.329172\n",
       "997 -1.757487  False -3.550598\n",
       "998 -0.719413  False -1.864781\n",
       "999  0.545390   True  7.182669\n",
       "\n",
       "[1000 rows x 3 columns]"
      ]
     },
     "execution_count": 2,
     "metadata": {},
     "output_type": "execute_result"
    }
   ],
   "source": [
    "data = dowhy.datasets.linear_dataset(beta=5,\n",
    "        num_common_causes=1,\n",
    "        num_instruments = 0,\n",
    "        num_samples=1000,\n",
    "        treatment_is_binary=True)\n",
    "df = data['df']\n",
    "df['y'] = df['y'] + np.random.normal(size=len(df)) # Adding noise to data. Without noise, the variance in Y|X, Z is zero, and mcmc fails.\n",
    "#data['dot_graph'] = 'digraph { v ->y;X0-> v;X0-> y;}'\n",
    "\n",
    "treatment= data[\"treatment_name\"][0]\n",
    "outcome = data[\"outcome_name\"][0]\n",
    "common_cause = data[\"common_causes_names\"][0]\n",
    "df"
   ]
  },
  {
   "cell_type": "code",
   "execution_count": 3,
   "metadata": {
    "execution": {
     "iopub.execute_input": "2023-09-27T18:45:01.814742Z",
     "iopub.status.busy": "2023-09-27T18:45:01.814431Z",
     "iopub.status.idle": "2023-09-27T18:45:02.131978Z",
     "shell.execute_reply": "2023-09-27T18:45:02.131038Z"
    }
   },
   "outputs": [
    {
     "data": {
      "text/plain": [
       "<Axes: xlabel='v0'>"
      ]
     },
     "execution_count": 3,
     "metadata": {},
     "output_type": "execute_result"
    },
    {
     "data": {
      "image/png": "[encoded data removed]",
      "text/plain": [
       "<Figure size 640x480 with 1 Axes>"
      ]
     },
     "metadata": {},
     "output_type": "display_data"
    }
   ],
   "source": [
    "# data['df'] is just a regular pandas.DataFrame\n",
    "df.causal.do(x=treatment,\n",
    "                     variable_types={treatment: 'b', outcome: 'c', common_cause: 'c'},\n",
    "                     outcome=outcome,\n",
    "                     common_causes=[common_cause],\n",
    "                     proceed_when_unidentifiable=True).groupby(treatment).mean().plot(y=outcome, kind='bar')"
   ]
  },
  {
   "cell_type": "code",
   "execution_count": 4,
   "metadata": {
    "execution": {
     "iopub.execute_input": "2023-09-27T18:45:02.136049Z",
     "iopub.status.busy": "2023-09-27T18:45:02.135712Z",
     "iopub.status.idle": "2023-09-27T18:45:02.368797Z",
     "shell.execute_reply": "2023-09-27T18:45:02.367866Z"
    }
   },
   "outputs": [
    {
     "data": {
      "text/plain": [
       "<Axes: xlabel='v0'>"
      ]
     },
     "execution_count": 4,
     "metadata": {},
     "output_type": "execute_result"
    },
    {
     "data": {
      "image/png": "[encoded data removed]",
      "text/plain": [
       "<Figure size 640x480 with 1 Axes>"
      ]
     },
     "metadata": {},
     "output_type": "display_data"
    }
   ],
   "source": [
    "df.causal.do(x={treatment: 1}, \n",
    "              variable_types={treatment:'b', outcome: 'c', common_cause: 'c'}, \n",
    "              outcome=outcome,\n",
    "              method='weighting', \n",
    "              common_causes=[common_cause],\n",
    "              proceed_when_unidentifiable=True).groupby(treatment).mean().plot(y=outcome, kind='bar')"
   ]
  },
  {
   "cell_type": "code",
   "execution_count": 5,
   "metadata": {
    "execution": {
     "iopub.execute_input": "2023-09-27T18:45:02.372948Z",
     "iopub.status.busy": "2023-09-27T18:45:02.372184Z",
     "iopub.status.idle": "2023-09-27T18:45:02.422528Z",
     "shell.execute_reply": "2023-09-27T18:45:02.421491Z"
    }
   },
   "outputs": [],
   "source": [
    "cdf_1 = df.causal.do(x={treatment: 1}, \n",
    "              variable_types={treatment: 'b', outcome: 'c', common_cause: 'c'}, \n",
    "              outcome=outcome, \n",
    "              dot_graph=data['dot_graph'],\n",
    "              proceed_when_unidentifiable=True)\n",
    "\n",
    "cdf_0 = df.causal.do(x={treatment: 0}, \n",
    "              variable_types={treatment: 'b', outcome: 'c', common_cause: 'c'}, \n",
    "              outcome=outcome, \n",
    "              dot_graph=data['dot_graph'],\n",
    "              proceed_when_unidentifiable=True)\n"
   ]
  },
  {
   "cell_type": "code",
   "execution_count": 6,
   "metadata": {
    "execution": {
     "iopub.execute_input": "2023-09-27T18:45:02.427802Z",
     "iopub.status.busy": "2023-09-27T18:45:02.427364Z",
     "iopub.status.idle": "2023-09-27T18:45:02.445197Z",
     "shell.execute_reply": "2023-09-27T18:45:02.444307Z"
    },
    "scrolled": true
   },
   "outputs": [
    {
     "data": {
      "text/html": [
       "<div>\n",
       "<style scoped>\n",
       "    .dataframe tbody tr th:only-of-type {\n",
       "        vertical-align: middle;\n",
       "    }\n",
       "\n",
       "    .dataframe tbody tr th {\n",
       "        vertical-align: top;\n",
       "    }\n",
       "\n",
       "    .dataframe thead th {\n",
       "        text-align: right;\n",
       "    }\n",
       "</style>\n",
       "<table border=\"1\" class=\"dataframe\">\n",
       "  <thead>\n",
       "    <tr style=\"text-align: right;\">\n",
       "      <th></th>\n",
       "      <th>W0</th>\n",
       "      <th>v0</th>\n",
       "      <th>y</th>\n",
       "      <th>propensity_score</th>\n",
       "      <th>weight</th>\n",
       "    </tr>\n",
       "  </thead>\n",
       "  <tbody>\n",
       "    <tr>\n",
       "      <th>0</th>\n",
       "      <td>-1.757807</td>\n",
       "      <td>False</td>\n",
       "      <td>-3.010976</td>\n",
       "      <td>0.987995</td>\n",
       "      <td>1.012151</td>\n",
       "    </tr>\n",
       "    <tr>\n",
       "      <th>1</th>\n",
       "      <td>-0.866473</td>\n",
       "      <td>False</td>\n",
       "      <td>-2.186977</td>\n",
       "      <td>0.900354</td>\n",
       "      <td>1.110674</td>\n",
       "    </tr>\n",
       "    <tr>\n",
       "      <th>2</th>\n",
       "      <td>-1.858548</td>\n",
       "      <td>False</td>\n",
       "      <td>-3.942142</td>\n",
       "      <td>0.990623</td>\n",
       "      <td>1.009466</td>\n",
       "    </tr>\n",
       "    <tr>\n",
       "      <th>3</th>\n",
       "      <td>-0.740583</td>\n",
       "      <td>False</td>\n",
       "      <td>-1.892511</td>\n",
       "      <td>0.868659</td>\n",
       "      <td>1.151200</td>\n",
       "    </tr>\n",
       "    <tr>\n",
       "      <th>4</th>\n",
       "      <td>-1.745268</td>\n",
       "      <td>False</td>\n",
       "      <td>-3.910923</td>\n",
       "      <td>0.987621</td>\n",
       "      <td>1.012535</td>\n",
       "    </tr>\n",
       "    <tr>\n",
       "      <th>...</th>\n",
       "      <td>...</td>\n",
       "      <td>...</td>\n",
       "      <td>...</td>\n",
       "      <td>...</td>\n",
       "      <td>...</td>\n",
       "    </tr>\n",
       "    <tr>\n",
       "      <th>995</th>\n",
       "      <td>-0.657671</td>\n",
       "      <td>False</td>\n",
       "      <td>-1.874827</td>\n",
       "      <td>0.843387</td>\n",
       "      <td>1.185695</td>\n",
       "    </tr>\n",
       "    <tr>\n",
       "      <th>996</th>\n",
       "      <td>-0.794280</td>\n",
       "      <td>False</td>\n",
       "      <td>-2.126688</td>\n",
       "      <td>0.883112</td>\n",
       "      <td>1.132359</td>\n",
       "    </tr>\n",
       "    <tr>\n",
       "      <th>997</th>\n",
       "      <td>-0.221608</td>\n",
       "      <td>False</td>\n",
       "      <td>-0.657293</td>\n",
       "      <td>0.646312</td>\n",
       "      <td>1.547239</td>\n",
       "    </tr>\n",
       "    <tr>\n",
       "      <th>998</th>\n",
       "      <td>-1.105091</td>\n",
       "      <td>False</td>\n",
       "      <td>-2.115664</td>\n",
       "      <td>0.942274</td>\n",
       "      <td>1.061263</td>\n",
       "    </tr>\n",
       "    <tr>\n",
       "      <th>999</th>\n",
       "      <td>-0.948536</td>\n",
       "      <td>False</td>\n",
       "      <td>-2.166665</td>\n",
       "      <td>0.917175</td>\n",
       "      <td>1.090305</td>\n",
       "    </tr>\n",
       "  </tbody>\n",
       "</table>\n",
       "<p>1000 rows × 5 columns</p>\n",
       "</div>"
      ],
      "text/plain": [
       "           W0     v0         y  propensity_score    weight\n",
       "0   -1.757807  False -3.010976          0.987995  1.012151\n",
       "1   -0.866473  False -2.186977          0.900354  1.110674\n",
       "2   -1.858548  False -3.942142          0.990623  1.009466\n",
       "3   -0.740583  False -1.892511          0.868659  1.151200\n",
       "4   -1.745268  False -3.910923          0.987621  1.012535\n",
       "..        ...    ...       ...               ...       ...\n",
       "995 -0.657671  False -1.874827          0.843387  1.185695\n",
       "996 -0.794280  False -2.126688          0.883112  1.132359\n",
       "997 -0.221608  False -0.657293          0.646312  1.547239\n",
       "998 -1.105091  False -2.115664          0.942274  1.061263\n",
       "999 -0.948536  False -2.166665          0.917175  1.090305\n",
       "\n",
       "[1000 rows x 5 columns]"
      ]
     },
     "execution_count": 6,
     "metadata": {},
     "output_type": "execute_result"
    }
   ],
   "source": [
    "cdf_0"
   ]
  },
  {
   "cell_type": "code",
   "execution_count": 7,
   "metadata": {
    "execution": {
     "iopub.execute_input": "2023-09-27T18:45:02.449217Z",
     "iopub.status.busy": "2023-09-27T18:45:02.448900Z",
     "iopub.status.idle": "2023-09-27T18:45:02.468401Z",
     "shell.execute_reply": "2023-09-27T18:45:02.467272Z"
    }
   },
   "outputs": [
    {
     "data": {
      "text/html": [
       "<div>\n",
       "<style scoped>\n",
       "    .dataframe tbody tr th:only-of-type {\n",
       "        vertical-align: middle;\n",
       "    }\n",
       "\n",
       "    .dataframe tbody tr th {\n",
       "        vertical-align: top;\n",
       "    }\n",
       "\n",
       "    .dataframe thead th {\n",
       "        text-align: right;\n",
       "    }\n",
       "</style>\n",
       "<table border=\"1\" class=\"dataframe\">\n",
       "  <thead>\n",
       "    <tr style=\"text-align: right;\">\n",
       "      <th></th>\n",
       "      <th>W0</th>\n",
       "      <th>v0</th>\n",
       "      <th>y</th>\n",
       "      <th>propensity_score</th>\n",
       "      <th>weight</th>\n",
       "    </tr>\n",
       "  </thead>\n",
       "  <tbody>\n",
       "    <tr>\n",
       "      <th>0</th>\n",
       "      <td>-1.050783</td>\n",
       "      <td>True</td>\n",
       "      <td>2.731076</td>\n",
       "      <td>0.065499</td>\n",
       "      <td>15.267465</td>\n",
       "    </tr>\n",
       "    <tr>\n",
       "      <th>1</th>\n",
       "      <td>-0.985130</td>\n",
       "      <td>True</td>\n",
       "      <td>1.788999</td>\n",
       "      <td>0.076191</td>\n",
       "      <td>13.124875</td>\n",
       "    </tr>\n",
       "    <tr>\n",
       "      <th>2</th>\n",
       "      <td>-0.108416</td>\n",
       "      <td>True</td>\n",
       "      <td>4.695585</td>\n",
       "      <td>0.420110</td>\n",
       "      <td>2.380329</td>\n",
       "    </tr>\n",
       "    <tr>\n",
       "      <th>3</th>\n",
       "      <td>-0.687421</td>\n",
       "      <td>True</td>\n",
       "      <td>4.199729</td>\n",
       "      <td>0.147118</td>\n",
       "      <td>6.797267</td>\n",
       "    </tr>\n",
       "    <tr>\n",
       "      <th>4</th>\n",
       "      <td>-0.088429</td>\n",
       "      <td>True</td>\n",
       "      <td>5.386992</td>\n",
       "      <td>0.432224</td>\n",
       "      <td>2.313616</td>\n",
       "    </tr>\n",
       "    <tr>\n",
       "      <th>...</th>\n",
       "      <td>...</td>\n",
       "      <td>...</td>\n",
       "      <td>...</td>\n",
       "      <td>...</td>\n",
       "      <td>...</td>\n",
       "    </tr>\n",
       "    <tr>\n",
       "      <th>995</th>\n",
       "      <td>-1.434368</td>\n",
       "      <td>True</td>\n",
       "      <td>1.528782</td>\n",
       "      <td>0.026373</td>\n",
       "      <td>37.917899</td>\n",
       "    </tr>\n",
       "    <tr>\n",
       "      <th>996</th>\n",
       "      <td>-0.689510</td>\n",
       "      <td>True</td>\n",
       "      <td>3.494614</td>\n",
       "      <td>0.146469</td>\n",
       "      <td>6.827374</td>\n",
       "    </tr>\n",
       "    <tr>\n",
       "      <th>997</th>\n",
       "      <td>-0.080110</td>\n",
       "      <td>True</td>\n",
       "      <td>4.474811</td>\n",
       "      <td>0.437290</td>\n",
       "      <td>2.286810</td>\n",
       "    </tr>\n",
       "    <tr>\n",
       "      <th>998</th>\n",
       "      <td>-1.142451</td>\n",
       "      <td>True</td>\n",
       "      <td>3.025472</td>\n",
       "      <td>0.052891</td>\n",
       "      <td>18.906792</td>\n",
       "    </tr>\n",
       "    <tr>\n",
       "      <th>999</th>\n",
       "      <td>-1.236739</td>\n",
       "      <td>True</td>\n",
       "      <td>4.024333</td>\n",
       "      <td>0.042335</td>\n",
       "      <td>23.620874</td>\n",
       "    </tr>\n",
       "  </tbody>\n",
       "</table>\n",
       "<p>1000 rows × 5 columns</p>\n",
       "</div>"
      ],
      "text/plain": [
       "           W0    v0         y  propensity_score     weight\n",
       "0   -1.050783  True  2.731076          0.065499  15.267465\n",
       "1   -0.985130  True  1.788999          0.076191  13.124875\n",
       "2   -0.108416  True  4.695585          0.420110   2.380329\n",
       "3   -0.687421  True  4.199729          0.147118   6.797267\n",
       "4   -0.088429  True  5.386992          0.432224   2.313616\n",
       "..        ...   ...       ...               ...        ...\n",
       "995 -1.434368  True  1.528782          0.026373  37.917899\n",
       "996 -0.689510  True  3.494614          0.146469   6.827374\n",
       "997 -0.080110  True  4.474811          0.437290   2.286810\n",
       "998 -1.142451  True  3.025472          0.052891  18.906792\n",
       "999 -1.236739  True  4.024333          0.042335  23.620874\n",
       "\n",
       "[1000 rows x 5 columns]"
      ]
     },
     "execution_count": 7,
     "metadata": {},
     "output_type": "execute_result"
    }
   ],
   "source": [
    "cdf_1"
   ]
  },
  {
   "cell_type": "markdown",
   "metadata": {},
   "source": [
    "## Comparing the estimate to Linear Regression\n",
    "First, estimating the effect using the causal data frame, and the 95% confidence interval."
   ]
  },
  {
   "cell_type": "code",
   "execution_count": 8,
   "metadata": {
    "execution": {
     "iopub.execute_input": "2023-09-27T18:45:02.472939Z",
     "iopub.status.busy": "2023-09-27T18:45:02.472552Z",
     "iopub.status.idle": "2023-09-27T18:45:02.552116Z",
     "shell.execute_reply": "2023-09-27T18:45:02.550997Z"
    }
   },
   "outputs": [
    {
     "data": {
      "image/png": "[encoded data removed]",
      "text/latex": [
       "$\\displaystyle 5.54388034738822$"
      ],
      "text/plain": [
       "5.543880347388219"
      ]
     },
     "execution_count": 8,
     "metadata": {},
     "output_type": "execute_result"
    }
   ],
   "source": [
    "(cdf_1['y'] - cdf_0['y']).mean()"
   ]
  },
  {
   "cell_type": "code",
   "execution_count": 9,
   "metadata": {
    "execution": {
     "iopub.execute_input": "2023-09-27T18:45:02.555958Z",
     "iopub.status.busy": "2023-09-27T18:45:02.555628Z",
     "iopub.status.idle": "2023-09-27T18:45:02.592585Z",
     "shell.execute_reply": "2023-09-27T18:45:02.591495Z"
    }
   },
   "outputs": [
    {
     "data": {
      "image/png": "[encoded data removed]",
      "text/latex": [
       "$\\displaystyle 0.190256549676531$"
      ],
      "text/plain": [
       "0.19025654967653105"
      ]
     },
     "execution_count": 9,
     "metadata": {},
     "output_type": "execute_result"
    }
   ],
   "source": [
    "1.96*(cdf_1['y'] - cdf_0['y']).std() / np.sqrt(len(df))"
   ]
  },
  {
   "cell_type": "markdown",
   "metadata": {},
   "source": [
    "Comparing to the estimate from OLS."
   ]
  },
  {
   "cell_type": "code",
   "execution_count": 10,
   "metadata": {
    "execution": {
     "iopub.execute_input": "2023-09-27T18:45:02.596878Z",
     "iopub.status.busy": "2023-09-27T18:45:02.596578Z",
     "iopub.status.idle": "2023-09-27T18:45:02.628452Z",
     "shell.execute_reply": "2023-09-27T18:45:02.627372Z"
    }
   },
   "outputs": [
    {
     "data": {
      "text/html": [
       "<table class=\"simpletable\">\n",
       "<caption>OLS Regression Results</caption>\n",
       "<tr>\n",
       "  <th>Dep. Variable:</th>            <td>y</td>        <th>  R-squared (uncentered):</th>      <td>   0.936</td>\n",
       "</tr>\n",
       "<tr>\n",
       "  <th>Model:</th>                   <td>OLS</td>       <th>  Adj. R-squared (uncentered):</th> <td>   0.936</td>\n",
       "</tr>\n",
       "<tr>\n",
       "  <th>Method:</th>             <td>Least Squares</td>  <th>  F-statistic:       </th>          <td>   7311.</td>\n",
       "</tr>\n",
       "<tr>\n",
       "  <th>Date:</th>             <td>Wed, 27 Sep 2023</td> <th>  Prob (F-statistic):</th>           <td>  0.00</td> \n",
       "</tr>\n",
       "<tr>\n",
       "  <th>Time:</th>                 <td>18:45:02</td>     <th>  Log-Likelihood:    </th>          <td> -1426.8</td>\n",
       "</tr>\n",
       "<tr>\n",
       "  <th>No. Observations:</th>      <td>  1000</td>      <th>  AIC:               </th>          <td>   2858.</td>\n",
       "</tr>\n",
       "<tr>\n",
       "  <th>Df Residuals:</th>          <td>   998</td>      <th>  BIC:               </th>          <td>   2867.</td>\n",
       "</tr>\n",
       "<tr>\n",
       "  <th>Df Model:</th>              <td>     2</td>      <th>                     </th>              <td> </td>   \n",
       "</tr>\n",
       "<tr>\n",
       "  <th>Covariance Type:</th>      <td>nonrobust</td>    <th>                     </th>              <td> </td>   \n",
       "</tr>\n",
       "</table>\n",
       "<table class=\"simpletable\">\n",
       "<tr>\n",
       "   <td></td>     <th>coef</th>     <th>std err</th>      <th>t</th>      <th>P>|t|</th>  <th>[0.025</th>    <th>0.975]</th>  \n",
       "</tr>\n",
       "<tr>\n",
       "  <th>x1</th> <td>    2.0065</td> <td>    0.025</td> <td>   78.981</td> <td> 0.000</td> <td>    1.957</td> <td>    2.056</td>\n",
       "</tr>\n",
       "<tr>\n",
       "  <th>x2</th> <td>    5.0168</td> <td>    0.062</td> <td>   80.567</td> <td> 0.000</td> <td>    4.895</td> <td>    5.139</td>\n",
       "</tr>\n",
       "</table>\n",
       "<table class=\"simpletable\">\n",
       "<tr>\n",
       "  <th>Omnibus:</th>       <td> 0.054</td> <th>  Durbin-Watson:     </th> <td>   1.979</td>\n",
       "</tr>\n",
       "<tr>\n",
       "  <th>Prob(Omnibus):</th> <td> 0.974</td> <th>  Jarque-Bera (JB):  </th> <td>   0.030</td>\n",
       "</tr>\n",
       "<tr>\n",
       "  <th>Skew:</th>          <td>-0.013</td> <th>  Prob(JB):          </th> <td>   0.985</td>\n",
       "</tr>\n",
       "<tr>\n",
       "  <th>Kurtosis:</th>      <td> 3.007</td> <th>  Cond. No.          </th> <td>    2.48</td>\n",
       "</tr>\n",
       "</table><br/><br/>Notes:<br/>[1] R² is computed without centering (uncentered) since the model does not contain a constant.<br/>[2] Standard Errors assume that the covariance matrix of the errors is correctly specified."
      ],
      "text/latex": [
       "\\begin{center}\n",
       "\\begin{tabular}{lclc}\n",
       "\\toprule\n",
       "\\textbf{Dep. Variable:}    &        y         & \\textbf{  R-squared (uncentered):}      &     0.936   \\\\\n",
       "\\textbf{Model:}            &       OLS        & \\textbf{  Adj. R-squared (uncentered):} &     0.936   \\\\\n",
       "\\textbf{Method:}           &  Least Squares   & \\textbf{  F-statistic:       }          &     7311.   \\\\\n",
       "\\textbf{Date:}             & Wed, 27 Sep 2023 & \\textbf{  Prob (F-statistic):}          &     0.00    \\\\\n",
       "\\textbf{Time:}             &     18:45:02     & \\textbf{  Log-Likelihood:    }          &   -1426.8   \\\\\n",
       "\\textbf{No. Observations:} &        1000      & \\textbf{  AIC:               }          &     2858.   \\\\\n",
       "\\textbf{Df Residuals:}     &         998      & \\textbf{  BIC:               }          &     2867.   \\\\\n",
       "\\textbf{Df Model:}         &           2      & \\textbf{                     }          &             \\\\\n",
       "\\textbf{Covariance Type:}  &    nonrobust     & \\textbf{                     }          &             \\\\\n",
       "\\bottomrule\n",
       "\\end{tabular}\n",
       "\\begin{tabular}{lcccccc}\n",
       "            & \\textbf{coef} & \\textbf{std err} & \\textbf{t} & \\textbf{P$> |$t$|$} & \\textbf{[0.025} & \\textbf{0.975]}  \\\\\n",
       "\\midrule\n",
       "\\textbf{x1} &       2.0065  &        0.025     &    78.981  &         0.000        &        1.957    &        2.056     \\\\\n",
       "\\textbf{x2} &       5.0168  &        0.062     &    80.567  &         0.000        &        4.895    &        5.139     \\\\\n",
       "\\bottomrule\n",
       "\\end{tabular}\n",
       "\\begin{tabular}{lclc}\n",
       "\\textbf{Omnibus:}       &  0.054 & \\textbf{  Durbin-Watson:     } &    1.979  \\\\\n",
       "\\textbf{Prob(Omnibus):} &  0.974 & \\textbf{  Jarque-Bera (JB):  } &    0.030  \\\\\n",
       "\\textbf{Skew:}          & -0.013 & \\textbf{  Prob(JB):          } &    0.985  \\\\\n",
       "\\textbf{Kurtosis:}      &  3.007 & \\textbf{  Cond. No.          } &     2.48  \\\\\n",
       "\\bottomrule\n",
       "\\end{tabular}\n",
       "%\\caption{OLS Regression Results}\n",
       "\\end{center}\n",
       "\n",
       "Notes: \\newline\n",
       " [1] R² is computed without centering (uncentered) since the model does not contain a constant. \\newline\n",
       " [2] Standard Errors assume that the covariance matrix of the errors is correctly specified."
      ],
      "text/plain": [
       "<class 'statsmodels.iolib.summary.Summary'>\n",
       "\"\"\"\n",
       "                                 OLS Regression Results                                \n",
       "=======================================================================================\n",
       "Dep. Variable:                      y   R-squared (uncentered):                   0.936\n",
       "Model:                            OLS   Adj. R-squared (uncentered):              0.936\n",
       "Method:                 Least Squares   F-statistic:                              7311.\n",
       "Date:                Wed, 27 Sep 2023   Prob (F-statistic):                        0.00\n",
       "Time:                        18:45:02   Log-Likelihood:                         -1426.8\n",
       "No. Observations:                1000   AIC:                                      2858.\n",
       "Df Residuals:                     998   BIC:                                      2867.\n",
       "Df Model:                           2                                                  \n",
       "Covariance Type:            nonrobust                                                  \n",
       "==============================================================================\n",
       "                 coef    std err          t      P>|t|      [0.025      0.975]\n",
       "------------------------------------------------------------------------------\n",
       "x1             2.0065      0.025     78.981      0.000       1.957       2.056\n",
       "x2             5.0168      0.062     80.567      0.000       4.895       5.139\n",
       "==============================================================================\n",
       "Omnibus:                        0.054   Durbin-Watson:                   1.979\n",
       "Prob(Omnibus):                  0.974   Jarque-Bera (JB):                0.030\n",
       "Skew:                          -0.013   Prob(JB):                        0.985\n",
       "Kurtosis:                       3.007   Cond. No.                         2.48\n",
       "==============================================================================\n",
       "\n",
       "Notes:\n",
       "[1] R² is computed without centering (uncentered) since the model does not contain a constant.\n",
       "[2] Standard Errors assume that the covariance matrix of the errors is correctly specified.\n",
       "\"\"\""
      ]
     },
     "execution_count": 10,
     "metadata": {},
     "output_type": "execute_result"
    }
   ],
   "source": [
    "model = OLS(np.asarray(df[outcome]), np.asarray(df[[common_cause, treatment]], dtype=np.float64))\n",
    "result = model.fit()\n",
    "result.summary()"
   ]
  }
 ],
 "metadata": {
  "kernelspec": {
   "display_name": "Python 3",
   "language": "python",
   "name": "python3"
  },
  "language_info": {
   "codemirror_mode": {
    "name": "ipython",
    "version": 3
   },
   "file_extension": ".py",
   "mimetype": "text/x-python",
   "name": "python",
   "nbconvert_exporter": "python",
   "pygments_lexer": "ipython3",
   "version": "3.8.10"
  },
  "toc": {
   "base_numbering": 1,
   "nav_menu": {},
   "number_sections": false,
   "sideBar": true,
   "skip_h1_title": true,
   "title_cell": "Table of Contents",
   "title_sidebar": "Contents",
   "toc_cell": false,
   "toc_position": {},
   "toc_section_display": true,
   "toc_window_display": false
  }
 },
 "nbformat": 4,
 "nbformat_minor": 4
}
