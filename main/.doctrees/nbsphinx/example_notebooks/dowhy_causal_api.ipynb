{
 "cells": [
  {
   "cell_type": "markdown",
   "metadata": {},
   "source": [
    "# Demo for the DoWhy causal API\n",
    "We show a simple example of adding a causal extension to any dataframe. "
   ]
  },
  {
   "cell_type": "code",
   "execution_count": 1,
   "metadata": {
    "execution": {
     "iopub.execute_input": "2023-03-31T15:48:36.899384Z",
     "iopub.status.busy": "2023-03-31T15:48:36.898916Z",
     "iopub.status.idle": "2023-03-31T15:48:39.120115Z",
     "shell.execute_reply": "2023-03-31T15:48:39.119078Z"
    }
   },
   "outputs": [],
   "source": [
    "import dowhy.datasets\n",
    "import dowhy.api\n",
    "\n",
    "import numpy as np\n",
    "import pandas as pd\n",
    "\n",
    "from statsmodels.api import OLS"
   ]
  },
  {
   "cell_type": "code",
   "execution_count": 2,
   "metadata": {
    "execution": {
     "iopub.execute_input": "2023-03-31T15:48:39.124314Z",
     "iopub.status.busy": "2023-03-31T15:48:39.123673Z",
     "iopub.status.idle": "2023-03-31T15:48:39.189492Z",
     "shell.execute_reply": "2023-03-31T15:48:39.188618Z"
    }
   },
   "outputs": [
    {
     "data": {
      "text/html": [
       "<div>\n",
       "<style scoped>\n",
       "    .dataframe tbody tr th:only-of-type {\n",
       "        vertical-align: middle;\n",
       "    }\n",
       "\n",
       "    .dataframe tbody tr th {\n",
       "        vertical-align: top;\n",
       "    }\n",
       "\n",
       "    .dataframe thead th {\n",
       "        text-align: right;\n",
       "    }\n",
       "</style>\n",
       "<table border=\"1\" class=\"dataframe\">\n",
       "  <thead>\n",
       "    <tr style=\"text-align: right;\">\n",
       "      <th></th>\n",
       "      <th>W0</th>\n",
       "      <th>v0</th>\n",
       "      <th>y</th>\n",
       "    </tr>\n",
       "  </thead>\n",
       "  <tbody>\n",
       "    <tr>\n",
       "      <th>0</th>\n",
       "      <td>-0.645894</td>\n",
       "      <td>False</td>\n",
       "      <td>-0.817237</td>\n",
       "    </tr>\n",
       "    <tr>\n",
       "      <th>1</th>\n",
       "      <td>0.609774</td>\n",
       "      <td>True</td>\n",
       "      <td>5.597123</td>\n",
       "    </tr>\n",
       "    <tr>\n",
       "      <th>2</th>\n",
       "      <td>-1.053980</td>\n",
       "      <td>True</td>\n",
       "      <td>3.492926</td>\n",
       "    </tr>\n",
       "    <tr>\n",
       "      <th>3</th>\n",
       "      <td>-0.671034</td>\n",
       "      <td>True</td>\n",
       "      <td>4.483084</td>\n",
       "    </tr>\n",
       "    <tr>\n",
       "      <th>4</th>\n",
       "      <td>-2.997548</td>\n",
       "      <td>False</td>\n",
       "      <td>-1.741693</td>\n",
       "    </tr>\n",
       "    <tr>\n",
       "      <th>...</th>\n",
       "      <td>...</td>\n",
       "      <td>...</td>\n",
       "      <td>...</td>\n",
       "    </tr>\n",
       "    <tr>\n",
       "      <th>995</th>\n",
       "      <td>-1.190869</td>\n",
       "      <td>False</td>\n",
       "      <td>-0.294971</td>\n",
       "    </tr>\n",
       "    <tr>\n",
       "      <th>996</th>\n",
       "      <td>-2.110739</td>\n",
       "      <td>False</td>\n",
       "      <td>0.703033</td>\n",
       "    </tr>\n",
       "    <tr>\n",
       "      <th>997</th>\n",
       "      <td>-1.614011</td>\n",
       "      <td>False</td>\n",
       "      <td>0.287097</td>\n",
       "    </tr>\n",
       "    <tr>\n",
       "      <th>998</th>\n",
       "      <td>-2.738416</td>\n",
       "      <td>False</td>\n",
       "      <td>-1.153067</td>\n",
       "    </tr>\n",
       "    <tr>\n",
       "      <th>999</th>\n",
       "      <td>-2.136393</td>\n",
       "      <td>False</td>\n",
       "      <td>0.912088</td>\n",
       "    </tr>\n",
       "  </tbody>\n",
       "</table>\n",
       "<p>1000 rows × 3 columns</p>\n",
       "</div>"
      ],
      "text/plain": [
       "           W0     v0         y\n",
       "0   -0.645894  False -0.817237\n",
       "1    0.609774   True  5.597123\n",
       "2   -1.053980   True  3.492926\n",
       "3   -0.671034   True  4.483084\n",
       "4   -2.997548  False -1.741693\n",
       "..        ...    ...       ...\n",
       "995 -1.190869  False -0.294971\n",
       "996 -2.110739  False  0.703033\n",
       "997 -1.614011  False  0.287097\n",
       "998 -2.738416  False -1.153067\n",
       "999 -2.136393  False  0.912088\n",
       "\n",
       "[1000 rows x 3 columns]"
      ]
     },
     "execution_count": 2,
     "metadata": {},
     "output_type": "execute_result"
    }
   ],
   "source": [
    "data = dowhy.datasets.linear_dataset(beta=5,\n",
    "        num_common_causes=1,\n",
    "        num_instruments = 0,\n",
    "        num_samples=1000,\n",
    "        treatment_is_binary=True)\n",
    "df = data['df']\n",
    "df['y'] = df['y'] + np.random.normal(size=len(df)) # Adding noise to data. Without noise, the variance in Y|X, Z is zero, and mcmc fails.\n",
    "#data['dot_graph'] = 'digraph { v ->y;X0-> v;X0-> y;}'\n",
    "\n",
    "treatment= data[\"treatment_name\"][0]\n",
    "outcome = data[\"outcome_name\"][0]\n",
    "common_cause = data[\"common_causes_names\"][0]\n",
    "df"
   ]
  },
  {
   "cell_type": "code",
   "execution_count": 3,
   "metadata": {
    "execution": {
     "iopub.execute_input": "2023-03-31T15:48:39.193189Z",
     "iopub.status.busy": "2023-03-31T15:48:39.192749Z",
     "iopub.status.idle": "2023-03-31T15:48:39.407904Z",
     "shell.execute_reply": "2023-03-31T15:48:39.406110Z"
    }
   },
   "outputs": [
    {
     "data": {
      "text/plain": [
       "<AxesSubplot: xlabel='v0'>"
      ]
     },
     "execution_count": 3,
     "metadata": {},
     "output_type": "execute_result"
    },
    {
     "data": {
      "image/png": "[encoded data removed]",
      "text/plain": [
       "<Figure size 640x480 with 1 Axes>"
      ]
     },
     "metadata": {},
     "output_type": "display_data"
    }
   ],
   "source": [
    "# data['df'] is just a regular pandas.DataFrame\n",
    "df.causal.do(x=treatment,\n",
    "                     variable_types={treatment: 'b', outcome: 'c', common_cause: 'c'},\n",
    "                     outcome=outcome,\n",
    "                     common_causes=[common_cause],\n",
    "                     proceed_when_unidentifiable=True).groupby(treatment).mean().plot(y=outcome, kind='bar')"
   ]
  },
  {
   "cell_type": "code",
   "execution_count": 4,
   "metadata": {
    "execution": {
     "iopub.execute_input": "2023-03-31T15:48:39.411846Z",
     "iopub.status.busy": "2023-03-31T15:48:39.411557Z",
     "iopub.status.idle": "2023-03-31T15:48:39.576802Z",
     "shell.execute_reply": "2023-03-31T15:48:39.575102Z"
    }
   },
   "outputs": [
    {
     "data": {
      "text/plain": [
       "<AxesSubplot: xlabel='v0'>"
      ]
     },
     "execution_count": 4,
     "metadata": {},
     "output_type": "execute_result"
    },
    {
     "data": {
      "image/png": "[encoded data removed]",
      "text/plain": [
       "<Figure size 640x480 with 1 Axes>"
      ]
     },
     "metadata": {},
     "output_type": "display_data"
    }
   ],
   "source": [
    "df.causal.do(x={treatment: 1}, \n",
    "              variable_types={treatment:'b', outcome: 'c', common_cause: 'c'}, \n",
    "              outcome=outcome,\n",
    "              method='weighting', \n",
    "              common_causes=[common_cause],\n",
    "              proceed_when_unidentifiable=True).groupby(treatment).mean().plot(y=outcome, kind='bar')"
   ]
  },
  {
   "cell_type": "code",
   "execution_count": 5,
   "metadata": {
    "execution": {
     "iopub.execute_input": "2023-03-31T15:48:39.580725Z",
     "iopub.status.busy": "2023-03-31T15:48:39.580159Z",
     "iopub.status.idle": "2023-03-31T15:48:39.771034Z",
     "shell.execute_reply": "2023-03-31T15:48:39.770032Z"
    }
   },
   "outputs": [],
   "source": [
    "cdf_1 = df.causal.do(x={treatment: 1}, \n",
    "              variable_types={treatment: 'b', outcome: 'c', common_cause: 'c'}, \n",
    "              outcome=outcome, \n",
    "              dot_graph=data['dot_graph'],\n",
    "              proceed_when_unidentifiable=True)\n",
    "\n",
    "cdf_0 = df.causal.do(x={treatment: 0}, \n",
    "              variable_types={treatment: 'b', outcome: 'c', common_cause: 'c'}, \n",
    "              outcome=outcome, \n",
    "              dot_graph=data['dot_graph'],\n",
    "              proceed_when_unidentifiable=True)\n"
   ]
  },
  {
   "cell_type": "code",
   "execution_count": 6,
   "metadata": {
    "execution": {
     "iopub.execute_input": "2023-03-31T15:48:39.776110Z",
     "iopub.status.busy": "2023-03-31T15:48:39.775505Z",
     "iopub.status.idle": "2023-03-31T15:48:39.795245Z",
     "shell.execute_reply": "2023-03-31T15:48:39.793842Z"
    },
    "scrolled": true
   },
   "outputs": [
    {
     "data": {
      "text/html": [
       "<div>\n",
       "<style scoped>\n",
       "    .dataframe tbody tr th:only-of-type {\n",
       "        vertical-align: middle;\n",
       "    }\n",
       "\n",
       "    .dataframe tbody tr th {\n",
       "        vertical-align: top;\n",
       "    }\n",
       "\n",
       "    .dataframe thead th {\n",
       "        text-align: right;\n",
       "    }\n",
       "</style>\n",
       "<table border=\"1\" class=\"dataframe\">\n",
       "  <thead>\n",
       "    <tr style=\"text-align: right;\">\n",
       "      <th></th>\n",
       "      <th>W0</th>\n",
       "      <th>v0</th>\n",
       "      <th>y</th>\n",
       "      <th>propensity_score</th>\n",
       "      <th>weight</th>\n",
       "    </tr>\n",
       "  </thead>\n",
       "  <tbody>\n",
       "    <tr>\n",
       "      <th>0</th>\n",
       "      <td>0.580798</td>\n",
       "      <td>False</td>\n",
       "      <td>1.133153</td>\n",
       "      <td>0.277602</td>\n",
       "      <td>3.602285</td>\n",
       "    </tr>\n",
       "    <tr>\n",
       "      <th>1</th>\n",
       "      <td>-0.877724</td>\n",
       "      <td>False</td>\n",
       "      <td>-1.397868</td>\n",
       "      <td>0.775750</td>\n",
       "      <td>1.289074</td>\n",
       "    </tr>\n",
       "    <tr>\n",
       "      <th>2</th>\n",
       "      <td>-1.142106</td>\n",
       "      <td>False</td>\n",
       "      <td>-0.526214</td>\n",
       "      <td>0.837453</td>\n",
       "      <td>1.194097</td>\n",
       "    </tr>\n",
       "    <tr>\n",
       "      <th>3</th>\n",
       "      <td>-0.707756</td>\n",
       "      <td>False</td>\n",
       "      <td>0.140035</td>\n",
       "      <td>0.728097</td>\n",
       "      <td>1.373443</td>\n",
       "    </tr>\n",
       "    <tr>\n",
       "      <th>4</th>\n",
       "      <td>-2.336862</td>\n",
       "      <td>False</td>\n",
       "      <td>-1.798105</td>\n",
       "      <td>0.968915</td>\n",
       "      <td>1.032082</td>\n",
       "    </tr>\n",
       "    <tr>\n",
       "      <th>...</th>\n",
       "      <td>...</td>\n",
       "      <td>...</td>\n",
       "      <td>...</td>\n",
       "      <td>...</td>\n",
       "      <td>...</td>\n",
       "    </tr>\n",
       "    <tr>\n",
       "      <th>995</th>\n",
       "      <td>0.534101</td>\n",
       "      <td>False</td>\n",
       "      <td>0.021948</td>\n",
       "      <td>0.291929</td>\n",
       "      <td>3.425492</td>\n",
       "    </tr>\n",
       "    <tr>\n",
       "      <th>996</th>\n",
       "      <td>-2.019490</td>\n",
       "      <td>False</td>\n",
       "      <td>0.518945</td>\n",
       "      <td>0.950795</td>\n",
       "      <td>1.051752</td>\n",
       "    </tr>\n",
       "    <tr>\n",
       "      <th>997</th>\n",
       "      <td>-1.964045</td>\n",
       "      <td>False</td>\n",
       "      <td>-0.463182</td>\n",
       "      <td>0.946736</td>\n",
       "      <td>1.056261</td>\n",
       "    </tr>\n",
       "    <tr>\n",
       "      <th>998</th>\n",
       "      <td>0.050816</td>\n",
       "      <td>False</td>\n",
       "      <td>0.250552</td>\n",
       "      <td>0.460607</td>\n",
       "      <td>2.171050</td>\n",
       "    </tr>\n",
       "    <tr>\n",
       "      <th>999</th>\n",
       "      <td>-0.984561</td>\n",
       "      <td>False</td>\n",
       "      <td>-0.971595</td>\n",
       "      <td>0.802507</td>\n",
       "      <td>1.246096</td>\n",
       "    </tr>\n",
       "  </tbody>\n",
       "</table>\n",
       "<p>1000 rows × 5 columns</p>\n",
       "</div>"
      ],
      "text/plain": [
       "           W0     v0         y  propensity_score    weight\n",
       "0    0.580798  False  1.133153          0.277602  3.602285\n",
       "1   -0.877724  False -1.397868          0.775750  1.289074\n",
       "2   -1.142106  False -0.526214          0.837453  1.194097\n",
       "3   -0.707756  False  0.140035          0.728097  1.373443\n",
       "4   -2.336862  False -1.798105          0.968915  1.032082\n",
       "..        ...    ...       ...               ...       ...\n",
       "995  0.534101  False  0.021948          0.291929  3.425492\n",
       "996 -2.019490  False  0.518945          0.950795  1.051752\n",
       "997 -1.964045  False -0.463182          0.946736  1.056261\n",
       "998  0.050816  False  0.250552          0.460607  2.171050\n",
       "999 -0.984561  False -0.971595          0.802507  1.246096\n",
       "\n",
       "[1000 rows x 5 columns]"
      ]
     },
     "execution_count": 6,
     "metadata": {},
     "output_type": "execute_result"
    }
   ],
   "source": [
    "cdf_0"
   ]
  },
  {
   "cell_type": "code",
   "execution_count": 7,
   "metadata": {
    "execution": {
     "iopub.execute_input": "2023-03-31T15:48:39.801187Z",
     "iopub.status.busy": "2023-03-31T15:48:39.800898Z",
     "iopub.status.idle": "2023-03-31T15:48:39.817985Z",
     "shell.execute_reply": "2023-03-31T15:48:39.816656Z"
    }
   },
   "outputs": [
    {
     "data": {
      "text/html": [
       "<div>\n",
       "<style scoped>\n",
       "    .dataframe tbody tr th:only-of-type {\n",
       "        vertical-align: middle;\n",
       "    }\n",
       "\n",
       "    .dataframe tbody tr th {\n",
       "        vertical-align: top;\n",
       "    }\n",
       "\n",
       "    .dataframe thead th {\n",
       "        text-align: right;\n",
       "    }\n",
       "</style>\n",
       "<table border=\"1\" class=\"dataframe\">\n",
       "  <thead>\n",
       "    <tr style=\"text-align: right;\">\n",
       "      <th></th>\n",
       "      <th>W0</th>\n",
       "      <th>v0</th>\n",
       "      <th>y</th>\n",
       "      <th>propensity_score</th>\n",
       "      <th>weight</th>\n",
       "    </tr>\n",
       "  </thead>\n",
       "  <tbody>\n",
       "    <tr>\n",
       "      <th>0</th>\n",
       "      <td>-0.076089</td>\n",
       "      <td>True</td>\n",
       "      <td>6.614238</td>\n",
       "      <td>0.491676</td>\n",
       "      <td>2.033860</td>\n",
       "    </tr>\n",
       "    <tr>\n",
       "      <th>1</th>\n",
       "      <td>-1.588769</td>\n",
       "      <td>True</td>\n",
       "      <td>4.518704</td>\n",
       "      <td>0.090105</td>\n",
       "      <td>11.098197</td>\n",
       "    </tr>\n",
       "    <tr>\n",
       "      <th>2</th>\n",
       "      <td>-2.465911</td>\n",
       "      <td>True</td>\n",
       "      <td>5.258092</td>\n",
       "      <td>0.025734</td>\n",
       "      <td>38.859833</td>\n",
       "    </tr>\n",
       "    <tr>\n",
       "      <th>3</th>\n",
       "      <td>-0.671034</td>\n",
       "      <td>True</td>\n",
       "      <td>4.483084</td>\n",
       "      <td>0.282993</td>\n",
       "      <td>3.533658</td>\n",
       "    </tr>\n",
       "    <tr>\n",
       "      <th>4</th>\n",
       "      <td>-1.360671</td>\n",
       "      <td>True</td>\n",
       "      <td>4.161403</td>\n",
       "      <td>0.122529</td>\n",
       "      <td>8.161330</td>\n",
       "    </tr>\n",
       "    <tr>\n",
       "      <th>...</th>\n",
       "      <td>...</td>\n",
       "      <td>...</td>\n",
       "      <td>...</td>\n",
       "      <td>...</td>\n",
       "      <td>...</td>\n",
       "    </tr>\n",
       "    <tr>\n",
       "      <th>995</th>\n",
       "      <td>-0.510375</td>\n",
       "      <td>True</td>\n",
       "      <td>4.265431</td>\n",
       "      <td>0.334565</td>\n",
       "      <td>2.988956</td>\n",
       "    </tr>\n",
       "    <tr>\n",
       "      <th>996</th>\n",
       "      <td>-0.573624</td>\n",
       "      <td>True</td>\n",
       "      <td>4.444125</td>\n",
       "      <td>0.313694</td>\n",
       "      <td>3.187816</td>\n",
       "    </tr>\n",
       "    <tr>\n",
       "      <th>997</th>\n",
       "      <td>0.093817</td>\n",
       "      <td>True</td>\n",
       "      <td>2.846773</td>\n",
       "      <td>0.555443</td>\n",
       "      <td>1.800365</td>\n",
       "    </tr>\n",
       "    <tr>\n",
       "      <th>998</th>\n",
       "      <td>0.601382</td>\n",
       "      <td>True</td>\n",
       "      <td>5.300749</td>\n",
       "      <td>0.728574</td>\n",
       "      <td>1.372543</td>\n",
       "    </tr>\n",
       "    <tr>\n",
       "      <th>999</th>\n",
       "      <td>-1.380883</td>\n",
       "      <td>True</td>\n",
       "      <td>4.141568</td>\n",
       "      <td>0.119292</td>\n",
       "      <td>8.382763</td>\n",
       "    </tr>\n",
       "  </tbody>\n",
       "</table>\n",
       "<p>1000 rows × 5 columns</p>\n",
       "</div>"
      ],
      "text/plain": [
       "           W0    v0         y  propensity_score     weight\n",
       "0   -0.076089  True  6.614238          0.491676   2.033860\n",
       "1   -1.588769  True  4.518704          0.090105  11.098197\n",
       "2   -2.465911  True  5.258092          0.025734  38.859833\n",
       "3   -0.671034  True  4.483084          0.282993   3.533658\n",
       "4   -1.360671  True  4.161403          0.122529   8.161330\n",
       "..        ...   ...       ...               ...        ...\n",
       "995 -0.510375  True  4.265431          0.334565   2.988956\n",
       "996 -0.573624  True  4.444125          0.313694   3.187816\n",
       "997  0.093817  True  2.846773          0.555443   1.800365\n",
       "998  0.601382  True  5.300749          0.728574   1.372543\n",
       "999 -1.380883  True  4.141568          0.119292   8.382763\n",
       "\n",
       "[1000 rows x 5 columns]"
      ]
     },
     "execution_count": 7,
     "metadata": {},
     "output_type": "execute_result"
    }
   ],
   "source": [
    "cdf_1"
   ]
  },
  {
   "cell_type": "markdown",
   "metadata": {},
   "source": [
    "## Comparing the estimate to Linear Regression\n",
    "First, estimating the effect using the causal data frame, and the 95% confidence interval."
   ]
  },
  {
   "cell_type": "code",
   "execution_count": 8,
   "metadata": {
    "execution": {
     "iopub.execute_input": "2023-03-31T15:48:39.822058Z",
     "iopub.status.busy": "2023-03-31T15:48:39.821318Z",
     "iopub.status.idle": "2023-03-31T15:48:39.893204Z",
     "shell.execute_reply": "2023-03-31T15:48:39.892235Z"
    }
   },
   "outputs": [
    {
     "data": {
      "image/png": "[encoded data removed]",
      "text/latex": [
       "$\\displaystyle 5.104552048196$"
      ],
      "text/plain": [
       "5.104552048196001"
      ]
     },
     "execution_count": 8,
     "metadata": {},
     "output_type": "execute_result"
    }
   ],
   "source": [
    "(cdf_1['y'] - cdf_0['y']).mean()"
   ]
  },
  {
   "cell_type": "code",
   "execution_count": 9,
   "metadata": {
    "execution": {
     "iopub.execute_input": "2023-03-31T15:48:39.897360Z",
     "iopub.status.busy": "2023-03-31T15:48:39.896800Z",
     "iopub.status.idle": "2023-03-31T15:48:39.926488Z",
     "shell.execute_reply": "2023-03-31T15:48:39.925461Z"
    }
   },
   "outputs": [
    {
     "data": {
      "image/png": "[encoded data removed]",
      "text/latex": [
       "$\\displaystyle 0.0898078117430904$"
      ],
      "text/plain": [
       "0.08980781174309037"
      ]
     },
     "execution_count": 9,
     "metadata": {},
     "output_type": "execute_result"
    }
   ],
   "source": [
    "1.96*(cdf_1['y'] - cdf_0['y']).std() / np.sqrt(len(df))"
   ]
  },
  {
   "cell_type": "markdown",
   "metadata": {},
   "source": [
    "Comparing to the estimate from OLS."
   ]
  },
  {
   "cell_type": "code",
   "execution_count": 10,
   "metadata": {
    "execution": {
     "iopub.execute_input": "2023-03-31T15:48:39.930618Z",
     "iopub.status.busy": "2023-03-31T15:48:39.930324Z",
     "iopub.status.idle": "2023-03-31T15:48:39.951831Z",
     "shell.execute_reply": "2023-03-31T15:48:39.950804Z"
    }
   },
   "outputs": [
    {
     "data": {
      "text/html": [
       "<table class=\"simpletable\">\n",
       "<caption>OLS Regression Results</caption>\n",
       "<tr>\n",
       "  <th>Dep. Variable:</th>            <td>y</td>        <th>  R-squared (uncentered):</th>      <td>   0.875</td>\n",
       "</tr>\n",
       "<tr>\n",
       "  <th>Model:</th>                   <td>OLS</td>       <th>  Adj. R-squared (uncentered):</th> <td>   0.874</td>\n",
       "</tr>\n",
       "<tr>\n",
       "  <th>Method:</th>             <td>Least Squares</td>  <th>  F-statistic:       </th>          <td>   3480.</td>\n",
       "</tr>\n",
       "<tr>\n",
       "  <th>Date:</th>             <td>Fri, 31 Mar 2023</td> <th>  Prob (F-statistic):</th>           <td>  0.00</td> \n",
       "</tr>\n",
       "<tr>\n",
       "  <th>Time:</th>                 <td>15:48:39</td>     <th>  Log-Likelihood:    </th>          <td> -1415.4</td>\n",
       "</tr>\n",
       "<tr>\n",
       "  <th>No. Observations:</th>      <td>  1000</td>      <th>  AIC:               </th>          <td>   2835.</td>\n",
       "</tr>\n",
       "<tr>\n",
       "  <th>Df Residuals:</th>          <td>   998</td>      <th>  BIC:               </th>          <td>   2845.</td>\n",
       "</tr>\n",
       "<tr>\n",
       "  <th>Df Model:</th>              <td>     2</td>      <th>                     </th>              <td> </td>   \n",
       "</tr>\n",
       "<tr>\n",
       "  <th>Covariance Type:</th>      <td>nonrobust</td>    <th>                     </th>              <td> </td>   \n",
       "</tr>\n",
       "</table>\n",
       "<table class=\"simpletable\">\n",
       "<tr>\n",
       "   <td></td>     <th>coef</th>     <th>std err</th>      <th>t</th>      <th>P>|t|</th>  <th>[0.025</th>    <th>0.975]</th>  \n",
       "</tr>\n",
       "<tr>\n",
       "  <th>x1</th> <td>    0.1681</td> <td>    0.023</td> <td>    7.248</td> <td> 0.000</td> <td>    0.123</td> <td>    0.214</td>\n",
       "</tr>\n",
       "<tr>\n",
       "  <th>x2</th> <td>    5.0404</td> <td>    0.060</td> <td>   83.422</td> <td> 0.000</td> <td>    4.922</td> <td>    5.159</td>\n",
       "</tr>\n",
       "</table>\n",
       "<table class=\"simpletable\">\n",
       "<tr>\n",
       "  <th>Omnibus:</th>       <td> 0.884</td> <th>  Durbin-Watson:     </th> <td>   1.983</td>\n",
       "</tr>\n",
       "<tr>\n",
       "  <th>Prob(Omnibus):</th> <td> 0.643</td> <th>  Jarque-Bera (JB):  </th> <td>   0.939</td>\n",
       "</tr>\n",
       "<tr>\n",
       "  <th>Skew:</th>          <td>-0.015</td> <th>  Prob(JB):          </th> <td>   0.625</td>\n",
       "</tr>\n",
       "<tr>\n",
       "  <th>Kurtosis:</th>      <td> 2.853</td> <th>  Cond. No.          </th> <td>    2.61</td>\n",
       "</tr>\n",
       "</table><br/><br/>Notes:<br/>[1] R² is computed without centering (uncentered) since the model does not contain a constant.<br/>[2] Standard Errors assume that the covariance matrix of the errors is correctly specified."
      ],
      "text/plain": [
       "<class 'statsmodels.iolib.summary.Summary'>\n",
       "\"\"\"\n",
       "                                 OLS Regression Results                                \n",
       "=======================================================================================\n",
       "Dep. Variable:                      y   R-squared (uncentered):                   0.875\n",
       "Model:                            OLS   Adj. R-squared (uncentered):              0.874\n",
       "Method:                 Least Squares   F-statistic:                              3480.\n",
       "Date:                Fri, 31 Mar 2023   Prob (F-statistic):                        0.00\n",
       "Time:                        15:48:39   Log-Likelihood:                         -1415.4\n",
       "No. Observations:                1000   AIC:                                      2835.\n",
       "Df Residuals:                     998   BIC:                                      2845.\n",
       "Df Model:                           2                                                  \n",
       "Covariance Type:            nonrobust                                                  \n",
       "==============================================================================\n",
       "                 coef    std err          t      P>|t|      [0.025      0.975]\n",
       "------------------------------------------------------------------------------\n",
       "x1             0.1681      0.023      7.248      0.000       0.123       0.214\n",
       "x2             5.0404      0.060     83.422      0.000       4.922       5.159\n",
       "==============================================================================\n",
       "Omnibus:                        0.884   Durbin-Watson:                   1.983\n",
       "Prob(Omnibus):                  0.643   Jarque-Bera (JB):                0.939\n",
       "Skew:                          -0.015   Prob(JB):                        0.625\n",
       "Kurtosis:                       2.853   Cond. No.                         2.61\n",
       "==============================================================================\n",
       "\n",
       "Notes:\n",
       "[1] R² is computed without centering (uncentered) since the model does not contain a constant.\n",
       "[2] Standard Errors assume that the covariance matrix of the errors is correctly specified.\n",
       "\"\"\""
      ]
     },
     "execution_count": 10,
     "metadata": {},
     "output_type": "execute_result"
    }
   ],
   "source": [
    "model = OLS(np.asarray(df[outcome]), np.asarray(df[[common_cause, treatment]], dtype=np.float64))\n",
    "result = model.fit()\n",
    "result.summary()"
   ]
  }
 ],
 "metadata": {
  "kernelspec": {
   "display_name": "Python 3",
   "language": "python",
   "name": "python3"
  },
  "language_info": {
   "codemirror_mode": {
    "name": "ipython",
    "version": 3
   },
   "file_extension": ".py",
   "mimetype": "text/x-python",
   "name": "python",
   "nbconvert_exporter": "python",
   "pygments_lexer": "ipython3",
   "version": "3.8.10"
  },
  "toc": {
   "base_numbering": 1,
   "nav_menu": {},
   "number_sections": false,
   "sideBar": true,
   "skip_h1_title": true,
   "title_cell": "Table of Contents",
   "title_sidebar": "Contents",
   "toc_cell": false,
   "toc_position": {},
   "toc_section_display": true,
   "toc_window_display": false
  }
 },
 "nbformat": 4,
 "nbformat_minor": 4
}
