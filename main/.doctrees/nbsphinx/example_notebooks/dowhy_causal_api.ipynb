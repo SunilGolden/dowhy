{
 "cells": [
  {
   "cell_type": "markdown",
   "metadata": {},
   "source": [
    "# Demo for the DoWhy causal API\n",
    "We show a simple example of adding a causal extension to any dataframe. "
   ]
  },
  {
   "cell_type": "code",
   "execution_count": 1,
   "metadata": {
    "execution": {
     "iopub.execute_input": "2023-11-21T17:09:54.072264Z",
     "iopub.status.busy": "2023-11-21T17:09:54.072089Z",
     "iopub.status.idle": "2023-11-21T17:09:55.445174Z",
     "shell.execute_reply": "2023-11-21T17:09:55.444587Z"
    }
   },
   "outputs": [],
   "source": [
    "import dowhy.datasets\n",
    "import dowhy.api\n",
    "\n",
    "import numpy as np\n",
    "import pandas as pd\n",
    "\n",
    "from statsmodels.api import OLS"
   ]
  },
  {
   "cell_type": "code",
   "execution_count": 2,
   "metadata": {
    "execution": {
     "iopub.execute_input": "2023-11-21T17:09:55.447963Z",
     "iopub.status.busy": "2023-11-21T17:09:55.447561Z",
     "iopub.status.idle": "2023-11-21T17:09:55.481534Z",
     "shell.execute_reply": "2023-11-21T17:09:55.480931Z"
    }
   },
   "outputs": [
    {
     "data": {
      "text/html": [
       "<div>\n",
       "<style scoped>\n",
       "    .dataframe tbody tr th:only-of-type {\n",
       "        vertical-align: middle;\n",
       "    }\n",
       "\n",
       "    .dataframe tbody tr th {\n",
       "        vertical-align: top;\n",
       "    }\n",
       "\n",
       "    .dataframe thead th {\n",
       "        text-align: right;\n",
       "    }\n",
       "</style>\n",
       "<table border=\"1\" class=\"dataframe\">\n",
       "  <thead>\n",
       "    <tr style=\"text-align: right;\">\n",
       "      <th></th>\n",
       "      <th>W0</th>\n",
       "      <th>v0</th>\n",
       "      <th>y</th>\n",
       "    </tr>\n",
       "  </thead>\n",
       "  <tbody>\n",
       "    <tr>\n",
       "      <th>0</th>\n",
       "      <td>0.587021</td>\n",
       "      <td>True</td>\n",
       "      <td>8.050700</td>\n",
       "    </tr>\n",
       "    <tr>\n",
       "      <th>1</th>\n",
       "      <td>1.154070</td>\n",
       "      <td>True</td>\n",
       "      <td>7.793740</td>\n",
       "    </tr>\n",
       "    <tr>\n",
       "      <th>2</th>\n",
       "      <td>1.497932</td>\n",
       "      <td>True</td>\n",
       "      <td>7.863156</td>\n",
       "    </tr>\n",
       "    <tr>\n",
       "      <th>3</th>\n",
       "      <td>0.928441</td>\n",
       "      <td>False</td>\n",
       "      <td>0.944806</td>\n",
       "    </tr>\n",
       "    <tr>\n",
       "      <th>4</th>\n",
       "      <td>0.427415</td>\n",
       "      <td>True</td>\n",
       "      <td>7.274739</td>\n",
       "    </tr>\n",
       "    <tr>\n",
       "      <th>...</th>\n",
       "      <td>...</td>\n",
       "      <td>...</td>\n",
       "      <td>...</td>\n",
       "    </tr>\n",
       "    <tr>\n",
       "      <th>995</th>\n",
       "      <td>3.071642</td>\n",
       "      <td>True</td>\n",
       "      <td>11.611381</td>\n",
       "    </tr>\n",
       "    <tr>\n",
       "      <th>996</th>\n",
       "      <td>0.298308</td>\n",
       "      <td>True</td>\n",
       "      <td>6.023494</td>\n",
       "    </tr>\n",
       "    <tr>\n",
       "      <th>997</th>\n",
       "      <td>1.897184</td>\n",
       "      <td>True</td>\n",
       "      <td>8.346324</td>\n",
       "    </tr>\n",
       "    <tr>\n",
       "      <th>998</th>\n",
       "      <td>0.547914</td>\n",
       "      <td>True</td>\n",
       "      <td>7.357157</td>\n",
       "    </tr>\n",
       "    <tr>\n",
       "      <th>999</th>\n",
       "      <td>0.953033</td>\n",
       "      <td>True</td>\n",
       "      <td>6.608195</td>\n",
       "    </tr>\n",
       "  </tbody>\n",
       "</table>\n",
       "<p>1000 rows × 3 columns</p>\n",
       "</div>"
      ],
      "text/plain": [
       "           W0     v0          y\n",
       "0    0.587021   True   8.050700\n",
       "1    1.154070   True   7.793740\n",
       "2    1.497932   True   7.863156\n",
       "3    0.928441  False   0.944806\n",
       "4    0.427415   True   7.274739\n",
       "..        ...    ...        ...\n",
       "995  3.071642   True  11.611381\n",
       "996  0.298308   True   6.023494\n",
       "997  1.897184   True   8.346324\n",
       "998  0.547914   True   7.357157\n",
       "999  0.953033   True   6.608195\n",
       "\n",
       "[1000 rows x 3 columns]"
      ]
     },
     "execution_count": 2,
     "metadata": {},
     "output_type": "execute_result"
    }
   ],
   "source": [
    "data = dowhy.datasets.linear_dataset(beta=5,\n",
    "        num_common_causes=1,\n",
    "        num_instruments = 0,\n",
    "        num_samples=1000,\n",
    "        treatment_is_binary=True)\n",
    "df = data['df']\n",
    "df['y'] = df['y'] + np.random.normal(size=len(df)) # Adding noise to data. Without noise, the variance in Y|X, Z is zero, and mcmc fails.\n",
    "#data['dot_graph'] = 'digraph { v ->y;X0-> v;X0-> y;}'\n",
    "\n",
    "treatment= data[\"treatment_name\"][0]\n",
    "outcome = data[\"outcome_name\"][0]\n",
    "common_cause = data[\"common_causes_names\"][0]\n",
    "df"
   ]
  },
  {
   "cell_type": "code",
   "execution_count": 3,
   "metadata": {
    "execution": {
     "iopub.execute_input": "2023-11-21T17:09:55.483940Z",
     "iopub.status.busy": "2023-11-21T17:09:55.483743Z",
     "iopub.status.idle": "2023-11-21T17:09:55.667993Z",
     "shell.execute_reply": "2023-11-21T17:09:55.667296Z"
    }
   },
   "outputs": [
    {
     "data": {
      "text/plain": [
       "<Axes: xlabel='v0'>"
      ]
     },
     "execution_count": 3,
     "metadata": {},
     "output_type": "execute_result"
    },
    {
     "data": {
      "image/png": "[encoded data removed]",
      "text/plain": [
       "<Figure size 640x480 with 1 Axes>"
      ]
     },
     "metadata": {},
     "output_type": "display_data"
    }
   ],
   "source": [
    "# data['df'] is just a regular pandas.DataFrame\n",
    "df.causal.do(x=treatment,\n",
    "                     variable_types={treatment: 'b', outcome: 'c', common_cause: 'c'},\n",
    "                     outcome=outcome,\n",
    "                     common_causes=[common_cause],\n",
    "                     proceed_when_unidentifiable=True).groupby(treatment).mean().plot(y=outcome, kind='bar')"
   ]
  },
  {
   "cell_type": "code",
   "execution_count": 4,
   "metadata": {
    "execution": {
     "iopub.execute_input": "2023-11-21T17:09:55.670385Z",
     "iopub.status.busy": "2023-11-21T17:09:55.670038Z",
     "iopub.status.idle": "2023-11-21T17:09:55.809351Z",
     "shell.execute_reply": "2023-11-21T17:09:55.808744Z"
    }
   },
   "outputs": [
    {
     "data": {
      "text/plain": [
       "<Axes: xlabel='v0'>"
      ]
     },
     "execution_count": 4,
     "metadata": {},
     "output_type": "execute_result"
    },
    {
     "data": {
      "image/png": "[encoded data removed]",
      "text/plain": [
       "<Figure size 640x480 with 1 Axes>"
      ]
     },
     "metadata": {},
     "output_type": "display_data"
    }
   ],
   "source": [
    "df.causal.do(x={treatment: 1}, \n",
    "              variable_types={treatment:'b', outcome: 'c', common_cause: 'c'}, \n",
    "              outcome=outcome,\n",
    "              method='weighting', \n",
    "              common_causes=[common_cause],\n",
    "              proceed_when_unidentifiable=True).groupby(treatment).mean().plot(y=outcome, kind='bar')"
   ]
  },
  {
   "cell_type": "code",
   "execution_count": 5,
   "metadata": {
    "execution": {
     "iopub.execute_input": "2023-11-21T17:09:55.811679Z",
     "iopub.status.busy": "2023-11-21T17:09:55.811371Z",
     "iopub.status.idle": "2023-11-21T17:09:55.836817Z",
     "shell.execute_reply": "2023-11-21T17:09:55.836332Z"
    }
   },
   "outputs": [],
   "source": [
    "cdf_1 = df.causal.do(x={treatment: 1}, \n",
    "              variable_types={treatment: 'b', outcome: 'c', common_cause: 'c'}, \n",
    "              outcome=outcome, \n",
    "              dot_graph=data['dot_graph'],\n",
    "              proceed_when_unidentifiable=True)\n",
    "\n",
    "cdf_0 = df.causal.do(x={treatment: 0}, \n",
    "              variable_types={treatment: 'b', outcome: 'c', common_cause: 'c'}, \n",
    "              outcome=outcome, \n",
    "              dot_graph=data['dot_graph'],\n",
    "              proceed_when_unidentifiable=True)\n"
   ]
  },
  {
   "cell_type": "code",
   "execution_count": 6,
   "metadata": {
    "execution": {
     "iopub.execute_input": "2023-11-21T17:09:55.839214Z",
     "iopub.status.busy": "2023-11-21T17:09:55.838866Z",
     "iopub.status.idle": "2023-11-21T17:09:55.847693Z",
     "shell.execute_reply": "2023-11-21T17:09:55.847119Z"
    },
    "scrolled": true
   },
   "outputs": [
    {
     "data": {
      "text/html": [
       "<div>\n",
       "<style scoped>\n",
       "    .dataframe tbody tr th:only-of-type {\n",
       "        vertical-align: middle;\n",
       "    }\n",
       "\n",
       "    .dataframe tbody tr th {\n",
       "        vertical-align: top;\n",
       "    }\n",
       "\n",
       "    .dataframe thead th {\n",
       "        text-align: right;\n",
       "    }\n",
       "</style>\n",
       "<table border=\"1\" class=\"dataframe\">\n",
       "  <thead>\n",
       "    <tr style=\"text-align: right;\">\n",
       "      <th></th>\n",
       "      <th>W0</th>\n",
       "      <th>v0</th>\n",
       "      <th>y</th>\n",
       "      <th>propensity_score</th>\n",
       "      <th>weight</th>\n",
       "    </tr>\n",
       "  </thead>\n",
       "  <tbody>\n",
       "    <tr>\n",
       "      <th>0</th>\n",
       "      <td>1.676976</td>\n",
       "      <td>False</td>\n",
       "      <td>2.402052</td>\n",
       "      <td>0.054852</td>\n",
       "      <td>18.230754</td>\n",
       "    </tr>\n",
       "    <tr>\n",
       "      <th>1</th>\n",
       "      <td>0.466361</td>\n",
       "      <td>False</td>\n",
       "      <td>2.198986</td>\n",
       "      <td>0.320444</td>\n",
       "      <td>3.120670</td>\n",
       "    </tr>\n",
       "    <tr>\n",
       "      <th>2</th>\n",
       "      <td>2.105714</td>\n",
       "      <td>False</td>\n",
       "      <td>2.985047</td>\n",
       "      <td>0.026893</td>\n",
       "      <td>37.184225</td>\n",
       "    </tr>\n",
       "    <tr>\n",
       "      <th>3</th>\n",
       "      <td>1.351740</td>\n",
       "      <td>False</td>\n",
       "      <td>1.681715</td>\n",
       "      <td>0.092467</td>\n",
       "      <td>10.814646</td>\n",
       "    </tr>\n",
       "    <tr>\n",
       "      <th>4</th>\n",
       "      <td>0.776988</td>\n",
       "      <td>False</td>\n",
       "      <td>-0.145643</td>\n",
       "      <td>0.215976</td>\n",
       "      <td>4.630139</td>\n",
       "    </tr>\n",
       "    <tr>\n",
       "      <th>...</th>\n",
       "      <td>...</td>\n",
       "      <td>...</td>\n",
       "      <td>...</td>\n",
       "      <td>...</td>\n",
       "      <td>...</td>\n",
       "    </tr>\n",
       "    <tr>\n",
       "      <th>995</th>\n",
       "      <td>1.475483</td>\n",
       "      <td>False</td>\n",
       "      <td>3.493019</td>\n",
       "      <td>0.075998</td>\n",
       "      <td>13.158301</td>\n",
       "    </tr>\n",
       "    <tr>\n",
       "      <th>996</th>\n",
       "      <td>-0.076713</td>\n",
       "      <td>False</td>\n",
       "      <td>0.111278</td>\n",
       "      <td>0.546875</td>\n",
       "      <td>1.828570</td>\n",
       "    </tr>\n",
       "    <tr>\n",
       "      <th>997</th>\n",
       "      <td>0.175184</td>\n",
       "      <td>False</td>\n",
       "      <td>1.568586</td>\n",
       "      <td>0.438352</td>\n",
       "      <td>2.281270</td>\n",
       "    </tr>\n",
       "    <tr>\n",
       "      <th>998</th>\n",
       "      <td>-0.337354</td>\n",
       "      <td>False</td>\n",
       "      <td>0.533776</td>\n",
       "      <td>0.654548</td>\n",
       "      <td>1.527771</td>\n",
       "    </tr>\n",
       "    <tr>\n",
       "      <th>999</th>\n",
       "      <td>-1.206644</td>\n",
       "      <td>False</td>\n",
       "      <td>-1.430278</td>\n",
       "      <td>0.895050</td>\n",
       "      <td>1.117256</td>\n",
       "    </tr>\n",
       "  </tbody>\n",
       "</table>\n",
       "<p>1000 rows × 5 columns</p>\n",
       "</div>"
      ],
      "text/plain": [
       "           W0     v0         y  propensity_score     weight\n",
       "0    1.676976  False  2.402052          0.054852  18.230754\n",
       "1    0.466361  False  2.198986          0.320444   3.120670\n",
       "2    2.105714  False  2.985047          0.026893  37.184225\n",
       "3    1.351740  False  1.681715          0.092467  10.814646\n",
       "4    0.776988  False -0.145643          0.215976   4.630139\n",
       "..        ...    ...       ...               ...        ...\n",
       "995  1.475483  False  3.493019          0.075998  13.158301\n",
       "996 -0.076713  False  0.111278          0.546875   1.828570\n",
       "997  0.175184  False  1.568586          0.438352   2.281270\n",
       "998 -0.337354  False  0.533776          0.654548   1.527771\n",
       "999 -1.206644  False -1.430278          0.895050   1.117256\n",
       "\n",
       "[1000 rows x 5 columns]"
      ]
     },
     "execution_count": 6,
     "metadata": {},
     "output_type": "execute_result"
    }
   ],
   "source": [
    "cdf_0"
   ]
  },
  {
   "cell_type": "code",
   "execution_count": 7,
   "metadata": {
    "execution": {
     "iopub.execute_input": "2023-11-21T17:09:55.849924Z",
     "iopub.status.busy": "2023-11-21T17:09:55.849581Z",
     "iopub.status.idle": "2023-11-21T17:09:55.857991Z",
     "shell.execute_reply": "2023-11-21T17:09:55.857404Z"
    }
   },
   "outputs": [
    {
     "data": {
      "text/html": [
       "<div>\n",
       "<style scoped>\n",
       "    .dataframe tbody tr th:only-of-type {\n",
       "        vertical-align: middle;\n",
       "    }\n",
       "\n",
       "    .dataframe tbody tr th {\n",
       "        vertical-align: top;\n",
       "    }\n",
       "\n",
       "    .dataframe thead th {\n",
       "        text-align: right;\n",
       "    }\n",
       "</style>\n",
       "<table border=\"1\" class=\"dataframe\">\n",
       "  <thead>\n",
       "    <tr style=\"text-align: right;\">\n",
       "      <th></th>\n",
       "      <th>W0</th>\n",
       "      <th>v0</th>\n",
       "      <th>y</th>\n",
       "      <th>propensity_score</th>\n",
       "      <th>weight</th>\n",
       "    </tr>\n",
       "  </thead>\n",
       "  <tbody>\n",
       "    <tr>\n",
       "      <th>0</th>\n",
       "      <td>1.582889</td>\n",
       "      <td>True</td>\n",
       "      <td>8.339768</td>\n",
       "      <td>0.936069</td>\n",
       "      <td>1.068298</td>\n",
       "    </tr>\n",
       "    <tr>\n",
       "      <th>1</th>\n",
       "      <td>1.005047</td>\n",
       "      <td>True</td>\n",
       "      <td>7.603354</td>\n",
       "      <td>0.843424</td>\n",
       "      <td>1.185644</td>\n",
       "    </tr>\n",
       "    <tr>\n",
       "      <th>2</th>\n",
       "      <td>1.375031</td>\n",
       "      <td>True</td>\n",
       "      <td>7.962805</td>\n",
       "      <td>0.910860</td>\n",
       "      <td>1.097864</td>\n",
       "    </tr>\n",
       "    <tr>\n",
       "      <th>3</th>\n",
       "      <td>1.738580</td>\n",
       "      <td>True</td>\n",
       "      <td>8.668073</td>\n",
       "      <td>0.950419</td>\n",
       "      <td>1.052167</td>\n",
       "    </tr>\n",
       "    <tr>\n",
       "      <th>4</th>\n",
       "      <td>2.016560</td>\n",
       "      <td>True</td>\n",
       "      <td>9.970678</td>\n",
       "      <td>0.968761</td>\n",
       "      <td>1.032247</td>\n",
       "    </tr>\n",
       "    <tr>\n",
       "      <th>...</th>\n",
       "      <td>...</td>\n",
       "      <td>...</td>\n",
       "      <td>...</td>\n",
       "      <td>...</td>\n",
       "      <td>...</td>\n",
       "    </tr>\n",
       "    <tr>\n",
       "      <th>995</th>\n",
       "      <td>1.521050</td>\n",
       "      <td>True</td>\n",
       "      <td>8.293903</td>\n",
       "      <td>0.929358</td>\n",
       "      <td>1.076012</td>\n",
       "    </tr>\n",
       "    <tr>\n",
       "      <th>996</th>\n",
       "      <td>0.547914</td>\n",
       "      <td>True</td>\n",
       "      <td>7.357157</td>\n",
       "      <td>0.709480</td>\n",
       "      <td>1.409483</td>\n",
       "    </tr>\n",
       "    <tr>\n",
       "      <th>997</th>\n",
       "      <td>1.005047</td>\n",
       "      <td>True</td>\n",
       "      <td>7.603354</td>\n",
       "      <td>0.843424</td>\n",
       "      <td>1.185644</td>\n",
       "    </tr>\n",
       "    <tr>\n",
       "      <th>998</th>\n",
       "      <td>-0.942411</td>\n",
       "      <td>True</td>\n",
       "      <td>2.495257</td>\n",
       "      <td>0.156284</td>\n",
       "      <td>6.398602</td>\n",
       "    </tr>\n",
       "    <tr>\n",
       "      <th>999</th>\n",
       "      <td>2.713740</td>\n",
       "      <td>True</td>\n",
       "      <td>7.976841</td>\n",
       "      <td>0.990442</td>\n",
       "      <td>1.009650</td>\n",
       "    </tr>\n",
       "  </tbody>\n",
       "</table>\n",
       "<p>1000 rows × 5 columns</p>\n",
       "</div>"
      ],
      "text/plain": [
       "           W0    v0         y  propensity_score    weight\n",
       "0    1.582889  True  8.339768          0.936069  1.068298\n",
       "1    1.005047  True  7.603354          0.843424  1.185644\n",
       "2    1.375031  True  7.962805          0.910860  1.097864\n",
       "3    1.738580  True  8.668073          0.950419  1.052167\n",
       "4    2.016560  True  9.970678          0.968761  1.032247\n",
       "..        ...   ...       ...               ...       ...\n",
       "995  1.521050  True  8.293903          0.929358  1.076012\n",
       "996  0.547914  True  7.357157          0.709480  1.409483\n",
       "997  1.005047  True  7.603354          0.843424  1.185644\n",
       "998 -0.942411  True  2.495257          0.156284  6.398602\n",
       "999  2.713740  True  7.976841          0.990442  1.009650\n",
       "\n",
       "[1000 rows x 5 columns]"
      ]
     },
     "execution_count": 7,
     "metadata": {},
     "output_type": "execute_result"
    }
   ],
   "source": [
    "cdf_1"
   ]
  },
  {
   "cell_type": "markdown",
   "metadata": {},
   "source": [
    "## Comparing the estimate to Linear Regression\n",
    "First, estimating the effect using the causal data frame, and the 95% confidence interval."
   ]
  },
  {
   "cell_type": "code",
   "execution_count": 8,
   "metadata": {
    "execution": {
     "iopub.execute_input": "2023-11-21T17:09:55.860304Z",
     "iopub.status.busy": "2023-11-21T17:09:55.859967Z",
     "iopub.status.idle": "2023-11-21T17:09:55.907601Z",
     "shell.execute_reply": "2023-11-21T17:09:55.906975Z"
    }
   },
   "outputs": [
    {
     "data": {
      "image/png": "[encoded data removed]",
      "text/latex": [
       "$\\displaystyle 5.43314543720146$"
      ],
      "text/plain": [
       "5.433145437201463"
      ]
     },
     "execution_count": 8,
     "metadata": {},
     "output_type": "execute_result"
    }
   ],
   "source": [
    "(cdf_1['y'] - cdf_0['y']).mean()"
   ]
  },
  {
   "cell_type": "code",
   "execution_count": 9,
   "metadata": {
    "execution": {
     "iopub.execute_input": "2023-11-21T17:09:55.909997Z",
     "iopub.status.busy": "2023-11-21T17:09:55.909704Z",
     "iopub.status.idle": "2023-11-21T17:09:55.926923Z",
     "shell.execute_reply": "2023-11-21T17:09:55.926305Z"
    }
   },
   "outputs": [
    {
     "data": {
      "image/png": "[encoded data removed]",
      "text/latex": [
       "$\\displaystyle 0.178106591337554$"
      ],
      "text/plain": [
       "0.17810659133755394"
      ]
     },
     "execution_count": 9,
     "metadata": {},
     "output_type": "execute_result"
    }
   ],
   "source": [
    "1.96*(cdf_1['y'] - cdf_0['y']).std() / np.sqrt(len(df))"
   ]
  },
  {
   "cell_type": "markdown",
   "metadata": {},
   "source": [
    "Comparing to the estimate from OLS."
   ]
  },
  {
   "cell_type": "code",
   "execution_count": 10,
   "metadata": {
    "execution": {
     "iopub.execute_input": "2023-11-21T17:09:55.929360Z",
     "iopub.status.busy": "2023-11-21T17:09:55.929024Z",
     "iopub.status.idle": "2023-11-21T17:09:55.945273Z",
     "shell.execute_reply": "2023-11-21T17:09:55.944663Z"
    }
   },
   "outputs": [
    {
     "data": {
      "text/html": [
       "<table class=\"simpletable\">\n",
       "<caption>OLS Regression Results</caption>\n",
       "<tr>\n",
       "  <th>Dep. Variable:</th>            <td>y</td>        <th>  R-squared (uncentered):</th>      <td>   0.978</td> \n",
       "</tr>\n",
       "<tr>\n",
       "  <th>Model:</th>                   <td>OLS</td>       <th>  Adj. R-squared (uncentered):</th> <td>   0.978</td> \n",
       "</tr>\n",
       "<tr>\n",
       "  <th>Method:</th>             <td>Least Squares</td>  <th>  F-statistic:       </th>          <td>2.192e+04</td>\n",
       "</tr>\n",
       "<tr>\n",
       "  <th>Date:</th>             <td>Tue, 21 Nov 2023</td> <th>  Prob (F-statistic):</th>           <td>  0.00</td>  \n",
       "</tr>\n",
       "<tr>\n",
       "  <th>Time:</th>                 <td>17:09:55</td>     <th>  Log-Likelihood:    </th>          <td> -1398.3</td> \n",
       "</tr>\n",
       "<tr>\n",
       "  <th>No. Observations:</th>      <td>  1000</td>      <th>  AIC:               </th>          <td>   2801.</td> \n",
       "</tr>\n",
       "<tr>\n",
       "  <th>Df Residuals:</th>          <td>   998</td>      <th>  BIC:               </th>          <td>   2810.</td> \n",
       "</tr>\n",
       "<tr>\n",
       "  <th>Df Model:</th>              <td>     2</td>      <th>                     </th>              <td> </td>    \n",
       "</tr>\n",
       "<tr>\n",
       "  <th>Covariance Type:</th>      <td>nonrobust</td>    <th>                     </th>              <td> </td>    \n",
       "</tr>\n",
       "</table>\n",
       "<table class=\"simpletable\">\n",
       "<tr>\n",
       "   <td></td>     <th>coef</th>     <th>std err</th>      <th>t</th>      <th>P>|t|</th>  <th>[0.025</th>    <th>0.975]</th>  \n",
       "</tr>\n",
       "<tr>\n",
       "  <th>x1</th> <td>    1.8969</td> <td>    0.038</td> <td>   50.456</td> <td> 0.000</td> <td>    1.823</td> <td>    1.971</td>\n",
       "</tr>\n",
       "<tr>\n",
       "  <th>x2</th> <td>    5.1647</td> <td>    0.058</td> <td>   89.745</td> <td> 0.000</td> <td>    5.052</td> <td>    5.278</td>\n",
       "</tr>\n",
       "</table>\n",
       "<table class=\"simpletable\">\n",
       "<tr>\n",
       "  <th>Omnibus:</th>       <td> 0.986</td> <th>  Durbin-Watson:     </th> <td>   2.025</td>\n",
       "</tr>\n",
       "<tr>\n",
       "  <th>Prob(Omnibus):</th> <td> 0.611</td> <th>  Jarque-Bera (JB):  </th> <td>   1.022</td>\n",
       "</tr>\n",
       "<tr>\n",
       "  <th>Skew:</th>          <td> 0.002</td> <th>  Prob(JB):          </th> <td>   0.600</td>\n",
       "</tr>\n",
       "<tr>\n",
       "  <th>Kurtosis:</th>      <td> 2.843</td> <th>  Cond. No.          </th> <td>    3.13</td>\n",
       "</tr>\n",
       "</table><br/><br/>Notes:<br/>[1] R² is computed without centering (uncentered) since the model does not contain a constant.<br/>[2] Standard Errors assume that the covariance matrix of the errors is correctly specified."
      ],
      "text/latex": [
       "\\begin{center}\n",
       "\\begin{tabular}{lclc}\n",
       "\\toprule\n",
       "\\textbf{Dep. Variable:}    &        y         & \\textbf{  R-squared (uncentered):}      &     0.978   \\\\\n",
       "\\textbf{Model:}            &       OLS        & \\textbf{  Adj. R-squared (uncentered):} &     0.978   \\\\\n",
       "\\textbf{Method:}           &  Least Squares   & \\textbf{  F-statistic:       }          & 2.192e+04   \\\\\n",
       "\\textbf{Date:}             & Tue, 21 Nov 2023 & \\textbf{  Prob (F-statistic):}          &     0.00    \\\\\n",
       "\\textbf{Time:}             &     17:09:55     & \\textbf{  Log-Likelihood:    }          &   -1398.3   \\\\\n",
       "\\textbf{No. Observations:} &        1000      & \\textbf{  AIC:               }          &     2801.   \\\\\n",
       "\\textbf{Df Residuals:}     &         998      & \\textbf{  BIC:               }          &     2810.   \\\\\n",
       "\\textbf{Df Model:}         &           2      & \\textbf{                     }          &             \\\\\n",
       "\\textbf{Covariance Type:}  &    nonrobust     & \\textbf{                     }          &             \\\\\n",
       "\\bottomrule\n",
       "\\end{tabular}\n",
       "\\begin{tabular}{lcccccc}\n",
       "            & \\textbf{coef} & \\textbf{std err} & \\textbf{t} & \\textbf{P$> |$t$|$} & \\textbf{[0.025} & \\textbf{0.975]}  \\\\\n",
       "\\midrule\n",
       "\\textbf{x1} &       1.8969  &        0.038     &    50.456  &         0.000        &        1.823    &        1.971     \\\\\n",
       "\\textbf{x2} &       5.1647  &        0.058     &    89.745  &         0.000        &        5.052    &        5.278     \\\\\n",
       "\\bottomrule\n",
       "\\end{tabular}\n",
       "\\begin{tabular}{lclc}\n",
       "\\textbf{Omnibus:}       &  0.986 & \\textbf{  Durbin-Watson:     } &    2.025  \\\\\n",
       "\\textbf{Prob(Omnibus):} &  0.611 & \\textbf{  Jarque-Bera (JB):  } &    1.022  \\\\\n",
       "\\textbf{Skew:}          &  0.002 & \\textbf{  Prob(JB):          } &    0.600  \\\\\n",
       "\\textbf{Kurtosis:}      &  2.843 & \\textbf{  Cond. No.          } &     3.13  \\\\\n",
       "\\bottomrule\n",
       "\\end{tabular}\n",
       "%\\caption{OLS Regression Results}\n",
       "\\end{center}\n",
       "\n",
       "Notes: \\newline\n",
       " [1] R² is computed without centering (uncentered) since the model does not contain a constant. \\newline\n",
       " [2] Standard Errors assume that the covariance matrix of the errors is correctly specified."
      ],
      "text/plain": [
       "<class 'statsmodels.iolib.summary.Summary'>\n",
       "\"\"\"\n",
       "                                 OLS Regression Results                                \n",
       "=======================================================================================\n",
       "Dep. Variable:                      y   R-squared (uncentered):                   0.978\n",
       "Model:                            OLS   Adj. R-squared (uncentered):              0.978\n",
       "Method:                 Least Squares   F-statistic:                          2.192e+04\n",
       "Date:                Tue, 21 Nov 2023   Prob (F-statistic):                        0.00\n",
       "Time:                        17:09:55   Log-Likelihood:                         -1398.3\n",
       "No. Observations:                1000   AIC:                                      2801.\n",
       "Df Residuals:                     998   BIC:                                      2810.\n",
       "Df Model:                           2                                                  \n",
       "Covariance Type:            nonrobust                                                  \n",
       "==============================================================================\n",
       "                 coef    std err          t      P>|t|      [0.025      0.975]\n",
       "------------------------------------------------------------------------------\n",
       "x1             1.8969      0.038     50.456      0.000       1.823       1.971\n",
       "x2             5.1647      0.058     89.745      0.000       5.052       5.278\n",
       "==============================================================================\n",
       "Omnibus:                        0.986   Durbin-Watson:                   2.025\n",
       "Prob(Omnibus):                  0.611   Jarque-Bera (JB):                1.022\n",
       "Skew:                           0.002   Prob(JB):                        0.600\n",
       "Kurtosis:                       2.843   Cond. No.                         3.13\n",
       "==============================================================================\n",
       "\n",
       "Notes:\n",
       "[1] R² is computed without centering (uncentered) since the model does not contain a constant.\n",
       "[2] Standard Errors assume that the covariance matrix of the errors is correctly specified.\n",
       "\"\"\""
      ]
     },
     "execution_count": 10,
     "metadata": {},
     "output_type": "execute_result"
    }
   ],
   "source": [
    "model = OLS(np.asarray(df[outcome]), np.asarray(df[[common_cause, treatment]], dtype=np.float64))\n",
    "result = model.fit()\n",
    "result.summary()"
   ]
  }
 ],
 "metadata": {
  "kernelspec": {
   "display_name": "Python 3",
   "language": "python",
   "name": "python3"
  },
  "language_info": {
   "codemirror_mode": {
    "name": "ipython",
    "version": 3
   },
   "file_extension": ".py",
   "mimetype": "text/x-python",
   "name": "python",
   "nbconvert_exporter": "python",
   "pygments_lexer": "ipython3",
   "version": "3.8.10"
  },
  "toc": {
   "base_numbering": 1,
   "nav_menu": {},
   "number_sections": false,
   "sideBar": true,
   "skip_h1_title": true,
   "title_cell": "Table of Contents",
   "title_sidebar": "Contents",
   "toc_cell": false,
   "toc_position": {},
   "toc_section_display": true,
   "toc_window_display": false
  }
 },
 "nbformat": 4,
 "nbformat_minor": 4
}
