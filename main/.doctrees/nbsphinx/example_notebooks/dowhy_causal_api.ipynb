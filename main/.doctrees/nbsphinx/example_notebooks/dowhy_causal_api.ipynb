{
 "cells": [
  {
   "cell_type": "markdown",
   "metadata": {},
   "source": [
    "# Demo for the DoWhy causal API\n",
    "We show a simple example of adding a causal extension to any dataframe. "
   ]
  },
  {
   "cell_type": "code",
   "execution_count": 1,
   "metadata": {
    "execution": {
     "iopub.execute_input": "2023-12-06T21:41:02.164403Z",
     "iopub.status.busy": "2023-12-06T21:41:02.164000Z",
     "iopub.status.idle": "2023-12-06T21:41:03.564346Z",
     "shell.execute_reply": "2023-12-06T21:41:03.563726Z"
    }
   },
   "outputs": [],
   "source": [
    "import dowhy.datasets\n",
    "import dowhy.api\n",
    "from dowhy.graph import build_graph_from_str\n",
    "\n",
    "import numpy as np\n",
    "import pandas as pd\n",
    "\n",
    "from statsmodels.api import OLS"
   ]
  },
  {
   "cell_type": "code",
   "execution_count": 2,
   "metadata": {
    "execution": {
     "iopub.execute_input": "2023-12-06T21:41:03.567083Z",
     "iopub.status.busy": "2023-12-06T21:41:03.566792Z",
     "iopub.status.idle": "2023-12-06T21:41:03.605335Z",
     "shell.execute_reply": "2023-12-06T21:41:03.604750Z"
    }
   },
   "outputs": [
    {
     "data": {
      "text/html": [
       "<div>\n",
       "<style scoped>\n",
       "    .dataframe tbody tr th:only-of-type {\n",
       "        vertical-align: middle;\n",
       "    }\n",
       "\n",
       "    .dataframe tbody tr th {\n",
       "        vertical-align: top;\n",
       "    }\n",
       "\n",
       "    .dataframe thead th {\n",
       "        text-align: right;\n",
       "    }\n",
       "</style>\n",
       "<table border=\"1\" class=\"dataframe\">\n",
       "  <thead>\n",
       "    <tr style=\"text-align: right;\">\n",
       "      <th></th>\n",
       "      <th>W0</th>\n",
       "      <th>v0</th>\n",
       "      <th>y</th>\n",
       "    </tr>\n",
       "  </thead>\n",
       "  <tbody>\n",
       "    <tr>\n",
       "      <th>0</th>\n",
       "      <td>0.545298</td>\n",
       "      <td>True</td>\n",
       "      <td>5.725551</td>\n",
       "    </tr>\n",
       "    <tr>\n",
       "      <th>1</th>\n",
       "      <td>-0.680002</td>\n",
       "      <td>False</td>\n",
       "      <td>-2.957086</td>\n",
       "    </tr>\n",
       "    <tr>\n",
       "      <th>2</th>\n",
       "      <td>-1.424410</td>\n",
       "      <td>False</td>\n",
       "      <td>-3.646981</td>\n",
       "    </tr>\n",
       "    <tr>\n",
       "      <th>3</th>\n",
       "      <td>-0.727553</td>\n",
       "      <td>False</td>\n",
       "      <td>-1.783657</td>\n",
       "    </tr>\n",
       "    <tr>\n",
       "      <th>4</th>\n",
       "      <td>0.345687</td>\n",
       "      <td>False</td>\n",
       "      <td>1.604299</td>\n",
       "    </tr>\n",
       "    <tr>\n",
       "      <th>...</th>\n",
       "      <td>...</td>\n",
       "      <td>...</td>\n",
       "      <td>...</td>\n",
       "    </tr>\n",
       "    <tr>\n",
       "      <th>995</th>\n",
       "      <td>-1.665431</td>\n",
       "      <td>False</td>\n",
       "      <td>-2.740651</td>\n",
       "    </tr>\n",
       "    <tr>\n",
       "      <th>996</th>\n",
       "      <td>-0.328970</td>\n",
       "      <td>True</td>\n",
       "      <td>4.107379</td>\n",
       "    </tr>\n",
       "    <tr>\n",
       "      <th>997</th>\n",
       "      <td>-0.869654</td>\n",
       "      <td>False</td>\n",
       "      <td>-2.396288</td>\n",
       "    </tr>\n",
       "    <tr>\n",
       "      <th>998</th>\n",
       "      <td>-1.455626</td>\n",
       "      <td>False</td>\n",
       "      <td>-2.466975</td>\n",
       "    </tr>\n",
       "    <tr>\n",
       "      <th>999</th>\n",
       "      <td>-2.194575</td>\n",
       "      <td>False</td>\n",
       "      <td>-4.846775</td>\n",
       "    </tr>\n",
       "  </tbody>\n",
       "</table>\n",
       "<p>1000 rows × 3 columns</p>\n",
       "</div>"
      ],
      "text/plain": [
       "           W0     v0         y\n",
       "0    0.545298   True  5.725551\n",
       "1   -0.680002  False -2.957086\n",
       "2   -1.424410  False -3.646981\n",
       "3   -0.727553  False -1.783657\n",
       "4    0.345687  False  1.604299\n",
       "..        ...    ...       ...\n",
       "995 -1.665431  False -2.740651\n",
       "996 -0.328970   True  4.107379\n",
       "997 -0.869654  False -2.396288\n",
       "998 -1.455626  False -2.466975\n",
       "999 -2.194575  False -4.846775\n",
       "\n",
       "[1000 rows x 3 columns]"
      ]
     },
     "execution_count": 2,
     "metadata": {},
     "output_type": "execute_result"
    }
   ],
   "source": [
    "data = dowhy.datasets.linear_dataset(beta=5,\n",
    "        num_common_causes=1,\n",
    "        num_instruments = 0,\n",
    "        num_samples=1000,\n",
    "        treatment_is_binary=True)\n",
    "df = data['df']\n",
    "df['y'] = df['y'] + np.random.normal(size=len(df)) # Adding noise to data. Without noise, the variance in Y|X, Z is zero, and mcmc fails.\n",
    "nx_graph = build_graph_from_str(data[\"dot_graph\"])\n",
    "\n",
    "treatment= data[\"treatment_name\"][0]\n",
    "outcome = data[\"outcome_name\"][0]\n",
    "common_cause = data[\"common_causes_names\"][0]\n",
    "df"
   ]
  },
  {
   "cell_type": "code",
   "execution_count": 3,
   "metadata": {
    "execution": {
     "iopub.execute_input": "2023-12-06T21:41:03.607430Z",
     "iopub.status.busy": "2023-12-06T21:41:03.607245Z",
     "iopub.status.idle": "2023-12-06T21:41:03.791723Z",
     "shell.execute_reply": "2023-12-06T21:41:03.791125Z"
    },
    "scrolled": true
   },
   "outputs": [
    {
     "data": {
      "text/plain": [
       "<Axes: xlabel='v0'>"
      ]
     },
     "execution_count": 3,
     "metadata": {},
     "output_type": "execute_result"
    },
    {
     "data": {
      "image/png": "[encoded data removed]",
      "text/plain": [
       "<Figure size 640x480 with 1 Axes>"
      ]
     },
     "metadata": {},
     "output_type": "display_data"
    }
   ],
   "source": [
    "# data['df'] is just a regular pandas.DataFrame\n",
    "df.causal.do(x=treatment,\n",
    "             variable_types={treatment: 'b', outcome: 'c', common_cause: 'c'},\n",
    "             outcome=outcome,\n",
    "             common_causes=[common_cause],\n",
    "            ).groupby(treatment).mean().plot(y=outcome, kind='bar')"
   ]
  },
  {
   "cell_type": "code",
   "execution_count": 4,
   "metadata": {
    "execution": {
     "iopub.execute_input": "2023-12-06T21:41:03.794305Z",
     "iopub.status.busy": "2023-12-06T21:41:03.793867Z",
     "iopub.status.idle": "2023-12-06T21:41:03.935202Z",
     "shell.execute_reply": "2023-12-06T21:41:03.934527Z"
    }
   },
   "outputs": [
    {
     "data": {
      "text/plain": [
       "<Axes: xlabel='v0'>"
      ]
     },
     "execution_count": 4,
     "metadata": {},
     "output_type": "execute_result"
    },
    {
     "data": {
      "image/png": "[encoded data removed]",
      "text/plain": [
       "<Figure size 640x480 with 1 Axes>"
      ]
     },
     "metadata": {},
     "output_type": "display_data"
    }
   ],
   "source": [
    "df.causal.do(x={treatment: 1}, \n",
    "              variable_types={treatment:'b', outcome: 'c', common_cause: 'c'}, \n",
    "              outcome=outcome,\n",
    "              method='weighting', \n",
    "              common_causes=[common_cause]\n",
    "              ).groupby(treatment).mean().plot(y=outcome, kind='bar')"
   ]
  },
  {
   "cell_type": "code",
   "execution_count": 5,
   "metadata": {
    "execution": {
     "iopub.execute_input": "2023-12-06T21:41:03.937474Z",
     "iopub.status.busy": "2023-12-06T21:41:03.937272Z",
     "iopub.status.idle": "2023-12-06T21:41:03.958174Z",
     "shell.execute_reply": "2023-12-06T21:41:03.957680Z"
    }
   },
   "outputs": [],
   "source": [
    "cdf_1 = df.causal.do(x={treatment: 1}, \n",
    "              variable_types={treatment: 'b', outcome: 'c', common_cause: 'c'}, \n",
    "              outcome=outcome, \n",
    "              graph=nx_graph\n",
    "              )\n",
    "\n",
    "cdf_0 = df.causal.do(x={treatment: 0}, \n",
    "              variable_types={treatment: 'b', outcome: 'c', common_cause: 'c'}, \n",
    "              outcome=outcome, \n",
    "              graph=nx_graph\n",
    "              )\n"
   ]
  },
  {
   "cell_type": "code",
   "execution_count": 6,
   "metadata": {
    "execution": {
     "iopub.execute_input": "2023-12-06T21:41:03.960343Z",
     "iopub.status.busy": "2023-12-06T21:41:03.960160Z",
     "iopub.status.idle": "2023-12-06T21:41:03.969189Z",
     "shell.execute_reply": "2023-12-06T21:41:03.968571Z"
    },
    "scrolled": true
   },
   "outputs": [
    {
     "data": {
      "text/html": [
       "<div>\n",
       "<style scoped>\n",
       "    .dataframe tbody tr th:only-of-type {\n",
       "        vertical-align: middle;\n",
       "    }\n",
       "\n",
       "    .dataframe tbody tr th {\n",
       "        vertical-align: top;\n",
       "    }\n",
       "\n",
       "    .dataframe thead th {\n",
       "        text-align: right;\n",
       "    }\n",
       "</style>\n",
       "<table border=\"1\" class=\"dataframe\">\n",
       "  <thead>\n",
       "    <tr style=\"text-align: right;\">\n",
       "      <th></th>\n",
       "      <th>W0</th>\n",
       "      <th>v0</th>\n",
       "      <th>y</th>\n",
       "      <th>propensity_score</th>\n",
       "      <th>weight</th>\n",
       "    </tr>\n",
       "  </thead>\n",
       "  <tbody>\n",
       "    <tr>\n",
       "      <th>0</th>\n",
       "      <td>-0.312724</td>\n",
       "      <td>False</td>\n",
       "      <td>-1.159518</td>\n",
       "      <td>0.658247</td>\n",
       "      <td>1.519187</td>\n",
       "    </tr>\n",
       "    <tr>\n",
       "      <th>1</th>\n",
       "      <td>-1.252253</td>\n",
       "      <td>False</td>\n",
       "      <td>-4.264581</td>\n",
       "      <td>0.908265</td>\n",
       "      <td>1.101000</td>\n",
       "    </tr>\n",
       "    <tr>\n",
       "      <th>2</th>\n",
       "      <td>-0.165841</td>\n",
       "      <td>False</td>\n",
       "      <td>-1.707496</td>\n",
       "      <td>0.598579</td>\n",
       "      <td>1.670625</td>\n",
       "    </tr>\n",
       "    <tr>\n",
       "      <th>3</th>\n",
       "      <td>-0.719005</td>\n",
       "      <td>False</td>\n",
       "      <td>-2.008620</td>\n",
       "      <td>0.796318</td>\n",
       "      <td>1.255779</td>\n",
       "    </tr>\n",
       "    <tr>\n",
       "      <th>4</th>\n",
       "      <td>-0.761098</td>\n",
       "      <td>False</td>\n",
       "      <td>-2.371420</td>\n",
       "      <td>0.807957</td>\n",
       "      <td>1.237690</td>\n",
       "    </tr>\n",
       "    <tr>\n",
       "      <th>...</th>\n",
       "      <td>...</td>\n",
       "      <td>...</td>\n",
       "      <td>...</td>\n",
       "      <td>...</td>\n",
       "      <td>...</td>\n",
       "    </tr>\n",
       "    <tr>\n",
       "      <th>995</th>\n",
       "      <td>-0.299416</td>\n",
       "      <td>False</td>\n",
       "      <td>-0.136585</td>\n",
       "      <td>0.653011</td>\n",
       "      <td>1.531368</td>\n",
       "    </tr>\n",
       "    <tr>\n",
       "      <th>996</th>\n",
       "      <td>-0.034330</td>\n",
       "      <td>False</td>\n",
       "      <td>-2.845620</td>\n",
       "      <td>0.542494</td>\n",
       "      <td>1.843340</td>\n",
       "    </tr>\n",
       "    <tr>\n",
       "      <th>997</th>\n",
       "      <td>-1.873365</td>\n",
       "      <td>False</td>\n",
       "      <td>-7.374339</td>\n",
       "      <td>0.966912</td>\n",
       "      <td>1.034221</td>\n",
       "    </tr>\n",
       "    <tr>\n",
       "      <th>998</th>\n",
       "      <td>-0.972313</td>\n",
       "      <td>False</td>\n",
       "      <td>-2.510268</td>\n",
       "      <td>0.858736</td>\n",
       "      <td>1.164502</td>\n",
       "    </tr>\n",
       "    <tr>\n",
       "      <th>999</th>\n",
       "      <td>-1.519545</td>\n",
       "      <td>False</td>\n",
       "      <td>-4.306894</td>\n",
       "      <td>0.940386</td>\n",
       "      <td>1.063394</td>\n",
       "    </tr>\n",
       "  </tbody>\n",
       "</table>\n",
       "<p>1000 rows × 5 columns</p>\n",
       "</div>"
      ],
      "text/plain": [
       "           W0     v0         y  propensity_score    weight\n",
       "0   -0.312724  False -1.159518          0.658247  1.519187\n",
       "1   -1.252253  False -4.264581          0.908265  1.101000\n",
       "2   -0.165841  False -1.707496          0.598579  1.670625\n",
       "3   -0.719005  False -2.008620          0.796318  1.255779\n",
       "4   -0.761098  False -2.371420          0.807957  1.237690\n",
       "..        ...    ...       ...               ...       ...\n",
       "995 -0.299416  False -0.136585          0.653011  1.531368\n",
       "996 -0.034330  False -2.845620          0.542494  1.843340\n",
       "997 -1.873365  False -7.374339          0.966912  1.034221\n",
       "998 -0.972313  False -2.510268          0.858736  1.164502\n",
       "999 -1.519545  False -4.306894          0.940386  1.063394\n",
       "\n",
       "[1000 rows x 5 columns]"
      ]
     },
     "execution_count": 6,
     "metadata": {},
     "output_type": "execute_result"
    }
   ],
   "source": [
    "cdf_0"
   ]
  },
  {
   "cell_type": "code",
   "execution_count": 7,
   "metadata": {
    "execution": {
     "iopub.execute_input": "2023-12-06T21:41:03.971325Z",
     "iopub.status.busy": "2023-12-06T21:41:03.970983Z",
     "iopub.status.idle": "2023-12-06T21:41:03.979527Z",
     "shell.execute_reply": "2023-12-06T21:41:03.979041Z"
    }
   },
   "outputs": [
    {
     "data": {
      "text/html": [
       "<div>\n",
       "<style scoped>\n",
       "    .dataframe tbody tr th:only-of-type {\n",
       "        vertical-align: middle;\n",
       "    }\n",
       "\n",
       "    .dataframe tbody tr th {\n",
       "        vertical-align: top;\n",
       "    }\n",
       "\n",
       "    .dataframe thead th {\n",
       "        text-align: right;\n",
       "    }\n",
       "</style>\n",
       "<table border=\"1\" class=\"dataframe\">\n",
       "  <thead>\n",
       "    <tr style=\"text-align: right;\">\n",
       "      <th></th>\n",
       "      <th>W0</th>\n",
       "      <th>v0</th>\n",
       "      <th>y</th>\n",
       "      <th>propensity_score</th>\n",
       "      <th>weight</th>\n",
       "    </tr>\n",
       "  </thead>\n",
       "  <tbody>\n",
       "    <tr>\n",
       "      <th>0</th>\n",
       "      <td>-0.259640</td>\n",
       "      <td>True</td>\n",
       "      <td>3.396649</td>\n",
       "      <td>0.362855</td>\n",
       "      <td>2.755918</td>\n",
       "    </tr>\n",
       "    <tr>\n",
       "      <th>1</th>\n",
       "      <td>-0.475553</td>\n",
       "      <td>True</td>\n",
       "      <td>2.944791</td>\n",
       "      <td>0.281057</td>\n",
       "      <td>3.557993</td>\n",
       "    </tr>\n",
       "    <tr>\n",
       "      <th>2</th>\n",
       "      <td>0.867176</td>\n",
       "      <td>True</td>\n",
       "      <td>7.698955</td>\n",
       "      <td>0.802263</td>\n",
       "      <td>1.246474</td>\n",
       "    </tr>\n",
       "    <tr>\n",
       "      <th>3</th>\n",
       "      <td>0.405833</td>\n",
       "      <td>True</td>\n",
       "      <td>5.087518</td>\n",
       "      <td>0.644879</td>\n",
       "      <td>1.550678</td>\n",
       "    </tr>\n",
       "    <tr>\n",
       "      <th>4</th>\n",
       "      <td>-0.932299</td>\n",
       "      <td>True</td>\n",
       "      <td>1.777816</td>\n",
       "      <td>0.149935</td>\n",
       "      <td>6.669545</td>\n",
       "    </tr>\n",
       "    <tr>\n",
       "      <th>...</th>\n",
       "      <td>...</td>\n",
       "      <td>...</td>\n",
       "      <td>...</td>\n",
       "      <td>...</td>\n",
       "      <td>...</td>\n",
       "    </tr>\n",
       "    <tr>\n",
       "      <th>995</th>\n",
       "      <td>-0.694590</td>\n",
       "      <td>True</td>\n",
       "      <td>4.165100</td>\n",
       "      <td>0.210669</td>\n",
       "      <td>4.746785</td>\n",
       "    </tr>\n",
       "    <tr>\n",
       "      <th>996</th>\n",
       "      <td>-1.785493</td>\n",
       "      <td>True</td>\n",
       "      <td>-0.535101</td>\n",
       "      <td>0.038353</td>\n",
       "      <td>26.073466</td>\n",
       "    </tr>\n",
       "    <tr>\n",
       "      <th>997</th>\n",
       "      <td>-0.817684</td>\n",
       "      <td>True</td>\n",
       "      <td>1.740214</td>\n",
       "      <td>0.177206</td>\n",
       "      <td>5.643139</td>\n",
       "    </tr>\n",
       "    <tr>\n",
       "      <th>998</th>\n",
       "      <td>-1.207657</td>\n",
       "      <td>True</td>\n",
       "      <td>2.161040</td>\n",
       "      <td>0.098418</td>\n",
       "      <td>10.160716</td>\n",
       "    </tr>\n",
       "    <tr>\n",
       "      <th>999</th>\n",
       "      <td>-1.785493</td>\n",
       "      <td>True</td>\n",
       "      <td>-0.535101</td>\n",
       "      <td>0.038353</td>\n",
       "      <td>26.073466</td>\n",
       "    </tr>\n",
       "  </tbody>\n",
       "</table>\n",
       "<p>1000 rows × 5 columns</p>\n",
       "</div>"
      ],
      "text/plain": [
       "           W0    v0         y  propensity_score     weight\n",
       "0   -0.259640  True  3.396649          0.362855   2.755918\n",
       "1   -0.475553  True  2.944791          0.281057   3.557993\n",
       "2    0.867176  True  7.698955          0.802263   1.246474\n",
       "3    0.405833  True  5.087518          0.644879   1.550678\n",
       "4   -0.932299  True  1.777816          0.149935   6.669545\n",
       "..        ...   ...       ...               ...        ...\n",
       "995 -0.694590  True  4.165100          0.210669   4.746785\n",
       "996 -1.785493  True -0.535101          0.038353  26.073466\n",
       "997 -0.817684  True  1.740214          0.177206   5.643139\n",
       "998 -1.207657  True  2.161040          0.098418  10.160716\n",
       "999 -1.785493  True -0.535101          0.038353  26.073466\n",
       "\n",
       "[1000 rows x 5 columns]"
      ]
     },
     "execution_count": 7,
     "metadata": {},
     "output_type": "execute_result"
    }
   ],
   "source": [
    "cdf_1"
   ]
  },
  {
   "cell_type": "markdown",
   "metadata": {},
   "source": [
    "## Comparing the estimate to Linear Regression\n",
    "First, estimating the effect using the causal data frame, and the 95% confidence interval."
   ]
  },
  {
   "cell_type": "code",
   "execution_count": 8,
   "metadata": {
    "execution": {
     "iopub.execute_input": "2023-12-06T21:41:03.981854Z",
     "iopub.status.busy": "2023-12-06T21:41:03.981385Z",
     "iopub.status.idle": "2023-12-06T21:41:04.119351Z",
     "shell.execute_reply": "2023-12-06T21:41:04.118687Z"
    }
   },
   "outputs": [
    {
     "data": {
      "image/png": "[encoded data removed]",
      "text/latex": [
       "$\\displaystyle 5.53681599062926$"
      ],
      "text/plain": [
       "5.536815990629265"
      ]
     },
     "execution_count": 8,
     "metadata": {},
     "output_type": "execute_result"
    }
   ],
   "source": [
    "(cdf_1['y'] - cdf_0['y']).mean()"
   ]
  },
  {
   "cell_type": "code",
   "execution_count": 9,
   "metadata": {
    "execution": {
     "iopub.execute_input": "2023-12-06T21:41:04.121783Z",
     "iopub.status.busy": "2023-12-06T21:41:04.121395Z",
     "iopub.status.idle": "2023-12-06T21:41:04.139701Z",
     "shell.execute_reply": "2023-12-06T21:41:04.139121Z"
    }
   },
   "outputs": [
    {
     "data": {
      "image/png": "[encoded data removed]",
      "text/latex": [
       "$\\displaystyle 0.206038177553342$"
      ],
      "text/plain": [
       "0.20603817755334225"
      ]
     },
     "execution_count": 9,
     "metadata": {},
     "output_type": "execute_result"
    }
   ],
   "source": [
    "1.96*(cdf_1['y'] - cdf_0['y']).std() / np.sqrt(len(df))"
   ]
  },
  {
   "cell_type": "markdown",
   "metadata": {},
   "source": [
    "Comparing to the estimate from OLS."
   ]
  },
  {
   "cell_type": "code",
   "execution_count": 10,
   "metadata": {
    "execution": {
     "iopub.execute_input": "2023-12-06T21:41:04.142039Z",
     "iopub.status.busy": "2023-12-06T21:41:04.141747Z",
     "iopub.status.idle": "2023-12-06T21:41:04.159948Z",
     "shell.execute_reply": "2023-12-06T21:41:04.159349Z"
    }
   },
   "outputs": [
    {
     "data": {
      "text/html": [
       "<table class=\"simpletable\">\n",
       "<caption>OLS Regression Results</caption>\n",
       "<tr>\n",
       "  <th>Dep. Variable:</th>            <td>y</td>        <th>  R-squared (uncentered):</th>      <td>   0.943</td>\n",
       "</tr>\n",
       "<tr>\n",
       "  <th>Model:</th>                   <td>OLS</td>       <th>  Adj. R-squared (uncentered):</th> <td>   0.943</td>\n",
       "</tr>\n",
       "<tr>\n",
       "  <th>Method:</th>             <td>Least Squares</td>  <th>  F-statistic:       </th>          <td>   8271.</td>\n",
       "</tr>\n",
       "<tr>\n",
       "  <th>Date:</th>             <td>Wed, 06 Dec 2023</td> <th>  Prob (F-statistic):</th>           <td>  0.00</td> \n",
       "</tr>\n",
       "<tr>\n",
       "  <th>Time:</th>                 <td>21:41:04</td>     <th>  Log-Likelihood:    </th>          <td> -1429.5</td>\n",
       "</tr>\n",
       "<tr>\n",
       "  <th>No. Observations:</th>      <td>  1000</td>      <th>  AIC:               </th>          <td>   2863.</td>\n",
       "</tr>\n",
       "<tr>\n",
       "  <th>Df Residuals:</th>          <td>   998</td>      <th>  BIC:               </th>          <td>   2873.</td>\n",
       "</tr>\n",
       "<tr>\n",
       "  <th>Df Model:</th>              <td>     2</td>      <th>                     </th>              <td> </td>   \n",
       "</tr>\n",
       "<tr>\n",
       "  <th>Covariance Type:</th>      <td>nonrobust</td>    <th>                     </th>              <td> </td>   \n",
       "</tr>\n",
       "</table>\n",
       "<table class=\"simpletable\">\n",
       "<tr>\n",
       "   <td></td>     <th>coef</th>     <th>std err</th>      <th>t</th>      <th>P>|t|</th>  <th>[0.025</th>    <th>0.975]</th>  \n",
       "</tr>\n",
       "<tr>\n",
       "  <th>x1</th> <td>    2.5110</td> <td>    0.027</td> <td>   94.082</td> <td> 0.000</td> <td>    2.459</td> <td>    2.563</td>\n",
       "</tr>\n",
       "<tr>\n",
       "  <th>x2</th> <td>    4.9076</td> <td>    0.059</td> <td>   82.636</td> <td> 0.000</td> <td>    4.791</td> <td>    5.024</td>\n",
       "</tr>\n",
       "</table>\n",
       "<table class=\"simpletable\">\n",
       "<tr>\n",
       "  <th>Omnibus:</th>       <td> 3.759</td> <th>  Durbin-Watson:     </th> <td>   2.077</td>\n",
       "</tr>\n",
       "<tr>\n",
       "  <th>Prob(Omnibus):</th> <td> 0.153</td> <th>  Jarque-Bera (JB):  </th> <td>   3.667</td>\n",
       "</tr>\n",
       "<tr>\n",
       "  <th>Skew:</th>          <td>-0.147</td> <th>  Prob(JB):          </th> <td>   0.160</td>\n",
       "</tr>\n",
       "<tr>\n",
       "  <th>Kurtosis:</th>      <td> 3.045</td> <th>  Cond. No.          </th> <td>    2.23</td>\n",
       "</tr>\n",
       "</table><br/><br/>Notes:<br/>[1] R² is computed without centering (uncentered) since the model does not contain a constant.<br/>[2] Standard Errors assume that the covariance matrix of the errors is correctly specified."
      ],
      "text/latex": [
       "\\begin{center}\n",
       "\\begin{tabular}{lclc}\n",
       "\\toprule\n",
       "\\textbf{Dep. Variable:}    &        y         & \\textbf{  R-squared (uncentered):}      &     0.943   \\\\\n",
       "\\textbf{Model:}            &       OLS        & \\textbf{  Adj. R-squared (uncentered):} &     0.943   \\\\\n",
       "\\textbf{Method:}           &  Least Squares   & \\textbf{  F-statistic:       }          &     8271.   \\\\\n",
       "\\textbf{Date:}             & Wed, 06 Dec 2023 & \\textbf{  Prob (F-statistic):}          &     0.00    \\\\\n",
       "\\textbf{Time:}             &     21:41:04     & \\textbf{  Log-Likelihood:    }          &   -1429.5   \\\\\n",
       "\\textbf{No. Observations:} &        1000      & \\textbf{  AIC:               }          &     2863.   \\\\\n",
       "\\textbf{Df Residuals:}     &         998      & \\textbf{  BIC:               }          &     2873.   \\\\\n",
       "\\textbf{Df Model:}         &           2      & \\textbf{                     }          &             \\\\\n",
       "\\textbf{Covariance Type:}  &    nonrobust     & \\textbf{                     }          &             \\\\\n",
       "\\bottomrule\n",
       "\\end{tabular}\n",
       "\\begin{tabular}{lcccccc}\n",
       "            & \\textbf{coef} & \\textbf{std err} & \\textbf{t} & \\textbf{P$> |$t$|$} & \\textbf{[0.025} & \\textbf{0.975]}  \\\\\n",
       "\\midrule\n",
       "\\textbf{x1} &       2.5110  &        0.027     &    94.082  &         0.000        &        2.459    &        2.563     \\\\\n",
       "\\textbf{x2} &       4.9076  &        0.059     &    82.636  &         0.000        &        4.791    &        5.024     \\\\\n",
       "\\bottomrule\n",
       "\\end{tabular}\n",
       "\\begin{tabular}{lclc}\n",
       "\\textbf{Omnibus:}       &  3.759 & \\textbf{  Durbin-Watson:     } &    2.077  \\\\\n",
       "\\textbf{Prob(Omnibus):} &  0.153 & \\textbf{  Jarque-Bera (JB):  } &    3.667  \\\\\n",
       "\\textbf{Skew:}          & -0.147 & \\textbf{  Prob(JB):          } &    0.160  \\\\\n",
       "\\textbf{Kurtosis:}      &  3.045 & \\textbf{  Cond. No.          } &     2.23  \\\\\n",
       "\\bottomrule\n",
       "\\end{tabular}\n",
       "%\\caption{OLS Regression Results}\n",
       "\\end{center}\n",
       "\n",
       "Notes: \\newline\n",
       " [1] R² is computed without centering (uncentered) since the model does not contain a constant. \\newline\n",
       " [2] Standard Errors assume that the covariance matrix of the errors is correctly specified."
      ],
      "text/plain": [
       "<class 'statsmodels.iolib.summary.Summary'>\n",
       "\"\"\"\n",
       "                                 OLS Regression Results                                \n",
       "=======================================================================================\n",
       "Dep. Variable:                      y   R-squared (uncentered):                   0.943\n",
       "Model:                            OLS   Adj. R-squared (uncentered):              0.943\n",
       "Method:                 Least Squares   F-statistic:                              8271.\n",
       "Date:                Wed, 06 Dec 2023   Prob (F-statistic):                        0.00\n",
       "Time:                        21:41:04   Log-Likelihood:                         -1429.5\n",
       "No. Observations:                1000   AIC:                                      2863.\n",
       "Df Residuals:                     998   BIC:                                      2873.\n",
       "Df Model:                           2                                                  \n",
       "Covariance Type:            nonrobust                                                  \n",
       "==============================================================================\n",
       "                 coef    std err          t      P>|t|      [0.025      0.975]\n",
       "------------------------------------------------------------------------------\n",
       "x1             2.5110      0.027     94.082      0.000       2.459       2.563\n",
       "x2             4.9076      0.059     82.636      0.000       4.791       5.024\n",
       "==============================================================================\n",
       "Omnibus:                        3.759   Durbin-Watson:                   2.077\n",
       "Prob(Omnibus):                  0.153   Jarque-Bera (JB):                3.667\n",
       "Skew:                          -0.147   Prob(JB):                        0.160\n",
       "Kurtosis:                       3.045   Cond. No.                         2.23\n",
       "==============================================================================\n",
       "\n",
       "Notes:\n",
       "[1] R² is computed without centering (uncentered) since the model does not contain a constant.\n",
       "[2] Standard Errors assume that the covariance matrix of the errors is correctly specified.\n",
       "\"\"\""
      ]
     },
     "execution_count": 10,
     "metadata": {},
     "output_type": "execute_result"
    }
   ],
   "source": [
    "model = OLS(np.asarray(df[outcome]), np.asarray(df[[common_cause, treatment]], dtype=np.float64))\n",
    "result = model.fit()\n",
    "result.summary()"
   ]
  }
 ],
 "metadata": {
  "kernelspec": {
   "display_name": "Python 3 (ipykernel)",
   "language": "python",
   "name": "python3"
  },
  "language_info": {
   "codemirror_mode": {
    "name": "ipython",
    "version": 3
   },
   "file_extension": ".py",
   "mimetype": "text/x-python",
   "name": "python",
   "nbconvert_exporter": "python",
   "pygments_lexer": "ipython3",
   "version": "3.8.10"
  },
  "toc": {
   "base_numbering": 1,
   "nav_menu": {},
   "number_sections": false,
   "sideBar": true,
   "skip_h1_title": true,
   "title_cell": "Table of Contents",
   "title_sidebar": "Contents",
   "toc_cell": false,
   "toc_position": {},
   "toc_section_display": true,
   "toc_window_display": false
  }
 },
 "nbformat": 4,
 "nbformat_minor": 4
}
