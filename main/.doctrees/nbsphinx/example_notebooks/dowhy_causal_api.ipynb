{
 "cells": [
  {
   "cell_type": "markdown",
   "metadata": {},
   "source": [
    "# Demo for the DoWhy causal API\n",
    "We show a simple example of adding a causal extension to any dataframe. "
   ]
  },
  {
   "cell_type": "code",
   "execution_count": 1,
   "metadata": {
    "execution": {
     "iopub.execute_input": "2023-11-22T15:11:54.436347Z",
     "iopub.status.busy": "2023-11-22T15:11:54.436175Z",
     "iopub.status.idle": "2023-11-22T15:11:55.836180Z",
     "shell.execute_reply": "2023-11-22T15:11:55.835568Z"
    }
   },
   "outputs": [],
   "source": [
    "import dowhy.datasets\n",
    "import dowhy.api\n",
    "\n",
    "import numpy as np\n",
    "import pandas as pd\n",
    "\n",
    "from statsmodels.api import OLS"
   ]
  },
  {
   "cell_type": "code",
   "execution_count": 2,
   "metadata": {
    "execution": {
     "iopub.execute_input": "2023-11-22T15:11:55.839346Z",
     "iopub.status.busy": "2023-11-22T15:11:55.838626Z",
     "iopub.status.idle": "2023-11-22T15:11:55.873427Z",
     "shell.execute_reply": "2023-11-22T15:11:55.872841Z"
    }
   },
   "outputs": [
    {
     "data": {
      "text/html": [
       "<div>\n",
       "<style scoped>\n",
       "    .dataframe tbody tr th:only-of-type {\n",
       "        vertical-align: middle;\n",
       "    }\n",
       "\n",
       "    .dataframe tbody tr th {\n",
       "        vertical-align: top;\n",
       "    }\n",
       "\n",
       "    .dataframe thead th {\n",
       "        text-align: right;\n",
       "    }\n",
       "</style>\n",
       "<table border=\"1\" class=\"dataframe\">\n",
       "  <thead>\n",
       "    <tr style=\"text-align: right;\">\n",
       "      <th></th>\n",
       "      <th>W0</th>\n",
       "      <th>v0</th>\n",
       "      <th>y</th>\n",
       "    </tr>\n",
       "  </thead>\n",
       "  <tbody>\n",
       "    <tr>\n",
       "      <th>0</th>\n",
       "      <td>0.031448</td>\n",
       "      <td>True</td>\n",
       "      <td>3.988365</td>\n",
       "    </tr>\n",
       "    <tr>\n",
       "      <th>1</th>\n",
       "      <td>-0.780643</td>\n",
       "      <td>False</td>\n",
       "      <td>1.834933</td>\n",
       "    </tr>\n",
       "    <tr>\n",
       "      <th>2</th>\n",
       "      <td>0.840619</td>\n",
       "      <td>True</td>\n",
       "      <td>4.133772</td>\n",
       "    </tr>\n",
       "    <tr>\n",
       "      <th>3</th>\n",
       "      <td>0.991618</td>\n",
       "      <td>True</td>\n",
       "      <td>3.265256</td>\n",
       "    </tr>\n",
       "    <tr>\n",
       "      <th>4</th>\n",
       "      <td>0.378879</td>\n",
       "      <td>False</td>\n",
       "      <td>0.063881</td>\n",
       "    </tr>\n",
       "    <tr>\n",
       "      <th>...</th>\n",
       "      <td>...</td>\n",
       "      <td>...</td>\n",
       "      <td>...</td>\n",
       "    </tr>\n",
       "    <tr>\n",
       "      <th>995</th>\n",
       "      <td>-1.564511</td>\n",
       "      <td>False</td>\n",
       "      <td>0.698218</td>\n",
       "    </tr>\n",
       "    <tr>\n",
       "      <th>996</th>\n",
       "      <td>-0.186787</td>\n",
       "      <td>False</td>\n",
       "      <td>-1.236308</td>\n",
       "    </tr>\n",
       "    <tr>\n",
       "      <th>997</th>\n",
       "      <td>-1.451326</td>\n",
       "      <td>True</td>\n",
       "      <td>5.979424</td>\n",
       "    </tr>\n",
       "    <tr>\n",
       "      <th>998</th>\n",
       "      <td>-0.834280</td>\n",
       "      <td>False</td>\n",
       "      <td>-1.293601</td>\n",
       "    </tr>\n",
       "    <tr>\n",
       "      <th>999</th>\n",
       "      <td>-1.341532</td>\n",
       "      <td>False</td>\n",
       "      <td>0.206614</td>\n",
       "    </tr>\n",
       "  </tbody>\n",
       "</table>\n",
       "<p>1000 rows × 3 columns</p>\n",
       "</div>"
      ],
      "text/plain": [
       "           W0     v0         y\n",
       "0    0.031448   True  3.988365\n",
       "1   -0.780643  False  1.834933\n",
       "2    0.840619   True  4.133772\n",
       "3    0.991618   True  3.265256\n",
       "4    0.378879  False  0.063881\n",
       "..        ...    ...       ...\n",
       "995 -1.564511  False  0.698218\n",
       "996 -0.186787  False -1.236308\n",
       "997 -1.451326   True  5.979424\n",
       "998 -0.834280  False -1.293601\n",
       "999 -1.341532  False  0.206614\n",
       "\n",
       "[1000 rows x 3 columns]"
      ]
     },
     "execution_count": 2,
     "metadata": {},
     "output_type": "execute_result"
    }
   ],
   "source": [
    "data = dowhy.datasets.linear_dataset(beta=5,\n",
    "        num_common_causes=1,\n",
    "        num_instruments = 0,\n",
    "        num_samples=1000,\n",
    "        treatment_is_binary=True)\n",
    "df = data['df']\n",
    "df['y'] = df['y'] + np.random.normal(size=len(df)) # Adding noise to data. Without noise, the variance in Y|X, Z is zero, and mcmc fails.\n",
    "#data['dot_graph'] = 'digraph { v ->y;X0-> v;X0-> y;}'\n",
    "\n",
    "treatment= data[\"treatment_name\"][0]\n",
    "outcome = data[\"outcome_name\"][0]\n",
    "common_cause = data[\"common_causes_names\"][0]\n",
    "df"
   ]
  },
  {
   "cell_type": "code",
   "execution_count": 3,
   "metadata": {
    "execution": {
     "iopub.execute_input": "2023-11-22T15:11:55.875832Z",
     "iopub.status.busy": "2023-11-22T15:11:55.875628Z",
     "iopub.status.idle": "2023-11-22T15:11:56.057087Z",
     "shell.execute_reply": "2023-11-22T15:11:56.056463Z"
    }
   },
   "outputs": [
    {
     "data": {
      "text/plain": [
       "<Axes: xlabel='v0'>"
      ]
     },
     "execution_count": 3,
     "metadata": {},
     "output_type": "execute_result"
    },
    {
     "data": {
      "image/png": "[encoded data removed]",
      "text/plain": [
       "<Figure size 640x480 with 1 Axes>"
      ]
     },
     "metadata": {},
     "output_type": "display_data"
    }
   ],
   "source": [
    "# data['df'] is just a regular pandas.DataFrame\n",
    "df.causal.do(x=treatment,\n",
    "                     variable_types={treatment: 'b', outcome: 'c', common_cause: 'c'},\n",
    "                     outcome=outcome,\n",
    "                     common_causes=[common_cause],\n",
    "                     proceed_when_unidentifiable=True).groupby(treatment).mean().plot(y=outcome, kind='bar')"
   ]
  },
  {
   "cell_type": "code",
   "execution_count": 4,
   "metadata": {
    "execution": {
     "iopub.execute_input": "2023-11-22T15:11:56.059392Z",
     "iopub.status.busy": "2023-11-22T15:11:56.059207Z",
     "iopub.status.idle": "2023-11-22T15:11:56.171295Z",
     "shell.execute_reply": "2023-11-22T15:11:56.170649Z"
    }
   },
   "outputs": [
    {
     "data": {
      "text/plain": [
       "<Axes: xlabel='v0'>"
      ]
     },
     "execution_count": 4,
     "metadata": {},
     "output_type": "execute_result"
    },
    {
     "data": {
      "image/png": "[encoded data removed]",
      "text/plain": [
       "<Figure size 640x480 with 1 Axes>"
      ]
     },
     "metadata": {},
     "output_type": "display_data"
    }
   ],
   "source": [
    "df.causal.do(x={treatment: 1}, \n",
    "              variable_types={treatment:'b', outcome: 'c', common_cause: 'c'}, \n",
    "              outcome=outcome,\n",
    "              method='weighting', \n",
    "              common_causes=[common_cause],\n",
    "              proceed_when_unidentifiable=True).groupby(treatment).mean().plot(y=outcome, kind='bar')"
   ]
  },
  {
   "cell_type": "code",
   "execution_count": 5,
   "metadata": {
    "execution": {
     "iopub.execute_input": "2023-11-22T15:11:56.173966Z",
     "iopub.status.busy": "2023-11-22T15:11:56.173573Z",
     "iopub.status.idle": "2023-11-22T15:11:56.199954Z",
     "shell.execute_reply": "2023-11-22T15:11:56.199399Z"
    }
   },
   "outputs": [],
   "source": [
    "cdf_1 = df.causal.do(x={treatment: 1}, \n",
    "              variable_types={treatment: 'b', outcome: 'c', common_cause: 'c'}, \n",
    "              outcome=outcome, \n",
    "              dot_graph=data['dot_graph'],\n",
    "              proceed_when_unidentifiable=True)\n",
    "\n",
    "cdf_0 = df.causal.do(x={treatment: 0}, \n",
    "              variable_types={treatment: 'b', outcome: 'c', common_cause: 'c'}, \n",
    "              outcome=outcome, \n",
    "              dot_graph=data['dot_graph'],\n",
    "              proceed_when_unidentifiable=True)\n"
   ]
  },
  {
   "cell_type": "code",
   "execution_count": 6,
   "metadata": {
    "execution": {
     "iopub.execute_input": "2023-11-22T15:11:56.202536Z",
     "iopub.status.busy": "2023-11-22T15:11:56.202175Z",
     "iopub.status.idle": "2023-11-22T15:11:56.211068Z",
     "shell.execute_reply": "2023-11-22T15:11:56.210485Z"
    },
    "scrolled": true
   },
   "outputs": [
    {
     "data": {
      "text/html": [
       "<div>\n",
       "<style scoped>\n",
       "    .dataframe tbody tr th:only-of-type {\n",
       "        vertical-align: middle;\n",
       "    }\n",
       "\n",
       "    .dataframe tbody tr th {\n",
       "        vertical-align: top;\n",
       "    }\n",
       "\n",
       "    .dataframe thead th {\n",
       "        text-align: right;\n",
       "    }\n",
       "</style>\n",
       "<table border=\"1\" class=\"dataframe\">\n",
       "  <thead>\n",
       "    <tr style=\"text-align: right;\">\n",
       "      <th></th>\n",
       "      <th>W0</th>\n",
       "      <th>v0</th>\n",
       "      <th>y</th>\n",
       "      <th>propensity_score</th>\n",
       "      <th>weight</th>\n",
       "    </tr>\n",
       "  </thead>\n",
       "  <tbody>\n",
       "    <tr>\n",
       "      <th>0</th>\n",
       "      <td>-0.576599</td>\n",
       "      <td>False</td>\n",
       "      <td>0.610484</td>\n",
       "      <td>0.622316</td>\n",
       "      <td>1.606902</td>\n",
       "    </tr>\n",
       "    <tr>\n",
       "      <th>1</th>\n",
       "      <td>-0.685109</td>\n",
       "      <td>False</td>\n",
       "      <td>-1.055249</td>\n",
       "      <td>0.641889</td>\n",
       "      <td>1.557902</td>\n",
       "    </tr>\n",
       "    <tr>\n",
       "      <th>2</th>\n",
       "      <td>-1.691911</td>\n",
       "      <td>False</td>\n",
       "      <td>-0.763180</td>\n",
       "      <td>0.796517</td>\n",
       "      <td>1.255466</td>\n",
       "    </tr>\n",
       "    <tr>\n",
       "      <th>3</th>\n",
       "      <td>-0.733091</td>\n",
       "      <td>False</td>\n",
       "      <td>-0.326658</td>\n",
       "      <td>0.650400</td>\n",
       "      <td>1.537516</td>\n",
       "    </tr>\n",
       "    <tr>\n",
       "      <th>4</th>\n",
       "      <td>-0.386778</td>\n",
       "      <td>False</td>\n",
       "      <td>-0.597250</td>\n",
       "      <td>0.587132</td>\n",
       "      <td>1.703194</td>\n",
       "    </tr>\n",
       "    <tr>\n",
       "      <th>...</th>\n",
       "      <td>...</td>\n",
       "      <td>...</td>\n",
       "      <td>...</td>\n",
       "      <td>...</td>\n",
       "      <td>...</td>\n",
       "    </tr>\n",
       "    <tr>\n",
       "      <th>995</th>\n",
       "      <td>-1.229568</td>\n",
       "      <td>False</td>\n",
       "      <td>-1.581741</td>\n",
       "      <td>0.732231</td>\n",
       "      <td>1.365689</td>\n",
       "    </tr>\n",
       "    <tr>\n",
       "      <th>996</th>\n",
       "      <td>-0.964894</td>\n",
       "      <td>False</td>\n",
       "      <td>-0.278329</td>\n",
       "      <td>0.690110</td>\n",
       "      <td>1.449044</td>\n",
       "    </tr>\n",
       "    <tr>\n",
       "      <th>997</th>\n",
       "      <td>-0.318041</td>\n",
       "      <td>False</td>\n",
       "      <td>-0.854561</td>\n",
       "      <td>0.574148</td>\n",
       "      <td>1.741711</td>\n",
       "    </tr>\n",
       "    <tr>\n",
       "      <th>998</th>\n",
       "      <td>-0.304986</td>\n",
       "      <td>False</td>\n",
       "      <td>-0.398277</td>\n",
       "      <td>0.571670</td>\n",
       "      <td>1.749262</td>\n",
       "    </tr>\n",
       "    <tr>\n",
       "      <th>999</th>\n",
       "      <td>-0.598781</td>\n",
       "      <td>False</td>\n",
       "      <td>1.500421</td>\n",
       "      <td>0.626352</td>\n",
       "      <td>1.596547</td>\n",
       "    </tr>\n",
       "  </tbody>\n",
       "</table>\n",
       "<p>1000 rows × 5 columns</p>\n",
       "</div>"
      ],
      "text/plain": [
       "           W0     v0         y  propensity_score    weight\n",
       "0   -0.576599  False  0.610484          0.622316  1.606902\n",
       "1   -0.685109  False -1.055249          0.641889  1.557902\n",
       "2   -1.691911  False -0.763180          0.796517  1.255466\n",
       "3   -0.733091  False -0.326658          0.650400  1.537516\n",
       "4   -0.386778  False -0.597250          0.587132  1.703194\n",
       "..        ...    ...       ...               ...       ...\n",
       "995 -1.229568  False -1.581741          0.732231  1.365689\n",
       "996 -0.964894  False -0.278329          0.690110  1.449044\n",
       "997 -0.318041  False -0.854561          0.574148  1.741711\n",
       "998 -0.304986  False -0.398277          0.571670  1.749262\n",
       "999 -0.598781  False  1.500421          0.626352  1.596547\n",
       "\n",
       "[1000 rows x 5 columns]"
      ]
     },
     "execution_count": 6,
     "metadata": {},
     "output_type": "execute_result"
    }
   ],
   "source": [
    "cdf_0"
   ]
  },
  {
   "cell_type": "code",
   "execution_count": 7,
   "metadata": {
    "execution": {
     "iopub.execute_input": "2023-11-22T15:11:56.213289Z",
     "iopub.status.busy": "2023-11-22T15:11:56.212955Z",
     "iopub.status.idle": "2023-11-22T15:11:56.221451Z",
     "shell.execute_reply": "2023-11-22T15:11:56.220953Z"
    }
   },
   "outputs": [
    {
     "data": {
      "text/html": [
       "<div>\n",
       "<style scoped>\n",
       "    .dataframe tbody tr th:only-of-type {\n",
       "        vertical-align: middle;\n",
       "    }\n",
       "\n",
       "    .dataframe tbody tr th {\n",
       "        vertical-align: top;\n",
       "    }\n",
       "\n",
       "    .dataframe thead th {\n",
       "        text-align: right;\n",
       "    }\n",
       "</style>\n",
       "<table border=\"1\" class=\"dataframe\">\n",
       "  <thead>\n",
       "    <tr style=\"text-align: right;\">\n",
       "      <th></th>\n",
       "      <th>W0</th>\n",
       "      <th>v0</th>\n",
       "      <th>y</th>\n",
       "      <th>propensity_score</th>\n",
       "      <th>weight</th>\n",
       "    </tr>\n",
       "  </thead>\n",
       "  <tbody>\n",
       "    <tr>\n",
       "      <th>0</th>\n",
       "      <td>-1.943465</td>\n",
       "      <td>True</td>\n",
       "      <td>6.888791</td>\n",
       "      <td>0.173672</td>\n",
       "      <td>5.757984</td>\n",
       "    </tr>\n",
       "    <tr>\n",
       "      <th>1</th>\n",
       "      <td>-2.080417</td>\n",
       "      <td>True</td>\n",
       "      <td>3.755048</td>\n",
       "      <td>0.158948</td>\n",
       "      <td>6.291353</td>\n",
       "    </tr>\n",
       "    <tr>\n",
       "      <th>2</th>\n",
       "      <td>-0.671861</td>\n",
       "      <td>True</td>\n",
       "      <td>4.857774</td>\n",
       "      <td>0.360477</td>\n",
       "      <td>2.774102</td>\n",
       "    </tr>\n",
       "    <tr>\n",
       "      <th>3</th>\n",
       "      <td>-0.748428</td>\n",
       "      <td>True</td>\n",
       "      <td>5.286265</td>\n",
       "      <td>0.346899</td>\n",
       "      <td>2.882680</td>\n",
       "    </tr>\n",
       "    <tr>\n",
       "      <th>4</th>\n",
       "      <td>-2.368257</td>\n",
       "      <td>True</td>\n",
       "      <td>4.392190</td>\n",
       "      <td>0.131315</td>\n",
       "      <td>7.615296</td>\n",
       "    </tr>\n",
       "    <tr>\n",
       "      <th>...</th>\n",
       "      <td>...</td>\n",
       "      <td>...</td>\n",
       "      <td>...</td>\n",
       "      <td>...</td>\n",
       "      <td>...</td>\n",
       "    </tr>\n",
       "    <tr>\n",
       "      <th>995</th>\n",
       "      <td>1.092377</td>\n",
       "      <td>True</td>\n",
       "      <td>5.202133</td>\n",
       "      <td>0.688996</td>\n",
       "      <td>1.451388</td>\n",
       "    </tr>\n",
       "    <tr>\n",
       "      <th>996</th>\n",
       "      <td>-0.022865</td>\n",
       "      <td>True</td>\n",
       "      <td>6.160811</td>\n",
       "      <td>0.482559</td>\n",
       "      <td>2.072286</td>\n",
       "    </tr>\n",
       "    <tr>\n",
       "      <th>997</th>\n",
       "      <td>-0.480733</td>\n",
       "      <td>True</td>\n",
       "      <td>4.602393</td>\n",
       "      <td>0.395318</td>\n",
       "      <td>2.529611</td>\n",
       "    </tr>\n",
       "    <tr>\n",
       "      <th>998</th>\n",
       "      <td>-0.175168</td>\n",
       "      <td>True</td>\n",
       "      <td>4.086544</td>\n",
       "      <td>0.453150</td>\n",
       "      <td>2.206776</td>\n",
       "    </tr>\n",
       "    <tr>\n",
       "      <th>999</th>\n",
       "      <td>-0.025708</td>\n",
       "      <td>True</td>\n",
       "      <td>5.609903</td>\n",
       "      <td>0.482008</td>\n",
       "      <td>2.074653</td>\n",
       "    </tr>\n",
       "  </tbody>\n",
       "</table>\n",
       "<p>1000 rows × 5 columns</p>\n",
       "</div>"
      ],
      "text/plain": [
       "           W0    v0         y  propensity_score    weight\n",
       "0   -1.943465  True  6.888791          0.173672  5.757984\n",
       "1   -2.080417  True  3.755048          0.158948  6.291353\n",
       "2   -0.671861  True  4.857774          0.360477  2.774102\n",
       "3   -0.748428  True  5.286265          0.346899  2.882680\n",
       "4   -2.368257  True  4.392190          0.131315  7.615296\n",
       "..        ...   ...       ...               ...       ...\n",
       "995  1.092377  True  5.202133          0.688996  1.451388\n",
       "996 -0.022865  True  6.160811          0.482559  2.072286\n",
       "997 -0.480733  True  4.602393          0.395318  2.529611\n",
       "998 -0.175168  True  4.086544          0.453150  2.206776\n",
       "999 -0.025708  True  5.609903          0.482008  2.074653\n",
       "\n",
       "[1000 rows x 5 columns]"
      ]
     },
     "execution_count": 7,
     "metadata": {},
     "output_type": "execute_result"
    }
   ],
   "source": [
    "cdf_1"
   ]
  },
  {
   "cell_type": "markdown",
   "metadata": {},
   "source": [
    "## Comparing the estimate to Linear Regression\n",
    "First, estimating the effect using the causal data frame, and the 95% confidence interval."
   ]
  },
  {
   "cell_type": "code",
   "execution_count": 8,
   "metadata": {
    "execution": {
     "iopub.execute_input": "2023-11-22T15:11:56.223661Z",
     "iopub.status.busy": "2023-11-22T15:11:56.223296Z",
     "iopub.status.idle": "2023-11-22T15:11:56.270090Z",
     "shell.execute_reply": "2023-11-22T15:11:56.269471Z"
    }
   },
   "outputs": [
    {
     "data": {
      "image/png": "[encoded data removed]",
      "text/latex": [
       "$\\displaystyle 4.95493847266141$"
      ],
      "text/plain": [
       "4.954938472661406"
      ]
     },
     "execution_count": 8,
     "metadata": {},
     "output_type": "execute_result"
    }
   ],
   "source": [
    "(cdf_1['y'] - cdf_0['y']).mean()"
   ]
  },
  {
   "cell_type": "code",
   "execution_count": 9,
   "metadata": {
    "execution": {
     "iopub.execute_input": "2023-11-22T15:11:56.272388Z",
     "iopub.status.busy": "2023-11-22T15:11:56.272027Z",
     "iopub.status.idle": "2023-11-22T15:11:56.289342Z",
     "shell.execute_reply": "2023-11-22T15:11:56.288836Z"
    }
   },
   "outputs": [
    {
     "data": {
      "image/png": "[encoded data removed]",
      "text/latex": [
       "$\\displaystyle 0.0912107404956768$"
      ],
      "text/plain": [
       "0.09121074049567682"
      ]
     },
     "execution_count": 9,
     "metadata": {},
     "output_type": "execute_result"
    }
   ],
   "source": [
    "1.96*(cdf_1['y'] - cdf_0['y']).std() / np.sqrt(len(df))"
   ]
  },
  {
   "cell_type": "markdown",
   "metadata": {},
   "source": [
    "Comparing to the estimate from OLS."
   ]
  },
  {
   "cell_type": "code",
   "execution_count": 10,
   "metadata": {
    "execution": {
     "iopub.execute_input": "2023-11-22T15:11:56.291615Z",
     "iopub.status.busy": "2023-11-22T15:11:56.291273Z",
     "iopub.status.idle": "2023-11-22T15:11:56.309157Z",
     "shell.execute_reply": "2023-11-22T15:11:56.308550Z"
    }
   },
   "outputs": [
    {
     "data": {
      "text/html": [
       "<table class=\"simpletable\">\n",
       "<caption>OLS Regression Results</caption>\n",
       "<tr>\n",
       "  <th>Dep. Variable:</th>            <td>y</td>        <th>  R-squared (uncentered):</th>      <td>   0.921</td>\n",
       "</tr>\n",
       "<tr>\n",
       "  <th>Model:</th>                   <td>OLS</td>       <th>  Adj. R-squared (uncentered):</th> <td>   0.920</td>\n",
       "</tr>\n",
       "<tr>\n",
       "  <th>Method:</th>             <td>Least Squares</td>  <th>  F-statistic:       </th>          <td>   5789.</td>\n",
       "</tr>\n",
       "<tr>\n",
       "  <th>Date:</th>             <td>Wed, 22 Nov 2023</td> <th>  Prob (F-statistic):</th>           <td>  0.00</td> \n",
       "</tr>\n",
       "<tr>\n",
       "  <th>Time:</th>                 <td>15:11:56</td>     <th>  Log-Likelihood:    </th>          <td> -1413.1</td>\n",
       "</tr>\n",
       "<tr>\n",
       "  <th>No. Observations:</th>      <td>  1000</td>      <th>  AIC:               </th>          <td>   2830.</td>\n",
       "</tr>\n",
       "<tr>\n",
       "  <th>Df Residuals:</th>          <td>   998</td>      <th>  BIC:               </th>          <td>   2840.</td>\n",
       "</tr>\n",
       "<tr>\n",
       "  <th>Df Model:</th>              <td>     2</td>      <th>                     </th>              <td> </td>   \n",
       "</tr>\n",
       "<tr>\n",
       "  <th>Covariance Type:</th>      <td>nonrobust</td>    <th>                     </th>              <td> </td>   \n",
       "</tr>\n",
       "</table>\n",
       "<table class=\"simpletable\">\n",
       "<tr>\n",
       "   <td></td>     <th>coef</th>     <th>std err</th>      <th>t</th>      <th>P>|t|</th>  <th>[0.025</th>    <th>0.975]</th>  \n",
       "</tr>\n",
       "<tr>\n",
       "  <th>x1</th> <td>    0.1409</td> <td>    0.031</td> <td>    4.532</td> <td> 0.000</td> <td>    0.080</td> <td>    0.202</td>\n",
       "</tr>\n",
       "<tr>\n",
       "  <th>x2</th> <td>    4.9777</td> <td>    0.047</td> <td>  106.075</td> <td> 0.000</td> <td>    4.886</td> <td>    5.070</td>\n",
       "</tr>\n",
       "</table>\n",
       "<table class=\"simpletable\">\n",
       "<tr>\n",
       "  <th>Omnibus:</th>       <td> 1.317</td> <th>  Durbin-Watson:     </th> <td>   2.067</td>\n",
       "</tr>\n",
       "<tr>\n",
       "  <th>Prob(Omnibus):</th> <td> 0.518</td> <th>  Jarque-Bera (JB):  </th> <td>   1.188</td>\n",
       "</tr>\n",
       "<tr>\n",
       "  <th>Skew:</th>          <td> 0.048</td> <th>  Prob(JB):          </th> <td>   0.552</td>\n",
       "</tr>\n",
       "<tr>\n",
       "  <th>Kurtosis:</th>      <td> 3.139</td> <th>  Cond. No.          </th> <td>    1.54</td>\n",
       "</tr>\n",
       "</table><br/><br/>Notes:<br/>[1] R² is computed without centering (uncentered) since the model does not contain a constant.<br/>[2] Standard Errors assume that the covariance matrix of the errors is correctly specified."
      ],
      "text/latex": [
       "\\begin{center}\n",
       "\\begin{tabular}{lclc}\n",
       "\\toprule\n",
       "\\textbf{Dep. Variable:}    &        y         & \\textbf{  R-squared (uncentered):}      &     0.921   \\\\\n",
       "\\textbf{Model:}            &       OLS        & \\textbf{  Adj. R-squared (uncentered):} &     0.920   \\\\\n",
       "\\textbf{Method:}           &  Least Squares   & \\textbf{  F-statistic:       }          &     5789.   \\\\\n",
       "\\textbf{Date:}             & Wed, 22 Nov 2023 & \\textbf{  Prob (F-statistic):}          &     0.00    \\\\\n",
       "\\textbf{Time:}             &     15:11:56     & \\textbf{  Log-Likelihood:    }          &   -1413.1   \\\\\n",
       "\\textbf{No. Observations:} &        1000      & \\textbf{  AIC:               }          &     2830.   \\\\\n",
       "\\textbf{Df Residuals:}     &         998      & \\textbf{  BIC:               }          &     2840.   \\\\\n",
       "\\textbf{Df Model:}         &           2      & \\textbf{                     }          &             \\\\\n",
       "\\textbf{Covariance Type:}  &    nonrobust     & \\textbf{                     }          &             \\\\\n",
       "\\bottomrule\n",
       "\\end{tabular}\n",
       "\\begin{tabular}{lcccccc}\n",
       "            & \\textbf{coef} & \\textbf{std err} & \\textbf{t} & \\textbf{P$> |$t$|$} & \\textbf{[0.025} & \\textbf{0.975]}  \\\\\n",
       "\\midrule\n",
       "\\textbf{x1} &       0.1409  &        0.031     &     4.532  &         0.000        &        0.080    &        0.202     \\\\\n",
       "\\textbf{x2} &       4.9777  &        0.047     &   106.075  &         0.000        &        4.886    &        5.070     \\\\\n",
       "\\bottomrule\n",
       "\\end{tabular}\n",
       "\\begin{tabular}{lclc}\n",
       "\\textbf{Omnibus:}       &  1.317 & \\textbf{  Durbin-Watson:     } &    2.067  \\\\\n",
       "\\textbf{Prob(Omnibus):} &  0.518 & \\textbf{  Jarque-Bera (JB):  } &    1.188  \\\\\n",
       "\\textbf{Skew:}          &  0.048 & \\textbf{  Prob(JB):          } &    0.552  \\\\\n",
       "\\textbf{Kurtosis:}      &  3.139 & \\textbf{  Cond. No.          } &     1.54  \\\\\n",
       "\\bottomrule\n",
       "\\end{tabular}\n",
       "%\\caption{OLS Regression Results}\n",
       "\\end{center}\n",
       "\n",
       "Notes: \\newline\n",
       " [1] R² is computed without centering (uncentered) since the model does not contain a constant. \\newline\n",
       " [2] Standard Errors assume that the covariance matrix of the errors is correctly specified."
      ],
      "text/plain": [
       "<class 'statsmodels.iolib.summary.Summary'>\n",
       "\"\"\"\n",
       "                                 OLS Regression Results                                \n",
       "=======================================================================================\n",
       "Dep. Variable:                      y   R-squared (uncentered):                   0.921\n",
       "Model:                            OLS   Adj. R-squared (uncentered):              0.920\n",
       "Method:                 Least Squares   F-statistic:                              5789.\n",
       "Date:                Wed, 22 Nov 2023   Prob (F-statistic):                        0.00\n",
       "Time:                        15:11:56   Log-Likelihood:                         -1413.1\n",
       "No. Observations:                1000   AIC:                                      2830.\n",
       "Df Residuals:                     998   BIC:                                      2840.\n",
       "Df Model:                           2                                                  \n",
       "Covariance Type:            nonrobust                                                  \n",
       "==============================================================================\n",
       "                 coef    std err          t      P>|t|      [0.025      0.975]\n",
       "------------------------------------------------------------------------------\n",
       "x1             0.1409      0.031      4.532      0.000       0.080       0.202\n",
       "x2             4.9777      0.047    106.075      0.000       4.886       5.070\n",
       "==============================================================================\n",
       "Omnibus:                        1.317   Durbin-Watson:                   2.067\n",
       "Prob(Omnibus):                  0.518   Jarque-Bera (JB):                1.188\n",
       "Skew:                           0.048   Prob(JB):                        0.552\n",
       "Kurtosis:                       3.139   Cond. No.                         1.54\n",
       "==============================================================================\n",
       "\n",
       "Notes:\n",
       "[1] R² is computed without centering (uncentered) since the model does not contain a constant.\n",
       "[2] Standard Errors assume that the covariance matrix of the errors is correctly specified.\n",
       "\"\"\""
      ]
     },
     "execution_count": 10,
     "metadata": {},
     "output_type": "execute_result"
    }
   ],
   "source": [
    "model = OLS(np.asarray(df[outcome]), np.asarray(df[[common_cause, treatment]], dtype=np.float64))\n",
    "result = model.fit()\n",
    "result.summary()"
   ]
  }
 ],
 "metadata": {
  "kernelspec": {
   "display_name": "Python 3",
   "language": "python",
   "name": "python3"
  },
  "language_info": {
   "codemirror_mode": {
    "name": "ipython",
    "version": 3
   },
   "file_extension": ".py",
   "mimetype": "text/x-python",
   "name": "python",
   "nbconvert_exporter": "python",
   "pygments_lexer": "ipython3",
   "version": "3.8.10"
  },
  "toc": {
   "base_numbering": 1,
   "nav_menu": {},
   "number_sections": false,
   "sideBar": true,
   "skip_h1_title": true,
   "title_cell": "Table of Contents",
   "title_sidebar": "Contents",
   "toc_cell": false,
   "toc_position": {},
   "toc_section_display": true,
   "toc_window_display": false
  }
 },
 "nbformat": 4,
 "nbformat_minor": 4
}
