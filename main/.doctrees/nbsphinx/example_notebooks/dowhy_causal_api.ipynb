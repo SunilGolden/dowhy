{
 "cells": [
  {
   "cell_type": "markdown",
   "metadata": {},
   "source": [
    "# Demo for the DoWhy causal API\n",
    "We show a simple example of adding a causal extension to any dataframe. "
   ]
  },
  {
   "cell_type": "code",
   "execution_count": 1,
   "metadata": {
    "execution": {
     "iopub.execute_input": "2023-04-03T14:22:13.220162Z",
     "iopub.status.busy": "2023-04-03T14:22:13.219670Z",
     "iopub.status.idle": "2023-04-03T14:22:14.765208Z",
     "shell.execute_reply": "2023-04-03T14:22:14.764565Z"
    }
   },
   "outputs": [],
   "source": [
    "import dowhy.datasets\n",
    "import dowhy.api\n",
    "\n",
    "import numpy as np\n",
    "import pandas as pd\n",
    "\n",
    "from statsmodels.api import OLS"
   ]
  },
  {
   "cell_type": "code",
   "execution_count": 2,
   "metadata": {
    "execution": {
     "iopub.execute_input": "2023-04-03T14:22:14.768385Z",
     "iopub.status.busy": "2023-04-03T14:22:14.767921Z",
     "iopub.status.idle": "2023-04-03T14:22:14.810473Z",
     "shell.execute_reply": "2023-04-03T14:22:14.809840Z"
    }
   },
   "outputs": [
    {
     "data": {
      "text/html": [
       "<div>\n",
       "<style scoped>\n",
       "    .dataframe tbody tr th:only-of-type {\n",
       "        vertical-align: middle;\n",
       "    }\n",
       "\n",
       "    .dataframe tbody tr th {\n",
       "        vertical-align: top;\n",
       "    }\n",
       "\n",
       "    .dataframe thead th {\n",
       "        text-align: right;\n",
       "    }\n",
       "</style>\n",
       "<table border=\"1\" class=\"dataframe\">\n",
       "  <thead>\n",
       "    <tr style=\"text-align: right;\">\n",
       "      <th></th>\n",
       "      <th>W0</th>\n",
       "      <th>v0</th>\n",
       "      <th>y</th>\n",
       "    </tr>\n",
       "  </thead>\n",
       "  <tbody>\n",
       "    <tr>\n",
       "      <th>0</th>\n",
       "      <td>0.830654</td>\n",
       "      <td>True</td>\n",
       "      <td>5.688570</td>\n",
       "    </tr>\n",
       "    <tr>\n",
       "      <th>1</th>\n",
       "      <td>0.991928</td>\n",
       "      <td>False</td>\n",
       "      <td>1.107974</td>\n",
       "    </tr>\n",
       "    <tr>\n",
       "      <th>2</th>\n",
       "      <td>0.687503</td>\n",
       "      <td>True</td>\n",
       "      <td>6.511470</td>\n",
       "    </tr>\n",
       "    <tr>\n",
       "      <th>3</th>\n",
       "      <td>0.596286</td>\n",
       "      <td>False</td>\n",
       "      <td>0.756091</td>\n",
       "    </tr>\n",
       "    <tr>\n",
       "      <th>4</th>\n",
       "      <td>0.850370</td>\n",
       "      <td>True</td>\n",
       "      <td>6.052472</td>\n",
       "    </tr>\n",
       "    <tr>\n",
       "      <th>...</th>\n",
       "      <td>...</td>\n",
       "      <td>...</td>\n",
       "      <td>...</td>\n",
       "    </tr>\n",
       "    <tr>\n",
       "      <th>995</th>\n",
       "      <td>-0.561855</td>\n",
       "      <td>False</td>\n",
       "      <td>-1.037131</td>\n",
       "    </tr>\n",
       "    <tr>\n",
       "      <th>996</th>\n",
       "      <td>1.271949</td>\n",
       "      <td>True</td>\n",
       "      <td>5.821855</td>\n",
       "    </tr>\n",
       "    <tr>\n",
       "      <th>997</th>\n",
       "      <td>1.512748</td>\n",
       "      <td>True</td>\n",
       "      <td>6.696160</td>\n",
       "    </tr>\n",
       "    <tr>\n",
       "      <th>998</th>\n",
       "      <td>1.670951</td>\n",
       "      <td>True</td>\n",
       "      <td>6.439178</td>\n",
       "    </tr>\n",
       "    <tr>\n",
       "      <th>999</th>\n",
       "      <td>0.800355</td>\n",
       "      <td>True</td>\n",
       "      <td>5.936337</td>\n",
       "    </tr>\n",
       "  </tbody>\n",
       "</table>\n",
       "<p>1000 rows × 3 columns</p>\n",
       "</div>"
      ],
      "text/plain": [
       "           W0     v0         y\n",
       "0    0.830654   True  5.688570\n",
       "1    0.991928  False  1.107974\n",
       "2    0.687503   True  6.511470\n",
       "3    0.596286  False  0.756091\n",
       "4    0.850370   True  6.052472\n",
       "..        ...    ...       ...\n",
       "995 -0.561855  False -1.037131\n",
       "996  1.271949   True  5.821855\n",
       "997  1.512748   True  6.696160\n",
       "998  1.670951   True  6.439178\n",
       "999  0.800355   True  5.936337\n",
       "\n",
       "[1000 rows x 3 columns]"
      ]
     },
     "execution_count": 2,
     "metadata": {},
     "output_type": "execute_result"
    }
   ],
   "source": [
    "data = dowhy.datasets.linear_dataset(beta=5,\n",
    "        num_common_causes=1,\n",
    "        num_instruments = 0,\n",
    "        num_samples=1000,\n",
    "        treatment_is_binary=True)\n",
    "df = data['df']\n",
    "df['y'] = df['y'] + np.random.normal(size=len(df)) # Adding noise to data. Without noise, the variance in Y|X, Z is zero, and mcmc fails.\n",
    "#data['dot_graph'] = 'digraph { v ->y;X0-> v;X0-> y;}'\n",
    "\n",
    "treatment= data[\"treatment_name\"][0]\n",
    "outcome = data[\"outcome_name\"][0]\n",
    "common_cause = data[\"common_causes_names\"][0]\n",
    "df"
   ]
  },
  {
   "cell_type": "code",
   "execution_count": 3,
   "metadata": {
    "execution": {
     "iopub.execute_input": "2023-04-03T14:22:14.813343Z",
     "iopub.status.busy": "2023-04-03T14:22:14.812850Z",
     "iopub.status.idle": "2023-04-03T14:22:14.962075Z",
     "shell.execute_reply": "2023-04-03T14:22:14.961532Z"
    }
   },
   "outputs": [
    {
     "data": {
      "text/plain": [
       "<AxesSubplot: xlabel='v0'>"
      ]
     },
     "execution_count": 3,
     "metadata": {},
     "output_type": "execute_result"
    },
    {
     "data": {
      "image/png": "[encoded data removed]",
      "text/plain": [
       "<Figure size 640x480 with 1 Axes>"
      ]
     },
     "metadata": {},
     "output_type": "display_data"
    }
   ],
   "source": [
    "# data['df'] is just a regular pandas.DataFrame\n",
    "df.causal.do(x=treatment,\n",
    "                     variable_types={treatment: 'b', outcome: 'c', common_cause: 'c'},\n",
    "                     outcome=outcome,\n",
    "                     common_causes=[common_cause],\n",
    "                     proceed_when_unidentifiable=True).groupby(treatment).mean().plot(y=outcome, kind='bar')"
   ]
  },
  {
   "cell_type": "code",
   "execution_count": 4,
   "metadata": {
    "execution": {
     "iopub.execute_input": "2023-04-03T14:22:14.966127Z",
     "iopub.status.busy": "2023-04-03T14:22:14.965101Z",
     "iopub.status.idle": "2023-04-03T14:22:15.162983Z",
     "shell.execute_reply": "2023-04-03T14:22:15.162361Z"
    }
   },
   "outputs": [
    {
     "data": {
      "text/plain": [
       "<AxesSubplot: xlabel='v0'>"
      ]
     },
     "execution_count": 4,
     "metadata": {},
     "output_type": "execute_result"
    },
    {
     "data": {
      "image/png": "[encoded data removed]",
      "text/plain": [
       "<Figure size 640x480 with 1 Axes>"
      ]
     },
     "metadata": {},
     "output_type": "display_data"
    }
   ],
   "source": [
    "df.causal.do(x={treatment: 1}, \n",
    "              variable_types={treatment:'b', outcome: 'c', common_cause: 'c'}, \n",
    "              outcome=outcome,\n",
    "              method='weighting', \n",
    "              common_causes=[common_cause],\n",
    "              proceed_when_unidentifiable=True).groupby(treatment).mean().plot(y=outcome, kind='bar')"
   ]
  },
  {
   "cell_type": "code",
   "execution_count": 5,
   "metadata": {
    "execution": {
     "iopub.execute_input": "2023-04-03T14:22:15.165665Z",
     "iopub.status.busy": "2023-04-03T14:22:15.165444Z",
     "iopub.status.idle": "2023-04-03T14:22:15.195965Z",
     "shell.execute_reply": "2023-04-03T14:22:15.195367Z"
    }
   },
   "outputs": [],
   "source": [
    "cdf_1 = df.causal.do(x={treatment: 1}, \n",
    "              variable_types={treatment: 'b', outcome: 'c', common_cause: 'c'}, \n",
    "              outcome=outcome, \n",
    "              dot_graph=data['dot_graph'],\n",
    "              proceed_when_unidentifiable=True)\n",
    "\n",
    "cdf_0 = df.causal.do(x={treatment: 0}, \n",
    "              variable_types={treatment: 'b', outcome: 'c', common_cause: 'c'}, \n",
    "              outcome=outcome, \n",
    "              dot_graph=data['dot_graph'],\n",
    "              proceed_when_unidentifiable=True)\n"
   ]
  },
  {
   "cell_type": "code",
   "execution_count": 6,
   "metadata": {
    "execution": {
     "iopub.execute_input": "2023-04-03T14:22:15.198773Z",
     "iopub.status.busy": "2023-04-03T14:22:15.198454Z",
     "iopub.status.idle": "2023-04-03T14:22:15.208589Z",
     "shell.execute_reply": "2023-04-03T14:22:15.208016Z"
    },
    "scrolled": true
   },
   "outputs": [
    {
     "data": {
      "text/html": [
       "<div>\n",
       "<style scoped>\n",
       "    .dataframe tbody tr th:only-of-type {\n",
       "        vertical-align: middle;\n",
       "    }\n",
       "\n",
       "    .dataframe tbody tr th {\n",
       "        vertical-align: top;\n",
       "    }\n",
       "\n",
       "    .dataframe thead th {\n",
       "        text-align: right;\n",
       "    }\n",
       "</style>\n",
       "<table border=\"1\" class=\"dataframe\">\n",
       "  <thead>\n",
       "    <tr style=\"text-align: right;\">\n",
       "      <th></th>\n",
       "      <th>W0</th>\n",
       "      <th>v0</th>\n",
       "      <th>y</th>\n",
       "      <th>propensity_score</th>\n",
       "      <th>weight</th>\n",
       "    </tr>\n",
       "  </thead>\n",
       "  <tbody>\n",
       "    <tr>\n",
       "      <th>0</th>\n",
       "      <td>-0.564681</td>\n",
       "      <td>False</td>\n",
       "      <td>0.578483</td>\n",
       "      <td>0.713363</td>\n",
       "      <td>1.401810</td>\n",
       "    </tr>\n",
       "    <tr>\n",
       "      <th>1</th>\n",
       "      <td>0.056139</td>\n",
       "      <td>False</td>\n",
       "      <td>-0.440915</td>\n",
       "      <td>0.502822</td>\n",
       "      <td>1.988776</td>\n",
       "    </tr>\n",
       "    <tr>\n",
       "      <th>2</th>\n",
       "      <td>0.667449</td>\n",
       "      <td>False</td>\n",
       "      <td>0.515287</td>\n",
       "      <td>0.294131</td>\n",
       "      <td>3.399848</td>\n",
       "    </tr>\n",
       "    <tr>\n",
       "      <th>3</th>\n",
       "      <td>0.391281</td>\n",
       "      <td>False</td>\n",
       "      <td>0.916131</td>\n",
       "      <td>0.383474</td>\n",
       "      <td>2.607739</td>\n",
       "    </tr>\n",
       "    <tr>\n",
       "      <th>4</th>\n",
       "      <td>-0.224882</td>\n",
       "      <td>False</td>\n",
       "      <td>-1.750362</td>\n",
       "      <td>0.603221</td>\n",
       "      <td>1.657768</td>\n",
       "    </tr>\n",
       "    <tr>\n",
       "      <th>...</th>\n",
       "      <td>...</td>\n",
       "      <td>...</td>\n",
       "      <td>...</td>\n",
       "      <td>...</td>\n",
       "      <td>...</td>\n",
       "    </tr>\n",
       "    <tr>\n",
       "      <th>995</th>\n",
       "      <td>1.845017</td>\n",
       "      <td>False</td>\n",
       "      <td>2.436110</td>\n",
       "      <td>0.070211</td>\n",
       "      <td>14.242690</td>\n",
       "    </tr>\n",
       "    <tr>\n",
       "      <th>996</th>\n",
       "      <td>0.426248</td>\n",
       "      <td>False</td>\n",
       "      <td>-1.083729</td>\n",
       "      <td>0.371556</td>\n",
       "      <td>2.691385</td>\n",
       "    </tr>\n",
       "    <tr>\n",
       "      <th>997</th>\n",
       "      <td>0.656429</td>\n",
       "      <td>False</td>\n",
       "      <td>0.984984</td>\n",
       "      <td>0.297460</td>\n",
       "      <td>3.361794</td>\n",
       "    </tr>\n",
       "    <tr>\n",
       "      <th>998</th>\n",
       "      <td>-0.154718</td>\n",
       "      <td>False</td>\n",
       "      <td>0.924406</td>\n",
       "      <td>0.578625</td>\n",
       "      <td>1.728235</td>\n",
       "    </tr>\n",
       "    <tr>\n",
       "      <th>999</th>\n",
       "      <td>0.460295</td>\n",
       "      <td>False</td>\n",
       "      <td>0.394924</td>\n",
       "      <td>0.360099</td>\n",
       "      <td>2.777010</td>\n",
       "    </tr>\n",
       "  </tbody>\n",
       "</table>\n",
       "<p>1000 rows × 5 columns</p>\n",
       "</div>"
      ],
      "text/plain": [
       "           W0     v0         y  propensity_score     weight\n",
       "0   -0.564681  False  0.578483          0.713363   1.401810\n",
       "1    0.056139  False -0.440915          0.502822   1.988776\n",
       "2    0.667449  False  0.515287          0.294131   3.399848\n",
       "3    0.391281  False  0.916131          0.383474   2.607739\n",
       "4   -0.224882  False -1.750362          0.603221   1.657768\n",
       "..        ...    ...       ...               ...        ...\n",
       "995  1.845017  False  2.436110          0.070211  14.242690\n",
       "996  0.426248  False -1.083729          0.371556   2.691385\n",
       "997  0.656429  False  0.984984          0.297460   3.361794\n",
       "998 -0.154718  False  0.924406          0.578625   1.728235\n",
       "999  0.460295  False  0.394924          0.360099   2.777010\n",
       "\n",
       "[1000 rows x 5 columns]"
      ]
     },
     "execution_count": 6,
     "metadata": {},
     "output_type": "execute_result"
    }
   ],
   "source": [
    "cdf_0"
   ]
  },
  {
   "cell_type": "code",
   "execution_count": 7,
   "metadata": {
    "execution": {
     "iopub.execute_input": "2023-04-03T14:22:15.211694Z",
     "iopub.status.busy": "2023-04-03T14:22:15.211489Z",
     "iopub.status.idle": "2023-04-03T14:22:15.221104Z",
     "shell.execute_reply": "2023-04-03T14:22:15.220520Z"
    }
   },
   "outputs": [
    {
     "data": {
      "text/html": [
       "<div>\n",
       "<style scoped>\n",
       "    .dataframe tbody tr th:only-of-type {\n",
       "        vertical-align: middle;\n",
       "    }\n",
       "\n",
       "    .dataframe tbody tr th {\n",
       "        vertical-align: top;\n",
       "    }\n",
       "\n",
       "    .dataframe thead th {\n",
       "        text-align: right;\n",
       "    }\n",
       "</style>\n",
       "<table border=\"1\" class=\"dataframe\">\n",
       "  <thead>\n",
       "    <tr style=\"text-align: right;\">\n",
       "      <th></th>\n",
       "      <th>W0</th>\n",
       "      <th>v0</th>\n",
       "      <th>y</th>\n",
       "      <th>propensity_score</th>\n",
       "      <th>weight</th>\n",
       "    </tr>\n",
       "  </thead>\n",
       "  <tbody>\n",
       "    <tr>\n",
       "      <th>0</th>\n",
       "      <td>-0.990896</td>\n",
       "      <td>True</td>\n",
       "      <td>3.674175</td>\n",
       "      <td>0.177995</td>\n",
       "      <td>5.618144</td>\n",
       "    </tr>\n",
       "    <tr>\n",
       "      <th>1</th>\n",
       "      <td>3.158031</td>\n",
       "      <td>True</td>\n",
       "      <td>9.797357</td>\n",
       "      <td>0.988881</td>\n",
       "      <td>1.011244</td>\n",
       "    </tr>\n",
       "    <tr>\n",
       "      <th>2</th>\n",
       "      <td>0.631491</td>\n",
       "      <td>True</td>\n",
       "      <td>5.239682</td>\n",
       "      <td>0.694925</td>\n",
       "      <td>1.439003</td>\n",
       "    </tr>\n",
       "    <tr>\n",
       "      <th>3</th>\n",
       "      <td>0.858986</td>\n",
       "      <td>True</td>\n",
       "      <td>5.195719</td>\n",
       "      <td>0.760100</td>\n",
       "      <td>1.315617</td>\n",
       "    </tr>\n",
       "    <tr>\n",
       "      <th>4</th>\n",
       "      <td>1.033832</td>\n",
       "      <td>True</td>\n",
       "      <td>5.371950</td>\n",
       "      <td>0.803267</td>\n",
       "      <td>1.244917</td>\n",
       "    </tr>\n",
       "    <tr>\n",
       "      <th>...</th>\n",
       "      <td>...</td>\n",
       "      <td>...</td>\n",
       "      <td>...</td>\n",
       "      <td>...</td>\n",
       "      <td>...</td>\n",
       "    </tr>\n",
       "    <tr>\n",
       "      <th>995</th>\n",
       "      <td>-0.068911</td>\n",
       "      <td>True</td>\n",
       "      <td>6.359733</td>\n",
       "      <td>0.451981</td>\n",
       "      <td>2.212482</td>\n",
       "    </tr>\n",
       "    <tr>\n",
       "      <th>996</th>\n",
       "      <td>1.100182</td>\n",
       "      <td>True</td>\n",
       "      <td>4.560801</td>\n",
       "      <td>0.818033</td>\n",
       "      <td>1.222445</td>\n",
       "    </tr>\n",
       "    <tr>\n",
       "      <th>997</th>\n",
       "      <td>0.198735</td>\n",
       "      <td>True</td>\n",
       "      <td>4.889001</td>\n",
       "      <td>0.548731</td>\n",
       "      <td>1.822387</td>\n",
       "    </tr>\n",
       "    <tr>\n",
       "      <th>998</th>\n",
       "      <td>0.660516</td>\n",
       "      <td>True</td>\n",
       "      <td>5.172878</td>\n",
       "      <td>0.703777</td>\n",
       "      <td>1.420905</td>\n",
       "    </tr>\n",
       "    <tr>\n",
       "      <th>999</th>\n",
       "      <td>1.425602</td>\n",
       "      <td>True</td>\n",
       "      <td>7.624629</td>\n",
       "      <td>0.878157</td>\n",
       "      <td>1.138749</td>\n",
       "    </tr>\n",
       "  </tbody>\n",
       "</table>\n",
       "<p>1000 rows × 5 columns</p>\n",
       "</div>"
      ],
      "text/plain": [
       "           W0    v0         y  propensity_score    weight\n",
       "0   -0.990896  True  3.674175          0.177995  5.618144\n",
       "1    3.158031  True  9.797357          0.988881  1.011244\n",
       "2    0.631491  True  5.239682          0.694925  1.439003\n",
       "3    0.858986  True  5.195719          0.760100  1.315617\n",
       "4    1.033832  True  5.371950          0.803267  1.244917\n",
       "..        ...   ...       ...               ...       ...\n",
       "995 -0.068911  True  6.359733          0.451981  2.212482\n",
       "996  1.100182  True  4.560801          0.818033  1.222445\n",
       "997  0.198735  True  4.889001          0.548731  1.822387\n",
       "998  0.660516  True  5.172878          0.703777  1.420905\n",
       "999  1.425602  True  7.624629          0.878157  1.138749\n",
       "\n",
       "[1000 rows x 5 columns]"
      ]
     },
     "execution_count": 7,
     "metadata": {},
     "output_type": "execute_result"
    }
   ],
   "source": [
    "cdf_1"
   ]
  },
  {
   "cell_type": "markdown",
   "metadata": {},
   "source": [
    "## Comparing the estimate to Linear Regression\n",
    "First, estimating the effect using the causal data frame, and the 95% confidence interval."
   ]
  },
  {
   "cell_type": "code",
   "execution_count": 8,
   "metadata": {
    "execution": {
     "iopub.execute_input": "2023-04-03T14:22:15.224255Z",
     "iopub.status.busy": "2023-04-03T14:22:15.223948Z",
     "iopub.status.idle": "2023-04-03T14:22:15.279909Z",
     "shell.execute_reply": "2023-04-03T14:22:15.279276Z"
    }
   },
   "outputs": [
    {
     "data": {
      "image/png": "[encoded data removed]",
      "text/latex": [
       "$\\displaystyle 5.03886300253687$"
      ],
      "text/plain": [
       "5.038863002536873"
      ]
     },
     "execution_count": 8,
     "metadata": {},
     "output_type": "execute_result"
    }
   ],
   "source": [
    "(cdf_1['y'] - cdf_0['y']).mean()"
   ]
  },
  {
   "cell_type": "code",
   "execution_count": 9,
   "metadata": {
    "execution": {
     "iopub.execute_input": "2023-04-03T14:22:15.282737Z",
     "iopub.status.busy": "2023-04-03T14:22:15.282259Z",
     "iopub.status.idle": "2023-04-03T14:22:15.302070Z",
     "shell.execute_reply": "2023-04-03T14:22:15.301453Z"
    }
   },
   "outputs": [
    {
     "data": {
      "image/png": "[encoded data removed]",
      "text/latex": [
       "$\\displaystyle 0.134190871902215$"
      ],
      "text/plain": [
       "0.13419087190221501"
      ]
     },
     "execution_count": 9,
     "metadata": {},
     "output_type": "execute_result"
    }
   ],
   "source": [
    "1.96*(cdf_1['y'] - cdf_0['y']).std() / np.sqrt(len(df))"
   ]
  },
  {
   "cell_type": "markdown",
   "metadata": {},
   "source": [
    "Comparing to the estimate from OLS."
   ]
  },
  {
   "cell_type": "code",
   "execution_count": 10,
   "metadata": {
    "execution": {
     "iopub.execute_input": "2023-04-03T14:22:15.304822Z",
     "iopub.status.busy": "2023-04-03T14:22:15.304336Z",
     "iopub.status.idle": "2023-04-03T14:22:15.318019Z",
     "shell.execute_reply": "2023-04-03T14:22:15.317423Z"
    }
   },
   "outputs": [
    {
     "data": {
      "text/html": [
       "<table class=\"simpletable\">\n",
       "<caption>OLS Regression Results</caption>\n",
       "<tr>\n",
       "  <th>Dep. Variable:</th>            <td>y</td>        <th>  R-squared (uncentered):</th>      <td>   0.960</td> \n",
       "</tr>\n",
       "<tr>\n",
       "  <th>Model:</th>                   <td>OLS</td>       <th>  Adj. R-squared (uncentered):</th> <td>   0.960</td> \n",
       "</tr>\n",
       "<tr>\n",
       "  <th>Method:</th>             <td>Least Squares</td>  <th>  F-statistic:       </th>          <td>1.189e+04</td>\n",
       "</tr>\n",
       "<tr>\n",
       "  <th>Date:</th>             <td>Mon, 03 Apr 2023</td> <th>  Prob (F-statistic):</th>           <td>  0.00</td>  \n",
       "</tr>\n",
       "<tr>\n",
       "  <th>Time:</th>                 <td>14:22:15</td>     <th>  Log-Likelihood:    </th>          <td> -1445.2</td> \n",
       "</tr>\n",
       "<tr>\n",
       "  <th>No. Observations:</th>      <td>  1000</td>      <th>  AIC:               </th>          <td>   2894.</td> \n",
       "</tr>\n",
       "<tr>\n",
       "  <th>Df Residuals:</th>          <td>   998</td>      <th>  BIC:               </th>          <td>   2904.</td> \n",
       "</tr>\n",
       "<tr>\n",
       "  <th>Df Model:</th>              <td>     2</td>      <th>                     </th>              <td> </td>    \n",
       "</tr>\n",
       "<tr>\n",
       "  <th>Covariance Type:</th>      <td>nonrobust</td>    <th>                     </th>              <td> </td>    \n",
       "</tr>\n",
       "</table>\n",
       "<table class=\"simpletable\">\n",
       "<tr>\n",
       "   <td></td>     <th>coef</th>     <th>std err</th>      <th>t</th>      <th>P>|t|</th>  <th>[0.025</th>    <th>0.975]</th>  \n",
       "</tr>\n",
       "<tr>\n",
       "  <th>x1</th> <td>    1.0758</td> <td>    0.037</td> <td>   28.966</td> <td> 0.000</td> <td>    1.003</td> <td>    1.149</td>\n",
       "</tr>\n",
       "<tr>\n",
       "  <th>x2</th> <td>    4.9882</td> <td>    0.056</td> <td>   89.192</td> <td> 0.000</td> <td>    4.878</td> <td>    5.098</td>\n",
       "</tr>\n",
       "</table>\n",
       "<table class=\"simpletable\">\n",
       "<tr>\n",
       "  <th>Omnibus:</th>       <td> 0.397</td> <th>  Durbin-Watson:     </th> <td>   2.000</td>\n",
       "</tr>\n",
       "<tr>\n",
       "  <th>Prob(Omnibus):</th> <td> 0.820</td> <th>  Jarque-Bera (JB):  </th> <td>   0.290</td>\n",
       "</tr>\n",
       "<tr>\n",
       "  <th>Skew:</th>          <td>-0.021</td> <th>  Prob(JB):          </th> <td>   0.865</td>\n",
       "</tr>\n",
       "<tr>\n",
       "  <th>Kurtosis:</th>      <td> 3.073</td> <th>  Cond. No.          </th> <td>    2.63</td>\n",
       "</tr>\n",
       "</table><br/><br/>Notes:<br/>[1] R² is computed without centering (uncentered) since the model does not contain a constant.<br/>[2] Standard Errors assume that the covariance matrix of the errors is correctly specified."
      ],
      "text/plain": [
       "<class 'statsmodels.iolib.summary.Summary'>\n",
       "\"\"\"\n",
       "                                 OLS Regression Results                                \n",
       "=======================================================================================\n",
       "Dep. Variable:                      y   R-squared (uncentered):                   0.960\n",
       "Model:                            OLS   Adj. R-squared (uncentered):              0.960\n",
       "Method:                 Least Squares   F-statistic:                          1.189e+04\n",
       "Date:                Mon, 03 Apr 2023   Prob (F-statistic):                        0.00\n",
       "Time:                        14:22:15   Log-Likelihood:                         -1445.2\n",
       "No. Observations:                1000   AIC:                                      2894.\n",
       "Df Residuals:                     998   BIC:                                      2904.\n",
       "Df Model:                           2                                                  \n",
       "Covariance Type:            nonrobust                                                  \n",
       "==============================================================================\n",
       "                 coef    std err          t      P>|t|      [0.025      0.975]\n",
       "------------------------------------------------------------------------------\n",
       "x1             1.0758      0.037     28.966      0.000       1.003       1.149\n",
       "x2             4.9882      0.056     89.192      0.000       4.878       5.098\n",
       "==============================================================================\n",
       "Omnibus:                        0.397   Durbin-Watson:                   2.000\n",
       "Prob(Omnibus):                  0.820   Jarque-Bera (JB):                0.290\n",
       "Skew:                          -0.021   Prob(JB):                        0.865\n",
       "Kurtosis:                       3.073   Cond. No.                         2.63\n",
       "==============================================================================\n",
       "\n",
       "Notes:\n",
       "[1] R² is computed without centering (uncentered) since the model does not contain a constant.\n",
       "[2] Standard Errors assume that the covariance matrix of the errors is correctly specified.\n",
       "\"\"\""
      ]
     },
     "execution_count": 10,
     "metadata": {},
     "output_type": "execute_result"
    }
   ],
   "source": [
    "model = OLS(np.asarray(df[outcome]), np.asarray(df[[common_cause, treatment]], dtype=np.float64))\n",
    "result = model.fit()\n",
    "result.summary()"
   ]
  }
 ],
 "metadata": {
  "kernelspec": {
   "display_name": "Python 3",
   "language": "python",
   "name": "python3"
  },
  "language_info": {
   "codemirror_mode": {
    "name": "ipython",
    "version": 3
   },
   "file_extension": ".py",
   "mimetype": "text/x-python",
   "name": "python",
   "nbconvert_exporter": "python",
   "pygments_lexer": "ipython3",
   "version": "3.8.10"
  },
  "toc": {
   "base_numbering": 1,
   "nav_menu": {},
   "number_sections": false,
   "sideBar": true,
   "skip_h1_title": true,
   "title_cell": "Table of Contents",
   "title_sidebar": "Contents",
   "toc_cell": false,
   "toc_position": {},
   "toc_section_display": true,
   "toc_window_display": false
  }
 },
 "nbformat": 4,
 "nbformat_minor": 4
}
