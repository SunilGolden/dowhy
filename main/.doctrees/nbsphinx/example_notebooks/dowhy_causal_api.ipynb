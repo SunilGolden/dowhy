{
 "cells": [
  {
   "cell_type": "markdown",
   "metadata": {},
   "source": [
    "# Demo for the DoWhy causal API\n",
    "We show a simple example of adding a causal extension to any dataframe. "
   ]
  },
  {
   "cell_type": "code",
   "execution_count": 1,
   "metadata": {
    "execution": {
     "iopub.execute_input": "2024-06-14T15:03:24.131298Z",
     "iopub.status.busy": "2024-06-14T15:03:24.131120Z",
     "iopub.status.idle": "2024-06-14T15:03:25.532770Z",
     "shell.execute_reply": "2024-06-14T15:03:25.532171Z"
    }
   },
   "outputs": [],
   "source": [
    "import dowhy.datasets\n",
    "import dowhy.api\n",
    "from dowhy.graph import build_graph_from_str\n",
    "\n",
    "import numpy as np\n",
    "import pandas as pd\n",
    "\n",
    "from statsmodels.api import OLS"
   ]
  },
  {
   "cell_type": "code",
   "execution_count": 2,
   "metadata": {
    "execution": {
     "iopub.execute_input": "2024-06-14T15:03:25.535692Z",
     "iopub.status.busy": "2024-06-14T15:03:25.535229Z",
     "iopub.status.idle": "2024-06-14T15:03:25.579298Z",
     "shell.execute_reply": "2024-06-14T15:03:25.578727Z"
    }
   },
   "outputs": [
    {
     "data": {
      "text/html": [
       "<div>\n",
       "<style scoped>\n",
       "    .dataframe tbody tr th:only-of-type {\n",
       "        vertical-align: middle;\n",
       "    }\n",
       "\n",
       "    .dataframe tbody tr th {\n",
       "        vertical-align: top;\n",
       "    }\n",
       "\n",
       "    .dataframe thead th {\n",
       "        text-align: right;\n",
       "    }\n",
       "</style>\n",
       "<table border=\"1\" class=\"dataframe\">\n",
       "  <thead>\n",
       "    <tr style=\"text-align: right;\">\n",
       "      <th></th>\n",
       "      <th>W0</th>\n",
       "      <th>v0</th>\n",
       "      <th>y</th>\n",
       "    </tr>\n",
       "  </thead>\n",
       "  <tbody>\n",
       "    <tr>\n",
       "      <th>0</th>\n",
       "      <td>0.734904</td>\n",
       "      <td>False</td>\n",
       "      <td>-0.019114</td>\n",
       "    </tr>\n",
       "    <tr>\n",
       "      <th>1</th>\n",
       "      <td>-0.309628</td>\n",
       "      <td>False</td>\n",
       "      <td>-1.022775</td>\n",
       "    </tr>\n",
       "    <tr>\n",
       "      <th>2</th>\n",
       "      <td>-0.541264</td>\n",
       "      <td>False</td>\n",
       "      <td>-1.309087</td>\n",
       "    </tr>\n",
       "    <tr>\n",
       "      <th>3</th>\n",
       "      <td>-0.037184</td>\n",
       "      <td>False</td>\n",
       "      <td>1.229715</td>\n",
       "    </tr>\n",
       "    <tr>\n",
       "      <th>4</th>\n",
       "      <td>-0.923806</td>\n",
       "      <td>True</td>\n",
       "      <td>4.374885</td>\n",
       "    </tr>\n",
       "    <tr>\n",
       "      <th>...</th>\n",
       "      <td>...</td>\n",
       "      <td>...</td>\n",
       "      <td>...</td>\n",
       "    </tr>\n",
       "    <tr>\n",
       "      <th>995</th>\n",
       "      <td>0.543022</td>\n",
       "      <td>True</td>\n",
       "      <td>4.954280</td>\n",
       "    </tr>\n",
       "    <tr>\n",
       "      <th>996</th>\n",
       "      <td>0.554416</td>\n",
       "      <td>True</td>\n",
       "      <td>5.238026</td>\n",
       "    </tr>\n",
       "    <tr>\n",
       "      <th>997</th>\n",
       "      <td>1.684447</td>\n",
       "      <td>True</td>\n",
       "      <td>5.829171</td>\n",
       "    </tr>\n",
       "    <tr>\n",
       "      <th>998</th>\n",
       "      <td>-0.152655</td>\n",
       "      <td>True</td>\n",
       "      <td>5.972417</td>\n",
       "    </tr>\n",
       "    <tr>\n",
       "      <th>999</th>\n",
       "      <td>2.358259</td>\n",
       "      <td>True</td>\n",
       "      <td>7.280322</td>\n",
       "    </tr>\n",
       "  </tbody>\n",
       "</table>\n",
       "<p>1000 rows × 3 columns</p>\n",
       "</div>"
      ],
      "text/plain": [
       "           W0     v0         y\n",
       "0    0.734904  False -0.019114\n",
       "1   -0.309628  False -1.022775\n",
       "2   -0.541264  False -1.309087\n",
       "3   -0.037184  False  1.229715\n",
       "4   -0.923806   True  4.374885\n",
       "..        ...    ...       ...\n",
       "995  0.543022   True  4.954280\n",
       "996  0.554416   True  5.238026\n",
       "997  1.684447   True  5.829171\n",
       "998 -0.152655   True  5.972417\n",
       "999  2.358259   True  7.280322\n",
       "\n",
       "[1000 rows x 3 columns]"
      ]
     },
     "execution_count": 2,
     "metadata": {},
     "output_type": "execute_result"
    }
   ],
   "source": [
    "data = dowhy.datasets.linear_dataset(beta=5,\n",
    "        num_common_causes=1,\n",
    "        num_instruments = 0,\n",
    "        num_samples=1000,\n",
    "        treatment_is_binary=True)\n",
    "df = data['df']\n",
    "df['y'] = df['y'] + np.random.normal(size=len(df)) # Adding noise to data. Without noise, the variance in Y|X, Z is zero, and mcmc fails.\n",
    "nx_graph = build_graph_from_str(data[\"dot_graph\"])\n",
    "\n",
    "treatment= data[\"treatment_name\"][0]\n",
    "outcome = data[\"outcome_name\"][0]\n",
    "common_cause = data[\"common_causes_names\"][0]\n",
    "df"
   ]
  },
  {
   "cell_type": "code",
   "execution_count": 3,
   "metadata": {
    "execution": {
     "iopub.execute_input": "2024-06-14T15:03:25.581835Z",
     "iopub.status.busy": "2024-06-14T15:03:25.581364Z",
     "iopub.status.idle": "2024-06-14T15:03:25.757758Z",
     "shell.execute_reply": "2024-06-14T15:03:25.757091Z"
    },
    "scrolled": true
   },
   "outputs": [
    {
     "data": {
      "text/plain": [
       "<Axes: xlabel='v0'>"
      ]
     },
     "execution_count": 3,
     "metadata": {},
     "output_type": "execute_result"
    },
    {
     "data": {
      "image/png": "[encoded data removed]",
      "text/plain": [
       "<Figure size 640x480 with 1 Axes>"
      ]
     },
     "metadata": {},
     "output_type": "display_data"
    }
   ],
   "source": [
    "# data['df'] is just a regular pandas.DataFrame\n",
    "df.causal.do(x=treatment,\n",
    "             variable_types={treatment: 'b', outcome: 'c', common_cause: 'c'},\n",
    "             outcome=outcome,\n",
    "             common_causes=[common_cause],\n",
    "            ).groupby(treatment).mean().plot(y=outcome, kind='bar')"
   ]
  },
  {
   "cell_type": "code",
   "execution_count": 4,
   "metadata": {
    "execution": {
     "iopub.execute_input": "2024-06-14T15:03:25.760413Z",
     "iopub.status.busy": "2024-06-14T15:03:25.759945Z",
     "iopub.status.idle": "2024-06-14T15:03:25.894998Z",
     "shell.execute_reply": "2024-06-14T15:03:25.894360Z"
    }
   },
   "outputs": [
    {
     "data": {
      "text/plain": [
       "<Axes: xlabel='v0'>"
      ]
     },
     "execution_count": 4,
     "metadata": {},
     "output_type": "execute_result"
    },
    {
     "data": {
      "image/png": "[encoded data removed]",
      "text/plain": [
       "<Figure size 640x480 with 1 Axes>"
      ]
     },
     "metadata": {},
     "output_type": "display_data"
    }
   ],
   "source": [
    "df.causal.do(x={treatment: 1}, \n",
    "              variable_types={treatment:'b', outcome: 'c', common_cause: 'c'}, \n",
    "              outcome=outcome,\n",
    "              method='weighting', \n",
    "              common_causes=[common_cause]\n",
    "              ).groupby(treatment).mean().plot(y=outcome, kind='bar')"
   ]
  },
  {
   "cell_type": "code",
   "execution_count": 5,
   "metadata": {
    "execution": {
     "iopub.execute_input": "2024-06-14T15:03:25.897401Z",
     "iopub.status.busy": "2024-06-14T15:03:25.897167Z",
     "iopub.status.idle": "2024-06-14T15:03:25.918105Z",
     "shell.execute_reply": "2024-06-14T15:03:25.917599Z"
    }
   },
   "outputs": [],
   "source": [
    "cdf_1 = df.causal.do(x={treatment: 1}, \n",
    "              variable_types={treatment: 'b', outcome: 'c', common_cause: 'c'}, \n",
    "              outcome=outcome, \n",
    "              graph=nx_graph\n",
    "              )\n",
    "\n",
    "cdf_0 = df.causal.do(x={treatment: 0}, \n",
    "              variable_types={treatment: 'b', outcome: 'c', common_cause: 'c'}, \n",
    "              outcome=outcome, \n",
    "              graph=nx_graph\n",
    "              )\n"
   ]
  },
  {
   "cell_type": "code",
   "execution_count": 6,
   "metadata": {
    "execution": {
     "iopub.execute_input": "2024-06-14T15:03:25.920276Z",
     "iopub.status.busy": "2024-06-14T15:03:25.920092Z",
     "iopub.status.idle": "2024-06-14T15:03:25.929469Z",
     "shell.execute_reply": "2024-06-14T15:03:25.928954Z"
    },
    "scrolled": true
   },
   "outputs": [
    {
     "data": {
      "text/html": [
       "<div>\n",
       "<style scoped>\n",
       "    .dataframe tbody tr th:only-of-type {\n",
       "        vertical-align: middle;\n",
       "    }\n",
       "\n",
       "    .dataframe tbody tr th {\n",
       "        vertical-align: top;\n",
       "    }\n",
       "\n",
       "    .dataframe thead th {\n",
       "        text-align: right;\n",
       "    }\n",
       "</style>\n",
       "<table border=\"1\" class=\"dataframe\">\n",
       "  <thead>\n",
       "    <tr style=\"text-align: right;\">\n",
       "      <th></th>\n",
       "      <th>W0</th>\n",
       "      <th>v0</th>\n",
       "      <th>y</th>\n",
       "      <th>propensity_score</th>\n",
       "      <th>weight</th>\n",
       "    </tr>\n",
       "  </thead>\n",
       "  <tbody>\n",
       "    <tr>\n",
       "      <th>0</th>\n",
       "      <td>0.247882</td>\n",
       "      <td>False</td>\n",
       "      <td>0.982417</td>\n",
       "      <td>0.430022</td>\n",
       "      <td>2.325465</td>\n",
       "    </tr>\n",
       "    <tr>\n",
       "      <th>1</th>\n",
       "      <td>-0.039228</td>\n",
       "      <td>False</td>\n",
       "      <td>0.256933</td>\n",
       "      <td>0.500526</td>\n",
       "      <td>1.997899</td>\n",
       "    </tr>\n",
       "    <tr>\n",
       "      <th>2</th>\n",
       "      <td>0.083001</td>\n",
       "      <td>False</td>\n",
       "      <td>0.249216</td>\n",
       "      <td>0.470349</td>\n",
       "      <td>2.126082</td>\n",
       "    </tr>\n",
       "    <tr>\n",
       "      <th>3</th>\n",
       "      <td>0.553664</td>\n",
       "      <td>False</td>\n",
       "      <td>0.480409</td>\n",
       "      <td>0.357992</td>\n",
       "      <td>2.793358</td>\n",
       "    </tr>\n",
       "    <tr>\n",
       "      <th>4</th>\n",
       "      <td>0.589304</td>\n",
       "      <td>False</td>\n",
       "      <td>0.592713</td>\n",
       "      <td>0.349934</td>\n",
       "      <td>2.857679</td>\n",
       "    </tr>\n",
       "    <tr>\n",
       "      <th>...</th>\n",
       "      <td>...</td>\n",
       "      <td>...</td>\n",
       "      <td>...</td>\n",
       "      <td>...</td>\n",
       "      <td>...</td>\n",
       "    </tr>\n",
       "    <tr>\n",
       "      <th>995</th>\n",
       "      <td>0.879313</td>\n",
       "      <td>False</td>\n",
       "      <td>1.105798</td>\n",
       "      <td>0.287807</td>\n",
       "      <td>3.474554</td>\n",
       "    </tr>\n",
       "    <tr>\n",
       "      <th>996</th>\n",
       "      <td>0.666595</td>\n",
       "      <td>False</td>\n",
       "      <td>0.688326</td>\n",
       "      <td>0.332756</td>\n",
       "      <td>3.005203</td>\n",
       "    </tr>\n",
       "    <tr>\n",
       "      <th>997</th>\n",
       "      <td>1.301464</td>\n",
       "      <td>False</td>\n",
       "      <td>2.065647</td>\n",
       "      <td>0.210246</td>\n",
       "      <td>4.756328</td>\n",
       "    </tr>\n",
       "    <tr>\n",
       "      <th>998</th>\n",
       "      <td>1.290057</td>\n",
       "      <td>False</td>\n",
       "      <td>1.489593</td>\n",
       "      <td>0.212125</td>\n",
       "      <td>4.714202</td>\n",
       "    </tr>\n",
       "    <tr>\n",
       "      <th>999</th>\n",
       "      <td>-0.069772</td>\n",
       "      <td>False</td>\n",
       "      <td>1.196383</td>\n",
       "      <td>0.508075</td>\n",
       "      <td>1.968214</td>\n",
       "    </tr>\n",
       "  </tbody>\n",
       "</table>\n",
       "<p>1000 rows × 5 columns</p>\n",
       "</div>"
      ],
      "text/plain": [
       "           W0     v0         y  propensity_score    weight\n",
       "0    0.247882  False  0.982417          0.430022  2.325465\n",
       "1   -0.039228  False  0.256933          0.500526  1.997899\n",
       "2    0.083001  False  0.249216          0.470349  2.126082\n",
       "3    0.553664  False  0.480409          0.357992  2.793358\n",
       "4    0.589304  False  0.592713          0.349934  2.857679\n",
       "..        ...    ...       ...               ...       ...\n",
       "995  0.879313  False  1.105798          0.287807  3.474554\n",
       "996  0.666595  False  0.688326          0.332756  3.005203\n",
       "997  1.301464  False  2.065647          0.210246  4.756328\n",
       "998  1.290057  False  1.489593          0.212125  4.714202\n",
       "999 -0.069772  False  1.196383          0.508075  1.968214\n",
       "\n",
       "[1000 rows x 5 columns]"
      ]
     },
     "execution_count": 6,
     "metadata": {},
     "output_type": "execute_result"
    }
   ],
   "source": [
    "cdf_0"
   ]
  },
  {
   "cell_type": "code",
   "execution_count": 7,
   "metadata": {
    "execution": {
     "iopub.execute_input": "2024-06-14T15:03:25.931758Z",
     "iopub.status.busy": "2024-06-14T15:03:25.931351Z",
     "iopub.status.idle": "2024-06-14T15:03:25.939890Z",
     "shell.execute_reply": "2024-06-14T15:03:25.939303Z"
    }
   },
   "outputs": [
    {
     "data": {
      "text/html": [
       "<div>\n",
       "<style scoped>\n",
       "    .dataframe tbody tr th:only-of-type {\n",
       "        vertical-align: middle;\n",
       "    }\n",
       "\n",
       "    .dataframe tbody tr th {\n",
       "        vertical-align: top;\n",
       "    }\n",
       "\n",
       "    .dataframe thead th {\n",
       "        text-align: right;\n",
       "    }\n",
       "</style>\n",
       "<table border=\"1\" class=\"dataframe\">\n",
       "  <thead>\n",
       "    <tr style=\"text-align: right;\">\n",
       "      <th></th>\n",
       "      <th>W0</th>\n",
       "      <th>v0</th>\n",
       "      <th>y</th>\n",
       "      <th>propensity_score</th>\n",
       "      <th>weight</th>\n",
       "    </tr>\n",
       "  </thead>\n",
       "  <tbody>\n",
       "    <tr>\n",
       "      <th>0</th>\n",
       "      <td>-0.219700</td>\n",
       "      <td>True</td>\n",
       "      <td>2.449806</td>\n",
       "      <td>0.454988</td>\n",
       "      <td>2.197860</td>\n",
       "    </tr>\n",
       "    <tr>\n",
       "      <th>1</th>\n",
       "      <td>2.428243</td>\n",
       "      <td>True</td>\n",
       "      <td>7.835641</td>\n",
       "      <td>0.919642</td>\n",
       "      <td>1.087380</td>\n",
       "    </tr>\n",
       "    <tr>\n",
       "      <th>2</th>\n",
       "      <td>-0.517883</td>\n",
       "      <td>True</td>\n",
       "      <td>2.831816</td>\n",
       "      <td>0.383350</td>\n",
       "      <td>2.608579</td>\n",
       "    </tr>\n",
       "    <tr>\n",
       "      <th>3</th>\n",
       "      <td>0.803413</td>\n",
       "      <td>True</td>\n",
       "      <td>6.971343</td>\n",
       "      <td>0.696570</td>\n",
       "      <td>1.435606</td>\n",
       "    </tr>\n",
       "    <tr>\n",
       "      <th>4</th>\n",
       "      <td>2.132851</td>\n",
       "      <td>True</td>\n",
       "      <td>7.746414</td>\n",
       "      <td>0.895242</td>\n",
       "      <td>1.117017</td>\n",
       "    </tr>\n",
       "    <tr>\n",
       "      <th>...</th>\n",
       "      <td>...</td>\n",
       "      <td>...</td>\n",
       "      <td>...</td>\n",
       "      <td>...</td>\n",
       "      <td>...</td>\n",
       "    </tr>\n",
       "    <tr>\n",
       "      <th>995</th>\n",
       "      <td>0.530614</td>\n",
       "      <td>True</td>\n",
       "      <td>5.629971</td>\n",
       "      <td>0.636753</td>\n",
       "      <td>1.570467</td>\n",
       "    </tr>\n",
       "    <tr>\n",
       "      <th>996</th>\n",
       "      <td>0.107537</td>\n",
       "      <td>True</td>\n",
       "      <td>5.797297</td>\n",
       "      <td>0.535690</td>\n",
       "      <td>1.866752</td>\n",
       "    </tr>\n",
       "    <tr>\n",
       "      <th>997</th>\n",
       "      <td>1.358418</td>\n",
       "      <td>True</td>\n",
       "      <td>5.977250</td>\n",
       "      <td>0.798951</td>\n",
       "      <td>1.251641</td>\n",
       "    </tr>\n",
       "    <tr>\n",
       "      <th>998</th>\n",
       "      <td>0.560684</td>\n",
       "      <td>True</td>\n",
       "      <td>5.955321</td>\n",
       "      <td>0.643602</td>\n",
       "      <td>1.553756</td>\n",
       "    </tr>\n",
       "    <tr>\n",
       "      <th>999</th>\n",
       "      <td>1.077297</td>\n",
       "      <td>True</td>\n",
       "      <td>5.486214</td>\n",
       "      <td>0.750599</td>\n",
       "      <td>1.332270</td>\n",
       "    </tr>\n",
       "  </tbody>\n",
       "</table>\n",
       "<p>1000 rows × 5 columns</p>\n",
       "</div>"
      ],
      "text/plain": [
       "           W0    v0         y  propensity_score    weight\n",
       "0   -0.219700  True  2.449806          0.454988  2.197860\n",
       "1    2.428243  True  7.835641          0.919642  1.087380\n",
       "2   -0.517883  True  2.831816          0.383350  2.608579\n",
       "3    0.803413  True  6.971343          0.696570  1.435606\n",
       "4    2.132851  True  7.746414          0.895242  1.117017\n",
       "..        ...   ...       ...               ...       ...\n",
       "995  0.530614  True  5.629971          0.636753  1.570467\n",
       "996  0.107537  True  5.797297          0.535690  1.866752\n",
       "997  1.358418  True  5.977250          0.798951  1.251641\n",
       "998  0.560684  True  5.955321          0.643602  1.553756\n",
       "999  1.077297  True  5.486214          0.750599  1.332270\n",
       "\n",
       "[1000 rows x 5 columns]"
      ]
     },
     "execution_count": 7,
     "metadata": {},
     "output_type": "execute_result"
    }
   ],
   "source": [
    "cdf_1"
   ]
  },
  {
   "cell_type": "markdown",
   "metadata": {},
   "source": [
    "## Comparing the estimate to Linear Regression\n",
    "First, estimating the effect using the causal data frame, and the 95% confidence interval."
   ]
  },
  {
   "cell_type": "code",
   "execution_count": 8,
   "metadata": {
    "execution": {
     "iopub.execute_input": "2024-06-14T15:03:25.942162Z",
     "iopub.status.busy": "2024-06-14T15:03:25.941835Z",
     "iopub.status.idle": "2024-06-14T15:03:25.988194Z",
     "shell.execute_reply": "2024-06-14T15:03:25.987594Z"
    }
   },
   "outputs": [
    {
     "data": {
      "image/png": "[encoded data removed]",
      "text/latex": [
       "$\\displaystyle 4.85466063669927$"
      ],
      "text/plain": [
       "4.854660636699273"
      ]
     },
     "execution_count": 8,
     "metadata": {},
     "output_type": "execute_result"
    }
   ],
   "source": [
    "(cdf_1['y'] - cdf_0['y']).mean()"
   ]
  },
  {
   "cell_type": "code",
   "execution_count": 9,
   "metadata": {
    "execution": {
     "iopub.execute_input": "2024-06-14T15:03:25.990718Z",
     "iopub.status.busy": "2024-06-14T15:03:25.990279Z",
     "iopub.status.idle": "2024-06-14T15:03:26.005911Z",
     "shell.execute_reply": "2024-06-14T15:03:26.005348Z"
    }
   },
   "outputs": [
    {
     "data": {
      "image/png": "[encoded data removed]",
      "text/latex": [
       "$\\displaystyle 0.134558289553429$"
      ],
      "text/plain": [
       "0.1345582895534289"
      ]
     },
     "execution_count": 9,
     "metadata": {},
     "output_type": "execute_result"
    }
   ],
   "source": [
    "1.96*(cdf_1['y'] - cdf_0['y']).std() / np.sqrt(len(df))"
   ]
  },
  {
   "cell_type": "markdown",
   "metadata": {},
   "source": [
    "Comparing to the estimate from OLS."
   ]
  },
  {
   "cell_type": "code",
   "execution_count": 10,
   "metadata": {
    "execution": {
     "iopub.execute_input": "2024-06-14T15:03:26.008473Z",
     "iopub.status.busy": "2024-06-14T15:03:26.007941Z",
     "iopub.status.idle": "2024-06-14T15:03:26.024273Z",
     "shell.execute_reply": "2024-06-14T15:03:26.023689Z"
    }
   },
   "outputs": [
    {
     "data": {
      "text/html": [
       "<table class=\"simpletable\">\n",
       "<caption>OLS Regression Results</caption>\n",
       "<tr>\n",
       "  <th>Dep. Variable:</th>            <td>y</td>        <th>  R-squared (uncentered):</th>      <td>   0.956</td> \n",
       "</tr>\n",
       "<tr>\n",
       "  <th>Model:</th>                   <td>OLS</td>       <th>  Adj. R-squared (uncentered):</th> <td>   0.955</td> \n",
       "</tr>\n",
       "<tr>\n",
       "  <th>Method:</th>             <td>Least Squares</td>  <th>  F-statistic:       </th>          <td>1.074e+04</td>\n",
       "</tr>\n",
       "<tr>\n",
       "  <th>Date:</th>             <td>Fri, 14 Jun 2024</td> <th>  Prob (F-statistic):</th>           <td>  0.00</td>  \n",
       "</tr>\n",
       "<tr>\n",
       "  <th>Time:</th>                 <td>15:03:26</td>     <th>  Log-Likelihood:    </th>          <td> -1435.2</td> \n",
       "</tr>\n",
       "<tr>\n",
       "  <th>No. Observations:</th>      <td>  1000</td>      <th>  AIC:               </th>          <td>   2874.</td> \n",
       "</tr>\n",
       "<tr>\n",
       "  <th>Df Residuals:</th>          <td>   998</td>      <th>  BIC:               </th>          <td>   2884.</td> \n",
       "</tr>\n",
       "<tr>\n",
       "  <th>Df Model:</th>              <td>     2</td>      <th>                     </th>              <td> </td>    \n",
       "</tr>\n",
       "<tr>\n",
       "  <th>Covariance Type:</th>      <td>nonrobust</td>    <th>                     </th>              <td> </td>    \n",
       "</tr>\n",
       "</table>\n",
       "<table class=\"simpletable\">\n",
       "<tr>\n",
       "   <td></td>     <th>coef</th>     <th>std err</th>      <th>t</th>      <th>P>|t|</th>  <th>[0.025</th>    <th>0.975]</th>  \n",
       "</tr>\n",
       "<tr>\n",
       "  <th>x1</th> <td>    1.1700</td> <td>    0.035</td> <td>   32.973</td> <td> 0.000</td> <td>    1.100</td> <td>    1.240</td>\n",
       "</tr>\n",
       "<tr>\n",
       "  <th>x2</th> <td>    4.8881</td> <td>    0.051</td> <td>   96.412</td> <td> 0.000</td> <td>    4.789</td> <td>    4.988</td>\n",
       "</tr>\n",
       "</table>\n",
       "<table class=\"simpletable\">\n",
       "<tr>\n",
       "  <th>Omnibus:</th>       <td> 8.331</td> <th>  Durbin-Watson:     </th> <td>   1.982</td>\n",
       "</tr>\n",
       "<tr>\n",
       "  <th>Prob(Omnibus):</th> <td> 0.016</td> <th>  Jarque-Bera (JB):  </th> <td>   8.258</td>\n",
       "</tr>\n",
       "<tr>\n",
       "  <th>Skew:</th>          <td> 0.214</td> <th>  Prob(JB):          </th> <td>  0.0161</td>\n",
       "</tr>\n",
       "<tr>\n",
       "  <th>Kurtosis:</th>      <td> 3.119</td> <th>  Cond. No.          </th> <td>    2.16</td>\n",
       "</tr>\n",
       "</table><br/><br/>Notes:<br/>[1] R² is computed without centering (uncentered) since the model does not contain a constant.<br/>[2] Standard Errors assume that the covariance matrix of the errors is correctly specified."
      ],
      "text/latex": [
       "\\begin{center}\n",
       "\\begin{tabular}{lclc}\n",
       "\\toprule\n",
       "\\textbf{Dep. Variable:}    &        y         & \\textbf{  R-squared (uncentered):}      &     0.956   \\\\\n",
       "\\textbf{Model:}            &       OLS        & \\textbf{  Adj. R-squared (uncentered):} &     0.955   \\\\\n",
       "\\textbf{Method:}           &  Least Squares   & \\textbf{  F-statistic:       }          & 1.074e+04   \\\\\n",
       "\\textbf{Date:}             & Fri, 14 Jun 2024 & \\textbf{  Prob (F-statistic):}          &     0.00    \\\\\n",
       "\\textbf{Time:}             &     15:03:26     & \\textbf{  Log-Likelihood:    }          &   -1435.2   \\\\\n",
       "\\textbf{No. Observations:} &        1000      & \\textbf{  AIC:               }          &     2874.   \\\\\n",
       "\\textbf{Df Residuals:}     &         998      & \\textbf{  BIC:               }          &     2884.   \\\\\n",
       "\\textbf{Df Model:}         &           2      & \\textbf{                     }          &             \\\\\n",
       "\\textbf{Covariance Type:}  &    nonrobust     & \\textbf{                     }          &             \\\\\n",
       "\\bottomrule\n",
       "\\end{tabular}\n",
       "\\begin{tabular}{lcccccc}\n",
       "            & \\textbf{coef} & \\textbf{std err} & \\textbf{t} & \\textbf{P$> |$t$|$} & \\textbf{[0.025} & \\textbf{0.975]}  \\\\\n",
       "\\midrule\n",
       "\\textbf{x1} &       1.1700  &        0.035     &    32.973  &         0.000        &        1.100    &        1.240     \\\\\n",
       "\\textbf{x2} &       4.8881  &        0.051     &    96.412  &         0.000        &        4.789    &        4.988     \\\\\n",
       "\\bottomrule\n",
       "\\end{tabular}\n",
       "\\begin{tabular}{lclc}\n",
       "\\textbf{Omnibus:}       &  8.331 & \\textbf{  Durbin-Watson:     } &    1.982  \\\\\n",
       "\\textbf{Prob(Omnibus):} &  0.016 & \\textbf{  Jarque-Bera (JB):  } &    8.258  \\\\\n",
       "\\textbf{Skew:}          &  0.214 & \\textbf{  Prob(JB):          } &   0.0161  \\\\\n",
       "\\textbf{Kurtosis:}      &  3.119 & \\textbf{  Cond. No.          } &     2.16  \\\\\n",
       "\\bottomrule\n",
       "\\end{tabular}\n",
       "%\\caption{OLS Regression Results}\n",
       "\\end{center}\n",
       "\n",
       "Notes: \\newline\n",
       " [1] R² is computed without centering (uncentered) since the model does not contain a constant. \\newline\n",
       " [2] Standard Errors assume that the covariance matrix of the errors is correctly specified."
      ],
      "text/plain": [
       "<class 'statsmodels.iolib.summary.Summary'>\n",
       "\"\"\"\n",
       "                                 OLS Regression Results                                \n",
       "=======================================================================================\n",
       "Dep. Variable:                      y   R-squared (uncentered):                   0.956\n",
       "Model:                            OLS   Adj. R-squared (uncentered):              0.955\n",
       "Method:                 Least Squares   F-statistic:                          1.074e+04\n",
       "Date:                Fri, 14 Jun 2024   Prob (F-statistic):                        0.00\n",
       "Time:                        15:03:26   Log-Likelihood:                         -1435.2\n",
       "No. Observations:                1000   AIC:                                      2874.\n",
       "Df Residuals:                     998   BIC:                                      2884.\n",
       "Df Model:                           2                                                  \n",
       "Covariance Type:            nonrobust                                                  \n",
       "==============================================================================\n",
       "                 coef    std err          t      P>|t|      [0.025      0.975]\n",
       "------------------------------------------------------------------------------\n",
       "x1             1.1700      0.035     32.973      0.000       1.100       1.240\n",
       "x2             4.8881      0.051     96.412      0.000       4.789       4.988\n",
       "==============================================================================\n",
       "Omnibus:                        8.331   Durbin-Watson:                   1.982\n",
       "Prob(Omnibus):                  0.016   Jarque-Bera (JB):                8.258\n",
       "Skew:                           0.214   Prob(JB):                       0.0161\n",
       "Kurtosis:                       3.119   Cond. No.                         2.16\n",
       "==============================================================================\n",
       "\n",
       "Notes:\n",
       "[1] R² is computed without centering (uncentered) since the model does not contain a constant.\n",
       "[2] Standard Errors assume that the covariance matrix of the errors is correctly specified.\n",
       "\"\"\""
      ]
     },
     "execution_count": 10,
     "metadata": {},
     "output_type": "execute_result"
    }
   ],
   "source": [
    "model = OLS(np.asarray(df[outcome]), np.asarray(df[[common_cause, treatment]], dtype=np.float64))\n",
    "result = model.fit()\n",
    "result.summary()"
   ]
  }
 ],
 "metadata": {
  "kernelspec": {
   "display_name": "Python 3 (ipykernel)",
   "language": "python",
   "name": "python3"
  },
  "language_info": {
   "codemirror_mode": {
    "name": "ipython",
    "version": 3
   },
   "file_extension": ".py",
   "mimetype": "text/x-python",
   "name": "python",
   "nbconvert_exporter": "python",
   "pygments_lexer": "ipython3",
   "version": "3.8.10"
  },
  "toc": {
   "base_numbering": 1,
   "nav_menu": {},
   "number_sections": false,
   "sideBar": true,
   "skip_h1_title": true,
   "title_cell": "Table of Contents",
   "title_sidebar": "Contents",
   "toc_cell": false,
   "toc_position": {},
   "toc_section_display": true,
   "toc_window_display": false
  }
 },
 "nbformat": 4,
 "nbformat_minor": 4
}
