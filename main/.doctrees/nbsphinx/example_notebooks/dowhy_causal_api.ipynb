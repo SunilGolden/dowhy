{
 "cells": [
  {
   "cell_type": "markdown",
   "metadata": {},
   "source": [
    "# Demo for the DoWhy causal API\n",
    "We show a simple example of adding a causal extension to any dataframe. "
   ]
  },
  {
   "cell_type": "code",
   "execution_count": 1,
   "metadata": {
    "execution": {
     "iopub.execute_input": "2024-05-22T18:54:58.715311Z",
     "iopub.status.busy": "2024-05-22T18:54:58.715129Z",
     "iopub.status.idle": "2024-05-22T18:55:00.245544Z",
     "shell.execute_reply": "2024-05-22T18:55:00.244912Z"
    }
   },
   "outputs": [],
   "source": [
    "import dowhy.datasets\n",
    "import dowhy.api\n",
    "from dowhy.graph import build_graph_from_str\n",
    "\n",
    "import numpy as np\n",
    "import pandas as pd\n",
    "\n",
    "from statsmodels.api import OLS"
   ]
  },
  {
   "cell_type": "code",
   "execution_count": 2,
   "metadata": {
    "execution": {
     "iopub.execute_input": "2024-05-22T18:55:00.248530Z",
     "iopub.status.busy": "2024-05-22T18:55:00.248036Z",
     "iopub.status.idle": "2024-05-22T18:55:00.290666Z",
     "shell.execute_reply": "2024-05-22T18:55:00.290010Z"
    }
   },
   "outputs": [
    {
     "data": {
      "text/html": [
       "<div>\n",
       "<style scoped>\n",
       "    .dataframe tbody tr th:only-of-type {\n",
       "        vertical-align: middle;\n",
       "    }\n",
       "\n",
       "    .dataframe tbody tr th {\n",
       "        vertical-align: top;\n",
       "    }\n",
       "\n",
       "    .dataframe thead th {\n",
       "        text-align: right;\n",
       "    }\n",
       "</style>\n",
       "<table border=\"1\" class=\"dataframe\">\n",
       "  <thead>\n",
       "    <tr style=\"text-align: right;\">\n",
       "      <th></th>\n",
       "      <th>W0</th>\n",
       "      <th>v0</th>\n",
       "      <th>y</th>\n",
       "    </tr>\n",
       "  </thead>\n",
       "  <tbody>\n",
       "    <tr>\n",
       "      <th>0</th>\n",
       "      <td>-1.308775</td>\n",
       "      <td>False</td>\n",
       "      <td>-0.317385</td>\n",
       "    </tr>\n",
       "    <tr>\n",
       "      <th>1</th>\n",
       "      <td>0.329359</td>\n",
       "      <td>False</td>\n",
       "      <td>1.000021</td>\n",
       "    </tr>\n",
       "    <tr>\n",
       "      <th>2</th>\n",
       "      <td>1.592320</td>\n",
       "      <td>False</td>\n",
       "      <td>2.687260</td>\n",
       "    </tr>\n",
       "    <tr>\n",
       "      <th>3</th>\n",
       "      <td>0.355527</td>\n",
       "      <td>True</td>\n",
       "      <td>6.047844</td>\n",
       "    </tr>\n",
       "    <tr>\n",
       "      <th>4</th>\n",
       "      <td>-0.395587</td>\n",
       "      <td>False</td>\n",
       "      <td>-0.536472</td>\n",
       "    </tr>\n",
       "    <tr>\n",
       "      <th>...</th>\n",
       "      <td>...</td>\n",
       "      <td>...</td>\n",
       "      <td>...</td>\n",
       "    </tr>\n",
       "    <tr>\n",
       "      <th>995</th>\n",
       "      <td>0.727129</td>\n",
       "      <td>True</td>\n",
       "      <td>4.164100</td>\n",
       "    </tr>\n",
       "    <tr>\n",
       "      <th>996</th>\n",
       "      <td>0.839767</td>\n",
       "      <td>True</td>\n",
       "      <td>4.189129</td>\n",
       "    </tr>\n",
       "    <tr>\n",
       "      <th>997</th>\n",
       "      <td>-0.054836</td>\n",
       "      <td>False</td>\n",
       "      <td>0.076386</td>\n",
       "    </tr>\n",
       "    <tr>\n",
       "      <th>998</th>\n",
       "      <td>0.384084</td>\n",
       "      <td>True</td>\n",
       "      <td>6.915152</td>\n",
       "    </tr>\n",
       "    <tr>\n",
       "      <th>999</th>\n",
       "      <td>1.999152</td>\n",
       "      <td>True</td>\n",
       "      <td>7.801467</td>\n",
       "    </tr>\n",
       "  </tbody>\n",
       "</table>\n",
       "<p>1000 rows × 3 columns</p>\n",
       "</div>"
      ],
      "text/plain": [
       "           W0     v0         y\n",
       "0   -1.308775  False -0.317385\n",
       "1    0.329359  False  1.000021\n",
       "2    1.592320  False  2.687260\n",
       "3    0.355527   True  6.047844\n",
       "4   -0.395587  False -0.536472\n",
       "..        ...    ...       ...\n",
       "995  0.727129   True  4.164100\n",
       "996  0.839767   True  4.189129\n",
       "997 -0.054836  False  0.076386\n",
       "998  0.384084   True  6.915152\n",
       "999  1.999152   True  7.801467\n",
       "\n",
       "[1000 rows x 3 columns]"
      ]
     },
     "execution_count": 2,
     "metadata": {},
     "output_type": "execute_result"
    }
   ],
   "source": [
    "data = dowhy.datasets.linear_dataset(beta=5,\n",
    "        num_common_causes=1,\n",
    "        num_instruments = 0,\n",
    "        num_samples=1000,\n",
    "        treatment_is_binary=True)\n",
    "df = data['df']\n",
    "df['y'] = df['y'] + np.random.normal(size=len(df)) # Adding noise to data. Without noise, the variance in Y|X, Z is zero, and mcmc fails.\n",
    "nx_graph = build_graph_from_str(data[\"dot_graph\"])\n",
    "\n",
    "treatment= data[\"treatment_name\"][0]\n",
    "outcome = data[\"outcome_name\"][0]\n",
    "common_cause = data[\"common_causes_names\"][0]\n",
    "df"
   ]
  },
  {
   "cell_type": "code",
   "execution_count": 3,
   "metadata": {
    "execution": {
     "iopub.execute_input": "2024-05-22T18:55:00.293111Z",
     "iopub.status.busy": "2024-05-22T18:55:00.292919Z",
     "iopub.status.idle": "2024-05-22T18:55:00.488582Z",
     "shell.execute_reply": "2024-05-22T18:55:00.488023Z"
    },
    "scrolled": true
   },
   "outputs": [
    {
     "data": {
      "text/plain": [
       "<Axes: xlabel='v0'>"
      ]
     },
     "execution_count": 3,
     "metadata": {},
     "output_type": "execute_result"
    },
    {
     "data": {
      "image/png": "[encoded data removed]",
      "text/plain": [
       "<Figure size 640x480 with 1 Axes>"
      ]
     },
     "metadata": {},
     "output_type": "display_data"
    }
   ],
   "source": [
    "# data['df'] is just a regular pandas.DataFrame\n",
    "df.causal.do(x=treatment,\n",
    "             variable_types={treatment: 'b', outcome: 'c', common_cause: 'c'},\n",
    "             outcome=outcome,\n",
    "             common_causes=[common_cause],\n",
    "            ).groupby(treatment).mean().plot(y=outcome, kind='bar')"
   ]
  },
  {
   "cell_type": "code",
   "execution_count": 4,
   "metadata": {
    "execution": {
     "iopub.execute_input": "2024-05-22T18:55:00.491370Z",
     "iopub.status.busy": "2024-05-22T18:55:00.490876Z",
     "iopub.status.idle": "2024-05-22T18:55:00.632052Z",
     "shell.execute_reply": "2024-05-22T18:55:00.631367Z"
    }
   },
   "outputs": [
    {
     "data": {
      "text/plain": [
       "<Axes: xlabel='v0'>"
      ]
     },
     "execution_count": 4,
     "metadata": {},
     "output_type": "execute_result"
    },
    {
     "data": {
      "image/png": "[encoded data removed]",
      "text/plain": [
       "<Figure size 640x480 with 1 Axes>"
      ]
     },
     "metadata": {},
     "output_type": "display_data"
    }
   ],
   "source": [
    "df.causal.do(x={treatment: 1}, \n",
    "              variable_types={treatment:'b', outcome: 'c', common_cause: 'c'}, \n",
    "              outcome=outcome,\n",
    "              method='weighting', \n",
    "              common_causes=[common_cause]\n",
    "              ).groupby(treatment).mean().plot(y=outcome, kind='bar')"
   ]
  },
  {
   "cell_type": "code",
   "execution_count": 5,
   "metadata": {
    "execution": {
     "iopub.execute_input": "2024-05-22T18:55:00.634662Z",
     "iopub.status.busy": "2024-05-22T18:55:00.634263Z",
     "iopub.status.idle": "2024-05-22T18:55:00.656860Z",
     "shell.execute_reply": "2024-05-22T18:55:00.656284Z"
    }
   },
   "outputs": [],
   "source": [
    "cdf_1 = df.causal.do(x={treatment: 1}, \n",
    "              variable_types={treatment: 'b', outcome: 'c', common_cause: 'c'}, \n",
    "              outcome=outcome, \n",
    "              graph=nx_graph\n",
    "              )\n",
    "\n",
    "cdf_0 = df.causal.do(x={treatment: 0}, \n",
    "              variable_types={treatment: 'b', outcome: 'c', common_cause: 'c'}, \n",
    "              outcome=outcome, \n",
    "              graph=nx_graph\n",
    "              )\n"
   ]
  },
  {
   "cell_type": "code",
   "execution_count": 6,
   "metadata": {
    "execution": {
     "iopub.execute_input": "2024-05-22T18:55:00.659579Z",
     "iopub.status.busy": "2024-05-22T18:55:00.659358Z",
     "iopub.status.idle": "2024-05-22T18:55:00.669017Z",
     "shell.execute_reply": "2024-05-22T18:55:00.668410Z"
    },
    "scrolled": true
   },
   "outputs": [
    {
     "data": {
      "text/html": [
       "<div>\n",
       "<style scoped>\n",
       "    .dataframe tbody tr th:only-of-type {\n",
       "        vertical-align: middle;\n",
       "    }\n",
       "\n",
       "    .dataframe tbody tr th {\n",
       "        vertical-align: top;\n",
       "    }\n",
       "\n",
       "    .dataframe thead th {\n",
       "        text-align: right;\n",
       "    }\n",
       "</style>\n",
       "<table border=\"1\" class=\"dataframe\">\n",
       "  <thead>\n",
       "    <tr style=\"text-align: right;\">\n",
       "      <th></th>\n",
       "      <th>W0</th>\n",
       "      <th>v0</th>\n",
       "      <th>y</th>\n",
       "      <th>propensity_score</th>\n",
       "      <th>weight</th>\n",
       "    </tr>\n",
       "  </thead>\n",
       "  <tbody>\n",
       "    <tr>\n",
       "      <th>0</th>\n",
       "      <td>1.743396</td>\n",
       "      <td>False</td>\n",
       "      <td>2.464858</td>\n",
       "      <td>0.230851</td>\n",
       "      <td>4.331795</td>\n",
       "    </tr>\n",
       "    <tr>\n",
       "      <th>1</th>\n",
       "      <td>1.677032</td>\n",
       "      <td>False</td>\n",
       "      <td>2.585395</td>\n",
       "      <td>0.238648</td>\n",
       "      <td>4.190274</td>\n",
       "    </tr>\n",
       "    <tr>\n",
       "      <th>2</th>\n",
       "      <td>1.685385</td>\n",
       "      <td>False</td>\n",
       "      <td>2.685880</td>\n",
       "      <td>0.237657</td>\n",
       "      <td>4.207751</td>\n",
       "    </tr>\n",
       "    <tr>\n",
       "      <th>3</th>\n",
       "      <td>1.167124</td>\n",
       "      <td>False</td>\n",
       "      <td>1.070008</td>\n",
       "      <td>0.304363</td>\n",
       "      <td>3.285552</td>\n",
       "    </tr>\n",
       "    <tr>\n",
       "      <th>4</th>\n",
       "      <td>0.266635</td>\n",
       "      <td>False</td>\n",
       "      <td>-1.397632</td>\n",
       "      <td>0.440864</td>\n",
       "      <td>2.268271</td>\n",
       "    </tr>\n",
       "    <tr>\n",
       "      <th>...</th>\n",
       "      <td>...</td>\n",
       "      <td>...</td>\n",
       "      <td>...</td>\n",
       "      <td>...</td>\n",
       "      <td>...</td>\n",
       "    </tr>\n",
       "    <tr>\n",
       "      <th>995</th>\n",
       "      <td>0.245172</td>\n",
       "      <td>False</td>\n",
       "      <td>0.334795</td>\n",
       "      <td>0.444328</td>\n",
       "      <td>2.250592</td>\n",
       "    </tr>\n",
       "    <tr>\n",
       "      <th>996</th>\n",
       "      <td>0.936735</td>\n",
       "      <td>False</td>\n",
       "      <td>-0.166433</td>\n",
       "      <td>0.337171</td>\n",
       "      <td>2.965851</td>\n",
       "    </tr>\n",
       "    <tr>\n",
       "      <th>997</th>\n",
       "      <td>1.167124</td>\n",
       "      <td>False</td>\n",
       "      <td>1.070008</td>\n",
       "      <td>0.304363</td>\n",
       "      <td>3.285552</td>\n",
       "    </tr>\n",
       "    <tr>\n",
       "      <th>998</th>\n",
       "      <td>0.872544</td>\n",
       "      <td>False</td>\n",
       "      <td>2.697726</td>\n",
       "      <td>0.346617</td>\n",
       "      <td>2.885026</td>\n",
       "    </tr>\n",
       "    <tr>\n",
       "      <th>999</th>\n",
       "      <td>1.743735</td>\n",
       "      <td>False</td>\n",
       "      <td>1.737674</td>\n",
       "      <td>0.230812</td>\n",
       "      <td>4.332534</td>\n",
       "    </tr>\n",
       "  </tbody>\n",
       "</table>\n",
       "<p>1000 rows × 5 columns</p>\n",
       "</div>"
      ],
      "text/plain": [
       "           W0     v0         y  propensity_score    weight\n",
       "0    1.743396  False  2.464858          0.230851  4.331795\n",
       "1    1.677032  False  2.585395          0.238648  4.190274\n",
       "2    1.685385  False  2.685880          0.237657  4.207751\n",
       "3    1.167124  False  1.070008          0.304363  3.285552\n",
       "4    0.266635  False -1.397632          0.440864  2.268271\n",
       "..        ...    ...       ...               ...       ...\n",
       "995  0.245172  False  0.334795          0.444328  2.250592\n",
       "996  0.936735  False -0.166433          0.337171  2.965851\n",
       "997  1.167124  False  1.070008          0.304363  3.285552\n",
       "998  0.872544  False  2.697726          0.346617  2.885026\n",
       "999  1.743735  False  1.737674          0.230812  4.332534\n",
       "\n",
       "[1000 rows x 5 columns]"
      ]
     },
     "execution_count": 6,
     "metadata": {},
     "output_type": "execute_result"
    }
   ],
   "source": [
    "cdf_0"
   ]
  },
  {
   "cell_type": "code",
   "execution_count": 7,
   "metadata": {
    "execution": {
     "iopub.execute_input": "2024-05-22T18:55:00.671307Z",
     "iopub.status.busy": "2024-05-22T18:55:00.671115Z",
     "iopub.status.idle": "2024-05-22T18:55:00.680426Z",
     "shell.execute_reply": "2024-05-22T18:55:00.679874Z"
    }
   },
   "outputs": [
    {
     "data": {
      "text/html": [
       "<div>\n",
       "<style scoped>\n",
       "    .dataframe tbody tr th:only-of-type {\n",
       "        vertical-align: middle;\n",
       "    }\n",
       "\n",
       "    .dataframe tbody tr th {\n",
       "        vertical-align: top;\n",
       "    }\n",
       "\n",
       "    .dataframe thead th {\n",
       "        text-align: right;\n",
       "    }\n",
       "</style>\n",
       "<table border=\"1\" class=\"dataframe\">\n",
       "  <thead>\n",
       "    <tr style=\"text-align: right;\">\n",
       "      <th></th>\n",
       "      <th>W0</th>\n",
       "      <th>v0</th>\n",
       "      <th>y</th>\n",
       "      <th>propensity_score</th>\n",
       "      <th>weight</th>\n",
       "    </tr>\n",
       "  </thead>\n",
       "  <tbody>\n",
       "    <tr>\n",
       "      <th>0</th>\n",
       "      <td>1.836126</td>\n",
       "      <td>True</td>\n",
       "      <td>7.173894</td>\n",
       "      <td>0.779741</td>\n",
       "      <td>1.282477</td>\n",
       "    </tr>\n",
       "    <tr>\n",
       "      <th>1</th>\n",
       "      <td>1.854739</td>\n",
       "      <td>True</td>\n",
       "      <td>7.279853</td>\n",
       "      <td>0.781825</td>\n",
       "      <td>1.279059</td>\n",
       "    </tr>\n",
       "    <tr>\n",
       "      <th>2</th>\n",
       "      <td>2.466491</td>\n",
       "      <td>True</td>\n",
       "      <td>8.438103</td>\n",
       "      <td>0.842433</td>\n",
       "      <td>1.187038</td>\n",
       "    </tr>\n",
       "    <tr>\n",
       "      <th>3</th>\n",
       "      <td>-0.153800</td>\n",
       "      <td>True</td>\n",
       "      <td>5.445220</td>\n",
       "      <td>0.490670</td>\n",
       "      <td>2.038031</td>\n",
       "    </tr>\n",
       "    <tr>\n",
       "      <th>4</th>\n",
       "      <td>1.579504</td>\n",
       "      <td>True</td>\n",
       "      <td>6.544560</td>\n",
       "      <td>0.749570</td>\n",
       "      <td>1.334098</td>\n",
       "    </tr>\n",
       "    <tr>\n",
       "      <th>...</th>\n",
       "      <td>...</td>\n",
       "      <td>...</td>\n",
       "      <td>...</td>\n",
       "      <td>...</td>\n",
       "      <td>...</td>\n",
       "    </tr>\n",
       "    <tr>\n",
       "      <th>995</th>\n",
       "      <td>1.209058</td>\n",
       "      <td>True</td>\n",
       "      <td>6.242535</td>\n",
       "      <td>0.701413</td>\n",
       "      <td>1.425694</td>\n",
       "    </tr>\n",
       "    <tr>\n",
       "      <th>996</th>\n",
       "      <td>0.922132</td>\n",
       "      <td>True</td>\n",
       "      <td>7.264413</td>\n",
       "      <td>0.660691</td>\n",
       "      <td>1.513567</td>\n",
       "    </tr>\n",
       "    <tr>\n",
       "      <th>997</th>\n",
       "      <td>0.179607</td>\n",
       "      <td>True</td>\n",
       "      <td>3.760599</td>\n",
       "      <td>0.545061</td>\n",
       "      <td>1.834656</td>\n",
       "    </tr>\n",
       "    <tr>\n",
       "      <th>998</th>\n",
       "      <td>1.934576</td>\n",
       "      <td>True</td>\n",
       "      <td>6.447690</td>\n",
       "      <td>0.790601</td>\n",
       "      <td>1.264861</td>\n",
       "    </tr>\n",
       "    <tr>\n",
       "      <th>999</th>\n",
       "      <td>0.800315</td>\n",
       "      <td>True</td>\n",
       "      <td>6.140202</td>\n",
       "      <td>0.642608</td>\n",
       "      <td>1.556159</td>\n",
       "    </tr>\n",
       "  </tbody>\n",
       "</table>\n",
       "<p>1000 rows × 5 columns</p>\n",
       "</div>"
      ],
      "text/plain": [
       "           W0    v0         y  propensity_score    weight\n",
       "0    1.836126  True  7.173894          0.779741  1.282477\n",
       "1    1.854739  True  7.279853          0.781825  1.279059\n",
       "2    2.466491  True  8.438103          0.842433  1.187038\n",
       "3   -0.153800  True  5.445220          0.490670  2.038031\n",
       "4    1.579504  True  6.544560          0.749570  1.334098\n",
       "..        ...   ...       ...               ...       ...\n",
       "995  1.209058  True  6.242535          0.701413  1.425694\n",
       "996  0.922132  True  7.264413          0.660691  1.513567\n",
       "997  0.179607  True  3.760599          0.545061  1.834656\n",
       "998  1.934576  True  6.447690          0.790601  1.264861\n",
       "999  0.800315  True  6.140202          0.642608  1.556159\n",
       "\n",
       "[1000 rows x 5 columns]"
      ]
     },
     "execution_count": 7,
     "metadata": {},
     "output_type": "execute_result"
    }
   ],
   "source": [
    "cdf_1"
   ]
  },
  {
   "cell_type": "markdown",
   "metadata": {},
   "source": [
    "## Comparing the estimate to Linear Regression\n",
    "First, estimating the effect using the causal data frame, and the 95% confidence interval."
   ]
  },
  {
   "cell_type": "code",
   "execution_count": 8,
   "metadata": {
    "execution": {
     "iopub.execute_input": "2024-05-22T18:55:00.682904Z",
     "iopub.status.busy": "2024-05-22T18:55:00.682483Z",
     "iopub.status.idle": "2024-05-22T18:55:00.730321Z",
     "shell.execute_reply": "2024-05-22T18:55:00.729618Z"
    }
   },
   "outputs": [
    {
     "data": {
      "image/png": "[encoded data removed]",
      "text/latex": [
       "$\\displaystyle 4.8528495638905$"
      ],
      "text/plain": [
       "4.852849563890499"
      ]
     },
     "execution_count": 8,
     "metadata": {},
     "output_type": "execute_result"
    }
   ],
   "source": [
    "(cdf_1['y'] - cdf_0['y']).mean()"
   ]
  },
  {
   "cell_type": "code",
   "execution_count": 9,
   "metadata": {
    "execution": {
     "iopub.execute_input": "2024-05-22T18:55:00.732922Z",
     "iopub.status.busy": "2024-05-22T18:55:00.732517Z",
     "iopub.status.idle": "2024-05-22T18:55:00.750519Z",
     "shell.execute_reply": "2024-05-22T18:55:00.749884Z"
    }
   },
   "outputs": [
    {
     "data": {
      "image/png": "[encoded data removed]",
      "text/latex": [
       "$\\displaystyle 0.136264612082094$"
      ],
      "text/plain": [
       "0.13626461208209364"
      ]
     },
     "execution_count": 9,
     "metadata": {},
     "output_type": "execute_result"
    }
   ],
   "source": [
    "1.96*(cdf_1['y'] - cdf_0['y']).std() / np.sqrt(len(df))"
   ]
  },
  {
   "cell_type": "markdown",
   "metadata": {},
   "source": [
    "Comparing to the estimate from OLS."
   ]
  },
  {
   "cell_type": "code",
   "execution_count": 10,
   "metadata": {
    "execution": {
     "iopub.execute_input": "2024-05-22T18:55:00.753071Z",
     "iopub.status.busy": "2024-05-22T18:55:00.752845Z",
     "iopub.status.idle": "2024-05-22T18:55:00.770624Z",
     "shell.execute_reply": "2024-05-22T18:55:00.769911Z"
    }
   },
   "outputs": [
    {
     "data": {
      "text/html": [
       "<table class=\"simpletable\">\n",
       "<caption>OLS Regression Results</caption>\n",
       "<tr>\n",
       "  <th>Dep. Variable:</th>            <td>y</td>        <th>  R-squared (uncentered):</th>      <td>   0.966</td> \n",
       "</tr>\n",
       "<tr>\n",
       "  <th>Model:</th>                   <td>OLS</td>       <th>  Adj. R-squared (uncentered):</th> <td>   0.966</td> \n",
       "</tr>\n",
       "<tr>\n",
       "  <th>Method:</th>             <td>Least Squares</td>  <th>  F-statistic:       </th>          <td>1.406e+04</td>\n",
       "</tr>\n",
       "<tr>\n",
       "  <th>Date:</th>             <td>Wed, 22 May 2024</td> <th>  Prob (F-statistic):</th>           <td>  0.00</td>  \n",
       "</tr>\n",
       "<tr>\n",
       "  <th>Time:</th>                 <td>18:55:00</td>     <th>  Log-Likelihood:    </th>          <td> -1392.6</td> \n",
       "</tr>\n",
       "<tr>\n",
       "  <th>No. Observations:</th>      <td>  1000</td>      <th>  AIC:               </th>          <td>   2789.</td> \n",
       "</tr>\n",
       "<tr>\n",
       "  <th>Df Residuals:</th>          <td>   998</td>      <th>  BIC:               </th>          <td>   2799.</td> \n",
       "</tr>\n",
       "<tr>\n",
       "  <th>Df Model:</th>              <td>     2</td>      <th>                     </th>              <td> </td>    \n",
       "</tr>\n",
       "<tr>\n",
       "  <th>Covariance Type:</th>      <td>nonrobust</td>    <th>                     </th>              <td> </td>    \n",
       "</tr>\n",
       "</table>\n",
       "<table class=\"simpletable\">\n",
       "<tr>\n",
       "   <td></td>     <th>coef</th>     <th>std err</th>      <th>t</th>      <th>P>|t|</th>  <th>[0.025</th>    <th>0.975]</th>  \n",
       "</tr>\n",
       "<tr>\n",
       "  <th>x1</th> <td>    1.2220</td> <td>    0.030</td> <td>   40.708</td> <td> 0.000</td> <td>    1.163</td> <td>    1.281</td>\n",
       "</tr>\n",
       "<tr>\n",
       "  <th>x2</th> <td>    4.9084</td> <td>    0.051</td> <td>   96.356</td> <td> 0.000</td> <td>    4.808</td> <td>    5.008</td>\n",
       "</tr>\n",
       "</table>\n",
       "<table class=\"simpletable\">\n",
       "<tr>\n",
       "  <th>Omnibus:</th>       <td> 0.274</td> <th>  Durbin-Watson:     </th> <td>   1.961</td>\n",
       "</tr>\n",
       "<tr>\n",
       "  <th>Prob(Omnibus):</th> <td> 0.872</td> <th>  Jarque-Bera (JB):  </th> <td>   0.262</td>\n",
       "</tr>\n",
       "<tr>\n",
       "  <th>Skew:</th>          <td> 0.040</td> <th>  Prob(JB):          </th> <td>   0.877</td>\n",
       "</tr>\n",
       "<tr>\n",
       "  <th>Kurtosis:</th>      <td> 2.997</td> <th>  Cond. No.          </th> <td>    2.65</td>\n",
       "</tr>\n",
       "</table><br/><br/>Notes:<br/>[1] R² is computed without centering (uncentered) since the model does not contain a constant.<br/>[2] Standard Errors assume that the covariance matrix of the errors is correctly specified."
      ],
      "text/latex": [
       "\\begin{center}\n",
       "\\begin{tabular}{lclc}\n",
       "\\toprule\n",
       "\\textbf{Dep. Variable:}    &        y         & \\textbf{  R-squared (uncentered):}      &     0.966   \\\\\n",
       "\\textbf{Model:}            &       OLS        & \\textbf{  Adj. R-squared (uncentered):} &     0.966   \\\\\n",
       "\\textbf{Method:}           &  Least Squares   & \\textbf{  F-statistic:       }          & 1.406e+04   \\\\\n",
       "\\textbf{Date:}             & Wed, 22 May 2024 & \\textbf{  Prob (F-statistic):}          &     0.00    \\\\\n",
       "\\textbf{Time:}             &     18:55:00     & \\textbf{  Log-Likelihood:    }          &   -1392.6   \\\\\n",
       "\\textbf{No. Observations:} &        1000      & \\textbf{  AIC:               }          &     2789.   \\\\\n",
       "\\textbf{Df Residuals:}     &         998      & \\textbf{  BIC:               }          &     2799.   \\\\\n",
       "\\textbf{Df Model:}         &           2      & \\textbf{                     }          &             \\\\\n",
       "\\textbf{Covariance Type:}  &    nonrobust     & \\textbf{                     }          &             \\\\\n",
       "\\bottomrule\n",
       "\\end{tabular}\n",
       "\\begin{tabular}{lcccccc}\n",
       "            & \\textbf{coef} & \\textbf{std err} & \\textbf{t} & \\textbf{P$> |$t$|$} & \\textbf{[0.025} & \\textbf{0.975]}  \\\\\n",
       "\\midrule\n",
       "\\textbf{x1} &       1.2220  &        0.030     &    40.708  &         0.000        &        1.163    &        1.281     \\\\\n",
       "\\textbf{x2} &       4.9084  &        0.051     &    96.356  &         0.000        &        4.808    &        5.008     \\\\\n",
       "\\bottomrule\n",
       "\\end{tabular}\n",
       "\\begin{tabular}{lclc}\n",
       "\\textbf{Omnibus:}       &  0.274 & \\textbf{  Durbin-Watson:     } &    1.961  \\\\\n",
       "\\textbf{Prob(Omnibus):} &  0.872 & \\textbf{  Jarque-Bera (JB):  } &    0.262  \\\\\n",
       "\\textbf{Skew:}          &  0.040 & \\textbf{  Prob(JB):          } &    0.877  \\\\\n",
       "\\textbf{Kurtosis:}      &  2.997 & \\textbf{  Cond. No.          } &     2.65  \\\\\n",
       "\\bottomrule\n",
       "\\end{tabular}\n",
       "%\\caption{OLS Regression Results}\n",
       "\\end{center}\n",
       "\n",
       "Notes: \\newline\n",
       " [1] R² is computed without centering (uncentered) since the model does not contain a constant. \\newline\n",
       " [2] Standard Errors assume that the covariance matrix of the errors is correctly specified."
      ],
      "text/plain": [
       "<class 'statsmodels.iolib.summary.Summary'>\n",
       "\"\"\"\n",
       "                                 OLS Regression Results                                \n",
       "=======================================================================================\n",
       "Dep. Variable:                      y   R-squared (uncentered):                   0.966\n",
       "Model:                            OLS   Adj. R-squared (uncentered):              0.966\n",
       "Method:                 Least Squares   F-statistic:                          1.406e+04\n",
       "Date:                Wed, 22 May 2024   Prob (F-statistic):                        0.00\n",
       "Time:                        18:55:00   Log-Likelihood:                         -1392.6\n",
       "No. Observations:                1000   AIC:                                      2789.\n",
       "Df Residuals:                     998   BIC:                                      2799.\n",
       "Df Model:                           2                                                  \n",
       "Covariance Type:            nonrobust                                                  \n",
       "==============================================================================\n",
       "                 coef    std err          t      P>|t|      [0.025      0.975]\n",
       "------------------------------------------------------------------------------\n",
       "x1             1.2220      0.030     40.708      0.000       1.163       1.281\n",
       "x2             4.9084      0.051     96.356      0.000       4.808       5.008\n",
       "==============================================================================\n",
       "Omnibus:                        0.274   Durbin-Watson:                   1.961\n",
       "Prob(Omnibus):                  0.872   Jarque-Bera (JB):                0.262\n",
       "Skew:                           0.040   Prob(JB):                        0.877\n",
       "Kurtosis:                       2.997   Cond. No.                         2.65\n",
       "==============================================================================\n",
       "\n",
       "Notes:\n",
       "[1] R² is computed without centering (uncentered) since the model does not contain a constant.\n",
       "[2] Standard Errors assume that the covariance matrix of the errors is correctly specified.\n",
       "\"\"\""
      ]
     },
     "execution_count": 10,
     "metadata": {},
     "output_type": "execute_result"
    }
   ],
   "source": [
    "model = OLS(np.asarray(df[outcome]), np.asarray(df[[common_cause, treatment]], dtype=np.float64))\n",
    "result = model.fit()\n",
    "result.summary()"
   ]
  }
 ],
 "metadata": {
  "kernelspec": {
   "display_name": "Python 3 (ipykernel)",
   "language": "python",
   "name": "python3"
  },
  "language_info": {
   "codemirror_mode": {
    "name": "ipython",
    "version": 3
   },
   "file_extension": ".py",
   "mimetype": "text/x-python",
   "name": "python",
   "nbconvert_exporter": "python",
   "pygments_lexer": "ipython3",
   "version": "3.8.10"
  },
  "toc": {
   "base_numbering": 1,
   "nav_menu": {},
   "number_sections": false,
   "sideBar": true,
   "skip_h1_title": true,
   "title_cell": "Table of Contents",
   "title_sidebar": "Contents",
   "toc_cell": false,
   "toc_position": {},
   "toc_section_display": true,
   "toc_window_display": false
  }
 },
 "nbformat": 4,
 "nbformat_minor": 4
}
