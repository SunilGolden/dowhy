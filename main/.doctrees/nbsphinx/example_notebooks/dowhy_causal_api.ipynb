{
 "cells": [
  {
   "cell_type": "markdown",
   "metadata": {},
   "source": [
    "# Demo for the DoWhy causal API\n",
    "We show a simple example of adding a causal extension to any dataframe. "
   ]
  },
  {
   "cell_type": "code",
   "execution_count": 1,
   "metadata": {
    "execution": {
     "iopub.execute_input": "2023-11-15T16:17:34.867057Z",
     "iopub.status.busy": "2023-11-15T16:17:34.866883Z",
     "iopub.status.idle": "2023-11-15T16:17:36.282742Z",
     "shell.execute_reply": "2023-11-15T16:17:36.282104Z"
    }
   },
   "outputs": [],
   "source": [
    "import dowhy.datasets\n",
    "import dowhy.api\n",
    "\n",
    "import numpy as np\n",
    "import pandas as pd\n",
    "\n",
    "from statsmodels.api import OLS"
   ]
  },
  {
   "cell_type": "code",
   "execution_count": 2,
   "metadata": {
    "execution": {
     "iopub.execute_input": "2023-11-15T16:17:36.285811Z",
     "iopub.status.busy": "2023-11-15T16:17:36.285144Z",
     "iopub.status.idle": "2023-11-15T16:17:36.331098Z",
     "shell.execute_reply": "2023-11-15T16:17:36.330466Z"
    }
   },
   "outputs": [
    {
     "data": {
      "text/html": [
       "<div>\n",
       "<style scoped>\n",
       "    .dataframe tbody tr th:only-of-type {\n",
       "        vertical-align: middle;\n",
       "    }\n",
       "\n",
       "    .dataframe tbody tr th {\n",
       "        vertical-align: top;\n",
       "    }\n",
       "\n",
       "    .dataframe thead th {\n",
       "        text-align: right;\n",
       "    }\n",
       "</style>\n",
       "<table border=\"1\" class=\"dataframe\">\n",
       "  <thead>\n",
       "    <tr style=\"text-align: right;\">\n",
       "      <th></th>\n",
       "      <th>W0</th>\n",
       "      <th>v0</th>\n",
       "      <th>y</th>\n",
       "    </tr>\n",
       "  </thead>\n",
       "  <tbody>\n",
       "    <tr>\n",
       "      <th>0</th>\n",
       "      <td>-0.605400</td>\n",
       "      <td>False</td>\n",
       "      <td>-2.430845</td>\n",
       "    </tr>\n",
       "    <tr>\n",
       "      <th>1</th>\n",
       "      <td>-1.368961</td>\n",
       "      <td>False</td>\n",
       "      <td>-3.193706</td>\n",
       "    </tr>\n",
       "    <tr>\n",
       "      <th>2</th>\n",
       "      <td>-2.114426</td>\n",
       "      <td>False</td>\n",
       "      <td>-3.610335</td>\n",
       "    </tr>\n",
       "    <tr>\n",
       "      <th>3</th>\n",
       "      <td>-2.350118</td>\n",
       "      <td>False</td>\n",
       "      <td>-3.255377</td>\n",
       "    </tr>\n",
       "    <tr>\n",
       "      <th>4</th>\n",
       "      <td>-0.568342</td>\n",
       "      <td>True</td>\n",
       "      <td>3.446698</td>\n",
       "    </tr>\n",
       "    <tr>\n",
       "      <th>...</th>\n",
       "      <td>...</td>\n",
       "      <td>...</td>\n",
       "      <td>...</td>\n",
       "    </tr>\n",
       "    <tr>\n",
       "      <th>995</th>\n",
       "      <td>-1.903767</td>\n",
       "      <td>False</td>\n",
       "      <td>-2.318071</td>\n",
       "    </tr>\n",
       "    <tr>\n",
       "      <th>996</th>\n",
       "      <td>-0.250272</td>\n",
       "      <td>True</td>\n",
       "      <td>3.566106</td>\n",
       "    </tr>\n",
       "    <tr>\n",
       "      <th>997</th>\n",
       "      <td>-0.700577</td>\n",
       "      <td>False</td>\n",
       "      <td>-0.732529</td>\n",
       "    </tr>\n",
       "    <tr>\n",
       "      <th>998</th>\n",
       "      <td>-0.930455</td>\n",
       "      <td>False</td>\n",
       "      <td>-2.702110</td>\n",
       "    </tr>\n",
       "    <tr>\n",
       "      <th>999</th>\n",
       "      <td>-3.025423</td>\n",
       "      <td>False</td>\n",
       "      <td>-5.330699</td>\n",
       "    </tr>\n",
       "  </tbody>\n",
       "</table>\n",
       "<p>1000 rows × 3 columns</p>\n",
       "</div>"
      ],
      "text/plain": [
       "           W0     v0         y\n",
       "0   -0.605400  False -2.430845\n",
       "1   -1.368961  False -3.193706\n",
       "2   -2.114426  False -3.610335\n",
       "3   -2.350118  False -3.255377\n",
       "4   -0.568342   True  3.446698\n",
       "..        ...    ...       ...\n",
       "995 -1.903767  False -2.318071\n",
       "996 -0.250272   True  3.566106\n",
       "997 -0.700577  False -0.732529\n",
       "998 -0.930455  False -2.702110\n",
       "999 -3.025423  False -5.330699\n",
       "\n",
       "[1000 rows x 3 columns]"
      ]
     },
     "execution_count": 2,
     "metadata": {},
     "output_type": "execute_result"
    }
   ],
   "source": [
    "data = dowhy.datasets.linear_dataset(beta=5,\n",
    "        num_common_causes=1,\n",
    "        num_instruments = 0,\n",
    "        num_samples=1000,\n",
    "        treatment_is_binary=True)\n",
    "df = data['df']\n",
    "df['y'] = df['y'] + np.random.normal(size=len(df)) # Adding noise to data. Without noise, the variance in Y|X, Z is zero, and mcmc fails.\n",
    "#data['dot_graph'] = 'digraph { v ->y;X0-> v;X0-> y;}'\n",
    "\n",
    "treatment= data[\"treatment_name\"][0]\n",
    "outcome = data[\"outcome_name\"][0]\n",
    "common_cause = data[\"common_causes_names\"][0]\n",
    "df"
   ]
  },
  {
   "cell_type": "code",
   "execution_count": 3,
   "metadata": {
    "execution": {
     "iopub.execute_input": "2023-11-15T16:17:36.333652Z",
     "iopub.status.busy": "2023-11-15T16:17:36.333242Z",
     "iopub.status.idle": "2023-11-15T16:17:36.521441Z",
     "shell.execute_reply": "2023-11-15T16:17:36.520795Z"
    }
   },
   "outputs": [
    {
     "data": {
      "text/plain": [
       "<Axes: xlabel='v0'>"
      ]
     },
     "execution_count": 3,
     "metadata": {},
     "output_type": "execute_result"
    },
    {
     "data": {
      "image/png": "[encoded data removed]",
      "text/plain": [
       "<Figure size 640x480 with 1 Axes>"
      ]
     },
     "metadata": {},
     "output_type": "display_data"
    }
   ],
   "source": [
    "# data['df'] is just a regular pandas.DataFrame\n",
    "df.causal.do(x=treatment,\n",
    "                     variable_types={treatment: 'b', outcome: 'c', common_cause: 'c'},\n",
    "                     outcome=outcome,\n",
    "                     common_causes=[common_cause],\n",
    "                     proceed_when_unidentifiable=True).groupby(treatment).mean().plot(y=outcome, kind='bar')"
   ]
  },
  {
   "cell_type": "code",
   "execution_count": 4,
   "metadata": {
    "execution": {
     "iopub.execute_input": "2023-11-15T16:17:36.524071Z",
     "iopub.status.busy": "2023-11-15T16:17:36.523662Z",
     "iopub.status.idle": "2023-11-15T16:17:36.667506Z",
     "shell.execute_reply": "2023-11-15T16:17:36.666862Z"
    }
   },
   "outputs": [
    {
     "data": {
      "text/plain": [
       "<Axes: xlabel='v0'>"
      ]
     },
     "execution_count": 4,
     "metadata": {},
     "output_type": "execute_result"
    },
    {
     "data": {
      "image/png": "[encoded data removed]",
      "text/plain": [
       "<Figure size 640x480 with 1 Axes>"
      ]
     },
     "metadata": {},
     "output_type": "display_data"
    }
   ],
   "source": [
    "df.causal.do(x={treatment: 1}, \n",
    "              variable_types={treatment:'b', outcome: 'c', common_cause: 'c'}, \n",
    "              outcome=outcome,\n",
    "              method='weighting', \n",
    "              common_causes=[common_cause],\n",
    "              proceed_when_unidentifiable=True).groupby(treatment).mean().plot(y=outcome, kind='bar')"
   ]
  },
  {
   "cell_type": "code",
   "execution_count": 5,
   "metadata": {
    "execution": {
     "iopub.execute_input": "2023-11-15T16:17:36.670221Z",
     "iopub.status.busy": "2023-11-15T16:17:36.669853Z",
     "iopub.status.idle": "2023-11-15T16:17:36.697617Z",
     "shell.execute_reply": "2023-11-15T16:17:36.697074Z"
    }
   },
   "outputs": [],
   "source": [
    "cdf_1 = df.causal.do(x={treatment: 1}, \n",
    "              variable_types={treatment: 'b', outcome: 'c', common_cause: 'c'}, \n",
    "              outcome=outcome, \n",
    "              dot_graph=data['dot_graph'],\n",
    "              proceed_when_unidentifiable=True)\n",
    "\n",
    "cdf_0 = df.causal.do(x={treatment: 0}, \n",
    "              variable_types={treatment: 'b', outcome: 'c', common_cause: 'c'}, \n",
    "              outcome=outcome, \n",
    "              dot_graph=data['dot_graph'],\n",
    "              proceed_when_unidentifiable=True)\n"
   ]
  },
  {
   "cell_type": "code",
   "execution_count": 6,
   "metadata": {
    "execution": {
     "iopub.execute_input": "2023-11-15T16:17:36.700545Z",
     "iopub.status.busy": "2023-11-15T16:17:36.700148Z",
     "iopub.status.idle": "2023-11-15T16:17:36.709445Z",
     "shell.execute_reply": "2023-11-15T16:17:36.708847Z"
    },
    "scrolled": true
   },
   "outputs": [
    {
     "data": {
      "text/html": [
       "<div>\n",
       "<style scoped>\n",
       "    .dataframe tbody tr th:only-of-type {\n",
       "        vertical-align: middle;\n",
       "    }\n",
       "\n",
       "    .dataframe tbody tr th {\n",
       "        vertical-align: top;\n",
       "    }\n",
       "\n",
       "    .dataframe thead th {\n",
       "        text-align: right;\n",
       "    }\n",
       "</style>\n",
       "<table border=\"1\" class=\"dataframe\">\n",
       "  <thead>\n",
       "    <tr style=\"text-align: right;\">\n",
       "      <th></th>\n",
       "      <th>W0</th>\n",
       "      <th>v0</th>\n",
       "      <th>y</th>\n",
       "      <th>propensity_score</th>\n",
       "      <th>weight</th>\n",
       "    </tr>\n",
       "  </thead>\n",
       "  <tbody>\n",
       "    <tr>\n",
       "      <th>0</th>\n",
       "      <td>-1.184308</td>\n",
       "      <td>False</td>\n",
       "      <td>-2.103618</td>\n",
       "      <td>0.814457</td>\n",
       "      <td>1.227812</td>\n",
       "    </tr>\n",
       "    <tr>\n",
       "      <th>1</th>\n",
       "      <td>-1.630266</td>\n",
       "      <td>False</td>\n",
       "      <td>-0.220573</td>\n",
       "      <td>0.882268</td>\n",
       "      <td>1.133442</td>\n",
       "    </tr>\n",
       "    <tr>\n",
       "      <th>2</th>\n",
       "      <td>-1.217366</td>\n",
       "      <td>False</td>\n",
       "      <td>-1.807973</td>\n",
       "      <td>0.820374</td>\n",
       "      <td>1.218956</td>\n",
       "    </tr>\n",
       "    <tr>\n",
       "      <th>3</th>\n",
       "      <td>-0.783857</td>\n",
       "      <td>False</td>\n",
       "      <td>-0.720287</td>\n",
       "      <td>0.730854</td>\n",
       "      <td>1.368263</td>\n",
       "    </tr>\n",
       "    <tr>\n",
       "      <th>4</th>\n",
       "      <td>0.042496</td>\n",
       "      <td>False</td>\n",
       "      <td>2.082588</td>\n",
       "      <td>0.501970</td>\n",
       "      <td>1.992151</td>\n",
       "    </tr>\n",
       "    <tr>\n",
       "      <th>...</th>\n",
       "      <td>...</td>\n",
       "      <td>...</td>\n",
       "      <td>...</td>\n",
       "      <td>...</td>\n",
       "      <td>...</td>\n",
       "    </tr>\n",
       "    <tr>\n",
       "      <th>995</th>\n",
       "      <td>-0.477462</td>\n",
       "      <td>False</td>\n",
       "      <td>-0.612594</td>\n",
       "      <td>0.652826</td>\n",
       "      <td>1.531801</td>\n",
       "    </tr>\n",
       "    <tr>\n",
       "      <th>996</th>\n",
       "      <td>-0.295923</td>\n",
       "      <td>False</td>\n",
       "      <td>0.264973</td>\n",
       "      <td>0.601989</td>\n",
       "      <td>1.661160</td>\n",
       "    </tr>\n",
       "    <tr>\n",
       "      <th>997</th>\n",
       "      <td>-0.072101</td>\n",
       "      <td>False</td>\n",
       "      <td>-0.384313</td>\n",
       "      <td>0.536267</td>\n",
       "      <td>1.864744</td>\n",
       "    </tr>\n",
       "    <tr>\n",
       "      <th>998</th>\n",
       "      <td>0.086631</td>\n",
       "      <td>False</td>\n",
       "      <td>0.049033</td>\n",
       "      <td>0.488739</td>\n",
       "      <td>2.046083</td>\n",
       "    </tr>\n",
       "    <tr>\n",
       "      <th>999</th>\n",
       "      <td>1.866158</td>\n",
       "      <td>False</td>\n",
       "      <td>3.059997</td>\n",
       "      <td>0.101624</td>\n",
       "      <td>9.840193</td>\n",
       "    </tr>\n",
       "  </tbody>\n",
       "</table>\n",
       "<p>1000 rows × 5 columns</p>\n",
       "</div>"
      ],
      "text/plain": [
       "           W0     v0         y  propensity_score    weight\n",
       "0   -1.184308  False -2.103618          0.814457  1.227812\n",
       "1   -1.630266  False -0.220573          0.882268  1.133442\n",
       "2   -1.217366  False -1.807973          0.820374  1.218956\n",
       "3   -0.783857  False -0.720287          0.730854  1.368263\n",
       "4    0.042496  False  2.082588          0.501970  1.992151\n",
       "..        ...    ...       ...               ...       ...\n",
       "995 -0.477462  False -0.612594          0.652826  1.531801\n",
       "996 -0.295923  False  0.264973          0.601989  1.661160\n",
       "997 -0.072101  False -0.384313          0.536267  1.864744\n",
       "998  0.086631  False  0.049033          0.488739  2.046083\n",
       "999  1.866158  False  3.059997          0.101624  9.840193\n",
       "\n",
       "[1000 rows x 5 columns]"
      ]
     },
     "execution_count": 6,
     "metadata": {},
     "output_type": "execute_result"
    }
   ],
   "source": [
    "cdf_0"
   ]
  },
  {
   "cell_type": "code",
   "execution_count": 7,
   "metadata": {
    "execution": {
     "iopub.execute_input": "2023-11-15T16:17:36.711932Z",
     "iopub.status.busy": "2023-11-15T16:17:36.711555Z",
     "iopub.status.idle": "2023-11-15T16:17:36.720592Z",
     "shell.execute_reply": "2023-11-15T16:17:36.720065Z"
    }
   },
   "outputs": [
    {
     "data": {
      "text/html": [
       "<div>\n",
       "<style scoped>\n",
       "    .dataframe tbody tr th:only-of-type {\n",
       "        vertical-align: middle;\n",
       "    }\n",
       "\n",
       "    .dataframe tbody tr th {\n",
       "        vertical-align: top;\n",
       "    }\n",
       "\n",
       "    .dataframe thead th {\n",
       "        text-align: right;\n",
       "    }\n",
       "</style>\n",
       "<table border=\"1\" class=\"dataframe\">\n",
       "  <thead>\n",
       "    <tr style=\"text-align: right;\">\n",
       "      <th></th>\n",
       "      <th>W0</th>\n",
       "      <th>v0</th>\n",
       "      <th>y</th>\n",
       "      <th>propensity_score</th>\n",
       "      <th>weight</th>\n",
       "    </tr>\n",
       "  </thead>\n",
       "  <tbody>\n",
       "    <tr>\n",
       "      <th>0</th>\n",
       "      <td>-0.658133</td>\n",
       "      <td>True</td>\n",
       "      <td>2.417753</td>\n",
       "      <td>0.299816</td>\n",
       "      <td>3.335375</td>\n",
       "    </tr>\n",
       "    <tr>\n",
       "      <th>1</th>\n",
       "      <td>-1.213479</td>\n",
       "      <td>True</td>\n",
       "      <td>3.112584</td>\n",
       "      <td>0.180314</td>\n",
       "      <td>5.545876</td>\n",
       "    </tr>\n",
       "    <tr>\n",
       "      <th>2</th>\n",
       "      <td>-1.213479</td>\n",
       "      <td>True</td>\n",
       "      <td>3.112584</td>\n",
       "      <td>0.180314</td>\n",
       "      <td>5.545876</td>\n",
       "    </tr>\n",
       "    <tr>\n",
       "      <th>3</th>\n",
       "      <td>-1.644416</td>\n",
       "      <td>True</td>\n",
       "      <td>2.730602</td>\n",
       "      <td>0.115980</td>\n",
       "      <td>8.622163</td>\n",
       "    </tr>\n",
       "    <tr>\n",
       "      <th>4</th>\n",
       "      <td>-0.799718</td>\n",
       "      <td>True</td>\n",
       "      <td>5.219624</td>\n",
       "      <td>0.265421</td>\n",
       "      <td>3.767602</td>\n",
       "    </tr>\n",
       "    <tr>\n",
       "      <th>...</th>\n",
       "      <td>...</td>\n",
       "      <td>...</td>\n",
       "      <td>...</td>\n",
       "      <td>...</td>\n",
       "      <td>...</td>\n",
       "    </tr>\n",
       "    <tr>\n",
       "      <th>995</th>\n",
       "      <td>-1.883239</td>\n",
       "      <td>True</td>\n",
       "      <td>3.044389</td>\n",
       "      <td>0.089685</td>\n",
       "      <td>11.150165</td>\n",
       "    </tr>\n",
       "    <tr>\n",
       "      <th>996</th>\n",
       "      <td>-1.522229</td>\n",
       "      <td>True</td>\n",
       "      <td>4.677731</td>\n",
       "      <td>0.131871</td>\n",
       "      <td>7.583167</td>\n",
       "    </tr>\n",
       "    <tr>\n",
       "      <th>997</th>\n",
       "      <td>-0.187132</td>\n",
       "      <td>True</td>\n",
       "      <td>3.947760</td>\n",
       "      <td>0.429649</td>\n",
       "      <td>2.327480</td>\n",
       "    </tr>\n",
       "    <tr>\n",
       "      <th>998</th>\n",
       "      <td>-0.233584</td>\n",
       "      <td>True</td>\n",
       "      <td>4.339317</td>\n",
       "      <td>0.416054</td>\n",
       "      <td>2.403535</td>\n",
       "    </tr>\n",
       "    <tr>\n",
       "      <th>999</th>\n",
       "      <td>-0.943935</td>\n",
       "      <td>True</td>\n",
       "      <td>2.299930</td>\n",
       "      <td>0.233090</td>\n",
       "      <td>4.290193</td>\n",
       "    </tr>\n",
       "  </tbody>\n",
       "</table>\n",
       "<p>1000 rows × 5 columns</p>\n",
       "</div>"
      ],
      "text/plain": [
       "           W0    v0         y  propensity_score     weight\n",
       "0   -0.658133  True  2.417753          0.299816   3.335375\n",
       "1   -1.213479  True  3.112584          0.180314   5.545876\n",
       "2   -1.213479  True  3.112584          0.180314   5.545876\n",
       "3   -1.644416  True  2.730602          0.115980   8.622163\n",
       "4   -0.799718  True  5.219624          0.265421   3.767602\n",
       "..        ...   ...       ...               ...        ...\n",
       "995 -1.883239  True  3.044389          0.089685  11.150165\n",
       "996 -1.522229  True  4.677731          0.131871   7.583167\n",
       "997 -0.187132  True  3.947760          0.429649   2.327480\n",
       "998 -0.233584  True  4.339317          0.416054   2.403535\n",
       "999 -0.943935  True  2.299930          0.233090   4.290193\n",
       "\n",
       "[1000 rows x 5 columns]"
      ]
     },
     "execution_count": 7,
     "metadata": {},
     "output_type": "execute_result"
    }
   ],
   "source": [
    "cdf_1"
   ]
  },
  {
   "cell_type": "markdown",
   "metadata": {},
   "source": [
    "## Comparing the estimate to Linear Regression\n",
    "First, estimating the effect using the causal data frame, and the 95% confidence interval."
   ]
  },
  {
   "cell_type": "code",
   "execution_count": 8,
   "metadata": {
    "execution": {
     "iopub.execute_input": "2023-11-15T16:17:36.722830Z",
     "iopub.status.busy": "2023-11-15T16:17:36.722621Z",
     "iopub.status.idle": "2023-11-15T16:17:36.771249Z",
     "shell.execute_reply": "2023-11-15T16:17:36.770524Z"
    }
   },
   "outputs": [
    {
     "data": {
      "image/png": "[encoded data removed]",
      "text/latex": [
       "$\\displaystyle 5.01978523695632$"
      ],
      "text/plain": [
       "5.019785236956323"
      ]
     },
     "execution_count": 8,
     "metadata": {},
     "output_type": "execute_result"
    }
   ],
   "source": [
    "(cdf_1['y'] - cdf_0['y']).mean()"
   ]
  },
  {
   "cell_type": "code",
   "execution_count": 9,
   "metadata": {
    "execution": {
     "iopub.execute_input": "2023-11-15T16:17:36.774187Z",
     "iopub.status.busy": "2023-11-15T16:17:36.773602Z",
     "iopub.status.idle": "2023-11-15T16:17:36.793180Z",
     "shell.execute_reply": "2023-11-15T16:17:36.792544Z"
    }
   },
   "outputs": [
    {
     "data": {
      "image/png": "[encoded data removed]",
      "text/latex": [
       "$\\displaystyle 0.151179275804825$"
      ],
      "text/plain": [
       "0.15117927580482532"
      ]
     },
     "execution_count": 9,
     "metadata": {},
     "output_type": "execute_result"
    }
   ],
   "source": [
    "1.96*(cdf_1['y'] - cdf_0['y']).std() / np.sqrt(len(df))"
   ]
  },
  {
   "cell_type": "markdown",
   "metadata": {},
   "source": [
    "Comparing to the estimate from OLS."
   ]
  },
  {
   "cell_type": "code",
   "execution_count": 10,
   "metadata": {
    "execution": {
     "iopub.execute_input": "2023-11-15T16:17:36.795584Z",
     "iopub.status.busy": "2023-11-15T16:17:36.795263Z",
     "iopub.status.idle": "2023-11-15T16:17:36.812273Z",
     "shell.execute_reply": "2023-11-15T16:17:36.811686Z"
    }
   },
   "outputs": [
    {
     "data": {
      "text/html": [
       "<table class=\"simpletable\">\n",
       "<caption>OLS Regression Results</caption>\n",
       "<tr>\n",
       "  <th>Dep. Variable:</th>            <td>y</td>        <th>  R-squared (uncentered):</th>      <td>   0.911</td>\n",
       "</tr>\n",
       "<tr>\n",
       "  <th>Model:</th>                   <td>OLS</td>       <th>  Adj. R-squared (uncentered):</th> <td>   0.911</td>\n",
       "</tr>\n",
       "<tr>\n",
       "  <th>Method:</th>             <td>Least Squares</td>  <th>  F-statistic:       </th>          <td>   5100.</td>\n",
       "</tr>\n",
       "<tr>\n",
       "  <th>Date:</th>             <td>Wed, 15 Nov 2023</td> <th>  Prob (F-statistic):</th>           <td>  0.00</td> \n",
       "</tr>\n",
       "<tr>\n",
       "  <th>Time:</th>                 <td>16:17:36</td>     <th>  Log-Likelihood:    </th>          <td> -1404.7</td>\n",
       "</tr>\n",
       "<tr>\n",
       "  <th>No. Observations:</th>      <td>  1000</td>      <th>  AIC:               </th>          <td>   2813.</td>\n",
       "</tr>\n",
       "<tr>\n",
       "  <th>Df Residuals:</th>          <td>   998</td>      <th>  BIC:               </th>          <td>   2823.</td>\n",
       "</tr>\n",
       "<tr>\n",
       "  <th>Df Model:</th>              <td>     2</td>      <th>                     </th>              <td> </td>   \n",
       "</tr>\n",
       "<tr>\n",
       "  <th>Covariance Type:</th>      <td>nonrobust</td>    <th>                     </th>              <td> </td>   \n",
       "</tr>\n",
       "</table>\n",
       "<table class=\"simpletable\">\n",
       "<tr>\n",
       "   <td></td>     <th>coef</th>     <th>std err</th>      <th>t</th>      <th>P>|t|</th>  <th>[0.025</th>    <th>0.975]</th>  \n",
       "</tr>\n",
       "<tr>\n",
       "  <th>x1</th> <td>    1.4183</td> <td>    0.023</td> <td>   61.699</td> <td> 0.000</td> <td>    1.373</td> <td>    1.463</td>\n",
       "</tr>\n",
       "<tr>\n",
       "  <th>x2</th> <td>    4.9807</td> <td>    0.058</td> <td>   85.157</td> <td> 0.000</td> <td>    4.866</td> <td>    5.096</td>\n",
       "</tr>\n",
       "</table>\n",
       "<table class=\"simpletable\">\n",
       "<tr>\n",
       "  <th>Omnibus:</th>       <td> 3.414</td> <th>  Durbin-Watson:     </th> <td>   2.003</td>\n",
       "</tr>\n",
       "<tr>\n",
       "  <th>Prob(Omnibus):</th> <td> 0.181</td> <th>  Jarque-Bera (JB):  </th> <td>   3.486</td>\n",
       "</tr>\n",
       "<tr>\n",
       "  <th>Skew:</th>          <td> 0.135</td> <th>  Prob(JB):          </th> <td>   0.175</td>\n",
       "</tr>\n",
       "<tr>\n",
       "  <th>Kurtosis:</th>      <td> 2.895</td> <th>  Cond. No.          </th> <td>    2.56</td>\n",
       "</tr>\n",
       "</table><br/><br/>Notes:<br/>[1] R² is computed without centering (uncentered) since the model does not contain a constant.<br/>[2] Standard Errors assume that the covariance matrix of the errors is correctly specified."
      ],
      "text/latex": [
       "\\begin{center}\n",
       "\\begin{tabular}{lclc}\n",
       "\\toprule\n",
       "\\textbf{Dep. Variable:}    &        y         & \\textbf{  R-squared (uncentered):}      &     0.911   \\\\\n",
       "\\textbf{Model:}            &       OLS        & \\textbf{  Adj. R-squared (uncentered):} &     0.911   \\\\\n",
       "\\textbf{Method:}           &  Least Squares   & \\textbf{  F-statistic:       }          &     5100.   \\\\\n",
       "\\textbf{Date:}             & Wed, 15 Nov 2023 & \\textbf{  Prob (F-statistic):}          &     0.00    \\\\\n",
       "\\textbf{Time:}             &     16:17:36     & \\textbf{  Log-Likelihood:    }          &   -1404.7   \\\\\n",
       "\\textbf{No. Observations:} &        1000      & \\textbf{  AIC:               }          &     2813.   \\\\\n",
       "\\textbf{Df Residuals:}     &         998      & \\textbf{  BIC:               }          &     2823.   \\\\\n",
       "\\textbf{Df Model:}         &           2      & \\textbf{                     }          &             \\\\\n",
       "\\textbf{Covariance Type:}  &    nonrobust     & \\textbf{                     }          &             \\\\\n",
       "\\bottomrule\n",
       "\\end{tabular}\n",
       "\\begin{tabular}{lcccccc}\n",
       "            & \\textbf{coef} & \\textbf{std err} & \\textbf{t} & \\textbf{P$> |$t$|$} & \\textbf{[0.025} & \\textbf{0.975]}  \\\\\n",
       "\\midrule\n",
       "\\textbf{x1} &       1.4183  &        0.023     &    61.699  &         0.000        &        1.373    &        1.463     \\\\\n",
       "\\textbf{x2} &       4.9807  &        0.058     &    85.157  &         0.000        &        4.866    &        5.096     \\\\\n",
       "\\bottomrule\n",
       "\\end{tabular}\n",
       "\\begin{tabular}{lclc}\n",
       "\\textbf{Omnibus:}       &  3.414 & \\textbf{  Durbin-Watson:     } &    2.003  \\\\\n",
       "\\textbf{Prob(Omnibus):} &  0.181 & \\textbf{  Jarque-Bera (JB):  } &    3.486  \\\\\n",
       "\\textbf{Skew:}          &  0.135 & \\textbf{  Prob(JB):          } &    0.175  \\\\\n",
       "\\textbf{Kurtosis:}      &  2.895 & \\textbf{  Cond. No.          } &     2.56  \\\\\n",
       "\\bottomrule\n",
       "\\end{tabular}\n",
       "%\\caption{OLS Regression Results}\n",
       "\\end{center}\n",
       "\n",
       "Notes: \\newline\n",
       " [1] R² is computed without centering (uncentered) since the model does not contain a constant. \\newline\n",
       " [2] Standard Errors assume that the covariance matrix of the errors is correctly specified."
      ],
      "text/plain": [
       "<class 'statsmodels.iolib.summary.Summary'>\n",
       "\"\"\"\n",
       "                                 OLS Regression Results                                \n",
       "=======================================================================================\n",
       "Dep. Variable:                      y   R-squared (uncentered):                   0.911\n",
       "Model:                            OLS   Adj. R-squared (uncentered):              0.911\n",
       "Method:                 Least Squares   F-statistic:                              5100.\n",
       "Date:                Wed, 15 Nov 2023   Prob (F-statistic):                        0.00\n",
       "Time:                        16:17:36   Log-Likelihood:                         -1404.7\n",
       "No. Observations:                1000   AIC:                                      2813.\n",
       "Df Residuals:                     998   BIC:                                      2823.\n",
       "Df Model:                           2                                                  \n",
       "Covariance Type:            nonrobust                                                  \n",
       "==============================================================================\n",
       "                 coef    std err          t      P>|t|      [0.025      0.975]\n",
       "------------------------------------------------------------------------------\n",
       "x1             1.4183      0.023     61.699      0.000       1.373       1.463\n",
       "x2             4.9807      0.058     85.157      0.000       4.866       5.096\n",
       "==============================================================================\n",
       "Omnibus:                        3.414   Durbin-Watson:                   2.003\n",
       "Prob(Omnibus):                  0.181   Jarque-Bera (JB):                3.486\n",
       "Skew:                           0.135   Prob(JB):                        0.175\n",
       "Kurtosis:                       2.895   Cond. No.                         2.56\n",
       "==============================================================================\n",
       "\n",
       "Notes:\n",
       "[1] R² is computed without centering (uncentered) since the model does not contain a constant.\n",
       "[2] Standard Errors assume that the covariance matrix of the errors is correctly specified.\n",
       "\"\"\""
      ]
     },
     "execution_count": 10,
     "metadata": {},
     "output_type": "execute_result"
    }
   ],
   "source": [
    "model = OLS(np.asarray(df[outcome]), np.asarray(df[[common_cause, treatment]], dtype=np.float64))\n",
    "result = model.fit()\n",
    "result.summary()"
   ]
  }
 ],
 "metadata": {
  "kernelspec": {
   "display_name": "Python 3",
   "language": "python",
   "name": "python3"
  },
  "language_info": {
   "codemirror_mode": {
    "name": "ipython",
    "version": 3
   },
   "file_extension": ".py",
   "mimetype": "text/x-python",
   "name": "python",
   "nbconvert_exporter": "python",
   "pygments_lexer": "ipython3",
   "version": "3.8.10"
  },
  "toc": {
   "base_numbering": 1,
   "nav_menu": {},
   "number_sections": false,
   "sideBar": true,
   "skip_h1_title": true,
   "title_cell": "Table of Contents",
   "title_sidebar": "Contents",
   "toc_cell": false,
   "toc_position": {},
   "toc_section_display": true,
   "toc_window_display": false
  }
 },
 "nbformat": 4,
 "nbformat_minor": 4
}
