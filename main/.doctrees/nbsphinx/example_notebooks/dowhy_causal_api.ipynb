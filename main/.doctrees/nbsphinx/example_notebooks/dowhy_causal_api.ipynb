{
 "cells": [
  {
   "cell_type": "markdown",
   "metadata": {},
   "source": [
    "# Demo for the DoWhy causal API\n",
    "We show a simple example of adding a causal extension to any dataframe. "
   ]
  },
  {
   "cell_type": "code",
   "execution_count": 1,
   "metadata": {
    "execution": {
     "iopub.execute_input": "2024-10-09T16:25:43.246069Z",
     "iopub.status.busy": "2024-10-09T16:25:43.245655Z",
     "iopub.status.idle": "2024-10-09T16:25:44.737846Z",
     "shell.execute_reply": "2024-10-09T16:25:44.737237Z"
    }
   },
   "outputs": [],
   "source": [
    "import dowhy.datasets\n",
    "import dowhy.api\n",
    "from dowhy.graph import build_graph_from_str\n",
    "\n",
    "import numpy as np\n",
    "import pandas as pd\n",
    "\n",
    "from statsmodels.api import OLS"
   ]
  },
  {
   "cell_type": "code",
   "execution_count": 2,
   "metadata": {
    "execution": {
     "iopub.execute_input": "2024-10-09T16:25:44.740765Z",
     "iopub.status.busy": "2024-10-09T16:25:44.740266Z",
     "iopub.status.idle": "2024-10-09T16:25:44.777310Z",
     "shell.execute_reply": "2024-10-09T16:25:44.776688Z"
    }
   },
   "outputs": [
    {
     "data": {
      "text/html": [
       "<div>\n",
       "<style scoped>\n",
       "    .dataframe tbody tr th:only-of-type {\n",
       "        vertical-align: middle;\n",
       "    }\n",
       "\n",
       "    .dataframe tbody tr th {\n",
       "        vertical-align: top;\n",
       "    }\n",
       "\n",
       "    .dataframe thead th {\n",
       "        text-align: right;\n",
       "    }\n",
       "</style>\n",
       "<table border=\"1\" class=\"dataframe\">\n",
       "  <thead>\n",
       "    <tr style=\"text-align: right;\">\n",
       "      <th></th>\n",
       "      <th>W0</th>\n",
       "      <th>v0</th>\n",
       "      <th>y</th>\n",
       "    </tr>\n",
       "  </thead>\n",
       "  <tbody>\n",
       "    <tr>\n",
       "      <th>0</th>\n",
       "      <td>-1.548757</td>\n",
       "      <td>False</td>\n",
       "      <td>-4.125338</td>\n",
       "    </tr>\n",
       "    <tr>\n",
       "      <th>1</th>\n",
       "      <td>0.606056</td>\n",
       "      <td>True</td>\n",
       "      <td>7.335386</td>\n",
       "    </tr>\n",
       "    <tr>\n",
       "      <th>2</th>\n",
       "      <td>-0.068433</td>\n",
       "      <td>True</td>\n",
       "      <td>7.087289</td>\n",
       "    </tr>\n",
       "    <tr>\n",
       "      <th>3</th>\n",
       "      <td>0.915575</td>\n",
       "      <td>False</td>\n",
       "      <td>0.609888</td>\n",
       "    </tr>\n",
       "    <tr>\n",
       "      <th>4</th>\n",
       "      <td>1.057662</td>\n",
       "      <td>True</td>\n",
       "      <td>6.396257</td>\n",
       "    </tr>\n",
       "    <tr>\n",
       "      <th>...</th>\n",
       "      <td>...</td>\n",
       "      <td>...</td>\n",
       "      <td>...</td>\n",
       "    </tr>\n",
       "    <tr>\n",
       "      <th>995</th>\n",
       "      <td>0.899284</td>\n",
       "      <td>True</td>\n",
       "      <td>6.771494</td>\n",
       "    </tr>\n",
       "    <tr>\n",
       "      <th>996</th>\n",
       "      <td>0.578275</td>\n",
       "      <td>True</td>\n",
       "      <td>6.951933</td>\n",
       "    </tr>\n",
       "    <tr>\n",
       "      <th>997</th>\n",
       "      <td>0.791586</td>\n",
       "      <td>True</td>\n",
       "      <td>8.575460</td>\n",
       "    </tr>\n",
       "    <tr>\n",
       "      <th>998</th>\n",
       "      <td>0.603457</td>\n",
       "      <td>False</td>\n",
       "      <td>1.577286</td>\n",
       "    </tr>\n",
       "    <tr>\n",
       "      <th>999</th>\n",
       "      <td>1.690818</td>\n",
       "      <td>True</td>\n",
       "      <td>7.142964</td>\n",
       "    </tr>\n",
       "  </tbody>\n",
       "</table>\n",
       "<p>1000 rows × 3 columns</p>\n",
       "</div>"
      ],
      "text/plain": [
       "           W0     v0         y\n",
       "0   -1.548757  False -4.125338\n",
       "1    0.606056   True  7.335386\n",
       "2   -0.068433   True  7.087289\n",
       "3    0.915575  False  0.609888\n",
       "4    1.057662   True  6.396257\n",
       "..        ...    ...       ...\n",
       "995  0.899284   True  6.771494\n",
       "996  0.578275   True  6.951933\n",
       "997  0.791586   True  8.575460\n",
       "998  0.603457  False  1.577286\n",
       "999  1.690818   True  7.142964\n",
       "\n",
       "[1000 rows x 3 columns]"
      ]
     },
     "execution_count": 2,
     "metadata": {},
     "output_type": "execute_result"
    }
   ],
   "source": [
    "data = dowhy.datasets.linear_dataset(beta=5,\n",
    "        num_common_causes=1,\n",
    "        num_instruments = 0,\n",
    "        num_samples=1000,\n",
    "        treatment_is_binary=True)\n",
    "df = data['df']\n",
    "df['y'] = df['y'] + np.random.normal(size=len(df)) # Adding noise to data. Without noise, the variance in Y|X, Z is zero, and mcmc fails.\n",
    "nx_graph = build_graph_from_str(data[\"dot_graph\"])\n",
    "\n",
    "treatment= data[\"treatment_name\"][0]\n",
    "outcome = data[\"outcome_name\"][0]\n",
    "common_cause = data[\"common_causes_names\"][0]\n",
    "df"
   ]
  },
  {
   "cell_type": "code",
   "execution_count": 3,
   "metadata": {
    "execution": {
     "iopub.execute_input": "2024-10-09T16:25:44.779612Z",
     "iopub.status.busy": "2024-10-09T16:25:44.779431Z",
     "iopub.status.idle": "2024-10-09T16:25:44.969683Z",
     "shell.execute_reply": "2024-10-09T16:25:44.969036Z"
    },
    "scrolled": true
   },
   "outputs": [
    {
     "data": {
      "text/plain": [
       "<Axes: xlabel='v0'>"
      ]
     },
     "execution_count": 3,
     "metadata": {},
     "output_type": "execute_result"
    },
    {
     "data": {
      "image/png": "[encoded data removed]",
      "text/plain": [
       "<Figure size 640x480 with 1 Axes>"
      ]
     },
     "metadata": {},
     "output_type": "display_data"
    }
   ],
   "source": [
    "# data['df'] is just a regular pandas.DataFrame\n",
    "df.causal.do(x=treatment,\n",
    "             variable_types={treatment: 'b', outcome: 'c', common_cause: 'c'},\n",
    "             outcome=outcome,\n",
    "             common_causes=[common_cause],\n",
    "            ).groupby(treatment).mean().plot(y=outcome, kind='bar')"
   ]
  },
  {
   "cell_type": "code",
   "execution_count": 4,
   "metadata": {
    "execution": {
     "iopub.execute_input": "2024-10-09T16:25:44.972110Z",
     "iopub.status.busy": "2024-10-09T16:25:44.971763Z",
     "iopub.status.idle": "2024-10-09T16:25:45.113880Z",
     "shell.execute_reply": "2024-10-09T16:25:45.113250Z"
    }
   },
   "outputs": [
    {
     "data": {
      "text/plain": [
       "<Axes: xlabel='v0'>"
      ]
     },
     "execution_count": 4,
     "metadata": {},
     "output_type": "execute_result"
    },
    {
     "data": {
      "image/png": "[encoded data removed]",
      "text/plain": [
       "<Figure size 640x480 with 1 Axes>"
      ]
     },
     "metadata": {},
     "output_type": "display_data"
    }
   ],
   "source": [
    "df.causal.do(x={treatment: 1}, \n",
    "              variable_types={treatment:'b', outcome: 'c', common_cause: 'c'}, \n",
    "              outcome=outcome,\n",
    "              method='weighting', \n",
    "              common_causes=[common_cause]\n",
    "              ).groupby(treatment).mean().plot(y=outcome, kind='bar')"
   ]
  },
  {
   "cell_type": "code",
   "execution_count": 5,
   "metadata": {
    "execution": {
     "iopub.execute_input": "2024-10-09T16:25:45.116571Z",
     "iopub.status.busy": "2024-10-09T16:25:45.116144Z",
     "iopub.status.idle": "2024-10-09T16:25:45.137089Z",
     "shell.execute_reply": "2024-10-09T16:25:45.136571Z"
    }
   },
   "outputs": [],
   "source": [
    "cdf_1 = df.causal.do(x={treatment: 1}, \n",
    "              variable_types={treatment: 'b', outcome: 'c', common_cause: 'c'}, \n",
    "              outcome=outcome, \n",
    "              graph=nx_graph\n",
    "              )\n",
    "\n",
    "cdf_0 = df.causal.do(x={treatment: 0}, \n",
    "              variable_types={treatment: 'b', outcome: 'c', common_cause: 'c'}, \n",
    "              outcome=outcome, \n",
    "              graph=nx_graph\n",
    "              )\n"
   ]
  },
  {
   "cell_type": "code",
   "execution_count": 6,
   "metadata": {
    "execution": {
     "iopub.execute_input": "2024-10-09T16:25:45.139674Z",
     "iopub.status.busy": "2024-10-09T16:25:45.139275Z",
     "iopub.status.idle": "2024-10-09T16:25:45.148339Z",
     "shell.execute_reply": "2024-10-09T16:25:45.147728Z"
    },
    "scrolled": true
   },
   "outputs": [
    {
     "data": {
      "text/html": [
       "<div>\n",
       "<style scoped>\n",
       "    .dataframe tbody tr th:only-of-type {\n",
       "        vertical-align: middle;\n",
       "    }\n",
       "\n",
       "    .dataframe tbody tr th {\n",
       "        vertical-align: top;\n",
       "    }\n",
       "\n",
       "    .dataframe thead th {\n",
       "        text-align: right;\n",
       "    }\n",
       "</style>\n",
       "<table border=\"1\" class=\"dataframe\">\n",
       "  <thead>\n",
       "    <tr style=\"text-align: right;\">\n",
       "      <th></th>\n",
       "      <th>W0</th>\n",
       "      <th>v0</th>\n",
       "      <th>y</th>\n",
       "      <th>propensity_score</th>\n",
       "      <th>weight</th>\n",
       "    </tr>\n",
       "  </thead>\n",
       "  <tbody>\n",
       "    <tr>\n",
       "      <th>0</th>\n",
       "      <td>1.548809</td>\n",
       "      <td>False</td>\n",
       "      <td>3.089482</td>\n",
       "      <td>0.466384</td>\n",
       "      <td>2.144157</td>\n",
       "    </tr>\n",
       "    <tr>\n",
       "      <th>1</th>\n",
       "      <td>1.768882</td>\n",
       "      <td>False</td>\n",
       "      <td>5.429025</td>\n",
       "      <td>0.465044</td>\n",
       "      <td>2.150333</td>\n",
       "    </tr>\n",
       "    <tr>\n",
       "      <th>2</th>\n",
       "      <td>0.795293</td>\n",
       "      <td>False</td>\n",
       "      <td>1.709966</td>\n",
       "      <td>0.470973</td>\n",
       "      <td>2.123262</td>\n",
       "    </tr>\n",
       "    <tr>\n",
       "      <th>3</th>\n",
       "      <td>0.433214</td>\n",
       "      <td>False</td>\n",
       "      <td>1.420479</td>\n",
       "      <td>0.473181</td>\n",
       "      <td>2.113358</td>\n",
       "    </tr>\n",
       "    <tr>\n",
       "      <th>4</th>\n",
       "      <td>0.636328</td>\n",
       "      <td>False</td>\n",
       "      <td>2.849297</td>\n",
       "      <td>0.471942</td>\n",
       "      <td>2.118903</td>\n",
       "    </tr>\n",
       "    <tr>\n",
       "      <th>...</th>\n",
       "      <td>...</td>\n",
       "      <td>...</td>\n",
       "      <td>...</td>\n",
       "      <td>...</td>\n",
       "      <td>...</td>\n",
       "    </tr>\n",
       "    <tr>\n",
       "      <th>995</th>\n",
       "      <td>-0.781142</td>\n",
       "      <td>False</td>\n",
       "      <td>-2.654179</td>\n",
       "      <td>0.480591</td>\n",
       "      <td>2.080774</td>\n",
       "    </tr>\n",
       "    <tr>\n",
       "      <th>996</th>\n",
       "      <td>1.349915</td>\n",
       "      <td>False</td>\n",
       "      <td>1.480500</td>\n",
       "      <td>0.467595</td>\n",
       "      <td>2.138604</td>\n",
       "    </tr>\n",
       "    <tr>\n",
       "      <th>997</th>\n",
       "      <td>1.365777</td>\n",
       "      <td>False</td>\n",
       "      <td>3.349460</td>\n",
       "      <td>0.467498</td>\n",
       "      <td>2.139046</td>\n",
       "    </tr>\n",
       "    <tr>\n",
       "      <th>998</th>\n",
       "      <td>1.105184</td>\n",
       "      <td>False</td>\n",
       "      <td>4.144365</td>\n",
       "      <td>0.469085</td>\n",
       "      <td>2.131809</td>\n",
       "    </tr>\n",
       "    <tr>\n",
       "      <th>999</th>\n",
       "      <td>1.815481</td>\n",
       "      <td>False</td>\n",
       "      <td>4.585145</td>\n",
       "      <td>0.464761</td>\n",
       "      <td>2.151645</td>\n",
       "    </tr>\n",
       "  </tbody>\n",
       "</table>\n",
       "<p>1000 rows × 5 columns</p>\n",
       "</div>"
      ],
      "text/plain": [
       "           W0     v0         y  propensity_score    weight\n",
       "0    1.548809  False  3.089482          0.466384  2.144157\n",
       "1    1.768882  False  5.429025          0.465044  2.150333\n",
       "2    0.795293  False  1.709966          0.470973  2.123262\n",
       "3    0.433214  False  1.420479          0.473181  2.113358\n",
       "4    0.636328  False  2.849297          0.471942  2.118903\n",
       "..        ...    ...       ...               ...       ...\n",
       "995 -0.781142  False -2.654179          0.480591  2.080774\n",
       "996  1.349915  False  1.480500          0.467595  2.138604\n",
       "997  1.365777  False  3.349460          0.467498  2.139046\n",
       "998  1.105184  False  4.144365          0.469085  2.131809\n",
       "999  1.815481  False  4.585145          0.464761  2.151645\n",
       "\n",
       "[1000 rows x 5 columns]"
      ]
     },
     "execution_count": 6,
     "metadata": {},
     "output_type": "execute_result"
    }
   ],
   "source": [
    "cdf_0"
   ]
  },
  {
   "cell_type": "code",
   "execution_count": 7,
   "metadata": {
    "execution": {
     "iopub.execute_input": "2024-10-09T16:25:45.150695Z",
     "iopub.status.busy": "2024-10-09T16:25:45.150319Z",
     "iopub.status.idle": "2024-10-09T16:25:45.159109Z",
     "shell.execute_reply": "2024-10-09T16:25:45.158606Z"
    }
   },
   "outputs": [
    {
     "data": {
      "text/html": [
       "<div>\n",
       "<style scoped>\n",
       "    .dataframe tbody tr th:only-of-type {\n",
       "        vertical-align: middle;\n",
       "    }\n",
       "\n",
       "    .dataframe tbody tr th {\n",
       "        vertical-align: top;\n",
       "    }\n",
       "\n",
       "    .dataframe thead th {\n",
       "        text-align: right;\n",
       "    }\n",
       "</style>\n",
       "<table border=\"1\" class=\"dataframe\">\n",
       "  <thead>\n",
       "    <tr style=\"text-align: right;\">\n",
       "      <th></th>\n",
       "      <th>W0</th>\n",
       "      <th>v0</th>\n",
       "      <th>y</th>\n",
       "      <th>propensity_score</th>\n",
       "      <th>weight</th>\n",
       "    </tr>\n",
       "  </thead>\n",
       "  <tbody>\n",
       "    <tr>\n",
       "      <th>0</th>\n",
       "      <td>3.019176</td>\n",
       "      <td>True</td>\n",
       "      <td>11.837683</td>\n",
       "      <td>0.542555</td>\n",
       "      <td>1.843130</td>\n",
       "    </tr>\n",
       "    <tr>\n",
       "      <th>1</th>\n",
       "      <td>-1.315945</td>\n",
       "      <td>True</td>\n",
       "      <td>0.622733</td>\n",
       "      <td>0.516143</td>\n",
       "      <td>1.937446</td>\n",
       "    </tr>\n",
       "    <tr>\n",
       "      <th>2</th>\n",
       "      <td>2.025660</td>\n",
       "      <td>True</td>\n",
       "      <td>10.818434</td>\n",
       "      <td>0.536518</td>\n",
       "      <td>1.863871</td>\n",
       "    </tr>\n",
       "    <tr>\n",
       "      <th>3</th>\n",
       "      <td>-0.500374</td>\n",
       "      <td>True</td>\n",
       "      <td>4.745536</td>\n",
       "      <td>0.521124</td>\n",
       "      <td>1.918931</td>\n",
       "    </tr>\n",
       "    <tr>\n",
       "      <th>4</th>\n",
       "      <td>0.420915</td>\n",
       "      <td>True</td>\n",
       "      <td>6.872575</td>\n",
       "      <td>0.526744</td>\n",
       "      <td>1.898454</td>\n",
       "    </tr>\n",
       "    <tr>\n",
       "      <th>...</th>\n",
       "      <td>...</td>\n",
       "      <td>...</td>\n",
       "      <td>...</td>\n",
       "      <td>...</td>\n",
       "      <td>...</td>\n",
       "    </tr>\n",
       "    <tr>\n",
       "      <th>995</th>\n",
       "      <td>-0.180589</td>\n",
       "      <td>True</td>\n",
       "      <td>3.420235</td>\n",
       "      <td>0.523075</td>\n",
       "      <td>1.911771</td>\n",
       "    </tr>\n",
       "    <tr>\n",
       "      <th>996</th>\n",
       "      <td>-0.380616</td>\n",
       "      <td>True</td>\n",
       "      <td>3.197561</td>\n",
       "      <td>0.521855</td>\n",
       "      <td>1.916243</td>\n",
       "    </tr>\n",
       "    <tr>\n",
       "      <th>997</th>\n",
       "      <td>-0.857161</td>\n",
       "      <td>True</td>\n",
       "      <td>2.550775</td>\n",
       "      <td>0.518945</td>\n",
       "      <td>1.926985</td>\n",
       "    </tr>\n",
       "    <tr>\n",
       "      <th>998</th>\n",
       "      <td>-0.802851</td>\n",
       "      <td>True</td>\n",
       "      <td>3.063087</td>\n",
       "      <td>0.519277</td>\n",
       "      <td>1.925755</td>\n",
       "    </tr>\n",
       "    <tr>\n",
       "      <th>999</th>\n",
       "      <td>1.123956</td>\n",
       "      <td>True</td>\n",
       "      <td>6.746800</td>\n",
       "      <td>0.531029</td>\n",
       "      <td>1.883136</td>\n",
       "    </tr>\n",
       "  </tbody>\n",
       "</table>\n",
       "<p>1000 rows × 5 columns</p>\n",
       "</div>"
      ],
      "text/plain": [
       "           W0    v0          y  propensity_score    weight\n",
       "0    3.019176  True  11.837683          0.542555  1.843130\n",
       "1   -1.315945  True   0.622733          0.516143  1.937446\n",
       "2    2.025660  True  10.818434          0.536518  1.863871\n",
       "3   -0.500374  True   4.745536          0.521124  1.918931\n",
       "4    0.420915  True   6.872575          0.526744  1.898454\n",
       "..        ...   ...        ...               ...       ...\n",
       "995 -0.180589  True   3.420235          0.523075  1.911771\n",
       "996 -0.380616  True   3.197561          0.521855  1.916243\n",
       "997 -0.857161  True   2.550775          0.518945  1.926985\n",
       "998 -0.802851  True   3.063087          0.519277  1.925755\n",
       "999  1.123956  True   6.746800          0.531029  1.883136\n",
       "\n",
       "[1000 rows x 5 columns]"
      ]
     },
     "execution_count": 7,
     "metadata": {},
     "output_type": "execute_result"
    }
   ],
   "source": [
    "cdf_1"
   ]
  },
  {
   "cell_type": "markdown",
   "metadata": {},
   "source": [
    "## Comparing the estimate to Linear Regression\n",
    "First, estimating the effect using the causal data frame, and the 95% confidence interval."
   ]
  },
  {
   "cell_type": "code",
   "execution_count": 8,
   "metadata": {
    "execution": {
     "iopub.execute_input": "2024-10-09T16:25:45.161439Z",
     "iopub.status.busy": "2024-10-09T16:25:45.161070Z",
     "iopub.status.idle": "2024-10-09T16:25:45.300545Z",
     "shell.execute_reply": "2024-10-09T16:25:45.299921Z"
    }
   },
   "outputs": [
    {
     "data": {
      "image/png": "[encoded data removed]",
      "text/latex": [
       "$\\displaystyle 5.07322758797034$"
      ],
      "text/plain": [
       "5.073227587970344"
      ]
     },
     "execution_count": 8,
     "metadata": {},
     "output_type": "execute_result"
    }
   ],
   "source": [
    "(cdf_1['y'] - cdf_0['y']).mean()"
   ]
  },
  {
   "cell_type": "code",
   "execution_count": 9,
   "metadata": {
    "execution": {
     "iopub.execute_input": "2024-10-09T16:25:45.303019Z",
     "iopub.status.busy": "2024-10-09T16:25:45.302609Z",
     "iopub.status.idle": "2024-10-09T16:25:45.318845Z",
     "shell.execute_reply": "2024-10-09T16:25:45.318281Z"
    }
   },
   "outputs": [
    {
     "data": {
      "image/png": "[encoded data removed]",
      "text/latex": [
       "$\\displaystyle 0.230333315696921$"
      ],
      "text/plain": [
       "0.23033331569692075"
      ]
     },
     "execution_count": 9,
     "metadata": {},
     "output_type": "execute_result"
    }
   ],
   "source": [
    "1.96*(cdf_1['y'] - cdf_0['y']).std() / np.sqrt(len(df))"
   ]
  },
  {
   "cell_type": "markdown",
   "metadata": {},
   "source": [
    "Comparing to the estimate from OLS."
   ]
  },
  {
   "cell_type": "code",
   "execution_count": 10,
   "metadata": {
    "execution": {
     "iopub.execute_input": "2024-10-09T16:25:45.321310Z",
     "iopub.status.busy": "2024-10-09T16:25:45.320947Z",
     "iopub.status.idle": "2024-10-09T16:25:45.337948Z",
     "shell.execute_reply": "2024-10-09T16:25:45.337389Z"
    }
   },
   "outputs": [
    {
     "data": {
      "text/html": [
       "<table class=\"simpletable\">\n",
       "<caption>OLS Regression Results</caption>\n",
       "<tr>\n",
       "  <th>Dep. Variable:</th>            <td>y</td>        <th>  R-squared (uncentered):</th>      <td>   0.971</td> \n",
       "</tr>\n",
       "<tr>\n",
       "  <th>Model:</th>                   <td>OLS</td>       <th>  Adj. R-squared (uncentered):</th> <td>   0.971</td> \n",
       "</tr>\n",
       "<tr>\n",
       "  <th>Method:</th>             <td>Least Squares</td>  <th>  F-statistic:       </th>          <td>1.665e+04</td>\n",
       "</tr>\n",
       "<tr>\n",
       "  <th>Date:</th>             <td>Wed, 09 Oct 2024</td> <th>  Prob (F-statistic):</th>           <td>  0.00</td>  \n",
       "</tr>\n",
       "<tr>\n",
       "  <th>Time:</th>                 <td>16:25:45</td>     <th>  Log-Likelihood:    </th>          <td> -1437.1</td> \n",
       "</tr>\n",
       "<tr>\n",
       "  <th>No. Observations:</th>      <td>  1000</td>      <th>  AIC:               </th>          <td>   2878.</td> \n",
       "</tr>\n",
       "<tr>\n",
       "  <th>Df Residuals:</th>          <td>   998</td>      <th>  BIC:               </th>          <td>   2888.</td> \n",
       "</tr>\n",
       "<tr>\n",
       "  <th>Df Model:</th>              <td>     2</td>      <th>                     </th>              <td> </td>    \n",
       "</tr>\n",
       "<tr>\n",
       "  <th>Covariance Type:</th>      <td>nonrobust</td>    <th>                     </th>              <td> </td>    \n",
       "</tr>\n",
       "</table>\n",
       "<table class=\"simpletable\">\n",
       "<tr>\n",
       "   <td></td>     <th>coef</th>     <th>std err</th>      <th>t</th>      <th>P>|t|</th>  <th>[0.025</th>    <th>0.975]</th>  \n",
       "</tr>\n",
       "<tr>\n",
       "  <th>x1</th> <td>    2.4769</td> <td>    0.028</td> <td>   86.996</td> <td> 0.000</td> <td>    2.421</td> <td>    2.533</td>\n",
       "</tr>\n",
       "<tr>\n",
       "  <th>x2</th> <td>    5.1196</td> <td>    0.050</td> <td>  102.655</td> <td> 0.000</td> <td>    5.022</td> <td>    5.217</td>\n",
       "</tr>\n",
       "</table>\n",
       "<table class=\"simpletable\">\n",
       "<tr>\n",
       "  <th>Omnibus:</th>       <td> 0.195</td> <th>  Durbin-Watson:     </th> <td>   2.035</td>\n",
       "</tr>\n",
       "<tr>\n",
       "  <th>Prob(Omnibus):</th> <td> 0.907</td> <th>  Jarque-Bera (JB):  </th> <td>   0.258</td>\n",
       "</tr>\n",
       "<tr>\n",
       "  <th>Skew:</th>          <td> 0.026</td> <th>  Prob(JB):          </th> <td>   0.879</td>\n",
       "</tr>\n",
       "<tr>\n",
       "  <th>Kurtosis:</th>      <td> 2.941</td> <th>  Cond. No.          </th> <td>    2.15</td>\n",
       "</tr>\n",
       "</table><br/><br/>Notes:<br/>[1] R² is computed without centering (uncentered) since the model does not contain a constant.<br/>[2] Standard Errors assume that the covariance matrix of the errors is correctly specified."
      ],
      "text/latex": [
       "\\begin{center}\n",
       "\\begin{tabular}{lclc}\n",
       "\\toprule\n",
       "\\textbf{Dep. Variable:}    &        y         & \\textbf{  R-squared (uncentered):}      &     0.971   \\\\\n",
       "\\textbf{Model:}            &       OLS        & \\textbf{  Adj. R-squared (uncentered):} &     0.971   \\\\\n",
       "\\textbf{Method:}           &  Least Squares   & \\textbf{  F-statistic:       }          & 1.665e+04   \\\\\n",
       "\\textbf{Date:}             & Wed, 09 Oct 2024 & \\textbf{  Prob (F-statistic):}          &     0.00    \\\\\n",
       "\\textbf{Time:}             &     16:25:45     & \\textbf{  Log-Likelihood:    }          &   -1437.1   \\\\\n",
       "\\textbf{No. Observations:} &        1000      & \\textbf{  AIC:               }          &     2878.   \\\\\n",
       "\\textbf{Df Residuals:}     &         998      & \\textbf{  BIC:               }          &     2888.   \\\\\n",
       "\\textbf{Df Model:}         &           2      & \\textbf{                     }          &             \\\\\n",
       "\\textbf{Covariance Type:}  &    nonrobust     & \\textbf{                     }          &             \\\\\n",
       "\\bottomrule\n",
       "\\end{tabular}\n",
       "\\begin{tabular}{lcccccc}\n",
       "            & \\textbf{coef} & \\textbf{std err} & \\textbf{t} & \\textbf{P$> |$t$|$} & \\textbf{[0.025} & \\textbf{0.975]}  \\\\\n",
       "\\midrule\n",
       "\\textbf{x1} &       2.4769  &        0.028     &    86.996  &         0.000        &        2.421    &        2.533     \\\\\n",
       "\\textbf{x2} &       5.1196  &        0.050     &   102.655  &         0.000        &        5.022    &        5.217     \\\\\n",
       "\\bottomrule\n",
       "\\end{tabular}\n",
       "\\begin{tabular}{lclc}\n",
       "\\textbf{Omnibus:}       &  0.195 & \\textbf{  Durbin-Watson:     } &    2.035  \\\\\n",
       "\\textbf{Prob(Omnibus):} &  0.907 & \\textbf{  Jarque-Bera (JB):  } &    0.258  \\\\\n",
       "\\textbf{Skew:}          &  0.026 & \\textbf{  Prob(JB):          } &    0.879  \\\\\n",
       "\\textbf{Kurtosis:}      &  2.941 & \\textbf{  Cond. No.          } &     2.15  \\\\\n",
       "\\bottomrule\n",
       "\\end{tabular}\n",
       "%\\caption{OLS Regression Results}\n",
       "\\end{center}\n",
       "\n",
       "Notes: \\newline\n",
       " [1] R² is computed without centering (uncentered) since the model does not contain a constant. \\newline\n",
       " [2] Standard Errors assume that the covariance matrix of the errors is correctly specified."
      ],
      "text/plain": [
       "<class 'statsmodels.iolib.summary.Summary'>\n",
       "\"\"\"\n",
       "                                 OLS Regression Results                                \n",
       "=======================================================================================\n",
       "Dep. Variable:                      y   R-squared (uncentered):                   0.971\n",
       "Model:                            OLS   Adj. R-squared (uncentered):              0.971\n",
       "Method:                 Least Squares   F-statistic:                          1.665e+04\n",
       "Date:                Wed, 09 Oct 2024   Prob (F-statistic):                        0.00\n",
       "Time:                        16:25:45   Log-Likelihood:                         -1437.1\n",
       "No. Observations:                1000   AIC:                                      2878.\n",
       "Df Residuals:                     998   BIC:                                      2888.\n",
       "Df Model:                           2                                                  \n",
       "Covariance Type:            nonrobust                                                  \n",
       "==============================================================================\n",
       "                 coef    std err          t      P>|t|      [0.025      0.975]\n",
       "------------------------------------------------------------------------------\n",
       "x1             2.4769      0.028     86.996      0.000       2.421       2.533\n",
       "x2             5.1196      0.050    102.655      0.000       5.022       5.217\n",
       "==============================================================================\n",
       "Omnibus:                        0.195   Durbin-Watson:                   2.035\n",
       "Prob(Omnibus):                  0.907   Jarque-Bera (JB):                0.258\n",
       "Skew:                           0.026   Prob(JB):                        0.879\n",
       "Kurtosis:                       2.941   Cond. No.                         2.15\n",
       "==============================================================================\n",
       "\n",
       "Notes:\n",
       "[1] R² is computed without centering (uncentered) since the model does not contain a constant.\n",
       "[2] Standard Errors assume that the covariance matrix of the errors is correctly specified.\n",
       "\"\"\""
      ]
     },
     "execution_count": 10,
     "metadata": {},
     "output_type": "execute_result"
    }
   ],
   "source": [
    "model = OLS(np.asarray(df[outcome]), np.asarray(df[[common_cause, treatment]], dtype=np.float64))\n",
    "result = model.fit()\n",
    "result.summary()"
   ]
  }
 ],
 "metadata": {
  "kernelspec": {
   "display_name": "Python 3 (ipykernel)",
   "language": "python",
   "name": "python3"
  },
  "language_info": {
   "codemirror_mode": {
    "name": "ipython",
    "version": 3
   },
   "file_extension": ".py",
   "mimetype": "text/x-python",
   "name": "python",
   "nbconvert_exporter": "python",
   "pygments_lexer": "ipython3",
   "version": "3.8.10"
  },
  "toc": {
   "base_numbering": 1,
   "nav_menu": {},
   "number_sections": false,
   "sideBar": true,
   "skip_h1_title": true,
   "title_cell": "Table of Contents",
   "title_sidebar": "Contents",
   "toc_cell": false,
   "toc_position": {},
   "toc_section_display": true,
   "toc_window_display": false
  }
 },
 "nbformat": 4,
 "nbformat_minor": 4
}
