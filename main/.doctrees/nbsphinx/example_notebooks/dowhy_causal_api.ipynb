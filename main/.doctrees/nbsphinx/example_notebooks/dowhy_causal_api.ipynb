{
 "cells": [
  {
   "cell_type": "markdown",
   "metadata": {},
   "source": [
    "# Demo for the DoWhy causal API\n",
    "We show a simple example of adding a causal extension to any dataframe. "
   ]
  },
  {
   "cell_type": "code",
   "execution_count": 1,
   "metadata": {
    "execution": {
     "iopub.execute_input": "2023-07-14T01:17:33.182647Z",
     "iopub.status.busy": "2023-07-14T01:17:33.182150Z",
     "iopub.status.idle": "2023-07-14T01:17:35.131310Z",
     "shell.execute_reply": "2023-07-14T01:17:35.130282Z"
    }
   },
   "outputs": [],
   "source": [
    "import dowhy.datasets\n",
    "import dowhy.api\n",
    "\n",
    "import numpy as np\n",
    "import pandas as pd\n",
    "\n",
    "from statsmodels.api import OLS"
   ]
  },
  {
   "cell_type": "code",
   "execution_count": 2,
   "metadata": {
    "execution": {
     "iopub.execute_input": "2023-07-14T01:17:35.137713Z",
     "iopub.status.busy": "2023-07-14T01:17:35.135675Z",
     "iopub.status.idle": "2023-07-14T01:17:35.186400Z",
     "shell.execute_reply": "2023-07-14T01:17:35.185232Z"
    }
   },
   "outputs": [
    {
     "data": {
      "text/html": [
       "<div>\n",
       "<style scoped>\n",
       "    .dataframe tbody tr th:only-of-type {\n",
       "        vertical-align: middle;\n",
       "    }\n",
       "\n",
       "    .dataframe tbody tr th {\n",
       "        vertical-align: top;\n",
       "    }\n",
       "\n",
       "    .dataframe thead th {\n",
       "        text-align: right;\n",
       "    }\n",
       "</style>\n",
       "<table border=\"1\" class=\"dataframe\">\n",
       "  <thead>\n",
       "    <tr style=\"text-align: right;\">\n",
       "      <th></th>\n",
       "      <th>W0</th>\n",
       "      <th>v0</th>\n",
       "      <th>y</th>\n",
       "    </tr>\n",
       "  </thead>\n",
       "  <tbody>\n",
       "    <tr>\n",
       "      <th>0</th>\n",
       "      <td>-1.402146</td>\n",
       "      <td>False</td>\n",
       "      <td>-2.260764</td>\n",
       "    </tr>\n",
       "    <tr>\n",
       "      <th>1</th>\n",
       "      <td>0.565567</td>\n",
       "      <td>False</td>\n",
       "      <td>-0.861916</td>\n",
       "    </tr>\n",
       "    <tr>\n",
       "      <th>2</th>\n",
       "      <td>-0.571972</td>\n",
       "      <td>True</td>\n",
       "      <td>5.746390</td>\n",
       "    </tr>\n",
       "    <tr>\n",
       "      <th>3</th>\n",
       "      <td>0.048141</td>\n",
       "      <td>True</td>\n",
       "      <td>3.893462</td>\n",
       "    </tr>\n",
       "    <tr>\n",
       "      <th>4</th>\n",
       "      <td>0.117402</td>\n",
       "      <td>False</td>\n",
       "      <td>0.624751</td>\n",
       "    </tr>\n",
       "    <tr>\n",
       "      <th>...</th>\n",
       "      <td>...</td>\n",
       "      <td>...</td>\n",
       "      <td>...</td>\n",
       "    </tr>\n",
       "    <tr>\n",
       "      <th>995</th>\n",
       "      <td>-0.647364</td>\n",
       "      <td>False</td>\n",
       "      <td>0.393974</td>\n",
       "    </tr>\n",
       "    <tr>\n",
       "      <th>996</th>\n",
       "      <td>-0.484294</td>\n",
       "      <td>False</td>\n",
       "      <td>-0.559209</td>\n",
       "    </tr>\n",
       "    <tr>\n",
       "      <th>997</th>\n",
       "      <td>0.072056</td>\n",
       "      <td>True</td>\n",
       "      <td>5.555845</td>\n",
       "    </tr>\n",
       "    <tr>\n",
       "      <th>998</th>\n",
       "      <td>-2.243040</td>\n",
       "      <td>True</td>\n",
       "      <td>3.731485</td>\n",
       "    </tr>\n",
       "    <tr>\n",
       "      <th>999</th>\n",
       "      <td>-0.358006</td>\n",
       "      <td>True</td>\n",
       "      <td>6.038525</td>\n",
       "    </tr>\n",
       "  </tbody>\n",
       "</table>\n",
       "<p>1000 rows × 3 columns</p>\n",
       "</div>"
      ],
      "text/plain": [
       "           W0     v0         y\n",
       "0   -1.402146  False -2.260764\n",
       "1    0.565567  False -0.861916\n",
       "2   -0.571972   True  5.746390\n",
       "3    0.048141   True  3.893462\n",
       "4    0.117402  False  0.624751\n",
       "..        ...    ...       ...\n",
       "995 -0.647364  False  0.393974\n",
       "996 -0.484294  False -0.559209\n",
       "997  0.072056   True  5.555845\n",
       "998 -2.243040   True  3.731485\n",
       "999 -0.358006   True  6.038525\n",
       "\n",
       "[1000 rows x 3 columns]"
      ]
     },
     "execution_count": 2,
     "metadata": {},
     "output_type": "execute_result"
    }
   ],
   "source": [
    "data = dowhy.datasets.linear_dataset(beta=5,\n",
    "        num_common_causes=1,\n",
    "        num_instruments = 0,\n",
    "        num_samples=1000,\n",
    "        treatment_is_binary=True)\n",
    "df = data['df']\n",
    "df['y'] = df['y'] + np.random.normal(size=len(df)) # Adding noise to data. Without noise, the variance in Y|X, Z is zero, and mcmc fails.\n",
    "#data['dot_graph'] = 'digraph { v ->y;X0-> v;X0-> y;}'\n",
    "\n",
    "treatment= data[\"treatment_name\"][0]\n",
    "outcome = data[\"outcome_name\"][0]\n",
    "common_cause = data[\"common_causes_names\"][0]\n",
    "df"
   ]
  },
  {
   "cell_type": "code",
   "execution_count": 3,
   "metadata": {
    "execution": {
     "iopub.execute_input": "2023-07-14T01:17:35.190115Z",
     "iopub.status.busy": "2023-07-14T01:17:35.189654Z",
     "iopub.status.idle": "2023-07-14T01:17:35.426497Z",
     "shell.execute_reply": "2023-07-14T01:17:35.425726Z"
    }
   },
   "outputs": [
    {
     "data": {
      "text/plain": [
       "<Axes: xlabel='v0'>"
      ]
     },
     "execution_count": 3,
     "metadata": {},
     "output_type": "execute_result"
    },
    {
     "data": {
      "image/png": "[encoded data removed]",
      "text/plain": [
       "<Figure size 640x480 with 1 Axes>"
      ]
     },
     "metadata": {},
     "output_type": "display_data"
    }
   ],
   "source": [
    "# data['df'] is just a regular pandas.DataFrame\n",
    "df.causal.do(x=treatment,\n",
    "                     variable_types={treatment: 'b', outcome: 'c', common_cause: 'c'},\n",
    "                     outcome=outcome,\n",
    "                     common_causes=[common_cause],\n",
    "                     proceed_when_unidentifiable=True).groupby(treatment).mean().plot(y=outcome, kind='bar')"
   ]
  },
  {
   "cell_type": "code",
   "execution_count": 4,
   "metadata": {
    "execution": {
     "iopub.execute_input": "2023-07-14T01:17:35.430415Z",
     "iopub.status.busy": "2023-07-14T01:17:35.429858Z",
     "iopub.status.idle": "2023-07-14T01:17:35.603117Z",
     "shell.execute_reply": "2023-07-14T01:17:35.602422Z"
    }
   },
   "outputs": [
    {
     "data": {
      "text/plain": [
       "<Axes: xlabel='v0'>"
      ]
     },
     "execution_count": 4,
     "metadata": {},
     "output_type": "execute_result"
    },
    {
     "data": {
      "image/png": "[encoded data removed]",
      "text/plain": [
       "<Figure size 640x480 with 1 Axes>"
      ]
     },
     "metadata": {},
     "output_type": "display_data"
    }
   ],
   "source": [
    "df.causal.do(x={treatment: 1}, \n",
    "              variable_types={treatment:'b', outcome: 'c', common_cause: 'c'}, \n",
    "              outcome=outcome,\n",
    "              method='weighting', \n",
    "              common_causes=[common_cause],\n",
    "              proceed_when_unidentifiable=True).groupby(treatment).mean().plot(y=outcome, kind='bar')"
   ]
  },
  {
   "cell_type": "code",
   "execution_count": 5,
   "metadata": {
    "execution": {
     "iopub.execute_input": "2023-07-14T01:17:35.606545Z",
     "iopub.status.busy": "2023-07-14T01:17:35.606101Z",
     "iopub.status.idle": "2023-07-14T01:17:35.638744Z",
     "shell.execute_reply": "2023-07-14T01:17:35.637925Z"
    }
   },
   "outputs": [],
   "source": [
    "cdf_1 = df.causal.do(x={treatment: 1}, \n",
    "              variable_types={treatment: 'b', outcome: 'c', common_cause: 'c'}, \n",
    "              outcome=outcome, \n",
    "              dot_graph=data['dot_graph'],\n",
    "              proceed_when_unidentifiable=True)\n",
    "\n",
    "cdf_0 = df.causal.do(x={treatment: 0}, \n",
    "              variable_types={treatment: 'b', outcome: 'c', common_cause: 'c'}, \n",
    "              outcome=outcome, \n",
    "              dot_graph=data['dot_graph'],\n",
    "              proceed_when_unidentifiable=True)\n"
   ]
  },
  {
   "cell_type": "code",
   "execution_count": 6,
   "metadata": {
    "execution": {
     "iopub.execute_input": "2023-07-14T01:17:35.642386Z",
     "iopub.status.busy": "2023-07-14T01:17:35.642121Z",
     "iopub.status.idle": "2023-07-14T01:17:35.653968Z",
     "shell.execute_reply": "2023-07-14T01:17:35.653243Z"
    },
    "scrolled": true
   },
   "outputs": [
    {
     "data": {
      "text/html": [
       "<div>\n",
       "<style scoped>\n",
       "    .dataframe tbody tr th:only-of-type {\n",
       "        vertical-align: middle;\n",
       "    }\n",
       "\n",
       "    .dataframe tbody tr th {\n",
       "        vertical-align: top;\n",
       "    }\n",
       "\n",
       "    .dataframe thead th {\n",
       "        text-align: right;\n",
       "    }\n",
       "</style>\n",
       "<table border=\"1\" class=\"dataframe\">\n",
       "  <thead>\n",
       "    <tr style=\"text-align: right;\">\n",
       "      <th></th>\n",
       "      <th>W0</th>\n",
       "      <th>v0</th>\n",
       "      <th>y</th>\n",
       "      <th>propensity_score</th>\n",
       "      <th>weight</th>\n",
       "    </tr>\n",
       "  </thead>\n",
       "  <tbody>\n",
       "    <tr>\n",
       "      <th>0</th>\n",
       "      <td>-1.604470</td>\n",
       "      <td>False</td>\n",
       "      <td>-1.066171</td>\n",
       "      <td>0.803883</td>\n",
       "      <td>1.243962</td>\n",
       "    </tr>\n",
       "    <tr>\n",
       "      <th>1</th>\n",
       "      <td>-1.764266</td>\n",
       "      <td>False</td>\n",
       "      <td>0.033907</td>\n",
       "      <td>0.825890</td>\n",
       "      <td>1.210815</td>\n",
       "    </tr>\n",
       "    <tr>\n",
       "      <th>2</th>\n",
       "      <td>-1.917766</td>\n",
       "      <td>False</td>\n",
       "      <td>-0.587338</td>\n",
       "      <td>0.845149</td>\n",
       "      <td>1.183223</td>\n",
       "    </tr>\n",
       "    <tr>\n",
       "      <th>3</th>\n",
       "      <td>-1.067304</td>\n",
       "      <td>False</td>\n",
       "      <td>-0.484437</td>\n",
       "      <td>0.715012</td>\n",
       "      <td>1.398578</td>\n",
       "    </tr>\n",
       "    <tr>\n",
       "      <th>4</th>\n",
       "      <td>1.065218</td>\n",
       "      <td>False</td>\n",
       "      <td>1.274545</td>\n",
       "      <td>0.263285</td>\n",
       "      <td>3.798167</td>\n",
       "    </tr>\n",
       "    <tr>\n",
       "      <th>...</th>\n",
       "      <td>...</td>\n",
       "      <td>...</td>\n",
       "      <td>...</td>\n",
       "      <td>...</td>\n",
       "      <td>...</td>\n",
       "    </tr>\n",
       "    <tr>\n",
       "      <th>995</th>\n",
       "      <td>-1.194951</td>\n",
       "      <td>False</td>\n",
       "      <td>-1.182236</td>\n",
       "      <td>0.738175</td>\n",
       "      <td>1.354693</td>\n",
       "    </tr>\n",
       "    <tr>\n",
       "      <th>996</th>\n",
       "      <td>-0.912003</td>\n",
       "      <td>False</td>\n",
       "      <td>-0.175941</td>\n",
       "      <td>0.685234</td>\n",
       "      <td>1.459356</td>\n",
       "    </tr>\n",
       "    <tr>\n",
       "      <th>997</th>\n",
       "      <td>-1.101601</td>\n",
       "      <td>False</td>\n",
       "      <td>-0.836830</td>\n",
       "      <td>0.721355</td>\n",
       "      <td>1.386279</td>\n",
       "    </tr>\n",
       "    <tr>\n",
       "      <th>998</th>\n",
       "      <td>-1.514791</td>\n",
       "      <td>False</td>\n",
       "      <td>-0.454329</td>\n",
       "      <td>0.790641</td>\n",
       "      <td>1.264797</td>\n",
       "    </tr>\n",
       "    <tr>\n",
       "      <th>999</th>\n",
       "      <td>0.337481</td>\n",
       "      <td>False</td>\n",
       "      <td>0.606572</td>\n",
       "      <td>0.410012</td>\n",
       "      <td>2.438955</td>\n",
       "    </tr>\n",
       "  </tbody>\n",
       "</table>\n",
       "<p>1000 rows × 5 columns</p>\n",
       "</div>"
      ],
      "text/plain": [
       "           W0     v0         y  propensity_score    weight\n",
       "0   -1.604470  False -1.066171          0.803883  1.243962\n",
       "1   -1.764266  False  0.033907          0.825890  1.210815\n",
       "2   -1.917766  False -0.587338          0.845149  1.183223\n",
       "3   -1.067304  False -0.484437          0.715012  1.398578\n",
       "4    1.065218  False  1.274545          0.263285  3.798167\n",
       "..        ...    ...       ...               ...       ...\n",
       "995 -1.194951  False -1.182236          0.738175  1.354693\n",
       "996 -0.912003  False -0.175941          0.685234  1.459356\n",
       "997 -1.101601  False -0.836830          0.721355  1.386279\n",
       "998 -1.514791  False -0.454329          0.790641  1.264797\n",
       "999  0.337481  False  0.606572          0.410012  2.438955\n",
       "\n",
       "[1000 rows x 5 columns]"
      ]
     },
     "execution_count": 6,
     "metadata": {},
     "output_type": "execute_result"
    }
   ],
   "source": [
    "cdf_0"
   ]
  },
  {
   "cell_type": "code",
   "execution_count": 7,
   "metadata": {
    "execution": {
     "iopub.execute_input": "2023-07-14T01:17:35.657905Z",
     "iopub.status.busy": "2023-07-14T01:17:35.657570Z",
     "iopub.status.idle": "2023-07-14T01:17:35.669216Z",
     "shell.execute_reply": "2023-07-14T01:17:35.668476Z"
    }
   },
   "outputs": [
    {
     "data": {
      "text/html": [
       "<div>\n",
       "<style scoped>\n",
       "    .dataframe tbody tr th:only-of-type {\n",
       "        vertical-align: middle;\n",
       "    }\n",
       "\n",
       "    .dataframe tbody tr th {\n",
       "        vertical-align: top;\n",
       "    }\n",
       "\n",
       "    .dataframe thead th {\n",
       "        text-align: right;\n",
       "    }\n",
       "</style>\n",
       "<table border=\"1\" class=\"dataframe\">\n",
       "  <thead>\n",
       "    <tr style=\"text-align: right;\">\n",
       "      <th></th>\n",
       "      <th>W0</th>\n",
       "      <th>v0</th>\n",
       "      <th>y</th>\n",
       "      <th>propensity_score</th>\n",
       "      <th>weight</th>\n",
       "    </tr>\n",
       "  </thead>\n",
       "  <tbody>\n",
       "    <tr>\n",
       "      <th>0</th>\n",
       "      <td>-0.391842</td>\n",
       "      <td>True</td>\n",
       "      <td>5.158125</td>\n",
       "      <td>0.424927</td>\n",
       "      <td>2.353343</td>\n",
       "    </tr>\n",
       "    <tr>\n",
       "      <th>1</th>\n",
       "      <td>-1.261700</td>\n",
       "      <td>True</td>\n",
       "      <td>2.987902</td>\n",
       "      <td>0.250208</td>\n",
       "      <td>3.996671</td>\n",
       "    </tr>\n",
       "    <tr>\n",
       "      <th>2</th>\n",
       "      <td>-0.645624</td>\n",
       "      <td>True</td>\n",
       "      <td>3.196358</td>\n",
       "      <td>0.369468</td>\n",
       "      <td>2.706591</td>\n",
       "    </tr>\n",
       "    <tr>\n",
       "      <th>3</th>\n",
       "      <td>-1.243338</td>\n",
       "      <td>True</td>\n",
       "      <td>1.545910</td>\n",
       "      <td>0.253370</td>\n",
       "      <td>3.946805</td>\n",
       "    </tr>\n",
       "    <tr>\n",
       "      <th>4</th>\n",
       "      <td>0.050677</td>\n",
       "      <td>True</td>\n",
       "      <td>7.452294</td>\n",
       "      <td>0.525433</td>\n",
       "      <td>1.903191</td>\n",
       "    </tr>\n",
       "    <tr>\n",
       "      <th>...</th>\n",
       "      <td>...</td>\n",
       "      <td>...</td>\n",
       "      <td>...</td>\n",
       "      <td>...</td>\n",
       "      <td>...</td>\n",
       "    </tr>\n",
       "    <tr>\n",
       "      <th>995</th>\n",
       "      <td>-1.499040</td>\n",
       "      <td>True</td>\n",
       "      <td>1.713567</td>\n",
       "      <td>0.211752</td>\n",
       "      <td>4.722504</td>\n",
       "    </tr>\n",
       "    <tr>\n",
       "      <th>996</th>\n",
       "      <td>-1.397529</td>\n",
       "      <td>True</td>\n",
       "      <td>4.695231</td>\n",
       "      <td>0.227650</td>\n",
       "      <td>4.392715</td>\n",
       "    </tr>\n",
       "    <tr>\n",
       "      <th>997</th>\n",
       "      <td>-0.377572</td>\n",
       "      <td>True</td>\n",
       "      <td>5.143570</td>\n",
       "      <td>0.428117</td>\n",
       "      <td>2.335810</td>\n",
       "    </tr>\n",
       "    <tr>\n",
       "      <th>998</th>\n",
       "      <td>-0.979914</td>\n",
       "      <td>True</td>\n",
       "      <td>4.543024</td>\n",
       "      <td>0.301537</td>\n",
       "      <td>3.316345</td>\n",
       "    </tr>\n",
       "    <tr>\n",
       "      <th>999</th>\n",
       "      <td>-2.457920</td>\n",
       "      <td>True</td>\n",
       "      <td>2.707634</td>\n",
       "      <td>0.100591</td>\n",
       "      <td>9.941241</td>\n",
       "    </tr>\n",
       "  </tbody>\n",
       "</table>\n",
       "<p>1000 rows × 5 columns</p>\n",
       "</div>"
      ],
      "text/plain": [
       "           W0    v0         y  propensity_score    weight\n",
       "0   -0.391842  True  5.158125          0.424927  2.353343\n",
       "1   -1.261700  True  2.987902          0.250208  3.996671\n",
       "2   -0.645624  True  3.196358          0.369468  2.706591\n",
       "3   -1.243338  True  1.545910          0.253370  3.946805\n",
       "4    0.050677  True  7.452294          0.525433  1.903191\n",
       "..        ...   ...       ...               ...       ...\n",
       "995 -1.499040  True  1.713567          0.211752  4.722504\n",
       "996 -1.397529  True  4.695231          0.227650  4.392715\n",
       "997 -0.377572  True  5.143570          0.428117  2.335810\n",
       "998 -0.979914  True  4.543024          0.301537  3.316345\n",
       "999 -2.457920  True  2.707634          0.100591  9.941241\n",
       "\n",
       "[1000 rows x 5 columns]"
      ]
     },
     "execution_count": 7,
     "metadata": {},
     "output_type": "execute_result"
    }
   ],
   "source": [
    "cdf_1"
   ]
  },
  {
   "cell_type": "markdown",
   "metadata": {},
   "source": [
    "## Comparing the estimate to Linear Regression\n",
    "First, estimating the effect using the causal data frame, and the 95% confidence interval."
   ]
  },
  {
   "cell_type": "code",
   "execution_count": 8,
   "metadata": {
    "execution": {
     "iopub.execute_input": "2023-07-14T01:17:35.673351Z",
     "iopub.status.busy": "2023-07-14T01:17:35.672738Z",
     "iopub.status.idle": "2023-07-14T01:17:35.741950Z",
     "shell.execute_reply": "2023-07-14T01:17:35.741120Z"
    }
   },
   "outputs": [
    {
     "data": {
      "image/png": "[encoded data removed]",
      "text/latex": [
       "$\\displaystyle 4.92798589096241$"
      ],
      "text/plain": [
       "4.927985890962409"
      ]
     },
     "execution_count": 8,
     "metadata": {},
     "output_type": "execute_result"
    }
   ],
   "source": [
    "(cdf_1['y'] - cdf_0['y']).mean()"
   ]
  },
  {
   "cell_type": "code",
   "execution_count": 9,
   "metadata": {
    "execution": {
     "iopub.execute_input": "2023-07-14T01:17:35.745783Z",
     "iopub.status.busy": "2023-07-14T01:17:35.745363Z",
     "iopub.status.idle": "2023-07-14T01:17:35.767509Z",
     "shell.execute_reply": "2023-07-14T01:17:35.766709Z"
    }
   },
   "outputs": [
    {
     "data": {
      "image/png": "[encoded data removed]",
      "text/latex": [
       "$\\displaystyle 0.125758505155797$"
      ],
      "text/plain": [
       "0.1257585051557968"
      ]
     },
     "execution_count": 9,
     "metadata": {},
     "output_type": "execute_result"
    }
   ],
   "source": [
    "1.96*(cdf_1['y'] - cdf_0['y']).std() / np.sqrt(len(df))"
   ]
  },
  {
   "cell_type": "markdown",
   "metadata": {},
   "source": [
    "Comparing to the estimate from OLS."
   ]
  },
  {
   "cell_type": "code",
   "execution_count": 10,
   "metadata": {
    "execution": {
     "iopub.execute_input": "2023-07-14T01:17:35.772072Z",
     "iopub.status.busy": "2023-07-14T01:17:35.771455Z",
     "iopub.status.idle": "2023-07-14T01:17:35.795508Z",
     "shell.execute_reply": "2023-07-14T01:17:35.793381Z"
    }
   },
   "outputs": [
    {
     "data": {
      "text/html": [
       "<table class=\"simpletable\">\n",
       "<caption>OLS Regression Results</caption>\n",
       "<tr>\n",
       "  <th>Dep. Variable:</th>            <td>y</td>        <th>  R-squared (uncentered):</th>      <td>   0.909</td>\n",
       "</tr>\n",
       "<tr>\n",
       "  <th>Model:</th>                   <td>OLS</td>       <th>  Adj. R-squared (uncentered):</th> <td>   0.908</td>\n",
       "</tr>\n",
       "<tr>\n",
       "  <th>Method:</th>             <td>Least Squares</td>  <th>  F-statistic:       </th>          <td>   4963.</td>\n",
       "</tr>\n",
       "<tr>\n",
       "  <th>Date:</th>             <td>Fri, 14 Jul 2023</td> <th>  Prob (F-statistic):</th>           <td>  0.00</td> \n",
       "</tr>\n",
       "<tr>\n",
       "  <th>Time:</th>                 <td>01:17:35</td>     <th>  Log-Likelihood:    </th>          <td> -1398.0</td>\n",
       "</tr>\n",
       "<tr>\n",
       "  <th>No. Observations:</th>      <td>  1000</td>      <th>  AIC:               </th>          <td>   2800.</td>\n",
       "</tr>\n",
       "<tr>\n",
       "  <th>Df Residuals:</th>          <td>   998</td>      <th>  BIC:               </th>          <td>   2810.</td>\n",
       "</tr>\n",
       "<tr>\n",
       "  <th>Df Model:</th>              <td>     2</td>      <th>                     </th>              <td> </td>   \n",
       "</tr>\n",
       "<tr>\n",
       "  <th>Covariance Type:</th>      <td>nonrobust</td>    <th>                     </th>              <td> </td>   \n",
       "</tr>\n",
       "</table>\n",
       "<table class=\"simpletable\">\n",
       "<tr>\n",
       "   <td></td>     <th>coef</th>     <th>std err</th>      <th>t</th>      <th>P>|t|</th>  <th>[0.025</th>    <th>0.975]</th>  \n",
       "</tr>\n",
       "<tr>\n",
       "  <th>x1</th> <td>    0.9862</td> <td>    0.024</td> <td>   40.650</td> <td> 0.000</td> <td>    0.939</td> <td>    1.034</td>\n",
       "</tr>\n",
       "<tr>\n",
       "  <th>x2</th> <td>    4.9656</td> <td>    0.052</td> <td>   95.537</td> <td> 0.000</td> <td>    4.864</td> <td>    5.068</td>\n",
       "</tr>\n",
       "</table>\n",
       "<table class=\"simpletable\">\n",
       "<tr>\n",
       "  <th>Omnibus:</th>       <td> 6.199</td> <th>  Durbin-Watson:     </th> <td>   2.106</td>\n",
       "</tr>\n",
       "<tr>\n",
       "  <th>Prob(Omnibus):</th> <td> 0.045</td> <th>  Jarque-Bera (JB):  </th> <td>   4.896</td>\n",
       "</tr>\n",
       "<tr>\n",
       "  <th>Skew:</th>          <td> 0.066</td> <th>  Prob(JB):          </th> <td>  0.0864</td>\n",
       "</tr>\n",
       "<tr>\n",
       "  <th>Kurtosis:</th>      <td> 2.684</td> <th>  Cond. No.          </th> <td>    2.17</td>\n",
       "</tr>\n",
       "</table><br/><br/>Notes:<br/>[1] R² is computed without centering (uncentered) since the model does not contain a constant.<br/>[2] Standard Errors assume that the covariance matrix of the errors is correctly specified."
      ],
      "text/plain": [
       "<class 'statsmodels.iolib.summary.Summary'>\n",
       "\"\"\"\n",
       "                                 OLS Regression Results                                \n",
       "=======================================================================================\n",
       "Dep. Variable:                      y   R-squared (uncentered):                   0.909\n",
       "Model:                            OLS   Adj. R-squared (uncentered):              0.908\n",
       "Method:                 Least Squares   F-statistic:                              4963.\n",
       "Date:                Fri, 14 Jul 2023   Prob (F-statistic):                        0.00\n",
       "Time:                        01:17:35   Log-Likelihood:                         -1398.0\n",
       "No. Observations:                1000   AIC:                                      2800.\n",
       "Df Residuals:                     998   BIC:                                      2810.\n",
       "Df Model:                           2                                                  \n",
       "Covariance Type:            nonrobust                                                  \n",
       "==============================================================================\n",
       "                 coef    std err          t      P>|t|      [0.025      0.975]\n",
       "------------------------------------------------------------------------------\n",
       "x1             0.9862      0.024     40.650      0.000       0.939       1.034\n",
       "x2             4.9656      0.052     95.537      0.000       4.864       5.068\n",
       "==============================================================================\n",
       "Omnibus:                        6.199   Durbin-Watson:                   2.106\n",
       "Prob(Omnibus):                  0.045   Jarque-Bera (JB):                4.896\n",
       "Skew:                           0.066   Prob(JB):                       0.0864\n",
       "Kurtosis:                       2.684   Cond. No.                         2.17\n",
       "==============================================================================\n",
       "\n",
       "Notes:\n",
       "[1] R² is computed without centering (uncentered) since the model does not contain a constant.\n",
       "[2] Standard Errors assume that the covariance matrix of the errors is correctly specified.\n",
       "\"\"\""
      ]
     },
     "execution_count": 10,
     "metadata": {},
     "output_type": "execute_result"
    }
   ],
   "source": [
    "model = OLS(np.asarray(df[outcome]), np.asarray(df[[common_cause, treatment]], dtype=np.float64))\n",
    "result = model.fit()\n",
    "result.summary()"
   ]
  }
 ],
 "metadata": {
  "kernelspec": {
   "display_name": "Python 3",
   "language": "python",
   "name": "python3"
  },
  "language_info": {
   "codemirror_mode": {
    "name": "ipython",
    "version": 3
   },
   "file_extension": ".py",
   "mimetype": "text/x-python",
   "name": "python",
   "nbconvert_exporter": "python",
   "pygments_lexer": "ipython3",
   "version": "3.8.10"
  },
  "toc": {
   "base_numbering": 1,
   "nav_menu": {},
   "number_sections": false,
   "sideBar": true,
   "skip_h1_title": true,
   "title_cell": "Table of Contents",
   "title_sidebar": "Contents",
   "toc_cell": false,
   "toc_position": {},
   "toc_section_display": true,
   "toc_window_display": false
  }
 },
 "nbformat": 4,
 "nbformat_minor": 4
}
