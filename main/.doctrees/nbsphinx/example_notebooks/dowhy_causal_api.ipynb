{
 "cells": [
  {
   "cell_type": "markdown",
   "metadata": {},
   "source": [
    "# Demo for the DoWhy causal API\n",
    "We show a simple example of adding a causal extension to any dataframe. "
   ]
  },
  {
   "cell_type": "code",
   "execution_count": 1,
   "metadata": {
    "execution": {
     "iopub.execute_input": "2024-06-05T15:59:35.170867Z",
     "iopub.status.busy": "2024-06-05T15:59:35.170499Z",
     "iopub.status.idle": "2024-06-05T15:59:36.629015Z",
     "shell.execute_reply": "2024-06-05T15:59:36.628419Z"
    }
   },
   "outputs": [],
   "source": [
    "import dowhy.datasets\n",
    "import dowhy.api\n",
    "from dowhy.graph import build_graph_from_str\n",
    "\n",
    "import numpy as np\n",
    "import pandas as pd\n",
    "\n",
    "from statsmodels.api import OLS"
   ]
  },
  {
   "cell_type": "code",
   "execution_count": 2,
   "metadata": {
    "execution": {
     "iopub.execute_input": "2024-06-05T15:59:36.631968Z",
     "iopub.status.busy": "2024-06-05T15:59:36.631385Z",
     "iopub.status.idle": "2024-06-05T15:59:36.670152Z",
     "shell.execute_reply": "2024-06-05T15:59:36.669562Z"
    }
   },
   "outputs": [
    {
     "data": {
      "text/html": [
       "<div>\n",
       "<style scoped>\n",
       "    .dataframe tbody tr th:only-of-type {\n",
       "        vertical-align: middle;\n",
       "    }\n",
       "\n",
       "    .dataframe tbody tr th {\n",
       "        vertical-align: top;\n",
       "    }\n",
       "\n",
       "    .dataframe thead th {\n",
       "        text-align: right;\n",
       "    }\n",
       "</style>\n",
       "<table border=\"1\" class=\"dataframe\">\n",
       "  <thead>\n",
       "    <tr style=\"text-align: right;\">\n",
       "      <th></th>\n",
       "      <th>W0</th>\n",
       "      <th>v0</th>\n",
       "      <th>y</th>\n",
       "    </tr>\n",
       "  </thead>\n",
       "  <tbody>\n",
       "    <tr>\n",
       "      <th>0</th>\n",
       "      <td>0.223955</td>\n",
       "      <td>True</td>\n",
       "      <td>6.603665</td>\n",
       "    </tr>\n",
       "    <tr>\n",
       "      <th>1</th>\n",
       "      <td>-0.104736</td>\n",
       "      <td>False</td>\n",
       "      <td>-0.636171</td>\n",
       "    </tr>\n",
       "    <tr>\n",
       "      <th>2</th>\n",
       "      <td>1.602223</td>\n",
       "      <td>True</td>\n",
       "      <td>7.547777</td>\n",
       "    </tr>\n",
       "    <tr>\n",
       "      <th>3</th>\n",
       "      <td>0.113817</td>\n",
       "      <td>False</td>\n",
       "      <td>0.547770</td>\n",
       "    </tr>\n",
       "    <tr>\n",
       "      <th>4</th>\n",
       "      <td>-0.101027</td>\n",
       "      <td>True</td>\n",
       "      <td>4.827557</td>\n",
       "    </tr>\n",
       "    <tr>\n",
       "      <th>...</th>\n",
       "      <td>...</td>\n",
       "      <td>...</td>\n",
       "      <td>...</td>\n",
       "    </tr>\n",
       "    <tr>\n",
       "      <th>995</th>\n",
       "      <td>1.771079</td>\n",
       "      <td>True</td>\n",
       "      <td>8.978327</td>\n",
       "    </tr>\n",
       "    <tr>\n",
       "      <th>996</th>\n",
       "      <td>1.369655</td>\n",
       "      <td>False</td>\n",
       "      <td>3.915913</td>\n",
       "    </tr>\n",
       "    <tr>\n",
       "      <th>997</th>\n",
       "      <td>1.625225</td>\n",
       "      <td>True</td>\n",
       "      <td>8.920804</td>\n",
       "    </tr>\n",
       "    <tr>\n",
       "      <th>998</th>\n",
       "      <td>1.097352</td>\n",
       "      <td>True</td>\n",
       "      <td>6.092917</td>\n",
       "    </tr>\n",
       "    <tr>\n",
       "      <th>999</th>\n",
       "      <td>-0.005767</td>\n",
       "      <td>True</td>\n",
       "      <td>4.531997</td>\n",
       "    </tr>\n",
       "  </tbody>\n",
       "</table>\n",
       "<p>1000 rows × 3 columns</p>\n",
       "</div>"
      ],
      "text/plain": [
       "           W0     v0         y\n",
       "0    0.223955   True  6.603665\n",
       "1   -0.104736  False -0.636171\n",
       "2    1.602223   True  7.547777\n",
       "3    0.113817  False  0.547770\n",
       "4   -0.101027   True  4.827557\n",
       "..        ...    ...       ...\n",
       "995  1.771079   True  8.978327\n",
       "996  1.369655  False  3.915913\n",
       "997  1.625225   True  8.920804\n",
       "998  1.097352   True  6.092917\n",
       "999 -0.005767   True  4.531997\n",
       "\n",
       "[1000 rows x 3 columns]"
      ]
     },
     "execution_count": 2,
     "metadata": {},
     "output_type": "execute_result"
    }
   ],
   "source": [
    "data = dowhy.datasets.linear_dataset(beta=5,\n",
    "        num_common_causes=1,\n",
    "        num_instruments = 0,\n",
    "        num_samples=1000,\n",
    "        treatment_is_binary=True)\n",
    "df = data['df']\n",
    "df['y'] = df['y'] + np.random.normal(size=len(df)) # Adding noise to data. Without noise, the variance in Y|X, Z is zero, and mcmc fails.\n",
    "nx_graph = build_graph_from_str(data[\"dot_graph\"])\n",
    "\n",
    "treatment= data[\"treatment_name\"][0]\n",
    "outcome = data[\"outcome_name\"][0]\n",
    "common_cause = data[\"common_causes_names\"][0]\n",
    "df"
   ]
  },
  {
   "cell_type": "code",
   "execution_count": 3,
   "metadata": {
    "execution": {
     "iopub.execute_input": "2024-06-05T15:59:36.672439Z",
     "iopub.status.busy": "2024-06-05T15:59:36.672240Z",
     "iopub.status.idle": "2024-06-05T15:59:36.854343Z",
     "shell.execute_reply": "2024-06-05T15:59:36.853839Z"
    },
    "scrolled": true
   },
   "outputs": [
    {
     "data": {
      "text/plain": [
       "<Axes: xlabel='v0'>"
      ]
     },
     "execution_count": 3,
     "metadata": {},
     "output_type": "execute_result"
    },
    {
     "data": {
      "image/png": "[encoded data removed]",
      "text/plain": [
       "<Figure size 640x480 with 1 Axes>"
      ]
     },
     "metadata": {},
     "output_type": "display_data"
    }
   ],
   "source": [
    "# data['df'] is just a regular pandas.DataFrame\n",
    "df.causal.do(x=treatment,\n",
    "             variable_types={treatment: 'b', outcome: 'c', common_cause: 'c'},\n",
    "             outcome=outcome,\n",
    "             common_causes=[common_cause],\n",
    "            ).groupby(treatment).mean().plot(y=outcome, kind='bar')"
   ]
  },
  {
   "cell_type": "code",
   "execution_count": 4,
   "metadata": {
    "execution": {
     "iopub.execute_input": "2024-06-05T15:59:36.856691Z",
     "iopub.status.busy": "2024-06-05T15:59:36.856386Z",
     "iopub.status.idle": "2024-06-05T15:59:36.966535Z",
     "shell.execute_reply": "2024-06-05T15:59:36.965828Z"
    }
   },
   "outputs": [
    {
     "data": {
      "text/plain": [
       "<Axes: xlabel='v0'>"
      ]
     },
     "execution_count": 4,
     "metadata": {},
     "output_type": "execute_result"
    },
    {
     "data": {
      "image/png": "[encoded data removed]",
      "text/plain": [
       "<Figure size 640x480 with 1 Axes>"
      ]
     },
     "metadata": {},
     "output_type": "display_data"
    }
   ],
   "source": [
    "df.causal.do(x={treatment: 1}, \n",
    "              variable_types={treatment:'b', outcome: 'c', common_cause: 'c'}, \n",
    "              outcome=outcome,\n",
    "              method='weighting', \n",
    "              common_causes=[common_cause]\n",
    "              ).groupby(treatment).mean().plot(y=outcome, kind='bar')"
   ]
  },
  {
   "cell_type": "code",
   "execution_count": 5,
   "metadata": {
    "execution": {
     "iopub.execute_input": "2024-06-05T15:59:36.968957Z",
     "iopub.status.busy": "2024-06-05T15:59:36.968760Z",
     "iopub.status.idle": "2024-06-05T15:59:36.991130Z",
     "shell.execute_reply": "2024-06-05T15:59:36.990437Z"
    }
   },
   "outputs": [],
   "source": [
    "cdf_1 = df.causal.do(x={treatment: 1}, \n",
    "              variable_types={treatment: 'b', outcome: 'c', common_cause: 'c'}, \n",
    "              outcome=outcome, \n",
    "              graph=nx_graph\n",
    "              )\n",
    "\n",
    "cdf_0 = df.causal.do(x={treatment: 0}, \n",
    "              variable_types={treatment: 'b', outcome: 'c', common_cause: 'c'}, \n",
    "              outcome=outcome, \n",
    "              graph=nx_graph\n",
    "              )\n"
   ]
  },
  {
   "cell_type": "code",
   "execution_count": 6,
   "metadata": {
    "execution": {
     "iopub.execute_input": "2024-06-05T15:59:36.993932Z",
     "iopub.status.busy": "2024-06-05T15:59:36.993542Z",
     "iopub.status.idle": "2024-06-05T15:59:37.002634Z",
     "shell.execute_reply": "2024-06-05T15:59:37.002049Z"
    },
    "scrolled": true
   },
   "outputs": [
    {
     "data": {
      "text/html": [
       "<div>\n",
       "<style scoped>\n",
       "    .dataframe tbody tr th:only-of-type {\n",
       "        vertical-align: middle;\n",
       "    }\n",
       "\n",
       "    .dataframe tbody tr th {\n",
       "        vertical-align: top;\n",
       "    }\n",
       "\n",
       "    .dataframe thead th {\n",
       "        text-align: right;\n",
       "    }\n",
       "</style>\n",
       "<table border=\"1\" class=\"dataframe\">\n",
       "  <thead>\n",
       "    <tr style=\"text-align: right;\">\n",
       "      <th></th>\n",
       "      <th>W0</th>\n",
       "      <th>v0</th>\n",
       "      <th>y</th>\n",
       "      <th>propensity_score</th>\n",
       "      <th>weight</th>\n",
       "    </tr>\n",
       "  </thead>\n",
       "  <tbody>\n",
       "    <tr>\n",
       "      <th>0</th>\n",
       "      <td>-0.884499</td>\n",
       "      <td>False</td>\n",
       "      <td>-2.745716</td>\n",
       "      <td>0.685503</td>\n",
       "      <td>1.458784</td>\n",
       "    </tr>\n",
       "    <tr>\n",
       "      <th>1</th>\n",
       "      <td>-0.953365</td>\n",
       "      <td>False</td>\n",
       "      <td>-2.318959</td>\n",
       "      <td>0.699139</td>\n",
       "      <td>1.430330</td>\n",
       "    </tr>\n",
       "    <tr>\n",
       "      <th>2</th>\n",
       "      <td>-0.416359</td>\n",
       "      <td>False</td>\n",
       "      <td>-1.964042</td>\n",
       "      <td>0.585147</td>\n",
       "      <td>1.708973</td>\n",
       "    </tr>\n",
       "    <tr>\n",
       "      <th>3</th>\n",
       "      <td>0.128028</td>\n",
       "      <td>False</td>\n",
       "      <td>1.025915</td>\n",
       "      <td>0.459541</td>\n",
       "      <td>2.176083</td>\n",
       "    </tr>\n",
       "    <tr>\n",
       "      <th>4</th>\n",
       "      <td>1.235496</td>\n",
       "      <td>False</td>\n",
       "      <td>3.715268</td>\n",
       "      <td>0.232933</td>\n",
       "      <td>4.293081</td>\n",
       "    </tr>\n",
       "    <tr>\n",
       "      <th>...</th>\n",
       "      <td>...</td>\n",
       "      <td>...</td>\n",
       "      <td>...</td>\n",
       "      <td>...</td>\n",
       "      <td>...</td>\n",
       "    </tr>\n",
       "    <tr>\n",
       "      <th>995</th>\n",
       "      <td>0.649893</td>\n",
       "      <td>False</td>\n",
       "      <td>1.114471</td>\n",
       "      <td>0.343581</td>\n",
       "      <td>2.910523</td>\n",
       "    </tr>\n",
       "    <tr>\n",
       "      <th>996</th>\n",
       "      <td>0.130593</td>\n",
       "      <td>False</td>\n",
       "      <td>-0.810910</td>\n",
       "      <td>0.458949</td>\n",
       "      <td>2.178891</td>\n",
       "    </tr>\n",
       "    <tr>\n",
       "      <th>997</th>\n",
       "      <td>1.240510</td>\n",
       "      <td>False</td>\n",
       "      <td>5.062098</td>\n",
       "      <td>0.232101</td>\n",
       "      <td>4.308468</td>\n",
       "    </tr>\n",
       "    <tr>\n",
       "      <th>998</th>\n",
       "      <td>0.589711</td>\n",
       "      <td>False</td>\n",
       "      <td>3.784525</td>\n",
       "      <td>0.356308</td>\n",
       "      <td>2.806561</td>\n",
       "    </tr>\n",
       "    <tr>\n",
       "      <th>999</th>\n",
       "      <td>0.648900</td>\n",
       "      <td>False</td>\n",
       "      <td>3.712232</td>\n",
       "      <td>0.343789</td>\n",
       "      <td>2.908760</td>\n",
       "    </tr>\n",
       "  </tbody>\n",
       "</table>\n",
       "<p>1000 rows × 5 columns</p>\n",
       "</div>"
      ],
      "text/plain": [
       "           W0     v0         y  propensity_score    weight\n",
       "0   -0.884499  False -2.745716          0.685503  1.458784\n",
       "1   -0.953365  False -2.318959          0.699139  1.430330\n",
       "2   -0.416359  False -1.964042          0.585147  1.708973\n",
       "3    0.128028  False  1.025915          0.459541  2.176083\n",
       "4    1.235496  False  3.715268          0.232933  4.293081\n",
       "..        ...    ...       ...               ...       ...\n",
       "995  0.649893  False  1.114471          0.343581  2.910523\n",
       "996  0.130593  False -0.810910          0.458949  2.178891\n",
       "997  1.240510  False  5.062098          0.232101  4.308468\n",
       "998  0.589711  False  3.784525          0.356308  2.806561\n",
       "999  0.648900  False  3.712232          0.343789  2.908760\n",
       "\n",
       "[1000 rows x 5 columns]"
      ]
     },
     "execution_count": 6,
     "metadata": {},
     "output_type": "execute_result"
    }
   ],
   "source": [
    "cdf_0"
   ]
  },
  {
   "cell_type": "code",
   "execution_count": 7,
   "metadata": {
    "execution": {
     "iopub.execute_input": "2024-06-05T15:59:37.005092Z",
     "iopub.status.busy": "2024-06-05T15:59:37.004715Z",
     "iopub.status.idle": "2024-06-05T15:59:37.013562Z",
     "shell.execute_reply": "2024-06-05T15:59:37.012921Z"
    }
   },
   "outputs": [
    {
     "data": {
      "text/html": [
       "<div>\n",
       "<style scoped>\n",
       "    .dataframe tbody tr th:only-of-type {\n",
       "        vertical-align: middle;\n",
       "    }\n",
       "\n",
       "    .dataframe tbody tr th {\n",
       "        vertical-align: top;\n",
       "    }\n",
       "\n",
       "    .dataframe thead th {\n",
       "        text-align: right;\n",
       "    }\n",
       "</style>\n",
       "<table border=\"1\" class=\"dataframe\">\n",
       "  <thead>\n",
       "    <tr style=\"text-align: right;\">\n",
       "      <th></th>\n",
       "      <th>W0</th>\n",
       "      <th>v0</th>\n",
       "      <th>y</th>\n",
       "      <th>propensity_score</th>\n",
       "      <th>weight</th>\n",
       "    </tr>\n",
       "  </thead>\n",
       "  <tbody>\n",
       "    <tr>\n",
       "      <th>0</th>\n",
       "      <td>-0.229571</td>\n",
       "      <td>True</td>\n",
       "      <td>5.784022</td>\n",
       "      <td>0.457533</td>\n",
       "      <td>2.185633</td>\n",
       "    </tr>\n",
       "    <tr>\n",
       "      <th>1</th>\n",
       "      <td>-0.079287</td>\n",
       "      <td>True</td>\n",
       "      <td>4.963895</td>\n",
       "      <td>0.492362</td>\n",
       "      <td>2.031027</td>\n",
       "    </tr>\n",
       "    <tr>\n",
       "      <th>2</th>\n",
       "      <td>2.485590</td>\n",
       "      <td>True</td>\n",
       "      <td>10.713690</td>\n",
       "      <td>0.913256</td>\n",
       "      <td>1.094983</td>\n",
       "    </tr>\n",
       "    <tr>\n",
       "      <th>3</th>\n",
       "      <td>-1.501822</td>\n",
       "      <td>True</td>\n",
       "      <td>0.391786</td>\n",
       "      <td>0.205362</td>\n",
       "      <td>4.869458</td>\n",
       "    </tr>\n",
       "    <tr>\n",
       "      <th>4</th>\n",
       "      <td>-0.241317</td>\n",
       "      <td>True</td>\n",
       "      <td>4.562608</td>\n",
       "      <td>0.454824</td>\n",
       "      <td>2.198652</td>\n",
       "    </tr>\n",
       "    <tr>\n",
       "      <th>...</th>\n",
       "      <td>...</td>\n",
       "      <td>...</td>\n",
       "      <td>...</td>\n",
       "      <td>...</td>\n",
       "      <td>...</td>\n",
       "    </tr>\n",
       "    <tr>\n",
       "      <th>995</th>\n",
       "      <td>1.324049</td>\n",
       "      <td>True</td>\n",
       "      <td>9.199398</td>\n",
       "      <td>0.781453</td>\n",
       "      <td>1.279668</td>\n",
       "    </tr>\n",
       "    <tr>\n",
       "      <th>996</th>\n",
       "      <td>0.549160</td>\n",
       "      <td>True</td>\n",
       "      <td>4.746982</td>\n",
       "      <td>0.634999</td>\n",
       "      <td>1.574805</td>\n",
       "    </tr>\n",
       "    <tr>\n",
       "      <th>997</th>\n",
       "      <td>0.854670</td>\n",
       "      <td>True</td>\n",
       "      <td>6.877229</td>\n",
       "      <td>0.697994</td>\n",
       "      <td>1.432678</td>\n",
       "    </tr>\n",
       "    <tr>\n",
       "      <th>998</th>\n",
       "      <td>0.455197</td>\n",
       "      <td>True</td>\n",
       "      <td>8.019485</td>\n",
       "      <td>0.614523</td>\n",
       "      <td>1.627279</td>\n",
       "    </tr>\n",
       "    <tr>\n",
       "      <th>999</th>\n",
       "      <td>0.882383</td>\n",
       "      <td>True</td>\n",
       "      <td>6.360417</td>\n",
       "      <td>0.703397</td>\n",
       "      <td>1.421672</td>\n",
       "    </tr>\n",
       "  </tbody>\n",
       "</table>\n",
       "<p>1000 rows × 5 columns</p>\n",
       "</div>"
      ],
      "text/plain": [
       "           W0    v0          y  propensity_score    weight\n",
       "0   -0.229571  True   5.784022          0.457533  2.185633\n",
       "1   -0.079287  True   4.963895          0.492362  2.031027\n",
       "2    2.485590  True  10.713690          0.913256  1.094983\n",
       "3   -1.501822  True   0.391786          0.205362  4.869458\n",
       "4   -0.241317  True   4.562608          0.454824  2.198652\n",
       "..        ...   ...        ...               ...       ...\n",
       "995  1.324049  True   9.199398          0.781453  1.279668\n",
       "996  0.549160  True   4.746982          0.634999  1.574805\n",
       "997  0.854670  True   6.877229          0.697994  1.432678\n",
       "998  0.455197  True   8.019485          0.614523  1.627279\n",
       "999  0.882383  True   6.360417          0.703397  1.421672\n",
       "\n",
       "[1000 rows x 5 columns]"
      ]
     },
     "execution_count": 7,
     "metadata": {},
     "output_type": "execute_result"
    }
   ],
   "source": [
    "cdf_1"
   ]
  },
  {
   "cell_type": "markdown",
   "metadata": {},
   "source": [
    "## Comparing the estimate to Linear Regression\n",
    "First, estimating the effect using the causal data frame, and the 95% confidence interval."
   ]
  },
  {
   "cell_type": "code",
   "execution_count": 8,
   "metadata": {
    "execution": {
     "iopub.execute_input": "2024-06-05T15:59:37.016084Z",
     "iopub.status.busy": "2024-06-05T15:59:37.015636Z",
     "iopub.status.idle": "2024-06-05T15:59:37.062112Z",
     "shell.execute_reply": "2024-06-05T15:59:37.061465Z"
    }
   },
   "outputs": [
    {
     "data": {
      "image/png": "[encoded data removed]",
      "text/latex": [
       "$\\displaystyle 5.115640686723$"
      ],
      "text/plain": [
       "5.115640686723002"
      ]
     },
     "execution_count": 8,
     "metadata": {},
     "output_type": "execute_result"
    }
   ],
   "source": [
    "(cdf_1['y'] - cdf_0['y']).mean()"
   ]
  },
  {
   "cell_type": "code",
   "execution_count": 9,
   "metadata": {
    "execution": {
     "iopub.execute_input": "2024-06-05T15:59:37.064571Z",
     "iopub.status.busy": "2024-06-05T15:59:37.064135Z",
     "iopub.status.idle": "2024-06-05T15:59:37.079619Z",
     "shell.execute_reply": "2024-06-05T15:59:37.079051Z"
    }
   },
   "outputs": [
    {
     "data": {
      "image/png": "[encoded data removed]",
      "text/latex": [
       "$\\displaystyle 0.24056094772794$"
      ],
      "text/plain": [
       "0.2405609477279404"
      ]
     },
     "execution_count": 9,
     "metadata": {},
     "output_type": "execute_result"
    }
   ],
   "source": [
    "1.96*(cdf_1['y'] - cdf_0['y']).std() / np.sqrt(len(df))"
   ]
  },
  {
   "cell_type": "markdown",
   "metadata": {},
   "source": [
    "Comparing to the estimate from OLS."
   ]
  },
  {
   "cell_type": "code",
   "execution_count": 10,
   "metadata": {
    "execution": {
     "iopub.execute_input": "2024-06-05T15:59:37.081911Z",
     "iopub.status.busy": "2024-06-05T15:59:37.081571Z",
     "iopub.status.idle": "2024-06-05T15:59:37.098557Z",
     "shell.execute_reply": "2024-06-05T15:59:37.097983Z"
    }
   },
   "outputs": [
    {
     "data": {
      "text/html": [
       "<table class=\"simpletable\">\n",
       "<caption>OLS Regression Results</caption>\n",
       "<tr>\n",
       "  <th>Dep. Variable:</th>            <td>y</td>        <th>  R-squared (uncentered):</th>      <td>   0.972</td> \n",
       "</tr>\n",
       "<tr>\n",
       "  <th>Model:</th>                   <td>OLS</td>       <th>  Adj. R-squared (uncentered):</th> <td>   0.972</td> \n",
       "</tr>\n",
       "<tr>\n",
       "  <th>Method:</th>             <td>Least Squares</td>  <th>  F-statistic:       </th>          <td>1.740e+04</td>\n",
       "</tr>\n",
       "<tr>\n",
       "  <th>Date:</th>             <td>Wed, 05 Jun 2024</td> <th>  Prob (F-statistic):</th>           <td>  0.00</td>  \n",
       "</tr>\n",
       "<tr>\n",
       "  <th>Time:</th>                 <td>15:59:37</td>     <th>  Log-Likelihood:    </th>          <td> -1447.4</td> \n",
       "</tr>\n",
       "<tr>\n",
       "  <th>No. Observations:</th>      <td>  1000</td>      <th>  AIC:               </th>          <td>   2899.</td> \n",
       "</tr>\n",
       "<tr>\n",
       "  <th>Df Residuals:</th>          <td>   998</td>      <th>  BIC:               </th>          <td>   2909.</td> \n",
       "</tr>\n",
       "<tr>\n",
       "  <th>Df Model:</th>              <td>     2</td>      <th>                     </th>              <td> </td>    \n",
       "</tr>\n",
       "<tr>\n",
       "  <th>Covariance Type:</th>      <td>nonrobust</td>    <th>                     </th>              <td> </td>    \n",
       "</tr>\n",
       "</table>\n",
       "<table class=\"simpletable\">\n",
       "<tr>\n",
       "   <td></td>     <th>coef</th>     <th>std err</th>      <th>t</th>      <th>P>|t|</th>  <th>[0.025</th>    <th>0.975]</th>  \n",
       "</tr>\n",
       "<tr>\n",
       "  <th>x1</th> <td>    2.5031</td> <td>    0.035</td> <td>   70.603</td> <td> 0.000</td> <td>    2.434</td> <td>    2.573</td>\n",
       "</tr>\n",
       "<tr>\n",
       "  <th>x2</th> <td>    5.0544</td> <td>    0.051</td> <td>   98.550</td> <td> 0.000</td> <td>    4.954</td> <td>    5.155</td>\n",
       "</tr>\n",
       "</table>\n",
       "<table class=\"simpletable\">\n",
       "<tr>\n",
       "  <th>Omnibus:</th>       <td> 5.679</td> <th>  Durbin-Watson:     </th> <td>   1.997</td>\n",
       "</tr>\n",
       "<tr>\n",
       "  <th>Prob(Omnibus):</th> <td> 0.058</td> <th>  Jarque-Bera (JB):  </th> <td>   5.723</td>\n",
       "</tr>\n",
       "<tr>\n",
       "  <th>Skew:</th>          <td> 0.145</td> <th>  Prob(JB):          </th> <td>  0.0572</td>\n",
       "</tr>\n",
       "<tr>\n",
       "  <th>Kurtosis:</th>      <td> 3.230</td> <th>  Cond. No.          </th> <td>    2.18</td>\n",
       "</tr>\n",
       "</table><br/><br/>Notes:<br/>[1] R² is computed without centering (uncentered) since the model does not contain a constant.<br/>[2] Standard Errors assume that the covariance matrix of the errors is correctly specified."
      ],
      "text/latex": [
       "\\begin{center}\n",
       "\\begin{tabular}{lclc}\n",
       "\\toprule\n",
       "\\textbf{Dep. Variable:}    &        y         & \\textbf{  R-squared (uncentered):}      &     0.972   \\\\\n",
       "\\textbf{Model:}            &       OLS        & \\textbf{  Adj. R-squared (uncentered):} &     0.972   \\\\\n",
       "\\textbf{Method:}           &  Least Squares   & \\textbf{  F-statistic:       }          & 1.740e+04   \\\\\n",
       "\\textbf{Date:}             & Wed, 05 Jun 2024 & \\textbf{  Prob (F-statistic):}          &     0.00    \\\\\n",
       "\\textbf{Time:}             &     15:59:37     & \\textbf{  Log-Likelihood:    }          &   -1447.4   \\\\\n",
       "\\textbf{No. Observations:} &        1000      & \\textbf{  AIC:               }          &     2899.   \\\\\n",
       "\\textbf{Df Residuals:}     &         998      & \\textbf{  BIC:               }          &     2909.   \\\\\n",
       "\\textbf{Df Model:}         &           2      & \\textbf{                     }          &             \\\\\n",
       "\\textbf{Covariance Type:}  &    nonrobust     & \\textbf{                     }          &             \\\\\n",
       "\\bottomrule\n",
       "\\end{tabular}\n",
       "\\begin{tabular}{lcccccc}\n",
       "            & \\textbf{coef} & \\textbf{std err} & \\textbf{t} & \\textbf{P$> |$t$|$} & \\textbf{[0.025} & \\textbf{0.975]}  \\\\\n",
       "\\midrule\n",
       "\\textbf{x1} &       2.5031  &        0.035     &    70.603  &         0.000        &        2.434    &        2.573     \\\\\n",
       "\\textbf{x2} &       5.0544  &        0.051     &    98.550  &         0.000        &        4.954    &        5.155     \\\\\n",
       "\\bottomrule\n",
       "\\end{tabular}\n",
       "\\begin{tabular}{lclc}\n",
       "\\textbf{Omnibus:}       &  5.679 & \\textbf{  Durbin-Watson:     } &    1.997  \\\\\n",
       "\\textbf{Prob(Omnibus):} &  0.058 & \\textbf{  Jarque-Bera (JB):  } &    5.723  \\\\\n",
       "\\textbf{Skew:}          &  0.145 & \\textbf{  Prob(JB):          } &   0.0572  \\\\\n",
       "\\textbf{Kurtosis:}      &  3.230 & \\textbf{  Cond. No.          } &     2.18  \\\\\n",
       "\\bottomrule\n",
       "\\end{tabular}\n",
       "%\\caption{OLS Regression Results}\n",
       "\\end{center}\n",
       "\n",
       "Notes: \\newline\n",
       " [1] R² is computed without centering (uncentered) since the model does not contain a constant. \\newline\n",
       " [2] Standard Errors assume that the covariance matrix of the errors is correctly specified."
      ],
      "text/plain": [
       "<class 'statsmodels.iolib.summary.Summary'>\n",
       "\"\"\"\n",
       "                                 OLS Regression Results                                \n",
       "=======================================================================================\n",
       "Dep. Variable:                      y   R-squared (uncentered):                   0.972\n",
       "Model:                            OLS   Adj. R-squared (uncentered):              0.972\n",
       "Method:                 Least Squares   F-statistic:                          1.740e+04\n",
       "Date:                Wed, 05 Jun 2024   Prob (F-statistic):                        0.00\n",
       "Time:                        15:59:37   Log-Likelihood:                         -1447.4\n",
       "No. Observations:                1000   AIC:                                      2899.\n",
       "Df Residuals:                     998   BIC:                                      2909.\n",
       "Df Model:                           2                                                  \n",
       "Covariance Type:            nonrobust                                                  \n",
       "==============================================================================\n",
       "                 coef    std err          t      P>|t|      [0.025      0.975]\n",
       "------------------------------------------------------------------------------\n",
       "x1             2.5031      0.035     70.603      0.000       2.434       2.573\n",
       "x2             5.0544      0.051     98.550      0.000       4.954       5.155\n",
       "==============================================================================\n",
       "Omnibus:                        5.679   Durbin-Watson:                   1.997\n",
       "Prob(Omnibus):                  0.058   Jarque-Bera (JB):                5.723\n",
       "Skew:                           0.145   Prob(JB):                       0.0572\n",
       "Kurtosis:                       3.230   Cond. No.                         2.18\n",
       "==============================================================================\n",
       "\n",
       "Notes:\n",
       "[1] R² is computed without centering (uncentered) since the model does not contain a constant.\n",
       "[2] Standard Errors assume that the covariance matrix of the errors is correctly specified.\n",
       "\"\"\""
      ]
     },
     "execution_count": 10,
     "metadata": {},
     "output_type": "execute_result"
    }
   ],
   "source": [
    "model = OLS(np.asarray(df[outcome]), np.asarray(df[[common_cause, treatment]], dtype=np.float64))\n",
    "result = model.fit()\n",
    "result.summary()"
   ]
  }
 ],
 "metadata": {
  "kernelspec": {
   "display_name": "Python 3 (ipykernel)",
   "language": "python",
   "name": "python3"
  },
  "language_info": {
   "codemirror_mode": {
    "name": "ipython",
    "version": 3
   },
   "file_extension": ".py",
   "mimetype": "text/x-python",
   "name": "python",
   "nbconvert_exporter": "python",
   "pygments_lexer": "ipython3",
   "version": "3.8.10"
  },
  "toc": {
   "base_numbering": 1,
   "nav_menu": {},
   "number_sections": false,
   "sideBar": true,
   "skip_h1_title": true,
   "title_cell": "Table of Contents",
   "title_sidebar": "Contents",
   "toc_cell": false,
   "toc_position": {},
   "toc_section_display": true,
   "toc_window_display": false
  }
 },
 "nbformat": 4,
 "nbformat_minor": 4
}
