{
 "cells": [
  {
   "cell_type": "markdown",
   "metadata": {},
   "source": [
    "# Demo for the DoWhy causal API\n",
    "We show a simple example of adding a causal extension to any dataframe. "
   ]
  },
  {
   "cell_type": "code",
   "execution_count": 1,
   "metadata": {
    "execution": {
     "iopub.execute_input": "2023-03-16T13:42:46.839818Z",
     "iopub.status.busy": "2023-03-16T13:42:46.839592Z",
     "iopub.status.idle": "2023-03-16T13:42:48.521099Z",
     "shell.execute_reply": "2023-03-16T13:42:48.520361Z"
    }
   },
   "outputs": [],
   "source": [
    "import dowhy.datasets\n",
    "import dowhy.api\n",
    "\n",
    "import numpy as np\n",
    "import pandas as pd\n",
    "\n",
    "from statsmodels.api import OLS"
   ]
  },
  {
   "cell_type": "code",
   "execution_count": 2,
   "metadata": {
    "execution": {
     "iopub.execute_input": "2023-03-16T13:42:48.525053Z",
     "iopub.status.busy": "2023-03-16T13:42:48.524480Z",
     "iopub.status.idle": "2023-03-16T13:42:48.575732Z",
     "shell.execute_reply": "2023-03-16T13:42:48.575096Z"
    }
   },
   "outputs": [
    {
     "data": {
      "text/html": [
       "<div>\n",
       "<style scoped>\n",
       "    .dataframe tbody tr th:only-of-type {\n",
       "        vertical-align: middle;\n",
       "    }\n",
       "\n",
       "    .dataframe tbody tr th {\n",
       "        vertical-align: top;\n",
       "    }\n",
       "\n",
       "    .dataframe thead th {\n",
       "        text-align: right;\n",
       "    }\n",
       "</style>\n",
       "<table border=\"1\" class=\"dataframe\">\n",
       "  <thead>\n",
       "    <tr style=\"text-align: right;\">\n",
       "      <th></th>\n",
       "      <th>W0</th>\n",
       "      <th>v0</th>\n",
       "      <th>y</th>\n",
       "    </tr>\n",
       "  </thead>\n",
       "  <tbody>\n",
       "    <tr>\n",
       "      <th>0</th>\n",
       "      <td>-0.314016</td>\n",
       "      <td>True</td>\n",
       "      <td>4.800033</td>\n",
       "    </tr>\n",
       "    <tr>\n",
       "      <th>1</th>\n",
       "      <td>-1.617921</td>\n",
       "      <td>False</td>\n",
       "      <td>-1.464545</td>\n",
       "    </tr>\n",
       "    <tr>\n",
       "      <th>2</th>\n",
       "      <td>-1.078612</td>\n",
       "      <td>False</td>\n",
       "      <td>-0.344630</td>\n",
       "    </tr>\n",
       "    <tr>\n",
       "      <th>3</th>\n",
       "      <td>-1.051626</td>\n",
       "      <td>False</td>\n",
       "      <td>-1.376793</td>\n",
       "    </tr>\n",
       "    <tr>\n",
       "      <th>4</th>\n",
       "      <td>-0.390615</td>\n",
       "      <td>True</td>\n",
       "      <td>5.651246</td>\n",
       "    </tr>\n",
       "    <tr>\n",
       "      <th>...</th>\n",
       "      <td>...</td>\n",
       "      <td>...</td>\n",
       "      <td>...</td>\n",
       "    </tr>\n",
       "    <tr>\n",
       "      <th>995</th>\n",
       "      <td>0.911334</td>\n",
       "      <td>True</td>\n",
       "      <td>5.669229</td>\n",
       "    </tr>\n",
       "    <tr>\n",
       "      <th>996</th>\n",
       "      <td>-1.218388</td>\n",
       "      <td>False</td>\n",
       "      <td>-0.797572</td>\n",
       "    </tr>\n",
       "    <tr>\n",
       "      <th>997</th>\n",
       "      <td>-1.438858</td>\n",
       "      <td>False</td>\n",
       "      <td>-0.345815</td>\n",
       "    </tr>\n",
       "    <tr>\n",
       "      <th>998</th>\n",
       "      <td>-0.410798</td>\n",
       "      <td>False</td>\n",
       "      <td>-0.024703</td>\n",
       "    </tr>\n",
       "    <tr>\n",
       "      <th>999</th>\n",
       "      <td>-1.766401</td>\n",
       "      <td>False</td>\n",
       "      <td>-0.427621</td>\n",
       "    </tr>\n",
       "  </tbody>\n",
       "</table>\n",
       "<p>1000 rows × 3 columns</p>\n",
       "</div>"
      ],
      "text/plain": [
       "           W0     v0         y\n",
       "0   -0.314016   True  4.800033\n",
       "1   -1.617921  False -1.464545\n",
       "2   -1.078612  False -0.344630\n",
       "3   -1.051626  False -1.376793\n",
       "4   -0.390615   True  5.651246\n",
       "..        ...    ...       ...\n",
       "995  0.911334   True  5.669229\n",
       "996 -1.218388  False -0.797572\n",
       "997 -1.438858  False -0.345815\n",
       "998 -0.410798  False -0.024703\n",
       "999 -1.766401  False -0.427621\n",
       "\n",
       "[1000 rows x 3 columns]"
      ]
     },
     "execution_count": 2,
     "metadata": {},
     "output_type": "execute_result"
    }
   ],
   "source": [
    "data = dowhy.datasets.linear_dataset(beta=5,\n",
    "        num_common_causes=1,\n",
    "        num_instruments = 0,\n",
    "        num_samples=1000,\n",
    "        treatment_is_binary=True)\n",
    "df = data['df']\n",
    "df['y'] = df['y'] + np.random.normal(size=len(df)) # Adding noise to data. Without noise, the variance in Y|X, Z is zero, and mcmc fails.\n",
    "#data['dot_graph'] = 'digraph { v ->y;X0-> v;X0-> y;}'\n",
    "\n",
    "treatment= data[\"treatment_name\"][0]\n",
    "outcome = data[\"outcome_name\"][0]\n",
    "common_cause = data[\"common_causes_names\"][0]\n",
    "df"
   ]
  },
  {
   "cell_type": "code",
   "execution_count": 3,
   "metadata": {
    "execution": {
     "iopub.execute_input": "2023-03-16T13:42:48.578735Z",
     "iopub.status.busy": "2023-03-16T13:42:48.578298Z",
     "iopub.status.idle": "2023-03-16T13:42:48.732200Z",
     "shell.execute_reply": "2023-03-16T13:42:48.731537Z"
    }
   },
   "outputs": [
    {
     "data": {
      "text/plain": [
       "<AxesSubplot: xlabel='v0'>"
      ]
     },
     "execution_count": 3,
     "metadata": {},
     "output_type": "execute_result"
    },
    {
     "data": {
      "image/png": "[encoded data removed]",
      "text/plain": [
       "<Figure size 640x480 with 1 Axes>"
      ]
     },
     "metadata": {},
     "output_type": "display_data"
    }
   ],
   "source": [
    "# data['df'] is just a regular pandas.DataFrame\n",
    "df.causal.do(x=treatment,\n",
    "                     variable_types={treatment: 'b', outcome: 'c', common_cause: 'c'},\n",
    "                     outcome=outcome,\n",
    "                     common_causes=[common_cause],\n",
    "                     proceed_when_unidentifiable=True).groupby(treatment).mean().plot(y=outcome, kind='bar')"
   ]
  },
  {
   "cell_type": "code",
   "execution_count": 4,
   "metadata": {
    "execution": {
     "iopub.execute_input": "2023-03-16T13:42:48.734922Z",
     "iopub.status.busy": "2023-03-16T13:42:48.734694Z",
     "iopub.status.idle": "2023-03-16T13:42:48.848887Z",
     "shell.execute_reply": "2023-03-16T13:42:48.848256Z"
    }
   },
   "outputs": [
    {
     "data": {
      "text/plain": [
       "<AxesSubplot: xlabel='v0'>"
      ]
     },
     "execution_count": 4,
     "metadata": {},
     "output_type": "execute_result"
    },
    {
     "data": {
      "image/png": "[encoded data removed]",
      "text/plain": [
       "<Figure size 640x480 with 1 Axes>"
      ]
     },
     "metadata": {},
     "output_type": "display_data"
    }
   ],
   "source": [
    "df.causal.do(x={treatment: 1}, \n",
    "              variable_types={treatment:'b', outcome: 'c', common_cause: 'c'}, \n",
    "              outcome=outcome,\n",
    "              method='weighting', \n",
    "              common_causes=[common_cause],\n",
    "              proceed_when_unidentifiable=True).groupby(treatment).mean().plot(y=outcome, kind='bar')"
   ]
  },
  {
   "cell_type": "code",
   "execution_count": 5,
   "metadata": {
    "execution": {
     "iopub.execute_input": "2023-03-16T13:42:48.851994Z",
     "iopub.status.busy": "2023-03-16T13:42:48.851689Z",
     "iopub.status.idle": "2023-03-16T13:42:48.992341Z",
     "shell.execute_reply": "2023-03-16T13:42:48.991671Z"
    }
   },
   "outputs": [],
   "source": [
    "cdf_1 = df.causal.do(x={treatment: 1}, \n",
    "              variable_types={treatment: 'b', outcome: 'c', common_cause: 'c'}, \n",
    "              outcome=outcome, \n",
    "              dot_graph=data['dot_graph'],\n",
    "              proceed_when_unidentifiable=True)\n",
    "\n",
    "cdf_0 = df.causal.do(x={treatment: 0}, \n",
    "              variable_types={treatment: 'b', outcome: 'c', common_cause: 'c'}, \n",
    "              outcome=outcome, \n",
    "              dot_graph=data['dot_graph'],\n",
    "              proceed_when_unidentifiable=True)\n"
   ]
  },
  {
   "cell_type": "code",
   "execution_count": 6,
   "metadata": {
    "execution": {
     "iopub.execute_input": "2023-03-16T13:42:48.995560Z",
     "iopub.status.busy": "2023-03-16T13:42:48.995172Z",
     "iopub.status.idle": "2023-03-16T13:42:49.007637Z",
     "shell.execute_reply": "2023-03-16T13:42:49.007067Z"
    },
    "scrolled": true
   },
   "outputs": [
    {
     "data": {
      "text/html": [
       "<div>\n",
       "<style scoped>\n",
       "    .dataframe tbody tr th:only-of-type {\n",
       "        vertical-align: middle;\n",
       "    }\n",
       "\n",
       "    .dataframe tbody tr th {\n",
       "        vertical-align: top;\n",
       "    }\n",
       "\n",
       "    .dataframe thead th {\n",
       "        text-align: right;\n",
       "    }\n",
       "</style>\n",
       "<table border=\"1\" class=\"dataframe\">\n",
       "  <thead>\n",
       "    <tr style=\"text-align: right;\">\n",
       "      <th></th>\n",
       "      <th>W0</th>\n",
       "      <th>v0</th>\n",
       "      <th>y</th>\n",
       "      <th>propensity_score</th>\n",
       "      <th>weight</th>\n",
       "    </tr>\n",
       "  </thead>\n",
       "  <tbody>\n",
       "    <tr>\n",
       "      <th>0</th>\n",
       "      <td>-1.141956</td>\n",
       "      <td>False</td>\n",
       "      <td>-0.043405</td>\n",
       "      <td>0.915787</td>\n",
       "      <td>1.091957</td>\n",
       "    </tr>\n",
       "    <tr>\n",
       "      <th>1</th>\n",
       "      <td>0.110302</td>\n",
       "      <td>False</td>\n",
       "      <td>-0.572741</td>\n",
       "      <td>0.403207</td>\n",
       "      <td>2.480116</td>\n",
       "    </tr>\n",
       "    <tr>\n",
       "      <th>2</th>\n",
       "      <td>-0.137281</td>\n",
       "      <td>False</td>\n",
       "      <td>-1.117691</td>\n",
       "      <td>0.539226</td>\n",
       "      <td>1.854511</td>\n",
       "    </tr>\n",
       "    <tr>\n",
       "      <th>3</th>\n",
       "      <td>-0.946060</td>\n",
       "      <td>False</td>\n",
       "      <td>-0.203631</td>\n",
       "      <td>0.875640</td>\n",
       "      <td>1.142022</td>\n",
       "    </tr>\n",
       "    <tr>\n",
       "      <th>4</th>\n",
       "      <td>-3.157793</td>\n",
       "      <td>False</td>\n",
       "      <td>-0.562545</td>\n",
       "      <td>0.998951</td>\n",
       "      <td>1.001050</td>\n",
       "    </tr>\n",
       "    <tr>\n",
       "      <th>...</th>\n",
       "      <td>...</td>\n",
       "      <td>...</td>\n",
       "      <td>...</td>\n",
       "      <td>...</td>\n",
       "      <td>...</td>\n",
       "    </tr>\n",
       "    <tr>\n",
       "      <th>995</th>\n",
       "      <td>-1.105901</td>\n",
       "      <td>False</td>\n",
       "      <td>-1.081447</td>\n",
       "      <td>0.909409</td>\n",
       "      <td>1.099616</td>\n",
       "    </tr>\n",
       "    <tr>\n",
       "      <th>996</th>\n",
       "      <td>-0.776677</td>\n",
       "      <td>False</td>\n",
       "      <td>-0.959597</td>\n",
       "      <td>0.828629</td>\n",
       "      <td>1.206813</td>\n",
       "    </tr>\n",
       "    <tr>\n",
       "      <th>997</th>\n",
       "      <td>-0.800303</td>\n",
       "      <td>False</td>\n",
       "      <td>-0.787030</td>\n",
       "      <td>0.835945</td>\n",
       "      <td>1.196250</td>\n",
       "    </tr>\n",
       "    <tr>\n",
       "      <th>998</th>\n",
       "      <td>-1.180896</td>\n",
       "      <td>False</td>\n",
       "      <td>-1.136279</td>\n",
       "      <td>0.922216</td>\n",
       "      <td>1.084345</td>\n",
       "    </tr>\n",
       "    <tr>\n",
       "      <th>999</th>\n",
       "      <td>-0.743066</td>\n",
       "      <td>False</td>\n",
       "      <td>-0.175506</td>\n",
       "      <td>0.817778</td>\n",
       "      <td>1.222826</td>\n",
       "    </tr>\n",
       "  </tbody>\n",
       "</table>\n",
       "<p>1000 rows × 5 columns</p>\n",
       "</div>"
      ],
      "text/plain": [
       "           W0     v0         y  propensity_score    weight\n",
       "0   -1.141956  False -0.043405          0.915787  1.091957\n",
       "1    0.110302  False -0.572741          0.403207  2.480116\n",
       "2   -0.137281  False -1.117691          0.539226  1.854511\n",
       "3   -0.946060  False -0.203631          0.875640  1.142022\n",
       "4   -3.157793  False -0.562545          0.998951  1.001050\n",
       "..        ...    ...       ...               ...       ...\n",
       "995 -1.105901  False -1.081447          0.909409  1.099616\n",
       "996 -0.776677  False -0.959597          0.828629  1.206813\n",
       "997 -0.800303  False -0.787030          0.835945  1.196250\n",
       "998 -1.180896  False -1.136279          0.922216  1.084345\n",
       "999 -0.743066  False -0.175506          0.817778  1.222826\n",
       "\n",
       "[1000 rows x 5 columns]"
      ]
     },
     "execution_count": 6,
     "metadata": {},
     "output_type": "execute_result"
    }
   ],
   "source": [
    "cdf_0"
   ]
  },
  {
   "cell_type": "code",
   "execution_count": 7,
   "metadata": {
    "execution": {
     "iopub.execute_input": "2023-03-16T13:42:49.010081Z",
     "iopub.status.busy": "2023-03-16T13:42:49.009873Z",
     "iopub.status.idle": "2023-03-16T13:42:49.019683Z",
     "shell.execute_reply": "2023-03-16T13:42:49.019039Z"
    }
   },
   "outputs": [
    {
     "data": {
      "text/html": [
       "<div>\n",
       "<style scoped>\n",
       "    .dataframe tbody tr th:only-of-type {\n",
       "        vertical-align: middle;\n",
       "    }\n",
       "\n",
       "    .dataframe tbody tr th {\n",
       "        vertical-align: top;\n",
       "    }\n",
       "\n",
       "    .dataframe thead th {\n",
       "        text-align: right;\n",
       "    }\n",
       "</style>\n",
       "<table border=\"1\" class=\"dataframe\">\n",
       "  <thead>\n",
       "    <tr style=\"text-align: right;\">\n",
       "      <th></th>\n",
       "      <th>W0</th>\n",
       "      <th>v0</th>\n",
       "      <th>y</th>\n",
       "      <th>propensity_score</th>\n",
       "      <th>weight</th>\n",
       "    </tr>\n",
       "  </thead>\n",
       "  <tbody>\n",
       "    <tr>\n",
       "      <th>0</th>\n",
       "      <td>2.020721</td>\n",
       "      <td>True</td>\n",
       "      <td>6.789743</td>\n",
       "      <td>0.990349</td>\n",
       "      <td>1.009745</td>\n",
       "    </tr>\n",
       "    <tr>\n",
       "      <th>1</th>\n",
       "      <td>-1.178618</td>\n",
       "      <td>True</td>\n",
       "      <td>4.260586</td>\n",
       "      <td>0.078148</td>\n",
       "      <td>12.796267</td>\n",
       "    </tr>\n",
       "    <tr>\n",
       "      <th>2</th>\n",
       "      <td>-1.161765</td>\n",
       "      <td>True</td>\n",
       "      <td>6.130940</td>\n",
       "      <td>0.080885</td>\n",
       "      <td>12.363283</td>\n",
       "    </tr>\n",
       "    <tr>\n",
       "      <th>3</th>\n",
       "      <td>1.262388</td>\n",
       "      <td>True</td>\n",
       "      <td>4.500869</td>\n",
       "      <td>0.950188</td>\n",
       "      <td>1.052423</td>\n",
       "    </tr>\n",
       "    <tr>\n",
       "      <th>4</th>\n",
       "      <td>-0.314016</td>\n",
       "      <td>True</td>\n",
       "      <td>4.800033</td>\n",
       "      <td>0.366010</td>\n",
       "      <td>2.732166</td>\n",
       "    </tr>\n",
       "    <tr>\n",
       "      <th>...</th>\n",
       "      <td>...</td>\n",
       "      <td>...</td>\n",
       "      <td>...</td>\n",
       "      <td>...</td>\n",
       "      <td>...</td>\n",
       "    </tr>\n",
       "    <tr>\n",
       "      <th>995</th>\n",
       "      <td>1.123509</td>\n",
       "      <td>True</td>\n",
       "      <td>5.988665</td>\n",
       "      <td>0.933408</td>\n",
       "      <td>1.071343</td>\n",
       "    </tr>\n",
       "    <tr>\n",
       "      <th>996</th>\n",
       "      <td>-1.078173</td>\n",
       "      <td>True</td>\n",
       "      <td>4.152465</td>\n",
       "      <td>0.095789</td>\n",
       "      <td>10.439589</td>\n",
       "    </tr>\n",
       "    <tr>\n",
       "      <th>997</th>\n",
       "      <td>-1.688111</td>\n",
       "      <td>True</td>\n",
       "      <td>4.315355</td>\n",
       "      <td>0.026642</td>\n",
       "      <td>37.534751</td>\n",
       "    </tr>\n",
       "    <tr>\n",
       "      <th>998</th>\n",
       "      <td>-1.171202</td>\n",
       "      <td>True</td>\n",
       "      <td>4.683549</td>\n",
       "      <td>0.079342</td>\n",
       "      <td>12.603734</td>\n",
       "    </tr>\n",
       "    <tr>\n",
       "      <th>999</th>\n",
       "      <td>-1.542229</td>\n",
       "      <td>True</td>\n",
       "      <td>3.867697</td>\n",
       "      <td>0.036454</td>\n",
       "      <td>27.432017</td>\n",
       "    </tr>\n",
       "  </tbody>\n",
       "</table>\n",
       "<p>1000 rows × 5 columns</p>\n",
       "</div>"
      ],
      "text/plain": [
       "           W0    v0         y  propensity_score     weight\n",
       "0    2.020721  True  6.789743          0.990349   1.009745\n",
       "1   -1.178618  True  4.260586          0.078148  12.796267\n",
       "2   -1.161765  True  6.130940          0.080885  12.363283\n",
       "3    1.262388  True  4.500869          0.950188   1.052423\n",
       "4   -0.314016  True  4.800033          0.366010   2.732166\n",
       "..        ...   ...       ...               ...        ...\n",
       "995  1.123509  True  5.988665          0.933408   1.071343\n",
       "996 -1.078173  True  4.152465          0.095789  10.439589\n",
       "997 -1.688111  True  4.315355          0.026642  37.534751\n",
       "998 -1.171202  True  4.683549          0.079342  12.603734\n",
       "999 -1.542229  True  3.867697          0.036454  27.432017\n",
       "\n",
       "[1000 rows x 5 columns]"
      ]
     },
     "execution_count": 7,
     "metadata": {},
     "output_type": "execute_result"
    }
   ],
   "source": [
    "cdf_1"
   ]
  },
  {
   "cell_type": "markdown",
   "metadata": {},
   "source": [
    "## Comparing the estimate to Linear Regression\n",
    "First, estimating the effect using the causal data frame, and the 95% confidence interval."
   ]
  },
  {
   "cell_type": "code",
   "execution_count": 8,
   "metadata": {
    "execution": {
     "iopub.execute_input": "2023-03-16T13:42:49.022996Z",
     "iopub.status.busy": "2023-03-16T13:42:49.022661Z",
     "iopub.status.idle": "2023-03-16T13:42:49.078837Z",
     "shell.execute_reply": "2023-03-16T13:42:49.078079Z"
    }
   },
   "outputs": [
    {
     "data": {
      "image/png": "[encoded data removed]",
      "text/latex": [
       "$\\displaystyle 4.95540145296721$"
      ],
      "text/plain": [
       "4.95540145296721"
      ]
     },
     "execution_count": 8,
     "metadata": {},
     "output_type": "execute_result"
    }
   ],
   "source": [
    "(cdf_1['y'] - cdf_0['y']).mean()"
   ]
  },
  {
   "cell_type": "code",
   "execution_count": 9,
   "metadata": {
    "execution": {
     "iopub.execute_input": "2023-03-16T13:42:49.082190Z",
     "iopub.status.busy": "2023-03-16T13:42:49.081829Z",
     "iopub.status.idle": "2023-03-16T13:42:49.102513Z",
     "shell.execute_reply": "2023-03-16T13:42:49.101861Z"
    }
   },
   "outputs": [
    {
     "data": {
      "image/png": "[encoded data removed]",
      "text/latex": [
       "$\\displaystyle 0.0971308500588097$"
      ],
      "text/plain": [
       "0.09713085005880967"
      ]
     },
     "execution_count": 9,
     "metadata": {},
     "output_type": "execute_result"
    }
   ],
   "source": [
    "1.96*(cdf_1['y'] - cdf_0['y']).std() / np.sqrt(len(df))"
   ]
  },
  {
   "cell_type": "markdown",
   "metadata": {},
   "source": [
    "Comparing to the estimate from OLS."
   ]
  },
  {
   "cell_type": "code",
   "execution_count": 10,
   "metadata": {
    "execution": {
     "iopub.execute_input": "2023-03-16T13:42:49.105222Z",
     "iopub.status.busy": "2023-03-16T13:42:49.104886Z",
     "iopub.status.idle": "2023-03-16T13:42:49.119416Z",
     "shell.execute_reply": "2023-03-16T13:42:49.118740Z"
    }
   },
   "outputs": [
    {
     "data": {
      "text/html": [
       "<table class=\"simpletable\">\n",
       "<caption>OLS Regression Results</caption>\n",
       "<tr>\n",
       "  <th>Dep. Variable:</th>            <td>y</td>        <th>  R-squared (uncentered):</th>      <td>   0.906</td>\n",
       "</tr>\n",
       "<tr>\n",
       "  <th>Model:</th>                   <td>OLS</td>       <th>  Adj. R-squared (uncentered):</th> <td>   0.906</td>\n",
       "</tr>\n",
       "<tr>\n",
       "  <th>Method:</th>             <td>Least Squares</td>  <th>  F-statistic:       </th>          <td>   4795.</td>\n",
       "</tr>\n",
       "<tr>\n",
       "  <th>Date:</th>             <td>Thu, 16 Mar 2023</td> <th>  Prob (F-statistic):</th>           <td>  0.00</td> \n",
       "</tr>\n",
       "<tr>\n",
       "  <th>Time:</th>                 <td>13:42:49</td>     <th>  Log-Likelihood:    </th>          <td> -1415.0</td>\n",
       "</tr>\n",
       "<tr>\n",
       "  <th>No. Observations:</th>      <td>  1000</td>      <th>  AIC:               </th>          <td>   2834.</td>\n",
       "</tr>\n",
       "<tr>\n",
       "  <th>Df Residuals:</th>          <td>   998</td>      <th>  BIC:               </th>          <td>   2844.</td>\n",
       "</tr>\n",
       "<tr>\n",
       "  <th>Df Model:</th>              <td>     2</td>      <th>                     </th>              <td> </td>   \n",
       "</tr>\n",
       "<tr>\n",
       "  <th>Covariance Type:</th>      <td>nonrobust</td>    <th>                     </th>              <td> </td>   \n",
       "</tr>\n",
       "</table>\n",
       "<table class=\"simpletable\">\n",
       "<tr>\n",
       "   <td></td>     <th>coef</th>     <th>std err</th>      <th>t</th>      <th>P>|t|</th>  <th>[0.025</th>    <th>0.975]</th>  \n",
       "</tr>\n",
       "<tr>\n",
       "  <th>x1</th> <td>    0.4102</td> <td>    0.028</td> <td>   14.456</td> <td> 0.000</td> <td>    0.355</td> <td>    0.466</td>\n",
       "</tr>\n",
       "<tr>\n",
       "  <th>x2</th> <td>    4.9261</td> <td>    0.053</td> <td>   92.227</td> <td> 0.000</td> <td>    4.821</td> <td>    5.031</td>\n",
       "</tr>\n",
       "</table>\n",
       "<table class=\"simpletable\">\n",
       "<tr>\n",
       "  <th>Omnibus:</th>       <td> 0.559</td> <th>  Durbin-Watson:     </th> <td>   2.106</td>\n",
       "</tr>\n",
       "<tr>\n",
       "  <th>Prob(Omnibus):</th> <td> 0.756</td> <th>  Jarque-Bera (JB):  </th> <td>   0.640</td>\n",
       "</tr>\n",
       "<tr>\n",
       "  <th>Skew:</th>          <td> 0.045</td> <th>  Prob(JB):          </th> <td>   0.726</td>\n",
       "</tr>\n",
       "<tr>\n",
       "  <th>Kurtosis:</th>      <td> 2.915</td> <th>  Cond. No.          </th> <td>    1.95</td>\n",
       "</tr>\n",
       "</table><br/><br/>Notes:<br/>[1] R² is computed without centering (uncentered) since the model does not contain a constant.<br/>[2] Standard Errors assume that the covariance matrix of the errors is correctly specified."
      ],
      "text/plain": [
       "<class 'statsmodels.iolib.summary.Summary'>\n",
       "\"\"\"\n",
       "                                 OLS Regression Results                                \n",
       "=======================================================================================\n",
       "Dep. Variable:                      y   R-squared (uncentered):                   0.906\n",
       "Model:                            OLS   Adj. R-squared (uncentered):              0.906\n",
       "Method:                 Least Squares   F-statistic:                              4795.\n",
       "Date:                Thu, 16 Mar 2023   Prob (F-statistic):                        0.00\n",
       "Time:                        13:42:49   Log-Likelihood:                         -1415.0\n",
       "No. Observations:                1000   AIC:                                      2834.\n",
       "Df Residuals:                     998   BIC:                                      2844.\n",
       "Df Model:                           2                                                  \n",
       "Covariance Type:            nonrobust                                                  \n",
       "==============================================================================\n",
       "                 coef    std err          t      P>|t|      [0.025      0.975]\n",
       "------------------------------------------------------------------------------\n",
       "x1             0.4102      0.028     14.456      0.000       0.355       0.466\n",
       "x2             4.9261      0.053     92.227      0.000       4.821       5.031\n",
       "==============================================================================\n",
       "Omnibus:                        0.559   Durbin-Watson:                   2.106\n",
       "Prob(Omnibus):                  0.756   Jarque-Bera (JB):                0.640\n",
       "Skew:                           0.045   Prob(JB):                        0.726\n",
       "Kurtosis:                       2.915   Cond. No.                         1.95\n",
       "==============================================================================\n",
       "\n",
       "Notes:\n",
       "[1] R² is computed without centering (uncentered) since the model does not contain a constant.\n",
       "[2] Standard Errors assume that the covariance matrix of the errors is correctly specified.\n",
       "\"\"\""
      ]
     },
     "execution_count": 10,
     "metadata": {},
     "output_type": "execute_result"
    }
   ],
   "source": [
    "model = OLS(np.asarray(df[outcome]), np.asarray(df[[common_cause, treatment]], dtype=np.float64))\n",
    "result = model.fit()\n",
    "result.summary()"
   ]
  }
 ],
 "metadata": {
  "kernelspec": {
   "display_name": "Python 3",
   "language": "python",
   "name": "python3"
  },
  "language_info": {
   "codemirror_mode": {
    "name": "ipython",
    "version": 3
   },
   "file_extension": ".py",
   "mimetype": "text/x-python",
   "name": "python",
   "nbconvert_exporter": "python",
   "pygments_lexer": "ipython3",
   "version": "3.8.10"
  },
  "toc": {
   "base_numbering": 1,
   "nav_menu": {},
   "number_sections": false,
   "sideBar": true,
   "skip_h1_title": true,
   "title_cell": "Table of Contents",
   "title_sidebar": "Contents",
   "toc_cell": false,
   "toc_position": {},
   "toc_section_display": true,
   "toc_window_display": false
  }
 },
 "nbformat": 4,
 "nbformat_minor": 4
}
