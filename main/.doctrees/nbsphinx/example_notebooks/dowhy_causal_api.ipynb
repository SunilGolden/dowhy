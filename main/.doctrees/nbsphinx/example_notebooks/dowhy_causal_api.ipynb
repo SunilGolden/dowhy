{
 "cells": [
  {
   "cell_type": "markdown",
   "metadata": {},
   "source": [
    "# Demo for the DoWhy causal API\n",
    "We show a simple example of adding a causal extension to any dataframe. "
   ]
  },
  {
   "cell_type": "code",
   "execution_count": 1,
   "metadata": {
    "execution": {
     "iopub.execute_input": "2023-11-20T15:27:33.622263Z",
     "iopub.status.busy": "2023-11-20T15:27:33.622085Z",
     "iopub.status.idle": "2023-11-20T15:27:35.053442Z",
     "shell.execute_reply": "2023-11-20T15:27:35.052819Z"
    }
   },
   "outputs": [],
   "source": [
    "import dowhy.datasets\n",
    "import dowhy.api\n",
    "\n",
    "import numpy as np\n",
    "import pandas as pd\n",
    "\n",
    "from statsmodels.api import OLS"
   ]
  },
  {
   "cell_type": "code",
   "execution_count": 2,
   "metadata": {
    "execution": {
     "iopub.execute_input": "2023-11-20T15:27:35.056546Z",
     "iopub.status.busy": "2023-11-20T15:27:35.056010Z",
     "iopub.status.idle": "2023-11-20T15:27:35.092716Z",
     "shell.execute_reply": "2023-11-20T15:27:35.092092Z"
    }
   },
   "outputs": [
    {
     "data": {
      "text/html": [
       "<div>\n",
       "<style scoped>\n",
       "    .dataframe tbody tr th:only-of-type {\n",
       "        vertical-align: middle;\n",
       "    }\n",
       "\n",
       "    .dataframe tbody tr th {\n",
       "        vertical-align: top;\n",
       "    }\n",
       "\n",
       "    .dataframe thead th {\n",
       "        text-align: right;\n",
       "    }\n",
       "</style>\n",
       "<table border=\"1\" class=\"dataframe\">\n",
       "  <thead>\n",
       "    <tr style=\"text-align: right;\">\n",
       "      <th></th>\n",
       "      <th>W0</th>\n",
       "      <th>v0</th>\n",
       "      <th>y</th>\n",
       "    </tr>\n",
       "  </thead>\n",
       "  <tbody>\n",
       "    <tr>\n",
       "      <th>0</th>\n",
       "      <td>-1.831041</td>\n",
       "      <td>False</td>\n",
       "      <td>0.963584</td>\n",
       "    </tr>\n",
       "    <tr>\n",
       "      <th>1</th>\n",
       "      <td>0.812287</td>\n",
       "      <td>True</td>\n",
       "      <td>7.432452</td>\n",
       "    </tr>\n",
       "    <tr>\n",
       "      <th>2</th>\n",
       "      <td>-1.639416</td>\n",
       "      <td>False</td>\n",
       "      <td>-0.215784</td>\n",
       "    </tr>\n",
       "    <tr>\n",
       "      <th>3</th>\n",
       "      <td>0.024691</td>\n",
       "      <td>False</td>\n",
       "      <td>1.124566</td>\n",
       "    </tr>\n",
       "    <tr>\n",
       "      <th>4</th>\n",
       "      <td>-1.060961</td>\n",
       "      <td>False</td>\n",
       "      <td>0.436120</td>\n",
       "    </tr>\n",
       "    <tr>\n",
       "      <th>...</th>\n",
       "      <td>...</td>\n",
       "      <td>...</td>\n",
       "      <td>...</td>\n",
       "    </tr>\n",
       "    <tr>\n",
       "      <th>995</th>\n",
       "      <td>-1.313231</td>\n",
       "      <td>False</td>\n",
       "      <td>-1.864363</td>\n",
       "    </tr>\n",
       "    <tr>\n",
       "      <th>996</th>\n",
       "      <td>-1.099555</td>\n",
       "      <td>False</td>\n",
       "      <td>0.711327</td>\n",
       "    </tr>\n",
       "    <tr>\n",
       "      <th>997</th>\n",
       "      <td>-1.150180</td>\n",
       "      <td>False</td>\n",
       "      <td>-1.391543</td>\n",
       "    </tr>\n",
       "    <tr>\n",
       "      <th>998</th>\n",
       "      <td>-0.985048</td>\n",
       "      <td>False</td>\n",
       "      <td>-0.080119</td>\n",
       "    </tr>\n",
       "    <tr>\n",
       "      <th>999</th>\n",
       "      <td>1.422704</td>\n",
       "      <td>True</td>\n",
       "      <td>6.878313</td>\n",
       "    </tr>\n",
       "  </tbody>\n",
       "</table>\n",
       "<p>1000 rows × 3 columns</p>\n",
       "</div>"
      ],
      "text/plain": [
       "           W0     v0         y\n",
       "0   -1.831041  False  0.963584\n",
       "1    0.812287   True  7.432452\n",
       "2   -1.639416  False -0.215784\n",
       "3    0.024691  False  1.124566\n",
       "4   -1.060961  False  0.436120\n",
       "..        ...    ...       ...\n",
       "995 -1.313231  False -1.864363\n",
       "996 -1.099555  False  0.711327\n",
       "997 -1.150180  False -1.391543\n",
       "998 -0.985048  False -0.080119\n",
       "999  1.422704   True  6.878313\n",
       "\n",
       "[1000 rows x 3 columns]"
      ]
     },
     "execution_count": 2,
     "metadata": {},
     "output_type": "execute_result"
    }
   ],
   "source": [
    "data = dowhy.datasets.linear_dataset(beta=5,\n",
    "        num_common_causes=1,\n",
    "        num_instruments = 0,\n",
    "        num_samples=1000,\n",
    "        treatment_is_binary=True)\n",
    "df = data['df']\n",
    "df['y'] = df['y'] + np.random.normal(size=len(df)) # Adding noise to data. Without noise, the variance in Y|X, Z is zero, and mcmc fails.\n",
    "#data['dot_graph'] = 'digraph { v ->y;X0-> v;X0-> y;}'\n",
    "\n",
    "treatment= data[\"treatment_name\"][0]\n",
    "outcome = data[\"outcome_name\"][0]\n",
    "common_cause = data[\"common_causes_names\"][0]\n",
    "df"
   ]
  },
  {
   "cell_type": "code",
   "execution_count": 3,
   "metadata": {
    "execution": {
     "iopub.execute_input": "2023-11-20T15:27:35.095106Z",
     "iopub.status.busy": "2023-11-20T15:27:35.094889Z",
     "iopub.status.idle": "2023-11-20T15:27:35.279693Z",
     "shell.execute_reply": "2023-11-20T15:27:35.279084Z"
    }
   },
   "outputs": [
    {
     "data": {
      "text/plain": [
       "<Axes: xlabel='v0'>"
      ]
     },
     "execution_count": 3,
     "metadata": {},
     "output_type": "execute_result"
    },
    {
     "data": {
      "image/png": "[encoded data removed]",
      "text/plain": [
       "<Figure size 640x480 with 1 Axes>"
      ]
     },
     "metadata": {},
     "output_type": "display_data"
    }
   ],
   "source": [
    "# data['df'] is just a regular pandas.DataFrame\n",
    "df.causal.do(x=treatment,\n",
    "                     variable_types={treatment: 'b', outcome: 'c', common_cause: 'c'},\n",
    "                     outcome=outcome,\n",
    "                     common_causes=[common_cause],\n",
    "                     proceed_when_unidentifiable=True).groupby(treatment).mean().plot(y=outcome, kind='bar')"
   ]
  },
  {
   "cell_type": "code",
   "execution_count": 4,
   "metadata": {
    "execution": {
     "iopub.execute_input": "2023-11-20T15:27:35.281961Z",
     "iopub.status.busy": "2023-11-20T15:27:35.281748Z",
     "iopub.status.idle": "2023-11-20T15:27:35.416712Z",
     "shell.execute_reply": "2023-11-20T15:27:35.416072Z"
    }
   },
   "outputs": [
    {
     "data": {
      "text/plain": [
       "<Axes: xlabel='v0'>"
      ]
     },
     "execution_count": 4,
     "metadata": {},
     "output_type": "execute_result"
    },
    {
     "data": {
      "image/png": "[encoded data removed]",
      "text/plain": [
       "<Figure size 640x480 with 1 Axes>"
      ]
     },
     "metadata": {},
     "output_type": "display_data"
    }
   ],
   "source": [
    "df.causal.do(x={treatment: 1}, \n",
    "              variable_types={treatment:'b', outcome: 'c', common_cause: 'c'}, \n",
    "              outcome=outcome,\n",
    "              method='weighting', \n",
    "              common_causes=[common_cause],\n",
    "              proceed_when_unidentifiable=True).groupby(treatment).mean().plot(y=outcome, kind='bar')"
   ]
  },
  {
   "cell_type": "code",
   "execution_count": 5,
   "metadata": {
    "execution": {
     "iopub.execute_input": "2023-11-20T15:27:35.419352Z",
     "iopub.status.busy": "2023-11-20T15:27:35.419135Z",
     "iopub.status.idle": "2023-11-20T15:27:35.446434Z",
     "shell.execute_reply": "2023-11-20T15:27:35.445809Z"
    }
   },
   "outputs": [],
   "source": [
    "cdf_1 = df.causal.do(x={treatment: 1}, \n",
    "              variable_types={treatment: 'b', outcome: 'c', common_cause: 'c'}, \n",
    "              outcome=outcome, \n",
    "              dot_graph=data['dot_graph'],\n",
    "              proceed_when_unidentifiable=True)\n",
    "\n",
    "cdf_0 = df.causal.do(x={treatment: 0}, \n",
    "              variable_types={treatment: 'b', outcome: 'c', common_cause: 'c'}, \n",
    "              outcome=outcome, \n",
    "              dot_graph=data['dot_graph'],\n",
    "              proceed_when_unidentifiable=True)\n"
   ]
  },
  {
   "cell_type": "code",
   "execution_count": 6,
   "metadata": {
    "execution": {
     "iopub.execute_input": "2023-11-20T15:27:35.448944Z",
     "iopub.status.busy": "2023-11-20T15:27:35.448754Z",
     "iopub.status.idle": "2023-11-20T15:27:35.457969Z",
     "shell.execute_reply": "2023-11-20T15:27:35.457323Z"
    },
    "scrolled": true
   },
   "outputs": [
    {
     "data": {
      "text/html": [
       "<div>\n",
       "<style scoped>\n",
       "    .dataframe tbody tr th:only-of-type {\n",
       "        vertical-align: middle;\n",
       "    }\n",
       "\n",
       "    .dataframe tbody tr th {\n",
       "        vertical-align: top;\n",
       "    }\n",
       "\n",
       "    .dataframe thead th {\n",
       "        text-align: right;\n",
       "    }\n",
       "</style>\n",
       "<table border=\"1\" class=\"dataframe\">\n",
       "  <thead>\n",
       "    <tr style=\"text-align: right;\">\n",
       "      <th></th>\n",
       "      <th>W0</th>\n",
       "      <th>v0</th>\n",
       "      <th>y</th>\n",
       "      <th>propensity_score</th>\n",
       "      <th>weight</th>\n",
       "    </tr>\n",
       "  </thead>\n",
       "  <tbody>\n",
       "    <tr>\n",
       "      <th>0</th>\n",
       "      <td>-0.541920</td>\n",
       "      <td>False</td>\n",
       "      <td>0.230269</td>\n",
       "      <td>0.722869</td>\n",
       "      <td>1.383376</td>\n",
       "    </tr>\n",
       "    <tr>\n",
       "      <th>1</th>\n",
       "      <td>-1.312100</td>\n",
       "      <td>False</td>\n",
       "      <td>0.213642</td>\n",
       "      <td>0.916890</td>\n",
       "      <td>1.090643</td>\n",
       "    </tr>\n",
       "    <tr>\n",
       "      <th>2</th>\n",
       "      <td>-2.666825</td>\n",
       "      <td>False</td>\n",
       "      <td>-2.649369</td>\n",
       "      <td>0.992878</td>\n",
       "      <td>1.007173</td>\n",
       "    </tr>\n",
       "    <tr>\n",
       "      <th>3</th>\n",
       "      <td>-1.042077</td>\n",
       "      <td>False</td>\n",
       "      <td>-0.910359</td>\n",
       "      <td>0.869351</td>\n",
       "      <td>1.150283</td>\n",
       "    </tr>\n",
       "    <tr>\n",
       "      <th>4</th>\n",
       "      <td>0.559026</td>\n",
       "      <td>False</td>\n",
       "      <td>-0.477228</td>\n",
       "      <td>0.249238</td>\n",
       "      <td>4.012222</td>\n",
       "    </tr>\n",
       "    <tr>\n",
       "      <th>...</th>\n",
       "      <td>...</td>\n",
       "      <td>...</td>\n",
       "      <td>...</td>\n",
       "      <td>...</td>\n",
       "      <td>...</td>\n",
       "    </tr>\n",
       "    <tr>\n",
       "      <th>995</th>\n",
       "      <td>-0.399193</td>\n",
       "      <td>False</td>\n",
       "      <td>-0.317042</td>\n",
       "      <td>0.666300</td>\n",
       "      <td>1.500827</td>\n",
       "    </tr>\n",
       "    <tr>\n",
       "      <th>996</th>\n",
       "      <td>-1.062465</td>\n",
       "      <td>False</td>\n",
       "      <td>0.411092</td>\n",
       "      <td>0.873626</td>\n",
       "      <td>1.144654</td>\n",
       "    </tr>\n",
       "    <tr>\n",
       "      <th>997</th>\n",
       "      <td>-0.932467</td>\n",
       "      <td>False</td>\n",
       "      <td>-0.560046</td>\n",
       "      <td>0.844224</td>\n",
       "      <td>1.184519</td>\n",
       "    </tr>\n",
       "    <tr>\n",
       "      <th>998</th>\n",
       "      <td>-0.149091</td>\n",
       "      <td>False</td>\n",
       "      <td>-0.325026</td>\n",
       "      <td>0.555571</td>\n",
       "      <td>1.799951</td>\n",
       "    </tr>\n",
       "    <tr>\n",
       "      <th>999</th>\n",
       "      <td>-1.158065</td>\n",
       "      <td>False</td>\n",
       "      <td>1.943426</td>\n",
       "      <td>0.892104</td>\n",
       "      <td>1.120946</td>\n",
       "    </tr>\n",
       "  </tbody>\n",
       "</table>\n",
       "<p>1000 rows × 5 columns</p>\n",
       "</div>"
      ],
      "text/plain": [
       "           W0     v0         y  propensity_score    weight\n",
       "0   -0.541920  False  0.230269          0.722869  1.383376\n",
       "1   -1.312100  False  0.213642          0.916890  1.090643\n",
       "2   -2.666825  False -2.649369          0.992878  1.007173\n",
       "3   -1.042077  False -0.910359          0.869351  1.150283\n",
       "4    0.559026  False -0.477228          0.249238  4.012222\n",
       "..        ...    ...       ...               ...       ...\n",
       "995 -0.399193  False -0.317042          0.666300  1.500827\n",
       "996 -1.062465  False  0.411092          0.873626  1.144654\n",
       "997 -0.932467  False -0.560046          0.844224  1.184519\n",
       "998 -0.149091  False -0.325026          0.555571  1.799951\n",
       "999 -1.158065  False  1.943426          0.892104  1.120946\n",
       "\n",
       "[1000 rows x 5 columns]"
      ]
     },
     "execution_count": 6,
     "metadata": {},
     "output_type": "execute_result"
    }
   ],
   "source": [
    "cdf_0"
   ]
  },
  {
   "cell_type": "code",
   "execution_count": 7,
   "metadata": {
    "execution": {
     "iopub.execute_input": "2023-11-20T15:27:35.460351Z",
     "iopub.status.busy": "2023-11-20T15:27:35.459872Z",
     "iopub.status.idle": "2023-11-20T15:27:35.468474Z",
     "shell.execute_reply": "2023-11-20T15:27:35.467880Z"
    }
   },
   "outputs": [
    {
     "data": {
      "text/html": [
       "<div>\n",
       "<style scoped>\n",
       "    .dataframe tbody tr th:only-of-type {\n",
       "        vertical-align: middle;\n",
       "    }\n",
       "\n",
       "    .dataframe tbody tr th {\n",
       "        vertical-align: top;\n",
       "    }\n",
       "\n",
       "    .dataframe thead th {\n",
       "        text-align: right;\n",
       "    }\n",
       "</style>\n",
       "<table border=\"1\" class=\"dataframe\">\n",
       "  <thead>\n",
       "    <tr style=\"text-align: right;\">\n",
       "      <th></th>\n",
       "      <th>W0</th>\n",
       "      <th>v0</th>\n",
       "      <th>y</th>\n",
       "      <th>propensity_score</th>\n",
       "      <th>weight</th>\n",
       "    </tr>\n",
       "  </thead>\n",
       "  <tbody>\n",
       "    <tr>\n",
       "      <th>0</th>\n",
       "      <td>-1.021499</td>\n",
       "      <td>True</td>\n",
       "      <td>5.564104</td>\n",
       "      <td>0.135088</td>\n",
       "      <td>7.402603</td>\n",
       "    </tr>\n",
       "    <tr>\n",
       "      <th>1</th>\n",
       "      <td>-1.343658</td>\n",
       "      <td>True</td>\n",
       "      <td>5.433499</td>\n",
       "      <td>0.078716</td>\n",
       "      <td>12.703842</td>\n",
       "    </tr>\n",
       "    <tr>\n",
       "      <th>2</th>\n",
       "      <td>0.722241</td>\n",
       "      <td>True</td>\n",
       "      <td>4.293171</td>\n",
       "      <td>0.803495</td>\n",
       "      <td>1.244563</td>\n",
       "    </tr>\n",
       "    <tr>\n",
       "      <th>3</th>\n",
       "      <td>-1.263921</td>\n",
       "      <td>True</td>\n",
       "      <td>4.930265</td>\n",
       "      <td>0.090247</td>\n",
       "      <td>11.080643</td>\n",
       "    </tr>\n",
       "    <tr>\n",
       "      <th>4</th>\n",
       "      <td>-1.929117</td>\n",
       "      <td>True</td>\n",
       "      <td>4.099727</td>\n",
       "      <td>0.027757</td>\n",
       "      <td>36.027473</td>\n",
       "    </tr>\n",
       "    <tr>\n",
       "      <th>...</th>\n",
       "      <td>...</td>\n",
       "      <td>...</td>\n",
       "      <td>...</td>\n",
       "      <td>...</td>\n",
       "      <td>...</td>\n",
       "    </tr>\n",
       "    <tr>\n",
       "      <th>995</th>\n",
       "      <td>-1.929117</td>\n",
       "      <td>True</td>\n",
       "      <td>4.099727</td>\n",
       "      <td>0.027757</td>\n",
       "      <td>36.027473</td>\n",
       "    </tr>\n",
       "    <tr>\n",
       "      <th>996</th>\n",
       "      <td>0.810213</td>\n",
       "      <td>True</td>\n",
       "      <td>2.827785</td>\n",
       "      <td>0.828211</td>\n",
       "      <td>1.207422</td>\n",
       "    </tr>\n",
       "    <tr>\n",
       "      <th>997</th>\n",
       "      <td>0.861627</td>\n",
       "      <td>True</td>\n",
       "      <td>4.230695</td>\n",
       "      <td>0.841478</td>\n",
       "      <td>1.188385</td>\n",
       "    </tr>\n",
       "    <tr>\n",
       "      <th>998</th>\n",
       "      <td>0.128375</td>\n",
       "      <td>True</td>\n",
       "      <td>6.492101</td>\n",
       "      <td>0.573544</td>\n",
       "      <td>1.743546</td>\n",
       "    </tr>\n",
       "    <tr>\n",
       "      <th>999</th>\n",
       "      <td>0.322726</td>\n",
       "      <td>True</td>\n",
       "      <td>5.642310</td>\n",
       "      <td>0.659311</td>\n",
       "      <td>1.516734</td>\n",
       "    </tr>\n",
       "  </tbody>\n",
       "</table>\n",
       "<p>1000 rows × 5 columns</p>\n",
       "</div>"
      ],
      "text/plain": [
       "           W0    v0         y  propensity_score     weight\n",
       "0   -1.021499  True  5.564104          0.135088   7.402603\n",
       "1   -1.343658  True  5.433499          0.078716  12.703842\n",
       "2    0.722241  True  4.293171          0.803495   1.244563\n",
       "3   -1.263921  True  4.930265          0.090247  11.080643\n",
       "4   -1.929117  True  4.099727          0.027757  36.027473\n",
       "..        ...   ...       ...               ...        ...\n",
       "995 -1.929117  True  4.099727          0.027757  36.027473\n",
       "996  0.810213  True  2.827785          0.828211   1.207422\n",
       "997  0.861627  True  4.230695          0.841478   1.188385\n",
       "998  0.128375  True  6.492101          0.573544   1.743546\n",
       "999  0.322726  True  5.642310          0.659311   1.516734\n",
       "\n",
       "[1000 rows x 5 columns]"
      ]
     },
     "execution_count": 7,
     "metadata": {},
     "output_type": "execute_result"
    }
   ],
   "source": [
    "cdf_1"
   ]
  },
  {
   "cell_type": "markdown",
   "metadata": {},
   "source": [
    "## Comparing the estimate to Linear Regression\n",
    "First, estimating the effect using the causal data frame, and the 95% confidence interval."
   ]
  },
  {
   "cell_type": "code",
   "execution_count": 8,
   "metadata": {
    "execution": {
     "iopub.execute_input": "2023-11-20T15:27:35.470670Z",
     "iopub.status.busy": "2023-11-20T15:27:35.470334Z",
     "iopub.status.idle": "2023-11-20T15:27:35.519215Z",
     "shell.execute_reply": "2023-11-20T15:27:35.518611Z"
    }
   },
   "outputs": [
    {
     "data": {
      "image/png": "[encoded data removed]",
      "text/latex": [
       "$\\displaystyle 4.95128226574724$"
      ],
      "text/plain": [
       "4.951282265747245"
      ]
     },
     "execution_count": 8,
     "metadata": {},
     "output_type": "execute_result"
    }
   ],
   "source": [
    "(cdf_1['y'] - cdf_0['y']).mean()"
   ]
  },
  {
   "cell_type": "code",
   "execution_count": 9,
   "metadata": {
    "execution": {
     "iopub.execute_input": "2023-11-20T15:27:35.521670Z",
     "iopub.status.busy": "2023-11-20T15:27:35.521278Z",
     "iopub.status.idle": "2023-11-20T15:27:35.538729Z",
     "shell.execute_reply": "2023-11-20T15:27:35.538250Z"
    }
   },
   "outputs": [
    {
     "data": {
      "image/png": "[encoded data removed]",
      "text/latex": [
       "$\\displaystyle 0.0843926804362821$"
      ],
      "text/plain": [
       "0.08439268043628212"
      ]
     },
     "execution_count": 9,
     "metadata": {},
     "output_type": "execute_result"
    }
   ],
   "source": [
    "1.96*(cdf_1['y'] - cdf_0['y']).std() / np.sqrt(len(df))"
   ]
  },
  {
   "cell_type": "markdown",
   "metadata": {},
   "source": [
    "Comparing to the estimate from OLS."
   ]
  },
  {
   "cell_type": "code",
   "execution_count": 10,
   "metadata": {
    "execution": {
     "iopub.execute_input": "2023-11-20T15:27:35.540935Z",
     "iopub.status.busy": "2023-11-20T15:27:35.540586Z",
     "iopub.status.idle": "2023-11-20T15:27:35.556276Z",
     "shell.execute_reply": "2023-11-20T15:27:35.555671Z"
    }
   },
   "outputs": [
    {
     "data": {
      "text/html": [
       "<table class=\"simpletable\">\n",
       "<caption>OLS Regression Results</caption>\n",
       "<tr>\n",
       "  <th>Dep. Variable:</th>            <td>y</td>        <th>  R-squared (uncentered):</th>      <td>   0.909</td>\n",
       "</tr>\n",
       "<tr>\n",
       "  <th>Model:</th>                   <td>OLS</td>       <th>  Adj. R-squared (uncentered):</th> <td>   0.908</td>\n",
       "</tr>\n",
       "<tr>\n",
       "  <th>Method:</th>             <td>Least Squares</td>  <th>  F-statistic:       </th>          <td>   4964.</td>\n",
       "</tr>\n",
       "<tr>\n",
       "  <th>Date:</th>             <td>Mon, 20 Nov 2023</td> <th>  Prob (F-statistic):</th>           <td>  0.00</td> \n",
       "</tr>\n",
       "<tr>\n",
       "  <th>Time:</th>                 <td>15:27:35</td>     <th>  Log-Likelihood:    </th>          <td> -1415.6</td>\n",
       "</tr>\n",
       "<tr>\n",
       "  <th>No. Observations:</th>      <td>  1000</td>      <th>  AIC:               </th>          <td>   2835.</td>\n",
       "</tr>\n",
       "<tr>\n",
       "  <th>Df Residuals:</th>          <td>   998</td>      <th>  BIC:               </th>          <td>   2845.</td>\n",
       "</tr>\n",
       "<tr>\n",
       "  <th>Df Model:</th>              <td>     2</td>      <th>                     </th>              <td> </td>   \n",
       "</tr>\n",
       "<tr>\n",
       "  <th>Covariance Type:</th>      <td>nonrobust</td>    <th>                     </th>              <td> </td>   \n",
       "</tr>\n",
       "</table>\n",
       "<table class=\"simpletable\">\n",
       "<tr>\n",
       "   <td></td>     <th>coef</th>     <th>std err</th>      <th>t</th>      <th>P>|t|</th>  <th>[0.025</th>    <th>0.975]</th>  \n",
       "</tr>\n",
       "<tr>\n",
       "  <th>x1</th> <td>    0.0797</td> <td>    0.030</td> <td>    2.643</td> <td> 0.008</td> <td>    0.021</td> <td>    0.139</td>\n",
       "</tr>\n",
       "<tr>\n",
       "  <th>x2</th> <td>    4.9816</td> <td>    0.051</td> <td>   97.416</td> <td> 0.000</td> <td>    4.881</td> <td>    5.082</td>\n",
       "</tr>\n",
       "</table>\n",
       "<table class=\"simpletable\">\n",
       "<tr>\n",
       "  <th>Omnibus:</th>       <td> 5.517</td> <th>  Durbin-Watson:     </th> <td>   2.011</td>\n",
       "</tr>\n",
       "<tr>\n",
       "  <th>Prob(Omnibus):</th> <td> 0.063</td> <th>  Jarque-Bera (JB):  </th> <td>   5.532</td>\n",
       "</tr>\n",
       "<tr>\n",
       "  <th>Skew:</th>          <td> 0.163</td> <th>  Prob(JB):          </th> <td>  0.0629</td>\n",
       "</tr>\n",
       "<tr>\n",
       "  <th>Kurtosis:</th>      <td> 2.838</td> <th>  Cond. No.          </th> <td>    1.76</td>\n",
       "</tr>\n",
       "</table><br/><br/>Notes:<br/>[1] R² is computed without centering (uncentered) since the model does not contain a constant.<br/>[2] Standard Errors assume that the covariance matrix of the errors is correctly specified."
      ],
      "text/latex": [
       "\\begin{center}\n",
       "\\begin{tabular}{lclc}\n",
       "\\toprule\n",
       "\\textbf{Dep. Variable:}    &        y         & \\textbf{  R-squared (uncentered):}      &     0.909   \\\\\n",
       "\\textbf{Model:}            &       OLS        & \\textbf{  Adj. R-squared (uncentered):} &     0.908   \\\\\n",
       "\\textbf{Method:}           &  Least Squares   & \\textbf{  F-statistic:       }          &     4964.   \\\\\n",
       "\\textbf{Date:}             & Mon, 20 Nov 2023 & \\textbf{  Prob (F-statistic):}          &     0.00    \\\\\n",
       "\\textbf{Time:}             &     15:27:35     & \\textbf{  Log-Likelihood:    }          &   -1415.6   \\\\\n",
       "\\textbf{No. Observations:} &        1000      & \\textbf{  AIC:               }          &     2835.   \\\\\n",
       "\\textbf{Df Residuals:}     &         998      & \\textbf{  BIC:               }          &     2845.   \\\\\n",
       "\\textbf{Df Model:}         &           2      & \\textbf{                     }          &             \\\\\n",
       "\\textbf{Covariance Type:}  &    nonrobust     & \\textbf{                     }          &             \\\\\n",
       "\\bottomrule\n",
       "\\end{tabular}\n",
       "\\begin{tabular}{lcccccc}\n",
       "            & \\textbf{coef} & \\textbf{std err} & \\textbf{t} & \\textbf{P$> |$t$|$} & \\textbf{[0.025} & \\textbf{0.975]}  \\\\\n",
       "\\midrule\n",
       "\\textbf{x1} &       0.0797  &        0.030     &     2.643  &         0.008        &        0.021    &        0.139     \\\\\n",
       "\\textbf{x2} &       4.9816  &        0.051     &    97.416  &         0.000        &        4.881    &        5.082     \\\\\n",
       "\\bottomrule\n",
       "\\end{tabular}\n",
       "\\begin{tabular}{lclc}\n",
       "\\textbf{Omnibus:}       &  5.517 & \\textbf{  Durbin-Watson:     } &    2.011  \\\\\n",
       "\\textbf{Prob(Omnibus):} &  0.063 & \\textbf{  Jarque-Bera (JB):  } &    5.532  \\\\\n",
       "\\textbf{Skew:}          &  0.163 & \\textbf{  Prob(JB):          } &   0.0629  \\\\\n",
       "\\textbf{Kurtosis:}      &  2.838 & \\textbf{  Cond. No.          } &     1.76  \\\\\n",
       "\\bottomrule\n",
       "\\end{tabular}\n",
       "%\\caption{OLS Regression Results}\n",
       "\\end{center}\n",
       "\n",
       "Notes: \\newline\n",
       " [1] R² is computed without centering (uncentered) since the model does not contain a constant. \\newline\n",
       " [2] Standard Errors assume that the covariance matrix of the errors is correctly specified."
      ],
      "text/plain": [
       "<class 'statsmodels.iolib.summary.Summary'>\n",
       "\"\"\"\n",
       "                                 OLS Regression Results                                \n",
       "=======================================================================================\n",
       "Dep. Variable:                      y   R-squared (uncentered):                   0.909\n",
       "Model:                            OLS   Adj. R-squared (uncentered):              0.908\n",
       "Method:                 Least Squares   F-statistic:                              4964.\n",
       "Date:                Mon, 20 Nov 2023   Prob (F-statistic):                        0.00\n",
       "Time:                        15:27:35   Log-Likelihood:                         -1415.6\n",
       "No. Observations:                1000   AIC:                                      2835.\n",
       "Df Residuals:                     998   BIC:                                      2845.\n",
       "Df Model:                           2                                                  \n",
       "Covariance Type:            nonrobust                                                  \n",
       "==============================================================================\n",
       "                 coef    std err          t      P>|t|      [0.025      0.975]\n",
       "------------------------------------------------------------------------------\n",
       "x1             0.0797      0.030      2.643      0.008       0.021       0.139\n",
       "x2             4.9816      0.051     97.416      0.000       4.881       5.082\n",
       "==============================================================================\n",
       "Omnibus:                        5.517   Durbin-Watson:                   2.011\n",
       "Prob(Omnibus):                  0.063   Jarque-Bera (JB):                5.532\n",
       "Skew:                           0.163   Prob(JB):                       0.0629\n",
       "Kurtosis:                       2.838   Cond. No.                         1.76\n",
       "==============================================================================\n",
       "\n",
       "Notes:\n",
       "[1] R² is computed without centering (uncentered) since the model does not contain a constant.\n",
       "[2] Standard Errors assume that the covariance matrix of the errors is correctly specified.\n",
       "\"\"\""
      ]
     },
     "execution_count": 10,
     "metadata": {},
     "output_type": "execute_result"
    }
   ],
   "source": [
    "model = OLS(np.asarray(df[outcome]), np.asarray(df[[common_cause, treatment]], dtype=np.float64))\n",
    "result = model.fit()\n",
    "result.summary()"
   ]
  }
 ],
 "metadata": {
  "kernelspec": {
   "display_name": "Python 3",
   "language": "python",
   "name": "python3"
  },
  "language_info": {
   "codemirror_mode": {
    "name": "ipython",
    "version": 3
   },
   "file_extension": ".py",
   "mimetype": "text/x-python",
   "name": "python",
   "nbconvert_exporter": "python",
   "pygments_lexer": "ipython3",
   "version": "3.8.10"
  },
  "toc": {
   "base_numbering": 1,
   "nav_menu": {},
   "number_sections": false,
   "sideBar": true,
   "skip_h1_title": true,
   "title_cell": "Table of Contents",
   "title_sidebar": "Contents",
   "toc_cell": false,
   "toc_position": {},
   "toc_section_display": true,
   "toc_window_display": false
  }
 },
 "nbformat": 4,
 "nbformat_minor": 4
}
