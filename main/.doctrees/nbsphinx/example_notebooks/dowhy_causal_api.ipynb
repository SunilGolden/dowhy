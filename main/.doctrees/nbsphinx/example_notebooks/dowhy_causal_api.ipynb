{
 "cells": [
  {
   "cell_type": "markdown",
   "metadata": {},
   "source": [
    "# Demo for the DoWhy causal API\n",
    "We show a simple example of adding a causal extension to any dataframe. "
   ]
  },
  {
   "cell_type": "code",
   "execution_count": 1,
   "metadata": {
    "execution": {
     "iopub.execute_input": "2023-11-02T20:14:33.565096Z",
     "iopub.status.busy": "2023-11-02T20:14:33.564662Z",
     "iopub.status.idle": "2023-11-02T20:14:35.316540Z",
     "shell.execute_reply": "2023-11-02T20:14:35.315766Z"
    }
   },
   "outputs": [],
   "source": [
    "import dowhy.datasets\n",
    "import dowhy.api\n",
    "\n",
    "import numpy as np\n",
    "import pandas as pd\n",
    "\n",
    "from statsmodels.api import OLS"
   ]
  },
  {
   "cell_type": "code",
   "execution_count": 2,
   "metadata": {
    "execution": {
     "iopub.execute_input": "2023-11-02T20:14:35.320887Z",
     "iopub.status.busy": "2023-11-02T20:14:35.319886Z",
     "iopub.status.idle": "2023-11-02T20:14:35.365121Z",
     "shell.execute_reply": "2023-11-02T20:14:35.364387Z"
    }
   },
   "outputs": [
    {
     "data": {
      "text/html": [
       "<div>\n",
       "<style scoped>\n",
       "    .dataframe tbody tr th:only-of-type {\n",
       "        vertical-align: middle;\n",
       "    }\n",
       "\n",
       "    .dataframe tbody tr th {\n",
       "        vertical-align: top;\n",
       "    }\n",
       "\n",
       "    .dataframe thead th {\n",
       "        text-align: right;\n",
       "    }\n",
       "</style>\n",
       "<table border=\"1\" class=\"dataframe\">\n",
       "  <thead>\n",
       "    <tr style=\"text-align: right;\">\n",
       "      <th></th>\n",
       "      <th>W0</th>\n",
       "      <th>v0</th>\n",
       "      <th>y</th>\n",
       "    </tr>\n",
       "  </thead>\n",
       "  <tbody>\n",
       "    <tr>\n",
       "      <th>0</th>\n",
       "      <td>-0.561252</td>\n",
       "      <td>False</td>\n",
       "      <td>0.868333</td>\n",
       "    </tr>\n",
       "    <tr>\n",
       "      <th>1</th>\n",
       "      <td>2.176737</td>\n",
       "      <td>False</td>\n",
       "      <td>-0.588437</td>\n",
       "    </tr>\n",
       "    <tr>\n",
       "      <th>2</th>\n",
       "      <td>1.262491</td>\n",
       "      <td>True</td>\n",
       "      <td>7.390811</td>\n",
       "    </tr>\n",
       "    <tr>\n",
       "      <th>3</th>\n",
       "      <td>0.440620</td>\n",
       "      <td>True</td>\n",
       "      <td>5.850044</td>\n",
       "    </tr>\n",
       "    <tr>\n",
       "      <th>4</th>\n",
       "      <td>0.026995</td>\n",
       "      <td>True</td>\n",
       "      <td>5.388289</td>\n",
       "    </tr>\n",
       "    <tr>\n",
       "      <th>...</th>\n",
       "      <td>...</td>\n",
       "      <td>...</td>\n",
       "      <td>...</td>\n",
       "    </tr>\n",
       "    <tr>\n",
       "      <th>995</th>\n",
       "      <td>1.870740</td>\n",
       "      <td>True</td>\n",
       "      <td>6.276886</td>\n",
       "    </tr>\n",
       "    <tr>\n",
       "      <th>996</th>\n",
       "      <td>-0.691565</td>\n",
       "      <td>False</td>\n",
       "      <td>-0.142249</td>\n",
       "    </tr>\n",
       "    <tr>\n",
       "      <th>997</th>\n",
       "      <td>0.999085</td>\n",
       "      <td>True</td>\n",
       "      <td>4.128892</td>\n",
       "    </tr>\n",
       "    <tr>\n",
       "      <th>998</th>\n",
       "      <td>-0.452022</td>\n",
       "      <td>False</td>\n",
       "      <td>-0.846788</td>\n",
       "    </tr>\n",
       "    <tr>\n",
       "      <th>999</th>\n",
       "      <td>-0.456082</td>\n",
       "      <td>True</td>\n",
       "      <td>4.058890</td>\n",
       "    </tr>\n",
       "  </tbody>\n",
       "</table>\n",
       "<p>1000 rows × 3 columns</p>\n",
       "</div>"
      ],
      "text/plain": [
       "           W0     v0         y\n",
       "0   -0.561252  False  0.868333\n",
       "1    2.176737  False -0.588437\n",
       "2    1.262491   True  7.390811\n",
       "3    0.440620   True  5.850044\n",
       "4    0.026995   True  5.388289\n",
       "..        ...    ...       ...\n",
       "995  1.870740   True  6.276886\n",
       "996 -0.691565  False -0.142249\n",
       "997  0.999085   True  4.128892\n",
       "998 -0.452022  False -0.846788\n",
       "999 -0.456082   True  4.058890\n",
       "\n",
       "[1000 rows x 3 columns]"
      ]
     },
     "execution_count": 2,
     "metadata": {},
     "output_type": "execute_result"
    }
   ],
   "source": [
    "data = dowhy.datasets.linear_dataset(beta=5,\n",
    "        num_common_causes=1,\n",
    "        num_instruments = 0,\n",
    "        num_samples=1000,\n",
    "        treatment_is_binary=True)\n",
    "df = data['df']\n",
    "df['y'] = df['y'] + np.random.normal(size=len(df)) # Adding noise to data. Without noise, the variance in Y|X, Z is zero, and mcmc fails.\n",
    "#data['dot_graph'] = 'digraph { v ->y;X0-> v;X0-> y;}'\n",
    "\n",
    "treatment= data[\"treatment_name\"][0]\n",
    "outcome = data[\"outcome_name\"][0]\n",
    "common_cause = data[\"common_causes_names\"][0]\n",
    "df"
   ]
  },
  {
   "cell_type": "code",
   "execution_count": 3,
   "metadata": {
    "execution": {
     "iopub.execute_input": "2023-11-02T20:14:35.368342Z",
     "iopub.status.busy": "2023-11-02T20:14:35.368102Z",
     "iopub.status.idle": "2023-11-02T20:14:35.570014Z",
     "shell.execute_reply": "2023-11-02T20:14:35.569313Z"
    }
   },
   "outputs": [
    {
     "data": {
      "text/plain": [
       "<Axes: xlabel='v0'>"
      ]
     },
     "execution_count": 3,
     "metadata": {},
     "output_type": "execute_result"
    },
    {
     "data": {
      "image/png": "[encoded data removed]",
      "text/plain": [
       "<Figure size 640x480 with 1 Axes>"
      ]
     },
     "metadata": {},
     "output_type": "display_data"
    }
   ],
   "source": [
    "# data['df'] is just a regular pandas.DataFrame\n",
    "df.causal.do(x=treatment,\n",
    "                     variable_types={treatment: 'b', outcome: 'c', common_cause: 'c'},\n",
    "                     outcome=outcome,\n",
    "                     common_causes=[common_cause],\n",
    "                     proceed_when_unidentifiable=True).groupby(treatment).mean().plot(y=outcome, kind='bar')"
   ]
  },
  {
   "cell_type": "code",
   "execution_count": 4,
   "metadata": {
    "execution": {
     "iopub.execute_input": "2023-11-02T20:14:35.573263Z",
     "iopub.status.busy": "2023-11-02T20:14:35.573027Z",
     "iopub.status.idle": "2023-11-02T20:14:35.707348Z",
     "shell.execute_reply": "2023-11-02T20:14:35.706755Z"
    }
   },
   "outputs": [
    {
     "data": {
      "text/plain": [
       "<Axes: xlabel='v0'>"
      ]
     },
     "execution_count": 4,
     "metadata": {},
     "output_type": "execute_result"
    },
    {
     "data": {
      "image/png": "[encoded data removed]",
      "text/plain": [
       "<Figure size 640x480 with 1 Axes>"
      ]
     },
     "metadata": {},
     "output_type": "display_data"
    }
   ],
   "source": [
    "df.causal.do(x={treatment: 1}, \n",
    "              variable_types={treatment:'b', outcome: 'c', common_cause: 'c'}, \n",
    "              outcome=outcome,\n",
    "              method='weighting', \n",
    "              common_causes=[common_cause],\n",
    "              proceed_when_unidentifiable=True).groupby(treatment).mean().plot(y=outcome, kind='bar')"
   ]
  },
  {
   "cell_type": "code",
   "execution_count": 5,
   "metadata": {
    "execution": {
     "iopub.execute_input": "2023-11-02T20:14:35.710451Z",
     "iopub.status.busy": "2023-11-02T20:14:35.710029Z",
     "iopub.status.idle": "2023-11-02T20:14:35.742494Z",
     "shell.execute_reply": "2023-11-02T20:14:35.741880Z"
    }
   },
   "outputs": [],
   "source": [
    "cdf_1 = df.causal.do(x={treatment: 1}, \n",
    "              variable_types={treatment: 'b', outcome: 'c', common_cause: 'c'}, \n",
    "              outcome=outcome, \n",
    "              dot_graph=data['dot_graph'],\n",
    "              proceed_when_unidentifiable=True)\n",
    "\n",
    "cdf_0 = df.causal.do(x={treatment: 0}, \n",
    "              variable_types={treatment: 'b', outcome: 'c', common_cause: 'c'}, \n",
    "              outcome=outcome, \n",
    "              dot_graph=data['dot_graph'],\n",
    "              proceed_when_unidentifiable=True)\n"
   ]
  },
  {
   "cell_type": "code",
   "execution_count": 6,
   "metadata": {
    "execution": {
     "iopub.execute_input": "2023-11-02T20:14:35.745690Z",
     "iopub.status.busy": "2023-11-02T20:14:35.745468Z",
     "iopub.status.idle": "2023-11-02T20:14:35.757888Z",
     "shell.execute_reply": "2023-11-02T20:14:35.757266Z"
    },
    "scrolled": true
   },
   "outputs": [
    {
     "data": {
      "text/html": [
       "<div>\n",
       "<style scoped>\n",
       "    .dataframe tbody tr th:only-of-type {\n",
       "        vertical-align: middle;\n",
       "    }\n",
       "\n",
       "    .dataframe tbody tr th {\n",
       "        vertical-align: top;\n",
       "    }\n",
       "\n",
       "    .dataframe thead th {\n",
       "        text-align: right;\n",
       "    }\n",
       "</style>\n",
       "<table border=\"1\" class=\"dataframe\">\n",
       "  <thead>\n",
       "    <tr style=\"text-align: right;\">\n",
       "      <th></th>\n",
       "      <th>W0</th>\n",
       "      <th>v0</th>\n",
       "      <th>y</th>\n",
       "      <th>propensity_score</th>\n",
       "      <th>weight</th>\n",
       "    </tr>\n",
       "  </thead>\n",
       "  <tbody>\n",
       "    <tr>\n",
       "      <th>0</th>\n",
       "      <td>1.266352</td>\n",
       "      <td>False</td>\n",
       "      <td>-0.473516</td>\n",
       "      <td>0.372571</td>\n",
       "      <td>2.684052</td>\n",
       "    </tr>\n",
       "    <tr>\n",
       "      <th>1</th>\n",
       "      <td>0.818434</td>\n",
       "      <td>False</td>\n",
       "      <td>-0.479007</td>\n",
       "      <td>0.421609</td>\n",
       "      <td>2.371863</td>\n",
       "    </tr>\n",
       "    <tr>\n",
       "      <th>2</th>\n",
       "      <td>0.027323</td>\n",
       "      <td>False</td>\n",
       "      <td>0.790686</td>\n",
       "      <td>0.511488</td>\n",
       "      <td>1.955081</td>\n",
       "    </tr>\n",
       "    <tr>\n",
       "      <th>3</th>\n",
       "      <td>0.091353</td>\n",
       "      <td>False</td>\n",
       "      <td>-1.322200</td>\n",
       "      <td>0.504162</td>\n",
       "      <td>1.983488</td>\n",
       "    </tr>\n",
       "    <tr>\n",
       "      <th>4</th>\n",
       "      <td>-0.763380</td>\n",
       "      <td>False</td>\n",
       "      <td>0.593622</td>\n",
       "      <td>0.600585</td>\n",
       "      <td>1.665044</td>\n",
       "    </tr>\n",
       "    <tr>\n",
       "      <th>...</th>\n",
       "      <td>...</td>\n",
       "      <td>...</td>\n",
       "      <td>...</td>\n",
       "      <td>...</td>\n",
       "      <td>...</td>\n",
       "    </tr>\n",
       "    <tr>\n",
       "      <th>995</th>\n",
       "      <td>0.407241</td>\n",
       "      <td>False</td>\n",
       "      <td>-1.070387</td>\n",
       "      <td>0.468057</td>\n",
       "      <td>2.136493</td>\n",
       "    </tr>\n",
       "    <tr>\n",
       "      <th>996</th>\n",
       "      <td>2.352330</td>\n",
       "      <td>False</td>\n",
       "      <td>-1.994696</td>\n",
       "      <td>0.265357</td>\n",
       "      <td>3.768502</td>\n",
       "    </tr>\n",
       "    <tr>\n",
       "      <th>997</th>\n",
       "      <td>-0.254352</td>\n",
       "      <td>False</td>\n",
       "      <td>-0.943168</td>\n",
       "      <td>0.543613</td>\n",
       "      <td>1.839545</td>\n",
       "    </tr>\n",
       "    <tr>\n",
       "      <th>998</th>\n",
       "      <td>-0.932167</td>\n",
       "      <td>False</td>\n",
       "      <td>-0.603214</td>\n",
       "      <td>0.618966</td>\n",
       "      <td>1.615597</td>\n",
       "    </tr>\n",
       "    <tr>\n",
       "      <th>999</th>\n",
       "      <td>0.392938</td>\n",
       "      <td>False</td>\n",
       "      <td>-1.120542</td>\n",
       "      <td>0.469687</td>\n",
       "      <td>2.129077</td>\n",
       "    </tr>\n",
       "  </tbody>\n",
       "</table>\n",
       "<p>1000 rows × 5 columns</p>\n",
       "</div>"
      ],
      "text/plain": [
       "           W0     v0         y  propensity_score    weight\n",
       "0    1.266352  False -0.473516          0.372571  2.684052\n",
       "1    0.818434  False -0.479007          0.421609  2.371863\n",
       "2    0.027323  False  0.790686          0.511488  1.955081\n",
       "3    0.091353  False -1.322200          0.504162  1.983488\n",
       "4   -0.763380  False  0.593622          0.600585  1.665044\n",
       "..        ...    ...       ...               ...       ...\n",
       "995  0.407241  False -1.070387          0.468057  2.136493\n",
       "996  2.352330  False -1.994696          0.265357  3.768502\n",
       "997 -0.254352  False -0.943168          0.543613  1.839545\n",
       "998 -0.932167  False -0.603214          0.618966  1.615597\n",
       "999  0.392938  False -1.120542          0.469687  2.129077\n",
       "\n",
       "[1000 rows x 5 columns]"
      ]
     },
     "execution_count": 6,
     "metadata": {},
     "output_type": "execute_result"
    }
   ],
   "source": [
    "cdf_0"
   ]
  },
  {
   "cell_type": "code",
   "execution_count": 7,
   "metadata": {
    "execution": {
     "iopub.execute_input": "2023-11-02T20:14:35.760860Z",
     "iopub.status.busy": "2023-11-02T20:14:35.760303Z",
     "iopub.status.idle": "2023-11-02T20:14:35.772517Z",
     "shell.execute_reply": "2023-11-02T20:14:35.771739Z"
    }
   },
   "outputs": [
    {
     "data": {
      "text/html": [
       "<div>\n",
       "<style scoped>\n",
       "    .dataframe tbody tr th:only-of-type {\n",
       "        vertical-align: middle;\n",
       "    }\n",
       "\n",
       "    .dataframe tbody tr th {\n",
       "        vertical-align: top;\n",
       "    }\n",
       "\n",
       "    .dataframe thead th {\n",
       "        text-align: right;\n",
       "    }\n",
       "</style>\n",
       "<table border=\"1\" class=\"dataframe\">\n",
       "  <thead>\n",
       "    <tr style=\"text-align: right;\">\n",
       "      <th></th>\n",
       "      <th>W0</th>\n",
       "      <th>v0</th>\n",
       "      <th>y</th>\n",
       "      <th>propensity_score</th>\n",
       "      <th>weight</th>\n",
       "    </tr>\n",
       "  </thead>\n",
       "  <tbody>\n",
       "    <tr>\n",
       "      <th>0</th>\n",
       "      <td>0.097119</td>\n",
       "      <td>True</td>\n",
       "      <td>4.972809</td>\n",
       "      <td>0.496497</td>\n",
       "      <td>2.014109</td>\n",
       "    </tr>\n",
       "    <tr>\n",
       "      <th>1</th>\n",
       "      <td>1.058798</td>\n",
       "      <td>True</td>\n",
       "      <td>4.237084</td>\n",
       "      <td>0.604965</td>\n",
       "      <td>1.652988</td>\n",
       "    </tr>\n",
       "    <tr>\n",
       "      <th>2</th>\n",
       "      <td>3.388532</td>\n",
       "      <td>True</td>\n",
       "      <td>4.523841</td>\n",
       "      <td>0.816472</td>\n",
       "      <td>1.224782</td>\n",
       "    </tr>\n",
       "    <tr>\n",
       "      <th>3</th>\n",
       "      <td>1.061958</td>\n",
       "      <td>True</td>\n",
       "      <td>3.203886</td>\n",
       "      <td>0.605310</td>\n",
       "      <td>1.652045</td>\n",
       "    </tr>\n",
       "    <tr>\n",
       "      <th>4</th>\n",
       "      <td>2.509190</td>\n",
       "      <td>True</td>\n",
       "      <td>4.606014</td>\n",
       "      <td>0.748402</td>\n",
       "      <td>1.336180</td>\n",
       "    </tr>\n",
       "    <tr>\n",
       "      <th>...</th>\n",
       "      <td>...</td>\n",
       "      <td>...</td>\n",
       "      <td>...</td>\n",
       "      <td>...</td>\n",
       "      <td>...</td>\n",
       "    </tr>\n",
       "    <tr>\n",
       "      <th>995</th>\n",
       "      <td>0.481193</td>\n",
       "      <td>True</td>\n",
       "      <td>4.702493</td>\n",
       "      <td>0.540362</td>\n",
       "      <td>1.850612</td>\n",
       "    </tr>\n",
       "    <tr>\n",
       "      <th>996</th>\n",
       "      <td>0.929779</td>\n",
       "      <td>True</td>\n",
       "      <td>4.940884</td>\n",
       "      <td>0.590767</td>\n",
       "      <td>1.692714</td>\n",
       "    </tr>\n",
       "    <tr>\n",
       "      <th>997</th>\n",
       "      <td>3.236923</td>\n",
       "      <td>True</td>\n",
       "      <td>5.616910</td>\n",
       "      <td>0.805844</td>\n",
       "      <td>1.240935</td>\n",
       "    </tr>\n",
       "    <tr>\n",
       "      <th>998</th>\n",
       "      <td>0.648760</td>\n",
       "      <td>True</td>\n",
       "      <td>6.392635</td>\n",
       "      <td>0.559344</td>\n",
       "      <td>1.787807</td>\n",
       "    </tr>\n",
       "    <tr>\n",
       "      <th>999</th>\n",
       "      <td>-0.372670</td>\n",
       "      <td>True</td>\n",
       "      <td>4.957453</td>\n",
       "      <td>0.442985</td>\n",
       "      <td>2.257411</td>\n",
       "    </tr>\n",
       "  </tbody>\n",
       "</table>\n",
       "<p>1000 rows × 5 columns</p>\n",
       "</div>"
      ],
      "text/plain": [
       "           W0    v0         y  propensity_score    weight\n",
       "0    0.097119  True  4.972809          0.496497  2.014109\n",
       "1    1.058798  True  4.237084          0.604965  1.652988\n",
       "2    3.388532  True  4.523841          0.816472  1.224782\n",
       "3    1.061958  True  3.203886          0.605310  1.652045\n",
       "4    2.509190  True  4.606014          0.748402  1.336180\n",
       "..        ...   ...       ...               ...       ...\n",
       "995  0.481193  True  4.702493          0.540362  1.850612\n",
       "996  0.929779  True  4.940884          0.590767  1.692714\n",
       "997  3.236923  True  5.616910          0.805844  1.240935\n",
       "998  0.648760  True  6.392635          0.559344  1.787807\n",
       "999 -0.372670  True  4.957453          0.442985  2.257411\n",
       "\n",
       "[1000 rows x 5 columns]"
      ]
     },
     "execution_count": 7,
     "metadata": {},
     "output_type": "execute_result"
    }
   ],
   "source": [
    "cdf_1"
   ]
  },
  {
   "cell_type": "markdown",
   "metadata": {},
   "source": [
    "## Comparing the estimate to Linear Regression\n",
    "First, estimating the effect using the causal data frame, and the 95% confidence interval."
   ]
  },
  {
   "cell_type": "code",
   "execution_count": 8,
   "metadata": {
    "execution": {
     "iopub.execute_input": "2023-11-02T20:14:35.775613Z",
     "iopub.status.busy": "2023-11-02T20:14:35.774981Z",
     "iopub.status.idle": "2023-11-02T20:14:35.836602Z",
     "shell.execute_reply": "2023-11-02T20:14:35.835803Z"
    }
   },
   "outputs": [
    {
     "data": {
      "image/png": "[encoded data removed]",
      "text/latex": [
       "$\\displaystyle 5.05936864457803$"
      ],
      "text/plain": [
       "5.059368644578026"
      ]
     },
     "execution_count": 8,
     "metadata": {},
     "output_type": "execute_result"
    }
   ],
   "source": [
    "(cdf_1['y'] - cdf_0['y']).mean()"
   ]
  },
  {
   "cell_type": "code",
   "execution_count": 9,
   "metadata": {
    "execution": {
     "iopub.execute_input": "2023-11-02T20:14:35.840222Z",
     "iopub.status.busy": "2023-11-02T20:14:35.839669Z",
     "iopub.status.idle": "2023-11-02T20:14:35.862554Z",
     "shell.execute_reply": "2023-11-02T20:14:35.861166Z"
    }
   },
   "outputs": [
    {
     "data": {
      "image/png": "[encoded data removed]",
      "text/latex": [
       "$\\displaystyle 0.0887903328967948$"
      ],
      "text/plain": [
       "0.08879033289679476"
      ]
     },
     "execution_count": 9,
     "metadata": {},
     "output_type": "execute_result"
    }
   ],
   "source": [
    "1.96*(cdf_1['y'] - cdf_0['y']).std() / np.sqrt(len(df))"
   ]
  },
  {
   "cell_type": "markdown",
   "metadata": {},
   "source": [
    "Comparing to the estimate from OLS."
   ]
  },
  {
   "cell_type": "code",
   "execution_count": 10,
   "metadata": {
    "execution": {
     "iopub.execute_input": "2023-11-02T20:14:35.865708Z",
     "iopub.status.busy": "2023-11-02T20:14:35.865343Z",
     "iopub.status.idle": "2023-11-02T20:14:35.887472Z",
     "shell.execute_reply": "2023-11-02T20:14:35.886892Z"
    }
   },
   "outputs": [
    {
     "data": {
      "text/html": [
       "<table class=\"simpletable\">\n",
       "<caption>OLS Regression Results</caption>\n",
       "<tr>\n",
       "  <th>Dep. Variable:</th>            <td>y</td>        <th>  R-squared (uncentered):</th>      <td>   0.937</td>\n",
       "</tr>\n",
       "<tr>\n",
       "  <th>Model:</th>                   <td>OLS</td>       <th>  Adj. R-squared (uncentered):</th> <td>   0.937</td>\n",
       "</tr>\n",
       "<tr>\n",
       "  <th>Method:</th>             <td>Least Squares</td>  <th>  F-statistic:       </th>          <td>   7434.</td>\n",
       "</tr>\n",
       "<tr>\n",
       "  <th>Date:</th>             <td>Thu, 02 Nov 2023</td> <th>  Prob (F-statistic):</th>           <td>  0.00</td> \n",
       "</tr>\n",
       "<tr>\n",
       "  <th>Time:</th>                 <td>20:14:35</td>     <th>  Log-Likelihood:    </th>          <td> -1408.1</td>\n",
       "</tr>\n",
       "<tr>\n",
       "  <th>No. Observations:</th>      <td>  1000</td>      <th>  AIC:               </th>          <td>   2820.</td>\n",
       "</tr>\n",
       "<tr>\n",
       "  <th>Df Residuals:</th>          <td>   998</td>      <th>  BIC:               </th>          <td>   2830.</td>\n",
       "</tr>\n",
       "<tr>\n",
       "  <th>Df Model:</th>              <td>     2</td>      <th>                     </th>              <td> </td>   \n",
       "</tr>\n",
       "<tr>\n",
       "  <th>Covariance Type:</th>      <td>nonrobust</td>    <th>                     </th>              <td> </td>   \n",
       "</tr>\n",
       "</table>\n",
       "<table class=\"simpletable\">\n",
       "<tr>\n",
       "   <td></td>     <th>coef</th>     <th>std err</th>      <th>t</th>      <th>P>|t|</th>  <th>[0.025</th>    <th>0.975]</th>  \n",
       "</tr>\n",
       "<tr>\n",
       "  <th>x1</th> <td>    0.1975</td> <td>    0.032</td> <td>    6.144</td> <td> 0.000</td> <td>    0.134</td> <td>    0.261</td>\n",
       "</tr>\n",
       "<tr>\n",
       "  <th>x2</th> <td>    5.0341</td> <td>    0.048</td> <td>  104.304</td> <td> 0.000</td> <td>    4.939</td> <td>    5.129</td>\n",
       "</tr>\n",
       "</table>\n",
       "<table class=\"simpletable\">\n",
       "<tr>\n",
       "  <th>Omnibus:</th>       <td> 0.263</td> <th>  Durbin-Watson:     </th> <td>   1.983</td>\n",
       "</tr>\n",
       "<tr>\n",
       "  <th>Prob(Omnibus):</th> <td> 0.877</td> <th>  Jarque-Bera (JB):  </th> <td>   0.345</td>\n",
       "</tr>\n",
       "<tr>\n",
       "  <th>Skew:</th>          <td>-0.020</td> <th>  Prob(JB):          </th> <td>   0.841</td>\n",
       "</tr>\n",
       "<tr>\n",
       "  <th>Kurtosis:</th>      <td> 2.919</td> <th>  Cond. No.          </th> <td>    1.95</td>\n",
       "</tr>\n",
       "</table><br/><br/>Notes:<br/>[1] R² is computed without centering (uncentered) since the model does not contain a constant.<br/>[2] Standard Errors assume that the covariance matrix of the errors is correctly specified."
      ],
      "text/latex": [
       "\\begin{center}\n",
       "\\begin{tabular}{lclc}\n",
       "\\toprule\n",
       "\\textbf{Dep. Variable:}    &        y         & \\textbf{  R-squared (uncentered):}      &     0.937   \\\\\n",
       "\\textbf{Model:}            &       OLS        & \\textbf{  Adj. R-squared (uncentered):} &     0.937   \\\\\n",
       "\\textbf{Method:}           &  Least Squares   & \\textbf{  F-statistic:       }          &     7434.   \\\\\n",
       "\\textbf{Date:}             & Thu, 02 Nov 2023 & \\textbf{  Prob (F-statistic):}          &     0.00    \\\\\n",
       "\\textbf{Time:}             &     20:14:35     & \\textbf{  Log-Likelihood:    }          &   -1408.1   \\\\\n",
       "\\textbf{No. Observations:} &        1000      & \\textbf{  AIC:               }          &     2820.   \\\\\n",
       "\\textbf{Df Residuals:}     &         998      & \\textbf{  BIC:               }          &     2830.   \\\\\n",
       "\\textbf{Df Model:}         &           2      & \\textbf{                     }          &             \\\\\n",
       "\\textbf{Covariance Type:}  &    nonrobust     & \\textbf{                     }          &             \\\\\n",
       "\\bottomrule\n",
       "\\end{tabular}\n",
       "\\begin{tabular}{lcccccc}\n",
       "            & \\textbf{coef} & \\textbf{std err} & \\textbf{t} & \\textbf{P$> |$t$|$} & \\textbf{[0.025} & \\textbf{0.975]}  \\\\\n",
       "\\midrule\n",
       "\\textbf{x1} &       0.1975  &        0.032     &     6.144  &         0.000        &        0.134    &        0.261     \\\\\n",
       "\\textbf{x2} &       5.0341  &        0.048     &   104.304  &         0.000        &        4.939    &        5.129     \\\\\n",
       "\\bottomrule\n",
       "\\end{tabular}\n",
       "\\begin{tabular}{lclc}\n",
       "\\textbf{Omnibus:}       &  0.263 & \\textbf{  Durbin-Watson:     } &    1.983  \\\\\n",
       "\\textbf{Prob(Omnibus):} &  0.877 & \\textbf{  Jarque-Bera (JB):  } &    0.345  \\\\\n",
       "\\textbf{Skew:}          & -0.020 & \\textbf{  Prob(JB):          } &    0.841  \\\\\n",
       "\\textbf{Kurtosis:}      &  2.919 & \\textbf{  Cond. No.          } &     1.95  \\\\\n",
       "\\bottomrule\n",
       "\\end{tabular}\n",
       "%\\caption{OLS Regression Results}\n",
       "\\end{center}\n",
       "\n",
       "Notes: \\newline\n",
       " [1] R² is computed without centering (uncentered) since the model does not contain a constant. \\newline\n",
       " [2] Standard Errors assume that the covariance matrix of the errors is correctly specified."
      ],
      "text/plain": [
       "<class 'statsmodels.iolib.summary.Summary'>\n",
       "\"\"\"\n",
       "                                 OLS Regression Results                                \n",
       "=======================================================================================\n",
       "Dep. Variable:                      y   R-squared (uncentered):                   0.937\n",
       "Model:                            OLS   Adj. R-squared (uncentered):              0.937\n",
       "Method:                 Least Squares   F-statistic:                              7434.\n",
       "Date:                Thu, 02 Nov 2023   Prob (F-statistic):                        0.00\n",
       "Time:                        20:14:35   Log-Likelihood:                         -1408.1\n",
       "No. Observations:                1000   AIC:                                      2820.\n",
       "Df Residuals:                     998   BIC:                                      2830.\n",
       "Df Model:                           2                                                  \n",
       "Covariance Type:            nonrobust                                                  \n",
       "==============================================================================\n",
       "                 coef    std err          t      P>|t|      [0.025      0.975]\n",
       "------------------------------------------------------------------------------\n",
       "x1             0.1975      0.032      6.144      0.000       0.134       0.261\n",
       "x2             5.0341      0.048    104.304      0.000       4.939       5.129\n",
       "==============================================================================\n",
       "Omnibus:                        0.263   Durbin-Watson:                   1.983\n",
       "Prob(Omnibus):                  0.877   Jarque-Bera (JB):                0.345\n",
       "Skew:                          -0.020   Prob(JB):                        0.841\n",
       "Kurtosis:                       2.919   Cond. No.                         1.95\n",
       "==============================================================================\n",
       "\n",
       "Notes:\n",
       "[1] R² is computed without centering (uncentered) since the model does not contain a constant.\n",
       "[2] Standard Errors assume that the covariance matrix of the errors is correctly specified.\n",
       "\"\"\""
      ]
     },
     "execution_count": 10,
     "metadata": {},
     "output_type": "execute_result"
    }
   ],
   "source": [
    "model = OLS(np.asarray(df[outcome]), np.asarray(df[[common_cause, treatment]], dtype=np.float64))\n",
    "result = model.fit()\n",
    "result.summary()"
   ]
  }
 ],
 "metadata": {
  "kernelspec": {
   "display_name": "Python 3",
   "language": "python",
   "name": "python3"
  },
  "language_info": {
   "codemirror_mode": {
    "name": "ipython",
    "version": 3
   },
   "file_extension": ".py",
   "mimetype": "text/x-python",
   "name": "python",
   "nbconvert_exporter": "python",
   "pygments_lexer": "ipython3",
   "version": "3.8.10"
  },
  "toc": {
   "base_numbering": 1,
   "nav_menu": {},
   "number_sections": false,
   "sideBar": true,
   "skip_h1_title": true,
   "title_cell": "Table of Contents",
   "title_sidebar": "Contents",
   "toc_cell": false,
   "toc_position": {},
   "toc_section_display": true,
   "toc_window_display": false
  }
 },
 "nbformat": 4,
 "nbformat_minor": 4
}
