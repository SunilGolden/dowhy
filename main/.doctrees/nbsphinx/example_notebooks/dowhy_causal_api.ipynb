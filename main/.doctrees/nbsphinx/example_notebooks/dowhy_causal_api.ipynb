{
 "cells": [
  {
   "cell_type": "markdown",
   "metadata": {},
   "source": [
    "# Demo for the DoWhy causal API\n",
    "We show a simple example of adding a causal extension to any dataframe. "
   ]
  },
  {
   "cell_type": "code",
   "execution_count": 1,
   "metadata": {
    "execution": {
     "iopub.execute_input": "2023-02-10T04:45:58.970059Z",
     "iopub.status.busy": "2023-02-10T04:45:58.969577Z",
     "iopub.status.idle": "2023-02-10T04:46:00.532478Z",
     "shell.execute_reply": "2023-02-10T04:46:00.531825Z"
    }
   },
   "outputs": [],
   "source": [
    "import dowhy.datasets\n",
    "import dowhy.api\n",
    "\n",
    "import numpy as np\n",
    "import pandas as pd\n",
    "\n",
    "from statsmodels.api import OLS"
   ]
  },
  {
   "cell_type": "code",
   "execution_count": 2,
   "metadata": {
    "execution": {
     "iopub.execute_input": "2023-02-10T04:46:00.535831Z",
     "iopub.status.busy": "2023-02-10T04:46:00.535212Z",
     "iopub.status.idle": "2023-02-10T04:46:00.579657Z",
     "shell.execute_reply": "2023-02-10T04:46:00.579101Z"
    }
   },
   "outputs": [
    {
     "data": {
      "text/html": [
       "<div>\n",
       "<style scoped>\n",
       "    .dataframe tbody tr th:only-of-type {\n",
       "        vertical-align: middle;\n",
       "    }\n",
       "\n",
       "    .dataframe tbody tr th {\n",
       "        vertical-align: top;\n",
       "    }\n",
       "\n",
       "    .dataframe thead th {\n",
       "        text-align: right;\n",
       "    }\n",
       "</style>\n",
       "<table border=\"1\" class=\"dataframe\">\n",
       "  <thead>\n",
       "    <tr style=\"text-align: right;\">\n",
       "      <th></th>\n",
       "      <th>W0</th>\n",
       "      <th>v0</th>\n",
       "      <th>y</th>\n",
       "    </tr>\n",
       "  </thead>\n",
       "  <tbody>\n",
       "    <tr>\n",
       "      <th>0</th>\n",
       "      <td>-0.888464</td>\n",
       "      <td>False</td>\n",
       "      <td>-2.203735</td>\n",
       "    </tr>\n",
       "    <tr>\n",
       "      <th>1</th>\n",
       "      <td>-2.241538</td>\n",
       "      <td>False</td>\n",
       "      <td>-5.664553</td>\n",
       "    </tr>\n",
       "    <tr>\n",
       "      <th>2</th>\n",
       "      <td>-0.334730</td>\n",
       "      <td>True</td>\n",
       "      <td>3.472955</td>\n",
       "    </tr>\n",
       "    <tr>\n",
       "      <th>3</th>\n",
       "      <td>-0.805488</td>\n",
       "      <td>True</td>\n",
       "      <td>4.624912</td>\n",
       "    </tr>\n",
       "    <tr>\n",
       "      <th>4</th>\n",
       "      <td>-1.273908</td>\n",
       "      <td>True</td>\n",
       "      <td>2.446185</td>\n",
       "    </tr>\n",
       "    <tr>\n",
       "      <th>...</th>\n",
       "      <td>...</td>\n",
       "      <td>...</td>\n",
       "      <td>...</td>\n",
       "    </tr>\n",
       "    <tr>\n",
       "      <th>995</th>\n",
       "      <td>0.007627</td>\n",
       "      <td>True</td>\n",
       "      <td>3.908976</td>\n",
       "    </tr>\n",
       "    <tr>\n",
       "      <th>996</th>\n",
       "      <td>-1.275785</td>\n",
       "      <td>True</td>\n",
       "      <td>3.397432</td>\n",
       "    </tr>\n",
       "    <tr>\n",
       "      <th>997</th>\n",
       "      <td>-2.530643</td>\n",
       "      <td>False</td>\n",
       "      <td>-6.360178</td>\n",
       "    </tr>\n",
       "    <tr>\n",
       "      <th>998</th>\n",
       "      <td>-0.037295</td>\n",
       "      <td>False</td>\n",
       "      <td>-0.975472</td>\n",
       "    </tr>\n",
       "    <tr>\n",
       "      <th>999</th>\n",
       "      <td>-1.986154</td>\n",
       "      <td>True</td>\n",
       "      <td>0.918955</td>\n",
       "    </tr>\n",
       "  </tbody>\n",
       "</table>\n",
       "<p>1000 rows × 3 columns</p>\n",
       "</div>"
      ],
      "text/plain": [
       "           W0     v0         y\n",
       "0   -0.888464  False -2.203735\n",
       "1   -2.241538  False -5.664553\n",
       "2   -0.334730   True  3.472955\n",
       "3   -0.805488   True  4.624912\n",
       "4   -1.273908   True  2.446185\n",
       "..        ...    ...       ...\n",
       "995  0.007627   True  3.908976\n",
       "996 -1.275785   True  3.397432\n",
       "997 -2.530643  False -6.360178\n",
       "998 -0.037295  False -0.975472\n",
       "999 -1.986154   True  0.918955\n",
       "\n",
       "[1000 rows x 3 columns]"
      ]
     },
     "execution_count": 2,
     "metadata": {},
     "output_type": "execute_result"
    }
   ],
   "source": [
    "data = dowhy.datasets.linear_dataset(beta=5,\n",
    "        num_common_causes=1,\n",
    "        num_instruments = 0,\n",
    "        num_samples=1000,\n",
    "        treatment_is_binary=True)\n",
    "df = data['df']\n",
    "df['y'] = df['y'] + np.random.normal(size=len(df)) # Adding noise to data. Without noise, the variance in Y|X, Z is zero, and mcmc fails.\n",
    "#data['dot_graph'] = 'digraph { v ->y;X0-> v;X0-> y;}'\n",
    "\n",
    "treatment= data[\"treatment_name\"][0]\n",
    "outcome = data[\"outcome_name\"][0]\n",
    "common_cause = data[\"common_causes_names\"][0]\n",
    "df"
   ]
  },
  {
   "cell_type": "code",
   "execution_count": 3,
   "metadata": {
    "execution": {
     "iopub.execute_input": "2023-02-10T04:46:00.582768Z",
     "iopub.status.busy": "2023-02-10T04:46:00.582223Z",
     "iopub.status.idle": "2023-02-10T04:46:00.801483Z",
     "shell.execute_reply": "2023-02-10T04:46:00.800974Z"
    }
   },
   "outputs": [
    {
     "data": {
      "text/plain": [
       "<AxesSubplot: xlabel='v0'>"
      ]
     },
     "execution_count": 3,
     "metadata": {},
     "output_type": "execute_result"
    },
    {
     "data": {
      "image/png": "[encoded data removed]",
      "text/plain": [
       "<Figure size 640x480 with 1 Axes>"
      ]
     },
     "metadata": {},
     "output_type": "display_data"
    }
   ],
   "source": [
    "# data['df'] is just a regular pandas.DataFrame\n",
    "df.causal.do(x=treatment,\n",
    "                     variable_types={treatment: 'b', outcome: 'c', common_cause: 'c'},\n",
    "                     outcome=outcome,\n",
    "                     common_causes=[common_cause],\n",
    "                     proceed_when_unidentifiable=True).groupby(treatment).mean().plot(y=outcome, kind='bar')"
   ]
  },
  {
   "cell_type": "code",
   "execution_count": 4,
   "metadata": {
    "execution": {
     "iopub.execute_input": "2023-02-10T04:46:00.804242Z",
     "iopub.status.busy": "2023-02-10T04:46:00.803813Z",
     "iopub.status.idle": "2023-02-10T04:46:00.914724Z",
     "shell.execute_reply": "2023-02-10T04:46:00.914217Z"
    }
   },
   "outputs": [
    {
     "data": {
      "text/plain": [
       "<AxesSubplot: xlabel='v0'>"
      ]
     },
     "execution_count": 4,
     "metadata": {},
     "output_type": "execute_result"
    },
    {
     "data": {
      "image/png": "[encoded data removed]",
      "text/plain": [
       "<Figure size 640x480 with 1 Axes>"
      ]
     },
     "metadata": {},
     "output_type": "display_data"
    }
   ],
   "source": [
    "df.causal.do(x={treatment: 1}, \n",
    "              variable_types={treatment:'b', outcome: 'c', common_cause: 'c'}, \n",
    "              outcome=outcome,\n",
    "              method='weighting', \n",
    "              common_causes=[common_cause],\n",
    "              proceed_when_unidentifiable=True).groupby(treatment).mean().plot(y=outcome, kind='bar')"
   ]
  },
  {
   "cell_type": "code",
   "execution_count": 5,
   "metadata": {
    "execution": {
     "iopub.execute_input": "2023-02-10T04:46:00.917393Z",
     "iopub.status.busy": "2023-02-10T04:46:00.917039Z",
     "iopub.status.idle": "2023-02-10T04:46:00.946774Z",
     "shell.execute_reply": "2023-02-10T04:46:00.946182Z"
    }
   },
   "outputs": [],
   "source": [
    "cdf_1 = df.causal.do(x={treatment: 1}, \n",
    "              variable_types={treatment: 'b', outcome: 'c', common_cause: 'c'}, \n",
    "              outcome=outcome, \n",
    "              dot_graph=data['dot_graph'],\n",
    "              proceed_when_unidentifiable=True)\n",
    "\n",
    "cdf_0 = df.causal.do(x={treatment: 0}, \n",
    "              variable_types={treatment: 'b', outcome: 'c', common_cause: 'c'}, \n",
    "              outcome=outcome, \n",
    "              dot_graph=data['dot_graph'],\n",
    "              proceed_when_unidentifiable=True)\n"
   ]
  },
  {
   "cell_type": "code",
   "execution_count": 6,
   "metadata": {
    "execution": {
     "iopub.execute_input": "2023-02-10T04:46:00.949777Z",
     "iopub.status.busy": "2023-02-10T04:46:00.949273Z",
     "iopub.status.idle": "2023-02-10T04:46:00.960228Z",
     "shell.execute_reply": "2023-02-10T04:46:00.959457Z"
    },
    "scrolled": true
   },
   "outputs": [
    {
     "data": {
      "text/html": [
       "<div>\n",
       "<style scoped>\n",
       "    .dataframe tbody tr th:only-of-type {\n",
       "        vertical-align: middle;\n",
       "    }\n",
       "\n",
       "    .dataframe tbody tr th {\n",
       "        vertical-align: top;\n",
       "    }\n",
       "\n",
       "    .dataframe thead th {\n",
       "        text-align: right;\n",
       "    }\n",
       "</style>\n",
       "<table border=\"1\" class=\"dataframe\">\n",
       "  <thead>\n",
       "    <tr style=\"text-align: right;\">\n",
       "      <th></th>\n",
       "      <th>W0</th>\n",
       "      <th>v0</th>\n",
       "      <th>y</th>\n",
       "      <th>propensity_score</th>\n",
       "      <th>weight</th>\n",
       "    </tr>\n",
       "  </thead>\n",
       "  <tbody>\n",
       "    <tr>\n",
       "      <th>0</th>\n",
       "      <td>-2.324818</td>\n",
       "      <td>False</td>\n",
       "      <td>-5.941996</td>\n",
       "      <td>0.523616</td>\n",
       "      <td>1.909795</td>\n",
       "    </tr>\n",
       "    <tr>\n",
       "      <th>1</th>\n",
       "      <td>-2.526898</td>\n",
       "      <td>False</td>\n",
       "      <td>-5.290295</td>\n",
       "      <td>0.524811</td>\n",
       "      <td>1.905446</td>\n",
       "    </tr>\n",
       "    <tr>\n",
       "      <th>2</th>\n",
       "      <td>-1.085529</td>\n",
       "      <td>False</td>\n",
       "      <td>-2.712633</td>\n",
       "      <td>0.516283</td>\n",
       "      <td>1.936924</td>\n",
       "    </tr>\n",
       "    <tr>\n",
       "      <th>3</th>\n",
       "      <td>-0.002015</td>\n",
       "      <td>False</td>\n",
       "      <td>1.022717</td>\n",
       "      <td>0.509865</td>\n",
       "      <td>1.961304</td>\n",
       "    </tr>\n",
       "    <tr>\n",
       "      <th>4</th>\n",
       "      <td>-1.892058</td>\n",
       "      <td>False</td>\n",
       "      <td>-4.826185</td>\n",
       "      <td>0.521057</td>\n",
       "      <td>1.919178</td>\n",
       "    </tr>\n",
       "    <tr>\n",
       "      <th>...</th>\n",
       "      <td>...</td>\n",
       "      <td>...</td>\n",
       "      <td>...</td>\n",
       "      <td>...</td>\n",
       "      <td>...</td>\n",
       "    </tr>\n",
       "    <tr>\n",
       "      <th>995</th>\n",
       "      <td>1.117849</td>\n",
       "      <td>False</td>\n",
       "      <td>3.966078</td>\n",
       "      <td>0.503228</td>\n",
       "      <td>1.987170</td>\n",
       "    </tr>\n",
       "    <tr>\n",
       "      <th>996</th>\n",
       "      <td>-2.437872</td>\n",
       "      <td>False</td>\n",
       "      <td>-5.129277</td>\n",
       "      <td>0.524285</td>\n",
       "      <td>1.907359</td>\n",
       "    </tr>\n",
       "    <tr>\n",
       "      <th>997</th>\n",
       "      <td>-0.830718</td>\n",
       "      <td>False</td>\n",
       "      <td>-0.813320</td>\n",
       "      <td>0.514774</td>\n",
       "      <td>1.942601</td>\n",
       "    </tr>\n",
       "    <tr>\n",
       "      <th>998</th>\n",
       "      <td>-0.784468</td>\n",
       "      <td>False</td>\n",
       "      <td>-2.374298</td>\n",
       "      <td>0.514500</td>\n",
       "      <td>1.943635</td>\n",
       "    </tr>\n",
       "    <tr>\n",
       "      <th>999</th>\n",
       "      <td>-1.911799</td>\n",
       "      <td>False</td>\n",
       "      <td>-3.939183</td>\n",
       "      <td>0.521173</td>\n",
       "      <td>1.918748</td>\n",
       "    </tr>\n",
       "  </tbody>\n",
       "</table>\n",
       "<p>1000 rows × 5 columns</p>\n",
       "</div>"
      ],
      "text/plain": [
       "           W0     v0         y  propensity_score    weight\n",
       "0   -2.324818  False -5.941996          0.523616  1.909795\n",
       "1   -2.526898  False -5.290295          0.524811  1.905446\n",
       "2   -1.085529  False -2.712633          0.516283  1.936924\n",
       "3   -0.002015  False  1.022717          0.509865  1.961304\n",
       "4   -1.892058  False -4.826185          0.521057  1.919178\n",
       "..        ...    ...       ...               ...       ...\n",
       "995  1.117849  False  3.966078          0.503228  1.987170\n",
       "996 -2.437872  False -5.129277          0.524285  1.907359\n",
       "997 -0.830718  False -0.813320          0.514774  1.942601\n",
       "998 -0.784468  False -2.374298          0.514500  1.943635\n",
       "999 -1.911799  False -3.939183          0.521173  1.918748\n",
       "\n",
       "[1000 rows x 5 columns]"
      ]
     },
     "execution_count": 6,
     "metadata": {},
     "output_type": "execute_result"
    }
   ],
   "source": [
    "cdf_0"
   ]
  },
  {
   "cell_type": "code",
   "execution_count": 7,
   "metadata": {
    "execution": {
     "iopub.execute_input": "2023-02-10T04:46:00.962727Z",
     "iopub.status.busy": "2023-02-10T04:46:00.962520Z",
     "iopub.status.idle": "2023-02-10T04:46:00.972327Z",
     "shell.execute_reply": "2023-02-10T04:46:00.971734Z"
    }
   },
   "outputs": [
    {
     "data": {
      "text/html": [
       "<div>\n",
       "<style scoped>\n",
       "    .dataframe tbody tr th:only-of-type {\n",
       "        vertical-align: middle;\n",
       "    }\n",
       "\n",
       "    .dataframe tbody tr th {\n",
       "        vertical-align: top;\n",
       "    }\n",
       "\n",
       "    .dataframe thead th {\n",
       "        text-align: right;\n",
       "    }\n",
       "</style>\n",
       "<table border=\"1\" class=\"dataframe\">\n",
       "  <thead>\n",
       "    <tr style=\"text-align: right;\">\n",
       "      <th></th>\n",
       "      <th>W0</th>\n",
       "      <th>v0</th>\n",
       "      <th>y</th>\n",
       "      <th>propensity_score</th>\n",
       "      <th>weight</th>\n",
       "    </tr>\n",
       "  </thead>\n",
       "  <tbody>\n",
       "    <tr>\n",
       "      <th>0</th>\n",
       "      <td>-2.141391</td>\n",
       "      <td>True</td>\n",
       "      <td>-0.432370</td>\n",
       "      <td>0.477468</td>\n",
       "      <td>2.094379</td>\n",
       "    </tr>\n",
       "    <tr>\n",
       "      <th>1</th>\n",
       "      <td>-1.736128</td>\n",
       "      <td>True</td>\n",
       "      <td>3.263833</td>\n",
       "      <td>0.479866</td>\n",
       "      <td>2.083914</td>\n",
       "    </tr>\n",
       "    <tr>\n",
       "      <th>2</th>\n",
       "      <td>-1.531876</td>\n",
       "      <td>True</td>\n",
       "      <td>2.983172</td>\n",
       "      <td>0.481075</td>\n",
       "      <td>2.078678</td>\n",
       "    </tr>\n",
       "    <tr>\n",
       "      <th>3</th>\n",
       "      <td>-3.193084</td>\n",
       "      <td>True</td>\n",
       "      <td>-3.284117</td>\n",
       "      <td>0.471251</td>\n",
       "      <td>2.122011</td>\n",
       "    </tr>\n",
       "    <tr>\n",
       "      <th>4</th>\n",
       "      <td>-0.565808</td>\n",
       "      <td>True</td>\n",
       "      <td>3.321324</td>\n",
       "      <td>0.486795</td>\n",
       "      <td>2.054252</td>\n",
       "    </tr>\n",
       "    <tr>\n",
       "      <th>...</th>\n",
       "      <td>...</td>\n",
       "      <td>...</td>\n",
       "      <td>...</td>\n",
       "      <td>...</td>\n",
       "      <td>...</td>\n",
       "    </tr>\n",
       "    <tr>\n",
       "      <th>995</th>\n",
       "      <td>-0.021164</td>\n",
       "      <td>True</td>\n",
       "      <td>6.430860</td>\n",
       "      <td>0.490022</td>\n",
       "      <td>2.040726</td>\n",
       "    </tr>\n",
       "    <tr>\n",
       "      <th>996</th>\n",
       "      <td>-2.514195</td>\n",
       "      <td>True</td>\n",
       "      <td>-1.799160</td>\n",
       "      <td>0.475264</td>\n",
       "      <td>2.104095</td>\n",
       "    </tr>\n",
       "    <tr>\n",
       "      <th>997</th>\n",
       "      <td>-0.381239</td>\n",
       "      <td>True</td>\n",
       "      <td>3.049496</td>\n",
       "      <td>0.487889</td>\n",
       "      <td>2.049648</td>\n",
       "    </tr>\n",
       "    <tr>\n",
       "      <th>998</th>\n",
       "      <td>-0.130361</td>\n",
       "      <td>True</td>\n",
       "      <td>3.853389</td>\n",
       "      <td>0.489375</td>\n",
       "      <td>2.043424</td>\n",
       "    </tr>\n",
       "    <tr>\n",
       "      <th>999</th>\n",
       "      <td>-1.800214</td>\n",
       "      <td>True</td>\n",
       "      <td>-1.094811</td>\n",
       "      <td>0.479487</td>\n",
       "      <td>2.085563</td>\n",
       "    </tr>\n",
       "  </tbody>\n",
       "</table>\n",
       "<p>1000 rows × 5 columns</p>\n",
       "</div>"
      ],
      "text/plain": [
       "           W0    v0         y  propensity_score    weight\n",
       "0   -2.141391  True -0.432370          0.477468  2.094379\n",
       "1   -1.736128  True  3.263833          0.479866  2.083914\n",
       "2   -1.531876  True  2.983172          0.481075  2.078678\n",
       "3   -3.193084  True -3.284117          0.471251  2.122011\n",
       "4   -0.565808  True  3.321324          0.486795  2.054252\n",
       "..        ...   ...       ...               ...       ...\n",
       "995 -0.021164  True  6.430860          0.490022  2.040726\n",
       "996 -2.514195  True -1.799160          0.475264  2.104095\n",
       "997 -0.381239  True  3.049496          0.487889  2.049648\n",
       "998 -0.130361  True  3.853389          0.489375  2.043424\n",
       "999 -1.800214  True -1.094811          0.479487  2.085563\n",
       "\n",
       "[1000 rows x 5 columns]"
      ]
     },
     "execution_count": 7,
     "metadata": {},
     "output_type": "execute_result"
    }
   ],
   "source": [
    "cdf_1"
   ]
  },
  {
   "cell_type": "markdown",
   "metadata": {},
   "source": [
    "## Comparing the estimate to Linear Regression\n",
    "First, estimating the effect using the causal data frame, and the 95% confidence interval."
   ]
  },
  {
   "cell_type": "code",
   "execution_count": 8,
   "metadata": {
    "execution": {
     "iopub.execute_input": "2023-02-10T04:46:00.975496Z",
     "iopub.status.busy": "2023-02-10T04:46:00.975293Z",
     "iopub.status.idle": "2023-02-10T04:46:01.031371Z",
     "shell.execute_reply": "2023-02-10T04:46:01.030749Z"
    }
   },
   "outputs": [
    {
     "data": {
      "image/png": "[encoded data removed]",
      "text/latex": [
       "$\\displaystyle 5.07009442772169$"
      ],
      "text/plain": [
       "5.0700944277216875"
      ]
     },
     "execution_count": 8,
     "metadata": {},
     "output_type": "execute_result"
    }
   ],
   "source": [
    "(cdf_1['y'] - cdf_0['y']).mean()"
   ]
  },
  {
   "cell_type": "code",
   "execution_count": 9,
   "metadata": {
    "execution": {
     "iopub.execute_input": "2023-02-10T04:46:01.034143Z",
     "iopub.status.busy": "2023-02-10T04:46:01.033814Z",
     "iopub.status.idle": "2023-02-10T04:46:01.053200Z",
     "shell.execute_reply": "2023-02-10T04:46:01.052574Z"
    }
   },
   "outputs": [
    {
     "data": {
      "image/png": "[encoded data removed]",
      "text/latex": [
       "$\\displaystyle 0.242639759122197$"
      ],
      "text/plain": [
       "0.2426397591221968"
      ]
     },
     "execution_count": 9,
     "metadata": {},
     "output_type": "execute_result"
    }
   ],
   "source": [
    "1.96*(cdf_1['y'] - cdf_0['y']).std() / np.sqrt(len(df))"
   ]
  },
  {
   "cell_type": "markdown",
   "metadata": {},
   "source": [
    "Comparing to the estimate from OLS."
   ]
  },
  {
   "cell_type": "code",
   "execution_count": 10,
   "metadata": {
    "execution": {
     "iopub.execute_input": "2023-02-10T04:46:01.055890Z",
     "iopub.status.busy": "2023-02-10T04:46:01.055568Z",
     "iopub.status.idle": "2023-02-10T04:46:01.070919Z",
     "shell.execute_reply": "2023-02-10T04:46:01.070310Z"
    }
   },
   "outputs": [
    {
     "data": {
      "text/html": [
       "<table class=\"simpletable\">\n",
       "<caption>OLS Regression Results</caption>\n",
       "<tr>\n",
       "  <th>Dep. Variable:</th>            <td>y</td>        <th>  R-squared (uncentered):</th>      <td>   0.933</td>\n",
       "</tr>\n",
       "<tr>\n",
       "  <th>Model:</th>                   <td>OLS</td>       <th>  Adj. R-squared (uncentered):</th> <td>   0.933</td>\n",
       "</tr>\n",
       "<tr>\n",
       "  <th>Method:</th>             <td>Least Squares</td>  <th>  F-statistic:       </th>          <td>   6931.</td>\n",
       "</tr>\n",
       "<tr>\n",
       "  <th>Date:</th>             <td>Fri, 10 Feb 2023</td> <th>  Prob (F-statistic):</th>           <td>  0.00</td> \n",
       "</tr>\n",
       "<tr>\n",
       "  <th>Time:</th>                 <td>04:46:01</td>     <th>  Log-Likelihood:    </th>          <td> -1395.2</td>\n",
       "</tr>\n",
       "<tr>\n",
       "  <th>No. Observations:</th>      <td>  1000</td>      <th>  AIC:               </th>          <td>   2794.</td>\n",
       "</tr>\n",
       "<tr>\n",
       "  <th>Df Residuals:</th>          <td>   998</td>      <th>  BIC:               </th>          <td>   2804.</td>\n",
       "</tr>\n",
       "<tr>\n",
       "  <th>Df Model:</th>              <td>     2</td>      <th>                     </th>              <td> </td>   \n",
       "</tr>\n",
       "<tr>\n",
       "  <th>Covariance Type:</th>      <td>nonrobust</td>    <th>                     </th>              <td> </td>   \n",
       "</tr>\n",
       "</table>\n",
       "<table class=\"simpletable\">\n",
       "<tr>\n",
       "   <td></td>     <th>coef</th>     <th>std err</th>      <th>t</th>      <th>P>|t|</th>  <th>[0.025</th>    <th>0.975]</th>  \n",
       "</tr>\n",
       "<tr>\n",
       "  <th>x1</th> <td>    2.5798</td> <td>    0.026</td> <td>   99.645</td> <td> 0.000</td> <td>    2.529</td> <td>    2.631</td>\n",
       "</tr>\n",
       "<tr>\n",
       "  <th>x2</th> <td>    4.9937</td> <td>    0.050</td> <td>  100.637</td> <td> 0.000</td> <td>    4.896</td> <td>    5.091</td>\n",
       "</tr>\n",
       "</table>\n",
       "<table class=\"simpletable\">\n",
       "<tr>\n",
       "  <th>Omnibus:</th>       <td> 0.254</td> <th>  Durbin-Watson:     </th> <td>   2.051</td>\n",
       "</tr>\n",
       "<tr>\n",
       "  <th>Prob(Omnibus):</th> <td> 0.881</td> <th>  Jarque-Bera (JB):  </th> <td>   0.284</td>\n",
       "</tr>\n",
       "<tr>\n",
       "  <th>Skew:</th>          <td> 0.038</td> <th>  Prob(JB):          </th> <td>   0.867</td>\n",
       "</tr>\n",
       "<tr>\n",
       "  <th>Kurtosis:</th>      <td> 2.967</td> <th>  Cond. No.          </th> <td>    2.29</td>\n",
       "</tr>\n",
       "</table><br/><br/>Notes:<br/>[1] R² is computed without centering (uncentered) since the model does not contain a constant.<br/>[2] Standard Errors assume that the covariance matrix of the errors is correctly specified."
      ],
      "text/plain": [
       "<class 'statsmodels.iolib.summary.Summary'>\n",
       "\"\"\"\n",
       "                                 OLS Regression Results                                \n",
       "=======================================================================================\n",
       "Dep. Variable:                      y   R-squared (uncentered):                   0.933\n",
       "Model:                            OLS   Adj. R-squared (uncentered):              0.933\n",
       "Method:                 Least Squares   F-statistic:                              6931.\n",
       "Date:                Fri, 10 Feb 2023   Prob (F-statistic):                        0.00\n",
       "Time:                        04:46:01   Log-Likelihood:                         -1395.2\n",
       "No. Observations:                1000   AIC:                                      2794.\n",
       "Df Residuals:                     998   BIC:                                      2804.\n",
       "Df Model:                           2                                                  \n",
       "Covariance Type:            nonrobust                                                  \n",
       "==============================================================================\n",
       "                 coef    std err          t      P>|t|      [0.025      0.975]\n",
       "------------------------------------------------------------------------------\n",
       "x1             2.5798      0.026     99.645      0.000       2.529       2.631\n",
       "x2             4.9937      0.050    100.637      0.000       4.896       5.091\n",
       "==============================================================================\n",
       "Omnibus:                        0.254   Durbin-Watson:                   2.051\n",
       "Prob(Omnibus):                  0.881   Jarque-Bera (JB):                0.284\n",
       "Skew:                           0.038   Prob(JB):                        0.867\n",
       "Kurtosis:                       2.967   Cond. No.                         2.29\n",
       "==============================================================================\n",
       "\n",
       "Notes:\n",
       "[1] R² is computed without centering (uncentered) since the model does not contain a constant.\n",
       "[2] Standard Errors assume that the covariance matrix of the errors is correctly specified.\n",
       "\"\"\""
      ]
     },
     "execution_count": 10,
     "metadata": {},
     "output_type": "execute_result"
    }
   ],
   "source": [
    "model = OLS(np.asarray(df[outcome]), np.asarray(df[[common_cause, treatment]], dtype=np.float64))\n",
    "result = model.fit()\n",
    "result.summary()"
   ]
  }
 ],
 "metadata": {
  "kernelspec": {
   "display_name": "Python 3",
   "language": "python",
   "name": "python3"
  },
  "language_info": {
   "codemirror_mode": {
    "name": "ipython",
    "version": 3
   },
   "file_extension": ".py",
   "mimetype": "text/x-python",
   "name": "python",
   "nbconvert_exporter": "python",
   "pygments_lexer": "ipython3",
   "version": "3.8.10"
  },
  "toc": {
   "base_numbering": 1,
   "nav_menu": {},
   "number_sections": false,
   "sideBar": true,
   "skip_h1_title": true,
   "title_cell": "Table of Contents",
   "title_sidebar": "Contents",
   "toc_cell": false,
   "toc_position": {},
   "toc_section_display": true,
   "toc_window_display": false
  }
 },
 "nbformat": 4,
 "nbformat_minor": 4
}
