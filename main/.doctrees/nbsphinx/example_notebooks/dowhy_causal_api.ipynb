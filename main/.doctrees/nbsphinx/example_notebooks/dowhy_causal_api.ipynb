{
 "cells": [
  {
   "cell_type": "markdown",
   "metadata": {},
   "source": [
    "# Demo for the DoWhy causal API\n",
    "We show a simple example of adding a causal extension to any dataframe. "
   ]
  },
  {
   "cell_type": "code",
   "execution_count": 1,
   "metadata": {
    "execution": {
     "iopub.execute_input": "2023-07-20T13:35:45.138781Z",
     "iopub.status.busy": "2023-07-20T13:35:45.138498Z",
     "iopub.status.idle": "2023-07-20T13:35:46.976401Z",
     "shell.execute_reply": "2023-07-20T13:35:46.975596Z"
    }
   },
   "outputs": [],
   "source": [
    "import dowhy.datasets\n",
    "import dowhy.api\n",
    "\n",
    "import numpy as np\n",
    "import pandas as pd\n",
    "\n",
    "from statsmodels.api import OLS"
   ]
  },
  {
   "cell_type": "code",
   "execution_count": 2,
   "metadata": {
    "execution": {
     "iopub.execute_input": "2023-07-20T13:35:46.980542Z",
     "iopub.status.busy": "2023-07-20T13:35:46.979738Z",
     "iopub.status.idle": "2023-07-20T13:35:47.028745Z",
     "shell.execute_reply": "2023-07-20T13:35:47.027995Z"
    }
   },
   "outputs": [
    {
     "data": {
      "text/html": [
       "<div>\n",
       "<style scoped>\n",
       "    .dataframe tbody tr th:only-of-type {\n",
       "        vertical-align: middle;\n",
       "    }\n",
       "\n",
       "    .dataframe tbody tr th {\n",
       "        vertical-align: top;\n",
       "    }\n",
       "\n",
       "    .dataframe thead th {\n",
       "        text-align: right;\n",
       "    }\n",
       "</style>\n",
       "<table border=\"1\" class=\"dataframe\">\n",
       "  <thead>\n",
       "    <tr style=\"text-align: right;\">\n",
       "      <th></th>\n",
       "      <th>W0</th>\n",
       "      <th>v0</th>\n",
       "      <th>y</th>\n",
       "    </tr>\n",
       "  </thead>\n",
       "  <tbody>\n",
       "    <tr>\n",
       "      <th>0</th>\n",
       "      <td>-0.644562</td>\n",
       "      <td>False</td>\n",
       "      <td>0.566714</td>\n",
       "    </tr>\n",
       "    <tr>\n",
       "      <th>1</th>\n",
       "      <td>-0.816872</td>\n",
       "      <td>True</td>\n",
       "      <td>5.296541</td>\n",
       "    </tr>\n",
       "    <tr>\n",
       "      <th>2</th>\n",
       "      <td>0.868957</td>\n",
       "      <td>False</td>\n",
       "      <td>-0.122583</td>\n",
       "    </tr>\n",
       "    <tr>\n",
       "      <th>3</th>\n",
       "      <td>0.811932</td>\n",
       "      <td>False</td>\n",
       "      <td>1.801955</td>\n",
       "    </tr>\n",
       "    <tr>\n",
       "      <th>4</th>\n",
       "      <td>0.091480</td>\n",
       "      <td>True</td>\n",
       "      <td>5.019614</td>\n",
       "    </tr>\n",
       "    <tr>\n",
       "      <th>...</th>\n",
       "      <td>...</td>\n",
       "      <td>...</td>\n",
       "      <td>...</td>\n",
       "    </tr>\n",
       "    <tr>\n",
       "      <th>995</th>\n",
       "      <td>1.364107</td>\n",
       "      <td>False</td>\n",
       "      <td>1.907257</td>\n",
       "    </tr>\n",
       "    <tr>\n",
       "      <th>996</th>\n",
       "      <td>0.929869</td>\n",
       "      <td>False</td>\n",
       "      <td>-1.077934</td>\n",
       "    </tr>\n",
       "    <tr>\n",
       "      <th>997</th>\n",
       "      <td>0.431969</td>\n",
       "      <td>False</td>\n",
       "      <td>0.677709</td>\n",
       "    </tr>\n",
       "    <tr>\n",
       "      <th>998</th>\n",
       "      <td>0.053581</td>\n",
       "      <td>False</td>\n",
       "      <td>-0.013652</td>\n",
       "    </tr>\n",
       "    <tr>\n",
       "      <th>999</th>\n",
       "      <td>-1.277144</td>\n",
       "      <td>False</td>\n",
       "      <td>1.014251</td>\n",
       "    </tr>\n",
       "  </tbody>\n",
       "</table>\n",
       "<p>1000 rows × 3 columns</p>\n",
       "</div>"
      ],
      "text/plain": [
       "           W0     v0         y\n",
       "0   -0.644562  False  0.566714\n",
       "1   -0.816872   True  5.296541\n",
       "2    0.868957  False -0.122583\n",
       "3    0.811932  False  1.801955\n",
       "4    0.091480   True  5.019614\n",
       "..        ...    ...       ...\n",
       "995  1.364107  False  1.907257\n",
       "996  0.929869  False -1.077934\n",
       "997  0.431969  False  0.677709\n",
       "998  0.053581  False -0.013652\n",
       "999 -1.277144  False  1.014251\n",
       "\n",
       "[1000 rows x 3 columns]"
      ]
     },
     "execution_count": 2,
     "metadata": {},
     "output_type": "execute_result"
    }
   ],
   "source": [
    "data = dowhy.datasets.linear_dataset(beta=5,\n",
    "        num_common_causes=1,\n",
    "        num_instruments = 0,\n",
    "        num_samples=1000,\n",
    "        treatment_is_binary=True)\n",
    "df = data['df']\n",
    "df['y'] = df['y'] + np.random.normal(size=len(df)) # Adding noise to data. Without noise, the variance in Y|X, Z is zero, and mcmc fails.\n",
    "#data['dot_graph'] = 'digraph { v ->y;X0-> v;X0-> y;}'\n",
    "\n",
    "treatment= data[\"treatment_name\"][0]\n",
    "outcome = data[\"outcome_name\"][0]\n",
    "common_cause = data[\"common_causes_names\"][0]\n",
    "df"
   ]
  },
  {
   "cell_type": "code",
   "execution_count": 3,
   "metadata": {
    "execution": {
     "iopub.execute_input": "2023-07-20T13:35:47.032403Z",
     "iopub.status.busy": "2023-07-20T13:35:47.031929Z",
     "iopub.status.idle": "2023-07-20T13:35:47.243809Z",
     "shell.execute_reply": "2023-07-20T13:35:47.243079Z"
    }
   },
   "outputs": [
    {
     "data": {
      "text/plain": [
       "<Axes: xlabel='v0'>"
      ]
     },
     "execution_count": 3,
     "metadata": {},
     "output_type": "execute_result"
    },
    {
     "data": {
      "image/png": "[encoded data removed]",
      "text/plain": [
       "<Figure size 640x480 with 1 Axes>"
      ]
     },
     "metadata": {},
     "output_type": "display_data"
    }
   ],
   "source": [
    "# data['df'] is just a regular pandas.DataFrame\n",
    "df.causal.do(x=treatment,\n",
    "                     variable_types={treatment: 'b', outcome: 'c', common_cause: 'c'},\n",
    "                     outcome=outcome,\n",
    "                     common_causes=[common_cause],\n",
    "                     proceed_when_unidentifiable=True).groupby(treatment).mean().plot(y=outcome, kind='bar')"
   ]
  },
  {
   "cell_type": "code",
   "execution_count": 4,
   "metadata": {
    "execution": {
     "iopub.execute_input": "2023-07-20T13:35:47.247287Z",
     "iopub.status.busy": "2023-07-20T13:35:47.246786Z",
     "iopub.status.idle": "2023-07-20T13:35:47.386663Z",
     "shell.execute_reply": "2023-07-20T13:35:47.385966Z"
    }
   },
   "outputs": [
    {
     "data": {
      "text/plain": [
       "<Axes: xlabel='v0'>"
      ]
     },
     "execution_count": 4,
     "metadata": {},
     "output_type": "execute_result"
    },
    {
     "data": {
      "image/png": "[encoded data removed]",
      "text/plain": [
       "<Figure size 640x480 with 1 Axes>"
      ]
     },
     "metadata": {},
     "output_type": "display_data"
    }
   ],
   "source": [
    "df.causal.do(x={treatment: 1}, \n",
    "              variable_types={treatment:'b', outcome: 'c', common_cause: 'c'}, \n",
    "              outcome=outcome,\n",
    "              method='weighting', \n",
    "              common_causes=[common_cause],\n",
    "              proceed_when_unidentifiable=True).groupby(treatment).mean().plot(y=outcome, kind='bar')"
   ]
  },
  {
   "cell_type": "code",
   "execution_count": 5,
   "metadata": {
    "execution": {
     "iopub.execute_input": "2023-07-20T13:35:47.390202Z",
     "iopub.status.busy": "2023-07-20T13:35:47.389656Z",
     "iopub.status.idle": "2023-07-20T13:35:47.419940Z",
     "shell.execute_reply": "2023-07-20T13:35:47.419208Z"
    }
   },
   "outputs": [],
   "source": [
    "cdf_1 = df.causal.do(x={treatment: 1}, \n",
    "              variable_types={treatment: 'b', outcome: 'c', common_cause: 'c'}, \n",
    "              outcome=outcome, \n",
    "              dot_graph=data['dot_graph'],\n",
    "              proceed_when_unidentifiable=True)\n",
    "\n",
    "cdf_0 = df.causal.do(x={treatment: 0}, \n",
    "              variable_types={treatment: 'b', outcome: 'c', common_cause: 'c'}, \n",
    "              outcome=outcome, \n",
    "              dot_graph=data['dot_graph'],\n",
    "              proceed_when_unidentifiable=True)\n"
   ]
  },
  {
   "cell_type": "code",
   "execution_count": 6,
   "metadata": {
    "execution": {
     "iopub.execute_input": "2023-07-20T13:35:47.423466Z",
     "iopub.status.busy": "2023-07-20T13:35:47.423031Z",
     "iopub.status.idle": "2023-07-20T13:35:47.434043Z",
     "shell.execute_reply": "2023-07-20T13:35:47.433469Z"
    },
    "scrolled": true
   },
   "outputs": [
    {
     "data": {
      "text/html": [
       "<div>\n",
       "<style scoped>\n",
       "    .dataframe tbody tr th:only-of-type {\n",
       "        vertical-align: middle;\n",
       "    }\n",
       "\n",
       "    .dataframe tbody tr th {\n",
       "        vertical-align: top;\n",
       "    }\n",
       "\n",
       "    .dataframe thead th {\n",
       "        text-align: right;\n",
       "    }\n",
       "</style>\n",
       "<table border=\"1\" class=\"dataframe\">\n",
       "  <thead>\n",
       "    <tr style=\"text-align: right;\">\n",
       "      <th></th>\n",
       "      <th>W0</th>\n",
       "      <th>v0</th>\n",
       "      <th>y</th>\n",
       "      <th>propensity_score</th>\n",
       "      <th>weight</th>\n",
       "    </tr>\n",
       "  </thead>\n",
       "  <tbody>\n",
       "    <tr>\n",
       "      <th>0</th>\n",
       "      <td>0.785782</td>\n",
       "      <td>False</td>\n",
       "      <td>-0.271061</td>\n",
       "      <td>0.463098</td>\n",
       "      <td>2.159370</td>\n",
       "    </tr>\n",
       "    <tr>\n",
       "      <th>1</th>\n",
       "      <td>1.358409</td>\n",
       "      <td>False</td>\n",
       "      <td>0.591507</td>\n",
       "      <td>0.444809</td>\n",
       "      <td>2.248158</td>\n",
       "    </tr>\n",
       "    <tr>\n",
       "      <th>2</th>\n",
       "      <td>-0.123085</td>\n",
       "      <td>False</td>\n",
       "      <td>-0.165316</td>\n",
       "      <td>0.492312</td>\n",
       "      <td>2.031232</td>\n",
       "    </tr>\n",
       "    <tr>\n",
       "      <th>3</th>\n",
       "      <td>1.027232</td>\n",
       "      <td>False</td>\n",
       "      <td>0.146091</td>\n",
       "      <td>0.455371</td>\n",
       "      <td>2.196010</td>\n",
       "    </tr>\n",
       "    <tr>\n",
       "      <th>4</th>\n",
       "      <td>-0.922382</td>\n",
       "      <td>False</td>\n",
       "      <td>-0.308894</td>\n",
       "      <td>0.518054</td>\n",
       "      <td>1.930301</td>\n",
       "    </tr>\n",
       "    <tr>\n",
       "      <th>...</th>\n",
       "      <td>...</td>\n",
       "      <td>...</td>\n",
       "      <td>...</td>\n",
       "      <td>...</td>\n",
       "      <td>...</td>\n",
       "    </tr>\n",
       "    <tr>\n",
       "      <th>995</th>\n",
       "      <td>0.569748</td>\n",
       "      <td>False</td>\n",
       "      <td>0.534572</td>\n",
       "      <td>0.470027</td>\n",
       "      <td>2.127539</td>\n",
       "    </tr>\n",
       "    <tr>\n",
       "      <th>996</th>\n",
       "      <td>0.602925</td>\n",
       "      <td>False</td>\n",
       "      <td>1.283997</td>\n",
       "      <td>0.468962</td>\n",
       "      <td>2.132370</td>\n",
       "    </tr>\n",
       "    <tr>\n",
       "      <th>997</th>\n",
       "      <td>-0.688877</td>\n",
       "      <td>False</td>\n",
       "      <td>-0.616507</td>\n",
       "      <td>0.510538</td>\n",
       "      <td>1.958719</td>\n",
       "    </tr>\n",
       "    <tr>\n",
       "      <th>998</th>\n",
       "      <td>0.884624</td>\n",
       "      <td>False</td>\n",
       "      <td>-0.471937</td>\n",
       "      <td>0.459933</td>\n",
       "      <td>2.174232</td>\n",
       "    </tr>\n",
       "    <tr>\n",
       "      <th>999</th>\n",
       "      <td>0.683659</td>\n",
       "      <td>False</td>\n",
       "      <td>2.528617</td>\n",
       "      <td>0.466372</td>\n",
       "      <td>2.144212</td>\n",
       "    </tr>\n",
       "  </tbody>\n",
       "</table>\n",
       "<p>1000 rows × 5 columns</p>\n",
       "</div>"
      ],
      "text/plain": [
       "           W0     v0         y  propensity_score    weight\n",
       "0    0.785782  False -0.271061          0.463098  2.159370\n",
       "1    1.358409  False  0.591507          0.444809  2.248158\n",
       "2   -0.123085  False -0.165316          0.492312  2.031232\n",
       "3    1.027232  False  0.146091          0.455371  2.196010\n",
       "4   -0.922382  False -0.308894          0.518054  1.930301\n",
       "..        ...    ...       ...               ...       ...\n",
       "995  0.569748  False  0.534572          0.470027  2.127539\n",
       "996  0.602925  False  1.283997          0.468962  2.132370\n",
       "997 -0.688877  False -0.616507          0.510538  1.958719\n",
       "998  0.884624  False -0.471937          0.459933  2.174232\n",
       "999  0.683659  False  2.528617          0.466372  2.144212\n",
       "\n",
       "[1000 rows x 5 columns]"
      ]
     },
     "execution_count": 6,
     "metadata": {},
     "output_type": "execute_result"
    }
   ],
   "source": [
    "cdf_0"
   ]
  },
  {
   "cell_type": "code",
   "execution_count": 7,
   "metadata": {
    "execution": {
     "iopub.execute_input": "2023-07-20T13:35:47.436991Z",
     "iopub.status.busy": "2023-07-20T13:35:47.436517Z",
     "iopub.status.idle": "2023-07-20T13:35:47.446840Z",
     "shell.execute_reply": "2023-07-20T13:35:47.446286Z"
    }
   },
   "outputs": [
    {
     "data": {
      "text/html": [
       "<div>\n",
       "<style scoped>\n",
       "    .dataframe tbody tr th:only-of-type {\n",
       "        vertical-align: middle;\n",
       "    }\n",
       "\n",
       "    .dataframe tbody tr th {\n",
       "        vertical-align: top;\n",
       "    }\n",
       "\n",
       "    .dataframe thead th {\n",
       "        text-align: right;\n",
       "    }\n",
       "</style>\n",
       "<table border=\"1\" class=\"dataframe\">\n",
       "  <thead>\n",
       "    <tr style=\"text-align: right;\">\n",
       "      <th></th>\n",
       "      <th>W0</th>\n",
       "      <th>v0</th>\n",
       "      <th>y</th>\n",
       "      <th>propensity_score</th>\n",
       "      <th>weight</th>\n",
       "    </tr>\n",
       "  </thead>\n",
       "  <tbody>\n",
       "    <tr>\n",
       "      <th>0</th>\n",
       "      <td>0.622322</td>\n",
       "      <td>True</td>\n",
       "      <td>5.103120</td>\n",
       "      <td>0.531661</td>\n",
       "      <td>1.880899</td>\n",
       "    </tr>\n",
       "    <tr>\n",
       "      <th>1</th>\n",
       "      <td>1.349541</td>\n",
       "      <td>True</td>\n",
       "      <td>6.416128</td>\n",
       "      <td>0.554909</td>\n",
       "      <td>1.802097</td>\n",
       "    </tr>\n",
       "    <tr>\n",
       "      <th>2</th>\n",
       "      <td>1.597363</td>\n",
       "      <td>True</td>\n",
       "      <td>6.048707</td>\n",
       "      <td>0.562782</td>\n",
       "      <td>1.776886</td>\n",
       "    </tr>\n",
       "    <tr>\n",
       "      <th>3</th>\n",
       "      <td>-1.059765</td>\n",
       "      <td>True</td>\n",
       "      <td>4.469923</td>\n",
       "      <td>0.477527</td>\n",
       "      <td>2.094121</td>\n",
       "    </tr>\n",
       "    <tr>\n",
       "      <th>4</th>\n",
       "      <td>0.119964</td>\n",
       "      <td>True</td>\n",
       "      <td>4.738400</td>\n",
       "      <td>0.515514</td>\n",
       "      <td>1.939812</td>\n",
       "    </tr>\n",
       "    <tr>\n",
       "      <th>...</th>\n",
       "      <td>...</td>\n",
       "      <td>...</td>\n",
       "      <td>...</td>\n",
       "      <td>...</td>\n",
       "      <td>...</td>\n",
       "    </tr>\n",
       "    <tr>\n",
       "      <th>995</th>\n",
       "      <td>-0.152479</td>\n",
       "      <td>True</td>\n",
       "      <td>4.939441</td>\n",
       "      <td>0.506741</td>\n",
       "      <td>1.973394</td>\n",
       "    </tr>\n",
       "    <tr>\n",
       "      <th>996</th>\n",
       "      <td>0.651252</td>\n",
       "      <td>True</td>\n",
       "      <td>7.249233</td>\n",
       "      <td>0.532589</td>\n",
       "      <td>1.877621</td>\n",
       "    </tr>\n",
       "    <tr>\n",
       "      <th>997</th>\n",
       "      <td>1.638505</td>\n",
       "      <td>True</td>\n",
       "      <td>4.318765</td>\n",
       "      <td>0.564086</td>\n",
       "      <td>1.772778</td>\n",
       "    </tr>\n",
       "    <tr>\n",
       "      <th>998</th>\n",
       "      <td>-0.376144</td>\n",
       "      <td>True</td>\n",
       "      <td>5.830552</td>\n",
       "      <td>0.499536</td>\n",
       "      <td>2.001858</td>\n",
       "    </tr>\n",
       "    <tr>\n",
       "      <th>999</th>\n",
       "      <td>1.025165</td>\n",
       "      <td>True</td>\n",
       "      <td>6.230608</td>\n",
       "      <td>0.544563</td>\n",
       "      <td>1.836336</td>\n",
       "    </tr>\n",
       "  </tbody>\n",
       "</table>\n",
       "<p>1000 rows × 5 columns</p>\n",
       "</div>"
      ],
      "text/plain": [
       "           W0    v0         y  propensity_score    weight\n",
       "0    0.622322  True  5.103120          0.531661  1.880899\n",
       "1    1.349541  True  6.416128          0.554909  1.802097\n",
       "2    1.597363  True  6.048707          0.562782  1.776886\n",
       "3   -1.059765  True  4.469923          0.477527  2.094121\n",
       "4    0.119964  True  4.738400          0.515514  1.939812\n",
       "..        ...   ...       ...               ...       ...\n",
       "995 -0.152479  True  4.939441          0.506741  1.973394\n",
       "996  0.651252  True  7.249233          0.532589  1.877621\n",
       "997  1.638505  True  4.318765          0.564086  1.772778\n",
       "998 -0.376144  True  5.830552          0.499536  2.001858\n",
       "999  1.025165  True  6.230608          0.544563  1.836336\n",
       "\n",
       "[1000 rows x 5 columns]"
      ]
     },
     "execution_count": 7,
     "metadata": {},
     "output_type": "execute_result"
    }
   ],
   "source": [
    "cdf_1"
   ]
  },
  {
   "cell_type": "markdown",
   "metadata": {},
   "source": [
    "## Comparing the estimate to Linear Regression\n",
    "First, estimating the effect using the causal data frame, and the 95% confidence interval."
   ]
  },
  {
   "cell_type": "code",
   "execution_count": 8,
   "metadata": {
    "execution": {
     "iopub.execute_input": "2023-07-20T13:35:47.449790Z",
     "iopub.status.busy": "2023-07-20T13:35:47.449333Z",
     "iopub.status.idle": "2023-07-20T13:35:47.513443Z",
     "shell.execute_reply": "2023-07-20T13:35:47.512611Z"
    }
   },
   "outputs": [
    {
     "data": {
      "image/png": "[encoded data removed]",
      "text/latex": [
       "$\\displaystyle 5.06234804804691$"
      ],
      "text/plain": [
       "5.062348048046913"
      ]
     },
     "execution_count": 8,
     "metadata": {},
     "output_type": "execute_result"
    }
   ],
   "source": [
    "(cdf_1['y'] - cdf_0['y']).mean()"
   ]
  },
  {
   "cell_type": "code",
   "execution_count": 9,
   "metadata": {
    "execution": {
     "iopub.execute_input": "2023-07-20T13:35:47.517235Z",
     "iopub.status.busy": "2023-07-20T13:35:47.516647Z",
     "iopub.status.idle": "2023-07-20T13:35:47.538844Z",
     "shell.execute_reply": "2023-07-20T13:35:47.538070Z"
    }
   },
   "outputs": [
    {
     "data": {
      "image/png": "[encoded data removed]",
      "text/latex": [
       "$\\displaystyle 0.116740366397003$"
      ],
      "text/plain": [
       "0.11674036639700315"
      ]
     },
     "execution_count": 9,
     "metadata": {},
     "output_type": "execute_result"
    }
   ],
   "source": [
    "1.96*(cdf_1['y'] - cdf_0['y']).std() / np.sqrt(len(df))"
   ]
  },
  {
   "cell_type": "markdown",
   "metadata": {},
   "source": [
    "Comparing to the estimate from OLS."
   ]
  },
  {
   "cell_type": "code",
   "execution_count": 10,
   "metadata": {
    "execution": {
     "iopub.execute_input": "2023-07-20T13:35:47.542401Z",
     "iopub.status.busy": "2023-07-20T13:35:47.541906Z",
     "iopub.status.idle": "2023-07-20T13:35:47.563337Z",
     "shell.execute_reply": "2023-07-20T13:35:47.562607Z"
    }
   },
   "outputs": [
    {
     "data": {
      "text/html": [
       "<table class=\"simpletable\">\n",
       "<caption>OLS Regression Results</caption>\n",
       "<tr>\n",
       "  <th>Dep. Variable:</th>            <td>y</td>        <th>  R-squared (uncentered):</th>      <td>   0.933</td>\n",
       "</tr>\n",
       "<tr>\n",
       "  <th>Model:</th>                   <td>OLS</td>       <th>  Adj. R-squared (uncentered):</th> <td>   0.933</td>\n",
       "</tr>\n",
       "<tr>\n",
       "  <th>Method:</th>             <td>Least Squares</td>  <th>  F-statistic:       </th>          <td>   6972.</td>\n",
       "</tr>\n",
       "<tr>\n",
       "  <th>Date:</th>             <td>Thu, 20 Jul 2023</td> <th>  Prob (F-statistic):</th>           <td>  0.00</td> \n",
       "</tr>\n",
       "<tr>\n",
       "  <th>Time:</th>                 <td>13:35:47</td>     <th>  Log-Likelihood:    </th>          <td> -1418.2</td>\n",
       "</tr>\n",
       "<tr>\n",
       "  <th>No. Observations:</th>      <td>  1000</td>      <th>  AIC:               </th>          <td>   2840.</td>\n",
       "</tr>\n",
       "<tr>\n",
       "  <th>Df Residuals:</th>          <td>   998</td>      <th>  BIC:               </th>          <td>   2850.</td>\n",
       "</tr>\n",
       "<tr>\n",
       "  <th>Df Model:</th>              <td>     2</td>      <th>                     </th>              <td> </td>   \n",
       "</tr>\n",
       "<tr>\n",
       "  <th>Covariance Type:</th>      <td>nonrobust</td>    <th>                     </th>              <td> </td>   \n",
       "</tr>\n",
       "</table>\n",
       "<table class=\"simpletable\">\n",
       "<tr>\n",
       "   <td></td>     <th>coef</th>     <th>std err</th>      <th>t</th>      <th>P>|t|</th>  <th>[0.025</th>    <th>0.975]</th>  \n",
       "</tr>\n",
       "<tr>\n",
       "  <th>x1</th> <td>    0.9003</td> <td>    0.032</td> <td>   28.033</td> <td> 0.000</td> <td>    0.837</td> <td>    0.963</td>\n",
       "</tr>\n",
       "<tr>\n",
       "  <th>x2</th> <td>    5.0047</td> <td>    0.044</td> <td>  113.050</td> <td> 0.000</td> <td>    4.918</td> <td>    5.092</td>\n",
       "</tr>\n",
       "</table>\n",
       "<table class=\"simpletable\">\n",
       "<tr>\n",
       "  <th>Omnibus:</th>       <td> 1.679</td> <th>  Durbin-Watson:     </th> <td>   2.003</td>\n",
       "</tr>\n",
       "<tr>\n",
       "  <th>Prob(Omnibus):</th> <td> 0.432</td> <th>  Jarque-Bera (JB):  </th> <td>   1.634</td>\n",
       "</tr>\n",
       "<tr>\n",
       "  <th>Skew:</th>          <td>-0.016</td> <th>  Prob(JB):          </th> <td>   0.442</td>\n",
       "</tr>\n",
       "<tr>\n",
       "  <th>Kurtosis:</th>      <td> 3.195</td> <th>  Cond. No.          </th> <td>    1.38</td>\n",
       "</tr>\n",
       "</table><br/><br/>Notes:<br/>[1] R² is computed without centering (uncentered) since the model does not contain a constant.<br/>[2] Standard Errors assume that the covariance matrix of the errors is correctly specified."
      ],
      "text/plain": [
       "<class 'statsmodels.iolib.summary.Summary'>\n",
       "\"\"\"\n",
       "                                 OLS Regression Results                                \n",
       "=======================================================================================\n",
       "Dep. Variable:                      y   R-squared (uncentered):                   0.933\n",
       "Model:                            OLS   Adj. R-squared (uncentered):              0.933\n",
       "Method:                 Least Squares   F-statistic:                              6972.\n",
       "Date:                Thu, 20 Jul 2023   Prob (F-statistic):                        0.00\n",
       "Time:                        13:35:47   Log-Likelihood:                         -1418.2\n",
       "No. Observations:                1000   AIC:                                      2840.\n",
       "Df Residuals:                     998   BIC:                                      2850.\n",
       "Df Model:                           2                                                  \n",
       "Covariance Type:            nonrobust                                                  \n",
       "==============================================================================\n",
       "                 coef    std err          t      P>|t|      [0.025      0.975]\n",
       "------------------------------------------------------------------------------\n",
       "x1             0.9003      0.032     28.033      0.000       0.837       0.963\n",
       "x2             5.0047      0.044    113.050      0.000       4.918       5.092\n",
       "==============================================================================\n",
       "Omnibus:                        1.679   Durbin-Watson:                   2.003\n",
       "Prob(Omnibus):                  0.432   Jarque-Bera (JB):                1.634\n",
       "Skew:                          -0.016   Prob(JB):                        0.442\n",
       "Kurtosis:                       3.195   Cond. No.                         1.38\n",
       "==============================================================================\n",
       "\n",
       "Notes:\n",
       "[1] R² is computed without centering (uncentered) since the model does not contain a constant.\n",
       "[2] Standard Errors assume that the covariance matrix of the errors is correctly specified.\n",
       "\"\"\""
      ]
     },
     "execution_count": 10,
     "metadata": {},
     "output_type": "execute_result"
    }
   ],
   "source": [
    "model = OLS(np.asarray(df[outcome]), np.asarray(df[[common_cause, treatment]], dtype=np.float64))\n",
    "result = model.fit()\n",
    "result.summary()"
   ]
  }
 ],
 "metadata": {
  "kernelspec": {
   "display_name": "Python 3",
   "language": "python",
   "name": "python3"
  },
  "language_info": {
   "codemirror_mode": {
    "name": "ipython",
    "version": 3
   },
   "file_extension": ".py",
   "mimetype": "text/x-python",
   "name": "python",
   "nbconvert_exporter": "python",
   "pygments_lexer": "ipython3",
   "version": "3.8.10"
  },
  "toc": {
   "base_numbering": 1,
   "nav_menu": {},
   "number_sections": false,
   "sideBar": true,
   "skip_h1_title": true,
   "title_cell": "Table of Contents",
   "title_sidebar": "Contents",
   "toc_cell": false,
   "toc_position": {},
   "toc_section_display": true,
   "toc_window_display": false
  }
 },
 "nbformat": 4,
 "nbformat_minor": 4
}
