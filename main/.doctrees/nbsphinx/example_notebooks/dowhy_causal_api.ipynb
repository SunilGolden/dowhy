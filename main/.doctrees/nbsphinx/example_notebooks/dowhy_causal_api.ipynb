{
 "cells": [
  {
   "cell_type": "markdown",
   "metadata": {},
   "source": [
    "# Demo for the DoWhy causal API\n",
    "We show a simple example of adding a causal extension to any dataframe. "
   ]
  },
  {
   "cell_type": "code",
   "execution_count": 1,
   "metadata": {
    "execution": {
     "iopub.execute_input": "2024-06-13T07:55:09.242450Z",
     "iopub.status.busy": "2024-06-13T07:55:09.241989Z",
     "iopub.status.idle": "2024-06-13T07:55:10.712259Z",
     "shell.execute_reply": "2024-06-13T07:55:10.711639Z"
    }
   },
   "outputs": [],
   "source": [
    "import dowhy.datasets\n",
    "import dowhy.api\n",
    "from dowhy.graph import build_graph_from_str\n",
    "\n",
    "import numpy as np\n",
    "import pandas as pd\n",
    "\n",
    "from statsmodels.api import OLS"
   ]
  },
  {
   "cell_type": "code",
   "execution_count": 2,
   "metadata": {
    "execution": {
     "iopub.execute_input": "2024-06-13T07:55:10.715425Z",
     "iopub.status.busy": "2024-06-13T07:55:10.714861Z",
     "iopub.status.idle": "2024-06-13T07:55:10.757696Z",
     "shell.execute_reply": "2024-06-13T07:55:10.757072Z"
    }
   },
   "outputs": [
    {
     "data": {
      "text/html": [
       "<div>\n",
       "<style scoped>\n",
       "    .dataframe tbody tr th:only-of-type {\n",
       "        vertical-align: middle;\n",
       "    }\n",
       "\n",
       "    .dataframe tbody tr th {\n",
       "        vertical-align: top;\n",
       "    }\n",
       "\n",
       "    .dataframe thead th {\n",
       "        text-align: right;\n",
       "    }\n",
       "</style>\n",
       "<table border=\"1\" class=\"dataframe\">\n",
       "  <thead>\n",
       "    <tr style=\"text-align: right;\">\n",
       "      <th></th>\n",
       "      <th>W0</th>\n",
       "      <th>v0</th>\n",
       "      <th>y</th>\n",
       "    </tr>\n",
       "  </thead>\n",
       "  <tbody>\n",
       "    <tr>\n",
       "      <th>0</th>\n",
       "      <td>-0.500138</td>\n",
       "      <td>False</td>\n",
       "      <td>1.687967</td>\n",
       "    </tr>\n",
       "    <tr>\n",
       "      <th>1</th>\n",
       "      <td>0.466823</td>\n",
       "      <td>True</td>\n",
       "      <td>5.839436</td>\n",
       "    </tr>\n",
       "    <tr>\n",
       "      <th>2</th>\n",
       "      <td>-2.919384</td>\n",
       "      <td>False</td>\n",
       "      <td>-4.038461</td>\n",
       "    </tr>\n",
       "    <tr>\n",
       "      <th>3</th>\n",
       "      <td>1.439930</td>\n",
       "      <td>True</td>\n",
       "      <td>3.560690</td>\n",
       "    </tr>\n",
       "    <tr>\n",
       "      <th>4</th>\n",
       "      <td>0.855629</td>\n",
       "      <td>True</td>\n",
       "      <td>5.703588</td>\n",
       "    </tr>\n",
       "    <tr>\n",
       "      <th>...</th>\n",
       "      <td>...</td>\n",
       "      <td>...</td>\n",
       "      <td>...</td>\n",
       "    </tr>\n",
       "    <tr>\n",
       "      <th>995</th>\n",
       "      <td>-0.595835</td>\n",
       "      <td>False</td>\n",
       "      <td>1.363433</td>\n",
       "    </tr>\n",
       "    <tr>\n",
       "      <th>996</th>\n",
       "      <td>-0.823999</td>\n",
       "      <td>False</td>\n",
       "      <td>-0.338153</td>\n",
       "    </tr>\n",
       "    <tr>\n",
       "      <th>997</th>\n",
       "      <td>-0.620047</td>\n",
       "      <td>False</td>\n",
       "      <td>-0.662360</td>\n",
       "    </tr>\n",
       "    <tr>\n",
       "      <th>998</th>\n",
       "      <td>-0.144516</td>\n",
       "      <td>False</td>\n",
       "      <td>-1.496468</td>\n",
       "    </tr>\n",
       "    <tr>\n",
       "      <th>999</th>\n",
       "      <td>-0.584083</td>\n",
       "      <td>False</td>\n",
       "      <td>-2.300346</td>\n",
       "    </tr>\n",
       "  </tbody>\n",
       "</table>\n",
       "<p>1000 rows × 3 columns</p>\n",
       "</div>"
      ],
      "text/plain": [
       "           W0     v0         y\n",
       "0   -0.500138  False  1.687967\n",
       "1    0.466823   True  5.839436\n",
       "2   -2.919384  False -4.038461\n",
       "3    1.439930   True  3.560690\n",
       "4    0.855629   True  5.703588\n",
       "..        ...    ...       ...\n",
       "995 -0.595835  False  1.363433\n",
       "996 -0.823999  False -0.338153\n",
       "997 -0.620047  False -0.662360\n",
       "998 -0.144516  False -1.496468\n",
       "999 -0.584083  False -2.300346\n",
       "\n",
       "[1000 rows x 3 columns]"
      ]
     },
     "execution_count": 2,
     "metadata": {},
     "output_type": "execute_result"
    }
   ],
   "source": [
    "data = dowhy.datasets.linear_dataset(beta=5,\n",
    "        num_common_causes=1,\n",
    "        num_instruments = 0,\n",
    "        num_samples=1000,\n",
    "        treatment_is_binary=True)\n",
    "df = data['df']\n",
    "df['y'] = df['y'] + np.random.normal(size=len(df)) # Adding noise to data. Without noise, the variance in Y|X, Z is zero, and mcmc fails.\n",
    "nx_graph = build_graph_from_str(data[\"dot_graph\"])\n",
    "\n",
    "treatment= data[\"treatment_name\"][0]\n",
    "outcome = data[\"outcome_name\"][0]\n",
    "common_cause = data[\"common_causes_names\"][0]\n",
    "df"
   ]
  },
  {
   "cell_type": "code",
   "execution_count": 3,
   "metadata": {
    "execution": {
     "iopub.execute_input": "2024-06-13T07:55:10.760202Z",
     "iopub.status.busy": "2024-06-13T07:55:10.759750Z",
     "iopub.status.idle": "2024-06-13T07:55:10.920428Z",
     "shell.execute_reply": "2024-06-13T07:55:10.919695Z"
    },
    "scrolled": true
   },
   "outputs": [
    {
     "data": {
      "text/plain": [
       "<Axes: xlabel='v0'>"
      ]
     },
     "execution_count": 3,
     "metadata": {},
     "output_type": "execute_result"
    },
    {
     "data": {
      "image/png": "[encoded data removed]",
      "text/plain": [
       "<Figure size 640x480 with 1 Axes>"
      ]
     },
     "metadata": {},
     "output_type": "display_data"
    }
   ],
   "source": [
    "# data['df'] is just a regular pandas.DataFrame\n",
    "df.causal.do(x=treatment,\n",
    "             variable_types={treatment: 'b', outcome: 'c', common_cause: 'c'},\n",
    "             outcome=outcome,\n",
    "             common_causes=[common_cause],\n",
    "            ).groupby(treatment).mean().plot(y=outcome, kind='bar')"
   ]
  },
  {
   "cell_type": "code",
   "execution_count": 4,
   "metadata": {
    "execution": {
     "iopub.execute_input": "2024-06-13T07:55:10.923496Z",
     "iopub.status.busy": "2024-06-13T07:55:10.922885Z",
     "iopub.status.idle": "2024-06-13T07:55:11.031810Z",
     "shell.execute_reply": "2024-06-13T07:55:11.031095Z"
    }
   },
   "outputs": [
    {
     "data": {
      "text/plain": [
       "<Axes: xlabel='v0'>"
      ]
     },
     "execution_count": 4,
     "metadata": {},
     "output_type": "execute_result"
    },
    {
     "data": {
      "image/png": "[encoded data removed]",
      "text/plain": [
       "<Figure size 640x480 with 1 Axes>"
      ]
     },
     "metadata": {},
     "output_type": "display_data"
    }
   ],
   "source": [
    "df.causal.do(x={treatment: 1}, \n",
    "              variable_types={treatment:'b', outcome: 'c', common_cause: 'c'}, \n",
    "              outcome=outcome,\n",
    "              method='weighting', \n",
    "              common_causes=[common_cause]\n",
    "              ).groupby(treatment).mean().plot(y=outcome, kind='bar')"
   ]
  },
  {
   "cell_type": "code",
   "execution_count": 5,
   "metadata": {
    "execution": {
     "iopub.execute_input": "2024-06-13T07:55:11.034452Z",
     "iopub.status.busy": "2024-06-13T07:55:11.034224Z",
     "iopub.status.idle": "2024-06-13T07:55:11.057159Z",
     "shell.execute_reply": "2024-06-13T07:55:11.056484Z"
    }
   },
   "outputs": [],
   "source": [
    "cdf_1 = df.causal.do(x={treatment: 1}, \n",
    "              variable_types={treatment: 'b', outcome: 'c', common_cause: 'c'}, \n",
    "              outcome=outcome, \n",
    "              graph=nx_graph\n",
    "              )\n",
    "\n",
    "cdf_0 = df.causal.do(x={treatment: 0}, \n",
    "              variable_types={treatment: 'b', outcome: 'c', common_cause: 'c'}, \n",
    "              outcome=outcome, \n",
    "              graph=nx_graph\n",
    "              )\n"
   ]
  },
  {
   "cell_type": "code",
   "execution_count": 6,
   "metadata": {
    "execution": {
     "iopub.execute_input": "2024-06-13T07:55:11.059738Z",
     "iopub.status.busy": "2024-06-13T07:55:11.059533Z",
     "iopub.status.idle": "2024-06-13T07:55:11.068891Z",
     "shell.execute_reply": "2024-06-13T07:55:11.068247Z"
    },
    "scrolled": true
   },
   "outputs": [
    {
     "data": {
      "text/html": [
       "<div>\n",
       "<style scoped>\n",
       "    .dataframe tbody tr th:only-of-type {\n",
       "        vertical-align: middle;\n",
       "    }\n",
       "\n",
       "    .dataframe tbody tr th {\n",
       "        vertical-align: top;\n",
       "    }\n",
       "\n",
       "    .dataframe thead th {\n",
       "        text-align: right;\n",
       "    }\n",
       "</style>\n",
       "<table border=\"1\" class=\"dataframe\">\n",
       "  <thead>\n",
       "    <tr style=\"text-align: right;\">\n",
       "      <th></th>\n",
       "      <th>W0</th>\n",
       "      <th>v0</th>\n",
       "      <th>y</th>\n",
       "      <th>propensity_score</th>\n",
       "      <th>weight</th>\n",
       "    </tr>\n",
       "  </thead>\n",
       "  <tbody>\n",
       "    <tr>\n",
       "      <th>0</th>\n",
       "      <td>-1.373936</td>\n",
       "      <td>False</td>\n",
       "      <td>-2.324388</td>\n",
       "      <td>0.972168</td>\n",
       "      <td>1.028629</td>\n",
       "    </tr>\n",
       "    <tr>\n",
       "      <th>1</th>\n",
       "      <td>-0.123468</td>\n",
       "      <td>False</td>\n",
       "      <td>0.521999</td>\n",
       "      <td>0.585670</td>\n",
       "      <td>1.707446</td>\n",
       "    </tr>\n",
       "    <tr>\n",
       "      <th>2</th>\n",
       "      <td>-0.545523</td>\n",
       "      <td>False</td>\n",
       "      <td>-0.632228</td>\n",
       "      <td>0.806682</td>\n",
       "      <td>1.239645</td>\n",
       "    </tr>\n",
       "    <tr>\n",
       "      <th>3</th>\n",
       "      <td>-1.016274</td>\n",
       "      <td>False</td>\n",
       "      <td>-2.097019</td>\n",
       "      <td>0.933142</td>\n",
       "      <td>1.071648</td>\n",
       "    </tr>\n",
       "    <tr>\n",
       "      <th>4</th>\n",
       "      <td>-1.201137</td>\n",
       "      <td>False</td>\n",
       "      <td>-1.586484</td>\n",
       "      <td>0.957309</td>\n",
       "      <td>1.044595</td>\n",
       "    </tr>\n",
       "    <tr>\n",
       "      <th>...</th>\n",
       "      <td>...</td>\n",
       "      <td>...</td>\n",
       "      <td>...</td>\n",
       "      <td>...</td>\n",
       "      <td>...</td>\n",
       "    </tr>\n",
       "    <tr>\n",
       "      <th>995</th>\n",
       "      <td>-0.678165</td>\n",
       "      <td>False</td>\n",
       "      <td>-0.387644</td>\n",
       "      <td>0.854308</td>\n",
       "      <td>1.170537</td>\n",
       "    </tr>\n",
       "    <tr>\n",
       "      <th>996</th>\n",
       "      <td>-1.338315</td>\n",
       "      <td>False</td>\n",
       "      <td>-1.087538</td>\n",
       "      <td>0.969586</td>\n",
       "      <td>1.031368</td>\n",
       "    </tr>\n",
       "    <tr>\n",
       "      <th>997</th>\n",
       "      <td>-0.919481</td>\n",
       "      <td>False</td>\n",
       "      <td>-0.349256</td>\n",
       "      <td>0.915887</td>\n",
       "      <td>1.091837</td>\n",
       "    </tr>\n",
       "    <tr>\n",
       "      <th>998</th>\n",
       "      <td>-0.383661</td>\n",
       "      <td>False</td>\n",
       "      <td>-0.752449</td>\n",
       "      <td>0.733694</td>\n",
       "      <td>1.362966</td>\n",
       "    </tr>\n",
       "    <tr>\n",
       "      <th>999</th>\n",
       "      <td>-2.571312</td>\n",
       "      <td>False</td>\n",
       "      <td>-2.945249</td>\n",
       "      <td>0.998674</td>\n",
       "      <td>1.001328</td>\n",
       "    </tr>\n",
       "  </tbody>\n",
       "</table>\n",
       "<p>1000 rows × 5 columns</p>\n",
       "</div>"
      ],
      "text/plain": [
       "           W0     v0         y  propensity_score    weight\n",
       "0   -1.373936  False -2.324388          0.972168  1.028629\n",
       "1   -0.123468  False  0.521999          0.585670  1.707446\n",
       "2   -0.545523  False -0.632228          0.806682  1.239645\n",
       "3   -1.016274  False -2.097019          0.933142  1.071648\n",
       "4   -1.201137  False -1.586484          0.957309  1.044595\n",
       "..        ...    ...       ...               ...       ...\n",
       "995 -0.678165  False -0.387644          0.854308  1.170537\n",
       "996 -1.338315  False -1.087538          0.969586  1.031368\n",
       "997 -0.919481  False -0.349256          0.915887  1.091837\n",
       "998 -0.383661  False -0.752449          0.733694  1.362966\n",
       "999 -2.571312  False -2.945249          0.998674  1.001328\n",
       "\n",
       "[1000 rows x 5 columns]"
      ]
     },
     "execution_count": 6,
     "metadata": {},
     "output_type": "execute_result"
    }
   ],
   "source": [
    "cdf_0"
   ]
  },
  {
   "cell_type": "code",
   "execution_count": 7,
   "metadata": {
    "execution": {
     "iopub.execute_input": "2024-06-13T07:55:11.071220Z",
     "iopub.status.busy": "2024-06-13T07:55:11.071016Z",
     "iopub.status.idle": "2024-06-13T07:55:11.080165Z",
     "shell.execute_reply": "2024-06-13T07:55:11.079649Z"
    }
   },
   "outputs": [
    {
     "data": {
      "text/html": [
       "<div>\n",
       "<style scoped>\n",
       "    .dataframe tbody tr th:only-of-type {\n",
       "        vertical-align: middle;\n",
       "    }\n",
       "\n",
       "    .dataframe tbody tr th {\n",
       "        vertical-align: top;\n",
       "    }\n",
       "\n",
       "    .dataframe thead th {\n",
       "        text-align: right;\n",
       "    }\n",
       "</style>\n",
       "<table border=\"1\" class=\"dataframe\">\n",
       "  <thead>\n",
       "    <tr style=\"text-align: right;\">\n",
       "      <th></th>\n",
       "      <th>W0</th>\n",
       "      <th>v0</th>\n",
       "      <th>y</th>\n",
       "      <th>propensity_score</th>\n",
       "      <th>weight</th>\n",
       "    </tr>\n",
       "  </thead>\n",
       "  <tbody>\n",
       "    <tr>\n",
       "      <th>0</th>\n",
       "      <td>-0.197738</td>\n",
       "      <td>True</td>\n",
       "      <td>4.429936</td>\n",
       "      <td>0.368983</td>\n",
       "      <td>2.710155</td>\n",
       "    </tr>\n",
       "    <tr>\n",
       "      <th>1</th>\n",
       "      <td>-0.277550</td>\n",
       "      <td>True</td>\n",
       "      <td>3.388937</td>\n",
       "      <td>0.322722</td>\n",
       "      <td>3.098640</td>\n",
       "    </tr>\n",
       "    <tr>\n",
       "      <th>2</th>\n",
       "      <td>0.076850</td>\n",
       "      <td>True</td>\n",
       "      <td>6.336151</td>\n",
       "      <td>0.541824</td>\n",
       "      <td>1.845618</td>\n",
       "    </tr>\n",
       "    <tr>\n",
       "      <th>3</th>\n",
       "      <td>1.127299</td>\n",
       "      <td>True</td>\n",
       "      <td>7.290749</td>\n",
       "      <td>0.945931</td>\n",
       "      <td>1.057159</td>\n",
       "    </tr>\n",
       "    <tr>\n",
       "      <th>4</th>\n",
       "      <td>-0.260597</td>\n",
       "      <td>True</td>\n",
       "      <td>5.629649</td>\n",
       "      <td>0.332298</td>\n",
       "      <td>3.009343</td>\n",
       "    </tr>\n",
       "    <tr>\n",
       "      <th>...</th>\n",
       "      <td>...</td>\n",
       "      <td>...</td>\n",
       "      <td>...</td>\n",
       "      <td>...</td>\n",
       "      <td>...</td>\n",
       "    </tr>\n",
       "    <tr>\n",
       "      <th>995</th>\n",
       "      <td>-1.507114</td>\n",
       "      <td>True</td>\n",
       "      <td>4.223933</td>\n",
       "      <td>0.019939</td>\n",
       "      <td>50.151964</td>\n",
       "    </tr>\n",
       "    <tr>\n",
       "      <th>996</th>\n",
       "      <td>-1.115126</td>\n",
       "      <td>True</td>\n",
       "      <td>1.771336</td>\n",
       "      <td>0.052673</td>\n",
       "      <td>18.984919</td>\n",
       "    </tr>\n",
       "    <tr>\n",
       "      <th>997</th>\n",
       "      <td>2.105436</td>\n",
       "      <td>True</td>\n",
       "      <td>8.543345</td>\n",
       "      <td>0.995371</td>\n",
       "      <td>1.004651</td>\n",
       "    </tr>\n",
       "    <tr>\n",
       "      <th>998</th>\n",
       "      <td>0.930646</td>\n",
       "      <td>True</td>\n",
       "      <td>6.694543</td>\n",
       "      <td>0.913531</td>\n",
       "      <td>1.094653</td>\n",
       "    </tr>\n",
       "    <tr>\n",
       "      <th>999</th>\n",
       "      <td>1.061420</td>\n",
       "      <td>True</td>\n",
       "      <td>4.830637</td>\n",
       "      <td>0.936609</td>\n",
       "      <td>1.067681</td>\n",
       "    </tr>\n",
       "  </tbody>\n",
       "</table>\n",
       "<p>1000 rows × 5 columns</p>\n",
       "</div>"
      ],
      "text/plain": [
       "           W0    v0         y  propensity_score     weight\n",
       "0   -0.197738  True  4.429936          0.368983   2.710155\n",
       "1   -0.277550  True  3.388937          0.322722   3.098640\n",
       "2    0.076850  True  6.336151          0.541824   1.845618\n",
       "3    1.127299  True  7.290749          0.945931   1.057159\n",
       "4   -0.260597  True  5.629649          0.332298   3.009343\n",
       "..        ...   ...       ...               ...        ...\n",
       "995 -1.507114  True  4.223933          0.019939  50.151964\n",
       "996 -1.115126  True  1.771336          0.052673  18.984919\n",
       "997  2.105436  True  8.543345          0.995371   1.004651\n",
       "998  0.930646  True  6.694543          0.913531   1.094653\n",
       "999  1.061420  True  4.830637          0.936609   1.067681\n",
       "\n",
       "[1000 rows x 5 columns]"
      ]
     },
     "execution_count": 7,
     "metadata": {},
     "output_type": "execute_result"
    }
   ],
   "source": [
    "cdf_1"
   ]
  },
  {
   "cell_type": "markdown",
   "metadata": {},
   "source": [
    "## Comparing the estimate to Linear Regression\n",
    "First, estimating the effect using the causal data frame, and the 95% confidence interval."
   ]
  },
  {
   "cell_type": "code",
   "execution_count": 8,
   "metadata": {
    "execution": {
     "iopub.execute_input": "2024-06-13T07:55:11.082622Z",
     "iopub.status.busy": "2024-06-13T07:55:11.082269Z",
     "iopub.status.idle": "2024-06-13T07:55:11.128777Z",
     "shell.execute_reply": "2024-06-13T07:55:11.128116Z"
    }
   },
   "outputs": [
    {
     "data": {
      "image/png": "[encoded data removed]",
      "text/latex": [
       "$\\displaystyle 5.38268440341841$"
      ],
      "text/plain": [
       "5.3826844034184065"
      ]
     },
     "execution_count": 8,
     "metadata": {},
     "output_type": "execute_result"
    }
   ],
   "source": [
    "(cdf_1['y'] - cdf_0['y']).mean()"
   ]
  },
  {
   "cell_type": "code",
   "execution_count": 9,
   "metadata": {
    "execution": {
     "iopub.execute_input": "2024-06-13T07:55:11.131230Z",
     "iopub.status.busy": "2024-06-13T07:55:11.130868Z",
     "iopub.status.idle": "2024-06-13T07:55:11.147215Z",
     "shell.execute_reply": "2024-06-13T07:55:11.146692Z"
    }
   },
   "outputs": [
    {
     "data": {
      "image/png": "[encoded data removed]",
      "text/latex": [
       "$\\displaystyle 0.117259457659073$"
      ],
      "text/plain": [
       "0.11725945765907263"
      ]
     },
     "execution_count": 9,
     "metadata": {},
     "output_type": "execute_result"
    }
   ],
   "source": [
    "1.96*(cdf_1['y'] - cdf_0['y']).std() / np.sqrt(len(df))"
   ]
  },
  {
   "cell_type": "markdown",
   "metadata": {},
   "source": [
    "Comparing to the estimate from OLS."
   ]
  },
  {
   "cell_type": "code",
   "execution_count": 10,
   "metadata": {
    "execution": {
     "iopub.execute_input": "2024-06-13T07:55:11.149642Z",
     "iopub.status.busy": "2024-06-13T07:55:11.149202Z",
     "iopub.status.idle": "2024-06-13T07:55:11.166079Z",
     "shell.execute_reply": "2024-06-13T07:55:11.165405Z"
    }
   },
   "outputs": [
    {
     "data": {
      "text/html": [
       "<table class=\"simpletable\">\n",
       "<caption>OLS Regression Results</caption>\n",
       "<tr>\n",
       "  <th>Dep. Variable:</th>            <td>y</td>        <th>  R-squared (uncentered):</th>      <td>   0.948</td>\n",
       "</tr>\n",
       "<tr>\n",
       "  <th>Model:</th>                   <td>OLS</td>       <th>  Adj. R-squared (uncentered):</th> <td>   0.947</td>\n",
       "</tr>\n",
       "<tr>\n",
       "  <th>Method:</th>             <td>Least Squares</td>  <th>  F-statistic:       </th>          <td>   9009.</td>\n",
       "</tr>\n",
       "<tr>\n",
       "  <th>Date:</th>             <td>Thu, 13 Jun 2024</td> <th>  Prob (F-statistic):</th>           <td>  0.00</td> \n",
       "</tr>\n",
       "<tr>\n",
       "  <th>Time:</th>                 <td>07:55:11</td>     <th>  Log-Likelihood:    </th>          <td> -1434.3</td>\n",
       "</tr>\n",
       "<tr>\n",
       "  <th>No. Observations:</th>      <td>  1000</td>      <th>  AIC:               </th>          <td>   2873.</td>\n",
       "</tr>\n",
       "<tr>\n",
       "  <th>Df Residuals:</th>          <td>   998</td>      <th>  BIC:               </th>          <td>   2882.</td>\n",
       "</tr>\n",
       "<tr>\n",
       "  <th>Df Model:</th>              <td>     2</td>      <th>                     </th>              <td> </td>   \n",
       "</tr>\n",
       "<tr>\n",
       "  <th>Covariance Type:</th>      <td>nonrobust</td>    <th>                     </th>              <td> </td>   \n",
       "</tr>\n",
       "</table>\n",
       "<table class=\"simpletable\">\n",
       "<tr>\n",
       "   <td></td>     <th>coef</th>     <th>std err</th>      <th>t</th>      <th>P>|t|</th>  <th>[0.025</th>    <th>0.975]</th>  \n",
       "</tr>\n",
       "<tr>\n",
       "  <th>x1</th> <td>    1.0594</td> <td>    0.038</td> <td>   27.748</td> <td> 0.000</td> <td>    0.984</td> <td>    1.134</td>\n",
       "</tr>\n",
       "<tr>\n",
       "  <th>x2</th> <td>    5.0657</td> <td>    0.052</td> <td>   97.656</td> <td> 0.000</td> <td>    4.964</td> <td>    5.167</td>\n",
       "</tr>\n",
       "</table>\n",
       "<table class=\"simpletable\">\n",
       "<tr>\n",
       "  <th>Omnibus:</th>       <td> 2.108</td> <th>  Durbin-Watson:     </th> <td>   2.085</td>\n",
       "</tr>\n",
       "<tr>\n",
       "  <th>Prob(Omnibus):</th> <td> 0.349</td> <th>  Jarque-Bera (JB):  </th> <td>   2.088</td>\n",
       "</tr>\n",
       "<tr>\n",
       "  <th>Skew:</th>          <td> 0.070</td> <th>  Prob(JB):          </th> <td>   0.352</td>\n",
       "</tr>\n",
       "<tr>\n",
       "  <th>Kurtosis:</th>      <td> 2.826</td> <th>  Cond. No.          </th> <td>    1.94</td>\n",
       "</tr>\n",
       "</table><br/><br/>Notes:<br/>[1] R² is computed without centering (uncentered) since the model does not contain a constant.<br/>[2] Standard Errors assume that the covariance matrix of the errors is correctly specified."
      ],
      "text/latex": [
       "\\begin{center}\n",
       "\\begin{tabular}{lclc}\n",
       "\\toprule\n",
       "\\textbf{Dep. Variable:}    &        y         & \\textbf{  R-squared (uncentered):}      &     0.948   \\\\\n",
       "\\textbf{Model:}            &       OLS        & \\textbf{  Adj. R-squared (uncentered):} &     0.947   \\\\\n",
       "\\textbf{Method:}           &  Least Squares   & \\textbf{  F-statistic:       }          &     9009.   \\\\\n",
       "\\textbf{Date:}             & Thu, 13 Jun 2024 & \\textbf{  Prob (F-statistic):}          &     0.00    \\\\\n",
       "\\textbf{Time:}             &     07:55:11     & \\textbf{  Log-Likelihood:    }          &   -1434.3   \\\\\n",
       "\\textbf{No. Observations:} &        1000      & \\textbf{  AIC:               }          &     2873.   \\\\\n",
       "\\textbf{Df Residuals:}     &         998      & \\textbf{  BIC:               }          &     2882.   \\\\\n",
       "\\textbf{Df Model:}         &           2      & \\textbf{                     }          &             \\\\\n",
       "\\textbf{Covariance Type:}  &    nonrobust     & \\textbf{                     }          &             \\\\\n",
       "\\bottomrule\n",
       "\\end{tabular}\n",
       "\\begin{tabular}{lcccccc}\n",
       "            & \\textbf{coef} & \\textbf{std err} & \\textbf{t} & \\textbf{P$> |$t$|$} & \\textbf{[0.025} & \\textbf{0.975]}  \\\\\n",
       "\\midrule\n",
       "\\textbf{x1} &       1.0594  &        0.038     &    27.748  &         0.000        &        0.984    &        1.134     \\\\\n",
       "\\textbf{x2} &       5.0657  &        0.052     &    97.656  &         0.000        &        4.964    &        5.167     \\\\\n",
       "\\bottomrule\n",
       "\\end{tabular}\n",
       "\\begin{tabular}{lclc}\n",
       "\\textbf{Omnibus:}       &  2.108 & \\textbf{  Durbin-Watson:     } &    2.085  \\\\\n",
       "\\textbf{Prob(Omnibus):} &  0.349 & \\textbf{  Jarque-Bera (JB):  } &    2.088  \\\\\n",
       "\\textbf{Skew:}          &  0.070 & \\textbf{  Prob(JB):          } &    0.352  \\\\\n",
       "\\textbf{Kurtosis:}      &  2.826 & \\textbf{  Cond. No.          } &     1.94  \\\\\n",
       "\\bottomrule\n",
       "\\end{tabular}\n",
       "%\\caption{OLS Regression Results}\n",
       "\\end{center}\n",
       "\n",
       "Notes: \\newline\n",
       " [1] R² is computed without centering (uncentered) since the model does not contain a constant. \\newline\n",
       " [2] Standard Errors assume that the covariance matrix of the errors is correctly specified."
      ],
      "text/plain": [
       "<class 'statsmodels.iolib.summary.Summary'>\n",
       "\"\"\"\n",
       "                                 OLS Regression Results                                \n",
       "=======================================================================================\n",
       "Dep. Variable:                      y   R-squared (uncentered):                   0.948\n",
       "Model:                            OLS   Adj. R-squared (uncentered):              0.947\n",
       "Method:                 Least Squares   F-statistic:                              9009.\n",
       "Date:                Thu, 13 Jun 2024   Prob (F-statistic):                        0.00\n",
       "Time:                        07:55:11   Log-Likelihood:                         -1434.3\n",
       "No. Observations:                1000   AIC:                                      2873.\n",
       "Df Residuals:                     998   BIC:                                      2882.\n",
       "Df Model:                           2                                                  \n",
       "Covariance Type:            nonrobust                                                  \n",
       "==============================================================================\n",
       "                 coef    std err          t      P>|t|      [0.025      0.975]\n",
       "------------------------------------------------------------------------------\n",
       "x1             1.0594      0.038     27.748      0.000       0.984       1.134\n",
       "x2             5.0657      0.052     97.656      0.000       4.964       5.167\n",
       "==============================================================================\n",
       "Omnibus:                        2.108   Durbin-Watson:                   2.085\n",
       "Prob(Omnibus):                  0.349   Jarque-Bera (JB):                2.088\n",
       "Skew:                           0.070   Prob(JB):                        0.352\n",
       "Kurtosis:                       2.826   Cond. No.                         1.94\n",
       "==============================================================================\n",
       "\n",
       "Notes:\n",
       "[1] R² is computed without centering (uncentered) since the model does not contain a constant.\n",
       "[2] Standard Errors assume that the covariance matrix of the errors is correctly specified.\n",
       "\"\"\""
      ]
     },
     "execution_count": 10,
     "metadata": {},
     "output_type": "execute_result"
    }
   ],
   "source": [
    "model = OLS(np.asarray(df[outcome]), np.asarray(df[[common_cause, treatment]], dtype=np.float64))\n",
    "result = model.fit()\n",
    "result.summary()"
   ]
  }
 ],
 "metadata": {
  "kernelspec": {
   "display_name": "Python 3 (ipykernel)",
   "language": "python",
   "name": "python3"
  },
  "language_info": {
   "codemirror_mode": {
    "name": "ipython",
    "version": 3
   },
   "file_extension": ".py",
   "mimetype": "text/x-python",
   "name": "python",
   "nbconvert_exporter": "python",
   "pygments_lexer": "ipython3",
   "version": "3.8.10"
  },
  "toc": {
   "base_numbering": 1,
   "nav_menu": {},
   "number_sections": false,
   "sideBar": true,
   "skip_h1_title": true,
   "title_cell": "Table of Contents",
   "title_sidebar": "Contents",
   "toc_cell": false,
   "toc_position": {},
   "toc_section_display": true,
   "toc_window_display": false
  }
 },
 "nbformat": 4,
 "nbformat_minor": 4
}
