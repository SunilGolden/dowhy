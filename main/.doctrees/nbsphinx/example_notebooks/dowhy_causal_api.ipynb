{
 "cells": [
  {
   "cell_type": "markdown",
   "metadata": {},
   "source": [
    "# Demo for the DoWhy causal API\n",
    "We show a simple example of adding a causal extension to any dataframe. "
   ]
  },
  {
   "cell_type": "code",
   "execution_count": 1,
   "metadata": {
    "execution": {
     "iopub.execute_input": "2023-02-01T21:48:09.890466Z",
     "iopub.status.busy": "2023-02-01T21:48:09.890077Z",
     "iopub.status.idle": "2023-02-01T21:48:11.658877Z",
     "shell.execute_reply": "2023-02-01T21:48:11.658253Z"
    }
   },
   "outputs": [],
   "source": [
    "import dowhy.datasets\n",
    "import dowhy.api\n",
    "\n",
    "import numpy as np\n",
    "import pandas as pd\n",
    "\n",
    "from statsmodels.api import OLS"
   ]
  },
  {
   "cell_type": "code",
   "execution_count": 2,
   "metadata": {
    "execution": {
     "iopub.execute_input": "2023-02-01T21:48:11.662380Z",
     "iopub.status.busy": "2023-02-01T21:48:11.661825Z",
     "iopub.status.idle": "2023-02-01T21:48:11.699944Z",
     "shell.execute_reply": "2023-02-01T21:48:11.699361Z"
    }
   },
   "outputs": [
    {
     "data": {
      "text/html": [
       "<div>\n",
       "<style scoped>\n",
       "    .dataframe tbody tr th:only-of-type {\n",
       "        vertical-align: middle;\n",
       "    }\n",
       "\n",
       "    .dataframe tbody tr th {\n",
       "        vertical-align: top;\n",
       "    }\n",
       "\n",
       "    .dataframe thead th {\n",
       "        text-align: right;\n",
       "    }\n",
       "</style>\n",
       "<table border=\"1\" class=\"dataframe\">\n",
       "  <thead>\n",
       "    <tr style=\"text-align: right;\">\n",
       "      <th></th>\n",
       "      <th>W0</th>\n",
       "      <th>v0</th>\n",
       "      <th>y</th>\n",
       "    </tr>\n",
       "  </thead>\n",
       "  <tbody>\n",
       "    <tr>\n",
       "      <th>0</th>\n",
       "      <td>0.202682</td>\n",
       "      <td>False</td>\n",
       "      <td>1.194169</td>\n",
       "    </tr>\n",
       "    <tr>\n",
       "      <th>1</th>\n",
       "      <td>-2.930046</td>\n",
       "      <td>False</td>\n",
       "      <td>-0.099378</td>\n",
       "    </tr>\n",
       "    <tr>\n",
       "      <th>2</th>\n",
       "      <td>-0.176946</td>\n",
       "      <td>False</td>\n",
       "      <td>-0.365583</td>\n",
       "    </tr>\n",
       "    <tr>\n",
       "      <th>3</th>\n",
       "      <td>0.664866</td>\n",
       "      <td>False</td>\n",
       "      <td>-1.211488</td>\n",
       "    </tr>\n",
       "    <tr>\n",
       "      <th>4</th>\n",
       "      <td>-1.080623</td>\n",
       "      <td>True</td>\n",
       "      <td>5.223693</td>\n",
       "    </tr>\n",
       "    <tr>\n",
       "      <th>...</th>\n",
       "      <td>...</td>\n",
       "      <td>...</td>\n",
       "      <td>...</td>\n",
       "    </tr>\n",
       "    <tr>\n",
       "      <th>995</th>\n",
       "      <td>0.054760</td>\n",
       "      <td>False</td>\n",
       "      <td>1.203307</td>\n",
       "    </tr>\n",
       "    <tr>\n",
       "      <th>996</th>\n",
       "      <td>1.668404</td>\n",
       "      <td>True</td>\n",
       "      <td>2.324630</td>\n",
       "    </tr>\n",
       "    <tr>\n",
       "      <th>997</th>\n",
       "      <td>-1.940459</td>\n",
       "      <td>True</td>\n",
       "      <td>3.175455</td>\n",
       "    </tr>\n",
       "    <tr>\n",
       "      <th>998</th>\n",
       "      <td>0.160570</td>\n",
       "      <td>True</td>\n",
       "      <td>3.610299</td>\n",
       "    </tr>\n",
       "    <tr>\n",
       "      <th>999</th>\n",
       "      <td>-1.551905</td>\n",
       "      <td>False</td>\n",
       "      <td>0.634346</td>\n",
       "    </tr>\n",
       "  </tbody>\n",
       "</table>\n",
       "<p>1000 rows × 3 columns</p>\n",
       "</div>"
      ],
      "text/plain": [
       "           W0     v0         y\n",
       "0    0.202682  False  1.194169\n",
       "1   -2.930046  False -0.099378\n",
       "2   -0.176946  False -0.365583\n",
       "3    0.664866  False -1.211488\n",
       "4   -1.080623   True  5.223693\n",
       "..        ...    ...       ...\n",
       "995  0.054760  False  1.203307\n",
       "996  1.668404   True  2.324630\n",
       "997 -1.940459   True  3.175455\n",
       "998  0.160570   True  3.610299\n",
       "999 -1.551905  False  0.634346\n",
       "\n",
       "[1000 rows x 3 columns]"
      ]
     },
     "execution_count": 2,
     "metadata": {},
     "output_type": "execute_result"
    }
   ],
   "source": [
    "data = dowhy.datasets.linear_dataset(beta=5,\n",
    "        num_common_causes=1,\n",
    "        num_instruments = 0,\n",
    "        num_samples=1000,\n",
    "        treatment_is_binary=True)\n",
    "df = data['df']\n",
    "df['y'] = df['y'] + np.random.normal(size=len(df)) # Adding noise to data. Without noise, the variance in Y|X, Z is zero, and mcmc fails.\n",
    "#data['dot_graph'] = 'digraph { v ->y;X0-> v;X0-> y;}'\n",
    "\n",
    "treatment= data[\"treatment_name\"][0]\n",
    "outcome = data[\"outcome_name\"][0]\n",
    "common_cause = data[\"common_causes_names\"][0]\n",
    "df"
   ]
  },
  {
   "cell_type": "code",
   "execution_count": 3,
   "metadata": {
    "execution": {
     "iopub.execute_input": "2023-02-01T21:48:11.702777Z",
     "iopub.status.busy": "2023-02-01T21:48:11.702566Z",
     "iopub.status.idle": "2023-02-01T21:48:11.843871Z",
     "shell.execute_reply": "2023-02-01T21:48:11.843338Z"
    }
   },
   "outputs": [
    {
     "data": {
      "text/plain": [
       "<AxesSubplot: xlabel='v0'>"
      ]
     },
     "execution_count": 3,
     "metadata": {},
     "output_type": "execute_result"
    },
    {
     "data": {
      "image/png": "[encoded data removed]",
      "text/plain": [
       "<Figure size 640x480 with 1 Axes>"
      ]
     },
     "metadata": {},
     "output_type": "display_data"
    }
   ],
   "source": [
    "# data['df'] is just a regular pandas.DataFrame\n",
    "df.causal.do(x=treatment,\n",
    "                     variable_types={treatment: 'b', outcome: 'c', common_cause: 'c'},\n",
    "                     outcome=outcome,\n",
    "                     common_causes=[common_cause],\n",
    "                     proceed_when_unidentifiable=True).groupby(treatment).mean().plot(y=outcome, kind='bar')"
   ]
  },
  {
   "cell_type": "code",
   "execution_count": 4,
   "metadata": {
    "execution": {
     "iopub.execute_input": "2023-02-01T21:48:11.846805Z",
     "iopub.status.busy": "2023-02-01T21:48:11.846238Z",
     "iopub.status.idle": "2023-02-01T21:48:11.957935Z",
     "shell.execute_reply": "2023-02-01T21:48:11.957400Z"
    }
   },
   "outputs": [
    {
     "data": {
      "text/plain": [
       "<AxesSubplot: xlabel='v0'>"
      ]
     },
     "execution_count": 4,
     "metadata": {},
     "output_type": "execute_result"
    },
    {
     "data": {
      "image/png": "[encoded data removed]",
      "text/plain": [
       "<Figure size 640x480 with 1 Axes>"
      ]
     },
     "metadata": {},
     "output_type": "display_data"
    }
   ],
   "source": [
    "df.causal.do(x={treatment: 1}, \n",
    "              variable_types={treatment:'b', outcome: 'c', common_cause: 'c'}, \n",
    "              outcome=outcome,\n",
    "              method='weighting', \n",
    "              common_causes=[common_cause],\n",
    "              proceed_when_unidentifiable=True).groupby(treatment).mean().plot(y=outcome, kind='bar')"
   ]
  },
  {
   "cell_type": "code",
   "execution_count": 5,
   "metadata": {
    "execution": {
     "iopub.execute_input": "2023-02-01T21:48:11.961973Z",
     "iopub.status.busy": "2023-02-01T21:48:11.960826Z",
     "iopub.status.idle": "2023-02-01T21:48:11.990792Z",
     "shell.execute_reply": "2023-02-01T21:48:11.990287Z"
    }
   },
   "outputs": [],
   "source": [
    "cdf_1 = df.causal.do(x={treatment: 1}, \n",
    "              variable_types={treatment: 'b', outcome: 'c', common_cause: 'c'}, \n",
    "              outcome=outcome, \n",
    "              dot_graph=data['dot_graph'],\n",
    "              proceed_when_unidentifiable=True)\n",
    "\n",
    "cdf_0 = df.causal.do(x={treatment: 0}, \n",
    "              variable_types={treatment: 'b', outcome: 'c', common_cause: 'c'}, \n",
    "              outcome=outcome, \n",
    "              dot_graph=data['dot_graph'],\n",
    "              proceed_when_unidentifiable=True)\n"
   ]
  },
  {
   "cell_type": "code",
   "execution_count": 6,
   "metadata": {
    "execution": {
     "iopub.execute_input": "2023-02-01T21:48:11.994702Z",
     "iopub.status.busy": "2023-02-01T21:48:11.993650Z",
     "iopub.status.idle": "2023-02-01T21:48:12.005399Z",
     "shell.execute_reply": "2023-02-01T21:48:12.004919Z"
    },
    "scrolled": true
   },
   "outputs": [
    {
     "data": {
      "text/html": [
       "<div>\n",
       "<style scoped>\n",
       "    .dataframe tbody tr th:only-of-type {\n",
       "        vertical-align: middle;\n",
       "    }\n",
       "\n",
       "    .dataframe tbody tr th {\n",
       "        vertical-align: top;\n",
       "    }\n",
       "\n",
       "    .dataframe thead th {\n",
       "        text-align: right;\n",
       "    }\n",
       "</style>\n",
       "<table border=\"1\" class=\"dataframe\">\n",
       "  <thead>\n",
       "    <tr style=\"text-align: right;\">\n",
       "      <th></th>\n",
       "      <th>W0</th>\n",
       "      <th>v0</th>\n",
       "      <th>y</th>\n",
       "      <th>propensity_score</th>\n",
       "      <th>weight</th>\n",
       "    </tr>\n",
       "  </thead>\n",
       "  <tbody>\n",
       "    <tr>\n",
       "      <th>0</th>\n",
       "      <td>-0.225989</td>\n",
       "      <td>False</td>\n",
       "      <td>-1.094190</td>\n",
       "      <td>0.557757</td>\n",
       "      <td>1.792894</td>\n",
       "    </tr>\n",
       "    <tr>\n",
       "      <th>1</th>\n",
       "      <td>1.029895</td>\n",
       "      <td>False</td>\n",
       "      <td>0.213633</td>\n",
       "      <td>0.258945</td>\n",
       "      <td>3.861820</td>\n",
       "    </tr>\n",
       "    <tr>\n",
       "      <th>2</th>\n",
       "      <td>-1.701127</td>\n",
       "      <td>False</td>\n",
       "      <td>0.441389</td>\n",
       "      <td>0.850645</td>\n",
       "      <td>1.175579</td>\n",
       "    </tr>\n",
       "    <tr>\n",
       "      <th>3</th>\n",
       "      <td>-1.121474</td>\n",
       "      <td>False</td>\n",
       "      <td>0.882492</td>\n",
       "      <td>0.759010</td>\n",
       "      <td>1.317506</td>\n",
       "    </tr>\n",
       "    <tr>\n",
       "      <th>4</th>\n",
       "      <td>-0.514958</td>\n",
       "      <td>False</td>\n",
       "      <td>-1.160197</td>\n",
       "      <td>0.628875</td>\n",
       "      <td>1.590141</td>\n",
       "    </tr>\n",
       "    <tr>\n",
       "      <th>...</th>\n",
       "      <td>...</td>\n",
       "      <td>...</td>\n",
       "      <td>...</td>\n",
       "      <td>...</td>\n",
       "      <td>...</td>\n",
       "    </tr>\n",
       "    <tr>\n",
       "      <th>995</th>\n",
       "      <td>0.350265</td>\n",
       "      <td>False</td>\n",
       "      <td>-0.753401</td>\n",
       "      <td>0.411717</td>\n",
       "      <td>2.428852</td>\n",
       "    </tr>\n",
       "    <tr>\n",
       "      <th>996</th>\n",
       "      <td>-0.980396</td>\n",
       "      <td>False</td>\n",
       "      <td>-0.095021</td>\n",
       "      <td>0.731663</td>\n",
       "      <td>1.366750</td>\n",
       "    </tr>\n",
       "    <tr>\n",
       "      <th>997</th>\n",
       "      <td>0.587032</td>\n",
       "      <td>False</td>\n",
       "      <td>-0.097019</td>\n",
       "      <td>0.354607</td>\n",
       "      <td>2.820023</td>\n",
       "    </tr>\n",
       "    <tr>\n",
       "      <th>998</th>\n",
       "      <td>-1.291168</td>\n",
       "      <td>False</td>\n",
       "      <td>-1.162009</td>\n",
       "      <td>0.789296</td>\n",
       "      <td>1.266952</td>\n",
       "    </tr>\n",
       "    <tr>\n",
       "      <th>999</th>\n",
       "      <td>0.151185</td>\n",
       "      <td>False</td>\n",
       "      <td>1.126948</td>\n",
       "      <td>0.461723</td>\n",
       "      <td>2.165802</td>\n",
       "    </tr>\n",
       "  </tbody>\n",
       "</table>\n",
       "<p>1000 rows × 5 columns</p>\n",
       "</div>"
      ],
      "text/plain": [
       "           W0     v0         y  propensity_score    weight\n",
       "0   -0.225989  False -1.094190          0.557757  1.792894\n",
       "1    1.029895  False  0.213633          0.258945  3.861820\n",
       "2   -1.701127  False  0.441389          0.850645  1.175579\n",
       "3   -1.121474  False  0.882492          0.759010  1.317506\n",
       "4   -0.514958  False -1.160197          0.628875  1.590141\n",
       "..        ...    ...       ...               ...       ...\n",
       "995  0.350265  False -0.753401          0.411717  2.428852\n",
       "996 -0.980396  False -0.095021          0.731663  1.366750\n",
       "997  0.587032  False -0.097019          0.354607  2.820023\n",
       "998 -1.291168  False -1.162009          0.789296  1.266952\n",
       "999  0.151185  False  1.126948          0.461723  2.165802\n",
       "\n",
       "[1000 rows x 5 columns]"
      ]
     },
     "execution_count": 6,
     "metadata": {},
     "output_type": "execute_result"
    }
   ],
   "source": [
    "cdf_0"
   ]
  },
  {
   "cell_type": "code",
   "execution_count": 7,
   "metadata": {
    "execution": {
     "iopub.execute_input": "2023-02-01T21:48:12.009113Z",
     "iopub.status.busy": "2023-02-01T21:48:12.008143Z",
     "iopub.status.idle": "2023-02-01T21:48:12.019574Z",
     "shell.execute_reply": "2023-02-01T21:48:12.019101Z"
    }
   },
   "outputs": [
    {
     "data": {
      "text/html": [
       "<div>\n",
       "<style scoped>\n",
       "    .dataframe tbody tr th:only-of-type {\n",
       "        vertical-align: middle;\n",
       "    }\n",
       "\n",
       "    .dataframe tbody tr th {\n",
       "        vertical-align: top;\n",
       "    }\n",
       "\n",
       "    .dataframe thead th {\n",
       "        text-align: right;\n",
       "    }\n",
       "</style>\n",
       "<table border=\"1\" class=\"dataframe\">\n",
       "  <thead>\n",
       "    <tr style=\"text-align: right;\">\n",
       "      <th></th>\n",
       "      <th>W0</th>\n",
       "      <th>v0</th>\n",
       "      <th>y</th>\n",
       "      <th>propensity_score</th>\n",
       "      <th>weight</th>\n",
       "    </tr>\n",
       "  </thead>\n",
       "  <tbody>\n",
       "    <tr>\n",
       "      <th>0</th>\n",
       "      <td>-1.148805</td>\n",
       "      <td>True</td>\n",
       "      <td>4.019603</td>\n",
       "      <td>0.235918</td>\n",
       "      <td>4.238760</td>\n",
       "    </tr>\n",
       "    <tr>\n",
       "      <th>1</th>\n",
       "      <td>0.024571</td>\n",
       "      <td>True</td>\n",
       "      <td>3.417077</td>\n",
       "      <td>0.506002</td>\n",
       "      <td>1.976276</td>\n",
       "    </tr>\n",
       "    <tr>\n",
       "      <th>2</th>\n",
       "      <td>-1.238566</td>\n",
       "      <td>True</td>\n",
       "      <td>4.151297</td>\n",
       "      <td>0.219784</td>\n",
       "      <td>4.549923</td>\n",
       "    </tr>\n",
       "    <tr>\n",
       "      <th>3</th>\n",
       "      <td>-1.354740</td>\n",
       "      <td>True</td>\n",
       "      <td>4.243690</td>\n",
       "      <td>0.200102</td>\n",
       "      <td>4.997451</td>\n",
       "    </tr>\n",
       "    <tr>\n",
       "      <th>4</th>\n",
       "      <td>-1.059235</td>\n",
       "      <td>True</td>\n",
       "      <td>3.403043</td>\n",
       "      <td>0.252816</td>\n",
       "      <td>3.955444</td>\n",
       "    </tr>\n",
       "    <tr>\n",
       "      <th>...</th>\n",
       "      <td>...</td>\n",
       "      <td>...</td>\n",
       "      <td>...</td>\n",
       "      <td>...</td>\n",
       "      <td>...</td>\n",
       "    </tr>\n",
       "    <tr>\n",
       "      <th>995</th>\n",
       "      <td>0.448819</td>\n",
       "      <td>True</td>\n",
       "      <td>3.788769</td>\n",
       "      <td>0.612443</td>\n",
       "      <td>1.632805</td>\n",
       "    </tr>\n",
       "    <tr>\n",
       "      <th>996</th>\n",
       "      <td>-2.110718</td>\n",
       "      <td>True</td>\n",
       "      <td>4.682417</td>\n",
       "      <td>0.103561</td>\n",
       "      <td>9.656168</td>\n",
       "    </tr>\n",
       "    <tr>\n",
       "      <th>997</th>\n",
       "      <td>0.373775</td>\n",
       "      <td>True</td>\n",
       "      <td>4.807342</td>\n",
       "      <td>0.594090</td>\n",
       "      <td>1.683247</td>\n",
       "    </tr>\n",
       "    <tr>\n",
       "      <th>998</th>\n",
       "      <td>-1.502645</td>\n",
       "      <td>True</td>\n",
       "      <td>5.453215</td>\n",
       "      <td>0.176998</td>\n",
       "      <td>5.649767</td>\n",
       "    </tr>\n",
       "    <tr>\n",
       "      <th>999</th>\n",
       "      <td>-1.632047</td>\n",
       "      <td>True</td>\n",
       "      <td>4.863576</td>\n",
       "      <td>0.158549</td>\n",
       "      <td>6.307213</td>\n",
       "    </tr>\n",
       "  </tbody>\n",
       "</table>\n",
       "<p>1000 rows × 5 columns</p>\n",
       "</div>"
      ],
      "text/plain": [
       "           W0    v0         y  propensity_score    weight\n",
       "0   -1.148805  True  4.019603          0.235918  4.238760\n",
       "1    0.024571  True  3.417077          0.506002  1.976276\n",
       "2   -1.238566  True  4.151297          0.219784  4.549923\n",
       "3   -1.354740  True  4.243690          0.200102  4.997451\n",
       "4   -1.059235  True  3.403043          0.252816  3.955444\n",
       "..        ...   ...       ...               ...       ...\n",
       "995  0.448819  True  3.788769          0.612443  1.632805\n",
       "996 -2.110718  True  4.682417          0.103561  9.656168\n",
       "997  0.373775  True  4.807342          0.594090  1.683247\n",
       "998 -1.502645  True  5.453215          0.176998  5.649767\n",
       "999 -1.632047  True  4.863576          0.158549  6.307213\n",
       "\n",
       "[1000 rows x 5 columns]"
      ]
     },
     "execution_count": 7,
     "metadata": {},
     "output_type": "execute_result"
    }
   ],
   "source": [
    "cdf_1"
   ]
  },
  {
   "cell_type": "markdown",
   "metadata": {},
   "source": [
    "## Comparing the estimate to Linear Regression\n",
    "First, estimating the effect using the causal data frame, and the 95% confidence interval."
   ]
  },
  {
   "cell_type": "code",
   "execution_count": 8,
   "metadata": {
    "execution": {
     "iopub.execute_input": "2023-02-01T21:48:12.023347Z",
     "iopub.status.busy": "2023-02-01T21:48:12.022349Z",
     "iopub.status.idle": "2023-02-01T21:48:12.081067Z",
     "shell.execute_reply": "2023-02-01T21:48:12.080497Z"
    }
   },
   "outputs": [
    {
     "data": {
      "image/png": "[encoded data removed]",
      "text/latex": [
       "$\\displaystyle 4.86419497753035$"
      ],
      "text/plain": [
       "4.864194977530348"
      ]
     },
     "execution_count": 8,
     "metadata": {},
     "output_type": "execute_result"
    }
   ],
   "source": [
    "(cdf_1['y'] - cdf_0['y']).mean()"
   ]
  },
  {
   "cell_type": "code",
   "execution_count": 9,
   "metadata": {
    "execution": {
     "iopub.execute_input": "2023-02-01T21:48:12.084075Z",
     "iopub.status.busy": "2023-02-01T21:48:12.083556Z",
     "iopub.status.idle": "2023-02-01T21:48:12.105020Z",
     "shell.execute_reply": "2023-02-01T21:48:12.104474Z"
    }
   },
   "outputs": [
    {
     "data": {
      "image/png": "[encoded data removed]",
      "text/latex": [
       "$\\displaystyle 0.0871034499126021$"
      ],
      "text/plain": [
       "0.08710344991260206"
      ]
     },
     "execution_count": 9,
     "metadata": {},
     "output_type": "execute_result"
    }
   ],
   "source": [
    "1.96*(cdf_1['y'] - cdf_0['y']).std() / np.sqrt(len(df))"
   ]
  },
  {
   "cell_type": "markdown",
   "metadata": {},
   "source": [
    "Comparing to the estimate from OLS."
   ]
  },
  {
   "cell_type": "code",
   "execution_count": 10,
   "metadata": {
    "execution": {
     "iopub.execute_input": "2023-02-01T21:48:12.107722Z",
     "iopub.status.busy": "2023-02-01T21:48:12.107235Z",
     "iopub.status.idle": "2023-02-01T21:48:12.122772Z",
     "shell.execute_reply": "2023-02-01T21:48:12.122228Z"
    }
   },
   "outputs": [
    {
     "data": {
      "text/html": [
       "<table class=\"simpletable\">\n",
       "<caption>OLS Regression Results</caption>\n",
       "<tr>\n",
       "  <th>Dep. Variable:</th>            <td>y</td>        <th>  R-squared (uncentered):</th>      <td>   0.896</td>\n",
       "</tr>\n",
       "<tr>\n",
       "  <th>Model:</th>                   <td>OLS</td>       <th>  Adj. R-squared (uncentered):</th> <td>   0.896</td>\n",
       "</tr>\n",
       "<tr>\n",
       "  <th>Method:</th>             <td>Least Squares</td>  <th>  F-statistic:       </th>          <td>   4298.</td>\n",
       "</tr>\n",
       "<tr>\n",
       "  <th>Date:</th>             <td>Wed, 01 Feb 2023</td> <th>  Prob (F-statistic):</th>           <td>  0.00</td> \n",
       "</tr>\n",
       "<tr>\n",
       "  <th>Time:</th>                 <td>21:48:12</td>     <th>  Log-Likelihood:    </th>          <td> -1406.6</td>\n",
       "</tr>\n",
       "<tr>\n",
       "  <th>No. Observations:</th>      <td>  1000</td>      <th>  AIC:               </th>          <td>   2817.</td>\n",
       "</tr>\n",
       "<tr>\n",
       "  <th>Df Residuals:</th>          <td>   998</td>      <th>  BIC:               </th>          <td>   2827.</td>\n",
       "</tr>\n",
       "<tr>\n",
       "  <th>Df Model:</th>              <td>     2</td>      <th>                     </th>              <td> </td>   \n",
       "</tr>\n",
       "<tr>\n",
       "  <th>Covariance Type:</th>      <td>nonrobust</td>    <th>                     </th>              <td> </td>   \n",
       "</tr>\n",
       "</table>\n",
       "<table class=\"simpletable\">\n",
       "<tr>\n",
       "   <td></td>     <th>coef</th>     <th>std err</th>      <th>t</th>      <th>P>|t|</th>  <th>[0.025</th>    <th>0.975]</th>  \n",
       "</tr>\n",
       "<tr>\n",
       "  <th>x1</th> <td>    0.0233</td> <td>    0.025</td> <td>    0.936</td> <td> 0.350</td> <td>   -0.026</td> <td>    0.072</td>\n",
       "</tr>\n",
       "<tr>\n",
       "  <th>x2</th> <td>    4.9038</td> <td>    0.053</td> <td>   92.476</td> <td> 0.000</td> <td>    4.800</td> <td>    5.008</td>\n",
       "</tr>\n",
       "</table>\n",
       "<table class=\"simpletable\">\n",
       "<tr>\n",
       "  <th>Omnibus:</th>       <td> 3.843</td> <th>  Durbin-Watson:     </th> <td>   1.963</td>\n",
       "</tr>\n",
       "<tr>\n",
       "  <th>Prob(Omnibus):</th> <td> 0.146</td> <th>  Jarque-Bera (JB):  </th> <td>   3.783</td>\n",
       "</tr>\n",
       "<tr>\n",
       "  <th>Skew:</th>          <td> 0.150</td> <th>  Prob(JB):          </th> <td>   0.151</td>\n",
       "</tr>\n",
       "<tr>\n",
       "  <th>Kurtosis:</th>      <td> 3.022</td> <th>  Cond. No.          </th> <td>    2.14</td>\n",
       "</tr>\n",
       "</table><br/><br/>Notes:<br/>[1] R² is computed without centering (uncentered) since the model does not contain a constant.<br/>[2] Standard Errors assume that the covariance matrix of the errors is correctly specified."
      ],
      "text/plain": [
       "<class 'statsmodels.iolib.summary.Summary'>\n",
       "\"\"\"\n",
       "                                 OLS Regression Results                                \n",
       "=======================================================================================\n",
       "Dep. Variable:                      y   R-squared (uncentered):                   0.896\n",
       "Model:                            OLS   Adj. R-squared (uncentered):              0.896\n",
       "Method:                 Least Squares   F-statistic:                              4298.\n",
       "Date:                Wed, 01 Feb 2023   Prob (F-statistic):                        0.00\n",
       "Time:                        21:48:12   Log-Likelihood:                         -1406.6\n",
       "No. Observations:                1000   AIC:                                      2817.\n",
       "Df Residuals:                     998   BIC:                                      2827.\n",
       "Df Model:                           2                                                  \n",
       "Covariance Type:            nonrobust                                                  \n",
       "==============================================================================\n",
       "                 coef    std err          t      P>|t|      [0.025      0.975]\n",
       "------------------------------------------------------------------------------\n",
       "x1             0.0233      0.025      0.936      0.350      -0.026       0.072\n",
       "x2             4.9038      0.053     92.476      0.000       4.800       5.008\n",
       "==============================================================================\n",
       "Omnibus:                        3.843   Durbin-Watson:                   1.963\n",
       "Prob(Omnibus):                  0.146   Jarque-Bera (JB):                3.783\n",
       "Skew:                           0.150   Prob(JB):                        0.151\n",
       "Kurtosis:                       3.022   Cond. No.                         2.14\n",
       "==============================================================================\n",
       "\n",
       "Notes:\n",
       "[1] R² is computed without centering (uncentered) since the model does not contain a constant.\n",
       "[2] Standard Errors assume that the covariance matrix of the errors is correctly specified.\n",
       "\"\"\""
      ]
     },
     "execution_count": 10,
     "metadata": {},
     "output_type": "execute_result"
    }
   ],
   "source": [
    "model = OLS(np.asarray(df[outcome]), np.asarray(df[[common_cause, treatment]], dtype=np.float64))\n",
    "result = model.fit()\n",
    "result.summary()"
   ]
  }
 ],
 "metadata": {
  "kernelspec": {
   "display_name": "Python 3",
   "language": "python",
   "name": "python3"
  },
  "language_info": {
   "codemirror_mode": {
    "name": "ipython",
    "version": 3
   },
   "file_extension": ".py",
   "mimetype": "text/x-python",
   "name": "python",
   "nbconvert_exporter": "python",
   "pygments_lexer": "ipython3",
   "version": "3.8.10"
  },
  "toc": {
   "base_numbering": 1,
   "nav_menu": {},
   "number_sections": false,
   "sideBar": true,
   "skip_h1_title": true,
   "title_cell": "Table of Contents",
   "title_sidebar": "Contents",
   "toc_cell": false,
   "toc_position": {},
   "toc_section_display": true,
   "toc_window_display": false
  }
 },
 "nbformat": 4,
 "nbformat_minor": 4
}
