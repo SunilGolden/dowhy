{
 "cells": [
  {
   "cell_type": "markdown",
   "metadata": {},
   "source": [
    "# Demo for the DoWhy causal API\n",
    "We show a simple example of adding a causal extension to any dataframe. "
   ]
  },
  {
   "cell_type": "code",
   "execution_count": 1,
   "metadata": {
    "execution": {
     "iopub.execute_input": "2023-12-22T07:21:59.609134Z",
     "iopub.status.busy": "2023-12-22T07:21:59.608728Z",
     "iopub.status.idle": "2023-12-22T07:22:00.992771Z",
     "shell.execute_reply": "2023-12-22T07:22:00.992093Z"
    }
   },
   "outputs": [],
   "source": [
    "import dowhy.datasets\n",
    "import dowhy.api\n",
    "from dowhy.graph import build_graph_from_str\n",
    "\n",
    "import numpy as np\n",
    "import pandas as pd\n",
    "\n",
    "from statsmodels.api import OLS"
   ]
  },
  {
   "cell_type": "code",
   "execution_count": 2,
   "metadata": {
    "execution": {
     "iopub.execute_input": "2023-12-22T07:22:00.995787Z",
     "iopub.status.busy": "2023-12-22T07:22:00.995291Z",
     "iopub.status.idle": "2023-12-22T07:22:01.031535Z",
     "shell.execute_reply": "2023-12-22T07:22:01.030951Z"
    }
   },
   "outputs": [
    {
     "data": {
      "text/html": [
       "<div>\n",
       "<style scoped>\n",
       "    .dataframe tbody tr th:only-of-type {\n",
       "        vertical-align: middle;\n",
       "    }\n",
       "\n",
       "    .dataframe tbody tr th {\n",
       "        vertical-align: top;\n",
       "    }\n",
       "\n",
       "    .dataframe thead th {\n",
       "        text-align: right;\n",
       "    }\n",
       "</style>\n",
       "<table border=\"1\" class=\"dataframe\">\n",
       "  <thead>\n",
       "    <tr style=\"text-align: right;\">\n",
       "      <th></th>\n",
       "      <th>W0</th>\n",
       "      <th>v0</th>\n",
       "      <th>y</th>\n",
       "    </tr>\n",
       "  </thead>\n",
       "  <tbody>\n",
       "    <tr>\n",
       "      <th>0</th>\n",
       "      <td>1.527240</td>\n",
       "      <td>True</td>\n",
       "      <td>8.285377</td>\n",
       "    </tr>\n",
       "    <tr>\n",
       "      <th>1</th>\n",
       "      <td>-0.110830</td>\n",
       "      <td>True</td>\n",
       "      <td>5.784838</td>\n",
       "    </tr>\n",
       "    <tr>\n",
       "      <th>2</th>\n",
       "      <td>2.377103</td>\n",
       "      <td>True</td>\n",
       "      <td>7.489729</td>\n",
       "    </tr>\n",
       "    <tr>\n",
       "      <th>3</th>\n",
       "      <td>1.116029</td>\n",
       "      <td>False</td>\n",
       "      <td>1.940592</td>\n",
       "    </tr>\n",
       "    <tr>\n",
       "      <th>4</th>\n",
       "      <td>1.636348</td>\n",
       "      <td>True</td>\n",
       "      <td>5.878136</td>\n",
       "    </tr>\n",
       "    <tr>\n",
       "      <th>...</th>\n",
       "      <td>...</td>\n",
       "      <td>...</td>\n",
       "      <td>...</td>\n",
       "    </tr>\n",
       "    <tr>\n",
       "      <th>995</th>\n",
       "      <td>1.469121</td>\n",
       "      <td>True</td>\n",
       "      <td>6.678857</td>\n",
       "    </tr>\n",
       "    <tr>\n",
       "      <th>996</th>\n",
       "      <td>-0.557878</td>\n",
       "      <td>True</td>\n",
       "      <td>3.941627</td>\n",
       "    </tr>\n",
       "    <tr>\n",
       "      <th>997</th>\n",
       "      <td>0.089960</td>\n",
       "      <td>True</td>\n",
       "      <td>5.844339</td>\n",
       "    </tr>\n",
       "    <tr>\n",
       "      <th>998</th>\n",
       "      <td>1.425688</td>\n",
       "      <td>True</td>\n",
       "      <td>6.646875</td>\n",
       "    </tr>\n",
       "    <tr>\n",
       "      <th>999</th>\n",
       "      <td>-0.365789</td>\n",
       "      <td>True</td>\n",
       "      <td>2.877081</td>\n",
       "    </tr>\n",
       "  </tbody>\n",
       "</table>\n",
       "<p>1000 rows × 3 columns</p>\n",
       "</div>"
      ],
      "text/plain": [
       "           W0     v0         y\n",
       "0    1.527240   True  8.285377\n",
       "1   -0.110830   True  5.784838\n",
       "2    2.377103   True  7.489729\n",
       "3    1.116029  False  1.940592\n",
       "4    1.636348   True  5.878136\n",
       "..        ...    ...       ...\n",
       "995  1.469121   True  6.678857\n",
       "996 -0.557878   True  3.941627\n",
       "997  0.089960   True  5.844339\n",
       "998  1.425688   True  6.646875\n",
       "999 -0.365789   True  2.877081\n",
       "\n",
       "[1000 rows x 3 columns]"
      ]
     },
     "execution_count": 2,
     "metadata": {},
     "output_type": "execute_result"
    }
   ],
   "source": [
    "data = dowhy.datasets.linear_dataset(beta=5,\n",
    "        num_common_causes=1,\n",
    "        num_instruments = 0,\n",
    "        num_samples=1000,\n",
    "        treatment_is_binary=True)\n",
    "df = data['df']\n",
    "df['y'] = df['y'] + np.random.normal(size=len(df)) # Adding noise to data. Without noise, the variance in Y|X, Z is zero, and mcmc fails.\n",
    "nx_graph = build_graph_from_str(data[\"dot_graph\"])\n",
    "\n",
    "treatment= data[\"treatment_name\"][0]\n",
    "outcome = data[\"outcome_name\"][0]\n",
    "common_cause = data[\"common_causes_names\"][0]\n",
    "df"
   ]
  },
  {
   "cell_type": "code",
   "execution_count": 3,
   "metadata": {
    "execution": {
     "iopub.execute_input": "2023-12-22T07:22:01.033791Z",
     "iopub.status.busy": "2023-12-22T07:22:01.033600Z",
     "iopub.status.idle": "2023-12-22T07:22:01.213679Z",
     "shell.execute_reply": "2023-12-22T07:22:01.213064Z"
    },
    "scrolled": true
   },
   "outputs": [
    {
     "data": {
      "text/plain": [
       "<Axes: xlabel='v0'>"
      ]
     },
     "execution_count": 3,
     "metadata": {},
     "output_type": "execute_result"
    },
    {
     "data": {
      "image/png": "[encoded data removed]",
      "text/plain": [
       "<Figure size 640x480 with 1 Axes>"
      ]
     },
     "metadata": {},
     "output_type": "display_data"
    }
   ],
   "source": [
    "# data['df'] is just a regular pandas.DataFrame\n",
    "df.causal.do(x=treatment,\n",
    "             variable_types={treatment: 'b', outcome: 'c', common_cause: 'c'},\n",
    "             outcome=outcome,\n",
    "             common_causes=[common_cause],\n",
    "            ).groupby(treatment).mean().plot(y=outcome, kind='bar')"
   ]
  },
  {
   "cell_type": "code",
   "execution_count": 4,
   "metadata": {
    "execution": {
     "iopub.execute_input": "2023-12-22T07:22:01.215949Z",
     "iopub.status.busy": "2023-12-22T07:22:01.215749Z",
     "iopub.status.idle": "2023-12-22T07:22:01.347154Z",
     "shell.execute_reply": "2023-12-22T07:22:01.346511Z"
    }
   },
   "outputs": [
    {
     "data": {
      "text/plain": [
       "<Axes: xlabel='v0'>"
      ]
     },
     "execution_count": 4,
     "metadata": {},
     "output_type": "execute_result"
    },
    {
     "data": {
      "image/png": "[encoded data removed]",
      "text/plain": [
       "<Figure size 640x480 with 1 Axes>"
      ]
     },
     "metadata": {},
     "output_type": "display_data"
    }
   ],
   "source": [
    "df.causal.do(x={treatment: 1}, \n",
    "              variable_types={treatment:'b', outcome: 'c', common_cause: 'c'}, \n",
    "              outcome=outcome,\n",
    "              method='weighting', \n",
    "              common_causes=[common_cause]\n",
    "              ).groupby(treatment).mean().plot(y=outcome, kind='bar')"
   ]
  },
  {
   "cell_type": "code",
   "execution_count": 5,
   "metadata": {
    "execution": {
     "iopub.execute_input": "2023-12-22T07:22:01.349969Z",
     "iopub.status.busy": "2023-12-22T07:22:01.349764Z",
     "iopub.status.idle": "2023-12-22T07:22:01.369000Z",
     "shell.execute_reply": "2023-12-22T07:22:01.368508Z"
    }
   },
   "outputs": [],
   "source": [
    "cdf_1 = df.causal.do(x={treatment: 1}, \n",
    "              variable_types={treatment: 'b', outcome: 'c', common_cause: 'c'}, \n",
    "              outcome=outcome, \n",
    "              graph=nx_graph\n",
    "              )\n",
    "\n",
    "cdf_0 = df.causal.do(x={treatment: 0}, \n",
    "              variable_types={treatment: 'b', outcome: 'c', common_cause: 'c'}, \n",
    "              outcome=outcome, \n",
    "              graph=nx_graph\n",
    "              )\n"
   ]
  },
  {
   "cell_type": "code",
   "execution_count": 6,
   "metadata": {
    "execution": {
     "iopub.execute_input": "2023-12-22T07:22:01.371180Z",
     "iopub.status.busy": "2023-12-22T07:22:01.370860Z",
     "iopub.status.idle": "2023-12-22T07:22:01.379508Z",
     "shell.execute_reply": "2023-12-22T07:22:01.378920Z"
    },
    "scrolled": true
   },
   "outputs": [
    {
     "data": {
      "text/html": [
       "<div>\n",
       "<style scoped>\n",
       "    .dataframe tbody tr th:only-of-type {\n",
       "        vertical-align: middle;\n",
       "    }\n",
       "\n",
       "    .dataframe tbody tr th {\n",
       "        vertical-align: top;\n",
       "    }\n",
       "\n",
       "    .dataframe thead th {\n",
       "        text-align: right;\n",
       "    }\n",
       "</style>\n",
       "<table border=\"1\" class=\"dataframe\">\n",
       "  <thead>\n",
       "    <tr style=\"text-align: right;\">\n",
       "      <th></th>\n",
       "      <th>W0</th>\n",
       "      <th>v0</th>\n",
       "      <th>y</th>\n",
       "      <th>propensity_score</th>\n",
       "      <th>weight</th>\n",
       "    </tr>\n",
       "  </thead>\n",
       "  <tbody>\n",
       "    <tr>\n",
       "      <th>0</th>\n",
       "      <td>-2.086289</td>\n",
       "      <td>False</td>\n",
       "      <td>-3.152746</td>\n",
       "      <td>0.989874</td>\n",
       "      <td>1.010229</td>\n",
       "    </tr>\n",
       "    <tr>\n",
       "      <th>1</th>\n",
       "      <td>0.762198</td>\n",
       "      <td>False</td>\n",
       "      <td>0.527814</td>\n",
       "      <td>0.146937</td>\n",
       "      <td>6.805631</td>\n",
       "    </tr>\n",
       "    <tr>\n",
       "      <th>2</th>\n",
       "      <td>1.410007</td>\n",
       "      <td>False</td>\n",
       "      <td>0.427368</td>\n",
       "      <td>0.039128</td>\n",
       "      <td>25.556846</td>\n",
       "    </tr>\n",
       "    <tr>\n",
       "      <th>3</th>\n",
       "      <td>0.059291</td>\n",
       "      <td>False</td>\n",
       "      <td>-0.295065</td>\n",
       "      <td>0.451650</td>\n",
       "      <td>2.214104</td>\n",
       "    </tr>\n",
       "    <tr>\n",
       "      <th>4</th>\n",
       "      <td>-1.477469</td>\n",
       "      <td>False</td>\n",
       "      <td>-2.444125</td>\n",
       "      <td>0.961843</td>\n",
       "      <td>1.039670</td>\n",
       "    </tr>\n",
       "    <tr>\n",
       "      <th>...</th>\n",
       "      <td>...</td>\n",
       "      <td>...</td>\n",
       "      <td>...</td>\n",
       "      <td>...</td>\n",
       "      <td>...</td>\n",
       "    </tr>\n",
       "    <tr>\n",
       "      <th>995</th>\n",
       "      <td>-0.554092</td>\n",
       "      <td>False</td>\n",
       "      <td>-0.861449</td>\n",
       "      <td>0.763419</td>\n",
       "      <td>1.309896</td>\n",
       "    </tr>\n",
       "    <tr>\n",
       "      <th>996</th>\n",
       "      <td>1.410007</td>\n",
       "      <td>False</td>\n",
       "      <td>0.427368</td>\n",
       "      <td>0.039128</td>\n",
       "      <td>25.556846</td>\n",
       "    </tr>\n",
       "    <tr>\n",
       "      <th>997</th>\n",
       "      <td>0.858859</td>\n",
       "      <td>False</td>\n",
       "      <td>0.823184</td>\n",
       "      <td>0.121958</td>\n",
       "      <td>8.199537</td>\n",
       "    </tr>\n",
       "    <tr>\n",
       "      <th>998</th>\n",
       "      <td>-1.390263</td>\n",
       "      <td>False</td>\n",
       "      <td>-1.655598</td>\n",
       "      <td>0.954043</td>\n",
       "      <td>1.048170</td>\n",
       "    </tr>\n",
       "    <tr>\n",
       "      <th>999</th>\n",
       "      <td>1.126352</td>\n",
       "      <td>False</td>\n",
       "      <td>0.795499</td>\n",
       "      <td>0.071126</td>\n",
       "      <td>14.059461</td>\n",
       "    </tr>\n",
       "  </tbody>\n",
       "</table>\n",
       "<p>1000 rows × 5 columns</p>\n",
       "</div>"
      ],
      "text/plain": [
       "           W0     v0         y  propensity_score     weight\n",
       "0   -2.086289  False -3.152746          0.989874   1.010229\n",
       "1    0.762198  False  0.527814          0.146937   6.805631\n",
       "2    1.410007  False  0.427368          0.039128  25.556846\n",
       "3    0.059291  False -0.295065          0.451650   2.214104\n",
       "4   -1.477469  False -2.444125          0.961843   1.039670\n",
       "..        ...    ...       ...               ...        ...\n",
       "995 -0.554092  False -0.861449          0.763419   1.309896\n",
       "996  1.410007  False  0.427368          0.039128  25.556846\n",
       "997  0.858859  False  0.823184          0.121958   8.199537\n",
       "998 -1.390263  False -1.655598          0.954043   1.048170\n",
       "999  1.126352  False  0.795499          0.071126  14.059461\n",
       "\n",
       "[1000 rows x 5 columns]"
      ]
     },
     "execution_count": 6,
     "metadata": {},
     "output_type": "execute_result"
    }
   ],
   "source": [
    "cdf_0"
   ]
  },
  {
   "cell_type": "code",
   "execution_count": 7,
   "metadata": {
    "execution": {
     "iopub.execute_input": "2023-12-22T07:22:01.381775Z",
     "iopub.status.busy": "2023-12-22T07:22:01.381420Z",
     "iopub.status.idle": "2023-12-22T07:22:01.389741Z",
     "shell.execute_reply": "2023-12-22T07:22:01.389236Z"
    }
   },
   "outputs": [
    {
     "data": {
      "text/html": [
       "<div>\n",
       "<style scoped>\n",
       "    .dataframe tbody tr th:only-of-type {\n",
       "        vertical-align: middle;\n",
       "    }\n",
       "\n",
       "    .dataframe tbody tr th {\n",
       "        vertical-align: top;\n",
       "    }\n",
       "\n",
       "    .dataframe thead th {\n",
       "        text-align: right;\n",
       "    }\n",
       "</style>\n",
       "<table border=\"1\" class=\"dataframe\">\n",
       "  <thead>\n",
       "    <tr style=\"text-align: right;\">\n",
       "      <th></th>\n",
       "      <th>W0</th>\n",
       "      <th>v0</th>\n",
       "      <th>y</th>\n",
       "      <th>propensity_score</th>\n",
       "      <th>weight</th>\n",
       "    </tr>\n",
       "  </thead>\n",
       "  <tbody>\n",
       "    <tr>\n",
       "      <th>0</th>\n",
       "      <td>-0.058531</td>\n",
       "      <td>True</td>\n",
       "      <td>4.412841</td>\n",
       "      <td>0.482934</td>\n",
       "      <td>2.070676</td>\n",
       "    </tr>\n",
       "    <tr>\n",
       "      <th>1</th>\n",
       "      <td>0.908917</td>\n",
       "      <td>True</td>\n",
       "      <td>5.978605</td>\n",
       "      <td>0.889482</td>\n",
       "      <td>1.124250</td>\n",
       "    </tr>\n",
       "    <tr>\n",
       "      <th>2</th>\n",
       "      <td>-1.036069</td>\n",
       "      <td>True</td>\n",
       "      <td>2.622728</td>\n",
       "      <td>0.095825</td>\n",
       "      <td>10.435711</td>\n",
       "    </tr>\n",
       "    <tr>\n",
       "      <th>3</th>\n",
       "      <td>-0.142358</td>\n",
       "      <td>True</td>\n",
       "      <td>5.611390</td>\n",
       "      <td>0.436616</td>\n",
       "      <td>2.290343</td>\n",
       "    </tr>\n",
       "    <tr>\n",
       "      <th>4</th>\n",
       "      <td>-0.218788</td>\n",
       "      <td>True</td>\n",
       "      <td>4.407816</td>\n",
       "      <td>0.395307</td>\n",
       "      <td>2.529678</td>\n",
       "    </tr>\n",
       "    <tr>\n",
       "      <th>...</th>\n",
       "      <td>...</td>\n",
       "      <td>...</td>\n",
       "      <td>...</td>\n",
       "      <td>...</td>\n",
       "      <td>...</td>\n",
       "    </tr>\n",
       "    <tr>\n",
       "      <th>995</th>\n",
       "      <td>-0.949776</td>\n",
       "      <td>True</td>\n",
       "      <td>3.933958</td>\n",
       "      <td>0.113811</td>\n",
       "      <td>8.786516</td>\n",
       "    </tr>\n",
       "    <tr>\n",
       "      <th>996</th>\n",
       "      <td>1.554542</td>\n",
       "      <td>True</td>\n",
       "      <td>8.360527</td>\n",
       "      <td>0.971328</td>\n",
       "      <td>1.029518</td>\n",
       "    </tr>\n",
       "    <tr>\n",
       "      <th>997</th>\n",
       "      <td>-1.036069</td>\n",
       "      <td>True</td>\n",
       "      <td>2.622728</td>\n",
       "      <td>0.095825</td>\n",
       "      <td>10.435711</td>\n",
       "    </tr>\n",
       "    <tr>\n",
       "      <th>998</th>\n",
       "      <td>0.841040</td>\n",
       "      <td>True</td>\n",
       "      <td>4.865360</td>\n",
       "      <td>0.873730</td>\n",
       "      <td>1.144518</td>\n",
       "    </tr>\n",
       "    <tr>\n",
       "      <th>999</th>\n",
       "      <td>0.849904</td>\n",
       "      <td>True</td>\n",
       "      <td>6.565395</td>\n",
       "      <td>0.875891</td>\n",
       "      <td>1.141695</td>\n",
       "    </tr>\n",
       "  </tbody>\n",
       "</table>\n",
       "<p>1000 rows × 5 columns</p>\n",
       "</div>"
      ],
      "text/plain": [
       "           W0    v0         y  propensity_score     weight\n",
       "0   -0.058531  True  4.412841          0.482934   2.070676\n",
       "1    0.908917  True  5.978605          0.889482   1.124250\n",
       "2   -1.036069  True  2.622728          0.095825  10.435711\n",
       "3   -0.142358  True  5.611390          0.436616   2.290343\n",
       "4   -0.218788  True  4.407816          0.395307   2.529678\n",
       "..        ...   ...       ...               ...        ...\n",
       "995 -0.949776  True  3.933958          0.113811   8.786516\n",
       "996  1.554542  True  8.360527          0.971328   1.029518\n",
       "997 -1.036069  True  2.622728          0.095825  10.435711\n",
       "998  0.841040  True  4.865360          0.873730   1.144518\n",
       "999  0.849904  True  6.565395          0.875891   1.141695\n",
       "\n",
       "[1000 rows x 5 columns]"
      ]
     },
     "execution_count": 7,
     "metadata": {},
     "output_type": "execute_result"
    }
   ],
   "source": [
    "cdf_1"
   ]
  },
  {
   "cell_type": "markdown",
   "metadata": {},
   "source": [
    "## Comparing the estimate to Linear Regression\n",
    "First, estimating the effect using the causal data frame, and the 95% confidence interval."
   ]
  },
  {
   "cell_type": "code",
   "execution_count": 8,
   "metadata": {
    "execution": {
     "iopub.execute_input": "2023-12-22T07:22:01.391975Z",
     "iopub.status.busy": "2023-12-22T07:22:01.391621Z",
     "iopub.status.idle": "2023-12-22T07:22:01.436622Z",
     "shell.execute_reply": "2023-12-22T07:22:01.436131Z"
    }
   },
   "outputs": [
    {
     "data": {
      "image/png": "[encoded data removed]",
      "text/latex": [
       "$\\displaystyle 5.34998383679774$"
      ],
      "text/plain": [
       "5.349983836797745"
      ]
     },
     "execution_count": 8,
     "metadata": {},
     "output_type": "execute_result"
    }
   ],
   "source": [
    "(cdf_1['y'] - cdf_0['y']).mean()"
   ]
  },
  {
   "cell_type": "code",
   "execution_count": 9,
   "metadata": {
    "execution": {
     "iopub.execute_input": "2023-12-22T07:22:01.438646Z",
     "iopub.status.busy": "2023-12-22T07:22:01.438449Z",
     "iopub.status.idle": "2023-12-22T07:22:01.453389Z",
     "shell.execute_reply": "2023-12-22T07:22:01.452827Z"
    }
   },
   "outputs": [
    {
     "data": {
      "image/png": "[encoded data removed]",
      "text/latex": [
       "$\\displaystyle 0.143185183444156$"
      ],
      "text/plain": [
       "0.14318518344415557"
      ]
     },
     "execution_count": 9,
     "metadata": {},
     "output_type": "execute_result"
    }
   ],
   "source": [
    "1.96*(cdf_1['y'] - cdf_0['y']).std() / np.sqrt(len(df))"
   ]
  },
  {
   "cell_type": "markdown",
   "metadata": {},
   "source": [
    "Comparing to the estimate from OLS."
   ]
  },
  {
   "cell_type": "code",
   "execution_count": 10,
   "metadata": {
    "execution": {
     "iopub.execute_input": "2023-12-22T07:22:01.455745Z",
     "iopub.status.busy": "2023-12-22T07:22:01.455405Z",
     "iopub.status.idle": "2023-12-22T07:22:01.471355Z",
     "shell.execute_reply": "2023-12-22T07:22:01.470756Z"
    }
   },
   "outputs": [
    {
     "data": {
      "text/html": [
       "<table class=\"simpletable\">\n",
       "<caption>OLS Regression Results</caption>\n",
       "<tr>\n",
       "  <th>Dep. Variable:</th>            <td>y</td>        <th>  R-squared (uncentered):</th>      <td>   0.951</td>\n",
       "</tr>\n",
       "<tr>\n",
       "  <th>Model:</th>                   <td>OLS</td>       <th>  Adj. R-squared (uncentered):</th> <td>   0.951</td>\n",
       "</tr>\n",
       "<tr>\n",
       "  <th>Method:</th>             <td>Least Squares</td>  <th>  F-statistic:       </th>          <td>   9619.</td>\n",
       "</tr>\n",
       "<tr>\n",
       "  <th>Date:</th>             <td>Fri, 22 Dec 2023</td> <th>  Prob (F-statistic):</th>           <td>  0.00</td> \n",
       "</tr>\n",
       "<tr>\n",
       "  <th>Time:</th>                 <td>07:22:01</td>     <th>  Log-Likelihood:    </th>          <td> -1426.2</td>\n",
       "</tr>\n",
       "<tr>\n",
       "  <th>No. Observations:</th>      <td>  1000</td>      <th>  AIC:               </th>          <td>   2856.</td>\n",
       "</tr>\n",
       "<tr>\n",
       "  <th>Df Residuals:</th>          <td>   998</td>      <th>  BIC:               </th>          <td>   2866.</td>\n",
       "</tr>\n",
       "<tr>\n",
       "  <th>Df Model:</th>              <td>     2</td>      <th>                     </th>              <td> </td>   \n",
       "</tr>\n",
       "<tr>\n",
       "  <th>Covariance Type:</th>      <td>nonrobust</td>    <th>                     </th>              <td> </td>   \n",
       "</tr>\n",
       "</table>\n",
       "<table class=\"simpletable\">\n",
       "<tr>\n",
       "   <td></td>     <th>coef</th>     <th>std err</th>      <th>t</th>      <th>P>|t|</th>  <th>[0.025</th>    <th>0.975]</th>  \n",
       "</tr>\n",
       "<tr>\n",
       "  <th>x1</th> <td>    1.3226</td> <td>    0.036</td> <td>   37.055</td> <td> 0.000</td> <td>    1.253</td> <td>    1.393</td>\n",
       "</tr>\n",
       "<tr>\n",
       "  <th>x2</th> <td>    4.9950</td> <td>    0.050</td> <td>   99.931</td> <td> 0.000</td> <td>    4.897</td> <td>    5.093</td>\n",
       "</tr>\n",
       "</table>\n",
       "<table class=\"simpletable\">\n",
       "<tr>\n",
       "  <th>Omnibus:</th>       <td> 1.894</td> <th>  Durbin-Watson:     </th> <td>   2.039</td>\n",
       "</tr>\n",
       "<tr>\n",
       "  <th>Prob(Omnibus):</th> <td> 0.388</td> <th>  Jarque-Bera (JB):  </th> <td>   1.784</td>\n",
       "</tr>\n",
       "<tr>\n",
       "  <th>Skew:</th>          <td>-0.099</td> <th>  Prob(JB):          </th> <td>   0.410</td>\n",
       "</tr>\n",
       "<tr>\n",
       "  <th>Kurtosis:</th>      <td> 3.060</td> <th>  Cond. No.          </th> <td>    1.87</td>\n",
       "</tr>\n",
       "</table><br/><br/>Notes:<br/>[1] R² is computed without centering (uncentered) since the model does not contain a constant.<br/>[2] Standard Errors assume that the covariance matrix of the errors is correctly specified."
      ],
      "text/latex": [
       "\\begin{center}\n",
       "\\begin{tabular}{lclc}\n",
       "\\toprule\n",
       "\\textbf{Dep. Variable:}    &        y         & \\textbf{  R-squared (uncentered):}      &     0.951   \\\\\n",
       "\\textbf{Model:}            &       OLS        & \\textbf{  Adj. R-squared (uncentered):} &     0.951   \\\\\n",
       "\\textbf{Method:}           &  Least Squares   & \\textbf{  F-statistic:       }          &     9619.   \\\\\n",
       "\\textbf{Date:}             & Fri, 22 Dec 2023 & \\textbf{  Prob (F-statistic):}          &     0.00    \\\\\n",
       "\\textbf{Time:}             &     07:22:01     & \\textbf{  Log-Likelihood:    }          &   -1426.2   \\\\\n",
       "\\textbf{No. Observations:} &        1000      & \\textbf{  AIC:               }          &     2856.   \\\\\n",
       "\\textbf{Df Residuals:}     &         998      & \\textbf{  BIC:               }          &     2866.   \\\\\n",
       "\\textbf{Df Model:}         &           2      & \\textbf{                     }          &             \\\\\n",
       "\\textbf{Covariance Type:}  &    nonrobust     & \\textbf{                     }          &             \\\\\n",
       "\\bottomrule\n",
       "\\end{tabular}\n",
       "\\begin{tabular}{lcccccc}\n",
       "            & \\textbf{coef} & \\textbf{std err} & \\textbf{t} & \\textbf{P$> |$t$|$} & \\textbf{[0.025} & \\textbf{0.975]}  \\\\\n",
       "\\midrule\n",
       "\\textbf{x1} &       1.3226  &        0.036     &    37.055  &         0.000        &        1.253    &        1.393     \\\\\n",
       "\\textbf{x2} &       4.9950  &        0.050     &    99.931  &         0.000        &        4.897    &        5.093     \\\\\n",
       "\\bottomrule\n",
       "\\end{tabular}\n",
       "\\begin{tabular}{lclc}\n",
       "\\textbf{Omnibus:}       &  1.894 & \\textbf{  Durbin-Watson:     } &    2.039  \\\\\n",
       "\\textbf{Prob(Omnibus):} &  0.388 & \\textbf{  Jarque-Bera (JB):  } &    1.784  \\\\\n",
       "\\textbf{Skew:}          & -0.099 & \\textbf{  Prob(JB):          } &    0.410  \\\\\n",
       "\\textbf{Kurtosis:}      &  3.060 & \\textbf{  Cond. No.          } &     1.87  \\\\\n",
       "\\bottomrule\n",
       "\\end{tabular}\n",
       "%\\caption{OLS Regression Results}\n",
       "\\end{center}\n",
       "\n",
       "Notes: \\newline\n",
       " [1] R² is computed without centering (uncentered) since the model does not contain a constant. \\newline\n",
       " [2] Standard Errors assume that the covariance matrix of the errors is correctly specified."
      ],
      "text/plain": [
       "<class 'statsmodels.iolib.summary.Summary'>\n",
       "\"\"\"\n",
       "                                 OLS Regression Results                                \n",
       "=======================================================================================\n",
       "Dep. Variable:                      y   R-squared (uncentered):                   0.951\n",
       "Model:                            OLS   Adj. R-squared (uncentered):              0.951\n",
       "Method:                 Least Squares   F-statistic:                              9619.\n",
       "Date:                Fri, 22 Dec 2023   Prob (F-statistic):                        0.00\n",
       "Time:                        07:22:01   Log-Likelihood:                         -1426.2\n",
       "No. Observations:                1000   AIC:                                      2856.\n",
       "Df Residuals:                     998   BIC:                                      2866.\n",
       "Df Model:                           2                                                  \n",
       "Covariance Type:            nonrobust                                                  \n",
       "==============================================================================\n",
       "                 coef    std err          t      P>|t|      [0.025      0.975]\n",
       "------------------------------------------------------------------------------\n",
       "x1             1.3226      0.036     37.055      0.000       1.253       1.393\n",
       "x2             4.9950      0.050     99.931      0.000       4.897       5.093\n",
       "==============================================================================\n",
       "Omnibus:                        1.894   Durbin-Watson:                   2.039\n",
       "Prob(Omnibus):                  0.388   Jarque-Bera (JB):                1.784\n",
       "Skew:                          -0.099   Prob(JB):                        0.410\n",
       "Kurtosis:                       3.060   Cond. No.                         1.87\n",
       "==============================================================================\n",
       "\n",
       "Notes:\n",
       "[1] R² is computed without centering (uncentered) since the model does not contain a constant.\n",
       "[2] Standard Errors assume that the covariance matrix of the errors is correctly specified.\n",
       "\"\"\""
      ]
     },
     "execution_count": 10,
     "metadata": {},
     "output_type": "execute_result"
    }
   ],
   "source": [
    "model = OLS(np.asarray(df[outcome]), np.asarray(df[[common_cause, treatment]], dtype=np.float64))\n",
    "result = model.fit()\n",
    "result.summary()"
   ]
  }
 ],
 "metadata": {
  "kernelspec": {
   "display_name": "Python 3 (ipykernel)",
   "language": "python",
   "name": "python3"
  },
  "language_info": {
   "codemirror_mode": {
    "name": "ipython",
    "version": 3
   },
   "file_extension": ".py",
   "mimetype": "text/x-python",
   "name": "python",
   "nbconvert_exporter": "python",
   "pygments_lexer": "ipython3",
   "version": "3.8.10"
  },
  "toc": {
   "base_numbering": 1,
   "nav_menu": {},
   "number_sections": false,
   "sideBar": true,
   "skip_h1_title": true,
   "title_cell": "Table of Contents",
   "title_sidebar": "Contents",
   "toc_cell": false,
   "toc_position": {},
   "toc_section_display": true,
   "toc_window_display": false
  }
 },
 "nbformat": 4,
 "nbformat_minor": 4
}
