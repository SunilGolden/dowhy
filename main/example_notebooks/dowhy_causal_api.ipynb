{
 "cells": [
  {
   "cell_type": "markdown",
   "metadata": {},
   "source": [
    "# Demo for the DoWhy causal API\n",
    "We show a simple example of adding a causal extension to any dataframe. "
   ]
  },
  {
   "cell_type": "code",
   "execution_count": 1,
   "metadata": {
    "execution": {
     "iopub.execute_input": "2023-07-21T14:19:12.197001Z",
     "iopub.status.busy": "2023-07-21T14:19:12.196768Z",
     "iopub.status.idle": "2023-07-21T14:19:13.961987Z",
     "shell.execute_reply": "2023-07-21T14:19:13.961032Z"
    }
   },
   "outputs": [],
   "source": [
    "import dowhy.datasets\n",
    "import dowhy.api\n",
    "\n",
    "import numpy as np\n",
    "import pandas as pd\n",
    "\n",
    "from statsmodels.api import OLS"
   ]
  },
  {
   "cell_type": "code",
   "execution_count": 2,
   "metadata": {
    "execution": {
     "iopub.execute_input": "2023-07-21T14:19:13.966315Z",
     "iopub.status.busy": "2023-07-21T14:19:13.965903Z",
     "iopub.status.idle": "2023-07-21T14:19:14.014894Z",
     "shell.execute_reply": "2023-07-21T14:19:14.014224Z"
    }
   },
   "outputs": [
    {
     "data": {
      "text/html": [
       "<div>\n",
       "<style scoped>\n",
       "    .dataframe tbody tr th:only-of-type {\n",
       "        vertical-align: middle;\n",
       "    }\n",
       "\n",
       "    .dataframe tbody tr th {\n",
       "        vertical-align: top;\n",
       "    }\n",
       "\n",
       "    .dataframe thead th {\n",
       "        text-align: right;\n",
       "    }\n",
       "</style>\n",
       "<table border=\"1\" class=\"dataframe\">\n",
       "  <thead>\n",
       "    <tr style=\"text-align: right;\">\n",
       "      <th></th>\n",
       "      <th>W0</th>\n",
       "      <th>v0</th>\n",
       "      <th>y</th>\n",
       "    </tr>\n",
       "  </thead>\n",
       "  <tbody>\n",
       "    <tr>\n",
       "      <th>0</th>\n",
       "      <td>0.115420</td>\n",
       "      <td>False</td>\n",
       "      <td>1.875527</td>\n",
       "    </tr>\n",
       "    <tr>\n",
       "      <th>1</th>\n",
       "      <td>-2.528765</td>\n",
       "      <td>False</td>\n",
       "      <td>-4.130106</td>\n",
       "    </tr>\n",
       "    <tr>\n",
       "      <th>2</th>\n",
       "      <td>1.151224</td>\n",
       "      <td>True</td>\n",
       "      <td>8.467581</td>\n",
       "    </tr>\n",
       "    <tr>\n",
       "      <th>3</th>\n",
       "      <td>-0.495840</td>\n",
       "      <td>False</td>\n",
       "      <td>-0.598746</td>\n",
       "    </tr>\n",
       "    <tr>\n",
       "      <th>4</th>\n",
       "      <td>0.159693</td>\n",
       "      <td>False</td>\n",
       "      <td>-0.699313</td>\n",
       "    </tr>\n",
       "    <tr>\n",
       "      <th>...</th>\n",
       "      <td>...</td>\n",
       "      <td>...</td>\n",
       "      <td>...</td>\n",
       "    </tr>\n",
       "    <tr>\n",
       "      <th>995</th>\n",
       "      <td>1.468222</td>\n",
       "      <td>True</td>\n",
       "      <td>8.460250</td>\n",
       "    </tr>\n",
       "    <tr>\n",
       "      <th>996</th>\n",
       "      <td>1.045305</td>\n",
       "      <td>True</td>\n",
       "      <td>5.128491</td>\n",
       "    </tr>\n",
       "    <tr>\n",
       "      <th>997</th>\n",
       "      <td>-0.519200</td>\n",
       "      <td>False</td>\n",
       "      <td>-1.552764</td>\n",
       "    </tr>\n",
       "    <tr>\n",
       "      <th>998</th>\n",
       "      <td>-0.205118</td>\n",
       "      <td>False</td>\n",
       "      <td>-2.097409</td>\n",
       "    </tr>\n",
       "    <tr>\n",
       "      <th>999</th>\n",
       "      <td>0.105814</td>\n",
       "      <td>True</td>\n",
       "      <td>3.407295</td>\n",
       "    </tr>\n",
       "  </tbody>\n",
       "</table>\n",
       "<p>1000 rows × 3 columns</p>\n",
       "</div>"
      ],
      "text/plain": [
       "           W0     v0         y\n",
       "0    0.115420  False  1.875527\n",
       "1   -2.528765  False -4.130106\n",
       "2    1.151224   True  8.467581\n",
       "3   -0.495840  False -0.598746\n",
       "4    0.159693  False -0.699313\n",
       "..        ...    ...       ...\n",
       "995  1.468222   True  8.460250\n",
       "996  1.045305   True  5.128491\n",
       "997 -0.519200  False -1.552764\n",
       "998 -0.205118  False -2.097409\n",
       "999  0.105814   True  3.407295\n",
       "\n",
       "[1000 rows x 3 columns]"
      ]
     },
     "execution_count": 2,
     "metadata": {},
     "output_type": "execute_result"
    }
   ],
   "source": [
    "data = dowhy.datasets.linear_dataset(beta=5,\n",
    "        num_common_causes=1,\n",
    "        num_instruments = 0,\n",
    "        num_samples=1000,\n",
    "        treatment_is_binary=True)\n",
    "df = data['df']\n",
    "df['y'] = df['y'] + np.random.normal(size=len(df)) # Adding noise to data. Without noise, the variance in Y|X, Z is zero, and mcmc fails.\n",
    "#data['dot_graph'] = 'digraph { v ->y;X0-> v;X0-> y;}'\n",
    "\n",
    "treatment= data[\"treatment_name\"][0]\n",
    "outcome = data[\"outcome_name\"][0]\n",
    "common_cause = data[\"common_causes_names\"][0]\n",
    "df"
   ]
  },
  {
   "cell_type": "code",
   "execution_count": 3,
   "metadata": {
    "execution": {
     "iopub.execute_input": "2023-07-21T14:19:14.018254Z",
     "iopub.status.busy": "2023-07-21T14:19:14.017850Z",
     "iopub.status.idle": "2023-07-21T14:19:14.243926Z",
     "shell.execute_reply": "2023-07-21T14:19:14.243258Z"
    }
   },
   "outputs": [
    {
     "data": {
      "text/plain": [
       "<Axes: xlabel='v0'>"
      ]
     },
     "execution_count": 3,
     "metadata": {},
     "output_type": "execute_result"
    },
    {
     "data": {
      "image/png": "[encoded data removed]",
      "text/plain": [
       "<Figure size 640x480 with 1 Axes>"
      ]
     },
     "metadata": {},
     "output_type": "display_data"
    }
   ],
   "source": [
    "# data['df'] is just a regular pandas.DataFrame\n",
    "df.causal.do(x=treatment,\n",
    "                     variable_types={treatment: 'b', outcome: 'c', common_cause: 'c'},\n",
    "                     outcome=outcome,\n",
    "                     common_causes=[common_cause],\n",
    "                     proceed_when_unidentifiable=True).groupby(treatment).mean().plot(y=outcome, kind='bar')"
   ]
  },
  {
   "cell_type": "code",
   "execution_count": 4,
   "metadata": {
    "execution": {
     "iopub.execute_input": "2023-07-21T14:19:14.247180Z",
     "iopub.status.busy": "2023-07-21T14:19:14.246760Z",
     "iopub.status.idle": "2023-07-21T14:19:14.385188Z",
     "shell.execute_reply": "2023-07-21T14:19:14.384447Z"
    }
   },
   "outputs": [
    {
     "data": {
      "text/plain": [
       "<Axes: xlabel='v0'>"
      ]
     },
     "execution_count": 4,
     "metadata": {},
     "output_type": "execute_result"
    },
    {
     "data": {
      "image/png": "[encoded data removed]",
      "text/plain": [
       "<Figure size 640x480 with 1 Axes>"
      ]
     },
     "metadata": {},
     "output_type": "display_data"
    }
   ],
   "source": [
    "df.causal.do(x={treatment: 1}, \n",
    "              variable_types={treatment:'b', outcome: 'c', common_cause: 'c'}, \n",
    "              outcome=outcome,\n",
    "              method='weighting', \n",
    "              common_causes=[common_cause],\n",
    "              proceed_when_unidentifiable=True).groupby(treatment).mean().plot(y=outcome, kind='bar')"
   ]
  },
  {
   "cell_type": "code",
   "execution_count": 5,
   "metadata": {
    "execution": {
     "iopub.execute_input": "2023-07-21T14:19:14.388494Z",
     "iopub.status.busy": "2023-07-21T14:19:14.388023Z",
     "iopub.status.idle": "2023-07-21T14:19:14.421492Z",
     "shell.execute_reply": "2023-07-21T14:19:14.420889Z"
    }
   },
   "outputs": [],
   "source": [
    "cdf_1 = df.causal.do(x={treatment: 1}, \n",
    "              variable_types={treatment: 'b', outcome: 'c', common_cause: 'c'}, \n",
    "              outcome=outcome, \n",
    "              dot_graph=data['dot_graph'],\n",
    "              proceed_when_unidentifiable=True)\n",
    "\n",
    "cdf_0 = df.causal.do(x={treatment: 0}, \n",
    "              variable_types={treatment: 'b', outcome: 'c', common_cause: 'c'}, \n",
    "              outcome=outcome, \n",
    "              dot_graph=data['dot_graph'],\n",
    "              proceed_when_unidentifiable=True)\n"
   ]
  },
  {
   "cell_type": "code",
   "execution_count": 6,
   "metadata": {
    "execution": {
     "iopub.execute_input": "2023-07-21T14:19:14.424939Z",
     "iopub.status.busy": "2023-07-21T14:19:14.424279Z",
     "iopub.status.idle": "2023-07-21T14:19:14.435048Z",
     "shell.execute_reply": "2023-07-21T14:19:14.434476Z"
    },
    "scrolled": true
   },
   "outputs": [
    {
     "data": {
      "text/html": [
       "<div>\n",
       "<style scoped>\n",
       "    .dataframe tbody tr th:only-of-type {\n",
       "        vertical-align: middle;\n",
       "    }\n",
       "\n",
       "    .dataframe tbody tr th {\n",
       "        vertical-align: top;\n",
       "    }\n",
       "\n",
       "    .dataframe thead th {\n",
       "        text-align: right;\n",
       "    }\n",
       "</style>\n",
       "<table border=\"1\" class=\"dataframe\">\n",
       "  <thead>\n",
       "    <tr style=\"text-align: right;\">\n",
       "      <th></th>\n",
       "      <th>W0</th>\n",
       "      <th>v0</th>\n",
       "      <th>y</th>\n",
       "      <th>propensity_score</th>\n",
       "      <th>weight</th>\n",
       "    </tr>\n",
       "  </thead>\n",
       "  <tbody>\n",
       "    <tr>\n",
       "      <th>0</th>\n",
       "      <td>0.613650</td>\n",
       "      <td>False</td>\n",
       "      <td>0.469236</td>\n",
       "      <td>0.254895</td>\n",
       "      <td>3.923180</td>\n",
       "    </tr>\n",
       "    <tr>\n",
       "      <th>1</th>\n",
       "      <td>0.144387</td>\n",
       "      <td>False</td>\n",
       "      <td>0.955309</td>\n",
       "      <td>0.464054</td>\n",
       "      <td>2.154924</td>\n",
       "    </tr>\n",
       "    <tr>\n",
       "      <th>2</th>\n",
       "      <td>2.113959</td>\n",
       "      <td>False</td>\n",
       "      <td>5.948964</td>\n",
       "      <td>0.017265</td>\n",
       "      <td>57.921472</td>\n",
       "    </tr>\n",
       "    <tr>\n",
       "      <th>3</th>\n",
       "      <td>-0.340227</td>\n",
       "      <td>False</td>\n",
       "      <td>-1.321590</td>\n",
       "      <td>0.693170</td>\n",
       "      <td>1.442649</td>\n",
       "    </tr>\n",
       "    <tr>\n",
       "      <th>4</th>\n",
       "      <td>-0.120443</td>\n",
       "      <td>False</td>\n",
       "      <td>1.290028</td>\n",
       "      <td>0.593884</td>\n",
       "      <td>1.683831</td>\n",
       "    </tr>\n",
       "    <tr>\n",
       "      <th>...</th>\n",
       "      <td>...</td>\n",
       "      <td>...</td>\n",
       "      <td>...</td>\n",
       "      <td>...</td>\n",
       "      <td>...</td>\n",
       "    </tr>\n",
       "    <tr>\n",
       "      <th>995</th>\n",
       "      <td>0.256167</td>\n",
       "      <td>False</td>\n",
       "      <td>0.558967</td>\n",
       "      <td>0.409692</td>\n",
       "      <td>2.440859</td>\n",
       "    </tr>\n",
       "    <tr>\n",
       "      <th>996</th>\n",
       "      <td>-0.553712</td>\n",
       "      <td>False</td>\n",
       "      <td>-1.910783</td>\n",
       "      <td>0.775120</td>\n",
       "      <td>1.290123</td>\n",
       "    </tr>\n",
       "    <tr>\n",
       "      <th>997</th>\n",
       "      <td>0.288537</td>\n",
       "      <td>False</td>\n",
       "      <td>2.406334</td>\n",
       "      <td>0.394294</td>\n",
       "      <td>2.536179</td>\n",
       "    </tr>\n",
       "    <tr>\n",
       "      <th>998</th>\n",
       "      <td>-0.627053</td>\n",
       "      <td>False</td>\n",
       "      <td>-0.281023</td>\n",
       "      <td>0.799406</td>\n",
       "      <td>1.250928</td>\n",
       "    </tr>\n",
       "    <tr>\n",
       "      <th>999</th>\n",
       "      <td>-0.297185</td>\n",
       "      <td>False</td>\n",
       "      <td>-0.530255</td>\n",
       "      <td>0.674762</td>\n",
       "      <td>1.482004</td>\n",
       "    </tr>\n",
       "  </tbody>\n",
       "</table>\n",
       "<p>1000 rows × 5 columns</p>\n",
       "</div>"
      ],
      "text/plain": [
       "           W0     v0         y  propensity_score     weight\n",
       "0    0.613650  False  0.469236          0.254895   3.923180\n",
       "1    0.144387  False  0.955309          0.464054   2.154924\n",
       "2    2.113959  False  5.948964          0.017265  57.921472\n",
       "3   -0.340227  False -1.321590          0.693170   1.442649\n",
       "4   -0.120443  False  1.290028          0.593884   1.683831\n",
       "..        ...    ...       ...               ...        ...\n",
       "995  0.256167  False  0.558967          0.409692   2.440859\n",
       "996 -0.553712  False -1.910783          0.775120   1.290123\n",
       "997  0.288537  False  2.406334          0.394294   2.536179\n",
       "998 -0.627053  False -0.281023          0.799406   1.250928\n",
       "999 -0.297185  False -0.530255          0.674762   1.482004\n",
       "\n",
       "[1000 rows x 5 columns]"
      ]
     },
     "execution_count": 6,
     "metadata": {},
     "output_type": "execute_result"
    }
   ],
   "source": [
    "cdf_0"
   ]
  },
  {
   "cell_type": "code",
   "execution_count": 7,
   "metadata": {
    "execution": {
     "iopub.execute_input": "2023-07-21T14:19:14.437987Z",
     "iopub.status.busy": "2023-07-21T14:19:14.437369Z",
     "iopub.status.idle": "2023-07-21T14:19:14.447517Z",
     "shell.execute_reply": "2023-07-21T14:19:14.446983Z"
    }
   },
   "outputs": [
    {
     "data": {
      "text/html": [
       "<div>\n",
       "<style scoped>\n",
       "    .dataframe tbody tr th:only-of-type {\n",
       "        vertical-align: middle;\n",
       "    }\n",
       "\n",
       "    .dataframe tbody tr th {\n",
       "        vertical-align: top;\n",
       "    }\n",
       "\n",
       "    .dataframe thead th {\n",
       "        text-align: right;\n",
       "    }\n",
       "</style>\n",
       "<table border=\"1\" class=\"dataframe\">\n",
       "  <thead>\n",
       "    <tr style=\"text-align: right;\">\n",
       "      <th></th>\n",
       "      <th>W0</th>\n",
       "      <th>v0</th>\n",
       "      <th>y</th>\n",
       "      <th>propensity_score</th>\n",
       "      <th>weight</th>\n",
       "    </tr>\n",
       "  </thead>\n",
       "  <tbody>\n",
       "    <tr>\n",
       "      <th>0</th>\n",
       "      <td>1.828873</td>\n",
       "      <td>True</td>\n",
       "      <td>8.363299</td>\n",
       "      <td>0.970041</td>\n",
       "      <td>1.030884</td>\n",
       "    </tr>\n",
       "    <tr>\n",
       "      <th>1</th>\n",
       "      <td>2.275568</td>\n",
       "      <td>True</td>\n",
       "      <td>9.867628</td>\n",
       "      <td>0.987401</td>\n",
       "      <td>1.012759</td>\n",
       "    </tr>\n",
       "    <tr>\n",
       "      <th>2</th>\n",
       "      <td>0.309673</td>\n",
       "      <td>True</td>\n",
       "      <td>5.730490</td>\n",
       "      <td>0.615650</td>\n",
       "      <td>1.624300</td>\n",
       "    </tr>\n",
       "    <tr>\n",
       "      <th>3</th>\n",
       "      <td>0.317178</td>\n",
       "      <td>True</td>\n",
       "      <td>6.175273</td>\n",
       "      <td>0.619158</td>\n",
       "      <td>1.615097</td>\n",
       "    </tr>\n",
       "    <tr>\n",
       "      <th>4</th>\n",
       "      <td>-1.883029</td>\n",
       "      <td>True</td>\n",
       "      <td>0.040604</td>\n",
       "      <td>0.020471</td>\n",
       "      <td>48.849963</td>\n",
       "    </tr>\n",
       "    <tr>\n",
       "      <th>...</th>\n",
       "      <td>...</td>\n",
       "      <td>...</td>\n",
       "      <td>...</td>\n",
       "      <td>...</td>\n",
       "      <td>...</td>\n",
       "    </tr>\n",
       "    <tr>\n",
       "      <th>995</th>\n",
       "      <td>0.105814</td>\n",
       "      <td>True</td>\n",
       "      <td>3.407295</td>\n",
       "      <td>0.516919</td>\n",
       "      <td>1.934539</td>\n",
       "    </tr>\n",
       "    <tr>\n",
       "      <th>996</th>\n",
       "      <td>0.204713</td>\n",
       "      <td>True</td>\n",
       "      <td>5.931558</td>\n",
       "      <td>0.565476</td>\n",
       "      <td>1.768422</td>\n",
       "    </tr>\n",
       "    <tr>\n",
       "      <th>997</th>\n",
       "      <td>1.014560</td>\n",
       "      <td>True</td>\n",
       "      <td>5.912940</td>\n",
       "      <td>0.866000</td>\n",
       "      <td>1.154735</td>\n",
       "    </tr>\n",
       "    <tr>\n",
       "      <th>998</th>\n",
       "      <td>0.966197</td>\n",
       "      <td>True</td>\n",
       "      <td>7.166953</td>\n",
       "      <td>0.854500</td>\n",
       "      <td>1.170276</td>\n",
       "    </tr>\n",
       "    <tr>\n",
       "      <th>999</th>\n",
       "      <td>0.760236</td>\n",
       "      <td>True</td>\n",
       "      <td>7.648976</td>\n",
       "      <td>0.796207</td>\n",
       "      <td>1.255955</td>\n",
       "    </tr>\n",
       "  </tbody>\n",
       "</table>\n",
       "<p>1000 rows × 5 columns</p>\n",
       "</div>"
      ],
      "text/plain": [
       "           W0    v0         y  propensity_score     weight\n",
       "0    1.828873  True  8.363299          0.970041   1.030884\n",
       "1    2.275568  True  9.867628          0.987401   1.012759\n",
       "2    0.309673  True  5.730490          0.615650   1.624300\n",
       "3    0.317178  True  6.175273          0.619158   1.615097\n",
       "4   -1.883029  True  0.040604          0.020471  48.849963\n",
       "..        ...   ...       ...               ...        ...\n",
       "995  0.105814  True  3.407295          0.516919   1.934539\n",
       "996  0.204713  True  5.931558          0.565476   1.768422\n",
       "997  1.014560  True  5.912940          0.866000   1.154735\n",
       "998  0.966197  True  7.166953          0.854500   1.170276\n",
       "999  0.760236  True  7.648976          0.796207   1.255955\n",
       "\n",
       "[1000 rows x 5 columns]"
      ]
     },
     "execution_count": 7,
     "metadata": {},
     "output_type": "execute_result"
    }
   ],
   "source": [
    "cdf_1"
   ]
  },
  {
   "cell_type": "markdown",
   "metadata": {},
   "source": [
    "## Comparing the estimate to Linear Regression\n",
    "First, estimating the effect using the causal data frame, and the 95% confidence interval."
   ]
  },
  {
   "cell_type": "code",
   "execution_count": 8,
   "metadata": {
    "execution": {
     "iopub.execute_input": "2023-07-21T14:19:14.450297Z",
     "iopub.status.busy": "2023-07-21T14:19:14.449863Z",
     "iopub.status.idle": "2023-07-21T14:19:14.510234Z",
     "shell.execute_reply": "2023-07-21T14:19:14.509512Z"
    }
   },
   "outputs": [
    {
     "data": {
      "image/png": "[encoded data removed]",
      "text/latex": [
       "$\\displaystyle 4.79073035287402$"
      ],
      "text/plain": [
       "4.79073035287402"
      ]
     },
     "execution_count": 8,
     "metadata": {},
     "output_type": "execute_result"
    }
   ],
   "source": [
    "(cdf_1['y'] - cdf_0['y']).mean()"
   ]
  },
  {
   "cell_type": "code",
   "execution_count": 9,
   "metadata": {
    "execution": {
     "iopub.execute_input": "2023-07-21T14:19:14.513580Z",
     "iopub.status.busy": "2023-07-21T14:19:14.513217Z",
     "iopub.status.idle": "2023-07-21T14:19:14.533564Z",
     "shell.execute_reply": "2023-07-21T14:19:14.532893Z"
    }
   },
   "outputs": [
    {
     "data": {
      "image/png": "[encoded data removed]",
      "text/latex": [
       "$\\displaystyle 0.232454089478535$"
      ],
      "text/plain": [
       "0.23245408947853513"
      ]
     },
     "execution_count": 9,
     "metadata": {},
     "output_type": "execute_result"
    }
   ],
   "source": [
    "1.96*(cdf_1['y'] - cdf_0['y']).std() / np.sqrt(len(df))"
   ]
  },
  {
   "cell_type": "markdown",
   "metadata": {},
   "source": [
    "Comparing to the estimate from OLS."
   ]
  },
  {
   "cell_type": "code",
   "execution_count": 10,
   "metadata": {
    "execution": {
     "iopub.execute_input": "2023-07-21T14:19:14.536483Z",
     "iopub.status.busy": "2023-07-21T14:19:14.536130Z",
     "iopub.status.idle": "2023-07-21T14:19:14.552869Z",
     "shell.execute_reply": "2023-07-21T14:19:14.552196Z"
    }
   },
   "outputs": [
    {
     "data": {
      "text/html": [
       "<table class=\"simpletable\">\n",
       "<caption>OLS Regression Results</caption>\n",
       "<tr>\n",
       "  <th>Dep. Variable:</th>            <td>y</td>        <th>  R-squared (uncentered):</th>      <td>   0.970</td> \n",
       "</tr>\n",
       "<tr>\n",
       "  <th>Model:</th>                   <td>OLS</td>       <th>  Adj. R-squared (uncentered):</th> <td>   0.970</td> \n",
       "</tr>\n",
       "<tr>\n",
       "  <th>Method:</th>             <td>Least Squares</td>  <th>  F-statistic:       </th>          <td>1.620e+04</td>\n",
       "</tr>\n",
       "<tr>\n",
       "  <th>Date:</th>             <td>Fri, 21 Jul 2023</td> <th>  Prob (F-statistic):</th>           <td>  0.00</td>  \n",
       "</tr>\n",
       "<tr>\n",
       "  <th>Time:</th>                 <td>14:19:14</td>     <th>  Log-Likelihood:    </th>          <td> -1406.6</td> \n",
       "</tr>\n",
       "<tr>\n",
       "  <th>No. Observations:</th>      <td>  1000</td>      <th>  AIC:               </th>          <td>   2817.</td> \n",
       "</tr>\n",
       "<tr>\n",
       "  <th>Df Residuals:</th>          <td>   998</td>      <th>  BIC:               </th>          <td>   2827.</td> \n",
       "</tr>\n",
       "<tr>\n",
       "  <th>Df Model:</th>              <td>     2</td>      <th>                     </th>              <td> </td>    \n",
       "</tr>\n",
       "<tr>\n",
       "  <th>Covariance Type:</th>      <td>nonrobust</td>    <th>                     </th>              <td> </td>    \n",
       "</tr>\n",
       "</table>\n",
       "<table class=\"simpletable\">\n",
       "<tr>\n",
       "   <td></td>     <th>coef</th>     <th>std err</th>      <th>t</th>      <th>P>|t|</th>  <th>[0.025</th>    <th>0.975]</th>  \n",
       "</tr>\n",
       "<tr>\n",
       "  <th>x1</th> <td>    2.2030</td> <td>    0.038</td> <td>   58.472</td> <td> 0.000</td> <td>    2.129</td> <td>    2.277</td>\n",
       "</tr>\n",
       "<tr>\n",
       "  <th>x2</th> <td>    5.0368</td> <td>    0.052</td> <td>   96.847</td> <td> 0.000</td> <td>    4.935</td> <td>    5.139</td>\n",
       "</tr>\n",
       "</table>\n",
       "<table class=\"simpletable\">\n",
       "<tr>\n",
       "  <th>Omnibus:</th>       <td> 0.182</td> <th>  Durbin-Watson:     </th> <td>   1.933</td>\n",
       "</tr>\n",
       "<tr>\n",
       "  <th>Prob(Omnibus):</th> <td> 0.913</td> <th>  Jarque-Bera (JB):  </th> <td>   0.186</td>\n",
       "</tr>\n",
       "<tr>\n",
       "  <th>Skew:</th>          <td> 0.033</td> <th>  Prob(JB):          </th> <td>   0.911</td>\n",
       "</tr>\n",
       "<tr>\n",
       "  <th>Kurtosis:</th>      <td> 2.987</td> <th>  Cond. No.          </th> <td>    2.24</td>\n",
       "</tr>\n",
       "</table><br/><br/>Notes:<br/>[1] R² is computed without centering (uncentered) since the model does not contain a constant.<br/>[2] Standard Errors assume that the covariance matrix of the errors is correctly specified."
      ],
      "text/plain": [
       "<class 'statsmodels.iolib.summary.Summary'>\n",
       "\"\"\"\n",
       "                                 OLS Regression Results                                \n",
       "=======================================================================================\n",
       "Dep. Variable:                      y   R-squared (uncentered):                   0.970\n",
       "Model:                            OLS   Adj. R-squared (uncentered):              0.970\n",
       "Method:                 Least Squares   F-statistic:                          1.620e+04\n",
       "Date:                Fri, 21 Jul 2023   Prob (F-statistic):                        0.00\n",
       "Time:                        14:19:14   Log-Likelihood:                         -1406.6\n",
       "No. Observations:                1000   AIC:                                      2817.\n",
       "Df Residuals:                     998   BIC:                                      2827.\n",
       "Df Model:                           2                                                  \n",
       "Covariance Type:            nonrobust                                                  \n",
       "==============================================================================\n",
       "                 coef    std err          t      P>|t|      [0.025      0.975]\n",
       "------------------------------------------------------------------------------\n",
       "x1             2.2030      0.038     58.472      0.000       2.129       2.277\n",
       "x2             5.0368      0.052     96.847      0.000       4.935       5.139\n",
       "==============================================================================\n",
       "Omnibus:                        0.182   Durbin-Watson:                   1.933\n",
       "Prob(Omnibus):                  0.913   Jarque-Bera (JB):                0.186\n",
       "Skew:                           0.033   Prob(JB):                        0.911\n",
       "Kurtosis:                       2.987   Cond. No.                         2.24\n",
       "==============================================================================\n",
       "\n",
       "Notes:\n",
       "[1] R² is computed without centering (uncentered) since the model does not contain a constant.\n",
       "[2] Standard Errors assume that the covariance matrix of the errors is correctly specified.\n",
       "\"\"\""
      ]
     },
     "execution_count": 10,
     "metadata": {},
     "output_type": "execute_result"
    }
   ],
   "source": [
    "model = OLS(np.asarray(df[outcome]), np.asarray(df[[common_cause, treatment]], dtype=np.float64))\n",
    "result = model.fit()\n",
    "result.summary()"
   ]
  }
 ],
 "metadata": {
  "kernelspec": {
   "display_name": "Python 3",
   "language": "python",
   "name": "python3"
  },
  "language_info": {
   "codemirror_mode": {
    "name": "ipython",
    "version": 3
   },
   "file_extension": ".py",
   "mimetype": "text/x-python",
   "name": "python",
   "nbconvert_exporter": "python",
   "pygments_lexer": "ipython3",
   "version": "3.8.10"
  },
  "toc": {
   "base_numbering": 1,
   "nav_menu": {},
   "number_sections": false,
   "sideBar": true,
   "skip_h1_title": true,
   "title_cell": "Table of Contents",
   "title_sidebar": "Contents",
   "toc_cell": false,
   "toc_position": {},
   "toc_section_display": true,
   "toc_window_display": false
  }
 },
 "nbformat": 4,
 "nbformat_minor": 4
}
