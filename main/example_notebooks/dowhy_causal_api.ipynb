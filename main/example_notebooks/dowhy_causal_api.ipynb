{
 "cells": [
  {
   "cell_type": "markdown",
   "metadata": {},
   "source": [
    "# Demo for the DoWhy causal API\n",
    "We show a simple example of adding a causal extension to any dataframe. "
   ]
  },
  {
   "cell_type": "code",
   "execution_count": 1,
   "metadata": {
    "execution": {
     "iopub.execute_input": "2023-07-18T17:28:25.400279Z",
     "iopub.status.busy": "2023-07-18T17:28:25.399920Z",
     "iopub.status.idle": "2023-07-18T17:28:26.943103Z",
     "shell.execute_reply": "2023-07-18T17:28:26.942431Z"
    }
   },
   "outputs": [],
   "source": [
    "import dowhy.datasets\n",
    "import dowhy.api\n",
    "\n",
    "import numpy as np\n",
    "import pandas as pd\n",
    "\n",
    "from statsmodels.api import OLS"
   ]
  },
  {
   "cell_type": "code",
   "execution_count": 2,
   "metadata": {
    "execution": {
     "iopub.execute_input": "2023-07-18T17:28:26.946941Z",
     "iopub.status.busy": "2023-07-18T17:28:26.946119Z",
     "iopub.status.idle": "2023-07-18T17:28:26.985668Z",
     "shell.execute_reply": "2023-07-18T17:28:26.984387Z"
    }
   },
   "outputs": [
    {
     "data": {
      "text/html": [
       "<div>\n",
       "<style scoped>\n",
       "    .dataframe tbody tr th:only-of-type {\n",
       "        vertical-align: middle;\n",
       "    }\n",
       "\n",
       "    .dataframe tbody tr th {\n",
       "        vertical-align: top;\n",
       "    }\n",
       "\n",
       "    .dataframe thead th {\n",
       "        text-align: right;\n",
       "    }\n",
       "</style>\n",
       "<table border=\"1\" class=\"dataframe\">\n",
       "  <thead>\n",
       "    <tr style=\"text-align: right;\">\n",
       "      <th></th>\n",
       "      <th>W0</th>\n",
       "      <th>v0</th>\n",
       "      <th>y</th>\n",
       "    </tr>\n",
       "  </thead>\n",
       "  <tbody>\n",
       "    <tr>\n",
       "      <th>0</th>\n",
       "      <td>-1.779434</td>\n",
       "      <td>False</td>\n",
       "      <td>-0.998534</td>\n",
       "    </tr>\n",
       "    <tr>\n",
       "      <th>1</th>\n",
       "      <td>-0.802786</td>\n",
       "      <td>True</td>\n",
       "      <td>5.268301</td>\n",
       "    </tr>\n",
       "    <tr>\n",
       "      <th>2</th>\n",
       "      <td>0.081912</td>\n",
       "      <td>True</td>\n",
       "      <td>4.684378</td>\n",
       "    </tr>\n",
       "    <tr>\n",
       "      <th>3</th>\n",
       "      <td>-0.663332</td>\n",
       "      <td>False</td>\n",
       "      <td>-1.575482</td>\n",
       "    </tr>\n",
       "    <tr>\n",
       "      <th>4</th>\n",
       "      <td>0.272922</td>\n",
       "      <td>True</td>\n",
       "      <td>5.933512</td>\n",
       "    </tr>\n",
       "    <tr>\n",
       "      <th>...</th>\n",
       "      <td>...</td>\n",
       "      <td>...</td>\n",
       "      <td>...</td>\n",
       "    </tr>\n",
       "    <tr>\n",
       "      <th>995</th>\n",
       "      <td>-0.808276</td>\n",
       "      <td>False</td>\n",
       "      <td>1.095346</td>\n",
       "    </tr>\n",
       "    <tr>\n",
       "      <th>996</th>\n",
       "      <td>1.000405</td>\n",
       "      <td>True</td>\n",
       "      <td>5.453317</td>\n",
       "    </tr>\n",
       "    <tr>\n",
       "      <th>997</th>\n",
       "      <td>0.993474</td>\n",
       "      <td>True</td>\n",
       "      <td>5.675957</td>\n",
       "    </tr>\n",
       "    <tr>\n",
       "      <th>998</th>\n",
       "      <td>-2.339430</td>\n",
       "      <td>False</td>\n",
       "      <td>-0.439721</td>\n",
       "    </tr>\n",
       "    <tr>\n",
       "      <th>999</th>\n",
       "      <td>-1.758092</td>\n",
       "      <td>False</td>\n",
       "      <td>-0.654917</td>\n",
       "    </tr>\n",
       "  </tbody>\n",
       "</table>\n",
       "<p>1000 rows × 3 columns</p>\n",
       "</div>"
      ],
      "text/plain": [
       "           W0     v0         y\n",
       "0   -1.779434  False -0.998534\n",
       "1   -0.802786   True  5.268301\n",
       "2    0.081912   True  4.684378\n",
       "3   -0.663332  False -1.575482\n",
       "4    0.272922   True  5.933512\n",
       "..        ...    ...       ...\n",
       "995 -0.808276  False  1.095346\n",
       "996  1.000405   True  5.453317\n",
       "997  0.993474   True  5.675957\n",
       "998 -2.339430  False -0.439721\n",
       "999 -1.758092  False -0.654917\n",
       "\n",
       "[1000 rows x 3 columns]"
      ]
     },
     "execution_count": 2,
     "metadata": {},
     "output_type": "execute_result"
    }
   ],
   "source": [
    "data = dowhy.datasets.linear_dataset(beta=5,\n",
    "        num_common_causes=1,\n",
    "        num_instruments = 0,\n",
    "        num_samples=1000,\n",
    "        treatment_is_binary=True)\n",
    "df = data['df']\n",
    "df['y'] = df['y'] + np.random.normal(size=len(df)) # Adding noise to data. Without noise, the variance in Y|X, Z is zero, and mcmc fails.\n",
    "#data['dot_graph'] = 'digraph { v ->y;X0-> v;X0-> y;}'\n",
    "\n",
    "treatment= data[\"treatment_name\"][0]\n",
    "outcome = data[\"outcome_name\"][0]\n",
    "common_cause = data[\"common_causes_names\"][0]\n",
    "df"
   ]
  },
  {
   "cell_type": "code",
   "execution_count": 3,
   "metadata": {
    "execution": {
     "iopub.execute_input": "2023-07-18T17:28:26.988501Z",
     "iopub.status.busy": "2023-07-18T17:28:26.988169Z",
     "iopub.status.idle": "2023-07-18T17:28:27.181030Z",
     "shell.execute_reply": "2023-07-18T17:28:27.180425Z"
    }
   },
   "outputs": [
    {
     "data": {
      "text/plain": [
       "<Axes: xlabel='v0'>"
      ]
     },
     "execution_count": 3,
     "metadata": {},
     "output_type": "execute_result"
    },
    {
     "data": {
      "image/png": "[encoded data removed]",
      "text/plain": [
       "<Figure size 640x480 with 1 Axes>"
      ]
     },
     "metadata": {},
     "output_type": "display_data"
    }
   ],
   "source": [
    "# data['df'] is just a regular pandas.DataFrame\n",
    "df.causal.do(x=treatment,\n",
    "                     variable_types={treatment: 'b', outcome: 'c', common_cause: 'c'},\n",
    "                     outcome=outcome,\n",
    "                     common_causes=[common_cause],\n",
    "                     proceed_when_unidentifiable=True).groupby(treatment).mean().plot(y=outcome, kind='bar')"
   ]
  },
  {
   "cell_type": "code",
   "execution_count": 4,
   "metadata": {
    "execution": {
     "iopub.execute_input": "2023-07-18T17:28:27.183908Z",
     "iopub.status.busy": "2023-07-18T17:28:27.183687Z",
     "iopub.status.idle": "2023-07-18T17:28:27.310494Z",
     "shell.execute_reply": "2023-07-18T17:28:27.309949Z"
    }
   },
   "outputs": [
    {
     "data": {
      "text/plain": [
       "<Axes: xlabel='v0'>"
      ]
     },
     "execution_count": 4,
     "metadata": {},
     "output_type": "execute_result"
    },
    {
     "data": {
      "image/png": "[encoded data removed]",
      "text/plain": [
       "<Figure size 640x480 with 1 Axes>"
      ]
     },
     "metadata": {},
     "output_type": "display_data"
    }
   ],
   "source": [
    "df.causal.do(x={treatment: 1}, \n",
    "              variable_types={treatment:'b', outcome: 'c', common_cause: 'c'}, \n",
    "              outcome=outcome,\n",
    "              method='weighting', \n",
    "              common_causes=[common_cause],\n",
    "              proceed_when_unidentifiable=True).groupby(treatment).mean().plot(y=outcome, kind='bar')"
   ]
  },
  {
   "cell_type": "code",
   "execution_count": 5,
   "metadata": {
    "execution": {
     "iopub.execute_input": "2023-07-18T17:28:27.313415Z",
     "iopub.status.busy": "2023-07-18T17:28:27.312853Z",
     "iopub.status.idle": "2023-07-18T17:28:27.340338Z",
     "shell.execute_reply": "2023-07-18T17:28:27.339783Z"
    }
   },
   "outputs": [],
   "source": [
    "cdf_1 = df.causal.do(x={treatment: 1}, \n",
    "              variable_types={treatment: 'b', outcome: 'c', common_cause: 'c'}, \n",
    "              outcome=outcome, \n",
    "              dot_graph=data['dot_graph'],\n",
    "              proceed_when_unidentifiable=True)\n",
    "\n",
    "cdf_0 = df.causal.do(x={treatment: 0}, \n",
    "              variable_types={treatment: 'b', outcome: 'c', common_cause: 'c'}, \n",
    "              outcome=outcome, \n",
    "              dot_graph=data['dot_graph'],\n",
    "              proceed_when_unidentifiable=True)\n"
   ]
  },
  {
   "cell_type": "code",
   "execution_count": 6,
   "metadata": {
    "execution": {
     "iopub.execute_input": "2023-07-18T17:28:27.343063Z",
     "iopub.status.busy": "2023-07-18T17:28:27.342615Z",
     "iopub.status.idle": "2023-07-18T17:28:27.352456Z",
     "shell.execute_reply": "2023-07-18T17:28:27.351979Z"
    },
    "scrolled": true
   },
   "outputs": [
    {
     "data": {
      "text/html": [
       "<div>\n",
       "<style scoped>\n",
       "    .dataframe tbody tr th:only-of-type {\n",
       "        vertical-align: middle;\n",
       "    }\n",
       "\n",
       "    .dataframe tbody tr th {\n",
       "        vertical-align: top;\n",
       "    }\n",
       "\n",
       "    .dataframe thead th {\n",
       "        text-align: right;\n",
       "    }\n",
       "</style>\n",
       "<table border=\"1\" class=\"dataframe\">\n",
       "  <thead>\n",
       "    <tr style=\"text-align: right;\">\n",
       "      <th></th>\n",
       "      <th>W0</th>\n",
       "      <th>v0</th>\n",
       "      <th>y</th>\n",
       "      <th>propensity_score</th>\n",
       "      <th>weight</th>\n",
       "    </tr>\n",
       "  </thead>\n",
       "  <tbody>\n",
       "    <tr>\n",
       "      <th>0</th>\n",
       "      <td>-1.379947</td>\n",
       "      <td>False</td>\n",
       "      <td>-0.501847</td>\n",
       "      <td>0.937476</td>\n",
       "      <td>1.066694</td>\n",
       "    </tr>\n",
       "    <tr>\n",
       "      <th>1</th>\n",
       "      <td>-1.310688</td>\n",
       "      <td>False</td>\n",
       "      <td>-2.311240</td>\n",
       "      <td>0.928533</td>\n",
       "      <td>1.076968</td>\n",
       "    </tr>\n",
       "    <tr>\n",
       "      <th>2</th>\n",
       "      <td>0.198657</td>\n",
       "      <td>False</td>\n",
       "      <td>-1.196489</td>\n",
       "      <td>0.364072</td>\n",
       "      <td>2.746711</td>\n",
       "    </tr>\n",
       "    <tr>\n",
       "      <th>3</th>\n",
       "      <td>-1.089505</td>\n",
       "      <td>False</td>\n",
       "      <td>-0.169138</td>\n",
       "      <td>0.891567</td>\n",
       "      <td>1.121620</td>\n",
       "    </tr>\n",
       "    <tr>\n",
       "      <th>4</th>\n",
       "      <td>-1.247402</td>\n",
       "      <td>False</td>\n",
       "      <td>-0.173192</td>\n",
       "      <td>0.919344</td>\n",
       "      <td>1.087732</td>\n",
       "    </tr>\n",
       "    <tr>\n",
       "      <th>...</th>\n",
       "      <td>...</td>\n",
       "      <td>...</td>\n",
       "      <td>...</td>\n",
       "      <td>...</td>\n",
       "      <td>...</td>\n",
       "    </tr>\n",
       "    <tr>\n",
       "      <th>995</th>\n",
       "      <td>-0.807478</td>\n",
       "      <td>False</td>\n",
       "      <td>-1.841681</td>\n",
       "      <td>0.821049</td>\n",
       "      <td>1.217954</td>\n",
       "    </tr>\n",
       "    <tr>\n",
       "      <th>996</th>\n",
       "      <td>0.075530</td>\n",
       "      <td>False</td>\n",
       "      <td>0.220189</td>\n",
       "      <td>0.424813</td>\n",
       "      <td>2.353974</td>\n",
       "    </tr>\n",
       "    <tr>\n",
       "      <th>997</th>\n",
       "      <td>-0.767379</td>\n",
       "      <td>False</td>\n",
       "      <td>0.963948</td>\n",
       "      <td>0.808536</td>\n",
       "      <td>1.236803</td>\n",
       "    </tr>\n",
       "    <tr>\n",
       "      <th>998</th>\n",
       "      <td>-1.261147</td>\n",
       "      <td>False</td>\n",
       "      <td>2.066674</td>\n",
       "      <td>0.921427</td>\n",
       "      <td>1.085273</td>\n",
       "    </tr>\n",
       "    <tr>\n",
       "      <th>999</th>\n",
       "      <td>0.300248</td>\n",
       "      <td>False</td>\n",
       "      <td>-1.678401</td>\n",
       "      <td>0.316938</td>\n",
       "      <td>3.155188</td>\n",
       "    </tr>\n",
       "  </tbody>\n",
       "</table>\n",
       "<p>1000 rows × 5 columns</p>\n",
       "</div>"
      ],
      "text/plain": [
       "           W0     v0         y  propensity_score    weight\n",
       "0   -1.379947  False -0.501847          0.937476  1.066694\n",
       "1   -1.310688  False -2.311240          0.928533  1.076968\n",
       "2    0.198657  False -1.196489          0.364072  2.746711\n",
       "3   -1.089505  False -0.169138          0.891567  1.121620\n",
       "4   -1.247402  False -0.173192          0.919344  1.087732\n",
       "..        ...    ...       ...               ...       ...\n",
       "995 -0.807478  False -1.841681          0.821049  1.217954\n",
       "996  0.075530  False  0.220189          0.424813  2.353974\n",
       "997 -0.767379  False  0.963948          0.808536  1.236803\n",
       "998 -1.261147  False  2.066674          0.921427  1.085273\n",
       "999  0.300248  False -1.678401          0.316938  3.155188\n",
       "\n",
       "[1000 rows x 5 columns]"
      ]
     },
     "execution_count": 6,
     "metadata": {},
     "output_type": "execute_result"
    }
   ],
   "source": [
    "cdf_0"
   ]
  },
  {
   "cell_type": "code",
   "execution_count": 7,
   "metadata": {
    "execution": {
     "iopub.execute_input": "2023-07-18T17:28:27.355149Z",
     "iopub.status.busy": "2023-07-18T17:28:27.354592Z",
     "iopub.status.idle": "2023-07-18T17:28:27.364098Z",
     "shell.execute_reply": "2023-07-18T17:28:27.363608Z"
    }
   },
   "outputs": [
    {
     "data": {
      "text/html": [
       "<div>\n",
       "<style scoped>\n",
       "    .dataframe tbody tr th:only-of-type {\n",
       "        vertical-align: middle;\n",
       "    }\n",
       "\n",
       "    .dataframe tbody tr th {\n",
       "        vertical-align: top;\n",
       "    }\n",
       "\n",
       "    .dataframe thead th {\n",
       "        text-align: right;\n",
       "    }\n",
       "</style>\n",
       "<table border=\"1\" class=\"dataframe\">\n",
       "  <thead>\n",
       "    <tr style=\"text-align: right;\">\n",
       "      <th></th>\n",
       "      <th>W0</th>\n",
       "      <th>v0</th>\n",
       "      <th>y</th>\n",
       "      <th>propensity_score</th>\n",
       "      <th>weight</th>\n",
       "    </tr>\n",
       "  </thead>\n",
       "  <tbody>\n",
       "    <tr>\n",
       "      <th>0</th>\n",
       "      <td>0.144495</td>\n",
       "      <td>True</td>\n",
       "      <td>3.756358</td>\n",
       "      <td>0.609616</td>\n",
       "      <td>1.640376</td>\n",
       "    </tr>\n",
       "    <tr>\n",
       "      <th>1</th>\n",
       "      <td>-1.094854</td>\n",
       "      <td>True</td>\n",
       "      <td>4.946011</td>\n",
       "      <td>0.107368</td>\n",
       "      <td>9.313774</td>\n",
       "    </tr>\n",
       "    <tr>\n",
       "      <th>2</th>\n",
       "      <td>-1.538996</td>\n",
       "      <td>True</td>\n",
       "      <td>5.327864</td>\n",
       "      <td>0.045798</td>\n",
       "      <td>21.834899</td>\n",
       "    </tr>\n",
       "    <tr>\n",
       "      <th>3</th>\n",
       "      <td>-0.830212</td>\n",
       "      <td>True</td>\n",
       "      <td>5.271277</td>\n",
       "      <td>0.172145</td>\n",
       "      <td>5.809042</td>\n",
       "    </tr>\n",
       "    <tr>\n",
       "      <th>4</th>\n",
       "      <td>-0.577762</td>\n",
       "      <td>True</td>\n",
       "      <td>4.513198</td>\n",
       "      <td>0.259551</td>\n",
       "      <td>3.852801</td>\n",
       "    </tr>\n",
       "    <tr>\n",
       "      <th>...</th>\n",
       "      <td>...</td>\n",
       "      <td>...</td>\n",
       "      <td>...</td>\n",
       "      <td>...</td>\n",
       "      <td>...</td>\n",
       "    </tr>\n",
       "    <tr>\n",
       "      <th>995</th>\n",
       "      <td>-0.478439</td>\n",
       "      <td>True</td>\n",
       "      <td>6.108350</td>\n",
       "      <td>0.300935</td>\n",
       "      <td>3.322979</td>\n",
       "    </tr>\n",
       "    <tr>\n",
       "      <th>996</th>\n",
       "      <td>-0.616844</td>\n",
       "      <td>True</td>\n",
       "      <td>5.587583</td>\n",
       "      <td>0.244319</td>\n",
       "      <td>4.093002</td>\n",
       "    </tr>\n",
       "    <tr>\n",
       "      <th>997</th>\n",
       "      <td>1.314215</td>\n",
       "      <td>True</td>\n",
       "      <td>6.297822</td>\n",
       "      <td>0.946103</td>\n",
       "      <td>1.056967</td>\n",
       "    </tr>\n",
       "    <tr>\n",
       "      <th>998</th>\n",
       "      <td>-0.434979</td>\n",
       "      <td>True</td>\n",
       "      <td>4.922905</td>\n",
       "      <td>0.320178</td>\n",
       "      <td>3.123260</td>\n",
       "    </tr>\n",
       "    <tr>\n",
       "      <th>999</th>\n",
       "      <td>1.104742</td>\n",
       "      <td>True</td>\n",
       "      <td>3.714793</td>\n",
       "      <td>0.919234</td>\n",
       "      <td>1.087862</td>\n",
       "    </tr>\n",
       "  </tbody>\n",
       "</table>\n",
       "<p>1000 rows × 5 columns</p>\n",
       "</div>"
      ],
      "text/plain": [
       "           W0    v0         y  propensity_score     weight\n",
       "0    0.144495  True  3.756358          0.609616   1.640376\n",
       "1   -1.094854  True  4.946011          0.107368   9.313774\n",
       "2   -1.538996  True  5.327864          0.045798  21.834899\n",
       "3   -0.830212  True  5.271277          0.172145   5.809042\n",
       "4   -0.577762  True  4.513198          0.259551   3.852801\n",
       "..        ...   ...       ...               ...        ...\n",
       "995 -0.478439  True  6.108350          0.300935   3.322979\n",
       "996 -0.616844  True  5.587583          0.244319   4.093002\n",
       "997  1.314215  True  6.297822          0.946103   1.056967\n",
       "998 -0.434979  True  4.922905          0.320178   3.123260\n",
       "999  1.104742  True  3.714793          0.919234   1.087862\n",
       "\n",
       "[1000 rows x 5 columns]"
      ]
     },
     "execution_count": 7,
     "metadata": {},
     "output_type": "execute_result"
    }
   ],
   "source": [
    "cdf_1"
   ]
  },
  {
   "cell_type": "markdown",
   "metadata": {},
   "source": [
    "## Comparing the estimate to Linear Regression\n",
    "First, estimating the effect using the causal data frame, and the 95% confidence interval."
   ]
  },
  {
   "cell_type": "code",
   "execution_count": 8,
   "metadata": {
    "execution": {
     "iopub.execute_input": "2023-07-18T17:28:27.366863Z",
     "iopub.status.busy": "2023-07-18T17:28:27.366354Z",
     "iopub.status.idle": "2023-07-18T17:28:27.424574Z",
     "shell.execute_reply": "2023-07-18T17:28:27.423900Z"
    }
   },
   "outputs": [
    {
     "data": {
      "image/png": "[encoded data removed]",
      "text/latex": [
       "$\\displaystyle 5.04899423718536$"
      ],
      "text/plain": [
       "5.04899423718536"
      ]
     },
     "execution_count": 8,
     "metadata": {},
     "output_type": "execute_result"
    }
   ],
   "source": [
    "(cdf_1['y'] - cdf_0['y']).mean()"
   ]
  },
  {
   "cell_type": "code",
   "execution_count": 9,
   "metadata": {
    "execution": {
     "iopub.execute_input": "2023-07-18T17:28:27.427718Z",
     "iopub.status.busy": "2023-07-18T17:28:27.427249Z",
     "iopub.status.idle": "2023-07-18T17:28:27.447166Z",
     "shell.execute_reply": "2023-07-18T17:28:27.446544Z"
    }
   },
   "outputs": [
    {
     "data": {
      "image/png": "[encoded data removed]",
      "text/latex": [
       "$\\displaystyle 0.0877393299382888$"
      ],
      "text/plain": [
       "0.08773932993828876"
      ]
     },
     "execution_count": 9,
     "metadata": {},
     "output_type": "execute_result"
    }
   ],
   "source": [
    "1.96*(cdf_1['y'] - cdf_0['y']).std() / np.sqrt(len(df))"
   ]
  },
  {
   "cell_type": "markdown",
   "metadata": {},
   "source": [
    "Comparing to the estimate from OLS."
   ]
  },
  {
   "cell_type": "code",
   "execution_count": 10,
   "metadata": {
    "execution": {
     "iopub.execute_input": "2023-07-18T17:28:27.449972Z",
     "iopub.status.busy": "2023-07-18T17:28:27.449502Z",
     "iopub.status.idle": "2023-07-18T17:28:27.465497Z",
     "shell.execute_reply": "2023-07-18T17:28:27.464933Z"
    }
   },
   "outputs": [
    {
     "data": {
      "text/html": [
       "<table class=\"simpletable\">\n",
       "<caption>OLS Regression Results</caption>\n",
       "<tr>\n",
       "  <th>Dep. Variable:</th>            <td>y</td>        <th>  R-squared (uncentered):</th>      <td>   0.906</td>\n",
       "</tr>\n",
       "<tr>\n",
       "  <th>Model:</th>                   <td>OLS</td>       <th>  Adj. R-squared (uncentered):</th> <td>   0.906</td>\n",
       "</tr>\n",
       "<tr>\n",
       "  <th>Method:</th>             <td>Least Squares</td>  <th>  F-statistic:       </th>          <td>   4831.</td>\n",
       "</tr>\n",
       "<tr>\n",
       "  <th>Date:</th>             <td>Tue, 18 Jul 2023</td> <th>  Prob (F-statistic):</th>           <td>  0.00</td> \n",
       "</tr>\n",
       "<tr>\n",
       "  <th>Time:</th>                 <td>17:28:27</td>     <th>  Log-Likelihood:    </th>          <td> -1414.3</td>\n",
       "</tr>\n",
       "<tr>\n",
       "  <th>No. Observations:</th>      <td>  1000</td>      <th>  AIC:               </th>          <td>   2833.</td>\n",
       "</tr>\n",
       "<tr>\n",
       "  <th>Df Residuals:</th>          <td>   998</td>      <th>  BIC:               </th>          <td>   2842.</td>\n",
       "</tr>\n",
       "<tr>\n",
       "  <th>Df Model:</th>              <td>     2</td>      <th>                     </th>              <td> </td>   \n",
       "</tr>\n",
       "<tr>\n",
       "  <th>Covariance Type:</th>      <td>nonrobust</td>    <th>                     </th>              <td> </td>   \n",
       "</tr>\n",
       "</table>\n",
       "<table class=\"simpletable\">\n",
       "<tr>\n",
       "   <td></td>     <th>coef</th>     <th>std err</th>      <th>t</th>      <th>P>|t|</th>  <th>[0.025</th>    <th>0.975]</th>  \n",
       "</tr>\n",
       "<tr>\n",
       "  <th>x1</th> <td>    0.1462</td> <td>    0.030</td> <td>    4.899</td> <td> 0.000</td> <td>    0.088</td> <td>    0.205</td>\n",
       "</tr>\n",
       "<tr>\n",
       "  <th>x2</th> <td>    5.0222</td> <td>    0.052</td> <td>   96.532</td> <td> 0.000</td> <td>    4.920</td> <td>    5.124</td>\n",
       "</tr>\n",
       "</table>\n",
       "<table class=\"simpletable\">\n",
       "<tr>\n",
       "  <th>Omnibus:</th>       <td> 1.162</td> <th>  Durbin-Watson:     </th> <td>   1.953</td>\n",
       "</tr>\n",
       "<tr>\n",
       "  <th>Prob(Omnibus):</th> <td> 0.559</td> <th>  Jarque-Bera (JB):  </th> <td>   1.067</td>\n",
       "</tr>\n",
       "<tr>\n",
       "  <th>Skew:</th>          <td> 0.076</td> <th>  Prob(JB):          </th> <td>   0.586</td>\n",
       "</tr>\n",
       "<tr>\n",
       "  <th>Kurtosis:</th>      <td> 3.051</td> <th>  Cond. No.          </th> <td>    1.78</td>\n",
       "</tr>\n",
       "</table><br/><br/>Notes:<br/>[1] R² is computed without centering (uncentered) since the model does not contain a constant.<br/>[2] Standard Errors assume that the covariance matrix of the errors is correctly specified."
      ],
      "text/plain": [
       "<class 'statsmodels.iolib.summary.Summary'>\n",
       "\"\"\"\n",
       "                                 OLS Regression Results                                \n",
       "=======================================================================================\n",
       "Dep. Variable:                      y   R-squared (uncentered):                   0.906\n",
       "Model:                            OLS   Adj. R-squared (uncentered):              0.906\n",
       "Method:                 Least Squares   F-statistic:                              4831.\n",
       "Date:                Tue, 18 Jul 2023   Prob (F-statistic):                        0.00\n",
       "Time:                        17:28:27   Log-Likelihood:                         -1414.3\n",
       "No. Observations:                1000   AIC:                                      2833.\n",
       "Df Residuals:                     998   BIC:                                      2842.\n",
       "Df Model:                           2                                                  \n",
       "Covariance Type:            nonrobust                                                  \n",
       "==============================================================================\n",
       "                 coef    std err          t      P>|t|      [0.025      0.975]\n",
       "------------------------------------------------------------------------------\n",
       "x1             0.1462      0.030      4.899      0.000       0.088       0.205\n",
       "x2             5.0222      0.052     96.532      0.000       4.920       5.124\n",
       "==============================================================================\n",
       "Omnibus:                        1.162   Durbin-Watson:                   1.953\n",
       "Prob(Omnibus):                  0.559   Jarque-Bera (JB):                1.067\n",
       "Skew:                           0.076   Prob(JB):                        0.586\n",
       "Kurtosis:                       3.051   Cond. No.                         1.78\n",
       "==============================================================================\n",
       "\n",
       "Notes:\n",
       "[1] R² is computed without centering (uncentered) since the model does not contain a constant.\n",
       "[2] Standard Errors assume that the covariance matrix of the errors is correctly specified.\n",
       "\"\"\""
      ]
     },
     "execution_count": 10,
     "metadata": {},
     "output_type": "execute_result"
    }
   ],
   "source": [
    "model = OLS(np.asarray(df[outcome]), np.asarray(df[[common_cause, treatment]], dtype=np.float64))\n",
    "result = model.fit()\n",
    "result.summary()"
   ]
  }
 ],
 "metadata": {
  "kernelspec": {
   "display_name": "Python 3",
   "language": "python",
   "name": "python3"
  },
  "language_info": {
   "codemirror_mode": {
    "name": "ipython",
    "version": 3
   },
   "file_extension": ".py",
   "mimetype": "text/x-python",
   "name": "python",
   "nbconvert_exporter": "python",
   "pygments_lexer": "ipython3",
   "version": "3.8.10"
  },
  "toc": {
   "base_numbering": 1,
   "nav_menu": {},
   "number_sections": false,
   "sideBar": true,
   "skip_h1_title": true,
   "title_cell": "Table of Contents",
   "title_sidebar": "Contents",
   "toc_cell": false,
   "toc_position": {},
   "toc_section_display": true,
   "toc_window_display": false
  }
 },
 "nbformat": 4,
 "nbformat_minor": 4
}
