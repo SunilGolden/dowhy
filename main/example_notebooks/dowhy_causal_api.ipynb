{
 "cells": [
  {
   "cell_type": "markdown",
   "metadata": {},
   "source": [
    "# Demo for the DoWhy causal API\n",
    "We show a simple example of adding a causal extension to any dataframe. "
   ]
  },
  {
   "cell_type": "code",
   "execution_count": 1,
   "metadata": {
    "execution": {
     "iopub.execute_input": "2023-11-10T04:48:37.815288Z",
     "iopub.status.busy": "2023-11-10T04:48:37.814915Z",
     "iopub.status.idle": "2023-11-10T04:48:39.597597Z",
     "shell.execute_reply": "2023-11-10T04:48:39.596861Z"
    }
   },
   "outputs": [],
   "source": [
    "import dowhy.datasets\n",
    "import dowhy.api\n",
    "\n",
    "import numpy as np\n",
    "import pandas as pd\n",
    "\n",
    "from statsmodels.api import OLS"
   ]
  },
  {
   "cell_type": "code",
   "execution_count": 2,
   "metadata": {
    "execution": {
     "iopub.execute_input": "2023-11-10T04:48:39.602671Z",
     "iopub.status.busy": "2023-11-10T04:48:39.600849Z",
     "iopub.status.idle": "2023-11-10T04:48:39.649420Z",
     "shell.execute_reply": "2023-11-10T04:48:39.648701Z"
    }
   },
   "outputs": [
    {
     "data": {
      "text/html": [
       "<div>\n",
       "<style scoped>\n",
       "    .dataframe tbody tr th:only-of-type {\n",
       "        vertical-align: middle;\n",
       "    }\n",
       "\n",
       "    .dataframe tbody tr th {\n",
       "        vertical-align: top;\n",
       "    }\n",
       "\n",
       "    .dataframe thead th {\n",
       "        text-align: right;\n",
       "    }\n",
       "</style>\n",
       "<table border=\"1\" class=\"dataframe\">\n",
       "  <thead>\n",
       "    <tr style=\"text-align: right;\">\n",
       "      <th></th>\n",
       "      <th>W0</th>\n",
       "      <th>v0</th>\n",
       "      <th>y</th>\n",
       "    </tr>\n",
       "  </thead>\n",
       "  <tbody>\n",
       "    <tr>\n",
       "      <th>0</th>\n",
       "      <td>0.575838</td>\n",
       "      <td>True</td>\n",
       "      <td>7.133607</td>\n",
       "    </tr>\n",
       "    <tr>\n",
       "      <th>1</th>\n",
       "      <td>1.095211</td>\n",
       "      <td>True</td>\n",
       "      <td>6.366922</td>\n",
       "    </tr>\n",
       "    <tr>\n",
       "      <th>2</th>\n",
       "      <td>-0.661489</td>\n",
       "      <td>False</td>\n",
       "      <td>-1.577362</td>\n",
       "    </tr>\n",
       "    <tr>\n",
       "      <th>3</th>\n",
       "      <td>-1.110238</td>\n",
       "      <td>False</td>\n",
       "      <td>-0.777604</td>\n",
       "    </tr>\n",
       "    <tr>\n",
       "      <th>4</th>\n",
       "      <td>0.637061</td>\n",
       "      <td>True</td>\n",
       "      <td>8.335881</td>\n",
       "    </tr>\n",
       "    <tr>\n",
       "      <th>...</th>\n",
       "      <td>...</td>\n",
       "      <td>...</td>\n",
       "      <td>...</td>\n",
       "    </tr>\n",
       "    <tr>\n",
       "      <th>995</th>\n",
       "      <td>-0.961203</td>\n",
       "      <td>False</td>\n",
       "      <td>-1.837391</td>\n",
       "    </tr>\n",
       "    <tr>\n",
       "      <th>996</th>\n",
       "      <td>0.455153</td>\n",
       "      <td>True</td>\n",
       "      <td>4.324899</td>\n",
       "    </tr>\n",
       "    <tr>\n",
       "      <th>997</th>\n",
       "      <td>-1.525638</td>\n",
       "      <td>False</td>\n",
       "      <td>-1.654191</td>\n",
       "    </tr>\n",
       "    <tr>\n",
       "      <th>998</th>\n",
       "      <td>0.112964</td>\n",
       "      <td>True</td>\n",
       "      <td>5.480000</td>\n",
       "    </tr>\n",
       "    <tr>\n",
       "      <th>999</th>\n",
       "      <td>-0.612563</td>\n",
       "      <td>False</td>\n",
       "      <td>1.329886</td>\n",
       "    </tr>\n",
       "  </tbody>\n",
       "</table>\n",
       "<p>1000 rows × 3 columns</p>\n",
       "</div>"
      ],
      "text/plain": [
       "           W0     v0         y\n",
       "0    0.575838   True  7.133607\n",
       "1    1.095211   True  6.366922\n",
       "2   -0.661489  False -1.577362\n",
       "3   -1.110238  False -0.777604\n",
       "4    0.637061   True  8.335881\n",
       "..        ...    ...       ...\n",
       "995 -0.961203  False -1.837391\n",
       "996  0.455153   True  4.324899\n",
       "997 -1.525638  False -1.654191\n",
       "998  0.112964   True  5.480000\n",
       "999 -0.612563  False  1.329886\n",
       "\n",
       "[1000 rows x 3 columns]"
      ]
     },
     "execution_count": 2,
     "metadata": {},
     "output_type": "execute_result"
    }
   ],
   "source": [
    "data = dowhy.datasets.linear_dataset(beta=5,\n",
    "        num_common_causes=1,\n",
    "        num_instruments = 0,\n",
    "        num_samples=1000,\n",
    "        treatment_is_binary=True)\n",
    "df = data['df']\n",
    "df['y'] = df['y'] + np.random.normal(size=len(df)) # Adding noise to data. Without noise, the variance in Y|X, Z is zero, and mcmc fails.\n",
    "#data['dot_graph'] = 'digraph { v ->y;X0-> v;X0-> y;}'\n",
    "\n",
    "treatment= data[\"treatment_name\"][0]\n",
    "outcome = data[\"outcome_name\"][0]\n",
    "common_cause = data[\"common_causes_names\"][0]\n",
    "df"
   ]
  },
  {
   "cell_type": "code",
   "execution_count": 3,
   "metadata": {
    "execution": {
     "iopub.execute_input": "2023-11-10T04:48:39.653308Z",
     "iopub.status.busy": "2023-11-10T04:48:39.652883Z",
     "iopub.status.idle": "2023-11-10T04:48:39.861675Z",
     "shell.execute_reply": "2023-11-10T04:48:39.860995Z"
    }
   },
   "outputs": [
    {
     "data": {
      "text/plain": [
       "<Axes: xlabel='v0'>"
      ]
     },
     "execution_count": 3,
     "metadata": {},
     "output_type": "execute_result"
    },
    {
     "data": {
      "image/png": "[encoded data removed]",
      "text/plain": [
       "<Figure size 640x480 with 1 Axes>"
      ]
     },
     "metadata": {},
     "output_type": "display_data"
    }
   ],
   "source": [
    "# data['df'] is just a regular pandas.DataFrame\n",
    "df.causal.do(x=treatment,\n",
    "                     variable_types={treatment: 'b', outcome: 'c', common_cause: 'c'},\n",
    "                     outcome=outcome,\n",
    "                     common_causes=[common_cause],\n",
    "                     proceed_when_unidentifiable=True).groupby(treatment).mean().plot(y=outcome, kind='bar')"
   ]
  },
  {
   "cell_type": "code",
   "execution_count": 4,
   "metadata": {
    "execution": {
     "iopub.execute_input": "2023-11-10T04:48:39.864719Z",
     "iopub.status.busy": "2023-11-10T04:48:39.864474Z",
     "iopub.status.idle": "2023-11-10T04:48:40.010904Z",
     "shell.execute_reply": "2023-11-10T04:48:40.010273Z"
    }
   },
   "outputs": [
    {
     "data": {
      "text/plain": [
       "<Axes: xlabel='v0'>"
      ]
     },
     "execution_count": 4,
     "metadata": {},
     "output_type": "execute_result"
    },
    {
     "data": {
      "image/png": "[encoded data removed]",
      "text/plain": [
       "<Figure size 640x480 with 1 Axes>"
      ]
     },
     "metadata": {},
     "output_type": "display_data"
    }
   ],
   "source": [
    "df.causal.do(x={treatment: 1}, \n",
    "              variable_types={treatment:'b', outcome: 'c', common_cause: 'c'}, \n",
    "              outcome=outcome,\n",
    "              method='weighting', \n",
    "              common_causes=[common_cause],\n",
    "              proceed_when_unidentifiable=True).groupby(treatment).mean().plot(y=outcome, kind='bar')"
   ]
  },
  {
   "cell_type": "code",
   "execution_count": 5,
   "metadata": {
    "execution": {
     "iopub.execute_input": "2023-11-10T04:48:40.014034Z",
     "iopub.status.busy": "2023-11-10T04:48:40.013639Z",
     "iopub.status.idle": "2023-11-10T04:48:40.049351Z",
     "shell.execute_reply": "2023-11-10T04:48:40.048678Z"
    }
   },
   "outputs": [],
   "source": [
    "cdf_1 = df.causal.do(x={treatment: 1}, \n",
    "              variable_types={treatment: 'b', outcome: 'c', common_cause: 'c'}, \n",
    "              outcome=outcome, \n",
    "              dot_graph=data['dot_graph'],\n",
    "              proceed_when_unidentifiable=True)\n",
    "\n",
    "cdf_0 = df.causal.do(x={treatment: 0}, \n",
    "              variable_types={treatment: 'b', outcome: 'c', common_cause: 'c'}, \n",
    "              outcome=outcome, \n",
    "              dot_graph=data['dot_graph'],\n",
    "              proceed_when_unidentifiable=True)\n"
   ]
  },
  {
   "cell_type": "code",
   "execution_count": 6,
   "metadata": {
    "execution": {
     "iopub.execute_input": "2023-11-10T04:48:40.053074Z",
     "iopub.status.busy": "2023-11-10T04:48:40.052826Z",
     "iopub.status.idle": "2023-11-10T04:48:40.063460Z",
     "shell.execute_reply": "2023-11-10T04:48:40.062932Z"
    },
    "scrolled": true
   },
   "outputs": [
    {
     "data": {
      "text/html": [
       "<div>\n",
       "<style scoped>\n",
       "    .dataframe tbody tr th:only-of-type {\n",
       "        vertical-align: middle;\n",
       "    }\n",
       "\n",
       "    .dataframe tbody tr th {\n",
       "        vertical-align: top;\n",
       "    }\n",
       "\n",
       "    .dataframe thead th {\n",
       "        text-align: right;\n",
       "    }\n",
       "</style>\n",
       "<table border=\"1\" class=\"dataframe\">\n",
       "  <thead>\n",
       "    <tr style=\"text-align: right;\">\n",
       "      <th></th>\n",
       "      <th>W0</th>\n",
       "      <th>v0</th>\n",
       "      <th>y</th>\n",
       "      <th>propensity_score</th>\n",
       "      <th>weight</th>\n",
       "    </tr>\n",
       "  </thead>\n",
       "  <tbody>\n",
       "    <tr>\n",
       "      <th>0</th>\n",
       "      <td>-0.474157</td>\n",
       "      <td>False</td>\n",
       "      <td>-0.415061</td>\n",
       "      <td>0.775683</td>\n",
       "      <td>1.289187</td>\n",
       "    </tr>\n",
       "    <tr>\n",
       "      <th>1</th>\n",
       "      <td>0.105259</td>\n",
       "      <td>False</td>\n",
       "      <td>0.315129</td>\n",
       "      <td>0.457299</td>\n",
       "      <td>2.186752</td>\n",
       "    </tr>\n",
       "    <tr>\n",
       "      <th>2</th>\n",
       "      <td>0.052347</td>\n",
       "      <td>False</td>\n",
       "      <td>1.093853</td>\n",
       "      <td>0.489430</td>\n",
       "      <td>2.043192</td>\n",
       "    </tr>\n",
       "    <tr>\n",
       "      <th>3</th>\n",
       "      <td>-0.282519</td>\n",
       "      <td>False</td>\n",
       "      <td>0.404985</td>\n",
       "      <td>0.684322</td>\n",
       "      <td>1.461301</td>\n",
       "    </tr>\n",
       "    <tr>\n",
       "      <th>4</th>\n",
       "      <td>0.295598</td>\n",
       "      <td>False</td>\n",
       "      <td>1.069823</td>\n",
       "      <td>0.346370</td>\n",
       "      <td>2.887083</td>\n",
       "    </tr>\n",
       "    <tr>\n",
       "      <th>...</th>\n",
       "      <td>...</td>\n",
       "      <td>...</td>\n",
       "      <td>...</td>\n",
       "      <td>...</td>\n",
       "      <td>...</td>\n",
       "    </tr>\n",
       "    <tr>\n",
       "      <th>995</th>\n",
       "      <td>-0.361452</td>\n",
       "      <td>False</td>\n",
       "      <td>-0.299772</td>\n",
       "      <td>0.724331</td>\n",
       "      <td>1.380584</td>\n",
       "    </tr>\n",
       "    <tr>\n",
       "      <th>996</th>\n",
       "      <td>0.110862</td>\n",
       "      <td>False</td>\n",
       "      <td>0.339938</td>\n",
       "      <td>0.453913</td>\n",
       "      <td>2.203065</td>\n",
       "    </tr>\n",
       "    <tr>\n",
       "      <th>997</th>\n",
       "      <td>0.935836</td>\n",
       "      <td>False</td>\n",
       "      <td>0.059632</td>\n",
       "      <td>0.100187</td>\n",
       "      <td>9.981292</td>\n",
       "    </tr>\n",
       "    <tr>\n",
       "      <th>998</th>\n",
       "      <td>-0.130305</td>\n",
       "      <td>False</td>\n",
       "      <td>-0.417718</td>\n",
       "      <td>0.599359</td>\n",
       "      <td>1.668450</td>\n",
       "    </tr>\n",
       "    <tr>\n",
       "      <th>999</th>\n",
       "      <td>0.378119</td>\n",
       "      <td>False</td>\n",
       "      <td>0.603599</td>\n",
       "      <td>0.302353</td>\n",
       "      <td>3.307388</td>\n",
       "    </tr>\n",
       "  </tbody>\n",
       "</table>\n",
       "<p>1000 rows × 5 columns</p>\n",
       "</div>"
      ],
      "text/plain": [
       "           W0     v0         y  propensity_score    weight\n",
       "0   -0.474157  False -0.415061          0.775683  1.289187\n",
       "1    0.105259  False  0.315129          0.457299  2.186752\n",
       "2    0.052347  False  1.093853          0.489430  2.043192\n",
       "3   -0.282519  False  0.404985          0.684322  1.461301\n",
       "4    0.295598  False  1.069823          0.346370  2.887083\n",
       "..        ...    ...       ...               ...       ...\n",
       "995 -0.361452  False -0.299772          0.724331  1.380584\n",
       "996  0.110862  False  0.339938          0.453913  2.203065\n",
       "997  0.935836  False  0.059632          0.100187  9.981292\n",
       "998 -0.130305  False -0.417718          0.599359  1.668450\n",
       "999  0.378119  False  0.603599          0.302353  3.307388\n",
       "\n",
       "[1000 rows x 5 columns]"
      ]
     },
     "execution_count": 6,
     "metadata": {},
     "output_type": "execute_result"
    }
   ],
   "source": [
    "cdf_0"
   ]
  },
  {
   "cell_type": "code",
   "execution_count": 7,
   "metadata": {
    "execution": {
     "iopub.execute_input": "2023-11-10T04:48:40.066410Z",
     "iopub.status.busy": "2023-11-10T04:48:40.065969Z",
     "iopub.status.idle": "2023-11-10T04:48:40.075979Z",
     "shell.execute_reply": "2023-11-10T04:48:40.075454Z"
    }
   },
   "outputs": [
    {
     "data": {
      "text/html": [
       "<div>\n",
       "<style scoped>\n",
       "    .dataframe tbody tr th:only-of-type {\n",
       "        vertical-align: middle;\n",
       "    }\n",
       "\n",
       "    .dataframe tbody tr th {\n",
       "        vertical-align: top;\n",
       "    }\n",
       "\n",
       "    .dataframe thead th {\n",
       "        text-align: right;\n",
       "    }\n",
       "</style>\n",
       "<table border=\"1\" class=\"dataframe\">\n",
       "  <thead>\n",
       "    <tr style=\"text-align: right;\">\n",
       "      <th></th>\n",
       "      <th>W0</th>\n",
       "      <th>v0</th>\n",
       "      <th>y</th>\n",
       "      <th>propensity_score</th>\n",
       "      <th>weight</th>\n",
       "    </tr>\n",
       "  </thead>\n",
       "  <tbody>\n",
       "    <tr>\n",
       "      <th>0</th>\n",
       "      <td>0.589762</td>\n",
       "      <td>True</td>\n",
       "      <td>4.315394</td>\n",
       "      <td>0.794430</td>\n",
       "      <td>1.258763</td>\n",
       "    </tr>\n",
       "    <tr>\n",
       "      <th>1</th>\n",
       "      <td>-1.451635</td>\n",
       "      <td>True</td>\n",
       "      <td>2.201894</td>\n",
       "      <td>0.026019</td>\n",
       "      <td>38.433648</td>\n",
       "    </tr>\n",
       "    <tr>\n",
       "      <th>2</th>\n",
       "      <td>0.439846</td>\n",
       "      <td>True</td>\n",
       "      <td>6.291601</td>\n",
       "      <td>0.728402</td>\n",
       "      <td>1.372868</td>\n",
       "    </tr>\n",
       "    <tr>\n",
       "      <th>3</th>\n",
       "      <td>-1.451635</td>\n",
       "      <td>True</td>\n",
       "      <td>2.201894</td>\n",
       "      <td>0.026019</td>\n",
       "      <td>38.433648</td>\n",
       "    </tr>\n",
       "    <tr>\n",
       "      <th>4</th>\n",
       "      <td>-0.183119</td>\n",
       "      <td>True</td>\n",
       "      <td>4.243337</td>\n",
       "      <td>0.370169</td>\n",
       "      <td>2.701466</td>\n",
       "    </tr>\n",
       "    <tr>\n",
       "      <th>...</th>\n",
       "      <td>...</td>\n",
       "      <td>...</td>\n",
       "      <td>...</td>\n",
       "      <td>...</td>\n",
       "      <td>...</td>\n",
       "    </tr>\n",
       "    <tr>\n",
       "      <th>995</th>\n",
       "      <td>-1.667584</td>\n",
       "      <td>True</td>\n",
       "      <td>3.431964</td>\n",
       "      <td>0.015538</td>\n",
       "      <td>64.357121</td>\n",
       "    </tr>\n",
       "    <tr>\n",
       "      <th>996</th>\n",
       "      <td>-0.638213</td>\n",
       "      <td>True</td>\n",
       "      <td>4.653457</td>\n",
       "      <td>0.162404</td>\n",
       "      <td>6.157484</td>\n",
       "    </tr>\n",
       "    <tr>\n",
       "      <th>997</th>\n",
       "      <td>-0.470002</td>\n",
       "      <td>True</td>\n",
       "      <td>4.724319</td>\n",
       "      <td>0.226084</td>\n",
       "      <td>4.423135</td>\n",
       "    </tr>\n",
       "    <tr>\n",
       "      <th>998</th>\n",
       "      <td>0.284855</td>\n",
       "      <td>True</td>\n",
       "      <td>5.069030</td>\n",
       "      <td>0.647679</td>\n",
       "      <td>1.543974</td>\n",
       "    </tr>\n",
       "    <tr>\n",
       "      <th>999</th>\n",
       "      <td>-1.667584</td>\n",
       "      <td>True</td>\n",
       "      <td>3.431964</td>\n",
       "      <td>0.015538</td>\n",
       "      <td>64.357121</td>\n",
       "    </tr>\n",
       "  </tbody>\n",
       "</table>\n",
       "<p>1000 rows × 5 columns</p>\n",
       "</div>"
      ],
      "text/plain": [
       "           W0    v0         y  propensity_score     weight\n",
       "0    0.589762  True  4.315394          0.794430   1.258763\n",
       "1   -1.451635  True  2.201894          0.026019  38.433648\n",
       "2    0.439846  True  6.291601          0.728402   1.372868\n",
       "3   -1.451635  True  2.201894          0.026019  38.433648\n",
       "4   -0.183119  True  4.243337          0.370169   2.701466\n",
       "..        ...   ...       ...               ...        ...\n",
       "995 -1.667584  True  3.431964          0.015538  64.357121\n",
       "996 -0.638213  True  4.653457          0.162404   6.157484\n",
       "997 -0.470002  True  4.724319          0.226084   4.423135\n",
       "998  0.284855  True  5.069030          0.647679   1.543974\n",
       "999 -1.667584  True  3.431964          0.015538  64.357121\n",
       "\n",
       "[1000 rows x 5 columns]"
      ]
     },
     "execution_count": 7,
     "metadata": {},
     "output_type": "execute_result"
    }
   ],
   "source": [
    "cdf_1"
   ]
  },
  {
   "cell_type": "markdown",
   "metadata": {},
   "source": [
    "## Comparing the estimate to Linear Regression\n",
    "First, estimating the effect using the causal data frame, and the 95% confidence interval."
   ]
  },
  {
   "cell_type": "code",
   "execution_count": 8,
   "metadata": {
    "execution": {
     "iopub.execute_input": "2023-11-10T04:48:40.078829Z",
     "iopub.status.busy": "2023-11-10T04:48:40.078395Z",
     "iopub.status.idle": "2023-11-10T04:48:40.138731Z",
     "shell.execute_reply": "2023-11-10T04:48:40.138081Z"
    }
   },
   "outputs": [
    {
     "data": {
      "image/png": "[encoded data removed]",
      "text/latex": [
       "$\\displaystyle 5.1314473032105$"
      ],
      "text/plain": [
       "5.1314473032105"
      ]
     },
     "execution_count": 8,
     "metadata": {},
     "output_type": "execute_result"
    }
   ],
   "source": [
    "(cdf_1['y'] - cdf_0['y']).mean()"
   ]
  },
  {
   "cell_type": "code",
   "execution_count": 9,
   "metadata": {
    "execution": {
     "iopub.execute_input": "2023-11-10T04:48:40.142165Z",
     "iopub.status.busy": "2023-11-10T04:48:40.141584Z",
     "iopub.status.idle": "2023-11-10T04:48:40.164094Z",
     "shell.execute_reply": "2023-11-10T04:48:40.163485Z"
    }
   },
   "outputs": [
    {
     "data": {
      "image/png": "[encoded data removed]",
      "text/latex": [
       "$\\displaystyle 0.134719597402961$"
      ],
      "text/plain": [
       "0.13471959740296105"
      ]
     },
     "execution_count": 9,
     "metadata": {},
     "output_type": "execute_result"
    }
   ],
   "source": [
    "1.96*(cdf_1['y'] - cdf_0['y']).std() / np.sqrt(len(df))"
   ]
  },
  {
   "cell_type": "markdown",
   "metadata": {},
   "source": [
    "Comparing to the estimate from OLS."
   ]
  },
  {
   "cell_type": "code",
   "execution_count": 10,
   "metadata": {
    "execution": {
     "iopub.execute_input": "2023-11-10T04:48:40.167162Z",
     "iopub.status.busy": "2023-11-10T04:48:40.166606Z",
     "iopub.status.idle": "2023-11-10T04:48:40.189533Z",
     "shell.execute_reply": "2023-11-10T04:48:40.188895Z"
    }
   },
   "outputs": [
    {
     "data": {
      "text/html": [
       "<table class=\"simpletable\">\n",
       "<caption>OLS Regression Results</caption>\n",
       "<tr>\n",
       "  <th>Dep. Variable:</th>            <td>y</td>        <th>  R-squared (uncentered):</th>      <td>   0.945</td>\n",
       "</tr>\n",
       "<tr>\n",
       "  <th>Model:</th>                   <td>OLS</td>       <th>  Adj. R-squared (uncentered):</th> <td>   0.944</td>\n",
       "</tr>\n",
       "<tr>\n",
       "  <th>Method:</th>             <td>Least Squares</td>  <th>  F-statistic:       </th>          <td>   8498.</td>\n",
       "</tr>\n",
       "<tr>\n",
       "  <th>Date:</th>             <td>Fri, 10 Nov 2023</td> <th>  Prob (F-statistic):</th>           <td>  0.00</td> \n",
       "</tr>\n",
       "<tr>\n",
       "  <th>Time:</th>                 <td>04:48:40</td>     <th>  Log-Likelihood:    </th>          <td> -1410.9</td>\n",
       "</tr>\n",
       "<tr>\n",
       "  <th>No. Observations:</th>      <td>  1000</td>      <th>  AIC:               </th>          <td>   2826.</td>\n",
       "</tr>\n",
       "<tr>\n",
       "  <th>Df Residuals:</th>          <td>   998</td>      <th>  BIC:               </th>          <td>   2836.</td>\n",
       "</tr>\n",
       "<tr>\n",
       "  <th>Df Model:</th>              <td>     2</td>      <th>                     </th>              <td> </td>   \n",
       "</tr>\n",
       "<tr>\n",
       "  <th>Covariance Type:</th>      <td>nonrobust</td>    <th>                     </th>              <td> </td>   \n",
       "</tr>\n",
       "</table>\n",
       "<table class=\"simpletable\">\n",
       "<tr>\n",
       "   <td></td>     <th>coef</th>     <th>std err</th>      <th>t</th>      <th>P>|t|</th>  <th>[0.025</th>    <th>0.975]</th>  \n",
       "</tr>\n",
       "<tr>\n",
       "  <th>x1</th> <td>    1.2847</td> <td>    0.035</td> <td>   36.566</td> <td> 0.000</td> <td>    1.216</td> <td>    1.354</td>\n",
       "</tr>\n",
       "<tr>\n",
       "  <th>x2</th> <td>    4.9852</td> <td>    0.051</td> <td>   98.528</td> <td> 0.000</td> <td>    4.886</td> <td>    5.084</td>\n",
       "</tr>\n",
       "</table>\n",
       "<table class=\"simpletable\">\n",
       "<tr>\n",
       "  <th>Omnibus:</th>       <td> 1.943</td> <th>  Durbin-Watson:     </th> <td>   2.177</td>\n",
       "</tr>\n",
       "<tr>\n",
       "  <th>Prob(Omnibus):</th> <td> 0.378</td> <th>  Jarque-Bera (JB):  </th> <td>   1.874</td>\n",
       "</tr>\n",
       "<tr>\n",
       "  <th>Skew:</th>          <td>-0.050</td> <th>  Prob(JB):          </th> <td>   0.392</td>\n",
       "</tr>\n",
       "<tr>\n",
       "  <th>Kurtosis:</th>      <td> 3.187</td> <th>  Cond. No.          </th> <td>    1.79</td>\n",
       "</tr>\n",
       "</table><br/><br/>Notes:<br/>[1] R² is computed without centering (uncentered) since the model does not contain a constant.<br/>[2] Standard Errors assume that the covariance matrix of the errors is correctly specified."
      ],
      "text/latex": [
       "\\begin{center}\n",
       "\\begin{tabular}{lclc}\n",
       "\\toprule\n",
       "\\textbf{Dep. Variable:}    &        y         & \\textbf{  R-squared (uncentered):}      &     0.945   \\\\\n",
       "\\textbf{Model:}            &       OLS        & \\textbf{  Adj. R-squared (uncentered):} &     0.944   \\\\\n",
       "\\textbf{Method:}           &  Least Squares   & \\textbf{  F-statistic:       }          &     8498.   \\\\\n",
       "\\textbf{Date:}             & Fri, 10 Nov 2023 & \\textbf{  Prob (F-statistic):}          &     0.00    \\\\\n",
       "\\textbf{Time:}             &     04:48:40     & \\textbf{  Log-Likelihood:    }          &   -1410.9   \\\\\n",
       "\\textbf{No. Observations:} &        1000      & \\textbf{  AIC:               }          &     2826.   \\\\\n",
       "\\textbf{Df Residuals:}     &         998      & \\textbf{  BIC:               }          &     2836.   \\\\\n",
       "\\textbf{Df Model:}         &           2      & \\textbf{                     }          &             \\\\\n",
       "\\textbf{Covariance Type:}  &    nonrobust     & \\textbf{                     }          &             \\\\\n",
       "\\bottomrule\n",
       "\\end{tabular}\n",
       "\\begin{tabular}{lcccccc}\n",
       "            & \\textbf{coef} & \\textbf{std err} & \\textbf{t} & \\textbf{P$> |$t$|$} & \\textbf{[0.025} & \\textbf{0.975]}  \\\\\n",
       "\\midrule\n",
       "\\textbf{x1} &       1.2847  &        0.035     &    36.566  &         0.000        &        1.216    &        1.354     \\\\\n",
       "\\textbf{x2} &       4.9852  &        0.051     &    98.528  &         0.000        &        4.886    &        5.084     \\\\\n",
       "\\bottomrule\n",
       "\\end{tabular}\n",
       "\\begin{tabular}{lclc}\n",
       "\\textbf{Omnibus:}       &  1.943 & \\textbf{  Durbin-Watson:     } &    2.177  \\\\\n",
       "\\textbf{Prob(Omnibus):} &  0.378 & \\textbf{  Jarque-Bera (JB):  } &    1.874  \\\\\n",
       "\\textbf{Skew:}          & -0.050 & \\textbf{  Prob(JB):          } &    0.392  \\\\\n",
       "\\textbf{Kurtosis:}      &  3.187 & \\textbf{  Cond. No.          } &     1.79  \\\\\n",
       "\\bottomrule\n",
       "\\end{tabular}\n",
       "%\\caption{OLS Regression Results}\n",
       "\\end{center}\n",
       "\n",
       "Notes: \\newline\n",
       " [1] R² is computed without centering (uncentered) since the model does not contain a constant. \\newline\n",
       " [2] Standard Errors assume that the covariance matrix of the errors is correctly specified."
      ],
      "text/plain": [
       "<class 'statsmodels.iolib.summary.Summary'>\n",
       "\"\"\"\n",
       "                                 OLS Regression Results                                \n",
       "=======================================================================================\n",
       "Dep. Variable:                      y   R-squared (uncentered):                   0.945\n",
       "Model:                            OLS   Adj. R-squared (uncentered):              0.944\n",
       "Method:                 Least Squares   F-statistic:                              8498.\n",
       "Date:                Fri, 10 Nov 2023   Prob (F-statistic):                        0.00\n",
       "Time:                        04:48:40   Log-Likelihood:                         -1410.9\n",
       "No. Observations:                1000   AIC:                                      2826.\n",
       "Df Residuals:                     998   BIC:                                      2836.\n",
       "Df Model:                           2                                                  \n",
       "Covariance Type:            nonrobust                                                  \n",
       "==============================================================================\n",
       "                 coef    std err          t      P>|t|      [0.025      0.975]\n",
       "------------------------------------------------------------------------------\n",
       "x1             1.2847      0.035     36.566      0.000       1.216       1.354\n",
       "x2             4.9852      0.051     98.528      0.000       4.886       5.084\n",
       "==============================================================================\n",
       "Omnibus:                        1.943   Durbin-Watson:                   2.177\n",
       "Prob(Omnibus):                  0.378   Jarque-Bera (JB):                1.874\n",
       "Skew:                          -0.050   Prob(JB):                        0.392\n",
       "Kurtosis:                       3.187   Cond. No.                         1.79\n",
       "==============================================================================\n",
       "\n",
       "Notes:\n",
       "[1] R² is computed without centering (uncentered) since the model does not contain a constant.\n",
       "[2] Standard Errors assume that the covariance matrix of the errors is correctly specified.\n",
       "\"\"\""
      ]
     },
     "execution_count": 10,
     "metadata": {},
     "output_type": "execute_result"
    }
   ],
   "source": [
    "model = OLS(np.asarray(df[outcome]), np.asarray(df[[common_cause, treatment]], dtype=np.float64))\n",
    "result = model.fit()\n",
    "result.summary()"
   ]
  }
 ],
 "metadata": {
  "kernelspec": {
   "display_name": "Python 3",
   "language": "python",
   "name": "python3"
  },
  "language_info": {
   "codemirror_mode": {
    "name": "ipython",
    "version": 3
   },
   "file_extension": ".py",
   "mimetype": "text/x-python",
   "name": "python",
   "nbconvert_exporter": "python",
   "pygments_lexer": "ipython3",
   "version": "3.8.10"
  },
  "toc": {
   "base_numbering": 1,
   "nav_menu": {},
   "number_sections": false,
   "sideBar": true,
   "skip_h1_title": true,
   "title_cell": "Table of Contents",
   "title_sidebar": "Contents",
   "toc_cell": false,
   "toc_position": {},
   "toc_section_display": true,
   "toc_window_display": false
  }
 },
 "nbformat": 4,
 "nbformat_minor": 4
}
