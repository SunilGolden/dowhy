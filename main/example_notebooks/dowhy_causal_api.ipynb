{
 "cells": [
  {
   "cell_type": "markdown",
   "metadata": {},
   "source": [
    "# Demo for the DoWhy causal API\n",
    "We show a simple example of adding a causal extension to any dataframe. "
   ]
  },
  {
   "cell_type": "code",
   "execution_count": 1,
   "metadata": {
    "execution": {
     "iopub.execute_input": "2023-12-03T08:18:36.442514Z",
     "iopub.status.busy": "2023-12-03T08:18:36.442119Z",
     "iopub.status.idle": "2023-12-03T08:18:37.781550Z",
     "shell.execute_reply": "2023-12-03T08:18:37.780903Z"
    }
   },
   "outputs": [],
   "source": [
    "import dowhy.datasets\n",
    "import dowhy.api\n",
    "from dowhy.graph import build_graph_from_str\n",
    "\n",
    "import numpy as np\n",
    "import pandas as pd\n",
    "\n",
    "from statsmodels.api import OLS"
   ]
  },
  {
   "cell_type": "code",
   "execution_count": 2,
   "metadata": {
    "execution": {
     "iopub.execute_input": "2023-12-03T08:18:37.784350Z",
     "iopub.status.busy": "2023-12-03T08:18:37.783873Z",
     "iopub.status.idle": "2023-12-03T08:18:37.819740Z",
     "shell.execute_reply": "2023-12-03T08:18:37.819133Z"
    }
   },
   "outputs": [
    {
     "data": {
      "text/html": [
       "<div>\n",
       "<style scoped>\n",
       "    .dataframe tbody tr th:only-of-type {\n",
       "        vertical-align: middle;\n",
       "    }\n",
       "\n",
       "    .dataframe tbody tr th {\n",
       "        vertical-align: top;\n",
       "    }\n",
       "\n",
       "    .dataframe thead th {\n",
       "        text-align: right;\n",
       "    }\n",
       "</style>\n",
       "<table border=\"1\" class=\"dataframe\">\n",
       "  <thead>\n",
       "    <tr style=\"text-align: right;\">\n",
       "      <th></th>\n",
       "      <th>W0</th>\n",
       "      <th>v0</th>\n",
       "      <th>y</th>\n",
       "    </tr>\n",
       "  </thead>\n",
       "  <tbody>\n",
       "    <tr>\n",
       "      <th>0</th>\n",
       "      <td>-0.058288</td>\n",
       "      <td>True</td>\n",
       "      <td>4.297665</td>\n",
       "    </tr>\n",
       "    <tr>\n",
       "      <th>1</th>\n",
       "      <td>0.786188</td>\n",
       "      <td>True</td>\n",
       "      <td>5.838244</td>\n",
       "    </tr>\n",
       "    <tr>\n",
       "      <th>2</th>\n",
       "      <td>-0.019077</td>\n",
       "      <td>False</td>\n",
       "      <td>-0.303273</td>\n",
       "    </tr>\n",
       "    <tr>\n",
       "      <th>3</th>\n",
       "      <td>0.802608</td>\n",
       "      <td>True</td>\n",
       "      <td>3.355919</td>\n",
       "    </tr>\n",
       "    <tr>\n",
       "      <th>4</th>\n",
       "      <td>-0.588180</td>\n",
       "      <td>False</td>\n",
       "      <td>-0.374269</td>\n",
       "    </tr>\n",
       "    <tr>\n",
       "      <th>...</th>\n",
       "      <td>...</td>\n",
       "      <td>...</td>\n",
       "      <td>...</td>\n",
       "    </tr>\n",
       "    <tr>\n",
       "      <th>995</th>\n",
       "      <td>-0.612186</td>\n",
       "      <td>False</td>\n",
       "      <td>0.315576</td>\n",
       "    </tr>\n",
       "    <tr>\n",
       "      <th>996</th>\n",
       "      <td>1.369850</td>\n",
       "      <td>True</td>\n",
       "      <td>4.745432</td>\n",
       "    </tr>\n",
       "    <tr>\n",
       "      <th>997</th>\n",
       "      <td>0.484971</td>\n",
       "      <td>True</td>\n",
       "      <td>5.182378</td>\n",
       "    </tr>\n",
       "    <tr>\n",
       "      <th>998</th>\n",
       "      <td>0.233203</td>\n",
       "      <td>False</td>\n",
       "      <td>-1.571705</td>\n",
       "    </tr>\n",
       "    <tr>\n",
       "      <th>999</th>\n",
       "      <td>-0.513476</td>\n",
       "      <td>False</td>\n",
       "      <td>0.720264</td>\n",
       "    </tr>\n",
       "  </tbody>\n",
       "</table>\n",
       "<p>1000 rows × 3 columns</p>\n",
       "</div>"
      ],
      "text/plain": [
       "           W0     v0         y\n",
       "0   -0.058288   True  4.297665\n",
       "1    0.786188   True  5.838244\n",
       "2   -0.019077  False -0.303273\n",
       "3    0.802608   True  3.355919\n",
       "4   -0.588180  False -0.374269\n",
       "..        ...    ...       ...\n",
       "995 -0.612186  False  0.315576\n",
       "996  1.369850   True  4.745432\n",
       "997  0.484971   True  5.182378\n",
       "998  0.233203  False -1.571705\n",
       "999 -0.513476  False  0.720264\n",
       "\n",
       "[1000 rows x 3 columns]"
      ]
     },
     "execution_count": 2,
     "metadata": {},
     "output_type": "execute_result"
    }
   ],
   "source": [
    "data = dowhy.datasets.linear_dataset(beta=5,\n",
    "        num_common_causes=1,\n",
    "        num_instruments = 0,\n",
    "        num_samples=1000,\n",
    "        treatment_is_binary=True)\n",
    "df = data['df']\n",
    "df['y'] = df['y'] + np.random.normal(size=len(df)) # Adding noise to data. Without noise, the variance in Y|X, Z is zero, and mcmc fails.\n",
    "nx_graph = build_graph_from_str(data[\"dot_graph\"])\n",
    "\n",
    "treatment= data[\"treatment_name\"][0]\n",
    "outcome = data[\"outcome_name\"][0]\n",
    "common_cause = data[\"common_causes_names\"][0]\n",
    "df"
   ]
  },
  {
   "cell_type": "code",
   "execution_count": 3,
   "metadata": {
    "execution": {
     "iopub.execute_input": "2023-12-03T08:18:37.821890Z",
     "iopub.status.busy": "2023-12-03T08:18:37.821613Z",
     "iopub.status.idle": "2023-12-03T08:18:37.998107Z",
     "shell.execute_reply": "2023-12-03T08:18:37.997339Z"
    },
    "scrolled": true
   },
   "outputs": [
    {
     "data": {
      "text/plain": [
       "<Axes: xlabel='v0'>"
      ]
     },
     "execution_count": 3,
     "metadata": {},
     "output_type": "execute_result"
    },
    {
     "data": {
      "image/png": "[encoded data removed]",
      "text/plain": [
       "<Figure size 640x480 with 1 Axes>"
      ]
     },
     "metadata": {},
     "output_type": "display_data"
    }
   ],
   "source": [
    "# data['df'] is just a regular pandas.DataFrame\n",
    "df.causal.do(x=treatment,\n",
    "             variable_types={treatment: 'b', outcome: 'c', common_cause: 'c'},\n",
    "             outcome=outcome,\n",
    "             common_causes=[common_cause],\n",
    "            ).groupby(treatment).mean().plot(y=outcome, kind='bar')"
   ]
  },
  {
   "cell_type": "code",
   "execution_count": 4,
   "metadata": {
    "execution": {
     "iopub.execute_input": "2023-12-03T08:18:38.000784Z",
     "iopub.status.busy": "2023-12-03T08:18:38.000439Z",
     "iopub.status.idle": "2023-12-03T08:18:38.130077Z",
     "shell.execute_reply": "2023-12-03T08:18:38.129520Z"
    }
   },
   "outputs": [
    {
     "data": {
      "text/plain": [
       "<Axes: xlabel='v0'>"
      ]
     },
     "execution_count": 4,
     "metadata": {},
     "output_type": "execute_result"
    },
    {
     "data": {
      "image/png": "[encoded data removed]",
      "text/plain": [
       "<Figure size 640x480 with 1 Axes>"
      ]
     },
     "metadata": {},
     "output_type": "display_data"
    }
   ],
   "source": [
    "df.causal.do(x={treatment: 1}, \n",
    "              variable_types={treatment:'b', outcome: 'c', common_cause: 'c'}, \n",
    "              outcome=outcome,\n",
    "              method='weighting', \n",
    "              common_causes=[common_cause]\n",
    "              ).groupby(treatment).mean().plot(y=outcome, kind='bar')"
   ]
  },
  {
   "cell_type": "code",
   "execution_count": 5,
   "metadata": {
    "execution": {
     "iopub.execute_input": "2023-12-03T08:18:38.132828Z",
     "iopub.status.busy": "2023-12-03T08:18:38.132494Z",
     "iopub.status.idle": "2023-12-03T08:18:38.152433Z",
     "shell.execute_reply": "2023-12-03T08:18:38.151986Z"
    }
   },
   "outputs": [],
   "source": [
    "cdf_1 = df.causal.do(x={treatment: 1}, \n",
    "              variable_types={treatment: 'b', outcome: 'c', common_cause: 'c'}, \n",
    "              outcome=outcome, \n",
    "              graph=nx_graph\n",
    "              )\n",
    "\n",
    "cdf_0 = df.causal.do(x={treatment: 0}, \n",
    "              variable_types={treatment: 'b', outcome: 'c', common_cause: 'c'}, \n",
    "              outcome=outcome, \n",
    "              graph=nx_graph\n",
    "              )\n"
   ]
  },
  {
   "cell_type": "code",
   "execution_count": 6,
   "metadata": {
    "execution": {
     "iopub.execute_input": "2023-12-03T08:18:38.154646Z",
     "iopub.status.busy": "2023-12-03T08:18:38.154380Z",
     "iopub.status.idle": "2023-12-03T08:18:38.162445Z",
     "shell.execute_reply": "2023-12-03T08:18:38.161945Z"
    },
    "scrolled": true
   },
   "outputs": [
    {
     "data": {
      "text/html": [
       "<div>\n",
       "<style scoped>\n",
       "    .dataframe tbody tr th:only-of-type {\n",
       "        vertical-align: middle;\n",
       "    }\n",
       "\n",
       "    .dataframe tbody tr th {\n",
       "        vertical-align: top;\n",
       "    }\n",
       "\n",
       "    .dataframe thead th {\n",
       "        text-align: right;\n",
       "    }\n",
       "</style>\n",
       "<table border=\"1\" class=\"dataframe\">\n",
       "  <thead>\n",
       "    <tr style=\"text-align: right;\">\n",
       "      <th></th>\n",
       "      <th>W0</th>\n",
       "      <th>v0</th>\n",
       "      <th>y</th>\n",
       "      <th>propensity_score</th>\n",
       "      <th>weight</th>\n",
       "    </tr>\n",
       "  </thead>\n",
       "  <tbody>\n",
       "    <tr>\n",
       "      <th>0</th>\n",
       "      <td>-0.245639</td>\n",
       "      <td>False</td>\n",
       "      <td>-0.154512</td>\n",
       "      <td>0.647719</td>\n",
       "      <td>1.543880</td>\n",
       "    </tr>\n",
       "    <tr>\n",
       "      <th>1</th>\n",
       "      <td>2.354387</td>\n",
       "      <td>False</td>\n",
       "      <td>0.277032</td>\n",
       "      <td>0.019896</td>\n",
       "      <td>50.261961</td>\n",
       "    </tr>\n",
       "    <tr>\n",
       "      <th>2</th>\n",
       "      <td>0.282701</td>\n",
       "      <td>False</td>\n",
       "      <td>0.103917</td>\n",
       "      <td>0.423932</td>\n",
       "      <td>2.358871</td>\n",
       "    </tr>\n",
       "    <tr>\n",
       "      <th>3</th>\n",
       "      <td>1.365442</td>\n",
       "      <td>False</td>\n",
       "      <td>0.922272</td>\n",
       "      <td>0.101271</td>\n",
       "      <td>9.874517</td>\n",
       "    </tr>\n",
       "    <tr>\n",
       "      <th>4</th>\n",
       "      <td>0.541837</td>\n",
       "      <td>False</td>\n",
       "      <td>-0.160934</td>\n",
       "      <td>0.319565</td>\n",
       "      <td>3.129251</td>\n",
       "    </tr>\n",
       "    <tr>\n",
       "      <th>...</th>\n",
       "      <td>...</td>\n",
       "      <td>...</td>\n",
       "      <td>...</td>\n",
       "      <td>...</td>\n",
       "      <td>...</td>\n",
       "    </tr>\n",
       "    <tr>\n",
       "      <th>995</th>\n",
       "      <td>0.742197</td>\n",
       "      <td>False</td>\n",
       "      <td>-1.031874</td>\n",
       "      <td>0.249174</td>\n",
       "      <td>4.013253</td>\n",
       "    </tr>\n",
       "    <tr>\n",
       "      <th>996</th>\n",
       "      <td>0.486432</td>\n",
       "      <td>False</td>\n",
       "      <td>0.944899</td>\n",
       "      <td>0.340796</td>\n",
       "      <td>2.934303</td>\n",
       "    </tr>\n",
       "    <tr>\n",
       "      <th>997</th>\n",
       "      <td>-0.782919</td>\n",
       "      <td>False</td>\n",
       "      <td>-0.122438</td>\n",
       "      <td>0.823494</td>\n",
       "      <td>1.214338</td>\n",
       "    </tr>\n",
       "    <tr>\n",
       "      <th>998</th>\n",
       "      <td>0.908682</td>\n",
       "      <td>False</td>\n",
       "      <td>0.299059</td>\n",
       "      <td>0.199159</td>\n",
       "      <td>5.021120</td>\n",
       "    </tr>\n",
       "    <tr>\n",
       "      <th>999</th>\n",
       "      <td>-0.293656</td>\n",
       "      <td>False</td>\n",
       "      <td>-1.308570</td>\n",
       "      <td>0.666467</td>\n",
       "      <td>1.500450</td>\n",
       "    </tr>\n",
       "  </tbody>\n",
       "</table>\n",
       "<p>1000 rows × 5 columns</p>\n",
       "</div>"
      ],
      "text/plain": [
       "           W0     v0         y  propensity_score     weight\n",
       "0   -0.245639  False -0.154512          0.647719   1.543880\n",
       "1    2.354387  False  0.277032          0.019896  50.261961\n",
       "2    0.282701  False  0.103917          0.423932   2.358871\n",
       "3    1.365442  False  0.922272          0.101271   9.874517\n",
       "4    0.541837  False -0.160934          0.319565   3.129251\n",
       "..        ...    ...       ...               ...        ...\n",
       "995  0.742197  False -1.031874          0.249174   4.013253\n",
       "996  0.486432  False  0.944899          0.340796   2.934303\n",
       "997 -0.782919  False -0.122438          0.823494   1.214338\n",
       "998  0.908682  False  0.299059          0.199159   5.021120\n",
       "999 -0.293656  False -1.308570          0.666467   1.500450\n",
       "\n",
       "[1000 rows x 5 columns]"
      ]
     },
     "execution_count": 6,
     "metadata": {},
     "output_type": "execute_result"
    }
   ],
   "source": [
    "cdf_0"
   ]
  },
  {
   "cell_type": "code",
   "execution_count": 7,
   "metadata": {
    "execution": {
     "iopub.execute_input": "2023-12-03T08:18:38.164474Z",
     "iopub.status.busy": "2023-12-03T08:18:38.164297Z",
     "iopub.status.idle": "2023-12-03T08:18:38.173033Z",
     "shell.execute_reply": "2023-12-03T08:18:38.172552Z"
    }
   },
   "outputs": [
    {
     "data": {
      "text/html": [
       "<div>\n",
       "<style scoped>\n",
       "    .dataframe tbody tr th:only-of-type {\n",
       "        vertical-align: middle;\n",
       "    }\n",
       "\n",
       "    .dataframe tbody tr th {\n",
       "        vertical-align: top;\n",
       "    }\n",
       "\n",
       "    .dataframe thead th {\n",
       "        text-align: right;\n",
       "    }\n",
       "</style>\n",
       "<table border=\"1\" class=\"dataframe\">\n",
       "  <thead>\n",
       "    <tr style=\"text-align: right;\">\n",
       "      <th></th>\n",
       "      <th>W0</th>\n",
       "      <th>v0</th>\n",
       "      <th>y</th>\n",
       "      <th>propensity_score</th>\n",
       "      <th>weight</th>\n",
       "    </tr>\n",
       "  </thead>\n",
       "  <tbody>\n",
       "    <tr>\n",
       "      <th>0</th>\n",
       "      <td>1.344244</td>\n",
       "      <td>True</td>\n",
       "      <td>5.046885</td>\n",
       "      <td>0.895336</td>\n",
       "      <td>1.116899</td>\n",
       "    </tr>\n",
       "    <tr>\n",
       "      <th>1</th>\n",
       "      <td>1.788725</td>\n",
       "      <td>True</td>\n",
       "      <td>6.038468</td>\n",
       "      <td>0.948670</td>\n",
       "      <td>1.054107</td>\n",
       "    </tr>\n",
       "    <tr>\n",
       "      <th>2</th>\n",
       "      <td>-0.579176</td>\n",
       "      <td>True</td>\n",
       "      <td>5.816834</td>\n",
       "      <td>0.233780</td>\n",
       "      <td>4.277526</td>\n",
       "    </tr>\n",
       "    <tr>\n",
       "      <th>3</th>\n",
       "      <td>-0.393160</td>\n",
       "      <td>True</td>\n",
       "      <td>5.097190</td>\n",
       "      <td>0.296358</td>\n",
       "      <td>3.374294</td>\n",
       "    </tr>\n",
       "    <tr>\n",
       "      <th>4</th>\n",
       "      <td>1.339555</td>\n",
       "      <td>True</td>\n",
       "      <td>4.695352</td>\n",
       "      <td>0.894572</td>\n",
       "      <td>1.117853</td>\n",
       "    </tr>\n",
       "    <tr>\n",
       "      <th>...</th>\n",
       "      <td>...</td>\n",
       "      <td>...</td>\n",
       "      <td>...</td>\n",
       "      <td>...</td>\n",
       "      <td>...</td>\n",
       "    </tr>\n",
       "    <tr>\n",
       "      <th>995</th>\n",
       "      <td>-0.121001</td>\n",
       "      <td>True</td>\n",
       "      <td>5.837157</td>\n",
       "      <td>0.402992</td>\n",
       "      <td>2.481439</td>\n",
       "    </tr>\n",
       "    <tr>\n",
       "      <th>996</th>\n",
       "      <td>1.746503</td>\n",
       "      <td>True</td>\n",
       "      <td>4.551734</td>\n",
       "      <td>0.944987</td>\n",
       "      <td>1.058215</td>\n",
       "    </tr>\n",
       "    <tr>\n",
       "      <th>997</th>\n",
       "      <td>-0.955565</td>\n",
       "      <td>True</td>\n",
       "      <td>3.439601</td>\n",
       "      <td>0.137120</td>\n",
       "      <td>7.292892</td>\n",
       "    </tr>\n",
       "    <tr>\n",
       "      <th>998</th>\n",
       "      <td>1.062494</td>\n",
       "      <td>True</td>\n",
       "      <td>5.106917</td>\n",
       "      <td>0.839988</td>\n",
       "      <td>1.190494</td>\n",
       "    </tr>\n",
       "    <tr>\n",
       "      <th>999</th>\n",
       "      <td>1.729837</td>\n",
       "      <td>True</td>\n",
       "      <td>5.099761</td>\n",
       "      <td>0.943466</td>\n",
       "      <td>1.059921</td>\n",
       "    </tr>\n",
       "  </tbody>\n",
       "</table>\n",
       "<p>1000 rows × 5 columns</p>\n",
       "</div>"
      ],
      "text/plain": [
       "           W0    v0         y  propensity_score    weight\n",
       "0    1.344244  True  5.046885          0.895336  1.116899\n",
       "1    1.788725  True  6.038468          0.948670  1.054107\n",
       "2   -0.579176  True  5.816834          0.233780  4.277526\n",
       "3   -0.393160  True  5.097190          0.296358  3.374294\n",
       "4    1.339555  True  4.695352          0.894572  1.117853\n",
       "..        ...   ...       ...               ...       ...\n",
       "995 -0.121001  True  5.837157          0.402992  2.481439\n",
       "996  1.746503  True  4.551734          0.944987  1.058215\n",
       "997 -0.955565  True  3.439601          0.137120  7.292892\n",
       "998  1.062494  True  5.106917          0.839988  1.190494\n",
       "999  1.729837  True  5.099761          0.943466  1.059921\n",
       "\n",
       "[1000 rows x 5 columns]"
      ]
     },
     "execution_count": 7,
     "metadata": {},
     "output_type": "execute_result"
    }
   ],
   "source": [
    "cdf_1"
   ]
  },
  {
   "cell_type": "markdown",
   "metadata": {},
   "source": [
    "## Comparing the estimate to Linear Regression\n",
    "First, estimating the effect using the causal data frame, and the 95% confidence interval."
   ]
  },
  {
   "cell_type": "code",
   "execution_count": 8,
   "metadata": {
    "execution": {
     "iopub.execute_input": "2023-12-03T08:18:38.175326Z",
     "iopub.status.busy": "2023-12-03T08:18:38.174834Z",
     "iopub.status.idle": "2023-12-03T08:18:38.221527Z",
     "shell.execute_reply": "2023-12-03T08:18:38.221036Z"
    }
   },
   "outputs": [
    {
     "data": {
      "image/png": "[encoded data removed]",
      "text/latex": [
       "$\\displaystyle 4.89073048136045$"
      ],
      "text/plain": [
       "4.89073048136045"
      ]
     },
     "execution_count": 8,
     "metadata": {},
     "output_type": "execute_result"
    }
   ],
   "source": [
    "(cdf_1['y'] - cdf_0['y']).mean()"
   ]
  },
  {
   "cell_type": "code",
   "execution_count": 9,
   "metadata": {
    "execution": {
     "iopub.execute_input": "2023-12-03T08:18:38.223647Z",
     "iopub.status.busy": "2023-12-03T08:18:38.223299Z",
     "iopub.status.idle": "2023-12-03T08:18:38.240064Z",
     "shell.execute_reply": "2023-12-03T08:18:38.239572Z"
    }
   },
   "outputs": [
    {
     "data": {
      "image/png": "[encoded data removed]",
      "text/latex": [
       "$\\displaystyle 0.085815644994037$"
      ],
      "text/plain": [
       "0.08581564499403696"
      ]
     },
     "execution_count": 9,
     "metadata": {},
     "output_type": "execute_result"
    }
   ],
   "source": [
    "1.96*(cdf_1['y'] - cdf_0['y']).std() / np.sqrt(len(df))"
   ]
  },
  {
   "cell_type": "markdown",
   "metadata": {},
   "source": [
    "Comparing to the estimate from OLS."
   ]
  },
  {
   "cell_type": "code",
   "execution_count": 10,
   "metadata": {
    "execution": {
     "iopub.execute_input": "2023-12-03T08:18:38.242208Z",
     "iopub.status.busy": "2023-12-03T08:18:38.241854Z",
     "iopub.status.idle": "2023-12-03T08:18:38.257500Z",
     "shell.execute_reply": "2023-12-03T08:18:38.257011Z"
    }
   },
   "outputs": [
    {
     "data": {
      "text/html": [
       "<table class=\"simpletable\">\n",
       "<caption>OLS Regression Results</caption>\n",
       "<tr>\n",
       "  <th>Dep. Variable:</th>            <td>y</td>        <th>  R-squared (uncentered):</th>      <td>   0.946</td>\n",
       "</tr>\n",
       "<tr>\n",
       "  <th>Model:</th>                   <td>OLS</td>       <th>  Adj. R-squared (uncentered):</th> <td>   0.946</td>\n",
       "</tr>\n",
       "<tr>\n",
       "  <th>Method:</th>             <td>Least Squares</td>  <th>  F-statistic:       </th>          <td>   8756.</td>\n",
       "</tr>\n",
       "<tr>\n",
       "  <th>Date:</th>             <td>Sun, 03 Dec 2023</td> <th>  Prob (F-statistic):</th>           <td>  0.00</td> \n",
       "</tr>\n",
       "<tr>\n",
       "  <th>Time:</th>                 <td>08:18:38</td>     <th>  Log-Likelihood:    </th>          <td> -1392.3</td>\n",
       "</tr>\n",
       "<tr>\n",
       "  <th>No. Observations:</th>      <td>  1000</td>      <th>  AIC:               </th>          <td>   2789.</td>\n",
       "</tr>\n",
       "<tr>\n",
       "  <th>Df Residuals:</th>          <td>   998</td>      <th>  BIC:               </th>          <td>   2798.</td>\n",
       "</tr>\n",
       "<tr>\n",
       "  <th>Df Model:</th>              <td>     2</td>      <th>                     </th>              <td> </td>   \n",
       "</tr>\n",
       "<tr>\n",
       "  <th>Covariance Type:</th>      <td>nonrobust</td>    <th>                     </th>              <td> </td>   \n",
       "</tr>\n",
       "</table>\n",
       "<table class=\"simpletable\">\n",
       "<tr>\n",
       "   <td></td>     <th>coef</th>     <th>std err</th>      <th>t</th>      <th>P>|t|</th>  <th>[0.025</th>    <th>0.975]</th>  \n",
       "</tr>\n",
       "<tr>\n",
       "  <th>x1</th> <td>    0.1634</td> <td>    0.038</td> <td>    4.342</td> <td> 0.000</td> <td>    0.090</td> <td>    0.237</td>\n",
       "</tr>\n",
       "<tr>\n",
       "  <th>x2</th> <td>    4.9142</td> <td>    0.054</td> <td>   90.751</td> <td> 0.000</td> <td>    4.808</td> <td>    5.020</td>\n",
       "</tr>\n",
       "</table>\n",
       "<table class=\"simpletable\">\n",
       "<tr>\n",
       "  <th>Omnibus:</th>       <td> 0.462</td> <th>  Durbin-Watson:     </th> <td>   1.956</td>\n",
       "</tr>\n",
       "<tr>\n",
       "  <th>Prob(Omnibus):</th> <td> 0.794</td> <th>  Jarque-Bera (JB):  </th> <td>   0.550</td>\n",
       "</tr>\n",
       "<tr>\n",
       "  <th>Skew:</th>          <td> 0.017</td> <th>  Prob(JB):          </th> <td>   0.759</td>\n",
       "</tr>\n",
       "<tr>\n",
       "  <th>Kurtosis:</th>      <td> 2.890</td> <th>  Cond. No.          </th> <td>    2.63</td>\n",
       "</tr>\n",
       "</table><br/><br/>Notes:<br/>[1] R² is computed without centering (uncentered) since the model does not contain a constant.<br/>[2] Standard Errors assume that the covariance matrix of the errors is correctly specified."
      ],
      "text/latex": [
       "\\begin{center}\n",
       "\\begin{tabular}{lclc}\n",
       "\\toprule\n",
       "\\textbf{Dep. Variable:}    &        y         & \\textbf{  R-squared (uncentered):}      &     0.946   \\\\\n",
       "\\textbf{Model:}            &       OLS        & \\textbf{  Adj. R-squared (uncentered):} &     0.946   \\\\\n",
       "\\textbf{Method:}           &  Least Squares   & \\textbf{  F-statistic:       }          &     8756.   \\\\\n",
       "\\textbf{Date:}             & Sun, 03 Dec 2023 & \\textbf{  Prob (F-statistic):}          &     0.00    \\\\\n",
       "\\textbf{Time:}             &     08:18:38     & \\textbf{  Log-Likelihood:    }          &   -1392.3   \\\\\n",
       "\\textbf{No. Observations:} &        1000      & \\textbf{  AIC:               }          &     2789.   \\\\\n",
       "\\textbf{Df Residuals:}     &         998      & \\textbf{  BIC:               }          &     2798.   \\\\\n",
       "\\textbf{Df Model:}         &           2      & \\textbf{                     }          &             \\\\\n",
       "\\textbf{Covariance Type:}  &    nonrobust     & \\textbf{                     }          &             \\\\\n",
       "\\bottomrule\n",
       "\\end{tabular}\n",
       "\\begin{tabular}{lcccccc}\n",
       "            & \\textbf{coef} & \\textbf{std err} & \\textbf{t} & \\textbf{P$> |$t$|$} & \\textbf{[0.025} & \\textbf{0.975]}  \\\\\n",
       "\\midrule\n",
       "\\textbf{x1} &       0.1634  &        0.038     &     4.342  &         0.000        &        0.090    &        0.237     \\\\\n",
       "\\textbf{x2} &       4.9142  &        0.054     &    90.751  &         0.000        &        4.808    &        5.020     \\\\\n",
       "\\bottomrule\n",
       "\\end{tabular}\n",
       "\\begin{tabular}{lclc}\n",
       "\\textbf{Omnibus:}       &  0.462 & \\textbf{  Durbin-Watson:     } &    1.956  \\\\\n",
       "\\textbf{Prob(Omnibus):} &  0.794 & \\textbf{  Jarque-Bera (JB):  } &    0.550  \\\\\n",
       "\\textbf{Skew:}          &  0.017 & \\textbf{  Prob(JB):          } &    0.759  \\\\\n",
       "\\textbf{Kurtosis:}      &  2.890 & \\textbf{  Cond. No.          } &     2.63  \\\\\n",
       "\\bottomrule\n",
       "\\end{tabular}\n",
       "%\\caption{OLS Regression Results}\n",
       "\\end{center}\n",
       "\n",
       "Notes: \\newline\n",
       " [1] R² is computed without centering (uncentered) since the model does not contain a constant. \\newline\n",
       " [2] Standard Errors assume that the covariance matrix of the errors is correctly specified."
      ],
      "text/plain": [
       "<class 'statsmodels.iolib.summary.Summary'>\n",
       "\"\"\"\n",
       "                                 OLS Regression Results                                \n",
       "=======================================================================================\n",
       "Dep. Variable:                      y   R-squared (uncentered):                   0.946\n",
       "Model:                            OLS   Adj. R-squared (uncentered):              0.946\n",
       "Method:                 Least Squares   F-statistic:                              8756.\n",
       "Date:                Sun, 03 Dec 2023   Prob (F-statistic):                        0.00\n",
       "Time:                        08:18:38   Log-Likelihood:                         -1392.3\n",
       "No. Observations:                1000   AIC:                                      2789.\n",
       "Df Residuals:                     998   BIC:                                      2798.\n",
       "Df Model:                           2                                                  \n",
       "Covariance Type:            nonrobust                                                  \n",
       "==============================================================================\n",
       "                 coef    std err          t      P>|t|      [0.025      0.975]\n",
       "------------------------------------------------------------------------------\n",
       "x1             0.1634      0.038      4.342      0.000       0.090       0.237\n",
       "x2             4.9142      0.054     90.751      0.000       4.808       5.020\n",
       "==============================================================================\n",
       "Omnibus:                        0.462   Durbin-Watson:                   1.956\n",
       "Prob(Omnibus):                  0.794   Jarque-Bera (JB):                0.550\n",
       "Skew:                           0.017   Prob(JB):                        0.759\n",
       "Kurtosis:                       2.890   Cond. No.                         2.63\n",
       "==============================================================================\n",
       "\n",
       "Notes:\n",
       "[1] R² is computed without centering (uncentered) since the model does not contain a constant.\n",
       "[2] Standard Errors assume that the covariance matrix of the errors is correctly specified.\n",
       "\"\"\""
      ]
     },
     "execution_count": 10,
     "metadata": {},
     "output_type": "execute_result"
    }
   ],
   "source": [
    "model = OLS(np.asarray(df[outcome]), np.asarray(df[[common_cause, treatment]], dtype=np.float64))\n",
    "result = model.fit()\n",
    "result.summary()"
   ]
  }
 ],
 "metadata": {
  "kernelspec": {
   "display_name": "Python 3 (ipykernel)",
   "language": "python",
   "name": "python3"
  },
  "language_info": {
   "codemirror_mode": {
    "name": "ipython",
    "version": 3
   },
   "file_extension": ".py",
   "mimetype": "text/x-python",
   "name": "python",
   "nbconvert_exporter": "python",
   "pygments_lexer": "ipython3",
   "version": "3.8.10"
  },
  "toc": {
   "base_numbering": 1,
   "nav_menu": {},
   "number_sections": false,
   "sideBar": true,
   "skip_h1_title": true,
   "title_cell": "Table of Contents",
   "title_sidebar": "Contents",
   "toc_cell": false,
   "toc_position": {},
   "toc_section_display": true,
   "toc_window_display": false
  }
 },
 "nbformat": 4,
 "nbformat_minor": 4
}
