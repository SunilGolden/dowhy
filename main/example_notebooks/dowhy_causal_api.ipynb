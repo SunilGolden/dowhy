{
 "cells": [
  {
   "cell_type": "markdown",
   "metadata": {},
   "source": [
    "# Demo for the DoWhy causal API\n",
    "We show a simple example of adding a causal extension to any dataframe. "
   ]
  },
  {
   "cell_type": "code",
   "execution_count": 1,
   "metadata": {
    "execution": {
     "iopub.execute_input": "2023-09-04T06:02:13.552821Z",
     "iopub.status.busy": "2023-09-04T06:02:13.552374Z",
     "iopub.status.idle": "2023-09-04T06:02:15.585730Z",
     "shell.execute_reply": "2023-09-04T06:02:15.584822Z"
    }
   },
   "outputs": [],
   "source": [
    "import dowhy.datasets\n",
    "import dowhy.api\n",
    "\n",
    "import numpy as np\n",
    "import pandas as pd\n",
    "\n",
    "from statsmodels.api import OLS"
   ]
  },
  {
   "cell_type": "code",
   "execution_count": 2,
   "metadata": {
    "execution": {
     "iopub.execute_input": "2023-09-04T06:02:15.590519Z",
     "iopub.status.busy": "2023-09-04T06:02:15.589570Z",
     "iopub.status.idle": "2023-09-04T06:02:15.641671Z",
     "shell.execute_reply": "2023-09-04T06:02:15.640816Z"
    }
   },
   "outputs": [
    {
     "data": {
      "text/html": [
       "<div>\n",
       "<style scoped>\n",
       "    .dataframe tbody tr th:only-of-type {\n",
       "        vertical-align: middle;\n",
       "    }\n",
       "\n",
       "    .dataframe tbody tr th {\n",
       "        vertical-align: top;\n",
       "    }\n",
       "\n",
       "    .dataframe thead th {\n",
       "        text-align: right;\n",
       "    }\n",
       "</style>\n",
       "<table border=\"1\" class=\"dataframe\">\n",
       "  <thead>\n",
       "    <tr style=\"text-align: right;\">\n",
       "      <th></th>\n",
       "      <th>W0</th>\n",
       "      <th>v0</th>\n",
       "      <th>y</th>\n",
       "    </tr>\n",
       "  </thead>\n",
       "  <tbody>\n",
       "    <tr>\n",
       "      <th>0</th>\n",
       "      <td>-0.102941</td>\n",
       "      <td>False</td>\n",
       "      <td>0.018117</td>\n",
       "    </tr>\n",
       "    <tr>\n",
       "      <th>1</th>\n",
       "      <td>2.183362</td>\n",
       "      <td>True</td>\n",
       "      <td>9.151580</td>\n",
       "    </tr>\n",
       "    <tr>\n",
       "      <th>2</th>\n",
       "      <td>2.639927</td>\n",
       "      <td>True</td>\n",
       "      <td>11.736271</td>\n",
       "    </tr>\n",
       "    <tr>\n",
       "      <th>3</th>\n",
       "      <td>1.045403</td>\n",
       "      <td>True</td>\n",
       "      <td>5.571285</td>\n",
       "    </tr>\n",
       "    <tr>\n",
       "      <th>4</th>\n",
       "      <td>0.718007</td>\n",
       "      <td>True</td>\n",
       "      <td>6.766273</td>\n",
       "    </tr>\n",
       "    <tr>\n",
       "      <th>...</th>\n",
       "      <td>...</td>\n",
       "      <td>...</td>\n",
       "      <td>...</td>\n",
       "    </tr>\n",
       "    <tr>\n",
       "      <th>995</th>\n",
       "      <td>-0.581793</td>\n",
       "      <td>False</td>\n",
       "      <td>-1.946845</td>\n",
       "    </tr>\n",
       "    <tr>\n",
       "      <th>996</th>\n",
       "      <td>0.147828</td>\n",
       "      <td>True</td>\n",
       "      <td>5.536459</td>\n",
       "    </tr>\n",
       "    <tr>\n",
       "      <th>997</th>\n",
       "      <td>0.804175</td>\n",
       "      <td>True</td>\n",
       "      <td>6.434728</td>\n",
       "    </tr>\n",
       "    <tr>\n",
       "      <th>998</th>\n",
       "      <td>2.126148</td>\n",
       "      <td>True</td>\n",
       "      <td>8.488784</td>\n",
       "    </tr>\n",
       "    <tr>\n",
       "      <th>999</th>\n",
       "      <td>2.428058</td>\n",
       "      <td>False</td>\n",
       "      <td>5.078294</td>\n",
       "    </tr>\n",
       "  </tbody>\n",
       "</table>\n",
       "<p>1000 rows × 3 columns</p>\n",
       "</div>"
      ],
      "text/plain": [
       "           W0     v0          y\n",
       "0   -0.102941  False   0.018117\n",
       "1    2.183362   True   9.151580\n",
       "2    2.639927   True  11.736271\n",
       "3    1.045403   True   5.571285\n",
       "4    0.718007   True   6.766273\n",
       "..        ...    ...        ...\n",
       "995 -0.581793  False  -1.946845\n",
       "996  0.147828   True   5.536459\n",
       "997  0.804175   True   6.434728\n",
       "998  2.126148   True   8.488784\n",
       "999  2.428058  False   5.078294\n",
       "\n",
       "[1000 rows x 3 columns]"
      ]
     },
     "execution_count": 2,
     "metadata": {},
     "output_type": "execute_result"
    }
   ],
   "source": [
    "data = dowhy.datasets.linear_dataset(beta=5,\n",
    "        num_common_causes=1,\n",
    "        num_instruments = 0,\n",
    "        num_samples=1000,\n",
    "        treatment_is_binary=True)\n",
    "df = data['df']\n",
    "df['y'] = df['y'] + np.random.normal(size=len(df)) # Adding noise to data. Without noise, the variance in Y|X, Z is zero, and mcmc fails.\n",
    "#data['dot_graph'] = 'digraph { v ->y;X0-> v;X0-> y;}'\n",
    "\n",
    "treatment= data[\"treatment_name\"][0]\n",
    "outcome = data[\"outcome_name\"][0]\n",
    "common_cause = data[\"common_causes_names\"][0]\n",
    "df"
   ]
  },
  {
   "cell_type": "code",
   "execution_count": 3,
   "metadata": {
    "execution": {
     "iopub.execute_input": "2023-09-04T06:02:15.646413Z",
     "iopub.status.busy": "2023-09-04T06:02:15.645933Z",
     "iopub.status.idle": "2023-09-04T06:02:15.888341Z",
     "shell.execute_reply": "2023-09-04T06:02:15.887524Z"
    }
   },
   "outputs": [
    {
     "data": {
      "text/plain": [
       "<Axes: xlabel='v0'>"
      ]
     },
     "execution_count": 3,
     "metadata": {},
     "output_type": "execute_result"
    },
    {
     "data": {
      "image/png": "[encoded data removed]",
      "text/plain": [
       "<Figure size 640x480 with 1 Axes>"
      ]
     },
     "metadata": {},
     "output_type": "display_data"
    }
   ],
   "source": [
    "# data['df'] is just a regular pandas.DataFrame\n",
    "df.causal.do(x=treatment,\n",
    "                     variable_types={treatment: 'b', outcome: 'c', common_cause: 'c'},\n",
    "                     outcome=outcome,\n",
    "                     common_causes=[common_cause],\n",
    "                     proceed_when_unidentifiable=True).groupby(treatment).mean().plot(y=outcome, kind='bar')"
   ]
  },
  {
   "cell_type": "code",
   "execution_count": 4,
   "metadata": {
    "execution": {
     "iopub.execute_input": "2023-09-04T06:02:15.893287Z",
     "iopub.status.busy": "2023-09-04T06:02:15.892742Z",
     "iopub.status.idle": "2023-09-04T06:02:16.057187Z",
     "shell.execute_reply": "2023-09-04T06:02:16.056447Z"
    }
   },
   "outputs": [
    {
     "data": {
      "text/plain": [
       "<Axes: xlabel='v0'>"
      ]
     },
     "execution_count": 4,
     "metadata": {},
     "output_type": "execute_result"
    },
    {
     "data": {
      "image/png": "[encoded data removed]",
      "text/plain": [
       "<Figure size 640x480 with 1 Axes>"
      ]
     },
     "metadata": {},
     "output_type": "display_data"
    }
   ],
   "source": [
    "df.causal.do(x={treatment: 1}, \n",
    "              variable_types={treatment:'b', outcome: 'c', common_cause: 'c'}, \n",
    "              outcome=outcome,\n",
    "              method='weighting', \n",
    "              common_causes=[common_cause],\n",
    "              proceed_when_unidentifiable=True).groupby(treatment).mean().plot(y=outcome, kind='bar')"
   ]
  },
  {
   "cell_type": "code",
   "execution_count": 5,
   "metadata": {
    "execution": {
     "iopub.execute_input": "2023-09-04T06:02:16.061057Z",
     "iopub.status.busy": "2023-09-04T06:02:16.060481Z",
     "iopub.status.idle": "2023-09-04T06:02:16.100130Z",
     "shell.execute_reply": "2023-09-04T06:02:16.099121Z"
    }
   },
   "outputs": [],
   "source": [
    "cdf_1 = df.causal.do(x={treatment: 1}, \n",
    "              variable_types={treatment: 'b', outcome: 'c', common_cause: 'c'}, \n",
    "              outcome=outcome, \n",
    "              dot_graph=data['dot_graph'],\n",
    "              proceed_when_unidentifiable=True)\n",
    "\n",
    "cdf_0 = df.causal.do(x={treatment: 0}, \n",
    "              variable_types={treatment: 'b', outcome: 'c', common_cause: 'c'}, \n",
    "              outcome=outcome, \n",
    "              dot_graph=data['dot_graph'],\n",
    "              proceed_when_unidentifiable=True)\n"
   ]
  },
  {
   "cell_type": "code",
   "execution_count": 6,
   "metadata": {
    "execution": {
     "iopub.execute_input": "2023-09-04T06:02:16.105025Z",
     "iopub.status.busy": "2023-09-04T06:02:16.104744Z",
     "iopub.status.idle": "2023-09-04T06:02:16.117279Z",
     "shell.execute_reply": "2023-09-04T06:02:16.116485Z"
    },
    "scrolled": true
   },
   "outputs": [
    {
     "data": {
      "text/html": [
       "<div>\n",
       "<style scoped>\n",
       "    .dataframe tbody tr th:only-of-type {\n",
       "        vertical-align: middle;\n",
       "    }\n",
       "\n",
       "    .dataframe tbody tr th {\n",
       "        vertical-align: top;\n",
       "    }\n",
       "\n",
       "    .dataframe thead th {\n",
       "        text-align: right;\n",
       "    }\n",
       "</style>\n",
       "<table border=\"1\" class=\"dataframe\">\n",
       "  <thead>\n",
       "    <tr style=\"text-align: right;\">\n",
       "      <th></th>\n",
       "      <th>W0</th>\n",
       "      <th>v0</th>\n",
       "      <th>y</th>\n",
       "      <th>propensity_score</th>\n",
       "      <th>weight</th>\n",
       "    </tr>\n",
       "  </thead>\n",
       "  <tbody>\n",
       "    <tr>\n",
       "      <th>0</th>\n",
       "      <td>-0.205611</td>\n",
       "      <td>False</td>\n",
       "      <td>0.615348</td>\n",
       "      <td>0.529564</td>\n",
       "      <td>1.888347</td>\n",
       "    </tr>\n",
       "    <tr>\n",
       "      <th>1</th>\n",
       "      <td>2.851061</td>\n",
       "      <td>False</td>\n",
       "      <td>5.803164</td>\n",
       "      <td>0.044990</td>\n",
       "      <td>22.227121</td>\n",
       "    </tr>\n",
       "    <tr>\n",
       "      <th>2</th>\n",
       "      <td>1.231418</td>\n",
       "      <td>False</td>\n",
       "      <td>3.500766</td>\n",
       "      <td>0.202032</td>\n",
       "      <td>4.949706</td>\n",
       "    </tr>\n",
       "    <tr>\n",
       "      <th>3</th>\n",
       "      <td>1.500069</td>\n",
       "      <td>False</td>\n",
       "      <td>2.832785</td>\n",
       "      <td>0.160761</td>\n",
       "      <td>6.220410</td>\n",
       "    </tr>\n",
       "    <tr>\n",
       "      <th>4</th>\n",
       "      <td>0.122087</td>\n",
       "      <td>False</td>\n",
       "      <td>0.535953</td>\n",
       "      <td>0.444764</td>\n",
       "      <td>2.248381</td>\n",
       "    </tr>\n",
       "    <tr>\n",
       "      <th>...</th>\n",
       "      <td>...</td>\n",
       "      <td>...</td>\n",
       "      <td>...</td>\n",
       "      <td>...</td>\n",
       "      <td>...</td>\n",
       "    </tr>\n",
       "    <tr>\n",
       "      <th>995</th>\n",
       "      <td>2.667562</td>\n",
       "      <td>False</td>\n",
       "      <td>6.225888</td>\n",
       "      <td>0.053923</td>\n",
       "      <td>18.544791</td>\n",
       "    </tr>\n",
       "    <tr>\n",
       "      <th>996</th>\n",
       "      <td>2.571603</td>\n",
       "      <td>False</td>\n",
       "      <td>5.665677</td>\n",
       "      <td>0.059238</td>\n",
       "      <td>16.881025</td>\n",
       "    </tr>\n",
       "    <tr>\n",
       "      <th>997</th>\n",
       "      <td>-0.912830</td>\n",
       "      <td>False</td>\n",
       "      <td>-2.068574</td>\n",
       "      <td>0.701130</td>\n",
       "      <td>1.426270</td>\n",
       "    </tr>\n",
       "    <tr>\n",
       "      <th>998</th>\n",
       "      <td>1.330428</td>\n",
       "      <td>False</td>\n",
       "      <td>2.434578</td>\n",
       "      <td>0.185966</td>\n",
       "      <td>5.377339</td>\n",
       "    </tr>\n",
       "    <tr>\n",
       "      <th>999</th>\n",
       "      <td>0.560869</td>\n",
       "      <td>False</td>\n",
       "      <td>0.263013</td>\n",
       "      <td>0.336836</td>\n",
       "      <td>2.968803</td>\n",
       "    </tr>\n",
       "  </tbody>\n",
       "</table>\n",
       "<p>1000 rows × 5 columns</p>\n",
       "</div>"
      ],
      "text/plain": [
       "           W0     v0         y  propensity_score     weight\n",
       "0   -0.205611  False  0.615348          0.529564   1.888347\n",
       "1    2.851061  False  5.803164          0.044990  22.227121\n",
       "2    1.231418  False  3.500766          0.202032   4.949706\n",
       "3    1.500069  False  2.832785          0.160761   6.220410\n",
       "4    0.122087  False  0.535953          0.444764   2.248381\n",
       "..        ...    ...       ...               ...        ...\n",
       "995  2.667562  False  6.225888          0.053923  18.544791\n",
       "996  2.571603  False  5.665677          0.059238  16.881025\n",
       "997 -0.912830  False -2.068574          0.701130   1.426270\n",
       "998  1.330428  False  2.434578          0.185966   5.377339\n",
       "999  0.560869  False  0.263013          0.336836   2.968803\n",
       "\n",
       "[1000 rows x 5 columns]"
      ]
     },
     "execution_count": 6,
     "metadata": {},
     "output_type": "execute_result"
    }
   ],
   "source": [
    "cdf_0"
   ]
  },
  {
   "cell_type": "code",
   "execution_count": 7,
   "metadata": {
    "execution": {
     "iopub.execute_input": "2023-09-04T06:02:16.122240Z",
     "iopub.status.busy": "2023-09-04T06:02:16.121793Z",
     "iopub.status.idle": "2023-09-04T06:02:16.134872Z",
     "shell.execute_reply": "2023-09-04T06:02:16.133972Z"
    }
   },
   "outputs": [
    {
     "data": {
      "text/html": [
       "<div>\n",
       "<style scoped>\n",
       "    .dataframe tbody tr th:only-of-type {\n",
       "        vertical-align: middle;\n",
       "    }\n",
       "\n",
       "    .dataframe tbody tr th {\n",
       "        vertical-align: top;\n",
       "    }\n",
       "\n",
       "    .dataframe thead th {\n",
       "        text-align: right;\n",
       "    }\n",
       "</style>\n",
       "<table border=\"1\" class=\"dataframe\">\n",
       "  <thead>\n",
       "    <tr style=\"text-align: right;\">\n",
       "      <th></th>\n",
       "      <th>W0</th>\n",
       "      <th>v0</th>\n",
       "      <th>y</th>\n",
       "      <th>propensity_score</th>\n",
       "      <th>weight</th>\n",
       "    </tr>\n",
       "  </thead>\n",
       "  <tbody>\n",
       "    <tr>\n",
       "      <th>0</th>\n",
       "      <td>-0.294068</td>\n",
       "      <td>True</td>\n",
       "      <td>5.502494</td>\n",
       "      <td>0.447634</td>\n",
       "      <td>2.233969</td>\n",
       "    </tr>\n",
       "    <tr>\n",
       "      <th>1</th>\n",
       "      <td>0.556987</td>\n",
       "      <td>True</td>\n",
       "      <td>5.207186</td>\n",
       "      <td>0.662263</td>\n",
       "      <td>1.509974</td>\n",
       "    </tr>\n",
       "    <tr>\n",
       "      <th>2</th>\n",
       "      <td>-0.056284</td>\n",
       "      <td>True</td>\n",
       "      <td>6.166709</td>\n",
       "      <td>0.509162</td>\n",
       "      <td>1.964013</td>\n",
       "    </tr>\n",
       "    <tr>\n",
       "      <th>3</th>\n",
       "      <td>0.110923</td>\n",
       "      <td>True</td>\n",
       "      <td>5.268255</td>\n",
       "      <td>0.552371</td>\n",
       "      <td>1.810376</td>\n",
       "    </tr>\n",
       "    <tr>\n",
       "      <th>4</th>\n",
       "      <td>1.078787</td>\n",
       "      <td>True</td>\n",
       "      <td>4.960749</td>\n",
       "      <td>0.771212</td>\n",
       "      <td>1.296660</td>\n",
       "    </tr>\n",
       "    <tr>\n",
       "      <th>...</th>\n",
       "      <td>...</td>\n",
       "      <td>...</td>\n",
       "      <td>...</td>\n",
       "      <td>...</td>\n",
       "      <td>...</td>\n",
       "    </tr>\n",
       "    <tr>\n",
       "      <th>995</th>\n",
       "      <td>2.310199</td>\n",
       "      <td>True</td>\n",
       "      <td>8.676777</td>\n",
       "      <td>0.923700</td>\n",
       "      <td>1.082602</td>\n",
       "    </tr>\n",
       "    <tr>\n",
       "      <th>996</th>\n",
       "      <td>0.374254</td>\n",
       "      <td>True</td>\n",
       "      <td>5.870991</td>\n",
       "      <td>0.618614</td>\n",
       "      <td>1.616518</td>\n",
       "    </tr>\n",
       "    <tr>\n",
       "      <th>997</th>\n",
       "      <td>2.142148</td>\n",
       "      <td>True</td>\n",
       "      <td>9.337365</td>\n",
       "      <td>0.910457</td>\n",
       "      <td>1.098349</td>\n",
       "    </tr>\n",
       "    <tr>\n",
       "      <th>998</th>\n",
       "      <td>0.705593</td>\n",
       "      <td>True</td>\n",
       "      <td>8.380255</td>\n",
       "      <td>0.695866</td>\n",
       "      <td>1.437058</td>\n",
       "    </tr>\n",
       "    <tr>\n",
       "      <th>999</th>\n",
       "      <td>-0.022023</td>\n",
       "      <td>True</td>\n",
       "      <td>6.322025</td>\n",
       "      <td>0.518048</td>\n",
       "      <td>1.930324</td>\n",
       "    </tr>\n",
       "  </tbody>\n",
       "</table>\n",
       "<p>1000 rows × 5 columns</p>\n",
       "</div>"
      ],
      "text/plain": [
       "           W0    v0         y  propensity_score    weight\n",
       "0   -0.294068  True  5.502494          0.447634  2.233969\n",
       "1    0.556987  True  5.207186          0.662263  1.509974\n",
       "2   -0.056284  True  6.166709          0.509162  1.964013\n",
       "3    0.110923  True  5.268255          0.552371  1.810376\n",
       "4    1.078787  True  4.960749          0.771212  1.296660\n",
       "..        ...   ...       ...               ...       ...\n",
       "995  2.310199  True  8.676777          0.923700  1.082602\n",
       "996  0.374254  True  5.870991          0.618614  1.616518\n",
       "997  2.142148  True  9.337365          0.910457  1.098349\n",
       "998  0.705593  True  8.380255          0.695866  1.437058\n",
       "999 -0.022023  True  6.322025          0.518048  1.930324\n",
       "\n",
       "[1000 rows x 5 columns]"
      ]
     },
     "execution_count": 7,
     "metadata": {},
     "output_type": "execute_result"
    }
   ],
   "source": [
    "cdf_1"
   ]
  },
  {
   "cell_type": "markdown",
   "metadata": {},
   "source": [
    "## Comparing the estimate to Linear Regression\n",
    "First, estimating the effect using the causal data frame, and the 95% confidence interval."
   ]
  },
  {
   "cell_type": "code",
   "execution_count": 8,
   "metadata": {
    "execution": {
     "iopub.execute_input": "2023-09-04T06:02:16.141157Z",
     "iopub.status.busy": "2023-09-04T06:02:16.140197Z",
     "iopub.status.idle": "2023-09-04T06:02:16.215865Z",
     "shell.execute_reply": "2023-09-04T06:02:16.214937Z"
    }
   },
   "outputs": [
    {
     "data": {
      "image/png": "[encoded data removed]",
      "text/latex": [
       "$\\displaystyle 4.97635396438008$"
      ],
      "text/plain": [
       "4.976353964380079"
      ]
     },
     "execution_count": 8,
     "metadata": {},
     "output_type": "execute_result"
    }
   ],
   "source": [
    "(cdf_1['y'] - cdf_0['y']).mean()"
   ]
  },
  {
   "cell_type": "code",
   "execution_count": 9,
   "metadata": {
    "execution": {
     "iopub.execute_input": "2023-09-04T06:02:16.219852Z",
     "iopub.status.busy": "2023-09-04T06:02:16.219560Z",
     "iopub.status.idle": "2023-09-04T06:02:16.245361Z",
     "shell.execute_reply": "2023-09-04T06:02:16.244454Z"
    }
   },
   "outputs": [
    {
     "data": {
      "image/png": "[encoded data removed]",
      "text/latex": [
       "$\\displaystyle 0.209282493843459$"
      ],
      "text/plain": [
       "0.20928249384345943"
      ]
     },
     "execution_count": 9,
     "metadata": {},
     "output_type": "execute_result"
    }
   ],
   "source": [
    "1.96*(cdf_1['y'] - cdf_0['y']).std() / np.sqrt(len(df))"
   ]
  },
  {
   "cell_type": "markdown",
   "metadata": {},
   "source": [
    "Comparing to the estimate from OLS."
   ]
  },
  {
   "cell_type": "code",
   "execution_count": 10,
   "metadata": {
    "execution": {
     "iopub.execute_input": "2023-09-04T06:02:16.250819Z",
     "iopub.status.busy": "2023-09-04T06:02:16.249513Z",
     "iopub.status.idle": "2023-09-04T06:02:16.279981Z",
     "shell.execute_reply": "2023-09-04T06:02:16.278941Z"
    }
   },
   "outputs": [
    {
     "data": {
      "text/html": [
       "<table class=\"simpletable\">\n",
       "<caption>OLS Regression Results</caption>\n",
       "<tr>\n",
       "  <th>Dep. Variable:</th>            <td>y</td>        <th>  R-squared (uncentered):</th>      <td>   0.971</td> \n",
       "</tr>\n",
       "<tr>\n",
       "  <th>Model:</th>                   <td>OLS</td>       <th>  Adj. R-squared (uncentered):</th> <td>   0.971</td> \n",
       "</tr>\n",
       "<tr>\n",
       "  <th>Method:</th>             <td>Least Squares</td>  <th>  F-statistic:       </th>          <td>1.684e+04</td>\n",
       "</tr>\n",
       "<tr>\n",
       "  <th>Date:</th>             <td>Mon, 04 Sep 2023</td> <th>  Prob (F-statistic):</th>           <td>  0.00</td>  \n",
       "</tr>\n",
       "<tr>\n",
       "  <th>Time:</th>                 <td>06:02:16</td>     <th>  Log-Likelihood:    </th>          <td> -1421.0</td> \n",
       "</tr>\n",
       "<tr>\n",
       "  <th>No. Observations:</th>      <td>  1000</td>      <th>  AIC:               </th>          <td>   2846.</td> \n",
       "</tr>\n",
       "<tr>\n",
       "  <th>Df Residuals:</th>          <td>   998</td>      <th>  BIC:               </th>          <td>   2856.</td> \n",
       "</tr>\n",
       "<tr>\n",
       "  <th>Df Model:</th>              <td>     2</td>      <th>                     </th>              <td> </td>    \n",
       "</tr>\n",
       "<tr>\n",
       "  <th>Covariance Type:</th>      <td>nonrobust</td>    <th>                     </th>              <td> </td>    \n",
       "</tr>\n",
       "</table>\n",
       "<table class=\"simpletable\">\n",
       "<tr>\n",
       "   <td></td>     <th>coef</th>     <th>std err</th>      <th>t</th>      <th>P>|t|</th>  <th>[0.025</th>    <th>0.975]</th>  \n",
       "</tr>\n",
       "<tr>\n",
       "  <th>x1</th> <td>    2.1010</td> <td>    0.034</td> <td>   61.624</td> <td> 0.000</td> <td>    2.034</td> <td>    2.168</td>\n",
       "</tr>\n",
       "<tr>\n",
       "  <th>x2</th> <td>    5.0169</td> <td>    0.050</td> <td>  100.174</td> <td> 0.000</td> <td>    4.919</td> <td>    5.115</td>\n",
       "</tr>\n",
       "</table>\n",
       "<table class=\"simpletable\">\n",
       "<tr>\n",
       "  <th>Omnibus:</th>       <td> 4.558</td> <th>  Durbin-Watson:     </th> <td>   1.984</td>\n",
       "</tr>\n",
       "<tr>\n",
       "  <th>Prob(Omnibus):</th> <td> 0.102</td> <th>  Jarque-Bera (JB):  </th> <td>   4.474</td>\n",
       "</tr>\n",
       "<tr>\n",
       "  <th>Skew:</th>          <td>-0.134</td> <th>  Prob(JB):          </th> <td>   0.107</td>\n",
       "</tr>\n",
       "<tr>\n",
       "  <th>Kurtosis:</th>      <td> 2.810</td> <th>  Cond. No.          </th> <td>    2.26</td>\n",
       "</tr>\n",
       "</table><br/><br/>Notes:<br/>[1] R² is computed without centering (uncentered) since the model does not contain a constant.<br/>[2] Standard Errors assume that the covariance matrix of the errors is correctly specified."
      ],
      "text/latex": [
       "\\begin{center}\n",
       "\\begin{tabular}{lclc}\n",
       "\\toprule\n",
       "\\textbf{Dep. Variable:}    &        y         & \\textbf{  R-squared (uncentered):}      &     0.971   \\\\\n",
       "\\textbf{Model:}            &       OLS        & \\textbf{  Adj. R-squared (uncentered):} &     0.971   \\\\\n",
       "\\textbf{Method:}           &  Least Squares   & \\textbf{  F-statistic:       }          & 1.684e+04   \\\\\n",
       "\\textbf{Date:}             & Mon, 04 Sep 2023 & \\textbf{  Prob (F-statistic):}          &     0.00    \\\\\n",
       "\\textbf{Time:}             &     06:02:16     & \\textbf{  Log-Likelihood:    }          &   -1421.0   \\\\\n",
       "\\textbf{No. Observations:} &        1000      & \\textbf{  AIC:               }          &     2846.   \\\\\n",
       "\\textbf{Df Residuals:}     &         998      & \\textbf{  BIC:               }          &     2856.   \\\\\n",
       "\\textbf{Df Model:}         &           2      & \\textbf{                     }          &             \\\\\n",
       "\\textbf{Covariance Type:}  &    nonrobust     & \\textbf{                     }          &             \\\\\n",
       "\\bottomrule\n",
       "\\end{tabular}\n",
       "\\begin{tabular}{lcccccc}\n",
       "            & \\textbf{coef} & \\textbf{std err} & \\textbf{t} & \\textbf{P$> |$t$|$} & \\textbf{[0.025} & \\textbf{0.975]}  \\\\\n",
       "\\midrule\n",
       "\\textbf{x1} &       2.1010  &        0.034     &    61.624  &         0.000        &        2.034    &        2.168     \\\\\n",
       "\\textbf{x2} &       5.0169  &        0.050     &   100.174  &         0.000        &        4.919    &        5.115     \\\\\n",
       "\\bottomrule\n",
       "\\end{tabular}\n",
       "\\begin{tabular}{lclc}\n",
       "\\textbf{Omnibus:}       &  4.558 & \\textbf{  Durbin-Watson:     } &    1.984  \\\\\n",
       "\\textbf{Prob(Omnibus):} &  0.102 & \\textbf{  Jarque-Bera (JB):  } &    4.474  \\\\\n",
       "\\textbf{Skew:}          & -0.134 & \\textbf{  Prob(JB):          } &    0.107  \\\\\n",
       "\\textbf{Kurtosis:}      &  2.810 & \\textbf{  Cond. No.          } &     2.26  \\\\\n",
       "\\bottomrule\n",
       "\\end{tabular}\n",
       "%\\caption{OLS Regression Results}\n",
       "\\end{center}\n",
       "\n",
       "Notes: \\newline\n",
       " [1] R² is computed without centering (uncentered) since the model does not contain a constant. \\newline\n",
       " [2] Standard Errors assume that the covariance matrix of the errors is correctly specified."
      ],
      "text/plain": [
       "<class 'statsmodels.iolib.summary.Summary'>\n",
       "\"\"\"\n",
       "                                 OLS Regression Results                                \n",
       "=======================================================================================\n",
       "Dep. Variable:                      y   R-squared (uncentered):                   0.971\n",
       "Model:                            OLS   Adj. R-squared (uncentered):              0.971\n",
       "Method:                 Least Squares   F-statistic:                          1.684e+04\n",
       "Date:                Mon, 04 Sep 2023   Prob (F-statistic):                        0.00\n",
       "Time:                        06:02:16   Log-Likelihood:                         -1421.0\n",
       "No. Observations:                1000   AIC:                                      2846.\n",
       "Df Residuals:                     998   BIC:                                      2856.\n",
       "Df Model:                           2                                                  \n",
       "Covariance Type:            nonrobust                                                  \n",
       "==============================================================================\n",
       "                 coef    std err          t      P>|t|      [0.025      0.975]\n",
       "------------------------------------------------------------------------------\n",
       "x1             2.1010      0.034     61.624      0.000       2.034       2.168\n",
       "x2             5.0169      0.050    100.174      0.000       4.919       5.115\n",
       "==============================================================================\n",
       "Omnibus:                        4.558   Durbin-Watson:                   1.984\n",
       "Prob(Omnibus):                  0.102   Jarque-Bera (JB):                4.474\n",
       "Skew:                          -0.134   Prob(JB):                        0.107\n",
       "Kurtosis:                       2.810   Cond. No.                         2.26\n",
       "==============================================================================\n",
       "\n",
       "Notes:\n",
       "[1] R² is computed without centering (uncentered) since the model does not contain a constant.\n",
       "[2] Standard Errors assume that the covariance matrix of the errors is correctly specified.\n",
       "\"\"\""
      ]
     },
     "execution_count": 10,
     "metadata": {},
     "output_type": "execute_result"
    }
   ],
   "source": [
    "model = OLS(np.asarray(df[outcome]), np.asarray(df[[common_cause, treatment]], dtype=np.float64))\n",
    "result = model.fit()\n",
    "result.summary()"
   ]
  }
 ],
 "metadata": {
  "kernelspec": {
   "display_name": "Python 3",
   "language": "python",
   "name": "python3"
  },
  "language_info": {
   "codemirror_mode": {
    "name": "ipython",
    "version": 3
   },
   "file_extension": ".py",
   "mimetype": "text/x-python",
   "name": "python",
   "nbconvert_exporter": "python",
   "pygments_lexer": "ipython3",
   "version": "3.8.10"
  },
  "toc": {
   "base_numbering": 1,
   "nav_menu": {},
   "number_sections": false,
   "sideBar": true,
   "skip_h1_title": true,
   "title_cell": "Table of Contents",
   "title_sidebar": "Contents",
   "toc_cell": false,
   "toc_position": {},
   "toc_section_display": true,
   "toc_window_display": false
  }
 },
 "nbformat": 4,
 "nbformat_minor": 4
}
