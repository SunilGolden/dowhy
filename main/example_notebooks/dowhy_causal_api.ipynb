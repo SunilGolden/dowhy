{
 "cells": [
  {
   "cell_type": "markdown",
   "metadata": {},
   "source": [
    "# Demo for the DoWhy causal API\n",
    "We show a simple example of adding a causal extension to any dataframe. "
   ]
  },
  {
   "cell_type": "code",
   "execution_count": 1,
   "metadata": {
    "execution": {
     "iopub.execute_input": "2023-01-24T21:11:53.516455Z",
     "iopub.status.busy": "2023-01-24T21:11:53.516093Z",
     "iopub.status.idle": "2023-01-24T21:11:55.338178Z",
     "shell.execute_reply": "2023-01-24T21:11:55.337556Z"
    }
   },
   "outputs": [],
   "source": [
    "import dowhy.datasets\n",
    "import dowhy.api\n",
    "\n",
    "import numpy as np\n",
    "import pandas as pd\n",
    "\n",
    "from statsmodels.api import OLS"
   ]
  },
  {
   "cell_type": "code",
   "execution_count": 2,
   "metadata": {
    "execution": {
     "iopub.execute_input": "2023-01-24T21:11:55.341735Z",
     "iopub.status.busy": "2023-01-24T21:11:55.341098Z",
     "iopub.status.idle": "2023-01-24T21:11:55.384917Z",
     "shell.execute_reply": "2023-01-24T21:11:55.384290Z"
    }
   },
   "outputs": [
    {
     "data": {
      "text/html": [
       "<div>\n",
       "<style scoped>\n",
       "    .dataframe tbody tr th:only-of-type {\n",
       "        vertical-align: middle;\n",
       "    }\n",
       "\n",
       "    .dataframe tbody tr th {\n",
       "        vertical-align: top;\n",
       "    }\n",
       "\n",
       "    .dataframe thead th {\n",
       "        text-align: right;\n",
       "    }\n",
       "</style>\n",
       "<table border=\"1\" class=\"dataframe\">\n",
       "  <thead>\n",
       "    <tr style=\"text-align: right;\">\n",
       "      <th></th>\n",
       "      <th>W0</th>\n",
       "      <th>v0</th>\n",
       "      <th>y</th>\n",
       "    </tr>\n",
       "  </thead>\n",
       "  <tbody>\n",
       "    <tr>\n",
       "      <th>0</th>\n",
       "      <td>0.389050</td>\n",
       "      <td>True</td>\n",
       "      <td>4.047824</td>\n",
       "    </tr>\n",
       "    <tr>\n",
       "      <th>1</th>\n",
       "      <td>0.824519</td>\n",
       "      <td>False</td>\n",
       "      <td>0.971257</td>\n",
       "    </tr>\n",
       "    <tr>\n",
       "      <th>2</th>\n",
       "      <td>0.372476</td>\n",
       "      <td>True</td>\n",
       "      <td>3.453247</td>\n",
       "    </tr>\n",
       "    <tr>\n",
       "      <th>3</th>\n",
       "      <td>1.757448</td>\n",
       "      <td>False</td>\n",
       "      <td>-0.456451</td>\n",
       "    </tr>\n",
       "    <tr>\n",
       "      <th>4</th>\n",
       "      <td>0.465103</td>\n",
       "      <td>True</td>\n",
       "      <td>3.647494</td>\n",
       "    </tr>\n",
       "    <tr>\n",
       "      <th>...</th>\n",
       "      <td>...</td>\n",
       "      <td>...</td>\n",
       "      <td>...</td>\n",
       "    </tr>\n",
       "    <tr>\n",
       "      <th>995</th>\n",
       "      <td>0.490090</td>\n",
       "      <td>True</td>\n",
       "      <td>4.473940</td>\n",
       "    </tr>\n",
       "    <tr>\n",
       "      <th>996</th>\n",
       "      <td>-1.011021</td>\n",
       "      <td>False</td>\n",
       "      <td>0.127955</td>\n",
       "    </tr>\n",
       "    <tr>\n",
       "      <th>997</th>\n",
       "      <td>0.554732</td>\n",
       "      <td>False</td>\n",
       "      <td>-0.144291</td>\n",
       "    </tr>\n",
       "    <tr>\n",
       "      <th>998</th>\n",
       "      <td>2.998804</td>\n",
       "      <td>False</td>\n",
       "      <td>-0.079245</td>\n",
       "    </tr>\n",
       "    <tr>\n",
       "      <th>999</th>\n",
       "      <td>-0.442976</td>\n",
       "      <td>True</td>\n",
       "      <td>5.033237</td>\n",
       "    </tr>\n",
       "  </tbody>\n",
       "</table>\n",
       "<p>1000 rows × 3 columns</p>\n",
       "</div>"
      ],
      "text/plain": [
       "           W0     v0         y\n",
       "0    0.389050   True  4.047824\n",
       "1    0.824519  False  0.971257\n",
       "2    0.372476   True  3.453247\n",
       "3    1.757448  False -0.456451\n",
       "4    0.465103   True  3.647494\n",
       "..        ...    ...       ...\n",
       "995  0.490090   True  4.473940\n",
       "996 -1.011021  False  0.127955\n",
       "997  0.554732  False -0.144291\n",
       "998  2.998804  False -0.079245\n",
       "999 -0.442976   True  5.033237\n",
       "\n",
       "[1000 rows x 3 columns]"
      ]
     },
     "execution_count": 2,
     "metadata": {},
     "output_type": "execute_result"
    }
   ],
   "source": [
    "data = dowhy.datasets.linear_dataset(beta=5,\n",
    "        num_common_causes=1,\n",
    "        num_instruments = 0,\n",
    "        num_samples=1000,\n",
    "        treatment_is_binary=True)\n",
    "df = data['df']\n",
    "df['y'] = df['y'] + np.random.normal(size=len(df)) # Adding noise to data. Without noise, the variance in Y|X, Z is zero, and mcmc fails.\n",
    "#data['dot_graph'] = 'digraph { v ->y;X0-> v;X0-> y;}'\n",
    "\n",
    "treatment= data[\"treatment_name\"][0]\n",
    "outcome = data[\"outcome_name\"][0]\n",
    "common_cause = data[\"common_causes_names\"][0]\n",
    "df"
   ]
  },
  {
   "cell_type": "code",
   "execution_count": 3,
   "metadata": {
    "execution": {
     "iopub.execute_input": "2023-01-24T21:11:55.387789Z",
     "iopub.status.busy": "2023-01-24T21:11:55.387300Z",
     "iopub.status.idle": "2023-01-24T21:11:55.534289Z",
     "shell.execute_reply": "2023-01-24T21:11:55.533775Z"
    }
   },
   "outputs": [
    {
     "data": {
      "text/plain": [
       "<AxesSubplot: xlabel='v0'>"
      ]
     },
     "execution_count": 3,
     "metadata": {},
     "output_type": "execute_result"
    },
    {
     "data": {
      "image/png": "[encoded data removed]",
      "text/plain": [
       "<Figure size 640x480 with 1 Axes>"
      ]
     },
     "metadata": {},
     "output_type": "display_data"
    }
   ],
   "source": [
    "# data['df'] is just a regular pandas.DataFrame\n",
    "df.causal.do(x=treatment,\n",
    "                     variable_types={treatment: 'b', outcome: 'c', common_cause: 'c'},\n",
    "                     outcome=outcome,\n",
    "                     common_causes=[common_cause],\n",
    "                     proceed_when_unidentifiable=True).groupby(treatment).mean().plot(y=outcome, kind='bar')"
   ]
  },
  {
   "cell_type": "code",
   "execution_count": 4,
   "metadata": {
    "execution": {
     "iopub.execute_input": "2023-01-24T21:11:55.536969Z",
     "iopub.status.busy": "2023-01-24T21:11:55.536634Z",
     "iopub.status.idle": "2023-01-24T21:11:55.647923Z",
     "shell.execute_reply": "2023-01-24T21:11:55.647393Z"
    }
   },
   "outputs": [
    {
     "data": {
      "text/plain": [
       "<AxesSubplot: xlabel='v0'>"
      ]
     },
     "execution_count": 4,
     "metadata": {},
     "output_type": "execute_result"
    },
    {
     "data": {
      "image/png": "[encoded data removed]",
      "text/plain": [
       "<Figure size 640x480 with 1 Axes>"
      ]
     },
     "metadata": {},
     "output_type": "display_data"
    }
   ],
   "source": [
    "df.causal.do(x={treatment: 1}, \n",
    "              variable_types={treatment:'b', outcome: 'c', common_cause: 'c'}, \n",
    "              outcome=outcome,\n",
    "              method='weighting', \n",
    "              common_causes=[common_cause],\n",
    "              proceed_when_unidentifiable=True).groupby(treatment).mean().plot(y=outcome, kind='bar')"
   ]
  },
  {
   "cell_type": "code",
   "execution_count": 5,
   "metadata": {
    "execution": {
     "iopub.execute_input": "2023-01-24T21:11:55.650572Z",
     "iopub.status.busy": "2023-01-24T21:11:55.650170Z",
     "iopub.status.idle": "2023-01-24T21:11:55.678985Z",
     "shell.execute_reply": "2023-01-24T21:11:55.678471Z"
    }
   },
   "outputs": [],
   "source": [
    "cdf_1 = df.causal.do(x={treatment: 1}, \n",
    "              variable_types={treatment: 'b', outcome: 'c', common_cause: 'c'}, \n",
    "              outcome=outcome, \n",
    "              dot_graph=data['dot_graph'],\n",
    "              proceed_when_unidentifiable=True)\n",
    "\n",
    "cdf_0 = df.causal.do(x={treatment: 0}, \n",
    "              variable_types={treatment: 'b', outcome: 'c', common_cause: 'c'}, \n",
    "              outcome=outcome, \n",
    "              dot_graph=data['dot_graph'],\n",
    "              proceed_when_unidentifiable=True)\n"
   ]
  },
  {
   "cell_type": "code",
   "execution_count": 6,
   "metadata": {
    "execution": {
     "iopub.execute_input": "2023-01-24T21:11:55.681761Z",
     "iopub.status.busy": "2023-01-24T21:11:55.681359Z",
     "iopub.status.idle": "2023-01-24T21:11:55.690844Z",
     "shell.execute_reply": "2023-01-24T21:11:55.690390Z"
    },
    "scrolled": true
   },
   "outputs": [
    {
     "data": {
      "text/html": [
       "<div>\n",
       "<style scoped>\n",
       "    .dataframe tbody tr th:only-of-type {\n",
       "        vertical-align: middle;\n",
       "    }\n",
       "\n",
       "    .dataframe tbody tr th {\n",
       "        vertical-align: top;\n",
       "    }\n",
       "\n",
       "    .dataframe thead th {\n",
       "        text-align: right;\n",
       "    }\n",
       "</style>\n",
       "<table border=\"1\" class=\"dataframe\">\n",
       "  <thead>\n",
       "    <tr style=\"text-align: right;\">\n",
       "      <th></th>\n",
       "      <th>W0</th>\n",
       "      <th>v0</th>\n",
       "      <th>y</th>\n",
       "      <th>propensity_score</th>\n",
       "      <th>weight</th>\n",
       "    </tr>\n",
       "  </thead>\n",
       "  <tbody>\n",
       "    <tr>\n",
       "      <th>0</th>\n",
       "      <td>-0.472198</td>\n",
       "      <td>False</td>\n",
       "      <td>-1.481135</td>\n",
       "      <td>0.518445</td>\n",
       "      <td>1.928844</td>\n",
       "    </tr>\n",
       "    <tr>\n",
       "      <th>1</th>\n",
       "      <td>-1.469897</td>\n",
       "      <td>False</td>\n",
       "      <td>-0.837376</td>\n",
       "      <td>0.562333</td>\n",
       "      <td>1.778306</td>\n",
       "    </tr>\n",
       "    <tr>\n",
       "      <th>2</th>\n",
       "      <td>-0.218731</td>\n",
       "      <td>False</td>\n",
       "      <td>1.390149</td>\n",
       "      <td>0.507223</td>\n",
       "      <td>1.971521</td>\n",
       "    </tr>\n",
       "    <tr>\n",
       "      <th>3</th>\n",
       "      <td>1.203872</td>\n",
       "      <td>False</td>\n",
       "      <td>0.637244</td>\n",
       "      <td>0.444422</td>\n",
       "      <td>2.250113</td>\n",
       "    </tr>\n",
       "    <tr>\n",
       "      <th>4</th>\n",
       "      <td>-1.869815</td>\n",
       "      <td>False</td>\n",
       "      <td>-0.978760</td>\n",
       "      <td>0.579693</td>\n",
       "      <td>1.725051</td>\n",
       "    </tr>\n",
       "    <tr>\n",
       "      <th>...</th>\n",
       "      <td>...</td>\n",
       "      <td>...</td>\n",
       "      <td>...</td>\n",
       "      <td>...</td>\n",
       "      <td>...</td>\n",
       "    </tr>\n",
       "    <tr>\n",
       "      <th>995</th>\n",
       "      <td>-0.081905</td>\n",
       "      <td>False</td>\n",
       "      <td>0.369544</td>\n",
       "      <td>0.501161</td>\n",
       "      <td>1.995367</td>\n",
       "    </tr>\n",
       "    <tr>\n",
       "      <th>996</th>\n",
       "      <td>0.582789</td>\n",
       "      <td>False</td>\n",
       "      <td>1.262328</td>\n",
       "      <td>0.471740</td>\n",
       "      <td>2.119811</td>\n",
       "    </tr>\n",
       "    <tr>\n",
       "      <th>997</th>\n",
       "      <td>1.556509</td>\n",
       "      <td>False</td>\n",
       "      <td>0.245223</td>\n",
       "      <td>0.429049</td>\n",
       "      <td>2.330735</td>\n",
       "    </tr>\n",
       "    <tr>\n",
       "      <th>998</th>\n",
       "      <td>1.350960</td>\n",
       "      <td>False</td>\n",
       "      <td>0.524023</td>\n",
       "      <td>0.437995</td>\n",
       "      <td>2.283130</td>\n",
       "    </tr>\n",
       "    <tr>\n",
       "      <th>999</th>\n",
       "      <td>0.077162</td>\n",
       "      <td>False</td>\n",
       "      <td>0.460122</td>\n",
       "      <td>0.494113</td>\n",
       "      <td>2.023827</td>\n",
       "    </tr>\n",
       "  </tbody>\n",
       "</table>\n",
       "<p>1000 rows × 5 columns</p>\n",
       "</div>"
      ],
      "text/plain": [
       "           W0     v0         y  propensity_score    weight\n",
       "0   -0.472198  False -1.481135          0.518445  1.928844\n",
       "1   -1.469897  False -0.837376          0.562333  1.778306\n",
       "2   -0.218731  False  1.390149          0.507223  1.971521\n",
       "3    1.203872  False  0.637244          0.444422  2.250113\n",
       "4   -1.869815  False -0.978760          0.579693  1.725051\n",
       "..        ...    ...       ...               ...       ...\n",
       "995 -0.081905  False  0.369544          0.501161  1.995367\n",
       "996  0.582789  False  1.262328          0.471740  2.119811\n",
       "997  1.556509  False  0.245223          0.429049  2.330735\n",
       "998  1.350960  False  0.524023          0.437995  2.283130\n",
       "999  0.077162  False  0.460122          0.494113  2.023827\n",
       "\n",
       "[1000 rows x 5 columns]"
      ]
     },
     "execution_count": 6,
     "metadata": {},
     "output_type": "execute_result"
    }
   ],
   "source": [
    "cdf_0"
   ]
  },
  {
   "cell_type": "code",
   "execution_count": 7,
   "metadata": {
    "execution": {
     "iopub.execute_input": "2023-01-24T21:11:55.693276Z",
     "iopub.status.busy": "2023-01-24T21:11:55.692894Z",
     "iopub.status.idle": "2023-01-24T21:11:55.702059Z",
     "shell.execute_reply": "2023-01-24T21:11:55.701610Z"
    }
   },
   "outputs": [
    {
     "data": {
      "text/html": [
       "<div>\n",
       "<style scoped>\n",
       "    .dataframe tbody tr th:only-of-type {\n",
       "        vertical-align: middle;\n",
       "    }\n",
       "\n",
       "    .dataframe tbody tr th {\n",
       "        vertical-align: top;\n",
       "    }\n",
       "\n",
       "    .dataframe thead th {\n",
       "        text-align: right;\n",
       "    }\n",
       "</style>\n",
       "<table border=\"1\" class=\"dataframe\">\n",
       "  <thead>\n",
       "    <tr style=\"text-align: right;\">\n",
       "      <th></th>\n",
       "      <th>W0</th>\n",
       "      <th>v0</th>\n",
       "      <th>y</th>\n",
       "      <th>propensity_score</th>\n",
       "      <th>weight</th>\n",
       "    </tr>\n",
       "  </thead>\n",
       "  <tbody>\n",
       "    <tr>\n",
       "      <th>0</th>\n",
       "      <td>0.650402</td>\n",
       "      <td>True</td>\n",
       "      <td>5.682519</td>\n",
       "      <td>0.531245</td>\n",
       "      <td>1.882371</td>\n",
       "    </tr>\n",
       "    <tr>\n",
       "      <th>1</th>\n",
       "      <td>1.817854</td>\n",
       "      <td>True</td>\n",
       "      <td>5.937038</td>\n",
       "      <td>0.582258</td>\n",
       "      <td>1.717452</td>\n",
       "    </tr>\n",
       "    <tr>\n",
       "      <th>2</th>\n",
       "      <td>0.337701</td>\n",
       "      <td>True</td>\n",
       "      <td>4.473655</td>\n",
       "      <td>0.517424</td>\n",
       "      <td>1.932652</td>\n",
       "    </tr>\n",
       "    <tr>\n",
       "      <th>3</th>\n",
       "      <td>0.738157</td>\n",
       "      <td>True</td>\n",
       "      <td>5.271768</td>\n",
       "      <td>0.535116</td>\n",
       "      <td>1.868754</td>\n",
       "    </tr>\n",
       "    <tr>\n",
       "      <th>4</th>\n",
       "      <td>-0.218778</td>\n",
       "      <td>True</td>\n",
       "      <td>5.414599</td>\n",
       "      <td>0.492775</td>\n",
       "      <td>2.029323</td>\n",
       "    </tr>\n",
       "    <tr>\n",
       "      <th>...</th>\n",
       "      <td>...</td>\n",
       "      <td>...</td>\n",
       "      <td>...</td>\n",
       "      <td>...</td>\n",
       "      <td>...</td>\n",
       "    </tr>\n",
       "    <tr>\n",
       "      <th>995</th>\n",
       "      <td>-0.870939</td>\n",
       "      <td>True</td>\n",
       "      <td>5.818343</td>\n",
       "      <td>0.463942</td>\n",
       "      <td>2.155442</td>\n",
       "    </tr>\n",
       "    <tr>\n",
       "      <th>996</th>\n",
       "      <td>0.367271</td>\n",
       "      <td>True</td>\n",
       "      <td>4.420943</td>\n",
       "      <td>0.518732</td>\n",
       "      <td>1.927777</td>\n",
       "    </tr>\n",
       "    <tr>\n",
       "      <th>997</th>\n",
       "      <td>0.431721</td>\n",
       "      <td>True</td>\n",
       "      <td>6.548701</td>\n",
       "      <td>0.521583</td>\n",
       "      <td>1.917240</td>\n",
       "    </tr>\n",
       "    <tr>\n",
       "      <th>998</th>\n",
       "      <td>2.400081</td>\n",
       "      <td>True</td>\n",
       "      <td>5.736191</td>\n",
       "      <td>0.607124</td>\n",
       "      <td>1.647111</td>\n",
       "    </tr>\n",
       "    <tr>\n",
       "      <th>999</th>\n",
       "      <td>0.116177</td>\n",
       "      <td>True</td>\n",
       "      <td>5.093725</td>\n",
       "      <td>0.507615</td>\n",
       "      <td>1.969997</td>\n",
       "    </tr>\n",
       "  </tbody>\n",
       "</table>\n",
       "<p>1000 rows × 5 columns</p>\n",
       "</div>"
      ],
      "text/plain": [
       "           W0    v0         y  propensity_score    weight\n",
       "0    0.650402  True  5.682519          0.531245  1.882371\n",
       "1    1.817854  True  5.937038          0.582258  1.717452\n",
       "2    0.337701  True  4.473655          0.517424  1.932652\n",
       "3    0.738157  True  5.271768          0.535116  1.868754\n",
       "4   -0.218778  True  5.414599          0.492775  2.029323\n",
       "..        ...   ...       ...               ...       ...\n",
       "995 -0.870939  True  5.818343          0.463942  2.155442\n",
       "996  0.367271  True  4.420943          0.518732  1.927777\n",
       "997  0.431721  True  6.548701          0.521583  1.917240\n",
       "998  2.400081  True  5.736191          0.607124  1.647111\n",
       "999  0.116177  True  5.093725          0.507615  1.969997\n",
       "\n",
       "[1000 rows x 5 columns]"
      ]
     },
     "execution_count": 7,
     "metadata": {},
     "output_type": "execute_result"
    }
   ],
   "source": [
    "cdf_1"
   ]
  },
  {
   "cell_type": "markdown",
   "metadata": {},
   "source": [
    "## Comparing the estimate to Linear Regression\n",
    "First, estimating the effect using the causal data frame, and the 95% confidence interval."
   ]
  },
  {
   "cell_type": "code",
   "execution_count": 8,
   "metadata": {
    "execution": {
     "iopub.execute_input": "2023-01-24T21:11:55.704570Z",
     "iopub.status.busy": "2023-01-24T21:11:55.704073Z",
     "iopub.status.idle": "2023-01-24T21:11:55.761583Z",
     "shell.execute_reply": "2023-01-24T21:11:55.760996Z"
    }
   },
   "outputs": [
    {
     "data": {
      "image/png": "[encoded data removed]",
      "text/latex": [
       "$\\displaystyle 5.10074925127199$"
      ],
      "text/plain": [
       "5.10074925127199"
      ]
     },
     "execution_count": 8,
     "metadata": {},
     "output_type": "execute_result"
    }
   ],
   "source": [
    "(cdf_1['y'] - cdf_0['y']).mean()"
   ]
  },
  {
   "cell_type": "code",
   "execution_count": 9,
   "metadata": {
    "execution": {
     "iopub.execute_input": "2023-01-24T21:11:55.764599Z",
     "iopub.status.busy": "2023-01-24T21:11:55.764087Z",
     "iopub.status.idle": "2023-01-24T21:11:55.784491Z",
     "shell.execute_reply": "2023-01-24T21:11:55.783878Z"
    }
   },
   "outputs": [
    {
     "data": {
      "image/png": "[encoded data removed]",
      "text/latex": [
       "$\\displaystyle 0.0920514375873635$"
      ],
      "text/plain": [
       "0.09205143758736352"
      ]
     },
     "execution_count": 9,
     "metadata": {},
     "output_type": "execute_result"
    }
   ],
   "source": [
    "1.96*(cdf_1['y'] - cdf_0['y']).std() / np.sqrt(len(df))"
   ]
  },
  {
   "cell_type": "markdown",
   "metadata": {},
   "source": [
    "Comparing to the estimate from OLS."
   ]
  },
  {
   "cell_type": "code",
   "execution_count": 10,
   "metadata": {
    "execution": {
     "iopub.execute_input": "2023-01-24T21:11:55.787296Z",
     "iopub.status.busy": "2023-01-24T21:11:55.786805Z",
     "iopub.status.idle": "2023-01-24T21:11:55.800332Z",
     "shell.execute_reply": "2023-01-24T21:11:55.799730Z"
    }
   },
   "outputs": [
    {
     "data": {
      "text/html": [
       "<table class=\"simpletable\">\n",
       "<caption>OLS Regression Results</caption>\n",
       "<tr>\n",
       "  <th>Dep. Variable:</th>            <td>y</td>        <th>  R-squared (uncentered):</th>      <td>   0.928</td>\n",
       "</tr>\n",
       "<tr>\n",
       "  <th>Model:</th>                   <td>OLS</td>       <th>  Adj. R-squared (uncentered):</th> <td>   0.928</td>\n",
       "</tr>\n",
       "<tr>\n",
       "  <th>Method:</th>             <td>Least Squares</td>  <th>  F-statistic:       </th>          <td>   6422.</td>\n",
       "</tr>\n",
       "<tr>\n",
       "  <th>Date:</th>             <td>Tue, 24 Jan 2023</td> <th>  Prob (F-statistic):</th>           <td>  0.00</td> \n",
       "</tr>\n",
       "<tr>\n",
       "  <th>Time:</th>                 <td>21:11:55</td>     <th>  Log-Likelihood:    </th>          <td> -1449.5</td>\n",
       "</tr>\n",
       "<tr>\n",
       "  <th>No. Observations:</th>      <td>  1000</td>      <th>  AIC:               </th>          <td>   2903.</td>\n",
       "</tr>\n",
       "<tr>\n",
       "  <th>Df Residuals:</th>          <td>   998</td>      <th>  BIC:               </th>          <td>   2913.</td>\n",
       "</tr>\n",
       "<tr>\n",
       "  <th>Df Model:</th>              <td>     2</td>      <th>                     </th>              <td> </td>   \n",
       "</tr>\n",
       "<tr>\n",
       "  <th>Covariance Type:</th>      <td>nonrobust</td>    <th>                     </th>              <td> </td>   \n",
       "</tr>\n",
       "</table>\n",
       "<table class=\"simpletable\">\n",
       "<tr>\n",
       "   <td></td>     <th>coef</th>     <th>std err</th>      <th>t</th>      <th>P>|t|</th>  <th>[0.025</th>    <th>0.975]</th>  \n",
       "</tr>\n",
       "<tr>\n",
       "  <th>x1</th> <td>    0.3001</td> <td>    0.033</td> <td>    9.107</td> <td> 0.000</td> <td>    0.235</td> <td>    0.365</td>\n",
       "</tr>\n",
       "<tr>\n",
       "  <th>x2</th> <td>    5.1089</td> <td>    0.046</td> <td>  110.295</td> <td> 0.000</td> <td>    5.018</td> <td>    5.200</td>\n",
       "</tr>\n",
       "</table>\n",
       "<table class=\"simpletable\">\n",
       "<tr>\n",
       "  <th>Omnibus:</th>       <td> 1.506</td> <th>  Durbin-Watson:     </th> <td>   1.988</td>\n",
       "</tr>\n",
       "<tr>\n",
       "  <th>Prob(Omnibus):</th> <td> 0.471</td> <th>  Jarque-Bera (JB):  </th> <td>   1.367</td>\n",
       "</tr>\n",
       "<tr>\n",
       "  <th>Skew:</th>          <td> 0.070</td> <th>  Prob(JB):          </th> <td>   0.505</td>\n",
       "</tr>\n",
       "<tr>\n",
       "  <th>Kurtosis:</th>      <td> 3.116</td> <th>  Cond. No.          </th> <td>    1.45</td>\n",
       "</tr>\n",
       "</table><br/><br/>Notes:<br/>[1] R² is computed without centering (uncentered) since the model does not contain a constant.<br/>[2] Standard Errors assume that the covariance matrix of the errors is correctly specified."
      ],
      "text/plain": [
       "<class 'statsmodels.iolib.summary.Summary'>\n",
       "\"\"\"\n",
       "                                 OLS Regression Results                                \n",
       "=======================================================================================\n",
       "Dep. Variable:                      y   R-squared (uncentered):                   0.928\n",
       "Model:                            OLS   Adj. R-squared (uncentered):              0.928\n",
       "Method:                 Least Squares   F-statistic:                              6422.\n",
       "Date:                Tue, 24 Jan 2023   Prob (F-statistic):                        0.00\n",
       "Time:                        21:11:55   Log-Likelihood:                         -1449.5\n",
       "No. Observations:                1000   AIC:                                      2903.\n",
       "Df Residuals:                     998   BIC:                                      2913.\n",
       "Df Model:                           2                                                  \n",
       "Covariance Type:            nonrobust                                                  \n",
       "==============================================================================\n",
       "                 coef    std err          t      P>|t|      [0.025      0.975]\n",
       "------------------------------------------------------------------------------\n",
       "x1             0.3001      0.033      9.107      0.000       0.235       0.365\n",
       "x2             5.1089      0.046    110.295      0.000       5.018       5.200\n",
       "==============================================================================\n",
       "Omnibus:                        1.506   Durbin-Watson:                   1.988\n",
       "Prob(Omnibus):                  0.471   Jarque-Bera (JB):                1.367\n",
       "Skew:                           0.070   Prob(JB):                        0.505\n",
       "Kurtosis:                       3.116   Cond. No.                         1.45\n",
       "==============================================================================\n",
       "\n",
       "Notes:\n",
       "[1] R² is computed without centering (uncentered) since the model does not contain a constant.\n",
       "[2] Standard Errors assume that the covariance matrix of the errors is correctly specified.\n",
       "\"\"\""
      ]
     },
     "execution_count": 10,
     "metadata": {},
     "output_type": "execute_result"
    }
   ],
   "source": [
    "model = OLS(np.asarray(df[outcome]), np.asarray(df[[common_cause, treatment]], dtype=np.float64))\n",
    "result = model.fit()\n",
    "result.summary()"
   ]
  }
 ],
 "metadata": {
  "kernelspec": {
   "display_name": "Python 3",
   "language": "python",
   "name": "python3"
  },
  "language_info": {
   "codemirror_mode": {
    "name": "ipython",
    "version": 3
   },
   "file_extension": ".py",
   "mimetype": "text/x-python",
   "name": "python",
   "nbconvert_exporter": "python",
   "pygments_lexer": "ipython3",
   "version": "3.8.10"
  },
  "toc": {
   "base_numbering": 1,
   "nav_menu": {},
   "number_sections": false,
   "sideBar": true,
   "skip_h1_title": true,
   "title_cell": "Table of Contents",
   "title_sidebar": "Contents",
   "toc_cell": false,
   "toc_position": {},
   "toc_section_display": true,
   "toc_window_display": false
  }
 },
 "nbformat": 4,
 "nbformat_minor": 4
}
