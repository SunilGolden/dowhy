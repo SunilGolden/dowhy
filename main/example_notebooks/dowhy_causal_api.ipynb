{
 "cells": [
  {
   "cell_type": "markdown",
   "metadata": {},
   "source": [
    "# Demo for the DoWhy causal API\n",
    "We show a simple example of adding a causal extension to any dataframe. "
   ]
  },
  {
   "cell_type": "code",
   "execution_count": 1,
   "metadata": {
    "execution": {
     "iopub.execute_input": "2023-03-06T15:20:51.118425Z",
     "iopub.status.busy": "2023-03-06T15:20:51.117988Z",
     "iopub.status.idle": "2023-03-06T15:20:52.924806Z",
     "shell.execute_reply": "2023-03-06T15:20:52.924059Z"
    }
   },
   "outputs": [],
   "source": [
    "import dowhy.datasets\n",
    "import dowhy.api\n",
    "\n",
    "import numpy as np\n",
    "import pandas as pd\n",
    "\n",
    "from statsmodels.api import OLS"
   ]
  },
  {
   "cell_type": "code",
   "execution_count": 2,
   "metadata": {
    "execution": {
     "iopub.execute_input": "2023-03-06T15:20:52.929017Z",
     "iopub.status.busy": "2023-03-06T15:20:52.928435Z",
     "iopub.status.idle": "2023-03-06T15:20:52.979867Z",
     "shell.execute_reply": "2023-03-06T15:20:52.979122Z"
    }
   },
   "outputs": [
    {
     "data": {
      "text/html": [
       "<div>\n",
       "<style scoped>\n",
       "    .dataframe tbody tr th:only-of-type {\n",
       "        vertical-align: middle;\n",
       "    }\n",
       "\n",
       "    .dataframe tbody tr th {\n",
       "        vertical-align: top;\n",
       "    }\n",
       "\n",
       "    .dataframe thead th {\n",
       "        text-align: right;\n",
       "    }\n",
       "</style>\n",
       "<table border=\"1\" class=\"dataframe\">\n",
       "  <thead>\n",
       "    <tr style=\"text-align: right;\">\n",
       "      <th></th>\n",
       "      <th>W0</th>\n",
       "      <th>v0</th>\n",
       "      <th>y</th>\n",
       "    </tr>\n",
       "  </thead>\n",
       "  <tbody>\n",
       "    <tr>\n",
       "      <th>0</th>\n",
       "      <td>-1.338049</td>\n",
       "      <td>False</td>\n",
       "      <td>-4.233312</td>\n",
       "    </tr>\n",
       "    <tr>\n",
       "      <th>1</th>\n",
       "      <td>-1.580636</td>\n",
       "      <td>False</td>\n",
       "      <td>-3.797205</td>\n",
       "    </tr>\n",
       "    <tr>\n",
       "      <th>2</th>\n",
       "      <td>-1.875103</td>\n",
       "      <td>False</td>\n",
       "      <td>-4.676381</td>\n",
       "    </tr>\n",
       "    <tr>\n",
       "      <th>3</th>\n",
       "      <td>-0.455144</td>\n",
       "      <td>False</td>\n",
       "      <td>-0.943806</td>\n",
       "    </tr>\n",
       "    <tr>\n",
       "      <th>4</th>\n",
       "      <td>0.281895</td>\n",
       "      <td>False</td>\n",
       "      <td>0.341403</td>\n",
       "    </tr>\n",
       "    <tr>\n",
       "      <th>...</th>\n",
       "      <td>...</td>\n",
       "      <td>...</td>\n",
       "      <td>...</td>\n",
       "    </tr>\n",
       "    <tr>\n",
       "      <th>995</th>\n",
       "      <td>0.557417</td>\n",
       "      <td>True</td>\n",
       "      <td>8.441512</td>\n",
       "    </tr>\n",
       "    <tr>\n",
       "      <th>996</th>\n",
       "      <td>1.168337</td>\n",
       "      <td>True</td>\n",
       "      <td>7.231467</td>\n",
       "    </tr>\n",
       "    <tr>\n",
       "      <th>997</th>\n",
       "      <td>0.156181</td>\n",
       "      <td>False</td>\n",
       "      <td>-1.662032</td>\n",
       "    </tr>\n",
       "    <tr>\n",
       "      <th>998</th>\n",
       "      <td>-0.757368</td>\n",
       "      <td>False</td>\n",
       "      <td>-1.928380</td>\n",
       "    </tr>\n",
       "    <tr>\n",
       "      <th>999</th>\n",
       "      <td>-1.792128</td>\n",
       "      <td>False</td>\n",
       "      <td>-3.034354</td>\n",
       "    </tr>\n",
       "  </tbody>\n",
       "</table>\n",
       "<p>1000 rows × 3 columns</p>\n",
       "</div>"
      ],
      "text/plain": [
       "           W0     v0         y\n",
       "0   -1.338049  False -4.233312\n",
       "1   -1.580636  False -3.797205\n",
       "2   -1.875103  False -4.676381\n",
       "3   -0.455144  False -0.943806\n",
       "4    0.281895  False  0.341403\n",
       "..        ...    ...       ...\n",
       "995  0.557417   True  8.441512\n",
       "996  1.168337   True  7.231467\n",
       "997  0.156181  False -1.662032\n",
       "998 -0.757368  False -1.928380\n",
       "999 -1.792128  False -3.034354\n",
       "\n",
       "[1000 rows x 3 columns]"
      ]
     },
     "execution_count": 2,
     "metadata": {},
     "output_type": "execute_result"
    }
   ],
   "source": [
    "data = dowhy.datasets.linear_dataset(beta=5,\n",
    "        num_common_causes=1,\n",
    "        num_instruments = 0,\n",
    "        num_samples=1000,\n",
    "        treatment_is_binary=True)\n",
    "df = data['df']\n",
    "df['y'] = df['y'] + np.random.normal(size=len(df)) # Adding noise to data. Without noise, the variance in Y|X, Z is zero, and mcmc fails.\n",
    "#data['dot_graph'] = 'digraph { v ->y;X0-> v;X0-> y;}'\n",
    "\n",
    "treatment= data[\"treatment_name\"][0]\n",
    "outcome = data[\"outcome_name\"][0]\n",
    "common_cause = data[\"common_causes_names\"][0]\n",
    "df"
   ]
  },
  {
   "cell_type": "code",
   "execution_count": 3,
   "metadata": {
    "execution": {
     "iopub.execute_input": "2023-03-06T15:20:52.983318Z",
     "iopub.status.busy": "2023-03-06T15:20:52.982896Z",
     "iopub.status.idle": "2023-03-06T15:20:53.151224Z",
     "shell.execute_reply": "2023-03-06T15:20:53.150559Z"
    }
   },
   "outputs": [
    {
     "data": {
      "text/plain": [
       "<AxesSubplot: xlabel='v0'>"
      ]
     },
     "execution_count": 3,
     "metadata": {},
     "output_type": "execute_result"
    },
    {
     "data": {
      "image/png": "[encoded data removed]",
      "text/plain": [
       "<Figure size 640x480 with 1 Axes>"
      ]
     },
     "metadata": {},
     "output_type": "display_data"
    }
   ],
   "source": [
    "# data['df'] is just a regular pandas.DataFrame\n",
    "df.causal.do(x=treatment,\n",
    "                     variable_types={treatment: 'b', outcome: 'c', common_cause: 'c'},\n",
    "                     outcome=outcome,\n",
    "                     common_causes=[common_cause],\n",
    "                     proceed_when_unidentifiable=True).groupby(treatment).mean().plot(y=outcome, kind='bar')"
   ]
  },
  {
   "cell_type": "code",
   "execution_count": 4,
   "metadata": {
    "execution": {
     "iopub.execute_input": "2023-03-06T15:20:53.154731Z",
     "iopub.status.busy": "2023-03-06T15:20:53.154276Z",
     "iopub.status.idle": "2023-03-06T15:20:53.406624Z",
     "shell.execute_reply": "2023-03-06T15:20:53.405732Z"
    }
   },
   "outputs": [
    {
     "data": {
      "text/plain": [
       "<AxesSubplot: xlabel='v0'>"
      ]
     },
     "execution_count": 4,
     "metadata": {},
     "output_type": "execute_result"
    },
    {
     "data": {
      "image/png": "[encoded data removed]",
      "text/plain": [
       "<Figure size 640x480 with 1 Axes>"
      ]
     },
     "metadata": {},
     "output_type": "display_data"
    }
   ],
   "source": [
    "df.causal.do(x={treatment: 1}, \n",
    "              variable_types={treatment:'b', outcome: 'c', common_cause: 'c'}, \n",
    "              outcome=outcome,\n",
    "              method='weighting', \n",
    "              common_causes=[common_cause],\n",
    "              proceed_when_unidentifiable=True).groupby(treatment).mean().plot(y=outcome, kind='bar')"
   ]
  },
  {
   "cell_type": "code",
   "execution_count": 5,
   "metadata": {
    "execution": {
     "iopub.execute_input": "2023-03-06T15:20:53.410331Z",
     "iopub.status.busy": "2023-03-06T15:20:53.409857Z",
     "iopub.status.idle": "2023-03-06T15:20:53.444633Z",
     "shell.execute_reply": "2023-03-06T15:20:53.443888Z"
    }
   },
   "outputs": [],
   "source": [
    "cdf_1 = df.causal.do(x={treatment: 1}, \n",
    "              variable_types={treatment: 'b', outcome: 'c', common_cause: 'c'}, \n",
    "              outcome=outcome, \n",
    "              dot_graph=data['dot_graph'],\n",
    "              proceed_when_unidentifiable=True)\n",
    "\n",
    "cdf_0 = df.causal.do(x={treatment: 0}, \n",
    "              variable_types={treatment: 'b', outcome: 'c', common_cause: 'c'}, \n",
    "              outcome=outcome, \n",
    "              dot_graph=data['dot_graph'],\n",
    "              proceed_when_unidentifiable=True)\n"
   ]
  },
  {
   "cell_type": "code",
   "execution_count": 6,
   "metadata": {
    "execution": {
     "iopub.execute_input": "2023-03-06T15:20:53.449629Z",
     "iopub.status.busy": "2023-03-06T15:20:53.449344Z",
     "iopub.status.idle": "2023-03-06T15:20:53.461021Z",
     "shell.execute_reply": "2023-03-06T15:20:53.460280Z"
    },
    "scrolled": true
   },
   "outputs": [
    {
     "data": {
      "text/html": [
       "<div>\n",
       "<style scoped>\n",
       "    .dataframe tbody tr th:only-of-type {\n",
       "        vertical-align: middle;\n",
       "    }\n",
       "\n",
       "    .dataframe tbody tr th {\n",
       "        vertical-align: top;\n",
       "    }\n",
       "\n",
       "    .dataframe thead th {\n",
       "        text-align: right;\n",
       "    }\n",
       "</style>\n",
       "<table border=\"1\" class=\"dataframe\">\n",
       "  <thead>\n",
       "    <tr style=\"text-align: right;\">\n",
       "      <th></th>\n",
       "      <th>W0</th>\n",
       "      <th>v0</th>\n",
       "      <th>y</th>\n",
       "      <th>propensity_score</th>\n",
       "      <th>weight</th>\n",
       "    </tr>\n",
       "  </thead>\n",
       "  <tbody>\n",
       "    <tr>\n",
       "      <th>0</th>\n",
       "      <td>-0.648627</td>\n",
       "      <td>False</td>\n",
       "      <td>-3.658266</td>\n",
       "      <td>0.786290</td>\n",
       "      <td>1.271796</td>\n",
       "    </tr>\n",
       "    <tr>\n",
       "      <th>1</th>\n",
       "      <td>-0.265916</td>\n",
       "      <td>False</td>\n",
       "      <td>-0.555883</td>\n",
       "      <td>0.619202</td>\n",
       "      <td>1.614982</td>\n",
       "    </tr>\n",
       "    <tr>\n",
       "      <th>2</th>\n",
       "      <td>0.295765</td>\n",
       "      <td>False</td>\n",
       "      <td>1.920820</td>\n",
       "      <td>0.329107</td>\n",
       "      <td>3.038524</td>\n",
       "    </tr>\n",
       "    <tr>\n",
       "      <th>3</th>\n",
       "      <td>0.281895</td>\n",
       "      <td>False</td>\n",
       "      <td>0.341403</td>\n",
       "      <td>0.335674</td>\n",
       "      <td>2.979082</td>\n",
       "    </tr>\n",
       "    <tr>\n",
       "      <th>4</th>\n",
       "      <td>-1.829257</td>\n",
       "      <td>False</td>\n",
       "      <td>-6.663657</td>\n",
       "      <td>0.978578</td>\n",
       "      <td>1.021891</td>\n",
       "    </tr>\n",
       "    <tr>\n",
       "      <th>...</th>\n",
       "      <td>...</td>\n",
       "      <td>...</td>\n",
       "      <td>...</td>\n",
       "      <td>...</td>\n",
       "      <td>...</td>\n",
       "    </tr>\n",
       "    <tr>\n",
       "      <th>995</th>\n",
       "      <td>-0.791864</td>\n",
       "      <td>False</td>\n",
       "      <td>-2.826509</td>\n",
       "      <td>0.833177</td>\n",
       "      <td>1.200225</td>\n",
       "    </tr>\n",
       "    <tr>\n",
       "      <th>996</th>\n",
       "      <td>-0.897267</td>\n",
       "      <td>False</td>\n",
       "      <td>-3.021374</td>\n",
       "      <td>0.862142</td>\n",
       "      <td>1.159901</td>\n",
       "    </tr>\n",
       "    <tr>\n",
       "      <th>997</th>\n",
       "      <td>-0.411101</td>\n",
       "      <td>False</td>\n",
       "      <td>-2.201869</td>\n",
       "      <td>0.689102</td>\n",
       "      <td>1.451163</td>\n",
       "    </tr>\n",
       "    <tr>\n",
       "      <th>998</th>\n",
       "      <td>0.460297</td>\n",
       "      <td>False</td>\n",
       "      <td>1.290784</td>\n",
       "      <td>0.256685</td>\n",
       "      <td>3.895819</td>\n",
       "    </tr>\n",
       "    <tr>\n",
       "      <th>999</th>\n",
       "      <td>-0.616507</td>\n",
       "      <td>False</td>\n",
       "      <td>-1.846186</td>\n",
       "      <td>0.774549</td>\n",
       "      <td>1.291074</td>\n",
       "    </tr>\n",
       "  </tbody>\n",
       "</table>\n",
       "<p>1000 rows × 5 columns</p>\n",
       "</div>"
      ],
      "text/plain": [
       "           W0     v0         y  propensity_score    weight\n",
       "0   -0.648627  False -3.658266          0.786290  1.271796\n",
       "1   -0.265916  False -0.555883          0.619202  1.614982\n",
       "2    0.295765  False  1.920820          0.329107  3.038524\n",
       "3    0.281895  False  0.341403          0.335674  2.979082\n",
       "4   -1.829257  False -6.663657          0.978578  1.021891\n",
       "..        ...    ...       ...               ...       ...\n",
       "995 -0.791864  False -2.826509          0.833177  1.200225\n",
       "996 -0.897267  False -3.021374          0.862142  1.159901\n",
       "997 -0.411101  False -2.201869          0.689102  1.451163\n",
       "998  0.460297  False  1.290784          0.256685  3.895819\n",
       "999 -0.616507  False -1.846186          0.774549  1.291074\n",
       "\n",
       "[1000 rows x 5 columns]"
      ]
     },
     "execution_count": 6,
     "metadata": {},
     "output_type": "execute_result"
    }
   ],
   "source": [
    "cdf_0"
   ]
  },
  {
   "cell_type": "code",
   "execution_count": 7,
   "metadata": {
    "execution": {
     "iopub.execute_input": "2023-03-06T15:20:53.465050Z",
     "iopub.status.busy": "2023-03-06T15:20:53.464575Z",
     "iopub.status.idle": "2023-03-06T15:20:53.476159Z",
     "shell.execute_reply": "2023-03-06T15:20:53.475415Z"
    }
   },
   "outputs": [
    {
     "data": {
      "text/html": [
       "<div>\n",
       "<style scoped>\n",
       "    .dataframe tbody tr th:only-of-type {\n",
       "        vertical-align: middle;\n",
       "    }\n",
       "\n",
       "    .dataframe tbody tr th {\n",
       "        vertical-align: top;\n",
       "    }\n",
       "\n",
       "    .dataframe thead th {\n",
       "        text-align: right;\n",
       "    }\n",
       "</style>\n",
       "<table border=\"1\" class=\"dataframe\">\n",
       "  <thead>\n",
       "    <tr style=\"text-align: right;\">\n",
       "      <th></th>\n",
       "      <th>W0</th>\n",
       "      <th>v0</th>\n",
       "      <th>y</th>\n",
       "      <th>propensity_score</th>\n",
       "      <th>weight</th>\n",
       "    </tr>\n",
       "  </thead>\n",
       "  <tbody>\n",
       "    <tr>\n",
       "      <th>0</th>\n",
       "      <td>-1.222866</td>\n",
       "      <td>True</td>\n",
       "      <td>1.709530</td>\n",
       "      <td>0.073926</td>\n",
       "      <td>13.527050</td>\n",
       "    </tr>\n",
       "    <tr>\n",
       "      <th>1</th>\n",
       "      <td>0.123372</td>\n",
       "      <td>True</td>\n",
       "      <td>5.938119</td>\n",
       "      <td>0.585262</td>\n",
       "      <td>1.708636</td>\n",
       "    </tr>\n",
       "    <tr>\n",
       "      <th>2</th>\n",
       "      <td>-0.633061</td>\n",
       "      <td>True</td>\n",
       "      <td>3.701341</td>\n",
       "      <td>0.219344</td>\n",
       "      <td>4.559052</td>\n",
       "    </tr>\n",
       "    <tr>\n",
       "      <th>3</th>\n",
       "      <td>-0.051358</td>\n",
       "      <td>True</td>\n",
       "      <td>3.339940</td>\n",
       "      <td>0.492904</td>\n",
       "      <td>2.028794</td>\n",
       "    </tr>\n",
       "    <tr>\n",
       "      <th>4</th>\n",
       "      <td>-2.009020</td>\n",
       "      <td>True</td>\n",
       "      <td>0.066087</td>\n",
       "      <td>0.014698</td>\n",
       "      <td>68.034676</td>\n",
       "    </tr>\n",
       "    <tr>\n",
       "      <th>...</th>\n",
       "      <td>...</td>\n",
       "      <td>...</td>\n",
       "      <td>...</td>\n",
       "      <td>...</td>\n",
       "      <td>...</td>\n",
       "    </tr>\n",
       "    <tr>\n",
       "      <th>995</th>\n",
       "      <td>-1.855563</td>\n",
       "      <td>True</td>\n",
       "      <td>0.550196</td>\n",
       "      <td>0.020277</td>\n",
       "      <td>49.317670</td>\n",
       "    </tr>\n",
       "    <tr>\n",
       "      <th>996</th>\n",
       "      <td>-2.009020</td>\n",
       "      <td>True</td>\n",
       "      <td>0.066087</td>\n",
       "      <td>0.014698</td>\n",
       "      <td>68.034676</td>\n",
       "    </tr>\n",
       "    <tr>\n",
       "      <th>997</th>\n",
       "      <td>0.124480</td>\n",
       "      <td>True</td>\n",
       "      <td>3.993371</td>\n",
       "      <td>0.585836</td>\n",
       "      <td>1.706962</td>\n",
       "    </tr>\n",
       "    <tr>\n",
       "      <th>998</th>\n",
       "      <td>-0.323994</td>\n",
       "      <td>True</td>\n",
       "      <td>4.970284</td>\n",
       "      <td>0.352042</td>\n",
       "      <td>2.840572</td>\n",
       "    </tr>\n",
       "    <tr>\n",
       "      <th>999</th>\n",
       "      <td>-0.458519</td>\n",
       "      <td>True</td>\n",
       "      <td>3.570832</td>\n",
       "      <td>0.289647</td>\n",
       "      <td>3.452474</td>\n",
       "    </tr>\n",
       "  </tbody>\n",
       "</table>\n",
       "<p>1000 rows × 5 columns</p>\n",
       "</div>"
      ],
      "text/plain": [
       "           W0    v0         y  propensity_score     weight\n",
       "0   -1.222866  True  1.709530          0.073926  13.527050\n",
       "1    0.123372  True  5.938119          0.585262   1.708636\n",
       "2   -0.633061  True  3.701341          0.219344   4.559052\n",
       "3   -0.051358  True  3.339940          0.492904   2.028794\n",
       "4   -2.009020  True  0.066087          0.014698  68.034676\n",
       "..        ...   ...       ...               ...        ...\n",
       "995 -1.855563  True  0.550196          0.020277  49.317670\n",
       "996 -2.009020  True  0.066087          0.014698  68.034676\n",
       "997  0.124480  True  3.993371          0.585836   1.706962\n",
       "998 -0.323994  True  4.970284          0.352042   2.840572\n",
       "999 -0.458519  True  3.570832          0.289647   3.452474\n",
       "\n",
       "[1000 rows x 5 columns]"
      ]
     },
     "execution_count": 7,
     "metadata": {},
     "output_type": "execute_result"
    }
   ],
   "source": [
    "cdf_1"
   ]
  },
  {
   "cell_type": "markdown",
   "metadata": {},
   "source": [
    "## Comparing the estimate to Linear Regression\n",
    "First, estimating the effect using the causal data frame, and the 95% confidence interval."
   ]
  },
  {
   "cell_type": "code",
   "execution_count": 8,
   "metadata": {
    "execution": {
     "iopub.execute_input": "2023-03-06T15:20:53.480206Z",
     "iopub.status.busy": "2023-03-06T15:20:53.479706Z",
     "iopub.status.idle": "2023-03-06T15:20:53.539843Z",
     "shell.execute_reply": "2023-03-06T15:20:53.539060Z"
    }
   },
   "outputs": [
    {
     "data": {
      "image/png": "[encoded data removed]",
      "text/latex": [
       "$\\displaystyle 5.68720895248328$"
      ],
      "text/plain": [
       "5.68720895248328"
      ]
     },
     "execution_count": 8,
     "metadata": {},
     "output_type": "execute_result"
    }
   ],
   "source": [
    "(cdf_1['y'] - cdf_0['y']).mean()"
   ]
  },
  {
   "cell_type": "code",
   "execution_count": 9,
   "metadata": {
    "execution": {
     "iopub.execute_input": "2023-03-06T15:20:53.544435Z",
     "iopub.status.busy": "2023-03-06T15:20:53.543895Z",
     "iopub.status.idle": "2023-03-06T15:20:53.567091Z",
     "shell.execute_reply": "2023-03-06T15:20:53.566300Z"
    }
   },
   "outputs": [
    {
     "data": {
      "image/png": "[encoded data removed]",
      "text/latex": [
       "$\\displaystyle 0.227576397279467$"
      ],
      "text/plain": [
       "0.2275763972794666"
      ]
     },
     "execution_count": 9,
     "metadata": {},
     "output_type": "execute_result"
    }
   ],
   "source": [
    "1.96*(cdf_1['y'] - cdf_0['y']).std() / np.sqrt(len(df))"
   ]
  },
  {
   "cell_type": "markdown",
   "metadata": {},
   "source": [
    "Comparing to the estimate from OLS."
   ]
  },
  {
   "cell_type": "code",
   "execution_count": 10,
   "metadata": {
    "execution": {
     "iopub.execute_input": "2023-03-06T15:20:53.570392Z",
     "iopub.status.busy": "2023-03-06T15:20:53.569995Z",
     "iopub.status.idle": "2023-03-06T15:20:53.585953Z",
     "shell.execute_reply": "2023-03-06T15:20:53.585237Z"
    }
   },
   "outputs": [
    {
     "data": {
      "text/html": [
       "<table class=\"simpletable\">\n",
       "<caption>OLS Regression Results</caption>\n",
       "<tr>\n",
       "  <th>Dep. Variable:</th>            <td>y</td>        <th>  R-squared (uncentered):</th>      <td>   0.950</td>\n",
       "</tr>\n",
       "<tr>\n",
       "  <th>Model:</th>                   <td>OLS</td>       <th>  Adj. R-squared (uncentered):</th> <td>   0.950</td>\n",
       "</tr>\n",
       "<tr>\n",
       "  <th>Method:</th>             <td>Least Squares</td>  <th>  F-statistic:       </th>          <td>   9430.</td>\n",
       "</tr>\n",
       "<tr>\n",
       "  <th>Date:</th>             <td>Mon, 06 Mar 2023</td> <th>  Prob (F-statistic):</th>           <td>  0.00</td> \n",
       "</tr>\n",
       "<tr>\n",
       "  <th>Time:</th>                 <td>15:20:53</td>     <th>  Log-Likelihood:    </th>          <td> -1440.3</td>\n",
       "</tr>\n",
       "<tr>\n",
       "  <th>No. Observations:</th>      <td>  1000</td>      <th>  AIC:               </th>          <td>   2885.</td>\n",
       "</tr>\n",
       "<tr>\n",
       "  <th>Df Residuals:</th>          <td>   998</td>      <th>  BIC:               </th>          <td>   2895.</td>\n",
       "</tr>\n",
       "<tr>\n",
       "  <th>Df Model:</th>              <td>     2</td>      <th>                     </th>              <td> </td>   \n",
       "</tr>\n",
       "<tr>\n",
       "  <th>Covariance Type:</th>      <td>nonrobust</td>    <th>                     </th>              <td> </td>   \n",
       "</tr>\n",
       "</table>\n",
       "<table class=\"simpletable\">\n",
       "<tr>\n",
       "   <td></td>     <th>coef</th>     <th>std err</th>      <th>t</th>      <th>P>|t|</th>  <th>[0.025</th>    <th>0.975]</th>  \n",
       "</tr>\n",
       "<tr>\n",
       "  <th>x1</th> <td>    2.6862</td> <td>    0.025</td> <td>  106.808</td> <td> 0.000</td> <td>    2.637</td> <td>    2.736</td>\n",
       "</tr>\n",
       "<tr>\n",
       "  <th>x2</th> <td>    4.9605</td> <td>    0.061</td> <td>   80.770</td> <td> 0.000</td> <td>    4.840</td> <td>    5.081</td>\n",
       "</tr>\n",
       "</table>\n",
       "<table class=\"simpletable\">\n",
       "<tr>\n",
       "  <th>Omnibus:</th>       <td> 0.428</td> <th>  Durbin-Watson:     </th> <td>   2.053</td>\n",
       "</tr>\n",
       "<tr>\n",
       "  <th>Prob(Omnibus):</th> <td> 0.807</td> <th>  Jarque-Bera (JB):  </th> <td>   0.312</td>\n",
       "</tr>\n",
       "<tr>\n",
       "  <th>Skew:</th>          <td> 0.010</td> <th>  Prob(JB):          </th> <td>   0.856</td>\n",
       "</tr>\n",
       "<tr>\n",
       "  <th>Kurtosis:</th>      <td> 3.084</td> <th>  Cond. No.          </th> <td>    2.45</td>\n",
       "</tr>\n",
       "</table><br/><br/>Notes:<br/>[1] R² is computed without centering (uncentered) since the model does not contain a constant.<br/>[2] Standard Errors assume that the covariance matrix of the errors is correctly specified."
      ],
      "text/plain": [
       "<class 'statsmodels.iolib.summary.Summary'>\n",
       "\"\"\"\n",
       "                                 OLS Regression Results                                \n",
       "=======================================================================================\n",
       "Dep. Variable:                      y   R-squared (uncentered):                   0.950\n",
       "Model:                            OLS   Adj. R-squared (uncentered):              0.950\n",
       "Method:                 Least Squares   F-statistic:                              9430.\n",
       "Date:                Mon, 06 Mar 2023   Prob (F-statistic):                        0.00\n",
       "Time:                        15:20:53   Log-Likelihood:                         -1440.3\n",
       "No. Observations:                1000   AIC:                                      2885.\n",
       "Df Residuals:                     998   BIC:                                      2895.\n",
       "Df Model:                           2                                                  \n",
       "Covariance Type:            nonrobust                                                  \n",
       "==============================================================================\n",
       "                 coef    std err          t      P>|t|      [0.025      0.975]\n",
       "------------------------------------------------------------------------------\n",
       "x1             2.6862      0.025    106.808      0.000       2.637       2.736\n",
       "x2             4.9605      0.061     80.770      0.000       4.840       5.081\n",
       "==============================================================================\n",
       "Omnibus:                        0.428   Durbin-Watson:                   2.053\n",
       "Prob(Omnibus):                  0.807   Jarque-Bera (JB):                0.312\n",
       "Skew:                           0.010   Prob(JB):                        0.856\n",
       "Kurtosis:                       3.084   Cond. No.                         2.45\n",
       "==============================================================================\n",
       "\n",
       "Notes:\n",
       "[1] R² is computed without centering (uncentered) since the model does not contain a constant.\n",
       "[2] Standard Errors assume that the covariance matrix of the errors is correctly specified.\n",
       "\"\"\""
      ]
     },
     "execution_count": 10,
     "metadata": {},
     "output_type": "execute_result"
    }
   ],
   "source": [
    "model = OLS(np.asarray(df[outcome]), np.asarray(df[[common_cause, treatment]], dtype=np.float64))\n",
    "result = model.fit()\n",
    "result.summary()"
   ]
  }
 ],
 "metadata": {
  "kernelspec": {
   "display_name": "Python 3",
   "language": "python",
   "name": "python3"
  },
  "language_info": {
   "codemirror_mode": {
    "name": "ipython",
    "version": 3
   },
   "file_extension": ".py",
   "mimetype": "text/x-python",
   "name": "python",
   "nbconvert_exporter": "python",
   "pygments_lexer": "ipython3",
   "version": "3.8.10"
  },
  "toc": {
   "base_numbering": 1,
   "nav_menu": {},
   "number_sections": false,
   "sideBar": true,
   "skip_h1_title": true,
   "title_cell": "Table of Contents",
   "title_sidebar": "Contents",
   "toc_cell": false,
   "toc_position": {},
   "toc_section_display": true,
   "toc_window_display": false
  }
 },
 "nbformat": 4,
 "nbformat_minor": 4
}
