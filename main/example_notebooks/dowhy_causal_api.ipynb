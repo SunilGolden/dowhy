{
 "cells": [
  {
   "cell_type": "markdown",
   "metadata": {},
   "source": [
    "# Demo for the DoWhy causal API\n",
    "We show a simple example of adding a causal extension to any dataframe. "
   ]
  },
  {
   "cell_type": "code",
   "execution_count": 1,
   "metadata": {
    "execution": {
     "iopub.execute_input": "2024-05-29T16:30:32.440175Z",
     "iopub.status.busy": "2024-05-29T16:30:32.439998Z",
     "iopub.status.idle": "2024-05-29T16:30:33.889663Z",
     "shell.execute_reply": "2024-05-29T16:30:33.888984Z"
    }
   },
   "outputs": [],
   "source": [
    "import dowhy.datasets\n",
    "import dowhy.api\n",
    "from dowhy.graph import build_graph_from_str\n",
    "\n",
    "import numpy as np\n",
    "import pandas as pd\n",
    "\n",
    "from statsmodels.api import OLS"
   ]
  },
  {
   "cell_type": "code",
   "execution_count": 2,
   "metadata": {
    "execution": {
     "iopub.execute_input": "2024-05-29T16:30:33.892518Z",
     "iopub.status.busy": "2024-05-29T16:30:33.892210Z",
     "iopub.status.idle": "2024-05-29T16:30:33.955631Z",
     "shell.execute_reply": "2024-05-29T16:30:33.955044Z"
    }
   },
   "outputs": [
    {
     "data": {
      "text/html": [
       "<div>\n",
       "<style scoped>\n",
       "    .dataframe tbody tr th:only-of-type {\n",
       "        vertical-align: middle;\n",
       "    }\n",
       "\n",
       "    .dataframe tbody tr th {\n",
       "        vertical-align: top;\n",
       "    }\n",
       "\n",
       "    .dataframe thead th {\n",
       "        text-align: right;\n",
       "    }\n",
       "</style>\n",
       "<table border=\"1\" class=\"dataframe\">\n",
       "  <thead>\n",
       "    <tr style=\"text-align: right;\">\n",
       "      <th></th>\n",
       "      <th>W0</th>\n",
       "      <th>v0</th>\n",
       "      <th>y</th>\n",
       "    </tr>\n",
       "  </thead>\n",
       "  <tbody>\n",
       "    <tr>\n",
       "      <th>0</th>\n",
       "      <td>-1.061739</td>\n",
       "      <td>False</td>\n",
       "      <td>-1.743644</td>\n",
       "    </tr>\n",
       "    <tr>\n",
       "      <th>1</th>\n",
       "      <td>0.010838</td>\n",
       "      <td>True</td>\n",
       "      <td>6.562817</td>\n",
       "    </tr>\n",
       "    <tr>\n",
       "      <th>2</th>\n",
       "      <td>1.205978</td>\n",
       "      <td>True</td>\n",
       "      <td>3.720317</td>\n",
       "    </tr>\n",
       "    <tr>\n",
       "      <th>3</th>\n",
       "      <td>-0.355414</td>\n",
       "      <td>False</td>\n",
       "      <td>0.177533</td>\n",
       "    </tr>\n",
       "    <tr>\n",
       "      <th>4</th>\n",
       "      <td>-0.182426</td>\n",
       "      <td>False</td>\n",
       "      <td>0.707859</td>\n",
       "    </tr>\n",
       "    <tr>\n",
       "      <th>...</th>\n",
       "      <td>...</td>\n",
       "      <td>...</td>\n",
       "      <td>...</td>\n",
       "    </tr>\n",
       "    <tr>\n",
       "      <th>995</th>\n",
       "      <td>-2.204175</td>\n",
       "      <td>False</td>\n",
       "      <td>-3.714323</td>\n",
       "    </tr>\n",
       "    <tr>\n",
       "      <th>996</th>\n",
       "      <td>0.730946</td>\n",
       "      <td>True</td>\n",
       "      <td>6.478845</td>\n",
       "    </tr>\n",
       "    <tr>\n",
       "      <th>997</th>\n",
       "      <td>0.576172</td>\n",
       "      <td>True</td>\n",
       "      <td>5.554162</td>\n",
       "    </tr>\n",
       "    <tr>\n",
       "      <th>998</th>\n",
       "      <td>0.921638</td>\n",
       "      <td>True</td>\n",
       "      <td>5.661661</td>\n",
       "    </tr>\n",
       "    <tr>\n",
       "      <th>999</th>\n",
       "      <td>0.177094</td>\n",
       "      <td>False</td>\n",
       "      <td>0.098013</td>\n",
       "    </tr>\n",
       "  </tbody>\n",
       "</table>\n",
       "<p>1000 rows × 3 columns</p>\n",
       "</div>"
      ],
      "text/plain": [
       "           W0     v0         y\n",
       "0   -1.061739  False -1.743644\n",
       "1    0.010838   True  6.562817\n",
       "2    1.205978   True  3.720317\n",
       "3   -0.355414  False  0.177533\n",
       "4   -0.182426  False  0.707859\n",
       "..        ...    ...       ...\n",
       "995 -2.204175  False -3.714323\n",
       "996  0.730946   True  6.478845\n",
       "997  0.576172   True  5.554162\n",
       "998  0.921638   True  5.661661\n",
       "999  0.177094  False  0.098013\n",
       "\n",
       "[1000 rows x 3 columns]"
      ]
     },
     "execution_count": 2,
     "metadata": {},
     "output_type": "execute_result"
    }
   ],
   "source": [
    "data = dowhy.datasets.linear_dataset(beta=5,\n",
    "        num_common_causes=1,\n",
    "        num_instruments = 0,\n",
    "        num_samples=1000,\n",
    "        treatment_is_binary=True)\n",
    "df = data['df']\n",
    "df['y'] = df['y'] + np.random.normal(size=len(df)) # Adding noise to data. Without noise, the variance in Y|X, Z is zero, and mcmc fails.\n",
    "nx_graph = build_graph_from_str(data[\"dot_graph\"])\n",
    "\n",
    "treatment= data[\"treatment_name\"][0]\n",
    "outcome = data[\"outcome_name\"][0]\n",
    "common_cause = data[\"common_causes_names\"][0]\n",
    "df"
   ]
  },
  {
   "cell_type": "code",
   "execution_count": 3,
   "metadata": {
    "execution": {
     "iopub.execute_input": "2024-05-29T16:30:33.958276Z",
     "iopub.status.busy": "2024-05-29T16:30:33.957802Z",
     "iopub.status.idle": "2024-05-29T16:30:34.135478Z",
     "shell.execute_reply": "2024-05-29T16:30:34.134833Z"
    },
    "scrolled": true
   },
   "outputs": [
    {
     "data": {
      "text/plain": [
       "<Axes: xlabel='v0'>"
      ]
     },
     "execution_count": 3,
     "metadata": {},
     "output_type": "execute_result"
    },
    {
     "data": {
      "image/png": "[encoded data removed]",
      "text/plain": [
       "<Figure size 640x480 with 1 Axes>"
      ]
     },
     "metadata": {},
     "output_type": "display_data"
    }
   ],
   "source": [
    "# data['df'] is just a regular pandas.DataFrame\n",
    "df.causal.do(x=treatment,\n",
    "             variable_types={treatment: 'b', outcome: 'c', common_cause: 'c'},\n",
    "             outcome=outcome,\n",
    "             common_causes=[common_cause],\n",
    "            ).groupby(treatment).mean().plot(y=outcome, kind='bar')"
   ]
  },
  {
   "cell_type": "code",
   "execution_count": 4,
   "metadata": {
    "execution": {
     "iopub.execute_input": "2024-05-29T16:30:34.137927Z",
     "iopub.status.busy": "2024-05-29T16:30:34.137566Z",
     "iopub.status.idle": "2024-05-29T16:30:34.274279Z",
     "shell.execute_reply": "2024-05-29T16:30:34.273727Z"
    }
   },
   "outputs": [
    {
     "data": {
      "text/plain": [
       "<Axes: xlabel='v0'>"
      ]
     },
     "execution_count": 4,
     "metadata": {},
     "output_type": "execute_result"
    },
    {
     "data": {
      "image/png": "[encoded data removed]",
      "text/plain": [
       "<Figure size 640x480 with 1 Axes>"
      ]
     },
     "metadata": {},
     "output_type": "display_data"
    }
   ],
   "source": [
    "df.causal.do(x={treatment: 1}, \n",
    "              variable_types={treatment:'b', outcome: 'c', common_cause: 'c'}, \n",
    "              outcome=outcome,\n",
    "              method='weighting', \n",
    "              common_causes=[common_cause]\n",
    "              ).groupby(treatment).mean().plot(y=outcome, kind='bar')"
   ]
  },
  {
   "cell_type": "code",
   "execution_count": 5,
   "metadata": {
    "execution": {
     "iopub.execute_input": "2024-05-29T16:30:34.276568Z",
     "iopub.status.busy": "2024-05-29T16:30:34.276377Z",
     "iopub.status.idle": "2024-05-29T16:30:34.297393Z",
     "shell.execute_reply": "2024-05-29T16:30:34.296839Z"
    }
   },
   "outputs": [],
   "source": [
    "cdf_1 = df.causal.do(x={treatment: 1}, \n",
    "              variable_types={treatment: 'b', outcome: 'c', common_cause: 'c'}, \n",
    "              outcome=outcome, \n",
    "              graph=nx_graph\n",
    "              )\n",
    "\n",
    "cdf_0 = df.causal.do(x={treatment: 0}, \n",
    "              variable_types={treatment: 'b', outcome: 'c', common_cause: 'c'}, \n",
    "              outcome=outcome, \n",
    "              graph=nx_graph\n",
    "              )\n"
   ]
  },
  {
   "cell_type": "code",
   "execution_count": 6,
   "metadata": {
    "execution": {
     "iopub.execute_input": "2024-05-29T16:30:34.299608Z",
     "iopub.status.busy": "2024-05-29T16:30:34.299424Z",
     "iopub.status.idle": "2024-05-29T16:30:34.308416Z",
     "shell.execute_reply": "2024-05-29T16:30:34.307835Z"
    },
    "scrolled": true
   },
   "outputs": [
    {
     "data": {
      "text/html": [
       "<div>\n",
       "<style scoped>\n",
       "    .dataframe tbody tr th:only-of-type {\n",
       "        vertical-align: middle;\n",
       "    }\n",
       "\n",
       "    .dataframe tbody tr th {\n",
       "        vertical-align: top;\n",
       "    }\n",
       "\n",
       "    .dataframe thead th {\n",
       "        text-align: right;\n",
       "    }\n",
       "</style>\n",
       "<table border=\"1\" class=\"dataframe\">\n",
       "  <thead>\n",
       "    <tr style=\"text-align: right;\">\n",
       "      <th></th>\n",
       "      <th>W0</th>\n",
       "      <th>v0</th>\n",
       "      <th>y</th>\n",
       "      <th>propensity_score</th>\n",
       "      <th>weight</th>\n",
       "    </tr>\n",
       "  </thead>\n",
       "  <tbody>\n",
       "    <tr>\n",
       "      <th>0</th>\n",
       "      <td>0.150210</td>\n",
       "      <td>False</td>\n",
       "      <td>1.023736</td>\n",
       "      <td>0.479560</td>\n",
       "      <td>2.085247</td>\n",
       "    </tr>\n",
       "    <tr>\n",
       "      <th>1</th>\n",
       "      <td>0.616937</td>\n",
       "      <td>False</td>\n",
       "      <td>-0.410546</td>\n",
       "      <td>0.266096</td>\n",
       "      <td>3.758039</td>\n",
       "    </tr>\n",
       "    <tr>\n",
       "      <th>2</th>\n",
       "      <td>-1.439795</td>\n",
       "      <td>False</td>\n",
       "      <td>-3.058390</td>\n",
       "      <td>0.956714</td>\n",
       "      <td>1.045245</td>\n",
       "    </tr>\n",
       "    <tr>\n",
       "      <th>3</th>\n",
       "      <td>-1.098332</td>\n",
       "      <td>False</td>\n",
       "      <td>-1.359056</td>\n",
       "      <td>0.917835</td>\n",
       "      <td>1.089520</td>\n",
       "    </tr>\n",
       "    <tr>\n",
       "      <th>4</th>\n",
       "      <td>-0.034717</td>\n",
       "      <td>False</td>\n",
       "      <td>1.482191</td>\n",
       "      <td>0.571446</td>\n",
       "      <td>1.749948</td>\n",
       "    </tr>\n",
       "    <tr>\n",
       "      <th>...</th>\n",
       "      <td>...</td>\n",
       "      <td>...</td>\n",
       "      <td>...</td>\n",
       "      <td>...</td>\n",
       "      <td>...</td>\n",
       "    </tr>\n",
       "    <tr>\n",
       "      <th>995</th>\n",
       "      <td>-1.506442</td>\n",
       "      <td>False</td>\n",
       "      <td>-2.688119</td>\n",
       "      <td>0.961906</td>\n",
       "      <td>1.039602</td>\n",
       "    </tr>\n",
       "    <tr>\n",
       "      <th>996</th>\n",
       "      <td>-1.517018</td>\n",
       "      <td>False</td>\n",
       "      <td>-0.363953</td>\n",
       "      <td>0.962673</td>\n",
       "      <td>1.038774</td>\n",
       "    </tr>\n",
       "    <tr>\n",
       "      <th>997</th>\n",
       "      <td>-0.588972</td>\n",
       "      <td>False</td>\n",
       "      <td>-0.639715</td>\n",
       "      <td>0.801450</td>\n",
       "      <td>1.247739</td>\n",
       "    </tr>\n",
       "    <tr>\n",
       "      <th>998</th>\n",
       "      <td>-0.972063</td>\n",
       "      <td>False</td>\n",
       "      <td>-2.144209</td>\n",
       "      <td>0.896688</td>\n",
       "      <td>1.115215</td>\n",
       "    </tr>\n",
       "    <tr>\n",
       "      <th>999</th>\n",
       "      <td>-0.887276</td>\n",
       "      <td>False</td>\n",
       "      <td>0.338025</td>\n",
       "      <td>0.879903</td>\n",
       "      <td>1.136489</td>\n",
       "    </tr>\n",
       "  </tbody>\n",
       "</table>\n",
       "<p>1000 rows × 5 columns</p>\n",
       "</div>"
      ],
      "text/plain": [
       "           W0     v0         y  propensity_score    weight\n",
       "0    0.150210  False  1.023736          0.479560  2.085247\n",
       "1    0.616937  False -0.410546          0.266096  3.758039\n",
       "2   -1.439795  False -3.058390          0.956714  1.045245\n",
       "3   -1.098332  False -1.359056          0.917835  1.089520\n",
       "4   -0.034717  False  1.482191          0.571446  1.749948\n",
       "..        ...    ...       ...               ...       ...\n",
       "995 -1.506442  False -2.688119          0.961906  1.039602\n",
       "996 -1.517018  False -0.363953          0.962673  1.038774\n",
       "997 -0.588972  False -0.639715          0.801450  1.247739\n",
       "998 -0.972063  False -2.144209          0.896688  1.115215\n",
       "999 -0.887276  False  0.338025          0.879903  1.136489\n",
       "\n",
       "[1000 rows x 5 columns]"
      ]
     },
     "execution_count": 6,
     "metadata": {},
     "output_type": "execute_result"
    }
   ],
   "source": [
    "cdf_0"
   ]
  },
  {
   "cell_type": "code",
   "execution_count": 7,
   "metadata": {
    "execution": {
     "iopub.execute_input": "2024-05-29T16:30:34.310720Z",
     "iopub.status.busy": "2024-05-29T16:30:34.310395Z",
     "iopub.status.idle": "2024-05-29T16:30:34.319116Z",
     "shell.execute_reply": "2024-05-29T16:30:34.318627Z"
    }
   },
   "outputs": [
    {
     "data": {
      "text/html": [
       "<div>\n",
       "<style scoped>\n",
       "    .dataframe tbody tr th:only-of-type {\n",
       "        vertical-align: middle;\n",
       "    }\n",
       "\n",
       "    .dataframe tbody tr th {\n",
       "        vertical-align: top;\n",
       "    }\n",
       "\n",
       "    .dataframe thead th {\n",
       "        text-align: right;\n",
       "    }\n",
       "</style>\n",
       "<table border=\"1\" class=\"dataframe\">\n",
       "  <thead>\n",
       "    <tr style=\"text-align: right;\">\n",
       "      <th></th>\n",
       "      <th>W0</th>\n",
       "      <th>v0</th>\n",
       "      <th>y</th>\n",
       "      <th>propensity_score</th>\n",
       "      <th>weight</th>\n",
       "    </tr>\n",
       "  </thead>\n",
       "  <tbody>\n",
       "    <tr>\n",
       "      <th>0</th>\n",
       "      <td>0.840397</td>\n",
       "      <td>True</td>\n",
       "      <td>6.847089</td>\n",
       "      <td>0.811698</td>\n",
       "      <td>1.231985</td>\n",
       "    </tr>\n",
       "    <tr>\n",
       "      <th>1</th>\n",
       "      <td>-1.258336</td>\n",
       "      <td>True</td>\n",
       "      <td>3.662999</td>\n",
       "      <td>0.061051</td>\n",
       "      <td>16.379645</td>\n",
       "    </tr>\n",
       "    <tr>\n",
       "      <th>2</th>\n",
       "      <td>-1.651482</td>\n",
       "      <td>True</td>\n",
       "      <td>4.710353</td>\n",
       "      <td>0.028784</td>\n",
       "      <td>34.740941</td>\n",
       "    </tr>\n",
       "    <tr>\n",
       "      <th>3</th>\n",
       "      <td>-0.989669</td>\n",
       "      <td>True</td>\n",
       "      <td>4.185273</td>\n",
       "      <td>0.100098</td>\n",
       "      <td>9.990225</td>\n",
       "    </tr>\n",
       "    <tr>\n",
       "      <th>4</th>\n",
       "      <td>0.557098</td>\n",
       "      <td>True</td>\n",
       "      <td>5.135549</td>\n",
       "      <td>0.709908</td>\n",
       "      <td>1.408633</td>\n",
       "    </tr>\n",
       "    <tr>\n",
       "      <th>...</th>\n",
       "      <td>...</td>\n",
       "      <td>...</td>\n",
       "      <td>...</td>\n",
       "      <td>...</td>\n",
       "      <td>...</td>\n",
       "    </tr>\n",
       "    <tr>\n",
       "      <th>995</th>\n",
       "      <td>-0.393488</td>\n",
       "      <td>True</td>\n",
       "      <td>3.946107</td>\n",
       "      <td>0.268014</td>\n",
       "      <td>3.731154</td>\n",
       "    </tr>\n",
       "    <tr>\n",
       "      <th>996</th>\n",
       "      <td>-1.586945</td>\n",
       "      <td>True</td>\n",
       "      <td>2.722990</td>\n",
       "      <td>0.032618</td>\n",
       "      <td>30.658265</td>\n",
       "    </tr>\n",
       "    <tr>\n",
       "      <th>997</th>\n",
       "      <td>-1.651482</td>\n",
       "      <td>True</td>\n",
       "      <td>4.710353</td>\n",
       "      <td>0.028784</td>\n",
       "      <td>34.740941</td>\n",
       "    </tr>\n",
       "    <tr>\n",
       "      <th>998</th>\n",
       "      <td>-0.456297</td>\n",
       "      <td>True</td>\n",
       "      <td>2.951388</td>\n",
       "      <td>0.244116</td>\n",
       "      <td>4.096408</td>\n",
       "    </tr>\n",
       "    <tr>\n",
       "      <th>999</th>\n",
       "      <td>-0.815683</td>\n",
       "      <td>True</td>\n",
       "      <td>3.592356</td>\n",
       "      <td>0.136056</td>\n",
       "      <td>7.349917</td>\n",
       "    </tr>\n",
       "  </tbody>\n",
       "</table>\n",
       "<p>1000 rows × 5 columns</p>\n",
       "</div>"
      ],
      "text/plain": [
       "           W0    v0         y  propensity_score     weight\n",
       "0    0.840397  True  6.847089          0.811698   1.231985\n",
       "1   -1.258336  True  3.662999          0.061051  16.379645\n",
       "2   -1.651482  True  4.710353          0.028784  34.740941\n",
       "3   -0.989669  True  4.185273          0.100098   9.990225\n",
       "4    0.557098  True  5.135549          0.709908   1.408633\n",
       "..        ...   ...       ...               ...        ...\n",
       "995 -0.393488  True  3.946107          0.268014   3.731154\n",
       "996 -1.586945  True  2.722990          0.032618  30.658265\n",
       "997 -1.651482  True  4.710353          0.028784  34.740941\n",
       "998 -0.456297  True  2.951388          0.244116   4.096408\n",
       "999 -0.815683  True  3.592356          0.136056   7.349917\n",
       "\n",
       "[1000 rows x 5 columns]"
      ]
     },
     "execution_count": 7,
     "metadata": {},
     "output_type": "execute_result"
    }
   ],
   "source": [
    "cdf_1"
   ]
  },
  {
   "cell_type": "markdown",
   "metadata": {},
   "source": [
    "## Comparing the estimate to Linear Regression\n",
    "First, estimating the effect using the causal data frame, and the 95% confidence interval."
   ]
  },
  {
   "cell_type": "code",
   "execution_count": 8,
   "metadata": {
    "execution": {
     "iopub.execute_input": "2024-05-29T16:30:34.321297Z",
     "iopub.status.busy": "2024-05-29T16:30:34.320955Z",
     "iopub.status.idle": "2024-05-29T16:30:34.367118Z",
     "shell.execute_reply": "2024-05-29T16:30:34.366457Z"
    }
   },
   "outputs": [
    {
     "data": {
      "image/png": "[encoded data removed]",
      "text/latex": [
       "$\\displaystyle 5.33360009563832$"
      ],
      "text/plain": [
       "5.333600095638316"
      ]
     },
     "execution_count": 8,
     "metadata": {},
     "output_type": "execute_result"
    }
   ],
   "source": [
    "(cdf_1['y'] - cdf_0['y']).mean()"
   ]
  },
  {
   "cell_type": "code",
   "execution_count": 9,
   "metadata": {
    "execution": {
     "iopub.execute_input": "2024-05-29T16:30:34.369477Z",
     "iopub.status.busy": "2024-05-29T16:30:34.369118Z",
     "iopub.status.idle": "2024-05-29T16:30:34.384510Z",
     "shell.execute_reply": "2024-05-29T16:30:34.383935Z"
    }
   },
   "outputs": [
    {
     "data": {
      "image/png": "[encoded data removed]",
      "text/latex": [
       "$\\displaystyle 0.132027791404434$"
      ],
      "text/plain": [
       "0.13202779140443377"
      ]
     },
     "execution_count": 9,
     "metadata": {},
     "output_type": "execute_result"
    }
   ],
   "source": [
    "1.96*(cdf_1['y'] - cdf_0['y']).std() / np.sqrt(len(df))"
   ]
  },
  {
   "cell_type": "markdown",
   "metadata": {},
   "source": [
    "Comparing to the estimate from OLS."
   ]
  },
  {
   "cell_type": "code",
   "execution_count": 10,
   "metadata": {
    "execution": {
     "iopub.execute_input": "2024-05-29T16:30:34.386751Z",
     "iopub.status.busy": "2024-05-29T16:30:34.386568Z",
     "iopub.status.idle": "2024-05-29T16:30:34.402845Z",
     "shell.execute_reply": "2024-05-29T16:30:34.402279Z"
    }
   },
   "outputs": [
    {
     "data": {
      "text/html": [
       "<table class=\"simpletable\">\n",
       "<caption>OLS Regression Results</caption>\n",
       "<tr>\n",
       "  <th>Dep. Variable:</th>            <td>y</td>        <th>  R-squared (uncentered):</th>      <td>   0.931</td>\n",
       "</tr>\n",
       "<tr>\n",
       "  <th>Model:</th>                   <td>OLS</td>       <th>  Adj. R-squared (uncentered):</th> <td>   0.931</td>\n",
       "</tr>\n",
       "<tr>\n",
       "  <th>Method:</th>             <td>Least Squares</td>  <th>  F-statistic:       </th>          <td>   6726.</td>\n",
       "</tr>\n",
       "<tr>\n",
       "  <th>Date:</th>             <td>Wed, 29 May 2024</td> <th>  Prob (F-statistic):</th>           <td>  0.00</td> \n",
       "</tr>\n",
       "<tr>\n",
       "  <th>Time:</th>                 <td>16:30:34</td>     <th>  Log-Likelihood:    </th>          <td> -1428.7</td>\n",
       "</tr>\n",
       "<tr>\n",
       "  <th>No. Observations:</th>      <td>  1000</td>      <th>  AIC:               </th>          <td>   2861.</td>\n",
       "</tr>\n",
       "<tr>\n",
       "  <th>Df Residuals:</th>          <td>   998</td>      <th>  BIC:               </th>          <td>   2871.</td>\n",
       "</tr>\n",
       "<tr>\n",
       "  <th>Df Model:</th>              <td>     2</td>      <th>                     </th>              <td> </td>   \n",
       "</tr>\n",
       "<tr>\n",
       "  <th>Covariance Type:</th>      <td>nonrobust</td>    <th>                     </th>              <td> </td>   \n",
       "</tr>\n",
       "</table>\n",
       "<table class=\"simpletable\">\n",
       "<tr>\n",
       "   <td></td>     <th>coef</th>     <th>std err</th>      <th>t</th>      <th>P>|t|</th>  <th>[0.025</th>    <th>0.975]</th>  \n",
       "</tr>\n",
       "<tr>\n",
       "  <th>x1</th> <td>    1.4698</td> <td>    0.032</td> <td>   45.381</td> <td> 0.000</td> <td>    1.406</td> <td>    1.533</td>\n",
       "</tr>\n",
       "<tr>\n",
       "  <th>x2</th> <td>    4.9500</td> <td>    0.054</td> <td>   91.172</td> <td> 0.000</td> <td>    4.843</td> <td>    5.057</td>\n",
       "</tr>\n",
       "</table>\n",
       "<table class=\"simpletable\">\n",
       "<tr>\n",
       "  <th>Omnibus:</th>       <td> 3.563</td> <th>  Durbin-Watson:     </th> <td>   2.062</td>\n",
       "</tr>\n",
       "<tr>\n",
       "  <th>Prob(Omnibus):</th> <td> 0.168</td> <th>  Jarque-Bera (JB):  </th> <td>   3.633</td>\n",
       "</tr>\n",
       "<tr>\n",
       "  <th>Skew:</th>          <td>-0.136</td> <th>  Prob(JB):          </th> <td>   0.163</td>\n",
       "</tr>\n",
       "<tr>\n",
       "  <th>Kurtosis:</th>      <td> 2.886</td> <th>  Cond. No.          </th> <td>    1.80</td>\n",
       "</tr>\n",
       "</table><br/><br/>Notes:<br/>[1] R² is computed without centering (uncentered) since the model does not contain a constant.<br/>[2] Standard Errors assume that the covariance matrix of the errors is correctly specified."
      ],
      "text/latex": [
       "\\begin{center}\n",
       "\\begin{tabular}{lclc}\n",
       "\\toprule\n",
       "\\textbf{Dep. Variable:}    &        y         & \\textbf{  R-squared (uncentered):}      &     0.931   \\\\\n",
       "\\textbf{Model:}            &       OLS        & \\textbf{  Adj. R-squared (uncentered):} &     0.931   \\\\\n",
       "\\textbf{Method:}           &  Least Squares   & \\textbf{  F-statistic:       }          &     6726.   \\\\\n",
       "\\textbf{Date:}             & Wed, 29 May 2024 & \\textbf{  Prob (F-statistic):}          &     0.00    \\\\\n",
       "\\textbf{Time:}             &     16:30:34     & \\textbf{  Log-Likelihood:    }          &   -1428.7   \\\\\n",
       "\\textbf{No. Observations:} &        1000      & \\textbf{  AIC:               }          &     2861.   \\\\\n",
       "\\textbf{Df Residuals:}     &         998      & \\textbf{  BIC:               }          &     2871.   \\\\\n",
       "\\textbf{Df Model:}         &           2      & \\textbf{                     }          &             \\\\\n",
       "\\textbf{Covariance Type:}  &    nonrobust     & \\textbf{                     }          &             \\\\\n",
       "\\bottomrule\n",
       "\\end{tabular}\n",
       "\\begin{tabular}{lcccccc}\n",
       "            & \\textbf{coef} & \\textbf{std err} & \\textbf{t} & \\textbf{P$> |$t$|$} & \\textbf{[0.025} & \\textbf{0.975]}  \\\\\n",
       "\\midrule\n",
       "\\textbf{x1} &       1.4698  &        0.032     &    45.381  &         0.000        &        1.406    &        1.533     \\\\\n",
       "\\textbf{x2} &       4.9500  &        0.054     &    91.172  &         0.000        &        4.843    &        5.057     \\\\\n",
       "\\bottomrule\n",
       "\\end{tabular}\n",
       "\\begin{tabular}{lclc}\n",
       "\\textbf{Omnibus:}       &  3.563 & \\textbf{  Durbin-Watson:     } &    2.062  \\\\\n",
       "\\textbf{Prob(Omnibus):} &  0.168 & \\textbf{  Jarque-Bera (JB):  } &    3.633  \\\\\n",
       "\\textbf{Skew:}          & -0.136 & \\textbf{  Prob(JB):          } &    0.163  \\\\\n",
       "\\textbf{Kurtosis:}      &  2.886 & \\textbf{  Cond. No.          } &     1.80  \\\\\n",
       "\\bottomrule\n",
       "\\end{tabular}\n",
       "%\\caption{OLS Regression Results}\n",
       "\\end{center}\n",
       "\n",
       "Notes: \\newline\n",
       " [1] R² is computed without centering (uncentered) since the model does not contain a constant. \\newline\n",
       " [2] Standard Errors assume that the covariance matrix of the errors is correctly specified."
      ],
      "text/plain": [
       "<class 'statsmodels.iolib.summary.Summary'>\n",
       "\"\"\"\n",
       "                                 OLS Regression Results                                \n",
       "=======================================================================================\n",
       "Dep. Variable:                      y   R-squared (uncentered):                   0.931\n",
       "Model:                            OLS   Adj. R-squared (uncentered):              0.931\n",
       "Method:                 Least Squares   F-statistic:                              6726.\n",
       "Date:                Wed, 29 May 2024   Prob (F-statistic):                        0.00\n",
       "Time:                        16:30:34   Log-Likelihood:                         -1428.7\n",
       "No. Observations:                1000   AIC:                                      2861.\n",
       "Df Residuals:                     998   BIC:                                      2871.\n",
       "Df Model:                           2                                                  \n",
       "Covariance Type:            nonrobust                                                  \n",
       "==============================================================================\n",
       "                 coef    std err          t      P>|t|      [0.025      0.975]\n",
       "------------------------------------------------------------------------------\n",
       "x1             1.4698      0.032     45.381      0.000       1.406       1.533\n",
       "x2             4.9500      0.054     91.172      0.000       4.843       5.057\n",
       "==============================================================================\n",
       "Omnibus:                        3.563   Durbin-Watson:                   2.062\n",
       "Prob(Omnibus):                  0.168   Jarque-Bera (JB):                3.633\n",
       "Skew:                          -0.136   Prob(JB):                        0.163\n",
       "Kurtosis:                       2.886   Cond. No.                         1.80\n",
       "==============================================================================\n",
       "\n",
       "Notes:\n",
       "[1] R² is computed without centering (uncentered) since the model does not contain a constant.\n",
       "[2] Standard Errors assume that the covariance matrix of the errors is correctly specified.\n",
       "\"\"\""
      ]
     },
     "execution_count": 10,
     "metadata": {},
     "output_type": "execute_result"
    }
   ],
   "source": [
    "model = OLS(np.asarray(df[outcome]), np.asarray(df[[common_cause, treatment]], dtype=np.float64))\n",
    "result = model.fit()\n",
    "result.summary()"
   ]
  }
 ],
 "metadata": {
  "kernelspec": {
   "display_name": "Python 3 (ipykernel)",
   "language": "python",
   "name": "python3"
  },
  "language_info": {
   "codemirror_mode": {
    "name": "ipython",
    "version": 3
   },
   "file_extension": ".py",
   "mimetype": "text/x-python",
   "name": "python",
   "nbconvert_exporter": "python",
   "pygments_lexer": "ipython3",
   "version": "3.8.10"
  },
  "toc": {
   "base_numbering": 1,
   "nav_menu": {},
   "number_sections": false,
   "sideBar": true,
   "skip_h1_title": true,
   "title_cell": "Table of Contents",
   "title_sidebar": "Contents",
   "toc_cell": false,
   "toc_position": {},
   "toc_section_display": true,
   "toc_window_display": false
  }
 },
 "nbformat": 4,
 "nbformat_minor": 4
}
