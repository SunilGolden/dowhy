{
 "cells": [
  {
   "cell_type": "markdown",
   "metadata": {},
   "source": [
    "# Demo for the DoWhy causal API\n",
    "We show a simple example of adding a causal extension to any dataframe. "
   ]
  },
  {
   "cell_type": "code",
   "execution_count": 1,
   "metadata": {
    "execution": {
     "iopub.execute_input": "2023-02-03T05:49:52.247608Z",
     "iopub.status.busy": "2023-02-03T05:49:52.247311Z",
     "iopub.status.idle": "2023-02-03T05:49:54.773320Z",
     "shell.execute_reply": "2023-02-03T05:49:54.772276Z"
    }
   },
   "outputs": [],
   "source": [
    "import dowhy.datasets\n",
    "import dowhy.api\n",
    "\n",
    "import numpy as np\n",
    "import pandas as pd\n",
    "\n",
    "from statsmodels.api import OLS"
   ]
  },
  {
   "cell_type": "code",
   "execution_count": 2,
   "metadata": {
    "execution": {
     "iopub.execute_input": "2023-02-03T05:49:54.777802Z",
     "iopub.status.busy": "2023-02-03T05:49:54.777163Z",
     "iopub.status.idle": "2023-02-03T05:49:54.846469Z",
     "shell.execute_reply": "2023-02-03T05:49:54.845451Z"
    }
   },
   "outputs": [
    {
     "data": {
      "text/html": [
       "<div>\n",
       "<style scoped>\n",
       "    .dataframe tbody tr th:only-of-type {\n",
       "        vertical-align: middle;\n",
       "    }\n",
       "\n",
       "    .dataframe tbody tr th {\n",
       "        vertical-align: top;\n",
       "    }\n",
       "\n",
       "    .dataframe thead th {\n",
       "        text-align: right;\n",
       "    }\n",
       "</style>\n",
       "<table border=\"1\" class=\"dataframe\">\n",
       "  <thead>\n",
       "    <tr style=\"text-align: right;\">\n",
       "      <th></th>\n",
       "      <th>W0</th>\n",
       "      <th>v0</th>\n",
       "      <th>y</th>\n",
       "    </tr>\n",
       "  </thead>\n",
       "  <tbody>\n",
       "    <tr>\n",
       "      <th>0</th>\n",
       "      <td>-2.490888</td>\n",
       "      <td>False</td>\n",
       "      <td>0.978170</td>\n",
       "    </tr>\n",
       "    <tr>\n",
       "      <th>1</th>\n",
       "      <td>-1.009775</td>\n",
       "      <td>False</td>\n",
       "      <td>0.024681</td>\n",
       "    </tr>\n",
       "    <tr>\n",
       "      <th>2</th>\n",
       "      <td>-0.294268</td>\n",
       "      <td>False</td>\n",
       "      <td>1.071236</td>\n",
       "    </tr>\n",
       "    <tr>\n",
       "      <th>3</th>\n",
       "      <td>-1.046437</td>\n",
       "      <td>False</td>\n",
       "      <td>-0.715418</td>\n",
       "    </tr>\n",
       "    <tr>\n",
       "      <th>4</th>\n",
       "      <td>0.946581</td>\n",
       "      <td>False</td>\n",
       "      <td>1.973779</td>\n",
       "    </tr>\n",
       "    <tr>\n",
       "      <th>...</th>\n",
       "      <td>...</td>\n",
       "      <td>...</td>\n",
       "      <td>...</td>\n",
       "    </tr>\n",
       "    <tr>\n",
       "      <th>995</th>\n",
       "      <td>-2.210464</td>\n",
       "      <td>False</td>\n",
       "      <td>0.430126</td>\n",
       "    </tr>\n",
       "    <tr>\n",
       "      <th>996</th>\n",
       "      <td>0.960334</td>\n",
       "      <td>True</td>\n",
       "      <td>5.784131</td>\n",
       "    </tr>\n",
       "    <tr>\n",
       "      <th>997</th>\n",
       "      <td>-0.826623</td>\n",
       "      <td>False</td>\n",
       "      <td>-0.583120</td>\n",
       "    </tr>\n",
       "    <tr>\n",
       "      <th>998</th>\n",
       "      <td>-1.290634</td>\n",
       "      <td>False</td>\n",
       "      <td>-0.918254</td>\n",
       "    </tr>\n",
       "    <tr>\n",
       "      <th>999</th>\n",
       "      <td>1.630392</td>\n",
       "      <td>True</td>\n",
       "      <td>4.755090</td>\n",
       "    </tr>\n",
       "  </tbody>\n",
       "</table>\n",
       "<p>1000 rows × 3 columns</p>\n",
       "</div>"
      ],
      "text/plain": [
       "           W0     v0         y\n",
       "0   -2.490888  False  0.978170\n",
       "1   -1.009775  False  0.024681\n",
       "2   -0.294268  False  1.071236\n",
       "3   -1.046437  False -0.715418\n",
       "4    0.946581  False  1.973779\n",
       "..        ...    ...       ...\n",
       "995 -2.210464  False  0.430126\n",
       "996  0.960334   True  5.784131\n",
       "997 -0.826623  False -0.583120\n",
       "998 -1.290634  False -0.918254\n",
       "999  1.630392   True  4.755090\n",
       "\n",
       "[1000 rows x 3 columns]"
      ]
     },
     "execution_count": 2,
     "metadata": {},
     "output_type": "execute_result"
    }
   ],
   "source": [
    "data = dowhy.datasets.linear_dataset(beta=5,\n",
    "        num_common_causes=1,\n",
    "        num_instruments = 0,\n",
    "        num_samples=1000,\n",
    "        treatment_is_binary=True)\n",
    "df = data['df']\n",
    "df['y'] = df['y'] + np.random.normal(size=len(df)) # Adding noise to data. Without noise, the variance in Y|X, Z is zero, and mcmc fails.\n",
    "#data['dot_graph'] = 'digraph { v ->y;X0-> v;X0-> y;}'\n",
    "\n",
    "treatment= data[\"treatment_name\"][0]\n",
    "outcome = data[\"outcome_name\"][0]\n",
    "common_cause = data[\"common_causes_names\"][0]\n",
    "df"
   ]
  },
  {
   "cell_type": "code",
   "execution_count": 3,
   "metadata": {
    "execution": {
     "iopub.execute_input": "2023-02-03T05:49:54.850229Z",
     "iopub.status.busy": "2023-02-03T05:49:54.849923Z",
     "iopub.status.idle": "2023-02-03T05:49:55.072656Z",
     "shell.execute_reply": "2023-02-03T05:49:55.071609Z"
    }
   },
   "outputs": [
    {
     "data": {
      "text/plain": [
       "<AxesSubplot: xlabel='v0'>"
      ]
     },
     "execution_count": 3,
     "metadata": {},
     "output_type": "execute_result"
    },
    {
     "data": {
      "image/png": "[encoded data removed]",
      "text/plain": [
       "<Figure size 640x480 with 1 Axes>"
      ]
     },
     "metadata": {},
     "output_type": "display_data"
    }
   ],
   "source": [
    "# data['df'] is just a regular pandas.DataFrame\n",
    "df.causal.do(x=treatment,\n",
    "                     variable_types={treatment: 'b', outcome: 'c', common_cause: 'c'},\n",
    "                     outcome=outcome,\n",
    "                     common_causes=[common_cause],\n",
    "                     proceed_when_unidentifiable=True).groupby(treatment).mean().plot(y=outcome, kind='bar')"
   ]
  },
  {
   "cell_type": "code",
   "execution_count": 4,
   "metadata": {
    "execution": {
     "iopub.execute_input": "2023-02-03T05:49:55.076705Z",
     "iopub.status.busy": "2023-02-03T05:49:55.076408Z",
     "iopub.status.idle": "2023-02-03T05:49:55.247860Z",
     "shell.execute_reply": "2023-02-03T05:49:55.246818Z"
    }
   },
   "outputs": [
    {
     "data": {
      "text/plain": [
       "<AxesSubplot: xlabel='v0'>"
      ]
     },
     "execution_count": 4,
     "metadata": {},
     "output_type": "execute_result"
    },
    {
     "data": {
      "image/png": "[encoded data removed]",
      "text/plain": [
       "<Figure size 640x480 with 1 Axes>"
      ]
     },
     "metadata": {},
     "output_type": "display_data"
    }
   ],
   "source": [
    "df.causal.do(x={treatment: 1}, \n",
    "              variable_types={treatment:'b', outcome: 'c', common_cause: 'c'}, \n",
    "              outcome=outcome,\n",
    "              method='weighting', \n",
    "              common_causes=[common_cause],\n",
    "              proceed_when_unidentifiable=True).groupby(treatment).mean().plot(y=outcome, kind='bar')"
   ]
  },
  {
   "cell_type": "code",
   "execution_count": 5,
   "metadata": {
    "execution": {
     "iopub.execute_input": "2023-02-03T05:49:55.251762Z",
     "iopub.status.busy": "2023-02-03T05:49:55.251247Z",
     "iopub.status.idle": "2023-02-03T05:49:55.292136Z",
     "shell.execute_reply": "2023-02-03T05:49:55.291258Z"
    }
   },
   "outputs": [],
   "source": [
    "cdf_1 = df.causal.do(x={treatment: 1}, \n",
    "              variable_types={treatment: 'b', outcome: 'c', common_cause: 'c'}, \n",
    "              outcome=outcome, \n",
    "              dot_graph=data['dot_graph'],\n",
    "              proceed_when_unidentifiable=True)\n",
    "\n",
    "cdf_0 = df.causal.do(x={treatment: 0}, \n",
    "              variable_types={treatment: 'b', outcome: 'c', common_cause: 'c'}, \n",
    "              outcome=outcome, \n",
    "              dot_graph=data['dot_graph'],\n",
    "              proceed_when_unidentifiable=True)\n"
   ]
  },
  {
   "cell_type": "code",
   "execution_count": 6,
   "metadata": {
    "execution": {
     "iopub.execute_input": "2023-02-03T05:49:55.296217Z",
     "iopub.status.busy": "2023-02-03T05:49:55.295771Z",
     "iopub.status.idle": "2023-02-03T05:49:55.309420Z",
     "shell.execute_reply": "2023-02-03T05:49:55.308542Z"
    },
    "scrolled": true
   },
   "outputs": [
    {
     "data": {
      "text/html": [
       "<div>\n",
       "<style scoped>\n",
       "    .dataframe tbody tr th:only-of-type {\n",
       "        vertical-align: middle;\n",
       "    }\n",
       "\n",
       "    .dataframe tbody tr th {\n",
       "        vertical-align: top;\n",
       "    }\n",
       "\n",
       "    .dataframe thead th {\n",
       "        text-align: right;\n",
       "    }\n",
       "</style>\n",
       "<table border=\"1\" class=\"dataframe\">\n",
       "  <thead>\n",
       "    <tr style=\"text-align: right;\">\n",
       "      <th></th>\n",
       "      <th>W0</th>\n",
       "      <th>v0</th>\n",
       "      <th>y</th>\n",
       "      <th>propensity_score</th>\n",
       "      <th>weight</th>\n",
       "    </tr>\n",
       "  </thead>\n",
       "  <tbody>\n",
       "    <tr>\n",
       "      <th>0</th>\n",
       "      <td>-1.106832</td>\n",
       "      <td>False</td>\n",
       "      <td>-0.807673</td>\n",
       "      <td>0.726134</td>\n",
       "      <td>1.377156</td>\n",
       "    </tr>\n",
       "    <tr>\n",
       "      <th>1</th>\n",
       "      <td>-1.113066</td>\n",
       "      <td>False</td>\n",
       "      <td>0.233313</td>\n",
       "      <td>0.727004</td>\n",
       "      <td>1.375508</td>\n",
       "    </tr>\n",
       "    <tr>\n",
       "      <th>2</th>\n",
       "      <td>-1.282639</td>\n",
       "      <td>False</td>\n",
       "      <td>0.603939</td>\n",
       "      <td>0.750002</td>\n",
       "      <td>1.333330</td>\n",
       "    </tr>\n",
       "    <tr>\n",
       "      <th>3</th>\n",
       "      <td>-1.892370</td>\n",
       "      <td>False</td>\n",
       "      <td>1.698026</td>\n",
       "      <td>0.821573</td>\n",
       "      <td>1.217177</td>\n",
       "    </tr>\n",
       "    <tr>\n",
       "      <th>4</th>\n",
       "      <td>-3.159784</td>\n",
       "      <td>False</td>\n",
       "      <td>0.105794</td>\n",
       "      <td>0.918157</td>\n",
       "      <td>1.089138</td>\n",
       "    </tr>\n",
       "    <tr>\n",
       "      <th>...</th>\n",
       "      <td>...</td>\n",
       "      <td>...</td>\n",
       "      <td>...</td>\n",
       "      <td>...</td>\n",
       "      <td>...</td>\n",
       "    </tr>\n",
       "    <tr>\n",
       "      <th>995</th>\n",
       "      <td>-1.363305</td>\n",
       "      <td>False</td>\n",
       "      <td>0.476850</td>\n",
       "      <td>0.760478</td>\n",
       "      <td>1.314962</td>\n",
       "    </tr>\n",
       "    <tr>\n",
       "      <th>996</th>\n",
       "      <td>-0.739591</td>\n",
       "      <td>False</td>\n",
       "      <td>0.216242</td>\n",
       "      <td>0.671959</td>\n",
       "      <td>1.488185</td>\n",
       "    </tr>\n",
       "    <tr>\n",
       "      <th>997</th>\n",
       "      <td>-1.689709</td>\n",
       "      <td>False</td>\n",
       "      <td>0.278302</td>\n",
       "      <td>0.799736</td>\n",
       "      <td>1.250413</td>\n",
       "    </tr>\n",
       "    <tr>\n",
       "      <th>998</th>\n",
       "      <td>-2.137464</td>\n",
       "      <td>False</td>\n",
       "      <td>0.678875</td>\n",
       "      <td>0.845437</td>\n",
       "      <td>1.182820</td>\n",
       "    </tr>\n",
       "    <tr>\n",
       "      <th>999</th>\n",
       "      <td>-1.744794</td>\n",
       "      <td>False</td>\n",
       "      <td>-0.379385</td>\n",
       "      <td>0.805863</td>\n",
       "      <td>1.240906</td>\n",
       "    </tr>\n",
       "  </tbody>\n",
       "</table>\n",
       "<p>1000 rows × 5 columns</p>\n",
       "</div>"
      ],
      "text/plain": [
       "           W0     v0         y  propensity_score    weight\n",
       "0   -1.106832  False -0.807673          0.726134  1.377156\n",
       "1   -1.113066  False  0.233313          0.727004  1.375508\n",
       "2   -1.282639  False  0.603939          0.750002  1.333330\n",
       "3   -1.892370  False  1.698026          0.821573  1.217177\n",
       "4   -3.159784  False  0.105794          0.918157  1.089138\n",
       "..        ...    ...       ...               ...       ...\n",
       "995 -1.363305  False  0.476850          0.760478  1.314962\n",
       "996 -0.739591  False  0.216242          0.671959  1.488185\n",
       "997 -1.689709  False  0.278302          0.799736  1.250413\n",
       "998 -2.137464  False  0.678875          0.845437  1.182820\n",
       "999 -1.744794  False -0.379385          0.805863  1.240906\n",
       "\n",
       "[1000 rows x 5 columns]"
      ]
     },
     "execution_count": 6,
     "metadata": {},
     "output_type": "execute_result"
    }
   ],
   "source": [
    "cdf_0"
   ]
  },
  {
   "cell_type": "code",
   "execution_count": 7,
   "metadata": {
    "execution": {
     "iopub.execute_input": "2023-02-03T05:49:55.314212Z",
     "iopub.status.busy": "2023-02-03T05:49:55.313930Z",
     "iopub.status.idle": "2023-02-03T05:49:55.327115Z",
     "shell.execute_reply": "2023-02-03T05:49:55.326213Z"
    }
   },
   "outputs": [
    {
     "data": {
      "text/html": [
       "<div>\n",
       "<style scoped>\n",
       "    .dataframe tbody tr th:only-of-type {\n",
       "        vertical-align: middle;\n",
       "    }\n",
       "\n",
       "    .dataframe tbody tr th {\n",
       "        vertical-align: top;\n",
       "    }\n",
       "\n",
       "    .dataframe thead th {\n",
       "        text-align: right;\n",
       "    }\n",
       "</style>\n",
       "<table border=\"1\" class=\"dataframe\">\n",
       "  <thead>\n",
       "    <tr style=\"text-align: right;\">\n",
       "      <th></th>\n",
       "      <th>W0</th>\n",
       "      <th>v0</th>\n",
       "      <th>y</th>\n",
       "      <th>propensity_score</th>\n",
       "      <th>weight</th>\n",
       "    </tr>\n",
       "  </thead>\n",
       "  <tbody>\n",
       "    <tr>\n",
       "      <th>0</th>\n",
       "      <td>-0.352883</td>\n",
       "      <td>True</td>\n",
       "      <td>6.170282</td>\n",
       "      <td>0.390468</td>\n",
       "      <td>2.561031</td>\n",
       "    </tr>\n",
       "    <tr>\n",
       "      <th>1</th>\n",
       "      <td>0.632993</td>\n",
       "      <td>True</td>\n",
       "      <td>6.104504</td>\n",
       "      <td>0.561527</td>\n",
       "      <td>1.780858</td>\n",
       "    </tr>\n",
       "    <tr>\n",
       "      <th>2</th>\n",
       "      <td>-0.578314</td>\n",
       "      <td>True</td>\n",
       "      <td>4.471049</td>\n",
       "      <td>0.353488</td>\n",
       "      <td>2.828950</td>\n",
       "    </tr>\n",
       "    <tr>\n",
       "      <th>3</th>\n",
       "      <td>-2.288363</td>\n",
       "      <td>True</td>\n",
       "      <td>5.223470</td>\n",
       "      <td>0.141210</td>\n",
       "      <td>7.081659</td>\n",
       "    </tr>\n",
       "    <tr>\n",
       "      <th>4</th>\n",
       "      <td>-1.115047</td>\n",
       "      <td>True</td>\n",
       "      <td>6.096532</td>\n",
       "      <td>0.272720</td>\n",
       "      <td>3.666770</td>\n",
       "    </tr>\n",
       "    <tr>\n",
       "      <th>...</th>\n",
       "      <td>...</td>\n",
       "      <td>...</td>\n",
       "      <td>...</td>\n",
       "      <td>...</td>\n",
       "      <td>...</td>\n",
       "    </tr>\n",
       "    <tr>\n",
       "      <th>995</th>\n",
       "      <td>-0.250827</td>\n",
       "      <td>True</td>\n",
       "      <td>5.450562</td>\n",
       "      <td>0.407662</td>\n",
       "      <td>2.453012</td>\n",
       "    </tr>\n",
       "    <tr>\n",
       "      <th>996</th>\n",
       "      <td>-0.943817</td>\n",
       "      <td>True</td>\n",
       "      <td>5.225837</td>\n",
       "      <td>0.297223</td>\n",
       "      <td>3.364475</td>\n",
       "    </tr>\n",
       "    <tr>\n",
       "      <th>997</th>\n",
       "      <td>-2.952847</td>\n",
       "      <td>True</td>\n",
       "      <td>6.822065</td>\n",
       "      <td>0.093455</td>\n",
       "      <td>10.700388</td>\n",
       "    </tr>\n",
       "    <tr>\n",
       "      <th>998</th>\n",
       "      <td>-0.488184</td>\n",
       "      <td>True</td>\n",
       "      <td>3.531323</td>\n",
       "      <td>0.368091</td>\n",
       "      <td>2.716717</td>\n",
       "    </tr>\n",
       "    <tr>\n",
       "      <th>999</th>\n",
       "      <td>-1.856665</td>\n",
       "      <td>True</td>\n",
       "      <td>4.513552</td>\n",
       "      <td>0.182134</td>\n",
       "      <td>5.490451</td>\n",
       "    </tr>\n",
       "  </tbody>\n",
       "</table>\n",
       "<p>1000 rows × 5 columns</p>\n",
       "</div>"
      ],
      "text/plain": [
       "           W0    v0         y  propensity_score     weight\n",
       "0   -0.352883  True  6.170282          0.390468   2.561031\n",
       "1    0.632993  True  6.104504          0.561527   1.780858\n",
       "2   -0.578314  True  4.471049          0.353488   2.828950\n",
       "3   -2.288363  True  5.223470          0.141210   7.081659\n",
       "4   -1.115047  True  6.096532          0.272720   3.666770\n",
       "..        ...   ...       ...               ...        ...\n",
       "995 -0.250827  True  5.450562          0.407662   2.453012\n",
       "996 -0.943817  True  5.225837          0.297223   3.364475\n",
       "997 -2.952847  True  6.822065          0.093455  10.700388\n",
       "998 -0.488184  True  3.531323          0.368091   2.716717\n",
       "999 -1.856665  True  4.513552          0.182134   5.490451\n",
       "\n",
       "[1000 rows x 5 columns]"
      ]
     },
     "execution_count": 7,
     "metadata": {},
     "output_type": "execute_result"
    }
   ],
   "source": [
    "cdf_1"
   ]
  },
  {
   "cell_type": "markdown",
   "metadata": {},
   "source": [
    "## Comparing the estimate to Linear Regression\n",
    "First, estimating the effect using the causal data frame, and the 95% confidence interval."
   ]
  },
  {
   "cell_type": "code",
   "execution_count": 8,
   "metadata": {
    "execution": {
     "iopub.execute_input": "2023-02-03T05:49:55.331817Z",
     "iopub.status.busy": "2023-02-03T05:49:55.331534Z",
     "iopub.status.idle": "2023-02-03T05:49:55.405133Z",
     "shell.execute_reply": "2023-02-03T05:49:55.404191Z"
    }
   },
   "outputs": [
    {
     "data": {
      "image/png": "[encoded data removed]",
      "text/latex": [
       "$\\displaystyle 5.05896489924467$"
      ],
      "text/plain": [
       "5.058964899244672"
      ]
     },
     "execution_count": 8,
     "metadata": {},
     "output_type": "execute_result"
    }
   ],
   "source": [
    "(cdf_1['y'] - cdf_0['y']).mean()"
   ]
  },
  {
   "cell_type": "code",
   "execution_count": 9,
   "metadata": {
    "execution": {
     "iopub.execute_input": "2023-02-03T05:49:55.409198Z",
     "iopub.status.busy": "2023-02-03T05:49:55.408914Z",
     "iopub.status.idle": "2023-02-03T05:49:55.439638Z",
     "shell.execute_reply": "2023-02-03T05:49:55.438613Z"
    }
   },
   "outputs": [
    {
     "data": {
      "image/png": "[encoded data removed]",
      "text/latex": [
       "$\\displaystyle 0.0875429347488848$"
      ],
      "text/plain": [
       "0.08754293474888479"
      ]
     },
     "execution_count": 9,
     "metadata": {},
     "output_type": "execute_result"
    }
   ],
   "source": [
    "1.96*(cdf_1['y'] - cdf_0['y']).std() / np.sqrt(len(df))"
   ]
  },
  {
   "cell_type": "markdown",
   "metadata": {},
   "source": [
    "Comparing to the estimate from OLS."
   ]
  },
  {
   "cell_type": "code",
   "execution_count": 10,
   "metadata": {
    "execution": {
     "iopub.execute_input": "2023-02-03T05:49:55.443452Z",
     "iopub.status.busy": "2023-02-03T05:49:55.443170Z",
     "iopub.status.idle": "2023-02-03T05:49:55.463477Z",
     "shell.execute_reply": "2023-02-03T05:49:55.462559Z"
    }
   },
   "outputs": [
    {
     "data": {
      "text/html": [
       "<table class=\"simpletable\">\n",
       "<caption>OLS Regression Results</caption>\n",
       "<tr>\n",
       "  <th>Dep. Variable:</th>            <td>y</td>        <th>  R-squared (uncentered):</th>      <td>   0.891</td>\n",
       "</tr>\n",
       "<tr>\n",
       "  <th>Model:</th>                   <td>OLS</td>       <th>  Adj. R-squared (uncentered):</th> <td>   0.891</td>\n",
       "</tr>\n",
       "<tr>\n",
       "  <th>Method:</th>             <td>Least Squares</td>  <th>  F-statistic:       </th>          <td>   4092.</td>\n",
       "</tr>\n",
       "<tr>\n",
       "  <th>Date:</th>             <td>Fri, 03 Feb 2023</td> <th>  Prob (F-statistic):</th>           <td>  0.00</td> \n",
       "</tr>\n",
       "<tr>\n",
       "  <th>Time:</th>                 <td>05:49:55</td>     <th>  Log-Likelihood:    </th>          <td> -1424.7</td>\n",
       "</tr>\n",
       "<tr>\n",
       "  <th>No. Observations:</th>      <td>  1000</td>      <th>  AIC:               </th>          <td>   2853.</td>\n",
       "</tr>\n",
       "<tr>\n",
       "  <th>Df Residuals:</th>          <td>   998</td>      <th>  BIC:               </th>          <td>   2863.</td>\n",
       "</tr>\n",
       "<tr>\n",
       "  <th>Df Model:</th>              <td>     2</td>      <th>                     </th>              <td> </td>   \n",
       "</tr>\n",
       "<tr>\n",
       "  <th>Covariance Type:</th>      <td>nonrobust</td>    <th>                     </th>              <td> </td>   \n",
       "</tr>\n",
       "</table>\n",
       "<table class=\"simpletable\">\n",
       "<tr>\n",
       "   <td></td>     <th>coef</th>     <th>std err</th>      <th>t</th>      <th>P>|t|</th>  <th>[0.025</th>    <th>0.975]</th>  \n",
       "</tr>\n",
       "<tr>\n",
       "  <th>x1</th> <td>    0.0490</td> <td>    0.023</td> <td>    2.086</td> <td> 0.037</td> <td>    0.003</td> <td>    0.095</td>\n",
       "</tr>\n",
       "<tr>\n",
       "  <th>x2</th> <td>    5.0792</td> <td>    0.057</td> <td>   89.453</td> <td> 0.000</td> <td>    4.968</td> <td>    5.191</td>\n",
       "</tr>\n",
       "</table>\n",
       "<table class=\"simpletable\">\n",
       "<tr>\n",
       "  <th>Omnibus:</th>       <td> 2.656</td> <th>  Durbin-Watson:     </th> <td>   1.978</td>\n",
       "</tr>\n",
       "<tr>\n",
       "  <th>Prob(Omnibus):</th> <td> 0.265</td> <th>  Jarque-Bera (JB):  </th> <td>   2.458</td>\n",
       "</tr>\n",
       "<tr>\n",
       "  <th>Skew:</th>          <td>-0.057</td> <th>  Prob(JB):          </th> <td>   0.293</td>\n",
       "</tr>\n",
       "<tr>\n",
       "  <th>Kurtosis:</th>      <td> 2.785</td> <th>  Cond. No.          </th> <td>    2.47</td>\n",
       "</tr>\n",
       "</table><br/><br/>Notes:<br/>[1] R² is computed without centering (uncentered) since the model does not contain a constant.<br/>[2] Standard Errors assume that the covariance matrix of the errors is correctly specified."
      ],
      "text/plain": [
       "<class 'statsmodels.iolib.summary.Summary'>\n",
       "\"\"\"\n",
       "                                 OLS Regression Results                                \n",
       "=======================================================================================\n",
       "Dep. Variable:                      y   R-squared (uncentered):                   0.891\n",
       "Model:                            OLS   Adj. R-squared (uncentered):              0.891\n",
       "Method:                 Least Squares   F-statistic:                              4092.\n",
       "Date:                Fri, 03 Feb 2023   Prob (F-statistic):                        0.00\n",
       "Time:                        05:49:55   Log-Likelihood:                         -1424.7\n",
       "No. Observations:                1000   AIC:                                      2853.\n",
       "Df Residuals:                     998   BIC:                                      2863.\n",
       "Df Model:                           2                                                  \n",
       "Covariance Type:            nonrobust                                                  \n",
       "==============================================================================\n",
       "                 coef    std err          t      P>|t|      [0.025      0.975]\n",
       "------------------------------------------------------------------------------\n",
       "x1             0.0490      0.023      2.086      0.037       0.003       0.095\n",
       "x2             5.0792      0.057     89.453      0.000       4.968       5.191\n",
       "==============================================================================\n",
       "Omnibus:                        2.656   Durbin-Watson:                   1.978\n",
       "Prob(Omnibus):                  0.265   Jarque-Bera (JB):                2.458\n",
       "Skew:                          -0.057   Prob(JB):                        0.293\n",
       "Kurtosis:                       2.785   Cond. No.                         2.47\n",
       "==============================================================================\n",
       "\n",
       "Notes:\n",
       "[1] R² is computed without centering (uncentered) since the model does not contain a constant.\n",
       "[2] Standard Errors assume that the covariance matrix of the errors is correctly specified.\n",
       "\"\"\""
      ]
     },
     "execution_count": 10,
     "metadata": {},
     "output_type": "execute_result"
    }
   ],
   "source": [
    "model = OLS(np.asarray(df[outcome]), np.asarray(df[[common_cause, treatment]], dtype=np.float64))\n",
    "result = model.fit()\n",
    "result.summary()"
   ]
  }
 ],
 "metadata": {
  "kernelspec": {
   "display_name": "Python 3",
   "language": "python",
   "name": "python3"
  },
  "language_info": {
   "codemirror_mode": {
    "name": "ipython",
    "version": 3
   },
   "file_extension": ".py",
   "mimetype": "text/x-python",
   "name": "python",
   "nbconvert_exporter": "python",
   "pygments_lexer": "ipython3",
   "version": "3.8.10"
  },
  "toc": {
   "base_numbering": 1,
   "nav_menu": {},
   "number_sections": false,
   "sideBar": true,
   "skip_h1_title": true,
   "title_cell": "Table of Contents",
   "title_sidebar": "Contents",
   "toc_cell": false,
   "toc_position": {},
   "toc_section_display": true,
   "toc_window_display": false
  }
 },
 "nbformat": 4,
 "nbformat_minor": 4
}
