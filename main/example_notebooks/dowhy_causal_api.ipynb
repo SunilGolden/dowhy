{
 "cells": [
  {
   "cell_type": "markdown",
   "metadata": {},
   "source": [
    "# Demo for the DoWhy causal API\n",
    "We show a simple example of adding a causal extension to any dataframe. "
   ]
  },
  {
   "cell_type": "code",
   "execution_count": 1,
   "metadata": {
    "execution": {
     "iopub.execute_input": "2023-12-22T16:31:53.009378Z",
     "iopub.status.busy": "2023-12-22T16:31:53.009194Z",
     "iopub.status.idle": "2023-12-22T16:31:54.489396Z",
     "shell.execute_reply": "2023-12-22T16:31:54.488705Z"
    }
   },
   "outputs": [],
   "source": [
    "import dowhy.datasets\n",
    "import dowhy.api\n",
    "from dowhy.graph import build_graph_from_str\n",
    "\n",
    "import numpy as np\n",
    "import pandas as pd\n",
    "\n",
    "from statsmodels.api import OLS"
   ]
  },
  {
   "cell_type": "code",
   "execution_count": 2,
   "metadata": {
    "execution": {
     "iopub.execute_input": "2023-12-22T16:31:54.492506Z",
     "iopub.status.busy": "2023-12-22T16:31:54.492001Z",
     "iopub.status.idle": "2023-12-22T16:31:54.530867Z",
     "shell.execute_reply": "2023-12-22T16:31:54.530262Z"
    }
   },
   "outputs": [
    {
     "data": {
      "text/html": [
       "<div>\n",
       "<style scoped>\n",
       "    .dataframe tbody tr th:only-of-type {\n",
       "        vertical-align: middle;\n",
       "    }\n",
       "\n",
       "    .dataframe tbody tr th {\n",
       "        vertical-align: top;\n",
       "    }\n",
       "\n",
       "    .dataframe thead th {\n",
       "        text-align: right;\n",
       "    }\n",
       "</style>\n",
       "<table border=\"1\" class=\"dataframe\">\n",
       "  <thead>\n",
       "    <tr style=\"text-align: right;\">\n",
       "      <th></th>\n",
       "      <th>W0</th>\n",
       "      <th>v0</th>\n",
       "      <th>y</th>\n",
       "    </tr>\n",
       "  </thead>\n",
       "  <tbody>\n",
       "    <tr>\n",
       "      <th>0</th>\n",
       "      <td>-0.913147</td>\n",
       "      <td>False</td>\n",
       "      <td>-0.842913</td>\n",
       "    </tr>\n",
       "    <tr>\n",
       "      <th>1</th>\n",
       "      <td>0.058275</td>\n",
       "      <td>False</td>\n",
       "      <td>1.350328</td>\n",
       "    </tr>\n",
       "    <tr>\n",
       "      <th>2</th>\n",
       "      <td>-1.166946</td>\n",
       "      <td>False</td>\n",
       "      <td>-0.688998</td>\n",
       "    </tr>\n",
       "    <tr>\n",
       "      <th>3</th>\n",
       "      <td>0.458789</td>\n",
       "      <td>False</td>\n",
       "      <td>-0.438620</td>\n",
       "    </tr>\n",
       "    <tr>\n",
       "      <th>4</th>\n",
       "      <td>2.176164</td>\n",
       "      <td>True</td>\n",
       "      <td>6.196012</td>\n",
       "    </tr>\n",
       "    <tr>\n",
       "      <th>...</th>\n",
       "      <td>...</td>\n",
       "      <td>...</td>\n",
       "      <td>...</td>\n",
       "    </tr>\n",
       "    <tr>\n",
       "      <th>995</th>\n",
       "      <td>1.221105</td>\n",
       "      <td>True</td>\n",
       "      <td>6.164691</td>\n",
       "    </tr>\n",
       "    <tr>\n",
       "      <th>996</th>\n",
       "      <td>0.286706</td>\n",
       "      <td>True</td>\n",
       "      <td>4.000340</td>\n",
       "    </tr>\n",
       "    <tr>\n",
       "      <th>997</th>\n",
       "      <td>0.402994</td>\n",
       "      <td>True</td>\n",
       "      <td>3.339937</td>\n",
       "    </tr>\n",
       "    <tr>\n",
       "      <th>998</th>\n",
       "      <td>-2.158400</td>\n",
       "      <td>False</td>\n",
       "      <td>-2.137273</td>\n",
       "    </tr>\n",
       "    <tr>\n",
       "      <th>999</th>\n",
       "      <td>-0.839817</td>\n",
       "      <td>False</td>\n",
       "      <td>-0.840616</td>\n",
       "    </tr>\n",
       "  </tbody>\n",
       "</table>\n",
       "<p>1000 rows × 3 columns</p>\n",
       "</div>"
      ],
      "text/plain": [
       "           W0     v0         y\n",
       "0   -0.913147  False -0.842913\n",
       "1    0.058275  False  1.350328\n",
       "2   -1.166946  False -0.688998\n",
       "3    0.458789  False -0.438620\n",
       "4    2.176164   True  6.196012\n",
       "..        ...    ...       ...\n",
       "995  1.221105   True  6.164691\n",
       "996  0.286706   True  4.000340\n",
       "997  0.402994   True  3.339937\n",
       "998 -2.158400  False -2.137273\n",
       "999 -0.839817  False -0.840616\n",
       "\n",
       "[1000 rows x 3 columns]"
      ]
     },
     "execution_count": 2,
     "metadata": {},
     "output_type": "execute_result"
    }
   ],
   "source": [
    "data = dowhy.datasets.linear_dataset(beta=5,\n",
    "        num_common_causes=1,\n",
    "        num_instruments = 0,\n",
    "        num_samples=1000,\n",
    "        treatment_is_binary=True)\n",
    "df = data['df']\n",
    "df['y'] = df['y'] + np.random.normal(size=len(df)) # Adding noise to data. Without noise, the variance in Y|X, Z is zero, and mcmc fails.\n",
    "nx_graph = build_graph_from_str(data[\"dot_graph\"])\n",
    "\n",
    "treatment= data[\"treatment_name\"][0]\n",
    "outcome = data[\"outcome_name\"][0]\n",
    "common_cause = data[\"common_causes_names\"][0]\n",
    "df"
   ]
  },
  {
   "cell_type": "code",
   "execution_count": 3,
   "metadata": {
    "execution": {
     "iopub.execute_input": "2023-12-22T16:31:54.533616Z",
     "iopub.status.busy": "2023-12-22T16:31:54.533173Z",
     "iopub.status.idle": "2023-12-22T16:31:54.695961Z",
     "shell.execute_reply": "2023-12-22T16:31:54.695330Z"
    },
    "scrolled": true
   },
   "outputs": [
    {
     "data": {
      "text/plain": [
       "<Axes: xlabel='v0'>"
      ]
     },
     "execution_count": 3,
     "metadata": {},
     "output_type": "execute_result"
    },
    {
     "data": {
      "image/png": "[encoded data removed]",
      "text/plain": [
       "<Figure size 640x480 with 1 Axes>"
      ]
     },
     "metadata": {},
     "output_type": "display_data"
    }
   ],
   "source": [
    "# data['df'] is just a regular pandas.DataFrame\n",
    "df.causal.do(x=treatment,\n",
    "             variable_types={treatment: 'b', outcome: 'c', common_cause: 'c'},\n",
    "             outcome=outcome,\n",
    "             common_causes=[common_cause],\n",
    "            ).groupby(treatment).mean().plot(y=outcome, kind='bar')"
   ]
  },
  {
   "cell_type": "code",
   "execution_count": 4,
   "metadata": {
    "execution": {
     "iopub.execute_input": "2023-12-22T16:31:54.698728Z",
     "iopub.status.busy": "2023-12-22T16:31:54.698330Z",
     "iopub.status.idle": "2023-12-22T16:31:54.807833Z",
     "shell.execute_reply": "2023-12-22T16:31:54.807111Z"
    }
   },
   "outputs": [
    {
     "data": {
      "text/plain": [
       "<Axes: xlabel='v0'>"
      ]
     },
     "execution_count": 4,
     "metadata": {},
     "output_type": "execute_result"
    },
    {
     "data": {
      "image/png": "[encoded data removed]",
      "text/plain": [
       "<Figure size 640x480 with 1 Axes>"
      ]
     },
     "metadata": {},
     "output_type": "display_data"
    }
   ],
   "source": [
    "df.causal.do(x={treatment: 1}, \n",
    "              variable_types={treatment:'b', outcome: 'c', common_cause: 'c'}, \n",
    "              outcome=outcome,\n",
    "              method='weighting', \n",
    "              common_causes=[common_cause]\n",
    "              ).groupby(treatment).mean().plot(y=outcome, kind='bar')"
   ]
  },
  {
   "cell_type": "code",
   "execution_count": 5,
   "metadata": {
    "execution": {
     "iopub.execute_input": "2023-12-22T16:31:54.810682Z",
     "iopub.status.busy": "2023-12-22T16:31:54.810192Z",
     "iopub.status.idle": "2023-12-22T16:31:54.832543Z",
     "shell.execute_reply": "2023-12-22T16:31:54.831853Z"
    }
   },
   "outputs": [],
   "source": [
    "cdf_1 = df.causal.do(x={treatment: 1}, \n",
    "              variable_types={treatment: 'b', outcome: 'c', common_cause: 'c'}, \n",
    "              outcome=outcome, \n",
    "              graph=nx_graph\n",
    "              )\n",
    "\n",
    "cdf_0 = df.causal.do(x={treatment: 0}, \n",
    "              variable_types={treatment: 'b', outcome: 'c', common_cause: 'c'}, \n",
    "              outcome=outcome, \n",
    "              graph=nx_graph\n",
    "              )\n"
   ]
  },
  {
   "cell_type": "code",
   "execution_count": 6,
   "metadata": {
    "execution": {
     "iopub.execute_input": "2023-12-22T16:31:54.835412Z",
     "iopub.status.busy": "2023-12-22T16:31:54.835004Z",
     "iopub.status.idle": "2023-12-22T16:31:54.844210Z",
     "shell.execute_reply": "2023-12-22T16:31:54.843712Z"
    },
    "scrolled": true
   },
   "outputs": [
    {
     "data": {
      "text/html": [
       "<div>\n",
       "<style scoped>\n",
       "    .dataframe tbody tr th:only-of-type {\n",
       "        vertical-align: middle;\n",
       "    }\n",
       "\n",
       "    .dataframe tbody tr th {\n",
       "        vertical-align: top;\n",
       "    }\n",
       "\n",
       "    .dataframe thead th {\n",
       "        text-align: right;\n",
       "    }\n",
       "</style>\n",
       "<table border=\"1\" class=\"dataframe\">\n",
       "  <thead>\n",
       "    <tr style=\"text-align: right;\">\n",
       "      <th></th>\n",
       "      <th>W0</th>\n",
       "      <th>v0</th>\n",
       "      <th>y</th>\n",
       "      <th>propensity_score</th>\n",
       "      <th>weight</th>\n",
       "    </tr>\n",
       "  </thead>\n",
       "  <tbody>\n",
       "    <tr>\n",
       "      <th>0</th>\n",
       "      <td>-0.215091</td>\n",
       "      <td>False</td>\n",
       "      <td>1.138710</td>\n",
       "      <td>0.633970</td>\n",
       "      <td>1.577361</td>\n",
       "    </tr>\n",
       "    <tr>\n",
       "      <th>1</th>\n",
       "      <td>0.184159</td>\n",
       "      <td>False</td>\n",
       "      <td>-0.294875</td>\n",
       "      <td>0.429330</td>\n",
       "      <td>2.329212</td>\n",
       "    </tr>\n",
       "    <tr>\n",
       "      <th>2</th>\n",
       "      <td>-1.648880</td>\n",
       "      <td>False</td>\n",
       "      <td>-0.226753</td>\n",
       "      <td>0.971911</td>\n",
       "      <td>1.028900</td>\n",
       "    </tr>\n",
       "    <tr>\n",
       "      <th>3</th>\n",
       "      <td>-0.026363</td>\n",
       "      <td>False</td>\n",
       "      <td>0.029439</td>\n",
       "      <td>0.538700</td>\n",
       "      <td>1.856321</td>\n",
       "    </tr>\n",
       "    <tr>\n",
       "      <th>4</th>\n",
       "      <td>-1.141809</td>\n",
       "      <td>False</td>\n",
       "      <td>-1.858592</td>\n",
       "      <td>0.923072</td>\n",
       "      <td>1.083339</td>\n",
       "    </tr>\n",
       "    <tr>\n",
       "      <th>...</th>\n",
       "      <td>...</td>\n",
       "      <td>...</td>\n",
       "      <td>...</td>\n",
       "      <td>...</td>\n",
       "      <td>...</td>\n",
       "    </tr>\n",
       "    <tr>\n",
       "      <th>995</th>\n",
       "      <td>1.500217</td>\n",
       "      <td>False</td>\n",
       "      <td>-0.108344</td>\n",
       "      <td>0.045944</td>\n",
       "      <td>21.765851</td>\n",
       "    </tr>\n",
       "    <tr>\n",
       "      <th>996</th>\n",
       "      <td>-0.972943</td>\n",
       "      <td>False</td>\n",
       "      <td>-1.679009</td>\n",
       "      <td>0.893988</td>\n",
       "      <td>1.118583</td>\n",
       "    </tr>\n",
       "    <tr>\n",
       "      <th>997</th>\n",
       "      <td>-0.918276</td>\n",
       "      <td>False</td>\n",
       "      <td>-1.127321</td>\n",
       "      <td>0.882670</td>\n",
       "      <td>1.132926</td>\n",
       "    </tr>\n",
       "    <tr>\n",
       "      <th>998</th>\n",
       "      <td>1.434714</td>\n",
       "      <td>False</td>\n",
       "      <td>0.327292</td>\n",
       "      <td>0.052327</td>\n",
       "      <td>19.110617</td>\n",
       "    </tr>\n",
       "    <tr>\n",
       "      <th>999</th>\n",
       "      <td>-0.169056</td>\n",
       "      <td>False</td>\n",
       "      <td>1.367793</td>\n",
       "      <td>0.611385</td>\n",
       "      <td>1.635630</td>\n",
       "    </tr>\n",
       "  </tbody>\n",
       "</table>\n",
       "<p>1000 rows × 5 columns</p>\n",
       "</div>"
      ],
      "text/plain": [
       "           W0     v0         y  propensity_score     weight\n",
       "0   -0.215091  False  1.138710          0.633970   1.577361\n",
       "1    0.184159  False -0.294875          0.429330   2.329212\n",
       "2   -1.648880  False -0.226753          0.971911   1.028900\n",
       "3   -0.026363  False  0.029439          0.538700   1.856321\n",
       "4   -1.141809  False -1.858592          0.923072   1.083339\n",
       "..        ...    ...       ...               ...        ...\n",
       "995  1.500217  False -0.108344          0.045944  21.765851\n",
       "996 -0.972943  False -1.679009          0.893988   1.118583\n",
       "997 -0.918276  False -1.127321          0.882670   1.132926\n",
       "998  1.434714  False  0.327292          0.052327  19.110617\n",
       "999 -0.169056  False  1.367793          0.611385   1.635630\n",
       "\n",
       "[1000 rows x 5 columns]"
      ]
     },
     "execution_count": 6,
     "metadata": {},
     "output_type": "execute_result"
    }
   ],
   "source": [
    "cdf_0"
   ]
  },
  {
   "cell_type": "code",
   "execution_count": 7,
   "metadata": {
    "execution": {
     "iopub.execute_input": "2023-12-22T16:31:54.846621Z",
     "iopub.status.busy": "2023-12-22T16:31:54.846238Z",
     "iopub.status.idle": "2023-12-22T16:31:54.855132Z",
     "shell.execute_reply": "2023-12-22T16:31:54.854602Z"
    }
   },
   "outputs": [
    {
     "data": {
      "text/html": [
       "<div>\n",
       "<style scoped>\n",
       "    .dataframe tbody tr th:only-of-type {\n",
       "        vertical-align: middle;\n",
       "    }\n",
       "\n",
       "    .dataframe tbody tr th {\n",
       "        vertical-align: top;\n",
       "    }\n",
       "\n",
       "    .dataframe thead th {\n",
       "        text-align: right;\n",
       "    }\n",
       "</style>\n",
       "<table border=\"1\" class=\"dataframe\">\n",
       "  <thead>\n",
       "    <tr style=\"text-align: right;\">\n",
       "      <th></th>\n",
       "      <th>W0</th>\n",
       "      <th>v0</th>\n",
       "      <th>y</th>\n",
       "      <th>propensity_score</th>\n",
       "      <th>weight</th>\n",
       "    </tr>\n",
       "  </thead>\n",
       "  <tbody>\n",
       "    <tr>\n",
       "      <th>0</th>\n",
       "      <td>-1.376142</td>\n",
       "      <td>True</td>\n",
       "      <td>3.807498</td>\n",
       "      <td>0.048602</td>\n",
       "      <td>20.575180</td>\n",
       "    </tr>\n",
       "    <tr>\n",
       "      <th>1</th>\n",
       "      <td>0.089889</td>\n",
       "      <td>True</td>\n",
       "      <td>4.782430</td>\n",
       "      <td>0.521910</td>\n",
       "      <td>1.916041</td>\n",
       "    </tr>\n",
       "    <tr>\n",
       "      <th>2</th>\n",
       "      <td>-0.473253</td>\n",
       "      <td>True</td>\n",
       "      <td>4.655816</td>\n",
       "      <td>0.251903</td>\n",
       "      <td>3.969775</td>\n",
       "    </tr>\n",
       "    <tr>\n",
       "      <th>3</th>\n",
       "      <td>0.829652</td>\n",
       "      <td>True</td>\n",
       "      <td>7.243798</td>\n",
       "      <td>0.836548</td>\n",
       "      <td>1.195388</td>\n",
       "    </tr>\n",
       "    <tr>\n",
       "      <th>4</th>\n",
       "      <td>-1.322700</td>\n",
       "      <td>True</td>\n",
       "      <td>4.901237</td>\n",
       "      <td>0.054031</td>\n",
       "      <td>18.507730</td>\n",
       "    </tr>\n",
       "    <tr>\n",
       "      <th>...</th>\n",
       "      <td>...</td>\n",
       "      <td>...</td>\n",
       "      <td>...</td>\n",
       "      <td>...</td>\n",
       "      <td>...</td>\n",
       "    </tr>\n",
       "    <tr>\n",
       "      <th>995</th>\n",
       "      <td>-0.265706</td>\n",
       "      <td>True</td>\n",
       "      <td>3.899294</td>\n",
       "      <td>0.341863</td>\n",
       "      <td>2.925147</td>\n",
       "    </tr>\n",
       "    <tr>\n",
       "      <th>996</th>\n",
       "      <td>0.304224</td>\n",
       "      <td>True</td>\n",
       "      <td>6.795187</td>\n",
       "      <td>0.630731</td>\n",
       "      <td>1.585462</td>\n",
       "    </tr>\n",
       "    <tr>\n",
       "      <th>997</th>\n",
       "      <td>-0.606255</td>\n",
       "      <td>True</td>\n",
       "      <td>4.988782</td>\n",
       "      <td>0.203223</td>\n",
       "      <td>4.920711</td>\n",
       "    </tr>\n",
       "    <tr>\n",
       "      <th>998</th>\n",
       "      <td>-0.468027</td>\n",
       "      <td>True</td>\n",
       "      <td>5.805760</td>\n",
       "      <td>0.253966</td>\n",
       "      <td>3.937535</td>\n",
       "    </tr>\n",
       "    <tr>\n",
       "      <th>999</th>\n",
       "      <td>-1.430759</td>\n",
       "      <td>True</td>\n",
       "      <td>4.830188</td>\n",
       "      <td>0.043591</td>\n",
       "      <td>22.940532</td>\n",
       "    </tr>\n",
       "  </tbody>\n",
       "</table>\n",
       "<p>1000 rows × 5 columns</p>\n",
       "</div>"
      ],
      "text/plain": [
       "           W0    v0         y  propensity_score     weight\n",
       "0   -1.376142  True  3.807498          0.048602  20.575180\n",
       "1    0.089889  True  4.782430          0.521910   1.916041\n",
       "2   -0.473253  True  4.655816          0.251903   3.969775\n",
       "3    0.829652  True  7.243798          0.836548   1.195388\n",
       "4   -1.322700  True  4.901237          0.054031  18.507730\n",
       "..        ...   ...       ...               ...        ...\n",
       "995 -0.265706  True  3.899294          0.341863   2.925147\n",
       "996  0.304224  True  6.795187          0.630731   1.585462\n",
       "997 -0.606255  True  4.988782          0.203223   4.920711\n",
       "998 -0.468027  True  5.805760          0.253966   3.937535\n",
       "999 -1.430759  True  4.830188          0.043591  22.940532\n",
       "\n",
       "[1000 rows x 5 columns]"
      ]
     },
     "execution_count": 7,
     "metadata": {},
     "output_type": "execute_result"
    }
   ],
   "source": [
    "cdf_1"
   ]
  },
  {
   "cell_type": "markdown",
   "metadata": {},
   "source": [
    "## Comparing the estimate to Linear Regression\n",
    "First, estimating the effect using the causal data frame, and the 95% confidence interval."
   ]
  },
  {
   "cell_type": "code",
   "execution_count": 8,
   "metadata": {
    "execution": {
     "iopub.execute_input": "2023-12-22T16:31:54.857569Z",
     "iopub.status.busy": "2023-12-22T16:31:54.857183Z",
     "iopub.status.idle": "2023-12-22T16:31:54.904584Z",
     "shell.execute_reply": "2023-12-22T16:31:54.903958Z"
    }
   },
   "outputs": [
    {
     "data": {
      "image/png": "[encoded data removed]",
      "text/latex": [
       "$\\displaystyle 5.24624127707697$"
      ],
      "text/plain": [
       "5.2462412770769715"
      ]
     },
     "execution_count": 8,
     "metadata": {},
     "output_type": "execute_result"
    }
   ],
   "source": [
    "(cdf_1['y'] - cdf_0['y']).mean()"
   ]
  },
  {
   "cell_type": "code",
   "execution_count": 9,
   "metadata": {
    "execution": {
     "iopub.execute_input": "2023-12-22T16:31:54.907008Z",
     "iopub.status.busy": "2023-12-22T16:31:54.906809Z",
     "iopub.status.idle": "2023-12-22T16:31:54.923915Z",
     "shell.execute_reply": "2023-12-22T16:31:54.923302Z"
    }
   },
   "outputs": [
    {
     "data": {
      "image/png": "[encoded data removed]",
      "text/latex": [
       "$\\displaystyle 0.101026658488301$"
      ],
      "text/plain": [
       "0.10102665848830135"
      ]
     },
     "execution_count": 9,
     "metadata": {},
     "output_type": "execute_result"
    }
   ],
   "source": [
    "1.96*(cdf_1['y'] - cdf_0['y']).std() / np.sqrt(len(df))"
   ]
  },
  {
   "cell_type": "markdown",
   "metadata": {},
   "source": [
    "Comparing to the estimate from OLS."
   ]
  },
  {
   "cell_type": "code",
   "execution_count": 10,
   "metadata": {
    "execution": {
     "iopub.execute_input": "2023-12-22T16:31:54.926305Z",
     "iopub.status.busy": "2023-12-22T16:31:54.926107Z",
     "iopub.status.idle": "2023-12-22T16:31:54.943296Z",
     "shell.execute_reply": "2023-12-22T16:31:54.942681Z"
    }
   },
   "outputs": [
    {
     "data": {
      "text/html": [
       "<table class=\"simpletable\">\n",
       "<caption>OLS Regression Results</caption>\n",
       "<tr>\n",
       "  <th>Dep. Variable:</th>            <td>y</td>        <th>  R-squared (uncentered):</th>      <td>   0.912</td>\n",
       "</tr>\n",
       "<tr>\n",
       "  <th>Model:</th>                   <td>OLS</td>       <th>  Adj. R-squared (uncentered):</th> <td>   0.912</td>\n",
       "</tr>\n",
       "<tr>\n",
       "  <th>Method:</th>             <td>Least Squares</td>  <th>  F-statistic:       </th>          <td>   5202.</td>\n",
       "</tr>\n",
       "<tr>\n",
       "  <th>Date:</th>             <td>Fri, 22 Dec 2023</td> <th>  Prob (F-statistic):</th>           <td>  0.00</td> \n",
       "</tr>\n",
       "<tr>\n",
       "  <th>Time:</th>                 <td>16:31:54</td>     <th>  Log-Likelihood:    </th>          <td> -1412.0</td>\n",
       "</tr>\n",
       "<tr>\n",
       "  <th>No. Observations:</th>      <td>  1000</td>      <th>  AIC:               </th>          <td>   2828.</td>\n",
       "</tr>\n",
       "<tr>\n",
       "  <th>Df Residuals:</th>          <td>   998</td>      <th>  BIC:               </th>          <td>   2838.</td>\n",
       "</tr>\n",
       "<tr>\n",
       "  <th>Df Model:</th>              <td>     2</td>      <th>                     </th>              <td> </td>   \n",
       "</tr>\n",
       "<tr>\n",
       "  <th>Covariance Type:</th>      <td>nonrobust</td>    <th>                     </th>              <td> </td>   \n",
       "</tr>\n",
       "</table>\n",
       "<table class=\"simpletable\">\n",
       "<tr>\n",
       "   <td></td>     <th>coef</th>     <th>std err</th>      <th>t</th>      <th>P>|t|</th>  <th>[0.025</th>    <th>0.975]</th>  \n",
       "</tr>\n",
       "<tr>\n",
       "  <th>x1</th> <td>    0.6891</td> <td>    0.031</td> <td>   22.523</td> <td> 0.000</td> <td>    0.629</td> <td>    0.749</td>\n",
       "</tr>\n",
       "<tr>\n",
       "  <th>x2</th> <td>    4.9468</td> <td>    0.053</td> <td>   92.589</td> <td> 0.000</td> <td>    4.842</td> <td>    5.052</td>\n",
       "</tr>\n",
       "</table>\n",
       "<table class=\"simpletable\">\n",
       "<tr>\n",
       "  <th>Omnibus:</th>       <td> 0.035</td> <th>  Durbin-Watson:     </th> <td>   1.969</td>\n",
       "</tr>\n",
       "<tr>\n",
       "  <th>Prob(Omnibus):</th> <td> 0.983</td> <th>  Jarque-Bera (JB):  </th> <td>   0.083</td>\n",
       "</tr>\n",
       "<tr>\n",
       "  <th>Skew:</th>          <td>-0.004</td> <th>  Prob(JB):          </th> <td>   0.959</td>\n",
       "</tr>\n",
       "<tr>\n",
       "  <th>Kurtosis:</th>      <td> 2.956</td> <th>  Cond. No.          </th> <td>    1.82</td>\n",
       "</tr>\n",
       "</table><br/><br/>Notes:<br/>[1] R² is computed without centering (uncentered) since the model does not contain a constant.<br/>[2] Standard Errors assume that the covariance matrix of the errors is correctly specified."
      ],
      "text/latex": [
       "\\begin{center}\n",
       "\\begin{tabular}{lclc}\n",
       "\\toprule\n",
       "\\textbf{Dep. Variable:}    &        y         & \\textbf{  R-squared (uncentered):}      &     0.912   \\\\\n",
       "\\textbf{Model:}            &       OLS        & \\textbf{  Adj. R-squared (uncentered):} &     0.912   \\\\\n",
       "\\textbf{Method:}           &  Least Squares   & \\textbf{  F-statistic:       }          &     5202.   \\\\\n",
       "\\textbf{Date:}             & Fri, 22 Dec 2023 & \\textbf{  Prob (F-statistic):}          &     0.00    \\\\\n",
       "\\textbf{Time:}             &     16:31:54     & \\textbf{  Log-Likelihood:    }          &   -1412.0   \\\\\n",
       "\\textbf{No. Observations:} &        1000      & \\textbf{  AIC:               }          &     2828.   \\\\\n",
       "\\textbf{Df Residuals:}     &         998      & \\textbf{  BIC:               }          &     2838.   \\\\\n",
       "\\textbf{Df Model:}         &           2      & \\textbf{                     }          &             \\\\\n",
       "\\textbf{Covariance Type:}  &    nonrobust     & \\textbf{                     }          &             \\\\\n",
       "\\bottomrule\n",
       "\\end{tabular}\n",
       "\\begin{tabular}{lcccccc}\n",
       "            & \\textbf{coef} & \\textbf{std err} & \\textbf{t} & \\textbf{P$> |$t$|$} & \\textbf{[0.025} & \\textbf{0.975]}  \\\\\n",
       "\\midrule\n",
       "\\textbf{x1} &       0.6891  &        0.031     &    22.523  &         0.000        &        0.629    &        0.749     \\\\\n",
       "\\textbf{x2} &       4.9468  &        0.053     &    92.589  &         0.000        &        4.842    &        5.052     \\\\\n",
       "\\bottomrule\n",
       "\\end{tabular}\n",
       "\\begin{tabular}{lclc}\n",
       "\\textbf{Omnibus:}       &  0.035 & \\textbf{  Durbin-Watson:     } &    1.969  \\\\\n",
       "\\textbf{Prob(Omnibus):} &  0.983 & \\textbf{  Jarque-Bera (JB):  } &    0.083  \\\\\n",
       "\\textbf{Skew:}          & -0.004 & \\textbf{  Prob(JB):          } &    0.959  \\\\\n",
       "\\textbf{Kurtosis:}      &  2.956 & \\textbf{  Cond. No.          } &     1.82  \\\\\n",
       "\\bottomrule\n",
       "\\end{tabular}\n",
       "%\\caption{OLS Regression Results}\n",
       "\\end{center}\n",
       "\n",
       "Notes: \\newline\n",
       " [1] R² is computed without centering (uncentered) since the model does not contain a constant. \\newline\n",
       " [2] Standard Errors assume that the covariance matrix of the errors is correctly specified."
      ],
      "text/plain": [
       "<class 'statsmodels.iolib.summary.Summary'>\n",
       "\"\"\"\n",
       "                                 OLS Regression Results                                \n",
       "=======================================================================================\n",
       "Dep. Variable:                      y   R-squared (uncentered):                   0.912\n",
       "Model:                            OLS   Adj. R-squared (uncentered):              0.912\n",
       "Method:                 Least Squares   F-statistic:                              5202.\n",
       "Date:                Fri, 22 Dec 2023   Prob (F-statistic):                        0.00\n",
       "Time:                        16:31:54   Log-Likelihood:                         -1412.0\n",
       "No. Observations:                1000   AIC:                                      2828.\n",
       "Df Residuals:                     998   BIC:                                      2838.\n",
       "Df Model:                           2                                                  \n",
       "Covariance Type:            nonrobust                                                  \n",
       "==============================================================================\n",
       "                 coef    std err          t      P>|t|      [0.025      0.975]\n",
       "------------------------------------------------------------------------------\n",
       "x1             0.6891      0.031     22.523      0.000       0.629       0.749\n",
       "x2             4.9468      0.053     92.589      0.000       4.842       5.052\n",
       "==============================================================================\n",
       "Omnibus:                        0.035   Durbin-Watson:                   1.969\n",
       "Prob(Omnibus):                  0.983   Jarque-Bera (JB):                0.083\n",
       "Skew:                          -0.004   Prob(JB):                        0.959\n",
       "Kurtosis:                       2.956   Cond. No.                         1.82\n",
       "==============================================================================\n",
       "\n",
       "Notes:\n",
       "[1] R² is computed without centering (uncentered) since the model does not contain a constant.\n",
       "[2] Standard Errors assume that the covariance matrix of the errors is correctly specified.\n",
       "\"\"\""
      ]
     },
     "execution_count": 10,
     "metadata": {},
     "output_type": "execute_result"
    }
   ],
   "source": [
    "model = OLS(np.asarray(df[outcome]), np.asarray(df[[common_cause, treatment]], dtype=np.float64))\n",
    "result = model.fit()\n",
    "result.summary()"
   ]
  }
 ],
 "metadata": {
  "kernelspec": {
   "display_name": "Python 3 (ipykernel)",
   "language": "python",
   "name": "python3"
  },
  "language_info": {
   "codemirror_mode": {
    "name": "ipython",
    "version": 3
   },
   "file_extension": ".py",
   "mimetype": "text/x-python",
   "name": "python",
   "nbconvert_exporter": "python",
   "pygments_lexer": "ipython3",
   "version": "3.8.10"
  },
  "toc": {
   "base_numbering": 1,
   "nav_menu": {},
   "number_sections": false,
   "sideBar": true,
   "skip_h1_title": true,
   "title_cell": "Table of Contents",
   "title_sidebar": "Contents",
   "toc_cell": false,
   "toc_position": {},
   "toc_section_display": true,
   "toc_window_display": false
  }
 },
 "nbformat": 4,
 "nbformat_minor": 4
}
