{
 "cells": [
  {
   "cell_type": "markdown",
   "metadata": {},
   "source": [
    "# Demo for the DoWhy causal API\n",
    "We show a simple example of adding a causal extension to any dataframe. "
   ]
  },
  {
   "cell_type": "code",
   "execution_count": 1,
   "metadata": {
    "execution": {
     "iopub.execute_input": "2024-01-17T16:20:51.991355Z",
     "iopub.status.busy": "2024-01-17T16:20:51.991172Z",
     "iopub.status.idle": "2024-01-17T16:20:53.379632Z",
     "shell.execute_reply": "2024-01-17T16:20:53.379018Z"
    }
   },
   "outputs": [],
   "source": [
    "import dowhy.datasets\n",
    "import dowhy.api\n",
    "from dowhy.graph import build_graph_from_str\n",
    "\n",
    "import numpy as np\n",
    "import pandas as pd\n",
    "\n",
    "from statsmodels.api import OLS"
   ]
  },
  {
   "cell_type": "code",
   "execution_count": 2,
   "metadata": {
    "execution": {
     "iopub.execute_input": "2024-01-17T16:20:53.382528Z",
     "iopub.status.busy": "2024-01-17T16:20:53.382221Z",
     "iopub.status.idle": "2024-01-17T16:20:53.421744Z",
     "shell.execute_reply": "2024-01-17T16:20:53.421118Z"
    }
   },
   "outputs": [
    {
     "data": {
      "text/html": [
       "<div>\n",
       "<style scoped>\n",
       "    .dataframe tbody tr th:only-of-type {\n",
       "        vertical-align: middle;\n",
       "    }\n",
       "\n",
       "    .dataframe tbody tr th {\n",
       "        vertical-align: top;\n",
       "    }\n",
       "\n",
       "    .dataframe thead th {\n",
       "        text-align: right;\n",
       "    }\n",
       "</style>\n",
       "<table border=\"1\" class=\"dataframe\">\n",
       "  <thead>\n",
       "    <tr style=\"text-align: right;\">\n",
       "      <th></th>\n",
       "      <th>W0</th>\n",
       "      <th>v0</th>\n",
       "      <th>y</th>\n",
       "    </tr>\n",
       "  </thead>\n",
       "  <tbody>\n",
       "    <tr>\n",
       "      <th>0</th>\n",
       "      <td>-0.592012</td>\n",
       "      <td>True</td>\n",
       "      <td>3.894581</td>\n",
       "    </tr>\n",
       "    <tr>\n",
       "      <th>1</th>\n",
       "      <td>-1.479960</td>\n",
       "      <td>False</td>\n",
       "      <td>-2.863655</td>\n",
       "    </tr>\n",
       "    <tr>\n",
       "      <th>2</th>\n",
       "      <td>-0.251235</td>\n",
       "      <td>True</td>\n",
       "      <td>2.245327</td>\n",
       "    </tr>\n",
       "    <tr>\n",
       "      <th>3</th>\n",
       "      <td>-1.041088</td>\n",
       "      <td>False</td>\n",
       "      <td>-0.999206</td>\n",
       "    </tr>\n",
       "    <tr>\n",
       "      <th>4</th>\n",
       "      <td>-1.750545</td>\n",
       "      <td>False</td>\n",
       "      <td>-2.747202</td>\n",
       "    </tr>\n",
       "    <tr>\n",
       "      <th>...</th>\n",
       "      <td>...</td>\n",
       "      <td>...</td>\n",
       "      <td>...</td>\n",
       "    </tr>\n",
       "    <tr>\n",
       "      <th>995</th>\n",
       "      <td>-1.787089</td>\n",
       "      <td>False</td>\n",
       "      <td>-2.068983</td>\n",
       "    </tr>\n",
       "    <tr>\n",
       "      <th>996</th>\n",
       "      <td>0.161276</td>\n",
       "      <td>False</td>\n",
       "      <td>1.757213</td>\n",
       "    </tr>\n",
       "    <tr>\n",
       "      <th>997</th>\n",
       "      <td>-0.697401</td>\n",
       "      <td>True</td>\n",
       "      <td>3.112675</td>\n",
       "    </tr>\n",
       "    <tr>\n",
       "      <th>998</th>\n",
       "      <td>-1.573482</td>\n",
       "      <td>False</td>\n",
       "      <td>-1.577905</td>\n",
       "    </tr>\n",
       "    <tr>\n",
       "      <th>999</th>\n",
       "      <td>0.004440</td>\n",
       "      <td>False</td>\n",
       "      <td>0.488985</td>\n",
       "    </tr>\n",
       "  </tbody>\n",
       "</table>\n",
       "<p>1000 rows × 3 columns</p>\n",
       "</div>"
      ],
      "text/plain": [
       "           W0     v0         y\n",
       "0   -0.592012   True  3.894581\n",
       "1   -1.479960  False -2.863655\n",
       "2   -0.251235   True  2.245327\n",
       "3   -1.041088  False -0.999206\n",
       "4   -1.750545  False -2.747202\n",
       "..        ...    ...       ...\n",
       "995 -1.787089  False -2.068983\n",
       "996  0.161276  False  1.757213\n",
       "997 -0.697401   True  3.112675\n",
       "998 -1.573482  False -1.577905\n",
       "999  0.004440  False  0.488985\n",
       "\n",
       "[1000 rows x 3 columns]"
      ]
     },
     "execution_count": 2,
     "metadata": {},
     "output_type": "execute_result"
    }
   ],
   "source": [
    "data = dowhy.datasets.linear_dataset(beta=5,\n",
    "        num_common_causes=1,\n",
    "        num_instruments = 0,\n",
    "        num_samples=1000,\n",
    "        treatment_is_binary=True)\n",
    "df = data['df']\n",
    "df['y'] = df['y'] + np.random.normal(size=len(df)) # Adding noise to data. Without noise, the variance in Y|X, Z is zero, and mcmc fails.\n",
    "nx_graph = build_graph_from_str(data[\"dot_graph\"])\n",
    "\n",
    "treatment= data[\"treatment_name\"][0]\n",
    "outcome = data[\"outcome_name\"][0]\n",
    "common_cause = data[\"common_causes_names\"][0]\n",
    "df"
   ]
  },
  {
   "cell_type": "code",
   "execution_count": 3,
   "metadata": {
    "execution": {
     "iopub.execute_input": "2024-01-17T16:20:53.424205Z",
     "iopub.status.busy": "2024-01-17T16:20:53.423810Z",
     "iopub.status.idle": "2024-01-17T16:20:53.607229Z",
     "shell.execute_reply": "2024-01-17T16:20:53.606656Z"
    },
    "scrolled": true
   },
   "outputs": [
    {
     "data": {
      "text/plain": [
       "<Axes: xlabel='v0'>"
      ]
     },
     "execution_count": 3,
     "metadata": {},
     "output_type": "execute_result"
    },
    {
     "data": {
      "image/png": "[encoded data removed]",
      "text/plain": [
       "<Figure size 640x480 with 1 Axes>"
      ]
     },
     "metadata": {},
     "output_type": "display_data"
    }
   ],
   "source": [
    "# data['df'] is just a regular pandas.DataFrame\n",
    "df.causal.do(x=treatment,\n",
    "             variable_types={treatment: 'b', outcome: 'c', common_cause: 'c'},\n",
    "             outcome=outcome,\n",
    "             common_causes=[common_cause],\n",
    "            ).groupby(treatment).mean().plot(y=outcome, kind='bar')"
   ]
  },
  {
   "cell_type": "code",
   "execution_count": 4,
   "metadata": {
    "execution": {
     "iopub.execute_input": "2024-01-17T16:20:53.609628Z",
     "iopub.status.busy": "2024-01-17T16:20:53.609253Z",
     "iopub.status.idle": "2024-01-17T16:20:53.738515Z",
     "shell.execute_reply": "2024-01-17T16:20:53.737917Z"
    }
   },
   "outputs": [
    {
     "data": {
      "text/plain": [
       "<Axes: xlabel='v0'>"
      ]
     },
     "execution_count": 4,
     "metadata": {},
     "output_type": "execute_result"
    },
    {
     "data": {
      "image/png": "[encoded data removed]",
      "text/plain": [
       "<Figure size 640x480 with 1 Axes>"
      ]
     },
     "metadata": {},
     "output_type": "display_data"
    }
   ],
   "source": [
    "df.causal.do(x={treatment: 1}, \n",
    "              variable_types={treatment:'b', outcome: 'c', common_cause: 'c'}, \n",
    "              outcome=outcome,\n",
    "              method='weighting', \n",
    "              common_causes=[common_cause]\n",
    "              ).groupby(treatment).mean().plot(y=outcome, kind='bar')"
   ]
  },
  {
   "cell_type": "code",
   "execution_count": 5,
   "metadata": {
    "execution": {
     "iopub.execute_input": "2024-01-17T16:20:53.741699Z",
     "iopub.status.busy": "2024-01-17T16:20:53.741485Z",
     "iopub.status.idle": "2024-01-17T16:20:53.761987Z",
     "shell.execute_reply": "2024-01-17T16:20:53.761507Z"
    }
   },
   "outputs": [],
   "source": [
    "cdf_1 = df.causal.do(x={treatment: 1}, \n",
    "              variable_types={treatment: 'b', outcome: 'c', common_cause: 'c'}, \n",
    "              outcome=outcome, \n",
    "              graph=nx_graph\n",
    "              )\n",
    "\n",
    "cdf_0 = df.causal.do(x={treatment: 0}, \n",
    "              variable_types={treatment: 'b', outcome: 'c', common_cause: 'c'}, \n",
    "              outcome=outcome, \n",
    "              graph=nx_graph\n",
    "              )\n"
   ]
  },
  {
   "cell_type": "code",
   "execution_count": 6,
   "metadata": {
    "execution": {
     "iopub.execute_input": "2024-01-17T16:20:53.764266Z",
     "iopub.status.busy": "2024-01-17T16:20:53.763903Z",
     "iopub.status.idle": "2024-01-17T16:20:53.772741Z",
     "shell.execute_reply": "2024-01-17T16:20:53.772239Z"
    },
    "scrolled": true
   },
   "outputs": [
    {
     "data": {
      "text/html": [
       "<div>\n",
       "<style scoped>\n",
       "    .dataframe tbody tr th:only-of-type {\n",
       "        vertical-align: middle;\n",
       "    }\n",
       "\n",
       "    .dataframe tbody tr th {\n",
       "        vertical-align: top;\n",
       "    }\n",
       "\n",
       "    .dataframe thead th {\n",
       "        text-align: right;\n",
       "    }\n",
       "</style>\n",
       "<table border=\"1\" class=\"dataframe\">\n",
       "  <thead>\n",
       "    <tr style=\"text-align: right;\">\n",
       "      <th></th>\n",
       "      <th>W0</th>\n",
       "      <th>v0</th>\n",
       "      <th>y</th>\n",
       "      <th>propensity_score</th>\n",
       "      <th>weight</th>\n",
       "    </tr>\n",
       "  </thead>\n",
       "  <tbody>\n",
       "    <tr>\n",
       "      <th>0</th>\n",
       "      <td>-0.455173</td>\n",
       "      <td>False</td>\n",
       "      <td>-1.248640</td>\n",
       "      <td>0.716610</td>\n",
       "      <td>1.395460</td>\n",
       "    </tr>\n",
       "    <tr>\n",
       "      <th>1</th>\n",
       "      <td>-0.637371</td>\n",
       "      <td>False</td>\n",
       "      <td>-0.585777</td>\n",
       "      <td>0.772349</td>\n",
       "      <td>1.294751</td>\n",
       "    </tr>\n",
       "    <tr>\n",
       "      <th>2</th>\n",
       "      <td>-0.316185</td>\n",
       "      <td>False</td>\n",
       "      <td>0.248028</td>\n",
       "      <td>0.668963</td>\n",
       "      <td>1.494852</td>\n",
       "    </tr>\n",
       "    <tr>\n",
       "      <th>3</th>\n",
       "      <td>-1.451661</td>\n",
       "      <td>False</td>\n",
       "      <td>-3.019569</td>\n",
       "      <td>0.926574</td>\n",
       "      <td>1.079245</td>\n",
       "    </tr>\n",
       "    <tr>\n",
       "      <th>4</th>\n",
       "      <td>-3.205686</td>\n",
       "      <td>False</td>\n",
       "      <td>-2.904923</td>\n",
       "      <td>0.995343</td>\n",
       "      <td>1.004679</td>\n",
       "    </tr>\n",
       "    <tr>\n",
       "      <th>...</th>\n",
       "      <td>...</td>\n",
       "      <td>...</td>\n",
       "      <td>...</td>\n",
       "      <td>...</td>\n",
       "      <td>...</td>\n",
       "    </tr>\n",
       "    <tr>\n",
       "      <th>995</th>\n",
       "      <td>1.034696</td>\n",
       "      <td>False</td>\n",
       "      <td>1.682300</td>\n",
       "      <td>0.186077</td>\n",
       "      <td>5.374109</td>\n",
       "    </tr>\n",
       "    <tr>\n",
       "      <th>996</th>\n",
       "      <td>-0.804878</td>\n",
       "      <td>False</td>\n",
       "      <td>-1.357767</td>\n",
       "      <td>0.816354</td>\n",
       "      <td>1.224958</td>\n",
       "    </tr>\n",
       "    <tr>\n",
       "      <th>997</th>\n",
       "      <td>-0.220636</td>\n",
       "      <td>False</td>\n",
       "      <td>-0.344087</td>\n",
       "      <td>0.633987</td>\n",
       "      <td>1.577319</td>\n",
       "    </tr>\n",
       "    <tr>\n",
       "      <th>998</th>\n",
       "      <td>-1.398871</td>\n",
       "      <td>False</td>\n",
       "      <td>-0.893248</td>\n",
       "      <td>0.920565</td>\n",
       "      <td>1.086289</td>\n",
       "    </tr>\n",
       "    <tr>\n",
       "      <th>999</th>\n",
       "      <td>-1.425662</td>\n",
       "      <td>False</td>\n",
       "      <td>-2.599250</td>\n",
       "      <td>0.923669</td>\n",
       "      <td>1.082639</td>\n",
       "    </tr>\n",
       "  </tbody>\n",
       "</table>\n",
       "<p>1000 rows × 5 columns</p>\n",
       "</div>"
      ],
      "text/plain": [
       "           W0     v0         y  propensity_score    weight\n",
       "0   -0.455173  False -1.248640          0.716610  1.395460\n",
       "1   -0.637371  False -0.585777          0.772349  1.294751\n",
       "2   -0.316185  False  0.248028          0.668963  1.494852\n",
       "3   -1.451661  False -3.019569          0.926574  1.079245\n",
       "4   -3.205686  False -2.904923          0.995343  1.004679\n",
       "..        ...    ...       ...               ...       ...\n",
       "995  1.034696  False  1.682300          0.186077  5.374109\n",
       "996 -0.804878  False -1.357767          0.816354  1.224958\n",
       "997 -0.220636  False -0.344087          0.633987  1.577319\n",
       "998 -1.398871  False -0.893248          0.920565  1.086289\n",
       "999 -1.425662  False -2.599250          0.923669  1.082639\n",
       "\n",
       "[1000 rows x 5 columns]"
      ]
     },
     "execution_count": 6,
     "metadata": {},
     "output_type": "execute_result"
    }
   ],
   "source": [
    "cdf_0"
   ]
  },
  {
   "cell_type": "code",
   "execution_count": 7,
   "metadata": {
    "execution": {
     "iopub.execute_input": "2024-01-17T16:20:53.774887Z",
     "iopub.status.busy": "2024-01-17T16:20:53.774506Z",
     "iopub.status.idle": "2024-01-17T16:20:53.782959Z",
     "shell.execute_reply": "2024-01-17T16:20:53.782447Z"
    }
   },
   "outputs": [
    {
     "data": {
      "text/html": [
       "<div>\n",
       "<style scoped>\n",
       "    .dataframe tbody tr th:only-of-type {\n",
       "        vertical-align: middle;\n",
       "    }\n",
       "\n",
       "    .dataframe tbody tr th {\n",
       "        vertical-align: top;\n",
       "    }\n",
       "\n",
       "    .dataframe thead th {\n",
       "        text-align: right;\n",
       "    }\n",
       "</style>\n",
       "<table border=\"1\" class=\"dataframe\">\n",
       "  <thead>\n",
       "    <tr style=\"text-align: right;\">\n",
       "      <th></th>\n",
       "      <th>W0</th>\n",
       "      <th>v0</th>\n",
       "      <th>y</th>\n",
       "      <th>propensity_score</th>\n",
       "      <th>weight</th>\n",
       "    </tr>\n",
       "  </thead>\n",
       "  <tbody>\n",
       "    <tr>\n",
       "      <th>0</th>\n",
       "      <td>-1.433009</td>\n",
       "      <td>True</td>\n",
       "      <td>3.411193</td>\n",
       "      <td>0.075500</td>\n",
       "      <td>13.245054</td>\n",
       "    </tr>\n",
       "    <tr>\n",
       "      <th>1</th>\n",
       "      <td>-0.804649</td>\n",
       "      <td>True</td>\n",
       "      <td>5.358388</td>\n",
       "      <td>0.183701</td>\n",
       "      <td>5.443631</td>\n",
       "    </tr>\n",
       "    <tr>\n",
       "      <th>2</th>\n",
       "      <td>-0.817897</td>\n",
       "      <td>True</td>\n",
       "      <td>3.842068</td>\n",
       "      <td>0.180518</td>\n",
       "      <td>5.539617</td>\n",
       "    </tr>\n",
       "    <tr>\n",
       "      <th>3</th>\n",
       "      <td>-2.418384</td>\n",
       "      <td>True</td>\n",
       "      <td>2.988295</td>\n",
       "      <td>0.016388</td>\n",
       "      <td>61.021287</td>\n",
       "    </tr>\n",
       "    <tr>\n",
       "      <th>4</th>\n",
       "      <td>-0.997177</td>\n",
       "      <td>True</td>\n",
       "      <td>4.811284</td>\n",
       "      <td>0.141601</td>\n",
       "      <td>7.062074</td>\n",
       "    </tr>\n",
       "    <tr>\n",
       "      <th>...</th>\n",
       "      <td>...</td>\n",
       "      <td>...</td>\n",
       "      <td>...</td>\n",
       "      <td>...</td>\n",
       "      <td>...</td>\n",
       "    </tr>\n",
       "    <tr>\n",
       "      <th>995</th>\n",
       "      <td>-1.914544</td>\n",
       "      <td>True</td>\n",
       "      <td>3.291791</td>\n",
       "      <td>0.036197</td>\n",
       "      <td>27.626861</td>\n",
       "    </tr>\n",
       "    <tr>\n",
       "      <th>996</th>\n",
       "      <td>-0.804649</td>\n",
       "      <td>True</td>\n",
       "      <td>5.358388</td>\n",
       "      <td>0.183701</td>\n",
       "      <td>5.443631</td>\n",
       "    </tr>\n",
       "    <tr>\n",
       "      <th>997</th>\n",
       "      <td>-0.726244</td>\n",
       "      <td>True</td>\n",
       "      <td>4.635449</td>\n",
       "      <td>0.203430</td>\n",
       "      <td>4.915690</td>\n",
       "    </tr>\n",
       "    <tr>\n",
       "      <th>998</th>\n",
       "      <td>-0.132695</td>\n",
       "      <td>True</td>\n",
       "      <td>4.812335</td>\n",
       "      <td>0.399513</td>\n",
       "      <td>2.503049</td>\n",
       "    </tr>\n",
       "    <tr>\n",
       "      <th>999</th>\n",
       "      <td>0.472263</td>\n",
       "      <td>True</td>\n",
       "      <td>6.254370</td>\n",
       "      <td>0.638395</td>\n",
       "      <td>1.566429</td>\n",
       "    </tr>\n",
       "  </tbody>\n",
       "</table>\n",
       "<p>1000 rows × 5 columns</p>\n",
       "</div>"
      ],
      "text/plain": [
       "           W0    v0         y  propensity_score     weight\n",
       "0   -1.433009  True  3.411193          0.075500  13.245054\n",
       "1   -0.804649  True  5.358388          0.183701   5.443631\n",
       "2   -0.817897  True  3.842068          0.180518   5.539617\n",
       "3   -2.418384  True  2.988295          0.016388  61.021287\n",
       "4   -0.997177  True  4.811284          0.141601   7.062074\n",
       "..        ...   ...       ...               ...        ...\n",
       "995 -1.914544  True  3.291791          0.036197  27.626861\n",
       "996 -0.804649  True  5.358388          0.183701   5.443631\n",
       "997 -0.726244  True  4.635449          0.203430   4.915690\n",
       "998 -0.132695  True  4.812335          0.399513   2.503049\n",
       "999  0.472263  True  6.254370          0.638395   1.566429\n",
       "\n",
       "[1000 rows x 5 columns]"
      ]
     },
     "execution_count": 7,
     "metadata": {},
     "output_type": "execute_result"
    }
   ],
   "source": [
    "cdf_1"
   ]
  },
  {
   "cell_type": "markdown",
   "metadata": {},
   "source": [
    "## Comparing the estimate to Linear Regression\n",
    "First, estimating the effect using the causal data frame, and the 95% confidence interval."
   ]
  },
  {
   "cell_type": "code",
   "execution_count": 8,
   "metadata": {
    "execution": {
     "iopub.execute_input": "2024-01-17T16:20:53.785309Z",
     "iopub.status.busy": "2024-01-17T16:20:53.784955Z",
     "iopub.status.idle": "2024-01-17T16:20:53.830566Z",
     "shell.execute_reply": "2024-01-17T16:20:53.829952Z"
    }
   },
   "outputs": [
    {
     "data": {
      "image/png": "[encoded data removed]",
      "text/latex": [
       "$\\displaystyle 5.26921424737301$"
      ],
      "text/plain": [
       "5.2692142473730055"
      ]
     },
     "execution_count": 8,
     "metadata": {},
     "output_type": "execute_result"
    }
   ],
   "source": [
    "(cdf_1['y'] - cdf_0['y']).mean()"
   ]
  },
  {
   "cell_type": "code",
   "execution_count": 9,
   "metadata": {
    "execution": {
     "iopub.execute_input": "2024-01-17T16:20:53.832961Z",
     "iopub.status.busy": "2024-01-17T16:20:53.832601Z",
     "iopub.status.idle": "2024-01-17T16:20:53.847715Z",
     "shell.execute_reply": "2024-01-17T16:20:53.847235Z"
    }
   },
   "outputs": [
    {
     "data": {
      "image/png": "[encoded data removed]",
      "text/latex": [
       "$\\displaystyle 0.119615557545556$"
      ],
      "text/plain": [
       "0.1196155575455557"
      ]
     },
     "execution_count": 9,
     "metadata": {},
     "output_type": "execute_result"
    }
   ],
   "source": [
    "1.96*(cdf_1['y'] - cdf_0['y']).std() / np.sqrt(len(df))"
   ]
  },
  {
   "cell_type": "markdown",
   "metadata": {},
   "source": [
    "Comparing to the estimate from OLS."
   ]
  },
  {
   "cell_type": "code",
   "execution_count": 10,
   "metadata": {
    "execution": {
     "iopub.execute_input": "2024-01-17T16:20:53.849906Z",
     "iopub.status.busy": "2024-01-17T16:20:53.849558Z",
     "iopub.status.idle": "2024-01-17T16:20:53.865784Z",
     "shell.execute_reply": "2024-01-17T16:20:53.865291Z"
    }
   },
   "outputs": [
    {
     "data": {
      "text/html": [
       "<table class=\"simpletable\">\n",
       "<caption>OLS Regression Results</caption>\n",
       "<tr>\n",
       "  <th>Dep. Variable:</th>            <td>y</td>        <th>  R-squared (uncentered):</th>      <td>   0.907</td>\n",
       "</tr>\n",
       "<tr>\n",
       "  <th>Model:</th>                   <td>OLS</td>       <th>  Adj. R-squared (uncentered):</th> <td>   0.907</td>\n",
       "</tr>\n",
       "<tr>\n",
       "  <th>Method:</th>             <td>Least Squares</td>  <th>  F-statistic:       </th>          <td>   4858.</td>\n",
       "</tr>\n",
       "<tr>\n",
       "  <th>Date:</th>             <td>Wed, 17 Jan 2024</td> <th>  Prob (F-statistic):</th>           <td>  0.00</td> \n",
       "</tr>\n",
       "<tr>\n",
       "  <th>Time:</th>                 <td>16:20:53</td>     <th>  Log-Likelihood:    </th>          <td> -1388.1</td>\n",
       "</tr>\n",
       "<tr>\n",
       "  <th>No. Observations:</th>      <td>  1000</td>      <th>  AIC:               </th>          <td>   2780.</td>\n",
       "</tr>\n",
       "<tr>\n",
       "  <th>Df Residuals:</th>          <td>   998</td>      <th>  BIC:               </th>          <td>   2790.</td>\n",
       "</tr>\n",
       "<tr>\n",
       "  <th>Df Model:</th>              <td>     2</td>      <th>                     </th>              <td> </td>   \n",
       "</tr>\n",
       "<tr>\n",
       "  <th>Covariance Type:</th>      <td>nonrobust</td>    <th>                     </th>              <td> </td>   \n",
       "</tr>\n",
       "</table>\n",
       "<table class=\"simpletable\">\n",
       "<tr>\n",
       "   <td></td>     <th>coef</th>     <th>std err</th>      <th>t</th>      <th>P>|t|</th>  <th>[0.025</th>    <th>0.975]</th>  \n",
       "</tr>\n",
       "<tr>\n",
       "  <th>x1</th> <td>    1.0887</td> <td>    0.024</td> <td>   46.236</td> <td> 0.000</td> <td>    1.042</td> <td>    1.135</td>\n",
       "</tr>\n",
       "<tr>\n",
       "  <th>x2</th> <td>    5.0614</td> <td>    0.059</td> <td>   85.652</td> <td> 0.000</td> <td>    4.945</td> <td>    5.177</td>\n",
       "</tr>\n",
       "</table>\n",
       "<table class=\"simpletable\">\n",
       "<tr>\n",
       "  <th>Omnibus:</th>       <td> 0.313</td> <th>  Durbin-Watson:     </th> <td>   1.899</td>\n",
       "</tr>\n",
       "<tr>\n",
       "  <th>Prob(Omnibus):</th> <td> 0.855</td> <th>  Jarque-Bera (JB):  </th> <td>   0.401</td>\n",
       "</tr>\n",
       "<tr>\n",
       "  <th>Skew:</th>          <td> 0.015</td> <th>  Prob(JB):          </th> <td>   0.818</td>\n",
       "</tr>\n",
       "<tr>\n",
       "  <th>Kurtosis:</th>      <td> 2.906</td> <th>  Cond. No.          </th> <td>    2.51</td>\n",
       "</tr>\n",
       "</table><br/><br/>Notes:<br/>[1] R² is computed without centering (uncentered) since the model does not contain a constant.<br/>[2] Standard Errors assume that the covariance matrix of the errors is correctly specified."
      ],
      "text/latex": [
       "\\begin{center}\n",
       "\\begin{tabular}{lclc}\n",
       "\\toprule\n",
       "\\textbf{Dep. Variable:}    &        y         & \\textbf{  R-squared (uncentered):}      &     0.907   \\\\\n",
       "\\textbf{Model:}            &       OLS        & \\textbf{  Adj. R-squared (uncentered):} &     0.907   \\\\\n",
       "\\textbf{Method:}           &  Least Squares   & \\textbf{  F-statistic:       }          &     4858.   \\\\\n",
       "\\textbf{Date:}             & Wed, 17 Jan 2024 & \\textbf{  Prob (F-statistic):}          &     0.00    \\\\\n",
       "\\textbf{Time:}             &     16:20:53     & \\textbf{  Log-Likelihood:    }          &   -1388.1   \\\\\n",
       "\\textbf{No. Observations:} &        1000      & \\textbf{  AIC:               }          &     2780.   \\\\\n",
       "\\textbf{Df Residuals:}     &         998      & \\textbf{  BIC:               }          &     2790.   \\\\\n",
       "\\textbf{Df Model:}         &           2      & \\textbf{                     }          &             \\\\\n",
       "\\textbf{Covariance Type:}  &    nonrobust     & \\textbf{                     }          &             \\\\\n",
       "\\bottomrule\n",
       "\\end{tabular}\n",
       "\\begin{tabular}{lcccccc}\n",
       "            & \\textbf{coef} & \\textbf{std err} & \\textbf{t} & \\textbf{P$> |$t$|$} & \\textbf{[0.025} & \\textbf{0.975]}  \\\\\n",
       "\\midrule\n",
       "\\textbf{x1} &       1.0887  &        0.024     &    46.236  &         0.000        &        1.042    &        1.135     \\\\\n",
       "\\textbf{x2} &       5.0614  &        0.059     &    85.652  &         0.000        &        4.945    &        5.177     \\\\\n",
       "\\bottomrule\n",
       "\\end{tabular}\n",
       "\\begin{tabular}{lclc}\n",
       "\\textbf{Omnibus:}       &  0.313 & \\textbf{  Durbin-Watson:     } &    1.899  \\\\\n",
       "\\textbf{Prob(Omnibus):} &  0.855 & \\textbf{  Jarque-Bera (JB):  } &    0.401  \\\\\n",
       "\\textbf{Skew:}          &  0.015 & \\textbf{  Prob(JB):          } &    0.818  \\\\\n",
       "\\textbf{Kurtosis:}      &  2.906 & \\textbf{  Cond. No.          } &     2.51  \\\\\n",
       "\\bottomrule\n",
       "\\end{tabular}\n",
       "%\\caption{OLS Regression Results}\n",
       "\\end{center}\n",
       "\n",
       "Notes: \\newline\n",
       " [1] R² is computed without centering (uncentered) since the model does not contain a constant. \\newline\n",
       " [2] Standard Errors assume that the covariance matrix of the errors is correctly specified."
      ],
      "text/plain": [
       "<class 'statsmodels.iolib.summary.Summary'>\n",
       "\"\"\"\n",
       "                                 OLS Regression Results                                \n",
       "=======================================================================================\n",
       "Dep. Variable:                      y   R-squared (uncentered):                   0.907\n",
       "Model:                            OLS   Adj. R-squared (uncentered):              0.907\n",
       "Method:                 Least Squares   F-statistic:                              4858.\n",
       "Date:                Wed, 17 Jan 2024   Prob (F-statistic):                        0.00\n",
       "Time:                        16:20:53   Log-Likelihood:                         -1388.1\n",
       "No. Observations:                1000   AIC:                                      2780.\n",
       "Df Residuals:                     998   BIC:                                      2790.\n",
       "Df Model:                           2                                                  \n",
       "Covariance Type:            nonrobust                                                  \n",
       "==============================================================================\n",
       "                 coef    std err          t      P>|t|      [0.025      0.975]\n",
       "------------------------------------------------------------------------------\n",
       "x1             1.0887      0.024     46.236      0.000       1.042       1.135\n",
       "x2             5.0614      0.059     85.652      0.000       4.945       5.177\n",
       "==============================================================================\n",
       "Omnibus:                        0.313   Durbin-Watson:                   1.899\n",
       "Prob(Omnibus):                  0.855   Jarque-Bera (JB):                0.401\n",
       "Skew:                           0.015   Prob(JB):                        0.818\n",
       "Kurtosis:                       2.906   Cond. No.                         2.51\n",
       "==============================================================================\n",
       "\n",
       "Notes:\n",
       "[1] R² is computed without centering (uncentered) since the model does not contain a constant.\n",
       "[2] Standard Errors assume that the covariance matrix of the errors is correctly specified.\n",
       "\"\"\""
      ]
     },
     "execution_count": 10,
     "metadata": {},
     "output_type": "execute_result"
    }
   ],
   "source": [
    "model = OLS(np.asarray(df[outcome]), np.asarray(df[[common_cause, treatment]], dtype=np.float64))\n",
    "result = model.fit()\n",
    "result.summary()"
   ]
  }
 ],
 "metadata": {
  "kernelspec": {
   "display_name": "Python 3 (ipykernel)",
   "language": "python",
   "name": "python3"
  },
  "language_info": {
   "codemirror_mode": {
    "name": "ipython",
    "version": 3
   },
   "file_extension": ".py",
   "mimetype": "text/x-python",
   "name": "python",
   "nbconvert_exporter": "python",
   "pygments_lexer": "ipython3",
   "version": "3.8.10"
  },
  "toc": {
   "base_numbering": 1,
   "nav_menu": {},
   "number_sections": false,
   "sideBar": true,
   "skip_h1_title": true,
   "title_cell": "Table of Contents",
   "title_sidebar": "Contents",
   "toc_cell": false,
   "toc_position": {},
   "toc_section_display": true,
   "toc_window_display": false
  }
 },
 "nbformat": 4,
 "nbformat_minor": 4
}
