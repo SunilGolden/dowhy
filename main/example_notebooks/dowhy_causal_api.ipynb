{
 "cells": [
  {
   "cell_type": "markdown",
   "metadata": {},
   "source": [
    "# Demo for the DoWhy causal API\n",
    "We show a simple example of adding a causal extension to any dataframe. "
   ]
  },
  {
   "cell_type": "code",
   "execution_count": 1,
   "metadata": {
    "execution": {
     "iopub.execute_input": "2023-11-17T17:51:39.677480Z",
     "iopub.status.busy": "2023-11-17T17:51:39.677304Z",
     "iopub.status.idle": "2023-11-17T17:51:41.046816Z",
     "shell.execute_reply": "2023-11-17T17:51:41.046132Z"
    }
   },
   "outputs": [],
   "source": [
    "import dowhy.datasets\n",
    "import dowhy.api\n",
    "\n",
    "import numpy as np\n",
    "import pandas as pd\n",
    "\n",
    "from statsmodels.api import OLS"
   ]
  },
  {
   "cell_type": "code",
   "execution_count": 2,
   "metadata": {
    "execution": {
     "iopub.execute_input": "2023-11-17T17:51:41.049893Z",
     "iopub.status.busy": "2023-11-17T17:51:41.049449Z",
     "iopub.status.idle": "2023-11-17T17:51:41.084565Z",
     "shell.execute_reply": "2023-11-17T17:51:41.083946Z"
    }
   },
   "outputs": [
    {
     "data": {
      "text/html": [
       "<div>\n",
       "<style scoped>\n",
       "    .dataframe tbody tr th:only-of-type {\n",
       "        vertical-align: middle;\n",
       "    }\n",
       "\n",
       "    .dataframe tbody tr th {\n",
       "        vertical-align: top;\n",
       "    }\n",
       "\n",
       "    .dataframe thead th {\n",
       "        text-align: right;\n",
       "    }\n",
       "</style>\n",
       "<table border=\"1\" class=\"dataframe\">\n",
       "  <thead>\n",
       "    <tr style=\"text-align: right;\">\n",
       "      <th></th>\n",
       "      <th>W0</th>\n",
       "      <th>v0</th>\n",
       "      <th>y</th>\n",
       "    </tr>\n",
       "  </thead>\n",
       "  <tbody>\n",
       "    <tr>\n",
       "      <th>0</th>\n",
       "      <td>-0.112064</td>\n",
       "      <td>True</td>\n",
       "      <td>5.220841</td>\n",
       "    </tr>\n",
       "    <tr>\n",
       "      <th>1</th>\n",
       "      <td>1.949906</td>\n",
       "      <td>True</td>\n",
       "      <td>8.532389</td>\n",
       "    </tr>\n",
       "    <tr>\n",
       "      <th>2</th>\n",
       "      <td>2.502305</td>\n",
       "      <td>True</td>\n",
       "      <td>10.021414</td>\n",
       "    </tr>\n",
       "    <tr>\n",
       "      <th>3</th>\n",
       "      <td>-1.307156</td>\n",
       "      <td>False</td>\n",
       "      <td>-1.401723</td>\n",
       "    </tr>\n",
       "    <tr>\n",
       "      <th>4</th>\n",
       "      <td>-0.099585</td>\n",
       "      <td>False</td>\n",
       "      <td>0.346729</td>\n",
       "    </tr>\n",
       "    <tr>\n",
       "      <th>...</th>\n",
       "      <td>...</td>\n",
       "      <td>...</td>\n",
       "      <td>...</td>\n",
       "    </tr>\n",
       "    <tr>\n",
       "      <th>995</th>\n",
       "      <td>0.005676</td>\n",
       "      <td>False</td>\n",
       "      <td>-0.671941</td>\n",
       "    </tr>\n",
       "    <tr>\n",
       "      <th>996</th>\n",
       "      <td>1.130487</td>\n",
       "      <td>False</td>\n",
       "      <td>2.285188</td>\n",
       "    </tr>\n",
       "    <tr>\n",
       "      <th>997</th>\n",
       "      <td>1.311628</td>\n",
       "      <td>True</td>\n",
       "      <td>9.229311</td>\n",
       "    </tr>\n",
       "    <tr>\n",
       "      <th>998</th>\n",
       "      <td>0.548912</td>\n",
       "      <td>False</td>\n",
       "      <td>0.702911</td>\n",
       "    </tr>\n",
       "    <tr>\n",
       "      <th>999</th>\n",
       "      <td>-0.420998</td>\n",
       "      <td>False</td>\n",
       "      <td>0.163672</td>\n",
       "    </tr>\n",
       "  </tbody>\n",
       "</table>\n",
       "<p>1000 rows × 3 columns</p>\n",
       "</div>"
      ],
      "text/plain": [
       "           W0     v0          y\n",
       "0   -0.112064   True   5.220841\n",
       "1    1.949906   True   8.532389\n",
       "2    2.502305   True  10.021414\n",
       "3   -1.307156  False  -1.401723\n",
       "4   -0.099585  False   0.346729\n",
       "..        ...    ...        ...\n",
       "995  0.005676  False  -0.671941\n",
       "996  1.130487  False   2.285188\n",
       "997  1.311628   True   9.229311\n",
       "998  0.548912  False   0.702911\n",
       "999 -0.420998  False   0.163672\n",
       "\n",
       "[1000 rows x 3 columns]"
      ]
     },
     "execution_count": 2,
     "metadata": {},
     "output_type": "execute_result"
    }
   ],
   "source": [
    "data = dowhy.datasets.linear_dataset(beta=5,\n",
    "        num_common_causes=1,\n",
    "        num_instruments = 0,\n",
    "        num_samples=1000,\n",
    "        treatment_is_binary=True)\n",
    "df = data['df']\n",
    "df['y'] = df['y'] + np.random.normal(size=len(df)) # Adding noise to data. Without noise, the variance in Y|X, Z is zero, and mcmc fails.\n",
    "#data['dot_graph'] = 'digraph { v ->y;X0-> v;X0-> y;}'\n",
    "\n",
    "treatment= data[\"treatment_name\"][0]\n",
    "outcome = data[\"outcome_name\"][0]\n",
    "common_cause = data[\"common_causes_names\"][0]\n",
    "df"
   ]
  },
  {
   "cell_type": "code",
   "execution_count": 3,
   "metadata": {
    "execution": {
     "iopub.execute_input": "2023-11-17T17:51:41.087095Z",
     "iopub.status.busy": "2023-11-17T17:51:41.086662Z",
     "iopub.status.idle": "2023-11-17T17:51:41.271686Z",
     "shell.execute_reply": "2023-11-17T17:51:41.271047Z"
    }
   },
   "outputs": [
    {
     "data": {
      "text/plain": [
       "<Axes: xlabel='v0'>"
      ]
     },
     "execution_count": 3,
     "metadata": {},
     "output_type": "execute_result"
    },
    {
     "data": {
      "image/png": "[encoded data removed]",
      "text/plain": [
       "<Figure size 640x480 with 1 Axes>"
      ]
     },
     "metadata": {},
     "output_type": "display_data"
    }
   ],
   "source": [
    "# data['df'] is just a regular pandas.DataFrame\n",
    "df.causal.do(x=treatment,\n",
    "                     variable_types={treatment: 'b', outcome: 'c', common_cause: 'c'},\n",
    "                     outcome=outcome,\n",
    "                     common_causes=[common_cause],\n",
    "                     proceed_when_unidentifiable=True).groupby(treatment).mean().plot(y=outcome, kind='bar')"
   ]
  },
  {
   "cell_type": "code",
   "execution_count": 4,
   "metadata": {
    "execution": {
     "iopub.execute_input": "2023-11-17T17:51:41.274146Z",
     "iopub.status.busy": "2023-11-17T17:51:41.273801Z",
     "iopub.status.idle": "2023-11-17T17:51:41.413230Z",
     "shell.execute_reply": "2023-11-17T17:51:41.412580Z"
    }
   },
   "outputs": [
    {
     "data": {
      "text/plain": [
       "<Axes: xlabel='v0'>"
      ]
     },
     "execution_count": 4,
     "metadata": {},
     "output_type": "execute_result"
    },
    {
     "data": {
      "image/png": "[encoded data removed]",
      "text/plain": [
       "<Figure size 640x480 with 1 Axes>"
      ]
     },
     "metadata": {},
     "output_type": "display_data"
    }
   ],
   "source": [
    "df.causal.do(x={treatment: 1}, \n",
    "              variable_types={treatment:'b', outcome: 'c', common_cause: 'c'}, \n",
    "              outcome=outcome,\n",
    "              method='weighting', \n",
    "              common_causes=[common_cause],\n",
    "              proceed_when_unidentifiable=True).groupby(treatment).mean().plot(y=outcome, kind='bar')"
   ]
  },
  {
   "cell_type": "code",
   "execution_count": 5,
   "metadata": {
    "execution": {
     "iopub.execute_input": "2023-11-17T17:51:41.415725Z",
     "iopub.status.busy": "2023-11-17T17:51:41.415386Z",
     "iopub.status.idle": "2023-11-17T17:51:41.440585Z",
     "shell.execute_reply": "2023-11-17T17:51:41.440073Z"
    }
   },
   "outputs": [],
   "source": [
    "cdf_1 = df.causal.do(x={treatment: 1}, \n",
    "              variable_types={treatment: 'b', outcome: 'c', common_cause: 'c'}, \n",
    "              outcome=outcome, \n",
    "              dot_graph=data['dot_graph'],\n",
    "              proceed_when_unidentifiable=True)\n",
    "\n",
    "cdf_0 = df.causal.do(x={treatment: 0}, \n",
    "              variable_types={treatment: 'b', outcome: 'c', common_cause: 'c'}, \n",
    "              outcome=outcome, \n",
    "              dot_graph=data['dot_graph'],\n",
    "              proceed_when_unidentifiable=True)\n"
   ]
  },
  {
   "cell_type": "code",
   "execution_count": 6,
   "metadata": {
    "execution": {
     "iopub.execute_input": "2023-11-17T17:51:41.443060Z",
     "iopub.status.busy": "2023-11-17T17:51:41.442659Z",
     "iopub.status.idle": "2023-11-17T17:51:41.451528Z",
     "shell.execute_reply": "2023-11-17T17:51:41.450949Z"
    },
    "scrolled": true
   },
   "outputs": [
    {
     "data": {
      "text/html": [
       "<div>\n",
       "<style scoped>\n",
       "    .dataframe tbody tr th:only-of-type {\n",
       "        vertical-align: middle;\n",
       "    }\n",
       "\n",
       "    .dataframe tbody tr th {\n",
       "        vertical-align: top;\n",
       "    }\n",
       "\n",
       "    .dataframe thead th {\n",
       "        text-align: right;\n",
       "    }\n",
       "</style>\n",
       "<table border=\"1\" class=\"dataframe\">\n",
       "  <thead>\n",
       "    <tr style=\"text-align: right;\">\n",
       "      <th></th>\n",
       "      <th>W0</th>\n",
       "      <th>v0</th>\n",
       "      <th>y</th>\n",
       "      <th>propensity_score</th>\n",
       "      <th>weight</th>\n",
       "    </tr>\n",
       "  </thead>\n",
       "  <tbody>\n",
       "    <tr>\n",
       "      <th>0</th>\n",
       "      <td>0.306975</td>\n",
       "      <td>False</td>\n",
       "      <td>-0.590687</td>\n",
       "      <td>0.353156</td>\n",
       "      <td>2.831608</td>\n",
       "    </tr>\n",
       "    <tr>\n",
       "      <th>1</th>\n",
       "      <td>0.504155</td>\n",
       "      <td>False</td>\n",
       "      <td>1.454017</td>\n",
       "      <td>0.287443</td>\n",
       "      <td>3.478951</td>\n",
       "    </tr>\n",
       "    <tr>\n",
       "      <th>2</th>\n",
       "      <td>-0.993235</td>\n",
       "      <td>False</td>\n",
       "      <td>-0.354176</td>\n",
       "      <td>0.800661</td>\n",
       "      <td>1.248968</td>\n",
       "    </tr>\n",
       "    <tr>\n",
       "      <th>3</th>\n",
       "      <td>1.447080</td>\n",
       "      <td>False</td>\n",
       "      <td>2.844579</td>\n",
       "      <td>0.086663</td>\n",
       "      <td>11.539016</td>\n",
       "    </tr>\n",
       "    <tr>\n",
       "      <th>4</th>\n",
       "      <td>-0.218217</td>\n",
       "      <td>False</td>\n",
       "      <td>-1.229685</td>\n",
       "      <td>0.550056</td>\n",
       "      <td>1.817997</td>\n",
       "    </tr>\n",
       "    <tr>\n",
       "      <th>...</th>\n",
       "      <td>...</td>\n",
       "      <td>...</td>\n",
       "      <td>...</td>\n",
       "      <td>...</td>\n",
       "      <td>...</td>\n",
       "    </tr>\n",
       "    <tr>\n",
       "      <th>995</th>\n",
       "      <td>1.807109</td>\n",
       "      <td>False</td>\n",
       "      <td>2.328812</td>\n",
       "      <td>0.051776</td>\n",
       "      <td>19.314144</td>\n",
       "    </tr>\n",
       "    <tr>\n",
       "      <th>996</th>\n",
       "      <td>-0.352251</td>\n",
       "      <td>False</td>\n",
       "      <td>-1.634337</td>\n",
       "      <td>0.600277</td>\n",
       "      <td>1.665898</td>\n",
       "    </tr>\n",
       "    <tr>\n",
       "      <th>997</th>\n",
       "      <td>0.258576</td>\n",
       "      <td>False</td>\n",
       "      <td>1.015085</td>\n",
       "      <td>0.370305</td>\n",
       "      <td>2.700477</td>\n",
       "    </tr>\n",
       "    <tr>\n",
       "      <th>998</th>\n",
       "      <td>1.830442</td>\n",
       "      <td>False</td>\n",
       "      <td>4.380673</td>\n",
       "      <td>0.050045</td>\n",
       "      <td>19.981925</td>\n",
       "    </tr>\n",
       "    <tr>\n",
       "      <th>999</th>\n",
       "      <td>2.142844</td>\n",
       "      <td>False</td>\n",
       "      <td>4.288789</td>\n",
       "      <td>0.031585</td>\n",
       "      <td>31.660572</td>\n",
       "    </tr>\n",
       "  </tbody>\n",
       "</table>\n",
       "<p>1000 rows × 5 columns</p>\n",
       "</div>"
      ],
      "text/plain": [
       "           W0     v0         y  propensity_score     weight\n",
       "0    0.306975  False -0.590687          0.353156   2.831608\n",
       "1    0.504155  False  1.454017          0.287443   3.478951\n",
       "2   -0.993235  False -0.354176          0.800661   1.248968\n",
       "3    1.447080  False  2.844579          0.086663  11.539016\n",
       "4   -0.218217  False -1.229685          0.550056   1.817997\n",
       "..        ...    ...       ...               ...        ...\n",
       "995  1.807109  False  2.328812          0.051776  19.314144\n",
       "996 -0.352251  False -1.634337          0.600277   1.665898\n",
       "997  0.258576  False  1.015085          0.370305   2.700477\n",
       "998  1.830442  False  4.380673          0.050045  19.981925\n",
       "999  2.142844  False  4.288789          0.031585  31.660572\n",
       "\n",
       "[1000 rows x 5 columns]"
      ]
     },
     "execution_count": 6,
     "metadata": {},
     "output_type": "execute_result"
    }
   ],
   "source": [
    "cdf_0"
   ]
  },
  {
   "cell_type": "code",
   "execution_count": 7,
   "metadata": {
    "execution": {
     "iopub.execute_input": "2023-11-17T17:51:41.453670Z",
     "iopub.status.busy": "2023-11-17T17:51:41.453389Z",
     "iopub.status.idle": "2023-11-17T17:51:41.462322Z",
     "shell.execute_reply": "2023-11-17T17:51:41.461819Z"
    }
   },
   "outputs": [
    {
     "data": {
      "text/html": [
       "<div>\n",
       "<style scoped>\n",
       "    .dataframe tbody tr th:only-of-type {\n",
       "        vertical-align: middle;\n",
       "    }\n",
       "\n",
       "    .dataframe tbody tr th {\n",
       "        vertical-align: top;\n",
       "    }\n",
       "\n",
       "    .dataframe thead th {\n",
       "        text-align: right;\n",
       "    }\n",
       "</style>\n",
       "<table border=\"1\" class=\"dataframe\">\n",
       "  <thead>\n",
       "    <tr style=\"text-align: right;\">\n",
       "      <th></th>\n",
       "      <th>W0</th>\n",
       "      <th>v0</th>\n",
       "      <th>y</th>\n",
       "      <th>propensity_score</th>\n",
       "      <th>weight</th>\n",
       "    </tr>\n",
       "  </thead>\n",
       "  <tbody>\n",
       "    <tr>\n",
       "      <th>0</th>\n",
       "      <td>1.228348</td>\n",
       "      <td>True</td>\n",
       "      <td>5.612718</td>\n",
       "      <td>0.882815</td>\n",
       "      <td>1.132740</td>\n",
       "    </tr>\n",
       "    <tr>\n",
       "      <th>1</th>\n",
       "      <td>0.018046</td>\n",
       "      <td>True</td>\n",
       "      <td>5.127563</td>\n",
       "      <td>0.540345</td>\n",
       "      <td>1.850669</td>\n",
       "    </tr>\n",
       "    <tr>\n",
       "      <th>2</th>\n",
       "      <td>-0.025965</td>\n",
       "      <td>True</td>\n",
       "      <td>3.676939</td>\n",
       "      <td>0.523528</td>\n",
       "      <td>1.910117</td>\n",
       "    </tr>\n",
       "    <tr>\n",
       "      <th>3</th>\n",
       "      <td>-0.382141</td>\n",
       "      <td>True</td>\n",
       "      <td>3.359665</td>\n",
       "      <td>0.388768</td>\n",
       "      <td>2.572231</td>\n",
       "    </tr>\n",
       "    <tr>\n",
       "      <th>4</th>\n",
       "      <td>2.343626</td>\n",
       "      <td>True</td>\n",
       "      <td>9.435862</td>\n",
       "      <td>0.976596</td>\n",
       "      <td>1.023965</td>\n",
       "    </tr>\n",
       "    <tr>\n",
       "      <th>...</th>\n",
       "      <td>...</td>\n",
       "      <td>...</td>\n",
       "      <td>...</td>\n",
       "      <td>...</td>\n",
       "      <td>...</td>\n",
       "    </tr>\n",
       "    <tr>\n",
       "      <th>995</th>\n",
       "      <td>1.138270</td>\n",
       "      <td>True</td>\n",
       "      <td>7.755902</td>\n",
       "      <td>0.867738</td>\n",
       "      <td>1.152421</td>\n",
       "    </tr>\n",
       "    <tr>\n",
       "      <th>996</th>\n",
       "      <td>0.483885</td>\n",
       "      <td>True</td>\n",
       "      <td>4.650067</td>\n",
       "      <td>0.706143</td>\n",
       "      <td>1.416144</td>\n",
       "    </tr>\n",
       "    <tr>\n",
       "      <th>997</th>\n",
       "      <td>0.825522</td>\n",
       "      <td>True</td>\n",
       "      <td>6.169357</td>\n",
       "      <td>0.802356</td>\n",
       "      <td>1.246329</td>\n",
       "    </tr>\n",
       "    <tr>\n",
       "      <th>998</th>\n",
       "      <td>0.504575</td>\n",
       "      <td>True</td>\n",
       "      <td>7.109065</td>\n",
       "      <td>0.712689</td>\n",
       "      <td>1.403136</td>\n",
       "    </tr>\n",
       "    <tr>\n",
       "      <th>999</th>\n",
       "      <td>0.504575</td>\n",
       "      <td>True</td>\n",
       "      <td>7.109065</td>\n",
       "      <td>0.712689</td>\n",
       "      <td>1.403136</td>\n",
       "    </tr>\n",
       "  </tbody>\n",
       "</table>\n",
       "<p>1000 rows × 5 columns</p>\n",
       "</div>"
      ],
      "text/plain": [
       "           W0    v0         y  propensity_score    weight\n",
       "0    1.228348  True  5.612718          0.882815  1.132740\n",
       "1    0.018046  True  5.127563          0.540345  1.850669\n",
       "2   -0.025965  True  3.676939          0.523528  1.910117\n",
       "3   -0.382141  True  3.359665          0.388768  2.572231\n",
       "4    2.343626  True  9.435862          0.976596  1.023965\n",
       "..        ...   ...       ...               ...       ...\n",
       "995  1.138270  True  7.755902          0.867738  1.152421\n",
       "996  0.483885  True  4.650067          0.706143  1.416144\n",
       "997  0.825522  True  6.169357          0.802356  1.246329\n",
       "998  0.504575  True  7.109065          0.712689  1.403136\n",
       "999  0.504575  True  7.109065          0.712689  1.403136\n",
       "\n",
       "[1000 rows x 5 columns]"
      ]
     },
     "execution_count": 7,
     "metadata": {},
     "output_type": "execute_result"
    }
   ],
   "source": [
    "cdf_1"
   ]
  },
  {
   "cell_type": "markdown",
   "metadata": {},
   "source": [
    "## Comparing the estimate to Linear Regression\n",
    "First, estimating the effect using the causal data frame, and the 95% confidence interval."
   ]
  },
  {
   "cell_type": "code",
   "execution_count": 8,
   "metadata": {
    "execution": {
     "iopub.execute_input": "2023-11-17T17:51:41.464522Z",
     "iopub.status.busy": "2023-11-17T17:51:41.464340Z",
     "iopub.status.idle": "2023-11-17T17:51:41.512366Z",
     "shell.execute_reply": "2023-11-17T17:51:41.511812Z"
    }
   },
   "outputs": [
    {
     "data": {
      "image/png": "[encoded data removed]",
      "text/latex": [
       "$\\displaystyle 4.86054380213392$"
      ],
      "text/plain": [
       "4.860543802133917"
      ]
     },
     "execution_count": 8,
     "metadata": {},
     "output_type": "execute_result"
    }
   ],
   "source": [
    "(cdf_1['y'] - cdf_0['y']).mean()"
   ]
  },
  {
   "cell_type": "code",
   "execution_count": 9,
   "metadata": {
    "execution": {
     "iopub.execute_input": "2023-11-17T17:51:41.514625Z",
     "iopub.status.busy": "2023-11-17T17:51:41.514426Z",
     "iopub.status.idle": "2023-11-17T17:51:41.532660Z",
     "shell.execute_reply": "2023-11-17T17:51:41.532011Z"
    }
   },
   "outputs": [
    {
     "data": {
      "image/png": "[encoded data removed]",
      "text/latex": [
       "$\\displaystyle 0.176548190214416$"
      ],
      "text/plain": [
       "0.17654819021441623"
      ]
     },
     "execution_count": 9,
     "metadata": {},
     "output_type": "execute_result"
    }
   ],
   "source": [
    "1.96*(cdf_1['y'] - cdf_0['y']).std() / np.sqrt(len(df))"
   ]
  },
  {
   "cell_type": "markdown",
   "metadata": {},
   "source": [
    "Comparing to the estimate from OLS."
   ]
  },
  {
   "cell_type": "code",
   "execution_count": 10,
   "metadata": {
    "execution": {
     "iopub.execute_input": "2023-11-17T17:51:41.535032Z",
     "iopub.status.busy": "2023-11-17T17:51:41.534661Z",
     "iopub.status.idle": "2023-11-17T17:51:41.551155Z",
     "shell.execute_reply": "2023-11-17T17:51:41.550518Z"
    }
   },
   "outputs": [
    {
     "data": {
      "text/html": [
       "<table class=\"simpletable\">\n",
       "<caption>OLS Regression Results</caption>\n",
       "<tr>\n",
       "  <th>Dep. Variable:</th>            <td>y</td>        <th>  R-squared (uncentered):</th>      <td>   0.971</td> \n",
       "</tr>\n",
       "<tr>\n",
       "  <th>Model:</th>                   <td>OLS</td>       <th>  Adj. R-squared (uncentered):</th> <td>   0.971</td> \n",
       "</tr>\n",
       "<tr>\n",
       "  <th>Method:</th>             <td>Least Squares</td>  <th>  F-statistic:       </th>          <td>1.652e+04</td>\n",
       "</tr>\n",
       "<tr>\n",
       "  <th>Date:</th>             <td>Fri, 17 Nov 2023</td> <th>  Prob (F-statistic):</th>           <td>  0.00</td>  \n",
       "</tr>\n",
       "<tr>\n",
       "  <th>Time:</th>                 <td>17:51:41</td>     <th>  Log-Likelihood:    </th>          <td> -1409.6</td> \n",
       "</tr>\n",
       "<tr>\n",
       "  <th>No. Observations:</th>      <td>  1000</td>      <th>  AIC:               </th>          <td>   2823.</td> \n",
       "</tr>\n",
       "<tr>\n",
       "  <th>Df Residuals:</th>          <td>   998</td>      <th>  BIC:               </th>          <td>   2833.</td> \n",
       "</tr>\n",
       "<tr>\n",
       "  <th>Df Model:</th>              <td>     2</td>      <th>                     </th>              <td> </td>    \n",
       "</tr>\n",
       "<tr>\n",
       "  <th>Covariance Type:</th>      <td>nonrobust</td>    <th>                     </th>              <td> </td>    \n",
       "</tr>\n",
       "</table>\n",
       "<table class=\"simpletable\">\n",
       "<tr>\n",
       "   <td></td>     <th>coef</th>     <th>std err</th>      <th>t</th>      <th>P>|t|</th>  <th>[0.025</th>    <th>0.975]</th>  \n",
       "</tr>\n",
       "<tr>\n",
       "  <th>x1</th> <td>    1.8181</td> <td>    0.037</td> <td>   48.756</td> <td> 0.000</td> <td>    1.745</td> <td>    1.891</td>\n",
       "</tr>\n",
       "<tr>\n",
       "  <th>x2</th> <td>    4.8792</td> <td>    0.052</td> <td>   93.330</td> <td> 0.000</td> <td>    4.777</td> <td>    4.982</td>\n",
       "</tr>\n",
       "</table>\n",
       "<table class=\"simpletable\">\n",
       "<tr>\n",
       "  <th>Omnibus:</th>       <td> 5.944</td> <th>  Durbin-Watson:     </th> <td>   1.833</td>\n",
       "</tr>\n",
       "<tr>\n",
       "  <th>Prob(Omnibus):</th> <td> 0.051</td> <th>  Jarque-Bera (JB):  </th> <td>   4.486</td>\n",
       "</tr>\n",
       "<tr>\n",
       "  <th>Skew:</th>          <td> 0.021</td> <th>  Prob(JB):          </th> <td>   0.106</td>\n",
       "</tr>\n",
       "<tr>\n",
       "  <th>Kurtosis:</th>      <td> 2.675</td> <th>  Cond. No.          </th> <td>    2.52</td>\n",
       "</tr>\n",
       "</table><br/><br/>Notes:<br/>[1] R² is computed without centering (uncentered) since the model does not contain a constant.<br/>[2] Standard Errors assume that the covariance matrix of the errors is correctly specified."
      ],
      "text/latex": [
       "\\begin{center}\n",
       "\\begin{tabular}{lclc}\n",
       "\\toprule\n",
       "\\textbf{Dep. Variable:}    &        y         & \\textbf{  R-squared (uncentered):}      &     0.971   \\\\\n",
       "\\textbf{Model:}            &       OLS        & \\textbf{  Adj. R-squared (uncentered):} &     0.971   \\\\\n",
       "\\textbf{Method:}           &  Least Squares   & \\textbf{  F-statistic:       }          & 1.652e+04   \\\\\n",
       "\\textbf{Date:}             & Fri, 17 Nov 2023 & \\textbf{  Prob (F-statistic):}          &     0.00    \\\\\n",
       "\\textbf{Time:}             &     17:51:41     & \\textbf{  Log-Likelihood:    }          &   -1409.6   \\\\\n",
       "\\textbf{No. Observations:} &        1000      & \\textbf{  AIC:               }          &     2823.   \\\\\n",
       "\\textbf{Df Residuals:}     &         998      & \\textbf{  BIC:               }          &     2833.   \\\\\n",
       "\\textbf{Df Model:}         &           2      & \\textbf{                     }          &             \\\\\n",
       "\\textbf{Covariance Type:}  &    nonrobust     & \\textbf{                     }          &             \\\\\n",
       "\\bottomrule\n",
       "\\end{tabular}\n",
       "\\begin{tabular}{lcccccc}\n",
       "            & \\textbf{coef} & \\textbf{std err} & \\textbf{t} & \\textbf{P$> |$t$|$} & \\textbf{[0.025} & \\textbf{0.975]}  \\\\\n",
       "\\midrule\n",
       "\\textbf{x1} &       1.8181  &        0.037     &    48.756  &         0.000        &        1.745    &        1.891     \\\\\n",
       "\\textbf{x2} &       4.8792  &        0.052     &    93.330  &         0.000        &        4.777    &        4.982     \\\\\n",
       "\\bottomrule\n",
       "\\end{tabular}\n",
       "\\begin{tabular}{lclc}\n",
       "\\textbf{Omnibus:}       &  5.944 & \\textbf{  Durbin-Watson:     } &    1.833  \\\\\n",
       "\\textbf{Prob(Omnibus):} &  0.051 & \\textbf{  Jarque-Bera (JB):  } &    4.486  \\\\\n",
       "\\textbf{Skew:}          &  0.021 & \\textbf{  Prob(JB):          } &    0.106  \\\\\n",
       "\\textbf{Kurtosis:}      &  2.675 & \\textbf{  Cond. No.          } &     2.52  \\\\\n",
       "\\bottomrule\n",
       "\\end{tabular}\n",
       "%\\caption{OLS Regression Results}\n",
       "\\end{center}\n",
       "\n",
       "Notes: \\newline\n",
       " [1] R² is computed without centering (uncentered) since the model does not contain a constant. \\newline\n",
       " [2] Standard Errors assume that the covariance matrix of the errors is correctly specified."
      ],
      "text/plain": [
       "<class 'statsmodels.iolib.summary.Summary'>\n",
       "\"\"\"\n",
       "                                 OLS Regression Results                                \n",
       "=======================================================================================\n",
       "Dep. Variable:                      y   R-squared (uncentered):                   0.971\n",
       "Model:                            OLS   Adj. R-squared (uncentered):              0.971\n",
       "Method:                 Least Squares   F-statistic:                          1.652e+04\n",
       "Date:                Fri, 17 Nov 2023   Prob (F-statistic):                        0.00\n",
       "Time:                        17:51:41   Log-Likelihood:                         -1409.6\n",
       "No. Observations:                1000   AIC:                                      2823.\n",
       "Df Residuals:                     998   BIC:                                      2833.\n",
       "Df Model:                           2                                                  \n",
       "Covariance Type:            nonrobust                                                  \n",
       "==============================================================================\n",
       "                 coef    std err          t      P>|t|      [0.025      0.975]\n",
       "------------------------------------------------------------------------------\n",
       "x1             1.8181      0.037     48.756      0.000       1.745       1.891\n",
       "x2             4.8792      0.052     93.330      0.000       4.777       4.982\n",
       "==============================================================================\n",
       "Omnibus:                        5.944   Durbin-Watson:                   1.833\n",
       "Prob(Omnibus):                  0.051   Jarque-Bera (JB):                4.486\n",
       "Skew:                           0.021   Prob(JB):                        0.106\n",
       "Kurtosis:                       2.675   Cond. No.                         2.52\n",
       "==============================================================================\n",
       "\n",
       "Notes:\n",
       "[1] R² is computed without centering (uncentered) since the model does not contain a constant.\n",
       "[2] Standard Errors assume that the covariance matrix of the errors is correctly specified.\n",
       "\"\"\""
      ]
     },
     "execution_count": 10,
     "metadata": {},
     "output_type": "execute_result"
    }
   ],
   "source": [
    "model = OLS(np.asarray(df[outcome]), np.asarray(df[[common_cause, treatment]], dtype=np.float64))\n",
    "result = model.fit()\n",
    "result.summary()"
   ]
  }
 ],
 "metadata": {
  "kernelspec": {
   "display_name": "Python 3",
   "language": "python",
   "name": "python3"
  },
  "language_info": {
   "codemirror_mode": {
    "name": "ipython",
    "version": 3
   },
   "file_extension": ".py",
   "mimetype": "text/x-python",
   "name": "python",
   "nbconvert_exporter": "python",
   "pygments_lexer": "ipython3",
   "version": "3.8.10"
  },
  "toc": {
   "base_numbering": 1,
   "nav_menu": {},
   "number_sections": false,
   "sideBar": true,
   "skip_h1_title": true,
   "title_cell": "Table of Contents",
   "title_sidebar": "Contents",
   "toc_cell": false,
   "toc_position": {},
   "toc_section_display": true,
   "toc_window_display": false
  }
 },
 "nbformat": 4,
 "nbformat_minor": 4
}
