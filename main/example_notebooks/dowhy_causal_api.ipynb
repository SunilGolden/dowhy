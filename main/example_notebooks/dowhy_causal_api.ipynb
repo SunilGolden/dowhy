{
 "cells": [
  {
   "cell_type": "markdown",
   "metadata": {},
   "source": [
    "# Demo for the DoWhy causal API\n",
    "We show a simple example of adding a causal extension to any dataframe. "
   ]
  },
  {
   "cell_type": "code",
   "execution_count": 1,
   "metadata": {
    "execution": {
     "iopub.execute_input": "2023-12-01T15:06:32.150708Z",
     "iopub.status.busy": "2023-12-01T15:06:32.150526Z",
     "iopub.status.idle": "2023-12-01T15:06:33.608019Z",
     "shell.execute_reply": "2023-12-01T15:06:33.607413Z"
    }
   },
   "outputs": [],
   "source": [
    "import dowhy.datasets\n",
    "import dowhy.api\n",
    "from dowhy.graph import build_graph_from_str\n",
    "\n",
    "import numpy as np\n",
    "import pandas as pd\n",
    "\n",
    "from statsmodels.api import OLS"
   ]
  },
  {
   "cell_type": "code",
   "execution_count": 2,
   "metadata": {
    "execution": {
     "iopub.execute_input": "2023-12-01T15:06:33.611244Z",
     "iopub.status.busy": "2023-12-01T15:06:33.610528Z",
     "iopub.status.idle": "2023-12-01T15:06:33.649122Z",
     "shell.execute_reply": "2023-12-01T15:06:33.648515Z"
    }
   },
   "outputs": [
    {
     "data": {
      "text/html": [
       "<div>\n",
       "<style scoped>\n",
       "    .dataframe tbody tr th:only-of-type {\n",
       "        vertical-align: middle;\n",
       "    }\n",
       "\n",
       "    .dataframe tbody tr th {\n",
       "        vertical-align: top;\n",
       "    }\n",
       "\n",
       "    .dataframe thead th {\n",
       "        text-align: right;\n",
       "    }\n",
       "</style>\n",
       "<table border=\"1\" class=\"dataframe\">\n",
       "  <thead>\n",
       "    <tr style=\"text-align: right;\">\n",
       "      <th></th>\n",
       "      <th>W0</th>\n",
       "      <th>v0</th>\n",
       "      <th>y</th>\n",
       "    </tr>\n",
       "  </thead>\n",
       "  <tbody>\n",
       "    <tr>\n",
       "      <th>0</th>\n",
       "      <td>2.240203</td>\n",
       "      <td>True</td>\n",
       "      <td>6.368019</td>\n",
       "    </tr>\n",
       "    <tr>\n",
       "      <th>1</th>\n",
       "      <td>-0.030287</td>\n",
       "      <td>True</td>\n",
       "      <td>3.732935</td>\n",
       "    </tr>\n",
       "    <tr>\n",
       "      <th>2</th>\n",
       "      <td>0.626349</td>\n",
       "      <td>True</td>\n",
       "      <td>3.984674</td>\n",
       "    </tr>\n",
       "    <tr>\n",
       "      <th>3</th>\n",
       "      <td>1.903016</td>\n",
       "      <td>True</td>\n",
       "      <td>9.741755</td>\n",
       "    </tr>\n",
       "    <tr>\n",
       "      <th>4</th>\n",
       "      <td>2.565331</td>\n",
       "      <td>True</td>\n",
       "      <td>8.733669</td>\n",
       "    </tr>\n",
       "    <tr>\n",
       "      <th>...</th>\n",
       "      <td>...</td>\n",
       "      <td>...</td>\n",
       "      <td>...</td>\n",
       "    </tr>\n",
       "    <tr>\n",
       "      <th>995</th>\n",
       "      <td>1.361044</td>\n",
       "      <td>True</td>\n",
       "      <td>7.347626</td>\n",
       "    </tr>\n",
       "    <tr>\n",
       "      <th>996</th>\n",
       "      <td>-1.038372</td>\n",
       "      <td>False</td>\n",
       "      <td>-1.917245</td>\n",
       "    </tr>\n",
       "    <tr>\n",
       "      <th>997</th>\n",
       "      <td>-0.494545</td>\n",
       "      <td>False</td>\n",
       "      <td>-0.696518</td>\n",
       "    </tr>\n",
       "    <tr>\n",
       "      <th>998</th>\n",
       "      <td>0.616165</td>\n",
       "      <td>False</td>\n",
       "      <td>-0.046264</td>\n",
       "    </tr>\n",
       "    <tr>\n",
       "      <th>999</th>\n",
       "      <td>2.098908</td>\n",
       "      <td>True</td>\n",
       "      <td>9.149229</td>\n",
       "    </tr>\n",
       "  </tbody>\n",
       "</table>\n",
       "<p>1000 rows × 3 columns</p>\n",
       "</div>"
      ],
      "text/plain": [
       "           W0     v0         y\n",
       "0    2.240203   True  6.368019\n",
       "1   -0.030287   True  3.732935\n",
       "2    0.626349   True  3.984674\n",
       "3    1.903016   True  9.741755\n",
       "4    2.565331   True  8.733669\n",
       "..        ...    ...       ...\n",
       "995  1.361044   True  7.347626\n",
       "996 -1.038372  False -1.917245\n",
       "997 -0.494545  False -0.696518\n",
       "998  0.616165  False -0.046264\n",
       "999  2.098908   True  9.149229\n",
       "\n",
       "[1000 rows x 3 columns]"
      ]
     },
     "execution_count": 2,
     "metadata": {},
     "output_type": "execute_result"
    }
   ],
   "source": [
    "data = dowhy.datasets.linear_dataset(beta=5,\n",
    "        num_common_causes=1,\n",
    "        num_instruments = 0,\n",
    "        num_samples=1000,\n",
    "        treatment_is_binary=True)\n",
    "df = data['df']\n",
    "df['y'] = df['y'] + np.random.normal(size=len(df)) # Adding noise to data. Without noise, the variance in Y|X, Z is zero, and mcmc fails.\n",
    "nx_graph = build_graph_from_str(data[\"dot_graph\"])\n",
    "\n",
    "treatment= data[\"treatment_name\"][0]\n",
    "outcome = data[\"outcome_name\"][0]\n",
    "common_cause = data[\"common_causes_names\"][0]\n",
    "df"
   ]
  },
  {
   "cell_type": "code",
   "execution_count": 3,
   "metadata": {
    "execution": {
     "iopub.execute_input": "2023-12-01T15:06:33.651522Z",
     "iopub.status.busy": "2023-12-01T15:06:33.651184Z",
     "iopub.status.idle": "2023-12-01T15:06:33.834948Z",
     "shell.execute_reply": "2023-12-01T15:06:33.834311Z"
    },
    "scrolled": true
   },
   "outputs": [
    {
     "data": {
      "text/plain": [
       "<Axes: xlabel='v0'>"
      ]
     },
     "execution_count": 3,
     "metadata": {},
     "output_type": "execute_result"
    },
    {
     "data": {
      "image/png": "[encoded data removed]",
      "text/plain": [
       "<Figure size 640x480 with 1 Axes>"
      ]
     },
     "metadata": {},
     "output_type": "display_data"
    }
   ],
   "source": [
    "# data['df'] is just a regular pandas.DataFrame\n",
    "df.causal.do(x=treatment,\n",
    "             variable_types={treatment: 'b', outcome: 'c', common_cause: 'c'},\n",
    "             outcome=outcome,\n",
    "             common_causes=[common_cause],\n",
    "            ).groupby(treatment).mean().plot(y=outcome, kind='bar')"
   ]
  },
  {
   "cell_type": "code",
   "execution_count": 4,
   "metadata": {
    "execution": {
     "iopub.execute_input": "2023-12-01T15:06:33.837257Z",
     "iopub.status.busy": "2023-12-01T15:06:33.837055Z",
     "iopub.status.idle": "2023-12-01T15:06:33.976942Z",
     "shell.execute_reply": "2023-12-01T15:06:33.976274Z"
    }
   },
   "outputs": [
    {
     "data": {
      "text/plain": [
       "<Axes: xlabel='v0'>"
      ]
     },
     "execution_count": 4,
     "metadata": {},
     "output_type": "execute_result"
    },
    {
     "data": {
      "image/png": "[encoded data removed]",
      "text/plain": [
       "<Figure size 640x480 with 1 Axes>"
      ]
     },
     "metadata": {},
     "output_type": "display_data"
    }
   ],
   "source": [
    "df.causal.do(x={treatment: 1}, \n",
    "              variable_types={treatment:'b', outcome: 'c', common_cause: 'c'}, \n",
    "              outcome=outcome,\n",
    "              method='weighting', \n",
    "              common_causes=[common_cause]\n",
    "              ).groupby(treatment).mean().plot(y=outcome, kind='bar')"
   ]
  },
  {
   "cell_type": "code",
   "execution_count": 5,
   "metadata": {
    "execution": {
     "iopub.execute_input": "2023-12-01T15:06:33.979451Z",
     "iopub.status.busy": "2023-12-01T15:06:33.979235Z",
     "iopub.status.idle": "2023-12-01T15:06:34.002291Z",
     "shell.execute_reply": "2023-12-01T15:06:34.001742Z"
    }
   },
   "outputs": [],
   "source": [
    "cdf_1 = df.causal.do(x={treatment: 1}, \n",
    "              variable_types={treatment: 'b', outcome: 'c', common_cause: 'c'}, \n",
    "              outcome=outcome, \n",
    "              graph=nx_graph\n",
    "              )\n",
    "\n",
    "cdf_0 = df.causal.do(x={treatment: 0}, \n",
    "              variable_types={treatment: 'b', outcome: 'c', common_cause: 'c'}, \n",
    "              outcome=outcome, \n",
    "              graph=nx_graph\n",
    "              )\n"
   ]
  },
  {
   "cell_type": "code",
   "execution_count": 6,
   "metadata": {
    "execution": {
     "iopub.execute_input": "2023-12-01T15:06:34.005205Z",
     "iopub.status.busy": "2023-12-01T15:06:34.004792Z",
     "iopub.status.idle": "2023-12-01T15:06:34.013980Z",
     "shell.execute_reply": "2023-12-01T15:06:34.013325Z"
    },
    "scrolled": true
   },
   "outputs": [
    {
     "data": {
      "text/html": [
       "<div>\n",
       "<style scoped>\n",
       "    .dataframe tbody tr th:only-of-type {\n",
       "        vertical-align: middle;\n",
       "    }\n",
       "\n",
       "    .dataframe tbody tr th {\n",
       "        vertical-align: top;\n",
       "    }\n",
       "\n",
       "    .dataframe thead th {\n",
       "        text-align: right;\n",
       "    }\n",
       "</style>\n",
       "<table border=\"1\" class=\"dataframe\">\n",
       "  <thead>\n",
       "    <tr style=\"text-align: right;\">\n",
       "      <th></th>\n",
       "      <th>W0</th>\n",
       "      <th>v0</th>\n",
       "      <th>y</th>\n",
       "      <th>propensity_score</th>\n",
       "      <th>weight</th>\n",
       "    </tr>\n",
       "  </thead>\n",
       "  <tbody>\n",
       "    <tr>\n",
       "      <th>0</th>\n",
       "      <td>0.175582</td>\n",
       "      <td>False</td>\n",
       "      <td>1.644802</td>\n",
       "      <td>0.477064</td>\n",
       "      <td>2.096156</td>\n",
       "    </tr>\n",
       "    <tr>\n",
       "      <th>1</th>\n",
       "      <td>2.379993</td>\n",
       "      <td>False</td>\n",
       "      <td>2.360069</td>\n",
       "      <td>0.055931</td>\n",
       "      <td>17.879047</td>\n",
       "    </tr>\n",
       "    <tr>\n",
       "      <th>2</th>\n",
       "      <td>0.416117</td>\n",
       "      <td>False</td>\n",
       "      <td>1.902827</td>\n",
       "      <td>0.403679</td>\n",
       "      <td>2.477216</td>\n",
       "    </tr>\n",
       "    <tr>\n",
       "      <th>3</th>\n",
       "      <td>1.147551</td>\n",
       "      <td>False</td>\n",
       "      <td>0.393226</td>\n",
       "      <td>0.214603</td>\n",
       "      <td>4.659770</td>\n",
       "    </tr>\n",
       "    <tr>\n",
       "      <th>4</th>\n",
       "      <td>0.906979</td>\n",
       "      <td>False</td>\n",
       "      <td>1.550044</td>\n",
       "      <td>0.269137</td>\n",
       "      <td>3.715577</td>\n",
       "    </tr>\n",
       "    <tr>\n",
       "      <th>...</th>\n",
       "      <td>...</td>\n",
       "      <td>...</td>\n",
       "      <td>...</td>\n",
       "      <td>...</td>\n",
       "      <td>...</td>\n",
       "    </tr>\n",
       "    <tr>\n",
       "      <th>995</th>\n",
       "      <td>-0.119269</td>\n",
       "      <td>False</td>\n",
       "      <td>0.640080</td>\n",
       "      <td>0.568053</td>\n",
       "      <td>1.760399</td>\n",
       "    </tr>\n",
       "    <tr>\n",
       "      <th>996</th>\n",
       "      <td>0.731738</td>\n",
       "      <td>False</td>\n",
       "      <td>2.161791</td>\n",
       "      <td>0.313966</td>\n",
       "      <td>3.185059</td>\n",
       "    </tr>\n",
       "    <tr>\n",
       "      <th>997</th>\n",
       "      <td>0.789059</td>\n",
       "      <td>False</td>\n",
       "      <td>3.232301</td>\n",
       "      <td>0.298858</td>\n",
       "      <td>3.346071</td>\n",
       "    </tr>\n",
       "    <tr>\n",
       "      <th>998</th>\n",
       "      <td>0.726100</td>\n",
       "      <td>False</td>\n",
       "      <td>2.715173</td>\n",
       "      <td>0.315474</td>\n",
       "      <td>3.169833</td>\n",
       "    </tr>\n",
       "    <tr>\n",
       "      <th>999</th>\n",
       "      <td>-0.371180</td>\n",
       "      <td>False</td>\n",
       "      <td>-0.498213</td>\n",
       "      <td>0.642533</td>\n",
       "      <td>1.556341</td>\n",
       "    </tr>\n",
       "  </tbody>\n",
       "</table>\n",
       "<p>1000 rows × 5 columns</p>\n",
       "</div>"
      ],
      "text/plain": [
       "           W0     v0         y  propensity_score     weight\n",
       "0    0.175582  False  1.644802          0.477064   2.096156\n",
       "1    2.379993  False  2.360069          0.055931  17.879047\n",
       "2    0.416117  False  1.902827          0.403679   2.477216\n",
       "3    1.147551  False  0.393226          0.214603   4.659770\n",
       "4    0.906979  False  1.550044          0.269137   3.715577\n",
       "..        ...    ...       ...               ...        ...\n",
       "995 -0.119269  False  0.640080          0.568053   1.760399\n",
       "996  0.731738  False  2.161791          0.313966   3.185059\n",
       "997  0.789059  False  3.232301          0.298858   3.346071\n",
       "998  0.726100  False  2.715173          0.315474   3.169833\n",
       "999 -0.371180  False -0.498213          0.642533   1.556341\n",
       "\n",
       "[1000 rows x 5 columns]"
      ]
     },
     "execution_count": 6,
     "metadata": {},
     "output_type": "execute_result"
    }
   ],
   "source": [
    "cdf_0"
   ]
  },
  {
   "cell_type": "code",
   "execution_count": 7,
   "metadata": {
    "execution": {
     "iopub.execute_input": "2023-12-01T15:06:34.016614Z",
     "iopub.status.busy": "2023-12-01T15:06:34.016211Z",
     "iopub.status.idle": "2023-12-01T15:06:34.025517Z",
     "shell.execute_reply": "2023-12-01T15:06:34.024919Z"
    }
   },
   "outputs": [
    {
     "data": {
      "text/html": [
       "<div>\n",
       "<style scoped>\n",
       "    .dataframe tbody tr th:only-of-type {\n",
       "        vertical-align: middle;\n",
       "    }\n",
       "\n",
       "    .dataframe tbody tr th {\n",
       "        vertical-align: top;\n",
       "    }\n",
       "\n",
       "    .dataframe thead th {\n",
       "        text-align: right;\n",
       "    }\n",
       "</style>\n",
       "<table border=\"1\" class=\"dataframe\">\n",
       "  <thead>\n",
       "    <tr style=\"text-align: right;\">\n",
       "      <th></th>\n",
       "      <th>W0</th>\n",
       "      <th>v0</th>\n",
       "      <th>y</th>\n",
       "      <th>propensity_score</th>\n",
       "      <th>weight</th>\n",
       "    </tr>\n",
       "  </thead>\n",
       "  <tbody>\n",
       "    <tr>\n",
       "      <th>0</th>\n",
       "      <td>1.123284</td>\n",
       "      <td>True</td>\n",
       "      <td>6.461992</td>\n",
       "      <td>0.780280</td>\n",
       "      <td>1.281591</td>\n",
       "    </tr>\n",
       "    <tr>\n",
       "      <th>1</th>\n",
       "      <td>0.076603</td>\n",
       "      <td>True</td>\n",
       "      <td>4.017976</td>\n",
       "      <td>0.492261</td>\n",
       "      <td>2.031445</td>\n",
       "    </tr>\n",
       "    <tr>\n",
       "      <th>2</th>\n",
       "      <td>0.869329</td>\n",
       "      <td>True</td>\n",
       "      <td>6.046039</td>\n",
       "      <td>0.721579</td>\n",
       "      <td>1.385850</td>\n",
       "    </tr>\n",
       "    <tr>\n",
       "      <th>3</th>\n",
       "      <td>1.362919</td>\n",
       "      <td>True</td>\n",
       "      <td>5.921152</td>\n",
       "      <td>0.827003</td>\n",
       "      <td>1.209185</td>\n",
       "    </tr>\n",
       "    <tr>\n",
       "      <th>4</th>\n",
       "      <td>0.767859</td>\n",
       "      <td>True</td>\n",
       "      <td>6.165547</td>\n",
       "      <td>0.695603</td>\n",
       "      <td>1.437602</td>\n",
       "    </tr>\n",
       "    <tr>\n",
       "      <th>...</th>\n",
       "      <td>...</td>\n",
       "      <td>...</td>\n",
       "      <td>...</td>\n",
       "      <td>...</td>\n",
       "      <td>...</td>\n",
       "    </tr>\n",
       "    <tr>\n",
       "      <th>995</th>\n",
       "      <td>0.795606</td>\n",
       "      <td>True</td>\n",
       "      <td>6.167604</td>\n",
       "      <td>0.702841</td>\n",
       "      <td>1.422797</td>\n",
       "    </tr>\n",
       "    <tr>\n",
       "      <th>996</th>\n",
       "      <td>2.098908</td>\n",
       "      <td>True</td>\n",
       "      <td>9.149229</td>\n",
       "      <td>0.922544</td>\n",
       "      <td>1.083959</td>\n",
       "    </tr>\n",
       "    <tr>\n",
       "      <th>997</th>\n",
       "      <td>0.876318</td>\n",
       "      <td>True</td>\n",
       "      <td>5.154273</td>\n",
       "      <td>0.723317</td>\n",
       "      <td>1.382520</td>\n",
       "    </tr>\n",
       "    <tr>\n",
       "      <th>998</th>\n",
       "      <td>1.754300</td>\n",
       "      <td>True</td>\n",
       "      <td>5.532201</td>\n",
       "      <td>0.885946</td>\n",
       "      <td>1.128736</td>\n",
       "    </tr>\n",
       "    <tr>\n",
       "      <th>999</th>\n",
       "      <td>-0.967865</td>\n",
       "      <td>True</td>\n",
       "      <td>3.438046</td>\n",
       "      <td>0.209743</td>\n",
       "      <td>4.767744</td>\n",
       "    </tr>\n",
       "  </tbody>\n",
       "</table>\n",
       "<p>1000 rows × 5 columns</p>\n",
       "</div>"
      ],
      "text/plain": [
       "           W0    v0         y  propensity_score    weight\n",
       "0    1.123284  True  6.461992          0.780280  1.281591\n",
       "1    0.076603  True  4.017976          0.492261  2.031445\n",
       "2    0.869329  True  6.046039          0.721579  1.385850\n",
       "3    1.362919  True  5.921152          0.827003  1.209185\n",
       "4    0.767859  True  6.165547          0.695603  1.437602\n",
       "..        ...   ...       ...               ...       ...\n",
       "995  0.795606  True  6.167604          0.702841  1.422797\n",
       "996  2.098908  True  9.149229          0.922544  1.083959\n",
       "997  0.876318  True  5.154273          0.723317  1.382520\n",
       "998  1.754300  True  5.532201          0.885946  1.128736\n",
       "999 -0.967865  True  3.438046          0.209743  4.767744\n",
       "\n",
       "[1000 rows x 5 columns]"
      ]
     },
     "execution_count": 7,
     "metadata": {},
     "output_type": "execute_result"
    }
   ],
   "source": [
    "cdf_1"
   ]
  },
  {
   "cell_type": "markdown",
   "metadata": {},
   "source": [
    "## Comparing the estimate to Linear Regression\n",
    "First, estimating the effect using the causal data frame, and the 95% confidence interval."
   ]
  },
  {
   "cell_type": "code",
   "execution_count": 8,
   "metadata": {
    "execution": {
     "iopub.execute_input": "2023-12-01T15:06:34.027971Z",
     "iopub.status.busy": "2023-12-01T15:06:34.027630Z",
     "iopub.status.idle": "2023-12-01T15:06:34.076230Z",
     "shell.execute_reply": "2023-12-01T15:06:34.075591Z"
    }
   },
   "outputs": [
    {
     "data": {
      "image/png": "[encoded data removed]",
      "text/latex": [
       "$\\displaystyle 4.90917014797847$"
      ],
      "text/plain": [
       "4.9091701479784655"
      ]
     },
     "execution_count": 8,
     "metadata": {},
     "output_type": "execute_result"
    }
   ],
   "source": [
    "(cdf_1['y'] - cdf_0['y']).mean()"
   ]
  },
  {
   "cell_type": "code",
   "execution_count": 9,
   "metadata": {
    "execution": {
     "iopub.execute_input": "2023-12-01T15:06:34.078610Z",
     "iopub.status.busy": "2023-12-01T15:06:34.078250Z",
     "iopub.status.idle": "2023-12-01T15:06:34.096722Z",
     "shell.execute_reply": "2023-12-01T15:06:34.096099Z"
    }
   },
   "outputs": [
    {
     "data": {
      "image/png": "[encoded data removed]",
      "text/latex": [
       "$\\displaystyle 0.134857755821753$"
      ],
      "text/plain": [
       "0.13485775582175263"
      ]
     },
     "execution_count": 9,
     "metadata": {},
     "output_type": "execute_result"
    }
   ],
   "source": [
    "1.96*(cdf_1['y'] - cdf_0['y']).std() / np.sqrt(len(df))"
   ]
  },
  {
   "cell_type": "markdown",
   "metadata": {},
   "source": [
    "Comparing to the estimate from OLS."
   ]
  },
  {
   "cell_type": "code",
   "execution_count": 10,
   "metadata": {
    "execution": {
     "iopub.execute_input": "2023-12-01T15:06:34.099309Z",
     "iopub.status.busy": "2023-12-01T15:06:34.098878Z",
     "iopub.status.idle": "2023-12-01T15:06:34.116275Z",
     "shell.execute_reply": "2023-12-01T15:06:34.115535Z"
    }
   },
   "outputs": [
    {
     "data": {
      "text/html": [
       "<table class=\"simpletable\">\n",
       "<caption>OLS Regression Results</caption>\n",
       "<tr>\n",
       "  <th>Dep. Variable:</th>            <td>y</td>        <th>  R-squared (uncentered):</th>      <td>   0.958</td> \n",
       "</tr>\n",
       "<tr>\n",
       "  <th>Model:</th>                   <td>OLS</td>       <th>  Adj. R-squared (uncentered):</th> <td>   0.958</td> \n",
       "</tr>\n",
       "<tr>\n",
       "  <th>Method:</th>             <td>Least Squares</td>  <th>  F-statistic:       </th>          <td>1.152e+04</td>\n",
       "</tr>\n",
       "<tr>\n",
       "  <th>Date:</th>             <td>Fri, 01 Dec 2023</td> <th>  Prob (F-statistic):</th>           <td>  0.00</td>  \n",
       "</tr>\n",
       "<tr>\n",
       "  <th>Time:</th>                 <td>15:06:34</td>     <th>  Log-Likelihood:    </th>          <td> -1421.5</td> \n",
       "</tr>\n",
       "<tr>\n",
       "  <th>No. Observations:</th>      <td>  1000</td>      <th>  AIC:               </th>          <td>   2847.</td> \n",
       "</tr>\n",
       "<tr>\n",
       "  <th>Df Residuals:</th>          <td>   998</td>      <th>  BIC:               </th>          <td>   2857.</td> \n",
       "</tr>\n",
       "<tr>\n",
       "  <th>Df Model:</th>              <td>     2</td>      <th>                     </th>              <td> </td>    \n",
       "</tr>\n",
       "<tr>\n",
       "  <th>Covariance Type:</th>      <td>nonrobust</td>    <th>                     </th>              <td> </td>    \n",
       "</tr>\n",
       "</table>\n",
       "<table class=\"simpletable\">\n",
       "<tr>\n",
       "   <td></td>     <th>coef</th>     <th>std err</th>      <th>t</th>      <th>P>|t|</th>  <th>[0.025</th>    <th>0.975]</th>  \n",
       "</tr>\n",
       "<tr>\n",
       "  <th>x1</th> <td>    1.2988</td> <td>    0.037</td> <td>   35.393</td> <td> 0.000</td> <td>    1.227</td> <td>    1.371</td>\n",
       "</tr>\n",
       "<tr>\n",
       "  <th>x2</th> <td>    5.0147</td> <td>    0.052</td> <td>   96.660</td> <td> 0.000</td> <td>    4.913</td> <td>    5.117</td>\n",
       "</tr>\n",
       "</table>\n",
       "<table class=\"simpletable\">\n",
       "<tr>\n",
       "  <th>Omnibus:</th>       <td> 4.970</td> <th>  Durbin-Watson:     </th> <td>   1.950</td>\n",
       "</tr>\n",
       "<tr>\n",
       "  <th>Prob(Omnibus):</th> <td> 0.083</td> <th>  Jarque-Bera (JB):  </th> <td>   5.080</td>\n",
       "</tr>\n",
       "<tr>\n",
       "  <th>Skew:</th>          <td>-0.123</td> <th>  Prob(JB):          </th> <td>  0.0789</td>\n",
       "</tr>\n",
       "<tr>\n",
       "  <th>Kurtosis:</th>      <td> 3.247</td> <th>  Cond. No.          </th> <td>    2.20</td>\n",
       "</tr>\n",
       "</table><br/><br/>Notes:<br/>[1] R² is computed without centering (uncentered) since the model does not contain a constant.<br/>[2] Standard Errors assume that the covariance matrix of the errors is correctly specified."
      ],
      "text/latex": [
       "\\begin{center}\n",
       "\\begin{tabular}{lclc}\n",
       "\\toprule\n",
       "\\textbf{Dep. Variable:}    &        y         & \\textbf{  R-squared (uncentered):}      &     0.958   \\\\\n",
       "\\textbf{Model:}            &       OLS        & \\textbf{  Adj. R-squared (uncentered):} &     0.958   \\\\\n",
       "\\textbf{Method:}           &  Least Squares   & \\textbf{  F-statistic:       }          & 1.152e+04   \\\\\n",
       "\\textbf{Date:}             & Fri, 01 Dec 2023 & \\textbf{  Prob (F-statistic):}          &     0.00    \\\\\n",
       "\\textbf{Time:}             &     15:06:34     & \\textbf{  Log-Likelihood:    }          &   -1421.5   \\\\\n",
       "\\textbf{No. Observations:} &        1000      & \\textbf{  AIC:               }          &     2847.   \\\\\n",
       "\\textbf{Df Residuals:}     &         998      & \\textbf{  BIC:               }          &     2857.   \\\\\n",
       "\\textbf{Df Model:}         &           2      & \\textbf{                     }          &             \\\\\n",
       "\\textbf{Covariance Type:}  &    nonrobust     & \\textbf{                     }          &             \\\\\n",
       "\\bottomrule\n",
       "\\end{tabular}\n",
       "\\begin{tabular}{lcccccc}\n",
       "            & \\textbf{coef} & \\textbf{std err} & \\textbf{t} & \\textbf{P$> |$t$|$} & \\textbf{[0.025} & \\textbf{0.975]}  \\\\\n",
       "\\midrule\n",
       "\\textbf{x1} &       1.2988  &        0.037     &    35.393  &         0.000        &        1.227    &        1.371     \\\\\n",
       "\\textbf{x2} &       5.0147  &        0.052     &    96.660  &         0.000        &        4.913    &        5.117     \\\\\n",
       "\\bottomrule\n",
       "\\end{tabular}\n",
       "\\begin{tabular}{lclc}\n",
       "\\textbf{Omnibus:}       &  4.970 & \\textbf{  Durbin-Watson:     } &    1.950  \\\\\n",
       "\\textbf{Prob(Omnibus):} &  0.083 & \\textbf{  Jarque-Bera (JB):  } &    5.080  \\\\\n",
       "\\textbf{Skew:}          & -0.123 & \\textbf{  Prob(JB):          } &   0.0789  \\\\\n",
       "\\textbf{Kurtosis:}      &  3.247 & \\textbf{  Cond. No.          } &     2.20  \\\\\n",
       "\\bottomrule\n",
       "\\end{tabular}\n",
       "%\\caption{OLS Regression Results}\n",
       "\\end{center}\n",
       "\n",
       "Notes: \\newline\n",
       " [1] R² is computed without centering (uncentered) since the model does not contain a constant. \\newline\n",
       " [2] Standard Errors assume that the covariance matrix of the errors is correctly specified."
      ],
      "text/plain": [
       "<class 'statsmodels.iolib.summary.Summary'>\n",
       "\"\"\"\n",
       "                                 OLS Regression Results                                \n",
       "=======================================================================================\n",
       "Dep. Variable:                      y   R-squared (uncentered):                   0.958\n",
       "Model:                            OLS   Adj. R-squared (uncentered):              0.958\n",
       "Method:                 Least Squares   F-statistic:                          1.152e+04\n",
       "Date:                Fri, 01 Dec 2023   Prob (F-statistic):                        0.00\n",
       "Time:                        15:06:34   Log-Likelihood:                         -1421.5\n",
       "No. Observations:                1000   AIC:                                      2847.\n",
       "Df Residuals:                     998   BIC:                                      2857.\n",
       "Df Model:                           2                                                  \n",
       "Covariance Type:            nonrobust                                                  \n",
       "==============================================================================\n",
       "                 coef    std err          t      P>|t|      [0.025      0.975]\n",
       "------------------------------------------------------------------------------\n",
       "x1             1.2988      0.037     35.393      0.000       1.227       1.371\n",
       "x2             5.0147      0.052     96.660      0.000       4.913       5.117\n",
       "==============================================================================\n",
       "Omnibus:                        4.970   Durbin-Watson:                   1.950\n",
       "Prob(Omnibus):                  0.083   Jarque-Bera (JB):                5.080\n",
       "Skew:                          -0.123   Prob(JB):                       0.0789\n",
       "Kurtosis:                       3.247   Cond. No.                         2.20\n",
       "==============================================================================\n",
       "\n",
       "Notes:\n",
       "[1] R² is computed without centering (uncentered) since the model does not contain a constant.\n",
       "[2] Standard Errors assume that the covariance matrix of the errors is correctly specified.\n",
       "\"\"\""
      ]
     },
     "execution_count": 10,
     "metadata": {},
     "output_type": "execute_result"
    }
   ],
   "source": [
    "model = OLS(np.asarray(df[outcome]), np.asarray(df[[common_cause, treatment]], dtype=np.float64))\n",
    "result = model.fit()\n",
    "result.summary()"
   ]
  }
 ],
 "metadata": {
  "kernelspec": {
   "display_name": "Python 3 (ipykernel)",
   "language": "python",
   "name": "python3"
  },
  "language_info": {
   "codemirror_mode": {
    "name": "ipython",
    "version": 3
   },
   "file_extension": ".py",
   "mimetype": "text/x-python",
   "name": "python",
   "nbconvert_exporter": "python",
   "pygments_lexer": "ipython3",
   "version": "3.8.10"
  },
  "toc": {
   "base_numbering": 1,
   "nav_menu": {},
   "number_sections": false,
   "sideBar": true,
   "skip_h1_title": true,
   "title_cell": "Table of Contents",
   "title_sidebar": "Contents",
   "toc_cell": false,
   "toc_position": {},
   "toc_section_display": true,
   "toc_window_display": false
  }
 },
 "nbformat": 4,
 "nbformat_minor": 4
}
