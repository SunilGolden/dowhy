{
 "cells": [
  {
   "cell_type": "markdown",
   "metadata": {},
   "source": [
    "# Demo for the DoWhy causal API\n",
    "We show a simple example of adding a causal extension to any dataframe. "
   ]
  },
  {
   "cell_type": "code",
   "execution_count": 1,
   "metadata": {
    "execution": {
     "iopub.execute_input": "2023-04-18T21:15:20.403182Z",
     "iopub.status.busy": "2023-04-18T21:15:20.402800Z",
     "iopub.status.idle": "2023-04-18T21:15:21.974425Z",
     "shell.execute_reply": "2023-04-18T21:15:21.973780Z"
    }
   },
   "outputs": [],
   "source": [
    "import dowhy.datasets\n",
    "import dowhy.api\n",
    "\n",
    "import numpy as np\n",
    "import pandas as pd\n",
    "\n",
    "from statsmodels.api import OLS"
   ]
  },
  {
   "cell_type": "code",
   "execution_count": 2,
   "metadata": {
    "execution": {
     "iopub.execute_input": "2023-04-18T21:15:21.978355Z",
     "iopub.status.busy": "2023-04-18T21:15:21.977536Z",
     "iopub.status.idle": "2023-04-18T21:15:22.016081Z",
     "shell.execute_reply": "2023-04-18T21:15:22.015444Z"
    }
   },
   "outputs": [
    {
     "data": {
      "text/html": [
       "<div>\n",
       "<style scoped>\n",
       "    .dataframe tbody tr th:only-of-type {\n",
       "        vertical-align: middle;\n",
       "    }\n",
       "\n",
       "    .dataframe tbody tr th {\n",
       "        vertical-align: top;\n",
       "    }\n",
       "\n",
       "    .dataframe thead th {\n",
       "        text-align: right;\n",
       "    }\n",
       "</style>\n",
       "<table border=\"1\" class=\"dataframe\">\n",
       "  <thead>\n",
       "    <tr style=\"text-align: right;\">\n",
       "      <th></th>\n",
       "      <th>W0</th>\n",
       "      <th>v0</th>\n",
       "      <th>y</th>\n",
       "    </tr>\n",
       "  </thead>\n",
       "  <tbody>\n",
       "    <tr>\n",
       "      <th>0</th>\n",
       "      <td>-1.446993</td>\n",
       "      <td>False</td>\n",
       "      <td>-2.350679</td>\n",
       "    </tr>\n",
       "    <tr>\n",
       "      <th>1</th>\n",
       "      <td>-0.681894</td>\n",
       "      <td>False</td>\n",
       "      <td>-2.784073</td>\n",
       "    </tr>\n",
       "    <tr>\n",
       "      <th>2</th>\n",
       "      <td>-0.556327</td>\n",
       "      <td>True</td>\n",
       "      <td>3.937857</td>\n",
       "    </tr>\n",
       "    <tr>\n",
       "      <th>3</th>\n",
       "      <td>0.082010</td>\n",
       "      <td>True</td>\n",
       "      <td>5.862821</td>\n",
       "    </tr>\n",
       "    <tr>\n",
       "      <th>4</th>\n",
       "      <td>0.404041</td>\n",
       "      <td>True</td>\n",
       "      <td>5.264265</td>\n",
       "    </tr>\n",
       "    <tr>\n",
       "      <th>...</th>\n",
       "      <td>...</td>\n",
       "      <td>...</td>\n",
       "      <td>...</td>\n",
       "    </tr>\n",
       "    <tr>\n",
       "      <th>995</th>\n",
       "      <td>0.172516</td>\n",
       "      <td>True</td>\n",
       "      <td>6.204782</td>\n",
       "    </tr>\n",
       "    <tr>\n",
       "      <th>996</th>\n",
       "      <td>-0.813132</td>\n",
       "      <td>False</td>\n",
       "      <td>-2.865673</td>\n",
       "    </tr>\n",
       "    <tr>\n",
       "      <th>997</th>\n",
       "      <td>-0.289953</td>\n",
       "      <td>False</td>\n",
       "      <td>0.332297</td>\n",
       "    </tr>\n",
       "    <tr>\n",
       "      <th>998</th>\n",
       "      <td>-1.261215</td>\n",
       "      <td>False</td>\n",
       "      <td>-1.705792</td>\n",
       "    </tr>\n",
       "    <tr>\n",
       "      <th>999</th>\n",
       "      <td>-1.166364</td>\n",
       "      <td>False</td>\n",
       "      <td>-2.466718</td>\n",
       "    </tr>\n",
       "  </tbody>\n",
       "</table>\n",
       "<p>1000 rows × 3 columns</p>\n",
       "</div>"
      ],
      "text/plain": [
       "           W0     v0         y\n",
       "0   -1.446993  False -2.350679\n",
       "1   -0.681894  False -2.784073\n",
       "2   -0.556327   True  3.937857\n",
       "3    0.082010   True  5.862821\n",
       "4    0.404041   True  5.264265\n",
       "..        ...    ...       ...\n",
       "995  0.172516   True  6.204782\n",
       "996 -0.813132  False -2.865673\n",
       "997 -0.289953  False  0.332297\n",
       "998 -1.261215  False -1.705792\n",
       "999 -1.166364  False -2.466718\n",
       "\n",
       "[1000 rows x 3 columns]"
      ]
     },
     "execution_count": 2,
     "metadata": {},
     "output_type": "execute_result"
    }
   ],
   "source": [
    "data = dowhy.datasets.linear_dataset(beta=5,\n",
    "        num_common_causes=1,\n",
    "        num_instruments = 0,\n",
    "        num_samples=1000,\n",
    "        treatment_is_binary=True)\n",
    "df = data['df']\n",
    "df['y'] = df['y'] + np.random.normal(size=len(df)) # Adding noise to data. Without noise, the variance in Y|X, Z is zero, and mcmc fails.\n",
    "#data['dot_graph'] = 'digraph { v ->y;X0-> v;X0-> y;}'\n",
    "\n",
    "treatment= data[\"treatment_name\"][0]\n",
    "outcome = data[\"outcome_name\"][0]\n",
    "common_cause = data[\"common_causes_names\"][0]\n",
    "df"
   ]
  },
  {
   "cell_type": "code",
   "execution_count": 3,
   "metadata": {
    "execution": {
     "iopub.execute_input": "2023-04-18T21:15:22.019395Z",
     "iopub.status.busy": "2023-04-18T21:15:22.018850Z",
     "iopub.status.idle": "2023-04-18T21:15:22.164471Z",
     "shell.execute_reply": "2023-04-18T21:15:22.163454Z"
    }
   },
   "outputs": [
    {
     "data": {
      "text/plain": [
       "<AxesSubplot: xlabel='v0'>"
      ]
     },
     "execution_count": 3,
     "metadata": {},
     "output_type": "execute_result"
    },
    {
     "data": {
      "image/png": "[encoded data removed]",
      "text/plain": [
       "<Figure size 640x480 with 1 Axes>"
      ]
     },
     "metadata": {},
     "output_type": "display_data"
    }
   ],
   "source": [
    "# data['df'] is just a regular pandas.DataFrame\n",
    "df.causal.do(x=treatment,\n",
    "                     variable_types={treatment: 'b', outcome: 'c', common_cause: 'c'},\n",
    "                     outcome=outcome,\n",
    "                     common_causes=[common_cause],\n",
    "                     proceed_when_unidentifiable=True).groupby(treatment).mean().plot(y=outcome, kind='bar')"
   ]
  },
  {
   "cell_type": "code",
   "execution_count": 4,
   "metadata": {
    "execution": {
     "iopub.execute_input": "2023-04-18T21:15:22.167452Z",
     "iopub.status.busy": "2023-04-18T21:15:22.166994Z",
     "iopub.status.idle": "2023-04-18T21:15:22.275338Z",
     "shell.execute_reply": "2023-04-18T21:15:22.274814Z"
    }
   },
   "outputs": [
    {
     "data": {
      "text/plain": [
       "<AxesSubplot: xlabel='v0'>"
      ]
     },
     "execution_count": 4,
     "metadata": {},
     "output_type": "execute_result"
    },
    {
     "data": {
      "image/png": "[encoded data removed]",
      "text/plain": [
       "<Figure size 640x480 with 1 Axes>"
      ]
     },
     "metadata": {},
     "output_type": "display_data"
    }
   ],
   "source": [
    "df.causal.do(x={treatment: 1}, \n",
    "              variable_types={treatment:'b', outcome: 'c', common_cause: 'c'}, \n",
    "              outcome=outcome,\n",
    "              method='weighting', \n",
    "              common_causes=[common_cause],\n",
    "              proceed_when_unidentifiable=True).groupby(treatment).mean().plot(y=outcome, kind='bar')"
   ]
  },
  {
   "cell_type": "code",
   "execution_count": 5,
   "metadata": {
    "execution": {
     "iopub.execute_input": "2023-04-18T21:15:22.278610Z",
     "iopub.status.busy": "2023-04-18T21:15:22.278072Z",
     "iopub.status.idle": "2023-04-18T21:15:22.393060Z",
     "shell.execute_reply": "2023-04-18T21:15:22.392450Z"
    }
   },
   "outputs": [],
   "source": [
    "cdf_1 = df.causal.do(x={treatment: 1}, \n",
    "              variable_types={treatment: 'b', outcome: 'c', common_cause: 'c'}, \n",
    "              outcome=outcome, \n",
    "              dot_graph=data['dot_graph'],\n",
    "              proceed_when_unidentifiable=True)\n",
    "\n",
    "cdf_0 = df.causal.do(x={treatment: 0}, \n",
    "              variable_types={treatment: 'b', outcome: 'c', common_cause: 'c'}, \n",
    "              outcome=outcome, \n",
    "              dot_graph=data['dot_graph'],\n",
    "              proceed_when_unidentifiable=True)\n"
   ]
  },
  {
   "cell_type": "code",
   "execution_count": 6,
   "metadata": {
    "execution": {
     "iopub.execute_input": "2023-04-18T21:15:22.396284Z",
     "iopub.status.busy": "2023-04-18T21:15:22.395946Z",
     "iopub.status.idle": "2023-04-18T21:15:22.408024Z",
     "shell.execute_reply": "2023-04-18T21:15:22.407478Z"
    },
    "scrolled": true
   },
   "outputs": [
    {
     "data": {
      "text/html": [
       "<div>\n",
       "<style scoped>\n",
       "    .dataframe tbody tr th:only-of-type {\n",
       "        vertical-align: middle;\n",
       "    }\n",
       "\n",
       "    .dataframe tbody tr th {\n",
       "        vertical-align: top;\n",
       "    }\n",
       "\n",
       "    .dataframe thead th {\n",
       "        text-align: right;\n",
       "    }\n",
       "</style>\n",
       "<table border=\"1\" class=\"dataframe\">\n",
       "  <thead>\n",
       "    <tr style=\"text-align: right;\">\n",
       "      <th></th>\n",
       "      <th>W0</th>\n",
       "      <th>v0</th>\n",
       "      <th>y</th>\n",
       "      <th>propensity_score</th>\n",
       "      <th>weight</th>\n",
       "    </tr>\n",
       "  </thead>\n",
       "  <tbody>\n",
       "    <tr>\n",
       "      <th>0</th>\n",
       "      <td>-1.186882</td>\n",
       "      <td>False</td>\n",
       "      <td>-2.542879</td>\n",
       "      <td>0.959401</td>\n",
       "      <td>1.042317</td>\n",
       "    </tr>\n",
       "    <tr>\n",
       "      <th>1</th>\n",
       "      <td>-1.920396</td>\n",
       "      <td>False</td>\n",
       "      <td>-3.568476</td>\n",
       "      <td>0.993589</td>\n",
       "      <td>1.006452</td>\n",
       "    </tr>\n",
       "    <tr>\n",
       "      <th>2</th>\n",
       "      <td>-2.169765</td>\n",
       "      <td>False</td>\n",
       "      <td>-5.774178</td>\n",
       "      <td>0.996608</td>\n",
       "      <td>1.003404</td>\n",
       "    </tr>\n",
       "    <tr>\n",
       "      <th>3</th>\n",
       "      <td>-1.138616</td>\n",
       "      <td>False</td>\n",
       "      <td>-2.806103</td>\n",
       "      <td>0.954296</td>\n",
       "      <td>1.047893</td>\n",
       "    </tr>\n",
       "    <tr>\n",
       "      <th>4</th>\n",
       "      <td>-1.429839</td>\n",
       "      <td>False</td>\n",
       "      <td>-2.828588</td>\n",
       "      <td>0.977807</td>\n",
       "      <td>1.022697</td>\n",
       "    </tr>\n",
       "    <tr>\n",
       "      <th>...</th>\n",
       "      <td>...</td>\n",
       "      <td>...</td>\n",
       "      <td>...</td>\n",
       "      <td>...</td>\n",
       "      <td>...</td>\n",
       "    </tr>\n",
       "    <tr>\n",
       "      <th>995</th>\n",
       "      <td>-2.014711</td>\n",
       "      <td>False</td>\n",
       "      <td>-4.444674</td>\n",
       "      <td>0.994960</td>\n",
       "      <td>1.005066</td>\n",
       "    </tr>\n",
       "    <tr>\n",
       "      <th>996</th>\n",
       "      <td>-0.106583</td>\n",
       "      <td>False</td>\n",
       "      <td>0.774629</td>\n",
       "      <td>0.596892</td>\n",
       "      <td>1.675345</td>\n",
       "    </tr>\n",
       "    <tr>\n",
       "      <th>997</th>\n",
       "      <td>-1.035883</td>\n",
       "      <td>False</td>\n",
       "      <td>-3.058566</td>\n",
       "      <td>0.941331</td>\n",
       "      <td>1.062326</td>\n",
       "    </tr>\n",
       "    <tr>\n",
       "      <th>998</th>\n",
       "      <td>-1.857898</td>\n",
       "      <td>False</td>\n",
       "      <td>-4.340170</td>\n",
       "      <td>0.992484</td>\n",
       "      <td>1.007573</td>\n",
       "    </tr>\n",
       "    <tr>\n",
       "      <th>999</th>\n",
       "      <td>-0.774178</td>\n",
       "      <td>False</td>\n",
       "      <td>-1.899865</td>\n",
       "      <td>0.891323</td>\n",
       "      <td>1.121927</td>\n",
       "    </tr>\n",
       "  </tbody>\n",
       "</table>\n",
       "<p>1000 rows × 5 columns</p>\n",
       "</div>"
      ],
      "text/plain": [
       "           W0     v0         y  propensity_score    weight\n",
       "0   -1.186882  False -2.542879          0.959401  1.042317\n",
       "1   -1.920396  False -3.568476          0.993589  1.006452\n",
       "2   -2.169765  False -5.774178          0.996608  1.003404\n",
       "3   -1.138616  False -2.806103          0.954296  1.047893\n",
       "4   -1.429839  False -2.828588          0.977807  1.022697\n",
       "..        ...    ...       ...               ...       ...\n",
       "995 -2.014711  False -4.444674          0.994960  1.005066\n",
       "996 -0.106583  False  0.774629          0.596892  1.675345\n",
       "997 -1.035883  False -3.058566          0.941331  1.062326\n",
       "998 -1.857898  False -4.340170          0.992484  1.007573\n",
       "999 -0.774178  False -1.899865          0.891323  1.121927\n",
       "\n",
       "[1000 rows x 5 columns]"
      ]
     },
     "execution_count": 6,
     "metadata": {},
     "output_type": "execute_result"
    }
   ],
   "source": [
    "cdf_0"
   ]
  },
  {
   "cell_type": "code",
   "execution_count": 7,
   "metadata": {
    "execution": {
     "iopub.execute_input": "2023-04-18T21:15:22.410505Z",
     "iopub.status.busy": "2023-04-18T21:15:22.410294Z",
     "iopub.status.idle": "2023-04-18T21:15:22.419903Z",
     "shell.execute_reply": "2023-04-18T21:15:22.419340Z"
    }
   },
   "outputs": [
    {
     "data": {
      "text/html": [
       "<div>\n",
       "<style scoped>\n",
       "    .dataframe tbody tr th:only-of-type {\n",
       "        vertical-align: middle;\n",
       "    }\n",
       "\n",
       "    .dataframe tbody tr th {\n",
       "        vertical-align: top;\n",
       "    }\n",
       "\n",
       "    .dataframe thead th {\n",
       "        text-align: right;\n",
       "    }\n",
       "</style>\n",
       "<table border=\"1\" class=\"dataframe\">\n",
       "  <thead>\n",
       "    <tr style=\"text-align: right;\">\n",
       "      <th></th>\n",
       "      <th>W0</th>\n",
       "      <th>v0</th>\n",
       "      <th>y</th>\n",
       "      <th>propensity_score</th>\n",
       "      <th>weight</th>\n",
       "    </tr>\n",
       "  </thead>\n",
       "  <tbody>\n",
       "    <tr>\n",
       "      <th>0</th>\n",
       "      <td>-1.035242</td>\n",
       "      <td>True</td>\n",
       "      <td>3.193566</td>\n",
       "      <td>0.058760</td>\n",
       "      <td>17.018289</td>\n",
       "    </tr>\n",
       "    <tr>\n",
       "      <th>1</th>\n",
       "      <td>-0.744629</td>\n",
       "      <td>True</td>\n",
       "      <td>5.866203</td>\n",
       "      <td>0.116236</td>\n",
       "      <td>8.603150</td>\n",
       "    </tr>\n",
       "    <tr>\n",
       "      <th>2</th>\n",
       "      <td>-0.682048</td>\n",
       "      <td>True</td>\n",
       "      <td>3.998116</td>\n",
       "      <td>0.133762</td>\n",
       "      <td>7.475966</td>\n",
       "    </tr>\n",
       "    <tr>\n",
       "      <th>3</th>\n",
       "      <td>-1.035242</td>\n",
       "      <td>True</td>\n",
       "      <td>3.193566</td>\n",
       "      <td>0.058760</td>\n",
       "      <td>17.018289</td>\n",
       "    </tr>\n",
       "    <tr>\n",
       "      <th>4</th>\n",
       "      <td>-0.088300</td>\n",
       "      <td>True</td>\n",
       "      <td>4.686886</td>\n",
       "      <td>0.414438</td>\n",
       "      <td>2.412907</td>\n",
       "    </tr>\n",
       "    <tr>\n",
       "      <th>...</th>\n",
       "      <td>...</td>\n",
       "      <td>...</td>\n",
       "      <td>...</td>\n",
       "      <td>...</td>\n",
       "      <td>...</td>\n",
       "    </tr>\n",
       "    <tr>\n",
       "      <th>995</th>\n",
       "      <td>0.404041</td>\n",
       "      <td>True</td>\n",
       "      <td>5.264265</td>\n",
       "      <td>0.714385</td>\n",
       "      <td>1.399806</td>\n",
       "    </tr>\n",
       "    <tr>\n",
       "      <th>996</th>\n",
       "      <td>-1.702840</td>\n",
       "      <td>True</td>\n",
       "      <td>1.230174</td>\n",
       "      <td>0.011145</td>\n",
       "      <td>89.724836</td>\n",
       "    </tr>\n",
       "    <tr>\n",
       "      <th>997</th>\n",
       "      <td>0.373463</td>\n",
       "      <td>True</td>\n",
       "      <td>6.010123</td>\n",
       "      <td>0.698121</td>\n",
       "      <td>1.432415</td>\n",
       "    </tr>\n",
       "    <tr>\n",
       "      <th>998</th>\n",
       "      <td>-1.028467</td>\n",
       "      <td>True</td>\n",
       "      <td>3.294114</td>\n",
       "      <td>0.059728</td>\n",
       "      <td>16.742455</td>\n",
       "    </tr>\n",
       "    <tr>\n",
       "      <th>999</th>\n",
       "      <td>0.203895</td>\n",
       "      <td>True</td>\n",
       "      <td>4.187495</td>\n",
       "      <td>0.599547</td>\n",
       "      <td>1.667927</td>\n",
       "    </tr>\n",
       "  </tbody>\n",
       "</table>\n",
       "<p>1000 rows × 5 columns</p>\n",
       "</div>"
      ],
      "text/plain": [
       "           W0    v0         y  propensity_score     weight\n",
       "0   -1.035242  True  3.193566          0.058760  17.018289\n",
       "1   -0.744629  True  5.866203          0.116236   8.603150\n",
       "2   -0.682048  True  3.998116          0.133762   7.475966\n",
       "3   -1.035242  True  3.193566          0.058760  17.018289\n",
       "4   -0.088300  True  4.686886          0.414438   2.412907\n",
       "..        ...   ...       ...               ...        ...\n",
       "995  0.404041  True  5.264265          0.714385   1.399806\n",
       "996 -1.702840  True  1.230174          0.011145  89.724836\n",
       "997  0.373463  True  6.010123          0.698121   1.432415\n",
       "998 -1.028467  True  3.294114          0.059728  16.742455\n",
       "999  0.203895  True  4.187495          0.599547   1.667927\n",
       "\n",
       "[1000 rows x 5 columns]"
      ]
     },
     "execution_count": 7,
     "metadata": {},
     "output_type": "execute_result"
    }
   ],
   "source": [
    "cdf_1"
   ]
  },
  {
   "cell_type": "markdown",
   "metadata": {},
   "source": [
    "## Comparing the estimate to Linear Regression\n",
    "First, estimating the effect using the causal data frame, and the 95% confidence interval."
   ]
  },
  {
   "cell_type": "code",
   "execution_count": 8,
   "metadata": {
    "execution": {
     "iopub.execute_input": "2023-04-18T21:15:22.423162Z",
     "iopub.status.busy": "2023-04-18T21:15:22.422845Z",
     "iopub.status.idle": "2023-04-18T21:15:22.478984Z",
     "shell.execute_reply": "2023-04-18T21:15:22.478308Z"
    }
   },
   "outputs": [
    {
     "data": {
      "image/png": "[encoded data removed]",
      "text/latex": [
       "$\\displaystyle 5.82973678689056$"
      ],
      "text/plain": [
       "5.829736786890561"
      ]
     },
     "execution_count": 8,
     "metadata": {},
     "output_type": "execute_result"
    }
   ],
   "source": [
    "(cdf_1['y'] - cdf_0['y']).mean()"
   ]
  },
  {
   "cell_type": "code",
   "execution_count": 9,
   "metadata": {
    "execution": {
     "iopub.execute_input": "2023-04-18T21:15:22.481955Z",
     "iopub.status.busy": "2023-04-18T21:15:22.481444Z",
     "iopub.status.idle": "2023-04-18T21:15:22.501310Z",
     "shell.execute_reply": "2023-04-18T21:15:22.500658Z"
    }
   },
   "outputs": [
    {
     "data": {
      "image/png": "[encoded data removed]",
      "text/latex": [
       "$\\displaystyle 0.16642669579816$"
      ],
      "text/plain": [
       "0.16642669579816036"
      ]
     },
     "execution_count": 9,
     "metadata": {},
     "output_type": "execute_result"
    }
   ],
   "source": [
    "1.96*(cdf_1['y'] - cdf_0['y']).std() / np.sqrt(len(df))"
   ]
  },
  {
   "cell_type": "markdown",
   "metadata": {},
   "source": [
    "Comparing to the estimate from OLS."
   ]
  },
  {
   "cell_type": "code",
   "execution_count": 10,
   "metadata": {
    "execution": {
     "iopub.execute_input": "2023-04-18T21:15:22.504176Z",
     "iopub.status.busy": "2023-04-18T21:15:22.503629Z",
     "iopub.status.idle": "2023-04-18T21:15:22.517041Z",
     "shell.execute_reply": "2023-04-18T21:15:22.516444Z"
    }
   },
   "outputs": [
    {
     "data": {
      "text/html": [
       "<table class=\"simpletable\">\n",
       "<caption>OLS Regression Results</caption>\n",
       "<tr>\n",
       "  <th>Dep. Variable:</th>            <td>y</td>        <th>  R-squared (uncentered):</th>      <td>   0.928</td>\n",
       "</tr>\n",
       "<tr>\n",
       "  <th>Model:</th>                   <td>OLS</td>       <th>  Adj. R-squared (uncentered):</th> <td>   0.928</td>\n",
       "</tr>\n",
       "<tr>\n",
       "  <th>Method:</th>             <td>Least Squares</td>  <th>  F-statistic:       </th>          <td>   6431.</td>\n",
       "</tr>\n",
       "<tr>\n",
       "  <th>Date:</th>             <td>Tue, 18 Apr 2023</td> <th>  Prob (F-statistic):</th>           <td>  0.00</td> \n",
       "</tr>\n",
       "<tr>\n",
       "  <th>Time:</th>                 <td>21:15:22</td>     <th>  Log-Likelihood:    </th>          <td> -1448.2</td>\n",
       "</tr>\n",
       "<tr>\n",
       "  <th>No. Observations:</th>      <td>  1000</td>      <th>  AIC:               </th>          <td>   2900.</td>\n",
       "</tr>\n",
       "<tr>\n",
       "  <th>Df Residuals:</th>          <td>   998</td>      <th>  BIC:               </th>          <td>   2910.</td>\n",
       "</tr>\n",
       "<tr>\n",
       "  <th>Df Model:</th>              <td>     2</td>      <th>                     </th>              <td> </td>   \n",
       "</tr>\n",
       "<tr>\n",
       "  <th>Covariance Type:</th>      <td>nonrobust</td>    <th>                     </th>              <td> </td>   \n",
       "</tr>\n",
       "</table>\n",
       "<table class=\"simpletable\">\n",
       "<tr>\n",
       "   <td></td>     <th>coef</th>     <th>std err</th>      <th>t</th>      <th>P>|t|</th>  <th>[0.025</th>    <th>0.975]</th>  \n",
       "</tr>\n",
       "<tr>\n",
       "  <th>x1</th> <td>    1.9448</td> <td>    0.026</td> <td>   75.078</td> <td> 0.000</td> <td>    1.894</td> <td>    1.996</td>\n",
       "</tr>\n",
       "<tr>\n",
       "  <th>x2</th> <td>    5.0244</td> <td>    0.066</td> <td>   76.308</td> <td> 0.000</td> <td>    4.895</td> <td>    5.154</td>\n",
       "</tr>\n",
       "</table>\n",
       "<table class=\"simpletable\">\n",
       "<tr>\n",
       "  <th>Omnibus:</th>       <td> 0.392</td> <th>  Durbin-Watson:     </th> <td>   1.994</td>\n",
       "</tr>\n",
       "<tr>\n",
       "  <th>Prob(Omnibus):</th> <td> 0.822</td> <th>  Jarque-Bera (JB):  </th> <td>   0.320</td>\n",
       "</tr>\n",
       "<tr>\n",
       "  <th>Skew:</th>          <td>-0.039</td> <th>  Prob(JB):          </th> <td>   0.852</td>\n",
       "</tr>\n",
       "<tr>\n",
       "  <th>Kurtosis:</th>      <td> 3.038</td> <th>  Cond. No.          </th> <td>    2.56</td>\n",
       "</tr>\n",
       "</table><br/><br/>Notes:<br/>[1] R² is computed without centering (uncentered) since the model does not contain a constant.<br/>[2] Standard Errors assume that the covariance matrix of the errors is correctly specified."
      ],
      "text/plain": [
       "<class 'statsmodels.iolib.summary.Summary'>\n",
       "\"\"\"\n",
       "                                 OLS Regression Results                                \n",
       "=======================================================================================\n",
       "Dep. Variable:                      y   R-squared (uncentered):                   0.928\n",
       "Model:                            OLS   Adj. R-squared (uncentered):              0.928\n",
       "Method:                 Least Squares   F-statistic:                              6431.\n",
       "Date:                Tue, 18 Apr 2023   Prob (F-statistic):                        0.00\n",
       "Time:                        21:15:22   Log-Likelihood:                         -1448.2\n",
       "No. Observations:                1000   AIC:                                      2900.\n",
       "Df Residuals:                     998   BIC:                                      2910.\n",
       "Df Model:                           2                                                  \n",
       "Covariance Type:            nonrobust                                                  \n",
       "==============================================================================\n",
       "                 coef    std err          t      P>|t|      [0.025      0.975]\n",
       "------------------------------------------------------------------------------\n",
       "x1             1.9448      0.026     75.078      0.000       1.894       1.996\n",
       "x2             5.0244      0.066     76.308      0.000       4.895       5.154\n",
       "==============================================================================\n",
       "Omnibus:                        0.392   Durbin-Watson:                   1.994\n",
       "Prob(Omnibus):                  0.822   Jarque-Bera (JB):                0.320\n",
       "Skew:                          -0.039   Prob(JB):                        0.852\n",
       "Kurtosis:                       3.038   Cond. No.                         2.56\n",
       "==============================================================================\n",
       "\n",
       "Notes:\n",
       "[1] R² is computed without centering (uncentered) since the model does not contain a constant.\n",
       "[2] Standard Errors assume that the covariance matrix of the errors is correctly specified.\n",
       "\"\"\""
      ]
     },
     "execution_count": 10,
     "metadata": {},
     "output_type": "execute_result"
    }
   ],
   "source": [
    "model = OLS(np.asarray(df[outcome]), np.asarray(df[[common_cause, treatment]], dtype=np.float64))\n",
    "result = model.fit()\n",
    "result.summary()"
   ]
  }
 ],
 "metadata": {
  "kernelspec": {
   "display_name": "Python 3",
   "language": "python",
   "name": "python3"
  },
  "language_info": {
   "codemirror_mode": {
    "name": "ipython",
    "version": 3
   },
   "file_extension": ".py",
   "mimetype": "text/x-python",
   "name": "python",
   "nbconvert_exporter": "python",
   "pygments_lexer": "ipython3",
   "version": "3.8.10"
  },
  "toc": {
   "base_numbering": 1,
   "nav_menu": {},
   "number_sections": false,
   "sideBar": true,
   "skip_h1_title": true,
   "title_cell": "Table of Contents",
   "title_sidebar": "Contents",
   "toc_cell": false,
   "toc_position": {},
   "toc_section_display": true,
   "toc_window_display": false
  }
 },
 "nbformat": 4,
 "nbformat_minor": 4
}
