{
 "cells": [
  {
   "cell_type": "markdown",
   "metadata": {},
   "source": [
    "# Demo for the DoWhy causal API\n",
    "We show a simple example of adding a causal extension to any dataframe. "
   ]
  },
  {
   "cell_type": "code",
   "execution_count": 1,
   "metadata": {
    "execution": {
     "iopub.execute_input": "2023-01-20T11:28:42.447551Z",
     "iopub.status.busy": "2023-01-20T11:28:42.447218Z",
     "iopub.status.idle": "2023-01-20T11:28:44.249915Z",
     "shell.execute_reply": "2023-01-20T11:28:44.249288Z"
    }
   },
   "outputs": [],
   "source": [
    "import dowhy.datasets\n",
    "import dowhy.api\n",
    "\n",
    "import numpy as np\n",
    "import pandas as pd\n",
    "\n",
    "from statsmodels.api import OLS"
   ]
  },
  {
   "cell_type": "code",
   "execution_count": 2,
   "metadata": {
    "execution": {
     "iopub.execute_input": "2023-01-20T11:28:44.253169Z",
     "iopub.status.busy": "2023-01-20T11:28:44.252550Z",
     "iopub.status.idle": "2023-01-20T11:28:44.293018Z",
     "shell.execute_reply": "2023-01-20T11:28:44.291737Z"
    }
   },
   "outputs": [
    {
     "data": {
      "text/html": [
       "<div>\n",
       "<style scoped>\n",
       "    .dataframe tbody tr th:only-of-type {\n",
       "        vertical-align: middle;\n",
       "    }\n",
       "\n",
       "    .dataframe tbody tr th {\n",
       "        vertical-align: top;\n",
       "    }\n",
       "\n",
       "    .dataframe thead th {\n",
       "        text-align: right;\n",
       "    }\n",
       "</style>\n",
       "<table border=\"1\" class=\"dataframe\">\n",
       "  <thead>\n",
       "    <tr style=\"text-align: right;\">\n",
       "      <th></th>\n",
       "      <th>W0</th>\n",
       "      <th>v0</th>\n",
       "      <th>y</th>\n",
       "    </tr>\n",
       "  </thead>\n",
       "  <tbody>\n",
       "    <tr>\n",
       "      <th>0</th>\n",
       "      <td>-1.039059</td>\n",
       "      <td>True</td>\n",
       "      <td>4.356466</td>\n",
       "    </tr>\n",
       "    <tr>\n",
       "      <th>1</th>\n",
       "      <td>-0.170084</td>\n",
       "      <td>True</td>\n",
       "      <td>5.055127</td>\n",
       "    </tr>\n",
       "    <tr>\n",
       "      <th>2</th>\n",
       "      <td>0.903507</td>\n",
       "      <td>True</td>\n",
       "      <td>4.783136</td>\n",
       "    </tr>\n",
       "    <tr>\n",
       "      <th>3</th>\n",
       "      <td>-0.685721</td>\n",
       "      <td>False</td>\n",
       "      <td>-0.634004</td>\n",
       "    </tr>\n",
       "    <tr>\n",
       "      <th>4</th>\n",
       "      <td>0.605818</td>\n",
       "      <td>True</td>\n",
       "      <td>4.778427</td>\n",
       "    </tr>\n",
       "    <tr>\n",
       "      <th>...</th>\n",
       "      <td>...</td>\n",
       "      <td>...</td>\n",
       "      <td>...</td>\n",
       "    </tr>\n",
       "    <tr>\n",
       "      <th>995</th>\n",
       "      <td>-0.311753</td>\n",
       "      <td>False</td>\n",
       "      <td>0.649817</td>\n",
       "    </tr>\n",
       "    <tr>\n",
       "      <th>996</th>\n",
       "      <td>-0.052761</td>\n",
       "      <td>False</td>\n",
       "      <td>0.860718</td>\n",
       "    </tr>\n",
       "    <tr>\n",
       "      <th>997</th>\n",
       "      <td>-2.199326</td>\n",
       "      <td>False</td>\n",
       "      <td>-0.614103</td>\n",
       "    </tr>\n",
       "    <tr>\n",
       "      <th>998</th>\n",
       "      <td>-1.051772</td>\n",
       "      <td>False</td>\n",
       "      <td>-0.269741</td>\n",
       "    </tr>\n",
       "    <tr>\n",
       "      <th>999</th>\n",
       "      <td>-0.309965</td>\n",
       "      <td>True</td>\n",
       "      <td>4.551475</td>\n",
       "    </tr>\n",
       "  </tbody>\n",
       "</table>\n",
       "<p>1000 rows × 3 columns</p>\n",
       "</div>"
      ],
      "text/plain": [
       "           W0     v0         y\n",
       "0   -1.039059   True  4.356466\n",
       "1   -0.170084   True  5.055127\n",
       "2    0.903507   True  4.783136\n",
       "3   -0.685721  False -0.634004\n",
       "4    0.605818   True  4.778427\n",
       "..        ...    ...       ...\n",
       "995 -0.311753  False  0.649817\n",
       "996 -0.052761  False  0.860718\n",
       "997 -2.199326  False -0.614103\n",
       "998 -1.051772  False -0.269741\n",
       "999 -0.309965   True  4.551475\n",
       "\n",
       "[1000 rows x 3 columns]"
      ]
     },
     "execution_count": 2,
     "metadata": {},
     "output_type": "execute_result"
    }
   ],
   "source": [
    "data = dowhy.datasets.linear_dataset(beta=5,\n",
    "        num_common_causes=1,\n",
    "        num_instruments = 0,\n",
    "        num_samples=1000,\n",
    "        treatment_is_binary=True)\n",
    "df = data['df']\n",
    "df['y'] = df['y'] + np.random.normal(size=len(df)) # Adding noise to data. Without noise, the variance in Y|X, Z is zero, and mcmc fails.\n",
    "#data['dot_graph'] = 'digraph { v ->y;X0-> v;X0-> y;}'\n",
    "\n",
    "treatment= data[\"treatment_name\"][0]\n",
    "outcome = data[\"outcome_name\"][0]\n",
    "common_cause = data[\"common_causes_names\"][0]\n",
    "df"
   ]
  },
  {
   "cell_type": "code",
   "execution_count": 3,
   "metadata": {
    "execution": {
     "iopub.execute_input": "2023-01-20T11:28:44.295675Z",
     "iopub.status.busy": "2023-01-20T11:28:44.295357Z",
     "iopub.status.idle": "2023-01-20T11:28:44.438267Z",
     "shell.execute_reply": "2023-01-20T11:28:44.437736Z"
    }
   },
   "outputs": [
    {
     "data": {
      "text/plain": [
       "<AxesSubplot: xlabel='v0'>"
      ]
     },
     "execution_count": 3,
     "metadata": {},
     "output_type": "execute_result"
    },
    {
     "data": {
      "image/png": "[encoded data removed]",
      "text/plain": [
       "<Figure size 640x480 with 1 Axes>"
      ]
     },
     "metadata": {},
     "output_type": "display_data"
    }
   ],
   "source": [
    "# data['df'] is just a regular pandas.DataFrame\n",
    "df.causal.do(x=treatment,\n",
    "                     variable_types={treatment: 'b', outcome: 'c', common_cause: 'c'},\n",
    "                     outcome=outcome,\n",
    "                     common_causes=[common_cause],\n",
    "                     proceed_when_unidentifiable=True).groupby(treatment).mean().plot(y=outcome, kind='bar')"
   ]
  },
  {
   "cell_type": "code",
   "execution_count": 4,
   "metadata": {
    "execution": {
     "iopub.execute_input": "2023-01-20T11:28:44.440987Z",
     "iopub.status.busy": "2023-01-20T11:28:44.440494Z",
     "iopub.status.idle": "2023-01-20T11:28:44.549325Z",
     "shell.execute_reply": "2023-01-20T11:28:44.548834Z"
    }
   },
   "outputs": [
    {
     "data": {
      "text/plain": [
       "<AxesSubplot: xlabel='v0'>"
      ]
     },
     "execution_count": 4,
     "metadata": {},
     "output_type": "execute_result"
    },
    {
     "data": {
      "image/png": "[encoded data removed]",
      "text/plain": [
       "<Figure size 640x480 with 1 Axes>"
      ]
     },
     "metadata": {},
     "output_type": "display_data"
    }
   ],
   "source": [
    "df.causal.do(x={treatment: 1}, \n",
    "              variable_types={treatment:'b', outcome: 'c', common_cause: 'c'}, \n",
    "              outcome=outcome,\n",
    "              method='weighting', \n",
    "              common_causes=[common_cause],\n",
    "              proceed_when_unidentifiable=True).groupby(treatment).mean().plot(y=outcome, kind='bar')"
   ]
  },
  {
   "cell_type": "code",
   "execution_count": 5,
   "metadata": {
    "execution": {
     "iopub.execute_input": "2023-01-20T11:28:44.552210Z",
     "iopub.status.busy": "2023-01-20T11:28:44.551728Z",
     "iopub.status.idle": "2023-01-20T11:28:44.581774Z",
     "shell.execute_reply": "2023-01-20T11:28:44.581214Z"
    }
   },
   "outputs": [],
   "source": [
    "cdf_1 = df.causal.do(x={treatment: 1}, \n",
    "              variable_types={treatment: 'b', outcome: 'c', common_cause: 'c'}, \n",
    "              outcome=outcome, \n",
    "              dot_graph=data['dot_graph'],\n",
    "              proceed_when_unidentifiable=True)\n",
    "\n",
    "cdf_0 = df.causal.do(x={treatment: 0}, \n",
    "              variable_types={treatment: 'b', outcome: 'c', common_cause: 'c'}, \n",
    "              outcome=outcome, \n",
    "              dot_graph=data['dot_graph'],\n",
    "              proceed_when_unidentifiable=True)\n"
   ]
  },
  {
   "cell_type": "code",
   "execution_count": 6,
   "metadata": {
    "execution": {
     "iopub.execute_input": "2023-01-20T11:28:44.584597Z",
     "iopub.status.busy": "2023-01-20T11:28:44.584271Z",
     "iopub.status.idle": "2023-01-20T11:28:44.593626Z",
     "shell.execute_reply": "2023-01-20T11:28:44.593159Z"
    },
    "scrolled": true
   },
   "outputs": [
    {
     "data": {
      "text/html": [
       "<div>\n",
       "<style scoped>\n",
       "    .dataframe tbody tr th:only-of-type {\n",
       "        vertical-align: middle;\n",
       "    }\n",
       "\n",
       "    .dataframe tbody tr th {\n",
       "        vertical-align: top;\n",
       "    }\n",
       "\n",
       "    .dataframe thead th {\n",
       "        text-align: right;\n",
       "    }\n",
       "</style>\n",
       "<table border=\"1\" class=\"dataframe\">\n",
       "  <thead>\n",
       "    <tr style=\"text-align: right;\">\n",
       "      <th></th>\n",
       "      <th>W0</th>\n",
       "      <th>v0</th>\n",
       "      <th>y</th>\n",
       "      <th>propensity_score</th>\n",
       "      <th>weight</th>\n",
       "    </tr>\n",
       "  </thead>\n",
       "  <tbody>\n",
       "    <tr>\n",
       "      <th>0</th>\n",
       "      <td>0.026302</td>\n",
       "      <td>False</td>\n",
       "      <td>-1.408663</td>\n",
       "      <td>0.487595</td>\n",
       "      <td>2.050884</td>\n",
       "    </tr>\n",
       "    <tr>\n",
       "      <th>1</th>\n",
       "      <td>0.225398</td>\n",
       "      <td>False</td>\n",
       "      <td>-0.165150</td>\n",
       "      <td>0.428151</td>\n",
       "      <td>2.335623</td>\n",
       "    </tr>\n",
       "    <tr>\n",
       "      <th>2</th>\n",
       "      <td>1.425669</td>\n",
       "      <td>False</td>\n",
       "      <td>0.705077</td>\n",
       "      <td>0.149969</td>\n",
       "      <td>6.668035</td>\n",
       "    </tr>\n",
       "    <tr>\n",
       "      <th>3</th>\n",
       "      <td>0.847629</td>\n",
       "      <td>False</td>\n",
       "      <td>-0.498528</td>\n",
       "      <td>0.261395</td>\n",
       "      <td>3.825622</td>\n",
       "    </tr>\n",
       "    <tr>\n",
       "      <th>4</th>\n",
       "      <td>1.316343</td>\n",
       "      <td>False</td>\n",
       "      <td>-0.494151</td>\n",
       "      <td>0.167537</td>\n",
       "      <td>5.968833</td>\n",
       "    </tr>\n",
       "    <tr>\n",
       "      <th>...</th>\n",
       "      <td>...</td>\n",
       "      <td>...</td>\n",
       "      <td>...</td>\n",
       "      <td>...</td>\n",
       "      <td>...</td>\n",
       "    </tr>\n",
       "    <tr>\n",
       "      <th>995</th>\n",
       "      <td>1.395080</td>\n",
       "      <td>False</td>\n",
       "      <td>0.345880</td>\n",
       "      <td>0.154726</td>\n",
       "      <td>6.463037</td>\n",
       "    </tr>\n",
       "    <tr>\n",
       "      <th>996</th>\n",
       "      <td>0.540685</td>\n",
       "      <td>False</td>\n",
       "      <td>-1.926557</td>\n",
       "      <td>0.338701</td>\n",
       "      <td>2.952453</td>\n",
       "    </tr>\n",
       "    <tr>\n",
       "      <th>997</th>\n",
       "      <td>0.674721</td>\n",
       "      <td>False</td>\n",
       "      <td>0.201872</td>\n",
       "      <td>0.303539</td>\n",
       "      <td>3.294468</td>\n",
       "    </tr>\n",
       "    <tr>\n",
       "      <th>998</th>\n",
       "      <td>1.532967</td>\n",
       "      <td>False</td>\n",
       "      <td>0.564494</td>\n",
       "      <td>0.134231</td>\n",
       "      <td>7.449856</td>\n",
       "    </tr>\n",
       "    <tr>\n",
       "      <th>999</th>\n",
       "      <td>0.555101</td>\n",
       "      <td>False</td>\n",
       "      <td>-1.663486</td>\n",
       "      <td>0.334824</td>\n",
       "      <td>2.986645</td>\n",
       "    </tr>\n",
       "  </tbody>\n",
       "</table>\n",
       "<p>1000 rows × 5 columns</p>\n",
       "</div>"
      ],
      "text/plain": [
       "           W0     v0         y  propensity_score    weight\n",
       "0    0.026302  False -1.408663          0.487595  2.050884\n",
       "1    0.225398  False -0.165150          0.428151  2.335623\n",
       "2    1.425669  False  0.705077          0.149969  6.668035\n",
       "3    0.847629  False -0.498528          0.261395  3.825622\n",
       "4    1.316343  False -0.494151          0.167537  5.968833\n",
       "..        ...    ...       ...               ...       ...\n",
       "995  1.395080  False  0.345880          0.154726  6.463037\n",
       "996  0.540685  False -1.926557          0.338701  2.952453\n",
       "997  0.674721  False  0.201872          0.303539  3.294468\n",
       "998  1.532967  False  0.564494          0.134231  7.449856\n",
       "999  0.555101  False -1.663486          0.334824  2.986645\n",
       "\n",
       "[1000 rows x 5 columns]"
      ]
     },
     "execution_count": 6,
     "metadata": {},
     "output_type": "execute_result"
    }
   ],
   "source": [
    "cdf_0"
   ]
  },
  {
   "cell_type": "code",
   "execution_count": 7,
   "metadata": {
    "execution": {
     "iopub.execute_input": "2023-01-20T11:28:44.596048Z",
     "iopub.status.busy": "2023-01-20T11:28:44.595739Z",
     "iopub.status.idle": "2023-01-20T11:28:44.604671Z",
     "shell.execute_reply": "2023-01-20T11:28:44.604223Z"
    }
   },
   "outputs": [
    {
     "data": {
      "text/html": [
       "<div>\n",
       "<style scoped>\n",
       "    .dataframe tbody tr th:only-of-type {\n",
       "        vertical-align: middle;\n",
       "    }\n",
       "\n",
       "    .dataframe tbody tr th {\n",
       "        vertical-align: top;\n",
       "    }\n",
       "\n",
       "    .dataframe thead th {\n",
       "        text-align: right;\n",
       "    }\n",
       "</style>\n",
       "<table border=\"1\" class=\"dataframe\">\n",
       "  <thead>\n",
       "    <tr style=\"text-align: right;\">\n",
       "      <th></th>\n",
       "      <th>W0</th>\n",
       "      <th>v0</th>\n",
       "      <th>y</th>\n",
       "      <th>propensity_score</th>\n",
       "      <th>weight</th>\n",
       "    </tr>\n",
       "  </thead>\n",
       "  <tbody>\n",
       "    <tr>\n",
       "      <th>0</th>\n",
       "      <td>-0.558719</td>\n",
       "      <td>True</td>\n",
       "      <td>3.961232</td>\n",
       "      <td>0.341889</td>\n",
       "      <td>2.924926</td>\n",
       "    </tr>\n",
       "    <tr>\n",
       "      <th>1</th>\n",
       "      <td>0.029472</td>\n",
       "      <td>True</td>\n",
       "      <td>6.673840</td>\n",
       "      <td>0.513359</td>\n",
       "      <td>1.947953</td>\n",
       "    </tr>\n",
       "    <tr>\n",
       "      <th>2</th>\n",
       "      <td>-0.996655</td>\n",
       "      <td>True</td>\n",
       "      <td>3.406222</td>\n",
       "      <td>0.234643</td>\n",
       "      <td>4.261799</td>\n",
       "    </tr>\n",
       "    <tr>\n",
       "      <th>3</th>\n",
       "      <td>0.640986</td>\n",
       "      <td>True</td>\n",
       "      <td>6.218945</td>\n",
       "      <td>0.687805</td>\n",
       "      <td>1.453901</td>\n",
       "    </tr>\n",
       "    <tr>\n",
       "      <th>4</th>\n",
       "      <td>-0.420514</td>\n",
       "      <td>True</td>\n",
       "      <td>5.513620</td>\n",
       "      <td>0.380258</td>\n",
       "      <td>2.629791</td>\n",
       "    </tr>\n",
       "    <tr>\n",
       "      <th>...</th>\n",
       "      <td>...</td>\n",
       "      <td>...</td>\n",
       "      <td>...</td>\n",
       "      <td>...</td>\n",
       "      <td>...</td>\n",
       "    </tr>\n",
       "    <tr>\n",
       "      <th>995</th>\n",
       "      <td>-0.681743</td>\n",
       "      <td>True</td>\n",
       "      <td>3.637122</td>\n",
       "      <td>0.309375</td>\n",
       "      <td>3.232322</td>\n",
       "    </tr>\n",
       "    <tr>\n",
       "      <th>996</th>\n",
       "      <td>-0.079039</td>\n",
       "      <td>True</td>\n",
       "      <td>4.990468</td>\n",
       "      <td>0.480703</td>\n",
       "      <td>2.080286</td>\n",
       "    </tr>\n",
       "    <tr>\n",
       "      <th>997</th>\n",
       "      <td>0.102534</td>\n",
       "      <td>True</td>\n",
       "      <td>5.324461</td>\n",
       "      <td>0.535300</td>\n",
       "      <td>1.868111</td>\n",
       "    </tr>\n",
       "    <tr>\n",
       "      <th>998</th>\n",
       "      <td>-0.390272</td>\n",
       "      <td>True</td>\n",
       "      <td>7.003897</td>\n",
       "      <td>0.388877</td>\n",
       "      <td>2.571505</td>\n",
       "    </tr>\n",
       "    <tr>\n",
       "      <th>999</th>\n",
       "      <td>0.820340</td>\n",
       "      <td>True</td>\n",
       "      <td>4.099594</td>\n",
       "      <td>0.732210</td>\n",
       "      <td>1.365728</td>\n",
       "    </tr>\n",
       "  </tbody>\n",
       "</table>\n",
       "<p>1000 rows × 5 columns</p>\n",
       "</div>"
      ],
      "text/plain": [
       "           W0    v0         y  propensity_score    weight\n",
       "0   -0.558719  True  3.961232          0.341889  2.924926\n",
       "1    0.029472  True  6.673840          0.513359  1.947953\n",
       "2   -0.996655  True  3.406222          0.234643  4.261799\n",
       "3    0.640986  True  6.218945          0.687805  1.453901\n",
       "4   -0.420514  True  5.513620          0.380258  2.629791\n",
       "..        ...   ...       ...               ...       ...\n",
       "995 -0.681743  True  3.637122          0.309375  3.232322\n",
       "996 -0.079039  True  4.990468          0.480703  2.080286\n",
       "997  0.102534  True  5.324461          0.535300  1.868111\n",
       "998 -0.390272  True  7.003897          0.388877  2.571505\n",
       "999  0.820340  True  4.099594          0.732210  1.365728\n",
       "\n",
       "[1000 rows x 5 columns]"
      ]
     },
     "execution_count": 7,
     "metadata": {},
     "output_type": "execute_result"
    }
   ],
   "source": [
    "cdf_1"
   ]
  },
  {
   "cell_type": "markdown",
   "metadata": {},
   "source": [
    "## Comparing the estimate to Linear Regression\n",
    "First, estimating the effect using the causal data frame, and the 95% confidence interval."
   ]
  },
  {
   "cell_type": "code",
   "execution_count": 8,
   "metadata": {
    "execution": {
     "iopub.execute_input": "2023-01-20T11:28:44.607054Z",
     "iopub.status.busy": "2023-01-20T11:28:44.606749Z",
     "iopub.status.idle": "2023-01-20T11:28:44.662709Z",
     "shell.execute_reply": "2023-01-20T11:28:44.662111Z"
    }
   },
   "outputs": [
    {
     "data": {
      "image/png": "[encoded data removed]",
      "text/latex": [
       "$\\displaystyle 5.13893923337606$"
      ],
      "text/plain": [
       "5.138939233376056"
      ]
     },
     "execution_count": 8,
     "metadata": {},
     "output_type": "execute_result"
    }
   ],
   "source": [
    "(cdf_1['y'] - cdf_0['y']).mean()"
   ]
  },
  {
   "cell_type": "code",
   "execution_count": 9,
   "metadata": {
    "execution": {
     "iopub.execute_input": "2023-01-20T11:28:44.665263Z",
     "iopub.status.busy": "2023-01-20T11:28:44.664949Z",
     "iopub.status.idle": "2023-01-20T11:28:44.684092Z",
     "shell.execute_reply": "2023-01-20T11:28:44.683525Z"
    }
   },
   "outputs": [
    {
     "data": {
      "image/png": "[encoded data removed]",
      "text/latex": [
       "$\\displaystyle 0.10117849837736$"
      ],
      "text/plain": [
       "0.10117849837736001"
      ]
     },
     "execution_count": 9,
     "metadata": {},
     "output_type": "execute_result"
    }
   ],
   "source": [
    "1.96*(cdf_1['y'] - cdf_0['y']).std() / np.sqrt(len(df))"
   ]
  },
  {
   "cell_type": "markdown",
   "metadata": {},
   "source": [
    "Comparing to the estimate from OLS."
   ]
  },
  {
   "cell_type": "code",
   "execution_count": 10,
   "metadata": {
    "execution": {
     "iopub.execute_input": "2023-01-20T11:28:44.686662Z",
     "iopub.status.busy": "2023-01-20T11:28:44.686205Z",
     "iopub.status.idle": "2023-01-20T11:28:44.701088Z",
     "shell.execute_reply": "2023-01-20T11:28:44.700508Z"
    }
   },
   "outputs": [
    {
     "data": {
      "text/html": [
       "<table class=\"simpletable\">\n",
       "<caption>OLS Regression Results</caption>\n",
       "<tr>\n",
       "  <th>Dep. Variable:</th>            <td>y</td>        <th>  R-squared (uncentered):</th>      <td>   0.942</td>\n",
       "</tr>\n",
       "<tr>\n",
       "  <th>Model:</th>                   <td>OLS</td>       <th>  Adj. R-squared (uncentered):</th> <td>   0.942</td>\n",
       "</tr>\n",
       "<tr>\n",
       "  <th>Method:</th>             <td>Least Squares</td>  <th>  F-statistic:       </th>          <td>   8153.</td>\n",
       "</tr>\n",
       "<tr>\n",
       "  <th>Date:</th>             <td>Fri, 20 Jan 2023</td> <th>  Prob (F-statistic):</th>           <td>  0.00</td> \n",
       "</tr>\n",
       "<tr>\n",
       "  <th>Time:</th>                 <td>11:28:44</td>     <th>  Log-Likelihood:    </th>          <td> -1450.1</td>\n",
       "</tr>\n",
       "<tr>\n",
       "  <th>No. Observations:</th>      <td>  1000</td>      <th>  AIC:               </th>          <td>   2904.</td>\n",
       "</tr>\n",
       "<tr>\n",
       "  <th>Df Residuals:</th>          <td>   998</td>      <th>  BIC:               </th>          <td>   2914.</td>\n",
       "</tr>\n",
       "<tr>\n",
       "  <th>Df Model:</th>              <td>     2</td>      <th>                     </th>              <td> </td>   \n",
       "</tr>\n",
       "<tr>\n",
       "  <th>Covariance Type:</th>      <td>nonrobust</td>    <th>                     </th>              <td> </td>   \n",
       "</tr>\n",
       "</table>\n",
       "<table class=\"simpletable\">\n",
       "<tr>\n",
       "   <td></td>     <th>coef</th>     <th>std err</th>      <th>t</th>      <th>P>|t|</th>  <th>[0.025</th>    <th>0.975]</th>  \n",
       "</tr>\n",
       "<tr>\n",
       "  <th>x1</th> <td>    0.5561</td> <td>    0.037</td> <td>   15.026</td> <td> 0.000</td> <td>    0.483</td> <td>    0.629</td>\n",
       "</tr>\n",
       "<tr>\n",
       "  <th>x2</th> <td>    4.9788</td> <td>    0.051</td> <td>   97.989</td> <td> 0.000</td> <td>    4.879</td> <td>    5.078</td>\n",
       "</tr>\n",
       "</table>\n",
       "<table class=\"simpletable\">\n",
       "<tr>\n",
       "  <th>Omnibus:</th>       <td> 2.109</td> <th>  Durbin-Watson:     </th> <td>   1.892</td>\n",
       "</tr>\n",
       "<tr>\n",
       "  <th>Prob(Omnibus):</th> <td> 0.348</td> <th>  Jarque-Bera (JB):  </th> <td>   2.176</td>\n",
       "</tr>\n",
       "<tr>\n",
       "  <th>Skew:</th>          <td> 0.096</td> <th>  Prob(JB):          </th> <td>   0.337</td>\n",
       "</tr>\n",
       "<tr>\n",
       "  <th>Kurtosis:</th>      <td> 2.876</td> <th>  Cond. No.          </th> <td>    2.01</td>\n",
       "</tr>\n",
       "</table><br/><br/>Notes:<br/>[1] R² is computed without centering (uncentered) since the model does not contain a constant.<br/>[2] Standard Errors assume that the covariance matrix of the errors is correctly specified."
      ],
      "text/plain": [
       "<class 'statsmodels.iolib.summary.Summary'>\n",
       "\"\"\"\n",
       "                                 OLS Regression Results                                \n",
       "=======================================================================================\n",
       "Dep. Variable:                      y   R-squared (uncentered):                   0.942\n",
       "Model:                            OLS   Adj. R-squared (uncentered):              0.942\n",
       "Method:                 Least Squares   F-statistic:                              8153.\n",
       "Date:                Fri, 20 Jan 2023   Prob (F-statistic):                        0.00\n",
       "Time:                        11:28:44   Log-Likelihood:                         -1450.1\n",
       "No. Observations:                1000   AIC:                                      2904.\n",
       "Df Residuals:                     998   BIC:                                      2914.\n",
       "Df Model:                           2                                                  \n",
       "Covariance Type:            nonrobust                                                  \n",
       "==============================================================================\n",
       "                 coef    std err          t      P>|t|      [0.025      0.975]\n",
       "------------------------------------------------------------------------------\n",
       "x1             0.5561      0.037     15.026      0.000       0.483       0.629\n",
       "x2             4.9788      0.051     97.989      0.000       4.879       5.078\n",
       "==============================================================================\n",
       "Omnibus:                        2.109   Durbin-Watson:                   1.892\n",
       "Prob(Omnibus):                  0.348   Jarque-Bera (JB):                2.176\n",
       "Skew:                           0.096   Prob(JB):                        0.337\n",
       "Kurtosis:                       2.876   Cond. No.                         2.01\n",
       "==============================================================================\n",
       "\n",
       "Notes:\n",
       "[1] R² is computed without centering (uncentered) since the model does not contain a constant.\n",
       "[2] Standard Errors assume that the covariance matrix of the errors is correctly specified.\n",
       "\"\"\""
      ]
     },
     "execution_count": 10,
     "metadata": {},
     "output_type": "execute_result"
    }
   ],
   "source": [
    "model = OLS(np.asarray(df[outcome]), np.asarray(df[[common_cause, treatment]], dtype=np.float64))\n",
    "result = model.fit()\n",
    "result.summary()"
   ]
  }
 ],
 "metadata": {
  "kernelspec": {
   "display_name": "Python 3",
   "language": "python",
   "name": "python3"
  },
  "language_info": {
   "codemirror_mode": {
    "name": "ipython",
    "version": 3
   },
   "file_extension": ".py",
   "mimetype": "text/x-python",
   "name": "python",
   "nbconvert_exporter": "python",
   "pygments_lexer": "ipython3",
   "version": "3.8.10"
  },
  "toc": {
   "base_numbering": 1,
   "nav_menu": {},
   "number_sections": false,
   "sideBar": true,
   "skip_h1_title": true,
   "title_cell": "Table of Contents",
   "title_sidebar": "Contents",
   "toc_cell": false,
   "toc_position": {},
   "toc_section_display": true,
   "toc_window_display": false
  }
 },
 "nbformat": 4,
 "nbformat_minor": 4
}
