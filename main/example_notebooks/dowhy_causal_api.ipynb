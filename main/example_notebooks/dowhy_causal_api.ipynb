{
 "cells": [
  {
   "cell_type": "markdown",
   "metadata": {},
   "source": [
    "# Demo for the DoWhy causal API\n",
    "We show a simple example of adding a causal extension to any dataframe. "
   ]
  },
  {
   "cell_type": "code",
   "execution_count": 1,
   "metadata": {
    "execution": {
     "iopub.execute_input": "2023-05-27T02:16:27.613461Z",
     "iopub.status.busy": "2023-05-27T02:16:27.613085Z",
     "iopub.status.idle": "2023-05-27T02:16:29.263896Z",
     "shell.execute_reply": "2023-05-27T02:16:29.263184Z"
    }
   },
   "outputs": [],
   "source": [
    "import dowhy.datasets\n",
    "import dowhy.api\n",
    "\n",
    "import numpy as np\n",
    "import pandas as pd\n",
    "\n",
    "from statsmodels.api import OLS"
   ]
  },
  {
   "cell_type": "code",
   "execution_count": 2,
   "metadata": {
    "execution": {
     "iopub.execute_input": "2023-05-27T02:16:29.267323Z",
     "iopub.status.busy": "2023-05-27T02:16:29.266803Z",
     "iopub.status.idle": "2023-05-27T02:16:29.312136Z",
     "shell.execute_reply": "2023-05-27T02:16:29.311218Z"
    }
   },
   "outputs": [
    {
     "data": {
      "text/html": [
       "<div>\n",
       "<style scoped>\n",
       "    .dataframe tbody tr th:only-of-type {\n",
       "        vertical-align: middle;\n",
       "    }\n",
       "\n",
       "    .dataframe tbody tr th {\n",
       "        vertical-align: top;\n",
       "    }\n",
       "\n",
       "    .dataframe thead th {\n",
       "        text-align: right;\n",
       "    }\n",
       "</style>\n",
       "<table border=\"1\" class=\"dataframe\">\n",
       "  <thead>\n",
       "    <tr style=\"text-align: right;\">\n",
       "      <th></th>\n",
       "      <th>W0</th>\n",
       "      <th>v0</th>\n",
       "      <th>y</th>\n",
       "    </tr>\n",
       "  </thead>\n",
       "  <tbody>\n",
       "    <tr>\n",
       "      <th>0</th>\n",
       "      <td>-3.358153</td>\n",
       "      <td>False</td>\n",
       "      <td>-9.350810</td>\n",
       "    </tr>\n",
       "    <tr>\n",
       "      <th>1</th>\n",
       "      <td>0.493891</td>\n",
       "      <td>True</td>\n",
       "      <td>5.706644</td>\n",
       "    </tr>\n",
       "    <tr>\n",
       "      <th>2</th>\n",
       "      <td>-1.192573</td>\n",
       "      <td>True</td>\n",
       "      <td>1.018373</td>\n",
       "    </tr>\n",
       "    <tr>\n",
       "      <th>3</th>\n",
       "      <td>-1.157688</td>\n",
       "      <td>False</td>\n",
       "      <td>-3.657911</td>\n",
       "    </tr>\n",
       "    <tr>\n",
       "      <th>4</th>\n",
       "      <td>-0.151085</td>\n",
       "      <td>True</td>\n",
       "      <td>4.307722</td>\n",
       "    </tr>\n",
       "    <tr>\n",
       "      <th>...</th>\n",
       "      <td>...</td>\n",
       "      <td>...</td>\n",
       "      <td>...</td>\n",
       "    </tr>\n",
       "    <tr>\n",
       "      <th>995</th>\n",
       "      <td>-1.117842</td>\n",
       "      <td>False</td>\n",
       "      <td>-3.427411</td>\n",
       "    </tr>\n",
       "    <tr>\n",
       "      <th>996</th>\n",
       "      <td>-0.726809</td>\n",
       "      <td>False</td>\n",
       "      <td>-2.760992</td>\n",
       "    </tr>\n",
       "    <tr>\n",
       "      <th>997</th>\n",
       "      <td>-0.153110</td>\n",
       "      <td>True</td>\n",
       "      <td>3.359161</td>\n",
       "    </tr>\n",
       "    <tr>\n",
       "      <th>998</th>\n",
       "      <td>0.682208</td>\n",
       "      <td>True</td>\n",
       "      <td>6.135730</td>\n",
       "    </tr>\n",
       "    <tr>\n",
       "      <th>999</th>\n",
       "      <td>-1.617235</td>\n",
       "      <td>False</td>\n",
       "      <td>-3.634222</td>\n",
       "    </tr>\n",
       "  </tbody>\n",
       "</table>\n",
       "<p>1000 rows × 3 columns</p>\n",
       "</div>"
      ],
      "text/plain": [
       "           W0     v0         y\n",
       "0   -3.358153  False -9.350810\n",
       "1    0.493891   True  5.706644\n",
       "2   -1.192573   True  1.018373\n",
       "3   -1.157688  False -3.657911\n",
       "4   -0.151085   True  4.307722\n",
       "..        ...    ...       ...\n",
       "995 -1.117842  False -3.427411\n",
       "996 -0.726809  False -2.760992\n",
       "997 -0.153110   True  3.359161\n",
       "998  0.682208   True  6.135730\n",
       "999 -1.617235  False -3.634222\n",
       "\n",
       "[1000 rows x 3 columns]"
      ]
     },
     "execution_count": 2,
     "metadata": {},
     "output_type": "execute_result"
    }
   ],
   "source": [
    "data = dowhy.datasets.linear_dataset(beta=5,\n",
    "        num_common_causes=1,\n",
    "        num_instruments = 0,\n",
    "        num_samples=1000,\n",
    "        treatment_is_binary=True)\n",
    "df = data['df']\n",
    "df['y'] = df['y'] + np.random.normal(size=len(df)) # Adding noise to data. Without noise, the variance in Y|X, Z is zero, and mcmc fails.\n",
    "#data['dot_graph'] = 'digraph { v ->y;X0-> v;X0-> y;}'\n",
    "\n",
    "treatment= data[\"treatment_name\"][0]\n",
    "outcome = data[\"outcome_name\"][0]\n",
    "common_cause = data[\"common_causes_names\"][0]\n",
    "df"
   ]
  },
  {
   "cell_type": "code",
   "execution_count": 3,
   "metadata": {
    "execution": {
     "iopub.execute_input": "2023-05-27T02:16:29.315002Z",
     "iopub.status.busy": "2023-05-27T02:16:29.314749Z",
     "iopub.status.idle": "2023-05-27T02:16:29.467925Z",
     "shell.execute_reply": "2023-05-27T02:16:29.467356Z"
    }
   },
   "outputs": [
    {
     "data": {
      "text/plain": [
       "<AxesSubplot: xlabel='v0'>"
      ]
     },
     "execution_count": 3,
     "metadata": {},
     "output_type": "execute_result"
    },
    {
     "data": {
      "image/png": "[encoded data removed]",
      "text/plain": [
       "<Figure size 640x480 with 1 Axes>"
      ]
     },
     "metadata": {},
     "output_type": "display_data"
    }
   ],
   "source": [
    "# data['df'] is just a regular pandas.DataFrame\n",
    "df.causal.do(x=treatment,\n",
    "                     variable_types={treatment: 'b', outcome: 'c', common_cause: 'c'},\n",
    "                     outcome=outcome,\n",
    "                     common_causes=[common_cause],\n",
    "                     proceed_when_unidentifiable=True).groupby(treatment).mean().plot(y=outcome, kind='bar')"
   ]
  },
  {
   "cell_type": "code",
   "execution_count": 4,
   "metadata": {
    "execution": {
     "iopub.execute_input": "2023-05-27T02:16:29.470893Z",
     "iopub.status.busy": "2023-05-27T02:16:29.470435Z",
     "iopub.status.idle": "2023-05-27T02:16:29.696249Z",
     "shell.execute_reply": "2023-05-27T02:16:29.695509Z"
    }
   },
   "outputs": [
    {
     "data": {
      "text/plain": [
       "<AxesSubplot: xlabel='v0'>"
      ]
     },
     "execution_count": 4,
     "metadata": {},
     "output_type": "execute_result"
    },
    {
     "data": {
      "image/png": "[encoded data removed]",
      "text/plain": [
       "<Figure size 640x480 with 1 Axes>"
      ]
     },
     "metadata": {},
     "output_type": "display_data"
    }
   ],
   "source": [
    "df.causal.do(x={treatment: 1}, \n",
    "              variable_types={treatment:'b', outcome: 'c', common_cause: 'c'}, \n",
    "              outcome=outcome,\n",
    "              method='weighting', \n",
    "              common_causes=[common_cause],\n",
    "              proceed_when_unidentifiable=True).groupby(treatment).mean().plot(y=outcome, kind='bar')"
   ]
  },
  {
   "cell_type": "code",
   "execution_count": 5,
   "metadata": {
    "execution": {
     "iopub.execute_input": "2023-05-27T02:16:29.700000Z",
     "iopub.status.busy": "2023-05-27T02:16:29.699594Z",
     "iopub.status.idle": "2023-05-27T02:16:29.732333Z",
     "shell.execute_reply": "2023-05-27T02:16:29.731339Z"
    }
   },
   "outputs": [],
   "source": [
    "cdf_1 = df.causal.do(x={treatment: 1}, \n",
    "              variable_types={treatment: 'b', outcome: 'c', common_cause: 'c'}, \n",
    "              outcome=outcome, \n",
    "              dot_graph=data['dot_graph'],\n",
    "              proceed_when_unidentifiable=True)\n",
    "\n",
    "cdf_0 = df.causal.do(x={treatment: 0}, \n",
    "              variable_types={treatment: 'b', outcome: 'c', common_cause: 'c'}, \n",
    "              outcome=outcome, \n",
    "              dot_graph=data['dot_graph'],\n",
    "              proceed_when_unidentifiable=True)\n"
   ]
  },
  {
   "cell_type": "code",
   "execution_count": 6,
   "metadata": {
    "execution": {
     "iopub.execute_input": "2023-05-27T02:16:29.735735Z",
     "iopub.status.busy": "2023-05-27T02:16:29.735333Z",
     "iopub.status.idle": "2023-05-27T02:16:29.747465Z",
     "shell.execute_reply": "2023-05-27T02:16:29.746914Z"
    },
    "scrolled": true
   },
   "outputs": [
    {
     "data": {
      "text/html": [
       "<div>\n",
       "<style scoped>\n",
       "    .dataframe tbody tr th:only-of-type {\n",
       "        vertical-align: middle;\n",
       "    }\n",
       "\n",
       "    .dataframe tbody tr th {\n",
       "        vertical-align: top;\n",
       "    }\n",
       "\n",
       "    .dataframe thead th {\n",
       "        text-align: right;\n",
       "    }\n",
       "</style>\n",
       "<table border=\"1\" class=\"dataframe\">\n",
       "  <thead>\n",
       "    <tr style=\"text-align: right;\">\n",
       "      <th></th>\n",
       "      <th>W0</th>\n",
       "      <th>v0</th>\n",
       "      <th>y</th>\n",
       "      <th>propensity_score</th>\n",
       "      <th>weight</th>\n",
       "    </tr>\n",
       "  </thead>\n",
       "  <tbody>\n",
       "    <tr>\n",
       "      <th>0</th>\n",
       "      <td>-0.487008</td>\n",
       "      <td>False</td>\n",
       "      <td>-1.323455</td>\n",
       "      <td>0.686314</td>\n",
       "      <td>1.457060</td>\n",
       "    </tr>\n",
       "    <tr>\n",
       "      <th>1</th>\n",
       "      <td>0.415041</td>\n",
       "      <td>False</td>\n",
       "      <td>0.454410</td>\n",
       "      <td>0.408321</td>\n",
       "      <td>2.449051</td>\n",
       "    </tr>\n",
       "    <tr>\n",
       "      <th>2</th>\n",
       "      <td>-1.619407</td>\n",
       "      <td>False</td>\n",
       "      <td>-3.009626</td>\n",
       "      <td>0.903038</td>\n",
       "      <td>1.107374</td>\n",
       "    </tr>\n",
       "    <tr>\n",
       "      <th>3</th>\n",
       "      <td>0.101335</td>\n",
       "      <td>False</td>\n",
       "      <td>-1.071200</td>\n",
       "      <td>0.507591</td>\n",
       "      <td>1.970091</td>\n",
       "    </tr>\n",
       "    <tr>\n",
       "      <th>4</th>\n",
       "      <td>-2.710337</td>\n",
       "      <td>False</td>\n",
       "      <td>-5.441053</td>\n",
       "      <td>0.974091</td>\n",
       "      <td>1.026599</td>\n",
       "    </tr>\n",
       "    <tr>\n",
       "      <th>...</th>\n",
       "      <td>...</td>\n",
       "      <td>...</td>\n",
       "      <td>...</td>\n",
       "      <td>...</td>\n",
       "      <td>...</td>\n",
       "    </tr>\n",
       "    <tr>\n",
       "      <th>995</th>\n",
       "      <td>-0.077835</td>\n",
       "      <td>False</td>\n",
       "      <td>-0.864763</td>\n",
       "      <td>0.564526</td>\n",
       "      <td>1.771399</td>\n",
       "    </tr>\n",
       "    <tr>\n",
       "      <th>996</th>\n",
       "      <td>-2.207699</td>\n",
       "      <td>False</td>\n",
       "      <td>-6.338976</td>\n",
       "      <td>0.951844</td>\n",
       "      <td>1.050593</td>\n",
       "    </tr>\n",
       "    <tr>\n",
       "      <th>997</th>\n",
       "      <td>-2.832575</td>\n",
       "      <td>False</td>\n",
       "      <td>-7.211358</td>\n",
       "      <td>0.977757</td>\n",
       "      <td>1.022748</td>\n",
       "    </tr>\n",
       "    <tr>\n",
       "      <th>998</th>\n",
       "      <td>-1.994873</td>\n",
       "      <td>False</td>\n",
       "      <td>-4.981812</td>\n",
       "      <td>0.937714</td>\n",
       "      <td>1.066423</td>\n",
       "    </tr>\n",
       "    <tr>\n",
       "      <th>999</th>\n",
       "      <td>-2.592380</td>\n",
       "      <td>False</td>\n",
       "      <td>-6.748753</td>\n",
       "      <td>0.969997</td>\n",
       "      <td>1.030931</td>\n",
       "    </tr>\n",
       "  </tbody>\n",
       "</table>\n",
       "<p>1000 rows × 5 columns</p>\n",
       "</div>"
      ],
      "text/plain": [
       "           W0     v0         y  propensity_score    weight\n",
       "0   -0.487008  False -1.323455          0.686314  1.457060\n",
       "1    0.415041  False  0.454410          0.408321  2.449051\n",
       "2   -1.619407  False -3.009626          0.903038  1.107374\n",
       "3    0.101335  False -1.071200          0.507591  1.970091\n",
       "4   -2.710337  False -5.441053          0.974091  1.026599\n",
       "..        ...    ...       ...               ...       ...\n",
       "995 -0.077835  False -0.864763          0.564526  1.771399\n",
       "996 -2.207699  False -6.338976          0.951844  1.050593\n",
       "997 -2.832575  False -7.211358          0.977757  1.022748\n",
       "998 -1.994873  False -4.981812          0.937714  1.066423\n",
       "999 -2.592380  False -6.748753          0.969997  1.030931\n",
       "\n",
       "[1000 rows x 5 columns]"
      ]
     },
     "execution_count": 6,
     "metadata": {},
     "output_type": "execute_result"
    }
   ],
   "source": [
    "cdf_0"
   ]
  },
  {
   "cell_type": "code",
   "execution_count": 7,
   "metadata": {
    "execution": {
     "iopub.execute_input": "2023-05-27T02:16:29.750380Z",
     "iopub.status.busy": "2023-05-27T02:16:29.750026Z",
     "iopub.status.idle": "2023-05-27T02:16:29.759815Z",
     "shell.execute_reply": "2023-05-27T02:16:29.759300Z"
    }
   },
   "outputs": [
    {
     "data": {
      "text/html": [
       "<div>\n",
       "<style scoped>\n",
       "    .dataframe tbody tr th:only-of-type {\n",
       "        vertical-align: middle;\n",
       "    }\n",
       "\n",
       "    .dataframe tbody tr th {\n",
       "        vertical-align: top;\n",
       "    }\n",
       "\n",
       "    .dataframe thead th {\n",
       "        text-align: right;\n",
       "    }\n",
       "</style>\n",
       "<table border=\"1\" class=\"dataframe\">\n",
       "  <thead>\n",
       "    <tr style=\"text-align: right;\">\n",
       "      <th></th>\n",
       "      <th>W0</th>\n",
       "      <th>v0</th>\n",
       "      <th>y</th>\n",
       "      <th>propensity_score</th>\n",
       "      <th>weight</th>\n",
       "    </tr>\n",
       "  </thead>\n",
       "  <tbody>\n",
       "    <tr>\n",
       "      <th>0</th>\n",
       "      <td>0.269722</td>\n",
       "      <td>True</td>\n",
       "      <td>5.220693</td>\n",
       "      <td>0.546125</td>\n",
       "      <td>1.831083</td>\n",
       "    </tr>\n",
       "    <tr>\n",
       "      <th>1</th>\n",
       "      <td>1.269864</td>\n",
       "      <td>True</td>\n",
       "      <td>7.335224</td>\n",
       "      <td>0.812197</td>\n",
       "      <td>1.231228</td>\n",
       "    </tr>\n",
       "    <tr>\n",
       "      <th>2</th>\n",
       "      <td>-1.578454</td>\n",
       "      <td>True</td>\n",
       "      <td>0.724388</td>\n",
       "      <td>0.101647</td>\n",
       "      <td>9.837956</td>\n",
       "    </tr>\n",
       "    <tr>\n",
       "      <th>3</th>\n",
       "      <td>0.422021</td>\n",
       "      <td>True</td>\n",
       "      <td>7.166095</td>\n",
       "      <td>0.593834</td>\n",
       "      <td>1.683972</td>\n",
       "    </tr>\n",
       "    <tr>\n",
       "      <th>4</th>\n",
       "      <td>-2.354405</td>\n",
       "      <td>True</td>\n",
       "      <td>-0.645385</td>\n",
       "      <td>0.040248</td>\n",
       "      <td>24.845804</td>\n",
       "    </tr>\n",
       "    <tr>\n",
       "      <th>...</th>\n",
       "      <td>...</td>\n",
       "      <td>...</td>\n",
       "      <td>...</td>\n",
       "      <td>...</td>\n",
       "      <td>...</td>\n",
       "    </tr>\n",
       "    <tr>\n",
       "      <th>995</th>\n",
       "      <td>-0.885870</td>\n",
       "      <td>True</td>\n",
       "      <td>3.052518</td>\n",
       "      <td>0.215322</td>\n",
       "      <td>4.644217</td>\n",
       "    </tr>\n",
       "    <tr>\n",
       "      <th>996</th>\n",
       "      <td>-1.421507</td>\n",
       "      <td>True</td>\n",
       "      <td>0.980520</td>\n",
       "      <td>0.121500</td>\n",
       "      <td>8.230424</td>\n",
       "    </tr>\n",
       "    <tr>\n",
       "      <th>997</th>\n",
       "      <td>-1.484017</td>\n",
       "      <td>True</td>\n",
       "      <td>1.381338</td>\n",
       "      <td>0.113221</td>\n",
       "      <td>8.832308</td>\n",
       "    </tr>\n",
       "    <tr>\n",
       "      <th>998</th>\n",
       "      <td>-1.484017</td>\n",
       "      <td>True</td>\n",
       "      <td>1.381338</td>\n",
       "      <td>0.113221</td>\n",
       "      <td>8.832308</td>\n",
       "    </tr>\n",
       "    <tr>\n",
       "      <th>999</th>\n",
       "      <td>-2.257732</td>\n",
       "      <td>True</td>\n",
       "      <td>-0.686742</td>\n",
       "      <td>0.045306</td>\n",
       "      <td>22.072080</td>\n",
       "    </tr>\n",
       "  </tbody>\n",
       "</table>\n",
       "<p>1000 rows × 5 columns</p>\n",
       "</div>"
      ],
      "text/plain": [
       "           W0    v0         y  propensity_score     weight\n",
       "0    0.269722  True  5.220693          0.546125   1.831083\n",
       "1    1.269864  True  7.335224          0.812197   1.231228\n",
       "2   -1.578454  True  0.724388          0.101647   9.837956\n",
       "3    0.422021  True  7.166095          0.593834   1.683972\n",
       "4   -2.354405  True -0.645385          0.040248  24.845804\n",
       "..        ...   ...       ...               ...        ...\n",
       "995 -0.885870  True  3.052518          0.215322   4.644217\n",
       "996 -1.421507  True  0.980520          0.121500   8.230424\n",
       "997 -1.484017  True  1.381338          0.113221   8.832308\n",
       "998 -1.484017  True  1.381338          0.113221   8.832308\n",
       "999 -2.257732  True -0.686742          0.045306  22.072080\n",
       "\n",
       "[1000 rows x 5 columns]"
      ]
     },
     "execution_count": 7,
     "metadata": {},
     "output_type": "execute_result"
    }
   ],
   "source": [
    "cdf_1"
   ]
  },
  {
   "cell_type": "markdown",
   "metadata": {},
   "source": [
    "## Comparing the estimate to Linear Regression\n",
    "First, estimating the effect using the causal data frame, and the 95% confidence interval."
   ]
  },
  {
   "cell_type": "code",
   "execution_count": 8,
   "metadata": {
    "execution": {
     "iopub.execute_input": "2023-05-27T02:16:29.762957Z",
     "iopub.status.busy": "2023-05-27T02:16:29.762615Z",
     "iopub.status.idle": "2023-05-27T02:16:29.821684Z",
     "shell.execute_reply": "2023-05-27T02:16:29.821021Z"
    }
   },
   "outputs": [
    {
     "data": {
      "image/png": "[encoded data removed]",
      "text/latex": [
       "$\\displaystyle 5.5412361717539$"
      ],
      "text/plain": [
       "5.541236171753897"
      ]
     },
     "execution_count": 8,
     "metadata": {},
     "output_type": "execute_result"
    }
   ],
   "source": [
    "(cdf_1['y'] - cdf_0['y']).mean()"
   ]
  },
  {
   "cell_type": "code",
   "execution_count": 9,
   "metadata": {
    "execution": {
     "iopub.execute_input": "2023-05-27T02:16:29.824818Z",
     "iopub.status.busy": "2023-05-27T02:16:29.824252Z",
     "iopub.status.idle": "2023-05-27T02:16:29.846931Z",
     "shell.execute_reply": "2023-05-27T02:16:29.846345Z"
    }
   },
   "outputs": [
    {
     "data": {
      "image/png": "[encoded data removed]",
      "text/latex": [
       "$\\displaystyle 0.217156117307516$"
      ],
      "text/plain": [
       "0.21715611730751608"
      ]
     },
     "execution_count": 9,
     "metadata": {},
     "output_type": "execute_result"
    }
   ],
   "source": [
    "1.96*(cdf_1['y'] - cdf_0['y']).std() / np.sqrt(len(df))"
   ]
  },
  {
   "cell_type": "markdown",
   "metadata": {},
   "source": [
    "Comparing to the estimate from OLS."
   ]
  },
  {
   "cell_type": "code",
   "execution_count": 10,
   "metadata": {
    "execution": {
     "iopub.execute_input": "2023-05-27T02:16:29.849863Z",
     "iopub.status.busy": "2023-05-27T02:16:29.849439Z",
     "iopub.status.idle": "2023-05-27T02:16:29.864998Z",
     "shell.execute_reply": "2023-05-27T02:16:29.864447Z"
    }
   },
   "outputs": [
    {
     "data": {
      "text/html": [
       "<table class=\"simpletable\">\n",
       "<caption>OLS Regression Results</caption>\n",
       "<tr>\n",
       "  <th>Dep. Variable:</th>            <td>y</td>        <th>  R-squared (uncentered):</th>      <td>   0.951</td>\n",
       "</tr>\n",
       "<tr>\n",
       "  <th>Model:</th>                   <td>OLS</td>       <th>  Adj. R-squared (uncentered):</th> <td>   0.951</td>\n",
       "</tr>\n",
       "<tr>\n",
       "  <th>Method:</th>             <td>Least Squares</td>  <th>  F-statistic:       </th>          <td>   9725.</td>\n",
       "</tr>\n",
       "<tr>\n",
       "  <th>Date:</th>             <td>Sat, 27 May 2023</td> <th>  Prob (F-statistic):</th>           <td>  0.00</td> \n",
       "</tr>\n",
       "<tr>\n",
       "  <th>Time:</th>                 <td>02:16:29</td>     <th>  Log-Likelihood:    </th>          <td> -1371.1</td>\n",
       "</tr>\n",
       "<tr>\n",
       "  <th>No. Observations:</th>      <td>  1000</td>      <th>  AIC:               </th>          <td>   2746.</td>\n",
       "</tr>\n",
       "<tr>\n",
       "  <th>Df Residuals:</th>          <td>   998</td>      <th>  BIC:               </th>          <td>   2756.</td>\n",
       "</tr>\n",
       "<tr>\n",
       "  <th>Df Model:</th>              <td>     2</td>      <th>                     </th>              <td> </td>   \n",
       "</tr>\n",
       "<tr>\n",
       "  <th>Covariance Type:</th>      <td>nonrobust</td>    <th>                     </th>              <td> </td>   \n",
       "</tr>\n",
       "</table>\n",
       "<table class=\"simpletable\">\n",
       "<tr>\n",
       "   <td></td>     <th>coef</th>     <th>std err</th>      <th>t</th>      <th>P>|t|</th>  <th>[0.025</th>    <th>0.975]</th>  \n",
       "</tr>\n",
       "<tr>\n",
       "  <th>x1</th> <td>    2.5969</td> <td>    0.022</td> <td>  117.367</td> <td> 0.000</td> <td>    2.554</td> <td>    2.640</td>\n",
       "</tr>\n",
       "<tr>\n",
       "  <th>x2</th> <td>    5.0586</td> <td>    0.060</td> <td>   84.384</td> <td> 0.000</td> <td>    4.941</td> <td>    5.176</td>\n",
       "</tr>\n",
       "</table>\n",
       "<table class=\"simpletable\">\n",
       "<tr>\n",
       "  <th>Omnibus:</th>       <td> 1.158</td> <th>  Durbin-Watson:     </th> <td>   2.135</td>\n",
       "</tr>\n",
       "<tr>\n",
       "  <th>Prob(Omnibus):</th> <td> 0.560</td> <th>  Jarque-Bera (JB):  </th> <td>   1.094</td>\n",
       "</tr>\n",
       "<tr>\n",
       "  <th>Skew:</th>          <td> 0.080</td> <th>  Prob(JB):          </th> <td>   0.579</td>\n",
       "</tr>\n",
       "<tr>\n",
       "  <th>Kurtosis:</th>      <td> 3.027</td> <th>  Cond. No.          </th> <td>    2.72</td>\n",
       "</tr>\n",
       "</table><br/><br/>Notes:<br/>[1] R² is computed without centering (uncentered) since the model does not contain a constant.<br/>[2] Standard Errors assume that the covariance matrix of the errors is correctly specified."
      ],
      "text/plain": [
       "<class 'statsmodels.iolib.summary.Summary'>\n",
       "\"\"\"\n",
       "                                 OLS Regression Results                                \n",
       "=======================================================================================\n",
       "Dep. Variable:                      y   R-squared (uncentered):                   0.951\n",
       "Model:                            OLS   Adj. R-squared (uncentered):              0.951\n",
       "Method:                 Least Squares   F-statistic:                              9725.\n",
       "Date:                Sat, 27 May 2023   Prob (F-statistic):                        0.00\n",
       "Time:                        02:16:29   Log-Likelihood:                         -1371.1\n",
       "No. Observations:                1000   AIC:                                      2746.\n",
       "Df Residuals:                     998   BIC:                                      2756.\n",
       "Df Model:                           2                                                  \n",
       "Covariance Type:            nonrobust                                                  \n",
       "==============================================================================\n",
       "                 coef    std err          t      P>|t|      [0.025      0.975]\n",
       "------------------------------------------------------------------------------\n",
       "x1             2.5969      0.022    117.367      0.000       2.554       2.640\n",
       "x2             5.0586      0.060     84.384      0.000       4.941       5.176\n",
       "==============================================================================\n",
       "Omnibus:                        1.158   Durbin-Watson:                   2.135\n",
       "Prob(Omnibus):                  0.560   Jarque-Bera (JB):                1.094\n",
       "Skew:                           0.080   Prob(JB):                        0.579\n",
       "Kurtosis:                       3.027   Cond. No.                         2.72\n",
       "==============================================================================\n",
       "\n",
       "Notes:\n",
       "[1] R² is computed without centering (uncentered) since the model does not contain a constant.\n",
       "[2] Standard Errors assume that the covariance matrix of the errors is correctly specified.\n",
       "\"\"\""
      ]
     },
     "execution_count": 10,
     "metadata": {},
     "output_type": "execute_result"
    }
   ],
   "source": [
    "model = OLS(np.asarray(df[outcome]), np.asarray(df[[common_cause, treatment]], dtype=np.float64))\n",
    "result = model.fit()\n",
    "result.summary()"
   ]
  }
 ],
 "metadata": {
  "kernelspec": {
   "display_name": "Python 3",
   "language": "python",
   "name": "python3"
  },
  "language_info": {
   "codemirror_mode": {
    "name": "ipython",
    "version": 3
   },
   "file_extension": ".py",
   "mimetype": "text/x-python",
   "name": "python",
   "nbconvert_exporter": "python",
   "pygments_lexer": "ipython3",
   "version": "3.8.10"
  },
  "toc": {
   "base_numbering": 1,
   "nav_menu": {},
   "number_sections": false,
   "sideBar": true,
   "skip_h1_title": true,
   "title_cell": "Table of Contents",
   "title_sidebar": "Contents",
   "toc_cell": false,
   "toc_position": {},
   "toc_section_display": true,
   "toc_window_display": false
  }
 },
 "nbformat": 4,
 "nbformat_minor": 4
}
