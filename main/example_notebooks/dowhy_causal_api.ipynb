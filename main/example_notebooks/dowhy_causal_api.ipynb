{
 "cells": [
  {
   "cell_type": "markdown",
   "metadata": {},
   "source": [
    "# Demo for the DoWhy causal API\n",
    "We show a simple example of adding a causal extension to any dataframe. "
   ]
  },
  {
   "cell_type": "code",
   "execution_count": 1,
   "metadata": {
    "execution": {
     "iopub.execute_input": "2024-01-16T18:01:00.568668Z",
     "iopub.status.busy": "2024-01-16T18:01:00.568487Z",
     "iopub.status.idle": "2024-01-16T18:01:01.969119Z",
     "shell.execute_reply": "2024-01-16T18:01:01.968415Z"
    }
   },
   "outputs": [],
   "source": [
    "import dowhy.datasets\n",
    "import dowhy.api\n",
    "from dowhy.graph import build_graph_from_str\n",
    "\n",
    "import numpy as np\n",
    "import pandas as pd\n",
    "\n",
    "from statsmodels.api import OLS"
   ]
  },
  {
   "cell_type": "code",
   "execution_count": 2,
   "metadata": {
    "execution": {
     "iopub.execute_input": "2024-01-16T18:01:01.972070Z",
     "iopub.status.busy": "2024-01-16T18:01:01.971577Z",
     "iopub.status.idle": "2024-01-16T18:01:02.014621Z",
     "shell.execute_reply": "2024-01-16T18:01:02.014052Z"
    }
   },
   "outputs": [
    {
     "data": {
      "text/html": [
       "<div>\n",
       "<style scoped>\n",
       "    .dataframe tbody tr th:only-of-type {\n",
       "        vertical-align: middle;\n",
       "    }\n",
       "\n",
       "    .dataframe tbody tr th {\n",
       "        vertical-align: top;\n",
       "    }\n",
       "\n",
       "    .dataframe thead th {\n",
       "        text-align: right;\n",
       "    }\n",
       "</style>\n",
       "<table border=\"1\" class=\"dataframe\">\n",
       "  <thead>\n",
       "    <tr style=\"text-align: right;\">\n",
       "      <th></th>\n",
       "      <th>W0</th>\n",
       "      <th>v0</th>\n",
       "      <th>y</th>\n",
       "    </tr>\n",
       "  </thead>\n",
       "  <tbody>\n",
       "    <tr>\n",
       "      <th>0</th>\n",
       "      <td>0.390187</td>\n",
       "      <td>False</td>\n",
       "      <td>-1.647817</td>\n",
       "    </tr>\n",
       "    <tr>\n",
       "      <th>1</th>\n",
       "      <td>-0.147554</td>\n",
       "      <td>False</td>\n",
       "      <td>-1.505448</td>\n",
       "    </tr>\n",
       "    <tr>\n",
       "      <th>2</th>\n",
       "      <td>-0.520621</td>\n",
       "      <td>False</td>\n",
       "      <td>-0.853363</td>\n",
       "    </tr>\n",
       "    <tr>\n",
       "      <th>3</th>\n",
       "      <td>0.414190</td>\n",
       "      <td>True</td>\n",
       "      <td>5.713419</td>\n",
       "    </tr>\n",
       "    <tr>\n",
       "      <th>4</th>\n",
       "      <td>-0.170708</td>\n",
       "      <td>False</td>\n",
       "      <td>-0.062050</td>\n",
       "    </tr>\n",
       "    <tr>\n",
       "      <th>...</th>\n",
       "      <td>...</td>\n",
       "      <td>...</td>\n",
       "      <td>...</td>\n",
       "    </tr>\n",
       "    <tr>\n",
       "      <th>995</th>\n",
       "      <td>-0.325250</td>\n",
       "      <td>False</td>\n",
       "      <td>-0.834980</td>\n",
       "    </tr>\n",
       "    <tr>\n",
       "      <th>996</th>\n",
       "      <td>-3.086294</td>\n",
       "      <td>False</td>\n",
       "      <td>-5.348348</td>\n",
       "    </tr>\n",
       "    <tr>\n",
       "      <th>997</th>\n",
       "      <td>-0.118775</td>\n",
       "      <td>True</td>\n",
       "      <td>5.703203</td>\n",
       "    </tr>\n",
       "    <tr>\n",
       "      <th>998</th>\n",
       "      <td>-0.224990</td>\n",
       "      <td>True</td>\n",
       "      <td>4.552428</td>\n",
       "    </tr>\n",
       "    <tr>\n",
       "      <th>999</th>\n",
       "      <td>-0.378918</td>\n",
       "      <td>False</td>\n",
       "      <td>-1.988741</td>\n",
       "    </tr>\n",
       "  </tbody>\n",
       "</table>\n",
       "<p>1000 rows × 3 columns</p>\n",
       "</div>"
      ],
      "text/plain": [
       "           W0     v0         y\n",
       "0    0.390187  False -1.647817\n",
       "1   -0.147554  False -1.505448\n",
       "2   -0.520621  False -0.853363\n",
       "3    0.414190   True  5.713419\n",
       "4   -0.170708  False -0.062050\n",
       "..        ...    ...       ...\n",
       "995 -0.325250  False -0.834980\n",
       "996 -3.086294  False -5.348348\n",
       "997 -0.118775   True  5.703203\n",
       "998 -0.224990   True  4.552428\n",
       "999 -0.378918  False -1.988741\n",
       "\n",
       "[1000 rows x 3 columns]"
      ]
     },
     "execution_count": 2,
     "metadata": {},
     "output_type": "execute_result"
    }
   ],
   "source": [
    "data = dowhy.datasets.linear_dataset(beta=5,\n",
    "        num_common_causes=1,\n",
    "        num_instruments = 0,\n",
    "        num_samples=1000,\n",
    "        treatment_is_binary=True)\n",
    "df = data['df']\n",
    "df['y'] = df['y'] + np.random.normal(size=len(df)) # Adding noise to data. Without noise, the variance in Y|X, Z is zero, and mcmc fails.\n",
    "nx_graph = build_graph_from_str(data[\"dot_graph\"])\n",
    "\n",
    "treatment= data[\"treatment_name\"][0]\n",
    "outcome = data[\"outcome_name\"][0]\n",
    "common_cause = data[\"common_causes_names\"][0]\n",
    "df"
   ]
  },
  {
   "cell_type": "code",
   "execution_count": 3,
   "metadata": {
    "execution": {
     "iopub.execute_input": "2024-01-16T18:01:02.017147Z",
     "iopub.status.busy": "2024-01-16T18:01:02.016685Z",
     "iopub.status.idle": "2024-01-16T18:01:02.198477Z",
     "shell.execute_reply": "2024-01-16T18:01:02.197880Z"
    },
    "scrolled": true
   },
   "outputs": [
    {
     "data": {
      "text/plain": [
       "<Axes: xlabel='v0'>"
      ]
     },
     "execution_count": 3,
     "metadata": {},
     "output_type": "execute_result"
    },
    {
     "data": {
      "image/png": "[encoded data removed]",
      "text/plain": [
       "<Figure size 640x480 with 1 Axes>"
      ]
     },
     "metadata": {},
     "output_type": "display_data"
    }
   ],
   "source": [
    "# data['df'] is just a regular pandas.DataFrame\n",
    "df.causal.do(x=treatment,\n",
    "             variable_types={treatment: 'b', outcome: 'c', common_cause: 'c'},\n",
    "             outcome=outcome,\n",
    "             common_causes=[common_cause],\n",
    "            ).groupby(treatment).mean().plot(y=outcome, kind='bar')"
   ]
  },
  {
   "cell_type": "code",
   "execution_count": 4,
   "metadata": {
    "execution": {
     "iopub.execute_input": "2024-01-16T18:01:02.200786Z",
     "iopub.status.busy": "2024-01-16T18:01:02.200591Z",
     "iopub.status.idle": "2024-01-16T18:01:02.332660Z",
     "shell.execute_reply": "2024-01-16T18:01:02.332003Z"
    }
   },
   "outputs": [
    {
     "data": {
      "text/plain": [
       "<Axes: xlabel='v0'>"
      ]
     },
     "execution_count": 4,
     "metadata": {},
     "output_type": "execute_result"
    },
    {
     "data": {
      "image/png": "[encoded data removed]",
      "text/plain": [
       "<Figure size 640x480 with 1 Axes>"
      ]
     },
     "metadata": {},
     "output_type": "display_data"
    }
   ],
   "source": [
    "df.causal.do(x={treatment: 1}, \n",
    "              variable_types={treatment:'b', outcome: 'c', common_cause: 'c'}, \n",
    "              outcome=outcome,\n",
    "              method='weighting', \n",
    "              common_causes=[common_cause]\n",
    "              ).groupby(treatment).mean().plot(y=outcome, kind='bar')"
   ]
  },
  {
   "cell_type": "code",
   "execution_count": 5,
   "metadata": {
    "execution": {
     "iopub.execute_input": "2024-01-16T18:01:02.335477Z",
     "iopub.status.busy": "2024-01-16T18:01:02.335245Z",
     "iopub.status.idle": "2024-01-16T18:01:02.356555Z",
     "shell.execute_reply": "2024-01-16T18:01:02.355958Z"
    }
   },
   "outputs": [],
   "source": [
    "cdf_1 = df.causal.do(x={treatment: 1}, \n",
    "              variable_types={treatment: 'b', outcome: 'c', common_cause: 'c'}, \n",
    "              outcome=outcome, \n",
    "              graph=nx_graph\n",
    "              )\n",
    "\n",
    "cdf_0 = df.causal.do(x={treatment: 0}, \n",
    "              variable_types={treatment: 'b', outcome: 'c', common_cause: 'c'}, \n",
    "              outcome=outcome, \n",
    "              graph=nx_graph\n",
    "              )\n"
   ]
  },
  {
   "cell_type": "code",
   "execution_count": 6,
   "metadata": {
    "execution": {
     "iopub.execute_input": "2024-01-16T18:01:02.359050Z",
     "iopub.status.busy": "2024-01-16T18:01:02.358620Z",
     "iopub.status.idle": "2024-01-16T18:01:02.367540Z",
     "shell.execute_reply": "2024-01-16T18:01:02.366963Z"
    },
    "scrolled": true
   },
   "outputs": [
    {
     "data": {
      "text/html": [
       "<div>\n",
       "<style scoped>\n",
       "    .dataframe tbody tr th:only-of-type {\n",
       "        vertical-align: middle;\n",
       "    }\n",
       "\n",
       "    .dataframe tbody tr th {\n",
       "        vertical-align: top;\n",
       "    }\n",
       "\n",
       "    .dataframe thead th {\n",
       "        text-align: right;\n",
       "    }\n",
       "</style>\n",
       "<table border=\"1\" class=\"dataframe\">\n",
       "  <thead>\n",
       "    <tr style=\"text-align: right;\">\n",
       "      <th></th>\n",
       "      <th>W0</th>\n",
       "      <th>v0</th>\n",
       "      <th>y</th>\n",
       "      <th>propensity_score</th>\n",
       "      <th>weight</th>\n",
       "    </tr>\n",
       "  </thead>\n",
       "  <tbody>\n",
       "    <tr>\n",
       "      <th>0</th>\n",
       "      <td>-1.134778</td>\n",
       "      <td>False</td>\n",
       "      <td>-3.421123</td>\n",
       "      <td>0.923168</td>\n",
       "      <td>1.083227</td>\n",
       "    </tr>\n",
       "    <tr>\n",
       "      <th>1</th>\n",
       "      <td>-1.384538</td>\n",
       "      <td>False</td>\n",
       "      <td>-3.388304</td>\n",
       "      <td>0.953558</td>\n",
       "      <td>1.048703</td>\n",
       "    </tr>\n",
       "    <tr>\n",
       "      <th>2</th>\n",
       "      <td>-0.322242</td>\n",
       "      <td>False</td>\n",
       "      <td>-2.291400</td>\n",
       "      <td>0.677655</td>\n",
       "      <td>1.475677</td>\n",
       "    </tr>\n",
       "    <tr>\n",
       "      <th>3</th>\n",
       "      <td>0.011979</td>\n",
       "      <td>False</td>\n",
       "      <td>0.678539</td>\n",
       "      <td>0.506500</td>\n",
       "      <td>1.974335</td>\n",
       "    </tr>\n",
       "    <tr>\n",
       "      <th>4</th>\n",
       "      <td>0.196348</td>\n",
       "      <td>False</td>\n",
       "      <td>1.256967</td>\n",
       "      <td>0.408653</td>\n",
       "      <td>2.447063</td>\n",
       "    </tr>\n",
       "    <tr>\n",
       "      <th>...</th>\n",
       "      <td>...</td>\n",
       "      <td>...</td>\n",
       "      <td>...</td>\n",
       "      <td>...</td>\n",
       "      <td>...</td>\n",
       "    </tr>\n",
       "    <tr>\n",
       "      <th>995</th>\n",
       "      <td>-1.149077</td>\n",
       "      <td>False</td>\n",
       "      <td>-1.226961</td>\n",
       "      <td>0.925315</td>\n",
       "      <td>1.080713</td>\n",
       "    </tr>\n",
       "    <tr>\n",
       "      <th>996</th>\n",
       "      <td>-0.526597</td>\n",
       "      <td>False</td>\n",
       "      <td>-2.360688</td>\n",
       "      <td>0.765205</td>\n",
       "      <td>1.306840</td>\n",
       "    </tr>\n",
       "    <tr>\n",
       "      <th>997</th>\n",
       "      <td>0.215081</td>\n",
       "      <td>False</td>\n",
       "      <td>-0.345697</td>\n",
       "      <td>0.398978</td>\n",
       "      <td>2.506402</td>\n",
       "    </tr>\n",
       "    <tr>\n",
       "      <th>998</th>\n",
       "      <td>0.848237</td>\n",
       "      <td>False</td>\n",
       "      <td>1.325599</td>\n",
       "      <td>0.145784</td>\n",
       "      <td>6.859470</td>\n",
       "    </tr>\n",
       "    <tr>\n",
       "      <th>999</th>\n",
       "      <td>-1.124901</td>\n",
       "      <td>False</td>\n",
       "      <td>-2.201717</td>\n",
       "      <td>0.921651</td>\n",
       "      <td>1.085009</td>\n",
       "    </tr>\n",
       "  </tbody>\n",
       "</table>\n",
       "<p>1000 rows × 5 columns</p>\n",
       "</div>"
      ],
      "text/plain": [
       "           W0     v0         y  propensity_score    weight\n",
       "0   -1.134778  False -3.421123          0.923168  1.083227\n",
       "1   -1.384538  False -3.388304          0.953558  1.048703\n",
       "2   -0.322242  False -2.291400          0.677655  1.475677\n",
       "3    0.011979  False  0.678539          0.506500  1.974335\n",
       "4    0.196348  False  1.256967          0.408653  2.447063\n",
       "..        ...    ...       ...               ...       ...\n",
       "995 -1.149077  False -1.226961          0.925315  1.080713\n",
       "996 -0.526597  False -2.360688          0.765205  1.306840\n",
       "997  0.215081  False -0.345697          0.398978  2.506402\n",
       "998  0.848237  False  1.325599          0.145784  6.859470\n",
       "999 -1.124901  False -2.201717          0.921651  1.085009\n",
       "\n",
       "[1000 rows x 5 columns]"
      ]
     },
     "execution_count": 6,
     "metadata": {},
     "output_type": "execute_result"
    }
   ],
   "source": [
    "cdf_0"
   ]
  },
  {
   "cell_type": "code",
   "execution_count": 7,
   "metadata": {
    "execution": {
     "iopub.execute_input": "2024-01-16T18:01:02.369836Z",
     "iopub.status.busy": "2024-01-16T18:01:02.369417Z",
     "iopub.status.idle": "2024-01-16T18:01:02.377928Z",
     "shell.execute_reply": "2024-01-16T18:01:02.377356Z"
    }
   },
   "outputs": [
    {
     "data": {
      "text/html": [
       "<div>\n",
       "<style scoped>\n",
       "    .dataframe tbody tr th:only-of-type {\n",
       "        vertical-align: middle;\n",
       "    }\n",
       "\n",
       "    .dataframe tbody tr th {\n",
       "        vertical-align: top;\n",
       "    }\n",
       "\n",
       "    .dataframe thead th {\n",
       "        text-align: right;\n",
       "    }\n",
       "</style>\n",
       "<table border=\"1\" class=\"dataframe\">\n",
       "  <thead>\n",
       "    <tr style=\"text-align: right;\">\n",
       "      <th></th>\n",
       "      <th>W0</th>\n",
       "      <th>v0</th>\n",
       "      <th>y</th>\n",
       "      <th>propensity_score</th>\n",
       "      <th>weight</th>\n",
       "    </tr>\n",
       "  </thead>\n",
       "  <tbody>\n",
       "    <tr>\n",
       "      <th>0</th>\n",
       "      <td>-0.085579</td>\n",
       "      <td>True</td>\n",
       "      <td>5.866235</td>\n",
       "      <td>0.441446</td>\n",
       "      <td>2.265281</td>\n",
       "    </tr>\n",
       "    <tr>\n",
       "      <th>1</th>\n",
       "      <td>1.593489</td>\n",
       "      <td>True</td>\n",
       "      <td>9.349613</td>\n",
       "      <td>0.966653</td>\n",
       "      <td>1.034497</td>\n",
       "    </tr>\n",
       "    <tr>\n",
       "      <th>2</th>\n",
       "      <td>0.562513</td>\n",
       "      <td>True</td>\n",
       "      <td>6.406271</td>\n",
       "      <td>0.760438</td>\n",
       "      <td>1.315031</td>\n",
       "    </tr>\n",
       "    <tr>\n",
       "      <th>3</th>\n",
       "      <td>0.629654</td>\n",
       "      <td>True</td>\n",
       "      <td>5.960494</td>\n",
       "      <td>0.785688</td>\n",
       "      <td>1.272770</td>\n",
       "    </tr>\n",
       "    <tr>\n",
       "      <th>4</th>\n",
       "      <td>1.190431</td>\n",
       "      <td>True</td>\n",
       "      <td>6.821978</td>\n",
       "      <td>0.924295</td>\n",
       "      <td>1.081906</td>\n",
       "    </tr>\n",
       "    <tr>\n",
       "      <th>...</th>\n",
       "      <td>...</td>\n",
       "      <td>...</td>\n",
       "      <td>...</td>\n",
       "      <td>...</td>\n",
       "      <td>...</td>\n",
       "    </tr>\n",
       "    <tr>\n",
       "      <th>995</th>\n",
       "      <td>0.601161</td>\n",
       "      <td>True</td>\n",
       "      <td>5.912739</td>\n",
       "      <td>0.775215</td>\n",
       "      <td>1.289964</td>\n",
       "    </tr>\n",
       "    <tr>\n",
       "      <th>996</th>\n",
       "      <td>0.471905</td>\n",
       "      <td>True</td>\n",
       "      <td>6.050559</td>\n",
       "      <td>0.723262</td>\n",
       "      <td>1.382625</td>\n",
       "    </tr>\n",
       "    <tr>\n",
       "      <th>997</th>\n",
       "      <td>-0.442840</td>\n",
       "      <td>True</td>\n",
       "      <td>4.412772</td>\n",
       "      <td>0.268599</td>\n",
       "      <td>3.723021</td>\n",
       "    </tr>\n",
       "    <tr>\n",
       "      <th>998</th>\n",
       "      <td>0.975010</td>\n",
       "      <td>True</td>\n",
       "      <td>6.885725</td>\n",
       "      <td>0.884936</td>\n",
       "      <td>1.130025</td>\n",
       "    </tr>\n",
       "    <tr>\n",
       "      <th>999</th>\n",
       "      <td>0.141145</td>\n",
       "      <td>True</td>\n",
       "      <td>5.096297</td>\n",
       "      <td>0.562449</td>\n",
       "      <td>1.777940</td>\n",
       "    </tr>\n",
       "  </tbody>\n",
       "</table>\n",
       "<p>1000 rows × 5 columns</p>\n",
       "</div>"
      ],
      "text/plain": [
       "           W0    v0         y  propensity_score    weight\n",
       "0   -0.085579  True  5.866235          0.441446  2.265281\n",
       "1    1.593489  True  9.349613          0.966653  1.034497\n",
       "2    0.562513  True  6.406271          0.760438  1.315031\n",
       "3    0.629654  True  5.960494          0.785688  1.272770\n",
       "4    1.190431  True  6.821978          0.924295  1.081906\n",
       "..        ...   ...       ...               ...       ...\n",
       "995  0.601161  True  5.912739          0.775215  1.289964\n",
       "996  0.471905  True  6.050559          0.723262  1.382625\n",
       "997 -0.442840  True  4.412772          0.268599  3.723021\n",
       "998  0.975010  True  6.885725          0.884936  1.130025\n",
       "999  0.141145  True  5.096297          0.562449  1.777940\n",
       "\n",
       "[1000 rows x 5 columns]"
      ]
     },
     "execution_count": 7,
     "metadata": {},
     "output_type": "execute_result"
    }
   ],
   "source": [
    "cdf_1"
   ]
  },
  {
   "cell_type": "markdown",
   "metadata": {},
   "source": [
    "## Comparing the estimate to Linear Regression\n",
    "First, estimating the effect using the causal data frame, and the 95% confidence interval."
   ]
  },
  {
   "cell_type": "code",
   "execution_count": 8,
   "metadata": {
    "execution": {
     "iopub.execute_input": "2024-01-16T18:01:02.380180Z",
     "iopub.status.busy": "2024-01-16T18:01:02.379733Z",
     "iopub.status.idle": "2024-01-16T18:01:02.425184Z",
     "shell.execute_reply": "2024-01-16T18:01:02.424635Z"
    }
   },
   "outputs": [
    {
     "data": {
      "image/png": "[encoded data removed]",
      "text/latex": [
       "$\\displaystyle 5.59954796515778$"
      ],
      "text/plain": [
       "5.599547965157782"
      ]
     },
     "execution_count": 8,
     "metadata": {},
     "output_type": "execute_result"
    }
   ],
   "source": [
    "(cdf_1['y'] - cdf_0['y']).mean()"
   ]
  },
  {
   "cell_type": "code",
   "execution_count": 9,
   "metadata": {
    "execution": {
     "iopub.execute_input": "2024-01-16T18:01:02.427404Z",
     "iopub.status.busy": "2024-01-16T18:01:02.427219Z",
     "iopub.status.idle": "2024-01-16T18:01:02.443044Z",
     "shell.execute_reply": "2024-01-16T18:01:02.442549Z"
    }
   },
   "outputs": [
    {
     "data": {
      "image/png": "[encoded data removed]",
      "text/latex": [
       "$\\displaystyle 0.172503936388818$"
      ],
      "text/plain": [
       "0.17250393638881828"
      ]
     },
     "execution_count": 9,
     "metadata": {},
     "output_type": "execute_result"
    }
   ],
   "source": [
    "1.96*(cdf_1['y'] - cdf_0['y']).std() / np.sqrt(len(df))"
   ]
  },
  {
   "cell_type": "markdown",
   "metadata": {},
   "source": [
    "Comparing to the estimate from OLS."
   ]
  },
  {
   "cell_type": "code",
   "execution_count": 10,
   "metadata": {
    "execution": {
     "iopub.execute_input": "2024-01-16T18:01:02.445187Z",
     "iopub.status.busy": "2024-01-16T18:01:02.444988Z",
     "iopub.status.idle": "2024-01-16T18:01:02.461096Z",
     "shell.execute_reply": "2024-01-16T18:01:02.460598Z"
    }
   },
   "outputs": [
    {
     "data": {
      "text/html": [
       "<table class=\"simpletable\">\n",
       "<caption>OLS Regression Results</caption>\n",
       "<tr>\n",
       "  <th>Dep. Variable:</th>            <td>y</td>        <th>  R-squared (uncentered):</th>      <td>   0.954</td> \n",
       "</tr>\n",
       "<tr>\n",
       "  <th>Model:</th>                   <td>OLS</td>       <th>  Adj. R-squared (uncentered):</th> <td>   0.953</td> \n",
       "</tr>\n",
       "<tr>\n",
       "  <th>Method:</th>             <td>Least Squares</td>  <th>  F-statistic:       </th>          <td>1.024e+04</td>\n",
       "</tr>\n",
       "<tr>\n",
       "  <th>Date:</th>             <td>Tue, 16 Jan 2024</td> <th>  Prob (F-statistic):</th>           <td>  0.00</td>  \n",
       "</tr>\n",
       "<tr>\n",
       "  <th>Time:</th>                 <td>18:01:02</td>     <th>  Log-Likelihood:    </th>          <td> -1401.6</td> \n",
       "</tr>\n",
       "<tr>\n",
       "  <th>No. Observations:</th>      <td>  1000</td>      <th>  AIC:               </th>          <td>   2807.</td> \n",
       "</tr>\n",
       "<tr>\n",
       "  <th>Df Residuals:</th>          <td>   998</td>      <th>  BIC:               </th>          <td>   2817.</td> \n",
       "</tr>\n",
       "<tr>\n",
       "  <th>Df Model:</th>              <td>     2</td>      <th>                     </th>              <td> </td>    \n",
       "</tr>\n",
       "<tr>\n",
       "  <th>Covariance Type:</th>      <td>nonrobust</td>    <th>                     </th>              <td> </td>    \n",
       "</tr>\n",
       "</table>\n",
       "<table class=\"simpletable\">\n",
       "<tr>\n",
       "   <td></td>     <th>coef</th>     <th>std err</th>      <th>t</th>      <th>P>|t|</th>  <th>[0.025</th>    <th>0.975]</th>  \n",
       "</tr>\n",
       "<tr>\n",
       "  <th>x1</th> <td>    1.9387</td> <td>    0.031</td> <td>   61.613</td> <td> 0.000</td> <td>    1.877</td> <td>    2.000</td>\n",
       "</tr>\n",
       "<tr>\n",
       "  <th>x2</th> <td>    5.0721</td> <td>    0.050</td> <td>  100.562</td> <td> 0.000</td> <td>    4.973</td> <td>    5.171</td>\n",
       "</tr>\n",
       "</table>\n",
       "<table class=\"simpletable\">\n",
       "<tr>\n",
       "  <th>Omnibus:</th>       <td> 1.408</td> <th>  Durbin-Watson:     </th> <td>   2.010</td>\n",
       "</tr>\n",
       "<tr>\n",
       "  <th>Prob(Omnibus):</th> <td> 0.495</td> <th>  Jarque-Bera (JB):  </th> <td>   1.288</td>\n",
       "</tr>\n",
       "<tr>\n",
       "  <th>Skew:</th>          <td>-0.080</td> <th>  Prob(JB):          </th> <td>   0.525</td>\n",
       "</tr>\n",
       "<tr>\n",
       "  <th>Kurtosis:</th>      <td> 3.074</td> <th>  Cond. No.          </th> <td>    1.82</td>\n",
       "</tr>\n",
       "</table><br/><br/>Notes:<br/>[1] R² is computed without centering (uncentered) since the model does not contain a constant.<br/>[2] Standard Errors assume that the covariance matrix of the errors is correctly specified."
      ],
      "text/latex": [
       "\\begin{center}\n",
       "\\begin{tabular}{lclc}\n",
       "\\toprule\n",
       "\\textbf{Dep. Variable:}    &        y         & \\textbf{  R-squared (uncentered):}      &     0.954   \\\\\n",
       "\\textbf{Model:}            &       OLS        & \\textbf{  Adj. R-squared (uncentered):} &     0.953   \\\\\n",
       "\\textbf{Method:}           &  Least Squares   & \\textbf{  F-statistic:       }          & 1.024e+04   \\\\\n",
       "\\textbf{Date:}             & Tue, 16 Jan 2024 & \\textbf{  Prob (F-statistic):}          &     0.00    \\\\\n",
       "\\textbf{Time:}             &     18:01:02     & \\textbf{  Log-Likelihood:    }          &   -1401.6   \\\\\n",
       "\\textbf{No. Observations:} &        1000      & \\textbf{  AIC:               }          &     2807.   \\\\\n",
       "\\textbf{Df Residuals:}     &         998      & \\textbf{  BIC:               }          &     2817.   \\\\\n",
       "\\textbf{Df Model:}         &           2      & \\textbf{                     }          &             \\\\\n",
       "\\textbf{Covariance Type:}  &    nonrobust     & \\textbf{                     }          &             \\\\\n",
       "\\bottomrule\n",
       "\\end{tabular}\n",
       "\\begin{tabular}{lcccccc}\n",
       "            & \\textbf{coef} & \\textbf{std err} & \\textbf{t} & \\textbf{P$> |$t$|$} & \\textbf{[0.025} & \\textbf{0.975]}  \\\\\n",
       "\\midrule\n",
       "\\textbf{x1} &       1.9387  &        0.031     &    61.613  &         0.000        &        1.877    &        2.000     \\\\\n",
       "\\textbf{x2} &       5.0721  &        0.050     &   100.562  &         0.000        &        4.973    &        5.171     \\\\\n",
       "\\bottomrule\n",
       "\\end{tabular}\n",
       "\\begin{tabular}{lclc}\n",
       "\\textbf{Omnibus:}       &  1.408 & \\textbf{  Durbin-Watson:     } &    2.010  \\\\\n",
       "\\textbf{Prob(Omnibus):} &  0.495 & \\textbf{  Jarque-Bera (JB):  } &    1.288  \\\\\n",
       "\\textbf{Skew:}          & -0.080 & \\textbf{  Prob(JB):          } &    0.525  \\\\\n",
       "\\textbf{Kurtosis:}      &  3.074 & \\textbf{  Cond. No.          } &     1.82  \\\\\n",
       "\\bottomrule\n",
       "\\end{tabular}\n",
       "%\\caption{OLS Regression Results}\n",
       "\\end{center}\n",
       "\n",
       "Notes: \\newline\n",
       " [1] R² is computed without centering (uncentered) since the model does not contain a constant. \\newline\n",
       " [2] Standard Errors assume that the covariance matrix of the errors is correctly specified."
      ],
      "text/plain": [
       "<class 'statsmodels.iolib.summary.Summary'>\n",
       "\"\"\"\n",
       "                                 OLS Regression Results                                \n",
       "=======================================================================================\n",
       "Dep. Variable:                      y   R-squared (uncentered):                   0.954\n",
       "Model:                            OLS   Adj. R-squared (uncentered):              0.953\n",
       "Method:                 Least Squares   F-statistic:                          1.024e+04\n",
       "Date:                Tue, 16 Jan 2024   Prob (F-statistic):                        0.00\n",
       "Time:                        18:01:02   Log-Likelihood:                         -1401.6\n",
       "No. Observations:                1000   AIC:                                      2807.\n",
       "Df Residuals:                     998   BIC:                                      2817.\n",
       "Df Model:                           2                                                  \n",
       "Covariance Type:            nonrobust                                                  \n",
       "==============================================================================\n",
       "                 coef    std err          t      P>|t|      [0.025      0.975]\n",
       "------------------------------------------------------------------------------\n",
       "x1             1.9387      0.031     61.613      0.000       1.877       2.000\n",
       "x2             5.0721      0.050    100.562      0.000       4.973       5.171\n",
       "==============================================================================\n",
       "Omnibus:                        1.408   Durbin-Watson:                   2.010\n",
       "Prob(Omnibus):                  0.495   Jarque-Bera (JB):                1.288\n",
       "Skew:                          -0.080   Prob(JB):                        0.525\n",
       "Kurtosis:                       3.074   Cond. No.                         1.82\n",
       "==============================================================================\n",
       "\n",
       "Notes:\n",
       "[1] R² is computed without centering (uncentered) since the model does not contain a constant.\n",
       "[2] Standard Errors assume that the covariance matrix of the errors is correctly specified.\n",
       "\"\"\""
      ]
     },
     "execution_count": 10,
     "metadata": {},
     "output_type": "execute_result"
    }
   ],
   "source": [
    "model = OLS(np.asarray(df[outcome]), np.asarray(df[[common_cause, treatment]], dtype=np.float64))\n",
    "result = model.fit()\n",
    "result.summary()"
   ]
  }
 ],
 "metadata": {
  "kernelspec": {
   "display_name": "Python 3 (ipykernel)",
   "language": "python",
   "name": "python3"
  },
  "language_info": {
   "codemirror_mode": {
    "name": "ipython",
    "version": 3
   },
   "file_extension": ".py",
   "mimetype": "text/x-python",
   "name": "python",
   "nbconvert_exporter": "python",
   "pygments_lexer": "ipython3",
   "version": "3.8.10"
  },
  "toc": {
   "base_numbering": 1,
   "nav_menu": {},
   "number_sections": false,
   "sideBar": true,
   "skip_h1_title": true,
   "title_cell": "Table of Contents",
   "title_sidebar": "Contents",
   "toc_cell": false,
   "toc_position": {},
   "toc_section_display": true,
   "toc_window_display": false
  }
 },
 "nbformat": 4,
 "nbformat_minor": 4
}
