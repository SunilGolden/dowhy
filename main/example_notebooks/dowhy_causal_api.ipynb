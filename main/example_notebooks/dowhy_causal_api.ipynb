{
 "cells": [
  {
   "cell_type": "markdown",
   "metadata": {},
   "source": [
    "# Demo for the DoWhy causal API\n",
    "We show a simple example of adding a causal extension to any dataframe. "
   ]
  },
  {
   "cell_type": "code",
   "execution_count": 1,
   "metadata": {
    "execution": {
     "iopub.execute_input": "2024-10-17T05:12:21.955289Z",
     "iopub.status.busy": "2024-10-17T05:12:21.954889Z",
     "iopub.status.idle": "2024-10-17T05:12:23.332486Z",
     "shell.execute_reply": "2024-10-17T05:12:23.331888Z"
    }
   },
   "outputs": [],
   "source": [
    "import dowhy.datasets\n",
    "import dowhy.api\n",
    "from dowhy.graph import build_graph_from_str\n",
    "\n",
    "import numpy as np\n",
    "import pandas as pd\n",
    "\n",
    "from statsmodels.api import OLS"
   ]
  },
  {
   "cell_type": "code",
   "execution_count": 2,
   "metadata": {
    "execution": {
     "iopub.execute_input": "2024-10-17T05:12:23.335400Z",
     "iopub.status.busy": "2024-10-17T05:12:23.334854Z",
     "iopub.status.idle": "2024-10-17T05:12:23.371088Z",
     "shell.execute_reply": "2024-10-17T05:12:23.370529Z"
    }
   },
   "outputs": [
    {
     "data": {
      "text/html": [
       "<div>\n",
       "<style scoped>\n",
       "    .dataframe tbody tr th:only-of-type {\n",
       "        vertical-align: middle;\n",
       "    }\n",
       "\n",
       "    .dataframe tbody tr th {\n",
       "        vertical-align: top;\n",
       "    }\n",
       "\n",
       "    .dataframe thead th {\n",
       "        text-align: right;\n",
       "    }\n",
       "</style>\n",
       "<table border=\"1\" class=\"dataframe\">\n",
       "  <thead>\n",
       "    <tr style=\"text-align: right;\">\n",
       "      <th></th>\n",
       "      <th>W0</th>\n",
       "      <th>v0</th>\n",
       "      <th>y</th>\n",
       "    </tr>\n",
       "  </thead>\n",
       "  <tbody>\n",
       "    <tr>\n",
       "      <th>0</th>\n",
       "      <td>0.156160</td>\n",
       "      <td>True</td>\n",
       "      <td>4.047372</td>\n",
       "    </tr>\n",
       "    <tr>\n",
       "      <th>1</th>\n",
       "      <td>-0.447614</td>\n",
       "      <td>False</td>\n",
       "      <td>0.032276</td>\n",
       "    </tr>\n",
       "    <tr>\n",
       "      <th>2</th>\n",
       "      <td>-0.821482</td>\n",
       "      <td>False</td>\n",
       "      <td>0.203869</td>\n",
       "    </tr>\n",
       "    <tr>\n",
       "      <th>3</th>\n",
       "      <td>0.973658</td>\n",
       "      <td>False</td>\n",
       "      <td>1.800085</td>\n",
       "    </tr>\n",
       "    <tr>\n",
       "      <th>4</th>\n",
       "      <td>0.146276</td>\n",
       "      <td>True</td>\n",
       "      <td>4.320628</td>\n",
       "    </tr>\n",
       "    <tr>\n",
       "      <th>...</th>\n",
       "      <td>...</td>\n",
       "      <td>...</td>\n",
       "      <td>...</td>\n",
       "    </tr>\n",
       "    <tr>\n",
       "      <th>995</th>\n",
       "      <td>0.282168</td>\n",
       "      <td>True</td>\n",
       "      <td>2.875123</td>\n",
       "    </tr>\n",
       "    <tr>\n",
       "      <th>996</th>\n",
       "      <td>-0.626894</td>\n",
       "      <td>False</td>\n",
       "      <td>-1.019845</td>\n",
       "    </tr>\n",
       "    <tr>\n",
       "      <th>997</th>\n",
       "      <td>-0.947320</td>\n",
       "      <td>True</td>\n",
       "      <td>5.106905</td>\n",
       "    </tr>\n",
       "    <tr>\n",
       "      <th>998</th>\n",
       "      <td>-0.814325</td>\n",
       "      <td>True</td>\n",
       "      <td>3.572179</td>\n",
       "    </tr>\n",
       "    <tr>\n",
       "      <th>999</th>\n",
       "      <td>-0.244558</td>\n",
       "      <td>False</td>\n",
       "      <td>-0.730027</td>\n",
       "    </tr>\n",
       "  </tbody>\n",
       "</table>\n",
       "<p>1000 rows × 3 columns</p>\n",
       "</div>"
      ],
      "text/plain": [
       "           W0     v0         y\n",
       "0    0.156160   True  4.047372\n",
       "1   -0.447614  False  0.032276\n",
       "2   -0.821482  False  0.203869\n",
       "3    0.973658  False  1.800085\n",
       "4    0.146276   True  4.320628\n",
       "..        ...    ...       ...\n",
       "995  0.282168   True  2.875123\n",
       "996 -0.626894  False -1.019845\n",
       "997 -0.947320   True  5.106905\n",
       "998 -0.814325   True  3.572179\n",
       "999 -0.244558  False -0.730027\n",
       "\n",
       "[1000 rows x 3 columns]"
      ]
     },
     "execution_count": 2,
     "metadata": {},
     "output_type": "execute_result"
    }
   ],
   "source": [
    "data = dowhy.datasets.linear_dataset(beta=5,\n",
    "        num_common_causes=1,\n",
    "        num_instruments = 0,\n",
    "        num_samples=1000,\n",
    "        treatment_is_binary=True)\n",
    "df = data['df']\n",
    "df['y'] = df['y'] + np.random.normal(size=len(df)) # Adding noise to data. Without noise, the variance in Y|X, Z is zero, and mcmc fails.\n",
    "nx_graph = build_graph_from_str(data[\"dot_graph\"])\n",
    "\n",
    "treatment= data[\"treatment_name\"][0]\n",
    "outcome = data[\"outcome_name\"][0]\n",
    "common_cause = data[\"common_causes_names\"][0]\n",
    "df"
   ]
  },
  {
   "cell_type": "code",
   "execution_count": 3,
   "metadata": {
    "execution": {
     "iopub.execute_input": "2024-10-17T05:12:23.373319Z",
     "iopub.status.busy": "2024-10-17T05:12:23.372964Z",
     "iopub.status.idle": "2024-10-17T05:12:23.549873Z",
     "shell.execute_reply": "2024-10-17T05:12:23.549353Z"
    },
    "scrolled": true
   },
   "outputs": [
    {
     "data": {
      "text/plain": [
       "<Axes: xlabel='v0'>"
      ]
     },
     "execution_count": 3,
     "metadata": {},
     "output_type": "execute_result"
    },
    {
     "data": {
      "image/png": "[encoded data removed]",
      "text/plain": [
       "<Figure size 640x480 with 1 Axes>"
      ]
     },
     "metadata": {},
     "output_type": "display_data"
    }
   ],
   "source": [
    "# data['df'] is just a regular pandas.DataFrame\n",
    "df.causal.do(x=treatment,\n",
    "             variable_types={treatment: 'b', outcome: 'c', common_cause: 'c'},\n",
    "             outcome=outcome,\n",
    "             common_causes=[common_cause],\n",
    "            ).groupby(treatment).mean().plot(y=outcome, kind='bar')"
   ]
  },
  {
   "cell_type": "code",
   "execution_count": 4,
   "metadata": {
    "execution": {
     "iopub.execute_input": "2024-10-17T05:12:23.552318Z",
     "iopub.status.busy": "2024-10-17T05:12:23.551918Z",
     "iopub.status.idle": "2024-10-17T05:12:23.683382Z",
     "shell.execute_reply": "2024-10-17T05:12:23.682806Z"
    }
   },
   "outputs": [
    {
     "data": {
      "text/plain": [
       "<Axes: xlabel='v0'>"
      ]
     },
     "execution_count": 4,
     "metadata": {},
     "output_type": "execute_result"
    },
    {
     "data": {
      "image/png": "[encoded data removed]",
      "text/plain": [
       "<Figure size 640x480 with 1 Axes>"
      ]
     },
     "metadata": {},
     "output_type": "display_data"
    }
   ],
   "source": [
    "df.causal.do(x={treatment: 1}, \n",
    "              variable_types={treatment:'b', outcome: 'c', common_cause: 'c'}, \n",
    "              outcome=outcome,\n",
    "              method='weighting', \n",
    "              common_causes=[common_cause]\n",
    "              ).groupby(treatment).mean().plot(y=outcome, kind='bar')"
   ]
  },
  {
   "cell_type": "code",
   "execution_count": 5,
   "metadata": {
    "execution": {
     "iopub.execute_input": "2024-10-17T05:12:23.686147Z",
     "iopub.status.busy": "2024-10-17T05:12:23.685937Z",
     "iopub.status.idle": "2024-10-17T05:12:23.705184Z",
     "shell.execute_reply": "2024-10-17T05:12:23.704713Z"
    }
   },
   "outputs": [],
   "source": [
    "cdf_1 = df.causal.do(x={treatment: 1}, \n",
    "              variable_types={treatment: 'b', outcome: 'c', common_cause: 'c'}, \n",
    "              outcome=outcome, \n",
    "              graph=nx_graph\n",
    "              )\n",
    "\n",
    "cdf_0 = df.causal.do(x={treatment: 0}, \n",
    "              variable_types={treatment: 'b', outcome: 'c', common_cause: 'c'}, \n",
    "              outcome=outcome, \n",
    "              graph=nx_graph\n",
    "              )\n"
   ]
  },
  {
   "cell_type": "code",
   "execution_count": 6,
   "metadata": {
    "execution": {
     "iopub.execute_input": "2024-10-17T05:12:23.707500Z",
     "iopub.status.busy": "2024-10-17T05:12:23.707126Z",
     "iopub.status.idle": "2024-10-17T05:12:23.715685Z",
     "shell.execute_reply": "2024-10-17T05:12:23.715085Z"
    },
    "scrolled": true
   },
   "outputs": [
    {
     "data": {
      "text/html": [
       "<div>\n",
       "<style scoped>\n",
       "    .dataframe tbody tr th:only-of-type {\n",
       "        vertical-align: middle;\n",
       "    }\n",
       "\n",
       "    .dataframe tbody tr th {\n",
       "        vertical-align: top;\n",
       "    }\n",
       "\n",
       "    .dataframe thead th {\n",
       "        text-align: right;\n",
       "    }\n",
       "</style>\n",
       "<table border=\"1\" class=\"dataframe\">\n",
       "  <thead>\n",
       "    <tr style=\"text-align: right;\">\n",
       "      <th></th>\n",
       "      <th>W0</th>\n",
       "      <th>v0</th>\n",
       "      <th>y</th>\n",
       "      <th>propensity_score</th>\n",
       "      <th>weight</th>\n",
       "    </tr>\n",
       "  </thead>\n",
       "  <tbody>\n",
       "    <tr>\n",
       "      <th>0</th>\n",
       "      <td>0.391606</td>\n",
       "      <td>False</td>\n",
       "      <td>1.129875</td>\n",
       "      <td>0.407403</td>\n",
       "      <td>2.454575</td>\n",
       "    </tr>\n",
       "    <tr>\n",
       "      <th>1</th>\n",
       "      <td>-1.593072</td>\n",
       "      <td>False</td>\n",
       "      <td>-0.917150</td>\n",
       "      <td>0.786366</td>\n",
       "      <td>1.271673</td>\n",
       "    </tr>\n",
       "    <tr>\n",
       "      <th>2</th>\n",
       "      <td>0.544808</td>\n",
       "      <td>False</td>\n",
       "      <td>-0.914567</td>\n",
       "      <td>0.376547</td>\n",
       "      <td>2.655714</td>\n",
       "    </tr>\n",
       "    <tr>\n",
       "      <th>3</th>\n",
       "      <td>0.600456</td>\n",
       "      <td>False</td>\n",
       "      <td>0.564157</td>\n",
       "      <td>0.365568</td>\n",
       "      <td>2.735469</td>\n",
       "    </tr>\n",
       "    <tr>\n",
       "      <th>4</th>\n",
       "      <td>-0.872761</td>\n",
       "      <td>False</td>\n",
       "      <td>-0.574416</td>\n",
       "      <td>0.666900</td>\n",
       "      <td>1.499475</td>\n",
       "    </tr>\n",
       "    <tr>\n",
       "      <th>...</th>\n",
       "      <td>...</td>\n",
       "      <td>...</td>\n",
       "      <td>...</td>\n",
       "      <td>...</td>\n",
       "      <td>...</td>\n",
       "    </tr>\n",
       "    <tr>\n",
       "      <th>995</th>\n",
       "      <td>-0.942630</td>\n",
       "      <td>False</td>\n",
       "      <td>-1.479088</td>\n",
       "      <td>0.679890</td>\n",
       "      <td>1.470826</td>\n",
       "    </tr>\n",
       "    <tr>\n",
       "      <th>996</th>\n",
       "      <td>-1.623136</td>\n",
       "      <td>False</td>\n",
       "      <td>-0.875413</td>\n",
       "      <td>0.790605</td>\n",
       "      <td>1.264855</td>\n",
       "    </tr>\n",
       "    <tr>\n",
       "      <th>997</th>\n",
       "      <td>0.446944</td>\n",
       "      <td>False</td>\n",
       "      <td>-1.890738</td>\n",
       "      <td>0.396159</td>\n",
       "      <td>2.524242</td>\n",
       "    </tr>\n",
       "    <tr>\n",
       "      <th>998</th>\n",
       "      <td>0.010357</td>\n",
       "      <td>False</td>\n",
       "      <td>0.646523</td>\n",
       "      <td>0.486903</td>\n",
       "      <td>2.053798</td>\n",
       "    </tr>\n",
       "    <tr>\n",
       "      <th>999</th>\n",
       "      <td>-0.009403</td>\n",
       "      <td>False</td>\n",
       "      <td>-1.757967</td>\n",
       "      <td>0.491077</td>\n",
       "      <td>2.036340</td>\n",
       "    </tr>\n",
       "  </tbody>\n",
       "</table>\n",
       "<p>1000 rows × 5 columns</p>\n",
       "</div>"
      ],
      "text/plain": [
       "           W0     v0         y  propensity_score    weight\n",
       "0    0.391606  False  1.129875          0.407403  2.454575\n",
       "1   -1.593072  False -0.917150          0.786366  1.271673\n",
       "2    0.544808  False -0.914567          0.376547  2.655714\n",
       "3    0.600456  False  0.564157          0.365568  2.735469\n",
       "4   -0.872761  False -0.574416          0.666900  1.499475\n",
       "..        ...    ...       ...               ...       ...\n",
       "995 -0.942630  False -1.479088          0.679890  1.470826\n",
       "996 -1.623136  False -0.875413          0.790605  1.264855\n",
       "997  0.446944  False -1.890738          0.396159  2.524242\n",
       "998  0.010357  False  0.646523          0.486903  2.053798\n",
       "999 -0.009403  False -1.757967          0.491077  2.036340\n",
       "\n",
       "[1000 rows x 5 columns]"
      ]
     },
     "execution_count": 6,
     "metadata": {},
     "output_type": "execute_result"
    }
   ],
   "source": [
    "cdf_0"
   ]
  },
  {
   "cell_type": "code",
   "execution_count": 7,
   "metadata": {
    "execution": {
     "iopub.execute_input": "2024-10-17T05:12:23.718028Z",
     "iopub.status.busy": "2024-10-17T05:12:23.717562Z",
     "iopub.status.idle": "2024-10-17T05:12:23.726153Z",
     "shell.execute_reply": "2024-10-17T05:12:23.725580Z"
    }
   },
   "outputs": [
    {
     "data": {
      "text/html": [
       "<div>\n",
       "<style scoped>\n",
       "    .dataframe tbody tr th:only-of-type {\n",
       "        vertical-align: middle;\n",
       "    }\n",
       "\n",
       "    .dataframe tbody tr th {\n",
       "        vertical-align: top;\n",
       "    }\n",
       "\n",
       "    .dataframe thead th {\n",
       "        text-align: right;\n",
       "    }\n",
       "</style>\n",
       "<table border=\"1\" class=\"dataframe\">\n",
       "  <thead>\n",
       "    <tr style=\"text-align: right;\">\n",
       "      <th></th>\n",
       "      <th>W0</th>\n",
       "      <th>v0</th>\n",
       "      <th>y</th>\n",
       "      <th>propensity_score</th>\n",
       "      <th>weight</th>\n",
       "    </tr>\n",
       "  </thead>\n",
       "  <tbody>\n",
       "    <tr>\n",
       "      <th>0</th>\n",
       "      <td>-0.629680</td>\n",
       "      <td>True</td>\n",
       "      <td>3.701628</td>\n",
       "      <td>0.380201</td>\n",
       "      <td>2.630187</td>\n",
       "    </tr>\n",
       "    <tr>\n",
       "      <th>1</th>\n",
       "      <td>-1.076560</td>\n",
       "      <td>True</td>\n",
       "      <td>4.441415</td>\n",
       "      <td>0.295985</td>\n",
       "      <td>3.378554</td>\n",
       "    </tr>\n",
       "    <tr>\n",
       "      <th>2</th>\n",
       "      <td>-0.108554</td>\n",
       "      <td>True</td>\n",
       "      <td>5.198207</td>\n",
       "      <td>0.487970</td>\n",
       "      <td>2.049305</td>\n",
       "    </tr>\n",
       "    <tr>\n",
       "      <th>3</th>\n",
       "      <td>-0.123301</td>\n",
       "      <td>True</td>\n",
       "      <td>6.421968</td>\n",
       "      <td>0.484856</td>\n",
       "      <td>2.062469</td>\n",
       "    </tr>\n",
       "    <tr>\n",
       "      <th>4</th>\n",
       "      <td>-2.198825</td>\n",
       "      <td>True</td>\n",
       "      <td>3.983008</td>\n",
       "      <td>0.140003</td>\n",
       "      <td>7.142728</td>\n",
       "    </tr>\n",
       "    <tr>\n",
       "      <th>...</th>\n",
       "      <td>...</td>\n",
       "      <td>...</td>\n",
       "      <td>...</td>\n",
       "      <td>...</td>\n",
       "      <td>...</td>\n",
       "    </tr>\n",
       "    <tr>\n",
       "      <th>995</th>\n",
       "      <td>0.383466</td>\n",
       "      <td>True</td>\n",
       "      <td>6.126609</td>\n",
       "      <td>0.590935</td>\n",
       "      <td>1.692234</td>\n",
       "    </tr>\n",
       "    <tr>\n",
       "      <th>996</th>\n",
       "      <td>0.028366</td>\n",
       "      <td>True</td>\n",
       "      <td>4.380743</td>\n",
       "      <td>0.516900</td>\n",
       "      <td>1.934610</td>\n",
       "    </tr>\n",
       "    <tr>\n",
       "      <th>997</th>\n",
       "      <td>0.180009</td>\n",
       "      <td>True</td>\n",
       "      <td>3.708194</td>\n",
       "      <td>0.548801</td>\n",
       "      <td>1.822155</td>\n",
       "    </tr>\n",
       "    <tr>\n",
       "      <th>998</th>\n",
       "      <td>-0.394956</td>\n",
       "      <td>True</td>\n",
       "      <td>6.505974</td>\n",
       "      <td>0.427941</td>\n",
       "      <td>2.336769</td>\n",
       "    </tr>\n",
       "    <tr>\n",
       "      <th>999</th>\n",
       "      <td>-0.767962</td>\n",
       "      <td>True</td>\n",
       "      <td>4.497154</td>\n",
       "      <td>0.353064</td>\n",
       "      <td>2.832350</td>\n",
       "    </tr>\n",
       "  </tbody>\n",
       "</table>\n",
       "<p>1000 rows × 5 columns</p>\n",
       "</div>"
      ],
      "text/plain": [
       "           W0    v0         y  propensity_score    weight\n",
       "0   -0.629680  True  3.701628          0.380201  2.630187\n",
       "1   -1.076560  True  4.441415          0.295985  3.378554\n",
       "2   -0.108554  True  5.198207          0.487970  2.049305\n",
       "3   -0.123301  True  6.421968          0.484856  2.062469\n",
       "4   -2.198825  True  3.983008          0.140003  7.142728\n",
       "..        ...   ...       ...               ...       ...\n",
       "995  0.383466  True  6.126609          0.590935  1.692234\n",
       "996  0.028366  True  4.380743          0.516900  1.934610\n",
       "997  0.180009  True  3.708194          0.548801  1.822155\n",
       "998 -0.394956  True  6.505974          0.427941  2.336769\n",
       "999 -0.767962  True  4.497154          0.353064  2.832350\n",
       "\n",
       "[1000 rows x 5 columns]"
      ]
     },
     "execution_count": 7,
     "metadata": {},
     "output_type": "execute_result"
    }
   ],
   "source": [
    "cdf_1"
   ]
  },
  {
   "cell_type": "markdown",
   "metadata": {},
   "source": [
    "## Comparing the estimate to Linear Regression\n",
    "First, estimating the effect using the causal data frame, and the 95% confidence interval."
   ]
  },
  {
   "cell_type": "code",
   "execution_count": 8,
   "metadata": {
    "execution": {
     "iopub.execute_input": "2024-10-17T05:12:23.728543Z",
     "iopub.status.busy": "2024-10-17T05:12:23.728144Z",
     "iopub.status.idle": "2024-10-17T05:12:23.772995Z",
     "shell.execute_reply": "2024-10-17T05:12:23.772405Z"
    }
   },
   "outputs": [
    {
     "data": {
      "image/png": "[encoded data removed]",
      "text/latex": [
       "$\\displaystyle 4.90834237159187$"
      ],
      "text/plain": [
       "4.908342371591873"
      ]
     },
     "execution_count": 8,
     "metadata": {},
     "output_type": "execute_result"
    }
   ],
   "source": [
    "(cdf_1['y'] - cdf_0['y']).mean()"
   ]
  },
  {
   "cell_type": "code",
   "execution_count": 9,
   "metadata": {
    "execution": {
     "iopub.execute_input": "2024-10-17T05:12:23.775159Z",
     "iopub.status.busy": "2024-10-17T05:12:23.774838Z",
     "iopub.status.idle": "2024-10-17T05:12:23.790189Z",
     "shell.execute_reply": "2024-10-17T05:12:23.789642Z"
    }
   },
   "outputs": [
    {
     "data": {
      "image/png": "[encoded data removed]",
      "text/latex": [
       "$\\displaystyle 0.100315772267678$"
      ],
      "text/plain": [
       "0.10031577226767824"
      ]
     },
     "execution_count": 9,
     "metadata": {},
     "output_type": "execute_result"
    }
   ],
   "source": [
    "1.96*(cdf_1['y'] - cdf_0['y']).std() / np.sqrt(len(df))"
   ]
  },
  {
   "cell_type": "markdown",
   "metadata": {},
   "source": [
    "Comparing to the estimate from OLS."
   ]
  },
  {
   "cell_type": "code",
   "execution_count": 10,
   "metadata": {
    "execution": {
     "iopub.execute_input": "2024-10-17T05:12:23.792453Z",
     "iopub.status.busy": "2024-10-17T05:12:23.792133Z",
     "iopub.status.idle": "2024-10-17T05:12:23.808239Z",
     "shell.execute_reply": "2024-10-17T05:12:23.807790Z"
    }
   },
   "outputs": [
    {
     "data": {
      "text/html": [
       "<table class=\"simpletable\">\n",
       "<caption>OLS Regression Results</caption>\n",
       "<tr>\n",
       "  <th>Dep. Variable:</th>            <td>y</td>        <th>  R-squared (uncentered):</th>      <td>   0.912</td>\n",
       "</tr>\n",
       "<tr>\n",
       "  <th>Model:</th>                   <td>OLS</td>       <th>  Adj. R-squared (uncentered):</th> <td>   0.912</td>\n",
       "</tr>\n",
       "<tr>\n",
       "  <th>Method:</th>             <td>Least Squares</td>  <th>  F-statistic:       </th>          <td>   5194.</td>\n",
       "</tr>\n",
       "<tr>\n",
       "  <th>Date:</th>             <td>Thu, 17 Oct 2024</td> <th>  Prob (F-statistic):</th>           <td>  0.00</td> \n",
       "</tr>\n",
       "<tr>\n",
       "  <th>Time:</th>                 <td>05:12:23</td>     <th>  Log-Likelihood:    </th>          <td> -1410.2</td>\n",
       "</tr>\n",
       "<tr>\n",
       "  <th>No. Observations:</th>      <td>  1000</td>      <th>  AIC:               </th>          <td>   2824.</td>\n",
       "</tr>\n",
       "<tr>\n",
       "  <th>Df Residuals:</th>          <td>   998</td>      <th>  BIC:               </th>          <td>   2834.</td>\n",
       "</tr>\n",
       "<tr>\n",
       "  <th>Df Model:</th>              <td>     2</td>      <th>                     </th>              <td> </td>   \n",
       "</tr>\n",
       "<tr>\n",
       "  <th>Covariance Type:</th>      <td>nonrobust</td>    <th>                     </th>              <td> </td>   \n",
       "</tr>\n",
       "</table>\n",
       "<table class=\"simpletable\">\n",
       "<tr>\n",
       "   <td></td>     <th>coef</th>     <th>std err</th>      <th>t</th>      <th>P>|t|</th>  <th>[0.025</th>    <th>0.975]</th>  \n",
       "</tr>\n",
       "<tr>\n",
       "  <th>x1</th> <td>    0.4289</td> <td>    0.029</td> <td>   14.801</td> <td> 0.000</td> <td>    0.372</td> <td>    0.486</td>\n",
       "</tr>\n",
       "<tr>\n",
       "  <th>x2</th> <td>    4.9365</td> <td>    0.049</td> <td>  101.533</td> <td> 0.000</td> <td>    4.841</td> <td>    5.032</td>\n",
       "</tr>\n",
       "</table>\n",
       "<table class=\"simpletable\">\n",
       "<tr>\n",
       "  <th>Omnibus:</th>       <td> 0.680</td> <th>  Durbin-Watson:     </th> <td>   1.983</td>\n",
       "</tr>\n",
       "<tr>\n",
       "  <th>Prob(Omnibus):</th> <td> 0.712</td> <th>  Jarque-Bera (JB):  </th> <td>   0.753</td>\n",
       "</tr>\n",
       "<tr>\n",
       "  <th>Skew:</th>          <td>-0.004</td> <th>  Prob(JB):          </th> <td>   0.686</td>\n",
       "</tr>\n",
       "<tr>\n",
       "  <th>Kurtosis:</th>      <td> 2.866</td> <th>  Cond. No.          </th> <td>    1.68</td>\n",
       "</tr>\n",
       "</table><br/><br/>Notes:<br/>[1] R² is computed without centering (uncentered) since the model does not contain a constant.<br/>[2] Standard Errors assume that the covariance matrix of the errors is correctly specified."
      ],
      "text/latex": [
       "\\begin{center}\n",
       "\\begin{tabular}{lclc}\n",
       "\\toprule\n",
       "\\textbf{Dep. Variable:}    &        y         & \\textbf{  R-squared (uncentered):}      &     0.912   \\\\\n",
       "\\textbf{Model:}            &       OLS        & \\textbf{  Adj. R-squared (uncentered):} &     0.912   \\\\\n",
       "\\textbf{Method:}           &  Least Squares   & \\textbf{  F-statistic:       }          &     5194.   \\\\\n",
       "\\textbf{Date:}             & Thu, 17 Oct 2024 & \\textbf{  Prob (F-statistic):}          &     0.00    \\\\\n",
       "\\textbf{Time:}             &     05:12:23     & \\textbf{  Log-Likelihood:    }          &   -1410.2   \\\\\n",
       "\\textbf{No. Observations:} &        1000      & \\textbf{  AIC:               }          &     2824.   \\\\\n",
       "\\textbf{Df Residuals:}     &         998      & \\textbf{  BIC:               }          &     2834.   \\\\\n",
       "\\textbf{Df Model:}         &           2      & \\textbf{                     }          &             \\\\\n",
       "\\textbf{Covariance Type:}  &    nonrobust     & \\textbf{                     }          &             \\\\\n",
       "\\bottomrule\n",
       "\\end{tabular}\n",
       "\\begin{tabular}{lcccccc}\n",
       "            & \\textbf{coef} & \\textbf{std err} & \\textbf{t} & \\textbf{P$> |$t$|$} & \\textbf{[0.025} & \\textbf{0.975]}  \\\\\n",
       "\\midrule\n",
       "\\textbf{x1} &       0.4289  &        0.029     &    14.801  &         0.000        &        0.372    &        0.486     \\\\\n",
       "\\textbf{x2} &       4.9365  &        0.049     &   101.533  &         0.000        &        4.841    &        5.032     \\\\\n",
       "\\bottomrule\n",
       "\\end{tabular}\n",
       "\\begin{tabular}{lclc}\n",
       "\\textbf{Omnibus:}       &  0.680 & \\textbf{  Durbin-Watson:     } &    1.983  \\\\\n",
       "\\textbf{Prob(Omnibus):} &  0.712 & \\textbf{  Jarque-Bera (JB):  } &    0.753  \\\\\n",
       "\\textbf{Skew:}          & -0.004 & \\textbf{  Prob(JB):          } &    0.686  \\\\\n",
       "\\textbf{Kurtosis:}      &  2.866 & \\textbf{  Cond. No.          } &     1.68  \\\\\n",
       "\\bottomrule\n",
       "\\end{tabular}\n",
       "%\\caption{OLS Regression Results}\n",
       "\\end{center}\n",
       "\n",
       "Notes: \\newline\n",
       " [1] R² is computed without centering (uncentered) since the model does not contain a constant. \\newline\n",
       " [2] Standard Errors assume that the covariance matrix of the errors is correctly specified."
      ],
      "text/plain": [
       "<class 'statsmodels.iolib.summary.Summary'>\n",
       "\"\"\"\n",
       "                                 OLS Regression Results                                \n",
       "=======================================================================================\n",
       "Dep. Variable:                      y   R-squared (uncentered):                   0.912\n",
       "Model:                            OLS   Adj. R-squared (uncentered):              0.912\n",
       "Method:                 Least Squares   F-statistic:                              5194.\n",
       "Date:                Thu, 17 Oct 2024   Prob (F-statistic):                        0.00\n",
       "Time:                        05:12:23   Log-Likelihood:                         -1410.2\n",
       "No. Observations:                1000   AIC:                                      2824.\n",
       "Df Residuals:                     998   BIC:                                      2834.\n",
       "Df Model:                           2                                                  \n",
       "Covariance Type:            nonrobust                                                  \n",
       "==============================================================================\n",
       "                 coef    std err          t      P>|t|      [0.025      0.975]\n",
       "------------------------------------------------------------------------------\n",
       "x1             0.4289      0.029     14.801      0.000       0.372       0.486\n",
       "x2             4.9365      0.049    101.533      0.000       4.841       5.032\n",
       "==============================================================================\n",
       "Omnibus:                        0.680   Durbin-Watson:                   1.983\n",
       "Prob(Omnibus):                  0.712   Jarque-Bera (JB):                0.753\n",
       "Skew:                          -0.004   Prob(JB):                        0.686\n",
       "Kurtosis:                       2.866   Cond. No.                         1.68\n",
       "==============================================================================\n",
       "\n",
       "Notes:\n",
       "[1] R² is computed without centering (uncentered) since the model does not contain a constant.\n",
       "[2] Standard Errors assume that the covariance matrix of the errors is correctly specified.\n",
       "\"\"\""
      ]
     },
     "execution_count": 10,
     "metadata": {},
     "output_type": "execute_result"
    }
   ],
   "source": [
    "model = OLS(np.asarray(df[outcome]), np.asarray(df[[common_cause, treatment]], dtype=np.float64))\n",
    "result = model.fit()\n",
    "result.summary()"
   ]
  }
 ],
 "metadata": {
  "kernelspec": {
   "display_name": "Python 3 (ipykernel)",
   "language": "python",
   "name": "python3"
  },
  "language_info": {
   "codemirror_mode": {
    "name": "ipython",
    "version": 3
   },
   "file_extension": ".py",
   "mimetype": "text/x-python",
   "name": "python",
   "nbconvert_exporter": "python",
   "pygments_lexer": "ipython3",
   "version": "3.8.10"
  },
  "toc": {
   "base_numbering": 1,
   "nav_menu": {},
   "number_sections": false,
   "sideBar": true,
   "skip_h1_title": true,
   "title_cell": "Table of Contents",
   "title_sidebar": "Contents",
   "toc_cell": false,
   "toc_position": {},
   "toc_section_display": true,
   "toc_window_display": false
  }
 },
 "nbformat": 4,
 "nbformat_minor": 4
}
