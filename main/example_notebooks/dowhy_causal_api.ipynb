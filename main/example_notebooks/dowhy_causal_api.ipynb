{
 "cells": [
  {
   "cell_type": "markdown",
   "metadata": {},
   "source": [
    "# Demo for the DoWhy causal API\n",
    "We show a simple example of adding a causal extension to any dataframe. "
   ]
  },
  {
   "cell_type": "code",
   "execution_count": 1,
   "metadata": {
    "execution": {
     "iopub.execute_input": "2023-11-16T14:48:16.275651Z",
     "iopub.status.busy": "2023-11-16T14:48:16.275249Z",
     "iopub.status.idle": "2023-11-16T14:48:17.623304Z",
     "shell.execute_reply": "2023-11-16T14:48:17.622630Z"
    }
   },
   "outputs": [],
   "source": [
    "import dowhy.datasets\n",
    "import dowhy.api\n",
    "\n",
    "import numpy as np\n",
    "import pandas as pd\n",
    "\n",
    "from statsmodels.api import OLS"
   ]
  },
  {
   "cell_type": "code",
   "execution_count": 2,
   "metadata": {
    "execution": {
     "iopub.execute_input": "2023-11-16T14:48:17.626431Z",
     "iopub.status.busy": "2023-11-16T14:48:17.625755Z",
     "iopub.status.idle": "2023-11-16T14:48:17.658539Z",
     "shell.execute_reply": "2023-11-16T14:48:17.657891Z"
    }
   },
   "outputs": [
    {
     "data": {
      "text/html": [
       "<div>\n",
       "<style scoped>\n",
       "    .dataframe tbody tr th:only-of-type {\n",
       "        vertical-align: middle;\n",
       "    }\n",
       "\n",
       "    .dataframe tbody tr th {\n",
       "        vertical-align: top;\n",
       "    }\n",
       "\n",
       "    .dataframe thead th {\n",
       "        text-align: right;\n",
       "    }\n",
       "</style>\n",
       "<table border=\"1\" class=\"dataframe\">\n",
       "  <thead>\n",
       "    <tr style=\"text-align: right;\">\n",
       "      <th></th>\n",
       "      <th>W0</th>\n",
       "      <th>v0</th>\n",
       "      <th>y</th>\n",
       "    </tr>\n",
       "  </thead>\n",
       "  <tbody>\n",
       "    <tr>\n",
       "      <th>0</th>\n",
       "      <td>0.360359</td>\n",
       "      <td>False</td>\n",
       "      <td>2.576930</td>\n",
       "    </tr>\n",
       "    <tr>\n",
       "      <th>1</th>\n",
       "      <td>1.694849</td>\n",
       "      <td>True</td>\n",
       "      <td>7.311721</td>\n",
       "    </tr>\n",
       "    <tr>\n",
       "      <th>2</th>\n",
       "      <td>1.241285</td>\n",
       "      <td>True</td>\n",
       "      <td>5.746840</td>\n",
       "    </tr>\n",
       "    <tr>\n",
       "      <th>3</th>\n",
       "      <td>1.394706</td>\n",
       "      <td>True</td>\n",
       "      <td>3.917642</td>\n",
       "    </tr>\n",
       "    <tr>\n",
       "      <th>4</th>\n",
       "      <td>-0.724665</td>\n",
       "      <td>False</td>\n",
       "      <td>-0.445722</td>\n",
       "    </tr>\n",
       "    <tr>\n",
       "      <th>...</th>\n",
       "      <td>...</td>\n",
       "      <td>...</td>\n",
       "      <td>...</td>\n",
       "    </tr>\n",
       "    <tr>\n",
       "      <th>995</th>\n",
       "      <td>0.340596</td>\n",
       "      <td>False</td>\n",
       "      <td>-0.440617</td>\n",
       "    </tr>\n",
       "    <tr>\n",
       "      <th>996</th>\n",
       "      <td>-1.250012</td>\n",
       "      <td>True</td>\n",
       "      <td>6.344027</td>\n",
       "    </tr>\n",
       "    <tr>\n",
       "      <th>997</th>\n",
       "      <td>0.895968</td>\n",
       "      <td>False</td>\n",
       "      <td>-0.855862</td>\n",
       "    </tr>\n",
       "    <tr>\n",
       "      <th>998</th>\n",
       "      <td>-0.161019</td>\n",
       "      <td>False</td>\n",
       "      <td>-0.490099</td>\n",
       "    </tr>\n",
       "    <tr>\n",
       "      <th>999</th>\n",
       "      <td>0.526893</td>\n",
       "      <td>False</td>\n",
       "      <td>-0.132615</td>\n",
       "    </tr>\n",
       "  </tbody>\n",
       "</table>\n",
       "<p>1000 rows × 3 columns</p>\n",
       "</div>"
      ],
      "text/plain": [
       "           W0     v0         y\n",
       "0    0.360359  False  2.576930\n",
       "1    1.694849   True  7.311721\n",
       "2    1.241285   True  5.746840\n",
       "3    1.394706   True  3.917642\n",
       "4   -0.724665  False -0.445722\n",
       "..        ...    ...       ...\n",
       "995  0.340596  False -0.440617\n",
       "996 -1.250012   True  6.344027\n",
       "997  0.895968  False -0.855862\n",
       "998 -0.161019  False -0.490099\n",
       "999  0.526893  False -0.132615\n",
       "\n",
       "[1000 rows x 3 columns]"
      ]
     },
     "execution_count": 2,
     "metadata": {},
     "output_type": "execute_result"
    }
   ],
   "source": [
    "data = dowhy.datasets.linear_dataset(beta=5,\n",
    "        num_common_causes=1,\n",
    "        num_instruments = 0,\n",
    "        num_samples=1000,\n",
    "        treatment_is_binary=True)\n",
    "df = data['df']\n",
    "df['y'] = df['y'] + np.random.normal(size=len(df)) # Adding noise to data. Without noise, the variance in Y|X, Z is zero, and mcmc fails.\n",
    "#data['dot_graph'] = 'digraph { v ->y;X0-> v;X0-> y;}'\n",
    "\n",
    "treatment= data[\"treatment_name\"][0]\n",
    "outcome = data[\"outcome_name\"][0]\n",
    "common_cause = data[\"common_causes_names\"][0]\n",
    "df"
   ]
  },
  {
   "cell_type": "code",
   "execution_count": 3,
   "metadata": {
    "execution": {
     "iopub.execute_input": "2023-11-16T14:48:17.660669Z",
     "iopub.status.busy": "2023-11-16T14:48:17.660475Z",
     "iopub.status.idle": "2023-11-16T14:48:17.840891Z",
     "shell.execute_reply": "2023-11-16T14:48:17.840258Z"
    }
   },
   "outputs": [
    {
     "data": {
      "text/plain": [
       "<Axes: xlabel='v0'>"
      ]
     },
     "execution_count": 3,
     "metadata": {},
     "output_type": "execute_result"
    },
    {
     "data": {
      "image/png": "[encoded data removed]",
      "text/plain": [
       "<Figure size 640x480 with 1 Axes>"
      ]
     },
     "metadata": {},
     "output_type": "display_data"
    }
   ],
   "source": [
    "# data['df'] is just a regular pandas.DataFrame\n",
    "df.causal.do(x=treatment,\n",
    "                     variable_types={treatment: 'b', outcome: 'c', common_cause: 'c'},\n",
    "                     outcome=outcome,\n",
    "                     common_causes=[common_cause],\n",
    "                     proceed_when_unidentifiable=True).groupby(treatment).mean().plot(y=outcome, kind='bar')"
   ]
  },
  {
   "cell_type": "code",
   "execution_count": 4,
   "metadata": {
    "execution": {
     "iopub.execute_input": "2023-11-16T14:48:17.843168Z",
     "iopub.status.busy": "2023-11-16T14:48:17.842838Z",
     "iopub.status.idle": "2023-11-16T14:48:17.948222Z",
     "shell.execute_reply": "2023-11-16T14:48:17.947520Z"
    }
   },
   "outputs": [
    {
     "data": {
      "text/plain": [
       "<Axes: xlabel='v0'>"
      ]
     },
     "execution_count": 4,
     "metadata": {},
     "output_type": "execute_result"
    },
    {
     "data": {
      "image/png": "[encoded data removed]",
      "text/plain": [
       "<Figure size 640x480 with 1 Axes>"
      ]
     },
     "metadata": {},
     "output_type": "display_data"
    }
   ],
   "source": [
    "df.causal.do(x={treatment: 1}, \n",
    "              variable_types={treatment:'b', outcome: 'c', common_cause: 'c'}, \n",
    "              outcome=outcome,\n",
    "              method='weighting', \n",
    "              common_causes=[common_cause],\n",
    "              proceed_when_unidentifiable=True).groupby(treatment).mean().plot(y=outcome, kind='bar')"
   ]
  },
  {
   "cell_type": "code",
   "execution_count": 5,
   "metadata": {
    "execution": {
     "iopub.execute_input": "2023-11-16T14:48:17.950623Z",
     "iopub.status.busy": "2023-11-16T14:48:17.950405Z",
     "iopub.status.idle": "2023-11-16T14:48:17.977153Z",
     "shell.execute_reply": "2023-11-16T14:48:17.976496Z"
    }
   },
   "outputs": [],
   "source": [
    "cdf_1 = df.causal.do(x={treatment: 1}, \n",
    "              variable_types={treatment: 'b', outcome: 'c', common_cause: 'c'}, \n",
    "              outcome=outcome, \n",
    "              dot_graph=data['dot_graph'],\n",
    "              proceed_when_unidentifiable=True)\n",
    "\n",
    "cdf_0 = df.causal.do(x={treatment: 0}, \n",
    "              variable_types={treatment: 'b', outcome: 'c', common_cause: 'c'}, \n",
    "              outcome=outcome, \n",
    "              dot_graph=data['dot_graph'],\n",
    "              proceed_when_unidentifiable=True)\n"
   ]
  },
  {
   "cell_type": "code",
   "execution_count": 6,
   "metadata": {
    "execution": {
     "iopub.execute_input": "2023-11-16T14:48:17.979981Z",
     "iopub.status.busy": "2023-11-16T14:48:17.979595Z",
     "iopub.status.idle": "2023-11-16T14:48:17.988595Z",
     "shell.execute_reply": "2023-11-16T14:48:17.988037Z"
    },
    "scrolled": true
   },
   "outputs": [
    {
     "data": {
      "text/html": [
       "<div>\n",
       "<style scoped>\n",
       "    .dataframe tbody tr th:only-of-type {\n",
       "        vertical-align: middle;\n",
       "    }\n",
       "\n",
       "    .dataframe tbody tr th {\n",
       "        vertical-align: top;\n",
       "    }\n",
       "\n",
       "    .dataframe thead th {\n",
       "        text-align: right;\n",
       "    }\n",
       "</style>\n",
       "<table border=\"1\" class=\"dataframe\">\n",
       "  <thead>\n",
       "    <tr style=\"text-align: right;\">\n",
       "      <th></th>\n",
       "      <th>W0</th>\n",
       "      <th>v0</th>\n",
       "      <th>y</th>\n",
       "      <th>propensity_score</th>\n",
       "      <th>weight</th>\n",
       "    </tr>\n",
       "  </thead>\n",
       "  <tbody>\n",
       "    <tr>\n",
       "      <th>0</th>\n",
       "      <td>0.054317</td>\n",
       "      <td>False</td>\n",
       "      <td>0.447500</td>\n",
       "      <td>0.454250</td>\n",
       "      <td>2.201429</td>\n",
       "    </tr>\n",
       "    <tr>\n",
       "      <th>1</th>\n",
       "      <td>1.362178</td>\n",
       "      <td>False</td>\n",
       "      <td>0.262972</td>\n",
       "      <td>0.471207</td>\n",
       "      <td>2.122210</td>\n",
       "    </tr>\n",
       "    <tr>\n",
       "      <th>2</th>\n",
       "      <td>0.762659</td>\n",
       "      <td>False</td>\n",
       "      <td>1.897983</td>\n",
       "      <td>0.463423</td>\n",
       "      <td>2.157854</td>\n",
       "    </tr>\n",
       "    <tr>\n",
       "      <th>3</th>\n",
       "      <td>-0.279565</td>\n",
       "      <td>False</td>\n",
       "      <td>-0.282753</td>\n",
       "      <td>0.449937</td>\n",
       "      <td>2.222534</td>\n",
       "    </tr>\n",
       "    <tr>\n",
       "      <th>4</th>\n",
       "      <td>0.092033</td>\n",
       "      <td>False</td>\n",
       "      <td>0.145689</td>\n",
       "      <td>0.454738</td>\n",
       "      <td>2.199068</td>\n",
       "    </tr>\n",
       "    <tr>\n",
       "      <th>...</th>\n",
       "      <td>...</td>\n",
       "      <td>...</td>\n",
       "      <td>...</td>\n",
       "      <td>...</td>\n",
       "      <td>...</td>\n",
       "    </tr>\n",
       "    <tr>\n",
       "      <th>995</th>\n",
       "      <td>1.176980</td>\n",
       "      <td>False</td>\n",
       "      <td>-0.428686</td>\n",
       "      <td>0.468801</td>\n",
       "      <td>2.133102</td>\n",
       "    </tr>\n",
       "    <tr>\n",
       "      <th>996</th>\n",
       "      <td>-1.402948</td>\n",
       "      <td>False</td>\n",
       "      <td>0.802615</td>\n",
       "      <td>0.435483</td>\n",
       "      <td>2.296302</td>\n",
       "    </tr>\n",
       "    <tr>\n",
       "      <th>997</th>\n",
       "      <td>0.607079</td>\n",
       "      <td>False</td>\n",
       "      <td>-1.014821</td>\n",
       "      <td>0.461406</td>\n",
       "      <td>2.167287</td>\n",
       "    </tr>\n",
       "    <tr>\n",
       "      <th>998</th>\n",
       "      <td>0.039346</td>\n",
       "      <td>False</td>\n",
       "      <td>-1.275991</td>\n",
       "      <td>0.454057</td>\n",
       "      <td>2.202368</td>\n",
       "    </tr>\n",
       "    <tr>\n",
       "      <th>999</th>\n",
       "      <td>0.943760</td>\n",
       "      <td>False</td>\n",
       "      <td>0.805273</td>\n",
       "      <td>0.465773</td>\n",
       "      <td>2.146969</td>\n",
       "    </tr>\n",
       "  </tbody>\n",
       "</table>\n",
       "<p>1000 rows × 5 columns</p>\n",
       "</div>"
      ],
      "text/plain": [
       "           W0     v0         y  propensity_score    weight\n",
       "0    0.054317  False  0.447500          0.454250  2.201429\n",
       "1    1.362178  False  0.262972          0.471207  2.122210\n",
       "2    0.762659  False  1.897983          0.463423  2.157854\n",
       "3   -0.279565  False -0.282753          0.449937  2.222534\n",
       "4    0.092033  False  0.145689          0.454738  2.199068\n",
       "..        ...    ...       ...               ...       ...\n",
       "995  1.176980  False -0.428686          0.468801  2.133102\n",
       "996 -1.402948  False  0.802615          0.435483  2.296302\n",
       "997  0.607079  False -1.014821          0.461406  2.167287\n",
       "998  0.039346  False -1.275991          0.454057  2.202368\n",
       "999  0.943760  False  0.805273          0.465773  2.146969\n",
       "\n",
       "[1000 rows x 5 columns]"
      ]
     },
     "execution_count": 6,
     "metadata": {},
     "output_type": "execute_result"
    }
   ],
   "source": [
    "cdf_0"
   ]
  },
  {
   "cell_type": "code",
   "execution_count": 7,
   "metadata": {
    "execution": {
     "iopub.execute_input": "2023-11-16T14:48:17.990885Z",
     "iopub.status.busy": "2023-11-16T14:48:17.990531Z",
     "iopub.status.idle": "2023-11-16T14:48:17.998893Z",
     "shell.execute_reply": "2023-11-16T14:48:17.998343Z"
    }
   },
   "outputs": [
    {
     "data": {
      "text/html": [
       "<div>\n",
       "<style scoped>\n",
       "    .dataframe tbody tr th:only-of-type {\n",
       "        vertical-align: middle;\n",
       "    }\n",
       "\n",
       "    .dataframe tbody tr th {\n",
       "        vertical-align: top;\n",
       "    }\n",
       "\n",
       "    .dataframe thead th {\n",
       "        text-align: right;\n",
       "    }\n",
       "</style>\n",
       "<table border=\"1\" class=\"dataframe\">\n",
       "  <thead>\n",
       "    <tr style=\"text-align: right;\">\n",
       "      <th></th>\n",
       "      <th>W0</th>\n",
       "      <th>v0</th>\n",
       "      <th>y</th>\n",
       "      <th>propensity_score</th>\n",
       "      <th>weight</th>\n",
       "    </tr>\n",
       "  </thead>\n",
       "  <tbody>\n",
       "    <tr>\n",
       "      <th>0</th>\n",
       "      <td>1.778195</td>\n",
       "      <td>True</td>\n",
       "      <td>5.255665</td>\n",
       "      <td>0.523384</td>\n",
       "      <td>1.910644</td>\n",
       "    </tr>\n",
       "    <tr>\n",
       "      <th>1</th>\n",
       "      <td>-0.393748</td>\n",
       "      <td>True</td>\n",
       "      <td>5.676380</td>\n",
       "      <td>0.551537</td>\n",
       "      <td>1.813117</td>\n",
       "    </tr>\n",
       "    <tr>\n",
       "      <th>2</th>\n",
       "      <td>0.497911</td>\n",
       "      <td>True</td>\n",
       "      <td>3.312709</td>\n",
       "      <td>0.540008</td>\n",
       "      <td>1.851823</td>\n",
       "    </tr>\n",
       "    <tr>\n",
       "      <th>3</th>\n",
       "      <td>0.832544</td>\n",
       "      <td>True</td>\n",
       "      <td>4.724325</td>\n",
       "      <td>0.535670</td>\n",
       "      <td>1.866821</td>\n",
       "    </tr>\n",
       "    <tr>\n",
       "      <th>4</th>\n",
       "      <td>0.736340</td>\n",
       "      <td>True</td>\n",
       "      <td>5.152573</td>\n",
       "      <td>0.536918</td>\n",
       "      <td>1.862482</td>\n",
       "    </tr>\n",
       "    <tr>\n",
       "      <th>...</th>\n",
       "      <td>...</td>\n",
       "      <td>...</td>\n",
       "      <td>...</td>\n",
       "      <td>...</td>\n",
       "      <td>...</td>\n",
       "    </tr>\n",
       "    <tr>\n",
       "      <th>995</th>\n",
       "      <td>0.396982</td>\n",
       "      <td>True</td>\n",
       "      <td>5.189197</td>\n",
       "      <td>0.541316</td>\n",
       "      <td>1.847351</td>\n",
       "    </tr>\n",
       "    <tr>\n",
       "      <th>996</th>\n",
       "      <td>1.288049</td>\n",
       "      <td>True</td>\n",
       "      <td>4.350782</td>\n",
       "      <td>0.529756</td>\n",
       "      <td>1.887660</td>\n",
       "    </tr>\n",
       "    <tr>\n",
       "      <th>997</th>\n",
       "      <td>1.413941</td>\n",
       "      <td>True</td>\n",
       "      <td>4.289907</td>\n",
       "      <td>0.528120</td>\n",
       "      <td>1.893508</td>\n",
       "    </tr>\n",
       "    <tr>\n",
       "      <th>998</th>\n",
       "      <td>1.032728</td>\n",
       "      <td>True</td>\n",
       "      <td>4.761474</td>\n",
       "      <td>0.533072</td>\n",
       "      <td>1.875918</td>\n",
       "    </tr>\n",
       "    <tr>\n",
       "      <th>999</th>\n",
       "      <td>1.413941</td>\n",
       "      <td>True</td>\n",
       "      <td>4.289907</td>\n",
       "      <td>0.528120</td>\n",
       "      <td>1.893508</td>\n",
       "    </tr>\n",
       "  </tbody>\n",
       "</table>\n",
       "<p>1000 rows × 5 columns</p>\n",
       "</div>"
      ],
      "text/plain": [
       "           W0    v0         y  propensity_score    weight\n",
       "0    1.778195  True  5.255665          0.523384  1.910644\n",
       "1   -0.393748  True  5.676380          0.551537  1.813117\n",
       "2    0.497911  True  3.312709          0.540008  1.851823\n",
       "3    0.832544  True  4.724325          0.535670  1.866821\n",
       "4    0.736340  True  5.152573          0.536918  1.862482\n",
       "..        ...   ...       ...               ...       ...\n",
       "995  0.396982  True  5.189197          0.541316  1.847351\n",
       "996  1.288049  True  4.350782          0.529756  1.887660\n",
       "997  1.413941  True  4.289907          0.528120  1.893508\n",
       "998  1.032728  True  4.761474          0.533072  1.875918\n",
       "999  1.413941  True  4.289907          0.528120  1.893508\n",
       "\n",
       "[1000 rows x 5 columns]"
      ]
     },
     "execution_count": 7,
     "metadata": {},
     "output_type": "execute_result"
    }
   ],
   "source": [
    "cdf_1"
   ]
  },
  {
   "cell_type": "markdown",
   "metadata": {},
   "source": [
    "## Comparing the estimate to Linear Regression\n",
    "First, estimating the effect using the causal data frame, and the 95% confidence interval."
   ]
  },
  {
   "cell_type": "code",
   "execution_count": 8,
   "metadata": {
    "execution": {
     "iopub.execute_input": "2023-11-16T14:48:18.001034Z",
     "iopub.status.busy": "2023-11-16T14:48:18.000728Z",
     "iopub.status.idle": "2023-11-16T14:48:18.047966Z",
     "shell.execute_reply": "2023-11-16T14:48:18.047389Z"
    }
   },
   "outputs": [
    {
     "data": {
      "image/png": "[encoded data removed]",
      "text/latex": [
       "$\\displaystyle 5.02082582779452$"
      ],
      "text/plain": [
       "5.020825827794522"
      ]
     },
     "execution_count": 8,
     "metadata": {},
     "output_type": "execute_result"
    }
   ],
   "source": [
    "(cdf_1['y'] - cdf_0['y']).mean()"
   ]
  },
  {
   "cell_type": "code",
   "execution_count": 9,
   "metadata": {
    "execution": {
     "iopub.execute_input": "2023-11-16T14:48:18.050061Z",
     "iopub.status.busy": "2023-11-16T14:48:18.049748Z",
     "iopub.status.idle": "2023-11-16T14:48:18.067081Z",
     "shell.execute_reply": "2023-11-16T14:48:18.066471Z"
    }
   },
   "outputs": [
    {
     "data": {
      "image/png": "[encoded data removed]",
      "text/latex": [
       "$\\displaystyle 0.0846382677935782$"
      ],
      "text/plain": [
       "0.08463826779357822"
      ]
     },
     "execution_count": 9,
     "metadata": {},
     "output_type": "execute_result"
    }
   ],
   "source": [
    "1.96*(cdf_1['y'] - cdf_0['y']).std() / np.sqrt(len(df))"
   ]
  },
  {
   "cell_type": "markdown",
   "metadata": {},
   "source": [
    "Comparing to the estimate from OLS."
   ]
  },
  {
   "cell_type": "code",
   "execution_count": 10,
   "metadata": {
    "execution": {
     "iopub.execute_input": "2023-11-16T14:48:18.069279Z",
     "iopub.status.busy": "2023-11-16T14:48:18.068961Z",
     "iopub.status.idle": "2023-11-16T14:48:18.085246Z",
     "shell.execute_reply": "2023-11-16T14:48:18.084619Z"
    }
   },
   "outputs": [
    {
     "data": {
      "text/html": [
       "<table class=\"simpletable\">\n",
       "<caption>OLS Regression Results</caption>\n",
       "<tr>\n",
       "  <th>Dep. Variable:</th>            <td>y</td>        <th>  R-squared (uncentered):</th>      <td>   0.933</td>\n",
       "</tr>\n",
       "<tr>\n",
       "  <th>Model:</th>                   <td>OLS</td>       <th>  Adj. R-squared (uncentered):</th> <td>   0.933</td>\n",
       "</tr>\n",
       "<tr>\n",
       "  <th>Method:</th>             <td>Least Squares</td>  <th>  F-statistic:       </th>          <td>   6966.</td>\n",
       "</tr>\n",
       "<tr>\n",
       "  <th>Date:</th>             <td>Thu, 16 Nov 2023</td> <th>  Prob (F-statistic):</th>           <td>  0.00</td> \n",
       "</tr>\n",
       "<tr>\n",
       "  <th>Time:</th>                 <td>14:48:18</td>     <th>  Log-Likelihood:    </th>          <td> -1405.6</td>\n",
       "</tr>\n",
       "<tr>\n",
       "  <th>No. Observations:</th>      <td>  1000</td>      <th>  AIC:               </th>          <td>   2815.</td>\n",
       "</tr>\n",
       "<tr>\n",
       "  <th>Df Residuals:</th>          <td>   998</td>      <th>  BIC:               </th>          <td>   2825.</td>\n",
       "</tr>\n",
       "<tr>\n",
       "  <th>Df Model:</th>              <td>     2</td>      <th>                     </th>              <td> </td>   \n",
       "</tr>\n",
       "<tr>\n",
       "  <th>Covariance Type:</th>      <td>nonrobust</td>    <th>                     </th>              <td> </td>   \n",
       "</tr>\n",
       "</table>\n",
       "<table class=\"simpletable\">\n",
       "<tr>\n",
       "   <td></td>     <th>coef</th>     <th>std err</th>      <th>t</th>      <th>P>|t|</th>  <th>[0.025</th>    <th>0.975]</th>  \n",
       "</tr>\n",
       "<tr>\n",
       "  <th>x1</th> <td>    0.0246</td> <td>    0.028</td> <td>    0.876</td> <td> 0.381</td> <td>   -0.030</td> <td>    0.080</td>\n",
       "</tr>\n",
       "<tr>\n",
       "  <th>x2</th> <td>    5.0139</td> <td>    0.047</td> <td>  106.744</td> <td> 0.000</td> <td>    4.922</td> <td>    5.106</td>\n",
       "</tr>\n",
       "</table>\n",
       "<table class=\"simpletable\">\n",
       "<tr>\n",
       "  <th>Omnibus:</th>       <td> 0.124</td> <th>  Durbin-Watson:     </th> <td>   1.898</td>\n",
       "</tr>\n",
       "<tr>\n",
       "  <th>Prob(Omnibus):</th> <td> 0.940</td> <th>  Jarque-Bera (JB):  </th> <td>   0.069</td>\n",
       "</tr>\n",
       "<tr>\n",
       "  <th>Skew:</th>          <td> 0.014</td> <th>  Prob(JB):          </th> <td>   0.966</td>\n",
       "</tr>\n",
       "<tr>\n",
       "  <th>Kurtosis:</th>      <td> 3.029</td> <th>  Cond. No.          </th> <td>    2.01</td>\n",
       "</tr>\n",
       "</table><br/><br/>Notes:<br/>[1] R² is computed without centering (uncentered) since the model does not contain a constant.<br/>[2] Standard Errors assume that the covariance matrix of the errors is correctly specified."
      ],
      "text/latex": [
       "\\begin{center}\n",
       "\\begin{tabular}{lclc}\n",
       "\\toprule\n",
       "\\textbf{Dep. Variable:}    &        y         & \\textbf{  R-squared (uncentered):}      &     0.933   \\\\\n",
       "\\textbf{Model:}            &       OLS        & \\textbf{  Adj. R-squared (uncentered):} &     0.933   \\\\\n",
       "\\textbf{Method:}           &  Least Squares   & \\textbf{  F-statistic:       }          &     6966.   \\\\\n",
       "\\textbf{Date:}             & Thu, 16 Nov 2023 & \\textbf{  Prob (F-statistic):}          &     0.00    \\\\\n",
       "\\textbf{Time:}             &     14:48:18     & \\textbf{  Log-Likelihood:    }          &   -1405.6   \\\\\n",
       "\\textbf{No. Observations:} &        1000      & \\textbf{  AIC:               }          &     2815.   \\\\\n",
       "\\textbf{Df Residuals:}     &         998      & \\textbf{  BIC:               }          &     2825.   \\\\\n",
       "\\textbf{Df Model:}         &           2      & \\textbf{                     }          &             \\\\\n",
       "\\textbf{Covariance Type:}  &    nonrobust     & \\textbf{                     }          &             \\\\\n",
       "\\bottomrule\n",
       "\\end{tabular}\n",
       "\\begin{tabular}{lcccccc}\n",
       "            & \\textbf{coef} & \\textbf{std err} & \\textbf{t} & \\textbf{P$> |$t$|$} & \\textbf{[0.025} & \\textbf{0.975]}  \\\\\n",
       "\\midrule\n",
       "\\textbf{x1} &       0.0246  &        0.028     &     0.876  &         0.381        &       -0.030    &        0.080     \\\\\n",
       "\\textbf{x2} &       5.0139  &        0.047     &   106.744  &         0.000        &        4.922    &        5.106     \\\\\n",
       "\\bottomrule\n",
       "\\end{tabular}\n",
       "\\begin{tabular}{lclc}\n",
       "\\textbf{Omnibus:}       &  0.124 & \\textbf{  Durbin-Watson:     } &    1.898  \\\\\n",
       "\\textbf{Prob(Omnibus):} &  0.940 & \\textbf{  Jarque-Bera (JB):  } &    0.069  \\\\\n",
       "\\textbf{Skew:}          &  0.014 & \\textbf{  Prob(JB):          } &    0.966  \\\\\n",
       "\\textbf{Kurtosis:}      &  3.029 & \\textbf{  Cond. No.          } &     2.01  \\\\\n",
       "\\bottomrule\n",
       "\\end{tabular}\n",
       "%\\caption{OLS Regression Results}\n",
       "\\end{center}\n",
       "\n",
       "Notes: \\newline\n",
       " [1] R² is computed without centering (uncentered) since the model does not contain a constant. \\newline\n",
       " [2] Standard Errors assume that the covariance matrix of the errors is correctly specified."
      ],
      "text/plain": [
       "<class 'statsmodels.iolib.summary.Summary'>\n",
       "\"\"\"\n",
       "                                 OLS Regression Results                                \n",
       "=======================================================================================\n",
       "Dep. Variable:                      y   R-squared (uncentered):                   0.933\n",
       "Model:                            OLS   Adj. R-squared (uncentered):              0.933\n",
       "Method:                 Least Squares   F-statistic:                              6966.\n",
       "Date:                Thu, 16 Nov 2023   Prob (F-statistic):                        0.00\n",
       "Time:                        14:48:18   Log-Likelihood:                         -1405.6\n",
       "No. Observations:                1000   AIC:                                      2815.\n",
       "Df Residuals:                     998   BIC:                                      2825.\n",
       "Df Model:                           2                                                  \n",
       "Covariance Type:            nonrobust                                                  \n",
       "==============================================================================\n",
       "                 coef    std err          t      P>|t|      [0.025      0.975]\n",
       "------------------------------------------------------------------------------\n",
       "x1             0.0246      0.028      0.876      0.381      -0.030       0.080\n",
       "x2             5.0139      0.047    106.744      0.000       4.922       5.106\n",
       "==============================================================================\n",
       "Omnibus:                        0.124   Durbin-Watson:                   1.898\n",
       "Prob(Omnibus):                  0.940   Jarque-Bera (JB):                0.069\n",
       "Skew:                           0.014   Prob(JB):                        0.966\n",
       "Kurtosis:                       3.029   Cond. No.                         2.01\n",
       "==============================================================================\n",
       "\n",
       "Notes:\n",
       "[1] R² is computed without centering (uncentered) since the model does not contain a constant.\n",
       "[2] Standard Errors assume that the covariance matrix of the errors is correctly specified.\n",
       "\"\"\""
      ]
     },
     "execution_count": 10,
     "metadata": {},
     "output_type": "execute_result"
    }
   ],
   "source": [
    "model = OLS(np.asarray(df[outcome]), np.asarray(df[[common_cause, treatment]], dtype=np.float64))\n",
    "result = model.fit()\n",
    "result.summary()"
   ]
  }
 ],
 "metadata": {
  "kernelspec": {
   "display_name": "Python 3",
   "language": "python",
   "name": "python3"
  },
  "language_info": {
   "codemirror_mode": {
    "name": "ipython",
    "version": 3
   },
   "file_extension": ".py",
   "mimetype": "text/x-python",
   "name": "python",
   "nbconvert_exporter": "python",
   "pygments_lexer": "ipython3",
   "version": "3.8.10"
  },
  "toc": {
   "base_numbering": 1,
   "nav_menu": {},
   "number_sections": false,
   "sideBar": true,
   "skip_h1_title": true,
   "title_cell": "Table of Contents",
   "title_sidebar": "Contents",
   "toc_cell": false,
   "toc_position": {},
   "toc_section_display": true,
   "toc_window_display": false
  }
 },
 "nbformat": 4,
 "nbformat_minor": 4
}
