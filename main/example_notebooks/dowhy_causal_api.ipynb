{
 "cells": [
  {
   "cell_type": "markdown",
   "metadata": {},
   "source": [
    "# Demo for the DoWhy causal API\n",
    "We show a simple example of adding a causal extension to any dataframe. "
   ]
  },
  {
   "cell_type": "code",
   "execution_count": 1,
   "metadata": {
    "execution": {
     "iopub.execute_input": "2023-08-04T15:34:16.379729Z",
     "iopub.status.busy": "2023-08-04T15:34:16.379509Z",
     "iopub.status.idle": "2023-08-04T15:34:17.893430Z",
     "shell.execute_reply": "2023-08-04T15:34:17.892756Z"
    }
   },
   "outputs": [],
   "source": [
    "import dowhy.datasets\n",
    "import dowhy.api\n",
    "\n",
    "import numpy as np\n",
    "import pandas as pd\n",
    "\n",
    "from statsmodels.api import OLS"
   ]
  },
  {
   "cell_type": "code",
   "execution_count": 2,
   "metadata": {
    "execution": {
     "iopub.execute_input": "2023-08-04T15:34:17.897302Z",
     "iopub.status.busy": "2023-08-04T15:34:17.896483Z",
     "iopub.status.idle": "2023-08-04T15:34:17.936469Z",
     "shell.execute_reply": "2023-08-04T15:34:17.934894Z"
    }
   },
   "outputs": [
    {
     "data": {
      "text/html": [
       "<div>\n",
       "<style scoped>\n",
       "    .dataframe tbody tr th:only-of-type {\n",
       "        vertical-align: middle;\n",
       "    }\n",
       "\n",
       "    .dataframe tbody tr th {\n",
       "        vertical-align: top;\n",
       "    }\n",
       "\n",
       "    .dataframe thead th {\n",
       "        text-align: right;\n",
       "    }\n",
       "</style>\n",
       "<table border=\"1\" class=\"dataframe\">\n",
       "  <thead>\n",
       "    <tr style=\"text-align: right;\">\n",
       "      <th></th>\n",
       "      <th>W0</th>\n",
       "      <th>v0</th>\n",
       "      <th>y</th>\n",
       "    </tr>\n",
       "  </thead>\n",
       "  <tbody>\n",
       "    <tr>\n",
       "      <th>0</th>\n",
       "      <td>1.756139</td>\n",
       "      <td>True</td>\n",
       "      <td>4.422977</td>\n",
       "    </tr>\n",
       "    <tr>\n",
       "      <th>1</th>\n",
       "      <td>1.382471</td>\n",
       "      <td>False</td>\n",
       "      <td>0.238530</td>\n",
       "    </tr>\n",
       "    <tr>\n",
       "      <th>2</th>\n",
       "      <td>0.271450</td>\n",
       "      <td>False</td>\n",
       "      <td>0.484912</td>\n",
       "    </tr>\n",
       "    <tr>\n",
       "      <th>3</th>\n",
       "      <td>1.148319</td>\n",
       "      <td>True</td>\n",
       "      <td>5.397874</td>\n",
       "    </tr>\n",
       "    <tr>\n",
       "      <th>4</th>\n",
       "      <td>0.848067</td>\n",
       "      <td>True</td>\n",
       "      <td>5.398431</td>\n",
       "    </tr>\n",
       "    <tr>\n",
       "      <th>...</th>\n",
       "      <td>...</td>\n",
       "      <td>...</td>\n",
       "      <td>...</td>\n",
       "    </tr>\n",
       "    <tr>\n",
       "      <th>995</th>\n",
       "      <td>0.627910</td>\n",
       "      <td>True</td>\n",
       "      <td>4.876157</td>\n",
       "    </tr>\n",
       "    <tr>\n",
       "      <th>996</th>\n",
       "      <td>1.916298</td>\n",
       "      <td>True</td>\n",
       "      <td>5.638743</td>\n",
       "    </tr>\n",
       "    <tr>\n",
       "      <th>997</th>\n",
       "      <td>2.411518</td>\n",
       "      <td>True</td>\n",
       "      <td>6.703120</td>\n",
       "    </tr>\n",
       "    <tr>\n",
       "      <th>998</th>\n",
       "      <td>-0.239359</td>\n",
       "      <td>False</td>\n",
       "      <td>-0.869543</td>\n",
       "    </tr>\n",
       "    <tr>\n",
       "      <th>999</th>\n",
       "      <td>1.467566</td>\n",
       "      <td>True</td>\n",
       "      <td>5.168846</td>\n",
       "    </tr>\n",
       "  </tbody>\n",
       "</table>\n",
       "<p>1000 rows × 3 columns</p>\n",
       "</div>"
      ],
      "text/plain": [
       "           W0     v0         y\n",
       "0    1.756139   True  4.422977\n",
       "1    1.382471  False  0.238530\n",
       "2    0.271450  False  0.484912\n",
       "3    1.148319   True  5.397874\n",
       "4    0.848067   True  5.398431\n",
       "..        ...    ...       ...\n",
       "995  0.627910   True  4.876157\n",
       "996  1.916298   True  5.638743\n",
       "997  2.411518   True  6.703120\n",
       "998 -0.239359  False -0.869543\n",
       "999  1.467566   True  5.168846\n",
       "\n",
       "[1000 rows x 3 columns]"
      ]
     },
     "execution_count": 2,
     "metadata": {},
     "output_type": "execute_result"
    }
   ],
   "source": [
    "data = dowhy.datasets.linear_dataset(beta=5,\n",
    "        num_common_causes=1,\n",
    "        num_instruments = 0,\n",
    "        num_samples=1000,\n",
    "        treatment_is_binary=True)\n",
    "df = data['df']\n",
    "df['y'] = df['y'] + np.random.normal(size=len(df)) # Adding noise to data. Without noise, the variance in Y|X, Z is zero, and mcmc fails.\n",
    "#data['dot_graph'] = 'digraph { v ->y;X0-> v;X0-> y;}'\n",
    "\n",
    "treatment= data[\"treatment_name\"][0]\n",
    "outcome = data[\"outcome_name\"][0]\n",
    "common_cause = data[\"common_causes_names\"][0]\n",
    "df"
   ]
  },
  {
   "cell_type": "code",
   "execution_count": 3,
   "metadata": {
    "execution": {
     "iopub.execute_input": "2023-08-04T15:34:17.939394Z",
     "iopub.status.busy": "2023-08-04T15:34:17.938885Z",
     "iopub.status.idle": "2023-08-04T15:34:18.125503Z",
     "shell.execute_reply": "2023-08-04T15:34:18.124896Z"
    }
   },
   "outputs": [
    {
     "data": {
      "text/plain": [
       "<Axes: xlabel='v0'>"
      ]
     },
     "execution_count": 3,
     "metadata": {},
     "output_type": "execute_result"
    },
    {
     "data": {
      "image/png": "[encoded data removed]",
      "text/plain": [
       "<Figure size 640x480 with 1 Axes>"
      ]
     },
     "metadata": {},
     "output_type": "display_data"
    }
   ],
   "source": [
    "# data['df'] is just a regular pandas.DataFrame\n",
    "df.causal.do(x=treatment,\n",
    "                     variable_types={treatment: 'b', outcome: 'c', common_cause: 'c'},\n",
    "                     outcome=outcome,\n",
    "                     common_causes=[common_cause],\n",
    "                     proceed_when_unidentifiable=True).groupby(treatment).mean().plot(y=outcome, kind='bar')"
   ]
  },
  {
   "cell_type": "code",
   "execution_count": 4,
   "metadata": {
    "execution": {
     "iopub.execute_input": "2023-08-04T15:34:18.128510Z",
     "iopub.status.busy": "2023-08-04T15:34:18.128284Z",
     "iopub.status.idle": "2023-08-04T15:34:18.253330Z",
     "shell.execute_reply": "2023-08-04T15:34:18.252785Z"
    }
   },
   "outputs": [
    {
     "data": {
      "text/plain": [
       "<Axes: xlabel='v0'>"
      ]
     },
     "execution_count": 4,
     "metadata": {},
     "output_type": "execute_result"
    },
    {
     "data": {
      "image/png": "[encoded data removed]",
      "text/plain": [
       "<Figure size 640x480 with 1 Axes>"
      ]
     },
     "metadata": {},
     "output_type": "display_data"
    }
   ],
   "source": [
    "df.causal.do(x={treatment: 1}, \n",
    "              variable_types={treatment:'b', outcome: 'c', common_cause: 'c'}, \n",
    "              outcome=outcome,\n",
    "              method='weighting', \n",
    "              common_causes=[common_cause],\n",
    "              proceed_when_unidentifiable=True).groupby(treatment).mean().plot(y=outcome, kind='bar')"
   ]
  },
  {
   "cell_type": "code",
   "execution_count": 5,
   "metadata": {
    "execution": {
     "iopub.execute_input": "2023-08-04T15:34:18.256265Z",
     "iopub.status.busy": "2023-08-04T15:34:18.255739Z",
     "iopub.status.idle": "2023-08-04T15:34:18.285585Z",
     "shell.execute_reply": "2023-08-04T15:34:18.284991Z"
    }
   },
   "outputs": [],
   "source": [
    "cdf_1 = df.causal.do(x={treatment: 1}, \n",
    "              variable_types={treatment: 'b', outcome: 'c', common_cause: 'c'}, \n",
    "              outcome=outcome, \n",
    "              dot_graph=data['dot_graph'],\n",
    "              proceed_when_unidentifiable=True)\n",
    "\n",
    "cdf_0 = df.causal.do(x={treatment: 0}, \n",
    "              variable_types={treatment: 'b', outcome: 'c', common_cause: 'c'}, \n",
    "              outcome=outcome, \n",
    "              dot_graph=data['dot_graph'],\n",
    "              proceed_when_unidentifiable=True)\n"
   ]
  },
  {
   "cell_type": "code",
   "execution_count": 6,
   "metadata": {
    "execution": {
     "iopub.execute_input": "2023-08-04T15:34:18.288708Z",
     "iopub.status.busy": "2023-08-04T15:34:18.288105Z",
     "iopub.status.idle": "2023-08-04T15:34:18.298286Z",
     "shell.execute_reply": "2023-08-04T15:34:18.297674Z"
    },
    "scrolled": true
   },
   "outputs": [
    {
     "data": {
      "text/html": [
       "<div>\n",
       "<style scoped>\n",
       "    .dataframe tbody tr th:only-of-type {\n",
       "        vertical-align: middle;\n",
       "    }\n",
       "\n",
       "    .dataframe tbody tr th {\n",
       "        vertical-align: top;\n",
       "    }\n",
       "\n",
       "    .dataframe thead th {\n",
       "        text-align: right;\n",
       "    }\n",
       "</style>\n",
       "<table border=\"1\" class=\"dataframe\">\n",
       "  <thead>\n",
       "    <tr style=\"text-align: right;\">\n",
       "      <th></th>\n",
       "      <th>W0</th>\n",
       "      <th>v0</th>\n",
       "      <th>y</th>\n",
       "      <th>propensity_score</th>\n",
       "      <th>weight</th>\n",
       "    </tr>\n",
       "  </thead>\n",
       "  <tbody>\n",
       "    <tr>\n",
       "      <th>0</th>\n",
       "      <td>0.704107</td>\n",
       "      <td>False</td>\n",
       "      <td>0.782175</td>\n",
       "      <td>0.179696</td>\n",
       "      <td>5.564970</td>\n",
       "    </tr>\n",
       "    <tr>\n",
       "      <th>1</th>\n",
       "      <td>1.690602</td>\n",
       "      <td>False</td>\n",
       "      <td>0.741542</td>\n",
       "      <td>0.024223</td>\n",
       "      <td>41.283711</td>\n",
       "    </tr>\n",
       "    <tr>\n",
       "      <th>2</th>\n",
       "      <td>1.690602</td>\n",
       "      <td>False</td>\n",
       "      <td>0.741542</td>\n",
       "      <td>0.024223</td>\n",
       "      <td>41.283711</td>\n",
       "    </tr>\n",
       "    <tr>\n",
       "      <th>3</th>\n",
       "      <td>0.704107</td>\n",
       "      <td>False</td>\n",
       "      <td>0.782175</td>\n",
       "      <td>0.179696</td>\n",
       "      <td>5.564970</td>\n",
       "    </tr>\n",
       "    <tr>\n",
       "      <th>4</th>\n",
       "      <td>1.075991</td>\n",
       "      <td>False</td>\n",
       "      <td>-1.017738</td>\n",
       "      <td>0.087921</td>\n",
       "      <td>11.373845</td>\n",
       "    </tr>\n",
       "    <tr>\n",
       "      <th>...</th>\n",
       "      <td>...</td>\n",
       "      <td>...</td>\n",
       "      <td>...</td>\n",
       "      <td>...</td>\n",
       "      <td>...</td>\n",
       "    </tr>\n",
       "    <tr>\n",
       "      <th>995</th>\n",
       "      <td>0.124177</td>\n",
       "      <td>False</td>\n",
       "      <td>0.782905</td>\n",
       "      <td>0.440704</td>\n",
       "      <td>2.269096</td>\n",
       "    </tr>\n",
       "    <tr>\n",
       "      <th>996</th>\n",
       "      <td>1.263417</td>\n",
       "      <td>False</td>\n",
       "      <td>0.460902</td>\n",
       "      <td>0.059917</td>\n",
       "      <td>16.689658</td>\n",
       "    </tr>\n",
       "    <tr>\n",
       "      <th>997</th>\n",
       "      <td>0.167442</td>\n",
       "      <td>False</td>\n",
       "      <td>-2.159738</td>\n",
       "      <td>0.417315</td>\n",
       "      <td>2.396273</td>\n",
       "    </tr>\n",
       "    <tr>\n",
       "      <th>998</th>\n",
       "      <td>0.948564</td>\n",
       "      <td>False</td>\n",
       "      <td>-0.475006</td>\n",
       "      <td>0.113245</td>\n",
       "      <td>8.830391</td>\n",
       "    </tr>\n",
       "    <tr>\n",
       "      <th>999</th>\n",
       "      <td>-0.020607</td>\n",
       "      <td>False</td>\n",
       "      <td>0.646652</td>\n",
       "      <td>0.520310</td>\n",
       "      <td>1.921931</td>\n",
       "    </tr>\n",
       "  </tbody>\n",
       "</table>\n",
       "<p>1000 rows × 5 columns</p>\n",
       "</div>"
      ],
      "text/plain": [
       "           W0     v0         y  propensity_score     weight\n",
       "0    0.704107  False  0.782175          0.179696   5.564970\n",
       "1    1.690602  False  0.741542          0.024223  41.283711\n",
       "2    1.690602  False  0.741542          0.024223  41.283711\n",
       "3    0.704107  False  0.782175          0.179696   5.564970\n",
       "4    1.075991  False -1.017738          0.087921  11.373845\n",
       "..        ...    ...       ...               ...        ...\n",
       "995  0.124177  False  0.782905          0.440704   2.269096\n",
       "996  1.263417  False  0.460902          0.059917  16.689658\n",
       "997  0.167442  False -2.159738          0.417315   2.396273\n",
       "998  0.948564  False -0.475006          0.113245   8.830391\n",
       "999 -0.020607  False  0.646652          0.520310   1.921931\n",
       "\n",
       "[1000 rows x 5 columns]"
      ]
     },
     "execution_count": 6,
     "metadata": {},
     "output_type": "execute_result"
    }
   ],
   "source": [
    "cdf_0"
   ]
  },
  {
   "cell_type": "code",
   "execution_count": 7,
   "metadata": {
    "execution": {
     "iopub.execute_input": "2023-08-04T15:34:18.301329Z",
     "iopub.status.busy": "2023-08-04T15:34:18.300835Z",
     "iopub.status.idle": "2023-08-04T15:34:18.310606Z",
     "shell.execute_reply": "2023-08-04T15:34:18.309978Z"
    }
   },
   "outputs": [
    {
     "data": {
      "text/html": [
       "<div>\n",
       "<style scoped>\n",
       "    .dataframe tbody tr th:only-of-type {\n",
       "        vertical-align: middle;\n",
       "    }\n",
       "\n",
       "    .dataframe tbody tr th {\n",
       "        vertical-align: top;\n",
       "    }\n",
       "\n",
       "    .dataframe thead th {\n",
       "        text-align: right;\n",
       "    }\n",
       "</style>\n",
       "<table border=\"1\" class=\"dataframe\">\n",
       "  <thead>\n",
       "    <tr style=\"text-align: right;\">\n",
       "      <th></th>\n",
       "      <th>W0</th>\n",
       "      <th>v0</th>\n",
       "      <th>y</th>\n",
       "      <th>propensity_score</th>\n",
       "      <th>weight</th>\n",
       "    </tr>\n",
       "  </thead>\n",
       "  <tbody>\n",
       "    <tr>\n",
       "      <th>0</th>\n",
       "      <td>-1.205700</td>\n",
       "      <td>True</td>\n",
       "      <td>5.379939</td>\n",
       "      <td>0.063139</td>\n",
       "      <td>15.838037</td>\n",
       "    </tr>\n",
       "    <tr>\n",
       "      <th>1</th>\n",
       "      <td>-1.347673</td>\n",
       "      <td>True</td>\n",
       "      <td>3.631342</td>\n",
       "      <td>0.046950</td>\n",
       "      <td>21.299106</td>\n",
       "    </tr>\n",
       "    <tr>\n",
       "      <th>2</th>\n",
       "      <td>1.242841</td>\n",
       "      <td>True</td>\n",
       "      <td>4.878716</td>\n",
       "      <td>0.937473</td>\n",
       "      <td>1.066698</td>\n",
       "    </tr>\n",
       "    <tr>\n",
       "      <th>3</th>\n",
       "      <td>2.912466</td>\n",
       "      <td>True</td>\n",
       "      <td>6.884314</td>\n",
       "      <td>0.998330</td>\n",
       "      <td>1.001673</td>\n",
       "    </tr>\n",
       "    <tr>\n",
       "      <th>4</th>\n",
       "      <td>2.297364</td>\n",
       "      <td>True</td>\n",
       "      <td>7.376907</td>\n",
       "      <td>0.993538</td>\n",
       "      <td>1.006504</td>\n",
       "    </tr>\n",
       "    <tr>\n",
       "      <th>...</th>\n",
       "      <td>...</td>\n",
       "      <td>...</td>\n",
       "      <td>...</td>\n",
       "      <td>...</td>\n",
       "      <td>...</td>\n",
       "    </tr>\n",
       "    <tr>\n",
       "      <th>995</th>\n",
       "      <td>1.176750</td>\n",
       "      <td>True</td>\n",
       "      <td>5.174957</td>\n",
       "      <td>0.928355</td>\n",
       "      <td>1.077174</td>\n",
       "    </tr>\n",
       "    <tr>\n",
       "      <th>996</th>\n",
       "      <td>0.959103</td>\n",
       "      <td>True</td>\n",
       "      <td>4.640709</td>\n",
       "      <td>0.889070</td>\n",
       "      <td>1.124771</td>\n",
       "    </tr>\n",
       "    <tr>\n",
       "      <th>997</th>\n",
       "      <td>2.276216</td>\n",
       "      <td>True</td>\n",
       "      <td>4.538408</td>\n",
       "      <td>0.993231</td>\n",
       "      <td>1.006815</td>\n",
       "    </tr>\n",
       "    <tr>\n",
       "      <th>998</th>\n",
       "      <td>0.576039</td>\n",
       "      <td>True</td>\n",
       "      <td>5.098612</td>\n",
       "      <td>0.774818</td>\n",
       "      <td>1.290625</td>\n",
       "    </tr>\n",
       "    <tr>\n",
       "      <th>999</th>\n",
       "      <td>-1.347673</td>\n",
       "      <td>True</td>\n",
       "      <td>3.631342</td>\n",
       "      <td>0.046950</td>\n",
       "      <td>21.299106</td>\n",
       "    </tr>\n",
       "  </tbody>\n",
       "</table>\n",
       "<p>1000 rows × 5 columns</p>\n",
       "</div>"
      ],
      "text/plain": [
       "           W0    v0         y  propensity_score     weight\n",
       "0   -1.205700  True  5.379939          0.063139  15.838037\n",
       "1   -1.347673  True  3.631342          0.046950  21.299106\n",
       "2    1.242841  True  4.878716          0.937473   1.066698\n",
       "3    2.912466  True  6.884314          0.998330   1.001673\n",
       "4    2.297364  True  7.376907          0.993538   1.006504\n",
       "..        ...   ...       ...               ...        ...\n",
       "995  1.176750  True  5.174957          0.928355   1.077174\n",
       "996  0.959103  True  4.640709          0.889070   1.124771\n",
       "997  2.276216  True  4.538408          0.993231   1.006815\n",
       "998  0.576039  True  5.098612          0.774818   1.290625\n",
       "999 -1.347673  True  3.631342          0.046950  21.299106\n",
       "\n",
       "[1000 rows x 5 columns]"
      ]
     },
     "execution_count": 7,
     "metadata": {},
     "output_type": "execute_result"
    }
   ],
   "source": [
    "cdf_1"
   ]
  },
  {
   "cell_type": "markdown",
   "metadata": {},
   "source": [
    "## Comparing the estimate to Linear Regression\n",
    "First, estimating the effect using the causal data frame, and the 95% confidence interval."
   ]
  },
  {
   "cell_type": "code",
   "execution_count": 8,
   "metadata": {
    "execution": {
     "iopub.execute_input": "2023-08-04T15:34:18.313982Z",
     "iopub.status.busy": "2023-08-04T15:34:18.313779Z",
     "iopub.status.idle": "2023-08-04T15:34:18.373553Z",
     "shell.execute_reply": "2023-08-04T15:34:18.372873Z"
    }
   },
   "outputs": [
    {
     "data": {
      "image/png": "[encoded data removed]",
      "text/latex": [
       "$\\displaystyle 5.03397858220561$"
      ],
      "text/plain": [
       "5.033978582205609"
      ]
     },
     "execution_count": 8,
     "metadata": {},
     "output_type": "execute_result"
    }
   ],
   "source": [
    "(cdf_1['y'] - cdf_0['y']).mean()"
   ]
  },
  {
   "cell_type": "code",
   "execution_count": 9,
   "metadata": {
    "execution": {
     "iopub.execute_input": "2023-08-04T15:34:18.376899Z",
     "iopub.status.busy": "2023-08-04T15:34:18.376401Z",
     "iopub.status.idle": "2023-08-04T15:34:18.396774Z",
     "shell.execute_reply": "2023-08-04T15:34:18.396151Z"
    }
   },
   "outputs": [
    {
     "data": {
      "image/png": "[encoded data removed]",
      "text/latex": [
       "$\\displaystyle 0.0882804234787294$"
      ],
      "text/plain": [
       "0.08828042347872936"
      ]
     },
     "execution_count": 9,
     "metadata": {},
     "output_type": "execute_result"
    }
   ],
   "source": [
    "1.96*(cdf_1['y'] - cdf_0['y']).std() / np.sqrt(len(df))"
   ]
  },
  {
   "cell_type": "markdown",
   "metadata": {},
   "source": [
    "Comparing to the estimate from OLS."
   ]
  },
  {
   "cell_type": "code",
   "execution_count": 10,
   "metadata": {
    "execution": {
     "iopub.execute_input": "2023-08-04T15:34:18.399551Z",
     "iopub.status.busy": "2023-08-04T15:34:18.399340Z",
     "iopub.status.idle": "2023-08-04T15:34:18.419115Z",
     "shell.execute_reply": "2023-08-04T15:34:18.418465Z"
    }
   },
   "outputs": [
    {
     "data": {
      "text/html": [
       "<table class=\"simpletable\">\n",
       "<caption>OLS Regression Results</caption>\n",
       "<tr>\n",
       "  <th>Dep. Variable:</th>            <td>y</td>        <th>  R-squared (uncentered):</th>      <td>   0.956</td> \n",
       "</tr>\n",
       "<tr>\n",
       "  <th>Model:</th>                   <td>OLS</td>       <th>  Adj. R-squared (uncentered):</th> <td>   0.956</td> \n",
       "</tr>\n",
       "<tr>\n",
       "  <th>Method:</th>             <td>Least Squares</td>  <th>  F-statistic:       </th>          <td>1.091e+04</td>\n",
       "</tr>\n",
       "<tr>\n",
       "  <th>Date:</th>             <td>Fri, 04 Aug 2023</td> <th>  Prob (F-statistic):</th>           <td>  0.00</td>  \n",
       "</tr>\n",
       "<tr>\n",
       "  <th>Time:</th>                 <td>15:34:18</td>     <th>  Log-Likelihood:    </th>          <td> -1425.5</td> \n",
       "</tr>\n",
       "<tr>\n",
       "  <th>No. Observations:</th>      <td>  1000</td>      <th>  AIC:               </th>          <td>   2855.</td> \n",
       "</tr>\n",
       "<tr>\n",
       "  <th>Df Residuals:</th>          <td>   998</td>      <th>  BIC:               </th>          <td>   2865.</td> \n",
       "</tr>\n",
       "<tr>\n",
       "  <th>Df Model:</th>              <td>     2</td>      <th>                     </th>              <td> </td>    \n",
       "</tr>\n",
       "<tr>\n",
       "  <th>Covariance Type:</th>      <td>nonrobust</td>    <th>                     </th>              <td> </td>    \n",
       "</tr>\n",
       "</table>\n",
       "<table class=\"simpletable\">\n",
       "<tr>\n",
       "   <td></td>     <th>coef</th>     <th>std err</th>      <th>t</th>      <th>P>|t|</th>  <th>[0.025</th>    <th>0.975]</th>  \n",
       "</tr>\n",
       "<tr>\n",
       "  <th>x1</th> <td>    0.4497</td> <td>    0.039</td> <td>   11.398</td> <td> 0.000</td> <td>    0.372</td> <td>    0.527</td>\n",
       "</tr>\n",
       "<tr>\n",
       "  <th>x2</th> <td>    4.8639</td> <td>    0.060</td> <td>   80.536</td> <td> 0.000</td> <td>    4.745</td> <td>    4.982</td>\n",
       "</tr>\n",
       "</table>\n",
       "<table class=\"simpletable\">\n",
       "<tr>\n",
       "  <th>Omnibus:</th>       <td>17.238</td> <th>  Durbin-Watson:     </th> <td>   2.066</td>\n",
       "</tr>\n",
       "<tr>\n",
       "  <th>Prob(Omnibus):</th> <td> 0.000</td> <th>  Jarque-Bera (JB):  </th> <td>  20.245</td>\n",
       "</tr>\n",
       "<tr>\n",
       "  <th>Skew:</th>          <td>-0.242</td> <th>  Prob(JB):          </th> <td>4.02e-05</td>\n",
       "</tr>\n",
       "<tr>\n",
       "  <th>Kurtosis:</th>      <td> 3.502</td> <th>  Cond. No.          </th> <td>    3.29</td>\n",
       "</tr>\n",
       "</table><br/><br/>Notes:<br/>[1] R² is computed without centering (uncentered) since the model does not contain a constant.<br/>[2] Standard Errors assume that the covariance matrix of the errors is correctly specified."
      ],
      "text/latex": [
       "\\begin{center}\n",
       "\\begin{tabular}{lclc}\n",
       "\\toprule\n",
       "\\textbf{Dep. Variable:}    &        y         & \\textbf{  R-squared (uncentered):}      &     0.956   \\\\\n",
       "\\textbf{Model:}            &       OLS        & \\textbf{  Adj. R-squared (uncentered):} &     0.956   \\\\\n",
       "\\textbf{Method:}           &  Least Squares   & \\textbf{  F-statistic:       }          & 1.091e+04   \\\\\n",
       "\\textbf{Date:}             & Fri, 04 Aug 2023 & \\textbf{  Prob (F-statistic):}          &     0.00    \\\\\n",
       "\\textbf{Time:}             &     15:34:18     & \\textbf{  Log-Likelihood:    }          &   -1425.5   \\\\\n",
       "\\textbf{No. Observations:} &        1000      & \\textbf{  AIC:               }          &     2855.   \\\\\n",
       "\\textbf{Df Residuals:}     &         998      & \\textbf{  BIC:               }          &     2865.   \\\\\n",
       "\\textbf{Df Model:}         &           2      & \\textbf{                     }          &             \\\\\n",
       "\\textbf{Covariance Type:}  &    nonrobust     & \\textbf{                     }          &             \\\\\n",
       "\\bottomrule\n",
       "\\end{tabular}\n",
       "\\begin{tabular}{lcccccc}\n",
       "            & \\textbf{coef} & \\textbf{std err} & \\textbf{t} & \\textbf{P$> |$t$|$} & \\textbf{[0.025} & \\textbf{0.975]}  \\\\\n",
       "\\midrule\n",
       "\\textbf{x1} &       0.4497  &        0.039     &    11.398  &         0.000        &        0.372    &        0.527     \\\\\n",
       "\\textbf{x2} &       4.8639  &        0.060     &    80.536  &         0.000        &        4.745    &        4.982     \\\\\n",
       "\\bottomrule\n",
       "\\end{tabular}\n",
       "\\begin{tabular}{lclc}\n",
       "\\textbf{Omnibus:}       & 17.238 & \\textbf{  Durbin-Watson:     } &    2.066  \\\\\n",
       "\\textbf{Prob(Omnibus):} &  0.000 & \\textbf{  Jarque-Bera (JB):  } &   20.245  \\\\\n",
       "\\textbf{Skew:}          & -0.242 & \\textbf{  Prob(JB):          } & 4.02e-05  \\\\\n",
       "\\textbf{Kurtosis:}      &  3.502 & \\textbf{  Cond. No.          } &     3.29  \\\\\n",
       "\\bottomrule\n",
       "\\end{tabular}\n",
       "%\\caption{OLS Regression Results}\n",
       "\\end{center}\n",
       "\n",
       "Notes: \\newline\n",
       " [1] R² is computed without centering (uncentered) since the model does not contain a constant. \\newline\n",
       " [2] Standard Errors assume that the covariance matrix of the errors is correctly specified."
      ],
      "text/plain": [
       "<class 'statsmodels.iolib.summary.Summary'>\n",
       "\"\"\"\n",
       "                                 OLS Regression Results                                \n",
       "=======================================================================================\n",
       "Dep. Variable:                      y   R-squared (uncentered):                   0.956\n",
       "Model:                            OLS   Adj. R-squared (uncentered):              0.956\n",
       "Method:                 Least Squares   F-statistic:                          1.091e+04\n",
       "Date:                Fri, 04 Aug 2023   Prob (F-statistic):                        0.00\n",
       "Time:                        15:34:18   Log-Likelihood:                         -1425.5\n",
       "No. Observations:                1000   AIC:                                      2855.\n",
       "Df Residuals:                     998   BIC:                                      2865.\n",
       "Df Model:                           2                                                  \n",
       "Covariance Type:            nonrobust                                                  \n",
       "==============================================================================\n",
       "                 coef    std err          t      P>|t|      [0.025      0.975]\n",
       "------------------------------------------------------------------------------\n",
       "x1             0.4497      0.039     11.398      0.000       0.372       0.527\n",
       "x2             4.8639      0.060     80.536      0.000       4.745       4.982\n",
       "==============================================================================\n",
       "Omnibus:                       17.238   Durbin-Watson:                   2.066\n",
       "Prob(Omnibus):                  0.000   Jarque-Bera (JB):               20.245\n",
       "Skew:                          -0.242   Prob(JB):                     4.02e-05\n",
       "Kurtosis:                       3.502   Cond. No.                         3.29\n",
       "==============================================================================\n",
       "\n",
       "Notes:\n",
       "[1] R² is computed without centering (uncentered) since the model does not contain a constant.\n",
       "[2] Standard Errors assume that the covariance matrix of the errors is correctly specified.\n",
       "\"\"\""
      ]
     },
     "execution_count": 10,
     "metadata": {},
     "output_type": "execute_result"
    }
   ],
   "source": [
    "model = OLS(np.asarray(df[outcome]), np.asarray(df[[common_cause, treatment]], dtype=np.float64))\n",
    "result = model.fit()\n",
    "result.summary()"
   ]
  }
 ],
 "metadata": {
  "kernelspec": {
   "display_name": "Python 3",
   "language": "python",
   "name": "python3"
  },
  "language_info": {
   "codemirror_mode": {
    "name": "ipython",
    "version": 3
   },
   "file_extension": ".py",
   "mimetype": "text/x-python",
   "name": "python",
   "nbconvert_exporter": "python",
   "pygments_lexer": "ipython3",
   "version": "3.8.10"
  },
  "toc": {
   "base_numbering": 1,
   "nav_menu": {},
   "number_sections": false,
   "sideBar": true,
   "skip_h1_title": true,
   "title_cell": "Table of Contents",
   "title_sidebar": "Contents",
   "toc_cell": false,
   "toc_position": {},
   "toc_section_display": true,
   "toc_window_display": false
  }
 },
 "nbformat": 4,
 "nbformat_minor": 4
}
