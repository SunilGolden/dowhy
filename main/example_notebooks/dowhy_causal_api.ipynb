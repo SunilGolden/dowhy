{
 "cells": [
  {
   "cell_type": "markdown",
   "metadata": {},
   "source": [
    "# Demo for the DoWhy causal API\n",
    "We show a simple example of adding a causal extension to any dataframe. "
   ]
  },
  {
   "cell_type": "code",
   "execution_count": 1,
   "metadata": {
    "execution": {
     "iopub.execute_input": "2024-01-30T16:03:56.377254Z",
     "iopub.status.busy": "2024-01-30T16:03:56.377072Z",
     "iopub.status.idle": "2024-01-30T16:03:57.830646Z",
     "shell.execute_reply": "2024-01-30T16:03:57.830030Z"
    }
   },
   "outputs": [],
   "source": [
    "import dowhy.datasets\n",
    "import dowhy.api\n",
    "from dowhy.graph import build_graph_from_str\n",
    "\n",
    "import numpy as np\n",
    "import pandas as pd\n",
    "\n",
    "from statsmodels.api import OLS"
   ]
  },
  {
   "cell_type": "code",
   "execution_count": 2,
   "metadata": {
    "execution": {
     "iopub.execute_input": "2024-01-30T16:03:57.833705Z",
     "iopub.status.busy": "2024-01-30T16:03:57.833107Z",
     "iopub.status.idle": "2024-01-30T16:03:57.870572Z",
     "shell.execute_reply": "2024-01-30T16:03:57.869962Z"
    }
   },
   "outputs": [
    {
     "data": {
      "text/html": [
       "<div>\n",
       "<style scoped>\n",
       "    .dataframe tbody tr th:only-of-type {\n",
       "        vertical-align: middle;\n",
       "    }\n",
       "\n",
       "    .dataframe tbody tr th {\n",
       "        vertical-align: top;\n",
       "    }\n",
       "\n",
       "    .dataframe thead th {\n",
       "        text-align: right;\n",
       "    }\n",
       "</style>\n",
       "<table border=\"1\" class=\"dataframe\">\n",
       "  <thead>\n",
       "    <tr style=\"text-align: right;\">\n",
       "      <th></th>\n",
       "      <th>W0</th>\n",
       "      <th>v0</th>\n",
       "      <th>y</th>\n",
       "    </tr>\n",
       "  </thead>\n",
       "  <tbody>\n",
       "    <tr>\n",
       "      <th>0</th>\n",
       "      <td>0.139895</td>\n",
       "      <td>False</td>\n",
       "      <td>0.725975</td>\n",
       "    </tr>\n",
       "    <tr>\n",
       "      <th>1</th>\n",
       "      <td>0.441310</td>\n",
       "      <td>False</td>\n",
       "      <td>0.390722</td>\n",
       "    </tr>\n",
       "    <tr>\n",
       "      <th>2</th>\n",
       "      <td>2.161172</td>\n",
       "      <td>True</td>\n",
       "      <td>6.000320</td>\n",
       "    </tr>\n",
       "    <tr>\n",
       "      <th>3</th>\n",
       "      <td>1.156442</td>\n",
       "      <td>True</td>\n",
       "      <td>4.977580</td>\n",
       "    </tr>\n",
       "    <tr>\n",
       "      <th>4</th>\n",
       "      <td>0.295562</td>\n",
       "      <td>True</td>\n",
       "      <td>4.837209</td>\n",
       "    </tr>\n",
       "    <tr>\n",
       "      <th>...</th>\n",
       "      <td>...</td>\n",
       "      <td>...</td>\n",
       "      <td>...</td>\n",
       "    </tr>\n",
       "    <tr>\n",
       "      <th>995</th>\n",
       "      <td>0.534898</td>\n",
       "      <td>False</td>\n",
       "      <td>-1.545799</td>\n",
       "    </tr>\n",
       "    <tr>\n",
       "      <th>996</th>\n",
       "      <td>0.952158</td>\n",
       "      <td>True</td>\n",
       "      <td>4.982640</td>\n",
       "    </tr>\n",
       "    <tr>\n",
       "      <th>997</th>\n",
       "      <td>0.791088</td>\n",
       "      <td>False</td>\n",
       "      <td>0.698613</td>\n",
       "    </tr>\n",
       "    <tr>\n",
       "      <th>998</th>\n",
       "      <td>0.207293</td>\n",
       "      <td>False</td>\n",
       "      <td>0.740914</td>\n",
       "    </tr>\n",
       "    <tr>\n",
       "      <th>999</th>\n",
       "      <td>0.392941</td>\n",
       "      <td>True</td>\n",
       "      <td>4.924382</td>\n",
       "    </tr>\n",
       "  </tbody>\n",
       "</table>\n",
       "<p>1000 rows × 3 columns</p>\n",
       "</div>"
      ],
      "text/plain": [
       "           W0     v0         y\n",
       "0    0.139895  False  0.725975\n",
       "1    0.441310  False  0.390722\n",
       "2    2.161172   True  6.000320\n",
       "3    1.156442   True  4.977580\n",
       "4    0.295562   True  4.837209\n",
       "..        ...    ...       ...\n",
       "995  0.534898  False -1.545799\n",
       "996  0.952158   True  4.982640\n",
       "997  0.791088  False  0.698613\n",
       "998  0.207293  False  0.740914\n",
       "999  0.392941   True  4.924382\n",
       "\n",
       "[1000 rows x 3 columns]"
      ]
     },
     "execution_count": 2,
     "metadata": {},
     "output_type": "execute_result"
    }
   ],
   "source": [
    "data = dowhy.datasets.linear_dataset(beta=5,\n",
    "        num_common_causes=1,\n",
    "        num_instruments = 0,\n",
    "        num_samples=1000,\n",
    "        treatment_is_binary=True)\n",
    "df = data['df']\n",
    "df['y'] = df['y'] + np.random.normal(size=len(df)) # Adding noise to data. Without noise, the variance in Y|X, Z is zero, and mcmc fails.\n",
    "nx_graph = build_graph_from_str(data[\"dot_graph\"])\n",
    "\n",
    "treatment= data[\"treatment_name\"][0]\n",
    "outcome = data[\"outcome_name\"][0]\n",
    "common_cause = data[\"common_causes_names\"][0]\n",
    "df"
   ]
  },
  {
   "cell_type": "code",
   "execution_count": 3,
   "metadata": {
    "execution": {
     "iopub.execute_input": "2024-01-30T16:03:57.873020Z",
     "iopub.status.busy": "2024-01-30T16:03:57.872747Z",
     "iopub.status.idle": "2024-01-30T16:03:58.054339Z",
     "shell.execute_reply": "2024-01-30T16:03:58.053668Z"
    },
    "scrolled": true
   },
   "outputs": [
    {
     "data": {
      "text/plain": [
       "<Axes: xlabel='v0'>"
      ]
     },
     "execution_count": 3,
     "metadata": {},
     "output_type": "execute_result"
    },
    {
     "data": {
      "image/png": "[encoded data removed]",
      "text/plain": [
       "<Figure size 640x480 with 1 Axes>"
      ]
     },
     "metadata": {},
     "output_type": "display_data"
    }
   ],
   "source": [
    "# data['df'] is just a regular pandas.DataFrame\n",
    "df.causal.do(x=treatment,\n",
    "             variable_types={treatment: 'b', outcome: 'c', common_cause: 'c'},\n",
    "             outcome=outcome,\n",
    "             common_causes=[common_cause],\n",
    "            ).groupby(treatment).mean().plot(y=outcome, kind='bar')"
   ]
  },
  {
   "cell_type": "code",
   "execution_count": 4,
   "metadata": {
    "execution": {
     "iopub.execute_input": "2024-01-30T16:03:58.056725Z",
     "iopub.status.busy": "2024-01-30T16:03:58.056531Z",
     "iopub.status.idle": "2024-01-30T16:03:58.188403Z",
     "shell.execute_reply": "2024-01-30T16:03:58.187798Z"
    }
   },
   "outputs": [
    {
     "data": {
      "text/plain": [
       "<Axes: xlabel='v0'>"
      ]
     },
     "execution_count": 4,
     "metadata": {},
     "output_type": "execute_result"
    },
    {
     "data": {
      "image/png": "[encoded data removed]",
      "text/plain": [
       "<Figure size 640x480 with 1 Axes>"
      ]
     },
     "metadata": {},
     "output_type": "display_data"
    }
   ],
   "source": [
    "df.causal.do(x={treatment: 1}, \n",
    "              variable_types={treatment:'b', outcome: 'c', common_cause: 'c'}, \n",
    "              outcome=outcome,\n",
    "              method='weighting', \n",
    "              common_causes=[common_cause]\n",
    "              ).groupby(treatment).mean().plot(y=outcome, kind='bar')"
   ]
  },
  {
   "cell_type": "code",
   "execution_count": 5,
   "metadata": {
    "execution": {
     "iopub.execute_input": "2024-01-30T16:03:58.191513Z",
     "iopub.status.busy": "2024-01-30T16:03:58.191282Z",
     "iopub.status.idle": "2024-01-30T16:03:58.211505Z",
     "shell.execute_reply": "2024-01-30T16:03:58.210913Z"
    }
   },
   "outputs": [],
   "source": [
    "cdf_1 = df.causal.do(x={treatment: 1}, \n",
    "              variable_types={treatment: 'b', outcome: 'c', common_cause: 'c'}, \n",
    "              outcome=outcome, \n",
    "              graph=nx_graph\n",
    "              )\n",
    "\n",
    "cdf_0 = df.causal.do(x={treatment: 0}, \n",
    "              variable_types={treatment: 'b', outcome: 'c', common_cause: 'c'}, \n",
    "              outcome=outcome, \n",
    "              graph=nx_graph\n",
    "              )\n"
   ]
  },
  {
   "cell_type": "code",
   "execution_count": 6,
   "metadata": {
    "execution": {
     "iopub.execute_input": "2024-01-30T16:03:58.213838Z",
     "iopub.status.busy": "2024-01-30T16:03:58.213645Z",
     "iopub.status.idle": "2024-01-30T16:03:58.222945Z",
     "shell.execute_reply": "2024-01-30T16:03:58.222308Z"
    },
    "scrolled": true
   },
   "outputs": [
    {
     "data": {
      "text/html": [
       "<div>\n",
       "<style scoped>\n",
       "    .dataframe tbody tr th:only-of-type {\n",
       "        vertical-align: middle;\n",
       "    }\n",
       "\n",
       "    .dataframe tbody tr th {\n",
       "        vertical-align: top;\n",
       "    }\n",
       "\n",
       "    .dataframe thead th {\n",
       "        text-align: right;\n",
       "    }\n",
       "</style>\n",
       "<table border=\"1\" class=\"dataframe\">\n",
       "  <thead>\n",
       "    <tr style=\"text-align: right;\">\n",
       "      <th></th>\n",
       "      <th>W0</th>\n",
       "      <th>v0</th>\n",
       "      <th>y</th>\n",
       "      <th>propensity_score</th>\n",
       "      <th>weight</th>\n",
       "    </tr>\n",
       "  </thead>\n",
       "  <tbody>\n",
       "    <tr>\n",
       "      <th>0</th>\n",
       "      <td>-1.081241</td>\n",
       "      <td>False</td>\n",
       "      <td>-1.413455</td>\n",
       "      <td>0.867967</td>\n",
       "      <td>1.152117</td>\n",
       "    </tr>\n",
       "    <tr>\n",
       "      <th>1</th>\n",
       "      <td>0.627052</td>\n",
       "      <td>False</td>\n",
       "      <td>0.019487</td>\n",
       "      <td>0.239899</td>\n",
       "      <td>4.168415</td>\n",
       "    </tr>\n",
       "    <tr>\n",
       "      <th>2</th>\n",
       "      <td>0.101236</td>\n",
       "      <td>False</td>\n",
       "      <td>0.872251</td>\n",
       "      <td>0.445557</td>\n",
       "      <td>2.244384</td>\n",
       "    </tr>\n",
       "    <tr>\n",
       "      <th>3</th>\n",
       "      <td>1.673205</td>\n",
       "      <td>False</td>\n",
       "      <td>0.912117</td>\n",
       "      <td>0.046857</td>\n",
       "      <td>21.341714</td>\n",
       "    </tr>\n",
       "    <tr>\n",
       "      <th>4</th>\n",
       "      <td>0.685169</td>\n",
       "      <td>False</td>\n",
       "      <td>-0.064892</td>\n",
       "      <td>0.221572</td>\n",
       "      <td>4.513204</td>\n",
       "    </tr>\n",
       "    <tr>\n",
       "      <th>...</th>\n",
       "      <td>...</td>\n",
       "      <td>...</td>\n",
       "      <td>...</td>\n",
       "      <td>...</td>\n",
       "      <td>...</td>\n",
       "    </tr>\n",
       "    <tr>\n",
       "      <th>995</th>\n",
       "      <td>0.207293</td>\n",
       "      <td>False</td>\n",
       "      <td>0.740914</td>\n",
       "      <td>0.399596</td>\n",
       "      <td>2.502525</td>\n",
       "    </tr>\n",
       "    <tr>\n",
       "      <th>996</th>\n",
       "      <td>0.627052</td>\n",
       "      <td>False</td>\n",
       "      <td>0.019487</td>\n",
       "      <td>0.239899</td>\n",
       "      <td>4.168415</td>\n",
       "    </tr>\n",
       "    <tr>\n",
       "      <th>997</th>\n",
       "      <td>-1.585109</td>\n",
       "      <td>False</td>\n",
       "      <td>-0.634686</td>\n",
       "      <td>0.941513</td>\n",
       "      <td>1.062120</td>\n",
       "    </tr>\n",
       "    <tr>\n",
       "      <th>998</th>\n",
       "      <td>1.533579</td>\n",
       "      <td>False</td>\n",
       "      <td>1.596262</td>\n",
       "      <td>0.059273</td>\n",
       "      <td>16.871099</td>\n",
       "    </tr>\n",
       "    <tr>\n",
       "      <th>999</th>\n",
       "      <td>0.169537</td>\n",
       "      <td>False</td>\n",
       "      <td>-0.191473</td>\n",
       "      <td>0.415800</td>\n",
       "      <td>2.405003</td>\n",
       "    </tr>\n",
       "  </tbody>\n",
       "</table>\n",
       "<p>1000 rows × 5 columns</p>\n",
       "</div>"
      ],
      "text/plain": [
       "           W0     v0         y  propensity_score     weight\n",
       "0   -1.081241  False -1.413455          0.867967   1.152117\n",
       "1    0.627052  False  0.019487          0.239899   4.168415\n",
       "2    0.101236  False  0.872251          0.445557   2.244384\n",
       "3    1.673205  False  0.912117          0.046857  21.341714\n",
       "4    0.685169  False -0.064892          0.221572   4.513204\n",
       "..        ...    ...       ...               ...        ...\n",
       "995  0.207293  False  0.740914          0.399596   2.502525\n",
       "996  0.627052  False  0.019487          0.239899   4.168415\n",
       "997 -1.585109  False -0.634686          0.941513   1.062120\n",
       "998  1.533579  False  1.596262          0.059273  16.871099\n",
       "999  0.169537  False -0.191473          0.415800   2.405003\n",
       "\n",
       "[1000 rows x 5 columns]"
      ]
     },
     "execution_count": 6,
     "metadata": {},
     "output_type": "execute_result"
    }
   ],
   "source": [
    "cdf_0"
   ]
  },
  {
   "cell_type": "code",
   "execution_count": 7,
   "metadata": {
    "execution": {
     "iopub.execute_input": "2024-01-30T16:03:58.225255Z",
     "iopub.status.busy": "2024-01-30T16:03:58.224894Z",
     "iopub.status.idle": "2024-01-30T16:03:58.233553Z",
     "shell.execute_reply": "2024-01-30T16:03:58.232943Z"
    }
   },
   "outputs": [
    {
     "data": {
      "text/html": [
       "<div>\n",
       "<style scoped>\n",
       "    .dataframe tbody tr th:only-of-type {\n",
       "        vertical-align: middle;\n",
       "    }\n",
       "\n",
       "    .dataframe tbody tr th {\n",
       "        vertical-align: top;\n",
       "    }\n",
       "\n",
       "    .dataframe thead th {\n",
       "        text-align: right;\n",
       "    }\n",
       "</style>\n",
       "<table border=\"1\" class=\"dataframe\">\n",
       "  <thead>\n",
       "    <tr style=\"text-align: right;\">\n",
       "      <th></th>\n",
       "      <th>W0</th>\n",
       "      <th>v0</th>\n",
       "      <th>y</th>\n",
       "      <th>propensity_score</th>\n",
       "      <th>weight</th>\n",
       "    </tr>\n",
       "  </thead>\n",
       "  <tbody>\n",
       "    <tr>\n",
       "      <th>0</th>\n",
       "      <td>1.371319</td>\n",
       "      <td>True</td>\n",
       "      <td>6.164877</td>\n",
       "      <td>0.922449</td>\n",
       "      <td>1.084071</td>\n",
       "    </tr>\n",
       "    <tr>\n",
       "      <th>1</th>\n",
       "      <td>-0.418538</td>\n",
       "      <td>True</td>\n",
       "      <td>6.108949</td>\n",
       "      <td>0.330658</td>\n",
       "      <td>3.024274</td>\n",
       "    </tr>\n",
       "    <tr>\n",
       "      <th>2</th>\n",
       "      <td>1.329232</td>\n",
       "      <td>True</td>\n",
       "      <td>5.837597</td>\n",
       "      <td>0.916926</td>\n",
       "      <td>1.090601</td>\n",
       "    </tr>\n",
       "    <tr>\n",
       "      <th>3</th>\n",
       "      <td>1.124828</td>\n",
       "      <td>True</td>\n",
       "      <td>7.196275</td>\n",
       "      <td>0.884728</td>\n",
       "      <td>1.130291</td>\n",
       "    </tr>\n",
       "    <tr>\n",
       "      <th>4</th>\n",
       "      <td>0.677533</td>\n",
       "      <td>True</td>\n",
       "      <td>6.186566</td>\n",
       "      <td>0.776078</td>\n",
       "      <td>1.288530</td>\n",
       "    </tr>\n",
       "    <tr>\n",
       "      <th>...</th>\n",
       "      <td>...</td>\n",
       "      <td>...</td>\n",
       "      <td>...</td>\n",
       "      <td>...</td>\n",
       "      <td>...</td>\n",
       "    </tr>\n",
       "    <tr>\n",
       "      <th>995</th>\n",
       "      <td>1.836263</td>\n",
       "      <td>True</td>\n",
       "      <td>6.123997</td>\n",
       "      <td>0.964514</td>\n",
       "      <td>1.036791</td>\n",
       "    </tr>\n",
       "    <tr>\n",
       "      <th>996</th>\n",
       "      <td>1.975454</td>\n",
       "      <td>True</td>\n",
       "      <td>6.274403</td>\n",
       "      <td>0.972075</td>\n",
       "      <td>1.028728</td>\n",
       "    </tr>\n",
       "    <tr>\n",
       "      <th>997</th>\n",
       "      <td>1.219331</td>\n",
       "      <td>True</td>\n",
       "      <td>4.988036</td>\n",
       "      <td>0.900783</td>\n",
       "      <td>1.110145</td>\n",
       "    </tr>\n",
       "    <tr>\n",
       "      <th>998</th>\n",
       "      <td>0.352054</td>\n",
       "      <td>True</td>\n",
       "      <td>5.244182</td>\n",
       "      <td>0.660258</td>\n",
       "      <td>1.514558</td>\n",
       "    </tr>\n",
       "    <tr>\n",
       "      <th>999</th>\n",
       "      <td>-0.314549</td>\n",
       "      <td>True</td>\n",
       "      <td>5.746180</td>\n",
       "      <td>0.372763</td>\n",
       "      <td>2.682667</td>\n",
       "    </tr>\n",
       "  </tbody>\n",
       "</table>\n",
       "<p>1000 rows × 5 columns</p>\n",
       "</div>"
      ],
      "text/plain": [
       "           W0    v0         y  propensity_score    weight\n",
       "0    1.371319  True  6.164877          0.922449  1.084071\n",
       "1   -0.418538  True  6.108949          0.330658  3.024274\n",
       "2    1.329232  True  5.837597          0.916926  1.090601\n",
       "3    1.124828  True  7.196275          0.884728  1.130291\n",
       "4    0.677533  True  6.186566          0.776078  1.288530\n",
       "..        ...   ...       ...               ...       ...\n",
       "995  1.836263  True  6.123997          0.964514  1.036791\n",
       "996  1.975454  True  6.274403          0.972075  1.028728\n",
       "997  1.219331  True  4.988036          0.900783  1.110145\n",
       "998  0.352054  True  5.244182          0.660258  1.514558\n",
       "999 -0.314549  True  5.746180          0.372763  2.682667\n",
       "\n",
       "[1000 rows x 5 columns]"
      ]
     },
     "execution_count": 7,
     "metadata": {},
     "output_type": "execute_result"
    }
   ],
   "source": [
    "cdf_1"
   ]
  },
  {
   "cell_type": "markdown",
   "metadata": {},
   "source": [
    "## Comparing the estimate to Linear Regression\n",
    "First, estimating the effect using the causal data frame, and the 95% confidence interval."
   ]
  },
  {
   "cell_type": "code",
   "execution_count": 8,
   "metadata": {
    "execution": {
     "iopub.execute_input": "2024-01-30T16:03:58.235885Z",
     "iopub.status.busy": "2024-01-30T16:03:58.235532Z",
     "iopub.status.idle": "2024-01-30T16:03:58.282054Z",
     "shell.execute_reply": "2024-01-30T16:03:58.281416Z"
    }
   },
   "outputs": [
    {
     "data": {
      "image/png": "[encoded data removed]",
      "text/latex": [
       "$\\displaystyle 5.20422833971458$"
      ],
      "text/plain": [
       "5.204228339714576"
      ]
     },
     "execution_count": 8,
     "metadata": {},
     "output_type": "execute_result"
    }
   ],
   "source": [
    "(cdf_1['y'] - cdf_0['y']).mean()"
   ]
  },
  {
   "cell_type": "code",
   "execution_count": 9,
   "metadata": {
    "execution": {
     "iopub.execute_input": "2024-01-30T16:03:58.284480Z",
     "iopub.status.busy": "2024-01-30T16:03:58.284171Z",
     "iopub.status.idle": "2024-01-30T16:03:58.300580Z",
     "shell.execute_reply": "2024-01-30T16:03:58.299969Z"
    }
   },
   "outputs": [
    {
     "data": {
      "image/png": "[encoded data removed]",
      "text/latex": [
       "$\\displaystyle 0.0891269871758562$"
      ],
      "text/plain": [
       "0.08912698717585615"
      ]
     },
     "execution_count": 9,
     "metadata": {},
     "output_type": "execute_result"
    }
   ],
   "source": [
    "1.96*(cdf_1['y'] - cdf_0['y']).std() / np.sqrt(len(df))"
   ]
  },
  {
   "cell_type": "markdown",
   "metadata": {},
   "source": [
    "Comparing to the estimate from OLS."
   ]
  },
  {
   "cell_type": "code",
   "execution_count": 10,
   "metadata": {
    "execution": {
     "iopub.execute_input": "2024-01-30T16:03:58.302923Z",
     "iopub.status.busy": "2024-01-30T16:03:58.302564Z",
     "iopub.status.idle": "2024-01-30T16:03:58.318905Z",
     "shell.execute_reply": "2024-01-30T16:03:58.318299Z"
    }
   },
   "outputs": [
    {
     "data": {
      "text/html": [
       "<table class=\"simpletable\">\n",
       "<caption>OLS Regression Results</caption>\n",
       "<tr>\n",
       "  <th>Dep. Variable:</th>            <td>y</td>        <th>  R-squared (uncentered):</th>      <td>   0.959</td> \n",
       "</tr>\n",
       "<tr>\n",
       "  <th>Model:</th>                   <td>OLS</td>       <th>  Adj. R-squared (uncentered):</th> <td>   0.959</td> \n",
       "</tr>\n",
       "<tr>\n",
       "  <th>Method:</th>             <td>Least Squares</td>  <th>  F-statistic:       </th>          <td>1.179e+04</td>\n",
       "</tr>\n",
       "<tr>\n",
       "  <th>Date:</th>             <td>Tue, 30 Jan 2024</td> <th>  Prob (F-statistic):</th>           <td>  0.00</td>  \n",
       "</tr>\n",
       "<tr>\n",
       "  <th>Time:</th>                 <td>16:03:58</td>     <th>  Log-Likelihood:    </th>          <td> -1358.6</td> \n",
       "</tr>\n",
       "<tr>\n",
       "  <th>No. Observations:</th>      <td>  1000</td>      <th>  AIC:               </th>          <td>   2721.</td> \n",
       "</tr>\n",
       "<tr>\n",
       "  <th>Df Residuals:</th>          <td>   998</td>      <th>  BIC:               </th>          <td>   2731.</td> \n",
       "</tr>\n",
       "<tr>\n",
       "  <th>Df Model:</th>              <td>     2</td>      <th>                     </th>              <td> </td>    \n",
       "</tr>\n",
       "<tr>\n",
       "  <th>Covariance Type:</th>      <td>nonrobust</td>    <th>                     </th>              <td> </td>    \n",
       "</tr>\n",
       "</table>\n",
       "<table class=\"simpletable\">\n",
       "<tr>\n",
       "   <td></td>     <th>coef</th>     <th>std err</th>      <th>t</th>      <th>P>|t|</th>  <th>[0.025</th>    <th>0.975]</th>  \n",
       "</tr>\n",
       "<tr>\n",
       "  <th>x1</th> <td>    0.4366</td> <td>    0.036</td> <td>   12.099</td> <td> 0.000</td> <td>    0.366</td> <td>    0.507</td>\n",
       "</tr>\n",
       "<tr>\n",
       "  <th>x2</th> <td>    5.0210</td> <td>    0.051</td> <td>   98.277</td> <td> 0.000</td> <td>    4.921</td> <td>    5.121</td>\n",
       "</tr>\n",
       "</table>\n",
       "<table class=\"simpletable\">\n",
       "<tr>\n",
       "  <th>Omnibus:</th>       <td> 4.176</td> <th>  Durbin-Watson:     </th> <td>   2.066</td>\n",
       "</tr>\n",
       "<tr>\n",
       "  <th>Prob(Omnibus):</th> <td> 0.124</td> <th>  Jarque-Bera (JB):  </th> <td>   4.377</td>\n",
       "</tr>\n",
       "<tr>\n",
       "  <th>Skew:</th>          <td>-0.093</td> <th>  Prob(JB):          </th> <td>   0.112</td>\n",
       "</tr>\n",
       "<tr>\n",
       "  <th>Kurtosis:</th>      <td> 3.266</td> <th>  Cond. No.          </th> <td>    2.66</td>\n",
       "</tr>\n",
       "</table><br/><br/>Notes:<br/>[1] R² is computed without centering (uncentered) since the model does not contain a constant.<br/>[2] Standard Errors assume that the covariance matrix of the errors is correctly specified."
      ],
      "text/latex": [
       "\\begin{center}\n",
       "\\begin{tabular}{lclc}\n",
       "\\toprule\n",
       "\\textbf{Dep. Variable:}    &        y         & \\textbf{  R-squared (uncentered):}      &     0.959   \\\\\n",
       "\\textbf{Model:}            &       OLS        & \\textbf{  Adj. R-squared (uncentered):} &     0.959   \\\\\n",
       "\\textbf{Method:}           &  Least Squares   & \\textbf{  F-statistic:       }          & 1.179e+04   \\\\\n",
       "\\textbf{Date:}             & Tue, 30 Jan 2024 & \\textbf{  Prob (F-statistic):}          &     0.00    \\\\\n",
       "\\textbf{Time:}             &     16:03:58     & \\textbf{  Log-Likelihood:    }          &   -1358.6   \\\\\n",
       "\\textbf{No. Observations:} &        1000      & \\textbf{  AIC:               }          &     2721.   \\\\\n",
       "\\textbf{Df Residuals:}     &         998      & \\textbf{  BIC:               }          &     2731.   \\\\\n",
       "\\textbf{Df Model:}         &           2      & \\textbf{                     }          &             \\\\\n",
       "\\textbf{Covariance Type:}  &    nonrobust     & \\textbf{                     }          &             \\\\\n",
       "\\bottomrule\n",
       "\\end{tabular}\n",
       "\\begin{tabular}{lcccccc}\n",
       "            & \\textbf{coef} & \\textbf{std err} & \\textbf{t} & \\textbf{P$> |$t$|$} & \\textbf{[0.025} & \\textbf{0.975]}  \\\\\n",
       "\\midrule\n",
       "\\textbf{x1} &       0.4366  &        0.036     &    12.099  &         0.000        &        0.366    &        0.507     \\\\\n",
       "\\textbf{x2} &       5.0210  &        0.051     &    98.277  &         0.000        &        4.921    &        5.121     \\\\\n",
       "\\bottomrule\n",
       "\\end{tabular}\n",
       "\\begin{tabular}{lclc}\n",
       "\\textbf{Omnibus:}       &  4.176 & \\textbf{  Durbin-Watson:     } &    2.066  \\\\\n",
       "\\textbf{Prob(Omnibus):} &  0.124 & \\textbf{  Jarque-Bera (JB):  } &    4.377  \\\\\n",
       "\\textbf{Skew:}          & -0.093 & \\textbf{  Prob(JB):          } &    0.112  \\\\\n",
       "\\textbf{Kurtosis:}      &  3.266 & \\textbf{  Cond. No.          } &     2.66  \\\\\n",
       "\\bottomrule\n",
       "\\end{tabular}\n",
       "%\\caption{OLS Regression Results}\n",
       "\\end{center}\n",
       "\n",
       "Notes: \\newline\n",
       " [1] R² is computed without centering (uncentered) since the model does not contain a constant. \\newline\n",
       " [2] Standard Errors assume that the covariance matrix of the errors is correctly specified."
      ],
      "text/plain": [
       "<class 'statsmodels.iolib.summary.Summary'>\n",
       "\"\"\"\n",
       "                                 OLS Regression Results                                \n",
       "=======================================================================================\n",
       "Dep. Variable:                      y   R-squared (uncentered):                   0.959\n",
       "Model:                            OLS   Adj. R-squared (uncentered):              0.959\n",
       "Method:                 Least Squares   F-statistic:                          1.179e+04\n",
       "Date:                Tue, 30 Jan 2024   Prob (F-statistic):                        0.00\n",
       "Time:                        16:03:58   Log-Likelihood:                         -1358.6\n",
       "No. Observations:                1000   AIC:                                      2721.\n",
       "Df Residuals:                     998   BIC:                                      2731.\n",
       "Df Model:                           2                                                  \n",
       "Covariance Type:            nonrobust                                                  \n",
       "==============================================================================\n",
       "                 coef    std err          t      P>|t|      [0.025      0.975]\n",
       "------------------------------------------------------------------------------\n",
       "x1             0.4366      0.036     12.099      0.000       0.366       0.507\n",
       "x2             5.0210      0.051     98.277      0.000       4.921       5.121\n",
       "==============================================================================\n",
       "Omnibus:                        4.176   Durbin-Watson:                   2.066\n",
       "Prob(Omnibus):                  0.124   Jarque-Bera (JB):                4.377\n",
       "Skew:                          -0.093   Prob(JB):                        0.112\n",
       "Kurtosis:                       3.266   Cond. No.                         2.66\n",
       "==============================================================================\n",
       "\n",
       "Notes:\n",
       "[1] R² is computed without centering (uncentered) since the model does not contain a constant.\n",
       "[2] Standard Errors assume that the covariance matrix of the errors is correctly specified.\n",
       "\"\"\""
      ]
     },
     "execution_count": 10,
     "metadata": {},
     "output_type": "execute_result"
    }
   ],
   "source": [
    "model = OLS(np.asarray(df[outcome]), np.asarray(df[[common_cause, treatment]], dtype=np.float64))\n",
    "result = model.fit()\n",
    "result.summary()"
   ]
  }
 ],
 "metadata": {
  "kernelspec": {
   "display_name": "Python 3 (ipykernel)",
   "language": "python",
   "name": "python3"
  },
  "language_info": {
   "codemirror_mode": {
    "name": "ipython",
    "version": 3
   },
   "file_extension": ".py",
   "mimetype": "text/x-python",
   "name": "python",
   "nbconvert_exporter": "python",
   "pygments_lexer": "ipython3",
   "version": "3.8.10"
  },
  "toc": {
   "base_numbering": 1,
   "nav_menu": {},
   "number_sections": false,
   "sideBar": true,
   "skip_h1_title": true,
   "title_cell": "Table of Contents",
   "title_sidebar": "Contents",
   "toc_cell": false,
   "toc_position": {},
   "toc_section_display": true,
   "toc_window_display": false
  }
 },
 "nbformat": 4,
 "nbformat_minor": 4
}
