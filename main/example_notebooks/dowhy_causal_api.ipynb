{
 "cells": [
  {
   "cell_type": "markdown",
   "metadata": {},
   "source": [
    "# Demo for the DoWhy causal API\n",
    "We show a simple example of adding a causal extension to any dataframe. "
   ]
  },
  {
   "cell_type": "code",
   "execution_count": 1,
   "metadata": {
    "execution": {
     "iopub.execute_input": "2023-03-15T20:28:24.247404Z",
     "iopub.status.busy": "2023-03-15T20:28:24.247137Z",
     "iopub.status.idle": "2023-03-15T20:28:25.922503Z",
     "shell.execute_reply": "2023-03-15T20:28:25.921776Z"
    }
   },
   "outputs": [],
   "source": [
    "import dowhy.datasets\n",
    "import dowhy.api\n",
    "\n",
    "import numpy as np\n",
    "import pandas as pd\n",
    "\n",
    "from statsmodels.api import OLS"
   ]
  },
  {
   "cell_type": "code",
   "execution_count": 2,
   "metadata": {
    "execution": {
     "iopub.execute_input": "2023-03-15T20:28:25.926608Z",
     "iopub.status.busy": "2023-03-15T20:28:25.926031Z",
     "iopub.status.idle": "2023-03-15T20:28:25.977745Z",
     "shell.execute_reply": "2023-03-15T20:28:25.976677Z"
    }
   },
   "outputs": [
    {
     "data": {
      "text/html": [
       "<div>\n",
       "<style scoped>\n",
       "    .dataframe tbody tr th:only-of-type {\n",
       "        vertical-align: middle;\n",
       "    }\n",
       "\n",
       "    .dataframe tbody tr th {\n",
       "        vertical-align: top;\n",
       "    }\n",
       "\n",
       "    .dataframe thead th {\n",
       "        text-align: right;\n",
       "    }\n",
       "</style>\n",
       "<table border=\"1\" class=\"dataframe\">\n",
       "  <thead>\n",
       "    <tr style=\"text-align: right;\">\n",
       "      <th></th>\n",
       "      <th>W0</th>\n",
       "      <th>v0</th>\n",
       "      <th>y</th>\n",
       "    </tr>\n",
       "  </thead>\n",
       "  <tbody>\n",
       "    <tr>\n",
       "      <th>0</th>\n",
       "      <td>-0.769782</td>\n",
       "      <td>True</td>\n",
       "      <td>2.714236</td>\n",
       "    </tr>\n",
       "    <tr>\n",
       "      <th>1</th>\n",
       "      <td>-0.971834</td>\n",
       "      <td>False</td>\n",
       "      <td>-0.986104</td>\n",
       "    </tr>\n",
       "    <tr>\n",
       "      <th>2</th>\n",
       "      <td>-1.968697</td>\n",
       "      <td>True</td>\n",
       "      <td>-0.574426</td>\n",
       "    </tr>\n",
       "    <tr>\n",
       "      <th>3</th>\n",
       "      <td>-1.991078</td>\n",
       "      <td>False</td>\n",
       "      <td>-5.947173</td>\n",
       "    </tr>\n",
       "    <tr>\n",
       "      <th>4</th>\n",
       "      <td>0.754661</td>\n",
       "      <td>False</td>\n",
       "      <td>2.550966</td>\n",
       "    </tr>\n",
       "    <tr>\n",
       "      <th>...</th>\n",
       "      <td>...</td>\n",
       "      <td>...</td>\n",
       "      <td>...</td>\n",
       "    </tr>\n",
       "    <tr>\n",
       "      <th>995</th>\n",
       "      <td>-0.743991</td>\n",
       "      <td>True</td>\n",
       "      <td>3.368132</td>\n",
       "    </tr>\n",
       "    <tr>\n",
       "      <th>996</th>\n",
       "      <td>-1.018581</td>\n",
       "      <td>False</td>\n",
       "      <td>-2.951918</td>\n",
       "    </tr>\n",
       "    <tr>\n",
       "      <th>997</th>\n",
       "      <td>-0.303651</td>\n",
       "      <td>False</td>\n",
       "      <td>-0.550223</td>\n",
       "    </tr>\n",
       "    <tr>\n",
       "      <th>998</th>\n",
       "      <td>-1.282030</td>\n",
       "      <td>True</td>\n",
       "      <td>1.426503</td>\n",
       "    </tr>\n",
       "    <tr>\n",
       "      <th>999</th>\n",
       "      <td>0.090835</td>\n",
       "      <td>False</td>\n",
       "      <td>-0.107676</td>\n",
       "    </tr>\n",
       "  </tbody>\n",
       "</table>\n",
       "<p>1000 rows × 3 columns</p>\n",
       "</div>"
      ],
      "text/plain": [
       "           W0     v0         y\n",
       "0   -0.769782   True  2.714236\n",
       "1   -0.971834  False -0.986104\n",
       "2   -1.968697   True -0.574426\n",
       "3   -1.991078  False -5.947173\n",
       "4    0.754661  False  2.550966\n",
       "..        ...    ...       ...\n",
       "995 -0.743991   True  3.368132\n",
       "996 -1.018581  False -2.951918\n",
       "997 -0.303651  False -0.550223\n",
       "998 -1.282030   True  1.426503\n",
       "999  0.090835  False -0.107676\n",
       "\n",
       "[1000 rows x 3 columns]"
      ]
     },
     "execution_count": 2,
     "metadata": {},
     "output_type": "execute_result"
    }
   ],
   "source": [
    "data = dowhy.datasets.linear_dataset(beta=5,\n",
    "        num_common_causes=1,\n",
    "        num_instruments = 0,\n",
    "        num_samples=1000,\n",
    "        treatment_is_binary=True)\n",
    "df = data['df']\n",
    "df['y'] = df['y'] + np.random.normal(size=len(df)) # Adding noise to data. Without noise, the variance in Y|X, Z is zero, and mcmc fails.\n",
    "#data['dot_graph'] = 'digraph { v ->y;X0-> v;X0-> y;}'\n",
    "\n",
    "treatment= data[\"treatment_name\"][0]\n",
    "outcome = data[\"outcome_name\"][0]\n",
    "common_cause = data[\"common_causes_names\"][0]\n",
    "df"
   ]
  },
  {
   "cell_type": "code",
   "execution_count": 3,
   "metadata": {
    "execution": {
     "iopub.execute_input": "2023-03-15T20:28:25.981124Z",
     "iopub.status.busy": "2023-03-15T20:28:25.980752Z",
     "iopub.status.idle": "2023-03-15T20:28:26.143711Z",
     "shell.execute_reply": "2023-03-15T20:28:26.143100Z"
    }
   },
   "outputs": [
    {
     "data": {
      "text/plain": [
       "<AxesSubplot: xlabel='v0'>"
      ]
     },
     "execution_count": 3,
     "metadata": {},
     "output_type": "execute_result"
    },
    {
     "data": {
      "image/png": "[encoded data removed]",
      "text/plain": [
       "<Figure size 640x480 with 1 Axes>"
      ]
     },
     "metadata": {},
     "output_type": "display_data"
    }
   ],
   "source": [
    "# data['df'] is just a regular pandas.DataFrame\n",
    "df.causal.do(x=treatment,\n",
    "                     variable_types={treatment: 'b', outcome: 'c', common_cause: 'c'},\n",
    "                     outcome=outcome,\n",
    "                     common_causes=[common_cause],\n",
    "                     proceed_when_unidentifiable=True).groupby(treatment).mean().plot(y=outcome, kind='bar')"
   ]
  },
  {
   "cell_type": "code",
   "execution_count": 4,
   "metadata": {
    "execution": {
     "iopub.execute_input": "2023-03-15T20:28:26.146799Z",
     "iopub.status.busy": "2023-03-15T20:28:26.146557Z",
     "iopub.status.idle": "2023-03-15T20:28:26.379794Z",
     "shell.execute_reply": "2023-03-15T20:28:26.379155Z"
    }
   },
   "outputs": [
    {
     "data": {
      "text/plain": [
       "<AxesSubplot: xlabel='v0'>"
      ]
     },
     "execution_count": 4,
     "metadata": {},
     "output_type": "execute_result"
    },
    {
     "data": {
      "image/png": "[encoded data removed]",
      "text/plain": [
       "<Figure size 640x480 with 1 Axes>"
      ]
     },
     "metadata": {},
     "output_type": "display_data"
    }
   ],
   "source": [
    "df.causal.do(x={treatment: 1}, \n",
    "              variable_types={treatment:'b', outcome: 'c', common_cause: 'c'}, \n",
    "              outcome=outcome,\n",
    "              method='weighting', \n",
    "              common_causes=[common_cause],\n",
    "              proceed_when_unidentifiable=True).groupby(treatment).mean().plot(y=outcome, kind='bar')"
   ]
  },
  {
   "cell_type": "code",
   "execution_count": 5,
   "metadata": {
    "execution": {
     "iopub.execute_input": "2023-03-15T20:28:26.382997Z",
     "iopub.status.busy": "2023-03-15T20:28:26.382757Z",
     "iopub.status.idle": "2023-03-15T20:28:26.413829Z",
     "shell.execute_reply": "2023-03-15T20:28:26.413220Z"
    }
   },
   "outputs": [],
   "source": [
    "cdf_1 = df.causal.do(x={treatment: 1}, \n",
    "              variable_types={treatment: 'b', outcome: 'c', common_cause: 'c'}, \n",
    "              outcome=outcome, \n",
    "              dot_graph=data['dot_graph'],\n",
    "              proceed_when_unidentifiable=True)\n",
    "\n",
    "cdf_0 = df.causal.do(x={treatment: 0}, \n",
    "              variable_types={treatment: 'b', outcome: 'c', common_cause: 'c'}, \n",
    "              outcome=outcome, \n",
    "              dot_graph=data['dot_graph'],\n",
    "              proceed_when_unidentifiable=True)\n"
   ]
  },
  {
   "cell_type": "code",
   "execution_count": 6,
   "metadata": {
    "execution": {
     "iopub.execute_input": "2023-03-15T20:28:26.417017Z",
     "iopub.status.busy": "2023-03-15T20:28:26.416790Z",
     "iopub.status.idle": "2023-03-15T20:28:26.427340Z",
     "shell.execute_reply": "2023-03-15T20:28:26.426668Z"
    },
    "scrolled": true
   },
   "outputs": [
    {
     "data": {
      "text/html": [
       "<div>\n",
       "<style scoped>\n",
       "    .dataframe tbody tr th:only-of-type {\n",
       "        vertical-align: middle;\n",
       "    }\n",
       "\n",
       "    .dataframe tbody tr th {\n",
       "        vertical-align: top;\n",
       "    }\n",
       "\n",
       "    .dataframe thead th {\n",
       "        text-align: right;\n",
       "    }\n",
       "</style>\n",
       "<table border=\"1\" class=\"dataframe\">\n",
       "  <thead>\n",
       "    <tr style=\"text-align: right;\">\n",
       "      <th></th>\n",
       "      <th>W0</th>\n",
       "      <th>v0</th>\n",
       "      <th>y</th>\n",
       "      <th>propensity_score</th>\n",
       "      <th>weight</th>\n",
       "    </tr>\n",
       "  </thead>\n",
       "  <tbody>\n",
       "    <tr>\n",
       "      <th>0</th>\n",
       "      <td>-0.539444</td>\n",
       "      <td>False</td>\n",
       "      <td>1.017772</td>\n",
       "      <td>0.570302</td>\n",
       "      <td>1.753457</td>\n",
       "    </tr>\n",
       "    <tr>\n",
       "      <th>1</th>\n",
       "      <td>-0.614429</td>\n",
       "      <td>False</td>\n",
       "      <td>-2.218186</td>\n",
       "      <td>0.578779</td>\n",
       "      <td>1.727776</td>\n",
       "    </tr>\n",
       "    <tr>\n",
       "      <th>2</th>\n",
       "      <td>-2.590375</td>\n",
       "      <td>False</td>\n",
       "      <td>-5.587529</td>\n",
       "      <td>0.774098</td>\n",
       "      <td>1.291826</td>\n",
       "    </tr>\n",
       "    <tr>\n",
       "      <th>3</th>\n",
       "      <td>-3.348331</td>\n",
       "      <td>False</td>\n",
       "      <td>-7.655828</td>\n",
       "      <td>0.829507</td>\n",
       "      <td>1.205536</td>\n",
       "    </tr>\n",
       "    <tr>\n",
       "      <th>4</th>\n",
       "      <td>-0.912993</td>\n",
       "      <td>False</td>\n",
       "      <td>-1.946286</td>\n",
       "      <td>0.612027</td>\n",
       "      <td>1.633914</td>\n",
       "    </tr>\n",
       "    <tr>\n",
       "      <th>...</th>\n",
       "      <td>...</td>\n",
       "      <td>...</td>\n",
       "      <td>...</td>\n",
       "      <td>...</td>\n",
       "      <td>...</td>\n",
       "    </tr>\n",
       "    <tr>\n",
       "      <th>995</th>\n",
       "      <td>-0.217138</td>\n",
       "      <td>False</td>\n",
       "      <td>-0.920647</td>\n",
       "      <td>0.533456</td>\n",
       "      <td>1.874569</td>\n",
       "    </tr>\n",
       "    <tr>\n",
       "      <th>996</th>\n",
       "      <td>-2.424274</td>\n",
       "      <td>False</td>\n",
       "      <td>-5.840532</td>\n",
       "      <td>0.760383</td>\n",
       "      <td>1.315127</td>\n",
       "    </tr>\n",
       "    <tr>\n",
       "      <th>997</th>\n",
       "      <td>0.286530</td>\n",
       "      <td>False</td>\n",
       "      <td>1.436699</td>\n",
       "      <td>0.475292</td>\n",
       "      <td>2.103969</td>\n",
       "    </tr>\n",
       "    <tr>\n",
       "      <th>998</th>\n",
       "      <td>-1.018581</td>\n",
       "      <td>False</td>\n",
       "      <td>-2.951918</td>\n",
       "      <td>0.623557</td>\n",
       "      <td>1.603702</td>\n",
       "    </tr>\n",
       "    <tr>\n",
       "      <th>999</th>\n",
       "      <td>-0.770144</td>\n",
       "      <td>False</td>\n",
       "      <td>-3.715206</td>\n",
       "      <td>0.596229</td>\n",
       "      <td>1.677207</td>\n",
       "    </tr>\n",
       "  </tbody>\n",
       "</table>\n",
       "<p>1000 rows × 5 columns</p>\n",
       "</div>"
      ],
      "text/plain": [
       "           W0     v0         y  propensity_score    weight\n",
       "0   -0.539444  False  1.017772          0.570302  1.753457\n",
       "1   -0.614429  False -2.218186          0.578779  1.727776\n",
       "2   -2.590375  False -5.587529          0.774098  1.291826\n",
       "3   -3.348331  False -7.655828          0.829507  1.205536\n",
       "4   -0.912993  False -1.946286          0.612027  1.633914\n",
       "..        ...    ...       ...               ...       ...\n",
       "995 -0.217138  False -0.920647          0.533456  1.874569\n",
       "996 -2.424274  False -5.840532          0.760383  1.315127\n",
       "997  0.286530  False  1.436699          0.475292  2.103969\n",
       "998 -1.018581  False -2.951918          0.623557  1.603702\n",
       "999 -0.770144  False -3.715206          0.596229  1.677207\n",
       "\n",
       "[1000 rows x 5 columns]"
      ]
     },
     "execution_count": 6,
     "metadata": {},
     "output_type": "execute_result"
    }
   ],
   "source": [
    "cdf_0"
   ]
  },
  {
   "cell_type": "code",
   "execution_count": 7,
   "metadata": {
    "execution": {
     "iopub.execute_input": "2023-03-15T20:28:26.430386Z",
     "iopub.status.busy": "2023-03-15T20:28:26.429880Z",
     "iopub.status.idle": "2023-03-15T20:28:26.440028Z",
     "shell.execute_reply": "2023-03-15T20:28:26.439399Z"
    }
   },
   "outputs": [
    {
     "data": {
      "text/html": [
       "<div>\n",
       "<style scoped>\n",
       "    .dataframe tbody tr th:only-of-type {\n",
       "        vertical-align: middle;\n",
       "    }\n",
       "\n",
       "    .dataframe tbody tr th {\n",
       "        vertical-align: top;\n",
       "    }\n",
       "\n",
       "    .dataframe thead th {\n",
       "        text-align: right;\n",
       "    }\n",
       "</style>\n",
       "<table border=\"1\" class=\"dataframe\">\n",
       "  <thead>\n",
       "    <tr style=\"text-align: right;\">\n",
       "      <th></th>\n",
       "      <th>W0</th>\n",
       "      <th>v0</th>\n",
       "      <th>y</th>\n",
       "      <th>propensity_score</th>\n",
       "      <th>weight</th>\n",
       "    </tr>\n",
       "  </thead>\n",
       "  <tbody>\n",
       "    <tr>\n",
       "      <th>0</th>\n",
       "      <td>-0.389199</td>\n",
       "      <td>True</td>\n",
       "      <td>4.201833</td>\n",
       "      <td>0.446802</td>\n",
       "      <td>2.238125</td>\n",
       "    </tr>\n",
       "    <tr>\n",
       "      <th>1</th>\n",
       "      <td>-1.880283</td>\n",
       "      <td>True</td>\n",
       "      <td>1.007265</td>\n",
       "      <td>0.288395</td>\n",
       "      <td>3.467471</td>\n",
       "    </tr>\n",
       "    <tr>\n",
       "      <th>2</th>\n",
       "      <td>-1.130900</td>\n",
       "      <td>True</td>\n",
       "      <td>2.349306</td>\n",
       "      <td>0.364330</td>\n",
       "      <td>2.744765</td>\n",
       "    </tr>\n",
       "    <tr>\n",
       "      <th>3</th>\n",
       "      <td>1.330229</td>\n",
       "      <td>True</td>\n",
       "      <td>8.766677</td>\n",
       "      <td>0.641436</td>\n",
       "      <td>1.559003</td>\n",
       "    </tr>\n",
       "    <tr>\n",
       "      <th>4</th>\n",
       "      <td>-0.560424</td>\n",
       "      <td>True</td>\n",
       "      <td>3.691439</td>\n",
       "      <td>0.427322</td>\n",
       "      <td>2.340157</td>\n",
       "    </tr>\n",
       "    <tr>\n",
       "      <th>...</th>\n",
       "      <td>...</td>\n",
       "      <td>...</td>\n",
       "      <td>...</td>\n",
       "      <td>...</td>\n",
       "      <td>...</td>\n",
       "    </tr>\n",
       "    <tr>\n",
       "      <th>995</th>\n",
       "      <td>-0.204208</td>\n",
       "      <td>True</td>\n",
       "      <td>2.849573</td>\n",
       "      <td>0.468033</td>\n",
       "      <td>2.136603</td>\n",
       "    </tr>\n",
       "    <tr>\n",
       "      <th>996</th>\n",
       "      <td>-0.207951</td>\n",
       "      <td>True</td>\n",
       "      <td>2.209933</td>\n",
       "      <td>0.467602</td>\n",
       "      <td>2.138572</td>\n",
       "    </tr>\n",
       "    <tr>\n",
       "      <th>997</th>\n",
       "      <td>1.073381</td>\n",
       "      <td>True</td>\n",
       "      <td>5.335867</td>\n",
       "      <td>0.613681</td>\n",
       "      <td>1.629510</td>\n",
       "    </tr>\n",
       "    <tr>\n",
       "      <th>998</th>\n",
       "      <td>-1.217124</td>\n",
       "      <td>True</td>\n",
       "      <td>1.191471</td>\n",
       "      <td>0.355146</td>\n",
       "      <td>2.815746</td>\n",
       "    </tr>\n",
       "    <tr>\n",
       "      <th>999</th>\n",
       "      <td>-1.189151</td>\n",
       "      <td>True</td>\n",
       "      <td>0.545583</td>\n",
       "      <td>0.358114</td>\n",
       "      <td>2.792407</td>\n",
       "    </tr>\n",
       "  </tbody>\n",
       "</table>\n",
       "<p>1000 rows × 5 columns</p>\n",
       "</div>"
      ],
      "text/plain": [
       "           W0    v0         y  propensity_score    weight\n",
       "0   -0.389199  True  4.201833          0.446802  2.238125\n",
       "1   -1.880283  True  1.007265          0.288395  3.467471\n",
       "2   -1.130900  True  2.349306          0.364330  2.744765\n",
       "3    1.330229  True  8.766677          0.641436  1.559003\n",
       "4   -0.560424  True  3.691439          0.427322  2.340157\n",
       "..        ...   ...       ...               ...       ...\n",
       "995 -0.204208  True  2.849573          0.468033  2.136603\n",
       "996 -0.207951  True  2.209933          0.467602  2.138572\n",
       "997  1.073381  True  5.335867          0.613681  1.629510\n",
       "998 -1.217124  True  1.191471          0.355146  2.815746\n",
       "999 -1.189151  True  0.545583          0.358114  2.792407\n",
       "\n",
       "[1000 rows x 5 columns]"
      ]
     },
     "execution_count": 7,
     "metadata": {},
     "output_type": "execute_result"
    }
   ],
   "source": [
    "cdf_1"
   ]
  },
  {
   "cell_type": "markdown",
   "metadata": {},
   "source": [
    "## Comparing the estimate to Linear Regression\n",
    "First, estimating the effect using the causal data frame, and the 95% confidence interval."
   ]
  },
  {
   "cell_type": "code",
   "execution_count": 8,
   "metadata": {
    "execution": {
     "iopub.execute_input": "2023-03-15T20:28:26.443431Z",
     "iopub.status.busy": "2023-03-15T20:28:26.443085Z",
     "iopub.status.idle": "2023-03-15T20:28:26.500057Z",
     "shell.execute_reply": "2023-03-15T20:28:26.499287Z"
    }
   },
   "outputs": [
    {
     "data": {
      "image/png": "[encoded data removed]",
      "text/latex": [
       "$\\displaystyle 4.93059694748396$"
      ],
      "text/plain": [
       "4.930596947483956"
      ]
     },
     "execution_count": 8,
     "metadata": {},
     "output_type": "execute_result"
    }
   ],
   "source": [
    "(cdf_1['y'] - cdf_0['y']).mean()"
   ]
  },
  {
   "cell_type": "code",
   "execution_count": 9,
   "metadata": {
    "execution": {
     "iopub.execute_input": "2023-03-15T20:28:26.503466Z",
     "iopub.status.busy": "2023-03-15T20:28:26.502932Z",
     "iopub.status.idle": "2023-03-15T20:28:26.523178Z",
     "shell.execute_reply": "2023-03-15T20:28:26.522513Z"
    }
   },
   "outputs": [
    {
     "data": {
      "image/png": "[encoded data removed]",
      "text/latex": [
       "$\\displaystyle 0.201757224211822$"
      ],
      "text/plain": [
       "0.20175722421182177"
      ]
     },
     "execution_count": 9,
     "metadata": {},
     "output_type": "execute_result"
    }
   ],
   "source": [
    "1.96*(cdf_1['y'] - cdf_0['y']).std() / np.sqrt(len(df))"
   ]
  },
  {
   "cell_type": "markdown",
   "metadata": {},
   "source": [
    "Comparing to the estimate from OLS."
   ]
  },
  {
   "cell_type": "code",
   "execution_count": 10,
   "metadata": {
    "execution": {
     "iopub.execute_input": "2023-03-15T20:28:26.526060Z",
     "iopub.status.busy": "2023-03-15T20:28:26.525646Z",
     "iopub.status.idle": "2023-03-15T20:28:26.540127Z",
     "shell.execute_reply": "2023-03-15T20:28:26.539460Z"
    }
   },
   "outputs": [
    {
     "data": {
      "text/html": [
       "<table class=\"simpletable\">\n",
       "<caption>OLS Regression Results</caption>\n",
       "<tr>\n",
       "  <th>Dep. Variable:</th>            <td>y</td>        <th>  R-squared (uncentered):</th>      <td>   0.942</td>\n",
       "</tr>\n",
       "<tr>\n",
       "  <th>Model:</th>                   <td>OLS</td>       <th>  Adj. R-squared (uncentered):</th> <td>   0.942</td>\n",
       "</tr>\n",
       "<tr>\n",
       "  <th>Method:</th>             <td>Least Squares</td>  <th>  F-statistic:       </th>          <td>   8064.</td>\n",
       "</tr>\n",
       "<tr>\n",
       "  <th>Date:</th>             <td>Wed, 15 Mar 2023</td> <th>  Prob (F-statistic):</th>           <td>  0.00</td> \n",
       "</tr>\n",
       "<tr>\n",
       "  <th>Time:</th>                 <td>20:28:26</td>     <th>  Log-Likelihood:    </th>          <td> -1353.5</td>\n",
       "</tr>\n",
       "<tr>\n",
       "  <th>No. Observations:</th>      <td>  1000</td>      <th>  AIC:               </th>          <td>   2711.</td>\n",
       "</tr>\n",
       "<tr>\n",
       "  <th>Df Residuals:</th>          <td>   998</td>      <th>  BIC:               </th>          <td>   2721.</td>\n",
       "</tr>\n",
       "<tr>\n",
       "  <th>Df Model:</th>              <td>     2</td>      <th>                     </th>              <td> </td>   \n",
       "</tr>\n",
       "<tr>\n",
       "  <th>Covariance Type:</th>      <td>nonrobust</td>    <th>                     </th>              <td> </td>   \n",
       "</tr>\n",
       "</table>\n",
       "<table class=\"simpletable\">\n",
       "<tr>\n",
       "   <td></td>     <th>coef</th>     <th>std err</th>      <th>t</th>      <th>P>|t|</th>  <th>[0.025</th>    <th>0.975]</th>  \n",
       "</tr>\n",
       "<tr>\n",
       "  <th>x1</th> <td>    2.3607</td> <td>    0.025</td> <td>   92.688</td> <td> 0.000</td> <td>    2.311</td> <td>    2.411</td>\n",
       "</tr>\n",
       "<tr>\n",
       "  <th>x2</th> <td>    5.0222</td> <td>    0.047</td> <td>  106.282</td> <td> 0.000</td> <td>    4.929</td> <td>    5.115</td>\n",
       "</tr>\n",
       "</table>\n",
       "<table class=\"simpletable\">\n",
       "<tr>\n",
       "  <th>Omnibus:</th>       <td> 4.535</td> <th>  Durbin-Watson:     </th> <td>   1.998</td>\n",
       "</tr>\n",
       "<tr>\n",
       "  <th>Prob(Omnibus):</th> <td> 0.104</td> <th>  Jarque-Bera (JB):  </th> <td>   4.591</td>\n",
       "</tr>\n",
       "<tr>\n",
       "  <th>Skew:</th>          <td>-0.151</td> <th>  Prob(JB):          </th> <td>   0.101</td>\n",
       "</tr>\n",
       "<tr>\n",
       "  <th>Kurtosis:</th>      <td> 2.864</td> <th>  Cond. No.          </th> <td>    1.95</td>\n",
       "</tr>\n",
       "</table><br/><br/>Notes:<br/>[1] R² is computed without centering (uncentered) since the model does not contain a constant.<br/>[2] Standard Errors assume that the covariance matrix of the errors is correctly specified."
      ],
      "text/plain": [
       "<class 'statsmodels.iolib.summary.Summary'>\n",
       "\"\"\"\n",
       "                                 OLS Regression Results                                \n",
       "=======================================================================================\n",
       "Dep. Variable:                      y   R-squared (uncentered):                   0.942\n",
       "Model:                            OLS   Adj. R-squared (uncentered):              0.942\n",
       "Method:                 Least Squares   F-statistic:                              8064.\n",
       "Date:                Wed, 15 Mar 2023   Prob (F-statistic):                        0.00\n",
       "Time:                        20:28:26   Log-Likelihood:                         -1353.5\n",
       "No. Observations:                1000   AIC:                                      2711.\n",
       "Df Residuals:                     998   BIC:                                      2721.\n",
       "Df Model:                           2                                                  \n",
       "Covariance Type:            nonrobust                                                  \n",
       "==============================================================================\n",
       "                 coef    std err          t      P>|t|      [0.025      0.975]\n",
       "------------------------------------------------------------------------------\n",
       "x1             2.3607      0.025     92.688      0.000       2.311       2.411\n",
       "x2             5.0222      0.047    106.282      0.000       4.929       5.115\n",
       "==============================================================================\n",
       "Omnibus:                        4.535   Durbin-Watson:                   1.998\n",
       "Prob(Omnibus):                  0.104   Jarque-Bera (JB):                4.591\n",
       "Skew:                          -0.151   Prob(JB):                        0.101\n",
       "Kurtosis:                       2.864   Cond. No.                         1.95\n",
       "==============================================================================\n",
       "\n",
       "Notes:\n",
       "[1] R² is computed without centering (uncentered) since the model does not contain a constant.\n",
       "[2] Standard Errors assume that the covariance matrix of the errors is correctly specified.\n",
       "\"\"\""
      ]
     },
     "execution_count": 10,
     "metadata": {},
     "output_type": "execute_result"
    }
   ],
   "source": [
    "model = OLS(np.asarray(df[outcome]), np.asarray(df[[common_cause, treatment]], dtype=np.float64))\n",
    "result = model.fit()\n",
    "result.summary()"
   ]
  }
 ],
 "metadata": {
  "kernelspec": {
   "display_name": "Python 3",
   "language": "python",
   "name": "python3"
  },
  "language_info": {
   "codemirror_mode": {
    "name": "ipython",
    "version": 3
   },
   "file_extension": ".py",
   "mimetype": "text/x-python",
   "name": "python",
   "nbconvert_exporter": "python",
   "pygments_lexer": "ipython3",
   "version": "3.8.10"
  },
  "toc": {
   "base_numbering": 1,
   "nav_menu": {},
   "number_sections": false,
   "sideBar": true,
   "skip_h1_title": true,
   "title_cell": "Table of Contents",
   "title_sidebar": "Contents",
   "toc_cell": false,
   "toc_position": {},
   "toc_section_display": true,
   "toc_window_display": false
  }
 },
 "nbformat": 4,
 "nbformat_minor": 4
}
