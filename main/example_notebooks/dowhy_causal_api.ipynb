{
 "cells": [
  {
   "cell_type": "markdown",
   "metadata": {},
   "source": [
    "# Demo for the DoWhy causal API\n",
    "We show a simple example of adding a causal extension to any dataframe. "
   ]
  },
  {
   "cell_type": "code",
   "execution_count": 1,
   "metadata": {
    "execution": {
     "iopub.execute_input": "2023-06-26T17:22:51.848728Z",
     "iopub.status.busy": "2023-06-26T17:22:51.848206Z",
     "iopub.status.idle": "2023-06-26T17:22:53.853210Z",
     "shell.execute_reply": "2023-06-26T17:22:53.851867Z"
    }
   },
   "outputs": [],
   "source": [
    "import dowhy.datasets\n",
    "import dowhy.api\n",
    "\n",
    "import numpy as np\n",
    "import pandas as pd\n",
    "\n",
    "from statsmodels.api import OLS"
   ]
  },
  {
   "cell_type": "code",
   "execution_count": 2,
   "metadata": {
    "execution": {
     "iopub.execute_input": "2023-06-26T17:22:53.858116Z",
     "iopub.status.busy": "2023-06-26T17:22:53.857163Z",
     "iopub.status.idle": "2023-06-26T17:22:53.910332Z",
     "shell.execute_reply": "2023-06-26T17:22:53.909635Z"
    }
   },
   "outputs": [
    {
     "data": {
      "text/html": [
       "<div>\n",
       "<style scoped>\n",
       "    .dataframe tbody tr th:only-of-type {\n",
       "        vertical-align: middle;\n",
       "    }\n",
       "\n",
       "    .dataframe tbody tr th {\n",
       "        vertical-align: top;\n",
       "    }\n",
       "\n",
       "    .dataframe thead th {\n",
       "        text-align: right;\n",
       "    }\n",
       "</style>\n",
       "<table border=\"1\" class=\"dataframe\">\n",
       "  <thead>\n",
       "    <tr style=\"text-align: right;\">\n",
       "      <th></th>\n",
       "      <th>W0</th>\n",
       "      <th>v0</th>\n",
       "      <th>y</th>\n",
       "    </tr>\n",
       "  </thead>\n",
       "  <tbody>\n",
       "    <tr>\n",
       "      <th>0</th>\n",
       "      <td>-0.927970</td>\n",
       "      <td>False</td>\n",
       "      <td>-1.981533</td>\n",
       "    </tr>\n",
       "    <tr>\n",
       "      <th>1</th>\n",
       "      <td>-1.083805</td>\n",
       "      <td>False</td>\n",
       "      <td>-3.723497</td>\n",
       "    </tr>\n",
       "    <tr>\n",
       "      <th>2</th>\n",
       "      <td>-0.226177</td>\n",
       "      <td>False</td>\n",
       "      <td>0.983810</td>\n",
       "    </tr>\n",
       "    <tr>\n",
       "      <th>3</th>\n",
       "      <td>1.038523</td>\n",
       "      <td>True</td>\n",
       "      <td>7.076553</td>\n",
       "    </tr>\n",
       "    <tr>\n",
       "      <th>4</th>\n",
       "      <td>-1.945568</td>\n",
       "      <td>False</td>\n",
       "      <td>-5.117323</td>\n",
       "    </tr>\n",
       "    <tr>\n",
       "      <th>...</th>\n",
       "      <td>...</td>\n",
       "      <td>...</td>\n",
       "      <td>...</td>\n",
       "    </tr>\n",
       "    <tr>\n",
       "      <th>995</th>\n",
       "      <td>-1.346369</td>\n",
       "      <td>False</td>\n",
       "      <td>-1.004089</td>\n",
       "    </tr>\n",
       "    <tr>\n",
       "      <th>996</th>\n",
       "      <td>-0.438968</td>\n",
       "      <td>True</td>\n",
       "      <td>3.642206</td>\n",
       "    </tr>\n",
       "    <tr>\n",
       "      <th>997</th>\n",
       "      <td>-0.962828</td>\n",
       "      <td>False</td>\n",
       "      <td>-2.929469</td>\n",
       "    </tr>\n",
       "    <tr>\n",
       "      <th>998</th>\n",
       "      <td>-1.660566</td>\n",
       "      <td>False</td>\n",
       "      <td>-4.741123</td>\n",
       "    </tr>\n",
       "    <tr>\n",
       "      <th>999</th>\n",
       "      <td>-0.503740</td>\n",
       "      <td>False</td>\n",
       "      <td>-1.254229</td>\n",
       "    </tr>\n",
       "  </tbody>\n",
       "</table>\n",
       "<p>1000 rows × 3 columns</p>\n",
       "</div>"
      ],
      "text/plain": [
       "           W0     v0         y\n",
       "0   -0.927970  False -1.981533\n",
       "1   -1.083805  False -3.723497\n",
       "2   -0.226177  False  0.983810\n",
       "3    1.038523   True  7.076553\n",
       "4   -1.945568  False -5.117323\n",
       "..        ...    ...       ...\n",
       "995 -1.346369  False -1.004089\n",
       "996 -0.438968   True  3.642206\n",
       "997 -0.962828  False -2.929469\n",
       "998 -1.660566  False -4.741123\n",
       "999 -0.503740  False -1.254229\n",
       "\n",
       "[1000 rows x 3 columns]"
      ]
     },
     "execution_count": 2,
     "metadata": {},
     "output_type": "execute_result"
    }
   ],
   "source": [
    "data = dowhy.datasets.linear_dataset(beta=5,\n",
    "        num_common_causes=1,\n",
    "        num_instruments = 0,\n",
    "        num_samples=1000,\n",
    "        treatment_is_binary=True)\n",
    "df = data['df']\n",
    "df['y'] = df['y'] + np.random.normal(size=len(df)) # Adding noise to data. Without noise, the variance in Y|X, Z is zero, and mcmc fails.\n",
    "#data['dot_graph'] = 'digraph { v ->y;X0-> v;X0-> y;}'\n",
    "\n",
    "treatment= data[\"treatment_name\"][0]\n",
    "outcome = data[\"outcome_name\"][0]\n",
    "common_cause = data[\"common_causes_names\"][0]\n",
    "df"
   ]
  },
  {
   "cell_type": "code",
   "execution_count": 3,
   "metadata": {
    "execution": {
     "iopub.execute_input": "2023-06-26T17:22:53.913807Z",
     "iopub.status.busy": "2023-06-26T17:22:53.913376Z",
     "iopub.status.idle": "2023-06-26T17:22:54.110508Z",
     "shell.execute_reply": "2023-06-26T17:22:54.109696Z"
    }
   },
   "outputs": [
    {
     "data": {
      "text/plain": [
       "<Axes: xlabel='v0'>"
      ]
     },
     "execution_count": 3,
     "metadata": {},
     "output_type": "execute_result"
    },
    {
     "data": {
      "image/png": "[encoded data removed]",
      "text/plain": [
       "<Figure size 640x480 with 1 Axes>"
      ]
     },
     "metadata": {},
     "output_type": "display_data"
    }
   ],
   "source": [
    "# data['df'] is just a regular pandas.DataFrame\n",
    "df.causal.do(x=treatment,\n",
    "                     variable_types={treatment: 'b', outcome: 'c', common_cause: 'c'},\n",
    "                     outcome=outcome,\n",
    "                     common_causes=[common_cause],\n",
    "                     proceed_when_unidentifiable=True).groupby(treatment).mean().plot(y=outcome, kind='bar')"
   ]
  },
  {
   "cell_type": "code",
   "execution_count": 4,
   "metadata": {
    "execution": {
     "iopub.execute_input": "2023-06-26T17:22:54.114281Z",
     "iopub.status.busy": "2023-06-26T17:22:54.113976Z",
     "iopub.status.idle": "2023-06-26T17:22:54.286533Z",
     "shell.execute_reply": "2023-06-26T17:22:54.285710Z"
    }
   },
   "outputs": [
    {
     "data": {
      "text/plain": [
       "<Axes: xlabel='v0'>"
      ]
     },
     "execution_count": 4,
     "metadata": {},
     "output_type": "execute_result"
    },
    {
     "data": {
      "image/png": "[encoded data removed]",
      "text/plain": [
       "<Figure size 640x480 with 1 Axes>"
      ]
     },
     "metadata": {},
     "output_type": "display_data"
    }
   ],
   "source": [
    "df.causal.do(x={treatment: 1}, \n",
    "              variable_types={treatment:'b', outcome: 'c', common_cause: 'c'}, \n",
    "              outcome=outcome,\n",
    "              method='weighting', \n",
    "              common_causes=[common_cause],\n",
    "              proceed_when_unidentifiable=True).groupby(treatment).mean().plot(y=outcome, kind='bar')"
   ]
  },
  {
   "cell_type": "code",
   "execution_count": 5,
   "metadata": {
    "execution": {
     "iopub.execute_input": "2023-06-26T17:22:54.290647Z",
     "iopub.status.busy": "2023-06-26T17:22:54.290096Z",
     "iopub.status.idle": "2023-06-26T17:22:54.325021Z",
     "shell.execute_reply": "2023-06-26T17:22:54.323938Z"
    }
   },
   "outputs": [],
   "source": [
    "cdf_1 = df.causal.do(x={treatment: 1}, \n",
    "              variable_types={treatment: 'b', outcome: 'c', common_cause: 'c'}, \n",
    "              outcome=outcome, \n",
    "              dot_graph=data['dot_graph'],\n",
    "              proceed_when_unidentifiable=True)\n",
    "\n",
    "cdf_0 = df.causal.do(x={treatment: 0}, \n",
    "              variable_types={treatment: 'b', outcome: 'c', common_cause: 'c'}, \n",
    "              outcome=outcome, \n",
    "              dot_graph=data['dot_graph'],\n",
    "              proceed_when_unidentifiable=True)\n"
   ]
  },
  {
   "cell_type": "code",
   "execution_count": 6,
   "metadata": {
    "execution": {
     "iopub.execute_input": "2023-06-26T17:22:54.329387Z",
     "iopub.status.busy": "2023-06-26T17:22:54.328697Z",
     "iopub.status.idle": "2023-06-26T17:22:54.343397Z",
     "shell.execute_reply": "2023-06-26T17:22:54.342694Z"
    },
    "scrolled": true
   },
   "outputs": [
    {
     "data": {
      "text/html": [
       "<div>\n",
       "<style scoped>\n",
       "    .dataframe tbody tr th:only-of-type {\n",
       "        vertical-align: middle;\n",
       "    }\n",
       "\n",
       "    .dataframe tbody tr th {\n",
       "        vertical-align: top;\n",
       "    }\n",
       "\n",
       "    .dataframe thead th {\n",
       "        text-align: right;\n",
       "    }\n",
       "</style>\n",
       "<table border=\"1\" class=\"dataframe\">\n",
       "  <thead>\n",
       "    <tr style=\"text-align: right;\">\n",
       "      <th></th>\n",
       "      <th>W0</th>\n",
       "      <th>v0</th>\n",
       "      <th>y</th>\n",
       "      <th>propensity_score</th>\n",
       "      <th>weight</th>\n",
       "    </tr>\n",
       "  </thead>\n",
       "  <tbody>\n",
       "    <tr>\n",
       "      <th>0</th>\n",
       "      <td>-0.226177</td>\n",
       "      <td>False</td>\n",
       "      <td>0.983810</td>\n",
       "      <td>0.650005</td>\n",
       "      <td>1.538450</td>\n",
       "    </tr>\n",
       "    <tr>\n",
       "      <th>1</th>\n",
       "      <td>0.082350</td>\n",
       "      <td>False</td>\n",
       "      <td>0.182770</td>\n",
       "      <td>0.494963</td>\n",
       "      <td>2.020355</td>\n",
       "    </tr>\n",
       "    <tr>\n",
       "      <th>2</th>\n",
       "      <td>-0.782027</td>\n",
       "      <td>False</td>\n",
       "      <td>-1.034342</td>\n",
       "      <td>0.854543</td>\n",
       "      <td>1.170217</td>\n",
       "    </tr>\n",
       "    <tr>\n",
       "      <th>3</th>\n",
       "      <td>-1.968994</td>\n",
       "      <td>False</td>\n",
       "      <td>-2.943354</td>\n",
       "      <td>0.985654</td>\n",
       "      <td>1.014554</td>\n",
       "    </tr>\n",
       "    <tr>\n",
       "      <th>4</th>\n",
       "      <td>0.217843</td>\n",
       "      <td>False</td>\n",
       "      <td>-1.240142</td>\n",
       "      <td>0.425346</td>\n",
       "      <td>2.351029</td>\n",
       "    </tr>\n",
       "    <tr>\n",
       "      <th>...</th>\n",
       "      <td>...</td>\n",
       "      <td>...</td>\n",
       "      <td>...</td>\n",
       "      <td>...</td>\n",
       "      <td>...</td>\n",
       "    </tr>\n",
       "    <tr>\n",
       "      <th>995</th>\n",
       "      <td>0.396353</td>\n",
       "      <td>False</td>\n",
       "      <td>1.361466</td>\n",
       "      <td>0.338338</td>\n",
       "      <td>2.955622</td>\n",
       "    </tr>\n",
       "    <tr>\n",
       "      <th>996</th>\n",
       "      <td>-2.057610</td>\n",
       "      <td>False</td>\n",
       "      <td>-4.961019</td>\n",
       "      <td>0.988032</td>\n",
       "      <td>1.012113</td>\n",
       "    </tr>\n",
       "    <tr>\n",
       "      <th>997</th>\n",
       "      <td>0.345265</td>\n",
       "      <td>False</td>\n",
       "      <td>2.084554</td>\n",
       "      <td>0.362423</td>\n",
       "      <td>2.759207</td>\n",
       "    </tr>\n",
       "    <tr>\n",
       "      <th>998</th>\n",
       "      <td>-2.057610</td>\n",
       "      <td>False</td>\n",
       "      <td>-4.961019</td>\n",
       "      <td>0.988032</td>\n",
       "      <td>1.012113</td>\n",
       "    </tr>\n",
       "    <tr>\n",
       "      <th>999</th>\n",
       "      <td>-0.413952</td>\n",
       "      <td>False</td>\n",
       "      <td>-0.916847</td>\n",
       "      <td>0.732648</td>\n",
       "      <td>1.364912</td>\n",
       "    </tr>\n",
       "  </tbody>\n",
       "</table>\n",
       "<p>1000 rows × 5 columns</p>\n",
       "</div>"
      ],
      "text/plain": [
       "           W0     v0         y  propensity_score    weight\n",
       "0   -0.226177  False  0.983810          0.650005  1.538450\n",
       "1    0.082350  False  0.182770          0.494963  2.020355\n",
       "2   -0.782027  False -1.034342          0.854543  1.170217\n",
       "3   -1.968994  False -2.943354          0.985654  1.014554\n",
       "4    0.217843  False -1.240142          0.425346  2.351029\n",
       "..        ...    ...       ...               ...       ...\n",
       "995  0.396353  False  1.361466          0.338338  2.955622\n",
       "996 -2.057610  False -4.961019          0.988032  1.012113\n",
       "997  0.345265  False  2.084554          0.362423  2.759207\n",
       "998 -2.057610  False -4.961019          0.988032  1.012113\n",
       "999 -0.413952  False -0.916847          0.732648  1.364912\n",
       "\n",
       "[1000 rows x 5 columns]"
      ]
     },
     "execution_count": 6,
     "metadata": {},
     "output_type": "execute_result"
    }
   ],
   "source": [
    "cdf_0"
   ]
  },
  {
   "cell_type": "code",
   "execution_count": 7,
   "metadata": {
    "execution": {
     "iopub.execute_input": "2023-06-26T17:22:54.347323Z",
     "iopub.status.busy": "2023-06-26T17:22:54.346701Z",
     "iopub.status.idle": "2023-06-26T17:22:54.359105Z",
     "shell.execute_reply": "2023-06-26T17:22:54.358481Z"
    }
   },
   "outputs": [
    {
     "data": {
      "text/html": [
       "<div>\n",
       "<style scoped>\n",
       "    .dataframe tbody tr th:only-of-type {\n",
       "        vertical-align: middle;\n",
       "    }\n",
       "\n",
       "    .dataframe tbody tr th {\n",
       "        vertical-align: top;\n",
       "    }\n",
       "\n",
       "    .dataframe thead th {\n",
       "        text-align: right;\n",
       "    }\n",
       "</style>\n",
       "<table border=\"1\" class=\"dataframe\">\n",
       "  <thead>\n",
       "    <tr style=\"text-align: right;\">\n",
       "      <th></th>\n",
       "      <th>W0</th>\n",
       "      <th>v0</th>\n",
       "      <th>y</th>\n",
       "      <th>propensity_score</th>\n",
       "      <th>weight</th>\n",
       "    </tr>\n",
       "  </thead>\n",
       "  <tbody>\n",
       "    <tr>\n",
       "      <th>0</th>\n",
       "      <td>-0.142079</td>\n",
       "      <td>True</td>\n",
       "      <td>0.686635</td>\n",
       "      <td>0.390591</td>\n",
       "      <td>2.560220</td>\n",
       "    </tr>\n",
       "    <tr>\n",
       "      <th>1</th>\n",
       "      <td>-0.171506</td>\n",
       "      <td>True</td>\n",
       "      <td>3.121739</td>\n",
       "      <td>0.376180</td>\n",
       "      <td>2.658301</td>\n",
       "    </tr>\n",
       "    <tr>\n",
       "      <th>2</th>\n",
       "      <td>-1.260370</td>\n",
       "      <td>True</td>\n",
       "      <td>2.494531</td>\n",
       "      <td>0.059428</td>\n",
       "      <td>16.827097</td>\n",
       "    </tr>\n",
       "    <tr>\n",
       "      <th>3</th>\n",
       "      <td>-0.330021</td>\n",
       "      <td>True</td>\n",
       "      <td>4.878428</td>\n",
       "      <td>0.302756</td>\n",
       "      <td>3.302991</td>\n",
       "    </tr>\n",
       "    <tr>\n",
       "      <th>4</th>\n",
       "      <td>-0.696994</td>\n",
       "      <td>True</td>\n",
       "      <td>5.055119</td>\n",
       "      <td>0.168750</td>\n",
       "      <td>5.925917</td>\n",
       "    </tr>\n",
       "    <tr>\n",
       "      <th>...</th>\n",
       "      <td>...</td>\n",
       "      <td>...</td>\n",
       "      <td>...</td>\n",
       "      <td>...</td>\n",
       "      <td>...</td>\n",
       "    </tr>\n",
       "    <tr>\n",
       "      <th>995</th>\n",
       "      <td>-1.232187</td>\n",
       "      <td>True</td>\n",
       "      <td>0.593536</td>\n",
       "      <td>0.062777</td>\n",
       "      <td>15.929400</td>\n",
       "    </tr>\n",
       "    <tr>\n",
       "      <th>996</th>\n",
       "      <td>-1.783693</td>\n",
       "      <td>True</td>\n",
       "      <td>-0.364626</td>\n",
       "      <td>0.020919</td>\n",
       "      <td>47.803326</td>\n",
       "    </tr>\n",
       "    <tr>\n",
       "      <th>997</th>\n",
       "      <td>-1.595285</td>\n",
       "      <td>True</td>\n",
       "      <td>1.809523</td>\n",
       "      <td>0.030602</td>\n",
       "      <td>32.677502</td>\n",
       "    </tr>\n",
       "    <tr>\n",
       "      <th>998</th>\n",
       "      <td>-2.464946</td>\n",
       "      <td>True</td>\n",
       "      <td>0.046094</td>\n",
       "      <td>0.005182</td>\n",
       "      <td>192.979413</td>\n",
       "    </tr>\n",
       "    <tr>\n",
       "      <th>999</th>\n",
       "      <td>-0.547154</td>\n",
       "      <td>True</td>\n",
       "      <td>4.383414</td>\n",
       "      <td>0.216859</td>\n",
       "      <td>4.611302</td>\n",
       "    </tr>\n",
       "  </tbody>\n",
       "</table>\n",
       "<p>1000 rows × 5 columns</p>\n",
       "</div>"
      ],
      "text/plain": [
       "           W0    v0         y  propensity_score      weight\n",
       "0   -0.142079  True  0.686635          0.390591    2.560220\n",
       "1   -0.171506  True  3.121739          0.376180    2.658301\n",
       "2   -1.260370  True  2.494531          0.059428   16.827097\n",
       "3   -0.330021  True  4.878428          0.302756    3.302991\n",
       "4   -0.696994  True  5.055119          0.168750    5.925917\n",
       "..        ...   ...       ...               ...         ...\n",
       "995 -1.232187  True  0.593536          0.062777   15.929400\n",
       "996 -1.783693  True -0.364626          0.020919   47.803326\n",
       "997 -1.595285  True  1.809523          0.030602   32.677502\n",
       "998 -2.464946  True  0.046094          0.005182  192.979413\n",
       "999 -0.547154  True  4.383414          0.216859    4.611302\n",
       "\n",
       "[1000 rows x 5 columns]"
      ]
     },
     "execution_count": 7,
     "metadata": {},
     "output_type": "execute_result"
    }
   ],
   "source": [
    "cdf_1"
   ]
  },
  {
   "cell_type": "markdown",
   "metadata": {},
   "source": [
    "## Comparing the estimate to Linear Regression\n",
    "First, estimating the effect using the causal data frame, and the 95% confidence interval."
   ]
  },
  {
   "cell_type": "code",
   "execution_count": 8,
   "metadata": {
    "execution": {
     "iopub.execute_input": "2023-06-26T17:22:54.362581Z",
     "iopub.status.busy": "2023-06-26T17:22:54.361786Z",
     "iopub.status.idle": "2023-06-26T17:22:54.434776Z",
     "shell.execute_reply": "2023-06-26T17:22:54.433743Z"
    }
   },
   "outputs": [
    {
     "data": {
      "image/png": "[encoded data removed]",
      "text/latex": [
       "$\\displaystyle 4.80126335156284$"
      ],
      "text/plain": [
       "4.801263351562837"
      ]
     },
     "execution_count": 8,
     "metadata": {},
     "output_type": "execute_result"
    }
   ],
   "source": [
    "(cdf_1['y'] - cdf_0['y']).mean()"
   ]
  },
  {
   "cell_type": "code",
   "execution_count": 9,
   "metadata": {
    "execution": {
     "iopub.execute_input": "2023-06-26T17:22:54.439192Z",
     "iopub.status.busy": "2023-06-26T17:22:54.438521Z",
     "iopub.status.idle": "2023-06-26T17:22:54.464897Z",
     "shell.execute_reply": "2023-06-26T17:22:54.464050Z"
    }
   },
   "outputs": [
    {
     "data": {
      "image/png": "[encoded data removed]",
      "text/latex": [
       "$\\displaystyle 0.217524378037253$"
      ],
      "text/plain": [
       "0.21752437803725316"
      ]
     },
     "execution_count": 9,
     "metadata": {},
     "output_type": "execute_result"
    }
   ],
   "source": [
    "1.96*(cdf_1['y'] - cdf_0['y']).std() / np.sqrt(len(df))"
   ]
  },
  {
   "cell_type": "markdown",
   "metadata": {},
   "source": [
    "Comparing to the estimate from OLS."
   ]
  },
  {
   "cell_type": "code",
   "execution_count": 10,
   "metadata": {
    "execution": {
     "iopub.execute_input": "2023-06-26T17:22:54.468896Z",
     "iopub.status.busy": "2023-06-26T17:22:54.468584Z",
     "iopub.status.idle": "2023-06-26T17:22:54.487268Z",
     "shell.execute_reply": "2023-06-26T17:22:54.486482Z"
    }
   },
   "outputs": [
    {
     "data": {
      "text/html": [
       "<table class=\"simpletable\">\n",
       "<caption>OLS Regression Results</caption>\n",
       "<tr>\n",
       "  <th>Dep. Variable:</th>            <td>y</td>        <th>  R-squared (uncentered):</th>      <td>   0.951</td>\n",
       "</tr>\n",
       "<tr>\n",
       "  <th>Model:</th>                   <td>OLS</td>       <th>  Adj. R-squared (uncentered):</th> <td>   0.950</td>\n",
       "</tr>\n",
       "<tr>\n",
       "  <th>Method:</th>             <td>Least Squares</td>  <th>  F-statistic:       </th>          <td>   9589.</td>\n",
       "</tr>\n",
       "<tr>\n",
       "  <th>Date:</th>             <td>Mon, 26 Jun 2023</td> <th>  Prob (F-statistic):</th>           <td>  0.00</td> \n",
       "</tr>\n",
       "<tr>\n",
       "  <th>Time:</th>                 <td>17:22:54</td>     <th>  Log-Likelihood:    </th>          <td> -1415.5</td>\n",
       "</tr>\n",
       "<tr>\n",
       "  <th>No. Observations:</th>      <td>  1000</td>      <th>  AIC:               </th>          <td>   2835.</td>\n",
       "</tr>\n",
       "<tr>\n",
       "  <th>Df Residuals:</th>          <td>   998</td>      <th>  BIC:               </th>          <td>   2845.</td>\n",
       "</tr>\n",
       "<tr>\n",
       "  <th>Df Model:</th>              <td>     2</td>      <th>                     </th>              <td> </td>   \n",
       "</tr>\n",
       "<tr>\n",
       "  <th>Covariance Type:</th>      <td>nonrobust</td>    <th>                     </th>              <td> </td>   \n",
       "</tr>\n",
       "</table>\n",
       "<table class=\"simpletable\">\n",
       "<tr>\n",
       "   <td></td>     <th>coef</th>     <th>std err</th>      <th>t</th>      <th>P>|t|</th>  <th>[0.025</th>    <th>0.975]</th>  \n",
       "</tr>\n",
       "<tr>\n",
       "  <th>x1</th> <td>    2.3339</td> <td>    0.030</td> <td>   77.454</td> <td> 0.000</td> <td>    2.275</td> <td>    2.393</td>\n",
       "</tr>\n",
       "<tr>\n",
       "  <th>x2</th> <td>    5.0531</td> <td>    0.054</td> <td>   93.257</td> <td> 0.000</td> <td>    4.947</td> <td>    5.159</td>\n",
       "</tr>\n",
       "</table>\n",
       "<table class=\"simpletable\">\n",
       "<tr>\n",
       "  <th>Omnibus:</th>       <td> 1.212</td> <th>  Durbin-Watson:     </th> <td>   1.953</td>\n",
       "</tr>\n",
       "<tr>\n",
       "  <th>Prob(Omnibus):</th> <td> 0.545</td> <th>  Jarque-Bera (JB):  </th> <td>   1.087</td>\n",
       "</tr>\n",
       "<tr>\n",
       "  <th>Skew:</th>          <td> 0.039</td> <th>  Prob(JB):          </th> <td>   0.581</td>\n",
       "</tr>\n",
       "<tr>\n",
       "  <th>Kurtosis:</th>      <td> 3.142</td> <th>  Cond. No.          </th> <td>    1.90</td>\n",
       "</tr>\n",
       "</table><br/><br/>Notes:<br/>[1] R² is computed without centering (uncentered) since the model does not contain a constant.<br/>[2] Standard Errors assume that the covariance matrix of the errors is correctly specified."
      ],
      "text/plain": [
       "<class 'statsmodels.iolib.summary.Summary'>\n",
       "\"\"\"\n",
       "                                 OLS Regression Results                                \n",
       "=======================================================================================\n",
       "Dep. Variable:                      y   R-squared (uncentered):                   0.951\n",
       "Model:                            OLS   Adj. R-squared (uncentered):              0.950\n",
       "Method:                 Least Squares   F-statistic:                              9589.\n",
       "Date:                Mon, 26 Jun 2023   Prob (F-statistic):                        0.00\n",
       "Time:                        17:22:54   Log-Likelihood:                         -1415.5\n",
       "No. Observations:                1000   AIC:                                      2835.\n",
       "Df Residuals:                     998   BIC:                                      2845.\n",
       "Df Model:                           2                                                  \n",
       "Covariance Type:            nonrobust                                                  \n",
       "==============================================================================\n",
       "                 coef    std err          t      P>|t|      [0.025      0.975]\n",
       "------------------------------------------------------------------------------\n",
       "x1             2.3339      0.030     77.454      0.000       2.275       2.393\n",
       "x2             5.0531      0.054     93.257      0.000       4.947       5.159\n",
       "==============================================================================\n",
       "Omnibus:                        1.212   Durbin-Watson:                   1.953\n",
       "Prob(Omnibus):                  0.545   Jarque-Bera (JB):                1.087\n",
       "Skew:                           0.039   Prob(JB):                        0.581\n",
       "Kurtosis:                       3.142   Cond. No.                         1.90\n",
       "==============================================================================\n",
       "\n",
       "Notes:\n",
       "[1] R² is computed without centering (uncentered) since the model does not contain a constant.\n",
       "[2] Standard Errors assume that the covariance matrix of the errors is correctly specified.\n",
       "\"\"\""
      ]
     },
     "execution_count": 10,
     "metadata": {},
     "output_type": "execute_result"
    }
   ],
   "source": [
    "model = OLS(np.asarray(df[outcome]), np.asarray(df[[common_cause, treatment]], dtype=np.float64))\n",
    "result = model.fit()\n",
    "result.summary()"
   ]
  }
 ],
 "metadata": {
  "kernelspec": {
   "display_name": "Python 3",
   "language": "python",
   "name": "python3"
  },
  "language_info": {
   "codemirror_mode": {
    "name": "ipython",
    "version": 3
   },
   "file_extension": ".py",
   "mimetype": "text/x-python",
   "name": "python",
   "nbconvert_exporter": "python",
   "pygments_lexer": "ipython3",
   "version": "3.8.10"
  },
  "toc": {
   "base_numbering": 1,
   "nav_menu": {},
   "number_sections": false,
   "sideBar": true,
   "skip_h1_title": true,
   "title_cell": "Table of Contents",
   "title_sidebar": "Contents",
   "toc_cell": false,
   "toc_position": {},
   "toc_section_display": true,
   "toc_window_display": false
  }
 },
 "nbformat": 4,
 "nbformat_minor": 4
}
