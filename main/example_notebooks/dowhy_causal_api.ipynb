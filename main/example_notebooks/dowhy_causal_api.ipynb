{
 "cells": [
  {
   "cell_type": "markdown",
   "metadata": {},
   "source": [
    "# Demo for the DoWhy causal API\n",
    "We show a simple example of adding a causal extension to any dataframe. "
   ]
  },
  {
   "cell_type": "code",
   "execution_count": 1,
   "metadata": {
    "execution": {
     "iopub.execute_input": "2023-03-31T16:53:09.995669Z",
     "iopub.status.busy": "2023-03-31T16:53:09.995364Z",
     "iopub.status.idle": "2023-03-31T16:53:11.953682Z",
     "shell.execute_reply": "2023-03-31T16:53:11.952676Z"
    }
   },
   "outputs": [],
   "source": [
    "import dowhy.datasets\n",
    "import dowhy.api\n",
    "\n",
    "import numpy as np\n",
    "import pandas as pd\n",
    "\n",
    "from statsmodels.api import OLS"
   ]
  },
  {
   "cell_type": "code",
   "execution_count": 2,
   "metadata": {
    "execution": {
     "iopub.execute_input": "2023-03-31T16:53:11.959362Z",
     "iopub.status.busy": "2023-03-31T16:53:11.958917Z",
     "iopub.status.idle": "2023-03-31T16:53:12.008835Z",
     "shell.execute_reply": "2023-03-31T16:53:12.007811Z"
    }
   },
   "outputs": [
    {
     "data": {
      "text/html": [
       "<div>\n",
       "<style scoped>\n",
       "    .dataframe tbody tr th:only-of-type {\n",
       "        vertical-align: middle;\n",
       "    }\n",
       "\n",
       "    .dataframe tbody tr th {\n",
       "        vertical-align: top;\n",
       "    }\n",
       "\n",
       "    .dataframe thead th {\n",
       "        text-align: right;\n",
       "    }\n",
       "</style>\n",
       "<table border=\"1\" class=\"dataframe\">\n",
       "  <thead>\n",
       "    <tr style=\"text-align: right;\">\n",
       "      <th></th>\n",
       "      <th>W0</th>\n",
       "      <th>v0</th>\n",
       "      <th>y</th>\n",
       "    </tr>\n",
       "  </thead>\n",
       "  <tbody>\n",
       "    <tr>\n",
       "      <th>0</th>\n",
       "      <td>-1.069532</td>\n",
       "      <td>False</td>\n",
       "      <td>-2.854355</td>\n",
       "    </tr>\n",
       "    <tr>\n",
       "      <th>1</th>\n",
       "      <td>0.191329</td>\n",
       "      <td>False</td>\n",
       "      <td>2.139069</td>\n",
       "    </tr>\n",
       "    <tr>\n",
       "      <th>2</th>\n",
       "      <td>-0.298564</td>\n",
       "      <td>False</td>\n",
       "      <td>-1.470854</td>\n",
       "    </tr>\n",
       "    <tr>\n",
       "      <th>3</th>\n",
       "      <td>-1.257976</td>\n",
       "      <td>True</td>\n",
       "      <td>0.566073</td>\n",
       "    </tr>\n",
       "    <tr>\n",
       "      <th>4</th>\n",
       "      <td>-1.341582</td>\n",
       "      <td>True</td>\n",
       "      <td>-1.787226</td>\n",
       "    </tr>\n",
       "    <tr>\n",
       "      <th>...</th>\n",
       "      <td>...</td>\n",
       "      <td>...</td>\n",
       "      <td>...</td>\n",
       "    </tr>\n",
       "    <tr>\n",
       "      <th>995</th>\n",
       "      <td>-1.713366</td>\n",
       "      <td>True</td>\n",
       "      <td>1.417412</td>\n",
       "    </tr>\n",
       "    <tr>\n",
       "      <th>996</th>\n",
       "      <td>-1.192193</td>\n",
       "      <td>False</td>\n",
       "      <td>-2.689358</td>\n",
       "    </tr>\n",
       "    <tr>\n",
       "      <th>997</th>\n",
       "      <td>-0.826791</td>\n",
       "      <td>False</td>\n",
       "      <td>-1.532473</td>\n",
       "    </tr>\n",
       "    <tr>\n",
       "      <th>998</th>\n",
       "      <td>-0.601015</td>\n",
       "      <td>False</td>\n",
       "      <td>-1.795128</td>\n",
       "    </tr>\n",
       "    <tr>\n",
       "      <th>999</th>\n",
       "      <td>-0.250910</td>\n",
       "      <td>False</td>\n",
       "      <td>-1.133657</td>\n",
       "    </tr>\n",
       "  </tbody>\n",
       "</table>\n",
       "<p>1000 rows × 3 columns</p>\n",
       "</div>"
      ],
      "text/plain": [
       "           W0     v0         y\n",
       "0   -1.069532  False -2.854355\n",
       "1    0.191329  False  2.139069\n",
       "2   -0.298564  False -1.470854\n",
       "3   -1.257976   True  0.566073\n",
       "4   -1.341582   True -1.787226\n",
       "..        ...    ...       ...\n",
       "995 -1.713366   True  1.417412\n",
       "996 -1.192193  False -2.689358\n",
       "997 -0.826791  False -1.532473\n",
       "998 -0.601015  False -1.795128\n",
       "999 -0.250910  False -1.133657\n",
       "\n",
       "[1000 rows x 3 columns]"
      ]
     },
     "execution_count": 2,
     "metadata": {},
     "output_type": "execute_result"
    }
   ],
   "source": [
    "data = dowhy.datasets.linear_dataset(beta=5,\n",
    "        num_common_causes=1,\n",
    "        num_instruments = 0,\n",
    "        num_samples=1000,\n",
    "        treatment_is_binary=True)\n",
    "df = data['df']\n",
    "df['y'] = df['y'] + np.random.normal(size=len(df)) # Adding noise to data. Without noise, the variance in Y|X, Z is zero, and mcmc fails.\n",
    "#data['dot_graph'] = 'digraph { v ->y;X0-> v;X0-> y;}'\n",
    "\n",
    "treatment= data[\"treatment_name\"][0]\n",
    "outcome = data[\"outcome_name\"][0]\n",
    "common_cause = data[\"common_causes_names\"][0]\n",
    "df"
   ]
  },
  {
   "cell_type": "code",
   "execution_count": 3,
   "metadata": {
    "execution": {
     "iopub.execute_input": "2023-03-31T16:53:12.012839Z",
     "iopub.status.busy": "2023-03-31T16:53:12.012395Z",
     "iopub.status.idle": "2023-03-31T16:53:12.188234Z",
     "shell.execute_reply": "2023-03-31T16:53:12.187576Z"
    }
   },
   "outputs": [
    {
     "data": {
      "text/plain": [
       "<AxesSubplot: xlabel='v0'>"
      ]
     },
     "execution_count": 3,
     "metadata": {},
     "output_type": "execute_result"
    },
    {
     "data": {
      "image/png": "[encoded data removed]",
      "text/plain": [
       "<Figure size 640x480 with 1 Axes>"
      ]
     },
     "metadata": {},
     "output_type": "display_data"
    }
   ],
   "source": [
    "# data['df'] is just a regular pandas.DataFrame\n",
    "df.causal.do(x=treatment,\n",
    "                     variable_types={treatment: 'b', outcome: 'c', common_cause: 'c'},\n",
    "                     outcome=outcome,\n",
    "                     common_causes=[common_cause],\n",
    "                     proceed_when_unidentifiable=True).groupby(treatment).mean().plot(y=outcome, kind='bar')"
   ]
  },
  {
   "cell_type": "code",
   "execution_count": 4,
   "metadata": {
    "execution": {
     "iopub.execute_input": "2023-03-31T16:53:12.191738Z",
     "iopub.status.busy": "2023-03-31T16:53:12.191167Z",
     "iopub.status.idle": "2023-03-31T16:53:12.324425Z",
     "shell.execute_reply": "2023-03-31T16:53:12.323743Z"
    }
   },
   "outputs": [
    {
     "data": {
      "text/plain": [
       "<AxesSubplot: xlabel='v0'>"
      ]
     },
     "execution_count": 4,
     "metadata": {},
     "output_type": "execute_result"
    },
    {
     "data": {
      "image/png": "[encoded data removed]",
      "text/plain": [
       "<Figure size 640x480 with 1 Axes>"
      ]
     },
     "metadata": {},
     "output_type": "display_data"
    }
   ],
   "source": [
    "df.causal.do(x={treatment: 1}, \n",
    "              variable_types={treatment:'b', outcome: 'c', common_cause: 'c'}, \n",
    "              outcome=outcome,\n",
    "              method='weighting', \n",
    "              common_causes=[common_cause],\n",
    "              proceed_when_unidentifiable=True).groupby(treatment).mean().plot(y=outcome, kind='bar')"
   ]
  },
  {
   "cell_type": "code",
   "execution_count": 5,
   "metadata": {
    "execution": {
     "iopub.execute_input": "2023-03-31T16:53:12.329966Z",
     "iopub.status.busy": "2023-03-31T16:53:12.328448Z",
     "iopub.status.idle": "2023-03-31T16:53:12.492071Z",
     "shell.execute_reply": "2023-03-31T16:53:12.491131Z"
    }
   },
   "outputs": [],
   "source": [
    "cdf_1 = df.causal.do(x={treatment: 1}, \n",
    "              variable_types={treatment: 'b', outcome: 'c', common_cause: 'c'}, \n",
    "              outcome=outcome, \n",
    "              dot_graph=data['dot_graph'],\n",
    "              proceed_when_unidentifiable=True)\n",
    "\n",
    "cdf_0 = df.causal.do(x={treatment: 0}, \n",
    "              variable_types={treatment: 'b', outcome: 'c', common_cause: 'c'}, \n",
    "              outcome=outcome, \n",
    "              dot_graph=data['dot_graph'],\n",
    "              proceed_when_unidentifiable=True)\n"
   ]
  },
  {
   "cell_type": "code",
   "execution_count": 6,
   "metadata": {
    "execution": {
     "iopub.execute_input": "2023-03-31T16:53:12.496851Z",
     "iopub.status.busy": "2023-03-31T16:53:12.496575Z",
     "iopub.status.idle": "2023-03-31T16:53:12.509110Z",
     "shell.execute_reply": "2023-03-31T16:53:12.508512Z"
    },
    "scrolled": true
   },
   "outputs": [
    {
     "data": {
      "text/html": [
       "<div>\n",
       "<style scoped>\n",
       "    .dataframe tbody tr th:only-of-type {\n",
       "        vertical-align: middle;\n",
       "    }\n",
       "\n",
       "    .dataframe tbody tr th {\n",
       "        vertical-align: top;\n",
       "    }\n",
       "\n",
       "    .dataframe thead th {\n",
       "        text-align: right;\n",
       "    }\n",
       "</style>\n",
       "<table border=\"1\" class=\"dataframe\">\n",
       "  <thead>\n",
       "    <tr style=\"text-align: right;\">\n",
       "      <th></th>\n",
       "      <th>W0</th>\n",
       "      <th>v0</th>\n",
       "      <th>y</th>\n",
       "      <th>propensity_score</th>\n",
       "      <th>weight</th>\n",
       "    </tr>\n",
       "  </thead>\n",
       "  <tbody>\n",
       "    <tr>\n",
       "      <th>0</th>\n",
       "      <td>-1.441920</td>\n",
       "      <td>False</td>\n",
       "      <td>-4.165511</td>\n",
       "      <td>0.593723</td>\n",
       "      <td>1.684288</td>\n",
       "    </tr>\n",
       "    <tr>\n",
       "      <th>1</th>\n",
       "      <td>0.526738</td>\n",
       "      <td>False</td>\n",
       "      <td>1.331623</td>\n",
       "      <td>0.515837</td>\n",
       "      <td>1.938597</td>\n",
       "    </tr>\n",
       "    <tr>\n",
       "      <th>2</th>\n",
       "      <td>-1.388270</td>\n",
       "      <td>False</td>\n",
       "      <td>-5.285540</td>\n",
       "      <td>0.591644</td>\n",
       "      <td>1.690207</td>\n",
       "    </tr>\n",
       "    <tr>\n",
       "      <th>3</th>\n",
       "      <td>0.719721</td>\n",
       "      <td>False</td>\n",
       "      <td>3.338032</td>\n",
       "      <td>0.508097</td>\n",
       "      <td>1.968127</td>\n",
       "    </tr>\n",
       "    <tr>\n",
       "      <th>4</th>\n",
       "      <td>-1.453592</td>\n",
       "      <td>False</td>\n",
       "      <td>-3.478530</td>\n",
       "      <td>0.594174</td>\n",
       "      <td>1.683008</td>\n",
       "    </tr>\n",
       "    <tr>\n",
       "      <th>...</th>\n",
       "      <td>...</td>\n",
       "      <td>...</td>\n",
       "      <td>...</td>\n",
       "      <td>...</td>\n",
       "      <td>...</td>\n",
       "    </tr>\n",
       "    <tr>\n",
       "      <th>995</th>\n",
       "      <td>1.655879</td>\n",
       "      <td>False</td>\n",
       "      <td>5.691550</td>\n",
       "      <td>0.470564</td>\n",
       "      <td>2.125108</td>\n",
       "    </tr>\n",
       "    <tr>\n",
       "      <th>996</th>\n",
       "      <td>0.191329</td>\n",
       "      <td>False</td>\n",
       "      <td>2.139069</td>\n",
       "      <td>0.529269</td>\n",
       "      <td>1.889400</td>\n",
       "    </tr>\n",
       "    <tr>\n",
       "      <th>997</th>\n",
       "      <td>0.587447</td>\n",
       "      <td>False</td>\n",
       "      <td>1.860334</td>\n",
       "      <td>0.513403</td>\n",
       "      <td>1.947788</td>\n",
       "    </tr>\n",
       "    <tr>\n",
       "      <th>998</th>\n",
       "      <td>-1.669463</td>\n",
       "      <td>False</td>\n",
       "      <td>-3.968736</td>\n",
       "      <td>0.602502</td>\n",
       "      <td>1.659746</td>\n",
       "    </tr>\n",
       "    <tr>\n",
       "      <th>999</th>\n",
       "      <td>-1.661980</td>\n",
       "      <td>False</td>\n",
       "      <td>-5.709795</td>\n",
       "      <td>0.602214</td>\n",
       "      <td>1.660539</td>\n",
       "    </tr>\n",
       "  </tbody>\n",
       "</table>\n",
       "<p>1000 rows × 5 columns</p>\n",
       "</div>"
      ],
      "text/plain": [
       "           W0     v0         y  propensity_score    weight\n",
       "0   -1.441920  False -4.165511          0.593723  1.684288\n",
       "1    0.526738  False  1.331623          0.515837  1.938597\n",
       "2   -1.388270  False -5.285540          0.591644  1.690207\n",
       "3    0.719721  False  3.338032          0.508097  1.968127\n",
       "4   -1.453592  False -3.478530          0.594174  1.683008\n",
       "..        ...    ...       ...               ...       ...\n",
       "995  1.655879  False  5.691550          0.470564  2.125108\n",
       "996  0.191329  False  2.139069          0.529269  1.889400\n",
       "997  0.587447  False  1.860334          0.513403  1.947788\n",
       "998 -1.669463  False -3.968736          0.602502  1.659746\n",
       "999 -1.661980  False -5.709795          0.602214  1.660539\n",
       "\n",
       "[1000 rows x 5 columns]"
      ]
     },
     "execution_count": 6,
     "metadata": {},
     "output_type": "execute_result"
    }
   ],
   "source": [
    "cdf_0"
   ]
  },
  {
   "cell_type": "code",
   "execution_count": 7,
   "metadata": {
    "execution": {
     "iopub.execute_input": "2023-03-31T16:53:12.512434Z",
     "iopub.status.busy": "2023-03-31T16:53:12.512174Z",
     "iopub.status.idle": "2023-03-31T16:53:12.523924Z",
     "shell.execute_reply": "2023-03-31T16:53:12.523109Z"
    }
   },
   "outputs": [
    {
     "data": {
      "text/html": [
       "<div>\n",
       "<style scoped>\n",
       "    .dataframe tbody tr th:only-of-type {\n",
       "        vertical-align: middle;\n",
       "    }\n",
       "\n",
       "    .dataframe tbody tr th {\n",
       "        vertical-align: top;\n",
       "    }\n",
       "\n",
       "    .dataframe thead th {\n",
       "        text-align: right;\n",
       "    }\n",
       "</style>\n",
       "<table border=\"1\" class=\"dataframe\">\n",
       "  <thead>\n",
       "    <tr style=\"text-align: right;\">\n",
       "      <th></th>\n",
       "      <th>W0</th>\n",
       "      <th>v0</th>\n",
       "      <th>y</th>\n",
       "      <th>propensity_score</th>\n",
       "      <th>weight</th>\n",
       "    </tr>\n",
       "  </thead>\n",
       "  <tbody>\n",
       "    <tr>\n",
       "      <th>0</th>\n",
       "      <td>-1.516894</td>\n",
       "      <td>True</td>\n",
       "      <td>0.999046</td>\n",
       "      <td>0.403378</td>\n",
       "      <td>2.479066</td>\n",
       "    </tr>\n",
       "    <tr>\n",
       "      <th>1</th>\n",
       "      <td>-0.964484</td>\n",
       "      <td>True</td>\n",
       "      <td>1.091724</td>\n",
       "      <td>0.424888</td>\n",
       "      <td>2.353560</td>\n",
       "    </tr>\n",
       "    <tr>\n",
       "      <th>2</th>\n",
       "      <td>0.061491</td>\n",
       "      <td>True</td>\n",
       "      <td>5.154134</td>\n",
       "      <td>0.465542</td>\n",
       "      <td>2.148033</td>\n",
       "    </tr>\n",
       "    <tr>\n",
       "      <th>3</th>\n",
       "      <td>0.411311</td>\n",
       "      <td>True</td>\n",
       "      <td>4.004029</td>\n",
       "      <td>0.479537</td>\n",
       "      <td>2.085344</td>\n",
       "    </tr>\n",
       "    <tr>\n",
       "      <th>4</th>\n",
       "      <td>-1.832274</td>\n",
       "      <td>True</td>\n",
       "      <td>-0.151079</td>\n",
       "      <td>0.391256</td>\n",
       "      <td>2.555870</td>\n",
       "    </tr>\n",
       "    <tr>\n",
       "      <th>...</th>\n",
       "      <td>...</td>\n",
       "      <td>...</td>\n",
       "      <td>...</td>\n",
       "      <td>...</td>\n",
       "      <td>...</td>\n",
       "    </tr>\n",
       "    <tr>\n",
       "      <th>995</th>\n",
       "      <td>0.064569</td>\n",
       "      <td>True</td>\n",
       "      <td>4.643855</td>\n",
       "      <td>0.465665</td>\n",
       "      <td>2.147466</td>\n",
       "    </tr>\n",
       "    <tr>\n",
       "      <th>996</th>\n",
       "      <td>-0.964484</td>\n",
       "      <td>True</td>\n",
       "      <td>1.091724</td>\n",
       "      <td>0.424888</td>\n",
       "      <td>2.353560</td>\n",
       "    </tr>\n",
       "    <tr>\n",
       "      <th>997</th>\n",
       "      <td>-2.642618</td>\n",
       "      <td>True</td>\n",
       "      <td>-3.646408</td>\n",
       "      <td>0.360750</td>\n",
       "      <td>2.772003</td>\n",
       "    </tr>\n",
       "    <tr>\n",
       "      <th>998</th>\n",
       "      <td>0.254757</td>\n",
       "      <td>True</td>\n",
       "      <td>5.376866</td>\n",
       "      <td>0.473269</td>\n",
       "      <td>2.112964</td>\n",
       "    </tr>\n",
       "    <tr>\n",
       "      <th>999</th>\n",
       "      <td>-0.097371</td>\n",
       "      <td>True</td>\n",
       "      <td>5.269520</td>\n",
       "      <td>0.459203</td>\n",
       "      <td>2.177685</td>\n",
       "    </tr>\n",
       "  </tbody>\n",
       "</table>\n",
       "<p>1000 rows × 5 columns</p>\n",
       "</div>"
      ],
      "text/plain": [
       "           W0    v0         y  propensity_score    weight\n",
       "0   -1.516894  True  0.999046          0.403378  2.479066\n",
       "1   -0.964484  True  1.091724          0.424888  2.353560\n",
       "2    0.061491  True  5.154134          0.465542  2.148033\n",
       "3    0.411311  True  4.004029          0.479537  2.085344\n",
       "4   -1.832274  True -0.151079          0.391256  2.555870\n",
       "..        ...   ...       ...               ...       ...\n",
       "995  0.064569  True  4.643855          0.465665  2.147466\n",
       "996 -0.964484  True  1.091724          0.424888  2.353560\n",
       "997 -2.642618  True -3.646408          0.360750  2.772003\n",
       "998  0.254757  True  5.376866          0.473269  2.112964\n",
       "999 -0.097371  True  5.269520          0.459203  2.177685\n",
       "\n",
       "[1000 rows x 5 columns]"
      ]
     },
     "execution_count": 7,
     "metadata": {},
     "output_type": "execute_result"
    }
   ],
   "source": [
    "cdf_1"
   ]
  },
  {
   "cell_type": "markdown",
   "metadata": {},
   "source": [
    "## Comparing the estimate to Linear Regression\n",
    "First, estimating the effect using the causal data frame, and the 95% confidence interval."
   ]
  },
  {
   "cell_type": "code",
   "execution_count": 8,
   "metadata": {
    "execution": {
     "iopub.execute_input": "2023-03-31T16:53:12.529210Z",
     "iopub.status.busy": "2023-03-31T16:53:12.528950Z",
     "iopub.status.idle": "2023-03-31T16:53:12.596603Z",
     "shell.execute_reply": "2023-03-31T16:53:12.595542Z"
    }
   },
   "outputs": [
    {
     "data": {
      "image/png": "[encoded data removed]",
      "text/latex": [
       "$\\displaystyle 4.92623707028109$"
      ],
      "text/plain": [
       "4.92623707028109"
      ]
     },
     "execution_count": 8,
     "metadata": {},
     "output_type": "execute_result"
    }
   ],
   "source": [
    "(cdf_1['y'] - cdf_0['y']).mean()"
   ]
  },
  {
   "cell_type": "code",
   "execution_count": 9,
   "metadata": {
    "execution": {
     "iopub.execute_input": "2023-03-31T16:53:12.601125Z",
     "iopub.status.busy": "2023-03-31T16:53:12.600340Z",
     "iopub.status.idle": "2023-03-31T16:53:12.623616Z",
     "shell.execute_reply": "2023-03-31T16:53:12.622827Z"
    }
   },
   "outputs": [
    {
     "data": {
      "image/png": "[encoded data removed]",
      "text/latex": [
       "$\\displaystyle 0.269969501721273$"
      ],
      "text/plain": [
       "0.269969501721273"
      ]
     },
     "execution_count": 9,
     "metadata": {},
     "output_type": "execute_result"
    }
   ],
   "source": [
    "1.96*(cdf_1['y'] - cdf_0['y']).std() / np.sqrt(len(df))"
   ]
  },
  {
   "cell_type": "markdown",
   "metadata": {},
   "source": [
    "Comparing to the estimate from OLS."
   ]
  },
  {
   "cell_type": "code",
   "execution_count": 10,
   "metadata": {
    "execution": {
     "iopub.execute_input": "2023-03-31T16:53:12.627301Z",
     "iopub.status.busy": "2023-03-31T16:53:12.626875Z",
     "iopub.status.idle": "2023-03-31T16:53:12.642758Z",
     "shell.execute_reply": "2023-03-31T16:53:12.642020Z"
    }
   },
   "outputs": [
    {
     "data": {
      "text/html": [
       "<table class=\"simpletable\">\n",
       "<caption>OLS Regression Results</caption>\n",
       "<tr>\n",
       "  <th>Dep. Variable:</th>            <td>y</td>        <th>  R-squared (uncentered):</th>      <td>   0.945</td>\n",
       "</tr>\n",
       "<tr>\n",
       "  <th>Model:</th>                   <td>OLS</td>       <th>  Adj. R-squared (uncentered):</th> <td>   0.945</td>\n",
       "</tr>\n",
       "<tr>\n",
       "  <th>Method:</th>             <td>Least Squares</td>  <th>  F-statistic:       </th>          <td>   8600.</td>\n",
       "</tr>\n",
       "<tr>\n",
       "  <th>Date:</th>             <td>Fri, 31 Mar 2023</td> <th>  Prob (F-statistic):</th>           <td>  0.00</td> \n",
       "</tr>\n",
       "<tr>\n",
       "  <th>Time:</th>                 <td>16:53:12</td>     <th>  Log-Likelihood:    </th>          <td> -1392.3</td>\n",
       "</tr>\n",
       "<tr>\n",
       "  <th>No. Observations:</th>      <td>  1000</td>      <th>  AIC:               </th>          <td>   2789.</td>\n",
       "</tr>\n",
       "<tr>\n",
       "  <th>Df Residuals:</th>          <td>   998</td>      <th>  BIC:               </th>          <td>   2798.</td>\n",
       "</tr>\n",
       "<tr>\n",
       "  <th>Df Model:</th>              <td>     2</td>      <th>                     </th>              <td> </td>   \n",
       "</tr>\n",
       "<tr>\n",
       "  <th>Covariance Type:</th>      <td>nonrobust</td>    <th>                     </th>              <td> </td>   \n",
       "</tr>\n",
       "</table>\n",
       "<table class=\"simpletable\">\n",
       "<tr>\n",
       "   <td></td>     <th>coef</th>     <th>std err</th>      <th>t</th>      <th>P>|t|</th>  <th>[0.025</th>    <th>0.975]</th>  \n",
       "</tr>\n",
       "<tr>\n",
       "  <th>x1</th> <td>    2.9118</td> <td>    0.025</td> <td>  118.623</td> <td> 0.000</td> <td>    2.864</td> <td>    2.960</td>\n",
       "</tr>\n",
       "<tr>\n",
       "  <th>x2</th> <td>    5.0526</td> <td>    0.051</td> <td>   98.354</td> <td> 0.000</td> <td>    4.952</td> <td>    5.153</td>\n",
       "</tr>\n",
       "</table>\n",
       "<table class=\"simpletable\">\n",
       "<tr>\n",
       "  <th>Omnibus:</th>       <td> 9.062</td> <th>  Durbin-Watson:     </th> <td>   1.918</td>\n",
       "</tr>\n",
       "<tr>\n",
       "  <th>Prob(Omnibus):</th> <td> 0.011</td> <th>  Jarque-Bera (JB):  </th> <td>  10.009</td>\n",
       "</tr>\n",
       "<tr>\n",
       "  <th>Skew:</th>          <td>-0.164</td> <th>  Prob(JB):          </th> <td> 0.00671</td>\n",
       "</tr>\n",
       "<tr>\n",
       "  <th>Kurtosis:</th>      <td> 3.364</td> <th>  Cond. No.          </th> <td>    2.38</td>\n",
       "</tr>\n",
       "</table><br/><br/>Notes:<br/>[1] R² is computed without centering (uncentered) since the model does not contain a constant.<br/>[2] Standard Errors assume that the covariance matrix of the errors is correctly specified."
      ],
      "text/plain": [
       "<class 'statsmodels.iolib.summary.Summary'>\n",
       "\"\"\"\n",
       "                                 OLS Regression Results                                \n",
       "=======================================================================================\n",
       "Dep. Variable:                      y   R-squared (uncentered):                   0.945\n",
       "Model:                            OLS   Adj. R-squared (uncentered):              0.945\n",
       "Method:                 Least Squares   F-statistic:                              8600.\n",
       "Date:                Fri, 31 Mar 2023   Prob (F-statistic):                        0.00\n",
       "Time:                        16:53:12   Log-Likelihood:                         -1392.3\n",
       "No. Observations:                1000   AIC:                                      2789.\n",
       "Df Residuals:                     998   BIC:                                      2798.\n",
       "Df Model:                           2                                                  \n",
       "Covariance Type:            nonrobust                                                  \n",
       "==============================================================================\n",
       "                 coef    std err          t      P>|t|      [0.025      0.975]\n",
       "------------------------------------------------------------------------------\n",
       "x1             2.9118      0.025    118.623      0.000       2.864       2.960\n",
       "x2             5.0526      0.051     98.354      0.000       4.952       5.153\n",
       "==============================================================================\n",
       "Omnibus:                        9.062   Durbin-Watson:                   1.918\n",
       "Prob(Omnibus):                  0.011   Jarque-Bera (JB):               10.009\n",
       "Skew:                          -0.164   Prob(JB):                      0.00671\n",
       "Kurtosis:                       3.364   Cond. No.                         2.38\n",
       "==============================================================================\n",
       "\n",
       "Notes:\n",
       "[1] R² is computed without centering (uncentered) since the model does not contain a constant.\n",
       "[2] Standard Errors assume that the covariance matrix of the errors is correctly specified.\n",
       "\"\"\""
      ]
     },
     "execution_count": 10,
     "metadata": {},
     "output_type": "execute_result"
    }
   ],
   "source": [
    "model = OLS(np.asarray(df[outcome]), np.asarray(df[[common_cause, treatment]], dtype=np.float64))\n",
    "result = model.fit()\n",
    "result.summary()"
   ]
  }
 ],
 "metadata": {
  "kernelspec": {
   "display_name": "Python 3",
   "language": "python",
   "name": "python3"
  },
  "language_info": {
   "codemirror_mode": {
    "name": "ipython",
    "version": 3
   },
   "file_extension": ".py",
   "mimetype": "text/x-python",
   "name": "python",
   "nbconvert_exporter": "python",
   "pygments_lexer": "ipython3",
   "version": "3.8.10"
  },
  "toc": {
   "base_numbering": 1,
   "nav_menu": {},
   "number_sections": false,
   "sideBar": true,
   "skip_h1_title": true,
   "title_cell": "Table of Contents",
   "title_sidebar": "Contents",
   "toc_cell": false,
   "toc_position": {},
   "toc_section_display": true,
   "toc_window_display": false
  }
 },
 "nbformat": 4,
 "nbformat_minor": 4
}
