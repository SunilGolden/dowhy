{
 "cells": [
  {
   "cell_type": "markdown",
   "metadata": {},
   "source": [
    "# Demo for the DoWhy causal API\n",
    "We show a simple example of adding a causal extension to any dataframe. "
   ]
  },
  {
   "cell_type": "code",
   "execution_count": 1,
   "metadata": {
    "execution": {
     "iopub.execute_input": "2023-08-24T16:26:28.237178Z",
     "iopub.status.busy": "2023-08-24T16:26:28.236885Z",
     "iopub.status.idle": "2023-08-24T16:26:30.510186Z",
     "shell.execute_reply": "2023-08-24T16:26:30.509117Z"
    }
   },
   "outputs": [],
   "source": [
    "import dowhy.datasets\n",
    "import dowhy.api\n",
    "\n",
    "import numpy as np\n",
    "import pandas as pd\n",
    "\n",
    "from statsmodels.api import OLS"
   ]
  },
  {
   "cell_type": "code",
   "execution_count": 2,
   "metadata": {
    "execution": {
     "iopub.execute_input": "2023-08-24T16:26:30.514903Z",
     "iopub.status.busy": "2023-08-24T16:26:30.514122Z",
     "iopub.status.idle": "2023-08-24T16:26:30.585134Z",
     "shell.execute_reply": "2023-08-24T16:26:30.584133Z"
    }
   },
   "outputs": [
    {
     "data": {
      "text/html": [
       "<div>\n",
       "<style scoped>\n",
       "    .dataframe tbody tr th:only-of-type {\n",
       "        vertical-align: middle;\n",
       "    }\n",
       "\n",
       "    .dataframe tbody tr th {\n",
       "        vertical-align: top;\n",
       "    }\n",
       "\n",
       "    .dataframe thead th {\n",
       "        text-align: right;\n",
       "    }\n",
       "</style>\n",
       "<table border=\"1\" class=\"dataframe\">\n",
       "  <thead>\n",
       "    <tr style=\"text-align: right;\">\n",
       "      <th></th>\n",
       "      <th>W0</th>\n",
       "      <th>v0</th>\n",
       "      <th>y</th>\n",
       "    </tr>\n",
       "  </thead>\n",
       "  <tbody>\n",
       "    <tr>\n",
       "      <th>0</th>\n",
       "      <td>-1.715115</td>\n",
       "      <td>False</td>\n",
       "      <td>-3.518616</td>\n",
       "    </tr>\n",
       "    <tr>\n",
       "      <th>1</th>\n",
       "      <td>0.539078</td>\n",
       "      <td>True</td>\n",
       "      <td>5.061078</td>\n",
       "    </tr>\n",
       "    <tr>\n",
       "      <th>2</th>\n",
       "      <td>-1.839637</td>\n",
       "      <td>False</td>\n",
       "      <td>-5.943034</td>\n",
       "    </tr>\n",
       "    <tr>\n",
       "      <th>3</th>\n",
       "      <td>1.160872</td>\n",
       "      <td>True</td>\n",
       "      <td>8.991002</td>\n",
       "    </tr>\n",
       "    <tr>\n",
       "      <th>4</th>\n",
       "      <td>-0.385366</td>\n",
       "      <td>True</td>\n",
       "      <td>3.225390</td>\n",
       "    </tr>\n",
       "    <tr>\n",
       "      <th>...</th>\n",
       "      <td>...</td>\n",
       "      <td>...</td>\n",
       "      <td>...</td>\n",
       "    </tr>\n",
       "    <tr>\n",
       "      <th>995</th>\n",
       "      <td>-0.667065</td>\n",
       "      <td>False</td>\n",
       "      <td>-0.463410</td>\n",
       "    </tr>\n",
       "    <tr>\n",
       "      <th>996</th>\n",
       "      <td>-1.346482</td>\n",
       "      <td>False</td>\n",
       "      <td>-3.873697</td>\n",
       "    </tr>\n",
       "    <tr>\n",
       "      <th>997</th>\n",
       "      <td>-0.933737</td>\n",
       "      <td>False</td>\n",
       "      <td>-4.062597</td>\n",
       "    </tr>\n",
       "    <tr>\n",
       "      <th>998</th>\n",
       "      <td>-0.750176</td>\n",
       "      <td>True</td>\n",
       "      <td>1.468909</td>\n",
       "    </tr>\n",
       "    <tr>\n",
       "      <th>999</th>\n",
       "      <td>0.151788</td>\n",
       "      <td>True</td>\n",
       "      <td>5.755541</td>\n",
       "    </tr>\n",
       "  </tbody>\n",
       "</table>\n",
       "<p>1000 rows × 3 columns</p>\n",
       "</div>"
      ],
      "text/plain": [
       "           W0     v0         y\n",
       "0   -1.715115  False -3.518616\n",
       "1    0.539078   True  5.061078\n",
       "2   -1.839637  False -5.943034\n",
       "3    1.160872   True  8.991002\n",
       "4   -0.385366   True  3.225390\n",
       "..        ...    ...       ...\n",
       "995 -0.667065  False -0.463410\n",
       "996 -1.346482  False -3.873697\n",
       "997 -0.933737  False -4.062597\n",
       "998 -0.750176   True  1.468909\n",
       "999  0.151788   True  5.755541\n",
       "\n",
       "[1000 rows x 3 columns]"
      ]
     },
     "execution_count": 2,
     "metadata": {},
     "output_type": "execute_result"
    }
   ],
   "source": [
    "data = dowhy.datasets.linear_dataset(beta=5,\n",
    "        num_common_causes=1,\n",
    "        num_instruments = 0,\n",
    "        num_samples=1000,\n",
    "        treatment_is_binary=True)\n",
    "df = data['df']\n",
    "df['y'] = df['y'] + np.random.normal(size=len(df)) # Adding noise to data. Without noise, the variance in Y|X, Z is zero, and mcmc fails.\n",
    "#data['dot_graph'] = 'digraph { v ->y;X0-> v;X0-> y;}'\n",
    "\n",
    "treatment= data[\"treatment_name\"][0]\n",
    "outcome = data[\"outcome_name\"][0]\n",
    "common_cause = data[\"common_causes_names\"][0]\n",
    "df"
   ]
  },
  {
   "cell_type": "code",
   "execution_count": 3,
   "metadata": {
    "execution": {
     "iopub.execute_input": "2023-08-24T16:26:30.589454Z",
     "iopub.status.busy": "2023-08-24T16:26:30.588676Z",
     "iopub.status.idle": "2023-08-24T16:26:30.896368Z",
     "shell.execute_reply": "2023-08-24T16:26:30.895382Z"
    }
   },
   "outputs": [
    {
     "data": {
      "text/plain": [
       "<Axes: xlabel='v0'>"
      ]
     },
     "execution_count": 3,
     "metadata": {},
     "output_type": "execute_result"
    },
    {
     "data": {
      "image/png": "[encoded data removed]",
      "text/plain": [
       "<Figure size 640x480 with 1 Axes>"
      ]
     },
     "metadata": {},
     "output_type": "display_data"
    }
   ],
   "source": [
    "# data['df'] is just a regular pandas.DataFrame\n",
    "df.causal.do(x=treatment,\n",
    "                     variable_types={treatment: 'b', outcome: 'c', common_cause: 'c'},\n",
    "                     outcome=outcome,\n",
    "                     common_causes=[common_cause],\n",
    "                     proceed_when_unidentifiable=True).groupby(treatment).mean().plot(y=outcome, kind='bar')"
   ]
  },
  {
   "cell_type": "code",
   "execution_count": 4,
   "metadata": {
    "execution": {
     "iopub.execute_input": "2023-08-24T16:26:30.900589Z",
     "iopub.status.busy": "2023-08-24T16:26:30.899979Z",
     "iopub.status.idle": "2023-08-24T16:26:31.097230Z",
     "shell.execute_reply": "2023-08-24T16:26:31.096382Z"
    }
   },
   "outputs": [
    {
     "data": {
      "text/plain": [
       "<Axes: xlabel='v0'>"
      ]
     },
     "execution_count": 4,
     "metadata": {},
     "output_type": "execute_result"
    },
    {
     "data": {
      "image/png": "[encoded data removed]",
      "text/plain": [
       "<Figure size 640x480 with 1 Axes>"
      ]
     },
     "metadata": {},
     "output_type": "display_data"
    }
   ],
   "source": [
    "df.causal.do(x={treatment: 1}, \n",
    "              variable_types={treatment:'b', outcome: 'c', common_cause: 'c'}, \n",
    "              outcome=outcome,\n",
    "              method='weighting', \n",
    "              common_causes=[common_cause],\n",
    "              proceed_when_unidentifiable=True).groupby(treatment).mean().plot(y=outcome, kind='bar')"
   ]
  },
  {
   "cell_type": "code",
   "execution_count": 5,
   "metadata": {
    "execution": {
     "iopub.execute_input": "2023-08-24T16:26:31.101387Z",
     "iopub.status.busy": "2023-08-24T16:26:31.100781Z",
     "iopub.status.idle": "2023-08-24T16:26:31.149504Z",
     "shell.execute_reply": "2023-08-24T16:26:31.148459Z"
    }
   },
   "outputs": [],
   "source": [
    "cdf_1 = df.causal.do(x={treatment: 1}, \n",
    "              variable_types={treatment: 'b', outcome: 'c', common_cause: 'c'}, \n",
    "              outcome=outcome, \n",
    "              dot_graph=data['dot_graph'],\n",
    "              proceed_when_unidentifiable=True)\n",
    "\n",
    "cdf_0 = df.causal.do(x={treatment: 0}, \n",
    "              variable_types={treatment: 'b', outcome: 'c', common_cause: 'c'}, \n",
    "              outcome=outcome, \n",
    "              dot_graph=data['dot_graph'],\n",
    "              proceed_when_unidentifiable=True)\n"
   ]
  },
  {
   "cell_type": "code",
   "execution_count": 6,
   "metadata": {
    "execution": {
     "iopub.execute_input": "2023-08-24T16:26:31.155968Z",
     "iopub.status.busy": "2023-08-24T16:26:31.155624Z",
     "iopub.status.idle": "2023-08-24T16:26:31.170995Z",
     "shell.execute_reply": "2023-08-24T16:26:31.169853Z"
    },
    "scrolled": true
   },
   "outputs": [
    {
     "data": {
      "text/html": [
       "<div>\n",
       "<style scoped>\n",
       "    .dataframe tbody tr th:only-of-type {\n",
       "        vertical-align: middle;\n",
       "    }\n",
       "\n",
       "    .dataframe tbody tr th {\n",
       "        vertical-align: top;\n",
       "    }\n",
       "\n",
       "    .dataframe thead th {\n",
       "        text-align: right;\n",
       "    }\n",
       "</style>\n",
       "<table border=\"1\" class=\"dataframe\">\n",
       "  <thead>\n",
       "    <tr style=\"text-align: right;\">\n",
       "      <th></th>\n",
       "      <th>W0</th>\n",
       "      <th>v0</th>\n",
       "      <th>y</th>\n",
       "      <th>propensity_score</th>\n",
       "      <th>weight</th>\n",
       "    </tr>\n",
       "  </thead>\n",
       "  <tbody>\n",
       "    <tr>\n",
       "      <th>0</th>\n",
       "      <td>-0.109906</td>\n",
       "      <td>False</td>\n",
       "      <td>-0.652486</td>\n",
       "      <td>0.534445</td>\n",
       "      <td>1.871101</td>\n",
       "    </tr>\n",
       "    <tr>\n",
       "      <th>1</th>\n",
       "      <td>-1.764162</td>\n",
       "      <td>False</td>\n",
       "      <td>-5.066081</td>\n",
       "      <td>0.955421</td>\n",
       "      <td>1.046659</td>\n",
       "    </tr>\n",
       "    <tr>\n",
       "      <th>2</th>\n",
       "      <td>0.101376</td>\n",
       "      <td>False</td>\n",
       "      <td>1.218693</td>\n",
       "      <td>0.441315</td>\n",
       "      <td>2.265954</td>\n",
       "    </tr>\n",
       "    <tr>\n",
       "      <th>3</th>\n",
       "      <td>-1.464478</td>\n",
       "      <td>False</td>\n",
       "      <td>-4.117739</td>\n",
       "      <td>0.926536</td>\n",
       "      <td>1.079289</td>\n",
       "    </tr>\n",
       "    <tr>\n",
       "      <th>4</th>\n",
       "      <td>0.430990</td>\n",
       "      <td>False</td>\n",
       "      <td>0.908529</td>\n",
       "      <td>0.305973</td>\n",
       "      <td>3.268265</td>\n",
       "    </tr>\n",
       "    <tr>\n",
       "      <th>...</th>\n",
       "      <td>...</td>\n",
       "      <td>...</td>\n",
       "      <td>...</td>\n",
       "      <td>...</td>\n",
       "      <td>...</td>\n",
       "    </tr>\n",
       "    <tr>\n",
       "      <th>995</th>\n",
       "      <td>0.777832</td>\n",
       "      <td>False</td>\n",
       "      <td>1.350279</td>\n",
       "      <td>0.192681</td>\n",
       "      <td>5.189936</td>\n",
       "    </tr>\n",
       "    <tr>\n",
       "      <th>996</th>\n",
       "      <td>0.520636</td>\n",
       "      <td>False</td>\n",
       "      <td>-0.065094</td>\n",
       "      <td>0.273363</td>\n",
       "      <td>3.658140</td>\n",
       "    </tr>\n",
       "    <tr>\n",
       "      <th>997</th>\n",
       "      <td>-0.666650</td>\n",
       "      <td>False</td>\n",
       "      <td>-2.705170</td>\n",
       "      <td>0.754554</td>\n",
       "      <td>1.325286</td>\n",
       "    </tr>\n",
       "    <tr>\n",
       "      <th>998</th>\n",
       "      <td>0.854264</td>\n",
       "      <td>False</td>\n",
       "      <td>2.069225</td>\n",
       "      <td>0.172513</td>\n",
       "      <td>5.796652</td>\n",
       "    </tr>\n",
       "    <tr>\n",
       "      <th>999</th>\n",
       "      <td>-0.738888</td>\n",
       "      <td>False</td>\n",
       "      <td>-2.166796</td>\n",
       "      <td>0.777449</td>\n",
       "      <td>1.286258</td>\n",
       "    </tr>\n",
       "  </tbody>\n",
       "</table>\n",
       "<p>1000 rows × 5 columns</p>\n",
       "</div>"
      ],
      "text/plain": [
       "           W0     v0         y  propensity_score    weight\n",
       "0   -0.109906  False -0.652486          0.534445  1.871101\n",
       "1   -1.764162  False -5.066081          0.955421  1.046659\n",
       "2    0.101376  False  1.218693          0.441315  2.265954\n",
       "3   -1.464478  False -4.117739          0.926536  1.079289\n",
       "4    0.430990  False  0.908529          0.305973  3.268265\n",
       "..        ...    ...       ...               ...       ...\n",
       "995  0.777832  False  1.350279          0.192681  5.189936\n",
       "996  0.520636  False -0.065094          0.273363  3.658140\n",
       "997 -0.666650  False -2.705170          0.754554  1.325286\n",
       "998  0.854264  False  2.069225          0.172513  5.796652\n",
       "999 -0.738888  False -2.166796          0.777449  1.286258\n",
       "\n",
       "[1000 rows x 5 columns]"
      ]
     },
     "execution_count": 6,
     "metadata": {},
     "output_type": "execute_result"
    }
   ],
   "source": [
    "cdf_0"
   ]
  },
  {
   "cell_type": "code",
   "execution_count": 7,
   "metadata": {
    "execution": {
     "iopub.execute_input": "2023-08-24T16:26:31.178059Z",
     "iopub.status.busy": "2023-08-24T16:26:31.177678Z",
     "iopub.status.idle": "2023-08-24T16:26:31.193422Z",
     "shell.execute_reply": "2023-08-24T16:26:31.192621Z"
    }
   },
   "outputs": [
    {
     "data": {
      "text/html": [
       "<div>\n",
       "<style scoped>\n",
       "    .dataframe tbody tr th:only-of-type {\n",
       "        vertical-align: middle;\n",
       "    }\n",
       "\n",
       "    .dataframe tbody tr th {\n",
       "        vertical-align: top;\n",
       "    }\n",
       "\n",
       "    .dataframe thead th {\n",
       "        text-align: right;\n",
       "    }\n",
       "</style>\n",
       "<table border=\"1\" class=\"dataframe\">\n",
       "  <thead>\n",
       "    <tr style=\"text-align: right;\">\n",
       "      <th></th>\n",
       "      <th>W0</th>\n",
       "      <th>v0</th>\n",
       "      <th>y</th>\n",
       "      <th>propensity_score</th>\n",
       "      <th>weight</th>\n",
       "    </tr>\n",
       "  </thead>\n",
       "  <tbody>\n",
       "    <tr>\n",
       "      <th>0</th>\n",
       "      <td>0.162336</td>\n",
       "      <td>True</td>\n",
       "      <td>6.577537</td>\n",
       "      <td>0.585085</td>\n",
       "      <td>1.709153</td>\n",
       "    </tr>\n",
       "    <tr>\n",
       "      <th>1</th>\n",
       "      <td>0.327106</td>\n",
       "      <td>True</td>\n",
       "      <td>5.241739</td>\n",
       "      <td>0.653670</td>\n",
       "      <td>1.529823</td>\n",
       "    </tr>\n",
       "    <tr>\n",
       "      <th>2</th>\n",
       "      <td>-0.438724</td>\n",
       "      <td>True</td>\n",
       "      <td>4.413208</td>\n",
       "      <td>0.327442</td>\n",
       "      <td>3.053978</td>\n",
       "    </tr>\n",
       "    <tr>\n",
       "      <th>3</th>\n",
       "      <td>1.985283</td>\n",
       "      <td>True</td>\n",
       "      <td>10.335020</td>\n",
       "      <td>0.972590</td>\n",
       "      <td>1.028183</td>\n",
       "    </tr>\n",
       "    <tr>\n",
       "      <th>4</th>\n",
       "      <td>-0.614370</td>\n",
       "      <td>True</td>\n",
       "      <td>2.907710</td>\n",
       "      <td>0.262977</td>\n",
       "      <td>3.802608</td>\n",
       "    </tr>\n",
       "    <tr>\n",
       "      <th>...</th>\n",
       "      <td>...</td>\n",
       "      <td>...</td>\n",
       "      <td>...</td>\n",
       "      <td>...</td>\n",
       "      <td>...</td>\n",
       "    </tr>\n",
       "    <tr>\n",
       "      <th>995</th>\n",
       "      <td>-0.279601</td>\n",
       "      <td>True</td>\n",
       "      <td>2.699210</td>\n",
       "      <td>0.392160</td>\n",
       "      <td>2.549977</td>\n",
       "    </tr>\n",
       "    <tr>\n",
       "      <th>996</th>\n",
       "      <td>-1.360500</td>\n",
       "      <td>True</td>\n",
       "      <td>-0.008255</td>\n",
       "      <td>0.087011</td>\n",
       "      <td>11.492758</td>\n",
       "    </tr>\n",
       "    <tr>\n",
       "      <th>997</th>\n",
       "      <td>-1.360500</td>\n",
       "      <td>True</td>\n",
       "      <td>-0.008255</td>\n",
       "      <td>0.087011</td>\n",
       "      <td>11.492758</td>\n",
       "    </tr>\n",
       "    <tr>\n",
       "      <th>998</th>\n",
       "      <td>0.571323</td>\n",
       "      <td>True</td>\n",
       "      <td>6.397281</td>\n",
       "      <td>0.744084</td>\n",
       "      <td>1.343933</td>\n",
       "    </tr>\n",
       "    <tr>\n",
       "      <th>999</th>\n",
       "      <td>-1.078877</td>\n",
       "      <td>True</td>\n",
       "      <td>1.060539</td>\n",
       "      <td>0.135590</td>\n",
       "      <td>7.375148</td>\n",
       "    </tr>\n",
       "  </tbody>\n",
       "</table>\n",
       "<p>1000 rows × 5 columns</p>\n",
       "</div>"
      ],
      "text/plain": [
       "           W0    v0          y  propensity_score     weight\n",
       "0    0.162336  True   6.577537          0.585085   1.709153\n",
       "1    0.327106  True   5.241739          0.653670   1.529823\n",
       "2   -0.438724  True   4.413208          0.327442   3.053978\n",
       "3    1.985283  True  10.335020          0.972590   1.028183\n",
       "4   -0.614370  True   2.907710          0.262977   3.802608\n",
       "..        ...   ...        ...               ...        ...\n",
       "995 -0.279601  True   2.699210          0.392160   2.549977\n",
       "996 -1.360500  True  -0.008255          0.087011  11.492758\n",
       "997 -1.360500  True  -0.008255          0.087011  11.492758\n",
       "998  0.571323  True   6.397281          0.744084   1.343933\n",
       "999 -1.078877  True   1.060539          0.135590   7.375148\n",
       "\n",
       "[1000 rows x 5 columns]"
      ]
     },
     "execution_count": 7,
     "metadata": {},
     "output_type": "execute_result"
    }
   ],
   "source": [
    "cdf_1"
   ]
  },
  {
   "cell_type": "markdown",
   "metadata": {},
   "source": [
    "## Comparing the estimate to Linear Regression\n",
    "First, estimating the effect using the causal data frame, and the 95% confidence interval."
   ]
  },
  {
   "cell_type": "code",
   "execution_count": 8,
   "metadata": {
    "execution": {
     "iopub.execute_input": "2023-08-24T16:26:31.197411Z",
     "iopub.status.busy": "2023-08-24T16:26:31.196665Z",
     "iopub.status.idle": "2023-08-24T16:26:31.277013Z",
     "shell.execute_reply": "2023-08-24T16:26:31.276048Z"
    }
   },
   "outputs": [
    {
     "data": {
      "image/png": "[encoded data removed]",
      "text/latex": [
       "$\\displaystyle 5.55594822013137$"
      ],
      "text/plain": [
       "5.555948220131372"
      ]
     },
     "execution_count": 8,
     "metadata": {},
     "output_type": "execute_result"
    }
   ],
   "source": [
    "(cdf_1['y'] - cdf_0['y']).mean()"
   ]
  },
  {
   "cell_type": "code",
   "execution_count": 9,
   "metadata": {
    "execution": {
     "iopub.execute_input": "2023-08-24T16:26:31.281607Z",
     "iopub.status.busy": "2023-08-24T16:26:31.281287Z",
     "iopub.status.idle": "2023-08-24T16:26:31.316809Z",
     "shell.execute_reply": "2023-08-24T16:26:31.315668Z"
    }
   },
   "outputs": [
    {
     "data": {
      "image/png": "[encoded data removed]",
      "text/latex": [
       "$\\displaystyle 0.231764585272461$"
      ],
      "text/plain": [
       "0.23176458527246147"
      ]
     },
     "execution_count": 9,
     "metadata": {},
     "output_type": "execute_result"
    }
   ],
   "source": [
    "1.96*(cdf_1['y'] - cdf_0['y']).std() / np.sqrt(len(df))"
   ]
  },
  {
   "cell_type": "markdown",
   "metadata": {},
   "source": [
    "Comparing to the estimate from OLS."
   ]
  },
  {
   "cell_type": "code",
   "execution_count": 10,
   "metadata": {
    "execution": {
     "iopub.execute_input": "2023-08-24T16:26:31.320709Z",
     "iopub.status.busy": "2023-08-24T16:26:31.320396Z",
     "iopub.status.idle": "2023-08-24T16:26:31.354706Z",
     "shell.execute_reply": "2023-08-24T16:26:31.353702Z"
    }
   },
   "outputs": [
    {
     "data": {
      "text/html": [
       "<table class=\"simpletable\">\n",
       "<caption>OLS Regression Results</caption>\n",
       "<tr>\n",
       "  <th>Dep. Variable:</th>            <td>y</td>        <th>  R-squared (uncentered):</th>      <td>   0.958</td> \n",
       "</tr>\n",
       "<tr>\n",
       "  <th>Model:</th>                   <td>OLS</td>       <th>  Adj. R-squared (uncentered):</th> <td>   0.958</td> \n",
       "</tr>\n",
       "<tr>\n",
       "  <th>Method:</th>             <td>Least Squares</td>  <th>  F-statistic:       </th>          <td>1.130e+04</td>\n",
       "</tr>\n",
       "<tr>\n",
       "  <th>Date:</th>             <td>Thu, 24 Aug 2023</td> <th>  Prob (F-statistic):</th>           <td>  0.00</td>  \n",
       "</tr>\n",
       "<tr>\n",
       "  <th>Time:</th>                 <td>16:26:31</td>     <th>  Log-Likelihood:    </th>          <td> -1419.3</td> \n",
       "</tr>\n",
       "<tr>\n",
       "  <th>No. Observations:</th>      <td>  1000</td>      <th>  AIC:               </th>          <td>   2843.</td> \n",
       "</tr>\n",
       "<tr>\n",
       "  <th>Df Residuals:</th>          <td>   998</td>      <th>  BIC:               </th>          <td>   2852.</td> \n",
       "</tr>\n",
       "<tr>\n",
       "  <th>Df Model:</th>              <td>     2</td>      <th>                     </th>              <td> </td>    \n",
       "</tr>\n",
       "<tr>\n",
       "  <th>Covariance Type:</th>      <td>nonrobust</td>    <th>                     </th>              <td> </td>    \n",
       "</tr>\n",
       "</table>\n",
       "<table class=\"simpletable\">\n",
       "<tr>\n",
       "   <td></td>     <th>coef</th>     <th>std err</th>      <th>t</th>      <th>P>|t|</th>  <th>[0.025</th>    <th>0.975]</th>  \n",
       "</tr>\n",
       "<tr>\n",
       "  <th>x1</th> <td>    2.7212</td> <td>    0.033</td> <td>   82.369</td> <td> 0.000</td> <td>    2.656</td> <td>    2.786</td>\n",
       "</tr>\n",
       "<tr>\n",
       "  <th>x2</th> <td>    4.9663</td> <td>    0.049</td> <td>  101.046</td> <td> 0.000</td> <td>    4.870</td> <td>    5.063</td>\n",
       "</tr>\n",
       "</table>\n",
       "<table class=\"simpletable\">\n",
       "<tr>\n",
       "  <th>Omnibus:</th>       <td> 0.074</td> <th>  Durbin-Watson:     </th> <td>   1.986</td>\n",
       "</tr>\n",
       "<tr>\n",
       "  <th>Prob(Omnibus):</th> <td> 0.964</td> <th>  Jarque-Bera (JB):  </th> <td>   0.122</td>\n",
       "</tr>\n",
       "<tr>\n",
       "  <th>Skew:</th>          <td>-0.016</td> <th>  Prob(JB):          </th> <td>   0.941</td>\n",
       "</tr>\n",
       "<tr>\n",
       "  <th>Kurtosis:</th>      <td> 2.956</td> <th>  Cond. No.          </th> <td>    1.61</td>\n",
       "</tr>\n",
       "</table><br/><br/>Notes:<br/>[1] R² is computed without centering (uncentered) since the model does not contain a constant.<br/>[2] Standard Errors assume that the covariance matrix of the errors is correctly specified."
      ],
      "text/latex": [
       "\\begin{center}\n",
       "\\begin{tabular}{lclc}\n",
       "\\toprule\n",
       "\\textbf{Dep. Variable:}    &        y         & \\textbf{  R-squared (uncentered):}      &     0.958   \\\\\n",
       "\\textbf{Model:}            &       OLS        & \\textbf{  Adj. R-squared (uncentered):} &     0.958   \\\\\n",
       "\\textbf{Method:}           &  Least Squares   & \\textbf{  F-statistic:       }          & 1.130e+04   \\\\\n",
       "\\textbf{Date:}             & Thu, 24 Aug 2023 & \\textbf{  Prob (F-statistic):}          &     0.00    \\\\\n",
       "\\textbf{Time:}             &     16:26:31     & \\textbf{  Log-Likelihood:    }          &   -1419.3   \\\\\n",
       "\\textbf{No. Observations:} &        1000      & \\textbf{  AIC:               }          &     2843.   \\\\\n",
       "\\textbf{Df Residuals:}     &         998      & \\textbf{  BIC:               }          &     2852.   \\\\\n",
       "\\textbf{Df Model:}         &           2      & \\textbf{                     }          &             \\\\\n",
       "\\textbf{Covariance Type:}  &    nonrobust     & \\textbf{                     }          &             \\\\\n",
       "\\bottomrule\n",
       "\\end{tabular}\n",
       "\\begin{tabular}{lcccccc}\n",
       "            & \\textbf{coef} & \\textbf{std err} & \\textbf{t} & \\textbf{P$> |$t$|$} & \\textbf{[0.025} & \\textbf{0.975]}  \\\\\n",
       "\\midrule\n",
       "\\textbf{x1} &       2.7212  &        0.033     &    82.369  &         0.000        &        2.656    &        2.786     \\\\\n",
       "\\textbf{x2} &       4.9663  &        0.049     &   101.046  &         0.000        &        4.870    &        5.063     \\\\\n",
       "\\bottomrule\n",
       "\\end{tabular}\n",
       "\\begin{tabular}{lclc}\n",
       "\\textbf{Omnibus:}       &  0.074 & \\textbf{  Durbin-Watson:     } &    1.986  \\\\\n",
       "\\textbf{Prob(Omnibus):} &  0.964 & \\textbf{  Jarque-Bera (JB):  } &    0.122  \\\\\n",
       "\\textbf{Skew:}          & -0.016 & \\textbf{  Prob(JB):          } &    0.941  \\\\\n",
       "\\textbf{Kurtosis:}      &  2.956 & \\textbf{  Cond. No.          } &     1.61  \\\\\n",
       "\\bottomrule\n",
       "\\end{tabular}\n",
       "%\\caption{OLS Regression Results}\n",
       "\\end{center}\n",
       "\n",
       "Notes: \\newline\n",
       " [1] R² is computed without centering (uncentered) since the model does not contain a constant. \\newline\n",
       " [2] Standard Errors assume that the covariance matrix of the errors is correctly specified."
      ],
      "text/plain": [
       "<class 'statsmodels.iolib.summary.Summary'>\n",
       "\"\"\"\n",
       "                                 OLS Regression Results                                \n",
       "=======================================================================================\n",
       "Dep. Variable:                      y   R-squared (uncentered):                   0.958\n",
       "Model:                            OLS   Adj. R-squared (uncentered):              0.958\n",
       "Method:                 Least Squares   F-statistic:                          1.130e+04\n",
       "Date:                Thu, 24 Aug 2023   Prob (F-statistic):                        0.00\n",
       "Time:                        16:26:31   Log-Likelihood:                         -1419.3\n",
       "No. Observations:                1000   AIC:                                      2843.\n",
       "Df Residuals:                     998   BIC:                                      2852.\n",
       "Df Model:                           2                                                  \n",
       "Covariance Type:            nonrobust                                                  \n",
       "==============================================================================\n",
       "                 coef    std err          t      P>|t|      [0.025      0.975]\n",
       "------------------------------------------------------------------------------\n",
       "x1             2.7212      0.033     82.369      0.000       2.656       2.786\n",
       "x2             4.9663      0.049    101.046      0.000       4.870       5.063\n",
       "==============================================================================\n",
       "Omnibus:                        0.074   Durbin-Watson:                   1.986\n",
       "Prob(Omnibus):                  0.964   Jarque-Bera (JB):                0.122\n",
       "Skew:                          -0.016   Prob(JB):                        0.941\n",
       "Kurtosis:                       2.956   Cond. No.                         1.61\n",
       "==============================================================================\n",
       "\n",
       "Notes:\n",
       "[1] R² is computed without centering (uncentered) since the model does not contain a constant.\n",
       "[2] Standard Errors assume that the covariance matrix of the errors is correctly specified.\n",
       "\"\"\""
      ]
     },
     "execution_count": 10,
     "metadata": {},
     "output_type": "execute_result"
    }
   ],
   "source": [
    "model = OLS(np.asarray(df[outcome]), np.asarray(df[[common_cause, treatment]], dtype=np.float64))\n",
    "result = model.fit()\n",
    "result.summary()"
   ]
  }
 ],
 "metadata": {
  "kernelspec": {
   "display_name": "Python 3",
   "language": "python",
   "name": "python3"
  },
  "language_info": {
   "codemirror_mode": {
    "name": "ipython",
    "version": 3
   },
   "file_extension": ".py",
   "mimetype": "text/x-python",
   "name": "python",
   "nbconvert_exporter": "python",
   "pygments_lexer": "ipython3",
   "version": "3.8.10"
  },
  "toc": {
   "base_numbering": 1,
   "nav_menu": {},
   "number_sections": false,
   "sideBar": true,
   "skip_h1_title": true,
   "title_cell": "Table of Contents",
   "title_sidebar": "Contents",
   "toc_cell": false,
   "toc_position": {},
   "toc_section_display": true,
   "toc_window_display": false
  }
 },
 "nbformat": 4,
 "nbformat_minor": 4
}
