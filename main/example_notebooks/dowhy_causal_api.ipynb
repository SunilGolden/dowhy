{
 "cells": [
  {
   "cell_type": "markdown",
   "metadata": {},
   "source": [
    "# Demo for the DoWhy causal API\n",
    "We show a simple example of adding a causal extension to any dataframe. "
   ]
  },
  {
   "cell_type": "code",
   "execution_count": 1,
   "metadata": {
    "execution": {
     "iopub.execute_input": "2023-12-04T17:20:07.428275Z",
     "iopub.status.busy": "2023-12-04T17:20:07.428106Z",
     "iopub.status.idle": "2023-12-04T17:20:08.850512Z",
     "shell.execute_reply": "2023-12-04T17:20:08.849904Z"
    }
   },
   "outputs": [],
   "source": [
    "import dowhy.datasets\n",
    "import dowhy.api\n",
    "from dowhy.graph import build_graph_from_str\n",
    "\n",
    "import numpy as np\n",
    "import pandas as pd\n",
    "\n",
    "from statsmodels.api import OLS"
   ]
  },
  {
   "cell_type": "code",
   "execution_count": 2,
   "metadata": {
    "execution": {
     "iopub.execute_input": "2023-12-04T17:20:08.853267Z",
     "iopub.status.busy": "2023-12-04T17:20:08.852961Z",
     "iopub.status.idle": "2023-12-04T17:20:08.891000Z",
     "shell.execute_reply": "2023-12-04T17:20:08.890356Z"
    }
   },
   "outputs": [
    {
     "data": {
      "text/html": [
       "<div>\n",
       "<style scoped>\n",
       "    .dataframe tbody tr th:only-of-type {\n",
       "        vertical-align: middle;\n",
       "    }\n",
       "\n",
       "    .dataframe tbody tr th {\n",
       "        vertical-align: top;\n",
       "    }\n",
       "\n",
       "    .dataframe thead th {\n",
       "        text-align: right;\n",
       "    }\n",
       "</style>\n",
       "<table border=\"1\" class=\"dataframe\">\n",
       "  <thead>\n",
       "    <tr style=\"text-align: right;\">\n",
       "      <th></th>\n",
       "      <th>W0</th>\n",
       "      <th>v0</th>\n",
       "      <th>y</th>\n",
       "    </tr>\n",
       "  </thead>\n",
       "  <tbody>\n",
       "    <tr>\n",
       "      <th>0</th>\n",
       "      <td>0.745814</td>\n",
       "      <td>True</td>\n",
       "      <td>6.922475</td>\n",
       "    </tr>\n",
       "    <tr>\n",
       "      <th>1</th>\n",
       "      <td>-1.178830</td>\n",
       "      <td>True</td>\n",
       "      <td>1.690752</td>\n",
       "    </tr>\n",
       "    <tr>\n",
       "      <th>2</th>\n",
       "      <td>1.431169</td>\n",
       "      <td>True</td>\n",
       "      <td>5.885909</td>\n",
       "    </tr>\n",
       "    <tr>\n",
       "      <th>3</th>\n",
       "      <td>1.856767</td>\n",
       "      <td>True</td>\n",
       "      <td>10.053184</td>\n",
       "    </tr>\n",
       "    <tr>\n",
       "      <th>4</th>\n",
       "      <td>0.964339</td>\n",
       "      <td>True</td>\n",
       "      <td>6.953093</td>\n",
       "    </tr>\n",
       "    <tr>\n",
       "      <th>...</th>\n",
       "      <td>...</td>\n",
       "      <td>...</td>\n",
       "      <td>...</td>\n",
       "    </tr>\n",
       "    <tr>\n",
       "      <th>995</th>\n",
       "      <td>0.570637</td>\n",
       "      <td>False</td>\n",
       "      <td>2.470646</td>\n",
       "    </tr>\n",
       "    <tr>\n",
       "      <th>996</th>\n",
       "      <td>1.496082</td>\n",
       "      <td>False</td>\n",
       "      <td>2.511838</td>\n",
       "    </tr>\n",
       "    <tr>\n",
       "      <th>997</th>\n",
       "      <td>2.776382</td>\n",
       "      <td>True</td>\n",
       "      <td>11.098870</td>\n",
       "    </tr>\n",
       "    <tr>\n",
       "      <th>998</th>\n",
       "      <td>0.646236</td>\n",
       "      <td>False</td>\n",
       "      <td>0.813353</td>\n",
       "    </tr>\n",
       "    <tr>\n",
       "      <th>999</th>\n",
       "      <td>1.911297</td>\n",
       "      <td>True</td>\n",
       "      <td>9.786535</td>\n",
       "    </tr>\n",
       "  </tbody>\n",
       "</table>\n",
       "<p>1000 rows × 3 columns</p>\n",
       "</div>"
      ],
      "text/plain": [
       "           W0     v0          y\n",
       "0    0.745814   True   6.922475\n",
       "1   -1.178830   True   1.690752\n",
       "2    1.431169   True   5.885909\n",
       "3    1.856767   True  10.053184\n",
       "4    0.964339   True   6.953093\n",
       "..        ...    ...        ...\n",
       "995  0.570637  False   2.470646\n",
       "996  1.496082  False   2.511838\n",
       "997  2.776382   True  11.098870\n",
       "998  0.646236  False   0.813353\n",
       "999  1.911297   True   9.786535\n",
       "\n",
       "[1000 rows x 3 columns]"
      ]
     },
     "execution_count": 2,
     "metadata": {},
     "output_type": "execute_result"
    }
   ],
   "source": [
    "data = dowhy.datasets.linear_dataset(beta=5,\n",
    "        num_common_causes=1,\n",
    "        num_instruments = 0,\n",
    "        num_samples=1000,\n",
    "        treatment_is_binary=True)\n",
    "df = data['df']\n",
    "df['y'] = df['y'] + np.random.normal(size=len(df)) # Adding noise to data. Without noise, the variance in Y|X, Z is zero, and mcmc fails.\n",
    "nx_graph = build_graph_from_str(data[\"dot_graph\"])\n",
    "\n",
    "treatment= data[\"treatment_name\"][0]\n",
    "outcome = data[\"outcome_name\"][0]\n",
    "common_cause = data[\"common_causes_names\"][0]\n",
    "df"
   ]
  },
  {
   "cell_type": "code",
   "execution_count": 3,
   "metadata": {
    "execution": {
     "iopub.execute_input": "2023-12-04T17:20:08.893646Z",
     "iopub.status.busy": "2023-12-04T17:20:08.893307Z",
     "iopub.status.idle": "2023-12-04T17:20:09.080869Z",
     "shell.execute_reply": "2023-12-04T17:20:09.080258Z"
    },
    "scrolled": true
   },
   "outputs": [
    {
     "data": {
      "text/plain": [
       "<Axes: xlabel='v0'>"
      ]
     },
     "execution_count": 3,
     "metadata": {},
     "output_type": "execute_result"
    },
    {
     "data": {
      "image/png": "[encoded data removed]",
      "text/plain": [
       "<Figure size 640x480 with 1 Axes>"
      ]
     },
     "metadata": {},
     "output_type": "display_data"
    }
   ],
   "source": [
    "# data['df'] is just a regular pandas.DataFrame\n",
    "df.causal.do(x=treatment,\n",
    "             variable_types={treatment: 'b', outcome: 'c', common_cause: 'c'},\n",
    "             outcome=outcome,\n",
    "             common_causes=[common_cause],\n",
    "            ).groupby(treatment).mean().plot(y=outcome, kind='bar')"
   ]
  },
  {
   "cell_type": "code",
   "execution_count": 4,
   "metadata": {
    "execution": {
     "iopub.execute_input": "2023-12-04T17:20:09.083291Z",
     "iopub.status.busy": "2023-12-04T17:20:09.082838Z",
     "iopub.status.idle": "2023-12-04T17:20:09.197561Z",
     "shell.execute_reply": "2023-12-04T17:20:09.196839Z"
    }
   },
   "outputs": [
    {
     "data": {
      "text/plain": [
       "<Axes: xlabel='v0'>"
      ]
     },
     "execution_count": 4,
     "metadata": {},
     "output_type": "execute_result"
    },
    {
     "data": {
      "image/png": "[encoded data removed]",
      "text/plain": [
       "<Figure size 640x480 with 1 Axes>"
      ]
     },
     "metadata": {},
     "output_type": "display_data"
    }
   ],
   "source": [
    "df.causal.do(x={treatment: 1}, \n",
    "              variable_types={treatment:'b', outcome: 'c', common_cause: 'c'}, \n",
    "              outcome=outcome,\n",
    "              method='weighting', \n",
    "              common_causes=[common_cause]\n",
    "              ).groupby(treatment).mean().plot(y=outcome, kind='bar')"
   ]
  },
  {
   "cell_type": "code",
   "execution_count": 5,
   "metadata": {
    "execution": {
     "iopub.execute_input": "2023-12-04T17:20:09.200362Z",
     "iopub.status.busy": "2023-12-04T17:20:09.199861Z",
     "iopub.status.idle": "2023-12-04T17:20:09.221486Z",
     "shell.execute_reply": "2023-12-04T17:20:09.220833Z"
    }
   },
   "outputs": [],
   "source": [
    "cdf_1 = df.causal.do(x={treatment: 1}, \n",
    "              variable_types={treatment: 'b', outcome: 'c', common_cause: 'c'}, \n",
    "              outcome=outcome, \n",
    "              graph=nx_graph\n",
    "              )\n",
    "\n",
    "cdf_0 = df.causal.do(x={treatment: 0}, \n",
    "              variable_types={treatment: 'b', outcome: 'c', common_cause: 'c'}, \n",
    "              outcome=outcome, \n",
    "              graph=nx_graph\n",
    "              )\n"
   ]
  },
  {
   "cell_type": "code",
   "execution_count": 6,
   "metadata": {
    "execution": {
     "iopub.execute_input": "2023-12-04T17:20:09.224360Z",
     "iopub.status.busy": "2023-12-04T17:20:09.223882Z",
     "iopub.status.idle": "2023-12-04T17:20:09.233194Z",
     "shell.execute_reply": "2023-12-04T17:20:09.232720Z"
    },
    "scrolled": true
   },
   "outputs": [
    {
     "data": {
      "text/html": [
       "<div>\n",
       "<style scoped>\n",
       "    .dataframe tbody tr th:only-of-type {\n",
       "        vertical-align: middle;\n",
       "    }\n",
       "\n",
       "    .dataframe tbody tr th {\n",
       "        vertical-align: top;\n",
       "    }\n",
       "\n",
       "    .dataframe thead th {\n",
       "        text-align: right;\n",
       "    }\n",
       "</style>\n",
       "<table border=\"1\" class=\"dataframe\">\n",
       "  <thead>\n",
       "    <tr style=\"text-align: right;\">\n",
       "      <th></th>\n",
       "      <th>W0</th>\n",
       "      <th>v0</th>\n",
       "      <th>y</th>\n",
       "      <th>propensity_score</th>\n",
       "      <th>weight</th>\n",
       "    </tr>\n",
       "  </thead>\n",
       "  <tbody>\n",
       "    <tr>\n",
       "      <th>0</th>\n",
       "      <td>0.816995</td>\n",
       "      <td>False</td>\n",
       "      <td>3.041536</td>\n",
       "      <td>0.381394</td>\n",
       "      <td>2.621962</td>\n",
       "    </tr>\n",
       "    <tr>\n",
       "      <th>1</th>\n",
       "      <td>1.042252</td>\n",
       "      <td>False</td>\n",
       "      <td>1.759330</td>\n",
       "      <td>0.362183</td>\n",
       "      <td>2.761037</td>\n",
       "    </tr>\n",
       "    <tr>\n",
       "      <th>2</th>\n",
       "      <td>0.765792</td>\n",
       "      <td>False</td>\n",
       "      <td>0.756403</td>\n",
       "      <td>0.385815</td>\n",
       "      <td>2.591913</td>\n",
       "    </tr>\n",
       "    <tr>\n",
       "      <th>3</th>\n",
       "      <td>1.660931</td>\n",
       "      <td>False</td>\n",
       "      <td>3.531442</td>\n",
       "      <td>0.311771</td>\n",
       "      <td>3.207480</td>\n",
       "    </tr>\n",
       "    <tr>\n",
       "      <th>4</th>\n",
       "      <td>0.934917</td>\n",
       "      <td>False</td>\n",
       "      <td>2.267955</td>\n",
       "      <td>0.371286</td>\n",
       "      <td>2.693340</td>\n",
       "    </tr>\n",
       "    <tr>\n",
       "      <th>...</th>\n",
       "      <td>...</td>\n",
       "      <td>...</td>\n",
       "      <td>...</td>\n",
       "      <td>...</td>\n",
       "      <td>...</td>\n",
       "    </tr>\n",
       "    <tr>\n",
       "      <th>995</th>\n",
       "      <td>-0.032777</td>\n",
       "      <td>False</td>\n",
       "      <td>-0.173845</td>\n",
       "      <td>0.456786</td>\n",
       "      <td>2.189211</td>\n",
       "    </tr>\n",
       "    <tr>\n",
       "      <th>996</th>\n",
       "      <td>1.714121</td>\n",
       "      <td>False</td>\n",
       "      <td>3.972089</td>\n",
       "      <td>0.307618</td>\n",
       "      <td>3.250780</td>\n",
       "    </tr>\n",
       "    <tr>\n",
       "      <th>997</th>\n",
       "      <td>2.025042</td>\n",
       "      <td>False</td>\n",
       "      <td>4.671928</td>\n",
       "      <td>0.283975</td>\n",
       "      <td>3.521436</td>\n",
       "    </tr>\n",
       "    <tr>\n",
       "      <th>998</th>\n",
       "      <td>0.956879</td>\n",
       "      <td>False</td>\n",
       "      <td>0.992560</td>\n",
       "      <td>0.369416</td>\n",
       "      <td>2.706977</td>\n",
       "    </tr>\n",
       "    <tr>\n",
       "      <th>999</th>\n",
       "      <td>0.298322</td>\n",
       "      <td>False</td>\n",
       "      <td>1.102538</td>\n",
       "      <td>0.426973</td>\n",
       "      <td>2.342067</td>\n",
       "    </tr>\n",
       "  </tbody>\n",
       "</table>\n",
       "<p>1000 rows × 5 columns</p>\n",
       "</div>"
      ],
      "text/plain": [
       "           W0     v0         y  propensity_score    weight\n",
       "0    0.816995  False  3.041536          0.381394  2.621962\n",
       "1    1.042252  False  1.759330          0.362183  2.761037\n",
       "2    0.765792  False  0.756403          0.385815  2.591913\n",
       "3    1.660931  False  3.531442          0.311771  3.207480\n",
       "4    0.934917  False  2.267955          0.371286  2.693340\n",
       "..        ...    ...       ...               ...       ...\n",
       "995 -0.032777  False -0.173845          0.456786  2.189211\n",
       "996  1.714121  False  3.972089          0.307618  3.250780\n",
       "997  2.025042  False  4.671928          0.283975  3.521436\n",
       "998  0.956879  False  0.992560          0.369416  2.706977\n",
       "999  0.298322  False  1.102538          0.426973  2.342067\n",
       "\n",
       "[1000 rows x 5 columns]"
      ]
     },
     "execution_count": 6,
     "metadata": {},
     "output_type": "execute_result"
    }
   ],
   "source": [
    "cdf_0"
   ]
  },
  {
   "cell_type": "code",
   "execution_count": 7,
   "metadata": {
    "execution": {
     "iopub.execute_input": "2023-12-04T17:20:09.235429Z",
     "iopub.status.busy": "2023-12-04T17:20:09.235081Z",
     "iopub.status.idle": "2023-12-04T17:20:09.243322Z",
     "shell.execute_reply": "2023-12-04T17:20:09.242778Z"
    }
   },
   "outputs": [
    {
     "data": {
      "text/html": [
       "<div>\n",
       "<style scoped>\n",
       "    .dataframe tbody tr th:only-of-type {\n",
       "        vertical-align: middle;\n",
       "    }\n",
       "\n",
       "    .dataframe tbody tr th {\n",
       "        vertical-align: top;\n",
       "    }\n",
       "\n",
       "    .dataframe thead th {\n",
       "        text-align: right;\n",
       "    }\n",
       "</style>\n",
       "<table border=\"1\" class=\"dataframe\">\n",
       "  <thead>\n",
       "    <tr style=\"text-align: right;\">\n",
       "      <th></th>\n",
       "      <th>W0</th>\n",
       "      <th>v0</th>\n",
       "      <th>y</th>\n",
       "      <th>propensity_score</th>\n",
       "      <th>weight</th>\n",
       "    </tr>\n",
       "  </thead>\n",
       "  <tbody>\n",
       "    <tr>\n",
       "      <th>0</th>\n",
       "      <td>0.473327</td>\n",
       "      <td>True</td>\n",
       "      <td>7.012360</td>\n",
       "      <td>0.588586</td>\n",
       "      <td>1.698986</td>\n",
       "    </tr>\n",
       "    <tr>\n",
       "      <th>1</th>\n",
       "      <td>1.437784</td>\n",
       "      <td>True</td>\n",
       "      <td>6.290172</td>\n",
       "      <td>0.670480</td>\n",
       "      <td>1.491469</td>\n",
       "    </tr>\n",
       "    <tr>\n",
       "      <th>2</th>\n",
       "      <td>0.822568</td>\n",
       "      <td>True</td>\n",
       "      <td>6.082444</td>\n",
       "      <td>0.619086</td>\n",
       "      <td>1.615284</td>\n",
       "    </tr>\n",
       "    <tr>\n",
       "      <th>3</th>\n",
       "      <td>1.282197</td>\n",
       "      <td>True</td>\n",
       "      <td>6.879967</td>\n",
       "      <td>0.657806</td>\n",
       "      <td>1.520204</td>\n",
       "    </tr>\n",
       "    <tr>\n",
       "      <th>4</th>\n",
       "      <td>-1.090186</td>\n",
       "      <td>True</td>\n",
       "      <td>3.892528</td>\n",
       "      <td>0.446978</td>\n",
       "      <td>2.237246</td>\n",
       "    </tr>\n",
       "    <tr>\n",
       "      <th>...</th>\n",
       "      <td>...</td>\n",
       "      <td>...</td>\n",
       "      <td>...</td>\n",
       "      <td>...</td>\n",
       "      <td>...</td>\n",
       "    </tr>\n",
       "    <tr>\n",
       "      <th>995</th>\n",
       "      <td>1.269583</td>\n",
       "      <td>True</td>\n",
       "      <td>7.496778</td>\n",
       "      <td>0.656769</td>\n",
       "      <td>1.522606</td>\n",
       "    </tr>\n",
       "    <tr>\n",
       "      <th>996</th>\n",
       "      <td>0.321939</td>\n",
       "      <td>True</td>\n",
       "      <td>6.200527</td>\n",
       "      <td>0.575136</td>\n",
       "      <td>1.738720</td>\n",
       "    </tr>\n",
       "    <tr>\n",
       "      <th>997</th>\n",
       "      <td>-0.790783</td>\n",
       "      <td>True</td>\n",
       "      <td>2.830410</td>\n",
       "      <td>0.474138</td>\n",
       "      <td>2.109093</td>\n",
       "    </tr>\n",
       "    <tr>\n",
       "      <th>998</th>\n",
       "      <td>0.059997</td>\n",
       "      <td>True</td>\n",
       "      <td>5.736890</td>\n",
       "      <td>0.551609</td>\n",
       "      <td>1.812880</td>\n",
       "    </tr>\n",
       "    <tr>\n",
       "      <th>999</th>\n",
       "      <td>0.525076</td>\n",
       "      <td>True</td>\n",
       "      <td>5.215792</td>\n",
       "      <td>0.593155</td>\n",
       "      <td>1.685899</td>\n",
       "    </tr>\n",
       "  </tbody>\n",
       "</table>\n",
       "<p>1000 rows × 5 columns</p>\n",
       "</div>"
      ],
      "text/plain": [
       "           W0    v0         y  propensity_score    weight\n",
       "0    0.473327  True  7.012360          0.588586  1.698986\n",
       "1    1.437784  True  6.290172          0.670480  1.491469\n",
       "2    0.822568  True  6.082444          0.619086  1.615284\n",
       "3    1.282197  True  6.879967          0.657806  1.520204\n",
       "4   -1.090186  True  3.892528          0.446978  2.237246\n",
       "..        ...   ...       ...               ...       ...\n",
       "995  1.269583  True  7.496778          0.656769  1.522606\n",
       "996  0.321939  True  6.200527          0.575136  1.738720\n",
       "997 -0.790783  True  2.830410          0.474138  2.109093\n",
       "998  0.059997  True  5.736890          0.551609  1.812880\n",
       "999  0.525076  True  5.215792          0.593155  1.685899\n",
       "\n",
       "[1000 rows x 5 columns]"
      ]
     },
     "execution_count": 7,
     "metadata": {},
     "output_type": "execute_result"
    }
   ],
   "source": [
    "cdf_1"
   ]
  },
  {
   "cell_type": "markdown",
   "metadata": {},
   "source": [
    "## Comparing the estimate to Linear Regression\n",
    "First, estimating the effect using the causal data frame, and the 95% confidence interval."
   ]
  },
  {
   "cell_type": "code",
   "execution_count": 8,
   "metadata": {
    "execution": {
     "iopub.execute_input": "2023-12-04T17:20:09.245575Z",
     "iopub.status.busy": "2023-12-04T17:20:09.245233Z",
     "iopub.status.idle": "2023-12-04T17:20:09.388720Z",
     "shell.execute_reply": "2023-12-04T17:20:09.388052Z"
    }
   },
   "outputs": [
    {
     "data": {
      "image/png": "[encoded data removed]",
      "text/latex": [
       "$\\displaystyle 4.94838975506259$"
      ],
      "text/plain": [
       "4.948389755062594"
      ]
     },
     "execution_count": 8,
     "metadata": {},
     "output_type": "execute_result"
    }
   ],
   "source": [
    "(cdf_1['y'] - cdf_0['y']).mean()"
   ]
  },
  {
   "cell_type": "code",
   "execution_count": 9,
   "metadata": {
    "execution": {
     "iopub.execute_input": "2023-12-04T17:20:09.391202Z",
     "iopub.status.busy": "2023-12-04T17:20:09.390835Z",
     "iopub.status.idle": "2023-12-04T17:20:09.409078Z",
     "shell.execute_reply": "2023-12-04T17:20:09.408470Z"
    }
   },
   "outputs": [
    {
     "data": {
      "image/png": "[encoded data removed]",
      "text/latex": [
       "$\\displaystyle 0.186589554697645$"
      ],
      "text/plain": [
       "0.18658955469764482"
      ]
     },
     "execution_count": 9,
     "metadata": {},
     "output_type": "execute_result"
    }
   ],
   "source": [
    "1.96*(cdf_1['y'] - cdf_0['y']).std() / np.sqrt(len(df))"
   ]
  },
  {
   "cell_type": "markdown",
   "metadata": {},
   "source": [
    "Comparing to the estimate from OLS."
   ]
  },
  {
   "cell_type": "code",
   "execution_count": 10,
   "metadata": {
    "execution": {
     "iopub.execute_input": "2023-12-04T17:20:09.411537Z",
     "iopub.status.busy": "2023-12-04T17:20:09.411143Z",
     "iopub.status.idle": "2023-12-04T17:20:09.427767Z",
     "shell.execute_reply": "2023-12-04T17:20:09.427123Z"
    }
   },
   "outputs": [
    {
     "data": {
      "text/html": [
       "<table class=\"simpletable\">\n",
       "<caption>OLS Regression Results</caption>\n",
       "<tr>\n",
       "  <th>Dep. Variable:</th>            <td>y</td>        <th>  R-squared (uncentered):</th>      <td>   0.970</td> \n",
       "</tr>\n",
       "<tr>\n",
       "  <th>Model:</th>                   <td>OLS</td>       <th>  Adj. R-squared (uncentered):</th> <td>   0.970</td> \n",
       "</tr>\n",
       "<tr>\n",
       "  <th>Method:</th>             <td>Least Squares</td>  <th>  F-statistic:       </th>          <td>1.616e+04</td>\n",
       "</tr>\n",
       "<tr>\n",
       "  <th>Date:</th>             <td>Mon, 04 Dec 2023</td> <th>  Prob (F-statistic):</th>           <td>  0.00</td>  \n",
       "</tr>\n",
       "<tr>\n",
       "  <th>Time:</th>                 <td>17:20:09</td>     <th>  Log-Likelihood:    </th>          <td> -1435.6</td> \n",
       "</tr>\n",
       "<tr>\n",
       "  <th>No. Observations:</th>      <td>  1000</td>      <th>  AIC:               </th>          <td>   2875.</td> \n",
       "</tr>\n",
       "<tr>\n",
       "  <th>Df Residuals:</th>          <td>   998</td>      <th>  BIC:               </th>          <td>   2885.</td> \n",
       "</tr>\n",
       "<tr>\n",
       "  <th>Df Model:</th>              <td>     2</td>      <th>                     </th>              <td> </td>    \n",
       "</tr>\n",
       "<tr>\n",
       "  <th>Covariance Type:</th>      <td>nonrobust</td>    <th>                     </th>              <td> </td>    \n",
       "</tr>\n",
       "</table>\n",
       "<table class=\"simpletable\">\n",
       "<tr>\n",
       "   <td></td>     <th>coef</th>     <th>std err</th>      <th>t</th>      <th>P>|t|</th>  <th>[0.025</th>    <th>0.975]</th>  \n",
       "</tr>\n",
       "<tr>\n",
       "  <th>x1</th> <td>    2.0192</td> <td>    0.031</td> <td>   64.897</td> <td> 0.000</td> <td>    1.958</td> <td>    2.080</td>\n",
       "</tr>\n",
       "<tr>\n",
       "  <th>x2</th> <td>    4.9989</td> <td>    0.050</td> <td>   99.324</td> <td> 0.000</td> <td>    4.900</td> <td>    5.098</td>\n",
       "</tr>\n",
       "</table>\n",
       "<table class=\"simpletable\">\n",
       "<tr>\n",
       "  <th>Omnibus:</th>       <td> 2.227</td> <th>  Durbin-Watson:     </th> <td>   1.945</td>\n",
       "</tr>\n",
       "<tr>\n",
       "  <th>Prob(Omnibus):</th> <td> 0.328</td> <th>  Jarque-Bera (JB):  </th> <td>   2.273</td>\n",
       "</tr>\n",
       "<tr>\n",
       "  <th>Skew:</th>          <td> 0.027</td> <th>  Prob(JB):          </th> <td>   0.321</td>\n",
       "</tr>\n",
       "<tr>\n",
       "  <th>Kurtosis:</th>      <td> 3.227</td> <th>  Cond. No.          </th> <td>    2.31</td>\n",
       "</tr>\n",
       "</table><br/><br/>Notes:<br/>[1] R² is computed without centering (uncentered) since the model does not contain a constant.<br/>[2] Standard Errors assume that the covariance matrix of the errors is correctly specified."
      ],
      "text/latex": [
       "\\begin{center}\n",
       "\\begin{tabular}{lclc}\n",
       "\\toprule\n",
       "\\textbf{Dep. Variable:}    &        y         & \\textbf{  R-squared (uncentered):}      &     0.970   \\\\\n",
       "\\textbf{Model:}            &       OLS        & \\textbf{  Adj. R-squared (uncentered):} &     0.970   \\\\\n",
       "\\textbf{Method:}           &  Least Squares   & \\textbf{  F-statistic:       }          & 1.616e+04   \\\\\n",
       "\\textbf{Date:}             & Mon, 04 Dec 2023 & \\textbf{  Prob (F-statistic):}          &     0.00    \\\\\n",
       "\\textbf{Time:}             &     17:20:09     & \\textbf{  Log-Likelihood:    }          &   -1435.6   \\\\\n",
       "\\textbf{No. Observations:} &        1000      & \\textbf{  AIC:               }          &     2875.   \\\\\n",
       "\\textbf{Df Residuals:}     &         998      & \\textbf{  BIC:               }          &     2885.   \\\\\n",
       "\\textbf{Df Model:}         &           2      & \\textbf{                     }          &             \\\\\n",
       "\\textbf{Covariance Type:}  &    nonrobust     & \\textbf{                     }          &             \\\\\n",
       "\\bottomrule\n",
       "\\end{tabular}\n",
       "\\begin{tabular}{lcccccc}\n",
       "            & \\textbf{coef} & \\textbf{std err} & \\textbf{t} & \\textbf{P$> |$t$|$} & \\textbf{[0.025} & \\textbf{0.975]}  \\\\\n",
       "\\midrule\n",
       "\\textbf{x1} &       2.0192  &        0.031     &    64.897  &         0.000        &        1.958    &        2.080     \\\\\n",
       "\\textbf{x2} &       4.9989  &        0.050     &    99.324  &         0.000        &        4.900    &        5.098     \\\\\n",
       "\\bottomrule\n",
       "\\end{tabular}\n",
       "\\begin{tabular}{lclc}\n",
       "\\textbf{Omnibus:}       &  2.227 & \\textbf{  Durbin-Watson:     } &    1.945  \\\\\n",
       "\\textbf{Prob(Omnibus):} &  0.328 & \\textbf{  Jarque-Bera (JB):  } &    2.273  \\\\\n",
       "\\textbf{Skew:}          &  0.027 & \\textbf{  Prob(JB):          } &    0.321  \\\\\n",
       "\\textbf{Kurtosis:}      &  3.227 & \\textbf{  Cond. No.          } &     2.31  \\\\\n",
       "\\bottomrule\n",
       "\\end{tabular}\n",
       "%\\caption{OLS Regression Results}\n",
       "\\end{center}\n",
       "\n",
       "Notes: \\newline\n",
       " [1] R² is computed without centering (uncentered) since the model does not contain a constant. \\newline\n",
       " [2] Standard Errors assume that the covariance matrix of the errors is correctly specified."
      ],
      "text/plain": [
       "<class 'statsmodels.iolib.summary.Summary'>\n",
       "\"\"\"\n",
       "                                 OLS Regression Results                                \n",
       "=======================================================================================\n",
       "Dep. Variable:                      y   R-squared (uncentered):                   0.970\n",
       "Model:                            OLS   Adj. R-squared (uncentered):              0.970\n",
       "Method:                 Least Squares   F-statistic:                          1.616e+04\n",
       "Date:                Mon, 04 Dec 2023   Prob (F-statistic):                        0.00\n",
       "Time:                        17:20:09   Log-Likelihood:                         -1435.6\n",
       "No. Observations:                1000   AIC:                                      2875.\n",
       "Df Residuals:                     998   BIC:                                      2885.\n",
       "Df Model:                           2                                                  \n",
       "Covariance Type:            nonrobust                                                  \n",
       "==============================================================================\n",
       "                 coef    std err          t      P>|t|      [0.025      0.975]\n",
       "------------------------------------------------------------------------------\n",
       "x1             2.0192      0.031     64.897      0.000       1.958       2.080\n",
       "x2             4.9989      0.050     99.324      0.000       4.900       5.098\n",
       "==============================================================================\n",
       "Omnibus:                        2.227   Durbin-Watson:                   1.945\n",
       "Prob(Omnibus):                  0.328   Jarque-Bera (JB):                2.273\n",
       "Skew:                           0.027   Prob(JB):                        0.321\n",
       "Kurtosis:                       3.227   Cond. No.                         2.31\n",
       "==============================================================================\n",
       "\n",
       "Notes:\n",
       "[1] R² is computed without centering (uncentered) since the model does not contain a constant.\n",
       "[2] Standard Errors assume that the covariance matrix of the errors is correctly specified.\n",
       "\"\"\""
      ]
     },
     "execution_count": 10,
     "metadata": {},
     "output_type": "execute_result"
    }
   ],
   "source": [
    "model = OLS(np.asarray(df[outcome]), np.asarray(df[[common_cause, treatment]], dtype=np.float64))\n",
    "result = model.fit()\n",
    "result.summary()"
   ]
  }
 ],
 "metadata": {
  "kernelspec": {
   "display_name": "Python 3 (ipykernel)",
   "language": "python",
   "name": "python3"
  },
  "language_info": {
   "codemirror_mode": {
    "name": "ipython",
    "version": 3
   },
   "file_extension": ".py",
   "mimetype": "text/x-python",
   "name": "python",
   "nbconvert_exporter": "python",
   "pygments_lexer": "ipython3",
   "version": "3.8.10"
  },
  "toc": {
   "base_numbering": 1,
   "nav_menu": {},
   "number_sections": false,
   "sideBar": true,
   "skip_h1_title": true,
   "title_cell": "Table of Contents",
   "title_sidebar": "Contents",
   "toc_cell": false,
   "toc_position": {},
   "toc_section_display": true,
   "toc_window_display": false
  }
 },
 "nbformat": 4,
 "nbformat_minor": 4
}
