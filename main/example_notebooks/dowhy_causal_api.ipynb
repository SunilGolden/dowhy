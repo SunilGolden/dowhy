{
 "cells": [
  {
   "cell_type": "markdown",
   "metadata": {},
   "source": [
    "# Demo for the DoWhy causal API\n",
    "We show a simple example of adding a causal extension to any dataframe. "
   ]
  },
  {
   "cell_type": "code",
   "execution_count": 1,
   "metadata": {
    "execution": {
     "iopub.execute_input": "2023-07-27T18:56:54.916529Z",
     "iopub.status.busy": "2023-07-27T18:56:54.916081Z",
     "iopub.status.idle": "2023-07-27T18:56:56.593992Z",
     "shell.execute_reply": "2023-07-27T18:56:56.593281Z"
    }
   },
   "outputs": [],
   "source": [
    "import dowhy.datasets\n",
    "import dowhy.api\n",
    "\n",
    "import numpy as np\n",
    "import pandas as pd\n",
    "\n",
    "from statsmodels.api import OLS"
   ]
  },
  {
   "cell_type": "code",
   "execution_count": 2,
   "metadata": {
    "execution": {
     "iopub.execute_input": "2023-07-27T18:56:56.597796Z",
     "iopub.status.busy": "2023-07-27T18:56:56.597261Z",
     "iopub.status.idle": "2023-07-27T18:56:56.641784Z",
     "shell.execute_reply": "2023-07-27T18:56:56.641052Z"
    }
   },
   "outputs": [
    {
     "data": {
      "text/html": [
       "<div>\n",
       "<style scoped>\n",
       "    .dataframe tbody tr th:only-of-type {\n",
       "        vertical-align: middle;\n",
       "    }\n",
       "\n",
       "    .dataframe tbody tr th {\n",
       "        vertical-align: top;\n",
       "    }\n",
       "\n",
       "    .dataframe thead th {\n",
       "        text-align: right;\n",
       "    }\n",
       "</style>\n",
       "<table border=\"1\" class=\"dataframe\">\n",
       "  <thead>\n",
       "    <tr style=\"text-align: right;\">\n",
       "      <th></th>\n",
       "      <th>W0</th>\n",
       "      <th>v0</th>\n",
       "      <th>y</th>\n",
       "    </tr>\n",
       "  </thead>\n",
       "  <tbody>\n",
       "    <tr>\n",
       "      <th>0</th>\n",
       "      <td>-0.178912</td>\n",
       "      <td>False</td>\n",
       "      <td>1.287028</td>\n",
       "    </tr>\n",
       "    <tr>\n",
       "      <th>1</th>\n",
       "      <td>-0.702122</td>\n",
       "      <td>False</td>\n",
       "      <td>-2.648481</td>\n",
       "    </tr>\n",
       "    <tr>\n",
       "      <th>2</th>\n",
       "      <td>-0.054678</td>\n",
       "      <td>True</td>\n",
       "      <td>4.039794</td>\n",
       "    </tr>\n",
       "    <tr>\n",
       "      <th>3</th>\n",
       "      <td>-2.006925</td>\n",
       "      <td>False</td>\n",
       "      <td>-4.353708</td>\n",
       "    </tr>\n",
       "    <tr>\n",
       "      <th>4</th>\n",
       "      <td>1.091478</td>\n",
       "      <td>True</td>\n",
       "      <td>6.422243</td>\n",
       "    </tr>\n",
       "    <tr>\n",
       "      <th>...</th>\n",
       "      <td>...</td>\n",
       "      <td>...</td>\n",
       "      <td>...</td>\n",
       "    </tr>\n",
       "    <tr>\n",
       "      <th>995</th>\n",
       "      <td>1.286721</td>\n",
       "      <td>True</td>\n",
       "      <td>8.058466</td>\n",
       "    </tr>\n",
       "    <tr>\n",
       "      <th>996</th>\n",
       "      <td>-1.226529</td>\n",
       "      <td>False</td>\n",
       "      <td>-2.822882</td>\n",
       "    </tr>\n",
       "    <tr>\n",
       "      <th>997</th>\n",
       "      <td>-2.426674</td>\n",
       "      <td>False</td>\n",
       "      <td>-4.882726</td>\n",
       "    </tr>\n",
       "    <tr>\n",
       "      <th>998</th>\n",
       "      <td>-1.510994</td>\n",
       "      <td>False</td>\n",
       "      <td>-2.799771</td>\n",
       "    </tr>\n",
       "    <tr>\n",
       "      <th>999</th>\n",
       "      <td>-2.018779</td>\n",
       "      <td>False</td>\n",
       "      <td>-3.698956</td>\n",
       "    </tr>\n",
       "  </tbody>\n",
       "</table>\n",
       "<p>1000 rows × 3 columns</p>\n",
       "</div>"
      ],
      "text/plain": [
       "           W0     v0         y\n",
       "0   -0.178912  False  1.287028\n",
       "1   -0.702122  False -2.648481\n",
       "2   -0.054678   True  4.039794\n",
       "3   -2.006925  False -4.353708\n",
       "4    1.091478   True  6.422243\n",
       "..        ...    ...       ...\n",
       "995  1.286721   True  8.058466\n",
       "996 -1.226529  False -2.822882\n",
       "997 -2.426674  False -4.882726\n",
       "998 -1.510994  False -2.799771\n",
       "999 -2.018779  False -3.698956\n",
       "\n",
       "[1000 rows x 3 columns]"
      ]
     },
     "execution_count": 2,
     "metadata": {},
     "output_type": "execute_result"
    }
   ],
   "source": [
    "data = dowhy.datasets.linear_dataset(beta=5,\n",
    "        num_common_causes=1,\n",
    "        num_instruments = 0,\n",
    "        num_samples=1000,\n",
    "        treatment_is_binary=True)\n",
    "df = data['df']\n",
    "df['y'] = df['y'] + np.random.normal(size=len(df)) # Adding noise to data. Without noise, the variance in Y|X, Z is zero, and mcmc fails.\n",
    "#data['dot_graph'] = 'digraph { v ->y;X0-> v;X0-> y;}'\n",
    "\n",
    "treatment= data[\"treatment_name\"][0]\n",
    "outcome = data[\"outcome_name\"][0]\n",
    "common_cause = data[\"common_causes_names\"][0]\n",
    "df"
   ]
  },
  {
   "cell_type": "code",
   "execution_count": 3,
   "metadata": {
    "execution": {
     "iopub.execute_input": "2023-07-27T18:56:56.645125Z",
     "iopub.status.busy": "2023-07-27T18:56:56.644734Z",
     "iopub.status.idle": "2023-07-27T18:56:56.841280Z",
     "shell.execute_reply": "2023-07-27T18:56:56.840674Z"
    }
   },
   "outputs": [
    {
     "data": {
      "text/plain": [
       "<Axes: xlabel='v0'>"
      ]
     },
     "execution_count": 3,
     "metadata": {},
     "output_type": "execute_result"
    },
    {
     "data": {
      "image/png": "[encoded data removed]",
      "text/plain": [
       "<Figure size 640x480 with 1 Axes>"
      ]
     },
     "metadata": {},
     "output_type": "display_data"
    }
   ],
   "source": [
    "# data['df'] is just a regular pandas.DataFrame\n",
    "df.causal.do(x=treatment,\n",
    "                     variable_types={treatment: 'b', outcome: 'c', common_cause: 'c'},\n",
    "                     outcome=outcome,\n",
    "                     common_causes=[common_cause],\n",
    "                     proceed_when_unidentifiable=True).groupby(treatment).mean().plot(y=outcome, kind='bar')"
   ]
  },
  {
   "cell_type": "code",
   "execution_count": 4,
   "metadata": {
    "execution": {
     "iopub.execute_input": "2023-07-27T18:56:56.844260Z",
     "iopub.status.busy": "2023-07-27T18:56:56.843786Z",
     "iopub.status.idle": "2023-07-27T18:56:56.980376Z",
     "shell.execute_reply": "2023-07-27T18:56:56.979724Z"
    }
   },
   "outputs": [
    {
     "data": {
      "text/plain": [
       "<Axes: xlabel='v0'>"
      ]
     },
     "execution_count": 4,
     "metadata": {},
     "output_type": "execute_result"
    },
    {
     "data": {
      "image/png": "[encoded data removed]",
      "text/plain": [
       "<Figure size 640x480 with 1 Axes>"
      ]
     },
     "metadata": {},
     "output_type": "display_data"
    }
   ],
   "source": [
    "df.causal.do(x={treatment: 1}, \n",
    "              variable_types={treatment:'b', outcome: 'c', common_cause: 'c'}, \n",
    "              outcome=outcome,\n",
    "              method='weighting', \n",
    "              common_causes=[common_cause],\n",
    "              proceed_when_unidentifiable=True).groupby(treatment).mean().plot(y=outcome, kind='bar')"
   ]
  },
  {
   "cell_type": "code",
   "execution_count": 5,
   "metadata": {
    "execution": {
     "iopub.execute_input": "2023-07-27T18:56:56.983473Z",
     "iopub.status.busy": "2023-07-27T18:56:56.983007Z",
     "iopub.status.idle": "2023-07-27T18:56:57.015156Z",
     "shell.execute_reply": "2023-07-27T18:56:57.014564Z"
    }
   },
   "outputs": [],
   "source": [
    "cdf_1 = df.causal.do(x={treatment: 1}, \n",
    "              variable_types={treatment: 'b', outcome: 'c', common_cause: 'c'}, \n",
    "              outcome=outcome, \n",
    "              dot_graph=data['dot_graph'],\n",
    "              proceed_when_unidentifiable=True)\n",
    "\n",
    "cdf_0 = df.causal.do(x={treatment: 0}, \n",
    "              variable_types={treatment: 'b', outcome: 'c', common_cause: 'c'}, \n",
    "              outcome=outcome, \n",
    "              dot_graph=data['dot_graph'],\n",
    "              proceed_when_unidentifiable=True)\n"
   ]
  },
  {
   "cell_type": "code",
   "execution_count": 6,
   "metadata": {
    "execution": {
     "iopub.execute_input": "2023-07-27T18:56:57.018546Z",
     "iopub.status.busy": "2023-07-27T18:56:57.017853Z",
     "iopub.status.idle": "2023-07-27T18:56:57.028566Z",
     "shell.execute_reply": "2023-07-27T18:56:57.028008Z"
    },
    "scrolled": true
   },
   "outputs": [
    {
     "data": {
      "text/html": [
       "<div>\n",
       "<style scoped>\n",
       "    .dataframe tbody tr th:only-of-type {\n",
       "        vertical-align: middle;\n",
       "    }\n",
       "\n",
       "    .dataframe tbody tr th {\n",
       "        vertical-align: top;\n",
       "    }\n",
       "\n",
       "    .dataframe thead th {\n",
       "        text-align: right;\n",
       "    }\n",
       "</style>\n",
       "<table border=\"1\" class=\"dataframe\">\n",
       "  <thead>\n",
       "    <tr style=\"text-align: right;\">\n",
       "      <th></th>\n",
       "      <th>W0</th>\n",
       "      <th>v0</th>\n",
       "      <th>y</th>\n",
       "      <th>propensity_score</th>\n",
       "      <th>weight</th>\n",
       "    </tr>\n",
       "  </thead>\n",
       "  <tbody>\n",
       "    <tr>\n",
       "      <th>0</th>\n",
       "      <td>0.251662</td>\n",
       "      <td>False</td>\n",
       "      <td>-0.270584</td>\n",
       "      <td>0.397309</td>\n",
       "      <td>2.516931</td>\n",
       "    </tr>\n",
       "    <tr>\n",
       "      <th>1</th>\n",
       "      <td>-1.024733</td>\n",
       "      <td>False</td>\n",
       "      <td>-3.372255</td>\n",
       "      <td>0.893511</td>\n",
       "      <td>1.119180</td>\n",
       "    </tr>\n",
       "    <tr>\n",
       "      <th>2</th>\n",
       "      <td>0.112289</td>\n",
       "      <td>False</td>\n",
       "      <td>-0.401793</td>\n",
       "      <td>0.465325</td>\n",
       "      <td>2.149036</td>\n",
       "    </tr>\n",
       "    <tr>\n",
       "      <th>3</th>\n",
       "      <td>0.412502</td>\n",
       "      <td>False</td>\n",
       "      <td>0.449788</td>\n",
       "      <td>0.323608</td>\n",
       "      <td>3.090154</td>\n",
       "    </tr>\n",
       "    <tr>\n",
       "      <th>4</th>\n",
       "      <td>-2.568866</td>\n",
       "      <td>False</td>\n",
       "      <td>-6.890078</td>\n",
       "      <td>0.994538</td>\n",
       "      <td>1.005492</td>\n",
       "    </tr>\n",
       "    <tr>\n",
       "      <th>...</th>\n",
       "      <td>...</td>\n",
       "      <td>...</td>\n",
       "      <td>...</td>\n",
       "      <td>...</td>\n",
       "      <td>...</td>\n",
       "    </tr>\n",
       "    <tr>\n",
       "      <th>995</th>\n",
       "      <td>-1.216013</td>\n",
       "      <td>False</td>\n",
       "      <td>-1.735376</td>\n",
       "      <td>0.924724</td>\n",
       "      <td>1.081404</td>\n",
       "    </tr>\n",
       "    <tr>\n",
       "      <th>996</th>\n",
       "      <td>-0.901111</td>\n",
       "      <td>False</td>\n",
       "      <td>-4.025433</td>\n",
       "      <td>0.867696</td>\n",
       "      <td>1.152477</td>\n",
       "    </tr>\n",
       "    <tr>\n",
       "      <th>997</th>\n",
       "      <td>-1.606779</td>\n",
       "      <td>False</td>\n",
       "      <td>-4.064019</td>\n",
       "      <td>0.963984</td>\n",
       "      <td>1.037362</td>\n",
       "    </tr>\n",
       "    <tr>\n",
       "      <th>998</th>\n",
       "      <td>-0.556387</td>\n",
       "      <td>False</td>\n",
       "      <td>-1.760647</td>\n",
       "      <td>0.767406</td>\n",
       "      <td>1.303091</td>\n",
       "    </tr>\n",
       "    <tr>\n",
       "      <th>999</th>\n",
       "      <td>0.616346</td>\n",
       "      <td>False</td>\n",
       "      <td>4.116511</td>\n",
       "      <td>0.241680</td>\n",
       "      <td>4.137700</td>\n",
       "    </tr>\n",
       "  </tbody>\n",
       "</table>\n",
       "<p>1000 rows × 5 columns</p>\n",
       "</div>"
      ],
      "text/plain": [
       "           W0     v0         y  propensity_score    weight\n",
       "0    0.251662  False -0.270584          0.397309  2.516931\n",
       "1   -1.024733  False -3.372255          0.893511  1.119180\n",
       "2    0.112289  False -0.401793          0.465325  2.149036\n",
       "3    0.412502  False  0.449788          0.323608  3.090154\n",
       "4   -2.568866  False -6.890078          0.994538  1.005492\n",
       "..        ...    ...       ...               ...       ...\n",
       "995 -1.216013  False -1.735376          0.924724  1.081404\n",
       "996 -0.901111  False -4.025433          0.867696  1.152477\n",
       "997 -1.606779  False -4.064019          0.963984  1.037362\n",
       "998 -0.556387  False -1.760647          0.767406  1.303091\n",
       "999  0.616346  False  4.116511          0.241680  4.137700\n",
       "\n",
       "[1000 rows x 5 columns]"
      ]
     },
     "execution_count": 6,
     "metadata": {},
     "output_type": "execute_result"
    }
   ],
   "source": [
    "cdf_0"
   ]
  },
  {
   "cell_type": "code",
   "execution_count": 7,
   "metadata": {
    "execution": {
     "iopub.execute_input": "2023-07-27T18:56:57.031516Z",
     "iopub.status.busy": "2023-07-27T18:56:57.030869Z",
     "iopub.status.idle": "2023-07-27T18:56:57.041099Z",
     "shell.execute_reply": "2023-07-27T18:56:57.040577Z"
    }
   },
   "outputs": [
    {
     "data": {
      "text/html": [
       "<div>\n",
       "<style scoped>\n",
       "    .dataframe tbody tr th:only-of-type {\n",
       "        vertical-align: middle;\n",
       "    }\n",
       "\n",
       "    .dataframe tbody tr th {\n",
       "        vertical-align: top;\n",
       "    }\n",
       "\n",
       "    .dataframe thead th {\n",
       "        text-align: right;\n",
       "    }\n",
       "</style>\n",
       "<table border=\"1\" class=\"dataframe\">\n",
       "  <thead>\n",
       "    <tr style=\"text-align: right;\">\n",
       "      <th></th>\n",
       "      <th>W0</th>\n",
       "      <th>v0</th>\n",
       "      <th>y</th>\n",
       "      <th>propensity_score</th>\n",
       "      <th>weight</th>\n",
       "    </tr>\n",
       "  </thead>\n",
       "  <tbody>\n",
       "    <tr>\n",
       "      <th>0</th>\n",
       "      <td>-0.221267</td>\n",
       "      <td>True</td>\n",
       "      <td>4.463795</td>\n",
       "      <td>0.371488</td>\n",
       "      <td>2.691879</td>\n",
       "    </tr>\n",
       "    <tr>\n",
       "      <th>1</th>\n",
       "      <td>-0.925734</td>\n",
       "      <td>True</td>\n",
       "      <td>3.306578</td>\n",
       "      <td>0.126771</td>\n",
       "      <td>7.888251</td>\n",
       "    </tr>\n",
       "    <tr>\n",
       "      <th>2</th>\n",
       "      <td>-0.925734</td>\n",
       "      <td>True</td>\n",
       "      <td>3.306578</td>\n",
       "      <td>0.126771</td>\n",
       "      <td>7.888251</td>\n",
       "    </tr>\n",
       "    <tr>\n",
       "      <th>3</th>\n",
       "      <td>-1.843518</td>\n",
       "      <td>True</td>\n",
       "      <td>0.688138</td>\n",
       "      <td>0.022778</td>\n",
       "      <td>43.902294</td>\n",
       "    </tr>\n",
       "    <tr>\n",
       "      <th>4</th>\n",
       "      <td>-2.406016</td>\n",
       "      <td>True</td>\n",
       "      <td>0.120745</td>\n",
       "      <td>0.007540</td>\n",
       "      <td>132.625721</td>\n",
       "    </tr>\n",
       "    <tr>\n",
       "      <th>...</th>\n",
       "      <td>...</td>\n",
       "      <td>...</td>\n",
       "      <td>...</td>\n",
       "      <td>...</td>\n",
       "      <td>...</td>\n",
       "    </tr>\n",
       "    <tr>\n",
       "      <th>995</th>\n",
       "      <td>-2.406016</td>\n",
       "      <td>True</td>\n",
       "      <td>0.120745</td>\n",
       "      <td>0.007540</td>\n",
       "      <td>132.625721</td>\n",
       "    </tr>\n",
       "    <tr>\n",
       "      <th>996</th>\n",
       "      <td>-0.140228</td>\n",
       "      <td>True</td>\n",
       "      <td>5.305797</td>\n",
       "      <td>0.409911</td>\n",
       "      <td>2.439554</td>\n",
       "    </tr>\n",
       "    <tr>\n",
       "      <th>997</th>\n",
       "      <td>-2.406016</td>\n",
       "      <td>True</td>\n",
       "      <td>0.120745</td>\n",
       "      <td>0.007540</td>\n",
       "      <td>132.625721</td>\n",
       "    </tr>\n",
       "    <tr>\n",
       "      <th>998</th>\n",
       "      <td>-2.406016</td>\n",
       "      <td>True</td>\n",
       "      <td>0.120745</td>\n",
       "      <td>0.007540</td>\n",
       "      <td>132.625721</td>\n",
       "    </tr>\n",
       "    <tr>\n",
       "      <th>999</th>\n",
       "      <td>-1.364500</td>\n",
       "      <td>True</td>\n",
       "      <td>1.754439</td>\n",
       "      <td>0.057094</td>\n",
       "      <td>17.514854</td>\n",
       "    </tr>\n",
       "  </tbody>\n",
       "</table>\n",
       "<p>1000 rows × 5 columns</p>\n",
       "</div>"
      ],
      "text/plain": [
       "           W0    v0         y  propensity_score      weight\n",
       "0   -0.221267  True  4.463795          0.371488    2.691879\n",
       "1   -0.925734  True  3.306578          0.126771    7.888251\n",
       "2   -0.925734  True  3.306578          0.126771    7.888251\n",
       "3   -1.843518  True  0.688138          0.022778   43.902294\n",
       "4   -2.406016  True  0.120745          0.007540  132.625721\n",
       "..        ...   ...       ...               ...         ...\n",
       "995 -2.406016  True  0.120745          0.007540  132.625721\n",
       "996 -0.140228  True  5.305797          0.409911    2.439554\n",
       "997 -2.406016  True  0.120745          0.007540  132.625721\n",
       "998 -2.406016  True  0.120745          0.007540  132.625721\n",
       "999 -1.364500  True  1.754439          0.057094   17.514854\n",
       "\n",
       "[1000 rows x 5 columns]"
      ]
     },
     "execution_count": 7,
     "metadata": {},
     "output_type": "execute_result"
    }
   ],
   "source": [
    "cdf_1"
   ]
  },
  {
   "cell_type": "markdown",
   "metadata": {},
   "source": [
    "## Comparing the estimate to Linear Regression\n",
    "First, estimating the effect using the causal data frame, and the 95% confidence interval."
   ]
  },
  {
   "cell_type": "code",
   "execution_count": 8,
   "metadata": {
    "execution": {
     "iopub.execute_input": "2023-07-27T18:56:57.043820Z",
     "iopub.status.busy": "2023-07-27T18:56:57.043398Z",
     "iopub.status.idle": "2023-07-27T18:56:57.104527Z",
     "shell.execute_reply": "2023-07-27T18:56:57.103701Z"
    }
   },
   "outputs": [
    {
     "data": {
      "image/png": "[encoded data removed]",
      "text/latex": [
       "$\\displaystyle 5.01049901868479$"
      ],
      "text/plain": [
       "5.0104990186847935"
      ]
     },
     "execution_count": 8,
     "metadata": {},
     "output_type": "execute_result"
    }
   ],
   "source": [
    "(cdf_1['y'] - cdf_0['y']).mean()"
   ]
  },
  {
   "cell_type": "code",
   "execution_count": 9,
   "metadata": {
    "execution": {
     "iopub.execute_input": "2023-07-27T18:56:57.108177Z",
     "iopub.status.busy": "2023-07-27T18:56:57.107928Z",
     "iopub.status.idle": "2023-07-27T18:56:57.130653Z",
     "shell.execute_reply": "2023-07-27T18:56:57.129872Z"
    }
   },
   "outputs": [
    {
     "data": {
      "image/png": "[encoded data removed]",
      "text/latex": [
       "$\\displaystyle 0.238895004597313$"
      ],
      "text/plain": [
       "0.23889500459731325"
      ]
     },
     "execution_count": 9,
     "metadata": {},
     "output_type": "execute_result"
    }
   ],
   "source": [
    "1.96*(cdf_1['y'] - cdf_0['y']).std() / np.sqrt(len(df))"
   ]
  },
  {
   "cell_type": "markdown",
   "metadata": {},
   "source": [
    "Comparing to the estimate from OLS."
   ]
  },
  {
   "cell_type": "code",
   "execution_count": 10,
   "metadata": {
    "execution": {
     "iopub.execute_input": "2023-07-27T18:56:57.133987Z",
     "iopub.status.busy": "2023-07-27T18:56:57.133473Z",
     "iopub.status.idle": "2023-07-27T18:56:57.151680Z",
     "shell.execute_reply": "2023-07-27T18:56:57.151063Z"
    }
   },
   "outputs": [
    {
     "data": {
      "text/html": [
       "<table class=\"simpletable\">\n",
       "<caption>OLS Regression Results</caption>\n",
       "<tr>\n",
       "  <th>Dep. Variable:</th>            <td>y</td>        <th>  R-squared (uncentered):</th>      <td>   0.946</td>\n",
       "</tr>\n",
       "<tr>\n",
       "  <th>Model:</th>                   <td>OLS</td>       <th>  Adj. R-squared (uncentered):</th> <td>   0.946</td>\n",
       "</tr>\n",
       "<tr>\n",
       "  <th>Method:</th>             <td>Least Squares</td>  <th>  F-statistic:       </th>          <td>   8768.</td>\n",
       "</tr>\n",
       "<tr>\n",
       "  <th>Date:</th>             <td>Thu, 27 Jul 2023</td> <th>  Prob (F-statistic):</th>           <td>  0.00</td> \n",
       "</tr>\n",
       "<tr>\n",
       "  <th>Time:</th>                 <td>18:56:57</td>     <th>  Log-Likelihood:    </th>          <td> -1415.4</td>\n",
       "</tr>\n",
       "<tr>\n",
       "  <th>No. Observations:</th>      <td>  1000</td>      <th>  AIC:               </th>          <td>   2835.</td>\n",
       "</tr>\n",
       "<tr>\n",
       "  <th>Df Residuals:</th>          <td>   998</td>      <th>  BIC:               </th>          <td>   2845.</td>\n",
       "</tr>\n",
       "<tr>\n",
       "  <th>Df Model:</th>              <td>     2</td>      <th>                     </th>              <td> </td>   \n",
       "</tr>\n",
       "<tr>\n",
       "  <th>Covariance Type:</th>      <td>nonrobust</td>    <th>                     </th>              <td> </td>   \n",
       "</tr>\n",
       "</table>\n",
       "<table class=\"simpletable\">\n",
       "<tr>\n",
       "   <td></td>     <th>coef</th>     <th>std err</th>      <th>t</th>      <th>P>|t|</th>  <th>[0.025</th>    <th>0.975]</th>  \n",
       "</tr>\n",
       "<tr>\n",
       "  <th>x1</th> <td>    2.4325</td> <td>    0.023</td> <td>  107.576</td> <td> 0.000</td> <td>    2.388</td> <td>    2.477</td>\n",
       "</tr>\n",
       "<tr>\n",
       "  <th>x2</th> <td>    5.0095</td> <td>    0.067</td> <td>   75.148</td> <td> 0.000</td> <td>    4.879</td> <td>    5.140</td>\n",
       "</tr>\n",
       "</table>\n",
       "<table class=\"simpletable\">\n",
       "<tr>\n",
       "  <th>Omnibus:</th>       <td> 2.805</td> <th>  Durbin-Watson:     </th> <td>   1.955</td>\n",
       "</tr>\n",
       "<tr>\n",
       "  <th>Prob(Omnibus):</th> <td> 0.246</td> <th>  Jarque-Bera (JB):  </th> <td>   2.961</td>\n",
       "</tr>\n",
       "<tr>\n",
       "  <th>Skew:</th>          <td> 0.040</td> <th>  Prob(JB):          </th> <td>   0.228</td>\n",
       "</tr>\n",
       "<tr>\n",
       "  <th>Kurtosis:</th>      <td> 3.254</td> <th>  Cond. No.          </th> <td>    2.95</td>\n",
       "</tr>\n",
       "</table><br/><br/>Notes:<br/>[1] R² is computed without centering (uncentered) since the model does not contain a constant.<br/>[2] Standard Errors assume that the covariance matrix of the errors is correctly specified."
      ],
      "text/plain": [
       "<class 'statsmodels.iolib.summary.Summary'>\n",
       "\"\"\"\n",
       "                                 OLS Regression Results                                \n",
       "=======================================================================================\n",
       "Dep. Variable:                      y   R-squared (uncentered):                   0.946\n",
       "Model:                            OLS   Adj. R-squared (uncentered):              0.946\n",
       "Method:                 Least Squares   F-statistic:                              8768.\n",
       "Date:                Thu, 27 Jul 2023   Prob (F-statistic):                        0.00\n",
       "Time:                        18:56:57   Log-Likelihood:                         -1415.4\n",
       "No. Observations:                1000   AIC:                                      2835.\n",
       "Df Residuals:                     998   BIC:                                      2845.\n",
       "Df Model:                           2                                                  \n",
       "Covariance Type:            nonrobust                                                  \n",
       "==============================================================================\n",
       "                 coef    std err          t      P>|t|      [0.025      0.975]\n",
       "------------------------------------------------------------------------------\n",
       "x1             2.4325      0.023    107.576      0.000       2.388       2.477\n",
       "x2             5.0095      0.067     75.148      0.000       4.879       5.140\n",
       "==============================================================================\n",
       "Omnibus:                        2.805   Durbin-Watson:                   1.955\n",
       "Prob(Omnibus):                  0.246   Jarque-Bera (JB):                2.961\n",
       "Skew:                           0.040   Prob(JB):                        0.228\n",
       "Kurtosis:                       3.254   Cond. No.                         2.95\n",
       "==============================================================================\n",
       "\n",
       "Notes:\n",
       "[1] R² is computed without centering (uncentered) since the model does not contain a constant.\n",
       "[2] Standard Errors assume that the covariance matrix of the errors is correctly specified.\n",
       "\"\"\""
      ]
     },
     "execution_count": 10,
     "metadata": {},
     "output_type": "execute_result"
    }
   ],
   "source": [
    "model = OLS(np.asarray(df[outcome]), np.asarray(df[[common_cause, treatment]], dtype=np.float64))\n",
    "result = model.fit()\n",
    "result.summary()"
   ]
  }
 ],
 "metadata": {
  "kernelspec": {
   "display_name": "Python 3",
   "language": "python",
   "name": "python3"
  },
  "language_info": {
   "codemirror_mode": {
    "name": "ipython",
    "version": 3
   },
   "file_extension": ".py",
   "mimetype": "text/x-python",
   "name": "python",
   "nbconvert_exporter": "python",
   "pygments_lexer": "ipython3",
   "version": "3.8.10"
  },
  "toc": {
   "base_numbering": 1,
   "nav_menu": {},
   "number_sections": false,
   "sideBar": true,
   "skip_h1_title": true,
   "title_cell": "Table of Contents",
   "title_sidebar": "Contents",
   "toc_cell": false,
   "toc_position": {},
   "toc_section_display": true,
   "toc_window_display": false
  }
 },
 "nbformat": 4,
 "nbformat_minor": 4
}
