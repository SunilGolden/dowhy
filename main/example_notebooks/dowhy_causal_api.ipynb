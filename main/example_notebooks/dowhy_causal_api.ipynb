{
 "cells": [
  {
   "cell_type": "markdown",
   "metadata": {},
   "source": [
    "# Demo for the DoWhy causal API\n",
    "We show a simple example of adding a causal extension to any dataframe. "
   ]
  },
  {
   "cell_type": "code",
   "execution_count": 1,
   "metadata": {
    "execution": {
     "iopub.execute_input": "2023-08-17T13:49:15.927466Z",
     "iopub.status.busy": "2023-08-17T13:49:15.927068Z",
     "iopub.status.idle": "2023-08-17T13:49:17.630413Z",
     "shell.execute_reply": "2023-08-17T13:49:17.629663Z"
    }
   },
   "outputs": [],
   "source": [
    "import dowhy.datasets\n",
    "import dowhy.api\n",
    "\n",
    "import numpy as np\n",
    "import pandas as pd\n",
    "\n",
    "from statsmodels.api import OLS"
   ]
  },
  {
   "cell_type": "code",
   "execution_count": 2,
   "metadata": {
    "execution": {
     "iopub.execute_input": "2023-08-17T13:49:17.634118Z",
     "iopub.status.busy": "2023-08-17T13:49:17.633446Z",
     "iopub.status.idle": "2023-08-17T13:49:17.679896Z",
     "shell.execute_reply": "2023-08-17T13:49:17.679209Z"
    }
   },
   "outputs": [
    {
     "data": {
      "text/html": [
       "<div>\n",
       "<style scoped>\n",
       "    .dataframe tbody tr th:only-of-type {\n",
       "        vertical-align: middle;\n",
       "    }\n",
       "\n",
       "    .dataframe tbody tr th {\n",
       "        vertical-align: top;\n",
       "    }\n",
       "\n",
       "    .dataframe thead th {\n",
       "        text-align: right;\n",
       "    }\n",
       "</style>\n",
       "<table border=\"1\" class=\"dataframe\">\n",
       "  <thead>\n",
       "    <tr style=\"text-align: right;\">\n",
       "      <th></th>\n",
       "      <th>W0</th>\n",
       "      <th>v0</th>\n",
       "      <th>y</th>\n",
       "    </tr>\n",
       "  </thead>\n",
       "  <tbody>\n",
       "    <tr>\n",
       "      <th>0</th>\n",
       "      <td>0.053129</td>\n",
       "      <td>False</td>\n",
       "      <td>0.120828</td>\n",
       "    </tr>\n",
       "    <tr>\n",
       "      <th>1</th>\n",
       "      <td>-0.207370</td>\n",
       "      <td>True</td>\n",
       "      <td>4.094249</td>\n",
       "    </tr>\n",
       "    <tr>\n",
       "      <th>2</th>\n",
       "      <td>-1.275800</td>\n",
       "      <td>False</td>\n",
       "      <td>-0.859310</td>\n",
       "    </tr>\n",
       "    <tr>\n",
       "      <th>3</th>\n",
       "      <td>-0.514631</td>\n",
       "      <td>False</td>\n",
       "      <td>-0.044277</td>\n",
       "    </tr>\n",
       "    <tr>\n",
       "      <th>4</th>\n",
       "      <td>-0.492343</td>\n",
       "      <td>False</td>\n",
       "      <td>-1.173587</td>\n",
       "    </tr>\n",
       "    <tr>\n",
       "      <th>...</th>\n",
       "      <td>...</td>\n",
       "      <td>...</td>\n",
       "      <td>...</td>\n",
       "    </tr>\n",
       "    <tr>\n",
       "      <th>995</th>\n",
       "      <td>-1.726819</td>\n",
       "      <td>False</td>\n",
       "      <td>-1.129720</td>\n",
       "    </tr>\n",
       "    <tr>\n",
       "      <th>996</th>\n",
       "      <td>0.887459</td>\n",
       "      <td>True</td>\n",
       "      <td>6.021511</td>\n",
       "    </tr>\n",
       "    <tr>\n",
       "      <th>997</th>\n",
       "      <td>0.121581</td>\n",
       "      <td>False</td>\n",
       "      <td>0.815055</td>\n",
       "    </tr>\n",
       "    <tr>\n",
       "      <th>998</th>\n",
       "      <td>-0.055222</td>\n",
       "      <td>False</td>\n",
       "      <td>2.470749</td>\n",
       "    </tr>\n",
       "    <tr>\n",
       "      <th>999</th>\n",
       "      <td>-0.527014</td>\n",
       "      <td>False</td>\n",
       "      <td>-0.265641</td>\n",
       "    </tr>\n",
       "  </tbody>\n",
       "</table>\n",
       "<p>1000 rows × 3 columns</p>\n",
       "</div>"
      ],
      "text/plain": [
       "           W0     v0         y\n",
       "0    0.053129  False  0.120828\n",
       "1   -0.207370   True  4.094249\n",
       "2   -1.275800  False -0.859310\n",
       "3   -0.514631  False -0.044277\n",
       "4   -0.492343  False -1.173587\n",
       "..        ...    ...       ...\n",
       "995 -1.726819  False -1.129720\n",
       "996  0.887459   True  6.021511\n",
       "997  0.121581  False  0.815055\n",
       "998 -0.055222  False  2.470749\n",
       "999 -0.527014  False -0.265641\n",
       "\n",
       "[1000 rows x 3 columns]"
      ]
     },
     "execution_count": 2,
     "metadata": {},
     "output_type": "execute_result"
    }
   ],
   "source": [
    "data = dowhy.datasets.linear_dataset(beta=5,\n",
    "        num_common_causes=1,\n",
    "        num_instruments = 0,\n",
    "        num_samples=1000,\n",
    "        treatment_is_binary=True)\n",
    "df = data['df']\n",
    "df['y'] = df['y'] + np.random.normal(size=len(df)) # Adding noise to data. Without noise, the variance in Y|X, Z is zero, and mcmc fails.\n",
    "#data['dot_graph'] = 'digraph { v ->y;X0-> v;X0-> y;}'\n",
    "\n",
    "treatment= data[\"treatment_name\"][0]\n",
    "outcome = data[\"outcome_name\"][0]\n",
    "common_cause = data[\"common_causes_names\"][0]\n",
    "df"
   ]
  },
  {
   "cell_type": "code",
   "execution_count": 3,
   "metadata": {
    "execution": {
     "iopub.execute_input": "2023-08-17T13:49:17.683235Z",
     "iopub.status.busy": "2023-08-17T13:49:17.682794Z",
     "iopub.status.idle": "2023-08-17T13:49:17.880970Z",
     "shell.execute_reply": "2023-08-17T13:49:17.880291Z"
    }
   },
   "outputs": [
    {
     "data": {
      "text/plain": [
       "<Axes: xlabel='v0'>"
      ]
     },
     "execution_count": 3,
     "metadata": {},
     "output_type": "execute_result"
    },
    {
     "data": {
      "image/png": "[encoded data removed]",
      "text/plain": [
       "<Figure size 640x480 with 1 Axes>"
      ]
     },
     "metadata": {},
     "output_type": "display_data"
    }
   ],
   "source": [
    "# data['df'] is just a regular pandas.DataFrame\n",
    "df.causal.do(x=treatment,\n",
    "                     variable_types={treatment: 'b', outcome: 'c', common_cause: 'c'},\n",
    "                     outcome=outcome,\n",
    "                     common_causes=[common_cause],\n",
    "                     proceed_when_unidentifiable=True).groupby(treatment).mean().plot(y=outcome, kind='bar')"
   ]
  },
  {
   "cell_type": "code",
   "execution_count": 4,
   "metadata": {
    "execution": {
     "iopub.execute_input": "2023-08-17T13:49:17.883977Z",
     "iopub.status.busy": "2023-08-17T13:49:17.883502Z",
     "iopub.status.idle": "2023-08-17T13:49:18.011549Z",
     "shell.execute_reply": "2023-08-17T13:49:18.010949Z"
    }
   },
   "outputs": [
    {
     "data": {
      "text/plain": [
       "<Axes: xlabel='v0'>"
      ]
     },
     "execution_count": 4,
     "metadata": {},
     "output_type": "execute_result"
    },
    {
     "data": {
      "image/png": "[encoded data removed]",
      "text/plain": [
       "<Figure size 640x480 with 1 Axes>"
      ]
     },
     "metadata": {},
     "output_type": "display_data"
    }
   ],
   "source": [
    "df.causal.do(x={treatment: 1}, \n",
    "              variable_types={treatment:'b', outcome: 'c', common_cause: 'c'}, \n",
    "              outcome=outcome,\n",
    "              method='weighting', \n",
    "              common_causes=[common_cause],\n",
    "              proceed_when_unidentifiable=True).groupby(treatment).mean().plot(y=outcome, kind='bar')"
   ]
  },
  {
   "cell_type": "code",
   "execution_count": 5,
   "metadata": {
    "execution": {
     "iopub.execute_input": "2023-08-17T13:49:18.014554Z",
     "iopub.status.busy": "2023-08-17T13:49:18.014090Z",
     "iopub.status.idle": "2023-08-17T13:49:18.047198Z",
     "shell.execute_reply": "2023-08-17T13:49:18.046544Z"
    }
   },
   "outputs": [],
   "source": [
    "cdf_1 = df.causal.do(x={treatment: 1}, \n",
    "              variable_types={treatment: 'b', outcome: 'c', common_cause: 'c'}, \n",
    "              outcome=outcome, \n",
    "              dot_graph=data['dot_graph'],\n",
    "              proceed_when_unidentifiable=True)\n",
    "\n",
    "cdf_0 = df.causal.do(x={treatment: 0}, \n",
    "              variable_types={treatment: 'b', outcome: 'c', common_cause: 'c'}, \n",
    "              outcome=outcome, \n",
    "              dot_graph=data['dot_graph'],\n",
    "              proceed_when_unidentifiable=True)\n"
   ]
  },
  {
   "cell_type": "code",
   "execution_count": 6,
   "metadata": {
    "execution": {
     "iopub.execute_input": "2023-08-17T13:49:18.050537Z",
     "iopub.status.busy": "2023-08-17T13:49:18.050302Z",
     "iopub.status.idle": "2023-08-17T13:49:18.064126Z",
     "shell.execute_reply": "2023-08-17T13:49:18.063476Z"
    },
    "scrolled": true
   },
   "outputs": [
    {
     "data": {
      "text/html": [
       "<div>\n",
       "<style scoped>\n",
       "    .dataframe tbody tr th:only-of-type {\n",
       "        vertical-align: middle;\n",
       "    }\n",
       "\n",
       "    .dataframe tbody tr th {\n",
       "        vertical-align: top;\n",
       "    }\n",
       "\n",
       "    .dataframe thead th {\n",
       "        text-align: right;\n",
       "    }\n",
       "</style>\n",
       "<table border=\"1\" class=\"dataframe\">\n",
       "  <thead>\n",
       "    <tr style=\"text-align: right;\">\n",
       "      <th></th>\n",
       "      <th>W0</th>\n",
       "      <th>v0</th>\n",
       "      <th>y</th>\n",
       "      <th>propensity_score</th>\n",
       "      <th>weight</th>\n",
       "    </tr>\n",
       "  </thead>\n",
       "  <tbody>\n",
       "    <tr>\n",
       "      <th>0</th>\n",
       "      <td>-0.633871</td>\n",
       "      <td>False</td>\n",
       "      <td>1.312999</td>\n",
       "      <td>0.665605</td>\n",
       "      <td>1.502392</td>\n",
       "    </tr>\n",
       "    <tr>\n",
       "      <th>1</th>\n",
       "      <td>-0.175509</td>\n",
       "      <td>False</td>\n",
       "      <td>-1.165821</td>\n",
       "      <td>0.542828</td>\n",
       "      <td>1.842206</td>\n",
       "    </tr>\n",
       "    <tr>\n",
       "      <th>2</th>\n",
       "      <td>-1.078446</td>\n",
       "      <td>False</td>\n",
       "      <td>-0.447989</td>\n",
       "      <td>0.766648</td>\n",
       "      <td>1.304379</td>\n",
       "    </tr>\n",
       "    <tr>\n",
       "      <th>3</th>\n",
       "      <td>-0.314742</td>\n",
       "      <td>False</td>\n",
       "      <td>0.081439</td>\n",
       "      <td>0.581435</td>\n",
       "      <td>1.719882</td>\n",
       "    </tr>\n",
       "    <tr>\n",
       "      <th>4</th>\n",
       "      <td>-0.336533</td>\n",
       "      <td>False</td>\n",
       "      <td>-0.064835</td>\n",
       "      <td>0.587401</td>\n",
       "      <td>1.702416</td>\n",
       "    </tr>\n",
       "    <tr>\n",
       "      <th>...</th>\n",
       "      <td>...</td>\n",
       "      <td>...</td>\n",
       "      <td>...</td>\n",
       "      <td>...</td>\n",
       "      <td>...</td>\n",
       "    </tr>\n",
       "    <tr>\n",
       "      <th>995</th>\n",
       "      <td>0.040103</td>\n",
       "      <td>False</td>\n",
       "      <td>1.332026</td>\n",
       "      <td>0.482183</td>\n",
       "      <td>2.073901</td>\n",
       "    </tr>\n",
       "    <tr>\n",
       "      <th>996</th>\n",
       "      <td>-1.697978</td>\n",
       "      <td>False</td>\n",
       "      <td>-0.389464</td>\n",
       "      <td>0.868503</td>\n",
       "      <td>1.151406</td>\n",
       "    </tr>\n",
       "    <tr>\n",
       "      <th>997</th>\n",
       "      <td>-1.754553</td>\n",
       "      <td>False</td>\n",
       "      <td>-0.993133</td>\n",
       "      <td>0.875616</td>\n",
       "      <td>1.142053</td>\n",
       "    </tr>\n",
       "    <tr>\n",
       "      <th>998</th>\n",
       "      <td>-3.082791</td>\n",
       "      <td>False</td>\n",
       "      <td>-1.276667</td>\n",
       "      <td>0.969192</td>\n",
       "      <td>1.031787</td>\n",
       "    </tr>\n",
       "    <tr>\n",
       "      <th>999</th>\n",
       "      <td>-1.770608</td>\n",
       "      <td>False</td>\n",
       "      <td>-1.607518</td>\n",
       "      <td>0.877574</td>\n",
       "      <td>1.139505</td>\n",
       "    </tr>\n",
       "  </tbody>\n",
       "</table>\n",
       "<p>1000 rows × 5 columns</p>\n",
       "</div>"
      ],
      "text/plain": [
       "           W0     v0         y  propensity_score    weight\n",
       "0   -0.633871  False  1.312999          0.665605  1.502392\n",
       "1   -0.175509  False -1.165821          0.542828  1.842206\n",
       "2   -1.078446  False -0.447989          0.766648  1.304379\n",
       "3   -0.314742  False  0.081439          0.581435  1.719882\n",
       "4   -0.336533  False -0.064835          0.587401  1.702416\n",
       "..        ...    ...       ...               ...       ...\n",
       "995  0.040103  False  1.332026          0.482183  2.073901\n",
       "996 -1.697978  False -0.389464          0.868503  1.151406\n",
       "997 -1.754553  False -0.993133          0.875616  1.142053\n",
       "998 -3.082791  False -1.276667          0.969192  1.031787\n",
       "999 -1.770608  False -1.607518          0.877574  1.139505\n",
       "\n",
       "[1000 rows x 5 columns]"
      ]
     },
     "execution_count": 6,
     "metadata": {},
     "output_type": "execute_result"
    }
   ],
   "source": [
    "cdf_0"
   ]
  },
  {
   "cell_type": "code",
   "execution_count": 7,
   "metadata": {
    "execution": {
     "iopub.execute_input": "2023-08-17T13:49:18.067614Z",
     "iopub.status.busy": "2023-08-17T13:49:18.067066Z",
     "iopub.status.idle": "2023-08-17T13:49:18.080806Z",
     "shell.execute_reply": "2023-08-17T13:49:18.080172Z"
    }
   },
   "outputs": [
    {
     "data": {
      "text/html": [
       "<div>\n",
       "<style scoped>\n",
       "    .dataframe tbody tr th:only-of-type {\n",
       "        vertical-align: middle;\n",
       "    }\n",
       "\n",
       "    .dataframe tbody tr th {\n",
       "        vertical-align: top;\n",
       "    }\n",
       "\n",
       "    .dataframe thead th {\n",
       "        text-align: right;\n",
       "    }\n",
       "</style>\n",
       "<table border=\"1\" class=\"dataframe\">\n",
       "  <thead>\n",
       "    <tr style=\"text-align: right;\">\n",
       "      <th></th>\n",
       "      <th>W0</th>\n",
       "      <th>v0</th>\n",
       "      <th>y</th>\n",
       "      <th>propensity_score</th>\n",
       "      <th>weight</th>\n",
       "    </tr>\n",
       "  </thead>\n",
       "  <tbody>\n",
       "    <tr>\n",
       "      <th>0</th>\n",
       "      <td>-2.138355</td>\n",
       "      <td>True</td>\n",
       "      <td>4.567015</td>\n",
       "      <td>0.084388</td>\n",
       "      <td>11.849986</td>\n",
       "    </tr>\n",
       "    <tr>\n",
       "      <th>1</th>\n",
       "      <td>-0.117730</td>\n",
       "      <td>True</td>\n",
       "      <td>5.781131</td>\n",
       "      <td>0.473374</td>\n",
       "      <td>2.112494</td>\n",
       "    </tr>\n",
       "    <tr>\n",
       "      <th>2</th>\n",
       "      <td>-1.467283</td>\n",
       "      <td>True</td>\n",
       "      <td>3.844971</td>\n",
       "      <td>0.164137</td>\n",
       "      <td>6.092457</td>\n",
       "    </tr>\n",
       "    <tr>\n",
       "      <th>3</th>\n",
       "      <td>-0.957786</td>\n",
       "      <td>True</td>\n",
       "      <td>6.387480</td>\n",
       "      <td>0.258558</td>\n",
       "      <td>3.867610</td>\n",
       "    </tr>\n",
       "    <tr>\n",
       "      <th>4</th>\n",
       "      <td>-0.880099</td>\n",
       "      <td>True</td>\n",
       "      <td>4.810873</td>\n",
       "      <td>0.275696</td>\n",
       "      <td>3.627186</td>\n",
       "    </tr>\n",
       "    <tr>\n",
       "      <th>...</th>\n",
       "      <td>...</td>\n",
       "      <td>...</td>\n",
       "      <td>...</td>\n",
       "      <td>...</td>\n",
       "      <td>...</td>\n",
       "    </tr>\n",
       "    <tr>\n",
       "      <th>995</th>\n",
       "      <td>-0.023319</td>\n",
       "      <td>True</td>\n",
       "      <td>5.155874</td>\n",
       "      <td>0.499953</td>\n",
       "      <td>2.000189</td>\n",
       "    </tr>\n",
       "    <tr>\n",
       "      <th>996</th>\n",
       "      <td>-0.767021</td>\n",
       "      <td>True</td>\n",
       "      <td>5.592769</td>\n",
       "      <td>0.301860</td>\n",
       "      <td>3.312796</td>\n",
       "    </tr>\n",
       "    <tr>\n",
       "      <th>997</th>\n",
       "      <td>-2.138355</td>\n",
       "      <td>True</td>\n",
       "      <td>4.567015</td>\n",
       "      <td>0.084388</td>\n",
       "      <td>11.849986</td>\n",
       "    </tr>\n",
       "    <tr>\n",
       "      <th>998</th>\n",
       "      <td>-1.057830</td>\n",
       "      <td>True</td>\n",
       "      <td>4.123990</td>\n",
       "      <td>0.237535</td>\n",
       "      <td>4.209913</td>\n",
       "    </tr>\n",
       "    <tr>\n",
       "      <th>999</th>\n",
       "      <td>-1.570828</td>\n",
       "      <td>True</td>\n",
       "      <td>3.741151</td>\n",
       "      <td>0.148746</td>\n",
       "      <td>6.722879</td>\n",
       "    </tr>\n",
       "  </tbody>\n",
       "</table>\n",
       "<p>1000 rows × 5 columns</p>\n",
       "</div>"
      ],
      "text/plain": [
       "           W0    v0         y  propensity_score     weight\n",
       "0   -2.138355  True  4.567015          0.084388  11.849986\n",
       "1   -0.117730  True  5.781131          0.473374   2.112494\n",
       "2   -1.467283  True  3.844971          0.164137   6.092457\n",
       "3   -0.957786  True  6.387480          0.258558   3.867610\n",
       "4   -0.880099  True  4.810873          0.275696   3.627186\n",
       "..        ...   ...       ...               ...        ...\n",
       "995 -0.023319  True  5.155874          0.499953   2.000189\n",
       "996 -0.767021  True  5.592769          0.301860   3.312796\n",
       "997 -2.138355  True  4.567015          0.084388  11.849986\n",
       "998 -1.057830  True  4.123990          0.237535   4.209913\n",
       "999 -1.570828  True  3.741151          0.148746   6.722879\n",
       "\n",
       "[1000 rows x 5 columns]"
      ]
     },
     "execution_count": 7,
     "metadata": {},
     "output_type": "execute_result"
    }
   ],
   "source": [
    "cdf_1"
   ]
  },
  {
   "cell_type": "markdown",
   "metadata": {},
   "source": [
    "## Comparing the estimate to Linear Regression\n",
    "First, estimating the effect using the causal data frame, and the 95% confidence interval."
   ]
  },
  {
   "cell_type": "code",
   "execution_count": 8,
   "metadata": {
    "execution": {
     "iopub.execute_input": "2023-08-17T13:49:18.084216Z",
     "iopub.status.busy": "2023-08-17T13:49:18.083687Z",
     "iopub.status.idle": "2023-08-17T13:49:18.147238Z",
     "shell.execute_reply": "2023-08-17T13:49:18.146558Z"
    }
   },
   "outputs": [
    {
     "data": {
      "image/png": "[encoded data removed]",
      "text/latex": [
       "$\\displaystyle 5.16789465418679$"
      ],
      "text/plain": [
       "5.167894654186792"
      ]
     },
     "execution_count": 8,
     "metadata": {},
     "output_type": "execute_result"
    }
   ],
   "source": [
    "(cdf_1['y'] - cdf_0['y']).mean()"
   ]
  },
  {
   "cell_type": "code",
   "execution_count": 9,
   "metadata": {
    "execution": {
     "iopub.execute_input": "2023-08-17T13:49:18.150843Z",
     "iopub.status.busy": "2023-08-17T13:49:18.150386Z",
     "iopub.status.idle": "2023-08-17T13:49:18.173356Z",
     "shell.execute_reply": "2023-08-17T13:49:18.172485Z"
    }
   },
   "outputs": [
    {
     "data": {
      "image/png": "[encoded data removed]",
      "text/latex": [
       "$\\displaystyle 0.106702167094126$"
      ],
      "text/plain": [
       "0.10670216709412604"
      ]
     },
     "execution_count": 9,
     "metadata": {},
     "output_type": "execute_result"
    }
   ],
   "source": [
    "1.96*(cdf_1['y'] - cdf_0['y']).std() / np.sqrt(len(df))"
   ]
  },
  {
   "cell_type": "markdown",
   "metadata": {},
   "source": [
    "Comparing to the estimate from OLS."
   ]
  },
  {
   "cell_type": "code",
   "execution_count": 10,
   "metadata": {
    "execution": {
     "iopub.execute_input": "2023-08-17T13:49:18.176454Z",
     "iopub.status.busy": "2023-08-17T13:49:18.176226Z",
     "iopub.status.idle": "2023-08-17T13:49:18.198888Z",
     "shell.execute_reply": "2023-08-17T13:49:18.198276Z"
    }
   },
   "outputs": [
    {
     "data": {
      "text/html": [
       "<table class=\"simpletable\">\n",
       "<caption>OLS Regression Results</caption>\n",
       "<tr>\n",
       "  <th>Dep. Variable:</th>            <td>y</td>        <th>  R-squared (uncentered):</th>      <td>   0.890</td>\n",
       "</tr>\n",
       "<tr>\n",
       "  <th>Model:</th>                   <td>OLS</td>       <th>  Adj. R-squared (uncentered):</th> <td>   0.889</td>\n",
       "</tr>\n",
       "<tr>\n",
       "  <th>Method:</th>             <td>Least Squares</td>  <th>  F-statistic:       </th>          <td>   4019.</td>\n",
       "</tr>\n",
       "<tr>\n",
       "  <th>Date:</th>             <td>Thu, 17 Aug 2023</td> <th>  Prob (F-statistic):</th>           <td>  0.00</td> \n",
       "</tr>\n",
       "<tr>\n",
       "  <th>Time:</th>                 <td>13:49:18</td>     <th>  Log-Likelihood:    </th>          <td> -1422.9</td>\n",
       "</tr>\n",
       "<tr>\n",
       "  <th>No. Observations:</th>      <td>  1000</td>      <th>  AIC:               </th>          <td>   2850.</td>\n",
       "</tr>\n",
       "<tr>\n",
       "  <th>Df Residuals:</th>          <td>   998</td>      <th>  BIC:               </th>          <td>   2860.</td>\n",
       "</tr>\n",
       "<tr>\n",
       "  <th>Df Model:</th>              <td>     2</td>      <th>                     </th>              <td> </td>   \n",
       "</tr>\n",
       "<tr>\n",
       "  <th>Covariance Type:</th>      <td>nonrobust</td>    <th>                     </th>              <td> </td>   \n",
       "</tr>\n",
       "</table>\n",
       "<table class=\"simpletable\">\n",
       "<tr>\n",
       "   <td></td>     <th>coef</th>     <th>std err</th>      <th>t</th>      <th>P>|t|</th>  <th>[0.025</th>    <th>0.975]</th>  \n",
       "</tr>\n",
       "<tr>\n",
       "  <th>x1</th> <td>    0.6472</td> <td>    0.023</td> <td>   27.863</td> <td> 0.000</td> <td>    0.602</td> <td>    0.693</td>\n",
       "</tr>\n",
       "<tr>\n",
       "  <th>x2</th> <td>    5.0674</td> <td>    0.058</td> <td>   87.798</td> <td> 0.000</td> <td>    4.954</td> <td>    5.181</td>\n",
       "</tr>\n",
       "</table>\n",
       "<table class=\"simpletable\">\n",
       "<tr>\n",
       "  <th>Omnibus:</th>       <td> 6.808</td> <th>  Durbin-Watson:     </th> <td>   1.972</td>\n",
       "</tr>\n",
       "<tr>\n",
       "  <th>Prob(Omnibus):</th> <td> 0.033</td> <th>  Jarque-Bera (JB):  </th> <td>   6.753</td>\n",
       "</tr>\n",
       "<tr>\n",
       "  <th>Skew:</th>          <td>-0.200</td> <th>  Prob(JB):          </th> <td>  0.0342</td>\n",
       "</tr>\n",
       "<tr>\n",
       "  <th>Kurtosis:</th>      <td> 3.051</td> <th>  Cond. No.          </th> <td>    2.51</td>\n",
       "</tr>\n",
       "</table><br/><br/>Notes:<br/>[1] R² is computed without centering (uncentered) since the model does not contain a constant.<br/>[2] Standard Errors assume that the covariance matrix of the errors is correctly specified."
      ],
      "text/latex": [
       "\\begin{center}\n",
       "\\begin{tabular}{lclc}\n",
       "\\toprule\n",
       "\\textbf{Dep. Variable:}    &        y         & \\textbf{  R-squared (uncentered):}      &     0.890   \\\\\n",
       "\\textbf{Model:}            &       OLS        & \\textbf{  Adj. R-squared (uncentered):} &     0.889   \\\\\n",
       "\\textbf{Method:}           &  Least Squares   & \\textbf{  F-statistic:       }          &     4019.   \\\\\n",
       "\\textbf{Date:}             & Thu, 17 Aug 2023 & \\textbf{  Prob (F-statistic):}          &     0.00    \\\\\n",
       "\\textbf{Time:}             &     13:49:18     & \\textbf{  Log-Likelihood:    }          &   -1422.9   \\\\\n",
       "\\textbf{No. Observations:} &        1000      & \\textbf{  AIC:               }          &     2850.   \\\\\n",
       "\\textbf{Df Residuals:}     &         998      & \\textbf{  BIC:               }          &     2860.   \\\\\n",
       "\\textbf{Df Model:}         &           2      & \\textbf{                     }          &             \\\\\n",
       "\\textbf{Covariance Type:}  &    nonrobust     & \\textbf{                     }          &             \\\\\n",
       "\\bottomrule\n",
       "\\end{tabular}\n",
       "\\begin{tabular}{lcccccc}\n",
       "            & \\textbf{coef} & \\textbf{std err} & \\textbf{t} & \\textbf{P$> |$t$|$} & \\textbf{[0.025} & \\textbf{0.975]}  \\\\\n",
       "\\midrule\n",
       "\\textbf{x1} &       0.6472  &        0.023     &    27.863  &         0.000        &        0.602    &        0.693     \\\\\n",
       "\\textbf{x2} &       5.0674  &        0.058     &    87.798  &         0.000        &        4.954    &        5.181     \\\\\n",
       "\\bottomrule\n",
       "\\end{tabular}\n",
       "\\begin{tabular}{lclc}\n",
       "\\textbf{Omnibus:}       &  6.808 & \\textbf{  Durbin-Watson:     } &    1.972  \\\\\n",
       "\\textbf{Prob(Omnibus):} &  0.033 & \\textbf{  Jarque-Bera (JB):  } &    6.753  \\\\\n",
       "\\textbf{Skew:}          & -0.200 & \\textbf{  Prob(JB):          } &   0.0342  \\\\\n",
       "\\textbf{Kurtosis:}      &  3.051 & \\textbf{  Cond. No.          } &     2.51  \\\\\n",
       "\\bottomrule\n",
       "\\end{tabular}\n",
       "%\\caption{OLS Regression Results}\n",
       "\\end{center}\n",
       "\n",
       "Notes: \\newline\n",
       " [1] R² is computed without centering (uncentered) since the model does not contain a constant. \\newline\n",
       " [2] Standard Errors assume that the covariance matrix of the errors is correctly specified."
      ],
      "text/plain": [
       "<class 'statsmodels.iolib.summary.Summary'>\n",
       "\"\"\"\n",
       "                                 OLS Regression Results                                \n",
       "=======================================================================================\n",
       "Dep. Variable:                      y   R-squared (uncentered):                   0.890\n",
       "Model:                            OLS   Adj. R-squared (uncentered):              0.889\n",
       "Method:                 Least Squares   F-statistic:                              4019.\n",
       "Date:                Thu, 17 Aug 2023   Prob (F-statistic):                        0.00\n",
       "Time:                        13:49:18   Log-Likelihood:                         -1422.9\n",
       "No. Observations:                1000   AIC:                                      2850.\n",
       "Df Residuals:                     998   BIC:                                      2860.\n",
       "Df Model:                           2                                                  \n",
       "Covariance Type:            nonrobust                                                  \n",
       "==============================================================================\n",
       "                 coef    std err          t      P>|t|      [0.025      0.975]\n",
       "------------------------------------------------------------------------------\n",
       "x1             0.6472      0.023     27.863      0.000       0.602       0.693\n",
       "x2             5.0674      0.058     87.798      0.000       4.954       5.181\n",
       "==============================================================================\n",
       "Omnibus:                        6.808   Durbin-Watson:                   1.972\n",
       "Prob(Omnibus):                  0.033   Jarque-Bera (JB):                6.753\n",
       "Skew:                          -0.200   Prob(JB):                       0.0342\n",
       "Kurtosis:                       3.051   Cond. No.                         2.51\n",
       "==============================================================================\n",
       "\n",
       "Notes:\n",
       "[1] R² is computed without centering (uncentered) since the model does not contain a constant.\n",
       "[2] Standard Errors assume that the covariance matrix of the errors is correctly specified.\n",
       "\"\"\""
      ]
     },
     "execution_count": 10,
     "metadata": {},
     "output_type": "execute_result"
    }
   ],
   "source": [
    "model = OLS(np.asarray(df[outcome]), np.asarray(df[[common_cause, treatment]], dtype=np.float64))\n",
    "result = model.fit()\n",
    "result.summary()"
   ]
  }
 ],
 "metadata": {
  "kernelspec": {
   "display_name": "Python 3",
   "language": "python",
   "name": "python3"
  },
  "language_info": {
   "codemirror_mode": {
    "name": "ipython",
    "version": 3
   },
   "file_extension": ".py",
   "mimetype": "text/x-python",
   "name": "python",
   "nbconvert_exporter": "python",
   "pygments_lexer": "ipython3",
   "version": "3.8.10"
  },
  "toc": {
   "base_numbering": 1,
   "nav_menu": {},
   "number_sections": false,
   "sideBar": true,
   "skip_h1_title": true,
   "title_cell": "Table of Contents",
   "title_sidebar": "Contents",
   "toc_cell": false,
   "toc_position": {},
   "toc_section_display": true,
   "toc_window_display": false
  }
 },
 "nbformat": 4,
 "nbformat_minor": 4
}
