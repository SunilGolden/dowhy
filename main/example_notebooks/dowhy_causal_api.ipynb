{
 "cells": [
  {
   "cell_type": "markdown",
   "metadata": {},
   "source": [
    "# Demo for the DoWhy causal API\n",
    "We show a simple example of adding a causal extension to any dataframe. "
   ]
  },
  {
   "cell_type": "code",
   "execution_count": 1,
   "metadata": {
    "execution": {
     "iopub.execute_input": "2024-01-18T17:12:41.436099Z",
     "iopub.status.busy": "2024-01-18T17:12:41.435913Z",
     "iopub.status.idle": "2024-01-18T17:12:42.956750Z",
     "shell.execute_reply": "2024-01-18T17:12:42.956121Z"
    }
   },
   "outputs": [],
   "source": [
    "import dowhy.datasets\n",
    "import dowhy.api\n",
    "from dowhy.graph import build_graph_from_str\n",
    "\n",
    "import numpy as np\n",
    "import pandas as pd\n",
    "\n",
    "from statsmodels.api import OLS"
   ]
  },
  {
   "cell_type": "code",
   "execution_count": 2,
   "metadata": {
    "execution": {
     "iopub.execute_input": "2024-01-18T17:12:42.959777Z",
     "iopub.status.busy": "2024-01-18T17:12:42.959201Z",
     "iopub.status.idle": "2024-01-18T17:12:42.998523Z",
     "shell.execute_reply": "2024-01-18T17:12:42.997858Z"
    }
   },
   "outputs": [
    {
     "data": {
      "text/html": [
       "<div>\n",
       "<style scoped>\n",
       "    .dataframe tbody tr th:only-of-type {\n",
       "        vertical-align: middle;\n",
       "    }\n",
       "\n",
       "    .dataframe tbody tr th {\n",
       "        vertical-align: top;\n",
       "    }\n",
       "\n",
       "    .dataframe thead th {\n",
       "        text-align: right;\n",
       "    }\n",
       "</style>\n",
       "<table border=\"1\" class=\"dataframe\">\n",
       "  <thead>\n",
       "    <tr style=\"text-align: right;\">\n",
       "      <th></th>\n",
       "      <th>W0</th>\n",
       "      <th>v0</th>\n",
       "      <th>y</th>\n",
       "    </tr>\n",
       "  </thead>\n",
       "  <tbody>\n",
       "    <tr>\n",
       "      <th>0</th>\n",
       "      <td>0.392288</td>\n",
       "      <td>False</td>\n",
       "      <td>1.258390</td>\n",
       "    </tr>\n",
       "    <tr>\n",
       "      <th>1</th>\n",
       "      <td>0.197741</td>\n",
       "      <td>False</td>\n",
       "      <td>-0.219141</td>\n",
       "    </tr>\n",
       "    <tr>\n",
       "      <th>2</th>\n",
       "      <td>0.496427</td>\n",
       "      <td>True</td>\n",
       "      <td>5.910198</td>\n",
       "    </tr>\n",
       "    <tr>\n",
       "      <th>3</th>\n",
       "      <td>0.125173</td>\n",
       "      <td>True</td>\n",
       "      <td>4.240638</td>\n",
       "    </tr>\n",
       "    <tr>\n",
       "      <th>4</th>\n",
       "      <td>0.752525</td>\n",
       "      <td>True</td>\n",
       "      <td>5.961085</td>\n",
       "    </tr>\n",
       "    <tr>\n",
       "      <th>...</th>\n",
       "      <td>...</td>\n",
       "      <td>...</td>\n",
       "      <td>...</td>\n",
       "    </tr>\n",
       "    <tr>\n",
       "      <th>995</th>\n",
       "      <td>-0.933223</td>\n",
       "      <td>False</td>\n",
       "      <td>-2.580067</td>\n",
       "    </tr>\n",
       "    <tr>\n",
       "      <th>996</th>\n",
       "      <td>-1.168976</td>\n",
       "      <td>False</td>\n",
       "      <td>-0.521156</td>\n",
       "    </tr>\n",
       "    <tr>\n",
       "      <th>997</th>\n",
       "      <td>-0.405967</td>\n",
       "      <td>False</td>\n",
       "      <td>-1.629571</td>\n",
       "    </tr>\n",
       "    <tr>\n",
       "      <th>998</th>\n",
       "      <td>-1.008054</td>\n",
       "      <td>False</td>\n",
       "      <td>-1.999931</td>\n",
       "    </tr>\n",
       "    <tr>\n",
       "      <th>999</th>\n",
       "      <td>-0.054503</td>\n",
       "      <td>True</td>\n",
       "      <td>3.419501</td>\n",
       "    </tr>\n",
       "  </tbody>\n",
       "</table>\n",
       "<p>1000 rows × 3 columns</p>\n",
       "</div>"
      ],
      "text/plain": [
       "           W0     v0         y\n",
       "0    0.392288  False  1.258390\n",
       "1    0.197741  False -0.219141\n",
       "2    0.496427   True  5.910198\n",
       "3    0.125173   True  4.240638\n",
       "4    0.752525   True  5.961085\n",
       "..        ...    ...       ...\n",
       "995 -0.933223  False -2.580067\n",
       "996 -1.168976  False -0.521156\n",
       "997 -0.405967  False -1.629571\n",
       "998 -1.008054  False -1.999931\n",
       "999 -0.054503   True  3.419501\n",
       "\n",
       "[1000 rows x 3 columns]"
      ]
     },
     "execution_count": 2,
     "metadata": {},
     "output_type": "execute_result"
    }
   ],
   "source": [
    "data = dowhy.datasets.linear_dataset(beta=5,\n",
    "        num_common_causes=1,\n",
    "        num_instruments = 0,\n",
    "        num_samples=1000,\n",
    "        treatment_is_binary=True)\n",
    "df = data['df']\n",
    "df['y'] = df['y'] + np.random.normal(size=len(df)) # Adding noise to data. Without noise, the variance in Y|X, Z is zero, and mcmc fails.\n",
    "nx_graph = build_graph_from_str(data[\"dot_graph\"])\n",
    "\n",
    "treatment= data[\"treatment_name\"][0]\n",
    "outcome = data[\"outcome_name\"][0]\n",
    "common_cause = data[\"common_causes_names\"][0]\n",
    "df"
   ]
  },
  {
   "cell_type": "code",
   "execution_count": 3,
   "metadata": {
    "execution": {
     "iopub.execute_input": "2024-01-18T17:12:43.000989Z",
     "iopub.status.busy": "2024-01-18T17:12:43.000785Z",
     "iopub.status.idle": "2024-01-18T17:12:43.188188Z",
     "shell.execute_reply": "2024-01-18T17:12:43.187505Z"
    },
    "scrolled": true
   },
   "outputs": [
    {
     "data": {
      "text/plain": [
       "<Axes: xlabel='v0'>"
      ]
     },
     "execution_count": 3,
     "metadata": {},
     "output_type": "execute_result"
    },
    {
     "data": {
      "image/png": "[encoded data removed]",
      "text/plain": [
       "<Figure size 640x480 with 1 Axes>"
      ]
     },
     "metadata": {},
     "output_type": "display_data"
    }
   ],
   "source": [
    "# data['df'] is just a regular pandas.DataFrame\n",
    "df.causal.do(x=treatment,\n",
    "             variable_types={treatment: 'b', outcome: 'c', common_cause: 'c'},\n",
    "             outcome=outcome,\n",
    "             common_causes=[common_cause],\n",
    "            ).groupby(treatment).mean().plot(y=outcome, kind='bar')"
   ]
  },
  {
   "cell_type": "code",
   "execution_count": 4,
   "metadata": {
    "execution": {
     "iopub.execute_input": "2024-01-18T17:12:43.190766Z",
     "iopub.status.busy": "2024-01-18T17:12:43.190303Z",
     "iopub.status.idle": "2024-01-18T17:12:43.303255Z",
     "shell.execute_reply": "2024-01-18T17:12:43.302490Z"
    }
   },
   "outputs": [
    {
     "data": {
      "text/plain": [
       "<Axes: xlabel='v0'>"
      ]
     },
     "execution_count": 4,
     "metadata": {},
     "output_type": "execute_result"
    },
    {
     "data": {
      "image/png": "[encoded data removed]",
      "text/plain": [
       "<Figure size 640x480 with 1 Axes>"
      ]
     },
     "metadata": {},
     "output_type": "display_data"
    }
   ],
   "source": [
    "df.causal.do(x={treatment: 1}, \n",
    "              variable_types={treatment:'b', outcome: 'c', common_cause: 'c'}, \n",
    "              outcome=outcome,\n",
    "              method='weighting', \n",
    "              common_causes=[common_cause]\n",
    "              ).groupby(treatment).mean().plot(y=outcome, kind='bar')"
   ]
  },
  {
   "cell_type": "code",
   "execution_count": 5,
   "metadata": {
    "execution": {
     "iopub.execute_input": "2024-01-18T17:12:43.305984Z",
     "iopub.status.busy": "2024-01-18T17:12:43.305616Z",
     "iopub.status.idle": "2024-01-18T17:12:43.328767Z",
     "shell.execute_reply": "2024-01-18T17:12:43.328049Z"
    }
   },
   "outputs": [],
   "source": [
    "cdf_1 = df.causal.do(x={treatment: 1}, \n",
    "              variable_types={treatment: 'b', outcome: 'c', common_cause: 'c'}, \n",
    "              outcome=outcome, \n",
    "              graph=nx_graph\n",
    "              )\n",
    "\n",
    "cdf_0 = df.causal.do(x={treatment: 0}, \n",
    "              variable_types={treatment: 'b', outcome: 'c', common_cause: 'c'}, \n",
    "              outcome=outcome, \n",
    "              graph=nx_graph\n",
    "              )\n"
   ]
  },
  {
   "cell_type": "code",
   "execution_count": 6,
   "metadata": {
    "execution": {
     "iopub.execute_input": "2024-01-18T17:12:43.331600Z",
     "iopub.status.busy": "2024-01-18T17:12:43.331203Z",
     "iopub.status.idle": "2024-01-18T17:12:43.340614Z",
     "shell.execute_reply": "2024-01-18T17:12:43.339974Z"
    },
    "scrolled": true
   },
   "outputs": [
    {
     "data": {
      "text/html": [
       "<div>\n",
       "<style scoped>\n",
       "    .dataframe tbody tr th:only-of-type {\n",
       "        vertical-align: middle;\n",
       "    }\n",
       "\n",
       "    .dataframe tbody tr th {\n",
       "        vertical-align: top;\n",
       "    }\n",
       "\n",
       "    .dataframe thead th {\n",
       "        text-align: right;\n",
       "    }\n",
       "</style>\n",
       "<table border=\"1\" class=\"dataframe\">\n",
       "  <thead>\n",
       "    <tr style=\"text-align: right;\">\n",
       "      <th></th>\n",
       "      <th>W0</th>\n",
       "      <th>v0</th>\n",
       "      <th>y</th>\n",
       "      <th>propensity_score</th>\n",
       "      <th>weight</th>\n",
       "    </tr>\n",
       "  </thead>\n",
       "  <tbody>\n",
       "    <tr>\n",
       "      <th>0</th>\n",
       "      <td>0.714149</td>\n",
       "      <td>False</td>\n",
       "      <td>0.482977</td>\n",
       "      <td>0.141243</td>\n",
       "      <td>7.079996</td>\n",
       "    </tr>\n",
       "    <tr>\n",
       "      <th>1</th>\n",
       "      <td>1.850575</td>\n",
       "      <td>False</td>\n",
       "      <td>3.394618</td>\n",
       "      <td>0.009650</td>\n",
       "      <td>103.627547</td>\n",
       "    </tr>\n",
       "    <tr>\n",
       "      <th>2</th>\n",
       "      <td>0.490049</td>\n",
       "      <td>False</td>\n",
       "      <td>1.104611</td>\n",
       "      <td>0.223097</td>\n",
       "      <td>4.482346</td>\n",
       "    </tr>\n",
       "    <tr>\n",
       "      <th>3</th>\n",
       "      <td>-0.650700</td>\n",
       "      <td>False</td>\n",
       "      <td>-0.077195</td>\n",
       "      <td>0.830496</td>\n",
       "      <td>1.204100</td>\n",
       "    </tr>\n",
       "    <tr>\n",
       "      <th>4</th>\n",
       "      <td>0.138008</td>\n",
       "      <td>False</td>\n",
       "      <td>1.156259</td>\n",
       "      <td>0.408000</td>\n",
       "      <td>2.450981</td>\n",
       "    </tr>\n",
       "    <tr>\n",
       "      <th>...</th>\n",
       "      <td>...</td>\n",
       "      <td>...</td>\n",
       "      <td>...</td>\n",
       "      <td>...</td>\n",
       "      <td>...</td>\n",
       "    </tr>\n",
       "    <tr>\n",
       "      <th>995</th>\n",
       "      <td>0.169160</td>\n",
       "      <td>False</td>\n",
       "      <td>-0.406469</td>\n",
       "      <td>0.389430</td>\n",
       "      <td>2.567857</td>\n",
       "    </tr>\n",
       "    <tr>\n",
       "      <th>996</th>\n",
       "      <td>-0.097159</td>\n",
       "      <td>False</td>\n",
       "      <td>-2.006676</td>\n",
       "      <td>0.552946</td>\n",
       "      <td>1.808495</td>\n",
       "    </tr>\n",
       "    <tr>\n",
       "      <th>997</th>\n",
       "      <td>-0.913651</td>\n",
       "      <td>False</td>\n",
       "      <td>-1.709957</td>\n",
       "      <td>0.904050</td>\n",
       "      <td>1.106133</td>\n",
       "    </tr>\n",
       "    <tr>\n",
       "      <th>998</th>\n",
       "      <td>-1.359998</td>\n",
       "      <td>False</td>\n",
       "      <td>-2.300483</td>\n",
       "      <td>0.966205</td>\n",
       "      <td>1.034977</td>\n",
       "    </tr>\n",
       "    <tr>\n",
       "      <th>999</th>\n",
       "      <td>-0.039956</td>\n",
       "      <td>False</td>\n",
       "      <td>-0.359774</td>\n",
       "      <td>0.517575</td>\n",
       "      <td>1.932089</td>\n",
       "    </tr>\n",
       "  </tbody>\n",
       "</table>\n",
       "<p>1000 rows × 5 columns</p>\n",
       "</div>"
      ],
      "text/plain": [
       "           W0     v0         y  propensity_score      weight\n",
       "0    0.714149  False  0.482977          0.141243    7.079996\n",
       "1    1.850575  False  3.394618          0.009650  103.627547\n",
       "2    0.490049  False  1.104611          0.223097    4.482346\n",
       "3   -0.650700  False -0.077195          0.830496    1.204100\n",
       "4    0.138008  False  1.156259          0.408000    2.450981\n",
       "..        ...    ...       ...               ...         ...\n",
       "995  0.169160  False -0.406469          0.389430    2.567857\n",
       "996 -0.097159  False -2.006676          0.552946    1.808495\n",
       "997 -0.913651  False -1.709957          0.904050    1.106133\n",
       "998 -1.359998  False -2.300483          0.966205    1.034977\n",
       "999 -0.039956  False -0.359774          0.517575    1.932089\n",
       "\n",
       "[1000 rows x 5 columns]"
      ]
     },
     "execution_count": 6,
     "metadata": {},
     "output_type": "execute_result"
    }
   ],
   "source": [
    "cdf_0"
   ]
  },
  {
   "cell_type": "code",
   "execution_count": 7,
   "metadata": {
    "execution": {
     "iopub.execute_input": "2024-01-18T17:12:43.342813Z",
     "iopub.status.busy": "2024-01-18T17:12:43.342621Z",
     "iopub.status.idle": "2024-01-18T17:12:43.351938Z",
     "shell.execute_reply": "2024-01-18T17:12:43.351310Z"
    }
   },
   "outputs": [
    {
     "data": {
      "text/html": [
       "<div>\n",
       "<style scoped>\n",
       "    .dataframe tbody tr th:only-of-type {\n",
       "        vertical-align: middle;\n",
       "    }\n",
       "\n",
       "    .dataframe tbody tr th {\n",
       "        vertical-align: top;\n",
       "    }\n",
       "\n",
       "    .dataframe thead th {\n",
       "        text-align: right;\n",
       "    }\n",
       "</style>\n",
       "<table border=\"1\" class=\"dataframe\">\n",
       "  <thead>\n",
       "    <tr style=\"text-align: right;\">\n",
       "      <th></th>\n",
       "      <th>W0</th>\n",
       "      <th>v0</th>\n",
       "      <th>y</th>\n",
       "      <th>propensity_score</th>\n",
       "      <th>weight</th>\n",
       "    </tr>\n",
       "  </thead>\n",
       "  <tbody>\n",
       "    <tr>\n",
       "      <th>0</th>\n",
       "      <td>2.046653</td>\n",
       "      <td>True</td>\n",
       "      <td>6.181600</td>\n",
       "      <td>0.994052</td>\n",
       "      <td>1.005984</td>\n",
       "    </tr>\n",
       "    <tr>\n",
       "      <th>1</th>\n",
       "      <td>-0.930208</td>\n",
       "      <td>True</td>\n",
       "      <td>4.919513</td>\n",
       "      <td>0.092437</td>\n",
       "      <td>10.818185</td>\n",
       "    </tr>\n",
       "    <tr>\n",
       "      <th>2</th>\n",
       "      <td>1.105351</td>\n",
       "      <td>True</td>\n",
       "      <td>5.948954</td>\n",
       "      <td>0.941468</td>\n",
       "      <td>1.062171</td>\n",
       "    </tr>\n",
       "    <tr>\n",
       "      <th>3</th>\n",
       "      <td>0.412320</td>\n",
       "      <td>True</td>\n",
       "      <td>6.443554</td>\n",
       "      <td>0.741620</td>\n",
       "      <td>1.348399</td>\n",
       "    </tr>\n",
       "    <tr>\n",
       "      <th>4</th>\n",
       "      <td>0.011018</td>\n",
       "      <td>True</td>\n",
       "      <td>5.389004</td>\n",
       "      <td>0.514106</td>\n",
       "      <td>1.945126</td>\n",
       "    </tr>\n",
       "    <tr>\n",
       "      <th>...</th>\n",
       "      <td>...</td>\n",
       "      <td>...</td>\n",
       "      <td>...</td>\n",
       "      <td>...</td>\n",
       "      <td>...</td>\n",
       "    </tr>\n",
       "    <tr>\n",
       "      <th>995</th>\n",
       "      <td>1.639581</td>\n",
       "      <td>True</td>\n",
       "      <td>6.701441</td>\n",
       "      <td>0.983800</td>\n",
       "      <td>1.016467</td>\n",
       "    </tr>\n",
       "    <tr>\n",
       "      <th>996</th>\n",
       "      <td>-0.531598</td>\n",
       "      <td>True</td>\n",
       "      <td>3.378509</td>\n",
       "      <td>0.215352</td>\n",
       "      <td>4.643555</td>\n",
       "    </tr>\n",
       "    <tr>\n",
       "      <th>997</th>\n",
       "      <td>-0.092236</td>\n",
       "      <td>True</td>\n",
       "      <td>2.428213</td>\n",
       "      <td>0.450082</td>\n",
       "      <td>2.221818</td>\n",
       "    </tr>\n",
       "    <tr>\n",
       "      <th>998</th>\n",
       "      <td>-0.941105</td>\n",
       "      <td>True</td>\n",
       "      <td>4.461628</td>\n",
       "      <td>0.090189</td>\n",
       "      <td>11.087867</td>\n",
       "    </tr>\n",
       "    <tr>\n",
       "      <th>999</th>\n",
       "      <td>1.295224</td>\n",
       "      <td>True</td>\n",
       "      <td>8.842677</td>\n",
       "      <td>0.962675</td>\n",
       "      <td>1.038773</td>\n",
       "    </tr>\n",
       "  </tbody>\n",
       "</table>\n",
       "<p>1000 rows × 5 columns</p>\n",
       "</div>"
      ],
      "text/plain": [
       "           W0    v0         y  propensity_score     weight\n",
       "0    2.046653  True  6.181600          0.994052   1.005984\n",
       "1   -0.930208  True  4.919513          0.092437  10.818185\n",
       "2    1.105351  True  5.948954          0.941468   1.062171\n",
       "3    0.412320  True  6.443554          0.741620   1.348399\n",
       "4    0.011018  True  5.389004          0.514106   1.945126\n",
       "..        ...   ...       ...               ...        ...\n",
       "995  1.639581  True  6.701441          0.983800   1.016467\n",
       "996 -0.531598  True  3.378509          0.215352   4.643555\n",
       "997 -0.092236  True  2.428213          0.450082   2.221818\n",
       "998 -0.941105  True  4.461628          0.090189  11.087867\n",
       "999  1.295224  True  8.842677          0.962675   1.038773\n",
       "\n",
       "[1000 rows x 5 columns]"
      ]
     },
     "execution_count": 7,
     "metadata": {},
     "output_type": "execute_result"
    }
   ],
   "source": [
    "cdf_1"
   ]
  },
  {
   "cell_type": "markdown",
   "metadata": {},
   "source": [
    "## Comparing the estimate to Linear Regression\n",
    "First, estimating the effect using the causal data frame, and the 95% confidence interval."
   ]
  },
  {
   "cell_type": "code",
   "execution_count": 8,
   "metadata": {
    "execution": {
     "iopub.execute_input": "2024-01-18T17:12:43.354320Z",
     "iopub.status.busy": "2024-01-18T17:12:43.354125Z",
     "iopub.status.idle": "2024-01-18T17:12:43.402267Z",
     "shell.execute_reply": "2024-01-18T17:12:43.401580Z"
    }
   },
   "outputs": [
    {
     "data": {
      "image/png": "[encoded data removed]",
      "text/latex": [
       "$\\displaystyle 5.29919197690556$"
      ],
      "text/plain": [
       "5.299191976905561"
      ]
     },
     "execution_count": 8,
     "metadata": {},
     "output_type": "execute_result"
    }
   ],
   "source": [
    "(cdf_1['y'] - cdf_0['y']).mean()"
   ]
  },
  {
   "cell_type": "code",
   "execution_count": 9,
   "metadata": {
    "execution": {
     "iopub.execute_input": "2024-01-18T17:12:43.404855Z",
     "iopub.status.busy": "2024-01-18T17:12:43.404505Z",
     "iopub.status.idle": "2024-01-18T17:12:43.422010Z",
     "shell.execute_reply": "2024-01-18T17:12:43.421374Z"
    }
   },
   "outputs": [
    {
     "data": {
      "image/png": "[encoded data removed]",
      "text/latex": [
       "$\\displaystyle 0.159773025984098$"
      ],
      "text/plain": [
       "0.15977302598409826"
      ]
     },
     "execution_count": 9,
     "metadata": {},
     "output_type": "execute_result"
    }
   ],
   "source": [
    "1.96*(cdf_1['y'] - cdf_0['y']).std() / np.sqrt(len(df))"
   ]
  },
  {
   "cell_type": "markdown",
   "metadata": {},
   "source": [
    "Comparing to the estimate from OLS."
   ]
  },
  {
   "cell_type": "code",
   "execution_count": 10,
   "metadata": {
    "execution": {
     "iopub.execute_input": "2024-01-18T17:12:43.424494Z",
     "iopub.status.busy": "2024-01-18T17:12:43.424181Z",
     "iopub.status.idle": "2024-01-18T17:12:43.443316Z",
     "shell.execute_reply": "2024-01-18T17:12:43.442642Z"
    }
   },
   "outputs": [
    {
     "data": {
      "text/html": [
       "<table class=\"simpletable\">\n",
       "<caption>OLS Regression Results</caption>\n",
       "<tr>\n",
       "  <th>Dep. Variable:</th>            <td>y</td>        <th>  R-squared (uncentered):</th>      <td>   0.957</td> \n",
       "</tr>\n",
       "<tr>\n",
       "  <th>Model:</th>                   <td>OLS</td>       <th>  Adj. R-squared (uncentered):</th> <td>   0.957</td> \n",
       "</tr>\n",
       "<tr>\n",
       "  <th>Method:</th>             <td>Least Squares</td>  <th>  F-statistic:       </th>          <td>1.119e+04</td>\n",
       "</tr>\n",
       "<tr>\n",
       "  <th>Date:</th>             <td>Thu, 18 Jan 2024</td> <th>  Prob (F-statistic):</th>           <td>  0.00</td>  \n",
       "</tr>\n",
       "<tr>\n",
       "  <th>Time:</th>                 <td>17:12:43</td>     <th>  Log-Likelihood:    </th>          <td> -1400.7</td> \n",
       "</tr>\n",
       "<tr>\n",
       "  <th>No. Observations:</th>      <td>  1000</td>      <th>  AIC:               </th>          <td>   2805.</td> \n",
       "</tr>\n",
       "<tr>\n",
       "  <th>Df Residuals:</th>          <td>   998</td>      <th>  BIC:               </th>          <td>   2815.</td> \n",
       "</tr>\n",
       "<tr>\n",
       "  <th>Df Model:</th>              <td>     2</td>      <th>                     </th>              <td> </td>    \n",
       "</tr>\n",
       "<tr>\n",
       "  <th>Covariance Type:</th>      <td>nonrobust</td>    <th>                     </th>              <td> </td>    \n",
       "</tr>\n",
       "</table>\n",
       "<table class=\"simpletable\">\n",
       "<tr>\n",
       "   <td></td>     <th>coef</th>     <th>std err</th>      <th>t</th>      <th>P>|t|</th>  <th>[0.025</th>    <th>0.975]</th>  \n",
       "</tr>\n",
       "<tr>\n",
       "  <th>x1</th> <td>    1.6411</td> <td>    0.035</td> <td>   46.855</td> <td> 0.000</td> <td>    1.572</td> <td>    1.710</td>\n",
       "</tr>\n",
       "<tr>\n",
       "  <th>x2</th> <td>    4.8991</td> <td>    0.050</td> <td>   98.917</td> <td> 0.000</td> <td>    4.802</td> <td>    4.996</td>\n",
       "</tr>\n",
       "</table>\n",
       "<table class=\"simpletable\">\n",
       "<tr>\n",
       "  <th>Omnibus:</th>       <td> 0.724</td> <th>  Durbin-Watson:     </th> <td>   1.953</td>\n",
       "</tr>\n",
       "<tr>\n",
       "  <th>Prob(Omnibus):</th> <td> 0.696</td> <th>  Jarque-Bera (JB):  </th> <td>   0.809</td>\n",
       "</tr>\n",
       "<tr>\n",
       "  <th>Skew:</th>          <td> 0.044</td> <th>  Prob(JB):          </th> <td>   0.667</td>\n",
       "</tr>\n",
       "<tr>\n",
       "  <th>Kurtosis:</th>      <td> 2.893</td> <th>  Cond. No.          </th> <td>    1.94</td>\n",
       "</tr>\n",
       "</table><br/><br/>Notes:<br/>[1] R² is computed without centering (uncentered) since the model does not contain a constant.<br/>[2] Standard Errors assume that the covariance matrix of the errors is correctly specified."
      ],
      "text/latex": [
       "\\begin{center}\n",
       "\\begin{tabular}{lclc}\n",
       "\\toprule\n",
       "\\textbf{Dep. Variable:}    &        y         & \\textbf{  R-squared (uncentered):}      &     0.957   \\\\\n",
       "\\textbf{Model:}            &       OLS        & \\textbf{  Adj. R-squared (uncentered):} &     0.957   \\\\\n",
       "\\textbf{Method:}           &  Least Squares   & \\textbf{  F-statistic:       }          & 1.119e+04   \\\\\n",
       "\\textbf{Date:}             & Thu, 18 Jan 2024 & \\textbf{  Prob (F-statistic):}          &     0.00    \\\\\n",
       "\\textbf{Time:}             &     17:12:43     & \\textbf{  Log-Likelihood:    }          &   -1400.7   \\\\\n",
       "\\textbf{No. Observations:} &        1000      & \\textbf{  AIC:               }          &     2805.   \\\\\n",
       "\\textbf{Df Residuals:}     &         998      & \\textbf{  BIC:               }          &     2815.   \\\\\n",
       "\\textbf{Df Model:}         &           2      & \\textbf{                     }          &             \\\\\n",
       "\\textbf{Covariance Type:}  &    nonrobust     & \\textbf{                     }          &             \\\\\n",
       "\\bottomrule\n",
       "\\end{tabular}\n",
       "\\begin{tabular}{lcccccc}\n",
       "            & \\textbf{coef} & \\textbf{std err} & \\textbf{t} & \\textbf{P$> |$t$|$} & \\textbf{[0.025} & \\textbf{0.975]}  \\\\\n",
       "\\midrule\n",
       "\\textbf{x1} &       1.6411  &        0.035     &    46.855  &         0.000        &        1.572    &        1.710     \\\\\n",
       "\\textbf{x2} &       4.8991  &        0.050     &    98.917  &         0.000        &        4.802    &        4.996     \\\\\n",
       "\\bottomrule\n",
       "\\end{tabular}\n",
       "\\begin{tabular}{lclc}\n",
       "\\textbf{Omnibus:}       &  0.724 & \\textbf{  Durbin-Watson:     } &    1.953  \\\\\n",
       "\\textbf{Prob(Omnibus):} &  0.696 & \\textbf{  Jarque-Bera (JB):  } &    0.809  \\\\\n",
       "\\textbf{Skew:}          &  0.044 & \\textbf{  Prob(JB):          } &    0.667  \\\\\n",
       "\\textbf{Kurtosis:}      &  2.893 & \\textbf{  Cond. No.          } &     1.94  \\\\\n",
       "\\bottomrule\n",
       "\\end{tabular}\n",
       "%\\caption{OLS Regression Results}\n",
       "\\end{center}\n",
       "\n",
       "Notes: \\newline\n",
       " [1] R² is computed without centering (uncentered) since the model does not contain a constant. \\newline\n",
       " [2] Standard Errors assume that the covariance matrix of the errors is correctly specified."
      ],
      "text/plain": [
       "<class 'statsmodels.iolib.summary.Summary'>\n",
       "\"\"\"\n",
       "                                 OLS Regression Results                                \n",
       "=======================================================================================\n",
       "Dep. Variable:                      y   R-squared (uncentered):                   0.957\n",
       "Model:                            OLS   Adj. R-squared (uncentered):              0.957\n",
       "Method:                 Least Squares   F-statistic:                          1.119e+04\n",
       "Date:                Thu, 18 Jan 2024   Prob (F-statistic):                        0.00\n",
       "Time:                        17:12:43   Log-Likelihood:                         -1400.7\n",
       "No. Observations:                1000   AIC:                                      2805.\n",
       "Df Residuals:                     998   BIC:                                      2815.\n",
       "Df Model:                           2                                                  \n",
       "Covariance Type:            nonrobust                                                  \n",
       "==============================================================================\n",
       "                 coef    std err          t      P>|t|      [0.025      0.975]\n",
       "------------------------------------------------------------------------------\n",
       "x1             1.6411      0.035     46.855      0.000       1.572       1.710\n",
       "x2             4.8991      0.050     98.917      0.000       4.802       4.996\n",
       "==============================================================================\n",
       "Omnibus:                        0.724   Durbin-Watson:                   1.953\n",
       "Prob(Omnibus):                  0.696   Jarque-Bera (JB):                0.809\n",
       "Skew:                           0.044   Prob(JB):                        0.667\n",
       "Kurtosis:                       2.893   Cond. No.                         1.94\n",
       "==============================================================================\n",
       "\n",
       "Notes:\n",
       "[1] R² is computed without centering (uncentered) since the model does not contain a constant.\n",
       "[2] Standard Errors assume that the covariance matrix of the errors is correctly specified.\n",
       "\"\"\""
      ]
     },
     "execution_count": 10,
     "metadata": {},
     "output_type": "execute_result"
    }
   ],
   "source": [
    "model = OLS(np.asarray(df[outcome]), np.asarray(df[[common_cause, treatment]], dtype=np.float64))\n",
    "result = model.fit()\n",
    "result.summary()"
   ]
  }
 ],
 "metadata": {
  "kernelspec": {
   "display_name": "Python 3 (ipykernel)",
   "language": "python",
   "name": "python3"
  },
  "language_info": {
   "codemirror_mode": {
    "name": "ipython",
    "version": 3
   },
   "file_extension": ".py",
   "mimetype": "text/x-python",
   "name": "python",
   "nbconvert_exporter": "python",
   "pygments_lexer": "ipython3",
   "version": "3.8.10"
  },
  "toc": {
   "base_numbering": 1,
   "nav_menu": {},
   "number_sections": false,
   "sideBar": true,
   "skip_h1_title": true,
   "title_cell": "Table of Contents",
   "title_sidebar": "Contents",
   "toc_cell": false,
   "toc_position": {},
   "toc_section_display": true,
   "toc_window_display": false
  }
 },
 "nbformat": 4,
 "nbformat_minor": 4
}
