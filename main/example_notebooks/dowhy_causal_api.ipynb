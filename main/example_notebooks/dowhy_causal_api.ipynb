{
 "cells": [
  {
   "cell_type": "markdown",
   "metadata": {},
   "source": [
    "# Demo for the DoWhy causal API\n",
    "We show a simple example of adding a causal extension to any dataframe. "
   ]
  },
  {
   "cell_type": "code",
   "execution_count": 1,
   "metadata": {
    "execution": {
     "iopub.execute_input": "2023-11-21T16:02:17.000204Z",
     "iopub.status.busy": "2023-11-21T16:02:17.000031Z",
     "iopub.status.idle": "2023-11-21T16:02:18.358515Z",
     "shell.execute_reply": "2023-11-21T16:02:18.357973Z"
    }
   },
   "outputs": [],
   "source": [
    "import dowhy.datasets\n",
    "import dowhy.api\n",
    "\n",
    "import numpy as np\n",
    "import pandas as pd\n",
    "\n",
    "from statsmodels.api import OLS"
   ]
  },
  {
   "cell_type": "code",
   "execution_count": 2,
   "metadata": {
    "execution": {
     "iopub.execute_input": "2023-11-21T16:02:18.361396Z",
     "iopub.status.busy": "2023-11-21T16:02:18.360872Z",
     "iopub.status.idle": "2023-11-21T16:02:18.393787Z",
     "shell.execute_reply": "2023-11-21T16:02:18.393218Z"
    }
   },
   "outputs": [
    {
     "data": {
      "text/html": [
       "<div>\n",
       "<style scoped>\n",
       "    .dataframe tbody tr th:only-of-type {\n",
       "        vertical-align: middle;\n",
       "    }\n",
       "\n",
       "    .dataframe tbody tr th {\n",
       "        vertical-align: top;\n",
       "    }\n",
       "\n",
       "    .dataframe thead th {\n",
       "        text-align: right;\n",
       "    }\n",
       "</style>\n",
       "<table border=\"1\" class=\"dataframe\">\n",
       "  <thead>\n",
       "    <tr style=\"text-align: right;\">\n",
       "      <th></th>\n",
       "      <th>W0</th>\n",
       "      <th>v0</th>\n",
       "      <th>y</th>\n",
       "    </tr>\n",
       "  </thead>\n",
       "  <tbody>\n",
       "    <tr>\n",
       "      <th>0</th>\n",
       "      <td>0.065069</td>\n",
       "      <td>True</td>\n",
       "      <td>7.246121</td>\n",
       "    </tr>\n",
       "    <tr>\n",
       "      <th>1</th>\n",
       "      <td>-0.262273</td>\n",
       "      <td>True</td>\n",
       "      <td>5.443472</td>\n",
       "    </tr>\n",
       "    <tr>\n",
       "      <th>2</th>\n",
       "      <td>-1.822224</td>\n",
       "      <td>False</td>\n",
       "      <td>-3.271637</td>\n",
       "    </tr>\n",
       "    <tr>\n",
       "      <th>3</th>\n",
       "      <td>-1.364950</td>\n",
       "      <td>True</td>\n",
       "      <td>2.124164</td>\n",
       "    </tr>\n",
       "    <tr>\n",
       "      <th>4</th>\n",
       "      <td>-2.021841</td>\n",
       "      <td>False</td>\n",
       "      <td>-2.010787</td>\n",
       "    </tr>\n",
       "    <tr>\n",
       "      <th>...</th>\n",
       "      <td>...</td>\n",
       "      <td>...</td>\n",
       "      <td>...</td>\n",
       "    </tr>\n",
       "    <tr>\n",
       "      <th>995</th>\n",
       "      <td>-1.568119</td>\n",
       "      <td>False</td>\n",
       "      <td>-1.326426</td>\n",
       "    </tr>\n",
       "    <tr>\n",
       "      <th>996</th>\n",
       "      <td>1.031200</td>\n",
       "      <td>True</td>\n",
       "      <td>7.580836</td>\n",
       "    </tr>\n",
       "    <tr>\n",
       "      <th>997</th>\n",
       "      <td>-0.226644</td>\n",
       "      <td>True</td>\n",
       "      <td>5.539193</td>\n",
       "    </tr>\n",
       "    <tr>\n",
       "      <th>998</th>\n",
       "      <td>-2.300363</td>\n",
       "      <td>False</td>\n",
       "      <td>-2.969549</td>\n",
       "    </tr>\n",
       "    <tr>\n",
       "      <th>999</th>\n",
       "      <td>-0.754870</td>\n",
       "      <td>True</td>\n",
       "      <td>3.122603</td>\n",
       "    </tr>\n",
       "  </tbody>\n",
       "</table>\n",
       "<p>1000 rows × 3 columns</p>\n",
       "</div>"
      ],
      "text/plain": [
       "           W0     v0         y\n",
       "0    0.065069   True  7.246121\n",
       "1   -0.262273   True  5.443472\n",
       "2   -1.822224  False -3.271637\n",
       "3   -1.364950   True  2.124164\n",
       "4   -2.021841  False -2.010787\n",
       "..        ...    ...       ...\n",
       "995 -1.568119  False -1.326426\n",
       "996  1.031200   True  7.580836\n",
       "997 -0.226644   True  5.539193\n",
       "998 -2.300363  False -2.969549\n",
       "999 -0.754870   True  3.122603\n",
       "\n",
       "[1000 rows x 3 columns]"
      ]
     },
     "execution_count": 2,
     "metadata": {},
     "output_type": "execute_result"
    }
   ],
   "source": [
    "data = dowhy.datasets.linear_dataset(beta=5,\n",
    "        num_common_causes=1,\n",
    "        num_instruments = 0,\n",
    "        num_samples=1000,\n",
    "        treatment_is_binary=True)\n",
    "df = data['df']\n",
    "df['y'] = df['y'] + np.random.normal(size=len(df)) # Adding noise to data. Without noise, the variance in Y|X, Z is zero, and mcmc fails.\n",
    "#data['dot_graph'] = 'digraph { v ->y;X0-> v;X0-> y;}'\n",
    "\n",
    "treatment= data[\"treatment_name\"][0]\n",
    "outcome = data[\"outcome_name\"][0]\n",
    "common_cause = data[\"common_causes_names\"][0]\n",
    "df"
   ]
  },
  {
   "cell_type": "code",
   "execution_count": 3,
   "metadata": {
    "execution": {
     "iopub.execute_input": "2023-11-21T16:02:18.396094Z",
     "iopub.status.busy": "2023-11-21T16:02:18.395754Z",
     "iopub.status.idle": "2023-11-21T16:02:18.549133Z",
     "shell.execute_reply": "2023-11-21T16:02:18.548441Z"
    }
   },
   "outputs": [
    {
     "data": {
      "text/plain": [
       "<Axes: xlabel='v0'>"
      ]
     },
     "execution_count": 3,
     "metadata": {},
     "output_type": "execute_result"
    },
    {
     "data": {
      "image/png": "[encoded data removed]",
      "text/plain": [
       "<Figure size 640x480 with 1 Axes>"
      ]
     },
     "metadata": {},
     "output_type": "display_data"
    }
   ],
   "source": [
    "# data['df'] is just a regular pandas.DataFrame\n",
    "df.causal.do(x=treatment,\n",
    "                     variable_types={treatment: 'b', outcome: 'c', common_cause: 'c'},\n",
    "                     outcome=outcome,\n",
    "                     common_causes=[common_cause],\n",
    "                     proceed_when_unidentifiable=True).groupby(treatment).mean().plot(y=outcome, kind='bar')"
   ]
  },
  {
   "cell_type": "code",
   "execution_count": 4,
   "metadata": {
    "execution": {
     "iopub.execute_input": "2023-11-21T16:02:18.551585Z",
     "iopub.status.busy": "2023-11-21T16:02:18.551400Z",
     "iopub.status.idle": "2023-11-21T16:02:18.654100Z",
     "shell.execute_reply": "2023-11-21T16:02:18.653349Z"
    }
   },
   "outputs": [
    {
     "data": {
      "text/plain": [
       "<Axes: xlabel='v0'>"
      ]
     },
     "execution_count": 4,
     "metadata": {},
     "output_type": "execute_result"
    },
    {
     "data": {
      "image/png": "[encoded data removed]",
      "text/plain": [
       "<Figure size 640x480 with 1 Axes>"
      ]
     },
     "metadata": {},
     "output_type": "display_data"
    }
   ],
   "source": [
    "df.causal.do(x={treatment: 1}, \n",
    "              variable_types={treatment:'b', outcome: 'c', common_cause: 'c'}, \n",
    "              outcome=outcome,\n",
    "              method='weighting', \n",
    "              common_causes=[common_cause],\n",
    "              proceed_when_unidentifiable=True).groupby(treatment).mean().plot(y=outcome, kind='bar')"
   ]
  },
  {
   "cell_type": "code",
   "execution_count": 5,
   "metadata": {
    "execution": {
     "iopub.execute_input": "2023-11-21T16:02:18.656949Z",
     "iopub.status.busy": "2023-11-21T16:02:18.656399Z",
     "iopub.status.idle": "2023-11-21T16:02:18.683417Z",
     "shell.execute_reply": "2023-11-21T16:02:18.682740Z"
    }
   },
   "outputs": [],
   "source": [
    "cdf_1 = df.causal.do(x={treatment: 1}, \n",
    "              variable_types={treatment: 'b', outcome: 'c', common_cause: 'c'}, \n",
    "              outcome=outcome, \n",
    "              dot_graph=data['dot_graph'],\n",
    "              proceed_when_unidentifiable=True)\n",
    "\n",
    "cdf_0 = df.causal.do(x={treatment: 0}, \n",
    "              variable_types={treatment: 'b', outcome: 'c', common_cause: 'c'}, \n",
    "              outcome=outcome, \n",
    "              dot_graph=data['dot_graph'],\n",
    "              proceed_when_unidentifiable=True)\n"
   ]
  },
  {
   "cell_type": "code",
   "execution_count": 6,
   "metadata": {
    "execution": {
     "iopub.execute_input": "2023-11-21T16:02:18.686073Z",
     "iopub.status.busy": "2023-11-21T16:02:18.685881Z",
     "iopub.status.idle": "2023-11-21T16:02:18.695349Z",
     "shell.execute_reply": "2023-11-21T16:02:18.694594Z"
    },
    "scrolled": true
   },
   "outputs": [
    {
     "data": {
      "text/html": [
       "<div>\n",
       "<style scoped>\n",
       "    .dataframe tbody tr th:only-of-type {\n",
       "        vertical-align: middle;\n",
       "    }\n",
       "\n",
       "    .dataframe tbody tr th {\n",
       "        vertical-align: top;\n",
       "    }\n",
       "\n",
       "    .dataframe thead th {\n",
       "        text-align: right;\n",
       "    }\n",
       "</style>\n",
       "<table border=\"1\" class=\"dataframe\">\n",
       "  <thead>\n",
       "    <tr style=\"text-align: right;\">\n",
       "      <th></th>\n",
       "      <th>W0</th>\n",
       "      <th>v0</th>\n",
       "      <th>y</th>\n",
       "      <th>propensity_score</th>\n",
       "      <th>weight</th>\n",
       "    </tr>\n",
       "  </thead>\n",
       "  <tbody>\n",
       "    <tr>\n",
       "      <th>0</th>\n",
       "      <td>-0.428199</td>\n",
       "      <td>False</td>\n",
       "      <td>-0.848334</td>\n",
       "      <td>0.593672</td>\n",
       "      <td>1.684432</td>\n",
       "    </tr>\n",
       "    <tr>\n",
       "      <th>1</th>\n",
       "      <td>-1.477214</td>\n",
       "      <td>False</td>\n",
       "      <td>-1.250018</td>\n",
       "      <td>0.829076</td>\n",
       "      <td>1.206163</td>\n",
       "    </tr>\n",
       "    <tr>\n",
       "      <th>2</th>\n",
       "      <td>-1.642113</td>\n",
       "      <td>False</td>\n",
       "      <td>-1.901263</td>\n",
       "      <td>0.854173</td>\n",
       "      <td>1.170723</td>\n",
       "    </tr>\n",
       "    <tr>\n",
       "      <th>3</th>\n",
       "      <td>-0.526263</td>\n",
       "      <td>False</td>\n",
       "      <td>-1.305132</td>\n",
       "      <td>0.620421</td>\n",
       "      <td>1.611808</td>\n",
       "    </tr>\n",
       "    <tr>\n",
       "      <th>4</th>\n",
       "      <td>-0.259714</td>\n",
       "      <td>False</td>\n",
       "      <td>-1.872567</td>\n",
       "      <td>0.546476</td>\n",
       "      <td>1.829906</td>\n",
       "    </tr>\n",
       "    <tr>\n",
       "      <th>...</th>\n",
       "      <td>...</td>\n",
       "      <td>...</td>\n",
       "      <td>...</td>\n",
       "      <td>...</td>\n",
       "      <td>...</td>\n",
       "    </tr>\n",
       "    <tr>\n",
       "      <th>995</th>\n",
       "      <td>-2.195415</td>\n",
       "      <td>False</td>\n",
       "      <td>-1.800015</td>\n",
       "      <td>0.916874</td>\n",
       "      <td>1.090663</td>\n",
       "    </tr>\n",
       "    <tr>\n",
       "      <th>996</th>\n",
       "      <td>-0.376351</td>\n",
       "      <td>False</td>\n",
       "      <td>0.213817</td>\n",
       "      <td>0.579290</td>\n",
       "      <td>1.726251</td>\n",
       "    </tr>\n",
       "    <tr>\n",
       "      <th>997</th>\n",
       "      <td>-2.011811</td>\n",
       "      <td>False</td>\n",
       "      <td>-0.606252</td>\n",
       "      <td>0.899402</td>\n",
       "      <td>1.111850</td>\n",
       "    </tr>\n",
       "    <tr>\n",
       "      <th>998</th>\n",
       "      <td>-2.384784</td>\n",
       "      <td>False</td>\n",
       "      <td>-2.746509</td>\n",
       "      <td>0.931962</td>\n",
       "      <td>1.073005</td>\n",
       "    </tr>\n",
       "    <tr>\n",
       "      <th>999</th>\n",
       "      <td>-1.633336</td>\n",
       "      <td>False</td>\n",
       "      <td>-2.979589</td>\n",
       "      <td>0.852918</td>\n",
       "      <td>1.172446</td>\n",
       "    </tr>\n",
       "  </tbody>\n",
       "</table>\n",
       "<p>1000 rows × 5 columns</p>\n",
       "</div>"
      ],
      "text/plain": [
       "           W0     v0         y  propensity_score    weight\n",
       "0   -0.428199  False -0.848334          0.593672  1.684432\n",
       "1   -1.477214  False -1.250018          0.829076  1.206163\n",
       "2   -1.642113  False -1.901263          0.854173  1.170723\n",
       "3   -0.526263  False -1.305132          0.620421  1.611808\n",
       "4   -0.259714  False -1.872567          0.546476  1.829906\n",
       "..        ...    ...       ...               ...       ...\n",
       "995 -2.195415  False -1.800015          0.916874  1.090663\n",
       "996 -0.376351  False  0.213817          0.579290  1.726251\n",
       "997 -2.011811  False -0.606252          0.899402  1.111850\n",
       "998 -2.384784  False -2.746509          0.931962  1.073005\n",
       "999 -1.633336  False -2.979589          0.852918  1.172446\n",
       "\n",
       "[1000 rows x 5 columns]"
      ]
     },
     "execution_count": 6,
     "metadata": {},
     "output_type": "execute_result"
    }
   ],
   "source": [
    "cdf_0"
   ]
  },
  {
   "cell_type": "code",
   "execution_count": 7,
   "metadata": {
    "execution": {
     "iopub.execute_input": "2023-11-21T16:02:18.697651Z",
     "iopub.status.busy": "2023-11-21T16:02:18.697302Z",
     "iopub.status.idle": "2023-11-21T16:02:18.705662Z",
     "shell.execute_reply": "2023-11-21T16:02:18.705099Z"
    }
   },
   "outputs": [
    {
     "data": {
      "text/html": [
       "<div>\n",
       "<style scoped>\n",
       "    .dataframe tbody tr th:only-of-type {\n",
       "        vertical-align: middle;\n",
       "    }\n",
       "\n",
       "    .dataframe tbody tr th {\n",
       "        vertical-align: top;\n",
       "    }\n",
       "\n",
       "    .dataframe thead th {\n",
       "        text-align: right;\n",
       "    }\n",
       "</style>\n",
       "<table border=\"1\" class=\"dataframe\">\n",
       "  <thead>\n",
       "    <tr style=\"text-align: right;\">\n",
       "      <th></th>\n",
       "      <th>W0</th>\n",
       "      <th>v0</th>\n",
       "      <th>y</th>\n",
       "      <th>propensity_score</th>\n",
       "      <th>weight</th>\n",
       "    </tr>\n",
       "  </thead>\n",
       "  <tbody>\n",
       "    <tr>\n",
       "      <th>0</th>\n",
       "      <td>-0.322957</td>\n",
       "      <td>True</td>\n",
       "      <td>4.398594</td>\n",
       "      <td>0.435663</td>\n",
       "      <td>2.295353</td>\n",
       "    </tr>\n",
       "    <tr>\n",
       "      <th>1</th>\n",
       "      <td>-2.210699</td>\n",
       "      <td>True</td>\n",
       "      <td>2.822974</td>\n",
       "      <td>0.081803</td>\n",
       "      <td>12.224434</td>\n",
       "    </tr>\n",
       "    <tr>\n",
       "      <th>2</th>\n",
       "      <td>-0.492647</td>\n",
       "      <td>True</td>\n",
       "      <td>5.196297</td>\n",
       "      <td>0.388675</td>\n",
       "      <td>2.572843</td>\n",
       "    </tr>\n",
       "    <tr>\n",
       "      <th>3</th>\n",
       "      <td>0.127491</td>\n",
       "      <td>True</td>\n",
       "      <td>5.745793</td>\n",
       "      <td>0.563767</td>\n",
       "      <td>1.773782</td>\n",
       "    </tr>\n",
       "    <tr>\n",
       "      <th>4</th>\n",
       "      <td>-0.716163</td>\n",
       "      <td>True</td>\n",
       "      <td>4.849278</td>\n",
       "      <td>0.329918</td>\n",
       "      <td>3.031057</td>\n",
       "    </tr>\n",
       "    <tr>\n",
       "      <th>...</th>\n",
       "      <td>...</td>\n",
       "      <td>...</td>\n",
       "      <td>...</td>\n",
       "      <td>...</td>\n",
       "      <td>...</td>\n",
       "    </tr>\n",
       "    <tr>\n",
       "      <th>995</th>\n",
       "      <td>-1.420288</td>\n",
       "      <td>True</td>\n",
       "      <td>3.906401</td>\n",
       "      <td>0.180351</td>\n",
       "      <td>5.544758</td>\n",
       "    </tr>\n",
       "    <tr>\n",
       "      <th>996</th>\n",
       "      <td>-2.582662</td>\n",
       "      <td>True</td>\n",
       "      <td>2.056397</td>\n",
       "      <td>0.055015</td>\n",
       "      <td>18.176908</td>\n",
       "    </tr>\n",
       "    <tr>\n",
       "      <th>997</th>\n",
       "      <td>-0.728376</td>\n",
       "      <td>True</td>\n",
       "      <td>2.970741</td>\n",
       "      <td>0.326837</td>\n",
       "      <td>3.059630</td>\n",
       "    </tr>\n",
       "    <tr>\n",
       "      <th>998</th>\n",
       "      <td>-1.648046</td>\n",
       "      <td>True</td>\n",
       "      <td>2.462537</td>\n",
       "      <td>0.144984</td>\n",
       "      <td>6.897316</td>\n",
       "    </tr>\n",
       "    <tr>\n",
       "      <th>999</th>\n",
       "      <td>-0.669577</td>\n",
       "      <td>True</td>\n",
       "      <td>3.524504</td>\n",
       "      <td>0.341803</td>\n",
       "      <td>2.925659</td>\n",
       "    </tr>\n",
       "  </tbody>\n",
       "</table>\n",
       "<p>1000 rows × 5 columns</p>\n",
       "</div>"
      ],
      "text/plain": [
       "           W0    v0         y  propensity_score     weight\n",
       "0   -0.322957  True  4.398594          0.435663   2.295353\n",
       "1   -2.210699  True  2.822974          0.081803  12.224434\n",
       "2   -0.492647  True  5.196297          0.388675   2.572843\n",
       "3    0.127491  True  5.745793          0.563767   1.773782\n",
       "4   -0.716163  True  4.849278          0.329918   3.031057\n",
       "..        ...   ...       ...               ...        ...\n",
       "995 -1.420288  True  3.906401          0.180351   5.544758\n",
       "996 -2.582662  True  2.056397          0.055015  18.176908\n",
       "997 -0.728376  True  2.970741          0.326837   3.059630\n",
       "998 -1.648046  True  2.462537          0.144984   6.897316\n",
       "999 -0.669577  True  3.524504          0.341803   2.925659\n",
       "\n",
       "[1000 rows x 5 columns]"
      ]
     },
     "execution_count": 7,
     "metadata": {},
     "output_type": "execute_result"
    }
   ],
   "source": [
    "cdf_1"
   ]
  },
  {
   "cell_type": "markdown",
   "metadata": {},
   "source": [
    "## Comparing the estimate to Linear Regression\n",
    "First, estimating the effect using the causal data frame, and the 95% confidence interval."
   ]
  },
  {
   "cell_type": "code",
   "execution_count": 8,
   "metadata": {
    "execution": {
     "iopub.execute_input": "2023-11-21T16:02:18.707912Z",
     "iopub.status.busy": "2023-11-21T16:02:18.707563Z",
     "iopub.status.idle": "2023-11-21T16:02:18.755154Z",
     "shell.execute_reply": "2023-11-21T16:02:18.754483Z"
    }
   },
   "outputs": [
    {
     "data": {
      "image/png": "[encoded data removed]",
      "text/latex": [
       "$\\displaystyle 4.96917850004967$"
      ],
      "text/plain": [
       "4.969178500049674"
      ]
     },
     "execution_count": 8,
     "metadata": {},
     "output_type": "execute_result"
    }
   ],
   "source": [
    "(cdf_1['y'] - cdf_0['y']).mean()"
   ]
  },
  {
   "cell_type": "code",
   "execution_count": 9,
   "metadata": {
    "execution": {
     "iopub.execute_input": "2023-11-21T16:02:18.757493Z",
     "iopub.status.busy": "2023-11-21T16:02:18.757128Z",
     "iopub.status.idle": "2023-11-21T16:02:18.773958Z",
     "shell.execute_reply": "2023-11-21T16:02:18.773464Z"
    }
   },
   "outputs": [
    {
     "data": {
      "image/png": "[encoded data removed]",
      "text/latex": [
       "$\\displaystyle 0.138814071766321$"
      ],
      "text/plain": [
       "0.13881407176632124"
      ]
     },
     "execution_count": 9,
     "metadata": {},
     "output_type": "execute_result"
    }
   ],
   "source": [
    "1.96*(cdf_1['y'] - cdf_0['y']).std() / np.sqrt(len(df))"
   ]
  },
  {
   "cell_type": "markdown",
   "metadata": {},
   "source": [
    "Comparing to the estimate from OLS."
   ]
  },
  {
   "cell_type": "code",
   "execution_count": 10,
   "metadata": {
    "execution": {
     "iopub.execute_input": "2023-11-21T16:02:18.776173Z",
     "iopub.status.busy": "2023-11-21T16:02:18.775892Z",
     "iopub.status.idle": "2023-11-21T16:02:18.794025Z",
     "shell.execute_reply": "2023-11-21T16:02:18.793392Z"
    }
   },
   "outputs": [
    {
     "data": {
      "text/html": [
       "<table class=\"simpletable\">\n",
       "<caption>OLS Regression Results</caption>\n",
       "<tr>\n",
       "  <th>Dep. Variable:</th>            <td>y</td>        <th>  R-squared (uncentered):</th>      <td>   0.922</td>\n",
       "</tr>\n",
       "<tr>\n",
       "  <th>Model:</th>                   <td>OLS</td>       <th>  Adj. R-squared (uncentered):</th> <td>   0.922</td>\n",
       "</tr>\n",
       "<tr>\n",
       "  <th>Method:</th>             <td>Least Squares</td>  <th>  F-statistic:       </th>          <td>   5929.</td>\n",
       "</tr>\n",
       "<tr>\n",
       "  <th>Date:</th>             <td>Tue, 21 Nov 2023</td> <th>  Prob (F-statistic):</th>           <td>  0.00</td> \n",
       "</tr>\n",
       "<tr>\n",
       "  <th>Time:</th>                 <td>16:02:18</td>     <th>  Log-Likelihood:    </th>          <td> -1411.8</td>\n",
       "</tr>\n",
       "<tr>\n",
       "  <th>No. Observations:</th>      <td>  1000</td>      <th>  AIC:               </th>          <td>   2828.</td>\n",
       "</tr>\n",
       "<tr>\n",
       "  <th>Df Residuals:</th>          <td>   998</td>      <th>  BIC:               </th>          <td>   2837.</td>\n",
       "</tr>\n",
       "<tr>\n",
       "  <th>Df Model:</th>              <td>     2</td>      <th>                     </th>              <td> </td>   \n",
       "</tr>\n",
       "<tr>\n",
       "  <th>Covariance Type:</th>      <td>nonrobust</td>    <th>                     </th>              <td> </td>   \n",
       "</tr>\n",
       "</table>\n",
       "<table class=\"simpletable\">\n",
       "<tr>\n",
       "   <td></td>     <th>coef</th>     <th>std err</th>      <th>t</th>      <th>P>|t|</th>  <th>[0.025</th>    <th>0.975]</th>  \n",
       "</tr>\n",
       "<tr>\n",
       "  <th>x1</th> <td>    1.3254</td> <td>    0.027</td> <td>   49.814</td> <td> 0.000</td> <td>    1.273</td> <td>    1.378</td>\n",
       "</tr>\n",
       "<tr>\n",
       "  <th>x2</th> <td>    4.9813</td> <td>    0.051</td> <td>   98.059</td> <td> 0.000</td> <td>    4.882</td> <td>    5.081</td>\n",
       "</tr>\n",
       "</table>\n",
       "<table class=\"simpletable\">\n",
       "<tr>\n",
       "  <th>Omnibus:</th>       <td> 0.642</td> <th>  Durbin-Watson:     </th> <td>   1.940</td>\n",
       "</tr>\n",
       "<tr>\n",
       "  <th>Prob(Omnibus):</th> <td> 0.725</td> <th>  Jarque-Bera (JB):  </th> <td>   0.686</td>\n",
       "</tr>\n",
       "<tr>\n",
       "  <th>Skew:</th>          <td> 0.060</td> <th>  Prob(JB):          </th> <td>   0.710</td>\n",
       "</tr>\n",
       "<tr>\n",
       "  <th>Kurtosis:</th>      <td> 2.953</td> <th>  Cond. No.          </th> <td>    1.91</td>\n",
       "</tr>\n",
       "</table><br/><br/>Notes:<br/>[1] R² is computed without centering (uncentered) since the model does not contain a constant.<br/>[2] Standard Errors assume that the covariance matrix of the errors is correctly specified."
      ],
      "text/latex": [
       "\\begin{center}\n",
       "\\begin{tabular}{lclc}\n",
       "\\toprule\n",
       "\\textbf{Dep. Variable:}    &        y         & \\textbf{  R-squared (uncentered):}      &     0.922   \\\\\n",
       "\\textbf{Model:}            &       OLS        & \\textbf{  Adj. R-squared (uncentered):} &     0.922   \\\\\n",
       "\\textbf{Method:}           &  Least Squares   & \\textbf{  F-statistic:       }          &     5929.   \\\\\n",
       "\\textbf{Date:}             & Tue, 21 Nov 2023 & \\textbf{  Prob (F-statistic):}          &     0.00    \\\\\n",
       "\\textbf{Time:}             &     16:02:18     & \\textbf{  Log-Likelihood:    }          &   -1411.8   \\\\\n",
       "\\textbf{No. Observations:} &        1000      & \\textbf{  AIC:               }          &     2828.   \\\\\n",
       "\\textbf{Df Residuals:}     &         998      & \\textbf{  BIC:               }          &     2837.   \\\\\n",
       "\\textbf{Df Model:}         &           2      & \\textbf{                     }          &             \\\\\n",
       "\\textbf{Covariance Type:}  &    nonrobust     & \\textbf{                     }          &             \\\\\n",
       "\\bottomrule\n",
       "\\end{tabular}\n",
       "\\begin{tabular}{lcccccc}\n",
       "            & \\textbf{coef} & \\textbf{std err} & \\textbf{t} & \\textbf{P$> |$t$|$} & \\textbf{[0.025} & \\textbf{0.975]}  \\\\\n",
       "\\midrule\n",
       "\\textbf{x1} &       1.3254  &        0.027     &    49.814  &         0.000        &        1.273    &        1.378     \\\\\n",
       "\\textbf{x2} &       4.9813  &        0.051     &    98.059  &         0.000        &        4.882    &        5.081     \\\\\n",
       "\\bottomrule\n",
       "\\end{tabular}\n",
       "\\begin{tabular}{lclc}\n",
       "\\textbf{Omnibus:}       &  0.642 & \\textbf{  Durbin-Watson:     } &    1.940  \\\\\n",
       "\\textbf{Prob(Omnibus):} &  0.725 & \\textbf{  Jarque-Bera (JB):  } &    0.686  \\\\\n",
       "\\textbf{Skew:}          &  0.060 & \\textbf{  Prob(JB):          } &    0.710  \\\\\n",
       "\\textbf{Kurtosis:}      &  2.953 & \\textbf{  Cond. No.          } &     1.91  \\\\\n",
       "\\bottomrule\n",
       "\\end{tabular}\n",
       "%\\caption{OLS Regression Results}\n",
       "\\end{center}\n",
       "\n",
       "Notes: \\newline\n",
       " [1] R² is computed without centering (uncentered) since the model does not contain a constant. \\newline\n",
       " [2] Standard Errors assume that the covariance matrix of the errors is correctly specified."
      ],
      "text/plain": [
       "<class 'statsmodels.iolib.summary.Summary'>\n",
       "\"\"\"\n",
       "                                 OLS Regression Results                                \n",
       "=======================================================================================\n",
       "Dep. Variable:                      y   R-squared (uncentered):                   0.922\n",
       "Model:                            OLS   Adj. R-squared (uncentered):              0.922\n",
       "Method:                 Least Squares   F-statistic:                              5929.\n",
       "Date:                Tue, 21 Nov 2023   Prob (F-statistic):                        0.00\n",
       "Time:                        16:02:18   Log-Likelihood:                         -1411.8\n",
       "No. Observations:                1000   AIC:                                      2828.\n",
       "Df Residuals:                     998   BIC:                                      2837.\n",
       "Df Model:                           2                                                  \n",
       "Covariance Type:            nonrobust                                                  \n",
       "==============================================================================\n",
       "                 coef    std err          t      P>|t|      [0.025      0.975]\n",
       "------------------------------------------------------------------------------\n",
       "x1             1.3254      0.027     49.814      0.000       1.273       1.378\n",
       "x2             4.9813      0.051     98.059      0.000       4.882       5.081\n",
       "==============================================================================\n",
       "Omnibus:                        0.642   Durbin-Watson:                   1.940\n",
       "Prob(Omnibus):                  0.725   Jarque-Bera (JB):                0.686\n",
       "Skew:                           0.060   Prob(JB):                        0.710\n",
       "Kurtosis:                       2.953   Cond. No.                         1.91\n",
       "==============================================================================\n",
       "\n",
       "Notes:\n",
       "[1] R² is computed without centering (uncentered) since the model does not contain a constant.\n",
       "[2] Standard Errors assume that the covariance matrix of the errors is correctly specified.\n",
       "\"\"\""
      ]
     },
     "execution_count": 10,
     "metadata": {},
     "output_type": "execute_result"
    }
   ],
   "source": [
    "model = OLS(np.asarray(df[outcome]), np.asarray(df[[common_cause, treatment]], dtype=np.float64))\n",
    "result = model.fit()\n",
    "result.summary()"
   ]
  }
 ],
 "metadata": {
  "kernelspec": {
   "display_name": "Python 3",
   "language": "python",
   "name": "python3"
  },
  "language_info": {
   "codemirror_mode": {
    "name": "ipython",
    "version": 3
   },
   "file_extension": ".py",
   "mimetype": "text/x-python",
   "name": "python",
   "nbconvert_exporter": "python",
   "pygments_lexer": "ipython3",
   "version": "3.8.10"
  },
  "toc": {
   "base_numbering": 1,
   "nav_menu": {},
   "number_sections": false,
   "sideBar": true,
   "skip_h1_title": true,
   "title_cell": "Table of Contents",
   "title_sidebar": "Contents",
   "toc_cell": false,
   "toc_position": {},
   "toc_section_display": true,
   "toc_window_display": false
  }
 },
 "nbformat": 4,
 "nbformat_minor": 4
}
