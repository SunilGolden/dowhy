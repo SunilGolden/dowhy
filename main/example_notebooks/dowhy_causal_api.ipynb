{
 "cells": [
  {
   "cell_type": "markdown",
   "metadata": {},
   "source": [
    "# Demo for the DoWhy causal API\n",
    "We show a simple example of adding a causal extension to any dataframe. "
   ]
  },
  {
   "cell_type": "code",
   "execution_count": 1,
   "metadata": {
    "execution": {
     "iopub.execute_input": "2023-03-06T15:51:45.361497Z",
     "iopub.status.busy": "2023-03-06T15:51:45.361000Z",
     "iopub.status.idle": "2023-03-06T15:51:46.917803Z",
     "shell.execute_reply": "2023-03-06T15:51:46.917151Z"
    }
   },
   "outputs": [],
   "source": [
    "import dowhy.datasets\n",
    "import dowhy.api\n",
    "\n",
    "import numpy as np\n",
    "import pandas as pd\n",
    "\n",
    "from statsmodels.api import OLS"
   ]
  },
  {
   "cell_type": "code",
   "execution_count": 2,
   "metadata": {
    "execution": {
     "iopub.execute_input": "2023-03-06T15:51:46.921000Z",
     "iopub.status.busy": "2023-03-06T15:51:46.920526Z",
     "iopub.status.idle": "2023-03-06T15:51:46.966115Z",
     "shell.execute_reply": "2023-03-06T15:51:46.965525Z"
    }
   },
   "outputs": [
    {
     "data": {
      "text/html": [
       "<div>\n",
       "<style scoped>\n",
       "    .dataframe tbody tr th:only-of-type {\n",
       "        vertical-align: middle;\n",
       "    }\n",
       "\n",
       "    .dataframe tbody tr th {\n",
       "        vertical-align: top;\n",
       "    }\n",
       "\n",
       "    .dataframe thead th {\n",
       "        text-align: right;\n",
       "    }\n",
       "</style>\n",
       "<table border=\"1\" class=\"dataframe\">\n",
       "  <thead>\n",
       "    <tr style=\"text-align: right;\">\n",
       "      <th></th>\n",
       "      <th>W0</th>\n",
       "      <th>v0</th>\n",
       "      <th>y</th>\n",
       "    </tr>\n",
       "  </thead>\n",
       "  <tbody>\n",
       "    <tr>\n",
       "      <th>0</th>\n",
       "      <td>0.188663</td>\n",
       "      <td>True</td>\n",
       "      <td>5.406654</td>\n",
       "    </tr>\n",
       "    <tr>\n",
       "      <th>1</th>\n",
       "      <td>1.849571</td>\n",
       "      <td>True</td>\n",
       "      <td>8.160501</td>\n",
       "    </tr>\n",
       "    <tr>\n",
       "      <th>2</th>\n",
       "      <td>-0.156137</td>\n",
       "      <td>False</td>\n",
       "      <td>0.806942</td>\n",
       "    </tr>\n",
       "    <tr>\n",
       "      <th>3</th>\n",
       "      <td>2.564780</td>\n",
       "      <td>True</td>\n",
       "      <td>10.857633</td>\n",
       "    </tr>\n",
       "    <tr>\n",
       "      <th>4</th>\n",
       "      <td>1.494717</td>\n",
       "      <td>True</td>\n",
       "      <td>8.831416</td>\n",
       "    </tr>\n",
       "    <tr>\n",
       "      <th>...</th>\n",
       "      <td>...</td>\n",
       "      <td>...</td>\n",
       "      <td>...</td>\n",
       "    </tr>\n",
       "    <tr>\n",
       "      <th>995</th>\n",
       "      <td>0.939251</td>\n",
       "      <td>True</td>\n",
       "      <td>8.791504</td>\n",
       "    </tr>\n",
       "    <tr>\n",
       "      <th>996</th>\n",
       "      <td>-1.360316</td>\n",
       "      <td>False</td>\n",
       "      <td>-3.409929</td>\n",
       "    </tr>\n",
       "    <tr>\n",
       "      <th>997</th>\n",
       "      <td>-0.526389</td>\n",
       "      <td>False</td>\n",
       "      <td>0.758758</td>\n",
       "    </tr>\n",
       "    <tr>\n",
       "      <th>998</th>\n",
       "      <td>1.385032</td>\n",
       "      <td>True</td>\n",
       "      <td>8.087626</td>\n",
       "    </tr>\n",
       "    <tr>\n",
       "      <th>999</th>\n",
       "      <td>1.415982</td>\n",
       "      <td>True</td>\n",
       "      <td>9.938487</td>\n",
       "    </tr>\n",
       "  </tbody>\n",
       "</table>\n",
       "<p>1000 rows × 3 columns</p>\n",
       "</div>"
      ],
      "text/plain": [
       "           W0     v0          y\n",
       "0    0.188663   True   5.406654\n",
       "1    1.849571   True   8.160501\n",
       "2   -0.156137  False   0.806942\n",
       "3    2.564780   True  10.857633\n",
       "4    1.494717   True   8.831416\n",
       "..        ...    ...        ...\n",
       "995  0.939251   True   8.791504\n",
       "996 -1.360316  False  -3.409929\n",
       "997 -0.526389  False   0.758758\n",
       "998  1.385032   True   8.087626\n",
       "999  1.415982   True   9.938487\n",
       "\n",
       "[1000 rows x 3 columns]"
      ]
     },
     "execution_count": 2,
     "metadata": {},
     "output_type": "execute_result"
    }
   ],
   "source": [
    "data = dowhy.datasets.linear_dataset(beta=5,\n",
    "        num_common_causes=1,\n",
    "        num_instruments = 0,\n",
    "        num_samples=1000,\n",
    "        treatment_is_binary=True)\n",
    "df = data['df']\n",
    "df['y'] = df['y'] + np.random.normal(size=len(df)) # Adding noise to data. Without noise, the variance in Y|X, Z is zero, and mcmc fails.\n",
    "#data['dot_graph'] = 'digraph { v ->y;X0-> v;X0-> y;}'\n",
    "\n",
    "treatment= data[\"treatment_name\"][0]\n",
    "outcome = data[\"outcome_name\"][0]\n",
    "common_cause = data[\"common_causes_names\"][0]\n",
    "df"
   ]
  },
  {
   "cell_type": "code",
   "execution_count": 3,
   "metadata": {
    "execution": {
     "iopub.execute_input": "2023-03-06T15:51:46.969109Z",
     "iopub.status.busy": "2023-03-06T15:51:46.968773Z",
     "iopub.status.idle": "2023-03-06T15:51:47.122555Z",
     "shell.execute_reply": "2023-03-06T15:51:47.122011Z"
    }
   },
   "outputs": [
    {
     "data": {
      "text/plain": [
       "<AxesSubplot: xlabel='v0'>"
      ]
     },
     "execution_count": 3,
     "metadata": {},
     "output_type": "execute_result"
    },
    {
     "data": {
      "image/png": "[encoded data removed]",
      "text/plain": [
       "<Figure size 640x480 with 1 Axes>"
      ]
     },
     "metadata": {},
     "output_type": "display_data"
    }
   ],
   "source": [
    "# data['df'] is just a regular pandas.DataFrame\n",
    "df.causal.do(x=treatment,\n",
    "                     variable_types={treatment: 'b', outcome: 'c', common_cause: 'c'},\n",
    "                     outcome=outcome,\n",
    "                     common_causes=[common_cause],\n",
    "                     proceed_when_unidentifiable=True).groupby(treatment).mean().plot(y=outcome, kind='bar')"
   ]
  },
  {
   "cell_type": "code",
   "execution_count": 4,
   "metadata": {
    "execution": {
     "iopub.execute_input": "2023-03-06T15:51:47.125327Z",
     "iopub.status.busy": "2023-03-06T15:51:47.124905Z",
     "iopub.status.idle": "2023-03-06T15:51:47.330073Z",
     "shell.execute_reply": "2023-03-06T15:51:47.329417Z"
    }
   },
   "outputs": [
    {
     "data": {
      "text/plain": [
       "<AxesSubplot: xlabel='v0'>"
      ]
     },
     "execution_count": 4,
     "metadata": {},
     "output_type": "execute_result"
    },
    {
     "data": {
      "image/png": "[encoded data removed]",
      "text/plain": [
       "<Figure size 640x480 with 1 Axes>"
      ]
     },
     "metadata": {},
     "output_type": "display_data"
    }
   ],
   "source": [
    "df.causal.do(x={treatment: 1}, \n",
    "              variable_types={treatment:'b', outcome: 'c', common_cause: 'c'}, \n",
    "              outcome=outcome,\n",
    "              method='weighting', \n",
    "              common_causes=[common_cause],\n",
    "              proceed_when_unidentifiable=True).groupby(treatment).mean().plot(y=outcome, kind='bar')"
   ]
  },
  {
   "cell_type": "code",
   "execution_count": 5,
   "metadata": {
    "execution": {
     "iopub.execute_input": "2023-03-06T15:51:47.332980Z",
     "iopub.status.busy": "2023-03-06T15:51:47.332500Z",
     "iopub.status.idle": "2023-03-06T15:51:47.361539Z",
     "shell.execute_reply": "2023-03-06T15:51:47.360957Z"
    }
   },
   "outputs": [],
   "source": [
    "cdf_1 = df.causal.do(x={treatment: 1}, \n",
    "              variable_types={treatment: 'b', outcome: 'c', common_cause: 'c'}, \n",
    "              outcome=outcome, \n",
    "              dot_graph=data['dot_graph'],\n",
    "              proceed_when_unidentifiable=True)\n",
    "\n",
    "cdf_0 = df.causal.do(x={treatment: 0}, \n",
    "              variable_types={treatment: 'b', outcome: 'c', common_cause: 'c'}, \n",
    "              outcome=outcome, \n",
    "              dot_graph=data['dot_graph'],\n",
    "              proceed_when_unidentifiable=True)\n"
   ]
  },
  {
   "cell_type": "code",
   "execution_count": 6,
   "metadata": {
    "execution": {
     "iopub.execute_input": "2023-03-06T15:51:47.364266Z",
     "iopub.status.busy": "2023-03-06T15:51:47.363805Z",
     "iopub.status.idle": "2023-03-06T15:51:47.373503Z",
     "shell.execute_reply": "2023-03-06T15:51:47.372927Z"
    },
    "scrolled": true
   },
   "outputs": [
    {
     "data": {
      "text/html": [
       "<div>\n",
       "<style scoped>\n",
       "    .dataframe tbody tr th:only-of-type {\n",
       "        vertical-align: middle;\n",
       "    }\n",
       "\n",
       "    .dataframe tbody tr th {\n",
       "        vertical-align: top;\n",
       "    }\n",
       "\n",
       "    .dataframe thead th {\n",
       "        text-align: right;\n",
       "    }\n",
       "</style>\n",
       "<table border=\"1\" class=\"dataframe\">\n",
       "  <thead>\n",
       "    <tr style=\"text-align: right;\">\n",
       "      <th></th>\n",
       "      <th>W0</th>\n",
       "      <th>v0</th>\n",
       "      <th>y</th>\n",
       "      <th>propensity_score</th>\n",
       "      <th>weight</th>\n",
       "    </tr>\n",
       "  </thead>\n",
       "  <tbody>\n",
       "    <tr>\n",
       "      <th>0</th>\n",
       "      <td>0.300738</td>\n",
       "      <td>False</td>\n",
       "      <td>-0.305711</td>\n",
       "      <td>0.427079</td>\n",
       "      <td>2.341486</td>\n",
       "    </tr>\n",
       "    <tr>\n",
       "      <th>1</th>\n",
       "      <td>1.486214</td>\n",
       "      <td>False</td>\n",
       "      <td>0.797213</td>\n",
       "      <td>0.107126</td>\n",
       "      <td>9.334805</td>\n",
       "    </tr>\n",
       "    <tr>\n",
       "      <th>2</th>\n",
       "      <td>0.126564</td>\n",
       "      <td>False</td>\n",
       "      <td>0.279352</td>\n",
       "      <td>0.493650</td>\n",
       "      <td>2.025726</td>\n",
       "    </tr>\n",
       "    <tr>\n",
       "      <th>3</th>\n",
       "      <td>-0.384421</td>\n",
       "      <td>False</td>\n",
       "      <td>-2.875337</td>\n",
       "      <td>0.681779</td>\n",
       "      <td>1.466750</td>\n",
       "    </tr>\n",
       "    <tr>\n",
       "      <th>4</th>\n",
       "      <td>0.071250</td>\n",
       "      <td>False</td>\n",
       "      <td>-1.109683</td>\n",
       "      <td>0.514953</td>\n",
       "      <td>1.941923</td>\n",
       "    </tr>\n",
       "    <tr>\n",
       "      <th>...</th>\n",
       "      <td>...</td>\n",
       "      <td>...</td>\n",
       "      <td>...</td>\n",
       "      <td>...</td>\n",
       "      <td>...</td>\n",
       "    </tr>\n",
       "    <tr>\n",
       "      <th>995</th>\n",
       "      <td>0.701635</td>\n",
       "      <td>False</td>\n",
       "      <td>1.442162</td>\n",
       "      <td>0.286692</td>\n",
       "      <td>3.488069</td>\n",
       "    </tr>\n",
       "    <tr>\n",
       "      <th>996</th>\n",
       "      <td>1.350995</td>\n",
       "      <td>False</td>\n",
       "      <td>1.738981</td>\n",
       "      <td>0.128747</td>\n",
       "      <td>7.767184</td>\n",
       "    </tr>\n",
       "    <tr>\n",
       "      <th>997</th>\n",
       "      <td>0.550221</td>\n",
       "      <td>False</td>\n",
       "      <td>0.385544</td>\n",
       "      <td>0.336663</td>\n",
       "      <td>2.970326</td>\n",
       "    </tr>\n",
       "    <tr>\n",
       "      <th>998</th>\n",
       "      <td>-0.961033</td>\n",
       "      <td>False</td>\n",
       "      <td>-2.631643</td>\n",
       "      <td>0.838951</td>\n",
       "      <td>1.191965</td>\n",
       "    </tr>\n",
       "    <tr>\n",
       "      <th>999</th>\n",
       "      <td>1.618929</td>\n",
       "      <td>False</td>\n",
       "      <td>1.753454</td>\n",
       "      <td>0.089079</td>\n",
       "      <td>11.226027</td>\n",
       "    </tr>\n",
       "  </tbody>\n",
       "</table>\n",
       "<p>1000 rows × 5 columns</p>\n",
       "</div>"
      ],
      "text/plain": [
       "           W0     v0         y  propensity_score     weight\n",
       "0    0.300738  False -0.305711          0.427079   2.341486\n",
       "1    1.486214  False  0.797213          0.107126   9.334805\n",
       "2    0.126564  False  0.279352          0.493650   2.025726\n",
       "3   -0.384421  False -2.875337          0.681779   1.466750\n",
       "4    0.071250  False -1.109683          0.514953   1.941923\n",
       "..        ...    ...       ...               ...        ...\n",
       "995  0.701635  False  1.442162          0.286692   3.488069\n",
       "996  1.350995  False  1.738981          0.128747   7.767184\n",
       "997  0.550221  False  0.385544          0.336663   2.970326\n",
       "998 -0.961033  False -2.631643          0.838951   1.191965\n",
       "999  1.618929  False  1.753454          0.089079  11.226027\n",
       "\n",
       "[1000 rows x 5 columns]"
      ]
     },
     "execution_count": 6,
     "metadata": {},
     "output_type": "execute_result"
    }
   ],
   "source": [
    "cdf_0"
   ]
  },
  {
   "cell_type": "code",
   "execution_count": 7,
   "metadata": {
    "execution": {
     "iopub.execute_input": "2023-03-06T15:51:47.376562Z",
     "iopub.status.busy": "2023-03-06T15:51:47.376357Z",
     "iopub.status.idle": "2023-03-06T15:51:47.385949Z",
     "shell.execute_reply": "2023-03-06T15:51:47.385359Z"
    }
   },
   "outputs": [
    {
     "data": {
      "text/html": [
       "<div>\n",
       "<style scoped>\n",
       "    .dataframe tbody tr th:only-of-type {\n",
       "        vertical-align: middle;\n",
       "    }\n",
       "\n",
       "    .dataframe tbody tr th {\n",
       "        vertical-align: top;\n",
       "    }\n",
       "\n",
       "    .dataframe thead th {\n",
       "        text-align: right;\n",
       "    }\n",
       "</style>\n",
       "<table border=\"1\" class=\"dataframe\">\n",
       "  <thead>\n",
       "    <tr style=\"text-align: right;\">\n",
       "      <th></th>\n",
       "      <th>W0</th>\n",
       "      <th>v0</th>\n",
       "      <th>y</th>\n",
       "      <th>propensity_score</th>\n",
       "      <th>weight</th>\n",
       "    </tr>\n",
       "  </thead>\n",
       "  <tbody>\n",
       "    <tr>\n",
       "      <th>0</th>\n",
       "      <td>-0.166341</td>\n",
       "      <td>True</td>\n",
       "      <td>3.914107</td>\n",
       "      <td>0.395099</td>\n",
       "      <td>2.531010</td>\n",
       "    </tr>\n",
       "    <tr>\n",
       "      <th>1</th>\n",
       "      <td>1.773155</td>\n",
       "      <td>True</td>\n",
       "      <td>7.451736</td>\n",
       "      <td>0.928414</td>\n",
       "      <td>1.077106</td>\n",
       "    </tr>\n",
       "    <tr>\n",
       "      <th>2</th>\n",
       "      <td>1.961068</td>\n",
       "      <td>True</td>\n",
       "      <td>10.612263</td>\n",
       "      <td>0.945428</td>\n",
       "      <td>1.057721</td>\n",
       "    </tr>\n",
       "    <tr>\n",
       "      <th>3</th>\n",
       "      <td>2.219454</td>\n",
       "      <td>True</td>\n",
       "      <td>9.361756</td>\n",
       "      <td>0.962683</td>\n",
       "      <td>1.038764</td>\n",
       "    </tr>\n",
       "    <tr>\n",
       "      <th>4</th>\n",
       "      <td>1.961068</td>\n",
       "      <td>True</td>\n",
       "      <td>10.612263</td>\n",
       "      <td>0.945428</td>\n",
       "      <td>1.057721</td>\n",
       "    </tr>\n",
       "    <tr>\n",
       "      <th>...</th>\n",
       "      <td>...</td>\n",
       "      <td>...</td>\n",
       "      <td>...</td>\n",
       "      <td>...</td>\n",
       "      <td>...</td>\n",
       "    </tr>\n",
       "    <tr>\n",
       "      <th>995</th>\n",
       "      <td>1.313809</td>\n",
       "      <td>True</td>\n",
       "      <td>7.469890</td>\n",
       "      <td>0.864688</td>\n",
       "      <td>1.156486</td>\n",
       "    </tr>\n",
       "    <tr>\n",
       "      <th>996</th>\n",
       "      <td>-1.185568</td>\n",
       "      <td>True</td>\n",
       "      <td>1.384815</td>\n",
       "      <td>0.119579</td>\n",
       "      <td>8.362660</td>\n",
       "    </tr>\n",
       "    <tr>\n",
       "      <th>997</th>\n",
       "      <td>1.091052</td>\n",
       "      <td>True</td>\n",
       "      <td>6.682758</td>\n",
       "      <td>0.819290</td>\n",
       "      <td>1.220568</td>\n",
       "    </tr>\n",
       "    <tr>\n",
       "      <th>998</th>\n",
       "      <td>1.133130</td>\n",
       "      <td>True</td>\n",
       "      <td>8.622308</td>\n",
       "      <td>0.828692</td>\n",
       "      <td>1.206721</td>\n",
       "    </tr>\n",
       "    <tr>\n",
       "      <th>999</th>\n",
       "      <td>-0.739515</td>\n",
       "      <td>True</td>\n",
       "      <td>2.287188</td>\n",
       "      <td>0.212635</td>\n",
       "      <td>4.702886</td>\n",
       "    </tr>\n",
       "  </tbody>\n",
       "</table>\n",
       "<p>1000 rows × 5 columns</p>\n",
       "</div>"
      ],
      "text/plain": [
       "           W0    v0          y  propensity_score    weight\n",
       "0   -0.166341  True   3.914107          0.395099  2.531010\n",
       "1    1.773155  True   7.451736          0.928414  1.077106\n",
       "2    1.961068  True  10.612263          0.945428  1.057721\n",
       "3    2.219454  True   9.361756          0.962683  1.038764\n",
       "4    1.961068  True  10.612263          0.945428  1.057721\n",
       "..        ...   ...        ...               ...       ...\n",
       "995  1.313809  True   7.469890          0.864688  1.156486\n",
       "996 -1.185568  True   1.384815          0.119579  8.362660\n",
       "997  1.091052  True   6.682758          0.819290  1.220568\n",
       "998  1.133130  True   8.622308          0.828692  1.206721\n",
       "999 -0.739515  True   2.287188          0.212635  4.702886\n",
       "\n",
       "[1000 rows x 5 columns]"
      ]
     },
     "execution_count": 7,
     "metadata": {},
     "output_type": "execute_result"
    }
   ],
   "source": [
    "cdf_1"
   ]
  },
  {
   "cell_type": "markdown",
   "metadata": {},
   "source": [
    "## Comparing the estimate to Linear Regression\n",
    "First, estimating the effect using the causal data frame, and the 95% confidence interval."
   ]
  },
  {
   "cell_type": "code",
   "execution_count": 8,
   "metadata": {
    "execution": {
     "iopub.execute_input": "2023-03-06T15:51:47.389125Z",
     "iopub.status.busy": "2023-03-06T15:51:47.388587Z",
     "iopub.status.idle": "2023-03-06T15:51:47.445977Z",
     "shell.execute_reply": "2023-03-06T15:51:47.445364Z"
    }
   },
   "outputs": [
    {
     "data": {
      "image/png": "[encoded data removed]",
      "text/latex": [
       "$\\displaystyle 5.46252956892071$"
      ],
      "text/plain": [
       "5.462529568920706"
      ]
     },
     "execution_count": 8,
     "metadata": {},
     "output_type": "execute_result"
    }
   ],
   "source": [
    "(cdf_1['y'] - cdf_0['y']).mean()"
   ]
  },
  {
   "cell_type": "code",
   "execution_count": 9,
   "metadata": {
    "execution": {
     "iopub.execute_input": "2023-03-06T15:51:47.448921Z",
     "iopub.status.busy": "2023-03-06T15:51:47.448592Z",
     "iopub.status.idle": "2023-03-06T15:51:47.469543Z",
     "shell.execute_reply": "2023-03-06T15:51:47.468981Z"
    }
   },
   "outputs": [
    {
     "data": {
      "image/png": "[encoded data removed]",
      "text/latex": [
       "$\\displaystyle 0.20822124244818$"
      ],
      "text/plain": [
       "0.2082212424481804"
      ]
     },
     "execution_count": 9,
     "metadata": {},
     "output_type": "execute_result"
    }
   ],
   "source": [
    "1.96*(cdf_1['y'] - cdf_0['y']).std() / np.sqrt(len(df))"
   ]
  },
  {
   "cell_type": "markdown",
   "metadata": {},
   "source": [
    "Comparing to the estimate from OLS."
   ]
  },
  {
   "cell_type": "code",
   "execution_count": 10,
   "metadata": {
    "execution": {
     "iopub.execute_input": "2023-03-06T15:51:47.472383Z",
     "iopub.status.busy": "2023-03-06T15:51:47.472065Z",
     "iopub.status.idle": "2023-03-06T15:51:47.488068Z",
     "shell.execute_reply": "2023-03-06T15:51:47.487526Z"
    }
   },
   "outputs": [
    {
     "data": {
      "text/html": [
       "<table class=\"simpletable\">\n",
       "<caption>OLS Regression Results</caption>\n",
       "<tr>\n",
       "  <th>Dep. Variable:</th>            <td>y</td>        <th>  R-squared (uncentered):</th>      <td>   0.975</td> \n",
       "</tr>\n",
       "<tr>\n",
       "  <th>Model:</th>                   <td>OLS</td>       <th>  Adj. R-squared (uncentered):</th> <td>   0.975</td> \n",
       "</tr>\n",
       "<tr>\n",
       "  <th>Method:</th>             <td>Least Squares</td>  <th>  F-statistic:       </th>          <td>1.936e+04</td>\n",
       "</tr>\n",
       "<tr>\n",
       "  <th>Date:</th>             <td>Mon, 06 Mar 2023</td> <th>  Prob (F-statistic):</th>           <td>  0.00</td>  \n",
       "</tr>\n",
       "<tr>\n",
       "  <th>Time:</th>                 <td>15:51:47</td>     <th>  Log-Likelihood:    </th>          <td> -1437.6</td> \n",
       "</tr>\n",
       "<tr>\n",
       "  <th>No. Observations:</th>      <td>  1000</td>      <th>  AIC:               </th>          <td>   2879.</td> \n",
       "</tr>\n",
       "<tr>\n",
       "  <th>Df Residuals:</th>          <td>   998</td>      <th>  BIC:               </th>          <td>   2889.</td> \n",
       "</tr>\n",
       "<tr>\n",
       "  <th>Df Model:</th>              <td>     2</td>      <th>                     </th>              <td> </td>    \n",
       "</tr>\n",
       "<tr>\n",
       "  <th>Covariance Type:</th>      <td>nonrobust</td>    <th>                     </th>              <td> </td>    \n",
       "</tr>\n",
       "</table>\n",
       "<table class=\"simpletable\">\n",
       "<tr>\n",
       "   <td></td>     <th>coef</th>     <th>std err</th>      <th>t</th>      <th>P>|t|</th>  <th>[0.025</th>    <th>0.975]</th>  \n",
       "</tr>\n",
       "<tr>\n",
       "  <th>x1</th> <td>    2.2712</td> <td>    0.038</td> <td>   60.319</td> <td> 0.000</td> <td>    2.197</td> <td>    2.345</td>\n",
       "</tr>\n",
       "<tr>\n",
       "  <th>x2</th> <td>    5.0301</td> <td>    0.057</td> <td>   87.746</td> <td> 0.000</td> <td>    4.918</td> <td>    5.143</td>\n",
       "</tr>\n",
       "</table>\n",
       "<table class=\"simpletable\">\n",
       "<tr>\n",
       "  <th>Omnibus:</th>       <td> 3.098</td> <th>  Durbin-Watson:     </th> <td>   2.064</td>\n",
       "</tr>\n",
       "<tr>\n",
       "  <th>Prob(Omnibus):</th> <td> 0.212</td> <th>  Jarque-Bera (JB):  </th> <td>   2.990</td>\n",
       "</tr>\n",
       "<tr>\n",
       "  <th>Skew:</th>          <td> 0.091</td> <th>  Prob(JB):          </th> <td>   0.224</td>\n",
       "</tr>\n",
       "<tr>\n",
       "  <th>Kurtosis:</th>      <td> 2.804</td> <th>  Cond. No.          </th> <td>    2.76</td>\n",
       "</tr>\n",
       "</table><br/><br/>Notes:<br/>[1] R² is computed without centering (uncentered) since the model does not contain a constant.<br/>[2] Standard Errors assume that the covariance matrix of the errors is correctly specified."
      ],
      "text/plain": [
       "<class 'statsmodels.iolib.summary.Summary'>\n",
       "\"\"\"\n",
       "                                 OLS Regression Results                                \n",
       "=======================================================================================\n",
       "Dep. Variable:                      y   R-squared (uncentered):                   0.975\n",
       "Model:                            OLS   Adj. R-squared (uncentered):              0.975\n",
       "Method:                 Least Squares   F-statistic:                          1.936e+04\n",
       "Date:                Mon, 06 Mar 2023   Prob (F-statistic):                        0.00\n",
       "Time:                        15:51:47   Log-Likelihood:                         -1437.6\n",
       "No. Observations:                1000   AIC:                                      2879.\n",
       "Df Residuals:                     998   BIC:                                      2889.\n",
       "Df Model:                           2                                                  \n",
       "Covariance Type:            nonrobust                                                  \n",
       "==============================================================================\n",
       "                 coef    std err          t      P>|t|      [0.025      0.975]\n",
       "------------------------------------------------------------------------------\n",
       "x1             2.2712      0.038     60.319      0.000       2.197       2.345\n",
       "x2             5.0301      0.057     87.746      0.000       4.918       5.143\n",
       "==============================================================================\n",
       "Omnibus:                        3.098   Durbin-Watson:                   2.064\n",
       "Prob(Omnibus):                  0.212   Jarque-Bera (JB):                2.990\n",
       "Skew:                           0.091   Prob(JB):                        0.224\n",
       "Kurtosis:                       2.804   Cond. No.                         2.76\n",
       "==============================================================================\n",
       "\n",
       "Notes:\n",
       "[1] R² is computed without centering (uncentered) since the model does not contain a constant.\n",
       "[2] Standard Errors assume that the covariance matrix of the errors is correctly specified.\n",
       "\"\"\""
      ]
     },
     "execution_count": 10,
     "metadata": {},
     "output_type": "execute_result"
    }
   ],
   "source": [
    "model = OLS(np.asarray(df[outcome]), np.asarray(df[[common_cause, treatment]], dtype=np.float64))\n",
    "result = model.fit()\n",
    "result.summary()"
   ]
  }
 ],
 "metadata": {
  "kernelspec": {
   "display_name": "Python 3",
   "language": "python",
   "name": "python3"
  },
  "language_info": {
   "codemirror_mode": {
    "name": "ipython",
    "version": 3
   },
   "file_extension": ".py",
   "mimetype": "text/x-python",
   "name": "python",
   "nbconvert_exporter": "python",
   "pygments_lexer": "ipython3",
   "version": "3.8.10"
  },
  "toc": {
   "base_numbering": 1,
   "nav_menu": {},
   "number_sections": false,
   "sideBar": true,
   "skip_h1_title": true,
   "title_cell": "Table of Contents",
   "title_sidebar": "Contents",
   "toc_cell": false,
   "toc_position": {},
   "toc_section_display": true,
   "toc_window_display": false
  }
 },
 "nbformat": 4,
 "nbformat_minor": 4
}
