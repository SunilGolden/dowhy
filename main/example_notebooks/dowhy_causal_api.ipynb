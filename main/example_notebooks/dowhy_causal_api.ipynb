{
 "cells": [
  {
   "cell_type": "markdown",
   "metadata": {},
   "source": [
    "# Demo for the DoWhy causal API\n",
    "We show a simple example of adding a causal extension to any dataframe. "
   ]
  },
  {
   "cell_type": "code",
   "execution_count": 1,
   "metadata": {
    "execution": {
     "iopub.execute_input": "2023-11-27T17:56:37.407231Z",
     "iopub.status.busy": "2023-11-27T17:56:37.407061Z",
     "iopub.status.idle": "2023-11-27T17:56:38.741071Z",
     "shell.execute_reply": "2023-11-27T17:56:38.740467Z"
    }
   },
   "outputs": [],
   "source": [
    "import dowhy.datasets\n",
    "import dowhy.api\n",
    "from dowhy.graph import build_graph_from_str\n",
    "\n",
    "import numpy as np\n",
    "import pandas as pd\n",
    "\n",
    "from statsmodels.api import OLS"
   ]
  },
  {
   "cell_type": "code",
   "execution_count": 2,
   "metadata": {
    "execution": {
     "iopub.execute_input": "2023-11-27T17:56:38.744212Z",
     "iopub.status.busy": "2023-11-27T17:56:38.743636Z",
     "iopub.status.idle": "2023-11-27T17:56:38.779945Z",
     "shell.execute_reply": "2023-11-27T17:56:38.779381Z"
    }
   },
   "outputs": [
    {
     "data": {
      "text/html": [
       "<div>\n",
       "<style scoped>\n",
       "    .dataframe tbody tr th:only-of-type {\n",
       "        vertical-align: middle;\n",
       "    }\n",
       "\n",
       "    .dataframe tbody tr th {\n",
       "        vertical-align: top;\n",
       "    }\n",
       "\n",
       "    .dataframe thead th {\n",
       "        text-align: right;\n",
       "    }\n",
       "</style>\n",
       "<table border=\"1\" class=\"dataframe\">\n",
       "  <thead>\n",
       "    <tr style=\"text-align: right;\">\n",
       "      <th></th>\n",
       "      <th>W0</th>\n",
       "      <th>v0</th>\n",
       "      <th>y</th>\n",
       "    </tr>\n",
       "  </thead>\n",
       "  <tbody>\n",
       "    <tr>\n",
       "      <th>0</th>\n",
       "      <td>1.873369</td>\n",
       "      <td>True</td>\n",
       "      <td>7.631441</td>\n",
       "    </tr>\n",
       "    <tr>\n",
       "      <th>1</th>\n",
       "      <td>-0.454660</td>\n",
       "      <td>False</td>\n",
       "      <td>-0.983654</td>\n",
       "    </tr>\n",
       "    <tr>\n",
       "      <th>2</th>\n",
       "      <td>-0.311393</td>\n",
       "      <td>False</td>\n",
       "      <td>0.568165</td>\n",
       "    </tr>\n",
       "    <tr>\n",
       "      <th>3</th>\n",
       "      <td>0.019126</td>\n",
       "      <td>True</td>\n",
       "      <td>5.215282</td>\n",
       "    </tr>\n",
       "    <tr>\n",
       "      <th>4</th>\n",
       "      <td>1.232669</td>\n",
       "      <td>True</td>\n",
       "      <td>6.535844</td>\n",
       "    </tr>\n",
       "    <tr>\n",
       "      <th>...</th>\n",
       "      <td>...</td>\n",
       "      <td>...</td>\n",
       "      <td>...</td>\n",
       "    </tr>\n",
       "    <tr>\n",
       "      <th>995</th>\n",
       "      <td>0.726076</td>\n",
       "      <td>True</td>\n",
       "      <td>5.290686</td>\n",
       "    </tr>\n",
       "    <tr>\n",
       "      <th>996</th>\n",
       "      <td>2.311299</td>\n",
       "      <td>True</td>\n",
       "      <td>7.573668</td>\n",
       "    </tr>\n",
       "    <tr>\n",
       "      <th>997</th>\n",
       "      <td>-0.193134</td>\n",
       "      <td>False</td>\n",
       "      <td>-0.138724</td>\n",
       "    </tr>\n",
       "    <tr>\n",
       "      <th>998</th>\n",
       "      <td>0.898267</td>\n",
       "      <td>True</td>\n",
       "      <td>6.647209</td>\n",
       "    </tr>\n",
       "    <tr>\n",
       "      <th>999</th>\n",
       "      <td>1.717833</td>\n",
       "      <td>True</td>\n",
       "      <td>7.125196</td>\n",
       "    </tr>\n",
       "  </tbody>\n",
       "</table>\n",
       "<p>1000 rows × 3 columns</p>\n",
       "</div>"
      ],
      "text/plain": [
       "           W0     v0         y\n",
       "0    1.873369   True  7.631441\n",
       "1   -0.454660  False -0.983654\n",
       "2   -0.311393  False  0.568165\n",
       "3    0.019126   True  5.215282\n",
       "4    1.232669   True  6.535844\n",
       "..        ...    ...       ...\n",
       "995  0.726076   True  5.290686\n",
       "996  2.311299   True  7.573668\n",
       "997 -0.193134  False -0.138724\n",
       "998  0.898267   True  6.647209\n",
       "999  1.717833   True  7.125196\n",
       "\n",
       "[1000 rows x 3 columns]"
      ]
     },
     "execution_count": 2,
     "metadata": {},
     "output_type": "execute_result"
    }
   ],
   "source": [
    "data = dowhy.datasets.linear_dataset(beta=5,\n",
    "        num_common_causes=1,\n",
    "        num_instruments = 0,\n",
    "        num_samples=1000,\n",
    "        treatment_is_binary=True)\n",
    "df = data['df']\n",
    "df['y'] = df['y'] + np.random.normal(size=len(df)) # Adding noise to data. Without noise, the variance in Y|X, Z is zero, and mcmc fails.\n",
    "nx_graph = build_graph_from_str(data[\"dot_graph\"])\n",
    "\n",
    "treatment= data[\"treatment_name\"][0]\n",
    "outcome = data[\"outcome_name\"][0]\n",
    "common_cause = data[\"common_causes_names\"][0]\n",
    "df"
   ]
  },
  {
   "cell_type": "code",
   "execution_count": 3,
   "metadata": {
    "execution": {
     "iopub.execute_input": "2023-11-27T17:56:38.782303Z",
     "iopub.status.busy": "2023-11-27T17:56:38.781856Z",
     "iopub.status.idle": "2023-11-27T17:56:38.938002Z",
     "shell.execute_reply": "2023-11-27T17:56:38.937254Z"
    },
    "scrolled": true
   },
   "outputs": [
    {
     "data": {
      "text/plain": [
       "<Axes: xlabel='v0'>"
      ]
     },
     "execution_count": 3,
     "metadata": {},
     "output_type": "execute_result"
    },
    {
     "data": {
      "image/png": "[encoded data removed]",
      "text/plain": [
       "<Figure size 640x480 with 1 Axes>"
      ]
     },
     "metadata": {},
     "output_type": "display_data"
    }
   ],
   "source": [
    "# data['df'] is just a regular pandas.DataFrame\n",
    "df.causal.do(x=treatment,\n",
    "             variable_types={treatment: 'b', outcome: 'c', common_cause: 'c'},\n",
    "             outcome=outcome,\n",
    "             common_causes=[common_cause],\n",
    "            ).groupby(treatment).mean().plot(y=outcome, kind='bar')"
   ]
  },
  {
   "cell_type": "code",
   "execution_count": 4,
   "metadata": {
    "execution": {
     "iopub.execute_input": "2023-11-27T17:56:38.940440Z",
     "iopub.status.busy": "2023-11-27T17:56:38.940257Z",
     "iopub.status.idle": "2023-11-27T17:56:39.052540Z",
     "shell.execute_reply": "2023-11-27T17:56:39.051832Z"
    }
   },
   "outputs": [
    {
     "data": {
      "text/plain": [
       "<Axes: xlabel='v0'>"
      ]
     },
     "execution_count": 4,
     "metadata": {},
     "output_type": "execute_result"
    },
    {
     "data": {
      "image/png": "[encoded data removed]",
      "text/plain": [
       "<Figure size 640x480 with 1 Axes>"
      ]
     },
     "metadata": {},
     "output_type": "display_data"
    }
   ],
   "source": [
    "df.causal.do(x={treatment: 1}, \n",
    "              variable_types={treatment:'b', outcome: 'c', common_cause: 'c'}, \n",
    "              outcome=outcome,\n",
    "              method='weighting', \n",
    "              common_causes=[common_cause]\n",
    "              ).groupby(treatment).mean().plot(y=outcome, kind='bar')"
   ]
  },
  {
   "cell_type": "code",
   "execution_count": 5,
   "metadata": {
    "execution": {
     "iopub.execute_input": "2023-11-27T17:56:39.055112Z",
     "iopub.status.busy": "2023-11-27T17:56:39.054717Z",
     "iopub.status.idle": "2023-11-27T17:56:39.076481Z",
     "shell.execute_reply": "2023-11-27T17:56:39.075862Z"
    }
   },
   "outputs": [],
   "source": [
    "cdf_1 = df.causal.do(x={treatment: 1}, \n",
    "              variable_types={treatment: 'b', outcome: 'c', common_cause: 'c'}, \n",
    "              outcome=outcome, \n",
    "              graph=nx_graph\n",
    "              )\n",
    "\n",
    "cdf_0 = df.causal.do(x={treatment: 0}, \n",
    "              variable_types={treatment: 'b', outcome: 'c', common_cause: 'c'}, \n",
    "              outcome=outcome, \n",
    "              graph=nx_graph\n",
    "              )\n"
   ]
  },
  {
   "cell_type": "code",
   "execution_count": 6,
   "metadata": {
    "execution": {
     "iopub.execute_input": "2023-11-27T17:56:39.079146Z",
     "iopub.status.busy": "2023-11-27T17:56:39.078607Z",
     "iopub.status.idle": "2023-11-27T17:56:39.088006Z",
     "shell.execute_reply": "2023-11-27T17:56:39.087382Z"
    },
    "scrolled": true
   },
   "outputs": [
    {
     "data": {
      "text/html": [
       "<div>\n",
       "<style scoped>\n",
       "    .dataframe tbody tr th:only-of-type {\n",
       "        vertical-align: middle;\n",
       "    }\n",
       "\n",
       "    .dataframe tbody tr th {\n",
       "        vertical-align: top;\n",
       "    }\n",
       "\n",
       "    .dataframe thead th {\n",
       "        text-align: right;\n",
       "    }\n",
       "</style>\n",
       "<table border=\"1\" class=\"dataframe\">\n",
       "  <thead>\n",
       "    <tr style=\"text-align: right;\">\n",
       "      <th></th>\n",
       "      <th>W0</th>\n",
       "      <th>v0</th>\n",
       "      <th>y</th>\n",
       "      <th>propensity_score</th>\n",
       "      <th>weight</th>\n",
       "    </tr>\n",
       "  </thead>\n",
       "  <tbody>\n",
       "    <tr>\n",
       "      <th>0</th>\n",
       "      <td>0.516043</td>\n",
       "      <td>False</td>\n",
       "      <td>-0.545623</td>\n",
       "      <td>0.238641</td>\n",
       "      <td>4.190402</td>\n",
       "    </tr>\n",
       "    <tr>\n",
       "      <th>1</th>\n",
       "      <td>1.869794</td>\n",
       "      <td>False</td>\n",
       "      <td>2.799745</td>\n",
       "      <td>0.016290</td>\n",
       "      <td>61.388164</td>\n",
       "    </tr>\n",
       "    <tr>\n",
       "      <th>2</th>\n",
       "      <td>0.639884</td>\n",
       "      <td>False</td>\n",
       "      <td>-0.523910</td>\n",
       "      <td>0.193230</td>\n",
       "      <td>5.175179</td>\n",
       "    </tr>\n",
       "    <tr>\n",
       "      <th>3</th>\n",
       "      <td>-1.049229</td>\n",
       "      <td>False</td>\n",
       "      <td>-0.541982</td>\n",
       "      <td>0.903782</td>\n",
       "      <td>1.106462</td>\n",
       "    </tr>\n",
       "    <tr>\n",
       "      <th>4</th>\n",
       "      <td>1.869794</td>\n",
       "      <td>False</td>\n",
       "      <td>2.799745</td>\n",
       "      <td>0.016290</td>\n",
       "      <td>61.388164</td>\n",
       "    </tr>\n",
       "    <tr>\n",
       "      <th>...</th>\n",
       "      <td>...</td>\n",
       "      <td>...</td>\n",
       "      <td>...</td>\n",
       "      <td>...</td>\n",
       "      <td>...</td>\n",
       "    </tr>\n",
       "    <tr>\n",
       "      <th>995</th>\n",
       "      <td>0.712475</td>\n",
       "      <td>False</td>\n",
       "      <td>2.032263</td>\n",
       "      <td>0.169829</td>\n",
       "      <td>5.888278</td>\n",
       "    </tr>\n",
       "    <tr>\n",
       "      <th>996</th>\n",
       "      <td>1.220727</td>\n",
       "      <td>False</td>\n",
       "      <td>0.249688</td>\n",
       "      <td>0.063514</td>\n",
       "      <td>15.744581</td>\n",
       "    </tr>\n",
       "    <tr>\n",
       "      <th>997</th>\n",
       "      <td>1.071904</td>\n",
       "      <td>False</td>\n",
       "      <td>0.501629</td>\n",
       "      <td>0.085677</td>\n",
       "      <td>11.671757</td>\n",
       "    </tr>\n",
       "    <tr>\n",
       "      <th>998</th>\n",
       "      <td>1.197020</td>\n",
       "      <td>False</td>\n",
       "      <td>-0.285915</td>\n",
       "      <td>0.066647</td>\n",
       "      <td>15.004524</td>\n",
       "    </tr>\n",
       "    <tr>\n",
       "      <th>999</th>\n",
       "      <td>0.544399</td>\n",
       "      <td>False</td>\n",
       "      <td>1.184132</td>\n",
       "      <td>0.227630</td>\n",
       "      <td>4.393094</td>\n",
       "    </tr>\n",
       "  </tbody>\n",
       "</table>\n",
       "<p>1000 rows × 5 columns</p>\n",
       "</div>"
      ],
      "text/plain": [
       "           W0     v0         y  propensity_score     weight\n",
       "0    0.516043  False -0.545623          0.238641   4.190402\n",
       "1    1.869794  False  2.799745          0.016290  61.388164\n",
       "2    0.639884  False -0.523910          0.193230   5.175179\n",
       "3   -1.049229  False -0.541982          0.903782   1.106462\n",
       "4    1.869794  False  2.799745          0.016290  61.388164\n",
       "..        ...    ...       ...               ...        ...\n",
       "995  0.712475  False  2.032263          0.169829   5.888278\n",
       "996  1.220727  False  0.249688          0.063514  15.744581\n",
       "997  1.071904  False  0.501629          0.085677  11.671757\n",
       "998  1.197020  False -0.285915          0.066647  15.004524\n",
       "999  0.544399  False  1.184132          0.227630   4.393094\n",
       "\n",
       "[1000 rows x 5 columns]"
      ]
     },
     "execution_count": 6,
     "metadata": {},
     "output_type": "execute_result"
    }
   ],
   "source": [
    "cdf_0"
   ]
  },
  {
   "cell_type": "code",
   "execution_count": 7,
   "metadata": {
    "execution": {
     "iopub.execute_input": "2023-11-27T17:56:39.090480Z",
     "iopub.status.busy": "2023-11-27T17:56:39.089935Z",
     "iopub.status.idle": "2023-11-27T17:56:39.098509Z",
     "shell.execute_reply": "2023-11-27T17:56:39.097963Z"
    }
   },
   "outputs": [
    {
     "data": {
      "text/html": [
       "<div>\n",
       "<style scoped>\n",
       "    .dataframe tbody tr th:only-of-type {\n",
       "        vertical-align: middle;\n",
       "    }\n",
       "\n",
       "    .dataframe tbody tr th {\n",
       "        vertical-align: top;\n",
       "    }\n",
       "\n",
       "    .dataframe thead th {\n",
       "        text-align: right;\n",
       "    }\n",
       "</style>\n",
       "<table border=\"1\" class=\"dataframe\">\n",
       "  <thead>\n",
       "    <tr style=\"text-align: right;\">\n",
       "      <th></th>\n",
       "      <th>W0</th>\n",
       "      <th>v0</th>\n",
       "      <th>y</th>\n",
       "      <th>propensity_score</th>\n",
       "      <th>weight</th>\n",
       "    </tr>\n",
       "  </thead>\n",
       "  <tbody>\n",
       "    <tr>\n",
       "      <th>0</th>\n",
       "      <td>0.612009</td>\n",
       "      <td>True</td>\n",
       "      <td>5.907924</td>\n",
       "      <td>0.797155</td>\n",
       "      <td>1.254462</td>\n",
       "    </tr>\n",
       "    <tr>\n",
       "      <th>1</th>\n",
       "      <td>1.468826</td>\n",
       "      <td>True</td>\n",
       "      <td>6.432508</td>\n",
       "      <td>0.961941</td>\n",
       "      <td>1.039565</td>\n",
       "    </tr>\n",
       "    <tr>\n",
       "      <th>2</th>\n",
       "      <td>0.839326</td>\n",
       "      <td>True</td>\n",
       "      <td>6.288672</td>\n",
       "      <td>0.865575</td>\n",
       "      <td>1.155301</td>\n",
       "    </tr>\n",
       "    <tr>\n",
       "      <th>3</th>\n",
       "      <td>0.724306</td>\n",
       "      <td>True</td>\n",
       "      <td>3.476508</td>\n",
       "      <td>0.833764</td>\n",
       "      <td>1.199380</td>\n",
       "    </tr>\n",
       "    <tr>\n",
       "      <th>4</th>\n",
       "      <td>2.489883</td>\n",
       "      <td>True</td>\n",
       "      <td>7.622922</td>\n",
       "      <td>0.995713</td>\n",
       "      <td>1.004306</td>\n",
       "    </tr>\n",
       "    <tr>\n",
       "      <th>...</th>\n",
       "      <td>...</td>\n",
       "      <td>...</td>\n",
       "      <td>...</td>\n",
       "      <td>...</td>\n",
       "      <td>...</td>\n",
       "    </tr>\n",
       "    <tr>\n",
       "      <th>995</th>\n",
       "      <td>1.144508</td>\n",
       "      <td>True</td>\n",
       "      <td>7.042830</td>\n",
       "      <td>0.925897</td>\n",
       "      <td>1.080033</td>\n",
       "    </tr>\n",
       "    <tr>\n",
       "      <th>996</th>\n",
       "      <td>0.680236</td>\n",
       "      <td>True</td>\n",
       "      <td>5.668570</td>\n",
       "      <td>0.820068</td>\n",
       "      <td>1.219410</td>\n",
       "    </tr>\n",
       "    <tr>\n",
       "      <th>997</th>\n",
       "      <td>2.639511</td>\n",
       "      <td>True</td>\n",
       "      <td>7.206697</td>\n",
       "      <td>0.996899</td>\n",
       "      <td>1.003111</td>\n",
       "    </tr>\n",
       "    <tr>\n",
       "      <th>998</th>\n",
       "      <td>2.316264</td>\n",
       "      <td>True</td>\n",
       "      <td>6.895061</td>\n",
       "      <td>0.993761</td>\n",
       "      <td>1.006278</td>\n",
       "    </tr>\n",
       "    <tr>\n",
       "      <th>999</th>\n",
       "      <td>1.541031</td>\n",
       "      <td>True</td>\n",
       "      <td>4.011880</td>\n",
       "      <td>0.967285</td>\n",
       "      <td>1.033822</td>\n",
       "    </tr>\n",
       "  </tbody>\n",
       "</table>\n",
       "<p>1000 rows × 5 columns</p>\n",
       "</div>"
      ],
      "text/plain": [
       "           W0    v0         y  propensity_score    weight\n",
       "0    0.612009  True  5.907924          0.797155  1.254462\n",
       "1    1.468826  True  6.432508          0.961941  1.039565\n",
       "2    0.839326  True  6.288672          0.865575  1.155301\n",
       "3    0.724306  True  3.476508          0.833764  1.199380\n",
       "4    2.489883  True  7.622922          0.995713  1.004306\n",
       "..        ...   ...       ...               ...       ...\n",
       "995  1.144508  True  7.042830          0.925897  1.080033\n",
       "996  0.680236  True  5.668570          0.820068  1.219410\n",
       "997  2.639511  True  7.206697          0.996899  1.003111\n",
       "998  2.316264  True  6.895061          0.993761  1.006278\n",
       "999  1.541031  True  4.011880          0.967285  1.033822\n",
       "\n",
       "[1000 rows x 5 columns]"
      ]
     },
     "execution_count": 7,
     "metadata": {},
     "output_type": "execute_result"
    }
   ],
   "source": [
    "cdf_1"
   ]
  },
  {
   "cell_type": "markdown",
   "metadata": {},
   "source": [
    "## Comparing the estimate to Linear Regression\n",
    "First, estimating the effect using the causal data frame, and the 95% confidence interval."
   ]
  },
  {
   "cell_type": "code",
   "execution_count": 8,
   "metadata": {
    "execution": {
     "iopub.execute_input": "2023-11-27T17:56:39.100792Z",
     "iopub.status.busy": "2023-11-27T17:56:39.100382Z",
     "iopub.status.idle": "2023-11-27T17:56:39.147530Z",
     "shell.execute_reply": "2023-11-27T17:56:39.146939Z"
    }
   },
   "outputs": [
    {
     "data": {
      "image/png": "[encoded data removed]",
      "text/latex": [
       "$\\displaystyle 5.01938816515125$"
      ],
      "text/plain": [
       "5.019388165151253"
      ]
     },
     "execution_count": 8,
     "metadata": {},
     "output_type": "execute_result"
    }
   ],
   "source": [
    "(cdf_1['y'] - cdf_0['y']).mean()"
   ]
  },
  {
   "cell_type": "code",
   "execution_count": 9,
   "metadata": {
    "execution": {
     "iopub.execute_input": "2023-11-27T17:56:39.149719Z",
     "iopub.status.busy": "2023-11-27T17:56:39.149439Z",
     "iopub.status.idle": "2023-11-27T17:56:39.166588Z",
     "shell.execute_reply": "2023-11-27T17:56:39.165955Z"
    }
   },
   "outputs": [
    {
     "data": {
      "image/png": "[encoded data removed]",
      "text/latex": [
       "$\\displaystyle 0.115046860463795$"
      ],
      "text/plain": [
       "0.11504686046379543"
      ]
     },
     "execution_count": 9,
     "metadata": {},
     "output_type": "execute_result"
    }
   ],
   "source": [
    "1.96*(cdf_1['y'] - cdf_0['y']).std() / np.sqrt(len(df))"
   ]
  },
  {
   "cell_type": "markdown",
   "metadata": {},
   "source": [
    "Comparing to the estimate from OLS."
   ]
  },
  {
   "cell_type": "code",
   "execution_count": 10,
   "metadata": {
    "execution": {
     "iopub.execute_input": "2023-11-27T17:56:39.168652Z",
     "iopub.status.busy": "2023-11-27T17:56:39.168474Z",
     "iopub.status.idle": "2023-11-27T17:56:39.184683Z",
     "shell.execute_reply": "2023-11-27T17:56:39.184114Z"
    }
   },
   "outputs": [
    {
     "data": {
      "text/html": [
       "<table class=\"simpletable\">\n",
       "<caption>OLS Regression Results</caption>\n",
       "<tr>\n",
       "  <th>Dep. Variable:</th>            <td>y</td>        <th>  R-squared (uncentered):</th>      <td>   0.964</td> \n",
       "</tr>\n",
       "<tr>\n",
       "  <th>Model:</th>                   <td>OLS</td>       <th>  Adj. R-squared (uncentered):</th> <td>   0.964</td> \n",
       "</tr>\n",
       "<tr>\n",
       "  <th>Method:</th>             <td>Least Squares</td>  <th>  F-statistic:       </th>          <td>1.339e+04</td>\n",
       "</tr>\n",
       "<tr>\n",
       "  <th>Date:</th>             <td>Mon, 27 Nov 2023</td> <th>  Prob (F-statistic):</th>           <td>  0.00</td>  \n",
       "</tr>\n",
       "<tr>\n",
       "  <th>Time:</th>                 <td>17:56:39</td>     <th>  Log-Likelihood:    </th>          <td> -1447.7</td> \n",
       "</tr>\n",
       "<tr>\n",
       "  <th>No. Observations:</th>      <td>  1000</td>      <th>  AIC:               </th>          <td>   2899.</td> \n",
       "</tr>\n",
       "<tr>\n",
       "  <th>Df Residuals:</th>          <td>   998</td>      <th>  BIC:               </th>          <td>   2909.</td> \n",
       "</tr>\n",
       "<tr>\n",
       "  <th>Df Model:</th>              <td>     2</td>      <th>                     </th>              <td> </td>    \n",
       "</tr>\n",
       "<tr>\n",
       "  <th>Covariance Type:</th>      <td>nonrobust</td>    <th>                     </th>              <td> </td>    \n",
       "</tr>\n",
       "</table>\n",
       "<table class=\"simpletable\">\n",
       "<tr>\n",
       "   <td></td>     <th>coef</th>     <th>std err</th>      <th>t</th>      <th>P>|t|</th>  <th>[0.025</th>    <th>0.975]</th>  \n",
       "</tr>\n",
       "<tr>\n",
       "  <th>x1</th> <td>    0.9364</td> <td>    0.040</td> <td>   23.444</td> <td> 0.000</td> <td>    0.858</td> <td>    1.015</td>\n",
       "</tr>\n",
       "<tr>\n",
       "  <th>x2</th> <td>    4.9866</td> <td>    0.060</td> <td>   83.025</td> <td> 0.000</td> <td>    4.869</td> <td>    5.104</td>\n",
       "</tr>\n",
       "</table>\n",
       "<table class=\"simpletable\">\n",
       "<tr>\n",
       "  <th>Omnibus:</th>       <td> 1.327</td> <th>  Durbin-Watson:     </th> <td>   2.018</td>\n",
       "</tr>\n",
       "<tr>\n",
       "  <th>Prob(Omnibus):</th> <td> 0.515</td> <th>  Jarque-Bera (JB):  </th> <td>   1.210</td>\n",
       "</tr>\n",
       "<tr>\n",
       "  <th>Skew:</th>          <td>-0.039</td> <th>  Prob(JB):          </th> <td>   0.546</td>\n",
       "</tr>\n",
       "<tr>\n",
       "  <th>Kurtosis:</th>      <td> 3.152</td> <th>  Cond. No.          </th> <td>    3.15</td>\n",
       "</tr>\n",
       "</table><br/><br/>Notes:<br/>[1] R² is computed without centering (uncentered) since the model does not contain a constant.<br/>[2] Standard Errors assume that the covariance matrix of the errors is correctly specified."
      ],
      "text/latex": [
       "\\begin{center}\n",
       "\\begin{tabular}{lclc}\n",
       "\\toprule\n",
       "\\textbf{Dep. Variable:}    &        y         & \\textbf{  R-squared (uncentered):}      &     0.964   \\\\\n",
       "\\textbf{Model:}            &       OLS        & \\textbf{  Adj. R-squared (uncentered):} &     0.964   \\\\\n",
       "\\textbf{Method:}           &  Least Squares   & \\textbf{  F-statistic:       }          & 1.339e+04   \\\\\n",
       "\\textbf{Date:}             & Mon, 27 Nov 2023 & \\textbf{  Prob (F-statistic):}          &     0.00    \\\\\n",
       "\\textbf{Time:}             &     17:56:39     & \\textbf{  Log-Likelihood:    }          &   -1447.7   \\\\\n",
       "\\textbf{No. Observations:} &        1000      & \\textbf{  AIC:               }          &     2899.   \\\\\n",
       "\\textbf{Df Residuals:}     &         998      & \\textbf{  BIC:               }          &     2909.   \\\\\n",
       "\\textbf{Df Model:}         &           2      & \\textbf{                     }          &             \\\\\n",
       "\\textbf{Covariance Type:}  &    nonrobust     & \\textbf{                     }          &             \\\\\n",
       "\\bottomrule\n",
       "\\end{tabular}\n",
       "\\begin{tabular}{lcccccc}\n",
       "            & \\textbf{coef} & \\textbf{std err} & \\textbf{t} & \\textbf{P$> |$t$|$} & \\textbf{[0.025} & \\textbf{0.975]}  \\\\\n",
       "\\midrule\n",
       "\\textbf{x1} &       0.9364  &        0.040     &    23.444  &         0.000        &        0.858    &        1.015     \\\\\n",
       "\\textbf{x2} &       4.9866  &        0.060     &    83.025  &         0.000        &        4.869    &        5.104     \\\\\n",
       "\\bottomrule\n",
       "\\end{tabular}\n",
       "\\begin{tabular}{lclc}\n",
       "\\textbf{Omnibus:}       &  1.327 & \\textbf{  Durbin-Watson:     } &    2.018  \\\\\n",
       "\\textbf{Prob(Omnibus):} &  0.515 & \\textbf{  Jarque-Bera (JB):  } &    1.210  \\\\\n",
       "\\textbf{Skew:}          & -0.039 & \\textbf{  Prob(JB):          } &    0.546  \\\\\n",
       "\\textbf{Kurtosis:}      &  3.152 & \\textbf{  Cond. No.          } &     3.15  \\\\\n",
       "\\bottomrule\n",
       "\\end{tabular}\n",
       "%\\caption{OLS Regression Results}\n",
       "\\end{center}\n",
       "\n",
       "Notes: \\newline\n",
       " [1] R² is computed without centering (uncentered) since the model does not contain a constant. \\newline\n",
       " [2] Standard Errors assume that the covariance matrix of the errors is correctly specified."
      ],
      "text/plain": [
       "<class 'statsmodels.iolib.summary.Summary'>\n",
       "\"\"\"\n",
       "                                 OLS Regression Results                                \n",
       "=======================================================================================\n",
       "Dep. Variable:                      y   R-squared (uncentered):                   0.964\n",
       "Model:                            OLS   Adj. R-squared (uncentered):              0.964\n",
       "Method:                 Least Squares   F-statistic:                          1.339e+04\n",
       "Date:                Mon, 27 Nov 2023   Prob (F-statistic):                        0.00\n",
       "Time:                        17:56:39   Log-Likelihood:                         -1447.7\n",
       "No. Observations:                1000   AIC:                                      2899.\n",
       "Df Residuals:                     998   BIC:                                      2909.\n",
       "Df Model:                           2                                                  \n",
       "Covariance Type:            nonrobust                                                  \n",
       "==============================================================================\n",
       "                 coef    std err          t      P>|t|      [0.025      0.975]\n",
       "------------------------------------------------------------------------------\n",
       "x1             0.9364      0.040     23.444      0.000       0.858       1.015\n",
       "x2             4.9866      0.060     83.025      0.000       4.869       5.104\n",
       "==============================================================================\n",
       "Omnibus:                        1.327   Durbin-Watson:                   2.018\n",
       "Prob(Omnibus):                  0.515   Jarque-Bera (JB):                1.210\n",
       "Skew:                          -0.039   Prob(JB):                        0.546\n",
       "Kurtosis:                       3.152   Cond. No.                         3.15\n",
       "==============================================================================\n",
       "\n",
       "Notes:\n",
       "[1] R² is computed without centering (uncentered) since the model does not contain a constant.\n",
       "[2] Standard Errors assume that the covariance matrix of the errors is correctly specified.\n",
       "\"\"\""
      ]
     },
     "execution_count": 10,
     "metadata": {},
     "output_type": "execute_result"
    }
   ],
   "source": [
    "model = OLS(np.asarray(df[outcome]), np.asarray(df[[common_cause, treatment]], dtype=np.float64))\n",
    "result = model.fit()\n",
    "result.summary()"
   ]
  }
 ],
 "metadata": {
  "kernelspec": {
   "display_name": "Python 3 (ipykernel)",
   "language": "python",
   "name": "python3"
  },
  "language_info": {
   "codemirror_mode": {
    "name": "ipython",
    "version": 3
   },
   "file_extension": ".py",
   "mimetype": "text/x-python",
   "name": "python",
   "nbconvert_exporter": "python",
   "pygments_lexer": "ipython3",
   "version": "3.8.10"
  },
  "toc": {
   "base_numbering": 1,
   "nav_menu": {},
   "number_sections": false,
   "sideBar": true,
   "skip_h1_title": true,
   "title_cell": "Table of Contents",
   "title_sidebar": "Contents",
   "toc_cell": false,
   "toc_position": {},
   "toc_section_display": true,
   "toc_window_display": false
  }
 },
 "nbformat": 4,
 "nbformat_minor": 4
}
