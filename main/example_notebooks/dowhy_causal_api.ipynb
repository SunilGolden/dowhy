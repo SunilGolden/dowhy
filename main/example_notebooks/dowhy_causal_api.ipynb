{
 "cells": [
  {
   "cell_type": "markdown",
   "metadata": {},
   "source": [
    "# Demo for the DoWhy causal API\n",
    "We show a simple example of adding a causal extension to any dataframe. "
   ]
  },
  {
   "cell_type": "code",
   "execution_count": 1,
   "metadata": {
    "execution": {
     "iopub.execute_input": "2023-07-16T17:17:38.064016Z",
     "iopub.status.busy": "2023-07-16T17:17:38.063758Z",
     "iopub.status.idle": "2023-07-16T17:17:40.140164Z",
     "shell.execute_reply": "2023-07-16T17:17:40.139187Z"
    }
   },
   "outputs": [],
   "source": [
    "import dowhy.datasets\n",
    "import dowhy.api\n",
    "\n",
    "import numpy as np\n",
    "import pandas as pd\n",
    "\n",
    "from statsmodels.api import OLS"
   ]
  },
  {
   "cell_type": "code",
   "execution_count": 2,
   "metadata": {
    "execution": {
     "iopub.execute_input": "2023-07-16T17:17:40.145035Z",
     "iopub.status.busy": "2023-07-16T17:17:40.144424Z",
     "iopub.status.idle": "2023-07-16T17:17:40.207936Z",
     "shell.execute_reply": "2023-07-16T17:17:40.207037Z"
    }
   },
   "outputs": [
    {
     "data": {
      "text/html": [
       "<div>\n",
       "<style scoped>\n",
       "    .dataframe tbody tr th:only-of-type {\n",
       "        vertical-align: middle;\n",
       "    }\n",
       "\n",
       "    .dataframe tbody tr th {\n",
       "        vertical-align: top;\n",
       "    }\n",
       "\n",
       "    .dataframe thead th {\n",
       "        text-align: right;\n",
       "    }\n",
       "</style>\n",
       "<table border=\"1\" class=\"dataframe\">\n",
       "  <thead>\n",
       "    <tr style=\"text-align: right;\">\n",
       "      <th></th>\n",
       "      <th>W0</th>\n",
       "      <th>v0</th>\n",
       "      <th>y</th>\n",
       "    </tr>\n",
       "  </thead>\n",
       "  <tbody>\n",
       "    <tr>\n",
       "      <th>0</th>\n",
       "      <td>0.699520</td>\n",
       "      <td>True</td>\n",
       "      <td>5.566250</td>\n",
       "    </tr>\n",
       "    <tr>\n",
       "      <th>1</th>\n",
       "      <td>-0.230639</td>\n",
       "      <td>False</td>\n",
       "      <td>0.262511</td>\n",
       "    </tr>\n",
       "    <tr>\n",
       "      <th>2</th>\n",
       "      <td>0.607406</td>\n",
       "      <td>True</td>\n",
       "      <td>6.652147</td>\n",
       "    </tr>\n",
       "    <tr>\n",
       "      <th>3</th>\n",
       "      <td>-1.983378</td>\n",
       "      <td>False</td>\n",
       "      <td>-4.573683</td>\n",
       "    </tr>\n",
       "    <tr>\n",
       "      <th>4</th>\n",
       "      <td>-0.416633</td>\n",
       "      <td>True</td>\n",
       "      <td>4.424496</td>\n",
       "    </tr>\n",
       "    <tr>\n",
       "      <th>...</th>\n",
       "      <td>...</td>\n",
       "      <td>...</td>\n",
       "      <td>...</td>\n",
       "    </tr>\n",
       "    <tr>\n",
       "      <th>995</th>\n",
       "      <td>-0.715055</td>\n",
       "      <td>True</td>\n",
       "      <td>3.837009</td>\n",
       "    </tr>\n",
       "    <tr>\n",
       "      <th>996</th>\n",
       "      <td>-0.068381</td>\n",
       "      <td>True</td>\n",
       "      <td>3.753190</td>\n",
       "    </tr>\n",
       "    <tr>\n",
       "      <th>997</th>\n",
       "      <td>-1.522986</td>\n",
       "      <td>False</td>\n",
       "      <td>-2.130953</td>\n",
       "    </tr>\n",
       "    <tr>\n",
       "      <th>998</th>\n",
       "      <td>-1.238846</td>\n",
       "      <td>True</td>\n",
       "      <td>1.250435</td>\n",
       "    </tr>\n",
       "    <tr>\n",
       "      <th>999</th>\n",
       "      <td>-0.313493</td>\n",
       "      <td>True</td>\n",
       "      <td>3.992616</td>\n",
       "    </tr>\n",
       "  </tbody>\n",
       "</table>\n",
       "<p>1000 rows × 3 columns</p>\n",
       "</div>"
      ],
      "text/plain": [
       "           W0     v0         y\n",
       "0    0.699520   True  5.566250\n",
       "1   -0.230639  False  0.262511\n",
       "2    0.607406   True  6.652147\n",
       "3   -1.983378  False -4.573683\n",
       "4   -0.416633   True  4.424496\n",
       "..        ...    ...       ...\n",
       "995 -0.715055   True  3.837009\n",
       "996 -0.068381   True  3.753190\n",
       "997 -1.522986  False -2.130953\n",
       "998 -1.238846   True  1.250435\n",
       "999 -0.313493   True  3.992616\n",
       "\n",
       "[1000 rows x 3 columns]"
      ]
     },
     "execution_count": 2,
     "metadata": {},
     "output_type": "execute_result"
    }
   ],
   "source": [
    "data = dowhy.datasets.linear_dataset(beta=5,\n",
    "        num_common_causes=1,\n",
    "        num_instruments = 0,\n",
    "        num_samples=1000,\n",
    "        treatment_is_binary=True)\n",
    "df = data['df']\n",
    "df['y'] = df['y'] + np.random.normal(size=len(df)) # Adding noise to data. Without noise, the variance in Y|X, Z is zero, and mcmc fails.\n",
    "#data['dot_graph'] = 'digraph { v ->y;X0-> v;X0-> y;}'\n",
    "\n",
    "treatment= data[\"treatment_name\"][0]\n",
    "outcome = data[\"outcome_name\"][0]\n",
    "common_cause = data[\"common_causes_names\"][0]\n",
    "df"
   ]
  },
  {
   "cell_type": "code",
   "execution_count": 3,
   "metadata": {
    "execution": {
     "iopub.execute_input": "2023-07-16T17:17:40.212218Z",
     "iopub.status.busy": "2023-07-16T17:17:40.211940Z",
     "iopub.status.idle": "2023-07-16T17:17:40.468154Z",
     "shell.execute_reply": "2023-07-16T17:17:40.466394Z"
    }
   },
   "outputs": [
    {
     "data": {
      "text/plain": [
       "<Axes: xlabel='v0'>"
      ]
     },
     "execution_count": 3,
     "metadata": {},
     "output_type": "execute_result"
    },
    {
     "data": {
      "image/png": "[encoded data removed]",
      "text/plain": [
       "<Figure size 640x480 with 1 Axes>"
      ]
     },
     "metadata": {},
     "output_type": "display_data"
    }
   ],
   "source": [
    "# data['df'] is just a regular pandas.DataFrame\n",
    "df.causal.do(x=treatment,\n",
    "                     variable_types={treatment: 'b', outcome: 'c', common_cause: 'c'},\n",
    "                     outcome=outcome,\n",
    "                     common_causes=[common_cause],\n",
    "                     proceed_when_unidentifiable=True).groupby(treatment).mean().plot(y=outcome, kind='bar')"
   ]
  },
  {
   "cell_type": "code",
   "execution_count": 4,
   "metadata": {
    "execution": {
     "iopub.execute_input": "2023-07-16T17:17:40.472133Z",
     "iopub.status.busy": "2023-07-16T17:17:40.471837Z",
     "iopub.status.idle": "2023-07-16T17:17:40.673888Z",
     "shell.execute_reply": "2023-07-16T17:17:40.672719Z"
    }
   },
   "outputs": [
    {
     "data": {
      "text/plain": [
       "<Axes: xlabel='v0'>"
      ]
     },
     "execution_count": 4,
     "metadata": {},
     "output_type": "execute_result"
    },
    {
     "data": {
      "image/png": "[encoded data removed]",
      "text/plain": [
       "<Figure size 640x480 with 1 Axes>"
      ]
     },
     "metadata": {},
     "output_type": "display_data"
    }
   ],
   "source": [
    "df.causal.do(x={treatment: 1}, \n",
    "              variable_types={treatment:'b', outcome: 'c', common_cause: 'c'}, \n",
    "              outcome=outcome,\n",
    "              method='weighting', \n",
    "              common_causes=[common_cause],\n",
    "              proceed_when_unidentifiable=True).groupby(treatment).mean().plot(y=outcome, kind='bar')"
   ]
  },
  {
   "cell_type": "code",
   "execution_count": 5,
   "metadata": {
    "execution": {
     "iopub.execute_input": "2023-07-16T17:17:40.677993Z",
     "iopub.status.busy": "2023-07-16T17:17:40.677468Z",
     "iopub.status.idle": "2023-07-16T17:17:40.714829Z",
     "shell.execute_reply": "2023-07-16T17:17:40.714049Z"
    }
   },
   "outputs": [],
   "source": [
    "cdf_1 = df.causal.do(x={treatment: 1}, \n",
    "              variable_types={treatment: 'b', outcome: 'c', common_cause: 'c'}, \n",
    "              outcome=outcome, \n",
    "              dot_graph=data['dot_graph'],\n",
    "              proceed_when_unidentifiable=True)\n",
    "\n",
    "cdf_0 = df.causal.do(x={treatment: 0}, \n",
    "              variable_types={treatment: 'b', outcome: 'c', common_cause: 'c'}, \n",
    "              outcome=outcome, \n",
    "              dot_graph=data['dot_graph'],\n",
    "              proceed_when_unidentifiable=True)\n"
   ]
  },
  {
   "cell_type": "code",
   "execution_count": 6,
   "metadata": {
    "execution": {
     "iopub.execute_input": "2023-07-16T17:17:40.718620Z",
     "iopub.status.busy": "2023-07-16T17:17:40.718086Z",
     "iopub.status.idle": "2023-07-16T17:17:40.731893Z",
     "shell.execute_reply": "2023-07-16T17:17:40.731140Z"
    },
    "scrolled": true
   },
   "outputs": [
    {
     "data": {
      "text/html": [
       "<div>\n",
       "<style scoped>\n",
       "    .dataframe tbody tr th:only-of-type {\n",
       "        vertical-align: middle;\n",
       "    }\n",
       "\n",
       "    .dataframe tbody tr th {\n",
       "        vertical-align: top;\n",
       "    }\n",
       "\n",
       "    .dataframe thead th {\n",
       "        text-align: right;\n",
       "    }\n",
       "</style>\n",
       "<table border=\"1\" class=\"dataframe\">\n",
       "  <thead>\n",
       "    <tr style=\"text-align: right;\">\n",
       "      <th></th>\n",
       "      <th>W0</th>\n",
       "      <th>v0</th>\n",
       "      <th>y</th>\n",
       "      <th>propensity_score</th>\n",
       "      <th>weight</th>\n",
       "    </tr>\n",
       "  </thead>\n",
       "  <tbody>\n",
       "    <tr>\n",
       "      <th>0</th>\n",
       "      <td>0.611460</td>\n",
       "      <td>False</td>\n",
       "      <td>2.125643</td>\n",
       "      <td>0.331875</td>\n",
       "      <td>3.013179</td>\n",
       "    </tr>\n",
       "    <tr>\n",
       "      <th>1</th>\n",
       "      <td>0.260684</td>\n",
       "      <td>False</td>\n",
       "      <td>1.608607</td>\n",
       "      <td>0.421643</td>\n",
       "      <td>2.371677</td>\n",
       "    </tr>\n",
       "    <tr>\n",
       "      <th>2</th>\n",
       "      <td>1.376295</td>\n",
       "      <td>False</td>\n",
       "      <td>4.569293</td>\n",
       "      <td>0.177074</td>\n",
       "      <td>5.647351</td>\n",
       "    </tr>\n",
       "    <tr>\n",
       "      <th>3</th>\n",
       "      <td>0.450122</td>\n",
       "      <td>False</td>\n",
       "      <td>1.034522</td>\n",
       "      <td>0.372094</td>\n",
       "      <td>2.687491</td>\n",
       "    </tr>\n",
       "    <tr>\n",
       "      <th>4</th>\n",
       "      <td>-0.723443</td>\n",
       "      <td>False</td>\n",
       "      <td>-1.037851</td>\n",
       "      <td>0.681443</td>\n",
       "      <td>1.467474</td>\n",
       "    </tr>\n",
       "    <tr>\n",
       "      <th>...</th>\n",
       "      <td>...</td>\n",
       "      <td>...</td>\n",
       "      <td>...</td>\n",
       "      <td>...</td>\n",
       "      <td>...</td>\n",
       "    </tr>\n",
       "    <tr>\n",
       "      <th>995</th>\n",
       "      <td>0.563489</td>\n",
       "      <td>False</td>\n",
       "      <td>1.095603</td>\n",
       "      <td>0.343611</td>\n",
       "      <td>2.910269</td>\n",
       "    </tr>\n",
       "    <tr>\n",
       "      <th>996</th>\n",
       "      <td>-0.594700</td>\n",
       "      <td>False</td>\n",
       "      <td>-0.691294</td>\n",
       "      <td>0.650126</td>\n",
       "      <td>1.538164</td>\n",
       "    </tr>\n",
       "    <tr>\n",
       "      <th>997</th>\n",
       "      <td>0.016123</td>\n",
       "      <td>False</td>\n",
       "      <td>-1.382704</td>\n",
       "      <td>0.487870</td>\n",
       "      <td>2.049728</td>\n",
       "    </tr>\n",
       "    <tr>\n",
       "      <th>998</th>\n",
       "      <td>-1.469151</td>\n",
       "      <td>False</td>\n",
       "      <td>-3.826766</td>\n",
       "      <td>0.828648</td>\n",
       "      <td>1.206786</td>\n",
       "    </tr>\n",
       "    <tr>\n",
       "      <th>999</th>\n",
       "      <td>0.667066</td>\n",
       "      <td>False</td>\n",
       "      <td>1.314966</td>\n",
       "      <td>0.318529</td>\n",
       "      <td>3.139427</td>\n",
       "    </tr>\n",
       "  </tbody>\n",
       "</table>\n",
       "<p>1000 rows × 5 columns</p>\n",
       "</div>"
      ],
      "text/plain": [
       "           W0     v0         y  propensity_score    weight\n",
       "0    0.611460  False  2.125643          0.331875  3.013179\n",
       "1    0.260684  False  1.608607          0.421643  2.371677\n",
       "2    1.376295  False  4.569293          0.177074  5.647351\n",
       "3    0.450122  False  1.034522          0.372094  2.687491\n",
       "4   -0.723443  False -1.037851          0.681443  1.467474\n",
       "..        ...    ...       ...               ...       ...\n",
       "995  0.563489  False  1.095603          0.343611  2.910269\n",
       "996 -0.594700  False -0.691294          0.650126  1.538164\n",
       "997  0.016123  False -1.382704          0.487870  2.049728\n",
       "998 -1.469151  False -3.826766          0.828648  1.206786\n",
       "999  0.667066  False  1.314966          0.318529  3.139427\n",
       "\n",
       "[1000 rows x 5 columns]"
      ]
     },
     "execution_count": 6,
     "metadata": {},
     "output_type": "execute_result"
    }
   ],
   "source": [
    "cdf_0"
   ]
  },
  {
   "cell_type": "code",
   "execution_count": 7,
   "metadata": {
    "execution": {
     "iopub.execute_input": "2023-07-16T17:17:40.735410Z",
     "iopub.status.busy": "2023-07-16T17:17:40.734958Z",
     "iopub.status.idle": "2023-07-16T17:17:40.748373Z",
     "shell.execute_reply": "2023-07-16T17:17:40.747612Z"
    }
   },
   "outputs": [
    {
     "data": {
      "text/html": [
       "<div>\n",
       "<style scoped>\n",
       "    .dataframe tbody tr th:only-of-type {\n",
       "        vertical-align: middle;\n",
       "    }\n",
       "\n",
       "    .dataframe tbody tr th {\n",
       "        vertical-align: top;\n",
       "    }\n",
       "\n",
       "    .dataframe thead th {\n",
       "        text-align: right;\n",
       "    }\n",
       "</style>\n",
       "<table border=\"1\" class=\"dataframe\">\n",
       "  <thead>\n",
       "    <tr style=\"text-align: right;\">\n",
       "      <th></th>\n",
       "      <th>W0</th>\n",
       "      <th>v0</th>\n",
       "      <th>y</th>\n",
       "      <th>propensity_score</th>\n",
       "      <th>weight</th>\n",
       "    </tr>\n",
       "  </thead>\n",
       "  <tbody>\n",
       "    <tr>\n",
       "      <th>0</th>\n",
       "      <td>-0.944913</td>\n",
       "      <td>True</td>\n",
       "      <td>2.130353</td>\n",
       "      <td>0.268419</td>\n",
       "      <td>3.725515</td>\n",
       "    </tr>\n",
       "    <tr>\n",
       "      <th>1</th>\n",
       "      <td>0.265083</td>\n",
       "      <td>True</td>\n",
       "      <td>5.494562</td>\n",
       "      <td>0.579530</td>\n",
       "      <td>1.725535</td>\n",
       "    </tr>\n",
       "    <tr>\n",
       "      <th>2</th>\n",
       "      <td>1.101652</td>\n",
       "      <td>True</td>\n",
       "      <td>8.021155</td>\n",
       "      <td>0.774848</td>\n",
       "      <td>1.290576</td>\n",
       "    </tr>\n",
       "    <tr>\n",
       "      <th>3</th>\n",
       "      <td>-0.912506</td>\n",
       "      <td>True</td>\n",
       "      <td>4.163622</td>\n",
       "      <td>0.275437</td>\n",
       "      <td>3.630597</td>\n",
       "    </tr>\n",
       "    <tr>\n",
       "      <th>4</th>\n",
       "      <td>-0.307413</td>\n",
       "      <td>True</td>\n",
       "      <td>4.507873</td>\n",
       "      <td>0.424249</td>\n",
       "      <td>2.357107</td>\n",
       "    </tr>\n",
       "    <tr>\n",
       "      <th>...</th>\n",
       "      <td>...</td>\n",
       "      <td>...</td>\n",
       "      <td>...</td>\n",
       "      <td>...</td>\n",
       "      <td>...</td>\n",
       "    </tr>\n",
       "    <tr>\n",
       "      <th>995</th>\n",
       "      <td>-0.838680</td>\n",
       "      <td>True</td>\n",
       "      <td>3.927376</td>\n",
       "      <td>0.291841</td>\n",
       "      <td>3.426521</td>\n",
       "    </tr>\n",
       "    <tr>\n",
       "      <th>996</th>\n",
       "      <td>0.815720</td>\n",
       "      <td>True</td>\n",
       "      <td>5.448863</td>\n",
       "      <td>0.715681</td>\n",
       "      <td>1.397271</td>\n",
       "    </tr>\n",
       "    <tr>\n",
       "      <th>997</th>\n",
       "      <td>1.360879</td>\n",
       "      <td>True</td>\n",
       "      <td>8.034534</td>\n",
       "      <td>0.820455</td>\n",
       "      <td>1.218835</td>\n",
       "    </tr>\n",
       "    <tr>\n",
       "      <th>998</th>\n",
       "      <td>0.559810</td>\n",
       "      <td>True</td>\n",
       "      <td>6.787327</td>\n",
       "      <td>0.655481</td>\n",
       "      <td>1.525597</td>\n",
       "    </tr>\n",
       "    <tr>\n",
       "      <th>999</th>\n",
       "      <td>-1.136402</td>\n",
       "      <td>True</td>\n",
       "      <td>2.363388</td>\n",
       "      <td>0.229328</td>\n",
       "      <td>4.360565</td>\n",
       "    </tr>\n",
       "  </tbody>\n",
       "</table>\n",
       "<p>1000 rows × 5 columns</p>\n",
       "</div>"
      ],
      "text/plain": [
       "           W0    v0         y  propensity_score    weight\n",
       "0   -0.944913  True  2.130353          0.268419  3.725515\n",
       "1    0.265083  True  5.494562          0.579530  1.725535\n",
       "2    1.101652  True  8.021155          0.774848  1.290576\n",
       "3   -0.912506  True  4.163622          0.275437  3.630597\n",
       "4   -0.307413  True  4.507873          0.424249  2.357107\n",
       "..        ...   ...       ...               ...       ...\n",
       "995 -0.838680  True  3.927376          0.291841  3.426521\n",
       "996  0.815720  True  5.448863          0.715681  1.397271\n",
       "997  1.360879  True  8.034534          0.820455  1.218835\n",
       "998  0.559810  True  6.787327          0.655481  1.525597\n",
       "999 -1.136402  True  2.363388          0.229328  4.360565\n",
       "\n",
       "[1000 rows x 5 columns]"
      ]
     },
     "execution_count": 7,
     "metadata": {},
     "output_type": "execute_result"
    }
   ],
   "source": [
    "cdf_1"
   ]
  },
  {
   "cell_type": "markdown",
   "metadata": {},
   "source": [
    "## Comparing the estimate to Linear Regression\n",
    "First, estimating the effect using the causal data frame, and the 95% confidence interval."
   ]
  },
  {
   "cell_type": "code",
   "execution_count": 8,
   "metadata": {
    "execution": {
     "iopub.execute_input": "2023-07-16T17:17:40.751890Z",
     "iopub.status.busy": "2023-07-16T17:17:40.751413Z",
     "iopub.status.idle": "2023-07-16T17:17:40.826366Z",
     "shell.execute_reply": "2023-07-16T17:17:40.825062Z"
    }
   },
   "outputs": [
    {
     "data": {
      "image/png": "[encoded data removed]",
      "text/latex": [
       "$\\displaystyle 4.65690139974245$"
      ],
      "text/plain": [
       "4.65690139974245"
      ]
     },
     "execution_count": 8,
     "metadata": {},
     "output_type": "execute_result"
    }
   ],
   "source": [
    "(cdf_1['y'] - cdf_0['y']).mean()"
   ]
  },
  {
   "cell_type": "code",
   "execution_count": 9,
   "metadata": {
    "execution": {
     "iopub.execute_input": "2023-07-16T17:17:40.830525Z",
     "iopub.status.busy": "2023-07-16T17:17:40.829958Z",
     "iopub.status.idle": "2023-07-16T17:17:40.859442Z",
     "shell.execute_reply": "2023-07-16T17:17:40.858611Z"
    }
   },
   "outputs": [
    {
     "data": {
      "image/png": "[encoded data removed]",
      "text/latex": [
       "$\\displaystyle 0.239336883451724$"
      ],
      "text/plain": [
       "0.23933688345172446"
      ]
     },
     "execution_count": 9,
     "metadata": {},
     "output_type": "execute_result"
    }
   ],
   "source": [
    "1.96*(cdf_1['y'] - cdf_0['y']).std() / np.sqrt(len(df))"
   ]
  },
  {
   "cell_type": "markdown",
   "metadata": {},
   "source": [
    "Comparing to the estimate from OLS."
   ]
  },
  {
   "cell_type": "code",
   "execution_count": 10,
   "metadata": {
    "execution": {
     "iopub.execute_input": "2023-07-16T17:17:40.863338Z",
     "iopub.status.busy": "2023-07-16T17:17:40.862756Z",
     "iopub.status.idle": "2023-07-16T17:17:40.881745Z",
     "shell.execute_reply": "2023-07-16T17:17:40.880919Z"
    }
   },
   "outputs": [
    {
     "data": {
      "text/html": [
       "<table class=\"simpletable\">\n",
       "<caption>OLS Regression Results</caption>\n",
       "<tr>\n",
       "  <th>Dep. Variable:</th>            <td>y</td>        <th>  R-squared (uncentered):</th>      <td>   0.951</td>\n",
       "</tr>\n",
       "<tr>\n",
       "  <th>Model:</th>                   <td>OLS</td>       <th>  Adj. R-squared (uncentered):</th> <td>   0.951</td>\n",
       "</tr>\n",
       "<tr>\n",
       "  <th>Method:</th>             <td>Least Squares</td>  <th>  F-statistic:       </th>          <td>   9734.</td>\n",
       "</tr>\n",
       "<tr>\n",
       "  <th>Date:</th>             <td>Sun, 16 Jul 2023</td> <th>  Prob (F-statistic):</th>           <td>  0.00</td> \n",
       "</tr>\n",
       "<tr>\n",
       "  <th>Time:</th>                 <td>17:17:40</td>     <th>  Log-Likelihood:    </th>          <td> -1384.9</td>\n",
       "</tr>\n",
       "<tr>\n",
       "  <th>No. Observations:</th>      <td>  1000</td>      <th>  AIC:               </th>          <td>   2774.</td>\n",
       "</tr>\n",
       "<tr>\n",
       "  <th>Df Residuals:</th>          <td>   998</td>      <th>  BIC:               </th>          <td>   2784.</td>\n",
       "</tr>\n",
       "<tr>\n",
       "  <th>Df Model:</th>              <td>     2</td>      <th>                     </th>              <td> </td>   \n",
       "</tr>\n",
       "<tr>\n",
       "  <th>Covariance Type:</th>      <td>nonrobust</td>    <th>                     </th>              <td> </td>   \n",
       "</tr>\n",
       "</table>\n",
       "<table class=\"simpletable\">\n",
       "<tr>\n",
       "   <td></td>     <th>coef</th>     <th>std err</th>      <th>t</th>      <th>P>|t|</th>  <th>[0.025</th>    <th>0.975]</th>  \n",
       "</tr>\n",
       "<tr>\n",
       "  <th>x1</th> <td>    2.4240</td> <td>    0.027</td> <td>   89.752</td> <td> 0.000</td> <td>    2.371</td> <td>    2.477</td>\n",
       "</tr>\n",
       "<tr>\n",
       "  <th>x2</th> <td>    5.0072</td> <td>    0.048</td> <td>  103.306</td> <td> 0.000</td> <td>    4.912</td> <td>    5.102</td>\n",
       "</tr>\n",
       "</table>\n",
       "<table class=\"simpletable\">\n",
       "<tr>\n",
       "  <th>Omnibus:</th>       <td> 1.388</td> <th>  Durbin-Watson:     </th> <td>   2.044</td>\n",
       "</tr>\n",
       "<tr>\n",
       "  <th>Prob(Omnibus):</th> <td> 0.500</td> <th>  Jarque-Bera (JB):  </th> <td>   1.357</td>\n",
       "</tr>\n",
       "<tr>\n",
       "  <th>Skew:</th>          <td> 0.090</td> <th>  Prob(JB):          </th> <td>   0.507</td>\n",
       "</tr>\n",
       "<tr>\n",
       "  <th>Kurtosis:</th>      <td> 3.002</td> <th>  Cond. No.          </th> <td>    1.80</td>\n",
       "</tr>\n",
       "</table><br/><br/>Notes:<br/>[1] R² is computed without centering (uncentered) since the model does not contain a constant.<br/>[2] Standard Errors assume that the covariance matrix of the errors is correctly specified."
      ],
      "text/plain": [
       "<class 'statsmodels.iolib.summary.Summary'>\n",
       "\"\"\"\n",
       "                                 OLS Regression Results                                \n",
       "=======================================================================================\n",
       "Dep. Variable:                      y   R-squared (uncentered):                   0.951\n",
       "Model:                            OLS   Adj. R-squared (uncentered):              0.951\n",
       "Method:                 Least Squares   F-statistic:                              9734.\n",
       "Date:                Sun, 16 Jul 2023   Prob (F-statistic):                        0.00\n",
       "Time:                        17:17:40   Log-Likelihood:                         -1384.9\n",
       "No. Observations:                1000   AIC:                                      2774.\n",
       "Df Residuals:                     998   BIC:                                      2784.\n",
       "Df Model:                           2                                                  \n",
       "Covariance Type:            nonrobust                                                  \n",
       "==============================================================================\n",
       "                 coef    std err          t      P>|t|      [0.025      0.975]\n",
       "------------------------------------------------------------------------------\n",
       "x1             2.4240      0.027     89.752      0.000       2.371       2.477\n",
       "x2             5.0072      0.048    103.306      0.000       4.912       5.102\n",
       "==============================================================================\n",
       "Omnibus:                        1.388   Durbin-Watson:                   2.044\n",
       "Prob(Omnibus):                  0.500   Jarque-Bera (JB):                1.357\n",
       "Skew:                           0.090   Prob(JB):                        0.507\n",
       "Kurtosis:                       3.002   Cond. No.                         1.80\n",
       "==============================================================================\n",
       "\n",
       "Notes:\n",
       "[1] R² is computed without centering (uncentered) since the model does not contain a constant.\n",
       "[2] Standard Errors assume that the covariance matrix of the errors is correctly specified.\n",
       "\"\"\""
      ]
     },
     "execution_count": 10,
     "metadata": {},
     "output_type": "execute_result"
    }
   ],
   "source": [
    "model = OLS(np.asarray(df[outcome]), np.asarray(df[[common_cause, treatment]], dtype=np.float64))\n",
    "result = model.fit()\n",
    "result.summary()"
   ]
  }
 ],
 "metadata": {
  "kernelspec": {
   "display_name": "Python 3",
   "language": "python",
   "name": "python3"
  },
  "language_info": {
   "codemirror_mode": {
    "name": "ipython",
    "version": 3
   },
   "file_extension": ".py",
   "mimetype": "text/x-python",
   "name": "python",
   "nbconvert_exporter": "python",
   "pygments_lexer": "ipython3",
   "version": "3.8.10"
  },
  "toc": {
   "base_numbering": 1,
   "nav_menu": {},
   "number_sections": false,
   "sideBar": true,
   "skip_h1_title": true,
   "title_cell": "Table of Contents",
   "title_sidebar": "Contents",
   "toc_cell": false,
   "toc_position": {},
   "toc_section_display": true,
   "toc_window_display": false
  }
 },
 "nbformat": 4,
 "nbformat_minor": 4
}
