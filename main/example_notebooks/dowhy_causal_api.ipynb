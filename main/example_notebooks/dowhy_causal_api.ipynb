{
 "cells": [
  {
   "cell_type": "markdown",
   "metadata": {},
   "source": [
    "# Demo for the DoWhy causal API\n",
    "We show a simple example of adding a causal extension to any dataframe. "
   ]
  },
  {
   "cell_type": "code",
   "execution_count": 1,
   "metadata": {
    "execution": {
     "iopub.execute_input": "2024-05-21T17:51:56.586581Z",
     "iopub.status.busy": "2024-05-21T17:51:56.586169Z",
     "iopub.status.idle": "2024-05-21T17:51:57.987269Z",
     "shell.execute_reply": "2024-05-21T17:51:57.986674Z"
    }
   },
   "outputs": [],
   "source": [
    "import dowhy.datasets\n",
    "import dowhy.api\n",
    "from dowhy.graph import build_graph_from_str\n",
    "\n",
    "import numpy as np\n",
    "import pandas as pd\n",
    "\n",
    "from statsmodels.api import OLS"
   ]
  },
  {
   "cell_type": "code",
   "execution_count": 2,
   "metadata": {
    "execution": {
     "iopub.execute_input": "2024-05-21T17:51:57.990123Z",
     "iopub.status.busy": "2024-05-21T17:51:57.989658Z",
     "iopub.status.idle": "2024-05-21T17:51:58.026152Z",
     "shell.execute_reply": "2024-05-21T17:51:58.025544Z"
    }
   },
   "outputs": [
    {
     "data": {
      "text/html": [
       "<div>\n",
       "<style scoped>\n",
       "    .dataframe tbody tr th:only-of-type {\n",
       "        vertical-align: middle;\n",
       "    }\n",
       "\n",
       "    .dataframe tbody tr th {\n",
       "        vertical-align: top;\n",
       "    }\n",
       "\n",
       "    .dataframe thead th {\n",
       "        text-align: right;\n",
       "    }\n",
       "</style>\n",
       "<table border=\"1\" class=\"dataframe\">\n",
       "  <thead>\n",
       "    <tr style=\"text-align: right;\">\n",
       "      <th></th>\n",
       "      <th>W0</th>\n",
       "      <th>v0</th>\n",
       "      <th>y</th>\n",
       "    </tr>\n",
       "  </thead>\n",
       "  <tbody>\n",
       "    <tr>\n",
       "      <th>0</th>\n",
       "      <td>0.658554</td>\n",
       "      <td>False</td>\n",
       "      <td>1.554445</td>\n",
       "    </tr>\n",
       "    <tr>\n",
       "      <th>1</th>\n",
       "      <td>0.296818</td>\n",
       "      <td>True</td>\n",
       "      <td>5.784714</td>\n",
       "    </tr>\n",
       "    <tr>\n",
       "      <th>2</th>\n",
       "      <td>-2.402264</td>\n",
       "      <td>False</td>\n",
       "      <td>-0.765250</td>\n",
       "    </tr>\n",
       "    <tr>\n",
       "      <th>3</th>\n",
       "      <td>-0.588699</td>\n",
       "      <td>False</td>\n",
       "      <td>-1.197277</td>\n",
       "    </tr>\n",
       "    <tr>\n",
       "      <th>4</th>\n",
       "      <td>-1.090333</td>\n",
       "      <td>False</td>\n",
       "      <td>-0.501680</td>\n",
       "    </tr>\n",
       "    <tr>\n",
       "      <th>...</th>\n",
       "      <td>...</td>\n",
       "      <td>...</td>\n",
       "      <td>...</td>\n",
       "    </tr>\n",
       "    <tr>\n",
       "      <th>995</th>\n",
       "      <td>-1.067696</td>\n",
       "      <td>False</td>\n",
       "      <td>-1.673195</td>\n",
       "    </tr>\n",
       "    <tr>\n",
       "      <th>996</th>\n",
       "      <td>0.157862</td>\n",
       "      <td>False</td>\n",
       "      <td>0.250262</td>\n",
       "    </tr>\n",
       "    <tr>\n",
       "      <th>997</th>\n",
       "      <td>-1.419268</td>\n",
       "      <td>False</td>\n",
       "      <td>-1.279221</td>\n",
       "    </tr>\n",
       "    <tr>\n",
       "      <th>998</th>\n",
       "      <td>-2.109361</td>\n",
       "      <td>False</td>\n",
       "      <td>-3.556159</td>\n",
       "    </tr>\n",
       "    <tr>\n",
       "      <th>999</th>\n",
       "      <td>-1.356268</td>\n",
       "      <td>False</td>\n",
       "      <td>-0.286203</td>\n",
       "    </tr>\n",
       "  </tbody>\n",
       "</table>\n",
       "<p>1000 rows × 3 columns</p>\n",
       "</div>"
      ],
      "text/plain": [
       "           W0     v0         y\n",
       "0    0.658554  False  1.554445\n",
       "1    0.296818   True  5.784714\n",
       "2   -2.402264  False -0.765250\n",
       "3   -0.588699  False -1.197277\n",
       "4   -1.090333  False -0.501680\n",
       "..        ...    ...       ...\n",
       "995 -1.067696  False -1.673195\n",
       "996  0.157862  False  0.250262\n",
       "997 -1.419268  False -1.279221\n",
       "998 -2.109361  False -3.556159\n",
       "999 -1.356268  False -0.286203\n",
       "\n",
       "[1000 rows x 3 columns]"
      ]
     },
     "execution_count": 2,
     "metadata": {},
     "output_type": "execute_result"
    }
   ],
   "source": [
    "data = dowhy.datasets.linear_dataset(beta=5,\n",
    "        num_common_causes=1,\n",
    "        num_instruments = 0,\n",
    "        num_samples=1000,\n",
    "        treatment_is_binary=True)\n",
    "df = data['df']\n",
    "df['y'] = df['y'] + np.random.normal(size=len(df)) # Adding noise to data. Without noise, the variance in Y|X, Z is zero, and mcmc fails.\n",
    "nx_graph = build_graph_from_str(data[\"dot_graph\"])\n",
    "\n",
    "treatment= data[\"treatment_name\"][0]\n",
    "outcome = data[\"outcome_name\"][0]\n",
    "common_cause = data[\"common_causes_names\"][0]\n",
    "df"
   ]
  },
  {
   "cell_type": "code",
   "execution_count": 3,
   "metadata": {
    "execution": {
     "iopub.execute_input": "2024-05-21T17:51:58.028530Z",
     "iopub.status.busy": "2024-05-21T17:51:58.028152Z",
     "iopub.status.idle": "2024-05-21T17:51:58.211485Z",
     "shell.execute_reply": "2024-05-21T17:51:58.210852Z"
    },
    "scrolled": true
   },
   "outputs": [
    {
     "data": {
      "text/plain": [
       "<Axes: xlabel='v0'>"
      ]
     },
     "execution_count": 3,
     "metadata": {},
     "output_type": "execute_result"
    },
    {
     "data": {
      "image/png": "[encoded data removed]",
      "text/plain": [
       "<Figure size 640x480 with 1 Axes>"
      ]
     },
     "metadata": {},
     "output_type": "display_data"
    }
   ],
   "source": [
    "# data['df'] is just a regular pandas.DataFrame\n",
    "df.causal.do(x=treatment,\n",
    "             variable_types={treatment: 'b', outcome: 'c', common_cause: 'c'},\n",
    "             outcome=outcome,\n",
    "             common_causes=[common_cause],\n",
    "            ).groupby(treatment).mean().plot(y=outcome, kind='bar')"
   ]
  },
  {
   "cell_type": "code",
   "execution_count": 4,
   "metadata": {
    "execution": {
     "iopub.execute_input": "2024-05-21T17:51:58.214090Z",
     "iopub.status.busy": "2024-05-21T17:51:58.213630Z",
     "iopub.status.idle": "2024-05-21T17:51:58.354352Z",
     "shell.execute_reply": "2024-05-21T17:51:58.353724Z"
    }
   },
   "outputs": [
    {
     "data": {
      "text/plain": [
       "<Axes: xlabel='v0'>"
      ]
     },
     "execution_count": 4,
     "metadata": {},
     "output_type": "execute_result"
    },
    {
     "data": {
      "image/png": "[encoded data removed]",
      "text/plain": [
       "<Figure size 640x480 with 1 Axes>"
      ]
     },
     "metadata": {},
     "output_type": "display_data"
    }
   ],
   "source": [
    "df.causal.do(x={treatment: 1}, \n",
    "              variable_types={treatment:'b', outcome: 'c', common_cause: 'c'}, \n",
    "              outcome=outcome,\n",
    "              method='weighting', \n",
    "              common_causes=[common_cause]\n",
    "              ).groupby(treatment).mean().plot(y=outcome, kind='bar')"
   ]
  },
  {
   "cell_type": "code",
   "execution_count": 5,
   "metadata": {
    "execution": {
     "iopub.execute_input": "2024-05-21T17:51:58.356812Z",
     "iopub.status.busy": "2024-05-21T17:51:58.356581Z",
     "iopub.status.idle": "2024-05-21T17:51:58.377605Z",
     "shell.execute_reply": "2024-05-21T17:51:58.377106Z"
    }
   },
   "outputs": [],
   "source": [
    "cdf_1 = df.causal.do(x={treatment: 1}, \n",
    "              variable_types={treatment: 'b', outcome: 'c', common_cause: 'c'}, \n",
    "              outcome=outcome, \n",
    "              graph=nx_graph\n",
    "              )\n",
    "\n",
    "cdf_0 = df.causal.do(x={treatment: 0}, \n",
    "              variable_types={treatment: 'b', outcome: 'c', common_cause: 'c'}, \n",
    "              outcome=outcome, \n",
    "              graph=nx_graph\n",
    "              )\n"
   ]
  },
  {
   "cell_type": "code",
   "execution_count": 6,
   "metadata": {
    "execution": {
     "iopub.execute_input": "2024-05-21T17:51:58.379943Z",
     "iopub.status.busy": "2024-05-21T17:51:58.379584Z",
     "iopub.status.idle": "2024-05-21T17:51:58.388490Z",
     "shell.execute_reply": "2024-05-21T17:51:58.387940Z"
    },
    "scrolled": true
   },
   "outputs": [
    {
     "data": {
      "text/html": [
       "<div>\n",
       "<style scoped>\n",
       "    .dataframe tbody tr th:only-of-type {\n",
       "        vertical-align: middle;\n",
       "    }\n",
       "\n",
       "    .dataframe tbody tr th {\n",
       "        vertical-align: top;\n",
       "    }\n",
       "\n",
       "    .dataframe thead th {\n",
       "        text-align: right;\n",
       "    }\n",
       "</style>\n",
       "<table border=\"1\" class=\"dataframe\">\n",
       "  <thead>\n",
       "    <tr style=\"text-align: right;\">\n",
       "      <th></th>\n",
       "      <th>W0</th>\n",
       "      <th>v0</th>\n",
       "      <th>y</th>\n",
       "      <th>propensity_score</th>\n",
       "      <th>weight</th>\n",
       "    </tr>\n",
       "  </thead>\n",
       "  <tbody>\n",
       "    <tr>\n",
       "      <th>0</th>\n",
       "      <td>-2.464397</td>\n",
       "      <td>False</td>\n",
       "      <td>-3.596732</td>\n",
       "      <td>0.995716</td>\n",
       "      <td>1.004302</td>\n",
       "    </tr>\n",
       "    <tr>\n",
       "      <th>1</th>\n",
       "      <td>-0.949306</td>\n",
       "      <td>False</td>\n",
       "      <td>-1.629671</td>\n",
       "      <td>0.898035</td>\n",
       "      <td>1.113542</td>\n",
       "    </tr>\n",
       "    <tr>\n",
       "      <th>2</th>\n",
       "      <td>-3.133813</td>\n",
       "      <td>False</td>\n",
       "      <td>-4.754921</td>\n",
       "      <td>0.998988</td>\n",
       "      <td>1.001013</td>\n",
       "    </tr>\n",
       "    <tr>\n",
       "      <th>3</th>\n",
       "      <td>-2.385485</td>\n",
       "      <td>False</td>\n",
       "      <td>-2.841521</td>\n",
       "      <td>0.994924</td>\n",
       "      <td>1.005102</td>\n",
       "    </tr>\n",
       "    <tr>\n",
       "      <th>4</th>\n",
       "      <td>0.467739</td>\n",
       "      <td>False</td>\n",
       "      <td>-0.303072</td>\n",
       "      <td>0.292009</td>\n",
       "      <td>3.424548</td>\n",
       "    </tr>\n",
       "    <tr>\n",
       "      <th>...</th>\n",
       "      <td>...</td>\n",
       "      <td>...</td>\n",
       "      <td>...</td>\n",
       "      <td>...</td>\n",
       "      <td>...</td>\n",
       "    </tr>\n",
       "    <tr>\n",
       "      <th>995</th>\n",
       "      <td>-0.980088</td>\n",
       "      <td>False</td>\n",
       "      <td>-1.242719</td>\n",
       "      <td>0.903965</td>\n",
       "      <td>1.106237</td>\n",
       "    </tr>\n",
       "    <tr>\n",
       "      <th>996</th>\n",
       "      <td>-1.409210</td>\n",
       "      <td>False</td>\n",
       "      <td>-0.497941</td>\n",
       "      <td>0.959655</td>\n",
       "      <td>1.042041</td>\n",
       "    </tr>\n",
       "    <tr>\n",
       "      <th>997</th>\n",
       "      <td>-0.641814</td>\n",
       "      <td>False</td>\n",
       "      <td>-0.023440</td>\n",
       "      <td>0.819255</td>\n",
       "      <td>1.220621</td>\n",
       "    </tr>\n",
       "    <tr>\n",
       "      <th>998</th>\n",
       "      <td>-1.157011</td>\n",
       "      <td>False</td>\n",
       "      <td>-0.581519</td>\n",
       "      <td>0.932408</td>\n",
       "      <td>1.072492</td>\n",
       "    </tr>\n",
       "    <tr>\n",
       "      <th>999</th>\n",
       "      <td>0.699374</td>\n",
       "      <td>False</td>\n",
       "      <td>1.230206</td>\n",
       "      <td>0.200040</td>\n",
       "      <td>4.998996</td>\n",
       "    </tr>\n",
       "  </tbody>\n",
       "</table>\n",
       "<p>1000 rows × 5 columns</p>\n",
       "</div>"
      ],
      "text/plain": [
       "           W0     v0         y  propensity_score    weight\n",
       "0   -2.464397  False -3.596732          0.995716  1.004302\n",
       "1   -0.949306  False -1.629671          0.898035  1.113542\n",
       "2   -3.133813  False -4.754921          0.998988  1.001013\n",
       "3   -2.385485  False -2.841521          0.994924  1.005102\n",
       "4    0.467739  False -0.303072          0.292009  3.424548\n",
       "..        ...    ...       ...               ...       ...\n",
       "995 -0.980088  False -1.242719          0.903965  1.106237\n",
       "996 -1.409210  False -0.497941          0.959655  1.042041\n",
       "997 -0.641814  False -0.023440          0.819255  1.220621\n",
       "998 -1.157011  False -0.581519          0.932408  1.072492\n",
       "999  0.699374  False  1.230206          0.200040  4.998996\n",
       "\n",
       "[1000 rows x 5 columns]"
      ]
     },
     "execution_count": 6,
     "metadata": {},
     "output_type": "execute_result"
    }
   ],
   "source": [
    "cdf_0"
   ]
  },
  {
   "cell_type": "code",
   "execution_count": 7,
   "metadata": {
    "execution": {
     "iopub.execute_input": "2024-05-21T17:51:58.390787Z",
     "iopub.status.busy": "2024-05-21T17:51:58.390419Z",
     "iopub.status.idle": "2024-05-21T17:51:58.398860Z",
     "shell.execute_reply": "2024-05-21T17:51:58.398293Z"
    }
   },
   "outputs": [
    {
     "data": {
      "text/html": [
       "<div>\n",
       "<style scoped>\n",
       "    .dataframe tbody tr th:only-of-type {\n",
       "        vertical-align: middle;\n",
       "    }\n",
       "\n",
       "    .dataframe tbody tr th {\n",
       "        vertical-align: top;\n",
       "    }\n",
       "\n",
       "    .dataframe thead th {\n",
       "        text-align: right;\n",
       "    }\n",
       "</style>\n",
       "<table border=\"1\" class=\"dataframe\">\n",
       "  <thead>\n",
       "    <tr style=\"text-align: right;\">\n",
       "      <th></th>\n",
       "      <th>W0</th>\n",
       "      <th>v0</th>\n",
       "      <th>y</th>\n",
       "      <th>propensity_score</th>\n",
       "      <th>weight</th>\n",
       "    </tr>\n",
       "  </thead>\n",
       "  <tbody>\n",
       "    <tr>\n",
       "      <th>0</th>\n",
       "      <td>-1.852539</td>\n",
       "      <td>True</td>\n",
       "      <td>2.242374</td>\n",
       "      <td>0.015878</td>\n",
       "      <td>62.980772</td>\n",
       "    </tr>\n",
       "    <tr>\n",
       "      <th>1</th>\n",
       "      <td>-1.684452</td>\n",
       "      <td>True</td>\n",
       "      <td>0.976851</td>\n",
       "      <td>0.022672</td>\n",
       "      <td>44.108002</td>\n",
       "    </tr>\n",
       "    <tr>\n",
       "      <th>2</th>\n",
       "      <td>-0.031701</td>\n",
       "      <td>True</td>\n",
       "      <td>4.263158</td>\n",
       "      <td>0.451827</td>\n",
       "      <td>2.213235</td>\n",
       "    </tr>\n",
       "    <tr>\n",
       "      <th>3</th>\n",
       "      <td>-1.852539</td>\n",
       "      <td>True</td>\n",
       "      <td>2.242374</td>\n",
       "      <td>0.015878</td>\n",
       "      <td>62.980772</td>\n",
       "    </tr>\n",
       "    <tr>\n",
       "      <th>4</th>\n",
       "      <td>0.720764</td>\n",
       "      <td>True</td>\n",
       "      <td>5.904678</td>\n",
       "      <td>0.807252</td>\n",
       "      <td>1.238770</td>\n",
       "    </tr>\n",
       "    <tr>\n",
       "      <th>...</th>\n",
       "      <td>...</td>\n",
       "      <td>...</td>\n",
       "      <td>...</td>\n",
       "      <td>...</td>\n",
       "      <td>...</td>\n",
       "    </tr>\n",
       "    <tr>\n",
       "      <th>995</th>\n",
       "      <td>0.034571</td>\n",
       "      <td>True</td>\n",
       "      <td>5.498146</td>\n",
       "      <td>0.487472</td>\n",
       "      <td>2.051400</td>\n",
       "    </tr>\n",
       "    <tr>\n",
       "      <th>996</th>\n",
       "      <td>-0.322492</td>\n",
       "      <td>True</td>\n",
       "      <td>3.572749</td>\n",
       "      <td>0.305449</td>\n",
       "      <td>3.273865</td>\n",
       "    </tr>\n",
       "    <tr>\n",
       "      <th>997</th>\n",
       "      <td>0.170548</td>\n",
       "      <td>True</td>\n",
       "      <td>5.009471</td>\n",
       "      <td>0.560607</td>\n",
       "      <td>1.783780</td>\n",
       "    </tr>\n",
       "    <tr>\n",
       "      <th>998</th>\n",
       "      <td>-0.870968</td>\n",
       "      <td>True</td>\n",
       "      <td>3.891278</td>\n",
       "      <td>0.118538</td>\n",
       "      <td>8.436112</td>\n",
       "    </tr>\n",
       "    <tr>\n",
       "      <th>999</th>\n",
       "      <td>-0.273593</td>\n",
       "      <td>True</td>\n",
       "      <td>5.176898</td>\n",
       "      <td>0.328309</td>\n",
       "      <td>3.045914</td>\n",
       "    </tr>\n",
       "  </tbody>\n",
       "</table>\n",
       "<p>1000 rows × 5 columns</p>\n",
       "</div>"
      ],
      "text/plain": [
       "           W0    v0         y  propensity_score     weight\n",
       "0   -1.852539  True  2.242374          0.015878  62.980772\n",
       "1   -1.684452  True  0.976851          0.022672  44.108002\n",
       "2   -0.031701  True  4.263158          0.451827   2.213235\n",
       "3   -1.852539  True  2.242374          0.015878  62.980772\n",
       "4    0.720764  True  5.904678          0.807252   1.238770\n",
       "..        ...   ...       ...               ...        ...\n",
       "995  0.034571  True  5.498146          0.487472   2.051400\n",
       "996 -0.322492  True  3.572749          0.305449   3.273865\n",
       "997  0.170548  True  5.009471          0.560607   1.783780\n",
       "998 -0.870968  True  3.891278          0.118538   8.436112\n",
       "999 -0.273593  True  5.176898          0.328309   3.045914\n",
       "\n",
       "[1000 rows x 5 columns]"
      ]
     },
     "execution_count": 7,
     "metadata": {},
     "output_type": "execute_result"
    }
   ],
   "source": [
    "cdf_1"
   ]
  },
  {
   "cell_type": "markdown",
   "metadata": {},
   "source": [
    "## Comparing the estimate to Linear Regression\n",
    "First, estimating the effect using the causal data frame, and the 95% confidence interval."
   ]
  },
  {
   "cell_type": "code",
   "execution_count": 8,
   "metadata": {
    "execution": {
     "iopub.execute_input": "2024-05-21T17:51:58.401143Z",
     "iopub.status.busy": "2024-05-21T17:51:58.400791Z",
     "iopub.status.idle": "2024-05-21T17:51:58.446245Z",
     "shell.execute_reply": "2024-05-21T17:51:58.445647Z"
    }
   },
   "outputs": [
    {
     "data": {
      "image/png": "[encoded data removed]",
      "text/latex": [
       "$\\displaystyle 5.1834181549519$"
      ],
      "text/plain": [
       "5.183418154951896"
      ]
     },
     "execution_count": 8,
     "metadata": {},
     "output_type": "execute_result"
    }
   ],
   "source": [
    "(cdf_1['y'] - cdf_0['y']).mean()"
   ]
  },
  {
   "cell_type": "code",
   "execution_count": 9,
   "metadata": {
    "execution": {
     "iopub.execute_input": "2024-05-21T17:51:58.448479Z",
     "iopub.status.busy": "2024-05-21T17:51:58.448176Z",
     "iopub.status.idle": "2024-05-21T17:51:58.464407Z",
     "shell.execute_reply": "2024-05-21T17:51:58.463875Z"
    }
   },
   "outputs": [
    {
     "data": {
      "image/png": "[encoded data removed]",
      "text/latex": [
       "$\\displaystyle 0.152734290872561$"
      ],
      "text/plain": [
       "0.15273429087256135"
      ]
     },
     "execution_count": 9,
     "metadata": {},
     "output_type": "execute_result"
    }
   ],
   "source": [
    "1.96*(cdf_1['y'] - cdf_0['y']).std() / np.sqrt(len(df))"
   ]
  },
  {
   "cell_type": "markdown",
   "metadata": {},
   "source": [
    "Comparing to the estimate from OLS."
   ]
  },
  {
   "cell_type": "code",
   "execution_count": 10,
   "metadata": {
    "execution": {
     "iopub.execute_input": "2024-05-21T17:51:58.466859Z",
     "iopub.status.busy": "2024-05-21T17:51:58.466431Z",
     "iopub.status.idle": "2024-05-21T17:51:58.482944Z",
     "shell.execute_reply": "2024-05-21T17:51:58.482440Z"
    }
   },
   "outputs": [
    {
     "data": {
      "text/html": [
       "<table class=\"simpletable\">\n",
       "<caption>OLS Regression Results</caption>\n",
       "<tr>\n",
       "  <th>Dep. Variable:</th>            <td>y</td>        <th>  R-squared (uncentered):</th>      <td>   0.912</td>\n",
       "</tr>\n",
       "<tr>\n",
       "  <th>Model:</th>                   <td>OLS</td>       <th>  Adj. R-squared (uncentered):</th> <td>   0.912</td>\n",
       "</tr>\n",
       "<tr>\n",
       "  <th>Method:</th>             <td>Least Squares</td>  <th>  F-statistic:       </th>          <td>   5202.</td>\n",
       "</tr>\n",
       "<tr>\n",
       "  <th>Date:</th>             <td>Tue, 21 May 2024</td> <th>  Prob (F-statistic):</th>           <td>  0.00</td> \n",
       "</tr>\n",
       "<tr>\n",
       "  <th>Time:</th>                 <td>17:51:58</td>     <th>  Log-Likelihood:    </th>          <td> -1388.6</td>\n",
       "</tr>\n",
       "<tr>\n",
       "  <th>No. Observations:</th>      <td>  1000</td>      <th>  AIC:               </th>          <td>   2781.</td>\n",
       "</tr>\n",
       "<tr>\n",
       "  <th>Df Residuals:</th>          <td>   998</td>      <th>  BIC:               </th>          <td>   2791.</td>\n",
       "</tr>\n",
       "<tr>\n",
       "  <th>Df Model:</th>              <td>     2</td>      <th>                     </th>              <td> </td>   \n",
       "</tr>\n",
       "<tr>\n",
       "  <th>Covariance Type:</th>      <td>nonrobust</td>    <th>                     </th>              <td> </td>   \n",
       "</tr>\n",
       "</table>\n",
       "<table class=\"simpletable\">\n",
       "<tr>\n",
       "   <td></td>     <th>coef</th>     <th>std err</th>      <th>t</th>      <th>P>|t|</th>  <th>[0.025</th>    <th>0.975]</th>  \n",
       "</tr>\n",
       "<tr>\n",
       "  <th>x1</th> <td>    1.4490</td> <td>    0.022</td> <td>   65.193</td> <td> 0.000</td> <td>    1.405</td> <td>    1.493</td>\n",
       "</tr>\n",
       "<tr>\n",
       "  <th>x2</th> <td>    5.0889</td> <td>    0.066</td> <td>   76.632</td> <td> 0.000</td> <td>    4.959</td> <td>    5.219</td>\n",
       "</tr>\n",
       "</table>\n",
       "<table class=\"simpletable\">\n",
       "<tr>\n",
       "  <th>Omnibus:</th>       <td> 2.687</td> <th>  Durbin-Watson:     </th> <td>   1.998</td>\n",
       "</tr>\n",
       "<tr>\n",
       "  <th>Prob(Omnibus):</th> <td> 0.261</td> <th>  Jarque-Bera (JB):  </th> <td>   2.562</td>\n",
       "</tr>\n",
       "<tr>\n",
       "  <th>Skew:</th>          <td>-0.096</td> <th>  Prob(JB):          </th> <td>   0.278</td>\n",
       "</tr>\n",
       "<tr>\n",
       "  <th>Kurtosis:</th>      <td> 3.157</td> <th>  Cond. No.          </th> <td>    2.99</td>\n",
       "</tr>\n",
       "</table><br/><br/>Notes:<br/>[1] R² is computed without centering (uncentered) since the model does not contain a constant.<br/>[2] Standard Errors assume that the covariance matrix of the errors is correctly specified."
      ],
      "text/latex": [
       "\\begin{center}\n",
       "\\begin{tabular}{lclc}\n",
       "\\toprule\n",
       "\\textbf{Dep. Variable:}    &        y         & \\textbf{  R-squared (uncentered):}      &     0.912   \\\\\n",
       "\\textbf{Model:}            &       OLS        & \\textbf{  Adj. R-squared (uncentered):} &     0.912   \\\\\n",
       "\\textbf{Method:}           &  Least Squares   & \\textbf{  F-statistic:       }          &     5202.   \\\\\n",
       "\\textbf{Date:}             & Tue, 21 May 2024 & \\textbf{  Prob (F-statistic):}          &     0.00    \\\\\n",
       "\\textbf{Time:}             &     17:51:58     & \\textbf{  Log-Likelihood:    }          &   -1388.6   \\\\\n",
       "\\textbf{No. Observations:} &        1000      & \\textbf{  AIC:               }          &     2781.   \\\\\n",
       "\\textbf{Df Residuals:}     &         998      & \\textbf{  BIC:               }          &     2791.   \\\\\n",
       "\\textbf{Df Model:}         &           2      & \\textbf{                     }          &             \\\\\n",
       "\\textbf{Covariance Type:}  &    nonrobust     & \\textbf{                     }          &             \\\\\n",
       "\\bottomrule\n",
       "\\end{tabular}\n",
       "\\begin{tabular}{lcccccc}\n",
       "            & \\textbf{coef} & \\textbf{std err} & \\textbf{t} & \\textbf{P$> |$t$|$} & \\textbf{[0.025} & \\textbf{0.975]}  \\\\\n",
       "\\midrule\n",
       "\\textbf{x1} &       1.4490  &        0.022     &    65.193  &         0.000        &        1.405    &        1.493     \\\\\n",
       "\\textbf{x2} &       5.0889  &        0.066     &    76.632  &         0.000        &        4.959    &        5.219     \\\\\n",
       "\\bottomrule\n",
       "\\end{tabular}\n",
       "\\begin{tabular}{lclc}\n",
       "\\textbf{Omnibus:}       &  2.687 & \\textbf{  Durbin-Watson:     } &    1.998  \\\\\n",
       "\\textbf{Prob(Omnibus):} &  0.261 & \\textbf{  Jarque-Bera (JB):  } &    2.562  \\\\\n",
       "\\textbf{Skew:}          & -0.096 & \\textbf{  Prob(JB):          } &    0.278  \\\\\n",
       "\\textbf{Kurtosis:}      &  3.157 & \\textbf{  Cond. No.          } &     2.99  \\\\\n",
       "\\bottomrule\n",
       "\\end{tabular}\n",
       "%\\caption{OLS Regression Results}\n",
       "\\end{center}\n",
       "\n",
       "Notes: \\newline\n",
       " [1] R² is computed without centering (uncentered) since the model does not contain a constant. \\newline\n",
       " [2] Standard Errors assume that the covariance matrix of the errors is correctly specified."
      ],
      "text/plain": [
       "<class 'statsmodels.iolib.summary.Summary'>\n",
       "\"\"\"\n",
       "                                 OLS Regression Results                                \n",
       "=======================================================================================\n",
       "Dep. Variable:                      y   R-squared (uncentered):                   0.912\n",
       "Model:                            OLS   Adj. R-squared (uncentered):              0.912\n",
       "Method:                 Least Squares   F-statistic:                              5202.\n",
       "Date:                Tue, 21 May 2024   Prob (F-statistic):                        0.00\n",
       "Time:                        17:51:58   Log-Likelihood:                         -1388.6\n",
       "No. Observations:                1000   AIC:                                      2781.\n",
       "Df Residuals:                     998   BIC:                                      2791.\n",
       "Df Model:                           2                                                  \n",
       "Covariance Type:            nonrobust                                                  \n",
       "==============================================================================\n",
       "                 coef    std err          t      P>|t|      [0.025      0.975]\n",
       "------------------------------------------------------------------------------\n",
       "x1             1.4490      0.022     65.193      0.000       1.405       1.493\n",
       "x2             5.0889      0.066     76.632      0.000       4.959       5.219\n",
       "==============================================================================\n",
       "Omnibus:                        2.687   Durbin-Watson:                   1.998\n",
       "Prob(Omnibus):                  0.261   Jarque-Bera (JB):                2.562\n",
       "Skew:                          -0.096   Prob(JB):                        0.278\n",
       "Kurtosis:                       3.157   Cond. No.                         2.99\n",
       "==============================================================================\n",
       "\n",
       "Notes:\n",
       "[1] R² is computed without centering (uncentered) since the model does not contain a constant.\n",
       "[2] Standard Errors assume that the covariance matrix of the errors is correctly specified.\n",
       "\"\"\""
      ]
     },
     "execution_count": 10,
     "metadata": {},
     "output_type": "execute_result"
    }
   ],
   "source": [
    "model = OLS(np.asarray(df[outcome]), np.asarray(df[[common_cause, treatment]], dtype=np.float64))\n",
    "result = model.fit()\n",
    "result.summary()"
   ]
  }
 ],
 "metadata": {
  "kernelspec": {
   "display_name": "Python 3 (ipykernel)",
   "language": "python",
   "name": "python3"
  },
  "language_info": {
   "codemirror_mode": {
    "name": "ipython",
    "version": 3
   },
   "file_extension": ".py",
   "mimetype": "text/x-python",
   "name": "python",
   "nbconvert_exporter": "python",
   "pygments_lexer": "ipython3",
   "version": "3.8.10"
  },
  "toc": {
   "base_numbering": 1,
   "nav_menu": {},
   "number_sections": false,
   "sideBar": true,
   "skip_h1_title": true,
   "title_cell": "Table of Contents",
   "title_sidebar": "Contents",
   "toc_cell": false,
   "toc_position": {},
   "toc_section_display": true,
   "toc_window_display": false
  }
 },
 "nbformat": 4,
 "nbformat_minor": 4
}
