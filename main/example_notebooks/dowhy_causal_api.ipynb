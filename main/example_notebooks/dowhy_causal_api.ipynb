{
 "cells": [
  {
   "cell_type": "markdown",
   "metadata": {},
   "source": [
    "# Demo for the DoWhy causal API\n",
    "We show a simple example of adding a causal extension to any dataframe. "
   ]
  },
  {
   "cell_type": "code",
   "execution_count": 1,
   "metadata": {
    "execution": {
     "iopub.execute_input": "2024-01-30T17:16:44.736786Z",
     "iopub.status.busy": "2024-01-30T17:16:44.736314Z",
     "iopub.status.idle": "2024-01-30T17:16:46.142666Z",
     "shell.execute_reply": "2024-01-30T17:16:46.142019Z"
    }
   },
   "outputs": [],
   "source": [
    "import dowhy.datasets\n",
    "import dowhy.api\n",
    "from dowhy.graph import build_graph_from_str\n",
    "\n",
    "import numpy as np\n",
    "import pandas as pd\n",
    "\n",
    "from statsmodels.api import OLS"
   ]
  },
  {
   "cell_type": "code",
   "execution_count": 2,
   "metadata": {
    "execution": {
     "iopub.execute_input": "2024-01-30T17:16:46.145666Z",
     "iopub.status.busy": "2024-01-30T17:16:46.145190Z",
     "iopub.status.idle": "2024-01-30T17:16:46.209198Z",
     "shell.execute_reply": "2024-01-30T17:16:46.208546Z"
    }
   },
   "outputs": [
    {
     "data": {
      "text/html": [
       "<div>\n",
       "<style scoped>\n",
       "    .dataframe tbody tr th:only-of-type {\n",
       "        vertical-align: middle;\n",
       "    }\n",
       "\n",
       "    .dataframe tbody tr th {\n",
       "        vertical-align: top;\n",
       "    }\n",
       "\n",
       "    .dataframe thead th {\n",
       "        text-align: right;\n",
       "    }\n",
       "</style>\n",
       "<table border=\"1\" class=\"dataframe\">\n",
       "  <thead>\n",
       "    <tr style=\"text-align: right;\">\n",
       "      <th></th>\n",
       "      <th>W0</th>\n",
       "      <th>v0</th>\n",
       "      <th>y</th>\n",
       "    </tr>\n",
       "  </thead>\n",
       "  <tbody>\n",
       "    <tr>\n",
       "      <th>0</th>\n",
       "      <td>0.287951</td>\n",
       "      <td>True</td>\n",
       "      <td>5.419658</td>\n",
       "    </tr>\n",
       "    <tr>\n",
       "      <th>1</th>\n",
       "      <td>1.031342</td>\n",
       "      <td>True</td>\n",
       "      <td>8.775682</td>\n",
       "    </tr>\n",
       "    <tr>\n",
       "      <th>2</th>\n",
       "      <td>0.316439</td>\n",
       "      <td>False</td>\n",
       "      <td>0.879494</td>\n",
       "    </tr>\n",
       "    <tr>\n",
       "      <th>3</th>\n",
       "      <td>1.806240</td>\n",
       "      <td>False</td>\n",
       "      <td>2.658104</td>\n",
       "    </tr>\n",
       "    <tr>\n",
       "      <th>4</th>\n",
       "      <td>1.526564</td>\n",
       "      <td>True</td>\n",
       "      <td>6.776375</td>\n",
       "    </tr>\n",
       "    <tr>\n",
       "      <th>...</th>\n",
       "      <td>...</td>\n",
       "      <td>...</td>\n",
       "      <td>...</td>\n",
       "    </tr>\n",
       "    <tr>\n",
       "      <th>995</th>\n",
       "      <td>1.168410</td>\n",
       "      <td>False</td>\n",
       "      <td>1.986874</td>\n",
       "    </tr>\n",
       "    <tr>\n",
       "      <th>996</th>\n",
       "      <td>0.505628</td>\n",
       "      <td>False</td>\n",
       "      <td>1.447253</td>\n",
       "    </tr>\n",
       "    <tr>\n",
       "      <th>997</th>\n",
       "      <td>-1.327059</td>\n",
       "      <td>True</td>\n",
       "      <td>4.170412</td>\n",
       "    </tr>\n",
       "    <tr>\n",
       "      <th>998</th>\n",
       "      <td>1.689609</td>\n",
       "      <td>False</td>\n",
       "      <td>3.016132</td>\n",
       "    </tr>\n",
       "    <tr>\n",
       "      <th>999</th>\n",
       "      <td>0.458872</td>\n",
       "      <td>True</td>\n",
       "      <td>7.157032</td>\n",
       "    </tr>\n",
       "  </tbody>\n",
       "</table>\n",
       "<p>1000 rows × 3 columns</p>\n",
       "</div>"
      ],
      "text/plain": [
       "           W0     v0         y\n",
       "0    0.287951   True  5.419658\n",
       "1    1.031342   True  8.775682\n",
       "2    0.316439  False  0.879494\n",
       "3    1.806240  False  2.658104\n",
       "4    1.526564   True  6.776375\n",
       "..        ...    ...       ...\n",
       "995  1.168410  False  1.986874\n",
       "996  0.505628  False  1.447253\n",
       "997 -1.327059   True  4.170412\n",
       "998  1.689609  False  3.016132\n",
       "999  0.458872   True  7.157032\n",
       "\n",
       "[1000 rows x 3 columns]"
      ]
     },
     "execution_count": 2,
     "metadata": {},
     "output_type": "execute_result"
    }
   ],
   "source": [
    "data = dowhy.datasets.linear_dataset(beta=5,\n",
    "        num_common_causes=1,\n",
    "        num_instruments = 0,\n",
    "        num_samples=1000,\n",
    "        treatment_is_binary=True)\n",
    "df = data['df']\n",
    "df['y'] = df['y'] + np.random.normal(size=len(df)) # Adding noise to data. Without noise, the variance in Y|X, Z is zero, and mcmc fails.\n",
    "nx_graph = build_graph_from_str(data[\"dot_graph\"])\n",
    "\n",
    "treatment= data[\"treatment_name\"][0]\n",
    "outcome = data[\"outcome_name\"][0]\n",
    "common_cause = data[\"common_causes_names\"][0]\n",
    "df"
   ]
  },
  {
   "cell_type": "code",
   "execution_count": 3,
   "metadata": {
    "execution": {
     "iopub.execute_input": "2024-01-30T17:16:46.211652Z",
     "iopub.status.busy": "2024-01-30T17:16:46.211298Z",
     "iopub.status.idle": "2024-01-30T17:16:46.399266Z",
     "shell.execute_reply": "2024-01-30T17:16:46.398637Z"
    },
    "scrolled": true
   },
   "outputs": [
    {
     "data": {
      "text/plain": [
       "<Axes: xlabel='v0'>"
      ]
     },
     "execution_count": 3,
     "metadata": {},
     "output_type": "execute_result"
    },
    {
     "data": {
      "image/png": "[encoded data removed]",
      "text/plain": [
       "<Figure size 640x480 with 1 Axes>"
      ]
     },
     "metadata": {},
     "output_type": "display_data"
    }
   ],
   "source": [
    "# data['df'] is just a regular pandas.DataFrame\n",
    "df.causal.do(x=treatment,\n",
    "             variable_types={treatment: 'b', outcome: 'c', common_cause: 'c'},\n",
    "             outcome=outcome,\n",
    "             common_causes=[common_cause],\n",
    "            ).groupby(treatment).mean().plot(y=outcome, kind='bar')"
   ]
  },
  {
   "cell_type": "code",
   "execution_count": 4,
   "metadata": {
    "execution": {
     "iopub.execute_input": "2024-01-30T17:16:46.401584Z",
     "iopub.status.busy": "2024-01-30T17:16:46.401396Z",
     "iopub.status.idle": "2024-01-30T17:16:46.511346Z",
     "shell.execute_reply": "2024-01-30T17:16:46.510619Z"
    }
   },
   "outputs": [
    {
     "data": {
      "text/plain": [
       "<Axes: xlabel='v0'>"
      ]
     },
     "execution_count": 4,
     "metadata": {},
     "output_type": "execute_result"
    },
    {
     "data": {
      "image/png": "[encoded data removed]",
      "text/plain": [
       "<Figure size 640x480 with 1 Axes>"
      ]
     },
     "metadata": {},
     "output_type": "display_data"
    }
   ],
   "source": [
    "df.causal.do(x={treatment: 1}, \n",
    "              variable_types={treatment:'b', outcome: 'c', common_cause: 'c'}, \n",
    "              outcome=outcome,\n",
    "              method='weighting', \n",
    "              common_causes=[common_cause]\n",
    "              ).groupby(treatment).mean().plot(y=outcome, kind='bar')"
   ]
  },
  {
   "cell_type": "code",
   "execution_count": 5,
   "metadata": {
    "execution": {
     "iopub.execute_input": "2024-01-30T17:16:46.514024Z",
     "iopub.status.busy": "2024-01-30T17:16:46.513815Z",
     "iopub.status.idle": "2024-01-30T17:16:46.535675Z",
     "shell.execute_reply": "2024-01-30T17:16:46.535039Z"
    }
   },
   "outputs": [],
   "source": [
    "cdf_1 = df.causal.do(x={treatment: 1}, \n",
    "              variable_types={treatment: 'b', outcome: 'c', common_cause: 'c'}, \n",
    "              outcome=outcome, \n",
    "              graph=nx_graph\n",
    "              )\n",
    "\n",
    "cdf_0 = df.causal.do(x={treatment: 0}, \n",
    "              variable_types={treatment: 'b', outcome: 'c', common_cause: 'c'}, \n",
    "              outcome=outcome, \n",
    "              graph=nx_graph\n",
    "              )\n"
   ]
  },
  {
   "cell_type": "code",
   "execution_count": 6,
   "metadata": {
    "execution": {
     "iopub.execute_input": "2024-01-30T17:16:46.538255Z",
     "iopub.status.busy": "2024-01-30T17:16:46.537885Z",
     "iopub.status.idle": "2024-01-30T17:16:46.546847Z",
     "shell.execute_reply": "2024-01-30T17:16:46.546287Z"
    },
    "scrolled": true
   },
   "outputs": [
    {
     "data": {
      "text/html": [
       "<div>\n",
       "<style scoped>\n",
       "    .dataframe tbody tr th:only-of-type {\n",
       "        vertical-align: middle;\n",
       "    }\n",
       "\n",
       "    .dataframe tbody tr th {\n",
       "        vertical-align: top;\n",
       "    }\n",
       "\n",
       "    .dataframe thead th {\n",
       "        text-align: right;\n",
       "    }\n",
       "</style>\n",
       "<table border=\"1\" class=\"dataframe\">\n",
       "  <thead>\n",
       "    <tr style=\"text-align: right;\">\n",
       "      <th></th>\n",
       "      <th>W0</th>\n",
       "      <th>v0</th>\n",
       "      <th>y</th>\n",
       "      <th>propensity_score</th>\n",
       "      <th>weight</th>\n",
       "    </tr>\n",
       "  </thead>\n",
       "  <tbody>\n",
       "    <tr>\n",
       "      <th>0</th>\n",
       "      <td>1.096423</td>\n",
       "      <td>False</td>\n",
       "      <td>2.728192</td>\n",
       "      <td>0.430456</td>\n",
       "      <td>2.323118</td>\n",
       "    </tr>\n",
       "    <tr>\n",
       "      <th>1</th>\n",
       "      <td>0.234743</td>\n",
       "      <td>False</td>\n",
       "      <td>0.504656</td>\n",
       "      <td>0.469090</td>\n",
       "      <td>2.131788</td>\n",
       "    </tr>\n",
       "    <tr>\n",
       "      <th>2</th>\n",
       "      <td>1.709650</td>\n",
       "      <td>False</td>\n",
       "      <td>4.678006</td>\n",
       "      <td>0.403441</td>\n",
       "      <td>2.478676</td>\n",
       "    </tr>\n",
       "    <tr>\n",
       "      <th>3</th>\n",
       "      <td>-0.747075</td>\n",
       "      <td>False</td>\n",
       "      <td>-0.129939</td>\n",
       "      <td>0.513539</td>\n",
       "      <td>1.947271</td>\n",
       "    </tr>\n",
       "    <tr>\n",
       "      <th>4</th>\n",
       "      <td>0.794631</td>\n",
       "      <td>False</td>\n",
       "      <td>1.164954</td>\n",
       "      <td>0.443915</td>\n",
       "      <td>2.252682</td>\n",
       "    </tr>\n",
       "    <tr>\n",
       "      <th>...</th>\n",
       "      <td>...</td>\n",
       "      <td>...</td>\n",
       "      <td>...</td>\n",
       "      <td>...</td>\n",
       "      <td>...</td>\n",
       "    </tr>\n",
       "    <tr>\n",
       "      <th>995</th>\n",
       "      <td>4.357516</td>\n",
       "      <td>False</td>\n",
       "      <td>8.439867</td>\n",
       "      <td>0.295023</td>\n",
       "      <td>3.389567</td>\n",
       "    </tr>\n",
       "    <tr>\n",
       "      <th>996</th>\n",
       "      <td>2.099857</td>\n",
       "      <td>False</td>\n",
       "      <td>5.908547</td>\n",
       "      <td>0.386540</td>\n",
       "      <td>2.587052</td>\n",
       "    </tr>\n",
       "    <tr>\n",
       "      <th>997</th>\n",
       "      <td>0.139886</td>\n",
       "      <td>False</td>\n",
       "      <td>0.670378</td>\n",
       "      <td>0.473374</td>\n",
       "      <td>2.112494</td>\n",
       "    </tr>\n",
       "    <tr>\n",
       "      <th>998</th>\n",
       "      <td>1.449292</td>\n",
       "      <td>False</td>\n",
       "      <td>2.271593</td>\n",
       "      <td>0.414849</td>\n",
       "      <td>2.410513</td>\n",
       "    </tr>\n",
       "    <tr>\n",
       "      <th>999</th>\n",
       "      <td>2.294378</td>\n",
       "      <td>False</td>\n",
       "      <td>2.195807</td>\n",
       "      <td>0.378214</td>\n",
       "      <td>2.644009</td>\n",
       "    </tr>\n",
       "  </tbody>\n",
       "</table>\n",
       "<p>1000 rows × 5 columns</p>\n",
       "</div>"
      ],
      "text/plain": [
       "           W0     v0         y  propensity_score    weight\n",
       "0    1.096423  False  2.728192          0.430456  2.323118\n",
       "1    0.234743  False  0.504656          0.469090  2.131788\n",
       "2    1.709650  False  4.678006          0.403441  2.478676\n",
       "3   -0.747075  False -0.129939          0.513539  1.947271\n",
       "4    0.794631  False  1.164954          0.443915  2.252682\n",
       "..        ...    ...       ...               ...       ...\n",
       "995  4.357516  False  8.439867          0.295023  3.389567\n",
       "996  2.099857  False  5.908547          0.386540  2.587052\n",
       "997  0.139886  False  0.670378          0.473374  2.112494\n",
       "998  1.449292  False  2.271593          0.414849  2.410513\n",
       "999  2.294378  False  2.195807          0.378214  2.644009\n",
       "\n",
       "[1000 rows x 5 columns]"
      ]
     },
     "execution_count": 6,
     "metadata": {},
     "output_type": "execute_result"
    }
   ],
   "source": [
    "cdf_0"
   ]
  },
  {
   "cell_type": "code",
   "execution_count": 7,
   "metadata": {
    "execution": {
     "iopub.execute_input": "2024-01-30T17:16:46.549438Z",
     "iopub.status.busy": "2024-01-30T17:16:46.548955Z",
     "iopub.status.idle": "2024-01-30T17:16:46.558106Z",
     "shell.execute_reply": "2024-01-30T17:16:46.557509Z"
    }
   },
   "outputs": [
    {
     "data": {
      "text/html": [
       "<div>\n",
       "<style scoped>\n",
       "    .dataframe tbody tr th:only-of-type {\n",
       "        vertical-align: middle;\n",
       "    }\n",
       "\n",
       "    .dataframe tbody tr th {\n",
       "        vertical-align: top;\n",
       "    }\n",
       "\n",
       "    .dataframe thead th {\n",
       "        text-align: right;\n",
       "    }\n",
       "</style>\n",
       "<table border=\"1\" class=\"dataframe\">\n",
       "  <thead>\n",
       "    <tr style=\"text-align: right;\">\n",
       "      <th></th>\n",
       "      <th>W0</th>\n",
       "      <th>v0</th>\n",
       "      <th>y</th>\n",
       "      <th>propensity_score</th>\n",
       "      <th>weight</th>\n",
       "    </tr>\n",
       "  </thead>\n",
       "  <tbody>\n",
       "    <tr>\n",
       "      <th>0</th>\n",
       "      <td>-0.262333</td>\n",
       "      <td>True</td>\n",
       "      <td>5.367825</td>\n",
       "      <td>0.508423</td>\n",
       "      <td>1.966865</td>\n",
       "    </tr>\n",
       "    <tr>\n",
       "      <th>1</th>\n",
       "      <td>1.360745</td>\n",
       "      <td>True</td>\n",
       "      <td>7.700396</td>\n",
       "      <td>0.581249</td>\n",
       "      <td>1.720433</td>\n",
       "    </tr>\n",
       "    <tr>\n",
       "      <th>2</th>\n",
       "      <td>1.211453</td>\n",
       "      <td>True</td>\n",
       "      <td>7.106994</td>\n",
       "      <td>0.574648</td>\n",
       "      <td>1.740195</td>\n",
       "    </tr>\n",
       "    <tr>\n",
       "      <th>3</th>\n",
       "      <td>1.372096</td>\n",
       "      <td>True</td>\n",
       "      <td>7.986810</td>\n",
       "      <td>0.581750</td>\n",
       "      <td>1.718952</td>\n",
       "    </tr>\n",
       "    <tr>\n",
       "      <th>4</th>\n",
       "      <td>1.680814</td>\n",
       "      <td>True</td>\n",
       "      <td>7.672190</td>\n",
       "      <td>0.595300</td>\n",
       "      <td>1.679825</td>\n",
       "    </tr>\n",
       "    <tr>\n",
       "      <th>...</th>\n",
       "      <td>...</td>\n",
       "      <td>...</td>\n",
       "      <td>...</td>\n",
       "      <td>...</td>\n",
       "      <td>...</td>\n",
       "    </tr>\n",
       "    <tr>\n",
       "      <th>995</th>\n",
       "      <td>-0.020601</td>\n",
       "      <td>True</td>\n",
       "      <td>3.900526</td>\n",
       "      <td>0.519369</td>\n",
       "      <td>1.925414</td>\n",
       "    </tr>\n",
       "    <tr>\n",
       "      <th>996</th>\n",
       "      <td>0.807608</td>\n",
       "      <td>True</td>\n",
       "      <td>6.465844</td>\n",
       "      <td>0.556665</td>\n",
       "      <td>1.796412</td>\n",
       "    </tr>\n",
       "    <tr>\n",
       "      <th>997</th>\n",
       "      <td>0.667025</td>\n",
       "      <td>True</td>\n",
       "      <td>7.001247</td>\n",
       "      <td>0.550368</td>\n",
       "      <td>1.816967</td>\n",
       "    </tr>\n",
       "    <tr>\n",
       "      <th>998</th>\n",
       "      <td>1.327234</td>\n",
       "      <td>True</td>\n",
       "      <td>7.607409</td>\n",
       "      <td>0.579770</td>\n",
       "      <td>1.724822</td>\n",
       "    </tr>\n",
       "    <tr>\n",
       "      <th>999</th>\n",
       "      <td>1.610627</td>\n",
       "      <td>True</td>\n",
       "      <td>7.893163</td>\n",
       "      <td>0.592231</td>\n",
       "      <td>1.688529</td>\n",
       "    </tr>\n",
       "  </tbody>\n",
       "</table>\n",
       "<p>1000 rows × 5 columns</p>\n",
       "</div>"
      ],
      "text/plain": [
       "           W0    v0         y  propensity_score    weight\n",
       "0   -0.262333  True  5.367825          0.508423  1.966865\n",
       "1    1.360745  True  7.700396          0.581249  1.720433\n",
       "2    1.211453  True  7.106994          0.574648  1.740195\n",
       "3    1.372096  True  7.986810          0.581750  1.718952\n",
       "4    1.680814  True  7.672190          0.595300  1.679825\n",
       "..        ...   ...       ...               ...       ...\n",
       "995 -0.020601  True  3.900526          0.519369  1.925414\n",
       "996  0.807608  True  6.465844          0.556665  1.796412\n",
       "997  0.667025  True  7.001247          0.550368  1.816967\n",
       "998  1.327234  True  7.607409          0.579770  1.724822\n",
       "999  1.610627  True  7.893163          0.592231  1.688529\n",
       "\n",
       "[1000 rows x 5 columns]"
      ]
     },
     "execution_count": 7,
     "metadata": {},
     "output_type": "execute_result"
    }
   ],
   "source": [
    "cdf_1"
   ]
  },
  {
   "cell_type": "markdown",
   "metadata": {},
   "source": [
    "## Comparing the estimate to Linear Regression\n",
    "First, estimating the effect using the causal data frame, and the 95% confidence interval."
   ]
  },
  {
   "cell_type": "code",
   "execution_count": 8,
   "metadata": {
    "execution": {
     "iopub.execute_input": "2024-01-30T17:16:46.560311Z",
     "iopub.status.busy": "2024-01-30T17:16:46.560030Z",
     "iopub.status.idle": "2024-01-30T17:16:46.606067Z",
     "shell.execute_reply": "2024-01-30T17:16:46.605577Z"
    }
   },
   "outputs": [
    {
     "data": {
      "image/png": "[encoded data removed]",
      "text/latex": [
       "$\\displaystyle 4.89520566953973$"
      ],
      "text/plain": [
       "4.895205669539729"
      ]
     },
     "execution_count": 8,
     "metadata": {},
     "output_type": "execute_result"
    }
   ],
   "source": [
    "(cdf_1['y'] - cdf_0['y']).mean()"
   ]
  },
  {
   "cell_type": "code",
   "execution_count": 9,
   "metadata": {
    "execution": {
     "iopub.execute_input": "2024-01-30T17:16:46.608244Z",
     "iopub.status.busy": "2024-01-30T17:16:46.607959Z",
     "iopub.status.idle": "2024-01-30T17:16:46.623247Z",
     "shell.execute_reply": "2024-01-30T17:16:46.622691Z"
    }
   },
   "outputs": [
    {
     "data": {
      "image/png": "[encoded data removed]",
      "text/latex": [
       "$\\displaystyle 0.181945340336302$"
      ],
      "text/plain": [
       "0.18194534033630239"
      ]
     },
     "execution_count": 9,
     "metadata": {},
     "output_type": "execute_result"
    }
   ],
   "source": [
    "1.96*(cdf_1['y'] - cdf_0['y']).std() / np.sqrt(len(df))"
   ]
  },
  {
   "cell_type": "markdown",
   "metadata": {},
   "source": [
    "Comparing to the estimate from OLS."
   ]
  },
  {
   "cell_type": "code",
   "execution_count": 10,
   "metadata": {
    "execution": {
     "iopub.execute_input": "2024-01-30T17:16:46.625521Z",
     "iopub.status.busy": "2024-01-30T17:16:46.625203Z",
     "iopub.status.idle": "2024-01-30T17:16:46.642979Z",
     "shell.execute_reply": "2024-01-30T17:16:46.642440Z"
    }
   },
   "outputs": [
    {
     "data": {
      "text/html": [
       "<table class=\"simpletable\">\n",
       "<caption>OLS Regression Results</caption>\n",
       "<tr>\n",
       "  <th>Dep. Variable:</th>            <td>y</td>        <th>  R-squared (uncentered):</th>      <td>   0.968</td> \n",
       "</tr>\n",
       "<tr>\n",
       "  <th>Model:</th>                   <td>OLS</td>       <th>  Adj. R-squared (uncentered):</th> <td>   0.968</td> \n",
       "</tr>\n",
       "<tr>\n",
       "  <th>Method:</th>             <td>Least Squares</td>  <th>  F-statistic:       </th>          <td>1.520e+04</td>\n",
       "</tr>\n",
       "<tr>\n",
       "  <th>Date:</th>             <td>Tue, 30 Jan 2024</td> <th>  Prob (F-statistic):</th>           <td>  0.00</td>  \n",
       "</tr>\n",
       "<tr>\n",
       "  <th>Time:</th>                 <td>17:16:46</td>     <th>  Log-Likelihood:    </th>          <td> -1389.5</td> \n",
       "</tr>\n",
       "<tr>\n",
       "  <th>No. Observations:</th>      <td>  1000</td>      <th>  AIC:               </th>          <td>   2783.</td> \n",
       "</tr>\n",
       "<tr>\n",
       "  <th>Df Residuals:</th>          <td>   998</td>      <th>  BIC:               </th>          <td>   2793.</td> \n",
       "</tr>\n",
       "<tr>\n",
       "  <th>Df Model:</th>              <td>     2</td>      <th>                     </th>              <td> </td>    \n",
       "</tr>\n",
       "<tr>\n",
       "  <th>Covariance Type:</th>      <td>nonrobust</td>    <th>                     </th>              <td> </td>    \n",
       "</tr>\n",
       "</table>\n",
       "<table class=\"simpletable\">\n",
       "<tr>\n",
       "   <td></td>     <th>coef</th>     <th>std err</th>      <th>t</th>      <th>P>|t|</th>  <th>[0.025</th>    <th>0.975]</th>  \n",
       "</tr>\n",
       "<tr>\n",
       "  <th>x1</th> <td>    1.8170</td> <td>    0.028</td> <td>   65.919</td> <td> 0.000</td> <td>    1.763</td> <td>    1.871</td>\n",
       "</tr>\n",
       "<tr>\n",
       "  <th>x2</th> <td>    4.9995</td> <td>    0.048</td> <td>  103.773</td> <td> 0.000</td> <td>    4.905</td> <td>    5.094</td>\n",
       "</tr>\n",
       "</table>\n",
       "<table class=\"simpletable\">\n",
       "<tr>\n",
       "  <th>Omnibus:</th>       <td> 0.395</td> <th>  Durbin-Watson:     </th> <td>   1.964</td>\n",
       "</tr>\n",
       "<tr>\n",
       "  <th>Prob(Omnibus):</th> <td> 0.821</td> <th>  Jarque-Bera (JB):  </th> <td>   0.483</td>\n",
       "</tr>\n",
       "<tr>\n",
       "  <th>Skew:</th>          <td>-0.024</td> <th>  Prob(JB):          </th> <td>   0.785</td>\n",
       "</tr>\n",
       "<tr>\n",
       "  <th>Kurtosis:</th>      <td> 2.904</td> <th>  Cond. No.          </th> <td>    2.27</td>\n",
       "</tr>\n",
       "</table><br/><br/>Notes:<br/>[1] R² is computed without centering (uncentered) since the model does not contain a constant.<br/>[2] Standard Errors assume that the covariance matrix of the errors is correctly specified."
      ],
      "text/latex": [
       "\\begin{center}\n",
       "\\begin{tabular}{lclc}\n",
       "\\toprule\n",
       "\\textbf{Dep. Variable:}    &        y         & \\textbf{  R-squared (uncentered):}      &     0.968   \\\\\n",
       "\\textbf{Model:}            &       OLS        & \\textbf{  Adj. R-squared (uncentered):} &     0.968   \\\\\n",
       "\\textbf{Method:}           &  Least Squares   & \\textbf{  F-statistic:       }          & 1.520e+04   \\\\\n",
       "\\textbf{Date:}             & Tue, 30 Jan 2024 & \\textbf{  Prob (F-statistic):}          &     0.00    \\\\\n",
       "\\textbf{Time:}             &     17:16:46     & \\textbf{  Log-Likelihood:    }          &   -1389.5   \\\\\n",
       "\\textbf{No. Observations:} &        1000      & \\textbf{  AIC:               }          &     2783.   \\\\\n",
       "\\textbf{Df Residuals:}     &         998      & \\textbf{  BIC:               }          &     2793.   \\\\\n",
       "\\textbf{Df Model:}         &           2      & \\textbf{                     }          &             \\\\\n",
       "\\textbf{Covariance Type:}  &    nonrobust     & \\textbf{                     }          &             \\\\\n",
       "\\bottomrule\n",
       "\\end{tabular}\n",
       "\\begin{tabular}{lcccccc}\n",
       "            & \\textbf{coef} & \\textbf{std err} & \\textbf{t} & \\textbf{P$> |$t$|$} & \\textbf{[0.025} & \\textbf{0.975]}  \\\\\n",
       "\\midrule\n",
       "\\textbf{x1} &       1.8170  &        0.028     &    65.919  &         0.000        &        1.763    &        1.871     \\\\\n",
       "\\textbf{x2} &       4.9995  &        0.048     &   103.773  &         0.000        &        4.905    &        5.094     \\\\\n",
       "\\bottomrule\n",
       "\\end{tabular}\n",
       "\\begin{tabular}{lclc}\n",
       "\\textbf{Omnibus:}       &  0.395 & \\textbf{  Durbin-Watson:     } &    1.964  \\\\\n",
       "\\textbf{Prob(Omnibus):} &  0.821 & \\textbf{  Jarque-Bera (JB):  } &    0.483  \\\\\n",
       "\\textbf{Skew:}          & -0.024 & \\textbf{  Prob(JB):          } &    0.785  \\\\\n",
       "\\textbf{Kurtosis:}      &  2.904 & \\textbf{  Cond. No.          } &     2.27  \\\\\n",
       "\\bottomrule\n",
       "\\end{tabular}\n",
       "%\\caption{OLS Regression Results}\n",
       "\\end{center}\n",
       "\n",
       "Notes: \\newline\n",
       " [1] R² is computed without centering (uncentered) since the model does not contain a constant. \\newline\n",
       " [2] Standard Errors assume that the covariance matrix of the errors is correctly specified."
      ],
      "text/plain": [
       "<class 'statsmodels.iolib.summary.Summary'>\n",
       "\"\"\"\n",
       "                                 OLS Regression Results                                \n",
       "=======================================================================================\n",
       "Dep. Variable:                      y   R-squared (uncentered):                   0.968\n",
       "Model:                            OLS   Adj. R-squared (uncentered):              0.968\n",
       "Method:                 Least Squares   F-statistic:                          1.520e+04\n",
       "Date:                Tue, 30 Jan 2024   Prob (F-statistic):                        0.00\n",
       "Time:                        17:16:46   Log-Likelihood:                         -1389.5\n",
       "No. Observations:                1000   AIC:                                      2783.\n",
       "Df Residuals:                     998   BIC:                                      2793.\n",
       "Df Model:                           2                                                  \n",
       "Covariance Type:            nonrobust                                                  \n",
       "==============================================================================\n",
       "                 coef    std err          t      P>|t|      [0.025      0.975]\n",
       "------------------------------------------------------------------------------\n",
       "x1             1.8170      0.028     65.919      0.000       1.763       1.871\n",
       "x2             4.9995      0.048    103.773      0.000       4.905       5.094\n",
       "==============================================================================\n",
       "Omnibus:                        0.395   Durbin-Watson:                   1.964\n",
       "Prob(Omnibus):                  0.821   Jarque-Bera (JB):                0.483\n",
       "Skew:                          -0.024   Prob(JB):                        0.785\n",
       "Kurtosis:                       2.904   Cond. No.                         2.27\n",
       "==============================================================================\n",
       "\n",
       "Notes:\n",
       "[1] R² is computed without centering (uncentered) since the model does not contain a constant.\n",
       "[2] Standard Errors assume that the covariance matrix of the errors is correctly specified.\n",
       "\"\"\""
      ]
     },
     "execution_count": 10,
     "metadata": {},
     "output_type": "execute_result"
    }
   ],
   "source": [
    "model = OLS(np.asarray(df[outcome]), np.asarray(df[[common_cause, treatment]], dtype=np.float64))\n",
    "result = model.fit()\n",
    "result.summary()"
   ]
  }
 ],
 "metadata": {
  "kernelspec": {
   "display_name": "Python 3 (ipykernel)",
   "language": "python",
   "name": "python3"
  },
  "language_info": {
   "codemirror_mode": {
    "name": "ipython",
    "version": 3
   },
   "file_extension": ".py",
   "mimetype": "text/x-python",
   "name": "python",
   "nbconvert_exporter": "python",
   "pygments_lexer": "ipython3",
   "version": "3.8.10"
  },
  "toc": {
   "base_numbering": 1,
   "nav_menu": {},
   "number_sections": false,
   "sideBar": true,
   "skip_h1_title": true,
   "title_cell": "Table of Contents",
   "title_sidebar": "Contents",
   "toc_cell": false,
   "toc_position": {},
   "toc_section_display": true,
   "toc_window_display": false
  }
 },
 "nbformat": 4,
 "nbformat_minor": 4
}
