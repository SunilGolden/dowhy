{
 "cells": [
  {
   "cell_type": "markdown",
   "metadata": {},
   "source": [
    "# Demo for the DoWhy causal API\n",
    "We show a simple example of adding a causal extension to any dataframe. "
   ]
  },
  {
   "cell_type": "code",
   "execution_count": 1,
   "metadata": {
    "execution": {
     "iopub.execute_input": "2023-03-15T19:28:18.267176Z",
     "iopub.status.busy": "2023-03-15T19:28:18.266826Z",
     "iopub.status.idle": "2023-03-15T19:28:19.803428Z",
     "shell.execute_reply": "2023-03-15T19:28:19.802782Z"
    }
   },
   "outputs": [],
   "source": [
    "import dowhy.datasets\n",
    "import dowhy.api\n",
    "\n",
    "import numpy as np\n",
    "import pandas as pd\n",
    "\n",
    "from statsmodels.api import OLS"
   ]
  },
  {
   "cell_type": "code",
   "execution_count": 2,
   "metadata": {
    "execution": {
     "iopub.execute_input": "2023-03-15T19:28:19.807269Z",
     "iopub.status.busy": "2023-03-15T19:28:19.806640Z",
     "iopub.status.idle": "2023-03-15T19:28:19.848335Z",
     "shell.execute_reply": "2023-03-15T19:28:19.847765Z"
    }
   },
   "outputs": [
    {
     "data": {
      "text/html": [
       "<div>\n",
       "<style scoped>\n",
       "    .dataframe tbody tr th:only-of-type {\n",
       "        vertical-align: middle;\n",
       "    }\n",
       "\n",
       "    .dataframe tbody tr th {\n",
       "        vertical-align: top;\n",
       "    }\n",
       "\n",
       "    .dataframe thead th {\n",
       "        text-align: right;\n",
       "    }\n",
       "</style>\n",
       "<table border=\"1\" class=\"dataframe\">\n",
       "  <thead>\n",
       "    <tr style=\"text-align: right;\">\n",
       "      <th></th>\n",
       "      <th>W0</th>\n",
       "      <th>v0</th>\n",
       "      <th>y</th>\n",
       "    </tr>\n",
       "  </thead>\n",
       "  <tbody>\n",
       "    <tr>\n",
       "      <th>0</th>\n",
       "      <td>1.155078</td>\n",
       "      <td>False</td>\n",
       "      <td>2.263294</td>\n",
       "    </tr>\n",
       "    <tr>\n",
       "      <th>1</th>\n",
       "      <td>-0.352506</td>\n",
       "      <td>False</td>\n",
       "      <td>-0.217008</td>\n",
       "    </tr>\n",
       "    <tr>\n",
       "      <th>2</th>\n",
       "      <td>0.159137</td>\n",
       "      <td>False</td>\n",
       "      <td>-1.648193</td>\n",
       "    </tr>\n",
       "    <tr>\n",
       "      <th>3</th>\n",
       "      <td>0.733597</td>\n",
       "      <td>False</td>\n",
       "      <td>1.539087</td>\n",
       "    </tr>\n",
       "    <tr>\n",
       "      <th>4</th>\n",
       "      <td>-0.568514</td>\n",
       "      <td>False</td>\n",
       "      <td>0.285338</td>\n",
       "    </tr>\n",
       "    <tr>\n",
       "      <th>...</th>\n",
       "      <td>...</td>\n",
       "      <td>...</td>\n",
       "      <td>...</td>\n",
       "    </tr>\n",
       "    <tr>\n",
       "      <th>995</th>\n",
       "      <td>0.976307</td>\n",
       "      <td>False</td>\n",
       "      <td>-0.145355</td>\n",
       "    </tr>\n",
       "    <tr>\n",
       "      <th>996</th>\n",
       "      <td>-0.113918</td>\n",
       "      <td>True</td>\n",
       "      <td>4.691987</td>\n",
       "    </tr>\n",
       "    <tr>\n",
       "      <th>997</th>\n",
       "      <td>-0.197847</td>\n",
       "      <td>False</td>\n",
       "      <td>-0.677530</td>\n",
       "    </tr>\n",
       "    <tr>\n",
       "      <th>998</th>\n",
       "      <td>-0.840244</td>\n",
       "      <td>False</td>\n",
       "      <td>-1.782823</td>\n",
       "    </tr>\n",
       "    <tr>\n",
       "      <th>999</th>\n",
       "      <td>-0.189739</td>\n",
       "      <td>True</td>\n",
       "      <td>5.744503</td>\n",
       "    </tr>\n",
       "  </tbody>\n",
       "</table>\n",
       "<p>1000 rows × 3 columns</p>\n",
       "</div>"
      ],
      "text/plain": [
       "           W0     v0         y\n",
       "0    1.155078  False  2.263294\n",
       "1   -0.352506  False -0.217008\n",
       "2    0.159137  False -1.648193\n",
       "3    0.733597  False  1.539087\n",
       "4   -0.568514  False  0.285338\n",
       "..        ...    ...       ...\n",
       "995  0.976307  False -0.145355\n",
       "996 -0.113918   True  4.691987\n",
       "997 -0.197847  False -0.677530\n",
       "998 -0.840244  False -1.782823\n",
       "999 -0.189739   True  5.744503\n",
       "\n",
       "[1000 rows x 3 columns]"
      ]
     },
     "execution_count": 2,
     "metadata": {},
     "output_type": "execute_result"
    }
   ],
   "source": [
    "data = dowhy.datasets.linear_dataset(beta=5,\n",
    "        num_common_causes=1,\n",
    "        num_instruments = 0,\n",
    "        num_samples=1000,\n",
    "        treatment_is_binary=True)\n",
    "df = data['df']\n",
    "df['y'] = df['y'] + np.random.normal(size=len(df)) # Adding noise to data. Without noise, the variance in Y|X, Z is zero, and mcmc fails.\n",
    "#data['dot_graph'] = 'digraph { v ->y;X0-> v;X0-> y;}'\n",
    "\n",
    "treatment= data[\"treatment_name\"][0]\n",
    "outcome = data[\"outcome_name\"][0]\n",
    "common_cause = data[\"common_causes_names\"][0]\n",
    "df"
   ]
  },
  {
   "cell_type": "code",
   "execution_count": 3,
   "metadata": {
    "execution": {
     "iopub.execute_input": "2023-03-15T19:28:19.851506Z",
     "iopub.status.busy": "2023-03-15T19:28:19.851009Z",
     "iopub.status.idle": "2023-03-15T19:28:19.995734Z",
     "shell.execute_reply": "2023-03-15T19:28:19.995109Z"
    }
   },
   "outputs": [
    {
     "data": {
      "text/plain": [
       "<AxesSubplot: xlabel='v0'>"
      ]
     },
     "execution_count": 3,
     "metadata": {},
     "output_type": "execute_result"
    },
    {
     "data": {
      "image/png": "[encoded data removed]",
      "text/plain": [
       "<Figure size 640x480 with 1 Axes>"
      ]
     },
     "metadata": {},
     "output_type": "display_data"
    }
   ],
   "source": [
    "# data['df'] is just a regular pandas.DataFrame\n",
    "df.causal.do(x=treatment,\n",
    "                     variable_types={treatment: 'b', outcome: 'c', common_cause: 'c'},\n",
    "                     outcome=outcome,\n",
    "                     common_causes=[common_cause],\n",
    "                     proceed_when_unidentifiable=True).groupby(treatment).mean().plot(y=outcome, kind='bar')"
   ]
  },
  {
   "cell_type": "code",
   "execution_count": 4,
   "metadata": {
    "execution": {
     "iopub.execute_input": "2023-03-15T19:28:19.998602Z",
     "iopub.status.busy": "2023-03-15T19:28:19.998085Z",
     "iopub.status.idle": "2023-03-15T19:28:20.108876Z",
     "shell.execute_reply": "2023-03-15T19:28:20.108359Z"
    }
   },
   "outputs": [
    {
     "data": {
      "text/plain": [
       "<AxesSubplot: xlabel='v0'>"
      ]
     },
     "execution_count": 4,
     "metadata": {},
     "output_type": "execute_result"
    },
    {
     "data": {
      "image/png": "[encoded data removed]",
      "text/plain": [
       "<Figure size 640x480 with 1 Axes>"
      ]
     },
     "metadata": {},
     "output_type": "display_data"
    }
   ],
   "source": [
    "df.causal.do(x={treatment: 1}, \n",
    "              variable_types={treatment:'b', outcome: 'c', common_cause: 'c'}, \n",
    "              outcome=outcome,\n",
    "              method='weighting', \n",
    "              common_causes=[common_cause],\n",
    "              proceed_when_unidentifiable=True).groupby(treatment).mean().plot(y=outcome, kind='bar')"
   ]
  },
  {
   "cell_type": "code",
   "execution_count": 5,
   "metadata": {
    "execution": {
     "iopub.execute_input": "2023-03-15T19:28:20.111797Z",
     "iopub.status.busy": "2023-03-15T19:28:20.111235Z",
     "iopub.status.idle": "2023-03-15T19:28:20.219595Z",
     "shell.execute_reply": "2023-03-15T19:28:20.218944Z"
    }
   },
   "outputs": [],
   "source": [
    "cdf_1 = df.causal.do(x={treatment: 1}, \n",
    "              variable_types={treatment: 'b', outcome: 'c', common_cause: 'c'}, \n",
    "              outcome=outcome, \n",
    "              dot_graph=data['dot_graph'],\n",
    "              proceed_when_unidentifiable=True)\n",
    "\n",
    "cdf_0 = df.causal.do(x={treatment: 0}, \n",
    "              variable_types={treatment: 'b', outcome: 'c', common_cause: 'c'}, \n",
    "              outcome=outcome, \n",
    "              dot_graph=data['dot_graph'],\n",
    "              proceed_when_unidentifiable=True)\n"
   ]
  },
  {
   "cell_type": "code",
   "execution_count": 6,
   "metadata": {
    "execution": {
     "iopub.execute_input": "2023-03-15T19:28:20.222599Z",
     "iopub.status.busy": "2023-03-15T19:28:20.222193Z",
     "iopub.status.idle": "2023-03-15T19:28:20.234376Z",
     "shell.execute_reply": "2023-03-15T19:28:20.233835Z"
    },
    "scrolled": true
   },
   "outputs": [
    {
     "data": {
      "text/html": [
       "<div>\n",
       "<style scoped>\n",
       "    .dataframe tbody tr th:only-of-type {\n",
       "        vertical-align: middle;\n",
       "    }\n",
       "\n",
       "    .dataframe tbody tr th {\n",
       "        vertical-align: top;\n",
       "    }\n",
       "\n",
       "    .dataframe thead th {\n",
       "        text-align: right;\n",
       "    }\n",
       "</style>\n",
       "<table border=\"1\" class=\"dataframe\">\n",
       "  <thead>\n",
       "    <tr style=\"text-align: right;\">\n",
       "      <th></th>\n",
       "      <th>W0</th>\n",
       "      <th>v0</th>\n",
       "      <th>y</th>\n",
       "      <th>propensity_score</th>\n",
       "      <th>weight</th>\n",
       "    </tr>\n",
       "  </thead>\n",
       "  <tbody>\n",
       "    <tr>\n",
       "      <th>0</th>\n",
       "      <td>-0.689661</td>\n",
       "      <td>False</td>\n",
       "      <td>-0.646117</td>\n",
       "      <td>0.739898</td>\n",
       "      <td>1.351538</td>\n",
       "    </tr>\n",
       "    <tr>\n",
       "      <th>1</th>\n",
       "      <td>-0.501458</td>\n",
       "      <td>False</td>\n",
       "      <td>-2.024000</td>\n",
       "      <td>0.681330</td>\n",
       "      <td>1.467718</td>\n",
       "    </tr>\n",
       "    <tr>\n",
       "      <th>2</th>\n",
       "      <td>1.615679</td>\n",
       "      <td>False</td>\n",
       "      <td>3.662043</td>\n",
       "      <td>0.079269</td>\n",
       "      <td>12.615247</td>\n",
       "    </tr>\n",
       "    <tr>\n",
       "      <th>3</th>\n",
       "      <td>-0.241919</td>\n",
       "      <td>False</td>\n",
       "      <td>-1.774109</td>\n",
       "      <td>0.590518</td>\n",
       "      <td>1.693430</td>\n",
       "    </tr>\n",
       "    <tr>\n",
       "      <th>4</th>\n",
       "      <td>2.778920</td>\n",
       "      <td>False</td>\n",
       "      <td>4.951452</td>\n",
       "      <td>0.014525</td>\n",
       "      <td>68.845648</td>\n",
       "    </tr>\n",
       "    <tr>\n",
       "      <th>...</th>\n",
       "      <td>...</td>\n",
       "      <td>...</td>\n",
       "      <td>...</td>\n",
       "      <td>...</td>\n",
       "      <td>...</td>\n",
       "    </tr>\n",
       "    <tr>\n",
       "      <th>995</th>\n",
       "      <td>1.489933</td>\n",
       "      <td>False</td>\n",
       "      <td>3.287137</td>\n",
       "      <td>0.094359</td>\n",
       "      <td>10.597770</td>\n",
       "    </tr>\n",
       "    <tr>\n",
       "      <th>996</th>\n",
       "      <td>-1.980259</td>\n",
       "      <td>False</td>\n",
       "      <td>-3.506359</td>\n",
       "      <td>0.952736</td>\n",
       "      <td>1.049609</td>\n",
       "    </tr>\n",
       "    <tr>\n",
       "      <th>997</th>\n",
       "      <td>2.182039</td>\n",
       "      <td>False</td>\n",
       "      <td>3.287019</td>\n",
       "      <td>0.035175</td>\n",
       "      <td>28.429584</td>\n",
       "    </tr>\n",
       "    <tr>\n",
       "      <th>998</th>\n",
       "      <td>1.048314</td>\n",
       "      <td>False</td>\n",
       "      <td>1.250732</td>\n",
       "      <td>0.169174</td>\n",
       "      <td>5.911056</td>\n",
       "    </tr>\n",
       "    <tr>\n",
       "      <th>999</th>\n",
       "      <td>-0.611487</td>\n",
       "      <td>False</td>\n",
       "      <td>-1.505129</td>\n",
       "      <td>0.716432</td>\n",
       "      <td>1.395807</td>\n",
       "    </tr>\n",
       "  </tbody>\n",
       "</table>\n",
       "<p>1000 rows × 5 columns</p>\n",
       "</div>"
      ],
      "text/plain": [
       "           W0     v0         y  propensity_score     weight\n",
       "0   -0.689661  False -0.646117          0.739898   1.351538\n",
       "1   -0.501458  False -2.024000          0.681330   1.467718\n",
       "2    1.615679  False  3.662043          0.079269  12.615247\n",
       "3   -0.241919  False -1.774109          0.590518   1.693430\n",
       "4    2.778920  False  4.951452          0.014525  68.845648\n",
       "..        ...    ...       ...               ...        ...\n",
       "995  1.489933  False  3.287137          0.094359  10.597770\n",
       "996 -1.980259  False -3.506359          0.952736   1.049609\n",
       "997  2.182039  False  3.287019          0.035175  28.429584\n",
       "998  1.048314  False  1.250732          0.169174   5.911056\n",
       "999 -0.611487  False -1.505129          0.716432   1.395807\n",
       "\n",
       "[1000 rows x 5 columns]"
      ]
     },
     "execution_count": 6,
     "metadata": {},
     "output_type": "execute_result"
    }
   ],
   "source": [
    "cdf_0"
   ]
  },
  {
   "cell_type": "code",
   "execution_count": 7,
   "metadata": {
    "execution": {
     "iopub.execute_input": "2023-03-15T19:28:20.237218Z",
     "iopub.status.busy": "2023-03-15T19:28:20.236745Z",
     "iopub.status.idle": "2023-03-15T19:28:20.247276Z",
     "shell.execute_reply": "2023-03-15T19:28:20.246319Z"
    }
   },
   "outputs": [
    {
     "data": {
      "text/html": [
       "<div>\n",
       "<style scoped>\n",
       "    .dataframe tbody tr th:only-of-type {\n",
       "        vertical-align: middle;\n",
       "    }\n",
       "\n",
       "    .dataframe tbody tr th {\n",
       "        vertical-align: top;\n",
       "    }\n",
       "\n",
       "    .dataframe thead th {\n",
       "        text-align: right;\n",
       "    }\n",
       "</style>\n",
       "<table border=\"1\" class=\"dataframe\">\n",
       "  <thead>\n",
       "    <tr style=\"text-align: right;\">\n",
       "      <th></th>\n",
       "      <th>W0</th>\n",
       "      <th>v0</th>\n",
       "      <th>y</th>\n",
       "      <th>propensity_score</th>\n",
       "      <th>weight</th>\n",
       "    </tr>\n",
       "  </thead>\n",
       "  <tbody>\n",
       "    <tr>\n",
       "      <th>0</th>\n",
       "      <td>1.214838</td>\n",
       "      <td>True</td>\n",
       "      <td>8.232381</td>\n",
       "      <td>0.863438</td>\n",
       "      <td>1.158160</td>\n",
       "    </tr>\n",
       "    <tr>\n",
       "      <th>1</th>\n",
       "      <td>0.663175</td>\n",
       "      <td>True</td>\n",
       "      <td>6.947036</td>\n",
       "      <td>0.732460</td>\n",
       "      <td>1.365262</td>\n",
       "    </tr>\n",
       "    <tr>\n",
       "      <th>2</th>\n",
       "      <td>0.545580</td>\n",
       "      <td>True</td>\n",
       "      <td>5.202180</td>\n",
       "      <td>0.696084</td>\n",
       "      <td>1.436608</td>\n",
       "    </tr>\n",
       "    <tr>\n",
       "      <th>3</th>\n",
       "      <td>1.219538</td>\n",
       "      <td>True</td>\n",
       "      <td>8.559419</td>\n",
       "      <td>0.864277</td>\n",
       "      <td>1.157037</td>\n",
       "    </tr>\n",
       "    <tr>\n",
       "      <th>4</th>\n",
       "      <td>-0.832009</td>\n",
       "      <td>True</td>\n",
       "      <td>2.734552</td>\n",
       "      <td>0.220731</td>\n",
       "      <td>4.530407</td>\n",
       "    </tr>\n",
       "    <tr>\n",
       "      <th>...</th>\n",
       "      <td>...</td>\n",
       "      <td>...</td>\n",
       "      <td>...</td>\n",
       "      <td>...</td>\n",
       "      <td>...</td>\n",
       "    </tr>\n",
       "    <tr>\n",
       "      <th>995</th>\n",
       "      <td>-0.000135</td>\n",
       "      <td>True</td>\n",
       "      <td>4.059453</td>\n",
       "      <td>0.500185</td>\n",
       "      <td>1.999262</td>\n",
       "    </tr>\n",
       "    <tr>\n",
       "      <th>996</th>\n",
       "      <td>-0.262943</td>\n",
       "      <td>True</td>\n",
       "      <td>4.971909</td>\n",
       "      <td>0.401792</td>\n",
       "      <td>2.488850</td>\n",
       "    </tr>\n",
       "    <tr>\n",
       "      <th>997</th>\n",
       "      <td>0.842902</td>\n",
       "      <td>True</td>\n",
       "      <td>7.436863</td>\n",
       "      <td>0.782421</td>\n",
       "      <td>1.278085</td>\n",
       "    </tr>\n",
       "    <tr>\n",
       "      <th>998</th>\n",
       "      <td>-0.881971</td>\n",
       "      <td>True</td>\n",
       "      <td>1.426317</td>\n",
       "      <td>0.207968</td>\n",
       "      <td>4.808435</td>\n",
       "    </tr>\n",
       "    <tr>\n",
       "      <th>999</th>\n",
       "      <td>1.305279</td>\n",
       "      <td>True</td>\n",
       "      <td>5.839955</td>\n",
       "      <td>0.878827</td>\n",
       "      <td>1.137881</td>\n",
       "    </tr>\n",
       "  </tbody>\n",
       "</table>\n",
       "<p>1000 rows × 5 columns</p>\n",
       "</div>"
      ],
      "text/plain": [
       "           W0    v0         y  propensity_score    weight\n",
       "0    1.214838  True  8.232381          0.863438  1.158160\n",
       "1    0.663175  True  6.947036          0.732460  1.365262\n",
       "2    0.545580  True  5.202180          0.696084  1.436608\n",
       "3    1.219538  True  8.559419          0.864277  1.157037\n",
       "4   -0.832009  True  2.734552          0.220731  4.530407\n",
       "..        ...   ...       ...               ...       ...\n",
       "995 -0.000135  True  4.059453          0.500185  1.999262\n",
       "996 -0.262943  True  4.971909          0.401792  2.488850\n",
       "997  0.842902  True  7.436863          0.782421  1.278085\n",
       "998 -0.881971  True  1.426317          0.207968  4.808435\n",
       "999  1.305279  True  5.839955          0.878827  1.137881\n",
       "\n",
       "[1000 rows x 5 columns]"
      ]
     },
     "execution_count": 7,
     "metadata": {},
     "output_type": "execute_result"
    }
   ],
   "source": [
    "cdf_1"
   ]
  },
  {
   "cell_type": "markdown",
   "metadata": {},
   "source": [
    "## Comparing the estimate to Linear Regression\n",
    "First, estimating the effect using the causal data frame, and the 95% confidence interval."
   ]
  },
  {
   "cell_type": "code",
   "execution_count": 8,
   "metadata": {
    "execution": {
     "iopub.execute_input": "2023-03-15T19:28:20.250773Z",
     "iopub.status.busy": "2023-03-15T19:28:20.250466Z",
     "iopub.status.idle": "2023-03-15T19:28:20.306465Z",
     "shell.execute_reply": "2023-03-15T19:28:20.305832Z"
    }
   },
   "outputs": [
    {
     "data": {
      "image/png": "[encoded data removed]",
      "text/latex": [
       "$\\displaystyle 4.88357092039392$"
      ],
      "text/plain": [
       "4.88357092039392"
      ]
     },
     "execution_count": 8,
     "metadata": {},
     "output_type": "execute_result"
    }
   ],
   "source": [
    "(cdf_1['y'] - cdf_0['y']).mean()"
   ]
  },
  {
   "cell_type": "code",
   "execution_count": 9,
   "metadata": {
    "execution": {
     "iopub.execute_input": "2023-03-15T19:28:20.309065Z",
     "iopub.status.busy": "2023-03-15T19:28:20.308742Z",
     "iopub.status.idle": "2023-03-15T19:28:20.328537Z",
     "shell.execute_reply": "2023-03-15T19:28:20.327935Z"
    }
   },
   "outputs": [
    {
     "data": {
      "image/png": "[encoded data removed]",
      "text/latex": [
       "$\\displaystyle 0.182909975841249$"
      ],
      "text/plain": [
       "0.1829099758412492"
      ]
     },
     "execution_count": 9,
     "metadata": {},
     "output_type": "execute_result"
    }
   ],
   "source": [
    "1.96*(cdf_1['y'] - cdf_0['y']).std() / np.sqrt(len(df))"
   ]
  },
  {
   "cell_type": "markdown",
   "metadata": {},
   "source": [
    "Comparing to the estimate from OLS."
   ]
  },
  {
   "cell_type": "code",
   "execution_count": 10,
   "metadata": {
    "execution": {
     "iopub.execute_input": "2023-03-15T19:28:20.331054Z",
     "iopub.status.busy": "2023-03-15T19:28:20.330732Z",
     "iopub.status.idle": "2023-03-15T19:28:20.343980Z",
     "shell.execute_reply": "2023-03-15T19:28:20.343385Z"
    }
   },
   "outputs": [
    {
     "data": {
      "text/html": [
       "<table class=\"simpletable\">\n",
       "<caption>OLS Regression Results</caption>\n",
       "<tr>\n",
       "  <th>Dep. Variable:</th>            <td>y</td>        <th>  R-squared (uncentered):</th>      <td>   0.962</td> \n",
       "</tr>\n",
       "<tr>\n",
       "  <th>Model:</th>                   <td>OLS</td>       <th>  Adj. R-squared (uncentered):</th> <td>   0.962</td> \n",
       "</tr>\n",
       "<tr>\n",
       "  <th>Method:</th>             <td>Least Squares</td>  <th>  F-statistic:       </th>          <td>1.268e+04</td>\n",
       "</tr>\n",
       "<tr>\n",
       "  <th>Date:</th>             <td>Wed, 15 Mar 2023</td> <th>  Prob (F-statistic):</th>           <td>  0.00</td>  \n",
       "</tr>\n",
       "<tr>\n",
       "  <th>Time:</th>                 <td>19:28:20</td>     <th>  Log-Likelihood:    </th>          <td> -1404.3</td> \n",
       "</tr>\n",
       "<tr>\n",
       "  <th>No. Observations:</th>      <td>  1000</td>      <th>  AIC:               </th>          <td>   2813.</td> \n",
       "</tr>\n",
       "<tr>\n",
       "  <th>Df Residuals:</th>          <td>   998</td>      <th>  BIC:               </th>          <td>   2822.</td> \n",
       "</tr>\n",
       "<tr>\n",
       "  <th>Df Model:</th>              <td>     2</td>      <th>                     </th>              <td> </td>    \n",
       "</tr>\n",
       "<tr>\n",
       "  <th>Covariance Type:</th>      <td>nonrobust</td>    <th>                     </th>              <td> </td>    \n",
       "</tr>\n",
       "</table>\n",
       "<table class=\"simpletable\">\n",
       "<tr>\n",
       "   <td></td>     <th>coef</th>     <th>std err</th>      <th>t</th>      <th>P>|t|</th>  <th>[0.025</th>    <th>0.975]</th>  \n",
       "</tr>\n",
       "<tr>\n",
       "  <th>x1</th> <td>    1.8301</td> <td>    0.036</td> <td>   51.521</td> <td> 0.000</td> <td>    1.760</td> <td>    1.900</td>\n",
       "</tr>\n",
       "<tr>\n",
       "  <th>x2</th> <td>    5.0105</td> <td>    0.048</td> <td>  103.463</td> <td> 0.000</td> <td>    4.915</td> <td>    5.106</td>\n",
       "</tr>\n",
       "</table>\n",
       "<table class=\"simpletable\">\n",
       "<tr>\n",
       "  <th>Omnibus:</th>       <td> 0.543</td> <th>  Durbin-Watson:     </th> <td>   1.997</td>\n",
       "</tr>\n",
       "<tr>\n",
       "  <th>Prob(Omnibus):</th> <td> 0.762</td> <th>  Jarque-Bera (JB):  </th> <td>   0.453</td>\n",
       "</tr>\n",
       "<tr>\n",
       "  <th>Skew:</th>          <td>-0.045</td> <th>  Prob(JB):          </th> <td>   0.797</td>\n",
       "</tr>\n",
       "<tr>\n",
       "  <th>Kurtosis:</th>      <td> 3.052</td> <th>  Cond. No.          </th> <td>    1.91</td>\n",
       "</tr>\n",
       "</table><br/><br/>Notes:<br/>[1] R² is computed without centering (uncentered) since the model does not contain a constant.<br/>[2] Standard Errors assume that the covariance matrix of the errors is correctly specified."
      ],
      "text/plain": [
       "<class 'statsmodels.iolib.summary.Summary'>\n",
       "\"\"\"\n",
       "                                 OLS Regression Results                                \n",
       "=======================================================================================\n",
       "Dep. Variable:                      y   R-squared (uncentered):                   0.962\n",
       "Model:                            OLS   Adj. R-squared (uncentered):              0.962\n",
       "Method:                 Least Squares   F-statistic:                          1.268e+04\n",
       "Date:                Wed, 15 Mar 2023   Prob (F-statistic):                        0.00\n",
       "Time:                        19:28:20   Log-Likelihood:                         -1404.3\n",
       "No. Observations:                1000   AIC:                                      2813.\n",
       "Df Residuals:                     998   BIC:                                      2822.\n",
       "Df Model:                           2                                                  \n",
       "Covariance Type:            nonrobust                                                  \n",
       "==============================================================================\n",
       "                 coef    std err          t      P>|t|      [0.025      0.975]\n",
       "------------------------------------------------------------------------------\n",
       "x1             1.8301      0.036     51.521      0.000       1.760       1.900\n",
       "x2             5.0105      0.048    103.463      0.000       4.915       5.106\n",
       "==============================================================================\n",
       "Omnibus:                        0.543   Durbin-Watson:                   1.997\n",
       "Prob(Omnibus):                  0.762   Jarque-Bera (JB):                0.453\n",
       "Skew:                          -0.045   Prob(JB):                        0.797\n",
       "Kurtosis:                       3.052   Cond. No.                         1.91\n",
       "==============================================================================\n",
       "\n",
       "Notes:\n",
       "[1] R² is computed without centering (uncentered) since the model does not contain a constant.\n",
       "[2] Standard Errors assume that the covariance matrix of the errors is correctly specified.\n",
       "\"\"\""
      ]
     },
     "execution_count": 10,
     "metadata": {},
     "output_type": "execute_result"
    }
   ],
   "source": [
    "model = OLS(np.asarray(df[outcome]), np.asarray(df[[common_cause, treatment]], dtype=np.float64))\n",
    "result = model.fit()\n",
    "result.summary()"
   ]
  }
 ],
 "metadata": {
  "kernelspec": {
   "display_name": "Python 3",
   "language": "python",
   "name": "python3"
  },
  "language_info": {
   "codemirror_mode": {
    "name": "ipython",
    "version": 3
   },
   "file_extension": ".py",
   "mimetype": "text/x-python",
   "name": "python",
   "nbconvert_exporter": "python",
   "pygments_lexer": "ipython3",
   "version": "3.8.10"
  },
  "toc": {
   "base_numbering": 1,
   "nav_menu": {},
   "number_sections": false,
   "sideBar": true,
   "skip_h1_title": true,
   "title_cell": "Table of Contents",
   "title_sidebar": "Contents",
   "toc_cell": false,
   "toc_position": {},
   "toc_section_display": true,
   "toc_window_display": false
  }
 },
 "nbformat": 4,
 "nbformat_minor": 4
}
