{
 "cells": [
  {
   "cell_type": "markdown",
   "metadata": {},
   "source": [
    "# Demo for the DoWhy causal API\n",
    "We show a simple example of adding a causal extension to any dataframe. "
   ]
  },
  {
   "cell_type": "code",
   "execution_count": 1,
   "metadata": {
    "execution": {
     "iopub.execute_input": "2023-03-31T14:21:36.733775Z",
     "iopub.status.busy": "2023-03-31T14:21:36.733330Z",
     "iopub.status.idle": "2023-03-31T14:21:38.292956Z",
     "shell.execute_reply": "2023-03-31T14:21:38.292317Z"
    }
   },
   "outputs": [],
   "source": [
    "import dowhy.datasets\n",
    "import dowhy.api\n",
    "\n",
    "import numpy as np\n",
    "import pandas as pd\n",
    "\n",
    "from statsmodels.api import OLS"
   ]
  },
  {
   "cell_type": "code",
   "execution_count": 2,
   "metadata": {
    "execution": {
     "iopub.execute_input": "2023-03-31T14:21:38.296668Z",
     "iopub.status.busy": "2023-03-31T14:21:38.296121Z",
     "iopub.status.idle": "2023-03-31T14:21:38.343044Z",
     "shell.execute_reply": "2023-03-31T14:21:38.342479Z"
    }
   },
   "outputs": [
    {
     "data": {
      "text/html": [
       "<div>\n",
       "<style scoped>\n",
       "    .dataframe tbody tr th:only-of-type {\n",
       "        vertical-align: middle;\n",
       "    }\n",
       "\n",
       "    .dataframe tbody tr th {\n",
       "        vertical-align: top;\n",
       "    }\n",
       "\n",
       "    .dataframe thead th {\n",
       "        text-align: right;\n",
       "    }\n",
       "</style>\n",
       "<table border=\"1\" class=\"dataframe\">\n",
       "  <thead>\n",
       "    <tr style=\"text-align: right;\">\n",
       "      <th></th>\n",
       "      <th>W0</th>\n",
       "      <th>v0</th>\n",
       "      <th>y</th>\n",
       "    </tr>\n",
       "  </thead>\n",
       "  <tbody>\n",
       "    <tr>\n",
       "      <th>0</th>\n",
       "      <td>0.872585</td>\n",
       "      <td>True</td>\n",
       "      <td>6.470943</td>\n",
       "    </tr>\n",
       "    <tr>\n",
       "      <th>1</th>\n",
       "      <td>-0.136907</td>\n",
       "      <td>True</td>\n",
       "      <td>4.426715</td>\n",
       "    </tr>\n",
       "    <tr>\n",
       "      <th>2</th>\n",
       "      <td>-0.058479</td>\n",
       "      <td>True</td>\n",
       "      <td>5.744680</td>\n",
       "    </tr>\n",
       "    <tr>\n",
       "      <th>3</th>\n",
       "      <td>-0.428856</td>\n",
       "      <td>False</td>\n",
       "      <td>-3.366544</td>\n",
       "    </tr>\n",
       "    <tr>\n",
       "      <th>4</th>\n",
       "      <td>2.527556</td>\n",
       "      <td>True</td>\n",
       "      <td>13.864637</td>\n",
       "    </tr>\n",
       "    <tr>\n",
       "      <th>...</th>\n",
       "      <td>...</td>\n",
       "      <td>...</td>\n",
       "      <td>...</td>\n",
       "    </tr>\n",
       "    <tr>\n",
       "      <th>995</th>\n",
       "      <td>0.628969</td>\n",
       "      <td>True</td>\n",
       "      <td>7.301146</td>\n",
       "    </tr>\n",
       "    <tr>\n",
       "      <th>996</th>\n",
       "      <td>0.625875</td>\n",
       "      <td>True</td>\n",
       "      <td>6.140807</td>\n",
       "    </tr>\n",
       "    <tr>\n",
       "      <th>997</th>\n",
       "      <td>-0.453567</td>\n",
       "      <td>False</td>\n",
       "      <td>-1.802598</td>\n",
       "    </tr>\n",
       "    <tr>\n",
       "      <th>998</th>\n",
       "      <td>1.578134</td>\n",
       "      <td>True</td>\n",
       "      <td>10.400047</td>\n",
       "    </tr>\n",
       "    <tr>\n",
       "      <th>999</th>\n",
       "      <td>1.084826</td>\n",
       "      <td>True</td>\n",
       "      <td>6.553354</td>\n",
       "    </tr>\n",
       "  </tbody>\n",
       "</table>\n",
       "<p>1000 rows × 3 columns</p>\n",
       "</div>"
      ],
      "text/plain": [
       "           W0     v0          y\n",
       "0    0.872585   True   6.470943\n",
       "1   -0.136907   True   4.426715\n",
       "2   -0.058479   True   5.744680\n",
       "3   -0.428856  False  -3.366544\n",
       "4    2.527556   True  13.864637\n",
       "..        ...    ...        ...\n",
       "995  0.628969   True   7.301146\n",
       "996  0.625875   True   6.140807\n",
       "997 -0.453567  False  -1.802598\n",
       "998  1.578134   True  10.400047\n",
       "999  1.084826   True   6.553354\n",
       "\n",
       "[1000 rows x 3 columns]"
      ]
     },
     "execution_count": 2,
     "metadata": {},
     "output_type": "execute_result"
    }
   ],
   "source": [
    "data = dowhy.datasets.linear_dataset(beta=5,\n",
    "        num_common_causes=1,\n",
    "        num_instruments = 0,\n",
    "        num_samples=1000,\n",
    "        treatment_is_binary=True)\n",
    "df = data['df']\n",
    "df['y'] = df['y'] + np.random.normal(size=len(df)) # Adding noise to data. Without noise, the variance in Y|X, Z is zero, and mcmc fails.\n",
    "#data['dot_graph'] = 'digraph { v ->y;X0-> v;X0-> y;}'\n",
    "\n",
    "treatment= data[\"treatment_name\"][0]\n",
    "outcome = data[\"outcome_name\"][0]\n",
    "common_cause = data[\"common_causes_names\"][0]\n",
    "df"
   ]
  },
  {
   "cell_type": "code",
   "execution_count": 3,
   "metadata": {
    "execution": {
     "iopub.execute_input": "2023-03-31T14:21:38.345896Z",
     "iopub.status.busy": "2023-03-31T14:21:38.345566Z",
     "iopub.status.idle": "2023-03-31T14:21:38.493623Z",
     "shell.execute_reply": "2023-03-31T14:21:38.493111Z"
    }
   },
   "outputs": [
    {
     "data": {
      "text/plain": [
       "<AxesSubplot: xlabel='v0'>"
      ]
     },
     "execution_count": 3,
     "metadata": {},
     "output_type": "execute_result"
    },
    {
     "data": {
      "image/png": "[encoded data removed]",
      "text/plain": [
       "<Figure size 640x480 with 1 Axes>"
      ]
     },
     "metadata": {},
     "output_type": "display_data"
    }
   ],
   "source": [
    "# data['df'] is just a regular pandas.DataFrame\n",
    "df.causal.do(x=treatment,\n",
    "                     variable_types={treatment: 'b', outcome: 'c', common_cause: 'c'},\n",
    "                     outcome=outcome,\n",
    "                     common_causes=[common_cause],\n",
    "                     proceed_when_unidentifiable=True).groupby(treatment).mean().plot(y=outcome, kind='bar')"
   ]
  },
  {
   "cell_type": "code",
   "execution_count": 4,
   "metadata": {
    "execution": {
     "iopub.execute_input": "2023-03-31T14:21:38.496344Z",
     "iopub.status.busy": "2023-03-31T14:21:38.495929Z",
     "iopub.status.idle": "2023-03-31T14:21:38.696078Z",
     "shell.execute_reply": "2023-03-31T14:21:38.695559Z"
    }
   },
   "outputs": [
    {
     "data": {
      "text/plain": [
       "<AxesSubplot: xlabel='v0'>"
      ]
     },
     "execution_count": 4,
     "metadata": {},
     "output_type": "execute_result"
    },
    {
     "data": {
      "image/png": "[encoded data removed]",
      "text/plain": [
       "<Figure size 640x480 with 1 Axes>"
      ]
     },
     "metadata": {},
     "output_type": "display_data"
    }
   ],
   "source": [
    "df.causal.do(x={treatment: 1}, \n",
    "              variable_types={treatment:'b', outcome: 'c', common_cause: 'c'}, \n",
    "              outcome=outcome,\n",
    "              method='weighting', \n",
    "              common_causes=[common_cause],\n",
    "              proceed_when_unidentifiable=True).groupby(treatment).mean().plot(y=outcome, kind='bar')"
   ]
  },
  {
   "cell_type": "code",
   "execution_count": 5,
   "metadata": {
    "execution": {
     "iopub.execute_input": "2023-03-31T14:21:38.698929Z",
     "iopub.status.busy": "2023-03-31T14:21:38.698398Z",
     "iopub.status.idle": "2023-03-31T14:21:38.728046Z",
     "shell.execute_reply": "2023-03-31T14:21:38.727485Z"
    }
   },
   "outputs": [],
   "source": [
    "cdf_1 = df.causal.do(x={treatment: 1}, \n",
    "              variable_types={treatment: 'b', outcome: 'c', common_cause: 'c'}, \n",
    "              outcome=outcome, \n",
    "              dot_graph=data['dot_graph'],\n",
    "              proceed_when_unidentifiable=True)\n",
    "\n",
    "cdf_0 = df.causal.do(x={treatment: 0}, \n",
    "              variable_types={treatment: 'b', outcome: 'c', common_cause: 'c'}, \n",
    "              outcome=outcome, \n",
    "              dot_graph=data['dot_graph'],\n",
    "              proceed_when_unidentifiable=True)\n"
   ]
  },
  {
   "cell_type": "code",
   "execution_count": 6,
   "metadata": {
    "execution": {
     "iopub.execute_input": "2023-03-31T14:21:38.730882Z",
     "iopub.status.busy": "2023-03-31T14:21:38.730670Z",
     "iopub.status.idle": "2023-03-31T14:21:38.742068Z",
     "shell.execute_reply": "2023-03-31T14:21:38.741536Z"
    },
    "scrolled": true
   },
   "outputs": [
    {
     "data": {
      "text/html": [
       "<div>\n",
       "<style scoped>\n",
       "    .dataframe tbody tr th:only-of-type {\n",
       "        vertical-align: middle;\n",
       "    }\n",
       "\n",
       "    .dataframe tbody tr th {\n",
       "        vertical-align: top;\n",
       "    }\n",
       "\n",
       "    .dataframe thead th {\n",
       "        text-align: right;\n",
       "    }\n",
       "</style>\n",
       "<table border=\"1\" class=\"dataframe\">\n",
       "  <thead>\n",
       "    <tr style=\"text-align: right;\">\n",
       "      <th></th>\n",
       "      <th>W0</th>\n",
       "      <th>v0</th>\n",
       "      <th>y</th>\n",
       "      <th>propensity_score</th>\n",
       "      <th>weight</th>\n",
       "    </tr>\n",
       "  </thead>\n",
       "  <tbody>\n",
       "    <tr>\n",
       "      <th>0</th>\n",
       "      <td>-0.428521</td>\n",
       "      <td>False</td>\n",
       "      <td>-1.556853</td>\n",
       "      <td>0.722927</td>\n",
       "      <td>1.383266</td>\n",
       "    </tr>\n",
       "    <tr>\n",
       "      <th>1</th>\n",
       "      <td>1.004986</td>\n",
       "      <td>False</td>\n",
       "      <td>1.324884</td>\n",
       "      <td>0.103115</td>\n",
       "      <td>9.697905</td>\n",
       "    </tr>\n",
       "    <tr>\n",
       "      <th>2</th>\n",
       "      <td>-0.210946</td>\n",
       "      <td>False</td>\n",
       "      <td>-0.490525</td>\n",
       "      <td>0.618965</td>\n",
       "      <td>1.615600</td>\n",
       "    </tr>\n",
       "    <tr>\n",
       "      <th>3</th>\n",
       "      <td>-0.252434</td>\n",
       "      <td>False</td>\n",
       "      <td>0.357998</td>\n",
       "      <td>0.640035</td>\n",
       "      <td>1.562415</td>\n",
       "    </tr>\n",
       "    <tr>\n",
       "      <th>4</th>\n",
       "      <td>-1.483956</td>\n",
       "      <td>False</td>\n",
       "      <td>-3.752960</td>\n",
       "      <td>0.962949</td>\n",
       "      <td>1.038477</td>\n",
       "    </tr>\n",
       "    <tr>\n",
       "      <th>...</th>\n",
       "      <td>...</td>\n",
       "      <td>...</td>\n",
       "      <td>...</td>\n",
       "      <td>...</td>\n",
       "      <td>...</td>\n",
       "    </tr>\n",
       "    <tr>\n",
       "      <th>995</th>\n",
       "      <td>1.356608</td>\n",
       "      <td>False</td>\n",
       "      <td>4.004160</td>\n",
       "      <td>0.050743</td>\n",
       "      <td>19.706994</td>\n",
       "    </tr>\n",
       "    <tr>\n",
       "      <th>996</th>\n",
       "      <td>0.630976</td>\n",
       "      <td>False</td>\n",
       "      <td>1.167667</td>\n",
       "      <td>0.206114</td>\n",
       "      <td>4.851675</td>\n",
       "    </tr>\n",
       "    <tr>\n",
       "      <th>997</th>\n",
       "      <td>-0.580831</td>\n",
       "      <td>False</td>\n",
       "      <td>-2.523567</td>\n",
       "      <td>0.784274</td>\n",
       "      <td>1.275065</td>\n",
       "    </tr>\n",
       "    <tr>\n",
       "      <th>998</th>\n",
       "      <td>0.355246</td>\n",
       "      <td>False</td>\n",
       "      <td>1.980441</td>\n",
       "      <td>0.321261</td>\n",
       "      <td>3.112731</td>\n",
       "    </tr>\n",
       "    <tr>\n",
       "      <th>999</th>\n",
       "      <td>0.838094</td>\n",
       "      <td>False</td>\n",
       "      <td>2.924862</td>\n",
       "      <td>0.141900</td>\n",
       "      <td>7.047226</td>\n",
       "    </tr>\n",
       "  </tbody>\n",
       "</table>\n",
       "<p>1000 rows × 5 columns</p>\n",
       "</div>"
      ],
      "text/plain": [
       "           W0     v0         y  propensity_score     weight\n",
       "0   -0.428521  False -1.556853          0.722927   1.383266\n",
       "1    1.004986  False  1.324884          0.103115   9.697905\n",
       "2   -0.210946  False -0.490525          0.618965   1.615600\n",
       "3   -0.252434  False  0.357998          0.640035   1.562415\n",
       "4   -1.483956  False -3.752960          0.962949   1.038477\n",
       "..        ...    ...       ...               ...        ...\n",
       "995  1.356608  False  4.004160          0.050743  19.706994\n",
       "996  0.630976  False  1.167667          0.206114   4.851675\n",
       "997 -0.580831  False -2.523567          0.784274   1.275065\n",
       "998  0.355246  False  1.980441          0.321261   3.112731\n",
       "999  0.838094  False  2.924862          0.141900   7.047226\n",
       "\n",
       "[1000 rows x 5 columns]"
      ]
     },
     "execution_count": 6,
     "metadata": {},
     "output_type": "execute_result"
    }
   ],
   "source": [
    "cdf_0"
   ]
  },
  {
   "cell_type": "code",
   "execution_count": 7,
   "metadata": {
    "execution": {
     "iopub.execute_input": "2023-03-31T14:21:38.745001Z",
     "iopub.status.busy": "2023-03-31T14:21:38.744545Z",
     "iopub.status.idle": "2023-03-31T14:21:38.754159Z",
     "shell.execute_reply": "2023-03-31T14:21:38.753544Z"
    }
   },
   "outputs": [
    {
     "data": {
      "text/html": [
       "<div>\n",
       "<style scoped>\n",
       "    .dataframe tbody tr th:only-of-type {\n",
       "        vertical-align: middle;\n",
       "    }\n",
       "\n",
       "    .dataframe tbody tr th {\n",
       "        vertical-align: top;\n",
       "    }\n",
       "\n",
       "    .dataframe thead th {\n",
       "        text-align: right;\n",
       "    }\n",
       "</style>\n",
       "<table border=\"1\" class=\"dataframe\">\n",
       "  <thead>\n",
       "    <tr style=\"text-align: right;\">\n",
       "      <th></th>\n",
       "      <th>W0</th>\n",
       "      <th>v0</th>\n",
       "      <th>y</th>\n",
       "      <th>propensity_score</th>\n",
       "      <th>weight</th>\n",
       "    </tr>\n",
       "  </thead>\n",
       "  <tbody>\n",
       "    <tr>\n",
       "      <th>0</th>\n",
       "      <td>0.900617</td>\n",
       "      <td>True</td>\n",
       "      <td>8.480607</td>\n",
       "      <td>0.873887</td>\n",
       "      <td>1.144313</td>\n",
       "    </tr>\n",
       "    <tr>\n",
       "      <th>1</th>\n",
       "      <td>1.949939</td>\n",
       "      <td>True</td>\n",
       "      <td>11.659089</td>\n",
       "      <td>0.985531</td>\n",
       "      <td>1.014682</td>\n",
       "    </tr>\n",
       "    <tr>\n",
       "      <th>2</th>\n",
       "      <td>0.789172</td>\n",
       "      <td>True</td>\n",
       "      <td>7.828672</td>\n",
       "      <td>0.844625</td>\n",
       "      <td>1.183958</td>\n",
       "    </tr>\n",
       "    <tr>\n",
       "      <th>3</th>\n",
       "      <td>0.641200</td>\n",
       "      <td>True</td>\n",
       "      <td>7.896893</td>\n",
       "      <td>0.797505</td>\n",
       "      <td>1.253910</td>\n",
       "    </tr>\n",
       "    <tr>\n",
       "      <th>4</th>\n",
       "      <td>1.739334</td>\n",
       "      <td>True</td>\n",
       "      <td>10.454166</td>\n",
       "      <td>0.977301</td>\n",
       "      <td>1.023227</td>\n",
       "    </tr>\n",
       "    <tr>\n",
       "      <th>...</th>\n",
       "      <td>...</td>\n",
       "      <td>...</td>\n",
       "      <td>...</td>\n",
       "      <td>...</td>\n",
       "      <td>...</td>\n",
       "    </tr>\n",
       "    <tr>\n",
       "      <th>995</th>\n",
       "      <td>0.330433</td>\n",
       "      <td>True</td>\n",
       "      <td>5.977294</td>\n",
       "      <td>0.666843</td>\n",
       "      <td>1.499604</td>\n",
       "    </tr>\n",
       "    <tr>\n",
       "      <th>996</th>\n",
       "      <td>0.191902</td>\n",
       "      <td>True</td>\n",
       "      <td>4.072560</td>\n",
       "      <td>0.596819</td>\n",
       "      <td>1.675551</td>\n",
       "    </tr>\n",
       "    <tr>\n",
       "      <th>997</th>\n",
       "      <td>-0.748730</td>\n",
       "      <td>True</td>\n",
       "      <td>2.502435</td>\n",
       "      <td>0.160243</td>\n",
       "      <td>6.240535</td>\n",
       "    </tr>\n",
       "    <tr>\n",
       "      <th>998</th>\n",
       "      <td>-0.788980</td>\n",
       "      <td>True</td>\n",
       "      <td>3.078600</td>\n",
       "      <td>0.148795</td>\n",
       "      <td>6.720665</td>\n",
       "    </tr>\n",
       "    <tr>\n",
       "      <th>999</th>\n",
       "      <td>0.081195</td>\n",
       "      <td>True</td>\n",
       "      <td>4.824771</td>\n",
       "      <td>0.537706</td>\n",
       "      <td>1.859752</td>\n",
       "    </tr>\n",
       "  </tbody>\n",
       "</table>\n",
       "<p>1000 rows × 5 columns</p>\n",
       "</div>"
      ],
      "text/plain": [
       "           W0    v0          y  propensity_score    weight\n",
       "0    0.900617  True   8.480607          0.873887  1.144313\n",
       "1    1.949939  True  11.659089          0.985531  1.014682\n",
       "2    0.789172  True   7.828672          0.844625  1.183958\n",
       "3    0.641200  True   7.896893          0.797505  1.253910\n",
       "4    1.739334  True  10.454166          0.977301  1.023227\n",
       "..        ...   ...        ...               ...       ...\n",
       "995  0.330433  True   5.977294          0.666843  1.499604\n",
       "996  0.191902  True   4.072560          0.596819  1.675551\n",
       "997 -0.748730  True   2.502435          0.160243  6.240535\n",
       "998 -0.788980  True   3.078600          0.148795  6.720665\n",
       "999  0.081195  True   4.824771          0.537706  1.859752\n",
       "\n",
       "[1000 rows x 5 columns]"
      ]
     },
     "execution_count": 7,
     "metadata": {},
     "output_type": "execute_result"
    }
   ],
   "source": [
    "cdf_1"
   ]
  },
  {
   "cell_type": "markdown",
   "metadata": {},
   "source": [
    "## Comparing the estimate to Linear Regression\n",
    "First, estimating the effect using the causal data frame, and the 95% confidence interval."
   ]
  },
  {
   "cell_type": "code",
   "execution_count": 8,
   "metadata": {
    "execution": {
     "iopub.execute_input": "2023-03-31T14:21:38.756862Z",
     "iopub.status.busy": "2023-03-31T14:21:38.756554Z",
     "iopub.status.idle": "2023-03-31T14:21:38.812440Z",
     "shell.execute_reply": "2023-03-31T14:21:38.811827Z"
    }
   },
   "outputs": [
    {
     "data": {
      "image/png": "[encoded data removed]",
      "text/latex": [
       "$\\displaystyle 5.79446725562928$"
      ],
      "text/plain": [
       "5.794467255629275"
      ]
     },
     "execution_count": 8,
     "metadata": {},
     "output_type": "execute_result"
    }
   ],
   "source": [
    "(cdf_1['y'] - cdf_0['y']).mean()"
   ]
  },
  {
   "cell_type": "code",
   "execution_count": 9,
   "metadata": {
    "execution": {
     "iopub.execute_input": "2023-03-31T14:21:38.815077Z",
     "iopub.status.busy": "2023-03-31T14:21:38.814753Z",
     "iopub.status.idle": "2023-03-31T14:21:38.834546Z",
     "shell.execute_reply": "2023-03-31T14:21:38.833933Z"
    }
   },
   "outputs": [
    {
     "data": {
      "image/png": "[encoded data removed]",
      "text/latex": [
       "$\\displaystyle 0.246995581510066$"
      ],
      "text/plain": [
       "0.24699558151006587"
      ]
     },
     "execution_count": 9,
     "metadata": {},
     "output_type": "execute_result"
    }
   ],
   "source": [
    "1.96*(cdf_1['y'] - cdf_0['y']).std() / np.sqrt(len(df))"
   ]
  },
  {
   "cell_type": "markdown",
   "metadata": {},
   "source": [
    "Comparing to the estimate from OLS."
   ]
  },
  {
   "cell_type": "code",
   "execution_count": 10,
   "metadata": {
    "execution": {
     "iopub.execute_input": "2023-03-31T14:21:38.837101Z",
     "iopub.status.busy": "2023-03-31T14:21:38.836774Z",
     "iopub.status.idle": "2023-03-31T14:21:38.850304Z",
     "shell.execute_reply": "2023-03-31T14:21:38.849724Z"
    }
   },
   "outputs": [
    {
     "data": {
      "text/html": [
       "<table class=\"simpletable\">\n",
       "<caption>OLS Regression Results</caption>\n",
       "<tr>\n",
       "  <th>Dep. Variable:</th>            <td>y</td>        <th>  R-squared (uncentered):</th>      <td>   0.973</td> \n",
       "</tr>\n",
       "<tr>\n",
       "  <th>Model:</th>                   <td>OLS</td>       <th>  Adj. R-squared (uncentered):</th> <td>   0.973</td> \n",
       "</tr>\n",
       "<tr>\n",
       "  <th>Method:</th>             <td>Least Squares</td>  <th>  F-statistic:       </th>          <td>1.806e+04</td>\n",
       "</tr>\n",
       "<tr>\n",
       "  <th>Date:</th>             <td>Fri, 31 Mar 2023</td> <th>  Prob (F-statistic):</th>           <td>  0.00</td>  \n",
       "</tr>\n",
       "<tr>\n",
       "  <th>Time:</th>                 <td>14:21:38</td>     <th>  Log-Likelihood:    </th>          <td> -1418.8</td> \n",
       "</tr>\n",
       "<tr>\n",
       "  <th>No. Observations:</th>      <td>  1000</td>      <th>  AIC:               </th>          <td>   2842.</td> \n",
       "</tr>\n",
       "<tr>\n",
       "  <th>Df Residuals:</th>          <td>   998</td>      <th>  BIC:               </th>          <td>   2851.</td> \n",
       "</tr>\n",
       "<tr>\n",
       "  <th>Df Model:</th>              <td>     2</td>      <th>                     </th>              <td> </td>    \n",
       "</tr>\n",
       "<tr>\n",
       "  <th>Covariance Type:</th>      <td>nonrobust</td>    <th>                     </th>              <td> </td>    \n",
       "</tr>\n",
       "</table>\n",
       "<table class=\"simpletable\">\n",
       "<tr>\n",
       "   <td></td>     <th>coef</th>     <th>std err</th>      <th>t</th>      <th>P>|t|</th>  <th>[0.025</th>    <th>0.975]</th>  \n",
       "</tr>\n",
       "<tr>\n",
       "  <th>x1</th> <td>    2.8573</td> <td>    0.037</td> <td>   76.954</td> <td> 0.000</td> <td>    2.784</td> <td>    2.930</td>\n",
       "</tr>\n",
       "<tr>\n",
       "  <th>x2</th> <td>    5.0744</td> <td>    0.051</td> <td>   98.642</td> <td> 0.000</td> <td>    4.973</td> <td>    5.175</td>\n",
       "</tr>\n",
       "</table>\n",
       "<table class=\"simpletable\">\n",
       "<tr>\n",
       "  <th>Omnibus:</th>       <td> 3.479</td> <th>  Durbin-Watson:     </th> <td>   2.027</td>\n",
       "</tr>\n",
       "<tr>\n",
       "  <th>Prob(Omnibus):</th> <td> 0.176</td> <th>  Jarque-Bera (JB):  </th> <td>   3.230</td>\n",
       "</tr>\n",
       "<tr>\n",
       "  <th>Skew:</th>          <td> 0.084</td> <th>  Prob(JB):          </th> <td>   0.199</td>\n",
       "</tr>\n",
       "<tr>\n",
       "  <th>Kurtosis:</th>      <td> 2.778</td> <th>  Cond. No.          </th> <td>    2.09</td>\n",
       "</tr>\n",
       "</table><br/><br/>Notes:<br/>[1] R² is computed without centering (uncentered) since the model does not contain a constant.<br/>[2] Standard Errors assume that the covariance matrix of the errors is correctly specified."
      ],
      "text/plain": [
       "<class 'statsmodels.iolib.summary.Summary'>\n",
       "\"\"\"\n",
       "                                 OLS Regression Results                                \n",
       "=======================================================================================\n",
       "Dep. Variable:                      y   R-squared (uncentered):                   0.973\n",
       "Model:                            OLS   Adj. R-squared (uncentered):              0.973\n",
       "Method:                 Least Squares   F-statistic:                          1.806e+04\n",
       "Date:                Fri, 31 Mar 2023   Prob (F-statistic):                        0.00\n",
       "Time:                        14:21:38   Log-Likelihood:                         -1418.8\n",
       "No. Observations:                1000   AIC:                                      2842.\n",
       "Df Residuals:                     998   BIC:                                      2851.\n",
       "Df Model:                           2                                                  \n",
       "Covariance Type:            nonrobust                                                  \n",
       "==============================================================================\n",
       "                 coef    std err          t      P>|t|      [0.025      0.975]\n",
       "------------------------------------------------------------------------------\n",
       "x1             2.8573      0.037     76.954      0.000       2.784       2.930\n",
       "x2             5.0744      0.051     98.642      0.000       4.973       5.175\n",
       "==============================================================================\n",
       "Omnibus:                        3.479   Durbin-Watson:                   2.027\n",
       "Prob(Omnibus):                  0.176   Jarque-Bera (JB):                3.230\n",
       "Skew:                           0.084   Prob(JB):                        0.199\n",
       "Kurtosis:                       2.778   Cond. No.                         2.09\n",
       "==============================================================================\n",
       "\n",
       "Notes:\n",
       "[1] R² is computed without centering (uncentered) since the model does not contain a constant.\n",
       "[2] Standard Errors assume that the covariance matrix of the errors is correctly specified.\n",
       "\"\"\""
      ]
     },
     "execution_count": 10,
     "metadata": {},
     "output_type": "execute_result"
    }
   ],
   "source": [
    "model = OLS(np.asarray(df[outcome]), np.asarray(df[[common_cause, treatment]], dtype=np.float64))\n",
    "result = model.fit()\n",
    "result.summary()"
   ]
  }
 ],
 "metadata": {
  "kernelspec": {
   "display_name": "Python 3",
   "language": "python",
   "name": "python3"
  },
  "language_info": {
   "codemirror_mode": {
    "name": "ipython",
    "version": 3
   },
   "file_extension": ".py",
   "mimetype": "text/x-python",
   "name": "python",
   "nbconvert_exporter": "python",
   "pygments_lexer": "ipython3",
   "version": "3.8.10"
  },
  "toc": {
   "base_numbering": 1,
   "nav_menu": {},
   "number_sections": false,
   "sideBar": true,
   "skip_h1_title": true,
   "title_cell": "Table of Contents",
   "title_sidebar": "Contents",
   "toc_cell": false,
   "toc_position": {},
   "toc_section_display": true,
   "toc_window_display": false
  }
 },
 "nbformat": 4,
 "nbformat_minor": 4
}
