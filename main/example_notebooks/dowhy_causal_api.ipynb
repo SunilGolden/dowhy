{
 "cells": [
  {
   "cell_type": "markdown",
   "metadata": {},
   "source": [
    "# Demo for the DoWhy causal API\n",
    "We show a simple example of adding a causal extension to any dataframe. "
   ]
  },
  {
   "cell_type": "code",
   "execution_count": 1,
   "metadata": {
    "execution": {
     "iopub.execute_input": "2023-12-03T16:49:04.714740Z",
     "iopub.status.busy": "2023-12-03T16:49:04.714186Z",
     "iopub.status.idle": "2023-12-03T16:49:06.052981Z",
     "shell.execute_reply": "2023-12-03T16:49:06.052379Z"
    }
   },
   "outputs": [],
   "source": [
    "import dowhy.datasets\n",
    "import dowhy.api\n",
    "from dowhy.graph import build_graph_from_str\n",
    "\n",
    "import numpy as np\n",
    "import pandas as pd\n",
    "\n",
    "from statsmodels.api import OLS"
   ]
  },
  {
   "cell_type": "code",
   "execution_count": 2,
   "metadata": {
    "execution": {
     "iopub.execute_input": "2023-12-03T16:49:06.055763Z",
     "iopub.status.busy": "2023-12-03T16:49:06.055463Z",
     "iopub.status.idle": "2023-12-03T16:49:06.093261Z",
     "shell.execute_reply": "2023-12-03T16:49:06.092643Z"
    }
   },
   "outputs": [
    {
     "data": {
      "text/html": [
       "<div>\n",
       "<style scoped>\n",
       "    .dataframe tbody tr th:only-of-type {\n",
       "        vertical-align: middle;\n",
       "    }\n",
       "\n",
       "    .dataframe tbody tr th {\n",
       "        vertical-align: top;\n",
       "    }\n",
       "\n",
       "    .dataframe thead th {\n",
       "        text-align: right;\n",
       "    }\n",
       "</style>\n",
       "<table border=\"1\" class=\"dataframe\">\n",
       "  <thead>\n",
       "    <tr style=\"text-align: right;\">\n",
       "      <th></th>\n",
       "      <th>W0</th>\n",
       "      <th>v0</th>\n",
       "      <th>y</th>\n",
       "    </tr>\n",
       "  </thead>\n",
       "  <tbody>\n",
       "    <tr>\n",
       "      <th>0</th>\n",
       "      <td>-0.800663</td>\n",
       "      <td>False</td>\n",
       "      <td>-0.146266</td>\n",
       "    </tr>\n",
       "    <tr>\n",
       "      <th>1</th>\n",
       "      <td>-1.232943</td>\n",
       "      <td>False</td>\n",
       "      <td>-0.770699</td>\n",
       "    </tr>\n",
       "    <tr>\n",
       "      <th>2</th>\n",
       "      <td>0.803699</td>\n",
       "      <td>True</td>\n",
       "      <td>5.967341</td>\n",
       "    </tr>\n",
       "    <tr>\n",
       "      <th>3</th>\n",
       "      <td>-0.269387</td>\n",
       "      <td>True</td>\n",
       "      <td>4.085870</td>\n",
       "    </tr>\n",
       "    <tr>\n",
       "      <th>4</th>\n",
       "      <td>-1.146332</td>\n",
       "      <td>True</td>\n",
       "      <td>4.347502</td>\n",
       "    </tr>\n",
       "    <tr>\n",
       "      <th>...</th>\n",
       "      <td>...</td>\n",
       "      <td>...</td>\n",
       "      <td>...</td>\n",
       "    </tr>\n",
       "    <tr>\n",
       "      <th>995</th>\n",
       "      <td>0.434108</td>\n",
       "      <td>False</td>\n",
       "      <td>0.569943</td>\n",
       "    </tr>\n",
       "    <tr>\n",
       "      <th>996</th>\n",
       "      <td>-1.157220</td>\n",
       "      <td>False</td>\n",
       "      <td>-2.058845</td>\n",
       "    </tr>\n",
       "    <tr>\n",
       "      <th>997</th>\n",
       "      <td>2.486762</td>\n",
       "      <td>True</td>\n",
       "      <td>8.578428</td>\n",
       "    </tr>\n",
       "    <tr>\n",
       "      <th>998</th>\n",
       "      <td>-2.413422</td>\n",
       "      <td>False</td>\n",
       "      <td>-6.190951</td>\n",
       "    </tr>\n",
       "    <tr>\n",
       "      <th>999</th>\n",
       "      <td>-1.220201</td>\n",
       "      <td>True</td>\n",
       "      <td>3.421397</td>\n",
       "    </tr>\n",
       "  </tbody>\n",
       "</table>\n",
       "<p>1000 rows × 3 columns</p>\n",
       "</div>"
      ],
      "text/plain": [
       "           W0     v0         y\n",
       "0   -0.800663  False -0.146266\n",
       "1   -1.232943  False -0.770699\n",
       "2    0.803699   True  5.967341\n",
       "3   -0.269387   True  4.085870\n",
       "4   -1.146332   True  4.347502\n",
       "..        ...    ...       ...\n",
       "995  0.434108  False  0.569943\n",
       "996 -1.157220  False -2.058845\n",
       "997  2.486762   True  8.578428\n",
       "998 -2.413422  False -6.190951\n",
       "999 -1.220201   True  3.421397\n",
       "\n",
       "[1000 rows x 3 columns]"
      ]
     },
     "execution_count": 2,
     "metadata": {},
     "output_type": "execute_result"
    }
   ],
   "source": [
    "data = dowhy.datasets.linear_dataset(beta=5,\n",
    "        num_common_causes=1,\n",
    "        num_instruments = 0,\n",
    "        num_samples=1000,\n",
    "        treatment_is_binary=True)\n",
    "df = data['df']\n",
    "df['y'] = df['y'] + np.random.normal(size=len(df)) # Adding noise to data. Without noise, the variance in Y|X, Z is zero, and mcmc fails.\n",
    "nx_graph = build_graph_from_str(data[\"dot_graph\"])\n",
    "\n",
    "treatment= data[\"treatment_name\"][0]\n",
    "outcome = data[\"outcome_name\"][0]\n",
    "common_cause = data[\"common_causes_names\"][0]\n",
    "df"
   ]
  },
  {
   "cell_type": "code",
   "execution_count": 3,
   "metadata": {
    "execution": {
     "iopub.execute_input": "2023-12-03T16:49:06.095623Z",
     "iopub.status.busy": "2023-12-03T16:49:06.095257Z",
     "iopub.status.idle": "2023-12-03T16:49:06.271691Z",
     "shell.execute_reply": "2023-12-03T16:49:06.271051Z"
    },
    "scrolled": true
   },
   "outputs": [
    {
     "data": {
      "text/plain": [
       "<Axes: xlabel='v0'>"
      ]
     },
     "execution_count": 3,
     "metadata": {},
     "output_type": "execute_result"
    },
    {
     "data": {
      "image/png": "[encoded data removed]",
      "text/plain": [
       "<Figure size 640x480 with 1 Axes>"
      ]
     },
     "metadata": {},
     "output_type": "display_data"
    }
   ],
   "source": [
    "# data['df'] is just a regular pandas.DataFrame\n",
    "df.causal.do(x=treatment,\n",
    "             variable_types={treatment: 'b', outcome: 'c', common_cause: 'c'},\n",
    "             outcome=outcome,\n",
    "             common_causes=[common_cause],\n",
    "            ).groupby(treatment).mean().plot(y=outcome, kind='bar')"
   ]
  },
  {
   "cell_type": "code",
   "execution_count": 4,
   "metadata": {
    "execution": {
     "iopub.execute_input": "2023-12-03T16:49:06.274162Z",
     "iopub.status.busy": "2023-12-03T16:49:06.273723Z",
     "iopub.status.idle": "2023-12-03T16:49:06.402546Z",
     "shell.execute_reply": "2023-12-03T16:49:06.401926Z"
    }
   },
   "outputs": [
    {
     "data": {
      "text/plain": [
       "<Axes: xlabel='v0'>"
      ]
     },
     "execution_count": 4,
     "metadata": {},
     "output_type": "execute_result"
    },
    {
     "data": {
      "image/png": "[encoded data removed]",
      "text/plain": [
       "<Figure size 640x480 with 1 Axes>"
      ]
     },
     "metadata": {},
     "output_type": "display_data"
    }
   ],
   "source": [
    "df.causal.do(x={treatment: 1}, \n",
    "              variable_types={treatment:'b', outcome: 'c', common_cause: 'c'}, \n",
    "              outcome=outcome,\n",
    "              method='weighting', \n",
    "              common_causes=[common_cause]\n",
    "              ).groupby(treatment).mean().plot(y=outcome, kind='bar')"
   ]
  },
  {
   "cell_type": "code",
   "execution_count": 5,
   "metadata": {
    "execution": {
     "iopub.execute_input": "2023-12-03T16:49:06.405172Z",
     "iopub.status.busy": "2023-12-03T16:49:06.404840Z",
     "iopub.status.idle": "2023-12-03T16:49:06.425306Z",
     "shell.execute_reply": "2023-12-03T16:49:06.424828Z"
    }
   },
   "outputs": [],
   "source": [
    "cdf_1 = df.causal.do(x={treatment: 1}, \n",
    "              variable_types={treatment: 'b', outcome: 'c', common_cause: 'c'}, \n",
    "              outcome=outcome, \n",
    "              graph=nx_graph\n",
    "              )\n",
    "\n",
    "cdf_0 = df.causal.do(x={treatment: 0}, \n",
    "              variable_types={treatment: 'b', outcome: 'c', common_cause: 'c'}, \n",
    "              outcome=outcome, \n",
    "              graph=nx_graph\n",
    "              )\n"
   ]
  },
  {
   "cell_type": "code",
   "execution_count": 6,
   "metadata": {
    "execution": {
     "iopub.execute_input": "2023-12-03T16:49:06.427477Z",
     "iopub.status.busy": "2023-12-03T16:49:06.427315Z",
     "iopub.status.idle": "2023-12-03T16:49:06.436191Z",
     "shell.execute_reply": "2023-12-03T16:49:06.435723Z"
    },
    "scrolled": true
   },
   "outputs": [
    {
     "data": {
      "text/html": [
       "<div>\n",
       "<style scoped>\n",
       "    .dataframe tbody tr th:only-of-type {\n",
       "        vertical-align: middle;\n",
       "    }\n",
       "\n",
       "    .dataframe tbody tr th {\n",
       "        vertical-align: top;\n",
       "    }\n",
       "\n",
       "    .dataframe thead th {\n",
       "        text-align: right;\n",
       "    }\n",
       "</style>\n",
       "<table border=\"1\" class=\"dataframe\">\n",
       "  <thead>\n",
       "    <tr style=\"text-align: right;\">\n",
       "      <th></th>\n",
       "      <th>W0</th>\n",
       "      <th>v0</th>\n",
       "      <th>y</th>\n",
       "      <th>propensity_score</th>\n",
       "      <th>weight</th>\n",
       "    </tr>\n",
       "  </thead>\n",
       "  <tbody>\n",
       "    <tr>\n",
       "      <th>0</th>\n",
       "      <td>-0.479597</td>\n",
       "      <td>False</td>\n",
       "      <td>-2.763572</td>\n",
       "      <td>0.655638</td>\n",
       "      <td>1.525231</td>\n",
       "    </tr>\n",
       "    <tr>\n",
       "      <th>1</th>\n",
       "      <td>0.508643</td>\n",
       "      <td>False</td>\n",
       "      <td>2.022683</td>\n",
       "      <td>0.361489</td>\n",
       "      <td>2.766339</td>\n",
       "    </tr>\n",
       "    <tr>\n",
       "      <th>2</th>\n",
       "      <td>-2.070150</td>\n",
       "      <td>False</td>\n",
       "      <td>-3.850474</td>\n",
       "      <td>0.930600</td>\n",
       "      <td>1.074576</td>\n",
       "    </tr>\n",
       "    <tr>\n",
       "      <th>3</th>\n",
       "      <td>2.111224</td>\n",
       "      <td>False</td>\n",
       "      <td>4.877410</td>\n",
       "      <td>0.073394</td>\n",
       "      <td>13.625134</td>\n",
       "    </tr>\n",
       "    <tr>\n",
       "      <th>4</th>\n",
       "      <td>-1.300236</td>\n",
       "      <td>False</td>\n",
       "      <td>-2.150423</td>\n",
       "      <td>0.839033</td>\n",
       "      <td>1.191848</td>\n",
       "    </tr>\n",
       "    <tr>\n",
       "      <th>...</th>\n",
       "      <td>...</td>\n",
       "      <td>...</td>\n",
       "      <td>...</td>\n",
       "      <td>...</td>\n",
       "      <td>...</td>\n",
       "    </tr>\n",
       "    <tr>\n",
       "      <th>995</th>\n",
       "      <td>0.657899</td>\n",
       "      <td>False</td>\n",
       "      <td>0.072443</td>\n",
       "      <td>0.320367</td>\n",
       "      <td>3.121417</td>\n",
       "    </tr>\n",
       "    <tr>\n",
       "      <th>996</th>\n",
       "      <td>1.113710</td>\n",
       "      <td>False</td>\n",
       "      <td>1.543322</td>\n",
       "      <td>0.212239</td>\n",
       "      <td>4.711671</td>\n",
       "    </tr>\n",
       "    <tr>\n",
       "      <th>997</th>\n",
       "      <td>-1.153829</td>\n",
       "      <td>False</td>\n",
       "      <td>-2.395445</td>\n",
       "      <td>0.813266</td>\n",
       "      <td>1.229610</td>\n",
       "    </tr>\n",
       "    <tr>\n",
       "      <th>998</th>\n",
       "      <td>-1.413041</td>\n",
       "      <td>False</td>\n",
       "      <td>-2.113652</td>\n",
       "      <td>0.856865</td>\n",
       "      <td>1.167045</td>\n",
       "    </tr>\n",
       "    <tr>\n",
       "      <th>999</th>\n",
       "      <td>0.449524</td>\n",
       "      <td>False</td>\n",
       "      <td>-0.677942</td>\n",
       "      <td>0.378398</td>\n",
       "      <td>2.642721</td>\n",
       "    </tr>\n",
       "  </tbody>\n",
       "</table>\n",
       "<p>1000 rows × 5 columns</p>\n",
       "</div>"
      ],
      "text/plain": [
       "           W0     v0         y  propensity_score     weight\n",
       "0   -0.479597  False -2.763572          0.655638   1.525231\n",
       "1    0.508643  False  2.022683          0.361489   2.766339\n",
       "2   -2.070150  False -3.850474          0.930600   1.074576\n",
       "3    2.111224  False  4.877410          0.073394  13.625134\n",
       "4   -1.300236  False -2.150423          0.839033   1.191848\n",
       "..        ...    ...       ...               ...        ...\n",
       "995  0.657899  False  0.072443          0.320367   3.121417\n",
       "996  1.113710  False  1.543322          0.212239   4.711671\n",
       "997 -1.153829  False -2.395445          0.813266   1.229610\n",
       "998 -1.413041  False -2.113652          0.856865   1.167045\n",
       "999  0.449524  False -0.677942          0.378398   2.642721\n",
       "\n",
       "[1000 rows x 5 columns]"
      ]
     },
     "execution_count": 6,
     "metadata": {},
     "output_type": "execute_result"
    }
   ],
   "source": [
    "cdf_0"
   ]
  },
  {
   "cell_type": "code",
   "execution_count": 7,
   "metadata": {
    "execution": {
     "iopub.execute_input": "2023-12-03T16:49:06.438316Z",
     "iopub.status.busy": "2023-12-03T16:49:06.437966Z",
     "iopub.status.idle": "2023-12-03T16:49:06.446294Z",
     "shell.execute_reply": "2023-12-03T16:49:06.445812Z"
    }
   },
   "outputs": [
    {
     "data": {
      "text/html": [
       "<div>\n",
       "<style scoped>\n",
       "    .dataframe tbody tr th:only-of-type {\n",
       "        vertical-align: middle;\n",
       "    }\n",
       "\n",
       "    .dataframe tbody tr th {\n",
       "        vertical-align: top;\n",
       "    }\n",
       "\n",
       "    .dataframe thead th {\n",
       "        text-align: right;\n",
       "    }\n",
       "</style>\n",
       "<table border=\"1\" class=\"dataframe\">\n",
       "  <thead>\n",
       "    <tr style=\"text-align: right;\">\n",
       "      <th></th>\n",
       "      <th>W0</th>\n",
       "      <th>v0</th>\n",
       "      <th>y</th>\n",
       "      <th>propensity_score</th>\n",
       "      <th>weight</th>\n",
       "    </tr>\n",
       "  </thead>\n",
       "  <tbody>\n",
       "    <tr>\n",
       "      <th>0</th>\n",
       "      <td>-0.895064</td>\n",
       "      <td>True</td>\n",
       "      <td>3.590504</td>\n",
       "      <td>0.239795</td>\n",
       "      <td>4.170224</td>\n",
       "    </tr>\n",
       "    <tr>\n",
       "      <th>1</th>\n",
       "      <td>0.385253</td>\n",
       "      <td>True</td>\n",
       "      <td>5.587635</td>\n",
       "      <td>0.602880</td>\n",
       "      <td>1.658706</td>\n",
       "    </tr>\n",
       "    <tr>\n",
       "      <th>2</th>\n",
       "      <td>0.875230</td>\n",
       "      <td>True</td>\n",
       "      <td>5.580090</td>\n",
       "      <td>0.734740</td>\n",
       "      <td>1.361026</td>\n",
       "    </tr>\n",
       "    <tr>\n",
       "      <th>3</th>\n",
       "      <td>0.230453</td>\n",
       "      <td>True</td>\n",
       "      <td>5.283834</td>\n",
       "      <td>0.556630</td>\n",
       "      <td>1.796524</td>\n",
       "    </tr>\n",
       "    <tr>\n",
       "      <th>4</th>\n",
       "      <td>-1.592298</td>\n",
       "      <td>True</td>\n",
       "      <td>0.360369</td>\n",
       "      <td>0.118210</td>\n",
       "      <td>8.459501</td>\n",
       "    </tr>\n",
       "    <tr>\n",
       "      <th>...</th>\n",
       "      <td>...</td>\n",
       "      <td>...</td>\n",
       "      <td>...</td>\n",
       "      <td>...</td>\n",
       "      <td>...</td>\n",
       "    </tr>\n",
       "    <tr>\n",
       "      <th>995</th>\n",
       "      <td>0.393378</td>\n",
       "      <td>True</td>\n",
       "      <td>5.416889</td>\n",
       "      <td>0.605264</td>\n",
       "      <td>1.652171</td>\n",
       "    </tr>\n",
       "    <tr>\n",
       "      <th>996</th>\n",
       "      <td>0.760959</td>\n",
       "      <td>True</td>\n",
       "      <td>5.846128</td>\n",
       "      <td>0.706525</td>\n",
       "      <td>1.415378</td>\n",
       "    </tr>\n",
       "    <tr>\n",
       "      <th>997</th>\n",
       "      <td>-0.492237</td>\n",
       "      <td>True</td>\n",
       "      <td>3.198383</td>\n",
       "      <td>0.340868</td>\n",
       "      <td>2.933689</td>\n",
       "    </tr>\n",
       "    <tr>\n",
       "      <th>998</th>\n",
       "      <td>0.572175</td>\n",
       "      <td>True</td>\n",
       "      <td>4.363068</td>\n",
       "      <td>0.656307</td>\n",
       "      <td>1.523677</td>\n",
       "    </tr>\n",
       "    <tr>\n",
       "      <th>999</th>\n",
       "      <td>-0.982270</td>\n",
       "      <td>True</td>\n",
       "      <td>2.294490</td>\n",
       "      <td>0.220832</td>\n",
       "      <td>4.528335</td>\n",
       "    </tr>\n",
       "  </tbody>\n",
       "</table>\n",
       "<p>1000 rows × 5 columns</p>\n",
       "</div>"
      ],
      "text/plain": [
       "           W0    v0         y  propensity_score    weight\n",
       "0   -0.895064  True  3.590504          0.239795  4.170224\n",
       "1    0.385253  True  5.587635          0.602880  1.658706\n",
       "2    0.875230  True  5.580090          0.734740  1.361026\n",
       "3    0.230453  True  5.283834          0.556630  1.796524\n",
       "4   -1.592298  True  0.360369          0.118210  8.459501\n",
       "..        ...   ...       ...               ...       ...\n",
       "995  0.393378  True  5.416889          0.605264  1.652171\n",
       "996  0.760959  True  5.846128          0.706525  1.415378\n",
       "997 -0.492237  True  3.198383          0.340868  2.933689\n",
       "998  0.572175  True  4.363068          0.656307  1.523677\n",
       "999 -0.982270  True  2.294490          0.220832  4.528335\n",
       "\n",
       "[1000 rows x 5 columns]"
      ]
     },
     "execution_count": 7,
     "metadata": {},
     "output_type": "execute_result"
    }
   ],
   "source": [
    "cdf_1"
   ]
  },
  {
   "cell_type": "markdown",
   "metadata": {},
   "source": [
    "## Comparing the estimate to Linear Regression\n",
    "First, estimating the effect using the causal data frame, and the 95% confidence interval."
   ]
  },
  {
   "cell_type": "code",
   "execution_count": 8,
   "metadata": {
    "execution": {
     "iopub.execute_input": "2023-12-03T16:49:06.448334Z",
     "iopub.status.busy": "2023-12-03T16:49:06.448156Z",
     "iopub.status.idle": "2023-12-03T16:49:06.494728Z",
     "shell.execute_reply": "2023-12-03T16:49:06.494116Z"
    }
   },
   "outputs": [
    {
     "data": {
      "image/png": "[encoded data removed]",
      "text/latex": [
       "$\\displaystyle 4.80149647644129$"
      ],
      "text/plain": [
       "4.8014964764412875"
      ]
     },
     "execution_count": 8,
     "metadata": {},
     "output_type": "execute_result"
    }
   ],
   "source": [
    "(cdf_1['y'] - cdf_0['y']).mean()"
   ]
  },
  {
   "cell_type": "code",
   "execution_count": 9,
   "metadata": {
    "execution": {
     "iopub.execute_input": "2023-12-03T16:49:06.497009Z",
     "iopub.status.busy": "2023-12-03T16:49:06.496683Z",
     "iopub.status.idle": "2023-12-03T16:49:06.513497Z",
     "shell.execute_reply": "2023-12-03T16:49:06.512997Z"
    }
   },
   "outputs": [
    {
     "data": {
      "image/png": "[encoded data removed]",
      "text/latex": [
       "$\\displaystyle 0.190872608465204$"
      ],
      "text/plain": [
       "0.19087260846520404"
      ]
     },
     "execution_count": 9,
     "metadata": {},
     "output_type": "execute_result"
    }
   ],
   "source": [
    "1.96*(cdf_1['y'] - cdf_0['y']).std() / np.sqrt(len(df))"
   ]
  },
  {
   "cell_type": "markdown",
   "metadata": {},
   "source": [
    "Comparing to the estimate from OLS."
   ]
  },
  {
   "cell_type": "code",
   "execution_count": 10,
   "metadata": {
    "execution": {
     "iopub.execute_input": "2023-12-03T16:49:06.515613Z",
     "iopub.status.busy": "2023-12-03T16:49:06.515275Z",
     "iopub.status.idle": "2023-12-03T16:49:06.531658Z",
     "shell.execute_reply": "2023-12-03T16:49:06.531076Z"
    }
   },
   "outputs": [
    {
     "data": {
      "text/html": [
       "<table class=\"simpletable\">\n",
       "<caption>OLS Regression Results</caption>\n",
       "<tr>\n",
       "  <th>Dep. Variable:</th>            <td>y</td>        <th>  R-squared (uncentered):</th>      <td>   0.952</td>\n",
       "</tr>\n",
       "<tr>\n",
       "  <th>Model:</th>                   <td>OLS</td>       <th>  Adj. R-squared (uncentered):</th> <td>   0.951</td>\n",
       "</tr>\n",
       "<tr>\n",
       "  <th>Method:</th>             <td>Least Squares</td>  <th>  F-statistic:       </th>          <td>   9806.</td>\n",
       "</tr>\n",
       "<tr>\n",
       "  <th>Date:</th>             <td>Sun, 03 Dec 2023</td> <th>  Prob (F-statistic):</th>           <td>  0.00</td> \n",
       "</tr>\n",
       "<tr>\n",
       "  <th>Time:</th>                 <td>16:49:06</td>     <th>  Log-Likelihood:    </th>          <td> -1430.2</td>\n",
       "</tr>\n",
       "<tr>\n",
       "  <th>No. Observations:</th>      <td>  1000</td>      <th>  AIC:               </th>          <td>   2864.</td>\n",
       "</tr>\n",
       "<tr>\n",
       "  <th>Df Residuals:</th>          <td>   998</td>      <th>  BIC:               </th>          <td>   2874.</td>\n",
       "</tr>\n",
       "<tr>\n",
       "  <th>Df Model:</th>              <td>     2</td>      <th>                     </th>              <td> </td>   \n",
       "</tr>\n",
       "<tr>\n",
       "  <th>Covariance Type:</th>      <td>nonrobust</td>    <th>                     </th>              <td> </td>   \n",
       "</tr>\n",
       "</table>\n",
       "<table class=\"simpletable\">\n",
       "<tr>\n",
       "   <td></td>     <th>coef</th>     <th>std err</th>      <th>t</th>      <th>P>|t|</th>  <th>[0.025</th>    <th>0.975]</th>  \n",
       "</tr>\n",
       "<tr>\n",
       "  <th>x1</th> <td>    1.9282</td> <td>    0.035</td> <td>   54.487</td> <td> 0.000</td> <td>    1.859</td> <td>    1.998</td>\n",
       "</tr>\n",
       "<tr>\n",
       "  <th>x2</th> <td>    4.9429</td> <td>    0.048</td> <td>  102.092</td> <td> 0.000</td> <td>    4.848</td> <td>    5.038</td>\n",
       "</tr>\n",
       "</table>\n",
       "<table class=\"simpletable\">\n",
       "<tr>\n",
       "  <th>Omnibus:</th>       <td> 3.613</td> <th>  Durbin-Watson:     </th> <td>   1.972</td>\n",
       "</tr>\n",
       "<tr>\n",
       "  <th>Prob(Omnibus):</th> <td> 0.164</td> <th>  Jarque-Bera (JB):  </th> <td>   3.509</td>\n",
       "</tr>\n",
       "<tr>\n",
       "  <th>Skew:</th>          <td> 0.143</td> <th>  Prob(JB):          </th> <td>   0.173</td>\n",
       "</tr>\n",
       "<tr>\n",
       "  <th>Kurtosis:</th>      <td> 3.054</td> <th>  Cond. No.          </th> <td>    1.62</td>\n",
       "</tr>\n",
       "</table><br/><br/>Notes:<br/>[1] R² is computed without centering (uncentered) since the model does not contain a constant.<br/>[2] Standard Errors assume that the covariance matrix of the errors is correctly specified."
      ],
      "text/latex": [
       "\\begin{center}\n",
       "\\begin{tabular}{lclc}\n",
       "\\toprule\n",
       "\\textbf{Dep. Variable:}    &        y         & \\textbf{  R-squared (uncentered):}      &     0.952   \\\\\n",
       "\\textbf{Model:}            &       OLS        & \\textbf{  Adj. R-squared (uncentered):} &     0.951   \\\\\n",
       "\\textbf{Method:}           &  Least Squares   & \\textbf{  F-statistic:       }          &     9806.   \\\\\n",
       "\\textbf{Date:}             & Sun, 03 Dec 2023 & \\textbf{  Prob (F-statistic):}          &     0.00    \\\\\n",
       "\\textbf{Time:}             &     16:49:06     & \\textbf{  Log-Likelihood:    }          &   -1430.2   \\\\\n",
       "\\textbf{No. Observations:} &        1000      & \\textbf{  AIC:               }          &     2864.   \\\\\n",
       "\\textbf{Df Residuals:}     &         998      & \\textbf{  BIC:               }          &     2874.   \\\\\n",
       "\\textbf{Df Model:}         &           2      & \\textbf{                     }          &             \\\\\n",
       "\\textbf{Covariance Type:}  &    nonrobust     & \\textbf{                     }          &             \\\\\n",
       "\\bottomrule\n",
       "\\end{tabular}\n",
       "\\begin{tabular}{lcccccc}\n",
       "            & \\textbf{coef} & \\textbf{std err} & \\textbf{t} & \\textbf{P$> |$t$|$} & \\textbf{[0.025} & \\textbf{0.975]}  \\\\\n",
       "\\midrule\n",
       "\\textbf{x1} &       1.9282  &        0.035     &    54.487  &         0.000        &        1.859    &        1.998     \\\\\n",
       "\\textbf{x2} &       4.9429  &        0.048     &   102.092  &         0.000        &        4.848    &        5.038     \\\\\n",
       "\\bottomrule\n",
       "\\end{tabular}\n",
       "\\begin{tabular}{lclc}\n",
       "\\textbf{Omnibus:}       &  3.613 & \\textbf{  Durbin-Watson:     } &    1.972  \\\\\n",
       "\\textbf{Prob(Omnibus):} &  0.164 & \\textbf{  Jarque-Bera (JB):  } &    3.509  \\\\\n",
       "\\textbf{Skew:}          &  0.143 & \\textbf{  Prob(JB):          } &    0.173  \\\\\n",
       "\\textbf{Kurtosis:}      &  3.054 & \\textbf{  Cond. No.          } &     1.62  \\\\\n",
       "\\bottomrule\n",
       "\\end{tabular}\n",
       "%\\caption{OLS Regression Results}\n",
       "\\end{center}\n",
       "\n",
       "Notes: \\newline\n",
       " [1] R² is computed without centering (uncentered) since the model does not contain a constant. \\newline\n",
       " [2] Standard Errors assume that the covariance matrix of the errors is correctly specified."
      ],
      "text/plain": [
       "<class 'statsmodels.iolib.summary.Summary'>\n",
       "\"\"\"\n",
       "                                 OLS Regression Results                                \n",
       "=======================================================================================\n",
       "Dep. Variable:                      y   R-squared (uncentered):                   0.952\n",
       "Model:                            OLS   Adj. R-squared (uncentered):              0.951\n",
       "Method:                 Least Squares   F-statistic:                              9806.\n",
       "Date:                Sun, 03 Dec 2023   Prob (F-statistic):                        0.00\n",
       "Time:                        16:49:06   Log-Likelihood:                         -1430.2\n",
       "No. Observations:                1000   AIC:                                      2864.\n",
       "Df Residuals:                     998   BIC:                                      2874.\n",
       "Df Model:                           2                                                  \n",
       "Covariance Type:            nonrobust                                                  \n",
       "==============================================================================\n",
       "                 coef    std err          t      P>|t|      [0.025      0.975]\n",
       "------------------------------------------------------------------------------\n",
       "x1             1.9282      0.035     54.487      0.000       1.859       1.998\n",
       "x2             4.9429      0.048    102.092      0.000       4.848       5.038\n",
       "==============================================================================\n",
       "Omnibus:                        3.613   Durbin-Watson:                   1.972\n",
       "Prob(Omnibus):                  0.164   Jarque-Bera (JB):                3.509\n",
       "Skew:                           0.143   Prob(JB):                        0.173\n",
       "Kurtosis:                       3.054   Cond. No.                         1.62\n",
       "==============================================================================\n",
       "\n",
       "Notes:\n",
       "[1] R² is computed without centering (uncentered) since the model does not contain a constant.\n",
       "[2] Standard Errors assume that the covariance matrix of the errors is correctly specified.\n",
       "\"\"\""
      ]
     },
     "execution_count": 10,
     "metadata": {},
     "output_type": "execute_result"
    }
   ],
   "source": [
    "model = OLS(np.asarray(df[outcome]), np.asarray(df[[common_cause, treatment]], dtype=np.float64))\n",
    "result = model.fit()\n",
    "result.summary()"
   ]
  }
 ],
 "metadata": {
  "kernelspec": {
   "display_name": "Python 3 (ipykernel)",
   "language": "python",
   "name": "python3"
  },
  "language_info": {
   "codemirror_mode": {
    "name": "ipython",
    "version": 3
   },
   "file_extension": ".py",
   "mimetype": "text/x-python",
   "name": "python",
   "nbconvert_exporter": "python",
   "pygments_lexer": "ipython3",
   "version": "3.8.10"
  },
  "toc": {
   "base_numbering": 1,
   "nav_menu": {},
   "number_sections": false,
   "sideBar": true,
   "skip_h1_title": true,
   "title_cell": "Table of Contents",
   "title_sidebar": "Contents",
   "toc_cell": false,
   "toc_position": {},
   "toc_section_display": true,
   "toc_window_display": false
  }
 },
 "nbformat": 4,
 "nbformat_minor": 4
}
