{
 "cells": [
  {
   "cell_type": "markdown",
   "metadata": {},
   "source": [
    "# Demo for the DoWhy causal API\n",
    "We show a simple example of adding a causal extension to any dataframe. "
   ]
  },
  {
   "cell_type": "code",
   "execution_count": 1,
   "metadata": {
    "execution": {
     "iopub.execute_input": "2023-03-15T19:28:09.325662Z",
     "iopub.status.busy": "2023-03-15T19:28:09.325458Z",
     "iopub.status.idle": "2023-03-15T19:28:10.863363Z",
     "shell.execute_reply": "2023-03-15T19:28:10.862726Z"
    }
   },
   "outputs": [],
   "source": [
    "import dowhy.datasets\n",
    "import dowhy.api\n",
    "\n",
    "import numpy as np\n",
    "import pandas as pd\n",
    "\n",
    "from statsmodels.api import OLS"
   ]
  },
  {
   "cell_type": "code",
   "execution_count": 2,
   "metadata": {
    "execution": {
     "iopub.execute_input": "2023-03-15T19:28:10.866999Z",
     "iopub.status.busy": "2023-03-15T19:28:10.866517Z",
     "iopub.status.idle": "2023-03-15T19:28:10.906261Z",
     "shell.execute_reply": "2023-03-15T19:28:10.905704Z"
    }
   },
   "outputs": [
    {
     "data": {
      "text/html": [
       "<div>\n",
       "<style scoped>\n",
       "    .dataframe tbody tr th:only-of-type {\n",
       "        vertical-align: middle;\n",
       "    }\n",
       "\n",
       "    .dataframe tbody tr th {\n",
       "        vertical-align: top;\n",
       "    }\n",
       "\n",
       "    .dataframe thead th {\n",
       "        text-align: right;\n",
       "    }\n",
       "</style>\n",
       "<table border=\"1\" class=\"dataframe\">\n",
       "  <thead>\n",
       "    <tr style=\"text-align: right;\">\n",
       "      <th></th>\n",
       "      <th>W0</th>\n",
       "      <th>v0</th>\n",
       "      <th>y</th>\n",
       "    </tr>\n",
       "  </thead>\n",
       "  <tbody>\n",
       "    <tr>\n",
       "      <th>0</th>\n",
       "      <td>-0.940039</td>\n",
       "      <td>False</td>\n",
       "      <td>-0.298641</td>\n",
       "    </tr>\n",
       "    <tr>\n",
       "      <th>1</th>\n",
       "      <td>1.086815</td>\n",
       "      <td>True</td>\n",
       "      <td>4.075165</td>\n",
       "    </tr>\n",
       "    <tr>\n",
       "      <th>2</th>\n",
       "      <td>-1.220538</td>\n",
       "      <td>False</td>\n",
       "      <td>-0.143013</td>\n",
       "    </tr>\n",
       "    <tr>\n",
       "      <th>3</th>\n",
       "      <td>0.486105</td>\n",
       "      <td>True</td>\n",
       "      <td>6.551593</td>\n",
       "    </tr>\n",
       "    <tr>\n",
       "      <th>4</th>\n",
       "      <td>-0.720150</td>\n",
       "      <td>False</td>\n",
       "      <td>-0.633260</td>\n",
       "    </tr>\n",
       "    <tr>\n",
       "      <th>...</th>\n",
       "      <td>...</td>\n",
       "      <td>...</td>\n",
       "      <td>...</td>\n",
       "    </tr>\n",
       "    <tr>\n",
       "      <th>995</th>\n",
       "      <td>0.237731</td>\n",
       "      <td>True</td>\n",
       "      <td>5.216732</td>\n",
       "    </tr>\n",
       "    <tr>\n",
       "      <th>996</th>\n",
       "      <td>-0.284079</td>\n",
       "      <td>False</td>\n",
       "      <td>1.280480</td>\n",
       "    </tr>\n",
       "    <tr>\n",
       "      <th>997</th>\n",
       "      <td>0.202021</td>\n",
       "      <td>False</td>\n",
       "      <td>-1.883945</td>\n",
       "    </tr>\n",
       "    <tr>\n",
       "      <th>998</th>\n",
       "      <td>0.644924</td>\n",
       "      <td>True</td>\n",
       "      <td>4.551402</td>\n",
       "    </tr>\n",
       "    <tr>\n",
       "      <th>999</th>\n",
       "      <td>0.809761</td>\n",
       "      <td>False</td>\n",
       "      <td>-0.803030</td>\n",
       "    </tr>\n",
       "  </tbody>\n",
       "</table>\n",
       "<p>1000 rows × 3 columns</p>\n",
       "</div>"
      ],
      "text/plain": [
       "           W0     v0         y\n",
       "0   -0.940039  False -0.298641\n",
       "1    1.086815   True  4.075165\n",
       "2   -1.220538  False -0.143013\n",
       "3    0.486105   True  6.551593\n",
       "4   -0.720150  False -0.633260\n",
       "..        ...    ...       ...\n",
       "995  0.237731   True  5.216732\n",
       "996 -0.284079  False  1.280480\n",
       "997  0.202021  False -1.883945\n",
       "998  0.644924   True  4.551402\n",
       "999  0.809761  False -0.803030\n",
       "\n",
       "[1000 rows x 3 columns]"
      ]
     },
     "execution_count": 2,
     "metadata": {},
     "output_type": "execute_result"
    }
   ],
   "source": [
    "data = dowhy.datasets.linear_dataset(beta=5,\n",
    "        num_common_causes=1,\n",
    "        num_instruments = 0,\n",
    "        num_samples=1000,\n",
    "        treatment_is_binary=True)\n",
    "df = data['df']\n",
    "df['y'] = df['y'] + np.random.normal(size=len(df)) # Adding noise to data. Without noise, the variance in Y|X, Z is zero, and mcmc fails.\n",
    "#data['dot_graph'] = 'digraph { v ->y;X0-> v;X0-> y;}'\n",
    "\n",
    "treatment= data[\"treatment_name\"][0]\n",
    "outcome = data[\"outcome_name\"][0]\n",
    "common_cause = data[\"common_causes_names\"][0]\n",
    "df"
   ]
  },
  {
   "cell_type": "code",
   "execution_count": 3,
   "metadata": {
    "execution": {
     "iopub.execute_input": "2023-03-15T19:28:10.909027Z",
     "iopub.status.busy": "2023-03-15T19:28:10.908697Z",
     "iopub.status.idle": "2023-03-15T19:28:11.051953Z",
     "shell.execute_reply": "2023-03-15T19:28:11.051340Z"
    }
   },
   "outputs": [
    {
     "data": {
      "text/plain": [
       "<AxesSubplot: xlabel='v0'>"
      ]
     },
     "execution_count": 3,
     "metadata": {},
     "output_type": "execute_result"
    },
    {
     "data": {
      "image/png": "[encoded data removed]",
      "text/plain": [
       "<Figure size 640x480 with 1 Axes>"
      ]
     },
     "metadata": {},
     "output_type": "display_data"
    }
   ],
   "source": [
    "# data['df'] is just a regular pandas.DataFrame\n",
    "df.causal.do(x=treatment,\n",
    "                     variable_types={treatment: 'b', outcome: 'c', common_cause: 'c'},\n",
    "                     outcome=outcome,\n",
    "                     common_causes=[common_cause],\n",
    "                     proceed_when_unidentifiable=True).groupby(treatment).mean().plot(y=outcome, kind='bar')"
   ]
  },
  {
   "cell_type": "code",
   "execution_count": 4,
   "metadata": {
    "execution": {
     "iopub.execute_input": "2023-03-15T19:28:11.054781Z",
     "iopub.status.busy": "2023-03-15T19:28:11.054526Z",
     "iopub.status.idle": "2023-03-15T19:28:11.165553Z",
     "shell.execute_reply": "2023-03-15T19:28:11.165036Z"
    }
   },
   "outputs": [
    {
     "data": {
      "text/plain": [
       "<AxesSubplot: xlabel='v0'>"
      ]
     },
     "execution_count": 4,
     "metadata": {},
     "output_type": "execute_result"
    },
    {
     "data": {
      "image/png": "[encoded data removed]",
      "text/plain": [
       "<Figure size 640x480 with 1 Axes>"
      ]
     },
     "metadata": {},
     "output_type": "display_data"
    }
   ],
   "source": [
    "df.causal.do(x={treatment: 1}, \n",
    "              variable_types={treatment:'b', outcome: 'c', common_cause: 'c'}, \n",
    "              outcome=outcome,\n",
    "              method='weighting', \n",
    "              common_causes=[common_cause],\n",
    "              proceed_when_unidentifiable=True).groupby(treatment).mean().plot(y=outcome, kind='bar')"
   ]
  },
  {
   "cell_type": "code",
   "execution_count": 5,
   "metadata": {
    "execution": {
     "iopub.execute_input": "2023-03-15T19:28:11.168184Z",
     "iopub.status.busy": "2023-03-15T19:28:11.167846Z",
     "iopub.status.idle": "2023-03-15T19:28:11.277853Z",
     "shell.execute_reply": "2023-03-15T19:28:11.277231Z"
    }
   },
   "outputs": [],
   "source": [
    "cdf_1 = df.causal.do(x={treatment: 1}, \n",
    "              variable_types={treatment: 'b', outcome: 'c', common_cause: 'c'}, \n",
    "              outcome=outcome, \n",
    "              dot_graph=data['dot_graph'],\n",
    "              proceed_when_unidentifiable=True)\n",
    "\n",
    "cdf_0 = df.causal.do(x={treatment: 0}, \n",
    "              variable_types={treatment: 'b', outcome: 'c', common_cause: 'c'}, \n",
    "              outcome=outcome, \n",
    "              dot_graph=data['dot_graph'],\n",
    "              proceed_when_unidentifiable=True)\n"
   ]
  },
  {
   "cell_type": "code",
   "execution_count": 6,
   "metadata": {
    "execution": {
     "iopub.execute_input": "2023-03-15T19:28:11.280835Z",
     "iopub.status.busy": "2023-03-15T19:28:11.280424Z",
     "iopub.status.idle": "2023-03-15T19:28:11.291908Z",
     "shell.execute_reply": "2023-03-15T19:28:11.291326Z"
    },
    "scrolled": true
   },
   "outputs": [
    {
     "data": {
      "text/html": [
       "<div>\n",
       "<style scoped>\n",
       "    .dataframe tbody tr th:only-of-type {\n",
       "        vertical-align: middle;\n",
       "    }\n",
       "\n",
       "    .dataframe tbody tr th {\n",
       "        vertical-align: top;\n",
       "    }\n",
       "\n",
       "    .dataframe thead th {\n",
       "        text-align: right;\n",
       "    }\n",
       "</style>\n",
       "<table border=\"1\" class=\"dataframe\">\n",
       "  <thead>\n",
       "    <tr style=\"text-align: right;\">\n",
       "      <th></th>\n",
       "      <th>W0</th>\n",
       "      <th>v0</th>\n",
       "      <th>y</th>\n",
       "      <th>propensity_score</th>\n",
       "      <th>weight</th>\n",
       "    </tr>\n",
       "  </thead>\n",
       "  <tbody>\n",
       "    <tr>\n",
       "      <th>0</th>\n",
       "      <td>0.354961</td>\n",
       "      <td>False</td>\n",
       "      <td>0.106689</td>\n",
       "      <td>0.309432</td>\n",
       "      <td>3.231724</td>\n",
       "    </tr>\n",
       "    <tr>\n",
       "      <th>1</th>\n",
       "      <td>-0.214269</td>\n",
       "      <td>False</td>\n",
       "      <td>-0.228294</td>\n",
       "      <td>0.575484</td>\n",
       "      <td>1.737666</td>\n",
       "    </tr>\n",
       "    <tr>\n",
       "      <th>2</th>\n",
       "      <td>-0.174342</td>\n",
       "      <td>False</td>\n",
       "      <td>0.637775</td>\n",
       "      <td>0.556412</td>\n",
       "      <td>1.797230</td>\n",
       "    </tr>\n",
       "    <tr>\n",
       "      <th>3</th>\n",
       "      <td>0.318427</td>\n",
       "      <td>False</td>\n",
       "      <td>1.844750</td>\n",
       "      <td>0.324817</td>\n",
       "      <td>3.078657</td>\n",
       "    </tr>\n",
       "    <tr>\n",
       "      <th>4</th>\n",
       "      <td>-0.056742</td>\n",
       "      <td>False</td>\n",
       "      <td>0.735526</td>\n",
       "      <td>0.499476</td>\n",
       "      <td>2.002098</td>\n",
       "    </tr>\n",
       "    <tr>\n",
       "      <th>...</th>\n",
       "      <td>...</td>\n",
       "      <td>...</td>\n",
       "      <td>...</td>\n",
       "      <td>...</td>\n",
       "      <td>...</td>\n",
       "    </tr>\n",
       "    <tr>\n",
       "      <th>995</th>\n",
       "      <td>0.913356</td>\n",
       "      <td>False</td>\n",
       "      <td>0.206010</td>\n",
       "      <td>0.131388</td>\n",
       "      <td>7.611032</td>\n",
       "    </tr>\n",
       "    <tr>\n",
       "      <th>996</th>\n",
       "      <td>0.266959</td>\n",
       "      <td>False</td>\n",
       "      <td>0.330670</td>\n",
       "      <td>0.347141</td>\n",
       "      <td>2.880671</td>\n",
       "    </tr>\n",
       "    <tr>\n",
       "      <th>997</th>\n",
       "      <td>1.612503</td>\n",
       "      <td>False</td>\n",
       "      <td>-0.048735</td>\n",
       "      <td>0.037383</td>\n",
       "      <td>26.750113</td>\n",
       "    </tr>\n",
       "    <tr>\n",
       "      <th>998</th>\n",
       "      <td>0.859879</td>\n",
       "      <td>False</td>\n",
       "      <td>0.813663</td>\n",
       "      <td>0.143719</td>\n",
       "      <td>6.958015</td>\n",
       "    </tr>\n",
       "    <tr>\n",
       "      <th>999</th>\n",
       "      <td>-1.032481</td>\n",
       "      <td>False</td>\n",
       "      <td>0.437752</td>\n",
       "      <td>0.869384</td>\n",
       "      <td>1.150240</td>\n",
       "    </tr>\n",
       "  </tbody>\n",
       "</table>\n",
       "<p>1000 rows × 5 columns</p>\n",
       "</div>"
      ],
      "text/plain": [
       "           W0     v0         y  propensity_score     weight\n",
       "0    0.354961  False  0.106689          0.309432   3.231724\n",
       "1   -0.214269  False -0.228294          0.575484   1.737666\n",
       "2   -0.174342  False  0.637775          0.556412   1.797230\n",
       "3    0.318427  False  1.844750          0.324817   3.078657\n",
       "4   -0.056742  False  0.735526          0.499476   2.002098\n",
       "..        ...    ...       ...               ...        ...\n",
       "995  0.913356  False  0.206010          0.131388   7.611032\n",
       "996  0.266959  False  0.330670          0.347141   2.880671\n",
       "997  1.612503  False -0.048735          0.037383  26.750113\n",
       "998  0.859879  False  0.813663          0.143719   6.958015\n",
       "999 -1.032481  False  0.437752          0.869384   1.150240\n",
       "\n",
       "[1000 rows x 5 columns]"
      ]
     },
     "execution_count": 6,
     "metadata": {},
     "output_type": "execute_result"
    }
   ],
   "source": [
    "cdf_0"
   ]
  },
  {
   "cell_type": "code",
   "execution_count": 7,
   "metadata": {
    "execution": {
     "iopub.execute_input": "2023-03-15T19:28:11.294429Z",
     "iopub.status.busy": "2023-03-15T19:28:11.294041Z",
     "iopub.status.idle": "2023-03-15T19:28:11.303513Z",
     "shell.execute_reply": "2023-03-15T19:28:11.302938Z"
    }
   },
   "outputs": [
    {
     "data": {
      "text/html": [
       "<div>\n",
       "<style scoped>\n",
       "    .dataframe tbody tr th:only-of-type {\n",
       "        vertical-align: middle;\n",
       "    }\n",
       "\n",
       "    .dataframe tbody tr th {\n",
       "        vertical-align: top;\n",
       "    }\n",
       "\n",
       "    .dataframe thead th {\n",
       "        text-align: right;\n",
       "    }\n",
       "</style>\n",
       "<table border=\"1\" class=\"dataframe\">\n",
       "  <thead>\n",
       "    <tr style=\"text-align: right;\">\n",
       "      <th></th>\n",
       "      <th>W0</th>\n",
       "      <th>v0</th>\n",
       "      <th>y</th>\n",
       "      <th>propensity_score</th>\n",
       "      <th>weight</th>\n",
       "    </tr>\n",
       "  </thead>\n",
       "  <tbody>\n",
       "    <tr>\n",
       "      <th>0</th>\n",
       "      <td>-1.206334</td>\n",
       "      <td>True</td>\n",
       "      <td>5.125158</td>\n",
       "      <td>0.096771</td>\n",
       "      <td>10.333669</td>\n",
       "    </tr>\n",
       "    <tr>\n",
       "      <th>1</th>\n",
       "      <td>1.167952</td>\n",
       "      <td>True</td>\n",
       "      <td>4.553549</td>\n",
       "      <td>0.915590</td>\n",
       "      <td>1.092192</td>\n",
       "    </tr>\n",
       "    <tr>\n",
       "      <th>2</th>\n",
       "      <td>-0.169965</td>\n",
       "      <td>True</td>\n",
       "      <td>6.223119</td>\n",
       "      <td>0.445690</td>\n",
       "      <td>2.243712</td>\n",
       "    </tr>\n",
       "    <tr>\n",
       "      <th>3</th>\n",
       "      <td>0.915932</td>\n",
       "      <td>True</td>\n",
       "      <td>6.255408</td>\n",
       "      <td>0.869182</td>\n",
       "      <td>1.150507</td>\n",
       "    </tr>\n",
       "    <tr>\n",
       "      <th>4</th>\n",
       "      <td>0.765186</td>\n",
       "      <td>True</td>\n",
       "      <td>4.523858</td>\n",
       "      <td>0.832099</td>\n",
       "      <td>1.201780</td>\n",
       "    </tr>\n",
       "    <tr>\n",
       "      <th>...</th>\n",
       "      <td>...</td>\n",
       "      <td>...</td>\n",
       "      <td>...</td>\n",
       "      <td>...</td>\n",
       "      <td>...</td>\n",
       "    </tr>\n",
       "    <tr>\n",
       "      <th>995</th>\n",
       "      <td>0.388908</td>\n",
       "      <td>True</td>\n",
       "      <td>5.366361</td>\n",
       "      <td>0.704495</td>\n",
       "      <td>1.419457</td>\n",
       "    </tr>\n",
       "    <tr>\n",
       "      <th>996</th>\n",
       "      <td>0.469485</td>\n",
       "      <td>True</td>\n",
       "      <td>5.768754</td>\n",
       "      <td>0.736043</td>\n",
       "      <td>1.358617</td>\n",
       "    </tr>\n",
       "    <tr>\n",
       "      <th>997</th>\n",
       "      <td>0.463109</td>\n",
       "      <td>True</td>\n",
       "      <td>7.083713</td>\n",
       "      <td>0.733626</td>\n",
       "      <td>1.363092</td>\n",
       "    </tr>\n",
       "    <tr>\n",
       "      <th>998</th>\n",
       "      <td>1.091852</td>\n",
       "      <td>True</td>\n",
       "      <td>5.819575</td>\n",
       "      <td>0.903425</td>\n",
       "      <td>1.106898</td>\n",
       "    </tr>\n",
       "    <tr>\n",
       "      <th>999</th>\n",
       "      <td>-0.405376</td>\n",
       "      <td>True</td>\n",
       "      <td>5.638822</td>\n",
       "      <td>0.337171</td>\n",
       "      <td>2.965856</td>\n",
       "    </tr>\n",
       "  </tbody>\n",
       "</table>\n",
       "<p>1000 rows × 5 columns</p>\n",
       "</div>"
      ],
      "text/plain": [
       "           W0    v0         y  propensity_score     weight\n",
       "0   -1.206334  True  5.125158          0.096771  10.333669\n",
       "1    1.167952  True  4.553549          0.915590   1.092192\n",
       "2   -0.169965  True  6.223119          0.445690   2.243712\n",
       "3    0.915932  True  6.255408          0.869182   1.150507\n",
       "4    0.765186  True  4.523858          0.832099   1.201780\n",
       "..        ...   ...       ...               ...        ...\n",
       "995  0.388908  True  5.366361          0.704495   1.419457\n",
       "996  0.469485  True  5.768754          0.736043   1.358617\n",
       "997  0.463109  True  7.083713          0.733626   1.363092\n",
       "998  1.091852  True  5.819575          0.903425   1.106898\n",
       "999 -0.405376  True  5.638822          0.337171   2.965856\n",
       "\n",
       "[1000 rows x 5 columns]"
      ]
     },
     "execution_count": 7,
     "metadata": {},
     "output_type": "execute_result"
    }
   ],
   "source": [
    "cdf_1"
   ]
  },
  {
   "cell_type": "markdown",
   "metadata": {},
   "source": [
    "## Comparing the estimate to Linear Regression\n",
    "First, estimating the effect using the causal data frame, and the 95% confidence interval."
   ]
  },
  {
   "cell_type": "code",
   "execution_count": 8,
   "metadata": {
    "execution": {
     "iopub.execute_input": "2023-03-15T19:28:11.306597Z",
     "iopub.status.busy": "2023-03-15T19:28:11.306272Z",
     "iopub.status.idle": "2023-03-15T19:28:11.363847Z",
     "shell.execute_reply": "2023-03-15T19:28:11.363189Z"
    }
   },
   "outputs": [
    {
     "data": {
      "image/png": "[encoded data removed]",
      "text/latex": [
       "$\\displaystyle 4.91254038190988$"
      ],
      "text/plain": [
       "4.912540381909884"
      ]
     },
     "execution_count": 8,
     "metadata": {},
     "output_type": "execute_result"
    }
   ],
   "source": [
    "(cdf_1['y'] - cdf_0['y']).mean()"
   ]
  },
  {
   "cell_type": "code",
   "execution_count": 9,
   "metadata": {
    "execution": {
     "iopub.execute_input": "2023-03-15T19:28:11.366842Z",
     "iopub.status.busy": "2023-03-15T19:28:11.366347Z",
     "iopub.status.idle": "2023-03-15T19:28:11.386868Z",
     "shell.execute_reply": "2023-03-15T19:28:11.386263Z"
    }
   },
   "outputs": [
    {
     "data": {
      "image/png": "[encoded data removed]",
      "text/latex": [
       "$\\displaystyle 0.0895985216778934$"
      ],
      "text/plain": [
       "0.08959852167789337"
      ]
     },
     "execution_count": 9,
     "metadata": {},
     "output_type": "execute_result"
    }
   ],
   "source": [
    "1.96*(cdf_1['y'] - cdf_0['y']).std() / np.sqrt(len(df))"
   ]
  },
  {
   "cell_type": "markdown",
   "metadata": {},
   "source": [
    "Comparing to the estimate from OLS."
   ]
  },
  {
   "cell_type": "code",
   "execution_count": 10,
   "metadata": {
    "execution": {
     "iopub.execute_input": "2023-03-15T19:28:11.389633Z",
     "iopub.status.busy": "2023-03-15T19:28:11.389076Z",
     "iopub.status.idle": "2023-03-15T19:28:11.402387Z",
     "shell.execute_reply": "2023-03-15T19:28:11.401812Z"
    }
   },
   "outputs": [
    {
     "data": {
      "text/html": [
       "<table class=\"simpletable\">\n",
       "<caption>OLS Regression Results</caption>\n",
       "<tr>\n",
       "  <th>Dep. Variable:</th>            <td>y</td>        <th>  R-squared (uncentered):</th>      <td>   0.945</td>\n",
       "</tr>\n",
       "<tr>\n",
       "  <th>Model:</th>                   <td>OLS</td>       <th>  Adj. R-squared (uncentered):</th> <td>   0.945</td>\n",
       "</tr>\n",
       "<tr>\n",
       "  <th>Method:</th>             <td>Least Squares</td>  <th>  F-statistic:       </th>          <td>   8652.</td>\n",
       "</tr>\n",
       "<tr>\n",
       "  <th>Date:</th>             <td>Wed, 15 Mar 2023</td> <th>  Prob (F-statistic):</th>           <td>  0.00</td> \n",
       "</tr>\n",
       "<tr>\n",
       "  <th>Time:</th>                 <td>19:28:11</td>     <th>  Log-Likelihood:    </th>          <td> -1418.3</td>\n",
       "</tr>\n",
       "<tr>\n",
       "  <th>No. Observations:</th>      <td>  1000</td>      <th>  AIC:               </th>          <td>   2841.</td>\n",
       "</tr>\n",
       "<tr>\n",
       "  <th>Df Residuals:</th>          <td>   998</td>      <th>  BIC:               </th>          <td>   2850.</td>\n",
       "</tr>\n",
       "<tr>\n",
       "  <th>Df Model:</th>              <td>     2</td>      <th>                     </th>              <td> </td>   \n",
       "</tr>\n",
       "<tr>\n",
       "  <th>Covariance Type:</th>      <td>nonrobust</td>    <th>                     </th>              <td> </td>   \n",
       "</tr>\n",
       "</table>\n",
       "<table class=\"simpletable\">\n",
       "<tr>\n",
       "   <td></td>     <th>coef</th>     <th>std err</th>      <th>t</th>      <th>P>|t|</th>  <th>[0.025</th>    <th>0.975]</th>  \n",
       "</tr>\n",
       "<tr>\n",
       "  <th>x1</th> <td>    0.2295</td> <td>    0.038</td> <td>    6.082</td> <td> 0.000</td> <td>    0.155</td> <td>    0.304</td>\n",
       "</tr>\n",
       "<tr>\n",
       "  <th>x2</th> <td>    4.9446</td> <td>    0.051</td> <td>   96.056</td> <td> 0.000</td> <td>    4.844</td> <td>    5.046</td>\n",
       "</tr>\n",
       "</table>\n",
       "<table class=\"simpletable\">\n",
       "<tr>\n",
       "  <th>Omnibus:</th>       <td> 2.714</td> <th>  Durbin-Watson:     </th> <td>   1.955</td>\n",
       "</tr>\n",
       "<tr>\n",
       "  <th>Prob(Omnibus):</th> <td> 0.257</td> <th>  Jarque-Bera (JB):  </th> <td>   2.455</td>\n",
       "</tr>\n",
       "<tr>\n",
       "  <th>Skew:</th>          <td>-0.046</td> <th>  Prob(JB):          </th> <td>   0.293</td>\n",
       "</tr>\n",
       "<tr>\n",
       "  <th>Kurtosis:</th>      <td> 2.775</td> <th>  Cond. No.          </th> <td>    2.33</td>\n",
       "</tr>\n",
       "</table><br/><br/>Notes:<br/>[1] R² is computed without centering (uncentered) since the model does not contain a constant.<br/>[2] Standard Errors assume that the covariance matrix of the errors is correctly specified."
      ],
      "text/plain": [
       "<class 'statsmodels.iolib.summary.Summary'>\n",
       "\"\"\"\n",
       "                                 OLS Regression Results                                \n",
       "=======================================================================================\n",
       "Dep. Variable:                      y   R-squared (uncentered):                   0.945\n",
       "Model:                            OLS   Adj. R-squared (uncentered):              0.945\n",
       "Method:                 Least Squares   F-statistic:                              8652.\n",
       "Date:                Wed, 15 Mar 2023   Prob (F-statistic):                        0.00\n",
       "Time:                        19:28:11   Log-Likelihood:                         -1418.3\n",
       "No. Observations:                1000   AIC:                                      2841.\n",
       "Df Residuals:                     998   BIC:                                      2850.\n",
       "Df Model:                           2                                                  \n",
       "Covariance Type:            nonrobust                                                  \n",
       "==============================================================================\n",
       "                 coef    std err          t      P>|t|      [0.025      0.975]\n",
       "------------------------------------------------------------------------------\n",
       "x1             0.2295      0.038      6.082      0.000       0.155       0.304\n",
       "x2             4.9446      0.051     96.056      0.000       4.844       5.046\n",
       "==============================================================================\n",
       "Omnibus:                        2.714   Durbin-Watson:                   1.955\n",
       "Prob(Omnibus):                  0.257   Jarque-Bera (JB):                2.455\n",
       "Skew:                          -0.046   Prob(JB):                        0.293\n",
       "Kurtosis:                       2.775   Cond. No.                         2.33\n",
       "==============================================================================\n",
       "\n",
       "Notes:\n",
       "[1] R² is computed without centering (uncentered) since the model does not contain a constant.\n",
       "[2] Standard Errors assume that the covariance matrix of the errors is correctly specified.\n",
       "\"\"\""
      ]
     },
     "execution_count": 10,
     "metadata": {},
     "output_type": "execute_result"
    }
   ],
   "source": [
    "model = OLS(np.asarray(df[outcome]), np.asarray(df[[common_cause, treatment]], dtype=np.float64))\n",
    "result = model.fit()\n",
    "result.summary()"
   ]
  }
 ],
 "metadata": {
  "kernelspec": {
   "display_name": "Python 3",
   "language": "python",
   "name": "python3"
  },
  "language_info": {
   "codemirror_mode": {
    "name": "ipython",
    "version": 3
   },
   "file_extension": ".py",
   "mimetype": "text/x-python",
   "name": "python",
   "nbconvert_exporter": "python",
   "pygments_lexer": "ipython3",
   "version": "3.8.10"
  },
  "toc": {
   "base_numbering": 1,
   "nav_menu": {},
   "number_sections": false,
   "sideBar": true,
   "skip_h1_title": true,
   "title_cell": "Table of Contents",
   "title_sidebar": "Contents",
   "toc_cell": false,
   "toc_position": {},
   "toc_section_display": true,
   "toc_window_display": false
  }
 },
 "nbformat": 4,
 "nbformat_minor": 4
}
