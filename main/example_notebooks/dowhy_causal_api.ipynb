{
 "cells": [
  {
   "cell_type": "markdown",
   "metadata": {},
   "source": [
    "# Demo for the DoWhy causal API\n",
    "We show a simple example of adding a causal extension to any dataframe. "
   ]
  },
  {
   "cell_type": "code",
   "execution_count": 1,
   "metadata": {
    "execution": {
     "iopub.execute_input": "2023-08-05T06:09:49.848234Z",
     "iopub.status.busy": "2023-08-05T06:09:49.847737Z",
     "iopub.status.idle": "2023-08-05T06:09:52.241615Z",
     "shell.execute_reply": "2023-08-05T06:09:52.240474Z"
    }
   },
   "outputs": [],
   "source": [
    "import dowhy.datasets\n",
    "import dowhy.api\n",
    "\n",
    "import numpy as np\n",
    "import pandas as pd\n",
    "\n",
    "from statsmodels.api import OLS"
   ]
  },
  {
   "cell_type": "code",
   "execution_count": 2,
   "metadata": {
    "execution": {
     "iopub.execute_input": "2023-08-05T06:09:52.246293Z",
     "iopub.status.busy": "2023-08-05T06:09:52.245670Z",
     "iopub.status.idle": "2023-08-05T06:09:52.327408Z",
     "shell.execute_reply": "2023-08-05T06:09:52.325538Z"
    }
   },
   "outputs": [
    {
     "data": {
      "text/html": [
       "<div>\n",
       "<style scoped>\n",
       "    .dataframe tbody tr th:only-of-type {\n",
       "        vertical-align: middle;\n",
       "    }\n",
       "\n",
       "    .dataframe tbody tr th {\n",
       "        vertical-align: top;\n",
       "    }\n",
       "\n",
       "    .dataframe thead th {\n",
       "        text-align: right;\n",
       "    }\n",
       "</style>\n",
       "<table border=\"1\" class=\"dataframe\">\n",
       "  <thead>\n",
       "    <tr style=\"text-align: right;\">\n",
       "      <th></th>\n",
       "      <th>W0</th>\n",
       "      <th>v0</th>\n",
       "      <th>y</th>\n",
       "    </tr>\n",
       "  </thead>\n",
       "  <tbody>\n",
       "    <tr>\n",
       "      <th>0</th>\n",
       "      <td>-0.892485</td>\n",
       "      <td>False</td>\n",
       "      <td>0.251622</td>\n",
       "    </tr>\n",
       "    <tr>\n",
       "      <th>1</th>\n",
       "      <td>0.313720</td>\n",
       "      <td>False</td>\n",
       "      <td>-0.809534</td>\n",
       "    </tr>\n",
       "    <tr>\n",
       "      <th>2</th>\n",
       "      <td>-2.144251</td>\n",
       "      <td>False</td>\n",
       "      <td>-1.008489</td>\n",
       "    </tr>\n",
       "    <tr>\n",
       "      <th>3</th>\n",
       "      <td>-0.063382</td>\n",
       "      <td>False</td>\n",
       "      <td>-2.079530</td>\n",
       "    </tr>\n",
       "    <tr>\n",
       "      <th>4</th>\n",
       "      <td>-0.356550</td>\n",
       "      <td>True</td>\n",
       "      <td>5.562669</td>\n",
       "    </tr>\n",
       "    <tr>\n",
       "      <th>...</th>\n",
       "      <td>...</td>\n",
       "      <td>...</td>\n",
       "      <td>...</td>\n",
       "    </tr>\n",
       "    <tr>\n",
       "      <th>995</th>\n",
       "      <td>0.145843</td>\n",
       "      <td>True</td>\n",
       "      <td>5.385372</td>\n",
       "    </tr>\n",
       "    <tr>\n",
       "      <th>996</th>\n",
       "      <td>-0.583821</td>\n",
       "      <td>False</td>\n",
       "      <td>-0.747747</td>\n",
       "    </tr>\n",
       "    <tr>\n",
       "      <th>997</th>\n",
       "      <td>1.793261</td>\n",
       "      <td>True</td>\n",
       "      <td>5.878069</td>\n",
       "    </tr>\n",
       "    <tr>\n",
       "      <th>998</th>\n",
       "      <td>-0.919091</td>\n",
       "      <td>False</td>\n",
       "      <td>1.091455</td>\n",
       "    </tr>\n",
       "    <tr>\n",
       "      <th>999</th>\n",
       "      <td>0.650562</td>\n",
       "      <td>True</td>\n",
       "      <td>4.721442</td>\n",
       "    </tr>\n",
       "  </tbody>\n",
       "</table>\n",
       "<p>1000 rows × 3 columns</p>\n",
       "</div>"
      ],
      "text/plain": [
       "           W0     v0         y\n",
       "0   -0.892485  False  0.251622\n",
       "1    0.313720  False -0.809534\n",
       "2   -2.144251  False -1.008489\n",
       "3   -0.063382  False -2.079530\n",
       "4   -0.356550   True  5.562669\n",
       "..        ...    ...       ...\n",
       "995  0.145843   True  5.385372\n",
       "996 -0.583821  False -0.747747\n",
       "997  1.793261   True  5.878069\n",
       "998 -0.919091  False  1.091455\n",
       "999  0.650562   True  4.721442\n",
       "\n",
       "[1000 rows x 3 columns]"
      ]
     },
     "execution_count": 2,
     "metadata": {},
     "output_type": "execute_result"
    }
   ],
   "source": [
    "data = dowhy.datasets.linear_dataset(beta=5,\n",
    "        num_common_causes=1,\n",
    "        num_instruments = 0,\n",
    "        num_samples=1000,\n",
    "        treatment_is_binary=True)\n",
    "df = data['df']\n",
    "df['y'] = df['y'] + np.random.normal(size=len(df)) # Adding noise to data. Without noise, the variance in Y|X, Z is zero, and mcmc fails.\n",
    "#data['dot_graph'] = 'digraph { v ->y;X0-> v;X0-> y;}'\n",
    "\n",
    "treatment= data[\"treatment_name\"][0]\n",
    "outcome = data[\"outcome_name\"][0]\n",
    "common_cause = data[\"common_causes_names\"][0]\n",
    "df"
   ]
  },
  {
   "cell_type": "code",
   "execution_count": 3,
   "metadata": {
    "execution": {
     "iopub.execute_input": "2023-08-05T06:09:52.331399Z",
     "iopub.status.busy": "2023-08-05T06:09:52.331057Z",
     "iopub.status.idle": "2023-08-05T06:09:52.620072Z",
     "shell.execute_reply": "2023-08-05T06:09:52.619248Z"
    }
   },
   "outputs": [
    {
     "data": {
      "text/plain": [
       "<Axes: xlabel='v0'>"
      ]
     },
     "execution_count": 3,
     "metadata": {},
     "output_type": "execute_result"
    },
    {
     "data": {
      "image/png": "[encoded data removed]",
      "text/plain": [
       "<Figure size 640x480 with 1 Axes>"
      ]
     },
     "metadata": {},
     "output_type": "display_data"
    }
   ],
   "source": [
    "# data['df'] is just a regular pandas.DataFrame\n",
    "df.causal.do(x=treatment,\n",
    "                     variable_types={treatment: 'b', outcome: 'c', common_cause: 'c'},\n",
    "                     outcome=outcome,\n",
    "                     common_causes=[common_cause],\n",
    "                     proceed_when_unidentifiable=True).groupby(treatment).mean().plot(y=outcome, kind='bar')"
   ]
  },
  {
   "cell_type": "code",
   "execution_count": 4,
   "metadata": {
    "execution": {
     "iopub.execute_input": "2023-08-05T06:09:52.624078Z",
     "iopub.status.busy": "2023-08-05T06:09:52.623323Z",
     "iopub.status.idle": "2023-08-05T06:09:52.845458Z",
     "shell.execute_reply": "2023-08-05T06:09:52.844518Z"
    }
   },
   "outputs": [
    {
     "data": {
      "text/plain": [
       "<Axes: xlabel='v0'>"
      ]
     },
     "execution_count": 4,
     "metadata": {},
     "output_type": "execute_result"
    },
    {
     "data": {
      "image/png": "[encoded data removed]",
      "text/plain": [
       "<Figure size 640x480 with 1 Axes>"
      ]
     },
     "metadata": {},
     "output_type": "display_data"
    }
   ],
   "source": [
    "df.causal.do(x={treatment: 1}, \n",
    "              variable_types={treatment:'b', outcome: 'c', common_cause: 'c'}, \n",
    "              outcome=outcome,\n",
    "              method='weighting', \n",
    "              common_causes=[common_cause],\n",
    "              proceed_when_unidentifiable=True).groupby(treatment).mean().plot(y=outcome, kind='bar')"
   ]
  },
  {
   "cell_type": "code",
   "execution_count": 5,
   "metadata": {
    "execution": {
     "iopub.execute_input": "2023-08-05T06:09:52.849858Z",
     "iopub.status.busy": "2023-08-05T06:09:52.849134Z",
     "iopub.status.idle": "2023-08-05T06:09:52.898417Z",
     "shell.execute_reply": "2023-08-05T06:09:52.897192Z"
    }
   },
   "outputs": [],
   "source": [
    "cdf_1 = df.causal.do(x={treatment: 1}, \n",
    "              variable_types={treatment: 'b', outcome: 'c', common_cause: 'c'}, \n",
    "              outcome=outcome, \n",
    "              dot_graph=data['dot_graph'],\n",
    "              proceed_when_unidentifiable=True)\n",
    "\n",
    "cdf_0 = df.causal.do(x={treatment: 0}, \n",
    "              variable_types={treatment: 'b', outcome: 'c', common_cause: 'c'}, \n",
    "              outcome=outcome, \n",
    "              dot_graph=data['dot_graph'],\n",
    "              proceed_when_unidentifiable=True)\n"
   ]
  },
  {
   "cell_type": "code",
   "execution_count": 6,
   "metadata": {
    "execution": {
     "iopub.execute_input": "2023-08-05T06:09:52.902749Z",
     "iopub.status.busy": "2023-08-05T06:09:52.902481Z",
     "iopub.status.idle": "2023-08-05T06:09:52.917324Z",
     "shell.execute_reply": "2023-08-05T06:09:52.916412Z"
    },
    "scrolled": true
   },
   "outputs": [
    {
     "data": {
      "text/html": [
       "<div>\n",
       "<style scoped>\n",
       "    .dataframe tbody tr th:only-of-type {\n",
       "        vertical-align: middle;\n",
       "    }\n",
       "\n",
       "    .dataframe tbody tr th {\n",
       "        vertical-align: top;\n",
       "    }\n",
       "\n",
       "    .dataframe thead th {\n",
       "        text-align: right;\n",
       "    }\n",
       "</style>\n",
       "<table border=\"1\" class=\"dataframe\">\n",
       "  <thead>\n",
       "    <tr style=\"text-align: right;\">\n",
       "      <th></th>\n",
       "      <th>W0</th>\n",
       "      <th>v0</th>\n",
       "      <th>y</th>\n",
       "      <th>propensity_score</th>\n",
       "      <th>weight</th>\n",
       "    </tr>\n",
       "  </thead>\n",
       "  <tbody>\n",
       "    <tr>\n",
       "      <th>0</th>\n",
       "      <td>-0.211940</td>\n",
       "      <td>False</td>\n",
       "      <td>0.117004</td>\n",
       "      <td>0.558166</td>\n",
       "      <td>1.791581</td>\n",
       "    </tr>\n",
       "    <tr>\n",
       "      <th>1</th>\n",
       "      <td>-1.804408</td>\n",
       "      <td>False</td>\n",
       "      <td>-0.065812</td>\n",
       "      <td>0.949930</td>\n",
       "      <td>1.052709</td>\n",
       "    </tr>\n",
       "    <tr>\n",
       "      <th>2</th>\n",
       "      <td>0.560533</td>\n",
       "      <td>False</td>\n",
       "      <td>-0.022130</td>\n",
       "      <td>0.253416</td>\n",
       "      <td>3.946074</td>\n",
       "    </tr>\n",
       "    <tr>\n",
       "      <th>3</th>\n",
       "      <td>-1.934202</td>\n",
       "      <td>False</td>\n",
       "      <td>0.430601</td>\n",
       "      <td>0.959448</td>\n",
       "      <td>1.042266</td>\n",
       "    </tr>\n",
       "    <tr>\n",
       "      <th>4</th>\n",
       "      <td>0.322838</td>\n",
       "      <td>False</td>\n",
       "      <td>-1.800416</td>\n",
       "      <td>0.337135</td>\n",
       "      <td>2.966168</td>\n",
       "    </tr>\n",
       "    <tr>\n",
       "      <th>...</th>\n",
       "      <td>...</td>\n",
       "      <td>...</td>\n",
       "      <td>...</td>\n",
       "      <td>...</td>\n",
       "      <td>...</td>\n",
       "    </tr>\n",
       "    <tr>\n",
       "      <th>995</th>\n",
       "      <td>0.976071</td>\n",
       "      <td>False</td>\n",
       "      <td>-0.916422</td>\n",
       "      <td>0.143389</td>\n",
       "      <td>6.974025</td>\n",
       "    </tr>\n",
       "    <tr>\n",
       "      <th>996</th>\n",
       "      <td>-0.979430</td>\n",
       "      <td>False</td>\n",
       "      <td>-0.180520</td>\n",
       "      <td>0.823384</td>\n",
       "      <td>1.214501</td>\n",
       "    </tr>\n",
       "    <tr>\n",
       "      <th>997</th>\n",
       "      <td>-0.095468</td>\n",
       "      <td>False</td>\n",
       "      <td>1.990286</td>\n",
       "      <td>0.508892</td>\n",
       "      <td>1.965053</td>\n",
       "    </tr>\n",
       "    <tr>\n",
       "      <th>998</th>\n",
       "      <td>2.029787</td>\n",
       "      <td>False</td>\n",
       "      <td>0.153493</td>\n",
       "      <td>0.027117</td>\n",
       "      <td>36.876807</td>\n",
       "    </tr>\n",
       "    <tr>\n",
       "      <th>999</th>\n",
       "      <td>-0.081505</td>\n",
       "      <td>False</td>\n",
       "      <td>0.869732</td>\n",
       "      <td>0.502954</td>\n",
       "      <td>1.988254</td>\n",
       "    </tr>\n",
       "  </tbody>\n",
       "</table>\n",
       "<p>1000 rows × 5 columns</p>\n",
       "</div>"
      ],
      "text/plain": [
       "           W0     v0         y  propensity_score     weight\n",
       "0   -0.211940  False  0.117004          0.558166   1.791581\n",
       "1   -1.804408  False -0.065812          0.949930   1.052709\n",
       "2    0.560533  False -0.022130          0.253416   3.946074\n",
       "3   -1.934202  False  0.430601          0.959448   1.042266\n",
       "4    0.322838  False -1.800416          0.337135   2.966168\n",
       "..        ...    ...       ...               ...        ...\n",
       "995  0.976071  False -0.916422          0.143389   6.974025\n",
       "996 -0.979430  False -0.180520          0.823384   1.214501\n",
       "997 -0.095468  False  1.990286          0.508892   1.965053\n",
       "998  2.029787  False  0.153493          0.027117  36.876807\n",
       "999 -0.081505  False  0.869732          0.502954   1.988254\n",
       "\n",
       "[1000 rows x 5 columns]"
      ]
     },
     "execution_count": 6,
     "metadata": {},
     "output_type": "execute_result"
    }
   ],
   "source": [
    "cdf_0"
   ]
  },
  {
   "cell_type": "code",
   "execution_count": 7,
   "metadata": {
    "execution": {
     "iopub.execute_input": "2023-08-05T06:09:52.922310Z",
     "iopub.status.busy": "2023-08-05T06:09:52.921286Z",
     "iopub.status.idle": "2023-08-05T06:09:52.939734Z",
     "shell.execute_reply": "2023-08-05T06:09:52.938691Z"
    }
   },
   "outputs": [
    {
     "data": {
      "text/html": [
       "<div>\n",
       "<style scoped>\n",
       "    .dataframe tbody tr th:only-of-type {\n",
       "        vertical-align: middle;\n",
       "    }\n",
       "\n",
       "    .dataframe tbody tr th {\n",
       "        vertical-align: top;\n",
       "    }\n",
       "\n",
       "    .dataframe thead th {\n",
       "        text-align: right;\n",
       "    }\n",
       "</style>\n",
       "<table border=\"1\" class=\"dataframe\">\n",
       "  <thead>\n",
       "    <tr style=\"text-align: right;\">\n",
       "      <th></th>\n",
       "      <th>W0</th>\n",
       "      <th>v0</th>\n",
       "      <th>y</th>\n",
       "      <th>propensity_score</th>\n",
       "      <th>weight</th>\n",
       "    </tr>\n",
       "  </thead>\n",
       "  <tbody>\n",
       "    <tr>\n",
       "      <th>0</th>\n",
       "      <td>0.768363</td>\n",
       "      <td>True</td>\n",
       "      <td>3.981326</td>\n",
       "      <td>0.807532</td>\n",
       "      <td>1.238341</td>\n",
       "    </tr>\n",
       "    <tr>\n",
       "      <th>1</th>\n",
       "      <td>0.324087</td>\n",
       "      <td>True</td>\n",
       "      <td>3.051698</td>\n",
       "      <td>0.663339</td>\n",
       "      <td>1.507524</td>\n",
       "    </tr>\n",
       "    <tr>\n",
       "      <th>2</th>\n",
       "      <td>-1.853299</td>\n",
       "      <td>True</td>\n",
       "      <td>4.725540</td>\n",
       "      <td>0.046259</td>\n",
       "      <td>21.617506</td>\n",
       "    </tr>\n",
       "    <tr>\n",
       "      <th>3</th>\n",
       "      <td>-1.853299</td>\n",
       "      <td>True</td>\n",
       "      <td>4.725540</td>\n",
       "      <td>0.046259</td>\n",
       "      <td>21.617506</td>\n",
       "    </tr>\n",
       "    <tr>\n",
       "      <th>4</th>\n",
       "      <td>0.022911</td>\n",
       "      <td>True</td>\n",
       "      <td>5.263316</td>\n",
       "      <td>0.541362</td>\n",
       "      <td>1.847194</td>\n",
       "    </tr>\n",
       "    <tr>\n",
       "      <th>...</th>\n",
       "      <td>...</td>\n",
       "      <td>...</td>\n",
       "      <td>...</td>\n",
       "      <td>...</td>\n",
       "      <td>...</td>\n",
       "    </tr>\n",
       "    <tr>\n",
       "      <th>995</th>\n",
       "      <td>0.147616</td>\n",
       "      <td>True</td>\n",
       "      <td>3.245919</td>\n",
       "      <td>0.593387</td>\n",
       "      <td>1.685241</td>\n",
       "    </tr>\n",
       "    <tr>\n",
       "      <th>996</th>\n",
       "      <td>0.427352</td>\n",
       "      <td>True</td>\n",
       "      <td>4.269321</td>\n",
       "      <td>0.701383</td>\n",
       "      <td>1.425754</td>\n",
       "    </tr>\n",
       "    <tr>\n",
       "      <th>997</th>\n",
       "      <td>0.751225</td>\n",
       "      <td>True</td>\n",
       "      <td>5.178883</td>\n",
       "      <td>0.802959</td>\n",
       "      <td>1.245393</td>\n",
       "    </tr>\n",
       "    <tr>\n",
       "      <th>998</th>\n",
       "      <td>1.069206</td>\n",
       "      <td>True</td>\n",
       "      <td>2.544247</td>\n",
       "      <td>0.874996</td>\n",
       "      <td>1.142863</td>\n",
       "    </tr>\n",
       "    <tr>\n",
       "      <th>999</th>\n",
       "      <td>-1.591309</td>\n",
       "      <td>True</td>\n",
       "      <td>5.612925</td>\n",
       "      <td>0.070409</td>\n",
       "      <td>14.202711</td>\n",
       "    </tr>\n",
       "  </tbody>\n",
       "</table>\n",
       "<p>1000 rows × 5 columns</p>\n",
       "</div>"
      ],
      "text/plain": [
       "           W0    v0         y  propensity_score     weight\n",
       "0    0.768363  True  3.981326          0.807532   1.238341\n",
       "1    0.324087  True  3.051698          0.663339   1.507524\n",
       "2   -1.853299  True  4.725540          0.046259  21.617506\n",
       "3   -1.853299  True  4.725540          0.046259  21.617506\n",
       "4    0.022911  True  5.263316          0.541362   1.847194\n",
       "..        ...   ...       ...               ...        ...\n",
       "995  0.147616  True  3.245919          0.593387   1.685241\n",
       "996  0.427352  True  4.269321          0.701383   1.425754\n",
       "997  0.751225  True  5.178883          0.802959   1.245393\n",
       "998  1.069206  True  2.544247          0.874996   1.142863\n",
       "999 -1.591309  True  5.612925          0.070409  14.202711\n",
       "\n",
       "[1000 rows x 5 columns]"
      ]
     },
     "execution_count": 7,
     "metadata": {},
     "output_type": "execute_result"
    }
   ],
   "source": [
    "cdf_1"
   ]
  },
  {
   "cell_type": "markdown",
   "metadata": {},
   "source": [
    "## Comparing the estimate to Linear Regression\n",
    "First, estimating the effect using the causal data frame, and the 95% confidence interval."
   ]
  },
  {
   "cell_type": "code",
   "execution_count": 8,
   "metadata": {
    "execution": {
     "iopub.execute_input": "2023-08-05T06:09:52.945358Z",
     "iopub.status.busy": "2023-08-05T06:09:52.945063Z",
     "iopub.status.idle": "2023-08-05T06:09:53.023932Z",
     "shell.execute_reply": "2023-08-05T06:09:53.022958Z"
    }
   },
   "outputs": [
    {
     "data": {
      "image/png": "[encoded data removed]",
      "text/latex": [
       "$\\displaystyle 4.98157452654109$"
      ],
      "text/plain": [
       "4.981574526541092"
      ]
     },
     "execution_count": 8,
     "metadata": {},
     "output_type": "execute_result"
    }
   ],
   "source": [
    "(cdf_1['y'] - cdf_0['y']).mean()"
   ]
  },
  {
   "cell_type": "code",
   "execution_count": 9,
   "metadata": {
    "execution": {
     "iopub.execute_input": "2023-08-05T06:09:53.028917Z",
     "iopub.status.busy": "2023-08-05T06:09:53.028617Z",
     "iopub.status.idle": "2023-08-05T06:09:53.057677Z",
     "shell.execute_reply": "2023-08-05T06:09:53.056709Z"
    }
   },
   "outputs": [
    {
     "data": {
      "image/png": "[encoded data removed]",
      "text/latex": [
       "$\\displaystyle 0.0867140220048634$"
      ],
      "text/plain": [
       "0.08671402200486342"
      ]
     },
     "execution_count": 9,
     "metadata": {},
     "output_type": "execute_result"
    }
   ],
   "source": [
    "1.96*(cdf_1['y'] - cdf_0['y']).std() / np.sqrt(len(df))"
   ]
  },
  {
   "cell_type": "markdown",
   "metadata": {},
   "source": [
    "Comparing to the estimate from OLS."
   ]
  },
  {
   "cell_type": "code",
   "execution_count": 10,
   "metadata": {
    "execution": {
     "iopub.execute_input": "2023-08-05T06:09:53.063488Z",
     "iopub.status.busy": "2023-08-05T06:09:53.062627Z",
     "iopub.status.idle": "2023-08-05T06:09:53.092680Z",
     "shell.execute_reply": "2023-08-05T06:09:53.091767Z"
    }
   },
   "outputs": [
    {
     "data": {
      "text/html": [
       "<table class=\"simpletable\">\n",
       "<caption>OLS Regression Results</caption>\n",
       "<tr>\n",
       "  <th>Dep. Variable:</th>            <td>y</td>        <th>  R-squared (uncentered):</th>      <td>   0.911</td>\n",
       "</tr>\n",
       "<tr>\n",
       "  <th>Model:</th>                   <td>OLS</td>       <th>  Adj. R-squared (uncentered):</th> <td>   0.911</td>\n",
       "</tr>\n",
       "<tr>\n",
       "  <th>Method:</th>             <td>Least Squares</td>  <th>  F-statistic:       </th>          <td>   5090.</td>\n",
       "</tr>\n",
       "<tr>\n",
       "  <th>Date:</th>             <td>Sat, 05 Aug 2023</td> <th>  Prob (F-statistic):</th>           <td>  0.00</td> \n",
       "</tr>\n",
       "<tr>\n",
       "  <th>Time:</th>                 <td>06:09:53</td>     <th>  Log-Likelihood:    </th>          <td> -1445.3</td>\n",
       "</tr>\n",
       "<tr>\n",
       "  <th>No. Observations:</th>      <td>  1000</td>      <th>  AIC:               </th>          <td>   2895.</td>\n",
       "</tr>\n",
       "<tr>\n",
       "  <th>Df Residuals:</th>          <td>   998</td>      <th>  BIC:               </th>          <td>   2904.</td>\n",
       "</tr>\n",
       "<tr>\n",
       "  <th>Df Model:</th>              <td>     2</td>      <th>                     </th>              <td> </td>   \n",
       "</tr>\n",
       "<tr>\n",
       "  <th>Covariance Type:</th>      <td>nonrobust</td>    <th>                     </th>              <td> </td>   \n",
       "</tr>\n",
       "</table>\n",
       "<table class=\"simpletable\">\n",
       "<tr>\n",
       "   <td></td>     <th>coef</th>     <th>std err</th>      <th>t</th>      <th>P>|t|</th>  <th>[0.025</th>    <th>0.975]</th>  \n",
       "</tr>\n",
       "<tr>\n",
       "  <th>x1</th> <td>    0.1381</td> <td>    0.031</td> <td>    4.414</td> <td> 0.000</td> <td>    0.077</td> <td>    0.200</td>\n",
       "</tr>\n",
       "<tr>\n",
       "  <th>x2</th> <td>    4.9189</td> <td>    0.050</td> <td>   97.473</td> <td> 0.000</td> <td>    4.820</td> <td>    5.018</td>\n",
       "</tr>\n",
       "</table>\n",
       "<table class=\"simpletable\">\n",
       "<tr>\n",
       "  <th>Omnibus:</th>       <td> 2.671</td> <th>  Durbin-Watson:     </th> <td>   1.994</td>\n",
       "</tr>\n",
       "<tr>\n",
       "  <th>Prob(Omnibus):</th> <td> 0.263</td> <th>  Jarque-Bera (JB):  </th> <td>   2.808</td>\n",
       "</tr>\n",
       "<tr>\n",
       "  <th>Skew:</th>          <td>-0.035</td> <th>  Prob(JB):          </th> <td>   0.246</td>\n",
       "</tr>\n",
       "<tr>\n",
       "  <th>Kurtosis:</th>      <td> 3.250</td> <th>  Cond. No.          </th> <td>    1.70</td>\n",
       "</tr>\n",
       "</table><br/><br/>Notes:<br/>[1] R² is computed without centering (uncentered) since the model does not contain a constant.<br/>[2] Standard Errors assume that the covariance matrix of the errors is correctly specified."
      ],
      "text/latex": [
       "\\begin{center}\n",
       "\\begin{tabular}{lclc}\n",
       "\\toprule\n",
       "\\textbf{Dep. Variable:}    &        y         & \\textbf{  R-squared (uncentered):}      &     0.911   \\\\\n",
       "\\textbf{Model:}            &       OLS        & \\textbf{  Adj. R-squared (uncentered):} &     0.911   \\\\\n",
       "\\textbf{Method:}           &  Least Squares   & \\textbf{  F-statistic:       }          &     5090.   \\\\\n",
       "\\textbf{Date:}             & Sat, 05 Aug 2023 & \\textbf{  Prob (F-statistic):}          &     0.00    \\\\\n",
       "\\textbf{Time:}             &     06:09:53     & \\textbf{  Log-Likelihood:    }          &   -1445.3   \\\\\n",
       "\\textbf{No. Observations:} &        1000      & \\textbf{  AIC:               }          &     2895.   \\\\\n",
       "\\textbf{Df Residuals:}     &         998      & \\textbf{  BIC:               }          &     2904.   \\\\\n",
       "\\textbf{Df Model:}         &           2      & \\textbf{                     }          &             \\\\\n",
       "\\textbf{Covariance Type:}  &    nonrobust     & \\textbf{                     }          &             \\\\\n",
       "\\bottomrule\n",
       "\\end{tabular}\n",
       "\\begin{tabular}{lcccccc}\n",
       "            & \\textbf{coef} & \\textbf{std err} & \\textbf{t} & \\textbf{P$> |$t$|$} & \\textbf{[0.025} & \\textbf{0.975]}  \\\\\n",
       "\\midrule\n",
       "\\textbf{x1} &       0.1381  &        0.031     &     4.414  &         0.000        &        0.077    &        0.200     \\\\\n",
       "\\textbf{x2} &       4.9189  &        0.050     &    97.473  &         0.000        &        4.820    &        5.018     \\\\\n",
       "\\bottomrule\n",
       "\\end{tabular}\n",
       "\\begin{tabular}{lclc}\n",
       "\\textbf{Omnibus:}       &  2.671 & \\textbf{  Durbin-Watson:     } &    1.994  \\\\\n",
       "\\textbf{Prob(Omnibus):} &  0.263 & \\textbf{  Jarque-Bera (JB):  } &    2.808  \\\\\n",
       "\\textbf{Skew:}          & -0.035 & \\textbf{  Prob(JB):          } &    0.246  \\\\\n",
       "\\textbf{Kurtosis:}      &  3.250 & \\textbf{  Cond. No.          } &     1.70  \\\\\n",
       "\\bottomrule\n",
       "\\end{tabular}\n",
       "%\\caption{OLS Regression Results}\n",
       "\\end{center}\n",
       "\n",
       "Notes: \\newline\n",
       " [1] R² is computed without centering (uncentered) since the model does not contain a constant. \\newline\n",
       " [2] Standard Errors assume that the covariance matrix of the errors is correctly specified."
      ],
      "text/plain": [
       "<class 'statsmodels.iolib.summary.Summary'>\n",
       "\"\"\"\n",
       "                                 OLS Regression Results                                \n",
       "=======================================================================================\n",
       "Dep. Variable:                      y   R-squared (uncentered):                   0.911\n",
       "Model:                            OLS   Adj. R-squared (uncentered):              0.911\n",
       "Method:                 Least Squares   F-statistic:                              5090.\n",
       "Date:                Sat, 05 Aug 2023   Prob (F-statistic):                        0.00\n",
       "Time:                        06:09:53   Log-Likelihood:                         -1445.3\n",
       "No. Observations:                1000   AIC:                                      2895.\n",
       "Df Residuals:                     998   BIC:                                      2904.\n",
       "Df Model:                           2                                                  \n",
       "Covariance Type:            nonrobust                                                  \n",
       "==============================================================================\n",
       "                 coef    std err          t      P>|t|      [0.025      0.975]\n",
       "------------------------------------------------------------------------------\n",
       "x1             0.1381      0.031      4.414      0.000       0.077       0.200\n",
       "x2             4.9189      0.050     97.473      0.000       4.820       5.018\n",
       "==============================================================================\n",
       "Omnibus:                        2.671   Durbin-Watson:                   1.994\n",
       "Prob(Omnibus):                  0.263   Jarque-Bera (JB):                2.808\n",
       "Skew:                          -0.035   Prob(JB):                        0.246\n",
       "Kurtosis:                       3.250   Cond. No.                         1.70\n",
       "==============================================================================\n",
       "\n",
       "Notes:\n",
       "[1] R² is computed without centering (uncentered) since the model does not contain a constant.\n",
       "[2] Standard Errors assume that the covariance matrix of the errors is correctly specified.\n",
       "\"\"\""
      ]
     },
     "execution_count": 10,
     "metadata": {},
     "output_type": "execute_result"
    }
   ],
   "source": [
    "model = OLS(np.asarray(df[outcome]), np.asarray(df[[common_cause, treatment]], dtype=np.float64))\n",
    "result = model.fit()\n",
    "result.summary()"
   ]
  }
 ],
 "metadata": {
  "kernelspec": {
   "display_name": "Python 3",
   "language": "python",
   "name": "python3"
  },
  "language_info": {
   "codemirror_mode": {
    "name": "ipython",
    "version": 3
   },
   "file_extension": ".py",
   "mimetype": "text/x-python",
   "name": "python",
   "nbconvert_exporter": "python",
   "pygments_lexer": "ipython3",
   "version": "3.8.10"
  },
  "toc": {
   "base_numbering": 1,
   "nav_menu": {},
   "number_sections": false,
   "sideBar": true,
   "skip_h1_title": true,
   "title_cell": "Table of Contents",
   "title_sidebar": "Contents",
   "toc_cell": false,
   "toc_position": {},
   "toc_section_display": true,
   "toc_window_display": false
  }
 },
 "nbformat": 4,
 "nbformat_minor": 4
}
