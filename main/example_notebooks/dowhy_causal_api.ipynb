{
 "cells": [
  {
   "cell_type": "markdown",
   "metadata": {},
   "source": [
    "# Demo for the DoWhy causal API\n",
    "We show a simple example of adding a causal extension to any dataframe. "
   ]
  },
  {
   "cell_type": "code",
   "execution_count": 1,
   "metadata": {
    "execution": {
     "iopub.execute_input": "2023-02-02T06:04:06.370343Z",
     "iopub.status.busy": "2023-02-02T06:04:06.369852Z",
     "iopub.status.idle": "2023-02-02T06:04:08.152934Z",
     "shell.execute_reply": "2023-02-02T06:04:08.152288Z"
    }
   },
   "outputs": [],
   "source": [
    "import dowhy.datasets\n",
    "import dowhy.api\n",
    "\n",
    "import numpy as np\n",
    "import pandas as pd\n",
    "\n",
    "from statsmodels.api import OLS"
   ]
  },
  {
   "cell_type": "code",
   "execution_count": 2,
   "metadata": {
    "execution": {
     "iopub.execute_input": "2023-02-02T06:04:08.156039Z",
     "iopub.status.busy": "2023-02-02T06:04:08.155578Z",
     "iopub.status.idle": "2023-02-02T06:04:08.197806Z",
     "shell.execute_reply": "2023-02-02T06:04:08.197134Z"
    }
   },
   "outputs": [
    {
     "data": {
      "text/html": [
       "<div>\n",
       "<style scoped>\n",
       "    .dataframe tbody tr th:only-of-type {\n",
       "        vertical-align: middle;\n",
       "    }\n",
       "\n",
       "    .dataframe tbody tr th {\n",
       "        vertical-align: top;\n",
       "    }\n",
       "\n",
       "    .dataframe thead th {\n",
       "        text-align: right;\n",
       "    }\n",
       "</style>\n",
       "<table border=\"1\" class=\"dataframe\">\n",
       "  <thead>\n",
       "    <tr style=\"text-align: right;\">\n",
       "      <th></th>\n",
       "      <th>W0</th>\n",
       "      <th>v0</th>\n",
       "      <th>y</th>\n",
       "    </tr>\n",
       "  </thead>\n",
       "  <tbody>\n",
       "    <tr>\n",
       "      <th>0</th>\n",
       "      <td>1.479931</td>\n",
       "      <td>True</td>\n",
       "      <td>6.266536</td>\n",
       "    </tr>\n",
       "    <tr>\n",
       "      <th>1</th>\n",
       "      <td>0.857590</td>\n",
       "      <td>True</td>\n",
       "      <td>7.154211</td>\n",
       "    </tr>\n",
       "    <tr>\n",
       "      <th>2</th>\n",
       "      <td>1.322035</td>\n",
       "      <td>True</td>\n",
       "      <td>5.860193</td>\n",
       "    </tr>\n",
       "    <tr>\n",
       "      <th>3</th>\n",
       "      <td>0.412127</td>\n",
       "      <td>True</td>\n",
       "      <td>6.596416</td>\n",
       "    </tr>\n",
       "    <tr>\n",
       "      <th>4</th>\n",
       "      <td>-0.284940</td>\n",
       "      <td>True</td>\n",
       "      <td>4.354296</td>\n",
       "    </tr>\n",
       "    <tr>\n",
       "      <th>...</th>\n",
       "      <td>...</td>\n",
       "      <td>...</td>\n",
       "      <td>...</td>\n",
       "    </tr>\n",
       "    <tr>\n",
       "      <th>995</th>\n",
       "      <td>0.443254</td>\n",
       "      <td>True</td>\n",
       "      <td>6.084640</td>\n",
       "    </tr>\n",
       "    <tr>\n",
       "      <th>996</th>\n",
       "      <td>0.625783</td>\n",
       "      <td>False</td>\n",
       "      <td>-0.950551</td>\n",
       "    </tr>\n",
       "    <tr>\n",
       "      <th>997</th>\n",
       "      <td>0.343216</td>\n",
       "      <td>False</td>\n",
       "      <td>0.173432</td>\n",
       "    </tr>\n",
       "    <tr>\n",
       "      <th>998</th>\n",
       "      <td>1.552630</td>\n",
       "      <td>True</td>\n",
       "      <td>6.245845</td>\n",
       "    </tr>\n",
       "    <tr>\n",
       "      <th>999</th>\n",
       "      <td>0.275707</td>\n",
       "      <td>False</td>\n",
       "      <td>-0.009012</td>\n",
       "    </tr>\n",
       "  </tbody>\n",
       "</table>\n",
       "<p>1000 rows × 3 columns</p>\n",
       "</div>"
      ],
      "text/plain": [
       "           W0     v0         y\n",
       "0    1.479931   True  6.266536\n",
       "1    0.857590   True  7.154211\n",
       "2    1.322035   True  5.860193\n",
       "3    0.412127   True  6.596416\n",
       "4   -0.284940   True  4.354296\n",
       "..        ...    ...       ...\n",
       "995  0.443254   True  6.084640\n",
       "996  0.625783  False -0.950551\n",
       "997  0.343216  False  0.173432\n",
       "998  1.552630   True  6.245845\n",
       "999  0.275707  False -0.009012\n",
       "\n",
       "[1000 rows x 3 columns]"
      ]
     },
     "execution_count": 2,
     "metadata": {},
     "output_type": "execute_result"
    }
   ],
   "source": [
    "data = dowhy.datasets.linear_dataset(beta=5,\n",
    "        num_common_causes=1,\n",
    "        num_instruments = 0,\n",
    "        num_samples=1000,\n",
    "        treatment_is_binary=True)\n",
    "df = data['df']\n",
    "df['y'] = df['y'] + np.random.normal(size=len(df)) # Adding noise to data. Without noise, the variance in Y|X, Z is zero, and mcmc fails.\n",
    "#data['dot_graph'] = 'digraph { v ->y;X0-> v;X0-> y;}'\n",
    "\n",
    "treatment= data[\"treatment_name\"][0]\n",
    "outcome = data[\"outcome_name\"][0]\n",
    "common_cause = data[\"common_causes_names\"][0]\n",
    "df"
   ]
  },
  {
   "cell_type": "code",
   "execution_count": 3,
   "metadata": {
    "execution": {
     "iopub.execute_input": "2023-02-02T06:04:08.200911Z",
     "iopub.status.busy": "2023-02-02T06:04:08.200405Z",
     "iopub.status.idle": "2023-02-02T06:04:08.343528Z",
     "shell.execute_reply": "2023-02-02T06:04:08.342981Z"
    }
   },
   "outputs": [
    {
     "data": {
      "text/plain": [
       "<AxesSubplot: xlabel='v0'>"
      ]
     },
     "execution_count": 3,
     "metadata": {},
     "output_type": "execute_result"
    },
    {
     "data": {
      "image/png": "[encoded data removed]",
      "text/plain": [
       "<Figure size 640x480 with 1 Axes>"
      ]
     },
     "metadata": {},
     "output_type": "display_data"
    }
   ],
   "source": [
    "# data['df'] is just a regular pandas.DataFrame\n",
    "df.causal.do(x=treatment,\n",
    "                     variable_types={treatment: 'b', outcome: 'c', common_cause: 'c'},\n",
    "                     outcome=outcome,\n",
    "                     common_causes=[common_cause],\n",
    "                     proceed_when_unidentifiable=True).groupby(treatment).mean().plot(y=outcome, kind='bar')"
   ]
  },
  {
   "cell_type": "code",
   "execution_count": 4,
   "metadata": {
    "execution": {
     "iopub.execute_input": "2023-02-02T06:04:08.346930Z",
     "iopub.status.busy": "2023-02-02T06:04:08.346461Z",
     "iopub.status.idle": "2023-02-02T06:04:08.456561Z",
     "shell.execute_reply": "2023-02-02T06:04:08.456018Z"
    }
   },
   "outputs": [
    {
     "data": {
      "text/plain": [
       "<AxesSubplot: xlabel='v0'>"
      ]
     },
     "execution_count": 4,
     "metadata": {},
     "output_type": "execute_result"
    },
    {
     "data": {
      "image/png": "[encoded data removed]",
      "text/plain": [
       "<Figure size 640x480 with 1 Axes>"
      ]
     },
     "metadata": {},
     "output_type": "display_data"
    }
   ],
   "source": [
    "df.causal.do(x={treatment: 1}, \n",
    "              variable_types={treatment:'b', outcome: 'c', common_cause: 'c'}, \n",
    "              outcome=outcome,\n",
    "              method='weighting', \n",
    "              common_causes=[common_cause],\n",
    "              proceed_when_unidentifiable=True).groupby(treatment).mean().plot(y=outcome, kind='bar')"
   ]
  },
  {
   "cell_type": "code",
   "execution_count": 5,
   "metadata": {
    "execution": {
     "iopub.execute_input": "2023-02-02T06:04:08.459283Z",
     "iopub.status.busy": "2023-02-02T06:04:08.458948Z",
     "iopub.status.idle": "2023-02-02T06:04:08.488243Z",
     "shell.execute_reply": "2023-02-02T06:04:08.487678Z"
    }
   },
   "outputs": [],
   "source": [
    "cdf_1 = df.causal.do(x={treatment: 1}, \n",
    "              variable_types={treatment: 'b', outcome: 'c', common_cause: 'c'}, \n",
    "              outcome=outcome, \n",
    "              dot_graph=data['dot_graph'],\n",
    "              proceed_when_unidentifiable=True)\n",
    "\n",
    "cdf_0 = df.causal.do(x={treatment: 0}, \n",
    "              variable_types={treatment: 'b', outcome: 'c', common_cause: 'c'}, \n",
    "              outcome=outcome, \n",
    "              dot_graph=data['dot_graph'],\n",
    "              proceed_when_unidentifiable=True)\n"
   ]
  },
  {
   "cell_type": "code",
   "execution_count": 6,
   "metadata": {
    "execution": {
     "iopub.execute_input": "2023-02-02T06:04:08.491223Z",
     "iopub.status.busy": "2023-02-02T06:04:08.490884Z",
     "iopub.status.idle": "2023-02-02T06:04:08.500389Z",
     "shell.execute_reply": "2023-02-02T06:04:08.499905Z"
    },
    "scrolled": true
   },
   "outputs": [
    {
     "data": {
      "text/html": [
       "<div>\n",
       "<style scoped>\n",
       "    .dataframe tbody tr th:only-of-type {\n",
       "        vertical-align: middle;\n",
       "    }\n",
       "\n",
       "    .dataframe tbody tr th {\n",
       "        vertical-align: top;\n",
       "    }\n",
       "\n",
       "    .dataframe thead th {\n",
       "        text-align: right;\n",
       "    }\n",
       "</style>\n",
       "<table border=\"1\" class=\"dataframe\">\n",
       "  <thead>\n",
       "    <tr style=\"text-align: right;\">\n",
       "      <th></th>\n",
       "      <th>W0</th>\n",
       "      <th>v0</th>\n",
       "      <th>y</th>\n",
       "      <th>propensity_score</th>\n",
       "      <th>weight</th>\n",
       "    </tr>\n",
       "  </thead>\n",
       "  <tbody>\n",
       "    <tr>\n",
       "      <th>0</th>\n",
       "      <td>-1.147594</td>\n",
       "      <td>False</td>\n",
       "      <td>-1.489009</td>\n",
       "      <td>0.839491</td>\n",
       "      <td>1.191198</td>\n",
       "    </tr>\n",
       "    <tr>\n",
       "      <th>1</th>\n",
       "      <td>-1.224206</td>\n",
       "      <td>False</td>\n",
       "      <td>-1.083977</td>\n",
       "      <td>0.853186</td>\n",
       "      <td>1.172077</td>\n",
       "    </tr>\n",
       "    <tr>\n",
       "      <th>2</th>\n",
       "      <td>-1.626507</td>\n",
       "      <td>False</td>\n",
       "      <td>-1.657608</td>\n",
       "      <td>0.909957</td>\n",
       "      <td>1.098953</td>\n",
       "    </tr>\n",
       "    <tr>\n",
       "      <th>3</th>\n",
       "      <td>0.332940</td>\n",
       "      <td>False</td>\n",
       "      <td>0.227194</td>\n",
       "      <td>0.405696</td>\n",
       "      <td>2.464901</td>\n",
       "    </tr>\n",
       "    <tr>\n",
       "      <th>4</th>\n",
       "      <td>1.212798</td>\n",
       "      <td>False</td>\n",
       "      <td>0.804627</td>\n",
       "      <td>0.169118</td>\n",
       "      <td>5.913031</td>\n",
       "    </tr>\n",
       "    <tr>\n",
       "      <th>...</th>\n",
       "      <td>...</td>\n",
       "      <td>...</td>\n",
       "      <td>...</td>\n",
       "      <td>...</td>\n",
       "      <td>...</td>\n",
       "    </tr>\n",
       "    <tr>\n",
       "      <th>995</th>\n",
       "      <td>1.176439</td>\n",
       "      <td>False</td>\n",
       "      <td>0.620170</td>\n",
       "      <td>0.176261</td>\n",
       "      <td>5.673391</td>\n",
       "    </tr>\n",
       "    <tr>\n",
       "      <th>996</th>\n",
       "      <td>-0.465615</td>\n",
       "      <td>False</td>\n",
       "      <td>-1.707500</td>\n",
       "      <td>0.671835</td>\n",
       "      <td>1.488461</td>\n",
       "    </tr>\n",
       "    <tr>\n",
       "      <th>997</th>\n",
       "      <td>0.153656</td>\n",
       "      <td>False</td>\n",
       "      <td>-1.488597</td>\n",
       "      <td>0.466249</td>\n",
       "      <td>2.144779</td>\n",
       "    </tr>\n",
       "    <tr>\n",
       "      <th>998</th>\n",
       "      <td>0.884249</td>\n",
       "      <td>False</td>\n",
       "      <td>0.548210</td>\n",
       "      <td>0.242316</td>\n",
       "      <td>4.126844</td>\n",
       "    </tr>\n",
       "    <tr>\n",
       "      <th>999</th>\n",
       "      <td>-1.557309</td>\n",
       "      <td>False</td>\n",
       "      <td>-2.206271</td>\n",
       "      <td>0.901849</td>\n",
       "      <td>1.108833</td>\n",
       "    </tr>\n",
       "  </tbody>\n",
       "</table>\n",
       "<p>1000 rows × 5 columns</p>\n",
       "</div>"
      ],
      "text/plain": [
       "           W0     v0         y  propensity_score    weight\n",
       "0   -1.147594  False -1.489009          0.839491  1.191198\n",
       "1   -1.224206  False -1.083977          0.853186  1.172077\n",
       "2   -1.626507  False -1.657608          0.909957  1.098953\n",
       "3    0.332940  False  0.227194          0.405696  2.464901\n",
       "4    1.212798  False  0.804627          0.169118  5.913031\n",
       "..        ...    ...       ...               ...       ...\n",
       "995  1.176439  False  0.620170          0.176261  5.673391\n",
       "996 -0.465615  False -1.707500          0.671835  1.488461\n",
       "997  0.153656  False -1.488597          0.466249  2.144779\n",
       "998  0.884249  False  0.548210          0.242316  4.126844\n",
       "999 -1.557309  False -2.206271          0.901849  1.108833\n",
       "\n",
       "[1000 rows x 5 columns]"
      ]
     },
     "execution_count": 6,
     "metadata": {},
     "output_type": "execute_result"
    }
   ],
   "source": [
    "cdf_0"
   ]
  },
  {
   "cell_type": "code",
   "execution_count": 7,
   "metadata": {
    "execution": {
     "iopub.execute_input": "2023-02-02T06:04:08.502928Z",
     "iopub.status.busy": "2023-02-02T06:04:08.502607Z",
     "iopub.status.idle": "2023-02-02T06:04:08.511740Z",
     "shell.execute_reply": "2023-02-02T06:04:08.511268Z"
    }
   },
   "outputs": [
    {
     "data": {
      "text/html": [
       "<div>\n",
       "<style scoped>\n",
       "    .dataframe tbody tr th:only-of-type {\n",
       "        vertical-align: middle;\n",
       "    }\n",
       "\n",
       "    .dataframe tbody tr th {\n",
       "        vertical-align: top;\n",
       "    }\n",
       "\n",
       "    .dataframe thead th {\n",
       "        text-align: right;\n",
       "    }\n",
       "</style>\n",
       "<table border=\"1\" class=\"dataframe\">\n",
       "  <thead>\n",
       "    <tr style=\"text-align: right;\">\n",
       "      <th></th>\n",
       "      <th>W0</th>\n",
       "      <th>v0</th>\n",
       "      <th>y</th>\n",
       "      <th>propensity_score</th>\n",
       "      <th>weight</th>\n",
       "    </tr>\n",
       "  </thead>\n",
       "  <tbody>\n",
       "    <tr>\n",
       "      <th>0</th>\n",
       "      <td>2.155956</td>\n",
       "      <td>True</td>\n",
       "      <td>8.655479</td>\n",
       "      <td>0.947303</td>\n",
       "      <td>1.055629</td>\n",
       "    </tr>\n",
       "    <tr>\n",
       "      <th>1</th>\n",
       "      <td>0.737780</td>\n",
       "      <td>True</td>\n",
       "      <td>5.611723</td>\n",
       "      <td>0.718813</td>\n",
       "      <td>1.391183</td>\n",
       "    </tr>\n",
       "    <tr>\n",
       "      <th>2</th>\n",
       "      <td>-0.300838</td>\n",
       "      <td>True</td>\n",
       "      <td>4.770967</td>\n",
       "      <td>0.379924</td>\n",
       "      <td>2.632107</td>\n",
       "    </tr>\n",
       "    <tr>\n",
       "      <th>3</th>\n",
       "      <td>-1.117746</td>\n",
       "      <td>True</td>\n",
       "      <td>3.117980</td>\n",
       "      <td>0.166118</td>\n",
       "      <td>6.019832</td>\n",
       "    </tr>\n",
       "    <tr>\n",
       "      <th>4</th>\n",
       "      <td>-0.170365</td>\n",
       "      <td>True</td>\n",
       "      <td>4.089189</td>\n",
       "      <td>0.423010</td>\n",
       "      <td>2.364008</td>\n",
       "    </tr>\n",
       "    <tr>\n",
       "      <th>...</th>\n",
       "      <td>...</td>\n",
       "      <td>...</td>\n",
       "      <td>...</td>\n",
       "      <td>...</td>\n",
       "      <td>...</td>\n",
       "    </tr>\n",
       "    <tr>\n",
       "      <th>995</th>\n",
       "      <td>2.651567</td>\n",
       "      <td>True</td>\n",
       "      <td>7.740019</td>\n",
       "      <td>0.972633</td>\n",
       "      <td>1.028137</td>\n",
       "    </tr>\n",
       "    <tr>\n",
       "      <th>996</th>\n",
       "      <td>0.502806</td>\n",
       "      <td>True</td>\n",
       "      <td>4.438522</td>\n",
       "      <td>0.649174</td>\n",
       "      <td>1.540419</td>\n",
       "    </tr>\n",
       "    <tr>\n",
       "      <th>997</th>\n",
       "      <td>-0.128812</td>\n",
       "      <td>True</td>\n",
       "      <td>4.011738</td>\n",
       "      <td>0.437017</td>\n",
       "      <td>2.288242</td>\n",
       "    </tr>\n",
       "    <tr>\n",
       "      <th>998</th>\n",
       "      <td>0.577194</td>\n",
       "      <td>True</td>\n",
       "      <td>3.975429</td>\n",
       "      <td>0.672105</td>\n",
       "      <td>1.487864</td>\n",
       "    </tr>\n",
       "    <tr>\n",
       "      <th>999</th>\n",
       "      <td>-1.772799</td>\n",
       "      <td>True</td>\n",
       "      <td>4.105199</td>\n",
       "      <td>0.074861</td>\n",
       "      <td>13.358166</td>\n",
       "    </tr>\n",
       "  </tbody>\n",
       "</table>\n",
       "<p>1000 rows × 5 columns</p>\n",
       "</div>"
      ],
      "text/plain": [
       "           W0    v0         y  propensity_score     weight\n",
       "0    2.155956  True  8.655479          0.947303   1.055629\n",
       "1    0.737780  True  5.611723          0.718813   1.391183\n",
       "2   -0.300838  True  4.770967          0.379924   2.632107\n",
       "3   -1.117746  True  3.117980          0.166118   6.019832\n",
       "4   -0.170365  True  4.089189          0.423010   2.364008\n",
       "..        ...   ...       ...               ...        ...\n",
       "995  2.651567  True  7.740019          0.972633   1.028137\n",
       "996  0.502806  True  4.438522          0.649174   1.540419\n",
       "997 -0.128812  True  4.011738          0.437017   2.288242\n",
       "998  0.577194  True  3.975429          0.672105   1.487864\n",
       "999 -1.772799  True  4.105199          0.074861  13.358166\n",
       "\n",
       "[1000 rows x 5 columns]"
      ]
     },
     "execution_count": 7,
     "metadata": {},
     "output_type": "execute_result"
    }
   ],
   "source": [
    "cdf_1"
   ]
  },
  {
   "cell_type": "markdown",
   "metadata": {},
   "source": [
    "## Comparing the estimate to Linear Regression\n",
    "First, estimating the effect using the causal data frame, and the 95% confidence interval."
   ]
  },
  {
   "cell_type": "code",
   "execution_count": 8,
   "metadata": {
    "execution": {
     "iopub.execute_input": "2023-02-02T06:04:08.514302Z",
     "iopub.status.busy": "2023-02-02T06:04:08.513965Z",
     "iopub.status.idle": "2023-02-02T06:04:08.570588Z",
     "shell.execute_reply": "2023-02-02T06:04:08.569938Z"
    }
   },
   "outputs": [
    {
     "data": {
      "image/png": "[encoded data removed]",
      "text/latex": [
       "$\\displaystyle 4.84968047604506$"
      ],
      "text/plain": [
       "4.849680476045057"
      ]
     },
     "execution_count": 8,
     "metadata": {},
     "output_type": "execute_result"
    }
   ],
   "source": [
    "(cdf_1['y'] - cdf_0['y']).mean()"
   ]
  },
  {
   "cell_type": "code",
   "execution_count": 9,
   "metadata": {
    "execution": {
     "iopub.execute_input": "2023-02-02T06:04:08.573447Z",
     "iopub.status.busy": "2023-02-02T06:04:08.573232Z",
     "iopub.status.idle": "2023-02-02T06:04:08.594836Z",
     "shell.execute_reply": "2023-02-02T06:04:08.594253Z"
    }
   },
   "outputs": [
    {
     "data": {
      "image/png": "[encoded data removed]",
      "text/latex": [
       "$\\displaystyle 0.136416045584321$"
      ],
      "text/plain": [
       "0.13641604558432058"
      ]
     },
     "execution_count": 9,
     "metadata": {},
     "output_type": "execute_result"
    }
   ],
   "source": [
    "1.96*(cdf_1['y'] - cdf_0['y']).std() / np.sqrt(len(df))"
   ]
  },
  {
   "cell_type": "markdown",
   "metadata": {},
   "source": [
    "Comparing to the estimate from OLS."
   ]
  },
  {
   "cell_type": "code",
   "execution_count": 10,
   "metadata": {
    "execution": {
     "iopub.execute_input": "2023-02-02T06:04:08.597823Z",
     "iopub.status.busy": "2023-02-02T06:04:08.597490Z",
     "iopub.status.idle": "2023-02-02T06:04:08.615477Z",
     "shell.execute_reply": "2023-02-02T06:04:08.614905Z"
    }
   },
   "outputs": [
    {
     "data": {
      "text/html": [
       "<table class=\"simpletable\">\n",
       "<caption>OLS Regression Results</caption>\n",
       "<tr>\n",
       "  <th>Dep. Variable:</th>            <td>y</td>        <th>  R-squared (uncentered):</th>      <td>   0.939</td>\n",
       "</tr>\n",
       "<tr>\n",
       "  <th>Model:</th>                   <td>OLS</td>       <th>  Adj. R-squared (uncentered):</th> <td>   0.939</td>\n",
       "</tr>\n",
       "<tr>\n",
       "  <th>Method:</th>             <td>Least Squares</td>  <th>  F-statistic:       </th>          <td>   7634.</td>\n",
       "</tr>\n",
       "<tr>\n",
       "  <th>Date:</th>             <td>Thu, 02 Feb 2023</td> <th>  Prob (F-statistic):</th>           <td>  0.00</td> \n",
       "</tr>\n",
       "<tr>\n",
       "  <th>Time:</th>                 <td>06:04:08</td>     <th>  Log-Likelihood:    </th>          <td> -1413.0</td>\n",
       "</tr>\n",
       "<tr>\n",
       "  <th>No. Observations:</th>      <td>  1000</td>      <th>  AIC:               </th>          <td>   2830.</td>\n",
       "</tr>\n",
       "<tr>\n",
       "  <th>Df Residuals:</th>          <td>   998</td>      <th>  BIC:               </th>          <td>   2840.</td>\n",
       "</tr>\n",
       "<tr>\n",
       "  <th>Df Model:</th>              <td>     2</td>      <th>                     </th>              <td> </td>   \n",
       "</tr>\n",
       "<tr>\n",
       "  <th>Covariance Type:</th>      <td>nonrobust</td>    <th>                     </th>              <td> </td>   \n",
       "</tr>\n",
       "</table>\n",
       "<table class=\"simpletable\">\n",
       "<tr>\n",
       "   <td></td>     <th>coef</th>     <th>std err</th>      <th>t</th>      <th>P>|t|</th>  <th>[0.025</th>    <th>0.975]</th>  \n",
       "</tr>\n",
       "<tr>\n",
       "  <th>x1</th> <td>    0.9716</td> <td>    0.032</td> <td>   30.003</td> <td> 0.000</td> <td>    0.908</td> <td>    1.035</td>\n",
       "</tr>\n",
       "<tr>\n",
       "  <th>x2</th> <td>    4.9677</td> <td>    0.049</td> <td>  102.326</td> <td> 0.000</td> <td>    4.872</td> <td>    5.063</td>\n",
       "</tr>\n",
       "</table>\n",
       "<table class=\"simpletable\">\n",
       "<tr>\n",
       "  <th>Omnibus:</th>       <td> 2.694</td> <th>  Durbin-Watson:     </th> <td>   2.045</td>\n",
       "</tr>\n",
       "<tr>\n",
       "  <th>Prob(Omnibus):</th> <td> 0.260</td> <th>  Jarque-Bera (JB):  </th> <td>   2.564</td>\n",
       "</tr>\n",
       "<tr>\n",
       "  <th>Skew:</th>          <td> 0.098</td> <th>  Prob(JB):          </th> <td>   0.278</td>\n",
       "</tr>\n",
       "<tr>\n",
       "  <th>Kurtosis:</th>      <td> 3.152</td> <th>  Cond. No.          </th> <td>    1.73</td>\n",
       "</tr>\n",
       "</table><br/><br/>Notes:<br/>[1] R² is computed without centering (uncentered) since the model does not contain a constant.<br/>[2] Standard Errors assume that the covariance matrix of the errors is correctly specified."
      ],
      "text/plain": [
       "<class 'statsmodels.iolib.summary.Summary'>\n",
       "\"\"\"\n",
       "                                 OLS Regression Results                                \n",
       "=======================================================================================\n",
       "Dep. Variable:                      y   R-squared (uncentered):                   0.939\n",
       "Model:                            OLS   Adj. R-squared (uncentered):              0.939\n",
       "Method:                 Least Squares   F-statistic:                              7634.\n",
       "Date:                Thu, 02 Feb 2023   Prob (F-statistic):                        0.00\n",
       "Time:                        06:04:08   Log-Likelihood:                         -1413.0\n",
       "No. Observations:                1000   AIC:                                      2830.\n",
       "Df Residuals:                     998   BIC:                                      2840.\n",
       "Df Model:                           2                                                  \n",
       "Covariance Type:            nonrobust                                                  \n",
       "==============================================================================\n",
       "                 coef    std err          t      P>|t|      [0.025      0.975]\n",
       "------------------------------------------------------------------------------\n",
       "x1             0.9716      0.032     30.003      0.000       0.908       1.035\n",
       "x2             4.9677      0.049    102.326      0.000       4.872       5.063\n",
       "==============================================================================\n",
       "Omnibus:                        2.694   Durbin-Watson:                   2.045\n",
       "Prob(Omnibus):                  0.260   Jarque-Bera (JB):                2.564\n",
       "Skew:                           0.098   Prob(JB):                        0.278\n",
       "Kurtosis:                       3.152   Cond. No.                         1.73\n",
       "==============================================================================\n",
       "\n",
       "Notes:\n",
       "[1] R² is computed without centering (uncentered) since the model does not contain a constant.\n",
       "[2] Standard Errors assume that the covariance matrix of the errors is correctly specified.\n",
       "\"\"\""
      ]
     },
     "execution_count": 10,
     "metadata": {},
     "output_type": "execute_result"
    }
   ],
   "source": [
    "model = OLS(np.asarray(df[outcome]), np.asarray(df[[common_cause, treatment]], dtype=np.float64))\n",
    "result = model.fit()\n",
    "result.summary()"
   ]
  }
 ],
 "metadata": {
  "kernelspec": {
   "display_name": "Python 3",
   "language": "python",
   "name": "python3"
  },
  "language_info": {
   "codemirror_mode": {
    "name": "ipython",
    "version": 3
   },
   "file_extension": ".py",
   "mimetype": "text/x-python",
   "name": "python",
   "nbconvert_exporter": "python",
   "pygments_lexer": "ipython3",
   "version": "3.8.10"
  },
  "toc": {
   "base_numbering": 1,
   "nav_menu": {},
   "number_sections": false,
   "sideBar": true,
   "skip_h1_title": true,
   "title_cell": "Table of Contents",
   "title_sidebar": "Contents",
   "toc_cell": false,
   "toc_position": {},
   "toc_section_display": true,
   "toc_window_display": false
  }
 },
 "nbformat": 4,
 "nbformat_minor": 4
}
