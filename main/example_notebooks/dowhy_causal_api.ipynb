{
 "cells": [
  {
   "cell_type": "markdown",
   "metadata": {},
   "source": [
    "# Demo for the DoWhy causal API\n",
    "We show a simple example of adding a causal extension to any dataframe. "
   ]
  },
  {
   "cell_type": "code",
   "execution_count": 1,
   "metadata": {
    "execution": {
     "iopub.execute_input": "2023-05-16T15:33:55.118352Z",
     "iopub.status.busy": "2023-05-16T15:33:55.117875Z",
     "iopub.status.idle": "2023-05-16T15:33:56.684074Z",
     "shell.execute_reply": "2023-05-16T15:33:56.683421Z"
    }
   },
   "outputs": [],
   "source": [
    "import dowhy.datasets\n",
    "import dowhy.api\n",
    "\n",
    "import numpy as np\n",
    "import pandas as pd\n",
    "\n",
    "from statsmodels.api import OLS"
   ]
  },
  {
   "cell_type": "code",
   "execution_count": 2,
   "metadata": {
    "execution": {
     "iopub.execute_input": "2023-05-16T15:33:56.687615Z",
     "iopub.status.busy": "2023-05-16T15:33:56.687071Z",
     "iopub.status.idle": "2023-05-16T15:33:56.732601Z",
     "shell.execute_reply": "2023-05-16T15:33:56.732030Z"
    }
   },
   "outputs": [
    {
     "data": {
      "text/html": [
       "<div>\n",
       "<style scoped>\n",
       "    .dataframe tbody tr th:only-of-type {\n",
       "        vertical-align: middle;\n",
       "    }\n",
       "\n",
       "    .dataframe tbody tr th {\n",
       "        vertical-align: top;\n",
       "    }\n",
       "\n",
       "    .dataframe thead th {\n",
       "        text-align: right;\n",
       "    }\n",
       "</style>\n",
       "<table border=\"1\" class=\"dataframe\">\n",
       "  <thead>\n",
       "    <tr style=\"text-align: right;\">\n",
       "      <th></th>\n",
       "      <th>W0</th>\n",
       "      <th>v0</th>\n",
       "      <th>y</th>\n",
       "    </tr>\n",
       "  </thead>\n",
       "  <tbody>\n",
       "    <tr>\n",
       "      <th>0</th>\n",
       "      <td>-1.053385</td>\n",
       "      <td>False</td>\n",
       "      <td>-2.382253</td>\n",
       "    </tr>\n",
       "    <tr>\n",
       "      <th>1</th>\n",
       "      <td>-1.196332</td>\n",
       "      <td>False</td>\n",
       "      <td>-3.562012</td>\n",
       "    </tr>\n",
       "    <tr>\n",
       "      <th>2</th>\n",
       "      <td>-1.356910</td>\n",
       "      <td>False</td>\n",
       "      <td>-0.898313</td>\n",
       "    </tr>\n",
       "    <tr>\n",
       "      <th>3</th>\n",
       "      <td>-0.401276</td>\n",
       "      <td>False</td>\n",
       "      <td>-1.268986</td>\n",
       "    </tr>\n",
       "    <tr>\n",
       "      <th>4</th>\n",
       "      <td>-0.836962</td>\n",
       "      <td>True</td>\n",
       "      <td>2.295690</td>\n",
       "    </tr>\n",
       "    <tr>\n",
       "      <th>...</th>\n",
       "      <td>...</td>\n",
       "      <td>...</td>\n",
       "      <td>...</td>\n",
       "    </tr>\n",
       "    <tr>\n",
       "      <th>995</th>\n",
       "      <td>-1.392931</td>\n",
       "      <td>False</td>\n",
       "      <td>-3.240571</td>\n",
       "    </tr>\n",
       "    <tr>\n",
       "      <th>996</th>\n",
       "      <td>-1.624648</td>\n",
       "      <td>False</td>\n",
       "      <td>-1.489604</td>\n",
       "    </tr>\n",
       "    <tr>\n",
       "      <th>997</th>\n",
       "      <td>-0.364723</td>\n",
       "      <td>False</td>\n",
       "      <td>-0.714318</td>\n",
       "    </tr>\n",
       "    <tr>\n",
       "      <th>998</th>\n",
       "      <td>-1.764083</td>\n",
       "      <td>False</td>\n",
       "      <td>-1.885944</td>\n",
       "    </tr>\n",
       "    <tr>\n",
       "      <th>999</th>\n",
       "      <td>-2.196291</td>\n",
       "      <td>False</td>\n",
       "      <td>-3.833433</td>\n",
       "    </tr>\n",
       "  </tbody>\n",
       "</table>\n",
       "<p>1000 rows × 3 columns</p>\n",
       "</div>"
      ],
      "text/plain": [
       "           W0     v0         y\n",
       "0   -1.053385  False -2.382253\n",
       "1   -1.196332  False -3.562012\n",
       "2   -1.356910  False -0.898313\n",
       "3   -0.401276  False -1.268986\n",
       "4   -0.836962   True  2.295690\n",
       "..        ...    ...       ...\n",
       "995 -1.392931  False -3.240571\n",
       "996 -1.624648  False -1.489604\n",
       "997 -0.364723  False -0.714318\n",
       "998 -1.764083  False -1.885944\n",
       "999 -2.196291  False -3.833433\n",
       "\n",
       "[1000 rows x 3 columns]"
      ]
     },
     "execution_count": 2,
     "metadata": {},
     "output_type": "execute_result"
    }
   ],
   "source": [
    "data = dowhy.datasets.linear_dataset(beta=5,\n",
    "        num_common_causes=1,\n",
    "        num_instruments = 0,\n",
    "        num_samples=1000,\n",
    "        treatment_is_binary=True)\n",
    "df = data['df']\n",
    "df['y'] = df['y'] + np.random.normal(size=len(df)) # Adding noise to data. Without noise, the variance in Y|X, Z is zero, and mcmc fails.\n",
    "#data['dot_graph'] = 'digraph { v ->y;X0-> v;X0-> y;}'\n",
    "\n",
    "treatment= data[\"treatment_name\"][0]\n",
    "outcome = data[\"outcome_name\"][0]\n",
    "common_cause = data[\"common_causes_names\"][0]\n",
    "df"
   ]
  },
  {
   "cell_type": "code",
   "execution_count": 3,
   "metadata": {
    "execution": {
     "iopub.execute_input": "2023-05-16T15:33:56.735522Z",
     "iopub.status.busy": "2023-05-16T15:33:56.735187Z",
     "iopub.status.idle": "2023-05-16T15:33:56.876651Z",
     "shell.execute_reply": "2023-05-16T15:33:56.876134Z"
    }
   },
   "outputs": [
    {
     "data": {
      "text/plain": [
       "<AxesSubplot: xlabel='v0'>"
      ]
     },
     "execution_count": 3,
     "metadata": {},
     "output_type": "execute_result"
    },
    {
     "data": {
      "image/png": "[encoded data removed]",
      "text/plain": [
       "<Figure size 640x480 with 1 Axes>"
      ]
     },
     "metadata": {},
     "output_type": "display_data"
    }
   ],
   "source": [
    "# data['df'] is just a regular pandas.DataFrame\n",
    "df.causal.do(x=treatment,\n",
    "                     variable_types={treatment: 'b', outcome: 'c', common_cause: 'c'},\n",
    "                     outcome=outcome,\n",
    "                     common_causes=[common_cause],\n",
    "                     proceed_when_unidentifiable=True).groupby(treatment).mean().plot(y=outcome, kind='bar')"
   ]
  },
  {
   "cell_type": "code",
   "execution_count": 4,
   "metadata": {
    "execution": {
     "iopub.execute_input": "2023-05-16T15:33:56.879405Z",
     "iopub.status.busy": "2023-05-16T15:33:56.878991Z",
     "iopub.status.idle": "2023-05-16T15:33:57.083520Z",
     "shell.execute_reply": "2023-05-16T15:33:57.082846Z"
    }
   },
   "outputs": [
    {
     "data": {
      "text/plain": [
       "<AxesSubplot: xlabel='v0'>"
      ]
     },
     "execution_count": 4,
     "metadata": {},
     "output_type": "execute_result"
    },
    {
     "data": {
      "image/png": "[encoded data removed]",
      "text/plain": [
       "<Figure size 640x480 with 1 Axes>"
      ]
     },
     "metadata": {},
     "output_type": "display_data"
    }
   ],
   "source": [
    "df.causal.do(x={treatment: 1}, \n",
    "              variable_types={treatment:'b', outcome: 'c', common_cause: 'c'}, \n",
    "              outcome=outcome,\n",
    "              method='weighting', \n",
    "              common_causes=[common_cause],\n",
    "              proceed_when_unidentifiable=True).groupby(treatment).mean().plot(y=outcome, kind='bar')"
   ]
  },
  {
   "cell_type": "code",
   "execution_count": 5,
   "metadata": {
    "execution": {
     "iopub.execute_input": "2023-05-16T15:33:57.086579Z",
     "iopub.status.busy": "2023-05-16T15:33:57.086078Z",
     "iopub.status.idle": "2023-05-16T15:33:57.115899Z",
     "shell.execute_reply": "2023-05-16T15:33:57.115325Z"
    }
   },
   "outputs": [],
   "source": [
    "cdf_1 = df.causal.do(x={treatment: 1}, \n",
    "              variable_types={treatment: 'b', outcome: 'c', common_cause: 'c'}, \n",
    "              outcome=outcome, \n",
    "              dot_graph=data['dot_graph'],\n",
    "              proceed_when_unidentifiable=True)\n",
    "\n",
    "cdf_0 = df.causal.do(x={treatment: 0}, \n",
    "              variable_types={treatment: 'b', outcome: 'c', common_cause: 'c'}, \n",
    "              outcome=outcome, \n",
    "              dot_graph=data['dot_graph'],\n",
    "              proceed_when_unidentifiable=True)\n"
   ]
  },
  {
   "cell_type": "code",
   "execution_count": 6,
   "metadata": {
    "execution": {
     "iopub.execute_input": "2023-05-16T15:33:57.118649Z",
     "iopub.status.busy": "2023-05-16T15:33:57.118316Z",
     "iopub.status.idle": "2023-05-16T15:33:57.128277Z",
     "shell.execute_reply": "2023-05-16T15:33:57.127712Z"
    },
    "scrolled": true
   },
   "outputs": [
    {
     "data": {
      "text/html": [
       "<div>\n",
       "<style scoped>\n",
       "    .dataframe tbody tr th:only-of-type {\n",
       "        vertical-align: middle;\n",
       "    }\n",
       "\n",
       "    .dataframe tbody tr th {\n",
       "        vertical-align: top;\n",
       "    }\n",
       "\n",
       "    .dataframe thead th {\n",
       "        text-align: right;\n",
       "    }\n",
       "</style>\n",
       "<table border=\"1\" class=\"dataframe\">\n",
       "  <thead>\n",
       "    <tr style=\"text-align: right;\">\n",
       "      <th></th>\n",
       "      <th>W0</th>\n",
       "      <th>v0</th>\n",
       "      <th>y</th>\n",
       "      <th>propensity_score</th>\n",
       "      <th>weight</th>\n",
       "    </tr>\n",
       "  </thead>\n",
       "  <tbody>\n",
       "    <tr>\n",
       "      <th>0</th>\n",
       "      <td>1.313333</td>\n",
       "      <td>False</td>\n",
       "      <td>3.742422</td>\n",
       "      <td>0.078189</td>\n",
       "      <td>12.789473</td>\n",
       "    </tr>\n",
       "    <tr>\n",
       "      <th>1</th>\n",
       "      <td>0.072448</td>\n",
       "      <td>False</td>\n",
       "      <td>-0.122709</td>\n",
       "      <td>0.457751</td>\n",
       "      <td>2.184591</td>\n",
       "    </tr>\n",
       "    <tr>\n",
       "      <th>2</th>\n",
       "      <td>-0.094551</td>\n",
       "      <td>False</td>\n",
       "      <td>0.740250</td>\n",
       "      <td>0.534904</td>\n",
       "      <td>1.869496</td>\n",
       "    </tr>\n",
       "    <tr>\n",
       "      <th>3</th>\n",
       "      <td>-0.744022</td>\n",
       "      <td>False</td>\n",
       "      <td>-1.579482</td>\n",
       "      <td>0.792901</td>\n",
       "      <td>1.261192</td>\n",
       "    </tr>\n",
       "    <tr>\n",
       "      <th>4</th>\n",
       "      <td>-2.435087</td>\n",
       "      <td>False</td>\n",
       "      <td>-5.113836</td>\n",
       "      <td>0.988726</td>\n",
       "      <td>1.011402</td>\n",
       "    </tr>\n",
       "    <tr>\n",
       "      <th>...</th>\n",
       "      <td>...</td>\n",
       "      <td>...</td>\n",
       "      <td>...</td>\n",
       "      <td>...</td>\n",
       "      <td>...</td>\n",
       "    </tr>\n",
       "    <tr>\n",
       "      <th>995</th>\n",
       "      <td>0.585205</td>\n",
       "      <td>False</td>\n",
       "      <td>-0.347736</td>\n",
       "      <td>0.246216</td>\n",
       "      <td>4.061474</td>\n",
       "    </tr>\n",
       "    <tr>\n",
       "      <th>996</th>\n",
       "      <td>-0.099367</td>\n",
       "      <td>False</td>\n",
       "      <td>-1.692048</td>\n",
       "      <td>0.537122</td>\n",
       "      <td>1.861775</td>\n",
       "    </tr>\n",
       "    <tr>\n",
       "      <th>997</th>\n",
       "      <td>0.495530</td>\n",
       "      <td>False</td>\n",
       "      <td>2.009518</td>\n",
       "      <td>0.278314</td>\n",
       "      <td>3.593066</td>\n",
       "    </tr>\n",
       "    <tr>\n",
       "      <th>998</th>\n",
       "      <td>-0.739276</td>\n",
       "      <td>False</td>\n",
       "      <td>-1.238139</td>\n",
       "      <td>0.791454</td>\n",
       "      <td>1.263498</td>\n",
       "    </tr>\n",
       "    <tr>\n",
       "      <th>999</th>\n",
       "      <td>-0.798182</td>\n",
       "      <td>False</td>\n",
       "      <td>-1.438211</td>\n",
       "      <td>0.808887</td>\n",
       "      <td>1.236267</td>\n",
       "    </tr>\n",
       "  </tbody>\n",
       "</table>\n",
       "<p>1000 rows × 5 columns</p>\n",
       "</div>"
      ],
      "text/plain": [
       "           W0     v0         y  propensity_score     weight\n",
       "0    1.313333  False  3.742422          0.078189  12.789473\n",
       "1    0.072448  False -0.122709          0.457751   2.184591\n",
       "2   -0.094551  False  0.740250          0.534904   1.869496\n",
       "3   -0.744022  False -1.579482          0.792901   1.261192\n",
       "4   -2.435087  False -5.113836          0.988726   1.011402\n",
       "..        ...    ...       ...               ...        ...\n",
       "995  0.585205  False -0.347736          0.246216   4.061474\n",
       "996 -0.099367  False -1.692048          0.537122   1.861775\n",
       "997  0.495530  False  2.009518          0.278314   3.593066\n",
       "998 -0.739276  False -1.238139          0.791454   1.263498\n",
       "999 -0.798182  False -1.438211          0.808887   1.236267\n",
       "\n",
       "[1000 rows x 5 columns]"
      ]
     },
     "execution_count": 6,
     "metadata": {},
     "output_type": "execute_result"
    }
   ],
   "source": [
    "cdf_0"
   ]
  },
  {
   "cell_type": "code",
   "execution_count": 7,
   "metadata": {
    "execution": {
     "iopub.execute_input": "2023-05-16T15:33:57.131458Z",
     "iopub.status.busy": "2023-05-16T15:33:57.131118Z",
     "iopub.status.idle": "2023-05-16T15:33:57.140719Z",
     "shell.execute_reply": "2023-05-16T15:33:57.140139Z"
    }
   },
   "outputs": [
    {
     "data": {
      "text/html": [
       "<div>\n",
       "<style scoped>\n",
       "    .dataframe tbody tr th:only-of-type {\n",
       "        vertical-align: middle;\n",
       "    }\n",
       "\n",
       "    .dataframe tbody tr th {\n",
       "        vertical-align: top;\n",
       "    }\n",
       "\n",
       "    .dataframe thead th {\n",
       "        text-align: right;\n",
       "    }\n",
       "</style>\n",
       "<table border=\"1\" class=\"dataframe\">\n",
       "  <thead>\n",
       "    <tr style=\"text-align: right;\">\n",
       "      <th></th>\n",
       "      <th>W0</th>\n",
       "      <th>v0</th>\n",
       "      <th>y</th>\n",
       "      <th>propensity_score</th>\n",
       "      <th>weight</th>\n",
       "    </tr>\n",
       "  </thead>\n",
       "  <tbody>\n",
       "    <tr>\n",
       "      <th>0</th>\n",
       "      <td>0.226711</td>\n",
       "      <td>True</td>\n",
       "      <td>5.635631</td>\n",
       "      <td>0.611840</td>\n",
       "      <td>1.634414</td>\n",
       "    </tr>\n",
       "    <tr>\n",
       "      <th>1</th>\n",
       "      <td>-2.040833</td>\n",
       "      <td>True</td>\n",
       "      <td>0.659051</td>\n",
       "      <td>0.023115</td>\n",
       "      <td>43.261236</td>\n",
       "    </tr>\n",
       "    <tr>\n",
       "      <th>2</th>\n",
       "      <td>-1.703515</td>\n",
       "      <td>True</td>\n",
       "      <td>2.348734</td>\n",
       "      <td>0.042320</td>\n",
       "      <td>23.629221</td>\n",
       "    </tr>\n",
       "    <tr>\n",
       "      <th>3</th>\n",
       "      <td>0.236088</td>\n",
       "      <td>True</td>\n",
       "      <td>6.840954</td>\n",
       "      <td>0.615956</td>\n",
       "      <td>1.623492</td>\n",
       "    </tr>\n",
       "    <tr>\n",
       "      <th>4</th>\n",
       "      <td>-1.130759</td>\n",
       "      <td>True</td>\n",
       "      <td>2.119977</td>\n",
       "      <td>0.113182</td>\n",
       "      <td>8.835316</td>\n",
       "    </tr>\n",
       "    <tr>\n",
       "      <th>...</th>\n",
       "      <td>...</td>\n",
       "      <td>...</td>\n",
       "      <td>...</td>\n",
       "      <td>...</td>\n",
       "      <td>...</td>\n",
       "    </tr>\n",
       "    <tr>\n",
       "      <th>995</th>\n",
       "      <td>-0.670761</td>\n",
       "      <td>True</td>\n",
       "      <td>3.996074</td>\n",
       "      <td>0.230261</td>\n",
       "      <td>4.342901</td>\n",
       "    </tr>\n",
       "    <tr>\n",
       "      <th>996</th>\n",
       "      <td>0.391049</td>\n",
       "      <td>True</td>\n",
       "      <td>4.729219</td>\n",
       "      <td>0.681216</td>\n",
       "      <td>1.467962</td>\n",
       "    </tr>\n",
       "    <tr>\n",
       "      <th>997</th>\n",
       "      <td>-1.004811</td>\n",
       "      <td>True</td>\n",
       "      <td>3.447723</td>\n",
       "      <td>0.138785</td>\n",
       "      <td>7.205376</td>\n",
       "    </tr>\n",
       "    <tr>\n",
       "      <th>998</th>\n",
       "      <td>-1.723500</td>\n",
       "      <td>True</td>\n",
       "      <td>1.038397</td>\n",
       "      <td>0.040846</td>\n",
       "      <td>24.482360</td>\n",
       "    </tr>\n",
       "    <tr>\n",
       "      <th>999</th>\n",
       "      <td>-0.631297</td>\n",
       "      <td>True</td>\n",
       "      <td>2.827298</td>\n",
       "      <td>0.243468</td>\n",
       "      <td>4.107323</td>\n",
       "    </tr>\n",
       "  </tbody>\n",
       "</table>\n",
       "<p>1000 rows × 5 columns</p>\n",
       "</div>"
      ],
      "text/plain": [
       "           W0    v0         y  propensity_score     weight\n",
       "0    0.226711  True  5.635631          0.611840   1.634414\n",
       "1   -2.040833  True  0.659051          0.023115  43.261236\n",
       "2   -1.703515  True  2.348734          0.042320  23.629221\n",
       "3    0.236088  True  6.840954          0.615956   1.623492\n",
       "4   -1.130759  True  2.119977          0.113182   8.835316\n",
       "..        ...   ...       ...               ...        ...\n",
       "995 -0.670761  True  3.996074          0.230261   4.342901\n",
       "996  0.391049  True  4.729219          0.681216   1.467962\n",
       "997 -1.004811  True  3.447723          0.138785   7.205376\n",
       "998 -1.723500  True  1.038397          0.040846  24.482360\n",
       "999 -0.631297  True  2.827298          0.243468   4.107323\n",
       "\n",
       "[1000 rows x 5 columns]"
      ]
     },
     "execution_count": 7,
     "metadata": {},
     "output_type": "execute_result"
    }
   ],
   "source": [
    "cdf_1"
   ]
  },
  {
   "cell_type": "markdown",
   "metadata": {},
   "source": [
    "## Comparing the estimate to Linear Regression\n",
    "First, estimating the effect using the causal data frame, and the 95% confidence interval."
   ]
  },
  {
   "cell_type": "code",
   "execution_count": 8,
   "metadata": {
    "execution": {
     "iopub.execute_input": "2023-05-16T15:33:57.143898Z",
     "iopub.status.busy": "2023-05-16T15:33:57.143585Z",
     "iopub.status.idle": "2023-05-16T15:33:57.200656Z",
     "shell.execute_reply": "2023-05-16T15:33:57.200068Z"
    }
   },
   "outputs": [
    {
     "data": {
      "image/png": "[encoded data removed]",
      "text/latex": [
       "$\\displaystyle 4.48785870097125$"
      ],
      "text/plain": [
       "4.487858700971252"
      ]
     },
     "execution_count": 8,
     "metadata": {},
     "output_type": "execute_result"
    }
   ],
   "source": [
    "(cdf_1['y'] - cdf_0['y']).mean()"
   ]
  },
  {
   "cell_type": "code",
   "execution_count": 9,
   "metadata": {
    "execution": {
     "iopub.execute_input": "2023-05-16T15:33:57.203355Z",
     "iopub.status.busy": "2023-05-16T15:33:57.203012Z",
     "iopub.status.idle": "2023-05-16T15:33:57.222792Z",
     "shell.execute_reply": "2023-05-16T15:33:57.222168Z"
    }
   },
   "outputs": [
    {
     "data": {
      "image/png": "[encoded data removed]",
      "text/latex": [
       "$\\displaystyle 0.18229913739584$"
      ],
      "text/plain": [
       "0.18229913739583958"
      ]
     },
     "execution_count": 9,
     "metadata": {},
     "output_type": "execute_result"
    }
   ],
   "source": [
    "1.96*(cdf_1['y'] - cdf_0['y']).std() / np.sqrt(len(df))"
   ]
  },
  {
   "cell_type": "markdown",
   "metadata": {},
   "source": [
    "Comparing to the estimate from OLS."
   ]
  },
  {
   "cell_type": "code",
   "execution_count": 10,
   "metadata": {
    "execution": {
     "iopub.execute_input": "2023-05-16T15:33:57.225659Z",
     "iopub.status.busy": "2023-05-16T15:33:57.225108Z",
     "iopub.status.idle": "2023-05-16T15:33:57.238604Z",
     "shell.execute_reply": "2023-05-16T15:33:57.237988Z"
    }
   },
   "outputs": [
    {
     "data": {
      "text/html": [
       "<table class=\"simpletable\">\n",
       "<caption>OLS Regression Results</caption>\n",
       "<tr>\n",
       "  <th>Dep. Variable:</th>            <td>y</td>        <th>  R-squared (uncentered):</th>      <td>   0.931</td>\n",
       "</tr>\n",
       "<tr>\n",
       "  <th>Model:</th>                   <td>OLS</td>       <th>  Adj. R-squared (uncentered):</th> <td>   0.931</td>\n",
       "</tr>\n",
       "<tr>\n",
       "  <th>Method:</th>             <td>Least Squares</td>  <th>  F-statistic:       </th>          <td>   6760.</td>\n",
       "</tr>\n",
       "<tr>\n",
       "  <th>Date:</th>             <td>Tue, 16 May 2023</td> <th>  Prob (F-statistic):</th>           <td>  0.00</td> \n",
       "</tr>\n",
       "<tr>\n",
       "  <th>Time:</th>                 <td>15:33:57</td>     <th>  Log-Likelihood:    </th>          <td> -1405.0</td>\n",
       "</tr>\n",
       "<tr>\n",
       "  <th>No. Observations:</th>      <td>  1000</td>      <th>  AIC:               </th>          <td>   2814.</td>\n",
       "</tr>\n",
       "<tr>\n",
       "  <th>Df Residuals:</th>          <td>   998</td>      <th>  BIC:               </th>          <td>   2824.</td>\n",
       "</tr>\n",
       "<tr>\n",
       "  <th>Df Model:</th>              <td>     2</td>      <th>                     </th>              <td> </td>   \n",
       "</tr>\n",
       "<tr>\n",
       "  <th>Covariance Type:</th>      <td>nonrobust</td>    <th>                     </th>              <td> </td>   \n",
       "</tr>\n",
       "</table>\n",
       "<table class=\"simpletable\">\n",
       "<tr>\n",
       "   <td></td>     <th>coef</th>     <th>std err</th>      <th>t</th>      <th>P>|t|</th>  <th>[0.025</th>    <th>0.975]</th>  \n",
       "</tr>\n",
       "<tr>\n",
       "  <th>x1</th> <td>    1.8807</td> <td>    0.026</td> <td>   72.060</td> <td> 0.000</td> <td>    1.829</td> <td>    1.932</td>\n",
       "</tr>\n",
       "<tr>\n",
       "  <th>x2</th> <td>    4.8472</td> <td>    0.056</td> <td>   86.410</td> <td> 0.000</td> <td>    4.737</td> <td>    4.957</td>\n",
       "</tr>\n",
       "</table>\n",
       "<table class=\"simpletable\">\n",
       "<tr>\n",
       "  <th>Omnibus:</th>       <td> 0.348</td> <th>  Durbin-Watson:     </th> <td>   2.015</td>\n",
       "</tr>\n",
       "<tr>\n",
       "  <th>Prob(Omnibus):</th> <td> 0.840</td> <th>  Jarque-Bera (JB):  </th> <td>   0.240</td>\n",
       "</tr>\n",
       "<tr>\n",
       "  <th>Skew:</th>          <td> 0.010</td> <th>  Prob(JB):          </th> <td>   0.887</td>\n",
       "</tr>\n",
       "<tr>\n",
       "  <th>Kurtosis:</th>      <td> 3.073</td> <th>  Cond. No.          </th> <td>    2.16</td>\n",
       "</tr>\n",
       "</table><br/><br/>Notes:<br/>[1] R² is computed without centering (uncentered) since the model does not contain a constant.<br/>[2] Standard Errors assume that the covariance matrix of the errors is correctly specified."
      ],
      "text/plain": [
       "<class 'statsmodels.iolib.summary.Summary'>\n",
       "\"\"\"\n",
       "                                 OLS Regression Results                                \n",
       "=======================================================================================\n",
       "Dep. Variable:                      y   R-squared (uncentered):                   0.931\n",
       "Model:                            OLS   Adj. R-squared (uncentered):              0.931\n",
       "Method:                 Least Squares   F-statistic:                              6760.\n",
       "Date:                Tue, 16 May 2023   Prob (F-statistic):                        0.00\n",
       "Time:                        15:33:57   Log-Likelihood:                         -1405.0\n",
       "No. Observations:                1000   AIC:                                      2814.\n",
       "Df Residuals:                     998   BIC:                                      2824.\n",
       "Df Model:                           2                                                  \n",
       "Covariance Type:            nonrobust                                                  \n",
       "==============================================================================\n",
       "                 coef    std err          t      P>|t|      [0.025      0.975]\n",
       "------------------------------------------------------------------------------\n",
       "x1             1.8807      0.026     72.060      0.000       1.829       1.932\n",
       "x2             4.8472      0.056     86.410      0.000       4.737       4.957\n",
       "==============================================================================\n",
       "Omnibus:                        0.348   Durbin-Watson:                   2.015\n",
       "Prob(Omnibus):                  0.840   Jarque-Bera (JB):                0.240\n",
       "Skew:                           0.010   Prob(JB):                        0.887\n",
       "Kurtosis:                       3.073   Cond. No.                         2.16\n",
       "==============================================================================\n",
       "\n",
       "Notes:\n",
       "[1] R² is computed without centering (uncentered) since the model does not contain a constant.\n",
       "[2] Standard Errors assume that the covariance matrix of the errors is correctly specified.\n",
       "\"\"\""
      ]
     },
     "execution_count": 10,
     "metadata": {},
     "output_type": "execute_result"
    }
   ],
   "source": [
    "model = OLS(np.asarray(df[outcome]), np.asarray(df[[common_cause, treatment]], dtype=np.float64))\n",
    "result = model.fit()\n",
    "result.summary()"
   ]
  }
 ],
 "metadata": {
  "kernelspec": {
   "display_name": "Python 3",
   "language": "python",
   "name": "python3"
  },
  "language_info": {
   "codemirror_mode": {
    "name": "ipython",
    "version": 3
   },
   "file_extension": ".py",
   "mimetype": "text/x-python",
   "name": "python",
   "nbconvert_exporter": "python",
   "pygments_lexer": "ipython3",
   "version": "3.8.10"
  },
  "toc": {
   "base_numbering": 1,
   "nav_menu": {},
   "number_sections": false,
   "sideBar": true,
   "skip_h1_title": true,
   "title_cell": "Table of Contents",
   "title_sidebar": "Contents",
   "toc_cell": false,
   "toc_position": {},
   "toc_section_display": true,
   "toc_window_display": false
  }
 },
 "nbformat": 4,
 "nbformat_minor": 4
}
