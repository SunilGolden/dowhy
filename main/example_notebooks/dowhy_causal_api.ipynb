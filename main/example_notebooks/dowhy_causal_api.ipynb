{
 "cells": [
  {
   "cell_type": "markdown",
   "metadata": {},
   "source": [
    "# Demo for the DoWhy causal API\n",
    "We show a simple example of adding a causal extension to any dataframe. "
   ]
  },
  {
   "cell_type": "code",
   "execution_count": 1,
   "metadata": {
    "execution": {
     "iopub.execute_input": "2023-03-07T16:36:16.673629Z",
     "iopub.status.busy": "2023-03-07T16:36:16.673395Z",
     "iopub.status.idle": "2023-03-07T16:36:18.415745Z",
     "shell.execute_reply": "2023-03-07T16:36:18.414955Z"
    }
   },
   "outputs": [],
   "source": [
    "import dowhy.datasets\n",
    "import dowhy.api\n",
    "\n",
    "import numpy as np\n",
    "import pandas as pd\n",
    "\n",
    "from statsmodels.api import OLS"
   ]
  },
  {
   "cell_type": "code",
   "execution_count": 2,
   "metadata": {
    "execution": {
     "iopub.execute_input": "2023-03-07T16:36:18.419854Z",
     "iopub.status.busy": "2023-03-07T16:36:18.419247Z",
     "iopub.status.idle": "2023-03-07T16:36:18.464308Z",
     "shell.execute_reply": "2023-03-07T16:36:18.463465Z"
    }
   },
   "outputs": [
    {
     "data": {
      "text/html": [
       "<div>\n",
       "<style scoped>\n",
       "    .dataframe tbody tr th:only-of-type {\n",
       "        vertical-align: middle;\n",
       "    }\n",
       "\n",
       "    .dataframe tbody tr th {\n",
       "        vertical-align: top;\n",
       "    }\n",
       "\n",
       "    .dataframe thead th {\n",
       "        text-align: right;\n",
       "    }\n",
       "</style>\n",
       "<table border=\"1\" class=\"dataframe\">\n",
       "  <thead>\n",
       "    <tr style=\"text-align: right;\">\n",
       "      <th></th>\n",
       "      <th>W0</th>\n",
       "      <th>v0</th>\n",
       "      <th>y</th>\n",
       "    </tr>\n",
       "  </thead>\n",
       "  <tbody>\n",
       "    <tr>\n",
       "      <th>0</th>\n",
       "      <td>0.637284</td>\n",
       "      <td>True</td>\n",
       "      <td>7.923262</td>\n",
       "    </tr>\n",
       "    <tr>\n",
       "      <th>1</th>\n",
       "      <td>2.002730</td>\n",
       "      <td>True</td>\n",
       "      <td>10.278331</td>\n",
       "    </tr>\n",
       "    <tr>\n",
       "      <th>2</th>\n",
       "      <td>2.218463</td>\n",
       "      <td>True</td>\n",
       "      <td>10.735905</td>\n",
       "    </tr>\n",
       "    <tr>\n",
       "      <th>3</th>\n",
       "      <td>2.041385</td>\n",
       "      <td>True</td>\n",
       "      <td>10.419662</td>\n",
       "    </tr>\n",
       "    <tr>\n",
       "      <th>4</th>\n",
       "      <td>1.177200</td>\n",
       "      <td>True</td>\n",
       "      <td>9.211657</td>\n",
       "    </tr>\n",
       "    <tr>\n",
       "      <th>...</th>\n",
       "      <td>...</td>\n",
       "      <td>...</td>\n",
       "      <td>...</td>\n",
       "    </tr>\n",
       "    <tr>\n",
       "      <th>995</th>\n",
       "      <td>2.084789</td>\n",
       "      <td>True</td>\n",
       "      <td>10.864462</td>\n",
       "    </tr>\n",
       "    <tr>\n",
       "      <th>996</th>\n",
       "      <td>0.301008</td>\n",
       "      <td>True</td>\n",
       "      <td>6.174388</td>\n",
       "    </tr>\n",
       "    <tr>\n",
       "      <th>997</th>\n",
       "      <td>1.010671</td>\n",
       "      <td>True</td>\n",
       "      <td>8.414973</td>\n",
       "    </tr>\n",
       "    <tr>\n",
       "      <th>998</th>\n",
       "      <td>0.620033</td>\n",
       "      <td>True</td>\n",
       "      <td>8.476532</td>\n",
       "    </tr>\n",
       "    <tr>\n",
       "      <th>999</th>\n",
       "      <td>1.991745</td>\n",
       "      <td>True</td>\n",
       "      <td>11.491283</td>\n",
       "    </tr>\n",
       "  </tbody>\n",
       "</table>\n",
       "<p>1000 rows × 3 columns</p>\n",
       "</div>"
      ],
      "text/plain": [
       "           W0    v0          y\n",
       "0    0.637284  True   7.923262\n",
       "1    2.002730  True  10.278331\n",
       "2    2.218463  True  10.735905\n",
       "3    2.041385  True  10.419662\n",
       "4    1.177200  True   9.211657\n",
       "..        ...   ...        ...\n",
       "995  2.084789  True  10.864462\n",
       "996  0.301008  True   6.174388\n",
       "997  1.010671  True   8.414973\n",
       "998  0.620033  True   8.476532\n",
       "999  1.991745  True  11.491283\n",
       "\n",
       "[1000 rows x 3 columns]"
      ]
     },
     "execution_count": 2,
     "metadata": {},
     "output_type": "execute_result"
    }
   ],
   "source": [
    "data = dowhy.datasets.linear_dataset(beta=5,\n",
    "        num_common_causes=1,\n",
    "        num_instruments = 0,\n",
    "        num_samples=1000,\n",
    "        treatment_is_binary=True)\n",
    "df = data['df']\n",
    "df['y'] = df['y'] + np.random.normal(size=len(df)) # Adding noise to data. Without noise, the variance in Y|X, Z is zero, and mcmc fails.\n",
    "#data['dot_graph'] = 'digraph { v ->y;X0-> v;X0-> y;}'\n",
    "\n",
    "treatment= data[\"treatment_name\"][0]\n",
    "outcome = data[\"outcome_name\"][0]\n",
    "common_cause = data[\"common_causes_names\"][0]\n",
    "df"
   ]
  },
  {
   "cell_type": "code",
   "execution_count": 3,
   "metadata": {
    "execution": {
     "iopub.execute_input": "2023-03-07T16:36:18.467604Z",
     "iopub.status.busy": "2023-03-07T16:36:18.467196Z",
     "iopub.status.idle": "2023-03-07T16:36:18.634747Z",
     "shell.execute_reply": "2023-03-07T16:36:18.634166Z"
    }
   },
   "outputs": [
    {
     "data": {
      "text/plain": [
       "<AxesSubplot: xlabel='v0'>"
      ]
     },
     "execution_count": 3,
     "metadata": {},
     "output_type": "execute_result"
    },
    {
     "data": {
      "image/png": "[encoded data removed]",
      "text/plain": [
       "<Figure size 640x480 with 1 Axes>"
      ]
     },
     "metadata": {},
     "output_type": "display_data"
    }
   ],
   "source": [
    "# data['df'] is just a regular pandas.DataFrame\n",
    "df.causal.do(x=treatment,\n",
    "                     variable_types={treatment: 'b', outcome: 'c', common_cause: 'c'},\n",
    "                     outcome=outcome,\n",
    "                     common_causes=[common_cause],\n",
    "                     proceed_when_unidentifiable=True).groupby(treatment).mean().plot(y=outcome, kind='bar')"
   ]
  },
  {
   "cell_type": "code",
   "execution_count": 4,
   "metadata": {
    "execution": {
     "iopub.execute_input": "2023-03-07T16:36:18.637830Z",
     "iopub.status.busy": "2023-03-07T16:36:18.637358Z",
     "iopub.status.idle": "2023-03-07T16:36:18.873362Z",
     "shell.execute_reply": "2023-03-07T16:36:18.872767Z"
    }
   },
   "outputs": [
    {
     "data": {
      "text/plain": [
       "<AxesSubplot: xlabel='v0'>"
      ]
     },
     "execution_count": 4,
     "metadata": {},
     "output_type": "execute_result"
    },
    {
     "data": {
      "image/png": "[encoded data removed]",
      "text/plain": [
       "<Figure size 640x480 with 1 Axes>"
      ]
     },
     "metadata": {},
     "output_type": "display_data"
    }
   ],
   "source": [
    "df.causal.do(x={treatment: 1}, \n",
    "              variable_types={treatment:'b', outcome: 'c', common_cause: 'c'}, \n",
    "              outcome=outcome,\n",
    "              method='weighting', \n",
    "              common_causes=[common_cause],\n",
    "              proceed_when_unidentifiable=True).groupby(treatment).mean().plot(y=outcome, kind='bar')"
   ]
  },
  {
   "cell_type": "code",
   "execution_count": 5,
   "metadata": {
    "execution": {
     "iopub.execute_input": "2023-03-07T16:36:18.876650Z",
     "iopub.status.busy": "2023-03-07T16:36:18.876118Z",
     "iopub.status.idle": "2023-03-07T16:36:18.909339Z",
     "shell.execute_reply": "2023-03-07T16:36:18.908433Z"
    }
   },
   "outputs": [],
   "source": [
    "cdf_1 = df.causal.do(x={treatment: 1}, \n",
    "              variable_types={treatment: 'b', outcome: 'c', common_cause: 'c'}, \n",
    "              outcome=outcome, \n",
    "              dot_graph=data['dot_graph'],\n",
    "              proceed_when_unidentifiable=True)\n",
    "\n",
    "cdf_0 = df.causal.do(x={treatment: 0}, \n",
    "              variable_types={treatment: 'b', outcome: 'c', common_cause: 'c'}, \n",
    "              outcome=outcome, \n",
    "              dot_graph=data['dot_graph'],\n",
    "              proceed_when_unidentifiable=True)\n"
   ]
  },
  {
   "cell_type": "code",
   "execution_count": 6,
   "metadata": {
    "execution": {
     "iopub.execute_input": "2023-03-07T16:36:18.913169Z",
     "iopub.status.busy": "2023-03-07T16:36:18.912675Z",
     "iopub.status.idle": "2023-03-07T16:36:18.924951Z",
     "shell.execute_reply": "2023-03-07T16:36:18.924159Z"
    },
    "scrolled": true
   },
   "outputs": [
    {
     "data": {
      "text/html": [
       "<div>\n",
       "<style scoped>\n",
       "    .dataframe tbody tr th:only-of-type {\n",
       "        vertical-align: middle;\n",
       "    }\n",
       "\n",
       "    .dataframe tbody tr th {\n",
       "        vertical-align: top;\n",
       "    }\n",
       "\n",
       "    .dataframe thead th {\n",
       "        text-align: right;\n",
       "    }\n",
       "</style>\n",
       "<table border=\"1\" class=\"dataframe\">\n",
       "  <thead>\n",
       "    <tr style=\"text-align: right;\">\n",
       "      <th></th>\n",
       "      <th>W0</th>\n",
       "      <th>v0</th>\n",
       "      <th>y</th>\n",
       "      <th>propensity_score</th>\n",
       "      <th>weight</th>\n",
       "    </tr>\n",
       "  </thead>\n",
       "  <tbody>\n",
       "    <tr>\n",
       "      <th>0</th>\n",
       "      <td>-0.422300</td>\n",
       "      <td>False</td>\n",
       "      <td>-2.121897</td>\n",
       "      <td>0.590347</td>\n",
       "      <td>1.693920</td>\n",
       "    </tr>\n",
       "    <tr>\n",
       "      <th>1</th>\n",
       "      <td>1.931941</td>\n",
       "      <td>False</td>\n",
       "      <td>4.574001</td>\n",
       "      <td>0.084440</td>\n",
       "      <td>11.842660</td>\n",
       "    </tr>\n",
       "    <tr>\n",
       "      <th>2</th>\n",
       "      <td>-0.205387</td>\n",
       "      <td>False</td>\n",
       "      <td>-0.444295</td>\n",
       "      <td>0.528002</td>\n",
       "      <td>1.893933</td>\n",
       "    </tr>\n",
       "    <tr>\n",
       "      <th>3</th>\n",
       "      <td>-0.683738</td>\n",
       "      <td>False</td>\n",
       "      <td>-1.308948</td>\n",
       "      <td>0.661652</td>\n",
       "      <td>1.511370</td>\n",
       "    </tr>\n",
       "    <tr>\n",
       "      <th>4</th>\n",
       "      <td>0.601662</td>\n",
       "      <td>False</td>\n",
       "      <td>1.670238</td>\n",
       "      <td>0.303600</td>\n",
       "      <td>3.293805</td>\n",
       "    </tr>\n",
       "    <tr>\n",
       "      <th>...</th>\n",
       "      <td>...</td>\n",
       "      <td>...</td>\n",
       "      <td>...</td>\n",
       "      <td>...</td>\n",
       "      <td>...</td>\n",
       "    </tr>\n",
       "    <tr>\n",
       "      <th>995</th>\n",
       "      <td>1.143572</td>\n",
       "      <td>False</td>\n",
       "      <td>2.643427</td>\n",
       "      <td>0.188015</td>\n",
       "      <td>5.318738</td>\n",
       "    </tr>\n",
       "    <tr>\n",
       "      <th>996</th>\n",
       "      <td>-1.270351</td>\n",
       "      <td>False</td>\n",
       "      <td>-3.826237</td>\n",
       "      <td>0.795045</td>\n",
       "      <td>1.257790</td>\n",
       "    </tr>\n",
       "    <tr>\n",
       "      <th>997</th>\n",
       "      <td>1.136317</td>\n",
       "      <td>False</td>\n",
       "      <td>2.288365</td>\n",
       "      <td>0.189311</td>\n",
       "      <td>5.282306</td>\n",
       "    </tr>\n",
       "    <tr>\n",
       "      <th>998</th>\n",
       "      <td>-0.701848</td>\n",
       "      <td>False</td>\n",
       "      <td>-3.422370</td>\n",
       "      <td>0.666369</td>\n",
       "      <td>1.500670</td>\n",
       "    </tr>\n",
       "    <tr>\n",
       "      <th>999</th>\n",
       "      <td>0.594827</td>\n",
       "      <td>False</td>\n",
       "      <td>2.010836</td>\n",
       "      <td>0.305290</td>\n",
       "      <td>3.275572</td>\n",
       "    </tr>\n",
       "  </tbody>\n",
       "</table>\n",
       "<p>1000 rows × 5 columns</p>\n",
       "</div>"
      ],
      "text/plain": [
       "           W0     v0         y  propensity_score     weight\n",
       "0   -0.422300  False -2.121897          0.590347   1.693920\n",
       "1    1.931941  False  4.574001          0.084440  11.842660\n",
       "2   -0.205387  False -0.444295          0.528002   1.893933\n",
       "3   -0.683738  False -1.308948          0.661652   1.511370\n",
       "4    0.601662  False  1.670238          0.303600   3.293805\n",
       "..        ...    ...       ...               ...        ...\n",
       "995  1.143572  False  2.643427          0.188015   5.318738\n",
       "996 -1.270351  False -3.826237          0.795045   1.257790\n",
       "997  1.136317  False  2.288365          0.189311   5.282306\n",
       "998 -0.701848  False -3.422370          0.666369   1.500670\n",
       "999  0.594827  False  2.010836          0.305290   3.275572\n",
       "\n",
       "[1000 rows x 5 columns]"
      ]
     },
     "execution_count": 6,
     "metadata": {},
     "output_type": "execute_result"
    }
   ],
   "source": [
    "cdf_0"
   ]
  },
  {
   "cell_type": "code",
   "execution_count": 7,
   "metadata": {
    "execution": {
     "iopub.execute_input": "2023-03-07T16:36:18.929270Z",
     "iopub.status.busy": "2023-03-07T16:36:18.928722Z",
     "iopub.status.idle": "2023-03-07T16:36:18.940461Z",
     "shell.execute_reply": "2023-03-07T16:36:18.939677Z"
    }
   },
   "outputs": [
    {
     "data": {
      "text/html": [
       "<div>\n",
       "<style scoped>\n",
       "    .dataframe tbody tr th:only-of-type {\n",
       "        vertical-align: middle;\n",
       "    }\n",
       "\n",
       "    .dataframe tbody tr th {\n",
       "        vertical-align: top;\n",
       "    }\n",
       "\n",
       "    .dataframe thead th {\n",
       "        text-align: right;\n",
       "    }\n",
       "</style>\n",
       "<table border=\"1\" class=\"dataframe\">\n",
       "  <thead>\n",
       "    <tr style=\"text-align: right;\">\n",
       "      <th></th>\n",
       "      <th>W0</th>\n",
       "      <th>v0</th>\n",
       "      <th>y</th>\n",
       "      <th>propensity_score</th>\n",
       "      <th>weight</th>\n",
       "    </tr>\n",
       "  </thead>\n",
       "  <tbody>\n",
       "    <tr>\n",
       "      <th>0</th>\n",
       "      <td>0.660200</td>\n",
       "      <td>True</td>\n",
       "      <td>7.058766</td>\n",
       "      <td>0.710654</td>\n",
       "      <td>1.407155</td>\n",
       "    </tr>\n",
       "    <tr>\n",
       "      <th>1</th>\n",
       "      <td>0.855177</td>\n",
       "      <td>True</td>\n",
       "      <td>7.726555</td>\n",
       "      <td>0.755141</td>\n",
       "      <td>1.324255</td>\n",
       "    </tr>\n",
       "    <tr>\n",
       "      <th>2</th>\n",
       "      <td>1.800183</td>\n",
       "      <td>True</td>\n",
       "      <td>11.033382</td>\n",
       "      <td>0.902880</td>\n",
       "      <td>1.107567</td>\n",
       "    </tr>\n",
       "    <tr>\n",
       "      <th>3</th>\n",
       "      <td>-2.633953</td>\n",
       "      <td>True</td>\n",
       "      <td>-0.358016</td>\n",
       "      <td>0.049841</td>\n",
       "      <td>20.063887</td>\n",
       "    </tr>\n",
       "    <tr>\n",
       "      <th>4</th>\n",
       "      <td>0.665308</td>\n",
       "      <td>True</td>\n",
       "      <td>8.177646</td>\n",
       "      <td>0.711879</td>\n",
       "      <td>1.404733</td>\n",
       "    </tr>\n",
       "    <tr>\n",
       "      <th>...</th>\n",
       "      <td>...</td>\n",
       "      <td>...</td>\n",
       "      <td>...</td>\n",
       "      <td>...</td>\n",
       "      <td>...</td>\n",
       "    </tr>\n",
       "    <tr>\n",
       "      <th>995</th>\n",
       "      <td>0.452771</td>\n",
       "      <td>True</td>\n",
       "      <td>6.764424</td>\n",
       "      <td>0.658443</td>\n",
       "      <td>1.518735</td>\n",
       "    </tr>\n",
       "    <tr>\n",
       "      <th>996</th>\n",
       "      <td>-0.739938</td>\n",
       "      <td>True</td>\n",
       "      <td>2.894201</td>\n",
       "      <td>0.323818</td>\n",
       "      <td>3.088159</td>\n",
       "    </tr>\n",
       "    <tr>\n",
       "      <th>997</th>\n",
       "      <td>0.847735</td>\n",
       "      <td>True</td>\n",
       "      <td>8.319765</td>\n",
       "      <td>0.753531</td>\n",
       "      <td>1.327085</td>\n",
       "    </tr>\n",
       "    <tr>\n",
       "      <th>998</th>\n",
       "      <td>-0.089163</td>\n",
       "      <td>True</td>\n",
       "      <td>4.466310</td>\n",
       "      <td>0.505895</td>\n",
       "      <td>1.976693</td>\n",
       "    </tr>\n",
       "    <tr>\n",
       "      <th>999</th>\n",
       "      <td>1.029726</td>\n",
       "      <td>True</td>\n",
       "      <td>6.849324</td>\n",
       "      <td>0.790846</td>\n",
       "      <td>1.264469</td>\n",
       "    </tr>\n",
       "  </tbody>\n",
       "</table>\n",
       "<p>1000 rows × 5 columns</p>\n",
       "</div>"
      ],
      "text/plain": [
       "           W0    v0          y  propensity_score     weight\n",
       "0    0.660200  True   7.058766          0.710654   1.407155\n",
       "1    0.855177  True   7.726555          0.755141   1.324255\n",
       "2    1.800183  True  11.033382          0.902880   1.107567\n",
       "3   -2.633953  True  -0.358016          0.049841  20.063887\n",
       "4    0.665308  True   8.177646          0.711879   1.404733\n",
       "..        ...   ...        ...               ...        ...\n",
       "995  0.452771  True   6.764424          0.658443   1.518735\n",
       "996 -0.739938  True   2.894201          0.323818   3.088159\n",
       "997  0.847735  True   8.319765          0.753531   1.327085\n",
       "998 -0.089163  True   4.466310          0.505895   1.976693\n",
       "999  1.029726  True   6.849324          0.790846   1.264469\n",
       "\n",
       "[1000 rows x 5 columns]"
      ]
     },
     "execution_count": 7,
     "metadata": {},
     "output_type": "execute_result"
    }
   ],
   "source": [
    "cdf_1"
   ]
  },
  {
   "cell_type": "markdown",
   "metadata": {},
   "source": [
    "## Comparing the estimate to Linear Regression\n",
    "First, estimating the effect using the causal data frame, and the 95% confidence interval."
   ]
  },
  {
   "cell_type": "code",
   "execution_count": 8,
   "metadata": {
    "execution": {
     "iopub.execute_input": "2023-03-07T16:36:18.945011Z",
     "iopub.status.busy": "2023-03-07T16:36:18.944332Z",
     "iopub.status.idle": "2023-03-07T16:36:19.005175Z",
     "shell.execute_reply": "2023-03-07T16:36:19.004366Z"
    }
   },
   "outputs": [
    {
     "data": {
      "image/png": "[encoded data removed]",
      "text/latex": [
       "$\\displaystyle 5.14702260923736$"
      ],
      "text/plain": [
       "5.147022609237361"
      ]
     },
     "execution_count": 8,
     "metadata": {},
     "output_type": "execute_result"
    }
   ],
   "source": [
    "(cdf_1['y'] - cdf_0['y']).mean()"
   ]
  },
  {
   "cell_type": "code",
   "execution_count": 9,
   "metadata": {
    "execution": {
     "iopub.execute_input": "2023-03-07T16:36:19.008863Z",
     "iopub.status.busy": "2023-03-07T16:36:19.008235Z",
     "iopub.status.idle": "2023-03-07T16:36:19.031233Z",
     "shell.execute_reply": "2023-03-07T16:36:19.030408Z"
    }
   },
   "outputs": [
    {
     "data": {
      "image/png": "[encoded data removed]",
      "text/latex": [
       "$\\displaystyle 0.235676284858945$"
      ],
      "text/plain": [
       "0.23567628485894548"
      ]
     },
     "execution_count": 9,
     "metadata": {},
     "output_type": "execute_result"
    }
   ],
   "source": [
    "1.96*(cdf_1['y'] - cdf_0['y']).std() / np.sqrt(len(df))"
   ]
  },
  {
   "cell_type": "markdown",
   "metadata": {},
   "source": [
    "Comparing to the estimate from OLS."
   ]
  },
  {
   "cell_type": "code",
   "execution_count": 10,
   "metadata": {
    "execution": {
     "iopub.execute_input": "2023-03-07T16:36:19.035477Z",
     "iopub.status.busy": "2023-03-07T16:36:19.035033Z",
     "iopub.status.idle": "2023-03-07T16:36:19.051739Z",
     "shell.execute_reply": "2023-03-07T16:36:19.050916Z"
    }
   },
   "outputs": [
    {
     "data": {
      "text/html": [
       "<table class=\"simpletable\">\n",
       "<caption>OLS Regression Results</caption>\n",
       "<tr>\n",
       "  <th>Dep. Variable:</th>            <td>y</td>        <th>  R-squared (uncentered):</th>      <td>   0.977</td> \n",
       "</tr>\n",
       "<tr>\n",
       "  <th>Model:</th>                   <td>OLS</td>       <th>  Adj. R-squared (uncentered):</th> <td>   0.977</td> \n",
       "</tr>\n",
       "<tr>\n",
       "  <th>Method:</th>             <td>Least Squares</td>  <th>  F-statistic:       </th>          <td>2.084e+04</td>\n",
       "</tr>\n",
       "<tr>\n",
       "  <th>Date:</th>             <td>Tue, 07 Mar 2023</td> <th>  Prob (F-statistic):</th>           <td>  0.00</td>  \n",
       "</tr>\n",
       "<tr>\n",
       "  <th>Time:</th>                 <td>16:36:19</td>     <th>  Log-Likelihood:    </th>          <td> -1434.7</td> \n",
       "</tr>\n",
       "<tr>\n",
       "  <th>No. Observations:</th>      <td>  1000</td>      <th>  AIC:               </th>          <td>   2873.</td> \n",
       "</tr>\n",
       "<tr>\n",
       "  <th>Df Residuals:</th>          <td>   998</td>      <th>  BIC:               </th>          <td>   2883.</td> \n",
       "</tr>\n",
       "<tr>\n",
       "  <th>Df Model:</th>              <td>     2</td>      <th>                     </th>              <td> </td>    \n",
       "</tr>\n",
       "<tr>\n",
       "  <th>Covariance Type:</th>      <td>nonrobust</td>    <th>                     </th>              <td> </td>    \n",
       "</tr>\n",
       "</table>\n",
       "<table class=\"simpletable\">\n",
       "<tr>\n",
       "   <td></td>     <th>coef</th>     <th>std err</th>      <th>t</th>      <th>P>|t|</th>  <th>[0.025</th>    <th>0.975]</th>  \n",
       "</tr>\n",
       "<tr>\n",
       "  <th>x1</th> <td>    2.6815</td> <td>    0.037</td> <td>   72.109</td> <td> 0.000</td> <td>    2.609</td> <td>    2.754</td>\n",
       "</tr>\n",
       "<tr>\n",
       "  <th>x2</th> <td>    5.0029</td> <td>    0.052</td> <td>   95.455</td> <td> 0.000</td> <td>    4.900</td> <td>    5.106</td>\n",
       "</tr>\n",
       "</table>\n",
       "<table class=\"simpletable\">\n",
       "<tr>\n",
       "  <th>Omnibus:</th>       <td> 3.623</td> <th>  Durbin-Watson:     </th> <td>   2.044</td>\n",
       "</tr>\n",
       "<tr>\n",
       "  <th>Prob(Omnibus):</th> <td> 0.163</td> <th>  Jarque-Bera (JB):  </th> <td>   3.506</td>\n",
       "</tr>\n",
       "<tr>\n",
       "  <th>Skew:</th>          <td> 0.141</td> <th>  Prob(JB):          </th> <td>   0.173</td>\n",
       "</tr>\n",
       "<tr>\n",
       "  <th>Kurtosis:</th>      <td> 3.066</td> <th>  Cond. No.          </th> <td>    2.41</td>\n",
       "</tr>\n",
       "</table><br/><br/>Notes:<br/>[1] R² is computed without centering (uncentered) since the model does not contain a constant.<br/>[2] Standard Errors assume that the covariance matrix of the errors is correctly specified."
      ],
      "text/plain": [
       "<class 'statsmodels.iolib.summary.Summary'>\n",
       "\"\"\"\n",
       "                                 OLS Regression Results                                \n",
       "=======================================================================================\n",
       "Dep. Variable:                      y   R-squared (uncentered):                   0.977\n",
       "Model:                            OLS   Adj. R-squared (uncentered):              0.977\n",
       "Method:                 Least Squares   F-statistic:                          2.084e+04\n",
       "Date:                Tue, 07 Mar 2023   Prob (F-statistic):                        0.00\n",
       "Time:                        16:36:19   Log-Likelihood:                         -1434.7\n",
       "No. Observations:                1000   AIC:                                      2873.\n",
       "Df Residuals:                     998   BIC:                                      2883.\n",
       "Df Model:                           2                                                  \n",
       "Covariance Type:            nonrobust                                                  \n",
       "==============================================================================\n",
       "                 coef    std err          t      P>|t|      [0.025      0.975]\n",
       "------------------------------------------------------------------------------\n",
       "x1             2.6815      0.037     72.109      0.000       2.609       2.754\n",
       "x2             5.0029      0.052     95.455      0.000       4.900       5.106\n",
       "==============================================================================\n",
       "Omnibus:                        3.623   Durbin-Watson:                   2.044\n",
       "Prob(Omnibus):                  0.163   Jarque-Bera (JB):                3.506\n",
       "Skew:                           0.141   Prob(JB):                        0.173\n",
       "Kurtosis:                       3.066   Cond. No.                         2.41\n",
       "==============================================================================\n",
       "\n",
       "Notes:\n",
       "[1] R² is computed without centering (uncentered) since the model does not contain a constant.\n",
       "[2] Standard Errors assume that the covariance matrix of the errors is correctly specified.\n",
       "\"\"\""
      ]
     },
     "execution_count": 10,
     "metadata": {},
     "output_type": "execute_result"
    }
   ],
   "source": [
    "model = OLS(np.asarray(df[outcome]), np.asarray(df[[common_cause, treatment]], dtype=np.float64))\n",
    "result = model.fit()\n",
    "result.summary()"
   ]
  }
 ],
 "metadata": {
  "kernelspec": {
   "display_name": "Python 3",
   "language": "python",
   "name": "python3"
  },
  "language_info": {
   "codemirror_mode": {
    "name": "ipython",
    "version": 3
   },
   "file_extension": ".py",
   "mimetype": "text/x-python",
   "name": "python",
   "nbconvert_exporter": "python",
   "pygments_lexer": "ipython3",
   "version": "3.8.10"
  },
  "toc": {
   "base_numbering": 1,
   "nav_menu": {},
   "number_sections": false,
   "sideBar": true,
   "skip_h1_title": true,
   "title_cell": "Table of Contents",
   "title_sidebar": "Contents",
   "toc_cell": false,
   "toc_position": {},
   "toc_section_display": true,
   "toc_window_display": false
  }
 },
 "nbformat": 4,
 "nbformat_minor": 4
}
