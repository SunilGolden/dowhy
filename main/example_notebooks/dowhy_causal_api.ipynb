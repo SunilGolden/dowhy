{
 "cells": [
  {
   "cell_type": "markdown",
   "metadata": {},
   "source": [
    "# Demo for the DoWhy causal API\n",
    "We show a simple example of adding a causal extension to any dataframe. "
   ]
  },
  {
   "cell_type": "code",
   "execution_count": 1,
   "metadata": {
    "execution": {
     "iopub.execute_input": "2023-03-30T22:24:15.656034Z",
     "iopub.status.busy": "2023-03-30T22:24:15.655774Z",
     "iopub.status.idle": "2023-03-30T22:24:17.389131Z",
     "shell.execute_reply": "2023-03-30T22:24:17.388370Z"
    }
   },
   "outputs": [],
   "source": [
    "import dowhy.datasets\n",
    "import dowhy.api\n",
    "\n",
    "import numpy as np\n",
    "import pandas as pd\n",
    "\n",
    "from statsmodels.api import OLS"
   ]
  },
  {
   "cell_type": "code",
   "execution_count": 2,
   "metadata": {
    "execution": {
     "iopub.execute_input": "2023-03-30T22:24:17.393438Z",
     "iopub.status.busy": "2023-03-30T22:24:17.392868Z",
     "iopub.status.idle": "2023-03-30T22:24:17.438292Z",
     "shell.execute_reply": "2023-03-30T22:24:17.437618Z"
    }
   },
   "outputs": [
    {
     "data": {
      "text/html": [
       "<div>\n",
       "<style scoped>\n",
       "    .dataframe tbody tr th:only-of-type {\n",
       "        vertical-align: middle;\n",
       "    }\n",
       "\n",
       "    .dataframe tbody tr th {\n",
       "        vertical-align: top;\n",
       "    }\n",
       "\n",
       "    .dataframe thead th {\n",
       "        text-align: right;\n",
       "    }\n",
       "</style>\n",
       "<table border=\"1\" class=\"dataframe\">\n",
       "  <thead>\n",
       "    <tr style=\"text-align: right;\">\n",
       "      <th></th>\n",
       "      <th>W0</th>\n",
       "      <th>v0</th>\n",
       "      <th>y</th>\n",
       "    </tr>\n",
       "  </thead>\n",
       "  <tbody>\n",
       "    <tr>\n",
       "      <th>0</th>\n",
       "      <td>1.252528</td>\n",
       "      <td>False</td>\n",
       "      <td>2.905986</td>\n",
       "    </tr>\n",
       "    <tr>\n",
       "      <th>1</th>\n",
       "      <td>-0.350872</td>\n",
       "      <td>False</td>\n",
       "      <td>-0.173224</td>\n",
       "    </tr>\n",
       "    <tr>\n",
       "      <th>2</th>\n",
       "      <td>0.841546</td>\n",
       "      <td>True</td>\n",
       "      <td>5.162669</td>\n",
       "    </tr>\n",
       "    <tr>\n",
       "      <th>3</th>\n",
       "      <td>-0.581652</td>\n",
       "      <td>False</td>\n",
       "      <td>1.213511</td>\n",
       "    </tr>\n",
       "    <tr>\n",
       "      <th>4</th>\n",
       "      <td>-0.327807</td>\n",
       "      <td>False</td>\n",
       "      <td>-1.154535</td>\n",
       "    </tr>\n",
       "    <tr>\n",
       "      <th>...</th>\n",
       "      <td>...</td>\n",
       "      <td>...</td>\n",
       "      <td>...</td>\n",
       "    </tr>\n",
       "    <tr>\n",
       "      <th>995</th>\n",
       "      <td>-0.653526</td>\n",
       "      <td>False</td>\n",
       "      <td>-1.079113</td>\n",
       "    </tr>\n",
       "    <tr>\n",
       "      <th>996</th>\n",
       "      <td>-0.234960</td>\n",
       "      <td>True</td>\n",
       "      <td>4.718533</td>\n",
       "    </tr>\n",
       "    <tr>\n",
       "      <th>997</th>\n",
       "      <td>1.412205</td>\n",
       "      <td>True</td>\n",
       "      <td>5.889408</td>\n",
       "    </tr>\n",
       "    <tr>\n",
       "      <th>998</th>\n",
       "      <td>-0.189010</td>\n",
       "      <td>False</td>\n",
       "      <td>0.604936</td>\n",
       "    </tr>\n",
       "    <tr>\n",
       "      <th>999</th>\n",
       "      <td>-0.818471</td>\n",
       "      <td>False</td>\n",
       "      <td>0.983163</td>\n",
       "    </tr>\n",
       "  </tbody>\n",
       "</table>\n",
       "<p>1000 rows × 3 columns</p>\n",
       "</div>"
      ],
      "text/plain": [
       "           W0     v0         y\n",
       "0    1.252528  False  2.905986\n",
       "1   -0.350872  False -0.173224\n",
       "2    0.841546   True  5.162669\n",
       "3   -0.581652  False  1.213511\n",
       "4   -0.327807  False -1.154535\n",
       "..        ...    ...       ...\n",
       "995 -0.653526  False -1.079113\n",
       "996 -0.234960   True  4.718533\n",
       "997  1.412205   True  5.889408\n",
       "998 -0.189010  False  0.604936\n",
       "999 -0.818471  False  0.983163\n",
       "\n",
       "[1000 rows x 3 columns]"
      ]
     },
     "execution_count": 2,
     "metadata": {},
     "output_type": "execute_result"
    }
   ],
   "source": [
    "data = dowhy.datasets.linear_dataset(beta=5,\n",
    "        num_common_causes=1,\n",
    "        num_instruments = 0,\n",
    "        num_samples=1000,\n",
    "        treatment_is_binary=True)\n",
    "df = data['df']\n",
    "df['y'] = df['y'] + np.random.normal(size=len(df)) # Adding noise to data. Without noise, the variance in Y|X, Z is zero, and mcmc fails.\n",
    "#data['dot_graph'] = 'digraph { v ->y;X0-> v;X0-> y;}'\n",
    "\n",
    "treatment= data[\"treatment_name\"][0]\n",
    "outcome = data[\"outcome_name\"][0]\n",
    "common_cause = data[\"common_causes_names\"][0]\n",
    "df"
   ]
  },
  {
   "cell_type": "code",
   "execution_count": 3,
   "metadata": {
    "execution": {
     "iopub.execute_input": "2023-03-30T22:24:17.441402Z",
     "iopub.status.busy": "2023-03-30T22:24:17.440948Z",
     "iopub.status.idle": "2023-03-30T22:24:17.602164Z",
     "shell.execute_reply": "2023-03-30T22:24:17.601548Z"
    }
   },
   "outputs": [
    {
     "data": {
      "text/plain": [
       "<AxesSubplot: xlabel='v0'>"
      ]
     },
     "execution_count": 3,
     "metadata": {},
     "output_type": "execute_result"
    },
    {
     "data": {
      "image/png": "[encoded data removed]",
      "text/plain": [
       "<Figure size 640x480 with 1 Axes>"
      ]
     },
     "metadata": {},
     "output_type": "display_data"
    }
   ],
   "source": [
    "# data['df'] is just a regular pandas.DataFrame\n",
    "df.causal.do(x=treatment,\n",
    "                     variable_types={treatment: 'b', outcome: 'c', common_cause: 'c'},\n",
    "                     outcome=outcome,\n",
    "                     common_causes=[common_cause],\n",
    "                     proceed_when_unidentifiable=True).groupby(treatment).mean().plot(y=outcome, kind='bar')"
   ]
  },
  {
   "cell_type": "code",
   "execution_count": 4,
   "metadata": {
    "execution": {
     "iopub.execute_input": "2023-03-30T22:24:17.605373Z",
     "iopub.status.busy": "2023-03-30T22:24:17.604730Z",
     "iopub.status.idle": "2023-03-30T22:24:17.723209Z",
     "shell.execute_reply": "2023-03-30T22:24:17.722618Z"
    }
   },
   "outputs": [
    {
     "data": {
      "text/plain": [
       "<AxesSubplot: xlabel='v0'>"
      ]
     },
     "execution_count": 4,
     "metadata": {},
     "output_type": "execute_result"
    },
    {
     "data": {
      "image/png": "[encoded data removed]",
      "text/plain": [
       "<Figure size 640x480 with 1 Axes>"
      ]
     },
     "metadata": {},
     "output_type": "display_data"
    }
   ],
   "source": [
    "df.causal.do(x={treatment: 1}, \n",
    "              variable_types={treatment:'b', outcome: 'c', common_cause: 'c'}, \n",
    "              outcome=outcome,\n",
    "              method='weighting', \n",
    "              common_causes=[common_cause],\n",
    "              proceed_when_unidentifiable=True).groupby(treatment).mean().plot(y=outcome, kind='bar')"
   ]
  },
  {
   "cell_type": "code",
   "execution_count": 5,
   "metadata": {
    "execution": {
     "iopub.execute_input": "2023-03-30T22:24:17.726347Z",
     "iopub.status.busy": "2023-03-30T22:24:17.725843Z",
     "iopub.status.idle": "2023-03-30T22:24:17.872222Z",
     "shell.execute_reply": "2023-03-30T22:24:17.871506Z"
    }
   },
   "outputs": [],
   "source": [
    "cdf_1 = df.causal.do(x={treatment: 1}, \n",
    "              variable_types={treatment: 'b', outcome: 'c', common_cause: 'c'}, \n",
    "              outcome=outcome, \n",
    "              dot_graph=data['dot_graph'],\n",
    "              proceed_when_unidentifiable=True)\n",
    "\n",
    "cdf_0 = df.causal.do(x={treatment: 0}, \n",
    "              variable_types={treatment: 'b', outcome: 'c', common_cause: 'c'}, \n",
    "              outcome=outcome, \n",
    "              dot_graph=data['dot_graph'],\n",
    "              proceed_when_unidentifiable=True)\n"
   ]
  },
  {
   "cell_type": "code",
   "execution_count": 6,
   "metadata": {
    "execution": {
     "iopub.execute_input": "2023-03-30T22:24:17.876246Z",
     "iopub.status.busy": "2023-03-30T22:24:17.875751Z",
     "iopub.status.idle": "2023-03-30T22:24:17.889027Z",
     "shell.execute_reply": "2023-03-30T22:24:17.888435Z"
    },
    "scrolled": true
   },
   "outputs": [
    {
     "data": {
      "text/html": [
       "<div>\n",
       "<style scoped>\n",
       "    .dataframe tbody tr th:only-of-type {\n",
       "        vertical-align: middle;\n",
       "    }\n",
       "\n",
       "    .dataframe tbody tr th {\n",
       "        vertical-align: top;\n",
       "    }\n",
       "\n",
       "    .dataframe thead th {\n",
       "        text-align: right;\n",
       "    }\n",
       "</style>\n",
       "<table border=\"1\" class=\"dataframe\">\n",
       "  <thead>\n",
       "    <tr style=\"text-align: right;\">\n",
       "      <th></th>\n",
       "      <th>W0</th>\n",
       "      <th>v0</th>\n",
       "      <th>y</th>\n",
       "      <th>propensity_score</th>\n",
       "      <th>weight</th>\n",
       "    </tr>\n",
       "  </thead>\n",
       "  <tbody>\n",
       "    <tr>\n",
       "      <th>0</th>\n",
       "      <td>-1.242615</td>\n",
       "      <td>False</td>\n",
       "      <td>0.907145</td>\n",
       "      <td>0.916226</td>\n",
       "      <td>1.091433</td>\n",
       "    </tr>\n",
       "    <tr>\n",
       "      <th>1</th>\n",
       "      <td>0.007415</td>\n",
       "      <td>False</td>\n",
       "      <td>0.687815</td>\n",
       "      <td>0.509663</td>\n",
       "      <td>1.962083</td>\n",
       "    </tr>\n",
       "    <tr>\n",
       "      <th>2</th>\n",
       "      <td>1.561557</td>\n",
       "      <td>False</td>\n",
       "      <td>-0.628148</td>\n",
       "      <td>0.052780</td>\n",
       "      <td>18.946573</td>\n",
       "    </tr>\n",
       "    <tr>\n",
       "      <th>3</th>\n",
       "      <td>0.910238</td>\n",
       "      <td>False</td>\n",
       "      <td>0.197795</td>\n",
       "      <td>0.159610</td>\n",
       "      <td>6.265263</td>\n",
       "    </tr>\n",
       "    <tr>\n",
       "      <th>4</th>\n",
       "      <td>0.398450</td>\n",
       "      <td>False</td>\n",
       "      <td>1.316079</td>\n",
       "      <td>0.332353</td>\n",
       "      <td>3.008852</td>\n",
       "    </tr>\n",
       "    <tr>\n",
       "      <th>...</th>\n",
       "      <td>...</td>\n",
       "      <td>...</td>\n",
       "      <td>...</td>\n",
       "      <td>...</td>\n",
       "      <td>...</td>\n",
       "    </tr>\n",
       "    <tr>\n",
       "      <th>995</th>\n",
       "      <td>-0.646152</td>\n",
       "      <td>False</td>\n",
       "      <td>0.242227</td>\n",
       "      <td>0.780598</td>\n",
       "      <td>1.281069</td>\n",
       "    </tr>\n",
       "    <tr>\n",
       "      <th>996</th>\n",
       "      <td>0.990254</td>\n",
       "      <td>False</td>\n",
       "      <td>-0.107813</td>\n",
       "      <td>0.140423</td>\n",
       "      <td>7.121336</td>\n",
       "    </tr>\n",
       "    <tr>\n",
       "      <th>997</th>\n",
       "      <td>1.064571</td>\n",
       "      <td>False</td>\n",
       "      <td>-0.142569</td>\n",
       "      <td>0.124368</td>\n",
       "      <td>8.040654</td>\n",
       "    </tr>\n",
       "    <tr>\n",
       "      <th>998</th>\n",
       "      <td>0.420033</td>\n",
       "      <td>False</td>\n",
       "      <td>1.203509</td>\n",
       "      <td>0.323398</td>\n",
       "      <td>3.092164</td>\n",
       "    </tr>\n",
       "    <tr>\n",
       "      <th>999</th>\n",
       "      <td>0.533551</td>\n",
       "      <td>False</td>\n",
       "      <td>1.813740</td>\n",
       "      <td>0.278498</td>\n",
       "      <td>3.590695</td>\n",
       "    </tr>\n",
       "  </tbody>\n",
       "</table>\n",
       "<p>1000 rows × 5 columns</p>\n",
       "</div>"
      ],
      "text/plain": [
       "           W0     v0         y  propensity_score     weight\n",
       "0   -1.242615  False  0.907145          0.916226   1.091433\n",
       "1    0.007415  False  0.687815          0.509663   1.962083\n",
       "2    1.561557  False -0.628148          0.052780  18.946573\n",
       "3    0.910238  False  0.197795          0.159610   6.265263\n",
       "4    0.398450  False  1.316079          0.332353   3.008852\n",
       "..        ...    ...       ...               ...        ...\n",
       "995 -0.646152  False  0.242227          0.780598   1.281069\n",
       "996  0.990254  False -0.107813          0.140423   7.121336\n",
       "997  1.064571  False -0.142569          0.124368   8.040654\n",
       "998  0.420033  False  1.203509          0.323398   3.092164\n",
       "999  0.533551  False  1.813740          0.278498   3.590695\n",
       "\n",
       "[1000 rows x 5 columns]"
      ]
     },
     "execution_count": 6,
     "metadata": {},
     "output_type": "execute_result"
    }
   ],
   "source": [
    "cdf_0"
   ]
  },
  {
   "cell_type": "code",
   "execution_count": 7,
   "metadata": {
    "execution": {
     "iopub.execute_input": "2023-03-30T22:24:17.891750Z",
     "iopub.status.busy": "2023-03-30T22:24:17.891389Z",
     "iopub.status.idle": "2023-03-30T22:24:17.902806Z",
     "shell.execute_reply": "2023-03-30T22:24:17.902134Z"
    }
   },
   "outputs": [
    {
     "data": {
      "text/html": [
       "<div>\n",
       "<style scoped>\n",
       "    .dataframe tbody tr th:only-of-type {\n",
       "        vertical-align: middle;\n",
       "    }\n",
       "\n",
       "    .dataframe tbody tr th {\n",
       "        vertical-align: top;\n",
       "    }\n",
       "\n",
       "    .dataframe thead th {\n",
       "        text-align: right;\n",
       "    }\n",
       "</style>\n",
       "<table border=\"1\" class=\"dataframe\">\n",
       "  <thead>\n",
       "    <tr style=\"text-align: right;\">\n",
       "      <th></th>\n",
       "      <th>W0</th>\n",
       "      <th>v0</th>\n",
       "      <th>y</th>\n",
       "      <th>propensity_score</th>\n",
       "      <th>weight</th>\n",
       "    </tr>\n",
       "  </thead>\n",
       "  <tbody>\n",
       "    <tr>\n",
       "      <th>0</th>\n",
       "      <td>-0.162952</td>\n",
       "      <td>True</td>\n",
       "      <td>5.837367</td>\n",
       "      <td>0.411102</td>\n",
       "      <td>2.432488</td>\n",
       "    </tr>\n",
       "    <tr>\n",
       "      <th>1</th>\n",
       "      <td>1.118816</td>\n",
       "      <td>True</td>\n",
       "      <td>6.044369</td>\n",
       "      <td>0.886334</td>\n",
       "      <td>1.128243</td>\n",
       "    </tr>\n",
       "    <tr>\n",
       "      <th>2</th>\n",
       "      <td>0.157350</td>\n",
       "      <td>True</td>\n",
       "      <td>4.851680</td>\n",
       "      <td>0.560609</td>\n",
       "      <td>1.783774</td>\n",
       "    </tr>\n",
       "    <tr>\n",
       "      <th>3</th>\n",
       "      <td>-0.693712</td>\n",
       "      <td>True</td>\n",
       "      <td>4.401313</td>\n",
       "      <td>0.204452</td>\n",
       "      <td>4.891131</td>\n",
       "    </tr>\n",
       "    <tr>\n",
       "      <th>4</th>\n",
       "      <td>-1.831029</td>\n",
       "      <td>True</td>\n",
       "      <td>6.457631</td>\n",
       "      <td>0.029313</td>\n",
       "      <td>34.114743</td>\n",
       "    </tr>\n",
       "    <tr>\n",
       "      <th>...</th>\n",
       "      <td>...</td>\n",
       "      <td>...</td>\n",
       "      <td>...</td>\n",
       "      <td>...</td>\n",
       "      <td>...</td>\n",
       "    </tr>\n",
       "    <tr>\n",
       "      <th>995</th>\n",
       "      <td>-0.419714</td>\n",
       "      <td>True</td>\n",
       "      <td>6.218726</td>\n",
       "      <td>0.300939</td>\n",
       "      <td>3.322931</td>\n",
       "    </tr>\n",
       "    <tr>\n",
       "      <th>996</th>\n",
       "      <td>-0.711584</td>\n",
       "      <td>True</td>\n",
       "      <td>6.425236</td>\n",
       "      <td>0.199033</td>\n",
       "      <td>5.024290</td>\n",
       "    </tr>\n",
       "    <tr>\n",
       "      <th>997</th>\n",
       "      <td>0.177693</td>\n",
       "      <td>True</td>\n",
       "      <td>4.907648</td>\n",
       "      <td>0.570021</td>\n",
       "      <td>1.754323</td>\n",
       "    </tr>\n",
       "    <tr>\n",
       "      <th>998</th>\n",
       "      <td>0.298789</td>\n",
       "      <td>True</td>\n",
       "      <td>4.787014</td>\n",
       "      <td>0.624790</td>\n",
       "      <td>1.600539</td>\n",
       "    </tr>\n",
       "    <tr>\n",
       "      <th>999</th>\n",
       "      <td>0.374819</td>\n",
       "      <td>True</td>\n",
       "      <td>4.842554</td>\n",
       "      <td>0.657703</td>\n",
       "      <td>1.520443</td>\n",
       "    </tr>\n",
       "  </tbody>\n",
       "</table>\n",
       "<p>1000 rows × 5 columns</p>\n",
       "</div>"
      ],
      "text/plain": [
       "           W0    v0         y  propensity_score     weight\n",
       "0   -0.162952  True  5.837367          0.411102   2.432488\n",
       "1    1.118816  True  6.044369          0.886334   1.128243\n",
       "2    0.157350  True  4.851680          0.560609   1.783774\n",
       "3   -0.693712  True  4.401313          0.204452   4.891131\n",
       "4   -1.831029  True  6.457631          0.029313  34.114743\n",
       "..        ...   ...       ...               ...        ...\n",
       "995 -0.419714  True  6.218726          0.300939   3.322931\n",
       "996 -0.711584  True  6.425236          0.199033   5.024290\n",
       "997  0.177693  True  4.907648          0.570021   1.754323\n",
       "998  0.298789  True  4.787014          0.624790   1.600539\n",
       "999  0.374819  True  4.842554          0.657703   1.520443\n",
       "\n",
       "[1000 rows x 5 columns]"
      ]
     },
     "execution_count": 7,
     "metadata": {},
     "output_type": "execute_result"
    }
   ],
   "source": [
    "cdf_1"
   ]
  },
  {
   "cell_type": "markdown",
   "metadata": {},
   "source": [
    "## Comparing the estimate to Linear Regression\n",
    "First, estimating the effect using the causal data frame, and the 95% confidence interval."
   ]
  },
  {
   "cell_type": "code",
   "execution_count": 8,
   "metadata": {
    "execution": {
     "iopub.execute_input": "2023-03-30T22:24:17.905827Z",
     "iopub.status.busy": "2023-03-30T22:24:17.905300Z",
     "iopub.status.idle": "2023-03-30T22:24:17.964032Z",
     "shell.execute_reply": "2023-03-30T22:24:17.963203Z"
    }
   },
   "outputs": [
    {
     "data": {
      "image/png": "[encoded data removed]",
      "text/latex": [
       "$\\displaystyle 5.01525518607548$"
      ],
      "text/plain": [
       "5.015255186075479"
      ]
     },
     "execution_count": 8,
     "metadata": {},
     "output_type": "execute_result"
    }
   ],
   "source": [
    "(cdf_1['y'] - cdf_0['y']).mean()"
   ]
  },
  {
   "cell_type": "code",
   "execution_count": 9,
   "metadata": {
    "execution": {
     "iopub.execute_input": "2023-03-30T22:24:17.967604Z",
     "iopub.status.busy": "2023-03-30T22:24:17.967127Z",
     "iopub.status.idle": "2023-03-30T22:24:17.989246Z",
     "shell.execute_reply": "2023-03-30T22:24:17.988503Z"
    }
   },
   "outputs": [
    {
     "data": {
      "image/png": "[encoded data removed]",
      "text/latex": [
       "$\\displaystyle 0.0940852592247053$"
      ],
      "text/plain": [
       "0.09408525922470533"
      ]
     },
     "execution_count": 9,
     "metadata": {},
     "output_type": "execute_result"
    }
   ],
   "source": [
    "1.96*(cdf_1['y'] - cdf_0['y']).std() / np.sqrt(len(df))"
   ]
  },
  {
   "cell_type": "markdown",
   "metadata": {},
   "source": [
    "Comparing to the estimate from OLS."
   ]
  },
  {
   "cell_type": "code",
   "execution_count": 10,
   "metadata": {
    "execution": {
     "iopub.execute_input": "2023-03-30T22:24:17.992405Z",
     "iopub.status.busy": "2023-03-30T22:24:17.992024Z",
     "iopub.status.idle": "2023-03-30T22:24:18.007110Z",
     "shell.execute_reply": "2023-03-30T22:24:18.006398Z"
    }
   },
   "outputs": [
    {
     "data": {
      "text/html": [
       "<table class=\"simpletable\">\n",
       "<caption>OLS Regression Results</caption>\n",
       "<tr>\n",
       "  <th>Dep. Variable:</th>            <td>y</td>        <th>  R-squared (uncentered):</th>      <td>   0.946</td>\n",
       "</tr>\n",
       "<tr>\n",
       "  <th>Model:</th>                   <td>OLS</td>       <th>  Adj. R-squared (uncentered):</th> <td>   0.946</td>\n",
       "</tr>\n",
       "<tr>\n",
       "  <th>Method:</th>             <td>Least Squares</td>  <th>  F-statistic:       </th>          <td>   8770.</td>\n",
       "</tr>\n",
       "<tr>\n",
       "  <th>Date:</th>             <td>Thu, 30 Mar 2023</td> <th>  Prob (F-statistic):</th>           <td>  0.00</td> \n",
       "</tr>\n",
       "<tr>\n",
       "  <th>Time:</th>                 <td>22:24:17</td>     <th>  Log-Likelihood:    </th>          <td> -1400.6</td>\n",
       "</tr>\n",
       "<tr>\n",
       "  <th>No. Observations:</th>      <td>  1000</td>      <th>  AIC:               </th>          <td>   2805.</td>\n",
       "</tr>\n",
       "<tr>\n",
       "  <th>Df Residuals:</th>          <td>   998</td>      <th>  BIC:               </th>          <td>   2815.</td>\n",
       "</tr>\n",
       "<tr>\n",
       "  <th>Df Model:</th>              <td>     2</td>      <th>                     </th>              <td> </td>   \n",
       "</tr>\n",
       "<tr>\n",
       "  <th>Covariance Type:</th>      <td>nonrobust</td>    <th>                     </th>              <td> </td>   \n",
       "</tr>\n",
       "</table>\n",
       "<table class=\"simpletable\">\n",
       "<tr>\n",
       "   <td></td>     <th>coef</th>     <th>std err</th>      <th>t</th>      <th>P>|t|</th>  <th>[0.025</th>    <th>0.975]</th>  \n",
       "</tr>\n",
       "<tr>\n",
       "  <th>x1</th> <td>    0.3209</td> <td>    0.037</td> <td>    8.612</td> <td> 0.000</td> <td>    0.248</td> <td>    0.394</td>\n",
       "</tr>\n",
       "<tr>\n",
       "  <th>x2</th> <td>    5.0323</td> <td>    0.051</td> <td>   98.116</td> <td> 0.000</td> <td>    4.932</td> <td>    5.133</td>\n",
       "</tr>\n",
       "</table>\n",
       "<table class=\"simpletable\">\n",
       "<tr>\n",
       "  <th>Omnibus:</th>       <td> 0.455</td> <th>  Durbin-Watson:     </th> <td>   1.963</td>\n",
       "</tr>\n",
       "<tr>\n",
       "  <th>Prob(Omnibus):</th> <td> 0.796</td> <th>  Jarque-Bera (JB):  </th> <td>   0.544</td>\n",
       "</tr>\n",
       "<tr>\n",
       "  <th>Skew:</th>          <td> 0.023</td> <th>  Prob(JB):          </th> <td>   0.762</td>\n",
       "</tr>\n",
       "<tr>\n",
       "  <th>Kurtosis:</th>      <td> 2.895</td> <th>  Cond. No.          </th> <td>    2.24</td>\n",
       "</tr>\n",
       "</table><br/><br/>Notes:<br/>[1] R² is computed without centering (uncentered) since the model does not contain a constant.<br/>[2] Standard Errors assume that the covariance matrix of the errors is correctly specified."
      ],
      "text/plain": [
       "<class 'statsmodels.iolib.summary.Summary'>\n",
       "\"\"\"\n",
       "                                 OLS Regression Results                                \n",
       "=======================================================================================\n",
       "Dep. Variable:                      y   R-squared (uncentered):                   0.946\n",
       "Model:                            OLS   Adj. R-squared (uncentered):              0.946\n",
       "Method:                 Least Squares   F-statistic:                              8770.\n",
       "Date:                Thu, 30 Mar 2023   Prob (F-statistic):                        0.00\n",
       "Time:                        22:24:17   Log-Likelihood:                         -1400.6\n",
       "No. Observations:                1000   AIC:                                      2805.\n",
       "Df Residuals:                     998   BIC:                                      2815.\n",
       "Df Model:                           2                                                  \n",
       "Covariance Type:            nonrobust                                                  \n",
       "==============================================================================\n",
       "                 coef    std err          t      P>|t|      [0.025      0.975]\n",
       "------------------------------------------------------------------------------\n",
       "x1             0.3209      0.037      8.612      0.000       0.248       0.394\n",
       "x2             5.0323      0.051     98.116      0.000       4.932       5.133\n",
       "==============================================================================\n",
       "Omnibus:                        0.455   Durbin-Watson:                   1.963\n",
       "Prob(Omnibus):                  0.796   Jarque-Bera (JB):                0.544\n",
       "Skew:                           0.023   Prob(JB):                        0.762\n",
       "Kurtosis:                       2.895   Cond. No.                         2.24\n",
       "==============================================================================\n",
       "\n",
       "Notes:\n",
       "[1] R² is computed without centering (uncentered) since the model does not contain a constant.\n",
       "[2] Standard Errors assume that the covariance matrix of the errors is correctly specified.\n",
       "\"\"\""
      ]
     },
     "execution_count": 10,
     "metadata": {},
     "output_type": "execute_result"
    }
   ],
   "source": [
    "model = OLS(np.asarray(df[outcome]), np.asarray(df[[common_cause, treatment]], dtype=np.float64))\n",
    "result = model.fit()\n",
    "result.summary()"
   ]
  }
 ],
 "metadata": {
  "kernelspec": {
   "display_name": "Python 3",
   "language": "python",
   "name": "python3"
  },
  "language_info": {
   "codemirror_mode": {
    "name": "ipython",
    "version": 3
   },
   "file_extension": ".py",
   "mimetype": "text/x-python",
   "name": "python",
   "nbconvert_exporter": "python",
   "pygments_lexer": "ipython3",
   "version": "3.8.10"
  },
  "toc": {
   "base_numbering": 1,
   "nav_menu": {},
   "number_sections": false,
   "sideBar": true,
   "skip_h1_title": true,
   "title_cell": "Table of Contents",
   "title_sidebar": "Contents",
   "toc_cell": false,
   "toc_position": {},
   "toc_section_display": true,
   "toc_window_display": false
  }
 },
 "nbformat": 4,
 "nbformat_minor": 4
}
