{
 "cells": [
  {
   "cell_type": "markdown",
   "metadata": {},
   "source": [
    "# Demo for the DoWhy causal API\n",
    "We show a simple example of adding a causal extension to any dataframe. "
   ]
  },
  {
   "cell_type": "code",
   "execution_count": 1,
   "metadata": {
    "execution": {
     "iopub.execute_input": "2023-11-29T15:34:52.718874Z",
     "iopub.status.busy": "2023-11-29T15:34:52.718423Z",
     "iopub.status.idle": "2023-11-29T15:34:54.143730Z",
     "shell.execute_reply": "2023-11-29T15:34:54.143137Z"
    }
   },
   "outputs": [],
   "source": [
    "import dowhy.datasets\n",
    "import dowhy.api\n",
    "from dowhy.graph import build_graph_from_str\n",
    "\n",
    "import numpy as np\n",
    "import pandas as pd\n",
    "\n",
    "from statsmodels.api import OLS"
   ]
  },
  {
   "cell_type": "code",
   "execution_count": 2,
   "metadata": {
    "execution": {
     "iopub.execute_input": "2023-11-29T15:34:54.146562Z",
     "iopub.status.busy": "2023-11-29T15:34:54.146174Z",
     "iopub.status.idle": "2023-11-29T15:34:54.195500Z",
     "shell.execute_reply": "2023-11-29T15:34:54.194868Z"
    }
   },
   "outputs": [
    {
     "data": {
      "text/html": [
       "<div>\n",
       "<style scoped>\n",
       "    .dataframe tbody tr th:only-of-type {\n",
       "        vertical-align: middle;\n",
       "    }\n",
       "\n",
       "    .dataframe tbody tr th {\n",
       "        vertical-align: top;\n",
       "    }\n",
       "\n",
       "    .dataframe thead th {\n",
       "        text-align: right;\n",
       "    }\n",
       "</style>\n",
       "<table border=\"1\" class=\"dataframe\">\n",
       "  <thead>\n",
       "    <tr style=\"text-align: right;\">\n",
       "      <th></th>\n",
       "      <th>W0</th>\n",
       "      <th>v0</th>\n",
       "      <th>y</th>\n",
       "    </tr>\n",
       "  </thead>\n",
       "  <tbody>\n",
       "    <tr>\n",
       "      <th>0</th>\n",
       "      <td>-0.476807</td>\n",
       "      <td>False</td>\n",
       "      <td>-1.191644</td>\n",
       "    </tr>\n",
       "    <tr>\n",
       "      <th>1</th>\n",
       "      <td>1.057640</td>\n",
       "      <td>True</td>\n",
       "      <td>5.880161</td>\n",
       "    </tr>\n",
       "    <tr>\n",
       "      <th>2</th>\n",
       "      <td>-0.268648</td>\n",
       "      <td>False</td>\n",
       "      <td>-1.685653</td>\n",
       "    </tr>\n",
       "    <tr>\n",
       "      <th>3</th>\n",
       "      <td>-0.131389</td>\n",
       "      <td>False</td>\n",
       "      <td>1.197483</td>\n",
       "    </tr>\n",
       "    <tr>\n",
       "      <th>4</th>\n",
       "      <td>-2.283468</td>\n",
       "      <td>True</td>\n",
       "      <td>0.843926</td>\n",
       "    </tr>\n",
       "    <tr>\n",
       "      <th>...</th>\n",
       "      <td>...</td>\n",
       "      <td>...</td>\n",
       "      <td>...</td>\n",
       "    </tr>\n",
       "    <tr>\n",
       "      <th>995</th>\n",
       "      <td>0.362441</td>\n",
       "      <td>True</td>\n",
       "      <td>5.934080</td>\n",
       "    </tr>\n",
       "    <tr>\n",
       "      <th>996</th>\n",
       "      <td>-2.215736</td>\n",
       "      <td>False</td>\n",
       "      <td>-2.508082</td>\n",
       "    </tr>\n",
       "    <tr>\n",
       "      <th>997</th>\n",
       "      <td>-1.276019</td>\n",
       "      <td>False</td>\n",
       "      <td>-2.924847</td>\n",
       "    </tr>\n",
       "    <tr>\n",
       "      <th>998</th>\n",
       "      <td>-0.402062</td>\n",
       "      <td>True</td>\n",
       "      <td>5.123236</td>\n",
       "    </tr>\n",
       "    <tr>\n",
       "      <th>999</th>\n",
       "      <td>-0.626338</td>\n",
       "      <td>True</td>\n",
       "      <td>2.617577</td>\n",
       "    </tr>\n",
       "  </tbody>\n",
       "</table>\n",
       "<p>1000 rows × 3 columns</p>\n",
       "</div>"
      ],
      "text/plain": [
       "           W0     v0         y\n",
       "0   -0.476807  False -1.191644\n",
       "1    1.057640   True  5.880161\n",
       "2   -0.268648  False -1.685653\n",
       "3   -0.131389  False  1.197483\n",
       "4   -2.283468   True  0.843926\n",
       "..        ...    ...       ...\n",
       "995  0.362441   True  5.934080\n",
       "996 -2.215736  False -2.508082\n",
       "997 -1.276019  False -2.924847\n",
       "998 -0.402062   True  5.123236\n",
       "999 -0.626338   True  2.617577\n",
       "\n",
       "[1000 rows x 3 columns]"
      ]
     },
     "execution_count": 2,
     "metadata": {},
     "output_type": "execute_result"
    }
   ],
   "source": [
    "data = dowhy.datasets.linear_dataset(beta=5,\n",
    "        num_common_causes=1,\n",
    "        num_instruments = 0,\n",
    "        num_samples=1000,\n",
    "        treatment_is_binary=True)\n",
    "df = data['df']\n",
    "df['y'] = df['y'] + np.random.normal(size=len(df)) # Adding noise to data. Without noise, the variance in Y|X, Z is zero, and mcmc fails.\n",
    "nx_graph = build_graph_from_str(data[\"dot_graph\"])\n",
    "\n",
    "treatment= data[\"treatment_name\"][0]\n",
    "outcome = data[\"outcome_name\"][0]\n",
    "common_cause = data[\"common_causes_names\"][0]\n",
    "df"
   ]
  },
  {
   "cell_type": "code",
   "execution_count": 3,
   "metadata": {
    "execution": {
     "iopub.execute_input": "2023-11-29T15:34:54.198237Z",
     "iopub.status.busy": "2023-11-29T15:34:54.197857Z",
     "iopub.status.idle": "2023-11-29T15:34:54.381777Z",
     "shell.execute_reply": "2023-11-29T15:34:54.381142Z"
    },
    "scrolled": true
   },
   "outputs": [
    {
     "data": {
      "text/plain": [
       "<Axes: xlabel='v0'>"
      ]
     },
     "execution_count": 3,
     "metadata": {},
     "output_type": "execute_result"
    },
    {
     "data": {
      "image/png": "[encoded data removed]",
      "text/plain": [
       "<Figure size 640x480 with 1 Axes>"
      ]
     },
     "metadata": {},
     "output_type": "display_data"
    }
   ],
   "source": [
    "# data['df'] is just a regular pandas.DataFrame\n",
    "df.causal.do(x=treatment,\n",
    "             variable_types={treatment: 'b', outcome: 'c', common_cause: 'c'},\n",
    "             outcome=outcome,\n",
    "             common_causes=[common_cause],\n",
    "            ).groupby(treatment).mean().plot(y=outcome, kind='bar')"
   ]
  },
  {
   "cell_type": "code",
   "execution_count": 4,
   "metadata": {
    "execution": {
     "iopub.execute_input": "2023-11-29T15:34:54.384437Z",
     "iopub.status.busy": "2023-11-29T15:34:54.384036Z",
     "iopub.status.idle": "2023-11-29T15:34:54.530094Z",
     "shell.execute_reply": "2023-11-29T15:34:54.529448Z"
    }
   },
   "outputs": [
    {
     "data": {
      "text/plain": [
       "<Axes: xlabel='v0'>"
      ]
     },
     "execution_count": 4,
     "metadata": {},
     "output_type": "execute_result"
    },
    {
     "data": {
      "image/png": "[encoded data removed]",
      "text/plain": [
       "<Figure size 640x480 with 1 Axes>"
      ]
     },
     "metadata": {},
     "output_type": "display_data"
    }
   ],
   "source": [
    "df.causal.do(x={treatment: 1}, \n",
    "              variable_types={treatment:'b', outcome: 'c', common_cause: 'c'}, \n",
    "              outcome=outcome,\n",
    "              method='weighting', \n",
    "              common_causes=[common_cause]\n",
    "              ).groupby(treatment).mean().plot(y=outcome, kind='bar')"
   ]
  },
  {
   "cell_type": "code",
   "execution_count": 5,
   "metadata": {
    "execution": {
     "iopub.execute_input": "2023-11-29T15:34:54.532765Z",
     "iopub.status.busy": "2023-11-29T15:34:54.532316Z",
     "iopub.status.idle": "2023-11-29T15:34:54.553484Z",
     "shell.execute_reply": "2023-11-29T15:34:54.552848Z"
    }
   },
   "outputs": [],
   "source": [
    "cdf_1 = df.causal.do(x={treatment: 1}, \n",
    "              variable_types={treatment: 'b', outcome: 'c', common_cause: 'c'}, \n",
    "              outcome=outcome, \n",
    "              graph=nx_graph\n",
    "              )\n",
    "\n",
    "cdf_0 = df.causal.do(x={treatment: 0}, \n",
    "              variable_types={treatment: 'b', outcome: 'c', common_cause: 'c'}, \n",
    "              outcome=outcome, \n",
    "              graph=nx_graph\n",
    "              )\n"
   ]
  },
  {
   "cell_type": "code",
   "execution_count": 6,
   "metadata": {
    "execution": {
     "iopub.execute_input": "2023-11-29T15:34:54.556244Z",
     "iopub.status.busy": "2023-11-29T15:34:54.555800Z",
     "iopub.status.idle": "2023-11-29T15:34:54.564881Z",
     "shell.execute_reply": "2023-11-29T15:34:54.564279Z"
    },
    "scrolled": true
   },
   "outputs": [
    {
     "data": {
      "text/html": [
       "<div>\n",
       "<style scoped>\n",
       "    .dataframe tbody tr th:only-of-type {\n",
       "        vertical-align: middle;\n",
       "    }\n",
       "\n",
       "    .dataframe tbody tr th {\n",
       "        vertical-align: top;\n",
       "    }\n",
       "\n",
       "    .dataframe thead th {\n",
       "        text-align: right;\n",
       "    }\n",
       "</style>\n",
       "<table border=\"1\" class=\"dataframe\">\n",
       "  <thead>\n",
       "    <tr style=\"text-align: right;\">\n",
       "      <th></th>\n",
       "      <th>W0</th>\n",
       "      <th>v0</th>\n",
       "      <th>y</th>\n",
       "      <th>propensity_score</th>\n",
       "      <th>weight</th>\n",
       "    </tr>\n",
       "  </thead>\n",
       "  <tbody>\n",
       "    <tr>\n",
       "      <th>0</th>\n",
       "      <td>-1.047284</td>\n",
       "      <td>False</td>\n",
       "      <td>-2.042036</td>\n",
       "      <td>0.555582</td>\n",
       "      <td>1.799913</td>\n",
       "    </tr>\n",
       "    <tr>\n",
       "      <th>1</th>\n",
       "      <td>-0.355461</td>\n",
       "      <td>False</td>\n",
       "      <td>-0.987704</td>\n",
       "      <td>0.520010</td>\n",
       "      <td>1.923041</td>\n",
       "    </tr>\n",
       "    <tr>\n",
       "      <th>2</th>\n",
       "      <td>1.379514</td>\n",
       "      <td>False</td>\n",
       "      <td>1.503049</td>\n",
       "      <td>0.430707</td>\n",
       "      <td>2.321763</td>\n",
       "    </tr>\n",
       "    <tr>\n",
       "      <th>3</th>\n",
       "      <td>-0.400060</td>\n",
       "      <td>False</td>\n",
       "      <td>-0.047781</td>\n",
       "      <td>0.522313</td>\n",
       "      <td>1.914561</td>\n",
       "    </tr>\n",
       "    <tr>\n",
       "      <th>4</th>\n",
       "      <td>-0.762710</td>\n",
       "      <td>False</td>\n",
       "      <td>-1.977228</td>\n",
       "      <td>0.540998</td>\n",
       "      <td>1.848436</td>\n",
       "    </tr>\n",
       "    <tr>\n",
       "      <th>...</th>\n",
       "      <td>...</td>\n",
       "      <td>...</td>\n",
       "      <td>...</td>\n",
       "      <td>...</td>\n",
       "      <td>...</td>\n",
       "    </tr>\n",
       "    <tr>\n",
       "      <th>995</th>\n",
       "      <td>-1.604232</td>\n",
       "      <td>False</td>\n",
       "      <td>-3.220356</td>\n",
       "      <td>0.583829</td>\n",
       "      <td>1.712831</td>\n",
       "    </tr>\n",
       "    <tr>\n",
       "      <th>996</th>\n",
       "      <td>1.020811</td>\n",
       "      <td>False</td>\n",
       "      <td>2.178356</td>\n",
       "      <td>0.448995</td>\n",
       "      <td>2.227199</td>\n",
       "    </tr>\n",
       "    <tr>\n",
       "      <th>997</th>\n",
       "      <td>-1.737562</td>\n",
       "      <td>False</td>\n",
       "      <td>-2.703650</td>\n",
       "      <td>0.590517</td>\n",
       "      <td>1.693431</td>\n",
       "    </tr>\n",
       "    <tr>\n",
       "      <th>998</th>\n",
       "      <td>-0.696335</td>\n",
       "      <td>False</td>\n",
       "      <td>0.282881</td>\n",
       "      <td>0.537585</td>\n",
       "      <td>1.860171</td>\n",
       "    </tr>\n",
       "    <tr>\n",
       "      <th>999</th>\n",
       "      <td>0.457220</td>\n",
       "      <td>False</td>\n",
       "      <td>0.605721</td>\n",
       "      <td>0.477989</td>\n",
       "      <td>2.092098</td>\n",
       "    </tr>\n",
       "  </tbody>\n",
       "</table>\n",
       "<p>1000 rows × 5 columns</p>\n",
       "</div>"
      ],
      "text/plain": [
       "           W0     v0         y  propensity_score    weight\n",
       "0   -1.047284  False -2.042036          0.555582  1.799913\n",
       "1   -0.355461  False -0.987704          0.520010  1.923041\n",
       "2    1.379514  False  1.503049          0.430707  2.321763\n",
       "3   -0.400060  False -0.047781          0.522313  1.914561\n",
       "4   -0.762710  False -1.977228          0.540998  1.848436\n",
       "..        ...    ...       ...               ...       ...\n",
       "995 -1.604232  False -3.220356          0.583829  1.712831\n",
       "996  1.020811  False  2.178356          0.448995  2.227199\n",
       "997 -1.737562  False -2.703650          0.590517  1.693431\n",
       "998 -0.696335  False  0.282881          0.537585  1.860171\n",
       "999  0.457220  False  0.605721          0.477989  2.092098\n",
       "\n",
       "[1000 rows x 5 columns]"
      ]
     },
     "execution_count": 6,
     "metadata": {},
     "output_type": "execute_result"
    }
   ],
   "source": [
    "cdf_0"
   ]
  },
  {
   "cell_type": "code",
   "execution_count": 7,
   "metadata": {
    "execution": {
     "iopub.execute_input": "2023-11-29T15:34:54.567297Z",
     "iopub.status.busy": "2023-11-29T15:34:54.566871Z",
     "iopub.status.idle": "2023-11-29T15:34:54.575483Z",
     "shell.execute_reply": "2023-11-29T15:34:54.574902Z"
    }
   },
   "outputs": [
    {
     "data": {
      "text/html": [
       "<div>\n",
       "<style scoped>\n",
       "    .dataframe tbody tr th:only-of-type {\n",
       "        vertical-align: middle;\n",
       "    }\n",
       "\n",
       "    .dataframe tbody tr th {\n",
       "        vertical-align: top;\n",
       "    }\n",
       "\n",
       "    .dataframe thead th {\n",
       "        text-align: right;\n",
       "    }\n",
       "</style>\n",
       "<table border=\"1\" class=\"dataframe\">\n",
       "  <thead>\n",
       "    <tr style=\"text-align: right;\">\n",
       "      <th></th>\n",
       "      <th>W0</th>\n",
       "      <th>v0</th>\n",
       "      <th>y</th>\n",
       "      <th>propensity_score</th>\n",
       "      <th>weight</th>\n",
       "    </tr>\n",
       "  </thead>\n",
       "  <tbody>\n",
       "    <tr>\n",
       "      <th>0</th>\n",
       "      <td>-0.012764</td>\n",
       "      <td>True</td>\n",
       "      <td>6.130273</td>\n",
       "      <td>0.497710</td>\n",
       "      <td>2.009203</td>\n",
       "    </tr>\n",
       "    <tr>\n",
       "      <th>1</th>\n",
       "      <td>-0.477517</td>\n",
       "      <td>True</td>\n",
       "      <td>3.528024</td>\n",
       "      <td>0.473689</td>\n",
       "      <td>2.111089</td>\n",
       "    </tr>\n",
       "    <tr>\n",
       "      <th>2</th>\n",
       "      <td>-1.674832</td>\n",
       "      <td>True</td>\n",
       "      <td>3.128264</td>\n",
       "      <td>0.412626</td>\n",
       "      <td>2.423504</td>\n",
       "    </tr>\n",
       "    <tr>\n",
       "      <th>3</th>\n",
       "      <td>1.057640</td>\n",
       "      <td>True</td>\n",
       "      <td>5.880161</td>\n",
       "      <td>0.552890</td>\n",
       "      <td>1.808677</td>\n",
       "    </tr>\n",
       "    <tr>\n",
       "      <th>4</th>\n",
       "      <td>-0.018049</td>\n",
       "      <td>True</td>\n",
       "      <td>4.800644</td>\n",
       "      <td>0.497436</td>\n",
       "      <td>2.010308</td>\n",
       "    </tr>\n",
       "    <tr>\n",
       "      <th>...</th>\n",
       "      <td>...</td>\n",
       "      <td>...</td>\n",
       "      <td>...</td>\n",
       "      <td>...</td>\n",
       "      <td>...</td>\n",
       "    </tr>\n",
       "    <tr>\n",
       "      <th>995</th>\n",
       "      <td>0.751852</td>\n",
       "      <td>True</td>\n",
       "      <td>8.298227</td>\n",
       "      <td>0.537200</td>\n",
       "      <td>1.861506</td>\n",
       "    </tr>\n",
       "    <tr>\n",
       "      <th>996</th>\n",
       "      <td>-1.078428</td>\n",
       "      <td>True</td>\n",
       "      <td>3.297497</td>\n",
       "      <td>0.442827</td>\n",
       "      <td>2.258219</td>\n",
       "    </tr>\n",
       "    <tr>\n",
       "      <th>997</th>\n",
       "      <td>-0.684254</td>\n",
       "      <td>True</td>\n",
       "      <td>4.304839</td>\n",
       "      <td>0.463037</td>\n",
       "      <td>2.159657</td>\n",
       "    </tr>\n",
       "    <tr>\n",
       "      <th>998</th>\n",
       "      <td>-1.882613</td>\n",
       "      <td>True</td>\n",
       "      <td>3.274643</td>\n",
       "      <td>0.402245</td>\n",
       "      <td>2.486049</td>\n",
       "    </tr>\n",
       "    <tr>\n",
       "      <th>999</th>\n",
       "      <td>0.680145</td>\n",
       "      <td>True</td>\n",
       "      <td>6.897975</td>\n",
       "      <td>0.533508</td>\n",
       "      <td>1.874385</td>\n",
       "    </tr>\n",
       "  </tbody>\n",
       "</table>\n",
       "<p>1000 rows × 5 columns</p>\n",
       "</div>"
      ],
      "text/plain": [
       "           W0    v0         y  propensity_score    weight\n",
       "0   -0.012764  True  6.130273          0.497710  2.009203\n",
       "1   -0.477517  True  3.528024          0.473689  2.111089\n",
       "2   -1.674832  True  3.128264          0.412626  2.423504\n",
       "3    1.057640  True  5.880161          0.552890  1.808677\n",
       "4   -0.018049  True  4.800644          0.497436  2.010308\n",
       "..        ...   ...       ...               ...       ...\n",
       "995  0.751852  True  8.298227          0.537200  1.861506\n",
       "996 -1.078428  True  3.297497          0.442827  2.258219\n",
       "997 -0.684254  True  4.304839          0.463037  2.159657\n",
       "998 -1.882613  True  3.274643          0.402245  2.486049\n",
       "999  0.680145  True  6.897975          0.533508  1.874385\n",
       "\n",
       "[1000 rows x 5 columns]"
      ]
     },
     "execution_count": 7,
     "metadata": {},
     "output_type": "execute_result"
    }
   ],
   "source": [
    "cdf_1"
   ]
  },
  {
   "cell_type": "markdown",
   "metadata": {},
   "source": [
    "## Comparing the estimate to Linear Regression\n",
    "First, estimating the effect using the causal data frame, and the 95% confidence interval."
   ]
  },
  {
   "cell_type": "code",
   "execution_count": 8,
   "metadata": {
    "execution": {
     "iopub.execute_input": "2023-11-29T15:34:54.577864Z",
     "iopub.status.busy": "2023-11-29T15:34:54.577531Z",
     "iopub.status.idle": "2023-11-29T15:34:54.624677Z",
     "shell.execute_reply": "2023-11-29T15:34:54.624035Z"
    }
   },
   "outputs": [
    {
     "data": {
      "image/png": "[encoded data removed]",
      "text/latex": [
       "$\\displaystyle 4.9479001194226$"
      ],
      "text/plain": [
       "4.947900119422595"
      ]
     },
     "execution_count": 8,
     "metadata": {},
     "output_type": "execute_result"
    }
   ],
   "source": [
    "(cdf_1['y'] - cdf_0['y']).mean()"
   ]
  },
  {
   "cell_type": "code",
   "execution_count": 9,
   "metadata": {
    "execution": {
     "iopub.execute_input": "2023-11-29T15:34:54.627169Z",
     "iopub.status.busy": "2023-11-29T15:34:54.626748Z",
     "iopub.status.idle": "2023-11-29T15:34:54.644605Z",
     "shell.execute_reply": "2023-11-29T15:34:54.644013Z"
    }
   },
   "outputs": [
    {
     "data": {
      "image/png": "[encoded data removed]",
      "text/latex": [
       "$\\displaystyle 0.177680111632614$"
      ],
      "text/plain": [
       "0.17768011163261446"
      ]
     },
     "execution_count": 9,
     "metadata": {},
     "output_type": "execute_result"
    }
   ],
   "source": [
    "1.96*(cdf_1['y'] - cdf_0['y']).std() / np.sqrt(len(df))"
   ]
  },
  {
   "cell_type": "markdown",
   "metadata": {},
   "source": [
    "Comparing to the estimate from OLS."
   ]
  },
  {
   "cell_type": "code",
   "execution_count": 10,
   "metadata": {
    "execution": {
     "iopub.execute_input": "2023-11-29T15:34:54.646829Z",
     "iopub.status.busy": "2023-11-29T15:34:54.646644Z",
     "iopub.status.idle": "2023-11-29T15:34:54.663297Z",
     "shell.execute_reply": "2023-11-29T15:34:54.662666Z"
    }
   },
   "outputs": [
    {
     "data": {
      "text/html": [
       "<table class=\"simpletable\">\n",
       "<caption>OLS Regression Results</caption>\n",
       "<tr>\n",
       "  <th>Dep. Variable:</th>            <td>y</td>        <th>  R-squared (uncentered):</th>      <td>   0.921</td>\n",
       "</tr>\n",
       "<tr>\n",
       "  <th>Model:</th>                   <td>OLS</td>       <th>  Adj. R-squared (uncentered):</th> <td>   0.921</td>\n",
       "</tr>\n",
       "<tr>\n",
       "  <th>Method:</th>             <td>Least Squares</td>  <th>  F-statistic:       </th>          <td>   5851.</td>\n",
       "</tr>\n",
       "<tr>\n",
       "  <th>Date:</th>             <td>Wed, 29 Nov 2023</td> <th>  Prob (F-statistic):</th>           <td>  0.00</td> \n",
       "</tr>\n",
       "<tr>\n",
       "  <th>Time:</th>                 <td>15:34:54</td>     <th>  Log-Likelihood:    </th>          <td> -1443.9</td>\n",
       "</tr>\n",
       "<tr>\n",
       "  <th>No. Observations:</th>      <td>  1000</td>      <th>  AIC:               </th>          <td>   2892.</td>\n",
       "</tr>\n",
       "<tr>\n",
       "  <th>Df Residuals:</th>          <td>   998</td>      <th>  BIC:               </th>          <td>   2902.</td>\n",
       "</tr>\n",
       "<tr>\n",
       "  <th>Df Model:</th>              <td>     2</td>      <th>                     </th>              <td> </td>   \n",
       "</tr>\n",
       "<tr>\n",
       "  <th>Covariance Type:</th>      <td>nonrobust</td>    <th>                     </th>              <td> </td>   \n",
       "</tr>\n",
       "</table>\n",
       "<table class=\"simpletable\">\n",
       "<tr>\n",
       "   <td></td>     <th>coef</th>     <th>std err</th>      <th>t</th>      <th>P>|t|</th>  <th>[0.025</th>    <th>0.975]</th>  \n",
       "</tr>\n",
       "<tr>\n",
       "  <th>x1</th> <td>    1.8079</td> <td>    0.031</td> <td>   57.416</td> <td> 0.000</td> <td>    1.746</td> <td>    1.870</td>\n",
       "</tr>\n",
       "<tr>\n",
       "  <th>x2</th> <td>    4.9646</td> <td>    0.048</td> <td>  102.528</td> <td> 0.000</td> <td>    4.870</td> <td>    5.060</td>\n",
       "</tr>\n",
       "</table>\n",
       "<table class=\"simpletable\">\n",
       "<tr>\n",
       "  <th>Omnibus:</th>       <td> 1.371</td> <th>  Durbin-Watson:     </th> <td>   2.095</td>\n",
       "</tr>\n",
       "<tr>\n",
       "  <th>Prob(Omnibus):</th> <td> 0.504</td> <th>  Jarque-Bera (JB):  </th> <td>   1.272</td>\n",
       "</tr>\n",
       "<tr>\n",
       "  <th>Skew:</th>          <td>-0.083</td> <th>  Prob(JB):          </th> <td>   0.530</td>\n",
       "</tr>\n",
       "<tr>\n",
       "  <th>Kurtosis:</th>      <td> 3.053</td> <th>  Cond. No.          </th> <td>    1.64</td>\n",
       "</tr>\n",
       "</table><br/><br/>Notes:<br/>[1] R² is computed without centering (uncentered) since the model does not contain a constant.<br/>[2] Standard Errors assume that the covariance matrix of the errors is correctly specified."
      ],
      "text/latex": [
       "\\begin{center}\n",
       "\\begin{tabular}{lclc}\n",
       "\\toprule\n",
       "\\textbf{Dep. Variable:}    &        y         & \\textbf{  R-squared (uncentered):}      &     0.921   \\\\\n",
       "\\textbf{Model:}            &       OLS        & \\textbf{  Adj. R-squared (uncentered):} &     0.921   \\\\\n",
       "\\textbf{Method:}           &  Least Squares   & \\textbf{  F-statistic:       }          &     5851.   \\\\\n",
       "\\textbf{Date:}             & Wed, 29 Nov 2023 & \\textbf{  Prob (F-statistic):}          &     0.00    \\\\\n",
       "\\textbf{Time:}             &     15:34:54     & \\textbf{  Log-Likelihood:    }          &   -1443.9   \\\\\n",
       "\\textbf{No. Observations:} &        1000      & \\textbf{  AIC:               }          &     2892.   \\\\\n",
       "\\textbf{Df Residuals:}     &         998      & \\textbf{  BIC:               }          &     2902.   \\\\\n",
       "\\textbf{Df Model:}         &           2      & \\textbf{                     }          &             \\\\\n",
       "\\textbf{Covariance Type:}  &    nonrobust     & \\textbf{                     }          &             \\\\\n",
       "\\bottomrule\n",
       "\\end{tabular}\n",
       "\\begin{tabular}{lcccccc}\n",
       "            & \\textbf{coef} & \\textbf{std err} & \\textbf{t} & \\textbf{P$> |$t$|$} & \\textbf{[0.025} & \\textbf{0.975]}  \\\\\n",
       "\\midrule\n",
       "\\textbf{x1} &       1.8079  &        0.031     &    57.416  &         0.000        &        1.746    &        1.870     \\\\\n",
       "\\textbf{x2} &       4.9646  &        0.048     &   102.528  &         0.000        &        4.870    &        5.060     \\\\\n",
       "\\bottomrule\n",
       "\\end{tabular}\n",
       "\\begin{tabular}{lclc}\n",
       "\\textbf{Omnibus:}       &  1.371 & \\textbf{  Durbin-Watson:     } &    2.095  \\\\\n",
       "\\textbf{Prob(Omnibus):} &  0.504 & \\textbf{  Jarque-Bera (JB):  } &    1.272  \\\\\n",
       "\\textbf{Skew:}          & -0.083 & \\textbf{  Prob(JB):          } &    0.530  \\\\\n",
       "\\textbf{Kurtosis:}      &  3.053 & \\textbf{  Cond. No.          } &     1.64  \\\\\n",
       "\\bottomrule\n",
       "\\end{tabular}\n",
       "%\\caption{OLS Regression Results}\n",
       "\\end{center}\n",
       "\n",
       "Notes: \\newline\n",
       " [1] R² is computed without centering (uncentered) since the model does not contain a constant. \\newline\n",
       " [2] Standard Errors assume that the covariance matrix of the errors is correctly specified."
      ],
      "text/plain": [
       "<class 'statsmodels.iolib.summary.Summary'>\n",
       "\"\"\"\n",
       "                                 OLS Regression Results                                \n",
       "=======================================================================================\n",
       "Dep. Variable:                      y   R-squared (uncentered):                   0.921\n",
       "Model:                            OLS   Adj. R-squared (uncentered):              0.921\n",
       "Method:                 Least Squares   F-statistic:                              5851.\n",
       "Date:                Wed, 29 Nov 2023   Prob (F-statistic):                        0.00\n",
       "Time:                        15:34:54   Log-Likelihood:                         -1443.9\n",
       "No. Observations:                1000   AIC:                                      2892.\n",
       "Df Residuals:                     998   BIC:                                      2902.\n",
       "Df Model:                           2                                                  \n",
       "Covariance Type:            nonrobust                                                  \n",
       "==============================================================================\n",
       "                 coef    std err          t      P>|t|      [0.025      0.975]\n",
       "------------------------------------------------------------------------------\n",
       "x1             1.8079      0.031     57.416      0.000       1.746       1.870\n",
       "x2             4.9646      0.048    102.528      0.000       4.870       5.060\n",
       "==============================================================================\n",
       "Omnibus:                        1.371   Durbin-Watson:                   2.095\n",
       "Prob(Omnibus):                  0.504   Jarque-Bera (JB):                1.272\n",
       "Skew:                          -0.083   Prob(JB):                        0.530\n",
       "Kurtosis:                       3.053   Cond. No.                         1.64\n",
       "==============================================================================\n",
       "\n",
       "Notes:\n",
       "[1] R² is computed without centering (uncentered) since the model does not contain a constant.\n",
       "[2] Standard Errors assume that the covariance matrix of the errors is correctly specified.\n",
       "\"\"\""
      ]
     },
     "execution_count": 10,
     "metadata": {},
     "output_type": "execute_result"
    }
   ],
   "source": [
    "model = OLS(np.asarray(df[outcome]), np.asarray(df[[common_cause, treatment]], dtype=np.float64))\n",
    "result = model.fit()\n",
    "result.summary()"
   ]
  }
 ],
 "metadata": {
  "kernelspec": {
   "display_name": "Python 3 (ipykernel)",
   "language": "python",
   "name": "python3"
  },
  "language_info": {
   "codemirror_mode": {
    "name": "ipython",
    "version": 3
   },
   "file_extension": ".py",
   "mimetype": "text/x-python",
   "name": "python",
   "nbconvert_exporter": "python",
   "pygments_lexer": "ipython3",
   "version": "3.8.10"
  },
  "toc": {
   "base_numbering": 1,
   "nav_menu": {},
   "number_sections": false,
   "sideBar": true,
   "skip_h1_title": true,
   "title_cell": "Table of Contents",
   "title_sidebar": "Contents",
   "toc_cell": false,
   "toc_position": {},
   "toc_section_display": true,
   "toc_window_display": false
  }
 },
 "nbformat": 4,
 "nbformat_minor": 4
}
