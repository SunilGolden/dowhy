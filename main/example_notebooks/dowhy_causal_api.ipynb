{
 "cells": [
  {
   "cell_type": "markdown",
   "metadata": {},
   "source": [
    "# Demo for the DoWhy causal API\n",
    "We show a simple example of adding a causal extension to any dataframe. "
   ]
  },
  {
   "cell_type": "code",
   "execution_count": 1,
   "metadata": {
    "execution": {
     "iopub.execute_input": "2023-01-16T04:32:15.615971Z",
     "iopub.status.busy": "2023-01-16T04:32:15.615774Z",
     "iopub.status.idle": "2023-01-16T04:32:17.406940Z",
     "shell.execute_reply": "2023-01-16T04:32:17.406323Z"
    }
   },
   "outputs": [],
   "source": [
    "import dowhy.datasets\n",
    "import dowhy.api\n",
    "\n",
    "import numpy as np\n",
    "import pandas as pd\n",
    "\n",
    "from statsmodels.api import OLS"
   ]
  },
  {
   "cell_type": "code",
   "execution_count": 2,
   "metadata": {
    "execution": {
     "iopub.execute_input": "2023-01-16T04:32:17.410669Z",
     "iopub.status.busy": "2023-01-16T04:32:17.409868Z",
     "iopub.status.idle": "2023-01-16T04:32:17.448393Z",
     "shell.execute_reply": "2023-01-16T04:32:17.447826Z"
    }
   },
   "outputs": [
    {
     "data": {
      "text/html": [
       "<div>\n",
       "<style scoped>\n",
       "    .dataframe tbody tr th:only-of-type {\n",
       "        vertical-align: middle;\n",
       "    }\n",
       "\n",
       "    .dataframe tbody tr th {\n",
       "        vertical-align: top;\n",
       "    }\n",
       "\n",
       "    .dataframe thead th {\n",
       "        text-align: right;\n",
       "    }\n",
       "</style>\n",
       "<table border=\"1\" class=\"dataframe\">\n",
       "  <thead>\n",
       "    <tr style=\"text-align: right;\">\n",
       "      <th></th>\n",
       "      <th>W0</th>\n",
       "      <th>v0</th>\n",
       "      <th>y</th>\n",
       "    </tr>\n",
       "  </thead>\n",
       "  <tbody>\n",
       "    <tr>\n",
       "      <th>0</th>\n",
       "      <td>0.994081</td>\n",
       "      <td>True</td>\n",
       "      <td>5.583377</td>\n",
       "    </tr>\n",
       "    <tr>\n",
       "      <th>1</th>\n",
       "      <td>-0.224768</td>\n",
       "      <td>False</td>\n",
       "      <td>-0.769014</td>\n",
       "    </tr>\n",
       "    <tr>\n",
       "      <th>2</th>\n",
       "      <td>0.490764</td>\n",
       "      <td>True</td>\n",
       "      <td>4.496010</td>\n",
       "    </tr>\n",
       "    <tr>\n",
       "      <th>3</th>\n",
       "      <td>-0.313571</td>\n",
       "      <td>True</td>\n",
       "      <td>5.274824</td>\n",
       "    </tr>\n",
       "    <tr>\n",
       "      <th>4</th>\n",
       "      <td>0.387613</td>\n",
       "      <td>True</td>\n",
       "      <td>5.448851</td>\n",
       "    </tr>\n",
       "    <tr>\n",
       "      <th>...</th>\n",
       "      <td>...</td>\n",
       "      <td>...</td>\n",
       "      <td>...</td>\n",
       "    </tr>\n",
       "    <tr>\n",
       "      <th>995</th>\n",
       "      <td>1.111757</td>\n",
       "      <td>True</td>\n",
       "      <td>6.261306</td>\n",
       "    </tr>\n",
       "    <tr>\n",
       "      <th>996</th>\n",
       "      <td>1.673024</td>\n",
       "      <td>True</td>\n",
       "      <td>6.498692</td>\n",
       "    </tr>\n",
       "    <tr>\n",
       "      <th>997</th>\n",
       "      <td>0.740590</td>\n",
       "      <td>False</td>\n",
       "      <td>2.247448</td>\n",
       "    </tr>\n",
       "    <tr>\n",
       "      <th>998</th>\n",
       "      <td>-0.371145</td>\n",
       "      <td>True</td>\n",
       "      <td>4.677709</td>\n",
       "    </tr>\n",
       "    <tr>\n",
       "      <th>999</th>\n",
       "      <td>-1.046087</td>\n",
       "      <td>False</td>\n",
       "      <td>-1.483398</td>\n",
       "    </tr>\n",
       "  </tbody>\n",
       "</table>\n",
       "<p>1000 rows × 3 columns</p>\n",
       "</div>"
      ],
      "text/plain": [
       "           W0     v0         y\n",
       "0    0.994081   True  5.583377\n",
       "1   -0.224768  False -0.769014\n",
       "2    0.490764   True  4.496010\n",
       "3   -0.313571   True  5.274824\n",
       "4    0.387613   True  5.448851\n",
       "..        ...    ...       ...\n",
       "995  1.111757   True  6.261306\n",
       "996  1.673024   True  6.498692\n",
       "997  0.740590  False  2.247448\n",
       "998 -0.371145   True  4.677709\n",
       "999 -1.046087  False -1.483398\n",
       "\n",
       "[1000 rows x 3 columns]"
      ]
     },
     "execution_count": 2,
     "metadata": {},
     "output_type": "execute_result"
    }
   ],
   "source": [
    "data = dowhy.datasets.linear_dataset(beta=5,\n",
    "        num_common_causes=1,\n",
    "        num_instruments = 0,\n",
    "        num_samples=1000,\n",
    "        treatment_is_binary=True)\n",
    "df = data['df']\n",
    "df['y'] = df['y'] + np.random.normal(size=len(df)) # Adding noise to data. Without noise, the variance in Y|X, Z is zero, and mcmc fails.\n",
    "#data['dot_graph'] = 'digraph { v ->y;X0-> v;X0-> y;}'\n",
    "\n",
    "treatment= data[\"treatment_name\"][0]\n",
    "outcome = data[\"outcome_name\"][0]\n",
    "common_cause = data[\"common_causes_names\"][0]\n",
    "df"
   ]
  },
  {
   "cell_type": "code",
   "execution_count": 3,
   "metadata": {
    "execution": {
     "iopub.execute_input": "2023-01-16T04:32:17.451168Z",
     "iopub.status.busy": "2023-01-16T04:32:17.450830Z",
     "iopub.status.idle": "2023-01-16T04:32:17.594857Z",
     "shell.execute_reply": "2023-01-16T04:32:17.594288Z"
    }
   },
   "outputs": [
    {
     "data": {
      "text/plain": [
       "<AxesSubplot: xlabel='v0'>"
      ]
     },
     "execution_count": 3,
     "metadata": {},
     "output_type": "execute_result"
    },
    {
     "data": {
      "image/png": "[encoded data removed]",
      "text/plain": [
       "<Figure size 640x480 with 1 Axes>"
      ]
     },
     "metadata": {},
     "output_type": "display_data"
    }
   ],
   "source": [
    "# data['df'] is just a regular pandas.DataFrame\n",
    "df.causal.do(x=treatment,\n",
    "                     variable_types={treatment: 'b', outcome: 'c', common_cause: 'c'},\n",
    "                     outcome=outcome,\n",
    "                     common_causes=[common_cause],\n",
    "                     proceed_when_unidentifiable=True).groupby(treatment).mean().plot(y=outcome, kind='bar')"
   ]
  },
  {
   "cell_type": "code",
   "execution_count": 4,
   "metadata": {
    "execution": {
     "iopub.execute_input": "2023-01-16T04:32:17.597795Z",
     "iopub.status.busy": "2023-01-16T04:32:17.597470Z",
     "iopub.status.idle": "2023-01-16T04:32:17.708508Z",
     "shell.execute_reply": "2023-01-16T04:32:17.707934Z"
    }
   },
   "outputs": [
    {
     "data": {
      "text/plain": [
       "<AxesSubplot: xlabel='v0'>"
      ]
     },
     "execution_count": 4,
     "metadata": {},
     "output_type": "execute_result"
    },
    {
     "data": {
      "image/png": "[encoded data removed]",
      "text/plain": [
       "<Figure size 640x480 with 1 Axes>"
      ]
     },
     "metadata": {},
     "output_type": "display_data"
    }
   ],
   "source": [
    "df.causal.do(x={treatment: 1}, \n",
    "              variable_types={treatment:'b', outcome: 'c', common_cause: 'c'}, \n",
    "              outcome=outcome,\n",
    "              method='weighting', \n",
    "              common_causes=[common_cause],\n",
    "              proceed_when_unidentifiable=True).groupby(treatment).mean().plot(y=outcome, kind='bar')"
   ]
  },
  {
   "cell_type": "code",
   "execution_count": 5,
   "metadata": {
    "execution": {
     "iopub.execute_input": "2023-01-16T04:32:17.712361Z",
     "iopub.status.busy": "2023-01-16T04:32:17.711225Z",
     "iopub.status.idle": "2023-01-16T04:32:17.741942Z",
     "shell.execute_reply": "2023-01-16T04:32:17.741450Z"
    }
   },
   "outputs": [],
   "source": [
    "cdf_1 = df.causal.do(x={treatment: 1}, \n",
    "              variable_types={treatment: 'b', outcome: 'c', common_cause: 'c'}, \n",
    "              outcome=outcome, \n",
    "              dot_graph=data['dot_graph'],\n",
    "              proceed_when_unidentifiable=True)\n",
    "\n",
    "cdf_0 = df.causal.do(x={treatment: 0}, \n",
    "              variable_types={treatment: 'b', outcome: 'c', common_cause: 'c'}, \n",
    "              outcome=outcome, \n",
    "              dot_graph=data['dot_graph'],\n",
    "              proceed_when_unidentifiable=True)\n"
   ]
  },
  {
   "cell_type": "code",
   "execution_count": 6,
   "metadata": {
    "execution": {
     "iopub.execute_input": "2023-01-16T04:32:17.744670Z",
     "iopub.status.busy": "2023-01-16T04:32:17.744448Z",
     "iopub.status.idle": "2023-01-16T04:32:17.755932Z",
     "shell.execute_reply": "2023-01-16T04:32:17.755397Z"
    },
    "scrolled": true
   },
   "outputs": [
    {
     "data": {
      "text/html": [
       "<div>\n",
       "<style scoped>\n",
       "    .dataframe tbody tr th:only-of-type {\n",
       "        vertical-align: middle;\n",
       "    }\n",
       "\n",
       "    .dataframe tbody tr th {\n",
       "        vertical-align: top;\n",
       "    }\n",
       "\n",
       "    .dataframe thead th {\n",
       "        text-align: right;\n",
       "    }\n",
       "</style>\n",
       "<table border=\"1\" class=\"dataframe\">\n",
       "  <thead>\n",
       "    <tr style=\"text-align: right;\">\n",
       "      <th></th>\n",
       "      <th>W0</th>\n",
       "      <th>v0</th>\n",
       "      <th>y</th>\n",
       "      <th>propensity_score</th>\n",
       "      <th>weight</th>\n",
       "    </tr>\n",
       "  </thead>\n",
       "  <tbody>\n",
       "    <tr>\n",
       "      <th>0</th>\n",
       "      <td>1.489551</td>\n",
       "      <td>False</td>\n",
       "      <td>-0.397503</td>\n",
       "      <td>0.218232</td>\n",
       "      <td>4.582276</td>\n",
       "    </tr>\n",
       "    <tr>\n",
       "      <th>1</th>\n",
       "      <td>-2.088249</td>\n",
       "      <td>False</td>\n",
       "      <td>-0.268969</td>\n",
       "      <td>0.858755</td>\n",
       "      <td>1.164476</td>\n",
       "    </tr>\n",
       "    <tr>\n",
       "      <th>2</th>\n",
       "      <td>0.441571</td>\n",
       "      <td>False</td>\n",
       "      <td>2.495968</td>\n",
       "      <td>0.407686</td>\n",
       "      <td>2.452869</td>\n",
       "    </tr>\n",
       "    <tr>\n",
       "      <th>3</th>\n",
       "      <td>-0.152797</td>\n",
       "      <td>False</td>\n",
       "      <td>0.904309</td>\n",
       "      <td>0.534519</td>\n",
       "      <td>1.870842</td>\n",
       "    </tr>\n",
       "    <tr>\n",
       "      <th>4</th>\n",
       "      <td>1.144298</td>\n",
       "      <td>False</td>\n",
       "      <td>1.487103</td>\n",
       "      <td>0.273152</td>\n",
       "      <td>3.660960</td>\n",
       "    </tr>\n",
       "    <tr>\n",
       "      <th>...</th>\n",
       "      <td>...</td>\n",
       "      <td>...</td>\n",
       "      <td>...</td>\n",
       "      <td>...</td>\n",
       "      <td>...</td>\n",
       "    </tr>\n",
       "    <tr>\n",
       "      <th>995</th>\n",
       "      <td>1.022637</td>\n",
       "      <td>False</td>\n",
       "      <td>0.569858</td>\n",
       "      <td>0.294439</td>\n",
       "      <td>3.396285</td>\n",
       "    </tr>\n",
       "    <tr>\n",
       "      <th>996</th>\n",
       "      <td>1.297967</td>\n",
       "      <td>False</td>\n",
       "      <td>1.083795</td>\n",
       "      <td>0.247681</td>\n",
       "      <td>4.037446</td>\n",
       "    </tr>\n",
       "    <tr>\n",
       "      <th>997</th>\n",
       "      <td>-1.160522</td>\n",
       "      <td>False</td>\n",
       "      <td>-2.103830</td>\n",
       "      <td>0.732254</td>\n",
       "      <td>1.365647</td>\n",
       "    </tr>\n",
       "    <tr>\n",
       "      <th>998</th>\n",
       "      <td>-0.566216</td>\n",
       "      <td>False</td>\n",
       "      <td>-2.300372</td>\n",
       "      <td>0.621120</td>\n",
       "      <td>1.609994</td>\n",
       "    </tr>\n",
       "    <tr>\n",
       "      <th>999</th>\n",
       "      <td>1.279596</td>\n",
       "      <td>False</td>\n",
       "      <td>0.365301</td>\n",
       "      <td>0.250641</td>\n",
       "      <td>3.989771</td>\n",
       "    </tr>\n",
       "  </tbody>\n",
       "</table>\n",
       "<p>1000 rows × 5 columns</p>\n",
       "</div>"
      ],
      "text/plain": [
       "           W0     v0         y  propensity_score    weight\n",
       "0    1.489551  False -0.397503          0.218232  4.582276\n",
       "1   -2.088249  False -0.268969          0.858755  1.164476\n",
       "2    0.441571  False  2.495968          0.407686  2.452869\n",
       "3   -0.152797  False  0.904309          0.534519  1.870842\n",
       "4    1.144298  False  1.487103          0.273152  3.660960\n",
       "..        ...    ...       ...               ...       ...\n",
       "995  1.022637  False  0.569858          0.294439  3.396285\n",
       "996  1.297967  False  1.083795          0.247681  4.037446\n",
       "997 -1.160522  False -2.103830          0.732254  1.365647\n",
       "998 -0.566216  False -2.300372          0.621120  1.609994\n",
       "999  1.279596  False  0.365301          0.250641  3.989771\n",
       "\n",
       "[1000 rows x 5 columns]"
      ]
     },
     "execution_count": 6,
     "metadata": {},
     "output_type": "execute_result"
    }
   ],
   "source": [
    "cdf_0"
   ]
  },
  {
   "cell_type": "code",
   "execution_count": 7,
   "metadata": {
    "execution": {
     "iopub.execute_input": "2023-01-16T04:32:17.758337Z",
     "iopub.status.busy": "2023-01-16T04:32:17.758021Z",
     "iopub.status.idle": "2023-01-16T04:32:17.767534Z",
     "shell.execute_reply": "2023-01-16T04:32:17.766924Z"
    }
   },
   "outputs": [
    {
     "data": {
      "text/html": [
       "<div>\n",
       "<style scoped>\n",
       "    .dataframe tbody tr th:only-of-type {\n",
       "        vertical-align: middle;\n",
       "    }\n",
       "\n",
       "    .dataframe tbody tr th {\n",
       "        vertical-align: top;\n",
       "    }\n",
       "\n",
       "    .dataframe thead th {\n",
       "        text-align: right;\n",
       "    }\n",
       "</style>\n",
       "<table border=\"1\" class=\"dataframe\">\n",
       "  <thead>\n",
       "    <tr style=\"text-align: right;\">\n",
       "      <th></th>\n",
       "      <th>W0</th>\n",
       "      <th>v0</th>\n",
       "      <th>y</th>\n",
       "      <th>propensity_score</th>\n",
       "      <th>weight</th>\n",
       "    </tr>\n",
       "  </thead>\n",
       "  <tbody>\n",
       "    <tr>\n",
       "      <th>0</th>\n",
       "      <td>1.072751</td>\n",
       "      <td>True</td>\n",
       "      <td>5.460526</td>\n",
       "      <td>0.714446</td>\n",
       "      <td>1.399687</td>\n",
       "    </tr>\n",
       "    <tr>\n",
       "      <th>1</th>\n",
       "      <td>0.059883</td>\n",
       "      <td>True</td>\n",
       "      <td>4.082386</td>\n",
       "      <td>0.511211</td>\n",
       "      <td>1.956138</td>\n",
       "    </tr>\n",
       "    <tr>\n",
       "      <th>2</th>\n",
       "      <td>-0.549464</td>\n",
       "      <td>True</td>\n",
       "      <td>5.520446</td>\n",
       "      <td>0.382280</td>\n",
       "      <td>2.615882</td>\n",
       "    </tr>\n",
       "    <tr>\n",
       "      <th>3</th>\n",
       "      <td>-0.849595</td>\n",
       "      <td>True</td>\n",
       "      <td>5.414027</td>\n",
       "      <td>0.323368</td>\n",
       "      <td>3.092451</td>\n",
       "    </tr>\n",
       "    <tr>\n",
       "      <th>4</th>\n",
       "      <td>-1.214343</td>\n",
       "      <td>True</td>\n",
       "      <td>3.671180</td>\n",
       "      <td>0.258758</td>\n",
       "      <td>3.864619</td>\n",
       "    </tr>\n",
       "    <tr>\n",
       "      <th>...</th>\n",
       "      <td>...</td>\n",
       "      <td>...</td>\n",
       "      <td>...</td>\n",
       "      <td>...</td>\n",
       "      <td>...</td>\n",
       "    </tr>\n",
       "    <tr>\n",
       "      <th>995</th>\n",
       "      <td>1.511646</td>\n",
       "      <td>True</td>\n",
       "      <td>5.333007</td>\n",
       "      <td>0.784996</td>\n",
       "      <td>1.273891</td>\n",
       "    </tr>\n",
       "    <tr>\n",
       "      <th>996</th>\n",
       "      <td>-0.759629</td>\n",
       "      <td>True</td>\n",
       "      <td>3.880913</td>\n",
       "      <td>0.340546</td>\n",
       "      <td>2.936461</td>\n",
       "    </tr>\n",
       "    <tr>\n",
       "      <th>997</th>\n",
       "      <td>2.266692</td>\n",
       "      <td>True</td>\n",
       "      <td>7.102017</td>\n",
       "      <td>0.874925</td>\n",
       "      <td>1.142955</td>\n",
       "    </tr>\n",
       "    <tr>\n",
       "      <th>998</th>\n",
       "      <td>1.166141</td>\n",
       "      <td>True</td>\n",
       "      <td>5.494695</td>\n",
       "      <td>0.730566</td>\n",
       "      <td>1.368801</td>\n",
       "    </tr>\n",
       "    <tr>\n",
       "      <th>999</th>\n",
       "      <td>0.438464</td>\n",
       "      <td>True</td>\n",
       "      <td>5.378153</td>\n",
       "      <td>0.591668</td>\n",
       "      <td>1.690138</td>\n",
       "    </tr>\n",
       "  </tbody>\n",
       "</table>\n",
       "<p>1000 rows × 5 columns</p>\n",
       "</div>"
      ],
      "text/plain": [
       "           W0    v0         y  propensity_score    weight\n",
       "0    1.072751  True  5.460526          0.714446  1.399687\n",
       "1    0.059883  True  4.082386          0.511211  1.956138\n",
       "2   -0.549464  True  5.520446          0.382280  2.615882\n",
       "3   -0.849595  True  5.414027          0.323368  3.092451\n",
       "4   -1.214343  True  3.671180          0.258758  3.864619\n",
       "..        ...   ...       ...               ...       ...\n",
       "995  1.511646  True  5.333007          0.784996  1.273891\n",
       "996 -0.759629  True  3.880913          0.340546  2.936461\n",
       "997  2.266692  True  7.102017          0.874925  1.142955\n",
       "998  1.166141  True  5.494695          0.730566  1.368801\n",
       "999  0.438464  True  5.378153          0.591668  1.690138\n",
       "\n",
       "[1000 rows x 5 columns]"
      ]
     },
     "execution_count": 7,
     "metadata": {},
     "output_type": "execute_result"
    }
   ],
   "source": [
    "cdf_1"
   ]
  },
  {
   "cell_type": "markdown",
   "metadata": {},
   "source": [
    "## Comparing the estimate to Linear Regression\n",
    "First, estimating the effect using the causal data frame, and the 95% confidence interval."
   ]
  },
  {
   "cell_type": "code",
   "execution_count": 8,
   "metadata": {
    "execution": {
     "iopub.execute_input": "2023-01-16T04:32:17.769929Z",
     "iopub.status.busy": "2023-01-16T04:32:17.769622Z",
     "iopub.status.idle": "2023-01-16T04:32:17.824695Z",
     "shell.execute_reply": "2023-01-16T04:32:17.824086Z"
    }
   },
   "outputs": [
    {
     "data": {
      "image/png": "[encoded data removed]",
      "text/latex": [
       "$\\displaystyle 4.98297696181663$"
      ],
      "text/plain": [
       "4.982976961816628"
      ]
     },
     "execution_count": 8,
     "metadata": {},
     "output_type": "execute_result"
    }
   ],
   "source": [
    "(cdf_1['y'] - cdf_0['y']).mean()"
   ]
  },
  {
   "cell_type": "code",
   "execution_count": 9,
   "metadata": {
    "execution": {
     "iopub.execute_input": "2023-01-16T04:32:17.827116Z",
     "iopub.status.busy": "2023-01-16T04:32:17.826788Z",
     "iopub.status.idle": "2023-01-16T04:32:17.848116Z",
     "shell.execute_reply": "2023-01-16T04:32:17.847593Z"
    }
   },
   "outputs": [
    {
     "data": {
      "image/png": "[encoded data removed]",
      "text/latex": [
       "$\\displaystyle 0.108137181525791$"
      ],
      "text/plain": [
       "0.10813718152579113"
      ]
     },
     "execution_count": 9,
     "metadata": {},
     "output_type": "execute_result"
    }
   ],
   "source": [
    "1.96*(cdf_1['y'] - cdf_0['y']).std() / np.sqrt(len(df))"
   ]
  },
  {
   "cell_type": "markdown",
   "metadata": {},
   "source": [
    "Comparing to the estimate from OLS."
   ]
  },
  {
   "cell_type": "code",
   "execution_count": 10,
   "metadata": {
    "execution": {
     "iopub.execute_input": "2023-01-16T04:32:17.850950Z",
     "iopub.status.busy": "2023-01-16T04:32:17.850642Z",
     "iopub.status.idle": "2023-01-16T04:32:17.867349Z",
     "shell.execute_reply": "2023-01-16T04:32:17.866809Z"
    }
   },
   "outputs": [
    {
     "data": {
      "text/html": [
       "<table class=\"simpletable\">\n",
       "<caption>OLS Regression Results</caption>\n",
       "<tr>\n",
       "  <th>Dep. Variable:</th>            <td>y</td>        <th>  R-squared (uncentered):</th>      <td>   0.954</td> \n",
       "</tr>\n",
       "<tr>\n",
       "  <th>Model:</th>                   <td>OLS</td>       <th>  Adj. R-squared (uncentered):</th> <td>   0.954</td> \n",
       "</tr>\n",
       "<tr>\n",
       "  <th>Method:</th>             <td>Least Squares</td>  <th>  F-statistic:       </th>          <td>1.042e+04</td>\n",
       "</tr>\n",
       "<tr>\n",
       "  <th>Date:</th>             <td>Mon, 16 Jan 2023</td> <th>  Prob (F-statistic):</th>           <td>  0.00</td>  \n",
       "</tr>\n",
       "<tr>\n",
       "  <th>Time:</th>                 <td>04:32:17</td>     <th>  Log-Likelihood:    </th>          <td> -1408.9</td> \n",
       "</tr>\n",
       "<tr>\n",
       "  <th>No. Observations:</th>      <td>  1000</td>      <th>  AIC:               </th>          <td>   2822.</td> \n",
       "</tr>\n",
       "<tr>\n",
       "  <th>Df Residuals:</th>          <td>   998</td>      <th>  BIC:               </th>          <td>   2832.</td> \n",
       "</tr>\n",
       "<tr>\n",
       "  <th>Df Model:</th>              <td>     2</td>      <th>                     </th>              <td> </td>    \n",
       "</tr>\n",
       "<tr>\n",
       "  <th>Covariance Type:</th>      <td>nonrobust</td>    <th>                     </th>              <td> </td>    \n",
       "</tr>\n",
       "</table>\n",
       "<table class=\"simpletable\">\n",
       "<tr>\n",
       "   <td></td>     <th>coef</th>     <th>std err</th>      <th>t</th>      <th>P>|t|</th>  <th>[0.025</th>    <th>0.975]</th>  \n",
       "</tr>\n",
       "<tr>\n",
       "  <th>x1</th> <td>    0.6989</td> <td>    0.034</td> <td>   20.734</td> <td> 0.000</td> <td>    0.633</td> <td>    0.765</td>\n",
       "</tr>\n",
       "<tr>\n",
       "  <th>x2</th> <td>    4.9985</td> <td>    0.051</td> <td>   97.684</td> <td> 0.000</td> <td>    4.898</td> <td>    5.099</td>\n",
       "</tr>\n",
       "</table>\n",
       "<table class=\"simpletable\">\n",
       "<tr>\n",
       "  <th>Omnibus:</th>       <td> 0.424</td> <th>  Durbin-Watson:     </th> <td>   2.033</td>\n",
       "</tr>\n",
       "<tr>\n",
       "  <th>Prob(Omnibus):</th> <td> 0.809</td> <th>  Jarque-Bera (JB):  </th> <td>   0.484</td>\n",
       "</tr>\n",
       "<tr>\n",
       "  <th>Skew:</th>          <td>-0.045</td> <th>  Prob(JB):          </th> <td>   0.785</td>\n",
       "</tr>\n",
       "<tr>\n",
       "  <th>Kurtosis:</th>      <td> 2.941</td> <th>  Cond. No.          </th> <td>    2.39</td>\n",
       "</tr>\n",
       "</table><br/><br/>Notes:<br/>[1] R² is computed without centering (uncentered) since the model does not contain a constant.<br/>[2] Standard Errors assume that the covariance matrix of the errors is correctly specified."
      ],
      "text/plain": [
       "<class 'statsmodels.iolib.summary.Summary'>\n",
       "\"\"\"\n",
       "                                 OLS Regression Results                                \n",
       "=======================================================================================\n",
       "Dep. Variable:                      y   R-squared (uncentered):                   0.954\n",
       "Model:                            OLS   Adj. R-squared (uncentered):              0.954\n",
       "Method:                 Least Squares   F-statistic:                          1.042e+04\n",
       "Date:                Mon, 16 Jan 2023   Prob (F-statistic):                        0.00\n",
       "Time:                        04:32:17   Log-Likelihood:                         -1408.9\n",
       "No. Observations:                1000   AIC:                                      2822.\n",
       "Df Residuals:                     998   BIC:                                      2832.\n",
       "Df Model:                           2                                                  \n",
       "Covariance Type:            nonrobust                                                  \n",
       "==============================================================================\n",
       "                 coef    std err          t      P>|t|      [0.025      0.975]\n",
       "------------------------------------------------------------------------------\n",
       "x1             0.6989      0.034     20.734      0.000       0.633       0.765\n",
       "x2             4.9985      0.051     97.684      0.000       4.898       5.099\n",
       "==============================================================================\n",
       "Omnibus:                        0.424   Durbin-Watson:                   2.033\n",
       "Prob(Omnibus):                  0.809   Jarque-Bera (JB):                0.484\n",
       "Skew:                          -0.045   Prob(JB):                        0.785\n",
       "Kurtosis:                       2.941   Cond. No.                         2.39\n",
       "==============================================================================\n",
       "\n",
       "Notes:\n",
       "[1] R² is computed without centering (uncentered) since the model does not contain a constant.\n",
       "[2] Standard Errors assume that the covariance matrix of the errors is correctly specified.\n",
       "\"\"\""
      ]
     },
     "execution_count": 10,
     "metadata": {},
     "output_type": "execute_result"
    }
   ],
   "source": [
    "model = OLS(np.asarray(df[outcome]), np.asarray(df[[common_cause, treatment]], dtype=np.float64))\n",
    "result = model.fit()\n",
    "result.summary()"
   ]
  }
 ],
 "metadata": {
  "kernelspec": {
   "display_name": "Python 3",
   "language": "python",
   "name": "python3"
  },
  "language_info": {
   "codemirror_mode": {
    "name": "ipython",
    "version": 3
   },
   "file_extension": ".py",
   "mimetype": "text/x-python",
   "name": "python",
   "nbconvert_exporter": "python",
   "pygments_lexer": "ipython3",
   "version": "3.8.10"
  },
  "toc": {
   "base_numbering": 1,
   "nav_menu": {},
   "number_sections": false,
   "sideBar": true,
   "skip_h1_title": true,
   "title_cell": "Table of Contents",
   "title_sidebar": "Contents",
   "toc_cell": false,
   "toc_position": {},
   "toc_section_display": true,
   "toc_window_display": false
  }
 },
 "nbformat": 4,
 "nbformat_minor": 4
}
