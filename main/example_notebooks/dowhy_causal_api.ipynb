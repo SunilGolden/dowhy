{
 "cells": [
  {
   "cell_type": "markdown",
   "metadata": {},
   "source": [
    "# Demo for the DoWhy causal API\n",
    "We show a simple example of adding a causal extension to any dataframe. "
   ]
  },
  {
   "cell_type": "code",
   "execution_count": 1,
   "metadata": {
    "execution": {
     "iopub.execute_input": "2023-11-02T19:08:47.881365Z",
     "iopub.status.busy": "2023-11-02T19:08:47.881136Z",
     "iopub.status.idle": "2023-11-02T19:08:49.652220Z",
     "shell.execute_reply": "2023-11-02T19:08:49.651494Z"
    }
   },
   "outputs": [],
   "source": [
    "import dowhy.datasets\n",
    "import dowhy.api\n",
    "\n",
    "import numpy as np\n",
    "import pandas as pd\n",
    "\n",
    "from statsmodels.api import OLS"
   ]
  },
  {
   "cell_type": "code",
   "execution_count": 2,
   "metadata": {
    "execution": {
     "iopub.execute_input": "2023-11-02T19:08:49.656105Z",
     "iopub.status.busy": "2023-11-02T19:08:49.655495Z",
     "iopub.status.idle": "2023-11-02T19:08:49.704002Z",
     "shell.execute_reply": "2023-11-02T19:08:49.703249Z"
    }
   },
   "outputs": [
    {
     "data": {
      "text/html": [
       "<div>\n",
       "<style scoped>\n",
       "    .dataframe tbody tr th:only-of-type {\n",
       "        vertical-align: middle;\n",
       "    }\n",
       "\n",
       "    .dataframe tbody tr th {\n",
       "        vertical-align: top;\n",
       "    }\n",
       "\n",
       "    .dataframe thead th {\n",
       "        text-align: right;\n",
       "    }\n",
       "</style>\n",
       "<table border=\"1\" class=\"dataframe\">\n",
       "  <thead>\n",
       "    <tr style=\"text-align: right;\">\n",
       "      <th></th>\n",
       "      <th>W0</th>\n",
       "      <th>v0</th>\n",
       "      <th>y</th>\n",
       "    </tr>\n",
       "  </thead>\n",
       "  <tbody>\n",
       "    <tr>\n",
       "      <th>0</th>\n",
       "      <td>-0.198480</td>\n",
       "      <td>False</td>\n",
       "      <td>-1.845346</td>\n",
       "    </tr>\n",
       "    <tr>\n",
       "      <th>1</th>\n",
       "      <td>0.903835</td>\n",
       "      <td>True</td>\n",
       "      <td>5.670382</td>\n",
       "    </tr>\n",
       "    <tr>\n",
       "      <th>2</th>\n",
       "      <td>-0.765031</td>\n",
       "      <td>False</td>\n",
       "      <td>-0.498389</td>\n",
       "    </tr>\n",
       "    <tr>\n",
       "      <th>3</th>\n",
       "      <td>-0.051720</td>\n",
       "      <td>False</td>\n",
       "      <td>-1.400600</td>\n",
       "    </tr>\n",
       "    <tr>\n",
       "      <th>4</th>\n",
       "      <td>0.139075</td>\n",
       "      <td>False</td>\n",
       "      <td>0.580501</td>\n",
       "    </tr>\n",
       "    <tr>\n",
       "      <th>...</th>\n",
       "      <td>...</td>\n",
       "      <td>...</td>\n",
       "      <td>...</td>\n",
       "    </tr>\n",
       "    <tr>\n",
       "      <th>995</th>\n",
       "      <td>-1.990836</td>\n",
       "      <td>False</td>\n",
       "      <td>-2.737242</td>\n",
       "    </tr>\n",
       "    <tr>\n",
       "      <th>996</th>\n",
       "      <td>0.329670</td>\n",
       "      <td>False</td>\n",
       "      <td>-0.333426</td>\n",
       "    </tr>\n",
       "    <tr>\n",
       "      <th>997</th>\n",
       "      <td>2.934460</td>\n",
       "      <td>True</td>\n",
       "      <td>7.790200</td>\n",
       "    </tr>\n",
       "    <tr>\n",
       "      <th>998</th>\n",
       "      <td>1.388273</td>\n",
       "      <td>True</td>\n",
       "      <td>5.067398</td>\n",
       "    </tr>\n",
       "    <tr>\n",
       "      <th>999</th>\n",
       "      <td>1.113083</td>\n",
       "      <td>True</td>\n",
       "      <td>5.143310</td>\n",
       "    </tr>\n",
       "  </tbody>\n",
       "</table>\n",
       "<p>1000 rows × 3 columns</p>\n",
       "</div>"
      ],
      "text/plain": [
       "           W0     v0         y\n",
       "0   -0.198480  False -1.845346\n",
       "1    0.903835   True  5.670382\n",
       "2   -0.765031  False -0.498389\n",
       "3   -0.051720  False -1.400600\n",
       "4    0.139075  False  0.580501\n",
       "..        ...    ...       ...\n",
       "995 -1.990836  False -2.737242\n",
       "996  0.329670  False -0.333426\n",
       "997  2.934460   True  7.790200\n",
       "998  1.388273   True  5.067398\n",
       "999  1.113083   True  5.143310\n",
       "\n",
       "[1000 rows x 3 columns]"
      ]
     },
     "execution_count": 2,
     "metadata": {},
     "output_type": "execute_result"
    }
   ],
   "source": [
    "data = dowhy.datasets.linear_dataset(beta=5,\n",
    "        num_common_causes=1,\n",
    "        num_instruments = 0,\n",
    "        num_samples=1000,\n",
    "        treatment_is_binary=True)\n",
    "df = data['df']\n",
    "df['y'] = df['y'] + np.random.normal(size=len(df)) # Adding noise to data. Without noise, the variance in Y|X, Z is zero, and mcmc fails.\n",
    "#data['dot_graph'] = 'digraph { v ->y;X0-> v;X0-> y;}'\n",
    "\n",
    "treatment= data[\"treatment_name\"][0]\n",
    "outcome = data[\"outcome_name\"][0]\n",
    "common_cause = data[\"common_causes_names\"][0]\n",
    "df"
   ]
  },
  {
   "cell_type": "code",
   "execution_count": 3,
   "metadata": {
    "execution": {
     "iopub.execute_input": "2023-11-02T19:08:49.707983Z",
     "iopub.status.busy": "2023-11-02T19:08:49.707424Z",
     "iopub.status.idle": "2023-11-02T19:08:49.915775Z",
     "shell.execute_reply": "2023-11-02T19:08:49.915102Z"
    }
   },
   "outputs": [
    {
     "data": {
      "text/plain": [
       "<Axes: xlabel='v0'>"
      ]
     },
     "execution_count": 3,
     "metadata": {},
     "output_type": "execute_result"
    },
    {
     "data": {
      "image/png": "[encoded data removed]",
      "text/plain": [
       "<Figure size 640x480 with 1 Axes>"
      ]
     },
     "metadata": {},
     "output_type": "display_data"
    }
   ],
   "source": [
    "# data['df'] is just a regular pandas.DataFrame\n",
    "df.causal.do(x=treatment,\n",
    "                     variable_types={treatment: 'b', outcome: 'c', common_cause: 'c'},\n",
    "                     outcome=outcome,\n",
    "                     common_causes=[common_cause],\n",
    "                     proceed_when_unidentifiable=True).groupby(treatment).mean().plot(y=outcome, kind='bar')"
   ]
  },
  {
   "cell_type": "code",
   "execution_count": 4,
   "metadata": {
    "execution": {
     "iopub.execute_input": "2023-11-02T19:08:49.918951Z",
     "iopub.status.busy": "2023-11-02T19:08:49.918485Z",
     "iopub.status.idle": "2023-11-02T19:08:50.057756Z",
     "shell.execute_reply": "2023-11-02T19:08:50.057140Z"
    }
   },
   "outputs": [
    {
     "data": {
      "text/plain": [
       "<Axes: xlabel='v0'>"
      ]
     },
     "execution_count": 4,
     "metadata": {},
     "output_type": "execute_result"
    },
    {
     "data": {
      "image/png": "[encoded data removed]",
      "text/plain": [
       "<Figure size 640x480 with 1 Axes>"
      ]
     },
     "metadata": {},
     "output_type": "display_data"
    }
   ],
   "source": [
    "df.causal.do(x={treatment: 1}, \n",
    "              variable_types={treatment:'b', outcome: 'c', common_cause: 'c'}, \n",
    "              outcome=outcome,\n",
    "              method='weighting', \n",
    "              common_causes=[common_cause],\n",
    "              proceed_when_unidentifiable=True).groupby(treatment).mean().plot(y=outcome, kind='bar')"
   ]
  },
  {
   "cell_type": "code",
   "execution_count": 5,
   "metadata": {
    "execution": {
     "iopub.execute_input": "2023-11-02T19:08:50.060965Z",
     "iopub.status.busy": "2023-11-02T19:08:50.060486Z",
     "iopub.status.idle": "2023-11-02T19:08:50.093808Z",
     "shell.execute_reply": "2023-11-02T19:08:50.093139Z"
    }
   },
   "outputs": [],
   "source": [
    "cdf_1 = df.causal.do(x={treatment: 1}, \n",
    "              variable_types={treatment: 'b', outcome: 'c', common_cause: 'c'}, \n",
    "              outcome=outcome, \n",
    "              dot_graph=data['dot_graph'],\n",
    "              proceed_when_unidentifiable=True)\n",
    "\n",
    "cdf_0 = df.causal.do(x={treatment: 0}, \n",
    "              variable_types={treatment: 'b', outcome: 'c', common_cause: 'c'}, \n",
    "              outcome=outcome, \n",
    "              dot_graph=data['dot_graph'],\n",
    "              proceed_when_unidentifiable=True)\n"
   ]
  },
  {
   "cell_type": "code",
   "execution_count": 6,
   "metadata": {
    "execution": {
     "iopub.execute_input": "2023-11-02T19:08:50.097452Z",
     "iopub.status.busy": "2023-11-02T19:08:50.097033Z",
     "iopub.status.idle": "2023-11-02T19:08:50.107987Z",
     "shell.execute_reply": "2023-11-02T19:08:50.107415Z"
    },
    "scrolled": true
   },
   "outputs": [
    {
     "data": {
      "text/html": [
       "<div>\n",
       "<style scoped>\n",
       "    .dataframe tbody tr th:only-of-type {\n",
       "        vertical-align: middle;\n",
       "    }\n",
       "\n",
       "    .dataframe tbody tr th {\n",
       "        vertical-align: top;\n",
       "    }\n",
       "\n",
       "    .dataframe thead th {\n",
       "        text-align: right;\n",
       "    }\n",
       "</style>\n",
       "<table border=\"1\" class=\"dataframe\">\n",
       "  <thead>\n",
       "    <tr style=\"text-align: right;\">\n",
       "      <th></th>\n",
       "      <th>W0</th>\n",
       "      <th>v0</th>\n",
       "      <th>y</th>\n",
       "      <th>propensity_score</th>\n",
       "      <th>weight</th>\n",
       "    </tr>\n",
       "  </thead>\n",
       "  <tbody>\n",
       "    <tr>\n",
       "      <th>0</th>\n",
       "      <td>0.702047</td>\n",
       "      <td>False</td>\n",
       "      <td>0.876622</td>\n",
       "      <td>0.267046</td>\n",
       "      <td>3.744672</td>\n",
       "    </tr>\n",
       "    <tr>\n",
       "      <th>1</th>\n",
       "      <td>1.271610</td>\n",
       "      <td>False</td>\n",
       "      <td>1.001183</td>\n",
       "      <td>0.135510</td>\n",
       "      <td>7.379551</td>\n",
       "    </tr>\n",
       "    <tr>\n",
       "      <th>2</th>\n",
       "      <td>0.418509</td>\n",
       "      <td>False</td>\n",
       "      <td>1.266033</td>\n",
       "      <td>0.356684</td>\n",
       "      <td>2.803603</td>\n",
       "    </tr>\n",
       "    <tr>\n",
       "      <th>3</th>\n",
       "      <td>-1.164456</td>\n",
       "      <td>False</td>\n",
       "      <td>-2.301809</td>\n",
       "      <td>0.852500</td>\n",
       "      <td>1.173021</td>\n",
       "    </tr>\n",
       "    <tr>\n",
       "      <th>4</th>\n",
       "      <td>0.492995</td>\n",
       "      <td>False</td>\n",
       "      <td>0.187609</td>\n",
       "      <td>0.331793</td>\n",
       "      <td>3.013931</td>\n",
       "    </tr>\n",
       "    <tr>\n",
       "      <th>...</th>\n",
       "      <td>...</td>\n",
       "      <td>...</td>\n",
       "      <td>...</td>\n",
       "      <td>...</td>\n",
       "      <td>...</td>\n",
       "    </tr>\n",
       "    <tr>\n",
       "      <th>995</th>\n",
       "      <td>0.897067</td>\n",
       "      <td>False</td>\n",
       "      <td>1.856628</td>\n",
       "      <td>0.214425</td>\n",
       "      <td>4.663637</td>\n",
       "    </tr>\n",
       "    <tr>\n",
       "      <th>996</th>\n",
       "      <td>-1.470838</td>\n",
       "      <td>False</td>\n",
       "      <td>-3.333185</td>\n",
       "      <td>0.900970</td>\n",
       "      <td>1.109915</td>\n",
       "    </tr>\n",
       "    <tr>\n",
       "      <th>997</th>\n",
       "      <td>1.344208</td>\n",
       "      <td>False</td>\n",
       "      <td>1.185349</td>\n",
       "      <td>0.123402</td>\n",
       "      <td>8.103614</td>\n",
       "    </tr>\n",
       "    <tr>\n",
       "      <th>998</th>\n",
       "      <td>1.129388</td>\n",
       "      <td>False</td>\n",
       "      <td>0.784521</td>\n",
       "      <td>0.162127</td>\n",
       "      <td>6.168016</td>\n",
       "    </tr>\n",
       "    <tr>\n",
       "      <th>999</th>\n",
       "      <td>1.386394</td>\n",
       "      <td>False</td>\n",
       "      <td>1.870720</td>\n",
       "      <td>0.116801</td>\n",
       "      <td>8.561536</td>\n",
       "    </tr>\n",
       "  </tbody>\n",
       "</table>\n",
       "<p>1000 rows × 5 columns</p>\n",
       "</div>"
      ],
      "text/plain": [
       "           W0     v0         y  propensity_score    weight\n",
       "0    0.702047  False  0.876622          0.267046  3.744672\n",
       "1    1.271610  False  1.001183          0.135510  7.379551\n",
       "2    0.418509  False  1.266033          0.356684  2.803603\n",
       "3   -1.164456  False -2.301809          0.852500  1.173021\n",
       "4    0.492995  False  0.187609          0.331793  3.013931\n",
       "..        ...    ...       ...               ...       ...\n",
       "995  0.897067  False  1.856628          0.214425  4.663637\n",
       "996 -1.470838  False -3.333185          0.900970  1.109915\n",
       "997  1.344208  False  1.185349          0.123402  8.103614\n",
       "998  1.129388  False  0.784521          0.162127  6.168016\n",
       "999  1.386394  False  1.870720          0.116801  8.561536\n",
       "\n",
       "[1000 rows x 5 columns]"
      ]
     },
     "execution_count": 6,
     "metadata": {},
     "output_type": "execute_result"
    }
   ],
   "source": [
    "cdf_0"
   ]
  },
  {
   "cell_type": "code",
   "execution_count": 7,
   "metadata": {
    "execution": {
     "iopub.execute_input": "2023-11-02T19:08:50.110944Z",
     "iopub.status.busy": "2023-11-02T19:08:50.110460Z",
     "iopub.status.idle": "2023-11-02T19:08:50.121137Z",
     "shell.execute_reply": "2023-11-02T19:08:50.120571Z"
    }
   },
   "outputs": [
    {
     "data": {
      "text/html": [
       "<div>\n",
       "<style scoped>\n",
       "    .dataframe tbody tr th:only-of-type {\n",
       "        vertical-align: middle;\n",
       "    }\n",
       "\n",
       "    .dataframe tbody tr th {\n",
       "        vertical-align: top;\n",
       "    }\n",
       "\n",
       "    .dataframe thead th {\n",
       "        text-align: right;\n",
       "    }\n",
       "</style>\n",
       "<table border=\"1\" class=\"dataframe\">\n",
       "  <thead>\n",
       "    <tr style=\"text-align: right;\">\n",
       "      <th></th>\n",
       "      <th>W0</th>\n",
       "      <th>v0</th>\n",
       "      <th>y</th>\n",
       "      <th>propensity_score</th>\n",
       "      <th>weight</th>\n",
       "    </tr>\n",
       "  </thead>\n",
       "  <tbody>\n",
       "    <tr>\n",
       "      <th>0</th>\n",
       "      <td>-1.410460</td>\n",
       "      <td>True</td>\n",
       "      <td>1.603712</td>\n",
       "      <td>0.107299</td>\n",
       "      <td>9.319782</td>\n",
       "    </tr>\n",
       "    <tr>\n",
       "      <th>1</th>\n",
       "      <td>-0.038114</td>\n",
       "      <td>True</td>\n",
       "      <td>5.906625</td>\n",
       "      <td>0.478413</td>\n",
       "      <td>2.090245</td>\n",
       "    </tr>\n",
       "    <tr>\n",
       "      <th>2</th>\n",
       "      <td>-0.302803</td>\n",
       "      <td>True</td>\n",
       "      <td>6.007793</td>\n",
       "      <td>0.382638</td>\n",
       "      <td>2.613436</td>\n",
       "    </tr>\n",
       "    <tr>\n",
       "      <th>3</th>\n",
       "      <td>-0.453392</td>\n",
       "      <td>True</td>\n",
       "      <td>3.987671</td>\n",
       "      <td>0.331510</td>\n",
       "      <td>3.016505</td>\n",
       "    </tr>\n",
       "    <tr>\n",
       "      <th>4</th>\n",
       "      <td>0.815922</td>\n",
       "      <td>True</td>\n",
       "      <td>7.202273</td>\n",
       "      <td>0.764641</td>\n",
       "      <td>1.307804</td>\n",
       "    </tr>\n",
       "    <tr>\n",
       "      <th>...</th>\n",
       "      <td>...</td>\n",
       "      <td>...</td>\n",
       "      <td>...</td>\n",
       "      <td>...</td>\n",
       "      <td>...</td>\n",
       "    </tr>\n",
       "    <tr>\n",
       "      <th>995</th>\n",
       "      <td>1.772375</td>\n",
       "      <td>True</td>\n",
       "      <td>7.903478</td>\n",
       "      <td>0.930517</td>\n",
       "      <td>1.074672</td>\n",
       "    </tr>\n",
       "    <tr>\n",
       "      <th>996</th>\n",
       "      <td>-0.608199</td>\n",
       "      <td>True</td>\n",
       "      <td>3.890855</td>\n",
       "      <td>0.282801</td>\n",
       "      <td>3.536057</td>\n",
       "    </tr>\n",
       "    <tr>\n",
       "      <th>997</th>\n",
       "      <td>-0.105215</td>\n",
       "      <td>True</td>\n",
       "      <td>5.379397</td>\n",
       "      <td>0.453691</td>\n",
       "      <td>2.204143</td>\n",
       "    </tr>\n",
       "    <tr>\n",
       "      <th>998</th>\n",
       "      <td>-0.479767</td>\n",
       "      <td>True</td>\n",
       "      <td>5.664884</td>\n",
       "      <td>0.322912</td>\n",
       "      <td>3.096822</td>\n",
       "    </tr>\n",
       "    <tr>\n",
       "      <th>999</th>\n",
       "      <td>1.147772</td>\n",
       "      <td>True</td>\n",
       "      <td>6.290209</td>\n",
       "      <td>0.841537</td>\n",
       "      <td>1.188301</td>\n",
       "    </tr>\n",
       "  </tbody>\n",
       "</table>\n",
       "<p>1000 rows × 5 columns</p>\n",
       "</div>"
      ],
      "text/plain": [
       "           W0    v0         y  propensity_score    weight\n",
       "0   -1.410460  True  1.603712          0.107299  9.319782\n",
       "1   -0.038114  True  5.906625          0.478413  2.090245\n",
       "2   -0.302803  True  6.007793          0.382638  2.613436\n",
       "3   -0.453392  True  3.987671          0.331510  3.016505\n",
       "4    0.815922  True  7.202273          0.764641  1.307804\n",
       "..        ...   ...       ...               ...       ...\n",
       "995  1.772375  True  7.903478          0.930517  1.074672\n",
       "996 -0.608199  True  3.890855          0.282801  3.536057\n",
       "997 -0.105215  True  5.379397          0.453691  2.204143\n",
       "998 -0.479767  True  5.664884          0.322912  3.096822\n",
       "999  1.147772  True  6.290209          0.841537  1.188301\n",
       "\n",
       "[1000 rows x 5 columns]"
      ]
     },
     "execution_count": 7,
     "metadata": {},
     "output_type": "execute_result"
    }
   ],
   "source": [
    "cdf_1"
   ]
  },
  {
   "cell_type": "markdown",
   "metadata": {},
   "source": [
    "## Comparing the estimate to Linear Regression\n",
    "First, estimating the effect using the causal data frame, and the 95% confidence interval."
   ]
  },
  {
   "cell_type": "code",
   "execution_count": 8,
   "metadata": {
    "execution": {
     "iopub.execute_input": "2023-11-02T19:08:50.124120Z",
     "iopub.status.busy": "2023-11-02T19:08:50.123652Z",
     "iopub.status.idle": "2023-11-02T19:08:50.188419Z",
     "shell.execute_reply": "2023-11-02T19:08:50.187726Z"
    }
   },
   "outputs": [
    {
     "data": {
      "image/png": "[encoded data removed]",
      "text/latex": [
       "$\\displaystyle 5.17539318050294$"
      ],
      "text/plain": [
       "5.175393180502937"
      ]
     },
     "execution_count": 8,
     "metadata": {},
     "output_type": "execute_result"
    }
   ],
   "source": [
    "(cdf_1['y'] - cdf_0['y']).mean()"
   ]
  },
  {
   "cell_type": "code",
   "execution_count": 9,
   "metadata": {
    "execution": {
     "iopub.execute_input": "2023-11-02T19:08:50.191793Z",
     "iopub.status.busy": "2023-11-02T19:08:50.191207Z",
     "iopub.status.idle": "2023-11-02T19:08:50.216618Z",
     "shell.execute_reply": "2023-11-02T19:08:50.215933Z"
    }
   },
   "outputs": [
    {
     "data": {
      "image/png": "[encoded data removed]",
      "text/latex": [
       "$\\displaystyle 0.128944059578047$"
      ],
      "text/plain": [
       "0.12894405957804714"
      ]
     },
     "execution_count": 9,
     "metadata": {},
     "output_type": "execute_result"
    }
   ],
   "source": [
    "1.96*(cdf_1['y'] - cdf_0['y']).std() / np.sqrt(len(df))"
   ]
  },
  {
   "cell_type": "markdown",
   "metadata": {},
   "source": [
    "Comparing to the estimate from OLS."
   ]
  },
  {
   "cell_type": "code",
   "execution_count": 10,
   "metadata": {
    "execution": {
     "iopub.execute_input": "2023-11-02T19:08:50.220125Z",
     "iopub.status.busy": "2023-11-02T19:08:50.219544Z",
     "iopub.status.idle": "2023-11-02T19:08:50.244174Z",
     "shell.execute_reply": "2023-11-02T19:08:50.243359Z"
    }
   },
   "outputs": [
    {
     "data": {
      "text/html": [
       "<table class=\"simpletable\">\n",
       "<caption>OLS Regression Results</caption>\n",
       "<tr>\n",
       "  <th>Dep. Variable:</th>            <td>y</td>        <th>  R-squared (uncentered):</th>      <td>   0.952</td>\n",
       "</tr>\n",
       "<tr>\n",
       "  <th>Model:</th>                   <td>OLS</td>       <th>  Adj. R-squared (uncentered):</th> <td>   0.952</td>\n",
       "</tr>\n",
       "<tr>\n",
       "  <th>Method:</th>             <td>Least Squares</td>  <th>  F-statistic:       </th>          <td>   9963.</td>\n",
       "</tr>\n",
       "<tr>\n",
       "  <th>Date:</th>             <td>Thu, 02 Nov 2023</td> <th>  Prob (F-statistic):</th>           <td>  0.00</td> \n",
       "</tr>\n",
       "<tr>\n",
       "  <th>Time:</th>                 <td>19:08:50</td>     <th>  Log-Likelihood:    </th>          <td> -1428.3</td>\n",
       "</tr>\n",
       "<tr>\n",
       "  <th>No. Observations:</th>      <td>  1000</td>      <th>  AIC:               </th>          <td>   2861.</td>\n",
       "</tr>\n",
       "<tr>\n",
       "  <th>Df Residuals:</th>          <td>   998</td>      <th>  BIC:               </th>          <td>   2870.</td>\n",
       "</tr>\n",
       "<tr>\n",
       "  <th>Df Model:</th>              <td>     2</td>      <th>                     </th>              <td> </td>   \n",
       "</tr>\n",
       "<tr>\n",
       "  <th>Covariance Type:</th>      <td>nonrobust</td>    <th>                     </th>              <td> </td>   \n",
       "</tr>\n",
       "</table>\n",
       "<table class=\"simpletable\">\n",
       "<tr>\n",
       "   <td></td>     <th>coef</th>     <th>std err</th>      <th>t</th>      <th>P>|t|</th>  <th>[0.025</th>    <th>0.975]</th>  \n",
       "</tr>\n",
       "<tr>\n",
       "  <th>x1</th> <td>    1.1304</td> <td>    0.037</td> <td>   30.887</td> <td> 0.000</td> <td>    1.059</td> <td>    1.202</td>\n",
       "</tr>\n",
       "<tr>\n",
       "  <th>x2</th> <td>    5.1402</td> <td>    0.050</td> <td>  103.204</td> <td> 0.000</td> <td>    5.042</td> <td>    5.238</td>\n",
       "</tr>\n",
       "</table>\n",
       "<table class=\"simpletable\">\n",
       "<tr>\n",
       "  <th>Omnibus:</th>       <td> 1.784</td> <th>  Durbin-Watson:     </th> <td>   1.937</td>\n",
       "</tr>\n",
       "<tr>\n",
       "  <th>Prob(Omnibus):</th> <td> 0.410</td> <th>  Jarque-Bera (JB):  </th> <td>   1.764</td>\n",
       "</tr>\n",
       "<tr>\n",
       "  <th>Skew:</th>          <td>-0.008</td> <th>  Prob(JB):          </th> <td>   0.414</td>\n",
       "</tr>\n",
       "<tr>\n",
       "  <th>Kurtosis:</th>      <td> 3.205</td> <th>  Cond. No.          </th> <td>    1.90</td>\n",
       "</tr>\n",
       "</table><br/><br/>Notes:<br/>[1] R² is computed without centering (uncentered) since the model does not contain a constant.<br/>[2] Standard Errors assume that the covariance matrix of the errors is correctly specified."
      ],
      "text/latex": [
       "\\begin{center}\n",
       "\\begin{tabular}{lclc}\n",
       "\\toprule\n",
       "\\textbf{Dep. Variable:}    &        y         & \\textbf{  R-squared (uncentered):}      &     0.952   \\\\\n",
       "\\textbf{Model:}            &       OLS        & \\textbf{  Adj. R-squared (uncentered):} &     0.952   \\\\\n",
       "\\textbf{Method:}           &  Least Squares   & \\textbf{  F-statistic:       }          &     9963.   \\\\\n",
       "\\textbf{Date:}             & Thu, 02 Nov 2023 & \\textbf{  Prob (F-statistic):}          &     0.00    \\\\\n",
       "\\textbf{Time:}             &     19:08:50     & \\textbf{  Log-Likelihood:    }          &   -1428.3   \\\\\n",
       "\\textbf{No. Observations:} &        1000      & \\textbf{  AIC:               }          &     2861.   \\\\\n",
       "\\textbf{Df Residuals:}     &         998      & \\textbf{  BIC:               }          &     2870.   \\\\\n",
       "\\textbf{Df Model:}         &           2      & \\textbf{                     }          &             \\\\\n",
       "\\textbf{Covariance Type:}  &    nonrobust     & \\textbf{                     }          &             \\\\\n",
       "\\bottomrule\n",
       "\\end{tabular}\n",
       "\\begin{tabular}{lcccccc}\n",
       "            & \\textbf{coef} & \\textbf{std err} & \\textbf{t} & \\textbf{P$> |$t$|$} & \\textbf{[0.025} & \\textbf{0.975]}  \\\\\n",
       "\\midrule\n",
       "\\textbf{x1} &       1.1304  &        0.037     &    30.887  &         0.000        &        1.059    &        1.202     \\\\\n",
       "\\textbf{x2} &       5.1402  &        0.050     &   103.204  &         0.000        &        5.042    &        5.238     \\\\\n",
       "\\bottomrule\n",
       "\\end{tabular}\n",
       "\\begin{tabular}{lclc}\n",
       "\\textbf{Omnibus:}       &  1.784 & \\textbf{  Durbin-Watson:     } &    1.937  \\\\\n",
       "\\textbf{Prob(Omnibus):} &  0.410 & \\textbf{  Jarque-Bera (JB):  } &    1.764  \\\\\n",
       "\\textbf{Skew:}          & -0.008 & \\textbf{  Prob(JB):          } &    0.414  \\\\\n",
       "\\textbf{Kurtosis:}      &  3.205 & \\textbf{  Cond. No.          } &     1.90  \\\\\n",
       "\\bottomrule\n",
       "\\end{tabular}\n",
       "%\\caption{OLS Regression Results}\n",
       "\\end{center}\n",
       "\n",
       "Notes: \\newline\n",
       " [1] R² is computed without centering (uncentered) since the model does not contain a constant. \\newline\n",
       " [2] Standard Errors assume that the covariance matrix of the errors is correctly specified."
      ],
      "text/plain": [
       "<class 'statsmodels.iolib.summary.Summary'>\n",
       "\"\"\"\n",
       "                                 OLS Regression Results                                \n",
       "=======================================================================================\n",
       "Dep. Variable:                      y   R-squared (uncentered):                   0.952\n",
       "Model:                            OLS   Adj. R-squared (uncentered):              0.952\n",
       "Method:                 Least Squares   F-statistic:                              9963.\n",
       "Date:                Thu, 02 Nov 2023   Prob (F-statistic):                        0.00\n",
       "Time:                        19:08:50   Log-Likelihood:                         -1428.3\n",
       "No. Observations:                1000   AIC:                                      2861.\n",
       "Df Residuals:                     998   BIC:                                      2870.\n",
       "Df Model:                           2                                                  \n",
       "Covariance Type:            nonrobust                                                  \n",
       "==============================================================================\n",
       "                 coef    std err          t      P>|t|      [0.025      0.975]\n",
       "------------------------------------------------------------------------------\n",
       "x1             1.1304      0.037     30.887      0.000       1.059       1.202\n",
       "x2             5.1402      0.050    103.204      0.000       5.042       5.238\n",
       "==============================================================================\n",
       "Omnibus:                        1.784   Durbin-Watson:                   1.937\n",
       "Prob(Omnibus):                  0.410   Jarque-Bera (JB):                1.764\n",
       "Skew:                          -0.008   Prob(JB):                        0.414\n",
       "Kurtosis:                       3.205   Cond. No.                         1.90\n",
       "==============================================================================\n",
       "\n",
       "Notes:\n",
       "[1] R² is computed without centering (uncentered) since the model does not contain a constant.\n",
       "[2] Standard Errors assume that the covariance matrix of the errors is correctly specified.\n",
       "\"\"\""
      ]
     },
     "execution_count": 10,
     "metadata": {},
     "output_type": "execute_result"
    }
   ],
   "source": [
    "model = OLS(np.asarray(df[outcome]), np.asarray(df[[common_cause, treatment]], dtype=np.float64))\n",
    "result = model.fit()\n",
    "result.summary()"
   ]
  }
 ],
 "metadata": {
  "kernelspec": {
   "display_name": "Python 3",
   "language": "python",
   "name": "python3"
  },
  "language_info": {
   "codemirror_mode": {
    "name": "ipython",
    "version": 3
   },
   "file_extension": ".py",
   "mimetype": "text/x-python",
   "name": "python",
   "nbconvert_exporter": "python",
   "pygments_lexer": "ipython3",
   "version": "3.8.10"
  },
  "toc": {
   "base_numbering": 1,
   "nav_menu": {},
   "number_sections": false,
   "sideBar": true,
   "skip_h1_title": true,
   "title_cell": "Table of Contents",
   "title_sidebar": "Contents",
   "toc_cell": false,
   "toc_position": {},
   "toc_section_display": true,
   "toc_window_display": false
  }
 },
 "nbformat": 4,
 "nbformat_minor": 4
}
