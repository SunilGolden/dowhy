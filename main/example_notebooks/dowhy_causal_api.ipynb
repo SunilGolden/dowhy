{
 "cells": [
  {
   "cell_type": "markdown",
   "metadata": {},
   "source": [
    "# Demo for the DoWhy causal API\n",
    "We show a simple example of adding a causal extension to any dataframe. "
   ]
  },
  {
   "cell_type": "code",
   "execution_count": 1,
   "metadata": {
    "execution": {
     "iopub.execute_input": "2024-01-30T16:17:44.397100Z",
     "iopub.status.busy": "2024-01-30T16:17:44.396675Z",
     "iopub.status.idle": "2024-01-30T16:17:45.863821Z",
     "shell.execute_reply": "2024-01-30T16:17:45.863190Z"
    }
   },
   "outputs": [],
   "source": [
    "import dowhy.datasets\n",
    "import dowhy.api\n",
    "from dowhy.graph import build_graph_from_str\n",
    "\n",
    "import numpy as np\n",
    "import pandas as pd\n",
    "\n",
    "from statsmodels.api import OLS"
   ]
  },
  {
   "cell_type": "code",
   "execution_count": 2,
   "metadata": {
    "execution": {
     "iopub.execute_input": "2024-01-30T16:17:45.866906Z",
     "iopub.status.busy": "2024-01-30T16:17:45.866342Z",
     "iopub.status.idle": "2024-01-30T16:17:45.911123Z",
     "shell.execute_reply": "2024-01-30T16:17:45.910467Z"
    }
   },
   "outputs": [
    {
     "data": {
      "text/html": [
       "<div>\n",
       "<style scoped>\n",
       "    .dataframe tbody tr th:only-of-type {\n",
       "        vertical-align: middle;\n",
       "    }\n",
       "\n",
       "    .dataframe tbody tr th {\n",
       "        vertical-align: top;\n",
       "    }\n",
       "\n",
       "    .dataframe thead th {\n",
       "        text-align: right;\n",
       "    }\n",
       "</style>\n",
       "<table border=\"1\" class=\"dataframe\">\n",
       "  <thead>\n",
       "    <tr style=\"text-align: right;\">\n",
       "      <th></th>\n",
       "      <th>W0</th>\n",
       "      <th>v0</th>\n",
       "      <th>y</th>\n",
       "    </tr>\n",
       "  </thead>\n",
       "  <tbody>\n",
       "    <tr>\n",
       "      <th>0</th>\n",
       "      <td>0.060839</td>\n",
       "      <td>False</td>\n",
       "      <td>-0.259543</td>\n",
       "    </tr>\n",
       "    <tr>\n",
       "      <th>1</th>\n",
       "      <td>-0.419574</td>\n",
       "      <td>False</td>\n",
       "      <td>-0.740519</td>\n",
       "    </tr>\n",
       "    <tr>\n",
       "      <th>2</th>\n",
       "      <td>0.716931</td>\n",
       "      <td>True</td>\n",
       "      <td>6.173856</td>\n",
       "    </tr>\n",
       "    <tr>\n",
       "      <th>3</th>\n",
       "      <td>-0.481055</td>\n",
       "      <td>True</td>\n",
       "      <td>4.915519</td>\n",
       "    </tr>\n",
       "    <tr>\n",
       "      <th>4</th>\n",
       "      <td>-0.083388</td>\n",
       "      <td>False</td>\n",
       "      <td>1.080534</td>\n",
       "    </tr>\n",
       "    <tr>\n",
       "      <th>...</th>\n",
       "      <td>...</td>\n",
       "      <td>...</td>\n",
       "      <td>...</td>\n",
       "    </tr>\n",
       "    <tr>\n",
       "      <th>995</th>\n",
       "      <td>0.722487</td>\n",
       "      <td>False</td>\n",
       "      <td>1.891804</td>\n",
       "    </tr>\n",
       "    <tr>\n",
       "      <th>996</th>\n",
       "      <td>-0.132578</td>\n",
       "      <td>True</td>\n",
       "      <td>7.072130</td>\n",
       "    </tr>\n",
       "    <tr>\n",
       "      <th>997</th>\n",
       "      <td>1.101248</td>\n",
       "      <td>True</td>\n",
       "      <td>6.097478</td>\n",
       "    </tr>\n",
       "    <tr>\n",
       "      <th>998</th>\n",
       "      <td>-0.900302</td>\n",
       "      <td>True</td>\n",
       "      <td>4.984944</td>\n",
       "    </tr>\n",
       "    <tr>\n",
       "      <th>999</th>\n",
       "      <td>0.315520</td>\n",
       "      <td>True</td>\n",
       "      <td>6.776007</td>\n",
       "    </tr>\n",
       "  </tbody>\n",
       "</table>\n",
       "<p>1000 rows × 3 columns</p>\n",
       "</div>"
      ],
      "text/plain": [
       "           W0     v0         y\n",
       "0    0.060839  False -0.259543\n",
       "1   -0.419574  False -0.740519\n",
       "2    0.716931   True  6.173856\n",
       "3   -0.481055   True  4.915519\n",
       "4   -0.083388  False  1.080534\n",
       "..        ...    ...       ...\n",
       "995  0.722487  False  1.891804\n",
       "996 -0.132578   True  7.072130\n",
       "997  1.101248   True  6.097478\n",
       "998 -0.900302   True  4.984944\n",
       "999  0.315520   True  6.776007\n",
       "\n",
       "[1000 rows x 3 columns]"
      ]
     },
     "execution_count": 2,
     "metadata": {},
     "output_type": "execute_result"
    }
   ],
   "source": [
    "data = dowhy.datasets.linear_dataset(beta=5,\n",
    "        num_common_causes=1,\n",
    "        num_instruments = 0,\n",
    "        num_samples=1000,\n",
    "        treatment_is_binary=True)\n",
    "df = data['df']\n",
    "df['y'] = df['y'] + np.random.normal(size=len(df)) # Adding noise to data. Without noise, the variance in Y|X, Z is zero, and mcmc fails.\n",
    "nx_graph = build_graph_from_str(data[\"dot_graph\"])\n",
    "\n",
    "treatment= data[\"treatment_name\"][0]\n",
    "outcome = data[\"outcome_name\"][0]\n",
    "common_cause = data[\"common_causes_names\"][0]\n",
    "df"
   ]
  },
  {
   "cell_type": "code",
   "execution_count": 3,
   "metadata": {
    "execution": {
     "iopub.execute_input": "2024-01-30T16:17:45.913717Z",
     "iopub.status.busy": "2024-01-30T16:17:45.913257Z",
     "iopub.status.idle": "2024-01-30T16:17:46.099637Z",
     "shell.execute_reply": "2024-01-30T16:17:46.098978Z"
    },
    "scrolled": true
   },
   "outputs": [
    {
     "data": {
      "text/plain": [
       "<Axes: xlabel='v0'>"
      ]
     },
     "execution_count": 3,
     "metadata": {},
     "output_type": "execute_result"
    },
    {
     "data": {
      "image/png": "[encoded data removed]",
      "text/plain": [
       "<Figure size 640x480 with 1 Axes>"
      ]
     },
     "metadata": {},
     "output_type": "display_data"
    }
   ],
   "source": [
    "# data['df'] is just a regular pandas.DataFrame\n",
    "df.causal.do(x=treatment,\n",
    "             variable_types={treatment: 'b', outcome: 'c', common_cause: 'c'},\n",
    "             outcome=outcome,\n",
    "             common_causes=[common_cause],\n",
    "            ).groupby(treatment).mean().plot(y=outcome, kind='bar')"
   ]
  },
  {
   "cell_type": "code",
   "execution_count": 4,
   "metadata": {
    "execution": {
     "iopub.execute_input": "2024-01-30T16:17:46.102313Z",
     "iopub.status.busy": "2024-01-30T16:17:46.101899Z",
     "iopub.status.idle": "2024-01-30T16:17:46.241755Z",
     "shell.execute_reply": "2024-01-30T16:17:46.241071Z"
    }
   },
   "outputs": [
    {
     "data": {
      "text/plain": [
       "<Axes: xlabel='v0'>"
      ]
     },
     "execution_count": 4,
     "metadata": {},
     "output_type": "execute_result"
    },
    {
     "data": {
      "image/png": "[encoded data removed]",
      "text/plain": [
       "<Figure size 640x480 with 1 Axes>"
      ]
     },
     "metadata": {},
     "output_type": "display_data"
    }
   ],
   "source": [
    "df.causal.do(x={treatment: 1}, \n",
    "              variable_types={treatment:'b', outcome: 'c', common_cause: 'c'}, \n",
    "              outcome=outcome,\n",
    "              method='weighting', \n",
    "              common_causes=[common_cause]\n",
    "              ).groupby(treatment).mean().plot(y=outcome, kind='bar')"
   ]
  },
  {
   "cell_type": "code",
   "execution_count": 5,
   "metadata": {
    "execution": {
     "iopub.execute_input": "2024-01-30T16:17:46.244450Z",
     "iopub.status.busy": "2024-01-30T16:17:46.244069Z",
     "iopub.status.idle": "2024-01-30T16:17:46.265742Z",
     "shell.execute_reply": "2024-01-30T16:17:46.265053Z"
    }
   },
   "outputs": [],
   "source": [
    "cdf_1 = df.causal.do(x={treatment: 1}, \n",
    "              variable_types={treatment: 'b', outcome: 'c', common_cause: 'c'}, \n",
    "              outcome=outcome, \n",
    "              graph=nx_graph\n",
    "              )\n",
    "\n",
    "cdf_0 = df.causal.do(x={treatment: 0}, \n",
    "              variable_types={treatment: 'b', outcome: 'c', common_cause: 'c'}, \n",
    "              outcome=outcome, \n",
    "              graph=nx_graph\n",
    "              )\n"
   ]
  },
  {
   "cell_type": "code",
   "execution_count": 6,
   "metadata": {
    "execution": {
     "iopub.execute_input": "2024-01-30T16:17:46.268677Z",
     "iopub.status.busy": "2024-01-30T16:17:46.268277Z",
     "iopub.status.idle": "2024-01-30T16:17:46.277933Z",
     "shell.execute_reply": "2024-01-30T16:17:46.277258Z"
    },
    "scrolled": true
   },
   "outputs": [
    {
     "data": {
      "text/html": [
       "<div>\n",
       "<style scoped>\n",
       "    .dataframe tbody tr th:only-of-type {\n",
       "        vertical-align: middle;\n",
       "    }\n",
       "\n",
       "    .dataframe tbody tr th {\n",
       "        vertical-align: top;\n",
       "    }\n",
       "\n",
       "    .dataframe thead th {\n",
       "        text-align: right;\n",
       "    }\n",
       "</style>\n",
       "<table border=\"1\" class=\"dataframe\">\n",
       "  <thead>\n",
       "    <tr style=\"text-align: right;\">\n",
       "      <th></th>\n",
       "      <th>W0</th>\n",
       "      <th>v0</th>\n",
       "      <th>y</th>\n",
       "      <th>propensity_score</th>\n",
       "      <th>weight</th>\n",
       "    </tr>\n",
       "  </thead>\n",
       "  <tbody>\n",
       "    <tr>\n",
       "      <th>0</th>\n",
       "      <td>0.472596</td>\n",
       "      <td>False</td>\n",
       "      <td>0.376979</td>\n",
       "      <td>0.335229</td>\n",
       "      <td>2.983034</td>\n",
       "    </tr>\n",
       "    <tr>\n",
       "      <th>1</th>\n",
       "      <td>-0.946082</td>\n",
       "      <td>False</td>\n",
       "      <td>-0.923039</td>\n",
       "      <td>0.803056</td>\n",
       "      <td>1.245243</td>\n",
       "    </tr>\n",
       "    <tr>\n",
       "      <th>2</th>\n",
       "      <td>-0.577249</td>\n",
       "      <td>False</td>\n",
       "      <td>-0.082757</td>\n",
       "      <td>0.703101</td>\n",
       "      <td>1.422272</td>\n",
       "    </tr>\n",
       "    <tr>\n",
       "      <th>3</th>\n",
       "      <td>0.989284</td>\n",
       "      <td>False</td>\n",
       "      <td>-0.755141</td>\n",
       "      <td>0.190639</td>\n",
       "      <td>5.245508</td>\n",
       "    </tr>\n",
       "    <tr>\n",
       "      <th>4</th>\n",
       "      <td>0.142805</td>\n",
       "      <td>False</td>\n",
       "      <td>0.519932</td>\n",
       "      <td>0.450476</td>\n",
       "      <td>2.219874</td>\n",
       "    </tr>\n",
       "    <tr>\n",
       "      <th>...</th>\n",
       "      <td>...</td>\n",
       "      <td>...</td>\n",
       "      <td>...</td>\n",
       "      <td>...</td>\n",
       "      <td>...</td>\n",
       "    </tr>\n",
       "    <tr>\n",
       "      <th>995</th>\n",
       "      <td>-0.577249</td>\n",
       "      <td>False</td>\n",
       "      <td>-0.082757</td>\n",
       "      <td>0.703101</td>\n",
       "      <td>1.422272</td>\n",
       "    </tr>\n",
       "    <tr>\n",
       "      <th>996</th>\n",
       "      <td>0.088640</td>\n",
       "      <td>False</td>\n",
       "      <td>1.809895</td>\n",
       "      <td>0.470298</td>\n",
       "      <td>2.126310</td>\n",
       "    </tr>\n",
       "    <tr>\n",
       "      <th>997</th>\n",
       "      <td>0.898391</td>\n",
       "      <td>False</td>\n",
       "      <td>1.260004</td>\n",
       "      <td>0.212161</td>\n",
       "      <td>4.713404</td>\n",
       "    </tr>\n",
       "    <tr>\n",
       "      <th>998</th>\n",
       "      <td>-0.553143</td>\n",
       "      <td>False</td>\n",
       "      <td>-1.030329</td>\n",
       "      <td>0.695634</td>\n",
       "      <td>1.437538</td>\n",
       "    </tr>\n",
       "    <tr>\n",
       "      <th>999</th>\n",
       "      <td>-0.369955</td>\n",
       "      <td>False</td>\n",
       "      <td>-1.642508</td>\n",
       "      <td>0.635689</td>\n",
       "      <td>1.573097</td>\n",
       "    </tr>\n",
       "  </tbody>\n",
       "</table>\n",
       "<p>1000 rows × 5 columns</p>\n",
       "</div>"
      ],
      "text/plain": [
       "           W0     v0         y  propensity_score    weight\n",
       "0    0.472596  False  0.376979          0.335229  2.983034\n",
       "1   -0.946082  False -0.923039          0.803056  1.245243\n",
       "2   -0.577249  False -0.082757          0.703101  1.422272\n",
       "3    0.989284  False -0.755141          0.190639  5.245508\n",
       "4    0.142805  False  0.519932          0.450476  2.219874\n",
       "..        ...    ...       ...               ...       ...\n",
       "995 -0.577249  False -0.082757          0.703101  1.422272\n",
       "996  0.088640  False  1.809895          0.470298  2.126310\n",
       "997  0.898391  False  1.260004          0.212161  4.713404\n",
       "998 -0.553143  False -1.030329          0.695634  1.437538\n",
       "999 -0.369955  False -1.642508          0.635689  1.573097\n",
       "\n",
       "[1000 rows x 5 columns]"
      ]
     },
     "execution_count": 6,
     "metadata": {},
     "output_type": "execute_result"
    }
   ],
   "source": [
    "cdf_0"
   ]
  },
  {
   "cell_type": "code",
   "execution_count": 7,
   "metadata": {
    "execution": {
     "iopub.execute_input": "2024-01-30T16:17:46.280279Z",
     "iopub.status.busy": "2024-01-30T16:17:46.279961Z",
     "iopub.status.idle": "2024-01-30T16:17:46.289267Z",
     "shell.execute_reply": "2024-01-30T16:17:46.288690Z"
    }
   },
   "outputs": [
    {
     "data": {
      "text/html": [
       "<div>\n",
       "<style scoped>\n",
       "    .dataframe tbody tr th:only-of-type {\n",
       "        vertical-align: middle;\n",
       "    }\n",
       "\n",
       "    .dataframe tbody tr th {\n",
       "        vertical-align: top;\n",
       "    }\n",
       "\n",
       "    .dataframe thead th {\n",
       "        text-align: right;\n",
       "    }\n",
       "</style>\n",
       "<table border=\"1\" class=\"dataframe\">\n",
       "  <thead>\n",
       "    <tr style=\"text-align: right;\">\n",
       "      <th></th>\n",
       "      <th>W0</th>\n",
       "      <th>v0</th>\n",
       "      <th>y</th>\n",
       "      <th>propensity_score</th>\n",
       "      <th>weight</th>\n",
       "    </tr>\n",
       "  </thead>\n",
       "  <tbody>\n",
       "    <tr>\n",
       "      <th>0</th>\n",
       "      <td>1.225062</td>\n",
       "      <td>True</td>\n",
       "      <td>7.365203</td>\n",
       "      <td>0.857323</td>\n",
       "      <td>1.166421</td>\n",
       "    </tr>\n",
       "    <tr>\n",
       "      <th>1</th>\n",
       "      <td>1.189363</td>\n",
       "      <td>True</td>\n",
       "      <td>6.583960</td>\n",
       "      <td>0.850768</td>\n",
       "      <td>1.175409</td>\n",
       "    </tr>\n",
       "    <tr>\n",
       "      <th>2</th>\n",
       "      <td>1.101248</td>\n",
       "      <td>True</td>\n",
       "      <td>6.097478</td>\n",
       "      <td>0.833525</td>\n",
       "      <td>1.199724</td>\n",
       "    </tr>\n",
       "    <tr>\n",
       "      <th>3</th>\n",
       "      <td>-1.038436</td>\n",
       "      <td>True</td>\n",
       "      <td>3.078137</td>\n",
       "      <td>0.176307</td>\n",
       "      <td>5.671923</td>\n",
       "    </tr>\n",
       "    <tr>\n",
       "      <th>4</th>\n",
       "      <td>0.195169</td>\n",
       "      <td>True</td>\n",
       "      <td>6.001011</td>\n",
       "      <td>0.568540</td>\n",
       "      <td>1.758892</td>\n",
       "    </tr>\n",
       "    <tr>\n",
       "      <th>...</th>\n",
       "      <td>...</td>\n",
       "      <td>...</td>\n",
       "      <td>...</td>\n",
       "      <td>...</td>\n",
       "      <td>...</td>\n",
       "    </tr>\n",
       "    <tr>\n",
       "      <th>995</th>\n",
       "      <td>0.310579</td>\n",
       "      <td>True</td>\n",
       "      <td>5.725883</td>\n",
       "      <td>0.609671</td>\n",
       "      <td>1.640229</td>\n",
       "    </tr>\n",
       "    <tr>\n",
       "      <th>996</th>\n",
       "      <td>0.129829</td>\n",
       "      <td>True</td>\n",
       "      <td>5.838307</td>\n",
       "      <td>0.544787</td>\n",
       "      <td>1.835579</td>\n",
       "    </tr>\n",
       "    <tr>\n",
       "      <th>997</th>\n",
       "      <td>0.755889</td>\n",
       "      <td>True</td>\n",
       "      <td>6.469686</td>\n",
       "      <td>0.750635</td>\n",
       "      <td>1.332205</td>\n",
       "    </tr>\n",
       "    <tr>\n",
       "      <th>998</th>\n",
       "      <td>1.430036</td>\n",
       "      <td>True</td>\n",
       "      <td>7.133408</td>\n",
       "      <td>0.890438</td>\n",
       "      <td>1.123043</td>\n",
       "    </tr>\n",
       "    <tr>\n",
       "      <th>999</th>\n",
       "      <td>-0.517165</td>\n",
       "      <td>True</td>\n",
       "      <td>3.576023</td>\n",
       "      <td>0.315704</td>\n",
       "      <td>3.167521</td>\n",
       "    </tr>\n",
       "  </tbody>\n",
       "</table>\n",
       "<p>1000 rows × 5 columns</p>\n",
       "</div>"
      ],
      "text/plain": [
       "           W0    v0         y  propensity_score    weight\n",
       "0    1.225062  True  7.365203          0.857323  1.166421\n",
       "1    1.189363  True  6.583960          0.850768  1.175409\n",
       "2    1.101248  True  6.097478          0.833525  1.199724\n",
       "3   -1.038436  True  3.078137          0.176307  5.671923\n",
       "4    0.195169  True  6.001011          0.568540  1.758892\n",
       "..        ...   ...       ...               ...       ...\n",
       "995  0.310579  True  5.725883          0.609671  1.640229\n",
       "996  0.129829  True  5.838307          0.544787  1.835579\n",
       "997  0.755889  True  6.469686          0.750635  1.332205\n",
       "998  1.430036  True  7.133408          0.890438  1.123043\n",
       "999 -0.517165  True  3.576023          0.315704  3.167521\n",
       "\n",
       "[1000 rows x 5 columns]"
      ]
     },
     "execution_count": 7,
     "metadata": {},
     "output_type": "execute_result"
    }
   ],
   "source": [
    "cdf_1"
   ]
  },
  {
   "cell_type": "markdown",
   "metadata": {},
   "source": [
    "## Comparing the estimate to Linear Regression\n",
    "First, estimating the effect using the causal data frame, and the 95% confidence interval."
   ]
  },
  {
   "cell_type": "code",
   "execution_count": 8,
   "metadata": {
    "execution": {
     "iopub.execute_input": "2024-01-30T16:17:46.291603Z",
     "iopub.status.busy": "2024-01-30T16:17:46.291242Z",
     "iopub.status.idle": "2024-01-30T16:17:46.338746Z",
     "shell.execute_reply": "2024-01-30T16:17:46.338131Z"
    }
   },
   "outputs": [
    {
     "data": {
      "image/png": "[encoded data removed]",
      "text/latex": [
       "$\\displaystyle 5.06371578792572$"
      ],
      "text/plain": [
       "5.0637157879257195"
      ]
     },
     "execution_count": 8,
     "metadata": {},
     "output_type": "execute_result"
    }
   ],
   "source": [
    "(cdf_1['y'] - cdf_0['y']).mean()"
   ]
  },
  {
   "cell_type": "code",
   "execution_count": 9,
   "metadata": {
    "execution": {
     "iopub.execute_input": "2024-01-30T16:17:46.341305Z",
     "iopub.status.busy": "2024-01-30T16:17:46.340934Z",
     "iopub.status.idle": "2024-01-30T16:17:46.356312Z",
     "shell.execute_reply": "2024-01-30T16:17:46.355808Z"
    }
   },
   "outputs": [
    {
     "data": {
      "image/png": "[encoded data removed]",
      "text/latex": [
       "$\\displaystyle 0.12846106822655$"
      ],
      "text/plain": [
       "0.12846106822654954"
      ]
     },
     "execution_count": 9,
     "metadata": {},
     "output_type": "execute_result"
    }
   ],
   "source": [
    "1.96*(cdf_1['y'] - cdf_0['y']).std() / np.sqrt(len(df))"
   ]
  },
  {
   "cell_type": "markdown",
   "metadata": {},
   "source": [
    "Comparing to the estimate from OLS."
   ]
  },
  {
   "cell_type": "code",
   "execution_count": 10,
   "metadata": {
    "execution": {
     "iopub.execute_input": "2024-01-30T16:17:46.358754Z",
     "iopub.status.busy": "2024-01-30T16:17:46.358359Z",
     "iopub.status.idle": "2024-01-30T16:17:46.375177Z",
     "shell.execute_reply": "2024-01-30T16:17:46.374546Z"
    }
   },
   "outputs": [
    {
     "data": {
      "text/html": [
       "<table class=\"simpletable\">\n",
       "<caption>OLS Regression Results</caption>\n",
       "<tr>\n",
       "  <th>Dep. Variable:</th>            <td>y</td>        <th>  R-squared (uncentered):</th>      <td>   0.938</td>\n",
       "</tr>\n",
       "<tr>\n",
       "  <th>Model:</th>                   <td>OLS</td>       <th>  Adj. R-squared (uncentered):</th> <td>   0.937</td>\n",
       "</tr>\n",
       "<tr>\n",
       "  <th>Method:</th>             <td>Least Squares</td>  <th>  F-statistic:       </th>          <td>   7491.</td>\n",
       "</tr>\n",
       "<tr>\n",
       "  <th>Date:</th>             <td>Tue, 30 Jan 2024</td> <th>  Prob (F-statistic):</th>           <td>  0.00</td> \n",
       "</tr>\n",
       "<tr>\n",
       "  <th>Time:</th>                 <td>16:17:46</td>     <th>  Log-Likelihood:    </th>          <td> -1396.3</td>\n",
       "</tr>\n",
       "<tr>\n",
       "  <th>No. Observations:</th>      <td>  1000</td>      <th>  AIC:               </th>          <td>   2797.</td>\n",
       "</tr>\n",
       "<tr>\n",
       "  <th>Df Residuals:</th>          <td>   998</td>      <th>  BIC:               </th>          <td>   2807.</td>\n",
       "</tr>\n",
       "<tr>\n",
       "  <th>Df Model:</th>              <td>     2</td>      <th>                     </th>              <td> </td>   \n",
       "</tr>\n",
       "<tr>\n",
       "  <th>Covariance Type:</th>      <td>nonrobust</td>    <th>                     </th>              <td> </td>   \n",
       "</tr>\n",
       "</table>\n",
       "<table class=\"simpletable\">\n",
       "<tr>\n",
       "   <td></td>     <th>coef</th>     <th>std err</th>      <th>t</th>      <th>P>|t|</th>  <th>[0.025</th>    <th>0.975]</th>  \n",
       "</tr>\n",
       "<tr>\n",
       "  <th>x1</th> <td>    1.1784</td> <td>    0.034</td> <td>   35.056</td> <td> 0.000</td> <td>    1.112</td> <td>    1.244</td>\n",
       "</tr>\n",
       "<tr>\n",
       "  <th>x2</th> <td>    4.9369</td> <td>    0.047</td> <td>  104.140</td> <td> 0.000</td> <td>    4.844</td> <td>    5.030</td>\n",
       "</tr>\n",
       "</table>\n",
       "<table class=\"simpletable\">\n",
       "<tr>\n",
       "  <th>Omnibus:</th>       <td> 0.539</td> <th>  Durbin-Watson:     </th> <td>   1.978</td>\n",
       "</tr>\n",
       "<tr>\n",
       "  <th>Prob(Omnibus):</th> <td> 0.764</td> <th>  Jarque-Bera (JB):  </th> <td>   0.419</td>\n",
       "</tr>\n",
       "<tr>\n",
       "  <th>Skew:</th>          <td> 0.025</td> <th>  Prob(JB):          </th> <td>   0.811</td>\n",
       "</tr>\n",
       "<tr>\n",
       "  <th>Kurtosis:</th>      <td> 3.087</td> <th>  Cond. No.          </th> <td>    1.55</td>\n",
       "</tr>\n",
       "</table><br/><br/>Notes:<br/>[1] R² is computed without centering (uncentered) since the model does not contain a constant.<br/>[2] Standard Errors assume that the covariance matrix of the errors is correctly specified."
      ],
      "text/latex": [
       "\\begin{center}\n",
       "\\begin{tabular}{lclc}\n",
       "\\toprule\n",
       "\\textbf{Dep. Variable:}    &        y         & \\textbf{  R-squared (uncentered):}      &     0.938   \\\\\n",
       "\\textbf{Model:}            &       OLS        & \\textbf{  Adj. R-squared (uncentered):} &     0.937   \\\\\n",
       "\\textbf{Method:}           &  Least Squares   & \\textbf{  F-statistic:       }          &     7491.   \\\\\n",
       "\\textbf{Date:}             & Tue, 30 Jan 2024 & \\textbf{  Prob (F-statistic):}          &     0.00    \\\\\n",
       "\\textbf{Time:}             &     16:17:46     & \\textbf{  Log-Likelihood:    }          &   -1396.3   \\\\\n",
       "\\textbf{No. Observations:} &        1000      & \\textbf{  AIC:               }          &     2797.   \\\\\n",
       "\\textbf{Df Residuals:}     &         998      & \\textbf{  BIC:               }          &     2807.   \\\\\n",
       "\\textbf{Df Model:}         &           2      & \\textbf{                     }          &             \\\\\n",
       "\\textbf{Covariance Type:}  &    nonrobust     & \\textbf{                     }          &             \\\\\n",
       "\\bottomrule\n",
       "\\end{tabular}\n",
       "\\begin{tabular}{lcccccc}\n",
       "            & \\textbf{coef} & \\textbf{std err} & \\textbf{t} & \\textbf{P$> |$t$|$} & \\textbf{[0.025} & \\textbf{0.975]}  \\\\\n",
       "\\midrule\n",
       "\\textbf{x1} &       1.1784  &        0.034     &    35.056  &         0.000        &        1.112    &        1.244     \\\\\n",
       "\\textbf{x2} &       4.9369  &        0.047     &   104.140  &         0.000        &        4.844    &        5.030     \\\\\n",
       "\\bottomrule\n",
       "\\end{tabular}\n",
       "\\begin{tabular}{lclc}\n",
       "\\textbf{Omnibus:}       &  0.539 & \\textbf{  Durbin-Watson:     } &    1.978  \\\\\n",
       "\\textbf{Prob(Omnibus):} &  0.764 & \\textbf{  Jarque-Bera (JB):  } &    0.419  \\\\\n",
       "\\textbf{Skew:}          &  0.025 & \\textbf{  Prob(JB):          } &    0.811  \\\\\n",
       "\\textbf{Kurtosis:}      &  3.087 & \\textbf{  Cond. No.          } &     1.55  \\\\\n",
       "\\bottomrule\n",
       "\\end{tabular}\n",
       "%\\caption{OLS Regression Results}\n",
       "\\end{center}\n",
       "\n",
       "Notes: \\newline\n",
       " [1] R² is computed without centering (uncentered) since the model does not contain a constant. \\newline\n",
       " [2] Standard Errors assume that the covariance matrix of the errors is correctly specified."
      ],
      "text/plain": [
       "<class 'statsmodels.iolib.summary.Summary'>\n",
       "\"\"\"\n",
       "                                 OLS Regression Results                                \n",
       "=======================================================================================\n",
       "Dep. Variable:                      y   R-squared (uncentered):                   0.938\n",
       "Model:                            OLS   Adj. R-squared (uncentered):              0.937\n",
       "Method:                 Least Squares   F-statistic:                              7491.\n",
       "Date:                Tue, 30 Jan 2024   Prob (F-statistic):                        0.00\n",
       "Time:                        16:17:46   Log-Likelihood:                         -1396.3\n",
       "No. Observations:                1000   AIC:                                      2797.\n",
       "Df Residuals:                     998   BIC:                                      2807.\n",
       "Df Model:                           2                                                  \n",
       "Covariance Type:            nonrobust                                                  \n",
       "==============================================================================\n",
       "                 coef    std err          t      P>|t|      [0.025      0.975]\n",
       "------------------------------------------------------------------------------\n",
       "x1             1.1784      0.034     35.056      0.000       1.112       1.244\n",
       "x2             4.9369      0.047    104.140      0.000       4.844       5.030\n",
       "==============================================================================\n",
       "Omnibus:                        0.539   Durbin-Watson:                   1.978\n",
       "Prob(Omnibus):                  0.764   Jarque-Bera (JB):                0.419\n",
       "Skew:                           0.025   Prob(JB):                        0.811\n",
       "Kurtosis:                       3.087   Cond. No.                         1.55\n",
       "==============================================================================\n",
       "\n",
       "Notes:\n",
       "[1] R² is computed without centering (uncentered) since the model does not contain a constant.\n",
       "[2] Standard Errors assume that the covariance matrix of the errors is correctly specified.\n",
       "\"\"\""
      ]
     },
     "execution_count": 10,
     "metadata": {},
     "output_type": "execute_result"
    }
   ],
   "source": [
    "model = OLS(np.asarray(df[outcome]), np.asarray(df[[common_cause, treatment]], dtype=np.float64))\n",
    "result = model.fit()\n",
    "result.summary()"
   ]
  }
 ],
 "metadata": {
  "kernelspec": {
   "display_name": "Python 3 (ipykernel)",
   "language": "python",
   "name": "python3"
  },
  "language_info": {
   "codemirror_mode": {
    "name": "ipython",
    "version": 3
   },
   "file_extension": ".py",
   "mimetype": "text/x-python",
   "name": "python",
   "nbconvert_exporter": "python",
   "pygments_lexer": "ipython3",
   "version": "3.8.10"
  },
  "toc": {
   "base_numbering": 1,
   "nav_menu": {},
   "number_sections": false,
   "sideBar": true,
   "skip_h1_title": true,
   "title_cell": "Table of Contents",
   "title_sidebar": "Contents",
   "toc_cell": false,
   "toc_position": {},
   "toc_section_display": true,
   "toc_window_display": false
  }
 },
 "nbformat": 4,
 "nbformat_minor": 4
}
