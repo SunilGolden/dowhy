{
 "cells": [
  {
   "cell_type": "markdown",
   "metadata": {},
   "source": [
    "# Demo for the DoWhy causal API\n",
    "We show a simple example of adding a causal extension to any dataframe. "
   ]
  },
  {
   "cell_type": "code",
   "execution_count": 1,
   "metadata": {
    "execution": {
     "iopub.execute_input": "2023-07-13T22:05:43.753476Z",
     "iopub.status.busy": "2023-07-13T22:05:43.753103Z",
     "iopub.status.idle": "2023-07-13T22:05:46.094811Z",
     "shell.execute_reply": "2023-07-13T22:05:46.093743Z"
    }
   },
   "outputs": [],
   "source": [
    "import dowhy.datasets\n",
    "import dowhy.api\n",
    "\n",
    "import numpy as np\n",
    "import pandas as pd\n",
    "\n",
    "from statsmodels.api import OLS"
   ]
  },
  {
   "cell_type": "code",
   "execution_count": 2,
   "metadata": {
    "execution": {
     "iopub.execute_input": "2023-07-13T22:05:46.100133Z",
     "iopub.status.busy": "2023-07-13T22:05:46.099370Z",
     "iopub.status.idle": "2023-07-13T22:05:46.182954Z",
     "shell.execute_reply": "2023-07-13T22:05:46.181929Z"
    }
   },
   "outputs": [
    {
     "data": {
      "text/html": [
       "<div>\n",
       "<style scoped>\n",
       "    .dataframe tbody tr th:only-of-type {\n",
       "        vertical-align: middle;\n",
       "    }\n",
       "\n",
       "    .dataframe tbody tr th {\n",
       "        vertical-align: top;\n",
       "    }\n",
       "\n",
       "    .dataframe thead th {\n",
       "        text-align: right;\n",
       "    }\n",
       "</style>\n",
       "<table border=\"1\" class=\"dataframe\">\n",
       "  <thead>\n",
       "    <tr style=\"text-align: right;\">\n",
       "      <th></th>\n",
       "      <th>W0</th>\n",
       "      <th>v0</th>\n",
       "      <th>y</th>\n",
       "    </tr>\n",
       "  </thead>\n",
       "  <tbody>\n",
       "    <tr>\n",
       "      <th>0</th>\n",
       "      <td>-0.352190</td>\n",
       "      <td>False</td>\n",
       "      <td>-0.927897</td>\n",
       "    </tr>\n",
       "    <tr>\n",
       "      <th>1</th>\n",
       "      <td>0.667495</td>\n",
       "      <td>False</td>\n",
       "      <td>1.297431</td>\n",
       "    </tr>\n",
       "    <tr>\n",
       "      <th>2</th>\n",
       "      <td>0.204493</td>\n",
       "      <td>True</td>\n",
       "      <td>6.447053</td>\n",
       "    </tr>\n",
       "    <tr>\n",
       "      <th>3</th>\n",
       "      <td>-0.656047</td>\n",
       "      <td>False</td>\n",
       "      <td>-0.185633</td>\n",
       "    </tr>\n",
       "    <tr>\n",
       "      <th>4</th>\n",
       "      <td>0.031887</td>\n",
       "      <td>True</td>\n",
       "      <td>6.451022</td>\n",
       "    </tr>\n",
       "    <tr>\n",
       "      <th>...</th>\n",
       "      <td>...</td>\n",
       "      <td>...</td>\n",
       "      <td>...</td>\n",
       "    </tr>\n",
       "    <tr>\n",
       "      <th>995</th>\n",
       "      <td>-1.705269</td>\n",
       "      <td>False</td>\n",
       "      <td>-0.604135</td>\n",
       "    </tr>\n",
       "    <tr>\n",
       "      <th>996</th>\n",
       "      <td>-0.407632</td>\n",
       "      <td>True</td>\n",
       "      <td>5.384678</td>\n",
       "    </tr>\n",
       "    <tr>\n",
       "      <th>997</th>\n",
       "      <td>0.875107</td>\n",
       "      <td>False</td>\n",
       "      <td>1.178020</td>\n",
       "    </tr>\n",
       "    <tr>\n",
       "      <th>998</th>\n",
       "      <td>-0.376134</td>\n",
       "      <td>False</td>\n",
       "      <td>-0.571839</td>\n",
       "    </tr>\n",
       "    <tr>\n",
       "      <th>999</th>\n",
       "      <td>0.125089</td>\n",
       "      <td>True</td>\n",
       "      <td>5.904989</td>\n",
       "    </tr>\n",
       "  </tbody>\n",
       "</table>\n",
       "<p>1000 rows × 3 columns</p>\n",
       "</div>"
      ],
      "text/plain": [
       "           W0     v0         y\n",
       "0   -0.352190  False -0.927897\n",
       "1    0.667495  False  1.297431\n",
       "2    0.204493   True  6.447053\n",
       "3   -0.656047  False -0.185633\n",
       "4    0.031887   True  6.451022\n",
       "..        ...    ...       ...\n",
       "995 -1.705269  False -0.604135\n",
       "996 -0.407632   True  5.384678\n",
       "997  0.875107  False  1.178020\n",
       "998 -0.376134  False -0.571839\n",
       "999  0.125089   True  5.904989\n",
       "\n",
       "[1000 rows x 3 columns]"
      ]
     },
     "execution_count": 2,
     "metadata": {},
     "output_type": "execute_result"
    }
   ],
   "source": [
    "data = dowhy.datasets.linear_dataset(beta=5,\n",
    "        num_common_causes=1,\n",
    "        num_instruments = 0,\n",
    "        num_samples=1000,\n",
    "        treatment_is_binary=True)\n",
    "df = data['df']\n",
    "df['y'] = df['y'] + np.random.normal(size=len(df)) # Adding noise to data. Without noise, the variance in Y|X, Z is zero, and mcmc fails.\n",
    "#data['dot_graph'] = 'digraph { v ->y;X0-> v;X0-> y;}'\n",
    "\n",
    "treatment= data[\"treatment_name\"][0]\n",
    "outcome = data[\"outcome_name\"][0]\n",
    "common_cause = data[\"common_causes_names\"][0]\n",
    "df"
   ]
  },
  {
   "cell_type": "code",
   "execution_count": 3,
   "metadata": {
    "execution": {
     "iopub.execute_input": "2023-07-13T22:05:46.187901Z",
     "iopub.status.busy": "2023-07-13T22:05:46.187277Z",
     "iopub.status.idle": "2023-07-13T22:05:46.511099Z",
     "shell.execute_reply": "2023-07-13T22:05:46.510117Z"
    }
   },
   "outputs": [
    {
     "data": {
      "text/plain": [
       "<Axes: xlabel='v0'>"
      ]
     },
     "execution_count": 3,
     "metadata": {},
     "output_type": "execute_result"
    },
    {
     "data": {
      "image/png": "[encoded data removed]",
      "text/plain": [
       "<Figure size 640x480 with 1 Axes>"
      ]
     },
     "metadata": {},
     "output_type": "display_data"
    }
   ],
   "source": [
    "# data['df'] is just a regular pandas.DataFrame\n",
    "df.causal.do(x=treatment,\n",
    "                     variable_types={treatment: 'b', outcome: 'c', common_cause: 'c'},\n",
    "                     outcome=outcome,\n",
    "                     common_causes=[common_cause],\n",
    "                     proceed_when_unidentifiable=True).groupby(treatment).mean().plot(y=outcome, kind='bar')"
   ]
  },
  {
   "cell_type": "code",
   "execution_count": 4,
   "metadata": {
    "execution": {
     "iopub.execute_input": "2023-07-13T22:05:46.514819Z",
     "iopub.status.busy": "2023-07-13T22:05:46.514480Z",
     "iopub.status.idle": "2023-07-13T22:05:46.734664Z",
     "shell.execute_reply": "2023-07-13T22:05:46.733763Z"
    }
   },
   "outputs": [
    {
     "data": {
      "text/plain": [
       "<Axes: xlabel='v0'>"
      ]
     },
     "execution_count": 4,
     "metadata": {},
     "output_type": "execute_result"
    },
    {
     "data": {
      "image/png": "[encoded data removed]",
      "text/plain": [
       "<Figure size 640x480 with 1 Axes>"
      ]
     },
     "metadata": {},
     "output_type": "display_data"
    }
   ],
   "source": [
    "df.causal.do(x={treatment: 1}, \n",
    "              variable_types={treatment:'b', outcome: 'c', common_cause: 'c'}, \n",
    "              outcome=outcome,\n",
    "              method='weighting', \n",
    "              common_causes=[common_cause],\n",
    "              proceed_when_unidentifiable=True).groupby(treatment).mean().plot(y=outcome, kind='bar')"
   ]
  },
  {
   "cell_type": "code",
   "execution_count": 5,
   "metadata": {
    "execution": {
     "iopub.execute_input": "2023-07-13T22:05:46.739738Z",
     "iopub.status.busy": "2023-07-13T22:05:46.738835Z",
     "iopub.status.idle": "2023-07-13T22:05:46.780715Z",
     "shell.execute_reply": "2023-07-13T22:05:46.779697Z"
    }
   },
   "outputs": [],
   "source": [
    "cdf_1 = df.causal.do(x={treatment: 1}, \n",
    "              variable_types={treatment: 'b', outcome: 'c', common_cause: 'c'}, \n",
    "              outcome=outcome, \n",
    "              dot_graph=data['dot_graph'],\n",
    "              proceed_when_unidentifiable=True)\n",
    "\n",
    "cdf_0 = df.causal.do(x={treatment: 0}, \n",
    "              variable_types={treatment: 'b', outcome: 'c', common_cause: 'c'}, \n",
    "              outcome=outcome, \n",
    "              dot_graph=data['dot_graph'],\n",
    "              proceed_when_unidentifiable=True)\n"
   ]
  },
  {
   "cell_type": "code",
   "execution_count": 6,
   "metadata": {
    "execution": {
     "iopub.execute_input": "2023-07-13T22:05:46.785684Z",
     "iopub.status.busy": "2023-07-13T22:05:46.785090Z",
     "iopub.status.idle": "2023-07-13T22:05:46.800468Z",
     "shell.execute_reply": "2023-07-13T22:05:46.799443Z"
    },
    "scrolled": true
   },
   "outputs": [
    {
     "data": {
      "text/html": [
       "<div>\n",
       "<style scoped>\n",
       "    .dataframe tbody tr th:only-of-type {\n",
       "        vertical-align: middle;\n",
       "    }\n",
       "\n",
       "    .dataframe tbody tr th {\n",
       "        vertical-align: top;\n",
       "    }\n",
       "\n",
       "    .dataframe thead th {\n",
       "        text-align: right;\n",
       "    }\n",
       "</style>\n",
       "<table border=\"1\" class=\"dataframe\">\n",
       "  <thead>\n",
       "    <tr style=\"text-align: right;\">\n",
       "      <th></th>\n",
       "      <th>W0</th>\n",
       "      <th>v0</th>\n",
       "      <th>y</th>\n",
       "      <th>propensity_score</th>\n",
       "      <th>weight</th>\n",
       "    </tr>\n",
       "  </thead>\n",
       "  <tbody>\n",
       "    <tr>\n",
       "      <th>0</th>\n",
       "      <td>0.375244</td>\n",
       "      <td>False</td>\n",
       "      <td>1.104099</td>\n",
       "      <td>0.363827</td>\n",
       "      <td>2.748559</td>\n",
       "    </tr>\n",
       "    <tr>\n",
       "      <th>1</th>\n",
       "      <td>-0.388845</td>\n",
       "      <td>False</td>\n",
       "      <td>-1.021258</td>\n",
       "      <td>0.577917</td>\n",
       "      <td>1.730353</td>\n",
       "    </tr>\n",
       "    <tr>\n",
       "      <th>2</th>\n",
       "      <td>-0.785183</td>\n",
       "      <td>False</td>\n",
       "      <td>-0.998818</td>\n",
       "      <td>0.682886</td>\n",
       "      <td>1.464372</td>\n",
       "    </tr>\n",
       "    <tr>\n",
       "      <th>3</th>\n",
       "      <td>-0.598990</td>\n",
       "      <td>False</td>\n",
       "      <td>-1.877200</td>\n",
       "      <td>0.635140</td>\n",
       "      <td>1.574457</td>\n",
       "    </tr>\n",
       "    <tr>\n",
       "      <th>4</th>\n",
       "      <td>0.210882</td>\n",
       "      <td>False</td>\n",
       "      <td>-0.394459</td>\n",
       "      <td>0.408300</td>\n",
       "      <td>2.449180</td>\n",
       "    </tr>\n",
       "    <tr>\n",
       "      <th>...</th>\n",
       "      <td>...</td>\n",
       "      <td>...</td>\n",
       "      <td>...</td>\n",
       "      <td>...</td>\n",
       "      <td>...</td>\n",
       "    </tr>\n",
       "    <tr>\n",
       "      <th>995</th>\n",
       "      <td>1.369478</td>\n",
       "      <td>False</td>\n",
       "      <td>-0.289556</td>\n",
       "      <td>0.155150</td>\n",
       "      <td>6.445372</td>\n",
       "    </tr>\n",
       "    <tr>\n",
       "      <th>996</th>\n",
       "      <td>0.341684</td>\n",
       "      <td>False</td>\n",
       "      <td>-1.154411</td>\n",
       "      <td>0.372748</td>\n",
       "      <td>2.682781</td>\n",
       "    </tr>\n",
       "    <tr>\n",
       "      <th>997</th>\n",
       "      <td>0.477866</td>\n",
       "      <td>False</td>\n",
       "      <td>2.905489</td>\n",
       "      <td>0.337145</td>\n",
       "      <td>2.966084</td>\n",
       "    </tr>\n",
       "    <tr>\n",
       "      <th>998</th>\n",
       "      <td>-0.376134</td>\n",
       "      <td>False</td>\n",
       "      <td>-0.571839</td>\n",
       "      <td>0.574370</td>\n",
       "      <td>1.741038</td>\n",
       "    </tr>\n",
       "    <tr>\n",
       "      <th>999</th>\n",
       "      <td>1.369478</td>\n",
       "      <td>False</td>\n",
       "      <td>-0.289556</td>\n",
       "      <td>0.155150</td>\n",
       "      <td>6.445372</td>\n",
       "    </tr>\n",
       "  </tbody>\n",
       "</table>\n",
       "<p>1000 rows × 5 columns</p>\n",
       "</div>"
      ],
      "text/plain": [
       "           W0     v0         y  propensity_score    weight\n",
       "0    0.375244  False  1.104099          0.363827  2.748559\n",
       "1   -0.388845  False -1.021258          0.577917  1.730353\n",
       "2   -0.785183  False -0.998818          0.682886  1.464372\n",
       "3   -0.598990  False -1.877200          0.635140  1.574457\n",
       "4    0.210882  False -0.394459          0.408300  2.449180\n",
       "..        ...    ...       ...               ...       ...\n",
       "995  1.369478  False -0.289556          0.155150  6.445372\n",
       "996  0.341684  False -1.154411          0.372748  2.682781\n",
       "997  0.477866  False  2.905489          0.337145  2.966084\n",
       "998 -0.376134  False -0.571839          0.574370  1.741038\n",
       "999  1.369478  False -0.289556          0.155150  6.445372\n",
       "\n",
       "[1000 rows x 5 columns]"
      ]
     },
     "execution_count": 6,
     "metadata": {},
     "output_type": "execute_result"
    }
   ],
   "source": [
    "cdf_0"
   ]
  },
  {
   "cell_type": "code",
   "execution_count": 7,
   "metadata": {
    "execution": {
     "iopub.execute_input": "2023-07-13T22:05:46.804720Z",
     "iopub.status.busy": "2023-07-13T22:05:46.804372Z",
     "iopub.status.idle": "2023-07-13T22:05:46.819053Z",
     "shell.execute_reply": "2023-07-13T22:05:46.818077Z"
    }
   },
   "outputs": [
    {
     "data": {
      "text/html": [
       "<div>\n",
       "<style scoped>\n",
       "    .dataframe tbody tr th:only-of-type {\n",
       "        vertical-align: middle;\n",
       "    }\n",
       "\n",
       "    .dataframe tbody tr th {\n",
       "        vertical-align: top;\n",
       "    }\n",
       "\n",
       "    .dataframe thead th {\n",
       "        text-align: right;\n",
       "    }\n",
       "</style>\n",
       "<table border=\"1\" class=\"dataframe\">\n",
       "  <thead>\n",
       "    <tr style=\"text-align: right;\">\n",
       "      <th></th>\n",
       "      <th>W0</th>\n",
       "      <th>v0</th>\n",
       "      <th>y</th>\n",
       "      <th>propensity_score</th>\n",
       "      <th>weight</th>\n",
       "    </tr>\n",
       "  </thead>\n",
       "  <tbody>\n",
       "    <tr>\n",
       "      <th>0</th>\n",
       "      <td>0.902570</td>\n",
       "      <td>True</td>\n",
       "      <td>7.053382</td>\n",
       "      <td>0.761568</td>\n",
       "      <td>1.313081</td>\n",
       "    </tr>\n",
       "    <tr>\n",
       "      <th>1</th>\n",
       "      <td>-0.136797</td>\n",
       "      <td>True</td>\n",
       "      <td>3.454109</td>\n",
       "      <td>0.493439</td>\n",
       "      <td>2.026594</td>\n",
       "    </tr>\n",
       "    <tr>\n",
       "      <th>2</th>\n",
       "      <td>-1.995830</td>\n",
       "      <td>True</td>\n",
       "      <td>4.216734</td>\n",
       "      <td>0.104302</td>\n",
       "      <td>9.587500</td>\n",
       "    </tr>\n",
       "    <tr>\n",
       "      <th>3</th>\n",
       "      <td>0.470499</td>\n",
       "      <td>True</td>\n",
       "      <td>4.162208</td>\n",
       "      <td>0.660972</td>\n",
       "      <td>1.512924</td>\n",
       "    </tr>\n",
       "    <tr>\n",
       "      <th>4</th>\n",
       "      <td>0.397903</td>\n",
       "      <td>True</td>\n",
       "      <td>5.426082</td>\n",
       "      <td>0.642144</td>\n",
       "      <td>1.557283</td>\n",
       "    </tr>\n",
       "    <tr>\n",
       "      <th>...</th>\n",
       "      <td>...</td>\n",
       "      <td>...</td>\n",
       "      <td>...</td>\n",
       "      <td>...</td>\n",
       "      <td>...</td>\n",
       "    </tr>\n",
       "    <tr>\n",
       "      <th>995</th>\n",
       "      <td>-1.620620</td>\n",
       "      <td>True</td>\n",
       "      <td>5.100763</td>\n",
       "      <td>0.151664</td>\n",
       "      <td>6.593506</td>\n",
       "    </tr>\n",
       "    <tr>\n",
       "      <th>996</th>\n",
       "      <td>0.730562</td>\n",
       "      <td>True</td>\n",
       "      <td>4.747494</td>\n",
       "      <td>0.724075</td>\n",
       "      <td>1.381073</td>\n",
       "    </tr>\n",
       "    <tr>\n",
       "      <th>997</th>\n",
       "      <td>-1.418336</td>\n",
       "      <td>True</td>\n",
       "      <td>5.086035</td>\n",
       "      <td>0.183849</td>\n",
       "      <td>5.439250</td>\n",
       "    </tr>\n",
       "    <tr>\n",
       "      <th>998</th>\n",
       "      <td>0.375236</td>\n",
       "      <td>True</td>\n",
       "      <td>5.092037</td>\n",
       "      <td>0.636171</td>\n",
       "      <td>1.571905</td>\n",
       "    </tr>\n",
       "    <tr>\n",
       "      <th>999</th>\n",
       "      <td>0.175331</td>\n",
       "      <td>True</td>\n",
       "      <td>4.532347</td>\n",
       "      <td>0.581852</td>\n",
       "      <td>1.718651</td>\n",
       "    </tr>\n",
       "  </tbody>\n",
       "</table>\n",
       "<p>1000 rows × 5 columns</p>\n",
       "</div>"
      ],
      "text/plain": [
       "           W0    v0         y  propensity_score    weight\n",
       "0    0.902570  True  7.053382          0.761568  1.313081\n",
       "1   -0.136797  True  3.454109          0.493439  2.026594\n",
       "2   -1.995830  True  4.216734          0.104302  9.587500\n",
       "3    0.470499  True  4.162208          0.660972  1.512924\n",
       "4    0.397903  True  5.426082          0.642144  1.557283\n",
       "..        ...   ...       ...               ...       ...\n",
       "995 -1.620620  True  5.100763          0.151664  6.593506\n",
       "996  0.730562  True  4.747494          0.724075  1.381073\n",
       "997 -1.418336  True  5.086035          0.183849  5.439250\n",
       "998  0.375236  True  5.092037          0.636171  1.571905\n",
       "999  0.175331  True  4.532347          0.581852  1.718651\n",
       "\n",
       "[1000 rows x 5 columns]"
      ]
     },
     "execution_count": 7,
     "metadata": {},
     "output_type": "execute_result"
    }
   ],
   "source": [
    "cdf_1"
   ]
  },
  {
   "cell_type": "markdown",
   "metadata": {},
   "source": [
    "## Comparing the estimate to Linear Regression\n",
    "First, estimating the effect using the causal data frame, and the 95% confidence interval."
   ]
  },
  {
   "cell_type": "code",
   "execution_count": 8,
   "metadata": {
    "execution": {
     "iopub.execute_input": "2023-07-13T22:05:46.823478Z",
     "iopub.status.busy": "2023-07-13T22:05:46.823213Z",
     "iopub.status.idle": "2023-07-13T22:05:46.901196Z",
     "shell.execute_reply": "2023-07-13T22:05:46.900201Z"
    }
   },
   "outputs": [
    {
     "data": {
      "image/png": "[encoded data removed]",
      "text/latex": [
       "$\\displaystyle 4.92888643652618$"
      ],
      "text/plain": [
       "4.92888643652618"
      ]
     },
     "execution_count": 8,
     "metadata": {},
     "output_type": "execute_result"
    }
   ],
   "source": [
    "(cdf_1['y'] - cdf_0['y']).mean()"
   ]
  },
  {
   "cell_type": "code",
   "execution_count": 9,
   "metadata": {
    "execution": {
     "iopub.execute_input": "2023-07-13T22:05:46.905495Z",
     "iopub.status.busy": "2023-07-13T22:05:46.905003Z",
     "iopub.status.idle": "2023-07-13T22:05:46.934861Z",
     "shell.execute_reply": "2023-07-13T22:05:46.933896Z"
    }
   },
   "outputs": [
    {
     "data": {
      "image/png": "[encoded data removed]",
      "text/latex": [
       "$\\displaystyle 0.0963769230334803$"
      ],
      "text/plain": [
       "0.09637692303348033"
      ]
     },
     "execution_count": 9,
     "metadata": {},
     "output_type": "execute_result"
    }
   ],
   "source": [
    "1.96*(cdf_1['y'] - cdf_0['y']).std() / np.sqrt(len(df))"
   ]
  },
  {
   "cell_type": "markdown",
   "metadata": {},
   "source": [
    "Comparing to the estimate from OLS."
   ]
  },
  {
   "cell_type": "code",
   "execution_count": 10,
   "metadata": {
    "execution": {
     "iopub.execute_input": "2023-07-13T22:05:46.939063Z",
     "iopub.status.busy": "2023-07-13T22:05:46.938685Z",
     "iopub.status.idle": "2023-07-13T22:05:46.960838Z",
     "shell.execute_reply": "2023-07-13T22:05:46.959894Z"
    }
   },
   "outputs": [
    {
     "data": {
      "text/html": [
       "<table class=\"simpletable\">\n",
       "<caption>OLS Regression Results</caption>\n",
       "<tr>\n",
       "  <th>Dep. Variable:</th>            <td>y</td>        <th>  R-squared (uncentered):</th>      <td>   0.927</td>\n",
       "</tr>\n",
       "<tr>\n",
       "  <th>Model:</th>                   <td>OLS</td>       <th>  Adj. R-squared (uncentered):</th> <td>   0.927</td>\n",
       "</tr>\n",
       "<tr>\n",
       "  <th>Method:</th>             <td>Least Squares</td>  <th>  F-statistic:       </th>          <td>   6375.</td>\n",
       "</tr>\n",
       "<tr>\n",
       "  <th>Date:</th>             <td>Thu, 13 Jul 2023</td> <th>  Prob (F-statistic):</th>           <td>  0.00</td> \n",
       "</tr>\n",
       "<tr>\n",
       "  <th>Time:</th>                 <td>22:05:46</td>     <th>  Log-Likelihood:    </th>          <td> -1406.7</td>\n",
       "</tr>\n",
       "<tr>\n",
       "  <th>No. Observations:</th>      <td>  1000</td>      <th>  AIC:               </th>          <td>   2817.</td>\n",
       "</tr>\n",
       "<tr>\n",
       "  <th>Df Residuals:</th>          <td>   998</td>      <th>  BIC:               </th>          <td>   2827.</td>\n",
       "</tr>\n",
       "<tr>\n",
       "  <th>Df Model:</th>              <td>     2</td>      <th>                     </th>              <td> </td>   \n",
       "</tr>\n",
       "<tr>\n",
       "  <th>Covariance Type:</th>      <td>nonrobust</td>    <th>                     </th>              <td> </td>   \n",
       "</tr>\n",
       "</table>\n",
       "<table class=\"simpletable\">\n",
       "<tr>\n",
       "   <td></td>     <th>coef</th>     <th>std err</th>      <th>t</th>      <th>P>|t|</th>  <th>[0.025</th>    <th>0.975]</th>  \n",
       "</tr>\n",
       "<tr>\n",
       "  <th>x1</th> <td>    0.4650</td> <td>    0.030</td> <td>   15.300</td> <td> 0.000</td> <td>    0.405</td> <td>    0.525</td>\n",
       "</tr>\n",
       "<tr>\n",
       "  <th>x2</th> <td>    4.9772</td> <td>    0.046</td> <td>  107.895</td> <td> 0.000</td> <td>    4.887</td> <td>    5.068</td>\n",
       "</tr>\n",
       "</table>\n",
       "<table class=\"simpletable\">\n",
       "<tr>\n",
       "  <th>Omnibus:</th>       <td> 4.629</td> <th>  Durbin-Watson:     </th> <td>   1.966</td>\n",
       "</tr>\n",
       "<tr>\n",
       "  <th>Prob(Omnibus):</th> <td> 0.099</td> <th>  Jarque-Bera (JB):  </th> <td>   4.537</td>\n",
       "</tr>\n",
       "<tr>\n",
       "  <th>Skew:</th>          <td> 0.138</td> <th>  Prob(JB):          </th> <td>   0.103</td>\n",
       "</tr>\n",
       "<tr>\n",
       "  <th>Kurtosis:</th>      <td> 3.181</td> <th>  Cond. No.          </th> <td>    1.57</td>\n",
       "</tr>\n",
       "</table><br/><br/>Notes:<br/>[1] R² is computed without centering (uncentered) since the model does not contain a constant.<br/>[2] Standard Errors assume that the covariance matrix of the errors is correctly specified."
      ],
      "text/plain": [
       "<class 'statsmodels.iolib.summary.Summary'>\n",
       "\"\"\"\n",
       "                                 OLS Regression Results                                \n",
       "=======================================================================================\n",
       "Dep. Variable:                      y   R-squared (uncentered):                   0.927\n",
       "Model:                            OLS   Adj. R-squared (uncentered):              0.927\n",
       "Method:                 Least Squares   F-statistic:                              6375.\n",
       "Date:                Thu, 13 Jul 2023   Prob (F-statistic):                        0.00\n",
       "Time:                        22:05:46   Log-Likelihood:                         -1406.7\n",
       "No. Observations:                1000   AIC:                                      2817.\n",
       "Df Residuals:                     998   BIC:                                      2827.\n",
       "Df Model:                           2                                                  \n",
       "Covariance Type:            nonrobust                                                  \n",
       "==============================================================================\n",
       "                 coef    std err          t      P>|t|      [0.025      0.975]\n",
       "------------------------------------------------------------------------------\n",
       "x1             0.4650      0.030     15.300      0.000       0.405       0.525\n",
       "x2             4.9772      0.046    107.895      0.000       4.887       5.068\n",
       "==============================================================================\n",
       "Omnibus:                        4.629   Durbin-Watson:                   1.966\n",
       "Prob(Omnibus):                  0.099   Jarque-Bera (JB):                4.537\n",
       "Skew:                           0.138   Prob(JB):                        0.103\n",
       "Kurtosis:                       3.181   Cond. No.                         1.57\n",
       "==============================================================================\n",
       "\n",
       "Notes:\n",
       "[1] R² is computed without centering (uncentered) since the model does not contain a constant.\n",
       "[2] Standard Errors assume that the covariance matrix of the errors is correctly specified.\n",
       "\"\"\""
      ]
     },
     "execution_count": 10,
     "metadata": {},
     "output_type": "execute_result"
    }
   ],
   "source": [
    "model = OLS(np.asarray(df[outcome]), np.asarray(df[[common_cause, treatment]], dtype=np.float64))\n",
    "result = model.fit()\n",
    "result.summary()"
   ]
  }
 ],
 "metadata": {
  "kernelspec": {
   "display_name": "Python 3",
   "language": "python",
   "name": "python3"
  },
  "language_info": {
   "codemirror_mode": {
    "name": "ipython",
    "version": 3
   },
   "file_extension": ".py",
   "mimetype": "text/x-python",
   "name": "python",
   "nbconvert_exporter": "python",
   "pygments_lexer": "ipython3",
   "version": "3.8.10"
  },
  "toc": {
   "base_numbering": 1,
   "nav_menu": {},
   "number_sections": false,
   "sideBar": true,
   "skip_h1_title": true,
   "title_cell": "Table of Contents",
   "title_sidebar": "Contents",
   "toc_cell": false,
   "toc_position": {},
   "toc_section_display": true,
   "toc_window_display": false
  }
 },
 "nbformat": 4,
 "nbformat_minor": 4
}
