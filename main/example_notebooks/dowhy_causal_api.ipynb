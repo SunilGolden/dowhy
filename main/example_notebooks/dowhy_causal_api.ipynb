{
 "cells": [
  {
   "cell_type": "markdown",
   "metadata": {},
   "source": [
    "# Demo for the DoWhy causal API\n",
    "We show a simple example of adding a causal extension to any dataframe. "
   ]
  },
  {
   "cell_type": "code",
   "execution_count": 1,
   "metadata": {
    "execution": {
     "iopub.execute_input": "2023-07-30T11:07:14.525966Z",
     "iopub.status.busy": "2023-07-30T11:07:14.525750Z",
     "iopub.status.idle": "2023-07-30T11:07:16.046933Z",
     "shell.execute_reply": "2023-07-30T11:07:16.046325Z"
    }
   },
   "outputs": [],
   "source": [
    "import dowhy.datasets\n",
    "import dowhy.api\n",
    "\n",
    "import numpy as np\n",
    "import pandas as pd\n",
    "\n",
    "from statsmodels.api import OLS"
   ]
  },
  {
   "cell_type": "code",
   "execution_count": 2,
   "metadata": {
    "execution": {
     "iopub.execute_input": "2023-07-30T11:07:16.050204Z",
     "iopub.status.busy": "2023-07-30T11:07:16.049732Z",
     "iopub.status.idle": "2023-07-30T11:07:16.089835Z",
     "shell.execute_reply": "2023-07-30T11:07:16.089318Z"
    }
   },
   "outputs": [
    {
     "data": {
      "text/html": [
       "<div>\n",
       "<style scoped>\n",
       "    .dataframe tbody tr th:only-of-type {\n",
       "        vertical-align: middle;\n",
       "    }\n",
       "\n",
       "    .dataframe tbody tr th {\n",
       "        vertical-align: top;\n",
       "    }\n",
       "\n",
       "    .dataframe thead th {\n",
       "        text-align: right;\n",
       "    }\n",
       "</style>\n",
       "<table border=\"1\" class=\"dataframe\">\n",
       "  <thead>\n",
       "    <tr style=\"text-align: right;\">\n",
       "      <th></th>\n",
       "      <th>W0</th>\n",
       "      <th>v0</th>\n",
       "      <th>y</th>\n",
       "    </tr>\n",
       "  </thead>\n",
       "  <tbody>\n",
       "    <tr>\n",
       "      <th>0</th>\n",
       "      <td>-0.391155</td>\n",
       "      <td>False</td>\n",
       "      <td>-0.519657</td>\n",
       "    </tr>\n",
       "    <tr>\n",
       "      <th>1</th>\n",
       "      <td>1.471143</td>\n",
       "      <td>True</td>\n",
       "      <td>9.621192</td>\n",
       "    </tr>\n",
       "    <tr>\n",
       "      <th>2</th>\n",
       "      <td>-0.882611</td>\n",
       "      <td>True</td>\n",
       "      <td>4.356757</td>\n",
       "    </tr>\n",
       "    <tr>\n",
       "      <th>3</th>\n",
       "      <td>-0.834870</td>\n",
       "      <td>False</td>\n",
       "      <td>-3.443394</td>\n",
       "    </tr>\n",
       "    <tr>\n",
       "      <th>4</th>\n",
       "      <td>0.171305</td>\n",
       "      <td>False</td>\n",
       "      <td>1.428308</td>\n",
       "    </tr>\n",
       "    <tr>\n",
       "      <th>...</th>\n",
       "      <td>...</td>\n",
       "      <td>...</td>\n",
       "      <td>...</td>\n",
       "    </tr>\n",
       "    <tr>\n",
       "      <th>995</th>\n",
       "      <td>-0.345854</td>\n",
       "      <td>False</td>\n",
       "      <td>-0.943828</td>\n",
       "    </tr>\n",
       "    <tr>\n",
       "      <th>996</th>\n",
       "      <td>-1.822211</td>\n",
       "      <td>True</td>\n",
       "      <td>1.224008</td>\n",
       "    </tr>\n",
       "    <tr>\n",
       "      <th>997</th>\n",
       "      <td>-1.418376</td>\n",
       "      <td>False</td>\n",
       "      <td>-4.615610</td>\n",
       "    </tr>\n",
       "    <tr>\n",
       "      <th>998</th>\n",
       "      <td>-0.715219</td>\n",
       "      <td>True</td>\n",
       "      <td>3.554194</td>\n",
       "    </tr>\n",
       "    <tr>\n",
       "      <th>999</th>\n",
       "      <td>-0.385775</td>\n",
       "      <td>False</td>\n",
       "      <td>-0.960114</td>\n",
       "    </tr>\n",
       "  </tbody>\n",
       "</table>\n",
       "<p>1000 rows × 3 columns</p>\n",
       "</div>"
      ],
      "text/plain": [
       "           W0     v0         y\n",
       "0   -0.391155  False -0.519657\n",
       "1    1.471143   True  9.621192\n",
       "2   -0.882611   True  4.356757\n",
       "3   -0.834870  False -3.443394\n",
       "4    0.171305  False  1.428308\n",
       "..        ...    ...       ...\n",
       "995 -0.345854  False -0.943828\n",
       "996 -1.822211   True  1.224008\n",
       "997 -1.418376  False -4.615610\n",
       "998 -0.715219   True  3.554194\n",
       "999 -0.385775  False -0.960114\n",
       "\n",
       "[1000 rows x 3 columns]"
      ]
     },
     "execution_count": 2,
     "metadata": {},
     "output_type": "execute_result"
    }
   ],
   "source": [
    "data = dowhy.datasets.linear_dataset(beta=5,\n",
    "        num_common_causes=1,\n",
    "        num_instruments = 0,\n",
    "        num_samples=1000,\n",
    "        treatment_is_binary=True)\n",
    "df = data['df']\n",
    "df['y'] = df['y'] + np.random.normal(size=len(df)) # Adding noise to data. Without noise, the variance in Y|X, Z is zero, and mcmc fails.\n",
    "#data['dot_graph'] = 'digraph { v ->y;X0-> v;X0-> y;}'\n",
    "\n",
    "treatment= data[\"treatment_name\"][0]\n",
    "outcome = data[\"outcome_name\"][0]\n",
    "common_cause = data[\"common_causes_names\"][0]\n",
    "df"
   ]
  },
  {
   "cell_type": "code",
   "execution_count": 3,
   "metadata": {
    "execution": {
     "iopub.execute_input": "2023-07-30T11:07:16.092809Z",
     "iopub.status.busy": "2023-07-30T11:07:16.092318Z",
     "iopub.status.idle": "2023-07-30T11:07:16.278499Z",
     "shell.execute_reply": "2023-07-30T11:07:16.277901Z"
    }
   },
   "outputs": [
    {
     "data": {
      "text/plain": [
       "<Axes: xlabel='v0'>"
      ]
     },
     "execution_count": 3,
     "metadata": {},
     "output_type": "execute_result"
    },
    {
     "data": {
      "image/png": "[encoded data removed]",
      "text/plain": [
       "<Figure size 640x480 with 1 Axes>"
      ]
     },
     "metadata": {},
     "output_type": "display_data"
    }
   ],
   "source": [
    "# data['df'] is just a regular pandas.DataFrame\n",
    "df.causal.do(x=treatment,\n",
    "                     variable_types={treatment: 'b', outcome: 'c', common_cause: 'c'},\n",
    "                     outcome=outcome,\n",
    "                     common_causes=[common_cause],\n",
    "                     proceed_when_unidentifiable=True).groupby(treatment).mean().plot(y=outcome, kind='bar')"
   ]
  },
  {
   "cell_type": "code",
   "execution_count": 4,
   "metadata": {
    "execution": {
     "iopub.execute_input": "2023-07-30T11:07:16.281252Z",
     "iopub.status.busy": "2023-07-30T11:07:16.281031Z",
     "iopub.status.idle": "2023-07-30T11:07:16.420920Z",
     "shell.execute_reply": "2023-07-30T11:07:16.420270Z"
    }
   },
   "outputs": [
    {
     "data": {
      "text/plain": [
       "<Axes: xlabel='v0'>"
      ]
     },
     "execution_count": 4,
     "metadata": {},
     "output_type": "execute_result"
    },
    {
     "data": {
      "image/png": "[encoded data removed]",
      "text/plain": [
       "<Figure size 640x480 with 1 Axes>"
      ]
     },
     "metadata": {},
     "output_type": "display_data"
    }
   ],
   "source": [
    "df.causal.do(x={treatment: 1}, \n",
    "              variable_types={treatment:'b', outcome: 'c', common_cause: 'c'}, \n",
    "              outcome=outcome,\n",
    "              method='weighting', \n",
    "              common_causes=[common_cause],\n",
    "              proceed_when_unidentifiable=True).groupby(treatment).mean().plot(y=outcome, kind='bar')"
   ]
  },
  {
   "cell_type": "code",
   "execution_count": 5,
   "metadata": {
    "execution": {
     "iopub.execute_input": "2023-07-30T11:07:16.423975Z",
     "iopub.status.busy": "2023-07-30T11:07:16.423445Z",
     "iopub.status.idle": "2023-07-30T11:07:16.453876Z",
     "shell.execute_reply": "2023-07-30T11:07:16.453299Z"
    }
   },
   "outputs": [],
   "source": [
    "cdf_1 = df.causal.do(x={treatment: 1}, \n",
    "              variable_types={treatment: 'b', outcome: 'c', common_cause: 'c'}, \n",
    "              outcome=outcome, \n",
    "              dot_graph=data['dot_graph'],\n",
    "              proceed_when_unidentifiable=True)\n",
    "\n",
    "cdf_0 = df.causal.do(x={treatment: 0}, \n",
    "              variable_types={treatment: 'b', outcome: 'c', common_cause: 'c'}, \n",
    "              outcome=outcome, \n",
    "              dot_graph=data['dot_graph'],\n",
    "              proceed_when_unidentifiable=True)\n"
   ]
  },
  {
   "cell_type": "code",
   "execution_count": 6,
   "metadata": {
    "execution": {
     "iopub.execute_input": "2023-07-30T11:07:16.456497Z",
     "iopub.status.busy": "2023-07-30T11:07:16.456285Z",
     "iopub.status.idle": "2023-07-30T11:07:16.466339Z",
     "shell.execute_reply": "2023-07-30T11:07:16.465744Z"
    },
    "scrolled": true
   },
   "outputs": [
    {
     "data": {
      "text/html": [
       "<div>\n",
       "<style scoped>\n",
       "    .dataframe tbody tr th:only-of-type {\n",
       "        vertical-align: middle;\n",
       "    }\n",
       "\n",
       "    .dataframe tbody tr th {\n",
       "        vertical-align: top;\n",
       "    }\n",
       "\n",
       "    .dataframe thead th {\n",
       "        text-align: right;\n",
       "    }\n",
       "</style>\n",
       "<table border=\"1\" class=\"dataframe\">\n",
       "  <thead>\n",
       "    <tr style=\"text-align: right;\">\n",
       "      <th></th>\n",
       "      <th>W0</th>\n",
       "      <th>v0</th>\n",
       "      <th>y</th>\n",
       "      <th>propensity_score</th>\n",
       "      <th>weight</th>\n",
       "    </tr>\n",
       "  </thead>\n",
       "  <tbody>\n",
       "    <tr>\n",
       "      <th>0</th>\n",
       "      <td>1.215693</td>\n",
       "      <td>False</td>\n",
       "      <td>4.222454</td>\n",
       "      <td>0.065018</td>\n",
       "      <td>15.380332</td>\n",
       "    </tr>\n",
       "    <tr>\n",
       "      <th>1</th>\n",
       "      <td>-0.549455</td>\n",
       "      <td>False</td>\n",
       "      <td>-0.757690</td>\n",
       "      <td>0.750900</td>\n",
       "      <td>1.331736</td>\n",
       "    </tr>\n",
       "    <tr>\n",
       "      <th>2</th>\n",
       "      <td>0.118036</td>\n",
       "      <td>False</td>\n",
       "      <td>1.872855</td>\n",
       "      <td>0.420204</td>\n",
       "      <td>2.379798</td>\n",
       "    </tr>\n",
       "    <tr>\n",
       "      <th>3</th>\n",
       "      <td>-1.243431</td>\n",
       "      <td>False</td>\n",
       "      <td>-3.002130</td>\n",
       "      <td>0.929911</td>\n",
       "      <td>1.075372</td>\n",
       "    </tr>\n",
       "    <tr>\n",
       "      <th>4</th>\n",
       "      <td>-0.154662</td>\n",
       "      <td>False</td>\n",
       "      <td>-0.859458</td>\n",
       "      <td>0.564729</td>\n",
       "      <td>1.770760</td>\n",
       "    </tr>\n",
       "    <tr>\n",
       "      <th>...</th>\n",
       "      <td>...</td>\n",
       "      <td>...</td>\n",
       "      <td>...</td>\n",
       "      <td>...</td>\n",
       "      <td>...</td>\n",
       "    </tr>\n",
       "    <tr>\n",
       "      <th>995</th>\n",
       "      <td>0.967997</td>\n",
       "      <td>False</td>\n",
       "      <td>2.350017</td>\n",
       "      <td>0.105558</td>\n",
       "      <td>9.473433</td>\n",
       "    </tr>\n",
       "    <tr>\n",
       "      <th>996</th>\n",
       "      <td>-0.154914</td>\n",
       "      <td>False</td>\n",
       "      <td>-0.123670</td>\n",
       "      <td>0.564862</td>\n",
       "      <td>1.770344</td>\n",
       "    </tr>\n",
       "    <tr>\n",
       "      <th>997</th>\n",
       "      <td>-0.024645</td>\n",
       "      <td>False</td>\n",
       "      <td>1.665969</td>\n",
       "      <td>0.495686</td>\n",
       "      <td>2.017407</td>\n",
       "    </tr>\n",
       "    <tr>\n",
       "      <th>998</th>\n",
       "      <td>0.832697</td>\n",
       "      <td>False</td>\n",
       "      <td>2.574928</td>\n",
       "      <td>0.136106</td>\n",
       "      <td>7.347218</td>\n",
       "    </tr>\n",
       "    <tr>\n",
       "      <th>999</th>\n",
       "      <td>-1.637000</td>\n",
       "      <td>False</td>\n",
       "      <td>-4.763549</td>\n",
       "      <td>0.968500</td>\n",
       "      <td>1.032525</td>\n",
       "    </tr>\n",
       "  </tbody>\n",
       "</table>\n",
       "<p>1000 rows × 5 columns</p>\n",
       "</div>"
      ],
      "text/plain": [
       "           W0     v0         y  propensity_score     weight\n",
       "0    1.215693  False  4.222454          0.065018  15.380332\n",
       "1   -0.549455  False -0.757690          0.750900   1.331736\n",
       "2    0.118036  False  1.872855          0.420204   2.379798\n",
       "3   -1.243431  False -3.002130          0.929911   1.075372\n",
       "4   -0.154662  False -0.859458          0.564729   1.770760\n",
       "..        ...    ...       ...               ...        ...\n",
       "995  0.967997  False  2.350017          0.105558   9.473433\n",
       "996 -0.154914  False -0.123670          0.564862   1.770344\n",
       "997 -0.024645  False  1.665969          0.495686   2.017407\n",
       "998  0.832697  False  2.574928          0.136106   7.347218\n",
       "999 -1.637000  False -4.763549          0.968500   1.032525\n",
       "\n",
       "[1000 rows x 5 columns]"
      ]
     },
     "execution_count": 6,
     "metadata": {},
     "output_type": "execute_result"
    }
   ],
   "source": [
    "cdf_0"
   ]
  },
  {
   "cell_type": "code",
   "execution_count": 7,
   "metadata": {
    "execution": {
     "iopub.execute_input": "2023-07-30T11:07:16.469753Z",
     "iopub.status.busy": "2023-07-30T11:07:16.469549Z",
     "iopub.status.idle": "2023-07-30T11:07:16.479287Z",
     "shell.execute_reply": "2023-07-30T11:07:16.478681Z"
    }
   },
   "outputs": [
    {
     "data": {
      "text/html": [
       "<div>\n",
       "<style scoped>\n",
       "    .dataframe tbody tr th:only-of-type {\n",
       "        vertical-align: middle;\n",
       "    }\n",
       "\n",
       "    .dataframe tbody tr th {\n",
       "        vertical-align: top;\n",
       "    }\n",
       "\n",
       "    .dataframe thead th {\n",
       "        text-align: right;\n",
       "    }\n",
       "</style>\n",
       "<table border=\"1\" class=\"dataframe\">\n",
       "  <thead>\n",
       "    <tr style=\"text-align: right;\">\n",
       "      <th></th>\n",
       "      <th>W0</th>\n",
       "      <th>v0</th>\n",
       "      <th>y</th>\n",
       "      <th>propensity_score</th>\n",
       "      <th>weight</th>\n",
       "    </tr>\n",
       "  </thead>\n",
       "  <tbody>\n",
       "    <tr>\n",
       "      <th>0</th>\n",
       "      <td>-0.753356</td>\n",
       "      <td>True</td>\n",
       "      <td>4.222045</td>\n",
       "      <td>0.176706</td>\n",
       "      <td>5.659106</td>\n",
       "    </tr>\n",
       "    <tr>\n",
       "      <th>1</th>\n",
       "      <td>1.017486</td>\n",
       "      <td>True</td>\n",
       "      <td>7.299945</td>\n",
       "      <td>0.904012</td>\n",
       "      <td>1.106181</td>\n",
       "    </tr>\n",
       "    <tr>\n",
       "      <th>2</th>\n",
       "      <td>0.622581</td>\n",
       "      <td>True</td>\n",
       "      <td>6.327894</td>\n",
       "      <td>0.802079</td>\n",
       "      <td>1.246760</td>\n",
       "    </tr>\n",
       "    <tr>\n",
       "      <th>3</th>\n",
       "      <td>0.286390</td>\n",
       "      <td>True</td>\n",
       "      <td>5.606851</td>\n",
       "      <td>0.664060</td>\n",
       "      <td>1.505888</td>\n",
       "    </tr>\n",
       "    <tr>\n",
       "      <th>4</th>\n",
       "      <td>1.378038</td>\n",
       "      <td>True</td>\n",
       "      <td>9.099322</td>\n",
       "      <td>0.953137</td>\n",
       "      <td>1.049167</td>\n",
       "    </tr>\n",
       "    <tr>\n",
       "      <th>...</th>\n",
       "      <td>...</td>\n",
       "      <td>...</td>\n",
       "      <td>...</td>\n",
       "      <td>...</td>\n",
       "      <td>...</td>\n",
       "    </tr>\n",
       "    <tr>\n",
       "      <th>995</th>\n",
       "      <td>0.386150</td>\n",
       "      <td>True</td>\n",
       "      <td>4.663700</td>\n",
       "      <td>0.709811</td>\n",
       "      <td>1.408826</td>\n",
       "    </tr>\n",
       "    <tr>\n",
       "      <th>996</th>\n",
       "      <td>-1.822201</td>\n",
       "      <td>True</td>\n",
       "      <td>-0.933880</td>\n",
       "      <td>0.021432</td>\n",
       "      <td>46.660056</td>\n",
       "    </tr>\n",
       "    <tr>\n",
       "      <th>997</th>\n",
       "      <td>-1.822211</td>\n",
       "      <td>True</td>\n",
       "      <td>1.224008</td>\n",
       "      <td>0.021431</td>\n",
       "      <td>46.661037</td>\n",
       "    </tr>\n",
       "    <tr>\n",
       "      <th>998</th>\n",
       "      <td>-0.045259</td>\n",
       "      <td>True</td>\n",
       "      <td>4.028427</td>\n",
       "      <td>0.493310</td>\n",
       "      <td>2.027121</td>\n",
       "    </tr>\n",
       "    <tr>\n",
       "      <th>999</th>\n",
       "      <td>1.015611</td>\n",
       "      <td>True</td>\n",
       "      <td>7.278514</td>\n",
       "      <td>0.903664</td>\n",
       "      <td>1.106607</td>\n",
       "    </tr>\n",
       "  </tbody>\n",
       "</table>\n",
       "<p>1000 rows × 5 columns</p>\n",
       "</div>"
      ],
      "text/plain": [
       "           W0    v0         y  propensity_score     weight\n",
       "0   -0.753356  True  4.222045          0.176706   5.659106\n",
       "1    1.017486  True  7.299945          0.904012   1.106181\n",
       "2    0.622581  True  6.327894          0.802079   1.246760\n",
       "3    0.286390  True  5.606851          0.664060   1.505888\n",
       "4    1.378038  True  9.099322          0.953137   1.049167\n",
       "..        ...   ...       ...               ...        ...\n",
       "995  0.386150  True  4.663700          0.709811   1.408826\n",
       "996 -1.822201  True -0.933880          0.021432  46.660056\n",
       "997 -1.822211  True  1.224008          0.021431  46.661037\n",
       "998 -0.045259  True  4.028427          0.493310   2.027121\n",
       "999  1.015611  True  7.278514          0.903664   1.106607\n",
       "\n",
       "[1000 rows x 5 columns]"
      ]
     },
     "execution_count": 7,
     "metadata": {},
     "output_type": "execute_result"
    }
   ],
   "source": [
    "cdf_1"
   ]
  },
  {
   "cell_type": "markdown",
   "metadata": {},
   "source": [
    "## Comparing the estimate to Linear Regression\n",
    "First, estimating the effect using the causal data frame, and the 95% confidence interval."
   ]
  },
  {
   "cell_type": "code",
   "execution_count": 8,
   "metadata": {
    "execution": {
     "iopub.execute_input": "2023-07-30T11:07:16.482698Z",
     "iopub.status.busy": "2023-07-30T11:07:16.482490Z",
     "iopub.status.idle": "2023-07-30T11:07:16.538183Z",
     "shell.execute_reply": "2023-07-30T11:07:16.537522Z"
    }
   },
   "outputs": [
    {
     "data": {
      "image/png": "[encoded data removed]",
      "text/latex": [
       "$\\displaystyle 5.54852232447845$"
      ],
      "text/plain": [
       "5.548522324478448"
      ]
     },
     "execution_count": 8,
     "metadata": {},
     "output_type": "execute_result"
    }
   ],
   "source": [
    "(cdf_1['y'] - cdf_0['y']).mean()"
   ]
  },
  {
   "cell_type": "code",
   "execution_count": 9,
   "metadata": {
    "execution": {
     "iopub.execute_input": "2023-07-30T11:07:16.541345Z",
     "iopub.status.busy": "2023-07-30T11:07:16.540842Z",
     "iopub.status.idle": "2023-07-30T11:07:16.560977Z",
     "shell.execute_reply": "2023-07-30T11:07:16.560353Z"
    }
   },
   "outputs": [
    {
     "data": {
      "image/png": "[encoded data removed]",
      "text/latex": [
       "$\\displaystyle 0.246626869243607$"
      ],
      "text/plain": [
       "0.24662686924360744"
      ]
     },
     "execution_count": 9,
     "metadata": {},
     "output_type": "execute_result"
    }
   ],
   "source": [
    "1.96*(cdf_1['y'] - cdf_0['y']).std() / np.sqrt(len(df))"
   ]
  },
  {
   "cell_type": "markdown",
   "metadata": {},
   "source": [
    "Comparing to the estimate from OLS."
   ]
  },
  {
   "cell_type": "code",
   "execution_count": 10,
   "metadata": {
    "execution": {
     "iopub.execute_input": "2023-07-30T11:07:16.563968Z",
     "iopub.status.busy": "2023-07-30T11:07:16.563483Z",
     "iopub.status.idle": "2023-07-30T11:07:16.582745Z",
     "shell.execute_reply": "2023-07-30T11:07:16.582092Z"
    }
   },
   "outputs": [
    {
     "data": {
      "text/html": [
       "<table class=\"simpletable\">\n",
       "<caption>OLS Regression Results</caption>\n",
       "<tr>\n",
       "  <th>Dep. Variable:</th>            <td>y</td>        <th>  R-squared (uncentered):</th>      <td>   0.959</td> \n",
       "</tr>\n",
       "<tr>\n",
       "  <th>Model:</th>                   <td>OLS</td>       <th>  Adj. R-squared (uncentered):</th> <td>   0.959</td> \n",
       "</tr>\n",
       "<tr>\n",
       "  <th>Method:</th>             <td>Least Squares</td>  <th>  F-statistic:       </th>          <td>1.177e+04</td>\n",
       "</tr>\n",
       "<tr>\n",
       "  <th>Date:</th>             <td>Sun, 30 Jul 2023</td> <th>  Prob (F-statistic):</th>           <td>  0.00</td>  \n",
       "</tr>\n",
       "<tr>\n",
       "  <th>Time:</th>                 <td>11:07:16</td>     <th>  Log-Likelihood:    </th>          <td> -1424.1</td> \n",
       "</tr>\n",
       "<tr>\n",
       "  <th>No. Observations:</th>      <td>  1000</td>      <th>  AIC:               </th>          <td>   2852.</td> \n",
       "</tr>\n",
       "<tr>\n",
       "  <th>Df Residuals:</th>          <td>   998</td>      <th>  BIC:               </th>          <td>   2862.</td> \n",
       "</tr>\n",
       "<tr>\n",
       "  <th>Df Model:</th>              <td>     2</td>      <th>                     </th>              <td> </td>    \n",
       "</tr>\n",
       "<tr>\n",
       "  <th>Covariance Type:</th>      <td>nonrobust</td>    <th>                     </th>              <td> </td>    \n",
       "</tr>\n",
       "</table>\n",
       "<table class=\"simpletable\">\n",
       "<tr>\n",
       "   <td></td>     <th>coef</th>     <th>std err</th>      <th>t</th>      <th>P>|t|</th>  <th>[0.025</th>    <th>0.975]</th>  \n",
       "</tr>\n",
       "<tr>\n",
       "  <th>x1</th> <td>    2.8509</td> <td>    0.029</td> <td>   97.034</td> <td> 0.000</td> <td>    2.793</td> <td>    2.909</td>\n",
       "</tr>\n",
       "<tr>\n",
       "  <th>x2</th> <td>    5.0268</td> <td>    0.053</td> <td>   95.096</td> <td> 0.000</td> <td>    4.923</td> <td>    5.131</td>\n",
       "</tr>\n",
       "</table>\n",
       "<table class=\"simpletable\">\n",
       "<tr>\n",
       "  <th>Omnibus:</th>       <td> 3.889</td> <th>  Durbin-Watson:     </th> <td>   1.872</td>\n",
       "</tr>\n",
       "<tr>\n",
       "  <th>Prob(Omnibus):</th> <td> 0.143</td> <th>  Jarque-Bera (JB):  </th> <td>   4.072</td>\n",
       "</tr>\n",
       "<tr>\n",
       "  <th>Skew:</th>          <td> 0.085</td> <th>  Prob(JB):          </th> <td>   0.131</td>\n",
       "</tr>\n",
       "<tr>\n",
       "  <th>Kurtosis:</th>      <td> 3.262</td> <th>  Cond. No.          </th> <td>    1.88</td>\n",
       "</tr>\n",
       "</table><br/><br/>Notes:<br/>[1] R² is computed without centering (uncentered) since the model does not contain a constant.<br/>[2] Standard Errors assume that the covariance matrix of the errors is correctly specified."
      ],
      "text/latex": [
       "\\begin{center}\n",
       "\\begin{tabular}{lclc}\n",
       "\\toprule\n",
       "\\textbf{Dep. Variable:}    &        y         & \\textbf{  R-squared (uncentered):}      &     0.959   \\\\\n",
       "\\textbf{Model:}            &       OLS        & \\textbf{  Adj. R-squared (uncentered):} &     0.959   \\\\\n",
       "\\textbf{Method:}           &  Least Squares   & \\textbf{  F-statistic:       }          & 1.177e+04   \\\\\n",
       "\\textbf{Date:}             & Sun, 30 Jul 2023 & \\textbf{  Prob (F-statistic):}          &     0.00    \\\\\n",
       "\\textbf{Time:}             &     11:07:16     & \\textbf{  Log-Likelihood:    }          &   -1424.1   \\\\\n",
       "\\textbf{No. Observations:} &        1000      & \\textbf{  AIC:               }          &     2852.   \\\\\n",
       "\\textbf{Df Residuals:}     &         998      & \\textbf{  BIC:               }          &     2862.   \\\\\n",
       "\\textbf{Df Model:}         &           2      & \\textbf{                     }          &             \\\\\n",
       "\\textbf{Covariance Type:}  &    nonrobust     & \\textbf{                     }          &             \\\\\n",
       "\\bottomrule\n",
       "\\end{tabular}\n",
       "\\begin{tabular}{lcccccc}\n",
       "            & \\textbf{coef} & \\textbf{std err} & \\textbf{t} & \\textbf{P$> |$t$|$} & \\textbf{[0.025} & \\textbf{0.975]}  \\\\\n",
       "\\midrule\n",
       "\\textbf{x1} &       2.8509  &        0.029     &    97.034  &         0.000        &        2.793    &        2.909     \\\\\n",
       "\\textbf{x2} &       5.0268  &        0.053     &    95.096  &         0.000        &        4.923    &        5.131     \\\\\n",
       "\\bottomrule\n",
       "\\end{tabular}\n",
       "\\begin{tabular}{lclc}\n",
       "\\textbf{Omnibus:}       &  3.889 & \\textbf{  Durbin-Watson:     } &    1.872  \\\\\n",
       "\\textbf{Prob(Omnibus):} &  0.143 & \\textbf{  Jarque-Bera (JB):  } &    4.072  \\\\\n",
       "\\textbf{Skew:}          &  0.085 & \\textbf{  Prob(JB):          } &    0.131  \\\\\n",
       "\\textbf{Kurtosis:}      &  3.262 & \\textbf{  Cond. No.          } &     1.88  \\\\\n",
       "\\bottomrule\n",
       "\\end{tabular}\n",
       "%\\caption{OLS Regression Results}\n",
       "\\end{center}\n",
       "\n",
       "Notes: \\newline\n",
       " [1] R² is computed without centering (uncentered) since the model does not contain a constant. \\newline\n",
       " [2] Standard Errors assume that the covariance matrix of the errors is correctly specified."
      ],
      "text/plain": [
       "<class 'statsmodels.iolib.summary.Summary'>\n",
       "\"\"\"\n",
       "                                 OLS Regression Results                                \n",
       "=======================================================================================\n",
       "Dep. Variable:                      y   R-squared (uncentered):                   0.959\n",
       "Model:                            OLS   Adj. R-squared (uncentered):              0.959\n",
       "Method:                 Least Squares   F-statistic:                          1.177e+04\n",
       "Date:                Sun, 30 Jul 2023   Prob (F-statistic):                        0.00\n",
       "Time:                        11:07:16   Log-Likelihood:                         -1424.1\n",
       "No. Observations:                1000   AIC:                                      2852.\n",
       "Df Residuals:                     998   BIC:                                      2862.\n",
       "Df Model:                           2                                                  \n",
       "Covariance Type:            nonrobust                                                  \n",
       "==============================================================================\n",
       "                 coef    std err          t      P>|t|      [0.025      0.975]\n",
       "------------------------------------------------------------------------------\n",
       "x1             2.8509      0.029     97.034      0.000       2.793       2.909\n",
       "x2             5.0268      0.053     95.096      0.000       4.923       5.131\n",
       "==============================================================================\n",
       "Omnibus:                        3.889   Durbin-Watson:                   1.872\n",
       "Prob(Omnibus):                  0.143   Jarque-Bera (JB):                4.072\n",
       "Skew:                           0.085   Prob(JB):                        0.131\n",
       "Kurtosis:                       3.262   Cond. No.                         1.88\n",
       "==============================================================================\n",
       "\n",
       "Notes:\n",
       "[1] R² is computed without centering (uncentered) since the model does not contain a constant.\n",
       "[2] Standard Errors assume that the covariance matrix of the errors is correctly specified.\n",
       "\"\"\""
      ]
     },
     "execution_count": 10,
     "metadata": {},
     "output_type": "execute_result"
    }
   ],
   "source": [
    "model = OLS(np.asarray(df[outcome]), np.asarray(df[[common_cause, treatment]], dtype=np.float64))\n",
    "result = model.fit()\n",
    "result.summary()"
   ]
  }
 ],
 "metadata": {
  "kernelspec": {
   "display_name": "Python 3",
   "language": "python",
   "name": "python3"
  },
  "language_info": {
   "codemirror_mode": {
    "name": "ipython",
    "version": 3
   },
   "file_extension": ".py",
   "mimetype": "text/x-python",
   "name": "python",
   "nbconvert_exporter": "python",
   "pygments_lexer": "ipython3",
   "version": "3.8.10"
  },
  "toc": {
   "base_numbering": 1,
   "nav_menu": {},
   "number_sections": false,
   "sideBar": true,
   "skip_h1_title": true,
   "title_cell": "Table of Contents",
   "title_sidebar": "Contents",
   "toc_cell": false,
   "toc_position": {},
   "toc_section_display": true,
   "toc_window_display": false
  }
 },
 "nbformat": 4,
 "nbformat_minor": 4
}
