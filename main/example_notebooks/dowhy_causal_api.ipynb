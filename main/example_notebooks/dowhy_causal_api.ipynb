{
 "cells": [
  {
   "cell_type": "markdown",
   "metadata": {},
   "source": [
    "# Demo for the DoWhy causal API\n",
    "We show a simple example of adding a causal extension to any dataframe. "
   ]
  },
  {
   "cell_type": "code",
   "execution_count": 1,
   "metadata": {
    "execution": {
     "iopub.execute_input": "2023-06-05T15:12:31.237246Z",
     "iopub.status.busy": "2023-06-05T15:12:31.236774Z",
     "iopub.status.idle": "2023-06-05T15:12:33.004040Z",
     "shell.execute_reply": "2023-06-05T15:12:33.003231Z"
    }
   },
   "outputs": [],
   "source": [
    "import dowhy.datasets\n",
    "import dowhy.api\n",
    "\n",
    "import numpy as np\n",
    "import pandas as pd\n",
    "\n",
    "from statsmodels.api import OLS"
   ]
  },
  {
   "cell_type": "code",
   "execution_count": 2,
   "metadata": {
    "execution": {
     "iopub.execute_input": "2023-06-05T15:12:33.008511Z",
     "iopub.status.busy": "2023-06-05T15:12:33.008048Z",
     "iopub.status.idle": "2023-06-05T15:12:33.049903Z",
     "shell.execute_reply": "2023-06-05T15:12:33.049366Z"
    }
   },
   "outputs": [
    {
     "data": {
      "text/html": [
       "<div>\n",
       "<style scoped>\n",
       "    .dataframe tbody tr th:only-of-type {\n",
       "        vertical-align: middle;\n",
       "    }\n",
       "\n",
       "    .dataframe tbody tr th {\n",
       "        vertical-align: top;\n",
       "    }\n",
       "\n",
       "    .dataframe thead th {\n",
       "        text-align: right;\n",
       "    }\n",
       "</style>\n",
       "<table border=\"1\" class=\"dataframe\">\n",
       "  <thead>\n",
       "    <tr style=\"text-align: right;\">\n",
       "      <th></th>\n",
       "      <th>W0</th>\n",
       "      <th>v0</th>\n",
       "      <th>y</th>\n",
       "    </tr>\n",
       "  </thead>\n",
       "  <tbody>\n",
       "    <tr>\n",
       "      <th>0</th>\n",
       "      <td>0.899992</td>\n",
       "      <td>True</td>\n",
       "      <td>4.169054</td>\n",
       "    </tr>\n",
       "    <tr>\n",
       "      <th>1</th>\n",
       "      <td>1.833781</td>\n",
       "      <td>True</td>\n",
       "      <td>6.639914</td>\n",
       "    </tr>\n",
       "    <tr>\n",
       "      <th>2</th>\n",
       "      <td>0.466133</td>\n",
       "      <td>False</td>\n",
       "      <td>-0.939372</td>\n",
       "    </tr>\n",
       "    <tr>\n",
       "      <th>3</th>\n",
       "      <td>1.699762</td>\n",
       "      <td>True</td>\n",
       "      <td>5.284648</td>\n",
       "    </tr>\n",
       "    <tr>\n",
       "      <th>4</th>\n",
       "      <td>-0.052451</td>\n",
       "      <td>False</td>\n",
       "      <td>-0.767903</td>\n",
       "    </tr>\n",
       "    <tr>\n",
       "      <th>...</th>\n",
       "      <td>...</td>\n",
       "      <td>...</td>\n",
       "      <td>...</td>\n",
       "    </tr>\n",
       "    <tr>\n",
       "      <th>995</th>\n",
       "      <td>1.468126</td>\n",
       "      <td>True</td>\n",
       "      <td>6.540777</td>\n",
       "    </tr>\n",
       "    <tr>\n",
       "      <th>996</th>\n",
       "      <td>0.879400</td>\n",
       "      <td>True</td>\n",
       "      <td>5.470851</td>\n",
       "    </tr>\n",
       "    <tr>\n",
       "      <th>997</th>\n",
       "      <td>0.467582</td>\n",
       "      <td>False</td>\n",
       "      <td>1.008676</td>\n",
       "    </tr>\n",
       "    <tr>\n",
       "      <th>998</th>\n",
       "      <td>1.495810</td>\n",
       "      <td>True</td>\n",
       "      <td>8.113949</td>\n",
       "    </tr>\n",
       "    <tr>\n",
       "      <th>999</th>\n",
       "      <td>-0.005984</td>\n",
       "      <td>False</td>\n",
       "      <td>-0.736491</td>\n",
       "    </tr>\n",
       "  </tbody>\n",
       "</table>\n",
       "<p>1000 rows × 3 columns</p>\n",
       "</div>"
      ],
      "text/plain": [
       "           W0     v0         y\n",
       "0    0.899992   True  4.169054\n",
       "1    1.833781   True  6.639914\n",
       "2    0.466133  False -0.939372\n",
       "3    1.699762   True  5.284648\n",
       "4   -0.052451  False -0.767903\n",
       "..        ...    ...       ...\n",
       "995  1.468126   True  6.540777\n",
       "996  0.879400   True  5.470851\n",
       "997  0.467582  False  1.008676\n",
       "998  1.495810   True  8.113949\n",
       "999 -0.005984  False -0.736491\n",
       "\n",
       "[1000 rows x 3 columns]"
      ]
     },
     "execution_count": 2,
     "metadata": {},
     "output_type": "execute_result"
    }
   ],
   "source": [
    "data = dowhy.datasets.linear_dataset(beta=5,\n",
    "        num_common_causes=1,\n",
    "        num_instruments = 0,\n",
    "        num_samples=1000,\n",
    "        treatment_is_binary=True)\n",
    "df = data['df']\n",
    "df['y'] = df['y'] + np.random.normal(size=len(df)) # Adding noise to data. Without noise, the variance in Y|X, Z is zero, and mcmc fails.\n",
    "#data['dot_graph'] = 'digraph { v ->y;X0-> v;X0-> y;}'\n",
    "\n",
    "treatment= data[\"treatment_name\"][0]\n",
    "outcome = data[\"outcome_name\"][0]\n",
    "common_cause = data[\"common_causes_names\"][0]\n",
    "df"
   ]
  },
  {
   "cell_type": "code",
   "execution_count": 3,
   "metadata": {
    "execution": {
     "iopub.execute_input": "2023-06-05T15:12:33.053086Z",
     "iopub.status.busy": "2023-06-05T15:12:33.052712Z",
     "iopub.status.idle": "2023-06-05T15:12:33.209708Z",
     "shell.execute_reply": "2023-06-05T15:12:33.209108Z"
    }
   },
   "outputs": [
    {
     "data": {
      "text/plain": [
       "<AxesSubplot: xlabel='v0'>"
      ]
     },
     "execution_count": 3,
     "metadata": {},
     "output_type": "execute_result"
    },
    {
     "data": {
      "image/png": "[encoded data removed]",
      "text/plain": [
       "<Figure size 640x480 with 1 Axes>"
      ]
     },
     "metadata": {},
     "output_type": "display_data"
    }
   ],
   "source": [
    "# data['df'] is just a regular pandas.DataFrame\n",
    "df.causal.do(x=treatment,\n",
    "                     variable_types={treatment: 'b', outcome: 'c', common_cause: 'c'},\n",
    "                     outcome=outcome,\n",
    "                     common_causes=[common_cause],\n",
    "                     proceed_when_unidentifiable=True).groupby(treatment).mean().plot(y=outcome, kind='bar')"
   ]
  },
  {
   "cell_type": "code",
   "execution_count": 4,
   "metadata": {
    "execution": {
     "iopub.execute_input": "2023-06-05T15:12:33.212971Z",
     "iopub.status.busy": "2023-06-05T15:12:33.212579Z",
     "iopub.status.idle": "2023-06-05T15:12:33.336160Z",
     "shell.execute_reply": "2023-06-05T15:12:33.335530Z"
    }
   },
   "outputs": [
    {
     "data": {
      "text/plain": [
       "<AxesSubplot: xlabel='v0'>"
      ]
     },
     "execution_count": 4,
     "metadata": {},
     "output_type": "execute_result"
    },
    {
     "data": {
      "image/png": "[encoded data removed]",
      "text/plain": [
       "<Figure size 640x480 with 1 Axes>"
      ]
     },
     "metadata": {},
     "output_type": "display_data"
    }
   ],
   "source": [
    "df.causal.do(x={treatment: 1}, \n",
    "              variable_types={treatment:'b', outcome: 'c', common_cause: 'c'}, \n",
    "              outcome=outcome,\n",
    "              method='weighting', \n",
    "              common_causes=[common_cause],\n",
    "              proceed_when_unidentifiable=True).groupby(treatment).mean().plot(y=outcome, kind='bar')"
   ]
  },
  {
   "cell_type": "code",
   "execution_count": 5,
   "metadata": {
    "execution": {
     "iopub.execute_input": "2023-06-05T15:12:33.339352Z",
     "iopub.status.busy": "2023-06-05T15:12:33.338887Z",
     "iopub.status.idle": "2023-06-05T15:12:33.368525Z",
     "shell.execute_reply": "2023-06-05T15:12:33.367845Z"
    }
   },
   "outputs": [],
   "source": [
    "cdf_1 = df.causal.do(x={treatment: 1}, \n",
    "              variable_types={treatment: 'b', outcome: 'c', common_cause: 'c'}, \n",
    "              outcome=outcome, \n",
    "              dot_graph=data['dot_graph'],\n",
    "              proceed_when_unidentifiable=True)\n",
    "\n",
    "cdf_0 = df.causal.do(x={treatment: 0}, \n",
    "              variable_types={treatment: 'b', outcome: 'c', common_cause: 'c'}, \n",
    "              outcome=outcome, \n",
    "              dot_graph=data['dot_graph'],\n",
    "              proceed_when_unidentifiable=True)\n"
   ]
  },
  {
   "cell_type": "code",
   "execution_count": 6,
   "metadata": {
    "execution": {
     "iopub.execute_input": "2023-06-05T15:12:33.372248Z",
     "iopub.status.busy": "2023-06-05T15:12:33.371790Z",
     "iopub.status.idle": "2023-06-05T15:12:33.382324Z",
     "shell.execute_reply": "2023-06-05T15:12:33.381804Z"
    },
    "scrolled": true
   },
   "outputs": [
    {
     "data": {
      "text/html": [
       "<div>\n",
       "<style scoped>\n",
       "    .dataframe tbody tr th:only-of-type {\n",
       "        vertical-align: middle;\n",
       "    }\n",
       "\n",
       "    .dataframe tbody tr th {\n",
       "        vertical-align: top;\n",
       "    }\n",
       "\n",
       "    .dataframe thead th {\n",
       "        text-align: right;\n",
       "    }\n",
       "</style>\n",
       "<table border=\"1\" class=\"dataframe\">\n",
       "  <thead>\n",
       "    <tr style=\"text-align: right;\">\n",
       "      <th></th>\n",
       "      <th>W0</th>\n",
       "      <th>v0</th>\n",
       "      <th>y</th>\n",
       "      <th>propensity_score</th>\n",
       "      <th>weight</th>\n",
       "    </tr>\n",
       "  </thead>\n",
       "  <tbody>\n",
       "    <tr>\n",
       "      <th>0</th>\n",
       "      <td>1.732081</td>\n",
       "      <td>False</td>\n",
       "      <td>2.544611</td>\n",
       "      <td>0.103271</td>\n",
       "      <td>9.683283</td>\n",
       "    </tr>\n",
       "    <tr>\n",
       "      <th>1</th>\n",
       "      <td>0.697862</td>\n",
       "      <td>False</td>\n",
       "      <td>1.519453</td>\n",
       "      <td>0.310665</td>\n",
       "      <td>3.218906</td>\n",
       "    </tr>\n",
       "    <tr>\n",
       "      <th>2</th>\n",
       "      <td>-0.326625</td>\n",
       "      <td>False</td>\n",
       "      <td>-0.709300</td>\n",
       "      <td>0.635187</td>\n",
       "      <td>1.574340</td>\n",
       "    </tr>\n",
       "    <tr>\n",
       "      <th>3</th>\n",
       "      <td>0.513354</td>\n",
       "      <td>False</td>\n",
       "      <td>1.447516</td>\n",
       "      <td>0.365029</td>\n",
       "      <td>2.739509</td>\n",
       "    </tr>\n",
       "    <tr>\n",
       "      <th>4</th>\n",
       "      <td>2.530053</td>\n",
       "      <td>False</td>\n",
       "      <td>2.854694</td>\n",
       "      <td>0.038638</td>\n",
       "      <td>25.881357</td>\n",
       "    </tr>\n",
       "    <tr>\n",
       "      <th>...</th>\n",
       "      <td>...</td>\n",
       "      <td>...</td>\n",
       "      <td>...</td>\n",
       "      <td>...</td>\n",
       "      <td>...</td>\n",
       "    </tr>\n",
       "    <tr>\n",
       "      <th>995</th>\n",
       "      <td>0.966491</td>\n",
       "      <td>False</td>\n",
       "      <td>1.587474</td>\n",
       "      <td>0.240233</td>\n",
       "      <td>4.162620</td>\n",
       "    </tr>\n",
       "    <tr>\n",
       "      <th>996</th>\n",
       "      <td>1.568442</td>\n",
       "      <td>False</td>\n",
       "      <td>3.974575</td>\n",
       "      <td>0.125043</td>\n",
       "      <td>7.997270</td>\n",
       "    </tr>\n",
       "    <tr>\n",
       "      <th>997</th>\n",
       "      <td>1.075526</td>\n",
       "      <td>False</td>\n",
       "      <td>1.056835</td>\n",
       "      <td>0.214966</td>\n",
       "      <td>4.651888</td>\n",
       "    </tr>\n",
       "    <tr>\n",
       "      <th>998</th>\n",
       "      <td>-0.744765</td>\n",
       "      <td>False</td>\n",
       "      <td>-1.478571</td>\n",
       "      <td>0.751413</td>\n",
       "      <td>1.330826</td>\n",
       "    </tr>\n",
       "    <tr>\n",
       "      <th>999</th>\n",
       "      <td>1.538236</td>\n",
       "      <td>False</td>\n",
       "      <td>0.927785</td>\n",
       "      <td>0.129468</td>\n",
       "      <td>7.723921</td>\n",
       "    </tr>\n",
       "  </tbody>\n",
       "</table>\n",
       "<p>1000 rows × 5 columns</p>\n",
       "</div>"
      ],
      "text/plain": [
       "           W0     v0         y  propensity_score     weight\n",
       "0    1.732081  False  2.544611          0.103271   9.683283\n",
       "1    0.697862  False  1.519453          0.310665   3.218906\n",
       "2   -0.326625  False -0.709300          0.635187   1.574340\n",
       "3    0.513354  False  1.447516          0.365029   2.739509\n",
       "4    2.530053  False  2.854694          0.038638  25.881357\n",
       "..        ...    ...       ...               ...        ...\n",
       "995  0.966491  False  1.587474          0.240233   4.162620\n",
       "996  1.568442  False  3.974575          0.125043   7.997270\n",
       "997  1.075526  False  1.056835          0.214966   4.651888\n",
       "998 -0.744765  False -1.478571          0.751413   1.330826\n",
       "999  1.538236  False  0.927785          0.129468   7.723921\n",
       "\n",
       "[1000 rows x 5 columns]"
      ]
     },
     "execution_count": 6,
     "metadata": {},
     "output_type": "execute_result"
    }
   ],
   "source": [
    "cdf_0"
   ]
  },
  {
   "cell_type": "code",
   "execution_count": 7,
   "metadata": {
    "execution": {
     "iopub.execute_input": "2023-06-05T15:12:33.385119Z",
     "iopub.status.busy": "2023-06-05T15:12:33.384714Z",
     "iopub.status.idle": "2023-06-05T15:12:33.394470Z",
     "shell.execute_reply": "2023-06-05T15:12:33.393967Z"
    }
   },
   "outputs": [
    {
     "data": {
      "text/html": [
       "<div>\n",
       "<style scoped>\n",
       "    .dataframe tbody tr th:only-of-type {\n",
       "        vertical-align: middle;\n",
       "    }\n",
       "\n",
       "    .dataframe tbody tr th {\n",
       "        vertical-align: top;\n",
       "    }\n",
       "\n",
       "    .dataframe thead th {\n",
       "        text-align: right;\n",
       "    }\n",
       "</style>\n",
       "<table border=\"1\" class=\"dataframe\">\n",
       "  <thead>\n",
       "    <tr style=\"text-align: right;\">\n",
       "      <th></th>\n",
       "      <th>W0</th>\n",
       "      <th>v0</th>\n",
       "      <th>y</th>\n",
       "      <th>propensity_score</th>\n",
       "      <th>weight</th>\n",
       "    </tr>\n",
       "  </thead>\n",
       "  <tbody>\n",
       "    <tr>\n",
       "      <th>0</th>\n",
       "      <td>1.458283</td>\n",
       "      <td>True</td>\n",
       "      <td>8.219874</td>\n",
       "      <td>0.858172</td>\n",
       "      <td>1.165267</td>\n",
       "    </tr>\n",
       "    <tr>\n",
       "      <th>1</th>\n",
       "      <td>-0.656625</td>\n",
       "      <td>True</td>\n",
       "      <td>4.742576</td>\n",
       "      <td>0.270935</td>\n",
       "      <td>3.690925</td>\n",
       "    </tr>\n",
       "    <tr>\n",
       "      <th>2</th>\n",
       "      <td>0.325519</td>\n",
       "      <td>True</td>\n",
       "      <td>5.394875</td>\n",
       "      <td>0.575860</td>\n",
       "      <td>1.736532</td>\n",
       "    </tr>\n",
       "    <tr>\n",
       "      <th>3</th>\n",
       "      <td>-0.802024</td>\n",
       "      <td>True</td>\n",
       "      <td>5.624898</td>\n",
       "      <td>0.234747</td>\n",
       "      <td>4.259913</td>\n",
       "    </tr>\n",
       "    <tr>\n",
       "      <th>4</th>\n",
       "      <td>-0.464880</td>\n",
       "      <td>True</td>\n",
       "      <td>4.897026</td>\n",
       "      <td>0.323677</td>\n",
       "      <td>3.089503</td>\n",
       "    </tr>\n",
       "    <tr>\n",
       "      <th>...</th>\n",
       "      <td>...</td>\n",
       "      <td>...</td>\n",
       "      <td>...</td>\n",
       "      <td>...</td>\n",
       "      <td>...</td>\n",
       "    </tr>\n",
       "    <tr>\n",
       "      <th>995</th>\n",
       "      <td>1.929153</td>\n",
       "      <td>True</td>\n",
       "      <td>7.142161</td>\n",
       "      <td>0.918444</td>\n",
       "      <td>1.088798</td>\n",
       "    </tr>\n",
       "    <tr>\n",
       "      <th>996</th>\n",
       "      <td>2.512914</td>\n",
       "      <td>True</td>\n",
       "      <td>7.988423</td>\n",
       "      <td>0.960514</td>\n",
       "      <td>1.041110</td>\n",
       "    </tr>\n",
       "    <tr>\n",
       "      <th>997</th>\n",
       "      <td>1.249617</td>\n",
       "      <td>True</td>\n",
       "      <td>6.242082</td>\n",
       "      <td>0.821261</td>\n",
       "      <td>1.217640</td>\n",
       "    </tr>\n",
       "    <tr>\n",
       "      <th>998</th>\n",
       "      <td>1.725489</td>\n",
       "      <td>True</td>\n",
       "      <td>7.484072</td>\n",
       "      <td>0.895921</td>\n",
       "      <td>1.116170</td>\n",
       "    </tr>\n",
       "    <tr>\n",
       "      <th>999</th>\n",
       "      <td>0.885827</td>\n",
       "      <td>True</td>\n",
       "      <td>5.365478</td>\n",
       "      <td>0.739811</td>\n",
       "      <td>1.351697</td>\n",
       "    </tr>\n",
       "  </tbody>\n",
       "</table>\n",
       "<p>1000 rows × 5 columns</p>\n",
       "</div>"
      ],
      "text/plain": [
       "           W0    v0         y  propensity_score    weight\n",
       "0    1.458283  True  8.219874          0.858172  1.165267\n",
       "1   -0.656625  True  4.742576          0.270935  3.690925\n",
       "2    0.325519  True  5.394875          0.575860  1.736532\n",
       "3   -0.802024  True  5.624898          0.234747  4.259913\n",
       "4   -0.464880  True  4.897026          0.323677  3.089503\n",
       "..        ...   ...       ...               ...       ...\n",
       "995  1.929153  True  7.142161          0.918444  1.088798\n",
       "996  2.512914  True  7.988423          0.960514  1.041110\n",
       "997  1.249617  True  6.242082          0.821261  1.217640\n",
       "998  1.725489  True  7.484072          0.895921  1.116170\n",
       "999  0.885827  True  5.365478          0.739811  1.351697\n",
       "\n",
       "[1000 rows x 5 columns]"
      ]
     },
     "execution_count": 7,
     "metadata": {},
     "output_type": "execute_result"
    }
   ],
   "source": [
    "cdf_1"
   ]
  },
  {
   "cell_type": "markdown",
   "metadata": {},
   "source": [
    "## Comparing the estimate to Linear Regression\n",
    "First, estimating the effect using the causal data frame, and the 95% confidence interval."
   ]
  },
  {
   "cell_type": "code",
   "execution_count": 8,
   "metadata": {
    "execution": {
     "iopub.execute_input": "2023-06-05T15:12:33.397194Z",
     "iopub.status.busy": "2023-06-05T15:12:33.396796Z",
     "iopub.status.idle": "2023-06-05T15:12:33.587166Z",
     "shell.execute_reply": "2023-06-05T15:12:33.586303Z"
    }
   },
   "outputs": [
    {
     "data": {
      "image/png": "[encoded data removed]",
      "text/latex": [
       "$\\displaystyle 5.02784782376141$"
      ],
      "text/plain": [
       "5.027847823761409"
      ]
     },
     "execution_count": 8,
     "metadata": {},
     "output_type": "execute_result"
    }
   ],
   "source": [
    "(cdf_1['y'] - cdf_0['y']).mean()"
   ]
  },
  {
   "cell_type": "code",
   "execution_count": 9,
   "metadata": {
    "execution": {
     "iopub.execute_input": "2023-06-05T15:12:33.590410Z",
     "iopub.status.busy": "2023-06-05T15:12:33.590022Z",
     "iopub.status.idle": "2023-06-05T15:12:33.613562Z",
     "shell.execute_reply": "2023-06-05T15:12:33.612734Z"
    }
   },
   "outputs": [
    {
     "data": {
      "image/png": "[encoded data removed]",
      "text/latex": [
       "$\\displaystyle 0.124724790041035$"
      ],
      "text/plain": [
       "0.1247247900410354"
      ]
     },
     "execution_count": 9,
     "metadata": {},
     "output_type": "execute_result"
    }
   ],
   "source": [
    "1.96*(cdf_1['y'] - cdf_0['y']).std() / np.sqrt(len(df))"
   ]
  },
  {
   "cell_type": "markdown",
   "metadata": {},
   "source": [
    "Comparing to the estimate from OLS."
   ]
  },
  {
   "cell_type": "code",
   "execution_count": 10,
   "metadata": {
    "execution": {
     "iopub.execute_input": "2023-06-05T15:12:33.616915Z",
     "iopub.status.busy": "2023-06-05T15:12:33.616675Z",
     "iopub.status.idle": "2023-06-05T15:12:33.631205Z",
     "shell.execute_reply": "2023-06-05T15:12:33.630506Z"
    }
   },
   "outputs": [
    {
     "data": {
      "text/html": [
       "<table class=\"simpletable\">\n",
       "<caption>OLS Regression Results</caption>\n",
       "<tr>\n",
       "  <th>Dep. Variable:</th>            <td>y</td>        <th>  R-squared (uncentered):</th>      <td>   0.960</td> \n",
       "</tr>\n",
       "<tr>\n",
       "  <th>Model:</th>                   <td>OLS</td>       <th>  Adj. R-squared (uncentered):</th> <td>   0.960</td> \n",
       "</tr>\n",
       "<tr>\n",
       "  <th>Method:</th>             <td>Least Squares</td>  <th>  F-statistic:       </th>          <td>1.208e+04</td>\n",
       "</tr>\n",
       "<tr>\n",
       "  <th>Date:</th>             <td>Mon, 05 Jun 2023</td> <th>  Prob (F-statistic):</th>           <td>  0.00</td>  \n",
       "</tr>\n",
       "<tr>\n",
       "  <th>Time:</th>                 <td>15:12:33</td>     <th>  Log-Likelihood:    </th>          <td> -1453.9</td> \n",
       "</tr>\n",
       "<tr>\n",
       "  <th>No. Observations:</th>      <td>  1000</td>      <th>  AIC:               </th>          <td>   2912.</td> \n",
       "</tr>\n",
       "<tr>\n",
       "  <th>Df Residuals:</th>          <td>   998</td>      <th>  BIC:               </th>          <td>   2922.</td> \n",
       "</tr>\n",
       "<tr>\n",
       "  <th>Df Model:</th>              <td>     2</td>      <th>                     </th>              <td> </td>    \n",
       "</tr>\n",
       "<tr>\n",
       "  <th>Covariance Type:</th>      <td>nonrobust</td>    <th>                     </th>              <td> </td>    \n",
       "</tr>\n",
       "</table>\n",
       "<table class=\"simpletable\">\n",
       "<tr>\n",
       "   <td></td>     <th>coef</th>     <th>std err</th>      <th>t</th>      <th>P>|t|</th>  <th>[0.025</th>    <th>0.975]</th>  \n",
       "</tr>\n",
       "<tr>\n",
       "  <th>x1</th> <td>    1.0239</td> <td>    0.037</td> <td>   27.690</td> <td> 0.000</td> <td>    0.951</td> <td>    1.096</td>\n",
       "</tr>\n",
       "<tr>\n",
       "  <th>x2</th> <td>    4.9710</td> <td>    0.058</td> <td>   85.406</td> <td> 0.000</td> <td>    4.857</td> <td>    5.085</td>\n",
       "</tr>\n",
       "</table>\n",
       "<table class=\"simpletable\">\n",
       "<tr>\n",
       "  <th>Omnibus:</th>       <td> 3.888</td> <th>  Durbin-Watson:     </th> <td>   2.070</td>\n",
       "</tr>\n",
       "<tr>\n",
       "  <th>Prob(Omnibus):</th> <td> 0.143</td> <th>  Jarque-Bera (JB):  </th> <td>   3.942</td>\n",
       "</tr>\n",
       "<tr>\n",
       "  <th>Skew:</th>          <td> 0.151</td> <th>  Prob(JB):          </th> <td>   0.139</td>\n",
       "</tr>\n",
       "<tr>\n",
       "  <th>Kurtosis:</th>      <td> 2.938</td> <th>  Cond. No.          </th> <td>    2.85</td>\n",
       "</tr>\n",
       "</table><br/><br/>Notes:<br/>[1] R² is computed without centering (uncentered) since the model does not contain a constant.<br/>[2] Standard Errors assume that the covariance matrix of the errors is correctly specified."
      ],
      "text/plain": [
       "<class 'statsmodels.iolib.summary.Summary'>\n",
       "\"\"\"\n",
       "                                 OLS Regression Results                                \n",
       "=======================================================================================\n",
       "Dep. Variable:                      y   R-squared (uncentered):                   0.960\n",
       "Model:                            OLS   Adj. R-squared (uncentered):              0.960\n",
       "Method:                 Least Squares   F-statistic:                          1.208e+04\n",
       "Date:                Mon, 05 Jun 2023   Prob (F-statistic):                        0.00\n",
       "Time:                        15:12:33   Log-Likelihood:                         -1453.9\n",
       "No. Observations:                1000   AIC:                                      2912.\n",
       "Df Residuals:                     998   BIC:                                      2922.\n",
       "Df Model:                           2                                                  \n",
       "Covariance Type:            nonrobust                                                  \n",
       "==============================================================================\n",
       "                 coef    std err          t      P>|t|      [0.025      0.975]\n",
       "------------------------------------------------------------------------------\n",
       "x1             1.0239      0.037     27.690      0.000       0.951       1.096\n",
       "x2             4.9710      0.058     85.406      0.000       4.857       5.085\n",
       "==============================================================================\n",
       "Omnibus:                        3.888   Durbin-Watson:                   2.070\n",
       "Prob(Omnibus):                  0.143   Jarque-Bera (JB):                3.942\n",
       "Skew:                           0.151   Prob(JB):                        0.139\n",
       "Kurtosis:                       2.938   Cond. No.                         2.85\n",
       "==============================================================================\n",
       "\n",
       "Notes:\n",
       "[1] R² is computed without centering (uncentered) since the model does not contain a constant.\n",
       "[2] Standard Errors assume that the covariance matrix of the errors is correctly specified.\n",
       "\"\"\""
      ]
     },
     "execution_count": 10,
     "metadata": {},
     "output_type": "execute_result"
    }
   ],
   "source": [
    "model = OLS(np.asarray(df[outcome]), np.asarray(df[[common_cause, treatment]], dtype=np.float64))\n",
    "result = model.fit()\n",
    "result.summary()"
   ]
  }
 ],
 "metadata": {
  "kernelspec": {
   "display_name": "Python 3",
   "language": "python",
   "name": "python3"
  },
  "language_info": {
   "codemirror_mode": {
    "name": "ipython",
    "version": 3
   },
   "file_extension": ".py",
   "mimetype": "text/x-python",
   "name": "python",
   "nbconvert_exporter": "python",
   "pygments_lexer": "ipython3",
   "version": "3.8.10"
  },
  "toc": {
   "base_numbering": 1,
   "nav_menu": {},
   "number_sections": false,
   "sideBar": true,
   "skip_h1_title": true,
   "title_cell": "Table of Contents",
   "title_sidebar": "Contents",
   "toc_cell": false,
   "toc_position": {},
   "toc_section_display": true,
   "toc_window_display": false
  }
 },
 "nbformat": 4,
 "nbformat_minor": 4
}
