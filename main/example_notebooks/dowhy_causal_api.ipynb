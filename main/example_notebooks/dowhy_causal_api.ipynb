{
 "cells": [
  {
   "cell_type": "markdown",
   "metadata": {},
   "source": [
    "# Demo for the DoWhy causal API\n",
    "We show a simple example of adding a causal extension to any dataframe. "
   ]
  },
  {
   "cell_type": "code",
   "execution_count": 1,
   "metadata": {
    "execution": {
     "iopub.execute_input": "2023-08-15T15:50:49.195113Z",
     "iopub.status.busy": "2023-08-15T15:50:49.194842Z",
     "iopub.status.idle": "2023-08-15T15:50:51.130674Z",
     "shell.execute_reply": "2023-08-15T15:50:51.129767Z"
    }
   },
   "outputs": [],
   "source": [
    "import dowhy.datasets\n",
    "import dowhy.api\n",
    "\n",
    "import numpy as np\n",
    "import pandas as pd\n",
    "\n",
    "from statsmodels.api import OLS"
   ]
  },
  {
   "cell_type": "code",
   "execution_count": 2,
   "metadata": {
    "execution": {
     "iopub.execute_input": "2023-08-15T15:50:51.135746Z",
     "iopub.status.busy": "2023-08-15T15:50:51.134899Z",
     "iopub.status.idle": "2023-08-15T15:50:51.193380Z",
     "shell.execute_reply": "2023-08-15T15:50:51.192695Z"
    }
   },
   "outputs": [
    {
     "data": {
      "text/html": [
       "<div>\n",
       "<style scoped>\n",
       "    .dataframe tbody tr th:only-of-type {\n",
       "        vertical-align: middle;\n",
       "    }\n",
       "\n",
       "    .dataframe tbody tr th {\n",
       "        vertical-align: top;\n",
       "    }\n",
       "\n",
       "    .dataframe thead th {\n",
       "        text-align: right;\n",
       "    }\n",
       "</style>\n",
       "<table border=\"1\" class=\"dataframe\">\n",
       "  <thead>\n",
       "    <tr style=\"text-align: right;\">\n",
       "      <th></th>\n",
       "      <th>W0</th>\n",
       "      <th>v0</th>\n",
       "      <th>y</th>\n",
       "    </tr>\n",
       "  </thead>\n",
       "  <tbody>\n",
       "    <tr>\n",
       "      <th>0</th>\n",
       "      <td>1.290464</td>\n",
       "      <td>False</td>\n",
       "      <td>1.450096</td>\n",
       "    </tr>\n",
       "    <tr>\n",
       "      <th>1</th>\n",
       "      <td>0.168962</td>\n",
       "      <td>True</td>\n",
       "      <td>5.720268</td>\n",
       "    </tr>\n",
       "    <tr>\n",
       "      <th>2</th>\n",
       "      <td>0.172375</td>\n",
       "      <td>True</td>\n",
       "      <td>5.832677</td>\n",
       "    </tr>\n",
       "    <tr>\n",
       "      <th>3</th>\n",
       "      <td>-0.923785</td>\n",
       "      <td>True</td>\n",
       "      <td>2.636808</td>\n",
       "    </tr>\n",
       "    <tr>\n",
       "      <th>4</th>\n",
       "      <td>0.067448</td>\n",
       "      <td>False</td>\n",
       "      <td>0.005195</td>\n",
       "    </tr>\n",
       "    <tr>\n",
       "      <th>...</th>\n",
       "      <td>...</td>\n",
       "      <td>...</td>\n",
       "      <td>...</td>\n",
       "    </tr>\n",
       "    <tr>\n",
       "      <th>995</th>\n",
       "      <td>-0.656897</td>\n",
       "      <td>True</td>\n",
       "      <td>5.879921</td>\n",
       "    </tr>\n",
       "    <tr>\n",
       "      <th>996</th>\n",
       "      <td>-0.727386</td>\n",
       "      <td>False</td>\n",
       "      <td>0.026675</td>\n",
       "    </tr>\n",
       "    <tr>\n",
       "      <th>997</th>\n",
       "      <td>0.276879</td>\n",
       "      <td>False</td>\n",
       "      <td>0.168830</td>\n",
       "    </tr>\n",
       "    <tr>\n",
       "      <th>998</th>\n",
       "      <td>-1.801114</td>\n",
       "      <td>False</td>\n",
       "      <td>-2.052688</td>\n",
       "    </tr>\n",
       "    <tr>\n",
       "      <th>999</th>\n",
       "      <td>-1.226065</td>\n",
       "      <td>False</td>\n",
       "      <td>-2.370200</td>\n",
       "    </tr>\n",
       "  </tbody>\n",
       "</table>\n",
       "<p>1000 rows × 3 columns</p>\n",
       "</div>"
      ],
      "text/plain": [
       "           W0     v0         y\n",
       "0    1.290464  False  1.450096\n",
       "1    0.168962   True  5.720268\n",
       "2    0.172375   True  5.832677\n",
       "3   -0.923785   True  2.636808\n",
       "4    0.067448  False  0.005195\n",
       "..        ...    ...       ...\n",
       "995 -0.656897   True  5.879921\n",
       "996 -0.727386  False  0.026675\n",
       "997  0.276879  False  0.168830\n",
       "998 -1.801114  False -2.052688\n",
       "999 -1.226065  False -2.370200\n",
       "\n",
       "[1000 rows x 3 columns]"
      ]
     },
     "execution_count": 2,
     "metadata": {},
     "output_type": "execute_result"
    }
   ],
   "source": [
    "data = dowhy.datasets.linear_dataset(beta=5,\n",
    "        num_common_causes=1,\n",
    "        num_instruments = 0,\n",
    "        num_samples=1000,\n",
    "        treatment_is_binary=True)\n",
    "df = data['df']\n",
    "df['y'] = df['y'] + np.random.normal(size=len(df)) # Adding noise to data. Without noise, the variance in Y|X, Z is zero, and mcmc fails.\n",
    "#data['dot_graph'] = 'digraph { v ->y;X0-> v;X0-> y;}'\n",
    "\n",
    "treatment= data[\"treatment_name\"][0]\n",
    "outcome = data[\"outcome_name\"][0]\n",
    "common_cause = data[\"common_causes_names\"][0]\n",
    "df"
   ]
  },
  {
   "cell_type": "code",
   "execution_count": 3,
   "metadata": {
    "execution": {
     "iopub.execute_input": "2023-08-15T15:50:51.197229Z",
     "iopub.status.busy": "2023-08-15T15:50:51.196714Z",
     "iopub.status.idle": "2023-08-15T15:50:51.428173Z",
     "shell.execute_reply": "2023-08-15T15:50:51.427444Z"
    }
   },
   "outputs": [
    {
     "data": {
      "text/plain": [
       "<Axes: xlabel='v0'>"
      ]
     },
     "execution_count": 3,
     "metadata": {},
     "output_type": "execute_result"
    },
    {
     "data": {
      "image/png": "[encoded data removed]",
      "text/plain": [
       "<Figure size 640x480 with 1 Axes>"
      ]
     },
     "metadata": {},
     "output_type": "display_data"
    }
   ],
   "source": [
    "# data['df'] is just a regular pandas.DataFrame\n",
    "df.causal.do(x=treatment,\n",
    "                     variable_types={treatment: 'b', outcome: 'c', common_cause: 'c'},\n",
    "                     outcome=outcome,\n",
    "                     common_causes=[common_cause],\n",
    "                     proceed_when_unidentifiable=True).groupby(treatment).mean().plot(y=outcome, kind='bar')"
   ]
  },
  {
   "cell_type": "code",
   "execution_count": 4,
   "metadata": {
    "execution": {
     "iopub.execute_input": "2023-08-15T15:50:51.431480Z",
     "iopub.status.busy": "2023-08-15T15:50:51.431203Z",
     "iopub.status.idle": "2023-08-15T15:50:51.583642Z",
     "shell.execute_reply": "2023-08-15T15:50:51.582944Z"
    }
   },
   "outputs": [
    {
     "data": {
      "text/plain": [
       "<Axes: xlabel='v0'>"
      ]
     },
     "execution_count": 4,
     "metadata": {},
     "output_type": "execute_result"
    },
    {
     "data": {
      "image/png": "[encoded data removed]",
      "text/plain": [
       "<Figure size 640x480 with 1 Axes>"
      ]
     },
     "metadata": {},
     "output_type": "display_data"
    }
   ],
   "source": [
    "df.causal.do(x={treatment: 1}, \n",
    "              variable_types={treatment:'b', outcome: 'c', common_cause: 'c'}, \n",
    "              outcome=outcome,\n",
    "              method='weighting', \n",
    "              common_causes=[common_cause],\n",
    "              proceed_when_unidentifiable=True).groupby(treatment).mean().plot(y=outcome, kind='bar')"
   ]
  },
  {
   "cell_type": "code",
   "execution_count": 5,
   "metadata": {
    "execution": {
     "iopub.execute_input": "2023-08-15T15:50:51.586986Z",
     "iopub.status.busy": "2023-08-15T15:50:51.586703Z",
     "iopub.status.idle": "2023-08-15T15:50:51.623202Z",
     "shell.execute_reply": "2023-08-15T15:50:51.622326Z"
    }
   },
   "outputs": [],
   "source": [
    "cdf_1 = df.causal.do(x={treatment: 1}, \n",
    "              variable_types={treatment: 'b', outcome: 'c', common_cause: 'c'}, \n",
    "              outcome=outcome, \n",
    "              dot_graph=data['dot_graph'],\n",
    "              proceed_when_unidentifiable=True)\n",
    "\n",
    "cdf_0 = df.causal.do(x={treatment: 0}, \n",
    "              variable_types={treatment: 'b', outcome: 'c', common_cause: 'c'}, \n",
    "              outcome=outcome, \n",
    "              dot_graph=data['dot_graph'],\n",
    "              proceed_when_unidentifiable=True)\n"
   ]
  },
  {
   "cell_type": "code",
   "execution_count": 6,
   "metadata": {
    "execution": {
     "iopub.execute_input": "2023-08-15T15:50:51.628142Z",
     "iopub.status.busy": "2023-08-15T15:50:51.627651Z",
     "iopub.status.idle": "2023-08-15T15:50:51.641462Z",
     "shell.execute_reply": "2023-08-15T15:50:51.640684Z"
    },
    "scrolled": true
   },
   "outputs": [
    {
     "data": {
      "text/html": [
       "<div>\n",
       "<style scoped>\n",
       "    .dataframe tbody tr th:only-of-type {\n",
       "        vertical-align: middle;\n",
       "    }\n",
       "\n",
       "    .dataframe tbody tr th {\n",
       "        vertical-align: top;\n",
       "    }\n",
       "\n",
       "    .dataframe thead th {\n",
       "        text-align: right;\n",
       "    }\n",
       "</style>\n",
       "<table border=\"1\" class=\"dataframe\">\n",
       "  <thead>\n",
       "    <tr style=\"text-align: right;\">\n",
       "      <th></th>\n",
       "      <th>W0</th>\n",
       "      <th>v0</th>\n",
       "      <th>y</th>\n",
       "      <th>propensity_score</th>\n",
       "      <th>weight</th>\n",
       "    </tr>\n",
       "  </thead>\n",
       "  <tbody>\n",
       "    <tr>\n",
       "      <th>0</th>\n",
       "      <td>0.320613</td>\n",
       "      <td>False</td>\n",
       "      <td>-1.429671</td>\n",
       "      <td>0.314238</td>\n",
       "      <td>3.182305</td>\n",
       "    </tr>\n",
       "    <tr>\n",
       "      <th>1</th>\n",
       "      <td>-0.826246</td>\n",
       "      <td>False</td>\n",
       "      <td>-2.462202</td>\n",
       "      <td>0.832548</td>\n",
       "      <td>1.201132</td>\n",
       "    </tr>\n",
       "    <tr>\n",
       "      <th>2</th>\n",
       "      <td>-0.211077</td>\n",
       "      <td>False</td>\n",
       "      <td>-1.056034</td>\n",
       "      <td>0.580526</td>\n",
       "      <td>1.722575</td>\n",
       "    </tr>\n",
       "    <tr>\n",
       "      <th>3</th>\n",
       "      <td>0.146751</td>\n",
       "      <td>False</td>\n",
       "      <td>-0.129539</td>\n",
       "      <td>0.396770</td>\n",
       "      <td>2.520354</td>\n",
       "    </tr>\n",
       "    <tr>\n",
       "      <th>4</th>\n",
       "      <td>-0.072105</td>\n",
       "      <td>False</td>\n",
       "      <td>0.332967</td>\n",
       "      <td>0.509006</td>\n",
       "      <td>1.964612</td>\n",
       "    </tr>\n",
       "    <tr>\n",
       "      <th>...</th>\n",
       "      <td>...</td>\n",
       "      <td>...</td>\n",
       "      <td>...</td>\n",
       "      <td>...</td>\n",
       "      <td>...</td>\n",
       "    </tr>\n",
       "    <tr>\n",
       "      <th>995</th>\n",
       "      <td>0.056410</td>\n",
       "      <td>False</td>\n",
       "      <td>-0.905746</td>\n",
       "      <td>0.442472</td>\n",
       "      <td>2.260031</td>\n",
       "    </tr>\n",
       "    <tr>\n",
       "      <th>996</th>\n",
       "      <td>-1.280401</td>\n",
       "      <td>False</td>\n",
       "      <td>-1.291770</td>\n",
       "      <td>0.927434</td>\n",
       "      <td>1.078244</td>\n",
       "    </tr>\n",
       "    <tr>\n",
       "      <th>997</th>\n",
       "      <td>-1.269006</td>\n",
       "      <td>False</td>\n",
       "      <td>-0.736411</td>\n",
       "      <td>0.925823</td>\n",
       "      <td>1.080120</td>\n",
       "    </tr>\n",
       "    <tr>\n",
       "      <th>998</th>\n",
       "      <td>-1.865777</td>\n",
       "      <td>False</td>\n",
       "      <td>-2.409847</td>\n",
       "      <td>0.977354</td>\n",
       "      <td>1.023171</td>\n",
       "    </tr>\n",
       "    <tr>\n",
       "      <th>999</th>\n",
       "      <td>1.328716</td>\n",
       "      <td>False</td>\n",
       "      <td>1.846864</td>\n",
       "      <td>0.053348</td>\n",
       "      <td>18.744925</td>\n",
       "    </tr>\n",
       "  </tbody>\n",
       "</table>\n",
       "<p>1000 rows × 5 columns</p>\n",
       "</div>"
      ],
      "text/plain": [
       "           W0     v0         y  propensity_score     weight\n",
       "0    0.320613  False -1.429671          0.314238   3.182305\n",
       "1   -0.826246  False -2.462202          0.832548   1.201132\n",
       "2   -0.211077  False -1.056034          0.580526   1.722575\n",
       "3    0.146751  False -0.129539          0.396770   2.520354\n",
       "4   -0.072105  False  0.332967          0.509006   1.964612\n",
       "..        ...    ...       ...               ...        ...\n",
       "995  0.056410  False -0.905746          0.442472   2.260031\n",
       "996 -1.280401  False -1.291770          0.927434   1.078244\n",
       "997 -1.269006  False -0.736411          0.925823   1.080120\n",
       "998 -1.865777  False -2.409847          0.977354   1.023171\n",
       "999  1.328716  False  1.846864          0.053348  18.744925\n",
       "\n",
       "[1000 rows x 5 columns]"
      ]
     },
     "execution_count": 6,
     "metadata": {},
     "output_type": "execute_result"
    }
   ],
   "source": [
    "cdf_0"
   ]
  },
  {
   "cell_type": "code",
   "execution_count": 7,
   "metadata": {
    "execution": {
     "iopub.execute_input": "2023-08-15T15:50:51.645948Z",
     "iopub.status.busy": "2023-08-15T15:50:51.645538Z",
     "iopub.status.idle": "2023-08-15T15:50:51.663562Z",
     "shell.execute_reply": "2023-08-15T15:50:51.662905Z"
    }
   },
   "outputs": [
    {
     "data": {
      "text/html": [
       "<div>\n",
       "<style scoped>\n",
       "    .dataframe tbody tr th:only-of-type {\n",
       "        vertical-align: middle;\n",
       "    }\n",
       "\n",
       "    .dataframe tbody tr th {\n",
       "        vertical-align: top;\n",
       "    }\n",
       "\n",
       "    .dataframe thead th {\n",
       "        text-align: right;\n",
       "    }\n",
       "</style>\n",
       "<table border=\"1\" class=\"dataframe\">\n",
       "  <thead>\n",
       "    <tr style=\"text-align: right;\">\n",
       "      <th></th>\n",
       "      <th>W0</th>\n",
       "      <th>v0</th>\n",
       "      <th>y</th>\n",
       "      <th>propensity_score</th>\n",
       "      <th>weight</th>\n",
       "    </tr>\n",
       "  </thead>\n",
       "  <tbody>\n",
       "    <tr>\n",
       "      <th>0</th>\n",
       "      <td>-0.776945</td>\n",
       "      <td>True</td>\n",
       "      <td>3.440399</td>\n",
       "      <td>0.182231</td>\n",
       "      <td>5.487536</td>\n",
       "    </tr>\n",
       "    <tr>\n",
       "      <th>1</th>\n",
       "      <td>-0.429442</td>\n",
       "      <td>True</td>\n",
       "      <td>3.734078</td>\n",
       "      <td>0.314559</td>\n",
       "      <td>3.179050</td>\n",
       "    </tr>\n",
       "    <tr>\n",
       "      <th>2</th>\n",
       "      <td>-0.788770</td>\n",
       "      <td>True</td>\n",
       "      <td>3.498365</td>\n",
       "      <td>0.178597</td>\n",
       "      <td>5.599213</td>\n",
       "    </tr>\n",
       "    <tr>\n",
       "      <th>3</th>\n",
       "      <td>-0.276269</td>\n",
       "      <td>True</td>\n",
       "      <td>3.735789</td>\n",
       "      <td>0.386877</td>\n",
       "      <td>2.584803</td>\n",
       "    </tr>\n",
       "    <tr>\n",
       "      <th>4</th>\n",
       "      <td>-0.944493</td>\n",
       "      <td>True</td>\n",
       "      <td>5.124202</td>\n",
       "      <td>0.135918</td>\n",
       "      <td>7.357363</td>\n",
       "    </tr>\n",
       "    <tr>\n",
       "      <th>...</th>\n",
       "      <td>...</td>\n",
       "      <td>...</td>\n",
       "      <td>...</td>\n",
       "      <td>...</td>\n",
       "      <td>...</td>\n",
       "    </tr>\n",
       "    <tr>\n",
       "      <th>995</th>\n",
       "      <td>-0.390304</td>\n",
       "      <td>True</td>\n",
       "      <td>5.034767</td>\n",
       "      <td>0.332361</td>\n",
       "      <td>3.008774</td>\n",
       "    </tr>\n",
       "    <tr>\n",
       "      <th>996</th>\n",
       "      <td>-0.874124</td>\n",
       "      <td>True</td>\n",
       "      <td>3.853749</td>\n",
       "      <td>0.154032</td>\n",
       "      <td>6.492178</td>\n",
       "    </tr>\n",
       "    <tr>\n",
       "      <th>997</th>\n",
       "      <td>-0.148746</td>\n",
       "      <td>True</td>\n",
       "      <td>5.864678</td>\n",
       "      <td>0.451316</td>\n",
       "      <td>2.215744</td>\n",
       "    </tr>\n",
       "    <tr>\n",
       "      <th>998</th>\n",
       "      <td>-0.746435</td>\n",
       "      <td>True</td>\n",
       "      <td>4.540679</td>\n",
       "      <td>0.191874</td>\n",
       "      <td>5.211747</td>\n",
       "    </tr>\n",
       "    <tr>\n",
       "      <th>999</th>\n",
       "      <td>0.096059</td>\n",
       "      <td>True</td>\n",
       "      <td>4.039527</td>\n",
       "      <td>0.577754</td>\n",
       "      <td>1.730840</td>\n",
       "    </tr>\n",
       "  </tbody>\n",
       "</table>\n",
       "<p>1000 rows × 5 columns</p>\n",
       "</div>"
      ],
      "text/plain": [
       "           W0    v0         y  propensity_score    weight\n",
       "0   -0.776945  True  3.440399          0.182231  5.487536\n",
       "1   -0.429442  True  3.734078          0.314559  3.179050\n",
       "2   -0.788770  True  3.498365          0.178597  5.599213\n",
       "3   -0.276269  True  3.735789          0.386877  2.584803\n",
       "4   -0.944493  True  5.124202          0.135918  7.357363\n",
       "..        ...   ...       ...               ...       ...\n",
       "995 -0.390304  True  5.034767          0.332361  3.008774\n",
       "996 -0.874124  True  3.853749          0.154032  6.492178\n",
       "997 -0.148746  True  5.864678          0.451316  2.215744\n",
       "998 -0.746435  True  4.540679          0.191874  5.211747\n",
       "999  0.096059  True  4.039527          0.577754  1.730840\n",
       "\n",
       "[1000 rows x 5 columns]"
      ]
     },
     "execution_count": 7,
     "metadata": {},
     "output_type": "execute_result"
    }
   ],
   "source": [
    "cdf_1"
   ]
  },
  {
   "cell_type": "markdown",
   "metadata": {},
   "source": [
    "## Comparing the estimate to Linear Regression\n",
    "First, estimating the effect using the causal data frame, and the 95% confidence interval."
   ]
  },
  {
   "cell_type": "code",
   "execution_count": 8,
   "metadata": {
    "execution": {
     "iopub.execute_input": "2023-08-15T15:50:51.666784Z",
     "iopub.status.busy": "2023-08-15T15:50:51.666360Z",
     "iopub.status.idle": "2023-08-15T15:50:51.745887Z",
     "shell.execute_reply": "2023-08-15T15:50:51.745059Z"
    }
   },
   "outputs": [
    {
     "data": {
      "image/png": "[encoded data removed]",
      "text/latex": [
       "$\\displaystyle 5.35464273069845$"
      ],
      "text/plain": [
       "5.354642730698452"
      ]
     },
     "execution_count": 8,
     "metadata": {},
     "output_type": "execute_result"
    }
   ],
   "source": [
    "(cdf_1['y'] - cdf_0['y']).mean()"
   ]
  },
  {
   "cell_type": "code",
   "execution_count": 9,
   "metadata": {
    "execution": {
     "iopub.execute_input": "2023-08-15T15:50:51.749816Z",
     "iopub.status.busy": "2023-08-15T15:50:51.749266Z",
     "iopub.status.idle": "2023-08-15T15:50:51.772425Z",
     "shell.execute_reply": "2023-08-15T15:50:51.771244Z"
    }
   },
   "outputs": [
    {
     "data": {
      "image/png": "[encoded data removed]",
      "text/latex": [
       "$\\displaystyle 0.121402995097174$"
      ],
      "text/plain": [
       "0.12140299509717382"
      ]
     },
     "execution_count": 9,
     "metadata": {},
     "output_type": "execute_result"
    }
   ],
   "source": [
    "1.96*(cdf_1['y'] - cdf_0['y']).std() / np.sqrt(len(df))"
   ]
  },
  {
   "cell_type": "markdown",
   "metadata": {},
   "source": [
    "Comparing to the estimate from OLS."
   ]
  },
  {
   "cell_type": "code",
   "execution_count": 10,
   "metadata": {
    "execution": {
     "iopub.execute_input": "2023-08-15T15:50:51.776048Z",
     "iopub.status.busy": "2023-08-15T15:50:51.775407Z",
     "iopub.status.idle": "2023-08-15T15:50:51.801909Z",
     "shell.execute_reply": "2023-08-15T15:50:51.801138Z"
    }
   },
   "outputs": [
    {
     "data": {
      "text/html": [
       "<table class=\"simpletable\">\n",
       "<caption>OLS Regression Results</caption>\n",
       "<tr>\n",
       "  <th>Dep. Variable:</th>            <td>y</td>        <th>  R-squared (uncentered):</th>      <td>   0.931</td>\n",
       "</tr>\n",
       "<tr>\n",
       "  <th>Model:</th>                   <td>OLS</td>       <th>  Adj. R-squared (uncentered):</th> <td>   0.931</td>\n",
       "</tr>\n",
       "<tr>\n",
       "  <th>Method:</th>             <td>Least Squares</td>  <th>  F-statistic:       </th>          <td>   6764.</td>\n",
       "</tr>\n",
       "<tr>\n",
       "  <th>Date:</th>             <td>Tue, 15 Aug 2023</td> <th>  Prob (F-statistic):</th>           <td>  0.00</td> \n",
       "</tr>\n",
       "<tr>\n",
       "  <th>Time:</th>                 <td>15:50:51</td>     <th>  Log-Likelihood:    </th>          <td> -1397.0</td>\n",
       "</tr>\n",
       "<tr>\n",
       "  <th>No. Observations:</th>      <td>  1000</td>      <th>  AIC:               </th>          <td>   2798.</td>\n",
       "</tr>\n",
       "<tr>\n",
       "  <th>Df Residuals:</th>          <td>   998</td>      <th>  BIC:               </th>          <td>   2808.</td>\n",
       "</tr>\n",
       "<tr>\n",
       "  <th>Df Model:</th>              <td>     2</td>      <th>                     </th>              <td> </td>   \n",
       "</tr>\n",
       "<tr>\n",
       "  <th>Covariance Type:</th>      <td>nonrobust</td>    <th>                     </th>              <td> </td>   \n",
       "</tr>\n",
       "</table>\n",
       "<table class=\"simpletable\">\n",
       "<tr>\n",
       "   <td></td>     <th>coef</th>     <th>std err</th>      <th>t</th>      <th>P>|t|</th>  <th>[0.025</th>    <th>0.975]</th>  \n",
       "</tr>\n",
       "<tr>\n",
       "  <th>x1</th> <td>    1.0793</td> <td>    0.030</td> <td>   36.186</td> <td> 0.000</td> <td>    1.021</td> <td>    1.138</td>\n",
       "</tr>\n",
       "<tr>\n",
       "  <th>x2</th> <td>    4.9974</td> <td>    0.050</td> <td>  100.167</td> <td> 0.000</td> <td>    4.899</td> <td>    5.095</td>\n",
       "</tr>\n",
       "</table>\n",
       "<table class=\"simpletable\">\n",
       "<tr>\n",
       "  <th>Omnibus:</th>       <td> 0.515</td> <th>  Durbin-Watson:     </th> <td>   2.019</td>\n",
       "</tr>\n",
       "<tr>\n",
       "  <th>Prob(Omnibus):</th> <td> 0.773</td> <th>  Jarque-Bera (JB):  </th> <td>   0.581</td>\n",
       "</tr>\n",
       "<tr>\n",
       "  <th>Skew:</th>          <td>-0.049</td> <th>  Prob(JB):          </th> <td>   0.748</td>\n",
       "</tr>\n",
       "<tr>\n",
       "  <th>Kurtosis:</th>      <td> 2.934</td> <th>  Cond. No.          </th> <td>    1.76</td>\n",
       "</tr>\n",
       "</table><br/><br/>Notes:<br/>[1] R² is computed without centering (uncentered) since the model does not contain a constant.<br/>[2] Standard Errors assume that the covariance matrix of the errors is correctly specified."
      ],
      "text/latex": [
       "\\begin{center}\n",
       "\\begin{tabular}{lclc}\n",
       "\\toprule\n",
       "\\textbf{Dep. Variable:}    &        y         & \\textbf{  R-squared (uncentered):}      &     0.931   \\\\\n",
       "\\textbf{Model:}            &       OLS        & \\textbf{  Adj. R-squared (uncentered):} &     0.931   \\\\\n",
       "\\textbf{Method:}           &  Least Squares   & \\textbf{  F-statistic:       }          &     6764.   \\\\\n",
       "\\textbf{Date:}             & Tue, 15 Aug 2023 & \\textbf{  Prob (F-statistic):}          &     0.00    \\\\\n",
       "\\textbf{Time:}             &     15:50:51     & \\textbf{  Log-Likelihood:    }          &   -1397.0   \\\\\n",
       "\\textbf{No. Observations:} &        1000      & \\textbf{  AIC:               }          &     2798.   \\\\\n",
       "\\textbf{Df Residuals:}     &         998      & \\textbf{  BIC:               }          &     2808.   \\\\\n",
       "\\textbf{Df Model:}         &           2      & \\textbf{                     }          &             \\\\\n",
       "\\textbf{Covariance Type:}  &    nonrobust     & \\textbf{                     }          &             \\\\\n",
       "\\bottomrule\n",
       "\\end{tabular}\n",
       "\\begin{tabular}{lcccccc}\n",
       "            & \\textbf{coef} & \\textbf{std err} & \\textbf{t} & \\textbf{P$> |$t$|$} & \\textbf{[0.025} & \\textbf{0.975]}  \\\\\n",
       "\\midrule\n",
       "\\textbf{x1} &       1.0793  &        0.030     &    36.186  &         0.000        &        1.021    &        1.138     \\\\\n",
       "\\textbf{x2} &       4.9974  &        0.050     &   100.167  &         0.000        &        4.899    &        5.095     \\\\\n",
       "\\bottomrule\n",
       "\\end{tabular}\n",
       "\\begin{tabular}{lclc}\n",
       "\\textbf{Omnibus:}       &  0.515 & \\textbf{  Durbin-Watson:     } &    2.019  \\\\\n",
       "\\textbf{Prob(Omnibus):} &  0.773 & \\textbf{  Jarque-Bera (JB):  } &    0.581  \\\\\n",
       "\\textbf{Skew:}          & -0.049 & \\textbf{  Prob(JB):          } &    0.748  \\\\\n",
       "\\textbf{Kurtosis:}      &  2.934 & \\textbf{  Cond. No.          } &     1.76  \\\\\n",
       "\\bottomrule\n",
       "\\end{tabular}\n",
       "%\\caption{OLS Regression Results}\n",
       "\\end{center}\n",
       "\n",
       "Notes: \\newline\n",
       " [1] R² is computed without centering (uncentered) since the model does not contain a constant. \\newline\n",
       " [2] Standard Errors assume that the covariance matrix of the errors is correctly specified."
      ],
      "text/plain": [
       "<class 'statsmodels.iolib.summary.Summary'>\n",
       "\"\"\"\n",
       "                                 OLS Regression Results                                \n",
       "=======================================================================================\n",
       "Dep. Variable:                      y   R-squared (uncentered):                   0.931\n",
       "Model:                            OLS   Adj. R-squared (uncentered):              0.931\n",
       "Method:                 Least Squares   F-statistic:                              6764.\n",
       "Date:                Tue, 15 Aug 2023   Prob (F-statistic):                        0.00\n",
       "Time:                        15:50:51   Log-Likelihood:                         -1397.0\n",
       "No. Observations:                1000   AIC:                                      2798.\n",
       "Df Residuals:                     998   BIC:                                      2808.\n",
       "Df Model:                           2                                                  \n",
       "Covariance Type:            nonrobust                                                  \n",
       "==============================================================================\n",
       "                 coef    std err          t      P>|t|      [0.025      0.975]\n",
       "------------------------------------------------------------------------------\n",
       "x1             1.0793      0.030     36.186      0.000       1.021       1.138\n",
       "x2             4.9974      0.050    100.167      0.000       4.899       5.095\n",
       "==============================================================================\n",
       "Omnibus:                        0.515   Durbin-Watson:                   2.019\n",
       "Prob(Omnibus):                  0.773   Jarque-Bera (JB):                0.581\n",
       "Skew:                          -0.049   Prob(JB):                        0.748\n",
       "Kurtosis:                       2.934   Cond. No.                         1.76\n",
       "==============================================================================\n",
       "\n",
       "Notes:\n",
       "[1] R² is computed without centering (uncentered) since the model does not contain a constant.\n",
       "[2] Standard Errors assume that the covariance matrix of the errors is correctly specified.\n",
       "\"\"\""
      ]
     },
     "execution_count": 10,
     "metadata": {},
     "output_type": "execute_result"
    }
   ],
   "source": [
    "model = OLS(np.asarray(df[outcome]), np.asarray(df[[common_cause, treatment]], dtype=np.float64))\n",
    "result = model.fit()\n",
    "result.summary()"
   ]
  }
 ],
 "metadata": {
  "kernelspec": {
   "display_name": "Python 3",
   "language": "python",
   "name": "python3"
  },
  "language_info": {
   "codemirror_mode": {
    "name": "ipython",
    "version": 3
   },
   "file_extension": ".py",
   "mimetype": "text/x-python",
   "name": "python",
   "nbconvert_exporter": "python",
   "pygments_lexer": "ipython3",
   "version": "3.8.10"
  },
  "toc": {
   "base_numbering": 1,
   "nav_menu": {},
   "number_sections": false,
   "sideBar": true,
   "skip_h1_title": true,
   "title_cell": "Table of Contents",
   "title_sidebar": "Contents",
   "toc_cell": false,
   "toc_position": {},
   "toc_section_display": true,
   "toc_window_display": false
  }
 },
 "nbformat": 4,
 "nbformat_minor": 4
}
