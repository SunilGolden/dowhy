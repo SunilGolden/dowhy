{
 "cells": [
  {
   "cell_type": "markdown",
   "metadata": {},
   "source": [
    "# Demo for the DoWhy causal API\n",
    "We show a simple example of adding a causal extension to any dataframe. "
   ]
  },
  {
   "cell_type": "code",
   "execution_count": 1,
   "metadata": {
    "execution": {
     "iopub.execute_input": "2024-06-04T10:38:27.918447Z",
     "iopub.status.busy": "2024-06-04T10:38:27.917926Z",
     "iopub.status.idle": "2024-06-04T10:38:29.398166Z",
     "shell.execute_reply": "2024-06-04T10:38:29.397559Z"
    }
   },
   "outputs": [],
   "source": [
    "import dowhy.datasets\n",
    "import dowhy.api\n",
    "from dowhy.graph import build_graph_from_str\n",
    "\n",
    "import numpy as np\n",
    "import pandas as pd\n",
    "\n",
    "from statsmodels.api import OLS"
   ]
  },
  {
   "cell_type": "code",
   "execution_count": 2,
   "metadata": {
    "execution": {
     "iopub.execute_input": "2024-06-04T10:38:29.400987Z",
     "iopub.status.busy": "2024-06-04T10:38:29.400677Z",
     "iopub.status.idle": "2024-06-04T10:38:29.448576Z",
     "shell.execute_reply": "2024-06-04T10:38:29.447932Z"
    }
   },
   "outputs": [
    {
     "data": {
      "text/html": [
       "<div>\n",
       "<style scoped>\n",
       "    .dataframe tbody tr th:only-of-type {\n",
       "        vertical-align: middle;\n",
       "    }\n",
       "\n",
       "    .dataframe tbody tr th {\n",
       "        vertical-align: top;\n",
       "    }\n",
       "\n",
       "    .dataframe thead th {\n",
       "        text-align: right;\n",
       "    }\n",
       "</style>\n",
       "<table border=\"1\" class=\"dataframe\">\n",
       "  <thead>\n",
       "    <tr style=\"text-align: right;\">\n",
       "      <th></th>\n",
       "      <th>W0</th>\n",
       "      <th>v0</th>\n",
       "      <th>y</th>\n",
       "    </tr>\n",
       "  </thead>\n",
       "  <tbody>\n",
       "    <tr>\n",
       "      <th>0</th>\n",
       "      <td>-0.799574</td>\n",
       "      <td>False</td>\n",
       "      <td>-2.222250</td>\n",
       "    </tr>\n",
       "    <tr>\n",
       "      <th>1</th>\n",
       "      <td>-0.737407</td>\n",
       "      <td>False</td>\n",
       "      <td>-2.224681</td>\n",
       "    </tr>\n",
       "    <tr>\n",
       "      <th>2</th>\n",
       "      <td>-0.672699</td>\n",
       "      <td>False</td>\n",
       "      <td>-0.310463</td>\n",
       "    </tr>\n",
       "    <tr>\n",
       "      <th>3</th>\n",
       "      <td>-0.292894</td>\n",
       "      <td>False</td>\n",
       "      <td>0.063853</td>\n",
       "    </tr>\n",
       "    <tr>\n",
       "      <th>4</th>\n",
       "      <td>-0.797484</td>\n",
       "      <td>False</td>\n",
       "      <td>-0.707155</td>\n",
       "    </tr>\n",
       "    <tr>\n",
       "      <th>...</th>\n",
       "      <td>...</td>\n",
       "      <td>...</td>\n",
       "      <td>...</td>\n",
       "    </tr>\n",
       "    <tr>\n",
       "      <th>995</th>\n",
       "      <td>-0.347469</td>\n",
       "      <td>False</td>\n",
       "      <td>-1.855070</td>\n",
       "    </tr>\n",
       "    <tr>\n",
       "      <th>996</th>\n",
       "      <td>-1.389722</td>\n",
       "      <td>False</td>\n",
       "      <td>-2.986093</td>\n",
       "    </tr>\n",
       "    <tr>\n",
       "      <th>997</th>\n",
       "      <td>-2.231572</td>\n",
       "      <td>False</td>\n",
       "      <td>-3.209537</td>\n",
       "    </tr>\n",
       "    <tr>\n",
       "      <th>998</th>\n",
       "      <td>0.966287</td>\n",
       "      <td>True</td>\n",
       "      <td>8.500667</td>\n",
       "    </tr>\n",
       "    <tr>\n",
       "      <th>999</th>\n",
       "      <td>0.443099</td>\n",
       "      <td>True</td>\n",
       "      <td>5.818375</td>\n",
       "    </tr>\n",
       "  </tbody>\n",
       "</table>\n",
       "<p>1000 rows × 3 columns</p>\n",
       "</div>"
      ],
      "text/plain": [
       "           W0     v0         y\n",
       "0   -0.799574  False -2.222250\n",
       "1   -0.737407  False -2.224681\n",
       "2   -0.672699  False -0.310463\n",
       "3   -0.292894  False  0.063853\n",
       "4   -0.797484  False -0.707155\n",
       "..        ...    ...       ...\n",
       "995 -0.347469  False -1.855070\n",
       "996 -1.389722  False -2.986093\n",
       "997 -2.231572  False -3.209537\n",
       "998  0.966287   True  8.500667\n",
       "999  0.443099   True  5.818375\n",
       "\n",
       "[1000 rows x 3 columns]"
      ]
     },
     "execution_count": 2,
     "metadata": {},
     "output_type": "execute_result"
    }
   ],
   "source": [
    "data = dowhy.datasets.linear_dataset(beta=5,\n",
    "        num_common_causes=1,\n",
    "        num_instruments = 0,\n",
    "        num_samples=1000,\n",
    "        treatment_is_binary=True)\n",
    "df = data['df']\n",
    "df['y'] = df['y'] + np.random.normal(size=len(df)) # Adding noise to data. Without noise, the variance in Y|X, Z is zero, and mcmc fails.\n",
    "nx_graph = build_graph_from_str(data[\"dot_graph\"])\n",
    "\n",
    "treatment= data[\"treatment_name\"][0]\n",
    "outcome = data[\"outcome_name\"][0]\n",
    "common_cause = data[\"common_causes_names\"][0]\n",
    "df"
   ]
  },
  {
   "cell_type": "code",
   "execution_count": 3,
   "metadata": {
    "execution": {
     "iopub.execute_input": "2024-06-04T10:38:29.451058Z",
     "iopub.status.busy": "2024-06-04T10:38:29.450666Z",
     "iopub.status.idle": "2024-06-04T10:38:29.634412Z",
     "shell.execute_reply": "2024-06-04T10:38:29.633787Z"
    },
    "scrolled": true
   },
   "outputs": [
    {
     "data": {
      "text/plain": [
       "<Axes: xlabel='v0'>"
      ]
     },
     "execution_count": 3,
     "metadata": {},
     "output_type": "execute_result"
    },
    {
     "data": {
      "image/png": "[encoded data removed]",
      "text/plain": [
       "<Figure size 640x480 with 1 Axes>"
      ]
     },
     "metadata": {},
     "output_type": "display_data"
    }
   ],
   "source": [
    "# data['df'] is just a regular pandas.DataFrame\n",
    "df.causal.do(x=treatment,\n",
    "             variable_types={treatment: 'b', outcome: 'c', common_cause: 'c'},\n",
    "             outcome=outcome,\n",
    "             common_causes=[common_cause],\n",
    "            ).groupby(treatment).mean().plot(y=outcome, kind='bar')"
   ]
  },
  {
   "cell_type": "code",
   "execution_count": 4,
   "metadata": {
    "execution": {
     "iopub.execute_input": "2024-06-04T10:38:29.636970Z",
     "iopub.status.busy": "2024-06-04T10:38:29.636613Z",
     "iopub.status.idle": "2024-06-04T10:38:29.767374Z",
     "shell.execute_reply": "2024-06-04T10:38:29.766735Z"
    }
   },
   "outputs": [
    {
     "data": {
      "text/plain": [
       "<Axes: xlabel='v0'>"
      ]
     },
     "execution_count": 4,
     "metadata": {},
     "output_type": "execute_result"
    },
    {
     "data": {
      "image/png": "[encoded data removed]",
      "text/plain": [
       "<Figure size 640x480 with 1 Axes>"
      ]
     },
     "metadata": {},
     "output_type": "display_data"
    }
   ],
   "source": [
    "df.causal.do(x={treatment: 1}, \n",
    "              variable_types={treatment:'b', outcome: 'c', common_cause: 'c'}, \n",
    "              outcome=outcome,\n",
    "              method='weighting', \n",
    "              common_causes=[common_cause]\n",
    "              ).groupby(treatment).mean().plot(y=outcome, kind='bar')"
   ]
  },
  {
   "cell_type": "code",
   "execution_count": 5,
   "metadata": {
    "execution": {
     "iopub.execute_input": "2024-06-04T10:38:29.770470Z",
     "iopub.status.busy": "2024-06-04T10:38:29.769980Z",
     "iopub.status.idle": "2024-06-04T10:38:29.791279Z",
     "shell.execute_reply": "2024-06-04T10:38:29.790799Z"
    }
   },
   "outputs": [],
   "source": [
    "cdf_1 = df.causal.do(x={treatment: 1}, \n",
    "              variable_types={treatment: 'b', outcome: 'c', common_cause: 'c'}, \n",
    "              outcome=outcome, \n",
    "              graph=nx_graph\n",
    "              )\n",
    "\n",
    "cdf_0 = df.causal.do(x={treatment: 0}, \n",
    "              variable_types={treatment: 'b', outcome: 'c', common_cause: 'c'}, \n",
    "              outcome=outcome, \n",
    "              graph=nx_graph\n",
    "              )\n"
   ]
  },
  {
   "cell_type": "code",
   "execution_count": 6,
   "metadata": {
    "execution": {
     "iopub.execute_input": "2024-06-04T10:38:29.793703Z",
     "iopub.status.busy": "2024-06-04T10:38:29.793293Z",
     "iopub.status.idle": "2024-06-04T10:38:29.802251Z",
     "shell.execute_reply": "2024-06-04T10:38:29.801656Z"
    },
    "scrolled": true
   },
   "outputs": [
    {
     "data": {
      "text/html": [
       "<div>\n",
       "<style scoped>\n",
       "    .dataframe tbody tr th:only-of-type {\n",
       "        vertical-align: middle;\n",
       "    }\n",
       "\n",
       "    .dataframe tbody tr th {\n",
       "        vertical-align: top;\n",
       "    }\n",
       "\n",
       "    .dataframe thead th {\n",
       "        text-align: right;\n",
       "    }\n",
       "</style>\n",
       "<table border=\"1\" class=\"dataframe\">\n",
       "  <thead>\n",
       "    <tr style=\"text-align: right;\">\n",
       "      <th></th>\n",
       "      <th>W0</th>\n",
       "      <th>v0</th>\n",
       "      <th>y</th>\n",
       "      <th>propensity_score</th>\n",
       "      <th>weight</th>\n",
       "    </tr>\n",
       "  </thead>\n",
       "  <tbody>\n",
       "    <tr>\n",
       "      <th>0</th>\n",
       "      <td>-1.169585</td>\n",
       "      <td>False</td>\n",
       "      <td>-3.266827</td>\n",
       "      <td>0.885860</td>\n",
       "      <td>1.128847</td>\n",
       "    </tr>\n",
       "    <tr>\n",
       "      <th>1</th>\n",
       "      <td>-1.130861</td>\n",
       "      <td>False</td>\n",
       "      <td>-2.356686</td>\n",
       "      <td>0.878966</td>\n",
       "      <td>1.137700</td>\n",
       "    </tr>\n",
       "    <tr>\n",
       "      <th>2</th>\n",
       "      <td>-0.519769</td>\n",
       "      <td>False</td>\n",
       "      <td>-0.747075</td>\n",
       "      <td>0.717883</td>\n",
       "      <td>1.392986</td>\n",
       "    </tr>\n",
       "    <tr>\n",
       "      <th>3</th>\n",
       "      <td>-0.604299</td>\n",
       "      <td>False</td>\n",
       "      <td>-0.230841</td>\n",
       "      <td>0.746313</td>\n",
       "      <td>1.339920</td>\n",
       "    </tr>\n",
       "    <tr>\n",
       "      <th>4</th>\n",
       "      <td>-1.593866</td>\n",
       "      <td>False</td>\n",
       "      <td>-2.548133</td>\n",
       "      <td>0.941433</td>\n",
       "      <td>1.062210</td>\n",
       "    </tr>\n",
       "    <tr>\n",
       "      <th>...</th>\n",
       "      <td>...</td>\n",
       "      <td>...</td>\n",
       "      <td>...</td>\n",
       "      <td>...</td>\n",
       "      <td>...</td>\n",
       "    </tr>\n",
       "    <tr>\n",
       "      <th>995</th>\n",
       "      <td>-0.184888</td>\n",
       "      <td>False</td>\n",
       "      <td>0.105723</td>\n",
       "      <td>0.588869</td>\n",
       "      <td>1.698170</td>\n",
       "    </tr>\n",
       "    <tr>\n",
       "      <th>996</th>\n",
       "      <td>-1.320264</td>\n",
       "      <td>False</td>\n",
       "      <td>-3.206636</td>\n",
       "      <td>0.909514</td>\n",
       "      <td>1.099489</td>\n",
       "    </tr>\n",
       "    <tr>\n",
       "      <th>997</th>\n",
       "      <td>-0.425971</td>\n",
       "      <td>False</td>\n",
       "      <td>-3.558896</td>\n",
       "      <td>0.684173</td>\n",
       "      <td>1.461619</td>\n",
       "    </tr>\n",
       "    <tr>\n",
       "      <th>998</th>\n",
       "      <td>-1.662963</td>\n",
       "      <td>False</td>\n",
       "      <td>-2.732214</td>\n",
       "      <td>0.947639</td>\n",
       "      <td>1.055254</td>\n",
       "    </tr>\n",
       "    <tr>\n",
       "      <th>999</th>\n",
       "      <td>-0.120496</td>\n",
       "      <td>False</td>\n",
       "      <td>1.317050</td>\n",
       "      <td>0.561879</td>\n",
       "      <td>1.779743</td>\n",
       "    </tr>\n",
       "  </tbody>\n",
       "</table>\n",
       "<p>1000 rows × 5 columns</p>\n",
       "</div>"
      ],
      "text/plain": [
       "           W0     v0         y  propensity_score    weight\n",
       "0   -1.169585  False -3.266827          0.885860  1.128847\n",
       "1   -1.130861  False -2.356686          0.878966  1.137700\n",
       "2   -0.519769  False -0.747075          0.717883  1.392986\n",
       "3   -0.604299  False -0.230841          0.746313  1.339920\n",
       "4   -1.593866  False -2.548133          0.941433  1.062210\n",
       "..        ...    ...       ...               ...       ...\n",
       "995 -0.184888  False  0.105723          0.588869  1.698170\n",
       "996 -1.320264  False -3.206636          0.909514  1.099489\n",
       "997 -0.425971  False -3.558896          0.684173  1.461619\n",
       "998 -1.662963  False -2.732214          0.947639  1.055254\n",
       "999 -0.120496  False  1.317050          0.561879  1.779743\n",
       "\n",
       "[1000 rows x 5 columns]"
      ]
     },
     "execution_count": 6,
     "metadata": {},
     "output_type": "execute_result"
    }
   ],
   "source": [
    "cdf_0"
   ]
  },
  {
   "cell_type": "code",
   "execution_count": 7,
   "metadata": {
    "execution": {
     "iopub.execute_input": "2024-06-04T10:38:29.804557Z",
     "iopub.status.busy": "2024-06-04T10:38:29.804271Z",
     "iopub.status.idle": "2024-06-04T10:38:29.812942Z",
     "shell.execute_reply": "2024-06-04T10:38:29.812370Z"
    }
   },
   "outputs": [
    {
     "data": {
      "text/html": [
       "<div>\n",
       "<style scoped>\n",
       "    .dataframe tbody tr th:only-of-type {\n",
       "        vertical-align: middle;\n",
       "    }\n",
       "\n",
       "    .dataframe tbody tr th {\n",
       "        vertical-align: top;\n",
       "    }\n",
       "\n",
       "    .dataframe thead th {\n",
       "        text-align: right;\n",
       "    }\n",
       "</style>\n",
       "<table border=\"1\" class=\"dataframe\">\n",
       "  <thead>\n",
       "    <tr style=\"text-align: right;\">\n",
       "      <th></th>\n",
       "      <th>W0</th>\n",
       "      <th>v0</th>\n",
       "      <th>y</th>\n",
       "      <th>propensity_score</th>\n",
       "      <th>weight</th>\n",
       "    </tr>\n",
       "  </thead>\n",
       "  <tbody>\n",
       "    <tr>\n",
       "      <th>0</th>\n",
       "      <td>-0.878275</td>\n",
       "      <td>True</td>\n",
       "      <td>3.738064</td>\n",
       "      <td>0.175200</td>\n",
       "      <td>5.707765</td>\n",
       "    </tr>\n",
       "    <tr>\n",
       "      <th>1</th>\n",
       "      <td>-1.633596</td>\n",
       "      <td>True</td>\n",
       "      <td>3.654109</td>\n",
       "      <td>0.054919</td>\n",
       "      <td>18.208768</td>\n",
       "    </tr>\n",
       "    <tr>\n",
       "      <th>2</th>\n",
       "      <td>-0.980423</td>\n",
       "      <td>True</td>\n",
       "      <td>3.596465</td>\n",
       "      <td>0.151291</td>\n",
       "      <td>6.609774</td>\n",
       "    </tr>\n",
       "    <tr>\n",
       "      <th>3</th>\n",
       "      <td>-0.593374</td>\n",
       "      <td>True</td>\n",
       "      <td>4.980309</td>\n",
       "      <td>0.257253</td>\n",
       "      <td>3.887226</td>\n",
       "    </tr>\n",
       "    <tr>\n",
       "      <th>4</th>\n",
       "      <td>-0.069336</td>\n",
       "      <td>True</td>\n",
       "      <td>4.999307</td>\n",
       "      <td>0.459838</td>\n",
       "      <td>2.174679</td>\n",
       "    </tr>\n",
       "    <tr>\n",
       "      <th>...</th>\n",
       "      <td>...</td>\n",
       "      <td>...</td>\n",
       "      <td>...</td>\n",
       "      <td>...</td>\n",
       "      <td>...</td>\n",
       "    </tr>\n",
       "    <tr>\n",
       "      <th>995</th>\n",
       "      <td>-1.633596</td>\n",
       "      <td>True</td>\n",
       "      <td>3.654109</td>\n",
       "      <td>0.054919</td>\n",
       "      <td>18.208768</td>\n",
       "    </tr>\n",
       "    <tr>\n",
       "      <th>996</th>\n",
       "      <td>1.183053</td>\n",
       "      <td>True</td>\n",
       "      <td>6.333512</td>\n",
       "      <td>0.879556</td>\n",
       "      <td>1.136938</td>\n",
       "    </tr>\n",
       "    <tr>\n",
       "      <th>997</th>\n",
       "      <td>-0.108787</td>\n",
       "      <td>True</td>\n",
       "      <td>3.815421</td>\n",
       "      <td>0.443074</td>\n",
       "      <td>2.256961</td>\n",
       "    </tr>\n",
       "    <tr>\n",
       "      <th>998</th>\n",
       "      <td>-1.463084</td>\n",
       "      <td>True</td>\n",
       "      <td>3.065036</td>\n",
       "      <td>0.072238</td>\n",
       "      <td>13.843066</td>\n",
       "    </tr>\n",
       "    <tr>\n",
       "      <th>999</th>\n",
       "      <td>0.699452</td>\n",
       "      <td>True</td>\n",
       "      <td>6.737050</td>\n",
       "      <td>0.761028</td>\n",
       "      <td>1.314013</td>\n",
       "    </tr>\n",
       "  </tbody>\n",
       "</table>\n",
       "<p>1000 rows × 5 columns</p>\n",
       "</div>"
      ],
      "text/plain": [
       "           W0    v0         y  propensity_score     weight\n",
       "0   -0.878275  True  3.738064          0.175200   5.707765\n",
       "1   -1.633596  True  3.654109          0.054919  18.208768\n",
       "2   -0.980423  True  3.596465          0.151291   6.609774\n",
       "3   -0.593374  True  4.980309          0.257253   3.887226\n",
       "4   -0.069336  True  4.999307          0.459838   2.174679\n",
       "..        ...   ...       ...               ...        ...\n",
       "995 -1.633596  True  3.654109          0.054919  18.208768\n",
       "996  1.183053  True  6.333512          0.879556   1.136938\n",
       "997 -0.108787  True  3.815421          0.443074   2.256961\n",
       "998 -1.463084  True  3.065036          0.072238  13.843066\n",
       "999  0.699452  True  6.737050          0.761028   1.314013\n",
       "\n",
       "[1000 rows x 5 columns]"
      ]
     },
     "execution_count": 7,
     "metadata": {},
     "output_type": "execute_result"
    }
   ],
   "source": [
    "cdf_1"
   ]
  },
  {
   "cell_type": "markdown",
   "metadata": {},
   "source": [
    "## Comparing the estimate to Linear Regression\n",
    "First, estimating the effect using the causal data frame, and the 95% confidence interval."
   ]
  },
  {
   "cell_type": "code",
   "execution_count": 8,
   "metadata": {
    "execution": {
     "iopub.execute_input": "2024-06-04T10:38:29.815277Z",
     "iopub.status.busy": "2024-06-04T10:38:29.814922Z",
     "iopub.status.idle": "2024-06-04T10:38:29.861438Z",
     "shell.execute_reply": "2024-06-04T10:38:29.860835Z"
    }
   },
   "outputs": [
    {
     "data": {
      "image/png": "[encoded data removed]",
      "text/latex": [
       "$\\displaystyle 5.34716028312498$"
      ],
      "text/plain": [
       "5.34716028312498"
      ]
     },
     "execution_count": 8,
     "metadata": {},
     "output_type": "execute_result"
    }
   ],
   "source": [
    "(cdf_1['y'] - cdf_0['y']).mean()"
   ]
  },
  {
   "cell_type": "code",
   "execution_count": 9,
   "metadata": {
    "execution": {
     "iopub.execute_input": "2024-06-04T10:38:29.863871Z",
     "iopub.status.busy": "2024-06-04T10:38:29.863529Z",
     "iopub.status.idle": "2024-06-04T10:38:29.879414Z",
     "shell.execute_reply": "2024-06-04T10:38:29.878812Z"
    }
   },
   "outputs": [
    {
     "data": {
      "image/png": "[encoded data removed]",
      "text/latex": [
       "$\\displaystyle 0.151779797835111$"
      ],
      "text/plain": [
       "0.15177979783511084"
      ]
     },
     "execution_count": 9,
     "metadata": {},
     "output_type": "execute_result"
    }
   ],
   "source": [
    "1.96*(cdf_1['y'] - cdf_0['y']).std() / np.sqrt(len(df))"
   ]
  },
  {
   "cell_type": "markdown",
   "metadata": {},
   "source": [
    "Comparing to the estimate from OLS."
   ]
  },
  {
   "cell_type": "code",
   "execution_count": 10,
   "metadata": {
    "execution": {
     "iopub.execute_input": "2024-06-04T10:38:29.881829Z",
     "iopub.status.busy": "2024-06-04T10:38:29.881481Z",
     "iopub.status.idle": "2024-06-04T10:38:29.897929Z",
     "shell.execute_reply": "2024-06-04T10:38:29.897349Z"
    }
   },
   "outputs": [
    {
     "data": {
      "text/html": [
       "<table class=\"simpletable\">\n",
       "<caption>OLS Regression Results</caption>\n",
       "<tr>\n",
       "  <th>Dep. Variable:</th>            <td>y</td>        <th>  R-squared (uncentered):</th>      <td>   0.937</td>\n",
       "</tr>\n",
       "<tr>\n",
       "  <th>Model:</th>                   <td>OLS</td>       <th>  Adj. R-squared (uncentered):</th> <td>   0.937</td>\n",
       "</tr>\n",
       "<tr>\n",
       "  <th>Method:</th>             <td>Least Squares</td>  <th>  F-statistic:       </th>          <td>   7464.</td>\n",
       "</tr>\n",
       "<tr>\n",
       "  <th>Date:</th>             <td>Tue, 04 Jun 2024</td> <th>  Prob (F-statistic):</th>           <td>  0.00</td> \n",
       "</tr>\n",
       "<tr>\n",
       "  <th>Time:</th>                 <td>10:38:29</td>     <th>  Log-Likelihood:    </th>          <td> -1418.4</td>\n",
       "</tr>\n",
       "<tr>\n",
       "  <th>No. Observations:</th>      <td>  1000</td>      <th>  AIC:               </th>          <td>   2841.</td>\n",
       "</tr>\n",
       "<tr>\n",
       "  <th>Df Residuals:</th>          <td>   998</td>      <th>  BIC:               </th>          <td>   2851.</td>\n",
       "</tr>\n",
       "<tr>\n",
       "  <th>Df Model:</th>              <td>     2</td>      <th>                     </th>              <td> </td>   \n",
       "</tr>\n",
       "<tr>\n",
       "  <th>Covariance Type:</th>      <td>nonrobust</td>    <th>                     </th>              <td> </td>   \n",
       "</tr>\n",
       "</table>\n",
       "<table class=\"simpletable\">\n",
       "<tr>\n",
       "   <td></td>     <th>coef</th>     <th>std err</th>      <th>t</th>      <th>P>|t|</th>  <th>[0.025</th>    <th>0.975]</th>  \n",
       "</tr>\n",
       "<tr>\n",
       "  <th>x1</th> <td>    1.5987</td> <td>    0.030</td> <td>   53.322</td> <td> 0.000</td> <td>    1.540</td> <td>    1.658</td>\n",
       "</tr>\n",
       "<tr>\n",
       "  <th>x2</th> <td>    4.9770</td> <td>    0.052</td> <td>   96.471</td> <td> 0.000</td> <td>    4.876</td> <td>    5.078</td>\n",
       "</tr>\n",
       "</table>\n",
       "<table class=\"simpletable\">\n",
       "<tr>\n",
       "  <th>Omnibus:</th>       <td> 2.659</td> <th>  Durbin-Watson:     </th> <td>   2.038</td>\n",
       "</tr>\n",
       "<tr>\n",
       "  <th>Prob(Omnibus):</th> <td> 0.265</td> <th>  Jarque-Bera (JB):  </th> <td>   2.605</td>\n",
       "</tr>\n",
       "<tr>\n",
       "  <th>Skew:</th>          <td>-0.125</td> <th>  Prob(JB):          </th> <td>   0.272</td>\n",
       "</tr>\n",
       "<tr>\n",
       "  <th>Kurtosis:</th>      <td> 3.015</td> <th>  Cond. No.          </th> <td>    1.80</td>\n",
       "</tr>\n",
       "</table><br/><br/>Notes:<br/>[1] R² is computed without centering (uncentered) since the model does not contain a constant.<br/>[2] Standard Errors assume that the covariance matrix of the errors is correctly specified."
      ],
      "text/latex": [
       "\\begin{center}\n",
       "\\begin{tabular}{lclc}\n",
       "\\toprule\n",
       "\\textbf{Dep. Variable:}    &        y         & \\textbf{  R-squared (uncentered):}      &     0.937   \\\\\n",
       "\\textbf{Model:}            &       OLS        & \\textbf{  Adj. R-squared (uncentered):} &     0.937   \\\\\n",
       "\\textbf{Method:}           &  Least Squares   & \\textbf{  F-statistic:       }          &     7464.   \\\\\n",
       "\\textbf{Date:}             & Tue, 04 Jun 2024 & \\textbf{  Prob (F-statistic):}          &     0.00    \\\\\n",
       "\\textbf{Time:}             &     10:38:29     & \\textbf{  Log-Likelihood:    }          &   -1418.4   \\\\\n",
       "\\textbf{No. Observations:} &        1000      & \\textbf{  AIC:               }          &     2841.   \\\\\n",
       "\\textbf{Df Residuals:}     &         998      & \\textbf{  BIC:               }          &     2851.   \\\\\n",
       "\\textbf{Df Model:}         &           2      & \\textbf{                     }          &             \\\\\n",
       "\\textbf{Covariance Type:}  &    nonrobust     & \\textbf{                     }          &             \\\\\n",
       "\\bottomrule\n",
       "\\end{tabular}\n",
       "\\begin{tabular}{lcccccc}\n",
       "            & \\textbf{coef} & \\textbf{std err} & \\textbf{t} & \\textbf{P$> |$t$|$} & \\textbf{[0.025} & \\textbf{0.975]}  \\\\\n",
       "\\midrule\n",
       "\\textbf{x1} &       1.5987  &        0.030     &    53.322  &         0.000        &        1.540    &        1.658     \\\\\n",
       "\\textbf{x2} &       4.9770  &        0.052     &    96.471  &         0.000        &        4.876    &        5.078     \\\\\n",
       "\\bottomrule\n",
       "\\end{tabular}\n",
       "\\begin{tabular}{lclc}\n",
       "\\textbf{Omnibus:}       &  2.659 & \\textbf{  Durbin-Watson:     } &    2.038  \\\\\n",
       "\\textbf{Prob(Omnibus):} &  0.265 & \\textbf{  Jarque-Bera (JB):  } &    2.605  \\\\\n",
       "\\textbf{Skew:}          & -0.125 & \\textbf{  Prob(JB):          } &    0.272  \\\\\n",
       "\\textbf{Kurtosis:}      &  3.015 & \\textbf{  Cond. No.          } &     1.80  \\\\\n",
       "\\bottomrule\n",
       "\\end{tabular}\n",
       "%\\caption{OLS Regression Results}\n",
       "\\end{center}\n",
       "\n",
       "Notes: \\newline\n",
       " [1] R² is computed without centering (uncentered) since the model does not contain a constant. \\newline\n",
       " [2] Standard Errors assume that the covariance matrix of the errors is correctly specified."
      ],
      "text/plain": [
       "<class 'statsmodels.iolib.summary.Summary'>\n",
       "\"\"\"\n",
       "                                 OLS Regression Results                                \n",
       "=======================================================================================\n",
       "Dep. Variable:                      y   R-squared (uncentered):                   0.937\n",
       "Model:                            OLS   Adj. R-squared (uncentered):              0.937\n",
       "Method:                 Least Squares   F-statistic:                              7464.\n",
       "Date:                Tue, 04 Jun 2024   Prob (F-statistic):                        0.00\n",
       "Time:                        10:38:29   Log-Likelihood:                         -1418.4\n",
       "No. Observations:                1000   AIC:                                      2841.\n",
       "Df Residuals:                     998   BIC:                                      2851.\n",
       "Df Model:                           2                                                  \n",
       "Covariance Type:            nonrobust                                                  \n",
       "==============================================================================\n",
       "                 coef    std err          t      P>|t|      [0.025      0.975]\n",
       "------------------------------------------------------------------------------\n",
       "x1             1.5987      0.030     53.322      0.000       1.540       1.658\n",
       "x2             4.9770      0.052     96.471      0.000       4.876       5.078\n",
       "==============================================================================\n",
       "Omnibus:                        2.659   Durbin-Watson:                   2.038\n",
       "Prob(Omnibus):                  0.265   Jarque-Bera (JB):                2.605\n",
       "Skew:                          -0.125   Prob(JB):                        0.272\n",
       "Kurtosis:                       3.015   Cond. No.                         1.80\n",
       "==============================================================================\n",
       "\n",
       "Notes:\n",
       "[1] R² is computed without centering (uncentered) since the model does not contain a constant.\n",
       "[2] Standard Errors assume that the covariance matrix of the errors is correctly specified.\n",
       "\"\"\""
      ]
     },
     "execution_count": 10,
     "metadata": {},
     "output_type": "execute_result"
    }
   ],
   "source": [
    "model = OLS(np.asarray(df[outcome]), np.asarray(df[[common_cause, treatment]], dtype=np.float64))\n",
    "result = model.fit()\n",
    "result.summary()"
   ]
  }
 ],
 "metadata": {
  "kernelspec": {
   "display_name": "Python 3 (ipykernel)",
   "language": "python",
   "name": "python3"
  },
  "language_info": {
   "codemirror_mode": {
    "name": "ipython",
    "version": 3
   },
   "file_extension": ".py",
   "mimetype": "text/x-python",
   "name": "python",
   "nbconvert_exporter": "python",
   "pygments_lexer": "ipython3",
   "version": "3.8.10"
  },
  "toc": {
   "base_numbering": 1,
   "nav_menu": {},
   "number_sections": false,
   "sideBar": true,
   "skip_h1_title": true,
   "title_cell": "Table of Contents",
   "title_sidebar": "Contents",
   "toc_cell": false,
   "toc_position": {},
   "toc_section_display": true,
   "toc_window_display": false
  }
 },
 "nbformat": 4,
 "nbformat_minor": 4
}
