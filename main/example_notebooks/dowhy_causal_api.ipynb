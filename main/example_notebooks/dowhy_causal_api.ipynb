{
 "cells": [
  {
   "cell_type": "markdown",
   "metadata": {},
   "source": [
    "# Demo for the DoWhy causal API\n",
    "We show a simple example of adding a causal extension to any dataframe. "
   ]
  },
  {
   "cell_type": "code",
   "execution_count": 1,
   "metadata": {
    "execution": {
     "iopub.execute_input": "2023-03-16T23:22:32.731865Z",
     "iopub.status.busy": "2023-03-16T23:22:32.731397Z",
     "iopub.status.idle": "2023-03-16T23:22:34.843144Z",
     "shell.execute_reply": "2023-03-16T23:22:34.841829Z"
    }
   },
   "outputs": [],
   "source": [
    "import dowhy.datasets\n",
    "import dowhy.api\n",
    "\n",
    "import numpy as np\n",
    "import pandas as pd\n",
    "\n",
    "from statsmodels.api import OLS"
   ]
  },
  {
   "cell_type": "code",
   "execution_count": 2,
   "metadata": {
    "execution": {
     "iopub.execute_input": "2023-03-16T23:22:34.848241Z",
     "iopub.status.busy": "2023-03-16T23:22:34.847417Z",
     "iopub.status.idle": "2023-03-16T23:22:34.915627Z",
     "shell.execute_reply": "2023-03-16T23:22:34.914598Z"
    }
   },
   "outputs": [
    {
     "data": {
      "text/html": [
       "<div>\n",
       "<style scoped>\n",
       "    .dataframe tbody tr th:only-of-type {\n",
       "        vertical-align: middle;\n",
       "    }\n",
       "\n",
       "    .dataframe tbody tr th {\n",
       "        vertical-align: top;\n",
       "    }\n",
       "\n",
       "    .dataframe thead th {\n",
       "        text-align: right;\n",
       "    }\n",
       "</style>\n",
       "<table border=\"1\" class=\"dataframe\">\n",
       "  <thead>\n",
       "    <tr style=\"text-align: right;\">\n",
       "      <th></th>\n",
       "      <th>W0</th>\n",
       "      <th>v0</th>\n",
       "      <th>y</th>\n",
       "    </tr>\n",
       "  </thead>\n",
       "  <tbody>\n",
       "    <tr>\n",
       "      <th>0</th>\n",
       "      <td>-0.717459</td>\n",
       "      <td>False</td>\n",
       "      <td>-1.692584</td>\n",
       "    </tr>\n",
       "    <tr>\n",
       "      <th>1</th>\n",
       "      <td>-0.361556</td>\n",
       "      <td>False</td>\n",
       "      <td>0.124224</td>\n",
       "    </tr>\n",
       "    <tr>\n",
       "      <th>2</th>\n",
       "      <td>0.428248</td>\n",
       "      <td>True</td>\n",
       "      <td>6.760752</td>\n",
       "    </tr>\n",
       "    <tr>\n",
       "      <th>3</th>\n",
       "      <td>-0.379635</td>\n",
       "      <td>False</td>\n",
       "      <td>-2.450493</td>\n",
       "    </tr>\n",
       "    <tr>\n",
       "      <th>4</th>\n",
       "      <td>-0.430361</td>\n",
       "      <td>True</td>\n",
       "      <td>3.705406</td>\n",
       "    </tr>\n",
       "    <tr>\n",
       "      <th>...</th>\n",
       "      <td>...</td>\n",
       "      <td>...</td>\n",
       "      <td>...</td>\n",
       "    </tr>\n",
       "    <tr>\n",
       "      <th>995</th>\n",
       "      <td>-0.456266</td>\n",
       "      <td>True</td>\n",
       "      <td>5.822778</td>\n",
       "    </tr>\n",
       "    <tr>\n",
       "      <th>996</th>\n",
       "      <td>1.191536</td>\n",
       "      <td>True</td>\n",
       "      <td>9.257252</td>\n",
       "    </tr>\n",
       "    <tr>\n",
       "      <th>997</th>\n",
       "      <td>-0.728573</td>\n",
       "      <td>False</td>\n",
       "      <td>-2.211561</td>\n",
       "    </tr>\n",
       "    <tr>\n",
       "      <th>998</th>\n",
       "      <td>-0.631663</td>\n",
       "      <td>False</td>\n",
       "      <td>-0.585232</td>\n",
       "    </tr>\n",
       "    <tr>\n",
       "      <th>999</th>\n",
       "      <td>-1.143108</td>\n",
       "      <td>True</td>\n",
       "      <td>0.438680</td>\n",
       "    </tr>\n",
       "  </tbody>\n",
       "</table>\n",
       "<p>1000 rows × 3 columns</p>\n",
       "</div>"
      ],
      "text/plain": [
       "           W0     v0         y\n",
       "0   -0.717459  False -1.692584\n",
       "1   -0.361556  False  0.124224\n",
       "2    0.428248   True  6.760752\n",
       "3   -0.379635  False -2.450493\n",
       "4   -0.430361   True  3.705406\n",
       "..        ...    ...       ...\n",
       "995 -0.456266   True  5.822778\n",
       "996  1.191536   True  9.257252\n",
       "997 -0.728573  False -2.211561\n",
       "998 -0.631663  False -0.585232\n",
       "999 -1.143108   True  0.438680\n",
       "\n",
       "[1000 rows x 3 columns]"
      ]
     },
     "execution_count": 2,
     "metadata": {},
     "output_type": "execute_result"
    }
   ],
   "source": [
    "data = dowhy.datasets.linear_dataset(beta=5,\n",
    "        num_common_causes=1,\n",
    "        num_instruments = 0,\n",
    "        num_samples=1000,\n",
    "        treatment_is_binary=True)\n",
    "df = data['df']\n",
    "df['y'] = df['y'] + np.random.normal(size=len(df)) # Adding noise to data. Without noise, the variance in Y|X, Z is zero, and mcmc fails.\n",
    "#data['dot_graph'] = 'digraph { v ->y;X0-> v;X0-> y;}'\n",
    "\n",
    "treatment= data[\"treatment_name\"][0]\n",
    "outcome = data[\"outcome_name\"][0]\n",
    "common_cause = data[\"common_causes_names\"][0]\n",
    "df"
   ]
  },
  {
   "cell_type": "code",
   "execution_count": 3,
   "metadata": {
    "execution": {
     "iopub.execute_input": "2023-03-16T23:22:34.919620Z",
     "iopub.status.busy": "2023-03-16T23:22:34.919164Z",
     "iopub.status.idle": "2023-03-16T23:22:35.153190Z",
     "shell.execute_reply": "2023-03-16T23:22:35.152335Z"
    }
   },
   "outputs": [
    {
     "data": {
      "text/plain": [
       "<AxesSubplot: xlabel='v0'>"
      ]
     },
     "execution_count": 3,
     "metadata": {},
     "output_type": "execute_result"
    },
    {
     "data": {
      "image/png": "[encoded data removed]",
      "text/plain": [
       "<Figure size 640x480 with 1 Axes>"
      ]
     },
     "metadata": {},
     "output_type": "display_data"
    }
   ],
   "source": [
    "# data['df'] is just a regular pandas.DataFrame\n",
    "df.causal.do(x=treatment,\n",
    "                     variable_types={treatment: 'b', outcome: 'c', common_cause: 'c'},\n",
    "                     outcome=outcome,\n",
    "                     common_causes=[common_cause],\n",
    "                     proceed_when_unidentifiable=True).groupby(treatment).mean().plot(y=outcome, kind='bar')"
   ]
  },
  {
   "cell_type": "code",
   "execution_count": 4,
   "metadata": {
    "execution": {
     "iopub.execute_input": "2023-03-16T23:22:35.157152Z",
     "iopub.status.busy": "2023-03-16T23:22:35.156568Z",
     "iopub.status.idle": "2023-03-16T23:22:35.334221Z",
     "shell.execute_reply": "2023-03-16T23:22:35.333480Z"
    }
   },
   "outputs": [
    {
     "data": {
      "text/plain": [
       "<AxesSubplot: xlabel='v0'>"
      ]
     },
     "execution_count": 4,
     "metadata": {},
     "output_type": "execute_result"
    },
    {
     "data": {
      "image/png": "[encoded data removed]",
      "text/plain": [
       "<Figure size 640x480 with 1 Axes>"
      ]
     },
     "metadata": {},
     "output_type": "display_data"
    }
   ],
   "source": [
    "df.causal.do(x={treatment: 1}, \n",
    "              variable_types={treatment:'b', outcome: 'c', common_cause: 'c'}, \n",
    "              outcome=outcome,\n",
    "              method='weighting', \n",
    "              common_causes=[common_cause],\n",
    "              proceed_when_unidentifiable=True).groupby(treatment).mean().plot(y=outcome, kind='bar')"
   ]
  },
  {
   "cell_type": "code",
   "execution_count": 5,
   "metadata": {
    "execution": {
     "iopub.execute_input": "2023-03-16T23:22:35.338349Z",
     "iopub.status.busy": "2023-03-16T23:22:35.337555Z",
     "iopub.status.idle": "2023-03-16T23:22:35.513320Z",
     "shell.execute_reply": "2023-03-16T23:22:35.512360Z"
    }
   },
   "outputs": [],
   "source": [
    "cdf_1 = df.causal.do(x={treatment: 1}, \n",
    "              variable_types={treatment: 'b', outcome: 'c', common_cause: 'c'}, \n",
    "              outcome=outcome, \n",
    "              dot_graph=data['dot_graph'],\n",
    "              proceed_when_unidentifiable=True)\n",
    "\n",
    "cdf_0 = df.causal.do(x={treatment: 0}, \n",
    "              variable_types={treatment: 'b', outcome: 'c', common_cause: 'c'}, \n",
    "              outcome=outcome, \n",
    "              dot_graph=data['dot_graph'],\n",
    "              proceed_when_unidentifiable=True)\n"
   ]
  },
  {
   "cell_type": "code",
   "execution_count": 6,
   "metadata": {
    "execution": {
     "iopub.execute_input": "2023-03-16T23:22:35.517708Z",
     "iopub.status.busy": "2023-03-16T23:22:35.517403Z",
     "iopub.status.idle": "2023-03-16T23:22:35.531379Z",
     "shell.execute_reply": "2023-03-16T23:22:35.530662Z"
    },
    "scrolled": true
   },
   "outputs": [
    {
     "data": {
      "text/html": [
       "<div>\n",
       "<style scoped>\n",
       "    .dataframe tbody tr th:only-of-type {\n",
       "        vertical-align: middle;\n",
       "    }\n",
       "\n",
       "    .dataframe tbody tr th {\n",
       "        vertical-align: top;\n",
       "    }\n",
       "\n",
       "    .dataframe thead th {\n",
       "        text-align: right;\n",
       "    }\n",
       "</style>\n",
       "<table border=\"1\" class=\"dataframe\">\n",
       "  <thead>\n",
       "    <tr style=\"text-align: right;\">\n",
       "      <th></th>\n",
       "      <th>W0</th>\n",
       "      <th>v0</th>\n",
       "      <th>y</th>\n",
       "      <th>propensity_score</th>\n",
       "      <th>weight</th>\n",
       "    </tr>\n",
       "  </thead>\n",
       "  <tbody>\n",
       "    <tr>\n",
       "      <th>0</th>\n",
       "      <td>-1.712302</td>\n",
       "      <td>False</td>\n",
       "      <td>-5.125201</td>\n",
       "      <td>0.801922</td>\n",
       "      <td>1.247004</td>\n",
       "    </tr>\n",
       "    <tr>\n",
       "      <th>1</th>\n",
       "      <td>-0.294576</td>\n",
       "      <td>False</td>\n",
       "      <td>-1.635341</td>\n",
       "      <td>0.558388</td>\n",
       "      <td>1.790869</td>\n",
       "    </tr>\n",
       "    <tr>\n",
       "      <th>2</th>\n",
       "      <td>-0.407374</td>\n",
       "      <td>False</td>\n",
       "      <td>-1.443416</td>\n",
       "      <td>0.581081</td>\n",
       "      <td>1.720930</td>\n",
       "    </tr>\n",
       "    <tr>\n",
       "      <th>3</th>\n",
       "      <td>0.093182</td>\n",
       "      <td>False</td>\n",
       "      <td>1.120992</td>\n",
       "      <td>0.479096</td>\n",
       "      <td>2.087263</td>\n",
       "    </tr>\n",
       "    <tr>\n",
       "      <th>4</th>\n",
       "      <td>-0.971097</td>\n",
       "      <td>False</td>\n",
       "      <td>-1.965397</td>\n",
       "      <td>0.687818</td>\n",
       "      <td>1.453873</td>\n",
       "    </tr>\n",
       "    <tr>\n",
       "      <th>...</th>\n",
       "      <td>...</td>\n",
       "      <td>...</td>\n",
       "      <td>...</td>\n",
       "      <td>...</td>\n",
       "      <td>...</td>\n",
       "    </tr>\n",
       "    <tr>\n",
       "      <th>995</th>\n",
       "      <td>-0.828097</td>\n",
       "      <td>False</td>\n",
       "      <td>-2.090050</td>\n",
       "      <td>0.662076</td>\n",
       "      <td>1.510401</td>\n",
       "    </tr>\n",
       "    <tr>\n",
       "      <th>996</th>\n",
       "      <td>-3.560854</td>\n",
       "      <td>False</td>\n",
       "      <td>-11.282238</td>\n",
       "      <td>0.948618</td>\n",
       "      <td>1.054165</td>\n",
       "    </tr>\n",
       "    <tr>\n",
       "      <th>997</th>\n",
       "      <td>-0.640465</td>\n",
       "      <td>False</td>\n",
       "      <td>-2.553929</td>\n",
       "      <td>0.626807</td>\n",
       "      <td>1.595388</td>\n",
       "    </tr>\n",
       "    <tr>\n",
       "      <th>998</th>\n",
       "      <td>-0.857967</td>\n",
       "      <td>False</td>\n",
       "      <td>-1.680545</td>\n",
       "      <td>0.667539</td>\n",
       "      <td>1.498039</td>\n",
       "    </tr>\n",
       "    <tr>\n",
       "      <th>999</th>\n",
       "      <td>-1.217291</td>\n",
       "      <td>False</td>\n",
       "      <td>-3.439552</td>\n",
       "      <td>0.729488</td>\n",
       "      <td>1.370825</td>\n",
       "    </tr>\n",
       "  </tbody>\n",
       "</table>\n",
       "<p>1000 rows × 5 columns</p>\n",
       "</div>"
      ],
      "text/plain": [
       "           W0     v0          y  propensity_score    weight\n",
       "0   -1.712302  False  -5.125201          0.801922  1.247004\n",
       "1   -0.294576  False  -1.635341          0.558388  1.790869\n",
       "2   -0.407374  False  -1.443416          0.581081  1.720930\n",
       "3    0.093182  False   1.120992          0.479096  2.087263\n",
       "4   -0.971097  False  -1.965397          0.687818  1.453873\n",
       "..        ...    ...        ...               ...       ...\n",
       "995 -0.828097  False  -2.090050          0.662076  1.510401\n",
       "996 -3.560854  False -11.282238          0.948618  1.054165\n",
       "997 -0.640465  False  -2.553929          0.626807  1.595388\n",
       "998 -0.857967  False  -1.680545          0.667539  1.498039\n",
       "999 -1.217291  False  -3.439552          0.729488  1.370825\n",
       "\n",
       "[1000 rows x 5 columns]"
      ]
     },
     "execution_count": 6,
     "metadata": {},
     "output_type": "execute_result"
    }
   ],
   "source": [
    "cdf_0"
   ]
  },
  {
   "cell_type": "code",
   "execution_count": 7,
   "metadata": {
    "execution": {
     "iopub.execute_input": "2023-03-16T23:22:35.534825Z",
     "iopub.status.busy": "2023-03-16T23:22:35.534277Z",
     "iopub.status.idle": "2023-03-16T23:22:35.549048Z",
     "shell.execute_reply": "2023-03-16T23:22:35.548154Z"
    }
   },
   "outputs": [
    {
     "data": {
      "text/html": [
       "<div>\n",
       "<style scoped>\n",
       "    .dataframe tbody tr th:only-of-type {\n",
       "        vertical-align: middle;\n",
       "    }\n",
       "\n",
       "    .dataframe tbody tr th {\n",
       "        vertical-align: top;\n",
       "    }\n",
       "\n",
       "    .dataframe thead th {\n",
       "        text-align: right;\n",
       "    }\n",
       "</style>\n",
       "<table border=\"1\" class=\"dataframe\">\n",
       "  <thead>\n",
       "    <tr style=\"text-align: right;\">\n",
       "      <th></th>\n",
       "      <th>W0</th>\n",
       "      <th>v0</th>\n",
       "      <th>y</th>\n",
       "      <th>propensity_score</th>\n",
       "      <th>weight</th>\n",
       "    </tr>\n",
       "  </thead>\n",
       "  <tbody>\n",
       "    <tr>\n",
       "      <th>0</th>\n",
       "      <td>-0.871773</td>\n",
       "      <td>True</td>\n",
       "      <td>2.175955</td>\n",
       "      <td>0.329950</td>\n",
       "      <td>3.030759</td>\n",
       "    </tr>\n",
       "    <tr>\n",
       "      <th>1</th>\n",
       "      <td>-1.540266</td>\n",
       "      <td>True</td>\n",
       "      <td>0.832702</td>\n",
       "      <td>0.221467</td>\n",
       "      <td>4.515335</td>\n",
       "    </tr>\n",
       "    <tr>\n",
       "      <th>2</th>\n",
       "      <td>0.065539</td>\n",
       "      <td>True</td>\n",
       "      <td>6.514182</td>\n",
       "      <td>0.515239</td>\n",
       "      <td>1.940848</td>\n",
       "    </tr>\n",
       "    <tr>\n",
       "      <th>3</th>\n",
       "      <td>-3.176252</td>\n",
       "      <td>True</td>\n",
       "      <td>-2.393652</td>\n",
       "      <td>0.069137</td>\n",
       "      <td>14.463981</td>\n",
       "    </tr>\n",
       "    <tr>\n",
       "      <th>4</th>\n",
       "      <td>-2.116389</td>\n",
       "      <td>True</td>\n",
       "      <td>-0.835946</td>\n",
       "      <td>0.150582</td>\n",
       "      <td>6.640879</td>\n",
       "    </tr>\n",
       "    <tr>\n",
       "      <th>...</th>\n",
       "      <td>...</td>\n",
       "      <td>...</td>\n",
       "      <td>...</td>\n",
       "      <td>...</td>\n",
       "      <td>...</td>\n",
       "    </tr>\n",
       "    <tr>\n",
       "      <th>995</th>\n",
       "      <td>1.021000</td>\n",
       "      <td>True</td>\n",
       "      <td>7.034159</td>\n",
       "      <td>0.699571</td>\n",
       "      <td>1.429448</td>\n",
       "    </tr>\n",
       "    <tr>\n",
       "      <th>996</th>\n",
       "      <td>0.065539</td>\n",
       "      <td>True</td>\n",
       "      <td>6.514182</td>\n",
       "      <td>0.515239</td>\n",
       "      <td>1.940848</td>\n",
       "    </tr>\n",
       "    <tr>\n",
       "      <th>997</th>\n",
       "      <td>-0.823665</td>\n",
       "      <td>True</td>\n",
       "      <td>3.454207</td>\n",
       "      <td>0.338739</td>\n",
       "      <td>2.952129</td>\n",
       "    </tr>\n",
       "    <tr>\n",
       "      <th>998</th>\n",
       "      <td>-1.253909</td>\n",
       "      <td>True</td>\n",
       "      <td>2.667940</td>\n",
       "      <td>0.264622</td>\n",
       "      <td>3.778975</td>\n",
       "    </tr>\n",
       "    <tr>\n",
       "      <th>999</th>\n",
       "      <td>-1.359616</td>\n",
       "      <td>True</td>\n",
       "      <td>2.050291</td>\n",
       "      <td>0.248085</td>\n",
       "      <td>4.030874</td>\n",
       "    </tr>\n",
       "  </tbody>\n",
       "</table>\n",
       "<p>1000 rows × 5 columns</p>\n",
       "</div>"
      ],
      "text/plain": [
       "           W0    v0         y  propensity_score     weight\n",
       "0   -0.871773  True  2.175955          0.329950   3.030759\n",
       "1   -1.540266  True  0.832702          0.221467   4.515335\n",
       "2    0.065539  True  6.514182          0.515239   1.940848\n",
       "3   -3.176252  True -2.393652          0.069137  14.463981\n",
       "4   -2.116389  True -0.835946          0.150582   6.640879\n",
       "..        ...   ...       ...               ...        ...\n",
       "995  1.021000  True  7.034159          0.699571   1.429448\n",
       "996  0.065539  True  6.514182          0.515239   1.940848\n",
       "997 -0.823665  True  3.454207          0.338739   2.952129\n",
       "998 -1.253909  True  2.667940          0.264622   3.778975\n",
       "999 -1.359616  True  2.050291          0.248085   4.030874\n",
       "\n",
       "[1000 rows x 5 columns]"
      ]
     },
     "execution_count": 7,
     "metadata": {},
     "output_type": "execute_result"
    }
   ],
   "source": [
    "cdf_1"
   ]
  },
  {
   "cell_type": "markdown",
   "metadata": {},
   "source": [
    "## Comparing the estimate to Linear Regression\n",
    "First, estimating the effect using the causal data frame, and the 95% confidence interval."
   ]
  },
  {
   "cell_type": "code",
   "execution_count": 8,
   "metadata": {
    "execution": {
     "iopub.execute_input": "2023-03-16T23:22:35.553368Z",
     "iopub.status.busy": "2023-03-16T23:22:35.553064Z",
     "iopub.status.idle": "2023-03-16T23:22:35.621517Z",
     "shell.execute_reply": "2023-03-16T23:22:35.620677Z"
    }
   },
   "outputs": [
    {
     "data": {
      "image/png": "[encoded data removed]",
      "text/latex": [
       "$\\displaystyle 4.90240136055393$"
      ],
      "text/plain": [
       "4.902401360553931"
      ]
     },
     "execution_count": 8,
     "metadata": {},
     "output_type": "execute_result"
    }
   ],
   "source": [
    "(cdf_1['y'] - cdf_0['y']).mean()"
   ]
  },
  {
   "cell_type": "code",
   "execution_count": 9,
   "metadata": {
    "execution": {
     "iopub.execute_input": "2023-03-16T23:22:35.625893Z",
     "iopub.status.busy": "2023-03-16T23:22:35.625562Z",
     "iopub.status.idle": "2023-03-16T23:22:35.658659Z",
     "shell.execute_reply": "2023-03-16T23:22:35.657731Z"
    }
   },
   "outputs": [
    {
     "data": {
      "image/png": "[encoded data removed]",
      "text/latex": [
       "$\\displaystyle 0.243556948062188$"
      ],
      "text/plain": [
       "0.24355694806218756"
      ]
     },
     "execution_count": 9,
     "metadata": {},
     "output_type": "execute_result"
    }
   ],
   "source": [
    "1.96*(cdf_1['y'] - cdf_0['y']).std() / np.sqrt(len(df))"
   ]
  },
  {
   "cell_type": "markdown",
   "metadata": {},
   "source": [
    "Comparing to the estimate from OLS."
   ]
  },
  {
   "cell_type": "code",
   "execution_count": 10,
   "metadata": {
    "execution": {
     "iopub.execute_input": "2023-03-16T23:22:35.662743Z",
     "iopub.status.busy": "2023-03-16T23:22:35.662439Z",
     "iopub.status.idle": "2023-03-16T23:22:35.683378Z",
     "shell.execute_reply": "2023-03-16T23:22:35.682482Z"
    }
   },
   "outputs": [
    {
     "data": {
      "text/html": [
       "<table class=\"simpletable\">\n",
       "<caption>OLS Regression Results</caption>\n",
       "<tr>\n",
       "  <th>Dep. Variable:</th>            <td>y</td>        <th>  R-squared (uncentered):</th>      <td>   0.944</td>\n",
       "</tr>\n",
       "<tr>\n",
       "  <th>Model:</th>                   <td>OLS</td>       <th>  Adj. R-squared (uncentered):</th> <td>   0.944</td>\n",
       "</tr>\n",
       "<tr>\n",
       "  <th>Method:</th>             <td>Least Squares</td>  <th>  F-statistic:       </th>          <td>   8483.</td>\n",
       "</tr>\n",
       "<tr>\n",
       "  <th>Date:</th>             <td>Thu, 16 Mar 2023</td> <th>  Prob (F-statistic):</th>           <td>  0.00</td> \n",
       "</tr>\n",
       "<tr>\n",
       "  <th>Time:</th>                 <td>23:22:35</td>     <th>  Log-Likelihood:    </th>          <td> -1443.2</td>\n",
       "</tr>\n",
       "<tr>\n",
       "  <th>No. Observations:</th>      <td>  1000</td>      <th>  AIC:               </th>          <td>   2890.</td>\n",
       "</tr>\n",
       "<tr>\n",
       "  <th>Df Residuals:</th>          <td>   998</td>      <th>  BIC:               </th>          <td>   2900.</td>\n",
       "</tr>\n",
       "<tr>\n",
       "  <th>Df Model:</th>              <td>     2</td>      <th>                     </th>              <td> </td>   \n",
       "</tr>\n",
       "<tr>\n",
       "  <th>Covariance Type:</th>      <td>nonrobust</td>    <th>                     </th>              <td> </td>   \n",
       "</tr>\n",
       "</table>\n",
       "<table class=\"simpletable\">\n",
       "<tr>\n",
       "   <td></td>     <th>coef</th>     <th>std err</th>      <th>t</th>      <th>P>|t|</th>  <th>[0.025</th>    <th>0.975]</th>  \n",
       "</tr>\n",
       "<tr>\n",
       "  <th>x1</th> <td>    2.6457</td> <td>    0.025</td> <td>  104.309</td> <td> 0.000</td> <td>    2.596</td> <td>    2.695</td>\n",
       "</tr>\n",
       "<tr>\n",
       "  <th>x2</th> <td>    5.0352</td> <td>    0.054</td> <td>   92.631</td> <td> 0.000</td> <td>    4.929</td> <td>    5.142</td>\n",
       "</tr>\n",
       "</table>\n",
       "<table class=\"simpletable\">\n",
       "<tr>\n",
       "  <th>Omnibus:</th>       <td> 0.207</td> <th>  Durbin-Watson:     </th> <td>   2.002</td>\n",
       "</tr>\n",
       "<tr>\n",
       "  <th>Prob(Omnibus):</th> <td> 0.902</td> <th>  Jarque-Bera (JB):  </th> <td>   0.251</td>\n",
       "</tr>\n",
       "<tr>\n",
       "  <th>Skew:</th>          <td>-0.032</td> <th>  Prob(JB):          </th> <td>   0.882</td>\n",
       "</tr>\n",
       "<tr>\n",
       "  <th>Kurtosis:</th>      <td> 2.957</td> <th>  Cond. No.          </th> <td>    2.18</td>\n",
       "</tr>\n",
       "</table><br/><br/>Notes:<br/>[1] R² is computed without centering (uncentered) since the model does not contain a constant.<br/>[2] Standard Errors assume that the covariance matrix of the errors is correctly specified."
      ],
      "text/plain": [
       "<class 'statsmodels.iolib.summary.Summary'>\n",
       "\"\"\"\n",
       "                                 OLS Regression Results                                \n",
       "=======================================================================================\n",
       "Dep. Variable:                      y   R-squared (uncentered):                   0.944\n",
       "Model:                            OLS   Adj. R-squared (uncentered):              0.944\n",
       "Method:                 Least Squares   F-statistic:                              8483.\n",
       "Date:                Thu, 16 Mar 2023   Prob (F-statistic):                        0.00\n",
       "Time:                        23:22:35   Log-Likelihood:                         -1443.2\n",
       "No. Observations:                1000   AIC:                                      2890.\n",
       "Df Residuals:                     998   BIC:                                      2900.\n",
       "Df Model:                           2                                                  \n",
       "Covariance Type:            nonrobust                                                  \n",
       "==============================================================================\n",
       "                 coef    std err          t      P>|t|      [0.025      0.975]\n",
       "------------------------------------------------------------------------------\n",
       "x1             2.6457      0.025    104.309      0.000       2.596       2.695\n",
       "x2             5.0352      0.054     92.631      0.000       4.929       5.142\n",
       "==============================================================================\n",
       "Omnibus:                        0.207   Durbin-Watson:                   2.002\n",
       "Prob(Omnibus):                  0.902   Jarque-Bera (JB):                0.251\n",
       "Skew:                          -0.032   Prob(JB):                        0.882\n",
       "Kurtosis:                       2.957   Cond. No.                         2.18\n",
       "==============================================================================\n",
       "\n",
       "Notes:\n",
       "[1] R² is computed without centering (uncentered) since the model does not contain a constant.\n",
       "[2] Standard Errors assume that the covariance matrix of the errors is correctly specified.\n",
       "\"\"\""
      ]
     },
     "execution_count": 10,
     "metadata": {},
     "output_type": "execute_result"
    }
   ],
   "source": [
    "model = OLS(np.asarray(df[outcome]), np.asarray(df[[common_cause, treatment]], dtype=np.float64))\n",
    "result = model.fit()\n",
    "result.summary()"
   ]
  }
 ],
 "metadata": {
  "kernelspec": {
   "display_name": "Python 3",
   "language": "python",
   "name": "python3"
  },
  "language_info": {
   "codemirror_mode": {
    "name": "ipython",
    "version": 3
   },
   "file_extension": ".py",
   "mimetype": "text/x-python",
   "name": "python",
   "nbconvert_exporter": "python",
   "pygments_lexer": "ipython3",
   "version": "3.8.10"
  },
  "toc": {
   "base_numbering": 1,
   "nav_menu": {},
   "number_sections": false,
   "sideBar": true,
   "skip_h1_title": true,
   "title_cell": "Table of Contents",
   "title_sidebar": "Contents",
   "toc_cell": false,
   "toc_position": {},
   "toc_section_display": true,
   "toc_window_display": false
  }
 },
 "nbformat": 4,
 "nbformat_minor": 4
}
