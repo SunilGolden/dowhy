{
 "cells": [
  {
   "cell_type": "markdown",
   "metadata": {},
   "source": [
    "# Demo for the DoWhy causal API\n",
    "We show a simple example of adding a causal extension to any dataframe. "
   ]
  },
  {
   "cell_type": "code",
   "execution_count": 1,
   "metadata": {
    "execution": {
     "iopub.execute_input": "2023-12-04T07:27:39.597281Z",
     "iopub.status.busy": "2023-12-04T07:27:39.597109Z",
     "iopub.status.idle": "2023-12-04T07:27:40.922157Z",
     "shell.execute_reply": "2023-12-04T07:27:40.921503Z"
    }
   },
   "outputs": [],
   "source": [
    "import dowhy.datasets\n",
    "import dowhy.api\n",
    "from dowhy.graph import build_graph_from_str\n",
    "\n",
    "import numpy as np\n",
    "import pandas as pd\n",
    "\n",
    "from statsmodels.api import OLS"
   ]
  },
  {
   "cell_type": "code",
   "execution_count": 2,
   "metadata": {
    "execution": {
     "iopub.execute_input": "2023-12-04T07:27:40.924899Z",
     "iopub.status.busy": "2023-12-04T07:27:40.924609Z",
     "iopub.status.idle": "2023-12-04T07:27:40.960814Z",
     "shell.execute_reply": "2023-12-04T07:27:40.960242Z"
    }
   },
   "outputs": [
    {
     "data": {
      "text/html": [
       "<div>\n",
       "<style scoped>\n",
       "    .dataframe tbody tr th:only-of-type {\n",
       "        vertical-align: middle;\n",
       "    }\n",
       "\n",
       "    .dataframe tbody tr th {\n",
       "        vertical-align: top;\n",
       "    }\n",
       "\n",
       "    .dataframe thead th {\n",
       "        text-align: right;\n",
       "    }\n",
       "</style>\n",
       "<table border=\"1\" class=\"dataframe\">\n",
       "  <thead>\n",
       "    <tr style=\"text-align: right;\">\n",
       "      <th></th>\n",
       "      <th>W0</th>\n",
       "      <th>v0</th>\n",
       "      <th>y</th>\n",
       "    </tr>\n",
       "  </thead>\n",
       "  <tbody>\n",
       "    <tr>\n",
       "      <th>0</th>\n",
       "      <td>-0.447002</td>\n",
       "      <td>False</td>\n",
       "      <td>1.174281</td>\n",
       "    </tr>\n",
       "    <tr>\n",
       "      <th>1</th>\n",
       "      <td>-1.050126</td>\n",
       "      <td>True</td>\n",
       "      <td>3.629040</td>\n",
       "    </tr>\n",
       "    <tr>\n",
       "      <th>2</th>\n",
       "      <td>-1.501111</td>\n",
       "      <td>True</td>\n",
       "      <td>3.988870</td>\n",
       "    </tr>\n",
       "    <tr>\n",
       "      <th>3</th>\n",
       "      <td>-0.039659</td>\n",
       "      <td>True</td>\n",
       "      <td>5.017016</td>\n",
       "    </tr>\n",
       "    <tr>\n",
       "      <th>4</th>\n",
       "      <td>2.017563</td>\n",
       "      <td>True</td>\n",
       "      <td>6.804364</td>\n",
       "    </tr>\n",
       "    <tr>\n",
       "      <th>...</th>\n",
       "      <td>...</td>\n",
       "      <td>...</td>\n",
       "      <td>...</td>\n",
       "    </tr>\n",
       "    <tr>\n",
       "      <th>995</th>\n",
       "      <td>-1.314308</td>\n",
       "      <td>False</td>\n",
       "      <td>1.977641</td>\n",
       "    </tr>\n",
       "    <tr>\n",
       "      <th>996</th>\n",
       "      <td>-0.179341</td>\n",
       "      <td>True</td>\n",
       "      <td>4.110115</td>\n",
       "    </tr>\n",
       "    <tr>\n",
       "      <th>997</th>\n",
       "      <td>0.458268</td>\n",
       "      <td>True</td>\n",
       "      <td>3.277740</td>\n",
       "    </tr>\n",
       "    <tr>\n",
       "      <th>998</th>\n",
       "      <td>-0.868252</td>\n",
       "      <td>False</td>\n",
       "      <td>-0.860965</td>\n",
       "    </tr>\n",
       "    <tr>\n",
       "      <th>999</th>\n",
       "      <td>0.151031</td>\n",
       "      <td>False</td>\n",
       "      <td>-0.620620</td>\n",
       "    </tr>\n",
       "  </tbody>\n",
       "</table>\n",
       "<p>1000 rows × 3 columns</p>\n",
       "</div>"
      ],
      "text/plain": [
       "           W0     v0         y\n",
       "0   -0.447002  False  1.174281\n",
       "1   -1.050126   True  3.629040\n",
       "2   -1.501111   True  3.988870\n",
       "3   -0.039659   True  5.017016\n",
       "4    2.017563   True  6.804364\n",
       "..        ...    ...       ...\n",
       "995 -1.314308  False  1.977641\n",
       "996 -0.179341   True  4.110115\n",
       "997  0.458268   True  3.277740\n",
       "998 -0.868252  False -0.860965\n",
       "999  0.151031  False -0.620620\n",
       "\n",
       "[1000 rows x 3 columns]"
      ]
     },
     "execution_count": 2,
     "metadata": {},
     "output_type": "execute_result"
    }
   ],
   "source": [
    "data = dowhy.datasets.linear_dataset(beta=5,\n",
    "        num_common_causes=1,\n",
    "        num_instruments = 0,\n",
    "        num_samples=1000,\n",
    "        treatment_is_binary=True)\n",
    "df = data['df']\n",
    "df['y'] = df['y'] + np.random.normal(size=len(df)) # Adding noise to data. Without noise, the variance in Y|X, Z is zero, and mcmc fails.\n",
    "nx_graph = build_graph_from_str(data[\"dot_graph\"])\n",
    "\n",
    "treatment= data[\"treatment_name\"][0]\n",
    "outcome = data[\"outcome_name\"][0]\n",
    "common_cause = data[\"common_causes_names\"][0]\n",
    "df"
   ]
  },
  {
   "cell_type": "code",
   "execution_count": 3,
   "metadata": {
    "execution": {
     "iopub.execute_input": "2023-12-04T07:27:40.963134Z",
     "iopub.status.busy": "2023-12-04T07:27:40.962701Z",
     "iopub.status.idle": "2023-12-04T07:27:41.138885Z",
     "shell.execute_reply": "2023-12-04T07:27:41.138270Z"
    },
    "scrolled": true
   },
   "outputs": [
    {
     "data": {
      "text/plain": [
       "<Axes: xlabel='v0'>"
      ]
     },
     "execution_count": 3,
     "metadata": {},
     "output_type": "execute_result"
    },
    {
     "data": {
      "image/png": "[encoded data removed]",
      "text/plain": [
       "<Figure size 640x480 with 1 Axes>"
      ]
     },
     "metadata": {},
     "output_type": "display_data"
    }
   ],
   "source": [
    "# data['df'] is just a regular pandas.DataFrame\n",
    "df.causal.do(x=treatment,\n",
    "             variable_types={treatment: 'b', outcome: 'c', common_cause: 'c'},\n",
    "             outcome=outcome,\n",
    "             common_causes=[common_cause],\n",
    "            ).groupby(treatment).mean().plot(y=outcome, kind='bar')"
   ]
  },
  {
   "cell_type": "code",
   "execution_count": 4,
   "metadata": {
    "execution": {
     "iopub.execute_input": "2023-12-04T07:27:41.141432Z",
     "iopub.status.busy": "2023-12-04T07:27:41.141058Z",
     "iopub.status.idle": "2023-12-04T07:27:41.271633Z",
     "shell.execute_reply": "2023-12-04T07:27:41.271046Z"
    }
   },
   "outputs": [
    {
     "data": {
      "text/plain": [
       "<Axes: xlabel='v0'>"
      ]
     },
     "execution_count": 4,
     "metadata": {},
     "output_type": "execute_result"
    },
    {
     "data": {
      "image/png": "[encoded data removed]",
      "text/plain": [
       "<Figure size 640x480 with 1 Axes>"
      ]
     },
     "metadata": {},
     "output_type": "display_data"
    }
   ],
   "source": [
    "df.causal.do(x={treatment: 1}, \n",
    "              variable_types={treatment:'b', outcome: 'c', common_cause: 'c'}, \n",
    "              outcome=outcome,\n",
    "              method='weighting', \n",
    "              common_causes=[common_cause]\n",
    "              ).groupby(treatment).mean().plot(y=outcome, kind='bar')"
   ]
  },
  {
   "cell_type": "code",
   "execution_count": 5,
   "metadata": {
    "execution": {
     "iopub.execute_input": "2023-12-04T07:27:41.274641Z",
     "iopub.status.busy": "2023-12-04T07:27:41.274176Z",
     "iopub.status.idle": "2023-12-04T07:27:41.293912Z",
     "shell.execute_reply": "2023-12-04T07:27:41.293399Z"
    }
   },
   "outputs": [],
   "source": [
    "cdf_1 = df.causal.do(x={treatment: 1}, \n",
    "              variable_types={treatment: 'b', outcome: 'c', common_cause: 'c'}, \n",
    "              outcome=outcome, \n",
    "              graph=nx_graph\n",
    "              )\n",
    "\n",
    "cdf_0 = df.causal.do(x={treatment: 0}, \n",
    "              variable_types={treatment: 'b', outcome: 'c', common_cause: 'c'}, \n",
    "              outcome=outcome, \n",
    "              graph=nx_graph\n",
    "              )\n"
   ]
  },
  {
   "cell_type": "code",
   "execution_count": 6,
   "metadata": {
    "execution": {
     "iopub.execute_input": "2023-12-04T07:27:41.296065Z",
     "iopub.status.busy": "2023-12-04T07:27:41.295887Z",
     "iopub.status.idle": "2023-12-04T07:27:41.304845Z",
     "shell.execute_reply": "2023-12-04T07:27:41.304331Z"
    },
    "scrolled": true
   },
   "outputs": [
    {
     "data": {
      "text/html": [
       "<div>\n",
       "<style scoped>\n",
       "    .dataframe tbody tr th:only-of-type {\n",
       "        vertical-align: middle;\n",
       "    }\n",
       "\n",
       "    .dataframe tbody tr th {\n",
       "        vertical-align: top;\n",
       "    }\n",
       "\n",
       "    .dataframe thead th {\n",
       "        text-align: right;\n",
       "    }\n",
       "</style>\n",
       "<table border=\"1\" class=\"dataframe\">\n",
       "  <thead>\n",
       "    <tr style=\"text-align: right;\">\n",
       "      <th></th>\n",
       "      <th>W0</th>\n",
       "      <th>v0</th>\n",
       "      <th>y</th>\n",
       "      <th>propensity_score</th>\n",
       "      <th>weight</th>\n",
       "    </tr>\n",
       "  </thead>\n",
       "  <tbody>\n",
       "    <tr>\n",
       "      <th>0</th>\n",
       "      <td>0.247441</td>\n",
       "      <td>False</td>\n",
       "      <td>0.763612</td>\n",
       "      <td>0.485976</td>\n",
       "      <td>2.057715</td>\n",
       "    </tr>\n",
       "    <tr>\n",
       "      <th>1</th>\n",
       "      <td>-0.579738</td>\n",
       "      <td>False</td>\n",
       "      <td>-0.883542</td>\n",
       "      <td>0.540495</td>\n",
       "      <td>1.850155</td>\n",
       "    </tr>\n",
       "    <tr>\n",
       "      <th>2</th>\n",
       "      <td>1.670246</td>\n",
       "      <td>False</td>\n",
       "      <td>1.425550</td>\n",
       "      <td>0.393683</td>\n",
       "      <td>2.540114</td>\n",
       "    </tr>\n",
       "    <tr>\n",
       "      <th>3</th>\n",
       "      <td>0.744647</td>\n",
       "      <td>False</td>\n",
       "      <td>0.123407</td>\n",
       "      <td>0.453282</td>\n",
       "      <td>2.206130</td>\n",
       "    </tr>\n",
       "    <tr>\n",
       "      <th>4</th>\n",
       "      <td>1.168095</td>\n",
       "      <td>False</td>\n",
       "      <td>0.720391</td>\n",
       "      <td>0.425742</td>\n",
       "      <td>2.348839</td>\n",
       "    </tr>\n",
       "    <tr>\n",
       "      <th>...</th>\n",
       "      <td>...</td>\n",
       "      <td>...</td>\n",
       "      <td>...</td>\n",
       "      <td>...</td>\n",
       "      <td>...</td>\n",
       "    </tr>\n",
       "    <tr>\n",
       "      <th>995</th>\n",
       "      <td>1.160384</td>\n",
       "      <td>False</td>\n",
       "      <td>0.889498</td>\n",
       "      <td>0.426240</td>\n",
       "      <td>2.346095</td>\n",
       "    </tr>\n",
       "    <tr>\n",
       "      <th>996</th>\n",
       "      <td>0.832942</td>\n",
       "      <td>False</td>\n",
       "      <td>-0.186731</td>\n",
       "      <td>0.447510</td>\n",
       "      <td>2.234585</td>\n",
       "    </tr>\n",
       "    <tr>\n",
       "      <th>997</th>\n",
       "      <td>0.732046</td>\n",
       "      <td>False</td>\n",
       "      <td>-0.132362</td>\n",
       "      <td>0.454107</td>\n",
       "      <td>2.202123</td>\n",
       "    </tr>\n",
       "    <tr>\n",
       "      <th>998</th>\n",
       "      <td>0.944275</td>\n",
       "      <td>False</td>\n",
       "      <td>0.483526</td>\n",
       "      <td>0.440253</td>\n",
       "      <td>2.271423</td>\n",
       "    </tr>\n",
       "    <tr>\n",
       "      <th>999</th>\n",
       "      <td>1.174693</td>\n",
       "      <td>False</td>\n",
       "      <td>-0.133308</td>\n",
       "      <td>0.425316</td>\n",
       "      <td>2.351192</td>\n",
       "    </tr>\n",
       "  </tbody>\n",
       "</table>\n",
       "<p>1000 rows × 5 columns</p>\n",
       "</div>"
      ],
      "text/plain": [
       "           W0     v0         y  propensity_score    weight\n",
       "0    0.247441  False  0.763612          0.485976  2.057715\n",
       "1   -0.579738  False -0.883542          0.540495  1.850155\n",
       "2    1.670246  False  1.425550          0.393683  2.540114\n",
       "3    0.744647  False  0.123407          0.453282  2.206130\n",
       "4    1.168095  False  0.720391          0.425742  2.348839\n",
       "..        ...    ...       ...               ...       ...\n",
       "995  1.160384  False  0.889498          0.426240  2.346095\n",
       "996  0.832942  False -0.186731          0.447510  2.234585\n",
       "997  0.732046  False -0.132362          0.454107  2.202123\n",
       "998  0.944275  False  0.483526          0.440253  2.271423\n",
       "999  1.174693  False -0.133308          0.425316  2.351192\n",
       "\n",
       "[1000 rows x 5 columns]"
      ]
     },
     "execution_count": 6,
     "metadata": {},
     "output_type": "execute_result"
    }
   ],
   "source": [
    "cdf_0"
   ]
  },
  {
   "cell_type": "code",
   "execution_count": 7,
   "metadata": {
    "execution": {
     "iopub.execute_input": "2023-12-04T07:27:41.306982Z",
     "iopub.status.busy": "2023-12-04T07:27:41.306638Z",
     "iopub.status.idle": "2023-12-04T07:27:41.315080Z",
     "shell.execute_reply": "2023-12-04T07:27:41.314550Z"
    }
   },
   "outputs": [
    {
     "data": {
      "text/html": [
       "<div>\n",
       "<style scoped>\n",
       "    .dataframe tbody tr th:only-of-type {\n",
       "        vertical-align: middle;\n",
       "    }\n",
       "\n",
       "    .dataframe tbody tr th {\n",
       "        vertical-align: top;\n",
       "    }\n",
       "\n",
       "    .dataframe thead th {\n",
       "        text-align: right;\n",
       "    }\n",
       "</style>\n",
       "<table border=\"1\" class=\"dataframe\">\n",
       "  <thead>\n",
       "    <tr style=\"text-align: right;\">\n",
       "      <th></th>\n",
       "      <th>W0</th>\n",
       "      <th>v0</th>\n",
       "      <th>y</th>\n",
       "      <th>propensity_score</th>\n",
       "      <th>weight</th>\n",
       "    </tr>\n",
       "  </thead>\n",
       "  <tbody>\n",
       "    <tr>\n",
       "      <th>0</th>\n",
       "      <td>-0.913779</td>\n",
       "      <td>True</td>\n",
       "      <td>6.252991</td>\n",
       "      <td>0.437688</td>\n",
       "      <td>2.284735</td>\n",
       "    </tr>\n",
       "    <tr>\n",
       "      <th>1</th>\n",
       "      <td>-0.301392</td>\n",
       "      <td>True</td>\n",
       "      <td>3.629496</td>\n",
       "      <td>0.477808</td>\n",
       "      <td>2.092893</td>\n",
       "    </tr>\n",
       "    <tr>\n",
       "      <th>2</th>\n",
       "      <td>-0.626810</td>\n",
       "      <td>True</td>\n",
       "      <td>4.983732</td>\n",
       "      <td>0.456419</td>\n",
       "      <td>2.190969</td>\n",
       "    </tr>\n",
       "    <tr>\n",
       "      <th>3</th>\n",
       "      <td>-0.159469</td>\n",
       "      <td>True</td>\n",
       "      <td>5.201869</td>\n",
       "      <td>0.487166</td>\n",
       "      <td>2.052689</td>\n",
       "    </tr>\n",
       "    <tr>\n",
       "      <th>4</th>\n",
       "      <td>0.579362</td>\n",
       "      <td>True</td>\n",
       "      <td>4.611252</td>\n",
       "      <td>0.535880</td>\n",
       "      <td>1.866089</td>\n",
       "    </tr>\n",
       "    <tr>\n",
       "      <th>...</th>\n",
       "      <td>...</td>\n",
       "      <td>...</td>\n",
       "      <td>...</td>\n",
       "      <td>...</td>\n",
       "      <td>...</td>\n",
       "    </tr>\n",
       "    <tr>\n",
       "      <th>995</th>\n",
       "      <td>1.713288</td>\n",
       "      <td>True</td>\n",
       "      <td>5.850647</td>\n",
       "      <td>0.609027</td>\n",
       "      <td>1.641964</td>\n",
       "    </tr>\n",
       "    <tr>\n",
       "      <th>996</th>\n",
       "      <td>-0.884873</td>\n",
       "      <td>True</td>\n",
       "      <td>2.052748</td>\n",
       "      <td>0.439567</td>\n",
       "      <td>2.274965</td>\n",
       "    </tr>\n",
       "    <tr>\n",
       "      <th>997</th>\n",
       "      <td>0.460341</td>\n",
       "      <td>True</td>\n",
       "      <td>6.133796</td>\n",
       "      <td>0.528054</td>\n",
       "      <td>1.893744</td>\n",
       "    </tr>\n",
       "    <tr>\n",
       "      <th>998</th>\n",
       "      <td>-0.225383</td>\n",
       "      <td>True</td>\n",
       "      <td>6.102531</td>\n",
       "      <td>0.482818</td>\n",
       "      <td>2.071174</td>\n",
       "    </tr>\n",
       "    <tr>\n",
       "      <th>999</th>\n",
       "      <td>1.058438</td>\n",
       "      <td>True</td>\n",
       "      <td>5.152616</td>\n",
       "      <td>0.567163</td>\n",
       "      <td>1.763162</td>\n",
       "    </tr>\n",
       "  </tbody>\n",
       "</table>\n",
       "<p>1000 rows × 5 columns</p>\n",
       "</div>"
      ],
      "text/plain": [
       "           W0    v0         y  propensity_score    weight\n",
       "0   -0.913779  True  6.252991          0.437688  2.284735\n",
       "1   -0.301392  True  3.629496          0.477808  2.092893\n",
       "2   -0.626810  True  4.983732          0.456419  2.190969\n",
       "3   -0.159469  True  5.201869          0.487166  2.052689\n",
       "4    0.579362  True  4.611252          0.535880  1.866089\n",
       "..        ...   ...       ...               ...       ...\n",
       "995  1.713288  True  5.850647          0.609027  1.641964\n",
       "996 -0.884873  True  2.052748          0.439567  2.274965\n",
       "997  0.460341  True  6.133796          0.528054  1.893744\n",
       "998 -0.225383  True  6.102531          0.482818  2.071174\n",
       "999  1.058438  True  5.152616          0.567163  1.763162\n",
       "\n",
       "[1000 rows x 5 columns]"
      ]
     },
     "execution_count": 7,
     "metadata": {},
     "output_type": "execute_result"
    }
   ],
   "source": [
    "cdf_1"
   ]
  },
  {
   "cell_type": "markdown",
   "metadata": {},
   "source": [
    "## Comparing the estimate to Linear Regression\n",
    "First, estimating the effect using the causal data frame, and the 95% confidence interval."
   ]
  },
  {
   "cell_type": "code",
   "execution_count": 8,
   "metadata": {
    "execution": {
     "iopub.execute_input": "2023-12-04T07:27:41.317237Z",
     "iopub.status.busy": "2023-12-04T07:27:41.316957Z",
     "iopub.status.idle": "2023-12-04T07:27:41.363875Z",
     "shell.execute_reply": "2023-12-04T07:27:41.363360Z"
    }
   },
   "outputs": [
    {
     "data": {
      "image/png": "[encoded data removed]",
      "text/latex": [
       "$\\displaystyle 4.89255923336909$"
      ],
      "text/plain": [
       "4.892559233369087"
      ]
     },
     "execution_count": 8,
     "metadata": {},
     "output_type": "execute_result"
    }
   ],
   "source": [
    "(cdf_1['y'] - cdf_0['y']).mean()"
   ]
  },
  {
   "cell_type": "code",
   "execution_count": 9,
   "metadata": {
    "execution": {
     "iopub.execute_input": "2023-12-04T07:27:41.366151Z",
     "iopub.status.busy": "2023-12-04T07:27:41.365730Z",
     "iopub.status.idle": "2023-12-04T07:27:41.382910Z",
     "shell.execute_reply": "2023-12-04T07:27:41.382399Z"
    }
   },
   "outputs": [
    {
     "data": {
      "image/png": "[encoded data removed]",
      "text/latex": [
       "$\\displaystyle 0.0936407272704994$"
      ],
      "text/plain": [
       "0.09364072727049944"
      ]
     },
     "execution_count": 9,
     "metadata": {},
     "output_type": "execute_result"
    }
   ],
   "source": [
    "1.96*(cdf_1['y'] - cdf_0['y']).std() / np.sqrt(len(df))"
   ]
  },
  {
   "cell_type": "markdown",
   "metadata": {},
   "source": [
    "Comparing to the estimate from OLS."
   ]
  },
  {
   "cell_type": "code",
   "execution_count": 10,
   "metadata": {
    "execution": {
     "iopub.execute_input": "2023-12-04T07:27:41.385133Z",
     "iopub.status.busy": "2023-12-04T07:27:41.384810Z",
     "iopub.status.idle": "2023-12-04T07:27:41.401233Z",
     "shell.execute_reply": "2023-12-04T07:27:41.400704Z"
    }
   },
   "outputs": [
    {
     "data": {
      "text/html": [
       "<table class=\"simpletable\">\n",
       "<caption>OLS Regression Results</caption>\n",
       "<tr>\n",
       "  <th>Dep. Variable:</th>            <td>y</td>        <th>  R-squared (uncentered):</th>      <td>   0.933</td>\n",
       "</tr>\n",
       "<tr>\n",
       "  <th>Model:</th>                   <td>OLS</td>       <th>  Adj. R-squared (uncentered):</th> <td>   0.933</td>\n",
       "</tr>\n",
       "<tr>\n",
       "  <th>Method:</th>             <td>Least Squares</td>  <th>  F-statistic:       </th>          <td>   6961.</td>\n",
       "</tr>\n",
       "<tr>\n",
       "  <th>Date:</th>             <td>Mon, 04 Dec 2023</td> <th>  Prob (F-statistic):</th>           <td>  0.00</td> \n",
       "</tr>\n",
       "<tr>\n",
       "  <th>Time:</th>                 <td>07:27:41</td>     <th>  Log-Likelihood:    </th>          <td> -1402.5</td>\n",
       "</tr>\n",
       "<tr>\n",
       "  <th>No. Observations:</th>      <td>  1000</td>      <th>  AIC:               </th>          <td>   2809.</td>\n",
       "</tr>\n",
       "<tr>\n",
       "  <th>Df Residuals:</th>          <td>   998</td>      <th>  BIC:               </th>          <td>   2819.</td>\n",
       "</tr>\n",
       "<tr>\n",
       "  <th>Df Model:</th>              <td>     2</td>      <th>                     </th>              <td> </td>   \n",
       "</tr>\n",
       "<tr>\n",
       "  <th>Covariance Type:</th>      <td>nonrobust</td>    <th>                     </th>              <td> </td>   \n",
       "</tr>\n",
       "</table>\n",
       "<table class=\"simpletable\">\n",
       "<tr>\n",
       "   <td></td>     <th>coef</th>     <th>std err</th>      <th>t</th>      <th>P>|t|</th>  <th>[0.025</th>    <th>0.975]</th>  \n",
       "</tr>\n",
       "<tr>\n",
       "  <th>x1</th> <td>    0.3757</td> <td>    0.032</td> <td>   11.805</td> <td> 0.000</td> <td>    0.313</td> <td>    0.438</td>\n",
       "</tr>\n",
       "<tr>\n",
       "  <th>x2</th> <td>    4.9272</td> <td>    0.045</td> <td>  108.762</td> <td> 0.000</td> <td>    4.838</td> <td>    5.016</td>\n",
       "</tr>\n",
       "</table>\n",
       "<table class=\"simpletable\">\n",
       "<tr>\n",
       "  <th>Omnibus:</th>       <td> 2.486</td> <th>  Durbin-Watson:     </th> <td>   2.008</td>\n",
       "</tr>\n",
       "<tr>\n",
       "  <th>Prob(Omnibus):</th> <td> 0.289</td> <th>  Jarque-Bera (JB):  </th> <td>   2.497</td>\n",
       "</tr>\n",
       "<tr>\n",
       "  <th>Skew:</th>          <td> 0.056</td> <th>  Prob(JB):          </th> <td>   0.287</td>\n",
       "</tr>\n",
       "<tr>\n",
       "  <th>Kurtosis:</th>      <td> 3.218</td> <th>  Cond. No.          </th> <td>    1.60</td>\n",
       "</tr>\n",
       "</table><br/><br/>Notes:<br/>[1] R² is computed without centering (uncentered) since the model does not contain a constant.<br/>[2] Standard Errors assume that the covariance matrix of the errors is correctly specified."
      ],
      "text/latex": [
       "\\begin{center}\n",
       "\\begin{tabular}{lclc}\n",
       "\\toprule\n",
       "\\textbf{Dep. Variable:}    &        y         & \\textbf{  R-squared (uncentered):}      &     0.933   \\\\\n",
       "\\textbf{Model:}            &       OLS        & \\textbf{  Adj. R-squared (uncentered):} &     0.933   \\\\\n",
       "\\textbf{Method:}           &  Least Squares   & \\textbf{  F-statistic:       }          &     6961.   \\\\\n",
       "\\textbf{Date:}             & Mon, 04 Dec 2023 & \\textbf{  Prob (F-statistic):}          &     0.00    \\\\\n",
       "\\textbf{Time:}             &     07:27:41     & \\textbf{  Log-Likelihood:    }          &   -1402.5   \\\\\n",
       "\\textbf{No. Observations:} &        1000      & \\textbf{  AIC:               }          &     2809.   \\\\\n",
       "\\textbf{Df Residuals:}     &         998      & \\textbf{  BIC:               }          &     2819.   \\\\\n",
       "\\textbf{Df Model:}         &           2      & \\textbf{                     }          &             \\\\\n",
       "\\textbf{Covariance Type:}  &    nonrobust     & \\textbf{                     }          &             \\\\\n",
       "\\bottomrule\n",
       "\\end{tabular}\n",
       "\\begin{tabular}{lcccccc}\n",
       "            & \\textbf{coef} & \\textbf{std err} & \\textbf{t} & \\textbf{P$> |$t$|$} & \\textbf{[0.025} & \\textbf{0.975]}  \\\\\n",
       "\\midrule\n",
       "\\textbf{x1} &       0.3757  &        0.032     &    11.805  &         0.000        &        0.313    &        0.438     \\\\\n",
       "\\textbf{x2} &       4.9272  &        0.045     &   108.762  &         0.000        &        4.838    &        5.016     \\\\\n",
       "\\bottomrule\n",
       "\\end{tabular}\n",
       "\\begin{tabular}{lclc}\n",
       "\\textbf{Omnibus:}       &  2.486 & \\textbf{  Durbin-Watson:     } &    2.008  \\\\\n",
       "\\textbf{Prob(Omnibus):} &  0.289 & \\textbf{  Jarque-Bera (JB):  } &    2.497  \\\\\n",
       "\\textbf{Skew:}          &  0.056 & \\textbf{  Prob(JB):          } &    0.287  \\\\\n",
       "\\textbf{Kurtosis:}      &  3.218 & \\textbf{  Cond. No.          } &     1.60  \\\\\n",
       "\\bottomrule\n",
       "\\end{tabular}\n",
       "%\\caption{OLS Regression Results}\n",
       "\\end{center}\n",
       "\n",
       "Notes: \\newline\n",
       " [1] R² is computed without centering (uncentered) since the model does not contain a constant. \\newline\n",
       " [2] Standard Errors assume that the covariance matrix of the errors is correctly specified."
      ],
      "text/plain": [
       "<class 'statsmodels.iolib.summary.Summary'>\n",
       "\"\"\"\n",
       "                                 OLS Regression Results                                \n",
       "=======================================================================================\n",
       "Dep. Variable:                      y   R-squared (uncentered):                   0.933\n",
       "Model:                            OLS   Adj. R-squared (uncentered):              0.933\n",
       "Method:                 Least Squares   F-statistic:                              6961.\n",
       "Date:                Mon, 04 Dec 2023   Prob (F-statistic):                        0.00\n",
       "Time:                        07:27:41   Log-Likelihood:                         -1402.5\n",
       "No. Observations:                1000   AIC:                                      2809.\n",
       "Df Residuals:                     998   BIC:                                      2819.\n",
       "Df Model:                           2                                                  \n",
       "Covariance Type:            nonrobust                                                  \n",
       "==============================================================================\n",
       "                 coef    std err          t      P>|t|      [0.025      0.975]\n",
       "------------------------------------------------------------------------------\n",
       "x1             0.3757      0.032     11.805      0.000       0.313       0.438\n",
       "x2             4.9272      0.045    108.762      0.000       4.838       5.016\n",
       "==============================================================================\n",
       "Omnibus:                        2.486   Durbin-Watson:                   2.008\n",
       "Prob(Omnibus):                  0.289   Jarque-Bera (JB):                2.497\n",
       "Skew:                           0.056   Prob(JB):                        0.287\n",
       "Kurtosis:                       3.218   Cond. No.                         1.60\n",
       "==============================================================================\n",
       "\n",
       "Notes:\n",
       "[1] R² is computed without centering (uncentered) since the model does not contain a constant.\n",
       "[2] Standard Errors assume that the covariance matrix of the errors is correctly specified.\n",
       "\"\"\""
      ]
     },
     "execution_count": 10,
     "metadata": {},
     "output_type": "execute_result"
    }
   ],
   "source": [
    "model = OLS(np.asarray(df[outcome]), np.asarray(df[[common_cause, treatment]], dtype=np.float64))\n",
    "result = model.fit()\n",
    "result.summary()"
   ]
  }
 ],
 "metadata": {
  "kernelspec": {
   "display_name": "Python 3 (ipykernel)",
   "language": "python",
   "name": "python3"
  },
  "language_info": {
   "codemirror_mode": {
    "name": "ipython",
    "version": 3
   },
   "file_extension": ".py",
   "mimetype": "text/x-python",
   "name": "python",
   "nbconvert_exporter": "python",
   "pygments_lexer": "ipython3",
   "version": "3.8.10"
  },
  "toc": {
   "base_numbering": 1,
   "nav_menu": {},
   "number_sections": false,
   "sideBar": true,
   "skip_h1_title": true,
   "title_cell": "Table of Contents",
   "title_sidebar": "Contents",
   "toc_cell": false,
   "toc_position": {},
   "toc_section_display": true,
   "toc_window_display": false
  }
 },
 "nbformat": 4,
 "nbformat_minor": 4
}
