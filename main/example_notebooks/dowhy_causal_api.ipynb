{
 "cells": [
  {
   "cell_type": "markdown",
   "metadata": {},
   "source": [
    "# Demo for the DoWhy causal API\n",
    "We show a simple example of adding a causal extension to any dataframe. "
   ]
  },
  {
   "cell_type": "code",
   "execution_count": 1,
   "metadata": {
    "execution": {
     "iopub.execute_input": "2023-07-16T17:29:54.551379Z",
     "iopub.status.busy": "2023-07-16T17:29:54.550895Z",
     "iopub.status.idle": "2023-07-16T17:29:56.258723Z",
     "shell.execute_reply": "2023-07-16T17:29:56.257966Z"
    }
   },
   "outputs": [],
   "source": [
    "import dowhy.datasets\n",
    "import dowhy.api\n",
    "\n",
    "import numpy as np\n",
    "import pandas as pd\n",
    "\n",
    "from statsmodels.api import OLS"
   ]
  },
  {
   "cell_type": "code",
   "execution_count": 2,
   "metadata": {
    "execution": {
     "iopub.execute_input": "2023-07-16T17:29:56.262720Z",
     "iopub.status.busy": "2023-07-16T17:29:56.262017Z",
     "iopub.status.idle": "2023-07-16T17:29:56.310822Z",
     "shell.execute_reply": "2023-07-16T17:29:56.310092Z"
    }
   },
   "outputs": [
    {
     "data": {
      "text/html": [
       "<div>\n",
       "<style scoped>\n",
       "    .dataframe tbody tr th:only-of-type {\n",
       "        vertical-align: middle;\n",
       "    }\n",
       "\n",
       "    .dataframe tbody tr th {\n",
       "        vertical-align: top;\n",
       "    }\n",
       "\n",
       "    .dataframe thead th {\n",
       "        text-align: right;\n",
       "    }\n",
       "</style>\n",
       "<table border=\"1\" class=\"dataframe\">\n",
       "  <thead>\n",
       "    <tr style=\"text-align: right;\">\n",
       "      <th></th>\n",
       "      <th>W0</th>\n",
       "      <th>v0</th>\n",
       "      <th>y</th>\n",
       "    </tr>\n",
       "  </thead>\n",
       "  <tbody>\n",
       "    <tr>\n",
       "      <th>0</th>\n",
       "      <td>0.548884</td>\n",
       "      <td>True</td>\n",
       "      <td>6.191588</td>\n",
       "    </tr>\n",
       "    <tr>\n",
       "      <th>1</th>\n",
       "      <td>0.266072</td>\n",
       "      <td>True</td>\n",
       "      <td>7.189133</td>\n",
       "    </tr>\n",
       "    <tr>\n",
       "      <th>2</th>\n",
       "      <td>-0.314336</td>\n",
       "      <td>True</td>\n",
       "      <td>3.239631</td>\n",
       "    </tr>\n",
       "    <tr>\n",
       "      <th>3</th>\n",
       "      <td>0.445868</td>\n",
       "      <td>False</td>\n",
       "      <td>1.293288</td>\n",
       "    </tr>\n",
       "    <tr>\n",
       "      <th>4</th>\n",
       "      <td>0.924347</td>\n",
       "      <td>False</td>\n",
       "      <td>2.331536</td>\n",
       "    </tr>\n",
       "    <tr>\n",
       "      <th>...</th>\n",
       "      <td>...</td>\n",
       "      <td>...</td>\n",
       "      <td>...</td>\n",
       "    </tr>\n",
       "    <tr>\n",
       "      <th>995</th>\n",
       "      <td>-0.974070</td>\n",
       "      <td>False</td>\n",
       "      <td>-3.710071</td>\n",
       "    </tr>\n",
       "    <tr>\n",
       "      <th>996</th>\n",
       "      <td>0.303959</td>\n",
       "      <td>False</td>\n",
       "      <td>0.624473</td>\n",
       "    </tr>\n",
       "    <tr>\n",
       "      <th>997</th>\n",
       "      <td>0.860809</td>\n",
       "      <td>True</td>\n",
       "      <td>7.784799</td>\n",
       "    </tr>\n",
       "    <tr>\n",
       "      <th>998</th>\n",
       "      <td>-1.798934</td>\n",
       "      <td>False</td>\n",
       "      <td>-2.973427</td>\n",
       "    </tr>\n",
       "    <tr>\n",
       "      <th>999</th>\n",
       "      <td>0.763079</td>\n",
       "      <td>False</td>\n",
       "      <td>-0.028840</td>\n",
       "    </tr>\n",
       "  </tbody>\n",
       "</table>\n",
       "<p>1000 rows × 3 columns</p>\n",
       "</div>"
      ],
      "text/plain": [
       "           W0     v0         y\n",
       "0    0.548884   True  6.191588\n",
       "1    0.266072   True  7.189133\n",
       "2   -0.314336   True  3.239631\n",
       "3    0.445868  False  1.293288\n",
       "4    0.924347  False  2.331536\n",
       "..        ...    ...       ...\n",
       "995 -0.974070  False -3.710071\n",
       "996  0.303959  False  0.624473\n",
       "997  0.860809   True  7.784799\n",
       "998 -1.798934  False -2.973427\n",
       "999  0.763079  False -0.028840\n",
       "\n",
       "[1000 rows x 3 columns]"
      ]
     },
     "execution_count": 2,
     "metadata": {},
     "output_type": "execute_result"
    }
   ],
   "source": [
    "data = dowhy.datasets.linear_dataset(beta=5,\n",
    "        num_common_causes=1,\n",
    "        num_instruments = 0,\n",
    "        num_samples=1000,\n",
    "        treatment_is_binary=True)\n",
    "df = data['df']\n",
    "df['y'] = df['y'] + np.random.normal(size=len(df)) # Adding noise to data. Without noise, the variance in Y|X, Z is zero, and mcmc fails.\n",
    "#data['dot_graph'] = 'digraph { v ->y;X0-> v;X0-> y;}'\n",
    "\n",
    "treatment= data[\"treatment_name\"][0]\n",
    "outcome = data[\"outcome_name\"][0]\n",
    "common_cause = data[\"common_causes_names\"][0]\n",
    "df"
   ]
  },
  {
   "cell_type": "code",
   "execution_count": 3,
   "metadata": {
    "execution": {
     "iopub.execute_input": "2023-07-16T17:29:56.314225Z",
     "iopub.status.busy": "2023-07-16T17:29:56.313691Z",
     "iopub.status.idle": "2023-07-16T17:29:56.519012Z",
     "shell.execute_reply": "2023-07-16T17:29:56.517974Z"
    }
   },
   "outputs": [
    {
     "data": {
      "text/plain": [
       "<Axes: xlabel='v0'>"
      ]
     },
     "execution_count": 3,
     "metadata": {},
     "output_type": "execute_result"
    },
    {
     "data": {
      "image/png": "[encoded data removed]",
      "text/plain": [
       "<Figure size 640x480 with 1 Axes>"
      ]
     },
     "metadata": {},
     "output_type": "display_data"
    }
   ],
   "source": [
    "# data['df'] is just a regular pandas.DataFrame\n",
    "df.causal.do(x=treatment,\n",
    "                     variable_types={treatment: 'b', outcome: 'c', common_cause: 'c'},\n",
    "                     outcome=outcome,\n",
    "                     common_causes=[common_cause],\n",
    "                     proceed_when_unidentifiable=True).groupby(treatment).mean().plot(y=outcome, kind='bar')"
   ]
  },
  {
   "cell_type": "code",
   "execution_count": 4,
   "metadata": {
    "execution": {
     "iopub.execute_input": "2023-07-16T17:29:56.522265Z",
     "iopub.status.busy": "2023-07-16T17:29:56.521811Z",
     "iopub.status.idle": "2023-07-16T17:29:56.658996Z",
     "shell.execute_reply": "2023-07-16T17:29:56.658374Z"
    }
   },
   "outputs": [
    {
     "data": {
      "text/plain": [
       "<Axes: xlabel='v0'>"
      ]
     },
     "execution_count": 4,
     "metadata": {},
     "output_type": "execute_result"
    },
    {
     "data": {
      "image/png": "[encoded data removed]",
      "text/plain": [
       "<Figure size 640x480 with 1 Axes>"
      ]
     },
     "metadata": {},
     "output_type": "display_data"
    }
   ],
   "source": [
    "df.causal.do(x={treatment: 1}, \n",
    "              variable_types={treatment:'b', outcome: 'c', common_cause: 'c'}, \n",
    "              outcome=outcome,\n",
    "              method='weighting', \n",
    "              common_causes=[common_cause],\n",
    "              proceed_when_unidentifiable=True).groupby(treatment).mean().plot(y=outcome, kind='bar')"
   ]
  },
  {
   "cell_type": "code",
   "execution_count": 5,
   "metadata": {
    "execution": {
     "iopub.execute_input": "2023-07-16T17:29:56.662240Z",
     "iopub.status.busy": "2023-07-16T17:29:56.661681Z",
     "iopub.status.idle": "2023-07-16T17:29:56.690991Z",
     "shell.execute_reply": "2023-07-16T17:29:56.690272Z"
    }
   },
   "outputs": [],
   "source": [
    "cdf_1 = df.causal.do(x={treatment: 1}, \n",
    "              variable_types={treatment: 'b', outcome: 'c', common_cause: 'c'}, \n",
    "              outcome=outcome, \n",
    "              dot_graph=data['dot_graph'],\n",
    "              proceed_when_unidentifiable=True)\n",
    "\n",
    "cdf_0 = df.causal.do(x={treatment: 0}, \n",
    "              variable_types={treatment: 'b', outcome: 'c', common_cause: 'c'}, \n",
    "              outcome=outcome, \n",
    "              dot_graph=data['dot_graph'],\n",
    "              proceed_when_unidentifiable=True)\n"
   ]
  },
  {
   "cell_type": "code",
   "execution_count": 6,
   "metadata": {
    "execution": {
     "iopub.execute_input": "2023-07-16T17:29:56.694133Z",
     "iopub.status.busy": "2023-07-16T17:29:56.693895Z",
     "iopub.status.idle": "2023-07-16T17:29:56.704726Z",
     "shell.execute_reply": "2023-07-16T17:29:56.704201Z"
    },
    "scrolled": true
   },
   "outputs": [
    {
     "data": {
      "text/html": [
       "<div>\n",
       "<style scoped>\n",
       "    .dataframe tbody tr th:only-of-type {\n",
       "        vertical-align: middle;\n",
       "    }\n",
       "\n",
       "    .dataframe tbody tr th {\n",
       "        vertical-align: top;\n",
       "    }\n",
       "\n",
       "    .dataframe thead th {\n",
       "        text-align: right;\n",
       "    }\n",
       "</style>\n",
       "<table border=\"1\" class=\"dataframe\">\n",
       "  <thead>\n",
       "    <tr style=\"text-align: right;\">\n",
       "      <th></th>\n",
       "      <th>W0</th>\n",
       "      <th>v0</th>\n",
       "      <th>y</th>\n",
       "      <th>propensity_score</th>\n",
       "      <th>weight</th>\n",
       "    </tr>\n",
       "  </thead>\n",
       "  <tbody>\n",
       "    <tr>\n",
       "      <th>0</th>\n",
       "      <td>-0.096528</td>\n",
       "      <td>False</td>\n",
       "      <td>0.183306</td>\n",
       "      <td>0.538606</td>\n",
       "      <td>1.856646</td>\n",
       "    </tr>\n",
       "    <tr>\n",
       "      <th>1</th>\n",
       "      <td>-0.734220</td>\n",
       "      <td>False</td>\n",
       "      <td>-3.570479</td>\n",
       "      <td>0.682607</td>\n",
       "      <td>1.464972</td>\n",
       "    </tr>\n",
       "    <tr>\n",
       "      <th>2</th>\n",
       "      <td>-0.378942</td>\n",
       "      <td>False</td>\n",
       "      <td>-0.118301</td>\n",
       "      <td>0.604761</td>\n",
       "      <td>1.653545</td>\n",
       "    </tr>\n",
       "    <tr>\n",
       "      <th>3</th>\n",
       "      <td>-0.482284</td>\n",
       "      <td>False</td>\n",
       "      <td>-0.733775</td>\n",
       "      <td>0.628169</td>\n",
       "      <td>1.591929</td>\n",
       "    </tr>\n",
       "    <tr>\n",
       "      <th>4</th>\n",
       "      <td>0.773438</td>\n",
       "      <td>False</td>\n",
       "      <td>3.004178</td>\n",
       "      <td>0.336510</td>\n",
       "      <td>2.971681</td>\n",
       "    </tr>\n",
       "    <tr>\n",
       "      <th>...</th>\n",
       "      <td>...</td>\n",
       "      <td>...</td>\n",
       "      <td>...</td>\n",
       "      <td>...</td>\n",
       "      <td>...</td>\n",
       "    </tr>\n",
       "    <tr>\n",
       "      <th>995</th>\n",
       "      <td>-0.157275</td>\n",
       "      <td>False</td>\n",
       "      <td>0.899083</td>\n",
       "      <td>0.553035</td>\n",
       "      <td>1.808205</td>\n",
       "    </tr>\n",
       "    <tr>\n",
       "      <th>996</th>\n",
       "      <td>3.361065</td>\n",
       "      <td>False</td>\n",
       "      <td>7.318491</td>\n",
       "      <td>0.040762</td>\n",
       "      <td>24.532810</td>\n",
       "    </tr>\n",
       "    <tr>\n",
       "      <th>997</th>\n",
       "      <td>2.495123</td>\n",
       "      <td>False</td>\n",
       "      <td>6.045135</td>\n",
       "      <td>0.088779</td>\n",
       "      <td>11.263919</td>\n",
       "    </tr>\n",
       "    <tr>\n",
       "      <th>998</th>\n",
       "      <td>-0.507111</td>\n",
       "      <td>False</td>\n",
       "      <td>0.616299</td>\n",
       "      <td>0.633708</td>\n",
       "      <td>1.578013</td>\n",
       "    </tr>\n",
       "    <tr>\n",
       "      <th>999</th>\n",
       "      <td>-0.831090</td>\n",
       "      <td>False</td>\n",
       "      <td>-1.995510</td>\n",
       "      <td>0.702368</td>\n",
       "      <td>1.423755</td>\n",
       "    </tr>\n",
       "  </tbody>\n",
       "</table>\n",
       "<p>1000 rows × 5 columns</p>\n",
       "</div>"
      ],
      "text/plain": [
       "           W0     v0         y  propensity_score     weight\n",
       "0   -0.096528  False  0.183306          0.538606   1.856646\n",
       "1   -0.734220  False -3.570479          0.682607   1.464972\n",
       "2   -0.378942  False -0.118301          0.604761   1.653545\n",
       "3   -0.482284  False -0.733775          0.628169   1.591929\n",
       "4    0.773438  False  3.004178          0.336510   2.971681\n",
       "..        ...    ...       ...               ...        ...\n",
       "995 -0.157275  False  0.899083          0.553035   1.808205\n",
       "996  3.361065  False  7.318491          0.040762  24.532810\n",
       "997  2.495123  False  6.045135          0.088779  11.263919\n",
       "998 -0.507111  False  0.616299          0.633708   1.578013\n",
       "999 -0.831090  False -1.995510          0.702368   1.423755\n",
       "\n",
       "[1000 rows x 5 columns]"
      ]
     },
     "execution_count": 6,
     "metadata": {},
     "output_type": "execute_result"
    }
   ],
   "source": [
    "cdf_0"
   ]
  },
  {
   "cell_type": "code",
   "execution_count": 7,
   "metadata": {
    "execution": {
     "iopub.execute_input": "2023-07-16T17:29:56.707659Z",
     "iopub.status.busy": "2023-07-16T17:29:56.707247Z",
     "iopub.status.idle": "2023-07-16T17:29:56.717986Z",
     "shell.execute_reply": "2023-07-16T17:29:56.717299Z"
    }
   },
   "outputs": [
    {
     "data": {
      "text/html": [
       "<div>\n",
       "<style scoped>\n",
       "    .dataframe tbody tr th:only-of-type {\n",
       "        vertical-align: middle;\n",
       "    }\n",
       "\n",
       "    .dataframe tbody tr th {\n",
       "        vertical-align: top;\n",
       "    }\n",
       "\n",
       "    .dataframe thead th {\n",
       "        text-align: right;\n",
       "    }\n",
       "</style>\n",
       "<table border=\"1\" class=\"dataframe\">\n",
       "  <thead>\n",
       "    <tr style=\"text-align: right;\">\n",
       "      <th></th>\n",
       "      <th>W0</th>\n",
       "      <th>v0</th>\n",
       "      <th>y</th>\n",
       "      <th>propensity_score</th>\n",
       "      <th>weight</th>\n",
       "    </tr>\n",
       "  </thead>\n",
       "  <tbody>\n",
       "    <tr>\n",
       "      <th>0</th>\n",
       "      <td>0.927786</td>\n",
       "      <td>True</td>\n",
       "      <td>7.179731</td>\n",
       "      <td>0.695675</td>\n",
       "      <td>1.437453</td>\n",
       "    </tr>\n",
       "    <tr>\n",
       "      <th>1</th>\n",
       "      <td>-0.815900</td>\n",
       "      <td>True</td>\n",
       "      <td>2.675049</td>\n",
       "      <td>0.300684</td>\n",
       "      <td>3.325755</td>\n",
       "    </tr>\n",
       "    <tr>\n",
       "      <th>2</th>\n",
       "      <td>-2.267000</td>\n",
       "      <td>True</td>\n",
       "      <td>1.037331</td>\n",
       "      <td>0.096694</td>\n",
       "      <td>10.341943</td>\n",
       "    </tr>\n",
       "    <tr>\n",
       "      <th>3</th>\n",
       "      <td>0.093084</td>\n",
       "      <td>True</td>\n",
       "      <td>6.131300</td>\n",
       "      <td>0.506739</td>\n",
       "      <td>1.973401</td>\n",
       "    </tr>\n",
       "    <tr>\n",
       "      <th>4</th>\n",
       "      <td>0.480552</td>\n",
       "      <td>True</td>\n",
       "      <td>5.849524</td>\n",
       "      <td>0.598264</td>\n",
       "      <td>1.671503</td>\n",
       "    </tr>\n",
       "    <tr>\n",
       "      <th>...</th>\n",
       "      <td>...</td>\n",
       "      <td>...</td>\n",
       "      <td>...</td>\n",
       "      <td>...</td>\n",
       "      <td>...</td>\n",
       "    </tr>\n",
       "    <tr>\n",
       "      <th>995</th>\n",
       "      <td>-0.314336</td>\n",
       "      <td>True</td>\n",
       "      <td>3.239631</td>\n",
       "      <td>0.410128</td>\n",
       "      <td>2.438266</td>\n",
       "    </tr>\n",
       "    <tr>\n",
       "      <th>996</th>\n",
       "      <td>1.397253</td>\n",
       "      <td>True</td>\n",
       "      <td>8.301519</td>\n",
       "      <td>0.781877</td>\n",
       "      <td>1.278974</td>\n",
       "    </tr>\n",
       "    <tr>\n",
       "      <th>997</th>\n",
       "      <td>-0.941046</td>\n",
       "      <td>True</td>\n",
       "      <td>4.565827</td>\n",
       "      <td>0.276086</td>\n",
       "      <td>3.622066</td>\n",
       "    </tr>\n",
       "    <tr>\n",
       "      <th>998</th>\n",
       "      <td>-0.174306</td>\n",
       "      <td>True</td>\n",
       "      <td>4.539346</td>\n",
       "      <td>0.442935</td>\n",
       "      <td>2.257667</td>\n",
       "    </tr>\n",
       "    <tr>\n",
       "      <th>999</th>\n",
       "      <td>1.909673</td>\n",
       "      <td>True</td>\n",
       "      <td>7.878212</td>\n",
       "      <td>0.854165</td>\n",
       "      <td>1.170734</td>\n",
       "    </tr>\n",
       "  </tbody>\n",
       "</table>\n",
       "<p>1000 rows × 5 columns</p>\n",
       "</div>"
      ],
      "text/plain": [
       "           W0    v0         y  propensity_score     weight\n",
       "0    0.927786  True  7.179731          0.695675   1.437453\n",
       "1   -0.815900  True  2.675049          0.300684   3.325755\n",
       "2   -2.267000  True  1.037331          0.096694  10.341943\n",
       "3    0.093084  True  6.131300          0.506739   1.973401\n",
       "4    0.480552  True  5.849524          0.598264   1.671503\n",
       "..        ...   ...       ...               ...        ...\n",
       "995 -0.314336  True  3.239631          0.410128   2.438266\n",
       "996  1.397253  True  8.301519          0.781877   1.278974\n",
       "997 -0.941046  True  4.565827          0.276086   3.622066\n",
       "998 -0.174306  True  4.539346          0.442935   2.257667\n",
       "999  1.909673  True  7.878212          0.854165   1.170734\n",
       "\n",
       "[1000 rows x 5 columns]"
      ]
     },
     "execution_count": 7,
     "metadata": {},
     "output_type": "execute_result"
    }
   ],
   "source": [
    "cdf_1"
   ]
  },
  {
   "cell_type": "markdown",
   "metadata": {},
   "source": [
    "## Comparing the estimate to Linear Regression\n",
    "First, estimating the effect using the causal data frame, and the 95% confidence interval."
   ]
  },
  {
   "cell_type": "code",
   "execution_count": 8,
   "metadata": {
    "execution": {
     "iopub.execute_input": "2023-07-16T17:29:56.721045Z",
     "iopub.status.busy": "2023-07-16T17:29:56.720703Z",
     "iopub.status.idle": "2023-07-16T17:29:56.781159Z",
     "shell.execute_reply": "2023-07-16T17:29:56.780392Z"
    }
   },
   "outputs": [
    {
     "data": {
      "image/png": "[encoded data removed]",
      "text/latex": [
       "$\\displaystyle 4.64726156697789$"
      ],
      "text/plain": [
       "4.647261566977886"
      ]
     },
     "execution_count": 8,
     "metadata": {},
     "output_type": "execute_result"
    }
   ],
   "source": [
    "(cdf_1['y'] - cdf_0['y']).mean()"
   ]
  },
  {
   "cell_type": "code",
   "execution_count": 9,
   "metadata": {
    "execution": {
     "iopub.execute_input": "2023-07-16T17:29:56.784627Z",
     "iopub.status.busy": "2023-07-16T17:29:56.784082Z",
     "iopub.status.idle": "2023-07-16T17:29:56.804351Z",
     "shell.execute_reply": "2023-07-16T17:29:56.803665Z"
    }
   },
   "outputs": [
    {
     "data": {
      "image/png": "[encoded data removed]",
      "text/latex": [
       "$\\displaystyle 0.206292058908069$"
      ],
      "text/plain": [
       "0.20629205890806873"
      ]
     },
     "execution_count": 9,
     "metadata": {},
     "output_type": "execute_result"
    }
   ],
   "source": [
    "1.96*(cdf_1['y'] - cdf_0['y']).std() / np.sqrt(len(df))"
   ]
  },
  {
   "cell_type": "markdown",
   "metadata": {},
   "source": [
    "Comparing to the estimate from OLS."
   ]
  },
  {
   "cell_type": "code",
   "execution_count": 10,
   "metadata": {
    "execution": {
     "iopub.execute_input": "2023-07-16T17:29:56.807225Z",
     "iopub.status.busy": "2023-07-16T17:29:56.806808Z",
     "iopub.status.idle": "2023-07-16T17:29:56.823045Z",
     "shell.execute_reply": "2023-07-16T17:29:56.822386Z"
    }
   },
   "outputs": [
    {
     "data": {
      "text/html": [
       "<table class=\"simpletable\">\n",
       "<caption>OLS Regression Results</caption>\n",
       "<tr>\n",
       "  <th>Dep. Variable:</th>            <td>y</td>        <th>  R-squared (uncentered):</th>      <td>   0.961</td> \n",
       "</tr>\n",
       "<tr>\n",
       "  <th>Model:</th>                   <td>OLS</td>       <th>  Adj. R-squared (uncentered):</th> <td>   0.961</td> \n",
       "</tr>\n",
       "<tr>\n",
       "  <th>Method:</th>             <td>Least Squares</td>  <th>  F-statistic:       </th>          <td>1.239e+04</td>\n",
       "</tr>\n",
       "<tr>\n",
       "  <th>Date:</th>             <td>Sun, 16 Jul 2023</td> <th>  Prob (F-statistic):</th>           <td>  0.00</td>  \n",
       "</tr>\n",
       "<tr>\n",
       "  <th>Time:</th>                 <td>17:29:56</td>     <th>  Log-Likelihood:    </th>          <td> -1433.3</td> \n",
       "</tr>\n",
       "<tr>\n",
       "  <th>No. Observations:</th>      <td>  1000</td>      <th>  AIC:               </th>          <td>   2871.</td> \n",
       "</tr>\n",
       "<tr>\n",
       "  <th>Df Residuals:</th>          <td>   998</td>      <th>  BIC:               </th>          <td>   2880.</td> \n",
       "</tr>\n",
       "<tr>\n",
       "  <th>Df Model:</th>              <td>     2</td>      <th>                     </th>              <td> </td>    \n",
       "</tr>\n",
       "<tr>\n",
       "  <th>Covariance Type:</th>      <td>nonrobust</td>    <th>                     </th>              <td> </td>    \n",
       "</tr>\n",
       "</table>\n",
       "<table class=\"simpletable\">\n",
       "<tr>\n",
       "   <td></td>     <th>coef</th>     <th>std err</th>      <th>t</th>      <th>P>|t|</th>  <th>[0.025</th>    <th>0.975]</th>  \n",
       "</tr>\n",
       "<tr>\n",
       "  <th>x1</th> <td>    2.1684</td> <td>    0.033</td> <td>   64.763</td> <td> 0.000</td> <td>    2.103</td> <td>    2.234</td>\n",
       "</tr>\n",
       "<tr>\n",
       "  <th>x2</th> <td>    4.9511</td> <td>    0.049</td> <td>  101.263</td> <td> 0.000</td> <td>    4.855</td> <td>    5.047</td>\n",
       "</tr>\n",
       "</table>\n",
       "<table class=\"simpletable\">\n",
       "<tr>\n",
       "  <th>Omnibus:</th>       <td> 0.103</td> <th>  Durbin-Watson:     </th> <td>   2.047</td>\n",
       "</tr>\n",
       "<tr>\n",
       "  <th>Prob(Omnibus):</th> <td> 0.950</td> <th>  Jarque-Bera (JB):  </th> <td>   0.043</td>\n",
       "</tr>\n",
       "<tr>\n",
       "  <th>Skew:</th>          <td>-0.001</td> <th>  Prob(JB):          </th> <td>   0.979</td>\n",
       "</tr>\n",
       "<tr>\n",
       "  <th>Kurtosis:</th>      <td> 3.032</td> <th>  Cond. No.          </th> <td>    1.84</td>\n",
       "</tr>\n",
       "</table><br/><br/>Notes:<br/>[1] R² is computed without centering (uncentered) since the model does not contain a constant.<br/>[2] Standard Errors assume that the covariance matrix of the errors is correctly specified."
      ],
      "text/plain": [
       "<class 'statsmodels.iolib.summary.Summary'>\n",
       "\"\"\"\n",
       "                                 OLS Regression Results                                \n",
       "=======================================================================================\n",
       "Dep. Variable:                      y   R-squared (uncentered):                   0.961\n",
       "Model:                            OLS   Adj. R-squared (uncentered):              0.961\n",
       "Method:                 Least Squares   F-statistic:                          1.239e+04\n",
       "Date:                Sun, 16 Jul 2023   Prob (F-statistic):                        0.00\n",
       "Time:                        17:29:56   Log-Likelihood:                         -1433.3\n",
       "No. Observations:                1000   AIC:                                      2871.\n",
       "Df Residuals:                     998   BIC:                                      2880.\n",
       "Df Model:                           2                                                  \n",
       "Covariance Type:            nonrobust                                                  \n",
       "==============================================================================\n",
       "                 coef    std err          t      P>|t|      [0.025      0.975]\n",
       "------------------------------------------------------------------------------\n",
       "x1             2.1684      0.033     64.763      0.000       2.103       2.234\n",
       "x2             4.9511      0.049    101.263      0.000       4.855       5.047\n",
       "==============================================================================\n",
       "Omnibus:                        0.103   Durbin-Watson:                   2.047\n",
       "Prob(Omnibus):                  0.950   Jarque-Bera (JB):                0.043\n",
       "Skew:                          -0.001   Prob(JB):                        0.979\n",
       "Kurtosis:                       3.032   Cond. No.                         1.84\n",
       "==============================================================================\n",
       "\n",
       "Notes:\n",
       "[1] R² is computed without centering (uncentered) since the model does not contain a constant.\n",
       "[2] Standard Errors assume that the covariance matrix of the errors is correctly specified.\n",
       "\"\"\""
      ]
     },
     "execution_count": 10,
     "metadata": {},
     "output_type": "execute_result"
    }
   ],
   "source": [
    "model = OLS(np.asarray(df[outcome]), np.asarray(df[[common_cause, treatment]], dtype=np.float64))\n",
    "result = model.fit()\n",
    "result.summary()"
   ]
  }
 ],
 "metadata": {
  "kernelspec": {
   "display_name": "Python 3",
   "language": "python",
   "name": "python3"
  },
  "language_info": {
   "codemirror_mode": {
    "name": "ipython",
    "version": 3
   },
   "file_extension": ".py",
   "mimetype": "text/x-python",
   "name": "python",
   "nbconvert_exporter": "python",
   "pygments_lexer": "ipython3",
   "version": "3.8.10"
  },
  "toc": {
   "base_numbering": 1,
   "nav_menu": {},
   "number_sections": false,
   "sideBar": true,
   "skip_h1_title": true,
   "title_cell": "Table of Contents",
   "title_sidebar": "Contents",
   "toc_cell": false,
   "toc_position": {},
   "toc_section_display": true,
   "toc_window_display": false
  }
 },
 "nbformat": 4,
 "nbformat_minor": 4
}
