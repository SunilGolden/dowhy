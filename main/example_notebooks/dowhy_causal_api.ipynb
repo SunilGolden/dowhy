{
 "cells": [
  {
   "cell_type": "markdown",
   "metadata": {},
   "source": [
    "# Demo for the DoWhy causal API\n",
    "We show a simple example of adding a causal extension to any dataframe. "
   ]
  },
  {
   "cell_type": "code",
   "execution_count": 1,
   "metadata": {
    "execution": {
     "iopub.execute_input": "2023-05-22T22:56:40.198493Z",
     "iopub.status.busy": "2023-05-22T22:56:40.198103Z",
     "iopub.status.idle": "2023-05-22T22:56:41.747277Z",
     "shell.execute_reply": "2023-05-22T22:56:41.746265Z"
    }
   },
   "outputs": [],
   "source": [
    "import dowhy.datasets\n",
    "import dowhy.api\n",
    "\n",
    "import numpy as np\n",
    "import pandas as pd\n",
    "\n",
    "from statsmodels.api import OLS"
   ]
  },
  {
   "cell_type": "code",
   "execution_count": 2,
   "metadata": {
    "execution": {
     "iopub.execute_input": "2023-05-22T22:56:41.751885Z",
     "iopub.status.busy": "2023-05-22T22:56:41.750560Z",
     "iopub.status.idle": "2023-05-22T22:56:41.792101Z",
     "shell.execute_reply": "2023-05-22T22:56:41.791073Z"
    }
   },
   "outputs": [
    {
     "data": {
      "text/html": [
       "<div>\n",
       "<style scoped>\n",
       "    .dataframe tbody tr th:only-of-type {\n",
       "        vertical-align: middle;\n",
       "    }\n",
       "\n",
       "    .dataframe tbody tr th {\n",
       "        vertical-align: top;\n",
       "    }\n",
       "\n",
       "    .dataframe thead th {\n",
       "        text-align: right;\n",
       "    }\n",
       "</style>\n",
       "<table border=\"1\" class=\"dataframe\">\n",
       "  <thead>\n",
       "    <tr style=\"text-align: right;\">\n",
       "      <th></th>\n",
       "      <th>W0</th>\n",
       "      <th>v0</th>\n",
       "      <th>y</th>\n",
       "    </tr>\n",
       "  </thead>\n",
       "  <tbody>\n",
       "    <tr>\n",
       "      <th>0</th>\n",
       "      <td>-1.032284</td>\n",
       "      <td>False</td>\n",
       "      <td>-0.034818</td>\n",
       "    </tr>\n",
       "    <tr>\n",
       "      <th>1</th>\n",
       "      <td>-0.613785</td>\n",
       "      <td>False</td>\n",
       "      <td>-0.367163</td>\n",
       "    </tr>\n",
       "    <tr>\n",
       "      <th>2</th>\n",
       "      <td>-0.394433</td>\n",
       "      <td>False</td>\n",
       "      <td>-0.227469</td>\n",
       "    </tr>\n",
       "    <tr>\n",
       "      <th>3</th>\n",
       "      <td>-2.905514</td>\n",
       "      <td>False</td>\n",
       "      <td>-3.994928</td>\n",
       "    </tr>\n",
       "    <tr>\n",
       "      <th>4</th>\n",
       "      <td>0.274280</td>\n",
       "      <td>True</td>\n",
       "      <td>5.785218</td>\n",
       "    </tr>\n",
       "    <tr>\n",
       "      <th>...</th>\n",
       "      <td>...</td>\n",
       "      <td>...</td>\n",
       "      <td>...</td>\n",
       "    </tr>\n",
       "    <tr>\n",
       "      <th>995</th>\n",
       "      <td>-2.194155</td>\n",
       "      <td>False</td>\n",
       "      <td>-3.788945</td>\n",
       "    </tr>\n",
       "    <tr>\n",
       "      <th>996</th>\n",
       "      <td>-2.294614</td>\n",
       "      <td>False</td>\n",
       "      <td>-2.451503</td>\n",
       "    </tr>\n",
       "    <tr>\n",
       "      <th>997</th>\n",
       "      <td>-1.607354</td>\n",
       "      <td>False</td>\n",
       "      <td>-3.210166</td>\n",
       "    </tr>\n",
       "    <tr>\n",
       "      <th>998</th>\n",
       "      <td>-0.603846</td>\n",
       "      <td>False</td>\n",
       "      <td>-0.113808</td>\n",
       "    </tr>\n",
       "    <tr>\n",
       "      <th>999</th>\n",
       "      <td>-1.173074</td>\n",
       "      <td>False</td>\n",
       "      <td>-1.592054</td>\n",
       "    </tr>\n",
       "  </tbody>\n",
       "</table>\n",
       "<p>1000 rows × 3 columns</p>\n",
       "</div>"
      ],
      "text/plain": [
       "           W0     v0         y\n",
       "0   -1.032284  False -0.034818\n",
       "1   -0.613785  False -0.367163\n",
       "2   -0.394433  False -0.227469\n",
       "3   -2.905514  False -3.994928\n",
       "4    0.274280   True  5.785218\n",
       "..        ...    ...       ...\n",
       "995 -2.194155  False -3.788945\n",
       "996 -2.294614  False -2.451503\n",
       "997 -1.607354  False -3.210166\n",
       "998 -0.603846  False -0.113808\n",
       "999 -1.173074  False -1.592054\n",
       "\n",
       "[1000 rows x 3 columns]"
      ]
     },
     "execution_count": 2,
     "metadata": {},
     "output_type": "execute_result"
    }
   ],
   "source": [
    "data = dowhy.datasets.linear_dataset(beta=5,\n",
    "        num_common_causes=1,\n",
    "        num_instruments = 0,\n",
    "        num_samples=1000,\n",
    "        treatment_is_binary=True)\n",
    "df = data['df']\n",
    "df['y'] = df['y'] + np.random.normal(size=len(df)) # Adding noise to data. Without noise, the variance in Y|X, Z is zero, and mcmc fails.\n",
    "#data['dot_graph'] = 'digraph { v ->y;X0-> v;X0-> y;}'\n",
    "\n",
    "treatment= data[\"treatment_name\"][0]\n",
    "outcome = data[\"outcome_name\"][0]\n",
    "common_cause = data[\"common_causes_names\"][0]\n",
    "df"
   ]
  },
  {
   "cell_type": "code",
   "execution_count": 3,
   "metadata": {
    "execution": {
     "iopub.execute_input": "2023-05-22T22:56:41.795159Z",
     "iopub.status.busy": "2023-05-22T22:56:41.794699Z",
     "iopub.status.idle": "2023-05-22T22:56:41.947476Z",
     "shell.execute_reply": "2023-05-22T22:56:41.946547Z"
    }
   },
   "outputs": [
    {
     "data": {
      "text/plain": [
       "<AxesSubplot: xlabel='v0'>"
      ]
     },
     "execution_count": 3,
     "metadata": {},
     "output_type": "execute_result"
    },
    {
     "data": {
      "image/png": "[encoded data removed]",
      "text/plain": [
       "<Figure size 640x480 with 1 Axes>"
      ]
     },
     "metadata": {},
     "output_type": "display_data"
    }
   ],
   "source": [
    "# data['df'] is just a regular pandas.DataFrame\n",
    "df.causal.do(x=treatment,\n",
    "                     variable_types={treatment: 'b', outcome: 'c', common_cause: 'c'},\n",
    "                     outcome=outcome,\n",
    "                     common_causes=[common_cause],\n",
    "                     proceed_when_unidentifiable=True).groupby(treatment).mean().plot(y=outcome, kind='bar')"
   ]
  },
  {
   "cell_type": "code",
   "execution_count": 4,
   "metadata": {
    "execution": {
     "iopub.execute_input": "2023-05-22T22:56:41.950665Z",
     "iopub.status.busy": "2023-05-22T22:56:41.950336Z",
     "iopub.status.idle": "2023-05-22T22:56:42.060219Z",
     "shell.execute_reply": "2023-05-22T22:56:42.059619Z"
    }
   },
   "outputs": [
    {
     "data": {
      "text/plain": [
       "<AxesSubplot: xlabel='v0'>"
      ]
     },
     "execution_count": 4,
     "metadata": {},
     "output_type": "execute_result"
    },
    {
     "data": {
      "image/png": "[encoded data removed]",
      "text/plain": [
       "<Figure size 640x480 with 1 Axes>"
      ]
     },
     "metadata": {},
     "output_type": "display_data"
    }
   ],
   "source": [
    "df.causal.do(x={treatment: 1}, \n",
    "              variable_types={treatment:'b', outcome: 'c', common_cause: 'c'}, \n",
    "              outcome=outcome,\n",
    "              method='weighting', \n",
    "              common_causes=[common_cause],\n",
    "              proceed_when_unidentifiable=True).groupby(treatment).mean().plot(y=outcome, kind='bar')"
   ]
  },
  {
   "cell_type": "code",
   "execution_count": 5,
   "metadata": {
    "execution": {
     "iopub.execute_input": "2023-05-22T22:56:42.064186Z",
     "iopub.status.busy": "2023-05-22T22:56:42.063010Z",
     "iopub.status.idle": "2023-05-22T22:56:42.173223Z",
     "shell.execute_reply": "2023-05-22T22:56:42.172619Z"
    }
   },
   "outputs": [],
   "source": [
    "cdf_1 = df.causal.do(x={treatment: 1}, \n",
    "              variable_types={treatment: 'b', outcome: 'c', common_cause: 'c'}, \n",
    "              outcome=outcome, \n",
    "              dot_graph=data['dot_graph'],\n",
    "              proceed_when_unidentifiable=True)\n",
    "\n",
    "cdf_0 = df.causal.do(x={treatment: 0}, \n",
    "              variable_types={treatment: 'b', outcome: 'c', common_cause: 'c'}, \n",
    "              outcome=outcome, \n",
    "              dot_graph=data['dot_graph'],\n",
    "              proceed_when_unidentifiable=True)\n"
   ]
  },
  {
   "cell_type": "code",
   "execution_count": 6,
   "metadata": {
    "execution": {
     "iopub.execute_input": "2023-05-22T22:56:42.176764Z",
     "iopub.status.busy": "2023-05-22T22:56:42.176263Z",
     "iopub.status.idle": "2023-05-22T22:56:42.188239Z",
     "shell.execute_reply": "2023-05-22T22:56:42.187699Z"
    },
    "scrolled": true
   },
   "outputs": [
    {
     "data": {
      "text/html": [
       "<div>\n",
       "<style scoped>\n",
       "    .dataframe tbody tr th:only-of-type {\n",
       "        vertical-align: middle;\n",
       "    }\n",
       "\n",
       "    .dataframe tbody tr th {\n",
       "        vertical-align: top;\n",
       "    }\n",
       "\n",
       "    .dataframe thead th {\n",
       "        text-align: right;\n",
       "    }\n",
       "</style>\n",
       "<table border=\"1\" class=\"dataframe\">\n",
       "  <thead>\n",
       "    <tr style=\"text-align: right;\">\n",
       "      <th></th>\n",
       "      <th>W0</th>\n",
       "      <th>v0</th>\n",
       "      <th>y</th>\n",
       "      <th>propensity_score</th>\n",
       "      <th>weight</th>\n",
       "    </tr>\n",
       "  </thead>\n",
       "  <tbody>\n",
       "    <tr>\n",
       "      <th>0</th>\n",
       "      <td>-0.885726</td>\n",
       "      <td>False</td>\n",
       "      <td>-0.364971</td>\n",
       "      <td>0.898789</td>\n",
       "      <td>1.112608</td>\n",
       "    </tr>\n",
       "    <tr>\n",
       "      <th>1</th>\n",
       "      <td>-0.097279</td>\n",
       "      <td>False</td>\n",
       "      <td>-0.042045</td>\n",
       "      <td>0.586535</td>\n",
       "      <td>1.704927</td>\n",
       "    </tr>\n",
       "    <tr>\n",
       "      <th>2</th>\n",
       "      <td>-0.635660</td>\n",
       "      <td>False</td>\n",
       "      <td>-0.102157</td>\n",
       "      <td>0.832313</td>\n",
       "      <td>1.201471</td>\n",
       "    </tr>\n",
       "    <tr>\n",
       "      <th>3</th>\n",
       "      <td>-1.322980</td>\n",
       "      <td>False</td>\n",
       "      <td>-1.305128</td>\n",
       "      <td>0.960873</td>\n",
       "      <td>1.040720</td>\n",
       "    </tr>\n",
       "    <tr>\n",
       "      <th>4</th>\n",
       "      <td>0.950775</td>\n",
       "      <td>False</td>\n",
       "      <td>2.621303</td>\n",
       "      <td>0.110224</td>\n",
       "      <td>9.072399</td>\n",
       "    </tr>\n",
       "    <tr>\n",
       "      <th>...</th>\n",
       "      <td>...</td>\n",
       "      <td>...</td>\n",
       "      <td>...</td>\n",
       "      <td>...</td>\n",
       "      <td>...</td>\n",
       "    </tr>\n",
       "    <tr>\n",
       "      <th>995</th>\n",
       "      <td>-1.855692</td>\n",
       "      <td>False</td>\n",
       "      <td>-2.579656</td>\n",
       "      <td>0.988345</td>\n",
       "      <td>1.011792</td>\n",
       "    </tr>\n",
       "    <tr>\n",
       "      <th>996</th>\n",
       "      <td>-2.787870</td>\n",
       "      <td>False</td>\n",
       "      <td>-3.115310</td>\n",
       "      <td>0.998653</td>\n",
       "      <td>1.001348</td>\n",
       "    </tr>\n",
       "    <tr>\n",
       "      <th>997</th>\n",
       "      <td>-2.025770</td>\n",
       "      <td>False</td>\n",
       "      <td>-1.107604</td>\n",
       "      <td>0.992123</td>\n",
       "      <td>1.007939</td>\n",
       "    </tr>\n",
       "    <tr>\n",
       "      <th>998</th>\n",
       "      <td>0.671447</td>\n",
       "      <td>False</td>\n",
       "      <td>1.281145</td>\n",
       "      <td>0.191756</td>\n",
       "      <td>5.214968</td>\n",
       "    </tr>\n",
       "    <tr>\n",
       "      <th>999</th>\n",
       "      <td>-3.084040</td>\n",
       "      <td>False</td>\n",
       "      <td>-4.331825</td>\n",
       "      <td>0.999323</td>\n",
       "      <td>1.000677</td>\n",
       "    </tr>\n",
       "  </tbody>\n",
       "</table>\n",
       "<p>1000 rows × 5 columns</p>\n",
       "</div>"
      ],
      "text/plain": [
       "           W0     v0         y  propensity_score    weight\n",
       "0   -0.885726  False -0.364971          0.898789  1.112608\n",
       "1   -0.097279  False -0.042045          0.586535  1.704927\n",
       "2   -0.635660  False -0.102157          0.832313  1.201471\n",
       "3   -1.322980  False -1.305128          0.960873  1.040720\n",
       "4    0.950775  False  2.621303          0.110224  9.072399\n",
       "..        ...    ...       ...               ...       ...\n",
       "995 -1.855692  False -2.579656          0.988345  1.011792\n",
       "996 -2.787870  False -3.115310          0.998653  1.001348\n",
       "997 -2.025770  False -1.107604          0.992123  1.007939\n",
       "998  0.671447  False  1.281145          0.191756  5.214968\n",
       "999 -3.084040  False -4.331825          0.999323  1.000677\n",
       "\n",
       "[1000 rows x 5 columns]"
      ]
     },
     "execution_count": 6,
     "metadata": {},
     "output_type": "execute_result"
    }
   ],
   "source": [
    "cdf_0"
   ]
  },
  {
   "cell_type": "code",
   "execution_count": 7,
   "metadata": {
    "execution": {
     "iopub.execute_input": "2023-05-22T22:56:42.190655Z",
     "iopub.status.busy": "2023-05-22T22:56:42.190341Z",
     "iopub.status.idle": "2023-05-22T22:56:42.199678Z",
     "shell.execute_reply": "2023-05-22T22:56:42.199167Z"
    }
   },
   "outputs": [
    {
     "data": {
      "text/html": [
       "<div>\n",
       "<style scoped>\n",
       "    .dataframe tbody tr th:only-of-type {\n",
       "        vertical-align: middle;\n",
       "    }\n",
       "\n",
       "    .dataframe tbody tr th {\n",
       "        vertical-align: top;\n",
       "    }\n",
       "\n",
       "    .dataframe thead th {\n",
       "        text-align: right;\n",
       "    }\n",
       "</style>\n",
       "<table border=\"1\" class=\"dataframe\">\n",
       "  <thead>\n",
       "    <tr style=\"text-align: right;\">\n",
       "      <th></th>\n",
       "      <th>W0</th>\n",
       "      <th>v0</th>\n",
       "      <th>y</th>\n",
       "      <th>propensity_score</th>\n",
       "      <th>weight</th>\n",
       "    </tr>\n",
       "  </thead>\n",
       "  <tbody>\n",
       "    <tr>\n",
       "      <th>0</th>\n",
       "      <td>-0.533548</td>\n",
       "      <td>True</td>\n",
       "      <td>3.663837</td>\n",
       "      <td>0.203500</td>\n",
       "      <td>4.914012</td>\n",
       "    </tr>\n",
       "    <tr>\n",
       "      <th>1</th>\n",
       "      <td>1.473211</td>\n",
       "      <td>True</td>\n",
       "      <td>5.357118</td>\n",
       "      <td>0.964559</td>\n",
       "      <td>1.036743</td>\n",
       "    </tr>\n",
       "    <tr>\n",
       "      <th>2</th>\n",
       "      <td>-1.170887</td>\n",
       "      <td>True</td>\n",
       "      <td>2.414129</td>\n",
       "      <td>0.054825</td>\n",
       "      <td>18.239740</td>\n",
       "    </tr>\n",
       "    <tr>\n",
       "      <th>3</th>\n",
       "      <td>-0.882332</td>\n",
       "      <td>True</td>\n",
       "      <td>3.547947</td>\n",
       "      <td>0.101932</td>\n",
       "      <td>9.810507</td>\n",
       "    </tr>\n",
       "    <tr>\n",
       "      <th>4</th>\n",
       "      <td>-0.604681</td>\n",
       "      <td>True</td>\n",
       "      <td>4.148041</td>\n",
       "      <td>0.177988</td>\n",
       "      <td>5.618366</td>\n",
       "    </tr>\n",
       "    <tr>\n",
       "      <th>...</th>\n",
       "      <td>...</td>\n",
       "      <td>...</td>\n",
       "      <td>...</td>\n",
       "      <td>...</td>\n",
       "      <td>...</td>\n",
       "    </tr>\n",
       "    <tr>\n",
       "      <th>995</th>\n",
       "      <td>0.708529</td>\n",
       "      <td>True</td>\n",
       "      <td>6.244836</td>\n",
       "      <td>0.821260</td>\n",
       "      <td>1.217641</td>\n",
       "    </tr>\n",
       "    <tr>\n",
       "      <th>996</th>\n",
       "      <td>-0.448990</td>\n",
       "      <td>True</td>\n",
       "      <td>6.143422</td>\n",
       "      <td>0.237243</td>\n",
       "      <td>4.215083</td>\n",
       "    </tr>\n",
       "    <tr>\n",
       "      <th>997</th>\n",
       "      <td>-1.186052</td>\n",
       "      <td>True</td>\n",
       "      <td>1.844468</td>\n",
       "      <td>0.053026</td>\n",
       "      <td>18.858814</td>\n",
       "    </tr>\n",
       "    <tr>\n",
       "      <th>998</th>\n",
       "      <td>-0.947192</td>\n",
       "      <td>True</td>\n",
       "      <td>2.289791</td>\n",
       "      <td>0.088925</td>\n",
       "      <td>11.245416</td>\n",
       "    </tr>\n",
       "    <tr>\n",
       "      <th>999</th>\n",
       "      <td>0.791834</td>\n",
       "      <td>True</td>\n",
       "      <td>5.907563</td>\n",
       "      <td>0.847962</td>\n",
       "      <td>1.179299</td>\n",
       "    </tr>\n",
       "  </tbody>\n",
       "</table>\n",
       "<p>1000 rows × 5 columns</p>\n",
       "</div>"
      ],
      "text/plain": [
       "           W0    v0         y  propensity_score     weight\n",
       "0   -0.533548  True  3.663837          0.203500   4.914012\n",
       "1    1.473211  True  5.357118          0.964559   1.036743\n",
       "2   -1.170887  True  2.414129          0.054825  18.239740\n",
       "3   -0.882332  True  3.547947          0.101932   9.810507\n",
       "4   -0.604681  True  4.148041          0.177988   5.618366\n",
       "..        ...   ...       ...               ...        ...\n",
       "995  0.708529  True  6.244836          0.821260   1.217641\n",
       "996 -0.448990  True  6.143422          0.237243   4.215083\n",
       "997 -1.186052  True  1.844468          0.053026  18.858814\n",
       "998 -0.947192  True  2.289791          0.088925  11.245416\n",
       "999  0.791834  True  5.907563          0.847962   1.179299\n",
       "\n",
       "[1000 rows x 5 columns]"
      ]
     },
     "execution_count": 7,
     "metadata": {},
     "output_type": "execute_result"
    }
   ],
   "source": [
    "cdf_1"
   ]
  },
  {
   "cell_type": "markdown",
   "metadata": {},
   "source": [
    "## Comparing the estimate to Linear Regression\n",
    "First, estimating the effect using the causal data frame, and the 95% confidence interval."
   ]
  },
  {
   "cell_type": "code",
   "execution_count": 8,
   "metadata": {
    "execution": {
     "iopub.execute_input": "2023-05-22T22:56:42.202263Z",
     "iopub.status.busy": "2023-05-22T22:56:42.201771Z",
     "iopub.status.idle": "2023-05-22T22:56:42.261978Z",
     "shell.execute_reply": "2023-05-22T22:56:42.259169Z"
    }
   },
   "outputs": [
    {
     "data": {
      "image/png": "[encoded data removed]",
      "text/latex": [
       "$\\displaystyle 5.19060481425634$"
      ],
      "text/plain": [
       "5.190604814256345"
      ]
     },
     "execution_count": 8,
     "metadata": {},
     "output_type": "execute_result"
    }
   ],
   "source": [
    "(cdf_1['y'] - cdf_0['y']).mean()"
   ]
  },
  {
   "cell_type": "code",
   "execution_count": 9,
   "metadata": {
    "execution": {
     "iopub.execute_input": "2023-05-22T22:56:42.264950Z",
     "iopub.status.busy": "2023-05-22T22:56:42.264408Z",
     "iopub.status.idle": "2023-05-22T22:56:42.284860Z",
     "shell.execute_reply": "2023-05-22T22:56:42.284252Z"
    }
   },
   "outputs": [
    {
     "data": {
      "image/png": "[encoded data removed]",
      "text/latex": [
       "$\\displaystyle 0.141044781358537$"
      ],
      "text/plain": [
       "0.14104478135853704"
      ]
     },
     "execution_count": 9,
     "metadata": {},
     "output_type": "execute_result"
    }
   ],
   "source": [
    "1.96*(cdf_1['y'] - cdf_0['y']).std() / np.sqrt(len(df))"
   ]
  },
  {
   "cell_type": "markdown",
   "metadata": {},
   "source": [
    "Comparing to the estimate from OLS."
   ]
  },
  {
   "cell_type": "code",
   "execution_count": 10,
   "metadata": {
    "execution": {
     "iopub.execute_input": "2023-05-22T22:56:42.287441Z",
     "iopub.status.busy": "2023-05-22T22:56:42.287130Z",
     "iopub.status.idle": "2023-05-22T22:56:42.302023Z",
     "shell.execute_reply": "2023-05-22T22:56:42.301494Z"
    }
   },
   "outputs": [
    {
     "data": {
      "text/html": [
       "<table class=\"simpletable\">\n",
       "<caption>OLS Regression Results</caption>\n",
       "<tr>\n",
       "  <th>Dep. Variable:</th>            <td>y</td>        <th>  R-squared (uncentered):</th>      <td>   0.923</td>\n",
       "</tr>\n",
       "<tr>\n",
       "  <th>Model:</th>                   <td>OLS</td>       <th>  Adj. R-squared (uncentered):</th> <td>   0.923</td>\n",
       "</tr>\n",
       "<tr>\n",
       "  <th>Method:</th>             <td>Least Squares</td>  <th>  F-statistic:       </th>          <td>   5994.</td>\n",
       "</tr>\n",
       "<tr>\n",
       "  <th>Date:</th>             <td>Mon, 22 May 2023</td> <th>  Prob (F-statistic):</th>           <td>  0.00</td> \n",
       "</tr>\n",
       "<tr>\n",
       "  <th>Time:</th>                 <td>22:56:42</td>     <th>  Log-Likelihood:    </th>          <td> -1431.8</td>\n",
       "</tr>\n",
       "<tr>\n",
       "  <th>No. Observations:</th>      <td>  1000</td>      <th>  AIC:               </th>          <td>   2868.</td>\n",
       "</tr>\n",
       "<tr>\n",
       "  <th>Df Residuals:</th>          <td>   998</td>      <th>  BIC:               </th>          <td>   2877.</td>\n",
       "</tr>\n",
       "<tr>\n",
       "  <th>Df Model:</th>              <td>     2</td>      <th>                     </th>              <td> </td>   \n",
       "</tr>\n",
       "<tr>\n",
       "  <th>Covariance Type:</th>      <td>nonrobust</td>    <th>                     </th>              <td> </td>   \n",
       "</tr>\n",
       "</table>\n",
       "<table class=\"simpletable\">\n",
       "<tr>\n",
       "   <td></td>     <th>coef</th>     <th>std err</th>      <th>t</th>      <th>P>|t|</th>  <th>[0.025</th>    <th>0.975]</th>  \n",
       "</tr>\n",
       "<tr>\n",
       "  <th>x1</th> <td>    1.3862</td> <td>    0.029</td> <td>   47.968</td> <td> 0.000</td> <td>    1.329</td> <td>    1.443</td>\n",
       "</tr>\n",
       "<tr>\n",
       "  <th>x2</th> <td>    4.9750</td> <td>    0.057</td> <td>   86.597</td> <td> 0.000</td> <td>    4.862</td> <td>    5.088</td>\n",
       "</tr>\n",
       "</table>\n",
       "<table class=\"simpletable\">\n",
       "<tr>\n",
       "  <th>Omnibus:</th>       <td> 1.767</td> <th>  Durbin-Watson:     </th> <td>   1.872</td>\n",
       "</tr>\n",
       "<tr>\n",
       "  <th>Prob(Omnibus):</th> <td> 0.413</td> <th>  Jarque-Bera (JB):  </th> <td>   1.683</td>\n",
       "</tr>\n",
       "<tr>\n",
       "  <th>Skew:</th>          <td>-0.099</td> <th>  Prob(JB):          </th> <td>   0.431</td>\n",
       "</tr>\n",
       "<tr>\n",
       "  <th>Kurtosis:</th>      <td> 3.038</td> <th>  Cond. No.          </th> <td>    2.06</td>\n",
       "</tr>\n",
       "</table><br/><br/>Notes:<br/>[1] R² is computed without centering (uncentered) since the model does not contain a constant.<br/>[2] Standard Errors assume that the covariance matrix of the errors is correctly specified."
      ],
      "text/plain": [
       "<class 'statsmodels.iolib.summary.Summary'>\n",
       "\"\"\"\n",
       "                                 OLS Regression Results                                \n",
       "=======================================================================================\n",
       "Dep. Variable:                      y   R-squared (uncentered):                   0.923\n",
       "Model:                            OLS   Adj. R-squared (uncentered):              0.923\n",
       "Method:                 Least Squares   F-statistic:                              5994.\n",
       "Date:                Mon, 22 May 2023   Prob (F-statistic):                        0.00\n",
       "Time:                        22:56:42   Log-Likelihood:                         -1431.8\n",
       "No. Observations:                1000   AIC:                                      2868.\n",
       "Df Residuals:                     998   BIC:                                      2877.\n",
       "Df Model:                           2                                                  \n",
       "Covariance Type:            nonrobust                                                  \n",
       "==============================================================================\n",
       "                 coef    std err          t      P>|t|      [0.025      0.975]\n",
       "------------------------------------------------------------------------------\n",
       "x1             1.3862      0.029     47.968      0.000       1.329       1.443\n",
       "x2             4.9750      0.057     86.597      0.000       4.862       5.088\n",
       "==============================================================================\n",
       "Omnibus:                        1.767   Durbin-Watson:                   1.872\n",
       "Prob(Omnibus):                  0.413   Jarque-Bera (JB):                1.683\n",
       "Skew:                          -0.099   Prob(JB):                        0.431\n",
       "Kurtosis:                       3.038   Cond. No.                         2.06\n",
       "==============================================================================\n",
       "\n",
       "Notes:\n",
       "[1] R² is computed without centering (uncentered) since the model does not contain a constant.\n",
       "[2] Standard Errors assume that the covariance matrix of the errors is correctly specified.\n",
       "\"\"\""
      ]
     },
     "execution_count": 10,
     "metadata": {},
     "output_type": "execute_result"
    }
   ],
   "source": [
    "model = OLS(np.asarray(df[outcome]), np.asarray(df[[common_cause, treatment]], dtype=np.float64))\n",
    "result = model.fit()\n",
    "result.summary()"
   ]
  }
 ],
 "metadata": {
  "kernelspec": {
   "display_name": "Python 3",
   "language": "python",
   "name": "python3"
  },
  "language_info": {
   "codemirror_mode": {
    "name": "ipython",
    "version": 3
   },
   "file_extension": ".py",
   "mimetype": "text/x-python",
   "name": "python",
   "nbconvert_exporter": "python",
   "pygments_lexer": "ipython3",
   "version": "3.8.10"
  },
  "toc": {
   "base_numbering": 1,
   "nav_menu": {},
   "number_sections": false,
   "sideBar": true,
   "skip_h1_title": true,
   "title_cell": "Table of Contents",
   "title_sidebar": "Contents",
   "toc_cell": false,
   "toc_position": {},
   "toc_section_display": true,
   "toc_window_display": false
  }
 },
 "nbformat": 4,
 "nbformat_minor": 4
}
