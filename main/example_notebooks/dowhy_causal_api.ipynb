{
 "cells": [
  {
   "cell_type": "markdown",
   "metadata": {},
   "source": [
    "# Demo for the DoWhy causal API\n",
    "We show a simple example of adding a causal extension to any dataframe. "
   ]
  },
  {
   "cell_type": "code",
   "execution_count": 1,
   "metadata": {
    "execution": {
     "iopub.execute_input": "2023-12-01T15:08:12.436718Z",
     "iopub.status.busy": "2023-12-01T15:08:12.436330Z",
     "iopub.status.idle": "2023-12-01T15:08:13.762198Z",
     "shell.execute_reply": "2023-12-01T15:08:13.761614Z"
    }
   },
   "outputs": [],
   "source": [
    "import dowhy.datasets\n",
    "import dowhy.api\n",
    "from dowhy.graph import build_graph_from_str\n",
    "\n",
    "import numpy as np\n",
    "import pandas as pd\n",
    "\n",
    "from statsmodels.api import OLS"
   ]
  },
  {
   "cell_type": "code",
   "execution_count": 2,
   "metadata": {
    "execution": {
     "iopub.execute_input": "2023-12-01T15:08:13.765129Z",
     "iopub.status.busy": "2023-12-01T15:08:13.764573Z",
     "iopub.status.idle": "2023-12-01T15:08:13.801453Z",
     "shell.execute_reply": "2023-12-01T15:08:13.800873Z"
    }
   },
   "outputs": [
    {
     "data": {
      "text/html": [
       "<div>\n",
       "<style scoped>\n",
       "    .dataframe tbody tr th:only-of-type {\n",
       "        vertical-align: middle;\n",
       "    }\n",
       "\n",
       "    .dataframe tbody tr th {\n",
       "        vertical-align: top;\n",
       "    }\n",
       "\n",
       "    .dataframe thead th {\n",
       "        text-align: right;\n",
       "    }\n",
       "</style>\n",
       "<table border=\"1\" class=\"dataframe\">\n",
       "  <thead>\n",
       "    <tr style=\"text-align: right;\">\n",
       "      <th></th>\n",
       "      <th>W0</th>\n",
       "      <th>v0</th>\n",
       "      <th>y</th>\n",
       "    </tr>\n",
       "  </thead>\n",
       "  <tbody>\n",
       "    <tr>\n",
       "      <th>0</th>\n",
       "      <td>0.742907</td>\n",
       "      <td>True</td>\n",
       "      <td>5.548482</td>\n",
       "    </tr>\n",
       "    <tr>\n",
       "      <th>1</th>\n",
       "      <td>-0.578994</td>\n",
       "      <td>True</td>\n",
       "      <td>3.978631</td>\n",
       "    </tr>\n",
       "    <tr>\n",
       "      <th>2</th>\n",
       "      <td>1.083485</td>\n",
       "      <td>True</td>\n",
       "      <td>5.150893</td>\n",
       "    </tr>\n",
       "    <tr>\n",
       "      <th>3</th>\n",
       "      <td>1.825167</td>\n",
       "      <td>True</td>\n",
       "      <td>5.792097</td>\n",
       "    </tr>\n",
       "    <tr>\n",
       "      <th>4</th>\n",
       "      <td>0.412343</td>\n",
       "      <td>False</td>\n",
       "      <td>1.715940</td>\n",
       "    </tr>\n",
       "    <tr>\n",
       "      <th>...</th>\n",
       "      <td>...</td>\n",
       "      <td>...</td>\n",
       "      <td>...</td>\n",
       "    </tr>\n",
       "    <tr>\n",
       "      <th>995</th>\n",
       "      <td>0.457370</td>\n",
       "      <td>True</td>\n",
       "      <td>4.309971</td>\n",
       "    </tr>\n",
       "    <tr>\n",
       "      <th>996</th>\n",
       "      <td>1.262566</td>\n",
       "      <td>True</td>\n",
       "      <td>6.610417</td>\n",
       "    </tr>\n",
       "    <tr>\n",
       "      <th>997</th>\n",
       "      <td>-0.423819</td>\n",
       "      <td>False</td>\n",
       "      <td>0.627554</td>\n",
       "    </tr>\n",
       "    <tr>\n",
       "      <th>998</th>\n",
       "      <td>1.845026</td>\n",
       "      <td>True</td>\n",
       "      <td>6.441792</td>\n",
       "    </tr>\n",
       "    <tr>\n",
       "      <th>999</th>\n",
       "      <td>0.856442</td>\n",
       "      <td>True</td>\n",
       "      <td>5.913463</td>\n",
       "    </tr>\n",
       "  </tbody>\n",
       "</table>\n",
       "<p>1000 rows × 3 columns</p>\n",
       "</div>"
      ],
      "text/plain": [
       "           W0     v0         y\n",
       "0    0.742907   True  5.548482\n",
       "1   -0.578994   True  3.978631\n",
       "2    1.083485   True  5.150893\n",
       "3    1.825167   True  5.792097\n",
       "4    0.412343  False  1.715940\n",
       "..        ...    ...       ...\n",
       "995  0.457370   True  4.309971\n",
       "996  1.262566   True  6.610417\n",
       "997 -0.423819  False  0.627554\n",
       "998  1.845026   True  6.441792\n",
       "999  0.856442   True  5.913463\n",
       "\n",
       "[1000 rows x 3 columns]"
      ]
     },
     "execution_count": 2,
     "metadata": {},
     "output_type": "execute_result"
    }
   ],
   "source": [
    "data = dowhy.datasets.linear_dataset(beta=5,\n",
    "        num_common_causes=1,\n",
    "        num_instruments = 0,\n",
    "        num_samples=1000,\n",
    "        treatment_is_binary=True)\n",
    "df = data['df']\n",
    "df['y'] = df['y'] + np.random.normal(size=len(df)) # Adding noise to data. Without noise, the variance in Y|X, Z is zero, and mcmc fails.\n",
    "nx_graph = build_graph_from_str(data[\"dot_graph\"])\n",
    "\n",
    "treatment= data[\"treatment_name\"][0]\n",
    "outcome = data[\"outcome_name\"][0]\n",
    "common_cause = data[\"common_causes_names\"][0]\n",
    "df"
   ]
  },
  {
   "cell_type": "code",
   "execution_count": 3,
   "metadata": {
    "execution": {
     "iopub.execute_input": "2023-12-01T15:08:13.803755Z",
     "iopub.status.busy": "2023-12-01T15:08:13.803342Z",
     "iopub.status.idle": "2023-12-01T15:08:13.987473Z",
     "shell.execute_reply": "2023-12-01T15:08:13.986868Z"
    },
    "scrolled": true
   },
   "outputs": [
    {
     "data": {
      "text/plain": [
       "<Axes: xlabel='v0'>"
      ]
     },
     "execution_count": 3,
     "metadata": {},
     "output_type": "execute_result"
    },
    {
     "data": {
      "image/png": "[encoded data removed]",
      "text/plain": [
       "<Figure size 640x480 with 1 Axes>"
      ]
     },
     "metadata": {},
     "output_type": "display_data"
    }
   ],
   "source": [
    "# data['df'] is just a regular pandas.DataFrame\n",
    "df.causal.do(x=treatment,\n",
    "             variable_types={treatment: 'b', outcome: 'c', common_cause: 'c'},\n",
    "             outcome=outcome,\n",
    "             common_causes=[common_cause],\n",
    "            ).groupby(treatment).mean().plot(y=outcome, kind='bar')"
   ]
  },
  {
   "cell_type": "code",
   "execution_count": 4,
   "metadata": {
    "execution": {
     "iopub.execute_input": "2023-12-01T15:08:13.989928Z",
     "iopub.status.busy": "2023-12-01T15:08:13.989480Z",
     "iopub.status.idle": "2023-12-01T15:08:14.120996Z",
     "shell.execute_reply": "2023-12-01T15:08:14.120354Z"
    }
   },
   "outputs": [
    {
     "data": {
      "text/plain": [
       "<Axes: xlabel='v0'>"
      ]
     },
     "execution_count": 4,
     "metadata": {},
     "output_type": "execute_result"
    },
    {
     "data": {
      "image/png": "[encoded data removed]",
      "text/plain": [
       "<Figure size 640x480 with 1 Axes>"
      ]
     },
     "metadata": {},
     "output_type": "display_data"
    }
   ],
   "source": [
    "df.causal.do(x={treatment: 1}, \n",
    "              variable_types={treatment:'b', outcome: 'c', common_cause: 'c'}, \n",
    "              outcome=outcome,\n",
    "              method='weighting', \n",
    "              common_causes=[common_cause]\n",
    "              ).groupby(treatment).mean().plot(y=outcome, kind='bar')"
   ]
  },
  {
   "cell_type": "code",
   "execution_count": 5,
   "metadata": {
    "execution": {
     "iopub.execute_input": "2023-12-01T15:08:14.124020Z",
     "iopub.status.busy": "2023-12-01T15:08:14.123644Z",
     "iopub.status.idle": "2023-12-01T15:08:14.144610Z",
     "shell.execute_reply": "2023-12-01T15:08:14.144023Z"
    }
   },
   "outputs": [],
   "source": [
    "cdf_1 = df.causal.do(x={treatment: 1}, \n",
    "              variable_types={treatment: 'b', outcome: 'c', common_cause: 'c'}, \n",
    "              outcome=outcome, \n",
    "              graph=nx_graph\n",
    "              )\n",
    "\n",
    "cdf_0 = df.causal.do(x={treatment: 0}, \n",
    "              variable_types={treatment: 'b', outcome: 'c', common_cause: 'c'}, \n",
    "              outcome=outcome, \n",
    "              graph=nx_graph\n",
    "              )\n"
   ]
  },
  {
   "cell_type": "code",
   "execution_count": 6,
   "metadata": {
    "execution": {
     "iopub.execute_input": "2023-12-01T15:08:14.146970Z",
     "iopub.status.busy": "2023-12-01T15:08:14.146628Z",
     "iopub.status.idle": "2023-12-01T15:08:14.154969Z",
     "shell.execute_reply": "2023-12-01T15:08:14.154442Z"
    },
    "scrolled": true
   },
   "outputs": [
    {
     "data": {
      "text/html": [
       "<div>\n",
       "<style scoped>\n",
       "    .dataframe tbody tr th:only-of-type {\n",
       "        vertical-align: middle;\n",
       "    }\n",
       "\n",
       "    .dataframe tbody tr th {\n",
       "        vertical-align: top;\n",
       "    }\n",
       "\n",
       "    .dataframe thead th {\n",
       "        text-align: right;\n",
       "    }\n",
       "</style>\n",
       "<table border=\"1\" class=\"dataframe\">\n",
       "  <thead>\n",
       "    <tr style=\"text-align: right;\">\n",
       "      <th></th>\n",
       "      <th>W0</th>\n",
       "      <th>v0</th>\n",
       "      <th>y</th>\n",
       "      <th>propensity_score</th>\n",
       "      <th>weight</th>\n",
       "    </tr>\n",
       "  </thead>\n",
       "  <tbody>\n",
       "    <tr>\n",
       "      <th>0</th>\n",
       "      <td>2.767089</td>\n",
       "      <td>False</td>\n",
       "      <td>2.060565</td>\n",
       "      <td>0.014798</td>\n",
       "      <td>67.578123</td>\n",
       "    </tr>\n",
       "    <tr>\n",
       "      <th>1</th>\n",
       "      <td>-1.129012</td>\n",
       "      <td>False</td>\n",
       "      <td>-1.747257</td>\n",
       "      <td>0.843427</td>\n",
       "      <td>1.185638</td>\n",
       "    </tr>\n",
       "    <tr>\n",
       "      <th>2</th>\n",
       "      <td>0.314696</td>\n",
       "      <td>False</td>\n",
       "      <td>-0.992390</td>\n",
       "      <td>0.378539</td>\n",
       "      <td>2.641736</td>\n",
       "    </tr>\n",
       "    <tr>\n",
       "      <th>3</th>\n",
       "      <td>0.209535</td>\n",
       "      <td>False</td>\n",
       "      <td>-0.095910</td>\n",
       "      <td>0.416543</td>\n",
       "      <td>2.400714</td>\n",
       "    </tr>\n",
       "    <tr>\n",
       "      <th>4</th>\n",
       "      <td>0.420335</td>\n",
       "      <td>False</td>\n",
       "      <td>0.472654</td>\n",
       "      <td>0.341808</td>\n",
       "      <td>2.925621</td>\n",
       "    </tr>\n",
       "    <tr>\n",
       "      <th>...</th>\n",
       "      <td>...</td>\n",
       "      <td>...</td>\n",
       "      <td>...</td>\n",
       "      <td>...</td>\n",
       "      <td>...</td>\n",
       "    </tr>\n",
       "    <tr>\n",
       "      <th>995</th>\n",
       "      <td>1.369470</td>\n",
       "      <td>False</td>\n",
       "      <td>0.529316</td>\n",
       "      <td>0.110244</td>\n",
       "      <td>9.070786</td>\n",
       "    </tr>\n",
       "    <tr>\n",
       "      <th>996</th>\n",
       "      <td>2.558555</td>\n",
       "      <td>False</td>\n",
       "      <td>3.192225</td>\n",
       "      <td>0.020163</td>\n",
       "      <td>49.595492</td>\n",
       "    </tr>\n",
       "    <tr>\n",
       "      <th>997</th>\n",
       "      <td>1.763665</td>\n",
       "      <td>False</td>\n",
       "      <td>2.752253</td>\n",
       "      <td>0.063960</td>\n",
       "      <td>15.634859</td>\n",
       "    </tr>\n",
       "    <tr>\n",
       "      <th>998</th>\n",
       "      <td>-1.816281</td>\n",
       "      <td>False</td>\n",
       "      <td>-0.227931</td>\n",
       "      <td>0.938289</td>\n",
       "      <td>1.065770</td>\n",
       "    </tr>\n",
       "    <tr>\n",
       "      <th>999</th>\n",
       "      <td>2.558555</td>\n",
       "      <td>False</td>\n",
       "      <td>3.192225</td>\n",
       "      <td>0.020163</td>\n",
       "      <td>49.595492</td>\n",
       "    </tr>\n",
       "  </tbody>\n",
       "</table>\n",
       "<p>1000 rows × 5 columns</p>\n",
       "</div>"
      ],
      "text/plain": [
       "           W0     v0         y  propensity_score     weight\n",
       "0    2.767089  False  2.060565          0.014798  67.578123\n",
       "1   -1.129012  False -1.747257          0.843427   1.185638\n",
       "2    0.314696  False -0.992390          0.378539   2.641736\n",
       "3    0.209535  False -0.095910          0.416543   2.400714\n",
       "4    0.420335  False  0.472654          0.341808   2.925621\n",
       "..        ...    ...       ...               ...        ...\n",
       "995  1.369470  False  0.529316          0.110244   9.070786\n",
       "996  2.558555  False  3.192225          0.020163  49.595492\n",
       "997  1.763665  False  2.752253          0.063960  15.634859\n",
       "998 -1.816281  False -0.227931          0.938289   1.065770\n",
       "999  2.558555  False  3.192225          0.020163  49.595492\n",
       "\n",
       "[1000 rows x 5 columns]"
      ]
     },
     "execution_count": 6,
     "metadata": {},
     "output_type": "execute_result"
    }
   ],
   "source": [
    "cdf_0"
   ]
  },
  {
   "cell_type": "code",
   "execution_count": 7,
   "metadata": {
    "execution": {
     "iopub.execute_input": "2023-12-01T15:08:14.157112Z",
     "iopub.status.busy": "2023-12-01T15:08:14.156779Z",
     "iopub.status.idle": "2023-12-01T15:08:14.164884Z",
     "shell.execute_reply": "2023-12-01T15:08:14.164387Z"
    }
   },
   "outputs": [
    {
     "data": {
      "text/html": [
       "<div>\n",
       "<style scoped>\n",
       "    .dataframe tbody tr th:only-of-type {\n",
       "        vertical-align: middle;\n",
       "    }\n",
       "\n",
       "    .dataframe tbody tr th {\n",
       "        vertical-align: top;\n",
       "    }\n",
       "\n",
       "    .dataframe thead th {\n",
       "        text-align: right;\n",
       "    }\n",
       "</style>\n",
       "<table border=\"1\" class=\"dataframe\">\n",
       "  <thead>\n",
       "    <tr style=\"text-align: right;\">\n",
       "      <th></th>\n",
       "      <th>W0</th>\n",
       "      <th>v0</th>\n",
       "      <th>y</th>\n",
       "      <th>propensity_score</th>\n",
       "      <th>weight</th>\n",
       "    </tr>\n",
       "  </thead>\n",
       "  <tbody>\n",
       "    <tr>\n",
       "      <th>0</th>\n",
       "      <td>-1.215822</td>\n",
       "      <td>True</td>\n",
       "      <td>4.095807</td>\n",
       "      <td>0.140032</td>\n",
       "      <td>7.141200</td>\n",
       "    </tr>\n",
       "    <tr>\n",
       "      <th>1</th>\n",
       "      <td>1.841199</td>\n",
       "      <td>True</td>\n",
       "      <td>6.864446</td>\n",
       "      <td>0.942701</td>\n",
       "      <td>1.060782</td>\n",
       "    </tr>\n",
       "    <tr>\n",
       "      <th>2</th>\n",
       "      <td>-0.081652</td>\n",
       "      <td>True</td>\n",
       "      <td>4.426283</td>\n",
       "      <td>0.474360</td>\n",
       "      <td>2.108105</td>\n",
       "    </tr>\n",
       "    <tr>\n",
       "      <th>3</th>\n",
       "      <td>1.312408</td>\n",
       "      <td>True</td>\n",
       "      <td>5.930213</td>\n",
       "      <td>0.881017</td>\n",
       "      <td>1.135051</td>\n",
       "    </tr>\n",
       "    <tr>\n",
       "      <th>4</th>\n",
       "      <td>1.532552</td>\n",
       "      <td>True</td>\n",
       "      <td>5.552142</td>\n",
       "      <td>0.911692</td>\n",
       "      <td>1.096862</td>\n",
       "    </tr>\n",
       "    <tr>\n",
       "      <th>...</th>\n",
       "      <td>...</td>\n",
       "      <td>...</td>\n",
       "      <td>...</td>\n",
       "      <td>...</td>\n",
       "      <td>...</td>\n",
       "    </tr>\n",
       "    <tr>\n",
       "      <th>995</th>\n",
       "      <td>-1.108822</td>\n",
       "      <td>True</td>\n",
       "      <td>3.389748</td>\n",
       "      <td>0.160640</td>\n",
       "      <td>6.225089</td>\n",
       "    </tr>\n",
       "    <tr>\n",
       "      <th>996</th>\n",
       "      <td>-0.988677</td>\n",
       "      <td>True</td>\n",
       "      <td>6.746436</td>\n",
       "      <td>0.186627</td>\n",
       "      <td>5.358278</td>\n",
       "    </tr>\n",
       "    <tr>\n",
       "      <th>997</th>\n",
       "      <td>1.859752</td>\n",
       "      <td>True</td>\n",
       "      <td>6.619564</td>\n",
       "      <td>0.944195</td>\n",
       "      <td>1.059103</td>\n",
       "    </tr>\n",
       "    <tr>\n",
       "      <th>998</th>\n",
       "      <td>-0.988677</td>\n",
       "      <td>True</td>\n",
       "      <td>6.746436</td>\n",
       "      <td>0.186627</td>\n",
       "      <td>5.358278</td>\n",
       "    </tr>\n",
       "    <tr>\n",
       "      <th>999</th>\n",
       "      <td>-0.676613</td>\n",
       "      <td>True</td>\n",
       "      <td>4.900730</td>\n",
       "      <td>0.268760</td>\n",
       "      <td>3.720794</td>\n",
       "    </tr>\n",
       "  </tbody>\n",
       "</table>\n",
       "<p>1000 rows × 5 columns</p>\n",
       "</div>"
      ],
      "text/plain": [
       "           W0    v0         y  propensity_score    weight\n",
       "0   -1.215822  True  4.095807          0.140032  7.141200\n",
       "1    1.841199  True  6.864446          0.942701  1.060782\n",
       "2   -0.081652  True  4.426283          0.474360  2.108105\n",
       "3    1.312408  True  5.930213          0.881017  1.135051\n",
       "4    1.532552  True  5.552142          0.911692  1.096862\n",
       "..        ...   ...       ...               ...       ...\n",
       "995 -1.108822  True  3.389748          0.160640  6.225089\n",
       "996 -0.988677  True  6.746436          0.186627  5.358278\n",
       "997  1.859752  True  6.619564          0.944195  1.059103\n",
       "998 -0.988677  True  6.746436          0.186627  5.358278\n",
       "999 -0.676613  True  4.900730          0.268760  3.720794\n",
       "\n",
       "[1000 rows x 5 columns]"
      ]
     },
     "execution_count": 7,
     "metadata": {},
     "output_type": "execute_result"
    }
   ],
   "source": [
    "cdf_1"
   ]
  },
  {
   "cell_type": "markdown",
   "metadata": {},
   "source": [
    "## Comparing the estimate to Linear Regression\n",
    "First, estimating the effect using the causal data frame, and the 95% confidence interval."
   ]
  },
  {
   "cell_type": "code",
   "execution_count": 8,
   "metadata": {
    "execution": {
     "iopub.execute_input": "2023-12-01T15:08:14.167016Z",
     "iopub.status.busy": "2023-12-01T15:08:14.166682Z",
     "iopub.status.idle": "2023-12-01T15:08:14.212441Z",
     "shell.execute_reply": "2023-12-01T15:08:14.211888Z"
    }
   },
   "outputs": [
    {
     "data": {
      "image/png": "[encoded data removed]",
      "text/latex": [
       "$\\displaystyle 4.9517814151569$"
      ],
      "text/plain": [
       "4.951781415156898"
      ]
     },
     "execution_count": 8,
     "metadata": {},
     "output_type": "execute_result"
    }
   ],
   "source": [
    "(cdf_1['y'] - cdf_0['y']).mean()"
   ]
  },
  {
   "cell_type": "code",
   "execution_count": 9,
   "metadata": {
    "execution": {
     "iopub.execute_input": "2023-12-01T15:08:14.214541Z",
     "iopub.status.busy": "2023-12-01T15:08:14.214200Z",
     "iopub.status.idle": "2023-12-01T15:08:14.230691Z",
     "shell.execute_reply": "2023-12-01T15:08:14.230184Z"
    }
   },
   "outputs": [
    {
     "data": {
      "image/png": "[encoded data removed]",
      "text/latex": [
       "$\\displaystyle 0.123483086126202$"
      ],
      "text/plain": [
       "0.12348308612620192"
      ]
     },
     "execution_count": 9,
     "metadata": {},
     "output_type": "execute_result"
    }
   ],
   "source": [
    "1.96*(cdf_1['y'] - cdf_0['y']).std() / np.sqrt(len(df))"
   ]
  },
  {
   "cell_type": "markdown",
   "metadata": {},
   "source": [
    "Comparing to the estimate from OLS."
   ]
  },
  {
   "cell_type": "code",
   "execution_count": 10,
   "metadata": {
    "execution": {
     "iopub.execute_input": "2023-12-01T15:08:14.232831Z",
     "iopub.status.busy": "2023-12-01T15:08:14.232492Z",
     "iopub.status.idle": "2023-12-01T15:08:14.248553Z",
     "shell.execute_reply": "2023-12-01T15:08:14.248029Z"
    }
   },
   "outputs": [
    {
     "data": {
      "text/html": [
       "<table class=\"simpletable\">\n",
       "<caption>OLS Regression Results</caption>\n",
       "<tr>\n",
       "  <th>Dep. Variable:</th>            <td>y</td>        <th>  R-squared (uncentered):</th>      <td>   0.956</td> \n",
       "</tr>\n",
       "<tr>\n",
       "  <th>Model:</th>                   <td>OLS</td>       <th>  Adj. R-squared (uncentered):</th> <td>   0.956</td> \n",
       "</tr>\n",
       "<tr>\n",
       "  <th>Method:</th>             <td>Least Squares</td>  <th>  F-statistic:       </th>          <td>1.075e+04</td>\n",
       "</tr>\n",
       "<tr>\n",
       "  <th>Date:</th>             <td>Fri, 01 Dec 2023</td> <th>  Prob (F-statistic):</th>           <td>  0.00</td>  \n",
       "</tr>\n",
       "<tr>\n",
       "  <th>Time:</th>                 <td>15:08:14</td>     <th>  Log-Likelihood:    </th>          <td> -1388.7</td> \n",
       "</tr>\n",
       "<tr>\n",
       "  <th>No. Observations:</th>      <td>  1000</td>      <th>  AIC:               </th>          <td>   2781.</td> \n",
       "</tr>\n",
       "<tr>\n",
       "  <th>Df Residuals:</th>          <td>   998</td>      <th>  BIC:               </th>          <td>   2791.</td> \n",
       "</tr>\n",
       "<tr>\n",
       "  <th>Df Model:</th>              <td>     2</td>      <th>                     </th>              <td> </td>    \n",
       "</tr>\n",
       "<tr>\n",
       "  <th>Covariance Type:</th>      <td>nonrobust</td>    <th>                     </th>              <td> </td>    \n",
       "</tr>\n",
       "</table>\n",
       "<table class=\"simpletable\">\n",
       "<tr>\n",
       "   <td></td>     <th>coef</th>     <th>std err</th>      <th>t</th>      <th>P>|t|</th>  <th>[0.025</th>    <th>0.975]</th>  \n",
       "</tr>\n",
       "<tr>\n",
       "  <th>x1</th> <td>    0.9712</td> <td>    0.036</td> <td>   27.106</td> <td> 0.000</td> <td>    0.901</td> <td>    1.041</td>\n",
       "</tr>\n",
       "<tr>\n",
       "  <th>x2</th> <td>    4.9918</td> <td>    0.049</td> <td>  102.659</td> <td> 0.000</td> <td>    4.896</td> <td>    5.087</td>\n",
       "</tr>\n",
       "</table>\n",
       "<table class=\"simpletable\">\n",
       "<tr>\n",
       "  <th>Omnibus:</th>       <td> 1.619</td> <th>  Durbin-Watson:     </th> <td>   2.088</td>\n",
       "</tr>\n",
       "<tr>\n",
       "  <th>Prob(Omnibus):</th> <td> 0.445</td> <th>  Jarque-Bera (JB):  </th> <td>   1.693</td>\n",
       "</tr>\n",
       "<tr>\n",
       "  <th>Skew:</th>          <td> 0.082</td> <th>  Prob(JB):          </th> <td>   0.429</td>\n",
       "</tr>\n",
       "<tr>\n",
       "  <th>Kurtosis:</th>      <td> 2.883</td> <th>  Cond. No.          </th> <td>    2.07</td>\n",
       "</tr>\n",
       "</table><br/><br/>Notes:<br/>[1] R² is computed without centering (uncentered) since the model does not contain a constant.<br/>[2] Standard Errors assume that the covariance matrix of the errors is correctly specified."
      ],
      "text/latex": [
       "\\begin{center}\n",
       "\\begin{tabular}{lclc}\n",
       "\\toprule\n",
       "\\textbf{Dep. Variable:}    &        y         & \\textbf{  R-squared (uncentered):}      &     0.956   \\\\\n",
       "\\textbf{Model:}            &       OLS        & \\textbf{  Adj. R-squared (uncentered):} &     0.956   \\\\\n",
       "\\textbf{Method:}           &  Least Squares   & \\textbf{  F-statistic:       }          & 1.075e+04   \\\\\n",
       "\\textbf{Date:}             & Fri, 01 Dec 2023 & \\textbf{  Prob (F-statistic):}          &     0.00    \\\\\n",
       "\\textbf{Time:}             &     15:08:14     & \\textbf{  Log-Likelihood:    }          &   -1388.7   \\\\\n",
       "\\textbf{No. Observations:} &        1000      & \\textbf{  AIC:               }          &     2781.   \\\\\n",
       "\\textbf{Df Residuals:}     &         998      & \\textbf{  BIC:               }          &     2791.   \\\\\n",
       "\\textbf{Df Model:}         &           2      & \\textbf{                     }          &             \\\\\n",
       "\\textbf{Covariance Type:}  &    nonrobust     & \\textbf{                     }          &             \\\\\n",
       "\\bottomrule\n",
       "\\end{tabular}\n",
       "\\begin{tabular}{lcccccc}\n",
       "            & \\textbf{coef} & \\textbf{std err} & \\textbf{t} & \\textbf{P$> |$t$|$} & \\textbf{[0.025} & \\textbf{0.975]}  \\\\\n",
       "\\midrule\n",
       "\\textbf{x1} &       0.9712  &        0.036     &    27.106  &         0.000        &        0.901    &        1.041     \\\\\n",
       "\\textbf{x2} &       4.9918  &        0.049     &   102.659  &         0.000        &        4.896    &        5.087     \\\\\n",
       "\\bottomrule\n",
       "\\end{tabular}\n",
       "\\begin{tabular}{lclc}\n",
       "\\textbf{Omnibus:}       &  1.619 & \\textbf{  Durbin-Watson:     } &    2.088  \\\\\n",
       "\\textbf{Prob(Omnibus):} &  0.445 & \\textbf{  Jarque-Bera (JB):  } &    1.693  \\\\\n",
       "\\textbf{Skew:}          &  0.082 & \\textbf{  Prob(JB):          } &    0.429  \\\\\n",
       "\\textbf{Kurtosis:}      &  2.883 & \\textbf{  Cond. No.          } &     2.07  \\\\\n",
       "\\bottomrule\n",
       "\\end{tabular}\n",
       "%\\caption{OLS Regression Results}\n",
       "\\end{center}\n",
       "\n",
       "Notes: \\newline\n",
       " [1] R² is computed without centering (uncentered) since the model does not contain a constant. \\newline\n",
       " [2] Standard Errors assume that the covariance matrix of the errors is correctly specified."
      ],
      "text/plain": [
       "<class 'statsmodels.iolib.summary.Summary'>\n",
       "\"\"\"\n",
       "                                 OLS Regression Results                                \n",
       "=======================================================================================\n",
       "Dep. Variable:                      y   R-squared (uncentered):                   0.956\n",
       "Model:                            OLS   Adj. R-squared (uncentered):              0.956\n",
       "Method:                 Least Squares   F-statistic:                          1.075e+04\n",
       "Date:                Fri, 01 Dec 2023   Prob (F-statistic):                        0.00\n",
       "Time:                        15:08:14   Log-Likelihood:                         -1388.7\n",
       "No. Observations:                1000   AIC:                                      2781.\n",
       "Df Residuals:                     998   BIC:                                      2791.\n",
       "Df Model:                           2                                                  \n",
       "Covariance Type:            nonrobust                                                  \n",
       "==============================================================================\n",
       "                 coef    std err          t      P>|t|      [0.025      0.975]\n",
       "------------------------------------------------------------------------------\n",
       "x1             0.9712      0.036     27.106      0.000       0.901       1.041\n",
       "x2             4.9918      0.049    102.659      0.000       4.896       5.087\n",
       "==============================================================================\n",
       "Omnibus:                        1.619   Durbin-Watson:                   2.088\n",
       "Prob(Omnibus):                  0.445   Jarque-Bera (JB):                1.693\n",
       "Skew:                           0.082   Prob(JB):                        0.429\n",
       "Kurtosis:                       2.883   Cond. No.                         2.07\n",
       "==============================================================================\n",
       "\n",
       "Notes:\n",
       "[1] R² is computed without centering (uncentered) since the model does not contain a constant.\n",
       "[2] Standard Errors assume that the covariance matrix of the errors is correctly specified.\n",
       "\"\"\""
      ]
     },
     "execution_count": 10,
     "metadata": {},
     "output_type": "execute_result"
    }
   ],
   "source": [
    "model = OLS(np.asarray(df[outcome]), np.asarray(df[[common_cause, treatment]], dtype=np.float64))\n",
    "result = model.fit()\n",
    "result.summary()"
   ]
  }
 ],
 "metadata": {
  "kernelspec": {
   "display_name": "Python 3 (ipykernel)",
   "language": "python",
   "name": "python3"
  },
  "language_info": {
   "codemirror_mode": {
    "name": "ipython",
    "version": 3
   },
   "file_extension": ".py",
   "mimetype": "text/x-python",
   "name": "python",
   "nbconvert_exporter": "python",
   "pygments_lexer": "ipython3",
   "version": "3.8.10"
  },
  "toc": {
   "base_numbering": 1,
   "nav_menu": {},
   "number_sections": false,
   "sideBar": true,
   "skip_h1_title": true,
   "title_cell": "Table of Contents",
   "title_sidebar": "Contents",
   "toc_cell": false,
   "toc_position": {},
   "toc_section_display": true,
   "toc_window_display": false
  }
 },
 "nbformat": 4,
 "nbformat_minor": 4
}
