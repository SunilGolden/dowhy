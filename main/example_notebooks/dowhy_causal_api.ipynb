{
 "cells": [
  {
   "cell_type": "markdown",
   "metadata": {},
   "source": [
    "# Demo for the DoWhy causal API\n",
    "We show a simple example of adding a causal extension to any dataframe. "
   ]
  },
  {
   "cell_type": "code",
   "execution_count": 1,
   "metadata": {
    "execution": {
     "iopub.execute_input": "2023-06-20T16:10:10.757112Z",
     "iopub.status.busy": "2023-06-20T16:10:10.756711Z",
     "iopub.status.idle": "2023-06-20T16:10:12.475087Z",
     "shell.execute_reply": "2023-06-20T16:10:12.474389Z"
    }
   },
   "outputs": [],
   "source": [
    "import dowhy.datasets\n",
    "import dowhy.api\n",
    "\n",
    "import numpy as np\n",
    "import pandas as pd\n",
    "\n",
    "from statsmodels.api import OLS"
   ]
  },
  {
   "cell_type": "code",
   "execution_count": 2,
   "metadata": {
    "execution": {
     "iopub.execute_input": "2023-06-20T16:10:12.479085Z",
     "iopub.status.busy": "2023-06-20T16:10:12.478491Z",
     "iopub.status.idle": "2023-06-20T16:10:12.525719Z",
     "shell.execute_reply": "2023-06-20T16:10:12.524566Z"
    }
   },
   "outputs": [
    {
     "data": {
      "text/html": [
       "<div>\n",
       "<style scoped>\n",
       "    .dataframe tbody tr th:only-of-type {\n",
       "        vertical-align: middle;\n",
       "    }\n",
       "\n",
       "    .dataframe tbody tr th {\n",
       "        vertical-align: top;\n",
       "    }\n",
       "\n",
       "    .dataframe thead th {\n",
       "        text-align: right;\n",
       "    }\n",
       "</style>\n",
       "<table border=\"1\" class=\"dataframe\">\n",
       "  <thead>\n",
       "    <tr style=\"text-align: right;\">\n",
       "      <th></th>\n",
       "      <th>W0</th>\n",
       "      <th>v0</th>\n",
       "      <th>y</th>\n",
       "    </tr>\n",
       "  </thead>\n",
       "  <tbody>\n",
       "    <tr>\n",
       "      <th>0</th>\n",
       "      <td>1.448307</td>\n",
       "      <td>False</td>\n",
       "      <td>2.583374</td>\n",
       "    </tr>\n",
       "    <tr>\n",
       "      <th>1</th>\n",
       "      <td>-0.470247</td>\n",
       "      <td>False</td>\n",
       "      <td>-2.583443</td>\n",
       "    </tr>\n",
       "    <tr>\n",
       "      <th>2</th>\n",
       "      <td>0.419880</td>\n",
       "      <td>False</td>\n",
       "      <td>0.976406</td>\n",
       "    </tr>\n",
       "    <tr>\n",
       "      <th>3</th>\n",
       "      <td>-1.612021</td>\n",
       "      <td>True</td>\n",
       "      <td>2.622802</td>\n",
       "    </tr>\n",
       "    <tr>\n",
       "      <th>4</th>\n",
       "      <td>-0.007599</td>\n",
       "      <td>False</td>\n",
       "      <td>0.189429</td>\n",
       "    </tr>\n",
       "    <tr>\n",
       "      <th>...</th>\n",
       "      <td>...</td>\n",
       "      <td>...</td>\n",
       "      <td>...</td>\n",
       "    </tr>\n",
       "    <tr>\n",
       "      <th>995</th>\n",
       "      <td>-0.440922</td>\n",
       "      <td>False</td>\n",
       "      <td>-1.687991</td>\n",
       "    </tr>\n",
       "    <tr>\n",
       "      <th>996</th>\n",
       "      <td>-0.456682</td>\n",
       "      <td>False</td>\n",
       "      <td>0.519231</td>\n",
       "    </tr>\n",
       "    <tr>\n",
       "      <th>997</th>\n",
       "      <td>-0.374730</td>\n",
       "      <td>False</td>\n",
       "      <td>-0.600430</td>\n",
       "    </tr>\n",
       "    <tr>\n",
       "      <th>998</th>\n",
       "      <td>-0.550234</td>\n",
       "      <td>True</td>\n",
       "      <td>4.558195</td>\n",
       "    </tr>\n",
       "    <tr>\n",
       "      <th>999</th>\n",
       "      <td>1.441132</td>\n",
       "      <td>True</td>\n",
       "      <td>9.059567</td>\n",
       "    </tr>\n",
       "  </tbody>\n",
       "</table>\n",
       "<p>1000 rows × 3 columns</p>\n",
       "</div>"
      ],
      "text/plain": [
       "           W0     v0         y\n",
       "0    1.448307  False  2.583374\n",
       "1   -0.470247  False -2.583443\n",
       "2    0.419880  False  0.976406\n",
       "3   -1.612021   True  2.622802\n",
       "4   -0.007599  False  0.189429\n",
       "..        ...    ...       ...\n",
       "995 -0.440922  False -1.687991\n",
       "996 -0.456682  False  0.519231\n",
       "997 -0.374730  False -0.600430\n",
       "998 -0.550234   True  4.558195\n",
       "999  1.441132   True  9.059567\n",
       "\n",
       "[1000 rows x 3 columns]"
      ]
     },
     "execution_count": 2,
     "metadata": {},
     "output_type": "execute_result"
    }
   ],
   "source": [
    "data = dowhy.datasets.linear_dataset(beta=5,\n",
    "        num_common_causes=1,\n",
    "        num_instruments = 0,\n",
    "        num_samples=1000,\n",
    "        treatment_is_binary=True)\n",
    "df = data['df']\n",
    "df['y'] = df['y'] + np.random.normal(size=len(df)) # Adding noise to data. Without noise, the variance in Y|X, Z is zero, and mcmc fails.\n",
    "#data['dot_graph'] = 'digraph { v ->y;X0-> v;X0-> y;}'\n",
    "\n",
    "treatment= data[\"treatment_name\"][0]\n",
    "outcome = data[\"outcome_name\"][0]\n",
    "common_cause = data[\"common_causes_names\"][0]\n",
    "df"
   ]
  },
  {
   "cell_type": "code",
   "execution_count": 3,
   "metadata": {
    "execution": {
     "iopub.execute_input": "2023-06-20T16:10:12.528973Z",
     "iopub.status.busy": "2023-06-20T16:10:12.528580Z",
     "iopub.status.idle": "2023-06-20T16:10:12.680379Z",
     "shell.execute_reply": "2023-06-20T16:10:12.679710Z"
    }
   },
   "outputs": [
    {
     "data": {
      "text/plain": [
       "<AxesSubplot: xlabel='v0'>"
      ]
     },
     "execution_count": 3,
     "metadata": {},
     "output_type": "execute_result"
    },
    {
     "data": {
      "image/png": "[encoded data removed]",
      "text/plain": [
       "<Figure size 640x480 with 1 Axes>"
      ]
     },
     "metadata": {},
     "output_type": "display_data"
    }
   ],
   "source": [
    "# data['df'] is just a regular pandas.DataFrame\n",
    "df.causal.do(x=treatment,\n",
    "                     variable_types={treatment: 'b', outcome: 'c', common_cause: 'c'},\n",
    "                     outcome=outcome,\n",
    "                     common_causes=[common_cause],\n",
    "                     proceed_when_unidentifiable=True).groupby(treatment).mean().plot(y=outcome, kind='bar')"
   ]
  },
  {
   "cell_type": "code",
   "execution_count": 4,
   "metadata": {
    "execution": {
     "iopub.execute_input": "2023-06-20T16:10:12.684713Z",
     "iopub.status.busy": "2023-06-20T16:10:12.683416Z",
     "iopub.status.idle": "2023-06-20T16:10:12.801074Z",
     "shell.execute_reply": "2023-06-20T16:10:12.800491Z"
    }
   },
   "outputs": [
    {
     "data": {
      "text/plain": [
       "<AxesSubplot: xlabel='v0'>"
      ]
     },
     "execution_count": 4,
     "metadata": {},
     "output_type": "execute_result"
    },
    {
     "data": {
      "image/png": "[encoded data removed]",
      "text/plain": [
       "<Figure size 640x480 with 1 Axes>"
      ]
     },
     "metadata": {},
     "output_type": "display_data"
    }
   ],
   "source": [
    "df.causal.do(x={treatment: 1}, \n",
    "              variable_types={treatment:'b', outcome: 'c', common_cause: 'c'}, \n",
    "              outcome=outcome,\n",
    "              method='weighting', \n",
    "              common_causes=[common_cause],\n",
    "              proceed_when_unidentifiable=True).groupby(treatment).mean().plot(y=outcome, kind='bar')"
   ]
  },
  {
   "cell_type": "code",
   "execution_count": 5,
   "metadata": {
    "execution": {
     "iopub.execute_input": "2023-06-20T16:10:12.804638Z",
     "iopub.status.busy": "2023-06-20T16:10:12.804155Z",
     "iopub.status.idle": "2023-06-20T16:10:12.833135Z",
     "shell.execute_reply": "2023-06-20T16:10:12.832548Z"
    }
   },
   "outputs": [],
   "source": [
    "cdf_1 = df.causal.do(x={treatment: 1}, \n",
    "              variable_types={treatment: 'b', outcome: 'c', common_cause: 'c'}, \n",
    "              outcome=outcome, \n",
    "              dot_graph=data['dot_graph'],\n",
    "              proceed_when_unidentifiable=True)\n",
    "\n",
    "cdf_0 = df.causal.do(x={treatment: 0}, \n",
    "              variable_types={treatment: 'b', outcome: 'c', common_cause: 'c'}, \n",
    "              outcome=outcome, \n",
    "              dot_graph=data['dot_graph'],\n",
    "              proceed_when_unidentifiable=True)\n"
   ]
  },
  {
   "cell_type": "code",
   "execution_count": 6,
   "metadata": {
    "execution": {
     "iopub.execute_input": "2023-06-20T16:10:12.836420Z",
     "iopub.status.busy": "2023-06-20T16:10:12.836171Z",
     "iopub.status.idle": "2023-06-20T16:10:12.848754Z",
     "shell.execute_reply": "2023-06-20T16:10:12.848165Z"
    },
    "scrolled": true
   },
   "outputs": [
    {
     "data": {
      "text/html": [
       "<div>\n",
       "<style scoped>\n",
       "    .dataframe tbody tr th:only-of-type {\n",
       "        vertical-align: middle;\n",
       "    }\n",
       "\n",
       "    .dataframe tbody tr th {\n",
       "        vertical-align: top;\n",
       "    }\n",
       "\n",
       "    .dataframe thead th {\n",
       "        text-align: right;\n",
       "    }\n",
       "</style>\n",
       "<table border=\"1\" class=\"dataframe\">\n",
       "  <thead>\n",
       "    <tr style=\"text-align: right;\">\n",
       "      <th></th>\n",
       "      <th>W0</th>\n",
       "      <th>v0</th>\n",
       "      <th>y</th>\n",
       "      <th>propensity_score</th>\n",
       "      <th>weight</th>\n",
       "    </tr>\n",
       "  </thead>\n",
       "  <tbody>\n",
       "    <tr>\n",
       "      <th>0</th>\n",
       "      <td>0.178289</td>\n",
       "      <td>False</td>\n",
       "      <td>0.943390</td>\n",
       "      <td>0.522375</td>\n",
       "      <td>1.914334</td>\n",
       "    </tr>\n",
       "    <tr>\n",
       "      <th>1</th>\n",
       "      <td>-0.138558</td>\n",
       "      <td>False</td>\n",
       "      <td>-0.717078</td>\n",
       "      <td>0.533172</td>\n",
       "      <td>1.875569</td>\n",
       "    </tr>\n",
       "    <tr>\n",
       "      <th>2</th>\n",
       "      <td>-1.369696</td>\n",
       "      <td>False</td>\n",
       "      <td>-3.039239</td>\n",
       "      <td>0.574739</td>\n",
       "      <td>1.739919</td>\n",
       "    </tr>\n",
       "    <tr>\n",
       "      <th>3</th>\n",
       "      <td>0.249897</td>\n",
       "      <td>False</td>\n",
       "      <td>1.206098</td>\n",
       "      <td>0.519932</td>\n",
       "      <td>1.923330</td>\n",
       "    </tr>\n",
       "    <tr>\n",
       "      <th>4</th>\n",
       "      <td>0.181109</td>\n",
       "      <td>False</td>\n",
       "      <td>-0.691829</td>\n",
       "      <td>0.522279</td>\n",
       "      <td>1.914687</td>\n",
       "    </tr>\n",
       "    <tr>\n",
       "      <th>...</th>\n",
       "      <td>...</td>\n",
       "      <td>...</td>\n",
       "      <td>...</td>\n",
       "      <td>...</td>\n",
       "      <td>...</td>\n",
       "    </tr>\n",
       "    <tr>\n",
       "      <th>995</th>\n",
       "      <td>0.866898</td>\n",
       "      <td>False</td>\n",
       "      <td>1.355754</td>\n",
       "      <td>0.498852</td>\n",
       "      <td>2.004605</td>\n",
       "    </tr>\n",
       "    <tr>\n",
       "      <th>996</th>\n",
       "      <td>0.375760</td>\n",
       "      <td>False</td>\n",
       "      <td>0.957872</td>\n",
       "      <td>0.515635</td>\n",
       "      <td>1.939357</td>\n",
       "    </tr>\n",
       "    <tr>\n",
       "      <th>997</th>\n",
       "      <td>1.623464</td>\n",
       "      <td>False</td>\n",
       "      <td>3.650159</td>\n",
       "      <td>0.473017</td>\n",
       "      <td>2.114091</td>\n",
       "    </tr>\n",
       "    <tr>\n",
       "      <th>998</th>\n",
       "      <td>0.258020</td>\n",
       "      <td>False</td>\n",
       "      <td>1.058596</td>\n",
       "      <td>0.519654</td>\n",
       "      <td>1.924356</td>\n",
       "    </tr>\n",
       "    <tr>\n",
       "      <th>999</th>\n",
       "      <td>1.148081</td>\n",
       "      <td>False</td>\n",
       "      <td>2.294286</td>\n",
       "      <td>0.489242</td>\n",
       "      <td>2.043980</td>\n",
       "    </tr>\n",
       "  </tbody>\n",
       "</table>\n",
       "<p>1000 rows × 5 columns</p>\n",
       "</div>"
      ],
      "text/plain": [
       "           W0     v0         y  propensity_score    weight\n",
       "0    0.178289  False  0.943390          0.522375  1.914334\n",
       "1   -0.138558  False -0.717078          0.533172  1.875569\n",
       "2   -1.369696  False -3.039239          0.574739  1.739919\n",
       "3    0.249897  False  1.206098          0.519932  1.923330\n",
       "4    0.181109  False -0.691829          0.522279  1.914687\n",
       "..        ...    ...       ...               ...       ...\n",
       "995  0.866898  False  1.355754          0.498852  2.004605\n",
       "996  0.375760  False  0.957872          0.515635  1.939357\n",
       "997  1.623464  False  3.650159          0.473017  2.114091\n",
       "998  0.258020  False  1.058596          0.519654  1.924356\n",
       "999  1.148081  False  2.294286          0.489242  2.043980\n",
       "\n",
       "[1000 rows x 5 columns]"
      ]
     },
     "execution_count": 6,
     "metadata": {},
     "output_type": "execute_result"
    }
   ],
   "source": [
    "cdf_0"
   ]
  },
  {
   "cell_type": "code",
   "execution_count": 7,
   "metadata": {
    "execution": {
     "iopub.execute_input": "2023-06-20T16:10:12.851977Z",
     "iopub.status.busy": "2023-06-20T16:10:12.851441Z",
     "iopub.status.idle": "2023-06-20T16:10:12.861699Z",
     "shell.execute_reply": "2023-06-20T16:10:12.861202Z"
    }
   },
   "outputs": [
    {
     "data": {
      "text/html": [
       "<div>\n",
       "<style scoped>\n",
       "    .dataframe tbody tr th:only-of-type {\n",
       "        vertical-align: middle;\n",
       "    }\n",
       "\n",
       "    .dataframe tbody tr th {\n",
       "        vertical-align: top;\n",
       "    }\n",
       "\n",
       "    .dataframe thead th {\n",
       "        text-align: right;\n",
       "    }\n",
       "</style>\n",
       "<table border=\"1\" class=\"dataframe\">\n",
       "  <thead>\n",
       "    <tr style=\"text-align: right;\">\n",
       "      <th></th>\n",
       "      <th>W0</th>\n",
       "      <th>v0</th>\n",
       "      <th>y</th>\n",
       "      <th>propensity_score</th>\n",
       "      <th>weight</th>\n",
       "    </tr>\n",
       "  </thead>\n",
       "  <tbody>\n",
       "    <tr>\n",
       "      <th>0</th>\n",
       "      <td>0.725065</td>\n",
       "      <td>True</td>\n",
       "      <td>5.076699</td>\n",
       "      <td>0.496300</td>\n",
       "      <td>2.014909</td>\n",
       "    </tr>\n",
       "    <tr>\n",
       "      <th>1</th>\n",
       "      <td>-0.547173</td>\n",
       "      <td>True</td>\n",
       "      <td>5.698406</td>\n",
       "      <td>0.452952</td>\n",
       "      <td>2.207741</td>\n",
       "    </tr>\n",
       "    <tr>\n",
       "      <th>2</th>\n",
       "      <td>0.023733</td>\n",
       "      <td>True</td>\n",
       "      <td>6.177792</td>\n",
       "      <td>0.472355</td>\n",
       "      <td>2.117051</td>\n",
       "    </tr>\n",
       "    <tr>\n",
       "      <th>3</th>\n",
       "      <td>1.280481</td>\n",
       "      <td>True</td>\n",
       "      <td>6.678500</td>\n",
       "      <td>0.515281</td>\n",
       "      <td>1.940689</td>\n",
       "    </tr>\n",
       "    <tr>\n",
       "      <th>4</th>\n",
       "      <td>-2.034758</td>\n",
       "      <td>True</td>\n",
       "      <td>1.696689</td>\n",
       "      <td>0.403200</td>\n",
       "      <td>2.480158</td>\n",
       "    </tr>\n",
       "    <tr>\n",
       "      <th>...</th>\n",
       "      <td>...</td>\n",
       "      <td>...</td>\n",
       "      <td>...</td>\n",
       "      <td>...</td>\n",
       "      <td>...</td>\n",
       "    </tr>\n",
       "    <tr>\n",
       "      <th>995</th>\n",
       "      <td>1.950486</td>\n",
       "      <td>True</td>\n",
       "      <td>8.610877</td>\n",
       "      <td>0.538114</td>\n",
       "      <td>1.858342</td>\n",
       "    </tr>\n",
       "    <tr>\n",
       "      <th>996</th>\n",
       "      <td>0.141006</td>\n",
       "      <td>True</td>\n",
       "      <td>6.740938</td>\n",
       "      <td>0.476353</td>\n",
       "      <td>2.099282</td>\n",
       "    </tr>\n",
       "    <tr>\n",
       "      <th>997</th>\n",
       "      <td>0.257372</td>\n",
       "      <td>True</td>\n",
       "      <td>4.981728</td>\n",
       "      <td>0.480324</td>\n",
       "      <td>2.081930</td>\n",
       "    </tr>\n",
       "    <tr>\n",
       "      <th>998</th>\n",
       "      <td>-1.518561</td>\n",
       "      <td>True</td>\n",
       "      <td>2.193492</td>\n",
       "      <td>0.420293</td>\n",
       "      <td>2.379290</td>\n",
       "    </tr>\n",
       "    <tr>\n",
       "      <th>999</th>\n",
       "      <td>-1.200639</td>\n",
       "      <td>True</td>\n",
       "      <td>1.764235</td>\n",
       "      <td>0.430920</td>\n",
       "      <td>2.320618</td>\n",
       "    </tr>\n",
       "  </tbody>\n",
       "</table>\n",
       "<p>1000 rows × 5 columns</p>\n",
       "</div>"
      ],
      "text/plain": [
       "           W0    v0         y  propensity_score    weight\n",
       "0    0.725065  True  5.076699          0.496300  2.014909\n",
       "1   -0.547173  True  5.698406          0.452952  2.207741\n",
       "2    0.023733  True  6.177792          0.472355  2.117051\n",
       "3    1.280481  True  6.678500          0.515281  1.940689\n",
       "4   -2.034758  True  1.696689          0.403200  2.480158\n",
       "..        ...   ...       ...               ...       ...\n",
       "995  1.950486  True  8.610877          0.538114  1.858342\n",
       "996  0.141006  True  6.740938          0.476353  2.099282\n",
       "997  0.257372  True  4.981728          0.480324  2.081930\n",
       "998 -1.518561  True  2.193492          0.420293  2.379290\n",
       "999 -1.200639  True  1.764235          0.430920  2.320618\n",
       "\n",
       "[1000 rows x 5 columns]"
      ]
     },
     "execution_count": 7,
     "metadata": {},
     "output_type": "execute_result"
    }
   ],
   "source": [
    "cdf_1"
   ]
  },
  {
   "cell_type": "markdown",
   "metadata": {},
   "source": [
    "## Comparing the estimate to Linear Regression\n",
    "First, estimating the effect using the causal data frame, and the 95% confidence interval."
   ]
  },
  {
   "cell_type": "code",
   "execution_count": 8,
   "metadata": {
    "execution": {
     "iopub.execute_input": "2023-06-20T16:10:12.864576Z",
     "iopub.status.busy": "2023-06-20T16:10:12.863932Z",
     "iopub.status.idle": "2023-06-20T16:10:13.027407Z",
     "shell.execute_reply": "2023-06-20T16:10:13.026648Z"
    }
   },
   "outputs": [
    {
     "data": {
      "image/png": "[encoded data removed]",
      "text/latex": [
       "$\\displaystyle 5.00967167119404$"
      ],
      "text/plain": [
       "5.009671671194037"
      ]
     },
     "execution_count": 8,
     "metadata": {},
     "output_type": "execute_result"
    }
   ],
   "source": [
    "(cdf_1['y'] - cdf_0['y']).mean()"
   ]
  },
  {
   "cell_type": "code",
   "execution_count": 9,
   "metadata": {
    "execution": {
     "iopub.execute_input": "2023-06-20T16:10:13.030947Z",
     "iopub.status.busy": "2023-06-20T16:10:13.030503Z",
     "iopub.status.idle": "2023-06-20T16:10:13.051355Z",
     "shell.execute_reply": "2023-06-20T16:10:13.050653Z"
    }
   },
   "outputs": [
    {
     "data": {
      "image/png": "[encoded data removed]",
      "text/latex": [
       "$\\displaystyle 0.196259349700172$"
      ],
      "text/plain": [
       "0.19625934970017234"
      ]
     },
     "execution_count": 9,
     "metadata": {},
     "output_type": "execute_result"
    }
   ],
   "source": [
    "1.96*(cdf_1['y'] - cdf_0['y']).std() / np.sqrt(len(df))"
   ]
  },
  {
   "cell_type": "markdown",
   "metadata": {},
   "source": [
    "Comparing to the estimate from OLS."
   ]
  },
  {
   "cell_type": "code",
   "execution_count": 10,
   "metadata": {
    "execution": {
     "iopub.execute_input": "2023-06-20T16:10:13.054396Z",
     "iopub.status.busy": "2023-06-20T16:10:13.054027Z",
     "iopub.status.idle": "2023-06-20T16:10:13.068650Z",
     "shell.execute_reply": "2023-06-20T16:10:13.067995Z"
    }
   },
   "outputs": [
    {
     "data": {
      "text/html": [
       "<table class=\"simpletable\">\n",
       "<caption>OLS Regression Results</caption>\n",
       "<tr>\n",
       "  <th>Dep. Variable:</th>            <td>y</td>        <th>  R-squared (uncentered):</th>      <td>   0.938</td>\n",
       "</tr>\n",
       "<tr>\n",
       "  <th>Model:</th>                   <td>OLS</td>       <th>  Adj. R-squared (uncentered):</th> <td>   0.938</td>\n",
       "</tr>\n",
       "<tr>\n",
       "  <th>Method:</th>             <td>Least Squares</td>  <th>  F-statistic:       </th>          <td>   7514.</td>\n",
       "</tr>\n",
       "<tr>\n",
       "  <th>Date:</th>             <td>Tue, 20 Jun 2023</td> <th>  Prob (F-statistic):</th>           <td>  0.00</td> \n",
       "</tr>\n",
       "<tr>\n",
       "  <th>Time:</th>                 <td>16:10:13</td>     <th>  Log-Likelihood:    </th>          <td> -1409.0</td>\n",
       "</tr>\n",
       "<tr>\n",
       "  <th>No. Observations:</th>      <td>  1000</td>      <th>  AIC:               </th>          <td>   2822.</td>\n",
       "</tr>\n",
       "<tr>\n",
       "  <th>Df Residuals:</th>          <td>   998</td>      <th>  BIC:               </th>          <td>   2832.</td>\n",
       "</tr>\n",
       "<tr>\n",
       "  <th>Df Model:</th>              <td>     2</td>      <th>                     </th>              <td> </td>   \n",
       "</tr>\n",
       "<tr>\n",
       "  <th>Covariance Type:</th>      <td>nonrobust</td>    <th>                     </th>              <td> </td>   \n",
       "</tr>\n",
       "</table>\n",
       "<table class=\"simpletable\">\n",
       "<tr>\n",
       "   <td></td>     <th>coef</th>     <th>std err</th>      <th>t</th>      <th>P>|t|</th>  <th>[0.025</th>    <th>0.975]</th>  \n",
       "</tr>\n",
       "<tr>\n",
       "  <th>x1</th> <td>    1.9422</td> <td>    0.031</td> <td>   63.436</td> <td> 0.000</td> <td>    1.882</td> <td>    2.002</td>\n",
       "</tr>\n",
       "<tr>\n",
       "  <th>x2</th> <td>    4.9965</td> <td>    0.046</td> <td>  108.615</td> <td> 0.000</td> <td>    4.906</td> <td>    5.087</td>\n",
       "</tr>\n",
       "</table>\n",
       "<table class=\"simpletable\">\n",
       "<tr>\n",
       "  <th>Omnibus:</th>       <td> 0.774</td> <th>  Durbin-Watson:     </th> <td>   2.050</td>\n",
       "</tr>\n",
       "<tr>\n",
       "  <th>Prob(Omnibus):</th> <td> 0.679</td> <th>  Jarque-Bera (JB):  </th> <td>   0.690</td>\n",
       "</tr>\n",
       "<tr>\n",
       "  <th>Skew:</th>          <td> 0.060</td> <th>  Prob(JB):          </th> <td>   0.708</td>\n",
       "</tr>\n",
       "<tr>\n",
       "  <th>Kurtosis:</th>      <td> 3.044</td> <th>  Cond. No.          </th> <td>    1.51</td>\n",
       "</tr>\n",
       "</table><br/><br/>Notes:<br/>[1] R² is computed without centering (uncentered) since the model does not contain a constant.<br/>[2] Standard Errors assume that the covariance matrix of the errors is correctly specified."
      ],
      "text/plain": [
       "<class 'statsmodels.iolib.summary.Summary'>\n",
       "\"\"\"\n",
       "                                 OLS Regression Results                                \n",
       "=======================================================================================\n",
       "Dep. Variable:                      y   R-squared (uncentered):                   0.938\n",
       "Model:                            OLS   Adj. R-squared (uncentered):              0.938\n",
       "Method:                 Least Squares   F-statistic:                              7514.\n",
       "Date:                Tue, 20 Jun 2023   Prob (F-statistic):                        0.00\n",
       "Time:                        16:10:13   Log-Likelihood:                         -1409.0\n",
       "No. Observations:                1000   AIC:                                      2822.\n",
       "Df Residuals:                     998   BIC:                                      2832.\n",
       "Df Model:                           2                                                  \n",
       "Covariance Type:            nonrobust                                                  \n",
       "==============================================================================\n",
       "                 coef    std err          t      P>|t|      [0.025      0.975]\n",
       "------------------------------------------------------------------------------\n",
       "x1             1.9422      0.031     63.436      0.000       1.882       2.002\n",
       "x2             4.9965      0.046    108.615      0.000       4.906       5.087\n",
       "==============================================================================\n",
       "Omnibus:                        0.774   Durbin-Watson:                   2.050\n",
       "Prob(Omnibus):                  0.679   Jarque-Bera (JB):                0.690\n",
       "Skew:                           0.060   Prob(JB):                        0.708\n",
       "Kurtosis:                       3.044   Cond. No.                         1.51\n",
       "==============================================================================\n",
       "\n",
       "Notes:\n",
       "[1] R² is computed without centering (uncentered) since the model does not contain a constant.\n",
       "[2] Standard Errors assume that the covariance matrix of the errors is correctly specified.\n",
       "\"\"\""
      ]
     },
     "execution_count": 10,
     "metadata": {},
     "output_type": "execute_result"
    }
   ],
   "source": [
    "model = OLS(np.asarray(df[outcome]), np.asarray(df[[common_cause, treatment]], dtype=np.float64))\n",
    "result = model.fit()\n",
    "result.summary()"
   ]
  }
 ],
 "metadata": {
  "kernelspec": {
   "display_name": "Python 3",
   "language": "python",
   "name": "python3"
  },
  "language_info": {
   "codemirror_mode": {
    "name": "ipython",
    "version": 3
   },
   "file_extension": ".py",
   "mimetype": "text/x-python",
   "name": "python",
   "nbconvert_exporter": "python",
   "pygments_lexer": "ipython3",
   "version": "3.8.10"
  },
  "toc": {
   "base_numbering": 1,
   "nav_menu": {},
   "number_sections": false,
   "sideBar": true,
   "skip_h1_title": true,
   "title_cell": "Table of Contents",
   "title_sidebar": "Contents",
   "toc_cell": false,
   "toc_position": {},
   "toc_section_display": true,
   "toc_window_display": false
  }
 },
 "nbformat": 4,
 "nbformat_minor": 4
}
