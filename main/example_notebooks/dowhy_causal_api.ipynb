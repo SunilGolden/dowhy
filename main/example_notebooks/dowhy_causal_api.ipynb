{
 "cells": [
  {
   "cell_type": "markdown",
   "metadata": {},
   "source": [
    "# Demo for the DoWhy causal API\n",
    "We show a simple example of adding a causal extension to any dataframe. "
   ]
  },
  {
   "cell_type": "code",
   "execution_count": 1,
   "metadata": {
    "execution": {
     "iopub.execute_input": "2023-12-21T15:57:25.084033Z",
     "iopub.status.busy": "2023-12-21T15:57:25.083860Z",
     "iopub.status.idle": "2023-12-21T15:57:26.470802Z",
     "shell.execute_reply": "2023-12-21T15:57:26.470133Z"
    }
   },
   "outputs": [],
   "source": [
    "import dowhy.datasets\n",
    "import dowhy.api\n",
    "from dowhy.graph import build_graph_from_str\n",
    "\n",
    "import numpy as np\n",
    "import pandas as pd\n",
    "\n",
    "from statsmodels.api import OLS"
   ]
  },
  {
   "cell_type": "code",
   "execution_count": 2,
   "metadata": {
    "execution": {
     "iopub.execute_input": "2023-12-21T15:57:26.473582Z",
     "iopub.status.busy": "2023-12-21T15:57:26.473296Z",
     "iopub.status.idle": "2023-12-21T15:57:26.513317Z",
     "shell.execute_reply": "2023-12-21T15:57:26.512730Z"
    }
   },
   "outputs": [
    {
     "data": {
      "text/html": [
       "<div>\n",
       "<style scoped>\n",
       "    .dataframe tbody tr th:only-of-type {\n",
       "        vertical-align: middle;\n",
       "    }\n",
       "\n",
       "    .dataframe tbody tr th {\n",
       "        vertical-align: top;\n",
       "    }\n",
       "\n",
       "    .dataframe thead th {\n",
       "        text-align: right;\n",
       "    }\n",
       "</style>\n",
       "<table border=\"1\" class=\"dataframe\">\n",
       "  <thead>\n",
       "    <tr style=\"text-align: right;\">\n",
       "      <th></th>\n",
       "      <th>W0</th>\n",
       "      <th>v0</th>\n",
       "      <th>y</th>\n",
       "    </tr>\n",
       "  </thead>\n",
       "  <tbody>\n",
       "    <tr>\n",
       "      <th>0</th>\n",
       "      <td>1.905032</td>\n",
       "      <td>True</td>\n",
       "      <td>6.438227</td>\n",
       "    </tr>\n",
       "    <tr>\n",
       "      <th>1</th>\n",
       "      <td>0.140271</td>\n",
       "      <td>True</td>\n",
       "      <td>5.251128</td>\n",
       "    </tr>\n",
       "    <tr>\n",
       "      <th>2</th>\n",
       "      <td>0.277891</td>\n",
       "      <td>False</td>\n",
       "      <td>1.981748</td>\n",
       "    </tr>\n",
       "    <tr>\n",
       "      <th>3</th>\n",
       "      <td>0.678380</td>\n",
       "      <td>False</td>\n",
       "      <td>1.002011</td>\n",
       "    </tr>\n",
       "    <tr>\n",
       "      <th>4</th>\n",
       "      <td>-1.039772</td>\n",
       "      <td>False</td>\n",
       "      <td>-1.464319</td>\n",
       "    </tr>\n",
       "    <tr>\n",
       "      <th>...</th>\n",
       "      <td>...</td>\n",
       "      <td>...</td>\n",
       "      <td>...</td>\n",
       "    </tr>\n",
       "    <tr>\n",
       "      <th>995</th>\n",
       "      <td>-0.714020</td>\n",
       "      <td>False</td>\n",
       "      <td>-0.164058</td>\n",
       "    </tr>\n",
       "    <tr>\n",
       "      <th>996</th>\n",
       "      <td>3.048715</td>\n",
       "      <td>True</td>\n",
       "      <td>5.291997</td>\n",
       "    </tr>\n",
       "    <tr>\n",
       "      <th>997</th>\n",
       "      <td>1.113158</td>\n",
       "      <td>True</td>\n",
       "      <td>5.082386</td>\n",
       "    </tr>\n",
       "    <tr>\n",
       "      <th>998</th>\n",
       "      <td>-0.210727</td>\n",
       "      <td>False</td>\n",
       "      <td>-0.799048</td>\n",
       "    </tr>\n",
       "    <tr>\n",
       "      <th>999</th>\n",
       "      <td>1.512299</td>\n",
       "      <td>True</td>\n",
       "      <td>5.279631</td>\n",
       "    </tr>\n",
       "  </tbody>\n",
       "</table>\n",
       "<p>1000 rows × 3 columns</p>\n",
       "</div>"
      ],
      "text/plain": [
       "           W0     v0         y\n",
       "0    1.905032   True  6.438227\n",
       "1    0.140271   True  5.251128\n",
       "2    0.277891  False  1.981748\n",
       "3    0.678380  False  1.002011\n",
       "4   -1.039772  False -1.464319\n",
       "..        ...    ...       ...\n",
       "995 -0.714020  False -0.164058\n",
       "996  3.048715   True  5.291997\n",
       "997  1.113158   True  5.082386\n",
       "998 -0.210727  False -0.799048\n",
       "999  1.512299   True  5.279631\n",
       "\n",
       "[1000 rows x 3 columns]"
      ]
     },
     "execution_count": 2,
     "metadata": {},
     "output_type": "execute_result"
    }
   ],
   "source": [
    "data = dowhy.datasets.linear_dataset(beta=5,\n",
    "        num_common_causes=1,\n",
    "        num_instruments = 0,\n",
    "        num_samples=1000,\n",
    "        treatment_is_binary=True)\n",
    "df = data['df']\n",
    "df['y'] = df['y'] + np.random.normal(size=len(df)) # Adding noise to data. Without noise, the variance in Y|X, Z is zero, and mcmc fails.\n",
    "nx_graph = build_graph_from_str(data[\"dot_graph\"])\n",
    "\n",
    "treatment= data[\"treatment_name\"][0]\n",
    "outcome = data[\"outcome_name\"][0]\n",
    "common_cause = data[\"common_causes_names\"][0]\n",
    "df"
   ]
  },
  {
   "cell_type": "code",
   "execution_count": 3,
   "metadata": {
    "execution": {
     "iopub.execute_input": "2023-12-21T15:57:26.515714Z",
     "iopub.status.busy": "2023-12-21T15:57:26.515364Z",
     "iopub.status.idle": "2023-12-21T15:57:26.694969Z",
     "shell.execute_reply": "2023-12-21T15:57:26.694319Z"
    },
    "scrolled": true
   },
   "outputs": [
    {
     "data": {
      "text/plain": [
       "<Axes: xlabel='v0'>"
      ]
     },
     "execution_count": 3,
     "metadata": {},
     "output_type": "execute_result"
    },
    {
     "data": {
      "image/png": "[encoded data removed]",
      "text/plain": [
       "<Figure size 640x480 with 1 Axes>"
      ]
     },
     "metadata": {},
     "output_type": "display_data"
    }
   ],
   "source": [
    "# data['df'] is just a regular pandas.DataFrame\n",
    "df.causal.do(x=treatment,\n",
    "             variable_types={treatment: 'b', outcome: 'c', common_cause: 'c'},\n",
    "             outcome=outcome,\n",
    "             common_causes=[common_cause],\n",
    "            ).groupby(treatment).mean().plot(y=outcome, kind='bar')"
   ]
  },
  {
   "cell_type": "code",
   "execution_count": 4,
   "metadata": {
    "execution": {
     "iopub.execute_input": "2023-12-21T15:57:26.697358Z",
     "iopub.status.busy": "2023-12-21T15:57:26.697074Z",
     "iopub.status.idle": "2023-12-21T15:57:26.829817Z",
     "shell.execute_reply": "2023-12-21T15:57:26.829217Z"
    }
   },
   "outputs": [
    {
     "data": {
      "text/plain": [
       "<Axes: xlabel='v0'>"
      ]
     },
     "execution_count": 4,
     "metadata": {},
     "output_type": "execute_result"
    },
    {
     "data": {
      "image/png": "[encoded data removed]",
      "text/plain": [
       "<Figure size 640x480 with 1 Axes>"
      ]
     },
     "metadata": {},
     "output_type": "display_data"
    }
   ],
   "source": [
    "df.causal.do(x={treatment: 1}, \n",
    "              variable_types={treatment:'b', outcome: 'c', common_cause: 'c'}, \n",
    "              outcome=outcome,\n",
    "              method='weighting', \n",
    "              common_causes=[common_cause]\n",
    "              ).groupby(treatment).mean().plot(y=outcome, kind='bar')"
   ]
  },
  {
   "cell_type": "code",
   "execution_count": 5,
   "metadata": {
    "execution": {
     "iopub.execute_input": "2023-12-21T15:57:26.832704Z",
     "iopub.status.busy": "2023-12-21T15:57:26.832517Z",
     "iopub.status.idle": "2023-12-21T15:57:26.853562Z",
     "shell.execute_reply": "2023-12-21T15:57:26.853082Z"
    }
   },
   "outputs": [],
   "source": [
    "cdf_1 = df.causal.do(x={treatment: 1}, \n",
    "              variable_types={treatment: 'b', outcome: 'c', common_cause: 'c'}, \n",
    "              outcome=outcome, \n",
    "              graph=nx_graph\n",
    "              )\n",
    "\n",
    "cdf_0 = df.causal.do(x={treatment: 0}, \n",
    "              variable_types={treatment: 'b', outcome: 'c', common_cause: 'c'}, \n",
    "              outcome=outcome, \n",
    "              graph=nx_graph\n",
    "              )\n"
   ]
  },
  {
   "cell_type": "code",
   "execution_count": 6,
   "metadata": {
    "execution": {
     "iopub.execute_input": "2023-12-21T15:57:26.855686Z",
     "iopub.status.busy": "2023-12-21T15:57:26.855355Z",
     "iopub.status.idle": "2023-12-21T15:57:26.864088Z",
     "shell.execute_reply": "2023-12-21T15:57:26.863550Z"
    },
    "scrolled": true
   },
   "outputs": [
    {
     "data": {
      "text/html": [
       "<div>\n",
       "<style scoped>\n",
       "    .dataframe tbody tr th:only-of-type {\n",
       "        vertical-align: middle;\n",
       "    }\n",
       "\n",
       "    .dataframe tbody tr th {\n",
       "        vertical-align: top;\n",
       "    }\n",
       "\n",
       "    .dataframe thead th {\n",
       "        text-align: right;\n",
       "    }\n",
       "</style>\n",
       "<table border=\"1\" class=\"dataframe\">\n",
       "  <thead>\n",
       "    <tr style=\"text-align: right;\">\n",
       "      <th></th>\n",
       "      <th>W0</th>\n",
       "      <th>v0</th>\n",
       "      <th>y</th>\n",
       "      <th>propensity_score</th>\n",
       "      <th>weight</th>\n",
       "    </tr>\n",
       "  </thead>\n",
       "  <tbody>\n",
       "    <tr>\n",
       "      <th>0</th>\n",
       "      <td>0.846785</td>\n",
       "      <td>False</td>\n",
       "      <td>1.031751</td>\n",
       "      <td>0.124170</td>\n",
       "      <td>8.053497</td>\n",
       "    </tr>\n",
       "    <tr>\n",
       "      <th>1</th>\n",
       "      <td>2.265146</td>\n",
       "      <td>False</td>\n",
       "      <td>-1.738571</td>\n",
       "      <td>0.005841</td>\n",
       "      <td>171.206906</td>\n",
       "    </tr>\n",
       "    <tr>\n",
       "      <th>2</th>\n",
       "      <td>0.625616</td>\n",
       "      <td>False</td>\n",
       "      <td>0.951308</td>\n",
       "      <td>0.188909</td>\n",
       "      <td>5.293542</td>\n",
       "    </tr>\n",
       "    <tr>\n",
       "      <th>3</th>\n",
       "      <td>0.252312</td>\n",
       "      <td>False</td>\n",
       "      <td>-0.255794</td>\n",
       "      <td>0.349955</td>\n",
       "      <td>2.857506</td>\n",
       "    </tr>\n",
       "    <tr>\n",
       "      <th>4</th>\n",
       "      <td>1.344199</td>\n",
       "      <td>False</td>\n",
       "      <td>1.333653</td>\n",
       "      <td>0.044363</td>\n",
       "      <td>22.541090</td>\n",
       "    </tr>\n",
       "    <tr>\n",
       "      <th>...</th>\n",
       "      <td>...</td>\n",
       "      <td>...</td>\n",
       "      <td>...</td>\n",
       "      <td>...</td>\n",
       "      <td>...</td>\n",
       "    </tr>\n",
       "    <tr>\n",
       "      <th>995</th>\n",
       "      <td>0.348403</td>\n",
       "      <td>False</td>\n",
       "      <td>0.333292</td>\n",
       "      <td>0.302608</td>\n",
       "      <td>3.304608</td>\n",
       "    </tr>\n",
       "    <tr>\n",
       "      <th>996</th>\n",
       "      <td>0.773374</td>\n",
       "      <td>False</td>\n",
       "      <td>-1.118118</td>\n",
       "      <td>0.143226</td>\n",
       "      <td>6.981982</td>\n",
       "    </tr>\n",
       "    <tr>\n",
       "      <th>997</th>\n",
       "      <td>0.307671</td>\n",
       "      <td>False</td>\n",
       "      <td>-2.455597</td>\n",
       "      <td>0.322242</td>\n",
       "      <td>3.103260</td>\n",
       "    </tr>\n",
       "    <tr>\n",
       "      <th>998</th>\n",
       "      <td>0.708735</td>\n",
       "      <td>False</td>\n",
       "      <td>0.998116</td>\n",
       "      <td>0.161966</td>\n",
       "      <td>6.174133</td>\n",
       "    </tr>\n",
       "    <tr>\n",
       "      <th>999</th>\n",
       "      <td>2.265146</td>\n",
       "      <td>False</td>\n",
       "      <td>-1.738571</td>\n",
       "      <td>0.005841</td>\n",
       "      <td>171.206906</td>\n",
       "    </tr>\n",
       "  </tbody>\n",
       "</table>\n",
       "<p>1000 rows × 5 columns</p>\n",
       "</div>"
      ],
      "text/plain": [
       "           W0     v0         y  propensity_score      weight\n",
       "0    0.846785  False  1.031751          0.124170    8.053497\n",
       "1    2.265146  False -1.738571          0.005841  171.206906\n",
       "2    0.625616  False  0.951308          0.188909    5.293542\n",
       "3    0.252312  False -0.255794          0.349955    2.857506\n",
       "4    1.344199  False  1.333653          0.044363   22.541090\n",
       "..        ...    ...       ...               ...         ...\n",
       "995  0.348403  False  0.333292          0.302608    3.304608\n",
       "996  0.773374  False -1.118118          0.143226    6.981982\n",
       "997  0.307671  False -2.455597          0.322242    3.103260\n",
       "998  0.708735  False  0.998116          0.161966    6.174133\n",
       "999  2.265146  False -1.738571          0.005841  171.206906\n",
       "\n",
       "[1000 rows x 5 columns]"
      ]
     },
     "execution_count": 6,
     "metadata": {},
     "output_type": "execute_result"
    }
   ],
   "source": [
    "cdf_0"
   ]
  },
  {
   "cell_type": "code",
   "execution_count": 7,
   "metadata": {
    "execution": {
     "iopub.execute_input": "2023-12-21T15:57:26.866037Z",
     "iopub.status.busy": "2023-12-21T15:57:26.865868Z",
     "iopub.status.idle": "2023-12-21T15:57:26.874324Z",
     "shell.execute_reply": "2023-12-21T15:57:26.873738Z"
    }
   },
   "outputs": [
    {
     "data": {
      "text/html": [
       "<div>\n",
       "<style scoped>\n",
       "    .dataframe tbody tr th:only-of-type {\n",
       "        vertical-align: middle;\n",
       "    }\n",
       "\n",
       "    .dataframe tbody tr th {\n",
       "        vertical-align: top;\n",
       "    }\n",
       "\n",
       "    .dataframe thead th {\n",
       "        text-align: right;\n",
       "    }\n",
       "</style>\n",
       "<table border=\"1\" class=\"dataframe\">\n",
       "  <thead>\n",
       "    <tr style=\"text-align: right;\">\n",
       "      <th></th>\n",
       "      <th>W0</th>\n",
       "      <th>v0</th>\n",
       "      <th>y</th>\n",
       "      <th>propensity_score</th>\n",
       "      <th>weight</th>\n",
       "    </tr>\n",
       "  </thead>\n",
       "  <tbody>\n",
       "    <tr>\n",
       "      <th>0</th>\n",
       "      <td>2.456185</td>\n",
       "      <td>True</td>\n",
       "      <td>6.373860</td>\n",
       "      <td>0.996188</td>\n",
       "      <td>1.003827</td>\n",
       "    </tr>\n",
       "    <tr>\n",
       "      <th>1</th>\n",
       "      <td>0.793988</td>\n",
       "      <td>True</td>\n",
       "      <td>4.194354</td>\n",
       "      <td>0.862359</td>\n",
       "      <td>1.159610</td>\n",
       "    </tr>\n",
       "    <tr>\n",
       "      <th>2</th>\n",
       "      <td>1.485103</td>\n",
       "      <td>True</td>\n",
       "      <td>6.038139</td>\n",
       "      <td>0.967271</td>\n",
       "      <td>1.033836</td>\n",
       "    </tr>\n",
       "    <tr>\n",
       "      <th>3</th>\n",
       "      <td>1.498700</td>\n",
       "      <td>True</td>\n",
       "      <td>4.164705</td>\n",
       "      <td>0.968224</td>\n",
       "      <td>1.032819</td>\n",
       "    </tr>\n",
       "    <tr>\n",
       "      <th>4</th>\n",
       "      <td>0.546667</td>\n",
       "      <td>True</td>\n",
       "      <td>4.322960</td>\n",
       "      <td>0.782435</td>\n",
       "      <td>1.278062</td>\n",
       "    </tr>\n",
       "    <tr>\n",
       "      <th>...</th>\n",
       "      <td>...</td>\n",
       "      <td>...</td>\n",
       "      <td>...</td>\n",
       "      <td>...</td>\n",
       "      <td>...</td>\n",
       "    </tr>\n",
       "    <tr>\n",
       "      <th>995</th>\n",
       "      <td>1.644665</td>\n",
       "      <td>True</td>\n",
       "      <td>4.392285</td>\n",
       "      <td>0.976896</td>\n",
       "      <td>1.023651</td>\n",
       "    </tr>\n",
       "    <tr>\n",
       "      <th>996</th>\n",
       "      <td>0.811862</td>\n",
       "      <td>True</td>\n",
       "      <td>5.023664</td>\n",
       "      <td>0.867052</td>\n",
       "      <td>1.153334</td>\n",
       "    </tr>\n",
       "    <tr>\n",
       "      <th>997</th>\n",
       "      <td>1.162726</td>\n",
       "      <td>True</td>\n",
       "      <td>6.031141</td>\n",
       "      <td>0.934786</td>\n",
       "      <td>1.069763</td>\n",
       "    </tr>\n",
       "    <tr>\n",
       "      <th>998</th>\n",
       "      <td>0.068547</td>\n",
       "      <td>True</td>\n",
       "      <td>5.720119</td>\n",
       "      <td>0.551511</td>\n",
       "      <td>1.813201</td>\n",
       "    </tr>\n",
       "    <tr>\n",
       "      <th>999</th>\n",
       "      <td>1.995986</td>\n",
       "      <td>True</td>\n",
       "      <td>3.782228</td>\n",
       "      <td>0.989365</td>\n",
       "      <td>1.010750</td>\n",
       "    </tr>\n",
       "  </tbody>\n",
       "</table>\n",
       "<p>1000 rows × 5 columns</p>\n",
       "</div>"
      ],
      "text/plain": [
       "           W0    v0         y  propensity_score    weight\n",
       "0    2.456185  True  6.373860          0.996188  1.003827\n",
       "1    0.793988  True  4.194354          0.862359  1.159610\n",
       "2    1.485103  True  6.038139          0.967271  1.033836\n",
       "3    1.498700  True  4.164705          0.968224  1.032819\n",
       "4    0.546667  True  4.322960          0.782435  1.278062\n",
       "..        ...   ...       ...               ...       ...\n",
       "995  1.644665  True  4.392285          0.976896  1.023651\n",
       "996  0.811862  True  5.023664          0.867052  1.153334\n",
       "997  1.162726  True  6.031141          0.934786  1.069763\n",
       "998  0.068547  True  5.720119          0.551511  1.813201\n",
       "999  1.995986  True  3.782228          0.989365  1.010750\n",
       "\n",
       "[1000 rows x 5 columns]"
      ]
     },
     "execution_count": 7,
     "metadata": {},
     "output_type": "execute_result"
    }
   ],
   "source": [
    "cdf_1"
   ]
  },
  {
   "cell_type": "markdown",
   "metadata": {},
   "source": [
    "## Comparing the estimate to Linear Regression\n",
    "First, estimating the effect using the causal data frame, and the 95% confidence interval."
   ]
  },
  {
   "cell_type": "code",
   "execution_count": 8,
   "metadata": {
    "execution": {
     "iopub.execute_input": "2023-12-21T15:57:26.876521Z",
     "iopub.status.busy": "2023-12-21T15:57:26.876170Z",
     "iopub.status.idle": "2023-12-21T15:57:27.015236Z",
     "shell.execute_reply": "2023-12-21T15:57:27.014596Z"
    }
   },
   "outputs": [
    {
     "data": {
      "image/png": "[encoded data removed]",
      "text/latex": [
       "$\\displaystyle 5.19548018850589$"
      ],
      "text/plain": [
       "5.19548018850589"
      ]
     },
     "execution_count": 8,
     "metadata": {},
     "output_type": "execute_result"
    }
   ],
   "source": [
    "(cdf_1['y'] - cdf_0['y']).mean()"
   ]
  },
  {
   "cell_type": "code",
   "execution_count": 9,
   "metadata": {
    "execution": {
     "iopub.execute_input": "2023-12-21T15:57:27.017524Z",
     "iopub.status.busy": "2023-12-21T15:57:27.017232Z",
     "iopub.status.idle": "2023-12-21T15:57:27.034781Z",
     "shell.execute_reply": "2023-12-21T15:57:27.034190Z"
    }
   },
   "outputs": [
    {
     "data": {
      "image/png": "[encoded data removed]",
      "text/latex": [
       "$\\displaystyle 0.0925391022257828$"
      ],
      "text/plain": [
       "0.09253910222578285"
      ]
     },
     "execution_count": 9,
     "metadata": {},
     "output_type": "execute_result"
    }
   ],
   "source": [
    "1.96*(cdf_1['y'] - cdf_0['y']).std() / np.sqrt(len(df))"
   ]
  },
  {
   "cell_type": "markdown",
   "metadata": {},
   "source": [
    "Comparing to the estimate from OLS."
   ]
  },
  {
   "cell_type": "code",
   "execution_count": 10,
   "metadata": {
    "execution": {
     "iopub.execute_input": "2023-12-21T15:57:27.036948Z",
     "iopub.status.busy": "2023-12-21T15:57:27.036621Z",
     "iopub.status.idle": "2023-12-21T15:57:27.052641Z",
     "shell.execute_reply": "2023-12-21T15:57:27.052045Z"
    }
   },
   "outputs": [
    {
     "data": {
      "text/html": [
       "<table class=\"simpletable\">\n",
       "<caption>OLS Regression Results</caption>\n",
       "<tr>\n",
       "  <th>Dep. Variable:</th>            <td>y</td>        <th>  R-squared (uncentered):</th>      <td>   0.943</td>\n",
       "</tr>\n",
       "<tr>\n",
       "  <th>Model:</th>                   <td>OLS</td>       <th>  Adj. R-squared (uncentered):</th> <td>   0.943</td>\n",
       "</tr>\n",
       "<tr>\n",
       "  <th>Method:</th>             <td>Least Squares</td>  <th>  F-statistic:       </th>          <td>   8206.</td>\n",
       "</tr>\n",
       "<tr>\n",
       "  <th>Date:</th>             <td>Thu, 21 Dec 2023</td> <th>  Prob (F-statistic):</th>           <td>  0.00</td> \n",
       "</tr>\n",
       "<tr>\n",
       "  <th>Time:</th>                 <td>15:57:27</td>     <th>  Log-Likelihood:    </th>          <td> -1406.7</td>\n",
       "</tr>\n",
       "<tr>\n",
       "  <th>No. Observations:</th>      <td>  1000</td>      <th>  AIC:               </th>          <td>   2817.</td>\n",
       "</tr>\n",
       "<tr>\n",
       "  <th>Df Residuals:</th>          <td>   998</td>      <th>  BIC:               </th>          <td>   2827.</td>\n",
       "</tr>\n",
       "<tr>\n",
       "  <th>Df Model:</th>              <td>     2</td>      <th>                     </th>              <td> </td>   \n",
       "</tr>\n",
       "<tr>\n",
       "  <th>Covariance Type:</th>      <td>nonrobust</td>    <th>                     </th>              <td> </td>   \n",
       "</tr>\n",
       "</table>\n",
       "<table class=\"simpletable\">\n",
       "<tr>\n",
       "   <td></td>     <th>coef</th>     <th>std err</th>      <th>t</th>      <th>P>|t|</th>  <th>[0.025</th>    <th>0.975]</th>  \n",
       "</tr>\n",
       "<tr>\n",
       "  <th>x1</th> <td>    0.1839</td> <td>    0.037</td> <td>    4.951</td> <td> 0.000</td> <td>    0.111</td> <td>    0.257</td>\n",
       "</tr>\n",
       "<tr>\n",
       "  <th>x2</th> <td>    4.9096</td> <td>    0.051</td> <td>   95.549</td> <td> 0.000</td> <td>    4.809</td> <td>    5.010</td>\n",
       "</tr>\n",
       "</table>\n",
       "<table class=\"simpletable\">\n",
       "<tr>\n",
       "  <th>Omnibus:</th>       <td> 0.406</td> <th>  Durbin-Watson:     </th> <td>   2.014</td>\n",
       "</tr>\n",
       "<tr>\n",
       "  <th>Prob(Omnibus):</th> <td> 0.816</td> <th>  Jarque-Bera (JB):  </th> <td>   0.293</td>\n",
       "</tr>\n",
       "<tr>\n",
       "  <th>Skew:</th>          <td> 0.013</td> <th>  Prob(JB):          </th> <td>   0.864</td>\n",
       "</tr>\n",
       "<tr>\n",
       "  <th>Kurtosis:</th>      <td> 3.080</td> <th>  Cond. No.          </th> <td>    2.30</td>\n",
       "</tr>\n",
       "</table><br/><br/>Notes:<br/>[1] R² is computed without centering (uncentered) since the model does not contain a constant.<br/>[2] Standard Errors assume that the covariance matrix of the errors is correctly specified."
      ],
      "text/latex": [
       "\\begin{center}\n",
       "\\begin{tabular}{lclc}\n",
       "\\toprule\n",
       "\\textbf{Dep. Variable:}    &        y         & \\textbf{  R-squared (uncentered):}      &     0.943   \\\\\n",
       "\\textbf{Model:}            &       OLS        & \\textbf{  Adj. R-squared (uncentered):} &     0.943   \\\\\n",
       "\\textbf{Method:}           &  Least Squares   & \\textbf{  F-statistic:       }          &     8206.   \\\\\n",
       "\\textbf{Date:}             & Thu, 21 Dec 2023 & \\textbf{  Prob (F-statistic):}          &     0.00    \\\\\n",
       "\\textbf{Time:}             &     15:57:27     & \\textbf{  Log-Likelihood:    }          &   -1406.7   \\\\\n",
       "\\textbf{No. Observations:} &        1000      & \\textbf{  AIC:               }          &     2817.   \\\\\n",
       "\\textbf{Df Residuals:}     &         998      & \\textbf{  BIC:               }          &     2827.   \\\\\n",
       "\\textbf{Df Model:}         &           2      & \\textbf{                     }          &             \\\\\n",
       "\\textbf{Covariance Type:}  &    nonrobust     & \\textbf{                     }          &             \\\\\n",
       "\\bottomrule\n",
       "\\end{tabular}\n",
       "\\begin{tabular}{lcccccc}\n",
       "            & \\textbf{coef} & \\textbf{std err} & \\textbf{t} & \\textbf{P$> |$t$|$} & \\textbf{[0.025} & \\textbf{0.975]}  \\\\\n",
       "\\midrule\n",
       "\\textbf{x1} &       0.1839  &        0.037     &     4.951  &         0.000        &        0.111    &        0.257     \\\\\n",
       "\\textbf{x2} &       4.9096  &        0.051     &    95.549  &         0.000        &        4.809    &        5.010     \\\\\n",
       "\\bottomrule\n",
       "\\end{tabular}\n",
       "\\begin{tabular}{lclc}\n",
       "\\textbf{Omnibus:}       &  0.406 & \\textbf{  Durbin-Watson:     } &    2.014  \\\\\n",
       "\\textbf{Prob(Omnibus):} &  0.816 & \\textbf{  Jarque-Bera (JB):  } &    0.293  \\\\\n",
       "\\textbf{Skew:}          &  0.013 & \\textbf{  Prob(JB):          } &    0.864  \\\\\n",
       "\\textbf{Kurtosis:}      &  3.080 & \\textbf{  Cond. No.          } &     2.30  \\\\\n",
       "\\bottomrule\n",
       "\\end{tabular}\n",
       "%\\caption{OLS Regression Results}\n",
       "\\end{center}\n",
       "\n",
       "Notes: \\newline\n",
       " [1] R² is computed without centering (uncentered) since the model does not contain a constant. \\newline\n",
       " [2] Standard Errors assume that the covariance matrix of the errors is correctly specified."
      ],
      "text/plain": [
       "<class 'statsmodels.iolib.summary.Summary'>\n",
       "\"\"\"\n",
       "                                 OLS Regression Results                                \n",
       "=======================================================================================\n",
       "Dep. Variable:                      y   R-squared (uncentered):                   0.943\n",
       "Model:                            OLS   Adj. R-squared (uncentered):              0.943\n",
       "Method:                 Least Squares   F-statistic:                              8206.\n",
       "Date:                Thu, 21 Dec 2023   Prob (F-statistic):                        0.00\n",
       "Time:                        15:57:27   Log-Likelihood:                         -1406.7\n",
       "No. Observations:                1000   AIC:                                      2817.\n",
       "Df Residuals:                     998   BIC:                                      2827.\n",
       "Df Model:                           2                                                  \n",
       "Covariance Type:            nonrobust                                                  \n",
       "==============================================================================\n",
       "                 coef    std err          t      P>|t|      [0.025      0.975]\n",
       "------------------------------------------------------------------------------\n",
       "x1             0.1839      0.037      4.951      0.000       0.111       0.257\n",
       "x2             4.9096      0.051     95.549      0.000       4.809       5.010\n",
       "==============================================================================\n",
       "Omnibus:                        0.406   Durbin-Watson:                   2.014\n",
       "Prob(Omnibus):                  0.816   Jarque-Bera (JB):                0.293\n",
       "Skew:                           0.013   Prob(JB):                        0.864\n",
       "Kurtosis:                       3.080   Cond. No.                         2.30\n",
       "==============================================================================\n",
       "\n",
       "Notes:\n",
       "[1] R² is computed without centering (uncentered) since the model does not contain a constant.\n",
       "[2] Standard Errors assume that the covariance matrix of the errors is correctly specified.\n",
       "\"\"\""
      ]
     },
     "execution_count": 10,
     "metadata": {},
     "output_type": "execute_result"
    }
   ],
   "source": [
    "model = OLS(np.asarray(df[outcome]), np.asarray(df[[common_cause, treatment]], dtype=np.float64))\n",
    "result = model.fit()\n",
    "result.summary()"
   ]
  }
 ],
 "metadata": {
  "kernelspec": {
   "display_name": "Python 3 (ipykernel)",
   "language": "python",
   "name": "python3"
  },
  "language_info": {
   "codemirror_mode": {
    "name": "ipython",
    "version": 3
   },
   "file_extension": ".py",
   "mimetype": "text/x-python",
   "name": "python",
   "nbconvert_exporter": "python",
   "pygments_lexer": "ipython3",
   "version": "3.8.10"
  },
  "toc": {
   "base_numbering": 1,
   "nav_menu": {},
   "number_sections": false,
   "sideBar": true,
   "skip_h1_title": true,
   "title_cell": "Table of Contents",
   "title_sidebar": "Contents",
   "toc_cell": false,
   "toc_position": {},
   "toc_section_display": true,
   "toc_window_display": false
  }
 },
 "nbformat": 4,
 "nbformat_minor": 4
}
