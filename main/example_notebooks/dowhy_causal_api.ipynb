{
 "cells": [
  {
   "cell_type": "markdown",
   "metadata": {},
   "source": [
    "# Demo for the DoWhy causal API\n",
    "We show a simple example of adding a causal extension to any dataframe. "
   ]
  },
  {
   "cell_type": "code",
   "execution_count": 1,
   "metadata": {
    "execution": {
     "iopub.execute_input": "2023-12-03T07:56:52.099737Z",
     "iopub.status.busy": "2023-12-03T07:56:52.099346Z",
     "iopub.status.idle": "2023-12-03T07:56:53.443801Z",
     "shell.execute_reply": "2023-12-03T07:56:53.443226Z"
    }
   },
   "outputs": [],
   "source": [
    "import dowhy.datasets\n",
    "import dowhy.api\n",
    "from dowhy.graph import build_graph_from_str\n",
    "\n",
    "import numpy as np\n",
    "import pandas as pd\n",
    "\n",
    "from statsmodels.api import OLS"
   ]
  },
  {
   "cell_type": "code",
   "execution_count": 2,
   "metadata": {
    "execution": {
     "iopub.execute_input": "2023-12-03T07:56:53.446720Z",
     "iopub.status.busy": "2023-12-03T07:56:53.446159Z",
     "iopub.status.idle": "2023-12-03T07:56:53.483167Z",
     "shell.execute_reply": "2023-12-03T07:56:53.482566Z"
    }
   },
   "outputs": [
    {
     "data": {
      "text/html": [
       "<div>\n",
       "<style scoped>\n",
       "    .dataframe tbody tr th:only-of-type {\n",
       "        vertical-align: middle;\n",
       "    }\n",
       "\n",
       "    .dataframe tbody tr th {\n",
       "        vertical-align: top;\n",
       "    }\n",
       "\n",
       "    .dataframe thead th {\n",
       "        text-align: right;\n",
       "    }\n",
       "</style>\n",
       "<table border=\"1\" class=\"dataframe\">\n",
       "  <thead>\n",
       "    <tr style=\"text-align: right;\">\n",
       "      <th></th>\n",
       "      <th>W0</th>\n",
       "      <th>v0</th>\n",
       "      <th>y</th>\n",
       "    </tr>\n",
       "  </thead>\n",
       "  <tbody>\n",
       "    <tr>\n",
       "      <th>0</th>\n",
       "      <td>0.172703</td>\n",
       "      <td>False</td>\n",
       "      <td>0.487212</td>\n",
       "    </tr>\n",
       "    <tr>\n",
       "      <th>1</th>\n",
       "      <td>-1.587366</td>\n",
       "      <td>False</td>\n",
       "      <td>-3.615591</td>\n",
       "    </tr>\n",
       "    <tr>\n",
       "      <th>2</th>\n",
       "      <td>0.748112</td>\n",
       "      <td>True</td>\n",
       "      <td>6.872637</td>\n",
       "    </tr>\n",
       "    <tr>\n",
       "      <th>3</th>\n",
       "      <td>1.091737</td>\n",
       "      <td>True</td>\n",
       "      <td>7.414136</td>\n",
       "    </tr>\n",
       "    <tr>\n",
       "      <th>4</th>\n",
       "      <td>-0.286934</td>\n",
       "      <td>True</td>\n",
       "      <td>3.681927</td>\n",
       "    </tr>\n",
       "    <tr>\n",
       "      <th>...</th>\n",
       "      <td>...</td>\n",
       "      <td>...</td>\n",
       "      <td>...</td>\n",
       "    </tr>\n",
       "    <tr>\n",
       "      <th>995</th>\n",
       "      <td>0.807835</td>\n",
       "      <td>True</td>\n",
       "      <td>6.409761</td>\n",
       "    </tr>\n",
       "    <tr>\n",
       "      <th>996</th>\n",
       "      <td>-1.148703</td>\n",
       "      <td>False</td>\n",
       "      <td>-1.696807</td>\n",
       "    </tr>\n",
       "    <tr>\n",
       "      <th>997</th>\n",
       "      <td>-0.367747</td>\n",
       "      <td>False</td>\n",
       "      <td>0.290330</td>\n",
       "    </tr>\n",
       "    <tr>\n",
       "      <th>998</th>\n",
       "      <td>0.477323</td>\n",
       "      <td>True</td>\n",
       "      <td>5.809864</td>\n",
       "    </tr>\n",
       "    <tr>\n",
       "      <th>999</th>\n",
       "      <td>-0.791318</td>\n",
       "      <td>False</td>\n",
       "      <td>-2.467575</td>\n",
       "    </tr>\n",
       "  </tbody>\n",
       "</table>\n",
       "<p>1000 rows × 3 columns</p>\n",
       "</div>"
      ],
      "text/plain": [
       "           W0     v0         y\n",
       "0    0.172703  False  0.487212\n",
       "1   -1.587366  False -3.615591\n",
       "2    0.748112   True  6.872637\n",
       "3    1.091737   True  7.414136\n",
       "4   -0.286934   True  3.681927\n",
       "..        ...    ...       ...\n",
       "995  0.807835   True  6.409761\n",
       "996 -1.148703  False -1.696807\n",
       "997 -0.367747  False  0.290330\n",
       "998  0.477323   True  5.809864\n",
       "999 -0.791318  False -2.467575\n",
       "\n",
       "[1000 rows x 3 columns]"
      ]
     },
     "execution_count": 2,
     "metadata": {},
     "output_type": "execute_result"
    }
   ],
   "source": [
    "data = dowhy.datasets.linear_dataset(beta=5,\n",
    "        num_common_causes=1,\n",
    "        num_instruments = 0,\n",
    "        num_samples=1000,\n",
    "        treatment_is_binary=True)\n",
    "df = data['df']\n",
    "df['y'] = df['y'] + np.random.normal(size=len(df)) # Adding noise to data. Without noise, the variance in Y|X, Z is zero, and mcmc fails.\n",
    "nx_graph = build_graph_from_str(data[\"dot_graph\"])\n",
    "\n",
    "treatment= data[\"treatment_name\"][0]\n",
    "outcome = data[\"outcome_name\"][0]\n",
    "common_cause = data[\"common_causes_names\"][0]\n",
    "df"
   ]
  },
  {
   "cell_type": "code",
   "execution_count": 3,
   "metadata": {
    "execution": {
     "iopub.execute_input": "2023-12-03T07:56:53.485452Z",
     "iopub.status.busy": "2023-12-03T07:56:53.485122Z",
     "iopub.status.idle": "2023-12-03T07:56:53.666102Z",
     "shell.execute_reply": "2023-12-03T07:56:53.665506Z"
    },
    "scrolled": true
   },
   "outputs": [
    {
     "data": {
      "text/plain": [
       "<Axes: xlabel='v0'>"
      ]
     },
     "execution_count": 3,
     "metadata": {},
     "output_type": "execute_result"
    },
    {
     "data": {
      "image/png": "[encoded data removed]",
      "text/plain": [
       "<Figure size 640x480 with 1 Axes>"
      ]
     },
     "metadata": {},
     "output_type": "display_data"
    }
   ],
   "source": [
    "# data['df'] is just a regular pandas.DataFrame\n",
    "df.causal.do(x=treatment,\n",
    "             variable_types={treatment: 'b', outcome: 'c', common_cause: 'c'},\n",
    "             outcome=outcome,\n",
    "             common_causes=[common_cause],\n",
    "            ).groupby(treatment).mean().plot(y=outcome, kind='bar')"
   ]
  },
  {
   "cell_type": "code",
   "execution_count": 4,
   "metadata": {
    "execution": {
     "iopub.execute_input": "2023-12-03T07:56:53.668602Z",
     "iopub.status.busy": "2023-12-03T07:56:53.668195Z",
     "iopub.status.idle": "2023-12-03T07:56:53.776149Z",
     "shell.execute_reply": "2023-12-03T07:56:53.775421Z"
    }
   },
   "outputs": [
    {
     "data": {
      "text/plain": [
       "<Axes: xlabel='v0'>"
      ]
     },
     "execution_count": 4,
     "metadata": {},
     "output_type": "execute_result"
    },
    {
     "data": {
      "image/png": "[encoded data removed]",
      "text/plain": [
       "<Figure size 640x480 with 1 Axes>"
      ]
     },
     "metadata": {},
     "output_type": "display_data"
    }
   ],
   "source": [
    "df.causal.do(x={treatment: 1}, \n",
    "              variable_types={treatment:'b', outcome: 'c', common_cause: 'c'}, \n",
    "              outcome=outcome,\n",
    "              method='weighting', \n",
    "              common_causes=[common_cause]\n",
    "              ).groupby(treatment).mean().plot(y=outcome, kind='bar')"
   ]
  },
  {
   "cell_type": "code",
   "execution_count": 5,
   "metadata": {
    "execution": {
     "iopub.execute_input": "2023-12-03T07:56:53.778747Z",
     "iopub.status.busy": "2023-12-03T07:56:53.778536Z",
     "iopub.status.idle": "2023-12-03T07:56:53.799277Z",
     "shell.execute_reply": "2023-12-03T07:56:53.798683Z"
    }
   },
   "outputs": [],
   "source": [
    "cdf_1 = df.causal.do(x={treatment: 1}, \n",
    "              variable_types={treatment: 'b', outcome: 'c', common_cause: 'c'}, \n",
    "              outcome=outcome, \n",
    "              graph=nx_graph\n",
    "              )\n",
    "\n",
    "cdf_0 = df.causal.do(x={treatment: 0}, \n",
    "              variable_types={treatment: 'b', outcome: 'c', common_cause: 'c'}, \n",
    "              outcome=outcome, \n",
    "              graph=nx_graph\n",
    "              )\n"
   ]
  },
  {
   "cell_type": "code",
   "execution_count": 6,
   "metadata": {
    "execution": {
     "iopub.execute_input": "2023-12-03T07:56:53.801778Z",
     "iopub.status.busy": "2023-12-03T07:56:53.801398Z",
     "iopub.status.idle": "2023-12-03T07:56:53.810294Z",
     "shell.execute_reply": "2023-12-03T07:56:53.809746Z"
    },
    "scrolled": true
   },
   "outputs": [
    {
     "data": {
      "text/html": [
       "<div>\n",
       "<style scoped>\n",
       "    .dataframe tbody tr th:only-of-type {\n",
       "        vertical-align: middle;\n",
       "    }\n",
       "\n",
       "    .dataframe tbody tr th {\n",
       "        vertical-align: top;\n",
       "    }\n",
       "\n",
       "    .dataframe thead th {\n",
       "        text-align: right;\n",
       "    }\n",
       "</style>\n",
       "<table border=\"1\" class=\"dataframe\">\n",
       "  <thead>\n",
       "    <tr style=\"text-align: right;\">\n",
       "      <th></th>\n",
       "      <th>W0</th>\n",
       "      <th>v0</th>\n",
       "      <th>y</th>\n",
       "      <th>propensity_score</th>\n",
       "      <th>weight</th>\n",
       "    </tr>\n",
       "  </thead>\n",
       "  <tbody>\n",
       "    <tr>\n",
       "      <th>0</th>\n",
       "      <td>0.285716</td>\n",
       "      <td>False</td>\n",
       "      <td>-0.087360</td>\n",
       "      <td>0.399273</td>\n",
       "      <td>2.504554</td>\n",
       "    </tr>\n",
       "    <tr>\n",
       "      <th>1</th>\n",
       "      <td>-0.717493</td>\n",
       "      <td>False</td>\n",
       "      <td>-1.659798</td>\n",
       "      <td>0.753263</td>\n",
       "      <td>1.327558</td>\n",
       "    </tr>\n",
       "    <tr>\n",
       "      <th>2</th>\n",
       "      <td>0.636154</td>\n",
       "      <td>False</td>\n",
       "      <td>2.381278</td>\n",
       "      <td>0.280686</td>\n",
       "      <td>3.562700</td>\n",
       "    </tr>\n",
       "    <tr>\n",
       "      <th>3</th>\n",
       "      <td>0.915410</td>\n",
       "      <td>False</td>\n",
       "      <td>2.872034</td>\n",
       "      <td>0.203356</td>\n",
       "      <td>4.917485</td>\n",
       "    </tr>\n",
       "    <tr>\n",
       "      <th>4</th>\n",
       "      <td>1.912569</td>\n",
       "      <td>False</td>\n",
       "      <td>4.802676</td>\n",
       "      <td>0.053109</td>\n",
       "      <td>18.829258</td>\n",
       "    </tr>\n",
       "    <tr>\n",
       "      <th>...</th>\n",
       "      <td>...</td>\n",
       "      <td>...</td>\n",
       "      <td>...</td>\n",
       "      <td>...</td>\n",
       "      <td>...</td>\n",
       "    </tr>\n",
       "    <tr>\n",
       "      <th>995</th>\n",
       "      <td>0.427673</td>\n",
       "      <td>False</td>\n",
       "      <td>1.142105</td>\n",
       "      <td>0.348820</td>\n",
       "      <td>2.866808</td>\n",
       "    </tr>\n",
       "    <tr>\n",
       "      <th>996</th>\n",
       "      <td>-1.241196</td>\n",
       "      <td>False</td>\n",
       "      <td>-1.943783</td>\n",
       "      <td>0.871240</td>\n",
       "      <td>1.147790</td>\n",
       "    </tr>\n",
       "    <tr>\n",
       "      <th>997</th>\n",
       "      <td>0.984631</td>\n",
       "      <td>False</td>\n",
       "      <td>2.438371</td>\n",
       "      <td>0.186845</td>\n",
       "      <td>5.352040</td>\n",
       "    </tr>\n",
       "    <tr>\n",
       "      <th>998</th>\n",
       "      <td>0.177589</td>\n",
       "      <td>False</td>\n",
       "      <td>0.583466</td>\n",
       "      <td>0.439258</td>\n",
       "      <td>2.276568</td>\n",
       "    </tr>\n",
       "    <tr>\n",
       "      <th>999</th>\n",
       "      <td>-0.193606</td>\n",
       "      <td>False</td>\n",
       "      <td>-0.023093</td>\n",
       "      <td>0.579308</td>\n",
       "      <td>1.726197</td>\n",
       "    </tr>\n",
       "  </tbody>\n",
       "</table>\n",
       "<p>1000 rows × 5 columns</p>\n",
       "</div>"
      ],
      "text/plain": [
       "           W0     v0         y  propensity_score     weight\n",
       "0    0.285716  False -0.087360          0.399273   2.504554\n",
       "1   -0.717493  False -1.659798          0.753263   1.327558\n",
       "2    0.636154  False  2.381278          0.280686   3.562700\n",
       "3    0.915410  False  2.872034          0.203356   4.917485\n",
       "4    1.912569  False  4.802676          0.053109  18.829258\n",
       "..        ...    ...       ...               ...        ...\n",
       "995  0.427673  False  1.142105          0.348820   2.866808\n",
       "996 -1.241196  False -1.943783          0.871240   1.147790\n",
       "997  0.984631  False  2.438371          0.186845   5.352040\n",
       "998  0.177589  False  0.583466          0.439258   2.276568\n",
       "999 -0.193606  False -0.023093          0.579308   1.726197\n",
       "\n",
       "[1000 rows x 5 columns]"
      ]
     },
     "execution_count": 6,
     "metadata": {},
     "output_type": "execute_result"
    }
   ],
   "source": [
    "cdf_0"
   ]
  },
  {
   "cell_type": "code",
   "execution_count": 7,
   "metadata": {
    "execution": {
     "iopub.execute_input": "2023-12-03T07:56:53.812486Z",
     "iopub.status.busy": "2023-12-03T07:56:53.812136Z",
     "iopub.status.idle": "2023-12-03T07:56:53.820559Z",
     "shell.execute_reply": "2023-12-03T07:56:53.820041Z"
    }
   },
   "outputs": [
    {
     "data": {
      "text/html": [
       "<div>\n",
       "<style scoped>\n",
       "    .dataframe tbody tr th:only-of-type {\n",
       "        vertical-align: middle;\n",
       "    }\n",
       "\n",
       "    .dataframe tbody tr th {\n",
       "        vertical-align: top;\n",
       "    }\n",
       "\n",
       "    .dataframe thead th {\n",
       "        text-align: right;\n",
       "    }\n",
       "</style>\n",
       "<table border=\"1\" class=\"dataframe\">\n",
       "  <thead>\n",
       "    <tr style=\"text-align: right;\">\n",
       "      <th></th>\n",
       "      <th>W0</th>\n",
       "      <th>v0</th>\n",
       "      <th>y</th>\n",
       "      <th>propensity_score</th>\n",
       "      <th>weight</th>\n",
       "    </tr>\n",
       "  </thead>\n",
       "  <tbody>\n",
       "    <tr>\n",
       "      <th>0</th>\n",
       "      <td>0.319315</td>\n",
       "      <td>True</td>\n",
       "      <td>4.857947</td>\n",
       "      <td>0.612909</td>\n",
       "      <td>1.631563</td>\n",
       "    </tr>\n",
       "    <tr>\n",
       "      <th>1</th>\n",
       "      <td>0.260316</td>\n",
       "      <td>True</td>\n",
       "      <td>5.140960</td>\n",
       "      <td>0.591434</td>\n",
       "      <td>1.690806</td>\n",
       "    </tr>\n",
       "    <tr>\n",
       "      <th>2</th>\n",
       "      <td>-0.460619</td>\n",
       "      <td>True</td>\n",
       "      <td>4.454292</td>\n",
       "      <td>0.326136</td>\n",
       "      <td>3.066209</td>\n",
       "    </tr>\n",
       "    <tr>\n",
       "      <th>3</th>\n",
       "      <td>-1.477333</td>\n",
       "      <td>True</td>\n",
       "      <td>1.678653</td>\n",
       "      <td>0.093568</td>\n",
       "      <td>10.687403</td>\n",
       "    </tr>\n",
       "    <tr>\n",
       "      <th>4</th>\n",
       "      <td>-0.299012</td>\n",
       "      <td>True</td>\n",
       "      <td>6.674907</td>\n",
       "      <td>0.382224</td>\n",
       "      <td>2.616268</td>\n",
       "    </tr>\n",
       "    <tr>\n",
       "      <th>...</th>\n",
       "      <td>...</td>\n",
       "      <td>...</td>\n",
       "      <td>...</td>\n",
       "      <td>...</td>\n",
       "      <td>...</td>\n",
       "    </tr>\n",
       "    <tr>\n",
       "      <th>995</th>\n",
       "      <td>0.202220</td>\n",
       "      <td>True</td>\n",
       "      <td>3.413916</td>\n",
       "      <td>0.569940</td>\n",
       "      <td>1.754570</td>\n",
       "    </tr>\n",
       "    <tr>\n",
       "      <th>996</th>\n",
       "      <td>0.729354</td>\n",
       "      <td>True</td>\n",
       "      <td>5.825151</td>\n",
       "      <td>0.747004</td>\n",
       "      <td>1.338681</td>\n",
       "    </tr>\n",
       "    <tr>\n",
       "      <th>997</th>\n",
       "      <td>-0.613151</td>\n",
       "      <td>True</td>\n",
       "      <td>4.410444</td>\n",
       "      <td>0.277375</td>\n",
       "      <td>3.605228</td>\n",
       "    </tr>\n",
       "    <tr>\n",
       "      <th>998</th>\n",
       "      <td>-0.654808</td>\n",
       "      <td>True</td>\n",
       "      <td>3.494189</td>\n",
       "      <td>0.264866</td>\n",
       "      <td>3.775488</td>\n",
       "    </tr>\n",
       "    <tr>\n",
       "      <th>999</th>\n",
       "      <td>1.331752</td>\n",
       "      <td>True</td>\n",
       "      <td>7.159004</td>\n",
       "      <td>0.880605</td>\n",
       "      <td>1.135583</td>\n",
       "    </tr>\n",
       "  </tbody>\n",
       "</table>\n",
       "<p>1000 rows × 5 columns</p>\n",
       "</div>"
      ],
      "text/plain": [
       "           W0    v0         y  propensity_score     weight\n",
       "0    0.319315  True  4.857947          0.612909   1.631563\n",
       "1    0.260316  True  5.140960          0.591434   1.690806\n",
       "2   -0.460619  True  4.454292          0.326136   3.066209\n",
       "3   -1.477333  True  1.678653          0.093568  10.687403\n",
       "4   -0.299012  True  6.674907          0.382224   2.616268\n",
       "..        ...   ...       ...               ...        ...\n",
       "995  0.202220  True  3.413916          0.569940   1.754570\n",
       "996  0.729354  True  5.825151          0.747004   1.338681\n",
       "997 -0.613151  True  4.410444          0.277375   3.605228\n",
       "998 -0.654808  True  3.494189          0.264866   3.775488\n",
       "999  1.331752  True  7.159004          0.880605   1.135583\n",
       "\n",
       "[1000 rows x 5 columns]"
      ]
     },
     "execution_count": 7,
     "metadata": {},
     "output_type": "execute_result"
    }
   ],
   "source": [
    "cdf_1"
   ]
  },
  {
   "cell_type": "markdown",
   "metadata": {},
   "source": [
    "## Comparing the estimate to Linear Regression\n",
    "First, estimating the effect using the causal data frame, and the 95% confidence interval."
   ]
  },
  {
   "cell_type": "code",
   "execution_count": 8,
   "metadata": {
    "execution": {
     "iopub.execute_input": "2023-12-03T07:56:53.822845Z",
     "iopub.status.busy": "2023-12-03T07:56:53.822406Z",
     "iopub.status.idle": "2023-12-03T07:56:53.869593Z",
     "shell.execute_reply": "2023-12-03T07:56:53.868982Z"
    }
   },
   "outputs": [
    {
     "data": {
      "image/png": "[encoded data removed]",
      "text/latex": [
       "$\\displaystyle 5.00201749450253$"
      ],
      "text/plain": [
       "5.002017494502526"
      ]
     },
     "execution_count": 8,
     "metadata": {},
     "output_type": "execute_result"
    }
   ],
   "source": [
    "(cdf_1['y'] - cdf_0['y']).mean()"
   ]
  },
  {
   "cell_type": "code",
   "execution_count": 9,
   "metadata": {
    "execution": {
     "iopub.execute_input": "2023-12-03T07:56:53.871869Z",
     "iopub.status.busy": "2023-12-03T07:56:53.871545Z",
     "iopub.status.idle": "2023-12-03T07:56:53.888539Z",
     "shell.execute_reply": "2023-12-03T07:56:53.887942Z"
    }
   },
   "outputs": [
    {
     "data": {
      "image/png": "[encoded data removed]",
      "text/latex": [
       "$\\displaystyle 0.176734321721029$"
      ],
      "text/plain": [
       "0.17673432172102943"
      ]
     },
     "execution_count": 9,
     "metadata": {},
     "output_type": "execute_result"
    }
   ],
   "source": [
    "1.96*(cdf_1['y'] - cdf_0['y']).std() / np.sqrt(len(df))"
   ]
  },
  {
   "cell_type": "markdown",
   "metadata": {},
   "source": [
    "Comparing to the estimate from OLS."
   ]
  },
  {
   "cell_type": "code",
   "execution_count": 10,
   "metadata": {
    "execution": {
     "iopub.execute_input": "2023-12-03T07:56:53.890883Z",
     "iopub.status.busy": "2023-12-03T07:56:53.890462Z",
     "iopub.status.idle": "2023-12-03T07:56:53.906352Z",
     "shell.execute_reply": "2023-12-03T07:56:53.905710Z"
    }
   },
   "outputs": [
    {
     "data": {
      "text/html": [
       "<table class=\"simpletable\">\n",
       "<caption>OLS Regression Results</caption>\n",
       "<tr>\n",
       "  <th>Dep. Variable:</th>            <td>y</td>        <th>  R-squared (uncentered):</th>      <td>   0.951</td>\n",
       "</tr>\n",
       "<tr>\n",
       "  <th>Model:</th>                   <td>OLS</td>       <th>  Adj. R-squared (uncentered):</th> <td>   0.951</td>\n",
       "</tr>\n",
       "<tr>\n",
       "  <th>Method:</th>             <td>Least Squares</td>  <th>  F-statistic:       </th>          <td>   9626.</td>\n",
       "</tr>\n",
       "<tr>\n",
       "  <th>Date:</th>             <td>Sun, 03 Dec 2023</td> <th>  Prob (F-statistic):</th>           <td>  0.00</td> \n",
       "</tr>\n",
       "<tr>\n",
       "  <th>Time:</th>                 <td>07:56:53</td>     <th>  Log-Likelihood:    </th>          <td> -1400.3</td>\n",
       "</tr>\n",
       "<tr>\n",
       "  <th>No. Observations:</th>      <td>  1000</td>      <th>  AIC:               </th>          <td>   2805.</td>\n",
       "</tr>\n",
       "<tr>\n",
       "  <th>Df Residuals:</th>          <td>   998</td>      <th>  BIC:               </th>          <td>   2814.</td>\n",
       "</tr>\n",
       "<tr>\n",
       "  <th>Df Model:</th>              <td>     2</td>      <th>                     </th>              <td> </td>   \n",
       "</tr>\n",
       "<tr>\n",
       "  <th>Covariance Type:</th>      <td>nonrobust</td>    <th>                     </th>              <td> </td>   \n",
       "</tr>\n",
       "</table>\n",
       "<table class=\"simpletable\">\n",
       "<tr>\n",
       "   <td></td>     <th>coef</th>     <th>std err</th>      <th>t</th>      <th>P>|t|</th>  <th>[0.025</th>    <th>0.975]</th>  \n",
       "</tr>\n",
       "<tr>\n",
       "  <th>x1</th> <td>    1.6444</td> <td>    0.033</td> <td>   50.504</td> <td> 0.000</td> <td>    1.581</td> <td>    1.708</td>\n",
       "</tr>\n",
       "<tr>\n",
       "  <th>x2</th> <td>    5.0473</td> <td>    0.048</td> <td>  105.559</td> <td> 0.000</td> <td>    4.953</td> <td>    5.141</td>\n",
       "</tr>\n",
       "</table>\n",
       "<table class=\"simpletable\">\n",
       "<tr>\n",
       "  <th>Omnibus:</th>       <td> 0.625</td> <th>  Durbin-Watson:     </th> <td>   2.079</td>\n",
       "</tr>\n",
       "<tr>\n",
       "  <th>Prob(Omnibus):</th> <td> 0.732</td> <th>  Jarque-Bera (JB):  </th> <td>   0.706</td>\n",
       "</tr>\n",
       "<tr>\n",
       "  <th>Skew:</th>          <td>-0.048</td> <th>  Prob(JB):          </th> <td>   0.703</td>\n",
       "</tr>\n",
       "<tr>\n",
       "  <th>Kurtosis:</th>      <td> 2.912</td> <th>  Cond. No.          </th> <td>    1.68</td>\n",
       "</tr>\n",
       "</table><br/><br/>Notes:<br/>[1] R² is computed without centering (uncentered) since the model does not contain a constant.<br/>[2] Standard Errors assume that the covariance matrix of the errors is correctly specified."
      ],
      "text/latex": [
       "\\begin{center}\n",
       "\\begin{tabular}{lclc}\n",
       "\\toprule\n",
       "\\textbf{Dep. Variable:}    &        y         & \\textbf{  R-squared (uncentered):}      &     0.951   \\\\\n",
       "\\textbf{Model:}            &       OLS        & \\textbf{  Adj. R-squared (uncentered):} &     0.951   \\\\\n",
       "\\textbf{Method:}           &  Least Squares   & \\textbf{  F-statistic:       }          &     9626.   \\\\\n",
       "\\textbf{Date:}             & Sun, 03 Dec 2023 & \\textbf{  Prob (F-statistic):}          &     0.00    \\\\\n",
       "\\textbf{Time:}             &     07:56:53     & \\textbf{  Log-Likelihood:    }          &   -1400.3   \\\\\n",
       "\\textbf{No. Observations:} &        1000      & \\textbf{  AIC:               }          &     2805.   \\\\\n",
       "\\textbf{Df Residuals:}     &         998      & \\textbf{  BIC:               }          &     2814.   \\\\\n",
       "\\textbf{Df Model:}         &           2      & \\textbf{                     }          &             \\\\\n",
       "\\textbf{Covariance Type:}  &    nonrobust     & \\textbf{                     }          &             \\\\\n",
       "\\bottomrule\n",
       "\\end{tabular}\n",
       "\\begin{tabular}{lcccccc}\n",
       "            & \\textbf{coef} & \\textbf{std err} & \\textbf{t} & \\textbf{P$> |$t$|$} & \\textbf{[0.025} & \\textbf{0.975]}  \\\\\n",
       "\\midrule\n",
       "\\textbf{x1} &       1.6444  &        0.033     &    50.504  &         0.000        &        1.581    &        1.708     \\\\\n",
       "\\textbf{x2} &       5.0473  &        0.048     &   105.559  &         0.000        &        4.953    &        5.141     \\\\\n",
       "\\bottomrule\n",
       "\\end{tabular}\n",
       "\\begin{tabular}{lclc}\n",
       "\\textbf{Omnibus:}       &  0.625 & \\textbf{  Durbin-Watson:     } &    2.079  \\\\\n",
       "\\textbf{Prob(Omnibus):} &  0.732 & \\textbf{  Jarque-Bera (JB):  } &    0.706  \\\\\n",
       "\\textbf{Skew:}          & -0.048 & \\textbf{  Prob(JB):          } &    0.703  \\\\\n",
       "\\textbf{Kurtosis:}      &  2.912 & \\textbf{  Cond. No.          } &     1.68  \\\\\n",
       "\\bottomrule\n",
       "\\end{tabular}\n",
       "%\\caption{OLS Regression Results}\n",
       "\\end{center}\n",
       "\n",
       "Notes: \\newline\n",
       " [1] R² is computed without centering (uncentered) since the model does not contain a constant. \\newline\n",
       " [2] Standard Errors assume that the covariance matrix of the errors is correctly specified."
      ],
      "text/plain": [
       "<class 'statsmodels.iolib.summary.Summary'>\n",
       "\"\"\"\n",
       "                                 OLS Regression Results                                \n",
       "=======================================================================================\n",
       "Dep. Variable:                      y   R-squared (uncentered):                   0.951\n",
       "Model:                            OLS   Adj. R-squared (uncentered):              0.951\n",
       "Method:                 Least Squares   F-statistic:                              9626.\n",
       "Date:                Sun, 03 Dec 2023   Prob (F-statistic):                        0.00\n",
       "Time:                        07:56:53   Log-Likelihood:                         -1400.3\n",
       "No. Observations:                1000   AIC:                                      2805.\n",
       "Df Residuals:                     998   BIC:                                      2814.\n",
       "Df Model:                           2                                                  \n",
       "Covariance Type:            nonrobust                                                  \n",
       "==============================================================================\n",
       "                 coef    std err          t      P>|t|      [0.025      0.975]\n",
       "------------------------------------------------------------------------------\n",
       "x1             1.6444      0.033     50.504      0.000       1.581       1.708\n",
       "x2             5.0473      0.048    105.559      0.000       4.953       5.141\n",
       "==============================================================================\n",
       "Omnibus:                        0.625   Durbin-Watson:                   2.079\n",
       "Prob(Omnibus):                  0.732   Jarque-Bera (JB):                0.706\n",
       "Skew:                          -0.048   Prob(JB):                        0.703\n",
       "Kurtosis:                       2.912   Cond. No.                         1.68\n",
       "==============================================================================\n",
       "\n",
       "Notes:\n",
       "[1] R² is computed without centering (uncentered) since the model does not contain a constant.\n",
       "[2] Standard Errors assume that the covariance matrix of the errors is correctly specified.\n",
       "\"\"\""
      ]
     },
     "execution_count": 10,
     "metadata": {},
     "output_type": "execute_result"
    }
   ],
   "source": [
    "model = OLS(np.asarray(df[outcome]), np.asarray(df[[common_cause, treatment]], dtype=np.float64))\n",
    "result = model.fit()\n",
    "result.summary()"
   ]
  }
 ],
 "metadata": {
  "kernelspec": {
   "display_name": "Python 3 (ipykernel)",
   "language": "python",
   "name": "python3"
  },
  "language_info": {
   "codemirror_mode": {
    "name": "ipython",
    "version": 3
   },
   "file_extension": ".py",
   "mimetype": "text/x-python",
   "name": "python",
   "nbconvert_exporter": "python",
   "pygments_lexer": "ipython3",
   "version": "3.8.10"
  },
  "toc": {
   "base_numbering": 1,
   "nav_menu": {},
   "number_sections": false,
   "sideBar": true,
   "skip_h1_title": true,
   "title_cell": "Table of Contents",
   "title_sidebar": "Contents",
   "toc_cell": false,
   "toc_position": {},
   "toc_section_display": true,
   "toc_window_display": false
  }
 },
 "nbformat": 4,
 "nbformat_minor": 4
}
