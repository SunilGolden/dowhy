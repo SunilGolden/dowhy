{
 "cells": [
  {
   "cell_type": "markdown",
   "metadata": {},
   "source": [
    "# Demo for the DoWhy causal API\n",
    "We show a simple example of adding a causal extension to any dataframe. "
   ]
  },
  {
   "cell_type": "code",
   "execution_count": 1,
   "metadata": {
    "execution": {
     "iopub.execute_input": "2023-11-15T15:07:38.701675Z",
     "iopub.status.busy": "2023-11-15T15:07:38.701501Z",
     "iopub.status.idle": "2023-11-15T15:07:40.025673Z",
     "shell.execute_reply": "2023-11-15T15:07:40.025106Z"
    }
   },
   "outputs": [],
   "source": [
    "import dowhy.datasets\n",
    "import dowhy.api\n",
    "\n",
    "import numpy as np\n",
    "import pandas as pd\n",
    "\n",
    "from statsmodels.api import OLS"
   ]
  },
  {
   "cell_type": "code",
   "execution_count": 2,
   "metadata": {
    "execution": {
     "iopub.execute_input": "2023-11-15T15:07:40.028525Z",
     "iopub.status.busy": "2023-11-15T15:07:40.028041Z",
     "iopub.status.idle": "2023-11-15T15:07:40.070708Z",
     "shell.execute_reply": "2023-11-15T15:07:40.070144Z"
    }
   },
   "outputs": [
    {
     "data": {
      "text/html": [
       "<div>\n",
       "<style scoped>\n",
       "    .dataframe tbody tr th:only-of-type {\n",
       "        vertical-align: middle;\n",
       "    }\n",
       "\n",
       "    .dataframe tbody tr th {\n",
       "        vertical-align: top;\n",
       "    }\n",
       "\n",
       "    .dataframe thead th {\n",
       "        text-align: right;\n",
       "    }\n",
       "</style>\n",
       "<table border=\"1\" class=\"dataframe\">\n",
       "  <thead>\n",
       "    <tr style=\"text-align: right;\">\n",
       "      <th></th>\n",
       "      <th>W0</th>\n",
       "      <th>v0</th>\n",
       "      <th>y</th>\n",
       "    </tr>\n",
       "  </thead>\n",
       "  <tbody>\n",
       "    <tr>\n",
       "      <th>0</th>\n",
       "      <td>-0.527099</td>\n",
       "      <td>False</td>\n",
       "      <td>0.121136</td>\n",
       "    </tr>\n",
       "    <tr>\n",
       "      <th>1</th>\n",
       "      <td>-0.162835</td>\n",
       "      <td>False</td>\n",
       "      <td>-1.242781</td>\n",
       "    </tr>\n",
       "    <tr>\n",
       "      <th>2</th>\n",
       "      <td>-0.417895</td>\n",
       "      <td>False</td>\n",
       "      <td>-1.199453</td>\n",
       "    </tr>\n",
       "    <tr>\n",
       "      <th>3</th>\n",
       "      <td>1.176550</td>\n",
       "      <td>True</td>\n",
       "      <td>6.703209</td>\n",
       "    </tr>\n",
       "    <tr>\n",
       "      <th>4</th>\n",
       "      <td>0.077902</td>\n",
       "      <td>False</td>\n",
       "      <td>0.406159</td>\n",
       "    </tr>\n",
       "    <tr>\n",
       "      <th>...</th>\n",
       "      <td>...</td>\n",
       "      <td>...</td>\n",
       "      <td>...</td>\n",
       "    </tr>\n",
       "    <tr>\n",
       "      <th>995</th>\n",
       "      <td>0.373784</td>\n",
       "      <td>True</td>\n",
       "      <td>6.079608</td>\n",
       "    </tr>\n",
       "    <tr>\n",
       "      <th>996</th>\n",
       "      <td>0.476045</td>\n",
       "      <td>False</td>\n",
       "      <td>0.034666</td>\n",
       "    </tr>\n",
       "    <tr>\n",
       "      <th>997</th>\n",
       "      <td>0.583934</td>\n",
       "      <td>False</td>\n",
       "      <td>0.317318</td>\n",
       "    </tr>\n",
       "    <tr>\n",
       "      <th>998</th>\n",
       "      <td>2.023003</td>\n",
       "      <td>True</td>\n",
       "      <td>8.767256</td>\n",
       "    </tr>\n",
       "    <tr>\n",
       "      <th>999</th>\n",
       "      <td>-0.606489</td>\n",
       "      <td>False</td>\n",
       "      <td>-0.365905</td>\n",
       "    </tr>\n",
       "  </tbody>\n",
       "</table>\n",
       "<p>1000 rows × 3 columns</p>\n",
       "</div>"
      ],
      "text/plain": [
       "           W0     v0         y\n",
       "0   -0.527099  False  0.121136\n",
       "1   -0.162835  False -1.242781\n",
       "2   -0.417895  False -1.199453\n",
       "3    1.176550   True  6.703209\n",
       "4    0.077902  False  0.406159\n",
       "..        ...    ...       ...\n",
       "995  0.373784   True  6.079608\n",
       "996  0.476045  False  0.034666\n",
       "997  0.583934  False  0.317318\n",
       "998  2.023003   True  8.767256\n",
       "999 -0.606489  False -0.365905\n",
       "\n",
       "[1000 rows x 3 columns]"
      ]
     },
     "execution_count": 2,
     "metadata": {},
     "output_type": "execute_result"
    }
   ],
   "source": [
    "data = dowhy.datasets.linear_dataset(beta=5,\n",
    "        num_common_causes=1,\n",
    "        num_instruments = 0,\n",
    "        num_samples=1000,\n",
    "        treatment_is_binary=True)\n",
    "df = data['df']\n",
    "df['y'] = df['y'] + np.random.normal(size=len(df)) # Adding noise to data. Without noise, the variance in Y|X, Z is zero, and mcmc fails.\n",
    "#data['dot_graph'] = 'digraph { v ->y;X0-> v;X0-> y;}'\n",
    "\n",
    "treatment= data[\"treatment_name\"][0]\n",
    "outcome = data[\"outcome_name\"][0]\n",
    "common_cause = data[\"common_causes_names\"][0]\n",
    "df"
   ]
  },
  {
   "cell_type": "code",
   "execution_count": 3,
   "metadata": {
    "execution": {
     "iopub.execute_input": "2023-11-15T15:07:40.072997Z",
     "iopub.status.busy": "2023-11-15T15:07:40.072568Z",
     "iopub.status.idle": "2023-11-15T15:07:40.250468Z",
     "shell.execute_reply": "2023-11-15T15:07:40.249858Z"
    }
   },
   "outputs": [
    {
     "data": {
      "text/plain": [
       "<Axes: xlabel='v0'>"
      ]
     },
     "execution_count": 3,
     "metadata": {},
     "output_type": "execute_result"
    },
    {
     "data": {
      "image/png": "[encoded data removed]",
      "text/plain": [
       "<Figure size 640x480 with 1 Axes>"
      ]
     },
     "metadata": {},
     "output_type": "display_data"
    }
   ],
   "source": [
    "# data['df'] is just a regular pandas.DataFrame\n",
    "df.causal.do(x=treatment,\n",
    "                     variable_types={treatment: 'b', outcome: 'c', common_cause: 'c'},\n",
    "                     outcome=outcome,\n",
    "                     common_causes=[common_cause],\n",
    "                     proceed_when_unidentifiable=True).groupby(treatment).mean().plot(y=outcome, kind='bar')"
   ]
  },
  {
   "cell_type": "code",
   "execution_count": 4,
   "metadata": {
    "execution": {
     "iopub.execute_input": "2023-11-15T15:07:40.252825Z",
     "iopub.status.busy": "2023-11-15T15:07:40.252511Z",
     "iopub.status.idle": "2023-11-15T15:07:40.384754Z",
     "shell.execute_reply": "2023-11-15T15:07:40.384154Z"
    }
   },
   "outputs": [
    {
     "data": {
      "text/plain": [
       "<Axes: xlabel='v0'>"
      ]
     },
     "execution_count": 4,
     "metadata": {},
     "output_type": "execute_result"
    },
    {
     "data": {
      "image/png": "[encoded data removed]",
      "text/plain": [
       "<Figure size 640x480 with 1 Axes>"
      ]
     },
     "metadata": {},
     "output_type": "display_data"
    }
   ],
   "source": [
    "df.causal.do(x={treatment: 1}, \n",
    "              variable_types={treatment:'b', outcome: 'c', common_cause: 'c'}, \n",
    "              outcome=outcome,\n",
    "              method='weighting', \n",
    "              common_causes=[common_cause],\n",
    "              proceed_when_unidentifiable=True).groupby(treatment).mean().plot(y=outcome, kind='bar')"
   ]
  },
  {
   "cell_type": "code",
   "execution_count": 5,
   "metadata": {
    "execution": {
     "iopub.execute_input": "2023-11-15T15:07:40.387549Z",
     "iopub.status.busy": "2023-11-15T15:07:40.387314Z",
     "iopub.status.idle": "2023-11-15T15:07:40.413044Z",
     "shell.execute_reply": "2023-11-15T15:07:40.412492Z"
    }
   },
   "outputs": [],
   "source": [
    "cdf_1 = df.causal.do(x={treatment: 1}, \n",
    "              variable_types={treatment: 'b', outcome: 'c', common_cause: 'c'}, \n",
    "              outcome=outcome, \n",
    "              dot_graph=data['dot_graph'],\n",
    "              proceed_when_unidentifiable=True)\n",
    "\n",
    "cdf_0 = df.causal.do(x={treatment: 0}, \n",
    "              variable_types={treatment: 'b', outcome: 'c', common_cause: 'c'}, \n",
    "              outcome=outcome, \n",
    "              dot_graph=data['dot_graph'],\n",
    "              proceed_when_unidentifiable=True)\n"
   ]
  },
  {
   "cell_type": "code",
   "execution_count": 6,
   "metadata": {
    "execution": {
     "iopub.execute_input": "2023-11-15T15:07:40.415643Z",
     "iopub.status.busy": "2023-11-15T15:07:40.415130Z",
     "iopub.status.idle": "2023-11-15T15:07:40.423767Z",
     "shell.execute_reply": "2023-11-15T15:07:40.423214Z"
    },
    "scrolled": true
   },
   "outputs": [
    {
     "data": {
      "text/html": [
       "<div>\n",
       "<style scoped>\n",
       "    .dataframe tbody tr th:only-of-type {\n",
       "        vertical-align: middle;\n",
       "    }\n",
       "\n",
       "    .dataframe tbody tr th {\n",
       "        vertical-align: top;\n",
       "    }\n",
       "\n",
       "    .dataframe thead th {\n",
       "        text-align: right;\n",
       "    }\n",
       "</style>\n",
       "<table border=\"1\" class=\"dataframe\">\n",
       "  <thead>\n",
       "    <tr style=\"text-align: right;\">\n",
       "      <th></th>\n",
       "      <th>W0</th>\n",
       "      <th>v0</th>\n",
       "      <th>y</th>\n",
       "      <th>propensity_score</th>\n",
       "      <th>weight</th>\n",
       "    </tr>\n",
       "  </thead>\n",
       "  <tbody>\n",
       "    <tr>\n",
       "      <th>0</th>\n",
       "      <td>-0.691746</td>\n",
       "      <td>False</td>\n",
       "      <td>-0.733120</td>\n",
       "      <td>0.816401</td>\n",
       "      <td>1.224889</td>\n",
       "    </tr>\n",
       "    <tr>\n",
       "      <th>1</th>\n",
       "      <td>1.665108</td>\n",
       "      <td>False</td>\n",
       "      <td>2.914564</td>\n",
       "      <td>0.036055</td>\n",
       "      <td>27.735612</td>\n",
       "    </tr>\n",
       "    <tr>\n",
       "      <th>2</th>\n",
       "      <td>-1.366071</td>\n",
       "      <td>False</td>\n",
       "      <td>-2.349600</td>\n",
       "      <td>0.945794</td>\n",
       "      <td>1.057313</td>\n",
       "    </tr>\n",
       "    <tr>\n",
       "      <th>3</th>\n",
       "      <td>0.691127</td>\n",
       "      <td>False</td>\n",
       "      <td>1.086471</td>\n",
       "      <td>0.212252</td>\n",
       "      <td>4.711383</td>\n",
       "    </tr>\n",
       "    <tr>\n",
       "      <th>4</th>\n",
       "      <td>-0.606360</td>\n",
       "      <td>False</td>\n",
       "      <td>-2.510820</td>\n",
       "      <td>0.789022</td>\n",
       "      <td>1.267391</td>\n",
       "    </tr>\n",
       "    <tr>\n",
       "      <th>...</th>\n",
       "      <td>...</td>\n",
       "      <td>...</td>\n",
       "      <td>...</td>\n",
       "      <td>...</td>\n",
       "      <td>...</td>\n",
       "    </tr>\n",
       "    <tr>\n",
       "      <th>995</th>\n",
       "      <td>-0.529486</td>\n",
       "      <td>False</td>\n",
       "      <td>-1.459416</td>\n",
       "      <td>0.761912</td>\n",
       "      <td>1.312487</td>\n",
       "    </tr>\n",
       "    <tr>\n",
       "      <th>996</th>\n",
       "      <td>-0.439226</td>\n",
       "      <td>False</td>\n",
       "      <td>-0.918194</td>\n",
       "      <td>0.727149</td>\n",
       "      <td>1.375234</td>\n",
       "    </tr>\n",
       "    <tr>\n",
       "      <th>997</th>\n",
       "      <td>-0.310233</td>\n",
       "      <td>False</td>\n",
       "      <td>0.876422</td>\n",
       "      <td>0.672319</td>\n",
       "      <td>1.487389</td>\n",
       "    </tr>\n",
       "    <tr>\n",
       "      <th>998</th>\n",
       "      <td>-1.027715</td>\n",
       "      <td>False</td>\n",
       "      <td>-0.652623</td>\n",
       "      <td>0.897824</td>\n",
       "      <td>1.113804</td>\n",
       "    </tr>\n",
       "    <tr>\n",
       "      <th>999</th>\n",
       "      <td>0.330415</td>\n",
       "      <td>False</td>\n",
       "      <td>-0.676714</td>\n",
       "      <td>0.358905</td>\n",
       "      <td>2.786250</td>\n",
       "    </tr>\n",
       "  </tbody>\n",
       "</table>\n",
       "<p>1000 rows × 5 columns</p>\n",
       "</div>"
      ],
      "text/plain": [
       "           W0     v0         y  propensity_score     weight\n",
       "0   -0.691746  False -0.733120          0.816401   1.224889\n",
       "1    1.665108  False  2.914564          0.036055  27.735612\n",
       "2   -1.366071  False -2.349600          0.945794   1.057313\n",
       "3    0.691127  False  1.086471          0.212252   4.711383\n",
       "4   -0.606360  False -2.510820          0.789022   1.267391\n",
       "..        ...    ...       ...               ...        ...\n",
       "995 -0.529486  False -1.459416          0.761912   1.312487\n",
       "996 -0.439226  False -0.918194          0.727149   1.375234\n",
       "997 -0.310233  False  0.876422          0.672319   1.487389\n",
       "998 -1.027715  False -0.652623          0.897824   1.113804\n",
       "999  0.330415  False -0.676714          0.358905   2.786250\n",
       "\n",
       "[1000 rows x 5 columns]"
      ]
     },
     "execution_count": 6,
     "metadata": {},
     "output_type": "execute_result"
    }
   ],
   "source": [
    "cdf_0"
   ]
  },
  {
   "cell_type": "code",
   "execution_count": 7,
   "metadata": {
    "execution": {
     "iopub.execute_input": "2023-11-15T15:07:40.425838Z",
     "iopub.status.busy": "2023-11-15T15:07:40.425529Z",
     "iopub.status.idle": "2023-11-15T15:07:40.433781Z",
     "shell.execute_reply": "2023-11-15T15:07:40.433207Z"
    }
   },
   "outputs": [
    {
     "data": {
      "text/html": [
       "<div>\n",
       "<style scoped>\n",
       "    .dataframe tbody tr th:only-of-type {\n",
       "        vertical-align: middle;\n",
       "    }\n",
       "\n",
       "    .dataframe tbody tr th {\n",
       "        vertical-align: top;\n",
       "    }\n",
       "\n",
       "    .dataframe thead th {\n",
       "        text-align: right;\n",
       "    }\n",
       "</style>\n",
       "<table border=\"1\" class=\"dataframe\">\n",
       "  <thead>\n",
       "    <tr style=\"text-align: right;\">\n",
       "      <th></th>\n",
       "      <th>W0</th>\n",
       "      <th>v0</th>\n",
       "      <th>y</th>\n",
       "      <th>propensity_score</th>\n",
       "      <th>weight</th>\n",
       "    </tr>\n",
       "  </thead>\n",
       "  <tbody>\n",
       "    <tr>\n",
       "      <th>0</th>\n",
       "      <td>0.672030</td>\n",
       "      <td>True</td>\n",
       "      <td>6.950790</td>\n",
       "      <td>0.781203</td>\n",
       "      <td>1.280078</td>\n",
       "    </tr>\n",
       "    <tr>\n",
       "      <th>1</th>\n",
       "      <td>0.620747</td>\n",
       "      <td>True</td>\n",
       "      <td>5.921371</td>\n",
       "      <td>0.762914</td>\n",
       "      <td>1.310764</td>\n",
       "    </tr>\n",
       "    <tr>\n",
       "      <th>2</th>\n",
       "      <td>1.314965</td>\n",
       "      <td>True</td>\n",
       "      <td>8.360049</td>\n",
       "      <td>0.929310</td>\n",
       "      <td>1.076067</td>\n",
       "    </tr>\n",
       "    <tr>\n",
       "      <th>3</th>\n",
       "      <td>0.555532</td>\n",
       "      <td>True</td>\n",
       "      <td>5.460180</td>\n",
       "      <td>0.738176</td>\n",
       "      <td>1.354691</td>\n",
       "    </tr>\n",
       "    <tr>\n",
       "      <th>4</th>\n",
       "      <td>0.923700</td>\n",
       "      <td>True</td>\n",
       "      <td>7.175198</td>\n",
       "      <td>0.856056</td>\n",
       "      <td>1.168148</td>\n",
       "    </tr>\n",
       "    <tr>\n",
       "      <th>...</th>\n",
       "      <td>...</td>\n",
       "      <td>...</td>\n",
       "      <td>...</td>\n",
       "      <td>...</td>\n",
       "      <td>...</td>\n",
       "    </tr>\n",
       "    <tr>\n",
       "      <th>995</th>\n",
       "      <td>-0.125208</td>\n",
       "      <td>True</td>\n",
       "      <td>3.512492</td>\n",
       "      <td>0.414939</td>\n",
       "      <td>2.409992</td>\n",
       "    </tr>\n",
       "    <tr>\n",
       "      <th>996</th>\n",
       "      <td>-0.516882</td>\n",
       "      <td>True</td>\n",
       "      <td>5.383006</td>\n",
       "      <td>0.242754</td>\n",
       "      <td>4.119399</td>\n",
       "    </tr>\n",
       "    <tr>\n",
       "      <th>997</th>\n",
       "      <td>0.905618</td>\n",
       "      <td>True</td>\n",
       "      <td>7.669205</td>\n",
       "      <td>0.851479</td>\n",
       "      <td>1.174427</td>\n",
       "    </tr>\n",
       "    <tr>\n",
       "      <th>998</th>\n",
       "      <td>0.062992</td>\n",
       "      <td>True</td>\n",
       "      <td>4.995484</td>\n",
       "      <td>0.509489</td>\n",
       "      <td>1.962751</td>\n",
       "    </tr>\n",
       "    <tr>\n",
       "      <th>999</th>\n",
       "      <td>-0.424524</td>\n",
       "      <td>True</td>\n",
       "      <td>3.977952</td>\n",
       "      <td>0.278804</td>\n",
       "      <td>3.586745</td>\n",
       "    </tr>\n",
       "  </tbody>\n",
       "</table>\n",
       "<p>1000 rows × 5 columns</p>\n",
       "</div>"
      ],
      "text/plain": [
       "           W0    v0         y  propensity_score    weight\n",
       "0    0.672030  True  6.950790          0.781203  1.280078\n",
       "1    0.620747  True  5.921371          0.762914  1.310764\n",
       "2    1.314965  True  8.360049          0.929310  1.076067\n",
       "3    0.555532  True  5.460180          0.738176  1.354691\n",
       "4    0.923700  True  7.175198          0.856056  1.168148\n",
       "..        ...   ...       ...               ...       ...\n",
       "995 -0.125208  True  3.512492          0.414939  2.409992\n",
       "996 -0.516882  True  5.383006          0.242754  4.119399\n",
       "997  0.905618  True  7.669205          0.851479  1.174427\n",
       "998  0.062992  True  4.995484          0.509489  1.962751\n",
       "999 -0.424524  True  3.977952          0.278804  3.586745\n",
       "\n",
       "[1000 rows x 5 columns]"
      ]
     },
     "execution_count": 7,
     "metadata": {},
     "output_type": "execute_result"
    }
   ],
   "source": [
    "cdf_1"
   ]
  },
  {
   "cell_type": "markdown",
   "metadata": {},
   "source": [
    "## Comparing the estimate to Linear Regression\n",
    "First, estimating the effect using the causal data frame, and the 95% confidence interval."
   ]
  },
  {
   "cell_type": "code",
   "execution_count": 8,
   "metadata": {
    "execution": {
     "iopub.execute_input": "2023-11-15T15:07:40.435881Z",
     "iopub.status.busy": "2023-11-15T15:07:40.435612Z",
     "iopub.status.idle": "2023-11-15T15:07:40.482281Z",
     "shell.execute_reply": "2023-11-15T15:07:40.481729Z"
    }
   },
   "outputs": [
    {
     "data": {
      "image/png": "[encoded data removed]",
      "text/latex": [
       "$\\displaystyle 5.12813976783314$"
      ],
      "text/plain": [
       "5.128139767833138"
      ]
     },
     "execution_count": 8,
     "metadata": {},
     "output_type": "execute_result"
    }
   ],
   "source": [
    "(cdf_1['y'] - cdf_0['y']).mean()"
   ]
  },
  {
   "cell_type": "code",
   "execution_count": 9,
   "metadata": {
    "execution": {
     "iopub.execute_input": "2023-11-15T15:07:40.484539Z",
     "iopub.status.busy": "2023-11-15T15:07:40.484209Z",
     "iopub.status.idle": "2023-11-15T15:07:40.500454Z",
     "shell.execute_reply": "2023-11-15T15:07:40.499970Z"
    }
   },
   "outputs": [
    {
     "data": {
      "image/png": "[encoded data removed]",
      "text/latex": [
       "$\\displaystyle 0.142077872430331$"
      ],
      "text/plain": [
       "0.1420778724303307"
      ]
     },
     "execution_count": 9,
     "metadata": {},
     "output_type": "execute_result"
    }
   ],
   "source": [
    "1.96*(cdf_1['y'] - cdf_0['y']).std() / np.sqrt(len(df))"
   ]
  },
  {
   "cell_type": "markdown",
   "metadata": {},
   "source": [
    "Comparing to the estimate from OLS."
   ]
  },
  {
   "cell_type": "code",
   "execution_count": 10,
   "metadata": {
    "execution": {
     "iopub.execute_input": "2023-11-15T15:07:40.502616Z",
     "iopub.status.busy": "2023-11-15T15:07:40.502181Z",
     "iopub.status.idle": "2023-11-15T15:07:40.518403Z",
     "shell.execute_reply": "2023-11-15T15:07:40.517834Z"
    }
   },
   "outputs": [
    {
     "data": {
      "text/html": [
       "<table class=\"simpletable\">\n",
       "<caption>OLS Regression Results</caption>\n",
       "<tr>\n",
       "  <th>Dep. Variable:</th>            <td>y</td>        <th>  R-squared (uncentered):</th>      <td>   0.953</td> \n",
       "</tr>\n",
       "<tr>\n",
       "  <th>Model:</th>                   <td>OLS</td>       <th>  Adj. R-squared (uncentered):</th> <td>   0.953</td> \n",
       "</tr>\n",
       "<tr>\n",
       "  <th>Method:</th>             <td>Least Squares</td>  <th>  F-statistic:       </th>          <td>1.008e+04</td>\n",
       "</tr>\n",
       "<tr>\n",
       "  <th>Date:</th>             <td>Wed, 15 Nov 2023</td> <th>  Prob (F-statistic):</th>           <td>  0.00</td>  \n",
       "</tr>\n",
       "<tr>\n",
       "  <th>Time:</th>                 <td>15:07:40</td>     <th>  Log-Likelihood:    </th>          <td> -1388.8</td> \n",
       "</tr>\n",
       "<tr>\n",
       "  <th>No. Observations:</th>      <td>  1000</td>      <th>  AIC:               </th>          <td>   2782.</td> \n",
       "</tr>\n",
       "<tr>\n",
       "  <th>Df Residuals:</th>          <td>   998</td>      <th>  BIC:               </th>          <td>   2791.</td> \n",
       "</tr>\n",
       "<tr>\n",
       "  <th>Df Model:</th>              <td>     2</td>      <th>                     </th>              <td> </td>    \n",
       "</tr>\n",
       "<tr>\n",
       "  <th>Covariance Type:</th>      <td>nonrobust</td>    <th>                     </th>              <td> </td>    \n",
       "</tr>\n",
       "</table>\n",
       "<table class=\"simpletable\">\n",
       "<tr>\n",
       "   <td></td>     <th>coef</th>     <th>std err</th>      <th>t</th>      <th>P>|t|</th>  <th>[0.025</th>    <th>0.975]</th>  \n",
       "</tr>\n",
       "<tr>\n",
       "  <th>x1</th> <td>    1.3531</td> <td>    0.034</td> <td>   39.939</td> <td> 0.000</td> <td>    1.287</td> <td>    1.420</td>\n",
       "</tr>\n",
       "<tr>\n",
       "  <th>x2</th> <td>    4.9567</td> <td>    0.049</td> <td>  101.319</td> <td> 0.000</td> <td>    4.861</td> <td>    5.053</td>\n",
       "</tr>\n",
       "</table>\n",
       "<table class=\"simpletable\">\n",
       "<tr>\n",
       "  <th>Omnibus:</th>       <td> 3.395</td> <th>  Durbin-Watson:     </th> <td>   2.019</td>\n",
       "</tr>\n",
       "<tr>\n",
       "  <th>Prob(Omnibus):</th> <td> 0.183</td> <th>  Jarque-Bera (JB):  </th> <td>   3.377</td>\n",
       "</tr>\n",
       "<tr>\n",
       "  <th>Skew:</th>          <td> 0.095</td> <th>  Prob(JB):          </th> <td>   0.185</td>\n",
       "</tr>\n",
       "<tr>\n",
       "  <th>Kurtosis:</th>      <td> 3.212</td> <th>  Cond. No.          </th> <td>    1.90</td>\n",
       "</tr>\n",
       "</table><br/><br/>Notes:<br/>[1] R² is computed without centering (uncentered) since the model does not contain a constant.<br/>[2] Standard Errors assume that the covariance matrix of the errors is correctly specified."
      ],
      "text/latex": [
       "\\begin{center}\n",
       "\\begin{tabular}{lclc}\n",
       "\\toprule\n",
       "\\textbf{Dep. Variable:}    &        y         & \\textbf{  R-squared (uncentered):}      &     0.953   \\\\\n",
       "\\textbf{Model:}            &       OLS        & \\textbf{  Adj. R-squared (uncentered):} &     0.953   \\\\\n",
       "\\textbf{Method:}           &  Least Squares   & \\textbf{  F-statistic:       }          & 1.008e+04   \\\\\n",
       "\\textbf{Date:}             & Wed, 15 Nov 2023 & \\textbf{  Prob (F-statistic):}          &     0.00    \\\\\n",
       "\\textbf{Time:}             &     15:07:40     & \\textbf{  Log-Likelihood:    }          &   -1388.8   \\\\\n",
       "\\textbf{No. Observations:} &        1000      & \\textbf{  AIC:               }          &     2782.   \\\\\n",
       "\\textbf{Df Residuals:}     &         998      & \\textbf{  BIC:               }          &     2791.   \\\\\n",
       "\\textbf{Df Model:}         &           2      & \\textbf{                     }          &             \\\\\n",
       "\\textbf{Covariance Type:}  &    nonrobust     & \\textbf{                     }          &             \\\\\n",
       "\\bottomrule\n",
       "\\end{tabular}\n",
       "\\begin{tabular}{lcccccc}\n",
       "            & \\textbf{coef} & \\textbf{std err} & \\textbf{t} & \\textbf{P$> |$t$|$} & \\textbf{[0.025} & \\textbf{0.975]}  \\\\\n",
       "\\midrule\n",
       "\\textbf{x1} &       1.3531  &        0.034     &    39.939  &         0.000        &        1.287    &        1.420     \\\\\n",
       "\\textbf{x2} &       4.9567  &        0.049     &   101.319  &         0.000        &        4.861    &        5.053     \\\\\n",
       "\\bottomrule\n",
       "\\end{tabular}\n",
       "\\begin{tabular}{lclc}\n",
       "\\textbf{Omnibus:}       &  3.395 & \\textbf{  Durbin-Watson:     } &    2.019  \\\\\n",
       "\\textbf{Prob(Omnibus):} &  0.183 & \\textbf{  Jarque-Bera (JB):  } &    3.377  \\\\\n",
       "\\textbf{Skew:}          &  0.095 & \\textbf{  Prob(JB):          } &    0.185  \\\\\n",
       "\\textbf{Kurtosis:}      &  3.212 & \\textbf{  Cond. No.          } &     1.90  \\\\\n",
       "\\bottomrule\n",
       "\\end{tabular}\n",
       "%\\caption{OLS Regression Results}\n",
       "\\end{center}\n",
       "\n",
       "Notes: \\newline\n",
       " [1] R² is computed without centering (uncentered) since the model does not contain a constant. \\newline\n",
       " [2] Standard Errors assume that the covariance matrix of the errors is correctly specified."
      ],
      "text/plain": [
       "<class 'statsmodels.iolib.summary.Summary'>\n",
       "\"\"\"\n",
       "                                 OLS Regression Results                                \n",
       "=======================================================================================\n",
       "Dep. Variable:                      y   R-squared (uncentered):                   0.953\n",
       "Model:                            OLS   Adj. R-squared (uncentered):              0.953\n",
       "Method:                 Least Squares   F-statistic:                          1.008e+04\n",
       "Date:                Wed, 15 Nov 2023   Prob (F-statistic):                        0.00\n",
       "Time:                        15:07:40   Log-Likelihood:                         -1388.8\n",
       "No. Observations:                1000   AIC:                                      2782.\n",
       "Df Residuals:                     998   BIC:                                      2791.\n",
       "Df Model:                           2                                                  \n",
       "Covariance Type:            nonrobust                                                  \n",
       "==============================================================================\n",
       "                 coef    std err          t      P>|t|      [0.025      0.975]\n",
       "------------------------------------------------------------------------------\n",
       "x1             1.3531      0.034     39.939      0.000       1.287       1.420\n",
       "x2             4.9567      0.049    101.319      0.000       4.861       5.053\n",
       "==============================================================================\n",
       "Omnibus:                        3.395   Durbin-Watson:                   2.019\n",
       "Prob(Omnibus):                  0.183   Jarque-Bera (JB):                3.377\n",
       "Skew:                           0.095   Prob(JB):                        0.185\n",
       "Kurtosis:                       3.212   Cond. No.                         1.90\n",
       "==============================================================================\n",
       "\n",
       "Notes:\n",
       "[1] R² is computed without centering (uncentered) since the model does not contain a constant.\n",
       "[2] Standard Errors assume that the covariance matrix of the errors is correctly specified.\n",
       "\"\"\""
      ]
     },
     "execution_count": 10,
     "metadata": {},
     "output_type": "execute_result"
    }
   ],
   "source": [
    "model = OLS(np.asarray(df[outcome]), np.asarray(df[[common_cause, treatment]], dtype=np.float64))\n",
    "result = model.fit()\n",
    "result.summary()"
   ]
  }
 ],
 "metadata": {
  "kernelspec": {
   "display_name": "Python 3",
   "language": "python",
   "name": "python3"
  },
  "language_info": {
   "codemirror_mode": {
    "name": "ipython",
    "version": 3
   },
   "file_extension": ".py",
   "mimetype": "text/x-python",
   "name": "python",
   "nbconvert_exporter": "python",
   "pygments_lexer": "ipython3",
   "version": "3.8.10"
  },
  "toc": {
   "base_numbering": 1,
   "nav_menu": {},
   "number_sections": false,
   "sideBar": true,
   "skip_h1_title": true,
   "title_cell": "Table of Contents",
   "title_sidebar": "Contents",
   "toc_cell": false,
   "toc_position": {},
   "toc_section_display": true,
   "toc_window_display": false
  }
 },
 "nbformat": 4,
 "nbformat_minor": 4
}
