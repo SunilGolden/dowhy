{
 "cells": [
  {
   "cell_type": "markdown",
   "metadata": {},
   "source": [
    "# Demo for the DoWhy causal API\n",
    "We show a simple example of adding a causal extension to any dataframe. "
   ]
  },
  {
   "cell_type": "code",
   "execution_count": 1,
   "metadata": {
    "execution": {
     "iopub.execute_input": "2023-03-14T17:04:29.289405Z",
     "iopub.status.busy": "2023-03-14T17:04:29.288928Z",
     "iopub.status.idle": "2023-03-14T17:04:30.979300Z",
     "shell.execute_reply": "2023-03-14T17:04:30.978574Z"
    }
   },
   "outputs": [],
   "source": [
    "import dowhy.datasets\n",
    "import dowhy.api\n",
    "\n",
    "import numpy as np\n",
    "import pandas as pd\n",
    "\n",
    "from statsmodels.api import OLS"
   ]
  },
  {
   "cell_type": "code",
   "execution_count": 2,
   "metadata": {
    "execution": {
     "iopub.execute_input": "2023-03-14T17:04:30.983503Z",
     "iopub.status.busy": "2023-03-14T17:04:30.982840Z",
     "iopub.status.idle": "2023-03-14T17:04:31.030357Z",
     "shell.execute_reply": "2023-03-14T17:04:31.029714Z"
    }
   },
   "outputs": [
    {
     "data": {
      "text/html": [
       "<div>\n",
       "<style scoped>\n",
       "    .dataframe tbody tr th:only-of-type {\n",
       "        vertical-align: middle;\n",
       "    }\n",
       "\n",
       "    .dataframe tbody tr th {\n",
       "        vertical-align: top;\n",
       "    }\n",
       "\n",
       "    .dataframe thead th {\n",
       "        text-align: right;\n",
       "    }\n",
       "</style>\n",
       "<table border=\"1\" class=\"dataframe\">\n",
       "  <thead>\n",
       "    <tr style=\"text-align: right;\">\n",
       "      <th></th>\n",
       "      <th>W0</th>\n",
       "      <th>v0</th>\n",
       "      <th>y</th>\n",
       "    </tr>\n",
       "  </thead>\n",
       "  <tbody>\n",
       "    <tr>\n",
       "      <th>0</th>\n",
       "      <td>0.576210</td>\n",
       "      <td>False</td>\n",
       "      <td>2.419845</td>\n",
       "    </tr>\n",
       "    <tr>\n",
       "      <th>1</th>\n",
       "      <td>0.133613</td>\n",
       "      <td>False</td>\n",
       "      <td>-0.119371</td>\n",
       "    </tr>\n",
       "    <tr>\n",
       "      <th>2</th>\n",
       "      <td>0.854064</td>\n",
       "      <td>True</td>\n",
       "      <td>6.609971</td>\n",
       "    </tr>\n",
       "    <tr>\n",
       "      <th>3</th>\n",
       "      <td>-1.189485</td>\n",
       "      <td>False</td>\n",
       "      <td>-1.408508</td>\n",
       "    </tr>\n",
       "    <tr>\n",
       "      <th>4</th>\n",
       "      <td>-1.707458</td>\n",
       "      <td>False</td>\n",
       "      <td>-5.632720</td>\n",
       "    </tr>\n",
       "    <tr>\n",
       "      <th>...</th>\n",
       "      <td>...</td>\n",
       "      <td>...</td>\n",
       "      <td>...</td>\n",
       "    </tr>\n",
       "    <tr>\n",
       "      <th>995</th>\n",
       "      <td>0.036966</td>\n",
       "      <td>True</td>\n",
       "      <td>5.402195</td>\n",
       "    </tr>\n",
       "    <tr>\n",
       "      <th>996</th>\n",
       "      <td>-1.345899</td>\n",
       "      <td>True</td>\n",
       "      <td>2.877538</td>\n",
       "    </tr>\n",
       "    <tr>\n",
       "      <th>997</th>\n",
       "      <td>-1.236671</td>\n",
       "      <td>False</td>\n",
       "      <td>-5.219540</td>\n",
       "    </tr>\n",
       "    <tr>\n",
       "      <th>998</th>\n",
       "      <td>-0.107905</td>\n",
       "      <td>False</td>\n",
       "      <td>-0.451550</td>\n",
       "    </tr>\n",
       "    <tr>\n",
       "      <th>999</th>\n",
       "      <td>-0.295805</td>\n",
       "      <td>False</td>\n",
       "      <td>-1.808884</td>\n",
       "    </tr>\n",
       "  </tbody>\n",
       "</table>\n",
       "<p>1000 rows × 3 columns</p>\n",
       "</div>"
      ],
      "text/plain": [
       "           W0     v0         y\n",
       "0    0.576210  False  2.419845\n",
       "1    0.133613  False -0.119371\n",
       "2    0.854064   True  6.609971\n",
       "3   -1.189485  False -1.408508\n",
       "4   -1.707458  False -5.632720\n",
       "..        ...    ...       ...\n",
       "995  0.036966   True  5.402195\n",
       "996 -1.345899   True  2.877538\n",
       "997 -1.236671  False -5.219540\n",
       "998 -0.107905  False -0.451550\n",
       "999 -0.295805  False -1.808884\n",
       "\n",
       "[1000 rows x 3 columns]"
      ]
     },
     "execution_count": 2,
     "metadata": {},
     "output_type": "execute_result"
    }
   ],
   "source": [
    "data = dowhy.datasets.linear_dataset(beta=5,\n",
    "        num_common_causes=1,\n",
    "        num_instruments = 0,\n",
    "        num_samples=1000,\n",
    "        treatment_is_binary=True)\n",
    "df = data['df']\n",
    "df['y'] = df['y'] + np.random.normal(size=len(df)) # Adding noise to data. Without noise, the variance in Y|X, Z is zero, and mcmc fails.\n",
    "#data['dot_graph'] = 'digraph { v ->y;X0-> v;X0-> y;}'\n",
    "\n",
    "treatment= data[\"treatment_name\"][0]\n",
    "outcome = data[\"outcome_name\"][0]\n",
    "common_cause = data[\"common_causes_names\"][0]\n",
    "df"
   ]
  },
  {
   "cell_type": "code",
   "execution_count": 3,
   "metadata": {
    "execution": {
     "iopub.execute_input": "2023-03-14T17:04:31.033640Z",
     "iopub.status.busy": "2023-03-14T17:04:31.033175Z",
     "iopub.status.idle": "2023-03-14T17:04:31.208034Z",
     "shell.execute_reply": "2023-03-14T17:04:31.207352Z"
    }
   },
   "outputs": [
    {
     "data": {
      "text/plain": [
       "<AxesSubplot: xlabel='v0'>"
      ]
     },
     "execution_count": 3,
     "metadata": {},
     "output_type": "execute_result"
    },
    {
     "data": {
      "image/png": "[encoded data removed]",
      "text/plain": [
       "<Figure size 640x480 with 1 Axes>"
      ]
     },
     "metadata": {},
     "output_type": "display_data"
    }
   ],
   "source": [
    "# data['df'] is just a regular pandas.DataFrame\n",
    "df.causal.do(x=treatment,\n",
    "                     variable_types={treatment: 'b', outcome: 'c', common_cause: 'c'},\n",
    "                     outcome=outcome,\n",
    "                     common_causes=[common_cause],\n",
    "                     proceed_when_unidentifiable=True).groupby(treatment).mean().plot(y=outcome, kind='bar')"
   ]
  },
  {
   "cell_type": "code",
   "execution_count": 4,
   "metadata": {
    "execution": {
     "iopub.execute_input": "2023-03-14T17:04:31.211493Z",
     "iopub.status.busy": "2023-03-14T17:04:31.211004Z",
     "iopub.status.idle": "2023-03-14T17:04:31.452436Z",
     "shell.execute_reply": "2023-03-14T17:04:31.451658Z"
    }
   },
   "outputs": [
    {
     "data": {
      "text/plain": [
       "<AxesSubplot: xlabel='v0'>"
      ]
     },
     "execution_count": 4,
     "metadata": {},
     "output_type": "execute_result"
    },
    {
     "data": {
      "image/png": "[encoded data removed]",
      "text/plain": [
       "<Figure size 640x480 with 1 Axes>"
      ]
     },
     "metadata": {},
     "output_type": "display_data"
    }
   ],
   "source": [
    "df.causal.do(x={treatment: 1}, \n",
    "              variable_types={treatment:'b', outcome: 'c', common_cause: 'c'}, \n",
    "              outcome=outcome,\n",
    "              method='weighting', \n",
    "              common_causes=[common_cause],\n",
    "              proceed_when_unidentifiable=True).groupby(treatment).mean().plot(y=outcome, kind='bar')"
   ]
  },
  {
   "cell_type": "code",
   "execution_count": 5,
   "metadata": {
    "execution": {
     "iopub.execute_input": "2023-03-14T17:04:31.456245Z",
     "iopub.status.busy": "2023-03-14T17:04:31.455828Z",
     "iopub.status.idle": "2023-03-14T17:04:31.489736Z",
     "shell.execute_reply": "2023-03-14T17:04:31.489066Z"
    }
   },
   "outputs": [],
   "source": [
    "cdf_1 = df.causal.do(x={treatment: 1}, \n",
    "              variable_types={treatment: 'b', outcome: 'c', common_cause: 'c'}, \n",
    "              outcome=outcome, \n",
    "              dot_graph=data['dot_graph'],\n",
    "              proceed_when_unidentifiable=True)\n",
    "\n",
    "cdf_0 = df.causal.do(x={treatment: 0}, \n",
    "              variable_types={treatment: 'b', outcome: 'c', common_cause: 'c'}, \n",
    "              outcome=outcome, \n",
    "              dot_graph=data['dot_graph'],\n",
    "              proceed_when_unidentifiable=True)\n"
   ]
  },
  {
   "cell_type": "code",
   "execution_count": 6,
   "metadata": {
    "execution": {
     "iopub.execute_input": "2023-03-14T17:04:31.493684Z",
     "iopub.status.busy": "2023-03-14T17:04:31.493255Z",
     "iopub.status.idle": "2023-03-14T17:04:31.505093Z",
     "shell.execute_reply": "2023-03-14T17:04:31.504466Z"
    },
    "scrolled": true
   },
   "outputs": [
    {
     "data": {
      "text/html": [
       "<div>\n",
       "<style scoped>\n",
       "    .dataframe tbody tr th:only-of-type {\n",
       "        vertical-align: middle;\n",
       "    }\n",
       "\n",
       "    .dataframe tbody tr th {\n",
       "        vertical-align: top;\n",
       "    }\n",
       "\n",
       "    .dataframe thead th {\n",
       "        text-align: right;\n",
       "    }\n",
       "</style>\n",
       "<table border=\"1\" class=\"dataframe\">\n",
       "  <thead>\n",
       "    <tr style=\"text-align: right;\">\n",
       "      <th></th>\n",
       "      <th>W0</th>\n",
       "      <th>v0</th>\n",
       "      <th>y</th>\n",
       "      <th>propensity_score</th>\n",
       "      <th>weight</th>\n",
       "    </tr>\n",
       "  </thead>\n",
       "  <tbody>\n",
       "    <tr>\n",
       "      <th>0</th>\n",
       "      <td>-0.332031</td>\n",
       "      <td>False</td>\n",
       "      <td>-1.187925</td>\n",
       "      <td>0.637270</td>\n",
       "      <td>1.569193</td>\n",
       "    </tr>\n",
       "    <tr>\n",
       "      <th>1</th>\n",
       "      <td>-1.440073</td>\n",
       "      <td>False</td>\n",
       "      <td>-4.109074</td>\n",
       "      <td>0.921201</td>\n",
       "      <td>1.085539</td>\n",
       "    </tr>\n",
       "    <tr>\n",
       "      <th>2</th>\n",
       "      <td>-1.947500</td>\n",
       "      <td>False</td>\n",
       "      <td>-7.338464</td>\n",
       "      <td>0.965334</td>\n",
       "      <td>1.035911</td>\n",
       "    </tr>\n",
       "    <tr>\n",
       "      <th>3</th>\n",
       "      <td>1.016643</td>\n",
       "      <td>False</td>\n",
       "      <td>2.354598</td>\n",
       "      <td>0.148895</td>\n",
       "      <td>6.716134</td>\n",
       "    </tr>\n",
       "    <tr>\n",
       "      <th>4</th>\n",
       "      <td>-0.430571</td>\n",
       "      <td>False</td>\n",
       "      <td>-3.046104</td>\n",
       "      <td>0.675262</td>\n",
       "      <td>1.480906</td>\n",
       "    </tr>\n",
       "    <tr>\n",
       "      <th>...</th>\n",
       "      <td>...</td>\n",
       "      <td>...</td>\n",
       "      <td>...</td>\n",
       "      <td>...</td>\n",
       "      <td>...</td>\n",
       "    </tr>\n",
       "    <tr>\n",
       "      <th>995</th>\n",
       "      <td>-1.212616</td>\n",
       "      <td>False</td>\n",
       "      <td>-3.111947</td>\n",
       "      <td>0.887926</td>\n",
       "      <td>1.126220</td>\n",
       "    </tr>\n",
       "    <tr>\n",
       "      <th>996</th>\n",
       "      <td>0.522923</td>\n",
       "      <td>False</td>\n",
       "      <td>3.026567</td>\n",
       "      <td>0.289295</td>\n",
       "      <td>3.456684</td>\n",
       "    </tr>\n",
       "    <tr>\n",
       "      <th>997</th>\n",
       "      <td>-0.095121</td>\n",
       "      <td>False</td>\n",
       "      <td>-0.788702</td>\n",
       "      <td>0.539497</td>\n",
       "      <td>1.853580</td>\n",
       "    </tr>\n",
       "    <tr>\n",
       "      <th>998</th>\n",
       "      <td>0.952222</td>\n",
       "      <td>False</td>\n",
       "      <td>3.525197</td>\n",
       "      <td>0.163405</td>\n",
       "      <td>6.119746</td>\n",
       "    </tr>\n",
       "    <tr>\n",
       "      <th>999</th>\n",
       "      <td>-0.718458</td>\n",
       "      <td>False</td>\n",
       "      <td>-0.874672</td>\n",
       "      <td>0.772854</td>\n",
       "      <td>1.293905</td>\n",
       "    </tr>\n",
       "  </tbody>\n",
       "</table>\n",
       "<p>1000 rows × 5 columns</p>\n",
       "</div>"
      ],
      "text/plain": [
       "           W0     v0         y  propensity_score    weight\n",
       "0   -0.332031  False -1.187925          0.637270  1.569193\n",
       "1   -1.440073  False -4.109074          0.921201  1.085539\n",
       "2   -1.947500  False -7.338464          0.965334  1.035911\n",
       "3    1.016643  False  2.354598          0.148895  6.716134\n",
       "4   -0.430571  False -3.046104          0.675262  1.480906\n",
       "..        ...    ...       ...               ...       ...\n",
       "995 -1.212616  False -3.111947          0.887926  1.126220\n",
       "996  0.522923  False  3.026567          0.289295  3.456684\n",
       "997 -0.095121  False -0.788702          0.539497  1.853580\n",
       "998  0.952222  False  3.525197          0.163405  6.119746\n",
       "999 -0.718458  False -0.874672          0.772854  1.293905\n",
       "\n",
       "[1000 rows x 5 columns]"
      ]
     },
     "execution_count": 6,
     "metadata": {},
     "output_type": "execute_result"
    }
   ],
   "source": [
    "cdf_0"
   ]
  },
  {
   "cell_type": "code",
   "execution_count": 7,
   "metadata": {
    "execution": {
     "iopub.execute_input": "2023-03-14T17:04:31.508350Z",
     "iopub.status.busy": "2023-03-14T17:04:31.507855Z",
     "iopub.status.idle": "2023-03-14T17:04:31.520497Z",
     "shell.execute_reply": "2023-03-14T17:04:31.519638Z"
    }
   },
   "outputs": [
    {
     "data": {
      "text/html": [
       "<div>\n",
       "<style scoped>\n",
       "    .dataframe tbody tr th:only-of-type {\n",
       "        vertical-align: middle;\n",
       "    }\n",
       "\n",
       "    .dataframe tbody tr th {\n",
       "        vertical-align: top;\n",
       "    }\n",
       "\n",
       "    .dataframe thead th {\n",
       "        text-align: right;\n",
       "    }\n",
       "</style>\n",
       "<table border=\"1\" class=\"dataframe\">\n",
       "  <thead>\n",
       "    <tr style=\"text-align: right;\">\n",
       "      <th></th>\n",
       "      <th>W0</th>\n",
       "      <th>v0</th>\n",
       "      <th>y</th>\n",
       "      <th>propensity_score</th>\n",
       "      <th>weight</th>\n",
       "    </tr>\n",
       "  </thead>\n",
       "  <tbody>\n",
       "    <tr>\n",
       "      <th>0</th>\n",
       "      <td>-1.308809</td>\n",
       "      <td>True</td>\n",
       "      <td>2.045846</td>\n",
       "      <td>0.096716</td>\n",
       "      <td>10.339564</td>\n",
       "    </tr>\n",
       "    <tr>\n",
       "      <th>1</th>\n",
       "      <td>1.076753</td>\n",
       "      <td>True</td>\n",
       "      <td>7.648613</td>\n",
       "      <td>0.863669</td>\n",
       "      <td>1.157851</td>\n",
       "    </tr>\n",
       "    <tr>\n",
       "      <th>2</th>\n",
       "      <td>0.195572</td>\n",
       "      <td>True</td>\n",
       "      <td>5.957500</td>\n",
       "      <td>0.583923</td>\n",
       "      <td>1.712556</td>\n",
       "    </tr>\n",
       "    <tr>\n",
       "      <th>3</th>\n",
       "      <td>0.619369</td>\n",
       "      <td>True</td>\n",
       "      <td>5.917144</td>\n",
       "      <td>0.743412</td>\n",
       "      <td>1.345149</td>\n",
       "    </tr>\n",
       "    <tr>\n",
       "      <th>4</th>\n",
       "      <td>0.865930</td>\n",
       "      <td>True</td>\n",
       "      <td>6.541439</td>\n",
       "      <td>0.815403</td>\n",
       "      <td>1.226388</td>\n",
       "    </tr>\n",
       "    <tr>\n",
       "      <th>...</th>\n",
       "      <td>...</td>\n",
       "      <td>...</td>\n",
       "      <td>...</td>\n",
       "      <td>...</td>\n",
       "      <td>...</td>\n",
       "    </tr>\n",
       "    <tr>\n",
       "      <th>995</th>\n",
       "      <td>0.663905</td>\n",
       "      <td>True</td>\n",
       "      <td>8.644763</td>\n",
       "      <td>0.757671</td>\n",
       "      <td>1.319834</td>\n",
       "    </tr>\n",
       "    <tr>\n",
       "      <th>996</th>\n",
       "      <td>-0.218632</td>\n",
       "      <td>True</td>\n",
       "      <td>6.073562</td>\n",
       "      <td>0.408644</td>\n",
       "      <td>2.447119</td>\n",
       "    </tr>\n",
       "    <tr>\n",
       "      <th>997</th>\n",
       "      <td>0.803091</td>\n",
       "      <td>True</td>\n",
       "      <td>7.263446</td>\n",
       "      <td>0.798673</td>\n",
       "      <td>1.252076</td>\n",
       "    </tr>\n",
       "    <tr>\n",
       "      <th>998</th>\n",
       "      <td>-1.388695</td>\n",
       "      <td>True</td>\n",
       "      <td>2.794118</td>\n",
       "      <td>0.085419</td>\n",
       "      <td>11.707027</td>\n",
       "    </tr>\n",
       "    <tr>\n",
       "      <th>999</th>\n",
       "      <td>-1.453463</td>\n",
       "      <td>True</td>\n",
       "      <td>0.612231</td>\n",
       "      <td>0.077152</td>\n",
       "      <td>12.961368</td>\n",
       "    </tr>\n",
       "  </tbody>\n",
       "</table>\n",
       "<p>1000 rows × 5 columns</p>\n",
       "</div>"
      ],
      "text/plain": [
       "           W0    v0         y  propensity_score     weight\n",
       "0   -1.308809  True  2.045846          0.096716  10.339564\n",
       "1    1.076753  True  7.648613          0.863669   1.157851\n",
       "2    0.195572  True  5.957500          0.583923   1.712556\n",
       "3    0.619369  True  5.917144          0.743412   1.345149\n",
       "4    0.865930  True  6.541439          0.815403   1.226388\n",
       "..        ...   ...       ...               ...        ...\n",
       "995  0.663905  True  8.644763          0.757671   1.319834\n",
       "996 -0.218632  True  6.073562          0.408644   2.447119\n",
       "997  0.803091  True  7.263446          0.798673   1.252076\n",
       "998 -1.388695  True  2.794118          0.085419  11.707027\n",
       "999 -1.453463  True  0.612231          0.077152  12.961368\n",
       "\n",
       "[1000 rows x 5 columns]"
      ]
     },
     "execution_count": 7,
     "metadata": {},
     "output_type": "execute_result"
    }
   ],
   "source": [
    "cdf_1"
   ]
  },
  {
   "cell_type": "markdown",
   "metadata": {},
   "source": [
    "## Comparing the estimate to Linear Regression\n",
    "First, estimating the effect using the causal data frame, and the 95% confidence interval."
   ]
  },
  {
   "cell_type": "code",
   "execution_count": 8,
   "metadata": {
    "execution": {
     "iopub.execute_input": "2023-03-14T17:04:31.523573Z",
     "iopub.status.busy": "2023-03-14T17:04:31.523077Z",
     "iopub.status.idle": "2023-03-14T17:04:31.581523Z",
     "shell.execute_reply": "2023-03-14T17:04:31.580875Z"
    }
   },
   "outputs": [
    {
     "data": {
      "image/png": "[encoded data removed]",
      "text/latex": [
       "$\\displaystyle 4.41511822545104$"
      ],
      "text/plain": [
       "4.415118225451038"
      ]
     },
     "execution_count": 8,
     "metadata": {},
     "output_type": "execute_result"
    }
   ],
   "source": [
    "(cdf_1['y'] - cdf_0['y']).mean()"
   ]
  },
  {
   "cell_type": "code",
   "execution_count": 9,
   "metadata": {
    "execution": {
     "iopub.execute_input": "2023-03-14T17:04:31.584708Z",
     "iopub.status.busy": "2023-03-14T17:04:31.584170Z",
     "iopub.status.idle": "2023-03-14T17:04:31.605824Z",
     "shell.execute_reply": "2023-03-14T17:04:31.605089Z"
    }
   },
   "outputs": [
    {
     "data": {
      "image/png": "[encoded data removed]",
      "text/latex": [
       "$\\displaystyle 0.285313813654376$"
      ],
      "text/plain": [
       "0.28531381365437597"
      ]
     },
     "execution_count": 9,
     "metadata": {},
     "output_type": "execute_result"
    }
   ],
   "source": [
    "1.96*(cdf_1['y'] - cdf_0['y']).std() / np.sqrt(len(df))"
   ]
  },
  {
   "cell_type": "markdown",
   "metadata": {},
   "source": [
    "Comparing to the estimate from OLS."
   ]
  },
  {
   "cell_type": "code",
   "execution_count": 10,
   "metadata": {
    "execution": {
     "iopub.execute_input": "2023-03-14T17:04:31.609132Z",
     "iopub.status.busy": "2023-03-14T17:04:31.608749Z",
     "iopub.status.idle": "2023-03-14T17:04:31.623804Z",
     "shell.execute_reply": "2023-03-14T17:04:31.623141Z"
    }
   },
   "outputs": [
    {
     "data": {
      "text/html": [
       "<table class=\"simpletable\">\n",
       "<caption>OLS Regression Results</caption>\n",
       "<tr>\n",
       "  <th>Dep. Variable:</th>            <td>y</td>        <th>  R-squared (uncentered):</th>      <td>   0.964</td> \n",
       "</tr>\n",
       "<tr>\n",
       "  <th>Model:</th>                   <td>OLS</td>       <th>  Adj. R-squared (uncentered):</th> <td>   0.964</td> \n",
       "</tr>\n",
       "<tr>\n",
       "  <th>Method:</th>             <td>Least Squares</td>  <th>  F-statistic:       </th>          <td>1.331e+04</td>\n",
       "</tr>\n",
       "<tr>\n",
       "  <th>Date:</th>             <td>Tue, 14 Mar 2023</td> <th>  Prob (F-statistic):</th>           <td>  0.00</td>  \n",
       "</tr>\n",
       "<tr>\n",
       "  <th>Time:</th>                 <td>17:04:31</td>     <th>  Log-Likelihood:    </th>          <td> -1403.2</td> \n",
       "</tr>\n",
       "<tr>\n",
       "  <th>No. Observations:</th>      <td>  1000</td>      <th>  AIC:               </th>          <td>   2810.</td> \n",
       "</tr>\n",
       "<tr>\n",
       "  <th>Df Residuals:</th>          <td>   998</td>      <th>  BIC:               </th>          <td>   2820.</td> \n",
       "</tr>\n",
       "<tr>\n",
       "  <th>Df Model:</th>              <td>     2</td>      <th>                     </th>              <td> </td>    \n",
       "</tr>\n",
       "<tr>\n",
       "  <th>Covariance Type:</th>      <td>nonrobust</td>    <th>                     </th>              <td> </td>    \n",
       "</tr>\n",
       "</table>\n",
       "<table class=\"simpletable\">\n",
       "<tr>\n",
       "   <td></td>     <th>coef</th>     <th>std err</th>      <th>t</th>      <th>P>|t|</th>  <th>[0.025</th>    <th>0.975]</th>  \n",
       "</tr>\n",
       "<tr>\n",
       "  <th>x1</th> <td>    2.8369</td> <td>    0.033</td> <td>   85.599</td> <td> 0.000</td> <td>    2.772</td> <td>    2.902</td>\n",
       "</tr>\n",
       "<tr>\n",
       "  <th>x2</th> <td>    4.9947</td> <td>    0.048</td> <td>  103.616</td> <td> 0.000</td> <td>    4.900</td> <td>    5.089</td>\n",
       "</tr>\n",
       "</table>\n",
       "<table class=\"simpletable\">\n",
       "<tr>\n",
       "  <th>Omnibus:</th>       <td> 6.623</td> <th>  Durbin-Watson:     </th> <td>   2.037</td>\n",
       "</tr>\n",
       "<tr>\n",
       "  <th>Prob(Omnibus):</th> <td> 0.036</td> <th>  Jarque-Bera (JB):  </th> <td>   8.102</td>\n",
       "</tr>\n",
       "<tr>\n",
       "  <th>Skew:</th>          <td> 0.079</td> <th>  Prob(JB):          </th> <td>  0.0174</td>\n",
       "</tr>\n",
       "<tr>\n",
       "  <th>Kurtosis:</th>      <td> 3.412</td> <th>  Cond. No.          </th> <td>    1.66</td>\n",
       "</tr>\n",
       "</table><br/><br/>Notes:<br/>[1] R² is computed without centering (uncentered) since the model does not contain a constant.<br/>[2] Standard Errors assume that the covariance matrix of the errors is correctly specified."
      ],
      "text/plain": [
       "<class 'statsmodels.iolib.summary.Summary'>\n",
       "\"\"\"\n",
       "                                 OLS Regression Results                                \n",
       "=======================================================================================\n",
       "Dep. Variable:                      y   R-squared (uncentered):                   0.964\n",
       "Model:                            OLS   Adj. R-squared (uncentered):              0.964\n",
       "Method:                 Least Squares   F-statistic:                          1.331e+04\n",
       "Date:                Tue, 14 Mar 2023   Prob (F-statistic):                        0.00\n",
       "Time:                        17:04:31   Log-Likelihood:                         -1403.2\n",
       "No. Observations:                1000   AIC:                                      2810.\n",
       "Df Residuals:                     998   BIC:                                      2820.\n",
       "Df Model:                           2                                                  \n",
       "Covariance Type:            nonrobust                                                  \n",
       "==============================================================================\n",
       "                 coef    std err          t      P>|t|      [0.025      0.975]\n",
       "------------------------------------------------------------------------------\n",
       "x1             2.8369      0.033     85.599      0.000       2.772       2.902\n",
       "x2             4.9947      0.048    103.616      0.000       4.900       5.089\n",
       "==============================================================================\n",
       "Omnibus:                        6.623   Durbin-Watson:                   2.037\n",
       "Prob(Omnibus):                  0.036   Jarque-Bera (JB):                8.102\n",
       "Skew:                           0.079   Prob(JB):                       0.0174\n",
       "Kurtosis:                       3.412   Cond. No.                         1.66\n",
       "==============================================================================\n",
       "\n",
       "Notes:\n",
       "[1] R² is computed without centering (uncentered) since the model does not contain a constant.\n",
       "[2] Standard Errors assume that the covariance matrix of the errors is correctly specified.\n",
       "\"\"\""
      ]
     },
     "execution_count": 10,
     "metadata": {},
     "output_type": "execute_result"
    }
   ],
   "source": [
    "model = OLS(np.asarray(df[outcome]), np.asarray(df[[common_cause, treatment]], dtype=np.float64))\n",
    "result = model.fit()\n",
    "result.summary()"
   ]
  }
 ],
 "metadata": {
  "kernelspec": {
   "display_name": "Python 3",
   "language": "python",
   "name": "python3"
  },
  "language_info": {
   "codemirror_mode": {
    "name": "ipython",
    "version": 3
   },
   "file_extension": ".py",
   "mimetype": "text/x-python",
   "name": "python",
   "nbconvert_exporter": "python",
   "pygments_lexer": "ipython3",
   "version": "3.8.10"
  },
  "toc": {
   "base_numbering": 1,
   "nav_menu": {},
   "number_sections": false,
   "sideBar": true,
   "skip_h1_title": true,
   "title_cell": "Table of Contents",
   "title_sidebar": "Contents",
   "toc_cell": false,
   "toc_position": {},
   "toc_section_display": true,
   "toc_window_display": false
  }
 },
 "nbformat": 4,
 "nbformat_minor": 4
}
