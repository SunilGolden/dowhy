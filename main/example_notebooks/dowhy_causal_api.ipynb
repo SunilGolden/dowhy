{
 "cells": [
  {
   "cell_type": "markdown",
   "metadata": {},
   "source": [
    "# Demo for the DoWhy causal API\n",
    "We show a simple example of adding a causal extension to any dataframe. "
   ]
  },
  {
   "cell_type": "code",
   "execution_count": 1,
   "metadata": {
    "execution": {
     "iopub.execute_input": "2023-06-21T22:32:05.742732Z",
     "iopub.status.busy": "2023-06-21T22:32:05.742509Z",
     "iopub.status.idle": "2023-06-21T22:32:07.297041Z",
     "shell.execute_reply": "2023-06-21T22:32:07.296373Z"
    }
   },
   "outputs": [],
   "source": [
    "import dowhy.datasets\n",
    "import dowhy.api\n",
    "\n",
    "import numpy as np\n",
    "import pandas as pd\n",
    "\n",
    "from statsmodels.api import OLS"
   ]
  },
  {
   "cell_type": "code",
   "execution_count": 2,
   "metadata": {
    "execution": {
     "iopub.execute_input": "2023-06-21T22:32:07.301037Z",
     "iopub.status.busy": "2023-06-21T22:32:07.300330Z",
     "iopub.status.idle": "2023-06-21T22:32:07.343040Z",
     "shell.execute_reply": "2023-06-21T22:32:07.342452Z"
    }
   },
   "outputs": [
    {
     "data": {
      "text/html": [
       "<div>\n",
       "<style scoped>\n",
       "    .dataframe tbody tr th:only-of-type {\n",
       "        vertical-align: middle;\n",
       "    }\n",
       "\n",
       "    .dataframe tbody tr th {\n",
       "        vertical-align: top;\n",
       "    }\n",
       "\n",
       "    .dataframe thead th {\n",
       "        text-align: right;\n",
       "    }\n",
       "</style>\n",
       "<table border=\"1\" class=\"dataframe\">\n",
       "  <thead>\n",
       "    <tr style=\"text-align: right;\">\n",
       "      <th></th>\n",
       "      <th>W0</th>\n",
       "      <th>v0</th>\n",
       "      <th>y</th>\n",
       "    </tr>\n",
       "  </thead>\n",
       "  <tbody>\n",
       "    <tr>\n",
       "      <th>0</th>\n",
       "      <td>-0.233437</td>\n",
       "      <td>True</td>\n",
       "      <td>5.320923</td>\n",
       "    </tr>\n",
       "    <tr>\n",
       "      <th>1</th>\n",
       "      <td>-0.433859</td>\n",
       "      <td>True</td>\n",
       "      <td>5.787497</td>\n",
       "    </tr>\n",
       "    <tr>\n",
       "      <th>2</th>\n",
       "      <td>-1.331633</td>\n",
       "      <td>True</td>\n",
       "      <td>3.795927</td>\n",
       "    </tr>\n",
       "    <tr>\n",
       "      <th>3</th>\n",
       "      <td>0.135155</td>\n",
       "      <td>False</td>\n",
       "      <td>-0.688696</td>\n",
       "    </tr>\n",
       "    <tr>\n",
       "      <th>4</th>\n",
       "      <td>-1.286309</td>\n",
       "      <td>False</td>\n",
       "      <td>-1.053001</td>\n",
       "    </tr>\n",
       "    <tr>\n",
       "      <th>...</th>\n",
       "      <td>...</td>\n",
       "      <td>...</td>\n",
       "      <td>...</td>\n",
       "    </tr>\n",
       "    <tr>\n",
       "      <th>995</th>\n",
       "      <td>0.729581</td>\n",
       "      <td>True</td>\n",
       "      <td>4.374632</td>\n",
       "    </tr>\n",
       "    <tr>\n",
       "      <th>996</th>\n",
       "      <td>1.705962</td>\n",
       "      <td>False</td>\n",
       "      <td>0.994235</td>\n",
       "    </tr>\n",
       "    <tr>\n",
       "      <th>997</th>\n",
       "      <td>0.677094</td>\n",
       "      <td>True</td>\n",
       "      <td>5.065784</td>\n",
       "    </tr>\n",
       "    <tr>\n",
       "      <th>998</th>\n",
       "      <td>0.234507</td>\n",
       "      <td>True</td>\n",
       "      <td>4.440153</td>\n",
       "    </tr>\n",
       "    <tr>\n",
       "      <th>999</th>\n",
       "      <td>-0.349144</td>\n",
       "      <td>False</td>\n",
       "      <td>0.509608</td>\n",
       "    </tr>\n",
       "  </tbody>\n",
       "</table>\n",
       "<p>1000 rows × 3 columns</p>\n",
       "</div>"
      ],
      "text/plain": [
       "           W0     v0         y\n",
       "0   -0.233437   True  5.320923\n",
       "1   -0.433859   True  5.787497\n",
       "2   -1.331633   True  3.795927\n",
       "3    0.135155  False -0.688696\n",
       "4   -1.286309  False -1.053001\n",
       "..        ...    ...       ...\n",
       "995  0.729581   True  4.374632\n",
       "996  1.705962  False  0.994235\n",
       "997  0.677094   True  5.065784\n",
       "998  0.234507   True  4.440153\n",
       "999 -0.349144  False  0.509608\n",
       "\n",
       "[1000 rows x 3 columns]"
      ]
     },
     "execution_count": 2,
     "metadata": {},
     "output_type": "execute_result"
    }
   ],
   "source": [
    "data = dowhy.datasets.linear_dataset(beta=5,\n",
    "        num_common_causes=1,\n",
    "        num_instruments = 0,\n",
    "        num_samples=1000,\n",
    "        treatment_is_binary=True)\n",
    "df = data['df']\n",
    "df['y'] = df['y'] + np.random.normal(size=len(df)) # Adding noise to data. Without noise, the variance in Y|X, Z is zero, and mcmc fails.\n",
    "#data['dot_graph'] = 'digraph { v ->y;X0-> v;X0-> y;}'\n",
    "\n",
    "treatment= data[\"treatment_name\"][0]\n",
    "outcome = data[\"outcome_name\"][0]\n",
    "common_cause = data[\"common_causes_names\"][0]\n",
    "df"
   ]
  },
  {
   "cell_type": "code",
   "execution_count": 3,
   "metadata": {
    "execution": {
     "iopub.execute_input": "2023-06-21T22:32:07.346043Z",
     "iopub.status.busy": "2023-06-21T22:32:07.345468Z",
     "iopub.status.idle": "2023-06-21T22:32:07.499731Z",
     "shell.execute_reply": "2023-06-21T22:32:07.498750Z"
    }
   },
   "outputs": [
    {
     "data": {
      "text/plain": [
       "<Axes: xlabel='v0'>"
      ]
     },
     "execution_count": 3,
     "metadata": {},
     "output_type": "execute_result"
    },
    {
     "data": {
      "image/png": "[encoded data removed]",
      "text/plain": [
       "<Figure size 640x480 with 1 Axes>"
      ]
     },
     "metadata": {},
     "output_type": "display_data"
    }
   ],
   "source": [
    "# data['df'] is just a regular pandas.DataFrame\n",
    "df.causal.do(x=treatment,\n",
    "                     variable_types={treatment: 'b', outcome: 'c', common_cause: 'c'},\n",
    "                     outcome=outcome,\n",
    "                     common_causes=[common_cause],\n",
    "                     proceed_when_unidentifiable=True).groupby(treatment).mean().plot(y=outcome, kind='bar')"
   ]
  },
  {
   "cell_type": "code",
   "execution_count": 4,
   "metadata": {
    "execution": {
     "iopub.execute_input": "2023-06-21T22:32:07.502612Z",
     "iopub.status.busy": "2023-06-21T22:32:07.502188Z",
     "iopub.status.idle": "2023-06-21T22:32:07.626869Z",
     "shell.execute_reply": "2023-06-21T22:32:07.626334Z"
    }
   },
   "outputs": [
    {
     "data": {
      "text/plain": [
       "<Axes: xlabel='v0'>"
      ]
     },
     "execution_count": 4,
     "metadata": {},
     "output_type": "execute_result"
    },
    {
     "data": {
      "image/png": "[encoded data removed]",
      "text/plain": [
       "<Figure size 640x480 with 1 Axes>"
      ]
     },
     "metadata": {},
     "output_type": "display_data"
    }
   ],
   "source": [
    "df.causal.do(x={treatment: 1}, \n",
    "              variable_types={treatment:'b', outcome: 'c', common_cause: 'c'}, \n",
    "              outcome=outcome,\n",
    "              method='weighting', \n",
    "              common_causes=[common_cause],\n",
    "              proceed_when_unidentifiable=True).groupby(treatment).mean().plot(y=outcome, kind='bar')"
   ]
  },
  {
   "cell_type": "code",
   "execution_count": 5,
   "metadata": {
    "execution": {
     "iopub.execute_input": "2023-06-21T22:32:07.629913Z",
     "iopub.status.busy": "2023-06-21T22:32:07.629265Z",
     "iopub.status.idle": "2023-06-21T22:32:07.655784Z",
     "shell.execute_reply": "2023-06-21T22:32:07.655184Z"
    }
   },
   "outputs": [],
   "source": [
    "cdf_1 = df.causal.do(x={treatment: 1}, \n",
    "              variable_types={treatment: 'b', outcome: 'c', common_cause: 'c'}, \n",
    "              outcome=outcome, \n",
    "              dot_graph=data['dot_graph'],\n",
    "              proceed_when_unidentifiable=True)\n",
    "\n",
    "cdf_0 = df.causal.do(x={treatment: 0}, \n",
    "              variable_types={treatment: 'b', outcome: 'c', common_cause: 'c'}, \n",
    "              outcome=outcome, \n",
    "              dot_graph=data['dot_graph'],\n",
    "              proceed_when_unidentifiable=True)\n"
   ]
  },
  {
   "cell_type": "code",
   "execution_count": 6,
   "metadata": {
    "execution": {
     "iopub.execute_input": "2023-06-21T22:32:07.658742Z",
     "iopub.status.busy": "2023-06-21T22:32:07.658248Z",
     "iopub.status.idle": "2023-06-21T22:32:07.668362Z",
     "shell.execute_reply": "2023-06-21T22:32:07.667777Z"
    },
    "scrolled": true
   },
   "outputs": [
    {
     "data": {
      "text/html": [
       "<div>\n",
       "<style scoped>\n",
       "    .dataframe tbody tr th:only-of-type {\n",
       "        vertical-align: middle;\n",
       "    }\n",
       "\n",
       "    .dataframe tbody tr th {\n",
       "        vertical-align: top;\n",
       "    }\n",
       "\n",
       "    .dataframe thead th {\n",
       "        text-align: right;\n",
       "    }\n",
       "</style>\n",
       "<table border=\"1\" class=\"dataframe\">\n",
       "  <thead>\n",
       "    <tr style=\"text-align: right;\">\n",
       "      <th></th>\n",
       "      <th>W0</th>\n",
       "      <th>v0</th>\n",
       "      <th>y</th>\n",
       "      <th>propensity_score</th>\n",
       "      <th>weight</th>\n",
       "    </tr>\n",
       "  </thead>\n",
       "  <tbody>\n",
       "    <tr>\n",
       "      <th>0</th>\n",
       "      <td>0.236803</td>\n",
       "      <td>False</td>\n",
       "      <td>1.626469</td>\n",
       "      <td>0.461295</td>\n",
       "      <td>2.167808</td>\n",
       "    </tr>\n",
       "    <tr>\n",
       "      <th>1</th>\n",
       "      <td>0.393353</td>\n",
       "      <td>False</td>\n",
       "      <td>0.489139</td>\n",
       "      <td>0.443223</td>\n",
       "      <td>2.256200</td>\n",
       "    </tr>\n",
       "    <tr>\n",
       "      <th>2</th>\n",
       "      <td>0.982137</td>\n",
       "      <td>False</td>\n",
       "      <td>-1.005355</td>\n",
       "      <td>0.376952</td>\n",
       "      <td>2.652854</td>\n",
       "    </tr>\n",
       "    <tr>\n",
       "      <th>3</th>\n",
       "      <td>-1.128249</td>\n",
       "      <td>False</td>\n",
       "      <td>-1.115056</td>\n",
       "      <td>0.618002</td>\n",
       "      <td>1.618118</td>\n",
       "    </tr>\n",
       "    <tr>\n",
       "      <th>4</th>\n",
       "      <td>-1.486500</td>\n",
       "      <td>False</td>\n",
       "      <td>-0.921089</td>\n",
       "      <td>0.656570</td>\n",
       "      <td>1.523067</td>\n",
       "    </tr>\n",
       "    <tr>\n",
       "      <th>...</th>\n",
       "      <td>...</td>\n",
       "      <td>...</td>\n",
       "      <td>...</td>\n",
       "      <td>...</td>\n",
       "      <td>...</td>\n",
       "    </tr>\n",
       "    <tr>\n",
       "      <th>995</th>\n",
       "      <td>1.705962</td>\n",
       "      <td>False</td>\n",
       "      <td>0.994235</td>\n",
       "      <td>0.301565</td>\n",
       "      <td>3.316029</td>\n",
       "    </tr>\n",
       "    <tr>\n",
       "      <th>996</th>\n",
       "      <td>1.164398</td>\n",
       "      <td>False</td>\n",
       "      <td>0.610607</td>\n",
       "      <td>0.357220</td>\n",
       "      <td>2.799393</td>\n",
       "    </tr>\n",
       "    <tr>\n",
       "      <th>997</th>\n",
       "      <td>-0.107591</td>\n",
       "      <td>False</td>\n",
       "      <td>-2.534468</td>\n",
       "      <td>0.501345</td>\n",
       "      <td>1.994633</td>\n",
       "    </tr>\n",
       "    <tr>\n",
       "      <th>998</th>\n",
       "      <td>0.031069</td>\n",
       "      <td>False</td>\n",
       "      <td>0.989869</td>\n",
       "      <td>0.485194</td>\n",
       "      <td>2.061033</td>\n",
       "    </tr>\n",
       "    <tr>\n",
       "      <th>999</th>\n",
       "      <td>-1.124535</td>\n",
       "      <td>False</td>\n",
       "      <td>-0.986997</td>\n",
       "      <td>0.617593</td>\n",
       "      <td>1.619189</td>\n",
       "    </tr>\n",
       "  </tbody>\n",
       "</table>\n",
       "<p>1000 rows × 5 columns</p>\n",
       "</div>"
      ],
      "text/plain": [
       "           W0     v0         y  propensity_score    weight\n",
       "0    0.236803  False  1.626469          0.461295  2.167808\n",
       "1    0.393353  False  0.489139          0.443223  2.256200\n",
       "2    0.982137  False -1.005355          0.376952  2.652854\n",
       "3   -1.128249  False -1.115056          0.618002  1.618118\n",
       "4   -1.486500  False -0.921089          0.656570  1.523067\n",
       "..        ...    ...       ...               ...       ...\n",
       "995  1.705962  False  0.994235          0.301565  3.316029\n",
       "996  1.164398  False  0.610607          0.357220  2.799393\n",
       "997 -0.107591  False -2.534468          0.501345  1.994633\n",
       "998  0.031069  False  0.989869          0.485194  2.061033\n",
       "999 -1.124535  False -0.986997          0.617593  1.619189\n",
       "\n",
       "[1000 rows x 5 columns]"
      ]
     },
     "execution_count": 6,
     "metadata": {},
     "output_type": "execute_result"
    }
   ],
   "source": [
    "cdf_0"
   ]
  },
  {
   "cell_type": "code",
   "execution_count": 7,
   "metadata": {
    "execution": {
     "iopub.execute_input": "2023-06-21T22:32:07.671767Z",
     "iopub.status.busy": "2023-06-21T22:32:07.671443Z",
     "iopub.status.idle": "2023-06-21T22:32:07.683289Z",
     "shell.execute_reply": "2023-06-21T22:32:07.682739Z"
    }
   },
   "outputs": [
    {
     "data": {
      "text/html": [
       "<div>\n",
       "<style scoped>\n",
       "    .dataframe tbody tr th:only-of-type {\n",
       "        vertical-align: middle;\n",
       "    }\n",
       "\n",
       "    .dataframe tbody tr th {\n",
       "        vertical-align: top;\n",
       "    }\n",
       "\n",
       "    .dataframe thead th {\n",
       "        text-align: right;\n",
       "    }\n",
       "</style>\n",
       "<table border=\"1\" class=\"dataframe\">\n",
       "  <thead>\n",
       "    <tr style=\"text-align: right;\">\n",
       "      <th></th>\n",
       "      <th>W0</th>\n",
       "      <th>v0</th>\n",
       "      <th>y</th>\n",
       "      <th>propensity_score</th>\n",
       "      <th>weight</th>\n",
       "    </tr>\n",
       "  </thead>\n",
       "  <tbody>\n",
       "    <tr>\n",
       "      <th>0</th>\n",
       "      <td>-1.236984</td>\n",
       "      <td>True</td>\n",
       "      <td>5.098221</td>\n",
       "      <td>0.370108</td>\n",
       "      <td>2.701915</td>\n",
       "    </tr>\n",
       "    <tr>\n",
       "      <th>1</th>\n",
       "      <td>-1.391304</td>\n",
       "      <td>True</td>\n",
       "      <td>4.713027</td>\n",
       "      <td>0.353503</td>\n",
       "      <td>2.828831</td>\n",
       "    </tr>\n",
       "    <tr>\n",
       "      <th>2</th>\n",
       "      <td>1.690668</td>\n",
       "      <td>True</td>\n",
       "      <td>5.486936</td>\n",
       "      <td>0.696931</td>\n",
       "      <td>1.434862</td>\n",
       "    </tr>\n",
       "    <tr>\n",
       "      <th>3</th>\n",
       "      <td>-1.467350</td>\n",
       "      <td>True</td>\n",
       "      <td>5.762454</td>\n",
       "      <td>0.345446</td>\n",
       "      <td>2.894812</td>\n",
       "    </tr>\n",
       "    <tr>\n",
       "      <th>4</th>\n",
       "      <td>0.743273</td>\n",
       "      <td>True</td>\n",
       "      <td>7.563717</td>\n",
       "      <td>0.596566</td>\n",
       "      <td>1.676260</td>\n",
       "    </tr>\n",
       "    <tr>\n",
       "      <th>...</th>\n",
       "      <td>...</td>\n",
       "      <td>...</td>\n",
       "      <td>...</td>\n",
       "      <td>...</td>\n",
       "      <td>...</td>\n",
       "    </tr>\n",
       "    <tr>\n",
       "      <th>995</th>\n",
       "      <td>0.934239</td>\n",
       "      <td>True</td>\n",
       "      <td>4.530152</td>\n",
       "      <td>0.617790</td>\n",
       "      <td>1.618672</td>\n",
       "    </tr>\n",
       "    <tr>\n",
       "      <th>996</th>\n",
       "      <td>0.737230</td>\n",
       "      <td>True</td>\n",
       "      <td>5.703776</td>\n",
       "      <td>0.595888</td>\n",
       "      <td>1.678168</td>\n",
       "    </tr>\n",
       "    <tr>\n",
       "      <th>997</th>\n",
       "      <td>-0.197850</td>\n",
       "      <td>True</td>\n",
       "      <td>5.484465</td>\n",
       "      <td>0.488140</td>\n",
       "      <td>2.048592</td>\n",
       "    </tr>\n",
       "    <tr>\n",
       "      <th>998</th>\n",
       "      <td>0.163546</td>\n",
       "      <td>True</td>\n",
       "      <td>5.791961</td>\n",
       "      <td>0.530210</td>\n",
       "      <td>1.886046</td>\n",
       "    </tr>\n",
       "    <tr>\n",
       "      <th>999</th>\n",
       "      <td>1.066018</td>\n",
       "      <td>True</td>\n",
       "      <td>4.108220</td>\n",
       "      <td>0.632184</td>\n",
       "      <td>1.581818</td>\n",
       "    </tr>\n",
       "  </tbody>\n",
       "</table>\n",
       "<p>1000 rows × 5 columns</p>\n",
       "</div>"
      ],
      "text/plain": [
       "           W0    v0         y  propensity_score    weight\n",
       "0   -1.236984  True  5.098221          0.370108  2.701915\n",
       "1   -1.391304  True  4.713027          0.353503  2.828831\n",
       "2    1.690668  True  5.486936          0.696931  1.434862\n",
       "3   -1.467350  True  5.762454          0.345446  2.894812\n",
       "4    0.743273  True  7.563717          0.596566  1.676260\n",
       "..        ...   ...       ...               ...       ...\n",
       "995  0.934239  True  4.530152          0.617790  1.618672\n",
       "996  0.737230  True  5.703776          0.595888  1.678168\n",
       "997 -0.197850  True  5.484465          0.488140  2.048592\n",
       "998  0.163546  True  5.791961          0.530210  1.886046\n",
       "999  1.066018  True  4.108220          0.632184  1.581818\n",
       "\n",
       "[1000 rows x 5 columns]"
      ]
     },
     "execution_count": 7,
     "metadata": {},
     "output_type": "execute_result"
    }
   ],
   "source": [
    "cdf_1"
   ]
  },
  {
   "cell_type": "markdown",
   "metadata": {},
   "source": [
    "## Comparing the estimate to Linear Regression\n",
    "First, estimating the effect using the causal data frame, and the 95% confidence interval."
   ]
  },
  {
   "cell_type": "code",
   "execution_count": 8,
   "metadata": {
    "execution": {
     "iopub.execute_input": "2023-06-21T22:32:07.685867Z",
     "iopub.status.busy": "2023-06-21T22:32:07.685542Z",
     "iopub.status.idle": "2023-06-21T22:32:07.744436Z",
     "shell.execute_reply": "2023-06-21T22:32:07.743841Z"
    }
   },
   "outputs": [
    {
     "data": {
      "image/png": "[encoded data removed]",
      "text/latex": [
       "$\\displaystyle 5.01492898376392$"
      ],
      "text/plain": [
       "5.014928983763922"
      ]
     },
     "execution_count": 8,
     "metadata": {},
     "output_type": "execute_result"
    }
   ],
   "source": [
    "(cdf_1['y'] - cdf_0['y']).mean()"
   ]
  },
  {
   "cell_type": "code",
   "execution_count": 9,
   "metadata": {
    "execution": {
     "iopub.execute_input": "2023-06-21T22:32:07.747194Z",
     "iopub.status.busy": "2023-06-21T22:32:07.746852Z",
     "iopub.status.idle": "2023-06-21T22:32:07.767878Z",
     "shell.execute_reply": "2023-06-21T22:32:07.767225Z"
    }
   },
   "outputs": [
    {
     "data": {
      "image/png": "[encoded data removed]",
      "text/latex": [
       "$\\displaystyle 0.0894096732583707$"
      ],
      "text/plain": [
       "0.08940967325837065"
      ]
     },
     "execution_count": 9,
     "metadata": {},
     "output_type": "execute_result"
    }
   ],
   "source": [
    "1.96*(cdf_1['y'] - cdf_0['y']).std() / np.sqrt(len(df))"
   ]
  },
  {
   "cell_type": "markdown",
   "metadata": {},
   "source": [
    "Comparing to the estimate from OLS."
   ]
  },
  {
   "cell_type": "code",
   "execution_count": 10,
   "metadata": {
    "execution": {
     "iopub.execute_input": "2023-06-21T22:32:07.770773Z",
     "iopub.status.busy": "2023-06-21T22:32:07.770286Z",
     "iopub.status.idle": "2023-06-21T22:32:07.785088Z",
     "shell.execute_reply": "2023-06-21T22:32:07.784470Z"
    }
   },
   "outputs": [
    {
     "data": {
      "text/html": [
       "<table class=\"simpletable\">\n",
       "<caption>OLS Regression Results</caption>\n",
       "<tr>\n",
       "  <th>Dep. Variable:</th>            <td>y</td>        <th>  R-squared (uncentered):</th>      <td>   0.937</td>\n",
       "</tr>\n",
       "<tr>\n",
       "  <th>Model:</th>                   <td>OLS</td>       <th>  Adj. R-squared (uncentered):</th> <td>   0.937</td>\n",
       "</tr>\n",
       "<tr>\n",
       "  <th>Method:</th>             <td>Least Squares</td>  <th>  F-statistic:       </th>          <td>   7459.</td>\n",
       "</tr>\n",
       "<tr>\n",
       "  <th>Date:</th>             <td>Wed, 21 Jun 2023</td> <th>  Prob (F-statistic):</th>           <td>  0.00</td> \n",
       "</tr>\n",
       "<tr>\n",
       "  <th>Time:</th>                 <td>22:32:07</td>     <th>  Log-Likelihood:    </th>          <td> -1377.8</td>\n",
       "</tr>\n",
       "<tr>\n",
       "  <th>No. Observations:</th>      <td>  1000</td>      <th>  AIC:               </th>          <td>   2760.</td>\n",
       "</tr>\n",
       "<tr>\n",
       "  <th>Df Residuals:</th>          <td>   998</td>      <th>  BIC:               </th>          <td>   2770.</td>\n",
       "</tr>\n",
       "<tr>\n",
       "  <th>Df Model:</th>              <td>     2</td>      <th>                     </th>              <td> </td>   \n",
       "</tr>\n",
       "<tr>\n",
       "  <th>Covariance Type:</th>      <td>nonrobust</td>    <th>                     </th>              <td> </td>   \n",
       "</tr>\n",
       "</table>\n",
       "<table class=\"simpletable\">\n",
       "<tr>\n",
       "   <td></td>     <th>coef</th>     <th>std err</th>      <th>t</th>      <th>P>|t|</th>  <th>[0.025</th>    <th>0.975]</th>  \n",
       "</tr>\n",
       "<tr>\n",
       "  <th>x1</th> <td>    0.3069</td> <td>    0.031</td> <td>    9.782</td> <td> 0.000</td> <td>    0.245</td> <td>    0.368</td>\n",
       "</tr>\n",
       "<tr>\n",
       "  <th>x2</th> <td>    4.9934</td> <td>    0.043</td> <td>  115.391</td> <td> 0.000</td> <td>    4.908</td> <td>    5.078</td>\n",
       "</tr>\n",
       "</table>\n",
       "<table class=\"simpletable\">\n",
       "<tr>\n",
       "  <th>Omnibus:</th>       <td> 0.396</td> <th>  Durbin-Watson:     </th> <td>   1.964</td>\n",
       "</tr>\n",
       "<tr>\n",
       "  <th>Prob(Omnibus):</th> <td> 0.820</td> <th>  Jarque-Bera (JB):  </th> <td>   0.485</td>\n",
       "</tr>\n",
       "<tr>\n",
       "  <th>Skew:</th>          <td> 0.021</td> <th>  Prob(JB):          </th> <td>   0.785</td>\n",
       "</tr>\n",
       "<tr>\n",
       "  <th>Kurtosis:</th>      <td> 2.900</td> <th>  Cond. No.          </th> <td>    1.51</td>\n",
       "</tr>\n",
       "</table><br/><br/>Notes:<br/>[1] R² is computed without centering (uncentered) since the model does not contain a constant.<br/>[2] Standard Errors assume that the covariance matrix of the errors is correctly specified."
      ],
      "text/plain": [
       "<class 'statsmodels.iolib.summary.Summary'>\n",
       "\"\"\"\n",
       "                                 OLS Regression Results                                \n",
       "=======================================================================================\n",
       "Dep. Variable:                      y   R-squared (uncentered):                   0.937\n",
       "Model:                            OLS   Adj. R-squared (uncentered):              0.937\n",
       "Method:                 Least Squares   F-statistic:                              7459.\n",
       "Date:                Wed, 21 Jun 2023   Prob (F-statistic):                        0.00\n",
       "Time:                        22:32:07   Log-Likelihood:                         -1377.8\n",
       "No. Observations:                1000   AIC:                                      2760.\n",
       "Df Residuals:                     998   BIC:                                      2770.\n",
       "Df Model:                           2                                                  \n",
       "Covariance Type:            nonrobust                                                  \n",
       "==============================================================================\n",
       "                 coef    std err          t      P>|t|      [0.025      0.975]\n",
       "------------------------------------------------------------------------------\n",
       "x1             0.3069      0.031      9.782      0.000       0.245       0.368\n",
       "x2             4.9934      0.043    115.391      0.000       4.908       5.078\n",
       "==============================================================================\n",
       "Omnibus:                        0.396   Durbin-Watson:                   1.964\n",
       "Prob(Omnibus):                  0.820   Jarque-Bera (JB):                0.485\n",
       "Skew:                           0.021   Prob(JB):                        0.785\n",
       "Kurtosis:                       2.900   Cond. No.                         1.51\n",
       "==============================================================================\n",
       "\n",
       "Notes:\n",
       "[1] R² is computed without centering (uncentered) since the model does not contain a constant.\n",
       "[2] Standard Errors assume that the covariance matrix of the errors is correctly specified.\n",
       "\"\"\""
      ]
     },
     "execution_count": 10,
     "metadata": {},
     "output_type": "execute_result"
    }
   ],
   "source": [
    "model = OLS(np.asarray(df[outcome]), np.asarray(df[[common_cause, treatment]], dtype=np.float64))\n",
    "result = model.fit()\n",
    "result.summary()"
   ]
  }
 ],
 "metadata": {
  "kernelspec": {
   "display_name": "Python 3",
   "language": "python",
   "name": "python3"
  },
  "language_info": {
   "codemirror_mode": {
    "name": "ipython",
    "version": 3
   },
   "file_extension": ".py",
   "mimetype": "text/x-python",
   "name": "python",
   "nbconvert_exporter": "python",
   "pygments_lexer": "ipython3",
   "version": "3.8.10"
  },
  "toc": {
   "base_numbering": 1,
   "nav_menu": {},
   "number_sections": false,
   "sideBar": true,
   "skip_h1_title": true,
   "title_cell": "Table of Contents",
   "title_sidebar": "Contents",
   "toc_cell": false,
   "toc_position": {},
   "toc_section_display": true,
   "toc_window_display": false
  }
 },
 "nbformat": 4,
 "nbformat_minor": 4
}
