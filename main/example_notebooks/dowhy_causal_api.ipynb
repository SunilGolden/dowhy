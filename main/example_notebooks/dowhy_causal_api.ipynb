{
 "cells": [
  {
   "cell_type": "markdown",
   "metadata": {},
   "source": [
    "# Demo for the DoWhy causal API\n",
    "We show a simple example of adding a causal extension to any dataframe. "
   ]
  },
  {
   "cell_type": "code",
   "execution_count": 1,
   "metadata": {
    "execution": {
     "iopub.execute_input": "2023-11-03T22:05:45.649700Z",
     "iopub.status.busy": "2023-11-03T22:05:45.649318Z",
     "iopub.status.idle": "2023-11-03T22:05:47.012867Z",
     "shell.execute_reply": "2023-11-03T22:05:47.012234Z"
    }
   },
   "outputs": [],
   "source": [
    "import dowhy.datasets\n",
    "import dowhy.api\n",
    "\n",
    "import numpy as np\n",
    "import pandas as pd\n",
    "\n",
    "from statsmodels.api import OLS"
   ]
  },
  {
   "cell_type": "code",
   "execution_count": 2,
   "metadata": {
    "execution": {
     "iopub.execute_input": "2023-11-03T22:05:47.015802Z",
     "iopub.status.busy": "2023-11-03T22:05:47.015230Z",
     "iopub.status.idle": "2023-11-03T22:05:47.048352Z",
     "shell.execute_reply": "2023-11-03T22:05:47.047744Z"
    }
   },
   "outputs": [
    {
     "data": {
      "text/html": [
       "<div>\n",
       "<style scoped>\n",
       "    .dataframe tbody tr th:only-of-type {\n",
       "        vertical-align: middle;\n",
       "    }\n",
       "\n",
       "    .dataframe tbody tr th {\n",
       "        vertical-align: top;\n",
       "    }\n",
       "\n",
       "    .dataframe thead th {\n",
       "        text-align: right;\n",
       "    }\n",
       "</style>\n",
       "<table border=\"1\" class=\"dataframe\">\n",
       "  <thead>\n",
       "    <tr style=\"text-align: right;\">\n",
       "      <th></th>\n",
       "      <th>W0</th>\n",
       "      <th>v0</th>\n",
       "      <th>y</th>\n",
       "    </tr>\n",
       "  </thead>\n",
       "  <tbody>\n",
       "    <tr>\n",
       "      <th>0</th>\n",
       "      <td>2.865559</td>\n",
       "      <td>True</td>\n",
       "      <td>8.831445</td>\n",
       "    </tr>\n",
       "    <tr>\n",
       "      <th>1</th>\n",
       "      <td>1.516848</td>\n",
       "      <td>True</td>\n",
       "      <td>6.905969</td>\n",
       "    </tr>\n",
       "    <tr>\n",
       "      <th>2</th>\n",
       "      <td>1.884270</td>\n",
       "      <td>True</td>\n",
       "      <td>8.158099</td>\n",
       "    </tr>\n",
       "    <tr>\n",
       "      <th>3</th>\n",
       "      <td>0.530657</td>\n",
       "      <td>True</td>\n",
       "      <td>5.441280</td>\n",
       "    </tr>\n",
       "    <tr>\n",
       "      <th>4</th>\n",
       "      <td>-0.327260</td>\n",
       "      <td>False</td>\n",
       "      <td>-0.780957</td>\n",
       "    </tr>\n",
       "    <tr>\n",
       "      <th>...</th>\n",
       "      <td>...</td>\n",
       "      <td>...</td>\n",
       "      <td>...</td>\n",
       "    </tr>\n",
       "    <tr>\n",
       "      <th>995</th>\n",
       "      <td>1.113405</td>\n",
       "      <td>True</td>\n",
       "      <td>8.187720</td>\n",
       "    </tr>\n",
       "    <tr>\n",
       "      <th>996</th>\n",
       "      <td>1.364491</td>\n",
       "      <td>True</td>\n",
       "      <td>6.718729</td>\n",
       "    </tr>\n",
       "    <tr>\n",
       "      <th>997</th>\n",
       "      <td>1.253218</td>\n",
       "      <td>True</td>\n",
       "      <td>5.807579</td>\n",
       "    </tr>\n",
       "    <tr>\n",
       "      <th>998</th>\n",
       "      <td>1.793902</td>\n",
       "      <td>True</td>\n",
       "      <td>8.316797</td>\n",
       "    </tr>\n",
       "    <tr>\n",
       "      <th>999</th>\n",
       "      <td>0.459266</td>\n",
       "      <td>True</td>\n",
       "      <td>6.193345</td>\n",
       "    </tr>\n",
       "  </tbody>\n",
       "</table>\n",
       "<p>1000 rows × 3 columns</p>\n",
       "</div>"
      ],
      "text/plain": [
       "           W0     v0         y\n",
       "0    2.865559   True  8.831445\n",
       "1    1.516848   True  6.905969\n",
       "2    1.884270   True  8.158099\n",
       "3    0.530657   True  5.441280\n",
       "4   -0.327260  False -0.780957\n",
       "..        ...    ...       ...\n",
       "995  1.113405   True  8.187720\n",
       "996  1.364491   True  6.718729\n",
       "997  1.253218   True  5.807579\n",
       "998  1.793902   True  8.316797\n",
       "999  0.459266   True  6.193345\n",
       "\n",
       "[1000 rows x 3 columns]"
      ]
     },
     "execution_count": 2,
     "metadata": {},
     "output_type": "execute_result"
    }
   ],
   "source": [
    "data = dowhy.datasets.linear_dataset(beta=5,\n",
    "        num_common_causes=1,\n",
    "        num_instruments = 0,\n",
    "        num_samples=1000,\n",
    "        treatment_is_binary=True)\n",
    "df = data['df']\n",
    "df['y'] = df['y'] + np.random.normal(size=len(df)) # Adding noise to data. Without noise, the variance in Y|X, Z is zero, and mcmc fails.\n",
    "#data['dot_graph'] = 'digraph { v ->y;X0-> v;X0-> y;}'\n",
    "\n",
    "treatment= data[\"treatment_name\"][0]\n",
    "outcome = data[\"outcome_name\"][0]\n",
    "common_cause = data[\"common_causes_names\"][0]\n",
    "df"
   ]
  },
  {
   "cell_type": "code",
   "execution_count": 3,
   "metadata": {
    "execution": {
     "iopub.execute_input": "2023-11-03T22:05:47.050617Z",
     "iopub.status.busy": "2023-11-03T22:05:47.050276Z",
     "iopub.status.idle": "2023-11-03T22:05:47.232418Z",
     "shell.execute_reply": "2023-11-03T22:05:47.231775Z"
    }
   },
   "outputs": [
    {
     "data": {
      "text/plain": [
       "<Axes: xlabel='v0'>"
      ]
     },
     "execution_count": 3,
     "metadata": {},
     "output_type": "execute_result"
    },
    {
     "data": {
      "image/png": "[encoded data removed]",
      "text/plain": [
       "<Figure size 640x480 with 1 Axes>"
      ]
     },
     "metadata": {},
     "output_type": "display_data"
    }
   ],
   "source": [
    "# data['df'] is just a regular pandas.DataFrame\n",
    "df.causal.do(x=treatment,\n",
    "                     variable_types={treatment: 'b', outcome: 'c', common_cause: 'c'},\n",
    "                     outcome=outcome,\n",
    "                     common_causes=[common_cause],\n",
    "                     proceed_when_unidentifiable=True).groupby(treatment).mean().plot(y=outcome, kind='bar')"
   ]
  },
  {
   "cell_type": "code",
   "execution_count": 4,
   "metadata": {
    "execution": {
     "iopub.execute_input": "2023-11-03T22:05:47.234925Z",
     "iopub.status.busy": "2023-11-03T22:05:47.234549Z",
     "iopub.status.idle": "2023-11-03T22:05:47.371231Z",
     "shell.execute_reply": "2023-11-03T22:05:47.370693Z"
    }
   },
   "outputs": [
    {
     "data": {
      "text/plain": [
       "<Axes: xlabel='v0'>"
      ]
     },
     "execution_count": 4,
     "metadata": {},
     "output_type": "execute_result"
    },
    {
     "data": {
      "image/png": "[encoded data removed]",
      "text/plain": [
       "<Figure size 640x480 with 1 Axes>"
      ]
     },
     "metadata": {},
     "output_type": "display_data"
    }
   ],
   "source": [
    "df.causal.do(x={treatment: 1}, \n",
    "              variable_types={treatment:'b', outcome: 'c', common_cause: 'c'}, \n",
    "              outcome=outcome,\n",
    "              method='weighting', \n",
    "              common_causes=[common_cause],\n",
    "              proceed_when_unidentifiable=True).groupby(treatment).mean().plot(y=outcome, kind='bar')"
   ]
  },
  {
   "cell_type": "code",
   "execution_count": 5,
   "metadata": {
    "execution": {
     "iopub.execute_input": "2023-11-03T22:05:47.373952Z",
     "iopub.status.busy": "2023-11-03T22:05:47.373398Z",
     "iopub.status.idle": "2023-11-03T22:05:47.399440Z",
     "shell.execute_reply": "2023-11-03T22:05:47.398829Z"
    }
   },
   "outputs": [],
   "source": [
    "cdf_1 = df.causal.do(x={treatment: 1}, \n",
    "              variable_types={treatment: 'b', outcome: 'c', common_cause: 'c'}, \n",
    "              outcome=outcome, \n",
    "              dot_graph=data['dot_graph'],\n",
    "              proceed_when_unidentifiable=True)\n",
    "\n",
    "cdf_0 = df.causal.do(x={treatment: 0}, \n",
    "              variable_types={treatment: 'b', outcome: 'c', common_cause: 'c'}, \n",
    "              outcome=outcome, \n",
    "              dot_graph=data['dot_graph'],\n",
    "              proceed_when_unidentifiable=True)\n"
   ]
  },
  {
   "cell_type": "code",
   "execution_count": 6,
   "metadata": {
    "execution": {
     "iopub.execute_input": "2023-11-03T22:05:47.402036Z",
     "iopub.status.busy": "2023-11-03T22:05:47.401586Z",
     "iopub.status.idle": "2023-11-03T22:05:47.410466Z",
     "shell.execute_reply": "2023-11-03T22:05:47.409895Z"
    },
    "scrolled": true
   },
   "outputs": [
    {
     "data": {
      "text/html": [
       "<div>\n",
       "<style scoped>\n",
       "    .dataframe tbody tr th:only-of-type {\n",
       "        vertical-align: middle;\n",
       "    }\n",
       "\n",
       "    .dataframe tbody tr th {\n",
       "        vertical-align: top;\n",
       "    }\n",
       "\n",
       "    .dataframe thead th {\n",
       "        text-align: right;\n",
       "    }\n",
       "</style>\n",
       "<table border=\"1\" class=\"dataframe\">\n",
       "  <thead>\n",
       "    <tr style=\"text-align: right;\">\n",
       "      <th></th>\n",
       "      <th>W0</th>\n",
       "      <th>v0</th>\n",
       "      <th>y</th>\n",
       "      <th>propensity_score</th>\n",
       "      <th>weight</th>\n",
       "    </tr>\n",
       "  </thead>\n",
       "  <tbody>\n",
       "    <tr>\n",
       "      <th>0</th>\n",
       "      <td>3.021410</td>\n",
       "      <td>False</td>\n",
       "      <td>3.740699</td>\n",
       "      <td>0.013220</td>\n",
       "      <td>75.640725</td>\n",
       "    </tr>\n",
       "    <tr>\n",
       "      <th>1</th>\n",
       "      <td>1.357647</td>\n",
       "      <td>False</td>\n",
       "      <td>1.156810</td>\n",
       "      <td>0.122954</td>\n",
       "      <td>8.133146</td>\n",
       "    </tr>\n",
       "    <tr>\n",
       "      <th>2</th>\n",
       "      <td>1.675938</td>\n",
       "      <td>False</td>\n",
       "      <td>1.706812</td>\n",
       "      <td>0.082117</td>\n",
       "      <td>12.177811</td>\n",
       "    </tr>\n",
       "    <tr>\n",
       "      <th>3</th>\n",
       "      <td>1.515161</td>\n",
       "      <td>False</td>\n",
       "      <td>0.898195</td>\n",
       "      <td>0.100920</td>\n",
       "      <td>9.908793</td>\n",
       "    </tr>\n",
       "    <tr>\n",
       "      <th>4</th>\n",
       "      <td>1.609586</td>\n",
       "      <td>False</td>\n",
       "      <td>2.389037</td>\n",
       "      <td>0.089456</td>\n",
       "      <td>11.178661</td>\n",
       "    </tr>\n",
       "    <tr>\n",
       "      <th>...</th>\n",
       "      <td>...</td>\n",
       "      <td>...</td>\n",
       "      <td>...</td>\n",
       "      <td>...</td>\n",
       "      <td>...</td>\n",
       "    </tr>\n",
       "    <tr>\n",
       "      <th>995</th>\n",
       "      <td>2.399694</td>\n",
       "      <td>False</td>\n",
       "      <td>4.652485</td>\n",
       "      <td>0.031210</td>\n",
       "      <td>32.041009</td>\n",
       "    </tr>\n",
       "    <tr>\n",
       "      <th>996</th>\n",
       "      <td>0.515484</td>\n",
       "      <td>False</td>\n",
       "      <td>1.975115</td>\n",
       "      <td>0.315123</td>\n",
       "      <td>3.173361</td>\n",
       "    </tr>\n",
       "    <tr>\n",
       "      <th>997</th>\n",
       "      <td>2.617938</td>\n",
       "      <td>False</td>\n",
       "      <td>1.587136</td>\n",
       "      <td>0.023128</td>\n",
       "      <td>43.237108</td>\n",
       "    </tr>\n",
       "    <tr>\n",
       "      <th>998</th>\n",
       "      <td>0.362698</td>\n",
       "      <td>False</td>\n",
       "      <td>0.887583</td>\n",
       "      <td>0.363395</td>\n",
       "      <td>2.751828</td>\n",
       "    </tr>\n",
       "    <tr>\n",
       "      <th>999</th>\n",
       "      <td>1.595711</td>\n",
       "      <td>False</td>\n",
       "      <td>0.352642</td>\n",
       "      <td>0.091064</td>\n",
       "      <td>10.981297</td>\n",
       "    </tr>\n",
       "  </tbody>\n",
       "</table>\n",
       "<p>1000 rows × 5 columns</p>\n",
       "</div>"
      ],
      "text/plain": [
       "           W0     v0         y  propensity_score     weight\n",
       "0    3.021410  False  3.740699          0.013220  75.640725\n",
       "1    1.357647  False  1.156810          0.122954   8.133146\n",
       "2    1.675938  False  1.706812          0.082117  12.177811\n",
       "3    1.515161  False  0.898195          0.100920   9.908793\n",
       "4    1.609586  False  2.389037          0.089456  11.178661\n",
       "..        ...    ...       ...               ...        ...\n",
       "995  2.399694  False  4.652485          0.031210  32.041009\n",
       "996  0.515484  False  1.975115          0.315123   3.173361\n",
       "997  2.617938  False  1.587136          0.023128  43.237108\n",
       "998  0.362698  False  0.887583          0.363395   2.751828\n",
       "999  1.595711  False  0.352642          0.091064  10.981297\n",
       "\n",
       "[1000 rows x 5 columns]"
      ]
     },
     "execution_count": 6,
     "metadata": {},
     "output_type": "execute_result"
    }
   ],
   "source": [
    "cdf_0"
   ]
  },
  {
   "cell_type": "code",
   "execution_count": 7,
   "metadata": {
    "execution": {
     "iopub.execute_input": "2023-11-03T22:05:47.412784Z",
     "iopub.status.busy": "2023-11-03T22:05:47.412373Z",
     "iopub.status.idle": "2023-11-03T22:05:47.420765Z",
     "shell.execute_reply": "2023-11-03T22:05:47.420215Z"
    }
   },
   "outputs": [
    {
     "data": {
      "text/html": [
       "<div>\n",
       "<style scoped>\n",
       "    .dataframe tbody tr th:only-of-type {\n",
       "        vertical-align: middle;\n",
       "    }\n",
       "\n",
       "    .dataframe tbody tr th {\n",
       "        vertical-align: top;\n",
       "    }\n",
       "\n",
       "    .dataframe thead th {\n",
       "        text-align: right;\n",
       "    }\n",
       "</style>\n",
       "<table border=\"1\" class=\"dataframe\">\n",
       "  <thead>\n",
       "    <tr style=\"text-align: right;\">\n",
       "      <th></th>\n",
       "      <th>W0</th>\n",
       "      <th>v0</th>\n",
       "      <th>y</th>\n",
       "      <th>propensity_score</th>\n",
       "      <th>weight</th>\n",
       "    </tr>\n",
       "  </thead>\n",
       "  <tbody>\n",
       "    <tr>\n",
       "      <th>0</th>\n",
       "      <td>1.343228</td>\n",
       "      <td>True</td>\n",
       "      <td>7.708546</td>\n",
       "      <td>0.874835</td>\n",
       "      <td>1.143072</td>\n",
       "    </tr>\n",
       "    <tr>\n",
       "      <th>1</th>\n",
       "      <td>0.266791</td>\n",
       "      <td>True</td>\n",
       "      <td>3.921381</td>\n",
       "      <td>0.604754</td>\n",
       "      <td>1.653564</td>\n",
       "    </tr>\n",
       "    <tr>\n",
       "      <th>2</th>\n",
       "      <td>-0.165841</td>\n",
       "      <td>True</td>\n",
       "      <td>4.384875</td>\n",
       "      <td>0.453826</td>\n",
       "      <td>2.203487</td>\n",
       "    </tr>\n",
       "    <tr>\n",
       "      <th>3</th>\n",
       "      <td>0.468463</td>\n",
       "      <td>True</td>\n",
       "      <td>4.893656</td>\n",
       "      <td>0.670383</td>\n",
       "      <td>1.491684</td>\n",
       "    </tr>\n",
       "    <tr>\n",
       "      <th>4</th>\n",
       "      <td>0.416504</td>\n",
       "      <td>True</td>\n",
       "      <td>3.711377</td>\n",
       "      <td>0.653983</td>\n",
       "      <td>1.529092</td>\n",
       "    </tr>\n",
       "    <tr>\n",
       "      <th>...</th>\n",
       "      <td>...</td>\n",
       "      <td>...</td>\n",
       "      <td>...</td>\n",
       "      <td>...</td>\n",
       "      <td>...</td>\n",
       "    </tr>\n",
       "    <tr>\n",
       "      <th>995</th>\n",
       "      <td>0.083329</td>\n",
       "      <td>True</td>\n",
       "      <td>6.309776</td>\n",
       "      <td>0.541507</td>\n",
       "      <td>1.846699</td>\n",
       "    </tr>\n",
       "    <tr>\n",
       "      <th>996</th>\n",
       "      <td>1.970544</td>\n",
       "      <td>True</td>\n",
       "      <td>8.203722</td>\n",
       "      <td>0.944259</td>\n",
       "      <td>1.059032</td>\n",
       "    </tr>\n",
       "    <tr>\n",
       "      <th>997</th>\n",
       "      <td>2.289541</td>\n",
       "      <td>True</td>\n",
       "      <td>9.205801</td>\n",
       "      <td>0.963731</td>\n",
       "      <td>1.037634</td>\n",
       "    </tr>\n",
       "    <tr>\n",
       "      <th>998</th>\n",
       "      <td>2.508339</td>\n",
       "      <td>True</td>\n",
       "      <td>6.447556</td>\n",
       "      <td>0.973107</td>\n",
       "      <td>1.027636</td>\n",
       "    </tr>\n",
       "    <tr>\n",
       "      <th>999</th>\n",
       "      <td>1.307765</td>\n",
       "      <td>True</td>\n",
       "      <td>8.306464</td>\n",
       "      <td>0.869252</td>\n",
       "      <td>1.150415</td>\n",
       "    </tr>\n",
       "  </tbody>\n",
       "</table>\n",
       "<p>1000 rows × 5 columns</p>\n",
       "</div>"
      ],
      "text/plain": [
       "           W0    v0         y  propensity_score    weight\n",
       "0    1.343228  True  7.708546          0.874835  1.143072\n",
       "1    0.266791  True  3.921381          0.604754  1.653564\n",
       "2   -0.165841  True  4.384875          0.453826  2.203487\n",
       "3    0.468463  True  4.893656          0.670383  1.491684\n",
       "4    0.416504  True  3.711377          0.653983  1.529092\n",
       "..        ...   ...       ...               ...       ...\n",
       "995  0.083329  True  6.309776          0.541507  1.846699\n",
       "996  1.970544  True  8.203722          0.944259  1.059032\n",
       "997  2.289541  True  9.205801          0.963731  1.037634\n",
       "998  2.508339  True  6.447556          0.973107  1.027636\n",
       "999  1.307765  True  8.306464          0.869252  1.150415\n",
       "\n",
       "[1000 rows x 5 columns]"
      ]
     },
     "execution_count": 7,
     "metadata": {},
     "output_type": "execute_result"
    }
   ],
   "source": [
    "cdf_1"
   ]
  },
  {
   "cell_type": "markdown",
   "metadata": {},
   "source": [
    "## Comparing the estimate to Linear Regression\n",
    "First, estimating the effect using the causal data frame, and the 95% confidence interval."
   ]
  },
  {
   "cell_type": "code",
   "execution_count": 8,
   "metadata": {
    "execution": {
     "iopub.execute_input": "2023-11-03T22:05:47.422715Z",
     "iopub.status.busy": "2023-11-03T22:05:47.422542Z",
     "iopub.status.idle": "2023-11-03T22:05:47.469349Z",
     "shell.execute_reply": "2023-11-03T22:05:47.468719Z"
    }
   },
   "outputs": [
    {
     "data": {
      "image/png": "[encoded data removed]",
      "text/latex": [
       "$\\displaystyle 4.77459574212087$"
      ],
      "text/plain": [
       "4.774595742120869"
      ]
     },
     "execution_count": 8,
     "metadata": {},
     "output_type": "execute_result"
    }
   ],
   "source": [
    "(cdf_1['y'] - cdf_0['y']).mean()"
   ]
  },
  {
   "cell_type": "code",
   "execution_count": 9,
   "metadata": {
    "execution": {
     "iopub.execute_input": "2023-11-03T22:05:47.471562Z",
     "iopub.status.busy": "2023-11-03T22:05:47.471381Z",
     "iopub.status.idle": "2023-11-03T22:05:47.488061Z",
     "shell.execute_reply": "2023-11-03T22:05:47.487510Z"
    }
   },
   "outputs": [
    {
     "data": {
      "image/png": "[encoded data removed]",
      "text/latex": [
       "$\\displaystyle 0.151323081243103$"
      ],
      "text/plain": [
       "0.15132308124310315"
      ]
     },
     "execution_count": 9,
     "metadata": {},
     "output_type": "execute_result"
    }
   ],
   "source": [
    "1.96*(cdf_1['y'] - cdf_0['y']).std() / np.sqrt(len(df))"
   ]
  },
  {
   "cell_type": "markdown",
   "metadata": {},
   "source": [
    "Comparing to the estimate from OLS."
   ]
  },
  {
   "cell_type": "code",
   "execution_count": 10,
   "metadata": {
    "execution": {
     "iopub.execute_input": "2023-11-03T22:05:47.490393Z",
     "iopub.status.busy": "2023-11-03T22:05:47.489971Z",
     "iopub.status.idle": "2023-11-03T22:05:47.506211Z",
     "shell.execute_reply": "2023-11-03T22:05:47.505609Z"
    }
   },
   "outputs": [
    {
     "data": {
      "text/html": [
       "<table class=\"simpletable\">\n",
       "<caption>OLS Regression Results</caption>\n",
       "<tr>\n",
       "  <th>Dep. Variable:</th>            <td>y</td>        <th>  R-squared (uncentered):</th>      <td>   0.967</td> \n",
       "</tr>\n",
       "<tr>\n",
       "  <th>Model:</th>                   <td>OLS</td>       <th>  Adj. R-squared (uncentered):</th> <td>   0.967</td> \n",
       "</tr>\n",
       "<tr>\n",
       "  <th>Method:</th>             <td>Least Squares</td>  <th>  F-statistic:       </th>          <td>1.459e+04</td>\n",
       "</tr>\n",
       "<tr>\n",
       "  <th>Date:</th>             <td>Fri, 03 Nov 2023</td> <th>  Prob (F-statistic):</th>           <td>  0.00</td>  \n",
       "</tr>\n",
       "<tr>\n",
       "  <th>Time:</th>                 <td>22:05:47</td>     <th>  Log-Likelihood:    </th>          <td> -1410.1</td> \n",
       "</tr>\n",
       "<tr>\n",
       "  <th>No. Observations:</th>      <td>  1000</td>      <th>  AIC:               </th>          <td>   2824.</td> \n",
       "</tr>\n",
       "<tr>\n",
       "  <th>Df Residuals:</th>          <td>   998</td>      <th>  BIC:               </th>          <td>   2834.</td> \n",
       "</tr>\n",
       "<tr>\n",
       "  <th>Df Model:</th>              <td>     2</td>      <th>                     </th>              <td> </td>    \n",
       "</tr>\n",
       "<tr>\n",
       "  <th>Covariance Type:</th>      <td>nonrobust</td>    <th>                     </th>              <td> </td>    \n",
       "</tr>\n",
       "</table>\n",
       "<table class=\"simpletable\">\n",
       "<tr>\n",
       "   <td></td>     <th>coef</th>     <th>std err</th>      <th>t</th>      <th>P>|t|</th>  <th>[0.025</th>    <th>0.975]</th>  \n",
       "</tr>\n",
       "<tr>\n",
       "  <th>x1</th> <td>    1.3898</td> <td>    0.037</td> <td>   37.880</td> <td> 0.000</td> <td>    1.318</td> <td>    1.462</td>\n",
       "</tr>\n",
       "<tr>\n",
       "  <th>x2</th> <td>    4.9342</td> <td>    0.053</td> <td>   92.930</td> <td> 0.000</td> <td>    4.830</td> <td>    5.038</td>\n",
       "</tr>\n",
       "</table>\n",
       "<table class=\"simpletable\">\n",
       "<tr>\n",
       "  <th>Omnibus:</th>       <td> 0.052</td> <th>  Durbin-Watson:     </th> <td>   2.046</td>\n",
       "</tr>\n",
       "<tr>\n",
       "  <th>Prob(Omnibus):</th> <td> 0.975</td> <th>  Jarque-Bera (JB):  </th> <td>   0.095</td>\n",
       "</tr>\n",
       "<tr>\n",
       "  <th>Skew:</th>          <td>-0.013</td> <th>  Prob(JB):          </th> <td>   0.954</td>\n",
       "</tr>\n",
       "<tr>\n",
       "  <th>Kurtosis:</th>      <td> 2.960</td> <th>  Cond. No.          </th> <td>    2.60</td>\n",
       "</tr>\n",
       "</table><br/><br/>Notes:<br/>[1] R² is computed without centering (uncentered) since the model does not contain a constant.<br/>[2] Standard Errors assume that the covariance matrix of the errors is correctly specified."
      ],
      "text/latex": [
       "\\begin{center}\n",
       "\\begin{tabular}{lclc}\n",
       "\\toprule\n",
       "\\textbf{Dep. Variable:}    &        y         & \\textbf{  R-squared (uncentered):}      &     0.967   \\\\\n",
       "\\textbf{Model:}            &       OLS        & \\textbf{  Adj. R-squared (uncentered):} &     0.967   \\\\\n",
       "\\textbf{Method:}           &  Least Squares   & \\textbf{  F-statistic:       }          & 1.459e+04   \\\\\n",
       "\\textbf{Date:}             & Fri, 03 Nov 2023 & \\textbf{  Prob (F-statistic):}          &     0.00    \\\\\n",
       "\\textbf{Time:}             &     22:05:47     & \\textbf{  Log-Likelihood:    }          &   -1410.1   \\\\\n",
       "\\textbf{No. Observations:} &        1000      & \\textbf{  AIC:               }          &     2824.   \\\\\n",
       "\\textbf{Df Residuals:}     &         998      & \\textbf{  BIC:               }          &     2834.   \\\\\n",
       "\\textbf{Df Model:}         &           2      & \\textbf{                     }          &             \\\\\n",
       "\\textbf{Covariance Type:}  &    nonrobust     & \\textbf{                     }          &             \\\\\n",
       "\\bottomrule\n",
       "\\end{tabular}\n",
       "\\begin{tabular}{lcccccc}\n",
       "            & \\textbf{coef} & \\textbf{std err} & \\textbf{t} & \\textbf{P$> |$t$|$} & \\textbf{[0.025} & \\textbf{0.975]}  \\\\\n",
       "\\midrule\n",
       "\\textbf{x1} &       1.3898  &        0.037     &    37.880  &         0.000        &        1.318    &        1.462     \\\\\n",
       "\\textbf{x2} &       4.9342  &        0.053     &    92.930  &         0.000        &        4.830    &        5.038     \\\\\n",
       "\\bottomrule\n",
       "\\end{tabular}\n",
       "\\begin{tabular}{lclc}\n",
       "\\textbf{Omnibus:}       &  0.052 & \\textbf{  Durbin-Watson:     } &    2.046  \\\\\n",
       "\\textbf{Prob(Omnibus):} &  0.975 & \\textbf{  Jarque-Bera (JB):  } &    0.095  \\\\\n",
       "\\textbf{Skew:}          & -0.013 & \\textbf{  Prob(JB):          } &    0.954  \\\\\n",
       "\\textbf{Kurtosis:}      &  2.960 & \\textbf{  Cond. No.          } &     2.60  \\\\\n",
       "\\bottomrule\n",
       "\\end{tabular}\n",
       "%\\caption{OLS Regression Results}\n",
       "\\end{center}\n",
       "\n",
       "Notes: \\newline\n",
       " [1] R² is computed without centering (uncentered) since the model does not contain a constant. \\newline\n",
       " [2] Standard Errors assume that the covariance matrix of the errors is correctly specified."
      ],
      "text/plain": [
       "<class 'statsmodels.iolib.summary.Summary'>\n",
       "\"\"\"\n",
       "                                 OLS Regression Results                                \n",
       "=======================================================================================\n",
       "Dep. Variable:                      y   R-squared (uncentered):                   0.967\n",
       "Model:                            OLS   Adj. R-squared (uncentered):              0.967\n",
       "Method:                 Least Squares   F-statistic:                          1.459e+04\n",
       "Date:                Fri, 03 Nov 2023   Prob (F-statistic):                        0.00\n",
       "Time:                        22:05:47   Log-Likelihood:                         -1410.1\n",
       "No. Observations:                1000   AIC:                                      2824.\n",
       "Df Residuals:                     998   BIC:                                      2834.\n",
       "Df Model:                           2                                                  \n",
       "Covariance Type:            nonrobust                                                  \n",
       "==============================================================================\n",
       "                 coef    std err          t      P>|t|      [0.025      0.975]\n",
       "------------------------------------------------------------------------------\n",
       "x1             1.3898      0.037     37.880      0.000       1.318       1.462\n",
       "x2             4.9342      0.053     92.930      0.000       4.830       5.038\n",
       "==============================================================================\n",
       "Omnibus:                        0.052   Durbin-Watson:                   2.046\n",
       "Prob(Omnibus):                  0.975   Jarque-Bera (JB):                0.095\n",
       "Skew:                          -0.013   Prob(JB):                        0.954\n",
       "Kurtosis:                       2.960   Cond. No.                         2.60\n",
       "==============================================================================\n",
       "\n",
       "Notes:\n",
       "[1] R² is computed without centering (uncentered) since the model does not contain a constant.\n",
       "[2] Standard Errors assume that the covariance matrix of the errors is correctly specified.\n",
       "\"\"\""
      ]
     },
     "execution_count": 10,
     "metadata": {},
     "output_type": "execute_result"
    }
   ],
   "source": [
    "model = OLS(np.asarray(df[outcome]), np.asarray(df[[common_cause, treatment]], dtype=np.float64))\n",
    "result = model.fit()\n",
    "result.summary()"
   ]
  }
 ],
 "metadata": {
  "kernelspec": {
   "display_name": "Python 3",
   "language": "python",
   "name": "python3"
  },
  "language_info": {
   "codemirror_mode": {
    "name": "ipython",
    "version": 3
   },
   "file_extension": ".py",
   "mimetype": "text/x-python",
   "name": "python",
   "nbconvert_exporter": "python",
   "pygments_lexer": "ipython3",
   "version": "3.8.10"
  },
  "toc": {
   "base_numbering": 1,
   "nav_menu": {},
   "number_sections": false,
   "sideBar": true,
   "skip_h1_title": true,
   "title_cell": "Table of Contents",
   "title_sidebar": "Contents",
   "toc_cell": false,
   "toc_position": {},
   "toc_section_display": true,
   "toc_window_display": false
  }
 },
 "nbformat": 4,
 "nbformat_minor": 4
}
