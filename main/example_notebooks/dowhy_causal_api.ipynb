{
 "cells": [
  {
   "cell_type": "markdown",
   "metadata": {},
   "source": [
    "# Demo for the DoWhy causal API\n",
    "We show a simple example of adding a causal extension to any dataframe. "
   ]
  },
  {
   "cell_type": "code",
   "execution_count": 1,
   "metadata": {
    "execution": {
     "iopub.execute_input": "2023-05-06T08:52:11.874042Z",
     "iopub.status.busy": "2023-05-06T08:52:11.873821Z",
     "iopub.status.idle": "2023-05-06T08:52:13.408642Z",
     "shell.execute_reply": "2023-05-06T08:52:13.408009Z"
    }
   },
   "outputs": [],
   "source": [
    "import dowhy.datasets\n",
    "import dowhy.api\n",
    "\n",
    "import numpy as np\n",
    "import pandas as pd\n",
    "\n",
    "from statsmodels.api import OLS"
   ]
  },
  {
   "cell_type": "code",
   "execution_count": 2,
   "metadata": {
    "execution": {
     "iopub.execute_input": "2023-05-06T08:52:13.412408Z",
     "iopub.status.busy": "2023-05-06T08:52:13.411776Z",
     "iopub.status.idle": "2023-05-06T08:52:13.453194Z",
     "shell.execute_reply": "2023-05-06T08:52:13.452212Z"
    }
   },
   "outputs": [
    {
     "data": {
      "text/html": [
       "<div>\n",
       "<style scoped>\n",
       "    .dataframe tbody tr th:only-of-type {\n",
       "        vertical-align: middle;\n",
       "    }\n",
       "\n",
       "    .dataframe tbody tr th {\n",
       "        vertical-align: top;\n",
       "    }\n",
       "\n",
       "    .dataframe thead th {\n",
       "        text-align: right;\n",
       "    }\n",
       "</style>\n",
       "<table border=\"1\" class=\"dataframe\">\n",
       "  <thead>\n",
       "    <tr style=\"text-align: right;\">\n",
       "      <th></th>\n",
       "      <th>W0</th>\n",
       "      <th>v0</th>\n",
       "      <th>y</th>\n",
       "    </tr>\n",
       "  </thead>\n",
       "  <tbody>\n",
       "    <tr>\n",
       "      <th>0</th>\n",
       "      <td>0.285760</td>\n",
       "      <td>False</td>\n",
       "      <td>-0.690434</td>\n",
       "    </tr>\n",
       "    <tr>\n",
       "      <th>1</th>\n",
       "      <td>-0.029558</td>\n",
       "      <td>True</td>\n",
       "      <td>5.770692</td>\n",
       "    </tr>\n",
       "    <tr>\n",
       "      <th>2</th>\n",
       "      <td>0.288495</td>\n",
       "      <td>False</td>\n",
       "      <td>-0.543351</td>\n",
       "    </tr>\n",
       "    <tr>\n",
       "      <th>3</th>\n",
       "      <td>-0.380560</td>\n",
       "      <td>True</td>\n",
       "      <td>2.897410</td>\n",
       "    </tr>\n",
       "    <tr>\n",
       "      <th>4</th>\n",
       "      <td>0.403717</td>\n",
       "      <td>False</td>\n",
       "      <td>0.984497</td>\n",
       "    </tr>\n",
       "    <tr>\n",
       "      <th>...</th>\n",
       "      <td>...</td>\n",
       "      <td>...</td>\n",
       "      <td>...</td>\n",
       "    </tr>\n",
       "    <tr>\n",
       "      <th>995</th>\n",
       "      <td>0.913664</td>\n",
       "      <td>True</td>\n",
       "      <td>7.210884</td>\n",
       "    </tr>\n",
       "    <tr>\n",
       "      <th>996</th>\n",
       "      <td>-0.010187</td>\n",
       "      <td>False</td>\n",
       "      <td>0.611818</td>\n",
       "    </tr>\n",
       "    <tr>\n",
       "      <th>997</th>\n",
       "      <td>1.154612</td>\n",
       "      <td>True</td>\n",
       "      <td>9.555956</td>\n",
       "    </tr>\n",
       "    <tr>\n",
       "      <th>998</th>\n",
       "      <td>0.071398</td>\n",
       "      <td>True</td>\n",
       "      <td>5.216996</td>\n",
       "    </tr>\n",
       "    <tr>\n",
       "      <th>999</th>\n",
       "      <td>1.142604</td>\n",
       "      <td>False</td>\n",
       "      <td>2.836021</td>\n",
       "    </tr>\n",
       "  </tbody>\n",
       "</table>\n",
       "<p>1000 rows × 3 columns</p>\n",
       "</div>"
      ],
      "text/plain": [
       "           W0     v0         y\n",
       "0    0.285760  False -0.690434\n",
       "1   -0.029558   True  5.770692\n",
       "2    0.288495  False -0.543351\n",
       "3   -0.380560   True  2.897410\n",
       "4    0.403717  False  0.984497\n",
       "..        ...    ...       ...\n",
       "995  0.913664   True  7.210884\n",
       "996 -0.010187  False  0.611818\n",
       "997  1.154612   True  9.555956\n",
       "998  0.071398   True  5.216996\n",
       "999  1.142604  False  2.836021\n",
       "\n",
       "[1000 rows x 3 columns]"
      ]
     },
     "execution_count": 2,
     "metadata": {},
     "output_type": "execute_result"
    }
   ],
   "source": [
    "data = dowhy.datasets.linear_dataset(beta=5,\n",
    "        num_common_causes=1,\n",
    "        num_instruments = 0,\n",
    "        num_samples=1000,\n",
    "        treatment_is_binary=True)\n",
    "df = data['df']\n",
    "df['y'] = df['y'] + np.random.normal(size=len(df)) # Adding noise to data. Without noise, the variance in Y|X, Z is zero, and mcmc fails.\n",
    "#data['dot_graph'] = 'digraph { v ->y;X0-> v;X0-> y;}'\n",
    "\n",
    "treatment= data[\"treatment_name\"][0]\n",
    "outcome = data[\"outcome_name\"][0]\n",
    "common_cause = data[\"common_causes_names\"][0]\n",
    "df"
   ]
  },
  {
   "cell_type": "code",
   "execution_count": 3,
   "metadata": {
    "execution": {
     "iopub.execute_input": "2023-05-06T08:52:13.455848Z",
     "iopub.status.busy": "2023-05-06T08:52:13.455646Z",
     "iopub.status.idle": "2023-05-06T08:52:13.604884Z",
     "shell.execute_reply": "2023-05-06T08:52:13.603618Z"
    }
   },
   "outputs": [
    {
     "data": {
      "text/plain": [
       "<AxesSubplot: xlabel='v0'>"
      ]
     },
     "execution_count": 3,
     "metadata": {},
     "output_type": "execute_result"
    },
    {
     "data": {
      "image/png": "[encoded data removed]",
      "text/plain": [
       "<Figure size 640x480 with 1 Axes>"
      ]
     },
     "metadata": {},
     "output_type": "display_data"
    }
   ],
   "source": [
    "# data['df'] is just a regular pandas.DataFrame\n",
    "df.causal.do(x=treatment,\n",
    "                     variable_types={treatment: 'b', outcome: 'c', common_cause: 'c'},\n",
    "                     outcome=outcome,\n",
    "                     common_causes=[common_cause],\n",
    "                     proceed_when_unidentifiable=True).groupby(treatment).mean().plot(y=outcome, kind='bar')"
   ]
  },
  {
   "cell_type": "code",
   "execution_count": 4,
   "metadata": {
    "execution": {
     "iopub.execute_input": "2023-05-06T08:52:13.607554Z",
     "iopub.status.busy": "2023-05-06T08:52:13.607335Z",
     "iopub.status.idle": "2023-05-06T08:52:13.796479Z",
     "shell.execute_reply": "2023-05-06T08:52:13.795906Z"
    }
   },
   "outputs": [
    {
     "data": {
      "text/plain": [
       "<AxesSubplot: xlabel='v0'>"
      ]
     },
     "execution_count": 4,
     "metadata": {},
     "output_type": "execute_result"
    },
    {
     "data": {
      "image/png": "[encoded data removed]",
      "text/plain": [
       "<Figure size 640x480 with 1 Axes>"
      ]
     },
     "metadata": {},
     "output_type": "display_data"
    }
   ],
   "source": [
    "df.causal.do(x={treatment: 1}, \n",
    "              variable_types={treatment:'b', outcome: 'c', common_cause: 'c'}, \n",
    "              outcome=outcome,\n",
    "              method='weighting', \n",
    "              common_causes=[common_cause],\n",
    "              proceed_when_unidentifiable=True).groupby(treatment).mean().plot(y=outcome, kind='bar')"
   ]
  },
  {
   "cell_type": "code",
   "execution_count": 5,
   "metadata": {
    "execution": {
     "iopub.execute_input": "2023-05-06T08:52:13.799337Z",
     "iopub.status.busy": "2023-05-06T08:52:13.799119Z",
     "iopub.status.idle": "2023-05-06T08:52:13.827447Z",
     "shell.execute_reply": "2023-05-06T08:52:13.826890Z"
    }
   },
   "outputs": [],
   "source": [
    "cdf_1 = df.causal.do(x={treatment: 1}, \n",
    "              variable_types={treatment: 'b', outcome: 'c', common_cause: 'c'}, \n",
    "              outcome=outcome, \n",
    "              dot_graph=data['dot_graph'],\n",
    "              proceed_when_unidentifiable=True)\n",
    "\n",
    "cdf_0 = df.causal.do(x={treatment: 0}, \n",
    "              variable_types={treatment: 'b', outcome: 'c', common_cause: 'c'}, \n",
    "              outcome=outcome, \n",
    "              dot_graph=data['dot_graph'],\n",
    "              proceed_when_unidentifiable=True)\n"
   ]
  },
  {
   "cell_type": "code",
   "execution_count": 6,
   "metadata": {
    "execution": {
     "iopub.execute_input": "2023-05-06T08:52:13.830310Z",
     "iopub.status.busy": "2023-05-06T08:52:13.829820Z",
     "iopub.status.idle": "2023-05-06T08:52:13.841226Z",
     "shell.execute_reply": "2023-05-06T08:52:13.840654Z"
    },
    "scrolled": true
   },
   "outputs": [
    {
     "data": {
      "text/html": [
       "<div>\n",
       "<style scoped>\n",
       "    .dataframe tbody tr th:only-of-type {\n",
       "        vertical-align: middle;\n",
       "    }\n",
       "\n",
       "    .dataframe tbody tr th {\n",
       "        vertical-align: top;\n",
       "    }\n",
       "\n",
       "    .dataframe thead th {\n",
       "        text-align: right;\n",
       "    }\n",
       "</style>\n",
       "<table border=\"1\" class=\"dataframe\">\n",
       "  <thead>\n",
       "    <tr style=\"text-align: right;\">\n",
       "      <th></th>\n",
       "      <th>W0</th>\n",
       "      <th>v0</th>\n",
       "      <th>y</th>\n",
       "      <th>propensity_score</th>\n",
       "      <th>weight</th>\n",
       "    </tr>\n",
       "  </thead>\n",
       "  <tbody>\n",
       "    <tr>\n",
       "      <th>0</th>\n",
       "      <td>0.084019</td>\n",
       "      <td>False</td>\n",
       "      <td>1.654312</td>\n",
       "      <td>0.500639</td>\n",
       "      <td>1.997447</td>\n",
       "    </tr>\n",
       "    <tr>\n",
       "      <th>1</th>\n",
       "      <td>0.462284</td>\n",
       "      <td>False</td>\n",
       "      <td>0.976550</td>\n",
       "      <td>0.470284</td>\n",
       "      <td>2.126376</td>\n",
       "    </tr>\n",
       "    <tr>\n",
       "      <th>2</th>\n",
       "      <td>2.191304</td>\n",
       "      <td>False</td>\n",
       "      <td>4.638848</td>\n",
       "      <td>0.337455</td>\n",
       "      <td>2.963354</td>\n",
       "    </tr>\n",
       "    <tr>\n",
       "      <th>3</th>\n",
       "      <td>0.231865</td>\n",
       "      <td>False</td>\n",
       "      <td>0.514950</td>\n",
       "      <td>0.488763</td>\n",
       "      <td>2.045982</td>\n",
       "    </tr>\n",
       "    <tr>\n",
       "      <th>4</th>\n",
       "      <td>-1.645870</td>\n",
       "      <td>False</td>\n",
       "      <td>-5.343101</td>\n",
       "      <td>0.636102</td>\n",
       "      <td>1.572075</td>\n",
       "    </tr>\n",
       "    <tr>\n",
       "      <th>...</th>\n",
       "      <td>...</td>\n",
       "      <td>...</td>\n",
       "      <td>...</td>\n",
       "      <td>...</td>\n",
       "      <td>...</td>\n",
       "    </tr>\n",
       "    <tr>\n",
       "      <th>995</th>\n",
       "      <td>-0.517800</td>\n",
       "      <td>False</td>\n",
       "      <td>-0.916400</td>\n",
       "      <td>0.548834</td>\n",
       "      <td>1.822044</td>\n",
       "    </tr>\n",
       "    <tr>\n",
       "      <th>996</th>\n",
       "      <td>-0.611545</td>\n",
       "      <td>False</td>\n",
       "      <td>-1.244183</td>\n",
       "      <td>0.556282</td>\n",
       "      <td>1.797648</td>\n",
       "    </tr>\n",
       "    <tr>\n",
       "      <th>997</th>\n",
       "      <td>-1.645870</td>\n",
       "      <td>False</td>\n",
       "      <td>-5.343101</td>\n",
       "      <td>0.636102</td>\n",
       "      <td>1.572075</td>\n",
       "    </tr>\n",
       "    <tr>\n",
       "      <th>998</th>\n",
       "      <td>1.503125</td>\n",
       "      <td>False</td>\n",
       "      <td>3.016312</td>\n",
       "      <td>0.388530</td>\n",
       "      <td>2.573806</td>\n",
       "    </tr>\n",
       "    <tr>\n",
       "      <th>999</th>\n",
       "      <td>0.406310</td>\n",
       "      <td>False</td>\n",
       "      <td>-0.281955</td>\n",
       "      <td>0.474767</td>\n",
       "      <td>2.106296</td>\n",
       "    </tr>\n",
       "  </tbody>\n",
       "</table>\n",
       "<p>1000 rows × 5 columns</p>\n",
       "</div>"
      ],
      "text/plain": [
       "           W0     v0         y  propensity_score    weight\n",
       "0    0.084019  False  1.654312          0.500639  1.997447\n",
       "1    0.462284  False  0.976550          0.470284  2.126376\n",
       "2    2.191304  False  4.638848          0.337455  2.963354\n",
       "3    0.231865  False  0.514950          0.488763  2.045982\n",
       "4   -1.645870  False -5.343101          0.636102  1.572075\n",
       "..        ...    ...       ...               ...       ...\n",
       "995 -0.517800  False -0.916400          0.548834  1.822044\n",
       "996 -0.611545  False -1.244183          0.556282  1.797648\n",
       "997 -1.645870  False -5.343101          0.636102  1.572075\n",
       "998  1.503125  False  3.016312          0.388530  2.573806\n",
       "999  0.406310  False -0.281955          0.474767  2.106296\n",
       "\n",
       "[1000 rows x 5 columns]"
      ]
     },
     "execution_count": 6,
     "metadata": {},
     "output_type": "execute_result"
    }
   ],
   "source": [
    "cdf_0"
   ]
  },
  {
   "cell_type": "code",
   "execution_count": 7,
   "metadata": {
    "execution": {
     "iopub.execute_input": "2023-05-06T08:52:13.844082Z",
     "iopub.status.busy": "2023-05-06T08:52:13.843765Z",
     "iopub.status.idle": "2023-05-06T08:52:13.855131Z",
     "shell.execute_reply": "2023-05-06T08:52:13.854597Z"
    }
   },
   "outputs": [
    {
     "data": {
      "text/html": [
       "<div>\n",
       "<style scoped>\n",
       "    .dataframe tbody tr th:only-of-type {\n",
       "        vertical-align: middle;\n",
       "    }\n",
       "\n",
       "    .dataframe tbody tr th {\n",
       "        vertical-align: top;\n",
       "    }\n",
       "\n",
       "    .dataframe thead th {\n",
       "        text-align: right;\n",
       "    }\n",
       "</style>\n",
       "<table border=\"1\" class=\"dataframe\">\n",
       "  <thead>\n",
       "    <tr style=\"text-align: right;\">\n",
       "      <th></th>\n",
       "      <th>W0</th>\n",
       "      <th>v0</th>\n",
       "      <th>y</th>\n",
       "      <th>propensity_score</th>\n",
       "      <th>weight</th>\n",
       "    </tr>\n",
       "  </thead>\n",
       "  <tbody>\n",
       "    <tr>\n",
       "      <th>0</th>\n",
       "      <td>0.518242</td>\n",
       "      <td>True</td>\n",
       "      <td>6.733481</td>\n",
       "      <td>0.534194</td>\n",
       "      <td>1.871980</td>\n",
       "    </tr>\n",
       "    <tr>\n",
       "      <th>1</th>\n",
       "      <td>-1.187787</td>\n",
       "      <td>True</td>\n",
       "      <td>1.455641</td>\n",
       "      <td>0.398607</td>\n",
       "      <td>2.508736</td>\n",
       "    </tr>\n",
       "    <tr>\n",
       "      <th>2</th>\n",
       "      <td>-0.681865</td>\n",
       "      <td>True</td>\n",
       "      <td>3.378222</td>\n",
       "      <td>0.438147</td>\n",
       "      <td>2.282339</td>\n",
       "    </tr>\n",
       "    <tr>\n",
       "      <th>3</th>\n",
       "      <td>0.269556</td>\n",
       "      <td>True</td>\n",
       "      <td>6.487115</td>\n",
       "      <td>0.514263</td>\n",
       "      <td>1.944529</td>\n",
       "    </tr>\n",
       "    <tr>\n",
       "      <th>4</th>\n",
       "      <td>0.500095</td>\n",
       "      <td>True</td>\n",
       "      <td>6.270488</td>\n",
       "      <td>0.532742</td>\n",
       "      <td>1.877081</td>\n",
       "    </tr>\n",
       "    <tr>\n",
       "      <th>...</th>\n",
       "      <td>...</td>\n",
       "      <td>...</td>\n",
       "      <td>...</td>\n",
       "      <td>...</td>\n",
       "      <td>...</td>\n",
       "    </tr>\n",
       "    <tr>\n",
       "      <th>995</th>\n",
       "      <td>-1.046768</td>\n",
       "      <td>True</td>\n",
       "      <td>2.776647</td>\n",
       "      <td>0.409519</td>\n",
       "      <td>2.441888</td>\n",
       "    </tr>\n",
       "    <tr>\n",
       "      <th>996</th>\n",
       "      <td>-0.193712</td>\n",
       "      <td>True</td>\n",
       "      <td>2.716079</td>\n",
       "      <td>0.477064</td>\n",
       "      <td>2.096156</td>\n",
       "    </tr>\n",
       "    <tr>\n",
       "      <th>997</th>\n",
       "      <td>1.168266</td>\n",
       "      <td>True</td>\n",
       "      <td>7.447160</td>\n",
       "      <td>0.585619</td>\n",
       "      <td>1.707594</td>\n",
       "    </tr>\n",
       "    <tr>\n",
       "      <th>998</th>\n",
       "      <td>0.739665</td>\n",
       "      <td>True</td>\n",
       "      <td>7.171595</td>\n",
       "      <td>0.551849</td>\n",
       "      <td>1.812088</td>\n",
       "    </tr>\n",
       "    <tr>\n",
       "      <th>999</th>\n",
       "      <td>0.743868</td>\n",
       "      <td>True</td>\n",
       "      <td>8.023874</td>\n",
       "      <td>0.552183</td>\n",
       "      <td>1.810992</td>\n",
       "    </tr>\n",
       "  </tbody>\n",
       "</table>\n",
       "<p>1000 rows × 5 columns</p>\n",
       "</div>"
      ],
      "text/plain": [
       "           W0    v0         y  propensity_score    weight\n",
       "0    0.518242  True  6.733481          0.534194  1.871980\n",
       "1   -1.187787  True  1.455641          0.398607  2.508736\n",
       "2   -0.681865  True  3.378222          0.438147  2.282339\n",
       "3    0.269556  True  6.487115          0.514263  1.944529\n",
       "4    0.500095  True  6.270488          0.532742  1.877081\n",
       "..        ...   ...       ...               ...       ...\n",
       "995 -1.046768  True  2.776647          0.409519  2.441888\n",
       "996 -0.193712  True  2.716079          0.477064  2.096156\n",
       "997  1.168266  True  7.447160          0.585619  1.707594\n",
       "998  0.739665  True  7.171595          0.551849  1.812088\n",
       "999  0.743868  True  8.023874          0.552183  1.810992\n",
       "\n",
       "[1000 rows x 5 columns]"
      ]
     },
     "execution_count": 7,
     "metadata": {},
     "output_type": "execute_result"
    }
   ],
   "source": [
    "cdf_1"
   ]
  },
  {
   "cell_type": "markdown",
   "metadata": {},
   "source": [
    "## Comparing the estimate to Linear Regression\n",
    "First, estimating the effect using the causal data frame, and the 95% confidence interval."
   ]
  },
  {
   "cell_type": "code",
   "execution_count": 8,
   "metadata": {
    "execution": {
     "iopub.execute_input": "2023-05-06T08:52:13.857978Z",
     "iopub.status.busy": "2023-05-06T08:52:13.857481Z",
     "iopub.status.idle": "2023-05-06T08:52:13.915774Z",
     "shell.execute_reply": "2023-05-06T08:52:13.914902Z"
    }
   },
   "outputs": [
    {
     "data": {
      "image/png": "[encoded data removed]",
      "text/latex": [
       "$\\displaystyle 4.70627599577905$"
      ],
      "text/plain": [
       "4.706275995779052"
      ]
     },
     "execution_count": 8,
     "metadata": {},
     "output_type": "execute_result"
    }
   ],
   "source": [
    "(cdf_1['y'] - cdf_0['y']).mean()"
   ]
  },
  {
   "cell_type": "code",
   "execution_count": 9,
   "metadata": {
    "execution": {
     "iopub.execute_input": "2023-05-06T08:52:13.918492Z",
     "iopub.status.busy": "2023-05-06T08:52:13.917989Z",
     "iopub.status.idle": "2023-05-06T08:52:13.938154Z",
     "shell.execute_reply": "2023-05-06T08:52:13.937564Z"
    }
   },
   "outputs": [
    {
     "data": {
      "image/png": "[encoded data removed]",
      "text/latex": [
       "$\\displaystyle 0.242027086546767$"
      ],
      "text/plain": [
       "0.24202708654676722"
      ]
     },
     "execution_count": 9,
     "metadata": {},
     "output_type": "execute_result"
    }
   ],
   "source": [
    "1.96*(cdf_1['y'] - cdf_0['y']).std() / np.sqrt(len(df))"
   ]
  },
  {
   "cell_type": "markdown",
   "metadata": {},
   "source": [
    "Comparing to the estimate from OLS."
   ]
  },
  {
   "cell_type": "code",
   "execution_count": 10,
   "metadata": {
    "execution": {
     "iopub.execute_input": "2023-05-06T08:52:13.940874Z",
     "iopub.status.busy": "2023-05-06T08:52:13.940409Z",
     "iopub.status.idle": "2023-05-06T08:52:13.954910Z",
     "shell.execute_reply": "2023-05-06T08:52:13.954304Z"
    }
   },
   "outputs": [
    {
     "data": {
      "text/html": [
       "<table class=\"simpletable\">\n",
       "<caption>OLS Regression Results</caption>\n",
       "<tr>\n",
       "  <th>Dep. Variable:</th>            <td>y</td>        <th>  R-squared (uncentered):</th>      <td>   0.964</td> \n",
       "</tr>\n",
       "<tr>\n",
       "  <th>Model:</th>                   <td>OLS</td>       <th>  Adj. R-squared (uncentered):</th> <td>   0.964</td> \n",
       "</tr>\n",
       "<tr>\n",
       "  <th>Method:</th>             <td>Least Squares</td>  <th>  F-statistic:       </th>          <td>1.324e+04</td>\n",
       "</tr>\n",
       "<tr>\n",
       "  <th>Date:</th>             <td>Sat, 06 May 2023</td> <th>  Prob (F-statistic):</th>           <td>  0.00</td>  \n",
       "</tr>\n",
       "<tr>\n",
       "  <th>Time:</th>                 <td>08:52:13</td>     <th>  Log-Likelihood:    </th>          <td> -1418.9</td> \n",
       "</tr>\n",
       "<tr>\n",
       "  <th>No. Observations:</th>      <td>  1000</td>      <th>  AIC:               </th>          <td>   2842.</td> \n",
       "</tr>\n",
       "<tr>\n",
       "  <th>Df Residuals:</th>          <td>   998</td>      <th>  BIC:               </th>          <td>   2852.</td> \n",
       "</tr>\n",
       "<tr>\n",
       "  <th>Df Model:</th>              <td>     2</td>      <th>                     </th>              <td> </td>    \n",
       "</tr>\n",
       "<tr>\n",
       "  <th>Covariance Type:</th>      <td>nonrobust</td>    <th>                     </th>              <td> </td>    \n",
       "</tr>\n",
       "</table>\n",
       "<table class=\"simpletable\">\n",
       "<tr>\n",
       "   <td></td>     <th>coef</th>     <th>std err</th>      <th>t</th>      <th>P>|t|</th>  <th>[0.025</th>    <th>0.975]</th>  \n",
       "</tr>\n",
       "<tr>\n",
       "  <th>x1</th> <td>    2.5545</td> <td>    0.032</td> <td>   79.210</td> <td> 0.000</td> <td>    2.491</td> <td>    2.618</td>\n",
       "</tr>\n",
       "<tr>\n",
       "  <th>x2</th> <td>    4.9802</td> <td>    0.047</td> <td>  106.680</td> <td> 0.000</td> <td>    4.889</td> <td>    5.072</td>\n",
       "</tr>\n",
       "</table>\n",
       "<table class=\"simpletable\">\n",
       "<tr>\n",
       "  <th>Omnibus:</th>       <td> 1.844</td> <th>  Durbin-Watson:     </th> <td>   2.039</td>\n",
       "</tr>\n",
       "<tr>\n",
       "  <th>Prob(Omnibus):</th> <td> 0.398</td> <th>  Jarque-Bera (JB):  </th> <td>   1.725</td>\n",
       "</tr>\n",
       "<tr>\n",
       "  <th>Skew:</th>          <td> 0.015</td> <th>  Prob(JB):          </th> <td>   0.422</td>\n",
       "</tr>\n",
       "<tr>\n",
       "  <th>Kurtosis:</th>      <td> 2.799</td> <th>  Cond. No.          </th> <td>    1.68</td>\n",
       "</tr>\n",
       "</table><br/><br/>Notes:<br/>[1] R² is computed without centering (uncentered) since the model does not contain a constant.<br/>[2] Standard Errors assume that the covariance matrix of the errors is correctly specified."
      ],
      "text/plain": [
       "<class 'statsmodels.iolib.summary.Summary'>\n",
       "\"\"\"\n",
       "                                 OLS Regression Results                                \n",
       "=======================================================================================\n",
       "Dep. Variable:                      y   R-squared (uncentered):                   0.964\n",
       "Model:                            OLS   Adj. R-squared (uncentered):              0.964\n",
       "Method:                 Least Squares   F-statistic:                          1.324e+04\n",
       "Date:                Sat, 06 May 2023   Prob (F-statistic):                        0.00\n",
       "Time:                        08:52:13   Log-Likelihood:                         -1418.9\n",
       "No. Observations:                1000   AIC:                                      2842.\n",
       "Df Residuals:                     998   BIC:                                      2852.\n",
       "Df Model:                           2                                                  \n",
       "Covariance Type:            nonrobust                                                  \n",
       "==============================================================================\n",
       "                 coef    std err          t      P>|t|      [0.025      0.975]\n",
       "------------------------------------------------------------------------------\n",
       "x1             2.5545      0.032     79.210      0.000       2.491       2.618\n",
       "x2             4.9802      0.047    106.680      0.000       4.889       5.072\n",
       "==============================================================================\n",
       "Omnibus:                        1.844   Durbin-Watson:                   2.039\n",
       "Prob(Omnibus):                  0.398   Jarque-Bera (JB):                1.725\n",
       "Skew:                           0.015   Prob(JB):                        0.422\n",
       "Kurtosis:                       2.799   Cond. No.                         1.68\n",
       "==============================================================================\n",
       "\n",
       "Notes:\n",
       "[1] R² is computed without centering (uncentered) since the model does not contain a constant.\n",
       "[2] Standard Errors assume that the covariance matrix of the errors is correctly specified.\n",
       "\"\"\""
      ]
     },
     "execution_count": 10,
     "metadata": {},
     "output_type": "execute_result"
    }
   ],
   "source": [
    "model = OLS(np.asarray(df[outcome]), np.asarray(df[[common_cause, treatment]], dtype=np.float64))\n",
    "result = model.fit()\n",
    "result.summary()"
   ]
  }
 ],
 "metadata": {
  "kernelspec": {
   "display_name": "Python 3",
   "language": "python",
   "name": "python3"
  },
  "language_info": {
   "codemirror_mode": {
    "name": "ipython",
    "version": 3
   },
   "file_extension": ".py",
   "mimetype": "text/x-python",
   "name": "python",
   "nbconvert_exporter": "python",
   "pygments_lexer": "ipython3",
   "version": "3.8.10"
  },
  "toc": {
   "base_numbering": 1,
   "nav_menu": {},
   "number_sections": false,
   "sideBar": true,
   "skip_h1_title": true,
   "title_cell": "Table of Contents",
   "title_sidebar": "Contents",
   "toc_cell": false,
   "toc_position": {},
   "toc_section_display": true,
   "toc_window_display": false
  }
 },
 "nbformat": 4,
 "nbformat_minor": 4
}
