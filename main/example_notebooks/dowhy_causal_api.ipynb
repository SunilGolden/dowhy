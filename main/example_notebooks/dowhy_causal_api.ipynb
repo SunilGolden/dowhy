{
 "cells": [
  {
   "cell_type": "markdown",
   "metadata": {},
   "source": [
    "# Demo for the DoWhy causal API\n",
    "We show a simple example of adding a causal extension to any dataframe. "
   ]
  },
  {
   "cell_type": "code",
   "execution_count": 1,
   "metadata": {
    "execution": {
     "iopub.execute_input": "2023-02-10T14:39:35.138807Z",
     "iopub.status.busy": "2023-02-10T14:39:35.138600Z",
     "iopub.status.idle": "2023-02-10T14:39:36.739429Z",
     "shell.execute_reply": "2023-02-10T14:39:36.738781Z"
    }
   },
   "outputs": [],
   "source": [
    "import dowhy.datasets\n",
    "import dowhy.api\n",
    "\n",
    "import numpy as np\n",
    "import pandas as pd\n",
    "\n",
    "from statsmodels.api import OLS"
   ]
  },
  {
   "cell_type": "code",
   "execution_count": 2,
   "metadata": {
    "execution": {
     "iopub.execute_input": "2023-02-10T14:39:36.743110Z",
     "iopub.status.busy": "2023-02-10T14:39:36.742531Z",
     "iopub.status.idle": "2023-02-10T14:39:36.787256Z",
     "shell.execute_reply": "2023-02-10T14:39:36.786618Z"
    }
   },
   "outputs": [
    {
     "data": {
      "text/html": [
       "<div>\n",
       "<style scoped>\n",
       "    .dataframe tbody tr th:only-of-type {\n",
       "        vertical-align: middle;\n",
       "    }\n",
       "\n",
       "    .dataframe tbody tr th {\n",
       "        vertical-align: top;\n",
       "    }\n",
       "\n",
       "    .dataframe thead th {\n",
       "        text-align: right;\n",
       "    }\n",
       "</style>\n",
       "<table border=\"1\" class=\"dataframe\">\n",
       "  <thead>\n",
       "    <tr style=\"text-align: right;\">\n",
       "      <th></th>\n",
       "      <th>W0</th>\n",
       "      <th>v0</th>\n",
       "      <th>y</th>\n",
       "    </tr>\n",
       "  </thead>\n",
       "  <tbody>\n",
       "    <tr>\n",
       "      <th>0</th>\n",
       "      <td>-0.358169</td>\n",
       "      <td>True</td>\n",
       "      <td>5.617451</td>\n",
       "    </tr>\n",
       "    <tr>\n",
       "      <th>1</th>\n",
       "      <td>1.990848</td>\n",
       "      <td>True</td>\n",
       "      <td>5.883635</td>\n",
       "    </tr>\n",
       "    <tr>\n",
       "      <th>2</th>\n",
       "      <td>0.867012</td>\n",
       "      <td>False</td>\n",
       "      <td>0.070445</td>\n",
       "    </tr>\n",
       "    <tr>\n",
       "      <th>3</th>\n",
       "      <td>-0.094314</td>\n",
       "      <td>True</td>\n",
       "      <td>4.747691</td>\n",
       "    </tr>\n",
       "    <tr>\n",
       "      <th>4</th>\n",
       "      <td>2.109827</td>\n",
       "      <td>True</td>\n",
       "      <td>4.458469</td>\n",
       "    </tr>\n",
       "    <tr>\n",
       "      <th>...</th>\n",
       "      <td>...</td>\n",
       "      <td>...</td>\n",
       "      <td>...</td>\n",
       "    </tr>\n",
       "    <tr>\n",
       "      <th>995</th>\n",
       "      <td>0.829911</td>\n",
       "      <td>False</td>\n",
       "      <td>-1.473652</td>\n",
       "    </tr>\n",
       "    <tr>\n",
       "      <th>996</th>\n",
       "      <td>0.147732</td>\n",
       "      <td>True</td>\n",
       "      <td>3.551253</td>\n",
       "    </tr>\n",
       "    <tr>\n",
       "      <th>997</th>\n",
       "      <td>-0.056513</td>\n",
       "      <td>False</td>\n",
       "      <td>0.338218</td>\n",
       "    </tr>\n",
       "    <tr>\n",
       "      <th>998</th>\n",
       "      <td>-1.038256</td>\n",
       "      <td>False</td>\n",
       "      <td>1.159471</td>\n",
       "    </tr>\n",
       "    <tr>\n",
       "      <th>999</th>\n",
       "      <td>2.189894</td>\n",
       "      <td>True</td>\n",
       "      <td>5.502668</td>\n",
       "    </tr>\n",
       "  </tbody>\n",
       "</table>\n",
       "<p>1000 rows × 3 columns</p>\n",
       "</div>"
      ],
      "text/plain": [
       "           W0     v0         y\n",
       "0   -0.358169   True  5.617451\n",
       "1    1.990848   True  5.883635\n",
       "2    0.867012  False  0.070445\n",
       "3   -0.094314   True  4.747691\n",
       "4    2.109827   True  4.458469\n",
       "..        ...    ...       ...\n",
       "995  0.829911  False -1.473652\n",
       "996  0.147732   True  3.551253\n",
       "997 -0.056513  False  0.338218\n",
       "998 -1.038256  False  1.159471\n",
       "999  2.189894   True  5.502668\n",
       "\n",
       "[1000 rows x 3 columns]"
      ]
     },
     "execution_count": 2,
     "metadata": {},
     "output_type": "execute_result"
    }
   ],
   "source": [
    "data = dowhy.datasets.linear_dataset(beta=5,\n",
    "        num_common_causes=1,\n",
    "        num_instruments = 0,\n",
    "        num_samples=1000,\n",
    "        treatment_is_binary=True)\n",
    "df = data['df']\n",
    "df['y'] = df['y'] + np.random.normal(size=len(df)) # Adding noise to data. Without noise, the variance in Y|X, Z is zero, and mcmc fails.\n",
    "#data['dot_graph'] = 'digraph { v ->y;X0-> v;X0-> y;}'\n",
    "\n",
    "treatment= data[\"treatment_name\"][0]\n",
    "outcome = data[\"outcome_name\"][0]\n",
    "common_cause = data[\"common_causes_names\"][0]\n",
    "df"
   ]
  },
  {
   "cell_type": "code",
   "execution_count": 3,
   "metadata": {
    "execution": {
     "iopub.execute_input": "2023-02-10T14:39:36.790077Z",
     "iopub.status.busy": "2023-02-10T14:39:36.789738Z",
     "iopub.status.idle": "2023-02-10T14:39:37.024728Z",
     "shell.execute_reply": "2023-02-10T14:39:37.024189Z"
    }
   },
   "outputs": [
    {
     "data": {
      "text/plain": [
       "<AxesSubplot: xlabel='v0'>"
      ]
     },
     "execution_count": 3,
     "metadata": {},
     "output_type": "execute_result"
    },
    {
     "data": {
      "image/png": "[encoded data removed]",
      "text/plain": [
       "<Figure size 640x480 with 1 Axes>"
      ]
     },
     "metadata": {},
     "output_type": "display_data"
    }
   ],
   "source": [
    "# data['df'] is just a regular pandas.DataFrame\n",
    "df.causal.do(x=treatment,\n",
    "                     variable_types={treatment: 'b', outcome: 'c', common_cause: 'c'},\n",
    "                     outcome=outcome,\n",
    "                     common_causes=[common_cause],\n",
    "                     proceed_when_unidentifiable=True).groupby(treatment).mean().plot(y=outcome, kind='bar')"
   ]
  },
  {
   "cell_type": "code",
   "execution_count": 4,
   "metadata": {
    "execution": {
     "iopub.execute_input": "2023-02-10T14:39:37.027921Z",
     "iopub.status.busy": "2023-02-10T14:39:37.027681Z",
     "iopub.status.idle": "2023-02-10T14:39:37.140342Z",
     "shell.execute_reply": "2023-02-10T14:39:37.139828Z"
    }
   },
   "outputs": [
    {
     "data": {
      "text/plain": [
       "<AxesSubplot: xlabel='v0'>"
      ]
     },
     "execution_count": 4,
     "metadata": {},
     "output_type": "execute_result"
    },
    {
     "data": {
      "image/png": "[encoded data removed]",
      "text/plain": [
       "<Figure size 640x480 with 1 Axes>"
      ]
     },
     "metadata": {},
     "output_type": "display_data"
    }
   ],
   "source": [
    "df.causal.do(x={treatment: 1}, \n",
    "              variable_types={treatment:'b', outcome: 'c', common_cause: 'c'}, \n",
    "              outcome=outcome,\n",
    "              method='weighting', \n",
    "              common_causes=[common_cause],\n",
    "              proceed_when_unidentifiable=True).groupby(treatment).mean().plot(y=outcome, kind='bar')"
   ]
  },
  {
   "cell_type": "code",
   "execution_count": 5,
   "metadata": {
    "execution": {
     "iopub.execute_input": "2023-02-10T14:39:37.143183Z",
     "iopub.status.busy": "2023-02-10T14:39:37.142807Z",
     "iopub.status.idle": "2023-02-10T14:39:37.173191Z",
     "shell.execute_reply": "2023-02-10T14:39:37.172496Z"
    }
   },
   "outputs": [],
   "source": [
    "cdf_1 = df.causal.do(x={treatment: 1}, \n",
    "              variable_types={treatment: 'b', outcome: 'c', common_cause: 'c'}, \n",
    "              outcome=outcome, \n",
    "              dot_graph=data['dot_graph'],\n",
    "              proceed_when_unidentifiable=True)\n",
    "\n",
    "cdf_0 = df.causal.do(x={treatment: 0}, \n",
    "              variable_types={treatment: 'b', outcome: 'c', common_cause: 'c'}, \n",
    "              outcome=outcome, \n",
    "              dot_graph=data['dot_graph'],\n",
    "              proceed_when_unidentifiable=True)\n"
   ]
  },
  {
   "cell_type": "code",
   "execution_count": 6,
   "metadata": {
    "execution": {
     "iopub.execute_input": "2023-02-10T14:39:37.176311Z",
     "iopub.status.busy": "2023-02-10T14:39:37.175964Z",
     "iopub.status.idle": "2023-02-10T14:39:37.185905Z",
     "shell.execute_reply": "2023-02-10T14:39:37.185388Z"
    },
    "scrolled": true
   },
   "outputs": [
    {
     "data": {
      "text/html": [
       "<div>\n",
       "<style scoped>\n",
       "    .dataframe tbody tr th:only-of-type {\n",
       "        vertical-align: middle;\n",
       "    }\n",
       "\n",
       "    .dataframe tbody tr th {\n",
       "        vertical-align: top;\n",
       "    }\n",
       "\n",
       "    .dataframe thead th {\n",
       "        text-align: right;\n",
       "    }\n",
       "</style>\n",
       "<table border=\"1\" class=\"dataframe\">\n",
       "  <thead>\n",
       "    <tr style=\"text-align: right;\">\n",
       "      <th></th>\n",
       "      <th>W0</th>\n",
       "      <th>v0</th>\n",
       "      <th>y</th>\n",
       "      <th>propensity_score</th>\n",
       "      <th>weight</th>\n",
       "    </tr>\n",
       "  </thead>\n",
       "  <tbody>\n",
       "    <tr>\n",
       "      <th>0</th>\n",
       "      <td>0.967359</td>\n",
       "      <td>False</td>\n",
       "      <td>1.153114</td>\n",
       "      <td>0.331150</td>\n",
       "      <td>3.019782</td>\n",
       "    </tr>\n",
       "    <tr>\n",
       "      <th>1</th>\n",
       "      <td>0.763423</td>\n",
       "      <td>False</td>\n",
       "      <td>0.415024</td>\n",
       "      <td>0.367444</td>\n",
       "      <td>2.721504</td>\n",
       "    </tr>\n",
       "    <tr>\n",
       "      <th>2</th>\n",
       "      <td>-0.017107</td>\n",
       "      <td>False</td>\n",
       "      <td>-1.574533</td>\n",
       "      <td>0.517087</td>\n",
       "      <td>1.933911</td>\n",
       "    </tr>\n",
       "    <tr>\n",
       "      <th>3</th>\n",
       "      <td>0.572470</td>\n",
       "      <td>False</td>\n",
       "      <td>0.826122</td>\n",
       "      <td>0.402856</td>\n",
       "      <td>2.482278</td>\n",
       "    </tr>\n",
       "    <tr>\n",
       "      <th>4</th>\n",
       "      <td>-0.145987</td>\n",
       "      <td>False</td>\n",
       "      <td>-0.853886</td>\n",
       "      <td>0.542238</td>\n",
       "      <td>1.844208</td>\n",
       "    </tr>\n",
       "    <tr>\n",
       "      <th>...</th>\n",
       "      <td>...</td>\n",
       "      <td>...</td>\n",
       "      <td>...</td>\n",
       "      <td>...</td>\n",
       "      <td>...</td>\n",
       "    </tr>\n",
       "    <tr>\n",
       "      <th>995</th>\n",
       "      <td>-0.348021</td>\n",
       "      <td>False</td>\n",
       "      <td>0.960904</td>\n",
       "      <td>0.581189</td>\n",
       "      <td>1.720610</td>\n",
       "    </tr>\n",
       "    <tr>\n",
       "      <th>996</th>\n",
       "      <td>-0.523650</td>\n",
       "      <td>False</td>\n",
       "      <td>-2.005070</td>\n",
       "      <td>0.614263</td>\n",
       "      <td>1.627967</td>\n",
       "    </tr>\n",
       "    <tr>\n",
       "      <th>997</th>\n",
       "      <td>0.845820</td>\n",
       "      <td>False</td>\n",
       "      <td>-0.093391</td>\n",
       "      <td>0.352570</td>\n",
       "      <td>2.836313</td>\n",
       "    </tr>\n",
       "    <tr>\n",
       "      <th>998</th>\n",
       "      <td>2.097017</td>\n",
       "      <td>False</td>\n",
       "      <td>-0.919759</td>\n",
       "      <td>0.169649</td>\n",
       "      <td>5.894523</td>\n",
       "    </tr>\n",
       "    <tr>\n",
       "      <th>999</th>\n",
       "      <td>1.719629</td>\n",
       "      <td>False</td>\n",
       "      <td>0.034218</td>\n",
       "      <td>0.215444</td>\n",
       "      <td>4.641588</td>\n",
       "    </tr>\n",
       "  </tbody>\n",
       "</table>\n",
       "<p>1000 rows × 5 columns</p>\n",
       "</div>"
      ],
      "text/plain": [
       "           W0     v0         y  propensity_score    weight\n",
       "0    0.967359  False  1.153114          0.331150  3.019782\n",
       "1    0.763423  False  0.415024          0.367444  2.721504\n",
       "2   -0.017107  False -1.574533          0.517087  1.933911\n",
       "3    0.572470  False  0.826122          0.402856  2.482278\n",
       "4   -0.145987  False -0.853886          0.542238  1.844208\n",
       "..        ...    ...       ...               ...       ...\n",
       "995 -0.348021  False  0.960904          0.581189  1.720610\n",
       "996 -0.523650  False -2.005070          0.614263  1.627967\n",
       "997  0.845820  False -0.093391          0.352570  2.836313\n",
       "998  2.097017  False -0.919759          0.169649  5.894523\n",
       "999  1.719629  False  0.034218          0.215444  4.641588\n",
       "\n",
       "[1000 rows x 5 columns]"
      ]
     },
     "execution_count": 6,
     "metadata": {},
     "output_type": "execute_result"
    }
   ],
   "source": [
    "cdf_0"
   ]
  },
  {
   "cell_type": "code",
   "execution_count": 7,
   "metadata": {
    "execution": {
     "iopub.execute_input": "2023-02-10T14:39:37.188505Z",
     "iopub.status.busy": "2023-02-10T14:39:37.188182Z",
     "iopub.status.idle": "2023-02-10T14:39:37.197886Z",
     "shell.execute_reply": "2023-02-10T14:39:37.197401Z"
    }
   },
   "outputs": [
    {
     "data": {
      "text/html": [
       "<div>\n",
       "<style scoped>\n",
       "    .dataframe tbody tr th:only-of-type {\n",
       "        vertical-align: middle;\n",
       "    }\n",
       "\n",
       "    .dataframe tbody tr th {\n",
       "        vertical-align: top;\n",
       "    }\n",
       "\n",
       "    .dataframe thead th {\n",
       "        text-align: right;\n",
       "    }\n",
       "</style>\n",
       "<table border=\"1\" class=\"dataframe\">\n",
       "  <thead>\n",
       "    <tr style=\"text-align: right;\">\n",
       "      <th></th>\n",
       "      <th>W0</th>\n",
       "      <th>v0</th>\n",
       "      <th>y</th>\n",
       "      <th>propensity_score</th>\n",
       "      <th>weight</th>\n",
       "    </tr>\n",
       "  </thead>\n",
       "  <tbody>\n",
       "    <tr>\n",
       "      <th>0</th>\n",
       "      <td>1.866355</td>\n",
       "      <td>True</td>\n",
       "      <td>5.014511</td>\n",
       "      <td>0.803353</td>\n",
       "      <td>1.244783</td>\n",
       "    </tr>\n",
       "    <tr>\n",
       "      <th>1</th>\n",
       "      <td>1.443695</td>\n",
       "      <td>True</td>\n",
       "      <td>4.315689</td>\n",
       "      <td>0.745777</td>\n",
       "      <td>1.340883</td>\n",
       "    </tr>\n",
       "    <tr>\n",
       "      <th>2</th>\n",
       "      <td>2.431857</td>\n",
       "      <td>True</td>\n",
       "      <td>4.187088</td>\n",
       "      <td>0.864183</td>\n",
       "      <td>1.157162</td>\n",
       "    </tr>\n",
       "    <tr>\n",
       "      <th>3</th>\n",
       "      <td>1.765354</td>\n",
       "      <td>True</td>\n",
       "      <td>4.378604</td>\n",
       "      <td>0.790550</td>\n",
       "      <td>1.264941</td>\n",
       "    </tr>\n",
       "    <tr>\n",
       "      <th>4</th>\n",
       "      <td>2.635483</td>\n",
       "      <td>True</td>\n",
       "      <td>6.177609</td>\n",
       "      <td>0.881846</td>\n",
       "      <td>1.133985</td>\n",
       "    </tr>\n",
       "    <tr>\n",
       "      <th>...</th>\n",
       "      <td>...</td>\n",
       "      <td>...</td>\n",
       "      <td>...</td>\n",
       "      <td>...</td>\n",
       "      <td>...</td>\n",
       "    </tr>\n",
       "    <tr>\n",
       "      <th>995</th>\n",
       "      <td>0.779226</td>\n",
       "      <td>True</td>\n",
       "      <td>4.637006</td>\n",
       "      <td>0.635429</td>\n",
       "      <td>1.573739</td>\n",
       "    </tr>\n",
       "    <tr>\n",
       "      <th>996</th>\n",
       "      <td>-0.237416</td>\n",
       "      <td>True</td>\n",
       "      <td>4.108832</td>\n",
       "      <td>0.440041</td>\n",
       "      <td>2.272514</td>\n",
       "    </tr>\n",
       "    <tr>\n",
       "      <th>997</th>\n",
       "      <td>0.742948</td>\n",
       "      <td>True</td>\n",
       "      <td>5.822929</td>\n",
       "      <td>0.628819</td>\n",
       "      <td>1.590282</td>\n",
       "    </tr>\n",
       "    <tr>\n",
       "      <th>998</th>\n",
       "      <td>1.117563</td>\n",
       "      <td>True</td>\n",
       "      <td>3.892358</td>\n",
       "      <td>0.694381</td>\n",
       "      <td>1.440132</td>\n",
       "    </tr>\n",
       "    <tr>\n",
       "      <th>999</th>\n",
       "      <td>2.177472</td>\n",
       "      <td>True</td>\n",
       "      <td>4.395378</td>\n",
       "      <td>0.839047</td>\n",
       "      <td>1.191828</td>\n",
       "    </tr>\n",
       "  </tbody>\n",
       "</table>\n",
       "<p>1000 rows × 5 columns</p>\n",
       "</div>"
      ],
      "text/plain": [
       "           W0    v0         y  propensity_score    weight\n",
       "0    1.866355  True  5.014511          0.803353  1.244783\n",
       "1    1.443695  True  4.315689          0.745777  1.340883\n",
       "2    2.431857  True  4.187088          0.864183  1.157162\n",
       "3    1.765354  True  4.378604          0.790550  1.264941\n",
       "4    2.635483  True  6.177609          0.881846  1.133985\n",
       "..        ...   ...       ...               ...       ...\n",
       "995  0.779226  True  4.637006          0.635429  1.573739\n",
       "996 -0.237416  True  4.108832          0.440041  2.272514\n",
       "997  0.742948  True  5.822929          0.628819  1.590282\n",
       "998  1.117563  True  3.892358          0.694381  1.440132\n",
       "999  2.177472  True  4.395378          0.839047  1.191828\n",
       "\n",
       "[1000 rows x 5 columns]"
      ]
     },
     "execution_count": 7,
     "metadata": {},
     "output_type": "execute_result"
    }
   ],
   "source": [
    "cdf_1"
   ]
  },
  {
   "cell_type": "markdown",
   "metadata": {},
   "source": [
    "## Comparing the estimate to Linear Regression\n",
    "First, estimating the effect using the causal data frame, and the 95% confidence interval."
   ]
  },
  {
   "cell_type": "code",
   "execution_count": 8,
   "metadata": {
    "execution": {
     "iopub.execute_input": "2023-02-10T14:39:37.200547Z",
     "iopub.status.busy": "2023-02-10T14:39:37.200178Z",
     "iopub.status.idle": "2023-02-10T14:39:37.258082Z",
     "shell.execute_reply": "2023-02-10T14:39:37.257556Z"
    }
   },
   "outputs": [
    {
     "data": {
      "image/png": "[encoded data removed]",
      "text/latex": [
       "$\\displaystyle 5.04269441651381$"
      ],
      "text/plain": [
       "5.042694416513811"
      ]
     },
     "execution_count": 8,
     "metadata": {},
     "output_type": "execute_result"
    }
   ],
   "source": [
    "(cdf_1['y'] - cdf_0['y']).mean()"
   ]
  },
  {
   "cell_type": "code",
   "execution_count": 9,
   "metadata": {
    "execution": {
     "iopub.execute_input": "2023-02-10T14:39:37.260748Z",
     "iopub.status.busy": "2023-02-10T14:39:37.260409Z",
     "iopub.status.idle": "2023-02-10T14:39:37.281119Z",
     "shell.execute_reply": "2023-02-10T14:39:37.280468Z"
    }
   },
   "outputs": [
    {
     "data": {
      "image/png": "[encoded data removed]",
      "text/latex": [
       "$\\displaystyle 0.0838259469731684$"
      ],
      "text/plain": [
       "0.08382594697316839"
      ]
     },
     "execution_count": 9,
     "metadata": {},
     "output_type": "execute_result"
    }
   ],
   "source": [
    "1.96*(cdf_1['y'] - cdf_0['y']).std() / np.sqrt(len(df))"
   ]
  },
  {
   "cell_type": "markdown",
   "metadata": {},
   "source": [
    "Comparing to the estimate from OLS."
   ]
  },
  {
   "cell_type": "code",
   "execution_count": 10,
   "metadata": {
    "execution": {
     "iopub.execute_input": "2023-02-10T14:39:37.283947Z",
     "iopub.status.busy": "2023-02-10T14:39:37.283617Z",
     "iopub.status.idle": "2023-02-10T14:39:37.298773Z",
     "shell.execute_reply": "2023-02-10T14:39:37.298160Z"
    }
   },
   "outputs": [
    {
     "data": {
      "text/html": [
       "<table class=\"simpletable\">\n",
       "<caption>OLS Regression Results</caption>\n",
       "<tr>\n",
       "  <th>Dep. Variable:</th>            <td>y</td>        <th>  R-squared (uncentered):</th>      <td>   0.945</td>\n",
       "</tr>\n",
       "<tr>\n",
       "  <th>Model:</th>                   <td>OLS</td>       <th>  Adj. R-squared (uncentered):</th> <td>   0.945</td>\n",
       "</tr>\n",
       "<tr>\n",
       "  <th>Method:</th>             <td>Least Squares</td>  <th>  F-statistic:       </th>          <td>   8534.</td>\n",
       "</tr>\n",
       "<tr>\n",
       "  <th>Date:</th>             <td>Fri, 10 Feb 2023</td> <th>  Prob (F-statistic):</th>           <td>  0.00</td> \n",
       "</tr>\n",
       "<tr>\n",
       "  <th>Time:</th>                 <td>14:39:37</td>     <th>  Log-Likelihood:    </th>          <td> -1387.1</td>\n",
       "</tr>\n",
       "<tr>\n",
       "  <th>No. Observations:</th>      <td>  1000</td>      <th>  AIC:               </th>          <td>   2778.</td>\n",
       "</tr>\n",
       "<tr>\n",
       "  <th>Df Residuals:</th>          <td>   998</td>      <th>  BIC:               </th>          <td>   2788.</td>\n",
       "</tr>\n",
       "<tr>\n",
       "  <th>Df Model:</th>              <td>     2</td>      <th>                     </th>              <td> </td>   \n",
       "</tr>\n",
       "<tr>\n",
       "  <th>Covariance Type:</th>      <td>nonrobust</td>    <th>                     </th>              <td> </td>   \n",
       "</tr>\n",
       "</table>\n",
       "<table class=\"simpletable\">\n",
       "<tr>\n",
       "   <td></td>     <th>coef</th>     <th>std err</th>      <th>t</th>      <th>P>|t|</th>  <th>[0.025</th>    <th>0.975]</th>  \n",
       "</tr>\n",
       "<tr>\n",
       "  <th>x1</th> <td>   -0.0131</td> <td>    0.031</td> <td>   -0.424</td> <td> 0.672</td> <td>   -0.074</td> <td>    0.048</td>\n",
       "</tr>\n",
       "<tr>\n",
       "  <th>x2</th> <td>    4.9845</td> <td>    0.053</td> <td>   93.433</td> <td> 0.000</td> <td>    4.880</td> <td>    5.089</td>\n",
       "</tr>\n",
       "</table>\n",
       "<table class=\"simpletable\">\n",
       "<tr>\n",
       "  <th>Omnibus:</th>       <td> 7.284</td> <th>  Durbin-Watson:     </th> <td>   1.899</td>\n",
       "</tr>\n",
       "<tr>\n",
       "  <th>Prob(Omnibus):</th> <td> 0.026</td> <th>  Jarque-Bera (JB):  </th> <td>   9.760</td>\n",
       "</tr>\n",
       "<tr>\n",
       "  <th>Skew:</th>          <td> 0.034</td> <th>  Prob(JB):          </th> <td> 0.00760</td>\n",
       "</tr>\n",
       "<tr>\n",
       "  <th>Kurtosis:</th>      <td> 3.479</td> <th>  Cond. No.          </th> <td>    2.88</td>\n",
       "</tr>\n",
       "</table><br/><br/>Notes:<br/>[1] R² is computed without centering (uncentered) since the model does not contain a constant.<br/>[2] Standard Errors assume that the covariance matrix of the errors is correctly specified."
      ],
      "text/plain": [
       "<class 'statsmodels.iolib.summary.Summary'>\n",
       "\"\"\"\n",
       "                                 OLS Regression Results                                \n",
       "=======================================================================================\n",
       "Dep. Variable:                      y   R-squared (uncentered):                   0.945\n",
       "Model:                            OLS   Adj. R-squared (uncentered):              0.945\n",
       "Method:                 Least Squares   F-statistic:                              8534.\n",
       "Date:                Fri, 10 Feb 2023   Prob (F-statistic):                        0.00\n",
       "Time:                        14:39:37   Log-Likelihood:                         -1387.1\n",
       "No. Observations:                1000   AIC:                                      2778.\n",
       "Df Residuals:                     998   BIC:                                      2788.\n",
       "Df Model:                           2                                                  \n",
       "Covariance Type:            nonrobust                                                  \n",
       "==============================================================================\n",
       "                 coef    std err          t      P>|t|      [0.025      0.975]\n",
       "------------------------------------------------------------------------------\n",
       "x1            -0.0131      0.031     -0.424      0.672      -0.074       0.048\n",
       "x2             4.9845      0.053     93.433      0.000       4.880       5.089\n",
       "==============================================================================\n",
       "Omnibus:                        7.284   Durbin-Watson:                   1.899\n",
       "Prob(Omnibus):                  0.026   Jarque-Bera (JB):                9.760\n",
       "Skew:                           0.034   Prob(JB):                      0.00760\n",
       "Kurtosis:                       3.479   Cond. No.                         2.88\n",
       "==============================================================================\n",
       "\n",
       "Notes:\n",
       "[1] R² is computed without centering (uncentered) since the model does not contain a constant.\n",
       "[2] Standard Errors assume that the covariance matrix of the errors is correctly specified.\n",
       "\"\"\""
      ]
     },
     "execution_count": 10,
     "metadata": {},
     "output_type": "execute_result"
    }
   ],
   "source": [
    "model = OLS(np.asarray(df[outcome]), np.asarray(df[[common_cause, treatment]], dtype=np.float64))\n",
    "result = model.fit()\n",
    "result.summary()"
   ]
  }
 ],
 "metadata": {
  "kernelspec": {
   "display_name": "Python 3",
   "language": "python",
   "name": "python3"
  },
  "language_info": {
   "codemirror_mode": {
    "name": "ipython",
    "version": 3
   },
   "file_extension": ".py",
   "mimetype": "text/x-python",
   "name": "python",
   "nbconvert_exporter": "python",
   "pygments_lexer": "ipython3",
   "version": "3.8.10"
  },
  "toc": {
   "base_numbering": 1,
   "nav_menu": {},
   "number_sections": false,
   "sideBar": true,
   "skip_h1_title": true,
   "title_cell": "Table of Contents",
   "title_sidebar": "Contents",
   "toc_cell": false,
   "toc_position": {},
   "toc_section_display": true,
   "toc_window_display": false
  }
 },
 "nbformat": 4,
 "nbformat_minor": 4
}
