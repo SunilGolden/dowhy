{
 "cells": [
  {
   "cell_type": "markdown",
   "metadata": {},
   "source": [
    "# Demo for the DoWhy causal API\n",
    "We show a simple example of adding a causal extension to any dataframe. "
   ]
  },
  {
   "cell_type": "code",
   "execution_count": 1,
   "metadata": {
    "execution": {
     "iopub.execute_input": "2023-06-15T12:22:25.666592Z",
     "iopub.status.busy": "2023-06-15T12:22:25.666117Z",
     "iopub.status.idle": "2023-06-15T12:22:27.458664Z",
     "shell.execute_reply": "2023-06-15T12:22:27.457612Z"
    }
   },
   "outputs": [],
   "source": [
    "import dowhy.datasets\n",
    "import dowhy.api\n",
    "\n",
    "import numpy as np\n",
    "import pandas as pd\n",
    "\n",
    "from statsmodels.api import OLS"
   ]
  },
  {
   "cell_type": "code",
   "execution_count": 2,
   "metadata": {
    "execution": {
     "iopub.execute_input": "2023-06-15T12:22:27.464234Z",
     "iopub.status.busy": "2023-06-15T12:22:27.463777Z",
     "iopub.status.idle": "2023-06-15T12:22:27.509482Z",
     "shell.execute_reply": "2023-06-15T12:22:27.508198Z"
    }
   },
   "outputs": [
    {
     "data": {
      "text/html": [
       "<div>\n",
       "<style scoped>\n",
       "    .dataframe tbody tr th:only-of-type {\n",
       "        vertical-align: middle;\n",
       "    }\n",
       "\n",
       "    .dataframe tbody tr th {\n",
       "        vertical-align: top;\n",
       "    }\n",
       "\n",
       "    .dataframe thead th {\n",
       "        text-align: right;\n",
       "    }\n",
       "</style>\n",
       "<table border=\"1\" class=\"dataframe\">\n",
       "  <thead>\n",
       "    <tr style=\"text-align: right;\">\n",
       "      <th></th>\n",
       "      <th>W0</th>\n",
       "      <th>v0</th>\n",
       "      <th>y</th>\n",
       "    </tr>\n",
       "  </thead>\n",
       "  <tbody>\n",
       "    <tr>\n",
       "      <th>0</th>\n",
       "      <td>-0.018154</td>\n",
       "      <td>False</td>\n",
       "      <td>0.091142</td>\n",
       "    </tr>\n",
       "    <tr>\n",
       "      <th>1</th>\n",
       "      <td>-1.512420</td>\n",
       "      <td>False</td>\n",
       "      <td>-0.853129</td>\n",
       "    </tr>\n",
       "    <tr>\n",
       "      <th>2</th>\n",
       "      <td>-1.395825</td>\n",
       "      <td>False</td>\n",
       "      <td>-1.936114</td>\n",
       "    </tr>\n",
       "    <tr>\n",
       "      <th>3</th>\n",
       "      <td>-0.917918</td>\n",
       "      <td>False</td>\n",
       "      <td>-0.893161</td>\n",
       "    </tr>\n",
       "    <tr>\n",
       "      <th>4</th>\n",
       "      <td>-1.903649</td>\n",
       "      <td>False</td>\n",
       "      <td>-1.293428</td>\n",
       "    </tr>\n",
       "    <tr>\n",
       "      <th>...</th>\n",
       "      <td>...</td>\n",
       "      <td>...</td>\n",
       "      <td>...</td>\n",
       "    </tr>\n",
       "    <tr>\n",
       "      <th>995</th>\n",
       "      <td>-1.724468</td>\n",
       "      <td>False</td>\n",
       "      <td>-2.708966</td>\n",
       "    </tr>\n",
       "    <tr>\n",
       "      <th>996</th>\n",
       "      <td>-1.743093</td>\n",
       "      <td>False</td>\n",
       "      <td>-2.041571</td>\n",
       "    </tr>\n",
       "    <tr>\n",
       "      <th>997</th>\n",
       "      <td>0.444876</td>\n",
       "      <td>True</td>\n",
       "      <td>5.298763</td>\n",
       "    </tr>\n",
       "    <tr>\n",
       "      <th>998</th>\n",
       "      <td>-0.674423</td>\n",
       "      <td>False</td>\n",
       "      <td>-2.041351</td>\n",
       "    </tr>\n",
       "    <tr>\n",
       "      <th>999</th>\n",
       "      <td>-0.595888</td>\n",
       "      <td>False</td>\n",
       "      <td>-1.086848</td>\n",
       "    </tr>\n",
       "  </tbody>\n",
       "</table>\n",
       "<p>1000 rows × 3 columns</p>\n",
       "</div>"
      ],
      "text/plain": [
       "           W0     v0         y\n",
       "0   -0.018154  False  0.091142\n",
       "1   -1.512420  False -0.853129\n",
       "2   -1.395825  False -1.936114\n",
       "3   -0.917918  False -0.893161\n",
       "4   -1.903649  False -1.293428\n",
       "..        ...    ...       ...\n",
       "995 -1.724468  False -2.708966\n",
       "996 -1.743093  False -2.041571\n",
       "997  0.444876   True  5.298763\n",
       "998 -0.674423  False -2.041351\n",
       "999 -0.595888  False -1.086848\n",
       "\n",
       "[1000 rows x 3 columns]"
      ]
     },
     "execution_count": 2,
     "metadata": {},
     "output_type": "execute_result"
    }
   ],
   "source": [
    "data = dowhy.datasets.linear_dataset(beta=5,\n",
    "        num_common_causes=1,\n",
    "        num_instruments = 0,\n",
    "        num_samples=1000,\n",
    "        treatment_is_binary=True)\n",
    "df = data['df']\n",
    "df['y'] = df['y'] + np.random.normal(size=len(df)) # Adding noise to data. Without noise, the variance in Y|X, Z is zero, and mcmc fails.\n",
    "#data['dot_graph'] = 'digraph { v ->y;X0-> v;X0-> y;}'\n",
    "\n",
    "treatment= data[\"treatment_name\"][0]\n",
    "outcome = data[\"outcome_name\"][0]\n",
    "common_cause = data[\"common_causes_names\"][0]\n",
    "df"
   ]
  },
  {
   "cell_type": "code",
   "execution_count": 3,
   "metadata": {
    "execution": {
     "iopub.execute_input": "2023-06-15T12:22:27.512871Z",
     "iopub.status.busy": "2023-06-15T12:22:27.512599Z",
     "iopub.status.idle": "2023-06-15T12:22:27.676730Z",
     "shell.execute_reply": "2023-06-15T12:22:27.676067Z"
    }
   },
   "outputs": [
    {
     "data": {
      "text/plain": [
       "<AxesSubplot: xlabel='v0'>"
      ]
     },
     "execution_count": 3,
     "metadata": {},
     "output_type": "execute_result"
    },
    {
     "data": {
      "image/png": "[encoded data removed]",
      "text/plain": [
       "<Figure size 640x480 with 1 Axes>"
      ]
     },
     "metadata": {},
     "output_type": "display_data"
    }
   ],
   "source": [
    "# data['df'] is just a regular pandas.DataFrame\n",
    "df.causal.do(x=treatment,\n",
    "                     variable_types={treatment: 'b', outcome: 'c', common_cause: 'c'},\n",
    "                     outcome=outcome,\n",
    "                     common_causes=[common_cause],\n",
    "                     proceed_when_unidentifiable=True).groupby(treatment).mean().plot(y=outcome, kind='bar')"
   ]
  },
  {
   "cell_type": "code",
   "execution_count": 4,
   "metadata": {
    "execution": {
     "iopub.execute_input": "2023-06-15T12:22:27.680051Z",
     "iopub.status.busy": "2023-06-15T12:22:27.679622Z",
     "iopub.status.idle": "2023-06-15T12:22:27.824076Z",
     "shell.execute_reply": "2023-06-15T12:22:27.823425Z"
    }
   },
   "outputs": [
    {
     "data": {
      "text/plain": [
       "<AxesSubplot: xlabel='v0'>"
      ]
     },
     "execution_count": 4,
     "metadata": {},
     "output_type": "execute_result"
    },
    {
     "data": {
      "image/png": "[encoded data removed]",
      "text/plain": [
       "<Figure size 640x480 with 1 Axes>"
      ]
     },
     "metadata": {},
     "output_type": "display_data"
    }
   ],
   "source": [
    "df.causal.do(x={treatment: 1}, \n",
    "              variable_types={treatment:'b', outcome: 'c', common_cause: 'c'}, \n",
    "              outcome=outcome,\n",
    "              method='weighting', \n",
    "              common_causes=[common_cause],\n",
    "              proceed_when_unidentifiable=True).groupby(treatment).mean().plot(y=outcome, kind='bar')"
   ]
  },
  {
   "cell_type": "code",
   "execution_count": 5,
   "metadata": {
    "execution": {
     "iopub.execute_input": "2023-06-15T12:22:27.827529Z",
     "iopub.status.busy": "2023-06-15T12:22:27.827023Z",
     "iopub.status.idle": "2023-06-15T12:22:27.858399Z",
     "shell.execute_reply": "2023-06-15T12:22:27.857827Z"
    }
   },
   "outputs": [],
   "source": [
    "cdf_1 = df.causal.do(x={treatment: 1}, \n",
    "              variable_types={treatment: 'b', outcome: 'c', common_cause: 'c'}, \n",
    "              outcome=outcome, \n",
    "              dot_graph=data['dot_graph'],\n",
    "              proceed_when_unidentifiable=True)\n",
    "\n",
    "cdf_0 = df.causal.do(x={treatment: 0}, \n",
    "              variable_types={treatment: 'b', outcome: 'c', common_cause: 'c'}, \n",
    "              outcome=outcome, \n",
    "              dot_graph=data['dot_graph'],\n",
    "              proceed_when_unidentifiable=True)\n"
   ]
  },
  {
   "cell_type": "code",
   "execution_count": 6,
   "metadata": {
    "execution": {
     "iopub.execute_input": "2023-06-15T12:22:27.861899Z",
     "iopub.status.busy": "2023-06-15T12:22:27.861405Z",
     "iopub.status.idle": "2023-06-15T12:22:27.872741Z",
     "shell.execute_reply": "2023-06-15T12:22:27.872125Z"
    },
    "scrolled": true
   },
   "outputs": [
    {
     "data": {
      "text/html": [
       "<div>\n",
       "<style scoped>\n",
       "    .dataframe tbody tr th:only-of-type {\n",
       "        vertical-align: middle;\n",
       "    }\n",
       "\n",
       "    .dataframe tbody tr th {\n",
       "        vertical-align: top;\n",
       "    }\n",
       "\n",
       "    .dataframe thead th {\n",
       "        text-align: right;\n",
       "    }\n",
       "</style>\n",
       "<table border=\"1\" class=\"dataframe\">\n",
       "  <thead>\n",
       "    <tr style=\"text-align: right;\">\n",
       "      <th></th>\n",
       "      <th>W0</th>\n",
       "      <th>v0</th>\n",
       "      <th>y</th>\n",
       "      <th>propensity_score</th>\n",
       "      <th>weight</th>\n",
       "    </tr>\n",
       "  </thead>\n",
       "  <tbody>\n",
       "    <tr>\n",
       "      <th>0</th>\n",
       "      <td>-1.671413</td>\n",
       "      <td>False</td>\n",
       "      <td>-1.294921</td>\n",
       "      <td>0.983353</td>\n",
       "      <td>1.016929</td>\n",
       "    </tr>\n",
       "    <tr>\n",
       "      <th>1</th>\n",
       "      <td>-2.093640</td>\n",
       "      <td>False</td>\n",
       "      <td>-2.615018</td>\n",
       "      <td>0.993829</td>\n",
       "      <td>1.006209</td>\n",
       "    </tr>\n",
       "    <tr>\n",
       "      <th>2</th>\n",
       "      <td>-0.233466</td>\n",
       "      <td>False</td>\n",
       "      <td>0.307473</td>\n",
       "      <td>0.659892</td>\n",
       "      <td>1.515400</td>\n",
       "    </tr>\n",
       "    <tr>\n",
       "      <th>3</th>\n",
       "      <td>-0.503291</td>\n",
       "      <td>False</td>\n",
       "      <td>-0.481747</td>\n",
       "      <td>0.786474</td>\n",
       "      <td>1.271498</td>\n",
       "    </tr>\n",
       "    <tr>\n",
       "      <th>4</th>\n",
       "      <td>-1.843787</td>\n",
       "      <td>False</td>\n",
       "      <td>-1.425071</td>\n",
       "      <td>0.988885</td>\n",
       "      <td>1.011240</td>\n",
       "    </tr>\n",
       "    <tr>\n",
       "      <th>...</th>\n",
       "      <td>...</td>\n",
       "      <td>...</td>\n",
       "      <td>...</td>\n",
       "      <td>...</td>\n",
       "      <td>...</td>\n",
       "    </tr>\n",
       "    <tr>\n",
       "      <th>995</th>\n",
       "      <td>-0.240080</td>\n",
       "      <td>False</td>\n",
       "      <td>-0.212957</td>\n",
       "      <td>0.663409</td>\n",
       "      <td>1.507365</td>\n",
       "    </tr>\n",
       "    <tr>\n",
       "      <th>996</th>\n",
       "      <td>-0.876406</td>\n",
       "      <td>False</td>\n",
       "      <td>-1.101371</td>\n",
       "      <td>0.899363</td>\n",
       "      <td>1.111899</td>\n",
       "    </tr>\n",
       "    <tr>\n",
       "      <th>997</th>\n",
       "      <td>-0.245924</td>\n",
       "      <td>False</td>\n",
       "      <td>-0.059617</td>\n",
       "      <td>0.666502</td>\n",
       "      <td>1.500370</td>\n",
       "    </tr>\n",
       "    <tr>\n",
       "      <th>998</th>\n",
       "      <td>-0.406259</td>\n",
       "      <td>False</td>\n",
       "      <td>-0.315058</td>\n",
       "      <td>0.745223</td>\n",
       "      <td>1.341880</td>\n",
       "    </tr>\n",
       "    <tr>\n",
       "      <th>999</th>\n",
       "      <td>-0.340993</td>\n",
       "      <td>False</td>\n",
       "      <td>1.329004</td>\n",
       "      <td>0.714686</td>\n",
       "      <td>1.399217</td>\n",
       "    </tr>\n",
       "  </tbody>\n",
       "</table>\n",
       "<p>1000 rows × 5 columns</p>\n",
       "</div>"
      ],
      "text/plain": [
       "           W0     v0         y  propensity_score    weight\n",
       "0   -1.671413  False -1.294921          0.983353  1.016929\n",
       "1   -2.093640  False -2.615018          0.993829  1.006209\n",
       "2   -0.233466  False  0.307473          0.659892  1.515400\n",
       "3   -0.503291  False -0.481747          0.786474  1.271498\n",
       "4   -1.843787  False -1.425071          0.988885  1.011240\n",
       "..        ...    ...       ...               ...       ...\n",
       "995 -0.240080  False -0.212957          0.663409  1.507365\n",
       "996 -0.876406  False -1.101371          0.899363  1.111899\n",
       "997 -0.245924  False -0.059617          0.666502  1.500370\n",
       "998 -0.406259  False -0.315058          0.745223  1.341880\n",
       "999 -0.340993  False  1.329004          0.714686  1.399217\n",
       "\n",
       "[1000 rows x 5 columns]"
      ]
     },
     "execution_count": 6,
     "metadata": {},
     "output_type": "execute_result"
    }
   ],
   "source": [
    "cdf_0"
   ]
  },
  {
   "cell_type": "code",
   "execution_count": 7,
   "metadata": {
    "execution": {
     "iopub.execute_input": "2023-06-15T12:22:27.875895Z",
     "iopub.status.busy": "2023-06-15T12:22:27.875387Z",
     "iopub.status.idle": "2023-06-15T12:22:27.886079Z",
     "shell.execute_reply": "2023-06-15T12:22:27.885525Z"
    }
   },
   "outputs": [
    {
     "data": {
      "text/html": [
       "<div>\n",
       "<style scoped>\n",
       "    .dataframe tbody tr th:only-of-type {\n",
       "        vertical-align: middle;\n",
       "    }\n",
       "\n",
       "    .dataframe tbody tr th {\n",
       "        vertical-align: top;\n",
       "    }\n",
       "\n",
       "    .dataframe thead th {\n",
       "        text-align: right;\n",
       "    }\n",
       "</style>\n",
       "<table border=\"1\" class=\"dataframe\">\n",
       "  <thead>\n",
       "    <tr style=\"text-align: right;\">\n",
       "      <th></th>\n",
       "      <th>W0</th>\n",
       "      <th>v0</th>\n",
       "      <th>y</th>\n",
       "      <th>propensity_score</th>\n",
       "      <th>weight</th>\n",
       "    </tr>\n",
       "  </thead>\n",
       "  <tbody>\n",
       "    <tr>\n",
       "      <th>0</th>\n",
       "      <td>0.610295</td>\n",
       "      <td>True</td>\n",
       "      <td>5.088017</td>\n",
       "      <td>0.792753</td>\n",
       "      <td>1.261427</td>\n",
       "    </tr>\n",
       "    <tr>\n",
       "      <th>1</th>\n",
       "      <td>-1.526416</td>\n",
       "      <td>True</td>\n",
       "      <td>2.943770</td>\n",
       "      <td>0.023332</td>\n",
       "      <td>42.858865</td>\n",
       "    </tr>\n",
       "    <tr>\n",
       "      <th>2</th>\n",
       "      <td>-0.366196</td>\n",
       "      <td>True</td>\n",
       "      <td>2.863772</td>\n",
       "      <td>0.273265</td>\n",
       "      <td>3.659456</td>\n",
       "    </tr>\n",
       "    <tr>\n",
       "      <th>3</th>\n",
       "      <td>-1.526416</td>\n",
       "      <td>True</td>\n",
       "      <td>2.943770</td>\n",
       "      <td>0.023332</td>\n",
       "      <td>42.858865</td>\n",
       "    </tr>\n",
       "    <tr>\n",
       "      <th>4</th>\n",
       "      <td>0.645247</td>\n",
       "      <td>True</td>\n",
       "      <td>5.337534</td>\n",
       "      <td>0.806063</td>\n",
       "      <td>1.240598</td>\n",
       "    </tr>\n",
       "    <tr>\n",
       "      <th>...</th>\n",
       "      <td>...</td>\n",
       "      <td>...</td>\n",
       "      <td>...</td>\n",
       "      <td>...</td>\n",
       "      <td>...</td>\n",
       "    </tr>\n",
       "    <tr>\n",
       "      <th>995</th>\n",
       "      <td>-0.695829</td>\n",
       "      <td>True</td>\n",
       "      <td>4.409221</td>\n",
       "      <td>0.146642</td>\n",
       "      <td>6.819345</td>\n",
       "    </tr>\n",
       "    <tr>\n",
       "      <th>996</th>\n",
       "      <td>-1.169433</td>\n",
       "      <td>True</td>\n",
       "      <td>4.395616</td>\n",
       "      <td>0.052837</td>\n",
       "      <td>18.926251</td>\n",
       "    </tr>\n",
       "    <tr>\n",
       "      <th>997</th>\n",
       "      <td>-0.635942</td>\n",
       "      <td>True</td>\n",
       "      <td>4.825545</td>\n",
       "      <td>0.165354</td>\n",
       "      <td>6.047641</td>\n",
       "    </tr>\n",
       "    <tr>\n",
       "      <th>998</th>\n",
       "      <td>0.663973</td>\n",
       "      <td>True</td>\n",
       "      <td>5.463690</td>\n",
       "      <td>0.812923</td>\n",
       "      <td>1.230129</td>\n",
       "    </tr>\n",
       "    <tr>\n",
       "      <th>999</th>\n",
       "      <td>0.458433</td>\n",
       "      <td>True</td>\n",
       "      <td>5.460520</td>\n",
       "      <td>0.727275</td>\n",
       "      <td>1.374996</td>\n",
       "    </tr>\n",
       "  </tbody>\n",
       "</table>\n",
       "<p>1000 rows × 5 columns</p>\n",
       "</div>"
      ],
      "text/plain": [
       "           W0    v0         y  propensity_score     weight\n",
       "0    0.610295  True  5.088017          0.792753   1.261427\n",
       "1   -1.526416  True  2.943770          0.023332  42.858865\n",
       "2   -0.366196  True  2.863772          0.273265   3.659456\n",
       "3   -1.526416  True  2.943770          0.023332  42.858865\n",
       "4    0.645247  True  5.337534          0.806063   1.240598\n",
       "..        ...   ...       ...               ...        ...\n",
       "995 -0.695829  True  4.409221          0.146642   6.819345\n",
       "996 -1.169433  True  4.395616          0.052837  18.926251\n",
       "997 -0.635942  True  4.825545          0.165354   6.047641\n",
       "998  0.663973  True  5.463690          0.812923   1.230129\n",
       "999  0.458433  True  5.460520          0.727275   1.374996\n",
       "\n",
       "[1000 rows x 5 columns]"
      ]
     },
     "execution_count": 7,
     "metadata": {},
     "output_type": "execute_result"
    }
   ],
   "source": [
    "cdf_1"
   ]
  },
  {
   "cell_type": "markdown",
   "metadata": {},
   "source": [
    "## Comparing the estimate to Linear Regression\n",
    "First, estimating the effect using the causal data frame, and the 95% confidence interval."
   ]
  },
  {
   "cell_type": "code",
   "execution_count": 8,
   "metadata": {
    "execution": {
     "iopub.execute_input": "2023-06-15T12:22:27.889269Z",
     "iopub.status.busy": "2023-06-15T12:22:27.888806Z",
     "iopub.status.idle": "2023-06-15T12:22:28.059833Z",
     "shell.execute_reply": "2023-06-15T12:22:28.058761Z"
    }
   },
   "outputs": [
    {
     "data": {
      "image/png": "[encoded data removed]",
      "text/latex": [
       "$\\displaystyle 5.41588427058838$"
      ],
      "text/plain": [
       "5.415884270588378"
      ]
     },
     "execution_count": 8,
     "metadata": {},
     "output_type": "execute_result"
    }
   ],
   "source": [
    "(cdf_1['y'] - cdf_0['y']).mean()"
   ]
  },
  {
   "cell_type": "code",
   "execution_count": 9,
   "metadata": {
    "execution": {
     "iopub.execute_input": "2023-06-15T12:22:28.064674Z",
     "iopub.status.busy": "2023-06-15T12:22:28.064165Z",
     "iopub.status.idle": "2023-06-15T12:22:28.086394Z",
     "shell.execute_reply": "2023-06-15T12:22:28.085702Z"
    }
   },
   "outputs": [
    {
     "data": {
      "image/png": "[encoded data removed]",
      "text/latex": [
       "$\\displaystyle 0.129967505008323$"
      ],
      "text/plain": [
       "0.12996750500832283"
      ]
     },
     "execution_count": 9,
     "metadata": {},
     "output_type": "execute_result"
    }
   ],
   "source": [
    "1.96*(cdf_1['y'] - cdf_0['y']).std() / np.sqrt(len(df))"
   ]
  },
  {
   "cell_type": "markdown",
   "metadata": {},
   "source": [
    "Comparing to the estimate from OLS."
   ]
  },
  {
   "cell_type": "code",
   "execution_count": 10,
   "metadata": {
    "execution": {
     "iopub.execute_input": "2023-06-15T12:22:28.089817Z",
     "iopub.status.busy": "2023-06-15T12:22:28.089323Z",
     "iopub.status.idle": "2023-06-15T12:22:28.104490Z",
     "shell.execute_reply": "2023-06-15T12:22:28.103723Z"
    }
   },
   "outputs": [
    {
     "data": {
      "text/html": [
       "<table class=\"simpletable\">\n",
       "<caption>OLS Regression Results</caption>\n",
       "<tr>\n",
       "  <th>Dep. Variable:</th>            <td>y</td>        <th>  R-squared (uncentered):</th>      <td>   0.902</td>\n",
       "</tr>\n",
       "<tr>\n",
       "  <th>Model:</th>                   <td>OLS</td>       <th>  Adj. R-squared (uncentered):</th> <td>   0.902</td>\n",
       "</tr>\n",
       "<tr>\n",
       "  <th>Method:</th>             <td>Least Squares</td>  <th>  F-statistic:       </th>          <td>   4609.</td>\n",
       "</tr>\n",
       "<tr>\n",
       "  <th>Date:</th>             <td>Thu, 15 Jun 2023</td> <th>  Prob (F-statistic):</th>           <td>  0.00</td> \n",
       "</tr>\n",
       "<tr>\n",
       "  <th>Time:</th>                 <td>12:22:28</td>     <th>  Log-Likelihood:    </th>          <td> -1405.8</td>\n",
       "</tr>\n",
       "<tr>\n",
       "  <th>No. Observations:</th>      <td>  1000</td>      <th>  AIC:               </th>          <td>   2816.</td>\n",
       "</tr>\n",
       "<tr>\n",
       "  <th>Df Residuals:</th>          <td>   998</td>      <th>  BIC:               </th>          <td>   2825.</td>\n",
       "</tr>\n",
       "<tr>\n",
       "  <th>Df Model:</th>              <td>     2</td>      <th>                     </th>              <td> </td>   \n",
       "</tr>\n",
       "<tr>\n",
       "  <th>Covariance Type:</th>      <td>nonrobust</td>    <th>                     </th>              <td> </td>   \n",
       "</tr>\n",
       "</table>\n",
       "<table class=\"simpletable\">\n",
       "<tr>\n",
       "   <td></td>     <th>coef</th>     <th>std err</th>      <th>t</th>      <th>P>|t|</th>  <th>[0.025</th>    <th>0.975]</th>  \n",
       "</tr>\n",
       "<tr>\n",
       "  <th>x1</th> <td>    1.1900</td> <td>    0.024</td> <td>   50.387</td> <td> 0.000</td> <td>    1.144</td> <td>    1.236</td>\n",
       "</tr>\n",
       "<tr>\n",
       "  <th>x2</th> <td>    4.9630</td> <td>    0.064</td> <td>   77.772</td> <td> 0.000</td> <td>    4.838</td> <td>    5.088</td>\n",
       "</tr>\n",
       "</table>\n",
       "<table class=\"simpletable\">\n",
       "<tr>\n",
       "  <th>Omnibus:</th>       <td> 1.352</td> <th>  Durbin-Watson:     </th> <td>   1.972</td>\n",
       "</tr>\n",
       "<tr>\n",
       "  <th>Prob(Omnibus):</th> <td> 0.509</td> <th>  Jarque-Bera (JB):  </th> <td>   1.240</td>\n",
       "</tr>\n",
       "<tr>\n",
       "  <th>Skew:</th>          <td>-0.080</td> <th>  Prob(JB):          </th> <td>   0.538</td>\n",
       "</tr>\n",
       "<tr>\n",
       "  <th>Kurtosis:</th>      <td> 3.065</td> <th>  Cond. No.          </th> <td>    2.71</td>\n",
       "</tr>\n",
       "</table><br/><br/>Notes:<br/>[1] R² is computed without centering (uncentered) since the model does not contain a constant.<br/>[2] Standard Errors assume that the covariance matrix of the errors is correctly specified."
      ],
      "text/plain": [
       "<class 'statsmodels.iolib.summary.Summary'>\n",
       "\"\"\"\n",
       "                                 OLS Regression Results                                \n",
       "=======================================================================================\n",
       "Dep. Variable:                      y   R-squared (uncentered):                   0.902\n",
       "Model:                            OLS   Adj. R-squared (uncentered):              0.902\n",
       "Method:                 Least Squares   F-statistic:                              4609.\n",
       "Date:                Thu, 15 Jun 2023   Prob (F-statistic):                        0.00\n",
       "Time:                        12:22:28   Log-Likelihood:                         -1405.8\n",
       "No. Observations:                1000   AIC:                                      2816.\n",
       "Df Residuals:                     998   BIC:                                      2825.\n",
       "Df Model:                           2                                                  \n",
       "Covariance Type:            nonrobust                                                  \n",
       "==============================================================================\n",
       "                 coef    std err          t      P>|t|      [0.025      0.975]\n",
       "------------------------------------------------------------------------------\n",
       "x1             1.1900      0.024     50.387      0.000       1.144       1.236\n",
       "x2             4.9630      0.064     77.772      0.000       4.838       5.088\n",
       "==============================================================================\n",
       "Omnibus:                        1.352   Durbin-Watson:                   1.972\n",
       "Prob(Omnibus):                  0.509   Jarque-Bera (JB):                1.240\n",
       "Skew:                          -0.080   Prob(JB):                        0.538\n",
       "Kurtosis:                       3.065   Cond. No.                         2.71\n",
       "==============================================================================\n",
       "\n",
       "Notes:\n",
       "[1] R² is computed without centering (uncentered) since the model does not contain a constant.\n",
       "[2] Standard Errors assume that the covariance matrix of the errors is correctly specified.\n",
       "\"\"\""
      ]
     },
     "execution_count": 10,
     "metadata": {},
     "output_type": "execute_result"
    }
   ],
   "source": [
    "model = OLS(np.asarray(df[outcome]), np.asarray(df[[common_cause, treatment]], dtype=np.float64))\n",
    "result = model.fit()\n",
    "result.summary()"
   ]
  }
 ],
 "metadata": {
  "kernelspec": {
   "display_name": "Python 3",
   "language": "python",
   "name": "python3"
  },
  "language_info": {
   "codemirror_mode": {
    "name": "ipython",
    "version": 3
   },
   "file_extension": ".py",
   "mimetype": "text/x-python",
   "name": "python",
   "nbconvert_exporter": "python",
   "pygments_lexer": "ipython3",
   "version": "3.8.10"
  },
  "toc": {
   "base_numbering": 1,
   "nav_menu": {},
   "number_sections": false,
   "sideBar": true,
   "skip_h1_title": true,
   "title_cell": "Table of Contents",
   "title_sidebar": "Contents",
   "toc_cell": false,
   "toc_position": {},
   "toc_section_display": true,
   "toc_window_display": false
  }
 },
 "nbformat": 4,
 "nbformat_minor": 4
}
