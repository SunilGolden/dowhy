{
 "cells": [
  {
   "cell_type": "markdown",
   "metadata": {},
   "source": [
    "# Demo for the DoWhy causal API\n",
    "We show a simple example of adding a causal extension to any dataframe. "
   ]
  },
  {
   "cell_type": "code",
   "execution_count": 1,
   "metadata": {
    "execution": {
     "iopub.execute_input": "2023-06-06T15:37:36.698994Z",
     "iopub.status.busy": "2023-06-06T15:37:36.698456Z",
     "iopub.status.idle": "2023-06-06T15:37:39.238595Z",
     "shell.execute_reply": "2023-06-06T15:37:39.237375Z"
    }
   },
   "outputs": [],
   "source": [
    "import dowhy.datasets\n",
    "import dowhy.api\n",
    "\n",
    "import numpy as np\n",
    "import pandas as pd\n",
    "\n",
    "from statsmodels.api import OLS"
   ]
  },
  {
   "cell_type": "code",
   "execution_count": 2,
   "metadata": {
    "execution": {
     "iopub.execute_input": "2023-06-06T15:37:39.243929Z",
     "iopub.status.busy": "2023-06-06T15:37:39.243285Z",
     "iopub.status.idle": "2023-06-06T15:37:39.320212Z",
     "shell.execute_reply": "2023-06-06T15:37:39.318147Z"
    }
   },
   "outputs": [
    {
     "data": {
      "text/html": [
       "<div>\n",
       "<style scoped>\n",
       "    .dataframe tbody tr th:only-of-type {\n",
       "        vertical-align: middle;\n",
       "    }\n",
       "\n",
       "    .dataframe tbody tr th {\n",
       "        vertical-align: top;\n",
       "    }\n",
       "\n",
       "    .dataframe thead th {\n",
       "        text-align: right;\n",
       "    }\n",
       "</style>\n",
       "<table border=\"1\" class=\"dataframe\">\n",
       "  <thead>\n",
       "    <tr style=\"text-align: right;\">\n",
       "      <th></th>\n",
       "      <th>W0</th>\n",
       "      <th>v0</th>\n",
       "      <th>y</th>\n",
       "    </tr>\n",
       "  </thead>\n",
       "  <tbody>\n",
       "    <tr>\n",
       "      <th>0</th>\n",
       "      <td>-0.453013</td>\n",
       "      <td>False</td>\n",
       "      <td>-1.890827</td>\n",
       "    </tr>\n",
       "    <tr>\n",
       "      <th>1</th>\n",
       "      <td>0.402817</td>\n",
       "      <td>True</td>\n",
       "      <td>6.677771</td>\n",
       "    </tr>\n",
       "    <tr>\n",
       "      <th>2</th>\n",
       "      <td>-1.615857</td>\n",
       "      <td>False</td>\n",
       "      <td>-2.637336</td>\n",
       "    </tr>\n",
       "    <tr>\n",
       "      <th>3</th>\n",
       "      <td>-0.306609</td>\n",
       "      <td>False</td>\n",
       "      <td>-0.773336</td>\n",
       "    </tr>\n",
       "    <tr>\n",
       "      <th>4</th>\n",
       "      <td>-1.898913</td>\n",
       "      <td>False</td>\n",
       "      <td>-4.519044</td>\n",
       "    </tr>\n",
       "    <tr>\n",
       "      <th>...</th>\n",
       "      <td>...</td>\n",
       "      <td>...</td>\n",
       "      <td>...</td>\n",
       "    </tr>\n",
       "    <tr>\n",
       "      <th>995</th>\n",
       "      <td>-0.955330</td>\n",
       "      <td>False</td>\n",
       "      <td>-1.318309</td>\n",
       "    </tr>\n",
       "    <tr>\n",
       "      <th>996</th>\n",
       "      <td>-0.935670</td>\n",
       "      <td>True</td>\n",
       "      <td>3.510639</td>\n",
       "    </tr>\n",
       "    <tr>\n",
       "      <th>997</th>\n",
       "      <td>-0.260911</td>\n",
       "      <td>True</td>\n",
       "      <td>4.047119</td>\n",
       "    </tr>\n",
       "    <tr>\n",
       "      <th>998</th>\n",
       "      <td>-1.590662</td>\n",
       "      <td>True</td>\n",
       "      <td>2.506465</td>\n",
       "    </tr>\n",
       "    <tr>\n",
       "      <th>999</th>\n",
       "      <td>-1.315839</td>\n",
       "      <td>False</td>\n",
       "      <td>-1.802051</td>\n",
       "    </tr>\n",
       "  </tbody>\n",
       "</table>\n",
       "<p>1000 rows × 3 columns</p>\n",
       "</div>"
      ],
      "text/plain": [
       "           W0     v0         y\n",
       "0   -0.453013  False -1.890827\n",
       "1    0.402817   True  6.677771\n",
       "2   -1.615857  False -2.637336\n",
       "3   -0.306609  False -0.773336\n",
       "4   -1.898913  False -4.519044\n",
       "..        ...    ...       ...\n",
       "995 -0.955330  False -1.318309\n",
       "996 -0.935670   True  3.510639\n",
       "997 -0.260911   True  4.047119\n",
       "998 -1.590662   True  2.506465\n",
       "999 -1.315839  False -1.802051\n",
       "\n",
       "[1000 rows x 3 columns]"
      ]
     },
     "execution_count": 2,
     "metadata": {},
     "output_type": "execute_result"
    }
   ],
   "source": [
    "data = dowhy.datasets.linear_dataset(beta=5,\n",
    "        num_common_causes=1,\n",
    "        num_instruments = 0,\n",
    "        num_samples=1000,\n",
    "        treatment_is_binary=True)\n",
    "df = data['df']\n",
    "df['y'] = df['y'] + np.random.normal(size=len(df)) # Adding noise to data. Without noise, the variance in Y|X, Z is zero, and mcmc fails.\n",
    "#data['dot_graph'] = 'digraph { v ->y;X0-> v;X0-> y;}'\n",
    "\n",
    "treatment= data[\"treatment_name\"][0]\n",
    "outcome = data[\"outcome_name\"][0]\n",
    "common_cause = data[\"common_causes_names\"][0]\n",
    "df"
   ]
  },
  {
   "cell_type": "code",
   "execution_count": 3,
   "metadata": {
    "execution": {
     "iopub.execute_input": "2023-06-06T15:37:39.325961Z",
     "iopub.status.busy": "2023-06-06T15:37:39.325654Z",
     "iopub.status.idle": "2023-06-06T15:37:39.630397Z",
     "shell.execute_reply": "2023-06-06T15:37:39.629266Z"
    }
   },
   "outputs": [
    {
     "data": {
      "text/plain": [
       "<AxesSubplot: xlabel='v0'>"
      ]
     },
     "execution_count": 3,
     "metadata": {},
     "output_type": "execute_result"
    },
    {
     "data": {
      "image/png": "[encoded data removed]",
      "text/plain": [
       "<Figure size 640x480 with 1 Axes>"
      ]
     },
     "metadata": {},
     "output_type": "display_data"
    }
   ],
   "source": [
    "# data['df'] is just a regular pandas.DataFrame\n",
    "df.causal.do(x=treatment,\n",
    "                     variable_types={treatment: 'b', outcome: 'c', common_cause: 'c'},\n",
    "                     outcome=outcome,\n",
    "                     common_causes=[common_cause],\n",
    "                     proceed_when_unidentifiable=True).groupby(treatment).mean().plot(y=outcome, kind='bar')"
   ]
  },
  {
   "cell_type": "code",
   "execution_count": 4,
   "metadata": {
    "execution": {
     "iopub.execute_input": "2023-06-06T15:37:39.634536Z",
     "iopub.status.busy": "2023-06-06T15:37:39.634243Z",
     "iopub.status.idle": "2023-06-06T15:37:39.854391Z",
     "shell.execute_reply": "2023-06-06T15:37:39.853458Z"
    }
   },
   "outputs": [
    {
     "data": {
      "text/plain": [
       "<AxesSubplot: xlabel='v0'>"
      ]
     },
     "execution_count": 4,
     "metadata": {},
     "output_type": "execute_result"
    },
    {
     "data": {
      "image/png": "[encoded data removed]",
      "text/plain": [
       "<Figure size 640x480 with 1 Axes>"
      ]
     },
     "metadata": {},
     "output_type": "display_data"
    }
   ],
   "source": [
    "df.causal.do(x={treatment: 1}, \n",
    "              variable_types={treatment:'b', outcome: 'c', common_cause: 'c'}, \n",
    "              outcome=outcome,\n",
    "              method='weighting', \n",
    "              common_causes=[common_cause],\n",
    "              proceed_when_unidentifiable=True).groupby(treatment).mean().plot(y=outcome, kind='bar')"
   ]
  },
  {
   "cell_type": "code",
   "execution_count": 5,
   "metadata": {
    "execution": {
     "iopub.execute_input": "2023-06-06T15:37:39.858267Z",
     "iopub.status.busy": "2023-06-06T15:37:39.857972Z",
     "iopub.status.idle": "2023-06-06T15:37:39.908264Z",
     "shell.execute_reply": "2023-06-06T15:37:39.906953Z"
    }
   },
   "outputs": [],
   "source": [
    "cdf_1 = df.causal.do(x={treatment: 1}, \n",
    "              variable_types={treatment: 'b', outcome: 'c', common_cause: 'c'}, \n",
    "              outcome=outcome, \n",
    "              dot_graph=data['dot_graph'],\n",
    "              proceed_when_unidentifiable=True)\n",
    "\n",
    "cdf_0 = df.causal.do(x={treatment: 0}, \n",
    "              variable_types={treatment: 'b', outcome: 'c', common_cause: 'c'}, \n",
    "              outcome=outcome, \n",
    "              dot_graph=data['dot_graph'],\n",
    "              proceed_when_unidentifiable=True)\n"
   ]
  },
  {
   "cell_type": "code",
   "execution_count": 6,
   "metadata": {
    "execution": {
     "iopub.execute_input": "2023-06-06T15:37:39.912324Z",
     "iopub.status.busy": "2023-06-06T15:37:39.912027Z",
     "iopub.status.idle": "2023-06-06T15:37:39.928128Z",
     "shell.execute_reply": "2023-06-06T15:37:39.927013Z"
    },
    "scrolled": true
   },
   "outputs": [
    {
     "data": {
      "text/html": [
       "<div>\n",
       "<style scoped>\n",
       "    .dataframe tbody tr th:only-of-type {\n",
       "        vertical-align: middle;\n",
       "    }\n",
       "\n",
       "    .dataframe tbody tr th {\n",
       "        vertical-align: top;\n",
       "    }\n",
       "\n",
       "    .dataframe thead th {\n",
       "        text-align: right;\n",
       "    }\n",
       "</style>\n",
       "<table border=\"1\" class=\"dataframe\">\n",
       "  <thead>\n",
       "    <tr style=\"text-align: right;\">\n",
       "      <th></th>\n",
       "      <th>W0</th>\n",
       "      <th>v0</th>\n",
       "      <th>y</th>\n",
       "      <th>propensity_score</th>\n",
       "      <th>weight</th>\n",
       "    </tr>\n",
       "  </thead>\n",
       "  <tbody>\n",
       "    <tr>\n",
       "      <th>0</th>\n",
       "      <td>-1.605227</td>\n",
       "      <td>False</td>\n",
       "      <td>-3.531181</td>\n",
       "      <td>0.845987</td>\n",
       "      <td>1.182051</td>\n",
       "    </tr>\n",
       "    <tr>\n",
       "      <th>1</th>\n",
       "      <td>-1.986484</td>\n",
       "      <td>False</td>\n",
       "      <td>-4.318326</td>\n",
       "      <td>0.893134</td>\n",
       "      <td>1.119653</td>\n",
       "    </tr>\n",
       "    <tr>\n",
       "      <th>2</th>\n",
       "      <td>-1.490823</td>\n",
       "      <td>False</td>\n",
       "      <td>-4.281680</td>\n",
       "      <td>0.828854</td>\n",
       "      <td>1.206484</td>\n",
       "    </tr>\n",
       "    <tr>\n",
       "      <th>3</th>\n",
       "      <td>-0.253076</td>\n",
       "      <td>False</td>\n",
       "      <td>-2.043474</td>\n",
       "      <td>0.553546</td>\n",
       "      <td>1.806534</td>\n",
       "    </tr>\n",
       "    <tr>\n",
       "      <th>4</th>\n",
       "      <td>-0.795559</td>\n",
       "      <td>False</td>\n",
       "      <td>-1.954211</td>\n",
       "      <td>0.692573</td>\n",
       "      <td>1.443890</td>\n",
       "    </tr>\n",
       "    <tr>\n",
       "      <th>...</th>\n",
       "      <td>...</td>\n",
       "      <td>...</td>\n",
       "      <td>...</td>\n",
       "      <td>...</td>\n",
       "      <td>...</td>\n",
       "    </tr>\n",
       "    <tr>\n",
       "      <th>995</th>\n",
       "      <td>0.353645</td>\n",
       "      <td>False</td>\n",
       "      <td>2.629057</td>\n",
       "      <td>0.388677</td>\n",
       "      <td>2.572827</td>\n",
       "    </tr>\n",
       "    <tr>\n",
       "      <th>996</th>\n",
       "      <td>-0.894526</td>\n",
       "      <td>False</td>\n",
       "      <td>-2.080368</td>\n",
       "      <td>0.715271</td>\n",
       "      <td>1.398072</td>\n",
       "    </tr>\n",
       "    <tr>\n",
       "      <th>997</th>\n",
       "      <td>-1.071025</td>\n",
       "      <td>False</td>\n",
       "      <td>-1.852636</td>\n",
       "      <td>0.753137</td>\n",
       "      <td>1.327780</td>\n",
       "    </tr>\n",
       "    <tr>\n",
       "      <th>998</th>\n",
       "      <td>-0.076214</td>\n",
       "      <td>False</td>\n",
       "      <td>0.253908</td>\n",
       "      <td>0.505079</td>\n",
       "      <td>1.979888</td>\n",
       "    </tr>\n",
       "    <tr>\n",
       "      <th>999</th>\n",
       "      <td>-0.316762</td>\n",
       "      <td>False</td>\n",
       "      <td>0.268345</td>\n",
       "      <td>0.570800</td>\n",
       "      <td>1.751928</td>\n",
       "    </tr>\n",
       "  </tbody>\n",
       "</table>\n",
       "<p>1000 rows × 5 columns</p>\n",
       "</div>"
      ],
      "text/plain": [
       "           W0     v0         y  propensity_score    weight\n",
       "0   -1.605227  False -3.531181          0.845987  1.182051\n",
       "1   -1.986484  False -4.318326          0.893134  1.119653\n",
       "2   -1.490823  False -4.281680          0.828854  1.206484\n",
       "3   -0.253076  False -2.043474          0.553546  1.806534\n",
       "4   -0.795559  False -1.954211          0.692573  1.443890\n",
       "..        ...    ...       ...               ...       ...\n",
       "995  0.353645  False  2.629057          0.388677  2.572827\n",
       "996 -0.894526  False -2.080368          0.715271  1.398072\n",
       "997 -1.071025  False -1.852636          0.753137  1.327780\n",
       "998 -0.076214  False  0.253908          0.505079  1.979888\n",
       "999 -0.316762  False  0.268345          0.570800  1.751928\n",
       "\n",
       "[1000 rows x 5 columns]"
      ]
     },
     "execution_count": 6,
     "metadata": {},
     "output_type": "execute_result"
    }
   ],
   "source": [
    "cdf_0"
   ]
  },
  {
   "cell_type": "code",
   "execution_count": 7,
   "metadata": {
    "execution": {
     "iopub.execute_input": "2023-06-06T15:37:39.933224Z",
     "iopub.status.busy": "2023-06-06T15:37:39.932852Z",
     "iopub.status.idle": "2023-06-06T15:37:39.949810Z",
     "shell.execute_reply": "2023-06-06T15:37:39.948037Z"
    }
   },
   "outputs": [
    {
     "data": {
      "text/html": [
       "<div>\n",
       "<style scoped>\n",
       "    .dataframe tbody tr th:only-of-type {\n",
       "        vertical-align: middle;\n",
       "    }\n",
       "\n",
       "    .dataframe tbody tr th {\n",
       "        vertical-align: top;\n",
       "    }\n",
       "\n",
       "    .dataframe thead th {\n",
       "        text-align: right;\n",
       "    }\n",
       "</style>\n",
       "<table border=\"1\" class=\"dataframe\">\n",
       "  <thead>\n",
       "    <tr style=\"text-align: right;\">\n",
       "      <th></th>\n",
       "      <th>W0</th>\n",
       "      <th>v0</th>\n",
       "      <th>y</th>\n",
       "      <th>propensity_score</th>\n",
       "      <th>weight</th>\n",
       "    </tr>\n",
       "  </thead>\n",
       "  <tbody>\n",
       "    <tr>\n",
       "      <th>0</th>\n",
       "      <td>-3.063091</td>\n",
       "      <td>True</td>\n",
       "      <td>-3.940196</td>\n",
       "      <td>0.035288</td>\n",
       "      <td>28.338476</td>\n",
       "    </tr>\n",
       "    <tr>\n",
       "      <th>1</th>\n",
       "      <td>-1.358571</td>\n",
       "      <td>True</td>\n",
       "      <td>2.064057</td>\n",
       "      <td>0.192796</td>\n",
       "      <td>5.186838</td>\n",
       "    </tr>\n",
       "    <tr>\n",
       "      <th>2</th>\n",
       "      <td>-1.808687</td>\n",
       "      <td>True</td>\n",
       "      <td>0.783458</td>\n",
       "      <td>0.127035</td>\n",
       "      <td>7.871876</td>\n",
       "    </tr>\n",
       "    <tr>\n",
       "      <th>3</th>\n",
       "      <td>-0.941449</td>\n",
       "      <td>True</td>\n",
       "      <td>4.636971</td>\n",
       "      <td>0.274328</td>\n",
       "      <td>3.645273</td>\n",
       "    </tr>\n",
       "    <tr>\n",
       "      <th>4</th>\n",
       "      <td>-0.227126</td>\n",
       "      <td>True</td>\n",
       "      <td>3.986623</td>\n",
       "      <td>0.453524</td>\n",
       "      <td>2.204956</td>\n",
       "    </tr>\n",
       "    <tr>\n",
       "      <th>...</th>\n",
       "      <td>...</td>\n",
       "      <td>...</td>\n",
       "      <td>...</td>\n",
       "      <td>...</td>\n",
       "      <td>...</td>\n",
       "    </tr>\n",
       "    <tr>\n",
       "      <th>995</th>\n",
       "      <td>-1.600050</td>\n",
       "      <td>True</td>\n",
       "      <td>2.438220</td>\n",
       "      <td>0.154757</td>\n",
       "      <td>6.461745</td>\n",
       "    </tr>\n",
       "    <tr>\n",
       "      <th>996</th>\n",
       "      <td>-0.944454</td>\n",
       "      <td>True</td>\n",
       "      <td>2.845245</td>\n",
       "      <td>0.273670</td>\n",
       "      <td>3.654040</td>\n",
       "    </tr>\n",
       "    <tr>\n",
       "      <th>997</th>\n",
       "      <td>-0.896780</td>\n",
       "      <td>True</td>\n",
       "      <td>3.568128</td>\n",
       "      <td>0.284224</td>\n",
       "      <td>3.518347</td>\n",
       "    </tr>\n",
       "    <tr>\n",
       "      <th>998</th>\n",
       "      <td>-0.466780</td>\n",
       "      <td>True</td>\n",
       "      <td>3.666403</td>\n",
       "      <td>0.389300</td>\n",
       "      <td>2.568712</td>\n",
       "    </tr>\n",
       "    <tr>\n",
       "      <th>999</th>\n",
       "      <td>-1.060378</td>\n",
       "      <td>True</td>\n",
       "      <td>1.207561</td>\n",
       "      <td>0.249048</td>\n",
       "      <td>4.015282</td>\n",
       "    </tr>\n",
       "  </tbody>\n",
       "</table>\n",
       "<p>1000 rows × 5 columns</p>\n",
       "</div>"
      ],
      "text/plain": [
       "           W0    v0         y  propensity_score     weight\n",
       "0   -3.063091  True -3.940196          0.035288  28.338476\n",
       "1   -1.358571  True  2.064057          0.192796   5.186838\n",
       "2   -1.808687  True  0.783458          0.127035   7.871876\n",
       "3   -0.941449  True  4.636971          0.274328   3.645273\n",
       "4   -0.227126  True  3.986623          0.453524   2.204956\n",
       "..        ...   ...       ...               ...        ...\n",
       "995 -1.600050  True  2.438220          0.154757   6.461745\n",
       "996 -0.944454  True  2.845245          0.273670   3.654040\n",
       "997 -0.896780  True  3.568128          0.284224   3.518347\n",
       "998 -0.466780  True  3.666403          0.389300   2.568712\n",
       "999 -1.060378  True  1.207561          0.249048   4.015282\n",
       "\n",
       "[1000 rows x 5 columns]"
      ]
     },
     "execution_count": 7,
     "metadata": {},
     "output_type": "execute_result"
    }
   ],
   "source": [
    "cdf_1"
   ]
  },
  {
   "cell_type": "markdown",
   "metadata": {},
   "source": [
    "## Comparing the estimate to Linear Regression\n",
    "First, estimating the effect using the causal data frame, and the 95% confidence interval."
   ]
  },
  {
   "cell_type": "code",
   "execution_count": 8,
   "metadata": {
    "execution": {
     "iopub.execute_input": "2023-06-06T15:37:39.954442Z",
     "iopub.status.busy": "2023-06-06T15:37:39.954150Z",
     "iopub.status.idle": "2023-06-06T15:37:40.194374Z",
     "shell.execute_reply": "2023-06-06T15:37:40.193309Z"
    }
   },
   "outputs": [
    {
     "data": {
      "image/png": "[encoded data removed]",
      "text/latex": [
       "$\\displaystyle 4.87502568758103$"
      ],
      "text/plain": [
       "4.8750256875810285"
      ]
     },
     "execution_count": 8,
     "metadata": {},
     "output_type": "execute_result"
    }
   ],
   "source": [
    "(cdf_1['y'] - cdf_0['y']).mean()"
   ]
  },
  {
   "cell_type": "code",
   "execution_count": 9,
   "metadata": {
    "execution": {
     "iopub.execute_input": "2023-06-06T15:37:40.198799Z",
     "iopub.status.busy": "2023-06-06T15:37:40.198491Z",
     "iopub.status.idle": "2023-06-06T15:37:40.230438Z",
     "shell.execute_reply": "2023-06-06T15:37:40.229468Z"
    }
   },
   "outputs": [
    {
     "data": {
      "image/png": "[encoded data removed]",
      "text/latex": [
       "$\\displaystyle 0.223856605513254$"
      ],
      "text/plain": [
       "0.22385660551325368"
      ]
     },
     "execution_count": 9,
     "metadata": {},
     "output_type": "execute_result"
    }
   ],
   "source": [
    "1.96*(cdf_1['y'] - cdf_0['y']).std() / np.sqrt(len(df))"
   ]
  },
  {
   "cell_type": "markdown",
   "metadata": {},
   "source": [
    "Comparing to the estimate from OLS."
   ]
  },
  {
   "cell_type": "code",
   "execution_count": 10,
   "metadata": {
    "execution": {
     "iopub.execute_input": "2023-06-06T15:37:40.235282Z",
     "iopub.status.busy": "2023-06-06T15:37:40.234943Z",
     "iopub.status.idle": "2023-06-06T15:37:40.258885Z",
     "shell.execute_reply": "2023-06-06T15:37:40.257929Z"
    }
   },
   "outputs": [
    {
     "data": {
      "text/html": [
       "<table class=\"simpletable\">\n",
       "<caption>OLS Regression Results</caption>\n",
       "<tr>\n",
       "  <th>Dep. Variable:</th>            <td>y</td>        <th>  R-squared (uncentered):</th>      <td>   0.944</td>\n",
       "</tr>\n",
       "<tr>\n",
       "  <th>Model:</th>                   <td>OLS</td>       <th>  Adj. R-squared (uncentered):</th> <td>   0.944</td>\n",
       "</tr>\n",
       "<tr>\n",
       "  <th>Method:</th>             <td>Least Squares</td>  <th>  F-statistic:       </th>          <td>   8399.</td>\n",
       "</tr>\n",
       "<tr>\n",
       "  <th>Date:</th>             <td>Tue, 06 Jun 2023</td> <th>  Prob (F-statistic):</th>           <td>  0.00</td> \n",
       "</tr>\n",
       "<tr>\n",
       "  <th>Time:</th>                 <td>15:37:40</td>     <th>  Log-Likelihood:    </th>          <td> -1431.1</td>\n",
       "</tr>\n",
       "<tr>\n",
       "  <th>No. Observations:</th>      <td>  1000</td>      <th>  AIC:               </th>          <td>   2866.</td>\n",
       "</tr>\n",
       "<tr>\n",
       "  <th>Df Residuals:</th>          <td>   998</td>      <th>  BIC:               </th>          <td>   2876.</td>\n",
       "</tr>\n",
       "<tr>\n",
       "  <th>Df Model:</th>              <td>     2</td>      <th>                     </th>              <td> </td>   \n",
       "</tr>\n",
       "<tr>\n",
       "  <th>Covariance Type:</th>      <td>nonrobust</td>    <th>                     </th>              <td> </td>   \n",
       "</tr>\n",
       "</table>\n",
       "<table class=\"simpletable\">\n",
       "<tr>\n",
       "   <td></td>     <th>coef</th>     <th>std err</th>      <th>t</th>      <th>P>|t|</th>  <th>[0.025</th>    <th>0.975]</th>  \n",
       "</tr>\n",
       "<tr>\n",
       "  <th>x1</th> <td>    2.3793</td> <td>    0.030</td> <td>   79.885</td> <td> 0.000</td> <td>    2.321</td> <td>    2.438</td>\n",
       "</tr>\n",
       "<tr>\n",
       "  <th>x2</th> <td>    5.0083</td> <td>    0.050</td> <td>  100.181</td> <td> 0.000</td> <td>    4.910</td> <td>    5.106</td>\n",
       "</tr>\n",
       "</table>\n",
       "<table class=\"simpletable\">\n",
       "<tr>\n",
       "  <th>Omnibus:</th>       <td> 6.008</td> <th>  Durbin-Watson:     </th> <td>   2.021</td>\n",
       "</tr>\n",
       "<tr>\n",
       "  <th>Prob(Omnibus):</th> <td> 0.050</td> <th>  Jarque-Bera (JB):  </th> <td>   5.285</td>\n",
       "</tr>\n",
       "<tr>\n",
       "  <th>Skew:</th>          <td> 0.113</td> <th>  Prob(JB):          </th> <td>  0.0712</td>\n",
       "</tr>\n",
       "<tr>\n",
       "  <th>Kurtosis:</th>      <td> 2.725</td> <th>  Cond. No.          </th> <td>    1.68</td>\n",
       "</tr>\n",
       "</table><br/><br/>Notes:<br/>[1] R² is computed without centering (uncentered) since the model does not contain a constant.<br/>[2] Standard Errors assume that the covariance matrix of the errors is correctly specified."
      ],
      "text/plain": [
       "<class 'statsmodels.iolib.summary.Summary'>\n",
       "\"\"\"\n",
       "                                 OLS Regression Results                                \n",
       "=======================================================================================\n",
       "Dep. Variable:                      y   R-squared (uncentered):                   0.944\n",
       "Model:                            OLS   Adj. R-squared (uncentered):              0.944\n",
       "Method:                 Least Squares   F-statistic:                              8399.\n",
       "Date:                Tue, 06 Jun 2023   Prob (F-statistic):                        0.00\n",
       "Time:                        15:37:40   Log-Likelihood:                         -1431.1\n",
       "No. Observations:                1000   AIC:                                      2866.\n",
       "Df Residuals:                     998   BIC:                                      2876.\n",
       "Df Model:                           2                                                  \n",
       "Covariance Type:            nonrobust                                                  \n",
       "==============================================================================\n",
       "                 coef    std err          t      P>|t|      [0.025      0.975]\n",
       "------------------------------------------------------------------------------\n",
       "x1             2.3793      0.030     79.885      0.000       2.321       2.438\n",
       "x2             5.0083      0.050    100.181      0.000       4.910       5.106\n",
       "==============================================================================\n",
       "Omnibus:                        6.008   Durbin-Watson:                   2.021\n",
       "Prob(Omnibus):                  0.050   Jarque-Bera (JB):                5.285\n",
       "Skew:                           0.113   Prob(JB):                       0.0712\n",
       "Kurtosis:                       2.725   Cond. No.                         1.68\n",
       "==============================================================================\n",
       "\n",
       "Notes:\n",
       "[1] R² is computed without centering (uncentered) since the model does not contain a constant.\n",
       "[2] Standard Errors assume that the covariance matrix of the errors is correctly specified.\n",
       "\"\"\""
      ]
     },
     "execution_count": 10,
     "metadata": {},
     "output_type": "execute_result"
    }
   ],
   "source": [
    "model = OLS(np.asarray(df[outcome]), np.asarray(df[[common_cause, treatment]], dtype=np.float64))\n",
    "result = model.fit()\n",
    "result.summary()"
   ]
  }
 ],
 "metadata": {
  "kernelspec": {
   "display_name": "Python 3",
   "language": "python",
   "name": "python3"
  },
  "language_info": {
   "codemirror_mode": {
    "name": "ipython",
    "version": 3
   },
   "file_extension": ".py",
   "mimetype": "text/x-python",
   "name": "python",
   "nbconvert_exporter": "python",
   "pygments_lexer": "ipython3",
   "version": "3.8.10"
  },
  "toc": {
   "base_numbering": 1,
   "nav_menu": {},
   "number_sections": false,
   "sideBar": true,
   "skip_h1_title": true,
   "title_cell": "Table of Contents",
   "title_sidebar": "Contents",
   "toc_cell": false,
   "toc_position": {},
   "toc_section_display": true,
   "toc_window_display": false
  }
 },
 "nbformat": 4,
 "nbformat_minor": 4
}
