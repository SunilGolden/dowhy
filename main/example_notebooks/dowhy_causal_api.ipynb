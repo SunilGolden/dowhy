{
 "cells": [
  {
   "cell_type": "markdown",
   "metadata": {},
   "source": [
    "# Demo for the DoWhy causal API\n",
    "We show a simple example of adding a causal extension to any dataframe. "
   ]
  },
  {
   "cell_type": "code",
   "execution_count": 1,
   "metadata": {
    "execution": {
     "iopub.execute_input": "2023-02-06T13:51:08.324183Z",
     "iopub.status.busy": "2023-02-06T13:51:08.323980Z",
     "iopub.status.idle": "2023-02-06T13:51:09.874090Z",
     "shell.execute_reply": "2023-02-06T13:51:09.873431Z"
    }
   },
   "outputs": [],
   "source": [
    "import dowhy.datasets\n",
    "import dowhy.api\n",
    "\n",
    "import numpy as np\n",
    "import pandas as pd\n",
    "\n",
    "from statsmodels.api import OLS"
   ]
  },
  {
   "cell_type": "code",
   "execution_count": 2,
   "metadata": {
    "execution": {
     "iopub.execute_input": "2023-02-06T13:51:09.877928Z",
     "iopub.status.busy": "2023-02-06T13:51:09.877299Z",
     "iopub.status.idle": "2023-02-06T13:51:09.918658Z",
     "shell.execute_reply": "2023-02-06T13:51:09.918032Z"
    }
   },
   "outputs": [
    {
     "data": {
      "text/html": [
       "<div>\n",
       "<style scoped>\n",
       "    .dataframe tbody tr th:only-of-type {\n",
       "        vertical-align: middle;\n",
       "    }\n",
       "\n",
       "    .dataframe tbody tr th {\n",
       "        vertical-align: top;\n",
       "    }\n",
       "\n",
       "    .dataframe thead th {\n",
       "        text-align: right;\n",
       "    }\n",
       "</style>\n",
       "<table border=\"1\" class=\"dataframe\">\n",
       "  <thead>\n",
       "    <tr style=\"text-align: right;\">\n",
       "      <th></th>\n",
       "      <th>W0</th>\n",
       "      <th>v0</th>\n",
       "      <th>y</th>\n",
       "    </tr>\n",
       "  </thead>\n",
       "  <tbody>\n",
       "    <tr>\n",
       "      <th>0</th>\n",
       "      <td>-0.867880</td>\n",
       "      <td>False</td>\n",
       "      <td>-1.213537</td>\n",
       "    </tr>\n",
       "    <tr>\n",
       "      <th>1</th>\n",
       "      <td>-2.046701</td>\n",
       "      <td>True</td>\n",
       "      <td>3.201041</td>\n",
       "    </tr>\n",
       "    <tr>\n",
       "      <th>2</th>\n",
       "      <td>0.750621</td>\n",
       "      <td>True</td>\n",
       "      <td>6.472341</td>\n",
       "    </tr>\n",
       "    <tr>\n",
       "      <th>3</th>\n",
       "      <td>-1.246989</td>\n",
       "      <td>True</td>\n",
       "      <td>2.327949</td>\n",
       "    </tr>\n",
       "    <tr>\n",
       "      <th>4</th>\n",
       "      <td>-0.819353</td>\n",
       "      <td>False</td>\n",
       "      <td>-2.502402</td>\n",
       "    </tr>\n",
       "    <tr>\n",
       "      <th>...</th>\n",
       "      <td>...</td>\n",
       "      <td>...</td>\n",
       "      <td>...</td>\n",
       "    </tr>\n",
       "    <tr>\n",
       "      <th>995</th>\n",
       "      <td>0.523252</td>\n",
       "      <td>False</td>\n",
       "      <td>-0.207875</td>\n",
       "    </tr>\n",
       "    <tr>\n",
       "      <th>996</th>\n",
       "      <td>-0.329161</td>\n",
       "      <td>False</td>\n",
       "      <td>-0.585180</td>\n",
       "    </tr>\n",
       "    <tr>\n",
       "      <th>997</th>\n",
       "      <td>-1.867915</td>\n",
       "      <td>False</td>\n",
       "      <td>-4.556996</td>\n",
       "    </tr>\n",
       "    <tr>\n",
       "      <th>998</th>\n",
       "      <td>0.321734</td>\n",
       "      <td>False</td>\n",
       "      <td>1.469323</td>\n",
       "    </tr>\n",
       "    <tr>\n",
       "      <th>999</th>\n",
       "      <td>-0.351283</td>\n",
       "      <td>True</td>\n",
       "      <td>5.007307</td>\n",
       "    </tr>\n",
       "  </tbody>\n",
       "</table>\n",
       "<p>1000 rows × 3 columns</p>\n",
       "</div>"
      ],
      "text/plain": [
       "           W0     v0         y\n",
       "0   -0.867880  False -1.213537\n",
       "1   -2.046701   True  3.201041\n",
       "2    0.750621   True  6.472341\n",
       "3   -1.246989   True  2.327949\n",
       "4   -0.819353  False -2.502402\n",
       "..        ...    ...       ...\n",
       "995  0.523252  False -0.207875\n",
       "996 -0.329161  False -0.585180\n",
       "997 -1.867915  False -4.556996\n",
       "998  0.321734  False  1.469323\n",
       "999 -0.351283   True  5.007307\n",
       "\n",
       "[1000 rows x 3 columns]"
      ]
     },
     "execution_count": 2,
     "metadata": {},
     "output_type": "execute_result"
    }
   ],
   "source": [
    "data = dowhy.datasets.linear_dataset(beta=5,\n",
    "        num_common_causes=1,\n",
    "        num_instruments = 0,\n",
    "        num_samples=1000,\n",
    "        treatment_is_binary=True)\n",
    "df = data['df']\n",
    "df['y'] = df['y'] + np.random.normal(size=len(df)) # Adding noise to data. Without noise, the variance in Y|X, Z is zero, and mcmc fails.\n",
    "#data['dot_graph'] = 'digraph { v ->y;X0-> v;X0-> y;}'\n",
    "\n",
    "treatment= data[\"treatment_name\"][0]\n",
    "outcome = data[\"outcome_name\"][0]\n",
    "common_cause = data[\"common_causes_names\"][0]\n",
    "df"
   ]
  },
  {
   "cell_type": "code",
   "execution_count": 3,
   "metadata": {
    "execution": {
     "iopub.execute_input": "2023-02-06T13:51:09.921829Z",
     "iopub.status.busy": "2023-02-06T13:51:09.921329Z",
     "iopub.status.idle": "2023-02-06T13:51:10.150039Z",
     "shell.execute_reply": "2023-02-06T13:51:10.149428Z"
    }
   },
   "outputs": [
    {
     "data": {
      "text/plain": [
       "<AxesSubplot: xlabel='v0'>"
      ]
     },
     "execution_count": 3,
     "metadata": {},
     "output_type": "execute_result"
    },
    {
     "data": {
      "image/png": "[encoded data removed]",
      "text/plain": [
       "<Figure size 640x480 with 1 Axes>"
      ]
     },
     "metadata": {},
     "output_type": "display_data"
    }
   ],
   "source": [
    "# data['df'] is just a regular pandas.DataFrame\n",
    "df.causal.do(x=treatment,\n",
    "                     variable_types={treatment: 'b', outcome: 'c', common_cause: 'c'},\n",
    "                     outcome=outcome,\n",
    "                     common_causes=[common_cause],\n",
    "                     proceed_when_unidentifiable=True).groupby(treatment).mean().plot(y=outcome, kind='bar')"
   ]
  },
  {
   "cell_type": "code",
   "execution_count": 4,
   "metadata": {
    "execution": {
     "iopub.execute_input": "2023-02-06T13:51:10.153015Z",
     "iopub.status.busy": "2023-02-06T13:51:10.152677Z",
     "iopub.status.idle": "2023-02-06T13:51:10.279406Z",
     "shell.execute_reply": "2023-02-06T13:51:10.278794Z"
    }
   },
   "outputs": [
    {
     "data": {
      "text/plain": [
       "<AxesSubplot: xlabel='v0'>"
      ]
     },
     "execution_count": 4,
     "metadata": {},
     "output_type": "execute_result"
    },
    {
     "data": {
      "image/png": "[encoded data removed]",
      "text/plain": [
       "<Figure size 640x480 with 1 Axes>"
      ]
     },
     "metadata": {},
     "output_type": "display_data"
    }
   ],
   "source": [
    "df.causal.do(x={treatment: 1}, \n",
    "              variable_types={treatment:'b', outcome: 'c', common_cause: 'c'}, \n",
    "              outcome=outcome,\n",
    "              method='weighting', \n",
    "              common_causes=[common_cause],\n",
    "              proceed_when_unidentifiable=True).groupby(treatment).mean().plot(y=outcome, kind='bar')"
   ]
  },
  {
   "cell_type": "code",
   "execution_count": 5,
   "metadata": {
    "execution": {
     "iopub.execute_input": "2023-02-06T13:51:10.282425Z",
     "iopub.status.busy": "2023-02-06T13:51:10.282033Z",
     "iopub.status.idle": "2023-02-06T13:51:10.310715Z",
     "shell.execute_reply": "2023-02-06T13:51:10.310128Z"
    }
   },
   "outputs": [],
   "source": [
    "cdf_1 = df.causal.do(x={treatment: 1}, \n",
    "              variable_types={treatment: 'b', outcome: 'c', common_cause: 'c'}, \n",
    "              outcome=outcome, \n",
    "              dot_graph=data['dot_graph'],\n",
    "              proceed_when_unidentifiable=True)\n",
    "\n",
    "cdf_0 = df.causal.do(x={treatment: 0}, \n",
    "              variable_types={treatment: 'b', outcome: 'c', common_cause: 'c'}, \n",
    "              outcome=outcome, \n",
    "              dot_graph=data['dot_graph'],\n",
    "              proceed_when_unidentifiable=True)\n"
   ]
  },
  {
   "cell_type": "code",
   "execution_count": 6,
   "metadata": {
    "execution": {
     "iopub.execute_input": "2023-02-06T13:51:10.313621Z",
     "iopub.status.busy": "2023-02-06T13:51:10.313039Z",
     "iopub.status.idle": "2023-02-06T13:51:10.323031Z",
     "shell.execute_reply": "2023-02-06T13:51:10.322447Z"
    },
    "scrolled": true
   },
   "outputs": [
    {
     "data": {
      "text/html": [
       "<div>\n",
       "<style scoped>\n",
       "    .dataframe tbody tr th:only-of-type {\n",
       "        vertical-align: middle;\n",
       "    }\n",
       "\n",
       "    .dataframe tbody tr th {\n",
       "        vertical-align: top;\n",
       "    }\n",
       "\n",
       "    .dataframe thead th {\n",
       "        text-align: right;\n",
       "    }\n",
       "</style>\n",
       "<table border=\"1\" class=\"dataframe\">\n",
       "  <thead>\n",
       "    <tr style=\"text-align: right;\">\n",
       "      <th></th>\n",
       "      <th>W0</th>\n",
       "      <th>v0</th>\n",
       "      <th>y</th>\n",
       "      <th>propensity_score</th>\n",
       "      <th>weight</th>\n",
       "    </tr>\n",
       "  </thead>\n",
       "  <tbody>\n",
       "    <tr>\n",
       "      <th>0</th>\n",
       "      <td>-1.137521</td>\n",
       "      <td>False</td>\n",
       "      <td>-3.435970</td>\n",
       "      <td>0.513067</td>\n",
       "      <td>1.949061</td>\n",
       "    </tr>\n",
       "    <tr>\n",
       "      <th>1</th>\n",
       "      <td>-1.705167</td>\n",
       "      <td>False</td>\n",
       "      <td>-3.502448</td>\n",
       "      <td>0.538457</td>\n",
       "      <td>1.857158</td>\n",
       "    </tr>\n",
       "    <tr>\n",
       "      <th>2</th>\n",
       "      <td>0.459286</td>\n",
       "      <td>False</td>\n",
       "      <td>1.061002</td>\n",
       "      <td>0.441709</td>\n",
       "      <td>2.263935</td>\n",
       "    </tr>\n",
       "    <tr>\n",
       "      <th>3</th>\n",
       "      <td>-3.387012</td>\n",
       "      <td>False</td>\n",
       "      <td>-7.497455</td>\n",
       "      <td>0.612042</td>\n",
       "      <td>1.633875</td>\n",
       "    </tr>\n",
       "    <tr>\n",
       "      <th>4</th>\n",
       "      <td>0.295381</td>\n",
       "      <td>False</td>\n",
       "      <td>1.096117</td>\n",
       "      <td>0.448973</td>\n",
       "      <td>2.227305</td>\n",
       "    </tr>\n",
       "    <tr>\n",
       "      <th>...</th>\n",
       "      <td>...</td>\n",
       "      <td>...</td>\n",
       "      <td>...</td>\n",
       "      <td>...</td>\n",
       "      <td>...</td>\n",
       "    </tr>\n",
       "    <tr>\n",
       "      <th>995</th>\n",
       "      <td>-1.227666</td>\n",
       "      <td>False</td>\n",
       "      <td>-0.467075</td>\n",
       "      <td>0.517107</td>\n",
       "      <td>1.933834</td>\n",
       "    </tr>\n",
       "    <tr>\n",
       "      <th>996</th>\n",
       "      <td>-0.391565</td>\n",
       "      <td>False</td>\n",
       "      <td>0.879484</td>\n",
       "      <td>0.479620</td>\n",
       "      <td>2.084982</td>\n",
       "    </tr>\n",
       "    <tr>\n",
       "      <th>997</th>\n",
       "      <td>-0.810002</td>\n",
       "      <td>False</td>\n",
       "      <td>-0.138623</td>\n",
       "      <td>0.498379</td>\n",
       "      <td>2.006505</td>\n",
       "    </tr>\n",
       "    <tr>\n",
       "      <th>998</th>\n",
       "      <td>0.725354</td>\n",
       "      <td>False</td>\n",
       "      <td>1.341801</td>\n",
       "      <td>0.429971</td>\n",
       "      <td>2.325739</td>\n",
       "    </tr>\n",
       "    <tr>\n",
       "      <th>999</th>\n",
       "      <td>-1.705167</td>\n",
       "      <td>False</td>\n",
       "      <td>-3.502448</td>\n",
       "      <td>0.538457</td>\n",
       "      <td>1.857158</td>\n",
       "    </tr>\n",
       "  </tbody>\n",
       "</table>\n",
       "<p>1000 rows × 5 columns</p>\n",
       "</div>"
      ],
      "text/plain": [
       "           W0     v0         y  propensity_score    weight\n",
       "0   -1.137521  False -3.435970          0.513067  1.949061\n",
       "1   -1.705167  False -3.502448          0.538457  1.857158\n",
       "2    0.459286  False  1.061002          0.441709  2.263935\n",
       "3   -3.387012  False -7.497455          0.612042  1.633875\n",
       "4    0.295381  False  1.096117          0.448973  2.227305\n",
       "..        ...    ...       ...               ...       ...\n",
       "995 -1.227666  False -0.467075          0.517107  1.933834\n",
       "996 -0.391565  False  0.879484          0.479620  2.084982\n",
       "997 -0.810002  False -0.138623          0.498379  2.006505\n",
       "998  0.725354  False  1.341801          0.429971  2.325739\n",
       "999 -1.705167  False -3.502448          0.538457  1.857158\n",
       "\n",
       "[1000 rows x 5 columns]"
      ]
     },
     "execution_count": 6,
     "metadata": {},
     "output_type": "execute_result"
    }
   ],
   "source": [
    "cdf_0"
   ]
  },
  {
   "cell_type": "code",
   "execution_count": 7,
   "metadata": {
    "execution": {
     "iopub.execute_input": "2023-02-06T13:51:10.325774Z",
     "iopub.status.busy": "2023-02-06T13:51:10.325291Z",
     "iopub.status.idle": "2023-02-06T13:51:10.334874Z",
     "shell.execute_reply": "2023-02-06T13:51:10.334300Z"
    }
   },
   "outputs": [
    {
     "data": {
      "text/html": [
       "<div>\n",
       "<style scoped>\n",
       "    .dataframe tbody tr th:only-of-type {\n",
       "        vertical-align: middle;\n",
       "    }\n",
       "\n",
       "    .dataframe tbody tr th {\n",
       "        vertical-align: top;\n",
       "    }\n",
       "\n",
       "    .dataframe thead th {\n",
       "        text-align: right;\n",
       "    }\n",
       "</style>\n",
       "<table border=\"1\" class=\"dataframe\">\n",
       "  <thead>\n",
       "    <tr style=\"text-align: right;\">\n",
       "      <th></th>\n",
       "      <th>W0</th>\n",
       "      <th>v0</th>\n",
       "      <th>y</th>\n",
       "      <th>propensity_score</th>\n",
       "      <th>weight</th>\n",
       "    </tr>\n",
       "  </thead>\n",
       "  <tbody>\n",
       "    <tr>\n",
       "      <th>0</th>\n",
       "      <td>0.085707</td>\n",
       "      <td>True</td>\n",
       "      <td>4.980003</td>\n",
       "      <td>0.541703</td>\n",
       "      <td>1.846031</td>\n",
       "    </tr>\n",
       "    <tr>\n",
       "      <th>1</th>\n",
       "      <td>-1.731841</td>\n",
       "      <td>True</td>\n",
       "      <td>1.363895</td>\n",
       "      <td>0.460354</td>\n",
       "      <td>2.172243</td>\n",
       "    </tr>\n",
       "    <tr>\n",
       "      <th>2</th>\n",
       "      <td>-0.664555</td>\n",
       "      <td>True</td>\n",
       "      <td>3.858560</td>\n",
       "      <td>0.508145</td>\n",
       "      <td>1.967943</td>\n",
       "    </tr>\n",
       "    <tr>\n",
       "      <th>3</th>\n",
       "      <td>-0.911131</td>\n",
       "      <td>True</td>\n",
       "      <td>4.903659</td>\n",
       "      <td>0.497085</td>\n",
       "      <td>2.011729</td>\n",
       "    </tr>\n",
       "    <tr>\n",
       "      <th>4</th>\n",
       "      <td>-0.514285</td>\n",
       "      <td>True</td>\n",
       "      <td>4.953139</td>\n",
       "      <td>0.514882</td>\n",
       "      <td>1.942194</td>\n",
       "    </tr>\n",
       "    <tr>\n",
       "      <th>...</th>\n",
       "      <td>...</td>\n",
       "      <td>...</td>\n",
       "      <td>...</td>\n",
       "      <td>...</td>\n",
       "      <td>...</td>\n",
       "    </tr>\n",
       "    <tr>\n",
       "      <th>995</th>\n",
       "      <td>-2.515339</td>\n",
       "      <td>True</td>\n",
       "      <td>1.812379</td>\n",
       "      <td>0.425680</td>\n",
       "      <td>2.349185</td>\n",
       "    </tr>\n",
       "    <tr>\n",
       "      <th>996</th>\n",
       "      <td>2.197854</td>\n",
       "      <td>True</td>\n",
       "      <td>9.068542</td>\n",
       "      <td>0.633248</td>\n",
       "      <td>1.579159</td>\n",
       "    </tr>\n",
       "    <tr>\n",
       "      <th>997</th>\n",
       "      <td>1.454272</td>\n",
       "      <td>True</td>\n",
       "      <td>7.895846</td>\n",
       "      <td>0.601749</td>\n",
       "      <td>1.661822</td>\n",
       "    </tr>\n",
       "    <tr>\n",
       "      <th>998</th>\n",
       "      <td>0.151752</td>\n",
       "      <td>True</td>\n",
       "      <td>5.532625</td>\n",
       "      <td>0.544643</td>\n",
       "      <td>1.836064</td>\n",
       "    </tr>\n",
       "    <tr>\n",
       "      <th>999</th>\n",
       "      <td>1.478383</td>\n",
       "      <td>True</td>\n",
       "      <td>9.560323</td>\n",
       "      <td>0.602785</td>\n",
       "      <td>1.658965</td>\n",
       "    </tr>\n",
       "  </tbody>\n",
       "</table>\n",
       "<p>1000 rows × 5 columns</p>\n",
       "</div>"
      ],
      "text/plain": [
       "           W0    v0         y  propensity_score    weight\n",
       "0    0.085707  True  4.980003          0.541703  1.846031\n",
       "1   -1.731841  True  1.363895          0.460354  2.172243\n",
       "2   -0.664555  True  3.858560          0.508145  1.967943\n",
       "3   -0.911131  True  4.903659          0.497085  2.011729\n",
       "4   -0.514285  True  4.953139          0.514882  1.942194\n",
       "..        ...   ...       ...               ...       ...\n",
       "995 -2.515339  True  1.812379          0.425680  2.349185\n",
       "996  2.197854  True  9.068542          0.633248  1.579159\n",
       "997  1.454272  True  7.895846          0.601749  1.661822\n",
       "998  0.151752  True  5.532625          0.544643  1.836064\n",
       "999  1.478383  True  9.560323          0.602785  1.658965\n",
       "\n",
       "[1000 rows x 5 columns]"
      ]
     },
     "execution_count": 7,
     "metadata": {},
     "output_type": "execute_result"
    }
   ],
   "source": [
    "cdf_1"
   ]
  },
  {
   "cell_type": "markdown",
   "metadata": {},
   "source": [
    "## Comparing the estimate to Linear Regression\n",
    "First, estimating the effect using the causal data frame, and the 95% confidence interval."
   ]
  },
  {
   "cell_type": "code",
   "execution_count": 8,
   "metadata": {
    "execution": {
     "iopub.execute_input": "2023-02-06T13:51:10.338147Z",
     "iopub.status.busy": "2023-02-06T13:51:10.337663Z",
     "iopub.status.idle": "2023-02-06T13:51:10.394183Z",
     "shell.execute_reply": "2023-02-06T13:51:10.393549Z"
    }
   },
   "outputs": [
    {
     "data": {
      "image/png": "[encoded data removed]",
      "text/latex": [
       "$\\displaystyle 5.03691831872918$"
      ],
      "text/plain": [
       "5.036918318729177"
      ]
     },
     "execution_count": 8,
     "metadata": {},
     "output_type": "execute_result"
    }
   ],
   "source": [
    "(cdf_1['y'] - cdf_0['y']).mean()"
   ]
  },
  {
   "cell_type": "code",
   "execution_count": 9,
   "metadata": {
    "execution": {
     "iopub.execute_input": "2023-02-06T13:51:10.397110Z",
     "iopub.status.busy": "2023-02-06T13:51:10.396620Z",
     "iopub.status.idle": "2023-02-06T13:51:10.416287Z",
     "shell.execute_reply": "2023-02-06T13:51:10.415670Z"
    }
   },
   "outputs": [
    {
     "data": {
      "image/png": "[encoded data removed]",
      "text/latex": [
       "$\\displaystyle 0.185113598631502$"
      ],
      "text/plain": [
       "0.1851135986315016"
      ]
     },
     "execution_count": 9,
     "metadata": {},
     "output_type": "execute_result"
    }
   ],
   "source": [
    "1.96*(cdf_1['y'] - cdf_0['y']).std() / np.sqrt(len(df))"
   ]
  },
  {
   "cell_type": "markdown",
   "metadata": {},
   "source": [
    "Comparing to the estimate from OLS."
   ]
  },
  {
   "cell_type": "code",
   "execution_count": 10,
   "metadata": {
    "execution": {
     "iopub.execute_input": "2023-02-06T13:51:10.419135Z",
     "iopub.status.busy": "2023-02-06T13:51:10.418655Z",
     "iopub.status.idle": "2023-02-06T13:51:10.433997Z",
     "shell.execute_reply": "2023-02-06T13:51:10.433407Z"
    }
   },
   "outputs": [
    {
     "data": {
      "text/html": [
       "<table class=\"simpletable\">\n",
       "<caption>OLS Regression Results</caption>\n",
       "<tr>\n",
       "  <th>Dep. Variable:</th>            <td>y</td>        <th>  R-squared (uncentered):</th>      <td>   0.927</td>\n",
       "</tr>\n",
       "<tr>\n",
       "  <th>Model:</th>                   <td>OLS</td>       <th>  Adj. R-squared (uncentered):</th> <td>   0.927</td>\n",
       "</tr>\n",
       "<tr>\n",
       "  <th>Method:</th>             <td>Least Squares</td>  <th>  F-statistic:       </th>          <td>   6360.</td>\n",
       "</tr>\n",
       "<tr>\n",
       "  <th>Date:</th>             <td>Mon, 06 Feb 2023</td> <th>  Prob (F-statistic):</th>           <td>  0.00</td> \n",
       "</tr>\n",
       "<tr>\n",
       "  <th>Time:</th>                 <td>13:51:10</td>     <th>  Log-Likelihood:    </th>          <td> -1432.5</td>\n",
       "</tr>\n",
       "<tr>\n",
       "  <th>No. Observations:</th>      <td>  1000</td>      <th>  AIC:               </th>          <td>   2869.</td>\n",
       "</tr>\n",
       "<tr>\n",
       "  <th>Df Residuals:</th>          <td>   998</td>      <th>  BIC:               </th>          <td>   2879.</td>\n",
       "</tr>\n",
       "<tr>\n",
       "  <th>Df Model:</th>              <td>     2</td>      <th>                     </th>              <td> </td>   \n",
       "</tr>\n",
       "<tr>\n",
       "  <th>Covariance Type:</th>      <td>nonrobust</td>    <th>                     </th>              <td> </td>   \n",
       "</tr>\n",
       "</table>\n",
       "<table class=\"simpletable\">\n",
       "<tr>\n",
       "   <td></td>     <th>coef</th>     <th>std err</th>      <th>t</th>      <th>P>|t|</th>  <th>[0.025</th>    <th>0.975]</th>  \n",
       "</tr>\n",
       "<tr>\n",
       "  <th>x1</th> <td>    1.9067</td> <td>    0.030</td> <td>   64.158</td> <td> 0.000</td> <td>    1.848</td> <td>    1.965</td>\n",
       "</tr>\n",
       "<tr>\n",
       "  <th>x2</th> <td>    5.0010</td> <td>    0.047</td> <td>  107.147</td> <td> 0.000</td> <td>    4.909</td> <td>    5.093</td>\n",
       "</tr>\n",
       "</table>\n",
       "<table class=\"simpletable\">\n",
       "<tr>\n",
       "  <th>Omnibus:</th>       <td> 1.102</td> <th>  Durbin-Watson:     </th> <td>   1.989</td>\n",
       "</tr>\n",
       "<tr>\n",
       "  <th>Prob(Omnibus):</th> <td> 0.576</td> <th>  Jarque-Bera (JB):  </th> <td>   1.131</td>\n",
       "</tr>\n",
       "<tr>\n",
       "  <th>Skew:</th>          <td> 0.020</td> <th>  Prob(JB):          </th> <td>   0.568</td>\n",
       "</tr>\n",
       "<tr>\n",
       "  <th>Kurtosis:</th>      <td> 2.840</td> <th>  Cond. No.          </th> <td>    1.72</td>\n",
       "</tr>\n",
       "</table><br/><br/>Notes:<br/>[1] R² is computed without centering (uncentered) since the model does not contain a constant.<br/>[2] Standard Errors assume that the covariance matrix of the errors is correctly specified."
      ],
      "text/plain": [
       "<class 'statsmodels.iolib.summary.Summary'>\n",
       "\"\"\"\n",
       "                                 OLS Regression Results                                \n",
       "=======================================================================================\n",
       "Dep. Variable:                      y   R-squared (uncentered):                   0.927\n",
       "Model:                            OLS   Adj. R-squared (uncentered):              0.927\n",
       "Method:                 Least Squares   F-statistic:                              6360.\n",
       "Date:                Mon, 06 Feb 2023   Prob (F-statistic):                        0.00\n",
       "Time:                        13:51:10   Log-Likelihood:                         -1432.5\n",
       "No. Observations:                1000   AIC:                                      2869.\n",
       "Df Residuals:                     998   BIC:                                      2879.\n",
       "Df Model:                           2                                                  \n",
       "Covariance Type:            nonrobust                                                  \n",
       "==============================================================================\n",
       "                 coef    std err          t      P>|t|      [0.025      0.975]\n",
       "------------------------------------------------------------------------------\n",
       "x1             1.9067      0.030     64.158      0.000       1.848       1.965\n",
       "x2             5.0010      0.047    107.147      0.000       4.909       5.093\n",
       "==============================================================================\n",
       "Omnibus:                        1.102   Durbin-Watson:                   1.989\n",
       "Prob(Omnibus):                  0.576   Jarque-Bera (JB):                1.131\n",
       "Skew:                           0.020   Prob(JB):                        0.568\n",
       "Kurtosis:                       2.840   Cond. No.                         1.72\n",
       "==============================================================================\n",
       "\n",
       "Notes:\n",
       "[1] R² is computed without centering (uncentered) since the model does not contain a constant.\n",
       "[2] Standard Errors assume that the covariance matrix of the errors is correctly specified.\n",
       "\"\"\""
      ]
     },
     "execution_count": 10,
     "metadata": {},
     "output_type": "execute_result"
    }
   ],
   "source": [
    "model = OLS(np.asarray(df[outcome]), np.asarray(df[[common_cause, treatment]], dtype=np.float64))\n",
    "result = model.fit()\n",
    "result.summary()"
   ]
  }
 ],
 "metadata": {
  "kernelspec": {
   "display_name": "Python 3",
   "language": "python",
   "name": "python3"
  },
  "language_info": {
   "codemirror_mode": {
    "name": "ipython",
    "version": 3
   },
   "file_extension": ".py",
   "mimetype": "text/x-python",
   "name": "python",
   "nbconvert_exporter": "python",
   "pygments_lexer": "ipython3",
   "version": "3.8.10"
  },
  "toc": {
   "base_numbering": 1,
   "nav_menu": {},
   "number_sections": false,
   "sideBar": true,
   "skip_h1_title": true,
   "title_cell": "Table of Contents",
   "title_sidebar": "Contents",
   "toc_cell": false,
   "toc_position": {},
   "toc_section_display": true,
   "toc_window_display": false
  }
 },
 "nbformat": 4,
 "nbformat_minor": 4
}
