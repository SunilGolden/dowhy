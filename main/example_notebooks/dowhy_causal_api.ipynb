{
 "cells": [
  {
   "cell_type": "markdown",
   "metadata": {},
   "source": [
    "# Demo for the DoWhy causal API\n",
    "We show a simple example of adding a causal extension to any dataframe. "
   ]
  },
  {
   "cell_type": "code",
   "execution_count": 1,
   "metadata": {
    "execution": {
     "iopub.execute_input": "2023-08-05T05:50:48.798747Z",
     "iopub.status.busy": "2023-08-05T05:50:48.798319Z",
     "iopub.status.idle": "2023-08-05T05:50:50.500016Z",
     "shell.execute_reply": "2023-08-05T05:50:50.499241Z"
    }
   },
   "outputs": [],
   "source": [
    "import dowhy.datasets\n",
    "import dowhy.api\n",
    "\n",
    "import numpy as np\n",
    "import pandas as pd\n",
    "\n",
    "from statsmodels.api import OLS"
   ]
  },
  {
   "cell_type": "code",
   "execution_count": 2,
   "metadata": {
    "execution": {
     "iopub.execute_input": "2023-08-05T05:50:50.504491Z",
     "iopub.status.busy": "2023-08-05T05:50:50.503810Z",
     "iopub.status.idle": "2023-08-05T05:50:50.549307Z",
     "shell.execute_reply": "2023-08-05T05:50:50.548555Z"
    }
   },
   "outputs": [
    {
     "data": {
      "text/html": [
       "<div>\n",
       "<style scoped>\n",
       "    .dataframe tbody tr th:only-of-type {\n",
       "        vertical-align: middle;\n",
       "    }\n",
       "\n",
       "    .dataframe tbody tr th {\n",
       "        vertical-align: top;\n",
       "    }\n",
       "\n",
       "    .dataframe thead th {\n",
       "        text-align: right;\n",
       "    }\n",
       "</style>\n",
       "<table border=\"1\" class=\"dataframe\">\n",
       "  <thead>\n",
       "    <tr style=\"text-align: right;\">\n",
       "      <th></th>\n",
       "      <th>W0</th>\n",
       "      <th>v0</th>\n",
       "      <th>y</th>\n",
       "    </tr>\n",
       "  </thead>\n",
       "  <tbody>\n",
       "    <tr>\n",
       "      <th>0</th>\n",
       "      <td>-0.480371</td>\n",
       "      <td>False</td>\n",
       "      <td>-3.135012</td>\n",
       "    </tr>\n",
       "    <tr>\n",
       "      <th>1</th>\n",
       "      <td>0.103664</td>\n",
       "      <td>False</td>\n",
       "      <td>0.715332</td>\n",
       "    </tr>\n",
       "    <tr>\n",
       "      <th>2</th>\n",
       "      <td>0.786123</td>\n",
       "      <td>True</td>\n",
       "      <td>6.242168</td>\n",
       "    </tr>\n",
       "    <tr>\n",
       "      <th>3</th>\n",
       "      <td>1.173100</td>\n",
       "      <td>True</td>\n",
       "      <td>7.587087</td>\n",
       "    </tr>\n",
       "    <tr>\n",
       "      <th>4</th>\n",
       "      <td>-1.842647</td>\n",
       "      <td>False</td>\n",
       "      <td>-4.290283</td>\n",
       "    </tr>\n",
       "    <tr>\n",
       "      <th>...</th>\n",
       "      <td>...</td>\n",
       "      <td>...</td>\n",
       "      <td>...</td>\n",
       "    </tr>\n",
       "    <tr>\n",
       "      <th>995</th>\n",
       "      <td>1.960450</td>\n",
       "      <td>True</td>\n",
       "      <td>9.968173</td>\n",
       "    </tr>\n",
       "    <tr>\n",
       "      <th>996</th>\n",
       "      <td>1.775299</td>\n",
       "      <td>True</td>\n",
       "      <td>8.235707</td>\n",
       "    </tr>\n",
       "    <tr>\n",
       "      <th>997</th>\n",
       "      <td>0.037464</td>\n",
       "      <td>False</td>\n",
       "      <td>-2.769256</td>\n",
       "    </tr>\n",
       "    <tr>\n",
       "      <th>998</th>\n",
       "      <td>1.196104</td>\n",
       "      <td>True</td>\n",
       "      <td>8.618906</td>\n",
       "    </tr>\n",
       "    <tr>\n",
       "      <th>999</th>\n",
       "      <td>0.791417</td>\n",
       "      <td>True</td>\n",
       "      <td>7.078833</td>\n",
       "    </tr>\n",
       "  </tbody>\n",
       "</table>\n",
       "<p>1000 rows × 3 columns</p>\n",
       "</div>"
      ],
      "text/plain": [
       "           W0     v0         y\n",
       "0   -0.480371  False -3.135012\n",
       "1    0.103664  False  0.715332\n",
       "2    0.786123   True  6.242168\n",
       "3    1.173100   True  7.587087\n",
       "4   -1.842647  False -4.290283\n",
       "..        ...    ...       ...\n",
       "995  1.960450   True  9.968173\n",
       "996  1.775299   True  8.235707\n",
       "997  0.037464  False -2.769256\n",
       "998  1.196104   True  8.618906\n",
       "999  0.791417   True  7.078833\n",
       "\n",
       "[1000 rows x 3 columns]"
      ]
     },
     "execution_count": 2,
     "metadata": {},
     "output_type": "execute_result"
    }
   ],
   "source": [
    "data = dowhy.datasets.linear_dataset(beta=5,\n",
    "        num_common_causes=1,\n",
    "        num_instruments = 0,\n",
    "        num_samples=1000,\n",
    "        treatment_is_binary=True)\n",
    "df = data['df']\n",
    "df['y'] = df['y'] + np.random.normal(size=len(df)) # Adding noise to data. Without noise, the variance in Y|X, Z is zero, and mcmc fails.\n",
    "#data['dot_graph'] = 'digraph { v ->y;X0-> v;X0-> y;}'\n",
    "\n",
    "treatment= data[\"treatment_name\"][0]\n",
    "outcome = data[\"outcome_name\"][0]\n",
    "common_cause = data[\"common_causes_names\"][0]\n",
    "df"
   ]
  },
  {
   "cell_type": "code",
   "execution_count": 3,
   "metadata": {
    "execution": {
     "iopub.execute_input": "2023-08-05T05:50:50.552541Z",
     "iopub.status.busy": "2023-08-05T05:50:50.552163Z",
     "iopub.status.idle": "2023-08-05T05:50:50.753499Z",
     "shell.execute_reply": "2023-08-05T05:50:50.752595Z"
    }
   },
   "outputs": [
    {
     "data": {
      "text/plain": [
       "<Axes: xlabel='v0'>"
      ]
     },
     "execution_count": 3,
     "metadata": {},
     "output_type": "execute_result"
    },
    {
     "data": {
      "image/png": "[encoded data removed]",
      "text/plain": [
       "<Figure size 640x480 with 1 Axes>"
      ]
     },
     "metadata": {},
     "output_type": "display_data"
    }
   ],
   "source": [
    "# data['df'] is just a regular pandas.DataFrame\n",
    "df.causal.do(x=treatment,\n",
    "                     variable_types={treatment: 'b', outcome: 'c', common_cause: 'c'},\n",
    "                     outcome=outcome,\n",
    "                     common_causes=[common_cause],\n",
    "                     proceed_when_unidentifiable=True).groupby(treatment).mean().plot(y=outcome, kind='bar')"
   ]
  },
  {
   "cell_type": "code",
   "execution_count": 4,
   "metadata": {
    "execution": {
     "iopub.execute_input": "2023-08-05T05:50:50.756965Z",
     "iopub.status.busy": "2023-08-05T05:50:50.756412Z",
     "iopub.status.idle": "2023-08-05T05:50:50.890450Z",
     "shell.execute_reply": "2023-08-05T05:50:50.889831Z"
    }
   },
   "outputs": [
    {
     "data": {
      "text/plain": [
       "<Axes: xlabel='v0'>"
      ]
     },
     "execution_count": 4,
     "metadata": {},
     "output_type": "execute_result"
    },
    {
     "data": {
      "image/png": "[encoded data removed]",
      "text/plain": [
       "<Figure size 640x480 with 1 Axes>"
      ]
     },
     "metadata": {},
     "output_type": "display_data"
    }
   ],
   "source": [
    "df.causal.do(x={treatment: 1}, \n",
    "              variable_types={treatment:'b', outcome: 'c', common_cause: 'c'}, \n",
    "              outcome=outcome,\n",
    "              method='weighting', \n",
    "              common_causes=[common_cause],\n",
    "              proceed_when_unidentifiable=True).groupby(treatment).mean().plot(y=outcome, kind='bar')"
   ]
  },
  {
   "cell_type": "code",
   "execution_count": 5,
   "metadata": {
    "execution": {
     "iopub.execute_input": "2023-08-05T05:50:50.893567Z",
     "iopub.status.busy": "2023-08-05T05:50:50.893095Z",
     "iopub.status.idle": "2023-08-05T05:50:50.924871Z",
     "shell.execute_reply": "2023-08-05T05:50:50.924216Z"
    }
   },
   "outputs": [],
   "source": [
    "cdf_1 = df.causal.do(x={treatment: 1}, \n",
    "              variable_types={treatment: 'b', outcome: 'c', common_cause: 'c'}, \n",
    "              outcome=outcome, \n",
    "              dot_graph=data['dot_graph'],\n",
    "              proceed_when_unidentifiable=True)\n",
    "\n",
    "cdf_0 = df.causal.do(x={treatment: 0}, \n",
    "              variable_types={treatment: 'b', outcome: 'c', common_cause: 'c'}, \n",
    "              outcome=outcome, \n",
    "              dot_graph=data['dot_graph'],\n",
    "              proceed_when_unidentifiable=True)\n"
   ]
  },
  {
   "cell_type": "code",
   "execution_count": 6,
   "metadata": {
    "execution": {
     "iopub.execute_input": "2023-08-05T05:50:50.928271Z",
     "iopub.status.busy": "2023-08-05T05:50:50.927841Z",
     "iopub.status.idle": "2023-08-05T05:50:50.938706Z",
     "shell.execute_reply": "2023-08-05T05:50:50.938039Z"
    },
    "scrolled": true
   },
   "outputs": [
    {
     "data": {
      "text/html": [
       "<div>\n",
       "<style scoped>\n",
       "    .dataframe tbody tr th:only-of-type {\n",
       "        vertical-align: middle;\n",
       "    }\n",
       "\n",
       "    .dataframe tbody tr th {\n",
       "        vertical-align: top;\n",
       "    }\n",
       "\n",
       "    .dataframe thead th {\n",
       "        text-align: right;\n",
       "    }\n",
       "</style>\n",
       "<table border=\"1\" class=\"dataframe\">\n",
       "  <thead>\n",
       "    <tr style=\"text-align: right;\">\n",
       "      <th></th>\n",
       "      <th>W0</th>\n",
       "      <th>v0</th>\n",
       "      <th>y</th>\n",
       "      <th>propensity_score</th>\n",
       "      <th>weight</th>\n",
       "    </tr>\n",
       "  </thead>\n",
       "  <tbody>\n",
       "    <tr>\n",
       "      <th>0</th>\n",
       "      <td>1.302360</td>\n",
       "      <td>False</td>\n",
       "      <td>3.866001</td>\n",
       "      <td>0.076712</td>\n",
       "      <td>13.035744</td>\n",
       "    </tr>\n",
       "    <tr>\n",
       "      <th>1</th>\n",
       "      <td>1.003934</td>\n",
       "      <td>False</td>\n",
       "      <td>3.209871</td>\n",
       "      <td>0.129154</td>\n",
       "      <td>7.742682</td>\n",
       "    </tr>\n",
       "    <tr>\n",
       "      <th>2</th>\n",
       "      <td>-0.327079</td>\n",
       "      <td>False</td>\n",
       "      <td>-0.662447</td>\n",
       "      <td>0.662808</td>\n",
       "      <td>1.508732</td>\n",
       "    </tr>\n",
       "    <tr>\n",
       "      <th>3</th>\n",
       "      <td>0.331417</td>\n",
       "      <td>False</td>\n",
       "      <td>1.722785</td>\n",
       "      <td>0.353726</td>\n",
       "      <td>2.827047</td>\n",
       "    </tr>\n",
       "    <tr>\n",
       "      <th>4</th>\n",
       "      <td>-0.727175</td>\n",
       "      <td>False</td>\n",
       "      <td>-1.064258</td>\n",
       "      <td>0.810407</td>\n",
       "      <td>1.233948</td>\n",
       "    </tr>\n",
       "    <tr>\n",
       "      <th>...</th>\n",
       "      <td>...</td>\n",
       "      <td>...</td>\n",
       "      <td>...</td>\n",
       "      <td>...</td>\n",
       "      <td>...</td>\n",
       "    </tr>\n",
       "    <tr>\n",
       "      <th>995</th>\n",
       "      <td>1.221924</td>\n",
       "      <td>False</td>\n",
       "      <td>3.217336</td>\n",
       "      <td>0.088531</td>\n",
       "      <td>11.295490</td>\n",
       "    </tr>\n",
       "    <tr>\n",
       "      <th>996</th>\n",
       "      <td>-1.620160</td>\n",
       "      <td>False</td>\n",
       "      <td>-3.897455</td>\n",
       "      <td>0.960322</td>\n",
       "      <td>1.041317</td>\n",
       "    </tr>\n",
       "    <tr>\n",
       "      <th>997</th>\n",
       "      <td>-0.316795</td>\n",
       "      <td>False</td>\n",
       "      <td>-0.289759</td>\n",
       "      <td>0.658331</td>\n",
       "      <td>1.518992</td>\n",
       "    </tr>\n",
       "    <tr>\n",
       "      <th>998</th>\n",
       "      <td>0.697003</td>\n",
       "      <td>False</td>\n",
       "      <td>1.832039</td>\n",
       "      <td>0.212065</td>\n",
       "      <td>4.715531</td>\n",
       "    </tr>\n",
       "    <tr>\n",
       "      <th>999</th>\n",
       "      <td>-0.764097</td>\n",
       "      <td>False</td>\n",
       "      <td>-2.609588</td>\n",
       "      <td>0.821178</td>\n",
       "      <td>1.217763</td>\n",
       "    </tr>\n",
       "  </tbody>\n",
       "</table>\n",
       "<p>1000 rows × 5 columns</p>\n",
       "</div>"
      ],
      "text/plain": [
       "           W0     v0         y  propensity_score     weight\n",
       "0    1.302360  False  3.866001          0.076712  13.035744\n",
       "1    1.003934  False  3.209871          0.129154   7.742682\n",
       "2   -0.327079  False -0.662447          0.662808   1.508732\n",
       "3    0.331417  False  1.722785          0.353726   2.827047\n",
       "4   -0.727175  False -1.064258          0.810407   1.233948\n",
       "..        ...    ...       ...               ...        ...\n",
       "995  1.221924  False  3.217336          0.088531  11.295490\n",
       "996 -1.620160  False -3.897455          0.960322   1.041317\n",
       "997 -0.316795  False -0.289759          0.658331   1.518992\n",
       "998  0.697003  False  1.832039          0.212065   4.715531\n",
       "999 -0.764097  False -2.609588          0.821178   1.217763\n",
       "\n",
       "[1000 rows x 5 columns]"
      ]
     },
     "execution_count": 6,
     "metadata": {},
     "output_type": "execute_result"
    }
   ],
   "source": [
    "cdf_0"
   ]
  },
  {
   "cell_type": "code",
   "execution_count": 7,
   "metadata": {
    "execution": {
     "iopub.execute_input": "2023-08-05T05:50:50.942565Z",
     "iopub.status.busy": "2023-08-05T05:50:50.942052Z",
     "iopub.status.idle": "2023-08-05T05:50:50.952498Z",
     "shell.execute_reply": "2023-08-05T05:50:50.951729Z"
    }
   },
   "outputs": [
    {
     "data": {
      "text/html": [
       "<div>\n",
       "<style scoped>\n",
       "    .dataframe tbody tr th:only-of-type {\n",
       "        vertical-align: middle;\n",
       "    }\n",
       "\n",
       "    .dataframe tbody tr th {\n",
       "        vertical-align: top;\n",
       "    }\n",
       "\n",
       "    .dataframe thead th {\n",
       "        text-align: right;\n",
       "    }\n",
       "</style>\n",
       "<table border=\"1\" class=\"dataframe\">\n",
       "  <thead>\n",
       "    <tr style=\"text-align: right;\">\n",
       "      <th></th>\n",
       "      <th>W0</th>\n",
       "      <th>v0</th>\n",
       "      <th>y</th>\n",
       "      <th>propensity_score</th>\n",
       "      <th>weight</th>\n",
       "    </tr>\n",
       "  </thead>\n",
       "  <tbody>\n",
       "    <tr>\n",
       "      <th>0</th>\n",
       "      <td>1.768444</td>\n",
       "      <td>True</td>\n",
       "      <td>8.952498</td>\n",
       "      <td>0.967480</td>\n",
       "      <td>1.033613</td>\n",
       "    </tr>\n",
       "    <tr>\n",
       "      <th>1</th>\n",
       "      <td>-0.144542</td>\n",
       "      <td>True</td>\n",
       "      <td>4.568834</td>\n",
       "      <td>0.420330</td>\n",
       "      <td>2.379083</td>\n",
       "    </tr>\n",
       "    <tr>\n",
       "      <th>2</th>\n",
       "      <td>-0.195102</td>\n",
       "      <td>True</td>\n",
       "      <td>5.575443</td>\n",
       "      <td>0.396616</td>\n",
       "      <td>2.521333</td>\n",
       "    </tr>\n",
       "    <tr>\n",
       "      <th>3</th>\n",
       "      <td>-0.563416</td>\n",
       "      <td>True</td>\n",
       "      <td>2.818751</td>\n",
       "      <td>0.243294</td>\n",
       "      <td>4.110251</td>\n",
       "    </tr>\n",
       "    <tr>\n",
       "      <th>4</th>\n",
       "      <td>-0.364618</td>\n",
       "      <td>True</td>\n",
       "      <td>5.110311</td>\n",
       "      <td>0.321101</td>\n",
       "      <td>3.114289</td>\n",
       "    </tr>\n",
       "    <tr>\n",
       "      <th>...</th>\n",
       "      <td>...</td>\n",
       "      <td>...</td>\n",
       "      <td>...</td>\n",
       "      <td>...</td>\n",
       "      <td>...</td>\n",
       "    </tr>\n",
       "    <tr>\n",
       "      <th>995</th>\n",
       "      <td>1.196104</td>\n",
       "      <td>True</td>\n",
       "      <td>8.618906</td>\n",
       "      <td>0.907339</td>\n",
       "      <td>1.102123</td>\n",
       "    </tr>\n",
       "    <tr>\n",
       "      <th>996</th>\n",
       "      <td>-0.712902</td>\n",
       "      <td>True</td>\n",
       "      <td>2.999350</td>\n",
       "      <td>0.193888</td>\n",
       "      <td>5.157630</td>\n",
       "    </tr>\n",
       "    <tr>\n",
       "      <th>997</th>\n",
       "      <td>-0.435223</td>\n",
       "      <td>True</td>\n",
       "      <td>6.260753</td>\n",
       "      <td>0.291976</td>\n",
       "      <td>3.424934</td>\n",
       "    </tr>\n",
       "    <tr>\n",
       "      <th>998</th>\n",
       "      <td>-0.196658</td>\n",
       "      <td>True</td>\n",
       "      <td>5.494470</td>\n",
       "      <td>0.395893</td>\n",
       "      <td>2.525935</td>\n",
       "    </tr>\n",
       "    <tr>\n",
       "      <th>999</th>\n",
       "      <td>0.950422</td>\n",
       "      <td>True</td>\n",
       "      <td>6.770376</td>\n",
       "      <td>0.858703</td>\n",
       "      <td>1.164547</td>\n",
       "    </tr>\n",
       "  </tbody>\n",
       "</table>\n",
       "<p>1000 rows × 5 columns</p>\n",
       "</div>"
      ],
      "text/plain": [
       "           W0    v0         y  propensity_score    weight\n",
       "0    1.768444  True  8.952498          0.967480  1.033613\n",
       "1   -0.144542  True  4.568834          0.420330  2.379083\n",
       "2   -0.195102  True  5.575443          0.396616  2.521333\n",
       "3   -0.563416  True  2.818751          0.243294  4.110251\n",
       "4   -0.364618  True  5.110311          0.321101  3.114289\n",
       "..        ...   ...       ...               ...       ...\n",
       "995  1.196104  True  8.618906          0.907339  1.102123\n",
       "996 -0.712902  True  2.999350          0.193888  5.157630\n",
       "997 -0.435223  True  6.260753          0.291976  3.424934\n",
       "998 -0.196658  True  5.494470          0.395893  2.525935\n",
       "999  0.950422  True  6.770376          0.858703  1.164547\n",
       "\n",
       "[1000 rows x 5 columns]"
      ]
     },
     "execution_count": 7,
     "metadata": {},
     "output_type": "execute_result"
    }
   ],
   "source": [
    "cdf_1"
   ]
  },
  {
   "cell_type": "markdown",
   "metadata": {},
   "source": [
    "## Comparing the estimate to Linear Regression\n",
    "First, estimating the effect using the causal data frame, and the 95% confidence interval."
   ]
  },
  {
   "cell_type": "code",
   "execution_count": 8,
   "metadata": {
    "execution": {
     "iopub.execute_input": "2023-08-05T05:50:50.956373Z",
     "iopub.status.busy": "2023-08-05T05:50:50.955874Z",
     "iopub.status.idle": "2023-08-05T05:50:51.016303Z",
     "shell.execute_reply": "2023-08-05T05:50:51.015497Z"
    }
   },
   "outputs": [
    {
     "data": {
      "image/png": "[encoded data removed]",
      "text/latex": [
       "$\\displaystyle 5.28811005837043$"
      ],
      "text/plain": [
       "5.2881100583704255"
      ]
     },
     "execution_count": 8,
     "metadata": {},
     "output_type": "execute_result"
    }
   ],
   "source": [
    "(cdf_1['y'] - cdf_0['y']).mean()"
   ]
  },
  {
   "cell_type": "code",
   "execution_count": 9,
   "metadata": {
    "execution": {
     "iopub.execute_input": "2023-08-05T05:50:51.020124Z",
     "iopub.status.busy": "2023-08-05T05:50:51.019604Z",
     "iopub.status.idle": "2023-08-05T05:50:51.039622Z",
     "shell.execute_reply": "2023-08-05T05:50:51.038941Z"
    }
   },
   "outputs": [
    {
     "data": {
      "image/png": "[encoded data removed]",
      "text/latex": [
       "$\\displaystyle 0.21946097023037$"
      ],
      "text/plain": [
       "0.21946097023036987"
      ]
     },
     "execution_count": 9,
     "metadata": {},
     "output_type": "execute_result"
    }
   ],
   "source": [
    "1.96*(cdf_1['y'] - cdf_0['y']).std() / np.sqrt(len(df))"
   ]
  },
  {
   "cell_type": "markdown",
   "metadata": {},
   "source": [
    "Comparing to the estimate from OLS."
   ]
  },
  {
   "cell_type": "code",
   "execution_count": 10,
   "metadata": {
    "execution": {
     "iopub.execute_input": "2023-08-05T05:50:51.043114Z",
     "iopub.status.busy": "2023-08-05T05:50:51.042629Z",
     "iopub.status.idle": "2023-08-05T05:50:51.064180Z",
     "shell.execute_reply": "2023-08-05T05:50:51.063483Z"
    }
   },
   "outputs": [
    {
     "data": {
      "text/html": [
       "<table class=\"simpletable\">\n",
       "<caption>OLS Regression Results</caption>\n",
       "<tr>\n",
       "  <th>Dep. Variable:</th>            <td>y</td>        <th>  R-squared (uncentered):</th>      <td>   0.963</td> \n",
       "</tr>\n",
       "<tr>\n",
       "  <th>Model:</th>                   <td>OLS</td>       <th>  Adj. R-squared (uncentered):</th> <td>   0.963</td> \n",
       "</tr>\n",
       "<tr>\n",
       "  <th>Method:</th>             <td>Least Squares</td>  <th>  F-statistic:       </th>          <td>1.289e+04</td>\n",
       "</tr>\n",
       "<tr>\n",
       "  <th>Date:</th>             <td>Sat, 05 Aug 2023</td> <th>  Prob (F-statistic):</th>           <td>  0.00</td>  \n",
       "</tr>\n",
       "<tr>\n",
       "  <th>Time:</th>                 <td>05:50:51</td>     <th>  Log-Likelihood:    </th>          <td> -1470.2</td> \n",
       "</tr>\n",
       "<tr>\n",
       "  <th>No. Observations:</th>      <td>  1000</td>      <th>  AIC:               </th>          <td>   2944.</td> \n",
       "</tr>\n",
       "<tr>\n",
       "  <th>Df Residuals:</th>          <td>   998</td>      <th>  BIC:               </th>          <td>   2954.</td> \n",
       "</tr>\n",
       "<tr>\n",
       "  <th>Df Model:</th>              <td>     2</td>      <th>                     </th>              <td> </td>    \n",
       "</tr>\n",
       "<tr>\n",
       "  <th>Covariance Type:</th>      <td>nonrobust</td>    <th>                     </th>              <td> </td>    \n",
       "</tr>\n",
       "</table>\n",
       "<table class=\"simpletable\">\n",
       "<tr>\n",
       "   <td></td>     <th>coef</th>     <th>std err</th>      <th>t</th>      <th>P>|t|</th>  <th>[0.025</th>    <th>0.975]</th>  \n",
       "</tr>\n",
       "<tr>\n",
       "  <th>x1</th> <td>    2.3322</td> <td>    0.038</td> <td>   60.900</td> <td> 0.000</td> <td>    2.257</td> <td>    2.407</td>\n",
       "</tr>\n",
       "<tr>\n",
       "  <th>x2</th> <td>    5.0073</td> <td>    0.053</td> <td>   93.925</td> <td> 0.000</td> <td>    4.903</td> <td>    5.112</td>\n",
       "</tr>\n",
       "</table>\n",
       "<table class=\"simpletable\">\n",
       "<tr>\n",
       "  <th>Omnibus:</th>       <td> 0.627</td> <th>  Durbin-Watson:     </th> <td>   1.908</td>\n",
       "</tr>\n",
       "<tr>\n",
       "  <th>Prob(Omnibus):</th> <td> 0.731</td> <th>  Jarque-Bera (JB):  </th> <td>   0.681</td>\n",
       "</tr>\n",
       "<tr>\n",
       "  <th>Skew:</th>          <td>-0.058</td> <th>  Prob(JB):          </th> <td>   0.711</td>\n",
       "</tr>\n",
       "<tr>\n",
       "  <th>Kurtosis:</th>      <td> 2.945</td> <th>  Cond. No.          </th> <td>    1.98</td>\n",
       "</tr>\n",
       "</table><br/><br/>Notes:<br/>[1] R² is computed without centering (uncentered) since the model does not contain a constant.<br/>[2] Standard Errors assume that the covariance matrix of the errors is correctly specified."
      ],
      "text/latex": [
       "\\begin{center}\n",
       "\\begin{tabular}{lclc}\n",
       "\\toprule\n",
       "\\textbf{Dep. Variable:}    &        y         & \\textbf{  R-squared (uncentered):}      &     0.963   \\\\\n",
       "\\textbf{Model:}            &       OLS        & \\textbf{  Adj. R-squared (uncentered):} &     0.963   \\\\\n",
       "\\textbf{Method:}           &  Least Squares   & \\textbf{  F-statistic:       }          & 1.289e+04   \\\\\n",
       "\\textbf{Date:}             & Sat, 05 Aug 2023 & \\textbf{  Prob (F-statistic):}          &     0.00    \\\\\n",
       "\\textbf{Time:}             &     05:50:51     & \\textbf{  Log-Likelihood:    }          &   -1470.2   \\\\\n",
       "\\textbf{No. Observations:} &        1000      & \\textbf{  AIC:               }          &     2944.   \\\\\n",
       "\\textbf{Df Residuals:}     &         998      & \\textbf{  BIC:               }          &     2954.   \\\\\n",
       "\\textbf{Df Model:}         &           2      & \\textbf{                     }          &             \\\\\n",
       "\\textbf{Covariance Type:}  &    nonrobust     & \\textbf{                     }          &             \\\\\n",
       "\\bottomrule\n",
       "\\end{tabular}\n",
       "\\begin{tabular}{lcccccc}\n",
       "            & \\textbf{coef} & \\textbf{std err} & \\textbf{t} & \\textbf{P$> |$t$|$} & \\textbf{[0.025} & \\textbf{0.975]}  \\\\\n",
       "\\midrule\n",
       "\\textbf{x1} &       2.3322  &        0.038     &    60.900  &         0.000        &        2.257    &        2.407     \\\\\n",
       "\\textbf{x2} &       5.0073  &        0.053     &    93.925  &         0.000        &        4.903    &        5.112     \\\\\n",
       "\\bottomrule\n",
       "\\end{tabular}\n",
       "\\begin{tabular}{lclc}\n",
       "\\textbf{Omnibus:}       &  0.627 & \\textbf{  Durbin-Watson:     } &    1.908  \\\\\n",
       "\\textbf{Prob(Omnibus):} &  0.731 & \\textbf{  Jarque-Bera (JB):  } &    0.681  \\\\\n",
       "\\textbf{Skew:}          & -0.058 & \\textbf{  Prob(JB):          } &    0.711  \\\\\n",
       "\\textbf{Kurtosis:}      &  2.945 & \\textbf{  Cond. No.          } &     1.98  \\\\\n",
       "\\bottomrule\n",
       "\\end{tabular}\n",
       "%\\caption{OLS Regression Results}\n",
       "\\end{center}\n",
       "\n",
       "Notes: \\newline\n",
       " [1] R² is computed without centering (uncentered) since the model does not contain a constant. \\newline\n",
       " [2] Standard Errors assume that the covariance matrix of the errors is correctly specified."
      ],
      "text/plain": [
       "<class 'statsmodels.iolib.summary.Summary'>\n",
       "\"\"\"\n",
       "                                 OLS Regression Results                                \n",
       "=======================================================================================\n",
       "Dep. Variable:                      y   R-squared (uncentered):                   0.963\n",
       "Model:                            OLS   Adj. R-squared (uncentered):              0.963\n",
       "Method:                 Least Squares   F-statistic:                          1.289e+04\n",
       "Date:                Sat, 05 Aug 2023   Prob (F-statistic):                        0.00\n",
       "Time:                        05:50:51   Log-Likelihood:                         -1470.2\n",
       "No. Observations:                1000   AIC:                                      2944.\n",
       "Df Residuals:                     998   BIC:                                      2954.\n",
       "Df Model:                           2                                                  \n",
       "Covariance Type:            nonrobust                                                  \n",
       "==============================================================================\n",
       "                 coef    std err          t      P>|t|      [0.025      0.975]\n",
       "------------------------------------------------------------------------------\n",
       "x1             2.3322      0.038     60.900      0.000       2.257       2.407\n",
       "x2             5.0073      0.053     93.925      0.000       4.903       5.112\n",
       "==============================================================================\n",
       "Omnibus:                        0.627   Durbin-Watson:                   1.908\n",
       "Prob(Omnibus):                  0.731   Jarque-Bera (JB):                0.681\n",
       "Skew:                          -0.058   Prob(JB):                        0.711\n",
       "Kurtosis:                       2.945   Cond. No.                         1.98\n",
       "==============================================================================\n",
       "\n",
       "Notes:\n",
       "[1] R² is computed without centering (uncentered) since the model does not contain a constant.\n",
       "[2] Standard Errors assume that the covariance matrix of the errors is correctly specified.\n",
       "\"\"\""
      ]
     },
     "execution_count": 10,
     "metadata": {},
     "output_type": "execute_result"
    }
   ],
   "source": [
    "model = OLS(np.asarray(df[outcome]), np.asarray(df[[common_cause, treatment]], dtype=np.float64))\n",
    "result = model.fit()\n",
    "result.summary()"
   ]
  }
 ],
 "metadata": {
  "kernelspec": {
   "display_name": "Python 3",
   "language": "python",
   "name": "python3"
  },
  "language_info": {
   "codemirror_mode": {
    "name": "ipython",
    "version": 3
   },
   "file_extension": ".py",
   "mimetype": "text/x-python",
   "name": "python",
   "nbconvert_exporter": "python",
   "pygments_lexer": "ipython3",
   "version": "3.8.10"
  },
  "toc": {
   "base_numbering": 1,
   "nav_menu": {},
   "number_sections": false,
   "sideBar": true,
   "skip_h1_title": true,
   "title_cell": "Table of Contents",
   "title_sidebar": "Contents",
   "toc_cell": false,
   "toc_position": {},
   "toc_section_display": true,
   "toc_window_display": false
  }
 },
 "nbformat": 4,
 "nbformat_minor": 4
}
