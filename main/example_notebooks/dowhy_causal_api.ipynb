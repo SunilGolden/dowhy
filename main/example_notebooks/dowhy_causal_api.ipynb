{
 "cells": [
  {
   "cell_type": "markdown",
   "metadata": {},
   "source": [
    "# Demo for the DoWhy causal API\n",
    "We show a simple example of adding a causal extension to any dataframe. "
   ]
  },
  {
   "cell_type": "code",
   "execution_count": 1,
   "metadata": {
    "execution": {
     "iopub.execute_input": "2023-01-27T10:11:30.671979Z",
     "iopub.status.busy": "2023-01-27T10:11:30.671616Z",
     "iopub.status.idle": "2023-01-27T10:11:32.452960Z",
     "shell.execute_reply": "2023-01-27T10:11:32.452028Z"
    }
   },
   "outputs": [],
   "source": [
    "import dowhy.datasets\n",
    "import dowhy.api\n",
    "\n",
    "import numpy as np\n",
    "import pandas as pd\n",
    "\n",
    "from statsmodels.api import OLS"
   ]
  },
  {
   "cell_type": "code",
   "execution_count": 2,
   "metadata": {
    "execution": {
     "iopub.execute_input": "2023-01-27T10:11:32.456180Z",
     "iopub.status.busy": "2023-01-27T10:11:32.455572Z",
     "iopub.status.idle": "2023-01-27T10:11:32.496198Z",
     "shell.execute_reply": "2023-01-27T10:11:32.495621Z"
    }
   },
   "outputs": [
    {
     "data": {
      "text/html": [
       "<div>\n",
       "<style scoped>\n",
       "    .dataframe tbody tr th:only-of-type {\n",
       "        vertical-align: middle;\n",
       "    }\n",
       "\n",
       "    .dataframe tbody tr th {\n",
       "        vertical-align: top;\n",
       "    }\n",
       "\n",
       "    .dataframe thead th {\n",
       "        text-align: right;\n",
       "    }\n",
       "</style>\n",
       "<table border=\"1\" class=\"dataframe\">\n",
       "  <thead>\n",
       "    <tr style=\"text-align: right;\">\n",
       "      <th></th>\n",
       "      <th>W0</th>\n",
       "      <th>v0</th>\n",
       "      <th>y</th>\n",
       "    </tr>\n",
       "  </thead>\n",
       "  <tbody>\n",
       "    <tr>\n",
       "      <th>0</th>\n",
       "      <td>1.411968</td>\n",
       "      <td>True</td>\n",
       "      <td>5.571138</td>\n",
       "    </tr>\n",
       "    <tr>\n",
       "      <th>1</th>\n",
       "      <td>-0.926950</td>\n",
       "      <td>False</td>\n",
       "      <td>-0.308466</td>\n",
       "    </tr>\n",
       "    <tr>\n",
       "      <th>2</th>\n",
       "      <td>0.406126</td>\n",
       "      <td>True</td>\n",
       "      <td>6.133473</td>\n",
       "    </tr>\n",
       "    <tr>\n",
       "      <th>3</th>\n",
       "      <td>0.785537</td>\n",
       "      <td>False</td>\n",
       "      <td>0.788221</td>\n",
       "    </tr>\n",
       "    <tr>\n",
       "      <th>4</th>\n",
       "      <td>-0.901640</td>\n",
       "      <td>True</td>\n",
       "      <td>4.671783</td>\n",
       "    </tr>\n",
       "    <tr>\n",
       "      <th>...</th>\n",
       "      <td>...</td>\n",
       "      <td>...</td>\n",
       "      <td>...</td>\n",
       "    </tr>\n",
       "    <tr>\n",
       "      <th>995</th>\n",
       "      <td>-0.187916</td>\n",
       "      <td>False</td>\n",
       "      <td>-0.289938</td>\n",
       "    </tr>\n",
       "    <tr>\n",
       "      <th>996</th>\n",
       "      <td>-0.451700</td>\n",
       "      <td>True</td>\n",
       "      <td>4.442594</td>\n",
       "    </tr>\n",
       "    <tr>\n",
       "      <th>997</th>\n",
       "      <td>-1.573600</td>\n",
       "      <td>True</td>\n",
       "      <td>4.154750</td>\n",
       "    </tr>\n",
       "    <tr>\n",
       "      <th>998</th>\n",
       "      <td>-1.478435</td>\n",
       "      <td>False</td>\n",
       "      <td>-2.002814</td>\n",
       "    </tr>\n",
       "    <tr>\n",
       "      <th>999</th>\n",
       "      <td>0.748938</td>\n",
       "      <td>True</td>\n",
       "      <td>6.180573</td>\n",
       "    </tr>\n",
       "  </tbody>\n",
       "</table>\n",
       "<p>1000 rows × 3 columns</p>\n",
       "</div>"
      ],
      "text/plain": [
       "           W0     v0         y\n",
       "0    1.411968   True  5.571138\n",
       "1   -0.926950  False -0.308466\n",
       "2    0.406126   True  6.133473\n",
       "3    0.785537  False  0.788221\n",
       "4   -0.901640   True  4.671783\n",
       "..        ...    ...       ...\n",
       "995 -0.187916  False -0.289938\n",
       "996 -0.451700   True  4.442594\n",
       "997 -1.573600   True  4.154750\n",
       "998 -1.478435  False -2.002814\n",
       "999  0.748938   True  6.180573\n",
       "\n",
       "[1000 rows x 3 columns]"
      ]
     },
     "execution_count": 2,
     "metadata": {},
     "output_type": "execute_result"
    }
   ],
   "source": [
    "data = dowhy.datasets.linear_dataset(beta=5,\n",
    "        num_common_causes=1,\n",
    "        num_instruments = 0,\n",
    "        num_samples=1000,\n",
    "        treatment_is_binary=True)\n",
    "df = data['df']\n",
    "df['y'] = df['y'] + np.random.normal(size=len(df)) # Adding noise to data. Without noise, the variance in Y|X, Z is zero, and mcmc fails.\n",
    "#data['dot_graph'] = 'digraph { v ->y;X0-> v;X0-> y;}'\n",
    "\n",
    "treatment= data[\"treatment_name\"][0]\n",
    "outcome = data[\"outcome_name\"][0]\n",
    "common_cause = data[\"common_causes_names\"][0]\n",
    "df"
   ]
  },
  {
   "cell_type": "code",
   "execution_count": 3,
   "metadata": {
    "execution": {
     "iopub.execute_input": "2023-01-27T10:11:32.498844Z",
     "iopub.status.busy": "2023-01-27T10:11:32.498647Z",
     "iopub.status.idle": "2023-01-27T10:11:32.641727Z",
     "shell.execute_reply": "2023-01-27T10:11:32.641220Z"
    }
   },
   "outputs": [
    {
     "data": {
      "text/plain": [
       "<AxesSubplot: xlabel='v0'>"
      ]
     },
     "execution_count": 3,
     "metadata": {},
     "output_type": "execute_result"
    },
    {
     "data": {
      "image/png": "[encoded data removed]",
      "text/plain": [
       "<Figure size 640x480 with 1 Axes>"
      ]
     },
     "metadata": {},
     "output_type": "display_data"
    }
   ],
   "source": [
    "# data['df'] is just a regular pandas.DataFrame\n",
    "df.causal.do(x=treatment,\n",
    "                     variable_types={treatment: 'b', outcome: 'c', common_cause: 'c'},\n",
    "                     outcome=outcome,\n",
    "                     common_causes=[common_cause],\n",
    "                     proceed_when_unidentifiable=True).groupby(treatment).mean().plot(y=outcome, kind='bar')"
   ]
  },
  {
   "cell_type": "code",
   "execution_count": 4,
   "metadata": {
    "execution": {
     "iopub.execute_input": "2023-01-27T10:11:32.644225Z",
     "iopub.status.busy": "2023-01-27T10:11:32.644023Z",
     "iopub.status.idle": "2023-01-27T10:11:32.764424Z",
     "shell.execute_reply": "2023-01-27T10:11:32.763966Z"
    }
   },
   "outputs": [
    {
     "data": {
      "text/plain": [
       "<AxesSubplot: xlabel='v0'>"
      ]
     },
     "execution_count": 4,
     "metadata": {},
     "output_type": "execute_result"
    },
    {
     "data": {
      "image/png": "[encoded data removed]",
      "text/plain": [
       "<Figure size 640x480 with 1 Axes>"
      ]
     },
     "metadata": {},
     "output_type": "display_data"
    }
   ],
   "source": [
    "df.causal.do(x={treatment: 1}, \n",
    "              variable_types={treatment:'b', outcome: 'c', common_cause: 'c'}, \n",
    "              outcome=outcome,\n",
    "              method='weighting', \n",
    "              common_causes=[common_cause],\n",
    "              proceed_when_unidentifiable=True).groupby(treatment).mean().plot(y=outcome, kind='bar')"
   ]
  },
  {
   "cell_type": "code",
   "execution_count": 5,
   "metadata": {
    "execution": {
     "iopub.execute_input": "2023-01-27T10:11:32.767063Z",
     "iopub.status.busy": "2023-01-27T10:11:32.766694Z",
     "iopub.status.idle": "2023-01-27T10:11:32.794724Z",
     "shell.execute_reply": "2023-01-27T10:11:32.793774Z"
    }
   },
   "outputs": [],
   "source": [
    "cdf_1 = df.causal.do(x={treatment: 1}, \n",
    "              variable_types={treatment: 'b', outcome: 'c', common_cause: 'c'}, \n",
    "              outcome=outcome, \n",
    "              dot_graph=data['dot_graph'],\n",
    "              proceed_when_unidentifiable=True)\n",
    "\n",
    "cdf_0 = df.causal.do(x={treatment: 0}, \n",
    "              variable_types={treatment: 'b', outcome: 'c', common_cause: 'c'}, \n",
    "              outcome=outcome, \n",
    "              dot_graph=data['dot_graph'],\n",
    "              proceed_when_unidentifiable=True)\n"
   ]
  },
  {
   "cell_type": "code",
   "execution_count": 6,
   "metadata": {
    "execution": {
     "iopub.execute_input": "2023-01-27T10:11:32.797087Z",
     "iopub.status.busy": "2023-01-27T10:11:32.796744Z",
     "iopub.status.idle": "2023-01-27T10:11:32.805886Z",
     "shell.execute_reply": "2023-01-27T10:11:32.805437Z"
    },
    "scrolled": true
   },
   "outputs": [
    {
     "data": {
      "text/html": [
       "<div>\n",
       "<style scoped>\n",
       "    .dataframe tbody tr th:only-of-type {\n",
       "        vertical-align: middle;\n",
       "    }\n",
       "\n",
       "    .dataframe tbody tr th {\n",
       "        vertical-align: top;\n",
       "    }\n",
       "\n",
       "    .dataframe thead th {\n",
       "        text-align: right;\n",
       "    }\n",
       "</style>\n",
       "<table border=\"1\" class=\"dataframe\">\n",
       "  <thead>\n",
       "    <tr style=\"text-align: right;\">\n",
       "      <th></th>\n",
       "      <th>W0</th>\n",
       "      <th>v0</th>\n",
       "      <th>y</th>\n",
       "      <th>propensity_score</th>\n",
       "      <th>weight</th>\n",
       "    </tr>\n",
       "  </thead>\n",
       "  <tbody>\n",
       "    <tr>\n",
       "      <th>0</th>\n",
       "      <td>-0.467549</td>\n",
       "      <td>False</td>\n",
       "      <td>-1.514155</td>\n",
       "      <td>0.570977</td>\n",
       "      <td>1.751383</td>\n",
       "    </tr>\n",
       "    <tr>\n",
       "      <th>1</th>\n",
       "      <td>-1.614698</td>\n",
       "      <td>False</td>\n",
       "      <td>-2.017867</td>\n",
       "      <td>0.740546</td>\n",
       "      <td>1.350354</td>\n",
       "    </tr>\n",
       "    <tr>\n",
       "      <th>2</th>\n",
       "      <td>-0.814400</td>\n",
       "      <td>False</td>\n",
       "      <td>-2.162784</td>\n",
       "      <td>0.626336</td>\n",
       "      <td>1.596587</td>\n",
       "    </tr>\n",
       "    <tr>\n",
       "      <th>3</th>\n",
       "      <td>-1.626279</td>\n",
       "      <td>False</td>\n",
       "      <td>-0.155668</td>\n",
       "      <td>0.742024</td>\n",
       "      <td>1.347666</td>\n",
       "    </tr>\n",
       "    <tr>\n",
       "      <th>4</th>\n",
       "      <td>0.215773</td>\n",
       "      <td>False</td>\n",
       "      <td>0.967871</td>\n",
       "      <td>0.457940</td>\n",
       "      <td>2.183692</td>\n",
       "    </tr>\n",
       "    <tr>\n",
       "      <th>...</th>\n",
       "      <td>...</td>\n",
       "      <td>...</td>\n",
       "      <td>...</td>\n",
       "      <td>...</td>\n",
       "      <td>...</td>\n",
       "    </tr>\n",
       "    <tr>\n",
       "      <th>995</th>\n",
       "      <td>-1.613703</td>\n",
       "      <td>False</td>\n",
       "      <td>-1.445127</td>\n",
       "      <td>0.740419</td>\n",
       "      <td>1.350587</td>\n",
       "    </tr>\n",
       "    <tr>\n",
       "      <th>996</th>\n",
       "      <td>-1.614698</td>\n",
       "      <td>False</td>\n",
       "      <td>-2.017867</td>\n",
       "      <td>0.740546</td>\n",
       "      <td>1.350354</td>\n",
       "    </tr>\n",
       "    <tr>\n",
       "      <th>997</th>\n",
       "      <td>0.658785</td>\n",
       "      <td>False</td>\n",
       "      <td>0.308634</td>\n",
       "      <td>0.386207</td>\n",
       "      <td>2.589288</td>\n",
       "    </tr>\n",
       "    <tr>\n",
       "      <th>998</th>\n",
       "      <td>-0.441217</td>\n",
       "      <td>False</td>\n",
       "      <td>-0.480947</td>\n",
       "      <td>0.566682</td>\n",
       "      <td>1.764658</td>\n",
       "    </tr>\n",
       "    <tr>\n",
       "      <th>999</th>\n",
       "      <td>-0.114467</td>\n",
       "      <td>False</td>\n",
       "      <td>-0.899311</td>\n",
       "      <td>0.512748</td>\n",
       "      <td>1.950274</td>\n",
       "    </tr>\n",
       "  </tbody>\n",
       "</table>\n",
       "<p>1000 rows × 5 columns</p>\n",
       "</div>"
      ],
      "text/plain": [
       "           W0     v0         y  propensity_score    weight\n",
       "0   -0.467549  False -1.514155          0.570977  1.751383\n",
       "1   -1.614698  False -2.017867          0.740546  1.350354\n",
       "2   -0.814400  False -2.162784          0.626336  1.596587\n",
       "3   -1.626279  False -0.155668          0.742024  1.347666\n",
       "4    0.215773  False  0.967871          0.457940  2.183692\n",
       "..        ...    ...       ...               ...       ...\n",
       "995 -1.613703  False -1.445127          0.740419  1.350587\n",
       "996 -1.614698  False -2.017867          0.740546  1.350354\n",
       "997  0.658785  False  0.308634          0.386207  2.589288\n",
       "998 -0.441217  False -0.480947          0.566682  1.764658\n",
       "999 -0.114467  False -0.899311          0.512748  1.950274\n",
       "\n",
       "[1000 rows x 5 columns]"
      ]
     },
     "execution_count": 6,
     "metadata": {},
     "output_type": "execute_result"
    }
   ],
   "source": [
    "cdf_0"
   ]
  },
  {
   "cell_type": "code",
   "execution_count": 7,
   "metadata": {
    "execution": {
     "iopub.execute_input": "2023-01-27T10:11:32.808260Z",
     "iopub.status.busy": "2023-01-27T10:11:32.807909Z",
     "iopub.status.idle": "2023-01-27T10:11:32.816817Z",
     "shell.execute_reply": "2023-01-27T10:11:32.816372Z"
    }
   },
   "outputs": [
    {
     "data": {
      "text/html": [
       "<div>\n",
       "<style scoped>\n",
       "    .dataframe tbody tr th:only-of-type {\n",
       "        vertical-align: middle;\n",
       "    }\n",
       "\n",
       "    .dataframe tbody tr th {\n",
       "        vertical-align: top;\n",
       "    }\n",
       "\n",
       "    .dataframe thead th {\n",
       "        text-align: right;\n",
       "    }\n",
       "</style>\n",
       "<table border=\"1\" class=\"dataframe\">\n",
       "  <thead>\n",
       "    <tr style=\"text-align: right;\">\n",
       "      <th></th>\n",
       "      <th>W0</th>\n",
       "      <th>v0</th>\n",
       "      <th>y</th>\n",
       "      <th>propensity_score</th>\n",
       "      <th>weight</th>\n",
       "    </tr>\n",
       "  </thead>\n",
       "  <tbody>\n",
       "    <tr>\n",
       "      <th>0</th>\n",
       "      <td>0.007495</td>\n",
       "      <td>True</td>\n",
       "      <td>5.951584</td>\n",
       "      <td>0.507528</td>\n",
       "      <td>1.970336</td>\n",
       "    </tr>\n",
       "    <tr>\n",
       "      <th>1</th>\n",
       "      <td>-0.884924</td>\n",
       "      <td>True</td>\n",
       "      <td>4.141081</td>\n",
       "      <td>0.362753</td>\n",
       "      <td>2.756699</td>\n",
       "    </tr>\n",
       "    <tr>\n",
       "      <th>2</th>\n",
       "      <td>0.691429</td>\n",
       "      <td>True</td>\n",
       "      <td>6.173487</td>\n",
       "      <td>0.618927</td>\n",
       "      <td>1.615699</td>\n",
       "    </tr>\n",
       "    <tr>\n",
       "      <th>3</th>\n",
       "      <td>-1.110933</td>\n",
       "      <td>True</td>\n",
       "      <td>3.942882</td>\n",
       "      <td>0.328770</td>\n",
       "      <td>3.041643</td>\n",
       "    </tr>\n",
       "    <tr>\n",
       "      <th>4</th>\n",
       "      <td>-1.871376</td>\n",
       "      <td>True</td>\n",
       "      <td>1.902019</td>\n",
       "      <td>0.228020</td>\n",
       "      <td>4.385583</td>\n",
       "    </tr>\n",
       "    <tr>\n",
       "      <th>...</th>\n",
       "      <td>...</td>\n",
       "      <td>...</td>\n",
       "      <td>...</td>\n",
       "      <td>...</td>\n",
       "      <td>...</td>\n",
       "    </tr>\n",
       "    <tr>\n",
       "      <th>995</th>\n",
       "      <td>1.026728</td>\n",
       "      <td>True</td>\n",
       "      <td>6.510864</td>\n",
       "      <td>0.669960</td>\n",
       "      <td>1.492626</td>\n",
       "    </tr>\n",
       "    <tr>\n",
       "      <th>996</th>\n",
       "      <td>-2.689902</td>\n",
       "      <td>True</td>\n",
       "      <td>2.425737</td>\n",
       "      <td>0.146299</td>\n",
       "      <td>6.835316</td>\n",
       "    </tr>\n",
       "    <tr>\n",
       "      <th>997</th>\n",
       "      <td>-2.293895</td>\n",
       "      <td>True</td>\n",
       "      <td>1.269438</td>\n",
       "      <td>0.182344</td>\n",
       "      <td>5.484129</td>\n",
       "    </tr>\n",
       "    <tr>\n",
       "      <th>998</th>\n",
       "      <td>-0.666987</td>\n",
       "      <td>True</td>\n",
       "      <td>3.907619</td>\n",
       "      <td>0.396879</td>\n",
       "      <td>2.519659</td>\n",
       "    </tr>\n",
       "    <tr>\n",
       "      <th>999</th>\n",
       "      <td>-1.871376</td>\n",
       "      <td>True</td>\n",
       "      <td>1.902019</td>\n",
       "      <td>0.228020</td>\n",
       "      <td>4.385583</td>\n",
       "    </tr>\n",
       "  </tbody>\n",
       "</table>\n",
       "<p>1000 rows × 5 columns</p>\n",
       "</div>"
      ],
      "text/plain": [
       "           W0    v0         y  propensity_score    weight\n",
       "0    0.007495  True  5.951584          0.507528  1.970336\n",
       "1   -0.884924  True  4.141081          0.362753  2.756699\n",
       "2    0.691429  True  6.173487          0.618927  1.615699\n",
       "3   -1.110933  True  3.942882          0.328770  3.041643\n",
       "4   -1.871376  True  1.902019          0.228020  4.385583\n",
       "..        ...   ...       ...               ...       ...\n",
       "995  1.026728  True  6.510864          0.669960  1.492626\n",
       "996 -2.689902  True  2.425737          0.146299  6.835316\n",
       "997 -2.293895  True  1.269438          0.182344  5.484129\n",
       "998 -0.666987  True  3.907619          0.396879  2.519659\n",
       "999 -1.871376  True  1.902019          0.228020  4.385583\n",
       "\n",
       "[1000 rows x 5 columns]"
      ]
     },
     "execution_count": 7,
     "metadata": {},
     "output_type": "execute_result"
    }
   ],
   "source": [
    "cdf_1"
   ]
  },
  {
   "cell_type": "markdown",
   "metadata": {},
   "source": [
    "## Comparing the estimate to Linear Regression\n",
    "First, estimating the effect using the causal data frame, and the 95% confidence interval."
   ]
  },
  {
   "cell_type": "code",
   "execution_count": 8,
   "metadata": {
    "execution": {
     "iopub.execute_input": "2023-01-27T10:11:32.819191Z",
     "iopub.status.busy": "2023-01-27T10:11:32.818820Z",
     "iopub.status.idle": "2023-01-27T10:11:32.873004Z",
     "shell.execute_reply": "2023-01-27T10:11:32.872545Z"
    }
   },
   "outputs": [
    {
     "data": {
      "image/png": "[encoded data removed]",
      "text/latex": [
       "$\\displaystyle 5.1342913489746$"
      ],
      "text/plain": [
       "5.134291348974604"
      ]
     },
     "execution_count": 8,
     "metadata": {},
     "output_type": "execute_result"
    }
   ],
   "source": [
    "(cdf_1['y'] - cdf_0['y']).mean()"
   ]
  },
  {
   "cell_type": "code",
   "execution_count": 9,
   "metadata": {
    "execution": {
     "iopub.execute_input": "2023-01-27T10:11:32.875426Z",
     "iopub.status.busy": "2023-01-27T10:11:32.875073Z",
     "iopub.status.idle": "2023-01-27T10:11:32.892911Z",
     "shell.execute_reply": "2023-01-27T10:11:32.892460Z"
    }
   },
   "outputs": [
    {
     "data": {
      "image/png": "[encoded data removed]",
      "text/latex": [
       "$\\displaystyle 0.11965138526202$"
      ],
      "text/plain": [
       "0.11965138526201975"
      ]
     },
     "execution_count": 9,
     "metadata": {},
     "output_type": "execute_result"
    }
   ],
   "source": [
    "1.96*(cdf_1['y'] - cdf_0['y']).std() / np.sqrt(len(df))"
   ]
  },
  {
   "cell_type": "markdown",
   "metadata": {},
   "source": [
    "Comparing to the estimate from OLS."
   ]
  },
  {
   "cell_type": "code",
   "execution_count": 10,
   "metadata": {
    "execution": {
     "iopub.execute_input": "2023-01-27T10:11:32.895329Z",
     "iopub.status.busy": "2023-01-27T10:11:32.894983Z",
     "iopub.status.idle": "2023-01-27T10:11:32.907587Z",
     "shell.execute_reply": "2023-01-27T10:11:32.907137Z"
    }
   },
   "outputs": [
    {
     "data": {
      "text/html": [
       "<table class=\"simpletable\">\n",
       "<caption>OLS Regression Results</caption>\n",
       "<tr>\n",
       "  <th>Dep. Variable:</th>            <td>y</td>        <th>  R-squared (uncentered):</th>      <td>   0.905</td>\n",
       "</tr>\n",
       "<tr>\n",
       "  <th>Model:</th>                   <td>OLS</td>       <th>  Adj. R-squared (uncentered):</th> <td>   0.905</td>\n",
       "</tr>\n",
       "<tr>\n",
       "  <th>Method:</th>             <td>Least Squares</td>  <th>  F-statistic:       </th>          <td>   4753.</td>\n",
       "</tr>\n",
       "<tr>\n",
       "  <th>Date:</th>             <td>Fri, 27 Jan 2023</td> <th>  Prob (F-statistic):</th>           <td>  0.00</td> \n",
       "</tr>\n",
       "<tr>\n",
       "  <th>Time:</th>                 <td>10:11:32</td>     <th>  Log-Likelihood:    </th>          <td> -1400.7</td>\n",
       "</tr>\n",
       "<tr>\n",
       "  <th>No. Observations:</th>      <td>  1000</td>      <th>  AIC:               </th>          <td>   2805.</td>\n",
       "</tr>\n",
       "<tr>\n",
       "  <th>Df Residuals:</th>          <td>   998</td>      <th>  BIC:               </th>          <td>   2815.</td>\n",
       "</tr>\n",
       "<tr>\n",
       "  <th>Df Model:</th>              <td>     2</td>      <th>                     </th>              <td> </td>   \n",
       "</tr>\n",
       "<tr>\n",
       "  <th>Covariance Type:</th>      <td>nonrobust</td>    <th>                     </th>              <td> </td>   \n",
       "</tr>\n",
       "</table>\n",
       "<table class=\"simpletable\">\n",
       "<tr>\n",
       "   <td></td>     <th>coef</th>     <th>std err</th>      <th>t</th>      <th>P>|t|</th>  <th>[0.025</th>    <th>0.975]</th>  \n",
       "</tr>\n",
       "<tr>\n",
       "  <th>x1</th> <td>    0.9971</td> <td>    0.024</td> <td>   41.035</td> <td> 0.000</td> <td>    0.949</td> <td>    1.045</td>\n",
       "</tr>\n",
       "<tr>\n",
       "  <th>x2</th> <td>    5.0670</td> <td>    0.053</td> <td>   95.944</td> <td> 0.000</td> <td>    4.963</td> <td>    5.171</td>\n",
       "</tr>\n",
       "</table>\n",
       "<table class=\"simpletable\">\n",
       "<tr>\n",
       "  <th>Omnibus:</th>       <td> 0.013</td> <th>  Durbin-Watson:     </th> <td>   2.083</td>\n",
       "</tr>\n",
       "<tr>\n",
       "  <th>Prob(Omnibus):</th> <td> 0.994</td> <th>  Jarque-Bera (JB):  </th> <td>   0.047</td>\n",
       "</tr>\n",
       "<tr>\n",
       "  <th>Skew:</th>          <td>-0.003</td> <th>  Prob(JB):          </th> <td>   0.977</td>\n",
       "</tr>\n",
       "<tr>\n",
       "  <th>Kurtosis:</th>      <td> 2.967</td> <th>  Cond. No.          </th> <td>    2.28</td>\n",
       "</tr>\n",
       "</table><br/><br/>Notes:<br/>[1] R² is computed without centering (uncentered) since the model does not contain a constant.<br/>[2] Standard Errors assume that the covariance matrix of the errors is correctly specified."
      ],
      "text/plain": [
       "<class 'statsmodels.iolib.summary.Summary'>\n",
       "\"\"\"\n",
       "                                 OLS Regression Results                                \n",
       "=======================================================================================\n",
       "Dep. Variable:                      y   R-squared (uncentered):                   0.905\n",
       "Model:                            OLS   Adj. R-squared (uncentered):              0.905\n",
       "Method:                 Least Squares   F-statistic:                              4753.\n",
       "Date:                Fri, 27 Jan 2023   Prob (F-statistic):                        0.00\n",
       "Time:                        10:11:32   Log-Likelihood:                         -1400.7\n",
       "No. Observations:                1000   AIC:                                      2805.\n",
       "Df Residuals:                     998   BIC:                                      2815.\n",
       "Df Model:                           2                                                  \n",
       "Covariance Type:            nonrobust                                                  \n",
       "==============================================================================\n",
       "                 coef    std err          t      P>|t|      [0.025      0.975]\n",
       "------------------------------------------------------------------------------\n",
       "x1             0.9971      0.024     41.035      0.000       0.949       1.045\n",
       "x2             5.0670      0.053     95.944      0.000       4.963       5.171\n",
       "==============================================================================\n",
       "Omnibus:                        0.013   Durbin-Watson:                   2.083\n",
       "Prob(Omnibus):                  0.994   Jarque-Bera (JB):                0.047\n",
       "Skew:                          -0.003   Prob(JB):                        0.977\n",
       "Kurtosis:                       2.967   Cond. No.                         2.28\n",
       "==============================================================================\n",
       "\n",
       "Notes:\n",
       "[1] R² is computed without centering (uncentered) since the model does not contain a constant.\n",
       "[2] Standard Errors assume that the covariance matrix of the errors is correctly specified.\n",
       "\"\"\""
      ]
     },
     "execution_count": 10,
     "metadata": {},
     "output_type": "execute_result"
    }
   ],
   "source": [
    "model = OLS(np.asarray(df[outcome]), np.asarray(df[[common_cause, treatment]], dtype=np.float64))\n",
    "result = model.fit()\n",
    "result.summary()"
   ]
  }
 ],
 "metadata": {
  "kernelspec": {
   "display_name": "Python 3",
   "language": "python",
   "name": "python3"
  },
  "language_info": {
   "codemirror_mode": {
    "name": "ipython",
    "version": 3
   },
   "file_extension": ".py",
   "mimetype": "text/x-python",
   "name": "python",
   "nbconvert_exporter": "python",
   "pygments_lexer": "ipython3",
   "version": "3.8.10"
  },
  "toc": {
   "base_numbering": 1,
   "nav_menu": {},
   "number_sections": false,
   "sideBar": true,
   "skip_h1_title": true,
   "title_cell": "Table of Contents",
   "title_sidebar": "Contents",
   "toc_cell": false,
   "toc_position": {},
   "toc_section_display": true,
   "toc_window_display": false
  }
 },
 "nbformat": 4,
 "nbformat_minor": 4
}
