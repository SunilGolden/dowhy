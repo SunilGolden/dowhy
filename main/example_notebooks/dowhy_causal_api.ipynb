{
 "cells": [
  {
   "cell_type": "markdown",
   "metadata": {},
   "source": [
    "# Demo for the DoWhy causal API\n",
    "We show a simple example of adding a causal extension to any dataframe. "
   ]
  },
  {
   "cell_type": "code",
   "execution_count": 1,
   "metadata": {
    "execution": {
     "iopub.execute_input": "2023-02-14T20:46:12.973938Z",
     "iopub.status.busy": "2023-02-14T20:46:12.973667Z",
     "iopub.status.idle": "2023-02-14T20:46:14.954755Z",
     "shell.execute_reply": "2023-02-14T20:46:14.953472Z"
    }
   },
   "outputs": [],
   "source": [
    "import dowhy.datasets\n",
    "import dowhy.api\n",
    "\n",
    "import numpy as np\n",
    "import pandas as pd\n",
    "\n",
    "from statsmodels.api import OLS"
   ]
  },
  {
   "cell_type": "code",
   "execution_count": 2,
   "metadata": {
    "execution": {
     "iopub.execute_input": "2023-02-14T20:46:14.959398Z",
     "iopub.status.busy": "2023-02-14T20:46:14.958831Z",
     "iopub.status.idle": "2023-02-14T20:46:15.011212Z",
     "shell.execute_reply": "2023-02-14T20:46:15.010452Z"
    }
   },
   "outputs": [
    {
     "data": {
      "text/html": [
       "<div>\n",
       "<style scoped>\n",
       "    .dataframe tbody tr th:only-of-type {\n",
       "        vertical-align: middle;\n",
       "    }\n",
       "\n",
       "    .dataframe tbody tr th {\n",
       "        vertical-align: top;\n",
       "    }\n",
       "\n",
       "    .dataframe thead th {\n",
       "        text-align: right;\n",
       "    }\n",
       "</style>\n",
       "<table border=\"1\" class=\"dataframe\">\n",
       "  <thead>\n",
       "    <tr style=\"text-align: right;\">\n",
       "      <th></th>\n",
       "      <th>W0</th>\n",
       "      <th>v0</th>\n",
       "      <th>y</th>\n",
       "    </tr>\n",
       "  </thead>\n",
       "  <tbody>\n",
       "    <tr>\n",
       "      <th>0</th>\n",
       "      <td>0.585903</td>\n",
       "      <td>True</td>\n",
       "      <td>7.002140</td>\n",
       "    </tr>\n",
       "    <tr>\n",
       "      <th>1</th>\n",
       "      <td>-0.821266</td>\n",
       "      <td>True</td>\n",
       "      <td>2.463156</td>\n",
       "    </tr>\n",
       "    <tr>\n",
       "      <th>2</th>\n",
       "      <td>-0.786433</td>\n",
       "      <td>True</td>\n",
       "      <td>3.241726</td>\n",
       "    </tr>\n",
       "    <tr>\n",
       "      <th>3</th>\n",
       "      <td>-1.554161</td>\n",
       "      <td>False</td>\n",
       "      <td>-1.955654</td>\n",
       "    </tr>\n",
       "    <tr>\n",
       "      <th>4</th>\n",
       "      <td>-0.886792</td>\n",
       "      <td>False</td>\n",
       "      <td>-0.141751</td>\n",
       "    </tr>\n",
       "    <tr>\n",
       "      <th>...</th>\n",
       "      <td>...</td>\n",
       "      <td>...</td>\n",
       "      <td>...</td>\n",
       "    </tr>\n",
       "    <tr>\n",
       "      <th>995</th>\n",
       "      <td>0.409150</td>\n",
       "      <td>True</td>\n",
       "      <td>6.839635</td>\n",
       "    </tr>\n",
       "    <tr>\n",
       "      <th>996</th>\n",
       "      <td>1.207553</td>\n",
       "      <td>True</td>\n",
       "      <td>8.023573</td>\n",
       "    </tr>\n",
       "    <tr>\n",
       "      <th>997</th>\n",
       "      <td>-1.835247</td>\n",
       "      <td>False</td>\n",
       "      <td>-1.270066</td>\n",
       "    </tr>\n",
       "    <tr>\n",
       "      <th>998</th>\n",
       "      <td>0.679177</td>\n",
       "      <td>True</td>\n",
       "      <td>5.800222</td>\n",
       "    </tr>\n",
       "    <tr>\n",
       "      <th>999</th>\n",
       "      <td>-0.215679</td>\n",
       "      <td>True</td>\n",
       "      <td>6.386588</td>\n",
       "    </tr>\n",
       "  </tbody>\n",
       "</table>\n",
       "<p>1000 rows × 3 columns</p>\n",
       "</div>"
      ],
      "text/plain": [
       "           W0     v0         y\n",
       "0    0.585903   True  7.002140\n",
       "1   -0.821266   True  2.463156\n",
       "2   -0.786433   True  3.241726\n",
       "3   -1.554161  False -1.955654\n",
       "4   -0.886792  False -0.141751\n",
       "..        ...    ...       ...\n",
       "995  0.409150   True  6.839635\n",
       "996  1.207553   True  8.023573\n",
       "997 -1.835247  False -1.270066\n",
       "998  0.679177   True  5.800222\n",
       "999 -0.215679   True  6.386588\n",
       "\n",
       "[1000 rows x 3 columns]"
      ]
     },
     "execution_count": 2,
     "metadata": {},
     "output_type": "execute_result"
    }
   ],
   "source": [
    "data = dowhy.datasets.linear_dataset(beta=5,\n",
    "        num_common_causes=1,\n",
    "        num_instruments = 0,\n",
    "        num_samples=1000,\n",
    "        treatment_is_binary=True)\n",
    "df = data['df']\n",
    "df['y'] = df['y'] + np.random.normal(size=len(df)) # Adding noise to data. Without noise, the variance in Y|X, Z is zero, and mcmc fails.\n",
    "#data['dot_graph'] = 'digraph { v ->y;X0-> v;X0-> y;}'\n",
    "\n",
    "treatment= data[\"treatment_name\"][0]\n",
    "outcome = data[\"outcome_name\"][0]\n",
    "common_cause = data[\"common_causes_names\"][0]\n",
    "df"
   ]
  },
  {
   "cell_type": "code",
   "execution_count": 3,
   "metadata": {
    "execution": {
     "iopub.execute_input": "2023-02-14T20:46:15.014951Z",
     "iopub.status.busy": "2023-02-14T20:46:15.014434Z",
     "iopub.status.idle": "2023-02-14T20:46:15.196753Z",
     "shell.execute_reply": "2023-02-14T20:46:15.196072Z"
    }
   },
   "outputs": [
    {
     "data": {
      "text/plain": [
       "<AxesSubplot: xlabel='v0'>"
      ]
     },
     "execution_count": 3,
     "metadata": {},
     "output_type": "execute_result"
    },
    {
     "data": {
      "image/png": "[encoded data removed]",
      "text/plain": [
       "<Figure size 640x480 with 1 Axes>"
      ]
     },
     "metadata": {},
     "output_type": "display_data"
    }
   ],
   "source": [
    "# data['df'] is just a regular pandas.DataFrame\n",
    "df.causal.do(x=treatment,\n",
    "                     variable_types={treatment: 'b', outcome: 'c', common_cause: 'c'},\n",
    "                     outcome=outcome,\n",
    "                     common_causes=[common_cause],\n",
    "                     proceed_when_unidentifiable=True).groupby(treatment).mean().plot(y=outcome, kind='bar')"
   ]
  },
  {
   "cell_type": "code",
   "execution_count": 4,
   "metadata": {
    "execution": {
     "iopub.execute_input": "2023-02-14T20:46:15.201821Z",
     "iopub.status.busy": "2023-02-14T20:46:15.200266Z",
     "iopub.status.idle": "2023-02-14T20:46:15.333277Z",
     "shell.execute_reply": "2023-02-14T20:46:15.332607Z"
    }
   },
   "outputs": [
    {
     "data": {
      "text/plain": [
       "<AxesSubplot: xlabel='v0'>"
      ]
     },
     "execution_count": 4,
     "metadata": {},
     "output_type": "execute_result"
    },
    {
     "data": {
      "image/png": "[encoded data removed]",
      "text/plain": [
       "<Figure size 640x480 with 1 Axes>"
      ]
     },
     "metadata": {},
     "output_type": "display_data"
    }
   ],
   "source": [
    "df.causal.do(x={treatment: 1}, \n",
    "              variable_types={treatment:'b', outcome: 'c', common_cause: 'c'}, \n",
    "              outcome=outcome,\n",
    "              method='weighting', \n",
    "              common_causes=[common_cause],\n",
    "              proceed_when_unidentifiable=True).groupby(treatment).mean().plot(y=outcome, kind='bar')"
   ]
  },
  {
   "cell_type": "code",
   "execution_count": 5,
   "metadata": {
    "execution": {
     "iopub.execute_input": "2023-02-14T20:46:15.337467Z",
     "iopub.status.busy": "2023-02-14T20:46:15.336909Z",
     "iopub.status.idle": "2023-02-14T20:46:15.496716Z",
     "shell.execute_reply": "2023-02-14T20:46:15.495771Z"
    }
   },
   "outputs": [],
   "source": [
    "cdf_1 = df.causal.do(x={treatment: 1}, \n",
    "              variable_types={treatment: 'b', outcome: 'c', common_cause: 'c'}, \n",
    "              outcome=outcome, \n",
    "              dot_graph=data['dot_graph'],\n",
    "              proceed_when_unidentifiable=True)\n",
    "\n",
    "cdf_0 = df.causal.do(x={treatment: 0}, \n",
    "              variable_types={treatment: 'b', outcome: 'c', common_cause: 'c'}, \n",
    "              outcome=outcome, \n",
    "              dot_graph=data['dot_graph'],\n",
    "              proceed_when_unidentifiable=True)\n"
   ]
  },
  {
   "cell_type": "code",
   "execution_count": 6,
   "metadata": {
    "execution": {
     "iopub.execute_input": "2023-02-14T20:46:15.501639Z",
     "iopub.status.busy": "2023-02-14T20:46:15.501016Z",
     "iopub.status.idle": "2023-02-14T20:46:15.519275Z",
     "shell.execute_reply": "2023-02-14T20:46:15.516984Z"
    },
    "scrolled": true
   },
   "outputs": [
    {
     "data": {
      "text/html": [
       "<div>\n",
       "<style scoped>\n",
       "    .dataframe tbody tr th:only-of-type {\n",
       "        vertical-align: middle;\n",
       "    }\n",
       "\n",
       "    .dataframe tbody tr th {\n",
       "        vertical-align: top;\n",
       "    }\n",
       "\n",
       "    .dataframe thead th {\n",
       "        text-align: right;\n",
       "    }\n",
       "</style>\n",
       "<table border=\"1\" class=\"dataframe\">\n",
       "  <thead>\n",
       "    <tr style=\"text-align: right;\">\n",
       "      <th></th>\n",
       "      <th>W0</th>\n",
       "      <th>v0</th>\n",
       "      <th>y</th>\n",
       "      <th>propensity_score</th>\n",
       "      <th>weight</th>\n",
       "    </tr>\n",
       "  </thead>\n",
       "  <tbody>\n",
       "    <tr>\n",
       "      <th>0</th>\n",
       "      <td>0.313676</td>\n",
       "      <td>False</td>\n",
       "      <td>0.489433</td>\n",
       "      <td>0.415752</td>\n",
       "      <td>2.405280</td>\n",
       "    </tr>\n",
       "    <tr>\n",
       "      <th>1</th>\n",
       "      <td>-0.217045</td>\n",
       "      <td>False</td>\n",
       "      <td>-0.011575</td>\n",
       "      <td>0.584972</td>\n",
       "      <td>1.709482</td>\n",
       "    </tr>\n",
       "    <tr>\n",
       "      <th>2</th>\n",
       "      <td>0.607472</td>\n",
       "      <td>False</td>\n",
       "      <td>-0.251902</td>\n",
       "      <td>0.327705</td>\n",
       "      <td>3.051523</td>\n",
       "    </tr>\n",
       "    <tr>\n",
       "      <th>3</th>\n",
       "      <td>-0.749174</td>\n",
       "      <td>False</td>\n",
       "      <td>-1.220456</td>\n",
       "      <td>0.736623</td>\n",
       "      <td>1.357547</td>\n",
       "    </tr>\n",
       "    <tr>\n",
       "      <th>4</th>\n",
       "      <td>0.598261</td>\n",
       "      <td>False</td>\n",
       "      <td>0.827094</td>\n",
       "      <td>0.330324</td>\n",
       "      <td>3.027334</td>\n",
       "    </tr>\n",
       "    <tr>\n",
       "      <th>...</th>\n",
       "      <td>...</td>\n",
       "      <td>...</td>\n",
       "      <td>...</td>\n",
       "      <td>...</td>\n",
       "      <td>...</td>\n",
       "    </tr>\n",
       "    <tr>\n",
       "      <th>995</th>\n",
       "      <td>0.099360</td>\n",
       "      <td>False</td>\n",
       "      <td>0.747844</td>\n",
       "      <td>0.483945</td>\n",
       "      <td>2.066352</td>\n",
       "    </tr>\n",
       "    <tr>\n",
       "      <th>996</th>\n",
       "      <td>0.325307</td>\n",
       "      <td>False</td>\n",
       "      <td>0.516740</td>\n",
       "      <td>0.412118</td>\n",
       "      <td>2.426487</td>\n",
       "    </tr>\n",
       "    <tr>\n",
       "      <th>997</th>\n",
       "      <td>-0.217045</td>\n",
       "      <td>False</td>\n",
       "      <td>-0.011575</td>\n",
       "      <td>0.584972</td>\n",
       "      <td>1.709482</td>\n",
       "    </tr>\n",
       "    <tr>\n",
       "      <th>998</th>\n",
       "      <td>-0.224815</td>\n",
       "      <td>False</td>\n",
       "      <td>0.807746</td>\n",
       "      <td>0.587399</td>\n",
       "      <td>1.702419</td>\n",
       "    </tr>\n",
       "    <tr>\n",
       "      <th>999</th>\n",
       "      <td>-1.350199</td>\n",
       "      <td>False</td>\n",
       "      <td>-0.948497</td>\n",
       "      <td>0.858451</td>\n",
       "      <td>1.164889</td>\n",
       "    </tr>\n",
       "  </tbody>\n",
       "</table>\n",
       "<p>1000 rows × 5 columns</p>\n",
       "</div>"
      ],
      "text/plain": [
       "           W0     v0         y  propensity_score    weight\n",
       "0    0.313676  False  0.489433          0.415752  2.405280\n",
       "1   -0.217045  False -0.011575          0.584972  1.709482\n",
       "2    0.607472  False -0.251902          0.327705  3.051523\n",
       "3   -0.749174  False -1.220456          0.736623  1.357547\n",
       "4    0.598261  False  0.827094          0.330324  3.027334\n",
       "..        ...    ...       ...               ...       ...\n",
       "995  0.099360  False  0.747844          0.483945  2.066352\n",
       "996  0.325307  False  0.516740          0.412118  2.426487\n",
       "997 -0.217045  False -0.011575          0.584972  1.709482\n",
       "998 -0.224815  False  0.807746          0.587399  1.702419\n",
       "999 -1.350199  False -0.948497          0.858451  1.164889\n",
       "\n",
       "[1000 rows x 5 columns]"
      ]
     },
     "execution_count": 6,
     "metadata": {},
     "output_type": "execute_result"
    }
   ],
   "source": [
    "cdf_0"
   ]
  },
  {
   "cell_type": "code",
   "execution_count": 7,
   "metadata": {
    "execution": {
     "iopub.execute_input": "2023-02-14T20:46:15.522513Z",
     "iopub.status.busy": "2023-02-14T20:46:15.522216Z",
     "iopub.status.idle": "2023-02-14T20:46:15.536729Z",
     "shell.execute_reply": "2023-02-14T20:46:15.535960Z"
    }
   },
   "outputs": [
    {
     "data": {
      "text/html": [
       "<div>\n",
       "<style scoped>\n",
       "    .dataframe tbody tr th:only-of-type {\n",
       "        vertical-align: middle;\n",
       "    }\n",
       "\n",
       "    .dataframe tbody tr th {\n",
       "        vertical-align: top;\n",
       "    }\n",
       "\n",
       "    .dataframe thead th {\n",
       "        text-align: right;\n",
       "    }\n",
       "</style>\n",
       "<table border=\"1\" class=\"dataframe\">\n",
       "  <thead>\n",
       "    <tr style=\"text-align: right;\">\n",
       "      <th></th>\n",
       "      <th>W0</th>\n",
       "      <th>v0</th>\n",
       "      <th>y</th>\n",
       "      <th>propensity_score</th>\n",
       "      <th>weight</th>\n",
       "    </tr>\n",
       "  </thead>\n",
       "  <tbody>\n",
       "    <tr>\n",
       "      <th>0</th>\n",
       "      <td>-2.652662</td>\n",
       "      <td>True</td>\n",
       "      <td>3.134866</td>\n",
       "      <td>0.029893</td>\n",
       "      <td>33.452447</td>\n",
       "    </tr>\n",
       "    <tr>\n",
       "      <th>1</th>\n",
       "      <td>0.747024</td>\n",
       "      <td>True</td>\n",
       "      <td>5.713397</td>\n",
       "      <td>0.710599</td>\n",
       "      <td>1.407263</td>\n",
       "    </tr>\n",
       "    <tr>\n",
       "      <th>2</th>\n",
       "      <td>-0.867839</td>\n",
       "      <td>True</td>\n",
       "      <td>3.653335</td>\n",
       "      <td>0.234818</td>\n",
       "      <td>4.258619</td>\n",
       "    </tr>\n",
       "    <tr>\n",
       "      <th>3</th>\n",
       "      <td>1.388894</td>\n",
       "      <td>True</td>\n",
       "      <td>4.695096</td>\n",
       "      <td>0.848757</td>\n",
       "      <td>1.178193</td>\n",
       "    </tr>\n",
       "    <tr>\n",
       "      <th>4</th>\n",
       "      <td>-0.219871</td>\n",
       "      <td>True</td>\n",
       "      <td>4.545597</td>\n",
       "      <td>0.414144</td>\n",
       "      <td>2.414617</td>\n",
       "    </tr>\n",
       "    <tr>\n",
       "      <th>...</th>\n",
       "      <td>...</td>\n",
       "      <td>...</td>\n",
       "      <td>...</td>\n",
       "      <td>...</td>\n",
       "      <td>...</td>\n",
       "    </tr>\n",
       "    <tr>\n",
       "      <th>995</th>\n",
       "      <td>-0.768196</td>\n",
       "      <td>True</td>\n",
       "      <td>3.362177</td>\n",
       "      <td>0.258652</td>\n",
       "      <td>3.866191</td>\n",
       "    </tr>\n",
       "    <tr>\n",
       "      <th>996</th>\n",
       "      <td>0.786778</td>\n",
       "      <td>True</td>\n",
       "      <td>4.833393</td>\n",
       "      <td>0.721013</td>\n",
       "      <td>1.386938</td>\n",
       "    </tr>\n",
       "    <tr>\n",
       "      <th>997</th>\n",
       "      <td>0.973696</td>\n",
       "      <td>True</td>\n",
       "      <td>6.389377</td>\n",
       "      <td>0.766777</td>\n",
       "      <td>1.304160</td>\n",
       "    </tr>\n",
       "    <tr>\n",
       "      <th>998</th>\n",
       "      <td>-0.375792</td>\n",
       "      <td>True</td>\n",
       "      <td>2.859198</td>\n",
       "      <td>0.366409</td>\n",
       "      <td>2.729187</td>\n",
       "    </tr>\n",
       "    <tr>\n",
       "      <th>999</th>\n",
       "      <td>-1.208140</td>\n",
       "      <td>True</td>\n",
       "      <td>1.905477</td>\n",
       "      <td>0.165269</td>\n",
       "      <td>6.050758</td>\n",
       "    </tr>\n",
       "  </tbody>\n",
       "</table>\n",
       "<p>1000 rows × 5 columns</p>\n",
       "</div>"
      ],
      "text/plain": [
       "           W0    v0         y  propensity_score     weight\n",
       "0   -2.652662  True  3.134866          0.029893  33.452447\n",
       "1    0.747024  True  5.713397          0.710599   1.407263\n",
       "2   -0.867839  True  3.653335          0.234818   4.258619\n",
       "3    1.388894  True  4.695096          0.848757   1.178193\n",
       "4   -0.219871  True  4.545597          0.414144   2.414617\n",
       "..        ...   ...       ...               ...        ...\n",
       "995 -0.768196  True  3.362177          0.258652   3.866191\n",
       "996  0.786778  True  4.833393          0.721013   1.386938\n",
       "997  0.973696  True  6.389377          0.766777   1.304160\n",
       "998 -0.375792  True  2.859198          0.366409   2.729187\n",
       "999 -1.208140  True  1.905477          0.165269   6.050758\n",
       "\n",
       "[1000 rows x 5 columns]"
      ]
     },
     "execution_count": 7,
     "metadata": {},
     "output_type": "execute_result"
    }
   ],
   "source": [
    "cdf_1"
   ]
  },
  {
   "cell_type": "markdown",
   "metadata": {},
   "source": [
    "## Comparing the estimate to Linear Regression\n",
    "First, estimating the effect using the causal data frame, and the 95% confidence interval."
   ]
  },
  {
   "cell_type": "code",
   "execution_count": 8,
   "metadata": {
    "execution": {
     "iopub.execute_input": "2023-02-14T20:46:15.540426Z",
     "iopub.status.busy": "2023-02-14T20:46:15.539805Z",
     "iopub.status.idle": "2023-02-14T20:46:15.619842Z",
     "shell.execute_reply": "2023-02-14T20:46:15.619077Z"
    }
   },
   "outputs": [
    {
     "data": {
      "image/png": "[encoded data removed]",
      "text/latex": [
       "$\\displaystyle 4.93248605479659$"
      ],
      "text/plain": [
       "4.932486054796586"
      ]
     },
     "execution_count": 8,
     "metadata": {},
     "output_type": "execute_result"
    }
   ],
   "source": [
    "(cdf_1['y'] - cdf_0['y']).mean()"
   ]
  },
  {
   "cell_type": "code",
   "execution_count": 9,
   "metadata": {
    "execution": {
     "iopub.execute_input": "2023-02-14T20:46:15.623699Z",
     "iopub.status.busy": "2023-02-14T20:46:15.623176Z",
     "iopub.status.idle": "2023-02-14T20:46:15.649474Z",
     "shell.execute_reply": "2023-02-14T20:46:15.648762Z"
    }
   },
   "outputs": [
    {
     "data": {
      "image/png": "[encoded data removed]",
      "text/latex": [
       "$\\displaystyle 0.143582896936806$"
      ],
      "text/plain": [
       "0.14358289693680637"
      ]
     },
     "execution_count": 9,
     "metadata": {},
     "output_type": "execute_result"
    }
   ],
   "source": [
    "1.96*(cdf_1['y'] - cdf_0['y']).std() / np.sqrt(len(df))"
   ]
  },
  {
   "cell_type": "markdown",
   "metadata": {},
   "source": [
    "Comparing to the estimate from OLS."
   ]
  },
  {
   "cell_type": "code",
   "execution_count": 10,
   "metadata": {
    "execution": {
     "iopub.execute_input": "2023-02-14T20:46:15.653272Z",
     "iopub.status.busy": "2023-02-14T20:46:15.652775Z",
     "iopub.status.idle": "2023-02-14T20:46:15.672770Z",
     "shell.execute_reply": "2023-02-14T20:46:15.672057Z"
    }
   },
   "outputs": [
    {
     "data": {
      "text/html": [
       "<table class=\"simpletable\">\n",
       "<caption>OLS Regression Results</caption>\n",
       "<tr>\n",
       "  <th>Dep. Variable:</th>            <td>y</td>        <th>  R-squared (uncentered):</th>      <td>   0.936</td>\n",
       "</tr>\n",
       "<tr>\n",
       "  <th>Model:</th>                   <td>OLS</td>       <th>  Adj. R-squared (uncentered):</th> <td>   0.936</td>\n",
       "</tr>\n",
       "<tr>\n",
       "  <th>Method:</th>             <td>Least Squares</td>  <th>  F-statistic:       </th>          <td>   7350.</td>\n",
       "</tr>\n",
       "<tr>\n",
       "  <th>Date:</th>             <td>Tue, 14 Feb 2023</td> <th>  Prob (F-statistic):</th>           <td>  0.00</td> \n",
       "</tr>\n",
       "<tr>\n",
       "  <th>Time:</th>                 <td>20:46:15</td>     <th>  Log-Likelihood:    </th>          <td> -1423.6</td>\n",
       "</tr>\n",
       "<tr>\n",
       "  <th>No. Observations:</th>      <td>  1000</td>      <th>  AIC:               </th>          <td>   2851.</td>\n",
       "</tr>\n",
       "<tr>\n",
       "  <th>Df Residuals:</th>          <td>   998</td>      <th>  BIC:               </th>          <td>   2861.</td>\n",
       "</tr>\n",
       "<tr>\n",
       "  <th>Df Model:</th>              <td>     2</td>      <th>                     </th>              <td> </td>   \n",
       "</tr>\n",
       "<tr>\n",
       "  <th>Covariance Type:</th>      <td>nonrobust</td>    <th>                     </th>              <td> </td>   \n",
       "</tr>\n",
       "</table>\n",
       "<table class=\"simpletable\">\n",
       "<tr>\n",
       "   <td></td>     <th>coef</th>     <th>std err</th>      <th>t</th>      <th>P>|t|</th>  <th>[0.025</th>    <th>0.975]</th>  \n",
       "</tr>\n",
       "<tr>\n",
       "  <th>x1</th> <td>    1.3252</td> <td>    0.032</td> <td>   41.374</td> <td> 0.000</td> <td>    1.262</td> <td>    1.388</td>\n",
       "</tr>\n",
       "<tr>\n",
       "  <th>x2</th> <td>    4.9061</td> <td>    0.049</td> <td>  100.143</td> <td> 0.000</td> <td>    4.810</td> <td>    5.002</td>\n",
       "</tr>\n",
       "</table>\n",
       "<table class=\"simpletable\">\n",
       "<tr>\n",
       "  <th>Omnibus:</th>       <td> 0.104</td> <th>  Durbin-Watson:     </th> <td>   2.016</td>\n",
       "</tr>\n",
       "<tr>\n",
       "  <th>Prob(Omnibus):</th> <td> 0.949</td> <th>  Jarque-Bera (JB):  </th> <td>   0.062</td>\n",
       "</tr>\n",
       "<tr>\n",
       "  <th>Skew:</th>          <td>-0.017</td> <th>  Prob(JB):          </th> <td>   0.969</td>\n",
       "</tr>\n",
       "<tr>\n",
       "  <th>Kurtosis:</th>      <td> 3.019</td> <th>  Cond. No.          </th> <td>    1.65</td>\n",
       "</tr>\n",
       "</table><br/><br/>Notes:<br/>[1] R² is computed without centering (uncentered) since the model does not contain a constant.<br/>[2] Standard Errors assume that the covariance matrix of the errors is correctly specified."
      ],
      "text/plain": [
       "<class 'statsmodels.iolib.summary.Summary'>\n",
       "\"\"\"\n",
       "                                 OLS Regression Results                                \n",
       "=======================================================================================\n",
       "Dep. Variable:                      y   R-squared (uncentered):                   0.936\n",
       "Model:                            OLS   Adj. R-squared (uncentered):              0.936\n",
       "Method:                 Least Squares   F-statistic:                              7350.\n",
       "Date:                Tue, 14 Feb 2023   Prob (F-statistic):                        0.00\n",
       "Time:                        20:46:15   Log-Likelihood:                         -1423.6\n",
       "No. Observations:                1000   AIC:                                      2851.\n",
       "Df Residuals:                     998   BIC:                                      2861.\n",
       "Df Model:                           2                                                  \n",
       "Covariance Type:            nonrobust                                                  \n",
       "==============================================================================\n",
       "                 coef    std err          t      P>|t|      [0.025      0.975]\n",
       "------------------------------------------------------------------------------\n",
       "x1             1.3252      0.032     41.374      0.000       1.262       1.388\n",
       "x2             4.9061      0.049    100.143      0.000       4.810       5.002\n",
       "==============================================================================\n",
       "Omnibus:                        0.104   Durbin-Watson:                   2.016\n",
       "Prob(Omnibus):                  0.949   Jarque-Bera (JB):                0.062\n",
       "Skew:                          -0.017   Prob(JB):                        0.969\n",
       "Kurtosis:                       3.019   Cond. No.                         1.65\n",
       "==============================================================================\n",
       "\n",
       "Notes:\n",
       "[1] R² is computed without centering (uncentered) since the model does not contain a constant.\n",
       "[2] Standard Errors assume that the covariance matrix of the errors is correctly specified.\n",
       "\"\"\""
      ]
     },
     "execution_count": 10,
     "metadata": {},
     "output_type": "execute_result"
    }
   ],
   "source": [
    "model = OLS(np.asarray(df[outcome]), np.asarray(df[[common_cause, treatment]], dtype=np.float64))\n",
    "result = model.fit()\n",
    "result.summary()"
   ]
  }
 ],
 "metadata": {
  "kernelspec": {
   "display_name": "Python 3",
   "language": "python",
   "name": "python3"
  },
  "language_info": {
   "codemirror_mode": {
    "name": "ipython",
    "version": 3
   },
   "file_extension": ".py",
   "mimetype": "text/x-python",
   "name": "python",
   "nbconvert_exporter": "python",
   "pygments_lexer": "ipython3",
   "version": "3.8.10"
  },
  "toc": {
   "base_numbering": 1,
   "nav_menu": {},
   "number_sections": false,
   "sideBar": true,
   "skip_h1_title": true,
   "title_cell": "Table of Contents",
   "title_sidebar": "Contents",
   "toc_cell": false,
   "toc_position": {},
   "toc_section_display": true,
   "toc_window_display": false
  }
 },
 "nbformat": 4,
 "nbformat_minor": 4
}
