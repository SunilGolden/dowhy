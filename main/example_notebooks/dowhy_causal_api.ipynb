{
 "cells": [
  {
   "cell_type": "markdown",
   "metadata": {},
   "source": [
    "# Demo for the DoWhy causal API\n",
    "We show a simple example of adding a causal extension to any dataframe. "
   ]
  },
  {
   "cell_type": "code",
   "execution_count": 1,
   "metadata": {
    "execution": {
     "iopub.execute_input": "2023-02-08T15:14:14.147679Z",
     "iopub.status.busy": "2023-02-08T15:14:14.147234Z",
     "iopub.status.idle": "2023-02-08T15:14:15.720394Z",
     "shell.execute_reply": "2023-02-08T15:14:15.719756Z"
    }
   },
   "outputs": [],
   "source": [
    "import dowhy.datasets\n",
    "import dowhy.api\n",
    "\n",
    "import numpy as np\n",
    "import pandas as pd\n",
    "\n",
    "from statsmodels.api import OLS"
   ]
  },
  {
   "cell_type": "code",
   "execution_count": 2,
   "metadata": {
    "execution": {
     "iopub.execute_input": "2023-02-08T15:14:15.724907Z",
     "iopub.status.busy": "2023-02-08T15:14:15.723590Z",
     "iopub.status.idle": "2023-02-08T15:14:15.764364Z",
     "shell.execute_reply": "2023-02-08T15:14:15.763787Z"
    }
   },
   "outputs": [
    {
     "data": {
      "text/html": [
       "<div>\n",
       "<style scoped>\n",
       "    .dataframe tbody tr th:only-of-type {\n",
       "        vertical-align: middle;\n",
       "    }\n",
       "\n",
       "    .dataframe tbody tr th {\n",
       "        vertical-align: top;\n",
       "    }\n",
       "\n",
       "    .dataframe thead th {\n",
       "        text-align: right;\n",
       "    }\n",
       "</style>\n",
       "<table border=\"1\" class=\"dataframe\">\n",
       "  <thead>\n",
       "    <tr style=\"text-align: right;\">\n",
       "      <th></th>\n",
       "      <th>W0</th>\n",
       "      <th>v0</th>\n",
       "      <th>y</th>\n",
       "    </tr>\n",
       "  </thead>\n",
       "  <tbody>\n",
       "    <tr>\n",
       "      <th>0</th>\n",
       "      <td>0.612466</td>\n",
       "      <td>False</td>\n",
       "      <td>3.105718</td>\n",
       "    </tr>\n",
       "    <tr>\n",
       "      <th>1</th>\n",
       "      <td>0.981007</td>\n",
       "      <td>True</td>\n",
       "      <td>5.361469</td>\n",
       "    </tr>\n",
       "    <tr>\n",
       "      <th>2</th>\n",
       "      <td>0.031391</td>\n",
       "      <td>False</td>\n",
       "      <td>0.666138</td>\n",
       "    </tr>\n",
       "    <tr>\n",
       "      <th>3</th>\n",
       "      <td>0.836242</td>\n",
       "      <td>True</td>\n",
       "      <td>5.019369</td>\n",
       "    </tr>\n",
       "    <tr>\n",
       "      <th>4</th>\n",
       "      <td>0.467961</td>\n",
       "      <td>False</td>\n",
       "      <td>1.026327</td>\n",
       "    </tr>\n",
       "    <tr>\n",
       "      <th>...</th>\n",
       "      <td>...</td>\n",
       "      <td>...</td>\n",
       "      <td>...</td>\n",
       "    </tr>\n",
       "    <tr>\n",
       "      <th>995</th>\n",
       "      <td>1.197681</td>\n",
       "      <td>True</td>\n",
       "      <td>7.625384</td>\n",
       "    </tr>\n",
       "    <tr>\n",
       "      <th>996</th>\n",
       "      <td>-0.543551</td>\n",
       "      <td>False</td>\n",
       "      <td>-2.741488</td>\n",
       "    </tr>\n",
       "    <tr>\n",
       "      <th>997</th>\n",
       "      <td>1.009332</td>\n",
       "      <td>True</td>\n",
       "      <td>5.334629</td>\n",
       "    </tr>\n",
       "    <tr>\n",
       "      <th>998</th>\n",
       "      <td>2.438408</td>\n",
       "      <td>True</td>\n",
       "      <td>6.895720</td>\n",
       "    </tr>\n",
       "    <tr>\n",
       "      <th>999</th>\n",
       "      <td>0.521553</td>\n",
       "      <td>False</td>\n",
       "      <td>0.396805</td>\n",
       "    </tr>\n",
       "  </tbody>\n",
       "</table>\n",
       "<p>1000 rows × 3 columns</p>\n",
       "</div>"
      ],
      "text/plain": [
       "           W0     v0         y\n",
       "0    0.612466  False  3.105718\n",
       "1    0.981007   True  5.361469\n",
       "2    0.031391  False  0.666138\n",
       "3    0.836242   True  5.019369\n",
       "4    0.467961  False  1.026327\n",
       "..        ...    ...       ...\n",
       "995  1.197681   True  7.625384\n",
       "996 -0.543551  False -2.741488\n",
       "997  1.009332   True  5.334629\n",
       "998  2.438408   True  6.895720\n",
       "999  0.521553  False  0.396805\n",
       "\n",
       "[1000 rows x 3 columns]"
      ]
     },
     "execution_count": 2,
     "metadata": {},
     "output_type": "execute_result"
    }
   ],
   "source": [
    "data = dowhy.datasets.linear_dataset(beta=5,\n",
    "        num_common_causes=1,\n",
    "        num_instruments = 0,\n",
    "        num_samples=1000,\n",
    "        treatment_is_binary=True)\n",
    "df = data['df']\n",
    "df['y'] = df['y'] + np.random.normal(size=len(df)) # Adding noise to data. Without noise, the variance in Y|X, Z is zero, and mcmc fails.\n",
    "#data['dot_graph'] = 'digraph { v ->y;X0-> v;X0-> y;}'\n",
    "\n",
    "treatment= data[\"treatment_name\"][0]\n",
    "outcome = data[\"outcome_name\"][0]\n",
    "common_cause = data[\"common_causes_names\"][0]\n",
    "df"
   ]
  },
  {
   "cell_type": "code",
   "execution_count": 3,
   "metadata": {
    "execution": {
     "iopub.execute_input": "2023-02-08T15:14:15.767427Z",
     "iopub.status.busy": "2023-02-08T15:14:15.766943Z",
     "iopub.status.idle": "2023-02-08T15:14:15.992862Z",
     "shell.execute_reply": "2023-02-08T15:14:15.992314Z"
    }
   },
   "outputs": [
    {
     "data": {
      "text/plain": [
       "<AxesSubplot: xlabel='v0'>"
      ]
     },
     "execution_count": 3,
     "metadata": {},
     "output_type": "execute_result"
    },
    {
     "data": {
      "image/png": "[encoded data removed]",
      "text/plain": [
       "<Figure size 640x480 with 1 Axes>"
      ]
     },
     "metadata": {},
     "output_type": "display_data"
    }
   ],
   "source": [
    "# data['df'] is just a regular pandas.DataFrame\n",
    "df.causal.do(x=treatment,\n",
    "                     variable_types={treatment: 'b', outcome: 'c', common_cause: 'c'},\n",
    "                     outcome=outcome,\n",
    "                     common_causes=[common_cause],\n",
    "                     proceed_when_unidentifiable=True).groupby(treatment).mean().plot(y=outcome, kind='bar')"
   ]
  },
  {
   "cell_type": "code",
   "execution_count": 4,
   "metadata": {
    "execution": {
     "iopub.execute_input": "2023-02-08T15:14:15.995647Z",
     "iopub.status.busy": "2023-02-08T15:14:15.995222Z",
     "iopub.status.idle": "2023-02-08T15:14:16.107184Z",
     "shell.execute_reply": "2023-02-08T15:14:16.106639Z"
    }
   },
   "outputs": [
    {
     "data": {
      "text/plain": [
       "<AxesSubplot: xlabel='v0'>"
      ]
     },
     "execution_count": 4,
     "metadata": {},
     "output_type": "execute_result"
    },
    {
     "data": {
      "image/png": "[encoded data removed]",
      "text/plain": [
       "<Figure size 640x480 with 1 Axes>"
      ]
     },
     "metadata": {},
     "output_type": "display_data"
    }
   ],
   "source": [
    "df.causal.do(x={treatment: 1}, \n",
    "              variable_types={treatment:'b', outcome: 'c', common_cause: 'c'}, \n",
    "              outcome=outcome,\n",
    "              method='weighting', \n",
    "              common_causes=[common_cause],\n",
    "              proceed_when_unidentifiable=True).groupby(treatment).mean().plot(y=outcome, kind='bar')"
   ]
  },
  {
   "cell_type": "code",
   "execution_count": 5,
   "metadata": {
    "execution": {
     "iopub.execute_input": "2023-02-08T15:14:16.109943Z",
     "iopub.status.busy": "2023-02-08T15:14:16.109537Z",
     "iopub.status.idle": "2023-02-08T15:14:16.138548Z",
     "shell.execute_reply": "2023-02-08T15:14:16.138018Z"
    }
   },
   "outputs": [],
   "source": [
    "cdf_1 = df.causal.do(x={treatment: 1}, \n",
    "              variable_types={treatment: 'b', outcome: 'c', common_cause: 'c'}, \n",
    "              outcome=outcome, \n",
    "              dot_graph=data['dot_graph'],\n",
    "              proceed_when_unidentifiable=True)\n",
    "\n",
    "cdf_0 = df.causal.do(x={treatment: 0}, \n",
    "              variable_types={treatment: 'b', outcome: 'c', common_cause: 'c'}, \n",
    "              outcome=outcome, \n",
    "              dot_graph=data['dot_graph'],\n",
    "              proceed_when_unidentifiable=True)\n"
   ]
  },
  {
   "cell_type": "code",
   "execution_count": 6,
   "metadata": {
    "execution": {
     "iopub.execute_input": "2023-02-08T15:14:16.141276Z",
     "iopub.status.busy": "2023-02-08T15:14:16.140865Z",
     "iopub.status.idle": "2023-02-08T15:14:16.150376Z",
     "shell.execute_reply": "2023-02-08T15:14:16.149911Z"
    },
    "scrolled": true
   },
   "outputs": [
    {
     "data": {
      "text/html": [
       "<div>\n",
       "<style scoped>\n",
       "    .dataframe tbody tr th:only-of-type {\n",
       "        vertical-align: middle;\n",
       "    }\n",
       "\n",
       "    .dataframe tbody tr th {\n",
       "        vertical-align: top;\n",
       "    }\n",
       "\n",
       "    .dataframe thead th {\n",
       "        text-align: right;\n",
       "    }\n",
       "</style>\n",
       "<table border=\"1\" class=\"dataframe\">\n",
       "  <thead>\n",
       "    <tr style=\"text-align: right;\">\n",
       "      <th></th>\n",
       "      <th>W0</th>\n",
       "      <th>v0</th>\n",
       "      <th>y</th>\n",
       "      <th>propensity_score</th>\n",
       "      <th>weight</th>\n",
       "    </tr>\n",
       "  </thead>\n",
       "  <tbody>\n",
       "    <tr>\n",
       "      <th>0</th>\n",
       "      <td>1.395953</td>\n",
       "      <td>False</td>\n",
       "      <td>2.064703</td>\n",
       "      <td>0.313537</td>\n",
       "      <td>3.189421</td>\n",
       "    </tr>\n",
       "    <tr>\n",
       "      <th>1</th>\n",
       "      <td>0.429158</td>\n",
       "      <td>False</td>\n",
       "      <td>0.575096</td>\n",
       "      <td>0.443169</td>\n",
       "      <td>2.256474</td>\n",
       "    </tr>\n",
       "    <tr>\n",
       "      <th>2</th>\n",
       "      <td>-0.936534</td>\n",
       "      <td>False</td>\n",
       "      <td>1.725734</td>\n",
       "      <td>0.635560</td>\n",
       "      <td>1.573415</td>\n",
       "    </tr>\n",
       "    <tr>\n",
       "      <th>3</th>\n",
       "      <td>1.750601</td>\n",
       "      <td>False</td>\n",
       "      <td>0.419830</td>\n",
       "      <td>0.271436</td>\n",
       "      <td>3.684105</td>\n",
       "    </tr>\n",
       "    <tr>\n",
       "      <th>4</th>\n",
       "      <td>1.218779</td>\n",
       "      <td>False</td>\n",
       "      <td>-0.351025</td>\n",
       "      <td>0.335844</td>\n",
       "      <td>2.977569</td>\n",
       "    </tr>\n",
       "    <tr>\n",
       "      <th>...</th>\n",
       "      <td>...</td>\n",
       "      <td>...</td>\n",
       "      <td>...</td>\n",
       "      <td>...</td>\n",
       "      <td>...</td>\n",
       "    </tr>\n",
       "    <tr>\n",
       "      <th>995</th>\n",
       "      <td>1.622978</td>\n",
       "      <td>False</td>\n",
       "      <td>1.045957</td>\n",
       "      <td>0.286174</td>\n",
       "      <td>3.494381</td>\n",
       "    </tr>\n",
       "    <tr>\n",
       "      <th>996</th>\n",
       "      <td>0.229341</td>\n",
       "      <td>False</td>\n",
       "      <td>1.812925</td>\n",
       "      <td>0.471647</td>\n",
       "      <td>2.120230</td>\n",
       "    </tr>\n",
       "    <tr>\n",
       "      <th>997</th>\n",
       "      <td>-0.247113</td>\n",
       "      <td>False</td>\n",
       "      <td>0.506506</td>\n",
       "      <td>0.539950</td>\n",
       "      <td>1.852023</td>\n",
       "    </tr>\n",
       "    <tr>\n",
       "      <th>998</th>\n",
       "      <td>-0.721224</td>\n",
       "      <td>False</td>\n",
       "      <td>-1.723152</td>\n",
       "      <td>0.606464</td>\n",
       "      <td>1.648904</td>\n",
       "    </tr>\n",
       "    <tr>\n",
       "      <th>999</th>\n",
       "      <td>2.414776</td>\n",
       "      <td>False</td>\n",
       "      <td>1.394235</td>\n",
       "      <td>0.202806</td>\n",
       "      <td>4.930829</td>\n",
       "    </tr>\n",
       "  </tbody>\n",
       "</table>\n",
       "<p>1000 rows × 5 columns</p>\n",
       "</div>"
      ],
      "text/plain": [
       "           W0     v0         y  propensity_score    weight\n",
       "0    1.395953  False  2.064703          0.313537  3.189421\n",
       "1    0.429158  False  0.575096          0.443169  2.256474\n",
       "2   -0.936534  False  1.725734          0.635560  1.573415\n",
       "3    1.750601  False  0.419830          0.271436  3.684105\n",
       "4    1.218779  False -0.351025          0.335844  2.977569\n",
       "..        ...    ...       ...               ...       ...\n",
       "995  1.622978  False  1.045957          0.286174  3.494381\n",
       "996  0.229341  False  1.812925          0.471647  2.120230\n",
       "997 -0.247113  False  0.506506          0.539950  1.852023\n",
       "998 -0.721224  False -1.723152          0.606464  1.648904\n",
       "999  2.414776  False  1.394235          0.202806  4.930829\n",
       "\n",
       "[1000 rows x 5 columns]"
      ]
     },
     "execution_count": 6,
     "metadata": {},
     "output_type": "execute_result"
    }
   ],
   "source": [
    "cdf_0"
   ]
  },
  {
   "cell_type": "code",
   "execution_count": 7,
   "metadata": {
    "execution": {
     "iopub.execute_input": "2023-02-08T15:14:16.152960Z",
     "iopub.status.busy": "2023-02-08T15:14:16.152561Z",
     "iopub.status.idle": "2023-02-08T15:14:16.161770Z",
     "shell.execute_reply": "2023-02-08T15:14:16.161310Z"
    }
   },
   "outputs": [
    {
     "data": {
      "text/html": [
       "<div>\n",
       "<style scoped>\n",
       "    .dataframe tbody tr th:only-of-type {\n",
       "        vertical-align: middle;\n",
       "    }\n",
       "\n",
       "    .dataframe tbody tr th {\n",
       "        vertical-align: top;\n",
       "    }\n",
       "\n",
       "    .dataframe thead th {\n",
       "        text-align: right;\n",
       "    }\n",
       "</style>\n",
       "<table border=\"1\" class=\"dataframe\">\n",
       "  <thead>\n",
       "    <tr style=\"text-align: right;\">\n",
       "      <th></th>\n",
       "      <th>W0</th>\n",
       "      <th>v0</th>\n",
       "      <th>y</th>\n",
       "      <th>propensity_score</th>\n",
       "      <th>weight</th>\n",
       "    </tr>\n",
       "  </thead>\n",
       "  <tbody>\n",
       "    <tr>\n",
       "      <th>0</th>\n",
       "      <td>-0.157874</td>\n",
       "      <td>True</td>\n",
       "      <td>4.777706</td>\n",
       "      <td>0.472806</td>\n",
       "      <td>2.115031</td>\n",
       "    </tr>\n",
       "    <tr>\n",
       "      <th>1</th>\n",
       "      <td>1.410760</td>\n",
       "      <td>True</td>\n",
       "      <td>6.244303</td>\n",
       "      <td>0.688291</td>\n",
       "      <td>1.452874</td>\n",
       "    </tr>\n",
       "    <tr>\n",
       "      <th>2</th>\n",
       "      <td>-0.438335</td>\n",
       "      <td>True</td>\n",
       "      <td>3.328009</td>\n",
       "      <td>0.432912</td>\n",
       "      <td>2.309938</td>\n",
       "    </tr>\n",
       "    <tr>\n",
       "      <th>3</th>\n",
       "      <td>-0.169851</td>\n",
       "      <td>True</td>\n",
       "      <td>4.676376</td>\n",
       "      <td>0.471092</td>\n",
       "      <td>2.122729</td>\n",
       "    </tr>\n",
       "    <tr>\n",
       "      <th>4</th>\n",
       "      <td>2.741767</td>\n",
       "      <td>True</td>\n",
       "      <td>5.903058</td>\n",
       "      <td>0.825876</td>\n",
       "      <td>1.210836</td>\n",
       "    </tr>\n",
       "    <tr>\n",
       "      <th>...</th>\n",
       "      <td>...</td>\n",
       "      <td>...</td>\n",
       "      <td>...</td>\n",
       "      <td>...</td>\n",
       "      <td>...</td>\n",
       "    </tr>\n",
       "    <tr>\n",
       "      <th>995</th>\n",
       "      <td>-0.478332</td>\n",
       "      <td>True</td>\n",
       "      <td>3.624311</td>\n",
       "      <td>0.427281</td>\n",
       "      <td>2.340381</td>\n",
       "    </tr>\n",
       "    <tr>\n",
       "      <th>996</th>\n",
       "      <td>1.156694</td>\n",
       "      <td>True</td>\n",
       "      <td>7.074822</td>\n",
       "      <td>0.656155</td>\n",
       "      <td>1.524030</td>\n",
       "    </tr>\n",
       "    <tr>\n",
       "      <th>997</th>\n",
       "      <td>1.528706</td>\n",
       "      <td>True</td>\n",
       "      <td>7.709677</td>\n",
       "      <td>0.702638</td>\n",
       "      <td>1.423208</td>\n",
       "    </tr>\n",
       "    <tr>\n",
       "      <th>998</th>\n",
       "      <td>-0.219103</td>\n",
       "      <td>True</td>\n",
       "      <td>5.236946</td>\n",
       "      <td>0.464049</td>\n",
       "      <td>2.154945</td>\n",
       "    </tr>\n",
       "    <tr>\n",
       "      <th>999</th>\n",
       "      <td>1.283258</td>\n",
       "      <td>True</td>\n",
       "      <td>7.463270</td>\n",
       "      <td>0.672366</td>\n",
       "      <td>1.487285</td>\n",
       "    </tr>\n",
       "  </tbody>\n",
       "</table>\n",
       "<p>1000 rows × 5 columns</p>\n",
       "</div>"
      ],
      "text/plain": [
       "           W0    v0         y  propensity_score    weight\n",
       "0   -0.157874  True  4.777706          0.472806  2.115031\n",
       "1    1.410760  True  6.244303          0.688291  1.452874\n",
       "2   -0.438335  True  3.328009          0.432912  2.309938\n",
       "3   -0.169851  True  4.676376          0.471092  2.122729\n",
       "4    2.741767  True  5.903058          0.825876  1.210836\n",
       "..        ...   ...       ...               ...       ...\n",
       "995 -0.478332  True  3.624311          0.427281  2.340381\n",
       "996  1.156694  True  7.074822          0.656155  1.524030\n",
       "997  1.528706  True  7.709677          0.702638  1.423208\n",
       "998 -0.219103  True  5.236946          0.464049  2.154945\n",
       "999  1.283258  True  7.463270          0.672366  1.487285\n",
       "\n",
       "[1000 rows x 5 columns]"
      ]
     },
     "execution_count": 7,
     "metadata": {},
     "output_type": "execute_result"
    }
   ],
   "source": [
    "cdf_1"
   ]
  },
  {
   "cell_type": "markdown",
   "metadata": {},
   "source": [
    "## Comparing the estimate to Linear Regression\n",
    "First, estimating the effect using the causal data frame, and the 95% confidence interval."
   ]
  },
  {
   "cell_type": "code",
   "execution_count": 8,
   "metadata": {
    "execution": {
     "iopub.execute_input": "2023-02-08T15:14:16.164639Z",
     "iopub.status.busy": "2023-02-08T15:14:16.163898Z",
     "iopub.status.idle": "2023-02-08T15:14:16.221286Z",
     "shell.execute_reply": "2023-02-08T15:14:16.220625Z"
    }
   },
   "outputs": [
    {
     "data": {
      "image/png": "[encoded data removed]",
      "text/latex": [
       "$\\displaystyle 4.86043181551037$"
      ],
      "text/plain": [
       "4.860431815510372"
      ]
     },
     "execution_count": 8,
     "metadata": {},
     "output_type": "execute_result"
    }
   ],
   "source": [
    "(cdf_1['y'] - cdf_0['y']).mean()"
   ]
  },
  {
   "cell_type": "code",
   "execution_count": 9,
   "metadata": {
    "execution": {
     "iopub.execute_input": "2023-02-08T15:14:16.224387Z",
     "iopub.status.busy": "2023-02-08T15:14:16.223896Z",
     "iopub.status.idle": "2023-02-08T15:14:16.243240Z",
     "shell.execute_reply": "2023-02-08T15:14:16.242653Z"
    }
   },
   "outputs": [
    {
     "data": {
      "image/png": "[encoded data removed]",
      "text/latex": [
       "$\\displaystyle 0.123312756334226$"
      ],
      "text/plain": [
       "0.12331275633422599"
      ]
     },
     "execution_count": 9,
     "metadata": {},
     "output_type": "execute_result"
    }
   ],
   "source": [
    "1.96*(cdf_1['y'] - cdf_0['y']).std() / np.sqrt(len(df))"
   ]
  },
  {
   "cell_type": "markdown",
   "metadata": {},
   "source": [
    "Comparing to the estimate from OLS."
   ]
  },
  {
   "cell_type": "code",
   "execution_count": 10,
   "metadata": {
    "execution": {
     "iopub.execute_input": "2023-02-08T15:14:16.246068Z",
     "iopub.status.busy": "2023-02-08T15:14:16.245591Z",
     "iopub.status.idle": "2023-02-08T15:14:16.260590Z",
     "shell.execute_reply": "2023-02-08T15:14:16.260006Z"
    }
   },
   "outputs": [
    {
     "data": {
      "text/html": [
       "<table class=\"simpletable\">\n",
       "<caption>OLS Regression Results</caption>\n",
       "<tr>\n",
       "  <th>Dep. Variable:</th>            <td>y</td>        <th>  R-squared (uncentered):</th>      <td>   0.952</td>\n",
       "</tr>\n",
       "<tr>\n",
       "  <th>Model:</th>                   <td>OLS</td>       <th>  Adj. R-squared (uncentered):</th> <td>   0.952</td>\n",
       "</tr>\n",
       "<tr>\n",
       "  <th>Method:</th>             <td>Least Squares</td>  <th>  F-statistic:       </th>          <td>   9936.</td>\n",
       "</tr>\n",
       "<tr>\n",
       "  <th>Date:</th>             <td>Wed, 08 Feb 2023</td> <th>  Prob (F-statistic):</th>           <td>  0.00</td> \n",
       "</tr>\n",
       "<tr>\n",
       "  <th>Time:</th>                 <td>15:14:16</td>     <th>  Log-Likelihood:    </th>          <td> -1406.0</td>\n",
       "</tr>\n",
       "<tr>\n",
       "  <th>No. Observations:</th>      <td>  1000</td>      <th>  AIC:               </th>          <td>   2816.</td>\n",
       "</tr>\n",
       "<tr>\n",
       "  <th>Df Residuals:</th>          <td>   998</td>      <th>  BIC:               </th>          <td>   2826.</td>\n",
       "</tr>\n",
       "<tr>\n",
       "  <th>Df Model:</th>              <td>     2</td>      <th>                     </th>              <td> </td>   \n",
       "</tr>\n",
       "<tr>\n",
       "  <th>Covariance Type:</th>      <td>nonrobust</td>    <th>                     </th>              <td> </td>   \n",
       "</tr>\n",
       "</table>\n",
       "<table class=\"simpletable\">\n",
       "<tr>\n",
       "   <td></td>     <th>coef</th>     <th>std err</th>      <th>t</th>      <th>P>|t|</th>  <th>[0.025</th>    <th>0.975]</th>  \n",
       "</tr>\n",
       "<tr>\n",
       "  <th>x1</th> <td>    1.0819</td> <td>    0.032</td> <td>   33.982</td> <td> 0.000</td> <td>    1.019</td> <td>    1.144</td>\n",
       "</tr>\n",
       "<tr>\n",
       "  <th>x2</th> <td>    4.9536</td> <td>    0.048</td> <td>  104.138</td> <td> 0.000</td> <td>    4.860</td> <td>    5.047</td>\n",
       "</tr>\n",
       "</table>\n",
       "<table class=\"simpletable\">\n",
       "<tr>\n",
       "  <th>Omnibus:</th>       <td> 1.632</td> <th>  Durbin-Watson:     </th> <td>   1.920</td>\n",
       "</tr>\n",
       "<tr>\n",
       "  <th>Prob(Omnibus):</th> <td> 0.442</td> <th>  Jarque-Bera (JB):  </th> <td>   1.595</td>\n",
       "</tr>\n",
       "<tr>\n",
       "  <th>Skew:</th>          <td> 0.098</td> <th>  Prob(JB):          </th> <td>   0.450</td>\n",
       "</tr>\n",
       "<tr>\n",
       "  <th>Kurtosis:</th>      <td> 3.006</td> <th>  Cond. No.          </th> <td>    1.95</td>\n",
       "</tr>\n",
       "</table><br/><br/>Notes:<br/>[1] R² is computed without centering (uncentered) since the model does not contain a constant.<br/>[2] Standard Errors assume that the covariance matrix of the errors is correctly specified."
      ],
      "text/plain": [
       "<class 'statsmodels.iolib.summary.Summary'>\n",
       "\"\"\"\n",
       "                                 OLS Regression Results                                \n",
       "=======================================================================================\n",
       "Dep. Variable:                      y   R-squared (uncentered):                   0.952\n",
       "Model:                            OLS   Adj. R-squared (uncentered):              0.952\n",
       "Method:                 Least Squares   F-statistic:                              9936.\n",
       "Date:                Wed, 08 Feb 2023   Prob (F-statistic):                        0.00\n",
       "Time:                        15:14:16   Log-Likelihood:                         -1406.0\n",
       "No. Observations:                1000   AIC:                                      2816.\n",
       "Df Residuals:                     998   BIC:                                      2826.\n",
       "Df Model:                           2                                                  \n",
       "Covariance Type:            nonrobust                                                  \n",
       "==============================================================================\n",
       "                 coef    std err          t      P>|t|      [0.025      0.975]\n",
       "------------------------------------------------------------------------------\n",
       "x1             1.0819      0.032     33.982      0.000       1.019       1.144\n",
       "x2             4.9536      0.048    104.138      0.000       4.860       5.047\n",
       "==============================================================================\n",
       "Omnibus:                        1.632   Durbin-Watson:                   1.920\n",
       "Prob(Omnibus):                  0.442   Jarque-Bera (JB):                1.595\n",
       "Skew:                           0.098   Prob(JB):                        0.450\n",
       "Kurtosis:                       3.006   Cond. No.                         1.95\n",
       "==============================================================================\n",
       "\n",
       "Notes:\n",
       "[1] R² is computed without centering (uncentered) since the model does not contain a constant.\n",
       "[2] Standard Errors assume that the covariance matrix of the errors is correctly specified.\n",
       "\"\"\""
      ]
     },
     "execution_count": 10,
     "metadata": {},
     "output_type": "execute_result"
    }
   ],
   "source": [
    "model = OLS(np.asarray(df[outcome]), np.asarray(df[[common_cause, treatment]], dtype=np.float64))\n",
    "result = model.fit()\n",
    "result.summary()"
   ]
  }
 ],
 "metadata": {
  "kernelspec": {
   "display_name": "Python 3",
   "language": "python",
   "name": "python3"
  },
  "language_info": {
   "codemirror_mode": {
    "name": "ipython",
    "version": 3
   },
   "file_extension": ".py",
   "mimetype": "text/x-python",
   "name": "python",
   "nbconvert_exporter": "python",
   "pygments_lexer": "ipython3",
   "version": "3.8.10"
  },
  "toc": {
   "base_numbering": 1,
   "nav_menu": {},
   "number_sections": false,
   "sideBar": true,
   "skip_h1_title": true,
   "title_cell": "Table of Contents",
   "title_sidebar": "Contents",
   "toc_cell": false,
   "toc_position": {},
   "toc_section_display": true,
   "toc_window_display": false
  }
 },
 "nbformat": 4,
 "nbformat_minor": 4
}
