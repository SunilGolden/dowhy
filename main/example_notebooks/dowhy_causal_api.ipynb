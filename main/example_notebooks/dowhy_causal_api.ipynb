{
 "cells": [
  {
   "cell_type": "markdown",
   "metadata": {},
   "source": [
    "# Demo for the DoWhy causal API\n",
    "We show a simple example of adding a causal extension to any dataframe. "
   ]
  },
  {
   "cell_type": "code",
   "execution_count": 1,
   "metadata": {
    "execution": {
     "iopub.execute_input": "2023-03-07T16:36:15.757551Z",
     "iopub.status.busy": "2023-03-07T16:36:15.756971Z",
     "iopub.status.idle": "2023-03-07T16:36:17.547844Z",
     "shell.execute_reply": "2023-03-07T16:36:17.547117Z"
    }
   },
   "outputs": [],
   "source": [
    "import dowhy.datasets\n",
    "import dowhy.api\n",
    "\n",
    "import numpy as np\n",
    "import pandas as pd\n",
    "\n",
    "from statsmodels.api import OLS"
   ]
  },
  {
   "cell_type": "code",
   "execution_count": 2,
   "metadata": {
    "execution": {
     "iopub.execute_input": "2023-03-07T16:36:17.551576Z",
     "iopub.status.busy": "2023-03-07T16:36:17.550994Z",
     "iopub.status.idle": "2023-03-07T16:36:17.599388Z",
     "shell.execute_reply": "2023-03-07T16:36:17.598651Z"
    }
   },
   "outputs": [
    {
     "data": {
      "text/html": [
       "<div>\n",
       "<style scoped>\n",
       "    .dataframe tbody tr th:only-of-type {\n",
       "        vertical-align: middle;\n",
       "    }\n",
       "\n",
       "    .dataframe tbody tr th {\n",
       "        vertical-align: top;\n",
       "    }\n",
       "\n",
       "    .dataframe thead th {\n",
       "        text-align: right;\n",
       "    }\n",
       "</style>\n",
       "<table border=\"1\" class=\"dataframe\">\n",
       "  <thead>\n",
       "    <tr style=\"text-align: right;\">\n",
       "      <th></th>\n",
       "      <th>W0</th>\n",
       "      <th>v0</th>\n",
       "      <th>y</th>\n",
       "    </tr>\n",
       "  </thead>\n",
       "  <tbody>\n",
       "    <tr>\n",
       "      <th>0</th>\n",
       "      <td>1.091943</td>\n",
       "      <td>True</td>\n",
       "      <td>8.689047</td>\n",
       "    </tr>\n",
       "    <tr>\n",
       "      <th>1</th>\n",
       "      <td>1.643546</td>\n",
       "      <td>True</td>\n",
       "      <td>8.613824</td>\n",
       "    </tr>\n",
       "    <tr>\n",
       "      <th>2</th>\n",
       "      <td>-0.401242</td>\n",
       "      <td>False</td>\n",
       "      <td>-1.077298</td>\n",
       "    </tr>\n",
       "    <tr>\n",
       "      <th>3</th>\n",
       "      <td>2.170307</td>\n",
       "      <td>False</td>\n",
       "      <td>4.493023</td>\n",
       "    </tr>\n",
       "    <tr>\n",
       "      <th>4</th>\n",
       "      <td>0.447527</td>\n",
       "      <td>True</td>\n",
       "      <td>6.517920</td>\n",
       "    </tr>\n",
       "    <tr>\n",
       "      <th>...</th>\n",
       "      <td>...</td>\n",
       "      <td>...</td>\n",
       "      <td>...</td>\n",
       "    </tr>\n",
       "    <tr>\n",
       "      <th>995</th>\n",
       "      <td>0.728639</td>\n",
       "      <td>False</td>\n",
       "      <td>2.272975</td>\n",
       "    </tr>\n",
       "    <tr>\n",
       "      <th>996</th>\n",
       "      <td>0.500575</td>\n",
       "      <td>True</td>\n",
       "      <td>6.103960</td>\n",
       "    </tr>\n",
       "    <tr>\n",
       "      <th>997</th>\n",
       "      <td>0.125664</td>\n",
       "      <td>True</td>\n",
       "      <td>6.170720</td>\n",
       "    </tr>\n",
       "    <tr>\n",
       "      <th>998</th>\n",
       "      <td>2.009225</td>\n",
       "      <td>False</td>\n",
       "      <td>6.097101</td>\n",
       "    </tr>\n",
       "    <tr>\n",
       "      <th>999</th>\n",
       "      <td>-1.247208</td>\n",
       "      <td>True</td>\n",
       "      <td>1.772723</td>\n",
       "    </tr>\n",
       "  </tbody>\n",
       "</table>\n",
       "<p>1000 rows × 3 columns</p>\n",
       "</div>"
      ],
      "text/plain": [
       "           W0     v0         y\n",
       "0    1.091943   True  8.689047\n",
       "1    1.643546   True  8.613824\n",
       "2   -0.401242  False -1.077298\n",
       "3    2.170307  False  4.493023\n",
       "4    0.447527   True  6.517920\n",
       "..        ...    ...       ...\n",
       "995  0.728639  False  2.272975\n",
       "996  0.500575   True  6.103960\n",
       "997  0.125664   True  6.170720\n",
       "998  2.009225  False  6.097101\n",
       "999 -1.247208   True  1.772723\n",
       "\n",
       "[1000 rows x 3 columns]"
      ]
     },
     "execution_count": 2,
     "metadata": {},
     "output_type": "execute_result"
    }
   ],
   "source": [
    "data = dowhy.datasets.linear_dataset(beta=5,\n",
    "        num_common_causes=1,\n",
    "        num_instruments = 0,\n",
    "        num_samples=1000,\n",
    "        treatment_is_binary=True)\n",
    "df = data['df']\n",
    "df['y'] = df['y'] + np.random.normal(size=len(df)) # Adding noise to data. Without noise, the variance in Y|X, Z is zero, and mcmc fails.\n",
    "#data['dot_graph'] = 'digraph { v ->y;X0-> v;X0-> y;}'\n",
    "\n",
    "treatment= data[\"treatment_name\"][0]\n",
    "outcome = data[\"outcome_name\"][0]\n",
    "common_cause = data[\"common_causes_names\"][0]\n",
    "df"
   ]
  },
  {
   "cell_type": "code",
   "execution_count": 3,
   "metadata": {
    "execution": {
     "iopub.execute_input": "2023-03-07T16:36:17.603030Z",
     "iopub.status.busy": "2023-03-07T16:36:17.602445Z",
     "iopub.status.idle": "2023-03-07T16:36:17.776097Z",
     "shell.execute_reply": "2023-03-07T16:36:17.775376Z"
    }
   },
   "outputs": [
    {
     "data": {
      "text/plain": [
       "<AxesSubplot: xlabel='v0'>"
      ]
     },
     "execution_count": 3,
     "metadata": {},
     "output_type": "execute_result"
    },
    {
     "data": {
      "image/png": "[encoded data removed]",
      "text/plain": [
       "<Figure size 640x480 with 1 Axes>"
      ]
     },
     "metadata": {},
     "output_type": "display_data"
    }
   ],
   "source": [
    "# data['df'] is just a regular pandas.DataFrame\n",
    "df.causal.do(x=treatment,\n",
    "                     variable_types={treatment: 'b', outcome: 'c', common_cause: 'c'},\n",
    "                     outcome=outcome,\n",
    "                     common_causes=[common_cause],\n",
    "                     proceed_when_unidentifiable=True).groupby(treatment).mean().plot(y=outcome, kind='bar')"
   ]
  },
  {
   "cell_type": "code",
   "execution_count": 4,
   "metadata": {
    "execution": {
     "iopub.execute_input": "2023-03-07T16:36:17.779554Z",
     "iopub.status.busy": "2023-03-07T16:36:17.778993Z",
     "iopub.status.idle": "2023-03-07T16:36:18.034809Z",
     "shell.execute_reply": "2023-03-07T16:36:18.033809Z"
    }
   },
   "outputs": [
    {
     "data": {
      "text/plain": [
       "<AxesSubplot: xlabel='v0'>"
      ]
     },
     "execution_count": 4,
     "metadata": {},
     "output_type": "execute_result"
    },
    {
     "data": {
      "image/png": "[encoded data removed]",
      "text/plain": [
       "<Figure size 640x480 with 1 Axes>"
      ]
     },
     "metadata": {},
     "output_type": "display_data"
    }
   ],
   "source": [
    "df.causal.do(x={treatment: 1}, \n",
    "              variable_types={treatment:'b', outcome: 'c', common_cause: 'c'}, \n",
    "              outcome=outcome,\n",
    "              method='weighting', \n",
    "              common_causes=[common_cause],\n",
    "              proceed_when_unidentifiable=True).groupby(treatment).mean().plot(y=outcome, kind='bar')"
   ]
  },
  {
   "cell_type": "code",
   "execution_count": 5,
   "metadata": {
    "execution": {
     "iopub.execute_input": "2023-03-07T16:36:18.038891Z",
     "iopub.status.busy": "2023-03-07T16:36:18.038423Z",
     "iopub.status.idle": "2023-03-07T16:36:18.072186Z",
     "shell.execute_reply": "2023-03-07T16:36:18.071469Z"
    }
   },
   "outputs": [],
   "source": [
    "cdf_1 = df.causal.do(x={treatment: 1}, \n",
    "              variable_types={treatment: 'b', outcome: 'c', common_cause: 'c'}, \n",
    "              outcome=outcome, \n",
    "              dot_graph=data['dot_graph'],\n",
    "              proceed_when_unidentifiable=True)\n",
    "\n",
    "cdf_0 = df.causal.do(x={treatment: 0}, \n",
    "              variable_types={treatment: 'b', outcome: 'c', common_cause: 'c'}, \n",
    "              outcome=outcome, \n",
    "              dot_graph=data['dot_graph'],\n",
    "              proceed_when_unidentifiable=True)\n"
   ]
  },
  {
   "cell_type": "code",
   "execution_count": 6,
   "metadata": {
    "execution": {
     "iopub.execute_input": "2023-03-07T16:36:18.076292Z",
     "iopub.status.busy": "2023-03-07T16:36:18.075854Z",
     "iopub.status.idle": "2023-03-07T16:36:18.089756Z",
     "shell.execute_reply": "2023-03-07T16:36:18.089142Z"
    },
    "scrolled": true
   },
   "outputs": [
    {
     "data": {
      "text/html": [
       "<div>\n",
       "<style scoped>\n",
       "    .dataframe tbody tr th:only-of-type {\n",
       "        vertical-align: middle;\n",
       "    }\n",
       "\n",
       "    .dataframe tbody tr th {\n",
       "        vertical-align: top;\n",
       "    }\n",
       "\n",
       "    .dataframe thead th {\n",
       "        text-align: right;\n",
       "    }\n",
       "</style>\n",
       "<table border=\"1\" class=\"dataframe\">\n",
       "  <thead>\n",
       "    <tr style=\"text-align: right;\">\n",
       "      <th></th>\n",
       "      <th>W0</th>\n",
       "      <th>v0</th>\n",
       "      <th>y</th>\n",
       "      <th>propensity_score</th>\n",
       "      <th>weight</th>\n",
       "    </tr>\n",
       "  </thead>\n",
       "  <tbody>\n",
       "    <tr>\n",
       "      <th>0</th>\n",
       "      <td>0.960555</td>\n",
       "      <td>False</td>\n",
       "      <td>2.638709</td>\n",
       "      <td>0.495506</td>\n",
       "      <td>2.018138</td>\n",
       "    </tr>\n",
       "    <tr>\n",
       "      <th>1</th>\n",
       "      <td>0.599058</td>\n",
       "      <td>False</td>\n",
       "      <td>1.682217</td>\n",
       "      <td>0.499222</td>\n",
       "      <td>2.003118</td>\n",
       "    </tr>\n",
       "    <tr>\n",
       "      <th>2</th>\n",
       "      <td>0.750373</td>\n",
       "      <td>False</td>\n",
       "      <td>2.512907</td>\n",
       "      <td>0.497666</td>\n",
       "      <td>2.009378</td>\n",
       "    </tr>\n",
       "    <tr>\n",
       "      <th>3</th>\n",
       "      <td>1.056210</td>\n",
       "      <td>False</td>\n",
       "      <td>2.684077</td>\n",
       "      <td>0.494523</td>\n",
       "      <td>2.022150</td>\n",
       "    </tr>\n",
       "    <tr>\n",
       "      <th>4</th>\n",
       "      <td>-0.008410</td>\n",
       "      <td>False</td>\n",
       "      <td>1.142565</td>\n",
       "      <td>0.505465</td>\n",
       "      <td>1.978376</td>\n",
       "    </tr>\n",
       "    <tr>\n",
       "      <th>...</th>\n",
       "      <td>...</td>\n",
       "      <td>...</td>\n",
       "      <td>...</td>\n",
       "      <td>...</td>\n",
       "      <td>...</td>\n",
       "    </tr>\n",
       "    <tr>\n",
       "      <th>995</th>\n",
       "      <td>1.900856</td>\n",
       "      <td>False</td>\n",
       "      <td>2.086185</td>\n",
       "      <td>0.485845</td>\n",
       "      <td>2.058268</td>\n",
       "    </tr>\n",
       "    <tr>\n",
       "      <th>996</th>\n",
       "      <td>0.787624</td>\n",
       "      <td>False</td>\n",
       "      <td>1.513574</td>\n",
       "      <td>0.497284</td>\n",
       "      <td>2.010925</td>\n",
       "    </tr>\n",
       "    <tr>\n",
       "      <th>997</th>\n",
       "      <td>0.303828</td>\n",
       "      <td>False</td>\n",
       "      <td>0.779890</td>\n",
       "      <td>0.502256</td>\n",
       "      <td>1.991016</td>\n",
       "    </tr>\n",
       "    <tr>\n",
       "      <th>998</th>\n",
       "      <td>-0.012414</td>\n",
       "      <td>False</td>\n",
       "      <td>1.087694</td>\n",
       "      <td>0.505506</td>\n",
       "      <td>1.978215</td>\n",
       "    </tr>\n",
       "    <tr>\n",
       "      <th>999</th>\n",
       "      <td>0.437659</td>\n",
       "      <td>False</td>\n",
       "      <td>-0.345387</td>\n",
       "      <td>0.500881</td>\n",
       "      <td>1.996484</td>\n",
       "    </tr>\n",
       "  </tbody>\n",
       "</table>\n",
       "<p>1000 rows × 5 columns</p>\n",
       "</div>"
      ],
      "text/plain": [
       "           W0     v0         y  propensity_score    weight\n",
       "0    0.960555  False  2.638709          0.495506  2.018138\n",
       "1    0.599058  False  1.682217          0.499222  2.003118\n",
       "2    0.750373  False  2.512907          0.497666  2.009378\n",
       "3    1.056210  False  2.684077          0.494523  2.022150\n",
       "4   -0.008410  False  1.142565          0.505465  1.978376\n",
       "..        ...    ...       ...               ...       ...\n",
       "995  1.900856  False  2.086185          0.485845  2.058268\n",
       "996  0.787624  False  1.513574          0.497284  2.010925\n",
       "997  0.303828  False  0.779890          0.502256  1.991016\n",
       "998 -0.012414  False  1.087694          0.505506  1.978215\n",
       "999  0.437659  False -0.345387          0.500881  1.996484\n",
       "\n",
       "[1000 rows x 5 columns]"
      ]
     },
     "execution_count": 6,
     "metadata": {},
     "output_type": "execute_result"
    }
   ],
   "source": [
    "cdf_0"
   ]
  },
  {
   "cell_type": "code",
   "execution_count": 7,
   "metadata": {
    "execution": {
     "iopub.execute_input": "2023-03-07T16:36:18.092748Z",
     "iopub.status.busy": "2023-03-07T16:36:18.092287Z",
     "iopub.status.idle": "2023-03-07T16:36:18.105989Z",
     "shell.execute_reply": "2023-03-07T16:36:18.105328Z"
    }
   },
   "outputs": [
    {
     "data": {
      "text/html": [
       "<div>\n",
       "<style scoped>\n",
       "    .dataframe tbody tr th:only-of-type {\n",
       "        vertical-align: middle;\n",
       "    }\n",
       "\n",
       "    .dataframe tbody tr th {\n",
       "        vertical-align: top;\n",
       "    }\n",
       "\n",
       "    .dataframe thead th {\n",
       "        text-align: right;\n",
       "    }\n",
       "</style>\n",
       "<table border=\"1\" class=\"dataframe\">\n",
       "  <thead>\n",
       "    <tr style=\"text-align: right;\">\n",
       "      <th></th>\n",
       "      <th>W0</th>\n",
       "      <th>v0</th>\n",
       "      <th>y</th>\n",
       "      <th>propensity_score</th>\n",
       "      <th>weight</th>\n",
       "    </tr>\n",
       "  </thead>\n",
       "  <tbody>\n",
       "    <tr>\n",
       "      <th>0</th>\n",
       "      <td>1.928496</td>\n",
       "      <td>True</td>\n",
       "      <td>10.864545</td>\n",
       "      <td>0.514438</td>\n",
       "      <td>1.943867</td>\n",
       "    </tr>\n",
       "    <tr>\n",
       "      <th>1</th>\n",
       "      <td>2.494131</td>\n",
       "      <td>True</td>\n",
       "      <td>10.596746</td>\n",
       "      <td>0.520245</td>\n",
       "      <td>1.922171</td>\n",
       "    </tr>\n",
       "    <tr>\n",
       "      <th>2</th>\n",
       "      <td>-0.814933</td>\n",
       "      <td>True</td>\n",
       "      <td>1.964153</td>\n",
       "      <td>0.486248</td>\n",
       "      <td>2.056562</td>\n",
       "    </tr>\n",
       "    <tr>\n",
       "      <th>3</th>\n",
       "      <td>1.514449</td>\n",
       "      <td>True</td>\n",
       "      <td>9.296734</td>\n",
       "      <td>0.510185</td>\n",
       "      <td>1.960072</td>\n",
       "    </tr>\n",
       "    <tr>\n",
       "      <th>4</th>\n",
       "      <td>-0.615327</td>\n",
       "      <td>True</td>\n",
       "      <td>3.995846</td>\n",
       "      <td>0.488299</td>\n",
       "      <td>2.047927</td>\n",
       "    </tr>\n",
       "    <tr>\n",
       "      <th>...</th>\n",
       "      <td>...</td>\n",
       "      <td>...</td>\n",
       "      <td>...</td>\n",
       "      <td>...</td>\n",
       "      <td>...</td>\n",
       "    </tr>\n",
       "    <tr>\n",
       "      <th>995</th>\n",
       "      <td>1.342267</td>\n",
       "      <td>True</td>\n",
       "      <td>7.791229</td>\n",
       "      <td>0.508416</td>\n",
       "      <td>1.966892</td>\n",
       "    </tr>\n",
       "    <tr>\n",
       "      <th>996</th>\n",
       "      <td>0.247720</td>\n",
       "      <td>True</td>\n",
       "      <td>5.601818</td>\n",
       "      <td>0.497167</td>\n",
       "      <td>2.011396</td>\n",
       "    </tr>\n",
       "    <tr>\n",
       "      <th>997</th>\n",
       "      <td>1.818305</td>\n",
       "      <td>True</td>\n",
       "      <td>7.596072</td>\n",
       "      <td>0.513307</td>\n",
       "      <td>1.948153</td>\n",
       "    </tr>\n",
       "    <tr>\n",
       "      <th>998</th>\n",
       "      <td>0.827041</td>\n",
       "      <td>True</td>\n",
       "      <td>6.131272</td>\n",
       "      <td>0.503121</td>\n",
       "      <td>1.987592</td>\n",
       "    </tr>\n",
       "    <tr>\n",
       "      <th>999</th>\n",
       "      <td>0.522622</td>\n",
       "      <td>True</td>\n",
       "      <td>7.172334</td>\n",
       "      <td>0.499993</td>\n",
       "      <td>2.000029</td>\n",
       "    </tr>\n",
       "  </tbody>\n",
       "</table>\n",
       "<p>1000 rows × 5 columns</p>\n",
       "</div>"
      ],
      "text/plain": [
       "           W0    v0          y  propensity_score    weight\n",
       "0    1.928496  True  10.864545          0.514438  1.943867\n",
       "1    2.494131  True  10.596746          0.520245  1.922171\n",
       "2   -0.814933  True   1.964153          0.486248  2.056562\n",
       "3    1.514449  True   9.296734          0.510185  1.960072\n",
       "4   -0.615327  True   3.995846          0.488299  2.047927\n",
       "..        ...   ...        ...               ...       ...\n",
       "995  1.342267  True   7.791229          0.508416  1.966892\n",
       "996  0.247720  True   5.601818          0.497167  2.011396\n",
       "997  1.818305  True   7.596072          0.513307  1.948153\n",
       "998  0.827041  True   6.131272          0.503121  1.987592\n",
       "999  0.522622  True   7.172334          0.499993  2.000029\n",
       "\n",
       "[1000 rows x 5 columns]"
      ]
     },
     "execution_count": 7,
     "metadata": {},
     "output_type": "execute_result"
    }
   ],
   "source": [
    "cdf_1"
   ]
  },
  {
   "cell_type": "markdown",
   "metadata": {},
   "source": [
    "## Comparing the estimate to Linear Regression\n",
    "First, estimating the effect using the causal data frame, and the 95% confidence interval."
   ]
  },
  {
   "cell_type": "code",
   "execution_count": 8,
   "metadata": {
    "execution": {
     "iopub.execute_input": "2023-03-07T16:36:18.109175Z",
     "iopub.status.busy": "2023-03-07T16:36:18.108593Z",
     "iopub.status.idle": "2023-03-07T16:36:18.168303Z",
     "shell.execute_reply": "2023-03-07T16:36:18.167548Z"
    }
   },
   "outputs": [
    {
     "data": {
      "image/png": "[encoded data removed]",
      "text/latex": [
       "$\\displaystyle 5.14284684271162$"
      ],
      "text/plain": [
       "5.142846842711617"
      ]
     },
     "execution_count": 8,
     "metadata": {},
     "output_type": "execute_result"
    }
   ],
   "source": [
    "(cdf_1['y'] - cdf_0['y']).mean()"
   ]
  },
  {
   "cell_type": "code",
   "execution_count": 9,
   "metadata": {
    "execution": {
     "iopub.execute_input": "2023-03-07T16:36:18.171457Z",
     "iopub.status.busy": "2023-03-07T16:36:18.171201Z",
     "iopub.status.idle": "2023-03-07T16:36:18.193411Z",
     "shell.execute_reply": "2023-03-07T16:36:18.192647Z"
    }
   },
   "outputs": [
    {
     "data": {
      "image/png": "[encoded data removed]",
      "text/latex": [
       "$\\displaystyle 0.198998105727374$"
      ],
      "text/plain": [
       "0.19899810572737395"
      ]
     },
     "execution_count": 9,
     "metadata": {},
     "output_type": "execute_result"
    }
   ],
   "source": [
    "1.96*(cdf_1['y'] - cdf_0['y']).std() / np.sqrt(len(df))"
   ]
  },
  {
   "cell_type": "markdown",
   "metadata": {},
   "source": [
    "Comparing to the estimate from OLS."
   ]
  },
  {
   "cell_type": "code",
   "execution_count": 10,
   "metadata": {
    "execution": {
     "iopub.execute_input": "2023-03-07T16:36:18.196784Z",
     "iopub.status.busy": "2023-03-07T16:36:18.196399Z",
     "iopub.status.idle": "2023-03-07T16:36:18.213522Z",
     "shell.execute_reply": "2023-03-07T16:36:18.212720Z"
    }
   },
   "outputs": [
    {
     "data": {
      "text/html": [
       "<table class=\"simpletable\">\n",
       "<caption>OLS Regression Results</caption>\n",
       "<tr>\n",
       "  <th>Dep. Variable:</th>            <td>y</td>        <th>  R-squared (uncentered):</th>      <td>   0.967</td> \n",
       "</tr>\n",
       "<tr>\n",
       "  <th>Model:</th>                   <td>OLS</td>       <th>  Adj. R-squared (uncentered):</th> <td>   0.967</td> \n",
       "</tr>\n",
       "<tr>\n",
       "  <th>Method:</th>             <td>Least Squares</td>  <th>  F-statistic:       </th>          <td>1.476e+04</td>\n",
       "</tr>\n",
       "<tr>\n",
       "  <th>Date:</th>             <td>Tue, 07 Mar 2023</td> <th>  Prob (F-statistic):</th>           <td>  0.00</td>  \n",
       "</tr>\n",
       "<tr>\n",
       "  <th>Time:</th>                 <td>16:36:18</td>     <th>  Log-Likelihood:    </th>          <td> -1399.8</td> \n",
       "</tr>\n",
       "<tr>\n",
       "  <th>No. Observations:</th>      <td>  1000</td>      <th>  AIC:               </th>          <td>   2804.</td> \n",
       "</tr>\n",
       "<tr>\n",
       "  <th>Df Residuals:</th>          <td>   998</td>      <th>  BIC:               </th>          <td>   2813.</td> \n",
       "</tr>\n",
       "<tr>\n",
       "  <th>Df Model:</th>              <td>     2</td>      <th>                     </th>              <td> </td>    \n",
       "</tr>\n",
       "<tr>\n",
       "  <th>Covariance Type:</th>      <td>nonrobust</td>    <th>                     </th>              <td> </td>    \n",
       "</tr>\n",
       "</table>\n",
       "<table class=\"simpletable\">\n",
       "<tr>\n",
       "   <td></td>     <th>coef</th>     <th>std err</th>      <th>t</th>      <th>P>|t|</th>  <th>[0.025</th>    <th>0.975]</th>  \n",
       "</tr>\n",
       "<tr>\n",
       "  <th>x1</th> <td>    2.2851</td> <td>    0.029</td> <td>   78.787</td> <td> 0.000</td> <td>    2.228</td> <td>    2.342</td>\n",
       "</tr>\n",
       "<tr>\n",
       "  <th>x2</th> <td>    5.0084</td> <td>    0.049</td> <td>  102.717</td> <td> 0.000</td> <td>    4.913</td> <td>    5.104</td>\n",
       "</tr>\n",
       "</table>\n",
       "<table class=\"simpletable\">\n",
       "<tr>\n",
       "  <th>Omnibus:</th>       <td> 0.150</td> <th>  Durbin-Watson:     </th> <td>   2.062</td>\n",
       "</tr>\n",
       "<tr>\n",
       "  <th>Prob(Omnibus):</th> <td> 0.928</td> <th>  Jarque-Bera (JB):  </th> <td>   0.222</td>\n",
       "</tr>\n",
       "<tr>\n",
       "  <th>Skew:</th>          <td> 0.014</td> <th>  Prob(JB):          </th> <td>   0.895</td>\n",
       "</tr>\n",
       "<tr>\n",
       "  <th>Kurtosis:</th>      <td> 2.933</td> <th>  Cond. No.          </th> <td>    2.04</td>\n",
       "</tr>\n",
       "</table><br/><br/>Notes:<br/>[1] R² is computed without centering (uncentered) since the model does not contain a constant.<br/>[2] Standard Errors assume that the covariance matrix of the errors is correctly specified."
      ],
      "text/plain": [
       "<class 'statsmodels.iolib.summary.Summary'>\n",
       "\"\"\"\n",
       "                                 OLS Regression Results                                \n",
       "=======================================================================================\n",
       "Dep. Variable:                      y   R-squared (uncentered):                   0.967\n",
       "Model:                            OLS   Adj. R-squared (uncentered):              0.967\n",
       "Method:                 Least Squares   F-statistic:                          1.476e+04\n",
       "Date:                Tue, 07 Mar 2023   Prob (F-statistic):                        0.00\n",
       "Time:                        16:36:18   Log-Likelihood:                         -1399.8\n",
       "No. Observations:                1000   AIC:                                      2804.\n",
       "Df Residuals:                     998   BIC:                                      2813.\n",
       "Df Model:                           2                                                  \n",
       "Covariance Type:            nonrobust                                                  \n",
       "==============================================================================\n",
       "                 coef    std err          t      P>|t|      [0.025      0.975]\n",
       "------------------------------------------------------------------------------\n",
       "x1             2.2851      0.029     78.787      0.000       2.228       2.342\n",
       "x2             5.0084      0.049    102.717      0.000       4.913       5.104\n",
       "==============================================================================\n",
       "Omnibus:                        0.150   Durbin-Watson:                   2.062\n",
       "Prob(Omnibus):                  0.928   Jarque-Bera (JB):                0.222\n",
       "Skew:                           0.014   Prob(JB):                        0.895\n",
       "Kurtosis:                       2.933   Cond. No.                         2.04\n",
       "==============================================================================\n",
       "\n",
       "Notes:\n",
       "[1] R² is computed without centering (uncentered) since the model does not contain a constant.\n",
       "[2] Standard Errors assume that the covariance matrix of the errors is correctly specified.\n",
       "\"\"\""
      ]
     },
     "execution_count": 10,
     "metadata": {},
     "output_type": "execute_result"
    }
   ],
   "source": [
    "model = OLS(np.asarray(df[outcome]), np.asarray(df[[common_cause, treatment]], dtype=np.float64))\n",
    "result = model.fit()\n",
    "result.summary()"
   ]
  }
 ],
 "metadata": {
  "kernelspec": {
   "display_name": "Python 3",
   "language": "python",
   "name": "python3"
  },
  "language_info": {
   "codemirror_mode": {
    "name": "ipython",
    "version": 3
   },
   "file_extension": ".py",
   "mimetype": "text/x-python",
   "name": "python",
   "nbconvert_exporter": "python",
   "pygments_lexer": "ipython3",
   "version": "3.8.10"
  },
  "toc": {
   "base_numbering": 1,
   "nav_menu": {},
   "number_sections": false,
   "sideBar": true,
   "skip_h1_title": true,
   "title_cell": "Table of Contents",
   "title_sidebar": "Contents",
   "toc_cell": false,
   "toc_position": {},
   "toc_section_display": true,
   "toc_window_display": false
  }
 },
 "nbformat": 4,
 "nbformat_minor": 4
}
