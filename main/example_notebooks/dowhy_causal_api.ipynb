{
 "cells": [
  {
   "cell_type": "markdown",
   "metadata": {},
   "source": [
    "# Demo for the DoWhy causal API\n",
    "We show a simple example of adding a causal extension to any dataframe. "
   ]
  },
  {
   "cell_type": "code",
   "execution_count": 1,
   "metadata": {
    "execution": {
     "iopub.execute_input": "2023-07-21T19:17:54.334469Z",
     "iopub.status.busy": "2023-07-21T19:17:54.334216Z",
     "iopub.status.idle": "2023-07-21T19:17:56.032526Z",
     "shell.execute_reply": "2023-07-21T19:17:56.031334Z"
    }
   },
   "outputs": [],
   "source": [
    "import dowhy.datasets\n",
    "import dowhy.api\n",
    "\n",
    "import numpy as np\n",
    "import pandas as pd\n",
    "\n",
    "from statsmodels.api import OLS"
   ]
  },
  {
   "cell_type": "code",
   "execution_count": 2,
   "metadata": {
    "execution": {
     "iopub.execute_input": "2023-07-21T19:17:56.036644Z",
     "iopub.status.busy": "2023-07-21T19:17:56.036251Z",
     "iopub.status.idle": "2023-07-21T19:17:56.079080Z",
     "shell.execute_reply": "2023-07-21T19:17:56.078446Z"
    }
   },
   "outputs": [
    {
     "data": {
      "text/html": [
       "<div>\n",
       "<style scoped>\n",
       "    .dataframe tbody tr th:only-of-type {\n",
       "        vertical-align: middle;\n",
       "    }\n",
       "\n",
       "    .dataframe tbody tr th {\n",
       "        vertical-align: top;\n",
       "    }\n",
       "\n",
       "    .dataframe thead th {\n",
       "        text-align: right;\n",
       "    }\n",
       "</style>\n",
       "<table border=\"1\" class=\"dataframe\">\n",
       "  <thead>\n",
       "    <tr style=\"text-align: right;\">\n",
       "      <th></th>\n",
       "      <th>W0</th>\n",
       "      <th>v0</th>\n",
       "      <th>y</th>\n",
       "    </tr>\n",
       "  </thead>\n",
       "  <tbody>\n",
       "    <tr>\n",
       "      <th>0</th>\n",
       "      <td>-2.381834</td>\n",
       "      <td>True</td>\n",
       "      <td>-0.012711</td>\n",
       "    </tr>\n",
       "    <tr>\n",
       "      <th>1</th>\n",
       "      <td>0.242480</td>\n",
       "      <td>True</td>\n",
       "      <td>5.821157</td>\n",
       "    </tr>\n",
       "    <tr>\n",
       "      <th>2</th>\n",
       "      <td>-0.117542</td>\n",
       "      <td>True</td>\n",
       "      <td>5.860776</td>\n",
       "    </tr>\n",
       "    <tr>\n",
       "      <th>3</th>\n",
       "      <td>-0.579126</td>\n",
       "      <td>False</td>\n",
       "      <td>-0.605553</td>\n",
       "    </tr>\n",
       "    <tr>\n",
       "      <th>4</th>\n",
       "      <td>-1.655410</td>\n",
       "      <td>False</td>\n",
       "      <td>-2.608667</td>\n",
       "    </tr>\n",
       "    <tr>\n",
       "      <th>...</th>\n",
       "      <td>...</td>\n",
       "      <td>...</td>\n",
       "      <td>...</td>\n",
       "    </tr>\n",
       "    <tr>\n",
       "      <th>995</th>\n",
       "      <td>0.435876</td>\n",
       "      <td>True</td>\n",
       "      <td>5.795862</td>\n",
       "    </tr>\n",
       "    <tr>\n",
       "      <th>996</th>\n",
       "      <td>-0.124481</td>\n",
       "      <td>False</td>\n",
       "      <td>-0.328659</td>\n",
       "    </tr>\n",
       "    <tr>\n",
       "      <th>997</th>\n",
       "      <td>-1.252306</td>\n",
       "      <td>False</td>\n",
       "      <td>-2.091580</td>\n",
       "    </tr>\n",
       "    <tr>\n",
       "      <th>998</th>\n",
       "      <td>0.964004</td>\n",
       "      <td>False</td>\n",
       "      <td>1.067315</td>\n",
       "    </tr>\n",
       "    <tr>\n",
       "      <th>999</th>\n",
       "      <td>0.010906</td>\n",
       "      <td>False</td>\n",
       "      <td>-0.027554</td>\n",
       "    </tr>\n",
       "  </tbody>\n",
       "</table>\n",
       "<p>1000 rows × 3 columns</p>\n",
       "</div>"
      ],
      "text/plain": [
       "           W0     v0         y\n",
       "0   -2.381834   True -0.012711\n",
       "1    0.242480   True  5.821157\n",
       "2   -0.117542   True  5.860776\n",
       "3   -0.579126  False -0.605553\n",
       "4   -1.655410  False -2.608667\n",
       "..        ...    ...       ...\n",
       "995  0.435876   True  5.795862\n",
       "996 -0.124481  False -0.328659\n",
       "997 -1.252306  False -2.091580\n",
       "998  0.964004  False  1.067315\n",
       "999  0.010906  False -0.027554\n",
       "\n",
       "[1000 rows x 3 columns]"
      ]
     },
     "execution_count": 2,
     "metadata": {},
     "output_type": "execute_result"
    }
   ],
   "source": [
    "data = dowhy.datasets.linear_dataset(beta=5,\n",
    "        num_common_causes=1,\n",
    "        num_instruments = 0,\n",
    "        num_samples=1000,\n",
    "        treatment_is_binary=True)\n",
    "df = data['df']\n",
    "df['y'] = df['y'] + np.random.normal(size=len(df)) # Adding noise to data. Without noise, the variance in Y|X, Z is zero, and mcmc fails.\n",
    "#data['dot_graph'] = 'digraph { v ->y;X0-> v;X0-> y;}'\n",
    "\n",
    "treatment= data[\"treatment_name\"][0]\n",
    "outcome = data[\"outcome_name\"][0]\n",
    "common_cause = data[\"common_causes_names\"][0]\n",
    "df"
   ]
  },
  {
   "cell_type": "code",
   "execution_count": 3,
   "metadata": {
    "execution": {
     "iopub.execute_input": "2023-07-21T19:17:56.082339Z",
     "iopub.status.busy": "2023-07-21T19:17:56.081949Z",
     "iopub.status.idle": "2023-07-21T19:17:56.282889Z",
     "shell.execute_reply": "2023-07-21T19:17:56.282260Z"
    }
   },
   "outputs": [
    {
     "data": {
      "text/plain": [
       "<Axes: xlabel='v0'>"
      ]
     },
     "execution_count": 3,
     "metadata": {},
     "output_type": "execute_result"
    },
    {
     "data": {
      "image/png": "[encoded data removed]",
      "text/plain": [
       "<Figure size 640x480 with 1 Axes>"
      ]
     },
     "metadata": {},
     "output_type": "display_data"
    }
   ],
   "source": [
    "# data['df'] is just a regular pandas.DataFrame\n",
    "df.causal.do(x=treatment,\n",
    "                     variable_types={treatment: 'b', outcome: 'c', common_cause: 'c'},\n",
    "                     outcome=outcome,\n",
    "                     common_causes=[common_cause],\n",
    "                     proceed_when_unidentifiable=True).groupby(treatment).mean().plot(y=outcome, kind='bar')"
   ]
  },
  {
   "cell_type": "code",
   "execution_count": 4,
   "metadata": {
    "execution": {
     "iopub.execute_input": "2023-07-21T19:17:56.286099Z",
     "iopub.status.busy": "2023-07-21T19:17:56.285495Z",
     "iopub.status.idle": "2023-07-21T19:17:56.419547Z",
     "shell.execute_reply": "2023-07-21T19:17:56.418976Z"
    }
   },
   "outputs": [
    {
     "data": {
      "text/plain": [
       "<Axes: xlabel='v0'>"
      ]
     },
     "execution_count": 4,
     "metadata": {},
     "output_type": "execute_result"
    },
    {
     "data": {
      "image/png": "[encoded data removed]",
      "text/plain": [
       "<Figure size 640x480 with 1 Axes>"
      ]
     },
     "metadata": {},
     "output_type": "display_data"
    }
   ],
   "source": [
    "df.causal.do(x={treatment: 1}, \n",
    "              variable_types={treatment:'b', outcome: 'c', common_cause: 'c'}, \n",
    "              outcome=outcome,\n",
    "              method='weighting', \n",
    "              common_causes=[common_cause],\n",
    "              proceed_when_unidentifiable=True).groupby(treatment).mean().plot(y=outcome, kind='bar')"
   ]
  },
  {
   "cell_type": "code",
   "execution_count": 5,
   "metadata": {
    "execution": {
     "iopub.execute_input": "2023-07-21T19:17:56.422619Z",
     "iopub.status.busy": "2023-07-21T19:17:56.422147Z",
     "iopub.status.idle": "2023-07-21T19:17:56.453421Z",
     "shell.execute_reply": "2023-07-21T19:17:56.452808Z"
    }
   },
   "outputs": [],
   "source": [
    "cdf_1 = df.causal.do(x={treatment: 1}, \n",
    "              variable_types={treatment: 'b', outcome: 'c', common_cause: 'c'}, \n",
    "              outcome=outcome, \n",
    "              dot_graph=data['dot_graph'],\n",
    "              proceed_when_unidentifiable=True)\n",
    "\n",
    "cdf_0 = df.causal.do(x={treatment: 0}, \n",
    "              variable_types={treatment: 'b', outcome: 'c', common_cause: 'c'}, \n",
    "              outcome=outcome, \n",
    "              dot_graph=data['dot_graph'],\n",
    "              proceed_when_unidentifiable=True)\n"
   ]
  },
  {
   "cell_type": "code",
   "execution_count": 6,
   "metadata": {
    "execution": {
     "iopub.execute_input": "2023-07-21T19:17:56.456268Z",
     "iopub.status.busy": "2023-07-21T19:17:56.455897Z",
     "iopub.status.idle": "2023-07-21T19:17:56.466708Z",
     "shell.execute_reply": "2023-07-21T19:17:56.466056Z"
    },
    "scrolled": true
   },
   "outputs": [
    {
     "data": {
      "text/html": [
       "<div>\n",
       "<style scoped>\n",
       "    .dataframe tbody tr th:only-of-type {\n",
       "        vertical-align: middle;\n",
       "    }\n",
       "\n",
       "    .dataframe tbody tr th {\n",
       "        vertical-align: top;\n",
       "    }\n",
       "\n",
       "    .dataframe thead th {\n",
       "        text-align: right;\n",
       "    }\n",
       "</style>\n",
       "<table border=\"1\" class=\"dataframe\">\n",
       "  <thead>\n",
       "    <tr style=\"text-align: right;\">\n",
       "      <th></th>\n",
       "      <th>W0</th>\n",
       "      <th>v0</th>\n",
       "      <th>y</th>\n",
       "      <th>propensity_score</th>\n",
       "      <th>weight</th>\n",
       "    </tr>\n",
       "  </thead>\n",
       "  <tbody>\n",
       "    <tr>\n",
       "      <th>0</th>\n",
       "      <td>0.308303</td>\n",
       "      <td>False</td>\n",
       "      <td>0.116040</td>\n",
       "      <td>0.482067</td>\n",
       "      <td>2.074400</td>\n",
       "    </tr>\n",
       "    <tr>\n",
       "      <th>1</th>\n",
       "      <td>-1.263053</td>\n",
       "      <td>False</td>\n",
       "      <td>-1.817951</td>\n",
       "      <td>0.606521</td>\n",
       "      <td>1.648749</td>\n",
       "    </tr>\n",
       "    <tr>\n",
       "      <th>2</th>\n",
       "      <td>0.121694</td>\n",
       "      <td>False</td>\n",
       "      <td>0.730274</td>\n",
       "      <td>0.497037</td>\n",
       "      <td>2.011923</td>\n",
       "    </tr>\n",
       "    <tr>\n",
       "      <th>3</th>\n",
       "      <td>-0.988723</td>\n",
       "      <td>False</td>\n",
       "      <td>-3.008437</td>\n",
       "      <td>0.585317</td>\n",
       "      <td>1.708477</td>\n",
       "    </tr>\n",
       "    <tr>\n",
       "      <th>4</th>\n",
       "      <td>0.598545</td>\n",
       "      <td>False</td>\n",
       "      <td>0.983985</td>\n",
       "      <td>0.458858</td>\n",
       "      <td>2.179325</td>\n",
       "    </tr>\n",
       "    <tr>\n",
       "      <th>...</th>\n",
       "      <td>...</td>\n",
       "      <td>...</td>\n",
       "      <td>...</td>\n",
       "      <td>...</td>\n",
       "      <td>...</td>\n",
       "    </tr>\n",
       "    <tr>\n",
       "      <th>995</th>\n",
       "      <td>0.596091</td>\n",
       "      <td>False</td>\n",
       "      <td>0.991961</td>\n",
       "      <td>0.459053</td>\n",
       "      <td>2.178396</td>\n",
       "    </tr>\n",
       "    <tr>\n",
       "      <th>996</th>\n",
       "      <td>-0.124481</td>\n",
       "      <td>False</td>\n",
       "      <td>-0.328659</td>\n",
       "      <td>0.516789</td>\n",
       "      <td>1.935027</td>\n",
       "    </tr>\n",
       "    <tr>\n",
       "      <th>997</th>\n",
       "      <td>0.420481</td>\n",
       "      <td>False</td>\n",
       "      <td>2.690882</td>\n",
       "      <td>0.473082</td>\n",
       "      <td>2.113798</td>\n",
       "    </tr>\n",
       "    <tr>\n",
       "      <th>998</th>\n",
       "      <td>0.369409</td>\n",
       "      <td>False</td>\n",
       "      <td>0.048486</td>\n",
       "      <td>0.477171</td>\n",
       "      <td>2.095685</td>\n",
       "    </tr>\n",
       "    <tr>\n",
       "      <th>999</th>\n",
       "      <td>-0.534242</td>\n",
       "      <td>False</td>\n",
       "      <td>-0.856426</td>\n",
       "      <td>0.549520</td>\n",
       "      <td>1.819771</td>\n",
       "    </tr>\n",
       "  </tbody>\n",
       "</table>\n",
       "<p>1000 rows × 5 columns</p>\n",
       "</div>"
      ],
      "text/plain": [
       "           W0     v0         y  propensity_score    weight\n",
       "0    0.308303  False  0.116040          0.482067  2.074400\n",
       "1   -1.263053  False -1.817951          0.606521  1.648749\n",
       "2    0.121694  False  0.730274          0.497037  2.011923\n",
       "3   -0.988723  False -3.008437          0.585317  1.708477\n",
       "4    0.598545  False  0.983985          0.458858  2.179325\n",
       "..        ...    ...       ...               ...       ...\n",
       "995  0.596091  False  0.991961          0.459053  2.178396\n",
       "996 -0.124481  False -0.328659          0.516789  1.935027\n",
       "997  0.420481  False  2.690882          0.473082  2.113798\n",
       "998  0.369409  False  0.048486          0.477171  2.095685\n",
       "999 -0.534242  False -0.856426          0.549520  1.819771\n",
       "\n",
       "[1000 rows x 5 columns]"
      ]
     },
     "execution_count": 6,
     "metadata": {},
     "output_type": "execute_result"
    }
   ],
   "source": [
    "cdf_0"
   ]
  },
  {
   "cell_type": "code",
   "execution_count": 7,
   "metadata": {
    "execution": {
     "iopub.execute_input": "2023-07-21T19:17:56.469827Z",
     "iopub.status.busy": "2023-07-21T19:17:56.469589Z",
     "iopub.status.idle": "2023-07-21T19:17:56.481988Z",
     "shell.execute_reply": "2023-07-21T19:17:56.481242Z"
    }
   },
   "outputs": [
    {
     "data": {
      "text/html": [
       "<div>\n",
       "<style scoped>\n",
       "    .dataframe tbody tr th:only-of-type {\n",
       "        vertical-align: middle;\n",
       "    }\n",
       "\n",
       "    .dataframe tbody tr th {\n",
       "        vertical-align: top;\n",
       "    }\n",
       "\n",
       "    .dataframe thead th {\n",
       "        text-align: right;\n",
       "    }\n",
       "</style>\n",
       "<table border=\"1\" class=\"dataframe\">\n",
       "  <thead>\n",
       "    <tr style=\"text-align: right;\">\n",
       "      <th></th>\n",
       "      <th>W0</th>\n",
       "      <th>v0</th>\n",
       "      <th>y</th>\n",
       "      <th>propensity_score</th>\n",
       "      <th>weight</th>\n",
       "    </tr>\n",
       "  </thead>\n",
       "  <tbody>\n",
       "    <tr>\n",
       "      <th>0</th>\n",
       "      <td>1.391905</td>\n",
       "      <td>True</td>\n",
       "      <td>9.102869</td>\n",
       "      <td>0.603398</td>\n",
       "      <td>1.657281</td>\n",
       "    </tr>\n",
       "    <tr>\n",
       "      <th>1</th>\n",
       "      <td>0.701586</td>\n",
       "      <td>True</td>\n",
       "      <td>5.321391</td>\n",
       "      <td>0.549345</td>\n",
       "      <td>1.820351</td>\n",
       "    </tr>\n",
       "    <tr>\n",
       "      <th>2</th>\n",
       "      <td>1.781753</td>\n",
       "      <td>True</td>\n",
       "      <td>7.299390</td>\n",
       "      <td>0.632929</td>\n",
       "      <td>1.579957</td>\n",
       "    </tr>\n",
       "    <tr>\n",
       "      <th>3</th>\n",
       "      <td>-1.521417</td>\n",
       "      <td>True</td>\n",
       "      <td>1.281636</td>\n",
       "      <td>0.373869</td>\n",
       "      <td>2.674736</td>\n",
       "    </tr>\n",
       "    <tr>\n",
       "      <th>4</th>\n",
       "      <td>0.567684</td>\n",
       "      <td>True</td>\n",
       "      <td>7.415414</td>\n",
       "      <td>0.538681</td>\n",
       "      <td>1.856386</td>\n",
       "    </tr>\n",
       "    <tr>\n",
       "      <th>...</th>\n",
       "      <td>...</td>\n",
       "      <td>...</td>\n",
       "      <td>...</td>\n",
       "      <td>...</td>\n",
       "      <td>...</td>\n",
       "    </tr>\n",
       "    <tr>\n",
       "      <th>995</th>\n",
       "      <td>-1.079316</td>\n",
       "      <td>True</td>\n",
       "      <td>2.394417</td>\n",
       "      <td>0.407642</td>\n",
       "      <td>2.453134</td>\n",
       "    </tr>\n",
       "    <tr>\n",
       "      <th>996</th>\n",
       "      <td>0.296304</td>\n",
       "      <td>True</td>\n",
       "      <td>5.358272</td>\n",
       "      <td>0.516971</td>\n",
       "      <td>1.934344</td>\n",
       "    </tr>\n",
       "    <tr>\n",
       "      <th>997</th>\n",
       "      <td>0.341964</td>\n",
       "      <td>True</td>\n",
       "      <td>5.234203</td>\n",
       "      <td>0.520630</td>\n",
       "      <td>1.920748</td>\n",
       "    </tr>\n",
       "    <tr>\n",
       "      <th>998</th>\n",
       "      <td>-0.502447</td>\n",
       "      <td>True</td>\n",
       "      <td>5.579233</td>\n",
       "      <td>0.453008</td>\n",
       "      <td>2.207465</td>\n",
       "    </tr>\n",
       "    <tr>\n",
       "      <th>999</th>\n",
       "      <td>-0.364207</td>\n",
       "      <td>True</td>\n",
       "      <td>5.748168</td>\n",
       "      <td>0.464027</td>\n",
       "      <td>2.155048</td>\n",
       "    </tr>\n",
       "  </tbody>\n",
       "</table>\n",
       "<p>1000 rows × 5 columns</p>\n",
       "</div>"
      ],
      "text/plain": [
       "           W0    v0         y  propensity_score    weight\n",
       "0    1.391905  True  9.102869          0.603398  1.657281\n",
       "1    0.701586  True  5.321391          0.549345  1.820351\n",
       "2    1.781753  True  7.299390          0.632929  1.579957\n",
       "3   -1.521417  True  1.281636          0.373869  2.674736\n",
       "4    0.567684  True  7.415414          0.538681  1.856386\n",
       "..        ...   ...       ...               ...       ...\n",
       "995 -1.079316  True  2.394417          0.407642  2.453134\n",
       "996  0.296304  True  5.358272          0.516971  1.934344\n",
       "997  0.341964  True  5.234203          0.520630  1.920748\n",
       "998 -0.502447  True  5.579233          0.453008  2.207465\n",
       "999 -0.364207  True  5.748168          0.464027  2.155048\n",
       "\n",
       "[1000 rows x 5 columns]"
      ]
     },
     "execution_count": 7,
     "metadata": {},
     "output_type": "execute_result"
    }
   ],
   "source": [
    "cdf_1"
   ]
  },
  {
   "cell_type": "markdown",
   "metadata": {},
   "source": [
    "## Comparing the estimate to Linear Regression\n",
    "First, estimating the effect using the causal data frame, and the 95% confidence interval."
   ]
  },
  {
   "cell_type": "code",
   "execution_count": 8,
   "metadata": {
    "execution": {
     "iopub.execute_input": "2023-07-21T19:17:56.485051Z",
     "iopub.status.busy": "2023-07-21T19:17:56.484526Z",
     "iopub.status.idle": "2023-07-21T19:17:56.545268Z",
     "shell.execute_reply": "2023-07-21T19:17:56.544501Z"
    }
   },
   "outputs": [
    {
     "data": {
      "image/png": "[encoded data removed]",
      "text/latex": [
       "$\\displaystyle 4.94088580641817$"
      ],
      "text/plain": [
       "4.940885806418168"
      ]
     },
     "execution_count": 8,
     "metadata": {},
     "output_type": "execute_result"
    }
   ],
   "source": [
    "(cdf_1['y'] - cdf_0['y']).mean()"
   ]
  },
  {
   "cell_type": "code",
   "execution_count": 9,
   "metadata": {
    "execution": {
     "iopub.execute_input": "2023-07-21T19:17:56.548401Z",
     "iopub.status.busy": "2023-07-21T19:17:56.547965Z",
     "iopub.status.idle": "2023-07-21T19:17:56.568211Z",
     "shell.execute_reply": "2023-07-21T19:17:56.567551Z"
    }
   },
   "outputs": [
    {
     "data": {
      "image/png": "[encoded data removed]",
      "text/latex": [
       "$\\displaystyle 0.186529431975107$"
      ],
      "text/plain": [
       "0.18652943197510674"
      ]
     },
     "execution_count": 9,
     "metadata": {},
     "output_type": "execute_result"
    }
   ],
   "source": [
    "1.96*(cdf_1['y'] - cdf_0['y']).std() / np.sqrt(len(df))"
   ]
  },
  {
   "cell_type": "markdown",
   "metadata": {},
   "source": [
    "Comparing to the estimate from OLS."
   ]
  },
  {
   "cell_type": "code",
   "execution_count": 10,
   "metadata": {
    "execution": {
     "iopub.execute_input": "2023-07-21T19:17:56.571088Z",
     "iopub.status.busy": "2023-07-21T19:17:56.570670Z",
     "iopub.status.idle": "2023-07-21T19:17:56.586030Z",
     "shell.execute_reply": "2023-07-21T19:17:56.585359Z"
    }
   },
   "outputs": [
    {
     "data": {
      "text/html": [
       "<table class=\"simpletable\">\n",
       "<caption>OLS Regression Results</caption>\n",
       "<tr>\n",
       "  <th>Dep. Variable:</th>            <td>y</td>        <th>  R-squared (uncentered):</th>      <td>   0.952</td>\n",
       "</tr>\n",
       "<tr>\n",
       "  <th>Model:</th>                   <td>OLS</td>       <th>  Adj. R-squared (uncentered):</th> <td>   0.952</td>\n",
       "</tr>\n",
       "<tr>\n",
       "  <th>Method:</th>             <td>Least Squares</td>  <th>  F-statistic:       </th>          <td>   9828.</td>\n",
       "</tr>\n",
       "<tr>\n",
       "  <th>Date:</th>             <td>Fri, 21 Jul 2023</td> <th>  Prob (F-statistic):</th>           <td>  0.00</td> \n",
       "</tr>\n",
       "<tr>\n",
       "  <th>Time:</th>                 <td>19:17:56</td>     <th>  Log-Likelihood:    </th>          <td> -1418.1</td>\n",
       "</tr>\n",
       "<tr>\n",
       "  <th>No. Observations:</th>      <td>  1000</td>      <th>  AIC:               </th>          <td>   2840.</td>\n",
       "</tr>\n",
       "<tr>\n",
       "  <th>Df Residuals:</th>          <td>   998</td>      <th>  BIC:               </th>          <td>   2850.</td>\n",
       "</tr>\n",
       "<tr>\n",
       "  <th>Df Model:</th>              <td>     2</td>      <th>                     </th>              <td> </td>   \n",
       "</tr>\n",
       "<tr>\n",
       "  <th>Covariance Type:</th>      <td>nonrobust</td>    <th>                     </th>              <td> </td>   \n",
       "</tr>\n",
       "</table>\n",
       "<table class=\"simpletable\">\n",
       "<tr>\n",
       "   <td></td>     <th>coef</th>     <th>std err</th>      <th>t</th>      <th>P>|t|</th>  <th>[0.025</th>    <th>0.975]</th>  \n",
       "</tr>\n",
       "<tr>\n",
       "  <th>x1</th> <td>    1.7980</td> <td>    0.031</td> <td>   58.515</td> <td> 0.000</td> <td>    1.738</td> <td>    1.858</td>\n",
       "</tr>\n",
       "<tr>\n",
       "  <th>x2</th> <td>    5.0723</td> <td>    0.046</td> <td>  111.232</td> <td> 0.000</td> <td>    4.983</td> <td>    5.162</td>\n",
       "</tr>\n",
       "</table>\n",
       "<table class=\"simpletable\">\n",
       "<tr>\n",
       "  <th>Omnibus:</th>       <td> 4.729</td> <th>  Durbin-Watson:     </th> <td>   1.979</td>\n",
       "</tr>\n",
       "<tr>\n",
       "  <th>Prob(Omnibus):</th> <td> 0.094</td> <th>  Jarque-Bera (JB):  </th> <td>   4.846</td>\n",
       "</tr>\n",
       "<tr>\n",
       "  <th>Skew:</th>          <td>-0.116</td> <th>  Prob(JB):          </th> <td>  0.0886</td>\n",
       "</tr>\n",
       "<tr>\n",
       "  <th>Kurtosis:</th>      <td> 3.249</td> <th>  Cond. No.          </th> <td>    1.58</td>\n",
       "</tr>\n",
       "</table><br/><br/>Notes:<br/>[1] R² is computed without centering (uncentered) since the model does not contain a constant.<br/>[2] Standard Errors assume that the covariance matrix of the errors is correctly specified."
      ],
      "text/plain": [
       "<class 'statsmodels.iolib.summary.Summary'>\n",
       "\"\"\"\n",
       "                                 OLS Regression Results                                \n",
       "=======================================================================================\n",
       "Dep. Variable:                      y   R-squared (uncentered):                   0.952\n",
       "Model:                            OLS   Adj. R-squared (uncentered):              0.952\n",
       "Method:                 Least Squares   F-statistic:                              9828.\n",
       "Date:                Fri, 21 Jul 2023   Prob (F-statistic):                        0.00\n",
       "Time:                        19:17:56   Log-Likelihood:                         -1418.1\n",
       "No. Observations:                1000   AIC:                                      2840.\n",
       "Df Residuals:                     998   BIC:                                      2850.\n",
       "Df Model:                           2                                                  \n",
       "Covariance Type:            nonrobust                                                  \n",
       "==============================================================================\n",
       "                 coef    std err          t      P>|t|      [0.025      0.975]\n",
       "------------------------------------------------------------------------------\n",
       "x1             1.7980      0.031     58.515      0.000       1.738       1.858\n",
       "x2             5.0723      0.046    111.232      0.000       4.983       5.162\n",
       "==============================================================================\n",
       "Omnibus:                        4.729   Durbin-Watson:                   1.979\n",
       "Prob(Omnibus):                  0.094   Jarque-Bera (JB):                4.846\n",
       "Skew:                          -0.116   Prob(JB):                       0.0886\n",
       "Kurtosis:                       3.249   Cond. No.                         1.58\n",
       "==============================================================================\n",
       "\n",
       "Notes:\n",
       "[1] R² is computed without centering (uncentered) since the model does not contain a constant.\n",
       "[2] Standard Errors assume that the covariance matrix of the errors is correctly specified.\n",
       "\"\"\""
      ]
     },
     "execution_count": 10,
     "metadata": {},
     "output_type": "execute_result"
    }
   ],
   "source": [
    "model = OLS(np.asarray(df[outcome]), np.asarray(df[[common_cause, treatment]], dtype=np.float64))\n",
    "result = model.fit()\n",
    "result.summary()"
   ]
  }
 ],
 "metadata": {
  "kernelspec": {
   "display_name": "Python 3",
   "language": "python",
   "name": "python3"
  },
  "language_info": {
   "codemirror_mode": {
    "name": "ipython",
    "version": 3
   },
   "file_extension": ".py",
   "mimetype": "text/x-python",
   "name": "python",
   "nbconvert_exporter": "python",
   "pygments_lexer": "ipython3",
   "version": "3.8.10"
  },
  "toc": {
   "base_numbering": 1,
   "nav_menu": {},
   "number_sections": false,
   "sideBar": true,
   "skip_h1_title": true,
   "title_cell": "Table of Contents",
   "title_sidebar": "Contents",
   "toc_cell": false,
   "toc_position": {},
   "toc_section_display": true,
   "toc_window_display": false
  }
 },
 "nbformat": 4,
 "nbformat_minor": 4
}
