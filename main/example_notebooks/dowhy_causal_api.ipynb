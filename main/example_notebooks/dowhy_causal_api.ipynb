{
 "cells": [
  {
   "cell_type": "markdown",
   "metadata": {},
   "source": [
    "# Demo for the DoWhy causal API\n",
    "We show a simple example of adding a causal extension to any dataframe. "
   ]
  },
  {
   "cell_type": "code",
   "execution_count": 1,
   "metadata": {
    "execution": {
     "iopub.execute_input": "2023-12-21T17:53:20.110622Z",
     "iopub.status.busy": "2023-12-21T17:53:20.110427Z",
     "iopub.status.idle": "2023-12-21T17:53:21.497358Z",
     "shell.execute_reply": "2023-12-21T17:53:21.496762Z"
    }
   },
   "outputs": [],
   "source": [
    "import dowhy.datasets\n",
    "import dowhy.api\n",
    "from dowhy.graph import build_graph_from_str\n",
    "\n",
    "import numpy as np\n",
    "import pandas as pd\n",
    "\n",
    "from statsmodels.api import OLS"
   ]
  },
  {
   "cell_type": "code",
   "execution_count": 2,
   "metadata": {
    "execution": {
     "iopub.execute_input": "2023-12-21T17:53:21.500276Z",
     "iopub.status.busy": "2023-12-21T17:53:21.499754Z",
     "iopub.status.idle": "2023-12-21T17:53:21.536025Z",
     "shell.execute_reply": "2023-12-21T17:53:21.535428Z"
    }
   },
   "outputs": [
    {
     "data": {
      "text/html": [
       "<div>\n",
       "<style scoped>\n",
       "    .dataframe tbody tr th:only-of-type {\n",
       "        vertical-align: middle;\n",
       "    }\n",
       "\n",
       "    .dataframe tbody tr th {\n",
       "        vertical-align: top;\n",
       "    }\n",
       "\n",
       "    .dataframe thead th {\n",
       "        text-align: right;\n",
       "    }\n",
       "</style>\n",
       "<table border=\"1\" class=\"dataframe\">\n",
       "  <thead>\n",
       "    <tr style=\"text-align: right;\">\n",
       "      <th></th>\n",
       "      <th>W0</th>\n",
       "      <th>v0</th>\n",
       "      <th>y</th>\n",
       "    </tr>\n",
       "  </thead>\n",
       "  <tbody>\n",
       "    <tr>\n",
       "      <th>0</th>\n",
       "      <td>-1.159502</td>\n",
       "      <td>False</td>\n",
       "      <td>-0.506668</td>\n",
       "    </tr>\n",
       "    <tr>\n",
       "      <th>1</th>\n",
       "      <td>-1.659242</td>\n",
       "      <td>False</td>\n",
       "      <td>0.639819</td>\n",
       "    </tr>\n",
       "    <tr>\n",
       "      <th>2</th>\n",
       "      <td>1.626842</td>\n",
       "      <td>True</td>\n",
       "      <td>5.158028</td>\n",
       "    </tr>\n",
       "    <tr>\n",
       "      <th>3</th>\n",
       "      <td>0.965782</td>\n",
       "      <td>True</td>\n",
       "      <td>6.454791</td>\n",
       "    </tr>\n",
       "    <tr>\n",
       "      <th>4</th>\n",
       "      <td>-1.046813</td>\n",
       "      <td>False</td>\n",
       "      <td>0.739615</td>\n",
       "    </tr>\n",
       "    <tr>\n",
       "      <th>...</th>\n",
       "      <td>...</td>\n",
       "      <td>...</td>\n",
       "      <td>...</td>\n",
       "    </tr>\n",
       "    <tr>\n",
       "      <th>995</th>\n",
       "      <td>-0.912080</td>\n",
       "      <td>False</td>\n",
       "      <td>-0.408059</td>\n",
       "    </tr>\n",
       "    <tr>\n",
       "      <th>996</th>\n",
       "      <td>-3.069246</td>\n",
       "      <td>False</td>\n",
       "      <td>1.479008</td>\n",
       "    </tr>\n",
       "    <tr>\n",
       "      <th>997</th>\n",
       "      <td>-0.954047</td>\n",
       "      <td>True</td>\n",
       "      <td>6.125326</td>\n",
       "    </tr>\n",
       "    <tr>\n",
       "      <th>998</th>\n",
       "      <td>1.524355</td>\n",
       "      <td>True</td>\n",
       "      <td>2.762392</td>\n",
       "    </tr>\n",
       "    <tr>\n",
       "      <th>999</th>\n",
       "      <td>-0.529682</td>\n",
       "      <td>False</td>\n",
       "      <td>-1.634719</td>\n",
       "    </tr>\n",
       "  </tbody>\n",
       "</table>\n",
       "<p>1000 rows × 3 columns</p>\n",
       "</div>"
      ],
      "text/plain": [
       "           W0     v0         y\n",
       "0   -1.159502  False -0.506668\n",
       "1   -1.659242  False  0.639819\n",
       "2    1.626842   True  5.158028\n",
       "3    0.965782   True  6.454791\n",
       "4   -1.046813  False  0.739615\n",
       "..        ...    ...       ...\n",
       "995 -0.912080  False -0.408059\n",
       "996 -3.069246  False  1.479008\n",
       "997 -0.954047   True  6.125326\n",
       "998  1.524355   True  2.762392\n",
       "999 -0.529682  False -1.634719\n",
       "\n",
       "[1000 rows x 3 columns]"
      ]
     },
     "execution_count": 2,
     "metadata": {},
     "output_type": "execute_result"
    }
   ],
   "source": [
    "data = dowhy.datasets.linear_dataset(beta=5,\n",
    "        num_common_causes=1,\n",
    "        num_instruments = 0,\n",
    "        num_samples=1000,\n",
    "        treatment_is_binary=True)\n",
    "df = data['df']\n",
    "df['y'] = df['y'] + np.random.normal(size=len(df)) # Adding noise to data. Without noise, the variance in Y|X, Z is zero, and mcmc fails.\n",
    "nx_graph = build_graph_from_str(data[\"dot_graph\"])\n",
    "\n",
    "treatment= data[\"treatment_name\"][0]\n",
    "outcome = data[\"outcome_name\"][0]\n",
    "common_cause = data[\"common_causes_names\"][0]\n",
    "df"
   ]
  },
  {
   "cell_type": "code",
   "execution_count": 3,
   "metadata": {
    "execution": {
     "iopub.execute_input": "2023-12-21T17:53:21.538105Z",
     "iopub.status.busy": "2023-12-21T17:53:21.537925Z",
     "iopub.status.idle": "2023-12-21T17:53:21.690945Z",
     "shell.execute_reply": "2023-12-21T17:53:21.690400Z"
    },
    "scrolled": true
   },
   "outputs": [
    {
     "data": {
      "text/plain": [
       "<Axes: xlabel='v0'>"
      ]
     },
     "execution_count": 3,
     "metadata": {},
     "output_type": "execute_result"
    },
    {
     "data": {
      "image/png": "[encoded data removed]",
      "text/plain": [
       "<Figure size 640x480 with 1 Axes>"
      ]
     },
     "metadata": {},
     "output_type": "display_data"
    }
   ],
   "source": [
    "# data['df'] is just a regular pandas.DataFrame\n",
    "df.causal.do(x=treatment,\n",
    "             variable_types={treatment: 'b', outcome: 'c', common_cause: 'c'},\n",
    "             outcome=outcome,\n",
    "             common_causes=[common_cause],\n",
    "            ).groupby(treatment).mean().plot(y=outcome, kind='bar')"
   ]
  },
  {
   "cell_type": "code",
   "execution_count": 4,
   "metadata": {
    "execution": {
     "iopub.execute_input": "2023-12-21T17:53:21.693748Z",
     "iopub.status.busy": "2023-12-21T17:53:21.693252Z",
     "iopub.status.idle": "2023-12-21T17:53:21.826407Z",
     "shell.execute_reply": "2023-12-21T17:53:21.825821Z"
    }
   },
   "outputs": [
    {
     "data": {
      "text/plain": [
       "<Axes: xlabel='v0'>"
      ]
     },
     "execution_count": 4,
     "metadata": {},
     "output_type": "execute_result"
    },
    {
     "data": {
      "image/png": "[encoded data removed]",
      "text/plain": [
       "<Figure size 640x480 with 1 Axes>"
      ]
     },
     "metadata": {},
     "output_type": "display_data"
    }
   ],
   "source": [
    "df.causal.do(x={treatment: 1}, \n",
    "              variable_types={treatment:'b', outcome: 'c', common_cause: 'c'}, \n",
    "              outcome=outcome,\n",
    "              method='weighting', \n",
    "              common_causes=[common_cause]\n",
    "              ).groupby(treatment).mean().plot(y=outcome, kind='bar')"
   ]
  },
  {
   "cell_type": "code",
   "execution_count": 5,
   "metadata": {
    "execution": {
     "iopub.execute_input": "2023-12-21T17:53:21.829405Z",
     "iopub.status.busy": "2023-12-21T17:53:21.828793Z",
     "iopub.status.idle": "2023-12-21T17:53:21.849073Z",
     "shell.execute_reply": "2023-12-21T17:53:21.848599Z"
    }
   },
   "outputs": [],
   "source": [
    "cdf_1 = df.causal.do(x={treatment: 1}, \n",
    "              variable_types={treatment: 'b', outcome: 'c', common_cause: 'c'}, \n",
    "              outcome=outcome, \n",
    "              graph=nx_graph\n",
    "              )\n",
    "\n",
    "cdf_0 = df.causal.do(x={treatment: 0}, \n",
    "              variable_types={treatment: 'b', outcome: 'c', common_cause: 'c'}, \n",
    "              outcome=outcome, \n",
    "              graph=nx_graph\n",
    "              )\n"
   ]
  },
  {
   "cell_type": "code",
   "execution_count": 6,
   "metadata": {
    "execution": {
     "iopub.execute_input": "2023-12-21T17:53:21.851270Z",
     "iopub.status.busy": "2023-12-21T17:53:21.850915Z",
     "iopub.status.idle": "2023-12-21T17:53:21.859526Z",
     "shell.execute_reply": "2023-12-21T17:53:21.858966Z"
    },
    "scrolled": true
   },
   "outputs": [
    {
     "data": {
      "text/html": [
       "<div>\n",
       "<style scoped>\n",
       "    .dataframe tbody tr th:only-of-type {\n",
       "        vertical-align: middle;\n",
       "    }\n",
       "\n",
       "    .dataframe tbody tr th {\n",
       "        vertical-align: top;\n",
       "    }\n",
       "\n",
       "    .dataframe thead th {\n",
       "        text-align: right;\n",
       "    }\n",
       "</style>\n",
       "<table border=\"1\" class=\"dataframe\">\n",
       "  <thead>\n",
       "    <tr style=\"text-align: right;\">\n",
       "      <th></th>\n",
       "      <th>W0</th>\n",
       "      <th>v0</th>\n",
       "      <th>y</th>\n",
       "      <th>propensity_score</th>\n",
       "      <th>weight</th>\n",
       "    </tr>\n",
       "  </thead>\n",
       "  <tbody>\n",
       "    <tr>\n",
       "      <th>0</th>\n",
       "      <td>-1.251857</td>\n",
       "      <td>False</td>\n",
       "      <td>0.494924</td>\n",
       "      <td>0.902814</td>\n",
       "      <td>1.107648</td>\n",
       "    </tr>\n",
       "    <tr>\n",
       "      <th>1</th>\n",
       "      <td>0.598929</td>\n",
       "      <td>False</td>\n",
       "      <td>1.123327</td>\n",
       "      <td>0.233421</td>\n",
       "      <td>4.284106</td>\n",
       "    </tr>\n",
       "    <tr>\n",
       "      <th>2</th>\n",
       "      <td>0.446736</td>\n",
       "      <td>False</td>\n",
       "      <td>-2.079906</td>\n",
       "      <td>0.287404</td>\n",
       "      <td>3.479429</td>\n",
       "    </tr>\n",
       "    <tr>\n",
       "      <th>3</th>\n",
       "      <td>0.850433</td>\n",
       "      <td>False</td>\n",
       "      <td>-1.801431</td>\n",
       "      <td>0.160628</td>\n",
       "      <td>6.225578</td>\n",
       "    </tr>\n",
       "    <tr>\n",
       "      <th>4</th>\n",
       "      <td>-0.852714</td>\n",
       "      <td>False</td>\n",
       "      <td>-0.820435</td>\n",
       "      <td>0.816342</td>\n",
       "      <td>1.224976</td>\n",
       "    </tr>\n",
       "    <tr>\n",
       "      <th>...</th>\n",
       "      <td>...</td>\n",
       "      <td>...</td>\n",
       "      <td>...</td>\n",
       "      <td>...</td>\n",
       "      <td>...</td>\n",
       "    </tr>\n",
       "    <tr>\n",
       "      <th>995</th>\n",
       "      <td>-0.635193</td>\n",
       "      <td>False</td>\n",
       "      <td>1.762890</td>\n",
       "      <td>0.748391</td>\n",
       "      <td>1.336200</td>\n",
       "    </tr>\n",
       "    <tr>\n",
       "      <th>996</th>\n",
       "      <td>-1.454445</td>\n",
       "      <td>False</td>\n",
       "      <td>-1.446179</td>\n",
       "      <td>0.931056</td>\n",
       "      <td>1.074050</td>\n",
       "    </tr>\n",
       "    <tr>\n",
       "      <th>997</th>\n",
       "      <td>-0.271202</td>\n",
       "      <td>False</td>\n",
       "      <td>-0.509598</td>\n",
       "      <td>0.602966</td>\n",
       "      <td>1.658467</td>\n",
       "    </tr>\n",
       "    <tr>\n",
       "      <th>998</th>\n",
       "      <td>-0.513255</td>\n",
       "      <td>False</td>\n",
       "      <td>-1.504988</td>\n",
       "      <td>0.703674</td>\n",
       "      <td>1.421112</td>\n",
       "    </tr>\n",
       "    <tr>\n",
       "      <th>999</th>\n",
       "      <td>-0.874545</td>\n",
       "      <td>False</td>\n",
       "      <td>-0.901214</td>\n",
       "      <td>0.822310</td>\n",
       "      <td>1.216086</td>\n",
       "    </tr>\n",
       "  </tbody>\n",
       "</table>\n",
       "<p>1000 rows × 5 columns</p>\n",
       "</div>"
      ],
      "text/plain": [
       "           W0     v0         y  propensity_score    weight\n",
       "0   -1.251857  False  0.494924          0.902814  1.107648\n",
       "1    0.598929  False  1.123327          0.233421  4.284106\n",
       "2    0.446736  False -2.079906          0.287404  3.479429\n",
       "3    0.850433  False -1.801431          0.160628  6.225578\n",
       "4   -0.852714  False -0.820435          0.816342  1.224976\n",
       "..        ...    ...       ...               ...       ...\n",
       "995 -0.635193  False  1.762890          0.748391  1.336200\n",
       "996 -1.454445  False -1.446179          0.931056  1.074050\n",
       "997 -0.271202  False -0.509598          0.602966  1.658467\n",
       "998 -0.513255  False -1.504988          0.703674  1.421112\n",
       "999 -0.874545  False -0.901214          0.822310  1.216086\n",
       "\n",
       "[1000 rows x 5 columns]"
      ]
     },
     "execution_count": 6,
     "metadata": {},
     "output_type": "execute_result"
    }
   ],
   "source": [
    "cdf_0"
   ]
  },
  {
   "cell_type": "code",
   "execution_count": 7,
   "metadata": {
    "execution": {
     "iopub.execute_input": "2023-12-21T17:53:21.861794Z",
     "iopub.status.busy": "2023-12-21T17:53:21.861440Z",
     "iopub.status.idle": "2023-12-21T17:53:21.869714Z",
     "shell.execute_reply": "2023-12-21T17:53:21.869172Z"
    }
   },
   "outputs": [
    {
     "data": {
      "text/html": [
       "<div>\n",
       "<style scoped>\n",
       "    .dataframe tbody tr th:only-of-type {\n",
       "        vertical-align: middle;\n",
       "    }\n",
       "\n",
       "    .dataframe tbody tr th {\n",
       "        vertical-align: top;\n",
       "    }\n",
       "\n",
       "    .dataframe thead th {\n",
       "        text-align: right;\n",
       "    }\n",
       "</style>\n",
       "<table border=\"1\" class=\"dataframe\">\n",
       "  <thead>\n",
       "    <tr style=\"text-align: right;\">\n",
       "      <th></th>\n",
       "      <th>W0</th>\n",
       "      <th>v0</th>\n",
       "      <th>y</th>\n",
       "      <th>propensity_score</th>\n",
       "      <th>weight</th>\n",
       "    </tr>\n",
       "  </thead>\n",
       "  <tbody>\n",
       "    <tr>\n",
       "      <th>0</th>\n",
       "      <td>-0.960422</td>\n",
       "      <td>True</td>\n",
       "      <td>3.041663</td>\n",
       "      <td>0.155687</td>\n",
       "      <td>6.423128</td>\n",
       "    </tr>\n",
       "    <tr>\n",
       "      <th>1</th>\n",
       "      <td>0.016950</td>\n",
       "      <td>True</td>\n",
       "      <td>3.499713</td>\n",
       "      <td>0.528547</td>\n",
       "      <td>1.891980</td>\n",
       "    </tr>\n",
       "    <tr>\n",
       "      <th>2</th>\n",
       "      <td>-0.228933</td>\n",
       "      <td>True</td>\n",
       "      <td>5.233415</td>\n",
       "      <td>0.415863</td>\n",
       "      <td>2.404636</td>\n",
       "    </tr>\n",
       "    <tr>\n",
       "      <th>3</th>\n",
       "      <td>-1.603075</td>\n",
       "      <td>True</td>\n",
       "      <td>4.877011</td>\n",
       "      <td>0.053277</td>\n",
       "      <td>18.769901</td>\n",
       "    </tr>\n",
       "    <tr>\n",
       "      <th>4</th>\n",
       "      <td>-1.977777</td>\n",
       "      <td>True</td>\n",
       "      <td>5.623554</td>\n",
       "      <td>0.027398</td>\n",
       "      <td>36.498661</td>\n",
       "    </tr>\n",
       "    <tr>\n",
       "      <th>...</th>\n",
       "      <td>...</td>\n",
       "      <td>...</td>\n",
       "      <td>...</td>\n",
       "      <td>...</td>\n",
       "      <td>...</td>\n",
       "    </tr>\n",
       "    <tr>\n",
       "      <th>995</th>\n",
       "      <td>-0.171105</td>\n",
       "      <td>True</td>\n",
       "      <td>6.525288</td>\n",
       "      <td>0.442016</td>\n",
       "      <td>2.262362</td>\n",
       "    </tr>\n",
       "    <tr>\n",
       "      <th>996</th>\n",
       "      <td>0.091010</td>\n",
       "      <td>True</td>\n",
       "      <td>6.212970</td>\n",
       "      <td>0.562443</td>\n",
       "      <td>1.777957</td>\n",
       "    </tr>\n",
       "    <tr>\n",
       "      <th>997</th>\n",
       "      <td>-0.151497</td>\n",
       "      <td>True</td>\n",
       "      <td>4.515186</td>\n",
       "      <td>0.450965</td>\n",
       "      <td>2.217467</td>\n",
       "    </tr>\n",
       "    <tr>\n",
       "      <th>998</th>\n",
       "      <td>-0.919734</td>\n",
       "      <td>True</td>\n",
       "      <td>1.977335</td>\n",
       "      <td>0.165822</td>\n",
       "      <td>6.030559</td>\n",
       "    </tr>\n",
       "    <tr>\n",
       "      <th>999</th>\n",
       "      <td>-1.019731</td>\n",
       "      <td>True</td>\n",
       "      <td>5.956219</td>\n",
       "      <td>0.141826</td>\n",
       "      <td>7.050875</td>\n",
       "    </tr>\n",
       "  </tbody>\n",
       "</table>\n",
       "<p>1000 rows × 5 columns</p>\n",
       "</div>"
      ],
      "text/plain": [
       "           W0    v0         y  propensity_score     weight\n",
       "0   -0.960422  True  3.041663          0.155687   6.423128\n",
       "1    0.016950  True  3.499713          0.528547   1.891980\n",
       "2   -0.228933  True  5.233415          0.415863   2.404636\n",
       "3   -1.603075  True  4.877011          0.053277  18.769901\n",
       "4   -1.977777  True  5.623554          0.027398  36.498661\n",
       "..        ...   ...       ...               ...        ...\n",
       "995 -0.171105  True  6.525288          0.442016   2.262362\n",
       "996  0.091010  True  6.212970          0.562443   1.777957\n",
       "997 -0.151497  True  4.515186          0.450965   2.217467\n",
       "998 -0.919734  True  1.977335          0.165822   6.030559\n",
       "999 -1.019731  True  5.956219          0.141826   7.050875\n",
       "\n",
       "[1000 rows x 5 columns]"
      ]
     },
     "execution_count": 7,
     "metadata": {},
     "output_type": "execute_result"
    }
   ],
   "source": [
    "cdf_1"
   ]
  },
  {
   "cell_type": "markdown",
   "metadata": {},
   "source": [
    "## Comparing the estimate to Linear Regression\n",
    "First, estimating the effect using the causal data frame, and the 95% confidence interval."
   ]
  },
  {
   "cell_type": "code",
   "execution_count": 8,
   "metadata": {
    "execution": {
     "iopub.execute_input": "2023-12-21T17:53:21.871896Z",
     "iopub.status.busy": "2023-12-21T17:53:21.871579Z",
     "iopub.status.idle": "2023-12-21T17:53:21.917099Z",
     "shell.execute_reply": "2023-12-21T17:53:21.916472Z"
    }
   },
   "outputs": [
    {
     "data": {
      "image/png": "[encoded data removed]",
      "text/latex": [
       "$\\displaystyle 5.08853305512429$"
      ],
      "text/plain": [
       "5.0885330551242856"
      ]
     },
     "execution_count": 8,
     "metadata": {},
     "output_type": "execute_result"
    }
   ],
   "source": [
    "(cdf_1['y'] - cdf_0['y']).mean()"
   ]
  },
  {
   "cell_type": "code",
   "execution_count": 9,
   "metadata": {
    "execution": {
     "iopub.execute_input": "2023-12-21T17:53:21.919709Z",
     "iopub.status.busy": "2023-12-21T17:53:21.919330Z",
     "iopub.status.idle": "2023-12-21T17:53:21.935858Z",
     "shell.execute_reply": "2023-12-21T17:53:21.935366Z"
    }
   },
   "outputs": [
    {
     "data": {
      "image/png": "[encoded data removed]",
      "text/latex": [
       "$\\displaystyle 0.0864642225240772$"
      ],
      "text/plain": [
       "0.0864642225240772"
      ]
     },
     "execution_count": 9,
     "metadata": {},
     "output_type": "execute_result"
    }
   ],
   "source": [
    "1.96*(cdf_1['y'] - cdf_0['y']).std() / np.sqrt(len(df))"
   ]
  },
  {
   "cell_type": "markdown",
   "metadata": {},
   "source": [
    "Comparing to the estimate from OLS."
   ]
  },
  {
   "cell_type": "code",
   "execution_count": 10,
   "metadata": {
    "execution": {
     "iopub.execute_input": "2023-12-21T17:53:21.938173Z",
     "iopub.status.busy": "2023-12-21T17:53:21.937819Z",
     "iopub.status.idle": "2023-12-21T17:53:21.954225Z",
     "shell.execute_reply": "2023-12-21T17:53:21.953620Z"
    }
   },
   "outputs": [
    {
     "data": {
      "text/html": [
       "<table class=\"simpletable\">\n",
       "<caption>OLS Regression Results</caption>\n",
       "<tr>\n",
       "  <th>Dep. Variable:</th>            <td>y</td>        <th>  R-squared (uncentered):</th>      <td>   0.905</td>\n",
       "</tr>\n",
       "<tr>\n",
       "  <th>Model:</th>                   <td>OLS</td>       <th>  Adj. R-squared (uncentered):</th> <td>   0.905</td>\n",
       "</tr>\n",
       "<tr>\n",
       "  <th>Method:</th>             <td>Least Squares</td>  <th>  F-statistic:       </th>          <td>   4740.</td>\n",
       "</tr>\n",
       "<tr>\n",
       "  <th>Date:</th>             <td>Thu, 21 Dec 2023</td> <th>  Prob (F-statistic):</th>           <td>  0.00</td> \n",
       "</tr>\n",
       "<tr>\n",
       "  <th>Time:</th>                 <td>17:53:21</td>     <th>  Log-Likelihood:    </th>          <td> -1442.9</td>\n",
       "</tr>\n",
       "<tr>\n",
       "  <th>No. Observations:</th>      <td>  1000</td>      <th>  AIC:               </th>          <td>   2890.</td>\n",
       "</tr>\n",
       "<tr>\n",
       "  <th>Df Residuals:</th>          <td>   998</td>      <th>  BIC:               </th>          <td>   2900.</td>\n",
       "</tr>\n",
       "<tr>\n",
       "  <th>Df Model:</th>              <td>     2</td>      <th>                     </th>              <td> </td>   \n",
       "</tr>\n",
       "<tr>\n",
       "  <th>Covariance Type:</th>      <td>nonrobust</td>    <th>                     </th>              <td> </td>   \n",
       "</tr>\n",
       "</table>\n",
       "<table class=\"simpletable\">\n",
       "<tr>\n",
       "   <td></td>     <th>coef</th>     <th>std err</th>      <th>t</th>      <th>P>|t|</th>  <th>[0.025</th>    <th>0.975]</th>  \n",
       "</tr>\n",
       "<tr>\n",
       "  <th>x1</th> <td>    0.0221</td> <td>    0.030</td> <td>    0.738</td> <td> 0.461</td> <td>   -0.037</td> <td>    0.081</td>\n",
       "</tr>\n",
       "<tr>\n",
       "  <th>x2</th> <td>    4.9962</td> <td>    0.052</td> <td>   95.237</td> <td> 0.000</td> <td>    4.893</td> <td>    5.099</td>\n",
       "</tr>\n",
       "</table>\n",
       "<table class=\"simpletable\">\n",
       "<tr>\n",
       "  <th>Omnibus:</th>       <td> 0.769</td> <th>  Durbin-Watson:     </th> <td>   2.002</td>\n",
       "</tr>\n",
       "<tr>\n",
       "  <th>Prob(Omnibus):</th> <td> 0.681</td> <th>  Jarque-Bera (JB):  </th> <td>   0.844</td>\n",
       "</tr>\n",
       "<tr>\n",
       "  <th>Skew:</th>          <td> 0.028</td> <th>  Prob(JB):          </th> <td>   0.656</td>\n",
       "</tr>\n",
       "<tr>\n",
       "  <th>Kurtosis:</th>      <td> 2.869</td> <th>  Cond. No.          </th> <td>    1.82</td>\n",
       "</tr>\n",
       "</table><br/><br/>Notes:<br/>[1] R² is computed without centering (uncentered) since the model does not contain a constant.<br/>[2] Standard Errors assume that the covariance matrix of the errors is correctly specified."
      ],
      "text/latex": [
       "\\begin{center}\n",
       "\\begin{tabular}{lclc}\n",
       "\\toprule\n",
       "\\textbf{Dep. Variable:}    &        y         & \\textbf{  R-squared (uncentered):}      &     0.905   \\\\\n",
       "\\textbf{Model:}            &       OLS        & \\textbf{  Adj. R-squared (uncentered):} &     0.905   \\\\\n",
       "\\textbf{Method:}           &  Least Squares   & \\textbf{  F-statistic:       }          &     4740.   \\\\\n",
       "\\textbf{Date:}             & Thu, 21 Dec 2023 & \\textbf{  Prob (F-statistic):}          &     0.00    \\\\\n",
       "\\textbf{Time:}             &     17:53:21     & \\textbf{  Log-Likelihood:    }          &   -1442.9   \\\\\n",
       "\\textbf{No. Observations:} &        1000      & \\textbf{  AIC:               }          &     2890.   \\\\\n",
       "\\textbf{Df Residuals:}     &         998      & \\textbf{  BIC:               }          &     2900.   \\\\\n",
       "\\textbf{Df Model:}         &           2      & \\textbf{                     }          &             \\\\\n",
       "\\textbf{Covariance Type:}  &    nonrobust     & \\textbf{                     }          &             \\\\\n",
       "\\bottomrule\n",
       "\\end{tabular}\n",
       "\\begin{tabular}{lcccccc}\n",
       "            & \\textbf{coef} & \\textbf{std err} & \\textbf{t} & \\textbf{P$> |$t$|$} & \\textbf{[0.025} & \\textbf{0.975]}  \\\\\n",
       "\\midrule\n",
       "\\textbf{x1} &       0.0221  &        0.030     &     0.738  &         0.461        &       -0.037    &        0.081     \\\\\n",
       "\\textbf{x2} &       4.9962  &        0.052     &    95.237  &         0.000        &        4.893    &        5.099     \\\\\n",
       "\\bottomrule\n",
       "\\end{tabular}\n",
       "\\begin{tabular}{lclc}\n",
       "\\textbf{Omnibus:}       &  0.769 & \\textbf{  Durbin-Watson:     } &    2.002  \\\\\n",
       "\\textbf{Prob(Omnibus):} &  0.681 & \\textbf{  Jarque-Bera (JB):  } &    0.844  \\\\\n",
       "\\textbf{Skew:}          &  0.028 & \\textbf{  Prob(JB):          } &    0.656  \\\\\n",
       "\\textbf{Kurtosis:}      &  2.869 & \\textbf{  Cond. No.          } &     1.82  \\\\\n",
       "\\bottomrule\n",
       "\\end{tabular}\n",
       "%\\caption{OLS Regression Results}\n",
       "\\end{center}\n",
       "\n",
       "Notes: \\newline\n",
       " [1] R² is computed without centering (uncentered) since the model does not contain a constant. \\newline\n",
       " [2] Standard Errors assume that the covariance matrix of the errors is correctly specified."
      ],
      "text/plain": [
       "<class 'statsmodels.iolib.summary.Summary'>\n",
       "\"\"\"\n",
       "                                 OLS Regression Results                                \n",
       "=======================================================================================\n",
       "Dep. Variable:                      y   R-squared (uncentered):                   0.905\n",
       "Model:                            OLS   Adj. R-squared (uncentered):              0.905\n",
       "Method:                 Least Squares   F-statistic:                              4740.\n",
       "Date:                Thu, 21 Dec 2023   Prob (F-statistic):                        0.00\n",
       "Time:                        17:53:21   Log-Likelihood:                         -1442.9\n",
       "No. Observations:                1000   AIC:                                      2890.\n",
       "Df Residuals:                     998   BIC:                                      2900.\n",
       "Df Model:                           2                                                  \n",
       "Covariance Type:            nonrobust                                                  \n",
       "==============================================================================\n",
       "                 coef    std err          t      P>|t|      [0.025      0.975]\n",
       "------------------------------------------------------------------------------\n",
       "x1             0.0221      0.030      0.738      0.461      -0.037       0.081\n",
       "x2             4.9962      0.052     95.237      0.000       4.893       5.099\n",
       "==============================================================================\n",
       "Omnibus:                        0.769   Durbin-Watson:                   2.002\n",
       "Prob(Omnibus):                  0.681   Jarque-Bera (JB):                0.844\n",
       "Skew:                           0.028   Prob(JB):                        0.656\n",
       "Kurtosis:                       2.869   Cond. No.                         1.82\n",
       "==============================================================================\n",
       "\n",
       "Notes:\n",
       "[1] R² is computed without centering (uncentered) since the model does not contain a constant.\n",
       "[2] Standard Errors assume that the covariance matrix of the errors is correctly specified.\n",
       "\"\"\""
      ]
     },
     "execution_count": 10,
     "metadata": {},
     "output_type": "execute_result"
    }
   ],
   "source": [
    "model = OLS(np.asarray(df[outcome]), np.asarray(df[[common_cause, treatment]], dtype=np.float64))\n",
    "result = model.fit()\n",
    "result.summary()"
   ]
  }
 ],
 "metadata": {
  "kernelspec": {
   "display_name": "Python 3 (ipykernel)",
   "language": "python",
   "name": "python3"
  },
  "language_info": {
   "codemirror_mode": {
    "name": "ipython",
    "version": 3
   },
   "file_extension": ".py",
   "mimetype": "text/x-python",
   "name": "python",
   "nbconvert_exporter": "python",
   "pygments_lexer": "ipython3",
   "version": "3.8.10"
  },
  "toc": {
   "base_numbering": 1,
   "nav_menu": {},
   "number_sections": false,
   "sideBar": true,
   "skip_h1_title": true,
   "title_cell": "Table of Contents",
   "title_sidebar": "Contents",
   "toc_cell": false,
   "toc_position": {},
   "toc_section_display": true,
   "toc_window_display": false
  }
 },
 "nbformat": 4,
 "nbformat_minor": 4
}
