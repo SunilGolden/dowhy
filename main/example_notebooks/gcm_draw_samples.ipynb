{
 "cells": [
  {
   "cell_type": "markdown",
   "id": "b72f7198",
   "metadata": {},
   "source": [
    "# Basic Example for generating samples from a GCM"
   ]
  },
  {
   "cell_type": "markdown",
   "id": "8fe6b612",
   "metadata": {},
   "source": [
    "A graphical causal model (GCM) describes the data generation process of the modeled variables. Therefore, after we fit\n",
    "a GCM, we can also generate completely new samples from it and, thus, can see it as data generator for synthetic data based on the underlying\n",
    "models. Generating new samples can generally be done by sorting the nodes in topological\n",
    "order, randomly sample from root-nodes and then propagate the data through the graph by evaluating the downstream\n",
    "causal mechanisms with randomly sampled noise. The ``dowhy.gcm`` package provides a simple helper function that does\n",
    "this automatically and, by this, offers a simple API to draw samples from a GCM.\n",
    "\n",
    "Lets take a look at the following example:"
   ]
  },
  {
   "cell_type": "code",
   "execution_count": 1,
   "id": "f22337ab",
   "metadata": {
    "execution": {
     "iopub.execute_input": "2023-12-04T07:35:04.645307Z",
     "iopub.status.busy": "2023-12-04T07:35:04.644826Z",
     "iopub.status.idle": "2023-12-04T07:35:04.869625Z",
     "shell.execute_reply": "2023-12-04T07:35:04.868994Z"
    }
   },
   "outputs": [
    {
     "data": {
      "text/html": [
       "<div>\n",
       "<style scoped>\n",
       "    .dataframe tbody tr th:only-of-type {\n",
       "        vertical-align: middle;\n",
       "    }\n",
       "\n",
       "    .dataframe tbody tr th {\n",
       "        vertical-align: top;\n",
       "    }\n",
       "\n",
       "    .dataframe thead th {\n",
       "        text-align: right;\n",
       "    }\n",
       "</style>\n",
       "<table border=\"1\" class=\"dataframe\">\n",
       "  <thead>\n",
       "    <tr style=\"text-align: right;\">\n",
       "      <th></th>\n",
       "      <th>X</th>\n",
       "      <th>Y</th>\n",
       "      <th>Z</th>\n",
       "    </tr>\n",
       "  </thead>\n",
       "  <tbody>\n",
       "    <tr>\n",
       "      <th>0</th>\n",
       "      <td>0.458291</td>\n",
       "      <td>1.824751</td>\n",
       "      <td>5.958006</td>\n",
       "    </tr>\n",
       "    <tr>\n",
       "      <th>1</th>\n",
       "      <td>1.029321</td>\n",
       "      <td>3.801287</td>\n",
       "      <td>11.782274</td>\n",
       "    </tr>\n",
       "    <tr>\n",
       "      <th>2</th>\n",
       "      <td>-0.672589</td>\n",
       "      <td>0.877883</td>\n",
       "      <td>3.146077</td>\n",
       "    </tr>\n",
       "    <tr>\n",
       "      <th>3</th>\n",
       "      <td>-0.208438</td>\n",
       "      <td>-2.502232</td>\n",
       "      <td>-7.022653</td>\n",
       "    </tr>\n",
       "    <tr>\n",
       "      <th>4</th>\n",
       "      <td>0.121418</td>\n",
       "      <td>1.077939</td>\n",
       "      <td>1.652026</td>\n",
       "    </tr>\n",
       "  </tbody>\n",
       "</table>\n",
       "</div>"
      ],
      "text/plain": [
       "          X         Y          Z\n",
       "0  0.458291  1.824751   5.958006\n",
       "1  1.029321  3.801287  11.782274\n",
       "2 -0.672589  0.877883   3.146077\n",
       "3 -0.208438 -2.502232  -7.022653\n",
       "4  0.121418  1.077939   1.652026"
      ]
     },
     "execution_count": 1,
     "metadata": {},
     "output_type": "execute_result"
    }
   ],
   "source": [
    "import numpy as np, pandas as pd\n",
    "\n",
    "X = np.random.normal(loc=0, scale=1, size=1000)\n",
    "Y = 2 * X + np.random.normal(loc=0, scale=1, size=1000)\n",
    "Z = 3 * Y + np.random.normal(loc=0, scale=1, size=1000)\n",
    "data = pd.DataFrame(data=dict(X=X, Y=Y, Z=Z))\n",
    "data.head()"
   ]
  },
  {
   "cell_type": "markdown",
   "id": "1a0bb234",
   "metadata": {},
   "source": [
    "Similar as in the introduction, we generate data for the simple linear DAG X→Y→Z. Lets define the GCM and fit it to the\n",
    "data:"
   ]
  },
  {
   "cell_type": "code",
   "execution_count": 2,
   "id": "0367caeb",
   "metadata": {
    "execution": {
     "iopub.execute_input": "2023-12-04T07:35:04.872155Z",
     "iopub.status.busy": "2023-12-04T07:35:04.871820Z",
     "iopub.status.idle": "2023-12-04T07:35:09.438153Z",
     "shell.execute_reply": "2023-12-04T07:35:09.437455Z"
    }
   },
   "outputs": [
    {
     "name": "stderr",
     "output_type": "stream",
     "text": [
      "\r",
      "Fitting causal models:   0%|          | 0/3 [00:00<?, ?it/s]"
     ]
    },
    {
     "name": "stderr",
     "output_type": "stream",
     "text": [
      "\r",
      "Fitting causal mechanism of node X:   0%|          | 0/3 [00:00<?, ?it/s]"
     ]
    },
    {
     "name": "stderr",
     "output_type": "stream",
     "text": [
      "\r",
      "Fitting causal mechanism of node Y:   0%|          | 0/3 [00:00<?, ?it/s]"
     ]
    },
    {
     "name": "stderr",
     "output_type": "stream",
     "text": [
      "\r",
      "Fitting causal mechanism of node Z:   0%|          | 0/3 [00:00<?, ?it/s]"
     ]
    },
    {
     "name": "stderr",
     "output_type": "stream",
     "text": [
      "\r",
      "Fitting causal mechanism of node Z: 100%|██████████| 3/3 [00:00<00:00, 494.90it/s]"
     ]
    },
    {
     "name": "stderr",
     "output_type": "stream",
     "text": [
      "\n"
     ]
    }
   ],
   "source": [
    "import networkx as nx\n",
    "import dowhy.gcm as gcm\n",
    "\n",
    "causal_model = gcm.StructuralCausalModel(nx.DiGraph([('X', 'Y'), ('Y', 'Z')]))\n",
    "gcm.auto.assign_causal_mechanisms(causal_model, data) # Automatically assigns additive noise models to non-root nodes\n",
    "gcm.fit(causal_model, data)"
   ]
  },
  {
   "cell_type": "markdown",
   "id": "c779d943",
   "metadata": {
    "pycharm": {
     "name": "#%% md\n"
    }
   },
   "source": [
    "We now learned the generative models of the variables, based on the defined causal graph and the additive noise model assumption.\n",
    "To generate new samples from this model, we can now simply call:"
   ]
  },
  {
   "cell_type": "code",
   "execution_count": 3,
   "id": "eb63a8e1",
   "metadata": {
    "collapsed": false,
    "execution": {
     "iopub.execute_input": "2023-12-04T07:35:09.441092Z",
     "iopub.status.busy": "2023-12-04T07:35:09.440629Z",
     "iopub.status.idle": "2023-12-04T07:35:09.450627Z",
     "shell.execute_reply": "2023-12-04T07:35:09.449972Z"
    },
    "jupyter": {
     "outputs_hidden": false
    },
    "pycharm": {
     "name": "#%%\n"
    }
   },
   "outputs": [
    {
     "data": {
      "text/html": [
       "<div>\n",
       "<style scoped>\n",
       "    .dataframe tbody tr th:only-of-type {\n",
       "        vertical-align: middle;\n",
       "    }\n",
       "\n",
       "    .dataframe tbody tr th {\n",
       "        vertical-align: top;\n",
       "    }\n",
       "\n",
       "    .dataframe thead th {\n",
       "        text-align: right;\n",
       "    }\n",
       "</style>\n",
       "<table border=\"1\" class=\"dataframe\">\n",
       "  <thead>\n",
       "    <tr style=\"text-align: right;\">\n",
       "      <th></th>\n",
       "      <th>X</th>\n",
       "      <th>Y</th>\n",
       "      <th>Z</th>\n",
       "    </tr>\n",
       "  </thead>\n",
       "  <tbody>\n",
       "    <tr>\n",
       "      <th>0</th>\n",
       "      <td>-1.334982</td>\n",
       "      <td>-2.671521</td>\n",
       "      <td>-8.256096</td>\n",
       "    </tr>\n",
       "    <tr>\n",
       "      <th>1</th>\n",
       "      <td>1.000761</td>\n",
       "      <td>2.439634</td>\n",
       "      <td>6.906319</td>\n",
       "    </tr>\n",
       "    <tr>\n",
       "      <th>2</th>\n",
       "      <td>-1.292595</td>\n",
       "      <td>-2.701322</td>\n",
       "      <td>-7.536053</td>\n",
       "    </tr>\n",
       "    <tr>\n",
       "      <th>3</th>\n",
       "      <td>-0.601800</td>\n",
       "      <td>-1.706713</td>\n",
       "      <td>-7.560390</td>\n",
       "    </tr>\n",
       "    <tr>\n",
       "      <th>4</th>\n",
       "      <td>0.078535</td>\n",
       "      <td>0.174521</td>\n",
       "      <td>1.147303</td>\n",
       "    </tr>\n",
       "  </tbody>\n",
       "</table>\n",
       "</div>"
      ],
      "text/plain": [
       "          X         Y         Z\n",
       "0 -1.334982 -2.671521 -8.256096\n",
       "1  1.000761  2.439634  6.906319\n",
       "2 -1.292595 -2.701322 -7.536053\n",
       "3 -0.601800 -1.706713 -7.560390\n",
       "4  0.078535  0.174521  1.147303"
      ]
     },
     "execution_count": 3,
     "metadata": {},
     "output_type": "execute_result"
    }
   ],
   "source": [
    "generated_data = gcm.draw_samples(causal_model, num_samples=1000)\n",
    "generated_data.head()"
   ]
  },
  {
   "cell_type": "markdown",
   "id": "96b5e58a",
   "metadata": {
    "pycharm": {
     "name": "#%% md\n"
    }
   },
   "source": [
    "If our modeling assumptions are correct, the generated data should now resemble the observed data distribution, i.e. the generated samples correspond to the joint distribution we defined for our example data at the beginning. One way to make sure of this is to estimate the KL-divergence between observed and generated distribution. For this, we can make use of the evaluation module:"
   ]
  },
  {
   "cell_type": "code",
   "execution_count": 4,
   "id": "557db59e",
   "metadata": {
    "collapsed": false,
    "execution": {
     "iopub.execute_input": "2023-12-04T07:35:09.453226Z",
     "iopub.status.busy": "2023-12-04T07:35:09.452737Z",
     "iopub.status.idle": "2023-12-04T07:35:10.180874Z",
     "shell.execute_reply": "2023-12-04T07:35:10.180242Z"
    },
    "jupyter": {
     "outputs_hidden": false
    },
    "pycharm": {
     "name": "#%%\n"
    }
   },
   "outputs": [
    {
     "name": "stderr",
     "output_type": "stream",
     "text": [
      "\r",
      "Test permutations of given graph:   0%|          | 0/6 [00:00<?, ?it/s]"
     ]
    },
    {
     "name": "stderr",
     "output_type": "stream",
     "text": [
      "\r",
      "Test permutations of given graph:  33%|███▎      | 2/6 [00:00<00:00, 12.25it/s]"
     ]
    },
    {
     "name": "stderr",
     "output_type": "stream",
     "text": [
      "\r",
      "Test permutations of given graph:  67%|██████▋   | 4/6 [00:00<00:00, 11.78it/s]"
     ]
    },
    {
     "name": "stderr",
     "output_type": "stream",
     "text": [
      "\r",
      "Test permutations of given graph: 100%|██████████| 6/6 [00:00<00:00, 17.63it/s]"
     ]
    },
    {
     "name": "stderr",
     "output_type": "stream",
     "text": [
      "\n"
     ]
    },
    {
     "data": {
      "image/png": "[encoded data removed]",
      "text/plain": [
       "<Figure size 800x300 with 1 Axes>"
      ]
     },
     "metadata": {},
     "output_type": "display_data"
    },
    {
     "name": "stdout",
     "output_type": "stream",
     "text": [
      "Evaluated and the overall average KL divergence between generated and observed distribution and the graph structure. The results are as follows:\n",
      "\n",
      "==== Evaluation of Generated Distribution ====\n",
      "The overall average KL divergence between the generated and observed distribution is 0.03176301791087766\n",
      "The estimated KL divergence indicates an overall very good representation of the data distribution.\n",
      "\n",
      "==== Evaluation of the Causal Graph Structure ====\n",
      "+-------------------------------------------------------------------------------------------------------+\n",
      "|                                         Falsificaton Summary                                          |\n",
      "+-------------------------------------------------------------------------------------------------------+\n",
      "| The given DAG is not informative because 2 / 6 of the permutations lie in the Markov                  |\n",
      "| equivalence class of the given DAG (p-value: 0.33).                                                   |\n",
      "| The given DAG violates 1/1 LMCs and is better than 0.0% of the permuted DAGs (p-value: 1.00).         |\n",
      "| Based on the provided significance level (0.2) and because the DAG is not informative,                |\n",
      "| we do not reject the DAG.                                                                             |\n",
      "+-------------------------------------------------------------------------------------------------------+\n",
      "\n",
      "==== NOTE ====\n",
      "Always double check the made model assumptions with respect to the graph structure and choice of causal mechanisms.\n",
      "All these evaluations give some insight into the goodness of the causal model, but should not be overinterpreted, since some causal relationships can be intrinsically hard to model. Furthermore, many algorithms are fairly robust against misspecifications or poor performances of causal mechanisms.\n"
     ]
    }
   ],
   "source": [
    "print(gcm.evaluate_causal_model(causal_model, data, evaluate_causal_mechanisms=False, evaluate_invertibility_assumptions=False))"
   ]
  },
  {
   "cell_type": "markdown",
   "id": "9d12f880-685b-4110-b83d-3d9837b3223e",
   "metadata": {},
   "source": [
    "This confirms that the generated distribution is close to the observed one. "
   ]
  },
  {
   "cell_type": "markdown",
   "id": "f430827d-fc75-4c23-8d2d-3d98605dd927",
   "metadata": {},
   "source": [
    "> While the evaluation provides us insights toward the causal graph structure as well, we cannot confirm the graph structure, only reject it if we find inconsistencies between the dependencies of the observed structure and what the graph represents. In our case, we do not reject the DAG, but there are other equivalent DAGs that would not be rejected as well. To see this, consider the example above - X→Y→Z and X←Y←Z would generate the same observational distribution (since they encode the same conditionals), but only X→Y→Z would generate the correct interventional distribution (e.g., when intervening on Y)."
   ]
  }
 ],
 "metadata": {
  "kernelspec": {
   "display_name": "Python 3 (ipykernel)",
   "language": "python",
   "name": "python3"
  },
  "language_info": {
   "codemirror_mode": {
    "name": "ipython",
    "version": 3
   },
   "file_extension": ".py",
   "mimetype": "text/x-python",
   "name": "python",
   "nbconvert_exporter": "python",
   "pygments_lexer": "ipython3",
   "version": "3.8.10"
  }
 },
 "nbformat": 4,
 "nbformat_minor": 5
}
