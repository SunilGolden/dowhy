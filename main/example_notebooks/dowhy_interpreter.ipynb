{
 "cells": [
  {
   "cell_type": "markdown",
   "id": "9a3d66fd",
   "metadata": {},
   "source": [
    "# DoWhy: Interpreters for Causal Estimators\n",
    "\n",
    "This is a quick introduction to the use of interpreters in the DoWhy causal inference library.\n",
    "We will load in a sample dataset, use different methods for estimating the causal effect of a (pre-specified)treatment variable on a (pre-specified) outcome variable and demonstrate how to interpret the obtained results.\n",
    "\n",
    "First, let us add the required path for Python to find the DoWhy code and load all required packages"
   ]
  },
  {
   "cell_type": "code",
   "execution_count": 1,
   "id": "c31f2d91",
   "metadata": {
    "execution": {
     "iopub.execute_input": "2023-04-03T14:24:59.818427Z",
     "iopub.status.busy": "2023-04-03T14:24:59.818059Z",
     "iopub.status.idle": "2023-04-03T14:24:59.833411Z",
     "shell.execute_reply": "2023-04-03T14:24:59.832843Z"
    }
   },
   "outputs": [],
   "source": [
    "%load_ext autoreload\n",
    "%autoreload 2"
   ]
  },
  {
   "cell_type": "code",
   "execution_count": 2,
   "id": "f26765c6",
   "metadata": {
    "execution": {
     "iopub.execute_input": "2023-04-03T14:24:59.836051Z",
     "iopub.status.busy": "2023-04-03T14:24:59.835591Z",
     "iopub.status.idle": "2023-04-03T14:25:01.393118Z",
     "shell.execute_reply": "2023-04-03T14:25:01.392459Z"
    }
   },
   "outputs": [],
   "source": [
    "import numpy as np\n",
    "import pandas as pd\n",
    "import logging\n",
    "\n",
    "import dowhy\n",
    "from dowhy import CausalModel\n",
    "import dowhy.datasets "
   ]
  },
  {
   "cell_type": "markdown",
   "id": "bdd4510e",
   "metadata": {},
   "source": [
    "Now, let us load a dataset. For simplicity, we simulate a dataset with linear relationships between common causes and treatment, and common causes and outcome.\n",
    "\n",
    "Beta is the true causal effect."
   ]
  },
  {
   "cell_type": "code",
   "execution_count": 3,
   "id": "279e9d46",
   "metadata": {
    "execution": {
     "iopub.execute_input": "2023-04-03T14:25:01.396895Z",
     "iopub.status.busy": "2023-04-03T14:25:01.396430Z",
     "iopub.status.idle": "2023-04-03T14:25:01.679658Z",
     "shell.execute_reply": "2023-04-03T14:25:01.679061Z"
    }
   },
   "outputs": [
    {
     "name": "stdout",
     "output_type": "stream",
     "text": [
      "8687\n"
     ]
    },
    {
     "data": {
      "text/html": [
       "<div>\n",
       "<style scoped>\n",
       "    .dataframe tbody tr th:only-of-type {\n",
       "        vertical-align: middle;\n",
       "    }\n",
       "\n",
       "    .dataframe tbody tr th {\n",
       "        vertical-align: top;\n",
       "    }\n",
       "\n",
       "    .dataframe thead th {\n",
       "        text-align: right;\n",
       "    }\n",
       "</style>\n",
       "<table border=\"1\" class=\"dataframe\">\n",
       "  <thead>\n",
       "    <tr style=\"text-align: right;\">\n",
       "      <th></th>\n",
       "      <th>Z0</th>\n",
       "      <th>Z1</th>\n",
       "      <th>W0</th>\n",
       "      <th>W1</th>\n",
       "      <th>W2</th>\n",
       "      <th>W3</th>\n",
       "      <th>W4</th>\n",
       "      <th>v0</th>\n",
       "      <th>y</th>\n",
       "    </tr>\n",
       "  </thead>\n",
       "  <tbody>\n",
       "    <tr>\n",
       "      <th>0</th>\n",
       "      <td>0.0</td>\n",
       "      <td>0.456720</td>\n",
       "      <td>-0.186138</td>\n",
       "      <td>-0.976902</td>\n",
       "      <td>0.908650</td>\n",
       "      <td>2.028068</td>\n",
       "      <td>3</td>\n",
       "      <td>False</td>\n",
       "      <td>2.782740</td>\n",
       "    </tr>\n",
       "    <tr>\n",
       "      <th>1</th>\n",
       "      <td>1.0</td>\n",
       "      <td>0.050483</td>\n",
       "      <td>-0.017093</td>\n",
       "      <td>-0.610060</td>\n",
       "      <td>0.541058</td>\n",
       "      <td>-1.796686</td>\n",
       "      <td>1</td>\n",
       "      <td>True</td>\n",
       "      <td>-0.301913</td>\n",
       "    </tr>\n",
       "    <tr>\n",
       "      <th>2</th>\n",
       "      <td>1.0</td>\n",
       "      <td>0.968097</td>\n",
       "      <td>-0.947750</td>\n",
       "      <td>-0.904857</td>\n",
       "      <td>0.933373</td>\n",
       "      <td>-1.615979</td>\n",
       "      <td>1</td>\n",
       "      <td>True</td>\n",
       "      <td>-0.138762</td>\n",
       "    </tr>\n",
       "    <tr>\n",
       "      <th>3</th>\n",
       "      <td>0.0</td>\n",
       "      <td>0.366906</td>\n",
       "      <td>0.168756</td>\n",
       "      <td>-1.373484</td>\n",
       "      <td>1.450854</td>\n",
       "      <td>-0.577636</td>\n",
       "      <td>2</td>\n",
       "      <td>True</td>\n",
       "      <td>1.352032</td>\n",
       "    </tr>\n",
       "    <tr>\n",
       "      <th>4</th>\n",
       "      <td>1.0</td>\n",
       "      <td>0.937407</td>\n",
       "      <td>-0.543488</td>\n",
       "      <td>-1.233095</td>\n",
       "      <td>3.027114</td>\n",
       "      <td>0.436193</td>\n",
       "      <td>0</td>\n",
       "      <td>True</td>\n",
       "      <td>2.574454</td>\n",
       "    </tr>\n",
       "    <tr>\n",
       "      <th>...</th>\n",
       "      <td>...</td>\n",
       "      <td>...</td>\n",
       "      <td>...</td>\n",
       "      <td>...</td>\n",
       "      <td>...</td>\n",
       "      <td>...</td>\n",
       "      <td>...</td>\n",
       "      <td>...</td>\n",
       "      <td>...</td>\n",
       "    </tr>\n",
       "    <tr>\n",
       "      <th>9995</th>\n",
       "      <td>1.0</td>\n",
       "      <td>0.840737</td>\n",
       "      <td>-0.661607</td>\n",
       "      <td>-2.319578</td>\n",
       "      <td>0.488675</td>\n",
       "      <td>0.417063</td>\n",
       "      <td>3</td>\n",
       "      <td>True</td>\n",
       "      <td>1.490105</td>\n",
       "    </tr>\n",
       "    <tr>\n",
       "      <th>9996</th>\n",
       "      <td>1.0</td>\n",
       "      <td>0.906283</td>\n",
       "      <td>-0.277778</td>\n",
       "      <td>-1.156672</td>\n",
       "      <td>1.354696</td>\n",
       "      <td>-1.857470</td>\n",
       "      <td>0</td>\n",
       "      <td>True</td>\n",
       "      <td>-0.376972</td>\n",
       "    </tr>\n",
       "    <tr>\n",
       "      <th>9997</th>\n",
       "      <td>0.0</td>\n",
       "      <td>0.439016</td>\n",
       "      <td>-0.150570</td>\n",
       "      <td>-1.415497</td>\n",
       "      <td>1.578861</td>\n",
       "      <td>-0.497383</td>\n",
       "      <td>2</td>\n",
       "      <td>True</td>\n",
       "      <td>1.415951</td>\n",
       "    </tr>\n",
       "    <tr>\n",
       "      <th>9998</th>\n",
       "      <td>1.0</td>\n",
       "      <td>0.329961</td>\n",
       "      <td>-0.761490</td>\n",
       "      <td>0.083069</td>\n",
       "      <td>1.265215</td>\n",
       "      <td>-0.574259</td>\n",
       "      <td>3</td>\n",
       "      <td>True</td>\n",
       "      <td>1.921111</td>\n",
       "    </tr>\n",
       "    <tr>\n",
       "      <th>9999</th>\n",
       "      <td>1.0</td>\n",
       "      <td>0.972320</td>\n",
       "      <td>-1.057808</td>\n",
       "      <td>-2.684963</td>\n",
       "      <td>1.284784</td>\n",
       "      <td>0.723474</td>\n",
       "      <td>0</td>\n",
       "      <td>True</td>\n",
       "      <td>1.211758</td>\n",
       "    </tr>\n",
       "  </tbody>\n",
       "</table>\n",
       "<p>10000 rows × 9 columns</p>\n",
       "</div>"
      ],
      "text/plain": [
       "       Z0        Z1        W0        W1        W2        W3 W4     v0  \\\n",
       "0     0.0  0.456720 -0.186138 -0.976902  0.908650  2.028068  3  False   \n",
       "1     1.0  0.050483 -0.017093 -0.610060  0.541058 -1.796686  1   True   \n",
       "2     1.0  0.968097 -0.947750 -0.904857  0.933373 -1.615979  1   True   \n",
       "3     0.0  0.366906  0.168756 -1.373484  1.450854 -0.577636  2   True   \n",
       "4     1.0  0.937407 -0.543488 -1.233095  3.027114  0.436193  0   True   \n",
       "...   ...       ...       ...       ...       ...       ... ..    ...   \n",
       "9995  1.0  0.840737 -0.661607 -2.319578  0.488675  0.417063  3   True   \n",
       "9996  1.0  0.906283 -0.277778 -1.156672  1.354696 -1.857470  0   True   \n",
       "9997  0.0  0.439016 -0.150570 -1.415497  1.578861 -0.497383  2   True   \n",
       "9998  1.0  0.329961 -0.761490  0.083069  1.265215 -0.574259  3   True   \n",
       "9999  1.0  0.972320 -1.057808 -2.684963  1.284784  0.723474  0   True   \n",
       "\n",
       "             y  \n",
       "0     2.782740  \n",
       "1    -0.301913  \n",
       "2    -0.138762  \n",
       "3     1.352032  \n",
       "4     2.574454  \n",
       "...        ...  \n",
       "9995  1.490105  \n",
       "9996 -0.376972  \n",
       "9997  1.415951  \n",
       "9998  1.921111  \n",
       "9999  1.211758  \n",
       "\n",
       "[10000 rows x 9 columns]"
      ]
     },
     "execution_count": 3,
     "metadata": {},
     "output_type": "execute_result"
    }
   ],
   "source": [
    "data = dowhy.datasets.linear_dataset(beta=1,\n",
    "        num_common_causes=5, \n",
    "        num_instruments = 2,\n",
    "        num_treatments=1,\n",
    "        num_discrete_common_causes=1,\n",
    "        num_samples=10000,\n",
    "        treatment_is_binary=True,\n",
    "        outcome_is_binary=False)\n",
    "df = data[\"df\"]\n",
    "print(df[df.v0==True].shape[0])\n",
    "df"
   ]
  },
  {
   "cell_type": "markdown",
   "id": "ca9c638d",
   "metadata": {},
   "source": [
    "Note that we are using a pandas dataframe to load the data."
   ]
  },
  {
   "cell_type": "markdown",
   "id": "573990c8",
   "metadata": {},
   "source": [
    "## Identifying the causal estimand"
   ]
  },
  {
   "cell_type": "markdown",
   "id": "3d33396a",
   "metadata": {},
   "source": [
    "We now input a causal graph in the GML graph format."
   ]
  },
  {
   "cell_type": "code",
   "execution_count": 4,
   "id": "a2b5e7aa",
   "metadata": {
    "execution": {
     "iopub.execute_input": "2023-04-03T14:25:01.682560Z",
     "iopub.status.busy": "2023-04-03T14:25:01.682160Z",
     "iopub.status.idle": "2023-04-03T14:25:01.716015Z",
     "shell.execute_reply": "2023-04-03T14:25:01.715393Z"
    }
   },
   "outputs": [],
   "source": [
    "# With graph\n",
    "model=CausalModel(\n",
    "        data = df,\n",
    "        treatment=data[\"treatment_name\"],\n",
    "        outcome=data[\"outcome_name\"],\n",
    "        graph=data[\"gml_graph\"],\n",
    "        instruments=data[\"instrument_names\"]\n",
    "        )"
   ]
  },
  {
   "cell_type": "code",
   "execution_count": 5,
   "id": "b50988cd",
   "metadata": {
    "execution": {
     "iopub.execute_input": "2023-04-03T14:25:01.718845Z",
     "iopub.status.busy": "2023-04-03T14:25:01.718625Z",
     "iopub.status.idle": "2023-04-03T14:25:01.777573Z",
     "shell.execute_reply": "2023-04-03T14:25:01.776977Z"
    }
   },
   "outputs": [],
   "source": [
    "model.view_model()"
   ]
  },
  {
   "cell_type": "code",
   "execution_count": 6,
   "id": "b3a78bc6",
   "metadata": {
    "execution": {
     "iopub.execute_input": "2023-04-03T14:25:01.780219Z",
     "iopub.status.busy": "2023-04-03T14:25:01.780001Z",
     "iopub.status.idle": "2023-04-03T14:25:01.808272Z",
     "shell.execute_reply": "2023-04-03T14:25:01.807625Z"
    }
   },
   "outputs": [
    {
     "data": {
      "image/png": "[encoded data removed]",
      "text/plain": [
       "<IPython.core.display.Image object>"
      ]
     },
     "metadata": {},
     "output_type": "display_data"
    }
   ],
   "source": [
    "from IPython.display import Image, display\n",
    "display(Image(filename=\"causal_model.png\"))"
   ]
  },
  {
   "cell_type": "markdown",
   "id": "13b100f1",
   "metadata": {},
   "source": [
    "We get a causal graph. Now identification and estimation is done."
   ]
  },
  {
   "cell_type": "code",
   "execution_count": 7,
   "id": "329e1906",
   "metadata": {
    "execution": {
     "iopub.execute_input": "2023-04-03T14:25:01.811347Z",
     "iopub.status.busy": "2023-04-03T14:25:01.810953Z",
     "iopub.status.idle": "2023-04-03T14:25:02.119971Z",
     "shell.execute_reply": "2023-04-03T14:25:02.119291Z"
    }
   },
   "outputs": [
    {
     "name": "stdout",
     "output_type": "stream",
     "text": [
      "Estimand type: EstimandType.NONPARAMETRIC_ATE\n",
      "\n",
      "### Estimand : 1\n",
      "Estimand name: backdoor\n",
      "Estimand expression:\n",
      "  d                       \n",
      "─────(E[y|W3,W1,W4,W0,W2])\n",
      "d[v₀]                     \n",
      "Estimand assumption 1, Unconfoundedness: If U→{v0} and U→y then P(y|v0,W3,W1,W4,W0,W2,U) = P(y|v0,W3,W1,W4,W0,W2)\n",
      "\n",
      "### Estimand : 2\n",
      "Estimand name: iv\n",
      "Estimand expression:\n",
      " ⎡                              -1⎤\n",
      " ⎢    d        ⎛    d          ⎞  ⎥\n",
      "E⎢─────────(y)⋅⎜─────────([v₀])⎟  ⎥\n",
      " ⎣d[Z₀  Z₁]    ⎝d[Z₀  Z₁]      ⎠  ⎦\n",
      "Estimand assumption 1, As-if-random: If U→→y then ¬(U →→{Z0,Z1})\n",
      "Estimand assumption 2, Exclusion: If we remove {Z0,Z1}→{v0}, then ¬({Z0,Z1}→y)\n",
      "\n",
      "### Estimand : 3\n",
      "Estimand name: frontdoor\n",
      "No such variable(s) found!\n",
      "\n"
     ]
    }
   ],
   "source": [
    "identified_estimand = model.identify_effect(proceed_when_unidentifiable=True)\n",
    "print(identified_estimand)"
   ]
  },
  {
   "cell_type": "markdown",
   "id": "19b4438e",
   "metadata": {},
   "source": [
    "## Method 1: Propensity Score Stratification\n",
    "\n",
    "We will be using propensity scores to stratify units in the data."
   ]
  },
  {
   "cell_type": "code",
   "execution_count": 8,
   "id": "318064d0",
   "metadata": {
    "execution": {
     "iopub.execute_input": "2023-04-03T14:25:02.122836Z",
     "iopub.status.busy": "2023-04-03T14:25:02.122489Z",
     "iopub.status.idle": "2023-04-03T14:25:02.752892Z",
     "shell.execute_reply": "2023-04-03T14:25:02.752272Z"
    }
   },
   "outputs": [
    {
     "name": "stdout",
     "output_type": "stream",
     "text": [
      "*** Causal Estimate ***\n",
      "\n",
      "## Identified estimand\n",
      "Estimand type: EstimandType.NONPARAMETRIC_ATE\n",
      "\n",
      "### Estimand : 1\n",
      "Estimand name: backdoor\n",
      "Estimand expression:\n",
      "  d                       \n",
      "─────(E[y|W3,W1,W4,W0,W2])\n",
      "d[v₀]                     \n",
      "Estimand assumption 1, Unconfoundedness: If U→{v0} and U→y then P(y|v0,W3,W1,W4,W0,W2,U) = P(y|v0,W3,W1,W4,W0,W2)\n",
      "\n",
      "## Realized estimand\n",
      "b: y~v0+W3+W1+W4+W0+W2\n",
      "Target units: att\n",
      "\n",
      "## Estimate\n",
      "Mean value: 0.9850976278218868\n",
      "\n",
      "Causal Estimate is 0.9850976278218868\n"
     ]
    }
   ],
   "source": [
    "causal_estimate_strat = model.estimate_effect(identified_estimand,\n",
    "                                              method_name=\"backdoor.propensity_score_stratification\",\n",
    "                                              target_units=\"att\")\n",
    "print(causal_estimate_strat)\n",
    "print(\"Causal Estimate is \" + str(causal_estimate_strat.value))"
   ]
  },
  {
   "cell_type": "markdown",
   "id": "4354d53c",
   "metadata": {},
   "source": [
    "### Textual Interpreter\n",
    "\n",
    "The textual Interpreter describes (in words) the effect of unit change in the treatment variable on the outcome variable."
   ]
  },
  {
   "cell_type": "code",
   "execution_count": 9,
   "id": "acd7bd5e",
   "metadata": {
    "execution": {
     "iopub.execute_input": "2023-04-03T14:25:02.755835Z",
     "iopub.status.busy": "2023-04-03T14:25:02.755498Z",
     "iopub.status.idle": "2023-04-03T14:25:02.784274Z",
     "shell.execute_reply": "2023-04-03T14:25:02.783644Z"
    }
   },
   "outputs": [
    {
     "name": "stdout",
     "output_type": "stream",
     "text": [
      "Increasing the treatment variable(s) [v0] from 0 to 1 causes an increase of 0.9850976278218868 in the expected value of the outcome [['y']], over the data distribution/population represented by the dataset.\n"
     ]
    }
   ],
   "source": [
    "# Textual Interpreter\n",
    "interpretation = causal_estimate_strat.interpret(method_name=\"textual_effect_interpreter\")"
   ]
  },
  {
   "cell_type": "markdown",
   "id": "9141e736",
   "metadata": {},
   "source": [
    "### Visual Interpreter\n",
    "\n",
    "The visual interpreter plots the change in the standardized mean difference (SMD) before and after Propensity Score based adjustment of the dataset. The formula for SMD is given below.\n",
    "\n",
    "\n",
    "$SMD = \\frac{\\bar X_{1} - \\bar X_{2}}{\\sqrt{(S_{1}^{2} + S_{2}^{2})/2}}$\n",
    "\n",
    "Here, $\\bar X_{1}$ and $\\bar X_{2}$ are the sample mean for the treated and control groups.\n"
   ]
  },
  {
   "cell_type": "code",
   "execution_count": 10,
   "id": "80c04fd9",
   "metadata": {
    "execution": {
     "iopub.execute_input": "2023-04-03T14:25:02.786970Z",
     "iopub.status.busy": "2023-04-03T14:25:02.786567Z",
     "iopub.status.idle": "2023-04-03T14:25:03.336860Z",
     "shell.execute_reply": "2023-04-03T14:25:03.336272Z"
    }
   },
   "outputs": [
    {
     "data": {
      "image/png": "[encoded data removed]",
      "text/plain": [
       "<Figure size 640x480 with 1 Axes>"
      ]
     },
     "metadata": {},
     "output_type": "display_data"
    }
   ],
   "source": [
    "# Visual Interpreter\n",
    "interpretation = causal_estimate_strat.interpret(method_name=\"propensity_balance_interpreter\")"
   ]
  },
  {
   "cell_type": "markdown",
   "id": "d137de32",
   "metadata": {},
   "source": [
    "This plot shows how the SMD decreases from the unadjusted to the stratified units. "
   ]
  },
  {
   "cell_type": "markdown",
   "id": "d74286fc",
   "metadata": {},
   "source": [
    "## Method 2: Propensity Score Matching\n",
    "\n",
    "We will be using propensity scores to match units in the data."
   ]
  },
  {
   "cell_type": "code",
   "execution_count": 11,
   "id": "6df62173",
   "metadata": {
    "execution": {
     "iopub.execute_input": "2023-04-03T14:25:03.339582Z",
     "iopub.status.busy": "2023-04-03T14:25:03.339351Z",
     "iopub.status.idle": "2023-04-03T14:25:06.566214Z",
     "shell.execute_reply": "2023-04-03T14:25:06.565189Z"
    }
   },
   "outputs": [
    {
     "name": "stdout",
     "output_type": "stream",
     "text": [
      "*** Causal Estimate ***\n",
      "\n",
      "## Identified estimand\n",
      "Estimand type: EstimandType.NONPARAMETRIC_ATE\n",
      "\n",
      "### Estimand : 1\n",
      "Estimand name: backdoor\n",
      "Estimand expression:\n",
      "  d                       \n",
      "─────(E[y|W3,W1,W4,W0,W2])\n",
      "d[v₀]                     \n",
      "Estimand assumption 1, Unconfoundedness: If U→{v0} and U→y then P(y|v0,W3,W1,W4,W0,W2,U) = P(y|v0,W3,W1,W4,W0,W2)\n",
      "\n",
      "## Realized estimand\n",
      "b: y~v0+W3+W1+W4+W0+W2\n",
      "Target units: atc\n",
      "\n",
      "## Estimate\n",
      "Mean value: 0.9731736016072943\n",
      "\n",
      "Causal Estimate is 0.9731736016072943\n"
     ]
    }
   ],
   "source": [
    "causal_estimate_match = model.estimate_effect(identified_estimand,\n",
    "                                              method_name=\"backdoor.propensity_score_matching\",\n",
    "                                              target_units=\"atc\")\n",
    "print(causal_estimate_match)\n",
    "print(\"Causal Estimate is \" + str(causal_estimate_match.value))"
   ]
  },
  {
   "cell_type": "code",
   "execution_count": 12,
   "id": "7e607ef5",
   "metadata": {
    "execution": {
     "iopub.execute_input": "2023-04-03T14:25:06.569493Z",
     "iopub.status.busy": "2023-04-03T14:25:06.568810Z",
     "iopub.status.idle": "2023-04-03T14:25:06.598305Z",
     "shell.execute_reply": "2023-04-03T14:25:06.597685Z"
    }
   },
   "outputs": [
    {
     "name": "stdout",
     "output_type": "stream",
     "text": [
      "Increasing the treatment variable(s) [v0] from 0 to 1 causes an increase of 0.9731736016072943 in the expected value of the outcome [['y']], over the data distribution/population represented by the dataset.\n"
     ]
    }
   ],
   "source": [
    "# Textual Interpreter\n",
    "interpretation = causal_estimate_match.interpret(method_name=\"textual_effect_interpreter\")"
   ]
  },
  {
   "cell_type": "markdown",
   "id": "a0c4e566",
   "metadata": {},
   "source": [
    "Cannot use propensity balance interpretor here since the interpreter method only supports propensity score stratification estimator."
   ]
  },
  {
   "cell_type": "markdown",
   "id": "fe6fe366",
   "metadata": {},
   "source": [
    "## Method 3: Weighting\n",
    "\n",
    "We will be using (inverse) propensity scores to assign weights to units in the data. DoWhy supports a few different weighting schemes:\n",
    "1. Vanilla Inverse Propensity Score weighting (IPS) (weighting_scheme=\"ips_weight\")\n",
    "2. Self-normalized IPS weighting (also known as the Hajek estimator) (weighting_scheme=\"ips_normalized_weight\")\n",
    "3. Stabilized IPS weighting (weighting_scheme = \"ips_stabilized_weight\")"
   ]
  },
  {
   "cell_type": "code",
   "execution_count": 13,
   "id": "557679de",
   "metadata": {
    "execution": {
     "iopub.execute_input": "2023-04-03T14:25:06.601141Z",
     "iopub.status.busy": "2023-04-03T14:25:06.600796Z",
     "iopub.status.idle": "2023-04-03T14:25:06.649508Z",
     "shell.execute_reply": "2023-04-03T14:25:06.648880Z"
    }
   },
   "outputs": [
    {
     "name": "stdout",
     "output_type": "stream",
     "text": [
      "*** Causal Estimate ***\n",
      "\n",
      "## Identified estimand\n",
      "Estimand type: EstimandType.NONPARAMETRIC_ATE\n",
      "\n",
      "### Estimand : 1\n",
      "Estimand name: backdoor\n",
      "Estimand expression:\n",
      "  d                       \n",
      "─────(E[y|W3,W1,W4,W0,W2])\n",
      "d[v₀]                     \n",
      "Estimand assumption 1, Unconfoundedness: If U→{v0} and U→y then P(y|v0,W3,W1,W4,W0,W2,U) = P(y|v0,W3,W1,W4,W0,W2)\n",
      "\n",
      "## Realized estimand\n",
      "b: y~v0+W3+W1+W4+W0+W2\n",
      "Target units: ate\n",
      "\n",
      "## Estimate\n",
      "Mean value: 1.0407295262644354\n",
      "\n",
      "Causal Estimate is 1.0407295262644354\n"
     ]
    }
   ],
   "source": [
    "causal_estimate_ipw = model.estimate_effect(identified_estimand,\n",
    "                                            method_name=\"backdoor.propensity_score_weighting\",\n",
    "                                            target_units = \"ate\",\n",
    "                                            method_params={\"weighting_scheme\":\"ips_weight\"})\n",
    "print(causal_estimate_ipw)\n",
    "print(\"Causal Estimate is \" + str(causal_estimate_ipw.value))"
   ]
  },
  {
   "cell_type": "code",
   "execution_count": 14,
   "id": "2894602c",
   "metadata": {
    "execution": {
     "iopub.execute_input": "2023-04-03T14:25:06.652579Z",
     "iopub.status.busy": "2023-04-03T14:25:06.652109Z",
     "iopub.status.idle": "2023-04-03T14:25:06.683245Z",
     "shell.execute_reply": "2023-04-03T14:25:06.682667Z"
    }
   },
   "outputs": [
    {
     "name": "stdout",
     "output_type": "stream",
     "text": [
      "Increasing the treatment variable(s) [v0] from 0 to 1 causes an increase of 1.0407295262644354 in the expected value of the outcome [['y']], over the data distribution/population represented by the dataset.\n"
     ]
    }
   ],
   "source": [
    "# Textual Interpreter\n",
    "interpretation = causal_estimate_ipw.interpret(method_name=\"textual_effect_interpreter\")"
   ]
  },
  {
   "cell_type": "code",
   "execution_count": 15,
   "id": "30f6b8b3",
   "metadata": {
    "execution": {
     "iopub.execute_input": "2023-04-03T14:25:06.686259Z",
     "iopub.status.busy": "2023-04-03T14:25:06.685748Z",
     "iopub.status.idle": "2023-04-03T14:25:06.985858Z",
     "shell.execute_reply": "2023-04-03T14:25:06.985127Z"
    }
   },
   "outputs": [
    {
     "data": {
      "image/png": "[encoded data removed]",
      "text/plain": [
       "<Figure size 800x800 with 2 Axes>"
      ]
     },
     "metadata": {},
     "output_type": "display_data"
    }
   ],
   "source": [
    "interpretation = causal_estimate_ipw.interpret(method_name=\"confounder_distribution_interpreter\", fig_size=(8,8), font_size=12, var_name='W4', var_type='discrete')"
   ]
  },
  {
   "cell_type": "code",
   "execution_count": null,
   "id": "76acec3a",
   "metadata": {},
   "outputs": [],
   "source": []
  }
 ],
 "metadata": {
  "kernelspec": {
   "display_name": "Python 3",
   "language": "python",
   "name": "python3"
  },
  "language_info": {
   "codemirror_mode": {
    "name": "ipython",
    "version": 3
   },
   "file_extension": ".py",
   "mimetype": "text/x-python",
   "name": "python",
   "nbconvert_exporter": "python",
   "pygments_lexer": "ipython3",
   "version": "3.8.10"
  },
  "toc": {
   "base_numbering": 1,
   "nav_menu": {},
   "number_sections": false,
   "sideBar": true,
   "skip_h1_title": true,
   "title_cell": "Table of Contents",
   "title_sidebar": "Contents",
   "toc_cell": false,
   "toc_position": {},
   "toc_section_display": true,
   "toc_window_display": false
  }
 },
 "nbformat": 4,
 "nbformat_minor": 5
}
