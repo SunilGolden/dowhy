{
 "cells": [
  {
   "cell_type": "markdown",
   "id": "3380e964",
   "metadata": {},
   "source": [
    "# DoWhy: Interpreters for Causal Estimators\n",
    "\n",
    "This is a quick introduction to the use of interpreters in the DoWhy causal inference library.\n",
    "We will load in a sample dataset, use different methods for estimating the causal effect of a (pre-specified)treatment variable on a (pre-specified) outcome variable and demonstrate how to interpret the obtained results.\n",
    "\n",
    "First, let us add the required path for Python to find the DoWhy code and load all required packages"
   ]
  },
  {
   "cell_type": "code",
   "execution_count": 1,
   "id": "49cf92b3",
   "metadata": {
    "execution": {
     "iopub.execute_input": "2023-05-06T08:54:57.456449Z",
     "iopub.status.busy": "2023-05-06T08:54:57.456241Z",
     "iopub.status.idle": "2023-05-06T08:54:57.472128Z",
     "shell.execute_reply": "2023-05-06T08:54:57.471099Z"
    }
   },
   "outputs": [],
   "source": [
    "%load_ext autoreload\n",
    "%autoreload 2"
   ]
  },
  {
   "cell_type": "code",
   "execution_count": 2,
   "id": "3c0f092c",
   "metadata": {
    "execution": {
     "iopub.execute_input": "2023-05-06T08:54:57.474807Z",
     "iopub.status.busy": "2023-05-06T08:54:57.474361Z",
     "iopub.status.idle": "2023-05-06T08:54:59.040312Z",
     "shell.execute_reply": "2023-05-06T08:54:59.039656Z"
    }
   },
   "outputs": [],
   "source": [
    "import numpy as np\n",
    "import pandas as pd\n",
    "import logging\n",
    "\n",
    "import dowhy\n",
    "from dowhy import CausalModel\n",
    "import dowhy.datasets "
   ]
  },
  {
   "cell_type": "markdown",
   "id": "efdc7b74",
   "metadata": {},
   "source": [
    "Now, let us load a dataset. For simplicity, we simulate a dataset with linear relationships between common causes and treatment, and common causes and outcome.\n",
    "\n",
    "Beta is the true causal effect."
   ]
  },
  {
   "cell_type": "code",
   "execution_count": 3,
   "id": "0c1a15f7",
   "metadata": {
    "execution": {
     "iopub.execute_input": "2023-05-06T08:54:59.043824Z",
     "iopub.status.busy": "2023-05-06T08:54:59.043354Z",
     "iopub.status.idle": "2023-05-06T08:54:59.321208Z",
     "shell.execute_reply": "2023-05-06T08:54:59.320667Z"
    }
   },
   "outputs": [
    {
     "name": "stdout",
     "output_type": "stream",
     "text": [
      "6963\n"
     ]
    },
    {
     "data": {
      "text/html": [
       "<div>\n",
       "<style scoped>\n",
       "    .dataframe tbody tr th:only-of-type {\n",
       "        vertical-align: middle;\n",
       "    }\n",
       "\n",
       "    .dataframe tbody tr th {\n",
       "        vertical-align: top;\n",
       "    }\n",
       "\n",
       "    .dataframe thead th {\n",
       "        text-align: right;\n",
       "    }\n",
       "</style>\n",
       "<table border=\"1\" class=\"dataframe\">\n",
       "  <thead>\n",
       "    <tr style=\"text-align: right;\">\n",
       "      <th></th>\n",
       "      <th>Z0</th>\n",
       "      <th>Z1</th>\n",
       "      <th>W0</th>\n",
       "      <th>W1</th>\n",
       "      <th>W2</th>\n",
       "      <th>W3</th>\n",
       "      <th>W4</th>\n",
       "      <th>v0</th>\n",
       "      <th>y</th>\n",
       "    </tr>\n",
       "  </thead>\n",
       "  <tbody>\n",
       "    <tr>\n",
       "      <th>0</th>\n",
       "      <td>0.0</td>\n",
       "      <td>0.846705</td>\n",
       "      <td>-1.410356</td>\n",
       "      <td>0.128938</td>\n",
       "      <td>0.223045</td>\n",
       "      <td>-0.026247</td>\n",
       "      <td>1</td>\n",
       "      <td>True</td>\n",
       "      <td>1.245213</td>\n",
       "    </tr>\n",
       "    <tr>\n",
       "      <th>1</th>\n",
       "      <td>0.0</td>\n",
       "      <td>0.803977</td>\n",
       "      <td>-2.566938</td>\n",
       "      <td>-0.093185</td>\n",
       "      <td>-0.863018</td>\n",
       "      <td>-0.997858</td>\n",
       "      <td>3</td>\n",
       "      <td>True</td>\n",
       "      <td>1.753991</td>\n",
       "    </tr>\n",
       "    <tr>\n",
       "      <th>2</th>\n",
       "      <td>1.0</td>\n",
       "      <td>0.668394</td>\n",
       "      <td>-3.131131</td>\n",
       "      <td>-0.923176</td>\n",
       "      <td>0.108209</td>\n",
       "      <td>-1.816734</td>\n",
       "      <td>0</td>\n",
       "      <td>True</td>\n",
       "      <td>-1.999563</td>\n",
       "    </tr>\n",
       "    <tr>\n",
       "      <th>3</th>\n",
       "      <td>1.0</td>\n",
       "      <td>0.850002</td>\n",
       "      <td>-0.142630</td>\n",
       "      <td>1.234884</td>\n",
       "      <td>-2.898709</td>\n",
       "      <td>-1.981053</td>\n",
       "      <td>3</td>\n",
       "      <td>True</td>\n",
       "      <td>2.858488</td>\n",
       "    </tr>\n",
       "    <tr>\n",
       "      <th>4</th>\n",
       "      <td>0.0</td>\n",
       "      <td>0.855221</td>\n",
       "      <td>-0.578777</td>\n",
       "      <td>-1.213908</td>\n",
       "      <td>-1.232475</td>\n",
       "      <td>-0.938442</td>\n",
       "      <td>2</td>\n",
       "      <td>True</td>\n",
       "      <td>1.405608</td>\n",
       "    </tr>\n",
       "    <tr>\n",
       "      <th>...</th>\n",
       "      <td>...</td>\n",
       "      <td>...</td>\n",
       "      <td>...</td>\n",
       "      <td>...</td>\n",
       "      <td>...</td>\n",
       "      <td>...</td>\n",
       "      <td>...</td>\n",
       "      <td>...</td>\n",
       "      <td>...</td>\n",
       "    </tr>\n",
       "    <tr>\n",
       "      <th>9995</th>\n",
       "      <td>1.0</td>\n",
       "      <td>0.742538</td>\n",
       "      <td>-0.518141</td>\n",
       "      <td>-0.343319</td>\n",
       "      <td>-1.748313</td>\n",
       "      <td>-0.157596</td>\n",
       "      <td>1</td>\n",
       "      <td>True</td>\n",
       "      <td>1.184262</td>\n",
       "    </tr>\n",
       "    <tr>\n",
       "      <th>9996</th>\n",
       "      <td>0.0</td>\n",
       "      <td>0.915889</td>\n",
       "      <td>-3.148773</td>\n",
       "      <td>1.132212</td>\n",
       "      <td>-0.203768</td>\n",
       "      <td>0.936906</td>\n",
       "      <td>2</td>\n",
       "      <td>True</td>\n",
       "      <td>2.052438</td>\n",
       "    </tr>\n",
       "    <tr>\n",
       "      <th>9997</th>\n",
       "      <td>1.0</td>\n",
       "      <td>0.919700</td>\n",
       "      <td>-0.610943</td>\n",
       "      <td>1.085483</td>\n",
       "      <td>-1.478256</td>\n",
       "      <td>-0.874337</td>\n",
       "      <td>2</td>\n",
       "      <td>True</td>\n",
       "      <td>2.364439</td>\n",
       "    </tr>\n",
       "    <tr>\n",
       "      <th>9998</th>\n",
       "      <td>0.0</td>\n",
       "      <td>0.409044</td>\n",
       "      <td>-1.042252</td>\n",
       "      <td>-1.717898</td>\n",
       "      <td>-1.032038</td>\n",
       "      <td>-0.651813</td>\n",
       "      <td>3</td>\n",
       "      <td>False</td>\n",
       "      <td>1.069753</td>\n",
       "    </tr>\n",
       "    <tr>\n",
       "      <th>9999</th>\n",
       "      <td>1.0</td>\n",
       "      <td>0.479767</td>\n",
       "      <td>-1.104210</td>\n",
       "      <td>1.484070</td>\n",
       "      <td>-1.120076</td>\n",
       "      <td>-0.940242</td>\n",
       "      <td>0</td>\n",
       "      <td>True</td>\n",
       "      <td>0.409623</td>\n",
       "    </tr>\n",
       "  </tbody>\n",
       "</table>\n",
       "<p>10000 rows × 9 columns</p>\n",
       "</div>"
      ],
      "text/plain": [
       "       Z0        Z1        W0        W1        W2        W3 W4     v0  \\\n",
       "0     0.0  0.846705 -1.410356  0.128938  0.223045 -0.026247  1   True   \n",
       "1     0.0  0.803977 -2.566938 -0.093185 -0.863018 -0.997858  3   True   \n",
       "2     1.0  0.668394 -3.131131 -0.923176  0.108209 -1.816734  0   True   \n",
       "3     1.0  0.850002 -0.142630  1.234884 -2.898709 -1.981053  3   True   \n",
       "4     0.0  0.855221 -0.578777 -1.213908 -1.232475 -0.938442  2   True   \n",
       "...   ...       ...       ...       ...       ...       ... ..    ...   \n",
       "9995  1.0  0.742538 -0.518141 -0.343319 -1.748313 -0.157596  1   True   \n",
       "9996  0.0  0.915889 -3.148773  1.132212 -0.203768  0.936906  2   True   \n",
       "9997  1.0  0.919700 -0.610943  1.085483 -1.478256 -0.874337  2   True   \n",
       "9998  0.0  0.409044 -1.042252 -1.717898 -1.032038 -0.651813  3  False   \n",
       "9999  1.0  0.479767 -1.104210  1.484070 -1.120076 -0.940242  0   True   \n",
       "\n",
       "             y  \n",
       "0     1.245213  \n",
       "1     1.753991  \n",
       "2    -1.999563  \n",
       "3     2.858488  \n",
       "4     1.405608  \n",
       "...        ...  \n",
       "9995  1.184262  \n",
       "9996  2.052438  \n",
       "9997  2.364439  \n",
       "9998  1.069753  \n",
       "9999  0.409623  \n",
       "\n",
       "[10000 rows x 9 columns]"
      ]
     },
     "execution_count": 3,
     "metadata": {},
     "output_type": "execute_result"
    }
   ],
   "source": [
    "data = dowhy.datasets.linear_dataset(beta=1,\n",
    "        num_common_causes=5, \n",
    "        num_instruments = 2,\n",
    "        num_treatments=1,\n",
    "        num_discrete_common_causes=1,\n",
    "        num_samples=10000,\n",
    "        treatment_is_binary=True,\n",
    "        outcome_is_binary=False)\n",
    "df = data[\"df\"]\n",
    "print(df[df.v0==True].shape[0])\n",
    "df"
   ]
  },
  {
   "cell_type": "markdown",
   "id": "2cbfdcbe",
   "metadata": {},
   "source": [
    "Note that we are using a pandas dataframe to load the data."
   ]
  },
  {
   "cell_type": "markdown",
   "id": "c668f7f7",
   "metadata": {},
   "source": [
    "## Identifying the causal estimand"
   ]
  },
  {
   "cell_type": "markdown",
   "id": "6545be69",
   "metadata": {},
   "source": [
    "We now input a causal graph in the GML graph format."
   ]
  },
  {
   "cell_type": "code",
   "execution_count": 4,
   "id": "782cc1f2",
   "metadata": {
    "execution": {
     "iopub.execute_input": "2023-05-06T08:54:59.323990Z",
     "iopub.status.busy": "2023-05-06T08:54:59.323570Z",
     "iopub.status.idle": "2023-05-06T08:54:59.351473Z",
     "shell.execute_reply": "2023-05-06T08:54:59.350952Z"
    }
   },
   "outputs": [],
   "source": [
    "# With graph\n",
    "model=CausalModel(\n",
    "        data = df,\n",
    "        treatment=data[\"treatment_name\"],\n",
    "        outcome=data[\"outcome_name\"],\n",
    "        graph=data[\"gml_graph\"],\n",
    "        instruments=data[\"instrument_names\"]\n",
    "        )"
   ]
  },
  {
   "cell_type": "code",
   "execution_count": 5,
   "id": "f741530c",
   "metadata": {
    "execution": {
     "iopub.execute_input": "2023-05-06T08:54:59.354222Z",
     "iopub.status.busy": "2023-05-06T08:54:59.353884Z",
     "iopub.status.idle": "2023-05-06T08:54:59.410582Z",
     "shell.execute_reply": "2023-05-06T08:54:59.409977Z"
    }
   },
   "outputs": [],
   "source": [
    "model.view_model()"
   ]
  },
  {
   "cell_type": "code",
   "execution_count": 6,
   "id": "b5d2f15d",
   "metadata": {
    "execution": {
     "iopub.execute_input": "2023-05-06T08:54:59.413609Z",
     "iopub.status.busy": "2023-05-06T08:54:59.413199Z",
     "iopub.status.idle": "2023-05-06T08:54:59.442050Z",
     "shell.execute_reply": "2023-05-06T08:54:59.441437Z"
    }
   },
   "outputs": [
    {
     "data": {
      "image/png": "[encoded data removed]",
      "text/plain": [
       "<IPython.core.display.Image object>"
      ]
     },
     "metadata": {},
     "output_type": "display_data"
    }
   ],
   "source": [
    "from IPython.display import Image, display\n",
    "display(Image(filename=\"causal_model.png\"))"
   ]
  },
  {
   "cell_type": "markdown",
   "id": "0b2bd3c9",
   "metadata": {},
   "source": [
    "We get a causal graph. Now identification and estimation is done."
   ]
  },
  {
   "cell_type": "code",
   "execution_count": 7,
   "id": "edc60b10",
   "metadata": {
    "execution": {
     "iopub.execute_input": "2023-05-06T08:54:59.444741Z",
     "iopub.status.busy": "2023-05-06T08:54:59.444537Z",
     "iopub.status.idle": "2023-05-06T08:54:59.746893Z",
     "shell.execute_reply": "2023-05-06T08:54:59.746350Z"
    }
   },
   "outputs": [
    {
     "name": "stdout",
     "output_type": "stream",
     "text": [
      "Estimand type: EstimandType.NONPARAMETRIC_ATE\n",
      "\n",
      "### Estimand : 1\n",
      "Estimand name: backdoor\n",
      "Estimand expression:\n",
      "  d                       \n",
      "─────(E[y|W3,W1,W0,W2,W4])\n",
      "d[v₀]                     \n",
      "Estimand assumption 1, Unconfoundedness: If U→{v0} and U→y then P(y|v0,W3,W1,W0,W2,W4,U) = P(y|v0,W3,W1,W0,W2,W4)\n",
      "\n",
      "### Estimand : 2\n",
      "Estimand name: iv\n",
      "Estimand expression:\n",
      " ⎡                              -1⎤\n",
      " ⎢    d        ⎛    d          ⎞  ⎥\n",
      "E⎢─────────(y)⋅⎜─────────([v₀])⎟  ⎥\n",
      " ⎣d[Z₀  Z₁]    ⎝d[Z₀  Z₁]      ⎠  ⎦\n",
      "Estimand assumption 1, As-if-random: If U→→y then ¬(U →→{Z0,Z1})\n",
      "Estimand assumption 2, Exclusion: If we remove {Z0,Z1}→{v0}, then ¬({Z0,Z1}→y)\n",
      "\n",
      "### Estimand : 3\n",
      "Estimand name: frontdoor\n",
      "No such variable(s) found!\n",
      "\n"
     ]
    }
   ],
   "source": [
    "identified_estimand = model.identify_effect(proceed_when_unidentifiable=True)\n",
    "print(identified_estimand)"
   ]
  },
  {
   "cell_type": "markdown",
   "id": "c5eea857",
   "metadata": {},
   "source": [
    "## Method 1: Propensity Score Stratification\n",
    "\n",
    "We will be using propensity scores to stratify units in the data."
   ]
  },
  {
   "cell_type": "code",
   "execution_count": 8,
   "id": "c3a234c9",
   "metadata": {
    "execution": {
     "iopub.execute_input": "2023-05-06T08:54:59.749829Z",
     "iopub.status.busy": "2023-05-06T08:54:59.749492Z",
     "iopub.status.idle": "2023-05-06T08:55:00.261930Z",
     "shell.execute_reply": "2023-05-06T08:55:00.261292Z"
    }
   },
   "outputs": [
    {
     "name": "stdout",
     "output_type": "stream",
     "text": [
      "*** Causal Estimate ***\n",
      "\n",
      "## Identified estimand\n",
      "Estimand type: EstimandType.NONPARAMETRIC_ATE\n",
      "\n",
      "### Estimand : 1\n",
      "Estimand name: backdoor\n",
      "Estimand expression:\n",
      "  d                       \n",
      "─────(E[y|W3,W1,W0,W2,W4])\n",
      "d[v₀]                     \n",
      "Estimand assumption 1, Unconfoundedness: If U→{v0} and U→y then P(y|v0,W3,W1,W0,W2,W4,U) = P(y|v0,W3,W1,W0,W2,W4)\n",
      "\n",
      "## Realized estimand\n",
      "b: y~v0+W3+W1+W0+W2+W4\n",
      "Target units: att\n",
      "\n",
      "## Estimate\n",
      "Mean value: 0.983110190817579\n",
      "\n",
      "Causal Estimate is 0.983110190817579\n"
     ]
    }
   ],
   "source": [
    "causal_estimate_strat = model.estimate_effect(identified_estimand,\n",
    "                                              method_name=\"backdoor.propensity_score_stratification\",\n",
    "                                              target_units=\"att\")\n",
    "print(causal_estimate_strat)\n",
    "print(\"Causal Estimate is \" + str(causal_estimate_strat.value))"
   ]
  },
  {
   "cell_type": "markdown",
   "id": "6d3c2aab",
   "metadata": {},
   "source": [
    "### Textual Interpreter\n",
    "\n",
    "The textual Interpreter describes (in words) the effect of unit change in the treatment variable on the outcome variable."
   ]
  },
  {
   "cell_type": "code",
   "execution_count": 9,
   "id": "44bd8ef2",
   "metadata": {
    "execution": {
     "iopub.execute_input": "2023-05-06T08:55:00.265127Z",
     "iopub.status.busy": "2023-05-06T08:55:00.264642Z",
     "iopub.status.idle": "2023-05-06T08:55:00.294111Z",
     "shell.execute_reply": "2023-05-06T08:55:00.293524Z"
    }
   },
   "outputs": [
    {
     "name": "stdout",
     "output_type": "stream",
     "text": [
      "Increasing the treatment variable(s) [v0] from 0 to 1 causes an increase of 0.983110190817579 in the expected value of the outcome [['y']], over the data distribution/population represented by the dataset.\n"
     ]
    }
   ],
   "source": [
    "# Textual Interpreter\n",
    "interpretation = causal_estimate_strat.interpret(method_name=\"textual_effect_interpreter\")"
   ]
  },
  {
   "cell_type": "markdown",
   "id": "55cb388d",
   "metadata": {},
   "source": [
    "### Visual Interpreter\n",
    "\n",
    "The visual interpreter plots the change in the standardized mean difference (SMD) before and after Propensity Score based adjustment of the dataset. The formula for SMD is given below.\n",
    "\n",
    "\n",
    "$SMD = \\frac{\\bar X_{1} - \\bar X_{2}}{\\sqrt{(S_{1}^{2} + S_{2}^{2})/2}}$\n",
    "\n",
    "Here, $\\bar X_{1}$ and $\\bar X_{2}$ are the sample mean for the treated and control groups.\n"
   ]
  },
  {
   "cell_type": "code",
   "execution_count": 10,
   "id": "8f9198ba",
   "metadata": {
    "execution": {
     "iopub.execute_input": "2023-05-06T08:55:00.296858Z",
     "iopub.status.busy": "2023-05-06T08:55:00.296363Z",
     "iopub.status.idle": "2023-05-06T08:55:01.639369Z",
     "shell.execute_reply": "2023-05-06T08:55:01.638759Z"
    }
   },
   "outputs": [
    {
     "data": {
      "image/png": "[encoded data removed]",
      "text/plain": [
       "<Figure size 640x480 with 1 Axes>"
      ]
     },
     "metadata": {},
     "output_type": "display_data"
    }
   ],
   "source": [
    "# Visual Interpreter\n",
    "interpretation = causal_estimate_strat.interpret(method_name=\"propensity_balance_interpreter\")"
   ]
  },
  {
   "cell_type": "markdown",
   "id": "e7b13868",
   "metadata": {},
   "source": [
    "This plot shows how the SMD decreases from the unadjusted to the stratified units. "
   ]
  },
  {
   "cell_type": "markdown",
   "id": "53272754",
   "metadata": {},
   "source": [
    "## Method 2: Propensity Score Matching\n",
    "\n",
    "We will be using propensity scores to match units in the data."
   ]
  },
  {
   "cell_type": "code",
   "execution_count": 11,
   "id": "e66e4c44",
   "metadata": {
    "execution": {
     "iopub.execute_input": "2023-05-06T08:55:01.642655Z",
     "iopub.status.busy": "2023-05-06T08:55:01.642310Z",
     "iopub.status.idle": "2023-05-06T08:55:04.998891Z",
     "shell.execute_reply": "2023-05-06T08:55:04.998296Z"
    }
   },
   "outputs": [
    {
     "name": "stdout",
     "output_type": "stream",
     "text": [
      "*** Causal Estimate ***\n",
      "\n",
      "## Identified estimand\n",
      "Estimand type: EstimandType.NONPARAMETRIC_ATE\n",
      "\n",
      "### Estimand : 1\n",
      "Estimand name: backdoor\n",
      "Estimand expression:\n",
      "  d                       \n",
      "─────(E[y|W3,W1,W0,W2,W4])\n",
      "d[v₀]                     \n",
      "Estimand assumption 1, Unconfoundedness: If U→{v0} and U→y then P(y|v0,W3,W1,W0,W2,W4,U) = P(y|v0,W3,W1,W0,W2,W4)\n",
      "\n",
      "## Realized estimand\n",
      "b: y~v0+W3+W1+W0+W2+W4\n",
      "Target units: atc\n",
      "\n",
      "## Estimate\n",
      "Mean value: 1.0060075826293056\n",
      "\n",
      "Causal Estimate is 1.0060075826293056\n"
     ]
    }
   ],
   "source": [
    "causal_estimate_match = model.estimate_effect(identified_estimand,\n",
    "                                              method_name=\"backdoor.propensity_score_matching\",\n",
    "                                              target_units=\"atc\")\n",
    "print(causal_estimate_match)\n",
    "print(\"Causal Estimate is \" + str(causal_estimate_match.value))"
   ]
  },
  {
   "cell_type": "code",
   "execution_count": 12,
   "id": "5a6e309e",
   "metadata": {
    "execution": {
     "iopub.execute_input": "2023-05-06T08:55:05.002034Z",
     "iopub.status.busy": "2023-05-06T08:55:05.001620Z",
     "iopub.status.idle": "2023-05-06T08:55:05.029835Z",
     "shell.execute_reply": "2023-05-06T08:55:05.029239Z"
    }
   },
   "outputs": [
    {
     "name": "stdout",
     "output_type": "stream",
     "text": [
      "Increasing the treatment variable(s) [v0] from 0 to 1 causes an increase of 1.0060075826293056 in the expected value of the outcome [['y']], over the data distribution/population represented by the dataset.\n"
     ]
    }
   ],
   "source": [
    "# Textual Interpreter\n",
    "interpretation = causal_estimate_match.interpret(method_name=\"textual_effect_interpreter\")"
   ]
  },
  {
   "cell_type": "markdown",
   "id": "fc702880",
   "metadata": {},
   "source": [
    "Cannot use propensity balance interpretor here since the interpreter method only supports propensity score stratification estimator."
   ]
  },
  {
   "cell_type": "markdown",
   "id": "d24a1129",
   "metadata": {},
   "source": [
    "## Method 3: Weighting\n",
    "\n",
    "We will be using (inverse) propensity scores to assign weights to units in the data. DoWhy supports a few different weighting schemes:\n",
    "1. Vanilla Inverse Propensity Score weighting (IPS) (weighting_scheme=\"ips_weight\")\n",
    "2. Self-normalized IPS weighting (also known as the Hajek estimator) (weighting_scheme=\"ips_normalized_weight\")\n",
    "3. Stabilized IPS weighting (weighting_scheme = \"ips_stabilized_weight\")"
   ]
  },
  {
   "cell_type": "code",
   "execution_count": 13,
   "id": "9d9637e6",
   "metadata": {
    "execution": {
     "iopub.execute_input": "2023-05-06T08:55:05.032626Z",
     "iopub.status.busy": "2023-05-06T08:55:05.032304Z",
     "iopub.status.idle": "2023-05-06T08:55:05.079235Z",
     "shell.execute_reply": "2023-05-06T08:55:05.078622Z"
    }
   },
   "outputs": [
    {
     "name": "stdout",
     "output_type": "stream",
     "text": [
      "*** Causal Estimate ***\n",
      "\n",
      "## Identified estimand\n",
      "Estimand type: EstimandType.NONPARAMETRIC_ATE\n",
      "\n",
      "### Estimand : 1\n",
      "Estimand name: backdoor\n",
      "Estimand expression:\n",
      "  d                       \n",
      "─────(E[y|W3,W1,W0,W2,W4])\n",
      "d[v₀]                     \n",
      "Estimand assumption 1, Unconfoundedness: If U→{v0} and U→y then P(y|v0,W3,W1,W0,W2,W4,U) = P(y|v0,W3,W1,W0,W2,W4)\n",
      "\n",
      "## Realized estimand\n",
      "b: y~v0+W3+W1+W0+W2+W4\n",
      "Target units: ate\n",
      "\n",
      "## Estimate\n",
      "Mean value: 1.0174194869151547\n",
      "\n",
      "Causal Estimate is 1.0174194869151547\n"
     ]
    }
   ],
   "source": [
    "causal_estimate_ipw = model.estimate_effect(identified_estimand,\n",
    "                                            method_name=\"backdoor.propensity_score_weighting\",\n",
    "                                            target_units = \"ate\",\n",
    "                                            method_params={\"weighting_scheme\":\"ips_weight\"})\n",
    "print(causal_estimate_ipw)\n",
    "print(\"Causal Estimate is \" + str(causal_estimate_ipw.value))"
   ]
  },
  {
   "cell_type": "code",
   "execution_count": 14,
   "id": "e85bfdc9",
   "metadata": {
    "execution": {
     "iopub.execute_input": "2023-05-06T08:55:05.082024Z",
     "iopub.status.busy": "2023-05-06T08:55:05.081706Z",
     "iopub.status.idle": "2023-05-06T08:55:05.110574Z",
     "shell.execute_reply": "2023-05-06T08:55:05.109950Z"
    }
   },
   "outputs": [
    {
     "name": "stdout",
     "output_type": "stream",
     "text": [
      "Increasing the treatment variable(s) [v0] from 0 to 1 causes an increase of 1.0174194869151547 in the expected value of the outcome [['y']], over the data distribution/population represented by the dataset.\n"
     ]
    }
   ],
   "source": [
    "# Textual Interpreter\n",
    "interpretation = causal_estimate_ipw.interpret(method_name=\"textual_effect_interpreter\")"
   ]
  },
  {
   "cell_type": "code",
   "execution_count": 15,
   "id": "698093c2",
   "metadata": {
    "execution": {
     "iopub.execute_input": "2023-05-06T08:55:05.113201Z",
     "iopub.status.busy": "2023-05-06T08:55:05.112884Z",
     "iopub.status.idle": "2023-05-06T08:55:05.417499Z",
     "shell.execute_reply": "2023-05-06T08:55:05.416913Z"
    }
   },
   "outputs": [
    {
     "data": {
      "image/png": "[encoded data removed]",
      "text/plain": [
       "<Figure size 800x800 with 2 Axes>"
      ]
     },
     "metadata": {},
     "output_type": "display_data"
    }
   ],
   "source": [
    "interpretation = causal_estimate_ipw.interpret(method_name=\"confounder_distribution_interpreter\", fig_size=(8,8), font_size=12, var_name='W4', var_type='discrete')"
   ]
  },
  {
   "cell_type": "code",
   "execution_count": null,
   "id": "4ba7331c",
   "metadata": {},
   "outputs": [],
   "source": []
  }
 ],
 "metadata": {
  "kernelspec": {
   "display_name": "Python 3",
   "language": "python",
   "name": "python3"
  },
  "language_info": {
   "codemirror_mode": {
    "name": "ipython",
    "version": 3
   },
   "file_extension": ".py",
   "mimetype": "text/x-python",
   "name": "python",
   "nbconvert_exporter": "python",
   "pygments_lexer": "ipython3",
   "version": "3.8.10"
  },
  "toc": {
   "base_numbering": 1,
   "nav_menu": {},
   "number_sections": false,
   "sideBar": true,
   "skip_h1_title": true,
   "title_cell": "Table of Contents",
   "title_sidebar": "Contents",
   "toc_cell": false,
   "toc_position": {},
   "toc_section_display": true,
   "toc_window_display": false
  }
 },
 "nbformat": 4,
 "nbformat_minor": 5
}
