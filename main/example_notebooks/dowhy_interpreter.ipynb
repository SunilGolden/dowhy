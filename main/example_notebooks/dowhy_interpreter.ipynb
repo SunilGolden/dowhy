{
 "cells": [
  {
   "cell_type": "markdown",
   "id": "c86f8ab6",
   "metadata": {},
   "source": [
    "# DoWhy: Interpreters for Causal Estimators\n",
    "\n",
    "This is a quick introduction to the use of interpreters in the DoWhy causal inference library.\n",
    "We will load in a sample dataset, use different methods for estimating the causal effect of a (pre-specified)treatment variable on a (pre-specified) outcome variable and demonstrate how to interpret the obtained results.\n",
    "\n",
    "First, let us add the required path for Python to find the DoWhy code and load all required packages"
   ]
  },
  {
   "cell_type": "code",
   "execution_count": 1,
   "id": "5b5e172d",
   "metadata": {
    "execution": {
     "iopub.execute_input": "2023-01-16T04:34:10.769672Z",
     "iopub.status.busy": "2023-01-16T04:34:10.769370Z",
     "iopub.status.idle": "2023-01-16T04:34:10.784827Z",
     "shell.execute_reply": "2023-01-16T04:34:10.784298Z"
    }
   },
   "outputs": [],
   "source": [
    "%load_ext autoreload\n",
    "%autoreload 2"
   ]
  },
  {
   "cell_type": "code",
   "execution_count": 2,
   "id": "6b7b534b",
   "metadata": {
    "execution": {
     "iopub.execute_input": "2023-01-16T04:34:10.787240Z",
     "iopub.status.busy": "2023-01-16T04:34:10.787013Z",
     "iopub.status.idle": "2023-01-16T04:34:12.593469Z",
     "shell.execute_reply": "2023-01-16T04:34:12.592846Z"
    }
   },
   "outputs": [],
   "source": [
    "import numpy as np\n",
    "import pandas as pd\n",
    "import logging\n",
    "\n",
    "import dowhy\n",
    "from dowhy import CausalModel\n",
    "import dowhy.datasets "
   ]
  },
  {
   "cell_type": "markdown",
   "id": "7f2da5ff",
   "metadata": {},
   "source": [
    "Now, let us load a dataset. For simplicity, we simulate a dataset with linear relationships between common causes and treatment, and common causes and outcome.\n",
    "\n",
    "Beta is the true causal effect."
   ]
  },
  {
   "cell_type": "code",
   "execution_count": 3,
   "id": "ae1a8c86",
   "metadata": {
    "execution": {
     "iopub.execute_input": "2023-01-16T04:34:12.596999Z",
     "iopub.status.busy": "2023-01-16T04:34:12.596336Z",
     "iopub.status.idle": "2023-01-16T04:34:12.868350Z",
     "shell.execute_reply": "2023-01-16T04:34:12.867765Z"
    }
   },
   "outputs": [
    {
     "name": "stdout",
     "output_type": "stream",
     "text": [
      "8172\n"
     ]
    },
    {
     "data": {
      "text/html": [
       "<div>\n",
       "<style scoped>\n",
       "    .dataframe tbody tr th:only-of-type {\n",
       "        vertical-align: middle;\n",
       "    }\n",
       "\n",
       "    .dataframe tbody tr th {\n",
       "        vertical-align: top;\n",
       "    }\n",
       "\n",
       "    .dataframe thead th {\n",
       "        text-align: right;\n",
       "    }\n",
       "</style>\n",
       "<table border=\"1\" class=\"dataframe\">\n",
       "  <thead>\n",
       "    <tr style=\"text-align: right;\">\n",
       "      <th></th>\n",
       "      <th>Z0</th>\n",
       "      <th>Z1</th>\n",
       "      <th>W0</th>\n",
       "      <th>W1</th>\n",
       "      <th>W2</th>\n",
       "      <th>W3</th>\n",
       "      <th>W4</th>\n",
       "      <th>v0</th>\n",
       "      <th>y</th>\n",
       "    </tr>\n",
       "  </thead>\n",
       "  <tbody>\n",
       "    <tr>\n",
       "      <th>0</th>\n",
       "      <td>1.0</td>\n",
       "      <td>0.937559</td>\n",
       "      <td>1.432869</td>\n",
       "      <td>0.220092</td>\n",
       "      <td>1.084881</td>\n",
       "      <td>-0.581738</td>\n",
       "      <td>0</td>\n",
       "      <td>True</td>\n",
       "      <td>1.789484</td>\n",
       "    </tr>\n",
       "    <tr>\n",
       "      <th>1</th>\n",
       "      <td>1.0</td>\n",
       "      <td>0.488408</td>\n",
       "      <td>0.310790</td>\n",
       "      <td>0.151167</td>\n",
       "      <td>0.852782</td>\n",
       "      <td>-1.308656</td>\n",
       "      <td>3</td>\n",
       "      <td>True</td>\n",
       "      <td>3.700094</td>\n",
       "    </tr>\n",
       "    <tr>\n",
       "      <th>2</th>\n",
       "      <td>0.0</td>\n",
       "      <td>0.494478</td>\n",
       "      <td>0.445926</td>\n",
       "      <td>0.796164</td>\n",
       "      <td>0.372177</td>\n",
       "      <td>3.532927</td>\n",
       "      <td>0</td>\n",
       "      <td>True</td>\n",
       "      <td>3.731637</td>\n",
       "    </tr>\n",
       "    <tr>\n",
       "      <th>3</th>\n",
       "      <td>0.0</td>\n",
       "      <td>0.458455</td>\n",
       "      <td>0.756221</td>\n",
       "      <td>-0.483653</td>\n",
       "      <td>-0.258467</td>\n",
       "      <td>-0.441841</td>\n",
       "      <td>1</td>\n",
       "      <td>True</td>\n",
       "      <td>1.090482</td>\n",
       "    </tr>\n",
       "    <tr>\n",
       "      <th>4</th>\n",
       "      <td>1.0</td>\n",
       "      <td>0.701790</td>\n",
       "      <td>-0.668134</td>\n",
       "      <td>-1.155915</td>\n",
       "      <td>1.420994</td>\n",
       "      <td>-0.297471</td>\n",
       "      <td>1</td>\n",
       "      <td>True</td>\n",
       "      <td>1.415764</td>\n",
       "    </tr>\n",
       "    <tr>\n",
       "      <th>...</th>\n",
       "      <td>...</td>\n",
       "      <td>...</td>\n",
       "      <td>...</td>\n",
       "      <td>...</td>\n",
       "      <td>...</td>\n",
       "      <td>...</td>\n",
       "      <td>...</td>\n",
       "      <td>...</td>\n",
       "      <td>...</td>\n",
       "    </tr>\n",
       "    <tr>\n",
       "      <th>9995</th>\n",
       "      <td>0.0</td>\n",
       "      <td>0.505602</td>\n",
       "      <td>0.705332</td>\n",
       "      <td>-1.025469</td>\n",
       "      <td>-0.165570</td>\n",
       "      <td>-0.613067</td>\n",
       "      <td>1</td>\n",
       "      <td>True</td>\n",
       "      <td>0.540947</td>\n",
       "    </tr>\n",
       "    <tr>\n",
       "      <th>9996</th>\n",
       "      <td>1.0</td>\n",
       "      <td>0.130455</td>\n",
       "      <td>0.082475</td>\n",
       "      <td>0.067366</td>\n",
       "      <td>-0.349166</td>\n",
       "      <td>1.170772</td>\n",
       "      <td>2</td>\n",
       "      <td>True</td>\n",
       "      <td>3.137614</td>\n",
       "    </tr>\n",
       "    <tr>\n",
       "      <th>9997</th>\n",
       "      <td>0.0</td>\n",
       "      <td>0.911318</td>\n",
       "      <td>0.068774</td>\n",
       "      <td>1.610440</td>\n",
       "      <td>-0.494502</td>\n",
       "      <td>2.740738</td>\n",
       "      <td>2</td>\n",
       "      <td>True</td>\n",
       "      <td>5.286799</td>\n",
       "    </tr>\n",
       "    <tr>\n",
       "      <th>9998</th>\n",
       "      <td>0.0</td>\n",
       "      <td>0.545728</td>\n",
       "      <td>-1.622354</td>\n",
       "      <td>0.000419</td>\n",
       "      <td>0.249491</td>\n",
       "      <td>0.257389</td>\n",
       "      <td>1</td>\n",
       "      <td>False</td>\n",
       "      <td>0.954579</td>\n",
       "    </tr>\n",
       "    <tr>\n",
       "      <th>9999</th>\n",
       "      <td>0.0</td>\n",
       "      <td>0.312969</td>\n",
       "      <td>0.375986</td>\n",
       "      <td>-2.686507</td>\n",
       "      <td>0.433567</td>\n",
       "      <td>1.060065</td>\n",
       "      <td>3</td>\n",
       "      <td>True</td>\n",
       "      <td>1.792781</td>\n",
       "    </tr>\n",
       "  </tbody>\n",
       "</table>\n",
       "<p>10000 rows × 9 columns</p>\n",
       "</div>"
      ],
      "text/plain": [
       "       Z0        Z1        W0        W1        W2        W3 W4     v0  \\\n",
       "0     1.0  0.937559  1.432869  0.220092  1.084881 -0.581738  0   True   \n",
       "1     1.0  0.488408  0.310790  0.151167  0.852782 -1.308656  3   True   \n",
       "2     0.0  0.494478  0.445926  0.796164  0.372177  3.532927  0   True   \n",
       "3     0.0  0.458455  0.756221 -0.483653 -0.258467 -0.441841  1   True   \n",
       "4     1.0  0.701790 -0.668134 -1.155915  1.420994 -0.297471  1   True   \n",
       "...   ...       ...       ...       ...       ...       ... ..    ...   \n",
       "9995  0.0  0.505602  0.705332 -1.025469 -0.165570 -0.613067  1   True   \n",
       "9996  1.0  0.130455  0.082475  0.067366 -0.349166  1.170772  2   True   \n",
       "9997  0.0  0.911318  0.068774  1.610440 -0.494502  2.740738  2   True   \n",
       "9998  0.0  0.545728 -1.622354  0.000419  0.249491  0.257389  1  False   \n",
       "9999  0.0  0.312969  0.375986 -2.686507  0.433567  1.060065  3   True   \n",
       "\n",
       "             y  \n",
       "0     1.789484  \n",
       "1     3.700094  \n",
       "2     3.731637  \n",
       "3     1.090482  \n",
       "4     1.415764  \n",
       "...        ...  \n",
       "9995  0.540947  \n",
       "9996  3.137614  \n",
       "9997  5.286799  \n",
       "9998  0.954579  \n",
       "9999  1.792781  \n",
       "\n",
       "[10000 rows x 9 columns]"
      ]
     },
     "execution_count": 3,
     "metadata": {},
     "output_type": "execute_result"
    }
   ],
   "source": [
    "data = dowhy.datasets.linear_dataset(beta=1,\n",
    "        num_common_causes=5, \n",
    "        num_instruments = 2,\n",
    "        num_treatments=1,\n",
    "        num_discrete_common_causes=1,\n",
    "        num_samples=10000,\n",
    "        treatment_is_binary=True,\n",
    "        outcome_is_binary=False)\n",
    "df = data[\"df\"]\n",
    "print(df[df.v0==True].shape[0])\n",
    "df"
   ]
  },
  {
   "cell_type": "markdown",
   "id": "ec5646fe",
   "metadata": {},
   "source": [
    "Note that we are using a pandas dataframe to load the data."
   ]
  },
  {
   "cell_type": "markdown",
   "id": "9a96f3e1",
   "metadata": {},
   "source": [
    "## Identifying the causal estimand"
   ]
  },
  {
   "cell_type": "markdown",
   "id": "ea4f943c",
   "metadata": {},
   "source": [
    "We now input a causal graph in the GML graph format."
   ]
  },
  {
   "cell_type": "code",
   "execution_count": 4,
   "id": "f85dc245",
   "metadata": {
    "execution": {
     "iopub.execute_input": "2023-01-16T04:34:12.871173Z",
     "iopub.status.busy": "2023-01-16T04:34:12.870934Z",
     "iopub.status.idle": "2023-01-16T04:34:12.900965Z",
     "shell.execute_reply": "2023-01-16T04:34:12.900392Z"
    }
   },
   "outputs": [],
   "source": [
    "# With graph\n",
    "model=CausalModel(\n",
    "        data = df,\n",
    "        treatment=data[\"treatment_name\"],\n",
    "        outcome=data[\"outcome_name\"],\n",
    "        graph=data[\"gml_graph\"],\n",
    "        instruments=data[\"instrument_names\"]\n",
    "        )"
   ]
  },
  {
   "cell_type": "code",
   "execution_count": 5,
   "id": "1f24f58c",
   "metadata": {
    "execution": {
     "iopub.execute_input": "2023-01-16T04:34:12.903816Z",
     "iopub.status.busy": "2023-01-16T04:34:12.903600Z",
     "iopub.status.idle": "2023-01-16T04:34:12.962440Z",
     "shell.execute_reply": "2023-01-16T04:34:12.961837Z"
    }
   },
   "outputs": [],
   "source": [
    "model.view_model()"
   ]
  },
  {
   "cell_type": "code",
   "execution_count": 6,
   "id": "b7f1f2b4",
   "metadata": {
    "execution": {
     "iopub.execute_input": "2023-01-16T04:34:12.965392Z",
     "iopub.status.busy": "2023-01-16T04:34:12.964856Z",
     "iopub.status.idle": "2023-01-16T04:34:12.994437Z",
     "shell.execute_reply": "2023-01-16T04:34:12.993860Z"
    }
   },
   "outputs": [
    {
     "data": {
      "image/png": "[encoded data removed]",
      "text/plain": [
       "<IPython.core.display.Image object>"
      ]
     },
     "metadata": {},
     "output_type": "display_data"
    }
   ],
   "source": [
    "from IPython.display import Image, display\n",
    "display(Image(filename=\"causal_model.png\"))"
   ]
  },
  {
   "cell_type": "markdown",
   "id": "a6001ed3",
   "metadata": {},
   "source": [
    "We get a causal graph. Now identification and estimation is done."
   ]
  },
  {
   "cell_type": "code",
   "execution_count": 7,
   "id": "9fdab4ac",
   "metadata": {
    "execution": {
     "iopub.execute_input": "2023-01-16T04:34:12.997486Z",
     "iopub.status.busy": "2023-01-16T04:34:12.997279Z",
     "iopub.status.idle": "2023-01-16T04:34:13.222584Z",
     "shell.execute_reply": "2023-01-16T04:34:13.221920Z"
    }
   },
   "outputs": [
    {
     "name": "stdout",
     "output_type": "stream",
     "text": [
      "Estimand type: EstimandType.NONPARAMETRIC_ATE\n",
      "\n",
      "### Estimand : 1\n",
      "Estimand name: backdoor\n",
      "Estimand expression:\n",
      "  d                       \n",
      "─────(E[y|W4,W2,W1,W0,W3])\n",
      "d[v₀]                     \n",
      "Estimand assumption 1, Unconfoundedness: If U→{v0} and U→y then P(y|v0,W4,W2,W1,W0,W3,U) = P(y|v0,W4,W2,W1,W0,W3)\n",
      "\n",
      "### Estimand : 2\n",
      "Estimand name: iv\n",
      "Estimand expression:\n",
      " ⎡                              -1⎤\n",
      " ⎢    d        ⎛    d          ⎞  ⎥\n",
      "E⎢─────────(y)⋅⎜─────────([v₀])⎟  ⎥\n",
      " ⎣d[Z₀  Z₁]    ⎝d[Z₀  Z₁]      ⎠  ⎦\n",
      "Estimand assumption 1, As-if-random: If U→→y then ¬(U →→{Z0,Z1})\n",
      "Estimand assumption 2, Exclusion: If we remove {Z0,Z1}→{v0}, then ¬({Z0,Z1}→y)\n",
      "\n",
      "### Estimand : 3\n",
      "Estimand name: frontdoor\n",
      "No such variable(s) found!\n",
      "\n"
     ]
    }
   ],
   "source": [
    "identified_estimand = model.identify_effect(proceed_when_unidentifiable=True)\n",
    "print(identified_estimand)"
   ]
  },
  {
   "cell_type": "markdown",
   "id": "308e3db9",
   "metadata": {},
   "source": [
    "## Method 1: Propensity Score Stratification\n",
    "\n",
    "We will be using propensity scores to stratify units in the data."
   ]
  },
  {
   "cell_type": "code",
   "execution_count": 8,
   "id": "2450cdb3",
   "metadata": {
    "execution": {
     "iopub.execute_input": "2023-01-16T04:34:13.225627Z",
     "iopub.status.busy": "2023-01-16T04:34:13.225122Z",
     "iopub.status.idle": "2023-01-16T04:34:13.821172Z",
     "shell.execute_reply": "2023-01-16T04:34:13.820557Z"
    }
   },
   "outputs": [
    {
     "name": "stdout",
     "output_type": "stream",
     "text": [
      "*** Causal Estimate ***\n",
      "\n",
      "## Identified estimand\n",
      "Estimand type: EstimandType.NONPARAMETRIC_ATE\n",
      "\n",
      "### Estimand : 1\n",
      "Estimand name: backdoor\n",
      "Estimand expression:\n",
      "  d                       \n",
      "─────(E[y|W4,W2,W1,W0,W3])\n",
      "d[v₀]                     \n",
      "Estimand assumption 1, Unconfoundedness: If U→{v0} and U→y then P(y|v0,W4,W2,W1,W0,W3,U) = P(y|v0,W4,W2,W1,W0,W3)\n",
      "\n",
      "## Realized estimand\n",
      "b: y~v0+W4+W2+W1+W0+W3\n",
      "Target units: att\n",
      "\n",
      "## Estimate\n",
      "Mean value: 1.0026374781705831\n",
      "\n",
      "Causal Estimate is 1.0026374781705831\n"
     ]
    }
   ],
   "source": [
    "causal_estimate_strat = model.estimate_effect(identified_estimand,\n",
    "                                              method_name=\"backdoor.propensity_score_stratification\",\n",
    "                                              target_units=\"att\")\n",
    "print(causal_estimate_strat)\n",
    "print(\"Causal Estimate is \" + str(causal_estimate_strat.value))"
   ]
  },
  {
   "cell_type": "markdown",
   "id": "90091a7e",
   "metadata": {},
   "source": [
    "### Textual Interpreter\n",
    "\n",
    "The textual Interpreter describes (in words) the effect of unit change in the treatment variable on the outcome variable."
   ]
  },
  {
   "cell_type": "code",
   "execution_count": 9,
   "id": "6d4c4ab6",
   "metadata": {
    "execution": {
     "iopub.execute_input": "2023-01-16T04:34:13.824459Z",
     "iopub.status.busy": "2023-01-16T04:34:13.823962Z",
     "iopub.status.idle": "2023-01-16T04:34:13.854370Z",
     "shell.execute_reply": "2023-01-16T04:34:13.853808Z"
    }
   },
   "outputs": [
    {
     "name": "stdout",
     "output_type": "stream",
     "text": [
      "Increasing the treatment variable(s) [v0] from 0 to 1 causes an increase of 1.0026374781705831 in the expected value of the outcome [y], over the data distribution/population represented by the dataset.\n"
     ]
    }
   ],
   "source": [
    "# Textual Interpreter\n",
    "interpretation = causal_estimate_strat.interpret(method_name=\"textual_effect_interpreter\")"
   ]
  },
  {
   "cell_type": "markdown",
   "id": "a0a48b7d",
   "metadata": {},
   "source": [
    "### Visual Interpreter\n",
    "\n",
    "The visual interpreter plots the change in the standardized mean difference (SMD) before and after Propensity Score based adjustment of the dataset. The formula for SMD is given below.\n",
    "\n",
    "\n",
    "$SMD = \\frac{\\bar X_{1} - \\bar X_{2}}{\\sqrt{(S_{1}^{2} + S_{2}^{2})/2}}$\n",
    "\n",
    "Here, $\\bar X_{1}$ and $\\bar X_{2}$ are the sample mean for the treated and control groups.\n"
   ]
  },
  {
   "cell_type": "code",
   "execution_count": 10,
   "id": "3883accf",
   "metadata": {
    "execution": {
     "iopub.execute_input": "2023-01-16T04:34:13.857387Z",
     "iopub.status.busy": "2023-01-16T04:34:13.856915Z",
     "iopub.status.idle": "2023-01-16T04:34:14.721633Z",
     "shell.execute_reply": "2023-01-16T04:34:14.721036Z"
    }
   },
   "outputs": [
    {
     "data": {
      "image/png": "[encoded data removed]",
      "text/plain": [
       "<Figure size 640x480 with 1 Axes>"
      ]
     },
     "metadata": {},
     "output_type": "display_data"
    }
   ],
   "source": [
    "# Visual Interpreter\n",
    "interpretation = causal_estimate_strat.interpret(method_name=\"propensity_balance_interpreter\")"
   ]
  },
  {
   "cell_type": "markdown",
   "id": "c05f4078",
   "metadata": {},
   "source": [
    "This plot shows how the SMD decreases from the unadjusted to the stratified units. "
   ]
  },
  {
   "cell_type": "markdown",
   "id": "018603cd",
   "metadata": {},
   "source": [
    "## Method 2: Propensity Score Matching\n",
    "\n",
    "We will be using propensity scores to match units in the data."
   ]
  },
  {
   "cell_type": "code",
   "execution_count": 11,
   "id": "9207b643",
   "metadata": {
    "execution": {
     "iopub.execute_input": "2023-01-16T04:34:14.724700Z",
     "iopub.status.busy": "2023-01-16T04:34:14.724075Z",
     "iopub.status.idle": "2023-01-16T04:34:18.147184Z",
     "shell.execute_reply": "2023-01-16T04:34:18.146334Z"
    }
   },
   "outputs": [
    {
     "name": "stdout",
     "output_type": "stream",
     "text": [
      "*** Causal Estimate ***\n",
      "\n",
      "## Identified estimand\n",
      "Estimand type: EstimandType.NONPARAMETRIC_ATE\n",
      "\n",
      "### Estimand : 1\n",
      "Estimand name: backdoor\n",
      "Estimand expression:\n",
      "  d                       \n",
      "─────(E[y|W4,W2,W1,W0,W3])\n",
      "d[v₀]                     \n",
      "Estimand assumption 1, Unconfoundedness: If U→{v0} and U→y then P(y|v0,W4,W2,W1,W0,W3,U) = P(y|v0,W4,W2,W1,W0,W3)\n",
      "\n",
      "## Realized estimand\n",
      "b: y~v0+W4+W2+W1+W0+W3\n",
      "Target units: atc\n",
      "\n",
      "## Estimate\n",
      "Mean value: 1.0164262922610021\n",
      "\n",
      "Causal Estimate is 1.0164262922610021\n"
     ]
    }
   ],
   "source": [
    "causal_estimate_match = model.estimate_effect(identified_estimand,\n",
    "                                              method_name=\"backdoor.propensity_score_matching\",\n",
    "                                              target_units=\"atc\")\n",
    "print(causal_estimate_match)\n",
    "print(\"Causal Estimate is \" + str(causal_estimate_match.value))"
   ]
  },
  {
   "cell_type": "code",
   "execution_count": 12,
   "id": "505d321a",
   "metadata": {
    "execution": {
     "iopub.execute_input": "2023-01-16T04:34:18.149980Z",
     "iopub.status.busy": "2023-01-16T04:34:18.149641Z",
     "iopub.status.idle": "2023-01-16T04:34:18.178906Z",
     "shell.execute_reply": "2023-01-16T04:34:18.178303Z"
    }
   },
   "outputs": [
    {
     "name": "stdout",
     "output_type": "stream",
     "text": [
      "Increasing the treatment variable(s) [v0] from 0 to 1 causes an increase of 1.0164262922610021 in the expected value of the outcome [y], over the data distribution/population represented by the dataset.\n"
     ]
    }
   ],
   "source": [
    "# Textual Interpreter\n",
    "interpretation = causal_estimate_match.interpret(method_name=\"textual_effect_interpreter\")"
   ]
  },
  {
   "cell_type": "markdown",
   "id": "30a1c98f",
   "metadata": {},
   "source": [
    "Cannot use propensity balance interpretor here since the interpreter method only supports propensity score stratification estimator."
   ]
  },
  {
   "cell_type": "markdown",
   "id": "6425ace4",
   "metadata": {},
   "source": [
    "## Method 3: Weighting\n",
    "\n",
    "We will be using (inverse) propensity scores to assign weights to units in the data. DoWhy supports a few different weighting schemes:\n",
    "1. Vanilla Inverse Propensity Score weighting (IPS) (weighting_scheme=\"ips_weight\")\n",
    "2. Self-normalized IPS weighting (also known as the Hajek estimator) (weighting_scheme=\"ips_normalized_weight\")\n",
    "3. Stabilized IPS weighting (weighting_scheme = \"ips_stabilized_weight\")"
   ]
  },
  {
   "cell_type": "code",
   "execution_count": 13,
   "id": "2d20355e",
   "metadata": {
    "execution": {
     "iopub.execute_input": "2023-01-16T04:34:18.181841Z",
     "iopub.status.busy": "2023-01-16T04:34:18.181357Z",
     "iopub.status.idle": "2023-01-16T04:34:18.231843Z",
     "shell.execute_reply": "2023-01-16T04:34:18.231259Z"
    }
   },
   "outputs": [
    {
     "name": "stdout",
     "output_type": "stream",
     "text": [
      "*** Causal Estimate ***\n",
      "\n",
      "## Identified estimand\n",
      "Estimand type: EstimandType.NONPARAMETRIC_ATE\n",
      "\n",
      "### Estimand : 1\n",
      "Estimand name: backdoor\n",
      "Estimand expression:\n",
      "  d                       \n",
      "─────(E[y|W4,W2,W1,W0,W3])\n",
      "d[v₀]                     \n",
      "Estimand assumption 1, Unconfoundedness: If U→{v0} and U→y then P(y|v0,W4,W2,W1,W0,W3,U) = P(y|v0,W4,W2,W1,W0,W3)\n",
      "\n",
      "## Realized estimand\n",
      "b: y~v0+W4+W2+W1+W0+W3\n",
      "Target units: ate\n",
      "\n",
      "## Estimate\n",
      "Mean value: 1.1236035178106105\n",
      "\n",
      "Causal Estimate is 1.1236035178106105\n"
     ]
    }
   ],
   "source": [
    "causal_estimate_ipw = model.estimate_effect(identified_estimand,\n",
    "                                            method_name=\"backdoor.propensity_score_weighting\",\n",
    "                                            target_units = \"ate\",\n",
    "                                            method_params={\"weighting_scheme\":\"ips_weight\"})\n",
    "print(causal_estimate_ipw)\n",
    "print(\"Causal Estimate is \" + str(causal_estimate_ipw.value))"
   ]
  },
  {
   "cell_type": "code",
   "execution_count": 14,
   "id": "7ef3cfd6",
   "metadata": {
    "execution": {
     "iopub.execute_input": "2023-01-16T04:34:18.234455Z",
     "iopub.status.busy": "2023-01-16T04:34:18.234132Z",
     "iopub.status.idle": "2023-01-16T04:34:18.261985Z",
     "shell.execute_reply": "2023-01-16T04:34:18.261407Z"
    }
   },
   "outputs": [
    {
     "name": "stdout",
     "output_type": "stream",
     "text": [
      "Increasing the treatment variable(s) [v0] from 0 to 1 causes an increase of 1.1236035178106105 in the expected value of the outcome [y], over the data distribution/population represented by the dataset.\n"
     ]
    }
   ],
   "source": [
    "# Textual Interpreter\n",
    "interpretation = causal_estimate_ipw.interpret(method_name=\"textual_effect_interpreter\")"
   ]
  },
  {
   "cell_type": "code",
   "execution_count": 15,
   "id": "c9d4e070",
   "metadata": {
    "execution": {
     "iopub.execute_input": "2023-01-16T04:34:18.264633Z",
     "iopub.status.busy": "2023-01-16T04:34:18.264097Z",
     "iopub.status.idle": "2023-01-16T04:34:18.556488Z",
     "shell.execute_reply": "2023-01-16T04:34:18.555864Z"
    }
   },
   "outputs": [
    {
     "data": {
      "image/png": "[encoded data removed]",
      "text/plain": [
       "<Figure size 800x800 with 2 Axes>"
      ]
     },
     "metadata": {},
     "output_type": "display_data"
    }
   ],
   "source": [
    "interpretation = causal_estimate_ipw.interpret(method_name=\"confounder_distribution_interpreter\", fig_size=(8,8), font_size=12, var_name='W4', var_type='discrete')"
   ]
  },
  {
   "cell_type": "code",
   "execution_count": null,
   "id": "0d25cb8b",
   "metadata": {},
   "outputs": [],
   "source": []
  }
 ],
 "metadata": {
  "kernelspec": {
   "display_name": "Python 3",
   "language": "python",
   "name": "python3"
  },
  "language_info": {
   "codemirror_mode": {
    "name": "ipython",
    "version": 3
   },
   "file_extension": ".py",
   "mimetype": "text/x-python",
   "name": "python",
   "nbconvert_exporter": "python",
   "pygments_lexer": "ipython3",
   "version": "3.8.10"
  },
  "toc": {
   "base_numbering": 1,
   "nav_menu": {},
   "number_sections": false,
   "sideBar": true,
   "skip_h1_title": true,
   "title_cell": "Table of Contents",
   "title_sidebar": "Contents",
   "toc_cell": false,
   "toc_position": {},
   "toc_section_display": true,
   "toc_window_display": false
  }
 },
 "nbformat": 4,
 "nbformat_minor": 5
}
