{
 "cells": [
  {
   "cell_type": "markdown",
   "id": "fe4767fc",
   "metadata": {},
   "source": [
    "# DoWhy: Interpreters for Causal Estimators\n",
    "\n",
    "This is a quick introduction to the use of interpreters in the DoWhy causal inference library.\n",
    "We will load in a sample dataset, use different methods for estimating the causal effect of a (pre-specified)treatment variable on a (pre-specified) outcome variable and demonstrate how to interpret the obtained results.\n",
    "\n",
    "First, let us add the required path for Python to find the DoWhy code and load all required packages"
   ]
  },
  {
   "cell_type": "code",
   "execution_count": 1,
   "id": "efdab0f5",
   "metadata": {
    "execution": {
     "iopub.execute_input": "2023-03-16T13:45:48.264124Z",
     "iopub.status.busy": "2023-03-16T13:45:48.263874Z",
     "iopub.status.idle": "2023-03-16T13:45:48.279954Z",
     "shell.execute_reply": "2023-03-16T13:45:48.279354Z"
    }
   },
   "outputs": [],
   "source": [
    "%load_ext autoreload\n",
    "%autoreload 2"
   ]
  },
  {
   "cell_type": "code",
   "execution_count": 2,
   "id": "d2ce470a",
   "metadata": {
    "execution": {
     "iopub.execute_input": "2023-03-16T13:45:48.283030Z",
     "iopub.status.busy": "2023-03-16T13:45:48.282620Z",
     "iopub.status.idle": "2023-03-16T13:45:50.017338Z",
     "shell.execute_reply": "2023-03-16T13:45:50.016597Z"
    }
   },
   "outputs": [],
   "source": [
    "import numpy as np\n",
    "import pandas as pd\n",
    "import logging\n",
    "\n",
    "import dowhy\n",
    "from dowhy import CausalModel\n",
    "import dowhy.datasets "
   ]
  },
  {
   "cell_type": "markdown",
   "id": "d33b01d3",
   "metadata": {},
   "source": [
    "Now, let us load a dataset. For simplicity, we simulate a dataset with linear relationships between common causes and treatment, and common causes and outcome.\n",
    "\n",
    "Beta is the true causal effect."
   ]
  },
  {
   "cell_type": "code",
   "execution_count": 3,
   "id": "d470653a",
   "metadata": {
    "execution": {
     "iopub.execute_input": "2023-03-16T13:45:50.021531Z",
     "iopub.status.busy": "2023-03-16T13:45:50.020973Z",
     "iopub.status.idle": "2023-03-16T13:45:50.328128Z",
     "shell.execute_reply": "2023-03-16T13:45:50.327088Z"
    }
   },
   "outputs": [
    {
     "name": "stdout",
     "output_type": "stream",
     "text": [
      "8796\n"
     ]
    },
    {
     "data": {
      "text/html": [
       "<div>\n",
       "<style scoped>\n",
       "    .dataframe tbody tr th:only-of-type {\n",
       "        vertical-align: middle;\n",
       "    }\n",
       "\n",
       "    .dataframe tbody tr th {\n",
       "        vertical-align: top;\n",
       "    }\n",
       "\n",
       "    .dataframe thead th {\n",
       "        text-align: right;\n",
       "    }\n",
       "</style>\n",
       "<table border=\"1\" class=\"dataframe\">\n",
       "  <thead>\n",
       "    <tr style=\"text-align: right;\">\n",
       "      <th></th>\n",
       "      <th>Z0</th>\n",
       "      <th>Z1</th>\n",
       "      <th>W0</th>\n",
       "      <th>W1</th>\n",
       "      <th>W2</th>\n",
       "      <th>W3</th>\n",
       "      <th>W4</th>\n",
       "      <th>v0</th>\n",
       "      <th>y</th>\n",
       "    </tr>\n",
       "  </thead>\n",
       "  <tbody>\n",
       "    <tr>\n",
       "      <th>0</th>\n",
       "      <td>0.0</td>\n",
       "      <td>0.785201</td>\n",
       "      <td>-1.214054</td>\n",
       "      <td>0.127017</td>\n",
       "      <td>1.196329</td>\n",
       "      <td>-0.122617</td>\n",
       "      <td>1</td>\n",
       "      <td>True</td>\n",
       "      <td>1.031316</td>\n",
       "    </tr>\n",
       "    <tr>\n",
       "      <th>1</th>\n",
       "      <td>1.0</td>\n",
       "      <td>0.142637</td>\n",
       "      <td>0.497474</td>\n",
       "      <td>-0.748418</td>\n",
       "      <td>0.179546</td>\n",
       "      <td>-1.276905</td>\n",
       "      <td>0</td>\n",
       "      <td>True</td>\n",
       "      <td>1.222164</td>\n",
       "    </tr>\n",
       "    <tr>\n",
       "      <th>2</th>\n",
       "      <td>1.0</td>\n",
       "      <td>0.231683</td>\n",
       "      <td>-1.477938</td>\n",
       "      <td>-0.740165</td>\n",
       "      <td>-1.163991</td>\n",
       "      <td>0.120487</td>\n",
       "      <td>0</td>\n",
       "      <td>True</td>\n",
       "      <td>-1.026881</td>\n",
       "    </tr>\n",
       "    <tr>\n",
       "      <th>3</th>\n",
       "      <td>0.0</td>\n",
       "      <td>0.450856</td>\n",
       "      <td>-0.071688</td>\n",
       "      <td>1.254836</td>\n",
       "      <td>-0.622354</td>\n",
       "      <td>1.463570</td>\n",
       "      <td>2</td>\n",
       "      <td>True</td>\n",
       "      <td>2.597325</td>\n",
       "    </tr>\n",
       "    <tr>\n",
       "      <th>4</th>\n",
       "      <td>1.0</td>\n",
       "      <td>0.371532</td>\n",
       "      <td>2.408592</td>\n",
       "      <td>-0.166470</td>\n",
       "      <td>-1.272546</td>\n",
       "      <td>1.827936</td>\n",
       "      <td>1</td>\n",
       "      <td>True</td>\n",
       "      <td>3.786132</td>\n",
       "    </tr>\n",
       "    <tr>\n",
       "      <th>...</th>\n",
       "      <td>...</td>\n",
       "      <td>...</td>\n",
       "      <td>...</td>\n",
       "      <td>...</td>\n",
       "      <td>...</td>\n",
       "      <td>...</td>\n",
       "      <td>...</td>\n",
       "      <td>...</td>\n",
       "      <td>...</td>\n",
       "    </tr>\n",
       "    <tr>\n",
       "      <th>9995</th>\n",
       "      <td>0.0</td>\n",
       "      <td>0.683487</td>\n",
       "      <td>-0.980784</td>\n",
       "      <td>3.260377</td>\n",
       "      <td>-0.062360</td>\n",
       "      <td>2.874322</td>\n",
       "      <td>2</td>\n",
       "      <td>True</td>\n",
       "      <td>2.605201</td>\n",
       "    </tr>\n",
       "    <tr>\n",
       "      <th>9996</th>\n",
       "      <td>0.0</td>\n",
       "      <td>0.632583</td>\n",
       "      <td>0.553884</td>\n",
       "      <td>0.391898</td>\n",
       "      <td>1.340889</td>\n",
       "      <td>-0.690465</td>\n",
       "      <td>1</td>\n",
       "      <td>True</td>\n",
       "      <td>2.768664</td>\n",
       "    </tr>\n",
       "    <tr>\n",
       "      <th>9997</th>\n",
       "      <td>0.0</td>\n",
       "      <td>0.339884</td>\n",
       "      <td>0.185651</td>\n",
       "      <td>-0.122390</td>\n",
       "      <td>-0.757647</td>\n",
       "      <td>1.133496</td>\n",
       "      <td>0</td>\n",
       "      <td>False</td>\n",
       "      <td>0.021794</td>\n",
       "    </tr>\n",
       "    <tr>\n",
       "      <th>9998</th>\n",
       "      <td>1.0</td>\n",
       "      <td>0.679272</td>\n",
       "      <td>-1.607600</td>\n",
       "      <td>-1.500222</td>\n",
       "      <td>0.699946</td>\n",
       "      <td>1.470990</td>\n",
       "      <td>0</td>\n",
       "      <td>True</td>\n",
       "      <td>-0.454224</td>\n",
       "    </tr>\n",
       "    <tr>\n",
       "      <th>9999</th>\n",
       "      <td>0.0</td>\n",
       "      <td>0.881379</td>\n",
       "      <td>-0.110082</td>\n",
       "      <td>-0.425114</td>\n",
       "      <td>-0.388693</td>\n",
       "      <td>0.836288</td>\n",
       "      <td>2</td>\n",
       "      <td>True</td>\n",
       "      <td>2.185712</td>\n",
       "    </tr>\n",
       "  </tbody>\n",
       "</table>\n",
       "<p>10000 rows × 9 columns</p>\n",
       "</div>"
      ],
      "text/plain": [
       "       Z0        Z1        W0        W1        W2        W3 W4     v0  \\\n",
       "0     0.0  0.785201 -1.214054  0.127017  1.196329 -0.122617  1   True   \n",
       "1     1.0  0.142637  0.497474 -0.748418  0.179546 -1.276905  0   True   \n",
       "2     1.0  0.231683 -1.477938 -0.740165 -1.163991  0.120487  0   True   \n",
       "3     0.0  0.450856 -0.071688  1.254836 -0.622354  1.463570  2   True   \n",
       "4     1.0  0.371532  2.408592 -0.166470 -1.272546  1.827936  1   True   \n",
       "...   ...       ...       ...       ...       ...       ... ..    ...   \n",
       "9995  0.0  0.683487 -0.980784  3.260377 -0.062360  2.874322  2   True   \n",
       "9996  0.0  0.632583  0.553884  0.391898  1.340889 -0.690465  1   True   \n",
       "9997  0.0  0.339884  0.185651 -0.122390 -0.757647  1.133496  0  False   \n",
       "9998  1.0  0.679272 -1.607600 -1.500222  0.699946  1.470990  0   True   \n",
       "9999  0.0  0.881379 -0.110082 -0.425114 -0.388693  0.836288  2   True   \n",
       "\n",
       "             y  \n",
       "0     1.031316  \n",
       "1     1.222164  \n",
       "2    -1.026881  \n",
       "3     2.597325  \n",
       "4     3.786132  \n",
       "...        ...  \n",
       "9995  2.605201  \n",
       "9996  2.768664  \n",
       "9997  0.021794  \n",
       "9998 -0.454224  \n",
       "9999  2.185712  \n",
       "\n",
       "[10000 rows x 9 columns]"
      ]
     },
     "execution_count": 3,
     "metadata": {},
     "output_type": "execute_result"
    }
   ],
   "source": [
    "data = dowhy.datasets.linear_dataset(beta=1,\n",
    "        num_common_causes=5, \n",
    "        num_instruments = 2,\n",
    "        num_treatments=1,\n",
    "        num_discrete_common_causes=1,\n",
    "        num_samples=10000,\n",
    "        treatment_is_binary=True,\n",
    "        outcome_is_binary=False)\n",
    "df = data[\"df\"]\n",
    "print(df[df.v0==True].shape[0])\n",
    "df"
   ]
  },
  {
   "cell_type": "markdown",
   "id": "b5f7f1ab",
   "metadata": {},
   "source": [
    "Note that we are using a pandas dataframe to load the data."
   ]
  },
  {
   "cell_type": "markdown",
   "id": "68fea9bd",
   "metadata": {},
   "source": [
    "## Identifying the causal estimand"
   ]
  },
  {
   "cell_type": "markdown",
   "id": "d30d840e",
   "metadata": {},
   "source": [
    "We now input a causal graph in the GML graph format."
   ]
  },
  {
   "cell_type": "code",
   "execution_count": 4,
   "id": "95a382ed",
   "metadata": {
    "execution": {
     "iopub.execute_input": "2023-03-16T13:45:50.331060Z",
     "iopub.status.busy": "2023-03-16T13:45:50.330808Z",
     "iopub.status.idle": "2023-03-16T13:45:50.361060Z",
     "shell.execute_reply": "2023-03-16T13:45:50.360430Z"
    }
   },
   "outputs": [],
   "source": [
    "# With graph\n",
    "model=CausalModel(\n",
    "        data = df,\n",
    "        treatment=data[\"treatment_name\"],\n",
    "        outcome=data[\"outcome_name\"],\n",
    "        graph=data[\"gml_graph\"],\n",
    "        instruments=data[\"instrument_names\"]\n",
    "        )"
   ]
  },
  {
   "cell_type": "code",
   "execution_count": 5,
   "id": "febba1de",
   "metadata": {
    "execution": {
     "iopub.execute_input": "2023-03-16T13:45:50.364103Z",
     "iopub.status.busy": "2023-03-16T13:45:50.363870Z",
     "iopub.status.idle": "2023-03-16T13:45:50.424183Z",
     "shell.execute_reply": "2023-03-16T13:45:50.423365Z"
    }
   },
   "outputs": [],
   "source": [
    "model.view_model()"
   ]
  },
  {
   "cell_type": "code",
   "execution_count": 6,
   "id": "b05d6426",
   "metadata": {
    "execution": {
     "iopub.execute_input": "2023-03-16T13:45:50.427870Z",
     "iopub.status.busy": "2023-03-16T13:45:50.427294Z",
     "iopub.status.idle": "2023-03-16T13:45:50.460755Z",
     "shell.execute_reply": "2023-03-16T13:45:50.459859Z"
    }
   },
   "outputs": [
    {
     "data": {
      "image/png": "[encoded data removed]",
      "text/plain": [
       "<IPython.core.display.Image object>"
      ]
     },
     "metadata": {},
     "output_type": "display_data"
    }
   ],
   "source": [
    "from IPython.display import Image, display\n",
    "display(Image(filename=\"causal_model.png\"))"
   ]
  },
  {
   "cell_type": "markdown",
   "id": "1f8841ad",
   "metadata": {},
   "source": [
    "We get a causal graph. Now identification and estimation is done."
   ]
  },
  {
   "cell_type": "code",
   "execution_count": 7,
   "id": "dfbdf09a",
   "metadata": {
    "execution": {
     "iopub.execute_input": "2023-03-16T13:45:50.463995Z",
     "iopub.status.busy": "2023-03-16T13:45:50.463552Z",
     "iopub.status.idle": "2023-03-16T13:45:50.808579Z",
     "shell.execute_reply": "2023-03-16T13:45:50.807828Z"
    }
   },
   "outputs": [
    {
     "name": "stdout",
     "output_type": "stream",
     "text": [
      "Estimand type: EstimandType.NONPARAMETRIC_ATE\n",
      "\n",
      "### Estimand : 1\n",
      "Estimand name: backdoor\n",
      "Estimand expression:\n",
      "  d                       \n",
      "─────(E[y|W1,W3,W4,W0,W2])\n",
      "d[v₀]                     \n",
      "Estimand assumption 1, Unconfoundedness: If U→{v0} and U→y then P(y|v0,W1,W3,W4,W0,W2,U) = P(y|v0,W1,W3,W4,W0,W2)\n",
      "\n",
      "### Estimand : 2\n",
      "Estimand name: iv\n",
      "Estimand expression:\n",
      " ⎡                              -1⎤\n",
      " ⎢    d        ⎛    d          ⎞  ⎥\n",
      "E⎢─────────(y)⋅⎜─────────([v₀])⎟  ⎥\n",
      " ⎣d[Z₀  Z₁]    ⎝d[Z₀  Z₁]      ⎠  ⎦\n",
      "Estimand assumption 1, As-if-random: If U→→y then ¬(U →→{Z0,Z1})\n",
      "Estimand assumption 2, Exclusion: If we remove {Z0,Z1}→{v0}, then ¬({Z0,Z1}→y)\n",
      "\n",
      "### Estimand : 3\n",
      "Estimand name: frontdoor\n",
      "No such variable(s) found!\n",
      "\n"
     ]
    }
   ],
   "source": [
    "identified_estimand = model.identify_effect(proceed_when_unidentifiable=True)\n",
    "print(identified_estimand)"
   ]
  },
  {
   "cell_type": "markdown",
   "id": "a7d905c7",
   "metadata": {},
   "source": [
    "## Method 1: Propensity Score Stratification\n",
    "\n",
    "We will be using propensity scores to stratify units in the data."
   ]
  },
  {
   "cell_type": "code",
   "execution_count": 8,
   "id": "f0509166",
   "metadata": {
    "execution": {
     "iopub.execute_input": "2023-03-16T13:45:50.811982Z",
     "iopub.status.busy": "2023-03-16T13:45:50.811648Z",
     "iopub.status.idle": "2023-03-16T13:45:51.611156Z",
     "shell.execute_reply": "2023-03-16T13:45:51.610334Z"
    }
   },
   "outputs": [
    {
     "name": "stdout",
     "output_type": "stream",
     "text": [
      "*** Causal Estimate ***\n",
      "\n",
      "## Identified estimand\n",
      "Estimand type: EstimandType.NONPARAMETRIC_ATE\n",
      "\n",
      "### Estimand : 1\n",
      "Estimand name: backdoor\n",
      "Estimand expression:\n",
      "  d                       \n",
      "─────(E[y|W1,W3,W4,W0,W2])\n",
      "d[v₀]                     \n",
      "Estimand assumption 1, Unconfoundedness: If U→{v0} and U→y then P(y|v0,W1,W3,W4,W0,W2,U) = P(y|v0,W1,W3,W4,W0,W2)\n",
      "\n",
      "## Realized estimand\n",
      "b: y~v0+W1+W3+W4+W0+W2\n",
      "Target units: att\n",
      "\n",
      "## Estimate\n",
      "Mean value: 1.0020442037671786\n",
      "\n",
      "Causal Estimate is 1.0020442037671786\n"
     ]
    }
   ],
   "source": [
    "causal_estimate_strat = model.estimate_effect(identified_estimand,\n",
    "                                              method_name=\"backdoor.propensity_score_stratification\",\n",
    "                                              target_units=\"att\")\n",
    "print(causal_estimate_strat)\n",
    "print(\"Causal Estimate is \" + str(causal_estimate_strat.value))"
   ]
  },
  {
   "cell_type": "markdown",
   "id": "4bd686e2",
   "metadata": {},
   "source": [
    "### Textual Interpreter\n",
    "\n",
    "The textual Interpreter describes (in words) the effect of unit change in the treatment variable on the outcome variable."
   ]
  },
  {
   "cell_type": "code",
   "execution_count": 9,
   "id": "5add9653",
   "metadata": {
    "execution": {
     "iopub.execute_input": "2023-03-16T13:45:51.614406Z",
     "iopub.status.busy": "2023-03-16T13:45:51.614019Z",
     "iopub.status.idle": "2023-03-16T13:45:51.647359Z",
     "shell.execute_reply": "2023-03-16T13:45:51.646680Z"
    }
   },
   "outputs": [
    {
     "name": "stdout",
     "output_type": "stream",
     "text": [
      "Increasing the treatment variable(s) [v0] from 0 to 1 causes an increase of 1.0020442037671786 in the expected value of the outcome [['y']], over the data distribution/population represented by the dataset.\n"
     ]
    }
   ],
   "source": [
    "# Textual Interpreter\n",
    "interpretation = causal_estimate_strat.interpret(method_name=\"textual_effect_interpreter\")"
   ]
  },
  {
   "cell_type": "markdown",
   "id": "9d324286",
   "metadata": {},
   "source": [
    "### Visual Interpreter\n",
    "\n",
    "The visual interpreter plots the change in the standardized mean difference (SMD) before and after Propensity Score based adjustment of the dataset. The formula for SMD is given below.\n",
    "\n",
    "\n",
    "$SMD = \\frac{\\bar X_{1} - \\bar X_{2}}{\\sqrt{(S_{1}^{2} + S_{2}^{2})/2}}$\n",
    "\n",
    "Here, $\\bar X_{1}$ and $\\bar X_{2}$ are the sample mean for the treated and control groups.\n"
   ]
  },
  {
   "cell_type": "code",
   "execution_count": 10,
   "id": "0bb49682",
   "metadata": {
    "execution": {
     "iopub.execute_input": "2023-03-16T13:45:51.650246Z",
     "iopub.status.busy": "2023-03-16T13:45:51.649886Z",
     "iopub.status.idle": "2023-03-16T13:45:52.279679Z",
     "shell.execute_reply": "2023-03-16T13:45:52.278993Z"
    }
   },
   "outputs": [
    {
     "data": {
      "image/png": "[encoded data removed]",
      "text/plain": [
       "<Figure size 640x480 with 1 Axes>"
      ]
     },
     "metadata": {},
     "output_type": "display_data"
    }
   ],
   "source": [
    "# Visual Interpreter\n",
    "interpretation = causal_estimate_strat.interpret(method_name=\"propensity_balance_interpreter\")"
   ]
  },
  {
   "cell_type": "markdown",
   "id": "5da97878",
   "metadata": {},
   "source": [
    "This plot shows how the SMD decreases from the unadjusted to the stratified units. "
   ]
  },
  {
   "cell_type": "markdown",
   "id": "df1855e0",
   "metadata": {},
   "source": [
    "## Method 2: Propensity Score Matching\n",
    "\n",
    "We will be using propensity scores to match units in the data."
   ]
  },
  {
   "cell_type": "code",
   "execution_count": 11,
   "id": "b5692185",
   "metadata": {
    "execution": {
     "iopub.execute_input": "2023-03-16T13:45:52.283008Z",
     "iopub.status.busy": "2023-03-16T13:45:52.282764Z",
     "iopub.status.idle": "2023-03-16T13:45:56.622317Z",
     "shell.execute_reply": "2023-03-16T13:45:56.621632Z"
    }
   },
   "outputs": [
    {
     "name": "stdout",
     "output_type": "stream",
     "text": [
      "*** Causal Estimate ***\n",
      "\n",
      "## Identified estimand\n",
      "Estimand type: EstimandType.NONPARAMETRIC_ATE\n",
      "\n",
      "### Estimand : 1\n",
      "Estimand name: backdoor\n",
      "Estimand expression:\n",
      "  d                       \n",
      "─────(E[y|W1,W3,W4,W0,W2])\n",
      "d[v₀]                     \n",
      "Estimand assumption 1, Unconfoundedness: If U→{v0} and U→y then P(y|v0,W1,W3,W4,W0,W2,U) = P(y|v0,W1,W3,W4,W0,W2)\n",
      "\n",
      "## Realized estimand\n",
      "b: y~v0+W1+W3+W4+W0+W2\n",
      "Target units: atc\n",
      "\n",
      "## Estimate\n",
      "Mean value: 0.9999784907175969\n",
      "\n",
      "Causal Estimate is 0.9999784907175969\n"
     ]
    }
   ],
   "source": [
    "causal_estimate_match = model.estimate_effect(identified_estimand,\n",
    "                                              method_name=\"backdoor.propensity_score_matching\",\n",
    "                                              target_units=\"atc\")\n",
    "print(causal_estimate_match)\n",
    "print(\"Causal Estimate is \" + str(causal_estimate_match.value))"
   ]
  },
  {
   "cell_type": "code",
   "execution_count": 12,
   "id": "92dc95b1",
   "metadata": {
    "execution": {
     "iopub.execute_input": "2023-03-16T13:45:56.625795Z",
     "iopub.status.busy": "2023-03-16T13:45:56.625193Z",
     "iopub.status.idle": "2023-03-16T13:45:56.655640Z",
     "shell.execute_reply": "2023-03-16T13:45:56.654762Z"
    }
   },
   "outputs": [
    {
     "name": "stdout",
     "output_type": "stream",
     "text": [
      "Increasing the treatment variable(s) [v0] from 0 to 1 causes an increase of 0.9999784907175969 in the expected value of the outcome [['y']], over the data distribution/population represented by the dataset.\n"
     ]
    }
   ],
   "source": [
    "# Textual Interpreter\n",
    "interpretation = causal_estimate_match.interpret(method_name=\"textual_effect_interpreter\")"
   ]
  },
  {
   "cell_type": "markdown",
   "id": "2904f2f1",
   "metadata": {},
   "source": [
    "Cannot use propensity balance interpretor here since the interpreter method only supports propensity score stratification estimator."
   ]
  },
  {
   "cell_type": "markdown",
   "id": "630ef3b9",
   "metadata": {},
   "source": [
    "## Method 3: Weighting\n",
    "\n",
    "We will be using (inverse) propensity scores to assign weights to units in the data. DoWhy supports a few different weighting schemes:\n",
    "1. Vanilla Inverse Propensity Score weighting (IPS) (weighting_scheme=\"ips_weight\")\n",
    "2. Self-normalized IPS weighting (also known as the Hajek estimator) (weighting_scheme=\"ips_normalized_weight\")\n",
    "3. Stabilized IPS weighting (weighting_scheme = \"ips_stabilized_weight\")"
   ]
  },
  {
   "cell_type": "code",
   "execution_count": 13,
   "id": "9ee4c69a",
   "metadata": {
    "execution": {
     "iopub.execute_input": "2023-03-16T13:45:56.658922Z",
     "iopub.status.busy": "2023-03-16T13:45:56.658575Z",
     "iopub.status.idle": "2023-03-16T13:45:56.709438Z",
     "shell.execute_reply": "2023-03-16T13:45:56.708682Z"
    }
   },
   "outputs": [
    {
     "name": "stdout",
     "output_type": "stream",
     "text": [
      "*** Causal Estimate ***\n",
      "\n",
      "## Identified estimand\n",
      "Estimand type: EstimandType.NONPARAMETRIC_ATE\n",
      "\n",
      "### Estimand : 1\n",
      "Estimand name: backdoor\n",
      "Estimand expression:\n",
      "  d                       \n",
      "─────(E[y|W1,W3,W4,W0,W2])\n",
      "d[v₀]                     \n",
      "Estimand assumption 1, Unconfoundedness: If U→{v0} and U→y then P(y|v0,W1,W3,W4,W0,W2,U) = P(y|v0,W1,W3,W4,W0,W2)\n",
      "\n",
      "## Realized estimand\n",
      "b: y~v0+W1+W3+W4+W0+W2\n",
      "Target units: ate\n",
      "\n",
      "## Estimate\n",
      "Mean value: 1.2254251474299065\n",
      "\n",
      "Causal Estimate is 1.2254251474299065\n"
     ]
    }
   ],
   "source": [
    "causal_estimate_ipw = model.estimate_effect(identified_estimand,\n",
    "                                            method_name=\"backdoor.propensity_score_weighting\",\n",
    "                                            target_units = \"ate\",\n",
    "                                            method_params={\"weighting_scheme\":\"ips_weight\"})\n",
    "print(causal_estimate_ipw)\n",
    "print(\"Causal Estimate is \" + str(causal_estimate_ipw.value))"
   ]
  },
  {
   "cell_type": "code",
   "execution_count": 14,
   "id": "7cfb36ce",
   "metadata": {
    "execution": {
     "iopub.execute_input": "2023-03-16T13:45:56.712614Z",
     "iopub.status.busy": "2023-03-16T13:45:56.712154Z",
     "iopub.status.idle": "2023-03-16T13:45:56.743863Z",
     "shell.execute_reply": "2023-03-16T13:45:56.743109Z"
    }
   },
   "outputs": [
    {
     "name": "stdout",
     "output_type": "stream",
     "text": [
      "Increasing the treatment variable(s) [v0] from 0 to 1 causes an increase of 1.2254251474299065 in the expected value of the outcome [['y']], over the data distribution/population represented by the dataset.\n"
     ]
    }
   ],
   "source": [
    "# Textual Interpreter\n",
    "interpretation = causal_estimate_ipw.interpret(method_name=\"textual_effect_interpreter\")"
   ]
  },
  {
   "cell_type": "code",
   "execution_count": 15,
   "id": "80661af0",
   "metadata": {
    "execution": {
     "iopub.execute_input": "2023-03-16T13:45:56.746987Z",
     "iopub.status.busy": "2023-03-16T13:45:56.746606Z",
     "iopub.status.idle": "2023-03-16T13:45:57.068890Z",
     "shell.execute_reply": "2023-03-16T13:45:57.067130Z"
    }
   },
   "outputs": [
    {
     "data": {
      "image/png": "[encoded data removed]",
      "text/plain": [
       "<Figure size 800x800 with 2 Axes>"
      ]
     },
     "metadata": {},
     "output_type": "display_data"
    }
   ],
   "source": [
    "interpretation = causal_estimate_ipw.interpret(method_name=\"confounder_distribution_interpreter\", fig_size=(8,8), font_size=12, var_name='W4', var_type='discrete')"
   ]
  },
  {
   "cell_type": "code",
   "execution_count": null,
   "id": "28092b38",
   "metadata": {},
   "outputs": [],
   "source": []
  }
 ],
 "metadata": {
  "kernelspec": {
   "display_name": "Python 3",
   "language": "python",
   "name": "python3"
  },
  "language_info": {
   "codemirror_mode": {
    "name": "ipython",
    "version": 3
   },
   "file_extension": ".py",
   "mimetype": "text/x-python",
   "name": "python",
   "nbconvert_exporter": "python",
   "pygments_lexer": "ipython3",
   "version": "3.8.10"
  },
  "toc": {
   "base_numbering": 1,
   "nav_menu": {},
   "number_sections": false,
   "sideBar": true,
   "skip_h1_title": true,
   "title_cell": "Table of Contents",
   "title_sidebar": "Contents",
   "toc_cell": false,
   "toc_position": {},
   "toc_section_display": true,
   "toc_window_display": false
  }
 },
 "nbformat": 4,
 "nbformat_minor": 5
}
