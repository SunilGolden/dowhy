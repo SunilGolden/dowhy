{
 "cells": [
  {
   "cell_type": "markdown",
   "id": "a19d2eba",
   "metadata": {},
   "source": [
    "# DoWhy: Interpreters for Causal Estimators\n",
    "\n",
    "This is a quick introduction to the use of interpreters in the DoWhy causal inference library.\n",
    "We will load in a sample dataset, use different methods for estimating the causal effect of a (pre-specified)treatment variable on a (pre-specified) outcome variable and demonstrate how to interpret the obtained results.\n",
    "\n",
    "First, let us add the required path for Python to find the DoWhy code and load all required packages"
   ]
  },
  {
   "cell_type": "code",
   "execution_count": 1,
   "id": "c33f75fa",
   "metadata": {
    "execution": {
     "iopub.execute_input": "2023-04-18T21:18:09.591729Z",
     "iopub.status.busy": "2023-04-18T21:18:09.591201Z",
     "iopub.status.idle": "2023-04-18T21:18:09.607157Z",
     "shell.execute_reply": "2023-04-18T21:18:09.606583Z"
    }
   },
   "outputs": [],
   "source": [
    "%load_ext autoreload\n",
    "%autoreload 2"
   ]
  },
  {
   "cell_type": "code",
   "execution_count": 2,
   "id": "94c5e4bb",
   "metadata": {
    "execution": {
     "iopub.execute_input": "2023-04-18T21:18:09.609968Z",
     "iopub.status.busy": "2023-04-18T21:18:09.609501Z",
     "iopub.status.idle": "2023-04-18T21:18:11.196295Z",
     "shell.execute_reply": "2023-04-18T21:18:11.195627Z"
    }
   },
   "outputs": [],
   "source": [
    "import numpy as np\n",
    "import pandas as pd\n",
    "import logging\n",
    "\n",
    "import dowhy\n",
    "from dowhy import CausalModel\n",
    "import dowhy.datasets "
   ]
  },
  {
   "cell_type": "markdown",
   "id": "6c2b6cf6",
   "metadata": {},
   "source": [
    "Now, let us load a dataset. For simplicity, we simulate a dataset with linear relationships between common causes and treatment, and common causes and outcome.\n",
    "\n",
    "Beta is the true causal effect."
   ]
  },
  {
   "cell_type": "code",
   "execution_count": 3,
   "id": "0ad97015",
   "metadata": {
    "execution": {
     "iopub.execute_input": "2023-04-18T21:18:11.200008Z",
     "iopub.status.busy": "2023-04-18T21:18:11.199455Z",
     "iopub.status.idle": "2023-04-18T21:18:11.475362Z",
     "shell.execute_reply": "2023-04-18T21:18:11.474503Z"
    }
   },
   "outputs": [
    {
     "name": "stdout",
     "output_type": "stream",
     "text": [
      "7292\n"
     ]
    },
    {
     "data": {
      "text/html": [
       "<div>\n",
       "<style scoped>\n",
       "    .dataframe tbody tr th:only-of-type {\n",
       "        vertical-align: middle;\n",
       "    }\n",
       "\n",
       "    .dataframe tbody tr th {\n",
       "        vertical-align: top;\n",
       "    }\n",
       "\n",
       "    .dataframe thead th {\n",
       "        text-align: right;\n",
       "    }\n",
       "</style>\n",
       "<table border=\"1\" class=\"dataframe\">\n",
       "  <thead>\n",
       "    <tr style=\"text-align: right;\">\n",
       "      <th></th>\n",
       "      <th>Z0</th>\n",
       "      <th>Z1</th>\n",
       "      <th>W0</th>\n",
       "      <th>W1</th>\n",
       "      <th>W2</th>\n",
       "      <th>W3</th>\n",
       "      <th>W4</th>\n",
       "      <th>v0</th>\n",
       "      <th>y</th>\n",
       "    </tr>\n",
       "  </thead>\n",
       "  <tbody>\n",
       "    <tr>\n",
       "      <th>0</th>\n",
       "      <td>0.0</td>\n",
       "      <td>0.996634</td>\n",
       "      <td>1.277713</td>\n",
       "      <td>0.866510</td>\n",
       "      <td>0.788029</td>\n",
       "      <td>0.187957</td>\n",
       "      <td>2</td>\n",
       "      <td>True</td>\n",
       "      <td>3.888284</td>\n",
       "    </tr>\n",
       "    <tr>\n",
       "      <th>1</th>\n",
       "      <td>0.0</td>\n",
       "      <td>0.254506</td>\n",
       "      <td>-0.252949</td>\n",
       "      <td>1.667326</td>\n",
       "      <td>-1.609339</td>\n",
       "      <td>0.924858</td>\n",
       "      <td>1</td>\n",
       "      <td>False</td>\n",
       "      <td>1.072857</td>\n",
       "    </tr>\n",
       "    <tr>\n",
       "      <th>2</th>\n",
       "      <td>1.0</td>\n",
       "      <td>0.678156</td>\n",
       "      <td>0.218202</td>\n",
       "      <td>1.520574</td>\n",
       "      <td>-1.506261</td>\n",
       "      <td>-0.286969</td>\n",
       "      <td>1</td>\n",
       "      <td>True</td>\n",
       "      <td>2.210683</td>\n",
       "    </tr>\n",
       "    <tr>\n",
       "      <th>3</th>\n",
       "      <td>0.0</td>\n",
       "      <td>0.124586</td>\n",
       "      <td>2.020079</td>\n",
       "      <td>-0.560726</td>\n",
       "      <td>-0.834756</td>\n",
       "      <td>1.288826</td>\n",
       "      <td>1</td>\n",
       "      <td>True</td>\n",
       "      <td>1.608613</td>\n",
       "    </tr>\n",
       "    <tr>\n",
       "      <th>4</th>\n",
       "      <td>0.0</td>\n",
       "      <td>0.219703</td>\n",
       "      <td>-0.204342</td>\n",
       "      <td>0.536721</td>\n",
       "      <td>-0.278461</td>\n",
       "      <td>-0.178457</td>\n",
       "      <td>1</td>\n",
       "      <td>True</td>\n",
       "      <td>1.728781</td>\n",
       "    </tr>\n",
       "    <tr>\n",
       "      <th>...</th>\n",
       "      <td>...</td>\n",
       "      <td>...</td>\n",
       "      <td>...</td>\n",
       "      <td>...</td>\n",
       "      <td>...</td>\n",
       "      <td>...</td>\n",
       "      <td>...</td>\n",
       "      <td>...</td>\n",
       "      <td>...</td>\n",
       "    </tr>\n",
       "    <tr>\n",
       "      <th>9995</th>\n",
       "      <td>0.0</td>\n",
       "      <td>0.365485</td>\n",
       "      <td>0.868821</td>\n",
       "      <td>0.610490</td>\n",
       "      <td>0.362367</td>\n",
       "      <td>-0.545548</td>\n",
       "      <td>0</td>\n",
       "      <td>True</td>\n",
       "      <td>2.206645</td>\n",
       "    </tr>\n",
       "    <tr>\n",
       "      <th>9996</th>\n",
       "      <td>0.0</td>\n",
       "      <td>0.545251</td>\n",
       "      <td>1.322419</td>\n",
       "      <td>1.375822</td>\n",
       "      <td>-0.466839</td>\n",
       "      <td>-2.417264</td>\n",
       "      <td>1</td>\n",
       "      <td>True</td>\n",
       "      <td>3.114911</td>\n",
       "    </tr>\n",
       "    <tr>\n",
       "      <th>9997</th>\n",
       "      <td>0.0</td>\n",
       "      <td>0.531783</td>\n",
       "      <td>2.444279</td>\n",
       "      <td>2.080458</td>\n",
       "      <td>1.171337</td>\n",
       "      <td>-2.138906</td>\n",
       "      <td>3</td>\n",
       "      <td>True</td>\n",
       "      <td>6.225910</td>\n",
       "    </tr>\n",
       "    <tr>\n",
       "      <th>9998</th>\n",
       "      <td>0.0</td>\n",
       "      <td>0.373372</td>\n",
       "      <td>0.525167</td>\n",
       "      <td>0.105157</td>\n",
       "      <td>0.330848</td>\n",
       "      <td>-3.307229</td>\n",
       "      <td>2</td>\n",
       "      <td>False</td>\n",
       "      <td>1.411802</td>\n",
       "    </tr>\n",
       "    <tr>\n",
       "      <th>9999</th>\n",
       "      <td>0.0</td>\n",
       "      <td>0.548085</td>\n",
       "      <td>0.507269</td>\n",
       "      <td>1.965600</td>\n",
       "      <td>1.833084</td>\n",
       "      <td>-1.739252</td>\n",
       "      <td>3</td>\n",
       "      <td>True</td>\n",
       "      <td>5.521515</td>\n",
       "    </tr>\n",
       "  </tbody>\n",
       "</table>\n",
       "<p>10000 rows × 9 columns</p>\n",
       "</div>"
      ],
      "text/plain": [
       "       Z0        Z1        W0        W1        W2        W3 W4     v0  \\\n",
       "0     0.0  0.996634  1.277713  0.866510  0.788029  0.187957  2   True   \n",
       "1     0.0  0.254506 -0.252949  1.667326 -1.609339  0.924858  1  False   \n",
       "2     1.0  0.678156  0.218202  1.520574 -1.506261 -0.286969  1   True   \n",
       "3     0.0  0.124586  2.020079 -0.560726 -0.834756  1.288826  1   True   \n",
       "4     0.0  0.219703 -0.204342  0.536721 -0.278461 -0.178457  1   True   \n",
       "...   ...       ...       ...       ...       ...       ... ..    ...   \n",
       "9995  0.0  0.365485  0.868821  0.610490  0.362367 -0.545548  0   True   \n",
       "9996  0.0  0.545251  1.322419  1.375822 -0.466839 -2.417264  1   True   \n",
       "9997  0.0  0.531783  2.444279  2.080458  1.171337 -2.138906  3   True   \n",
       "9998  0.0  0.373372  0.525167  0.105157  0.330848 -3.307229  2  False   \n",
       "9999  0.0  0.548085  0.507269  1.965600  1.833084 -1.739252  3   True   \n",
       "\n",
       "             y  \n",
       "0     3.888284  \n",
       "1     1.072857  \n",
       "2     2.210683  \n",
       "3     1.608613  \n",
       "4     1.728781  \n",
       "...        ...  \n",
       "9995  2.206645  \n",
       "9996  3.114911  \n",
       "9997  6.225910  \n",
       "9998  1.411802  \n",
       "9999  5.521515  \n",
       "\n",
       "[10000 rows x 9 columns]"
      ]
     },
     "execution_count": 3,
     "metadata": {},
     "output_type": "execute_result"
    }
   ],
   "source": [
    "data = dowhy.datasets.linear_dataset(beta=1,\n",
    "        num_common_causes=5, \n",
    "        num_instruments = 2,\n",
    "        num_treatments=1,\n",
    "        num_discrete_common_causes=1,\n",
    "        num_samples=10000,\n",
    "        treatment_is_binary=True,\n",
    "        outcome_is_binary=False)\n",
    "df = data[\"df\"]\n",
    "print(df[df.v0==True].shape[0])\n",
    "df"
   ]
  },
  {
   "cell_type": "markdown",
   "id": "8fdb8e33",
   "metadata": {},
   "source": [
    "Note that we are using a pandas dataframe to load the data."
   ]
  },
  {
   "cell_type": "markdown",
   "id": "307c02c6",
   "metadata": {},
   "source": [
    "## Identifying the causal estimand"
   ]
  },
  {
   "cell_type": "markdown",
   "id": "85c76806",
   "metadata": {},
   "source": [
    "We now input a causal graph in the GML graph format."
   ]
  },
  {
   "cell_type": "code",
   "execution_count": 4,
   "id": "05c0d5ac",
   "metadata": {
    "execution": {
     "iopub.execute_input": "2023-04-18T21:18:11.478294Z",
     "iopub.status.busy": "2023-04-18T21:18:11.478016Z",
     "iopub.status.idle": "2023-04-18T21:18:11.507230Z",
     "shell.execute_reply": "2023-04-18T21:18:11.506592Z"
    }
   },
   "outputs": [],
   "source": [
    "# With graph\n",
    "model=CausalModel(\n",
    "        data = df,\n",
    "        treatment=data[\"treatment_name\"],\n",
    "        outcome=data[\"outcome_name\"],\n",
    "        graph=data[\"gml_graph\"],\n",
    "        instruments=data[\"instrument_names\"]\n",
    "        )"
   ]
  },
  {
   "cell_type": "code",
   "execution_count": 5,
   "id": "934fd1c6",
   "metadata": {
    "execution": {
     "iopub.execute_input": "2023-04-18T21:18:11.510149Z",
     "iopub.status.busy": "2023-04-18T21:18:11.509939Z",
     "iopub.status.idle": "2023-04-18T21:18:11.567392Z",
     "shell.execute_reply": "2023-04-18T21:18:11.566762Z"
    }
   },
   "outputs": [],
   "source": [
    "model.view_model()"
   ]
  },
  {
   "cell_type": "code",
   "execution_count": 6,
   "id": "a46a5f20",
   "metadata": {
    "execution": {
     "iopub.execute_input": "2023-04-18T21:18:11.570823Z",
     "iopub.status.busy": "2023-04-18T21:18:11.570272Z",
     "iopub.status.idle": "2023-04-18T21:18:11.598745Z",
     "shell.execute_reply": "2023-04-18T21:18:11.598099Z"
    }
   },
   "outputs": [
    {
     "data": {
      "image/png": "[encoded data removed]",
      "text/plain": [
       "<IPython.core.display.Image object>"
      ]
     },
     "metadata": {},
     "output_type": "display_data"
    }
   ],
   "source": [
    "from IPython.display import Image, display\n",
    "display(Image(filename=\"causal_model.png\"))"
   ]
  },
  {
   "cell_type": "markdown",
   "id": "9f554a3c",
   "metadata": {},
   "source": [
    "We get a causal graph. Now identification and estimation is done."
   ]
  },
  {
   "cell_type": "code",
   "execution_count": 7,
   "id": "0511cadc",
   "metadata": {
    "execution": {
     "iopub.execute_input": "2023-04-18T21:18:11.602094Z",
     "iopub.status.busy": "2023-04-18T21:18:11.601716Z",
     "iopub.status.idle": "2023-04-18T21:18:11.909804Z",
     "shell.execute_reply": "2023-04-18T21:18:11.909237Z"
    }
   },
   "outputs": [
    {
     "name": "stdout",
     "output_type": "stream",
     "text": [
      "Estimand type: EstimandType.NONPARAMETRIC_ATE\n",
      "\n",
      "### Estimand : 1\n",
      "Estimand name: backdoor\n",
      "Estimand expression:\n",
      "  d                       \n",
      "─────(E[y|W4,W3,W0,W1,W2])\n",
      "d[v₀]                     \n",
      "Estimand assumption 1, Unconfoundedness: If U→{v0} and U→y then P(y|v0,W4,W3,W0,W1,W2,U) = P(y|v0,W4,W3,W0,W1,W2)\n",
      "\n",
      "### Estimand : 2\n",
      "Estimand name: iv\n",
      "Estimand expression:\n",
      " ⎡                              -1⎤\n",
      " ⎢    d        ⎛    d          ⎞  ⎥\n",
      "E⎢─────────(y)⋅⎜─────────([v₀])⎟  ⎥\n",
      " ⎣d[Z₁  Z₀]    ⎝d[Z₁  Z₀]      ⎠  ⎦\n",
      "Estimand assumption 1, As-if-random: If U→→y then ¬(U →→{Z1,Z0})\n",
      "Estimand assumption 2, Exclusion: If we remove {Z1,Z0}→{v0}, then ¬({Z1,Z0}→y)\n",
      "\n",
      "### Estimand : 3\n",
      "Estimand name: frontdoor\n",
      "No such variable(s) found!\n",
      "\n"
     ]
    }
   ],
   "source": [
    "identified_estimand = model.identify_effect(proceed_when_unidentifiable=True)\n",
    "print(identified_estimand)"
   ]
  },
  {
   "cell_type": "markdown",
   "id": "c8734dda",
   "metadata": {},
   "source": [
    "## Method 1: Propensity Score Stratification\n",
    "\n",
    "We will be using propensity scores to stratify units in the data."
   ]
  },
  {
   "cell_type": "code",
   "execution_count": 8,
   "id": "41e6b2c5",
   "metadata": {
    "execution": {
     "iopub.execute_input": "2023-04-18T21:18:11.912685Z",
     "iopub.status.busy": "2023-04-18T21:18:11.912344Z",
     "iopub.status.idle": "2023-04-18T21:18:12.487084Z",
     "shell.execute_reply": "2023-04-18T21:18:12.486250Z"
    }
   },
   "outputs": [
    {
     "name": "stdout",
     "output_type": "stream",
     "text": [
      "*** Causal Estimate ***\n",
      "\n",
      "## Identified estimand\n",
      "Estimand type: EstimandType.NONPARAMETRIC_ATE\n",
      "\n",
      "### Estimand : 1\n",
      "Estimand name: backdoor\n",
      "Estimand expression:\n",
      "  d                       \n",
      "─────(E[y|W4,W3,W0,W1,W2])\n",
      "d[v₀]                     \n",
      "Estimand assumption 1, Unconfoundedness: If U→{v0} and U→y then P(y|v0,W4,W3,W0,W1,W2,U) = P(y|v0,W4,W3,W0,W1,W2)\n",
      "\n",
      "## Realized estimand\n",
      "b: y~v0+W4+W3+W0+W1+W2\n",
      "Target units: att\n",
      "\n",
      "## Estimate\n",
      "Mean value: 0.9520434372825001\n",
      "\n",
      "Causal Estimate is 0.9520434372825001\n"
     ]
    }
   ],
   "source": [
    "causal_estimate_strat = model.estimate_effect(identified_estimand,\n",
    "                                              method_name=\"backdoor.propensity_score_stratification\",\n",
    "                                              target_units=\"att\")\n",
    "print(causal_estimate_strat)\n",
    "print(\"Causal Estimate is \" + str(causal_estimate_strat.value))"
   ]
  },
  {
   "cell_type": "markdown",
   "id": "95d6c53f",
   "metadata": {},
   "source": [
    "### Textual Interpreter\n",
    "\n",
    "The textual Interpreter describes (in words) the effect of unit change in the treatment variable on the outcome variable."
   ]
  },
  {
   "cell_type": "code",
   "execution_count": 9,
   "id": "edce4a56",
   "metadata": {
    "execution": {
     "iopub.execute_input": "2023-04-18T21:18:12.490020Z",
     "iopub.status.busy": "2023-04-18T21:18:12.489446Z",
     "iopub.status.idle": "2023-04-18T21:18:12.519586Z",
     "shell.execute_reply": "2023-04-18T21:18:12.518986Z"
    }
   },
   "outputs": [
    {
     "name": "stdout",
     "output_type": "stream",
     "text": [
      "Increasing the treatment variable(s) [v0] from 0 to 1 causes an increase of 0.9520434372825001 in the expected value of the outcome [['y']], over the data distribution/population represented by the dataset.\n"
     ]
    }
   ],
   "source": [
    "# Textual Interpreter\n",
    "interpretation = causal_estimate_strat.interpret(method_name=\"textual_effect_interpreter\")"
   ]
  },
  {
   "cell_type": "markdown",
   "id": "573b7f5c",
   "metadata": {},
   "source": [
    "### Visual Interpreter\n",
    "\n",
    "The visual interpreter plots the change in the standardized mean difference (SMD) before and after Propensity Score based adjustment of the dataset. The formula for SMD is given below.\n",
    "\n",
    "\n",
    "$SMD = \\frac{\\bar X_{1} - \\bar X_{2}}{\\sqrt{(S_{1}^{2} + S_{2}^{2})/2}}$\n",
    "\n",
    "Here, $\\bar X_{1}$ and $\\bar X_{2}$ are the sample mean for the treated and control groups.\n"
   ]
  },
  {
   "cell_type": "code",
   "execution_count": 10,
   "id": "96bf3a01",
   "metadata": {
    "execution": {
     "iopub.execute_input": "2023-04-18T21:18:12.522552Z",
     "iopub.status.busy": "2023-04-18T21:18:12.522130Z",
     "iopub.status.idle": "2023-04-18T21:18:13.312405Z",
     "shell.execute_reply": "2023-04-18T21:18:13.311789Z"
    }
   },
   "outputs": [
    {
     "data": {
      "image/png": "[encoded data removed]",
      "text/plain": [
       "<Figure size 640x480 with 1 Axes>"
      ]
     },
     "metadata": {},
     "output_type": "display_data"
    }
   ],
   "source": [
    "# Visual Interpreter\n",
    "interpretation = causal_estimate_strat.interpret(method_name=\"propensity_balance_interpreter\")"
   ]
  },
  {
   "cell_type": "markdown",
   "id": "8263c3b6",
   "metadata": {},
   "source": [
    "This plot shows how the SMD decreases from the unadjusted to the stratified units. "
   ]
  },
  {
   "cell_type": "markdown",
   "id": "2477dbc0",
   "metadata": {},
   "source": [
    "## Method 2: Propensity Score Matching\n",
    "\n",
    "We will be using propensity scores to match units in the data."
   ]
  },
  {
   "cell_type": "code",
   "execution_count": 11,
   "id": "ba61c224",
   "metadata": {
    "execution": {
     "iopub.execute_input": "2023-04-18T21:18:13.315285Z",
     "iopub.status.busy": "2023-04-18T21:18:13.315056Z",
     "iopub.status.idle": "2023-04-18T21:18:16.516980Z",
     "shell.execute_reply": "2023-04-18T21:18:16.516434Z"
    }
   },
   "outputs": [
    {
     "name": "stdout",
     "output_type": "stream",
     "text": [
      "*** Causal Estimate ***\n",
      "\n",
      "## Identified estimand\n",
      "Estimand type: EstimandType.NONPARAMETRIC_ATE\n",
      "\n",
      "### Estimand : 1\n",
      "Estimand name: backdoor\n",
      "Estimand expression:\n",
      "  d                       \n",
      "─────(E[y|W4,W3,W0,W1,W2])\n",
      "d[v₀]                     \n",
      "Estimand assumption 1, Unconfoundedness: If U→{v0} and U→y then P(y|v0,W4,W3,W0,W1,W2,U) = P(y|v0,W4,W3,W0,W1,W2)\n",
      "\n",
      "## Realized estimand\n",
      "b: y~v0+W4+W3+W0+W1+W2\n",
      "Target units: atc\n",
      "\n",
      "## Estimate\n",
      "Mean value: 1.0393672311566564\n",
      "\n",
      "Causal Estimate is 1.0393672311566564\n"
     ]
    }
   ],
   "source": [
    "causal_estimate_match = model.estimate_effect(identified_estimand,\n",
    "                                              method_name=\"backdoor.propensity_score_matching\",\n",
    "                                              target_units=\"atc\")\n",
    "print(causal_estimate_match)\n",
    "print(\"Causal Estimate is \" + str(causal_estimate_match.value))"
   ]
  },
  {
   "cell_type": "code",
   "execution_count": 12,
   "id": "d50349c7",
   "metadata": {
    "execution": {
     "iopub.execute_input": "2023-04-18T21:18:16.519823Z",
     "iopub.status.busy": "2023-04-18T21:18:16.519491Z",
     "iopub.status.idle": "2023-04-18T21:18:16.549498Z",
     "shell.execute_reply": "2023-04-18T21:18:16.548863Z"
    }
   },
   "outputs": [
    {
     "name": "stdout",
     "output_type": "stream",
     "text": [
      "Increasing the treatment variable(s) [v0] from 0 to 1 causes an increase of 1.0393672311566564 in the expected value of the outcome [['y']], over the data distribution/population represented by the dataset.\n"
     ]
    }
   ],
   "source": [
    "# Textual Interpreter\n",
    "interpretation = causal_estimate_match.interpret(method_name=\"textual_effect_interpreter\")"
   ]
  },
  {
   "cell_type": "markdown",
   "id": "92da028b",
   "metadata": {},
   "source": [
    "Cannot use propensity balance interpretor here since the interpreter method only supports propensity score stratification estimator."
   ]
  },
  {
   "cell_type": "markdown",
   "id": "782ad190",
   "metadata": {},
   "source": [
    "## Method 3: Weighting\n",
    "\n",
    "We will be using (inverse) propensity scores to assign weights to units in the data. DoWhy supports a few different weighting schemes:\n",
    "1. Vanilla Inverse Propensity Score weighting (IPS) (weighting_scheme=\"ips_weight\")\n",
    "2. Self-normalized IPS weighting (also known as the Hajek estimator) (weighting_scheme=\"ips_normalized_weight\")\n",
    "3. Stabilized IPS weighting (weighting_scheme = \"ips_stabilized_weight\")"
   ]
  },
  {
   "cell_type": "code",
   "execution_count": 13,
   "id": "33526546",
   "metadata": {
    "execution": {
     "iopub.execute_input": "2023-04-18T21:18:16.552389Z",
     "iopub.status.busy": "2023-04-18T21:18:16.551840Z",
     "iopub.status.idle": "2023-04-18T21:18:16.599793Z",
     "shell.execute_reply": "2023-04-18T21:18:16.599115Z"
    }
   },
   "outputs": [
    {
     "name": "stdout",
     "output_type": "stream",
     "text": [
      "*** Causal Estimate ***\n",
      "\n",
      "## Identified estimand\n",
      "Estimand type: EstimandType.NONPARAMETRIC_ATE\n",
      "\n",
      "### Estimand : 1\n",
      "Estimand name: backdoor\n",
      "Estimand expression:\n",
      "  d                       \n",
      "─────(E[y|W4,W3,W0,W1,W2])\n",
      "d[v₀]                     \n",
      "Estimand assumption 1, Unconfoundedness: If U→{v0} and U→y then P(y|v0,W4,W3,W0,W1,W2,U) = P(y|v0,W4,W3,W0,W1,W2)\n",
      "\n",
      "## Realized estimand\n",
      "b: y~v0+W4+W3+W0+W1+W2\n",
      "Target units: ate\n",
      "\n",
      "## Estimate\n",
      "Mean value: 1.0524509164530795\n",
      "\n",
      "Causal Estimate is 1.0524509164530795\n"
     ]
    }
   ],
   "source": [
    "causal_estimate_ipw = model.estimate_effect(identified_estimand,\n",
    "                                            method_name=\"backdoor.propensity_score_weighting\",\n",
    "                                            target_units = \"ate\",\n",
    "                                            method_params={\"weighting_scheme\":\"ips_weight\"})\n",
    "print(causal_estimate_ipw)\n",
    "print(\"Causal Estimate is \" + str(causal_estimate_ipw.value))"
   ]
  },
  {
   "cell_type": "code",
   "execution_count": 14,
   "id": "f48ae567",
   "metadata": {
    "execution": {
     "iopub.execute_input": "2023-04-18T21:18:16.602559Z",
     "iopub.status.busy": "2023-04-18T21:18:16.602205Z",
     "iopub.status.idle": "2023-04-18T21:18:16.632542Z",
     "shell.execute_reply": "2023-04-18T21:18:16.631870Z"
    }
   },
   "outputs": [
    {
     "name": "stdout",
     "output_type": "stream",
     "text": [
      "Increasing the treatment variable(s) [v0] from 0 to 1 causes an increase of 1.0524509164530795 in the expected value of the outcome [['y']], over the data distribution/population represented by the dataset.\n"
     ]
    }
   ],
   "source": [
    "# Textual Interpreter\n",
    "interpretation = causal_estimate_ipw.interpret(method_name=\"textual_effect_interpreter\")"
   ]
  },
  {
   "cell_type": "code",
   "execution_count": 15,
   "id": "f640b284",
   "metadata": {
    "execution": {
     "iopub.execute_input": "2023-04-18T21:18:16.635287Z",
     "iopub.status.busy": "2023-04-18T21:18:16.634938Z",
     "iopub.status.idle": "2023-04-18T21:18:16.950117Z",
     "shell.execute_reply": "2023-04-18T21:18:16.949500Z"
    }
   },
   "outputs": [
    {
     "data": {
      "image/png": "[encoded data removed]",
      "text/plain": [
       "<Figure size 800x800 with 2 Axes>"
      ]
     },
     "metadata": {},
     "output_type": "display_data"
    }
   ],
   "source": [
    "interpretation = causal_estimate_ipw.interpret(method_name=\"confounder_distribution_interpreter\", fig_size=(8,8), font_size=12, var_name='W4', var_type='discrete')"
   ]
  },
  {
   "cell_type": "code",
   "execution_count": null,
   "id": "e7b79610",
   "metadata": {},
   "outputs": [],
   "source": []
  }
 ],
 "metadata": {
  "kernelspec": {
   "display_name": "Python 3",
   "language": "python",
   "name": "python3"
  },
  "language_info": {
   "codemirror_mode": {
    "name": "ipython",
    "version": 3
   },
   "file_extension": ".py",
   "mimetype": "text/x-python",
   "name": "python",
   "nbconvert_exporter": "python",
   "pygments_lexer": "ipython3",
   "version": "3.8.10"
  },
  "toc": {
   "base_numbering": 1,
   "nav_menu": {},
   "number_sections": false,
   "sideBar": true,
   "skip_h1_title": true,
   "title_cell": "Table of Contents",
   "title_sidebar": "Contents",
   "toc_cell": false,
   "toc_position": {},
   "toc_section_display": true,
   "toc_window_display": false
  }
 },
 "nbformat": 4,
 "nbformat_minor": 5
}
