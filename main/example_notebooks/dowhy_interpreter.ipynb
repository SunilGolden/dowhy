{
 "cells": [
  {
   "cell_type": "markdown",
   "id": "ce636f1e",
   "metadata": {},
   "source": [
    "# DoWhy: Interpreters for Causal Estimators\n",
    "\n",
    "This is a quick introduction to the use of interpreters in the DoWhy causal inference library.\n",
    "We will load in a sample dataset, use different methods for estimating the causal effect of a (pre-specified)treatment variable on a (pre-specified) outcome variable and demonstrate how to interpret the obtained results.\n",
    "\n",
    "First, let us add the required path for Python to find the DoWhy code and load all required packages"
   ]
  },
  {
   "cell_type": "code",
   "execution_count": 1,
   "id": "bb2ef22d",
   "metadata": {
    "execution": {
     "iopub.execute_input": "2023-03-07T16:39:23.331097Z",
     "iopub.status.busy": "2023-03-07T16:39:23.330831Z",
     "iopub.status.idle": "2023-03-07T16:39:23.347595Z",
     "shell.execute_reply": "2023-03-07T16:39:23.346987Z"
    }
   },
   "outputs": [],
   "source": [
    "%load_ext autoreload\n",
    "%autoreload 2"
   ]
  },
  {
   "cell_type": "code",
   "execution_count": 2,
   "id": "2d20e9d5",
   "metadata": {
    "execution": {
     "iopub.execute_input": "2023-03-07T16:39:23.350867Z",
     "iopub.status.busy": "2023-03-07T16:39:23.350419Z",
     "iopub.status.idle": "2023-03-07T16:39:25.122636Z",
     "shell.execute_reply": "2023-03-07T16:39:25.121836Z"
    }
   },
   "outputs": [],
   "source": [
    "import numpy as np\n",
    "import pandas as pd\n",
    "import logging\n",
    "\n",
    "import dowhy\n",
    "from dowhy import CausalModel\n",
    "import dowhy.datasets "
   ]
  },
  {
   "cell_type": "markdown",
   "id": "f1a67cc7",
   "metadata": {},
   "source": [
    "Now, let us load a dataset. For simplicity, we simulate a dataset with linear relationships between common causes and treatment, and common causes and outcome.\n",
    "\n",
    "Beta is the true causal effect."
   ]
  },
  {
   "cell_type": "code",
   "execution_count": 3,
   "id": "733a4c55",
   "metadata": {
    "execution": {
     "iopub.execute_input": "2023-03-07T16:39:25.126940Z",
     "iopub.status.busy": "2023-03-07T16:39:25.126173Z",
     "iopub.status.idle": "2023-03-07T16:39:25.436791Z",
     "shell.execute_reply": "2023-03-07T16:39:25.436200Z"
    }
   },
   "outputs": [
    {
     "name": "stdout",
     "output_type": "stream",
     "text": [
      "8777\n"
     ]
    },
    {
     "data": {
      "text/html": [
       "<div>\n",
       "<style scoped>\n",
       "    .dataframe tbody tr th:only-of-type {\n",
       "        vertical-align: middle;\n",
       "    }\n",
       "\n",
       "    .dataframe tbody tr th {\n",
       "        vertical-align: top;\n",
       "    }\n",
       "\n",
       "    .dataframe thead th {\n",
       "        text-align: right;\n",
       "    }\n",
       "</style>\n",
       "<table border=\"1\" class=\"dataframe\">\n",
       "  <thead>\n",
       "    <tr style=\"text-align: right;\">\n",
       "      <th></th>\n",
       "      <th>Z0</th>\n",
       "      <th>Z1</th>\n",
       "      <th>W0</th>\n",
       "      <th>W1</th>\n",
       "      <th>W2</th>\n",
       "      <th>W3</th>\n",
       "      <th>W4</th>\n",
       "      <th>v0</th>\n",
       "      <th>y</th>\n",
       "    </tr>\n",
       "  </thead>\n",
       "  <tbody>\n",
       "    <tr>\n",
       "      <th>0</th>\n",
       "      <td>1.0</td>\n",
       "      <td>0.291149</td>\n",
       "      <td>0.039727</td>\n",
       "      <td>-0.316848</td>\n",
       "      <td>-1.033586</td>\n",
       "      <td>-0.518353</td>\n",
       "      <td>1</td>\n",
       "      <td>True</td>\n",
       "      <td>0.478895</td>\n",
       "    </tr>\n",
       "    <tr>\n",
       "      <th>1</th>\n",
       "      <td>1.0</td>\n",
       "      <td>0.650892</td>\n",
       "      <td>1.862382</td>\n",
       "      <td>0.091642</td>\n",
       "      <td>-1.846023</td>\n",
       "      <td>0.738310</td>\n",
       "      <td>3</td>\n",
       "      <td>False</td>\n",
       "      <td>3.234983</td>\n",
       "    </tr>\n",
       "    <tr>\n",
       "      <th>2</th>\n",
       "      <td>0.0</td>\n",
       "      <td>0.281160</td>\n",
       "      <td>0.445162</td>\n",
       "      <td>-0.974597</td>\n",
       "      <td>-1.494799</td>\n",
       "      <td>0.232400</td>\n",
       "      <td>1</td>\n",
       "      <td>True</td>\n",
       "      <td>1.067501</td>\n",
       "    </tr>\n",
       "    <tr>\n",
       "      <th>3</th>\n",
       "      <td>1.0</td>\n",
       "      <td>0.861769</td>\n",
       "      <td>0.788416</td>\n",
       "      <td>-0.129024</td>\n",
       "      <td>-0.142257</td>\n",
       "      <td>-0.901541</td>\n",
       "      <td>3</td>\n",
       "      <td>True</td>\n",
       "      <td>3.221591</td>\n",
       "    </tr>\n",
       "    <tr>\n",
       "      <th>4</th>\n",
       "      <td>1.0</td>\n",
       "      <td>0.867974</td>\n",
       "      <td>2.023964</td>\n",
       "      <td>0.279832</td>\n",
       "      <td>0.702876</td>\n",
       "      <td>-1.398823</td>\n",
       "      <td>3</td>\n",
       "      <td>True</td>\n",
       "      <td>4.576977</td>\n",
       "    </tr>\n",
       "    <tr>\n",
       "      <th>...</th>\n",
       "      <td>...</td>\n",
       "      <td>...</td>\n",
       "      <td>...</td>\n",
       "      <td>...</td>\n",
       "      <td>...</td>\n",
       "      <td>...</td>\n",
       "      <td>...</td>\n",
       "      <td>...</td>\n",
       "      <td>...</td>\n",
       "    </tr>\n",
       "    <tr>\n",
       "      <th>9995</th>\n",
       "      <td>0.0</td>\n",
       "      <td>0.474173</td>\n",
       "      <td>0.027107</td>\n",
       "      <td>-0.646963</td>\n",
       "      <td>-1.046404</td>\n",
       "      <td>-1.034624</td>\n",
       "      <td>3</td>\n",
       "      <td>False</td>\n",
       "      <td>0.626105</td>\n",
       "    </tr>\n",
       "    <tr>\n",
       "      <th>9996</th>\n",
       "      <td>1.0</td>\n",
       "      <td>0.524576</td>\n",
       "      <td>-0.755902</td>\n",
       "      <td>-0.538765</td>\n",
       "      <td>-0.736173</td>\n",
       "      <td>0.406560</td>\n",
       "      <td>2</td>\n",
       "      <td>False</td>\n",
       "      <td>0.737233</td>\n",
       "    </tr>\n",
       "    <tr>\n",
       "      <th>9997</th>\n",
       "      <td>1.0</td>\n",
       "      <td>0.386774</td>\n",
       "      <td>0.784061</td>\n",
       "      <td>-0.527259</td>\n",
       "      <td>-2.643317</td>\n",
       "      <td>2.638924</td>\n",
       "      <td>2</td>\n",
       "      <td>True</td>\n",
       "      <td>3.520745</td>\n",
       "    </tr>\n",
       "    <tr>\n",
       "      <th>9998</th>\n",
       "      <td>1.0</td>\n",
       "      <td>0.519590</td>\n",
       "      <td>1.021263</td>\n",
       "      <td>-1.108685</td>\n",
       "      <td>-1.989300</td>\n",
       "      <td>0.530845</td>\n",
       "      <td>0</td>\n",
       "      <td>True</td>\n",
       "      <td>0.560307</td>\n",
       "    </tr>\n",
       "    <tr>\n",
       "      <th>9999</th>\n",
       "      <td>1.0</td>\n",
       "      <td>0.661823</td>\n",
       "      <td>0.787149</td>\n",
       "      <td>-1.113429</td>\n",
       "      <td>-0.656072</td>\n",
       "      <td>1.245299</td>\n",
       "      <td>1</td>\n",
       "      <td>True</td>\n",
       "      <td>3.024121</td>\n",
       "    </tr>\n",
       "  </tbody>\n",
       "</table>\n",
       "<p>10000 rows × 9 columns</p>\n",
       "</div>"
      ],
      "text/plain": [
       "       Z0        Z1        W0        W1        W2        W3 W4     v0  \\\n",
       "0     1.0  0.291149  0.039727 -0.316848 -1.033586 -0.518353  1   True   \n",
       "1     1.0  0.650892  1.862382  0.091642 -1.846023  0.738310  3  False   \n",
       "2     0.0  0.281160  0.445162 -0.974597 -1.494799  0.232400  1   True   \n",
       "3     1.0  0.861769  0.788416 -0.129024 -0.142257 -0.901541  3   True   \n",
       "4     1.0  0.867974  2.023964  0.279832  0.702876 -1.398823  3   True   \n",
       "...   ...       ...       ...       ...       ...       ... ..    ...   \n",
       "9995  0.0  0.474173  0.027107 -0.646963 -1.046404 -1.034624  3  False   \n",
       "9996  1.0  0.524576 -0.755902 -0.538765 -0.736173  0.406560  2  False   \n",
       "9997  1.0  0.386774  0.784061 -0.527259 -2.643317  2.638924  2   True   \n",
       "9998  1.0  0.519590  1.021263 -1.108685 -1.989300  0.530845  0   True   \n",
       "9999  1.0  0.661823  0.787149 -1.113429 -0.656072  1.245299  1   True   \n",
       "\n",
       "             y  \n",
       "0     0.478895  \n",
       "1     3.234983  \n",
       "2     1.067501  \n",
       "3     3.221591  \n",
       "4     4.576977  \n",
       "...        ...  \n",
       "9995  0.626105  \n",
       "9996  0.737233  \n",
       "9997  3.520745  \n",
       "9998  0.560307  \n",
       "9999  3.024121  \n",
       "\n",
       "[10000 rows x 9 columns]"
      ]
     },
     "execution_count": 3,
     "metadata": {},
     "output_type": "execute_result"
    }
   ],
   "source": [
    "data = dowhy.datasets.linear_dataset(beta=1,\n",
    "        num_common_causes=5, \n",
    "        num_instruments = 2,\n",
    "        num_treatments=1,\n",
    "        num_discrete_common_causes=1,\n",
    "        num_samples=10000,\n",
    "        treatment_is_binary=True,\n",
    "        outcome_is_binary=False)\n",
    "df = data[\"df\"]\n",
    "print(df[df.v0==True].shape[0])\n",
    "df"
   ]
  },
  {
   "cell_type": "markdown",
   "id": "ac01ad93",
   "metadata": {},
   "source": [
    "Note that we are using a pandas dataframe to load the data."
   ]
  },
  {
   "cell_type": "markdown",
   "id": "7772f3a7",
   "metadata": {},
   "source": [
    "## Identifying the causal estimand"
   ]
  },
  {
   "cell_type": "markdown",
   "id": "d2615dd3",
   "metadata": {},
   "source": [
    "We now input a causal graph in the GML graph format."
   ]
  },
  {
   "cell_type": "code",
   "execution_count": 4,
   "id": "6c2b761d",
   "metadata": {
    "execution": {
     "iopub.execute_input": "2023-03-07T16:39:25.439755Z",
     "iopub.status.busy": "2023-03-07T16:39:25.439367Z",
     "iopub.status.idle": "2023-03-07T16:39:25.470749Z",
     "shell.execute_reply": "2023-03-07T16:39:25.470042Z"
    }
   },
   "outputs": [],
   "source": [
    "# With graph\n",
    "model=CausalModel(\n",
    "        data = df,\n",
    "        treatment=data[\"treatment_name\"],\n",
    "        outcome=data[\"outcome_name\"],\n",
    "        graph=data[\"gml_graph\"],\n",
    "        instruments=data[\"instrument_names\"]\n",
    "        )"
   ]
  },
  {
   "cell_type": "code",
   "execution_count": 5,
   "id": "72a77656",
   "metadata": {
    "execution": {
     "iopub.execute_input": "2023-03-07T16:39:25.474005Z",
     "iopub.status.busy": "2023-03-07T16:39:25.473538Z",
     "iopub.status.idle": "2023-03-07T16:39:25.536289Z",
     "shell.execute_reply": "2023-03-07T16:39:25.535625Z"
    }
   },
   "outputs": [],
   "source": [
    "model.view_model()"
   ]
  },
  {
   "cell_type": "code",
   "execution_count": 6,
   "id": "113c071a",
   "metadata": {
    "execution": {
     "iopub.execute_input": "2023-03-07T16:39:25.539706Z",
     "iopub.status.busy": "2023-03-07T16:39:25.539292Z",
     "iopub.status.idle": "2023-03-07T16:39:25.570243Z",
     "shell.execute_reply": "2023-03-07T16:39:25.569435Z"
    }
   },
   "outputs": [
    {
     "data": {
      "image/png": "[encoded data removed]",
      "text/plain": [
       "<IPython.core.display.Image object>"
      ]
     },
     "metadata": {},
     "output_type": "display_data"
    }
   ],
   "source": [
    "from IPython.display import Image, display\n",
    "display(Image(filename=\"causal_model.png\"))"
   ]
  },
  {
   "cell_type": "markdown",
   "id": "ec42a200",
   "metadata": {},
   "source": [
    "We get a causal graph. Now identification and estimation is done."
   ]
  },
  {
   "cell_type": "code",
   "execution_count": 7,
   "id": "2ce66919",
   "metadata": {
    "execution": {
     "iopub.execute_input": "2023-03-07T16:39:25.574295Z",
     "iopub.status.busy": "2023-03-07T16:39:25.573846Z",
     "iopub.status.idle": "2023-03-07T16:39:25.926910Z",
     "shell.execute_reply": "2023-03-07T16:39:25.925932Z"
    }
   },
   "outputs": [
    {
     "name": "stdout",
     "output_type": "stream",
     "text": [
      "Estimand type: EstimandType.NONPARAMETRIC_ATE\n",
      "\n",
      "### Estimand : 1\n",
      "Estimand name: backdoor\n",
      "Estimand expression:\n",
      "  d                       \n",
      "─────(E[y|W4,W3,W0,W1,W2])\n",
      "d[v₀]                     \n",
      "Estimand assumption 1, Unconfoundedness: If U→{v0} and U→y then P(y|v0,W4,W3,W0,W1,W2,U) = P(y|v0,W4,W3,W0,W1,W2)\n",
      "\n",
      "### Estimand : 2\n",
      "Estimand name: iv\n",
      "Estimand expression:\n",
      " ⎡                              -1⎤\n",
      " ⎢    d        ⎛    d          ⎞  ⎥\n",
      "E⎢─────────(y)⋅⎜─────────([v₀])⎟  ⎥\n",
      " ⎣d[Z₀  Z₁]    ⎝d[Z₀  Z₁]      ⎠  ⎦\n",
      "Estimand assumption 1, As-if-random: If U→→y then ¬(U →→{Z0,Z1})\n",
      "Estimand assumption 2, Exclusion: If we remove {Z0,Z1}→{v0}, then ¬({Z0,Z1}→y)\n",
      "\n",
      "### Estimand : 3\n",
      "Estimand name: frontdoor\n",
      "No such variable(s) found!\n",
      "\n"
     ]
    }
   ],
   "source": [
    "identified_estimand = model.identify_effect(proceed_when_unidentifiable=True)\n",
    "print(identified_estimand)"
   ]
  },
  {
   "cell_type": "markdown",
   "id": "224d0046",
   "metadata": {},
   "source": [
    "## Method 1: Propensity Score Stratification\n",
    "\n",
    "We will be using propensity scores to stratify units in the data."
   ]
  },
  {
   "cell_type": "code",
   "execution_count": 8,
   "id": "6149821b",
   "metadata": {
    "execution": {
     "iopub.execute_input": "2023-03-07T16:39:25.930405Z",
     "iopub.status.busy": "2023-03-07T16:39:25.930004Z",
     "iopub.status.idle": "2023-03-07T16:39:26.706593Z",
     "shell.execute_reply": "2023-03-07T16:39:26.705702Z"
    }
   },
   "outputs": [
    {
     "name": "stdout",
     "output_type": "stream",
     "text": [
      "*** Causal Estimate ***\n",
      "\n",
      "## Identified estimand\n",
      "Estimand type: EstimandType.NONPARAMETRIC_ATE\n",
      "\n",
      "### Estimand : 1\n",
      "Estimand name: backdoor\n",
      "Estimand expression:\n",
      "  d                       \n",
      "─────(E[y|W4,W3,W0,W1,W2])\n",
      "d[v₀]                     \n",
      "Estimand assumption 1, Unconfoundedness: If U→{v0} and U→y then P(y|v0,W4,W3,W0,W1,W2,U) = P(y|v0,W4,W3,W0,W1,W2)\n",
      "\n",
      "## Realized estimand\n",
      "b: y~v0+W4+W3+W0+W1+W2\n",
      "Target units: att\n",
      "\n",
      "## Estimate\n",
      "Mean value: 0.9896165833228737\n",
      "\n",
      "Causal Estimate is 0.9896165833228737\n"
     ]
    }
   ],
   "source": [
    "causal_estimate_strat = model.estimate_effect(identified_estimand,\n",
    "                                              method_name=\"backdoor.propensity_score_stratification\",\n",
    "                                              target_units=\"att\")\n",
    "print(causal_estimate_strat)\n",
    "print(\"Causal Estimate is \" + str(causal_estimate_strat.value))"
   ]
  },
  {
   "cell_type": "markdown",
   "id": "e4fe520c",
   "metadata": {},
   "source": [
    "### Textual Interpreter\n",
    "\n",
    "The textual Interpreter describes (in words) the effect of unit change in the treatment variable on the outcome variable."
   ]
  },
  {
   "cell_type": "code",
   "execution_count": 9,
   "id": "57020c92",
   "metadata": {
    "execution": {
     "iopub.execute_input": "2023-03-07T16:39:26.710226Z",
     "iopub.status.busy": "2023-03-07T16:39:26.709748Z",
     "iopub.status.idle": "2023-03-07T16:39:26.744975Z",
     "shell.execute_reply": "2023-03-07T16:39:26.744105Z"
    }
   },
   "outputs": [
    {
     "name": "stdout",
     "output_type": "stream",
     "text": [
      "Increasing the treatment variable(s) [v0] from 0 to 1 causes an increase of 0.9896165833228737 in the expected value of the outcome [['y']], over the data distribution/population represented by the dataset.\n"
     ]
    }
   ],
   "source": [
    "# Textual Interpreter\n",
    "interpretation = causal_estimate_strat.interpret(method_name=\"textual_effect_interpreter\")"
   ]
  },
  {
   "cell_type": "markdown",
   "id": "99e895b3",
   "metadata": {},
   "source": [
    "### Visual Interpreter\n",
    "\n",
    "The visual interpreter plots the change in the standardized mean difference (SMD) before and after Propensity Score based adjustment of the dataset. The formula for SMD is given below.\n",
    "\n",
    "\n",
    "$SMD = \\frac{\\bar X_{1} - \\bar X_{2}}{\\sqrt{(S_{1}^{2} + S_{2}^{2})/2}}$\n",
    "\n",
    "Here, $\\bar X_{1}$ and $\\bar X_{2}$ are the sample mean for the treated and control groups.\n"
   ]
  },
  {
   "cell_type": "code",
   "execution_count": 10,
   "id": "fd63752e",
   "metadata": {
    "execution": {
     "iopub.execute_input": "2023-03-07T16:39:26.748636Z",
     "iopub.status.busy": "2023-03-07T16:39:26.748220Z",
     "iopub.status.idle": "2023-03-07T16:39:27.402031Z",
     "shell.execute_reply": "2023-03-07T16:39:27.401253Z"
    }
   },
   "outputs": [
    {
     "data": {
      "image/png": "[encoded data removed]",
      "text/plain": [
       "<Figure size 640x480 with 1 Axes>"
      ]
     },
     "metadata": {},
     "output_type": "display_data"
    }
   ],
   "source": [
    "# Visual Interpreter\n",
    "interpretation = causal_estimate_strat.interpret(method_name=\"propensity_balance_interpreter\")"
   ]
  },
  {
   "cell_type": "markdown",
   "id": "61d17b0b",
   "metadata": {},
   "source": [
    "This plot shows how the SMD decreases from the unadjusted to the stratified units. "
   ]
  },
  {
   "cell_type": "markdown",
   "id": "15d245c6",
   "metadata": {},
   "source": [
    "## Method 2: Propensity Score Matching\n",
    "\n",
    "We will be using propensity scores to match units in the data."
   ]
  },
  {
   "cell_type": "code",
   "execution_count": 11,
   "id": "3a396eb8",
   "metadata": {
    "execution": {
     "iopub.execute_input": "2023-03-07T16:39:27.405555Z",
     "iopub.status.busy": "2023-03-07T16:39:27.404992Z",
     "iopub.status.idle": "2023-03-07T16:39:31.730579Z",
     "shell.execute_reply": "2023-03-07T16:39:31.729869Z"
    }
   },
   "outputs": [
    {
     "name": "stdout",
     "output_type": "stream",
     "text": [
      "*** Causal Estimate ***\n",
      "\n",
      "## Identified estimand\n",
      "Estimand type: EstimandType.NONPARAMETRIC_ATE\n",
      "\n",
      "### Estimand : 1\n",
      "Estimand name: backdoor\n",
      "Estimand expression:\n",
      "  d                       \n",
      "─────(E[y|W4,W3,W0,W1,W2])\n",
      "d[v₀]                     \n",
      "Estimand assumption 1, Unconfoundedness: If U→{v0} and U→y then P(y|v0,W4,W3,W0,W1,W2,U) = P(y|v0,W4,W3,W0,W1,W2)\n",
      "\n",
      "## Realized estimand\n",
      "b: y~v0+W4+W3+W0+W1+W2\n",
      "Target units: atc\n",
      "\n",
      "## Estimate\n",
      "Mean value: 0.9338835224230346\n",
      "\n",
      "Causal Estimate is 0.9338835224230346\n"
     ]
    }
   ],
   "source": [
    "causal_estimate_match = model.estimate_effect(identified_estimand,\n",
    "                                              method_name=\"backdoor.propensity_score_matching\",\n",
    "                                              target_units=\"atc\")\n",
    "print(causal_estimate_match)\n",
    "print(\"Causal Estimate is \" + str(causal_estimate_match.value))"
   ]
  },
  {
   "cell_type": "code",
   "execution_count": 12,
   "id": "4981aced",
   "metadata": {
    "execution": {
     "iopub.execute_input": "2023-03-07T16:39:31.734186Z",
     "iopub.status.busy": "2023-03-07T16:39:31.733549Z",
     "iopub.status.idle": "2023-03-07T16:39:31.766787Z",
     "shell.execute_reply": "2023-03-07T16:39:31.765907Z"
    }
   },
   "outputs": [
    {
     "name": "stdout",
     "output_type": "stream",
     "text": [
      "Increasing the treatment variable(s) [v0] from 0 to 1 causes an increase of 0.9338835224230346 in the expected value of the outcome [['y']], over the data distribution/population represented by the dataset.\n"
     ]
    }
   ],
   "source": [
    "# Textual Interpreter\n",
    "interpretation = causal_estimate_match.interpret(method_name=\"textual_effect_interpreter\")"
   ]
  },
  {
   "cell_type": "markdown",
   "id": "80771b4b",
   "metadata": {},
   "source": [
    "Cannot use propensity balance interpretor here since the interpreter method only supports propensity score stratification estimator."
   ]
  },
  {
   "cell_type": "markdown",
   "id": "69c74318",
   "metadata": {},
   "source": [
    "## Method 3: Weighting\n",
    "\n",
    "We will be using (inverse) propensity scores to assign weights to units in the data. DoWhy supports a few different weighting schemes:\n",
    "1. Vanilla Inverse Propensity Score weighting (IPS) (weighting_scheme=\"ips_weight\")\n",
    "2. Self-normalized IPS weighting (also known as the Hajek estimator) (weighting_scheme=\"ips_normalized_weight\")\n",
    "3. Stabilized IPS weighting (weighting_scheme = \"ips_stabilized_weight\")"
   ]
  },
  {
   "cell_type": "code",
   "execution_count": 13,
   "id": "56782e04",
   "metadata": {
    "execution": {
     "iopub.execute_input": "2023-03-07T16:39:31.770179Z",
     "iopub.status.busy": "2023-03-07T16:39:31.769724Z",
     "iopub.status.idle": "2023-03-07T16:39:31.824141Z",
     "shell.execute_reply": "2023-03-07T16:39:31.823355Z"
    }
   },
   "outputs": [
    {
     "name": "stdout",
     "output_type": "stream",
     "text": [
      "*** Causal Estimate ***\n",
      "\n",
      "## Identified estimand\n",
      "Estimand type: EstimandType.NONPARAMETRIC_ATE\n",
      "\n",
      "### Estimand : 1\n",
      "Estimand name: backdoor\n",
      "Estimand expression:\n",
      "  d                       \n",
      "─────(E[y|W4,W3,W0,W1,W2])\n",
      "d[v₀]                     \n",
      "Estimand assumption 1, Unconfoundedness: If U→{v0} and U→y then P(y|v0,W4,W3,W0,W1,W2,U) = P(y|v0,W4,W3,W0,W1,W2)\n",
      "\n",
      "## Realized estimand\n",
      "b: y~v0+W4+W3+W0+W1+W2\n",
      "Target units: ate\n",
      "\n",
      "## Estimate\n",
      "Mean value: 1.2435553748813528\n",
      "\n",
      "Causal Estimate is 1.2435553748813528\n"
     ]
    }
   ],
   "source": [
    "causal_estimate_ipw = model.estimate_effect(identified_estimand,\n",
    "                                            method_name=\"backdoor.propensity_score_weighting\",\n",
    "                                            target_units = \"ate\",\n",
    "                                            method_params={\"weighting_scheme\":\"ips_weight\"})\n",
    "print(causal_estimate_ipw)\n",
    "print(\"Causal Estimate is \" + str(causal_estimate_ipw.value))"
   ]
  },
  {
   "cell_type": "code",
   "execution_count": 14,
   "id": "94603296",
   "metadata": {
    "execution": {
     "iopub.execute_input": "2023-03-07T16:39:31.827638Z",
     "iopub.status.busy": "2023-03-07T16:39:31.827214Z",
     "iopub.status.idle": "2023-03-07T16:39:31.861957Z",
     "shell.execute_reply": "2023-03-07T16:39:31.861095Z"
    }
   },
   "outputs": [
    {
     "name": "stdout",
     "output_type": "stream",
     "text": [
      "Increasing the treatment variable(s) [v0] from 0 to 1 causes an increase of 1.2435553748813528 in the expected value of the outcome [['y']], over the data distribution/population represented by the dataset.\n"
     ]
    }
   ],
   "source": [
    "# Textual Interpreter\n",
    "interpretation = causal_estimate_ipw.interpret(method_name=\"textual_effect_interpreter\")"
   ]
  },
  {
   "cell_type": "code",
   "execution_count": 15,
   "id": "21f4a2b8",
   "metadata": {
    "execution": {
     "iopub.execute_input": "2023-03-07T16:39:31.865240Z",
     "iopub.status.busy": "2023-03-07T16:39:31.864776Z",
     "iopub.status.idle": "2023-03-07T16:39:32.194556Z",
     "shell.execute_reply": "2023-03-07T16:39:32.193699Z"
    }
   },
   "outputs": [
    {
     "data": {
      "image/png": "[encoded data removed]",
      "text/plain": [
       "<Figure size 800x800 with 2 Axes>"
      ]
     },
     "metadata": {},
     "output_type": "display_data"
    }
   ],
   "source": [
    "interpretation = causal_estimate_ipw.interpret(method_name=\"confounder_distribution_interpreter\", fig_size=(8,8), font_size=12, var_name='W4', var_type='discrete')"
   ]
  },
  {
   "cell_type": "code",
   "execution_count": null,
   "id": "f0156da9",
   "metadata": {},
   "outputs": [],
   "source": []
  }
 ],
 "metadata": {
  "kernelspec": {
   "display_name": "Python 3",
   "language": "python",
   "name": "python3"
  },
  "language_info": {
   "codemirror_mode": {
    "name": "ipython",
    "version": 3
   },
   "file_extension": ".py",
   "mimetype": "text/x-python",
   "name": "python",
   "nbconvert_exporter": "python",
   "pygments_lexer": "ipython3",
   "version": "3.8.10"
  },
  "toc": {
   "base_numbering": 1,
   "nav_menu": {},
   "number_sections": false,
   "sideBar": true,
   "skip_h1_title": true,
   "title_cell": "Table of Contents",
   "title_sidebar": "Contents",
   "toc_cell": false,
   "toc_position": {},
   "toc_section_display": true,
   "toc_window_display": false
  }
 },
 "nbformat": 4,
 "nbformat_minor": 5
}
