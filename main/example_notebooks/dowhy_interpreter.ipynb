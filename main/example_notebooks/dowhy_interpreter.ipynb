{
 "cells": [
  {
   "cell_type": "markdown",
   "id": "7e3336ce",
   "metadata": {},
   "source": [
    "# DoWhy: Interpreters for Causal Estimators\n",
    "\n",
    "This is a quick introduction to the use of interpreters in the DoWhy causal inference library.\n",
    "We will load in a sample dataset, use different methods for estimating the causal effect of a (pre-specified)treatment variable on a (pre-specified) outcome variable and demonstrate how to interpret the obtained results.\n",
    "\n",
    "First, let us add the required path for Python to find the DoWhy code and load all required packages"
   ]
  },
  {
   "cell_type": "code",
   "execution_count": 1,
   "id": "b73922a4",
   "metadata": {
    "execution": {
     "iopub.execute_input": "2023-02-10T04:48:47.937347Z",
     "iopub.status.busy": "2023-02-10T04:48:47.936854Z",
     "iopub.status.idle": "2023-02-10T04:48:47.952506Z",
     "shell.execute_reply": "2023-02-10T04:48:47.951931Z"
    }
   },
   "outputs": [],
   "source": [
    "%load_ext autoreload\n",
    "%autoreload 2"
   ]
  },
  {
   "cell_type": "code",
   "execution_count": 2,
   "id": "2877ecc8",
   "metadata": {
    "execution": {
     "iopub.execute_input": "2023-02-10T04:48:47.955317Z",
     "iopub.status.busy": "2023-02-10T04:48:47.954840Z",
     "iopub.status.idle": "2023-02-10T04:48:49.546704Z",
     "shell.execute_reply": "2023-02-10T04:48:49.546056Z"
    }
   },
   "outputs": [],
   "source": [
    "import numpy as np\n",
    "import pandas as pd\n",
    "import logging\n",
    "\n",
    "import dowhy\n",
    "from dowhy import CausalModel\n",
    "import dowhy.datasets "
   ]
  },
  {
   "cell_type": "markdown",
   "id": "9493e238",
   "metadata": {},
   "source": [
    "Now, let us load a dataset. For simplicity, we simulate a dataset with linear relationships between common causes and treatment, and common causes and outcome.\n",
    "\n",
    "Beta is the true causal effect."
   ]
  },
  {
   "cell_type": "code",
   "execution_count": 3,
   "id": "2387ec92",
   "metadata": {
    "execution": {
     "iopub.execute_input": "2023-02-10T04:48:49.550635Z",
     "iopub.status.busy": "2023-02-10T04:48:49.549995Z",
     "iopub.status.idle": "2023-02-10T04:48:49.823939Z",
     "shell.execute_reply": "2023-02-10T04:48:49.823031Z"
    }
   },
   "outputs": [
    {
     "name": "stdout",
     "output_type": "stream",
     "text": [
      "9389\n"
     ]
    },
    {
     "data": {
      "text/html": [
       "<div>\n",
       "<style scoped>\n",
       "    .dataframe tbody tr th:only-of-type {\n",
       "        vertical-align: middle;\n",
       "    }\n",
       "\n",
       "    .dataframe tbody tr th {\n",
       "        vertical-align: top;\n",
       "    }\n",
       "\n",
       "    .dataframe thead th {\n",
       "        text-align: right;\n",
       "    }\n",
       "</style>\n",
       "<table border=\"1\" class=\"dataframe\">\n",
       "  <thead>\n",
       "    <tr style=\"text-align: right;\">\n",
       "      <th></th>\n",
       "      <th>Z0</th>\n",
       "      <th>Z1</th>\n",
       "      <th>W0</th>\n",
       "      <th>W1</th>\n",
       "      <th>W2</th>\n",
       "      <th>W3</th>\n",
       "      <th>W4</th>\n",
       "      <th>v0</th>\n",
       "      <th>y</th>\n",
       "    </tr>\n",
       "  </thead>\n",
       "  <tbody>\n",
       "    <tr>\n",
       "      <th>0</th>\n",
       "      <td>1.0</td>\n",
       "      <td>0.574093</td>\n",
       "      <td>-0.073003</td>\n",
       "      <td>0.213380</td>\n",
       "      <td>-0.366702</td>\n",
       "      <td>-0.183261</td>\n",
       "      <td>2</td>\n",
       "      <td>True</td>\n",
       "      <td>2.665068</td>\n",
       "    </tr>\n",
       "    <tr>\n",
       "      <th>1</th>\n",
       "      <td>1.0</td>\n",
       "      <td>0.427804</td>\n",
       "      <td>0.553686</td>\n",
       "      <td>0.901020</td>\n",
       "      <td>-0.703105</td>\n",
       "      <td>-1.139283</td>\n",
       "      <td>3</td>\n",
       "      <td>True</td>\n",
       "      <td>3.666718</td>\n",
       "    </tr>\n",
       "    <tr>\n",
       "      <th>2</th>\n",
       "      <td>1.0</td>\n",
       "      <td>0.859712</td>\n",
       "      <td>0.262749</td>\n",
       "      <td>-0.127751</td>\n",
       "      <td>-0.459325</td>\n",
       "      <td>-1.868910</td>\n",
       "      <td>3</td>\n",
       "      <td>True</td>\n",
       "      <td>2.955731</td>\n",
       "    </tr>\n",
       "    <tr>\n",
       "      <th>3</th>\n",
       "      <td>1.0</td>\n",
       "      <td>0.904596</td>\n",
       "      <td>-0.263312</td>\n",
       "      <td>2.145099</td>\n",
       "      <td>0.079056</td>\n",
       "      <td>-2.900742</td>\n",
       "      <td>1</td>\n",
       "      <td>True</td>\n",
       "      <td>1.538463</td>\n",
       "    </tr>\n",
       "    <tr>\n",
       "      <th>4</th>\n",
       "      <td>1.0</td>\n",
       "      <td>0.766792</td>\n",
       "      <td>0.515741</td>\n",
       "      <td>1.400664</td>\n",
       "      <td>-1.912063</td>\n",
       "      <td>-1.685080</td>\n",
       "      <td>3</td>\n",
       "      <td>True</td>\n",
       "      <td>3.196848</td>\n",
       "    </tr>\n",
       "    <tr>\n",
       "      <th>...</th>\n",
       "      <td>...</td>\n",
       "      <td>...</td>\n",
       "      <td>...</td>\n",
       "      <td>...</td>\n",
       "      <td>...</td>\n",
       "      <td>...</td>\n",
       "      <td>...</td>\n",
       "      <td>...</td>\n",
       "      <td>...</td>\n",
       "    </tr>\n",
       "    <tr>\n",
       "      <th>9995</th>\n",
       "      <td>1.0</td>\n",
       "      <td>0.888156</td>\n",
       "      <td>2.785363</td>\n",
       "      <td>-1.278441</td>\n",
       "      <td>1.764438</td>\n",
       "      <td>-1.108290</td>\n",
       "      <td>0</td>\n",
       "      <td>True</td>\n",
       "      <td>2.065502</td>\n",
       "    </tr>\n",
       "    <tr>\n",
       "      <th>9996</th>\n",
       "      <td>1.0</td>\n",
       "      <td>0.829368</td>\n",
       "      <td>0.049137</td>\n",
       "      <td>1.774318</td>\n",
       "      <td>-0.364787</td>\n",
       "      <td>0.334566</td>\n",
       "      <td>1</td>\n",
       "      <td>True</td>\n",
       "      <td>2.601973</td>\n",
       "    </tr>\n",
       "    <tr>\n",
       "      <th>9997</th>\n",
       "      <td>1.0</td>\n",
       "      <td>0.354223</td>\n",
       "      <td>-0.217767</td>\n",
       "      <td>0.061863</td>\n",
       "      <td>1.062538</td>\n",
       "      <td>-1.156704</td>\n",
       "      <td>1</td>\n",
       "      <td>True</td>\n",
       "      <td>1.757073</td>\n",
       "    </tr>\n",
       "    <tr>\n",
       "      <th>9998</th>\n",
       "      <td>1.0</td>\n",
       "      <td>0.861886</td>\n",
       "      <td>1.865223</td>\n",
       "      <td>-0.511540</td>\n",
       "      <td>-0.583179</td>\n",
       "      <td>-1.932189</td>\n",
       "      <td>3</td>\n",
       "      <td>False</td>\n",
       "      <td>2.512323</td>\n",
       "    </tr>\n",
       "    <tr>\n",
       "      <th>9999</th>\n",
       "      <td>1.0</td>\n",
       "      <td>0.094047</td>\n",
       "      <td>1.609867</td>\n",
       "      <td>-0.068376</td>\n",
       "      <td>-0.780805</td>\n",
       "      <td>-1.017378</td>\n",
       "      <td>2</td>\n",
       "      <td>True</td>\n",
       "      <td>2.904381</td>\n",
       "    </tr>\n",
       "  </tbody>\n",
       "</table>\n",
       "<p>10000 rows × 9 columns</p>\n",
       "</div>"
      ],
      "text/plain": [
       "       Z0        Z1        W0        W1        W2        W3 W4     v0  \\\n",
       "0     1.0  0.574093 -0.073003  0.213380 -0.366702 -0.183261  2   True   \n",
       "1     1.0  0.427804  0.553686  0.901020 -0.703105 -1.139283  3   True   \n",
       "2     1.0  0.859712  0.262749 -0.127751 -0.459325 -1.868910  3   True   \n",
       "3     1.0  0.904596 -0.263312  2.145099  0.079056 -2.900742  1   True   \n",
       "4     1.0  0.766792  0.515741  1.400664 -1.912063 -1.685080  3   True   \n",
       "...   ...       ...       ...       ...       ...       ... ..    ...   \n",
       "9995  1.0  0.888156  2.785363 -1.278441  1.764438 -1.108290  0   True   \n",
       "9996  1.0  0.829368  0.049137  1.774318 -0.364787  0.334566  1   True   \n",
       "9997  1.0  0.354223 -0.217767  0.061863  1.062538 -1.156704  1   True   \n",
       "9998  1.0  0.861886  1.865223 -0.511540 -0.583179 -1.932189  3  False   \n",
       "9999  1.0  0.094047  1.609867 -0.068376 -0.780805 -1.017378  2   True   \n",
       "\n",
       "             y  \n",
       "0     2.665068  \n",
       "1     3.666718  \n",
       "2     2.955731  \n",
       "3     1.538463  \n",
       "4     3.196848  \n",
       "...        ...  \n",
       "9995  2.065502  \n",
       "9996  2.601973  \n",
       "9997  1.757073  \n",
       "9998  2.512323  \n",
       "9999  2.904381  \n",
       "\n",
       "[10000 rows x 9 columns]"
      ]
     },
     "execution_count": 3,
     "metadata": {},
     "output_type": "execute_result"
    }
   ],
   "source": [
    "data = dowhy.datasets.linear_dataset(beta=1,\n",
    "        num_common_causes=5, \n",
    "        num_instruments = 2,\n",
    "        num_treatments=1,\n",
    "        num_discrete_common_causes=1,\n",
    "        num_samples=10000,\n",
    "        treatment_is_binary=True,\n",
    "        outcome_is_binary=False)\n",
    "df = data[\"df\"]\n",
    "print(df[df.v0==True].shape[0])\n",
    "df"
   ]
  },
  {
   "cell_type": "markdown",
   "id": "cf639310",
   "metadata": {},
   "source": [
    "Note that we are using a pandas dataframe to load the data."
   ]
  },
  {
   "cell_type": "markdown",
   "id": "c13b7160",
   "metadata": {},
   "source": [
    "## Identifying the causal estimand"
   ]
  },
  {
   "cell_type": "markdown",
   "id": "b7a9f9e2",
   "metadata": {},
   "source": [
    "We now input a causal graph in the GML graph format."
   ]
  },
  {
   "cell_type": "code",
   "execution_count": 4,
   "id": "09aadbde",
   "metadata": {
    "execution": {
     "iopub.execute_input": "2023-02-10T04:48:49.826976Z",
     "iopub.status.busy": "2023-02-10T04:48:49.826460Z",
     "iopub.status.idle": "2023-02-10T04:48:49.855789Z",
     "shell.execute_reply": "2023-02-10T04:48:49.855177Z"
    }
   },
   "outputs": [],
   "source": [
    "# With graph\n",
    "model=CausalModel(\n",
    "        data = df,\n",
    "        treatment=data[\"treatment_name\"],\n",
    "        outcome=data[\"outcome_name\"],\n",
    "        graph=data[\"gml_graph\"],\n",
    "        instruments=data[\"instrument_names\"]\n",
    "        )"
   ]
  },
  {
   "cell_type": "code",
   "execution_count": 5,
   "id": "461f91af",
   "metadata": {
    "execution": {
     "iopub.execute_input": "2023-02-10T04:48:49.858737Z",
     "iopub.status.busy": "2023-02-10T04:48:49.858402Z",
     "iopub.status.idle": "2023-02-10T04:48:49.920087Z",
     "shell.execute_reply": "2023-02-10T04:48:49.919442Z"
    }
   },
   "outputs": [],
   "source": [
    "model.view_model()"
   ]
  },
  {
   "cell_type": "code",
   "execution_count": 6,
   "id": "5cbe1fb6",
   "metadata": {
    "execution": {
     "iopub.execute_input": "2023-02-10T04:48:49.923259Z",
     "iopub.status.busy": "2023-02-10T04:48:49.922720Z",
     "iopub.status.idle": "2023-02-10T04:48:49.952781Z",
     "shell.execute_reply": "2023-02-10T04:48:49.952194Z"
    }
   },
   "outputs": [
    {
     "data": {
      "image/png": "[encoded data removed]",
      "text/plain": [
       "<IPython.core.display.Image object>"
      ]
     },
     "metadata": {},
     "output_type": "display_data"
    }
   ],
   "source": [
    "from IPython.display import Image, display\n",
    "display(Image(filename=\"causal_model.png\"))"
   ]
  },
  {
   "cell_type": "markdown",
   "id": "67ef0dda",
   "metadata": {},
   "source": [
    "We get a causal graph. Now identification and estimation is done."
   ]
  },
  {
   "cell_type": "code",
   "execution_count": 7,
   "id": "5782ba50",
   "metadata": {
    "execution": {
     "iopub.execute_input": "2023-02-10T04:48:49.955768Z",
     "iopub.status.busy": "2023-02-10T04:48:49.955438Z",
     "iopub.status.idle": "2023-02-10T04:48:50.268070Z",
     "shell.execute_reply": "2023-02-10T04:48:50.267415Z"
    }
   },
   "outputs": [
    {
     "name": "stdout",
     "output_type": "stream",
     "text": [
      "Estimand type: EstimandType.NONPARAMETRIC_ATE\n",
      "\n",
      "### Estimand : 1\n",
      "Estimand name: backdoor\n",
      "Estimand expression:\n",
      "  d                       \n",
      "─────(E[y|W4,W2,W3,W1,W0])\n",
      "d[v₀]                     \n",
      "Estimand assumption 1, Unconfoundedness: If U→{v0} and U→y then P(y|v0,W4,W2,W3,W1,W0,U) = P(y|v0,W4,W2,W3,W1,W0)\n",
      "\n",
      "### Estimand : 2\n",
      "Estimand name: iv\n",
      "Estimand expression:\n",
      " ⎡                              -1⎤\n",
      " ⎢    d        ⎛    d          ⎞  ⎥\n",
      "E⎢─────────(y)⋅⎜─────────([v₀])⎟  ⎥\n",
      " ⎣d[Z₁  Z₀]    ⎝d[Z₁  Z₀]      ⎠  ⎦\n",
      "Estimand assumption 1, As-if-random: If U→→y then ¬(U →→{Z1,Z0})\n",
      "Estimand assumption 2, Exclusion: If we remove {Z1,Z0}→{v0}, then ¬({Z1,Z0}→y)\n",
      "\n",
      "### Estimand : 3\n",
      "Estimand name: frontdoor\n",
      "No such variable(s) found!\n",
      "\n"
     ]
    }
   ],
   "source": [
    "identified_estimand = model.identify_effect(proceed_when_unidentifiable=True)\n",
    "print(identified_estimand)"
   ]
  },
  {
   "cell_type": "markdown",
   "id": "3387de3a",
   "metadata": {},
   "source": [
    "## Method 1: Propensity Score Stratification\n",
    "\n",
    "We will be using propensity scores to stratify units in the data."
   ]
  },
  {
   "cell_type": "code",
   "execution_count": 8,
   "id": "70d03eaf",
   "metadata": {
    "execution": {
     "iopub.execute_input": "2023-02-10T04:48:50.271159Z",
     "iopub.status.busy": "2023-02-10T04:48:50.270823Z",
     "iopub.status.idle": "2023-02-10T04:48:50.940017Z",
     "shell.execute_reply": "2023-02-10T04:48:50.939456Z"
    }
   },
   "outputs": [
    {
     "name": "stdout",
     "output_type": "stream",
     "text": [
      "*** Causal Estimate ***\n",
      "\n",
      "## Identified estimand\n",
      "Estimand type: EstimandType.NONPARAMETRIC_ATE\n",
      "\n",
      "### Estimand : 1\n",
      "Estimand name: backdoor\n",
      "Estimand expression:\n",
      "  d                       \n",
      "─────(E[y|W4,W2,W3,W1,W0])\n",
      "d[v₀]                     \n",
      "Estimand assumption 1, Unconfoundedness: If U→{v0} and U→y then P(y|v0,W4,W2,W3,W1,W0,U) = P(y|v0,W4,W2,W3,W1,W0)\n",
      "\n",
      "## Realized estimand\n",
      "b: y~v0+W4+W2+W3+W1+W0\n",
      "Target units: att\n",
      "\n",
      "## Estimate\n",
      "Mean value: 0.9984213815397076\n",
      "\n",
      "Causal Estimate is 0.9984213815397076\n"
     ]
    }
   ],
   "source": [
    "causal_estimate_strat = model.estimate_effect(identified_estimand,\n",
    "                                              method_name=\"backdoor.propensity_score_stratification\",\n",
    "                                              target_units=\"att\")\n",
    "print(causal_estimate_strat)\n",
    "print(\"Causal Estimate is \" + str(causal_estimate_strat.value))"
   ]
  },
  {
   "cell_type": "markdown",
   "id": "5b9e4d46",
   "metadata": {},
   "source": [
    "### Textual Interpreter\n",
    "\n",
    "The textual Interpreter describes (in words) the effect of unit change in the treatment variable on the outcome variable."
   ]
  },
  {
   "cell_type": "code",
   "execution_count": 9,
   "id": "c855b038",
   "metadata": {
    "execution": {
     "iopub.execute_input": "2023-02-10T04:48:50.943095Z",
     "iopub.status.busy": "2023-02-10T04:48:50.942596Z",
     "iopub.status.idle": "2023-02-10T04:48:50.972016Z",
     "shell.execute_reply": "2023-02-10T04:48:50.971347Z"
    }
   },
   "outputs": [
    {
     "name": "stdout",
     "output_type": "stream",
     "text": [
      "Increasing the treatment variable(s) [v0] from 0 to 1 causes an increase of 0.9984213815397076 in the expected value of the outcome [['y']], over the data distribution/population represented by the dataset.\n"
     ]
    }
   ],
   "source": [
    "# Textual Interpreter\n",
    "interpretation = causal_estimate_strat.interpret(method_name=\"textual_effect_interpreter\")"
   ]
  },
  {
   "cell_type": "markdown",
   "id": "f202d054",
   "metadata": {},
   "source": [
    "### Visual Interpreter\n",
    "\n",
    "The visual interpreter plots the change in the standardized mean difference (SMD) before and after Propensity Score based adjustment of the dataset. The formula for SMD is given below.\n",
    "\n",
    "\n",
    "$SMD = \\frac{\\bar X_{1} - \\bar X_{2}}{\\sqrt{(S_{1}^{2} + S_{2}^{2})/2}}$\n",
    "\n",
    "Here, $\\bar X_{1}$ and $\\bar X_{2}$ are the sample mean for the treated and control groups.\n"
   ]
  },
  {
   "cell_type": "code",
   "execution_count": 10,
   "id": "442cb746",
   "metadata": {
    "execution": {
     "iopub.execute_input": "2023-02-10T04:48:50.974907Z",
     "iopub.status.busy": "2023-02-10T04:48:50.974359Z",
     "iopub.status.idle": "2023-02-10T04:48:51.428920Z",
     "shell.execute_reply": "2023-02-10T04:48:51.428300Z"
    }
   },
   "outputs": [
    {
     "data": {
      "image/png": "[encoded data removed]",
      "text/plain": [
       "<Figure size 640x480 with 1 Axes>"
      ]
     },
     "metadata": {},
     "output_type": "display_data"
    }
   ],
   "source": [
    "# Visual Interpreter\n",
    "interpretation = causal_estimate_strat.interpret(method_name=\"propensity_balance_interpreter\")"
   ]
  },
  {
   "cell_type": "markdown",
   "id": "64fcd7c8",
   "metadata": {},
   "source": [
    "This plot shows how the SMD decreases from the unadjusted to the stratified units. "
   ]
  },
  {
   "cell_type": "markdown",
   "id": "1ea8ef3c",
   "metadata": {},
   "source": [
    "## Method 2: Propensity Score Matching\n",
    "\n",
    "We will be using propensity scores to match units in the data."
   ]
  },
  {
   "cell_type": "code",
   "execution_count": 11,
   "id": "6f108a69",
   "metadata": {
    "execution": {
     "iopub.execute_input": "2023-02-10T04:48:51.432995Z",
     "iopub.status.busy": "2023-02-10T04:48:51.431761Z",
     "iopub.status.idle": "2023-02-10T04:48:54.860101Z",
     "shell.execute_reply": "2023-02-10T04:48:54.859537Z"
    }
   },
   "outputs": [
    {
     "name": "stdout",
     "output_type": "stream",
     "text": [
      "*** Causal Estimate ***\n",
      "\n",
      "## Identified estimand\n",
      "Estimand type: EstimandType.NONPARAMETRIC_ATE\n",
      "\n",
      "### Estimand : 1\n",
      "Estimand name: backdoor\n",
      "Estimand expression:\n",
      "  d                       \n",
      "─────(E[y|W4,W2,W3,W1,W0])\n",
      "d[v₀]                     \n",
      "Estimand assumption 1, Unconfoundedness: If U→{v0} and U→y then P(y|v0,W4,W2,W3,W1,W0,U) = P(y|v0,W4,W2,W3,W1,W0)\n",
      "\n",
      "## Realized estimand\n",
      "b: y~v0+W4+W2+W3+W1+W0\n",
      "Target units: atc\n",
      "\n",
      "## Estimate\n",
      "Mean value: 1.0098809847186052\n",
      "\n",
      "Causal Estimate is 1.0098809847186052\n"
     ]
    }
   ],
   "source": [
    "causal_estimate_match = model.estimate_effect(identified_estimand,\n",
    "                                              method_name=\"backdoor.propensity_score_matching\",\n",
    "                                              target_units=\"atc\")\n",
    "print(causal_estimate_match)\n",
    "print(\"Causal Estimate is \" + str(causal_estimate_match.value))"
   ]
  },
  {
   "cell_type": "code",
   "execution_count": 12,
   "id": "bb67ef26",
   "metadata": {
    "execution": {
     "iopub.execute_input": "2023-02-10T04:48:54.862957Z",
     "iopub.status.busy": "2023-02-10T04:48:54.862616Z",
     "iopub.status.idle": "2023-02-10T04:48:54.892402Z",
     "shell.execute_reply": "2023-02-10T04:48:54.891770Z"
    }
   },
   "outputs": [
    {
     "name": "stdout",
     "output_type": "stream",
     "text": [
      "Increasing the treatment variable(s) [v0] from 0 to 1 causes an increase of 1.0098809847186052 in the expected value of the outcome [['y']], over the data distribution/population represented by the dataset.\n"
     ]
    }
   ],
   "source": [
    "# Textual Interpreter\n",
    "interpretation = causal_estimate_match.interpret(method_name=\"textual_effect_interpreter\")"
   ]
  },
  {
   "cell_type": "markdown",
   "id": "30892353",
   "metadata": {},
   "source": [
    "Cannot use propensity balance interpretor here since the interpreter method only supports propensity score stratification estimator."
   ]
  },
  {
   "cell_type": "markdown",
   "id": "23f6b4cd",
   "metadata": {},
   "source": [
    "## Method 3: Weighting\n",
    "\n",
    "We will be using (inverse) propensity scores to assign weights to units in the data. DoWhy supports a few different weighting schemes:\n",
    "1. Vanilla Inverse Propensity Score weighting (IPS) (weighting_scheme=\"ips_weight\")\n",
    "2. Self-normalized IPS weighting (also known as the Hajek estimator) (weighting_scheme=\"ips_normalized_weight\")\n",
    "3. Stabilized IPS weighting (weighting_scheme = \"ips_stabilized_weight\")"
   ]
  },
  {
   "cell_type": "code",
   "execution_count": 13,
   "id": "b2e425e8",
   "metadata": {
    "execution": {
     "iopub.execute_input": "2023-02-10T04:48:54.895601Z",
     "iopub.status.busy": "2023-02-10T04:48:54.895257Z",
     "iopub.status.idle": "2023-02-10T04:48:54.943380Z",
     "shell.execute_reply": "2023-02-10T04:48:54.942700Z"
    }
   },
   "outputs": [
    {
     "name": "stdout",
     "output_type": "stream",
     "text": [
      "*** Causal Estimate ***\n",
      "\n",
      "## Identified estimand\n",
      "Estimand type: EstimandType.NONPARAMETRIC_ATE\n",
      "\n",
      "### Estimand : 1\n",
      "Estimand name: backdoor\n",
      "Estimand expression:\n",
      "  d                       \n",
      "─────(E[y|W4,W2,W3,W1,W0])\n",
      "d[v₀]                     \n",
      "Estimand assumption 1, Unconfoundedness: If U→{v0} and U→y then P(y|v0,W4,W2,W3,W1,W0,U) = P(y|v0,W4,W2,W3,W1,W0)\n",
      "\n",
      "## Realized estimand\n",
      "b: y~v0+W4+W2+W3+W1+W0\n",
      "Target units: ate\n",
      "\n",
      "## Estimate\n",
      "Mean value: 1.1221002798937048\n",
      "\n",
      "Causal Estimate is 1.1221002798937048\n"
     ]
    }
   ],
   "source": [
    "causal_estimate_ipw = model.estimate_effect(identified_estimand,\n",
    "                                            method_name=\"backdoor.propensity_score_weighting\",\n",
    "                                            target_units = \"ate\",\n",
    "                                            method_params={\"weighting_scheme\":\"ips_weight\"})\n",
    "print(causal_estimate_ipw)\n",
    "print(\"Causal Estimate is \" + str(causal_estimate_ipw.value))"
   ]
  },
  {
   "cell_type": "code",
   "execution_count": 14,
   "id": "8363c16f",
   "metadata": {
    "execution": {
     "iopub.execute_input": "2023-02-10T04:48:54.946261Z",
     "iopub.status.busy": "2023-02-10T04:48:54.945921Z",
     "iopub.status.idle": "2023-02-10T04:48:54.977186Z",
     "shell.execute_reply": "2023-02-10T04:48:54.976572Z"
    }
   },
   "outputs": [
    {
     "name": "stdout",
     "output_type": "stream",
     "text": [
      "Increasing the treatment variable(s) [v0] from 0 to 1 causes an increase of 1.1221002798937048 in the expected value of the outcome [['y']], over the data distribution/population represented by the dataset.\n"
     ]
    }
   ],
   "source": [
    "# Textual Interpreter\n",
    "interpretation = causal_estimate_ipw.interpret(method_name=\"textual_effect_interpreter\")"
   ]
  },
  {
   "cell_type": "code",
   "execution_count": 15,
   "id": "368ec8bf",
   "metadata": {
    "execution": {
     "iopub.execute_input": "2023-02-10T04:48:54.980217Z",
     "iopub.status.busy": "2023-02-10T04:48:54.979861Z",
     "iopub.status.idle": "2023-02-10T04:48:55.277430Z",
     "shell.execute_reply": "2023-02-10T04:48:55.276772Z"
    }
   },
   "outputs": [
    {
     "data": {
      "image/png": "[encoded data removed]",
      "text/plain": [
       "<Figure size 800x800 with 2 Axes>"
      ]
     },
     "metadata": {},
     "output_type": "display_data"
    }
   ],
   "source": [
    "interpretation = causal_estimate_ipw.interpret(method_name=\"confounder_distribution_interpreter\", fig_size=(8,8), font_size=12, var_name='W4', var_type='discrete')"
   ]
  },
  {
   "cell_type": "code",
   "execution_count": null,
   "id": "5e470e76",
   "metadata": {},
   "outputs": [],
   "source": []
  }
 ],
 "metadata": {
  "kernelspec": {
   "display_name": "Python 3",
   "language": "python",
   "name": "python3"
  },
  "language_info": {
   "codemirror_mode": {
    "name": "ipython",
    "version": 3
   },
   "file_extension": ".py",
   "mimetype": "text/x-python",
   "name": "python",
   "nbconvert_exporter": "python",
   "pygments_lexer": "ipython3",
   "version": "3.8.10"
  },
  "toc": {
   "base_numbering": 1,
   "nav_menu": {},
   "number_sections": false,
   "sideBar": true,
   "skip_h1_title": true,
   "title_cell": "Table of Contents",
   "title_sidebar": "Contents",
   "toc_cell": false,
   "toc_position": {},
   "toc_section_display": true,
   "toc_window_display": false
  }
 },
 "nbformat": 4,
 "nbformat_minor": 5
}
